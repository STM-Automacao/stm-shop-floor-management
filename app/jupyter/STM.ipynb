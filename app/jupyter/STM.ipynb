{
 "cells": [
  {
   "cell_type": "markdown",
   "metadata": {},
   "source": [
    "# Importações\n"
   ]
  },
  {
   "cell_type": "code",
   "execution_count": 1,
   "metadata": {},
   "outputs": [],
   "source": [
    "import urllib\n",
    "from itertools import product\n",
    "from os import getenv\n",
    "from sqlalchemy import create_engine\n",
    "from dotenv import load_dotenv\n",
    "\n",
    "import numpy as np\n",
    "import pandas as pd\n",
    "from datetime import datetime, timedelta, time\n",
    "import plotly.graph_objects as go\n",
    "import plotly.express as px\n",
    "from fuzzywuzzy import process\n",
    "from enum import Enum"
   ]
  },
  {
   "cell_type": "code",
   "execution_count": 2,
   "metadata": {},
   "outputs": [],
   "source": [
    "class BSColorsEnum(Enum):\n",
    "    DANGER_COLOR = \"#dc3545\"\n",
    "    WARNING_COLOR = \"#ffc107\"\n",
    "    SUCCESS_COLOR = \"#198754\"\n",
    "    GREY_500_COLOR = \"#adb5bd\"\n",
    "    GREY_600_COLOR = \"#6c757d\"\n",
    "    GREY_700_COLOR = \"#495057\"\n",
    "    GREY_800_COLOR = \"#343a40\"\n",
    "    GREY_900_COLOR = \"#212529\"\n",
    "    PRIMARY_COLOR = \"#0d6efd\"\n",
    "    SECONDARY_COLOR = \"#6c757d\"\n",
    "    INFO_COLOR = \"#0dcaf0\"\n",
    "    GRAY_COLOR = \"#adb5bd\"\n",
    "    TEAL_COLOR = \"#20c997\"\n",
    "    ORANGE_COLOR = \"#fd7e14\"\n",
    "    INDIGO_COLOR = \"#6610f2\"\n",
    "    PINK_COLOR = \"#d63384\"\n",
    "    PURPLE_COLOR = \"#6f42c1\"\n",
    "    GREY_400_COLOR = \"#ced4da\"\n",
    "    SPACE_CADET_COLOR = \"#282f44\"\n",
    "    BLUE_DELFT_COLOR = \"#0d6efd\""
   ]
  },
  {
   "cell_type": "markdown",
   "metadata": {},
   "source": [
    "# Conexão com o banco de dados\n"
   ]
  },
  {
   "cell_type": "code",
   "execution_count": 3,
   "metadata": {},
   "outputs": [],
   "source": [
    "# database/connection.py\n",
    "\n",
    "# cSpell: disable=invalid-name\n",
    "load_dotenv()\n",
    "\n",
    "\n",
    "class Connection:\n",
    "    \"\"\"\n",
    "    Class Connection\n",
    "    \"\"\"\n",
    "\n",
    "    def __init__(self):\n",
    "        \"\"\"\n",
    "        Constructor\n",
    "\n",
    "        Args:\n",
    "            user (str): user\n",
    "            password (str): password\n",
    "            database (str): database\n",
    "            driver (str): driver\n",
    "            server (str): server\n",
    "\n",
    "        Usage:\n",
    "            >>> from connection import Connection\n",
    "            >>> connection = Connection()\n",
    "            >>> connection.get_connection()\n",
    "        \"\"\"\n",
    "        self.__user = \"bruno.thomaz\"\n",
    "        self.__password = \">gn68U@X@4o8\"\n",
    "        self.__database = \"AUTOMACAO\"\n",
    "        self.__driver = \"{ODBC Driver 17 for SQL Server}\"\n",
    "        self.__server = \"srv-sqlserver\"\n",
    "\n",
    "    def get_connection_automacao(self):\n",
    "        \"\"\"\n",
    "        Get connection\n",
    "\n",
    "        Returns:\n",
    "            object: connection\n",
    "\n",
    "        Usage:\n",
    "            >>> from connection import Connection\n",
    "            >>> connection = Connection()\n",
    "            >>> connection.get_connection()\n",
    "        \"\"\"\n",
    "        try:\n",
    "            params = urllib.parse.quote_plus(\n",
    "                f\"DRIVER={self.__driver};\"\n",
    "                f\"SERVER={self.__server};\"\n",
    "                f\"DATABASE={self.__database};\"\n",
    "                f\"UID={self.__user};\"\n",
    "                f\"PWD={self.__password};\"\n",
    "            )\n",
    "            # pylint: disable=consider-using-f-string\n",
    "            conexao_automacao = create_engine(\"mssql+pyodbc:///?odbc_connect=%s\" % params)\n",
    "            return conexao_automacao\n",
    "        # pylint: disable=broad-except\n",
    "        except Exception as error:\n",
    "            print(f\"Error: {error}\")\n",
    "            return None"
   ]
  },
  {
   "cell_type": "markdown",
   "metadata": {},
   "source": [
    "# Leitura do banco de dados\n"
   ]
  },
  {
   "cell_type": "code",
   "execution_count": 4,
   "metadata": {},
   "outputs": [],
   "source": [
    "# database/db_read.py\n",
    "\n",
    "\n",
    "# cSpell: disable=invalid-name\n",
    "class Read(Connection):\n",
    "    \"\"\"\n",
    "    Class Read\n",
    "    Read data from the database and return a pandas dataframe\n",
    "    Create query to be executed in the database\n",
    "    \"\"\"\n",
    "\n",
    "    # pylint: disable=useless-super-delegation\n",
    "    def __init__(self):\n",
    "        \"\"\"\n",
    "        Constructor\n",
    "        \"\"\"\n",
    "        super().__init__()\n",
    "\n",
    "    def get_automacao_data(self, query: str) -> pd.DataFrame:\n",
    "        \"\"\"\n",
    "        Get data from database AUTOMACAO and return a pandas dataframe.\n",
    "\n",
    "        Parameters\n",
    "        ----------\n",
    "        query : str\n",
    "            Query to be executed in the database\n",
    "\n",
    "        Returns\n",
    "        -------\n",
    "        pandas dataframe\n",
    "            Dataframe with the query result\n",
    "        \"\"\"\n",
    "        try:\n",
    "            connection = self.get_connection_automacao()\n",
    "            data = pd.read_sql(query, connection)\n",
    "            return data\n",
    "        # pylint: disable=broad-except\n",
    "        except Exception as error:\n",
    "            print(f\"Error: {error}\")\n",
    "            return None\n",
    "\n",
    "    def create_automacao_query(self, table: str, where: str = None, orderby: str = None) -> str:\n",
    "        \"\"\"\n",
    "        Create query to be executed in the database AUTOMACAO.\n",
    "\n",
    "        Parameters\n",
    "        ----------\n",
    "        table : str\n",
    "            Table name\n",
    "        where : str\n",
    "            Where clause (optional)\n",
    "        orderby : str\n",
    "            Order by clause (optional)\n",
    "\n",
    "        Returns\n",
    "        -------\n",
    "        str\n",
    "            Query to be executed in the database\n",
    "        \"\"\"\n",
    "        query = f\"SELECT * FROM AUTOMACAO.dbo.{table}\"\n",
    "\n",
    "        if where:\n",
    "            query += f\" WHERE {where}\"\n",
    "\n",
    "        if orderby:\n",
    "            query += f\" ORDER BY {orderby}\"\n",
    "\n",
    "        return query"
   ]
  },
  {
   "cell_type": "markdown",
   "metadata": {},
   "source": [
    "# Query para o banco de dados\n"
   ]
  },
  {
   "cell_type": "code",
   "execution_count": 5,
   "metadata": {},
   "outputs": [
    {
     "name": "stdout",
     "output_type": "stream",
     "text": [
      "========== Baixando dados do DB ==========\n",
      "Ok...\n"
     ]
    }
   ],
   "source": [
    "# // database/get_data.py\n",
    "# cSpell: words automacao, ocorrencia\n",
    "class GetData:\n",
    "    \"\"\"\n",
    "    Essa classe é responsável por realizar a leitura dos dados do banco de dados.\n",
    "    É utilizada para fazer a leitura em segundo plano, sem que o usuário perceba.\n",
    "    \"\"\"\n",
    "\n",
    "    def __init__(self):\n",
    "        self.db_read = Read()\n",
    "\n",
    "    def get_data(self) -> tuple:\n",
    "        \"\"\"\n",
    "        Realiza a leitura dos dados do banco de dados.\n",
    "        Retorna na ordem: df_occ, df_info, df_cadastro\n",
    "        \"\"\"\n",
    "\n",
    "        # Dia de hoje\n",
    "        now = pd.to_datetime(\"today\")\n",
    "\n",
    "        # Encontrando primeiro dia do mês atual\n",
    "        first_day = now.replace(day=1)\n",
    "\n",
    "        # Mantendo apenas a data\n",
    "        first_day = first_day.strftime(\"%Y-%m-%d\")\n",
    "\n",
    "        # Query para leitura dos dados de ocorrência\n",
    "        query_occ = self.db_read.create_automacao_query(\n",
    "            table=\"maquina_ocorrencia\",\n",
    "            where=f\"data_registro >= '{first_day}'\",\n",
    "        )\n",
    "\n",
    "        query_info = (\n",
    "            \"SELECT\"\n",
    "            \" t1.maquina_id,\"\n",
    "            \" (SELECT TOP 1 t2.linha FROM AUTOMACAO.dbo.maquina_cadastro t2\"\n",
    "            \" WHERE t2.maquina_id = t1.maquina_id AND t2.data_registro <= t1.data_registro\"\n",
    "            \" ORDER BY t2.data_registro DESC, t2.hora_registro DESC) as linha,\"\n",
    "            \" (SELECT TOP 1 t2.fabrica FROM AUTOMACAO.dbo.maquina_cadastro t2\"\n",
    "            \" WHERE t2.maquina_id = t1.maquina_id AND t2.data_registro <= t1.data_registro\"\n",
    "            \" ORDER BY t2.data_registro DESC, t2.hora_registro DESC) as fabrica,\"\n",
    "            \" t1.status,\"\n",
    "            \" t1.turno,\"\n",
    "            \" t1.contagem_total_ciclos,\"\n",
    "            \" t1.contagem_total_produzido,\"\n",
    "            \" t1.data_registro,\"\n",
    "            \" t1.hora_registro\"\n",
    "            \" FROM \"\n",
    "            \" AUTOMACAO.dbo.maquina_info t1\"\n",
    "            f\" WHERE data_registro >= '{first_day}'\"\n",
    "            \" ORDER BY t1.data_registro DESC, t1.hora_registro DESC\"\n",
    "        )\n",
    "\n",
    "        query_production = (\n",
    "            \"WITH aux AS (\"\n",
    "            \" SELECT\"\n",
    "            \" t1.maquina_id,\"\n",
    "            \" t1.turno,\"\n",
    "            \" t1.contagem_total_ciclos,\"\n",
    "            \" t1.contagem_total_produzido,\"\n",
    "            \" (SELECT TOP 1 t2.linha FROM AUTOMACAO.dbo.maquina_cadastro t2\"\n",
    "            \" WHERE t2.maquina_id = t1.maquina_id AND\"\n",
    "            \" DATEADD(minute, -1, CAST(t2.data_registro AS DATETIME) +\"\n",
    "            \" CAST(t2.hora_registro AS DATETIME)) <=\"\n",
    "            \" CAST(t1.data_registro AS DATETIME) + CAST(t1.hora_registro AS DATETIME)\"\n",
    "            \" ORDER BY t2.data_registro DESC, t2.hora_registro desc) as linha,\"\n",
    "            \" CASE\"\n",
    "            \" WHEN CAST(t1.hora_registro AS TIME) <= '00:01'\"\n",
    "            \" THEN DATEADD(day, -1, CAST(t1.data_registro AS DATETIME))\"\n",
    "            \" ELSE CAST(t1.data_registro AS DATETIME)\"\n",
    "            \" END as data_registro_aux,\"\n",
    "            \" CAST(t1.hora_registro AS TIME) as hora_registro\"\n",
    "            \" FROM\"\n",
    "            \" AUTOMACAO.dbo.maquina_info t1\"\n",
    "            \" ), aux2 AS (\"\n",
    "            \" SELECT *,\"\n",
    "            \" ROW_NUMBER() OVER (PARTITION BY maquina_id, turno, CAST(data_registro_aux AS DATE)\"\n",
    "            \" ORDER BY ABS(DATEDIFF(minute, hora_registro,\"\n",
    "            \" CASE turno WHEN 'NOT' THEN '07:59:59'\"\n",
    "            \" WHEN 'MAT' THEN '15:59:59'\"\n",
    "            \" WHEN 'VES' THEN '23:59:59' END))) as rn\"\n",
    "            \" FROM aux\"\n",
    "            \" )\"\n",
    "            \" SELECT\"\n",
    "            \" maquina_id,\"\n",
    "            \" linha,\"\n",
    "            \" turno,\"\n",
    "            \" contagem_total_ciclos as total_ciclos,\"\n",
    "            \" contagem_total_produzido as total_produzido,\"\n",
    "            \" CAST(data_registro_aux AS DATE) as data_registro,\"\n",
    "            \" hora_registro\"\n",
    "            \" FROM\"\n",
    "            \" aux2\"\n",
    "            f\" WHERE rn = 1 AND data_registro_aux >= '{first_day}'  \"\n",
    "            \" ORDER BY data_registro DESC, maquina_id, turno\"\n",
    "        )\n",
    "\n",
    "        print(\"========== Baixando dados do DB ==========\")\n",
    "\n",
    "        # Leitura dos dados\n",
    "        df_occ = self.db_read.get_automacao_data(query_occ)\n",
    "        df_info = self.db_read.get_automacao_data(query_info)\n",
    "        df_info_production = self.db_read.get_automacao_data(query_production)\n",
    "\n",
    "        # Verificando se os dados foram lidos corretamente\n",
    "        if df_occ.empty or df_info.empty or df_info_production.empty:\n",
    "            print(\"====== Erro na leitura dos dados ======\")\n",
    "            return None, None, None\n",
    "\n",
    "        print(\"Ok...\")\n",
    "\n",
    "        return df_occ, df_info, df_info_production\n",
    "\n",
    "\n",
    "get_data = GetData()\n",
    "df_occ, df_info, df_info_production = get_data.get_data()"
   ]
  },
  {
   "cell_type": "markdown",
   "metadata": {},
   "source": [
    "# Testes de saída do banco de dados\n"
   ]
  },
  {
   "cell_type": "code",
   "execution_count": 36,
   "metadata": {},
   "outputs": [
    {
     "data": {
      "text/html": [
       "<div>\n",
       "<style scoped>\n",
       "    .dataframe tbody tr th:only-of-type {\n",
       "        vertical-align: middle;\n",
       "    }\n",
       "\n",
       "    .dataframe tbody tr th {\n",
       "        vertical-align: top;\n",
       "    }\n",
       "\n",
       "    .dataframe thead th {\n",
       "        text-align: right;\n",
       "    }\n",
       "</style>\n",
       "<table border=\"1\" class=\"dataframe\">\n",
       "  <thead>\n",
       "    <tr style=\"text-align: right;\">\n",
       "      <th></th>\n",
       "      <th>recno</th>\n",
       "      <th>maquina_id</th>\n",
       "      <th>motivo_id</th>\n",
       "      <th>problema</th>\n",
       "      <th>solucao</th>\n",
       "      <th>data_registro</th>\n",
       "      <th>hora_registro</th>\n",
       "      <th>usuario_id</th>\n",
       "    </tr>\n",
       "  </thead>\n",
       "  <tbody>\n",
       "    <tr>\n",
       "      <th>0</th>\n",
       "      <td>3373</td>\n",
       "      <td>TMF005</td>\n",
       "      <td>03</td>\n",
       "      <td></td>\n",
       "      <td></td>\n",
       "      <td>2024-02-01</td>\n",
       "      <td>02:58:31</td>\n",
       "      <td>000441</td>\n",
       "    </tr>\n",
       "    <tr>\n",
       "      <th>1</th>\n",
       "      <td>3374</td>\n",
       "      <td>TMF002</td>\n",
       "      <td>03</td>\n",
       "      <td></td>\n",
       "      <td></td>\n",
       "      <td>2024-02-01</td>\n",
       "      <td>02:58:41</td>\n",
       "      <td>000441</td>\n",
       "    </tr>\n",
       "    <tr>\n",
       "      <th>2</th>\n",
       "      <td>3375</td>\n",
       "      <td>TMF015</td>\n",
       "      <td>03</td>\n",
       "      <td></td>\n",
       "      <td></td>\n",
       "      <td>2024-02-01</td>\n",
       "      <td>02:58:51</td>\n",
       "      <td>000441</td>\n",
       "    </tr>\n",
       "    <tr>\n",
       "      <th>3</th>\n",
       "      <td>3376</td>\n",
       "      <td>TMF011</td>\n",
       "      <td>03</td>\n",
       "      <td></td>\n",
       "      <td></td>\n",
       "      <td>2024-02-01</td>\n",
       "      <td>02:59:00</td>\n",
       "      <td>000441</td>\n",
       "    </tr>\n",
       "    <tr>\n",
       "      <th>4</th>\n",
       "      <td>3377</td>\n",
       "      <td>TMF014</td>\n",
       "      <td>03</td>\n",
       "      <td></td>\n",
       "      <td></td>\n",
       "      <td>2024-02-01</td>\n",
       "      <td>02:59:11</td>\n",
       "      <td>000441</td>\n",
       "    </tr>\n",
       "    <tr>\n",
       "      <th>...</th>\n",
       "      <td>...</td>\n",
       "      <td>...</td>\n",
       "      <td>...</td>\n",
       "      <td>...</td>\n",
       "      <td>...</td>\n",
       "      <td>...</td>\n",
       "      <td>...</td>\n",
       "      <td>...</td>\n",
       "    </tr>\n",
       "    <tr>\n",
       "      <th>513</th>\n",
       "      <td>3886</td>\n",
       "      <td>TMF004</td>\n",
       "      <td>16</td>\n",
       "      <td></td>\n",
       "      <td></td>\n",
       "      <td>2024-02-23</td>\n",
       "      <td>16:01:04</td>\n",
       "      <td>000939</td>\n",
       "    </tr>\n",
       "    <tr>\n",
       "      <th>514</th>\n",
       "      <td>3887</td>\n",
       "      <td>TMF009</td>\n",
       "      <td>06</td>\n",
       "      <td></td>\n",
       "      <td></td>\n",
       "      <td>2024-02-23</td>\n",
       "      <td>17:51:22</td>\n",
       "      <td>000774</td>\n",
       "    </tr>\n",
       "    <tr>\n",
       "      <th>515</th>\n",
       "      <td>3888</td>\n",
       "      <td>TMF007</td>\n",
       "      <td>06</td>\n",
       "      <td></td>\n",
       "      <td></td>\n",
       "      <td>2024-02-23</td>\n",
       "      <td>17:51:37</td>\n",
       "      <td>000774</td>\n",
       "    </tr>\n",
       "    <tr>\n",
       "      <th>516</th>\n",
       "      <td>3889</td>\n",
       "      <td>TMF012</td>\n",
       "      <td>06</td>\n",
       "      <td></td>\n",
       "      <td></td>\n",
       "      <td>2024-02-23</td>\n",
       "      <td>17:51:52</td>\n",
       "      <td>000774</td>\n",
       "    </tr>\n",
       "    <tr>\n",
       "      <th>517</th>\n",
       "      <td>3890</td>\n",
       "      <td>TMF008</td>\n",
       "      <td>06</td>\n",
       "      <td></td>\n",
       "      <td></td>\n",
       "      <td>2024-02-23</td>\n",
       "      <td>17:52:15</td>\n",
       "      <td>000774</td>\n",
       "    </tr>\n",
       "  </tbody>\n",
       "</table>\n",
       "<p>518 rows × 8 columns</p>\n",
       "</div>"
      ],
      "text/plain": [
       "     recno maquina_id motivo_id problema solucao data_registro hora_registro  \\\n",
       "0     3373     TMF005        03                     2024-02-01      02:58:31   \n",
       "1     3374     TMF002        03                     2024-02-01      02:58:41   \n",
       "2     3375     TMF015        03                     2024-02-01      02:58:51   \n",
       "3     3376     TMF011        03                     2024-02-01      02:59:00   \n",
       "4     3377     TMF014        03                     2024-02-01      02:59:11   \n",
       "..     ...        ...       ...      ...     ...           ...           ...   \n",
       "513   3886     TMF004        16                     2024-02-23      16:01:04   \n",
       "514   3887     TMF009        06                     2024-02-23      17:51:22   \n",
       "515   3888     TMF007        06                     2024-02-23      17:51:37   \n",
       "516   3889     TMF012        06                     2024-02-23      17:51:52   \n",
       "517   3890     TMF008        06                     2024-02-23      17:52:15   \n",
       "\n",
       "    usuario_id  \n",
       "0       000441  \n",
       "1       000441  \n",
       "2       000441  \n",
       "3       000441  \n",
       "4       000441  \n",
       "..         ...  \n",
       "513     000939  \n",
       "514     000774  \n",
       "515     000774  \n",
       "516     000774  \n",
       "517     000774  \n",
       "\n",
       "[518 rows x 8 columns]"
      ]
     },
     "execution_count": 36,
     "metadata": {},
     "output_type": "execute_result"
    }
   ],
   "source": [
    "df_occ"
   ]
  },
  {
   "cell_type": "code",
   "execution_count": 37,
   "metadata": {},
   "outputs": [
    {
     "data": {
      "text/html": [
       "<div>\n",
       "<style scoped>\n",
       "    .dataframe tbody tr th:only-of-type {\n",
       "        vertical-align: middle;\n",
       "    }\n",
       "\n",
       "    .dataframe tbody tr th {\n",
       "        vertical-align: top;\n",
       "    }\n",
       "\n",
       "    .dataframe thead th {\n",
       "        text-align: right;\n",
       "    }\n",
       "</style>\n",
       "<table border=\"1\" class=\"dataframe\">\n",
       "  <thead>\n",
       "    <tr style=\"text-align: right;\">\n",
       "      <th></th>\n",
       "      <th>maquina_id</th>\n",
       "      <th>linha</th>\n",
       "      <th>fabrica</th>\n",
       "      <th>status</th>\n",
       "      <th>turno</th>\n",
       "      <th>contagem_total_ciclos</th>\n",
       "      <th>contagem_total_produzido</th>\n",
       "      <th>data_registro</th>\n",
       "      <th>hora_registro</th>\n",
       "    </tr>\n",
       "  </thead>\n",
       "  <tbody>\n",
       "    <tr>\n",
       "      <th>0</th>\n",
       "      <td>TMF009</td>\n",
       "      <td>14</td>\n",
       "      <td>2</td>\n",
       "      <td>false</td>\n",
       "      <td>MAT</td>\n",
       "      <td>0.0</td>\n",
       "      <td>0.0</td>\n",
       "      <td>2024-02-24</td>\n",
       "      <td>11:08:38.226666</td>\n",
       "    </tr>\n",
       "    <tr>\n",
       "      <th>1</th>\n",
       "      <td>TMF007</td>\n",
       "      <td>13</td>\n",
       "      <td>2</td>\n",
       "      <td>false</td>\n",
       "      <td>MAT</td>\n",
       "      <td>0.0</td>\n",
       "      <td>0.0</td>\n",
       "      <td>2024-02-24</td>\n",
       "      <td>11:08:37.226666</td>\n",
       "    </tr>\n",
       "    <tr>\n",
       "      <th>2</th>\n",
       "      <td>TMF012</td>\n",
       "      <td>12</td>\n",
       "      <td>2</td>\n",
       "      <td>false</td>\n",
       "      <td>MAT</td>\n",
       "      <td>0.0</td>\n",
       "      <td>0.0</td>\n",
       "      <td>2024-02-24</td>\n",
       "      <td>11:08:36.223333</td>\n",
       "    </tr>\n",
       "    <tr>\n",
       "      <th>3</th>\n",
       "      <td>TMF013</td>\n",
       "      <td>11</td>\n",
       "      <td>2</td>\n",
       "      <td>false</td>\n",
       "      <td>MAT</td>\n",
       "      <td>0.0</td>\n",
       "      <td>0.0</td>\n",
       "      <td>2024-02-24</td>\n",
       "      <td>11:08:35.226666</td>\n",
       "    </tr>\n",
       "    <tr>\n",
       "      <th>4</th>\n",
       "      <td>TMF008</td>\n",
       "      <td>10</td>\n",
       "      <td>2</td>\n",
       "      <td>false</td>\n",
       "      <td>MAT</td>\n",
       "      <td>0.0</td>\n",
       "      <td>0.0</td>\n",
       "      <td>2024-02-24</td>\n",
       "      <td>11:08:34.223333</td>\n",
       "    </tr>\n",
       "    <tr>\n",
       "      <th>...</th>\n",
       "      <td>...</td>\n",
       "      <td>...</td>\n",
       "      <td>...</td>\n",
       "      <td>...</td>\n",
       "      <td>...</td>\n",
       "      <td>...</td>\n",
       "      <td>...</td>\n",
       "      <td>...</td>\n",
       "      <td>...</td>\n",
       "    </tr>\n",
       "    <tr>\n",
       "      <th>215083</th>\n",
       "      <td>TMF014</td>\n",
       "      <td>5</td>\n",
       "      <td>1</td>\n",
       "      <td>true</td>\n",
       "      <td>NOT</td>\n",
       "      <td>10.0</td>\n",
       "      <td>8.0</td>\n",
       "      <td>2024-02-01</td>\n",
       "      <td>00:01:34.156666</td>\n",
       "    </tr>\n",
       "    <tr>\n",
       "      <th>215084</th>\n",
       "      <td>TMF011</td>\n",
       "      <td>4</td>\n",
       "      <td>1</td>\n",
       "      <td>false</td>\n",
       "      <td>NOT</td>\n",
       "      <td>0.0</td>\n",
       "      <td>0.0</td>\n",
       "      <td>2024-02-01</td>\n",
       "      <td>00:01:33.156666</td>\n",
       "    </tr>\n",
       "    <tr>\n",
       "      <th>215085</th>\n",
       "      <td>TMF015</td>\n",
       "      <td>3</td>\n",
       "      <td>1</td>\n",
       "      <td>true</td>\n",
       "      <td>NOT</td>\n",
       "      <td>12.0</td>\n",
       "      <td>12.0</td>\n",
       "      <td>2024-02-01</td>\n",
       "      <td>00:01:32.153333</td>\n",
       "    </tr>\n",
       "    <tr>\n",
       "      <th>215086</th>\n",
       "      <td>TMF002</td>\n",
       "      <td>2</td>\n",
       "      <td>1</td>\n",
       "      <td>false</td>\n",
       "      <td>NOT</td>\n",
       "      <td>0.0</td>\n",
       "      <td>0.0</td>\n",
       "      <td>2024-02-01</td>\n",
       "      <td>00:01:31.153333</td>\n",
       "    </tr>\n",
       "    <tr>\n",
       "      <th>215087</th>\n",
       "      <td>TMF005</td>\n",
       "      <td>1</td>\n",
       "      <td>1</td>\n",
       "      <td>false</td>\n",
       "      <td>NOT</td>\n",
       "      <td>0.0</td>\n",
       "      <td>0.0</td>\n",
       "      <td>2024-02-01</td>\n",
       "      <td>00:01:30.150000</td>\n",
       "    </tr>\n",
       "  </tbody>\n",
       "</table>\n",
       "<p>215088 rows × 9 columns</p>\n",
       "</div>"
      ],
      "text/plain": [
       "       maquina_id  linha fabrica status turno  contagem_total_ciclos  \\\n",
       "0          TMF009     14       2  false   MAT                    0.0   \n",
       "1          TMF007     13       2  false   MAT                    0.0   \n",
       "2          TMF012     12       2  false   MAT                    0.0   \n",
       "3          TMF013     11       2  false   MAT                    0.0   \n",
       "4          TMF008     10       2  false   MAT                    0.0   \n",
       "...           ...    ...     ...    ...   ...                    ...   \n",
       "215083     TMF014      5       1   true   NOT                   10.0   \n",
       "215084     TMF011      4       1  false   NOT                    0.0   \n",
       "215085     TMF015      3       1   true   NOT                   12.0   \n",
       "215086     TMF002      2       1  false   NOT                    0.0   \n",
       "215087     TMF005      1       1  false   NOT                    0.0   \n",
       "\n",
       "        contagem_total_produzido data_registro    hora_registro  \n",
       "0                            0.0    2024-02-24  11:08:38.226666  \n",
       "1                            0.0    2024-02-24  11:08:37.226666  \n",
       "2                            0.0    2024-02-24  11:08:36.223333  \n",
       "3                            0.0    2024-02-24  11:08:35.226666  \n",
       "4                            0.0    2024-02-24  11:08:34.223333  \n",
       "...                          ...           ...              ...  \n",
       "215083                       8.0    2024-02-01  00:01:34.156666  \n",
       "215084                       0.0    2024-02-01  00:01:33.156666  \n",
       "215085                      12.0    2024-02-01  00:01:32.153333  \n",
       "215086                       0.0    2024-02-01  00:01:31.153333  \n",
       "215087                       0.0    2024-02-01  00:01:30.150000  \n",
       "\n",
       "[215088 rows x 9 columns]"
      ]
     },
     "execution_count": 37,
     "metadata": {},
     "output_type": "execute_result"
    }
   ],
   "source": [
    "df_info"
   ]
  },
  {
   "cell_type": "code",
   "execution_count": 38,
   "metadata": {},
   "outputs": [
    {
     "data": {
      "text/html": [
       "<div>\n",
       "<style scoped>\n",
       "    .dataframe tbody tr th:only-of-type {\n",
       "        vertical-align: middle;\n",
       "    }\n",
       "\n",
       "    .dataframe tbody tr th {\n",
       "        vertical-align: top;\n",
       "    }\n",
       "\n",
       "    .dataframe thead th {\n",
       "        text-align: right;\n",
       "    }\n",
       "</style>\n",
       "<table border=\"1\" class=\"dataframe\">\n",
       "  <thead>\n",
       "    <tr style=\"text-align: right;\">\n",
       "      <th></th>\n",
       "      <th>maquina_id</th>\n",
       "      <th>linha</th>\n",
       "      <th>turno</th>\n",
       "      <th>total_ciclos</th>\n",
       "      <th>total_produzido</th>\n",
       "      <th>data_registro</th>\n",
       "      <th>hora_registro</th>\n",
       "    </tr>\n",
       "  </thead>\n",
       "  <tbody>\n",
       "    <tr>\n",
       "      <th>0</th>\n",
       "      <td>TMF001</td>\n",
       "      <td>6</td>\n",
       "      <td>NOT</td>\n",
       "      <td>0.0</td>\n",
       "      <td>0.0</td>\n",
       "      <td>2024-02-24</td>\n",
       "      <td>06:51:00.383333</td>\n",
       "    </tr>\n",
       "    <tr>\n",
       "      <th>1</th>\n",
       "      <td>TMF002</td>\n",
       "      <td>2</td>\n",
       "      <td>NOT</td>\n",
       "      <td>0.0</td>\n",
       "      <td>0.0</td>\n",
       "      <td>2024-02-24</td>\n",
       "      <td>06:50:56.376666</td>\n",
       "    </tr>\n",
       "    <tr>\n",
       "      <th>2</th>\n",
       "      <td>TMF003</td>\n",
       "      <td>5</td>\n",
       "      <td>NOT</td>\n",
       "      <td>0.0</td>\n",
       "      <td>0.0</td>\n",
       "      <td>2024-02-24</td>\n",
       "      <td>06:50:59.383333</td>\n",
       "    </tr>\n",
       "    <tr>\n",
       "      <th>3</th>\n",
       "      <td>TMF004</td>\n",
       "      <td>9</td>\n",
       "      <td>NOT</td>\n",
       "      <td>0.0</td>\n",
       "      <td>0.0</td>\n",
       "      <td>2024-02-24</td>\n",
       "      <td>06:51:03.386666</td>\n",
       "    </tr>\n",
       "    <tr>\n",
       "      <th>4</th>\n",
       "      <td>TMF005</td>\n",
       "      <td>1</td>\n",
       "      <td>NOT</td>\n",
       "      <td>0.0</td>\n",
       "      <td>0.0</td>\n",
       "      <td>2024-02-24</td>\n",
       "      <td>06:50:55.376666</td>\n",
       "    </tr>\n",
       "    <tr>\n",
       "      <th>...</th>\n",
       "      <td>...</td>\n",
       "      <td>...</td>\n",
       "      <td>...</td>\n",
       "      <td>...</td>\n",
       "      <td>...</td>\n",
       "      <td>...</td>\n",
       "      <td>...</td>\n",
       "    </tr>\n",
       "    <tr>\n",
       "      <th>910</th>\n",
       "      <td>TMF014</td>\n",
       "      <td>5</td>\n",
       "      <td>NOT</td>\n",
       "      <td>8524.0</td>\n",
       "      <td>8358.0</td>\n",
       "      <td>2024-02-01</td>\n",
       "      <td>07:59:35.586666</td>\n",
       "    </tr>\n",
       "    <tr>\n",
       "      <th>911</th>\n",
       "      <td>TMF014</td>\n",
       "      <td>5</td>\n",
       "      <td>VES</td>\n",
       "      <td>102.0</td>\n",
       "      <td>2.0</td>\n",
       "      <td>2024-02-01</td>\n",
       "      <td>23:59:38.473333</td>\n",
       "    </tr>\n",
       "    <tr>\n",
       "      <th>912</th>\n",
       "      <td>TMF015</td>\n",
       "      <td>3</td>\n",
       "      <td>MAT</td>\n",
       "      <td>6482.0</td>\n",
       "      <td>6438.0</td>\n",
       "      <td>2024-02-01</td>\n",
       "      <td>15:59:35.026666</td>\n",
       "    </tr>\n",
       "    <tr>\n",
       "      <th>913</th>\n",
       "      <td>TMF015</td>\n",
       "      <td>3</td>\n",
       "      <td>NOT</td>\n",
       "      <td>8934.0</td>\n",
       "      <td>8792.0</td>\n",
       "      <td>2024-02-01</td>\n",
       "      <td>07:59:33.586666</td>\n",
       "    </tr>\n",
       "    <tr>\n",
       "      <th>914</th>\n",
       "      <td>TMF015</td>\n",
       "      <td>3</td>\n",
       "      <td>VES</td>\n",
       "      <td>56.0</td>\n",
       "      <td>50.0</td>\n",
       "      <td>2024-02-01</td>\n",
       "      <td>23:59:36.466666</td>\n",
       "    </tr>\n",
       "  </tbody>\n",
       "</table>\n",
       "<p>915 rows × 7 columns</p>\n",
       "</div>"
      ],
      "text/plain": [
       "    maquina_id  linha turno  total_ciclos  total_produzido data_registro  \\\n",
       "0       TMF001      6   NOT           0.0              0.0    2024-02-24   \n",
       "1       TMF002      2   NOT           0.0              0.0    2024-02-24   \n",
       "2       TMF003      5   NOT           0.0              0.0    2024-02-24   \n",
       "3       TMF004      9   NOT           0.0              0.0    2024-02-24   \n",
       "4       TMF005      1   NOT           0.0              0.0    2024-02-24   \n",
       "..         ...    ...   ...           ...              ...           ...   \n",
       "910     TMF014      5   NOT        8524.0           8358.0    2024-02-01   \n",
       "911     TMF014      5   VES         102.0              2.0    2024-02-01   \n",
       "912     TMF015      3   MAT        6482.0           6438.0    2024-02-01   \n",
       "913     TMF015      3   NOT        8934.0           8792.0    2024-02-01   \n",
       "914     TMF015      3   VES          56.0             50.0    2024-02-01   \n",
       "\n",
       "       hora_registro  \n",
       "0    06:51:00.383333  \n",
       "1    06:50:56.376666  \n",
       "2    06:50:59.383333  \n",
       "3    06:51:03.386666  \n",
       "4    06:50:55.376666  \n",
       "..               ...  \n",
       "910  07:59:35.586666  \n",
       "911  23:59:38.473333  \n",
       "912  15:59:35.026666  \n",
       "913  07:59:33.586666  \n",
       "914  23:59:36.466666  \n",
       "\n",
       "[915 rows x 7 columns]"
      ]
     },
     "execution_count": 38,
     "metadata": {},
     "output_type": "execute_result"
    }
   ],
   "source": [
    "df_info_production"
   ]
  },
  {
   "cell_type": "markdown",
   "metadata": {},
   "source": [
    "# Limpeza de dados e análise exploratória\n"
   ]
  },
  {
   "cell_type": "code",
   "execution_count": 8,
   "metadata": {},
   "outputs": [],
   "source": [
    "# service/clean_data.py\n",
    "\n",
    "\n",
    "# cSpell: disable=invalid-name\n",
    "class CleanData:\n",
    "    def maq_info(self, info: pd.DataFrame) -> pd.DataFrame:\n",
    "        \"\"\"\n",
    "        Processa as informações de uma máquina e retorna um DataFrame com os dados ajustados.\n",
    "\n",
    "        Args:\n",
    "            info (pd.DataFrame): DataFrame contendo as informações da máquina.\n",
    "\n",
    "        Returns:\n",
    "            pd.DataFrame: DataFrame com os dados ajustados da máquina.\n",
    "        \"\"\"\n",
    "\n",
    "        # Ordenar dataframe\n",
    "        df_info = info.sort_values(by=[\"maquina_id\", \"data_registro\", \"hora_registro\", \"turno\"])\n",
    "\n",
    "        # Criar coluna com data e hora unidos\n",
    "        df_info[\"data_hora_registro\"] = (\n",
    "            df_info[\"data_registro\"].astype(str)\n",
    "            + \" \"\n",
    "            + df_info[\"hora_registro\"].astype(str).str.split(\".\").str[0]\n",
    "        )\n",
    "\n",
    "        # Ajustar primeira entrada se for VES\n",
    "        mask = (df_info[\"turno\"] == \"VES\") & (\n",
    "            df_info[\"maquina_id\"] != df_info[\"maquina_id\"].shift()\n",
    "        )\n",
    "        df_info[\"turno\"] = np.where(mask, \"NOT\", df_info[\"turno\"])\n",
    "\n",
    "        # Ajustar data_hora para pd.datetime\n",
    "        df_info[\"data_hora_registro\"] = pd.to_datetime(df_info[\"data_hora_registro\"])\n",
    "\n",
    "        # Ajustar horário se turno for VES - ajusta para dia anterior e horário 23:59:59\n",
    "        mask = (\n",
    "            (df_info[\"turno\"] == \"VES\")\n",
    "            & (df_info[\"data_hora_registro\"] != df_info[\"data_hora_registro\"].shift())\n",
    "            & (df_info[\"data_hora_registro\"].dt.time > time(0, 0, 0))\n",
    "            & (df_info[\"data_hora_registro\"].dt.time < time(0, 5, 0))\n",
    "        )\n",
    "        df_info[\"data_hora_registro\"] = np.where(\n",
    "            mask,\n",
    "            (df_info[\"data_hora_registro\"] - pd.Timedelta(days=1)).dt.normalize()\n",
    "            + pd.Timedelta(hours=23, minutes=59, seconds=59),\n",
    "            df_info[\"data_hora_registro\"],\n",
    "        )\n",
    "\n",
    "        # Criar nova coluna status_change para identificar mudança de status\n",
    "        df_info[\"status_change\"] = df_info[\"status\"].ne(df_info[\"status\"].shift())\n",
    "\n",
    "        # Criar coluna para identificar a mudança de máquina\n",
    "        df_info[\"maquina_change\"] = df_info[\"maquina_id\"].ne(df_info[\"maquina_id\"].shift())\n",
    "\n",
    "        # Criar coluna para identificar a mudança de turno\n",
    "        df_info[\"turno_change\"] = df_info[\"turno\"].ne(df_info[\"turno\"].shift())\n",
    "\n",
    "        # Atualizar coluna change para incluir mudança de turno\n",
    "        df_info[\"change\"] = (\n",
    "            df_info[\"status_change\"] | df_info[\"maquina_change\"] | df_info[\"turno_change\"]\n",
    "        )\n",
    "\n",
    "        # Agrupar por maquina e identificar data e hora da última mudança de status\n",
    "        df_info[\"change_time\"] = (\n",
    "            df_info.groupby(\"maquina_id\")[\"data_hora_registro\"].shift(0).where(df_info[\"change\"])\n",
    "        )\n",
    "\n",
    "        # Feito para agrupar por maquina_id e turno e manter o ultimo registro de cada grupo\n",
    "        df_info = (\n",
    "            df_info.groupby([\"maquina_id\", \"change_time\"])\n",
    "            .agg(\n",
    "                status=(\"status\", \"first\"),\n",
    "                turno=(\"turno\", \"first\"),\n",
    "                linha=(\"linha\", \"first\"),\n",
    "                fabrica=(\"fabrica\", \"first\"),\n",
    "                data_hora_registro=(\"data_hora_registro\", \"first\"),\n",
    "                contagem_total_ciclos=(\"contagem_total_ciclos\", \"last\"),\n",
    "                contagem_total_produzido=(\n",
    "                    \"contagem_total_produzido\",\n",
    "                    \"last\",\n",
    "                ),\n",
    "                change=(\"change\", \"first\"),\n",
    "                maquina_change=(\"maquina_change\", \"first\"),\n",
    "            )\n",
    "            .reset_index()\n",
    "        )\n",
    "\n",
    "        # Criar nova coluna com a data_hora_final do status\n",
    "        df_info[\"data_hora_final\"] = (\n",
    "            df_info.groupby(\"maquina_id\")[\"data_hora_registro\"]\n",
    "            .shift(-1)\n",
    "            .where(~df_info[\"maquina_change\"])\n",
    "        )\n",
    "\n",
    "        # Atualizar coluna data_hora_final onde maquina_change é True\n",
    "        mask = df_info[\"maquina_change\"]\n",
    "        df_info[\"data_hora_final\"] = np.where(\n",
    "            mask, df_info[\"change_time\"].shift(-1), df_info[\"data_hora_final\"]\n",
    "        )\n",
    "\n",
    "        # Remover colunas desnecessárias\n",
    "        df_info.drop(\n",
    "            columns=[\n",
    "                \"maquina_change\",\n",
    "                \"change\",\n",
    "                \"change_time\",\n",
    "            ],\n",
    "            inplace=True,\n",
    "        )\n",
    "\n",
    "        # Remover linhas onde data_hora_final é nulo\n",
    "        df_info.dropna(subset=[\"data_hora_final\"], inplace=True)\n",
    "\n",
    "        # Cria nova coluna tempo_registro_min para calcular o tempo de registro em minutos\n",
    "        df_info[\"tempo_registro_min\"] = (\n",
    "            pd.to_datetime(df_info[\"data_hora_final\"])\n",
    "            - pd.to_datetime(df_info[\"data_hora_registro\"])\n",
    "        ).dt.total_seconds() / 60\n",
    "\n",
    "        # Arredondar tempo_registro_min e converter para inteiro\n",
    "        df_info[\"tempo_registro_min\"] = df_info[\"tempo_registro_min\"].round(0).astype(int)\n",
    "\n",
    "        # Ajustar tipos\n",
    "        df_info = df_info.astype(\n",
    "            {\n",
    "                \"maquina_id\": \"category\",\n",
    "                \"status\": \"category\",\n",
    "                \"turno\": \"category\",\n",
    "                \"linha\": \"category\",\n",
    "                \"fabrica\": \"category\",\n",
    "                \"tempo_registro_min\": int,\n",
    "                \"contagem_total_ciclos\": int,\n",
    "                \"contagem_total_produzido\": int,\n",
    "            }\n",
    "        )\n",
    "\n",
    "        # Ajustar nomenclatura dos status\n",
    "        df_info[\"status\"] = np.where(\n",
    "            (df_info[\"status\"] == \"true\") & (df_info[\"tempo_registro_min\"] < 10),\n",
    "            \"in_test\",\n",
    "            df_info[\"status\"],\n",
    "        )\n",
    "        df_info[\"status\"] = np.where(df_info[\"status\"] == \"true\", \"rodando\", df_info[\"status\"])\n",
    "        df_info[\"status\"] = np.where(df_info[\"status\"] == \"false\", \"parada\", df_info[\"status\"])\n",
    "\n",
    "        # Ajustar tipo do status\n",
    "        df_info[\"status\"] = df_info[\"status\"].astype(\"category\")\n",
    "\n",
    "        # Ajustar o index\n",
    "        df_info.reset_index(drop=True, inplace=True)\n",
    "\n",
    "        return df_info\n",
    "\n",
    "    def get_time_working(self, data: pd.DataFrame) -> pd.DataFrame:\n",
    "        \"\"\"\n",
    "        Retorna os dados de maquina rodando.\n",
    "        \"\"\"\n",
    "\n",
    "        info = self.maq_info(data)\n",
    "\n",
    "        df_info_rodando = info[info[\"status\"] == \"rodando\"]\n",
    "\n",
    "        # Agrupar por linha, turno e data e somar o tempo de registro\n",
    "        df_info_rodando = (\n",
    "            df_info_rodando.groupby(\n",
    "                [\"linha\", \"turno\", \"status\", df_info_rodando[\"data_hora_registro\"].dt.date],\n",
    "                observed=False,\n",
    "            )\n",
    "            .agg(tempo_registro_min=(\"tempo_registro_min\", \"sum\"))\n",
    "            .reset_index()\n",
    "        )\n",
    "\n",
    "        # Remover linhas onde tempo_registro_min é menor que 0\n",
    "        df_info_rodando = df_info_rodando[(df_info_rodando[\"tempo_registro_min\"] > 0)]\n",
    "\n",
    "        # Remover onde a linha for 0\n",
    "        df_info_rodando = df_info_rodando[df_info_rodando[\"linha\"] != 0]\n",
    "\n",
    "        # Renomear colunas\n",
    "        df_info_rodando.rename(\n",
    "            columns={\n",
    "                \"status\": \"motivo_nome\",\n",
    "                \"data_hora_registro\": \"data_registro\",\n",
    "            },\n",
    "            inplace=True,\n",
    "        )\n",
    "\n",
    "        # Capitalizar o motivo nome\n",
    "        df_info_rodando[\"motivo_nome\"] = df_info_rodando[\"motivo_nome\"].str.capitalize()\n",
    "\n",
    "        return df_info_rodando\n",
    "\n",
    "    def get_adjusted_stops_data(self, info: pd.DataFrame) -> pd.DataFrame:\n",
    "        \"\"\"\n",
    "        Retorna os dados de paradas ajustados de acordo com as regras definidas.\n",
    "\n",
    "        Args:\n",
    "            info (pd.DataFrame): O dataframe contendo os dados de paradas.\n",
    "\n",
    "        Returns:\n",
    "            pd.DataFrame: O dataframe com os dados de paradas ajustados.\n",
    "        \"\"\"\n",
    "        # Certificar que data_hora_registro e data_hora_final são do tipo datetime\n",
    "        info[\"data_hora_registro\"] = pd.to_datetime(info[\"data_hora_registro\"])\n",
    "        info[\"data_hora_final\"] = pd.to_datetime(info[\"data_hora_final\"])\n",
    "\n",
    "        # Ordenar por maquina_id e data_hora_registro\n",
    "        df_info = info.sort_values(by=[\"maquina_id\", \"data_hora_registro\"])\n",
    "\n",
    "        # Criar coluna auxiliar para identificar a maquina rodando\n",
    "        df_info[\"rodando\"] = np.where(df_info[\"status\"] == \"rodando\", 1, 0)\n",
    "\n",
    "        # Unir grupos de paradas, levando em conta mudança de maquina e turno\n",
    "        df_info[\"group\"] = (\n",
    "            (df_info[\"rodando\"] != df_info[\"rodando\"].shift())\n",
    "            | (df_info[\"maquina_id\"] != df_info[\"maquina_id\"].shift())\n",
    "            | (df_info[\"turno\"] != df_info[\"turno\"].shift())\n",
    "            | (\n",
    "                df_info[\"data_hora_registro\"].dt.date\n",
    "                != df_info[\"data_hora_registro\"].shift().dt.date\n",
    "            )\n",
    "        ).cumsum()\n",
    "\n",
    "        # Agrerar por grupo\n",
    "        df_info = (\n",
    "            df_info.groupby([\"group\"])\n",
    "            .agg(\n",
    "                maquina_id=(\"maquina_id\", \"first\"),\n",
    "                status=(\"status\", \"first\"),\n",
    "                turno=(\"turno\", \"first\"),\n",
    "                linha=(\"linha\", \"first\"),\n",
    "                fabrica=(\"fabrica\", \"first\"),\n",
    "                data_hora_registro=(\"data_hora_registro\", \"first\"),\n",
    "                data_hora_final=(\"data_hora_final\", \"last\"),\n",
    "                tempo_registro_min=(\"tempo_registro_min\", \"sum\"),\n",
    "                contagem_total_ciclos=(\"contagem_total_ciclos\", \"last\"),\n",
    "                contagem_total_produzido=(\"contagem_total_produzido\", \"last\"),\n",
    "            )\n",
    "            .reset_index(drop=True)\n",
    "        )\n",
    "\n",
    "        # Alterar in_test para parada\n",
    "        df_info[\"status\"] = np.where(df_info[\"status\"] == \"in_test\", \"parada\", df_info[\"status\"])\n",
    "\n",
    "        # Substituir valores nulos por np.nan\n",
    "        df_info.fillna(value=np.nan, inplace=True)\n",
    "\n",
    "        return df_info\n",
    "\n",
    "    def dayofweek_adjust(self, df: pd.DataFrame) -> pd.DataFrame:\n",
    "        \"\"\"\n",
    "        Incluir colunas para identificar sábados, domingos e feriados.\n",
    "\n",
    "        Args:\n",
    "            df (pd.DataFrame): DataFrame com os dados de paradas.\n",
    "\n",
    "        Returns:\n",
    "            pd.DataFrame: DataFrame com as colunas adicionadas.\n",
    "        \"\"\"\n",
    "\n",
    "        # Garantir que data_hora_registro é do tipo datetime\n",
    "        df[\"data_hora_registro\"] = pd.to_datetime(df[\"data_hora_registro\"])\n",
    "\n",
    "        # Identificar sábados\n",
    "        df[\"sabado\"] = np.where(df[\"data_hora_registro\"].dt.dayofweek == 5, 1, 0)\n",
    "\n",
    "        # Identificar domingos\n",
    "        df[\"domingo\"] = np.where(df[\"data_hora_registro\"].dt.dayofweek == 6, 1, 0)\n",
    "\n",
    "        # Ler arquivo com os feriados\n",
    "        holidays = pd.read_csv(\"./assets/feriados.csv\")\n",
    "\n",
    "        # Converter para datetime\n",
    "        holidays[\"feriados\"] = pd.to_datetime(holidays[\"feriados\"])\n",
    "\n",
    "        # Identificar feriados\n",
    "        df[\"feriado\"] = (\n",
    "            df[\"data_hora_registro\"]\n",
    "            .dt.date.isin(pd.to_datetime(holidays[\"feriados\"]).dt.date)\n",
    "            .astype(int)\n",
    "        )\n",
    "\n",
    "        return df\n",
    "\n",
    "    def get_maq_info_cleaned(self, df_info: pd.DataFrame) -> pd.DataFrame:\n",
    "        \"\"\"\n",
    "        Retorna os dados de paradas ajustados de acordo com as regras definidas.\n",
    "\n",
    "        Args:\n",
    "            df_info (pd.DataFrame): O dataframe contendo os dados de paradas.\n",
    "\n",
    "        Returns:\n",
    "            pd.DataFrame: O dataframe com os dados de paradas ajustados.\n",
    "        \"\"\"\n",
    "\n",
    "        # Ajustar dados de maquina_info\n",
    "        df_info = self.maq_info(df_info)\n",
    "\n",
    "        # Ajustar dados de paradas\n",
    "        df_info = self.get_adjusted_stops_data(df_info)\n",
    "\n",
    "        # Incluir colunas para identificar sábados, domingos e feriados\n",
    "        df_info = self.dayofweek_adjust(df_info)\n",
    "\n",
    "        return df_info\n",
    "\n",
    "    def get_maq_occ_cleaned(self, df_occ: pd.DataFrame) -> pd.DataFrame:\n",
    "        \"\"\"\n",
    "        Retorna os dados de ocorrências ajustados de acordo com as regras definidas.\n",
    "\n",
    "        Args:\n",
    "            df_occ (pd.DataFrame): O dataframe contendo os dados de ocorrências.\n",
    "\n",
    "        Returns:\n",
    "            pd.DataFrame: O dataframe com os dados de ocorrências ajustados.\n",
    "        \"\"\"\n",
    "\n",
    "        # Motivos de Parada\n",
    "        motivos = {\n",
    "            1: \"Ajustes\",\n",
    "            2: \"Troca de Bobina\",\n",
    "            3: \"Refeição\",\n",
    "            4: \"Reunião\",\n",
    "            5: \"Café e Ginástica Laboral\",\n",
    "            6: \"Limpeza\",\n",
    "            7: \"Manutenção Elétrica\",\n",
    "            8: \"Manutenção Mecânica\",\n",
    "            9: \"Material em Falta\",\n",
    "            10: \"Setup de Sabor\",\n",
    "            11: \"Setup de Tamanho\",\n",
    "            12: \"Parada Programada\",\n",
    "            13: \"Intervenção de Qualidade\",\n",
    "            14: \"Linha Cheia\",\n",
    "            15: \"Treinamento\",\n",
    "            16: \"Limpeza Industrial\",\n",
    "            17: \"Troca de Filme\",\n",
    "        }\n",
    "\n",
    "        # Ajustar coluna motivo_id para int\n",
    "        df_occ = df_occ.astype({\"motivo_id\": int})\n",
    "\n",
    "        # Unir data_registro e hora_registro\n",
    "        df_occ[\"data_hora_registro\"] = (\n",
    "            df_occ[\"data_registro\"].astype(str)\n",
    "            + \" \"\n",
    "            + df_occ[\"hora_registro\"].astype(str).str.split(\".\").str[0]\n",
    "        )\n",
    "\n",
    "        # Ajustar data_hora_registro para datetime\n",
    "        df_occ[\"data_hora_registro\"] = pd.to_datetime(df_occ[\"data_hora_registro\"])\n",
    "\n",
    "        # Criar coluna com motivo_nome com base no dicionário motivos\n",
    "        df_occ[\"motivo_nome\"] = df_occ[\"motivo_id\"].map(motivos)\n",
    "\n",
    "        # Ajustar \"problema\" e \"solucao\" se a string estiver vazia\n",
    "        df_occ[\"problema\"] = np.where(df_occ[\"problema\"] == \"\", np.nan, df_occ[\"problema\"])\n",
    "        df_occ[\"solucao\"] = np.where(df_occ[\"solucao\"] == \"\", np.nan, df_occ[\"solucao\"])\n",
    "\n",
    "        # Copiar motivo_nome para problema caso problema seja nulo e motivo_id não seja 1,7,8,9,14\n",
    "        df_occ[\"problema\"] = np.where(\n",
    "            (df_occ[\"problema\"].isnull())\n",
    "            & (\n",
    "                ~df_occ[\"motivo_id\"].isin(\n",
    "                    [\n",
    "                        1,\n",
    "                        7,\n",
    "                        8,\n",
    "                        9,\n",
    "                        14,\n",
    "                    ]\n",
    "                )\n",
    "            ),\n",
    "            df_occ[\"motivo_nome\"],\n",
    "            df_occ[\"problema\"],\n",
    "        )\n",
    "\n",
    "        # Ajustar ordem das colunas e seus tipos\n",
    "        df_occ = df_occ.reindex(\n",
    "            columns=[\n",
    "                \"maquina_id\",\n",
    "                \"motivo_id\",\n",
    "                \"motivo_nome\",\n",
    "                \"problema\",\n",
    "                \"solucao\",\n",
    "                \"data_hora_registro\",\n",
    "                \"usuario_id\",\n",
    "            ]\n",
    "        )\n",
    "        df_occ = df_occ.astype(\n",
    "            {\n",
    "                \"maquina_id\": \"category\",\n",
    "                \"motivo_id\": int,\n",
    "                \"motivo_nome\": \"category\",\n",
    "                \"problema\": str,\n",
    "                \"solucao\": \"category\",\n",
    "                \"data_hora_registro\": \"datetime64[ns]\",\n",
    "                \"usuario_id\": \"category\",\n",
    "            }\n",
    "        )\n",
    "\n",
    "        return df_occ\n",
    "\n",
    "    def get_maq_production_cleaned(self, df_production: pd.DataFrame) -> pd.DataFrame:\n",
    "        \"\"\"\n",
    "        Retorna os dados de produção ajustados de acordo com as regras definidas.\n",
    "\n",
    "        Args:\n",
    "            df_production (pd.DataFrame): O dataframe contendo os dados de produção.\n",
    "\n",
    "        Returns:\n",
    "            pd.DataFrame: O dataframe com os dados de produção ajustados.\n",
    "        \"\"\"\n",
    "\n",
    "        # Incluir coluna turno_number para ordenar os turnos\n",
    "        df_production[\"turno_number\"] = df_production[\"turno\"].map({\"MAT\": 2, \"VES\": 3, \"NOT\": 1})\n",
    "\n",
    "        # Ordenar por maquina_id, data_registro e turno_number\n",
    "        df_production.sort_values(\n",
    "            by=[\"linha\", \"data_registro\", \"turno_number\"],\n",
    "            inplace=True,\n",
    "            ascending=[True, True, False],\n",
    "        )\n",
    "\n",
    "        # Remover coluna turno_number\n",
    "        df_production.drop(columns=[\"turno_number\"], inplace=True)\n",
    "\n",
    "        # Ajustar tipos\n",
    "        df_production = df_production.astype(\n",
    "            {\n",
    "                \"maquina_id\": \"category\",\n",
    "                \"linha\": \"category\",\n",
    "                \"turno\": \"category\",\n",
    "                \"total_ciclos\": int,\n",
    "                \"total_produzido\": int,\n",
    "                \"data_registro\": \"datetime64[ns]\",\n",
    "            }\n",
    "        )\n",
    "\n",
    "        # Ajustar o index\n",
    "        df_production.reset_index(drop=True, inplace=True)\n",
    "\n",
    "        return df_production\n",
    "\n",
    "\n",
    "clean_data = CleanData()"
   ]
  },
  {
   "cell_type": "code",
   "execution_count": 7,
   "metadata": {},
   "outputs": [
    {
     "data": {
      "text/html": [
       "<div>\n",
       "<style scoped>\n",
       "    .dataframe tbody tr th:only-of-type {\n",
       "        vertical-align: middle;\n",
       "    }\n",
       "\n",
       "    .dataframe tbody tr th {\n",
       "        vertical-align: top;\n",
       "    }\n",
       "\n",
       "    .dataframe thead th {\n",
       "        text-align: right;\n",
       "    }\n",
       "</style>\n",
       "<table border=\"1\" class=\"dataframe\">\n",
       "  <thead>\n",
       "    <tr style=\"text-align: right;\">\n",
       "      <th></th>\n",
       "      <th>maquina_id</th>\n",
       "      <th>status</th>\n",
       "      <th>turno</th>\n",
       "      <th>linha</th>\n",
       "      <th>fabrica</th>\n",
       "      <th>data_hora_registro</th>\n",
       "      <th>contagem_total_ciclos</th>\n",
       "      <th>contagem_total_produzido</th>\n",
       "      <th>data_hora_final</th>\n",
       "      <th>tempo_registro_min</th>\n",
       "    </tr>\n",
       "  </thead>\n",
       "  <tbody>\n",
       "    <tr>\n",
       "      <th>0</th>\n",
       "      <td>TMF001</td>\n",
       "      <td>rodando</td>\n",
       "      <td>NOT</td>\n",
       "      <td>9</td>\n",
       "      <td>1</td>\n",
       "      <td>2024-02-01 00:01:38</td>\n",
       "      <td>12</td>\n",
       "      <td>12</td>\n",
       "      <td>2024-02-01 01:57:38</td>\n",
       "      <td>116</td>\n",
       "    </tr>\n",
       "    <tr>\n",
       "      <th>1</th>\n",
       "      <td>TMF001</td>\n",
       "      <td>parada</td>\n",
       "      <td>NOT</td>\n",
       "      <td>9</td>\n",
       "      <td>1</td>\n",
       "      <td>2024-02-01 01:57:38</td>\n",
       "      <td>2276</td>\n",
       "      <td>2266</td>\n",
       "      <td>2024-02-01 01:59:38</td>\n",
       "      <td>2</td>\n",
       "    </tr>\n",
       "    <tr>\n",
       "      <th>2</th>\n",
       "      <td>TMF001</td>\n",
       "      <td>rodando</td>\n",
       "      <td>NOT</td>\n",
       "      <td>9</td>\n",
       "      <td>1</td>\n",
       "      <td>2024-02-01 01:59:38</td>\n",
       "      <td>2304</td>\n",
       "      <td>2292</td>\n",
       "      <td>2024-02-01 02:57:38</td>\n",
       "      <td>58</td>\n",
       "    </tr>\n",
       "    <tr>\n",
       "      <th>3</th>\n",
       "      <td>TMF001</td>\n",
       "      <td>parada</td>\n",
       "      <td>NOT</td>\n",
       "      <td>9</td>\n",
       "      <td>1</td>\n",
       "      <td>2024-02-01 02:57:38</td>\n",
       "      <td>3462</td>\n",
       "      <td>3436</td>\n",
       "      <td>2024-02-01 04:03:38</td>\n",
       "      <td>66</td>\n",
       "    </tr>\n",
       "    <tr>\n",
       "      <th>4</th>\n",
       "      <td>TMF001</td>\n",
       "      <td>rodando</td>\n",
       "      <td>NOT</td>\n",
       "      <td>9</td>\n",
       "      <td>1</td>\n",
       "      <td>2024-02-01 04:03:38</td>\n",
       "      <td>3476</td>\n",
       "      <td>3448</td>\n",
       "      <td>2024-02-01 05:59:39</td>\n",
       "      <td>116</td>\n",
       "    </tr>\n",
       "    <tr>\n",
       "      <th>...</th>\n",
       "      <td>...</td>\n",
       "      <td>...</td>\n",
       "      <td>...</td>\n",
       "      <td>...</td>\n",
       "      <td>...</td>\n",
       "      <td>...</td>\n",
       "      <td>...</td>\n",
       "      <td>...</td>\n",
       "      <td>...</td>\n",
       "      <td>...</td>\n",
       "    </tr>\n",
       "    <tr>\n",
       "      <th>8905</th>\n",
       "      <td>TMF015</td>\n",
       "      <td>rodando</td>\n",
       "      <td>MAT</td>\n",
       "      <td>3</td>\n",
       "      <td>1</td>\n",
       "      <td>2024-02-23 14:48:54</td>\n",
       "      <td>4754</td>\n",
       "      <td>4532</td>\n",
       "      <td>2024-02-23 15:54:54</td>\n",
       "      <td>66</td>\n",
       "    </tr>\n",
       "    <tr>\n",
       "      <th>8906</th>\n",
       "      <td>TMF015</td>\n",
       "      <td>parada</td>\n",
       "      <td>MAT</td>\n",
       "      <td>3</td>\n",
       "      <td>1</td>\n",
       "      <td>2024-02-23 15:54:54</td>\n",
       "      <td>6122</td>\n",
       "      <td>5856</td>\n",
       "      <td>2024-02-23 16:02:54</td>\n",
       "      <td>8</td>\n",
       "    </tr>\n",
       "    <tr>\n",
       "      <th>8907</th>\n",
       "      <td>TMF015</td>\n",
       "      <td>parada</td>\n",
       "      <td>VES</td>\n",
       "      <td>3</td>\n",
       "      <td>1</td>\n",
       "      <td>2024-02-23 16:02:54</td>\n",
       "      <td>0</td>\n",
       "      <td>0</td>\n",
       "      <td>2024-02-23 20:44:55</td>\n",
       "      <td>282</td>\n",
       "    </tr>\n",
       "    <tr>\n",
       "      <th>8908</th>\n",
       "      <td>TMF015</td>\n",
       "      <td>in_test</td>\n",
       "      <td>VES</td>\n",
       "      <td>3</td>\n",
       "      <td>1</td>\n",
       "      <td>2024-02-23 20:44:55</td>\n",
       "      <td>14</td>\n",
       "      <td>4</td>\n",
       "      <td>2024-02-23 20:48:55</td>\n",
       "      <td>4</td>\n",
       "    </tr>\n",
       "    <tr>\n",
       "      <th>8909</th>\n",
       "      <td>TMF015</td>\n",
       "      <td>parada</td>\n",
       "      <td>VES</td>\n",
       "      <td>3</td>\n",
       "      <td>1</td>\n",
       "      <td>2024-02-23 20:48:55</td>\n",
       "      <td>80</td>\n",
       "      <td>4</td>\n",
       "      <td>2024-02-24 00:02:56</td>\n",
       "      <td>194</td>\n",
       "    </tr>\n",
       "  </tbody>\n",
       "</table>\n",
       "<p>8910 rows × 10 columns</p>\n",
       "</div>"
      ],
      "text/plain": [
       "     maquina_id   status turno linha fabrica  data_hora_registro  \\\n",
       "0        TMF001  rodando   NOT     9       1 2024-02-01 00:01:38   \n",
       "1        TMF001   parada   NOT     9       1 2024-02-01 01:57:38   \n",
       "2        TMF001  rodando   NOT     9       1 2024-02-01 01:59:38   \n",
       "3        TMF001   parada   NOT     9       1 2024-02-01 02:57:38   \n",
       "4        TMF001  rodando   NOT     9       1 2024-02-01 04:03:38   \n",
       "...         ...      ...   ...   ...     ...                 ...   \n",
       "8905     TMF015  rodando   MAT     3       1 2024-02-23 14:48:54   \n",
       "8906     TMF015   parada   MAT     3       1 2024-02-23 15:54:54   \n",
       "8907     TMF015   parada   VES     3       1 2024-02-23 16:02:54   \n",
       "8908     TMF015  in_test   VES     3       1 2024-02-23 20:44:55   \n",
       "8909     TMF015   parada   VES     3       1 2024-02-23 20:48:55   \n",
       "\n",
       "      contagem_total_ciclos  contagem_total_produzido     data_hora_final  \\\n",
       "0                        12                        12 2024-02-01 01:57:38   \n",
       "1                      2276                      2266 2024-02-01 01:59:38   \n",
       "2                      2304                      2292 2024-02-01 02:57:38   \n",
       "3                      3462                      3436 2024-02-01 04:03:38   \n",
       "4                      3476                      3448 2024-02-01 05:59:39   \n",
       "...                     ...                       ...                 ...   \n",
       "8905                   4754                      4532 2024-02-23 15:54:54   \n",
       "8906                   6122                      5856 2024-02-23 16:02:54   \n",
       "8907                      0                         0 2024-02-23 20:44:55   \n",
       "8908                     14                         4 2024-02-23 20:48:55   \n",
       "8909                     80                         4 2024-02-24 00:02:56   \n",
       "\n",
       "      tempo_registro_min  \n",
       "0                    116  \n",
       "1                      2  \n",
       "2                     58  \n",
       "3                     66  \n",
       "4                    116  \n",
       "...                  ...  \n",
       "8905                  66  \n",
       "8906                   8  \n",
       "8907                 282  \n",
       "8908                   4  \n",
       "8909                 194  \n",
       "\n",
       "[8910 rows x 10 columns]"
      ]
     },
     "execution_count": 7,
     "metadata": {},
     "output_type": "execute_result"
    }
   ],
   "source": [
    "df_info_clean = clean_data.maq_info(df_info.copy())\n",
    "df_info_clean"
   ]
  },
  {
   "cell_type": "code",
   "execution_count": 41,
   "metadata": {},
   "outputs": [
    {
     "data": {
      "text/html": [
       "<div>\n",
       "<style scoped>\n",
       "    .dataframe tbody tr th:only-of-type {\n",
       "        vertical-align: middle;\n",
       "    }\n",
       "\n",
       "    .dataframe tbody tr th {\n",
       "        vertical-align: top;\n",
       "    }\n",
       "\n",
       "    .dataframe thead th {\n",
       "        text-align: right;\n",
       "    }\n",
       "</style>\n",
       "<table border=\"1\" class=\"dataframe\">\n",
       "  <thead>\n",
       "    <tr style=\"text-align: right;\">\n",
       "      <th></th>\n",
       "      <th>maquina_id</th>\n",
       "      <th>status</th>\n",
       "      <th>turno</th>\n",
       "      <th>linha</th>\n",
       "      <th>fabrica</th>\n",
       "      <th>data_hora_registro</th>\n",
       "      <th>data_hora_final</th>\n",
       "      <th>tempo_registro_min</th>\n",
       "      <th>contagem_total_ciclos</th>\n",
       "      <th>contagem_total_produzido</th>\n",
       "    </tr>\n",
       "  </thead>\n",
       "  <tbody>\n",
       "    <tr>\n",
       "      <th>0</th>\n",
       "      <td>TMF001</td>\n",
       "      <td>rodando</td>\n",
       "      <td>NOT</td>\n",
       "      <td>9</td>\n",
       "      <td>1</td>\n",
       "      <td>2024-02-01 00:01:38</td>\n",
       "      <td>2024-02-01 01:57:38</td>\n",
       "      <td>116</td>\n",
       "      <td>12</td>\n",
       "      <td>12</td>\n",
       "    </tr>\n",
       "    <tr>\n",
       "      <th>1</th>\n",
       "      <td>TMF001</td>\n",
       "      <td>parada</td>\n",
       "      <td>NOT</td>\n",
       "      <td>9</td>\n",
       "      <td>1</td>\n",
       "      <td>2024-02-01 01:57:38</td>\n",
       "      <td>2024-02-01 01:59:38</td>\n",
       "      <td>2</td>\n",
       "      <td>2276</td>\n",
       "      <td>2266</td>\n",
       "    </tr>\n",
       "    <tr>\n",
       "      <th>2</th>\n",
       "      <td>TMF001</td>\n",
       "      <td>rodando</td>\n",
       "      <td>NOT</td>\n",
       "      <td>9</td>\n",
       "      <td>1</td>\n",
       "      <td>2024-02-01 01:59:38</td>\n",
       "      <td>2024-02-01 02:57:38</td>\n",
       "      <td>58</td>\n",
       "      <td>2304</td>\n",
       "      <td>2292</td>\n",
       "    </tr>\n",
       "    <tr>\n",
       "      <th>3</th>\n",
       "      <td>TMF001</td>\n",
       "      <td>parada</td>\n",
       "      <td>NOT</td>\n",
       "      <td>9</td>\n",
       "      <td>1</td>\n",
       "      <td>2024-02-01 02:57:38</td>\n",
       "      <td>2024-02-01 04:03:38</td>\n",
       "      <td>66</td>\n",
       "      <td>3462</td>\n",
       "      <td>3436</td>\n",
       "    </tr>\n",
       "    <tr>\n",
       "      <th>4</th>\n",
       "      <td>TMF001</td>\n",
       "      <td>rodando</td>\n",
       "      <td>NOT</td>\n",
       "      <td>9</td>\n",
       "      <td>1</td>\n",
       "      <td>2024-02-01 04:03:38</td>\n",
       "      <td>2024-02-01 05:59:39</td>\n",
       "      <td>116</td>\n",
       "      <td>3476</td>\n",
       "      <td>3448</td>\n",
       "    </tr>\n",
       "    <tr>\n",
       "      <th>...</th>\n",
       "      <td>...</td>\n",
       "      <td>...</td>\n",
       "      <td>...</td>\n",
       "      <td>...</td>\n",
       "      <td>...</td>\n",
       "      <td>...</td>\n",
       "      <td>...</td>\n",
       "      <td>...</td>\n",
       "      <td>...</td>\n",
       "      <td>...</td>\n",
       "    </tr>\n",
       "    <tr>\n",
       "      <th>6139</th>\n",
       "      <td>TMF015</td>\n",
       "      <td>rodando</td>\n",
       "      <td>MAT</td>\n",
       "      <td>3</td>\n",
       "      <td>1</td>\n",
       "      <td>2024-02-23 14:02:54</td>\n",
       "      <td>2024-02-23 14:46:54</td>\n",
       "      <td>44</td>\n",
       "      <td>3864</td>\n",
       "      <td>3692</td>\n",
       "    </tr>\n",
       "    <tr>\n",
       "      <th>6140</th>\n",
       "      <td>TMF015</td>\n",
       "      <td>parada</td>\n",
       "      <td>MAT</td>\n",
       "      <td>3</td>\n",
       "      <td>1</td>\n",
       "      <td>2024-02-23 14:46:54</td>\n",
       "      <td>2024-02-23 14:48:54</td>\n",
       "      <td>2</td>\n",
       "      <td>4748</td>\n",
       "      <td>4532</td>\n",
       "    </tr>\n",
       "    <tr>\n",
       "      <th>6141</th>\n",
       "      <td>TMF015</td>\n",
       "      <td>rodando</td>\n",
       "      <td>MAT</td>\n",
       "      <td>3</td>\n",
       "      <td>1</td>\n",
       "      <td>2024-02-23 14:48:54</td>\n",
       "      <td>2024-02-23 15:54:54</td>\n",
       "      <td>66</td>\n",
       "      <td>4754</td>\n",
       "      <td>4532</td>\n",
       "    </tr>\n",
       "    <tr>\n",
       "      <th>6142</th>\n",
       "      <td>TMF015</td>\n",
       "      <td>parada</td>\n",
       "      <td>MAT</td>\n",
       "      <td>3</td>\n",
       "      <td>1</td>\n",
       "      <td>2024-02-23 15:54:54</td>\n",
       "      <td>2024-02-23 16:02:54</td>\n",
       "      <td>8</td>\n",
       "      <td>6122</td>\n",
       "      <td>5856</td>\n",
       "    </tr>\n",
       "    <tr>\n",
       "      <th>6143</th>\n",
       "      <td>TMF015</td>\n",
       "      <td>parada</td>\n",
       "      <td>VES</td>\n",
       "      <td>3</td>\n",
       "      <td>1</td>\n",
       "      <td>2024-02-23 16:02:54</td>\n",
       "      <td>2024-02-24 00:02:56</td>\n",
       "      <td>480</td>\n",
       "      <td>80</td>\n",
       "      <td>4</td>\n",
       "    </tr>\n",
       "  </tbody>\n",
       "</table>\n",
       "<p>6144 rows × 10 columns</p>\n",
       "</div>"
      ],
      "text/plain": [
       "     maquina_id   status turno linha fabrica  data_hora_registro  \\\n",
       "0        TMF001  rodando   NOT     9       1 2024-02-01 00:01:38   \n",
       "1        TMF001   parada   NOT     9       1 2024-02-01 01:57:38   \n",
       "2        TMF001  rodando   NOT     9       1 2024-02-01 01:59:38   \n",
       "3        TMF001   parada   NOT     9       1 2024-02-01 02:57:38   \n",
       "4        TMF001  rodando   NOT     9       1 2024-02-01 04:03:38   \n",
       "...         ...      ...   ...   ...     ...                 ...   \n",
       "6139     TMF015  rodando   MAT     3       1 2024-02-23 14:02:54   \n",
       "6140     TMF015   parada   MAT     3       1 2024-02-23 14:46:54   \n",
       "6141     TMF015  rodando   MAT     3       1 2024-02-23 14:48:54   \n",
       "6142     TMF015   parada   MAT     3       1 2024-02-23 15:54:54   \n",
       "6143     TMF015   parada   VES     3       1 2024-02-23 16:02:54   \n",
       "\n",
       "         data_hora_final  tempo_registro_min  contagem_total_ciclos  \\\n",
       "0    2024-02-01 01:57:38                 116                     12   \n",
       "1    2024-02-01 01:59:38                   2                   2276   \n",
       "2    2024-02-01 02:57:38                  58                   2304   \n",
       "3    2024-02-01 04:03:38                  66                   3462   \n",
       "4    2024-02-01 05:59:39                 116                   3476   \n",
       "...                  ...                 ...                    ...   \n",
       "6139 2024-02-23 14:46:54                  44                   3864   \n",
       "6140 2024-02-23 14:48:54                   2                   4748   \n",
       "6141 2024-02-23 15:54:54                  66                   4754   \n",
       "6142 2024-02-23 16:02:54                   8                   6122   \n",
       "6143 2024-02-24 00:02:56                 480                     80   \n",
       "\n",
       "      contagem_total_produzido  \n",
       "0                           12  \n",
       "1                         2266  \n",
       "2                         2292  \n",
       "3                         3436  \n",
       "4                         3448  \n",
       "...                        ...  \n",
       "6139                      3692  \n",
       "6140                      4532  \n",
       "6141                      4532  \n",
       "6142                      5856  \n",
       "6143                         4  \n",
       "\n",
       "[6144 rows x 10 columns]"
      ]
     },
     "execution_count": 41,
     "metadata": {},
     "output_type": "execute_result"
    }
   ],
   "source": [
    "df_info_stops = clean_data.get_adjusted_stops_data(df_info_clean.copy())\n",
    "df_info_stops"
   ]
  },
  {
   "cell_type": "code",
   "execution_count": 42,
   "metadata": {},
   "outputs": [
    {
     "data": {
      "text/html": [
       "<div>\n",
       "<style scoped>\n",
       "    .dataframe tbody tr th:only-of-type {\n",
       "        vertical-align: middle;\n",
       "    }\n",
       "\n",
       "    .dataframe tbody tr th {\n",
       "        vertical-align: top;\n",
       "    }\n",
       "\n",
       "    .dataframe thead th {\n",
       "        text-align: right;\n",
       "    }\n",
       "</style>\n",
       "<table border=\"1\" class=\"dataframe\">\n",
       "  <thead>\n",
       "    <tr style=\"text-align: right;\">\n",
       "      <th></th>\n",
       "      <th>maquina_id</th>\n",
       "      <th>status</th>\n",
       "      <th>turno</th>\n",
       "      <th>linha</th>\n",
       "      <th>fabrica</th>\n",
       "      <th>data_hora_registro</th>\n",
       "      <th>data_hora_final</th>\n",
       "      <th>tempo_registro_min</th>\n",
       "      <th>contagem_total_ciclos</th>\n",
       "      <th>contagem_total_produzido</th>\n",
       "      <th>sabado</th>\n",
       "      <th>domingo</th>\n",
       "      <th>feriado</th>\n",
       "    </tr>\n",
       "  </thead>\n",
       "  <tbody>\n",
       "    <tr>\n",
       "      <th>0</th>\n",
       "      <td>TMF001</td>\n",
       "      <td>rodando</td>\n",
       "      <td>NOT</td>\n",
       "      <td>9</td>\n",
       "      <td>1</td>\n",
       "      <td>2024-02-01 00:01:38</td>\n",
       "      <td>2024-02-01 01:57:38</td>\n",
       "      <td>116</td>\n",
       "      <td>12</td>\n",
       "      <td>12</td>\n",
       "      <td>0</td>\n",
       "      <td>0</td>\n",
       "      <td>0</td>\n",
       "    </tr>\n",
       "    <tr>\n",
       "      <th>1</th>\n",
       "      <td>TMF001</td>\n",
       "      <td>parada</td>\n",
       "      <td>NOT</td>\n",
       "      <td>9</td>\n",
       "      <td>1</td>\n",
       "      <td>2024-02-01 01:57:38</td>\n",
       "      <td>2024-02-01 01:59:38</td>\n",
       "      <td>2</td>\n",
       "      <td>2276</td>\n",
       "      <td>2266</td>\n",
       "      <td>0</td>\n",
       "      <td>0</td>\n",
       "      <td>0</td>\n",
       "    </tr>\n",
       "    <tr>\n",
       "      <th>2</th>\n",
       "      <td>TMF001</td>\n",
       "      <td>rodando</td>\n",
       "      <td>NOT</td>\n",
       "      <td>9</td>\n",
       "      <td>1</td>\n",
       "      <td>2024-02-01 01:59:38</td>\n",
       "      <td>2024-02-01 02:57:38</td>\n",
       "      <td>58</td>\n",
       "      <td>2304</td>\n",
       "      <td>2292</td>\n",
       "      <td>0</td>\n",
       "      <td>0</td>\n",
       "      <td>0</td>\n",
       "    </tr>\n",
       "    <tr>\n",
       "      <th>3</th>\n",
       "      <td>TMF001</td>\n",
       "      <td>parada</td>\n",
       "      <td>NOT</td>\n",
       "      <td>9</td>\n",
       "      <td>1</td>\n",
       "      <td>2024-02-01 02:57:38</td>\n",
       "      <td>2024-02-01 04:03:38</td>\n",
       "      <td>66</td>\n",
       "      <td>3462</td>\n",
       "      <td>3436</td>\n",
       "      <td>0</td>\n",
       "      <td>0</td>\n",
       "      <td>0</td>\n",
       "    </tr>\n",
       "    <tr>\n",
       "      <th>4</th>\n",
       "      <td>TMF001</td>\n",
       "      <td>rodando</td>\n",
       "      <td>NOT</td>\n",
       "      <td>9</td>\n",
       "      <td>1</td>\n",
       "      <td>2024-02-01 04:03:38</td>\n",
       "      <td>2024-02-01 05:59:39</td>\n",
       "      <td>116</td>\n",
       "      <td>3476</td>\n",
       "      <td>3448</td>\n",
       "      <td>0</td>\n",
       "      <td>0</td>\n",
       "      <td>0</td>\n",
       "    </tr>\n",
       "    <tr>\n",
       "      <th>...</th>\n",
       "      <td>...</td>\n",
       "      <td>...</td>\n",
       "      <td>...</td>\n",
       "      <td>...</td>\n",
       "      <td>...</td>\n",
       "      <td>...</td>\n",
       "      <td>...</td>\n",
       "      <td>...</td>\n",
       "      <td>...</td>\n",
       "      <td>...</td>\n",
       "      <td>...</td>\n",
       "      <td>...</td>\n",
       "      <td>...</td>\n",
       "    </tr>\n",
       "    <tr>\n",
       "      <th>6139</th>\n",
       "      <td>TMF015</td>\n",
       "      <td>rodando</td>\n",
       "      <td>MAT</td>\n",
       "      <td>3</td>\n",
       "      <td>1</td>\n",
       "      <td>2024-02-23 14:02:54</td>\n",
       "      <td>2024-02-23 14:46:54</td>\n",
       "      <td>44</td>\n",
       "      <td>3864</td>\n",
       "      <td>3692</td>\n",
       "      <td>0</td>\n",
       "      <td>0</td>\n",
       "      <td>0</td>\n",
       "    </tr>\n",
       "    <tr>\n",
       "      <th>6140</th>\n",
       "      <td>TMF015</td>\n",
       "      <td>parada</td>\n",
       "      <td>MAT</td>\n",
       "      <td>3</td>\n",
       "      <td>1</td>\n",
       "      <td>2024-02-23 14:46:54</td>\n",
       "      <td>2024-02-23 14:48:54</td>\n",
       "      <td>2</td>\n",
       "      <td>4748</td>\n",
       "      <td>4532</td>\n",
       "      <td>0</td>\n",
       "      <td>0</td>\n",
       "      <td>0</td>\n",
       "    </tr>\n",
       "    <tr>\n",
       "      <th>6141</th>\n",
       "      <td>TMF015</td>\n",
       "      <td>rodando</td>\n",
       "      <td>MAT</td>\n",
       "      <td>3</td>\n",
       "      <td>1</td>\n",
       "      <td>2024-02-23 14:48:54</td>\n",
       "      <td>2024-02-23 15:54:54</td>\n",
       "      <td>66</td>\n",
       "      <td>4754</td>\n",
       "      <td>4532</td>\n",
       "      <td>0</td>\n",
       "      <td>0</td>\n",
       "      <td>0</td>\n",
       "    </tr>\n",
       "    <tr>\n",
       "      <th>6142</th>\n",
       "      <td>TMF015</td>\n",
       "      <td>parada</td>\n",
       "      <td>MAT</td>\n",
       "      <td>3</td>\n",
       "      <td>1</td>\n",
       "      <td>2024-02-23 15:54:54</td>\n",
       "      <td>2024-02-23 16:02:54</td>\n",
       "      <td>8</td>\n",
       "      <td>6122</td>\n",
       "      <td>5856</td>\n",
       "      <td>0</td>\n",
       "      <td>0</td>\n",
       "      <td>0</td>\n",
       "    </tr>\n",
       "    <tr>\n",
       "      <th>6143</th>\n",
       "      <td>TMF015</td>\n",
       "      <td>parada</td>\n",
       "      <td>VES</td>\n",
       "      <td>3</td>\n",
       "      <td>1</td>\n",
       "      <td>2024-02-23 16:02:54</td>\n",
       "      <td>2024-02-24 00:02:56</td>\n",
       "      <td>480</td>\n",
       "      <td>80</td>\n",
       "      <td>4</td>\n",
       "      <td>0</td>\n",
       "      <td>0</td>\n",
       "      <td>0</td>\n",
       "    </tr>\n",
       "  </tbody>\n",
       "</table>\n",
       "<p>6144 rows × 13 columns</p>\n",
       "</div>"
      ],
      "text/plain": [
       "     maquina_id   status turno linha fabrica  data_hora_registro  \\\n",
       "0        TMF001  rodando   NOT     9       1 2024-02-01 00:01:38   \n",
       "1        TMF001   parada   NOT     9       1 2024-02-01 01:57:38   \n",
       "2        TMF001  rodando   NOT     9       1 2024-02-01 01:59:38   \n",
       "3        TMF001   parada   NOT     9       1 2024-02-01 02:57:38   \n",
       "4        TMF001  rodando   NOT     9       1 2024-02-01 04:03:38   \n",
       "...         ...      ...   ...   ...     ...                 ...   \n",
       "6139     TMF015  rodando   MAT     3       1 2024-02-23 14:02:54   \n",
       "6140     TMF015   parada   MAT     3       1 2024-02-23 14:46:54   \n",
       "6141     TMF015  rodando   MAT     3       1 2024-02-23 14:48:54   \n",
       "6142     TMF015   parada   MAT     3       1 2024-02-23 15:54:54   \n",
       "6143     TMF015   parada   VES     3       1 2024-02-23 16:02:54   \n",
       "\n",
       "         data_hora_final  tempo_registro_min  contagem_total_ciclos  \\\n",
       "0    2024-02-01 01:57:38                 116                     12   \n",
       "1    2024-02-01 01:59:38                   2                   2276   \n",
       "2    2024-02-01 02:57:38                  58                   2304   \n",
       "3    2024-02-01 04:03:38                  66                   3462   \n",
       "4    2024-02-01 05:59:39                 116                   3476   \n",
       "...                  ...                 ...                    ...   \n",
       "6139 2024-02-23 14:46:54                  44                   3864   \n",
       "6140 2024-02-23 14:48:54                   2                   4748   \n",
       "6141 2024-02-23 15:54:54                  66                   4754   \n",
       "6142 2024-02-23 16:02:54                   8                   6122   \n",
       "6143 2024-02-24 00:02:56                 480                     80   \n",
       "\n",
       "      contagem_total_produzido  sabado  domingo  feriado  \n",
       "0                           12       0        0        0  \n",
       "1                         2266       0        0        0  \n",
       "2                         2292       0        0        0  \n",
       "3                         3436       0        0        0  \n",
       "4                         3448       0        0        0  \n",
       "...                        ...     ...      ...      ...  \n",
       "6139                      3692       0        0        0  \n",
       "6140                      4532       0        0        0  \n",
       "6141                      4532       0        0        0  \n",
       "6142                      5856       0        0        0  \n",
       "6143                         4       0        0        0  \n",
       "\n",
       "[6144 rows x 13 columns]"
      ]
     },
     "execution_count": 42,
     "metadata": {},
     "output_type": "execute_result"
    }
   ],
   "source": [
    "df_info_cleaned = clean_data.get_maq_info_cleaned(df_info.copy())\n",
    "df_info_cleaned"
   ]
  },
  {
   "cell_type": "code",
   "execution_count": 43,
   "metadata": {},
   "outputs": [
    {
     "data": {
      "text/html": [
       "<div>\n",
       "<style scoped>\n",
       "    .dataframe tbody tr th:only-of-type {\n",
       "        vertical-align: middle;\n",
       "    }\n",
       "\n",
       "    .dataframe tbody tr th {\n",
       "        vertical-align: top;\n",
       "    }\n",
       "\n",
       "    .dataframe thead th {\n",
       "        text-align: right;\n",
       "    }\n",
       "</style>\n",
       "<table border=\"1\" class=\"dataframe\">\n",
       "  <thead>\n",
       "    <tr style=\"text-align: right;\">\n",
       "      <th></th>\n",
       "      <th>maquina_id</th>\n",
       "      <th>motivo_id</th>\n",
       "      <th>motivo_nome</th>\n",
       "      <th>problema</th>\n",
       "      <th>solucao</th>\n",
       "      <th>data_hora_registro</th>\n",
       "      <th>usuario_id</th>\n",
       "    </tr>\n",
       "  </thead>\n",
       "  <tbody>\n",
       "    <tr>\n",
       "      <th>0</th>\n",
       "      <td>TMF005</td>\n",
       "      <td>3</td>\n",
       "      <td>Refeição</td>\n",
       "      <td>Refeição</td>\n",
       "      <td>NaN</td>\n",
       "      <td>2024-02-01 02:58:31</td>\n",
       "      <td>000441</td>\n",
       "    </tr>\n",
       "    <tr>\n",
       "      <th>1</th>\n",
       "      <td>TMF002</td>\n",
       "      <td>3</td>\n",
       "      <td>Refeição</td>\n",
       "      <td>Refeição</td>\n",
       "      <td>NaN</td>\n",
       "      <td>2024-02-01 02:58:41</td>\n",
       "      <td>000441</td>\n",
       "    </tr>\n",
       "    <tr>\n",
       "      <th>2</th>\n",
       "      <td>TMF015</td>\n",
       "      <td>3</td>\n",
       "      <td>Refeição</td>\n",
       "      <td>Refeição</td>\n",
       "      <td>NaN</td>\n",
       "      <td>2024-02-01 02:58:51</td>\n",
       "      <td>000441</td>\n",
       "    </tr>\n",
       "    <tr>\n",
       "      <th>3</th>\n",
       "      <td>TMF011</td>\n",
       "      <td>3</td>\n",
       "      <td>Refeição</td>\n",
       "      <td>Refeição</td>\n",
       "      <td>NaN</td>\n",
       "      <td>2024-02-01 02:59:00</td>\n",
       "      <td>000441</td>\n",
       "    </tr>\n",
       "    <tr>\n",
       "      <th>4</th>\n",
       "      <td>TMF014</td>\n",
       "      <td>3</td>\n",
       "      <td>Refeição</td>\n",
       "      <td>Refeição</td>\n",
       "      <td>NaN</td>\n",
       "      <td>2024-02-01 02:59:11</td>\n",
       "      <td>000441</td>\n",
       "    </tr>\n",
       "    <tr>\n",
       "      <th>...</th>\n",
       "      <td>...</td>\n",
       "      <td>...</td>\n",
       "      <td>...</td>\n",
       "      <td>...</td>\n",
       "      <td>...</td>\n",
       "      <td>...</td>\n",
       "      <td>...</td>\n",
       "    </tr>\n",
       "    <tr>\n",
       "      <th>513</th>\n",
       "      <td>TMF004</td>\n",
       "      <td>16</td>\n",
       "      <td>Limpeza Industrial</td>\n",
       "      <td>Limpeza Industrial</td>\n",
       "      <td>NaN</td>\n",
       "      <td>2024-02-23 16:01:04</td>\n",
       "      <td>000939</td>\n",
       "    </tr>\n",
       "    <tr>\n",
       "      <th>514</th>\n",
       "      <td>TMF009</td>\n",
       "      <td>6</td>\n",
       "      <td>Limpeza</td>\n",
       "      <td>Limpeza</td>\n",
       "      <td>NaN</td>\n",
       "      <td>2024-02-23 17:51:22</td>\n",
       "      <td>000774</td>\n",
       "    </tr>\n",
       "    <tr>\n",
       "      <th>515</th>\n",
       "      <td>TMF007</td>\n",
       "      <td>6</td>\n",
       "      <td>Limpeza</td>\n",
       "      <td>Limpeza</td>\n",
       "      <td>NaN</td>\n",
       "      <td>2024-02-23 17:51:37</td>\n",
       "      <td>000774</td>\n",
       "    </tr>\n",
       "    <tr>\n",
       "      <th>516</th>\n",
       "      <td>TMF012</td>\n",
       "      <td>6</td>\n",
       "      <td>Limpeza</td>\n",
       "      <td>Limpeza</td>\n",
       "      <td>NaN</td>\n",
       "      <td>2024-02-23 17:51:52</td>\n",
       "      <td>000774</td>\n",
       "    </tr>\n",
       "    <tr>\n",
       "      <th>517</th>\n",
       "      <td>TMF008</td>\n",
       "      <td>6</td>\n",
       "      <td>Limpeza</td>\n",
       "      <td>Limpeza</td>\n",
       "      <td>NaN</td>\n",
       "      <td>2024-02-23 17:52:15</td>\n",
       "      <td>000774</td>\n",
       "    </tr>\n",
       "  </tbody>\n",
       "</table>\n",
       "<p>518 rows × 7 columns</p>\n",
       "</div>"
      ],
      "text/plain": [
       "    maquina_id  motivo_id         motivo_nome            problema solucao  \\\n",
       "0       TMF005          3            Refeição            Refeição     NaN   \n",
       "1       TMF002          3            Refeição            Refeição     NaN   \n",
       "2       TMF015          3            Refeição            Refeição     NaN   \n",
       "3       TMF011          3            Refeição            Refeição     NaN   \n",
       "4       TMF014          3            Refeição            Refeição     NaN   \n",
       "..         ...        ...                 ...                 ...     ...   \n",
       "513     TMF004         16  Limpeza Industrial  Limpeza Industrial     NaN   \n",
       "514     TMF009          6             Limpeza             Limpeza     NaN   \n",
       "515     TMF007          6             Limpeza             Limpeza     NaN   \n",
       "516     TMF012          6             Limpeza             Limpeza     NaN   \n",
       "517     TMF008          6             Limpeza             Limpeza     NaN   \n",
       "\n",
       "     data_hora_registro usuario_id  \n",
       "0   2024-02-01 02:58:31     000441  \n",
       "1   2024-02-01 02:58:41     000441  \n",
       "2   2024-02-01 02:58:51     000441  \n",
       "3   2024-02-01 02:59:00     000441  \n",
       "4   2024-02-01 02:59:11     000441  \n",
       "..                  ...        ...  \n",
       "513 2024-02-23 16:01:04     000939  \n",
       "514 2024-02-23 17:51:22     000774  \n",
       "515 2024-02-23 17:51:37     000774  \n",
       "516 2024-02-23 17:51:52     000774  \n",
       "517 2024-02-23 17:52:15     000774  \n",
       "\n",
       "[518 rows x 7 columns]"
      ]
     },
     "execution_count": 43,
     "metadata": {},
     "output_type": "execute_result"
    }
   ],
   "source": [
    "df_maq_occ_cleaned = clean_data.get_maq_occ_cleaned(df_occ.copy())\n",
    "df_maq_occ_cleaned"
   ]
  },
  {
   "cell_type": "code",
   "execution_count": 44,
   "metadata": {},
   "outputs": [
    {
     "data": {
      "text/html": [
       "<div>\n",
       "<style scoped>\n",
       "    .dataframe tbody tr th:only-of-type {\n",
       "        vertical-align: middle;\n",
       "    }\n",
       "\n",
       "    .dataframe tbody tr th {\n",
       "        vertical-align: top;\n",
       "    }\n",
       "\n",
       "    .dataframe thead th {\n",
       "        text-align: right;\n",
       "    }\n",
       "</style>\n",
       "<table border=\"1\" class=\"dataframe\">\n",
       "  <thead>\n",
       "    <tr style=\"text-align: right;\">\n",
       "      <th></th>\n",
       "      <th>maquina_id</th>\n",
       "      <th>linha</th>\n",
       "      <th>turno</th>\n",
       "      <th>total_ciclos</th>\n",
       "      <th>total_produzido</th>\n",
       "      <th>data_registro</th>\n",
       "      <th>hora_registro</th>\n",
       "    </tr>\n",
       "  </thead>\n",
       "  <tbody>\n",
       "    <tr>\n",
       "      <th>0</th>\n",
       "      <td>TMF001</td>\n",
       "      <td>9</td>\n",
       "      <td>NOT</td>\n",
       "      <td>7898</td>\n",
       "      <td>7810</td>\n",
       "      <td>2024-02-01</td>\n",
       "      <td>07:59:39.593333</td>\n",
       "    </tr>\n",
       "    <tr>\n",
       "      <th>1</th>\n",
       "      <td>TMF001</td>\n",
       "      <td>9</td>\n",
       "      <td>MAT</td>\n",
       "      <td>7928</td>\n",
       "      <td>7828</td>\n",
       "      <td>2024-02-01</td>\n",
       "      <td>15:59:41.033333</td>\n",
       "    </tr>\n",
       "    <tr>\n",
       "      <th>2</th>\n",
       "      <td>TMF001</td>\n",
       "      <td>9</td>\n",
       "      <td>VES</td>\n",
       "      <td>90</td>\n",
       "      <td>14</td>\n",
       "      <td>2024-02-01</td>\n",
       "      <td>23:59:42.476666</td>\n",
       "    </tr>\n",
       "    <tr>\n",
       "      <th>3</th>\n",
       "      <td>TMF001</td>\n",
       "      <td>9</td>\n",
       "      <td>NOT</td>\n",
       "      <td>0</td>\n",
       "      <td>0</td>\n",
       "      <td>2024-02-02</td>\n",
       "      <td>06:45:43.693333</td>\n",
       "    </tr>\n",
       "    <tr>\n",
       "      <th>4</th>\n",
       "      <td>TMF001</td>\n",
       "      <td>9</td>\n",
       "      <td>VES</td>\n",
       "      <td>0</td>\n",
       "      <td>0</td>\n",
       "      <td>2024-02-02</td>\n",
       "      <td>23:59:05.410000</td>\n",
       "    </tr>\n",
       "    <tr>\n",
       "      <th>...</th>\n",
       "      <td>...</td>\n",
       "      <td>...</td>\n",
       "      <td>...</td>\n",
       "      <td>...</td>\n",
       "      <td>...</td>\n",
       "      <td>...</td>\n",
       "      <td>...</td>\n",
       "    </tr>\n",
       "    <tr>\n",
       "      <th>910</th>\n",
       "      <td>TMF015</td>\n",
       "      <td>3</td>\n",
       "      <td>VES</td>\n",
       "      <td>2292</td>\n",
       "      <td>2242</td>\n",
       "      <td>2024-02-22</td>\n",
       "      <td>23:58:51.823333</td>\n",
       "    </tr>\n",
       "    <tr>\n",
       "      <th>911</th>\n",
       "      <td>TMF015</td>\n",
       "      <td>3</td>\n",
       "      <td>NOT</td>\n",
       "      <td>7172</td>\n",
       "      <td>7126</td>\n",
       "      <td>2024-02-23</td>\n",
       "      <td>08:00:53.266666</td>\n",
       "    </tr>\n",
       "    <tr>\n",
       "      <th>912</th>\n",
       "      <td>TMF015</td>\n",
       "      <td>3</td>\n",
       "      <td>MAT</td>\n",
       "      <td>6144</td>\n",
       "      <td>5864</td>\n",
       "      <td>2024-02-23</td>\n",
       "      <td>16:00:54.713333</td>\n",
       "    </tr>\n",
       "    <tr>\n",
       "      <th>913</th>\n",
       "      <td>TMF015</td>\n",
       "      <td>3</td>\n",
       "      <td>VES</td>\n",
       "      <td>80</td>\n",
       "      <td>4</td>\n",
       "      <td>2024-02-23</td>\n",
       "      <td>23:58:56.143333</td>\n",
       "    </tr>\n",
       "    <tr>\n",
       "      <th>914</th>\n",
       "      <td>TMF015</td>\n",
       "      <td>3</td>\n",
       "      <td>NOT</td>\n",
       "      <td>0</td>\n",
       "      <td>0</td>\n",
       "      <td>2024-02-24</td>\n",
       "      <td>06:50:57.380000</td>\n",
       "    </tr>\n",
       "  </tbody>\n",
       "</table>\n",
       "<p>915 rows × 7 columns</p>\n",
       "</div>"
      ],
      "text/plain": [
       "    maquina_id linha turno  total_ciclos  total_produzido data_registro  \\\n",
       "0       TMF001     9   NOT          7898             7810    2024-02-01   \n",
       "1       TMF001     9   MAT          7928             7828    2024-02-01   \n",
       "2       TMF001     9   VES            90               14    2024-02-01   \n",
       "3       TMF001     9   NOT             0                0    2024-02-02   \n",
       "4       TMF001     9   VES             0                0    2024-02-02   \n",
       "..         ...   ...   ...           ...              ...           ...   \n",
       "910     TMF015     3   VES          2292             2242    2024-02-22   \n",
       "911     TMF015     3   NOT          7172             7126    2024-02-23   \n",
       "912     TMF015     3   MAT          6144             5864    2024-02-23   \n",
       "913     TMF015     3   VES            80                4    2024-02-23   \n",
       "914     TMF015     3   NOT             0                0    2024-02-24   \n",
       "\n",
       "       hora_registro  \n",
       "0    07:59:39.593333  \n",
       "1    15:59:41.033333  \n",
       "2    23:59:42.476666  \n",
       "3    06:45:43.693333  \n",
       "4    23:59:05.410000  \n",
       "..               ...  \n",
       "910  23:58:51.823333  \n",
       "911  08:00:53.266666  \n",
       "912  16:00:54.713333  \n",
       "913  23:58:56.143333  \n",
       "914  06:50:57.380000  \n",
       "\n",
       "[915 rows x 7 columns]"
      ]
     },
     "execution_count": 44,
     "metadata": {},
     "output_type": "execute_result"
    }
   ],
   "source": [
    "df_maq_info_production_cleaned = clean_data.get_maq_production_cleaned(df_info_production.copy())\n",
    "df_maq_info_production_cleaned"
   ]
  },
  {
   "cell_type": "code",
   "execution_count": 45,
   "metadata": {},
   "outputs": [
    {
     "data": {
      "text/html": [
       "<div>\n",
       "<style scoped>\n",
       "    .dataframe tbody tr th:only-of-type {\n",
       "        vertical-align: middle;\n",
       "    }\n",
       "\n",
       "    .dataframe tbody tr th {\n",
       "        vertical-align: top;\n",
       "    }\n",
       "\n",
       "    .dataframe thead th {\n",
       "        text-align: right;\n",
       "    }\n",
       "</style>\n",
       "<table border=\"1\" class=\"dataframe\">\n",
       "  <thead>\n",
       "    <tr style=\"text-align: right;\">\n",
       "      <th></th>\n",
       "      <th>linha</th>\n",
       "      <th>turno</th>\n",
       "      <th>motivo_nome</th>\n",
       "      <th>data_registro</th>\n",
       "      <th>tempo_registro_min</th>\n",
       "    </tr>\n",
       "  </thead>\n",
       "  <tbody>\n",
       "    <tr>\n",
       "      <th>187</th>\n",
       "      <td>1</td>\n",
       "      <td>MAT</td>\n",
       "      <td>Rodando</td>\n",
       "      <td>2024-02-01</td>\n",
       "      <td>306</td>\n",
       "    </tr>\n",
       "    <tr>\n",
       "      <th>188</th>\n",
       "      <td>1</td>\n",
       "      <td>MAT</td>\n",
       "      <td>Rodando</td>\n",
       "      <td>2024-02-05</td>\n",
       "      <td>302</td>\n",
       "    </tr>\n",
       "    <tr>\n",
       "      <th>189</th>\n",
       "      <td>1</td>\n",
       "      <td>MAT</td>\n",
       "      <td>Rodando</td>\n",
       "      <td>2024-02-06</td>\n",
       "      <td>336</td>\n",
       "    </tr>\n",
       "    <tr>\n",
       "      <th>190</th>\n",
       "      <td>1</td>\n",
       "      <td>MAT</td>\n",
       "      <td>Rodando</td>\n",
       "      <td>2024-02-07</td>\n",
       "      <td>254</td>\n",
       "    </tr>\n",
       "    <tr>\n",
       "      <th>191</th>\n",
       "      <td>1</td>\n",
       "      <td>MAT</td>\n",
       "      <td>Rodando</td>\n",
       "      <td>2024-02-08</td>\n",
       "      <td>326</td>\n",
       "    </tr>\n",
       "    <tr>\n",
       "      <th>...</th>\n",
       "      <td>...</td>\n",
       "      <td>...</td>\n",
       "      <td>...</td>\n",
       "      <td>...</td>\n",
       "      <td>...</td>\n",
       "    </tr>\n",
       "    <tr>\n",
       "      <th>2283</th>\n",
       "      <td>14</td>\n",
       "      <td>VES</td>\n",
       "      <td>Rodando</td>\n",
       "      <td>2024-02-09</td>\n",
       "      <td>462</td>\n",
       "    </tr>\n",
       "    <tr>\n",
       "      <th>2287</th>\n",
       "      <td>14</td>\n",
       "      <td>VES</td>\n",
       "      <td>Rodando</td>\n",
       "      <td>2024-02-16</td>\n",
       "      <td>286</td>\n",
       "    </tr>\n",
       "    <tr>\n",
       "      <th>2288</th>\n",
       "      <td>14</td>\n",
       "      <td>VES</td>\n",
       "      <td>Rodando</td>\n",
       "      <td>2024-02-17</td>\n",
       "      <td>20</td>\n",
       "    </tr>\n",
       "    <tr>\n",
       "      <th>2290</th>\n",
       "      <td>14</td>\n",
       "      <td>VES</td>\n",
       "      <td>Rodando</td>\n",
       "      <td>2024-02-19</td>\n",
       "      <td>334</td>\n",
       "    </tr>\n",
       "    <tr>\n",
       "      <th>2291</th>\n",
       "      <td>14</td>\n",
       "      <td>VES</td>\n",
       "      <td>Rodando</td>\n",
       "      <td>2024-02-20</td>\n",
       "      <td>214</td>\n",
       "    </tr>\n",
       "  </tbody>\n",
       "</table>\n",
       "<p>477 rows × 5 columns</p>\n",
       "</div>"
      ],
      "text/plain": [
       "     linha turno motivo_nome data_registro  tempo_registro_min\n",
       "187      1   MAT     Rodando    2024-02-01                 306\n",
       "188      1   MAT     Rodando    2024-02-05                 302\n",
       "189      1   MAT     Rodando    2024-02-06                 336\n",
       "190      1   MAT     Rodando    2024-02-07                 254\n",
       "191      1   MAT     Rodando    2024-02-08                 326\n",
       "...    ...   ...         ...           ...                 ...\n",
       "2283    14   VES     Rodando    2024-02-09                 462\n",
       "2287    14   VES     Rodando    2024-02-16                 286\n",
       "2288    14   VES     Rodando    2024-02-17                  20\n",
       "2290    14   VES     Rodando    2024-02-19                 334\n",
       "2291    14   VES     Rodando    2024-02-20                 214\n",
       "\n",
       "[477 rows x 5 columns]"
      ]
     },
     "execution_count": 45,
     "metadata": {},
     "output_type": "execute_result"
    }
   ],
   "source": [
    "df_rodando = clean_data.get_time_working(df_info.copy())\n",
    "df_rodando"
   ]
  },
  {
   "cell_type": "markdown",
   "metadata": {},
   "source": [
    "# Unir info e ocorrências\n"
   ]
  },
  {
   "cell_type": "code",
   "execution_count": 46,
   "metadata": {},
   "outputs": [],
   "source": [
    "# service/join_data.py\n",
    "# cSpell: disable=invalid-name\n",
    "\n",
    "\n",
    "class JoinData:\n",
    "    \"\"\"\n",
    "    Essa classe é responsável por juntar os dados de ocorrências, paradas e produção.\n",
    "    \"\"\"\n",
    "\n",
    "    def join_info_occ(self, df_occ: pd.DataFrame, df_info: pd.DataFrame) -> pd.DataFrame:\n",
    "        \"\"\"\n",
    "        Junta os dados de ocorrências e paradas.\n",
    "\n",
    "        Args:\n",
    "            df_occ (pd.DataFrame): DataFrame com os dados de ocorrências.\n",
    "            df_info (pd.DataFrame): DataFrame com os dados de paradas.\n",
    "\n",
    "        Returns:\n",
    "            pd.DataFrame: DataFrame com os dados de ocorrências e paradas juntos.\n",
    "        \"\"\"\n",
    "\n",
    "        # Garantir que as culunas com datas sejam datetime\n",
    "        df_occ[\"data_hora_registro\"] = pd.to_datetime(df_occ[\"data_hora_registro\"])\n",
    "        df_info[\"data_hora_registro\"] = pd.to_datetime(df_info[\"data_hora_registro\"])\n",
    "        df_info[\"data_hora_final\"] = pd.to_datetime(df_info[\"data_hora_final\"])\n",
    "\n",
    "        # Juntar os dados de ocorrências e paradas\n",
    "        def merge_rows(row):\n",
    "            \"\"\"\n",
    "            Função para juntar os dados de ocorrências e paradas.\n",
    "            \"\"\"\n",
    "            mask = (\n",
    "                (df_occ[\"maquina_id\"] == row[\"maquina_id\"])\n",
    "                & (df_occ[\"data_hora_registro\"] >= row[\"data_hora_registro\"])\n",
    "                & (df_occ[\"data_hora_registro\"] <= row[\"data_hora_final\"])\n",
    "            )  # mask para identificar as paradas que ocorreram durante a ocorrência\n",
    "\n",
    "            # Criar dataframe com as paradas que ocorreram durante a ocorrência\n",
    "            if df_occ[mask].shape[0] > 0:\n",
    "                return pd.Series(\n",
    "                    [\n",
    "                        df_occ[mask][\"motivo_id\"].values[0],\n",
    "                        df_occ[mask][\"motivo_nome\"].values[0],\n",
    "                        df_occ[mask][\"problema\"].values[0],\n",
    "                        df_occ[mask][\"solucao\"].values[0],\n",
    "                        df_occ[mask][\"data_hora_registro\"].values[0],\n",
    "                        df_occ[mask][\"usuario_id\"].values[0],\n",
    "                    ],\n",
    "                )\n",
    "            else:\n",
    "                return pd.Series([None, None, None, None, None, None])\n",
    "\n",
    "        # Aplicar a função merge_rows\n",
    "        df_info[\n",
    "            [\n",
    "                \"motivo_id\",\n",
    "                \"motivo_nome\",\n",
    "                \"problema\",\n",
    "                \"solucao\",\n",
    "                \"data_hora_registro_occ\",\n",
    "                \"usuario_id_occ\",\n",
    "            ]\n",
    "        ] = df_info.apply(merge_rows, axis=1)\n",
    "\n",
    "        # Reordenar colunas\n",
    "        df_info = df_info.reindex(\n",
    "            columns=[\n",
    "                \"maquina_id\",\n",
    "                \"linha\",\n",
    "                \"fabrica\",\n",
    "                \"turno\",\n",
    "                \"data_hora_registro\",\n",
    "                \"tempo_registro_min\",\n",
    "                \"data_hora_final\",\n",
    "                \"status\",\n",
    "                \"motivo_id\",\n",
    "                \"data_hora_registro_occ\",\n",
    "                \"motivo_nome\",\n",
    "                \"problema\",\n",
    "                \"solucao\",\n",
    "                \"usuario_id_occ\",\n",
    "                \"contagem_total_ciclos\",\n",
    "                \"contagem_total_produzido\",\n",
    "                \"sabado\",\n",
    "                \"domingo\",\n",
    "                \"feriado\",\n",
    "            ]\n",
    "        )\n",
    "\n",
    "        # Ordenar por linha, data_hora_registro\n",
    "        df_info.sort_values(by=[\"linha\", \"data_hora_registro\"], inplace=True)\n",
    "\n",
    "        # Ajustar problema e solução caso seja \"nan\"\n",
    "        df_info[\"problema\"] = df_info[\"problema\"].astype(str)\n",
    "        df_info[\"solucao\"] = df_info[\"solucao\"].astype(str)\n",
    "        df_info[\"problema\"] = np.where(df_info[\"problema\"] == \"nan\", np.nan, df_info[\"problema\"])\n",
    "        df_info[\"solucao\"] = np.where(df_info[\"solucao\"] == \"nan\", np.nan, df_info[\"solucao\"])\n",
    "\n",
    "        # Remove a linha com tempo_registro_min negativo ou 0\n",
    "        df_info = df_info[df_info[\"tempo_registro_min\"] > 0]\n",
    "\n",
    "        def move_columns(df: pd.DataFrame) -> pd.DataFrame:\n",
    "            # Adiciona uma verificação para garantir que 'data_hora_registro_occ', 'data_hora_registro' e 'data_hora_final' não sejam NaN\n",
    "            mask = (\n",
    "                df[[\"data_hora_registro_occ\", \"data_hora_registro\", \"data_hora_final\"]]\n",
    "                .notna()\n",
    "                .all(axis=1)\n",
    "            )\n",
    "\n",
    "            df[\"data_hora_registro_occ\"] = df[\"data_hora_registro_occ\"].replace(np.nan, pd.NaT)\n",
    "            df = df.astype({\"data_hora_registro_occ\": \"datetime64[ns]\"})\n",
    "\n",
    "            # Calcula a diferença absoluta entre data_hora_registro_occ e data_hora_registro e data_hora_final\n",
    "            df[\"diff_registro\"] = np.where(\n",
    "                mask,\n",
    "                (df[\"data_hora_registro_occ\"] - df[\"data_hora_registro\"]).dt.total_seconds().abs(),\n",
    "                np.nan,\n",
    "            )\n",
    "            df[\"diff_final\"] = np.where(\n",
    "                mask,\n",
    "                (df[\"data_hora_registro_occ\"] - df[\"data_hora_final\"]).dt.total_seconds().abs(),\n",
    "                np.nan,\n",
    "            )\n",
    "\n",
    "            # Encontra qual das duas diferenças é menor\n",
    "            mask_idxmin = df[[\"diff_registro\", \"diff_final\"]].notna().any(axis=1)\n",
    "            df.loc[mask & mask_idxmin, \"closest\"] = df.loc[\n",
    "                mask & mask_idxmin, [\"diff_registro\", \"diff_final\"]\n",
    "            ].idxmin(\n",
    "                axis=1\n",
    "            )  # removendo erro:\n",
    "            # FutureWarning: The behavior of DataFrame.idxmin with all-NA values,\n",
    "            # or any-NA and skipna=False, is deprecated.\n",
    "            # In a future version this will raise ValueError\n",
    "\n",
    "            columns = [\n",
    "                \"motivo_id\",\n",
    "                \"motivo_nome\",\n",
    "                \"problema\",\n",
    "                \"solucao\",\n",
    "                \"usuario_id_occ\",\n",
    "            ]\n",
    "\n",
    "            # Move a ocorrência para a linha anterior se a data_hora_registro for mais próxima\n",
    "            mask = (\n",
    "                (df[\"closest\"].shift(-1) == \"diff_registro\")\n",
    "                & (df[\"status\"].shift(-1) == \"rodando\")\n",
    "                & df[\"motivo_id\"].isnull()\n",
    "            )\n",
    "            for column in columns:\n",
    "                df[column] = np.where(mask, df[column].shift(-1), df[column])\n",
    "                df[column] = np.where(mask.shift(1), np.nan, df[column])\n",
    "\n",
    "            # Tratamento separado para a coluna \"data_hora_registro_occ\"\n",
    "            df[\"data_hora_registro_occ\"] = np.where(\n",
    "                mask, df[\"data_hora_registro_occ\"].shift(-1), df[\"data_hora_registro_occ\"]\n",
    "            )\n",
    "            df[\"data_hora_registro_occ\"] = np.where(\n",
    "                mask.shift(1), pd.NaT, df[\"data_hora_registro_occ\"]\n",
    "            )\n",
    "\n",
    "            # Move a ocorrência para a linha seguinte se a data_hora_final for mais próxima\n",
    "            mask = (\n",
    "                (df[\"closest\"].shift(1) == \"diff_final\")\n",
    "                & (df[\"status\"].shift(1) == \"rodando\")\n",
    "                & df[\"motivo_id\"].isnull()\n",
    "            )\n",
    "            for column in columns:\n",
    "                df[column] = np.where(mask, df[column].shift(1), df[column])\n",
    "                df[column] = np.where(mask.shift(-1), np.nan, df[column])\n",
    "\n",
    "            # Tratamento separado para a coluna \"data_hora_registro_occ\"\n",
    "            df[\"data_hora_registro_occ\"] = np.where(\n",
    "                mask, df[\"data_hora_registro_occ\"].shift(1), df[\"data_hora_registro_occ\"]\n",
    "            )\n",
    "            df[\"data_hora_registro_occ\"] = np.where(\n",
    "                mask.shift(-1), pd.NaT, df[\"data_hora_registro_occ\"]\n",
    "            )\n",
    "\n",
    "            return df\n",
    "\n",
    "        df_info = move_columns(df_info)\n",
    "\n",
    "        # Remove colunas desnecessárias\n",
    "        df_info.drop(\n",
    "            columns=[\n",
    "                \"diff_registro\",\n",
    "                \"diff_final\",\n",
    "                \"closest\",\n",
    "            ],\n",
    "            inplace=True,\n",
    "        )\n",
    "\n",
    "        # Ajustar motivo id\n",
    "        df_info[\"motivo_id\"] = df_info[\"motivo_id\"].fillna(np.nan)\n",
    "\n",
    "        # Ajustar em problema, solucao, usuario_id_occ e motivo_nome\n",
    "        df_info[\"problema\"] = df_info[\"problema\"].fillna(\"\")\n",
    "        df_info[\"solucao\"] = df_info[\"solucao\"].fillna(\"\")\n",
    "        df_info[\"usuario_id_occ\"] = np.where(\n",
    "            df_info[\"usuario_id_occ\"] == pd.NaT, np.nan, df_info[\"usuario_id_occ\"]\n",
    "        )\n",
    "        df_info[\"motivo_nome\"] = np.where(\n",
    "            df_info[\"motivo_nome\"] == pd.NaT, np.nan, df_info[\"motivo_nome\"]\n",
    "        )\n",
    "        # Mudar de np.nan para pd.NaT em data_hora_registro_occ\n",
    "        df_info[\"data_hora_registro_occ\"] = np.where(\n",
    "            df_info[\"data_hora_registro_occ\"].isnull(), pd.NaT, df_info[\"data_hora_registro_occ\"]\n",
    "        )\n",
    "\n",
    "        # Corrigir os formatos das colunas\n",
    "        df_info = df_info.astype(\n",
    "            {\n",
    "                \"data_hora_registro_occ\": \"datetime64[ns]\",\n",
    "                \"motivo_nome\": \"category\",\n",
    "                \"problema\": str,\n",
    "                \"solucao\": str,\n",
    "                \"usuario_id_occ\": \"category\",\n",
    "            }\n",
    "        )\n",
    "\n",
    "        # Ajustar problema para Domingo, Sábado e Feriado se motivo_id for 12\n",
    "        df_info[\"problema\"] = np.where(\n",
    "            (df_info[\"motivo_id\"] == 12) & (df_info[\"domingo\"] == 1),\n",
    "            \"Domingo\",\n",
    "            df_info[\"problema\"],\n",
    "        )\n",
    "        df_info[\"problema\"] = np.where(\n",
    "            (df_info[\"motivo_id\"] == 12) & (df_info[\"sabado\"] == 1),\n",
    "            \"Sábado\",\n",
    "            df_info[\"problema\"],\n",
    "        )\n",
    "        df_info[\"problema\"] = np.where(\n",
    "            (df_info[\"motivo_id\"] == 12) & (df_info[\"feriado\"] == 1),\n",
    "            \"Feriado\",\n",
    "            df_info[\"problema\"],\n",
    "        )\n",
    "\n",
    "        # Se o motivo_id for nulo, status for parada e o tempo registro for maior que 475 e for sábado, domingo ou feriado, então o problema é \"Domingo\", \"Sábado\" ou \"Feriado\" e o motivo id é 12 e o motivo nome é \"Parada Programada\"\n",
    "        condition = (\n",
    "            (df_info[\"motivo_id\"].isnull())\n",
    "            & (df_info[\"status\"] == \"parada\")\n",
    "            & (df_info[\"tempo_registro_min\"] > 475)\n",
    "        )\n",
    "        condition_sabado = condition & (df_info[\"sabado\"] == 1)\n",
    "        df_info[\"motivo_id\"] = np.where(condition_sabado, 12, df_info[\"motivo_id\"])\n",
    "        df_info[\"motivo_nome\"] = np.where(\n",
    "            condition_sabado, \"Parada Programada\", df_info[\"motivo_nome\"]\n",
    "        )\n",
    "        df_info[\"problema\"] = np.where(condition_sabado, \"Sábado\", df_info[\"problema\"])\n",
    "\n",
    "        condition_domingo = condition & (df_info[\"domingo\"] == 1)\n",
    "        df_info[\"motivo_id\"] = np.where(condition_domingo, 12, df_info[\"motivo_id\"])\n",
    "        df_info[\"motivo_nome\"] = np.where(\n",
    "            condition_domingo, \"Parada Programada\", df_info[\"motivo_nome\"]\n",
    "        )\n",
    "        df_info[\"problema\"] = np.where(condition_domingo, \"Domingo\", df_info[\"problema\"])\n",
    "\n",
    "        condition_feriado = condition & (df_info[\"feriado\"] == 1)\n",
    "        df_info[\"motivo_id\"] = np.where(condition_feriado, 12, df_info[\"motivo_id\"])\n",
    "        df_info[\"motivo_nome\"] = np.where(\n",
    "            condition_feriado, \"Parada Programada\", df_info[\"motivo_nome\"]\n",
    "        )\n",
    "        df_info[\"problema\"] = np.where(condition_feriado, \"Feriado\", df_info[\"problema\"])\n",
    "\n",
    "        # Se o tempo de registro for maior que 480 mudar para 480\n",
    "        df_info[\"tempo_registro_min\"] = np.where(\n",
    "            df_info[\"tempo_registro_min\"] > 480, 480, df_info[\"tempo_registro_min\"]\n",
    "        )\n",
    "\n",
    "        # Ajusta para parada programada qdo não tem o motivo e fica parada todo turno\n",
    "        mask = (df_info[\"motivo_id\"].isnull()) & (df_info[\"tempo_registro_min\"] >= 478)\n",
    "        df_info[\"motivo_id\"] = np.where(mask, 12, df_info[\"motivo_id\"])\n",
    "        df_info[\"motivo_nome\"] = np.where(mask, \"Parada Programada\", df_info[\"motivo_nome\"])\n",
    "\n",
    "        # ---- Busca a última parada caso não tenha motivo e seja a primeira parada do turno ---- #\n",
    "        # Ordena o DataFrame por 'maquina_id' e 'turno'\n",
    "        df_info.sort_values(by=[\"maquina_id\", \"data_hora_registro\"], inplace=True)\n",
    "\n",
    "        # Cria colunas temporárias com os valores do último turno\n",
    "        df_info[\"motivo_id_last\"] = df_info.groupby(\"maquina_id\", observed=False)[\n",
    "            \"motivo_id\"\n",
    "        ].shift()\n",
    "        df_info[\"motivo_nome_last\"] = df_info.groupby(\"maquina_id\", observed=False)[\n",
    "            \"motivo_nome\"\n",
    "        ].shift()\n",
    "        df_info[\"problema_last\"] = df_info.groupby(\"maquina_id\", observed=False)[\"problema\"].shift()\n",
    "        df_info[\"solucao_last\"] = df_info.groupby(\"maquina_id\", observed=False)[\"solucao\"].shift()\n",
    "\n",
    "        # Cria a máscara para as linhas que atendem às condições\n",
    "        mask = (df_info[\"tempo_registro_min\"] > 475) & df_info[\"motivo_id\"].isnull()\n",
    "\n",
    "        # Aplica a máscara e substitui os valores nas colunas originais\n",
    "        df_info.loc[mask, \"motivo_id\"] = df_info.loc[mask, \"motivo_id_last\"]\n",
    "        df_info.loc[mask, \"motivo_nome\"] = df_info.loc[mask, \"motivo_nome_last\"]\n",
    "        df_info.loc[mask, \"problema\"] = df_info.loc[mask, \"problema_last\"]\n",
    "        df_info.loc[mask, \"solucao\"] = df_info.loc[mask, \"solucao_last\"]\n",
    "\n",
    "        # Remove as colunas temporárias\n",
    "        df_info = df_info.drop(\n",
    "            columns=[\"motivo_id_last\", \"motivo_nome_last\", \"problema_last\", \"solucao_last\"]\n",
    "        )\n",
    "        # -------------------------------------------------------------------------------- #\n",
    "\n",
    "        # Se for motivo 12 e parada for 478 minutos ou mais, ajustar para 480\n",
    "        df_info[\"tempo_registro_min\"] = np.where(\n",
    "            (df_info[\"motivo_id\"] == 12) & (df_info[\"tempo_registro_min\"] >= 478),\n",
    "            480,\n",
    "            df_info[\"tempo_registro_min\"],\n",
    "        )\n",
    "\n",
    "        # Se o motivo for 6, o tempo de registro for maior que 200 e for sábado,\n",
    "        # alterar o motivo para 16 e o motivo_nome para \"Limpeza Industrial\"\n",
    "        m6_mask = (\n",
    "            (df_info[\"motivo_id\"] == 6)\n",
    "            & (df_info[\"tempo_registro_min\"] > 200)\n",
    "            & (df_info[\"sabado\"] == 1)\n",
    "        )\n",
    "        df_info[\"motivo_id\"] = np.where(m6_mask, 16, df_info[\"motivo_id\"])\n",
    "        df_info[\"motivo_nome\"] = np.where(\n",
    "            (df_info[\"motivo_id\"] == 16) & (df_info[\"sabado\"] == 1),\n",
    "            \"Limpeza Industrial\",\n",
    "            df_info[\"motivo_nome\"],\n",
    "        )\n",
    "\n",
    "        # Se for domingo e o tempo de registro for 480, ajustar para\n",
    "        # motivo_id 12, motivo_nome \"Parada Programada\" e problema \"Domingo\"\n",
    "        condition_mask = (df_info[\"domingo\"] == 1) & (df_info[\"tempo_registro_min\"] == 480)\n",
    "        df_info[\"motivo_id\"] = np.where(condition_mask, 12, df_info[\"motivo_id\"])\n",
    "        df_info[\"motivo_nome\"] = np.where(\n",
    "            condition_mask, \"Parada Programada\", df_info[\"motivo_nome\"]\n",
    "        )\n",
    "        df_info[\"problema\"] = np.where(condition_mask, \"Domingo\", df_info[\"problema\"])\n",
    "\n",
    "        # Remover as linhas onde a linha é 0\n",
    "        df_info = df_info[df_info[\"linha\"] != 0]\n",
    "\n",
    "        # Remover as linhas onde status é rodando\n",
    "        df_info = df_info[df_info[\"status\"] != \"rodando\"]\n",
    "\n",
    "        # Ajustar o index\n",
    "        df_info.reset_index(drop=True, inplace=True)\n",
    "\n",
    "        return df_info\n",
    "\n",
    "    def problems_adjust(self, df: pd.DataFrame, threshold=88) -> pd.DataFrame:\n",
    "        \"\"\"\n",
    "        Ajusta os problemas no DataFrame fornecido, mapeando problemas semelhantes para um nome comum.\n",
    "\n",
    "        Args:\n",
    "            df (pd.DataFrame): O DataFrame contendo os problemas a serem ajustados.\n",
    "            threshold (int, opcional): O limite de similaridade para combinar problemas. Por padrão é 88.\n",
    "\n",
    "        Returns:\n",
    "            pd.DataFrame: O DataFrame com problemas ajustados.\n",
    "        \"\"\"\n",
    "        # Encontrar problemas únicos\n",
    "        unique_problems = df[\"problema\"].unique()\n",
    "        problem_mapping = {}\n",
    "\n",
    "        # Criar um dicionário para mapear os problemas\n",
    "        for problem in unique_problems:\n",
    "            if problem and problem not in problem_mapping:\n",
    "                problem = str(problem).capitalize()\n",
    "\n",
    "                # Corrigir erros básicos de digitação\n",
    "                problem = problem.replace(\"Beckup\", \"Backup\")\n",
    "                problem = problem.replace(\"Becukp\", \"Backup\")\n",
    "                problem = problem.replace(\"Stm\", \"Atm\")\n",
    "\n",
    "                matches = process.extract(problem, unique_problems, limit=len(unique_problems))\n",
    "\n",
    "                # Encontrar os problemas com maior similaridade\n",
    "                similar_problems = [match[0] for match in matches if match[1] >= threshold]\n",
    "\n",
    "                # Criar um dicionário com os problemas similares\n",
    "                for similar_problem in similar_problems:\n",
    "                    problem_mapping[similar_problem] = problem\n",
    "\n",
    "        # Mapear os problemas\n",
    "        df[\"problema\"] = df[\"problema\"].map(problem_mapping)\n",
    "\n",
    "        return df\n",
    "\n",
    "\n",
    "join_data = JoinData()"
   ]
  },
  {
   "cell_type": "code",
   "execution_count": 47,
   "metadata": {},
   "outputs": [
    {
     "data": {
      "text/html": [
       "<div>\n",
       "<style scoped>\n",
       "    .dataframe tbody tr th:only-of-type {\n",
       "        vertical-align: middle;\n",
       "    }\n",
       "\n",
       "    .dataframe tbody tr th {\n",
       "        vertical-align: top;\n",
       "    }\n",
       "\n",
       "    .dataframe thead th {\n",
       "        text-align: right;\n",
       "    }\n",
       "</style>\n",
       "<table border=\"1\" class=\"dataframe\">\n",
       "  <thead>\n",
       "    <tr style=\"text-align: right;\">\n",
       "      <th></th>\n",
       "      <th>maquina_id</th>\n",
       "      <th>linha</th>\n",
       "      <th>fabrica</th>\n",
       "      <th>turno</th>\n",
       "      <th>data_hora_registro</th>\n",
       "      <th>tempo_registro_min</th>\n",
       "      <th>data_hora_final</th>\n",
       "      <th>status</th>\n",
       "      <th>motivo_id</th>\n",
       "      <th>data_hora_registro_occ</th>\n",
       "      <th>motivo_nome</th>\n",
       "      <th>problema</th>\n",
       "      <th>solucao</th>\n",
       "      <th>usuario_id_occ</th>\n",
       "      <th>contagem_total_ciclos</th>\n",
       "      <th>contagem_total_produzido</th>\n",
       "      <th>sabado</th>\n",
       "      <th>domingo</th>\n",
       "      <th>feriado</th>\n",
       "    </tr>\n",
       "  </thead>\n",
       "  <tbody>\n",
       "    <tr>\n",
       "      <th>0</th>\n",
       "      <td>TMF001</td>\n",
       "      <td>9</td>\n",
       "      <td>1</td>\n",
       "      <td>NOT</td>\n",
       "      <td>2024-02-01 01:57:38</td>\n",
       "      <td>2</td>\n",
       "      <td>2024-02-01 01:59:38</td>\n",
       "      <td>parada</td>\n",
       "      <td>NaN</td>\n",
       "      <td>NaT</td>\n",
       "      <td>NaN</td>\n",
       "      <td>None</td>\n",
       "      <td></td>\n",
       "      <td>NaN</td>\n",
       "      <td>2276</td>\n",
       "      <td>2266</td>\n",
       "      <td>0</td>\n",
       "      <td>0</td>\n",
       "      <td>0</td>\n",
       "    </tr>\n",
       "    <tr>\n",
       "      <th>1</th>\n",
       "      <td>TMF001</td>\n",
       "      <td>9</td>\n",
       "      <td>1</td>\n",
       "      <td>NOT</td>\n",
       "      <td>2024-02-01 02:57:38</td>\n",
       "      <td>66</td>\n",
       "      <td>2024-02-01 04:03:38</td>\n",
       "      <td>parada</td>\n",
       "      <td>3.0</td>\n",
       "      <td>2024-02-01 02:59:42</td>\n",
       "      <td>Refeição</td>\n",
       "      <td>Refeição</td>\n",
       "      <td></td>\n",
       "      <td>000441</td>\n",
       "      <td>3462</td>\n",
       "      <td>3436</td>\n",
       "      <td>0</td>\n",
       "      <td>0</td>\n",
       "      <td>0</td>\n",
       "    </tr>\n",
       "    <tr>\n",
       "      <th>2</th>\n",
       "      <td>TMF001</td>\n",
       "      <td>9</td>\n",
       "      <td>1</td>\n",
       "      <td>NOT</td>\n",
       "      <td>2024-02-01 05:59:39</td>\n",
       "      <td>10</td>\n",
       "      <td>2024-02-01 06:09:39</td>\n",
       "      <td>parada</td>\n",
       "      <td>5.0</td>\n",
       "      <td>2024-02-01 05:58:41</td>\n",
       "      <td>Café e Ginástica Laboral</td>\n",
       "      <td>Café e ginástica laboral</td>\n",
       "      <td></td>\n",
       "      <td>000441</td>\n",
       "      <td>5738</td>\n",
       "      <td>5702</td>\n",
       "      <td>0</td>\n",
       "      <td>0</td>\n",
       "      <td>0</td>\n",
       "    </tr>\n",
       "    <tr>\n",
       "      <th>3</th>\n",
       "      <td>TMF001</td>\n",
       "      <td>9</td>\n",
       "      <td>1</td>\n",
       "      <td>NOT</td>\n",
       "      <td>2024-02-01 07:51:39</td>\n",
       "      <td>10</td>\n",
       "      <td>2024-02-01 08:01:39</td>\n",
       "      <td>parada</td>\n",
       "      <td>NaN</td>\n",
       "      <td>NaT</td>\n",
       "      <td>NaN</td>\n",
       "      <td>None</td>\n",
       "      <td></td>\n",
       "      <td>NaN</td>\n",
       "      <td>7780</td>\n",
       "      <td>7692</td>\n",
       "      <td>0</td>\n",
       "      <td>0</td>\n",
       "      <td>0</td>\n",
       "    </tr>\n",
       "    <tr>\n",
       "      <th>4</th>\n",
       "      <td>TMF001</td>\n",
       "      <td>9</td>\n",
       "      <td>1</td>\n",
       "      <td>MAT</td>\n",
       "      <td>2024-02-01 09:29:39</td>\n",
       "      <td>2</td>\n",
       "      <td>2024-02-01 09:31:39</td>\n",
       "      <td>parada</td>\n",
       "      <td>NaN</td>\n",
       "      <td>NaT</td>\n",
       "      <td>NaN</td>\n",
       "      <td>None</td>\n",
       "      <td></td>\n",
       "      <td>NaN</td>\n",
       "      <td>1514</td>\n",
       "      <td>1510</td>\n",
       "      <td>0</td>\n",
       "      <td>0</td>\n",
       "      <td>0</td>\n",
       "    </tr>\n",
       "    <tr>\n",
       "      <th>...</th>\n",
       "      <td>...</td>\n",
       "      <td>...</td>\n",
       "      <td>...</td>\n",
       "      <td>...</td>\n",
       "      <td>...</td>\n",
       "      <td>...</td>\n",
       "      <td>...</td>\n",
       "      <td>...</td>\n",
       "      <td>...</td>\n",
       "      <td>...</td>\n",
       "      <td>...</td>\n",
       "      <td>...</td>\n",
       "      <td>...</td>\n",
       "      <td>...</td>\n",
       "      <td>...</td>\n",
       "      <td>...</td>\n",
       "      <td>...</td>\n",
       "      <td>...</td>\n",
       "      <td>...</td>\n",
       "    </tr>\n",
       "    <tr>\n",
       "      <th>3156</th>\n",
       "      <td>TMF015</td>\n",
       "      <td>3</td>\n",
       "      <td>1</td>\n",
       "      <td>MAT</td>\n",
       "      <td>2024-02-23 10:56:53</td>\n",
       "      <td>134</td>\n",
       "      <td>2024-02-23 13:10:54</td>\n",
       "      <td>parada</td>\n",
       "      <td>3.0</td>\n",
       "      <td>2024-02-23 11:18:41</td>\n",
       "      <td>Refeição</td>\n",
       "      <td>Refeição</td>\n",
       "      <td></td>\n",
       "      <td>000838</td>\n",
       "      <td>2792</td>\n",
       "      <td>2628</td>\n",
       "      <td>0</td>\n",
       "      <td>0</td>\n",
       "      <td>0</td>\n",
       "    </tr>\n",
       "    <tr>\n",
       "      <th>3157</th>\n",
       "      <td>TMF015</td>\n",
       "      <td>3</td>\n",
       "      <td>1</td>\n",
       "      <td>MAT</td>\n",
       "      <td>2024-02-23 14:00:54</td>\n",
       "      <td>2</td>\n",
       "      <td>2024-02-23 14:02:54</td>\n",
       "      <td>parada</td>\n",
       "      <td>NaN</td>\n",
       "      <td>NaT</td>\n",
       "      <td>NaN</td>\n",
       "      <td>None</td>\n",
       "      <td></td>\n",
       "      <td>NaN</td>\n",
       "      <td>3858</td>\n",
       "      <td>3686</td>\n",
       "      <td>0</td>\n",
       "      <td>0</td>\n",
       "      <td>0</td>\n",
       "    </tr>\n",
       "    <tr>\n",
       "      <th>3158</th>\n",
       "      <td>TMF015</td>\n",
       "      <td>3</td>\n",
       "      <td>1</td>\n",
       "      <td>MAT</td>\n",
       "      <td>2024-02-23 14:46:54</td>\n",
       "      <td>2</td>\n",
       "      <td>2024-02-23 14:48:54</td>\n",
       "      <td>parada</td>\n",
       "      <td>NaN</td>\n",
       "      <td>NaT</td>\n",
       "      <td>NaN</td>\n",
       "      <td>None</td>\n",
       "      <td></td>\n",
       "      <td>NaN</td>\n",
       "      <td>4748</td>\n",
       "      <td>4532</td>\n",
       "      <td>0</td>\n",
       "      <td>0</td>\n",
       "      <td>0</td>\n",
       "    </tr>\n",
       "    <tr>\n",
       "      <th>3159</th>\n",
       "      <td>TMF015</td>\n",
       "      <td>3</td>\n",
       "      <td>1</td>\n",
       "      <td>MAT</td>\n",
       "      <td>2024-02-23 15:54:54</td>\n",
       "      <td>8</td>\n",
       "      <td>2024-02-23 16:02:54</td>\n",
       "      <td>parada</td>\n",
       "      <td>16.0</td>\n",
       "      <td>2024-02-23 15:59:21</td>\n",
       "      <td>Limpeza Industrial</td>\n",
       "      <td>Limpeza</td>\n",
       "      <td></td>\n",
       "      <td>000939</td>\n",
       "      <td>6122</td>\n",
       "      <td>5856</td>\n",
       "      <td>0</td>\n",
       "      <td>0</td>\n",
       "      <td>0</td>\n",
       "    </tr>\n",
       "    <tr>\n",
       "      <th>3160</th>\n",
       "      <td>TMF015</td>\n",
       "      <td>3</td>\n",
       "      <td>1</td>\n",
       "      <td>VES</td>\n",
       "      <td>2024-02-23 16:02:54</td>\n",
       "      <td>480</td>\n",
       "      <td>2024-02-24 00:02:56</td>\n",
       "      <td>parada</td>\n",
       "      <td>12.0</td>\n",
       "      <td>NaT</td>\n",
       "      <td>Parada Programada</td>\n",
       "      <td>None</td>\n",
       "      <td></td>\n",
       "      <td>NaN</td>\n",
       "      <td>80</td>\n",
       "      <td>4</td>\n",
       "      <td>0</td>\n",
       "      <td>0</td>\n",
       "      <td>0</td>\n",
       "    </tr>\n",
       "  </tbody>\n",
       "</table>\n",
       "<p>3161 rows × 19 columns</p>\n",
       "</div>"
      ],
      "text/plain": [
       "     maquina_id linha fabrica turno  data_hora_registro  tempo_registro_min  \\\n",
       "0        TMF001     9       1   NOT 2024-02-01 01:57:38                   2   \n",
       "1        TMF001     9       1   NOT 2024-02-01 02:57:38                  66   \n",
       "2        TMF001     9       1   NOT 2024-02-01 05:59:39                  10   \n",
       "3        TMF001     9       1   NOT 2024-02-01 07:51:39                  10   \n",
       "4        TMF001     9       1   MAT 2024-02-01 09:29:39                   2   \n",
       "...         ...   ...     ...   ...                 ...                 ...   \n",
       "3156     TMF015     3       1   MAT 2024-02-23 10:56:53                 134   \n",
       "3157     TMF015     3       1   MAT 2024-02-23 14:00:54                   2   \n",
       "3158     TMF015     3       1   MAT 2024-02-23 14:46:54                   2   \n",
       "3159     TMF015     3       1   MAT 2024-02-23 15:54:54                   8   \n",
       "3160     TMF015     3       1   VES 2024-02-23 16:02:54                 480   \n",
       "\n",
       "         data_hora_final  status  motivo_id data_hora_registro_occ  \\\n",
       "0    2024-02-01 01:59:38  parada        NaN                    NaT   \n",
       "1    2024-02-01 04:03:38  parada        3.0    2024-02-01 02:59:42   \n",
       "2    2024-02-01 06:09:39  parada        5.0    2024-02-01 05:58:41   \n",
       "3    2024-02-01 08:01:39  parada        NaN                    NaT   \n",
       "4    2024-02-01 09:31:39  parada        NaN                    NaT   \n",
       "...                  ...     ...        ...                    ...   \n",
       "3156 2024-02-23 13:10:54  parada        3.0    2024-02-23 11:18:41   \n",
       "3157 2024-02-23 14:02:54  parada        NaN                    NaT   \n",
       "3158 2024-02-23 14:48:54  parada        NaN                    NaT   \n",
       "3159 2024-02-23 16:02:54  parada       16.0    2024-02-23 15:59:21   \n",
       "3160 2024-02-24 00:02:56  parada       12.0                    NaT   \n",
       "\n",
       "                   motivo_nome                  problema solucao  \\\n",
       "0                          NaN                      None           \n",
       "1                     Refeição                  Refeição           \n",
       "2     Café e Ginástica Laboral  Café e ginástica laboral           \n",
       "3                          NaN                      None           \n",
       "4                          NaN                      None           \n",
       "...                        ...                       ...     ...   \n",
       "3156                  Refeição                  Refeição           \n",
       "3157                       NaN                      None           \n",
       "3158                       NaN                      None           \n",
       "3159        Limpeza Industrial                   Limpeza           \n",
       "3160         Parada Programada                      None           \n",
       "\n",
       "     usuario_id_occ  contagem_total_ciclos  contagem_total_produzido  sabado  \\\n",
       "0               NaN                   2276                      2266       0   \n",
       "1            000441                   3462                      3436       0   \n",
       "2            000441                   5738                      5702       0   \n",
       "3               NaN                   7780                      7692       0   \n",
       "4               NaN                   1514                      1510       0   \n",
       "...             ...                    ...                       ...     ...   \n",
       "3156         000838                   2792                      2628       0   \n",
       "3157            NaN                   3858                      3686       0   \n",
       "3158            NaN                   4748                      4532       0   \n",
       "3159         000939                   6122                      5856       0   \n",
       "3160            NaN                     80                         4       0   \n",
       "\n",
       "      domingo  feriado  \n",
       "0           0        0  \n",
       "1           0        0  \n",
       "2           0        0  \n",
       "3           0        0  \n",
       "4           0        0  \n",
       "...       ...      ...  \n",
       "3156        0        0  \n",
       "3157        0        0  \n",
       "3158        0        0  \n",
       "3159        0        0  \n",
       "3160        0        0  \n",
       "\n",
       "[3161 rows x 19 columns]"
      ]
     },
     "execution_count": 47,
     "metadata": {},
     "output_type": "execute_result"
    }
   ],
   "source": [
    "df_info_occ = join_data.join_info_occ(df_maq_occ_cleaned.copy(), df_info_cleaned.copy())\n",
    "df_maq_info_occ_combined = join_data.problems_adjust(df_info_occ.copy())\n",
    "df_maq_info_occ_combined"
   ]
  },
  {
   "cell_type": "code",
   "execution_count": 48,
   "metadata": {},
   "outputs": [
    {
     "data": {
      "text/plain": [
       "Index(['maquina_id', 'linha', 'fabrica', 'turno', 'data_hora_registro',\n",
       "       'tempo_registro_min', 'data_hora_final', 'status', 'motivo_id',\n",
       "       'data_hora_registro_occ', 'motivo_nome', 'problema', 'solucao',\n",
       "       'usuario_id_occ', 'contagem_total_ciclos', 'contagem_total_produzido',\n",
       "       'sabado', 'domingo', 'feriado'],\n",
       "      dtype='object')"
      ]
     },
     "execution_count": 48,
     "metadata": {},
     "output_type": "execute_result"
    }
   ],
   "source": [
    "df_maq_info_occ_combined.columns"
   ]
  },
  {
   "cell_type": "code",
   "execution_count": 49,
   "metadata": {},
   "outputs": [
    {
     "data": {
      "text/plain": [
       "Index(['maquina_id', 'linha', 'turno', 'total_ciclos', 'total_produzido',\n",
       "       'data_registro', 'hora_registro'],\n",
       "      dtype='object')"
      ]
     },
     "execution_count": 49,
     "metadata": {},
     "output_type": "execute_result"
    }
   ],
   "source": [
    "df_maq_info_production_cleaned.columns"
   ]
  },
  {
   "cell_type": "markdown",
   "metadata": {},
   "source": [
    "# Eficiência, Performance, Reparos\n"
   ]
  },
  {
   "cell_type": "code",
   "execution_count": 65,
   "metadata": {},
   "outputs": [],
   "source": [
    "# service/times_data.py\n",
    "# cSpell: disable=invalid-name\n",
    "class TimesData:\n",
    "    def __init__(self):\n",
    "        # Dicionário com os descontos de parada para Eficiência\n",
    "\n",
    "        self.desc_eff = {\n",
    "            3: 60,\n",
    "            5: 10,\n",
    "            10: 15,\n",
    "            11: 35,\n",
    "            15: 60,\n",
    "            17: 15,\n",
    "        }\n",
    "\n",
    "        # Dicionário com os descontos de parada para Performance\n",
    "\n",
    "        self.desc_perf = {\n",
    "            3: 60,\n",
    "            5: 10,\n",
    "            10: 15,\n",
    "            15: 60,\n",
    "            17: 15,\n",
    "        }\n",
    "\n",
    "        # Lista com os motivos de parada que não são considerados para Performance\n",
    "\n",
    "        self.not_af_perf = [7, 8, 11, 12, 13, 16]\n",
    "\n",
    "        # Dicionário com os descontos de parada para Reparos\n",
    "\n",
    "        self.desc_rep = {11: 35}\n",
    "\n",
    "        # Lista com os motivos de parada que são considerados para Reparos\n",
    "\n",
    "        self.af_rep = [7, 8, 11]\n",
    "\n",
    "        # Lista de Motivos que não afetam a eficiência\n",
    "        self.not_af_eff = [12]\n",
    "\n",
    "    def get_times_discount(self, info: pd.DataFrame, desc_pcp: dict[int, int]) -> pd.DataFrame:\n",
    "        \"\"\"\n",
    "        Função para calcular os descontos de parada\n",
    "\n",
    "        Args:\n",
    "            info (pd.DataFrame): DataFrame com os dados de parada\n",
    "            desc_pcp (dict[int, int]): Dicionário com os descontos de parada\n",
    "\n",
    "        Returns:\n",
    "            pd.DataFrame: DataFrame com os descontos de parada\n",
    "\n",
    "\n",
    "        Exemplo:\n",
    "            >>> from app.service.get_times_data import GetTimesData\n",
    "            >>> import pandas as pd\n",
    "            >>> get_times_data = GetTimesData()\n",
    "            >>> df_times_desc = pd.dataframe()\n",
    "            >>> df_result = get_times_data.get_times_discount(df_times_desc, desc_pcp)\n",
    "        \"\"\"\n",
    "\n",
    "        info_stops = info.copy()\n",
    "\n",
    "        # Adicionar coluna com descontos de parada\n",
    "        info_stops[\"desconto_min\"] = info_stops[\"motivo_id\"].map(desc_pcp)\n",
    "\n",
    "        # Se houver desconto, subtrair do tempo de parada e arredondar para baixo, em uma nova coluna chamada excedente\n",
    "        info_stops[\"excedente\"] = (\n",
    "            info_stops[\"tempo_registro_min\"] - info_stops[\"desconto_min\"]\n",
    "        ).clip(lower=0)\n",
    "\n",
    "        # Se o desconto for maior que o tempo de parada, o desconto deve ser igual ao tempo de parada\n",
    "        info_stops.loc[\n",
    "            info_stops[\"desconto_min\"] > info_stops[\"tempo_registro_min\"],\n",
    "            \"desconto_min\",\n",
    "        ] = info_stops[\"tempo_registro_min\"]\n",
    "\n",
    "        # Criar coluna data_registro para agrupar por dia\n",
    "        info_stops[\"data_registro\"] = info_stops[\"data_hora_registro\"].dt.date\n",
    "        # Ordenar por maquina_id, data_hora_registro, turno\n",
    "        info_stops.sort_values(by=[\"maquina_id\", \"data_hora_registro\", \"turno\"], inplace=True)\n",
    "\n",
    "        return info_stops\n",
    "\n",
    "    def get_elapsed_time(self, turno):\n",
    "        \"\"\"\n",
    "        Método para calcular o tempo decorrido no turno atual.\n",
    "\n",
    "        Este método recebe o turno atual e retorna o tempo decorrido em minutos.\n",
    "\n",
    "        Args:\n",
    "            turno (str): Turno atual\n",
    "\n",
    "        Returns:\n",
    "            float: Tempo decorrido em minutos\n",
    "\n",
    "\n",
    "        Exemplo:\n",
    "            >>> from app.service.get_times_data import GetTimesData\n",
    "            >>> import pandas as pd\n",
    "            >>> get_times_data = GetTimesData()\n",
    "            >>> turno = 'MAT'\n",
    "            >>> tempo_decorrido = get_times_data.get_elapsed_time(turno)\n",
    "        \"\"\"\n",
    "\n",
    "        now = datetime.now()\n",
    "\n",
    "        if turno == \"MAT\" and 8 <= now.hour < 16:\n",
    "            shift_start = now.replace(hour=8, minute=0, second=0, microsecond=0)\n",
    "\n",
    "        elif turno == \"VES\" and 16 <= now.hour < 24:\n",
    "            shift_start = now.replace(hour=16, minute=0, second=0, microsecond=0)\n",
    "\n",
    "        elif turno == \"NOT\" and (now.hour < 8 or now.hour >= 24):\n",
    "            shift_start = now.replace(hour=0, minute=0, second=0, microsecond=0)\n",
    "\n",
    "        else:\n",
    "            return 480  # retorna o tempo padrão se não estiver no turno atual\n",
    "\n",
    "        elapsed_time = now - shift_start\n",
    "\n",
    "        return elapsed_time.total_seconds() / 60  # retorna o tempo decorrido em minutos\n",
    "\n",
    "    def get_eff_data(self, df_info: pd.DataFrame, df_prod: pd.DataFrame) -> pd.DataFrame:\n",
    "        \"\"\"\n",
    "        Método para calcular os dados de eficiência.\n",
    "        Este método recebe dois DataFrames, um contendo informações de tempo de eficiência e\n",
    "        desconto e outro contendo informações de produção,\n",
    "        e retorna um DataFrame com informações de eficiência.\n",
    "\n",
    "\n",
    "        Parâmetros:\n",
    "\n",
    "        df_info (pd.DataFrame): DataFrame contendo informações de maquina\n",
    "        df_prod (pd.DataFrame): DataFrame contendo informações de produção.\n",
    "\n",
    "\n",
    "        Retorna:\n",
    "\n",
    "        pd.DataFrame: DataFrame com informações de eficiência.\n",
    "\n",
    "\n",
    "        Exemplo de uso:\n",
    "        ```\n",
    "        times_data = TimesData()\n",
    "        df_eff_times_desc = pd.dataframe()\n",
    "        df_prod = pd.dataframe()\n",
    "        df_result = times_data.get_eff_data(df_info, df_prod)\n",
    "        ```\n",
    "        \"\"\"\n",
    "\n",
    "        df_eff_times_desc = self.get_times_discount(df_info, self.desc_eff)\n",
    "        df_prod_total = df_prod.copy()\n",
    "        ciclo_ideal = 10.6\n",
    "\n",
    "        # Descartar colunas desnecessárias de df_prod -> 'contagem_total_ciclos', 'usuario_id_maq_cadastro', 'data_hora_registro'\n",
    "        df_prod_total.drop(columns=[\"total_ciclos\"], inplace=True)\n",
    "\n",
    "        # Se o motivo id não afeta a eficiência, desconto_min deve ser igual ao tempo_registro_min\n",
    "        df_eff_times_desc.loc[\n",
    "            df_eff_times_desc[\"motivo_id\"].isin(self.not_af_eff), \"desconto_min\"\n",
    "        ] = df_eff_times_desc[\"tempo_registro_min\"]\n",
    "\n",
    "        # Agrupar por maquina_id, data_registro e turno e o desconto\n",
    "        df_eff_times_desc = (\n",
    "            df_eff_times_desc.groupby(\n",
    "                [\"maquina_id\", \"linha\", \"data_registro\", \"turno\"], observed=False\n",
    "            )\n",
    "            .agg(\n",
    "                {\n",
    "                    \"desconto_min\": \"sum\",\n",
    "                }\n",
    "            )\n",
    "            .reset_index()\n",
    "        )\n",
    "\n",
    "        # Garantir que a coluna data_registro é datetime em ambos os dataframes\n",
    "        df_eff_times_desc[\"data_registro\"] = pd.to_datetime(\n",
    "            df_eff_times_desc[\"data_registro\"]\n",
    "        ).dt.date\n",
    "\n",
    "        df_prod_total[\"data_registro\"] = pd.to_datetime(df_prod_total[\"data_registro\"]).dt.date\n",
    "\n",
    "        # Fazer merge com df_prod_total\n",
    "        df_eff_times_desc = pd.merge(\n",
    "            df_prod_total,\n",
    "            df_eff_times_desc,\n",
    "            on=[\"maquina_id\", \"linha\", \"turno\", \"data_registro\"],\n",
    "            how=\"left\",\n",
    "        )\n",
    "\n",
    "        # Ajustar desc_min para 0 quando for nulo\n",
    "        df_eff_times_desc.loc[df_eff_times_desc[\"desconto_min\"].isnull(), \"desconto_min\"] = 0\n",
    "\n",
    "        # Criar coluna com tempo esperado de produção\n",
    "        df_eff_times_desc[\"tempo_esperado_min\"] = df_eff_times_desc.apply(\n",
    "            lambda row: (\n",
    "                np.floor(self.get_elapsed_time(row[\"turno\"]) - row[\"desconto_min\"])\n",
    "                if row[\"data_registro\"] == datetime.now().date()\n",
    "                else 480 - row[\"desconto_min\"]\n",
    "            ),\n",
    "            axis=1,\n",
    "        )\n",
    "\n",
    "        # Produção esperada por turno\n",
    "        df_eff_times_desc[\"producao_esperada\"] = (\n",
    "            df_eff_times_desc[\"tempo_esperado_min\"] * ciclo_ideal\n",
    "        ) * 2\n",
    "\n",
    "        # Calcular a eficiência\n",
    "        df_eff_times_desc[\"eficiencia\"] = (\n",
    "            df_eff_times_desc[\"total_produzido\"] / df_eff_times_desc[\"producao_esperada\"]\n",
    "        )\n",
    "\n",
    "        # Ordenar pela linha e data_registro\n",
    "        df_eff_times_desc = df_eff_times_desc.sort_values(\n",
    "            by=[\"linha\", \"data_registro\"], ascending=True\n",
    "        )\n",
    "\n",
    "        # Remover as linhas onde a linha é 0\n",
    "        df_eff_times_desc = df_eff_times_desc[df_eff_times_desc[\"linha\"] != 0]\n",
    "\n",
    "        # Se eficiencia for nula, substituir por 0\n",
    "        df_eff_times_desc.loc[df_eff_times_desc[\"eficiencia\"].isnull(), \"eficiencia\"] = 0\n",
    "\n",
    "        # Se a produção esperada for 0 e a eficiência for 0, substituir por 1\n",
    "        df_eff_times_desc.loc[\n",
    "            (df_eff_times_desc[\"producao_esperada\"] == 0),\n",
    "            \"eficiencia\",\n",
    "        ] = np.nan\n",
    "\n",
    "        # Ajustar o index\n",
    "        df_eff_times_desc.reset_index(drop=True, inplace=True)\n",
    "\n",
    "        return df_eff_times_desc\n",
    "\n",
    "    def get_perf_data(self, df_info: pd.DataFrame, df_prod: pd.DataFrame) -> pd.DataFrame:\n",
    "        \"\"\"\n",
    "        Método para calcular os dados de performance.\n",
    "\n",
    "        Este método recebe dois DataFrames, um contendo informações de máquina e\n",
    "        outro contendo informações de produção,\n",
    "        e retorna um DataFrame com informações de performance.\n",
    "\n",
    "        Args:\n",
    "            df_info (pd.DataFrame): DataFrame contendo informações de maquina\n",
    "            df_prod (pd.DataFrame): DataFrame contendo informações de produção.\n",
    "\n",
    "        Returns:\n",
    "            pd.DataFrame: DataFrame com informações de performance.\n",
    "\n",
    "        Exemplo de uso:\n",
    "        ```\n",
    "        times_data = TimesData()\n",
    "        df_info = pd.dataframe()\n",
    "        df_prod = pd.dataframe()\n",
    "        df_result = times_data.get_perf_data(df_info, df_prod)\n",
    "        ```\n",
    "        \"\"\"\n",
    "\n",
    "        df_info = df_info.copy()\n",
    "        df_perf_times_desc = self.get_times_discount(df_info, self.desc_perf)\n",
    "        df_prod_total = df_prod.copy()\n",
    "\n",
    "        # Descartar colunas desnecessárias de df_prod\n",
    "        df_prod_total.drop(\n",
    "            columns=[\n",
    "                \"total_ciclos\",\n",
    "                \"total_produzido\",\n",
    "            ],\n",
    "            inplace=True,\n",
    "        )\n",
    "\n",
    "        # Conseguir apenas as datas/turno se o motivo_id = 12 e o tempo de registro for maior que 480\n",
    "        datas_programadas = df_perf_times_desc[\n",
    "            (df_perf_times_desc[\"motivo_id\"] == 12)\n",
    "            & (df_perf_times_desc[\"tempo_registro_min\"] == 480)\n",
    "        ][[\"linha\", \"data_registro\", \"turno\"]]\n",
    "\n",
    "        # Remover as linhas que não afetam a performance\n",
    "        df_perf_times_desc = df_perf_times_desc[\n",
    "            ~df_perf_times_desc[\"motivo_id\"].isin(self.not_af_perf)\n",
    "        ]\n",
    "\n",
    "        # Criar coluna 'afeta' para identificar as paradas que afetam a performance\n",
    "        df_perf_times_desc[\"afeta\"] = df_perf_times_desc[\"excedente\"]\n",
    "\n",
    "        # Se desconto for nulo, substituir afeta pelo valor de tempo_registro_min\n",
    "        df_perf_times_desc.loc[df_perf_times_desc[\"desconto_min\"].isnull(), \"afeta\"] = (\n",
    "            df_perf_times_desc[\"tempo_registro_min\"]\n",
    "        )\n",
    "\n",
    "        # Agrupar por maquina_id, data_registro e turno e somar o tempo de\n",
    "        # desconto e o afeta\n",
    "        df_perf_times_desc = (\n",
    "            df_perf_times_desc.groupby(\n",
    "                [\"maquina_id\", \"linha\", \"data_registro\", \"turno\"], observed=False\n",
    "            )\n",
    "            .agg(\n",
    "                {\n",
    "                    \"desconto_min\": \"sum\",\n",
    "                    \"afeta\": \"sum\",\n",
    "                }\n",
    "            )\n",
    "            .reset_index()\n",
    "        )\n",
    "\n",
    "        # Garantir que a coluna data_registro é datetime em ambos os dataframes\n",
    "        df_perf_times_desc[\"data_registro\"] = pd.to_datetime(\n",
    "            df_perf_times_desc[\"data_registro\"]\n",
    "        ).dt.date\n",
    "\n",
    "        df_prod_total[\"data_registro\"] = pd.to_datetime(df_prod_total[\"data_registro\"]).dt.date\n",
    "        # Fazer merge com df_prod_total\n",
    "\n",
    "        df_perf_times_desc = pd.merge(\n",
    "            df_prod_total,\n",
    "            df_perf_times_desc,\n",
    "            on=[\"maquina_id\", \"linha\", \"turno\", \"data_registro\"],\n",
    "            how=\"left\",\n",
    "        )\n",
    "\n",
    "        # Ajustar desconto_min para 0 quando for nulo\n",
    "        df_perf_times_desc.loc[df_perf_times_desc[\"desconto_min\"].isnull(), \"desconto_min\"] = 0\n",
    "\n",
    "        # Ajustar afeta para 0 quando for nulo\n",
    "        df_perf_times_desc.loc[df_perf_times_desc[\"afeta\"].isnull(), \"afeta\"] = 0\n",
    "\n",
    "        # Criar coluna com tempo esperado de produção\n",
    "        df_perf_times_desc[\"tempo_esperado_min\"] = df_perf_times_desc.apply(\n",
    "            lambda row: (\n",
    "                np.floor(self.get_elapsed_time(row[\"turno\"]) - row[\"desconto_min\"])\n",
    "                if row[\"data_registro\"] == datetime.now().date()\n",
    "                else 480 - row[\"desconto_min\"]\n",
    "            ),\n",
    "            axis=1,\n",
    "        )\n",
    "\n",
    "        # Calcular a performance\n",
    "        df_perf_times_desc[\"performance\"] = (\n",
    "            df_perf_times_desc[\"afeta\"] / df_perf_times_desc[\"tempo_esperado_min\"]\n",
    "        )\n",
    "\n",
    "        # Ordenar pela linha e data_registro\n",
    "        df_perf_times_desc = df_perf_times_desc.sort_values(\n",
    "            by=[\"linha\", \"data_registro\"], ascending=True\n",
    "        )\n",
    "\n",
    "        # Remover as linhas onde a linha é 0\n",
    "        df_perf_times_desc = df_perf_times_desc[df_perf_times_desc[\"linha\"] != 0]\n",
    "\n",
    "        # Se a data e o turno coincidem com datas_programadas, a performance é np.nan\n",
    "        # Converter 'data_registro' para datetime\n",
    "        df_perf_times_desc[\"data_registro\"] = pd.to_datetime(df_perf_times_desc[\"data_registro\"])\n",
    "        datas_programadas[\"data_registro\"] = pd.to_datetime(datas_programadas[\"data_registro\"])\n",
    "\n",
    "        # Criar uma chave única em ambos os DataFrames\n",
    "        df_perf_times_desc[\"key\"] = (\n",
    "            df_perf_times_desc[\"linha\"].astype(str)\n",
    "            + df_perf_times_desc[\"data_registro\"].dt.strftime(\"%Y-%m-%d\")\n",
    "            + df_perf_times_desc[\"turno\"].astype(str)\n",
    "        )\n",
    "        datas_programadas[\"key\"] = (\n",
    "            datas_programadas[\"linha\"].astype(str)\n",
    "            + datas_programadas[\"data_registro\"].dt.strftime(\"%Y-%m-%d\")\n",
    "            + datas_programadas[\"turno\"].astype(str)\n",
    "        )\n",
    "\n",
    "        # Se a chave coincide com datas_programadas, a performance é np.nan\n",
    "        df_perf_times_desc.loc[\n",
    "            df_perf_times_desc[\"key\"].isin(datas_programadas[\"key\"]),\n",
    "            \"performance\",\n",
    "        ] = np.nan\n",
    "\n",
    "        # Remover a coluna 'key'\n",
    "        df_perf_times_desc.drop(columns=[\"key\"], inplace=True)\n",
    "        datas_programadas.drop(columns=[\"key\"], inplace=True)\n",
    "\n",
    "        # Ajustar o index\n",
    "        df_perf_times_desc.reset_index(drop=True, inplace=True)\n",
    "\n",
    "        return df_perf_times_desc\n",
    "\n",
    "    def get_reparos_data(self, df_info: pd.DataFrame, df_prod: pd.DataFrame) -> pd.DataFrame:\n",
    "        \"\"\"\n",
    "        Método para calcular os dados de reparo.\n",
    "\n",
    "        Este método recebe dois DataFrames, um contendo informações de máquina e\n",
    "        e outro contendo informações de produção,\n",
    "        e retorna um DataFrame com informações de Reparo.\n",
    "\n",
    "\n",
    "        ### Parâmetros:\n",
    "        df_info (pd.DataFrame): DataFrame contendo informações de maquina\n",
    "\n",
    "        df_prod (pd.DataFrame): DataFrame contendo informações de produção.\n",
    "\n",
    "        ### Retorna:\n",
    "\n",
    "        pd.DataFrame: DataFrame com informações de performance.\n",
    "\n",
    "        ### Exemplo de uso:\n",
    "        ```\n",
    "        times_data = TimesData()\n",
    "        df_info = pd.dataframe()\n",
    "        df_prod = pd.dataframe()\n",
    "        df_result = times_data.get_reparos_data(df_info, df_prod)\n",
    "        ```\n",
    "        \"\"\"\n",
    "\n",
    "        df_info = df_info.copy()\n",
    "\n",
    "        df_rep_times_desc = self.get_times_discount(df_info, self.desc_rep)\n",
    "\n",
    "        df_prod_total = df_prod.copy()\n",
    "\n",
    "        # Descartar colunas desnecessárias de df_prod\n",
    "        df_prod_total.drop(\n",
    "            columns=[\n",
    "                \"total_ciclos\",\n",
    "                \"total_produzido\",\n",
    "            ],\n",
    "            inplace=True,\n",
    "        )\n",
    "\n",
    "        # Conseguir apenas as datas que o motivo_id = 12 e o tempo de registro for maior que 480\n",
    "        datas_programadas = df_rep_times_desc[\n",
    "            (df_rep_times_desc[\"motivo_id\"] == 12)\n",
    "            & (df_rep_times_desc[\"tempo_registro_min\"] == 480)\n",
    "        ][[\"linha\", \"data_registro\", \"turno\"]]\n",
    "\n",
    "        # Remover as linhas que não afetam o reparo\n",
    "        df_rep_times_desc = df_rep_times_desc[df_rep_times_desc[\"motivo_id\"].isin(self.af_rep)]\n",
    "\n",
    "        # Criar coluna 'afeta' para identificar as paradas que afetam o reparo\n",
    "        df_rep_times_desc[\"afeta\"] = df_rep_times_desc[\"excedente\"]\n",
    "\n",
    "        # Se desconto for nulo, substituir afeta pelo valor de tempo_registro_min\n",
    "        df_rep_times_desc.loc[df_rep_times_desc[\"desconto_min\"].isnull(), \"afeta\"] = (\n",
    "            df_rep_times_desc[\"tempo_registro_min\"]\n",
    "        )\n",
    "\n",
    "        # Agrupar por maquina_id, data_registro e turno e somar o tempo de\n",
    "        # desconto e o afeta\n",
    "        df_rep_times_desc = (\n",
    "            df_rep_times_desc.groupby(\n",
    "                [\"maquina_id\", \"linha\", \"data_registro\", \"turno\"], observed=False\n",
    "            )\n",
    "            .agg(\n",
    "                {\n",
    "                    \"desconto_min\": \"sum\",\n",
    "                    \"afeta\": \"sum\",\n",
    "                }\n",
    "            )\n",
    "            .reset_index()\n",
    "        )\n",
    "\n",
    "        # Garantir que a coluna data_registro é datetime em ambos os dataframes\n",
    "        df_rep_times_desc[\"data_registro\"] = pd.to_datetime(\n",
    "            df_rep_times_desc[\"data_registro\"]\n",
    "        ).dt.date\n",
    "        df_prod_total[\"data_registro\"] = pd.to_datetime(df_prod_total[\"data_registro\"]).dt.date\n",
    "\n",
    "        # Fazer merge com df_prod_total\n",
    "        df_rep_times_desc = pd.merge(\n",
    "            df_prod_total,\n",
    "            df_rep_times_desc,\n",
    "            on=[\"maquina_id\", \"linha\", \"turno\", \"data_registro\"],\n",
    "            how=\"left\",\n",
    "        )\n",
    "\n",
    "        # Ajustar desconto_min para 0 quando for nulo\n",
    "        df_rep_times_desc.loc[df_rep_times_desc[\"desconto_min\"].isnull(), \"desconto_min\"] = 0\n",
    "\n",
    "        # Ajustar afeta para 0 quando for nulo\n",
    "        df_rep_times_desc.loc[df_rep_times_desc[\"afeta\"].isnull(), \"afeta\"] = 0\n",
    "\n",
    "        # Criar coluna com tempo esperado de produção\n",
    "        df_rep_times_desc[\"tempo_esperado_min\"] = df_rep_times_desc.apply(\n",
    "            lambda row: (\n",
    "                np.floor(self.get_elapsed_time(row[\"turno\"]) - row[\"desconto_min\"])\n",
    "                if row[\"data_registro\"] == datetime.now().date()\n",
    "                else 480 - row[\"desconto_min\"]\n",
    "            ),\n",
    "            axis=1,\n",
    "        )\n",
    "\n",
    "        # Calcular o reparo\n",
    "        df_rep_times_desc[\"reparo\"] = (\n",
    "            df_rep_times_desc[\"afeta\"] / df_rep_times_desc[\"tempo_esperado_min\"]\n",
    "        )\n",
    "\n",
    "        # Ordenar pela linha e data_registro\n",
    "        df_rep_times_desc = df_rep_times_desc.sort_values(\n",
    "            by=[\"linha\", \"data_registro\"], ascending=True\n",
    "        )\n",
    "\n",
    "        # Remover as linhas onde a linha é 0\n",
    "        df_rep_times_desc = df_rep_times_desc[df_rep_times_desc[\"linha\"] != 0]\n",
    "\n",
    "        # Se a data e o turno coincidem com datas_programadas, a performance é np.nan\n",
    "        # Converter 'data_registro' para datetime\n",
    "        df_rep_times_desc[\"data_registro\"] = pd.to_datetime(df_rep_times_desc[\"data_registro\"])\n",
    "        datas_programadas[\"data_registro\"] = pd.to_datetime(datas_programadas[\"data_registro\"])\n",
    "\n",
    "        # Criar uma chave única em ambos os DataFrames\n",
    "        df_rep_times_desc[\"key\"] = (\n",
    "            df_rep_times_desc[\"linha\"].astype(str)\n",
    "            + df_rep_times_desc[\"data_registro\"].dt.strftime(\"%Y-%m-%d\")\n",
    "            + df_rep_times_desc[\"turno\"].astype(str)\n",
    "        )\n",
    "        datas_programadas[\"key\"] = (\n",
    "            datas_programadas[\"linha\"].astype(str)\n",
    "            + datas_programadas[\"data_registro\"].dt.strftime(\"%Y-%m-%d\")\n",
    "            + datas_programadas[\"turno\"].astype(str)\n",
    "        )\n",
    "\n",
    "        # Se a chave coincide com datas_programadas, a performance é np.nan\n",
    "        df_rep_times_desc.loc[\n",
    "            df_rep_times_desc[\"key\"].isin(datas_programadas[\"key\"]),\n",
    "            \"reparo\",\n",
    "        ] = np.nan\n",
    "\n",
    "        # Remover a coluna 'key'\n",
    "        df_rep_times_desc.drop(columns=[\"key\"], inplace=True)\n",
    "        datas_programadas.drop(columns=[\"key\"], inplace=True)\n",
    "\n",
    "        # Ajustar o index\n",
    "        df_rep_times_desc.reset_index(drop=True, inplace=True)\n",
    "\n",
    "        return df_rep_times_desc\n",
    "\n",
    "\n",
    "times_data = TimesData()"
   ]
  },
  {
   "cell_type": "code",
   "execution_count": 66,
   "metadata": {},
   "outputs": [
    {
     "data": {
      "text/html": [
       "<div>\n",
       "<style scoped>\n",
       "    .dataframe tbody tr th:only-of-type {\n",
       "        vertical-align: middle;\n",
       "    }\n",
       "\n",
       "    .dataframe tbody tr th {\n",
       "        vertical-align: top;\n",
       "    }\n",
       "\n",
       "    .dataframe thead th {\n",
       "        text-align: right;\n",
       "    }\n",
       "</style>\n",
       "<table border=\"1\" class=\"dataframe\">\n",
       "  <thead>\n",
       "    <tr style=\"text-align: right;\">\n",
       "      <th></th>\n",
       "      <th>maquina_id</th>\n",
       "      <th>linha</th>\n",
       "      <th>turno</th>\n",
       "      <th>total_produzido</th>\n",
       "      <th>data_registro</th>\n",
       "      <th>hora_registro</th>\n",
       "      <th>desconto_min</th>\n",
       "    </tr>\n",
       "  </thead>\n",
       "  <tbody>\n",
       "    <tr>\n",
       "      <th>0</th>\n",
       "      <td>TMF001</td>\n",
       "      <td>9</td>\n",
       "      <td>NOT</td>\n",
       "      <td>7810</td>\n",
       "      <td>2024-02-01</td>\n",
       "      <td>07:59:39.593333</td>\n",
       "      <td>70.0</td>\n",
       "    </tr>\n",
       "    <tr>\n",
       "      <th>1</th>\n",
       "      <td>TMF001</td>\n",
       "      <td>9</td>\n",
       "      <td>MAT</td>\n",
       "      <td>7828</td>\n",
       "      <td>2024-02-01</td>\n",
       "      <td>15:59:41.033333</td>\n",
       "      <td>0.0</td>\n",
       "    </tr>\n",
       "    <tr>\n",
       "      <th>2</th>\n",
       "      <td>TMF001</td>\n",
       "      <td>9</td>\n",
       "      <td>VES</td>\n",
       "      <td>14</td>\n",
       "      <td>2024-02-01</td>\n",
       "      <td>23:59:42.476666</td>\n",
       "      <td>0.0</td>\n",
       "    </tr>\n",
       "    <tr>\n",
       "      <th>3</th>\n",
       "      <td>TMF001</td>\n",
       "      <td>9</td>\n",
       "      <td>NOT</td>\n",
       "      <td>0</td>\n",
       "      <td>2024-02-02</td>\n",
       "      <td>06:45:43.693333</td>\n",
       "      <td>480.0</td>\n",
       "    </tr>\n",
       "    <tr>\n",
       "      <th>4</th>\n",
       "      <td>TMF001</td>\n",
       "      <td>9</td>\n",
       "      <td>VES</td>\n",
       "      <td>0</td>\n",
       "      <td>2024-02-02</td>\n",
       "      <td>23:59:05.410000</td>\n",
       "      <td>0.0</td>\n",
       "    </tr>\n",
       "    <tr>\n",
       "      <th>...</th>\n",
       "      <td>...</td>\n",
       "      <td>...</td>\n",
       "      <td>...</td>\n",
       "      <td>...</td>\n",
       "      <td>...</td>\n",
       "      <td>...</td>\n",
       "      <td>...</td>\n",
       "    </tr>\n",
       "    <tr>\n",
       "      <th>910</th>\n",
       "      <td>TMF015</td>\n",
       "      <td>3</td>\n",
       "      <td>VES</td>\n",
       "      <td>2242</td>\n",
       "      <td>2024-02-22</td>\n",
       "      <td>23:58:51.823333</td>\n",
       "      <td>368.0</td>\n",
       "    </tr>\n",
       "    <tr>\n",
       "      <th>911</th>\n",
       "      <td>TMF015</td>\n",
       "      <td>3</td>\n",
       "      <td>NOT</td>\n",
       "      <td>7126</td>\n",
       "      <td>2024-02-23</td>\n",
       "      <td>08:00:53.266666</td>\n",
       "      <td>0.0</td>\n",
       "    </tr>\n",
       "    <tr>\n",
       "      <th>912</th>\n",
       "      <td>TMF015</td>\n",
       "      <td>3</td>\n",
       "      <td>MAT</td>\n",
       "      <td>5864</td>\n",
       "      <td>2024-02-23</td>\n",
       "      <td>16:00:54.713333</td>\n",
       "      <td>60.0</td>\n",
       "    </tr>\n",
       "    <tr>\n",
       "      <th>913</th>\n",
       "      <td>TMF015</td>\n",
       "      <td>3</td>\n",
       "      <td>VES</td>\n",
       "      <td>4</td>\n",
       "      <td>2024-02-23</td>\n",
       "      <td>23:58:56.143333</td>\n",
       "      <td>480.0</td>\n",
       "    </tr>\n",
       "    <tr>\n",
       "      <th>914</th>\n",
       "      <td>TMF015</td>\n",
       "      <td>3</td>\n",
       "      <td>NOT</td>\n",
       "      <td>0</td>\n",
       "      <td>2024-02-24</td>\n",
       "      <td>06:50:57.380000</td>\n",
       "      <td>0.0</td>\n",
       "    </tr>\n",
       "  </tbody>\n",
       "</table>\n",
       "<p>915 rows × 7 columns</p>\n",
       "</div>"
      ],
      "text/plain": [
       "    maquina_id linha turno  total_produzido data_registro    hora_registro  \\\n",
       "0       TMF001     9   NOT             7810    2024-02-01  07:59:39.593333   \n",
       "1       TMF001     9   MAT             7828    2024-02-01  15:59:41.033333   \n",
       "2       TMF001     9   VES               14    2024-02-01  23:59:42.476666   \n",
       "3       TMF001     9   NOT                0    2024-02-02  06:45:43.693333   \n",
       "4       TMF001     9   VES                0    2024-02-02  23:59:05.410000   \n",
       "..         ...   ...   ...              ...           ...              ...   \n",
       "910     TMF015     3   VES             2242    2024-02-22  23:58:51.823333   \n",
       "911     TMF015     3   NOT             7126    2024-02-23  08:00:53.266666   \n",
       "912     TMF015     3   MAT             5864    2024-02-23  16:00:54.713333   \n",
       "913     TMF015     3   VES                4    2024-02-23  23:58:56.143333   \n",
       "914     TMF015     3   NOT                0    2024-02-24  06:50:57.380000   \n",
       "\n",
       "     desconto_min  \n",
       "0            70.0  \n",
       "1             0.0  \n",
       "2             0.0  \n",
       "3           480.0  \n",
       "4             0.0  \n",
       "..            ...  \n",
       "910         368.0  \n",
       "911           0.0  \n",
       "912          60.0  \n",
       "913         480.0  \n",
       "914           0.0  \n",
       "\n",
       "[915 rows x 7 columns]"
      ]
     },
     "execution_count": 66,
     "metadata": {},
     "output_type": "execute_result"
    }
   ],
   "source": [
    "df_eff = times_data.get_eff_data(\n",
    "    df_maq_info_occ_combined.copy(), df_maq_info_production_cleaned.copy()\n",
    ")\n",
    "df_eff"
   ]
  },
  {
   "cell_type": "code",
   "execution_count": 67,
   "metadata": {},
   "outputs": [
    {
     "data": {
      "text/html": [
       "<div>\n",
       "<style scoped>\n",
       "    .dataframe tbody tr th:only-of-type {\n",
       "        vertical-align: middle;\n",
       "    }\n",
       "\n",
       "    .dataframe tbody tr th {\n",
       "        vertical-align: top;\n",
       "    }\n",
       "\n",
       "    .dataframe thead th {\n",
       "        text-align: right;\n",
       "    }\n",
       "</style>\n",
       "<table border=\"1\" class=\"dataframe\">\n",
       "  <thead>\n",
       "    <tr style=\"text-align: right;\">\n",
       "      <th></th>\n",
       "      <th>maquina_id</th>\n",
       "      <th>linha</th>\n",
       "      <th>turno</th>\n",
       "      <th>data_registro</th>\n",
       "      <th>hora_registro</th>\n",
       "      <th>desconto_min</th>\n",
       "      <th>afeta</th>\n",
       "      <th>tempo_esperado_min</th>\n",
       "      <th>performance</th>\n",
       "    </tr>\n",
       "  </thead>\n",
       "  <tbody>\n",
       "    <tr>\n",
       "      <th>0</th>\n",
       "      <td>TMF005</td>\n",
       "      <td>1</td>\n",
       "      <td>NOT</td>\n",
       "      <td>2024-02-01</td>\n",
       "      <td>07:59:31.586666</td>\n",
       "      <td>68.0</td>\n",
       "      <td>10.0</td>\n",
       "      <td>412.0</td>\n",
       "      <td>0.024272</td>\n",
       "    </tr>\n",
       "    <tr>\n",
       "      <th>1</th>\n",
       "      <td>TMF005</td>\n",
       "      <td>1</td>\n",
       "      <td>MAT</td>\n",
       "      <td>2024-02-01</td>\n",
       "      <td>15:59:33.023333</td>\n",
       "      <td>60.0</td>\n",
       "      <td>114.0</td>\n",
       "      <td>420.0</td>\n",
       "      <td>0.271429</td>\n",
       "    </tr>\n",
       "    <tr>\n",
       "      <th>2</th>\n",
       "      <td>TMF005</td>\n",
       "      <td>1</td>\n",
       "      <td>VES</td>\n",
       "      <td>2024-02-01</td>\n",
       "      <td>23:59:34.466666</td>\n",
       "      <td>0.0</td>\n",
       "      <td>480.0</td>\n",
       "      <td>480.0</td>\n",
       "      <td>1.000000</td>\n",
       "    </tr>\n",
       "    <tr>\n",
       "      <th>3</th>\n",
       "      <td>TMF005</td>\n",
       "      <td>1</td>\n",
       "      <td>NOT</td>\n",
       "      <td>2024-02-02</td>\n",
       "      <td>06:45:35.683333</td>\n",
       "      <td>0.0</td>\n",
       "      <td>0.0</td>\n",
       "      <td>480.0</td>\n",
       "      <td>NaN</td>\n",
       "    </tr>\n",
       "    <tr>\n",
       "      <th>4</th>\n",
       "      <td>TMF005</td>\n",
       "      <td>1</td>\n",
       "      <td>VES</td>\n",
       "      <td>2024-02-02</td>\n",
       "      <td>23:58:57.400000</td>\n",
       "      <td>0.0</td>\n",
       "      <td>304.0</td>\n",
       "      <td>480.0</td>\n",
       "      <td>0.633333</td>\n",
       "    </tr>\n",
       "    <tr>\n",
       "      <th>...</th>\n",
       "      <td>...</td>\n",
       "      <td>...</td>\n",
       "      <td>...</td>\n",
       "      <td>...</td>\n",
       "      <td>...</td>\n",
       "      <td>...</td>\n",
       "      <td>...</td>\n",
       "      <td>...</td>\n",
       "      <td>...</td>\n",
       "    </tr>\n",
       "    <tr>\n",
       "      <th>881</th>\n",
       "      <td>TMF009</td>\n",
       "      <td>14</td>\n",
       "      <td>NOT</td>\n",
       "      <td>2024-02-23</td>\n",
       "      <td>08:00:33.386666</td>\n",
       "      <td>0.0</td>\n",
       "      <td>0.0</td>\n",
       "      <td>480.0</td>\n",
       "      <td>NaN</td>\n",
       "    </tr>\n",
       "    <tr>\n",
       "      <th>882</th>\n",
       "      <td>TMF009</td>\n",
       "      <td>14</td>\n",
       "      <td>MAT</td>\n",
       "      <td>2024-02-23</td>\n",
       "      <td>15:58:34.810000</td>\n",
       "      <td>0.0</td>\n",
       "      <td>0.0</td>\n",
       "      <td>480.0</td>\n",
       "      <td>NaN</td>\n",
       "    </tr>\n",
       "    <tr>\n",
       "      <th>883</th>\n",
       "      <td>TMF009</td>\n",
       "      <td>14</td>\n",
       "      <td>VES</td>\n",
       "      <td>2024-02-23</td>\n",
       "      <td>23:58:36.240000</td>\n",
       "      <td>0.0</td>\n",
       "      <td>480.0</td>\n",
       "      <td>480.0</td>\n",
       "      <td>1.000000</td>\n",
       "    </tr>\n",
       "    <tr>\n",
       "      <th>884</th>\n",
       "      <td>TMF009</td>\n",
       "      <td>14</td>\n",
       "      <td>NOT</td>\n",
       "      <td>2024-02-24</td>\n",
       "      <td>08:00:37.663333</td>\n",
       "      <td>0.0</td>\n",
       "      <td>0.0</td>\n",
       "      <td>480.0</td>\n",
       "      <td>NaN</td>\n",
       "    </tr>\n",
       "    <tr>\n",
       "      <th>885</th>\n",
       "      <td>TMF009</td>\n",
       "      <td>14</td>\n",
       "      <td>MAT</td>\n",
       "      <td>2024-02-24</td>\n",
       "      <td>11:08:38.226666</td>\n",
       "      <td>0.0</td>\n",
       "      <td>0.0</td>\n",
       "      <td>238.0</td>\n",
       "      <td>0.000000</td>\n",
       "    </tr>\n",
       "  </tbody>\n",
       "</table>\n",
       "<p>886 rows × 9 columns</p>\n",
       "</div>"
      ],
      "text/plain": [
       "    maquina_id linha turno data_registro    hora_registro  desconto_min  \\\n",
       "0       TMF005     1   NOT    2024-02-01  07:59:31.586666          68.0   \n",
       "1       TMF005     1   MAT    2024-02-01  15:59:33.023333          60.0   \n",
       "2       TMF005     1   VES    2024-02-01  23:59:34.466666           0.0   \n",
       "3       TMF005     1   NOT    2024-02-02  06:45:35.683333           0.0   \n",
       "4       TMF005     1   VES    2024-02-02  23:58:57.400000           0.0   \n",
       "..         ...   ...   ...           ...              ...           ...   \n",
       "881     TMF009    14   NOT    2024-02-23  08:00:33.386666           0.0   \n",
       "882     TMF009    14   MAT    2024-02-23  15:58:34.810000           0.0   \n",
       "883     TMF009    14   VES    2024-02-23  23:58:36.240000           0.0   \n",
       "884     TMF009    14   NOT    2024-02-24  08:00:37.663333           0.0   \n",
       "885     TMF009    14   MAT    2024-02-24  11:08:38.226666           0.0   \n",
       "\n",
       "     afeta  tempo_esperado_min  performance  \n",
       "0     10.0               412.0     0.024272  \n",
       "1    114.0               420.0     0.271429  \n",
       "2    480.0               480.0     1.000000  \n",
       "3      0.0               480.0          NaN  \n",
       "4    304.0               480.0     0.633333  \n",
       "..     ...                 ...          ...  \n",
       "881    0.0               480.0          NaN  \n",
       "882    0.0               480.0          NaN  \n",
       "883  480.0               480.0     1.000000  \n",
       "884    0.0               480.0          NaN  \n",
       "885    0.0               238.0     0.000000  \n",
       "\n",
       "[886 rows x 9 columns]"
      ]
     },
     "execution_count": 67,
     "metadata": {},
     "output_type": "execute_result"
    }
   ],
   "source": [
    "df_perf = times_data.get_perf_data(\n",
    "    df_maq_info_occ_combined.copy(), df_maq_info_production_cleaned.copy()\n",
    ")\n",
    "df_perf"
   ]
  },
  {
   "cell_type": "code",
   "execution_count": 68,
   "metadata": {},
   "outputs": [
    {
     "data": {
      "text/html": [
       "<div>\n",
       "<style scoped>\n",
       "    .dataframe tbody tr th:only-of-type {\n",
       "        vertical-align: middle;\n",
       "    }\n",
       "\n",
       "    .dataframe tbody tr th {\n",
       "        vertical-align: top;\n",
       "    }\n",
       "\n",
       "    .dataframe thead th {\n",
       "        text-align: right;\n",
       "    }\n",
       "</style>\n",
       "<table border=\"1\" class=\"dataframe\">\n",
       "  <thead>\n",
       "    <tr style=\"text-align: right;\">\n",
       "      <th></th>\n",
       "      <th>maquina_id</th>\n",
       "      <th>linha</th>\n",
       "      <th>turno</th>\n",
       "      <th>data_registro</th>\n",
       "      <th>hora_registro</th>\n",
       "      <th>desconto_min</th>\n",
       "      <th>afeta</th>\n",
       "      <th>tempo_esperado_min</th>\n",
       "      <th>reparo</th>\n",
       "    </tr>\n",
       "  </thead>\n",
       "  <tbody>\n",
       "    <tr>\n",
       "      <th>0</th>\n",
       "      <td>TMF005</td>\n",
       "      <td>1</td>\n",
       "      <td>NOT</td>\n",
       "      <td>2024-02-01</td>\n",
       "      <td>07:59:31.586666</td>\n",
       "      <td>0.0</td>\n",
       "      <td>0.0</td>\n",
       "      <td>480.0</td>\n",
       "      <td>0.0</td>\n",
       "    </tr>\n",
       "    <tr>\n",
       "      <th>1</th>\n",
       "      <td>TMF005</td>\n",
       "      <td>1</td>\n",
       "      <td>MAT</td>\n",
       "      <td>2024-02-01</td>\n",
       "      <td>15:59:33.023333</td>\n",
       "      <td>0.0</td>\n",
       "      <td>0.0</td>\n",
       "      <td>480.0</td>\n",
       "      <td>0.0</td>\n",
       "    </tr>\n",
       "    <tr>\n",
       "      <th>2</th>\n",
       "      <td>TMF005</td>\n",
       "      <td>1</td>\n",
       "      <td>VES</td>\n",
       "      <td>2024-02-01</td>\n",
       "      <td>23:59:34.466666</td>\n",
       "      <td>0.0</td>\n",
       "      <td>0.0</td>\n",
       "      <td>480.0</td>\n",
       "      <td>0.0</td>\n",
       "    </tr>\n",
       "    <tr>\n",
       "      <th>3</th>\n",
       "      <td>TMF005</td>\n",
       "      <td>1</td>\n",
       "      <td>NOT</td>\n",
       "      <td>2024-02-02</td>\n",
       "      <td>06:45:35.683333</td>\n",
       "      <td>0.0</td>\n",
       "      <td>0.0</td>\n",
       "      <td>480.0</td>\n",
       "      <td>NaN</td>\n",
       "    </tr>\n",
       "    <tr>\n",
       "      <th>4</th>\n",
       "      <td>TMF005</td>\n",
       "      <td>1</td>\n",
       "      <td>VES</td>\n",
       "      <td>2024-02-02</td>\n",
       "      <td>23:58:57.400000</td>\n",
       "      <td>0.0</td>\n",
       "      <td>0.0</td>\n",
       "      <td>480.0</td>\n",
       "      <td>0.0</td>\n",
       "    </tr>\n",
       "    <tr>\n",
       "      <th>...</th>\n",
       "      <td>...</td>\n",
       "      <td>...</td>\n",
       "      <td>...</td>\n",
       "      <td>...</td>\n",
       "      <td>...</td>\n",
       "      <td>...</td>\n",
       "      <td>...</td>\n",
       "      <td>...</td>\n",
       "      <td>...</td>\n",
       "    </tr>\n",
       "    <tr>\n",
       "      <th>881</th>\n",
       "      <td>TMF009</td>\n",
       "      <td>14</td>\n",
       "      <td>NOT</td>\n",
       "      <td>2024-02-23</td>\n",
       "      <td>08:00:33.386666</td>\n",
       "      <td>0.0</td>\n",
       "      <td>0.0</td>\n",
       "      <td>480.0</td>\n",
       "      <td>NaN</td>\n",
       "    </tr>\n",
       "    <tr>\n",
       "      <th>882</th>\n",
       "      <td>TMF009</td>\n",
       "      <td>14</td>\n",
       "      <td>MAT</td>\n",
       "      <td>2024-02-23</td>\n",
       "      <td>15:58:34.810000</td>\n",
       "      <td>0.0</td>\n",
       "      <td>0.0</td>\n",
       "      <td>480.0</td>\n",
       "      <td>NaN</td>\n",
       "    </tr>\n",
       "    <tr>\n",
       "      <th>883</th>\n",
       "      <td>TMF009</td>\n",
       "      <td>14</td>\n",
       "      <td>VES</td>\n",
       "      <td>2024-02-23</td>\n",
       "      <td>23:58:36.240000</td>\n",
       "      <td>0.0</td>\n",
       "      <td>0.0</td>\n",
       "      <td>480.0</td>\n",
       "      <td>0.0</td>\n",
       "    </tr>\n",
       "    <tr>\n",
       "      <th>884</th>\n",
       "      <td>TMF009</td>\n",
       "      <td>14</td>\n",
       "      <td>NOT</td>\n",
       "      <td>2024-02-24</td>\n",
       "      <td>08:00:37.663333</td>\n",
       "      <td>0.0</td>\n",
       "      <td>0.0</td>\n",
       "      <td>480.0</td>\n",
       "      <td>NaN</td>\n",
       "    </tr>\n",
       "    <tr>\n",
       "      <th>885</th>\n",
       "      <td>TMF009</td>\n",
       "      <td>14</td>\n",
       "      <td>MAT</td>\n",
       "      <td>2024-02-24</td>\n",
       "      <td>11:08:38.226666</td>\n",
       "      <td>0.0</td>\n",
       "      <td>0.0</td>\n",
       "      <td>238.0</td>\n",
       "      <td>0.0</td>\n",
       "    </tr>\n",
       "  </tbody>\n",
       "</table>\n",
       "<p>886 rows × 9 columns</p>\n",
       "</div>"
      ],
      "text/plain": [
       "    maquina_id linha turno data_registro    hora_registro  desconto_min  \\\n",
       "0       TMF005     1   NOT    2024-02-01  07:59:31.586666           0.0   \n",
       "1       TMF005     1   MAT    2024-02-01  15:59:33.023333           0.0   \n",
       "2       TMF005     1   VES    2024-02-01  23:59:34.466666           0.0   \n",
       "3       TMF005     1   NOT    2024-02-02  06:45:35.683333           0.0   \n",
       "4       TMF005     1   VES    2024-02-02  23:58:57.400000           0.0   \n",
       "..         ...   ...   ...           ...              ...           ...   \n",
       "881     TMF009    14   NOT    2024-02-23  08:00:33.386666           0.0   \n",
       "882     TMF009    14   MAT    2024-02-23  15:58:34.810000           0.0   \n",
       "883     TMF009    14   VES    2024-02-23  23:58:36.240000           0.0   \n",
       "884     TMF009    14   NOT    2024-02-24  08:00:37.663333           0.0   \n",
       "885     TMF009    14   MAT    2024-02-24  11:08:38.226666           0.0   \n",
       "\n",
       "     afeta  tempo_esperado_min  reparo  \n",
       "0      0.0               480.0     0.0  \n",
       "1      0.0               480.0     0.0  \n",
       "2      0.0               480.0     0.0  \n",
       "3      0.0               480.0     NaN  \n",
       "4      0.0               480.0     0.0  \n",
       "..     ...                 ...     ...  \n",
       "881    0.0               480.0     NaN  \n",
       "882    0.0               480.0     NaN  \n",
       "883    0.0               480.0     0.0  \n",
       "884    0.0               480.0     NaN  \n",
       "885    0.0               238.0     0.0  \n",
       "\n",
       "[886 rows x 9 columns]"
      ]
     },
     "execution_count": 68,
     "metadata": {},
     "output_type": "execute_result"
    }
   ],
   "source": [
    "df_reparos = times_data.get_reparos_data(\n",
    "    df_maq_info_occ_combined.copy(), df_maq_info_production_cleaned.copy()\n",
    ")\n",
    "df_reparos"
   ]
  },
  {
   "cell_type": "markdown",
   "metadata": {},
   "source": [
    "# Gráficos\n"
   ]
  },
  {
   "cell_type": "code",
   "execution_count": 69,
   "metadata": {},
   "outputs": [
    {
     "ename": "KeyError",
     "evalue": "'Column not found: eficiencia'",
     "output_type": "error",
     "traceback": [
      "\u001b[1;31m---------------------------------------------------------------------------\u001b[0m",
      "\u001b[1;31mKeyError\u001b[0m                                  Traceback (most recent call last)",
      "Cell \u001b[1;32mIn[69], line 82\u001b[0m\n\u001b[0;32m     60\u001b[0m     fig\u001b[38;5;241m.\u001b[39mupdate_layout(\n\u001b[0;32m     61\u001b[0m         title\u001b[38;5;241m=\u001b[39m\u001b[38;5;124mf\u001b[39m\u001b[38;5;124m\"\u001b[39m\u001b[38;5;124mEficiência - Meta \u001b[39m\u001b[38;5;132;01m{\u001b[39;00mmeta\u001b[38;5;132;01m}\u001b[39;00m\u001b[38;5;124m%\u001b[39m\u001b[38;5;124m\"\u001b[39m,\n\u001b[0;32m     62\u001b[0m         xaxis_title\u001b[38;5;241m=\u001b[39m\u001b[38;5;124m\"\u001b[39m\u001b[38;5;124mDia\u001b[39m\u001b[38;5;124m\"\u001b[39m,\n\u001b[1;32m   (...)\u001b[0m\n\u001b[0;32m     76\u001b[0m         font\u001b[38;5;241m=\u001b[39m\u001b[38;5;28mdict\u001b[39m({\u001b[38;5;124m\"\u001b[39m\u001b[38;5;124mfamily\u001b[39m\u001b[38;5;124m\"\u001b[39m: \u001b[38;5;124m\"\u001b[39m\u001b[38;5;124mInter\u001b[39m\u001b[38;5;124m\"\u001b[39m}),\n\u001b[0;32m     77\u001b[0m     )\n\u001b[0;32m     79\u001b[0m     fig\u001b[38;5;241m.\u001b[39mshow()\n\u001b[1;32m---> 82\u001b[0m \u001b[43mtest\u001b[49m\u001b[43m(\u001b[49m\u001b[43mdf_eff\u001b[49m\u001b[43m,\u001b[49m\u001b[43m \u001b[49m\u001b[38;5;241;43m90\u001b[39;49m\u001b[43m)\u001b[49m\n",
      "Cell \u001b[1;32mIn[69], line 10\u001b[0m, in \u001b[0;36mtest\u001b[1;34m(dataframe, meta)\u001b[0m\n\u001b[0;32m      6\u001b[0m dataframe[\u001b[38;5;124m\"\u001b[39m\u001b[38;5;124mdata_turno\u001b[39m\u001b[38;5;124m\"\u001b[39m] \u001b[38;5;241m=\u001b[39m dataframe[\u001b[38;5;124m\"\u001b[39m\u001b[38;5;124mdata_registro\u001b[39m\u001b[38;5;124m\"\u001b[39m]\u001b[38;5;241m.\u001b[39mdt\u001b[38;5;241m.\u001b[39mstrftime(\u001b[38;5;124m\"\u001b[39m\u001b[38;5;124m%\u001b[39m\u001b[38;5;124mY-\u001b[39m\u001b[38;5;124m%\u001b[39m\u001b[38;5;124mm-\u001b[39m\u001b[38;5;132;01m%d\u001b[39;00m\u001b[38;5;124m\"\u001b[39m)\n\u001b[0;32m      8\u001b[0m \u001b[38;5;66;03m# Agrupar por 'data_turno' e 'turno' e calcular a média da eficiência\u001b[39;00m\n\u001b[0;32m      9\u001b[0m df_grouped \u001b[38;5;241m=\u001b[39m (\n\u001b[1;32m---> 10\u001b[0m     \u001b[43mdataframe\u001b[49m\u001b[38;5;241;43m.\u001b[39;49m\u001b[43mgroupby\u001b[49m\u001b[43m(\u001b[49m\u001b[43m[\u001b[49m\u001b[38;5;124;43m\"\u001b[39;49m\u001b[38;5;124;43mdata_turno\u001b[39;49m\u001b[38;5;124;43m\"\u001b[39;49m\u001b[43m,\u001b[49m\u001b[43m \u001b[49m\u001b[38;5;124;43m\"\u001b[39;49m\u001b[38;5;124;43mturno\u001b[39;49m\u001b[38;5;124;43m\"\u001b[39;49m\u001b[43m]\u001b[49m\u001b[43m,\u001b[49m\u001b[43m \u001b[49m\u001b[43mobserved\u001b[49m\u001b[38;5;241;43m=\u001b[39;49m\u001b[38;5;28;43;01mFalse\u001b[39;49;00m\u001b[43m)\u001b[49m\u001b[43m[\u001b[49m\u001b[38;5;124;43m\"\u001b[39;49m\u001b[38;5;124;43meficiencia\u001b[39;49m\u001b[38;5;124;43m\"\u001b[39;49m\u001b[43m]\u001b[49m\n\u001b[0;32m     11\u001b[0m     \u001b[38;5;241m.\u001b[39mmean()\n\u001b[0;32m     12\u001b[0m     \u001b[38;5;241m.\u001b[39mreset_index()\n\u001b[0;32m     13\u001b[0m )\n\u001b[0;32m     15\u001b[0m \u001b[38;5;66;03m# Remodelar os dados para o formato de heatmap\u001b[39;00m\n\u001b[0;32m     16\u001b[0m df_pivot \u001b[38;5;241m=\u001b[39m df_grouped\u001b[38;5;241m.\u001b[39mpivot(index\u001b[38;5;241m=\u001b[39m\u001b[38;5;124m\"\u001b[39m\u001b[38;5;124mturno\u001b[39m\u001b[38;5;124m\"\u001b[39m, columns\u001b[38;5;241m=\u001b[39m\u001b[38;5;124m\"\u001b[39m\u001b[38;5;124mdata_turno\u001b[39m\u001b[38;5;124m\"\u001b[39m, values\u001b[38;5;241m=\u001b[39m\u001b[38;5;124m\"\u001b[39m\u001b[38;5;124meficiencia\u001b[39m\u001b[38;5;124m\"\u001b[39m)\n",
      "File \u001b[1;32mc:\\Users\\bruno.thomaz\\Documents\\Dev\\stm-shop-floor-management\\.venv-stm\\Lib\\site-packages\\pandas\\core\\groupby\\generic.py:1964\u001b[0m, in \u001b[0;36mDataFrameGroupBy.__getitem__\u001b[1;34m(self, key)\u001b[0m\n\u001b[0;32m   1957\u001b[0m \u001b[38;5;28;01mif\u001b[39;00m \u001b[38;5;28misinstance\u001b[39m(key, \u001b[38;5;28mtuple\u001b[39m) \u001b[38;5;129;01mand\u001b[39;00m \u001b[38;5;28mlen\u001b[39m(key) \u001b[38;5;241m>\u001b[39m \u001b[38;5;241m1\u001b[39m:\n\u001b[0;32m   1958\u001b[0m     \u001b[38;5;66;03m# if len == 1, then it becomes a SeriesGroupBy and this is actually\u001b[39;00m\n\u001b[0;32m   1959\u001b[0m     \u001b[38;5;66;03m# valid syntax, so don't raise\u001b[39;00m\n\u001b[0;32m   1960\u001b[0m     \u001b[38;5;28;01mraise\u001b[39;00m \u001b[38;5;167;01mValueError\u001b[39;00m(\n\u001b[0;32m   1961\u001b[0m         \u001b[38;5;124m\"\u001b[39m\u001b[38;5;124mCannot subset columns with a tuple with more than one element. \u001b[39m\u001b[38;5;124m\"\u001b[39m\n\u001b[0;32m   1962\u001b[0m         \u001b[38;5;124m\"\u001b[39m\u001b[38;5;124mUse a list instead.\u001b[39m\u001b[38;5;124m\"\u001b[39m\n\u001b[0;32m   1963\u001b[0m     )\n\u001b[1;32m-> 1964\u001b[0m \u001b[38;5;28;01mreturn\u001b[39;00m \u001b[38;5;28;43msuper\u001b[39;49m\u001b[43m(\u001b[49m\u001b[43m)\u001b[49m\u001b[38;5;241;43m.\u001b[39;49m\u001b[38;5;21;43m__getitem__\u001b[39;49m\u001b[43m(\u001b[49m\u001b[43mkey\u001b[49m\u001b[43m)\u001b[49m\n",
      "File \u001b[1;32mc:\\Users\\bruno.thomaz\\Documents\\Dev\\stm-shop-floor-management\\.venv-stm\\Lib\\site-packages\\pandas\\core\\base.py:244\u001b[0m, in \u001b[0;36mSelectionMixin.__getitem__\u001b[1;34m(self, key)\u001b[0m\n\u001b[0;32m    242\u001b[0m \u001b[38;5;28;01melse\u001b[39;00m:\n\u001b[0;32m    243\u001b[0m     \u001b[38;5;28;01mif\u001b[39;00m key \u001b[38;5;129;01mnot\u001b[39;00m \u001b[38;5;129;01min\u001b[39;00m \u001b[38;5;28mself\u001b[39m\u001b[38;5;241m.\u001b[39mobj:\n\u001b[1;32m--> 244\u001b[0m         \u001b[38;5;28;01mraise\u001b[39;00m \u001b[38;5;167;01mKeyError\u001b[39;00m(\u001b[38;5;124mf\u001b[39m\u001b[38;5;124m\"\u001b[39m\u001b[38;5;124mColumn not found: \u001b[39m\u001b[38;5;132;01m{\u001b[39;00mkey\u001b[38;5;132;01m}\u001b[39;00m\u001b[38;5;124m\"\u001b[39m)\n\u001b[0;32m    245\u001b[0m     ndim \u001b[38;5;241m=\u001b[39m \u001b[38;5;28mself\u001b[39m\u001b[38;5;241m.\u001b[39mobj[key]\u001b[38;5;241m.\u001b[39mndim\n\u001b[0;32m    246\u001b[0m     \u001b[38;5;28;01mreturn\u001b[39;00m \u001b[38;5;28mself\u001b[39m\u001b[38;5;241m.\u001b[39m_gotitem(key, ndim\u001b[38;5;241m=\u001b[39mndim)\n",
      "\u001b[1;31mKeyError\u001b[0m: 'Column not found: eficiencia'"
     ]
    }
   ],
   "source": [
    "# HeatMap\n",
    "# cSpell: disable=invalid-name\n",
    "def test(dataframe, meta):\n",
    "    # Converter 'data_registro' para datetime e criar uma nova coluna 'data_turno'\n",
    "    dataframe[\"data_registro\"] = pd.to_datetime(dataframe[\"data_registro\"])\n",
    "    dataframe[\"data_turno\"] = dataframe[\"data_registro\"].dt.strftime(\"%Y-%m-%d\")\n",
    "\n",
    "    # Agrupar por 'data_turno' e 'turno' e calcular a média da eficiência\n",
    "    df_grouped = (\n",
    "        dataframe.groupby([\"data_turno\", \"turno\"], observed=False)[\"eficiencia\"]\n",
    "        .mean()\n",
    "        .reset_index()\n",
    "    )\n",
    "\n",
    "    # Remodelar os dados para o formato de heatmap\n",
    "    df_pivot = df_grouped.pivot(index=\"turno\", columns=\"data_turno\", values=\"eficiencia\")\n",
    "\n",
    "    # Reordenar o índice do DataFrame\n",
    "    df_pivot = df_pivot.reindex([\"VES\", \"MAT\", \"NOT\"])\n",
    "\n",
    "    # Criar escala de cores personalizada - cores do bootstrap\n",
    "    colors = [\n",
    "        [0, \"#e30613\"],\n",
    "        [0.9, \"#e30613\"],\n",
    "        [0.9, \"#00a13a\"],\n",
    "        [1, \"#00a13a\"],\n",
    "    ]\n",
    "\n",
    "    # Extrair apenas o dia da data\n",
    "    df_pivot.columns = pd.to_datetime(df_pivot.columns).day\n",
    "\n",
    "    # Criar o gráfico de calor\n",
    "    fig = go.Figure(\n",
    "        data=go.Heatmap(\n",
    "            z=df_pivot.values,\n",
    "            x=df_pivot.columns,\n",
    "            y=df_pivot.index,\n",
    "            colorscale=colors,\n",
    "            zmin=0,\n",
    "            zmax=1,  # Escala de valores de 0 a 1\n",
    "            hoverongaps=False,\n",
    "            hovertemplate=\"Turno: %{y}<br>Dia: %{x}<br>Valor: %{z:.1%}\",\n",
    "            showscale=False,  # Não mostrar a escala de cores\n",
    "            xgap=1,  # Espaçamento entre os dias\n",
    "            ygap=1,  # Espaçamento entre os turnos\n",
    "        )\n",
    "    )\n",
    "\n",
    "    # Adicionar anotações com a média da eficiência\n",
    "    for (i, j), value in np.ndenumerate(df_pivot.values):\n",
    "        fig.add_annotation(\n",
    "            x=df_pivot.columns[j],\n",
    "            y=df_pivot.index[i],\n",
    "            text=f\"{value:.1%}\",\n",
    "            showarrow=False,\n",
    "            font=dict(color=\"white\", size=8),\n",
    "        )\n",
    "\n",
    "    # Definir o título do gráfico\n",
    "    fig.update_layout(\n",
    "        title=f\"Eficiência - Meta {meta}%\",\n",
    "        xaxis_title=\"Dia\",\n",
    "        yaxis_title=\"Turno\",\n",
    "        title_x=0.5,  # Centralizar o título\n",
    "        xaxis_nticks=31,  # Definir o número de dias\n",
    "        xaxis=dict(\n",
    "            tickmode=\"linear\",\n",
    "            tickvals=list(range(1, 32)),  # Definir os dias\n",
    "            ticktext=list(range(1, 32)),  # Definir os dias\n",
    "        ),\n",
    "        yaxis=dict(\n",
    "            tickmode=\"linear\",\n",
    "        ),\n",
    "        plot_bgcolor=\"white\",\n",
    "        margin=dict(t=40, b=40, l=40, r=40),\n",
    "        font=dict({\"family\": \"Inter\"}),\n",
    "    )\n",
    "\n",
    "    fig.show()\n",
    "\n",
    "\n",
    "test(df_eff, 90)"
   ]
  },
  {
   "cell_type": "code",
   "execution_count": null,
   "metadata": {},
   "outputs": [
    {
     "data": {
      "application/vnd.plotly.v1+json": {
       "config": {
        "plotlyServerURL": "https://plot.ly"
       },
       "data": [
        {
         "colorscale": [
          [
           0,
           "green"
          ],
          [
           0.04,
           "green"
          ],
          [
           0.04,
           "red"
          ],
          [
           1,
           "red"
          ]
         ],
         "hoverongaps": false,
         "hovertemplate": "Turno: %{y}<br>Dia: %{x}<br>Valor: %{z:.1%}",
         "showscale": false,
         "type": "heatmap",
         "x": [
          1,
          2,
          3,
          4,
          5,
          6,
          7,
          8,
          9,
          10,
          11,
          12,
          13,
          14,
          15,
          16,
          17,
          18,
          19,
          20,
          21,
          22,
          23,
          24
         ],
         "xgap": 1,
         "y": [
          "VES",
          "MAT",
          "NOT"
         ],
         "ygap": 1,
         "z": [
          [
           0.9895833333333334,
           0.6305555555555555,
           null,
           null,
           0.27754329004329004,
           0.25952380952380955,
           0.21339576276814773,
           0.16704545454545452,
           0.13712121212121212,
           0,
           null,
           null,
           0.30416666666666664,
           0.3149629340616465,
           0.25459030683403067,
           0.27045454545454545,
           0.26742424242424245,
           0.9666666666666667,
           0.3578898724732058,
           0.3227272727272727,
           0.2593907232704402,
           0.08317099567099567,
           0.8284722222222222,
           null
          ],
          [
           0.14995039682539682,
           null,
           null,
           null,
           0.2623214285714286,
           0.18041666666666667,
           0.2793600902643456,
           0.2038961038961039,
           0.2209016232914738,
           0.2353896103896104,
           null,
           null,
           null,
           0.4548611111111111,
           0.12339564201488887,
           0.21077127659574466,
           0.23474025974025975,
           null,
           0.25125495072303583,
           0.09202838827838829,
           0.27696652940555383,
           0.20416666666666666,
           0.2679709543964005,
           0
          ],
          [
           0.078082937729516,
           null,
           null,
           null,
           0.37700077148454975,
           0.2517324816105304,
           0.15481601731601732,
           0.13576839826839826,
           0.30004960317460316,
           0.16827047066408768,
           null,
           null,
           0,
           0.5162037037037037,
           0.2780225305130825,
           0.15458333333333335,
           0.27305194805194805,
           null,
           0.24149891864424364,
           0.23675595238095237,
           0.28143520476907197,
           0.31174898682877406,
           0.16383928571428572,
           0
          ]
         ],
         "zmax": 1,
         "zmin": 0
        }
       ],
       "layout": {
        "annotations": [
         {
          "font": {
           "color": "white",
           "size": 8
          },
          "showarrow": false,
          "text": "99.0%",
          "x": 1,
          "y": "VES"
         },
         {
          "font": {
           "color": "white",
           "size": 8
          },
          "showarrow": false,
          "text": "63.1%",
          "x": 2,
          "y": "VES"
         },
         {
          "font": {
           "color": "white",
           "size": 8
          },
          "showarrow": false,
          "text": "nan%",
          "x": 3,
          "y": "VES"
         },
         {
          "font": {
           "color": "white",
           "size": 8
          },
          "showarrow": false,
          "text": "nan%",
          "x": 4,
          "y": "VES"
         },
         {
          "font": {
           "color": "white",
           "size": 8
          },
          "showarrow": false,
          "text": "27.8%",
          "x": 5,
          "y": "VES"
         },
         {
          "font": {
           "color": "white",
           "size": 8
          },
          "showarrow": false,
          "text": "26.0%",
          "x": 6,
          "y": "VES"
         },
         {
          "font": {
           "color": "white",
           "size": 8
          },
          "showarrow": false,
          "text": "21.3%",
          "x": 7,
          "y": "VES"
         },
         {
          "font": {
           "color": "white",
           "size": 8
          },
          "showarrow": false,
          "text": "16.7%",
          "x": 8,
          "y": "VES"
         },
         {
          "font": {
           "color": "white",
           "size": 8
          },
          "showarrow": false,
          "text": "13.7%",
          "x": 9,
          "y": "VES"
         },
         {
          "font": {
           "color": "white",
           "size": 8
          },
          "showarrow": false,
          "text": "0.0%",
          "x": 10,
          "y": "VES"
         },
         {
          "font": {
           "color": "white",
           "size": 8
          },
          "showarrow": false,
          "text": "nan%",
          "x": 11,
          "y": "VES"
         },
         {
          "font": {
           "color": "white",
           "size": 8
          },
          "showarrow": false,
          "text": "nan%",
          "x": 12,
          "y": "VES"
         },
         {
          "font": {
           "color": "white",
           "size": 8
          },
          "showarrow": false,
          "text": "30.4%",
          "x": 13,
          "y": "VES"
         },
         {
          "font": {
           "color": "white",
           "size": 8
          },
          "showarrow": false,
          "text": "31.5%",
          "x": 14,
          "y": "VES"
         },
         {
          "font": {
           "color": "white",
           "size": 8
          },
          "showarrow": false,
          "text": "25.5%",
          "x": 15,
          "y": "VES"
         },
         {
          "font": {
           "color": "white",
           "size": 8
          },
          "showarrow": false,
          "text": "27.0%",
          "x": 16,
          "y": "VES"
         },
         {
          "font": {
           "color": "white",
           "size": 8
          },
          "showarrow": false,
          "text": "26.7%",
          "x": 17,
          "y": "VES"
         },
         {
          "font": {
           "color": "white",
           "size": 8
          },
          "showarrow": false,
          "text": "96.7%",
          "x": 18,
          "y": "VES"
         },
         {
          "font": {
           "color": "white",
           "size": 8
          },
          "showarrow": false,
          "text": "35.8%",
          "x": 19,
          "y": "VES"
         },
         {
          "font": {
           "color": "white",
           "size": 8
          },
          "showarrow": false,
          "text": "32.3%",
          "x": 20,
          "y": "VES"
         },
         {
          "font": {
           "color": "white",
           "size": 8
          },
          "showarrow": false,
          "text": "25.9%",
          "x": 21,
          "y": "VES"
         },
         {
          "font": {
           "color": "white",
           "size": 8
          },
          "showarrow": false,
          "text": "8.3%",
          "x": 22,
          "y": "VES"
         },
         {
          "font": {
           "color": "white",
           "size": 8
          },
          "showarrow": false,
          "text": "82.8%",
          "x": 23,
          "y": "VES"
         },
         {
          "font": {
           "color": "white",
           "size": 8
          },
          "showarrow": false,
          "text": "nan%",
          "x": 24,
          "y": "VES"
         },
         {
          "font": {
           "color": "white",
           "size": 8
          },
          "showarrow": false,
          "text": "15.0%",
          "x": 1,
          "y": "MAT"
         },
         {
          "font": {
           "color": "white",
           "size": 8
          },
          "showarrow": false,
          "text": "nan%",
          "x": 2,
          "y": "MAT"
         },
         {
          "font": {
           "color": "white",
           "size": 8
          },
          "showarrow": false,
          "text": "nan%",
          "x": 3,
          "y": "MAT"
         },
         {
          "font": {
           "color": "white",
           "size": 8
          },
          "showarrow": false,
          "text": "nan%",
          "x": 4,
          "y": "MAT"
         },
         {
          "font": {
           "color": "white",
           "size": 8
          },
          "showarrow": false,
          "text": "26.2%",
          "x": 5,
          "y": "MAT"
         },
         {
          "font": {
           "color": "white",
           "size": 8
          },
          "showarrow": false,
          "text": "18.0%",
          "x": 6,
          "y": "MAT"
         },
         {
          "font": {
           "color": "white",
           "size": 8
          },
          "showarrow": false,
          "text": "27.9%",
          "x": 7,
          "y": "MAT"
         },
         {
          "font": {
           "color": "white",
           "size": 8
          },
          "showarrow": false,
          "text": "20.4%",
          "x": 8,
          "y": "MAT"
         },
         {
          "font": {
           "color": "white",
           "size": 8
          },
          "showarrow": false,
          "text": "22.1%",
          "x": 9,
          "y": "MAT"
         },
         {
          "font": {
           "color": "white",
           "size": 8
          },
          "showarrow": false,
          "text": "23.5%",
          "x": 10,
          "y": "MAT"
         },
         {
          "font": {
           "color": "white",
           "size": 8
          },
          "showarrow": false,
          "text": "nan%",
          "x": 11,
          "y": "MAT"
         },
         {
          "font": {
           "color": "white",
           "size": 8
          },
          "showarrow": false,
          "text": "nan%",
          "x": 12,
          "y": "MAT"
         },
         {
          "font": {
           "color": "white",
           "size": 8
          },
          "showarrow": false,
          "text": "nan%",
          "x": 13,
          "y": "MAT"
         },
         {
          "font": {
           "color": "white",
           "size": 8
          },
          "showarrow": false,
          "text": "45.5%",
          "x": 14,
          "y": "MAT"
         },
         {
          "font": {
           "color": "white",
           "size": 8
          },
          "showarrow": false,
          "text": "12.3%",
          "x": 15,
          "y": "MAT"
         },
         {
          "font": {
           "color": "white",
           "size": 8
          },
          "showarrow": false,
          "text": "21.1%",
          "x": 16,
          "y": "MAT"
         },
         {
          "font": {
           "color": "white",
           "size": 8
          },
          "showarrow": false,
          "text": "23.5%",
          "x": 17,
          "y": "MAT"
         },
         {
          "font": {
           "color": "white",
           "size": 8
          },
          "showarrow": false,
          "text": "nan%",
          "x": 18,
          "y": "MAT"
         },
         {
          "font": {
           "color": "white",
           "size": 8
          },
          "showarrow": false,
          "text": "25.1%",
          "x": 19,
          "y": "MAT"
         },
         {
          "font": {
           "color": "white",
           "size": 8
          },
          "showarrow": false,
          "text": "9.2%",
          "x": 20,
          "y": "MAT"
         },
         {
          "font": {
           "color": "white",
           "size": 8
          },
          "showarrow": false,
          "text": "27.7%",
          "x": 21,
          "y": "MAT"
         },
         {
          "font": {
           "color": "white",
           "size": 8
          },
          "showarrow": false,
          "text": "20.4%",
          "x": 22,
          "y": "MAT"
         },
         {
          "font": {
           "color": "white",
           "size": 8
          },
          "showarrow": false,
          "text": "26.8%",
          "x": 23,
          "y": "MAT"
         },
         {
          "font": {
           "color": "white",
           "size": 8
          },
          "showarrow": false,
          "text": "0.0%",
          "x": 24,
          "y": "MAT"
         },
         {
          "font": {
           "color": "white",
           "size": 8
          },
          "showarrow": false,
          "text": "7.8%",
          "x": 1,
          "y": "NOT"
         },
         {
          "font": {
           "color": "white",
           "size": 8
          },
          "showarrow": false,
          "text": "nan%",
          "x": 2,
          "y": "NOT"
         },
         {
          "font": {
           "color": "white",
           "size": 8
          },
          "showarrow": false,
          "text": "nan%",
          "x": 3,
          "y": "NOT"
         },
         {
          "font": {
           "color": "white",
           "size": 8
          },
          "showarrow": false,
          "text": "nan%",
          "x": 4,
          "y": "NOT"
         },
         {
          "font": {
           "color": "white",
           "size": 8
          },
          "showarrow": false,
          "text": "37.7%",
          "x": 5,
          "y": "NOT"
         },
         {
          "font": {
           "color": "white",
           "size": 8
          },
          "showarrow": false,
          "text": "25.2%",
          "x": 6,
          "y": "NOT"
         },
         {
          "font": {
           "color": "white",
           "size": 8
          },
          "showarrow": false,
          "text": "15.5%",
          "x": 7,
          "y": "NOT"
         },
         {
          "font": {
           "color": "white",
           "size": 8
          },
          "showarrow": false,
          "text": "13.6%",
          "x": 8,
          "y": "NOT"
         },
         {
          "font": {
           "color": "white",
           "size": 8
          },
          "showarrow": false,
          "text": "30.0%",
          "x": 9,
          "y": "NOT"
         },
         {
          "font": {
           "color": "white",
           "size": 8
          },
          "showarrow": false,
          "text": "16.8%",
          "x": 10,
          "y": "NOT"
         },
         {
          "font": {
           "color": "white",
           "size": 8
          },
          "showarrow": false,
          "text": "nan%",
          "x": 11,
          "y": "NOT"
         },
         {
          "font": {
           "color": "white",
           "size": 8
          },
          "showarrow": false,
          "text": "nan%",
          "x": 12,
          "y": "NOT"
         },
         {
          "font": {
           "color": "white",
           "size": 8
          },
          "showarrow": false,
          "text": "0.0%",
          "x": 13,
          "y": "NOT"
         },
         {
          "font": {
           "color": "white",
           "size": 8
          },
          "showarrow": false,
          "text": "51.6%",
          "x": 14,
          "y": "NOT"
         },
         {
          "font": {
           "color": "white",
           "size": 8
          },
          "showarrow": false,
          "text": "27.8%",
          "x": 15,
          "y": "NOT"
         },
         {
          "font": {
           "color": "white",
           "size": 8
          },
          "showarrow": false,
          "text": "15.5%",
          "x": 16,
          "y": "NOT"
         },
         {
          "font": {
           "color": "white",
           "size": 8
          },
          "showarrow": false,
          "text": "27.3%",
          "x": 17,
          "y": "NOT"
         },
         {
          "font": {
           "color": "white",
           "size": 8
          },
          "showarrow": false,
          "text": "nan%",
          "x": 18,
          "y": "NOT"
         },
         {
          "font": {
           "color": "white",
           "size": 8
          },
          "showarrow": false,
          "text": "24.1%",
          "x": 19,
          "y": "NOT"
         },
         {
          "font": {
           "color": "white",
           "size": 8
          },
          "showarrow": false,
          "text": "23.7%",
          "x": 20,
          "y": "NOT"
         },
         {
          "font": {
           "color": "white",
           "size": 8
          },
          "showarrow": false,
          "text": "28.1%",
          "x": 21,
          "y": "NOT"
         },
         {
          "font": {
           "color": "white",
           "size": 8
          },
          "showarrow": false,
          "text": "31.2%",
          "x": 22,
          "y": "NOT"
         },
         {
          "font": {
           "color": "white",
           "size": 8
          },
          "showarrow": false,
          "text": "16.4%",
          "x": 23,
          "y": "NOT"
         },
         {
          "font": {
           "color": "white",
           "size": 8
          },
          "showarrow": false,
          "text": "0.0%",
          "x": 24,
          "y": "NOT"
         }
        ],
        "font": {
         "family": "Inter"
        },
        "margin": {
         "b": 40,
         "l": 40,
         "r": 40,
         "t": 40
        },
        "plot_bgcolor": "white",
        "template": {
         "data": {
          "bar": [
           {
            "error_x": {
             "color": "#2a3f5f"
            },
            "error_y": {
             "color": "#2a3f5f"
            },
            "marker": {
             "line": {
              "color": "#E5ECF6",
              "width": 0.5
             },
             "pattern": {
              "fillmode": "overlay",
              "size": 10,
              "solidity": 0.2
             }
            },
            "type": "bar"
           }
          ],
          "barpolar": [
           {
            "marker": {
             "line": {
              "color": "#E5ECF6",
              "width": 0.5
             },
             "pattern": {
              "fillmode": "overlay",
              "size": 10,
              "solidity": 0.2
             }
            },
            "type": "barpolar"
           }
          ],
          "carpet": [
           {
            "aaxis": {
             "endlinecolor": "#2a3f5f",
             "gridcolor": "white",
             "linecolor": "white",
             "minorgridcolor": "white",
             "startlinecolor": "#2a3f5f"
            },
            "baxis": {
             "endlinecolor": "#2a3f5f",
             "gridcolor": "white",
             "linecolor": "white",
             "minorgridcolor": "white",
             "startlinecolor": "#2a3f5f"
            },
            "type": "carpet"
           }
          ],
          "choropleth": [
           {
            "colorbar": {
             "outlinewidth": 0,
             "ticks": ""
            },
            "type": "choropleth"
           }
          ],
          "contour": [
           {
            "colorbar": {
             "outlinewidth": 0,
             "ticks": ""
            },
            "colorscale": [
             [
              0,
              "#0d0887"
             ],
             [
              0.1111111111111111,
              "#46039f"
             ],
             [
              0.2222222222222222,
              "#7201a8"
             ],
             [
              0.3333333333333333,
              "#9c179e"
             ],
             [
              0.4444444444444444,
              "#bd3786"
             ],
             [
              0.5555555555555556,
              "#d8576b"
             ],
             [
              0.6666666666666666,
              "#ed7953"
             ],
             [
              0.7777777777777778,
              "#fb9f3a"
             ],
             [
              0.8888888888888888,
              "#fdca26"
             ],
             [
              1,
              "#f0f921"
             ]
            ],
            "type": "contour"
           }
          ],
          "contourcarpet": [
           {
            "colorbar": {
             "outlinewidth": 0,
             "ticks": ""
            },
            "type": "contourcarpet"
           }
          ],
          "heatmap": [
           {
            "colorbar": {
             "outlinewidth": 0,
             "ticks": ""
            },
            "colorscale": [
             [
              0,
              "#0d0887"
             ],
             [
              0.1111111111111111,
              "#46039f"
             ],
             [
              0.2222222222222222,
              "#7201a8"
             ],
             [
              0.3333333333333333,
              "#9c179e"
             ],
             [
              0.4444444444444444,
              "#bd3786"
             ],
             [
              0.5555555555555556,
              "#d8576b"
             ],
             [
              0.6666666666666666,
              "#ed7953"
             ],
             [
              0.7777777777777778,
              "#fb9f3a"
             ],
             [
              0.8888888888888888,
              "#fdca26"
             ],
             [
              1,
              "#f0f921"
             ]
            ],
            "type": "heatmap"
           }
          ],
          "heatmapgl": [
           {
            "colorbar": {
             "outlinewidth": 0,
             "ticks": ""
            },
            "colorscale": [
             [
              0,
              "#0d0887"
             ],
             [
              0.1111111111111111,
              "#46039f"
             ],
             [
              0.2222222222222222,
              "#7201a8"
             ],
             [
              0.3333333333333333,
              "#9c179e"
             ],
             [
              0.4444444444444444,
              "#bd3786"
             ],
             [
              0.5555555555555556,
              "#d8576b"
             ],
             [
              0.6666666666666666,
              "#ed7953"
             ],
             [
              0.7777777777777778,
              "#fb9f3a"
             ],
             [
              0.8888888888888888,
              "#fdca26"
             ],
             [
              1,
              "#f0f921"
             ]
            ],
            "type": "heatmapgl"
           }
          ],
          "histogram": [
           {
            "marker": {
             "pattern": {
              "fillmode": "overlay",
              "size": 10,
              "solidity": 0.2
             }
            },
            "type": "histogram"
           }
          ],
          "histogram2d": [
           {
            "colorbar": {
             "outlinewidth": 0,
             "ticks": ""
            },
            "colorscale": [
             [
              0,
              "#0d0887"
             ],
             [
              0.1111111111111111,
              "#46039f"
             ],
             [
              0.2222222222222222,
              "#7201a8"
             ],
             [
              0.3333333333333333,
              "#9c179e"
             ],
             [
              0.4444444444444444,
              "#bd3786"
             ],
             [
              0.5555555555555556,
              "#d8576b"
             ],
             [
              0.6666666666666666,
              "#ed7953"
             ],
             [
              0.7777777777777778,
              "#fb9f3a"
             ],
             [
              0.8888888888888888,
              "#fdca26"
             ],
             [
              1,
              "#f0f921"
             ]
            ],
            "type": "histogram2d"
           }
          ],
          "histogram2dcontour": [
           {
            "colorbar": {
             "outlinewidth": 0,
             "ticks": ""
            },
            "colorscale": [
             [
              0,
              "#0d0887"
             ],
             [
              0.1111111111111111,
              "#46039f"
             ],
             [
              0.2222222222222222,
              "#7201a8"
             ],
             [
              0.3333333333333333,
              "#9c179e"
             ],
             [
              0.4444444444444444,
              "#bd3786"
             ],
             [
              0.5555555555555556,
              "#d8576b"
             ],
             [
              0.6666666666666666,
              "#ed7953"
             ],
             [
              0.7777777777777778,
              "#fb9f3a"
             ],
             [
              0.8888888888888888,
              "#fdca26"
             ],
             [
              1,
              "#f0f921"
             ]
            ],
            "type": "histogram2dcontour"
           }
          ],
          "mesh3d": [
           {
            "colorbar": {
             "outlinewidth": 0,
             "ticks": ""
            },
            "type": "mesh3d"
           }
          ],
          "parcoords": [
           {
            "line": {
             "colorbar": {
              "outlinewidth": 0,
              "ticks": ""
             }
            },
            "type": "parcoords"
           }
          ],
          "pie": [
           {
            "automargin": true,
            "type": "pie"
           }
          ],
          "scatter": [
           {
            "fillpattern": {
             "fillmode": "overlay",
             "size": 10,
             "solidity": 0.2
            },
            "type": "scatter"
           }
          ],
          "scatter3d": [
           {
            "line": {
             "colorbar": {
              "outlinewidth": 0,
              "ticks": ""
             }
            },
            "marker": {
             "colorbar": {
              "outlinewidth": 0,
              "ticks": ""
             }
            },
            "type": "scatter3d"
           }
          ],
          "scattercarpet": [
           {
            "marker": {
             "colorbar": {
              "outlinewidth": 0,
              "ticks": ""
             }
            },
            "type": "scattercarpet"
           }
          ],
          "scattergeo": [
           {
            "marker": {
             "colorbar": {
              "outlinewidth": 0,
              "ticks": ""
             }
            },
            "type": "scattergeo"
           }
          ],
          "scattergl": [
           {
            "marker": {
             "colorbar": {
              "outlinewidth": 0,
              "ticks": ""
             }
            },
            "type": "scattergl"
           }
          ],
          "scattermapbox": [
           {
            "marker": {
             "colorbar": {
              "outlinewidth": 0,
              "ticks": ""
             }
            },
            "type": "scattermapbox"
           }
          ],
          "scatterpolar": [
           {
            "marker": {
             "colorbar": {
              "outlinewidth": 0,
              "ticks": ""
             }
            },
            "type": "scatterpolar"
           }
          ],
          "scatterpolargl": [
           {
            "marker": {
             "colorbar": {
              "outlinewidth": 0,
              "ticks": ""
             }
            },
            "type": "scatterpolargl"
           }
          ],
          "scatterternary": [
           {
            "marker": {
             "colorbar": {
              "outlinewidth": 0,
              "ticks": ""
             }
            },
            "type": "scatterternary"
           }
          ],
          "surface": [
           {
            "colorbar": {
             "outlinewidth": 0,
             "ticks": ""
            },
            "colorscale": [
             [
              0,
              "#0d0887"
             ],
             [
              0.1111111111111111,
              "#46039f"
             ],
             [
              0.2222222222222222,
              "#7201a8"
             ],
             [
              0.3333333333333333,
              "#9c179e"
             ],
             [
              0.4444444444444444,
              "#bd3786"
             ],
             [
              0.5555555555555556,
              "#d8576b"
             ],
             [
              0.6666666666666666,
              "#ed7953"
             ],
             [
              0.7777777777777778,
              "#fb9f3a"
             ],
             [
              0.8888888888888888,
              "#fdca26"
             ],
             [
              1,
              "#f0f921"
             ]
            ],
            "type": "surface"
           }
          ],
          "table": [
           {
            "cells": {
             "fill": {
              "color": "#EBF0F8"
             },
             "line": {
              "color": "white"
             }
            },
            "header": {
             "fill": {
              "color": "#C8D4E3"
             },
             "line": {
              "color": "white"
             }
            },
            "type": "table"
           }
          ]
         },
         "layout": {
          "annotationdefaults": {
           "arrowcolor": "#2a3f5f",
           "arrowhead": 0,
           "arrowwidth": 1
          },
          "autotypenumbers": "strict",
          "coloraxis": {
           "colorbar": {
            "outlinewidth": 0,
            "ticks": ""
           }
          },
          "colorscale": {
           "diverging": [
            [
             0,
             "#8e0152"
            ],
            [
             0.1,
             "#c51b7d"
            ],
            [
             0.2,
             "#de77ae"
            ],
            [
             0.3,
             "#f1b6da"
            ],
            [
             0.4,
             "#fde0ef"
            ],
            [
             0.5,
             "#f7f7f7"
            ],
            [
             0.6,
             "#e6f5d0"
            ],
            [
             0.7,
             "#b8e186"
            ],
            [
             0.8,
             "#7fbc41"
            ],
            [
             0.9,
             "#4d9221"
            ],
            [
             1,
             "#276419"
            ]
           ],
           "sequential": [
            [
             0,
             "#0d0887"
            ],
            [
             0.1111111111111111,
             "#46039f"
            ],
            [
             0.2222222222222222,
             "#7201a8"
            ],
            [
             0.3333333333333333,
             "#9c179e"
            ],
            [
             0.4444444444444444,
             "#bd3786"
            ],
            [
             0.5555555555555556,
             "#d8576b"
            ],
            [
             0.6666666666666666,
             "#ed7953"
            ],
            [
             0.7777777777777778,
             "#fb9f3a"
            ],
            [
             0.8888888888888888,
             "#fdca26"
            ],
            [
             1,
             "#f0f921"
            ]
           ],
           "sequentialminus": [
            [
             0,
             "#0d0887"
            ],
            [
             0.1111111111111111,
             "#46039f"
            ],
            [
             0.2222222222222222,
             "#7201a8"
            ],
            [
             0.3333333333333333,
             "#9c179e"
            ],
            [
             0.4444444444444444,
             "#bd3786"
            ],
            [
             0.5555555555555556,
             "#d8576b"
            ],
            [
             0.6666666666666666,
             "#ed7953"
            ],
            [
             0.7777777777777778,
             "#fb9f3a"
            ],
            [
             0.8888888888888888,
             "#fdca26"
            ],
            [
             1,
             "#f0f921"
            ]
           ]
          },
          "colorway": [
           "#636efa",
           "#EF553B",
           "#00cc96",
           "#ab63fa",
           "#FFA15A",
           "#19d3f3",
           "#FF6692",
           "#B6E880",
           "#FF97FF",
           "#FECB52"
          ],
          "font": {
           "color": "#2a3f5f"
          },
          "geo": {
           "bgcolor": "white",
           "lakecolor": "white",
           "landcolor": "#E5ECF6",
           "showlakes": true,
           "showland": true,
           "subunitcolor": "white"
          },
          "hoverlabel": {
           "align": "left"
          },
          "hovermode": "closest",
          "mapbox": {
           "style": "light"
          },
          "paper_bgcolor": "white",
          "plot_bgcolor": "#E5ECF6",
          "polar": {
           "angularaxis": {
            "gridcolor": "white",
            "linecolor": "white",
            "ticks": ""
           },
           "bgcolor": "#E5ECF6",
           "radialaxis": {
            "gridcolor": "white",
            "linecolor": "white",
            "ticks": ""
           }
          },
          "scene": {
           "xaxis": {
            "backgroundcolor": "#E5ECF6",
            "gridcolor": "white",
            "gridwidth": 2,
            "linecolor": "white",
            "showbackground": true,
            "ticks": "",
            "zerolinecolor": "white"
           },
           "yaxis": {
            "backgroundcolor": "#E5ECF6",
            "gridcolor": "white",
            "gridwidth": 2,
            "linecolor": "white",
            "showbackground": true,
            "ticks": "",
            "zerolinecolor": "white"
           },
           "zaxis": {
            "backgroundcolor": "#E5ECF6",
            "gridcolor": "white",
            "gridwidth": 2,
            "linecolor": "white",
            "showbackground": true,
            "ticks": "",
            "zerolinecolor": "white"
           }
          },
          "shapedefaults": {
           "line": {
            "color": "#2a3f5f"
           }
          },
          "ternary": {
           "aaxis": {
            "gridcolor": "white",
            "linecolor": "white",
            "ticks": ""
           },
           "baxis": {
            "gridcolor": "white",
            "linecolor": "white",
            "ticks": ""
           },
           "bgcolor": "#E5ECF6",
           "caxis": {
            "gridcolor": "white",
            "linecolor": "white",
            "ticks": ""
           }
          },
          "title": {
           "x": 0.05
          },
          "xaxis": {
           "automargin": true,
           "gridcolor": "white",
           "linecolor": "white",
           "ticks": "",
           "title": {
            "standoff": 15
           },
           "zerolinecolor": "white",
           "zerolinewidth": 2
          },
          "yaxis": {
           "automargin": true,
           "gridcolor": "white",
           "linecolor": "white",
           "ticks": "",
           "title": {
            "standoff": 15
           },
           "zerolinecolor": "white",
           "zerolinewidth": 2
          }
         }
        },
        "title": {
         "text": "Performance - Meta 4%",
         "x": 0.5
        },
        "xaxis": {
         "nticks": 31,
         "tickangle": 45,
         "tickmode": "linear",
         "ticktext": [
          1,
          2,
          3,
          4,
          5,
          6,
          7,
          8,
          9,
          10,
          11,
          12,
          13,
          14,
          15,
          16,
          17,
          18,
          19,
          20,
          21,
          22,
          23,
          24,
          25,
          26,
          27,
          28,
          29,
          30,
          31
         ],
         "tickvals": [
          1,
          2,
          3,
          4,
          5,
          6,
          7,
          8,
          9,
          10,
          11,
          12,
          13,
          14,
          15,
          16,
          17,
          18,
          19,
          20,
          21,
          22,
          23,
          24,
          25,
          26,
          27,
          28,
          29,
          30,
          31
         ],
         "title": {
          "text": "Dia"
         }
        },
        "yaxis": {
         "tickangle": 45,
         "tickmode": "linear",
         "title": {
          "text": "Turno"
         }
        }
       }
      }
     },
     "metadata": {},
     "output_type": "display_data"
    }
   ],
   "source": [
    "# HeatMap\n",
    "# cSpell: disable=invalid-name\n",
    "def graph_heatmap_perf_v2(dataframe: pd.DataFrame, meta: int):\n",
    "    # Converter 'data_registro' para datetime e criar uma nova coluna 'data_turno'\n",
    "\n",
    "    dataframe[\"data_registro\"] = pd.to_datetime(dataframe[\"data_registro\"])\n",
    "\n",
    "    dataframe[\"data_turno\"] = dataframe[\"data_registro\"].dt.strftime(\"%Y-%m-%d\")\n",
    "\n",
    "    # Agrupar por 'data_turno' e 'turno' e calcular a média da eficiência\n",
    "\n",
    "    df_grouped = (\n",
    "        dataframe.groupby([\"data_turno\", \"turno\"], observed=False)[\"performance\"]\n",
    "        .mean()\n",
    "        .reset_index()\n",
    "    )\n",
    "\n",
    "    # Remodelar os dados para o formato de heatmap\n",
    "\n",
    "    df_pivot = df_grouped.pivot(index=\"turno\", columns=\"data_turno\", values=\"performance\")\n",
    "\n",
    "    # Reordenar o índice do DataFrame\n",
    "    df_pivot = df_pivot.reindex([\"VES\", \"MAT\", \"NOT\"])\n",
    "\n",
    "    # Criar escala de cores personalizada\n",
    "    colors = [[0, \"green\"], [0.04, \"green\"], [0.04, \"red\"], [1, \"red\"]]\n",
    "\n",
    "    # Extrair apenas o dia da data\n",
    "    df_pivot.columns = pd.to_datetime(df_pivot.columns).day\n",
    "\n",
    "    # Criar o gráfico de calor\n",
    "    fig = go.Figure(\n",
    "        data=go.Heatmap(\n",
    "            z=df_pivot.values,\n",
    "            x=df_pivot.columns,\n",
    "            y=df_pivot.index,\n",
    "            colorscale=colors,\n",
    "            zmin=0,\n",
    "            zmax=1,  # Escala de valores de 0 a 1\n",
    "            hoverongaps=False,\n",
    "            hovertemplate=\"Turno: %{y}<br>Dia: %{x}<br>Valor: %{z:.1%}\",\n",
    "            showscale=False,  # Não mostrar a escala de cores\n",
    "            xgap=1,  # Espaçamento entre os dias\n",
    "            ygap=1,  # Espaçamento entre os turnos\n",
    "        )\n",
    "    )\n",
    "\n",
    "    # Adicionar anotações com a média da eficiência\n",
    "    for (i, j), value in np.ndenumerate(df_pivot.values):\n",
    "        fig.add_annotation(\n",
    "            x=df_pivot.columns[j],\n",
    "            y=df_pivot.index[i],\n",
    "            text=f\"{value:.1%}\",\n",
    "            showarrow=False,\n",
    "            font=dict(color=\"white\", size=8),\n",
    "        )\n",
    "\n",
    "    # Definir o título do gráfico\n",
    "    fig.update_layout(\n",
    "        title=f\"Performance - Meta {meta}%\",\n",
    "        xaxis_title=\"Dia\",\n",
    "        yaxis_title=\"Turno\",\n",
    "        title_x=0.5,  # Centralizar o título\n",
    "        xaxis_nticks=31,  # Definir o número de dias\n",
    "        xaxis=dict(\n",
    "            tickmode=\"linear\",\n",
    "            tickvals=list(range(1, 32)),  # Definir os dias\n",
    "            ticktext=list(range(1, 32)),  # Definir os dias\n",
    "            tickangle=45,  # Rotacionar os dias\n",
    "        ),\n",
    "        yaxis=dict(\n",
    "            tickmode=\"linear\",\n",
    "            tickangle=45,\n",
    "        ),\n",
    "        plot_bgcolor=\"white\",\n",
    "        margin=dict(t=40, b=40, l=40, r=40),\n",
    "        font=dict({\"family\": \"Inter\"}),\n",
    "    )\n",
    "\n",
    "    fig.show()\n",
    "\n",
    "\n",
    "graph_heatmap_perf_v2(df_perf, 4)"
   ]
  },
  {
   "cell_type": "code",
   "execution_count": null,
   "metadata": {},
   "outputs": [
    {
     "data": {
      "application/vnd.plotly.v1+json": {
       "config": {
        "plotlyServerURL": "https://plot.ly"
       },
       "data": [
        {
         "colorscale": [
          [
           0,
           "green"
          ],
          [
           0.04,
           "green"
          ],
          [
           0.04,
           "red"
          ],
          [
           1,
           "red"
          ]
         ],
         "hoverongaps": false,
         "hovertemplate": "Turno: %{y}<br>Dia: %{x}<br>Valor: %{z:.1%}",
         "showscale": false,
         "type": "heatmap",
         "x": [
          1,
          2,
          3,
          4,
          5,
          6,
          7,
          8,
          9,
          10,
          11,
          12,
          13,
          14,
          15,
          16,
          17,
          18,
          19,
          20,
          21,
          22,
          23,
          24
         ],
         "xgap": 1,
         "y": [
          "VES",
          "MAT",
          "NOT"
         ],
         "ygap": 1,
         "z": [
          [
           0,
           0,
           null,
           null,
           0.035227272727272725,
           0.003472222222222222,
           0.025347222222222226,
           0.002272727272727273,
           0.0026515151515151517,
           0,
           null,
           null,
           0,
           0,
           0,
           0,
           0,
           0,
           0,
           0.047348484848484855,
           0,
           0.0037878787878787876,
           0,
           null
          ],
          [
           0,
           null,
           null,
           null,
           0.024791666666666667,
           0.004583333333333333,
           0,
           0,
           0,
           0.01628787878787879,
           null,
           null,
           null,
           0,
           0,
           0.0012499999999999998,
           0.003409090909090909,
           null,
           0.004166666666666667,
           0.09291666666666666,
           0.028787878787878786,
           0.15541666666666668,
           0.006597222222222222,
           0
          ],
          [
           0.0006944444444444445,
           null,
           null,
           null,
           0.017424242424242425,
           0.019444444444444445,
           0.02727272727272727,
           0,
           0.017361111111111112,
           0.0030303030303030303,
           null,
           null,
           0,
           0.07083333333333333,
           0.019583333333333335,
           0.0008333333333333333,
           0.0037878787878787876,
           null,
           0.08506944444444443,
           0.07881944444444444,
           0.0003787878787878788,
           0.003333333333333333,
           0,
           0
          ]
         ],
         "zmax": 1,
         "zmin": 0
        }
       ],
       "layout": {
        "annotations": [
         {
          "font": {
           "color": "white",
           "size": 8
          },
          "showarrow": false,
          "text": "0.0%",
          "x": 1,
          "y": "VES"
         },
         {
          "font": {
           "color": "white",
           "size": 8
          },
          "showarrow": false,
          "text": "0.0%",
          "x": 2,
          "y": "VES"
         },
         {
          "font": {
           "color": "white",
           "size": 8
          },
          "showarrow": false,
          "text": "nan%",
          "x": 3,
          "y": "VES"
         },
         {
          "font": {
           "color": "white",
           "size": 8
          },
          "showarrow": false,
          "text": "nan%",
          "x": 4,
          "y": "VES"
         },
         {
          "font": {
           "color": "white",
           "size": 8
          },
          "showarrow": false,
          "text": "3.5%",
          "x": 5,
          "y": "VES"
         },
         {
          "font": {
           "color": "white",
           "size": 8
          },
          "showarrow": false,
          "text": "0.3%",
          "x": 6,
          "y": "VES"
         },
         {
          "font": {
           "color": "white",
           "size": 8
          },
          "showarrow": false,
          "text": "2.5%",
          "x": 7,
          "y": "VES"
         },
         {
          "font": {
           "color": "white",
           "size": 8
          },
          "showarrow": false,
          "text": "0.2%",
          "x": 8,
          "y": "VES"
         },
         {
          "font": {
           "color": "white",
           "size": 8
          },
          "showarrow": false,
          "text": "0.3%",
          "x": 9,
          "y": "VES"
         },
         {
          "font": {
           "color": "white",
           "size": 8
          },
          "showarrow": false,
          "text": "0.0%",
          "x": 10,
          "y": "VES"
         },
         {
          "font": {
           "color": "white",
           "size": 8
          },
          "showarrow": false,
          "text": "nan%",
          "x": 11,
          "y": "VES"
         },
         {
          "font": {
           "color": "white",
           "size": 8
          },
          "showarrow": false,
          "text": "nan%",
          "x": 12,
          "y": "VES"
         },
         {
          "font": {
           "color": "white",
           "size": 8
          },
          "showarrow": false,
          "text": "0.0%",
          "x": 13,
          "y": "VES"
         },
         {
          "font": {
           "color": "white",
           "size": 8
          },
          "showarrow": false,
          "text": "0.0%",
          "x": 14,
          "y": "VES"
         },
         {
          "font": {
           "color": "white",
           "size": 8
          },
          "showarrow": false,
          "text": "0.0%",
          "x": 15,
          "y": "VES"
         },
         {
          "font": {
           "color": "white",
           "size": 8
          },
          "showarrow": false,
          "text": "0.0%",
          "x": 16,
          "y": "VES"
         },
         {
          "font": {
           "color": "white",
           "size": 8
          },
          "showarrow": false,
          "text": "0.0%",
          "x": 17,
          "y": "VES"
         },
         {
          "font": {
           "color": "white",
           "size": 8
          },
          "showarrow": false,
          "text": "0.0%",
          "x": 18,
          "y": "VES"
         },
         {
          "font": {
           "color": "white",
           "size": 8
          },
          "showarrow": false,
          "text": "0.0%",
          "x": 19,
          "y": "VES"
         },
         {
          "font": {
           "color": "white",
           "size": 8
          },
          "showarrow": false,
          "text": "4.7%",
          "x": 20,
          "y": "VES"
         },
         {
          "font": {
           "color": "white",
           "size": 8
          },
          "showarrow": false,
          "text": "0.0%",
          "x": 21,
          "y": "VES"
         },
         {
          "font": {
           "color": "white",
           "size": 8
          },
          "showarrow": false,
          "text": "0.4%",
          "x": 22,
          "y": "VES"
         },
         {
          "font": {
           "color": "white",
           "size": 8
          },
          "showarrow": false,
          "text": "0.0%",
          "x": 23,
          "y": "VES"
         },
         {
          "font": {
           "color": "white",
           "size": 8
          },
          "showarrow": false,
          "text": "nan%",
          "x": 24,
          "y": "VES"
         },
         {
          "font": {
           "color": "white",
           "size": 8
          },
          "showarrow": false,
          "text": "0.0%",
          "x": 1,
          "y": "MAT"
         },
         {
          "font": {
           "color": "white",
           "size": 8
          },
          "showarrow": false,
          "text": "nan%",
          "x": 2,
          "y": "MAT"
         },
         {
          "font": {
           "color": "white",
           "size": 8
          },
          "showarrow": false,
          "text": "nan%",
          "x": 3,
          "y": "MAT"
         },
         {
          "font": {
           "color": "white",
           "size": 8
          },
          "showarrow": false,
          "text": "nan%",
          "x": 4,
          "y": "MAT"
         },
         {
          "font": {
           "color": "white",
           "size": 8
          },
          "showarrow": false,
          "text": "2.5%",
          "x": 5,
          "y": "MAT"
         },
         {
          "font": {
           "color": "white",
           "size": 8
          },
          "showarrow": false,
          "text": "0.5%",
          "x": 6,
          "y": "MAT"
         },
         {
          "font": {
           "color": "white",
           "size": 8
          },
          "showarrow": false,
          "text": "0.0%",
          "x": 7,
          "y": "MAT"
         },
         {
          "font": {
           "color": "white",
           "size": 8
          },
          "showarrow": false,
          "text": "0.0%",
          "x": 8,
          "y": "MAT"
         },
         {
          "font": {
           "color": "white",
           "size": 8
          },
          "showarrow": false,
          "text": "0.0%",
          "x": 9,
          "y": "MAT"
         },
         {
          "font": {
           "color": "white",
           "size": 8
          },
          "showarrow": false,
          "text": "1.6%",
          "x": 10,
          "y": "MAT"
         },
         {
          "font": {
           "color": "white",
           "size": 8
          },
          "showarrow": false,
          "text": "nan%",
          "x": 11,
          "y": "MAT"
         },
         {
          "font": {
           "color": "white",
           "size": 8
          },
          "showarrow": false,
          "text": "nan%",
          "x": 12,
          "y": "MAT"
         },
         {
          "font": {
           "color": "white",
           "size": 8
          },
          "showarrow": false,
          "text": "nan%",
          "x": 13,
          "y": "MAT"
         },
         {
          "font": {
           "color": "white",
           "size": 8
          },
          "showarrow": false,
          "text": "0.0%",
          "x": 14,
          "y": "MAT"
         },
         {
          "font": {
           "color": "white",
           "size": 8
          },
          "showarrow": false,
          "text": "0.0%",
          "x": 15,
          "y": "MAT"
         },
         {
          "font": {
           "color": "white",
           "size": 8
          },
          "showarrow": false,
          "text": "0.1%",
          "x": 16,
          "y": "MAT"
         },
         {
          "font": {
           "color": "white",
           "size": 8
          },
          "showarrow": false,
          "text": "0.3%",
          "x": 17,
          "y": "MAT"
         },
         {
          "font": {
           "color": "white",
           "size": 8
          },
          "showarrow": false,
          "text": "nan%",
          "x": 18,
          "y": "MAT"
         },
         {
          "font": {
           "color": "white",
           "size": 8
          },
          "showarrow": false,
          "text": "0.4%",
          "x": 19,
          "y": "MAT"
         },
         {
          "font": {
           "color": "white",
           "size": 8
          },
          "showarrow": false,
          "text": "9.3%",
          "x": 20,
          "y": "MAT"
         },
         {
          "font": {
           "color": "white",
           "size": 8
          },
          "showarrow": false,
          "text": "2.9%",
          "x": 21,
          "y": "MAT"
         },
         {
          "font": {
           "color": "white",
           "size": 8
          },
          "showarrow": false,
          "text": "15.5%",
          "x": 22,
          "y": "MAT"
         },
         {
          "font": {
           "color": "white",
           "size": 8
          },
          "showarrow": false,
          "text": "0.7%",
          "x": 23,
          "y": "MAT"
         },
         {
          "font": {
           "color": "white",
           "size": 8
          },
          "showarrow": false,
          "text": "0.0%",
          "x": 24,
          "y": "MAT"
         },
         {
          "font": {
           "color": "white",
           "size": 8
          },
          "showarrow": false,
          "text": "0.1%",
          "x": 1,
          "y": "NOT"
         },
         {
          "font": {
           "color": "white",
           "size": 8
          },
          "showarrow": false,
          "text": "nan%",
          "x": 2,
          "y": "NOT"
         },
         {
          "font": {
           "color": "white",
           "size": 8
          },
          "showarrow": false,
          "text": "nan%",
          "x": 3,
          "y": "NOT"
         },
         {
          "font": {
           "color": "white",
           "size": 8
          },
          "showarrow": false,
          "text": "nan%",
          "x": 4,
          "y": "NOT"
         },
         {
          "font": {
           "color": "white",
           "size": 8
          },
          "showarrow": false,
          "text": "1.7%",
          "x": 5,
          "y": "NOT"
         },
         {
          "font": {
           "color": "white",
           "size": 8
          },
          "showarrow": false,
          "text": "1.9%",
          "x": 6,
          "y": "NOT"
         },
         {
          "font": {
           "color": "white",
           "size": 8
          },
          "showarrow": false,
          "text": "2.7%",
          "x": 7,
          "y": "NOT"
         },
         {
          "font": {
           "color": "white",
           "size": 8
          },
          "showarrow": false,
          "text": "0.0%",
          "x": 8,
          "y": "NOT"
         },
         {
          "font": {
           "color": "white",
           "size": 8
          },
          "showarrow": false,
          "text": "1.7%",
          "x": 9,
          "y": "NOT"
         },
         {
          "font": {
           "color": "white",
           "size": 8
          },
          "showarrow": false,
          "text": "0.3%",
          "x": 10,
          "y": "NOT"
         },
         {
          "font": {
           "color": "white",
           "size": 8
          },
          "showarrow": false,
          "text": "nan%",
          "x": 11,
          "y": "NOT"
         },
         {
          "font": {
           "color": "white",
           "size": 8
          },
          "showarrow": false,
          "text": "nan%",
          "x": 12,
          "y": "NOT"
         },
         {
          "font": {
           "color": "white",
           "size": 8
          },
          "showarrow": false,
          "text": "0.0%",
          "x": 13,
          "y": "NOT"
         },
         {
          "font": {
           "color": "white",
           "size": 8
          },
          "showarrow": false,
          "text": "7.1%",
          "x": 14,
          "y": "NOT"
         },
         {
          "font": {
           "color": "white",
           "size": 8
          },
          "showarrow": false,
          "text": "2.0%",
          "x": 15,
          "y": "NOT"
         },
         {
          "font": {
           "color": "white",
           "size": 8
          },
          "showarrow": false,
          "text": "0.1%",
          "x": 16,
          "y": "NOT"
         },
         {
          "font": {
           "color": "white",
           "size": 8
          },
          "showarrow": false,
          "text": "0.4%",
          "x": 17,
          "y": "NOT"
         },
         {
          "font": {
           "color": "white",
           "size": 8
          },
          "showarrow": false,
          "text": "nan%",
          "x": 18,
          "y": "NOT"
         },
         {
          "font": {
           "color": "white",
           "size": 8
          },
          "showarrow": false,
          "text": "8.5%",
          "x": 19,
          "y": "NOT"
         },
         {
          "font": {
           "color": "white",
           "size": 8
          },
          "showarrow": false,
          "text": "7.9%",
          "x": 20,
          "y": "NOT"
         },
         {
          "font": {
           "color": "white",
           "size": 8
          },
          "showarrow": false,
          "text": "0.0%",
          "x": 21,
          "y": "NOT"
         },
         {
          "font": {
           "color": "white",
           "size": 8
          },
          "showarrow": false,
          "text": "0.3%",
          "x": 22,
          "y": "NOT"
         },
         {
          "font": {
           "color": "white",
           "size": 8
          },
          "showarrow": false,
          "text": "0.0%",
          "x": 23,
          "y": "NOT"
         },
         {
          "font": {
           "color": "white",
           "size": 8
          },
          "showarrow": false,
          "text": "0.0%",
          "x": 24,
          "y": "NOT"
         }
        ],
        "margin": {
         "b": 40,
         "l": 40,
         "r": 40,
         "t": 40
        },
        "plot_bgcolor": "white",
        "template": {
         "data": {
          "bar": [
           {
            "error_x": {
             "color": "#2a3f5f"
            },
            "error_y": {
             "color": "#2a3f5f"
            },
            "marker": {
             "line": {
              "color": "#E5ECF6",
              "width": 0.5
             },
             "pattern": {
              "fillmode": "overlay",
              "size": 10,
              "solidity": 0.2
             }
            },
            "type": "bar"
           }
          ],
          "barpolar": [
           {
            "marker": {
             "line": {
              "color": "#E5ECF6",
              "width": 0.5
             },
             "pattern": {
              "fillmode": "overlay",
              "size": 10,
              "solidity": 0.2
             }
            },
            "type": "barpolar"
           }
          ],
          "carpet": [
           {
            "aaxis": {
             "endlinecolor": "#2a3f5f",
             "gridcolor": "white",
             "linecolor": "white",
             "minorgridcolor": "white",
             "startlinecolor": "#2a3f5f"
            },
            "baxis": {
             "endlinecolor": "#2a3f5f",
             "gridcolor": "white",
             "linecolor": "white",
             "minorgridcolor": "white",
             "startlinecolor": "#2a3f5f"
            },
            "type": "carpet"
           }
          ],
          "choropleth": [
           {
            "colorbar": {
             "outlinewidth": 0,
             "ticks": ""
            },
            "type": "choropleth"
           }
          ],
          "contour": [
           {
            "colorbar": {
             "outlinewidth": 0,
             "ticks": ""
            },
            "colorscale": [
             [
              0,
              "#0d0887"
             ],
             [
              0.1111111111111111,
              "#46039f"
             ],
             [
              0.2222222222222222,
              "#7201a8"
             ],
             [
              0.3333333333333333,
              "#9c179e"
             ],
             [
              0.4444444444444444,
              "#bd3786"
             ],
             [
              0.5555555555555556,
              "#d8576b"
             ],
             [
              0.6666666666666666,
              "#ed7953"
             ],
             [
              0.7777777777777778,
              "#fb9f3a"
             ],
             [
              0.8888888888888888,
              "#fdca26"
             ],
             [
              1,
              "#f0f921"
             ]
            ],
            "type": "contour"
           }
          ],
          "contourcarpet": [
           {
            "colorbar": {
             "outlinewidth": 0,
             "ticks": ""
            },
            "type": "contourcarpet"
           }
          ],
          "heatmap": [
           {
            "colorbar": {
             "outlinewidth": 0,
             "ticks": ""
            },
            "colorscale": [
             [
              0,
              "#0d0887"
             ],
             [
              0.1111111111111111,
              "#46039f"
             ],
             [
              0.2222222222222222,
              "#7201a8"
             ],
             [
              0.3333333333333333,
              "#9c179e"
             ],
             [
              0.4444444444444444,
              "#bd3786"
             ],
             [
              0.5555555555555556,
              "#d8576b"
             ],
             [
              0.6666666666666666,
              "#ed7953"
             ],
             [
              0.7777777777777778,
              "#fb9f3a"
             ],
             [
              0.8888888888888888,
              "#fdca26"
             ],
             [
              1,
              "#f0f921"
             ]
            ],
            "type": "heatmap"
           }
          ],
          "heatmapgl": [
           {
            "colorbar": {
             "outlinewidth": 0,
             "ticks": ""
            },
            "colorscale": [
             [
              0,
              "#0d0887"
             ],
             [
              0.1111111111111111,
              "#46039f"
             ],
             [
              0.2222222222222222,
              "#7201a8"
             ],
             [
              0.3333333333333333,
              "#9c179e"
             ],
             [
              0.4444444444444444,
              "#bd3786"
             ],
             [
              0.5555555555555556,
              "#d8576b"
             ],
             [
              0.6666666666666666,
              "#ed7953"
             ],
             [
              0.7777777777777778,
              "#fb9f3a"
             ],
             [
              0.8888888888888888,
              "#fdca26"
             ],
             [
              1,
              "#f0f921"
             ]
            ],
            "type": "heatmapgl"
           }
          ],
          "histogram": [
           {
            "marker": {
             "pattern": {
              "fillmode": "overlay",
              "size": 10,
              "solidity": 0.2
             }
            },
            "type": "histogram"
           }
          ],
          "histogram2d": [
           {
            "colorbar": {
             "outlinewidth": 0,
             "ticks": ""
            },
            "colorscale": [
             [
              0,
              "#0d0887"
             ],
             [
              0.1111111111111111,
              "#46039f"
             ],
             [
              0.2222222222222222,
              "#7201a8"
             ],
             [
              0.3333333333333333,
              "#9c179e"
             ],
             [
              0.4444444444444444,
              "#bd3786"
             ],
             [
              0.5555555555555556,
              "#d8576b"
             ],
             [
              0.6666666666666666,
              "#ed7953"
             ],
             [
              0.7777777777777778,
              "#fb9f3a"
             ],
             [
              0.8888888888888888,
              "#fdca26"
             ],
             [
              1,
              "#f0f921"
             ]
            ],
            "type": "histogram2d"
           }
          ],
          "histogram2dcontour": [
           {
            "colorbar": {
             "outlinewidth": 0,
             "ticks": ""
            },
            "colorscale": [
             [
              0,
              "#0d0887"
             ],
             [
              0.1111111111111111,
              "#46039f"
             ],
             [
              0.2222222222222222,
              "#7201a8"
             ],
             [
              0.3333333333333333,
              "#9c179e"
             ],
             [
              0.4444444444444444,
              "#bd3786"
             ],
             [
              0.5555555555555556,
              "#d8576b"
             ],
             [
              0.6666666666666666,
              "#ed7953"
             ],
             [
              0.7777777777777778,
              "#fb9f3a"
             ],
             [
              0.8888888888888888,
              "#fdca26"
             ],
             [
              1,
              "#f0f921"
             ]
            ],
            "type": "histogram2dcontour"
           }
          ],
          "mesh3d": [
           {
            "colorbar": {
             "outlinewidth": 0,
             "ticks": ""
            },
            "type": "mesh3d"
           }
          ],
          "parcoords": [
           {
            "line": {
             "colorbar": {
              "outlinewidth": 0,
              "ticks": ""
             }
            },
            "type": "parcoords"
           }
          ],
          "pie": [
           {
            "automargin": true,
            "type": "pie"
           }
          ],
          "scatter": [
           {
            "fillpattern": {
             "fillmode": "overlay",
             "size": 10,
             "solidity": 0.2
            },
            "type": "scatter"
           }
          ],
          "scatter3d": [
           {
            "line": {
             "colorbar": {
              "outlinewidth": 0,
              "ticks": ""
             }
            },
            "marker": {
             "colorbar": {
              "outlinewidth": 0,
              "ticks": ""
             }
            },
            "type": "scatter3d"
           }
          ],
          "scattercarpet": [
           {
            "marker": {
             "colorbar": {
              "outlinewidth": 0,
              "ticks": ""
             }
            },
            "type": "scattercarpet"
           }
          ],
          "scattergeo": [
           {
            "marker": {
             "colorbar": {
              "outlinewidth": 0,
              "ticks": ""
             }
            },
            "type": "scattergeo"
           }
          ],
          "scattergl": [
           {
            "marker": {
             "colorbar": {
              "outlinewidth": 0,
              "ticks": ""
             }
            },
            "type": "scattergl"
           }
          ],
          "scattermapbox": [
           {
            "marker": {
             "colorbar": {
              "outlinewidth": 0,
              "ticks": ""
             }
            },
            "type": "scattermapbox"
           }
          ],
          "scatterpolar": [
           {
            "marker": {
             "colorbar": {
              "outlinewidth": 0,
              "ticks": ""
             }
            },
            "type": "scatterpolar"
           }
          ],
          "scatterpolargl": [
           {
            "marker": {
             "colorbar": {
              "outlinewidth": 0,
              "ticks": ""
             }
            },
            "type": "scatterpolargl"
           }
          ],
          "scatterternary": [
           {
            "marker": {
             "colorbar": {
              "outlinewidth": 0,
              "ticks": ""
             }
            },
            "type": "scatterternary"
           }
          ],
          "surface": [
           {
            "colorbar": {
             "outlinewidth": 0,
             "ticks": ""
            },
            "colorscale": [
             [
              0,
              "#0d0887"
             ],
             [
              0.1111111111111111,
              "#46039f"
             ],
             [
              0.2222222222222222,
              "#7201a8"
             ],
             [
              0.3333333333333333,
              "#9c179e"
             ],
             [
              0.4444444444444444,
              "#bd3786"
             ],
             [
              0.5555555555555556,
              "#d8576b"
             ],
             [
              0.6666666666666666,
              "#ed7953"
             ],
             [
              0.7777777777777778,
              "#fb9f3a"
             ],
             [
              0.8888888888888888,
              "#fdca26"
             ],
             [
              1,
              "#f0f921"
             ]
            ],
            "type": "surface"
           }
          ],
          "table": [
           {
            "cells": {
             "fill": {
              "color": "#EBF0F8"
             },
             "line": {
              "color": "white"
             }
            },
            "header": {
             "fill": {
              "color": "#C8D4E3"
             },
             "line": {
              "color": "white"
             }
            },
            "type": "table"
           }
          ]
         },
         "layout": {
          "annotationdefaults": {
           "arrowcolor": "#2a3f5f",
           "arrowhead": 0,
           "arrowwidth": 1
          },
          "autotypenumbers": "strict",
          "coloraxis": {
           "colorbar": {
            "outlinewidth": 0,
            "ticks": ""
           }
          },
          "colorscale": {
           "diverging": [
            [
             0,
             "#8e0152"
            ],
            [
             0.1,
             "#c51b7d"
            ],
            [
             0.2,
             "#de77ae"
            ],
            [
             0.3,
             "#f1b6da"
            ],
            [
             0.4,
             "#fde0ef"
            ],
            [
             0.5,
             "#f7f7f7"
            ],
            [
             0.6,
             "#e6f5d0"
            ],
            [
             0.7,
             "#b8e186"
            ],
            [
             0.8,
             "#7fbc41"
            ],
            [
             0.9,
             "#4d9221"
            ],
            [
             1,
             "#276419"
            ]
           ],
           "sequential": [
            [
             0,
             "#0d0887"
            ],
            [
             0.1111111111111111,
             "#46039f"
            ],
            [
             0.2222222222222222,
             "#7201a8"
            ],
            [
             0.3333333333333333,
             "#9c179e"
            ],
            [
             0.4444444444444444,
             "#bd3786"
            ],
            [
             0.5555555555555556,
             "#d8576b"
            ],
            [
             0.6666666666666666,
             "#ed7953"
            ],
            [
             0.7777777777777778,
             "#fb9f3a"
            ],
            [
             0.8888888888888888,
             "#fdca26"
            ],
            [
             1,
             "#f0f921"
            ]
           ],
           "sequentialminus": [
            [
             0,
             "#0d0887"
            ],
            [
             0.1111111111111111,
             "#46039f"
            ],
            [
             0.2222222222222222,
             "#7201a8"
            ],
            [
             0.3333333333333333,
             "#9c179e"
            ],
            [
             0.4444444444444444,
             "#bd3786"
            ],
            [
             0.5555555555555556,
             "#d8576b"
            ],
            [
             0.6666666666666666,
             "#ed7953"
            ],
            [
             0.7777777777777778,
             "#fb9f3a"
            ],
            [
             0.8888888888888888,
             "#fdca26"
            ],
            [
             1,
             "#f0f921"
            ]
           ]
          },
          "colorway": [
           "#636efa",
           "#EF553B",
           "#00cc96",
           "#ab63fa",
           "#FFA15A",
           "#19d3f3",
           "#FF6692",
           "#B6E880",
           "#FF97FF",
           "#FECB52"
          ],
          "font": {
           "color": "#2a3f5f"
          },
          "geo": {
           "bgcolor": "white",
           "lakecolor": "white",
           "landcolor": "#E5ECF6",
           "showlakes": true,
           "showland": true,
           "subunitcolor": "white"
          },
          "hoverlabel": {
           "align": "left"
          },
          "hovermode": "closest",
          "mapbox": {
           "style": "light"
          },
          "paper_bgcolor": "white",
          "plot_bgcolor": "#E5ECF6",
          "polar": {
           "angularaxis": {
            "gridcolor": "white",
            "linecolor": "white",
            "ticks": ""
           },
           "bgcolor": "#E5ECF6",
           "radialaxis": {
            "gridcolor": "white",
            "linecolor": "white",
            "ticks": ""
           }
          },
          "scene": {
           "xaxis": {
            "backgroundcolor": "#E5ECF6",
            "gridcolor": "white",
            "gridwidth": 2,
            "linecolor": "white",
            "showbackground": true,
            "ticks": "",
            "zerolinecolor": "white"
           },
           "yaxis": {
            "backgroundcolor": "#E5ECF6",
            "gridcolor": "white",
            "gridwidth": 2,
            "linecolor": "white",
            "showbackground": true,
            "ticks": "",
            "zerolinecolor": "white"
           },
           "zaxis": {
            "backgroundcolor": "#E5ECF6",
            "gridcolor": "white",
            "gridwidth": 2,
            "linecolor": "white",
            "showbackground": true,
            "ticks": "",
            "zerolinecolor": "white"
           }
          },
          "shapedefaults": {
           "line": {
            "color": "#2a3f5f"
           }
          },
          "ternary": {
           "aaxis": {
            "gridcolor": "white",
            "linecolor": "white",
            "ticks": ""
           },
           "baxis": {
            "gridcolor": "white",
            "linecolor": "white",
            "ticks": ""
           },
           "bgcolor": "#E5ECF6",
           "caxis": {
            "gridcolor": "white",
            "linecolor": "white",
            "ticks": ""
           }
          },
          "title": {
           "x": 0.05
          },
          "xaxis": {
           "automargin": true,
           "gridcolor": "white",
           "linecolor": "white",
           "ticks": "",
           "title": {
            "standoff": 15
           },
           "zerolinecolor": "white",
           "zerolinewidth": 2
          },
          "yaxis": {
           "automargin": true,
           "gridcolor": "white",
           "linecolor": "white",
           "ticks": "",
           "title": {
            "standoff": 15
           },
           "zerolinecolor": "white",
           "zerolinewidth": 2
          }
         }
        },
        "title": {
         "text": "Reparos - Meta 4%",
         "x": 0.5
        },
        "xaxis": {
         "nticks": 31,
         "tickangle": 45,
         "tickmode": "linear",
         "ticktext": [
          1,
          2,
          3,
          4,
          5,
          6,
          7,
          8,
          9,
          10,
          11,
          12,
          13,
          14,
          15,
          16,
          17,
          18,
          19,
          20,
          21,
          22,
          23,
          24,
          25,
          26,
          27,
          28,
          29,
          30,
          31
         ],
         "tickvals": [
          1,
          2,
          3,
          4,
          5,
          6,
          7,
          8,
          9,
          10,
          11,
          12,
          13,
          14,
          15,
          16,
          17,
          18,
          19,
          20,
          21,
          22,
          23,
          24,
          25,
          26,
          27,
          28,
          29,
          30,
          31
         ],
         "title": {
          "text": "Dia"
         }
        },
        "yaxis": {
         "tickangle": 45,
         "tickmode": "linear",
         "title": {
          "text": "Turno"
         }
        }
       }
      }
     },
     "metadata": {},
     "output_type": "display_data"
    }
   ],
   "source": [
    "# HeatMap\n",
    "# cSpell: disable=invalid-name\n",
    "def graph_heatmap_reparos(dataframe: pd.DataFrame, meta: int):\n",
    "    # Converter 'data_registro' para datetime e criar uma nova coluna 'data_turno'\n",
    "\n",
    "    dataframe[\"data_registro\"] = pd.to_datetime(dataframe[\"data_registro\"])\n",
    "\n",
    "    dataframe[\"data_turno\"] = dataframe[\"data_registro\"].dt.strftime(\"%Y-%m-%d\")\n",
    "\n",
    "    # Agrupar por 'data_turno' e 'turno' e calcular a média da eficiência\n",
    "\n",
    "    df_grouped = (\n",
    "        dataframe.groupby([\"data_turno\", \"turno\"], observed=False)[\"reparo\"].mean().reset_index()\n",
    "    )\n",
    "\n",
    "    # Remodelar os dados para o formato de heatmap\n",
    "\n",
    "    df_pivot = df_grouped.pivot(index=\"turno\", columns=\"data_turno\", values=\"reparo\")\n",
    "\n",
    "    # Reordenar o índice do DataFrame\n",
    "    df_pivot = df_pivot.reindex([\"VES\", \"MAT\", \"NOT\"])\n",
    "\n",
    "    # Criar escala de cores personalizada\n",
    "    colors = [[0, \"green\"], [0.04, \"green\"], [0.04, \"red\"], [1, \"red\"]]\n",
    "\n",
    "    # Extrair apenas o dia da data\n",
    "    df_pivot.columns = pd.to_datetime(df_pivot.columns).day\n",
    "\n",
    "    # Criar o gráfico de calor\n",
    "    fig = go.Figure(\n",
    "        data=go.Heatmap(\n",
    "            z=df_pivot.values,\n",
    "            x=df_pivot.columns,\n",
    "            y=df_pivot.index,\n",
    "            colorscale=colors,\n",
    "            zmin=0,\n",
    "            zmax=1,  # Escala de valores de 0 a 1\n",
    "            hoverongaps=False,\n",
    "            hovertemplate=\"Turno: %{y}<br>Dia: %{x}<br>Valor: %{z:.1%}\",\n",
    "            showscale=False,  # Não mostrar a escala de cores\n",
    "            xgap=1,  # Espaçamento entre os dias\n",
    "            ygap=1,  # Espaçamento entre os turnos\n",
    "        )\n",
    "    )\n",
    "\n",
    "    # Adicionar anotações com a média da eficiência\n",
    "    for (i, j), value in np.ndenumerate(df_pivot.values):\n",
    "        fig.add_annotation(\n",
    "            x=df_pivot.columns[j],\n",
    "            y=df_pivot.index[i],\n",
    "            text=f\"{value:.1%}\",\n",
    "            showarrow=False,\n",
    "            font=dict(color=\"white\", size=8),\n",
    "        )\n",
    "\n",
    "    # Definir o título do gráfico\n",
    "    fig.update_layout(\n",
    "        title=f\"Reparos - Meta {meta}%\",\n",
    "        xaxis_title=\"Dia\",\n",
    "        yaxis_title=\"Turno\",\n",
    "        title_x=0.5,  # Centralizar o título\n",
    "        xaxis_nticks=31,  # Definir o número de dias\n",
    "        xaxis=dict(\n",
    "            tickmode=\"linear\",\n",
    "            tickvals=list(range(1, 32)),  # Definir os dias\n",
    "            ticktext=list(range(1, 32)),  # Definir os dias\n",
    "            tickangle=45,  # Rotacionar os dias\n",
    "        ),\n",
    "        yaxis=dict(\n",
    "            tickmode=\"linear\",\n",
    "            tickangle=45,\n",
    "        ),\n",
    "        plot_bgcolor=\"white\",\n",
    "        margin=dict(t=40, b=40, l=40, r=40),\n",
    "    )\n",
    "\n",
    "    fig.show()\n",
    "\n",
    "\n",
    "reparos_map = graph_heatmap_reparos(df_reparos, 4)"
   ]
  },
  {
   "cell_type": "code",
   "execution_count": null,
   "metadata": {},
   "outputs": [],
   "source": [
    "# Gauge Chart\n",
    "# cSpell: disable=invalid-name\n",
    "\n",
    "\n",
    "def calculate_eficiencia(df):\n",
    "    return df[\"eficiencia\"].mean()\n",
    "\n",
    "\n",
    "def calculate_performance(df):\n",
    "    return df[\"performance\"].mean()\n",
    "\n",
    "\n",
    "def calculate_reparos(df):\n",
    "    return df[\"reparo\"].mean()\n",
    "\n",
    "\n",
    "def draw_circular_progress_bar_v2(df: pd.DataFrame, type: str, meta: int):\n",
    "    # mapear o tipo das funções\n",
    "    type_map = {\n",
    "        \"eficiencia\": calculate_eficiencia,\n",
    "        \"performance\": calculate_performance,\n",
    "        \"reparo\": calculate_reparos,\n",
    "    }\n",
    "\n",
    "    # Verificar a primeira data_registro do dataframe para saber se os dados são do mês atual\n",
    "    this_month = df[\"data_registro\"].iloc[0].month == pd.Timestamp.now().month\n",
    "    month = \"Atual\" if this_month else \"Anterior\"\n",
    "\n",
    "    # Obter a função com base no tipo\n",
    "    func = type_map[type]\n",
    "\n",
    "    # Calcular a porcentagem\n",
    "    percentage = func(df.copy()) if func is not None else 0\n",
    "\n",
    "    # Arredondar porcentagem para não ter casas decimais\n",
    "    percentage = round(percentage, 2)\n",
    "\n",
    "    # Definir a cor com base na porcentagem\n",
    "    if type == \"eficiencia\":\n",
    "        color = \"green\" if percentage >= (meta / 100) else \"red\"\n",
    "    else:\n",
    "        color = \"red\" if percentage >= (meta / 100) else \"green\"\n",
    "\n",
    "    # Definir a escala do eixo para \"performance\" e \"reparo\"\n",
    "    axis_range = [0, 100] if type == \"eficiencia\" else [100, 0]\n",
    "\n",
    "    # Criar o gráfico\n",
    "    fig = go.Figure(\n",
    "        go.Indicator(\n",
    "            mode=\"gauge+number\",\n",
    "            value=percentage * 100,\n",
    "            number={\"suffix\": \"%\"},\n",
    "            domain={\"x\": [0, 1], \"y\": [0, 1]},\n",
    "            title={\n",
    "                \"text\": month,\n",
    "                \"font\": {\"size\": 14},\n",
    "            },\n",
    "            gauge={\n",
    "                \"axis\": {\n",
    "                    \"range\": axis_range,\n",
    "                    \"tickfont\": {\"size\": 8},\n",
    "                },\n",
    "                \"bar\": {\"color\": color},\n",
    "                \"steps\": [\n",
    "                    {\"range\": [0, 100], \"color\": \"lightgray\"},\n",
    "                ],\n",
    "                \"threshold\": {\n",
    "                    \"line\": {\"color\": \"black\", \"width\": 4},\n",
    "                    \"thickness\": 0.75,\n",
    "                    \"value\": meta,\n",
    "                },\n",
    "            },\n",
    "        )\n",
    "    )\n",
    "\n",
    "    fig.update_layout(\n",
    "        autosize=True,\n",
    "        margin=dict(t=30, b=30, l=30, r=30),\n",
    "        plot_bgcolor=\"white\",\n",
    "        width=200,  # apenas para visualização no jupyter\n",
    "        height=200,  # apenas para visualização no jupyter\n",
    "    )\n",
    "\n",
    "    fig.show()"
   ]
  },
  {
   "cell_type": "code",
   "execution_count": null,
   "metadata": {},
   "outputs": [
    {
     "data": {
      "application/vnd.plotly.v1+json": {
       "config": {
        "plotlyServerURL": "https://plot.ly"
       },
       "data": [
        {
         "domain": {
          "x": [
           0,
           1
          ],
          "y": [
           0,
           1
          ]
         },
         "gauge": {
          "axis": {
           "range": [
            0,
            100
           ],
           "tickfont": {
            "size": 8
           }
          },
          "bar": {
           "color": "red"
          },
          "steps": [
           {
            "color": "lightgray",
            "range": [
             0,
             100
            ]
           }
          ],
          "threshold": {
           "line": {
            "color": "black",
            "width": 4
           },
           "thickness": 0.75,
           "value": 90
          }
         },
         "mode": "gauge+number",
         "number": {
          "suffix": "%"
         },
         "title": {
          "font": {
           "size": 14
          },
          "text": "Atual"
         },
         "type": "indicator",
         "value": 55.00000000000001
        }
       ],
       "layout": {
        "autosize": true,
        "height": 200,
        "margin": {
         "b": 30,
         "l": 30,
         "r": 30,
         "t": 30
        },
        "plot_bgcolor": "white",
        "template": {
         "data": {
          "bar": [
           {
            "error_x": {
             "color": "#2a3f5f"
            },
            "error_y": {
             "color": "#2a3f5f"
            },
            "marker": {
             "line": {
              "color": "#E5ECF6",
              "width": 0.5
             },
             "pattern": {
              "fillmode": "overlay",
              "size": 10,
              "solidity": 0.2
             }
            },
            "type": "bar"
           }
          ],
          "barpolar": [
           {
            "marker": {
             "line": {
              "color": "#E5ECF6",
              "width": 0.5
             },
             "pattern": {
              "fillmode": "overlay",
              "size": 10,
              "solidity": 0.2
             }
            },
            "type": "barpolar"
           }
          ],
          "carpet": [
           {
            "aaxis": {
             "endlinecolor": "#2a3f5f",
             "gridcolor": "white",
             "linecolor": "white",
             "minorgridcolor": "white",
             "startlinecolor": "#2a3f5f"
            },
            "baxis": {
             "endlinecolor": "#2a3f5f",
             "gridcolor": "white",
             "linecolor": "white",
             "minorgridcolor": "white",
             "startlinecolor": "#2a3f5f"
            },
            "type": "carpet"
           }
          ],
          "choropleth": [
           {
            "colorbar": {
             "outlinewidth": 0,
             "ticks": ""
            },
            "type": "choropleth"
           }
          ],
          "contour": [
           {
            "colorbar": {
             "outlinewidth": 0,
             "ticks": ""
            },
            "colorscale": [
             [
              0,
              "#0d0887"
             ],
             [
              0.1111111111111111,
              "#46039f"
             ],
             [
              0.2222222222222222,
              "#7201a8"
             ],
             [
              0.3333333333333333,
              "#9c179e"
             ],
             [
              0.4444444444444444,
              "#bd3786"
             ],
             [
              0.5555555555555556,
              "#d8576b"
             ],
             [
              0.6666666666666666,
              "#ed7953"
             ],
             [
              0.7777777777777778,
              "#fb9f3a"
             ],
             [
              0.8888888888888888,
              "#fdca26"
             ],
             [
              1,
              "#f0f921"
             ]
            ],
            "type": "contour"
           }
          ],
          "contourcarpet": [
           {
            "colorbar": {
             "outlinewidth": 0,
             "ticks": ""
            },
            "type": "contourcarpet"
           }
          ],
          "heatmap": [
           {
            "colorbar": {
             "outlinewidth": 0,
             "ticks": ""
            },
            "colorscale": [
             [
              0,
              "#0d0887"
             ],
             [
              0.1111111111111111,
              "#46039f"
             ],
             [
              0.2222222222222222,
              "#7201a8"
             ],
             [
              0.3333333333333333,
              "#9c179e"
             ],
             [
              0.4444444444444444,
              "#bd3786"
             ],
             [
              0.5555555555555556,
              "#d8576b"
             ],
             [
              0.6666666666666666,
              "#ed7953"
             ],
             [
              0.7777777777777778,
              "#fb9f3a"
             ],
             [
              0.8888888888888888,
              "#fdca26"
             ],
             [
              1,
              "#f0f921"
             ]
            ],
            "type": "heatmap"
           }
          ],
          "heatmapgl": [
           {
            "colorbar": {
             "outlinewidth": 0,
             "ticks": ""
            },
            "colorscale": [
             [
              0,
              "#0d0887"
             ],
             [
              0.1111111111111111,
              "#46039f"
             ],
             [
              0.2222222222222222,
              "#7201a8"
             ],
             [
              0.3333333333333333,
              "#9c179e"
             ],
             [
              0.4444444444444444,
              "#bd3786"
             ],
             [
              0.5555555555555556,
              "#d8576b"
             ],
             [
              0.6666666666666666,
              "#ed7953"
             ],
             [
              0.7777777777777778,
              "#fb9f3a"
             ],
             [
              0.8888888888888888,
              "#fdca26"
             ],
             [
              1,
              "#f0f921"
             ]
            ],
            "type": "heatmapgl"
           }
          ],
          "histogram": [
           {
            "marker": {
             "pattern": {
              "fillmode": "overlay",
              "size": 10,
              "solidity": 0.2
             }
            },
            "type": "histogram"
           }
          ],
          "histogram2d": [
           {
            "colorbar": {
             "outlinewidth": 0,
             "ticks": ""
            },
            "colorscale": [
             [
              0,
              "#0d0887"
             ],
             [
              0.1111111111111111,
              "#46039f"
             ],
             [
              0.2222222222222222,
              "#7201a8"
             ],
             [
              0.3333333333333333,
              "#9c179e"
             ],
             [
              0.4444444444444444,
              "#bd3786"
             ],
             [
              0.5555555555555556,
              "#d8576b"
             ],
             [
              0.6666666666666666,
              "#ed7953"
             ],
             [
              0.7777777777777778,
              "#fb9f3a"
             ],
             [
              0.8888888888888888,
              "#fdca26"
             ],
             [
              1,
              "#f0f921"
             ]
            ],
            "type": "histogram2d"
           }
          ],
          "histogram2dcontour": [
           {
            "colorbar": {
             "outlinewidth": 0,
             "ticks": ""
            },
            "colorscale": [
             [
              0,
              "#0d0887"
             ],
             [
              0.1111111111111111,
              "#46039f"
             ],
             [
              0.2222222222222222,
              "#7201a8"
             ],
             [
              0.3333333333333333,
              "#9c179e"
             ],
             [
              0.4444444444444444,
              "#bd3786"
             ],
             [
              0.5555555555555556,
              "#d8576b"
             ],
             [
              0.6666666666666666,
              "#ed7953"
             ],
             [
              0.7777777777777778,
              "#fb9f3a"
             ],
             [
              0.8888888888888888,
              "#fdca26"
             ],
             [
              1,
              "#f0f921"
             ]
            ],
            "type": "histogram2dcontour"
           }
          ],
          "mesh3d": [
           {
            "colorbar": {
             "outlinewidth": 0,
             "ticks": ""
            },
            "type": "mesh3d"
           }
          ],
          "parcoords": [
           {
            "line": {
             "colorbar": {
              "outlinewidth": 0,
              "ticks": ""
             }
            },
            "type": "parcoords"
           }
          ],
          "pie": [
           {
            "automargin": true,
            "type": "pie"
           }
          ],
          "scatter": [
           {
            "fillpattern": {
             "fillmode": "overlay",
             "size": 10,
             "solidity": 0.2
            },
            "type": "scatter"
           }
          ],
          "scatter3d": [
           {
            "line": {
             "colorbar": {
              "outlinewidth": 0,
              "ticks": ""
             }
            },
            "marker": {
             "colorbar": {
              "outlinewidth": 0,
              "ticks": ""
             }
            },
            "type": "scatter3d"
           }
          ],
          "scattercarpet": [
           {
            "marker": {
             "colorbar": {
              "outlinewidth": 0,
              "ticks": ""
             }
            },
            "type": "scattercarpet"
           }
          ],
          "scattergeo": [
           {
            "marker": {
             "colorbar": {
              "outlinewidth": 0,
              "ticks": ""
             }
            },
            "type": "scattergeo"
           }
          ],
          "scattergl": [
           {
            "marker": {
             "colorbar": {
              "outlinewidth": 0,
              "ticks": ""
             }
            },
            "type": "scattergl"
           }
          ],
          "scattermapbox": [
           {
            "marker": {
             "colorbar": {
              "outlinewidth": 0,
              "ticks": ""
             }
            },
            "type": "scattermapbox"
           }
          ],
          "scatterpolar": [
           {
            "marker": {
             "colorbar": {
              "outlinewidth": 0,
              "ticks": ""
             }
            },
            "type": "scatterpolar"
           }
          ],
          "scatterpolargl": [
           {
            "marker": {
             "colorbar": {
              "outlinewidth": 0,
              "ticks": ""
             }
            },
            "type": "scatterpolargl"
           }
          ],
          "scatterternary": [
           {
            "marker": {
             "colorbar": {
              "outlinewidth": 0,
              "ticks": ""
             }
            },
            "type": "scatterternary"
           }
          ],
          "surface": [
           {
            "colorbar": {
             "outlinewidth": 0,
             "ticks": ""
            },
            "colorscale": [
             [
              0,
              "#0d0887"
             ],
             [
              0.1111111111111111,
              "#46039f"
             ],
             [
              0.2222222222222222,
              "#7201a8"
             ],
             [
              0.3333333333333333,
              "#9c179e"
             ],
             [
              0.4444444444444444,
              "#bd3786"
             ],
             [
              0.5555555555555556,
              "#d8576b"
             ],
             [
              0.6666666666666666,
              "#ed7953"
             ],
             [
              0.7777777777777778,
              "#fb9f3a"
             ],
             [
              0.8888888888888888,
              "#fdca26"
             ],
             [
              1,
              "#f0f921"
             ]
            ],
            "type": "surface"
           }
          ],
          "table": [
           {
            "cells": {
             "fill": {
              "color": "#EBF0F8"
             },
             "line": {
              "color": "white"
             }
            },
            "header": {
             "fill": {
              "color": "#C8D4E3"
             },
             "line": {
              "color": "white"
             }
            },
            "type": "table"
           }
          ]
         },
         "layout": {
          "annotationdefaults": {
           "arrowcolor": "#2a3f5f",
           "arrowhead": 0,
           "arrowwidth": 1
          },
          "autotypenumbers": "strict",
          "coloraxis": {
           "colorbar": {
            "outlinewidth": 0,
            "ticks": ""
           }
          },
          "colorscale": {
           "diverging": [
            [
             0,
             "#8e0152"
            ],
            [
             0.1,
             "#c51b7d"
            ],
            [
             0.2,
             "#de77ae"
            ],
            [
             0.3,
             "#f1b6da"
            ],
            [
             0.4,
             "#fde0ef"
            ],
            [
             0.5,
             "#f7f7f7"
            ],
            [
             0.6,
             "#e6f5d0"
            ],
            [
             0.7,
             "#b8e186"
            ],
            [
             0.8,
             "#7fbc41"
            ],
            [
             0.9,
             "#4d9221"
            ],
            [
             1,
             "#276419"
            ]
           ],
           "sequential": [
            [
             0,
             "#0d0887"
            ],
            [
             0.1111111111111111,
             "#46039f"
            ],
            [
             0.2222222222222222,
             "#7201a8"
            ],
            [
             0.3333333333333333,
             "#9c179e"
            ],
            [
             0.4444444444444444,
             "#bd3786"
            ],
            [
             0.5555555555555556,
             "#d8576b"
            ],
            [
             0.6666666666666666,
             "#ed7953"
            ],
            [
             0.7777777777777778,
             "#fb9f3a"
            ],
            [
             0.8888888888888888,
             "#fdca26"
            ],
            [
             1,
             "#f0f921"
            ]
           ],
           "sequentialminus": [
            [
             0,
             "#0d0887"
            ],
            [
             0.1111111111111111,
             "#46039f"
            ],
            [
             0.2222222222222222,
             "#7201a8"
            ],
            [
             0.3333333333333333,
             "#9c179e"
            ],
            [
             0.4444444444444444,
             "#bd3786"
            ],
            [
             0.5555555555555556,
             "#d8576b"
            ],
            [
             0.6666666666666666,
             "#ed7953"
            ],
            [
             0.7777777777777778,
             "#fb9f3a"
            ],
            [
             0.8888888888888888,
             "#fdca26"
            ],
            [
             1,
             "#f0f921"
            ]
           ]
          },
          "colorway": [
           "#636efa",
           "#EF553B",
           "#00cc96",
           "#ab63fa",
           "#FFA15A",
           "#19d3f3",
           "#FF6692",
           "#B6E880",
           "#FF97FF",
           "#FECB52"
          ],
          "font": {
           "color": "#2a3f5f"
          },
          "geo": {
           "bgcolor": "white",
           "lakecolor": "white",
           "landcolor": "#E5ECF6",
           "showlakes": true,
           "showland": true,
           "subunitcolor": "white"
          },
          "hoverlabel": {
           "align": "left"
          },
          "hovermode": "closest",
          "mapbox": {
           "style": "light"
          },
          "paper_bgcolor": "white",
          "plot_bgcolor": "#E5ECF6",
          "polar": {
           "angularaxis": {
            "gridcolor": "white",
            "linecolor": "white",
            "ticks": ""
           },
           "bgcolor": "#E5ECF6",
           "radialaxis": {
            "gridcolor": "white",
            "linecolor": "white",
            "ticks": ""
           }
          },
          "scene": {
           "xaxis": {
            "backgroundcolor": "#E5ECF6",
            "gridcolor": "white",
            "gridwidth": 2,
            "linecolor": "white",
            "showbackground": true,
            "ticks": "",
            "zerolinecolor": "white"
           },
           "yaxis": {
            "backgroundcolor": "#E5ECF6",
            "gridcolor": "white",
            "gridwidth": 2,
            "linecolor": "white",
            "showbackground": true,
            "ticks": "",
            "zerolinecolor": "white"
           },
           "zaxis": {
            "backgroundcolor": "#E5ECF6",
            "gridcolor": "white",
            "gridwidth": 2,
            "linecolor": "white",
            "showbackground": true,
            "ticks": "",
            "zerolinecolor": "white"
           }
          },
          "shapedefaults": {
           "line": {
            "color": "#2a3f5f"
           }
          },
          "ternary": {
           "aaxis": {
            "gridcolor": "white",
            "linecolor": "white",
            "ticks": ""
           },
           "baxis": {
            "gridcolor": "white",
            "linecolor": "white",
            "ticks": ""
           },
           "bgcolor": "#E5ECF6",
           "caxis": {
            "gridcolor": "white",
            "linecolor": "white",
            "ticks": ""
           }
          },
          "title": {
           "x": 0.05
          },
          "xaxis": {
           "automargin": true,
           "gridcolor": "white",
           "linecolor": "white",
           "ticks": "",
           "title": {
            "standoff": 15
           },
           "zerolinecolor": "white",
           "zerolinewidth": 2
          },
          "yaxis": {
           "automargin": true,
           "gridcolor": "white",
           "linecolor": "white",
           "ticks": "",
           "title": {
            "standoff": 15
           },
           "zerolinecolor": "white",
           "zerolinewidth": 2
          }
         }
        },
        "width": 200
       }
      }
     },
     "metadata": {},
     "output_type": "display_data"
    },
    {
     "data": {
      "application/vnd.plotly.v1+json": {
       "config": {
        "plotlyServerURL": "https://plot.ly"
       },
       "data": [
        {
         "domain": {
          "x": [
           0,
           1
          ],
          "y": [
           0,
           1
          ]
         },
         "gauge": {
          "axis": {
           "range": [
            100,
            0
           ],
           "tickfont": {
            "size": 8
           }
          },
          "bar": {
           "color": "red"
          },
          "steps": [
           {
            "color": "lightgray",
            "range": [
             0,
             100
            ]
           }
          ],
          "threshold": {
           "line": {
            "color": "black",
            "width": 4
           },
           "thickness": 0.75,
           "value": 4
          }
         },
         "mode": "gauge+number",
         "number": {
          "suffix": "%"
         },
         "title": {
          "font": {
           "size": 14
          },
          "text": "Atual"
         },
         "type": "indicator",
         "value": 26
        }
       ],
       "layout": {
        "autosize": true,
        "height": 200,
        "margin": {
         "b": 30,
         "l": 30,
         "r": 30,
         "t": 30
        },
        "plot_bgcolor": "white",
        "template": {
         "data": {
          "bar": [
           {
            "error_x": {
             "color": "#2a3f5f"
            },
            "error_y": {
             "color": "#2a3f5f"
            },
            "marker": {
             "line": {
              "color": "#E5ECF6",
              "width": 0.5
             },
             "pattern": {
              "fillmode": "overlay",
              "size": 10,
              "solidity": 0.2
             }
            },
            "type": "bar"
           }
          ],
          "barpolar": [
           {
            "marker": {
             "line": {
              "color": "#E5ECF6",
              "width": 0.5
             },
             "pattern": {
              "fillmode": "overlay",
              "size": 10,
              "solidity": 0.2
             }
            },
            "type": "barpolar"
           }
          ],
          "carpet": [
           {
            "aaxis": {
             "endlinecolor": "#2a3f5f",
             "gridcolor": "white",
             "linecolor": "white",
             "minorgridcolor": "white",
             "startlinecolor": "#2a3f5f"
            },
            "baxis": {
             "endlinecolor": "#2a3f5f",
             "gridcolor": "white",
             "linecolor": "white",
             "minorgridcolor": "white",
             "startlinecolor": "#2a3f5f"
            },
            "type": "carpet"
           }
          ],
          "choropleth": [
           {
            "colorbar": {
             "outlinewidth": 0,
             "ticks": ""
            },
            "type": "choropleth"
           }
          ],
          "contour": [
           {
            "colorbar": {
             "outlinewidth": 0,
             "ticks": ""
            },
            "colorscale": [
             [
              0,
              "#0d0887"
             ],
             [
              0.1111111111111111,
              "#46039f"
             ],
             [
              0.2222222222222222,
              "#7201a8"
             ],
             [
              0.3333333333333333,
              "#9c179e"
             ],
             [
              0.4444444444444444,
              "#bd3786"
             ],
             [
              0.5555555555555556,
              "#d8576b"
             ],
             [
              0.6666666666666666,
              "#ed7953"
             ],
             [
              0.7777777777777778,
              "#fb9f3a"
             ],
             [
              0.8888888888888888,
              "#fdca26"
             ],
             [
              1,
              "#f0f921"
             ]
            ],
            "type": "contour"
           }
          ],
          "contourcarpet": [
           {
            "colorbar": {
             "outlinewidth": 0,
             "ticks": ""
            },
            "type": "contourcarpet"
           }
          ],
          "heatmap": [
           {
            "colorbar": {
             "outlinewidth": 0,
             "ticks": ""
            },
            "colorscale": [
             [
              0,
              "#0d0887"
             ],
             [
              0.1111111111111111,
              "#46039f"
             ],
             [
              0.2222222222222222,
              "#7201a8"
             ],
             [
              0.3333333333333333,
              "#9c179e"
             ],
             [
              0.4444444444444444,
              "#bd3786"
             ],
             [
              0.5555555555555556,
              "#d8576b"
             ],
             [
              0.6666666666666666,
              "#ed7953"
             ],
             [
              0.7777777777777778,
              "#fb9f3a"
             ],
             [
              0.8888888888888888,
              "#fdca26"
             ],
             [
              1,
              "#f0f921"
             ]
            ],
            "type": "heatmap"
           }
          ],
          "heatmapgl": [
           {
            "colorbar": {
             "outlinewidth": 0,
             "ticks": ""
            },
            "colorscale": [
             [
              0,
              "#0d0887"
             ],
             [
              0.1111111111111111,
              "#46039f"
             ],
             [
              0.2222222222222222,
              "#7201a8"
             ],
             [
              0.3333333333333333,
              "#9c179e"
             ],
             [
              0.4444444444444444,
              "#bd3786"
             ],
             [
              0.5555555555555556,
              "#d8576b"
             ],
             [
              0.6666666666666666,
              "#ed7953"
             ],
             [
              0.7777777777777778,
              "#fb9f3a"
             ],
             [
              0.8888888888888888,
              "#fdca26"
             ],
             [
              1,
              "#f0f921"
             ]
            ],
            "type": "heatmapgl"
           }
          ],
          "histogram": [
           {
            "marker": {
             "pattern": {
              "fillmode": "overlay",
              "size": 10,
              "solidity": 0.2
             }
            },
            "type": "histogram"
           }
          ],
          "histogram2d": [
           {
            "colorbar": {
             "outlinewidth": 0,
             "ticks": ""
            },
            "colorscale": [
             [
              0,
              "#0d0887"
             ],
             [
              0.1111111111111111,
              "#46039f"
             ],
             [
              0.2222222222222222,
              "#7201a8"
             ],
             [
              0.3333333333333333,
              "#9c179e"
             ],
             [
              0.4444444444444444,
              "#bd3786"
             ],
             [
              0.5555555555555556,
              "#d8576b"
             ],
             [
              0.6666666666666666,
              "#ed7953"
             ],
             [
              0.7777777777777778,
              "#fb9f3a"
             ],
             [
              0.8888888888888888,
              "#fdca26"
             ],
             [
              1,
              "#f0f921"
             ]
            ],
            "type": "histogram2d"
           }
          ],
          "histogram2dcontour": [
           {
            "colorbar": {
             "outlinewidth": 0,
             "ticks": ""
            },
            "colorscale": [
             [
              0,
              "#0d0887"
             ],
             [
              0.1111111111111111,
              "#46039f"
             ],
             [
              0.2222222222222222,
              "#7201a8"
             ],
             [
              0.3333333333333333,
              "#9c179e"
             ],
             [
              0.4444444444444444,
              "#bd3786"
             ],
             [
              0.5555555555555556,
              "#d8576b"
             ],
             [
              0.6666666666666666,
              "#ed7953"
             ],
             [
              0.7777777777777778,
              "#fb9f3a"
             ],
             [
              0.8888888888888888,
              "#fdca26"
             ],
             [
              1,
              "#f0f921"
             ]
            ],
            "type": "histogram2dcontour"
           }
          ],
          "mesh3d": [
           {
            "colorbar": {
             "outlinewidth": 0,
             "ticks": ""
            },
            "type": "mesh3d"
           }
          ],
          "parcoords": [
           {
            "line": {
             "colorbar": {
              "outlinewidth": 0,
              "ticks": ""
             }
            },
            "type": "parcoords"
           }
          ],
          "pie": [
           {
            "automargin": true,
            "type": "pie"
           }
          ],
          "scatter": [
           {
            "fillpattern": {
             "fillmode": "overlay",
             "size": 10,
             "solidity": 0.2
            },
            "type": "scatter"
           }
          ],
          "scatter3d": [
           {
            "line": {
             "colorbar": {
              "outlinewidth": 0,
              "ticks": ""
             }
            },
            "marker": {
             "colorbar": {
              "outlinewidth": 0,
              "ticks": ""
             }
            },
            "type": "scatter3d"
           }
          ],
          "scattercarpet": [
           {
            "marker": {
             "colorbar": {
              "outlinewidth": 0,
              "ticks": ""
             }
            },
            "type": "scattercarpet"
           }
          ],
          "scattergeo": [
           {
            "marker": {
             "colorbar": {
              "outlinewidth": 0,
              "ticks": ""
             }
            },
            "type": "scattergeo"
           }
          ],
          "scattergl": [
           {
            "marker": {
             "colorbar": {
              "outlinewidth": 0,
              "ticks": ""
             }
            },
            "type": "scattergl"
           }
          ],
          "scattermapbox": [
           {
            "marker": {
             "colorbar": {
              "outlinewidth": 0,
              "ticks": ""
             }
            },
            "type": "scattermapbox"
           }
          ],
          "scatterpolar": [
           {
            "marker": {
             "colorbar": {
              "outlinewidth": 0,
              "ticks": ""
             }
            },
            "type": "scatterpolar"
           }
          ],
          "scatterpolargl": [
           {
            "marker": {
             "colorbar": {
              "outlinewidth": 0,
              "ticks": ""
             }
            },
            "type": "scatterpolargl"
           }
          ],
          "scatterternary": [
           {
            "marker": {
             "colorbar": {
              "outlinewidth": 0,
              "ticks": ""
             }
            },
            "type": "scatterternary"
           }
          ],
          "surface": [
           {
            "colorbar": {
             "outlinewidth": 0,
             "ticks": ""
            },
            "colorscale": [
             [
              0,
              "#0d0887"
             ],
             [
              0.1111111111111111,
              "#46039f"
             ],
             [
              0.2222222222222222,
              "#7201a8"
             ],
             [
              0.3333333333333333,
              "#9c179e"
             ],
             [
              0.4444444444444444,
              "#bd3786"
             ],
             [
              0.5555555555555556,
              "#d8576b"
             ],
             [
              0.6666666666666666,
              "#ed7953"
             ],
             [
              0.7777777777777778,
              "#fb9f3a"
             ],
             [
              0.8888888888888888,
              "#fdca26"
             ],
             [
              1,
              "#f0f921"
             ]
            ],
            "type": "surface"
           }
          ],
          "table": [
           {
            "cells": {
             "fill": {
              "color": "#EBF0F8"
             },
             "line": {
              "color": "white"
             }
            },
            "header": {
             "fill": {
              "color": "#C8D4E3"
             },
             "line": {
              "color": "white"
             }
            },
            "type": "table"
           }
          ]
         },
         "layout": {
          "annotationdefaults": {
           "arrowcolor": "#2a3f5f",
           "arrowhead": 0,
           "arrowwidth": 1
          },
          "autotypenumbers": "strict",
          "coloraxis": {
           "colorbar": {
            "outlinewidth": 0,
            "ticks": ""
           }
          },
          "colorscale": {
           "diverging": [
            [
             0,
             "#8e0152"
            ],
            [
             0.1,
             "#c51b7d"
            ],
            [
             0.2,
             "#de77ae"
            ],
            [
             0.3,
             "#f1b6da"
            ],
            [
             0.4,
             "#fde0ef"
            ],
            [
             0.5,
             "#f7f7f7"
            ],
            [
             0.6,
             "#e6f5d0"
            ],
            [
             0.7,
             "#b8e186"
            ],
            [
             0.8,
             "#7fbc41"
            ],
            [
             0.9,
             "#4d9221"
            ],
            [
             1,
             "#276419"
            ]
           ],
           "sequential": [
            [
             0,
             "#0d0887"
            ],
            [
             0.1111111111111111,
             "#46039f"
            ],
            [
             0.2222222222222222,
             "#7201a8"
            ],
            [
             0.3333333333333333,
             "#9c179e"
            ],
            [
             0.4444444444444444,
             "#bd3786"
            ],
            [
             0.5555555555555556,
             "#d8576b"
            ],
            [
             0.6666666666666666,
             "#ed7953"
            ],
            [
             0.7777777777777778,
             "#fb9f3a"
            ],
            [
             0.8888888888888888,
             "#fdca26"
            ],
            [
             1,
             "#f0f921"
            ]
           ],
           "sequentialminus": [
            [
             0,
             "#0d0887"
            ],
            [
             0.1111111111111111,
             "#46039f"
            ],
            [
             0.2222222222222222,
             "#7201a8"
            ],
            [
             0.3333333333333333,
             "#9c179e"
            ],
            [
             0.4444444444444444,
             "#bd3786"
            ],
            [
             0.5555555555555556,
             "#d8576b"
            ],
            [
             0.6666666666666666,
             "#ed7953"
            ],
            [
             0.7777777777777778,
             "#fb9f3a"
            ],
            [
             0.8888888888888888,
             "#fdca26"
            ],
            [
             1,
             "#f0f921"
            ]
           ]
          },
          "colorway": [
           "#636efa",
           "#EF553B",
           "#00cc96",
           "#ab63fa",
           "#FFA15A",
           "#19d3f3",
           "#FF6692",
           "#B6E880",
           "#FF97FF",
           "#FECB52"
          ],
          "font": {
           "color": "#2a3f5f"
          },
          "geo": {
           "bgcolor": "white",
           "lakecolor": "white",
           "landcolor": "#E5ECF6",
           "showlakes": true,
           "showland": true,
           "subunitcolor": "white"
          },
          "hoverlabel": {
           "align": "left"
          },
          "hovermode": "closest",
          "mapbox": {
           "style": "light"
          },
          "paper_bgcolor": "white",
          "plot_bgcolor": "#E5ECF6",
          "polar": {
           "angularaxis": {
            "gridcolor": "white",
            "linecolor": "white",
            "ticks": ""
           },
           "bgcolor": "#E5ECF6",
           "radialaxis": {
            "gridcolor": "white",
            "linecolor": "white",
            "ticks": ""
           }
          },
          "scene": {
           "xaxis": {
            "backgroundcolor": "#E5ECF6",
            "gridcolor": "white",
            "gridwidth": 2,
            "linecolor": "white",
            "showbackground": true,
            "ticks": "",
            "zerolinecolor": "white"
           },
           "yaxis": {
            "backgroundcolor": "#E5ECF6",
            "gridcolor": "white",
            "gridwidth": 2,
            "linecolor": "white",
            "showbackground": true,
            "ticks": "",
            "zerolinecolor": "white"
           },
           "zaxis": {
            "backgroundcolor": "#E5ECF6",
            "gridcolor": "white",
            "gridwidth": 2,
            "linecolor": "white",
            "showbackground": true,
            "ticks": "",
            "zerolinecolor": "white"
           }
          },
          "shapedefaults": {
           "line": {
            "color": "#2a3f5f"
           }
          },
          "ternary": {
           "aaxis": {
            "gridcolor": "white",
            "linecolor": "white",
            "ticks": ""
           },
           "baxis": {
            "gridcolor": "white",
            "linecolor": "white",
            "ticks": ""
           },
           "bgcolor": "#E5ECF6",
           "caxis": {
            "gridcolor": "white",
            "linecolor": "white",
            "ticks": ""
           }
          },
          "title": {
           "x": 0.05
          },
          "xaxis": {
           "automargin": true,
           "gridcolor": "white",
           "linecolor": "white",
           "ticks": "",
           "title": {
            "standoff": 15
           },
           "zerolinecolor": "white",
           "zerolinewidth": 2
          },
          "yaxis": {
           "automargin": true,
           "gridcolor": "white",
           "linecolor": "white",
           "ticks": "",
           "title": {
            "standoff": 15
           },
           "zerolinecolor": "white",
           "zerolinewidth": 2
          }
         }
        },
        "width": 200
       }
      }
     },
     "metadata": {},
     "output_type": "display_data"
    },
    {
     "data": {
      "application/vnd.plotly.v1+json": {
       "config": {
        "plotlyServerURL": "https://plot.ly"
       },
       "data": [
        {
         "domain": {
          "x": [
           0,
           1
          ],
          "y": [
           0,
           1
          ]
         },
         "gauge": {
          "axis": {
           "range": [
            100,
            0
           ],
           "tickfont": {
            "size": 8
           }
          },
          "bar": {
           "color": "green"
          },
          "steps": [
           {
            "color": "lightgray",
            "range": [
             0,
             100
            ]
           }
          ],
          "threshold": {
           "line": {
            "color": "black",
            "width": 4
           },
           "thickness": 0.75,
           "value": 4
          }
         },
         "mode": "gauge+number",
         "number": {
          "suffix": "%"
         },
         "title": {
          "font": {
           "size": 14
          },
          "text": "Atual"
         },
         "type": "indicator",
         "value": 2
        }
       ],
       "layout": {
        "autosize": true,
        "height": 200,
        "margin": {
         "b": 30,
         "l": 30,
         "r": 30,
         "t": 30
        },
        "plot_bgcolor": "white",
        "template": {
         "data": {
          "bar": [
           {
            "error_x": {
             "color": "#2a3f5f"
            },
            "error_y": {
             "color": "#2a3f5f"
            },
            "marker": {
             "line": {
              "color": "#E5ECF6",
              "width": 0.5
             },
             "pattern": {
              "fillmode": "overlay",
              "size": 10,
              "solidity": 0.2
             }
            },
            "type": "bar"
           }
          ],
          "barpolar": [
           {
            "marker": {
             "line": {
              "color": "#E5ECF6",
              "width": 0.5
             },
             "pattern": {
              "fillmode": "overlay",
              "size": 10,
              "solidity": 0.2
             }
            },
            "type": "barpolar"
           }
          ],
          "carpet": [
           {
            "aaxis": {
             "endlinecolor": "#2a3f5f",
             "gridcolor": "white",
             "linecolor": "white",
             "minorgridcolor": "white",
             "startlinecolor": "#2a3f5f"
            },
            "baxis": {
             "endlinecolor": "#2a3f5f",
             "gridcolor": "white",
             "linecolor": "white",
             "minorgridcolor": "white",
             "startlinecolor": "#2a3f5f"
            },
            "type": "carpet"
           }
          ],
          "choropleth": [
           {
            "colorbar": {
             "outlinewidth": 0,
             "ticks": ""
            },
            "type": "choropleth"
           }
          ],
          "contour": [
           {
            "colorbar": {
             "outlinewidth": 0,
             "ticks": ""
            },
            "colorscale": [
             [
              0,
              "#0d0887"
             ],
             [
              0.1111111111111111,
              "#46039f"
             ],
             [
              0.2222222222222222,
              "#7201a8"
             ],
             [
              0.3333333333333333,
              "#9c179e"
             ],
             [
              0.4444444444444444,
              "#bd3786"
             ],
             [
              0.5555555555555556,
              "#d8576b"
             ],
             [
              0.6666666666666666,
              "#ed7953"
             ],
             [
              0.7777777777777778,
              "#fb9f3a"
             ],
             [
              0.8888888888888888,
              "#fdca26"
             ],
             [
              1,
              "#f0f921"
             ]
            ],
            "type": "contour"
           }
          ],
          "contourcarpet": [
           {
            "colorbar": {
             "outlinewidth": 0,
             "ticks": ""
            },
            "type": "contourcarpet"
           }
          ],
          "heatmap": [
           {
            "colorbar": {
             "outlinewidth": 0,
             "ticks": ""
            },
            "colorscale": [
             [
              0,
              "#0d0887"
             ],
             [
              0.1111111111111111,
              "#46039f"
             ],
             [
              0.2222222222222222,
              "#7201a8"
             ],
             [
              0.3333333333333333,
              "#9c179e"
             ],
             [
              0.4444444444444444,
              "#bd3786"
             ],
             [
              0.5555555555555556,
              "#d8576b"
             ],
             [
              0.6666666666666666,
              "#ed7953"
             ],
             [
              0.7777777777777778,
              "#fb9f3a"
             ],
             [
              0.8888888888888888,
              "#fdca26"
             ],
             [
              1,
              "#f0f921"
             ]
            ],
            "type": "heatmap"
           }
          ],
          "heatmapgl": [
           {
            "colorbar": {
             "outlinewidth": 0,
             "ticks": ""
            },
            "colorscale": [
             [
              0,
              "#0d0887"
             ],
             [
              0.1111111111111111,
              "#46039f"
             ],
             [
              0.2222222222222222,
              "#7201a8"
             ],
             [
              0.3333333333333333,
              "#9c179e"
             ],
             [
              0.4444444444444444,
              "#bd3786"
             ],
             [
              0.5555555555555556,
              "#d8576b"
             ],
             [
              0.6666666666666666,
              "#ed7953"
             ],
             [
              0.7777777777777778,
              "#fb9f3a"
             ],
             [
              0.8888888888888888,
              "#fdca26"
             ],
             [
              1,
              "#f0f921"
             ]
            ],
            "type": "heatmapgl"
           }
          ],
          "histogram": [
           {
            "marker": {
             "pattern": {
              "fillmode": "overlay",
              "size": 10,
              "solidity": 0.2
             }
            },
            "type": "histogram"
           }
          ],
          "histogram2d": [
           {
            "colorbar": {
             "outlinewidth": 0,
             "ticks": ""
            },
            "colorscale": [
             [
              0,
              "#0d0887"
             ],
             [
              0.1111111111111111,
              "#46039f"
             ],
             [
              0.2222222222222222,
              "#7201a8"
             ],
             [
              0.3333333333333333,
              "#9c179e"
             ],
             [
              0.4444444444444444,
              "#bd3786"
             ],
             [
              0.5555555555555556,
              "#d8576b"
             ],
             [
              0.6666666666666666,
              "#ed7953"
             ],
             [
              0.7777777777777778,
              "#fb9f3a"
             ],
             [
              0.8888888888888888,
              "#fdca26"
             ],
             [
              1,
              "#f0f921"
             ]
            ],
            "type": "histogram2d"
           }
          ],
          "histogram2dcontour": [
           {
            "colorbar": {
             "outlinewidth": 0,
             "ticks": ""
            },
            "colorscale": [
             [
              0,
              "#0d0887"
             ],
             [
              0.1111111111111111,
              "#46039f"
             ],
             [
              0.2222222222222222,
              "#7201a8"
             ],
             [
              0.3333333333333333,
              "#9c179e"
             ],
             [
              0.4444444444444444,
              "#bd3786"
             ],
             [
              0.5555555555555556,
              "#d8576b"
             ],
             [
              0.6666666666666666,
              "#ed7953"
             ],
             [
              0.7777777777777778,
              "#fb9f3a"
             ],
             [
              0.8888888888888888,
              "#fdca26"
             ],
             [
              1,
              "#f0f921"
             ]
            ],
            "type": "histogram2dcontour"
           }
          ],
          "mesh3d": [
           {
            "colorbar": {
             "outlinewidth": 0,
             "ticks": ""
            },
            "type": "mesh3d"
           }
          ],
          "parcoords": [
           {
            "line": {
             "colorbar": {
              "outlinewidth": 0,
              "ticks": ""
             }
            },
            "type": "parcoords"
           }
          ],
          "pie": [
           {
            "automargin": true,
            "type": "pie"
           }
          ],
          "scatter": [
           {
            "fillpattern": {
             "fillmode": "overlay",
             "size": 10,
             "solidity": 0.2
            },
            "type": "scatter"
           }
          ],
          "scatter3d": [
           {
            "line": {
             "colorbar": {
              "outlinewidth": 0,
              "ticks": ""
             }
            },
            "marker": {
             "colorbar": {
              "outlinewidth": 0,
              "ticks": ""
             }
            },
            "type": "scatter3d"
           }
          ],
          "scattercarpet": [
           {
            "marker": {
             "colorbar": {
              "outlinewidth": 0,
              "ticks": ""
             }
            },
            "type": "scattercarpet"
           }
          ],
          "scattergeo": [
           {
            "marker": {
             "colorbar": {
              "outlinewidth": 0,
              "ticks": ""
             }
            },
            "type": "scattergeo"
           }
          ],
          "scattergl": [
           {
            "marker": {
             "colorbar": {
              "outlinewidth": 0,
              "ticks": ""
             }
            },
            "type": "scattergl"
           }
          ],
          "scattermapbox": [
           {
            "marker": {
             "colorbar": {
              "outlinewidth": 0,
              "ticks": ""
             }
            },
            "type": "scattermapbox"
           }
          ],
          "scatterpolar": [
           {
            "marker": {
             "colorbar": {
              "outlinewidth": 0,
              "ticks": ""
             }
            },
            "type": "scatterpolar"
           }
          ],
          "scatterpolargl": [
           {
            "marker": {
             "colorbar": {
              "outlinewidth": 0,
              "ticks": ""
             }
            },
            "type": "scatterpolargl"
           }
          ],
          "scatterternary": [
           {
            "marker": {
             "colorbar": {
              "outlinewidth": 0,
              "ticks": ""
             }
            },
            "type": "scatterternary"
           }
          ],
          "surface": [
           {
            "colorbar": {
             "outlinewidth": 0,
             "ticks": ""
            },
            "colorscale": [
             [
              0,
              "#0d0887"
             ],
             [
              0.1111111111111111,
              "#46039f"
             ],
             [
              0.2222222222222222,
              "#7201a8"
             ],
             [
              0.3333333333333333,
              "#9c179e"
             ],
             [
              0.4444444444444444,
              "#bd3786"
             ],
             [
              0.5555555555555556,
              "#d8576b"
             ],
             [
              0.6666666666666666,
              "#ed7953"
             ],
             [
              0.7777777777777778,
              "#fb9f3a"
             ],
             [
              0.8888888888888888,
              "#fdca26"
             ],
             [
              1,
              "#f0f921"
             ]
            ],
            "type": "surface"
           }
          ],
          "table": [
           {
            "cells": {
             "fill": {
              "color": "#EBF0F8"
             },
             "line": {
              "color": "white"
             }
            },
            "header": {
             "fill": {
              "color": "#C8D4E3"
             },
             "line": {
              "color": "white"
             }
            },
            "type": "table"
           }
          ]
         },
         "layout": {
          "annotationdefaults": {
           "arrowcolor": "#2a3f5f",
           "arrowhead": 0,
           "arrowwidth": 1
          },
          "autotypenumbers": "strict",
          "coloraxis": {
           "colorbar": {
            "outlinewidth": 0,
            "ticks": ""
           }
          },
          "colorscale": {
           "diverging": [
            [
             0,
             "#8e0152"
            ],
            [
             0.1,
             "#c51b7d"
            ],
            [
             0.2,
             "#de77ae"
            ],
            [
             0.3,
             "#f1b6da"
            ],
            [
             0.4,
             "#fde0ef"
            ],
            [
             0.5,
             "#f7f7f7"
            ],
            [
             0.6,
             "#e6f5d0"
            ],
            [
             0.7,
             "#b8e186"
            ],
            [
             0.8,
             "#7fbc41"
            ],
            [
             0.9,
             "#4d9221"
            ],
            [
             1,
             "#276419"
            ]
           ],
           "sequential": [
            [
             0,
             "#0d0887"
            ],
            [
             0.1111111111111111,
             "#46039f"
            ],
            [
             0.2222222222222222,
             "#7201a8"
            ],
            [
             0.3333333333333333,
             "#9c179e"
            ],
            [
             0.4444444444444444,
             "#bd3786"
            ],
            [
             0.5555555555555556,
             "#d8576b"
            ],
            [
             0.6666666666666666,
             "#ed7953"
            ],
            [
             0.7777777777777778,
             "#fb9f3a"
            ],
            [
             0.8888888888888888,
             "#fdca26"
            ],
            [
             1,
             "#f0f921"
            ]
           ],
           "sequentialminus": [
            [
             0,
             "#0d0887"
            ],
            [
             0.1111111111111111,
             "#46039f"
            ],
            [
             0.2222222222222222,
             "#7201a8"
            ],
            [
             0.3333333333333333,
             "#9c179e"
            ],
            [
             0.4444444444444444,
             "#bd3786"
            ],
            [
             0.5555555555555556,
             "#d8576b"
            ],
            [
             0.6666666666666666,
             "#ed7953"
            ],
            [
             0.7777777777777778,
             "#fb9f3a"
            ],
            [
             0.8888888888888888,
             "#fdca26"
            ],
            [
             1,
             "#f0f921"
            ]
           ]
          },
          "colorway": [
           "#636efa",
           "#EF553B",
           "#00cc96",
           "#ab63fa",
           "#FFA15A",
           "#19d3f3",
           "#FF6692",
           "#B6E880",
           "#FF97FF",
           "#FECB52"
          ],
          "font": {
           "color": "#2a3f5f"
          },
          "geo": {
           "bgcolor": "white",
           "lakecolor": "white",
           "landcolor": "#E5ECF6",
           "showlakes": true,
           "showland": true,
           "subunitcolor": "white"
          },
          "hoverlabel": {
           "align": "left"
          },
          "hovermode": "closest",
          "mapbox": {
           "style": "light"
          },
          "paper_bgcolor": "white",
          "plot_bgcolor": "#E5ECF6",
          "polar": {
           "angularaxis": {
            "gridcolor": "white",
            "linecolor": "white",
            "ticks": ""
           },
           "bgcolor": "#E5ECF6",
           "radialaxis": {
            "gridcolor": "white",
            "linecolor": "white",
            "ticks": ""
           }
          },
          "scene": {
           "xaxis": {
            "backgroundcolor": "#E5ECF6",
            "gridcolor": "white",
            "gridwidth": 2,
            "linecolor": "white",
            "showbackground": true,
            "ticks": "",
            "zerolinecolor": "white"
           },
           "yaxis": {
            "backgroundcolor": "#E5ECF6",
            "gridcolor": "white",
            "gridwidth": 2,
            "linecolor": "white",
            "showbackground": true,
            "ticks": "",
            "zerolinecolor": "white"
           },
           "zaxis": {
            "backgroundcolor": "#E5ECF6",
            "gridcolor": "white",
            "gridwidth": 2,
            "linecolor": "white",
            "showbackground": true,
            "ticks": "",
            "zerolinecolor": "white"
           }
          },
          "shapedefaults": {
           "line": {
            "color": "#2a3f5f"
           }
          },
          "ternary": {
           "aaxis": {
            "gridcolor": "white",
            "linecolor": "white",
            "ticks": ""
           },
           "baxis": {
            "gridcolor": "white",
            "linecolor": "white",
            "ticks": ""
           },
           "bgcolor": "#E5ECF6",
           "caxis": {
            "gridcolor": "white",
            "linecolor": "white",
            "ticks": ""
           }
          },
          "title": {
           "x": 0.05
          },
          "xaxis": {
           "automargin": true,
           "gridcolor": "white",
           "linecolor": "white",
           "ticks": "",
           "title": {
            "standoff": 15
           },
           "zerolinecolor": "white",
           "zerolinewidth": 2
          },
          "yaxis": {
           "automargin": true,
           "gridcolor": "white",
           "linecolor": "white",
           "ticks": "",
           "title": {
            "standoff": 15
           },
           "zerolinecolor": "white",
           "zerolinewidth": 2
          }
         }
        },
        "width": 200
       }
      }
     },
     "metadata": {},
     "output_type": "display_data"
    }
   ],
   "source": [
    "draw_circular_progress_bar_v2(df_eff, \"eficiencia\", 90)\n",
    "draw_circular_progress_bar_v2(df_perf, \"performance\", 4)\n",
    "draw_circular_progress_bar_v2(df_reparos, \"reparo\", 4)"
   ]
  },
  {
   "cell_type": "code",
   "execution_count": null,
   "metadata": {},
   "outputs": [
    {
     "data": {
      "application/vnd.plotly.v1+json": {
       "config": {
        "plotlyServerURL": "https://plot.ly"
       },
       "data": [
        {
         "hoverinfo": "skip",
         "hovertemplate": "<i>Dia</i>: %{x}<br><b>Porcentagem</b>: %{y:.1f}%<br>",
         "line": {
          "color": "blue"
         },
         "marker": {
          "color": "blue"
         },
         "mode": "lines+markers",
         "type": "scatter",
         "x": [
          "2024-02-01",
          "2024-02-02",
          "2024-02-03",
          "2024-02-04",
          "2024-02-05",
          "2024-02-06",
          "2024-02-07",
          "2024-02-08",
          "2024-02-09",
          "2024-02-10",
          "2024-02-11",
          "2024-02-12",
          "2024-02-13",
          "2024-02-14",
          "2024-02-15",
          "2024-02-16",
          "2024-02-17",
          "2024-02-18",
          "2024-02-19",
          "2024-02-20",
          "2024-02-21",
          "2024-02-22",
          "2024-02-23",
          "2024-02-24"
         ],
         "y": [
          45.95732048957617,
          0,
          0,
          null,
          51.280181714824145,
          53.60215284777811,
          65.00941123593702,
          67.94528428120526,
          67.73008623197508,
          46.855933665342704,
          null,
          null,
          0.06092767295597484,
          45.65742197974327,
          69.65801829214249,
          62.55281634327652,
          47.49099825750769,
          0.2751572327044025,
          64.32596368299343,
          66.30403794318889,
          64.96632562951136,
          66.55567714964664,
          48.681287507412364,
          0
         ]
        },
        {
         "hovertemplate": "<b>Meta</b>: %{y:.0f}%<extra></extra>",
         "line": {
          "color": "red",
          "dash": "dash"
         },
         "mode": "lines",
         "name": "Meta",
         "type": "scatter",
         "x": [
          "2024-02-01",
          "2024-02-02",
          "2024-02-03",
          "2024-02-04",
          "2024-02-05",
          "2024-02-06",
          "2024-02-07",
          "2024-02-08",
          "2024-02-09",
          "2024-02-10",
          "2024-02-11",
          "2024-02-12",
          "2024-02-13",
          "2024-02-14",
          "2024-02-15",
          "2024-02-16",
          "2024-02-17",
          "2024-02-18",
          "2024-02-19",
          "2024-02-20",
          "2024-02-21",
          "2024-02-22",
          "2024-02-23",
          "2024-02-24"
         ],
         "y": [
          90,
          90,
          90,
          90,
          90,
          90,
          90,
          90,
          90,
          90,
          90,
          90,
          90,
          90,
          90,
          90,
          90,
          90,
          90,
          90,
          90,
          90,
          90,
          90
         ]
        }
       ],
       "layout": {
        "height": 200,
        "margin": {
         "b": 0,
         "l": 0,
         "r": 0,
         "t": 0
        },
        "plot_bgcolor": "white",
        "showlegend": false,
        "template": {
         "data": {
          "bar": [
           {
            "error_x": {
             "color": "#2a3f5f"
            },
            "error_y": {
             "color": "#2a3f5f"
            },
            "marker": {
             "line": {
              "color": "#E5ECF6",
              "width": 0.5
             },
             "pattern": {
              "fillmode": "overlay",
              "size": 10,
              "solidity": 0.2
             }
            },
            "type": "bar"
           }
          ],
          "barpolar": [
           {
            "marker": {
             "line": {
              "color": "#E5ECF6",
              "width": 0.5
             },
             "pattern": {
              "fillmode": "overlay",
              "size": 10,
              "solidity": 0.2
             }
            },
            "type": "barpolar"
           }
          ],
          "carpet": [
           {
            "aaxis": {
             "endlinecolor": "#2a3f5f",
             "gridcolor": "white",
             "linecolor": "white",
             "minorgridcolor": "white",
             "startlinecolor": "#2a3f5f"
            },
            "baxis": {
             "endlinecolor": "#2a3f5f",
             "gridcolor": "white",
             "linecolor": "white",
             "minorgridcolor": "white",
             "startlinecolor": "#2a3f5f"
            },
            "type": "carpet"
           }
          ],
          "choropleth": [
           {
            "colorbar": {
             "outlinewidth": 0,
             "ticks": ""
            },
            "type": "choropleth"
           }
          ],
          "contour": [
           {
            "colorbar": {
             "outlinewidth": 0,
             "ticks": ""
            },
            "colorscale": [
             [
              0,
              "#0d0887"
             ],
             [
              0.1111111111111111,
              "#46039f"
             ],
             [
              0.2222222222222222,
              "#7201a8"
             ],
             [
              0.3333333333333333,
              "#9c179e"
             ],
             [
              0.4444444444444444,
              "#bd3786"
             ],
             [
              0.5555555555555556,
              "#d8576b"
             ],
             [
              0.6666666666666666,
              "#ed7953"
             ],
             [
              0.7777777777777778,
              "#fb9f3a"
             ],
             [
              0.8888888888888888,
              "#fdca26"
             ],
             [
              1,
              "#f0f921"
             ]
            ],
            "type": "contour"
           }
          ],
          "contourcarpet": [
           {
            "colorbar": {
             "outlinewidth": 0,
             "ticks": ""
            },
            "type": "contourcarpet"
           }
          ],
          "heatmap": [
           {
            "colorbar": {
             "outlinewidth": 0,
             "ticks": ""
            },
            "colorscale": [
             [
              0,
              "#0d0887"
             ],
             [
              0.1111111111111111,
              "#46039f"
             ],
             [
              0.2222222222222222,
              "#7201a8"
             ],
             [
              0.3333333333333333,
              "#9c179e"
             ],
             [
              0.4444444444444444,
              "#bd3786"
             ],
             [
              0.5555555555555556,
              "#d8576b"
             ],
             [
              0.6666666666666666,
              "#ed7953"
             ],
             [
              0.7777777777777778,
              "#fb9f3a"
             ],
             [
              0.8888888888888888,
              "#fdca26"
             ],
             [
              1,
              "#f0f921"
             ]
            ],
            "type": "heatmap"
           }
          ],
          "heatmapgl": [
           {
            "colorbar": {
             "outlinewidth": 0,
             "ticks": ""
            },
            "colorscale": [
             [
              0,
              "#0d0887"
             ],
             [
              0.1111111111111111,
              "#46039f"
             ],
             [
              0.2222222222222222,
              "#7201a8"
             ],
             [
              0.3333333333333333,
              "#9c179e"
             ],
             [
              0.4444444444444444,
              "#bd3786"
             ],
             [
              0.5555555555555556,
              "#d8576b"
             ],
             [
              0.6666666666666666,
              "#ed7953"
             ],
             [
              0.7777777777777778,
              "#fb9f3a"
             ],
             [
              0.8888888888888888,
              "#fdca26"
             ],
             [
              1,
              "#f0f921"
             ]
            ],
            "type": "heatmapgl"
           }
          ],
          "histogram": [
           {
            "marker": {
             "pattern": {
              "fillmode": "overlay",
              "size": 10,
              "solidity": 0.2
             }
            },
            "type": "histogram"
           }
          ],
          "histogram2d": [
           {
            "colorbar": {
             "outlinewidth": 0,
             "ticks": ""
            },
            "colorscale": [
             [
              0,
              "#0d0887"
             ],
             [
              0.1111111111111111,
              "#46039f"
             ],
             [
              0.2222222222222222,
              "#7201a8"
             ],
             [
              0.3333333333333333,
              "#9c179e"
             ],
             [
              0.4444444444444444,
              "#bd3786"
             ],
             [
              0.5555555555555556,
              "#d8576b"
             ],
             [
              0.6666666666666666,
              "#ed7953"
             ],
             [
              0.7777777777777778,
              "#fb9f3a"
             ],
             [
              0.8888888888888888,
              "#fdca26"
             ],
             [
              1,
              "#f0f921"
             ]
            ],
            "type": "histogram2d"
           }
          ],
          "histogram2dcontour": [
           {
            "colorbar": {
             "outlinewidth": 0,
             "ticks": ""
            },
            "colorscale": [
             [
              0,
              "#0d0887"
             ],
             [
              0.1111111111111111,
              "#46039f"
             ],
             [
              0.2222222222222222,
              "#7201a8"
             ],
             [
              0.3333333333333333,
              "#9c179e"
             ],
             [
              0.4444444444444444,
              "#bd3786"
             ],
             [
              0.5555555555555556,
              "#d8576b"
             ],
             [
              0.6666666666666666,
              "#ed7953"
             ],
             [
              0.7777777777777778,
              "#fb9f3a"
             ],
             [
              0.8888888888888888,
              "#fdca26"
             ],
             [
              1,
              "#f0f921"
             ]
            ],
            "type": "histogram2dcontour"
           }
          ],
          "mesh3d": [
           {
            "colorbar": {
             "outlinewidth": 0,
             "ticks": ""
            },
            "type": "mesh3d"
           }
          ],
          "parcoords": [
           {
            "line": {
             "colorbar": {
              "outlinewidth": 0,
              "ticks": ""
             }
            },
            "type": "parcoords"
           }
          ],
          "pie": [
           {
            "automargin": true,
            "type": "pie"
           }
          ],
          "scatter": [
           {
            "fillpattern": {
             "fillmode": "overlay",
             "size": 10,
             "solidity": 0.2
            },
            "type": "scatter"
           }
          ],
          "scatter3d": [
           {
            "line": {
             "colorbar": {
              "outlinewidth": 0,
              "ticks": ""
             }
            },
            "marker": {
             "colorbar": {
              "outlinewidth": 0,
              "ticks": ""
             }
            },
            "type": "scatter3d"
           }
          ],
          "scattercarpet": [
           {
            "marker": {
             "colorbar": {
              "outlinewidth": 0,
              "ticks": ""
             }
            },
            "type": "scattercarpet"
           }
          ],
          "scattergeo": [
           {
            "marker": {
             "colorbar": {
              "outlinewidth": 0,
              "ticks": ""
             }
            },
            "type": "scattergeo"
           }
          ],
          "scattergl": [
           {
            "marker": {
             "colorbar": {
              "outlinewidth": 0,
              "ticks": ""
             }
            },
            "type": "scattergl"
           }
          ],
          "scattermapbox": [
           {
            "marker": {
             "colorbar": {
              "outlinewidth": 0,
              "ticks": ""
             }
            },
            "type": "scattermapbox"
           }
          ],
          "scatterpolar": [
           {
            "marker": {
             "colorbar": {
              "outlinewidth": 0,
              "ticks": ""
             }
            },
            "type": "scatterpolar"
           }
          ],
          "scatterpolargl": [
           {
            "marker": {
             "colorbar": {
              "outlinewidth": 0,
              "ticks": ""
             }
            },
            "type": "scatterpolargl"
           }
          ],
          "scatterternary": [
           {
            "marker": {
             "colorbar": {
              "outlinewidth": 0,
              "ticks": ""
             }
            },
            "type": "scatterternary"
           }
          ],
          "surface": [
           {
            "colorbar": {
             "outlinewidth": 0,
             "ticks": ""
            },
            "colorscale": [
             [
              0,
              "#0d0887"
             ],
             [
              0.1111111111111111,
              "#46039f"
             ],
             [
              0.2222222222222222,
              "#7201a8"
             ],
             [
              0.3333333333333333,
              "#9c179e"
             ],
             [
              0.4444444444444444,
              "#bd3786"
             ],
             [
              0.5555555555555556,
              "#d8576b"
             ],
             [
              0.6666666666666666,
              "#ed7953"
             ],
             [
              0.7777777777777778,
              "#fb9f3a"
             ],
             [
              0.8888888888888888,
              "#fdca26"
             ],
             [
              1,
              "#f0f921"
             ]
            ],
            "type": "surface"
           }
          ],
          "table": [
           {
            "cells": {
             "fill": {
              "color": "#EBF0F8"
             },
             "line": {
              "color": "white"
             }
            },
            "header": {
             "fill": {
              "color": "#C8D4E3"
             },
             "line": {
              "color": "white"
             }
            },
            "type": "table"
           }
          ]
         },
         "layout": {
          "annotationdefaults": {
           "arrowcolor": "#2a3f5f",
           "arrowhead": 0,
           "arrowwidth": 1
          },
          "autotypenumbers": "strict",
          "coloraxis": {
           "colorbar": {
            "outlinewidth": 0,
            "ticks": ""
           }
          },
          "colorscale": {
           "diverging": [
            [
             0,
             "#8e0152"
            ],
            [
             0.1,
             "#c51b7d"
            ],
            [
             0.2,
             "#de77ae"
            ],
            [
             0.3,
             "#f1b6da"
            ],
            [
             0.4,
             "#fde0ef"
            ],
            [
             0.5,
             "#f7f7f7"
            ],
            [
             0.6,
             "#e6f5d0"
            ],
            [
             0.7,
             "#b8e186"
            ],
            [
             0.8,
             "#7fbc41"
            ],
            [
             0.9,
             "#4d9221"
            ],
            [
             1,
             "#276419"
            ]
           ],
           "sequential": [
            [
             0,
             "#0d0887"
            ],
            [
             0.1111111111111111,
             "#46039f"
            ],
            [
             0.2222222222222222,
             "#7201a8"
            ],
            [
             0.3333333333333333,
             "#9c179e"
            ],
            [
             0.4444444444444444,
             "#bd3786"
            ],
            [
             0.5555555555555556,
             "#d8576b"
            ],
            [
             0.6666666666666666,
             "#ed7953"
            ],
            [
             0.7777777777777778,
             "#fb9f3a"
            ],
            [
             0.8888888888888888,
             "#fdca26"
            ],
            [
             1,
             "#f0f921"
            ]
           ],
           "sequentialminus": [
            [
             0,
             "#0d0887"
            ],
            [
             0.1111111111111111,
             "#46039f"
            ],
            [
             0.2222222222222222,
             "#7201a8"
            ],
            [
             0.3333333333333333,
             "#9c179e"
            ],
            [
             0.4444444444444444,
             "#bd3786"
            ],
            [
             0.5555555555555556,
             "#d8576b"
            ],
            [
             0.6666666666666666,
             "#ed7953"
            ],
            [
             0.7777777777777778,
             "#fb9f3a"
            ],
            [
             0.8888888888888888,
             "#fdca26"
            ],
            [
             1,
             "#f0f921"
            ]
           ]
          },
          "colorway": [
           "#636efa",
           "#EF553B",
           "#00cc96",
           "#ab63fa",
           "#FFA15A",
           "#19d3f3",
           "#FF6692",
           "#B6E880",
           "#FF97FF",
           "#FECB52"
          ],
          "font": {
           "color": "#2a3f5f"
          },
          "geo": {
           "bgcolor": "white",
           "lakecolor": "white",
           "landcolor": "#E5ECF6",
           "showlakes": true,
           "showland": true,
           "subunitcolor": "white"
          },
          "hoverlabel": {
           "align": "left"
          },
          "hovermode": "closest",
          "mapbox": {
           "style": "light"
          },
          "paper_bgcolor": "white",
          "plot_bgcolor": "#E5ECF6",
          "polar": {
           "angularaxis": {
            "gridcolor": "white",
            "linecolor": "white",
            "ticks": ""
           },
           "bgcolor": "#E5ECF6",
           "radialaxis": {
            "gridcolor": "white",
            "linecolor": "white",
            "ticks": ""
           }
          },
          "scene": {
           "xaxis": {
            "backgroundcolor": "#E5ECF6",
            "gridcolor": "white",
            "gridwidth": 2,
            "linecolor": "white",
            "showbackground": true,
            "ticks": "",
            "zerolinecolor": "white"
           },
           "yaxis": {
            "backgroundcolor": "#E5ECF6",
            "gridcolor": "white",
            "gridwidth": 2,
            "linecolor": "white",
            "showbackground": true,
            "ticks": "",
            "zerolinecolor": "white"
           },
           "zaxis": {
            "backgroundcolor": "#E5ECF6",
            "gridcolor": "white",
            "gridwidth": 2,
            "linecolor": "white",
            "showbackground": true,
            "ticks": "",
            "zerolinecolor": "white"
           }
          },
          "shapedefaults": {
           "line": {
            "color": "#2a3f5f"
           }
          },
          "ternary": {
           "aaxis": {
            "gridcolor": "white",
            "linecolor": "white",
            "ticks": ""
           },
           "baxis": {
            "gridcolor": "white",
            "linecolor": "white",
            "ticks": ""
           },
           "bgcolor": "#E5ECF6",
           "caxis": {
            "gridcolor": "white",
            "linecolor": "white",
            "ticks": ""
           }
          },
          "title": {
           "x": 0.05
          },
          "xaxis": {
           "automargin": true,
           "gridcolor": "white",
           "linecolor": "white",
           "ticks": "",
           "title": {
            "standoff": 15
           },
           "zerolinecolor": "white",
           "zerolinewidth": 2
          },
          "yaxis": {
           "automargin": true,
           "gridcolor": "white",
           "linecolor": "white",
           "ticks": "",
           "title": {
            "standoff": 15
           },
           "zerolinecolor": "white",
           "zerolinewidth": 2
          }
         }
        },
        "xaxis": {
         "showticklabels": false
        },
        "yaxis": {
         "showticklabels": false
        }
       }
      }
     },
     "metadata": {},
     "output_type": "display_data"
    },
    {
     "data": {
      "application/vnd.plotly.v1+json": {
       "config": {
        "plotlyServerURL": "https://plot.ly"
       },
       "data": [
        {
         "hoverinfo": "skip",
         "hovertemplate": "<i>Dia</i>: %{x}<br><b>Porcentagem</b>: %{y:.1f}%<br>",
         "line": {
          "color": "blue"
         },
         "marker": {
          "color": "blue"
         },
         "mode": "lines+markers",
         "type": "scatter",
         "x": [
          "2024-02-01",
          "2024-02-02",
          "2024-02-03",
          "2024-02-04",
          "2024-02-05",
          "2024-02-06",
          "2024-02-07",
          "2024-02-08",
          "2024-02-09",
          "2024-02-10",
          "2024-02-11",
          "2024-02-12",
          "2024-02-13",
          "2024-02-14",
          "2024-02-15",
          "2024-02-16",
          "2024-02-17",
          "2024-02-18",
          "2024-02-19",
          "2024-02-20",
          "2024-02-21",
          "2024-02-22",
          "2024-02-23",
          "2024-02-24"
         ],
         "y": [
          40.58722226294154,
          63.05555555555556,
          null,
          null,
          30.697496757876635,
          23.350712236113957,
          21.578489225299307,
          16.89033189033189,
          22.1730777283376,
          14.323422230937673,
          null,
          null,
          27.375,
          42.402371691702434,
          21.559614308499707,
          21.382406771905742,
          25.84054834054834,
          96.66666666666667,
          28.650999510655534,
          22.155622155622154,
          27.301019714454018,
          19.59366931398503,
          36.527688737709326,
          0
         ]
        },
        {
         "hovertemplate": "<b>Meta</b>: %{y:.0f}%<extra></extra>",
         "line": {
          "color": "red",
          "dash": "dash"
         },
         "mode": "lines",
         "name": "Meta",
         "type": "scatter",
         "x": [
          "2024-02-01",
          "2024-02-02",
          "2024-02-03",
          "2024-02-04",
          "2024-02-05",
          "2024-02-06",
          "2024-02-07",
          "2024-02-08",
          "2024-02-09",
          "2024-02-10",
          "2024-02-11",
          "2024-02-12",
          "2024-02-13",
          "2024-02-14",
          "2024-02-15",
          "2024-02-16",
          "2024-02-17",
          "2024-02-18",
          "2024-02-19",
          "2024-02-20",
          "2024-02-21",
          "2024-02-22",
          "2024-02-23",
          "2024-02-24"
         ],
         "y": [
          4,
          4,
          4,
          4,
          4,
          4,
          4,
          4,
          4,
          4,
          4,
          4,
          4,
          4,
          4,
          4,
          4,
          4,
          4,
          4,
          4,
          4,
          4,
          4
         ]
        }
       ],
       "layout": {
        "height": 200,
        "margin": {
         "b": 0,
         "l": 0,
         "r": 0,
         "t": 0
        },
        "plot_bgcolor": "white",
        "showlegend": false,
        "template": {
         "data": {
          "bar": [
           {
            "error_x": {
             "color": "#2a3f5f"
            },
            "error_y": {
             "color": "#2a3f5f"
            },
            "marker": {
             "line": {
              "color": "#E5ECF6",
              "width": 0.5
             },
             "pattern": {
              "fillmode": "overlay",
              "size": 10,
              "solidity": 0.2
             }
            },
            "type": "bar"
           }
          ],
          "barpolar": [
           {
            "marker": {
             "line": {
              "color": "#E5ECF6",
              "width": 0.5
             },
             "pattern": {
              "fillmode": "overlay",
              "size": 10,
              "solidity": 0.2
             }
            },
            "type": "barpolar"
           }
          ],
          "carpet": [
           {
            "aaxis": {
             "endlinecolor": "#2a3f5f",
             "gridcolor": "white",
             "linecolor": "white",
             "minorgridcolor": "white",
             "startlinecolor": "#2a3f5f"
            },
            "baxis": {
             "endlinecolor": "#2a3f5f",
             "gridcolor": "white",
             "linecolor": "white",
             "minorgridcolor": "white",
             "startlinecolor": "#2a3f5f"
            },
            "type": "carpet"
           }
          ],
          "choropleth": [
           {
            "colorbar": {
             "outlinewidth": 0,
             "ticks": ""
            },
            "type": "choropleth"
           }
          ],
          "contour": [
           {
            "colorbar": {
             "outlinewidth": 0,
             "ticks": ""
            },
            "colorscale": [
             [
              0,
              "#0d0887"
             ],
             [
              0.1111111111111111,
              "#46039f"
             ],
             [
              0.2222222222222222,
              "#7201a8"
             ],
             [
              0.3333333333333333,
              "#9c179e"
             ],
             [
              0.4444444444444444,
              "#bd3786"
             ],
             [
              0.5555555555555556,
              "#d8576b"
             ],
             [
              0.6666666666666666,
              "#ed7953"
             ],
             [
              0.7777777777777778,
              "#fb9f3a"
             ],
             [
              0.8888888888888888,
              "#fdca26"
             ],
             [
              1,
              "#f0f921"
             ]
            ],
            "type": "contour"
           }
          ],
          "contourcarpet": [
           {
            "colorbar": {
             "outlinewidth": 0,
             "ticks": ""
            },
            "type": "contourcarpet"
           }
          ],
          "heatmap": [
           {
            "colorbar": {
             "outlinewidth": 0,
             "ticks": ""
            },
            "colorscale": [
             [
              0,
              "#0d0887"
             ],
             [
              0.1111111111111111,
              "#46039f"
             ],
             [
              0.2222222222222222,
              "#7201a8"
             ],
             [
              0.3333333333333333,
              "#9c179e"
             ],
             [
              0.4444444444444444,
              "#bd3786"
             ],
             [
              0.5555555555555556,
              "#d8576b"
             ],
             [
              0.6666666666666666,
              "#ed7953"
             ],
             [
              0.7777777777777778,
              "#fb9f3a"
             ],
             [
              0.8888888888888888,
              "#fdca26"
             ],
             [
              1,
              "#f0f921"
             ]
            ],
            "type": "heatmap"
           }
          ],
          "heatmapgl": [
           {
            "colorbar": {
             "outlinewidth": 0,
             "ticks": ""
            },
            "colorscale": [
             [
              0,
              "#0d0887"
             ],
             [
              0.1111111111111111,
              "#46039f"
             ],
             [
              0.2222222222222222,
              "#7201a8"
             ],
             [
              0.3333333333333333,
              "#9c179e"
             ],
             [
              0.4444444444444444,
              "#bd3786"
             ],
             [
              0.5555555555555556,
              "#d8576b"
             ],
             [
              0.6666666666666666,
              "#ed7953"
             ],
             [
              0.7777777777777778,
              "#fb9f3a"
             ],
             [
              0.8888888888888888,
              "#fdca26"
             ],
             [
              1,
              "#f0f921"
             ]
            ],
            "type": "heatmapgl"
           }
          ],
          "histogram": [
           {
            "marker": {
             "pattern": {
              "fillmode": "overlay",
              "size": 10,
              "solidity": 0.2
             }
            },
            "type": "histogram"
           }
          ],
          "histogram2d": [
           {
            "colorbar": {
             "outlinewidth": 0,
             "ticks": ""
            },
            "colorscale": [
             [
              0,
              "#0d0887"
             ],
             [
              0.1111111111111111,
              "#46039f"
             ],
             [
              0.2222222222222222,
              "#7201a8"
             ],
             [
              0.3333333333333333,
              "#9c179e"
             ],
             [
              0.4444444444444444,
              "#bd3786"
             ],
             [
              0.5555555555555556,
              "#d8576b"
             ],
             [
              0.6666666666666666,
              "#ed7953"
             ],
             [
              0.7777777777777778,
              "#fb9f3a"
             ],
             [
              0.8888888888888888,
              "#fdca26"
             ],
             [
              1,
              "#f0f921"
             ]
            ],
            "type": "histogram2d"
           }
          ],
          "histogram2dcontour": [
           {
            "colorbar": {
             "outlinewidth": 0,
             "ticks": ""
            },
            "colorscale": [
             [
              0,
              "#0d0887"
             ],
             [
              0.1111111111111111,
              "#46039f"
             ],
             [
              0.2222222222222222,
              "#7201a8"
             ],
             [
              0.3333333333333333,
              "#9c179e"
             ],
             [
              0.4444444444444444,
              "#bd3786"
             ],
             [
              0.5555555555555556,
              "#d8576b"
             ],
             [
              0.6666666666666666,
              "#ed7953"
             ],
             [
              0.7777777777777778,
              "#fb9f3a"
             ],
             [
              0.8888888888888888,
              "#fdca26"
             ],
             [
              1,
              "#f0f921"
             ]
            ],
            "type": "histogram2dcontour"
           }
          ],
          "mesh3d": [
           {
            "colorbar": {
             "outlinewidth": 0,
             "ticks": ""
            },
            "type": "mesh3d"
           }
          ],
          "parcoords": [
           {
            "line": {
             "colorbar": {
              "outlinewidth": 0,
              "ticks": ""
             }
            },
            "type": "parcoords"
           }
          ],
          "pie": [
           {
            "automargin": true,
            "type": "pie"
           }
          ],
          "scatter": [
           {
            "fillpattern": {
             "fillmode": "overlay",
             "size": 10,
             "solidity": 0.2
            },
            "type": "scatter"
           }
          ],
          "scatter3d": [
           {
            "line": {
             "colorbar": {
              "outlinewidth": 0,
              "ticks": ""
             }
            },
            "marker": {
             "colorbar": {
              "outlinewidth": 0,
              "ticks": ""
             }
            },
            "type": "scatter3d"
           }
          ],
          "scattercarpet": [
           {
            "marker": {
             "colorbar": {
              "outlinewidth": 0,
              "ticks": ""
             }
            },
            "type": "scattercarpet"
           }
          ],
          "scattergeo": [
           {
            "marker": {
             "colorbar": {
              "outlinewidth": 0,
              "ticks": ""
             }
            },
            "type": "scattergeo"
           }
          ],
          "scattergl": [
           {
            "marker": {
             "colorbar": {
              "outlinewidth": 0,
              "ticks": ""
             }
            },
            "type": "scattergl"
           }
          ],
          "scattermapbox": [
           {
            "marker": {
             "colorbar": {
              "outlinewidth": 0,
              "ticks": ""
             }
            },
            "type": "scattermapbox"
           }
          ],
          "scatterpolar": [
           {
            "marker": {
             "colorbar": {
              "outlinewidth": 0,
              "ticks": ""
             }
            },
            "type": "scatterpolar"
           }
          ],
          "scatterpolargl": [
           {
            "marker": {
             "colorbar": {
              "outlinewidth": 0,
              "ticks": ""
             }
            },
            "type": "scatterpolargl"
           }
          ],
          "scatterternary": [
           {
            "marker": {
             "colorbar": {
              "outlinewidth": 0,
              "ticks": ""
             }
            },
            "type": "scatterternary"
           }
          ],
          "surface": [
           {
            "colorbar": {
             "outlinewidth": 0,
             "ticks": ""
            },
            "colorscale": [
             [
              0,
              "#0d0887"
             ],
             [
              0.1111111111111111,
              "#46039f"
             ],
             [
              0.2222222222222222,
              "#7201a8"
             ],
             [
              0.3333333333333333,
              "#9c179e"
             ],
             [
              0.4444444444444444,
              "#bd3786"
             ],
             [
              0.5555555555555556,
              "#d8576b"
             ],
             [
              0.6666666666666666,
              "#ed7953"
             ],
             [
              0.7777777777777778,
              "#fb9f3a"
             ],
             [
              0.8888888888888888,
              "#fdca26"
             ],
             [
              1,
              "#f0f921"
             ]
            ],
            "type": "surface"
           }
          ],
          "table": [
           {
            "cells": {
             "fill": {
              "color": "#EBF0F8"
             },
             "line": {
              "color": "white"
             }
            },
            "header": {
             "fill": {
              "color": "#C8D4E3"
             },
             "line": {
              "color": "white"
             }
            },
            "type": "table"
           }
          ]
         },
         "layout": {
          "annotationdefaults": {
           "arrowcolor": "#2a3f5f",
           "arrowhead": 0,
           "arrowwidth": 1
          },
          "autotypenumbers": "strict",
          "coloraxis": {
           "colorbar": {
            "outlinewidth": 0,
            "ticks": ""
           }
          },
          "colorscale": {
           "diverging": [
            [
             0,
             "#8e0152"
            ],
            [
             0.1,
             "#c51b7d"
            ],
            [
             0.2,
             "#de77ae"
            ],
            [
             0.3,
             "#f1b6da"
            ],
            [
             0.4,
             "#fde0ef"
            ],
            [
             0.5,
             "#f7f7f7"
            ],
            [
             0.6,
             "#e6f5d0"
            ],
            [
             0.7,
             "#b8e186"
            ],
            [
             0.8,
             "#7fbc41"
            ],
            [
             0.9,
             "#4d9221"
            ],
            [
             1,
             "#276419"
            ]
           ],
           "sequential": [
            [
             0,
             "#0d0887"
            ],
            [
             0.1111111111111111,
             "#46039f"
            ],
            [
             0.2222222222222222,
             "#7201a8"
            ],
            [
             0.3333333333333333,
             "#9c179e"
            ],
            [
             0.4444444444444444,
             "#bd3786"
            ],
            [
             0.5555555555555556,
             "#d8576b"
            ],
            [
             0.6666666666666666,
             "#ed7953"
            ],
            [
             0.7777777777777778,
             "#fb9f3a"
            ],
            [
             0.8888888888888888,
             "#fdca26"
            ],
            [
             1,
             "#f0f921"
            ]
           ],
           "sequentialminus": [
            [
             0,
             "#0d0887"
            ],
            [
             0.1111111111111111,
             "#46039f"
            ],
            [
             0.2222222222222222,
             "#7201a8"
            ],
            [
             0.3333333333333333,
             "#9c179e"
            ],
            [
             0.4444444444444444,
             "#bd3786"
            ],
            [
             0.5555555555555556,
             "#d8576b"
            ],
            [
             0.6666666666666666,
             "#ed7953"
            ],
            [
             0.7777777777777778,
             "#fb9f3a"
            ],
            [
             0.8888888888888888,
             "#fdca26"
            ],
            [
             1,
             "#f0f921"
            ]
           ]
          },
          "colorway": [
           "#636efa",
           "#EF553B",
           "#00cc96",
           "#ab63fa",
           "#FFA15A",
           "#19d3f3",
           "#FF6692",
           "#B6E880",
           "#FF97FF",
           "#FECB52"
          ],
          "font": {
           "color": "#2a3f5f"
          },
          "geo": {
           "bgcolor": "white",
           "lakecolor": "white",
           "landcolor": "#E5ECF6",
           "showlakes": true,
           "showland": true,
           "subunitcolor": "white"
          },
          "hoverlabel": {
           "align": "left"
          },
          "hovermode": "closest",
          "mapbox": {
           "style": "light"
          },
          "paper_bgcolor": "white",
          "plot_bgcolor": "#E5ECF6",
          "polar": {
           "angularaxis": {
            "gridcolor": "white",
            "linecolor": "white",
            "ticks": ""
           },
           "bgcolor": "#E5ECF6",
           "radialaxis": {
            "gridcolor": "white",
            "linecolor": "white",
            "ticks": ""
           }
          },
          "scene": {
           "xaxis": {
            "backgroundcolor": "#E5ECF6",
            "gridcolor": "white",
            "gridwidth": 2,
            "linecolor": "white",
            "showbackground": true,
            "ticks": "",
            "zerolinecolor": "white"
           },
           "yaxis": {
            "backgroundcolor": "#E5ECF6",
            "gridcolor": "white",
            "gridwidth": 2,
            "linecolor": "white",
            "showbackground": true,
            "ticks": "",
            "zerolinecolor": "white"
           },
           "zaxis": {
            "backgroundcolor": "#E5ECF6",
            "gridcolor": "white",
            "gridwidth": 2,
            "linecolor": "white",
            "showbackground": true,
            "ticks": "",
            "zerolinecolor": "white"
           }
          },
          "shapedefaults": {
           "line": {
            "color": "#2a3f5f"
           }
          },
          "ternary": {
           "aaxis": {
            "gridcolor": "white",
            "linecolor": "white",
            "ticks": ""
           },
           "baxis": {
            "gridcolor": "white",
            "linecolor": "white",
            "ticks": ""
           },
           "bgcolor": "#E5ECF6",
           "caxis": {
            "gridcolor": "white",
            "linecolor": "white",
            "ticks": ""
           }
          },
          "title": {
           "x": 0.05
          },
          "xaxis": {
           "automargin": true,
           "gridcolor": "white",
           "linecolor": "white",
           "ticks": "",
           "title": {
            "standoff": 15
           },
           "zerolinecolor": "white",
           "zerolinewidth": 2
          },
          "yaxis": {
           "automargin": true,
           "gridcolor": "white",
           "linecolor": "white",
           "ticks": "",
           "title": {
            "standoff": 15
           },
           "zerolinecolor": "white",
           "zerolinewidth": 2
          }
         }
        },
        "xaxis": {
         "showticklabels": false
        },
        "yaxis": {
         "showticklabels": false
        }
       }
      }
     },
     "metadata": {},
     "output_type": "display_data"
    },
    {
     "data": {
      "application/vnd.plotly.v1+json": {
       "config": {
        "plotlyServerURL": "https://plot.ly"
       },
       "data": [
        {
         "hoverinfo": "skip",
         "hovertemplate": "<i>Dia</i>: %{x}<br><b>Porcentagem</b>: %{y:.1f}%<br>",
         "line": {
          "color": "blue"
         },
         "marker": {
          "color": "blue"
         },
         "mode": "lines+markers",
         "type": "scatter",
         "x": [
          "2024-02-01",
          "2024-02-02",
          "2024-02-03",
          "2024-02-04",
          "2024-02-05",
          "2024-02-06",
          "2024-02-07",
          "2024-02-08",
          "2024-02-09",
          "2024-02-10",
          "2024-02-11",
          "2024-02-12",
          "2024-02-13",
          "2024-02-14",
          "2024-02-15",
          "2024-02-16",
          "2024-02-17",
          "2024-02-18",
          "2024-02-19",
          "2024-02-20",
          "2024-02-21",
          "2024-02-22",
          "2024-02-23",
          "2024-02-24"
         ],
         "y": [
          0.02314814814814815,
          0,
          null,
          null,
          2.584635416666667,
          0.9436274509803921,
          1.7769607843137254,
          0.07575757575757576,
          0.698529411764706,
          0.685483870967742,
          null,
          null,
          0,
          1.9921874999999998,
          0.6317204301075269,
          0.06720430107526881,
          0.2398989898989899,
          0,
          2.9629629629629632,
          7.2601010101010095,
          1.0026041666666667,
          5.255376344086021,
          0.3044871794871795,
          0
         ]
        },
        {
         "hovertemplate": "<b>Meta</b>: %{y:.0f}%<extra></extra>",
         "line": {
          "color": "red",
          "dash": "dash"
         },
         "mode": "lines",
         "name": "Meta",
         "type": "scatter",
         "x": [
          "2024-02-01",
          "2024-02-02",
          "2024-02-03",
          "2024-02-04",
          "2024-02-05",
          "2024-02-06",
          "2024-02-07",
          "2024-02-08",
          "2024-02-09",
          "2024-02-10",
          "2024-02-11",
          "2024-02-12",
          "2024-02-13",
          "2024-02-14",
          "2024-02-15",
          "2024-02-16",
          "2024-02-17",
          "2024-02-18",
          "2024-02-19",
          "2024-02-20",
          "2024-02-21",
          "2024-02-22",
          "2024-02-23",
          "2024-02-24"
         ],
         "y": [
          4,
          4,
          4,
          4,
          4,
          4,
          4,
          4,
          4,
          4,
          4,
          4,
          4,
          4,
          4,
          4,
          4,
          4,
          4,
          4,
          4,
          4,
          4,
          4
         ]
        }
       ],
       "layout": {
        "height": 200,
        "margin": {
         "b": 0,
         "l": 0,
         "r": 0,
         "t": 0
        },
        "plot_bgcolor": "white",
        "showlegend": false,
        "template": {
         "data": {
          "bar": [
           {
            "error_x": {
             "color": "#2a3f5f"
            },
            "error_y": {
             "color": "#2a3f5f"
            },
            "marker": {
             "line": {
              "color": "#E5ECF6",
              "width": 0.5
             },
             "pattern": {
              "fillmode": "overlay",
              "size": 10,
              "solidity": 0.2
             }
            },
            "type": "bar"
           }
          ],
          "barpolar": [
           {
            "marker": {
             "line": {
              "color": "#E5ECF6",
              "width": 0.5
             },
             "pattern": {
              "fillmode": "overlay",
              "size": 10,
              "solidity": 0.2
             }
            },
            "type": "barpolar"
           }
          ],
          "carpet": [
           {
            "aaxis": {
             "endlinecolor": "#2a3f5f",
             "gridcolor": "white",
             "linecolor": "white",
             "minorgridcolor": "white",
             "startlinecolor": "#2a3f5f"
            },
            "baxis": {
             "endlinecolor": "#2a3f5f",
             "gridcolor": "white",
             "linecolor": "white",
             "minorgridcolor": "white",
             "startlinecolor": "#2a3f5f"
            },
            "type": "carpet"
           }
          ],
          "choropleth": [
           {
            "colorbar": {
             "outlinewidth": 0,
             "ticks": ""
            },
            "type": "choropleth"
           }
          ],
          "contour": [
           {
            "colorbar": {
             "outlinewidth": 0,
             "ticks": ""
            },
            "colorscale": [
             [
              0,
              "#0d0887"
             ],
             [
              0.1111111111111111,
              "#46039f"
             ],
             [
              0.2222222222222222,
              "#7201a8"
             ],
             [
              0.3333333333333333,
              "#9c179e"
             ],
             [
              0.4444444444444444,
              "#bd3786"
             ],
             [
              0.5555555555555556,
              "#d8576b"
             ],
             [
              0.6666666666666666,
              "#ed7953"
             ],
             [
              0.7777777777777778,
              "#fb9f3a"
             ],
             [
              0.8888888888888888,
              "#fdca26"
             ],
             [
              1,
              "#f0f921"
             ]
            ],
            "type": "contour"
           }
          ],
          "contourcarpet": [
           {
            "colorbar": {
             "outlinewidth": 0,
             "ticks": ""
            },
            "type": "contourcarpet"
           }
          ],
          "heatmap": [
           {
            "colorbar": {
             "outlinewidth": 0,
             "ticks": ""
            },
            "colorscale": [
             [
              0,
              "#0d0887"
             ],
             [
              0.1111111111111111,
              "#46039f"
             ],
             [
              0.2222222222222222,
              "#7201a8"
             ],
             [
              0.3333333333333333,
              "#9c179e"
             ],
             [
              0.4444444444444444,
              "#bd3786"
             ],
             [
              0.5555555555555556,
              "#d8576b"
             ],
             [
              0.6666666666666666,
              "#ed7953"
             ],
             [
              0.7777777777777778,
              "#fb9f3a"
             ],
             [
              0.8888888888888888,
              "#fdca26"
             ],
             [
              1,
              "#f0f921"
             ]
            ],
            "type": "heatmap"
           }
          ],
          "heatmapgl": [
           {
            "colorbar": {
             "outlinewidth": 0,
             "ticks": ""
            },
            "colorscale": [
             [
              0,
              "#0d0887"
             ],
             [
              0.1111111111111111,
              "#46039f"
             ],
             [
              0.2222222222222222,
              "#7201a8"
             ],
             [
              0.3333333333333333,
              "#9c179e"
             ],
             [
              0.4444444444444444,
              "#bd3786"
             ],
             [
              0.5555555555555556,
              "#d8576b"
             ],
             [
              0.6666666666666666,
              "#ed7953"
             ],
             [
              0.7777777777777778,
              "#fb9f3a"
             ],
             [
              0.8888888888888888,
              "#fdca26"
             ],
             [
              1,
              "#f0f921"
             ]
            ],
            "type": "heatmapgl"
           }
          ],
          "histogram": [
           {
            "marker": {
             "pattern": {
              "fillmode": "overlay",
              "size": 10,
              "solidity": 0.2
             }
            },
            "type": "histogram"
           }
          ],
          "histogram2d": [
           {
            "colorbar": {
             "outlinewidth": 0,
             "ticks": ""
            },
            "colorscale": [
             [
              0,
              "#0d0887"
             ],
             [
              0.1111111111111111,
              "#46039f"
             ],
             [
              0.2222222222222222,
              "#7201a8"
             ],
             [
              0.3333333333333333,
              "#9c179e"
             ],
             [
              0.4444444444444444,
              "#bd3786"
             ],
             [
              0.5555555555555556,
              "#d8576b"
             ],
             [
              0.6666666666666666,
              "#ed7953"
             ],
             [
              0.7777777777777778,
              "#fb9f3a"
             ],
             [
              0.8888888888888888,
              "#fdca26"
             ],
             [
              1,
              "#f0f921"
             ]
            ],
            "type": "histogram2d"
           }
          ],
          "histogram2dcontour": [
           {
            "colorbar": {
             "outlinewidth": 0,
             "ticks": ""
            },
            "colorscale": [
             [
              0,
              "#0d0887"
             ],
             [
              0.1111111111111111,
              "#46039f"
             ],
             [
              0.2222222222222222,
              "#7201a8"
             ],
             [
              0.3333333333333333,
              "#9c179e"
             ],
             [
              0.4444444444444444,
              "#bd3786"
             ],
             [
              0.5555555555555556,
              "#d8576b"
             ],
             [
              0.6666666666666666,
              "#ed7953"
             ],
             [
              0.7777777777777778,
              "#fb9f3a"
             ],
             [
              0.8888888888888888,
              "#fdca26"
             ],
             [
              1,
              "#f0f921"
             ]
            ],
            "type": "histogram2dcontour"
           }
          ],
          "mesh3d": [
           {
            "colorbar": {
             "outlinewidth": 0,
             "ticks": ""
            },
            "type": "mesh3d"
           }
          ],
          "parcoords": [
           {
            "line": {
             "colorbar": {
              "outlinewidth": 0,
              "ticks": ""
             }
            },
            "type": "parcoords"
           }
          ],
          "pie": [
           {
            "automargin": true,
            "type": "pie"
           }
          ],
          "scatter": [
           {
            "fillpattern": {
             "fillmode": "overlay",
             "size": 10,
             "solidity": 0.2
            },
            "type": "scatter"
           }
          ],
          "scatter3d": [
           {
            "line": {
             "colorbar": {
              "outlinewidth": 0,
              "ticks": ""
             }
            },
            "marker": {
             "colorbar": {
              "outlinewidth": 0,
              "ticks": ""
             }
            },
            "type": "scatter3d"
           }
          ],
          "scattercarpet": [
           {
            "marker": {
             "colorbar": {
              "outlinewidth": 0,
              "ticks": ""
             }
            },
            "type": "scattercarpet"
           }
          ],
          "scattergeo": [
           {
            "marker": {
             "colorbar": {
              "outlinewidth": 0,
              "ticks": ""
             }
            },
            "type": "scattergeo"
           }
          ],
          "scattergl": [
           {
            "marker": {
             "colorbar": {
              "outlinewidth": 0,
              "ticks": ""
             }
            },
            "type": "scattergl"
           }
          ],
          "scattermapbox": [
           {
            "marker": {
             "colorbar": {
              "outlinewidth": 0,
              "ticks": ""
             }
            },
            "type": "scattermapbox"
           }
          ],
          "scatterpolar": [
           {
            "marker": {
             "colorbar": {
              "outlinewidth": 0,
              "ticks": ""
             }
            },
            "type": "scatterpolar"
           }
          ],
          "scatterpolargl": [
           {
            "marker": {
             "colorbar": {
              "outlinewidth": 0,
              "ticks": ""
             }
            },
            "type": "scatterpolargl"
           }
          ],
          "scatterternary": [
           {
            "marker": {
             "colorbar": {
              "outlinewidth": 0,
              "ticks": ""
             }
            },
            "type": "scatterternary"
           }
          ],
          "surface": [
           {
            "colorbar": {
             "outlinewidth": 0,
             "ticks": ""
            },
            "colorscale": [
             [
              0,
              "#0d0887"
             ],
             [
              0.1111111111111111,
              "#46039f"
             ],
             [
              0.2222222222222222,
              "#7201a8"
             ],
             [
              0.3333333333333333,
              "#9c179e"
             ],
             [
              0.4444444444444444,
              "#bd3786"
             ],
             [
              0.5555555555555556,
              "#d8576b"
             ],
             [
              0.6666666666666666,
              "#ed7953"
             ],
             [
              0.7777777777777778,
              "#fb9f3a"
             ],
             [
              0.8888888888888888,
              "#fdca26"
             ],
             [
              1,
              "#f0f921"
             ]
            ],
            "type": "surface"
           }
          ],
          "table": [
           {
            "cells": {
             "fill": {
              "color": "#EBF0F8"
             },
             "line": {
              "color": "white"
             }
            },
            "header": {
             "fill": {
              "color": "#C8D4E3"
             },
             "line": {
              "color": "white"
             }
            },
            "type": "table"
           }
          ]
         },
         "layout": {
          "annotationdefaults": {
           "arrowcolor": "#2a3f5f",
           "arrowhead": 0,
           "arrowwidth": 1
          },
          "autotypenumbers": "strict",
          "coloraxis": {
           "colorbar": {
            "outlinewidth": 0,
            "ticks": ""
           }
          },
          "colorscale": {
           "diverging": [
            [
             0,
             "#8e0152"
            ],
            [
             0.1,
             "#c51b7d"
            ],
            [
             0.2,
             "#de77ae"
            ],
            [
             0.3,
             "#f1b6da"
            ],
            [
             0.4,
             "#fde0ef"
            ],
            [
             0.5,
             "#f7f7f7"
            ],
            [
             0.6,
             "#e6f5d0"
            ],
            [
             0.7,
             "#b8e186"
            ],
            [
             0.8,
             "#7fbc41"
            ],
            [
             0.9,
             "#4d9221"
            ],
            [
             1,
             "#276419"
            ]
           ],
           "sequential": [
            [
             0,
             "#0d0887"
            ],
            [
             0.1111111111111111,
             "#46039f"
            ],
            [
             0.2222222222222222,
             "#7201a8"
            ],
            [
             0.3333333333333333,
             "#9c179e"
            ],
            [
             0.4444444444444444,
             "#bd3786"
            ],
            [
             0.5555555555555556,
             "#d8576b"
            ],
            [
             0.6666666666666666,
             "#ed7953"
            ],
            [
             0.7777777777777778,
             "#fb9f3a"
            ],
            [
             0.8888888888888888,
             "#fdca26"
            ],
            [
             1,
             "#f0f921"
            ]
           ],
           "sequentialminus": [
            [
             0,
             "#0d0887"
            ],
            [
             0.1111111111111111,
             "#46039f"
            ],
            [
             0.2222222222222222,
             "#7201a8"
            ],
            [
             0.3333333333333333,
             "#9c179e"
            ],
            [
             0.4444444444444444,
             "#bd3786"
            ],
            [
             0.5555555555555556,
             "#d8576b"
            ],
            [
             0.6666666666666666,
             "#ed7953"
            ],
            [
             0.7777777777777778,
             "#fb9f3a"
            ],
            [
             0.8888888888888888,
             "#fdca26"
            ],
            [
             1,
             "#f0f921"
            ]
           ]
          },
          "colorway": [
           "#636efa",
           "#EF553B",
           "#00cc96",
           "#ab63fa",
           "#FFA15A",
           "#19d3f3",
           "#FF6692",
           "#B6E880",
           "#FF97FF",
           "#FECB52"
          ],
          "font": {
           "color": "#2a3f5f"
          },
          "geo": {
           "bgcolor": "white",
           "lakecolor": "white",
           "landcolor": "#E5ECF6",
           "showlakes": true,
           "showland": true,
           "subunitcolor": "white"
          },
          "hoverlabel": {
           "align": "left"
          },
          "hovermode": "closest",
          "mapbox": {
           "style": "light"
          },
          "paper_bgcolor": "white",
          "plot_bgcolor": "#E5ECF6",
          "polar": {
           "angularaxis": {
            "gridcolor": "white",
            "linecolor": "white",
            "ticks": ""
           },
           "bgcolor": "#E5ECF6",
           "radialaxis": {
            "gridcolor": "white",
            "linecolor": "white",
            "ticks": ""
           }
          },
          "scene": {
           "xaxis": {
            "backgroundcolor": "#E5ECF6",
            "gridcolor": "white",
            "gridwidth": 2,
            "linecolor": "white",
            "showbackground": true,
            "ticks": "",
            "zerolinecolor": "white"
           },
           "yaxis": {
            "backgroundcolor": "#E5ECF6",
            "gridcolor": "white",
            "gridwidth": 2,
            "linecolor": "white",
            "showbackground": true,
            "ticks": "",
            "zerolinecolor": "white"
           },
           "zaxis": {
            "backgroundcolor": "#E5ECF6",
            "gridcolor": "white",
            "gridwidth": 2,
            "linecolor": "white",
            "showbackground": true,
            "ticks": "",
            "zerolinecolor": "white"
           }
          },
          "shapedefaults": {
           "line": {
            "color": "#2a3f5f"
           }
          },
          "ternary": {
           "aaxis": {
            "gridcolor": "white",
            "linecolor": "white",
            "ticks": ""
           },
           "baxis": {
            "gridcolor": "white",
            "linecolor": "white",
            "ticks": ""
           },
           "bgcolor": "#E5ECF6",
           "caxis": {
            "gridcolor": "white",
            "linecolor": "white",
            "ticks": ""
           }
          },
          "title": {
           "x": 0.05
          },
          "xaxis": {
           "automargin": true,
           "gridcolor": "white",
           "linecolor": "white",
           "ticks": "",
           "title": {
            "standoff": 15
           },
           "zerolinecolor": "white",
           "zerolinewidth": 2
          },
          "yaxis": {
           "automargin": true,
           "gridcolor": "white",
           "linecolor": "white",
           "ticks": "",
           "title": {
            "standoff": 15
           },
           "zerolinecolor": "white",
           "zerolinewidth": 2
          }
         }
        },
        "xaxis": {
         "showticklabels": false
        },
        "yaxis": {
         "showticklabels": false
        }
       }
      }
     },
     "metadata": {},
     "output_type": "display_data"
    }
   ],
   "source": [
    "# Line Graph\n",
    "# cSpell: disable=invalid-name\n",
    "def line_graph(df: pd.DataFrame, indicator: str, meta: int):\n",
    "    # Converter 'data_registro' para datetime e criar uma nova coluna 'data_turno'\n",
    "\n",
    "    df[\"data_registro\"] = pd.to_datetime(df[\"data_registro\"])\n",
    "\n",
    "    df[\"data_turno\"] = df[\"data_registro\"].dt.strftime(\"%Y-%m-%d\")\n",
    "\n",
    "    # Agrupar por 'data_turno' e 'turno' e calcular a média da eficiência\n",
    "\n",
    "    df_grouped = df.groupby([\"data_turno\"])[indicator].mean().reset_index()\n",
    "\n",
    "    # Multiplicar a eficiência por 100 para converter para porcentagem\n",
    "\n",
    "    df_grouped[indicator] = df_grouped[indicator] * 100\n",
    "\n",
    "    # Criar o gráfico\n",
    "\n",
    "    fig = go.Figure(\n",
    "        go.Scatter(\n",
    "            x=df_grouped[\"data_turno\"],\n",
    "            y=df_grouped[indicator],\n",
    "            mode=\"lines+markers\",\n",
    "            line=dict(color=\"blue\"),\n",
    "            marker=dict(color=\"blue\"),\n",
    "            hovertemplate=\"<i>Dia</i>: %{x}\" + \"<br><b>Porcentagem</b>: %{y:.1f}%<br>\",\n",
    "            hoverinfo=\"skip\",\n",
    "        )\n",
    "    )\n",
    "\n",
    "    # Linha de meta\n",
    "    fig.add_trace(\n",
    "        go.Scatter(\n",
    "            x=df_grouped[\"data_turno\"],\n",
    "            y=[meta] * len(df_grouped),\n",
    "            mode=\"lines\",\n",
    "            name=\"Meta\",\n",
    "            line=dict(color=\"red\", dash=\"dash\"),\n",
    "            hovertemplate=\"<b>Meta</b>: %{y:.0f}%<extra></extra>\",\n",
    "        )\n",
    "    )\n",
    "\n",
    "    fig.update_layout(\n",
    "        showlegend=False,\n",
    "        plot_bgcolor=\"white\",\n",
    "        xaxis=dict(showticklabels=False),  # Esconde os valores do eixo x\n",
    "        yaxis=dict(showticklabels=False),\n",
    "        margin=dict(t=0, b=0, l=0, r=0),\n",
    "        # height=None, # removido apenas para visualização no jupyter\n",
    "        # autosize=True, # removido apenas para visualização no jupyter\n",
    "        height=200,  # apenas para visualização no jupyter\n",
    "    )\n",
    "\n",
    "    fig.show()\n",
    "\n",
    "\n",
    "line_graph(df_eff, \"eficiencia\", 90)\n",
    "\n",
    "\n",
    "line_graph(df_perf, \"performance\", 4)\n",
    "\n",
    "\n",
    "line_graph(df_reparos, \"reparo\", 4)"
   ]
  },
  {
   "cell_type": "code",
   "execution_count": null,
   "metadata": {},
   "outputs": [],
   "source": [
    "# indicator_turn.py\n",
    "# cSpell: disable=invalid-name\n",
    "import matplotlib.colors as mcolors\n",
    "import seaborn as sns\n",
    "\n",
    "\n",
    "class IndicatorsTurn:\n",
    "    \"\"\"\n",
    "    Esta classe é responsável por criar os gráficos de indicadores.\n",
    "    \"\"\"\n",
    "\n",
    "    def __init__(self):\n",
    "        self.danger_color = \"#dc3545\"\n",
    "        self.warning_color = \"#ffc107\"\n",
    "        self.success_color = \"#198754\"\n",
    "        self.grey_500_color = \"#adb5bd\"\n",
    "        self.grey_600_color = \"#6c757d\"\n",
    "        self.grey_700_color = \"#495057\"\n",
    "        self.grey_800_color = \"#343a40\"\n",
    "        self.grey_900_color = \"#212529\"\n",
    "\n",
    "    def get_eff_heat_turn(\n",
    "        self,\n",
    "        dataframe: pd.DataFrame,\n",
    "        meta: int = 90,\n",
    "        annotations: bool = False,\n",
    "    ) -> go.Figure:\n",
    "        \"\"\"\n",
    "        Este método é responsável por criar o gráfico de eficiência, por turno.\n",
    "\n",
    "        Parâmetros:\n",
    "        dataframe (pd.DataFrame): DataFrame contendo os dados para o gráfico.\n",
    "                                Deve incluir as colunas 'data_registro', 'turno' e 'eficiencia'.\n",
    "        meta (int): Meta de eficiência a ser alcançada. Padrão: 90.\n",
    "        annotations (bool): Se True, adiciona anotações com a média da eficiência.\n",
    "\n",
    "        Retorna:\n",
    "        fig: Objeto plotly.graph_objects.Figure com o gráfico de eficiência.\n",
    "\n",
    "        O gráfico é um heatmap que mostra a eficiência média por maquina e data.\n",
    "        A eficiência é colorida de vermelho se estiver abaixo de 90% e\n",
    "        de verde se estiver acima de 90%.\n",
    "        \"\"\"\n",
    "\n",
    "        # Converter 'data_registro' para datetime e criar uma nova coluna 'data_turno'\n",
    "        dataframe[\"data_registro\"] = pd.to_datetime(dataframe[\"data_registro\"])\n",
    "        dataframe[\"data_turno\"] = dataframe[\"data_registro\"].dt.strftime(\"%Y-%m-%d\")\n",
    "\n",
    "        # Agrupar por 'data_turno' e 'turno' e calcular a média da eficiência\n",
    "        df_grouped = (\n",
    "            dataframe.groupby([\"data_turno\", \"linha\"], observed=False)[\"eficiencia\"]\n",
    "            .mean()\n",
    "            .reset_index()\n",
    "        )\n",
    "\n",
    "        # Ordenar por linha e data\n",
    "        df_grouped = df_grouped.sort_values([\"linha\", \"data_turno\"], ascending=[True, True])\n",
    "\n",
    "        # Remodelar os dados para o formato de heatmap\n",
    "        df_pivot = df_grouped.pivot(index=\"linha\", columns=\"data_turno\", values=\"eficiencia\")\n",
    "\n",
    "        # Criar escala de cores personalizada - cores do bootstrap\n",
    "        colors = [\n",
    "            [0, self.danger_color],\n",
    "            [0.9, self.danger_color],\n",
    "            [0.9, self.success_color],\n",
    "            [1, self.success_color],\n",
    "        ]\n",
    "\n",
    "        # Extrair apenas o dia da data\n",
    "        df_pivot.columns = pd.to_datetime(df_pivot.columns).day\n",
    "\n",
    "        num_cells = len(df_pivot.index) * len(df_pivot.columns)\n",
    "        font_size = 3000 / num_cells\n",
    "\n",
    "        # Criar o gráfico de calor\n",
    "        fig = go.Figure(\n",
    "            data=go.Heatmap(\n",
    "                z=df_pivot.values,\n",
    "                x=df_pivot.columns,\n",
    "                y=df_pivot.index,\n",
    "                colorscale=colors,\n",
    "                zmin=0,\n",
    "                zmax=1,  # Escala de valores de 0 a 1\n",
    "                hoverongaps=False,\n",
    "                hovertemplate=\"Linha: %{y}<br>Dia: %{x}<br>Eficiência: %{z:.1%}\",\n",
    "                showscale=False,  # Não mostrar a escala de cores\n",
    "                xgap=1,  # Espaçamento entre os dias\n",
    "                ygap=1,  # Espaçamento entre os turnos\n",
    "            )\n",
    "        )\n",
    "\n",
    "        # Adicionar anotações com a média da eficiência\n",
    "        if annotations:\n",
    "            for (i, j), value in np.ndenumerate(df_pivot.values):\n",
    "                fig.add_annotation(\n",
    "                    x=df_pivot.columns[j],\n",
    "                    y=df_pivot.index[i],\n",
    "                    text=f\"{value:.1%}\",\n",
    "                    showarrow=False,\n",
    "                    font=dict(color=\"white\", size=font_size),\n",
    "                )\n",
    "\n",
    "        # Definir o título do gráfico\n",
    "        fig.update_layout(\n",
    "            title=f\"Eficiência - Meta {meta}%\",\n",
    "            xaxis_title=\"Dia\",\n",
    "            yaxis_title=\"Linha\",\n",
    "            title_x=0.5,  # Centralizar o título\n",
    "            xaxis_nticks=31,  # Definir o número de dias\n",
    "            xaxis=dict(\n",
    "                tickmode=\"linear\",\n",
    "                tickvals=list(range(1, 32)),  # Definir os dias\n",
    "                ticktext=list(range(1, 32)),  # Definir os dias\n",
    "                tickangle=45,  # Rotacionar os dias\n",
    "            ),\n",
    "            yaxis=dict(\n",
    "                tickmode=\"linear\",\n",
    "                tickangle=45,\n",
    "            ),\n",
    "            plot_bgcolor=\"white\",\n",
    "            margin=dict(t=40, b=40, l=40, r=40),\n",
    "        )\n",
    "\n",
    "        fig.show()\n",
    "\n",
    "        return fig\n",
    "\n",
    "    def get_eff_bar_turn(self, dataframe: pd.DataFrame, meta: int = 90) -> go.Figure:\n",
    "        # Agrupar por 'turno' e \"linha\" e calcular a média da eficiência e soma da produção\n",
    "        df_grouped = (\n",
    "            dataframe.groupby([\"linha\", \"turno\"], observed=False)\n",
    "            .agg({\"eficiencia\": \"mean\", \"total_produzido\": \"sum\"})\n",
    "            .reset_index()\n",
    "        )\n",
    "\n",
    "        # Ajustar produção total para caixas, dividindo por 10\n",
    "        df_grouped[\"total_produzido\"] = (df_grouped[\"total_produzido\"] / 10).round(0)\n",
    "\n",
    "        # Gráfico de barras\n",
    "        fig = px.bar(\n",
    "            df_grouped,\n",
    "            orientation=\"h\",\n",
    "            x=\"eficiencia\",\n",
    "            y=\"linha\",\n",
    "            color=\"turno\",\n",
    "            barmode=\"group\",\n",
    "            hover_data={\n",
    "                \"total_produzido\": True,\n",
    "                \"linha\": False,\n",
    "                \"eficiencia\": False,\n",
    "            },\n",
    "            color_discrete_map={\n",
    "                \"NOT\": self.grey_500_color,\n",
    "                \"MAT\": self.grey_600_color,\n",
    "                \"VES\": self.grey_900_color,\n",
    "            },\n",
    "            labels={\"eficiencia\": \"Eficiência\"},\n",
    "        )\n",
    "\n",
    "        # Ajustar hover\n",
    "        fig.update_traces(\n",
    "            hovertemplate=\"<b>Linha</b>: %{y}<br><b>Eficiência</b>: %{x:.1%}<br><b>Produção</b>: %{customdata[0]} caixas<br>\",\n",
    "        )\n",
    "\n",
    "        # Definir o título do gráfico\n",
    "        fig.update_layout(\n",
    "            title=\"Eficiência por Linhas\",\n",
    "            xaxis_title=\"Eficiência\",\n",
    "            yaxis_title=\"Linha\",\n",
    "            title_x=0.5,  # Centralizar o título\n",
    "            plot_bgcolor=\"white\",\n",
    "            margin=dict(t=40, b=40, l=40, r=40),\n",
    "            legend=dict(\n",
    "                title_text=\"Turno\",\n",
    "            ),\n",
    "        )\n",
    "\n",
    "        # Ajustar valores de x para porcentagem\n",
    "        fig.update_xaxes(tickformat=\".0%\")\n",
    "\n",
    "        # Ajustar para aparecer todas as linhas\n",
    "        fig.update_yaxes(\n",
    "            autorange=\"reversed\",\n",
    "            tickvals=df_grouped[\"linha\"].unique(),\n",
    "        )\n",
    "\n",
    "        # Calcular a média geral de eficiência\n",
    "        avg_efficiency = df_grouped[\"eficiencia\"].mean()\n",
    "\n",
    "        # Adicionar linha de média geral\n",
    "        fig.add_trace(\n",
    "            go.Scatter(\n",
    "                x=[avg_efficiency] * len(df_grouped[\"linha\"]),\n",
    "                y=df_grouped[\"linha\"],\n",
    "                mode=\"lines\",\n",
    "                name=\"Média Geral\",\n",
    "                line=dict(dash=\"dash\", color=\"black\"),\n",
    "                hovertemplate=\"<b>Média Geral</b>: %{x:.1%}<br>\",\n",
    "            )\n",
    "        )\n",
    "\n",
    "        # Adicionar linha de meta\n",
    "        fig.add_trace(\n",
    "            go.Scatter(\n",
    "                x=[meta / 100] * len(df_grouped[\"linha\"]),\n",
    "                y=df_grouped[\"linha\"],\n",
    "                mode=\"lines\",\n",
    "                name=\"Meta\",\n",
    "                line=dict(dash=\"dash\", color=\"red\"),\n",
    "                hovertemplate=\"<b>Meta</b>: %{x:.1%}<br>\",\n",
    "            )\n",
    "        )\n",
    "\n",
    "        fig.show()\n",
    "\n",
    "        return fig\n",
    "\n",
    "    def get_eff_lost(\n",
    "        self, df_info: pd.DataFrame, working_minutes: pd.DataFrame = None\n",
    "    ) -> pd.DataFrame:\n",
    "        # Conseguindo dataframe com tempos ajustados\n",
    "        eff_discount = times_data.desc_eff\n",
    "        df_info_desc_times = times_data.get_times_discount(df_info, eff_discount)\n",
    "\n",
    "        # Unir df_info_desc_times com working_minutes.\n",
    "        if working_minutes is not None:\n",
    "            df_info_desc_times = pd.concat(\n",
    "                [df_info_desc_times, working_minutes], ignore_index=True, sort=False\n",
    "            )\n",
    "\n",
    "        # Se coluna \"excedente\" for nula, substituir pelo valor de \"tempo_registro_min\"\n",
    "        df_info_desc_times.loc[df_info_desc_times[\"excedente\"].isnull(), \"excedente\"] = (\n",
    "            df_info_desc_times[\"tempo_registro_min\"]\n",
    "        )\n",
    "\n",
    "        # Se motivo id for nulo e excedente for menor que 15 substituir motivo_nome por\n",
    "        # \"Não apontado - 15min ou menos\"\n",
    "        df_info_desc_times.loc[\n",
    "            (df_info_desc_times[\"motivo_id\"].isnull()) & (df_info_desc_times[\"excedente\"] <= 5),\n",
    "            [\"motivo_nome\", \"problema\"],\n",
    "        ] = [\"5 min ou menos\", \"Não apontado - 5 min ou menos\"]\n",
    "\n",
    "        # Preencher onde motivo_nome for nulo\n",
    "        df_info_desc_times[\"motivo_nome\"].fillna(\"Motivo não apontado\", inplace=True)\n",
    "\n",
    "        df_info_desc_times.loc[\n",
    "            (df_info_desc_times[\"motivo_id\"] == 12)\n",
    "            & (df_info_desc_times[\"problema\"] == \"Parada programada\"),\n",
    "            \"problema\",\n",
    "        ] = \"Parada Programada\"\n",
    "        return df_info_desc_times\n",
    "\n",
    "    def adjust_df_for_bar_lost(self, df: pd.DataFrame, indicator: str) -> pd.DataFrame:\n",
    "        \"\"\"\n",
    "        Remove as paradas que não afetam o indicador.\n",
    "\n",
    "        Parâmetros:\n",
    "        - df: Dataframe contendo os dados\n",
    "        - indicator: Define se é performance ou repair\n",
    "\n",
    "        Retorno:\n",
    "        - df: Dataframe contendo só as paradas que afetam.\n",
    "        \"\"\"\n",
    "\n",
    "        indicator_actions = {\n",
    "            \"performance\": lambda df: df[~df[\"motivo_id\"].isin(times_data.not_af_perf)],\n",
    "            \"repair\": lambda df: df[df[\"motivo_id\"].isin(times_data.af_rep)],\n",
    "            \"eficiencia\": lambda df: df[~df[\"motivo_id\"].isin(times_data.not_af_eff)],\n",
    "        }\n",
    "\n",
    "        if indicator in indicator_actions:\n",
    "            df = indicator_actions[indicator](df)\n",
    "\n",
    "        return df\n",
    "\n",
    "    def get_eff_bar_lost(self, df: pd.DataFrame, turn: str, checked: bool = False) -> go.Figure:\n",
    "        \"\"\"\n",
    "        Retorna um gráfico de barras representando o tempo perdido que mais impacta a eficiência.\n",
    "\n",
    "        Parâmetros:\n",
    "        - df: DataFrame contendo os dados necessários para a criação do gráfico.\n",
    "        - checked: Se True, retorna o gráfico de barras agrupado por motivo_nome e problema.\n",
    "\n",
    "        Retorno:\n",
    "        - fig: Objeto go.Figure contendo o gráfico de barras.\n",
    "        \"\"\"\n",
    "        # Turno Map\n",
    "        turn_map = {\n",
    "            \"NOT\": \"Noturno\",\n",
    "            \"MAT\": \"Matutino\",\n",
    "            \"VES\": \"Vespertino\",\n",
    "        }\n",
    "\n",
    "        # Remover linhas que não afetam a eficiência\n",
    "        df = self.adjust_df_for_bar_lost(df, \"eficiencia\")\n",
    "\n",
    "        # ---------- df motivo ---------- #\n",
    "        # Agrupar motivo_nome\n",
    "        df_motivo = (\n",
    "            df.groupby(\"motivo_nome\")[\"excedente\"]\n",
    "            .sum()\n",
    "            .sort_values(ascending=False)\n",
    "            .head(5)\n",
    "            .reset_index()\n",
    "        )\n",
    "\n",
    "        # Preencher onde motivo_id for 3 e problema for nulo\n",
    "        df.loc[\n",
    "            (df[\"motivo_id\"] == 3) & (df[\"problema\"].isnull()),\n",
    "            \"problema\",\n",
    "        ] = \"Refeição\"\n",
    "\n",
    "        # Preencher onde problema for nulo\n",
    "        df.loc[:, \"problema\"] = df[\"problema\"].fillna(\"Problema não informado\")\n",
    "\n",
    "        # ---------- df group ---------- #\n",
    "        # Agrupar por motivo_nome e problema e calcular a soma do excedente\n",
    "        df_grouped = df.groupby([\"motivo_nome\", \"problema\"]).agg({\"excedente\": \"sum\"}).reset_index()\n",
    "        # Ordenar por excedente\n",
    "        df_grouped = df_grouped.sort_values(\"excedente\", ascending=False).head(8)\n",
    "\n",
    "        # ---------- df problema ---------- #\n",
    "        # Remover linhas onde motivo_nome é igual ao problema\n",
    "        df = df[df[\"motivo_nome\"] != df[\"problema\"]]\n",
    "        # Agrupar por problema\n",
    "        df_problema = (\n",
    "            df.groupby(\"problema\")[\"excedente\"]\n",
    "            .sum()\n",
    "            .sort_values(ascending=False)\n",
    "            .head(5)\n",
    "            .reset_index()\n",
    "        )\n",
    "\n",
    "        # Motivo\n",
    "        motive_bar = go.Bar(\n",
    "            name=\"Motivo\",\n",
    "            x=df_motivo[\"motivo_nome\"],\n",
    "            y=df_motivo[\"excedente\"],\n",
    "            marker_color=self.grey_600_color,\n",
    "        )\n",
    "\n",
    "        motive_bar.update(\n",
    "            hovertemplate=\"<b>Motivo</b>: %{x}<br><b>Tempo Perdido</b>: %{y:.0f} min<br>\",\n",
    "        )\n",
    "\n",
    "        # Problema\n",
    "\n",
    "        # Cria uma paleta de cores com os valores únicos na coluna 'problema'\n",
    "        palette = sns.dark_palette(\"lightgray\", df_grouped[\"problema\"].nunique())\n",
    "\n",
    "        # Converte as cores RGB para hexadecimal\n",
    "        palette_hex = [mcolors.to_hex(color) for color in palette]\n",
    "\n",
    "        # Cria um dicionário que mapeia cada valor único na coluna 'problema' para uma cor na paleta\n",
    "        color_map = dict(zip(df_grouped[\"problema\"].unique(), palette_hex))\n",
    "\n",
    "        # Mapeia os valores na coluna 'problema' para as cores correspondentes\n",
    "        df_grouped[\"color\"] = df_grouped[\"problema\"].map(color_map)\n",
    "\n",
    "        problem_bar = go.Bar(\n",
    "            name=\"Problema\",\n",
    "            x=df_problema[\"problema\"],\n",
    "            y=df_problema[\"excedente\"],\n",
    "            marker_color=self.grey_500_color,\n",
    "            hovertemplate=\"<b>Problema</b>: %{x}<br><b>Tempo Perdido</b>: %{y:.0f} min<br>\",\n",
    "        )\n",
    "\n",
    "        # Group\n",
    "        group_bar = go.Bar(\n",
    "            x=df_grouped[\"motivo_nome\"],\n",
    "            y=df_grouped[\"excedente\"],\n",
    "            customdata=df_grouped[\"problema\"],\n",
    "            hovertemplate=\"<b>Motivo</b>: %{customdata}<br><b>Tempo Perdido</b>: %{y:.0f} min<br>\",\n",
    "            marker_color=self.grey_500_color,\n",
    "        )\n",
    "\n",
    "        # Gráfico de barras\n",
    "        fig = (\n",
    "            go.Figure(data=[motive_bar, problem_bar])\n",
    "            if not checked\n",
    "            else go.Figure(data=[group_bar])\n",
    "        )\n",
    "\n",
    "        fig.update_layout(\n",
    "            title=f\"Tempo Perdido que mais impacta a Eficiência - {turn_map[turn]}\",\n",
    "            xaxis_title=\"Motivo/Problema\",\n",
    "            yaxis_title=\"Tempo Perdido\",\n",
    "            title_x=0.5,\n",
    "            margin=dict({\"t\": 80, \"b\": 40, \"l\": 40, \"r\": 40}),\n",
    "            template=\"plotly_white\",\n",
    "            font=dict({\"family\": \"Inter\"}),\n",
    "            showlegend=False,\n",
    "        )\n",
    "\n",
    "        if not checked:\n",
    "            fig.update_layout(showlegend=True)\n",
    "\n",
    "        return fig\n",
    "\n",
    "\n",
    "indicators_turn = IndicatorsTurn()"
   ]
  },
  {
   "cell_type": "code",
   "execution_count": null,
   "metadata": {},
   "outputs": [
    {
     "data": {
      "application/vnd.plotly.v1+json": {
       "config": {
        "plotlyServerURL": "https://plot.ly"
       },
       "data": [
        {
         "colorscale": [
          [
           0,
           "#dc3545"
          ],
          [
           0.9,
           "#dc3545"
          ],
          [
           0.9,
           "#198754"
          ],
          [
           1,
           "#198754"
          ]
         ],
         "hoverongaps": false,
         "hovertemplate": "Linha: %{y}<br>Dia: %{x}<br>Eficiência: %{z:.1%}",
         "showscale": false,
         "type": "heatmap",
         "x": [
          1,
          2,
          3,
          4,
          5,
          6,
          7,
          8,
          9,
          10,
          11,
          12,
          13,
          14,
          15,
          16,
          17,
          18,
          19,
          20,
          21,
          22,
          23,
          24
         ],
         "xgap": 1,
         "y": [
          0,
          1,
          2,
          3,
          4,
          5,
          6,
          7,
          8,
          9,
          10,
          11,
          12,
          13,
          14
         ],
         "ygap": 1,
         "z": [
          [
           null,
           null,
           null,
           null,
           null,
           null,
           null,
           null,
           null,
           null,
           null,
           null,
           null,
           null,
           null,
           null,
           null,
           null,
           null,
           null,
           null,
           null,
           null,
           null
          ],
          [
           0.584681042228212,
           null,
           null,
           null,
           0.6898023360287511,
           0.5837825696316262,
           0.5887241689128482,
           0.5644654088050315,
           0.7022549470777727,
           0.5806379155435759,
           null,
           null,
           null,
           0.5808399778953185,
           0.6965408805031447,
           0.6947720125786163,
           0.6835130278526504,
           null,
           0.5283018867924528,
           0.7863881401617251,
           0.7045990566037735,
           0.7030548068283917,
           0.7787511230907457,
           null
          ],
          [
           0.5658131176999102,
           null,
           null,
           null,
           0.6516172506738545,
           0.48388364779874216,
           0.49587264150943394,
           0.5037342767295597,
           0.6956424079065588,
           0.5929919137466307,
           null,
           null,
           null,
           null,
           null,
           null,
           null,
           null,
           null,
           null,
           0.05211972979268577,
           null,
           0,
           null
          ],
          [
           0.7230458221024259,
           null,
           null,
           null,
           0.3522995283018868,
           0.5080862533692723,
           0.41830590124448014,
           0.6322720125786163,
           0.7320305480682839,
           0.6500449236298292,
           null,
           null,
           null,
           0.6715073139707441,
           0.9705053133810454,
           null,
           null,
           null,
           0.603181113845593,
           0.32272012578616355,
           0.5520018407731248,
           0.5601976639712489,
           0.6585804132973945,
           null
          ],
          [
           0.6981132075471698,
           null,
           null,
           null,
           0.7046271338724169,
           0.6004043126684636,
           0.5828840970350404,
           0.761455525606469,
           0.75687893081761,
           0.6192722371967655,
           null,
           null,
           null,
           0.28125,
           0.8612652608213096,
           0.7865566037735849,
           0.7068733153638814,
           null,
           0.7344732704402516,
           0.6502983389775843,
           0.9159928122192273,
           0.6536388140161725,
           0.6565588499550764,
           null
          ],
          [
           0.8960298742138365,
           null,
           null,
           null,
           null,
           null,
           null,
           0.8610455974842768,
           0.8877751572327044,
           0.7057783018867925,
           null,
           null,
           null,
           0.747248427672956,
           0.8903301886792453,
           0.9162735849056604,
           0.6141902515723271,
           null,
           0.9145047169811321,
           0.9345518867924528,
           0.8636006289308176,
           0.5548349056603774,
           0.8213568847852268,
           null
          ],
          [
           null,
           null,
           null,
           null,
           0,
           0.13286163522012578,
           0.9249213836477987,
           null,
           null,
           null,
           null,
           null,
           null,
           0.15290880503144655,
           0.7855056445883003,
           0.7234669811320755,
           0.8402122641509434,
           null,
           0.8869889937106918,
           0.8683176100628931,
           null,
           0.4974449685534591,
           0.9622641509433962,
           null
          ],
          [
           0.8380503144654088,
           null,
           0,
           null,
           0.4919418238993711,
           null,
           0.8187893081761006,
           0.7529481132075472,
           0.6899979711909109,
           0.6937893081761006,
           null,
           null,
           null,
           0.34571540880503143,
           0.7979559748427674,
           0.9119496855345912,
           0.7127133872416891,
           null,
           0.8860062893081762,
           0.8962264150943396,
           0.6634205721241632,
           null,
           0.872248427672956,
           null
          ],
          [
           0.8258647798742138,
           null,
           null,
           null,
           0.9013364779874213,
           0.8331367924528302,
           0.8068003144654088,
           0.8427672955974843,
           0.7784540474741327,
           0.8624213836477987,
           null,
           null,
           null,
           0.5167059748427673,
           0.9571540880503144,
           0.6544811320754716,
           0.922562893081761,
           null,
           0.9033018867924528,
           0.7779088050314465,
           0.7638466220328667,
           0.8905267295597484,
           0,
           null
          ],
          [
           0.7692610062893082,
           null,
           null,
           null,
           0.7906839622641509,
           0.8248820754716981,
           0.8533805031446541,
           0.8034591194968553,
           0.8845607628322175,
           0.8036556603773585,
           null,
           null,
           null,
           0.7809662903607799,
           0.8128930817610063,
           0.0915880503144654,
           1.0127751572327044,
           null,
           null,
           null,
           0.8117265165347941,
           1.0750786163522013,
           0.596501572327044,
           null
          ],
          [
           null,
           null,
           null,
           null,
           null,
           null,
           null,
           null,
           null,
           null,
           null,
           null,
           null,
           0.31898584905660377,
           null,
           null,
           null,
           null,
           0.4757412398921833,
           null,
           null,
           null,
           null,
           0
          ],
          [
           0.6563342318059299,
           null,
           null,
           null,
           null,
           0.5375393081761006,
           0.4801493710691824,
           0.5192610062893082,
           null,
           null,
           null,
           null,
           null,
           0.13443396226415094,
           0.648921832884097,
           0.5395047169811321,
           0.5994496855345912,
           null,
           null,
           0.6212938005390836,
           0.09650157232704402,
           0.47523584905660377,
           0.6043822276323798,
           0
          ],
          [
           0.6138814016172507,
           null,
           null,
           null,
           null,
           null,
           null,
           null,
           0.5235849056603774,
           0.7289701257861635,
           null,
           null,
           null,
           0.2918632075471698,
           0.44878706199460916,
           0.3382468553459119,
           0.40644654088050314,
           null,
           0.11073674752920036,
           0.8461084905660378,
           0.8270440251572327,
           0.3046383647798742,
           0.7117062284439034,
           0
          ],
          [
           0.016705974842767295,
           null,
           null,
           null,
           0,
           0.00039308176100628933,
           0.003537735849056604,
           0.00019654088050314466,
           0.5410770440251572,
           0.6297169811320755,
           null,
           null,
           null,
           0.5911949685534591,
           0.6664701257861635,
           0.6350863107185869,
           0.7266116352201258,
           null,
           0.7667059748427673,
           null,
           0.8525943396226415,
           0.831564465408805,
           0.6498275512274295,
           0
          ],
          [
           0.36048121862558424,
           null,
           null,
           null,
           0.6075078616352201,
           0.4160770440251572,
           0.5779424977538186,
           0.3069968553459119,
           0.6080974842767296,
           0.20577830188679244,
           null,
           null,
           null,
           null,
           null,
           null,
           0.6328616352201258,
           null,
           0.7097091194968553,
           0.7677448337825696,
           null,
           null,
           null,
           0
          ]
         ],
         "zmax": 1,
         "zmin": 0
        }
       ],
       "layout": {
        "margin": {
         "b": 40,
         "l": 40,
         "r": 40,
         "t": 40
        },
        "plot_bgcolor": "white",
        "template": {
         "data": {
          "bar": [
           {
            "error_x": {
             "color": "#2a3f5f"
            },
            "error_y": {
             "color": "#2a3f5f"
            },
            "marker": {
             "line": {
              "color": "#E5ECF6",
              "width": 0.5
             },
             "pattern": {
              "fillmode": "overlay",
              "size": 10,
              "solidity": 0.2
             }
            },
            "type": "bar"
           }
          ],
          "barpolar": [
           {
            "marker": {
             "line": {
              "color": "#E5ECF6",
              "width": 0.5
             },
             "pattern": {
              "fillmode": "overlay",
              "size": 10,
              "solidity": 0.2
             }
            },
            "type": "barpolar"
           }
          ],
          "carpet": [
           {
            "aaxis": {
             "endlinecolor": "#2a3f5f",
             "gridcolor": "white",
             "linecolor": "white",
             "minorgridcolor": "white",
             "startlinecolor": "#2a3f5f"
            },
            "baxis": {
             "endlinecolor": "#2a3f5f",
             "gridcolor": "white",
             "linecolor": "white",
             "minorgridcolor": "white",
             "startlinecolor": "#2a3f5f"
            },
            "type": "carpet"
           }
          ],
          "choropleth": [
           {
            "colorbar": {
             "outlinewidth": 0,
             "ticks": ""
            },
            "type": "choropleth"
           }
          ],
          "contour": [
           {
            "colorbar": {
             "outlinewidth": 0,
             "ticks": ""
            },
            "colorscale": [
             [
              0,
              "#0d0887"
             ],
             [
              0.1111111111111111,
              "#46039f"
             ],
             [
              0.2222222222222222,
              "#7201a8"
             ],
             [
              0.3333333333333333,
              "#9c179e"
             ],
             [
              0.4444444444444444,
              "#bd3786"
             ],
             [
              0.5555555555555556,
              "#d8576b"
             ],
             [
              0.6666666666666666,
              "#ed7953"
             ],
             [
              0.7777777777777778,
              "#fb9f3a"
             ],
             [
              0.8888888888888888,
              "#fdca26"
             ],
             [
              1,
              "#f0f921"
             ]
            ],
            "type": "contour"
           }
          ],
          "contourcarpet": [
           {
            "colorbar": {
             "outlinewidth": 0,
             "ticks": ""
            },
            "type": "contourcarpet"
           }
          ],
          "heatmap": [
           {
            "colorbar": {
             "outlinewidth": 0,
             "ticks": ""
            },
            "colorscale": [
             [
              0,
              "#0d0887"
             ],
             [
              0.1111111111111111,
              "#46039f"
             ],
             [
              0.2222222222222222,
              "#7201a8"
             ],
             [
              0.3333333333333333,
              "#9c179e"
             ],
             [
              0.4444444444444444,
              "#bd3786"
             ],
             [
              0.5555555555555556,
              "#d8576b"
             ],
             [
              0.6666666666666666,
              "#ed7953"
             ],
             [
              0.7777777777777778,
              "#fb9f3a"
             ],
             [
              0.8888888888888888,
              "#fdca26"
             ],
             [
              1,
              "#f0f921"
             ]
            ],
            "type": "heatmap"
           }
          ],
          "heatmapgl": [
           {
            "colorbar": {
             "outlinewidth": 0,
             "ticks": ""
            },
            "colorscale": [
             [
              0,
              "#0d0887"
             ],
             [
              0.1111111111111111,
              "#46039f"
             ],
             [
              0.2222222222222222,
              "#7201a8"
             ],
             [
              0.3333333333333333,
              "#9c179e"
             ],
             [
              0.4444444444444444,
              "#bd3786"
             ],
             [
              0.5555555555555556,
              "#d8576b"
             ],
             [
              0.6666666666666666,
              "#ed7953"
             ],
             [
              0.7777777777777778,
              "#fb9f3a"
             ],
             [
              0.8888888888888888,
              "#fdca26"
             ],
             [
              1,
              "#f0f921"
             ]
            ],
            "type": "heatmapgl"
           }
          ],
          "histogram": [
           {
            "marker": {
             "pattern": {
              "fillmode": "overlay",
              "size": 10,
              "solidity": 0.2
             }
            },
            "type": "histogram"
           }
          ],
          "histogram2d": [
           {
            "colorbar": {
             "outlinewidth": 0,
             "ticks": ""
            },
            "colorscale": [
             [
              0,
              "#0d0887"
             ],
             [
              0.1111111111111111,
              "#46039f"
             ],
             [
              0.2222222222222222,
              "#7201a8"
             ],
             [
              0.3333333333333333,
              "#9c179e"
             ],
             [
              0.4444444444444444,
              "#bd3786"
             ],
             [
              0.5555555555555556,
              "#d8576b"
             ],
             [
              0.6666666666666666,
              "#ed7953"
             ],
             [
              0.7777777777777778,
              "#fb9f3a"
             ],
             [
              0.8888888888888888,
              "#fdca26"
             ],
             [
              1,
              "#f0f921"
             ]
            ],
            "type": "histogram2d"
           }
          ],
          "histogram2dcontour": [
           {
            "colorbar": {
             "outlinewidth": 0,
             "ticks": ""
            },
            "colorscale": [
             [
              0,
              "#0d0887"
             ],
             [
              0.1111111111111111,
              "#46039f"
             ],
             [
              0.2222222222222222,
              "#7201a8"
             ],
             [
              0.3333333333333333,
              "#9c179e"
             ],
             [
              0.4444444444444444,
              "#bd3786"
             ],
             [
              0.5555555555555556,
              "#d8576b"
             ],
             [
              0.6666666666666666,
              "#ed7953"
             ],
             [
              0.7777777777777778,
              "#fb9f3a"
             ],
             [
              0.8888888888888888,
              "#fdca26"
             ],
             [
              1,
              "#f0f921"
             ]
            ],
            "type": "histogram2dcontour"
           }
          ],
          "mesh3d": [
           {
            "colorbar": {
             "outlinewidth": 0,
             "ticks": ""
            },
            "type": "mesh3d"
           }
          ],
          "parcoords": [
           {
            "line": {
             "colorbar": {
              "outlinewidth": 0,
              "ticks": ""
             }
            },
            "type": "parcoords"
           }
          ],
          "pie": [
           {
            "automargin": true,
            "type": "pie"
           }
          ],
          "scatter": [
           {
            "fillpattern": {
             "fillmode": "overlay",
             "size": 10,
             "solidity": 0.2
            },
            "type": "scatter"
           }
          ],
          "scatter3d": [
           {
            "line": {
             "colorbar": {
              "outlinewidth": 0,
              "ticks": ""
             }
            },
            "marker": {
             "colorbar": {
              "outlinewidth": 0,
              "ticks": ""
             }
            },
            "type": "scatter3d"
           }
          ],
          "scattercarpet": [
           {
            "marker": {
             "colorbar": {
              "outlinewidth": 0,
              "ticks": ""
             }
            },
            "type": "scattercarpet"
           }
          ],
          "scattergeo": [
           {
            "marker": {
             "colorbar": {
              "outlinewidth": 0,
              "ticks": ""
             }
            },
            "type": "scattergeo"
           }
          ],
          "scattergl": [
           {
            "marker": {
             "colorbar": {
              "outlinewidth": 0,
              "ticks": ""
             }
            },
            "type": "scattergl"
           }
          ],
          "scattermapbox": [
           {
            "marker": {
             "colorbar": {
              "outlinewidth": 0,
              "ticks": ""
             }
            },
            "type": "scattermapbox"
           }
          ],
          "scatterpolar": [
           {
            "marker": {
             "colorbar": {
              "outlinewidth": 0,
              "ticks": ""
             }
            },
            "type": "scatterpolar"
           }
          ],
          "scatterpolargl": [
           {
            "marker": {
             "colorbar": {
              "outlinewidth": 0,
              "ticks": ""
             }
            },
            "type": "scatterpolargl"
           }
          ],
          "scatterternary": [
           {
            "marker": {
             "colorbar": {
              "outlinewidth": 0,
              "ticks": ""
             }
            },
            "type": "scatterternary"
           }
          ],
          "surface": [
           {
            "colorbar": {
             "outlinewidth": 0,
             "ticks": ""
            },
            "colorscale": [
             [
              0,
              "#0d0887"
             ],
             [
              0.1111111111111111,
              "#46039f"
             ],
             [
              0.2222222222222222,
              "#7201a8"
             ],
             [
              0.3333333333333333,
              "#9c179e"
             ],
             [
              0.4444444444444444,
              "#bd3786"
             ],
             [
              0.5555555555555556,
              "#d8576b"
             ],
             [
              0.6666666666666666,
              "#ed7953"
             ],
             [
              0.7777777777777778,
              "#fb9f3a"
             ],
             [
              0.8888888888888888,
              "#fdca26"
             ],
             [
              1,
              "#f0f921"
             ]
            ],
            "type": "surface"
           }
          ],
          "table": [
           {
            "cells": {
             "fill": {
              "color": "#EBF0F8"
             },
             "line": {
              "color": "white"
             }
            },
            "header": {
             "fill": {
              "color": "#C8D4E3"
             },
             "line": {
              "color": "white"
             }
            },
            "type": "table"
           }
          ]
         },
         "layout": {
          "annotationdefaults": {
           "arrowcolor": "#2a3f5f",
           "arrowhead": 0,
           "arrowwidth": 1
          },
          "autotypenumbers": "strict",
          "coloraxis": {
           "colorbar": {
            "outlinewidth": 0,
            "ticks": ""
           }
          },
          "colorscale": {
           "diverging": [
            [
             0,
             "#8e0152"
            ],
            [
             0.1,
             "#c51b7d"
            ],
            [
             0.2,
             "#de77ae"
            ],
            [
             0.3,
             "#f1b6da"
            ],
            [
             0.4,
             "#fde0ef"
            ],
            [
             0.5,
             "#f7f7f7"
            ],
            [
             0.6,
             "#e6f5d0"
            ],
            [
             0.7,
             "#b8e186"
            ],
            [
             0.8,
             "#7fbc41"
            ],
            [
             0.9,
             "#4d9221"
            ],
            [
             1,
             "#276419"
            ]
           ],
           "sequential": [
            [
             0,
             "#0d0887"
            ],
            [
             0.1111111111111111,
             "#46039f"
            ],
            [
             0.2222222222222222,
             "#7201a8"
            ],
            [
             0.3333333333333333,
             "#9c179e"
            ],
            [
             0.4444444444444444,
             "#bd3786"
            ],
            [
             0.5555555555555556,
             "#d8576b"
            ],
            [
             0.6666666666666666,
             "#ed7953"
            ],
            [
             0.7777777777777778,
             "#fb9f3a"
            ],
            [
             0.8888888888888888,
             "#fdca26"
            ],
            [
             1,
             "#f0f921"
            ]
           ],
           "sequentialminus": [
            [
             0,
             "#0d0887"
            ],
            [
             0.1111111111111111,
             "#46039f"
            ],
            [
             0.2222222222222222,
             "#7201a8"
            ],
            [
             0.3333333333333333,
             "#9c179e"
            ],
            [
             0.4444444444444444,
             "#bd3786"
            ],
            [
             0.5555555555555556,
             "#d8576b"
            ],
            [
             0.6666666666666666,
             "#ed7953"
            ],
            [
             0.7777777777777778,
             "#fb9f3a"
            ],
            [
             0.8888888888888888,
             "#fdca26"
            ],
            [
             1,
             "#f0f921"
            ]
           ]
          },
          "colorway": [
           "#636efa",
           "#EF553B",
           "#00cc96",
           "#ab63fa",
           "#FFA15A",
           "#19d3f3",
           "#FF6692",
           "#B6E880",
           "#FF97FF",
           "#FECB52"
          ],
          "font": {
           "color": "#2a3f5f"
          },
          "geo": {
           "bgcolor": "white",
           "lakecolor": "white",
           "landcolor": "#E5ECF6",
           "showlakes": true,
           "showland": true,
           "subunitcolor": "white"
          },
          "hoverlabel": {
           "align": "left"
          },
          "hovermode": "closest",
          "mapbox": {
           "style": "light"
          },
          "paper_bgcolor": "white",
          "plot_bgcolor": "#E5ECF6",
          "polar": {
           "angularaxis": {
            "gridcolor": "white",
            "linecolor": "white",
            "ticks": ""
           },
           "bgcolor": "#E5ECF6",
           "radialaxis": {
            "gridcolor": "white",
            "linecolor": "white",
            "ticks": ""
           }
          },
          "scene": {
           "xaxis": {
            "backgroundcolor": "#E5ECF6",
            "gridcolor": "white",
            "gridwidth": 2,
            "linecolor": "white",
            "showbackground": true,
            "ticks": "",
            "zerolinecolor": "white"
           },
           "yaxis": {
            "backgroundcolor": "#E5ECF6",
            "gridcolor": "white",
            "gridwidth": 2,
            "linecolor": "white",
            "showbackground": true,
            "ticks": "",
            "zerolinecolor": "white"
           },
           "zaxis": {
            "backgroundcolor": "#E5ECF6",
            "gridcolor": "white",
            "gridwidth": 2,
            "linecolor": "white",
            "showbackground": true,
            "ticks": "",
            "zerolinecolor": "white"
           }
          },
          "shapedefaults": {
           "line": {
            "color": "#2a3f5f"
           }
          },
          "ternary": {
           "aaxis": {
            "gridcolor": "white",
            "linecolor": "white",
            "ticks": ""
           },
           "baxis": {
            "gridcolor": "white",
            "linecolor": "white",
            "ticks": ""
           },
           "bgcolor": "#E5ECF6",
           "caxis": {
            "gridcolor": "white",
            "linecolor": "white",
            "ticks": ""
           }
          },
          "title": {
           "x": 0.05
          },
          "xaxis": {
           "automargin": true,
           "gridcolor": "white",
           "linecolor": "white",
           "ticks": "",
           "title": {
            "standoff": 15
           },
           "zerolinecolor": "white",
           "zerolinewidth": 2
          },
          "yaxis": {
           "automargin": true,
           "gridcolor": "white",
           "linecolor": "white",
           "ticks": "",
           "title": {
            "standoff": 15
           },
           "zerolinecolor": "white",
           "zerolinewidth": 2
          }
         }
        },
        "title": {
         "text": "Eficiência - Meta 90%",
         "x": 0.5
        },
        "xaxis": {
         "nticks": 31,
         "tickangle": 45,
         "tickmode": "linear",
         "ticktext": [
          1,
          2,
          3,
          4,
          5,
          6,
          7,
          8,
          9,
          10,
          11,
          12,
          13,
          14,
          15,
          16,
          17,
          18,
          19,
          20,
          21,
          22,
          23,
          24,
          25,
          26,
          27,
          28,
          29,
          30,
          31
         ],
         "tickvals": [
          1,
          2,
          3,
          4,
          5,
          6,
          7,
          8,
          9,
          10,
          11,
          12,
          13,
          14,
          15,
          16,
          17,
          18,
          19,
          20,
          21,
          22,
          23,
          24,
          25,
          26,
          27,
          28,
          29,
          30,
          31
         ],
         "title": {
          "text": "Dia"
         }
        },
        "yaxis": {
         "tickangle": 45,
         "tickmode": "linear",
         "title": {
          "text": "Linha"
         }
        }
       }
      }
     },
     "metadata": {},
     "output_type": "display_data"
    },
    {
     "name": "stderr",
     "output_type": "stream",
     "text": [
      "c:\\Users\\bruno.thomaz\\Documents\\Dev\\stm-shop-floor-management\\.venv-stm\\Lib\\site-packages\\plotly\\express\\_core.py:2044: FutureWarning:\n",
      "\n",
      "The default of observed=False is deprecated and will be changed to True in a future version of pandas. Pass observed=False to retain current behavior or observed=True to adopt the future default and silence this warning.\n",
      "\n"
     ]
    },
    {
     "data": {
      "application/vnd.plotly.v1+json": {
       "config": {
        "plotlyServerURL": "https://plot.ly"
       },
       "data": [
        {
         "alignmentgroup": "True",
         "customdata": [
          [
           0
          ],
          [
           9757
          ],
          [
           3777
          ],
          [
           6713
          ],
          [
           9703
          ],
          [
           10788
          ],
          [
           6894
          ],
          [
           9849
          ],
          [
           12404
          ],
          [
           11046
          ],
          [
           748
          ],
          [
           5753
          ],
          [
           6090
          ],
          [
           6999
          ],
          [
           5080
          ]
         ],
         "hovertemplate": "<b>Linha</b>: %{y}<br><b>Eficiência</b>: %{x:.1%}<br><b>Produção</b>: %{customdata[0]} caixas<br>",
         "legendgroup": "MAT",
         "marker": {
          "color": "#6c757d",
          "pattern": {
           "shape": ""
          }
         },
         "name": "MAT",
         "offsetgroup": "MAT",
         "orientation": "h",
         "showlegend": true,
         "textposition": "auto",
         "type": "bar",
         "x": [
          null,
          0.6531943312834148,
          0.4490749984285973,
          0.5967699124514363,
          0.6856589193944389,
          0.8159631082152158,
          0.6158993124582847,
          0.6914501999826101,
          0.7648293264353824,
          0.7793865981970883,
          0.2649090296495957,
          0.45484673573535406,
          0.47323184271601804,
          0.4319801706169091,
          0.4721088047317059
         ],
         "xaxis": "x",
         "y": [
          0,
          1,
          2,
          3,
          4,
          5,
          6,
          7,
          8,
          9,
          10,
          11,
          12,
          13,
          14
         ],
         "yaxis": "y"
        },
        {
         "alignmentgroup": "True",
         "customdata": [
          [
           0
          ],
          [
           12179
          ],
          [
           6577
          ],
          [
           10980
          ],
          [
           10348
          ],
          [
           10993
          ],
          [
           1970
          ],
          [
           9972
          ],
          [
           9125
          ],
          [
           7478
          ],
          [
           199
          ],
          [
           5874
          ],
          [
           6251
          ],
          [
           6819
          ],
          [
           5881
          ]
         ],
         "hovertemplate": "<b>Linha</b>: %{y}<br><b>Eficiência</b>: %{x:.1%}<br><b>Produção</b>: %{customdata[0]} caixas<br>",
         "legendgroup": "NOT",
         "marker": {
          "color": "#adb5bd",
          "pattern": {
           "shape": ""
          }
         },
         "name": "NOT",
         "offsetgroup": "NOT",
         "orientation": "h",
         "showlegend": true,
         "textposition": "auto",
         "type": "bar",
         "x": [
          null,
          0.7588134687492004,
          0.7050936056134349,
          0.6969935081431757,
          0.6724978522390428,
          0.7173620055922182,
          0.20348438903863433,
          0.6332601697860717,
          0.7016756026806331,
          0.5698522371853681,
          0.09787735849056603,
          0.46723182197407265,
          0.5534930970610831,
          0.4935783275574381,
          0.5468563049605325
         ],
         "xaxis": "x",
         "y": [
          0,
          1,
          2,
          3,
          4,
          5,
          6,
          7,
          8,
          9,
          10,
          11,
          12,
          13,
          14
         ],
         "yaxis": "y"
        },
        {
         "alignmentgroup": "True",
         "customdata": [
          [
           0
          ],
          [
           9285
          ],
          [
           3992
          ],
          [
           8737
          ],
          [
           9474
          ],
          [
           5876
          ],
          [
           3107
          ],
          [
           5545
          ],
          [
           6110
          ],
          [
           7147
          ],
          [
           304
          ],
          [
           4603
          ],
          [
           3173
          ],
          [
           5837
          ],
          [
           4200
          ]
         ],
         "hovertemplate": "<b>Linha</b>: %{y}<br><b>Eficiência</b>: %{x:.1%}<br><b>Produção</b>: %{customdata[0]} caixas<br>",
         "legendgroup": "VES",
         "marker": {
          "color": "#212529",
          "pattern": {
           "shape": ""
          }
         },
         "name": "VES",
         "offsetgroup": "VES",
         "orientation": "h",
         "showlegend": true,
         "textposition": "auto",
         "type": "bar",
         "x": [
          null,
          0.5528195540112331,
          0.3648972882463449,
          0.5766360789598858,
          0.5672199840485079,
          0.42122816965429294,
          0.2749502855634931,
          0.37668044671738776,
          0.39771674211532704,
          0.45177200316735944,
          0.18514455657939644,
          0.42135089098532497,
          0.3721860337426375,
          0.38936357587730797,
          0.42904707830022293
         ],
         "xaxis": "x",
         "y": [
          0,
          1,
          2,
          3,
          4,
          5,
          6,
          7,
          8,
          9,
          10,
          11,
          12,
          13,
          14
         ],
         "yaxis": "y"
        },
        {
         "hovertemplate": "<b>Média Geral</b>: %{x:.1%}<br>",
         "line": {
          "color": "black",
          "dash": "dash"
         },
         "mode": "lines",
         "name": "Média Geral",
         "type": "scatter",
         "x": [
          0.5178187077937201,
          0.5178187077937201,
          0.5178187077937201,
          0.5178187077937201,
          0.5178187077937201,
          0.5178187077937201,
          0.5178187077937201,
          0.5178187077937201,
          0.5178187077937201,
          0.5178187077937201,
          0.5178187077937201,
          0.5178187077937201,
          0.5178187077937201,
          0.5178187077937201,
          0.5178187077937201,
          0.5178187077937201,
          0.5178187077937201,
          0.5178187077937201,
          0.5178187077937201,
          0.5178187077937201,
          0.5178187077937201,
          0.5178187077937201,
          0.5178187077937201,
          0.5178187077937201,
          0.5178187077937201,
          0.5178187077937201,
          0.5178187077937201,
          0.5178187077937201,
          0.5178187077937201,
          0.5178187077937201,
          0.5178187077937201,
          0.5178187077937201,
          0.5178187077937201,
          0.5178187077937201,
          0.5178187077937201,
          0.5178187077937201,
          0.5178187077937201,
          0.5178187077937201,
          0.5178187077937201,
          0.5178187077937201,
          0.5178187077937201,
          0.5178187077937201,
          0.5178187077937201,
          0.5178187077937201,
          0.5178187077937201
         ],
         "y": [
          0,
          0,
          0,
          1,
          1,
          1,
          2,
          2,
          2,
          3,
          3,
          3,
          4,
          4,
          4,
          5,
          5,
          5,
          6,
          6,
          6,
          7,
          7,
          7,
          8,
          8,
          8,
          9,
          9,
          9,
          10,
          10,
          10,
          11,
          11,
          11,
          12,
          12,
          12,
          13,
          13,
          13,
          14,
          14,
          14
         ]
        },
        {
         "hovertemplate": "<b>Meta</b>: %{x:.1%}<br>",
         "line": {
          "color": "red",
          "dash": "dash"
         },
         "mode": "lines",
         "name": "Meta",
         "type": "scatter",
         "x": [
          0.9,
          0.9,
          0.9,
          0.9,
          0.9,
          0.9,
          0.9,
          0.9,
          0.9,
          0.9,
          0.9,
          0.9,
          0.9,
          0.9,
          0.9,
          0.9,
          0.9,
          0.9,
          0.9,
          0.9,
          0.9,
          0.9,
          0.9,
          0.9,
          0.9,
          0.9,
          0.9,
          0.9,
          0.9,
          0.9,
          0.9,
          0.9,
          0.9,
          0.9,
          0.9,
          0.9,
          0.9,
          0.9,
          0.9,
          0.9,
          0.9,
          0.9,
          0.9,
          0.9,
          0.9
         ],
         "y": [
          0,
          0,
          0,
          1,
          1,
          1,
          2,
          2,
          2,
          3,
          3,
          3,
          4,
          4,
          4,
          5,
          5,
          5,
          6,
          6,
          6,
          7,
          7,
          7,
          8,
          8,
          8,
          9,
          9,
          9,
          10,
          10,
          10,
          11,
          11,
          11,
          12,
          12,
          12,
          13,
          13,
          13,
          14,
          14,
          14
         ]
        }
       ],
       "layout": {
        "barmode": "group",
        "legend": {
         "title": {
          "text": "Turno"
         },
         "tracegroupgap": 0
        },
        "margin": {
         "b": 40,
         "l": 40,
         "r": 40,
         "t": 40
        },
        "plot_bgcolor": "white",
        "template": {
         "data": {
          "bar": [
           {
            "error_x": {
             "color": "#2a3f5f"
            },
            "error_y": {
             "color": "#2a3f5f"
            },
            "marker": {
             "line": {
              "color": "#E5ECF6",
              "width": 0.5
             },
             "pattern": {
              "fillmode": "overlay",
              "size": 10,
              "solidity": 0.2
             }
            },
            "type": "bar"
           }
          ],
          "barpolar": [
           {
            "marker": {
             "line": {
              "color": "#E5ECF6",
              "width": 0.5
             },
             "pattern": {
              "fillmode": "overlay",
              "size": 10,
              "solidity": 0.2
             }
            },
            "type": "barpolar"
           }
          ],
          "carpet": [
           {
            "aaxis": {
             "endlinecolor": "#2a3f5f",
             "gridcolor": "white",
             "linecolor": "white",
             "minorgridcolor": "white",
             "startlinecolor": "#2a3f5f"
            },
            "baxis": {
             "endlinecolor": "#2a3f5f",
             "gridcolor": "white",
             "linecolor": "white",
             "minorgridcolor": "white",
             "startlinecolor": "#2a3f5f"
            },
            "type": "carpet"
           }
          ],
          "choropleth": [
           {
            "colorbar": {
             "outlinewidth": 0,
             "ticks": ""
            },
            "type": "choropleth"
           }
          ],
          "contour": [
           {
            "colorbar": {
             "outlinewidth": 0,
             "ticks": ""
            },
            "colorscale": [
             [
              0,
              "#0d0887"
             ],
             [
              0.1111111111111111,
              "#46039f"
             ],
             [
              0.2222222222222222,
              "#7201a8"
             ],
             [
              0.3333333333333333,
              "#9c179e"
             ],
             [
              0.4444444444444444,
              "#bd3786"
             ],
             [
              0.5555555555555556,
              "#d8576b"
             ],
             [
              0.6666666666666666,
              "#ed7953"
             ],
             [
              0.7777777777777778,
              "#fb9f3a"
             ],
             [
              0.8888888888888888,
              "#fdca26"
             ],
             [
              1,
              "#f0f921"
             ]
            ],
            "type": "contour"
           }
          ],
          "contourcarpet": [
           {
            "colorbar": {
             "outlinewidth": 0,
             "ticks": ""
            },
            "type": "contourcarpet"
           }
          ],
          "heatmap": [
           {
            "colorbar": {
             "outlinewidth": 0,
             "ticks": ""
            },
            "colorscale": [
             [
              0,
              "#0d0887"
             ],
             [
              0.1111111111111111,
              "#46039f"
             ],
             [
              0.2222222222222222,
              "#7201a8"
             ],
             [
              0.3333333333333333,
              "#9c179e"
             ],
             [
              0.4444444444444444,
              "#bd3786"
             ],
             [
              0.5555555555555556,
              "#d8576b"
             ],
             [
              0.6666666666666666,
              "#ed7953"
             ],
             [
              0.7777777777777778,
              "#fb9f3a"
             ],
             [
              0.8888888888888888,
              "#fdca26"
             ],
             [
              1,
              "#f0f921"
             ]
            ],
            "type": "heatmap"
           }
          ],
          "heatmapgl": [
           {
            "colorbar": {
             "outlinewidth": 0,
             "ticks": ""
            },
            "colorscale": [
             [
              0,
              "#0d0887"
             ],
             [
              0.1111111111111111,
              "#46039f"
             ],
             [
              0.2222222222222222,
              "#7201a8"
             ],
             [
              0.3333333333333333,
              "#9c179e"
             ],
             [
              0.4444444444444444,
              "#bd3786"
             ],
             [
              0.5555555555555556,
              "#d8576b"
             ],
             [
              0.6666666666666666,
              "#ed7953"
             ],
             [
              0.7777777777777778,
              "#fb9f3a"
             ],
             [
              0.8888888888888888,
              "#fdca26"
             ],
             [
              1,
              "#f0f921"
             ]
            ],
            "type": "heatmapgl"
           }
          ],
          "histogram": [
           {
            "marker": {
             "pattern": {
              "fillmode": "overlay",
              "size": 10,
              "solidity": 0.2
             }
            },
            "type": "histogram"
           }
          ],
          "histogram2d": [
           {
            "colorbar": {
             "outlinewidth": 0,
             "ticks": ""
            },
            "colorscale": [
             [
              0,
              "#0d0887"
             ],
             [
              0.1111111111111111,
              "#46039f"
             ],
             [
              0.2222222222222222,
              "#7201a8"
             ],
             [
              0.3333333333333333,
              "#9c179e"
             ],
             [
              0.4444444444444444,
              "#bd3786"
             ],
             [
              0.5555555555555556,
              "#d8576b"
             ],
             [
              0.6666666666666666,
              "#ed7953"
             ],
             [
              0.7777777777777778,
              "#fb9f3a"
             ],
             [
              0.8888888888888888,
              "#fdca26"
             ],
             [
              1,
              "#f0f921"
             ]
            ],
            "type": "histogram2d"
           }
          ],
          "histogram2dcontour": [
           {
            "colorbar": {
             "outlinewidth": 0,
             "ticks": ""
            },
            "colorscale": [
             [
              0,
              "#0d0887"
             ],
             [
              0.1111111111111111,
              "#46039f"
             ],
             [
              0.2222222222222222,
              "#7201a8"
             ],
             [
              0.3333333333333333,
              "#9c179e"
             ],
             [
              0.4444444444444444,
              "#bd3786"
             ],
             [
              0.5555555555555556,
              "#d8576b"
             ],
             [
              0.6666666666666666,
              "#ed7953"
             ],
             [
              0.7777777777777778,
              "#fb9f3a"
             ],
             [
              0.8888888888888888,
              "#fdca26"
             ],
             [
              1,
              "#f0f921"
             ]
            ],
            "type": "histogram2dcontour"
           }
          ],
          "mesh3d": [
           {
            "colorbar": {
             "outlinewidth": 0,
             "ticks": ""
            },
            "type": "mesh3d"
           }
          ],
          "parcoords": [
           {
            "line": {
             "colorbar": {
              "outlinewidth": 0,
              "ticks": ""
             }
            },
            "type": "parcoords"
           }
          ],
          "pie": [
           {
            "automargin": true,
            "type": "pie"
           }
          ],
          "scatter": [
           {
            "fillpattern": {
             "fillmode": "overlay",
             "size": 10,
             "solidity": 0.2
            },
            "type": "scatter"
           }
          ],
          "scatter3d": [
           {
            "line": {
             "colorbar": {
              "outlinewidth": 0,
              "ticks": ""
             }
            },
            "marker": {
             "colorbar": {
              "outlinewidth": 0,
              "ticks": ""
             }
            },
            "type": "scatter3d"
           }
          ],
          "scattercarpet": [
           {
            "marker": {
             "colorbar": {
              "outlinewidth": 0,
              "ticks": ""
             }
            },
            "type": "scattercarpet"
           }
          ],
          "scattergeo": [
           {
            "marker": {
             "colorbar": {
              "outlinewidth": 0,
              "ticks": ""
             }
            },
            "type": "scattergeo"
           }
          ],
          "scattergl": [
           {
            "marker": {
             "colorbar": {
              "outlinewidth": 0,
              "ticks": ""
             }
            },
            "type": "scattergl"
           }
          ],
          "scattermapbox": [
           {
            "marker": {
             "colorbar": {
              "outlinewidth": 0,
              "ticks": ""
             }
            },
            "type": "scattermapbox"
           }
          ],
          "scatterpolar": [
           {
            "marker": {
             "colorbar": {
              "outlinewidth": 0,
              "ticks": ""
             }
            },
            "type": "scatterpolar"
           }
          ],
          "scatterpolargl": [
           {
            "marker": {
             "colorbar": {
              "outlinewidth": 0,
              "ticks": ""
             }
            },
            "type": "scatterpolargl"
           }
          ],
          "scatterternary": [
           {
            "marker": {
             "colorbar": {
              "outlinewidth": 0,
              "ticks": ""
             }
            },
            "type": "scatterternary"
           }
          ],
          "surface": [
           {
            "colorbar": {
             "outlinewidth": 0,
             "ticks": ""
            },
            "colorscale": [
             [
              0,
              "#0d0887"
             ],
             [
              0.1111111111111111,
              "#46039f"
             ],
             [
              0.2222222222222222,
              "#7201a8"
             ],
             [
              0.3333333333333333,
              "#9c179e"
             ],
             [
              0.4444444444444444,
              "#bd3786"
             ],
             [
              0.5555555555555556,
              "#d8576b"
             ],
             [
              0.6666666666666666,
              "#ed7953"
             ],
             [
              0.7777777777777778,
              "#fb9f3a"
             ],
             [
              0.8888888888888888,
              "#fdca26"
             ],
             [
              1,
              "#f0f921"
             ]
            ],
            "type": "surface"
           }
          ],
          "table": [
           {
            "cells": {
             "fill": {
              "color": "#EBF0F8"
             },
             "line": {
              "color": "white"
             }
            },
            "header": {
             "fill": {
              "color": "#C8D4E3"
             },
             "line": {
              "color": "white"
             }
            },
            "type": "table"
           }
          ]
         },
         "layout": {
          "annotationdefaults": {
           "arrowcolor": "#2a3f5f",
           "arrowhead": 0,
           "arrowwidth": 1
          },
          "autotypenumbers": "strict",
          "coloraxis": {
           "colorbar": {
            "outlinewidth": 0,
            "ticks": ""
           }
          },
          "colorscale": {
           "diverging": [
            [
             0,
             "#8e0152"
            ],
            [
             0.1,
             "#c51b7d"
            ],
            [
             0.2,
             "#de77ae"
            ],
            [
             0.3,
             "#f1b6da"
            ],
            [
             0.4,
             "#fde0ef"
            ],
            [
             0.5,
             "#f7f7f7"
            ],
            [
             0.6,
             "#e6f5d0"
            ],
            [
             0.7,
             "#b8e186"
            ],
            [
             0.8,
             "#7fbc41"
            ],
            [
             0.9,
             "#4d9221"
            ],
            [
             1,
             "#276419"
            ]
           ],
           "sequential": [
            [
             0,
             "#0d0887"
            ],
            [
             0.1111111111111111,
             "#46039f"
            ],
            [
             0.2222222222222222,
             "#7201a8"
            ],
            [
             0.3333333333333333,
             "#9c179e"
            ],
            [
             0.4444444444444444,
             "#bd3786"
            ],
            [
             0.5555555555555556,
             "#d8576b"
            ],
            [
             0.6666666666666666,
             "#ed7953"
            ],
            [
             0.7777777777777778,
             "#fb9f3a"
            ],
            [
             0.8888888888888888,
             "#fdca26"
            ],
            [
             1,
             "#f0f921"
            ]
           ],
           "sequentialminus": [
            [
             0,
             "#0d0887"
            ],
            [
             0.1111111111111111,
             "#46039f"
            ],
            [
             0.2222222222222222,
             "#7201a8"
            ],
            [
             0.3333333333333333,
             "#9c179e"
            ],
            [
             0.4444444444444444,
             "#bd3786"
            ],
            [
             0.5555555555555556,
             "#d8576b"
            ],
            [
             0.6666666666666666,
             "#ed7953"
            ],
            [
             0.7777777777777778,
             "#fb9f3a"
            ],
            [
             0.8888888888888888,
             "#fdca26"
            ],
            [
             1,
             "#f0f921"
            ]
           ]
          },
          "colorway": [
           "#636efa",
           "#EF553B",
           "#00cc96",
           "#ab63fa",
           "#FFA15A",
           "#19d3f3",
           "#FF6692",
           "#B6E880",
           "#FF97FF",
           "#FECB52"
          ],
          "font": {
           "color": "#2a3f5f"
          },
          "geo": {
           "bgcolor": "white",
           "lakecolor": "white",
           "landcolor": "#E5ECF6",
           "showlakes": true,
           "showland": true,
           "subunitcolor": "white"
          },
          "hoverlabel": {
           "align": "left"
          },
          "hovermode": "closest",
          "mapbox": {
           "style": "light"
          },
          "paper_bgcolor": "white",
          "plot_bgcolor": "#E5ECF6",
          "polar": {
           "angularaxis": {
            "gridcolor": "white",
            "linecolor": "white",
            "ticks": ""
           },
           "bgcolor": "#E5ECF6",
           "radialaxis": {
            "gridcolor": "white",
            "linecolor": "white",
            "ticks": ""
           }
          },
          "scene": {
           "xaxis": {
            "backgroundcolor": "#E5ECF6",
            "gridcolor": "white",
            "gridwidth": 2,
            "linecolor": "white",
            "showbackground": true,
            "ticks": "",
            "zerolinecolor": "white"
           },
           "yaxis": {
            "backgroundcolor": "#E5ECF6",
            "gridcolor": "white",
            "gridwidth": 2,
            "linecolor": "white",
            "showbackground": true,
            "ticks": "",
            "zerolinecolor": "white"
           },
           "zaxis": {
            "backgroundcolor": "#E5ECF6",
            "gridcolor": "white",
            "gridwidth": 2,
            "linecolor": "white",
            "showbackground": true,
            "ticks": "",
            "zerolinecolor": "white"
           }
          },
          "shapedefaults": {
           "line": {
            "color": "#2a3f5f"
           }
          },
          "ternary": {
           "aaxis": {
            "gridcolor": "white",
            "linecolor": "white",
            "ticks": ""
           },
           "baxis": {
            "gridcolor": "white",
            "linecolor": "white",
            "ticks": ""
           },
           "bgcolor": "#E5ECF6",
           "caxis": {
            "gridcolor": "white",
            "linecolor": "white",
            "ticks": ""
           }
          },
          "title": {
           "x": 0.05
          },
          "xaxis": {
           "automargin": true,
           "gridcolor": "white",
           "linecolor": "white",
           "ticks": "",
           "title": {
            "standoff": 15
           },
           "zerolinecolor": "white",
           "zerolinewidth": 2
          },
          "yaxis": {
           "automargin": true,
           "gridcolor": "white",
           "linecolor": "white",
           "ticks": "",
           "title": {
            "standoff": 15
           },
           "zerolinecolor": "white",
           "zerolinewidth": 2
          }
         }
        },
        "title": {
         "text": "Eficiência por Linhas",
         "x": 0.5
        },
        "xaxis": {
         "anchor": "y",
         "domain": [
          0,
          1
         ],
         "tickformat": ".0%",
         "title": {
          "text": "Eficiência"
         }
        },
        "yaxis": {
         "anchor": "x",
         "autorange": "reversed",
         "domain": [
          0,
          1
         ],
         "tickvals": [
          0,
          1,
          2,
          3,
          4,
          5,
          6,
          7,
          8,
          9,
          10,
          11,
          12,
          13,
          14
         ],
         "title": {
          "text": "Linha"
         }
        }
       }
      }
     },
     "metadata": {},
     "output_type": "display_data"
    },
    {
     "data": {
      "application/vnd.plotly.v1+json": {
       "config": {
        "plotlyServerURL": "https://plot.ly"
       },
       "data": [
        {
         "customdata": [
          "None",
          "Limpeza",
          "Refeição",
          "Limpeza",
          "Não apontado - 5 min ou menos",
          "Café e ginástica laboral",
          "Troca de sabor de cebola para tradicional",
          "Problema não informado"
         ],
         "hovertemplate": "<b>Motivo</b>: %{customdata}<br><b>Tempo Perdido</b>: %{y:.0f} min<br>",
         "marker": {
          "color": "#adb5bd"
         },
         "type": "bar",
         "x": [
          "Motivo não apontado",
          "Limpeza Industrial",
          "Refeição",
          "Limpeza",
          "5 min ou menos",
          "Café e Ginástica Laboral",
          "Setup de Sabor",
          "Material em Falta"
         ],
         "y": [
          41760,
          9112,
          8416,
          6096,
          3408,
          3402,
          763,
          616
         ]
        }
       ],
       "layout": {
        "font": {
         "family": "Inter"
        },
        "margin": {
         "b": 40,
         "l": 40,
         "r": 40,
         "t": 80
        },
        "showlegend": false,
        "template": {
         "data": {
          "bar": [
           {
            "error_x": {
             "color": "#2a3f5f"
            },
            "error_y": {
             "color": "#2a3f5f"
            },
            "marker": {
             "line": {
              "color": "white",
              "width": 0.5
             },
             "pattern": {
              "fillmode": "overlay",
              "size": 10,
              "solidity": 0.2
             }
            },
            "type": "bar"
           }
          ],
          "barpolar": [
           {
            "marker": {
             "line": {
              "color": "white",
              "width": 0.5
             },
             "pattern": {
              "fillmode": "overlay",
              "size": 10,
              "solidity": 0.2
             }
            },
            "type": "barpolar"
           }
          ],
          "carpet": [
           {
            "aaxis": {
             "endlinecolor": "#2a3f5f",
             "gridcolor": "#C8D4E3",
             "linecolor": "#C8D4E3",
             "minorgridcolor": "#C8D4E3",
             "startlinecolor": "#2a3f5f"
            },
            "baxis": {
             "endlinecolor": "#2a3f5f",
             "gridcolor": "#C8D4E3",
             "linecolor": "#C8D4E3",
             "minorgridcolor": "#C8D4E3",
             "startlinecolor": "#2a3f5f"
            },
            "type": "carpet"
           }
          ],
          "choropleth": [
           {
            "colorbar": {
             "outlinewidth": 0,
             "ticks": ""
            },
            "type": "choropleth"
           }
          ],
          "contour": [
           {
            "colorbar": {
             "outlinewidth": 0,
             "ticks": ""
            },
            "colorscale": [
             [
              0,
              "#0d0887"
             ],
             [
              0.1111111111111111,
              "#46039f"
             ],
             [
              0.2222222222222222,
              "#7201a8"
             ],
             [
              0.3333333333333333,
              "#9c179e"
             ],
             [
              0.4444444444444444,
              "#bd3786"
             ],
             [
              0.5555555555555556,
              "#d8576b"
             ],
             [
              0.6666666666666666,
              "#ed7953"
             ],
             [
              0.7777777777777778,
              "#fb9f3a"
             ],
             [
              0.8888888888888888,
              "#fdca26"
             ],
             [
              1,
              "#f0f921"
             ]
            ],
            "type": "contour"
           }
          ],
          "contourcarpet": [
           {
            "colorbar": {
             "outlinewidth": 0,
             "ticks": ""
            },
            "type": "contourcarpet"
           }
          ],
          "heatmap": [
           {
            "colorbar": {
             "outlinewidth": 0,
             "ticks": ""
            },
            "colorscale": [
             [
              0,
              "#0d0887"
             ],
             [
              0.1111111111111111,
              "#46039f"
             ],
             [
              0.2222222222222222,
              "#7201a8"
             ],
             [
              0.3333333333333333,
              "#9c179e"
             ],
             [
              0.4444444444444444,
              "#bd3786"
             ],
             [
              0.5555555555555556,
              "#d8576b"
             ],
             [
              0.6666666666666666,
              "#ed7953"
             ],
             [
              0.7777777777777778,
              "#fb9f3a"
             ],
             [
              0.8888888888888888,
              "#fdca26"
             ],
             [
              1,
              "#f0f921"
             ]
            ],
            "type": "heatmap"
           }
          ],
          "heatmapgl": [
           {
            "colorbar": {
             "outlinewidth": 0,
             "ticks": ""
            },
            "colorscale": [
             [
              0,
              "#0d0887"
             ],
             [
              0.1111111111111111,
              "#46039f"
             ],
             [
              0.2222222222222222,
              "#7201a8"
             ],
             [
              0.3333333333333333,
              "#9c179e"
             ],
             [
              0.4444444444444444,
              "#bd3786"
             ],
             [
              0.5555555555555556,
              "#d8576b"
             ],
             [
              0.6666666666666666,
              "#ed7953"
             ],
             [
              0.7777777777777778,
              "#fb9f3a"
             ],
             [
              0.8888888888888888,
              "#fdca26"
             ],
             [
              1,
              "#f0f921"
             ]
            ],
            "type": "heatmapgl"
           }
          ],
          "histogram": [
           {
            "marker": {
             "pattern": {
              "fillmode": "overlay",
              "size": 10,
              "solidity": 0.2
             }
            },
            "type": "histogram"
           }
          ],
          "histogram2d": [
           {
            "colorbar": {
             "outlinewidth": 0,
             "ticks": ""
            },
            "colorscale": [
             [
              0,
              "#0d0887"
             ],
             [
              0.1111111111111111,
              "#46039f"
             ],
             [
              0.2222222222222222,
              "#7201a8"
             ],
             [
              0.3333333333333333,
              "#9c179e"
             ],
             [
              0.4444444444444444,
              "#bd3786"
             ],
             [
              0.5555555555555556,
              "#d8576b"
             ],
             [
              0.6666666666666666,
              "#ed7953"
             ],
             [
              0.7777777777777778,
              "#fb9f3a"
             ],
             [
              0.8888888888888888,
              "#fdca26"
             ],
             [
              1,
              "#f0f921"
             ]
            ],
            "type": "histogram2d"
           }
          ],
          "histogram2dcontour": [
           {
            "colorbar": {
             "outlinewidth": 0,
             "ticks": ""
            },
            "colorscale": [
             [
              0,
              "#0d0887"
             ],
             [
              0.1111111111111111,
              "#46039f"
             ],
             [
              0.2222222222222222,
              "#7201a8"
             ],
             [
              0.3333333333333333,
              "#9c179e"
             ],
             [
              0.4444444444444444,
              "#bd3786"
             ],
             [
              0.5555555555555556,
              "#d8576b"
             ],
             [
              0.6666666666666666,
              "#ed7953"
             ],
             [
              0.7777777777777778,
              "#fb9f3a"
             ],
             [
              0.8888888888888888,
              "#fdca26"
             ],
             [
              1,
              "#f0f921"
             ]
            ],
            "type": "histogram2dcontour"
           }
          ],
          "mesh3d": [
           {
            "colorbar": {
             "outlinewidth": 0,
             "ticks": ""
            },
            "type": "mesh3d"
           }
          ],
          "parcoords": [
           {
            "line": {
             "colorbar": {
              "outlinewidth": 0,
              "ticks": ""
             }
            },
            "type": "parcoords"
           }
          ],
          "pie": [
           {
            "automargin": true,
            "type": "pie"
           }
          ],
          "scatter": [
           {
            "fillpattern": {
             "fillmode": "overlay",
             "size": 10,
             "solidity": 0.2
            },
            "type": "scatter"
           }
          ],
          "scatter3d": [
           {
            "line": {
             "colorbar": {
              "outlinewidth": 0,
              "ticks": ""
             }
            },
            "marker": {
             "colorbar": {
              "outlinewidth": 0,
              "ticks": ""
             }
            },
            "type": "scatter3d"
           }
          ],
          "scattercarpet": [
           {
            "marker": {
             "colorbar": {
              "outlinewidth": 0,
              "ticks": ""
             }
            },
            "type": "scattercarpet"
           }
          ],
          "scattergeo": [
           {
            "marker": {
             "colorbar": {
              "outlinewidth": 0,
              "ticks": ""
             }
            },
            "type": "scattergeo"
           }
          ],
          "scattergl": [
           {
            "marker": {
             "colorbar": {
              "outlinewidth": 0,
              "ticks": ""
             }
            },
            "type": "scattergl"
           }
          ],
          "scattermapbox": [
           {
            "marker": {
             "colorbar": {
              "outlinewidth": 0,
              "ticks": ""
             }
            },
            "type": "scattermapbox"
           }
          ],
          "scatterpolar": [
           {
            "marker": {
             "colorbar": {
              "outlinewidth": 0,
              "ticks": ""
             }
            },
            "type": "scatterpolar"
           }
          ],
          "scatterpolargl": [
           {
            "marker": {
             "colorbar": {
              "outlinewidth": 0,
              "ticks": ""
             }
            },
            "type": "scatterpolargl"
           }
          ],
          "scatterternary": [
           {
            "marker": {
             "colorbar": {
              "outlinewidth": 0,
              "ticks": ""
             }
            },
            "type": "scatterternary"
           }
          ],
          "surface": [
           {
            "colorbar": {
             "outlinewidth": 0,
             "ticks": ""
            },
            "colorscale": [
             [
              0,
              "#0d0887"
             ],
             [
              0.1111111111111111,
              "#46039f"
             ],
             [
              0.2222222222222222,
              "#7201a8"
             ],
             [
              0.3333333333333333,
              "#9c179e"
             ],
             [
              0.4444444444444444,
              "#bd3786"
             ],
             [
              0.5555555555555556,
              "#d8576b"
             ],
             [
              0.6666666666666666,
              "#ed7953"
             ],
             [
              0.7777777777777778,
              "#fb9f3a"
             ],
             [
              0.8888888888888888,
              "#fdca26"
             ],
             [
              1,
              "#f0f921"
             ]
            ],
            "type": "surface"
           }
          ],
          "table": [
           {
            "cells": {
             "fill": {
              "color": "#EBF0F8"
             },
             "line": {
              "color": "white"
             }
            },
            "header": {
             "fill": {
              "color": "#C8D4E3"
             },
             "line": {
              "color": "white"
             }
            },
            "type": "table"
           }
          ]
         },
         "layout": {
          "annotationdefaults": {
           "arrowcolor": "#2a3f5f",
           "arrowhead": 0,
           "arrowwidth": 1
          },
          "autotypenumbers": "strict",
          "coloraxis": {
           "colorbar": {
            "outlinewidth": 0,
            "ticks": ""
           }
          },
          "colorscale": {
           "diverging": [
            [
             0,
             "#8e0152"
            ],
            [
             0.1,
             "#c51b7d"
            ],
            [
             0.2,
             "#de77ae"
            ],
            [
             0.3,
             "#f1b6da"
            ],
            [
             0.4,
             "#fde0ef"
            ],
            [
             0.5,
             "#f7f7f7"
            ],
            [
             0.6,
             "#e6f5d0"
            ],
            [
             0.7,
             "#b8e186"
            ],
            [
             0.8,
             "#7fbc41"
            ],
            [
             0.9,
             "#4d9221"
            ],
            [
             1,
             "#276419"
            ]
           ],
           "sequential": [
            [
             0,
             "#0d0887"
            ],
            [
             0.1111111111111111,
             "#46039f"
            ],
            [
             0.2222222222222222,
             "#7201a8"
            ],
            [
             0.3333333333333333,
             "#9c179e"
            ],
            [
             0.4444444444444444,
             "#bd3786"
            ],
            [
             0.5555555555555556,
             "#d8576b"
            ],
            [
             0.6666666666666666,
             "#ed7953"
            ],
            [
             0.7777777777777778,
             "#fb9f3a"
            ],
            [
             0.8888888888888888,
             "#fdca26"
            ],
            [
             1,
             "#f0f921"
            ]
           ],
           "sequentialminus": [
            [
             0,
             "#0d0887"
            ],
            [
             0.1111111111111111,
             "#46039f"
            ],
            [
             0.2222222222222222,
             "#7201a8"
            ],
            [
             0.3333333333333333,
             "#9c179e"
            ],
            [
             0.4444444444444444,
             "#bd3786"
            ],
            [
             0.5555555555555556,
             "#d8576b"
            ],
            [
             0.6666666666666666,
             "#ed7953"
            ],
            [
             0.7777777777777778,
             "#fb9f3a"
            ],
            [
             0.8888888888888888,
             "#fdca26"
            ],
            [
             1,
             "#f0f921"
            ]
           ]
          },
          "colorway": [
           "#636efa",
           "#EF553B",
           "#00cc96",
           "#ab63fa",
           "#FFA15A",
           "#19d3f3",
           "#FF6692",
           "#B6E880",
           "#FF97FF",
           "#FECB52"
          ],
          "font": {
           "color": "#2a3f5f"
          },
          "geo": {
           "bgcolor": "white",
           "lakecolor": "white",
           "landcolor": "white",
           "showlakes": true,
           "showland": true,
           "subunitcolor": "#C8D4E3"
          },
          "hoverlabel": {
           "align": "left"
          },
          "hovermode": "closest",
          "mapbox": {
           "style": "light"
          },
          "paper_bgcolor": "white",
          "plot_bgcolor": "white",
          "polar": {
           "angularaxis": {
            "gridcolor": "#EBF0F8",
            "linecolor": "#EBF0F8",
            "ticks": ""
           },
           "bgcolor": "white",
           "radialaxis": {
            "gridcolor": "#EBF0F8",
            "linecolor": "#EBF0F8",
            "ticks": ""
           }
          },
          "scene": {
           "xaxis": {
            "backgroundcolor": "white",
            "gridcolor": "#DFE8F3",
            "gridwidth": 2,
            "linecolor": "#EBF0F8",
            "showbackground": true,
            "ticks": "",
            "zerolinecolor": "#EBF0F8"
           },
           "yaxis": {
            "backgroundcolor": "white",
            "gridcolor": "#DFE8F3",
            "gridwidth": 2,
            "linecolor": "#EBF0F8",
            "showbackground": true,
            "ticks": "",
            "zerolinecolor": "#EBF0F8"
           },
           "zaxis": {
            "backgroundcolor": "white",
            "gridcolor": "#DFE8F3",
            "gridwidth": 2,
            "linecolor": "#EBF0F8",
            "showbackground": true,
            "ticks": "",
            "zerolinecolor": "#EBF0F8"
           }
          },
          "shapedefaults": {
           "line": {
            "color": "#2a3f5f"
           }
          },
          "ternary": {
           "aaxis": {
            "gridcolor": "#DFE8F3",
            "linecolor": "#A2B1C6",
            "ticks": ""
           },
           "baxis": {
            "gridcolor": "#DFE8F3",
            "linecolor": "#A2B1C6",
            "ticks": ""
           },
           "bgcolor": "white",
           "caxis": {
            "gridcolor": "#DFE8F3",
            "linecolor": "#A2B1C6",
            "ticks": ""
           }
          },
          "title": {
           "x": 0.05
          },
          "xaxis": {
           "automargin": true,
           "gridcolor": "#EBF0F8",
           "linecolor": "#EBF0F8",
           "ticks": "",
           "title": {
            "standoff": 15
           },
           "zerolinecolor": "#EBF0F8",
           "zerolinewidth": 2
          },
          "yaxis": {
           "automargin": true,
           "gridcolor": "#EBF0F8",
           "linecolor": "#EBF0F8",
           "ticks": "",
           "title": {
            "standoff": 15
           },
           "zerolinecolor": "#EBF0F8",
           "zerolinewidth": 2
          }
         }
        },
        "title": {
         "text": "Tempo Perdido que mais impacta a Eficiência - Matutino",
         "x": 0.5
        },
        "xaxis": {
         "title": {
          "text": "Motivo/Problema"
         }
        },
        "yaxis": {
         "title": {
          "text": "Tempo Perdido"
         }
        }
       }
      }
     },
     "metadata": {},
     "output_type": "display_data"
    }
   ],
   "source": [
    "indicators_turn.get_eff_heat_turn((df_eff[df_eff[\"turno\"] == \"MAT\"]).copy(), 90, False)\n",
    "\n",
    "indicators_turn.get_eff_bar_turn(df_eff.copy())\n",
    "\n",
    "teste_ind = indicators_turn.get_eff_lost(df_maq_info_occ_combined.copy())\n",
    "\n",
    "indicators_turn.get_eff_bar_lost(teste_ind.copy(), \"MAT\", True)"
   ]
  },
  {
   "cell_type": "markdown",
   "metadata": {},
   "source": [
    "# Tabela de Paradas\n"
   ]
  },
  {
   "cell_type": "code",
   "execution_count": null,
   "metadata": {},
   "outputs": [],
   "source": [
    "# Paradas Empilhadas\n",
    "\n",
    "\n",
    "# cSpell: disable=invalid-name\n",
    "def stops(df: pd.DataFrame, data=None, turno: str = \"MAT\") -> pd.DataFrame:\n",
    "\n",
    "    if data is not None:\n",
    "        # Filtro pelo dia\n",
    "        df = df[df[\"data_registro\"] == pd.to_datetime(data).date()]\n",
    "\n",
    "    # filtro pelo turno\n",
    "    df = df[df[\"turno\"] == turno]\n",
    "\n",
    "    # Remover colunas que não serão necessárias\n",
    "    df.drop(\n",
    "        columns=[\n",
    "            \"feriado\",\n",
    "            \"domingo\",\n",
    "            \"sabado\",\n",
    "            \"contagem_total_produzido\",\n",
    "            \"contagem_total_ciclos\",\n",
    "            \"usuario_id_occ\",\n",
    "            \"solucao\",\n",
    "            \"status\",\n",
    "        ],\n",
    "        inplace=True,\n",
    "    )\n",
    "\n",
    "    # Se o tempo_registro_min for 5 ou menos, substituir problema por \"Não apontado - 5min ou menos\" e motivo_nome por \"5min ou menos\"\n",
    "    df.loc[df[\"tempo_registro_min\"] <= 5, [\"problema\", \"motivo_nome\"]] = [\n",
    "        \"Não apontado - 5min ou menos\",\n",
    "        \"5min ou menos\",\n",
    "    ]\n",
    "\n",
    "    # Substituir valores nulos em motivo_nome por \"Motivo não apontado\" e em problema por \"Não Informado\"\n",
    "    df.fillna({\"motivo_nome\": \"Motivo não apontado\", \"problema\": \"Não Informado\"}, inplace=True)\n",
    "\n",
    "    # Ordenar os dados para que 'Rodando' sempre apareça por último\n",
    "    df[\"sort\"] = df[\"motivo_nome\"] == \"Rodando\"\n",
    "    df = df.sort_values(\n",
    "        by=[\"linha\", \"data_registro\", \"sort\", \"tempo_registro_min\"],\n",
    "        ascending=[True, True, False, False],\n",
    "    )\n",
    "    df = df.drop(columns=\"sort\")\n",
    "\n",
    "    color_dict = {\n",
    "        \"5min ou menos\": BSColorsEnum.GREY_500_COLOR.value,\n",
    "        \"Motivo não apontado\": BSColorsEnum.GREY_600_COLOR.value,\n",
    "        \"Ajustes\": BSColorsEnum.GRAY_COLOR.value,\n",
    "        \"Troca de Bobina\": BSColorsEnum.GREY_400_COLOR.value,\n",
    "        \"Refeição\": BSColorsEnum.ORANGE_COLOR.value,\n",
    "        \"Reunião\": BSColorsEnum.SECONDARY_COLOR.value,\n",
    "        \"Café e Ginástica Laboral\": BSColorsEnum.PRIMARY_COLOR.value,\n",
    "        \"Limpeza\": BSColorsEnum.GREY_700_COLOR.value,\n",
    "        \"Manutenção Elétrica\": BSColorsEnum.SPACE_CADET_COLOR.value,\n",
    "        \"Manutenção Mecânica\": BSColorsEnum.BLUE_DELFT_COLOR.value,\n",
    "        \"Material em Falta\": BSColorsEnum.GREY_900_COLOR.value,\n",
    "        \"Setup de Sabor\": BSColorsEnum.PURPLE_COLOR.value,\n",
    "        \"Setup de Tamanho\": BSColorsEnum.PINK_COLOR.value,\n",
    "        \"Parada Programada\": BSColorsEnum.DANGER_COLOR.value,\n",
    "        \"Intervenção de Qualidade\": BSColorsEnum.INDIGO_COLOR.value,\n",
    "        \"Linha Cheia\": BSColorsEnum.TEAL_COLOR.value,\n",
    "        \"Treinamento\": BSColorsEnum.INFO_COLOR.value,\n",
    "        \"Limpeza Industrial\": BSColorsEnum.WARNING_COLOR.value,\n",
    "        \"Troca de Filme\": BSColorsEnum.GREY_800_COLOR.value,\n",
    "        \"Rodando\": BSColorsEnum.SUCCESS_COLOR.value,\n",
    "    }\n",
    "\n",
    "    # Criação do gráfico de barras\n",
    "    fig = px.bar(\n",
    "        df,\n",
    "        x=\"linha\",\n",
    "        y=\"tempo_registro_min\",\n",
    "        color=\"motivo_nome\",\n",
    "        barmode=\"stack\",\n",
    "        labels={\n",
    "            \"tempo_registro_min\": \"Tempo (min)\",\n",
    "            \"linha\": \"Linha\",\n",
    "            \"motivo_nome\": \"Motivo\",\n",
    "        },\n",
    "        title=\"Tempo de Parada por Problema\",\n",
    "        color_discrete_map=color_dict,\n",
    "    )\n",
    "\n",
    "    # Adicionar título e labels\n",
    "    fig.update_layout(\n",
    "        title_x=0.5,\n",
    "        xaxis_title=\"Linha\",\n",
    "        yaxis_title=\"Tempo (min)\",\n",
    "        plot_bgcolor=\"white\",\n",
    "        margin=dict(t=40, b=40, l=40, r=40),\n",
    "        xaxis=dict(\n",
    "            categoryorder=\"category ascending\",\n",
    "            tickvals=df[\"linha\"].unique(),\n",
    "        ),\n",
    "    )\n",
    "\n",
    "    fig.show()\n",
    "\n",
    "    return fig"
   ]
  },
  {
   "cell_type": "code",
   "execution_count": null,
   "metadata": {},
   "outputs": [
    {
     "data": {
      "application/vnd.plotly.v1+json": {
       "config": {
        "plotlyServerURL": "https://plot.ly"
       },
       "data": [
        {
         "alignmentgroup": "True",
         "hovertemplate": "Motivo=Rodando<br>Linha=%{x}<br>Tempo (min)=%{y}<extra></extra>",
         "legendgroup": "Rodando",
         "marker": {
          "color": "#198754",
          "pattern": {
           "shape": ""
          }
         },
         "name": "Rodando",
         "offsetgroup": "Rodando",
         "orientation": "v",
         "showlegend": true,
         "textposition": "auto",
         "type": "bar",
         "x": [
          1,
          1,
          1,
          1,
          1,
          1,
          1,
          1,
          1,
          1,
          1,
          1,
          1,
          1,
          1,
          1,
          2,
          2,
          2,
          2,
          2,
          2,
          2,
          2,
          3,
          3,
          3,
          3,
          3,
          3,
          3,
          3,
          3,
          3,
          3,
          3,
          3,
          3,
          4,
          4,
          4,
          4,
          4,
          4,
          4,
          4,
          4,
          4,
          4,
          4,
          4,
          4,
          4,
          4,
          5,
          5,
          5,
          5,
          5,
          5,
          5,
          5,
          5,
          5,
          5,
          5,
          5,
          6,
          6,
          6,
          6,
          6,
          6,
          6,
          6,
          6,
          6,
          6,
          7,
          7,
          7,
          7,
          7,
          7,
          7,
          7,
          7,
          7,
          7,
          7,
          7,
          7,
          8,
          8,
          8,
          8,
          8,
          8,
          8,
          8,
          8,
          8,
          8,
          8,
          8,
          8,
          8,
          9,
          9,
          9,
          9,
          9,
          9,
          9,
          9,
          9,
          9,
          9,
          9,
          9,
          9,
          10,
          10,
          11,
          11,
          11,
          11,
          11,
          11,
          11,
          11,
          11,
          11,
          11,
          11,
          12,
          12,
          12,
          12,
          12,
          12,
          12,
          12,
          12,
          12,
          12,
          12,
          13,
          13,
          13,
          13,
          13,
          13,
          13,
          13,
          13,
          13,
          13,
          13,
          13,
          13,
          13,
          14,
          14,
          14,
          14,
          14,
          14,
          14,
          14,
          14,
          14
         ],
         "xaxis": "x",
         "y": [
          306,
          302,
          336,
          254,
          326,
          282,
          244,
          320,
          342,
          334,
          296,
          262,
          342,
          336,
          260,
          324,
          306,
          304,
          338,
          252,
          312,
          316,
          320,
          18,
          360,
          132,
          312,
          140,
          302,
          282,
          286,
          172,
          166,
          252,
          152,
          222,
          178,
          278,
          352,
          334,
          352,
          222,
          346,
          386,
          284,
          108,
          154,
          390,
          320,
          366,
          300,
          390,
          264,
          290,
          436,
          462,
          432,
          348,
          396,
          450,
          312,
          316,
          472,
          462,
          430,
          272,
          402,
          444,
          470,
          460,
          82,
          454,
          402,
          388,
          436,
          420,
          228,
          448,
          468,
          367,
          418,
          454,
          358,
          390,
          222,
          146,
          470,
          338,
          464,
          462,
          302,
          450,
          410,
          452,
          434,
          386,
          460,
          374,
          438,
          218,
          470,
          472,
          460,
          474,
          378,
          374,
          442,
          408,
          422,
          466,
          460,
          448,
          448,
          414,
          416,
          386,
          352,
          420,
          330,
          458,
          252,
          238,
          334,
          388,
          400,
          352,
          398,
          94,
          410,
          390,
          362,
          402,
          48,
          228,
          302,
          334,
          282,
          378,
          202,
          266,
          262,
          292,
          42,
          446,
          424,
          178,
          384,
          448,
          22,
          312,
          422,
          366,
          314,
          442,
          366,
          358,
          390,
          386,
          354,
          470,
          442,
          334,
          344,
          438,
          346,
          322,
          280,
          468,
          242,
          306,
          350,
          380
         ],
         "yaxis": "y"
        },
        {
         "alignmentgroup": "True",
         "hovertemplate": "Motivo=Refeição<br>Linha=%{x}<br>Tempo (min)=%{y}<extra></extra>",
         "legendgroup": "Refeição",
         "marker": {
          "color": "#fd7e14",
          "pattern": {
           "shape": ""
          }
         },
         "name": "Refeição",
         "offsetgroup": "Refeição",
         "orientation": "v",
         "showlegend": true,
         "textposition": "auto",
         "type": "bar",
         "x": [
          1,
          1,
          1,
          1,
          1,
          1,
          1,
          1,
          1,
          1,
          2,
          2,
          2,
          2,
          2,
          3,
          3,
          3,
          3,
          3,
          3,
          3,
          3,
          4,
          4,
          4,
          4,
          4,
          4,
          4,
          4,
          4,
          4,
          7,
          10,
          11,
          11,
          11,
          12,
          12,
          12,
          14,
          14
         ],
         "xaxis": "x",
         "y": [
          132,
          134,
          134,
          138,
          144,
          132,
          134,
          132,
          132,
          132,
          130,
          132,
          144,
          82,
          480,
          68,
          232,
          136,
          80,
          78,
          164,
          138,
          134,
          66,
          68,
          108,
          84,
          70,
          78,
          136,
          68,
          68,
          140,
          130,
          70,
          68,
          68,
          70,
          66,
          68,
          362,
          76,
          78
         ],
         "yaxis": "y"
        },
        {
         "alignmentgroup": "True",
         "hovertemplate": "Motivo=Motivo não apontado<br>Linha=%{x}<br>Tempo (min)=%{y}<extra></extra>",
         "legendgroup": "Motivo não apontado",
         "marker": {
          "color": "#6c757d",
          "pattern": {
           "shape": ""
          }
         },
         "name": "Motivo não apontado",
         "offsetgroup": "Motivo não apontado",
         "orientation": "v",
         "showlegend": true,
         "textposition": "auto",
         "type": "bar",
         "x": [
          1,
          1,
          1,
          1,
          1,
          1,
          1,
          1,
          1,
          1,
          1,
          1,
          1,
          1,
          1,
          1,
          1,
          1,
          1,
          1,
          1,
          1,
          1,
          1,
          1,
          1,
          1,
          1,
          1,
          2,
          2,
          2,
          2,
          2,
          2,
          2,
          2,
          2,
          2,
          2,
          2,
          2,
          2,
          3,
          3,
          3,
          3,
          3,
          3,
          3,
          3,
          3,
          3,
          3,
          3,
          3,
          3,
          3,
          3,
          3,
          3,
          3,
          3,
          3,
          3,
          3,
          3,
          3,
          3,
          3,
          3,
          3,
          3,
          4,
          4,
          4,
          4,
          4,
          4,
          4,
          4,
          4,
          4,
          4,
          4,
          4,
          4,
          4,
          4,
          4,
          4,
          4,
          4,
          4,
          4,
          4,
          4,
          4,
          4,
          4,
          4,
          4,
          4,
          4,
          4,
          4,
          4,
          4,
          4,
          4,
          4,
          4,
          4,
          4,
          4,
          5,
          5,
          5,
          5,
          5,
          5,
          5,
          5,
          5,
          5,
          5,
          5,
          5,
          5,
          5,
          5,
          5,
          5,
          5,
          5,
          5,
          5,
          5,
          5,
          5,
          5,
          5,
          5,
          5,
          5,
          5,
          6,
          6,
          6,
          6,
          6,
          6,
          6,
          6,
          6,
          6,
          6,
          6,
          6,
          6,
          6,
          6,
          6,
          6,
          6,
          6,
          7,
          7,
          7,
          7,
          7,
          7,
          7,
          7,
          7,
          7,
          7,
          7,
          7,
          7,
          7,
          7,
          7,
          7,
          7,
          7,
          7,
          7,
          7,
          7,
          8,
          8,
          8,
          8,
          8,
          8,
          8,
          8,
          8,
          8,
          8,
          8,
          8,
          8,
          8,
          8,
          8,
          8,
          8,
          8,
          8,
          8,
          8,
          8,
          8,
          8,
          8,
          9,
          9,
          9,
          9,
          9,
          9,
          9,
          9,
          9,
          9,
          9,
          9,
          9,
          9,
          9,
          9,
          9,
          9,
          9,
          9,
          9,
          9,
          9,
          9,
          9,
          9,
          9,
          9,
          9,
          9,
          10,
          10,
          10,
          10,
          10,
          10,
          10,
          10,
          10,
          10,
          10,
          11,
          11,
          11,
          11,
          11,
          11,
          11,
          11,
          11,
          11,
          11,
          11,
          11,
          11,
          11,
          11,
          11,
          11,
          11,
          11,
          11,
          11,
          11,
          12,
          12,
          12,
          12,
          12,
          12,
          12,
          12,
          12,
          12,
          12,
          12,
          12,
          12,
          12,
          12,
          12,
          12,
          12,
          12,
          12,
          12,
          12,
          12,
          12,
          12,
          12,
          12,
          12,
          12,
          12,
          12,
          12,
          12,
          12,
          12,
          12,
          12,
          12,
          12,
          12,
          12,
          12,
          13,
          13,
          13,
          13,
          13,
          13,
          13,
          13,
          13,
          13,
          13,
          13,
          13,
          13,
          13,
          13,
          13,
          13,
          13,
          13,
          13,
          13,
          13,
          13,
          13,
          13,
          13,
          13,
          13,
          13,
          13,
          13,
          13,
          13,
          13,
          13,
          13,
          13,
          13,
          13,
          13,
          13,
          13,
          13,
          13,
          13,
          13,
          13,
          13,
          13,
          13,
          13,
          13,
          13,
          13,
          14,
          14,
          14,
          14,
          14,
          14,
          14,
          14,
          14,
          14,
          14,
          14,
          14,
          14,
          14,
          14,
          14,
          14,
          14,
          14,
          14,
          14,
          14,
          14,
          14,
          14,
          14,
          14,
          14
         ],
         "xaxis": "x",
         "y": [
          38,
          10,
          32,
          10,
          132,
          8,
          10,
          64,
          14,
          10,
          6,
          132,
          14,
          8,
          130,
          8,
          130,
          6,
          6,
          20,
          8,
          130,
          12,
          10,
          130,
          26,
          12,
          8,
          6,
          38,
          12,
          8,
          8,
          134,
          26,
          10,
          134,
          16,
          10,
          14,
          54,
          6,
          306,
          28,
          6,
          6,
          28,
          26,
          12,
          10,
          8,
          50,
          20,
          12,
          6,
          64,
          26,
          8,
          6,
          50,
          32,
          14,
          8,
          6,
          132,
          10,
          6,
          12,
          26,
          26,
          22,
          14,
          14,
          34,
          8,
          6,
          24,
          18,
          6,
          10,
          96,
          42,
          18,
          10,
          30,
          8,
          36,
          18,
          18,
          6,
          50,
          12,
          8,
          6,
          284,
          52,
          20,
          14,
          16,
          72,
          6,
          8,
          6,
          92,
          6,
          6,
          88,
          6,
          26,
          14,
          14,
          10,
          8,
          14,
          6,
          26,
          12,
          8,
          6,
          24,
          22,
          46,
          10,
          24,
          24,
          20,
          6,
          6,
          10,
          6,
          140,
          12,
          8,
          38,
          18,
          10,
          8,
          8,
          8,
          90,
          32,
          22,
          14,
          10,
          6,
          10,
          22,
          6,
          16,
          376,
          20,
          14,
          22,
          16,
          14,
          8,
          8,
          38,
          26,
          24,
          20,
          10,
          8,
          36,
          12,
          8,
          10,
          90,
          32,
          12,
          8,
          14,
          36,
          12,
          10,
          6,
          30,
          30,
          14,
          6,
          214,
          16,
          14,
          8,
          8,
          16,
          74,
          40,
          10,
          10,
          46,
          20,
          6,
          14,
          14,
          24,
          12,
          12,
          10,
          10,
          8,
          6,
          12,
          6,
          30,
          222,
          38,
          8,
          6,
          6,
          26,
          8,
          8,
          6,
          18,
          12,
          8,
          36,
          18,
          8,
          10,
          10,
          8,
          8,
          6,
          6,
          6,
          18,
          6,
          32,
          8,
          6,
          6,
          22,
          18,
          16,
          64,
          8,
          6,
          6,
          66,
          36,
          16,
          52,
          12,
          206,
          14,
          118,
          68,
          24,
          14,
          14,
          18,
          12,
          12,
          10,
          10,
          8,
          14,
          6,
          80,
          70,
          26,
          12,
          8,
          68,
          6,
          386,
          68,
          14,
          68,
          22,
          12,
          420,
          12,
          66,
          24,
          10,
          6,
          10,
          8,
          12,
          6,
          132,
          54,
          68,
          18,
          8,
          102,
          76,
          60,
          14,
          14,
          6,
          60,
          50,
          10,
          8,
          8,
          90,
          44,
          12,
          10,
          8,
          6,
          68,
          66,
          26,
          12,
          8,
          52,
          20,
          20,
          8,
          14,
          10,
          10,
          8,
          26,
          16,
          10,
          6,
          16,
          8,
          10,
          400,
          58,
          78,
          26,
          16,
          12,
          10,
          10,
          6,
          42,
          38,
          30,
          18,
          14,
          8,
          78,
          38,
          28,
          8,
          6,
          12,
          10,
          6,
          6,
          32,
          20,
          14,
          12,
          12,
          8,
          78,
          18,
          8,
          12,
          12,
          10,
          10,
          8,
          6,
          6,
          38,
          26,
          20,
          62,
          16,
          10,
          8,
          6,
          6,
          14,
          10,
          8,
          70,
          8,
          68,
          6,
          42,
          34,
          28,
          16,
          6,
          42,
          28,
          8,
          96,
          38,
          30,
          12,
          8,
          10,
          66,
          66,
          54,
          20,
          18,
          12,
          82,
          68,
          12,
          76,
          26,
          6,
          12
         ],
         "yaxis": "y"
        },
        {
         "alignmentgroup": "True",
         "hovertemplate": "Motivo=5min ou menos<br>Linha=%{x}<br>Tempo (min)=%{y}<extra></extra>",
         "legendgroup": "5min ou menos",
         "marker": {
          "color": "#adb5bd",
          "pattern": {
           "shape": ""
          }
         },
         "name": "5min ou menos",
         "offsetgroup": "5min ou menos",
         "orientation": "v",
         "showlegend": true,
         "textposition": "auto",
         "type": "bar",
         "x": [
          1,
          1,
          1,
          1,
          1,
          1,
          1,
          1,
          1,
          1,
          1,
          1,
          1,
          1,
          1,
          1,
          1,
          1,
          1,
          1,
          1,
          1,
          1,
          1,
          1,
          1,
          1,
          1,
          1,
          1,
          1,
          1,
          1,
          1,
          1,
          1,
          1,
          1,
          1,
          1,
          1,
          1,
          1,
          1,
          1,
          1,
          1,
          1,
          2,
          2,
          2,
          2,
          2,
          2,
          2,
          2,
          2,
          2,
          2,
          2,
          2,
          2,
          2,
          2,
          2,
          2,
          2,
          2,
          2,
          2,
          2,
          3,
          3,
          3,
          3,
          3,
          3,
          3,
          3,
          3,
          3,
          3,
          3,
          3,
          3,
          3,
          3,
          3,
          3,
          3,
          3,
          3,
          3,
          3,
          3,
          3,
          3,
          3,
          3,
          3,
          3,
          3,
          3,
          3,
          3,
          3,
          3,
          3,
          3,
          3,
          3,
          3,
          3,
          3,
          3,
          3,
          3,
          3,
          3,
          3,
          4,
          4,
          4,
          4,
          4,
          4,
          4,
          4,
          4,
          4,
          4,
          4,
          4,
          4,
          4,
          4,
          4,
          4,
          4,
          4,
          4,
          4,
          4,
          4,
          4,
          4,
          4,
          4,
          4,
          4,
          4,
          4,
          4,
          4,
          4,
          4,
          4,
          4,
          4,
          4,
          4,
          4,
          4,
          4,
          4,
          4,
          4,
          4,
          4,
          4,
          4,
          4,
          4,
          4,
          4,
          4,
          4,
          4,
          4,
          4,
          4,
          4,
          4,
          4,
          4,
          4,
          4,
          4,
          4,
          4,
          5,
          5,
          5,
          5,
          5,
          5,
          5,
          5,
          5,
          5,
          5,
          5,
          5,
          5,
          5,
          5,
          5,
          5,
          5,
          5,
          5,
          5,
          5,
          5,
          5,
          5,
          5,
          5,
          5,
          5,
          5,
          6,
          6,
          6,
          6,
          6,
          6,
          6,
          6,
          6,
          6,
          6,
          6,
          6,
          6,
          6,
          6,
          6,
          6,
          6,
          6,
          6,
          6,
          6,
          6,
          6,
          6,
          6,
          6,
          6,
          6,
          6,
          6,
          6,
          6,
          6,
          6,
          6,
          7,
          7,
          7,
          7,
          7,
          7,
          7,
          7,
          7,
          7,
          7,
          7,
          7,
          7,
          7,
          7,
          7,
          7,
          7,
          7,
          7,
          7,
          7,
          7,
          7,
          7,
          7,
          7,
          7,
          7,
          7,
          7,
          7,
          7,
          7,
          7,
          7,
          7,
          7,
          7,
          7,
          7,
          7,
          7,
          7,
          7,
          8,
          8,
          8,
          8,
          8,
          8,
          8,
          8,
          8,
          8,
          8,
          8,
          8,
          8,
          8,
          8,
          8,
          8,
          8,
          8,
          8,
          8,
          8,
          8,
          8,
          8,
          8,
          8,
          8,
          8,
          8,
          8,
          8,
          8,
          8,
          8,
          8,
          8,
          8,
          8,
          8,
          8,
          8,
          8,
          8,
          8,
          8,
          8,
          8,
          8,
          8,
          8,
          8,
          8,
          8,
          8,
          8,
          8,
          8,
          8,
          8,
          8,
          8,
          8,
          8,
          8,
          8,
          8,
          8,
          8,
          8,
          8,
          9,
          9,
          9,
          9,
          9,
          9,
          9,
          9,
          9,
          9,
          9,
          9,
          9,
          9,
          9,
          9,
          9,
          9,
          9,
          9,
          9,
          9,
          9,
          9,
          9,
          9,
          9,
          9,
          9,
          9,
          9,
          9,
          9,
          9,
          9,
          9,
          9,
          9,
          9,
          9,
          9,
          9,
          9,
          9,
          9,
          9,
          9,
          9,
          9,
          9,
          9,
          9,
          9,
          9,
          9,
          9,
          10,
          10,
          10,
          11,
          11,
          11,
          11,
          11,
          11,
          11,
          11,
          11,
          11,
          11,
          11,
          11,
          11,
          11,
          11,
          11,
          11,
          11,
          11,
          11,
          11,
          11,
          11,
          11,
          11,
          11,
          11,
          11,
          11,
          12,
          12,
          12,
          12,
          12,
          12,
          12,
          12,
          12,
          12,
          12,
          12,
          12,
          12,
          12,
          12,
          12,
          12,
          12,
          12,
          12,
          12,
          12,
          12,
          12,
          12,
          12,
          12,
          12,
          12,
          12,
          12,
          12,
          12,
          12,
          13,
          13,
          13,
          13,
          13,
          13,
          13,
          13,
          13,
          13,
          13,
          13,
          13,
          13,
          13,
          13,
          13,
          13,
          13,
          13,
          13,
          13,
          13,
          13,
          13,
          13,
          13,
          13,
          13,
          13,
          13,
          13,
          13,
          13,
          13,
          13,
          13,
          13,
          13,
          13,
          13,
          13,
          13,
          13,
          13,
          13,
          13,
          13,
          13,
          13,
          13,
          13,
          13,
          13,
          13,
          13,
          13,
          13,
          13,
          13,
          13,
          14,
          14,
          14,
          14,
          14,
          14,
          14,
          14,
          14,
          14,
          14,
          14,
          14,
          14,
          14,
          14,
          14,
          14,
          14,
          14,
          14,
          14,
          14,
          14,
          14,
          14,
          14,
          14,
          14,
          14,
          14,
          14,
          14,
          14,
          14,
          14,
          14,
          14,
          14
         ],
         "xaxis": "x",
         "y": [
          4,
          2,
          2,
          2,
          2,
          2,
          4,
          2,
          2,
          2,
          4,
          4,
          2,
          2,
          2,
          4,
          4,
          4,
          2,
          2,
          4,
          4,
          2,
          2,
          2,
          2,
          2,
          2,
          2,
          2,
          2,
          4,
          2,
          2,
          2,
          2,
          4,
          2,
          2,
          2,
          2,
          2,
          2,
          2,
          2,
          2,
          2,
          2,
          2,
          2,
          2,
          2,
          2,
          4,
          2,
          2,
          4,
          2,
          2,
          2,
          4,
          2,
          2,
          4,
          2,
          4,
          4,
          4,
          2,
          2,
          2,
          4,
          2,
          2,
          2,
          2,
          4,
          4,
          2,
          4,
          2,
          2,
          2,
          2,
          4,
          2,
          2,
          2,
          4,
          4,
          2,
          2,
          2,
          4,
          2,
          4,
          2,
          2,
          2,
          2,
          2,
          4,
          4,
          2,
          2,
          2,
          2,
          2,
          2,
          4,
          4,
          2,
          2,
          2,
          2,
          2,
          4,
          2,
          2,
          2,
          4,
          2,
          2,
          2,
          2,
          2,
          4,
          4,
          4,
          2,
          2,
          2,
          4,
          2,
          2,
          2,
          2,
          2,
          2,
          2,
          2,
          4,
          2,
          2,
          2,
          2,
          2,
          2,
          4,
          2,
          2,
          2,
          2,
          2,
          2,
          2,
          2,
          2,
          2,
          2,
          2,
          4,
          2,
          2,
          2,
          4,
          2,
          2,
          2,
          2,
          2,
          2,
          2,
          4,
          4,
          2,
          2,
          2,
          2,
          2,
          2,
          2,
          4,
          2,
          2,
          2,
          4,
          4,
          2,
          2,
          2,
          2,
          2,
          2,
          2,
          2,
          4,
          4,
          4,
          2,
          2,
          4,
          2,
          2,
          2,
          2,
          2,
          4,
          2,
          2,
          4,
          2,
          2,
          2,
          2,
          2,
          4,
          2,
          2,
          2,
          2,
          4,
          2,
          2,
          4,
          4,
          2,
          2,
          2,
          2,
          4,
          2,
          2,
          2,
          2,
          2,
          2,
          2,
          2,
          2,
          2,
          2,
          2,
          2,
          2,
          4,
          2,
          2,
          2,
          2,
          4,
          2,
          2,
          2,
          2,
          2,
          2,
          2,
          2,
          4,
          2,
          4,
          2,
          2,
          2,
          2,
          2,
          2,
          2,
          2,
          2,
          2,
          2,
          2,
          2,
          4,
          4,
          2,
          4,
          2,
          2,
          4,
          2,
          2,
          2,
          4,
          2,
          2,
          2,
          2,
          4,
          4,
          2,
          2,
          2,
          2,
          2,
          2,
          2,
          2,
          2,
          4,
          2,
          2,
          2,
          2,
          4,
          2,
          2,
          2,
          2,
          2,
          2,
          2,
          2,
          2,
          2,
          2,
          2,
          2,
          2,
          2,
          2,
          2,
          2,
          4,
          4,
          2,
          2,
          2,
          2,
          2,
          4,
          4,
          2,
          2,
          2,
          4,
          2,
          2,
          2,
          2,
          2,
          2,
          4,
          4,
          2,
          2,
          2,
          2,
          2,
          2,
          2,
          2,
          2,
          2,
          2,
          2,
          4,
          2,
          2,
          2,
          2,
          2,
          2,
          2,
          2,
          4,
          2,
          4,
          2,
          2,
          2,
          2,
          2,
          2,
          2,
          2,
          2,
          2,
          2,
          2,
          2,
          4,
          4,
          4,
          2,
          4,
          4,
          4,
          2,
          2,
          2,
          2,
          4,
          2,
          2,
          2,
          2,
          2,
          2,
          4,
          2,
          2,
          2,
          2,
          2,
          2,
          2,
          2,
          2,
          4,
          2,
          2,
          2,
          4,
          2,
          2,
          2,
          4,
          2,
          2,
          2,
          2,
          2,
          4,
          2,
          2,
          2,
          2,
          2,
          2,
          4,
          4,
          2,
          2,
          2,
          4,
          2,
          2,
          2,
          2,
          2,
          2,
          2,
          2,
          2,
          2,
          2,
          2,
          2,
          4,
          2,
          2,
          2,
          2,
          2,
          2,
          2,
          2,
          2,
          2,
          2,
          4,
          2,
          2,
          4,
          2,
          2,
          2,
          2,
          2,
          2,
          2,
          2,
          4,
          2,
          4,
          4,
          2,
          2,
          2,
          2,
          4,
          2,
          2,
          4,
          2,
          2,
          2,
          4,
          4,
          2,
          2,
          2,
          2,
          4,
          4,
          2,
          2,
          4,
          2,
          2,
          2,
          2,
          4,
          2,
          2,
          2,
          2,
          2,
          2,
          2,
          2,
          2,
          2,
          2,
          2,
          2,
          2,
          4,
          2,
          2,
          2,
          2,
          4,
          4,
          2,
          2,
          2,
          2,
          4,
          2,
          2,
          2,
          2,
          2,
          2,
          2,
          4,
          2,
          2,
          4,
          2,
          2,
          2,
          4,
          2,
          2,
          2,
          2,
          2,
          2,
          2,
          2,
          2,
          2,
          2,
          2,
          2,
          2,
          2,
          2,
          2,
          2,
          2,
          2,
          2,
          2,
          2,
          2,
          2,
          2,
          2,
          2,
          2,
          4,
          4,
          2,
          2,
          2,
          2,
          2,
          2,
          2,
          2,
          2,
          2,
          2,
          2,
          4,
          4,
          2,
          2,
          2,
          2,
          2,
          2,
          2,
          2
         ],
         "yaxis": "y"
        },
        {
         "alignmentgroup": "True",
         "hovertemplate": "Motivo=Parada Programada<br>Linha=%{x}<br>Tempo (min)=%{y}<extra></extra>",
         "legendgroup": "Parada Programada",
         "marker": {
          "color": "#dc3545",
          "pattern": {
           "shape": ""
          }
         },
         "name": "Parada Programada",
         "offsetgroup": "Parada Programada",
         "orientation": "v",
         "showlegend": true,
         "textposition": "auto",
         "type": "bar",
         "x": [
          1,
          1,
          1,
          2,
          2,
          2,
          2,
          2,
          2,
          2,
          2,
          2,
          2,
          2,
          3,
          3,
          3,
          3,
          3,
          3,
          3,
          3,
          3,
          4,
          4,
          4,
          4,
          5,
          5,
          5,
          5,
          5,
          5,
          6,
          6,
          6,
          6,
          6,
          6,
          6,
          6,
          7,
          7,
          7,
          7,
          7,
          7,
          7,
          8,
          8,
          8,
          9,
          9,
          9,
          9,
          9,
          10,
          10,
          10,
          10,
          10,
          10,
          10,
          10,
          10,
          10,
          10,
          10,
          10,
          10,
          10,
          11,
          11,
          11,
          11,
          11,
          11,
          11,
          11,
          11,
          11,
          11,
          12,
          12,
          12,
          12,
          12,
          12,
          12,
          12,
          12,
          12,
          12,
          13,
          13,
          13,
          13,
          13,
          13,
          13,
          13,
          14,
          14,
          14,
          14,
          14,
          14,
          14,
          14,
          14,
          14
         ],
         "xaxis": "x",
         "y": [
          480,
          480,
          480,
          480,
          480,
          480,
          480,
          480,
          480,
          480,
          480,
          480,
          156,
          480,
          480,
          480,
          36,
          302,
          306,
          480,
          480,
          480,
          66,
          480,
          480,
          310,
          480,
          480,
          480,
          480,
          480,
          480,
          480,
          480,
          480,
          480,
          480,
          480,
          480,
          480,
          480,
          480,
          480,
          480,
          312,
          480,
          46,
          480,
          480,
          480,
          480,
          480,
          480,
          480,
          480,
          480,
          480,
          480,
          480,
          480,
          480,
          480,
          480,
          480,
          480,
          480,
          480,
          480,
          480,
          480,
          480,
          480,
          480,
          480,
          480,
          480,
          480,
          480,
          480,
          480,
          480,
          480,
          480,
          480,
          480,
          480,
          480,
          480,
          480,
          480,
          480,
          480,
          480,
          480,
          480,
          480,
          480,
          480,
          480,
          480,
          480,
          44,
          480,
          480,
          480,
          480,
          480,
          480,
          480,
          480,
          480
         ],
         "yaxis": "y"
        },
        {
         "alignmentgroup": "True",
         "hovertemplate": "Motivo=Manutenção Elétrica<br>Linha=%{x}<br>Tempo (min)=%{y}<extra></extra>",
         "legendgroup": "Manutenção Elétrica",
         "marker": {
          "color": "#282f44",
          "pattern": {
           "shape": ""
          }
         },
         "name": "Manutenção Elétrica",
         "offsetgroup": "Manutenção Elétrica",
         "orientation": "v",
         "showlegend": true,
         "textposition": "auto",
         "type": "bar",
         "x": [
          1,
          2,
          3,
          4
         ],
         "xaxis": "x",
         "y": [
          14,
          12,
          16,
          12
         ],
         "yaxis": "y"
        },
        {
         "alignmentgroup": "True",
         "hovertemplate": "Motivo=Manutenção Mecânica<br>Linha=%{x}<br>Tempo (min)=%{y}<extra></extra>",
         "legendgroup": "Manutenção Mecânica",
         "marker": {
          "color": "#0d6efd",
          "pattern": {
           "shape": ""
          }
         },
         "name": "Manutenção Mecânica",
         "offsetgroup": "Manutenção Mecânica",
         "orientation": "v",
         "showlegend": true,
         "textposition": "auto",
         "type": "bar",
         "x": [
          1,
          1,
          1,
          3,
          3,
          3,
          4,
          4,
          4,
          5,
          5,
          6,
          6,
          7,
          8,
          9,
          11,
          11,
          12,
          13,
          14,
          14
         ],
         "xaxis": "x",
         "y": [
          10,
          16,
          30,
          10,
          322,
          70,
          10,
          22,
          66,
          64,
          50,
          48,
          194,
          17,
          76,
          102,
          144,
          28,
          242,
          10,
          28,
          8
         ],
         "yaxis": "y"
        },
        {
         "alignmentgroup": "True",
         "hovertemplate": "Motivo=Ajustes<br>Linha=%{x}<br>Tempo (min)=%{y}<extra></extra>",
         "legendgroup": "Ajustes",
         "marker": {
          "color": "#adb5bd",
          "pattern": {
           "shape": ""
          }
         },
         "name": "Ajustes",
         "offsetgroup": "Ajustes",
         "orientation": "v",
         "showlegend": true,
         "textposition": "auto",
         "type": "bar",
         "x": [
          1,
          2,
          3,
          3,
          3,
          4,
          4,
          5,
          5,
          8,
          12
         ],
         "xaxis": "x",
         "y": [
          32,
          182,
          206,
          70,
          10,
          14,
          6,
          76,
          34,
          8,
          42
         ],
         "yaxis": "y"
        },
        {
         "alignmentgroup": "True",
         "hovertemplate": "Motivo=Café e Ginástica Laboral<br>Linha=%{x}<br>Tempo (min)=%{y}<extra></extra>",
         "legendgroup": "Café e Ginástica Laboral",
         "marker": {
          "color": "#0d6efd",
          "pattern": {
           "shape": ""
          }
         },
         "name": "Café e Ginástica Laboral",
         "offsetgroup": "Café e Ginástica Laboral",
         "orientation": "v",
         "showlegend": true,
         "textposition": "auto",
         "type": "bar",
         "x": [
          1,
          1,
          3,
          3,
          4,
          5,
          13
         ],
         "xaxis": "x",
         "y": [
          42,
          60,
          114,
          70,
          78,
          60,
          18
         ],
         "yaxis": "y"
        },
        {
         "alignmentgroup": "True",
         "hovertemplate": "Motivo=Limpeza Industrial<br>Linha=%{x}<br>Tempo (min)=%{y}<extra></extra>",
         "legendgroup": "Limpeza Industrial",
         "marker": {
          "color": "#ffc107",
          "pattern": {
           "shape": ""
          }
         },
         "name": "Limpeza Industrial",
         "offsetgroup": "Limpeza Industrial",
         "orientation": "v",
         "showlegend": true,
         "textposition": "auto",
         "type": "bar",
         "x": [
          1,
          3,
          4,
          5,
          6,
          7,
          8
         ],
         "xaxis": "x",
         "y": [
          10,
          8,
          6,
          6,
          16,
          12,
          480
         ],
         "yaxis": "y"
        },
        {
         "alignmentgroup": "True",
         "hovertemplate": "Motivo=Troca de Bobina<br>Linha=%{x}<br>Tempo (min)=%{y}<extra></extra>",
         "legendgroup": "Troca de Bobina",
         "marker": {
          "color": "#ced4da",
          "pattern": {
           "shape": ""
          }
         },
         "name": "Troca de Bobina",
         "offsetgroup": "Troca de Bobina",
         "orientation": "v",
         "showlegend": true,
         "textposition": "auto",
         "type": "bar",
         "x": [
          1,
          3,
          4,
          7
         ],
         "xaxis": "x",
         "y": [
          8,
          36,
          12,
          12
         ],
         "yaxis": "y"
        },
        {
         "alignmentgroup": "True",
         "hovertemplate": "Motivo=Setup de Sabor<br>Linha=%{x}<br>Tempo (min)=%{y}<extra></extra>",
         "legendgroup": "Setup de Sabor",
         "marker": {
          "color": "#6f42c1",
          "pattern": {
           "shape": ""
          }
         },
         "name": "Setup de Sabor",
         "offsetgroup": "Setup de Sabor",
         "orientation": "v",
         "showlegend": true,
         "textposition": "auto",
         "type": "bar",
         "x": [
          7,
          8,
          8,
          9,
          9,
          11,
          12,
          13
         ],
         "xaxis": "x",
         "y": [
          50,
          64,
          48,
          24,
          42,
          126,
          60,
          60
         ],
         "yaxis": "y"
        },
        {
         "alignmentgroup": "True",
         "hovertemplate": "Motivo=Linha Cheia<br>Linha=%{x}<br>Tempo (min)=%{y}<extra></extra>",
         "legendgroup": "Linha Cheia",
         "marker": {
          "color": "#20c997",
          "pattern": {
           "shape": ""
          }
         },
         "name": "Linha Cheia",
         "offsetgroup": "Linha Cheia",
         "orientation": "v",
         "showlegend": true,
         "textposition": "auto",
         "type": "bar",
         "x": [
          12,
          13,
          14
         ],
         "xaxis": "x",
         "y": [
          60,
          10,
          14
         ],
         "yaxis": "y"
        }
       ],
       "layout": {
        "barmode": "stack",
        "legend": {
         "title": {
          "text": "Motivo"
         },
         "tracegroupgap": 0
        },
        "margin": {
         "b": 40,
         "l": 40,
         "r": 40,
         "t": 40
        },
        "plot_bgcolor": "white",
        "template": {
         "data": {
          "bar": [
           {
            "error_x": {
             "color": "#2a3f5f"
            },
            "error_y": {
             "color": "#2a3f5f"
            },
            "marker": {
             "line": {
              "color": "#E5ECF6",
              "width": 0.5
             },
             "pattern": {
              "fillmode": "overlay",
              "size": 10,
              "solidity": 0.2
             }
            },
            "type": "bar"
           }
          ],
          "barpolar": [
           {
            "marker": {
             "line": {
              "color": "#E5ECF6",
              "width": 0.5
             },
             "pattern": {
              "fillmode": "overlay",
              "size": 10,
              "solidity": 0.2
             }
            },
            "type": "barpolar"
           }
          ],
          "carpet": [
           {
            "aaxis": {
             "endlinecolor": "#2a3f5f",
             "gridcolor": "white",
             "linecolor": "white",
             "minorgridcolor": "white",
             "startlinecolor": "#2a3f5f"
            },
            "baxis": {
             "endlinecolor": "#2a3f5f",
             "gridcolor": "white",
             "linecolor": "white",
             "minorgridcolor": "white",
             "startlinecolor": "#2a3f5f"
            },
            "type": "carpet"
           }
          ],
          "choropleth": [
           {
            "colorbar": {
             "outlinewidth": 0,
             "ticks": ""
            },
            "type": "choropleth"
           }
          ],
          "contour": [
           {
            "colorbar": {
             "outlinewidth": 0,
             "ticks": ""
            },
            "colorscale": [
             [
              0,
              "#0d0887"
             ],
             [
              0.1111111111111111,
              "#46039f"
             ],
             [
              0.2222222222222222,
              "#7201a8"
             ],
             [
              0.3333333333333333,
              "#9c179e"
             ],
             [
              0.4444444444444444,
              "#bd3786"
             ],
             [
              0.5555555555555556,
              "#d8576b"
             ],
             [
              0.6666666666666666,
              "#ed7953"
             ],
             [
              0.7777777777777778,
              "#fb9f3a"
             ],
             [
              0.8888888888888888,
              "#fdca26"
             ],
             [
              1,
              "#f0f921"
             ]
            ],
            "type": "contour"
           }
          ],
          "contourcarpet": [
           {
            "colorbar": {
             "outlinewidth": 0,
             "ticks": ""
            },
            "type": "contourcarpet"
           }
          ],
          "heatmap": [
           {
            "colorbar": {
             "outlinewidth": 0,
             "ticks": ""
            },
            "colorscale": [
             [
              0,
              "#0d0887"
             ],
             [
              0.1111111111111111,
              "#46039f"
             ],
             [
              0.2222222222222222,
              "#7201a8"
             ],
             [
              0.3333333333333333,
              "#9c179e"
             ],
             [
              0.4444444444444444,
              "#bd3786"
             ],
             [
              0.5555555555555556,
              "#d8576b"
             ],
             [
              0.6666666666666666,
              "#ed7953"
             ],
             [
              0.7777777777777778,
              "#fb9f3a"
             ],
             [
              0.8888888888888888,
              "#fdca26"
             ],
             [
              1,
              "#f0f921"
             ]
            ],
            "type": "heatmap"
           }
          ],
          "heatmapgl": [
           {
            "colorbar": {
             "outlinewidth": 0,
             "ticks": ""
            },
            "colorscale": [
             [
              0,
              "#0d0887"
             ],
             [
              0.1111111111111111,
              "#46039f"
             ],
             [
              0.2222222222222222,
              "#7201a8"
             ],
             [
              0.3333333333333333,
              "#9c179e"
             ],
             [
              0.4444444444444444,
              "#bd3786"
             ],
             [
              0.5555555555555556,
              "#d8576b"
             ],
             [
              0.6666666666666666,
              "#ed7953"
             ],
             [
              0.7777777777777778,
              "#fb9f3a"
             ],
             [
              0.8888888888888888,
              "#fdca26"
             ],
             [
              1,
              "#f0f921"
             ]
            ],
            "type": "heatmapgl"
           }
          ],
          "histogram": [
           {
            "marker": {
             "pattern": {
              "fillmode": "overlay",
              "size": 10,
              "solidity": 0.2
             }
            },
            "type": "histogram"
           }
          ],
          "histogram2d": [
           {
            "colorbar": {
             "outlinewidth": 0,
             "ticks": ""
            },
            "colorscale": [
             [
              0,
              "#0d0887"
             ],
             [
              0.1111111111111111,
              "#46039f"
             ],
             [
              0.2222222222222222,
              "#7201a8"
             ],
             [
              0.3333333333333333,
              "#9c179e"
             ],
             [
              0.4444444444444444,
              "#bd3786"
             ],
             [
              0.5555555555555556,
              "#d8576b"
             ],
             [
              0.6666666666666666,
              "#ed7953"
             ],
             [
              0.7777777777777778,
              "#fb9f3a"
             ],
             [
              0.8888888888888888,
              "#fdca26"
             ],
             [
              1,
              "#f0f921"
             ]
            ],
            "type": "histogram2d"
           }
          ],
          "histogram2dcontour": [
           {
            "colorbar": {
             "outlinewidth": 0,
             "ticks": ""
            },
            "colorscale": [
             [
              0,
              "#0d0887"
             ],
             [
              0.1111111111111111,
              "#46039f"
             ],
             [
              0.2222222222222222,
              "#7201a8"
             ],
             [
              0.3333333333333333,
              "#9c179e"
             ],
             [
              0.4444444444444444,
              "#bd3786"
             ],
             [
              0.5555555555555556,
              "#d8576b"
             ],
             [
              0.6666666666666666,
              "#ed7953"
             ],
             [
              0.7777777777777778,
              "#fb9f3a"
             ],
             [
              0.8888888888888888,
              "#fdca26"
             ],
             [
              1,
              "#f0f921"
             ]
            ],
            "type": "histogram2dcontour"
           }
          ],
          "mesh3d": [
           {
            "colorbar": {
             "outlinewidth": 0,
             "ticks": ""
            },
            "type": "mesh3d"
           }
          ],
          "parcoords": [
           {
            "line": {
             "colorbar": {
              "outlinewidth": 0,
              "ticks": ""
             }
            },
            "type": "parcoords"
           }
          ],
          "pie": [
           {
            "automargin": true,
            "type": "pie"
           }
          ],
          "scatter": [
           {
            "fillpattern": {
             "fillmode": "overlay",
             "size": 10,
             "solidity": 0.2
            },
            "type": "scatter"
           }
          ],
          "scatter3d": [
           {
            "line": {
             "colorbar": {
              "outlinewidth": 0,
              "ticks": ""
             }
            },
            "marker": {
             "colorbar": {
              "outlinewidth": 0,
              "ticks": ""
             }
            },
            "type": "scatter3d"
           }
          ],
          "scattercarpet": [
           {
            "marker": {
             "colorbar": {
              "outlinewidth": 0,
              "ticks": ""
             }
            },
            "type": "scattercarpet"
           }
          ],
          "scattergeo": [
           {
            "marker": {
             "colorbar": {
              "outlinewidth": 0,
              "ticks": ""
             }
            },
            "type": "scattergeo"
           }
          ],
          "scattergl": [
           {
            "marker": {
             "colorbar": {
              "outlinewidth": 0,
              "ticks": ""
             }
            },
            "type": "scattergl"
           }
          ],
          "scattermapbox": [
           {
            "marker": {
             "colorbar": {
              "outlinewidth": 0,
              "ticks": ""
             }
            },
            "type": "scattermapbox"
           }
          ],
          "scatterpolar": [
           {
            "marker": {
             "colorbar": {
              "outlinewidth": 0,
              "ticks": ""
             }
            },
            "type": "scatterpolar"
           }
          ],
          "scatterpolargl": [
           {
            "marker": {
             "colorbar": {
              "outlinewidth": 0,
              "ticks": ""
             }
            },
            "type": "scatterpolargl"
           }
          ],
          "scatterternary": [
           {
            "marker": {
             "colorbar": {
              "outlinewidth": 0,
              "ticks": ""
             }
            },
            "type": "scatterternary"
           }
          ],
          "surface": [
           {
            "colorbar": {
             "outlinewidth": 0,
             "ticks": ""
            },
            "colorscale": [
             [
              0,
              "#0d0887"
             ],
             [
              0.1111111111111111,
              "#46039f"
             ],
             [
              0.2222222222222222,
              "#7201a8"
             ],
             [
              0.3333333333333333,
              "#9c179e"
             ],
             [
              0.4444444444444444,
              "#bd3786"
             ],
             [
              0.5555555555555556,
              "#d8576b"
             ],
             [
              0.6666666666666666,
              "#ed7953"
             ],
             [
              0.7777777777777778,
              "#fb9f3a"
             ],
             [
              0.8888888888888888,
              "#fdca26"
             ],
             [
              1,
              "#f0f921"
             ]
            ],
            "type": "surface"
           }
          ],
          "table": [
           {
            "cells": {
             "fill": {
              "color": "#EBF0F8"
             },
             "line": {
              "color": "white"
             }
            },
            "header": {
             "fill": {
              "color": "#C8D4E3"
             },
             "line": {
              "color": "white"
             }
            },
            "type": "table"
           }
          ]
         },
         "layout": {
          "annotationdefaults": {
           "arrowcolor": "#2a3f5f",
           "arrowhead": 0,
           "arrowwidth": 1
          },
          "autotypenumbers": "strict",
          "coloraxis": {
           "colorbar": {
            "outlinewidth": 0,
            "ticks": ""
           }
          },
          "colorscale": {
           "diverging": [
            [
             0,
             "#8e0152"
            ],
            [
             0.1,
             "#c51b7d"
            ],
            [
             0.2,
             "#de77ae"
            ],
            [
             0.3,
             "#f1b6da"
            ],
            [
             0.4,
             "#fde0ef"
            ],
            [
             0.5,
             "#f7f7f7"
            ],
            [
             0.6,
             "#e6f5d0"
            ],
            [
             0.7,
             "#b8e186"
            ],
            [
             0.8,
             "#7fbc41"
            ],
            [
             0.9,
             "#4d9221"
            ],
            [
             1,
             "#276419"
            ]
           ],
           "sequential": [
            [
             0,
             "#0d0887"
            ],
            [
             0.1111111111111111,
             "#46039f"
            ],
            [
             0.2222222222222222,
             "#7201a8"
            ],
            [
             0.3333333333333333,
             "#9c179e"
            ],
            [
             0.4444444444444444,
             "#bd3786"
            ],
            [
             0.5555555555555556,
             "#d8576b"
            ],
            [
             0.6666666666666666,
             "#ed7953"
            ],
            [
             0.7777777777777778,
             "#fb9f3a"
            ],
            [
             0.8888888888888888,
             "#fdca26"
            ],
            [
             1,
             "#f0f921"
            ]
           ],
           "sequentialminus": [
            [
             0,
             "#0d0887"
            ],
            [
             0.1111111111111111,
             "#46039f"
            ],
            [
             0.2222222222222222,
             "#7201a8"
            ],
            [
             0.3333333333333333,
             "#9c179e"
            ],
            [
             0.4444444444444444,
             "#bd3786"
            ],
            [
             0.5555555555555556,
             "#d8576b"
            ],
            [
             0.6666666666666666,
             "#ed7953"
            ],
            [
             0.7777777777777778,
             "#fb9f3a"
            ],
            [
             0.8888888888888888,
             "#fdca26"
            ],
            [
             1,
             "#f0f921"
            ]
           ]
          },
          "colorway": [
           "#636efa",
           "#EF553B",
           "#00cc96",
           "#ab63fa",
           "#FFA15A",
           "#19d3f3",
           "#FF6692",
           "#B6E880",
           "#FF97FF",
           "#FECB52"
          ],
          "font": {
           "color": "#2a3f5f"
          },
          "geo": {
           "bgcolor": "white",
           "lakecolor": "white",
           "landcolor": "#E5ECF6",
           "showlakes": true,
           "showland": true,
           "subunitcolor": "white"
          },
          "hoverlabel": {
           "align": "left"
          },
          "hovermode": "closest",
          "mapbox": {
           "style": "light"
          },
          "paper_bgcolor": "white",
          "plot_bgcolor": "#E5ECF6",
          "polar": {
           "angularaxis": {
            "gridcolor": "white",
            "linecolor": "white",
            "ticks": ""
           },
           "bgcolor": "#E5ECF6",
           "radialaxis": {
            "gridcolor": "white",
            "linecolor": "white",
            "ticks": ""
           }
          },
          "scene": {
           "xaxis": {
            "backgroundcolor": "#E5ECF6",
            "gridcolor": "white",
            "gridwidth": 2,
            "linecolor": "white",
            "showbackground": true,
            "ticks": "",
            "zerolinecolor": "white"
           },
           "yaxis": {
            "backgroundcolor": "#E5ECF6",
            "gridcolor": "white",
            "gridwidth": 2,
            "linecolor": "white",
            "showbackground": true,
            "ticks": "",
            "zerolinecolor": "white"
           },
           "zaxis": {
            "backgroundcolor": "#E5ECF6",
            "gridcolor": "white",
            "gridwidth": 2,
            "linecolor": "white",
            "showbackground": true,
            "ticks": "",
            "zerolinecolor": "white"
           }
          },
          "shapedefaults": {
           "line": {
            "color": "#2a3f5f"
           }
          },
          "ternary": {
           "aaxis": {
            "gridcolor": "white",
            "linecolor": "white",
            "ticks": ""
           },
           "baxis": {
            "gridcolor": "white",
            "linecolor": "white",
            "ticks": ""
           },
           "bgcolor": "#E5ECF6",
           "caxis": {
            "gridcolor": "white",
            "linecolor": "white",
            "ticks": ""
           }
          },
          "title": {
           "x": 0.05
          },
          "xaxis": {
           "automargin": true,
           "gridcolor": "white",
           "linecolor": "white",
           "ticks": "",
           "title": {
            "standoff": 15
           },
           "zerolinecolor": "white",
           "zerolinewidth": 2
          },
          "yaxis": {
           "automargin": true,
           "gridcolor": "white",
           "linecolor": "white",
           "ticks": "",
           "title": {
            "standoff": 15
           },
           "zerolinecolor": "white",
           "zerolinewidth": 2
          }
         }
        },
        "title": {
         "text": "Tempo de Parada por Problema",
         "x": 0.5
        },
        "xaxis": {
         "anchor": "y",
         "categoryorder": "category ascending",
         "domain": [
          0,
          1
         ],
         "tickvals": [
          1,
          2,
          3,
          4,
          5,
          6,
          7,
          8,
          9,
          10,
          11,
          12,
          13,
          14
         ],
         "title": {
          "text": "Linha"
         }
        },
        "yaxis": {
         "anchor": "x",
         "domain": [
          0,
          1
         ],
         "title": {
          "text": "Tempo (min)"
         }
        }
       }
      }
     },
     "metadata": {},
     "output_type": "display_data"
    }
   ],
   "source": [
    "df_lost = indicators_turn.get_eff_lost(df_maq_info_occ_combined.copy(), df_rodando.copy())\n",
    "\n",
    "stops_bar = stops(df_lost.copy(), turno=\"MAT\")"
   ]
  },
  {
   "cell_type": "code",
   "execution_count": null,
   "metadata": {},
   "outputs": [
    {
     "name": "stdout",
     "output_type": "stream",
     "text": [
      "Mês passado já consta nos dados.\n"
     ]
    }
   ],
   "source": [
    "# cSpell: disable=invalid-name\n",
    "# Descobrir qual é o mês passado\n",
    "last_month = pd.Timestamp.now() - pd.DateOffset(months=1)\n",
    "last_month = last_month.strftime(\"%Y-%m\")  # Saída '2024-01'\n",
    "try:\n",
    "    df_historic_data = pd.read_csv(\".//assets//historic_data.csv\")\n",
    "except FileNotFoundError:\n",
    "    df_historic_data = pd.DataFrame(\n",
    "        columns=[\n",
    "            \"data_registro\",\n",
    "            \"total_caixas\",\n",
    "            \"eficiencia_media\",\n",
    "            \"performance_media\",\n",
    "            \"reparos_media\",\n",
    "            \"parada_programada\",\n",
    "        ]\n",
    "    )\n",
    "\n",
    "# ------- Verifica se o mês passado consta nos dados ------- #\n",
    "# Se constar, não fazer nada\n",
    "if last_month in df_historic_data[\"data_registro\"].values:\n",
    "    print(\"Mês passado já consta nos dados.\")\n",
    "    pass\n",
    "\n",
    "# Se não constar, criar novo dataframe para mesclar com os dados. Primeiro busca dados do mês passado\n",
    "# Buscar caixas produzidas no total\n",
    "total_caixas = df_maq_info_production_cleaned[\"total_produzido\"].sum()\n",
    "total_caixas = int(np.floor(total_caixas / 10))  # Saída 65649\n",
    "\n",
    "# Buscar eficiência média\n",
    "eficiencia_media = round(df_eff[\"eficiencia\"].mean() * 100)  # Saída 90\n",
    "\n",
    "# Buscar performance média\n",
    "performance_media = round(df_perf[\"performance\"].mean() * 100)  # Saída 4\n",
    "\n",
    "# Buscar reparos médios\n",
    "reparos_media = round(df_reparos[\"reparo\"].mean() * 100)  # Saída 4\n",
    "\n",
    "# Buscar tempo de parada programada\n",
    "df_info_programada = df_maq_info_occ_combined[df_maq_info_occ_combined[\"motivo_id\"] == 12]\n",
    "parada_programada = df_info_programada[\"tempo_registro_min\"].sum()  # Saída 0\n",
    "\n",
    "# Cria um novo dataframe com os dados\n",
    "df_historic = pd.DataFrame(\n",
    "    {\n",
    "        \"data_registro\": [last_month],\n",
    "        \"total_caixas\": [total_caixas],\n",
    "        \"eficiencia_media\": [eficiencia_media],\n",
    "        \"performance_media\": [performance_media],\n",
    "        \"reparos_media\": [reparos_media],\n",
    "        \"parada_programada\": [parada_programada],\n",
    "    }\n",
    ")\n",
    "\n",
    "# Salvar como csv\n",
    "df_historic.to_csv(\".//assets//historic_data.csv\", index=False)"
   ]
  }
 ],
 "metadata": {
  "kernelspec": {
   "display_name": "Python 3 (ipykernel)",
   "language": "python",
   "name": "python3"
  },
  "language_info": {
   "codemirror_mode": {
    "name": "ipython",
    "version": 3
   },
   "file_extension": ".py",
   "mimetype": "text/x-python",
   "name": "python",
   "nbconvert_exporter": "python",
   "pygments_lexer": "ipython3",
   "version": "3.12.2"
  }
 },
 "nbformat": 4,
 "nbformat_minor": 4
}
