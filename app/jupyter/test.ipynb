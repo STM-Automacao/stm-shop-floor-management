{
 "cells": [
  {
   "cell_type": "markdown",
   "metadata": {},
   "source": [
    "# Importações\n"
   ]
  },
  {
   "cell_type": "code",
   "execution_count": 2,
   "metadata": {},
   "outputs": [],
   "source": [
    "import urllib\n",
    "from itertools import product\n",
    "from os import getenv\n",
    "from sqlalchemy import create_engine\n",
    "from dotenv import load_dotenv\n",
    "\n",
    "import numpy as np\n",
    "import pandas as pd\n",
    "from datetime import datetime, timedelta, time\n",
    "import plotly.graph_objects as go\n",
    "import plotly.express as px\n",
    "from fuzzywuzzy import process"
   ]
  },
  {
   "cell_type": "markdown",
   "metadata": {},
   "source": [
    "# Conexão com o banco de dados\n"
   ]
  },
  {
   "cell_type": "code",
   "execution_count": 3,
   "metadata": {},
   "outputs": [],
   "source": [
    "# database/connection.py\n",
    "\n",
    "# cSpell: disable=invalid-name\n",
    "load_dotenv()\n",
    "\n",
    "\n",
    "class Connection:\n",
    "    \"\"\"\n",
    "    Class Connection\n",
    "    \"\"\"\n",
    "\n",
    "    def __init__(self):\n",
    "        \"\"\"\n",
    "        Constructor\n",
    "\n",
    "        Args:\n",
    "            user (str): user\n",
    "            password (str): password\n",
    "            database (str): database\n",
    "            driver (str): driver\n",
    "            server (str): server\n",
    "\n",
    "        Usage:\n",
    "            >>> from connection import Connection\n",
    "            >>> connection = Connection()\n",
    "            >>> connection.get_connection()\n",
    "        \"\"\"\n",
    "        self.__user = getenv(\"PYMSSQL_USER\")\n",
    "        self.__password = getenv(\"PYMSSQL_PASSWORD\")\n",
    "        self.__database = getenv(\"PYMSSQL_DATABASE_AUTOMACAO\")\n",
    "        self.__driver = \"{ODBC Driver 17 for SQL Server}\"\n",
    "        self.__server = getenv(\"PYMSSQL_SERVER\")\n",
    "\n",
    "    def get_connection_automacao(self):\n",
    "        \"\"\"\n",
    "        Get connection\n",
    "\n",
    "        Returns:\n",
    "            object: connection\n",
    "\n",
    "        Usage:\n",
    "            >>> from connection import Connection\n",
    "            >>> connection = Connection()\n",
    "            >>> connection.get_connection()\n",
    "        \"\"\"\n",
    "        try:\n",
    "            params = urllib.parse.quote_plus(\n",
    "                f\"DRIVER={self.__driver};\"\n",
    "                f\"SERVER={self.__server};\"\n",
    "                f\"DATABASE={self.__database};\"\n",
    "                f\"UID={self.__user};\"\n",
    "                f\"PWD={self.__password};\"\n",
    "            )\n",
    "            # pylint: disable=consider-using-f-string\n",
    "            conexao_automacao = create_engine(\"mssql+pyodbc:///?odbc_connect=%s\" % params)\n",
    "            return conexao_automacao\n",
    "        # pylint: disable=broad-except\n",
    "        except Exception as error:\n",
    "            print(f\"Error: {error}\")\n",
    "            return None"
   ]
  },
  {
   "cell_type": "markdown",
   "metadata": {},
   "source": [
    "# Leitura do banco de dados\n"
   ]
  },
  {
   "cell_type": "code",
   "execution_count": 4,
   "metadata": {},
   "outputs": [],
   "source": [
    "# database/db_read.py\n",
    "\n",
    "\n",
    "# cSpell: disable=invalid-name\n",
    "class Read(Connection):\n",
    "    \"\"\"\n",
    "    Class Read\n",
    "    Read data from the database and return a pandas dataframe\n",
    "    Create query to be executed in the database\n",
    "    \"\"\"\n",
    "\n",
    "    # pylint: disable=useless-super-delegation\n",
    "    def __init__(self):\n",
    "        \"\"\"\n",
    "        Constructor\n",
    "        \"\"\"\n",
    "        super().__init__()\n",
    "\n",
    "    def get_automacao_data(self, query: str) -> pd.DataFrame:\n",
    "        \"\"\"\n",
    "        Get data from database AUTOMACAO and return a pandas dataframe.\n",
    "\n",
    "        Parameters\n",
    "        ----------\n",
    "        query : str\n",
    "            Query to be executed in the database\n",
    "\n",
    "        Returns\n",
    "        -------\n",
    "        pandas dataframe\n",
    "            Dataframe with the query result\n",
    "        \"\"\"\n",
    "        try:\n",
    "            connection = self.get_connection_automacao()\n",
    "            data = pd.read_sql(query, connection)\n",
    "            return data\n",
    "        # pylint: disable=broad-except\n",
    "        except Exception as error:\n",
    "            print(f\"Error: {error}\")\n",
    "            return None\n",
    "\n",
    "    def create_automacao_query(self, table: str, where: str = None, orderby: str = None) -> str:\n",
    "        \"\"\"\n",
    "        Create query to be executed in the database AUTOMACAO.\n",
    "\n",
    "        Parameters\n",
    "        ----------\n",
    "        table : str\n",
    "            Table name\n",
    "        where : str\n",
    "            Where clause (optional)\n",
    "        orderby : str\n",
    "            Order by clause (optional)\n",
    "\n",
    "        Returns\n",
    "        -------\n",
    "        str\n",
    "            Query to be executed in the database\n",
    "        \"\"\"\n",
    "        query = f\"SELECT * FROM AUTOMACAO.dbo.{table}\"\n",
    "\n",
    "        if where:\n",
    "            query += f\" WHERE {where}\"\n",
    "\n",
    "        if orderby:\n",
    "            query += f\" ORDER BY {orderby}\"\n",
    "\n",
    "        return query"
   ]
  },
  {
   "cell_type": "markdown",
   "metadata": {},
   "source": [
    "# Query para o banco de dados\n"
   ]
  },
  {
   "cell_type": "code",
   "execution_count": 5,
   "metadata": {},
   "outputs": [
    {
     "name": "stdout",
     "output_type": "stream",
     "text": [
      "========== Baixando dados do DB ==========\n"
     ]
    },
    {
     "name": "stdout",
     "output_type": "stream",
     "text": [
      "Ok...\n"
     ]
    }
   ],
   "source": [
    "# cSpell: words automacao, ocorrencia\n",
    "class GetData:\n",
    "    \"\"\"\n",
    "    Essa classe é responsável por realizar a leitura dos dados do banco de dados.\n",
    "    É utilizada para fazer a leitura em segundo plano, sem que o usuário perceba.\n",
    "    \"\"\"\n",
    "\n",
    "    def __init__(self):\n",
    "        self.db_read = Read()\n",
    "\n",
    "    def get_data(self) -> tuple:\n",
    "        \"\"\"\n",
    "        Realiza a leitura dos dados do banco de dados.\n",
    "        Retorna na ordem: df_occ, df_info, df_cadastro\n",
    "        \"\"\"\n",
    "\n",
    "        # Dia de hoje\n",
    "        now = pd.to_datetime(\"today\")\n",
    "\n",
    "        # Encontrando primeiro dia do mês atual\n",
    "        first_day = now.replace(day=1)\n",
    "\n",
    "        # Mantendo apenas a data\n",
    "        first_day = first_day.strftime(\"%Y-%m-%d\")\n",
    "\n",
    "        # Query para leitura dos dados de ocorrência\n",
    "        query_occ = self.db_read.create_automacao_query(\n",
    "            table=\"maquina_ocorrencia\",\n",
    "            where=f\"data_registro >= '{first_day}'\",\n",
    "        )\n",
    "\n",
    "        query_info = (\n",
    "            \"SELECT\"\n",
    "            \" t1.maquina_id,\"\n",
    "            \" (SELECT TOP 1 t2.linha FROM AUTOMACAO.dbo.maquina_cadastro t2\"\n",
    "            \" WHERE t2.maquina_id = t1.maquina_id AND t2.data_registro <= t1.data_registro\"\n",
    "            \" ORDER BY t2.data_registro DESC, t2.hora_registro DESC) as linha,\"\n",
    "            \" (SELECT TOP 1 t2.fabrica FROM AUTOMACAO.dbo.maquina_cadastro t2\"\n",
    "            \" WHERE t2.maquina_id = t1.maquina_id AND t2.data_registro <= t1.data_registro\"\n",
    "            \" ORDER BY t2.data_registro DESC, t2.hora_registro DESC) as fabrica,\"\n",
    "            \" t1.status,\"\n",
    "            \" t1.turno,\"\n",
    "            \" t1.contagem_total_ciclos,\"\n",
    "            \" t1.contagem_total_produzido,\"\n",
    "            \" t1.data_registro,\"\n",
    "            \" t1.hora_registro\"\n",
    "            \" FROM \"\n",
    "            \" AUTOMACAO.dbo.maquina_info t1\"\n",
    "            f\" WHERE data_registro >= '{first_day}'\"\n",
    "            \" ORDER BY t1.data_registro DESC, t1.hora_registro DESC\"\n",
    "        )\n",
    "\n",
    "        query_production = (\n",
    "            \"SELECT\"\n",
    "            \" t1.maquina_id,\"\n",
    "            \" (SELECT TOP 1 t2.linha FROM AUTOMACAO.dbo.maquina_cadastro t2\"\n",
    "            \" WHERE t2.maquina_id = t1.maquina_id AND t2.data_registro <= t1.data_registro\"\n",
    "            \" ORDER BY t2.data_registro DESC, t2.hora_registro desc) as linha,\"\n",
    "            \" t1.turno,\"\n",
    "            \" MAX(t1.contagem_total_ciclos) total_ciclos,\"\n",
    "            \" MAX(t1.contagem_total_produzido) total_produzido,\"\n",
    "            \" t1.data_registro\"\n",
    "            \" FROM\"\n",
    "            \" AUTOMACAO.dbo.maquina_info t1\"\n",
    "            f\" WHERE data_registro >= '{first_day}'\"\n",
    "            \" GROUP BY t1.maquina_id, t1.data_registro, t1.turno\"\n",
    "            \" ORDER BY data_registro DESC, maquina_id, turno\"\n",
    "        )\n",
    "\n",
    "        print(\"========== Baixando dados do DB ==========\")\n",
    "\n",
    "        # Leitura dos dados\n",
    "        df_occ = self.db_read.get_automacao_data(query_occ)\n",
    "        df_info = self.db_read.get_automacao_data(query_info)\n",
    "        df_info_production = self.db_read.get_automacao_data(query_production)\n",
    "\n",
    "        # Verificando se os dados foram lidos corretamente\n",
    "        if df_occ.empty or df_info.empty or df_info_production.empty:\n",
    "            print(\"====== Erro na leitura dos dados ======\")\n",
    "            return None, None, None\n",
    "\n",
    "        print(\"Ok...\")\n",
    "\n",
    "        return df_occ, df_info, df_info_production\n",
    "\n",
    "\n",
    "get_data = GetData()\n",
    "df_occ, df_info, df_info_production = get_data.get_data()"
   ]
  },
  {
   "cell_type": "markdown",
   "metadata": {},
   "source": [
    "## Testes de saída do banco de dados\n"
   ]
  },
  {
   "cell_type": "code",
   "execution_count": 6,
   "metadata": {},
   "outputs": [
    {
     "data": {
      "text/html": [
       "<div>\n",
       "<style scoped>\n",
       "    .dataframe tbody tr th:only-of-type {\n",
       "        vertical-align: middle;\n",
       "    }\n",
       "\n",
       "    .dataframe tbody tr th {\n",
       "        vertical-align: top;\n",
       "    }\n",
       "\n",
       "    .dataframe thead th {\n",
       "        text-align: right;\n",
       "    }\n",
       "</style>\n",
       "<table border=\"1\" class=\"dataframe\">\n",
       "  <thead>\n",
       "    <tr style=\"text-align: right;\">\n",
       "      <th></th>\n",
       "      <th>recno</th>\n",
       "      <th>maquina_id</th>\n",
       "      <th>motivo_id</th>\n",
       "      <th>problema</th>\n",
       "      <th>solucao</th>\n",
       "      <th>data_registro</th>\n",
       "      <th>hora_registro</th>\n",
       "      <th>usuario_id</th>\n",
       "    </tr>\n",
       "  </thead>\n",
       "  <tbody>\n",
       "    <tr>\n",
       "      <th>0</th>\n",
       "      <td>3373</td>\n",
       "      <td>TMF005</td>\n",
       "      <td>03</td>\n",
       "      <td></td>\n",
       "      <td></td>\n",
       "      <td>2024-02-01</td>\n",
       "      <td>02:58:31</td>\n",
       "      <td>000441</td>\n",
       "    </tr>\n",
       "    <tr>\n",
       "      <th>1</th>\n",
       "      <td>3374</td>\n",
       "      <td>TMF002</td>\n",
       "      <td>03</td>\n",
       "      <td></td>\n",
       "      <td></td>\n",
       "      <td>2024-02-01</td>\n",
       "      <td>02:58:41</td>\n",
       "      <td>000441</td>\n",
       "    </tr>\n",
       "    <tr>\n",
       "      <th>2</th>\n",
       "      <td>3375</td>\n",
       "      <td>TMF015</td>\n",
       "      <td>03</td>\n",
       "      <td></td>\n",
       "      <td></td>\n",
       "      <td>2024-02-01</td>\n",
       "      <td>02:58:51</td>\n",
       "      <td>000441</td>\n",
       "    </tr>\n",
       "    <tr>\n",
       "      <th>3</th>\n",
       "      <td>3376</td>\n",
       "      <td>TMF011</td>\n",
       "      <td>03</td>\n",
       "      <td></td>\n",
       "      <td></td>\n",
       "      <td>2024-02-01</td>\n",
       "      <td>02:59:00</td>\n",
       "      <td>000441</td>\n",
       "    </tr>\n",
       "    <tr>\n",
       "      <th>4</th>\n",
       "      <td>3377</td>\n",
       "      <td>TMF014</td>\n",
       "      <td>03</td>\n",
       "      <td></td>\n",
       "      <td></td>\n",
       "      <td>2024-02-01</td>\n",
       "      <td>02:59:11</td>\n",
       "      <td>000441</td>\n",
       "    </tr>\n",
       "    <tr>\n",
       "      <th>5</th>\n",
       "      <td>3378</td>\n",
       "      <td>TMF009</td>\n",
       "      <td>03</td>\n",
       "      <td></td>\n",
       "      <td></td>\n",
       "      <td>2024-02-01</td>\n",
       "      <td>02:59:22</td>\n",
       "      <td>000441</td>\n",
       "    </tr>\n",
       "    <tr>\n",
       "      <th>6</th>\n",
       "      <td>3379</td>\n",
       "      <td>TMF003</td>\n",
       "      <td>03</td>\n",
       "      <td></td>\n",
       "      <td></td>\n",
       "      <td>2024-02-01</td>\n",
       "      <td>02:59:31</td>\n",
       "      <td>000441</td>\n",
       "    </tr>\n",
       "    <tr>\n",
       "      <th>7</th>\n",
       "      <td>3380</td>\n",
       "      <td>TMF001</td>\n",
       "      <td>03</td>\n",
       "      <td></td>\n",
       "      <td></td>\n",
       "      <td>2024-02-01</td>\n",
       "      <td>02:59:42</td>\n",
       "      <td>000441</td>\n",
       "    </tr>\n",
       "    <tr>\n",
       "      <th>8</th>\n",
       "      <td>3381</td>\n",
       "      <td>TMF013</td>\n",
       "      <td>03</td>\n",
       "      <td></td>\n",
       "      <td></td>\n",
       "      <td>2024-02-01</td>\n",
       "      <td>04:26:25</td>\n",
       "      <td>000453</td>\n",
       "    </tr>\n",
       "    <tr>\n",
       "      <th>9</th>\n",
       "      <td>3382</td>\n",
       "      <td>TMF007</td>\n",
       "      <td>03</td>\n",
       "      <td></td>\n",
       "      <td></td>\n",
       "      <td>2024-02-01</td>\n",
       "      <td>04:26:33</td>\n",
       "      <td>000453</td>\n",
       "    </tr>\n",
       "    <tr>\n",
       "      <th>10</th>\n",
       "      <td>3383</td>\n",
       "      <td>TMF010</td>\n",
       "      <td>03</td>\n",
       "      <td></td>\n",
       "      <td></td>\n",
       "      <td>2024-02-01</td>\n",
       "      <td>04:26:41</td>\n",
       "      <td>000453</td>\n",
       "    </tr>\n",
       "    <tr>\n",
       "      <th>11</th>\n",
       "      <td>3384</td>\n",
       "      <td>TMF002</td>\n",
       "      <td>08</td>\n",
       "      <td>Corrente da bobina não está rodando conforme</td>\n",
       "      <td></td>\n",
       "      <td>2024-02-01</td>\n",
       "      <td>04:42:18</td>\n",
       "      <td>000441</td>\n",
       "    </tr>\n",
       "    <tr>\n",
       "      <th>12</th>\n",
       "      <td>3385</td>\n",
       "      <td>TMF005</td>\n",
       "      <td>05</td>\n",
       "      <td></td>\n",
       "      <td></td>\n",
       "      <td>2024-02-01</td>\n",
       "      <td>05:57:06</td>\n",
       "      <td>000441</td>\n",
       "    </tr>\n",
       "    <tr>\n",
       "      <th>13</th>\n",
       "      <td>3386</td>\n",
       "      <td>TMF001</td>\n",
       "      <td>05</td>\n",
       "      <td></td>\n",
       "      <td></td>\n",
       "      <td>2024-02-01</td>\n",
       "      <td>05:58:41</td>\n",
       "      <td>000441</td>\n",
       "    </tr>\n",
       "    <tr>\n",
       "      <th>14</th>\n",
       "      <td>3387</td>\n",
       "      <td>TMF002</td>\n",
       "      <td>05</td>\n",
       "      <td></td>\n",
       "      <td></td>\n",
       "      <td>2024-02-01</td>\n",
       "      <td>06:06:47</td>\n",
       "      <td>000441</td>\n",
       "    </tr>\n",
       "    <tr>\n",
       "      <th>15</th>\n",
       "      <td>3388</td>\n",
       "      <td>TMF003</td>\n",
       "      <td>05</td>\n",
       "      <td></td>\n",
       "      <td></td>\n",
       "      <td>2024-02-01</td>\n",
       "      <td>06:08:50</td>\n",
       "      <td>000441</td>\n",
       "    </tr>\n",
       "    <tr>\n",
       "      <th>16</th>\n",
       "      <td>3389</td>\n",
       "      <td>TMF015</td>\n",
       "      <td>05</td>\n",
       "      <td></td>\n",
       "      <td></td>\n",
       "      <td>2024-02-01</td>\n",
       "      <td>06:14:41</td>\n",
       "      <td>000441</td>\n",
       "    </tr>\n",
       "    <tr>\n",
       "      <th>17</th>\n",
       "      <td>3390</td>\n",
       "      <td>TMF009</td>\n",
       "      <td>05</td>\n",
       "      <td></td>\n",
       "      <td></td>\n",
       "      <td>2024-02-01</td>\n",
       "      <td>06:16:12</td>\n",
       "      <td>000441</td>\n",
       "    </tr>\n",
       "    <tr>\n",
       "      <th>18</th>\n",
       "      <td>3391</td>\n",
       "      <td>TMF011</td>\n",
       "      <td>05</td>\n",
       "      <td></td>\n",
       "      <td></td>\n",
       "      <td>2024-02-01</td>\n",
       "      <td>06:24:41</td>\n",
       "      <td>000441</td>\n",
       "    </tr>\n",
       "    <tr>\n",
       "      <th>19</th>\n",
       "      <td>3392</td>\n",
       "      <td>TMF014</td>\n",
       "      <td>05</td>\n",
       "      <td></td>\n",
       "      <td></td>\n",
       "      <td>2024-02-01</td>\n",
       "      <td>06:30:52</td>\n",
       "      <td>000441</td>\n",
       "    </tr>\n",
       "    <tr>\n",
       "      <th>20</th>\n",
       "      <td>3393</td>\n",
       "      <td>TMF010</td>\n",
       "      <td>01</td>\n",
       "      <td></td>\n",
       "      <td></td>\n",
       "      <td>2024-02-01</td>\n",
       "      <td>08:21:34</td>\n",
       "      <td>000807</td>\n",
       "    </tr>\n",
       "    <tr>\n",
       "      <th>21</th>\n",
       "      <td>3394</td>\n",
       "      <td>TMF012</td>\n",
       "      <td>01</td>\n",
       "      <td></td>\n",
       "      <td></td>\n",
       "      <td>2024-02-01</td>\n",
       "      <td>08:21:40</td>\n",
       "      <td>000807</td>\n",
       "    </tr>\n",
       "    <tr>\n",
       "      <th>22</th>\n",
       "      <td>3395</td>\n",
       "      <td>TMF007</td>\n",
       "      <td>01</td>\n",
       "      <td></td>\n",
       "      <td></td>\n",
       "      <td>2024-02-01</td>\n",
       "      <td>08:21:46</td>\n",
       "      <td>000807</td>\n",
       "    </tr>\n",
       "    <tr>\n",
       "      <th>23</th>\n",
       "      <td>3396</td>\n",
       "      <td>TMF013</td>\n",
       "      <td>01</td>\n",
       "      <td></td>\n",
       "      <td></td>\n",
       "      <td>2024-02-01</td>\n",
       "      <td>08:21:52</td>\n",
       "      <td>000807</td>\n",
       "    </tr>\n",
       "    <tr>\n",
       "      <th>24</th>\n",
       "      <td>3397</td>\n",
       "      <td>TMF010</td>\n",
       "      <td>14</td>\n",
       "      <td>Robo não está pegando as bandejas</td>\n",
       "      <td></td>\n",
       "      <td>2024-02-01</td>\n",
       "      <td>08:48:31</td>\n",
       "      <td>000807</td>\n",
       "    </tr>\n",
       "    <tr>\n",
       "      <th>25</th>\n",
       "      <td>3398</td>\n",
       "      <td>TMF007</td>\n",
       "      <td>14</td>\n",
       "      <td>Robo não está pegando as bandejas</td>\n",
       "      <td></td>\n",
       "      <td>2024-02-01</td>\n",
       "      <td>08:49:03</td>\n",
       "      <td>000807</td>\n",
       "    </tr>\n",
       "    <tr>\n",
       "      <th>26</th>\n",
       "      <td>3399</td>\n",
       "      <td>TMF012</td>\n",
       "      <td>14</td>\n",
       "      <td>Robo não está pegando as bandejas</td>\n",
       "      <td></td>\n",
       "      <td>2024-02-01</td>\n",
       "      <td>08:49:23</td>\n",
       "      <td>000807</td>\n",
       "    </tr>\n",
       "    <tr>\n",
       "      <th>27</th>\n",
       "      <td>3400</td>\n",
       "      <td>TMF012</td>\n",
       "      <td>05</td>\n",
       "      <td>Rodou as demais linhas</td>\n",
       "      <td></td>\n",
       "      <td>2024-02-01</td>\n",
       "      <td>09:25:06</td>\n",
       "      <td>000807</td>\n",
       "    </tr>\n",
       "    <tr>\n",
       "      <th>28</th>\n",
       "      <td>3401</td>\n",
       "      <td>TMF013</td>\n",
       "      <td>03</td>\n",
       "      <td></td>\n",
       "      <td></td>\n",
       "      <td>2024-02-01</td>\n",
       "      <td>10:53:54</td>\n",
       "      <td>000807</td>\n",
       "    </tr>\n",
       "    <tr>\n",
       "      <th>29</th>\n",
       "      <td>3402</td>\n",
       "      <td>TMF012</td>\n",
       "      <td>03</td>\n",
       "      <td></td>\n",
       "      <td></td>\n",
       "      <td>2024-02-01</td>\n",
       "      <td>10:54:08</td>\n",
       "      <td>000807</td>\n",
       "    </tr>\n",
       "    <tr>\n",
       "      <th>30</th>\n",
       "      <td>3403</td>\n",
       "      <td>TMF005</td>\n",
       "      <td>03</td>\n",
       "      <td></td>\n",
       "      <td></td>\n",
       "      <td>2024-02-01</td>\n",
       "      <td>11:05:14</td>\n",
       "      <td>000838</td>\n",
       "    </tr>\n",
       "    <tr>\n",
       "      <th>31</th>\n",
       "      <td>3404</td>\n",
       "      <td>TMF002</td>\n",
       "      <td>03</td>\n",
       "      <td></td>\n",
       "      <td></td>\n",
       "      <td>2024-02-01</td>\n",
       "      <td>11:05:23</td>\n",
       "      <td>000838</td>\n",
       "    </tr>\n",
       "    <tr>\n",
       "      <th>32</th>\n",
       "      <td>3405</td>\n",
       "      <td>TMF015</td>\n",
       "      <td>03</td>\n",
       "      <td></td>\n",
       "      <td></td>\n",
       "      <td>2024-02-01</td>\n",
       "      <td>11:05:32</td>\n",
       "      <td>000838</td>\n",
       "    </tr>\n",
       "    <tr>\n",
       "      <th>33</th>\n",
       "      <td>3406</td>\n",
       "      <td>TMF011</td>\n",
       "      <td>03</td>\n",
       "      <td></td>\n",
       "      <td></td>\n",
       "      <td>2024-02-01</td>\n",
       "      <td>11:05:43</td>\n",
       "      <td>000838</td>\n",
       "    </tr>\n",
       "    <tr>\n",
       "      <th>34</th>\n",
       "      <td>3407</td>\n",
       "      <td>TMF010</td>\n",
       "      <td>12</td>\n",
       "      <td></td>\n",
       "      <td></td>\n",
       "      <td>2024-02-01</td>\n",
       "      <td>13:52:08</td>\n",
       "      <td>000807</td>\n",
       "    </tr>\n",
       "    <tr>\n",
       "      <th>35</th>\n",
       "      <td>3408</td>\n",
       "      <td>TMF005</td>\n",
       "      <td>06</td>\n",
       "      <td></td>\n",
       "      <td></td>\n",
       "      <td>2024-02-01</td>\n",
       "      <td>16:02:50</td>\n",
       "      <td>000939</td>\n",
       "    </tr>\n",
       "    <tr>\n",
       "      <th>36</th>\n",
       "      <td>3409</td>\n",
       "      <td>TMF002</td>\n",
       "      <td>06</td>\n",
       "      <td></td>\n",
       "      <td></td>\n",
       "      <td>2024-02-01</td>\n",
       "      <td>16:03:02</td>\n",
       "      <td>000939</td>\n",
       "    </tr>\n",
       "    <tr>\n",
       "      <th>37</th>\n",
       "      <td>3410</td>\n",
       "      <td>TMF015</td>\n",
       "      <td>06</td>\n",
       "      <td></td>\n",
       "      <td></td>\n",
       "      <td>2024-02-01</td>\n",
       "      <td>16:03:11</td>\n",
       "      <td>000939</td>\n",
       "    </tr>\n",
       "    <tr>\n",
       "      <th>38</th>\n",
       "      <td>3411</td>\n",
       "      <td>TMF011</td>\n",
       "      <td>06</td>\n",
       "      <td></td>\n",
       "      <td></td>\n",
       "      <td>2024-02-01</td>\n",
       "      <td>16:03:20</td>\n",
       "      <td>000939</td>\n",
       "    </tr>\n",
       "    <tr>\n",
       "      <th>39</th>\n",
       "      <td>3412</td>\n",
       "      <td>TMF014</td>\n",
       "      <td>06</td>\n",
       "      <td></td>\n",
       "      <td></td>\n",
       "      <td>2024-02-01</td>\n",
       "      <td>16:03:33</td>\n",
       "      <td>000939</td>\n",
       "    </tr>\n",
       "    <tr>\n",
       "      <th>40</th>\n",
       "      <td>3413</td>\n",
       "      <td>TMF004</td>\n",
       "      <td>06</td>\n",
       "      <td></td>\n",
       "      <td></td>\n",
       "      <td>2024-02-01</td>\n",
       "      <td>16:03:43</td>\n",
       "      <td>000939</td>\n",
       "    </tr>\n",
       "    <tr>\n",
       "      <th>41</th>\n",
       "      <td>3414</td>\n",
       "      <td>TMF004</td>\n",
       "      <td>06</td>\n",
       "      <td></td>\n",
       "      <td></td>\n",
       "      <td>2024-02-01</td>\n",
       "      <td>16:03:53</td>\n",
       "      <td>000939</td>\n",
       "    </tr>\n",
       "    <tr>\n",
       "      <th>42</th>\n",
       "      <td>3415</td>\n",
       "      <td>TMF009</td>\n",
       "      <td>06</td>\n",
       "      <td></td>\n",
       "      <td></td>\n",
       "      <td>2024-02-01</td>\n",
       "      <td>16:04:03</td>\n",
       "      <td>000939</td>\n",
       "    </tr>\n",
       "    <tr>\n",
       "      <th>43</th>\n",
       "      <td>3416</td>\n",
       "      <td>TMF003</td>\n",
       "      <td>06</td>\n",
       "      <td></td>\n",
       "      <td></td>\n",
       "      <td>2024-02-01</td>\n",
       "      <td>16:04:13</td>\n",
       "      <td>000939</td>\n",
       "    </tr>\n",
       "    <tr>\n",
       "      <th>44</th>\n",
       "      <td>3417</td>\n",
       "      <td>TMF001</td>\n",
       "      <td>06</td>\n",
       "      <td></td>\n",
       "      <td></td>\n",
       "      <td>2024-02-01</td>\n",
       "      <td>16:04:26</td>\n",
       "      <td>000939</td>\n",
       "    </tr>\n",
       "  </tbody>\n",
       "</table>\n",
       "</div>"
      ],
      "text/plain": [
       "    recno maquina_id motivo_id                                      problema  \\\n",
       "0    3373     TMF005        03                                                 \n",
       "1    3374     TMF002        03                                                 \n",
       "2    3375     TMF015        03                                                 \n",
       "3    3376     TMF011        03                                                 \n",
       "4    3377     TMF014        03                                                 \n",
       "5    3378     TMF009        03                                                 \n",
       "6    3379     TMF003        03                                                 \n",
       "7    3380     TMF001        03                                                 \n",
       "8    3381     TMF013        03                                                 \n",
       "9    3382     TMF007        03                                                 \n",
       "10   3383     TMF010        03                                                 \n",
       "11   3384     TMF002        08  Corrente da bobina não está rodando conforme   \n",
       "12   3385     TMF005        05                                                 \n",
       "13   3386     TMF001        05                                                 \n",
       "14   3387     TMF002        05                                                 \n",
       "15   3388     TMF003        05                                                 \n",
       "16   3389     TMF015        05                                                 \n",
       "17   3390     TMF009        05                                                 \n",
       "18   3391     TMF011        05                                                 \n",
       "19   3392     TMF014        05                                                 \n",
       "20   3393     TMF010        01                                                 \n",
       "21   3394     TMF012        01                                                 \n",
       "22   3395     TMF007        01                                                 \n",
       "23   3396     TMF013        01                                                 \n",
       "24   3397     TMF010        14             Robo não está pegando as bandejas   \n",
       "25   3398     TMF007        14             Robo não está pegando as bandejas   \n",
       "26   3399     TMF012        14             Robo não está pegando as bandejas   \n",
       "27   3400     TMF012        05                        Rodou as demais linhas   \n",
       "28   3401     TMF013        03                                                 \n",
       "29   3402     TMF012        03                                                 \n",
       "30   3403     TMF005        03                                                 \n",
       "31   3404     TMF002        03                                                 \n",
       "32   3405     TMF015        03                                                 \n",
       "33   3406     TMF011        03                                                 \n",
       "34   3407     TMF010        12                                                 \n",
       "35   3408     TMF005        06                                                 \n",
       "36   3409     TMF002        06                                                 \n",
       "37   3410     TMF015        06                                                 \n",
       "38   3411     TMF011        06                                                 \n",
       "39   3412     TMF014        06                                                 \n",
       "40   3413     TMF004        06                                                 \n",
       "41   3414     TMF004        06                                                 \n",
       "42   3415     TMF009        06                                                 \n",
       "43   3416     TMF003        06                                                 \n",
       "44   3417     TMF001        06                                                 \n",
       "\n",
       "   solucao data_registro hora_registro usuario_id  \n",
       "0             2024-02-01      02:58:31     000441  \n",
       "1             2024-02-01      02:58:41     000441  \n",
       "2             2024-02-01      02:58:51     000441  \n",
       "3             2024-02-01      02:59:00     000441  \n",
       "4             2024-02-01      02:59:11     000441  \n",
       "5             2024-02-01      02:59:22     000441  \n",
       "6             2024-02-01      02:59:31     000441  \n",
       "7             2024-02-01      02:59:42     000441  \n",
       "8             2024-02-01      04:26:25     000453  \n",
       "9             2024-02-01      04:26:33     000453  \n",
       "10            2024-02-01      04:26:41     000453  \n",
       "11            2024-02-01      04:42:18     000441  \n",
       "12            2024-02-01      05:57:06     000441  \n",
       "13            2024-02-01      05:58:41     000441  \n",
       "14            2024-02-01      06:06:47     000441  \n",
       "15            2024-02-01      06:08:50     000441  \n",
       "16            2024-02-01      06:14:41     000441  \n",
       "17            2024-02-01      06:16:12     000441  \n",
       "18            2024-02-01      06:24:41     000441  \n",
       "19            2024-02-01      06:30:52     000441  \n",
       "20            2024-02-01      08:21:34     000807  \n",
       "21            2024-02-01      08:21:40     000807  \n",
       "22            2024-02-01      08:21:46     000807  \n",
       "23            2024-02-01      08:21:52     000807  \n",
       "24            2024-02-01      08:48:31     000807  \n",
       "25            2024-02-01      08:49:03     000807  \n",
       "26            2024-02-01      08:49:23     000807  \n",
       "27            2024-02-01      09:25:06     000807  \n",
       "28            2024-02-01      10:53:54     000807  \n",
       "29            2024-02-01      10:54:08     000807  \n",
       "30            2024-02-01      11:05:14     000838  \n",
       "31            2024-02-01      11:05:23     000838  \n",
       "32            2024-02-01      11:05:32     000838  \n",
       "33            2024-02-01      11:05:43     000838  \n",
       "34            2024-02-01      13:52:08     000807  \n",
       "35            2024-02-01      16:02:50     000939  \n",
       "36            2024-02-01      16:03:02     000939  \n",
       "37            2024-02-01      16:03:11     000939  \n",
       "38            2024-02-01      16:03:20     000939  \n",
       "39            2024-02-01      16:03:33     000939  \n",
       "40            2024-02-01      16:03:43     000939  \n",
       "41            2024-02-01      16:03:53     000939  \n",
       "42            2024-02-01      16:04:03     000939  \n",
       "43            2024-02-01      16:04:13     000939  \n",
       "44            2024-02-01      16:04:26     000939  "
      ]
     },
     "execution_count": 6,
     "metadata": {},
     "output_type": "execute_result"
    }
   ],
   "source": [
    "df_occ"
   ]
  },
  {
   "cell_type": "code",
   "execution_count": 7,
   "metadata": {},
   "outputs": [
    {
     "data": {
      "text/html": [
       "<div>\n",
       "<style scoped>\n",
       "    .dataframe tbody tr th:only-of-type {\n",
       "        vertical-align: middle;\n",
       "    }\n",
       "\n",
       "    .dataframe tbody tr th {\n",
       "        vertical-align: top;\n",
       "    }\n",
       "\n",
       "    .dataframe thead th {\n",
       "        text-align: right;\n",
       "    }\n",
       "</style>\n",
       "<table border=\"1\" class=\"dataframe\">\n",
       "  <thead>\n",
       "    <tr style=\"text-align: right;\">\n",
       "      <th></th>\n",
       "      <th>maquina_id</th>\n",
       "      <th>linha</th>\n",
       "      <th>fabrica</th>\n",
       "      <th>status</th>\n",
       "      <th>turno</th>\n",
       "      <th>contagem_total_ciclos</th>\n",
       "      <th>contagem_total_produzido</th>\n",
       "      <th>data_registro</th>\n",
       "      <th>hora_registro</th>\n",
       "    </tr>\n",
       "  </thead>\n",
       "  <tbody>\n",
       "    <tr>\n",
       "      <th>0</th>\n",
       "      <td>TMF010</td>\n",
       "      <td>14</td>\n",
       "      <td>2</td>\n",
       "      <td>false</td>\n",
       "      <td>MAT</td>\n",
       "      <td>0.0</td>\n",
       "      <td>0.0</td>\n",
       "      <td>2024-02-03</td>\n",
       "      <td>15:05:55.956666</td>\n",
       "    </tr>\n",
       "    <tr>\n",
       "      <th>1</th>\n",
       "      <td>TMF007</td>\n",
       "      <td>13</td>\n",
       "      <td>2</td>\n",
       "      <td>false</td>\n",
       "      <td>MAT</td>\n",
       "      <td>0.0</td>\n",
       "      <td>0.0</td>\n",
       "      <td>2024-02-03</td>\n",
       "      <td>15:05:54.953333</td>\n",
       "    </tr>\n",
       "    <tr>\n",
       "      <th>2</th>\n",
       "      <td>TMF012</td>\n",
       "      <td>12</td>\n",
       "      <td>2</td>\n",
       "      <td>false</td>\n",
       "      <td>MAT</td>\n",
       "      <td>0.0</td>\n",
       "      <td>0.0</td>\n",
       "      <td>2024-02-03</td>\n",
       "      <td>15:05:53.950000</td>\n",
       "    </tr>\n",
       "    <tr>\n",
       "      <th>3</th>\n",
       "      <td>TMF013</td>\n",
       "      <td>11</td>\n",
       "      <td>2</td>\n",
       "      <td>false</td>\n",
       "      <td>MAT</td>\n",
       "      <td>0.0</td>\n",
       "      <td>0.0</td>\n",
       "      <td>2024-02-03</td>\n",
       "      <td>15:05:52.950000</td>\n",
       "    </tr>\n",
       "    <tr>\n",
       "      <th>4</th>\n",
       "      <td>TMF006</td>\n",
       "      <td>0</td>\n",
       "      <td></td>\n",
       "      <td>false</td>\n",
       "      <td>MAT</td>\n",
       "      <td>0.0</td>\n",
       "      <td>0.0</td>\n",
       "      <td>2024-02-03</td>\n",
       "      <td>15:05:51.950000</td>\n",
       "    </tr>\n",
       "    <tr>\n",
       "      <th>...</th>\n",
       "      <td>...</td>\n",
       "      <td>...</td>\n",
       "      <td>...</td>\n",
       "      <td>...</td>\n",
       "      <td>...</td>\n",
       "      <td>...</td>\n",
       "      <td>...</td>\n",
       "      <td>...</td>\n",
       "      <td>...</td>\n",
       "    </tr>\n",
       "    <tr>\n",
       "      <th>23203</th>\n",
       "      <td>TMF014</td>\n",
       "      <td>5</td>\n",
       "      <td>1</td>\n",
       "      <td>true</td>\n",
       "      <td>NOT</td>\n",
       "      <td>10.0</td>\n",
       "      <td>8.0</td>\n",
       "      <td>2024-02-01</td>\n",
       "      <td>00:01:34.156666</td>\n",
       "    </tr>\n",
       "    <tr>\n",
       "      <th>23204</th>\n",
       "      <td>TMF011</td>\n",
       "      <td>4</td>\n",
       "      <td>1</td>\n",
       "      <td>false</td>\n",
       "      <td>NOT</td>\n",
       "      <td>0.0</td>\n",
       "      <td>0.0</td>\n",
       "      <td>2024-02-01</td>\n",
       "      <td>00:01:33.156666</td>\n",
       "    </tr>\n",
       "    <tr>\n",
       "      <th>23205</th>\n",
       "      <td>TMF015</td>\n",
       "      <td>3</td>\n",
       "      <td>1</td>\n",
       "      <td>true</td>\n",
       "      <td>NOT</td>\n",
       "      <td>12.0</td>\n",
       "      <td>12.0</td>\n",
       "      <td>2024-02-01</td>\n",
       "      <td>00:01:32.153333</td>\n",
       "    </tr>\n",
       "    <tr>\n",
       "      <th>23206</th>\n",
       "      <td>TMF002</td>\n",
       "      <td>2</td>\n",
       "      <td>1</td>\n",
       "      <td>false</td>\n",
       "      <td>NOT</td>\n",
       "      <td>0.0</td>\n",
       "      <td>0.0</td>\n",
       "      <td>2024-02-01</td>\n",
       "      <td>00:01:31.153333</td>\n",
       "    </tr>\n",
       "    <tr>\n",
       "      <th>23207</th>\n",
       "      <td>TMF005</td>\n",
       "      <td>1</td>\n",
       "      <td>1</td>\n",
       "      <td>false</td>\n",
       "      <td>NOT</td>\n",
       "      <td>0.0</td>\n",
       "      <td>0.0</td>\n",
       "      <td>2024-02-01</td>\n",
       "      <td>00:01:30.150000</td>\n",
       "    </tr>\n",
       "  </tbody>\n",
       "</table>\n",
       "<p>23208 rows × 9 columns</p>\n",
       "</div>"
      ],
      "text/plain": [
       "      maquina_id  linha fabrica status turno  contagem_total_ciclos  \\\n",
       "0         TMF010     14       2  false   MAT                    0.0   \n",
       "1         TMF007     13       2  false   MAT                    0.0   \n",
       "2         TMF012     12       2  false   MAT                    0.0   \n",
       "3         TMF013     11       2  false   MAT                    0.0   \n",
       "4         TMF006      0          false   MAT                    0.0   \n",
       "...          ...    ...     ...    ...   ...                    ...   \n",
       "23203     TMF014      5       1   true   NOT                   10.0   \n",
       "23204     TMF011      4       1  false   NOT                    0.0   \n",
       "23205     TMF015      3       1   true   NOT                   12.0   \n",
       "23206     TMF002      2       1  false   NOT                    0.0   \n",
       "23207     TMF005      1       1  false   NOT                    0.0   \n",
       "\n",
       "       contagem_total_produzido data_registro    hora_registro  \n",
       "0                           0.0    2024-02-03  15:05:55.956666  \n",
       "1                           0.0    2024-02-03  15:05:54.953333  \n",
       "2                           0.0    2024-02-03  15:05:53.950000  \n",
       "3                           0.0    2024-02-03  15:05:52.950000  \n",
       "4                           0.0    2024-02-03  15:05:51.950000  \n",
       "...                         ...           ...              ...  \n",
       "23203                       8.0    2024-02-01  00:01:34.156666  \n",
       "23204                       0.0    2024-02-01  00:01:33.156666  \n",
       "23205                      12.0    2024-02-01  00:01:32.153333  \n",
       "23206                       0.0    2024-02-01  00:01:31.153333  \n",
       "23207                       0.0    2024-02-01  00:01:30.150000  \n",
       "\n",
       "[23208 rows x 9 columns]"
      ]
     },
     "execution_count": 7,
     "metadata": {},
     "output_type": "execute_result"
    }
   ],
   "source": [
    "df_info"
   ]
  },
  {
   "cell_type": "code",
   "execution_count": 8,
   "metadata": {},
   "outputs": [
    {
     "data": {
      "text/html": [
       "<div>\n",
       "<style scoped>\n",
       "    .dataframe tbody tr th:only-of-type {\n",
       "        vertical-align: middle;\n",
       "    }\n",
       "\n",
       "    .dataframe tbody tr th {\n",
       "        vertical-align: top;\n",
       "    }\n",
       "\n",
       "    .dataframe thead th {\n",
       "        text-align: right;\n",
       "    }\n",
       "</style>\n",
       "<table border=\"1\" class=\"dataframe\">\n",
       "  <thead>\n",
       "    <tr style=\"text-align: right;\">\n",
       "      <th></th>\n",
       "      <th>maquina_id</th>\n",
       "      <th>linha</th>\n",
       "      <th>turno</th>\n",
       "      <th>total_ciclos</th>\n",
       "      <th>total_produzido</th>\n",
       "      <th>data_registro</th>\n",
       "    </tr>\n",
       "  </thead>\n",
       "  <tbody>\n",
       "    <tr>\n",
       "      <th>0</th>\n",
       "      <td>TMF001</td>\n",
       "      <td>9</td>\n",
       "      <td>MAT</td>\n",
       "      <td>0.0</td>\n",
       "      <td>0.0</td>\n",
       "      <td>2024-02-03</td>\n",
       "    </tr>\n",
       "    <tr>\n",
       "      <th>1</th>\n",
       "      <td>TMF001</td>\n",
       "      <td>9</td>\n",
       "      <td>NOT</td>\n",
       "      <td>0.0</td>\n",
       "      <td>0.0</td>\n",
       "      <td>2024-02-03</td>\n",
       "    </tr>\n",
       "    <tr>\n",
       "      <th>2</th>\n",
       "      <td>TMF002</td>\n",
       "      <td>2</td>\n",
       "      <td>MAT</td>\n",
       "      <td>0.0</td>\n",
       "      <td>0.0</td>\n",
       "      <td>2024-02-03</td>\n",
       "    </tr>\n",
       "    <tr>\n",
       "      <th>3</th>\n",
       "      <td>TMF002</td>\n",
       "      <td>2</td>\n",
       "      <td>NOT</td>\n",
       "      <td>0.0</td>\n",
       "      <td>0.0</td>\n",
       "      <td>2024-02-03</td>\n",
       "    </tr>\n",
       "    <tr>\n",
       "      <th>4</th>\n",
       "      <td>TMF002</td>\n",
       "      <td>2</td>\n",
       "      <td>VES</td>\n",
       "      <td>0.0</td>\n",
       "      <td>0.0</td>\n",
       "      <td>2024-02-03</td>\n",
       "    </tr>\n",
       "    <tr>\n",
       "      <th>...</th>\n",
       "      <td>...</td>\n",
       "      <td>...</td>\n",
       "      <td>...</td>\n",
       "      <td>...</td>\n",
       "      <td>...</td>\n",
       "      <td>...</td>\n",
       "    </tr>\n",
       "    <tr>\n",
       "      <th>101</th>\n",
       "      <td>TMF014</td>\n",
       "      <td>5</td>\n",
       "      <td>NOT</td>\n",
       "      <td>8524.0</td>\n",
       "      <td>8358.0</td>\n",
       "      <td>2024-02-01</td>\n",
       "    </tr>\n",
       "    <tr>\n",
       "      <th>102</th>\n",
       "      <td>TMF014</td>\n",
       "      <td>5</td>\n",
       "      <td>VES</td>\n",
       "      <td>102.0</td>\n",
       "      <td>2.0</td>\n",
       "      <td>2024-02-01</td>\n",
       "    </tr>\n",
       "    <tr>\n",
       "      <th>103</th>\n",
       "      <td>TMF015</td>\n",
       "      <td>3</td>\n",
       "      <td>MAT</td>\n",
       "      <td>6482.0</td>\n",
       "      <td>6438.0</td>\n",
       "      <td>2024-02-01</td>\n",
       "    </tr>\n",
       "    <tr>\n",
       "      <th>104</th>\n",
       "      <td>TMF015</td>\n",
       "      <td>3</td>\n",
       "      <td>NOT</td>\n",
       "      <td>8934.0</td>\n",
       "      <td>8792.0</td>\n",
       "      <td>2024-02-01</td>\n",
       "    </tr>\n",
       "    <tr>\n",
       "      <th>105</th>\n",
       "      <td>TMF015</td>\n",
       "      <td>3</td>\n",
       "      <td>VES</td>\n",
       "      <td>56.0</td>\n",
       "      <td>50.0</td>\n",
       "      <td>2024-02-01</td>\n",
       "    </tr>\n",
       "  </tbody>\n",
       "</table>\n",
       "<p>106 rows × 6 columns</p>\n",
       "</div>"
      ],
      "text/plain": [
       "    maquina_id  linha turno  total_ciclos  total_produzido data_registro\n",
       "0       TMF001      9   MAT           0.0              0.0    2024-02-03\n",
       "1       TMF001      9   NOT           0.0              0.0    2024-02-03\n",
       "2       TMF002      2   MAT           0.0              0.0    2024-02-03\n",
       "3       TMF002      2   NOT           0.0              0.0    2024-02-03\n",
       "4       TMF002      2   VES           0.0              0.0    2024-02-03\n",
       "..         ...    ...   ...           ...              ...           ...\n",
       "101     TMF014      5   NOT        8524.0           8358.0    2024-02-01\n",
       "102     TMF014      5   VES         102.0              2.0    2024-02-01\n",
       "103     TMF015      3   MAT        6482.0           6438.0    2024-02-01\n",
       "104     TMF015      3   NOT        8934.0           8792.0    2024-02-01\n",
       "105     TMF015      3   VES          56.0             50.0    2024-02-01\n",
       "\n",
       "[106 rows x 6 columns]"
      ]
     },
     "execution_count": 8,
     "metadata": {},
     "output_type": "execute_result"
    }
   ],
   "source": [
    "df_info_production"
   ]
  },
  {
   "cell_type": "markdown",
   "metadata": {},
   "source": [
    "# Limpeza de dados e análise exploratória\n"
   ]
  },
  {
   "cell_type": "code",
   "execution_count": 9,
   "metadata": {},
   "outputs": [],
   "source": [
    "# service/clean_data.py\n",
    "\n",
    "\n",
    "# cSpell: disable=invalid-name\n",
    "class CleanData:\n",
    "    def maq_info(self, info: pd.DataFrame) -> pd.DataFrame:\n",
    "        \"\"\"\n",
    "        Processa as informações de uma máquina e retorna um DataFrame com os dados ajustados.\n",
    "\n",
    "        Args:\n",
    "            info (pd.DataFrame): DataFrame contendo as informações da máquina.\n",
    "\n",
    "        Returns:\n",
    "            pd.DataFrame: DataFrame com os dados ajustados da máquina.\n",
    "        \"\"\"\n",
    "\n",
    "        # Ordenar dataframe\n",
    "        df_info = info.sort_values(by=[\"maquina_id\", \"data_registro\", \"hora_registro\", \"turno\"])\n",
    "\n",
    "        # Criar coluna com data e hora unidos\n",
    "        df_info[\"data_hora_registro\"] = (\n",
    "            df_info[\"data_registro\"].astype(str)\n",
    "            + \" \"\n",
    "            + df_info[\"hora_registro\"].astype(str).str.split(\".\").str[0]\n",
    "        )\n",
    "\n",
    "        # Ajustar primeira entrada se for VES\n",
    "        mask = (df_info[\"turno\"] == \"VES\") & (\n",
    "            df_info[\"maquina_id\"] != df_info[\"maquina_id\"].shift()\n",
    "        )\n",
    "        df_info[\"turno\"] = np.where(mask, \"NOT\", df_info[\"turno\"])\n",
    "\n",
    "        # Ajustar data_hora para pd.datetime\n",
    "        df_info[\"data_hora_registro\"] = pd.to_datetime(df_info[\"data_hora_registro\"])\n",
    "\n",
    "        # Ajustar horário se turno for VES - ajusta para dia anterior e horário 23:59:59\n",
    "        mask = (\n",
    "            (df_info[\"turno\"] == \"VES\")\n",
    "            & (df_info[\"data_hora_registro\"] != df_info[\"data_hora_registro\"].shift())\n",
    "            & (df_info[\"data_hora_registro\"].dt.time > time(0, 0, 0))\n",
    "            & (df_info[\"data_hora_registro\"].dt.time < time(0, 5, 0))\n",
    "        )\n",
    "        df_info[\"data_hora_registro\"] = np.where(\n",
    "            mask,\n",
    "            (df_info[\"data_hora_registro\"] - pd.Timedelta(days=1)).dt.normalize()\n",
    "            + pd.Timedelta(hours=23, minutes=59, seconds=59),\n",
    "            df_info[\"data_hora_registro\"],\n",
    "        )\n",
    "\n",
    "        # Criar nova coluna status_change para identificar mudança de status\n",
    "        df_info[\"status_change\"] = df_info[\"status\"].ne(df_info[\"status\"].shift())\n",
    "\n",
    "        # Criar coluna para identificar a mudança de máquina\n",
    "        df_info[\"maquina_change\"] = df_info[\"maquina_id\"].ne(df_info[\"maquina_id\"].shift())\n",
    "\n",
    "        # Criar coluna para identificar a mudança de turno\n",
    "        df_info[\"turno_change\"] = df_info[\"turno\"].ne(df_info[\"turno\"].shift())\n",
    "\n",
    "        # Atualizar coluna change para incluir mudança de turno\n",
    "        df_info[\"change\"] = (\n",
    "            df_info[\"status_change\"] | df_info[\"maquina_change\"] | df_info[\"turno_change\"]\n",
    "        )\n",
    "\n",
    "        # Agrupar por maquina e identificar data e hora da última mudança de status\n",
    "        df_info[\"change_time\"] = (\n",
    "            df_info.groupby(\"maquina_id\")[\"data_hora_registro\"].shift(0).where(df_info[\"change\"])\n",
    "        )\n",
    "\n",
    "        # Feito para agrupar por maquina_id e turno e manter o ultimo registro de cada grupo\n",
    "        df_info = (\n",
    "            df_info.groupby([\"maquina_id\", \"change_time\"])\n",
    "            .agg(\n",
    "                status=(\"status\", \"first\"),\n",
    "                turno=(\"turno\", \"first\"),\n",
    "                linha=(\"linha\", \"first\"),\n",
    "                fabrica=(\"fabrica\", \"first\"),\n",
    "                data_hora_registro=(\"data_hora_registro\", \"first\"),\n",
    "                contagem_total_ciclos=(\"contagem_total_ciclos\", \"last\"),\n",
    "                contagem_total_produzido=(\n",
    "                    \"contagem_total_produzido\",\n",
    "                    \"last\",\n",
    "                ),\n",
    "                change=(\"change\", \"first\"),\n",
    "                maquina_change=(\"maquina_change\", \"first\"),\n",
    "            )\n",
    "            .reset_index()\n",
    "        )\n",
    "\n",
    "        # Criar nova coluna com a data_hora_final do status\n",
    "        df_info[\"data_hora_final\"] = (\n",
    "            df_info.groupby(\"maquina_id\")[\"data_hora_registro\"]\n",
    "            .shift(-1)\n",
    "            .where(~df_info[\"maquina_change\"])\n",
    "        )\n",
    "\n",
    "        # Atualizar coluna data_hora_final onde maquina_change é True\n",
    "        mask = df_info[\"maquina_change\"]\n",
    "        df_info[\"data_hora_final\"] = np.where(\n",
    "            mask, df_info[\"change_time\"].shift(-1), df_info[\"data_hora_final\"]\n",
    "        )\n",
    "\n",
    "        # Remover colunas desnecessárias\n",
    "        df_info.drop(\n",
    "            columns=[\n",
    "                \"maquina_change\",\n",
    "                \"change\",\n",
    "                \"change_time\",\n",
    "            ],\n",
    "            inplace=True,\n",
    "        )\n",
    "\n",
    "        # Remover linhas onde data_hora_final é nulo\n",
    "        df_info.dropna(subset=[\"data_hora_final\"], inplace=True)\n",
    "\n",
    "        # Cria nova coluna tempo_registro_min para calcular o tempo de registro em minutos\n",
    "        df_info[\"tempo_registro_min\"] = (\n",
    "            pd.to_datetime(df_info[\"data_hora_final\"])\n",
    "            - pd.to_datetime(df_info[\"data_hora_registro\"])\n",
    "        ).dt.total_seconds() / 60\n",
    "\n",
    "        # Arredondar tempo_registro_min e converter para inteiro\n",
    "        df_info[\"tempo_registro_min\"] = df_info[\"tempo_registro_min\"].round(0).astype(int)\n",
    "\n",
    "        # Ajustar tipos\n",
    "        df_info = df_info.astype(\n",
    "            {\n",
    "                \"maquina_id\": \"category\",\n",
    "                \"status\": \"category\",\n",
    "                \"turno\": \"category\",\n",
    "                \"linha\": \"category\",\n",
    "                \"fabrica\": \"category\",\n",
    "                \"tempo_registro_min\": int,\n",
    "                \"contagem_total_ciclos\": int,\n",
    "                \"contagem_total_produzido\": int,\n",
    "            }\n",
    "        )\n",
    "\n",
    "        # Ajustar nomenclatura dos status\n",
    "        df_info[\"status\"] = np.where(\n",
    "            (df_info[\"status\"] == \"true\") & (df_info[\"tempo_registro_min\"] < 10),\n",
    "            \"in_test\",\n",
    "            df_info[\"status\"],\n",
    "        )\n",
    "        df_info[\"status\"] = np.where(df_info[\"status\"] == \"true\", \"rodando\", df_info[\"status\"])\n",
    "        df_info[\"status\"] = np.where(df_info[\"status\"] == \"false\", \"parada\", df_info[\"status\"])\n",
    "\n",
    "        # Ajustar tipo do status\n",
    "        df_info[\"status\"] = df_info[\"status\"].astype(\"category\")\n",
    "\n",
    "        # Ajustar o index\n",
    "        df_info.reset_index(drop=True, inplace=True)\n",
    "\n",
    "        return df_info\n",
    "\n",
    "    def get_adjusted_stops_data(self, info: pd.DataFrame) -> pd.DataFrame:\n",
    "        \"\"\"\n",
    "        Retorna os dados de paradas ajustados de acordo com as regras definidas.\n",
    "\n",
    "        Args:\n",
    "            info (pd.DataFrame): O dataframe contendo os dados de paradas.\n",
    "\n",
    "        Returns:\n",
    "            pd.DataFrame: O dataframe com os dados de paradas ajustados.\n",
    "        \"\"\"\n",
    "        # Certificar que data_hora_registro e data_hora_final são do tipo datetime\n",
    "        info[\"data_hora_registro\"] = pd.to_datetime(info[\"data_hora_registro\"])\n",
    "        info[\"data_hora_final\"] = pd.to_datetime(info[\"data_hora_final\"])\n",
    "\n",
    "        # Ordenar por maquina_id e data_hora_registro\n",
    "        df_info = info.sort_values(by=[\"maquina_id\", \"data_hora_registro\"])\n",
    "\n",
    "        # Criar coluna auxiliar para identificar a maquina rodando\n",
    "        df_info[\"rodando\"] = np.where(df_info[\"status\"] == \"rodando\", 1, 0)\n",
    "\n",
    "        # Unir grupos de paradas, levando em conta mudança de maquina e turno\n",
    "        df_info[\"group\"] = (\n",
    "            (df_info[\"rodando\"] != df_info[\"rodando\"].shift())\n",
    "            | (df_info[\"maquina_id\"] != df_info[\"maquina_id\"].shift())\n",
    "            | (df_info[\"turno\"] != df_info[\"turno\"].shift())\n",
    "            | (\n",
    "                df_info[\"data_hora_registro\"].dt.date\n",
    "                != df_info[\"data_hora_registro\"].shift().dt.date\n",
    "            )\n",
    "        ).cumsum()\n",
    "\n",
    "        # Agrerar por grupo\n",
    "        df_info = (\n",
    "            df_info.groupby([\"group\"])\n",
    "            .agg(\n",
    "                maquina_id=(\"maquina_id\", \"first\"),\n",
    "                status=(\"status\", \"first\"),\n",
    "                turno=(\"turno\", \"first\"),\n",
    "                linha=(\"linha\", \"first\"),\n",
    "                fabrica=(\"fabrica\", \"first\"),\n",
    "                data_hora_registro=(\"data_hora_registro\", \"first\"),\n",
    "                data_hora_final=(\"data_hora_final\", \"last\"),\n",
    "                tempo_registro_min=(\"tempo_registro_min\", \"sum\"),\n",
    "                contagem_total_ciclos=(\"contagem_total_ciclos\", \"last\"),\n",
    "                contagem_total_produzido=(\"contagem_total_produzido\", \"last\"),\n",
    "            )\n",
    "            .reset_index(drop=True)\n",
    "        )\n",
    "\n",
    "        # Alterar in_test para parada\n",
    "        df_info[\"status\"] = np.where(df_info[\"status\"] == \"in_test\", \"parada\", df_info[\"status\"])\n",
    "\n",
    "        # Substituir valores nulos por np.nan\n",
    "        df_info.fillna(value=np.nan, inplace=True)\n",
    "\n",
    "        return df_info\n",
    "\n",
    "    def dayofweek_adjust(self, df: pd.DataFrame) -> pd.DataFrame:\n",
    "        \"\"\"\n",
    "        Incluir colunas para identificar sábados, domingos e feriados.\n",
    "\n",
    "        Args:\n",
    "            df (pd.DataFrame): DataFrame com os dados de paradas.\n",
    "\n",
    "        Returns:\n",
    "            pd.DataFrame: DataFrame com as colunas adicionadas.\n",
    "        \"\"\"\n",
    "\n",
    "        # Garantir que data_hora_registro é do tipo datetime\n",
    "        df[\"data_hora_registro\"] = pd.to_datetime(df[\"data_hora_registro\"])\n",
    "\n",
    "        # Identificar sábados\n",
    "        df[\"sabado\"] = np.where(df[\"data_hora_registro\"].dt.dayofweek == 5, 1, 0)\n",
    "\n",
    "        # Identificar domingos\n",
    "        df[\"domingo\"] = np.where(df[\"data_hora_registro\"].dt.dayofweek == 6, 1, 0)\n",
    "\n",
    "        # Ler arquivo com os feriados\n",
    "        holidays = pd.read_csv(\"../assets/feriados.csv\")\n",
    "\n",
    "        # Converter para datetime\n",
    "        holidays[\"feriados\"] = pd.to_datetime(holidays[\"feriados\"])\n",
    "\n",
    "        # Identificar feriados\n",
    "        df[\"feriado\"] = (\n",
    "            df[\"data_hora_registro\"]\n",
    "            .dt.date.isin(pd.to_datetime(holidays[\"feriados\"]).dt.date)\n",
    "            .astype(int)\n",
    "        )\n",
    "\n",
    "        return df\n",
    "\n",
    "    def get_maq_info_cleaned(self, df_info: pd.DataFrame) -> pd.DataFrame:\n",
    "        \"\"\"\n",
    "        Retorna os dados de paradas ajustados de acordo com as regras definidas.\n",
    "\n",
    "        Args:\n",
    "            df_info (pd.DataFrame): O dataframe contendo os dados de paradas.\n",
    "\n",
    "        Returns:\n",
    "            pd.DataFrame: O dataframe com os dados de paradas ajustados.\n",
    "        \"\"\"\n",
    "\n",
    "        # Ajustar dados de maquina_info\n",
    "        df_info = self.maq_info(df_info)\n",
    "\n",
    "        # Ajustar dados de paradas\n",
    "        df_info = self.get_adjusted_stops_data(df_info)\n",
    "\n",
    "        # Incluir colunas para identificar sábados, domingos e feriados\n",
    "        df_info = self.dayofweek_adjust(df_info)\n",
    "\n",
    "        return df_info\n",
    "\n",
    "    def get_maq_occ_cleaned(self, df_occ: pd.DataFrame) -> pd.DataFrame:\n",
    "        \"\"\"\n",
    "        Retorna os dados de ocorrências ajustados de acordo com as regras definidas.\n",
    "\n",
    "        Args:\n",
    "            df_occ (pd.DataFrame): O dataframe contendo os dados de ocorrências.\n",
    "\n",
    "        Returns:\n",
    "            pd.DataFrame: O dataframe com os dados de ocorrências ajustados.\n",
    "        \"\"\"\n",
    "\n",
    "        # Motivos de Parada\n",
    "        motivos = {\n",
    "            1: \"Ajustes\",\n",
    "            2: \"Troca de Bobina\",\n",
    "            3: \"Refeição\",\n",
    "            4: \"Reunião\",\n",
    "            5: \"Café e Ginástica Laboral\",\n",
    "            6: \"Limpeza\",\n",
    "            7: \"Manutenção Elétrica\",\n",
    "            8: \"Manutenção Mecânica\",\n",
    "            9: \"Material em Falta\",\n",
    "            10: \"Setup de Sabor\",\n",
    "            11: \"Setup de Tamanho\",\n",
    "            12: \"Parada Programada\",\n",
    "            13: \"Intervenção de Qualidade\",\n",
    "            14: \"Linha Cheia\",\n",
    "            15: \"Treinamento\",\n",
    "            16: \"Limpeza Industrial\",\n",
    "            17: \"Troca de Filme\",\n",
    "        }\n",
    "\n",
    "        # Ajustar coluna motivo_id para int\n",
    "        df_occ = df_occ.astype({\"motivo_id\": int})\n",
    "\n",
    "        # Unir data_registro e hora_registro\n",
    "        df_occ[\"data_hora_registro\"] = (\n",
    "            df_occ[\"data_registro\"].astype(str)\n",
    "            + \" \"\n",
    "            + df_occ[\"hora_registro\"].astype(str).str.split(\".\").str[0]\n",
    "        )\n",
    "\n",
    "        # Ajustar data_hora_registro para datetime\n",
    "        df_occ[\"data_hora_registro\"] = pd.to_datetime(df_occ[\"data_hora_registro\"])\n",
    "\n",
    "        # Criar coluna com motivo_nome com base no dicionário motivos\n",
    "        df_occ[\"motivo_nome\"] = df_occ[\"motivo_id\"].map(motivos)\n",
    "\n",
    "        # Ajustar \"problema\" e \"solucao\" se a string estiver vazia\n",
    "        df_occ[\"problema\"] = np.where(df_occ[\"problema\"] == \"\", np.nan, df_occ[\"problema\"])\n",
    "        df_occ[\"solucao\"] = np.where(df_occ[\"solucao\"] == \"\", np.nan, df_occ[\"solucao\"])\n",
    "\n",
    "        # Copiar motivo_nome para problema caso problema seja nulo e motivo_id não seja 1,7,8,9,14\n",
    "        df_occ[\"problema\"] = np.where(\n",
    "            (df_occ[\"problema\"].isnull())\n",
    "            & (\n",
    "                ~df_occ[\"motivo_id\"].isin(\n",
    "                    [\n",
    "                        1,\n",
    "                        7,\n",
    "                        8,\n",
    "                        9,\n",
    "                        14,\n",
    "                    ]\n",
    "                )\n",
    "            ),\n",
    "            df_occ[\"motivo_nome\"],\n",
    "            df_occ[\"problema\"],\n",
    "        )\n",
    "\n",
    "        # Ajustar ordem das colunas e seus tipos\n",
    "        df_occ = df_occ.reindex(\n",
    "            columns=[\n",
    "                \"maquina_id\",\n",
    "                \"motivo_id\",\n",
    "                \"motivo_nome\",\n",
    "                \"problema\",\n",
    "                \"solucao\",\n",
    "                \"data_hora_registro\",\n",
    "                \"usuario_id\",\n",
    "            ]\n",
    "        )\n",
    "        df_occ = df_occ.astype(\n",
    "            {\n",
    "                \"maquina_id\": \"category\",\n",
    "                \"motivo_id\": int,\n",
    "                \"motivo_nome\": \"category\",\n",
    "                \"problema\": str,\n",
    "                \"solucao\": \"category\",\n",
    "                \"data_hora_registro\": \"datetime64[ns]\",\n",
    "                \"usuario_id\": \"category\",\n",
    "            }\n",
    "        )\n",
    "\n",
    "        return df_occ\n",
    "\n",
    "    def get_maq_production_cleaned(self, df_production: pd.DataFrame) -> pd.DataFrame:\n",
    "        \"\"\"\n",
    "        Retorna os dados de produção ajustados de acordo com as regras definidas.\n",
    "\n",
    "        Args:\n",
    "            df_production (pd.DataFrame): O dataframe contendo os dados de produção.\n",
    "\n",
    "        Returns:\n",
    "            pd.DataFrame: O dataframe com os dados de produção ajustados.\n",
    "        \"\"\"\n",
    "\n",
    "        # Incluir coluna turno_number para ordenar os turnos\n",
    "        df_production[\"turno_number\"] = df_production[\"turno\"].map({\"MAT\": 2, \"VES\": 3, \"NOT\": 1})\n",
    "\n",
    "        # Ordenar por maquina_id, data_registro e turno_number\n",
    "        df_production.sort_values(by=[\"maquina_id\", \"data_registro\", \"turno_number\"], inplace=True)\n",
    "\n",
    "        # Remover coluna turno_number\n",
    "        df_production.drop(columns=[\"turno_number\"], inplace=True)\n",
    "\n",
    "        # Ajustar tipos\n",
    "        df_production = df_production.astype(\n",
    "            {\n",
    "                \"maquina_id\": \"category\",\n",
    "                \"linha\": \"category\",\n",
    "                \"turno\": \"category\",\n",
    "                \"total_ciclos\": int,\n",
    "                \"total_produzido\": int,\n",
    "                \"data_registro\": \"datetime64[ns]\",\n",
    "            }\n",
    "        )\n",
    "\n",
    "        # Ajustar o index\n",
    "        df_production.reset_index(drop=True, inplace=True)\n",
    "\n",
    "        return df_production\n",
    "\n",
    "\n",
    "clean_data = CleanData()"
   ]
  },
  {
   "cell_type": "code",
   "execution_count": 10,
   "metadata": {},
   "outputs": [
    {
     "data": {
      "text/html": [
       "<div>\n",
       "<style scoped>\n",
       "    .dataframe tbody tr th:only-of-type {\n",
       "        vertical-align: middle;\n",
       "    }\n",
       "\n",
       "    .dataframe tbody tr th {\n",
       "        vertical-align: top;\n",
       "    }\n",
       "\n",
       "    .dataframe thead th {\n",
       "        text-align: right;\n",
       "    }\n",
       "</style>\n",
       "<table border=\"1\" class=\"dataframe\">\n",
       "  <thead>\n",
       "    <tr style=\"text-align: right;\">\n",
       "      <th></th>\n",
       "      <th>maquina_id</th>\n",
       "      <th>status</th>\n",
       "      <th>turno</th>\n",
       "      <th>linha</th>\n",
       "      <th>fabrica</th>\n",
       "      <th>data_hora_registro</th>\n",
       "      <th>contagem_total_ciclos</th>\n",
       "      <th>contagem_total_produzido</th>\n",
       "      <th>data_hora_final</th>\n",
       "      <th>tempo_registro_min</th>\n",
       "    </tr>\n",
       "  </thead>\n",
       "  <tbody>\n",
       "    <tr>\n",
       "      <th>0</th>\n",
       "      <td>TMF001</td>\n",
       "      <td>rodando</td>\n",
       "      <td>NOT</td>\n",
       "      <td>9</td>\n",
       "      <td>1</td>\n",
       "      <td>2024-02-01 00:01:38</td>\n",
       "      <td>12</td>\n",
       "      <td>12</td>\n",
       "      <td>2024-02-01 01:57:38</td>\n",
       "      <td>116</td>\n",
       "    </tr>\n",
       "    <tr>\n",
       "      <th>1</th>\n",
       "      <td>TMF001</td>\n",
       "      <td>parada</td>\n",
       "      <td>NOT</td>\n",
       "      <td>9</td>\n",
       "      <td>1</td>\n",
       "      <td>2024-02-01 01:57:38</td>\n",
       "      <td>2276</td>\n",
       "      <td>2266</td>\n",
       "      <td>2024-02-01 01:59:38</td>\n",
       "      <td>2</td>\n",
       "    </tr>\n",
       "    <tr>\n",
       "      <th>2</th>\n",
       "      <td>TMF001</td>\n",
       "      <td>rodando</td>\n",
       "      <td>NOT</td>\n",
       "      <td>9</td>\n",
       "      <td>1</td>\n",
       "      <td>2024-02-01 01:59:38</td>\n",
       "      <td>2304</td>\n",
       "      <td>2292</td>\n",
       "      <td>2024-02-01 02:57:38</td>\n",
       "      <td>58</td>\n",
       "    </tr>\n",
       "    <tr>\n",
       "      <th>3</th>\n",
       "      <td>TMF001</td>\n",
       "      <td>parada</td>\n",
       "      <td>NOT</td>\n",
       "      <td>9</td>\n",
       "      <td>1</td>\n",
       "      <td>2024-02-01 02:57:38</td>\n",
       "      <td>3462</td>\n",
       "      <td>3436</td>\n",
       "      <td>2024-02-01 04:03:38</td>\n",
       "      <td>66</td>\n",
       "    </tr>\n",
       "    <tr>\n",
       "      <th>4</th>\n",
       "      <td>TMF001</td>\n",
       "      <td>rodando</td>\n",
       "      <td>NOT</td>\n",
       "      <td>9</td>\n",
       "      <td>1</td>\n",
       "      <td>2024-02-01 04:03:38</td>\n",
       "      <td>3476</td>\n",
       "      <td>3448</td>\n",
       "      <td>2024-02-01 05:59:39</td>\n",
       "      <td>116</td>\n",
       "    </tr>\n",
       "    <tr>\n",
       "      <th>...</th>\n",
       "      <td>...</td>\n",
       "      <td>...</td>\n",
       "      <td>...</td>\n",
       "      <td>...</td>\n",
       "      <td>...</td>\n",
       "      <td>...</td>\n",
       "      <td>...</td>\n",
       "      <td>...</td>\n",
       "      <td>...</td>\n",
       "      <td>...</td>\n",
       "    </tr>\n",
       "    <tr>\n",
       "      <th>442</th>\n",
       "      <td>TMF015</td>\n",
       "      <td>in_test</td>\n",
       "      <td>VES</td>\n",
       "      <td>3</td>\n",
       "      <td>1</td>\n",
       "      <td>2024-02-01 20:11:35</td>\n",
       "      <td>36</td>\n",
       "      <td>30</td>\n",
       "      <td>2024-02-01 20:13:35</td>\n",
       "      <td>2</td>\n",
       "    </tr>\n",
       "    <tr>\n",
       "      <th>443</th>\n",
       "      <td>TMF015</td>\n",
       "      <td>parada</td>\n",
       "      <td>VES</td>\n",
       "      <td>3</td>\n",
       "      <td>1</td>\n",
       "      <td>2024-02-01 20:13:35</td>\n",
       "      <td>56</td>\n",
       "      <td>50</td>\n",
       "      <td>2024-02-02 00:01:36</td>\n",
       "      <td>228</td>\n",
       "    </tr>\n",
       "    <tr>\n",
       "      <th>444</th>\n",
       "      <td>TMF015</td>\n",
       "      <td>parada</td>\n",
       "      <td>NOT</td>\n",
       "      <td>3</td>\n",
       "      <td>1</td>\n",
       "      <td>2024-02-02 00:01:36</td>\n",
       "      <td>0</td>\n",
       "      <td>0</td>\n",
       "      <td>2024-02-02 18:58:58</td>\n",
       "      <td>1137</td>\n",
       "    </tr>\n",
       "    <tr>\n",
       "      <th>445</th>\n",
       "      <td>TMF015</td>\n",
       "      <td>parada</td>\n",
       "      <td>VES</td>\n",
       "      <td>3</td>\n",
       "      <td>1</td>\n",
       "      <td>2024-02-02 18:58:58</td>\n",
       "      <td>0</td>\n",
       "      <td>0</td>\n",
       "      <td>2024-02-03 00:02:59</td>\n",
       "      <td>304</td>\n",
       "    </tr>\n",
       "    <tr>\n",
       "      <th>446</th>\n",
       "      <td>TMF015</td>\n",
       "      <td>parada</td>\n",
       "      <td>NOT</td>\n",
       "      <td>3</td>\n",
       "      <td>1</td>\n",
       "      <td>2024-02-03 00:02:59</td>\n",
       "      <td>0</td>\n",
       "      <td>0</td>\n",
       "      <td>2024-02-03 08:01:00</td>\n",
       "      <td>478</td>\n",
       "    </tr>\n",
       "  </tbody>\n",
       "</table>\n",
       "<p>447 rows × 10 columns</p>\n",
       "</div>"
      ],
      "text/plain": [
       "    maquina_id   status turno linha fabrica  data_hora_registro  \\\n",
       "0       TMF001  rodando   NOT     9       1 2024-02-01 00:01:38   \n",
       "1       TMF001   parada   NOT     9       1 2024-02-01 01:57:38   \n",
       "2       TMF001  rodando   NOT     9       1 2024-02-01 01:59:38   \n",
       "3       TMF001   parada   NOT     9       1 2024-02-01 02:57:38   \n",
       "4       TMF001  rodando   NOT     9       1 2024-02-01 04:03:38   \n",
       "..         ...      ...   ...   ...     ...                 ...   \n",
       "442     TMF015  in_test   VES     3       1 2024-02-01 20:11:35   \n",
       "443     TMF015   parada   VES     3       1 2024-02-01 20:13:35   \n",
       "444     TMF015   parada   NOT     3       1 2024-02-02 00:01:36   \n",
       "445     TMF015   parada   VES     3       1 2024-02-02 18:58:58   \n",
       "446     TMF015   parada   NOT     3       1 2024-02-03 00:02:59   \n",
       "\n",
       "     contagem_total_ciclos  contagem_total_produzido     data_hora_final  \\\n",
       "0                       12                        12 2024-02-01 01:57:38   \n",
       "1                     2276                      2266 2024-02-01 01:59:38   \n",
       "2                     2304                      2292 2024-02-01 02:57:38   \n",
       "3                     3462                      3436 2024-02-01 04:03:38   \n",
       "4                     3476                      3448 2024-02-01 05:59:39   \n",
       "..                     ...                       ...                 ...   \n",
       "442                     36                        30 2024-02-01 20:13:35   \n",
       "443                     56                        50 2024-02-02 00:01:36   \n",
       "444                      0                         0 2024-02-02 18:58:58   \n",
       "445                      0                         0 2024-02-03 00:02:59   \n",
       "446                      0                         0 2024-02-03 08:01:00   \n",
       "\n",
       "     tempo_registro_min  \n",
       "0                   116  \n",
       "1                     2  \n",
       "2                    58  \n",
       "3                    66  \n",
       "4                   116  \n",
       "..                  ...  \n",
       "442                   2  \n",
       "443                 228  \n",
       "444                1137  \n",
       "445                 304  \n",
       "446                 478  \n",
       "\n",
       "[447 rows x 10 columns]"
      ]
     },
     "execution_count": 10,
     "metadata": {},
     "output_type": "execute_result"
    }
   ],
   "source": [
    "df_info_clean = clean_data.maq_info(df_info.copy())\n",
    "df_info_clean"
   ]
  },
  {
   "cell_type": "code",
   "execution_count": 11,
   "metadata": {},
   "outputs": [
    {
     "data": {
      "text/html": [
       "<div>\n",
       "<style scoped>\n",
       "    .dataframe tbody tr th:only-of-type {\n",
       "        vertical-align: middle;\n",
       "    }\n",
       "\n",
       "    .dataframe tbody tr th {\n",
       "        vertical-align: top;\n",
       "    }\n",
       "\n",
       "    .dataframe thead th {\n",
       "        text-align: right;\n",
       "    }\n",
       "</style>\n",
       "<table border=\"1\" class=\"dataframe\">\n",
       "  <thead>\n",
       "    <tr style=\"text-align: right;\">\n",
       "      <th></th>\n",
       "      <th>maquina_id</th>\n",
       "      <th>status</th>\n",
       "      <th>turno</th>\n",
       "      <th>linha</th>\n",
       "      <th>fabrica</th>\n",
       "      <th>data_hora_registro</th>\n",
       "      <th>data_hora_final</th>\n",
       "      <th>tempo_registro_min</th>\n",
       "      <th>contagem_total_ciclos</th>\n",
       "      <th>contagem_total_produzido</th>\n",
       "    </tr>\n",
       "  </thead>\n",
       "  <tbody>\n",
       "    <tr>\n",
       "      <th>0</th>\n",
       "      <td>TMF001</td>\n",
       "      <td>rodando</td>\n",
       "      <td>NOT</td>\n",
       "      <td>9</td>\n",
       "      <td>1</td>\n",
       "      <td>2024-02-01 00:01:38</td>\n",
       "      <td>2024-02-01 01:57:38</td>\n",
       "      <td>116</td>\n",
       "      <td>12</td>\n",
       "      <td>12</td>\n",
       "    </tr>\n",
       "    <tr>\n",
       "      <th>1</th>\n",
       "      <td>TMF001</td>\n",
       "      <td>parada</td>\n",
       "      <td>NOT</td>\n",
       "      <td>9</td>\n",
       "      <td>1</td>\n",
       "      <td>2024-02-01 01:57:38</td>\n",
       "      <td>2024-02-01 01:59:38</td>\n",
       "      <td>2</td>\n",
       "      <td>2276</td>\n",
       "      <td>2266</td>\n",
       "    </tr>\n",
       "    <tr>\n",
       "      <th>2</th>\n",
       "      <td>TMF001</td>\n",
       "      <td>rodando</td>\n",
       "      <td>NOT</td>\n",
       "      <td>9</td>\n",
       "      <td>1</td>\n",
       "      <td>2024-02-01 01:59:38</td>\n",
       "      <td>2024-02-01 02:57:38</td>\n",
       "      <td>58</td>\n",
       "      <td>2304</td>\n",
       "      <td>2292</td>\n",
       "    </tr>\n",
       "    <tr>\n",
       "      <th>3</th>\n",
       "      <td>TMF001</td>\n",
       "      <td>parada</td>\n",
       "      <td>NOT</td>\n",
       "      <td>9</td>\n",
       "      <td>1</td>\n",
       "      <td>2024-02-01 02:57:38</td>\n",
       "      <td>2024-02-01 04:03:38</td>\n",
       "      <td>66</td>\n",
       "      <td>3462</td>\n",
       "      <td>3436</td>\n",
       "    </tr>\n",
       "    <tr>\n",
       "      <th>4</th>\n",
       "      <td>TMF001</td>\n",
       "      <td>rodando</td>\n",
       "      <td>NOT</td>\n",
       "      <td>9</td>\n",
       "      <td>1</td>\n",
       "      <td>2024-02-01 04:03:38</td>\n",
       "      <td>2024-02-01 05:59:39</td>\n",
       "      <td>116</td>\n",
       "      <td>3476</td>\n",
       "      <td>3448</td>\n",
       "    </tr>\n",
       "    <tr>\n",
       "      <th>...</th>\n",
       "      <td>...</td>\n",
       "      <td>...</td>\n",
       "      <td>...</td>\n",
       "      <td>...</td>\n",
       "      <td>...</td>\n",
       "      <td>...</td>\n",
       "      <td>...</td>\n",
       "      <td>...</td>\n",
       "      <td>...</td>\n",
       "      <td>...</td>\n",
       "    </tr>\n",
       "    <tr>\n",
       "      <th>331</th>\n",
       "      <td>TMF015</td>\n",
       "      <td>parada</td>\n",
       "      <td>MAT</td>\n",
       "      <td>3</td>\n",
       "      <td>1</td>\n",
       "      <td>2024-02-01 15:33:34</td>\n",
       "      <td>2024-02-01 16:01:35</td>\n",
       "      <td>28</td>\n",
       "      <td>6482</td>\n",
       "      <td>6438</td>\n",
       "    </tr>\n",
       "    <tr>\n",
       "      <th>332</th>\n",
       "      <td>TMF015</td>\n",
       "      <td>parada</td>\n",
       "      <td>VES</td>\n",
       "      <td>3</td>\n",
       "      <td>1</td>\n",
       "      <td>2024-02-01 16:01:35</td>\n",
       "      <td>2024-02-02 00:01:36</td>\n",
       "      <td>480</td>\n",
       "      <td>56</td>\n",
       "      <td>50</td>\n",
       "    </tr>\n",
       "    <tr>\n",
       "      <th>333</th>\n",
       "      <td>TMF015</td>\n",
       "      <td>parada</td>\n",
       "      <td>NOT</td>\n",
       "      <td>3</td>\n",
       "      <td>1</td>\n",
       "      <td>2024-02-02 00:01:36</td>\n",
       "      <td>2024-02-02 18:58:58</td>\n",
       "      <td>1137</td>\n",
       "      <td>0</td>\n",
       "      <td>0</td>\n",
       "    </tr>\n",
       "    <tr>\n",
       "      <th>334</th>\n",
       "      <td>TMF015</td>\n",
       "      <td>parada</td>\n",
       "      <td>VES</td>\n",
       "      <td>3</td>\n",
       "      <td>1</td>\n",
       "      <td>2024-02-02 18:58:58</td>\n",
       "      <td>2024-02-03 00:02:59</td>\n",
       "      <td>304</td>\n",
       "      <td>0</td>\n",
       "      <td>0</td>\n",
       "    </tr>\n",
       "    <tr>\n",
       "      <th>335</th>\n",
       "      <td>TMF015</td>\n",
       "      <td>parada</td>\n",
       "      <td>NOT</td>\n",
       "      <td>3</td>\n",
       "      <td>1</td>\n",
       "      <td>2024-02-03 00:02:59</td>\n",
       "      <td>2024-02-03 08:01:00</td>\n",
       "      <td>478</td>\n",
       "      <td>0</td>\n",
       "      <td>0</td>\n",
       "    </tr>\n",
       "  </tbody>\n",
       "</table>\n",
       "<p>336 rows × 10 columns</p>\n",
       "</div>"
      ],
      "text/plain": [
       "    maquina_id   status turno linha fabrica  data_hora_registro  \\\n",
       "0       TMF001  rodando   NOT     9       1 2024-02-01 00:01:38   \n",
       "1       TMF001   parada   NOT     9       1 2024-02-01 01:57:38   \n",
       "2       TMF001  rodando   NOT     9       1 2024-02-01 01:59:38   \n",
       "3       TMF001   parada   NOT     9       1 2024-02-01 02:57:38   \n",
       "4       TMF001  rodando   NOT     9       1 2024-02-01 04:03:38   \n",
       "..         ...      ...   ...   ...     ...                 ...   \n",
       "331     TMF015   parada   MAT     3       1 2024-02-01 15:33:34   \n",
       "332     TMF015   parada   VES     3       1 2024-02-01 16:01:35   \n",
       "333     TMF015   parada   NOT     3       1 2024-02-02 00:01:36   \n",
       "334     TMF015   parada   VES     3       1 2024-02-02 18:58:58   \n",
       "335     TMF015   parada   NOT     3       1 2024-02-03 00:02:59   \n",
       "\n",
       "        data_hora_final  tempo_registro_min  contagem_total_ciclos  \\\n",
       "0   2024-02-01 01:57:38                 116                     12   \n",
       "1   2024-02-01 01:59:38                   2                   2276   \n",
       "2   2024-02-01 02:57:38                  58                   2304   \n",
       "3   2024-02-01 04:03:38                  66                   3462   \n",
       "4   2024-02-01 05:59:39                 116                   3476   \n",
       "..                  ...                 ...                    ...   \n",
       "331 2024-02-01 16:01:35                  28                   6482   \n",
       "332 2024-02-02 00:01:36                 480                     56   \n",
       "333 2024-02-02 18:58:58                1137                      0   \n",
       "334 2024-02-03 00:02:59                 304                      0   \n",
       "335 2024-02-03 08:01:00                 478                      0   \n",
       "\n",
       "     contagem_total_produzido  \n",
       "0                          12  \n",
       "1                        2266  \n",
       "2                        2292  \n",
       "3                        3436  \n",
       "4                        3448  \n",
       "..                        ...  \n",
       "331                      6438  \n",
       "332                        50  \n",
       "333                         0  \n",
       "334                         0  \n",
       "335                         0  \n",
       "\n",
       "[336 rows x 10 columns]"
      ]
     },
     "execution_count": 11,
     "metadata": {},
     "output_type": "execute_result"
    }
   ],
   "source": [
    "df_info_stops = clean_data.get_adjusted_stops_data(df_info_clean.copy())\n",
    "df_info_stops"
   ]
  },
  {
   "cell_type": "code",
   "execution_count": 12,
   "metadata": {},
   "outputs": [
    {
     "data": {
      "text/html": [
       "<div>\n",
       "<style scoped>\n",
       "    .dataframe tbody tr th:only-of-type {\n",
       "        vertical-align: middle;\n",
       "    }\n",
       "\n",
       "    .dataframe tbody tr th {\n",
       "        vertical-align: top;\n",
       "    }\n",
       "\n",
       "    .dataframe thead th {\n",
       "        text-align: right;\n",
       "    }\n",
       "</style>\n",
       "<table border=\"1\" class=\"dataframe\">\n",
       "  <thead>\n",
       "    <tr style=\"text-align: right;\">\n",
       "      <th></th>\n",
       "      <th>maquina_id</th>\n",
       "      <th>status</th>\n",
       "      <th>turno</th>\n",
       "      <th>linha</th>\n",
       "      <th>fabrica</th>\n",
       "      <th>data_hora_registro</th>\n",
       "      <th>data_hora_final</th>\n",
       "      <th>tempo_registro_min</th>\n",
       "      <th>contagem_total_ciclos</th>\n",
       "      <th>contagem_total_produzido</th>\n",
       "      <th>sabado</th>\n",
       "      <th>domingo</th>\n",
       "      <th>feriado</th>\n",
       "    </tr>\n",
       "  </thead>\n",
       "  <tbody>\n",
       "    <tr>\n",
       "      <th>0</th>\n",
       "      <td>TMF001</td>\n",
       "      <td>rodando</td>\n",
       "      <td>NOT</td>\n",
       "      <td>9</td>\n",
       "      <td>1</td>\n",
       "      <td>2024-02-01 00:01:38</td>\n",
       "      <td>2024-02-01 01:57:38</td>\n",
       "      <td>116</td>\n",
       "      <td>12</td>\n",
       "      <td>12</td>\n",
       "      <td>0</td>\n",
       "      <td>0</td>\n",
       "      <td>0</td>\n",
       "    </tr>\n",
       "    <tr>\n",
       "      <th>1</th>\n",
       "      <td>TMF001</td>\n",
       "      <td>parada</td>\n",
       "      <td>NOT</td>\n",
       "      <td>9</td>\n",
       "      <td>1</td>\n",
       "      <td>2024-02-01 01:57:38</td>\n",
       "      <td>2024-02-01 01:59:38</td>\n",
       "      <td>2</td>\n",
       "      <td>2276</td>\n",
       "      <td>2266</td>\n",
       "      <td>0</td>\n",
       "      <td>0</td>\n",
       "      <td>0</td>\n",
       "    </tr>\n",
       "    <tr>\n",
       "      <th>2</th>\n",
       "      <td>TMF001</td>\n",
       "      <td>rodando</td>\n",
       "      <td>NOT</td>\n",
       "      <td>9</td>\n",
       "      <td>1</td>\n",
       "      <td>2024-02-01 01:59:38</td>\n",
       "      <td>2024-02-01 02:57:38</td>\n",
       "      <td>58</td>\n",
       "      <td>2304</td>\n",
       "      <td>2292</td>\n",
       "      <td>0</td>\n",
       "      <td>0</td>\n",
       "      <td>0</td>\n",
       "    </tr>\n",
       "    <tr>\n",
       "      <th>3</th>\n",
       "      <td>TMF001</td>\n",
       "      <td>parada</td>\n",
       "      <td>NOT</td>\n",
       "      <td>9</td>\n",
       "      <td>1</td>\n",
       "      <td>2024-02-01 02:57:38</td>\n",
       "      <td>2024-02-01 04:03:38</td>\n",
       "      <td>66</td>\n",
       "      <td>3462</td>\n",
       "      <td>3436</td>\n",
       "      <td>0</td>\n",
       "      <td>0</td>\n",
       "      <td>0</td>\n",
       "    </tr>\n",
       "    <tr>\n",
       "      <th>4</th>\n",
       "      <td>TMF001</td>\n",
       "      <td>rodando</td>\n",
       "      <td>NOT</td>\n",
       "      <td>9</td>\n",
       "      <td>1</td>\n",
       "      <td>2024-02-01 04:03:38</td>\n",
       "      <td>2024-02-01 05:59:39</td>\n",
       "      <td>116</td>\n",
       "      <td>3476</td>\n",
       "      <td>3448</td>\n",
       "      <td>0</td>\n",
       "      <td>0</td>\n",
       "      <td>0</td>\n",
       "    </tr>\n",
       "    <tr>\n",
       "      <th>...</th>\n",
       "      <td>...</td>\n",
       "      <td>...</td>\n",
       "      <td>...</td>\n",
       "      <td>...</td>\n",
       "      <td>...</td>\n",
       "      <td>...</td>\n",
       "      <td>...</td>\n",
       "      <td>...</td>\n",
       "      <td>...</td>\n",
       "      <td>...</td>\n",
       "      <td>...</td>\n",
       "      <td>...</td>\n",
       "      <td>...</td>\n",
       "    </tr>\n",
       "    <tr>\n",
       "      <th>331</th>\n",
       "      <td>TMF015</td>\n",
       "      <td>parada</td>\n",
       "      <td>MAT</td>\n",
       "      <td>3</td>\n",
       "      <td>1</td>\n",
       "      <td>2024-02-01 15:33:34</td>\n",
       "      <td>2024-02-01 16:01:35</td>\n",
       "      <td>28</td>\n",
       "      <td>6482</td>\n",
       "      <td>6438</td>\n",
       "      <td>0</td>\n",
       "      <td>0</td>\n",
       "      <td>0</td>\n",
       "    </tr>\n",
       "    <tr>\n",
       "      <th>332</th>\n",
       "      <td>TMF015</td>\n",
       "      <td>parada</td>\n",
       "      <td>VES</td>\n",
       "      <td>3</td>\n",
       "      <td>1</td>\n",
       "      <td>2024-02-01 16:01:35</td>\n",
       "      <td>2024-02-02 00:01:36</td>\n",
       "      <td>480</td>\n",
       "      <td>56</td>\n",
       "      <td>50</td>\n",
       "      <td>0</td>\n",
       "      <td>0</td>\n",
       "      <td>0</td>\n",
       "    </tr>\n",
       "    <tr>\n",
       "      <th>333</th>\n",
       "      <td>TMF015</td>\n",
       "      <td>parada</td>\n",
       "      <td>NOT</td>\n",
       "      <td>3</td>\n",
       "      <td>1</td>\n",
       "      <td>2024-02-02 00:01:36</td>\n",
       "      <td>2024-02-02 18:58:58</td>\n",
       "      <td>1137</td>\n",
       "      <td>0</td>\n",
       "      <td>0</td>\n",
       "      <td>0</td>\n",
       "      <td>0</td>\n",
       "      <td>0</td>\n",
       "    </tr>\n",
       "    <tr>\n",
       "      <th>334</th>\n",
       "      <td>TMF015</td>\n",
       "      <td>parada</td>\n",
       "      <td>VES</td>\n",
       "      <td>3</td>\n",
       "      <td>1</td>\n",
       "      <td>2024-02-02 18:58:58</td>\n",
       "      <td>2024-02-03 00:02:59</td>\n",
       "      <td>304</td>\n",
       "      <td>0</td>\n",
       "      <td>0</td>\n",
       "      <td>0</td>\n",
       "      <td>0</td>\n",
       "      <td>0</td>\n",
       "    </tr>\n",
       "    <tr>\n",
       "      <th>335</th>\n",
       "      <td>TMF015</td>\n",
       "      <td>parada</td>\n",
       "      <td>NOT</td>\n",
       "      <td>3</td>\n",
       "      <td>1</td>\n",
       "      <td>2024-02-03 00:02:59</td>\n",
       "      <td>2024-02-03 08:01:00</td>\n",
       "      <td>478</td>\n",
       "      <td>0</td>\n",
       "      <td>0</td>\n",
       "      <td>1</td>\n",
       "      <td>0</td>\n",
       "      <td>0</td>\n",
       "    </tr>\n",
       "  </tbody>\n",
       "</table>\n",
       "<p>336 rows × 13 columns</p>\n",
       "</div>"
      ],
      "text/plain": [
       "    maquina_id   status turno linha fabrica  data_hora_registro  \\\n",
       "0       TMF001  rodando   NOT     9       1 2024-02-01 00:01:38   \n",
       "1       TMF001   parada   NOT     9       1 2024-02-01 01:57:38   \n",
       "2       TMF001  rodando   NOT     9       1 2024-02-01 01:59:38   \n",
       "3       TMF001   parada   NOT     9       1 2024-02-01 02:57:38   \n",
       "4       TMF001  rodando   NOT     9       1 2024-02-01 04:03:38   \n",
       "..         ...      ...   ...   ...     ...                 ...   \n",
       "331     TMF015   parada   MAT     3       1 2024-02-01 15:33:34   \n",
       "332     TMF015   parada   VES     3       1 2024-02-01 16:01:35   \n",
       "333     TMF015   parada   NOT     3       1 2024-02-02 00:01:36   \n",
       "334     TMF015   parada   VES     3       1 2024-02-02 18:58:58   \n",
       "335     TMF015   parada   NOT     3       1 2024-02-03 00:02:59   \n",
       "\n",
       "        data_hora_final  tempo_registro_min  contagem_total_ciclos  \\\n",
       "0   2024-02-01 01:57:38                 116                     12   \n",
       "1   2024-02-01 01:59:38                   2                   2276   \n",
       "2   2024-02-01 02:57:38                  58                   2304   \n",
       "3   2024-02-01 04:03:38                  66                   3462   \n",
       "4   2024-02-01 05:59:39                 116                   3476   \n",
       "..                  ...                 ...                    ...   \n",
       "331 2024-02-01 16:01:35                  28                   6482   \n",
       "332 2024-02-02 00:01:36                 480                     56   \n",
       "333 2024-02-02 18:58:58                1137                      0   \n",
       "334 2024-02-03 00:02:59                 304                      0   \n",
       "335 2024-02-03 08:01:00                 478                      0   \n",
       "\n",
       "     contagem_total_produzido  sabado  domingo  feriado  \n",
       "0                          12       0        0        0  \n",
       "1                        2266       0        0        0  \n",
       "2                        2292       0        0        0  \n",
       "3                        3436       0        0        0  \n",
       "4                        3448       0        0        0  \n",
       "..                        ...     ...      ...      ...  \n",
       "331                      6438       0        0        0  \n",
       "332                        50       0        0        0  \n",
       "333                         0       0        0        0  \n",
       "334                         0       0        0        0  \n",
       "335                         0       1        0        0  \n",
       "\n",
       "[336 rows x 13 columns]"
      ]
     },
     "execution_count": 12,
     "metadata": {},
     "output_type": "execute_result"
    }
   ],
   "source": [
    "df_info_cleaned = clean_data.get_maq_info_cleaned(df_info.copy())\n",
    "df_info_cleaned"
   ]
  },
  {
   "cell_type": "code",
   "execution_count": 13,
   "metadata": {},
   "outputs": [
    {
     "data": {
      "text/html": [
       "<div>\n",
       "<style scoped>\n",
       "    .dataframe tbody tr th:only-of-type {\n",
       "        vertical-align: middle;\n",
       "    }\n",
       "\n",
       "    .dataframe tbody tr th {\n",
       "        vertical-align: top;\n",
       "    }\n",
       "\n",
       "    .dataframe thead th {\n",
       "        text-align: right;\n",
       "    }\n",
       "</style>\n",
       "<table border=\"1\" class=\"dataframe\">\n",
       "  <thead>\n",
       "    <tr style=\"text-align: right;\">\n",
       "      <th></th>\n",
       "      <th>maquina_id</th>\n",
       "      <th>motivo_id</th>\n",
       "      <th>motivo_nome</th>\n",
       "      <th>problema</th>\n",
       "      <th>solucao</th>\n",
       "      <th>data_hora_registro</th>\n",
       "      <th>usuario_id</th>\n",
       "    </tr>\n",
       "  </thead>\n",
       "  <tbody>\n",
       "    <tr>\n",
       "      <th>0</th>\n",
       "      <td>TMF005</td>\n",
       "      <td>3</td>\n",
       "      <td>Refeição</td>\n",
       "      <td>Refeição</td>\n",
       "      <td>NaN</td>\n",
       "      <td>2024-02-01 02:58:31</td>\n",
       "      <td>000441</td>\n",
       "    </tr>\n",
       "    <tr>\n",
       "      <th>1</th>\n",
       "      <td>TMF002</td>\n",
       "      <td>3</td>\n",
       "      <td>Refeição</td>\n",
       "      <td>Refeição</td>\n",
       "      <td>NaN</td>\n",
       "      <td>2024-02-01 02:58:41</td>\n",
       "      <td>000441</td>\n",
       "    </tr>\n",
       "    <tr>\n",
       "      <th>2</th>\n",
       "      <td>TMF015</td>\n",
       "      <td>3</td>\n",
       "      <td>Refeição</td>\n",
       "      <td>Refeição</td>\n",
       "      <td>NaN</td>\n",
       "      <td>2024-02-01 02:58:51</td>\n",
       "      <td>000441</td>\n",
       "    </tr>\n",
       "    <tr>\n",
       "      <th>3</th>\n",
       "      <td>TMF011</td>\n",
       "      <td>3</td>\n",
       "      <td>Refeição</td>\n",
       "      <td>Refeição</td>\n",
       "      <td>NaN</td>\n",
       "      <td>2024-02-01 02:59:00</td>\n",
       "      <td>000441</td>\n",
       "    </tr>\n",
       "    <tr>\n",
       "      <th>4</th>\n",
       "      <td>TMF014</td>\n",
       "      <td>3</td>\n",
       "      <td>Refeição</td>\n",
       "      <td>Refeição</td>\n",
       "      <td>NaN</td>\n",
       "      <td>2024-02-01 02:59:11</td>\n",
       "      <td>000441</td>\n",
       "    </tr>\n",
       "    <tr>\n",
       "      <th>5</th>\n",
       "      <td>TMF009</td>\n",
       "      <td>3</td>\n",
       "      <td>Refeição</td>\n",
       "      <td>Refeição</td>\n",
       "      <td>NaN</td>\n",
       "      <td>2024-02-01 02:59:22</td>\n",
       "      <td>000441</td>\n",
       "    </tr>\n",
       "    <tr>\n",
       "      <th>6</th>\n",
       "      <td>TMF003</td>\n",
       "      <td>3</td>\n",
       "      <td>Refeição</td>\n",
       "      <td>Refeição</td>\n",
       "      <td>NaN</td>\n",
       "      <td>2024-02-01 02:59:31</td>\n",
       "      <td>000441</td>\n",
       "    </tr>\n",
       "    <tr>\n",
       "      <th>7</th>\n",
       "      <td>TMF001</td>\n",
       "      <td>3</td>\n",
       "      <td>Refeição</td>\n",
       "      <td>Refeição</td>\n",
       "      <td>NaN</td>\n",
       "      <td>2024-02-01 02:59:42</td>\n",
       "      <td>000441</td>\n",
       "    </tr>\n",
       "    <tr>\n",
       "      <th>8</th>\n",
       "      <td>TMF013</td>\n",
       "      <td>3</td>\n",
       "      <td>Refeição</td>\n",
       "      <td>Refeição</td>\n",
       "      <td>NaN</td>\n",
       "      <td>2024-02-01 04:26:25</td>\n",
       "      <td>000453</td>\n",
       "    </tr>\n",
       "    <tr>\n",
       "      <th>9</th>\n",
       "      <td>TMF007</td>\n",
       "      <td>3</td>\n",
       "      <td>Refeição</td>\n",
       "      <td>Refeição</td>\n",
       "      <td>NaN</td>\n",
       "      <td>2024-02-01 04:26:33</td>\n",
       "      <td>000453</td>\n",
       "    </tr>\n",
       "    <tr>\n",
       "      <th>10</th>\n",
       "      <td>TMF010</td>\n",
       "      <td>3</td>\n",
       "      <td>Refeição</td>\n",
       "      <td>Refeição</td>\n",
       "      <td>NaN</td>\n",
       "      <td>2024-02-01 04:26:41</td>\n",
       "      <td>000453</td>\n",
       "    </tr>\n",
       "    <tr>\n",
       "      <th>11</th>\n",
       "      <td>TMF002</td>\n",
       "      <td>8</td>\n",
       "      <td>Manutenção Mecânica</td>\n",
       "      <td>Corrente da bobina não está rodando conforme</td>\n",
       "      <td>NaN</td>\n",
       "      <td>2024-02-01 04:42:18</td>\n",
       "      <td>000441</td>\n",
       "    </tr>\n",
       "    <tr>\n",
       "      <th>12</th>\n",
       "      <td>TMF005</td>\n",
       "      <td>5</td>\n",
       "      <td>Café e Ginástica Laboral</td>\n",
       "      <td>Café e Ginástica Laboral</td>\n",
       "      <td>NaN</td>\n",
       "      <td>2024-02-01 05:57:06</td>\n",
       "      <td>000441</td>\n",
       "    </tr>\n",
       "    <tr>\n",
       "      <th>13</th>\n",
       "      <td>TMF001</td>\n",
       "      <td>5</td>\n",
       "      <td>Café e Ginástica Laboral</td>\n",
       "      <td>Café e Ginástica Laboral</td>\n",
       "      <td>NaN</td>\n",
       "      <td>2024-02-01 05:58:41</td>\n",
       "      <td>000441</td>\n",
       "    </tr>\n",
       "    <tr>\n",
       "      <th>14</th>\n",
       "      <td>TMF002</td>\n",
       "      <td>5</td>\n",
       "      <td>Café e Ginástica Laboral</td>\n",
       "      <td>Café e Ginástica Laboral</td>\n",
       "      <td>NaN</td>\n",
       "      <td>2024-02-01 06:06:47</td>\n",
       "      <td>000441</td>\n",
       "    </tr>\n",
       "    <tr>\n",
       "      <th>15</th>\n",
       "      <td>TMF003</td>\n",
       "      <td>5</td>\n",
       "      <td>Café e Ginástica Laboral</td>\n",
       "      <td>Café e Ginástica Laboral</td>\n",
       "      <td>NaN</td>\n",
       "      <td>2024-02-01 06:08:50</td>\n",
       "      <td>000441</td>\n",
       "    </tr>\n",
       "    <tr>\n",
       "      <th>16</th>\n",
       "      <td>TMF015</td>\n",
       "      <td>5</td>\n",
       "      <td>Café e Ginástica Laboral</td>\n",
       "      <td>Café e Ginástica Laboral</td>\n",
       "      <td>NaN</td>\n",
       "      <td>2024-02-01 06:14:41</td>\n",
       "      <td>000441</td>\n",
       "    </tr>\n",
       "    <tr>\n",
       "      <th>17</th>\n",
       "      <td>TMF009</td>\n",
       "      <td>5</td>\n",
       "      <td>Café e Ginástica Laboral</td>\n",
       "      <td>Café e Ginástica Laboral</td>\n",
       "      <td>NaN</td>\n",
       "      <td>2024-02-01 06:16:12</td>\n",
       "      <td>000441</td>\n",
       "    </tr>\n",
       "    <tr>\n",
       "      <th>18</th>\n",
       "      <td>TMF011</td>\n",
       "      <td>5</td>\n",
       "      <td>Café e Ginástica Laboral</td>\n",
       "      <td>Café e Ginástica Laboral</td>\n",
       "      <td>NaN</td>\n",
       "      <td>2024-02-01 06:24:41</td>\n",
       "      <td>000441</td>\n",
       "    </tr>\n",
       "    <tr>\n",
       "      <th>19</th>\n",
       "      <td>TMF014</td>\n",
       "      <td>5</td>\n",
       "      <td>Café e Ginástica Laboral</td>\n",
       "      <td>Café e Ginástica Laboral</td>\n",
       "      <td>NaN</td>\n",
       "      <td>2024-02-01 06:30:52</td>\n",
       "      <td>000441</td>\n",
       "    </tr>\n",
       "    <tr>\n",
       "      <th>20</th>\n",
       "      <td>TMF010</td>\n",
       "      <td>1</td>\n",
       "      <td>Ajustes</td>\n",
       "      <td>nan</td>\n",
       "      <td>NaN</td>\n",
       "      <td>2024-02-01 08:21:34</td>\n",
       "      <td>000807</td>\n",
       "    </tr>\n",
       "    <tr>\n",
       "      <th>21</th>\n",
       "      <td>TMF012</td>\n",
       "      <td>1</td>\n",
       "      <td>Ajustes</td>\n",
       "      <td>nan</td>\n",
       "      <td>NaN</td>\n",
       "      <td>2024-02-01 08:21:40</td>\n",
       "      <td>000807</td>\n",
       "    </tr>\n",
       "    <tr>\n",
       "      <th>22</th>\n",
       "      <td>TMF007</td>\n",
       "      <td>1</td>\n",
       "      <td>Ajustes</td>\n",
       "      <td>nan</td>\n",
       "      <td>NaN</td>\n",
       "      <td>2024-02-01 08:21:46</td>\n",
       "      <td>000807</td>\n",
       "    </tr>\n",
       "    <tr>\n",
       "      <th>23</th>\n",
       "      <td>TMF013</td>\n",
       "      <td>1</td>\n",
       "      <td>Ajustes</td>\n",
       "      <td>nan</td>\n",
       "      <td>NaN</td>\n",
       "      <td>2024-02-01 08:21:52</td>\n",
       "      <td>000807</td>\n",
       "    </tr>\n",
       "    <tr>\n",
       "      <th>24</th>\n",
       "      <td>TMF010</td>\n",
       "      <td>14</td>\n",
       "      <td>Linha Cheia</td>\n",
       "      <td>Robo não está pegando as bandejas</td>\n",
       "      <td>NaN</td>\n",
       "      <td>2024-02-01 08:48:31</td>\n",
       "      <td>000807</td>\n",
       "    </tr>\n",
       "    <tr>\n",
       "      <th>25</th>\n",
       "      <td>TMF007</td>\n",
       "      <td>14</td>\n",
       "      <td>Linha Cheia</td>\n",
       "      <td>Robo não está pegando as bandejas</td>\n",
       "      <td>NaN</td>\n",
       "      <td>2024-02-01 08:49:03</td>\n",
       "      <td>000807</td>\n",
       "    </tr>\n",
       "    <tr>\n",
       "      <th>26</th>\n",
       "      <td>TMF012</td>\n",
       "      <td>14</td>\n",
       "      <td>Linha Cheia</td>\n",
       "      <td>Robo não está pegando as bandejas</td>\n",
       "      <td>NaN</td>\n",
       "      <td>2024-02-01 08:49:23</td>\n",
       "      <td>000807</td>\n",
       "    </tr>\n",
       "    <tr>\n",
       "      <th>27</th>\n",
       "      <td>TMF012</td>\n",
       "      <td>5</td>\n",
       "      <td>Café e Ginástica Laboral</td>\n",
       "      <td>Rodou as demais linhas</td>\n",
       "      <td>NaN</td>\n",
       "      <td>2024-02-01 09:25:06</td>\n",
       "      <td>000807</td>\n",
       "    </tr>\n",
       "    <tr>\n",
       "      <th>28</th>\n",
       "      <td>TMF013</td>\n",
       "      <td>3</td>\n",
       "      <td>Refeição</td>\n",
       "      <td>Refeição</td>\n",
       "      <td>NaN</td>\n",
       "      <td>2024-02-01 10:53:54</td>\n",
       "      <td>000807</td>\n",
       "    </tr>\n",
       "    <tr>\n",
       "      <th>29</th>\n",
       "      <td>TMF012</td>\n",
       "      <td>3</td>\n",
       "      <td>Refeição</td>\n",
       "      <td>Refeição</td>\n",
       "      <td>NaN</td>\n",
       "      <td>2024-02-01 10:54:08</td>\n",
       "      <td>000807</td>\n",
       "    </tr>\n",
       "    <tr>\n",
       "      <th>30</th>\n",
       "      <td>TMF005</td>\n",
       "      <td>3</td>\n",
       "      <td>Refeição</td>\n",
       "      <td>Refeição</td>\n",
       "      <td>NaN</td>\n",
       "      <td>2024-02-01 11:05:14</td>\n",
       "      <td>000838</td>\n",
       "    </tr>\n",
       "    <tr>\n",
       "      <th>31</th>\n",
       "      <td>TMF002</td>\n",
       "      <td>3</td>\n",
       "      <td>Refeição</td>\n",
       "      <td>Refeição</td>\n",
       "      <td>NaN</td>\n",
       "      <td>2024-02-01 11:05:23</td>\n",
       "      <td>000838</td>\n",
       "    </tr>\n",
       "    <tr>\n",
       "      <th>32</th>\n",
       "      <td>TMF015</td>\n",
       "      <td>3</td>\n",
       "      <td>Refeição</td>\n",
       "      <td>Refeição</td>\n",
       "      <td>NaN</td>\n",
       "      <td>2024-02-01 11:05:32</td>\n",
       "      <td>000838</td>\n",
       "    </tr>\n",
       "    <tr>\n",
       "      <th>33</th>\n",
       "      <td>TMF011</td>\n",
       "      <td>3</td>\n",
       "      <td>Refeição</td>\n",
       "      <td>Refeição</td>\n",
       "      <td>NaN</td>\n",
       "      <td>2024-02-01 11:05:43</td>\n",
       "      <td>000838</td>\n",
       "    </tr>\n",
       "    <tr>\n",
       "      <th>34</th>\n",
       "      <td>TMF010</td>\n",
       "      <td>12</td>\n",
       "      <td>Parada Programada</td>\n",
       "      <td>Parada Programada</td>\n",
       "      <td>NaN</td>\n",
       "      <td>2024-02-01 13:52:08</td>\n",
       "      <td>000807</td>\n",
       "    </tr>\n",
       "    <tr>\n",
       "      <th>35</th>\n",
       "      <td>TMF005</td>\n",
       "      <td>6</td>\n",
       "      <td>Limpeza</td>\n",
       "      <td>Limpeza</td>\n",
       "      <td>NaN</td>\n",
       "      <td>2024-02-01 16:02:50</td>\n",
       "      <td>000939</td>\n",
       "    </tr>\n",
       "    <tr>\n",
       "      <th>36</th>\n",
       "      <td>TMF002</td>\n",
       "      <td>6</td>\n",
       "      <td>Limpeza</td>\n",
       "      <td>Limpeza</td>\n",
       "      <td>NaN</td>\n",
       "      <td>2024-02-01 16:03:02</td>\n",
       "      <td>000939</td>\n",
       "    </tr>\n",
       "    <tr>\n",
       "      <th>37</th>\n",
       "      <td>TMF015</td>\n",
       "      <td>6</td>\n",
       "      <td>Limpeza</td>\n",
       "      <td>Limpeza</td>\n",
       "      <td>NaN</td>\n",
       "      <td>2024-02-01 16:03:11</td>\n",
       "      <td>000939</td>\n",
       "    </tr>\n",
       "    <tr>\n",
       "      <th>38</th>\n",
       "      <td>TMF011</td>\n",
       "      <td>6</td>\n",
       "      <td>Limpeza</td>\n",
       "      <td>Limpeza</td>\n",
       "      <td>NaN</td>\n",
       "      <td>2024-02-01 16:03:20</td>\n",
       "      <td>000939</td>\n",
       "    </tr>\n",
       "    <tr>\n",
       "      <th>39</th>\n",
       "      <td>TMF014</td>\n",
       "      <td>6</td>\n",
       "      <td>Limpeza</td>\n",
       "      <td>Limpeza</td>\n",
       "      <td>NaN</td>\n",
       "      <td>2024-02-01 16:03:33</td>\n",
       "      <td>000939</td>\n",
       "    </tr>\n",
       "    <tr>\n",
       "      <th>40</th>\n",
       "      <td>TMF004</td>\n",
       "      <td>6</td>\n",
       "      <td>Limpeza</td>\n",
       "      <td>Limpeza</td>\n",
       "      <td>NaN</td>\n",
       "      <td>2024-02-01 16:03:43</td>\n",
       "      <td>000939</td>\n",
       "    </tr>\n",
       "    <tr>\n",
       "      <th>41</th>\n",
       "      <td>TMF004</td>\n",
       "      <td>6</td>\n",
       "      <td>Limpeza</td>\n",
       "      <td>Limpeza</td>\n",
       "      <td>NaN</td>\n",
       "      <td>2024-02-01 16:03:53</td>\n",
       "      <td>000939</td>\n",
       "    </tr>\n",
       "    <tr>\n",
       "      <th>42</th>\n",
       "      <td>TMF009</td>\n",
       "      <td>6</td>\n",
       "      <td>Limpeza</td>\n",
       "      <td>Limpeza</td>\n",
       "      <td>NaN</td>\n",
       "      <td>2024-02-01 16:04:03</td>\n",
       "      <td>000939</td>\n",
       "    </tr>\n",
       "    <tr>\n",
       "      <th>43</th>\n",
       "      <td>TMF003</td>\n",
       "      <td>6</td>\n",
       "      <td>Limpeza</td>\n",
       "      <td>Limpeza</td>\n",
       "      <td>NaN</td>\n",
       "      <td>2024-02-01 16:04:13</td>\n",
       "      <td>000939</td>\n",
       "    </tr>\n",
       "    <tr>\n",
       "      <th>44</th>\n",
       "      <td>TMF001</td>\n",
       "      <td>6</td>\n",
       "      <td>Limpeza</td>\n",
       "      <td>Limpeza</td>\n",
       "      <td>NaN</td>\n",
       "      <td>2024-02-01 16:04:26</td>\n",
       "      <td>000939</td>\n",
       "    </tr>\n",
       "  </tbody>\n",
       "</table>\n",
       "</div>"
      ],
      "text/plain": [
       "   maquina_id  motivo_id               motivo_nome  \\\n",
       "0      TMF005          3                  Refeição   \n",
       "1      TMF002          3                  Refeição   \n",
       "2      TMF015          3                  Refeição   \n",
       "3      TMF011          3                  Refeição   \n",
       "4      TMF014          3                  Refeição   \n",
       "5      TMF009          3                  Refeição   \n",
       "6      TMF003          3                  Refeição   \n",
       "7      TMF001          3                  Refeição   \n",
       "8      TMF013          3                  Refeição   \n",
       "9      TMF007          3                  Refeição   \n",
       "10     TMF010          3                  Refeição   \n",
       "11     TMF002          8       Manutenção Mecânica   \n",
       "12     TMF005          5  Café e Ginástica Laboral   \n",
       "13     TMF001          5  Café e Ginástica Laboral   \n",
       "14     TMF002          5  Café e Ginástica Laboral   \n",
       "15     TMF003          5  Café e Ginástica Laboral   \n",
       "16     TMF015          5  Café e Ginástica Laboral   \n",
       "17     TMF009          5  Café e Ginástica Laboral   \n",
       "18     TMF011          5  Café e Ginástica Laboral   \n",
       "19     TMF014          5  Café e Ginástica Laboral   \n",
       "20     TMF010          1                   Ajustes   \n",
       "21     TMF012          1                   Ajustes   \n",
       "22     TMF007          1                   Ajustes   \n",
       "23     TMF013          1                   Ajustes   \n",
       "24     TMF010         14               Linha Cheia   \n",
       "25     TMF007         14               Linha Cheia   \n",
       "26     TMF012         14               Linha Cheia   \n",
       "27     TMF012          5  Café e Ginástica Laboral   \n",
       "28     TMF013          3                  Refeição   \n",
       "29     TMF012          3                  Refeição   \n",
       "30     TMF005          3                  Refeição   \n",
       "31     TMF002          3                  Refeição   \n",
       "32     TMF015          3                  Refeição   \n",
       "33     TMF011          3                  Refeição   \n",
       "34     TMF010         12         Parada Programada   \n",
       "35     TMF005          6                   Limpeza   \n",
       "36     TMF002          6                   Limpeza   \n",
       "37     TMF015          6                   Limpeza   \n",
       "38     TMF011          6                   Limpeza   \n",
       "39     TMF014          6                   Limpeza   \n",
       "40     TMF004          6                   Limpeza   \n",
       "41     TMF004          6                   Limpeza   \n",
       "42     TMF009          6                   Limpeza   \n",
       "43     TMF003          6                   Limpeza   \n",
       "44     TMF001          6                   Limpeza   \n",
       "\n",
       "                                        problema solucao  data_hora_registro  \\\n",
       "0                                       Refeição     NaN 2024-02-01 02:58:31   \n",
       "1                                       Refeição     NaN 2024-02-01 02:58:41   \n",
       "2                                       Refeição     NaN 2024-02-01 02:58:51   \n",
       "3                                       Refeição     NaN 2024-02-01 02:59:00   \n",
       "4                                       Refeição     NaN 2024-02-01 02:59:11   \n",
       "5                                       Refeição     NaN 2024-02-01 02:59:22   \n",
       "6                                       Refeição     NaN 2024-02-01 02:59:31   \n",
       "7                                       Refeição     NaN 2024-02-01 02:59:42   \n",
       "8                                       Refeição     NaN 2024-02-01 04:26:25   \n",
       "9                                       Refeição     NaN 2024-02-01 04:26:33   \n",
       "10                                      Refeição     NaN 2024-02-01 04:26:41   \n",
       "11  Corrente da bobina não está rodando conforme     NaN 2024-02-01 04:42:18   \n",
       "12                      Café e Ginástica Laboral     NaN 2024-02-01 05:57:06   \n",
       "13                      Café e Ginástica Laboral     NaN 2024-02-01 05:58:41   \n",
       "14                      Café e Ginástica Laboral     NaN 2024-02-01 06:06:47   \n",
       "15                      Café e Ginástica Laboral     NaN 2024-02-01 06:08:50   \n",
       "16                      Café e Ginástica Laboral     NaN 2024-02-01 06:14:41   \n",
       "17                      Café e Ginástica Laboral     NaN 2024-02-01 06:16:12   \n",
       "18                      Café e Ginástica Laboral     NaN 2024-02-01 06:24:41   \n",
       "19                      Café e Ginástica Laboral     NaN 2024-02-01 06:30:52   \n",
       "20                                           nan     NaN 2024-02-01 08:21:34   \n",
       "21                                           nan     NaN 2024-02-01 08:21:40   \n",
       "22                                           nan     NaN 2024-02-01 08:21:46   \n",
       "23                                           nan     NaN 2024-02-01 08:21:52   \n",
       "24             Robo não está pegando as bandejas     NaN 2024-02-01 08:48:31   \n",
       "25             Robo não está pegando as bandejas     NaN 2024-02-01 08:49:03   \n",
       "26             Robo não está pegando as bandejas     NaN 2024-02-01 08:49:23   \n",
       "27                        Rodou as demais linhas     NaN 2024-02-01 09:25:06   \n",
       "28                                      Refeição     NaN 2024-02-01 10:53:54   \n",
       "29                                      Refeição     NaN 2024-02-01 10:54:08   \n",
       "30                                      Refeição     NaN 2024-02-01 11:05:14   \n",
       "31                                      Refeição     NaN 2024-02-01 11:05:23   \n",
       "32                                      Refeição     NaN 2024-02-01 11:05:32   \n",
       "33                                      Refeição     NaN 2024-02-01 11:05:43   \n",
       "34                             Parada Programada     NaN 2024-02-01 13:52:08   \n",
       "35                                       Limpeza     NaN 2024-02-01 16:02:50   \n",
       "36                                       Limpeza     NaN 2024-02-01 16:03:02   \n",
       "37                                       Limpeza     NaN 2024-02-01 16:03:11   \n",
       "38                                       Limpeza     NaN 2024-02-01 16:03:20   \n",
       "39                                       Limpeza     NaN 2024-02-01 16:03:33   \n",
       "40                                       Limpeza     NaN 2024-02-01 16:03:43   \n",
       "41                                       Limpeza     NaN 2024-02-01 16:03:53   \n",
       "42                                       Limpeza     NaN 2024-02-01 16:04:03   \n",
       "43                                       Limpeza     NaN 2024-02-01 16:04:13   \n",
       "44                                       Limpeza     NaN 2024-02-01 16:04:26   \n",
       "\n",
       "   usuario_id  \n",
       "0      000441  \n",
       "1      000441  \n",
       "2      000441  \n",
       "3      000441  \n",
       "4      000441  \n",
       "5      000441  \n",
       "6      000441  \n",
       "7      000441  \n",
       "8      000453  \n",
       "9      000453  \n",
       "10     000453  \n",
       "11     000441  \n",
       "12     000441  \n",
       "13     000441  \n",
       "14     000441  \n",
       "15     000441  \n",
       "16     000441  \n",
       "17     000441  \n",
       "18     000441  \n",
       "19     000441  \n",
       "20     000807  \n",
       "21     000807  \n",
       "22     000807  \n",
       "23     000807  \n",
       "24     000807  \n",
       "25     000807  \n",
       "26     000807  \n",
       "27     000807  \n",
       "28     000807  \n",
       "29     000807  \n",
       "30     000838  \n",
       "31     000838  \n",
       "32     000838  \n",
       "33     000838  \n",
       "34     000807  \n",
       "35     000939  \n",
       "36     000939  \n",
       "37     000939  \n",
       "38     000939  \n",
       "39     000939  \n",
       "40     000939  \n",
       "41     000939  \n",
       "42     000939  \n",
       "43     000939  \n",
       "44     000939  "
      ]
     },
     "execution_count": 13,
     "metadata": {},
     "output_type": "execute_result"
    }
   ],
   "source": [
    "df_maq_occ_cleaned = clean_data.get_maq_occ_cleaned(df_occ.copy())\n",
    "df_maq_occ_cleaned"
   ]
  },
  {
   "cell_type": "code",
   "execution_count": 14,
   "metadata": {},
   "outputs": [
    {
     "data": {
      "text/html": [
       "<div>\n",
       "<style scoped>\n",
       "    .dataframe tbody tr th:only-of-type {\n",
       "        vertical-align: middle;\n",
       "    }\n",
       "\n",
       "    .dataframe tbody tr th {\n",
       "        vertical-align: top;\n",
       "    }\n",
       "\n",
       "    .dataframe thead th {\n",
       "        text-align: right;\n",
       "    }\n",
       "</style>\n",
       "<table border=\"1\" class=\"dataframe\">\n",
       "  <thead>\n",
       "    <tr style=\"text-align: right;\">\n",
       "      <th></th>\n",
       "      <th>maquina_id</th>\n",
       "      <th>linha</th>\n",
       "      <th>turno</th>\n",
       "      <th>total_ciclos</th>\n",
       "      <th>total_produzido</th>\n",
       "      <th>data_registro</th>\n",
       "    </tr>\n",
       "  </thead>\n",
       "  <tbody>\n",
       "    <tr>\n",
       "      <th>0</th>\n",
       "      <td>TMF001</td>\n",
       "      <td>9</td>\n",
       "      <td>NOT</td>\n",
       "      <td>7898</td>\n",
       "      <td>7810</td>\n",
       "      <td>2024-02-01</td>\n",
       "    </tr>\n",
       "    <tr>\n",
       "      <th>1</th>\n",
       "      <td>TMF001</td>\n",
       "      <td>9</td>\n",
       "      <td>MAT</td>\n",
       "      <td>7928</td>\n",
       "      <td>7828</td>\n",
       "      <td>2024-02-01</td>\n",
       "    </tr>\n",
       "    <tr>\n",
       "      <th>2</th>\n",
       "      <td>TMF001</td>\n",
       "      <td>9</td>\n",
       "      <td>VES</td>\n",
       "      <td>90</td>\n",
       "      <td>14</td>\n",
       "      <td>2024-02-01</td>\n",
       "    </tr>\n",
       "    <tr>\n",
       "      <th>3</th>\n",
       "      <td>TMF001</td>\n",
       "      <td>9</td>\n",
       "      <td>NOT</td>\n",
       "      <td>0</td>\n",
       "      <td>0</td>\n",
       "      <td>2024-02-02</td>\n",
       "    </tr>\n",
       "    <tr>\n",
       "      <th>4</th>\n",
       "      <td>TMF001</td>\n",
       "      <td>9</td>\n",
       "      <td>VES</td>\n",
       "      <td>0</td>\n",
       "      <td>0</td>\n",
       "      <td>2024-02-02</td>\n",
       "    </tr>\n",
       "    <tr>\n",
       "      <th>...</th>\n",
       "      <td>...</td>\n",
       "      <td>...</td>\n",
       "      <td>...</td>\n",
       "      <td>...</td>\n",
       "      <td>...</td>\n",
       "      <td>...</td>\n",
       "    </tr>\n",
       "    <tr>\n",
       "      <th>101</th>\n",
       "      <td>TMF015</td>\n",
       "      <td>3</td>\n",
       "      <td>NOT</td>\n",
       "      <td>0</td>\n",
       "      <td>0</td>\n",
       "      <td>2024-02-02</td>\n",
       "    </tr>\n",
       "    <tr>\n",
       "      <th>102</th>\n",
       "      <td>TMF015</td>\n",
       "      <td>3</td>\n",
       "      <td>VES</td>\n",
       "      <td>0</td>\n",
       "      <td>0</td>\n",
       "      <td>2024-02-02</td>\n",
       "    </tr>\n",
       "    <tr>\n",
       "      <th>103</th>\n",
       "      <td>TMF015</td>\n",
       "      <td>3</td>\n",
       "      <td>NOT</td>\n",
       "      <td>0</td>\n",
       "      <td>0</td>\n",
       "      <td>2024-02-03</td>\n",
       "    </tr>\n",
       "    <tr>\n",
       "      <th>104</th>\n",
       "      <td>TMF015</td>\n",
       "      <td>3</td>\n",
       "      <td>MAT</td>\n",
       "      <td>0</td>\n",
       "      <td>0</td>\n",
       "      <td>2024-02-03</td>\n",
       "    </tr>\n",
       "    <tr>\n",
       "      <th>105</th>\n",
       "      <td>TMF015</td>\n",
       "      <td>3</td>\n",
       "      <td>VES</td>\n",
       "      <td>0</td>\n",
       "      <td>0</td>\n",
       "      <td>2024-02-03</td>\n",
       "    </tr>\n",
       "  </tbody>\n",
       "</table>\n",
       "<p>106 rows × 6 columns</p>\n",
       "</div>"
      ],
      "text/plain": [
       "    maquina_id linha turno  total_ciclos  total_produzido data_registro\n",
       "0       TMF001     9   NOT          7898             7810    2024-02-01\n",
       "1       TMF001     9   MAT          7928             7828    2024-02-01\n",
       "2       TMF001     9   VES            90               14    2024-02-01\n",
       "3       TMF001     9   NOT             0                0    2024-02-02\n",
       "4       TMF001     9   VES             0                0    2024-02-02\n",
       "..         ...   ...   ...           ...              ...           ...\n",
       "101     TMF015     3   NOT             0                0    2024-02-02\n",
       "102     TMF015     3   VES             0                0    2024-02-02\n",
       "103     TMF015     3   NOT             0                0    2024-02-03\n",
       "104     TMF015     3   MAT             0                0    2024-02-03\n",
       "105     TMF015     3   VES             0                0    2024-02-03\n",
       "\n",
       "[106 rows x 6 columns]"
      ]
     },
     "execution_count": 14,
     "metadata": {},
     "output_type": "execute_result"
    }
   ],
   "source": [
    "df_maq_info_production_cleaned = clean_data.get_maq_production_cleaned(df_info_production.copy())\n",
    "df_maq_info_production_cleaned"
   ]
  },
  {
   "cell_type": "markdown",
   "metadata": {},
   "source": [
    "# Unir info e ocorrências\n"
   ]
  },
  {
   "cell_type": "code",
   "execution_count": 15,
   "metadata": {},
   "outputs": [],
   "source": [
    "# service/join_data.py\n",
    "# cSpell: disable=invalid-name\n",
    "\n",
    "\n",
    "class JoinData:\n",
    "    \"\"\"\n",
    "    Essa classe é responsável por juntar os dados de ocorrências, paradas e produção.\n",
    "    \"\"\"\n",
    "\n",
    "    def join_info_occ(self, df_occ: pd.DataFrame, df_info: pd.DataFrame) -> pd.DataFrame:\n",
    "        \"\"\"\n",
    "        Junta os dados de ocorrências e paradas.\n",
    "\n",
    "        Args:\n",
    "            df_occ (pd.DataFrame): DataFrame com os dados de ocorrências.\n",
    "            df_info (pd.DataFrame): DataFrame com os dados de paradas.\n",
    "\n",
    "        Returns:\n",
    "            pd.DataFrame: DataFrame com os dados de ocorrências e paradas juntos.\n",
    "        \"\"\"\n",
    "\n",
    "        # Garantir que as culunas com datas sejam datetime\n",
    "        df_occ[\"data_hora_registro\"] = pd.to_datetime(df_occ[\"data_hora_registro\"])\n",
    "        df_info[\"data_hora_registro\"] = pd.to_datetime(df_info[\"data_hora_registro\"])\n",
    "        df_info[\"data_hora_final\"] = pd.to_datetime(df_info[\"data_hora_final\"])\n",
    "\n",
    "        # Juntar os dados de ocorrências e paradas\n",
    "        def merge_rows(row):\n",
    "            \"\"\"\n",
    "            Função para juntar os dados de ocorrências e paradas.\n",
    "            \"\"\"\n",
    "            mask = (\n",
    "                (df_occ[\"maquina_id\"] == row[\"maquina_id\"])\n",
    "                & (df_occ[\"data_hora_registro\"] >= row[\"data_hora_registro\"])\n",
    "                & (df_occ[\"data_hora_registro\"] <= row[\"data_hora_final\"])\n",
    "            )  # mask para identificar as paradas que ocorreram durante a ocorrência\n",
    "\n",
    "            # Criar dataframe com as paradas que ocorreram durante a ocorrência\n",
    "            if df_occ[mask].shape[0] > 0:\n",
    "                return pd.Series(\n",
    "                    [\n",
    "                        df_occ[mask][\"motivo_id\"].values[0],\n",
    "                        df_occ[mask][\"motivo_nome\"].values[0],\n",
    "                        df_occ[mask][\"problema\"].values[0],\n",
    "                        df_occ[mask][\"solucao\"].values[0],\n",
    "                        df_occ[mask][\"data_hora_registro\"].values[0],\n",
    "                        df_occ[mask][\"usuario_id\"].values[0],\n",
    "                    ],\n",
    "                )\n",
    "            else:\n",
    "                return pd.Series([np.nan, np.nan, np.nan, np.nan, np.nan, np.nan])\n",
    "\n",
    "        # Aplicar a função merge_rows\n",
    "        df_info[\n",
    "            [\n",
    "                \"motivo_id\",\n",
    "                \"motivo_nome\",\n",
    "                \"problema\",\n",
    "                \"solucao\",\n",
    "                \"data_hora_registro_occ\",\n",
    "                \"usuario_id_occ\",\n",
    "            ]\n",
    "        ] = df_info.apply(merge_rows, axis=1)\n",
    "\n",
    "        # Reordenar colunas\n",
    "        df_info = df_info.reindex(\n",
    "            columns=[\n",
    "                \"maquina_id\",\n",
    "                \"linha\",\n",
    "                \"fabrica\",\n",
    "                \"turno\",\n",
    "                \"data_hora_registro\",\n",
    "                \"tempo_registro_min\",\n",
    "                \"data_hora_final\",\n",
    "                \"status\",\n",
    "                \"motivo_id\",\n",
    "                \"data_hora_registro_occ\",\n",
    "                \"motivo_nome\",\n",
    "                \"problema\",\n",
    "                \"solucao\",\n",
    "                \"usuario_id_occ\",\n",
    "                \"contagem_total_ciclos\",\n",
    "                \"contagem_total_produzido\",\n",
    "                \"sabado\",\n",
    "                \"domingo\",\n",
    "                \"feriado\",\n",
    "            ]\n",
    "        )\n",
    "\n",
    "        # Ordenar por linha, data_hora_registro\n",
    "        df_info.sort_values(by=[\"linha\", \"data_hora_registro\"], inplace=True)\n",
    "\n",
    "        # Ajustar problema e solução caso seja \"nan\"\n",
    "        df_info[\"problema\"] = np.where(df_info[\"problema\"] == \"nan\", np.nan, df_info[\"problema\"])\n",
    "        df_info[\"solucao\"] = np.where(df_info[\"solucao\"] == \"nan\", np.nan, df_info[\"solucao\"])\n",
    "\n",
    "        # Remove a linha com tempo_registro_min negativo ou 0\n",
    "        df_info = df_info[df_info[\"tempo_registro_min\"] > 0]\n",
    "\n",
    "        def move_columns(df: pd.DataFrame) -> pd.DataFrame:\n",
    "            # Adiciona uma verificação para garantir que 'data_hora_registro_occ', 'data_hora_registro' e 'data_hora_final' não sejam NaN\n",
    "            mask = (\n",
    "                df[[\"data_hora_registro_occ\", \"data_hora_registro\", \"data_hora_final\"]]\n",
    "                .notna()\n",
    "                .all(axis=1)\n",
    "            )\n",
    "\n",
    "            df[\"data_hora_registro_occ\"] = df[\"data_hora_registro_occ\"].replace(np.nan, pd.NaT)\n",
    "            df = df.astype({\"data_hora_registro_occ\": \"datetime64[ns]\"})\n",
    "\n",
    "            # Calcula a diferença absoluta entre data_hora_registro_occ e data_hora_registro e data_hora_final\n",
    "            df[\"diff_registro\"] = np.where(\n",
    "                mask,\n",
    "                (df[\"data_hora_registro_occ\"] - df[\"data_hora_registro\"]).dt.total_seconds().abs(),\n",
    "                np.nan,\n",
    "            )\n",
    "            df[\"diff_final\"] = np.where(\n",
    "                mask,\n",
    "                (df[\"data_hora_registro_occ\"] - df[\"data_hora_final\"]).dt.total_seconds().abs(),\n",
    "                np.nan,\n",
    "            )\n",
    "\n",
    "            # Encontra qual das duas diferenças é menor\n",
    "            mask_idxmin = df[[\"diff_registro\", \"diff_final\"]].notna().any(axis=1)\n",
    "            df.loc[mask & mask_idxmin, \"closest\"] = df.loc[\n",
    "                mask & mask_idxmin, [\"diff_registro\", \"diff_final\"]\n",
    "            ].idxmin(\n",
    "                axis=1\n",
    "            )  # removendo erro:\n",
    "            # FutureWarning: The behavior of DataFrame.idxmin with all-NA values,\n",
    "            # or any-NA and skipna=False, is deprecated.\n",
    "            # In a future version this will raise ValueError\n",
    "\n",
    "            columns = [\n",
    "                \"motivo_id\",\n",
    "                \"motivo_nome\",\n",
    "                \"problema\",\n",
    "                \"solucao\",\n",
    "                \"data_hora_registro_occ\",\n",
    "                \"usuario_id_occ\",\n",
    "            ]\n",
    "\n",
    "            # Move a ocorrência para a linha anterior se a data_hora_registro for mais próxima\n",
    "            mask = (\n",
    "                (df[\"closest\"].shift(-1) == \"diff_registro\")\n",
    "                & (df[\"status\"].shift(-1) == \"rodando\")\n",
    "                & df[\"motivo_id\"].isnull()\n",
    "            )\n",
    "            for column in columns:\n",
    "                df[column] = np.where(mask, df[column].shift(-1), df[column])\n",
    "                df[column] = np.where(mask.shift(1), pd.NaT, df[column])\n",
    "\n",
    "            # Move a ocorrência para a linha seguinte se a data_hora_final for mais próxima\n",
    "            mask = (\n",
    "                (df[\"closest\"].shift(1) == \"diff_final\")\n",
    "                & (df[\"status\"].shift(1) == \"rodando\")\n",
    "                & df[\"motivo_id\"].isnull()\n",
    "            )\n",
    "            for column in columns:\n",
    "                df[column] = np.where(mask, df[column].shift(1), df[column])\n",
    "                df[column] = np.where(mask.shift(-1), pd.NaT, df[column])\n",
    "\n",
    "            return df\n",
    "\n",
    "        df_info = move_columns(df_info)\n",
    "\n",
    "        # Remove colunas desnecessárias\n",
    "        df_info.drop(\n",
    "            columns=[\n",
    "                \"diff_registro\",\n",
    "                \"diff_final\",\n",
    "                \"closest\",\n",
    "            ],\n",
    "            inplace=True,\n",
    "        )\n",
    "\n",
    "        # Ajustar motivo id\n",
    "        df_info[\"motivo_id\"] = df_info[\"motivo_id\"].fillna(np.nan).round(0).astype(float)\n",
    "\n",
    "        # Ajustar em problema, solucao, usuario_id_occ e motivo_nome\n",
    "        df_info[\"problema\"] = df_info[\"problema\"].fillna(\"\")\n",
    "        df_info[\"solucao\"] = df_info[\"solucao\"].fillna(\"\")\n",
    "        df_info[\"usuario_id_occ\"] = np.where(\n",
    "            df_info[\"usuario_id_occ\"] == pd.NaT, np.nan, df_info[\"usuario_id_occ\"]\n",
    "        )\n",
    "        df_info[\"motivo_nome\"] = np.where(\n",
    "            df_info[\"motivo_nome\"] == pd.NaT, np.nan, df_info[\"motivo_nome\"]\n",
    "        )\n",
    "        # Mudar de np.nan para pd.NaT em data_hora_registro_occ\n",
    "        df_info[\"data_hora_registro_occ\"] = np.where(\n",
    "            df_info[\"data_hora_registro_occ\"].isnull(), pd.NaT, df_info[\"data_hora_registro_occ\"]\n",
    "        )\n",
    "\n",
    "        # Corrigir os formatos das colunas\n",
    "        df_info = df_info.astype(\n",
    "            {\n",
    "                \"data_hora_registro_occ\": \"datetime64[ns]\",\n",
    "                \"motivo_nome\": \"category\",\n",
    "                \"problema\": str,\n",
    "                \"solucao\": str,\n",
    "                \"usuario_id_occ\": \"category\",\n",
    "            }\n",
    "        )\n",
    "\n",
    "        # Ajustar problema para Domingo, Sábado e Feriado se motivo_id for 12\n",
    "        df_info[\"problema\"] = np.where(\n",
    "            (df_info[\"motivo_id\"] == 12) & (df_info[\"domingo\"] == 1),\n",
    "            \"Domingo\",\n",
    "            df_info[\"problema\"],\n",
    "        )\n",
    "        df_info[\"problema\"] = np.where(\n",
    "            (df_info[\"motivo_id\"] == 12) & (df_info[\"sabado\"] == 1),\n",
    "            \"Sábado\",\n",
    "            df_info[\"problema\"],\n",
    "        )\n",
    "        df_info[\"problema\"] = np.where(\n",
    "            (df_info[\"motivo_id\"] == 12) & (df_info[\"feriado\"] == 1),\n",
    "            \"Feriado\",\n",
    "            df_info[\"problema\"],\n",
    "        )\n",
    "\n",
    "        # Se o motivo_id for nulo, status for parada e o tempo registro for maior que 475 e for sábado, domingo ou feriado, então o problema é \"Domingo\", \"Sábado\" ou \"Feriado\" e o motivo id é 12 e o motivo nome é \"Parada Programada\"\n",
    "        condition = (\n",
    "            (df_info[\"motivo_id\"].isnull())\n",
    "            & (df_info[\"status\"] == \"parada\")\n",
    "            & (df_info[\"tempo_registro_min\"] > 475)\n",
    "        )\n",
    "        condition_sabado = condition & (df_info[\"sabado\"] == 1)\n",
    "        df_info[\"motivo_id\"] = np.where(condition_sabado, 12, df_info[\"motivo_id\"])\n",
    "        df_info[\"motivo_nome\"] = np.where(\n",
    "            condition_sabado, \"Parada Programada\", df_info[\"motivo_nome\"]\n",
    "        )\n",
    "        df_info[\"problema\"] = np.where(condition_sabado, \"Sábado\", df_info[\"problema\"])\n",
    "\n",
    "        condition_domingo = condition & (df_info[\"domingo\"] == 1)\n",
    "        df_info[\"motivo_id\"] = np.where(condition_domingo, 12, df_info[\"motivo_id\"])\n",
    "        df_info[\"motivo_nome\"] = np.where(\n",
    "            condition_domingo, \"Parada Programada\", df_info[\"motivo_nome\"]\n",
    "        )\n",
    "        df_info[\"problema\"] = np.where(condition_domingo, \"Domingo\", df_info[\"problema\"])\n",
    "\n",
    "        condition_feriado = condition & (df_info[\"feriado\"] == 1)\n",
    "        df_info[\"motivo_id\"] = np.where(condition_feriado, 12, df_info[\"motivo_id\"])\n",
    "        df_info[\"motivo_nome\"] = np.where(\n",
    "            condition_feriado, \"Parada Programada\", df_info[\"motivo_nome\"]\n",
    "        )\n",
    "        df_info[\"problema\"] = np.where(condition_feriado, \"Feriado\", df_info[\"problema\"])\n",
    "\n",
    "        # Se o tempo de registro for maior que 480 mudar para 480\n",
    "        df_info[\"tempo_registro_min\"] = np.where(\n",
    "            df_info[\"tempo_registro_min\"] > 480, 480, df_info[\"tempo_registro_min\"]\n",
    "        )\n",
    "\n",
    "        # Se o motivo_id for nulo e\n",
    "        # tempo de registro for = 480, então o motivo_id é 12 e o motivo_nome é \"Parada Programada\"\n",
    "        mask = (df_info[\"motivo_id\"].isnull()) & (df_info[\"tempo_registro_min\"] == 480)\n",
    "        df_info[\"motivo_id\"] = np.where(mask, 12, df_info[\"motivo_id\"])\n",
    "        df_info[\"motivo_nome\"] = np.where(mask, \"Parada Programada\", df_info[\"motivo_nome\"])\n",
    "\n",
    "        # Ordena o DataFrame por 'maquina_id' e 'turno'\n",
    "        df_info.sort_values(by=[\"maquina_id\", \"data_hora_registro\"], inplace=True)\n",
    "\n",
    "        # Cria colunas temporárias com os valores do último turno\n",
    "        df_info[\"motivo_id_last\"] = df_info.groupby(\"maquina_id\", observed=False)[\n",
    "            \"motivo_id\"\n",
    "        ].shift()\n",
    "        df_info[\"motivo_nome_last\"] = df_info.groupby(\"maquina_id\", observed=False)[\n",
    "            \"motivo_nome\"\n",
    "        ].shift()\n",
    "        df_info[\"problema_last\"] = df_info.groupby(\"maquina_id\", observed=False)[\"problema\"].shift()\n",
    "        df_info[\"solucao_last\"] = df_info.groupby(\"maquina_id\", observed=False)[\"solucao\"].shift()\n",
    "\n",
    "        # Cria a máscara para as linhas que atendem às condições\n",
    "        mask = (df_info[\"tempo_registro_min\"] > 475) & df_info[\"motivo_id\"].isnull()\n",
    "\n",
    "        # Aplica a máscara e substitui os valores nas colunas originais\n",
    "        df_info.loc[mask, \"motivo_id\"] = df_info.loc[mask, \"motivo_id_last\"]\n",
    "        df_info.loc[mask, \"motivo_nome\"] = df_info.loc[mask, \"motivo_nome_last\"]\n",
    "        df_info.loc[mask, \"problema\"] = df_info.loc[mask, \"problema_last\"]\n",
    "        df_info.loc[mask, \"solucao\"] = df_info.loc[mask, \"solucao_last\"]\n",
    "\n",
    "        # Remove as colunas temporárias\n",
    "        df_info = df_info.drop(\n",
    "            columns=[\"motivo_id_last\", \"motivo_nome_last\", \"problema_last\", \"solucao_last\"]\n",
    "        )\n",
    "\n",
    "        # Remover as linhas onde a linha é 0\n",
    "        df_info = df_info[df_info[\"linha\"] != 0]\n",
    "\n",
    "        # Remover as linhas onde status é rodando\n",
    "        df_info = df_info[df_info[\"status\"] != \"rodando\"]\n",
    "\n",
    "        # Ajustar o index\n",
    "        df_info.reset_index(drop=True, inplace=True)\n",
    "\n",
    "        return df_info\n",
    "\n",
    "    def problems_adjust(self, df: pd.DataFrame, threshold=88) -> pd.DataFrame:\n",
    "        \"\"\"\n",
    "        Ajusta os problemas no DataFrame fornecido, mapeando problemas semelhantes para um nome comum.\n",
    "\n",
    "        Args:\n",
    "            df (pd.DataFrame): O DataFrame contendo os problemas a serem ajustados.\n",
    "            threshold (int, opcional): O limite de similaridade para combinar problemas. Por padrão é 88.\n",
    "\n",
    "        Returns:\n",
    "            pd.DataFrame: O DataFrame com problemas ajustados.\n",
    "        \"\"\"\n",
    "        # Encontrar problemas únicos\n",
    "        unique_problems = df[\"problema\"].unique()\n",
    "        problem_mapping = {}\n",
    "\n",
    "        # Criar um dicionário para mapear os problemas\n",
    "        for problem in unique_problems:\n",
    "            if problem and problem not in problem_mapping:\n",
    "                problem = str(problem).capitalize()\n",
    "\n",
    "                # Corrigir erros básicos de digitação\n",
    "                problem = problem.replace(\"Beckup\", \"Backup\")\n",
    "                problem = problem.replace(\"Becukp\", \"Backup\")\n",
    "                problem = problem.replace(\"Stm\", \"Atm\")\n",
    "\n",
    "                matches = process.extract(problem, unique_problems, limit=len(unique_problems))\n",
    "\n",
    "                # Encontrar os problemas com maior similaridade\n",
    "                similar_problems = [match[0] for match in matches if match[1] >= threshold]\n",
    "\n",
    "                # Criar um dicionário com os problemas similares\n",
    "                for similar_problem in similar_problems:\n",
    "                    problem_mapping[similar_problem] = problem\n",
    "\n",
    "        # Mapear os problemas\n",
    "        df[\"problema\"] = df[\"problema\"].map(problem_mapping)\n",
    "\n",
    "        return df\n",
    "\n",
    "\n",
    "join_data = JoinData()"
   ]
  },
  {
   "cell_type": "code",
   "execution_count": 16,
   "metadata": {},
   "outputs": [
    {
     "data": {
      "text/html": [
       "<div>\n",
       "<style scoped>\n",
       "    .dataframe tbody tr th:only-of-type {\n",
       "        vertical-align: middle;\n",
       "    }\n",
       "\n",
       "    .dataframe tbody tr th {\n",
       "        vertical-align: top;\n",
       "    }\n",
       "\n",
       "    .dataframe thead th {\n",
       "        text-align: right;\n",
       "    }\n",
       "</style>\n",
       "<table border=\"1\" class=\"dataframe\">\n",
       "  <thead>\n",
       "    <tr style=\"text-align: right;\">\n",
       "      <th></th>\n",
       "      <th>maquina_id</th>\n",
       "      <th>linha</th>\n",
       "      <th>fabrica</th>\n",
       "      <th>turno</th>\n",
       "      <th>data_hora_registro</th>\n",
       "      <th>tempo_registro_min</th>\n",
       "      <th>data_hora_final</th>\n",
       "      <th>status</th>\n",
       "      <th>motivo_id</th>\n",
       "      <th>data_hora_registro_occ</th>\n",
       "      <th>motivo_nome</th>\n",
       "      <th>problema</th>\n",
       "      <th>solucao</th>\n",
       "      <th>usuario_id_occ</th>\n",
       "      <th>contagem_total_ciclos</th>\n",
       "      <th>contagem_total_produzido</th>\n",
       "      <th>sabado</th>\n",
       "      <th>domingo</th>\n",
       "      <th>feriado</th>\n",
       "    </tr>\n",
       "  </thead>\n",
       "  <tbody>\n",
       "    <tr>\n",
       "      <th>0</th>\n",
       "      <td>TMF001</td>\n",
       "      <td>9</td>\n",
       "      <td>1</td>\n",
       "      <td>NOT</td>\n",
       "      <td>2024-02-01 01:57:38</td>\n",
       "      <td>2</td>\n",
       "      <td>2024-02-01 01:59:38</td>\n",
       "      <td>parada</td>\n",
       "      <td>NaN</td>\n",
       "      <td>NaT</td>\n",
       "      <td>NaN</td>\n",
       "      <td>NaN</td>\n",
       "      <td>NaT</td>\n",
       "      <td>NaN</td>\n",
       "      <td>2276</td>\n",
       "      <td>2266</td>\n",
       "      <td>0</td>\n",
       "      <td>0</td>\n",
       "      <td>0</td>\n",
       "    </tr>\n",
       "    <tr>\n",
       "      <th>1</th>\n",
       "      <td>TMF001</td>\n",
       "      <td>9</td>\n",
       "      <td>1</td>\n",
       "      <td>NOT</td>\n",
       "      <td>2024-02-01 02:57:38</td>\n",
       "      <td>66</td>\n",
       "      <td>2024-02-01 04:03:38</td>\n",
       "      <td>parada</td>\n",
       "      <td>3.0</td>\n",
       "      <td>2024-02-01 02:59:42</td>\n",
       "      <td>Refeição</td>\n",
       "      <td>Refeição</td>\n",
       "      <td>NaT</td>\n",
       "      <td>000441</td>\n",
       "      <td>3462</td>\n",
       "      <td>3436</td>\n",
       "      <td>0</td>\n",
       "      <td>0</td>\n",
       "      <td>0</td>\n",
       "    </tr>\n",
       "    <tr>\n",
       "      <th>2</th>\n",
       "      <td>TMF001</td>\n",
       "      <td>9</td>\n",
       "      <td>1</td>\n",
       "      <td>NOT</td>\n",
       "      <td>2024-02-01 05:59:39</td>\n",
       "      <td>10</td>\n",
       "      <td>2024-02-01 06:09:39</td>\n",
       "      <td>parada</td>\n",
       "      <td>5.0</td>\n",
       "      <td>2024-02-01 05:58:41</td>\n",
       "      <td>Café e Ginástica Laboral</td>\n",
       "      <td>Café e ginástica laboral</td>\n",
       "      <td>NaT</td>\n",
       "      <td>000441</td>\n",
       "      <td>5738</td>\n",
       "      <td>5702</td>\n",
       "      <td>0</td>\n",
       "      <td>0</td>\n",
       "      <td>0</td>\n",
       "    </tr>\n",
       "    <tr>\n",
       "      <th>3</th>\n",
       "      <td>TMF001</td>\n",
       "      <td>9</td>\n",
       "      <td>1</td>\n",
       "      <td>NOT</td>\n",
       "      <td>2024-02-01 07:51:39</td>\n",
       "      <td>10</td>\n",
       "      <td>2024-02-01 08:01:39</td>\n",
       "      <td>parada</td>\n",
       "      <td>NaN</td>\n",
       "      <td>NaT</td>\n",
       "      <td>NaN</td>\n",
       "      <td>NaN</td>\n",
       "      <td>NaT</td>\n",
       "      <td>NaN</td>\n",
       "      <td>7780</td>\n",
       "      <td>7692</td>\n",
       "      <td>0</td>\n",
       "      <td>0</td>\n",
       "      <td>0</td>\n",
       "    </tr>\n",
       "    <tr>\n",
       "      <th>4</th>\n",
       "      <td>TMF001</td>\n",
       "      <td>9</td>\n",
       "      <td>1</td>\n",
       "      <td>MAT</td>\n",
       "      <td>2024-02-01 09:29:39</td>\n",
       "      <td>2</td>\n",
       "      <td>2024-02-01 09:31:39</td>\n",
       "      <td>parada</td>\n",
       "      <td>NaN</td>\n",
       "      <td>NaT</td>\n",
       "      <td>NaN</td>\n",
       "      <td>NaN</td>\n",
       "      <td>NaT</td>\n",
       "      <td>NaN</td>\n",
       "      <td>1514</td>\n",
       "      <td>1510</td>\n",
       "      <td>0</td>\n",
       "      <td>0</td>\n",
       "      <td>0</td>\n",
       "    </tr>\n",
       "    <tr>\n",
       "      <th>...</th>\n",
       "      <td>...</td>\n",
       "      <td>...</td>\n",
       "      <td>...</td>\n",
       "      <td>...</td>\n",
       "      <td>...</td>\n",
       "      <td>...</td>\n",
       "      <td>...</td>\n",
       "      <td>...</td>\n",
       "      <td>...</td>\n",
       "      <td>...</td>\n",
       "      <td>...</td>\n",
       "      <td>...</td>\n",
       "      <td>...</td>\n",
       "      <td>...</td>\n",
       "      <td>...</td>\n",
       "      <td>...</td>\n",
       "      <td>...</td>\n",
       "      <td>...</td>\n",
       "      <td>...</td>\n",
       "    </tr>\n",
       "    <tr>\n",
       "      <th>185</th>\n",
       "      <td>TMF015</td>\n",
       "      <td>3</td>\n",
       "      <td>1</td>\n",
       "      <td>MAT</td>\n",
       "      <td>2024-02-01 15:33:34</td>\n",
       "      <td>28</td>\n",
       "      <td>2024-02-01 16:01:35</td>\n",
       "      <td>parada</td>\n",
       "      <td>NaN</td>\n",
       "      <td>NaT</td>\n",
       "      <td>NaN</td>\n",
       "      <td>NaN</td>\n",
       "      <td>NaT</td>\n",
       "      <td>NaN</td>\n",
       "      <td>6482</td>\n",
       "      <td>6438</td>\n",
       "      <td>0</td>\n",
       "      <td>0</td>\n",
       "      <td>0</td>\n",
       "    </tr>\n",
       "    <tr>\n",
       "      <th>186</th>\n",
       "      <td>TMF015</td>\n",
       "      <td>3</td>\n",
       "      <td>1</td>\n",
       "      <td>VES</td>\n",
       "      <td>2024-02-01 16:01:35</td>\n",
       "      <td>480</td>\n",
       "      <td>2024-02-02 00:01:36</td>\n",
       "      <td>parada</td>\n",
       "      <td>6.0</td>\n",
       "      <td>2024-02-01 16:03:11</td>\n",
       "      <td>Limpeza</td>\n",
       "      <td>Limpeza</td>\n",
       "      <td>NaT</td>\n",
       "      <td>000939</td>\n",
       "      <td>56</td>\n",
       "      <td>50</td>\n",
       "      <td>0</td>\n",
       "      <td>0</td>\n",
       "      <td>0</td>\n",
       "    </tr>\n",
       "    <tr>\n",
       "      <th>187</th>\n",
       "      <td>TMF015</td>\n",
       "      <td>3</td>\n",
       "      <td>1</td>\n",
       "      <td>NOT</td>\n",
       "      <td>2024-02-02 00:01:36</td>\n",
       "      <td>480</td>\n",
       "      <td>2024-02-02 18:58:58</td>\n",
       "      <td>parada</td>\n",
       "      <td>12.0</td>\n",
       "      <td>NaT</td>\n",
       "      <td>Parada Programada</td>\n",
       "      <td>NaN</td>\n",
       "      <td>NaT</td>\n",
       "      <td>NaN</td>\n",
       "      <td>0</td>\n",
       "      <td>0</td>\n",
       "      <td>0</td>\n",
       "      <td>0</td>\n",
       "      <td>0</td>\n",
       "    </tr>\n",
       "    <tr>\n",
       "      <th>188</th>\n",
       "      <td>TMF015</td>\n",
       "      <td>3</td>\n",
       "      <td>1</td>\n",
       "      <td>VES</td>\n",
       "      <td>2024-02-02 18:58:58</td>\n",
       "      <td>304</td>\n",
       "      <td>2024-02-03 00:02:59</td>\n",
       "      <td>parada</td>\n",
       "      <td>NaN</td>\n",
       "      <td>NaT</td>\n",
       "      <td>NaN</td>\n",
       "      <td>NaN</td>\n",
       "      <td>NaT</td>\n",
       "      <td>NaN</td>\n",
       "      <td>0</td>\n",
       "      <td>0</td>\n",
       "      <td>0</td>\n",
       "      <td>0</td>\n",
       "      <td>0</td>\n",
       "    </tr>\n",
       "    <tr>\n",
       "      <th>189</th>\n",
       "      <td>TMF015</td>\n",
       "      <td>3</td>\n",
       "      <td>1</td>\n",
       "      <td>NOT</td>\n",
       "      <td>2024-02-03 00:02:59</td>\n",
       "      <td>478</td>\n",
       "      <td>2024-02-03 08:01:00</td>\n",
       "      <td>parada</td>\n",
       "      <td>12.0</td>\n",
       "      <td>NaT</td>\n",
       "      <td>Parada Programada</td>\n",
       "      <td>Sábado</td>\n",
       "      <td>NaT</td>\n",
       "      <td>NaN</td>\n",
       "      <td>0</td>\n",
       "      <td>0</td>\n",
       "      <td>1</td>\n",
       "      <td>0</td>\n",
       "      <td>0</td>\n",
       "    </tr>\n",
       "  </tbody>\n",
       "</table>\n",
       "<p>190 rows × 19 columns</p>\n",
       "</div>"
      ],
      "text/plain": [
       "    maquina_id linha fabrica turno  data_hora_registro  tempo_registro_min  \\\n",
       "0       TMF001     9       1   NOT 2024-02-01 01:57:38                   2   \n",
       "1       TMF001     9       1   NOT 2024-02-01 02:57:38                  66   \n",
       "2       TMF001     9       1   NOT 2024-02-01 05:59:39                  10   \n",
       "3       TMF001     9       1   NOT 2024-02-01 07:51:39                  10   \n",
       "4       TMF001     9       1   MAT 2024-02-01 09:29:39                   2   \n",
       "..         ...   ...     ...   ...                 ...                 ...   \n",
       "185     TMF015     3       1   MAT 2024-02-01 15:33:34                  28   \n",
       "186     TMF015     3       1   VES 2024-02-01 16:01:35                 480   \n",
       "187     TMF015     3       1   NOT 2024-02-02 00:01:36                 480   \n",
       "188     TMF015     3       1   VES 2024-02-02 18:58:58                 304   \n",
       "189     TMF015     3       1   NOT 2024-02-03 00:02:59                 478   \n",
       "\n",
       "        data_hora_final  status  motivo_id data_hora_registro_occ  \\\n",
       "0   2024-02-01 01:59:38  parada        NaN                    NaT   \n",
       "1   2024-02-01 04:03:38  parada        3.0    2024-02-01 02:59:42   \n",
       "2   2024-02-01 06:09:39  parada        5.0    2024-02-01 05:58:41   \n",
       "3   2024-02-01 08:01:39  parada        NaN                    NaT   \n",
       "4   2024-02-01 09:31:39  parada        NaN                    NaT   \n",
       "..                  ...     ...        ...                    ...   \n",
       "185 2024-02-01 16:01:35  parada        NaN                    NaT   \n",
       "186 2024-02-02 00:01:36  parada        6.0    2024-02-01 16:03:11   \n",
       "187 2024-02-02 18:58:58  parada       12.0                    NaT   \n",
       "188 2024-02-03 00:02:59  parada        NaN                    NaT   \n",
       "189 2024-02-03 08:01:00  parada       12.0                    NaT   \n",
       "\n",
       "                  motivo_nome                  problema solucao  \\\n",
       "0                         NaN                       NaN     NaT   \n",
       "1                    Refeição                  Refeição     NaT   \n",
       "2    Café e Ginástica Laboral  Café e ginástica laboral     NaT   \n",
       "3                         NaN                       NaN     NaT   \n",
       "4                         NaN                       NaN     NaT   \n",
       "..                        ...                       ...     ...   \n",
       "185                       NaN                       NaN     NaT   \n",
       "186                   Limpeza                   Limpeza     NaT   \n",
       "187         Parada Programada                       NaN     NaT   \n",
       "188                       NaN                       NaN     NaT   \n",
       "189         Parada Programada                    Sábado     NaT   \n",
       "\n",
       "    usuario_id_occ  contagem_total_ciclos  contagem_total_produzido  sabado  \\\n",
       "0              NaN                   2276                      2266       0   \n",
       "1           000441                   3462                      3436       0   \n",
       "2           000441                   5738                      5702       0   \n",
       "3              NaN                   7780                      7692       0   \n",
       "4              NaN                   1514                      1510       0   \n",
       "..             ...                    ...                       ...     ...   \n",
       "185            NaN                   6482                      6438       0   \n",
       "186         000939                     56                        50       0   \n",
       "187            NaN                      0                         0       0   \n",
       "188            NaN                      0                         0       0   \n",
       "189            NaN                      0                         0       1   \n",
       "\n",
       "     domingo  feriado  \n",
       "0          0        0  \n",
       "1          0        0  \n",
       "2          0        0  \n",
       "3          0        0  \n",
       "4          0        0  \n",
       "..       ...      ...  \n",
       "185        0        0  \n",
       "186        0        0  \n",
       "187        0        0  \n",
       "188        0        0  \n",
       "189        0        0  \n",
       "\n",
       "[190 rows x 19 columns]"
      ]
     },
     "execution_count": 16,
     "metadata": {},
     "output_type": "execute_result"
    }
   ],
   "source": [
    "df_info_occ = join_data.join_info_occ(df_maq_occ_cleaned.copy(), df_info_cleaned.copy())\n",
    "df_maq_info_occ_combined = join_data.problems_adjust(df_info_occ.copy())\n",
    "df_maq_info_occ_combined"
   ]
  },
  {
   "cell_type": "code",
   "execution_count": 17,
   "metadata": {},
   "outputs": [
    {
     "data": {
      "text/plain": [
       "Index(['maquina_id', 'linha', 'fabrica', 'turno', 'data_hora_registro',\n",
       "       'tempo_registro_min', 'data_hora_final', 'status', 'motivo_id',\n",
       "       'data_hora_registro_occ', 'motivo_nome', 'problema', 'solucao',\n",
       "       'usuario_id_occ', 'contagem_total_ciclos', 'contagem_total_produzido',\n",
       "       'sabado', 'domingo', 'feriado'],\n",
       "      dtype='object')"
      ]
     },
     "execution_count": 17,
     "metadata": {},
     "output_type": "execute_result"
    }
   ],
   "source": [
    "df_maq_info_occ_combined.columns"
   ]
  },
  {
   "cell_type": "code",
   "execution_count": 18,
   "metadata": {},
   "outputs": [
    {
     "data": {
      "text/plain": [
       "Index(['maquina_id', 'linha', 'turno', 'total_ciclos', 'total_produzido',\n",
       "       'data_registro'],\n",
       "      dtype='object')"
      ]
     },
     "execution_count": 18,
     "metadata": {},
     "output_type": "execute_result"
    }
   ],
   "source": [
    "df_maq_info_production_cleaned.columns"
   ]
  },
  {
   "cell_type": "markdown",
   "metadata": {},
   "source": [
    "# Eficiência, Performance, Reparos\n"
   ]
  },
  {
   "cell_type": "code",
   "execution_count": 19,
   "metadata": {},
   "outputs": [],
   "source": [
    "# service/times_data.py\n",
    "# cSpell: disable=invalid-name\n",
    "class TimesData:\n",
    "    def __init__(self):\n",
    "        # Dicionário com os descontos de parada para Eficiência\n",
    "\n",
    "        self.desc_eff = {\n",
    "            3: 60,\n",
    "            5: 10,\n",
    "            10: 15,\n",
    "            11: 35,\n",
    "            15: 60,\n",
    "            17: 15,\n",
    "        }\n",
    "\n",
    "        # Dicionário com os descontos de parada para Performance\n",
    "\n",
    "        self.desc_perf = {\n",
    "            3: 60,\n",
    "            5: 10,\n",
    "            10: 15,\n",
    "            15: 60,\n",
    "            17: 15,\n",
    "        }\n",
    "\n",
    "        # Lista com os motivos de parada que não são considerados para Performance\n",
    "\n",
    "        self.not_af_perf = [7, 8, 11, 12, 13, 16]\n",
    "\n",
    "        # Dicionário com os descontos de parada para Reparos\n",
    "\n",
    "        self.desc_rep = {11: 35}\n",
    "\n",
    "        # Lista com os motivos de parada que são considerados para Reparos\n",
    "\n",
    "        self.af_rep = [7, 8, 11]\n",
    "\n",
    "        # Lista de Motivos que não afetam a eficiência\n",
    "        self.not_af_eff = [12]\n",
    "\n",
    "    def get_times_discount(self, info: pd.DataFrame, desc_pcp: dict[int, int]) -> pd.DataFrame:\n",
    "        \"\"\"\n",
    "        Função para calcular os descontos de parada\n",
    "\n",
    "        Args:\n",
    "            info (pd.DataFrame): DataFrame com os dados de parada\n",
    "            desc_pcp (dict[int, int]): Dicionário com os descontos de parada\n",
    "\n",
    "        Returns:\n",
    "            pd.DataFrame: DataFrame com os descontos de parada\n",
    "\n",
    "\n",
    "        Exemplo:\n",
    "            >>> from app.service.get_times_data import GetTimesData\n",
    "            >>> import pandas as pd\n",
    "            >>> get_times_data = GetTimesData()\n",
    "            >>> df_times_desc = pd.dataframe()\n",
    "            >>> df_result = get_times_data.get_times_discount(df_times_desc, desc_pcp)\n",
    "        \"\"\"\n",
    "\n",
    "        info_stops = info.copy()\n",
    "\n",
    "        # Adicionar coluna com descontos de parada\n",
    "        info_stops[\"desconto_min\"] = info_stops[\"motivo_id\"].map(desc_pcp)\n",
    "\n",
    "        # Se houver desconto, subtrair do tempo de parada e arredondar para baixo, em uma nova coluna chamada excedente\n",
    "        info_stops[\"excedente\"] = (\n",
    "            info_stops[\"tempo_registro_min\"] - info_stops[\"desconto_min\"]\n",
    "        ).clip(lower=0)\n",
    "\n",
    "        # Se o desconto for maior que o tempo de parada, o desconto deve ser igual ao tempo de parada\n",
    "        info_stops.loc[\n",
    "            info_stops[\"desconto_min\"] > info_stops[\"tempo_registro_min\"],\n",
    "            \"desconto_min\",\n",
    "        ] = info_stops[\"tempo_registro_min\"]\n",
    "\n",
    "        # Criar coluna data_registro para agrupar por dia\n",
    "        info_stops[\"data_registro\"] = info_stops[\"data_hora_registro\"].dt.date\n",
    "        # Ordenar por maquina_id, data_hora_registro, turno\n",
    "        info_stops.sort_values(by=[\"maquina_id\", \"data_hora_registro\", \"turno\"], inplace=True)\n",
    "\n",
    "        return info_stops\n",
    "\n",
    "    def get_elapsed_time(self, turno):\n",
    "        \"\"\"\n",
    "        Método para calcular o tempo decorrido no turno atual.\n",
    "\n",
    "        Este método recebe o turno atual e retorna o tempo decorrido em minutos.\n",
    "\n",
    "        Args:\n",
    "            turno (str): Turno atual\n",
    "\n",
    "        Returns:\n",
    "            float: Tempo decorrido em minutos\n",
    "\n",
    "\n",
    "        Exemplo:\n",
    "            >>> from app.service.get_times_data import GetTimesData\n",
    "            >>> import pandas as pd\n",
    "            >>> get_times_data = GetTimesData()\n",
    "            >>> turno = 'MAT'\n",
    "            >>> tempo_decorrido = get_times_data.get_elapsed_time(turno)\n",
    "        \"\"\"\n",
    "\n",
    "        now = datetime.now()\n",
    "\n",
    "        if turno == \"MAT\" and 8 <= now.hour < 16:\n",
    "            shift_start = now.replace(hour=8, minute=0, second=0, microsecond=0)\n",
    "\n",
    "        elif turno == \"VES\" and 16 <= now.hour < 24:\n",
    "            shift_start = now.replace(hour=16, minute=0, second=0, microsecond=0)\n",
    "\n",
    "        elif turno == \"NOT\" and (now.hour < 8 or now.hour >= 24):\n",
    "            shift_start = now.replace(hour=0, minute=0, second=0, microsecond=0)\n",
    "\n",
    "        else:\n",
    "            return 480  # retorna o tempo padrão se não estiver no turno atual\n",
    "\n",
    "        elapsed_time = now - shift_start\n",
    "\n",
    "        return elapsed_time.total_seconds() / 60  # retorna o tempo decorrido em minutos\n",
    "\n",
    "    def get_eff_data(self, df_info: pd.DataFrame, df_prod: pd.DataFrame) -> pd.DataFrame:\n",
    "        \"\"\"\n",
    "        Método para calcular os dados de eficiência.\n",
    "        Este método recebe dois DataFrames, um contendo informações de tempo de eficiência e\n",
    "        desconto e outro contendo informações de produção,\n",
    "        e retorna um DataFrame com informações de eficiência.\n",
    "\n",
    "\n",
    "        Parâmetros:\n",
    "\n",
    "        df_info (pd.DataFrame): DataFrame contendo informações de maquina\n",
    "        df_prod (pd.DataFrame): DataFrame contendo informações de produção.\n",
    "\n",
    "\n",
    "        Retorna:\n",
    "\n",
    "        pd.DataFrame: DataFrame com informações de eficiência.\n",
    "\n",
    "\n",
    "        Exemplo de uso:\n",
    "        ```\n",
    "        times_data = TimesData()\n",
    "        df_eff_times_desc = pd.dataframe()\n",
    "        df_prod = pd.dataframe()\n",
    "        df_result = times_data.get_eff_data(df_info, df_prod)\n",
    "        ```\n",
    "        \"\"\"\n",
    "\n",
    "        df_eff_times_desc = self.get_times_discount(df_info, self.desc_eff)\n",
    "        df_prod_total = df_prod.copy()\n",
    "        ciclo_ideal = 10.6\n",
    "\n",
    "        # Descartar colunas desnecessárias de df_prod -> 'contagem_total_ciclos', 'usuario_id_maq_cadastro', 'data_hora_registro'\n",
    "        df_prod_total.drop(columns=[\"total_ciclos\"], inplace=True)\n",
    "\n",
    "        # Se o motivo id não afeta a eficiência, desconto_min deve ser igual ao tempo_registro_min\n",
    "        df_eff_times_desc.loc[\n",
    "            df_eff_times_desc[\"motivo_id\"].isin(self.not_af_eff), \"desconto_min\"\n",
    "        ] = df_eff_times_desc[\"tempo_registro_min\"]\n",
    "\n",
    "        # Agrupar por maquina_id, data_registro e turno e o desconto\n",
    "        df_eff_times_desc = (\n",
    "            df_eff_times_desc.groupby(\n",
    "                [\"maquina_id\", \"linha\", \"data_registro\", \"turno\"], observed=False\n",
    "            )\n",
    "            .agg(\n",
    "                {\n",
    "                    \"desconto_min\": \"sum\",\n",
    "                }\n",
    "            )\n",
    "            .reset_index()\n",
    "        )\n",
    "\n",
    "        # Garantir que a coluna data_registro é datetime em ambos os dataframes\n",
    "        df_eff_times_desc[\"data_registro\"] = pd.to_datetime(\n",
    "            df_eff_times_desc[\"data_registro\"]\n",
    "        ).dt.date\n",
    "\n",
    "        df_prod_total[\"data_registro\"] = pd.to_datetime(df_prod_total[\"data_registro\"]).dt.date\n",
    "\n",
    "        # Fazer merge com df_prod_total\n",
    "        df_eff_times_desc = pd.merge(\n",
    "            df_prod_total,\n",
    "            df_eff_times_desc,\n",
    "            on=[\"maquina_id\", \"linha\", \"turno\", \"data_registro\"],\n",
    "            how=\"left\",\n",
    "        )\n",
    "\n",
    "        # Ajustar desc_min para 0 quando for nulo\n",
    "        df_eff_times_desc.loc[df_eff_times_desc[\"desconto_min\"].isnull(), \"desconto_min\"] = 0\n",
    "\n",
    "        # Criar coluna com tempo esperado de produção\n",
    "        df_eff_times_desc[\"tempo_esperado_min\"] = df_eff_times_desc.apply(\n",
    "            lambda row: (\n",
    "                np.floor(self.get_elapsed_time(row[\"turno\"]) - row[\"desconto_min\"])\n",
    "                if row[\"data_registro\"] == datetime.now().date()\n",
    "                else 480 - row[\"desconto_min\"]\n",
    "            ),\n",
    "            axis=1,\n",
    "        )\n",
    "\n",
    "        # Produção esperada por turno\n",
    "        df_eff_times_desc[\"producao_esperada\"] = (\n",
    "            df_eff_times_desc[\"tempo_esperado_min\"] * ciclo_ideal\n",
    "        ) * 2\n",
    "\n",
    "        # Calcular a eficiência\n",
    "        df_eff_times_desc[\"eficiencia\"] = (\n",
    "            df_eff_times_desc[\"total_produzido\"] / df_eff_times_desc[\"producao_esperada\"]\n",
    "        )\n",
    "\n",
    "        # Ordenar pela linha e data_registro\n",
    "        df_eff_times_desc = df_eff_times_desc.sort_values(\n",
    "            by=[\"linha\", \"data_registro\"], ascending=True\n",
    "        )\n",
    "\n",
    "        # Remover as linhas onde a linha é 0\n",
    "        df_eff_times_desc = df_eff_times_desc[df_eff_times_desc[\"linha\"] != 0]\n",
    "\n",
    "        # Se eficiencia for nula, substituir por 0\n",
    "        df_eff_times_desc.loc[df_eff_times_desc[\"eficiencia\"].isnull(), \"eficiencia\"] = 0\n",
    "\n",
    "        # Se a produção esperada for 0 e a eficiência for 0, substituir por 1\n",
    "        df_eff_times_desc.loc[\n",
    "            (df_eff_times_desc[\"producao_esperada\"] == 0),\n",
    "            \"eficiencia\",\n",
    "        ] = 1\n",
    "\n",
    "        # Ajustar o index\n",
    "        df_eff_times_desc.reset_index(drop=True, inplace=True)\n",
    "\n",
    "        return df_eff_times_desc\n",
    "\n",
    "    def get_perf_data(self, df_info: pd.DataFrame, df_prod: pd.DataFrame) -> pd.DataFrame:\n",
    "        \"\"\"\n",
    "        Método para calcular os dados de performance.\n",
    "\n",
    "        Este método recebe dois DataFrames, um contendo informações de máquina e\n",
    "        outro contendo informações de produção,\n",
    "        e retorna um DataFrame com informações de performance.\n",
    "\n",
    "        Args:\n",
    "            df_info (pd.DataFrame): DataFrame contendo informações de maquina\n",
    "            df_prod (pd.DataFrame): DataFrame contendo informações de produção.\n",
    "\n",
    "        Returns:\n",
    "            pd.DataFrame: DataFrame com informações de performance.\n",
    "\n",
    "        Exemplo de uso:\n",
    "        ```\n",
    "        times_data = TimesData()\n",
    "        df_info = pd.dataframe()\n",
    "        df_prod = pd.dataframe()\n",
    "        df_result = times_data.get_perf_data(df_info, df_prod)\n",
    "        ```\n",
    "        \"\"\"\n",
    "\n",
    "        df_info = df_info.copy()\n",
    "        df_perf_times_desc = self.get_times_discount(df_info, self.desc_perf)\n",
    "        df_prod_total = df_prod.copy()\n",
    "\n",
    "        # Descartar colunas desnecessárias de df_prod\n",
    "        df_prod_total.drop(\n",
    "            columns=[\n",
    "                \"total_ciclos\",\n",
    "                \"total_produzido\",\n",
    "            ],\n",
    "            inplace=True,\n",
    "        )\n",
    "\n",
    "        # Remover as linhas que não afetam a performance\n",
    "        df_perf_times_desc = df_perf_times_desc[\n",
    "            ~df_perf_times_desc[\"motivo_id\"].isin(self.not_af_perf)\n",
    "        ]\n",
    "\n",
    "        # Criar coluna 'afeta' para identificar as paradas que afetam a performance\n",
    "        df_perf_times_desc[\"afeta\"] = df_perf_times_desc[\"excedente\"]\n",
    "\n",
    "        # Se desconto for nulo, substituir afeta pelo valor de tempo_registro_min\n",
    "        df_perf_times_desc.loc[df_perf_times_desc[\"desconto_min\"].isnull(), \"afeta\"] = (\n",
    "            df_perf_times_desc[\"tempo_registro_min\"]\n",
    "        )\n",
    "\n",
    "        # Agrupar por maquina_id, data_registro e turno e somar o tempo de\n",
    "        # desconto e o afeta\n",
    "        df_perf_times_desc = (\n",
    "            df_perf_times_desc.groupby(\n",
    "                [\"maquina_id\", \"linha\", \"data_registro\", \"turno\"], observed=False\n",
    "            )\n",
    "            .agg(\n",
    "                {\n",
    "                    \"desconto_min\": \"sum\",\n",
    "                    \"afeta\": \"sum\",\n",
    "                }\n",
    "            )\n",
    "            .reset_index()\n",
    "        )\n",
    "\n",
    "        # Garantir que a coluna data_registro é datetime em ambos os dataframes\n",
    "        df_perf_times_desc[\"data_registro\"] = pd.to_datetime(\n",
    "            df_perf_times_desc[\"data_registro\"]\n",
    "        ).dt.date\n",
    "\n",
    "        df_prod_total[\"data_registro\"] = pd.to_datetime(df_prod_total[\"data_registro\"]).dt.date\n",
    "        # Fazer merge com df_prod_total\n",
    "\n",
    "        df_perf_times_desc = pd.merge(\n",
    "            df_prod_total,\n",
    "            df_perf_times_desc,\n",
    "            on=[\"maquina_id\", \"linha\", \"turno\", \"data_registro\"],\n",
    "            how=\"left\",\n",
    "        )\n",
    "\n",
    "        # Ajustar desconto_min para 0 quando for nulo\n",
    "        df_perf_times_desc.loc[df_perf_times_desc[\"desconto_min\"].isnull(), \"desconto_min\"] = 0\n",
    "\n",
    "        # Ajustar afeta para 0 quando for nulo\n",
    "        df_perf_times_desc.loc[df_perf_times_desc[\"afeta\"].isnull(), \"afeta\"] = 0\n",
    "\n",
    "        # Criar coluna com tempo esperado de produção\n",
    "        df_perf_times_desc[\"tempo_esperado_min\"] = df_perf_times_desc.apply(\n",
    "            lambda row: (\n",
    "                np.floor(self.get_elapsed_time(row[\"turno\"]) - row[\"desconto_min\"])\n",
    "                if row[\"data_registro\"] == datetime.now().date()\n",
    "                else 480 - row[\"desconto_min\"]\n",
    "            ),\n",
    "            axis=1,\n",
    "        )\n",
    "\n",
    "        # Calcular a performance\n",
    "        df_perf_times_desc[\"performance\"] = (\n",
    "            df_perf_times_desc[\"afeta\"] / df_perf_times_desc[\"tempo_esperado_min\"]\n",
    "        )\n",
    "\n",
    "        # Ordenar pela linha e data_registro\n",
    "        df_perf_times_desc = df_perf_times_desc.sort_values(\n",
    "            by=[\"linha\", \"data_registro\"], ascending=True\n",
    "        )\n",
    "\n",
    "        # Remover as linhas onde a linha é 0\n",
    "        df_perf_times_desc = df_perf_times_desc[df_perf_times_desc[\"linha\"] != 0]\n",
    "\n",
    "        # Ajustar o index\n",
    "        df_perf_times_desc.reset_index(drop=True, inplace=True)\n",
    "\n",
    "        return df_perf_times_desc\n",
    "\n",
    "    def get_reparos_data(self, df_info: pd.DataFrame, df_prod: pd.DataFrame) -> pd.DataFrame:\n",
    "        \"\"\"\n",
    "        Método para calcular os dados de reparo.\n",
    "\n",
    "        Este método recebe dois DataFrames, um contendo informações de máquina e\n",
    "        e outro contendo informações de produção,\n",
    "        e retorna um DataFrame com informações de Reparo.\n",
    "\n",
    "\n",
    "        ### Parâmetros:\n",
    "        df_info (pd.DataFrame): DataFrame contendo informações de maquina\n",
    "\n",
    "        df_prod (pd.DataFrame): DataFrame contendo informações de produção.\n",
    "\n",
    "        ### Retorna:\n",
    "\n",
    "        pd.DataFrame: DataFrame com informações de performance.\n",
    "\n",
    "        ### Exemplo de uso:\n",
    "        ```\n",
    "        times_data = TimesData()\n",
    "        df_info = pd.dataframe()\n",
    "        df_prod = pd.dataframe()\n",
    "        df_result = times_data.get_reparos_data(df_info, df_prod)\n",
    "        ```\n",
    "        \"\"\"\n",
    "\n",
    "        df_info = df_info.copy()\n",
    "\n",
    "        df_rep_times_desc = self.get_times_discount(df_info, self.desc_rep)\n",
    "\n",
    "        df_prod_total = df_prod.copy()\n",
    "\n",
    "        # Descartar colunas desnecessárias de df_prod\n",
    "        df_prod_total.drop(\n",
    "            columns=[\n",
    "                \"total_ciclos\",\n",
    "                \"total_produzido\",\n",
    "            ],\n",
    "            inplace=True,\n",
    "        )\n",
    "\n",
    "        # Remover as linhas que não afetam o reparo\n",
    "        df_rep_times_desc = df_rep_times_desc[df_rep_times_desc[\"motivo_id\"].isin(self.af_rep)]\n",
    "\n",
    "        # Criar coluna 'afeta' para identificar as paradas que afetam o reparo\n",
    "        df_rep_times_desc[\"afeta\"] = df_rep_times_desc[\"excedente\"]\n",
    "\n",
    "        # Se desconto for nulo, substituir afeta pelo valor de tempo_registro_min\n",
    "        df_rep_times_desc.loc[df_rep_times_desc[\"desconto_min\"].isnull(), \"afeta\"] = (\n",
    "            df_rep_times_desc[\"tempo_registro_min\"]\n",
    "        )\n",
    "\n",
    "        # Agrupar por maquina_id, data_registro e turno e somar o tempo de\n",
    "        # desconto e o afeta\n",
    "        df_rep_times_desc = (\n",
    "            df_rep_times_desc.groupby(\n",
    "                [\"maquina_id\", \"linha\", \"data_registro\", \"turno\"], observed=False\n",
    "            )\n",
    "            .agg(\n",
    "                {\n",
    "                    \"desconto_min\": \"sum\",\n",
    "                    \"afeta\": \"sum\",\n",
    "                }\n",
    "            )\n",
    "            .reset_index()\n",
    "        )\n",
    "\n",
    "        # Garantir que a coluna data_registro é datetime em ambos os dataframes\n",
    "        df_rep_times_desc[\"data_registro\"] = pd.to_datetime(\n",
    "            df_rep_times_desc[\"data_registro\"]\n",
    "        ).dt.date\n",
    "        df_prod_total[\"data_registro\"] = pd.to_datetime(df_prod_total[\"data_registro\"]).dt.date\n",
    "\n",
    "        # Fazer merge com df_prod_total\n",
    "        df_rep_times_desc = pd.merge(\n",
    "            df_prod_total,\n",
    "            df_rep_times_desc,\n",
    "            on=[\"maquina_id\", \"linha\", \"turno\", \"data_registro\"],\n",
    "            how=\"left\",\n",
    "        )\n",
    "\n",
    "        # Ajustar desconto_min para 0 quando for nulo\n",
    "        df_rep_times_desc.loc[df_rep_times_desc[\"desconto_min\"].isnull(), \"desconto_min\"] = 0\n",
    "\n",
    "        # Ajustar afeta para 0 quando for nulo\n",
    "        df_rep_times_desc.loc[df_rep_times_desc[\"afeta\"].isnull(), \"afeta\"] = 0\n",
    "\n",
    "        # Criar coluna com tempo esperado de produção\n",
    "        df_rep_times_desc[\"tempo_esperado_min\"] = df_rep_times_desc.apply(\n",
    "            lambda row: (\n",
    "                np.floor(self.get_elapsed_time(row[\"turno\"]) - row[\"desconto_min\"])\n",
    "                if row[\"data_registro\"] == datetime.now().date()\n",
    "                else 480 - row[\"desconto_min\"]\n",
    "            ),\n",
    "            axis=1,\n",
    "        )\n",
    "\n",
    "        # Calcular o reparo\n",
    "        df_rep_times_desc[\"reparo\"] = (\n",
    "            df_rep_times_desc[\"afeta\"] / df_rep_times_desc[\"tempo_esperado_min\"]\n",
    "        )\n",
    "\n",
    "        # Ordenar pela linha e data_registro\n",
    "        df_rep_times_desc = df_rep_times_desc.sort_values(\n",
    "            by=[\"linha\", \"data_registro\"], ascending=True\n",
    "        )\n",
    "\n",
    "        # Remover as linhas onde a linha é 0\n",
    "        df_rep_times_desc = df_rep_times_desc[df_rep_times_desc[\"linha\"] != 0]\n",
    "\n",
    "        # Ajustar o index\n",
    "        df_rep_times_desc.reset_index(drop=True, inplace=True)\n",
    "\n",
    "        return df_rep_times_desc\n",
    "\n",
    "\n",
    "times_data = TimesData()"
   ]
  },
  {
   "cell_type": "code",
   "execution_count": 20,
   "metadata": {},
   "outputs": [
    {
     "data": {
      "text/html": [
       "<div>\n",
       "<style scoped>\n",
       "    .dataframe tbody tr th:only-of-type {\n",
       "        vertical-align: middle;\n",
       "    }\n",
       "\n",
       "    .dataframe tbody tr th {\n",
       "        vertical-align: top;\n",
       "    }\n",
       "\n",
       "    .dataframe thead th {\n",
       "        text-align: right;\n",
       "    }\n",
       "</style>\n",
       "<table border=\"1\" class=\"dataframe\">\n",
       "  <thead>\n",
       "    <tr style=\"text-align: right;\">\n",
       "      <th></th>\n",
       "      <th>maquina_id</th>\n",
       "      <th>linha</th>\n",
       "      <th>turno</th>\n",
       "      <th>total_produzido</th>\n",
       "      <th>data_registro</th>\n",
       "      <th>desconto_min</th>\n",
       "      <th>tempo_esperado_min</th>\n",
       "      <th>producao_esperada</th>\n",
       "      <th>eficiencia</th>\n",
       "    </tr>\n",
       "  </thead>\n",
       "  <tbody>\n",
       "    <tr>\n",
       "      <th>0</th>\n",
       "      <td>TMF005</td>\n",
       "      <td>1</td>\n",
       "      <td>NOT</td>\n",
       "      <td>8502</td>\n",
       "      <td>2024-02-01</td>\n",
       "      <td>68.0</td>\n",
       "      <td>412.0</td>\n",
       "      <td>8734.4</td>\n",
       "      <td>0.973393</td>\n",
       "    </tr>\n",
       "    <tr>\n",
       "      <th>1</th>\n",
       "      <td>TMF005</td>\n",
       "      <td>1</td>\n",
       "      <td>MAT</td>\n",
       "      <td>5206</td>\n",
       "      <td>2024-02-01</td>\n",
       "      <td>60.0</td>\n",
       "      <td>420.0</td>\n",
       "      <td>8904.0</td>\n",
       "      <td>0.584681</td>\n",
       "    </tr>\n",
       "    <tr>\n",
       "      <th>2</th>\n",
       "      <td>TMF005</td>\n",
       "      <td>1</td>\n",
       "      <td>VES</td>\n",
       "      <td>0</td>\n",
       "      <td>2024-02-01</td>\n",
       "      <td>0.0</td>\n",
       "      <td>480.0</td>\n",
       "      <td>10176.0</td>\n",
       "      <td>0.000000</td>\n",
       "    </tr>\n",
       "    <tr>\n",
       "      <th>3</th>\n",
       "      <td>TMF005</td>\n",
       "      <td>1</td>\n",
       "      <td>NOT</td>\n",
       "      <td>0</td>\n",
       "      <td>2024-02-02</td>\n",
       "      <td>480.0</td>\n",
       "      <td>0.0</td>\n",
       "      <td>0.0</td>\n",
       "      <td>1.000000</td>\n",
       "    </tr>\n",
       "    <tr>\n",
       "      <th>4</th>\n",
       "      <td>TMF005</td>\n",
       "      <td>1</td>\n",
       "      <td>VES</td>\n",
       "      <td>0</td>\n",
       "      <td>2024-02-02</td>\n",
       "      <td>0.0</td>\n",
       "      <td>480.0</td>\n",
       "      <td>10176.0</td>\n",
       "      <td>0.000000</td>\n",
       "    </tr>\n",
       "    <tr>\n",
       "      <th>...</th>\n",
       "      <td>...</td>\n",
       "      <td>...</td>\n",
       "      <td>...</td>\n",
       "      <td>...</td>\n",
       "      <td>...</td>\n",
       "      <td>...</td>\n",
       "      <td>...</td>\n",
       "      <td>...</td>\n",
       "      <td>...</td>\n",
       "    </tr>\n",
       "    <tr>\n",
       "      <th>93</th>\n",
       "      <td>TMF010</td>\n",
       "      <td>14</td>\n",
       "      <td>NOT</td>\n",
       "      <td>0</td>\n",
       "      <td>2024-02-02</td>\n",
       "      <td>480.0</td>\n",
       "      <td>0.0</td>\n",
       "      <td>0.0</td>\n",
       "      <td>1.000000</td>\n",
       "    </tr>\n",
       "    <tr>\n",
       "      <th>94</th>\n",
       "      <td>TMF010</td>\n",
       "      <td>14</td>\n",
       "      <td>MAT</td>\n",
       "      <td>0</td>\n",
       "      <td>2024-02-02</td>\n",
       "      <td>480.0</td>\n",
       "      <td>0.0</td>\n",
       "      <td>0.0</td>\n",
       "      <td>1.000000</td>\n",
       "    </tr>\n",
       "    <tr>\n",
       "      <th>95</th>\n",
       "      <td>TMF010</td>\n",
       "      <td>14</td>\n",
       "      <td>VES</td>\n",
       "      <td>0</td>\n",
       "      <td>2024-02-02</td>\n",
       "      <td>480.0</td>\n",
       "      <td>0.0</td>\n",
       "      <td>0.0</td>\n",
       "      <td>1.000000</td>\n",
       "    </tr>\n",
       "    <tr>\n",
       "      <th>96</th>\n",
       "      <td>TMF010</td>\n",
       "      <td>14</td>\n",
       "      <td>NOT</td>\n",
       "      <td>0</td>\n",
       "      <td>2024-02-03</td>\n",
       "      <td>480.0</td>\n",
       "      <td>0.0</td>\n",
       "      <td>0.0</td>\n",
       "      <td>1.000000</td>\n",
       "    </tr>\n",
       "    <tr>\n",
       "      <th>97</th>\n",
       "      <td>TMF010</td>\n",
       "      <td>14</td>\n",
       "      <td>MAT</td>\n",
       "      <td>0</td>\n",
       "      <td>2024-02-03</td>\n",
       "      <td>0.0</td>\n",
       "      <td>426.0</td>\n",
       "      <td>9031.2</td>\n",
       "      <td>0.000000</td>\n",
       "    </tr>\n",
       "  </tbody>\n",
       "</table>\n",
       "<p>98 rows × 9 columns</p>\n",
       "</div>"
      ],
      "text/plain": [
       "   maquina_id linha turno  total_produzido data_registro  desconto_min  \\\n",
       "0      TMF005     1   NOT             8502    2024-02-01          68.0   \n",
       "1      TMF005     1   MAT             5206    2024-02-01          60.0   \n",
       "2      TMF005     1   VES                0    2024-02-01           0.0   \n",
       "3      TMF005     1   NOT                0    2024-02-02         480.0   \n",
       "4      TMF005     1   VES                0    2024-02-02           0.0   \n",
       "..        ...   ...   ...              ...           ...           ...   \n",
       "93     TMF010    14   NOT                0    2024-02-02         480.0   \n",
       "94     TMF010    14   MAT                0    2024-02-02         480.0   \n",
       "95     TMF010    14   VES                0    2024-02-02         480.0   \n",
       "96     TMF010    14   NOT                0    2024-02-03         480.0   \n",
       "97     TMF010    14   MAT                0    2024-02-03           0.0   \n",
       "\n",
       "    tempo_esperado_min  producao_esperada  eficiencia  \n",
       "0                412.0             8734.4    0.973393  \n",
       "1                420.0             8904.0    0.584681  \n",
       "2                480.0            10176.0    0.000000  \n",
       "3                  0.0                0.0    1.000000  \n",
       "4                480.0            10176.0    0.000000  \n",
       "..                 ...                ...         ...  \n",
       "93                 0.0                0.0    1.000000  \n",
       "94                 0.0                0.0    1.000000  \n",
       "95                 0.0                0.0    1.000000  \n",
       "96                 0.0                0.0    1.000000  \n",
       "97               426.0             9031.2    0.000000  \n",
       "\n",
       "[98 rows x 9 columns]"
      ]
     },
     "execution_count": 20,
     "metadata": {},
     "output_type": "execute_result"
    }
   ],
   "source": [
    "df_eff = times_data.get_eff_data(\n",
    "    df_maq_info_occ_combined.copy(), df_maq_info_production_cleaned.copy()\n",
    ")\n",
    "df_eff"
   ]
  },
  {
   "cell_type": "code",
   "execution_count": 21,
   "metadata": {},
   "outputs": [
    {
     "data": {
      "text/html": [
       "<div>\n",
       "<style scoped>\n",
       "    .dataframe tbody tr th:only-of-type {\n",
       "        vertical-align: middle;\n",
       "    }\n",
       "\n",
       "    .dataframe tbody tr th {\n",
       "        vertical-align: top;\n",
       "    }\n",
       "\n",
       "    .dataframe thead th {\n",
       "        text-align: right;\n",
       "    }\n",
       "</style>\n",
       "<table border=\"1\" class=\"dataframe\">\n",
       "  <thead>\n",
       "    <tr style=\"text-align: right;\">\n",
       "      <th></th>\n",
       "      <th>maquina_id</th>\n",
       "      <th>linha</th>\n",
       "      <th>turno</th>\n",
       "      <th>data_registro</th>\n",
       "      <th>desconto_min</th>\n",
       "      <th>afeta</th>\n",
       "      <th>tempo_esperado_min</th>\n",
       "      <th>performance</th>\n",
       "    </tr>\n",
       "  </thead>\n",
       "  <tbody>\n",
       "    <tr>\n",
       "      <th>0</th>\n",
       "      <td>TMF005</td>\n",
       "      <td>1</td>\n",
       "      <td>NOT</td>\n",
       "      <td>2024-02-01</td>\n",
       "      <td>68.0</td>\n",
       "      <td>10.0</td>\n",
       "      <td>412.0</td>\n",
       "      <td>0.024272</td>\n",
       "    </tr>\n",
       "    <tr>\n",
       "      <th>1</th>\n",
       "      <td>TMF005</td>\n",
       "      <td>1</td>\n",
       "      <td>MAT</td>\n",
       "      <td>2024-02-01</td>\n",
       "      <td>60.0</td>\n",
       "      <td>114.0</td>\n",
       "      <td>420.0</td>\n",
       "      <td>0.271429</td>\n",
       "    </tr>\n",
       "    <tr>\n",
       "      <th>2</th>\n",
       "      <td>TMF005</td>\n",
       "      <td>1</td>\n",
       "      <td>VES</td>\n",
       "      <td>2024-02-01</td>\n",
       "      <td>0.0</td>\n",
       "      <td>480.0</td>\n",
       "      <td>480.0</td>\n",
       "      <td>1.000000</td>\n",
       "    </tr>\n",
       "    <tr>\n",
       "      <th>3</th>\n",
       "      <td>TMF005</td>\n",
       "      <td>1</td>\n",
       "      <td>NOT</td>\n",
       "      <td>2024-02-02</td>\n",
       "      <td>0.0</td>\n",
       "      <td>0.0</td>\n",
       "      <td>480.0</td>\n",
       "      <td>0.000000</td>\n",
       "    </tr>\n",
       "    <tr>\n",
       "      <th>4</th>\n",
       "      <td>TMF005</td>\n",
       "      <td>1</td>\n",
       "      <td>VES</td>\n",
       "      <td>2024-02-02</td>\n",
       "      <td>0.0</td>\n",
       "      <td>304.0</td>\n",
       "      <td>480.0</td>\n",
       "      <td>0.633333</td>\n",
       "    </tr>\n",
       "    <tr>\n",
       "      <th>...</th>\n",
       "      <td>...</td>\n",
       "      <td>...</td>\n",
       "      <td>...</td>\n",
       "      <td>...</td>\n",
       "      <td>...</td>\n",
       "      <td>...</td>\n",
       "      <td>...</td>\n",
       "      <td>...</td>\n",
       "    </tr>\n",
       "    <tr>\n",
       "      <th>93</th>\n",
       "      <td>TMF010</td>\n",
       "      <td>14</td>\n",
       "      <td>NOT</td>\n",
       "      <td>2024-02-02</td>\n",
       "      <td>0.0</td>\n",
       "      <td>0.0</td>\n",
       "      <td>480.0</td>\n",
       "      <td>0.000000</td>\n",
       "    </tr>\n",
       "    <tr>\n",
       "      <th>94</th>\n",
       "      <td>TMF010</td>\n",
       "      <td>14</td>\n",
       "      <td>MAT</td>\n",
       "      <td>2024-02-02</td>\n",
       "      <td>0.0</td>\n",
       "      <td>0.0</td>\n",
       "      <td>480.0</td>\n",
       "      <td>0.000000</td>\n",
       "    </tr>\n",
       "    <tr>\n",
       "      <th>95</th>\n",
       "      <td>TMF010</td>\n",
       "      <td>14</td>\n",
       "      <td>VES</td>\n",
       "      <td>2024-02-02</td>\n",
       "      <td>0.0</td>\n",
       "      <td>0.0</td>\n",
       "      <td>480.0</td>\n",
       "      <td>0.000000</td>\n",
       "    </tr>\n",
       "    <tr>\n",
       "      <th>96</th>\n",
       "      <td>TMF010</td>\n",
       "      <td>14</td>\n",
       "      <td>NOT</td>\n",
       "      <td>2024-02-03</td>\n",
       "      <td>0.0</td>\n",
       "      <td>0.0</td>\n",
       "      <td>480.0</td>\n",
       "      <td>0.000000</td>\n",
       "    </tr>\n",
       "    <tr>\n",
       "      <th>97</th>\n",
       "      <td>TMF010</td>\n",
       "      <td>14</td>\n",
       "      <td>MAT</td>\n",
       "      <td>2024-02-03</td>\n",
       "      <td>0.0</td>\n",
       "      <td>0.0</td>\n",
       "      <td>426.0</td>\n",
       "      <td>0.000000</td>\n",
       "    </tr>\n",
       "  </tbody>\n",
       "</table>\n",
       "<p>98 rows × 8 columns</p>\n",
       "</div>"
      ],
      "text/plain": [
       "   maquina_id linha turno data_registro  desconto_min  afeta  \\\n",
       "0      TMF005     1   NOT    2024-02-01          68.0   10.0   \n",
       "1      TMF005     1   MAT    2024-02-01          60.0  114.0   \n",
       "2      TMF005     1   VES    2024-02-01           0.0  480.0   \n",
       "3      TMF005     1   NOT    2024-02-02           0.0    0.0   \n",
       "4      TMF005     1   VES    2024-02-02           0.0  304.0   \n",
       "..        ...   ...   ...           ...           ...    ...   \n",
       "93     TMF010    14   NOT    2024-02-02           0.0    0.0   \n",
       "94     TMF010    14   MAT    2024-02-02           0.0    0.0   \n",
       "95     TMF010    14   VES    2024-02-02           0.0    0.0   \n",
       "96     TMF010    14   NOT    2024-02-03           0.0    0.0   \n",
       "97     TMF010    14   MAT    2024-02-03           0.0    0.0   \n",
       "\n",
       "    tempo_esperado_min  performance  \n",
       "0                412.0     0.024272  \n",
       "1                420.0     0.271429  \n",
       "2                480.0     1.000000  \n",
       "3                480.0     0.000000  \n",
       "4                480.0     0.633333  \n",
       "..                 ...          ...  \n",
       "93               480.0     0.000000  \n",
       "94               480.0     0.000000  \n",
       "95               480.0     0.000000  \n",
       "96               480.0     0.000000  \n",
       "97               426.0     0.000000  \n",
       "\n",
       "[98 rows x 8 columns]"
      ]
     },
     "execution_count": 21,
     "metadata": {},
     "output_type": "execute_result"
    }
   ],
   "source": [
    "df_perf = times_data.get_perf_data(\n",
    "    df_maq_info_occ_combined.copy(), df_maq_info_production_cleaned.copy()\n",
    ")\n",
    "df_perf"
   ]
  },
  {
   "cell_type": "code",
   "execution_count": 22,
   "metadata": {},
   "outputs": [
    {
     "data": {
      "text/html": [
       "<div>\n",
       "<style scoped>\n",
       "    .dataframe tbody tr th:only-of-type {\n",
       "        vertical-align: middle;\n",
       "    }\n",
       "\n",
       "    .dataframe tbody tr th {\n",
       "        vertical-align: top;\n",
       "    }\n",
       "\n",
       "    .dataframe thead th {\n",
       "        text-align: right;\n",
       "    }\n",
       "</style>\n",
       "<table border=\"1\" class=\"dataframe\">\n",
       "  <thead>\n",
       "    <tr style=\"text-align: right;\">\n",
       "      <th></th>\n",
       "      <th>maquina_id</th>\n",
       "      <th>linha</th>\n",
       "      <th>turno</th>\n",
       "      <th>data_registro</th>\n",
       "      <th>desconto_min</th>\n",
       "      <th>afeta</th>\n",
       "      <th>tempo_esperado_min</th>\n",
       "      <th>reparo</th>\n",
       "    </tr>\n",
       "  </thead>\n",
       "  <tbody>\n",
       "    <tr>\n",
       "      <th>0</th>\n",
       "      <td>TMF005</td>\n",
       "      <td>1</td>\n",
       "      <td>NOT</td>\n",
       "      <td>2024-02-01</td>\n",
       "      <td>0.0</td>\n",
       "      <td>0.0</td>\n",
       "      <td>480.0</td>\n",
       "      <td>0.0</td>\n",
       "    </tr>\n",
       "    <tr>\n",
       "      <th>1</th>\n",
       "      <td>TMF005</td>\n",
       "      <td>1</td>\n",
       "      <td>MAT</td>\n",
       "      <td>2024-02-01</td>\n",
       "      <td>0.0</td>\n",
       "      <td>0.0</td>\n",
       "      <td>480.0</td>\n",
       "      <td>0.0</td>\n",
       "    </tr>\n",
       "    <tr>\n",
       "      <th>2</th>\n",
       "      <td>TMF005</td>\n",
       "      <td>1</td>\n",
       "      <td>VES</td>\n",
       "      <td>2024-02-01</td>\n",
       "      <td>0.0</td>\n",
       "      <td>0.0</td>\n",
       "      <td>480.0</td>\n",
       "      <td>0.0</td>\n",
       "    </tr>\n",
       "    <tr>\n",
       "      <th>3</th>\n",
       "      <td>TMF005</td>\n",
       "      <td>1</td>\n",
       "      <td>NOT</td>\n",
       "      <td>2024-02-02</td>\n",
       "      <td>0.0</td>\n",
       "      <td>0.0</td>\n",
       "      <td>480.0</td>\n",
       "      <td>0.0</td>\n",
       "    </tr>\n",
       "    <tr>\n",
       "      <th>4</th>\n",
       "      <td>TMF005</td>\n",
       "      <td>1</td>\n",
       "      <td>VES</td>\n",
       "      <td>2024-02-02</td>\n",
       "      <td>0.0</td>\n",
       "      <td>0.0</td>\n",
       "      <td>480.0</td>\n",
       "      <td>0.0</td>\n",
       "    </tr>\n",
       "    <tr>\n",
       "      <th>...</th>\n",
       "      <td>...</td>\n",
       "      <td>...</td>\n",
       "      <td>...</td>\n",
       "      <td>...</td>\n",
       "      <td>...</td>\n",
       "      <td>...</td>\n",
       "      <td>...</td>\n",
       "      <td>...</td>\n",
       "    </tr>\n",
       "    <tr>\n",
       "      <th>93</th>\n",
       "      <td>TMF010</td>\n",
       "      <td>14</td>\n",
       "      <td>NOT</td>\n",
       "      <td>2024-02-02</td>\n",
       "      <td>0.0</td>\n",
       "      <td>0.0</td>\n",
       "      <td>480.0</td>\n",
       "      <td>0.0</td>\n",
       "    </tr>\n",
       "    <tr>\n",
       "      <th>94</th>\n",
       "      <td>TMF010</td>\n",
       "      <td>14</td>\n",
       "      <td>MAT</td>\n",
       "      <td>2024-02-02</td>\n",
       "      <td>0.0</td>\n",
       "      <td>0.0</td>\n",
       "      <td>480.0</td>\n",
       "      <td>0.0</td>\n",
       "    </tr>\n",
       "    <tr>\n",
       "      <th>95</th>\n",
       "      <td>TMF010</td>\n",
       "      <td>14</td>\n",
       "      <td>VES</td>\n",
       "      <td>2024-02-02</td>\n",
       "      <td>0.0</td>\n",
       "      <td>0.0</td>\n",
       "      <td>480.0</td>\n",
       "      <td>0.0</td>\n",
       "    </tr>\n",
       "    <tr>\n",
       "      <th>96</th>\n",
       "      <td>TMF010</td>\n",
       "      <td>14</td>\n",
       "      <td>NOT</td>\n",
       "      <td>2024-02-03</td>\n",
       "      <td>0.0</td>\n",
       "      <td>0.0</td>\n",
       "      <td>480.0</td>\n",
       "      <td>0.0</td>\n",
       "    </tr>\n",
       "    <tr>\n",
       "      <th>97</th>\n",
       "      <td>TMF010</td>\n",
       "      <td>14</td>\n",
       "      <td>MAT</td>\n",
       "      <td>2024-02-03</td>\n",
       "      <td>0.0</td>\n",
       "      <td>0.0</td>\n",
       "      <td>426.0</td>\n",
       "      <td>0.0</td>\n",
       "    </tr>\n",
       "  </tbody>\n",
       "</table>\n",
       "<p>98 rows × 8 columns</p>\n",
       "</div>"
      ],
      "text/plain": [
       "   maquina_id linha turno data_registro  desconto_min  afeta  \\\n",
       "0      TMF005     1   NOT    2024-02-01           0.0    0.0   \n",
       "1      TMF005     1   MAT    2024-02-01           0.0    0.0   \n",
       "2      TMF005     1   VES    2024-02-01           0.0    0.0   \n",
       "3      TMF005     1   NOT    2024-02-02           0.0    0.0   \n",
       "4      TMF005     1   VES    2024-02-02           0.0    0.0   \n",
       "..        ...   ...   ...           ...           ...    ...   \n",
       "93     TMF010    14   NOT    2024-02-02           0.0    0.0   \n",
       "94     TMF010    14   MAT    2024-02-02           0.0    0.0   \n",
       "95     TMF010    14   VES    2024-02-02           0.0    0.0   \n",
       "96     TMF010    14   NOT    2024-02-03           0.0    0.0   \n",
       "97     TMF010    14   MAT    2024-02-03           0.0    0.0   \n",
       "\n",
       "    tempo_esperado_min  reparo  \n",
       "0                480.0     0.0  \n",
       "1                480.0     0.0  \n",
       "2                480.0     0.0  \n",
       "3                480.0     0.0  \n",
       "4                480.0     0.0  \n",
       "..                 ...     ...  \n",
       "93               480.0     0.0  \n",
       "94               480.0     0.0  \n",
       "95               480.0     0.0  \n",
       "96               480.0     0.0  \n",
       "97               426.0     0.0  \n",
       "\n",
       "[98 rows x 8 columns]"
      ]
     },
     "execution_count": 22,
     "metadata": {},
     "output_type": "execute_result"
    }
   ],
   "source": [
    "df_reparos = times_data.get_reparos_data(\n",
    "    df_maq_info_occ_combined.copy(), df_maq_info_production_cleaned.copy()\n",
    ")\n",
    "df_reparos"
   ]
  },
  {
   "cell_type": "markdown",
   "metadata": {},
   "source": [
    "# Gráficos\n"
   ]
  },
  {
   "cell_type": "code",
   "execution_count": 23,
   "metadata": {},
   "outputs": [
    {
     "data": {
      "application/vnd.plotly.v1+json": {
       "config": {
        "plotlyServerURL": "https://plot.ly"
       },
       "data": [
        {
         "colorscale": [
          [
           0,
           "#e30613"
          ],
          [
           0.9,
           "#e30613"
          ],
          [
           0.9,
           "#00a13a"
          ],
          [
           1,
           "#00a13a"
          ]
         ],
         "hoverongaps": false,
         "hovertemplate": "Turno: %{y}<br>Dia: %{x}<br>Valor: %{z:.1%}",
         "showscale": false,
         "type": "heatmap",
         "x": [
          1,
          2,
          3
         ],
         "xgap": 1,
         "y": [
          "VES",
          "MAT",
          "NOT"
         ],
         "ygap": 1,
         "z": [
          [
           0.08280418480890178,
           0.3076923076923077,
           0
          ],
          [
           0.657558614716309,
           1,
           0
          ],
          [
           0.7630706909553601,
           1,
           0.8461538461538461
          ]
         ],
         "zmax": 1,
         "zmin": 0
        }
       ],
       "layout": {
        "annotations": [
         {
          "font": {
           "color": "white",
           "size": 8
          },
          "showarrow": false,
          "text": "8.3%",
          "x": 1,
          "y": "VES"
         },
         {
          "font": {
           "color": "white",
           "size": 8
          },
          "showarrow": false,
          "text": "30.8%",
          "x": 2,
          "y": "VES"
         },
         {
          "font": {
           "color": "white",
           "size": 8
          },
          "showarrow": false,
          "text": "0.0%",
          "x": 3,
          "y": "VES"
         },
         {
          "font": {
           "color": "white",
           "size": 8
          },
          "showarrow": false,
          "text": "65.8%",
          "x": 1,
          "y": "MAT"
         },
         {
          "font": {
           "color": "white",
           "size": 8
          },
          "showarrow": false,
          "text": "100.0%",
          "x": 2,
          "y": "MAT"
         },
         {
          "font": {
           "color": "white",
           "size": 8
          },
          "showarrow": false,
          "text": "0.0%",
          "x": 3,
          "y": "MAT"
         },
         {
          "font": {
           "color": "white",
           "size": 8
          },
          "showarrow": false,
          "text": "76.3%",
          "x": 1,
          "y": "NOT"
         },
         {
          "font": {
           "color": "white",
           "size": 8
          },
          "showarrow": false,
          "text": "100.0%",
          "x": 2,
          "y": "NOT"
         },
         {
          "font": {
           "color": "white",
           "size": 8
          },
          "showarrow": false,
          "text": "84.6%",
          "x": 3,
          "y": "NOT"
         }
        ],
        "font": {
         "family": "Inter"
        },
        "margin": {
         "b": 40,
         "l": 40,
         "r": 40,
         "t": 40
        },
        "plot_bgcolor": "white",
        "template": {
         "data": {
          "bar": [
           {
            "error_x": {
             "color": "#2a3f5f"
            },
            "error_y": {
             "color": "#2a3f5f"
            },
            "marker": {
             "line": {
              "color": "#E5ECF6",
              "width": 0.5
             },
             "pattern": {
              "fillmode": "overlay",
              "size": 10,
              "solidity": 0.2
             }
            },
            "type": "bar"
           }
          ],
          "barpolar": [
           {
            "marker": {
             "line": {
              "color": "#E5ECF6",
              "width": 0.5
             },
             "pattern": {
              "fillmode": "overlay",
              "size": 10,
              "solidity": 0.2
             }
            },
            "type": "barpolar"
           }
          ],
          "carpet": [
           {
            "aaxis": {
             "endlinecolor": "#2a3f5f",
             "gridcolor": "white",
             "linecolor": "white",
             "minorgridcolor": "white",
             "startlinecolor": "#2a3f5f"
            },
            "baxis": {
             "endlinecolor": "#2a3f5f",
             "gridcolor": "white",
             "linecolor": "white",
             "minorgridcolor": "white",
             "startlinecolor": "#2a3f5f"
            },
            "type": "carpet"
           }
          ],
          "choropleth": [
           {
            "colorbar": {
             "outlinewidth": 0,
             "ticks": ""
            },
            "type": "choropleth"
           }
          ],
          "contour": [
           {
            "colorbar": {
             "outlinewidth": 0,
             "ticks": ""
            },
            "colorscale": [
             [
              0,
              "#0d0887"
             ],
             [
              0.1111111111111111,
              "#46039f"
             ],
             [
              0.2222222222222222,
              "#7201a8"
             ],
             [
              0.3333333333333333,
              "#9c179e"
             ],
             [
              0.4444444444444444,
              "#bd3786"
             ],
             [
              0.5555555555555556,
              "#d8576b"
             ],
             [
              0.6666666666666666,
              "#ed7953"
             ],
             [
              0.7777777777777778,
              "#fb9f3a"
             ],
             [
              0.8888888888888888,
              "#fdca26"
             ],
             [
              1,
              "#f0f921"
             ]
            ],
            "type": "contour"
           }
          ],
          "contourcarpet": [
           {
            "colorbar": {
             "outlinewidth": 0,
             "ticks": ""
            },
            "type": "contourcarpet"
           }
          ],
          "heatmap": [
           {
            "colorbar": {
             "outlinewidth": 0,
             "ticks": ""
            },
            "colorscale": [
             [
              0,
              "#0d0887"
             ],
             [
              0.1111111111111111,
              "#46039f"
             ],
             [
              0.2222222222222222,
              "#7201a8"
             ],
             [
              0.3333333333333333,
              "#9c179e"
             ],
             [
              0.4444444444444444,
              "#bd3786"
             ],
             [
              0.5555555555555556,
              "#d8576b"
             ],
             [
              0.6666666666666666,
              "#ed7953"
             ],
             [
              0.7777777777777778,
              "#fb9f3a"
             ],
             [
              0.8888888888888888,
              "#fdca26"
             ],
             [
              1,
              "#f0f921"
             ]
            ],
            "type": "heatmap"
           }
          ],
          "heatmapgl": [
           {
            "colorbar": {
             "outlinewidth": 0,
             "ticks": ""
            },
            "colorscale": [
             [
              0,
              "#0d0887"
             ],
             [
              0.1111111111111111,
              "#46039f"
             ],
             [
              0.2222222222222222,
              "#7201a8"
             ],
             [
              0.3333333333333333,
              "#9c179e"
             ],
             [
              0.4444444444444444,
              "#bd3786"
             ],
             [
              0.5555555555555556,
              "#d8576b"
             ],
             [
              0.6666666666666666,
              "#ed7953"
             ],
             [
              0.7777777777777778,
              "#fb9f3a"
             ],
             [
              0.8888888888888888,
              "#fdca26"
             ],
             [
              1,
              "#f0f921"
             ]
            ],
            "type": "heatmapgl"
           }
          ],
          "histogram": [
           {
            "marker": {
             "pattern": {
              "fillmode": "overlay",
              "size": 10,
              "solidity": 0.2
             }
            },
            "type": "histogram"
           }
          ],
          "histogram2d": [
           {
            "colorbar": {
             "outlinewidth": 0,
             "ticks": ""
            },
            "colorscale": [
             [
              0,
              "#0d0887"
             ],
             [
              0.1111111111111111,
              "#46039f"
             ],
             [
              0.2222222222222222,
              "#7201a8"
             ],
             [
              0.3333333333333333,
              "#9c179e"
             ],
             [
              0.4444444444444444,
              "#bd3786"
             ],
             [
              0.5555555555555556,
              "#d8576b"
             ],
             [
              0.6666666666666666,
              "#ed7953"
             ],
             [
              0.7777777777777778,
              "#fb9f3a"
             ],
             [
              0.8888888888888888,
              "#fdca26"
             ],
             [
              1,
              "#f0f921"
             ]
            ],
            "type": "histogram2d"
           }
          ],
          "histogram2dcontour": [
           {
            "colorbar": {
             "outlinewidth": 0,
             "ticks": ""
            },
            "colorscale": [
             [
              0,
              "#0d0887"
             ],
             [
              0.1111111111111111,
              "#46039f"
             ],
             [
              0.2222222222222222,
              "#7201a8"
             ],
             [
              0.3333333333333333,
              "#9c179e"
             ],
             [
              0.4444444444444444,
              "#bd3786"
             ],
             [
              0.5555555555555556,
              "#d8576b"
             ],
             [
              0.6666666666666666,
              "#ed7953"
             ],
             [
              0.7777777777777778,
              "#fb9f3a"
             ],
             [
              0.8888888888888888,
              "#fdca26"
             ],
             [
              1,
              "#f0f921"
             ]
            ],
            "type": "histogram2dcontour"
           }
          ],
          "mesh3d": [
           {
            "colorbar": {
             "outlinewidth": 0,
             "ticks": ""
            },
            "type": "mesh3d"
           }
          ],
          "parcoords": [
           {
            "line": {
             "colorbar": {
              "outlinewidth": 0,
              "ticks": ""
             }
            },
            "type": "parcoords"
           }
          ],
          "pie": [
           {
            "automargin": true,
            "type": "pie"
           }
          ],
          "scatter": [
           {
            "fillpattern": {
             "fillmode": "overlay",
             "size": 10,
             "solidity": 0.2
            },
            "type": "scatter"
           }
          ],
          "scatter3d": [
           {
            "line": {
             "colorbar": {
              "outlinewidth": 0,
              "ticks": ""
             }
            },
            "marker": {
             "colorbar": {
              "outlinewidth": 0,
              "ticks": ""
             }
            },
            "type": "scatter3d"
           }
          ],
          "scattercarpet": [
           {
            "marker": {
             "colorbar": {
              "outlinewidth": 0,
              "ticks": ""
             }
            },
            "type": "scattercarpet"
           }
          ],
          "scattergeo": [
           {
            "marker": {
             "colorbar": {
              "outlinewidth": 0,
              "ticks": ""
             }
            },
            "type": "scattergeo"
           }
          ],
          "scattergl": [
           {
            "marker": {
             "colorbar": {
              "outlinewidth": 0,
              "ticks": ""
             }
            },
            "type": "scattergl"
           }
          ],
          "scattermapbox": [
           {
            "marker": {
             "colorbar": {
              "outlinewidth": 0,
              "ticks": ""
             }
            },
            "type": "scattermapbox"
           }
          ],
          "scatterpolar": [
           {
            "marker": {
             "colorbar": {
              "outlinewidth": 0,
              "ticks": ""
             }
            },
            "type": "scatterpolar"
           }
          ],
          "scatterpolargl": [
           {
            "marker": {
             "colorbar": {
              "outlinewidth": 0,
              "ticks": ""
             }
            },
            "type": "scatterpolargl"
           }
          ],
          "scatterternary": [
           {
            "marker": {
             "colorbar": {
              "outlinewidth": 0,
              "ticks": ""
             }
            },
            "type": "scatterternary"
           }
          ],
          "surface": [
           {
            "colorbar": {
             "outlinewidth": 0,
             "ticks": ""
            },
            "colorscale": [
             [
              0,
              "#0d0887"
             ],
             [
              0.1111111111111111,
              "#46039f"
             ],
             [
              0.2222222222222222,
              "#7201a8"
             ],
             [
              0.3333333333333333,
              "#9c179e"
             ],
             [
              0.4444444444444444,
              "#bd3786"
             ],
             [
              0.5555555555555556,
              "#d8576b"
             ],
             [
              0.6666666666666666,
              "#ed7953"
             ],
             [
              0.7777777777777778,
              "#fb9f3a"
             ],
             [
              0.8888888888888888,
              "#fdca26"
             ],
             [
              1,
              "#f0f921"
             ]
            ],
            "type": "surface"
           }
          ],
          "table": [
           {
            "cells": {
             "fill": {
              "color": "#EBF0F8"
             },
             "line": {
              "color": "white"
             }
            },
            "header": {
             "fill": {
              "color": "#C8D4E3"
             },
             "line": {
              "color": "white"
             }
            },
            "type": "table"
           }
          ]
         },
         "layout": {
          "annotationdefaults": {
           "arrowcolor": "#2a3f5f",
           "arrowhead": 0,
           "arrowwidth": 1
          },
          "autotypenumbers": "strict",
          "coloraxis": {
           "colorbar": {
            "outlinewidth": 0,
            "ticks": ""
           }
          },
          "colorscale": {
           "diverging": [
            [
             0,
             "#8e0152"
            ],
            [
             0.1,
             "#c51b7d"
            ],
            [
             0.2,
             "#de77ae"
            ],
            [
             0.3,
             "#f1b6da"
            ],
            [
             0.4,
             "#fde0ef"
            ],
            [
             0.5,
             "#f7f7f7"
            ],
            [
             0.6,
             "#e6f5d0"
            ],
            [
             0.7,
             "#b8e186"
            ],
            [
             0.8,
             "#7fbc41"
            ],
            [
             0.9,
             "#4d9221"
            ],
            [
             1,
             "#276419"
            ]
           ],
           "sequential": [
            [
             0,
             "#0d0887"
            ],
            [
             0.1111111111111111,
             "#46039f"
            ],
            [
             0.2222222222222222,
             "#7201a8"
            ],
            [
             0.3333333333333333,
             "#9c179e"
            ],
            [
             0.4444444444444444,
             "#bd3786"
            ],
            [
             0.5555555555555556,
             "#d8576b"
            ],
            [
             0.6666666666666666,
             "#ed7953"
            ],
            [
             0.7777777777777778,
             "#fb9f3a"
            ],
            [
             0.8888888888888888,
             "#fdca26"
            ],
            [
             1,
             "#f0f921"
            ]
           ],
           "sequentialminus": [
            [
             0,
             "#0d0887"
            ],
            [
             0.1111111111111111,
             "#46039f"
            ],
            [
             0.2222222222222222,
             "#7201a8"
            ],
            [
             0.3333333333333333,
             "#9c179e"
            ],
            [
             0.4444444444444444,
             "#bd3786"
            ],
            [
             0.5555555555555556,
             "#d8576b"
            ],
            [
             0.6666666666666666,
             "#ed7953"
            ],
            [
             0.7777777777777778,
             "#fb9f3a"
            ],
            [
             0.8888888888888888,
             "#fdca26"
            ],
            [
             1,
             "#f0f921"
            ]
           ]
          },
          "colorway": [
           "#636efa",
           "#EF553B",
           "#00cc96",
           "#ab63fa",
           "#FFA15A",
           "#19d3f3",
           "#FF6692",
           "#B6E880",
           "#FF97FF",
           "#FECB52"
          ],
          "font": {
           "color": "#2a3f5f"
          },
          "geo": {
           "bgcolor": "white",
           "lakecolor": "white",
           "landcolor": "#E5ECF6",
           "showlakes": true,
           "showland": true,
           "subunitcolor": "white"
          },
          "hoverlabel": {
           "align": "left"
          },
          "hovermode": "closest",
          "mapbox": {
           "style": "light"
          },
          "paper_bgcolor": "white",
          "plot_bgcolor": "#E5ECF6",
          "polar": {
           "angularaxis": {
            "gridcolor": "white",
            "linecolor": "white",
            "ticks": ""
           },
           "bgcolor": "#E5ECF6",
           "radialaxis": {
            "gridcolor": "white",
            "linecolor": "white",
            "ticks": ""
           }
          },
          "scene": {
           "xaxis": {
            "backgroundcolor": "#E5ECF6",
            "gridcolor": "white",
            "gridwidth": 2,
            "linecolor": "white",
            "showbackground": true,
            "ticks": "",
            "zerolinecolor": "white"
           },
           "yaxis": {
            "backgroundcolor": "#E5ECF6",
            "gridcolor": "white",
            "gridwidth": 2,
            "linecolor": "white",
            "showbackground": true,
            "ticks": "",
            "zerolinecolor": "white"
           },
           "zaxis": {
            "backgroundcolor": "#E5ECF6",
            "gridcolor": "white",
            "gridwidth": 2,
            "linecolor": "white",
            "showbackground": true,
            "ticks": "",
            "zerolinecolor": "white"
           }
          },
          "shapedefaults": {
           "line": {
            "color": "#2a3f5f"
           }
          },
          "ternary": {
           "aaxis": {
            "gridcolor": "white",
            "linecolor": "white",
            "ticks": ""
           },
           "baxis": {
            "gridcolor": "white",
            "linecolor": "white",
            "ticks": ""
           },
           "bgcolor": "#E5ECF6",
           "caxis": {
            "gridcolor": "white",
            "linecolor": "white",
            "ticks": ""
           }
          },
          "title": {
           "x": 0.05
          },
          "xaxis": {
           "automargin": true,
           "gridcolor": "white",
           "linecolor": "white",
           "ticks": "",
           "title": {
            "standoff": 15
           },
           "zerolinecolor": "white",
           "zerolinewidth": 2
          },
          "yaxis": {
           "automargin": true,
           "gridcolor": "white",
           "linecolor": "white",
           "ticks": "",
           "title": {
            "standoff": 15
           },
           "zerolinecolor": "white",
           "zerolinewidth": 2
          }
         }
        },
        "title": {
         "text": "Eficiência - Meta 85%",
         "x": 0.5
        },
        "xaxis": {
         "nticks": 31,
         "tickangle": 45,
         "tickmode": "linear",
         "ticktext": [
          1,
          2,
          3,
          4,
          5,
          6,
          7,
          8,
          9,
          10,
          11,
          12,
          13,
          14,
          15,
          16,
          17,
          18,
          19,
          20,
          21,
          22,
          23,
          24,
          25,
          26,
          27,
          28,
          29,
          30,
          31
         ],
         "tickvals": [
          1,
          2,
          3,
          4,
          5,
          6,
          7,
          8,
          9,
          10,
          11,
          12,
          13,
          14,
          15,
          16,
          17,
          18,
          19,
          20,
          21,
          22,
          23,
          24,
          25,
          26,
          27,
          28,
          29,
          30,
          31
         ],
         "title": {
          "text": "Dia"
         }
        },
        "yaxis": {
         "tickangle": 45,
         "tickmode": "linear",
         "title": {
          "text": "Turno"
         }
        }
       }
      }
     },
     "metadata": {},
     "output_type": "display_data"
    }
   ],
   "source": [
    "# cSpell: disable=invalid-name\n",
    "def test(dataframe, meta):\n",
    "    # Converter 'data_registro' para datetime e criar uma nova coluna 'data_turno'\n",
    "    dataframe[\"data_registro\"] = pd.to_datetime(dataframe[\"data_registro\"])\n",
    "    dataframe[\"data_turno\"] = dataframe[\"data_registro\"].dt.strftime(\"%Y-%m-%d\")\n",
    "\n",
    "    # Agrupar por 'data_turno' e 'turno' e calcular a média da eficiência\n",
    "    df_grouped = (\n",
    "        dataframe.groupby([\"data_turno\", \"turno\"], observed=False)[\"eficiencia\"]\n",
    "        .mean()\n",
    "        .reset_index()\n",
    "    )\n",
    "\n",
    "    # Remodelar os dados para o formato de heatmap\n",
    "    df_pivot = df_grouped.pivot(index=\"turno\", columns=\"data_turno\", values=\"eficiencia\")\n",
    "\n",
    "    # Reordenar o índice do DataFrame\n",
    "    df_pivot = df_pivot.reindex([\"VES\", \"MAT\", \"NOT\"])\n",
    "\n",
    "    # Criar escala de cores personalizada - cores do bootstrap\n",
    "    colors = [\n",
    "        [0, \"#e30613\"],\n",
    "        [0.9, \"#e30613\"],\n",
    "        [0.9, \"#00a13a\"],\n",
    "        [1, \"#00a13a\"],\n",
    "    ]\n",
    "\n",
    "    # Extrair apenas o dia da data\n",
    "    df_pivot.columns = pd.to_datetime(df_pivot.columns).day\n",
    "\n",
    "    # Criar o gráfico de calor\n",
    "    fig = go.Figure(\n",
    "        data=go.Heatmap(\n",
    "            z=df_pivot.values,\n",
    "            x=df_pivot.columns,\n",
    "            y=df_pivot.index,\n",
    "            colorscale=colors,\n",
    "            zmin=0,\n",
    "            zmax=1,  # Escala de valores de 0 a 1\n",
    "            hoverongaps=False,\n",
    "            hovertemplate=\"Turno: %{y}<br>Dia: %{x}<br>Valor: %{z:.1%}\",\n",
    "            showscale=False,  # Não mostrar a escala de cores\n",
    "            xgap=1,  # Espaçamento entre os dias\n",
    "            ygap=1,  # Espaçamento entre os turnos\n",
    "        )\n",
    "    )\n",
    "\n",
    "    # Adicionar anotações com a média da eficiência\n",
    "    for (i, j), value in np.ndenumerate(df_pivot.values):\n",
    "        fig.add_annotation(\n",
    "            x=df_pivot.columns[j],\n",
    "            y=df_pivot.index[i],\n",
    "            text=f\"{value:.1%}\",\n",
    "            showarrow=False,\n",
    "            font=dict(color=\"white\", size=8),\n",
    "        )\n",
    "\n",
    "    # Definir o título do gráfico\n",
    "    fig.update_layout(\n",
    "        title=f\"Eficiência - Meta {meta}%\",\n",
    "        xaxis_title=\"Dia\",\n",
    "        yaxis_title=\"Turno\",\n",
    "        title_x=0.5,  # Centralizar o título\n",
    "        xaxis_nticks=31,  # Definir o número de dias\n",
    "        xaxis=dict(\n",
    "            tickmode=\"linear\",\n",
    "            tickvals=list(range(1, 32)),  # Definir os dias\n",
    "            ticktext=list(range(1, 32)),  # Definir os dias\n",
    "            tickangle=45,  # Rotacionar os dias\n",
    "        ),\n",
    "        yaxis=dict(\n",
    "            tickmode=\"linear\",\n",
    "            tickangle=45,\n",
    "        ),\n",
    "        plot_bgcolor=\"white\",\n",
    "        margin=dict(t=40, b=40, l=40, r=40),\n",
    "        font=dict({\"family\": \"Inter\"}),\n",
    "    )\n",
    "\n",
    "    fig.show()\n",
    "\n",
    "\n",
    "test(df_eff, 85)"
   ]
  },
  {
   "cell_type": "code",
   "execution_count": 24,
   "metadata": {},
   "outputs": [
    {
     "data": {
      "application/vnd.plotly.v1+json": {
       "config": {
        "plotlyServerURL": "https://plot.ly"
       },
       "data": [
        {
         "colorscale": [
          [
           0,
           "green"
          ],
          [
           0.04,
           "green"
          ],
          [
           0.04,
           "red"
          ],
          [
           1,
           "red"
          ]
         ],
         "hoverongaps": false,
         "hovertemplate": "Turno: %{y}<br>Dia: %{x}<br>Valor: %{z:.1%}",
         "showscale": false,
         "type": "heatmap",
         "x": [
          1,
          2,
          3
         ],
         "xgap": 1,
         "y": [
          "VES",
          "MAT",
          "NOT"
         ],
         "ygap": 1,
         "z": [
          [
           0.9134615384615384,
           0.43653846153846154,
           0
          ],
          [
           0.13841575091575092,
           0,
           0
          ],
          [
           0.07207655790416861,
           0,
           0.07692307692307693
          ]
         ],
         "zmax": 1,
         "zmin": 0
        }
       ],
       "layout": {
        "annotations": [
         {
          "font": {
           "color": "white",
           "size": 8
          },
          "showarrow": false,
          "text": "91.3%",
          "x": 1,
          "y": "VES"
         },
         {
          "font": {
           "color": "white",
           "size": 8
          },
          "showarrow": false,
          "text": "43.7%",
          "x": 2,
          "y": "VES"
         },
         {
          "font": {
           "color": "white",
           "size": 8
          },
          "showarrow": false,
          "text": "0.0%",
          "x": 3,
          "y": "VES"
         },
         {
          "font": {
           "color": "white",
           "size": 8
          },
          "showarrow": false,
          "text": "13.8%",
          "x": 1,
          "y": "MAT"
         },
         {
          "font": {
           "color": "white",
           "size": 8
          },
          "showarrow": false,
          "text": "0.0%",
          "x": 2,
          "y": "MAT"
         },
         {
          "font": {
           "color": "white",
           "size": 8
          },
          "showarrow": false,
          "text": "0.0%",
          "x": 3,
          "y": "MAT"
         },
         {
          "font": {
           "color": "white",
           "size": 8
          },
          "showarrow": false,
          "text": "7.2%",
          "x": 1,
          "y": "NOT"
         },
         {
          "font": {
           "color": "white",
           "size": 8
          },
          "showarrow": false,
          "text": "0.0%",
          "x": 2,
          "y": "NOT"
         },
         {
          "font": {
           "color": "white",
           "size": 8
          },
          "showarrow": false,
          "text": "7.7%",
          "x": 3,
          "y": "NOT"
         }
        ],
        "font": {
         "family": "Inter"
        },
        "margin": {
         "b": 40,
         "l": 40,
         "r": 40,
         "t": 40
        },
        "plot_bgcolor": "white",
        "template": {
         "data": {
          "bar": [
           {
            "error_x": {
             "color": "#2a3f5f"
            },
            "error_y": {
             "color": "#2a3f5f"
            },
            "marker": {
             "line": {
              "color": "#E5ECF6",
              "width": 0.5
             },
             "pattern": {
              "fillmode": "overlay",
              "size": 10,
              "solidity": 0.2
             }
            },
            "type": "bar"
           }
          ],
          "barpolar": [
           {
            "marker": {
             "line": {
              "color": "#E5ECF6",
              "width": 0.5
             },
             "pattern": {
              "fillmode": "overlay",
              "size": 10,
              "solidity": 0.2
             }
            },
            "type": "barpolar"
           }
          ],
          "carpet": [
           {
            "aaxis": {
             "endlinecolor": "#2a3f5f",
             "gridcolor": "white",
             "linecolor": "white",
             "minorgridcolor": "white",
             "startlinecolor": "#2a3f5f"
            },
            "baxis": {
             "endlinecolor": "#2a3f5f",
             "gridcolor": "white",
             "linecolor": "white",
             "minorgridcolor": "white",
             "startlinecolor": "#2a3f5f"
            },
            "type": "carpet"
           }
          ],
          "choropleth": [
           {
            "colorbar": {
             "outlinewidth": 0,
             "ticks": ""
            },
            "type": "choropleth"
           }
          ],
          "contour": [
           {
            "colorbar": {
             "outlinewidth": 0,
             "ticks": ""
            },
            "colorscale": [
             [
              0,
              "#0d0887"
             ],
             [
              0.1111111111111111,
              "#46039f"
             ],
             [
              0.2222222222222222,
              "#7201a8"
             ],
             [
              0.3333333333333333,
              "#9c179e"
             ],
             [
              0.4444444444444444,
              "#bd3786"
             ],
             [
              0.5555555555555556,
              "#d8576b"
             ],
             [
              0.6666666666666666,
              "#ed7953"
             ],
             [
              0.7777777777777778,
              "#fb9f3a"
             ],
             [
              0.8888888888888888,
              "#fdca26"
             ],
             [
              1,
              "#f0f921"
             ]
            ],
            "type": "contour"
           }
          ],
          "contourcarpet": [
           {
            "colorbar": {
             "outlinewidth": 0,
             "ticks": ""
            },
            "type": "contourcarpet"
           }
          ],
          "heatmap": [
           {
            "colorbar": {
             "outlinewidth": 0,
             "ticks": ""
            },
            "colorscale": [
             [
              0,
              "#0d0887"
             ],
             [
              0.1111111111111111,
              "#46039f"
             ],
             [
              0.2222222222222222,
              "#7201a8"
             ],
             [
              0.3333333333333333,
              "#9c179e"
             ],
             [
              0.4444444444444444,
              "#bd3786"
             ],
             [
              0.5555555555555556,
              "#d8576b"
             ],
             [
              0.6666666666666666,
              "#ed7953"
             ],
             [
              0.7777777777777778,
              "#fb9f3a"
             ],
             [
              0.8888888888888888,
              "#fdca26"
             ],
             [
              1,
              "#f0f921"
             ]
            ],
            "type": "heatmap"
           }
          ],
          "heatmapgl": [
           {
            "colorbar": {
             "outlinewidth": 0,
             "ticks": ""
            },
            "colorscale": [
             [
              0,
              "#0d0887"
             ],
             [
              0.1111111111111111,
              "#46039f"
             ],
             [
              0.2222222222222222,
              "#7201a8"
             ],
             [
              0.3333333333333333,
              "#9c179e"
             ],
             [
              0.4444444444444444,
              "#bd3786"
             ],
             [
              0.5555555555555556,
              "#d8576b"
             ],
             [
              0.6666666666666666,
              "#ed7953"
             ],
             [
              0.7777777777777778,
              "#fb9f3a"
             ],
             [
              0.8888888888888888,
              "#fdca26"
             ],
             [
              1,
              "#f0f921"
             ]
            ],
            "type": "heatmapgl"
           }
          ],
          "histogram": [
           {
            "marker": {
             "pattern": {
              "fillmode": "overlay",
              "size": 10,
              "solidity": 0.2
             }
            },
            "type": "histogram"
           }
          ],
          "histogram2d": [
           {
            "colorbar": {
             "outlinewidth": 0,
             "ticks": ""
            },
            "colorscale": [
             [
              0,
              "#0d0887"
             ],
             [
              0.1111111111111111,
              "#46039f"
             ],
             [
              0.2222222222222222,
              "#7201a8"
             ],
             [
              0.3333333333333333,
              "#9c179e"
             ],
             [
              0.4444444444444444,
              "#bd3786"
             ],
             [
              0.5555555555555556,
              "#d8576b"
             ],
             [
              0.6666666666666666,
              "#ed7953"
             ],
             [
              0.7777777777777778,
              "#fb9f3a"
             ],
             [
              0.8888888888888888,
              "#fdca26"
             ],
             [
              1,
              "#f0f921"
             ]
            ],
            "type": "histogram2d"
           }
          ],
          "histogram2dcontour": [
           {
            "colorbar": {
             "outlinewidth": 0,
             "ticks": ""
            },
            "colorscale": [
             [
              0,
              "#0d0887"
             ],
             [
              0.1111111111111111,
              "#46039f"
             ],
             [
              0.2222222222222222,
              "#7201a8"
             ],
             [
              0.3333333333333333,
              "#9c179e"
             ],
             [
              0.4444444444444444,
              "#bd3786"
             ],
             [
              0.5555555555555556,
              "#d8576b"
             ],
             [
              0.6666666666666666,
              "#ed7953"
             ],
             [
              0.7777777777777778,
              "#fb9f3a"
             ],
             [
              0.8888888888888888,
              "#fdca26"
             ],
             [
              1,
              "#f0f921"
             ]
            ],
            "type": "histogram2dcontour"
           }
          ],
          "mesh3d": [
           {
            "colorbar": {
             "outlinewidth": 0,
             "ticks": ""
            },
            "type": "mesh3d"
           }
          ],
          "parcoords": [
           {
            "line": {
             "colorbar": {
              "outlinewidth": 0,
              "ticks": ""
             }
            },
            "type": "parcoords"
           }
          ],
          "pie": [
           {
            "automargin": true,
            "type": "pie"
           }
          ],
          "scatter": [
           {
            "fillpattern": {
             "fillmode": "overlay",
             "size": 10,
             "solidity": 0.2
            },
            "type": "scatter"
           }
          ],
          "scatter3d": [
           {
            "line": {
             "colorbar": {
              "outlinewidth": 0,
              "ticks": ""
             }
            },
            "marker": {
             "colorbar": {
              "outlinewidth": 0,
              "ticks": ""
             }
            },
            "type": "scatter3d"
           }
          ],
          "scattercarpet": [
           {
            "marker": {
             "colorbar": {
              "outlinewidth": 0,
              "ticks": ""
             }
            },
            "type": "scattercarpet"
           }
          ],
          "scattergeo": [
           {
            "marker": {
             "colorbar": {
              "outlinewidth": 0,
              "ticks": ""
             }
            },
            "type": "scattergeo"
           }
          ],
          "scattergl": [
           {
            "marker": {
             "colorbar": {
              "outlinewidth": 0,
              "ticks": ""
             }
            },
            "type": "scattergl"
           }
          ],
          "scattermapbox": [
           {
            "marker": {
             "colorbar": {
              "outlinewidth": 0,
              "ticks": ""
             }
            },
            "type": "scattermapbox"
           }
          ],
          "scatterpolar": [
           {
            "marker": {
             "colorbar": {
              "outlinewidth": 0,
              "ticks": ""
             }
            },
            "type": "scatterpolar"
           }
          ],
          "scatterpolargl": [
           {
            "marker": {
             "colorbar": {
              "outlinewidth": 0,
              "ticks": ""
             }
            },
            "type": "scatterpolargl"
           }
          ],
          "scatterternary": [
           {
            "marker": {
             "colorbar": {
              "outlinewidth": 0,
              "ticks": ""
             }
            },
            "type": "scatterternary"
           }
          ],
          "surface": [
           {
            "colorbar": {
             "outlinewidth": 0,
             "ticks": ""
            },
            "colorscale": [
             [
              0,
              "#0d0887"
             ],
             [
              0.1111111111111111,
              "#46039f"
             ],
             [
              0.2222222222222222,
              "#7201a8"
             ],
             [
              0.3333333333333333,
              "#9c179e"
             ],
             [
              0.4444444444444444,
              "#bd3786"
             ],
             [
              0.5555555555555556,
              "#d8576b"
             ],
             [
              0.6666666666666666,
              "#ed7953"
             ],
             [
              0.7777777777777778,
              "#fb9f3a"
             ],
             [
              0.8888888888888888,
              "#fdca26"
             ],
             [
              1,
              "#f0f921"
             ]
            ],
            "type": "surface"
           }
          ],
          "table": [
           {
            "cells": {
             "fill": {
              "color": "#EBF0F8"
             },
             "line": {
              "color": "white"
             }
            },
            "header": {
             "fill": {
              "color": "#C8D4E3"
             },
             "line": {
              "color": "white"
             }
            },
            "type": "table"
           }
          ]
         },
         "layout": {
          "annotationdefaults": {
           "arrowcolor": "#2a3f5f",
           "arrowhead": 0,
           "arrowwidth": 1
          },
          "autotypenumbers": "strict",
          "coloraxis": {
           "colorbar": {
            "outlinewidth": 0,
            "ticks": ""
           }
          },
          "colorscale": {
           "diverging": [
            [
             0,
             "#8e0152"
            ],
            [
             0.1,
             "#c51b7d"
            ],
            [
             0.2,
             "#de77ae"
            ],
            [
             0.3,
             "#f1b6da"
            ],
            [
             0.4,
             "#fde0ef"
            ],
            [
             0.5,
             "#f7f7f7"
            ],
            [
             0.6,
             "#e6f5d0"
            ],
            [
             0.7,
             "#b8e186"
            ],
            [
             0.8,
             "#7fbc41"
            ],
            [
             0.9,
             "#4d9221"
            ],
            [
             1,
             "#276419"
            ]
           ],
           "sequential": [
            [
             0,
             "#0d0887"
            ],
            [
             0.1111111111111111,
             "#46039f"
            ],
            [
             0.2222222222222222,
             "#7201a8"
            ],
            [
             0.3333333333333333,
             "#9c179e"
            ],
            [
             0.4444444444444444,
             "#bd3786"
            ],
            [
             0.5555555555555556,
             "#d8576b"
            ],
            [
             0.6666666666666666,
             "#ed7953"
            ],
            [
             0.7777777777777778,
             "#fb9f3a"
            ],
            [
             0.8888888888888888,
             "#fdca26"
            ],
            [
             1,
             "#f0f921"
            ]
           ],
           "sequentialminus": [
            [
             0,
             "#0d0887"
            ],
            [
             0.1111111111111111,
             "#46039f"
            ],
            [
             0.2222222222222222,
             "#7201a8"
            ],
            [
             0.3333333333333333,
             "#9c179e"
            ],
            [
             0.4444444444444444,
             "#bd3786"
            ],
            [
             0.5555555555555556,
             "#d8576b"
            ],
            [
             0.6666666666666666,
             "#ed7953"
            ],
            [
             0.7777777777777778,
             "#fb9f3a"
            ],
            [
             0.8888888888888888,
             "#fdca26"
            ],
            [
             1,
             "#f0f921"
            ]
           ]
          },
          "colorway": [
           "#636efa",
           "#EF553B",
           "#00cc96",
           "#ab63fa",
           "#FFA15A",
           "#19d3f3",
           "#FF6692",
           "#B6E880",
           "#FF97FF",
           "#FECB52"
          ],
          "font": {
           "color": "#2a3f5f"
          },
          "geo": {
           "bgcolor": "white",
           "lakecolor": "white",
           "landcolor": "#E5ECF6",
           "showlakes": true,
           "showland": true,
           "subunitcolor": "white"
          },
          "hoverlabel": {
           "align": "left"
          },
          "hovermode": "closest",
          "mapbox": {
           "style": "light"
          },
          "paper_bgcolor": "white",
          "plot_bgcolor": "#E5ECF6",
          "polar": {
           "angularaxis": {
            "gridcolor": "white",
            "linecolor": "white",
            "ticks": ""
           },
           "bgcolor": "#E5ECF6",
           "radialaxis": {
            "gridcolor": "white",
            "linecolor": "white",
            "ticks": ""
           }
          },
          "scene": {
           "xaxis": {
            "backgroundcolor": "#E5ECF6",
            "gridcolor": "white",
            "gridwidth": 2,
            "linecolor": "white",
            "showbackground": true,
            "ticks": "",
            "zerolinecolor": "white"
           },
           "yaxis": {
            "backgroundcolor": "#E5ECF6",
            "gridcolor": "white",
            "gridwidth": 2,
            "linecolor": "white",
            "showbackground": true,
            "ticks": "",
            "zerolinecolor": "white"
           },
           "zaxis": {
            "backgroundcolor": "#E5ECF6",
            "gridcolor": "white",
            "gridwidth": 2,
            "linecolor": "white",
            "showbackground": true,
            "ticks": "",
            "zerolinecolor": "white"
           }
          },
          "shapedefaults": {
           "line": {
            "color": "#2a3f5f"
           }
          },
          "ternary": {
           "aaxis": {
            "gridcolor": "white",
            "linecolor": "white",
            "ticks": ""
           },
           "baxis": {
            "gridcolor": "white",
            "linecolor": "white",
            "ticks": ""
           },
           "bgcolor": "#E5ECF6",
           "caxis": {
            "gridcolor": "white",
            "linecolor": "white",
            "ticks": ""
           }
          },
          "title": {
           "x": 0.05
          },
          "xaxis": {
           "automargin": true,
           "gridcolor": "white",
           "linecolor": "white",
           "ticks": "",
           "title": {
            "standoff": 15
           },
           "zerolinecolor": "white",
           "zerolinewidth": 2
          },
          "yaxis": {
           "automargin": true,
           "gridcolor": "white",
           "linecolor": "white",
           "ticks": "",
           "title": {
            "standoff": 15
           },
           "zerolinecolor": "white",
           "zerolinewidth": 2
          }
         }
        },
        "title": {
         "text": "Performance - Meta 4%",
         "x": 0.5
        },
        "xaxis": {
         "nticks": 31,
         "tickangle": 45,
         "tickmode": "linear",
         "ticktext": [
          1,
          2,
          3,
          4,
          5,
          6,
          7,
          8,
          9,
          10,
          11,
          12,
          13,
          14,
          15,
          16,
          17,
          18,
          19,
          20,
          21,
          22,
          23,
          24,
          25,
          26,
          27,
          28,
          29,
          30,
          31
         ],
         "tickvals": [
          1,
          2,
          3,
          4,
          5,
          6,
          7,
          8,
          9,
          10,
          11,
          12,
          13,
          14,
          15,
          16,
          17,
          18,
          19,
          20,
          21,
          22,
          23,
          24,
          25,
          26,
          27,
          28,
          29,
          30,
          31
         ],
         "title": {
          "text": "Dia"
         }
        },
        "yaxis": {
         "tickangle": 45,
         "tickmode": "linear",
         "title": {
          "text": "Turno"
         }
        }
       }
      }
     },
     "metadata": {},
     "output_type": "display_data"
    }
   ],
   "source": [
    "# cSpell: disable=invalid-name\n",
    "def graph_heatmap_perf_v2(dataframe: pd.DataFrame, meta: int):\n",
    "    # Converter 'data_registro' para datetime e criar uma nova coluna 'data_turno'\n",
    "\n",
    "    dataframe[\"data_registro\"] = pd.to_datetime(dataframe[\"data_registro\"])\n",
    "\n",
    "    dataframe[\"data_turno\"] = dataframe[\"data_registro\"].dt.strftime(\"%Y-%m-%d\")\n",
    "\n",
    "    # Agrupar por 'data_turno' e 'turno' e calcular a média da eficiência\n",
    "\n",
    "    df_grouped = (\n",
    "        dataframe.groupby([\"data_turno\", \"turno\"], observed=False)[\"performance\"]\n",
    "        .mean()\n",
    "        .reset_index()\n",
    "    )\n",
    "\n",
    "    # Remodelar os dados para o formato de heatmap\n",
    "\n",
    "    df_pivot = df_grouped.pivot(index=\"turno\", columns=\"data_turno\", values=\"performance\")\n",
    "\n",
    "    # Reordenar o índice do DataFrame\n",
    "    df_pivot = df_pivot.reindex([\"VES\", \"MAT\", \"NOT\"])\n",
    "\n",
    "    # Criar escala de cores personalizada\n",
    "    colors = [[0, \"green\"], [0.04, \"green\"], [0.04, \"red\"], [1, \"red\"]]\n",
    "\n",
    "    # Extrair apenas o dia da data\n",
    "    df_pivot.columns = pd.to_datetime(df_pivot.columns).day\n",
    "\n",
    "    # Criar o gráfico de calor\n",
    "    fig = go.Figure(\n",
    "        data=go.Heatmap(\n",
    "            z=df_pivot.values,\n",
    "            x=df_pivot.columns,\n",
    "            y=df_pivot.index,\n",
    "            colorscale=colors,\n",
    "            zmin=0,\n",
    "            zmax=1,  # Escala de valores de 0 a 1\n",
    "            hoverongaps=False,\n",
    "            hovertemplate=\"Turno: %{y}<br>Dia: %{x}<br>Valor: %{z:.1%}\",\n",
    "            showscale=False,  # Não mostrar a escala de cores\n",
    "            xgap=1,  # Espaçamento entre os dias\n",
    "            ygap=1,  # Espaçamento entre os turnos\n",
    "        )\n",
    "    )\n",
    "\n",
    "    # Adicionar anotações com a média da eficiência\n",
    "    for (i, j), value in np.ndenumerate(df_pivot.values):\n",
    "        fig.add_annotation(\n",
    "            x=df_pivot.columns[j],\n",
    "            y=df_pivot.index[i],\n",
    "            text=f\"{value:.1%}\",\n",
    "            showarrow=False,\n",
    "            font=dict(color=\"white\", size=8),\n",
    "        )\n",
    "\n",
    "    # Definir o título do gráfico\n",
    "    fig.update_layout(\n",
    "        title=f\"Performance - Meta {meta}%\",\n",
    "        xaxis_title=\"Dia\",\n",
    "        yaxis_title=\"Turno\",\n",
    "        title_x=0.5,  # Centralizar o título\n",
    "        xaxis_nticks=31,  # Definir o número de dias\n",
    "        xaxis=dict(\n",
    "            tickmode=\"linear\",\n",
    "            tickvals=list(range(1, 32)),  # Definir os dias\n",
    "            ticktext=list(range(1, 32)),  # Definir os dias\n",
    "            tickangle=45,  # Rotacionar os dias\n",
    "        ),\n",
    "        yaxis=dict(\n",
    "            tickmode=\"linear\",\n",
    "            tickangle=45,\n",
    "        ),\n",
    "        plot_bgcolor=\"white\",\n",
    "        margin=dict(t=40, b=40, l=40, r=40),\n",
    "        font=dict({\"family\": \"Inter\"}),\n",
    "    )\n",
    "\n",
    "    fig.show()\n",
    "\n",
    "\n",
    "graph_heatmap_perf_v2(df_perf, 4)"
   ]
  },
  {
   "cell_type": "code",
   "execution_count": 25,
   "metadata": {},
   "outputs": [
    {
     "data": {
      "application/vnd.plotly.v1+json": {
       "config": {
        "plotlyServerURL": "https://plot.ly"
       },
       "data": [
        {
         "colorscale": [
          [
           0,
           "green"
          ],
          [
           0.04,
           "green"
          ],
          [
           0.04,
           "red"
          ],
          [
           1,
           "red"
          ]
         ],
         "hoverongaps": false,
         "hovertemplate": "Turno: %{y}<br>Dia: %{x}<br>Valor: %{z:.1%}",
         "showscale": false,
         "type": "heatmap",
         "x": [
          1,
          2,
          3
         ],
         "xgap": 1,
         "y": [
          "VES",
          "MAT",
          "NOT"
         ],
         "ygap": 1,
         "z": [
          [
           0,
           0,
           0
          ],
          [
           0,
           0,
           0
          ],
          [
           0.000641025641025641,
           0,
           0
          ]
         ],
         "zmax": 1,
         "zmin": 0
        }
       ],
       "layout": {
        "annotations": [
         {
          "font": {
           "color": "white",
           "size": 8
          },
          "showarrow": false,
          "text": "0.0%",
          "x": 1,
          "y": "VES"
         },
         {
          "font": {
           "color": "white",
           "size": 8
          },
          "showarrow": false,
          "text": "0.0%",
          "x": 2,
          "y": "VES"
         },
         {
          "font": {
           "color": "white",
           "size": 8
          },
          "showarrow": false,
          "text": "0.0%",
          "x": 3,
          "y": "VES"
         },
         {
          "font": {
           "color": "white",
           "size": 8
          },
          "showarrow": false,
          "text": "0.0%",
          "x": 1,
          "y": "MAT"
         },
         {
          "font": {
           "color": "white",
           "size": 8
          },
          "showarrow": false,
          "text": "0.0%",
          "x": 2,
          "y": "MAT"
         },
         {
          "font": {
           "color": "white",
           "size": 8
          },
          "showarrow": false,
          "text": "0.0%",
          "x": 3,
          "y": "MAT"
         },
         {
          "font": {
           "color": "white",
           "size": 8
          },
          "showarrow": false,
          "text": "0.1%",
          "x": 1,
          "y": "NOT"
         },
         {
          "font": {
           "color": "white",
           "size": 8
          },
          "showarrow": false,
          "text": "0.0%",
          "x": 2,
          "y": "NOT"
         },
         {
          "font": {
           "color": "white",
           "size": 8
          },
          "showarrow": false,
          "text": "0.0%",
          "x": 3,
          "y": "NOT"
         }
        ],
        "margin": {
         "b": 40,
         "l": 40,
         "r": 40,
         "t": 40
        },
        "plot_bgcolor": "white",
        "template": {
         "data": {
          "bar": [
           {
            "error_x": {
             "color": "#2a3f5f"
            },
            "error_y": {
             "color": "#2a3f5f"
            },
            "marker": {
             "line": {
              "color": "#E5ECF6",
              "width": 0.5
             },
             "pattern": {
              "fillmode": "overlay",
              "size": 10,
              "solidity": 0.2
             }
            },
            "type": "bar"
           }
          ],
          "barpolar": [
           {
            "marker": {
             "line": {
              "color": "#E5ECF6",
              "width": 0.5
             },
             "pattern": {
              "fillmode": "overlay",
              "size": 10,
              "solidity": 0.2
             }
            },
            "type": "barpolar"
           }
          ],
          "carpet": [
           {
            "aaxis": {
             "endlinecolor": "#2a3f5f",
             "gridcolor": "white",
             "linecolor": "white",
             "minorgridcolor": "white",
             "startlinecolor": "#2a3f5f"
            },
            "baxis": {
             "endlinecolor": "#2a3f5f",
             "gridcolor": "white",
             "linecolor": "white",
             "minorgridcolor": "white",
             "startlinecolor": "#2a3f5f"
            },
            "type": "carpet"
           }
          ],
          "choropleth": [
           {
            "colorbar": {
             "outlinewidth": 0,
             "ticks": ""
            },
            "type": "choropleth"
           }
          ],
          "contour": [
           {
            "colorbar": {
             "outlinewidth": 0,
             "ticks": ""
            },
            "colorscale": [
             [
              0,
              "#0d0887"
             ],
             [
              0.1111111111111111,
              "#46039f"
             ],
             [
              0.2222222222222222,
              "#7201a8"
             ],
             [
              0.3333333333333333,
              "#9c179e"
             ],
             [
              0.4444444444444444,
              "#bd3786"
             ],
             [
              0.5555555555555556,
              "#d8576b"
             ],
             [
              0.6666666666666666,
              "#ed7953"
             ],
             [
              0.7777777777777778,
              "#fb9f3a"
             ],
             [
              0.8888888888888888,
              "#fdca26"
             ],
             [
              1,
              "#f0f921"
             ]
            ],
            "type": "contour"
           }
          ],
          "contourcarpet": [
           {
            "colorbar": {
             "outlinewidth": 0,
             "ticks": ""
            },
            "type": "contourcarpet"
           }
          ],
          "heatmap": [
           {
            "colorbar": {
             "outlinewidth": 0,
             "ticks": ""
            },
            "colorscale": [
             [
              0,
              "#0d0887"
             ],
             [
              0.1111111111111111,
              "#46039f"
             ],
             [
              0.2222222222222222,
              "#7201a8"
             ],
             [
              0.3333333333333333,
              "#9c179e"
             ],
             [
              0.4444444444444444,
              "#bd3786"
             ],
             [
              0.5555555555555556,
              "#d8576b"
             ],
             [
              0.6666666666666666,
              "#ed7953"
             ],
             [
              0.7777777777777778,
              "#fb9f3a"
             ],
             [
              0.8888888888888888,
              "#fdca26"
             ],
             [
              1,
              "#f0f921"
             ]
            ],
            "type": "heatmap"
           }
          ],
          "heatmapgl": [
           {
            "colorbar": {
             "outlinewidth": 0,
             "ticks": ""
            },
            "colorscale": [
             [
              0,
              "#0d0887"
             ],
             [
              0.1111111111111111,
              "#46039f"
             ],
             [
              0.2222222222222222,
              "#7201a8"
             ],
             [
              0.3333333333333333,
              "#9c179e"
             ],
             [
              0.4444444444444444,
              "#bd3786"
             ],
             [
              0.5555555555555556,
              "#d8576b"
             ],
             [
              0.6666666666666666,
              "#ed7953"
             ],
             [
              0.7777777777777778,
              "#fb9f3a"
             ],
             [
              0.8888888888888888,
              "#fdca26"
             ],
             [
              1,
              "#f0f921"
             ]
            ],
            "type": "heatmapgl"
           }
          ],
          "histogram": [
           {
            "marker": {
             "pattern": {
              "fillmode": "overlay",
              "size": 10,
              "solidity": 0.2
             }
            },
            "type": "histogram"
           }
          ],
          "histogram2d": [
           {
            "colorbar": {
             "outlinewidth": 0,
             "ticks": ""
            },
            "colorscale": [
             [
              0,
              "#0d0887"
             ],
             [
              0.1111111111111111,
              "#46039f"
             ],
             [
              0.2222222222222222,
              "#7201a8"
             ],
             [
              0.3333333333333333,
              "#9c179e"
             ],
             [
              0.4444444444444444,
              "#bd3786"
             ],
             [
              0.5555555555555556,
              "#d8576b"
             ],
             [
              0.6666666666666666,
              "#ed7953"
             ],
             [
              0.7777777777777778,
              "#fb9f3a"
             ],
             [
              0.8888888888888888,
              "#fdca26"
             ],
             [
              1,
              "#f0f921"
             ]
            ],
            "type": "histogram2d"
           }
          ],
          "histogram2dcontour": [
           {
            "colorbar": {
             "outlinewidth": 0,
             "ticks": ""
            },
            "colorscale": [
             [
              0,
              "#0d0887"
             ],
             [
              0.1111111111111111,
              "#46039f"
             ],
             [
              0.2222222222222222,
              "#7201a8"
             ],
             [
              0.3333333333333333,
              "#9c179e"
             ],
             [
              0.4444444444444444,
              "#bd3786"
             ],
             [
              0.5555555555555556,
              "#d8576b"
             ],
             [
              0.6666666666666666,
              "#ed7953"
             ],
             [
              0.7777777777777778,
              "#fb9f3a"
             ],
             [
              0.8888888888888888,
              "#fdca26"
             ],
             [
              1,
              "#f0f921"
             ]
            ],
            "type": "histogram2dcontour"
           }
          ],
          "mesh3d": [
           {
            "colorbar": {
             "outlinewidth": 0,
             "ticks": ""
            },
            "type": "mesh3d"
           }
          ],
          "parcoords": [
           {
            "line": {
             "colorbar": {
              "outlinewidth": 0,
              "ticks": ""
             }
            },
            "type": "parcoords"
           }
          ],
          "pie": [
           {
            "automargin": true,
            "type": "pie"
           }
          ],
          "scatter": [
           {
            "fillpattern": {
             "fillmode": "overlay",
             "size": 10,
             "solidity": 0.2
            },
            "type": "scatter"
           }
          ],
          "scatter3d": [
           {
            "line": {
             "colorbar": {
              "outlinewidth": 0,
              "ticks": ""
             }
            },
            "marker": {
             "colorbar": {
              "outlinewidth": 0,
              "ticks": ""
             }
            },
            "type": "scatter3d"
           }
          ],
          "scattercarpet": [
           {
            "marker": {
             "colorbar": {
              "outlinewidth": 0,
              "ticks": ""
             }
            },
            "type": "scattercarpet"
           }
          ],
          "scattergeo": [
           {
            "marker": {
             "colorbar": {
              "outlinewidth": 0,
              "ticks": ""
             }
            },
            "type": "scattergeo"
           }
          ],
          "scattergl": [
           {
            "marker": {
             "colorbar": {
              "outlinewidth": 0,
              "ticks": ""
             }
            },
            "type": "scattergl"
           }
          ],
          "scattermapbox": [
           {
            "marker": {
             "colorbar": {
              "outlinewidth": 0,
              "ticks": ""
             }
            },
            "type": "scattermapbox"
           }
          ],
          "scatterpolar": [
           {
            "marker": {
             "colorbar": {
              "outlinewidth": 0,
              "ticks": ""
             }
            },
            "type": "scatterpolar"
           }
          ],
          "scatterpolargl": [
           {
            "marker": {
             "colorbar": {
              "outlinewidth": 0,
              "ticks": ""
             }
            },
            "type": "scatterpolargl"
           }
          ],
          "scatterternary": [
           {
            "marker": {
             "colorbar": {
              "outlinewidth": 0,
              "ticks": ""
             }
            },
            "type": "scatterternary"
           }
          ],
          "surface": [
           {
            "colorbar": {
             "outlinewidth": 0,
             "ticks": ""
            },
            "colorscale": [
             [
              0,
              "#0d0887"
             ],
             [
              0.1111111111111111,
              "#46039f"
             ],
             [
              0.2222222222222222,
              "#7201a8"
             ],
             [
              0.3333333333333333,
              "#9c179e"
             ],
             [
              0.4444444444444444,
              "#bd3786"
             ],
             [
              0.5555555555555556,
              "#d8576b"
             ],
             [
              0.6666666666666666,
              "#ed7953"
             ],
             [
              0.7777777777777778,
              "#fb9f3a"
             ],
             [
              0.8888888888888888,
              "#fdca26"
             ],
             [
              1,
              "#f0f921"
             ]
            ],
            "type": "surface"
           }
          ],
          "table": [
           {
            "cells": {
             "fill": {
              "color": "#EBF0F8"
             },
             "line": {
              "color": "white"
             }
            },
            "header": {
             "fill": {
              "color": "#C8D4E3"
             },
             "line": {
              "color": "white"
             }
            },
            "type": "table"
           }
          ]
         },
         "layout": {
          "annotationdefaults": {
           "arrowcolor": "#2a3f5f",
           "arrowhead": 0,
           "arrowwidth": 1
          },
          "autotypenumbers": "strict",
          "coloraxis": {
           "colorbar": {
            "outlinewidth": 0,
            "ticks": ""
           }
          },
          "colorscale": {
           "diverging": [
            [
             0,
             "#8e0152"
            ],
            [
             0.1,
             "#c51b7d"
            ],
            [
             0.2,
             "#de77ae"
            ],
            [
             0.3,
             "#f1b6da"
            ],
            [
             0.4,
             "#fde0ef"
            ],
            [
             0.5,
             "#f7f7f7"
            ],
            [
             0.6,
             "#e6f5d0"
            ],
            [
             0.7,
             "#b8e186"
            ],
            [
             0.8,
             "#7fbc41"
            ],
            [
             0.9,
             "#4d9221"
            ],
            [
             1,
             "#276419"
            ]
           ],
           "sequential": [
            [
             0,
             "#0d0887"
            ],
            [
             0.1111111111111111,
             "#46039f"
            ],
            [
             0.2222222222222222,
             "#7201a8"
            ],
            [
             0.3333333333333333,
             "#9c179e"
            ],
            [
             0.4444444444444444,
             "#bd3786"
            ],
            [
             0.5555555555555556,
             "#d8576b"
            ],
            [
             0.6666666666666666,
             "#ed7953"
            ],
            [
             0.7777777777777778,
             "#fb9f3a"
            ],
            [
             0.8888888888888888,
             "#fdca26"
            ],
            [
             1,
             "#f0f921"
            ]
           ],
           "sequentialminus": [
            [
             0,
             "#0d0887"
            ],
            [
             0.1111111111111111,
             "#46039f"
            ],
            [
             0.2222222222222222,
             "#7201a8"
            ],
            [
             0.3333333333333333,
             "#9c179e"
            ],
            [
             0.4444444444444444,
             "#bd3786"
            ],
            [
             0.5555555555555556,
             "#d8576b"
            ],
            [
             0.6666666666666666,
             "#ed7953"
            ],
            [
             0.7777777777777778,
             "#fb9f3a"
            ],
            [
             0.8888888888888888,
             "#fdca26"
            ],
            [
             1,
             "#f0f921"
            ]
           ]
          },
          "colorway": [
           "#636efa",
           "#EF553B",
           "#00cc96",
           "#ab63fa",
           "#FFA15A",
           "#19d3f3",
           "#FF6692",
           "#B6E880",
           "#FF97FF",
           "#FECB52"
          ],
          "font": {
           "color": "#2a3f5f"
          },
          "geo": {
           "bgcolor": "white",
           "lakecolor": "white",
           "landcolor": "#E5ECF6",
           "showlakes": true,
           "showland": true,
           "subunitcolor": "white"
          },
          "hoverlabel": {
           "align": "left"
          },
          "hovermode": "closest",
          "mapbox": {
           "style": "light"
          },
          "paper_bgcolor": "white",
          "plot_bgcolor": "#E5ECF6",
          "polar": {
           "angularaxis": {
            "gridcolor": "white",
            "linecolor": "white",
            "ticks": ""
           },
           "bgcolor": "#E5ECF6",
           "radialaxis": {
            "gridcolor": "white",
            "linecolor": "white",
            "ticks": ""
           }
          },
          "scene": {
           "xaxis": {
            "backgroundcolor": "#E5ECF6",
            "gridcolor": "white",
            "gridwidth": 2,
            "linecolor": "white",
            "showbackground": true,
            "ticks": "",
            "zerolinecolor": "white"
           },
           "yaxis": {
            "backgroundcolor": "#E5ECF6",
            "gridcolor": "white",
            "gridwidth": 2,
            "linecolor": "white",
            "showbackground": true,
            "ticks": "",
            "zerolinecolor": "white"
           },
           "zaxis": {
            "backgroundcolor": "#E5ECF6",
            "gridcolor": "white",
            "gridwidth": 2,
            "linecolor": "white",
            "showbackground": true,
            "ticks": "",
            "zerolinecolor": "white"
           }
          },
          "shapedefaults": {
           "line": {
            "color": "#2a3f5f"
           }
          },
          "ternary": {
           "aaxis": {
            "gridcolor": "white",
            "linecolor": "white",
            "ticks": ""
           },
           "baxis": {
            "gridcolor": "white",
            "linecolor": "white",
            "ticks": ""
           },
           "bgcolor": "#E5ECF6",
           "caxis": {
            "gridcolor": "white",
            "linecolor": "white",
            "ticks": ""
           }
          },
          "title": {
           "x": 0.05
          },
          "xaxis": {
           "automargin": true,
           "gridcolor": "white",
           "linecolor": "white",
           "ticks": "",
           "title": {
            "standoff": 15
           },
           "zerolinecolor": "white",
           "zerolinewidth": 2
          },
          "yaxis": {
           "automargin": true,
           "gridcolor": "white",
           "linecolor": "white",
           "ticks": "",
           "title": {
            "standoff": 15
           },
           "zerolinecolor": "white",
           "zerolinewidth": 2
          }
         }
        },
        "title": {
         "text": "Reparos - Meta 4%",
         "x": 0.5
        },
        "xaxis": {
         "nticks": 31,
         "tickangle": 45,
         "tickmode": "linear",
         "ticktext": [
          1,
          2,
          3,
          4,
          5,
          6,
          7,
          8,
          9,
          10,
          11,
          12,
          13,
          14,
          15,
          16,
          17,
          18,
          19,
          20,
          21,
          22,
          23,
          24,
          25,
          26,
          27,
          28,
          29,
          30,
          31
         ],
         "tickvals": [
          1,
          2,
          3,
          4,
          5,
          6,
          7,
          8,
          9,
          10,
          11,
          12,
          13,
          14,
          15,
          16,
          17,
          18,
          19,
          20,
          21,
          22,
          23,
          24,
          25,
          26,
          27,
          28,
          29,
          30,
          31
         ],
         "title": {
          "text": "Dia"
         }
        },
        "yaxis": {
         "tickangle": 45,
         "tickmode": "linear",
         "title": {
          "text": "Turno"
         }
        }
       }
      }
     },
     "metadata": {},
     "output_type": "display_data"
    }
   ],
   "source": [
    "# cSpell: disable=invalid-name\n",
    "def graph_heatmap_reparos(dataframe: pd.DataFrame, meta: int):\n",
    "    # Converter 'data_registro' para datetime e criar uma nova coluna 'data_turno'\n",
    "\n",
    "    dataframe[\"data_registro\"] = pd.to_datetime(dataframe[\"data_registro\"])\n",
    "\n",
    "    dataframe[\"data_turno\"] = dataframe[\"data_registro\"].dt.strftime(\"%Y-%m-%d\")\n",
    "\n",
    "    # Agrupar por 'data_turno' e 'turno' e calcular a média da eficiência\n",
    "\n",
    "    df_grouped = (\n",
    "        dataframe.groupby([\"data_turno\", \"turno\"], observed=False)[\"reparo\"].mean().reset_index()\n",
    "    )\n",
    "\n",
    "    # Remodelar os dados para o formato de heatmap\n",
    "\n",
    "    df_pivot = df_grouped.pivot(index=\"turno\", columns=\"data_turno\", values=\"reparo\")\n",
    "\n",
    "    # Reordenar o índice do DataFrame\n",
    "    df_pivot = df_pivot.reindex([\"VES\", \"MAT\", \"NOT\"])\n",
    "\n",
    "    # Criar escala de cores personalizada\n",
    "    colors = [[0, \"green\"], [0.04, \"green\"], [0.04, \"red\"], [1, \"red\"]]\n",
    "\n",
    "    # Extrair apenas o dia da data\n",
    "    df_pivot.columns = pd.to_datetime(df_pivot.columns).day\n",
    "\n",
    "    # Criar o gráfico de calor\n",
    "    fig = go.Figure(\n",
    "        data=go.Heatmap(\n",
    "            z=df_pivot.values,\n",
    "            x=df_pivot.columns,\n",
    "            y=df_pivot.index,\n",
    "            colorscale=colors,\n",
    "            zmin=0,\n",
    "            zmax=1,  # Escala de valores de 0 a 1\n",
    "            hoverongaps=False,\n",
    "            hovertemplate=\"Turno: %{y}<br>Dia: %{x}<br>Valor: %{z:.1%}\",\n",
    "            showscale=False,  # Não mostrar a escala de cores\n",
    "            xgap=1,  # Espaçamento entre os dias\n",
    "            ygap=1,  # Espaçamento entre os turnos\n",
    "        )\n",
    "    )\n",
    "\n",
    "    # Adicionar anotações com a média da eficiência\n",
    "    for (i, j), value in np.ndenumerate(df_pivot.values):\n",
    "        fig.add_annotation(\n",
    "            x=df_pivot.columns[j],\n",
    "            y=df_pivot.index[i],\n",
    "            text=f\"{value:.1%}\",\n",
    "            showarrow=False,\n",
    "            font=dict(color=\"white\", size=8),\n",
    "        )\n",
    "\n",
    "    # Definir o título do gráfico\n",
    "    fig.update_layout(\n",
    "        title=f\"Reparos - Meta {meta}%\",\n",
    "        xaxis_title=\"Dia\",\n",
    "        yaxis_title=\"Turno\",\n",
    "        title_x=0.5,  # Centralizar o título\n",
    "        xaxis_nticks=31,  # Definir o número de dias\n",
    "        xaxis=dict(\n",
    "            tickmode=\"linear\",\n",
    "            tickvals=list(range(1, 32)),  # Definir os dias\n",
    "            ticktext=list(range(1, 32)),  # Definir os dias\n",
    "            tickangle=45,  # Rotacionar os dias\n",
    "        ),\n",
    "        yaxis=dict(\n",
    "            tickmode=\"linear\",\n",
    "            tickangle=45,\n",
    "        ),\n",
    "        plot_bgcolor=\"white\",\n",
    "        margin=dict(t=40, b=40, l=40, r=40),\n",
    "    )\n",
    "\n",
    "    fig.show()\n",
    "\n",
    "\n",
    "reparos_map = graph_heatmap_reparos(df_reparos, 4)"
   ]
  },
  {
   "cell_type": "code",
   "execution_count": 26,
   "metadata": {},
   "outputs": [
    {
     "data": {
      "application/vnd.plotly.v1+json": {
       "config": {
        "plotlyServerURL": "https://plot.ly"
       },
       "data": [
        {
         "domain": {
          "x": [
           0,
           1
          ],
          "y": [
           0,
           1
          ]
         },
         "gauge": {
          "axis": {
           "range": [
            0,
            100
           ],
           "tickfont": {
            "size": 8
           }
          },
          "bar": {
           "color": "red"
          },
          "steps": [
           {
            "color": "lightgray",
            "range": [
             0,
             100
            ]
           }
          ],
          "threshold": {
           "line": {
            "color": "black",
            "width": 4
           },
           "thickness": 0.75,
           "value": 90
          }
         },
         "mode": "gauge+number",
         "number": {
          "suffix": "%"
         },
         "title": {
          "font": {
           "size": 14
          },
          "text": "Atual"
         },
         "type": "indicator",
         "value": 53
        }
       ],
       "layout": {
        "autosize": true,
        "height": 200,
        "margin": {
         "b": 30,
         "l": 30,
         "r": 30,
         "t": 30
        },
        "plot_bgcolor": "white",
        "template": {
         "data": {
          "bar": [
           {
            "error_x": {
             "color": "#2a3f5f"
            },
            "error_y": {
             "color": "#2a3f5f"
            },
            "marker": {
             "line": {
              "color": "#E5ECF6",
              "width": 0.5
             },
             "pattern": {
              "fillmode": "overlay",
              "size": 10,
              "solidity": 0.2
             }
            },
            "type": "bar"
           }
          ],
          "barpolar": [
           {
            "marker": {
             "line": {
              "color": "#E5ECF6",
              "width": 0.5
             },
             "pattern": {
              "fillmode": "overlay",
              "size": 10,
              "solidity": 0.2
             }
            },
            "type": "barpolar"
           }
          ],
          "carpet": [
           {
            "aaxis": {
             "endlinecolor": "#2a3f5f",
             "gridcolor": "white",
             "linecolor": "white",
             "minorgridcolor": "white",
             "startlinecolor": "#2a3f5f"
            },
            "baxis": {
             "endlinecolor": "#2a3f5f",
             "gridcolor": "white",
             "linecolor": "white",
             "minorgridcolor": "white",
             "startlinecolor": "#2a3f5f"
            },
            "type": "carpet"
           }
          ],
          "choropleth": [
           {
            "colorbar": {
             "outlinewidth": 0,
             "ticks": ""
            },
            "type": "choropleth"
           }
          ],
          "contour": [
           {
            "colorbar": {
             "outlinewidth": 0,
             "ticks": ""
            },
            "colorscale": [
             [
              0,
              "#0d0887"
             ],
             [
              0.1111111111111111,
              "#46039f"
             ],
             [
              0.2222222222222222,
              "#7201a8"
             ],
             [
              0.3333333333333333,
              "#9c179e"
             ],
             [
              0.4444444444444444,
              "#bd3786"
             ],
             [
              0.5555555555555556,
              "#d8576b"
             ],
             [
              0.6666666666666666,
              "#ed7953"
             ],
             [
              0.7777777777777778,
              "#fb9f3a"
             ],
             [
              0.8888888888888888,
              "#fdca26"
             ],
             [
              1,
              "#f0f921"
             ]
            ],
            "type": "contour"
           }
          ],
          "contourcarpet": [
           {
            "colorbar": {
             "outlinewidth": 0,
             "ticks": ""
            },
            "type": "contourcarpet"
           }
          ],
          "heatmap": [
           {
            "colorbar": {
             "outlinewidth": 0,
             "ticks": ""
            },
            "colorscale": [
             [
              0,
              "#0d0887"
             ],
             [
              0.1111111111111111,
              "#46039f"
             ],
             [
              0.2222222222222222,
              "#7201a8"
             ],
             [
              0.3333333333333333,
              "#9c179e"
             ],
             [
              0.4444444444444444,
              "#bd3786"
             ],
             [
              0.5555555555555556,
              "#d8576b"
             ],
             [
              0.6666666666666666,
              "#ed7953"
             ],
             [
              0.7777777777777778,
              "#fb9f3a"
             ],
             [
              0.8888888888888888,
              "#fdca26"
             ],
             [
              1,
              "#f0f921"
             ]
            ],
            "type": "heatmap"
           }
          ],
          "heatmapgl": [
           {
            "colorbar": {
             "outlinewidth": 0,
             "ticks": ""
            },
            "colorscale": [
             [
              0,
              "#0d0887"
             ],
             [
              0.1111111111111111,
              "#46039f"
             ],
             [
              0.2222222222222222,
              "#7201a8"
             ],
             [
              0.3333333333333333,
              "#9c179e"
             ],
             [
              0.4444444444444444,
              "#bd3786"
             ],
             [
              0.5555555555555556,
              "#d8576b"
             ],
             [
              0.6666666666666666,
              "#ed7953"
             ],
             [
              0.7777777777777778,
              "#fb9f3a"
             ],
             [
              0.8888888888888888,
              "#fdca26"
             ],
             [
              1,
              "#f0f921"
             ]
            ],
            "type": "heatmapgl"
           }
          ],
          "histogram": [
           {
            "marker": {
             "pattern": {
              "fillmode": "overlay",
              "size": 10,
              "solidity": 0.2
             }
            },
            "type": "histogram"
           }
          ],
          "histogram2d": [
           {
            "colorbar": {
             "outlinewidth": 0,
             "ticks": ""
            },
            "colorscale": [
             [
              0,
              "#0d0887"
             ],
             [
              0.1111111111111111,
              "#46039f"
             ],
             [
              0.2222222222222222,
              "#7201a8"
             ],
             [
              0.3333333333333333,
              "#9c179e"
             ],
             [
              0.4444444444444444,
              "#bd3786"
             ],
             [
              0.5555555555555556,
              "#d8576b"
             ],
             [
              0.6666666666666666,
              "#ed7953"
             ],
             [
              0.7777777777777778,
              "#fb9f3a"
             ],
             [
              0.8888888888888888,
              "#fdca26"
             ],
             [
              1,
              "#f0f921"
             ]
            ],
            "type": "histogram2d"
           }
          ],
          "histogram2dcontour": [
           {
            "colorbar": {
             "outlinewidth": 0,
             "ticks": ""
            },
            "colorscale": [
             [
              0,
              "#0d0887"
             ],
             [
              0.1111111111111111,
              "#46039f"
             ],
             [
              0.2222222222222222,
              "#7201a8"
             ],
             [
              0.3333333333333333,
              "#9c179e"
             ],
             [
              0.4444444444444444,
              "#bd3786"
             ],
             [
              0.5555555555555556,
              "#d8576b"
             ],
             [
              0.6666666666666666,
              "#ed7953"
             ],
             [
              0.7777777777777778,
              "#fb9f3a"
             ],
             [
              0.8888888888888888,
              "#fdca26"
             ],
             [
              1,
              "#f0f921"
             ]
            ],
            "type": "histogram2dcontour"
           }
          ],
          "mesh3d": [
           {
            "colorbar": {
             "outlinewidth": 0,
             "ticks": ""
            },
            "type": "mesh3d"
           }
          ],
          "parcoords": [
           {
            "line": {
             "colorbar": {
              "outlinewidth": 0,
              "ticks": ""
             }
            },
            "type": "parcoords"
           }
          ],
          "pie": [
           {
            "automargin": true,
            "type": "pie"
           }
          ],
          "scatter": [
           {
            "fillpattern": {
             "fillmode": "overlay",
             "size": 10,
             "solidity": 0.2
            },
            "type": "scatter"
           }
          ],
          "scatter3d": [
           {
            "line": {
             "colorbar": {
              "outlinewidth": 0,
              "ticks": ""
             }
            },
            "marker": {
             "colorbar": {
              "outlinewidth": 0,
              "ticks": ""
             }
            },
            "type": "scatter3d"
           }
          ],
          "scattercarpet": [
           {
            "marker": {
             "colorbar": {
              "outlinewidth": 0,
              "ticks": ""
             }
            },
            "type": "scattercarpet"
           }
          ],
          "scattergeo": [
           {
            "marker": {
             "colorbar": {
              "outlinewidth": 0,
              "ticks": ""
             }
            },
            "type": "scattergeo"
           }
          ],
          "scattergl": [
           {
            "marker": {
             "colorbar": {
              "outlinewidth": 0,
              "ticks": ""
             }
            },
            "type": "scattergl"
           }
          ],
          "scattermapbox": [
           {
            "marker": {
             "colorbar": {
              "outlinewidth": 0,
              "ticks": ""
             }
            },
            "type": "scattermapbox"
           }
          ],
          "scatterpolar": [
           {
            "marker": {
             "colorbar": {
              "outlinewidth": 0,
              "ticks": ""
             }
            },
            "type": "scatterpolar"
           }
          ],
          "scatterpolargl": [
           {
            "marker": {
             "colorbar": {
              "outlinewidth": 0,
              "ticks": ""
             }
            },
            "type": "scatterpolargl"
           }
          ],
          "scatterternary": [
           {
            "marker": {
             "colorbar": {
              "outlinewidth": 0,
              "ticks": ""
             }
            },
            "type": "scatterternary"
           }
          ],
          "surface": [
           {
            "colorbar": {
             "outlinewidth": 0,
             "ticks": ""
            },
            "colorscale": [
             [
              0,
              "#0d0887"
             ],
             [
              0.1111111111111111,
              "#46039f"
             ],
             [
              0.2222222222222222,
              "#7201a8"
             ],
             [
              0.3333333333333333,
              "#9c179e"
             ],
             [
              0.4444444444444444,
              "#bd3786"
             ],
             [
              0.5555555555555556,
              "#d8576b"
             ],
             [
              0.6666666666666666,
              "#ed7953"
             ],
             [
              0.7777777777777778,
              "#fb9f3a"
             ],
             [
              0.8888888888888888,
              "#fdca26"
             ],
             [
              1,
              "#f0f921"
             ]
            ],
            "type": "surface"
           }
          ],
          "table": [
           {
            "cells": {
             "fill": {
              "color": "#EBF0F8"
             },
             "line": {
              "color": "white"
             }
            },
            "header": {
             "fill": {
              "color": "#C8D4E3"
             },
             "line": {
              "color": "white"
             }
            },
            "type": "table"
           }
          ]
         },
         "layout": {
          "annotationdefaults": {
           "arrowcolor": "#2a3f5f",
           "arrowhead": 0,
           "arrowwidth": 1
          },
          "autotypenumbers": "strict",
          "coloraxis": {
           "colorbar": {
            "outlinewidth": 0,
            "ticks": ""
           }
          },
          "colorscale": {
           "diverging": [
            [
             0,
             "#8e0152"
            ],
            [
             0.1,
             "#c51b7d"
            ],
            [
             0.2,
             "#de77ae"
            ],
            [
             0.3,
             "#f1b6da"
            ],
            [
             0.4,
             "#fde0ef"
            ],
            [
             0.5,
             "#f7f7f7"
            ],
            [
             0.6,
             "#e6f5d0"
            ],
            [
             0.7,
             "#b8e186"
            ],
            [
             0.8,
             "#7fbc41"
            ],
            [
             0.9,
             "#4d9221"
            ],
            [
             1,
             "#276419"
            ]
           ],
           "sequential": [
            [
             0,
             "#0d0887"
            ],
            [
             0.1111111111111111,
             "#46039f"
            ],
            [
             0.2222222222222222,
             "#7201a8"
            ],
            [
             0.3333333333333333,
             "#9c179e"
            ],
            [
             0.4444444444444444,
             "#bd3786"
            ],
            [
             0.5555555555555556,
             "#d8576b"
            ],
            [
             0.6666666666666666,
             "#ed7953"
            ],
            [
             0.7777777777777778,
             "#fb9f3a"
            ],
            [
             0.8888888888888888,
             "#fdca26"
            ],
            [
             1,
             "#f0f921"
            ]
           ],
           "sequentialminus": [
            [
             0,
             "#0d0887"
            ],
            [
             0.1111111111111111,
             "#46039f"
            ],
            [
             0.2222222222222222,
             "#7201a8"
            ],
            [
             0.3333333333333333,
             "#9c179e"
            ],
            [
             0.4444444444444444,
             "#bd3786"
            ],
            [
             0.5555555555555556,
             "#d8576b"
            ],
            [
             0.6666666666666666,
             "#ed7953"
            ],
            [
             0.7777777777777778,
             "#fb9f3a"
            ],
            [
             0.8888888888888888,
             "#fdca26"
            ],
            [
             1,
             "#f0f921"
            ]
           ]
          },
          "colorway": [
           "#636efa",
           "#EF553B",
           "#00cc96",
           "#ab63fa",
           "#FFA15A",
           "#19d3f3",
           "#FF6692",
           "#B6E880",
           "#FF97FF",
           "#FECB52"
          ],
          "font": {
           "color": "#2a3f5f"
          },
          "geo": {
           "bgcolor": "white",
           "lakecolor": "white",
           "landcolor": "#E5ECF6",
           "showlakes": true,
           "showland": true,
           "subunitcolor": "white"
          },
          "hoverlabel": {
           "align": "left"
          },
          "hovermode": "closest",
          "mapbox": {
           "style": "light"
          },
          "paper_bgcolor": "white",
          "plot_bgcolor": "#E5ECF6",
          "polar": {
           "angularaxis": {
            "gridcolor": "white",
            "linecolor": "white",
            "ticks": ""
           },
           "bgcolor": "#E5ECF6",
           "radialaxis": {
            "gridcolor": "white",
            "linecolor": "white",
            "ticks": ""
           }
          },
          "scene": {
           "xaxis": {
            "backgroundcolor": "#E5ECF6",
            "gridcolor": "white",
            "gridwidth": 2,
            "linecolor": "white",
            "showbackground": true,
            "ticks": "",
            "zerolinecolor": "white"
           },
           "yaxis": {
            "backgroundcolor": "#E5ECF6",
            "gridcolor": "white",
            "gridwidth": 2,
            "linecolor": "white",
            "showbackground": true,
            "ticks": "",
            "zerolinecolor": "white"
           },
           "zaxis": {
            "backgroundcolor": "#E5ECF6",
            "gridcolor": "white",
            "gridwidth": 2,
            "linecolor": "white",
            "showbackground": true,
            "ticks": "",
            "zerolinecolor": "white"
           }
          },
          "shapedefaults": {
           "line": {
            "color": "#2a3f5f"
           }
          },
          "ternary": {
           "aaxis": {
            "gridcolor": "white",
            "linecolor": "white",
            "ticks": ""
           },
           "baxis": {
            "gridcolor": "white",
            "linecolor": "white",
            "ticks": ""
           },
           "bgcolor": "#E5ECF6",
           "caxis": {
            "gridcolor": "white",
            "linecolor": "white",
            "ticks": ""
           }
          },
          "title": {
           "x": 0.05
          },
          "xaxis": {
           "automargin": true,
           "gridcolor": "white",
           "linecolor": "white",
           "ticks": "",
           "title": {
            "standoff": 15
           },
           "zerolinecolor": "white",
           "zerolinewidth": 2
          },
          "yaxis": {
           "automargin": true,
           "gridcolor": "white",
           "linecolor": "white",
           "ticks": "",
           "title": {
            "standoff": 15
           },
           "zerolinecolor": "white",
           "zerolinewidth": 2
          }
         }
        },
        "width": 200
       }
      }
     },
     "metadata": {},
     "output_type": "display_data"
    },
    {
     "data": {
      "application/vnd.plotly.v1+json": {
       "config": {
        "plotlyServerURL": "https://plot.ly"
       },
       "data": [
        {
         "domain": {
          "x": [
           0,
           1
          ],
          "y": [
           0,
           1
          ]
         },
         "gauge": {
          "axis": {
           "range": [
            100,
            0
           ],
           "tickfont": {
            "size": 8
           }
          },
          "bar": {
           "color": "red"
          },
          "steps": [
           {
            "color": "lightgray",
            "range": [
             0,
             100
            ]
           }
          ],
          "threshold": {
           "line": {
            "color": "black",
            "width": 4
           },
           "thickness": 0.75,
           "value": 4
          }
         },
         "mode": "gauge+number",
         "number": {
          "suffix": "%"
         },
         "title": {
          "font": {
           "size": 14
          },
          "text": "Atual"
         },
         "type": "indicator",
         "value": 22
        }
       ],
       "layout": {
        "autosize": true,
        "height": 200,
        "margin": {
         "b": 30,
         "l": 30,
         "r": 30,
         "t": 30
        },
        "plot_bgcolor": "white",
        "template": {
         "data": {
          "bar": [
           {
            "error_x": {
             "color": "#2a3f5f"
            },
            "error_y": {
             "color": "#2a3f5f"
            },
            "marker": {
             "line": {
              "color": "#E5ECF6",
              "width": 0.5
             },
             "pattern": {
              "fillmode": "overlay",
              "size": 10,
              "solidity": 0.2
             }
            },
            "type": "bar"
           }
          ],
          "barpolar": [
           {
            "marker": {
             "line": {
              "color": "#E5ECF6",
              "width": 0.5
             },
             "pattern": {
              "fillmode": "overlay",
              "size": 10,
              "solidity": 0.2
             }
            },
            "type": "barpolar"
           }
          ],
          "carpet": [
           {
            "aaxis": {
             "endlinecolor": "#2a3f5f",
             "gridcolor": "white",
             "linecolor": "white",
             "minorgridcolor": "white",
             "startlinecolor": "#2a3f5f"
            },
            "baxis": {
             "endlinecolor": "#2a3f5f",
             "gridcolor": "white",
             "linecolor": "white",
             "minorgridcolor": "white",
             "startlinecolor": "#2a3f5f"
            },
            "type": "carpet"
           }
          ],
          "choropleth": [
           {
            "colorbar": {
             "outlinewidth": 0,
             "ticks": ""
            },
            "type": "choropleth"
           }
          ],
          "contour": [
           {
            "colorbar": {
             "outlinewidth": 0,
             "ticks": ""
            },
            "colorscale": [
             [
              0,
              "#0d0887"
             ],
             [
              0.1111111111111111,
              "#46039f"
             ],
             [
              0.2222222222222222,
              "#7201a8"
             ],
             [
              0.3333333333333333,
              "#9c179e"
             ],
             [
              0.4444444444444444,
              "#bd3786"
             ],
             [
              0.5555555555555556,
              "#d8576b"
             ],
             [
              0.6666666666666666,
              "#ed7953"
             ],
             [
              0.7777777777777778,
              "#fb9f3a"
             ],
             [
              0.8888888888888888,
              "#fdca26"
             ],
             [
              1,
              "#f0f921"
             ]
            ],
            "type": "contour"
           }
          ],
          "contourcarpet": [
           {
            "colorbar": {
             "outlinewidth": 0,
             "ticks": ""
            },
            "type": "contourcarpet"
           }
          ],
          "heatmap": [
           {
            "colorbar": {
             "outlinewidth": 0,
             "ticks": ""
            },
            "colorscale": [
             [
              0,
              "#0d0887"
             ],
             [
              0.1111111111111111,
              "#46039f"
             ],
             [
              0.2222222222222222,
              "#7201a8"
             ],
             [
              0.3333333333333333,
              "#9c179e"
             ],
             [
              0.4444444444444444,
              "#bd3786"
             ],
             [
              0.5555555555555556,
              "#d8576b"
             ],
             [
              0.6666666666666666,
              "#ed7953"
             ],
             [
              0.7777777777777778,
              "#fb9f3a"
             ],
             [
              0.8888888888888888,
              "#fdca26"
             ],
             [
              1,
              "#f0f921"
             ]
            ],
            "type": "heatmap"
           }
          ],
          "heatmapgl": [
           {
            "colorbar": {
             "outlinewidth": 0,
             "ticks": ""
            },
            "colorscale": [
             [
              0,
              "#0d0887"
             ],
             [
              0.1111111111111111,
              "#46039f"
             ],
             [
              0.2222222222222222,
              "#7201a8"
             ],
             [
              0.3333333333333333,
              "#9c179e"
             ],
             [
              0.4444444444444444,
              "#bd3786"
             ],
             [
              0.5555555555555556,
              "#d8576b"
             ],
             [
              0.6666666666666666,
              "#ed7953"
             ],
             [
              0.7777777777777778,
              "#fb9f3a"
             ],
             [
              0.8888888888888888,
              "#fdca26"
             ],
             [
              1,
              "#f0f921"
             ]
            ],
            "type": "heatmapgl"
           }
          ],
          "histogram": [
           {
            "marker": {
             "pattern": {
              "fillmode": "overlay",
              "size": 10,
              "solidity": 0.2
             }
            },
            "type": "histogram"
           }
          ],
          "histogram2d": [
           {
            "colorbar": {
             "outlinewidth": 0,
             "ticks": ""
            },
            "colorscale": [
             [
              0,
              "#0d0887"
             ],
             [
              0.1111111111111111,
              "#46039f"
             ],
             [
              0.2222222222222222,
              "#7201a8"
             ],
             [
              0.3333333333333333,
              "#9c179e"
             ],
             [
              0.4444444444444444,
              "#bd3786"
             ],
             [
              0.5555555555555556,
              "#d8576b"
             ],
             [
              0.6666666666666666,
              "#ed7953"
             ],
             [
              0.7777777777777778,
              "#fb9f3a"
             ],
             [
              0.8888888888888888,
              "#fdca26"
             ],
             [
              1,
              "#f0f921"
             ]
            ],
            "type": "histogram2d"
           }
          ],
          "histogram2dcontour": [
           {
            "colorbar": {
             "outlinewidth": 0,
             "ticks": ""
            },
            "colorscale": [
             [
              0,
              "#0d0887"
             ],
             [
              0.1111111111111111,
              "#46039f"
             ],
             [
              0.2222222222222222,
              "#7201a8"
             ],
             [
              0.3333333333333333,
              "#9c179e"
             ],
             [
              0.4444444444444444,
              "#bd3786"
             ],
             [
              0.5555555555555556,
              "#d8576b"
             ],
             [
              0.6666666666666666,
              "#ed7953"
             ],
             [
              0.7777777777777778,
              "#fb9f3a"
             ],
             [
              0.8888888888888888,
              "#fdca26"
             ],
             [
              1,
              "#f0f921"
             ]
            ],
            "type": "histogram2dcontour"
           }
          ],
          "mesh3d": [
           {
            "colorbar": {
             "outlinewidth": 0,
             "ticks": ""
            },
            "type": "mesh3d"
           }
          ],
          "parcoords": [
           {
            "line": {
             "colorbar": {
              "outlinewidth": 0,
              "ticks": ""
             }
            },
            "type": "parcoords"
           }
          ],
          "pie": [
           {
            "automargin": true,
            "type": "pie"
           }
          ],
          "scatter": [
           {
            "fillpattern": {
             "fillmode": "overlay",
             "size": 10,
             "solidity": 0.2
            },
            "type": "scatter"
           }
          ],
          "scatter3d": [
           {
            "line": {
             "colorbar": {
              "outlinewidth": 0,
              "ticks": ""
             }
            },
            "marker": {
             "colorbar": {
              "outlinewidth": 0,
              "ticks": ""
             }
            },
            "type": "scatter3d"
           }
          ],
          "scattercarpet": [
           {
            "marker": {
             "colorbar": {
              "outlinewidth": 0,
              "ticks": ""
             }
            },
            "type": "scattercarpet"
           }
          ],
          "scattergeo": [
           {
            "marker": {
             "colorbar": {
              "outlinewidth": 0,
              "ticks": ""
             }
            },
            "type": "scattergeo"
           }
          ],
          "scattergl": [
           {
            "marker": {
             "colorbar": {
              "outlinewidth": 0,
              "ticks": ""
             }
            },
            "type": "scattergl"
           }
          ],
          "scattermapbox": [
           {
            "marker": {
             "colorbar": {
              "outlinewidth": 0,
              "ticks": ""
             }
            },
            "type": "scattermapbox"
           }
          ],
          "scatterpolar": [
           {
            "marker": {
             "colorbar": {
              "outlinewidth": 0,
              "ticks": ""
             }
            },
            "type": "scatterpolar"
           }
          ],
          "scatterpolargl": [
           {
            "marker": {
             "colorbar": {
              "outlinewidth": 0,
              "ticks": ""
             }
            },
            "type": "scatterpolargl"
           }
          ],
          "scatterternary": [
           {
            "marker": {
             "colorbar": {
              "outlinewidth": 0,
              "ticks": ""
             }
            },
            "type": "scatterternary"
           }
          ],
          "surface": [
           {
            "colorbar": {
             "outlinewidth": 0,
             "ticks": ""
            },
            "colorscale": [
             [
              0,
              "#0d0887"
             ],
             [
              0.1111111111111111,
              "#46039f"
             ],
             [
              0.2222222222222222,
              "#7201a8"
             ],
             [
              0.3333333333333333,
              "#9c179e"
             ],
             [
              0.4444444444444444,
              "#bd3786"
             ],
             [
              0.5555555555555556,
              "#d8576b"
             ],
             [
              0.6666666666666666,
              "#ed7953"
             ],
             [
              0.7777777777777778,
              "#fb9f3a"
             ],
             [
              0.8888888888888888,
              "#fdca26"
             ],
             [
              1,
              "#f0f921"
             ]
            ],
            "type": "surface"
           }
          ],
          "table": [
           {
            "cells": {
             "fill": {
              "color": "#EBF0F8"
             },
             "line": {
              "color": "white"
             }
            },
            "header": {
             "fill": {
              "color": "#C8D4E3"
             },
             "line": {
              "color": "white"
             }
            },
            "type": "table"
           }
          ]
         },
         "layout": {
          "annotationdefaults": {
           "arrowcolor": "#2a3f5f",
           "arrowhead": 0,
           "arrowwidth": 1
          },
          "autotypenumbers": "strict",
          "coloraxis": {
           "colorbar": {
            "outlinewidth": 0,
            "ticks": ""
           }
          },
          "colorscale": {
           "diverging": [
            [
             0,
             "#8e0152"
            ],
            [
             0.1,
             "#c51b7d"
            ],
            [
             0.2,
             "#de77ae"
            ],
            [
             0.3,
             "#f1b6da"
            ],
            [
             0.4,
             "#fde0ef"
            ],
            [
             0.5,
             "#f7f7f7"
            ],
            [
             0.6,
             "#e6f5d0"
            ],
            [
             0.7,
             "#b8e186"
            ],
            [
             0.8,
             "#7fbc41"
            ],
            [
             0.9,
             "#4d9221"
            ],
            [
             1,
             "#276419"
            ]
           ],
           "sequential": [
            [
             0,
             "#0d0887"
            ],
            [
             0.1111111111111111,
             "#46039f"
            ],
            [
             0.2222222222222222,
             "#7201a8"
            ],
            [
             0.3333333333333333,
             "#9c179e"
            ],
            [
             0.4444444444444444,
             "#bd3786"
            ],
            [
             0.5555555555555556,
             "#d8576b"
            ],
            [
             0.6666666666666666,
             "#ed7953"
            ],
            [
             0.7777777777777778,
             "#fb9f3a"
            ],
            [
             0.8888888888888888,
             "#fdca26"
            ],
            [
             1,
             "#f0f921"
            ]
           ],
           "sequentialminus": [
            [
             0,
             "#0d0887"
            ],
            [
             0.1111111111111111,
             "#46039f"
            ],
            [
             0.2222222222222222,
             "#7201a8"
            ],
            [
             0.3333333333333333,
             "#9c179e"
            ],
            [
             0.4444444444444444,
             "#bd3786"
            ],
            [
             0.5555555555555556,
             "#d8576b"
            ],
            [
             0.6666666666666666,
             "#ed7953"
            ],
            [
             0.7777777777777778,
             "#fb9f3a"
            ],
            [
             0.8888888888888888,
             "#fdca26"
            ],
            [
             1,
             "#f0f921"
            ]
           ]
          },
          "colorway": [
           "#636efa",
           "#EF553B",
           "#00cc96",
           "#ab63fa",
           "#FFA15A",
           "#19d3f3",
           "#FF6692",
           "#B6E880",
           "#FF97FF",
           "#FECB52"
          ],
          "font": {
           "color": "#2a3f5f"
          },
          "geo": {
           "bgcolor": "white",
           "lakecolor": "white",
           "landcolor": "#E5ECF6",
           "showlakes": true,
           "showland": true,
           "subunitcolor": "white"
          },
          "hoverlabel": {
           "align": "left"
          },
          "hovermode": "closest",
          "mapbox": {
           "style": "light"
          },
          "paper_bgcolor": "white",
          "plot_bgcolor": "#E5ECF6",
          "polar": {
           "angularaxis": {
            "gridcolor": "white",
            "linecolor": "white",
            "ticks": ""
           },
           "bgcolor": "#E5ECF6",
           "radialaxis": {
            "gridcolor": "white",
            "linecolor": "white",
            "ticks": ""
           }
          },
          "scene": {
           "xaxis": {
            "backgroundcolor": "#E5ECF6",
            "gridcolor": "white",
            "gridwidth": 2,
            "linecolor": "white",
            "showbackground": true,
            "ticks": "",
            "zerolinecolor": "white"
           },
           "yaxis": {
            "backgroundcolor": "#E5ECF6",
            "gridcolor": "white",
            "gridwidth": 2,
            "linecolor": "white",
            "showbackground": true,
            "ticks": "",
            "zerolinecolor": "white"
           },
           "zaxis": {
            "backgroundcolor": "#E5ECF6",
            "gridcolor": "white",
            "gridwidth": 2,
            "linecolor": "white",
            "showbackground": true,
            "ticks": "",
            "zerolinecolor": "white"
           }
          },
          "shapedefaults": {
           "line": {
            "color": "#2a3f5f"
           }
          },
          "ternary": {
           "aaxis": {
            "gridcolor": "white",
            "linecolor": "white",
            "ticks": ""
           },
           "baxis": {
            "gridcolor": "white",
            "linecolor": "white",
            "ticks": ""
           },
           "bgcolor": "#E5ECF6",
           "caxis": {
            "gridcolor": "white",
            "linecolor": "white",
            "ticks": ""
           }
          },
          "title": {
           "x": 0.05
          },
          "xaxis": {
           "automargin": true,
           "gridcolor": "white",
           "linecolor": "white",
           "ticks": "",
           "title": {
            "standoff": 15
           },
           "zerolinecolor": "white",
           "zerolinewidth": 2
          },
          "yaxis": {
           "automargin": true,
           "gridcolor": "white",
           "linecolor": "white",
           "ticks": "",
           "title": {
            "standoff": 15
           },
           "zerolinecolor": "white",
           "zerolinewidth": 2
          }
         }
        },
        "width": 200
       }
      }
     },
     "metadata": {},
     "output_type": "display_data"
    },
    {
     "data": {
      "application/vnd.plotly.v1+json": {
       "config": {
        "plotlyServerURL": "https://plot.ly"
       },
       "data": [
        {
         "domain": {
          "x": [
           0,
           1
          ],
          "y": [
           0,
           1
          ]
         },
         "gauge": {
          "axis": {
           "range": [
            100,
            0
           ],
           "tickfont": {
            "size": 8
           }
          },
          "bar": {
           "color": "green"
          },
          "steps": [
           {
            "color": "lightgray",
            "range": [
             0,
             100
            ]
           }
          ],
          "threshold": {
           "line": {
            "color": "black",
            "width": 4
           },
           "thickness": 0.75,
           "value": 4
          }
         },
         "mode": "gauge+number",
         "number": {
          "suffix": "%"
         },
         "title": {
          "font": {
           "size": 14
          },
          "text": "Atual"
         },
         "type": "indicator",
         "value": 0
        }
       ],
       "layout": {
        "autosize": true,
        "height": 200,
        "margin": {
         "b": 30,
         "l": 30,
         "r": 30,
         "t": 30
        },
        "plot_bgcolor": "white",
        "template": {
         "data": {
          "bar": [
           {
            "error_x": {
             "color": "#2a3f5f"
            },
            "error_y": {
             "color": "#2a3f5f"
            },
            "marker": {
             "line": {
              "color": "#E5ECF6",
              "width": 0.5
             },
             "pattern": {
              "fillmode": "overlay",
              "size": 10,
              "solidity": 0.2
             }
            },
            "type": "bar"
           }
          ],
          "barpolar": [
           {
            "marker": {
             "line": {
              "color": "#E5ECF6",
              "width": 0.5
             },
             "pattern": {
              "fillmode": "overlay",
              "size": 10,
              "solidity": 0.2
             }
            },
            "type": "barpolar"
           }
          ],
          "carpet": [
           {
            "aaxis": {
             "endlinecolor": "#2a3f5f",
             "gridcolor": "white",
             "linecolor": "white",
             "minorgridcolor": "white",
             "startlinecolor": "#2a3f5f"
            },
            "baxis": {
             "endlinecolor": "#2a3f5f",
             "gridcolor": "white",
             "linecolor": "white",
             "minorgridcolor": "white",
             "startlinecolor": "#2a3f5f"
            },
            "type": "carpet"
           }
          ],
          "choropleth": [
           {
            "colorbar": {
             "outlinewidth": 0,
             "ticks": ""
            },
            "type": "choropleth"
           }
          ],
          "contour": [
           {
            "colorbar": {
             "outlinewidth": 0,
             "ticks": ""
            },
            "colorscale": [
             [
              0,
              "#0d0887"
             ],
             [
              0.1111111111111111,
              "#46039f"
             ],
             [
              0.2222222222222222,
              "#7201a8"
             ],
             [
              0.3333333333333333,
              "#9c179e"
             ],
             [
              0.4444444444444444,
              "#bd3786"
             ],
             [
              0.5555555555555556,
              "#d8576b"
             ],
             [
              0.6666666666666666,
              "#ed7953"
             ],
             [
              0.7777777777777778,
              "#fb9f3a"
             ],
             [
              0.8888888888888888,
              "#fdca26"
             ],
             [
              1,
              "#f0f921"
             ]
            ],
            "type": "contour"
           }
          ],
          "contourcarpet": [
           {
            "colorbar": {
             "outlinewidth": 0,
             "ticks": ""
            },
            "type": "contourcarpet"
           }
          ],
          "heatmap": [
           {
            "colorbar": {
             "outlinewidth": 0,
             "ticks": ""
            },
            "colorscale": [
             [
              0,
              "#0d0887"
             ],
             [
              0.1111111111111111,
              "#46039f"
             ],
             [
              0.2222222222222222,
              "#7201a8"
             ],
             [
              0.3333333333333333,
              "#9c179e"
             ],
             [
              0.4444444444444444,
              "#bd3786"
             ],
             [
              0.5555555555555556,
              "#d8576b"
             ],
             [
              0.6666666666666666,
              "#ed7953"
             ],
             [
              0.7777777777777778,
              "#fb9f3a"
             ],
             [
              0.8888888888888888,
              "#fdca26"
             ],
             [
              1,
              "#f0f921"
             ]
            ],
            "type": "heatmap"
           }
          ],
          "heatmapgl": [
           {
            "colorbar": {
             "outlinewidth": 0,
             "ticks": ""
            },
            "colorscale": [
             [
              0,
              "#0d0887"
             ],
             [
              0.1111111111111111,
              "#46039f"
             ],
             [
              0.2222222222222222,
              "#7201a8"
             ],
             [
              0.3333333333333333,
              "#9c179e"
             ],
             [
              0.4444444444444444,
              "#bd3786"
             ],
             [
              0.5555555555555556,
              "#d8576b"
             ],
             [
              0.6666666666666666,
              "#ed7953"
             ],
             [
              0.7777777777777778,
              "#fb9f3a"
             ],
             [
              0.8888888888888888,
              "#fdca26"
             ],
             [
              1,
              "#f0f921"
             ]
            ],
            "type": "heatmapgl"
           }
          ],
          "histogram": [
           {
            "marker": {
             "pattern": {
              "fillmode": "overlay",
              "size": 10,
              "solidity": 0.2
             }
            },
            "type": "histogram"
           }
          ],
          "histogram2d": [
           {
            "colorbar": {
             "outlinewidth": 0,
             "ticks": ""
            },
            "colorscale": [
             [
              0,
              "#0d0887"
             ],
             [
              0.1111111111111111,
              "#46039f"
             ],
             [
              0.2222222222222222,
              "#7201a8"
             ],
             [
              0.3333333333333333,
              "#9c179e"
             ],
             [
              0.4444444444444444,
              "#bd3786"
             ],
             [
              0.5555555555555556,
              "#d8576b"
             ],
             [
              0.6666666666666666,
              "#ed7953"
             ],
             [
              0.7777777777777778,
              "#fb9f3a"
             ],
             [
              0.8888888888888888,
              "#fdca26"
             ],
             [
              1,
              "#f0f921"
             ]
            ],
            "type": "histogram2d"
           }
          ],
          "histogram2dcontour": [
           {
            "colorbar": {
             "outlinewidth": 0,
             "ticks": ""
            },
            "colorscale": [
             [
              0,
              "#0d0887"
             ],
             [
              0.1111111111111111,
              "#46039f"
             ],
             [
              0.2222222222222222,
              "#7201a8"
             ],
             [
              0.3333333333333333,
              "#9c179e"
             ],
             [
              0.4444444444444444,
              "#bd3786"
             ],
             [
              0.5555555555555556,
              "#d8576b"
             ],
             [
              0.6666666666666666,
              "#ed7953"
             ],
             [
              0.7777777777777778,
              "#fb9f3a"
             ],
             [
              0.8888888888888888,
              "#fdca26"
             ],
             [
              1,
              "#f0f921"
             ]
            ],
            "type": "histogram2dcontour"
           }
          ],
          "mesh3d": [
           {
            "colorbar": {
             "outlinewidth": 0,
             "ticks": ""
            },
            "type": "mesh3d"
           }
          ],
          "parcoords": [
           {
            "line": {
             "colorbar": {
              "outlinewidth": 0,
              "ticks": ""
             }
            },
            "type": "parcoords"
           }
          ],
          "pie": [
           {
            "automargin": true,
            "type": "pie"
           }
          ],
          "scatter": [
           {
            "fillpattern": {
             "fillmode": "overlay",
             "size": 10,
             "solidity": 0.2
            },
            "type": "scatter"
           }
          ],
          "scatter3d": [
           {
            "line": {
             "colorbar": {
              "outlinewidth": 0,
              "ticks": ""
             }
            },
            "marker": {
             "colorbar": {
              "outlinewidth": 0,
              "ticks": ""
             }
            },
            "type": "scatter3d"
           }
          ],
          "scattercarpet": [
           {
            "marker": {
             "colorbar": {
              "outlinewidth": 0,
              "ticks": ""
             }
            },
            "type": "scattercarpet"
           }
          ],
          "scattergeo": [
           {
            "marker": {
             "colorbar": {
              "outlinewidth": 0,
              "ticks": ""
             }
            },
            "type": "scattergeo"
           }
          ],
          "scattergl": [
           {
            "marker": {
             "colorbar": {
              "outlinewidth": 0,
              "ticks": ""
             }
            },
            "type": "scattergl"
           }
          ],
          "scattermapbox": [
           {
            "marker": {
             "colorbar": {
              "outlinewidth": 0,
              "ticks": ""
             }
            },
            "type": "scattermapbox"
           }
          ],
          "scatterpolar": [
           {
            "marker": {
             "colorbar": {
              "outlinewidth": 0,
              "ticks": ""
             }
            },
            "type": "scatterpolar"
           }
          ],
          "scatterpolargl": [
           {
            "marker": {
             "colorbar": {
              "outlinewidth": 0,
              "ticks": ""
             }
            },
            "type": "scatterpolargl"
           }
          ],
          "scatterternary": [
           {
            "marker": {
             "colorbar": {
              "outlinewidth": 0,
              "ticks": ""
             }
            },
            "type": "scatterternary"
           }
          ],
          "surface": [
           {
            "colorbar": {
             "outlinewidth": 0,
             "ticks": ""
            },
            "colorscale": [
             [
              0,
              "#0d0887"
             ],
             [
              0.1111111111111111,
              "#46039f"
             ],
             [
              0.2222222222222222,
              "#7201a8"
             ],
             [
              0.3333333333333333,
              "#9c179e"
             ],
             [
              0.4444444444444444,
              "#bd3786"
             ],
             [
              0.5555555555555556,
              "#d8576b"
             ],
             [
              0.6666666666666666,
              "#ed7953"
             ],
             [
              0.7777777777777778,
              "#fb9f3a"
             ],
             [
              0.8888888888888888,
              "#fdca26"
             ],
             [
              1,
              "#f0f921"
             ]
            ],
            "type": "surface"
           }
          ],
          "table": [
           {
            "cells": {
             "fill": {
              "color": "#EBF0F8"
             },
             "line": {
              "color": "white"
             }
            },
            "header": {
             "fill": {
              "color": "#C8D4E3"
             },
             "line": {
              "color": "white"
             }
            },
            "type": "table"
           }
          ]
         },
         "layout": {
          "annotationdefaults": {
           "arrowcolor": "#2a3f5f",
           "arrowhead": 0,
           "arrowwidth": 1
          },
          "autotypenumbers": "strict",
          "coloraxis": {
           "colorbar": {
            "outlinewidth": 0,
            "ticks": ""
           }
          },
          "colorscale": {
           "diverging": [
            [
             0,
             "#8e0152"
            ],
            [
             0.1,
             "#c51b7d"
            ],
            [
             0.2,
             "#de77ae"
            ],
            [
             0.3,
             "#f1b6da"
            ],
            [
             0.4,
             "#fde0ef"
            ],
            [
             0.5,
             "#f7f7f7"
            ],
            [
             0.6,
             "#e6f5d0"
            ],
            [
             0.7,
             "#b8e186"
            ],
            [
             0.8,
             "#7fbc41"
            ],
            [
             0.9,
             "#4d9221"
            ],
            [
             1,
             "#276419"
            ]
           ],
           "sequential": [
            [
             0,
             "#0d0887"
            ],
            [
             0.1111111111111111,
             "#46039f"
            ],
            [
             0.2222222222222222,
             "#7201a8"
            ],
            [
             0.3333333333333333,
             "#9c179e"
            ],
            [
             0.4444444444444444,
             "#bd3786"
            ],
            [
             0.5555555555555556,
             "#d8576b"
            ],
            [
             0.6666666666666666,
             "#ed7953"
            ],
            [
             0.7777777777777778,
             "#fb9f3a"
            ],
            [
             0.8888888888888888,
             "#fdca26"
            ],
            [
             1,
             "#f0f921"
            ]
           ],
           "sequentialminus": [
            [
             0,
             "#0d0887"
            ],
            [
             0.1111111111111111,
             "#46039f"
            ],
            [
             0.2222222222222222,
             "#7201a8"
            ],
            [
             0.3333333333333333,
             "#9c179e"
            ],
            [
             0.4444444444444444,
             "#bd3786"
            ],
            [
             0.5555555555555556,
             "#d8576b"
            ],
            [
             0.6666666666666666,
             "#ed7953"
            ],
            [
             0.7777777777777778,
             "#fb9f3a"
            ],
            [
             0.8888888888888888,
             "#fdca26"
            ],
            [
             1,
             "#f0f921"
            ]
           ]
          },
          "colorway": [
           "#636efa",
           "#EF553B",
           "#00cc96",
           "#ab63fa",
           "#FFA15A",
           "#19d3f3",
           "#FF6692",
           "#B6E880",
           "#FF97FF",
           "#FECB52"
          ],
          "font": {
           "color": "#2a3f5f"
          },
          "geo": {
           "bgcolor": "white",
           "lakecolor": "white",
           "landcolor": "#E5ECF6",
           "showlakes": true,
           "showland": true,
           "subunitcolor": "white"
          },
          "hoverlabel": {
           "align": "left"
          },
          "hovermode": "closest",
          "mapbox": {
           "style": "light"
          },
          "paper_bgcolor": "white",
          "plot_bgcolor": "#E5ECF6",
          "polar": {
           "angularaxis": {
            "gridcolor": "white",
            "linecolor": "white",
            "ticks": ""
           },
           "bgcolor": "#E5ECF6",
           "radialaxis": {
            "gridcolor": "white",
            "linecolor": "white",
            "ticks": ""
           }
          },
          "scene": {
           "xaxis": {
            "backgroundcolor": "#E5ECF6",
            "gridcolor": "white",
            "gridwidth": 2,
            "linecolor": "white",
            "showbackground": true,
            "ticks": "",
            "zerolinecolor": "white"
           },
           "yaxis": {
            "backgroundcolor": "#E5ECF6",
            "gridcolor": "white",
            "gridwidth": 2,
            "linecolor": "white",
            "showbackground": true,
            "ticks": "",
            "zerolinecolor": "white"
           },
           "zaxis": {
            "backgroundcolor": "#E5ECF6",
            "gridcolor": "white",
            "gridwidth": 2,
            "linecolor": "white",
            "showbackground": true,
            "ticks": "",
            "zerolinecolor": "white"
           }
          },
          "shapedefaults": {
           "line": {
            "color": "#2a3f5f"
           }
          },
          "ternary": {
           "aaxis": {
            "gridcolor": "white",
            "linecolor": "white",
            "ticks": ""
           },
           "baxis": {
            "gridcolor": "white",
            "linecolor": "white",
            "ticks": ""
           },
           "bgcolor": "#E5ECF6",
           "caxis": {
            "gridcolor": "white",
            "linecolor": "white",
            "ticks": ""
           }
          },
          "title": {
           "x": 0.05
          },
          "xaxis": {
           "automargin": true,
           "gridcolor": "white",
           "linecolor": "white",
           "ticks": "",
           "title": {
            "standoff": 15
           },
           "zerolinecolor": "white",
           "zerolinewidth": 2
          },
          "yaxis": {
           "automargin": true,
           "gridcolor": "white",
           "linecolor": "white",
           "ticks": "",
           "title": {
            "standoff": 15
           },
           "zerolinecolor": "white",
           "zerolinewidth": 2
          }
         }
        },
        "width": 200
       }
      }
     },
     "metadata": {},
     "output_type": "display_data"
    }
   ],
   "source": [
    "# cSpell: disable=invalid-name\n",
    "\n",
    "\n",
    "def calculate_eficiencia(df):\n",
    "    return df[\"eficiencia\"].mean()\n",
    "\n",
    "\n",
    "def calculate_performance(df):\n",
    "    return df[\"performance\"].mean()\n",
    "\n",
    "\n",
    "def calculate_reparos(df):\n",
    "    return df[\"reparo\"].mean()\n",
    "\n",
    "\n",
    "def draw_circular_progress_bar_v2(df: pd.DataFrame, type: str, meta: int):\n",
    "    # mapear o tipo das funções\n",
    "    type_map = {\n",
    "        \"eficiencia\": calculate_eficiencia,\n",
    "        \"performance\": calculate_performance,\n",
    "        \"reparo\": calculate_reparos,\n",
    "    }\n",
    "\n",
    "    # Verificar a primeira data_registro do dataframe para saber se os dados são do mês atual\n",
    "    this_month = df[\"data_registro\"].iloc[0].month == pd.Timestamp.now().month\n",
    "    month = \"Atual\" if this_month else \"Anterior\"\n",
    "\n",
    "    # Obter a função com base no tipo\n",
    "    func = type_map[type]\n",
    "\n",
    "    # Calcular a porcentagem\n",
    "    percentage = func(df.copy()) if func is not None else 0\n",
    "\n",
    "    # Arredondar porcentagem para não ter casas decimais\n",
    "    percentage = round(percentage, 2)\n",
    "\n",
    "    # Definir a cor com base na porcentagem\n",
    "    if type == \"eficiencia\":\n",
    "        color = \"green\" if percentage >= (meta / 100) else \"red\"\n",
    "    else:\n",
    "        color = \"red\" if percentage >= (meta / 100) else \"green\"\n",
    "\n",
    "    # Definir a escala do eixo para \"performance\" e \"reparo\"\n",
    "    axis_range = [0, 100] if type == \"eficiencia\" else [100, 0]\n",
    "\n",
    "    # Criar o gráfico\n",
    "    fig = go.Figure(\n",
    "        go.Indicator(\n",
    "            mode=\"gauge+number\",\n",
    "            value=percentage * 100,\n",
    "            number={\"suffix\": \"%\"},\n",
    "            domain={\"x\": [0, 1], \"y\": [0, 1]},\n",
    "            title={\n",
    "                \"text\": month,\n",
    "                \"font\": {\"size\": 14},\n",
    "            },\n",
    "            gauge={\n",
    "                \"axis\": {\n",
    "                    \"range\": axis_range,\n",
    "                    \"tickfont\": {\"size\": 8},\n",
    "                },\n",
    "                \"bar\": {\"color\": color},\n",
    "                \"steps\": [\n",
    "                    {\"range\": [0, 100], \"color\": \"lightgray\"},\n",
    "                ],\n",
    "                \"threshold\": {\n",
    "                    \"line\": {\"color\": \"black\", \"width\": 4},\n",
    "                    \"thickness\": 0.75,\n",
    "                    \"value\": meta,\n",
    "                },\n",
    "            },\n",
    "        )\n",
    "    )\n",
    "\n",
    "    fig.update_layout(\n",
    "        autosize=True,\n",
    "        margin=dict(t=30, b=30, l=30, r=30),\n",
    "        plot_bgcolor=\"white\",\n",
    "        width=200,  # apenas para visualização no jupyter\n",
    "        height=200,  # apenas para visualização no jupyter\n",
    "    )\n",
    "\n",
    "    fig.show()\n",
    "\n",
    "\n",
    "draw_circular_progress_bar_v2(df_eff, \"eficiencia\", 90)\n",
    "draw_circular_progress_bar_v2(df_perf, \"performance\", 4)\n",
    "draw_circular_progress_bar_v2(df_reparos, \"reparo\", 4)"
   ]
  },
  {
   "cell_type": "code",
   "execution_count": 27,
   "metadata": {},
   "outputs": [
    {
     "data": {
      "application/vnd.plotly.v1+json": {
       "config": {
        "plotlyServerURL": "https://plot.ly"
       },
       "data": [
        {
         "hoverinfo": "skip",
         "hovertemplate": "<i>Dia</i>: %{x}<br><b>Porcentagem</b>: %{y:.1f}<br>",
         "line": {
          "color": "blue"
         },
         "marker": {
          "color": "blue"
         },
         "mode": "lines+markers",
         "type": "scatter",
         "x": [
          "2024-02-01",
          "2024-02-02",
          "2024-02-03"
         ],
         "y": [
          50.11444968268569,
          70,
          37.93103448275862
         ]
        }
       ],
       "layout": {
        "height": 200,
        "margin": {
         "b": 0,
         "l": 0,
         "r": 0,
         "t": 0
        },
        "plot_bgcolor": "white",
        "showlegend": false,
        "template": {
         "data": {
          "bar": [
           {
            "error_x": {
             "color": "#2a3f5f"
            },
            "error_y": {
             "color": "#2a3f5f"
            },
            "marker": {
             "line": {
              "color": "#E5ECF6",
              "width": 0.5
             },
             "pattern": {
              "fillmode": "overlay",
              "size": 10,
              "solidity": 0.2
             }
            },
            "type": "bar"
           }
          ],
          "barpolar": [
           {
            "marker": {
             "line": {
              "color": "#E5ECF6",
              "width": 0.5
             },
             "pattern": {
              "fillmode": "overlay",
              "size": 10,
              "solidity": 0.2
             }
            },
            "type": "barpolar"
           }
          ],
          "carpet": [
           {
            "aaxis": {
             "endlinecolor": "#2a3f5f",
             "gridcolor": "white",
             "linecolor": "white",
             "minorgridcolor": "white",
             "startlinecolor": "#2a3f5f"
            },
            "baxis": {
             "endlinecolor": "#2a3f5f",
             "gridcolor": "white",
             "linecolor": "white",
             "minorgridcolor": "white",
             "startlinecolor": "#2a3f5f"
            },
            "type": "carpet"
           }
          ],
          "choropleth": [
           {
            "colorbar": {
             "outlinewidth": 0,
             "ticks": ""
            },
            "type": "choropleth"
           }
          ],
          "contour": [
           {
            "colorbar": {
             "outlinewidth": 0,
             "ticks": ""
            },
            "colorscale": [
             [
              0,
              "#0d0887"
             ],
             [
              0.1111111111111111,
              "#46039f"
             ],
             [
              0.2222222222222222,
              "#7201a8"
             ],
             [
              0.3333333333333333,
              "#9c179e"
             ],
             [
              0.4444444444444444,
              "#bd3786"
             ],
             [
              0.5555555555555556,
              "#d8576b"
             ],
             [
              0.6666666666666666,
              "#ed7953"
             ],
             [
              0.7777777777777778,
              "#fb9f3a"
             ],
             [
              0.8888888888888888,
              "#fdca26"
             ],
             [
              1,
              "#f0f921"
             ]
            ],
            "type": "contour"
           }
          ],
          "contourcarpet": [
           {
            "colorbar": {
             "outlinewidth": 0,
             "ticks": ""
            },
            "type": "contourcarpet"
           }
          ],
          "heatmap": [
           {
            "colorbar": {
             "outlinewidth": 0,
             "ticks": ""
            },
            "colorscale": [
             [
              0,
              "#0d0887"
             ],
             [
              0.1111111111111111,
              "#46039f"
             ],
             [
              0.2222222222222222,
              "#7201a8"
             ],
             [
              0.3333333333333333,
              "#9c179e"
             ],
             [
              0.4444444444444444,
              "#bd3786"
             ],
             [
              0.5555555555555556,
              "#d8576b"
             ],
             [
              0.6666666666666666,
              "#ed7953"
             ],
             [
              0.7777777777777778,
              "#fb9f3a"
             ],
             [
              0.8888888888888888,
              "#fdca26"
             ],
             [
              1,
              "#f0f921"
             ]
            ],
            "type": "heatmap"
           }
          ],
          "heatmapgl": [
           {
            "colorbar": {
             "outlinewidth": 0,
             "ticks": ""
            },
            "colorscale": [
             [
              0,
              "#0d0887"
             ],
             [
              0.1111111111111111,
              "#46039f"
             ],
             [
              0.2222222222222222,
              "#7201a8"
             ],
             [
              0.3333333333333333,
              "#9c179e"
             ],
             [
              0.4444444444444444,
              "#bd3786"
             ],
             [
              0.5555555555555556,
              "#d8576b"
             ],
             [
              0.6666666666666666,
              "#ed7953"
             ],
             [
              0.7777777777777778,
              "#fb9f3a"
             ],
             [
              0.8888888888888888,
              "#fdca26"
             ],
             [
              1,
              "#f0f921"
             ]
            ],
            "type": "heatmapgl"
           }
          ],
          "histogram": [
           {
            "marker": {
             "pattern": {
              "fillmode": "overlay",
              "size": 10,
              "solidity": 0.2
             }
            },
            "type": "histogram"
           }
          ],
          "histogram2d": [
           {
            "colorbar": {
             "outlinewidth": 0,
             "ticks": ""
            },
            "colorscale": [
             [
              0,
              "#0d0887"
             ],
             [
              0.1111111111111111,
              "#46039f"
             ],
             [
              0.2222222222222222,
              "#7201a8"
             ],
             [
              0.3333333333333333,
              "#9c179e"
             ],
             [
              0.4444444444444444,
              "#bd3786"
             ],
             [
              0.5555555555555556,
              "#d8576b"
             ],
             [
              0.6666666666666666,
              "#ed7953"
             ],
             [
              0.7777777777777778,
              "#fb9f3a"
             ],
             [
              0.8888888888888888,
              "#fdca26"
             ],
             [
              1,
              "#f0f921"
             ]
            ],
            "type": "histogram2d"
           }
          ],
          "histogram2dcontour": [
           {
            "colorbar": {
             "outlinewidth": 0,
             "ticks": ""
            },
            "colorscale": [
             [
              0,
              "#0d0887"
             ],
             [
              0.1111111111111111,
              "#46039f"
             ],
             [
              0.2222222222222222,
              "#7201a8"
             ],
             [
              0.3333333333333333,
              "#9c179e"
             ],
             [
              0.4444444444444444,
              "#bd3786"
             ],
             [
              0.5555555555555556,
              "#d8576b"
             ],
             [
              0.6666666666666666,
              "#ed7953"
             ],
             [
              0.7777777777777778,
              "#fb9f3a"
             ],
             [
              0.8888888888888888,
              "#fdca26"
             ],
             [
              1,
              "#f0f921"
             ]
            ],
            "type": "histogram2dcontour"
           }
          ],
          "mesh3d": [
           {
            "colorbar": {
             "outlinewidth": 0,
             "ticks": ""
            },
            "type": "mesh3d"
           }
          ],
          "parcoords": [
           {
            "line": {
             "colorbar": {
              "outlinewidth": 0,
              "ticks": ""
             }
            },
            "type": "parcoords"
           }
          ],
          "pie": [
           {
            "automargin": true,
            "type": "pie"
           }
          ],
          "scatter": [
           {
            "fillpattern": {
             "fillmode": "overlay",
             "size": 10,
             "solidity": 0.2
            },
            "type": "scatter"
           }
          ],
          "scatter3d": [
           {
            "line": {
             "colorbar": {
              "outlinewidth": 0,
              "ticks": ""
             }
            },
            "marker": {
             "colorbar": {
              "outlinewidth": 0,
              "ticks": ""
             }
            },
            "type": "scatter3d"
           }
          ],
          "scattercarpet": [
           {
            "marker": {
             "colorbar": {
              "outlinewidth": 0,
              "ticks": ""
             }
            },
            "type": "scattercarpet"
           }
          ],
          "scattergeo": [
           {
            "marker": {
             "colorbar": {
              "outlinewidth": 0,
              "ticks": ""
             }
            },
            "type": "scattergeo"
           }
          ],
          "scattergl": [
           {
            "marker": {
             "colorbar": {
              "outlinewidth": 0,
              "ticks": ""
             }
            },
            "type": "scattergl"
           }
          ],
          "scattermapbox": [
           {
            "marker": {
             "colorbar": {
              "outlinewidth": 0,
              "ticks": ""
             }
            },
            "type": "scattermapbox"
           }
          ],
          "scatterpolar": [
           {
            "marker": {
             "colorbar": {
              "outlinewidth": 0,
              "ticks": ""
             }
            },
            "type": "scatterpolar"
           }
          ],
          "scatterpolargl": [
           {
            "marker": {
             "colorbar": {
              "outlinewidth": 0,
              "ticks": ""
             }
            },
            "type": "scatterpolargl"
           }
          ],
          "scatterternary": [
           {
            "marker": {
             "colorbar": {
              "outlinewidth": 0,
              "ticks": ""
             }
            },
            "type": "scatterternary"
           }
          ],
          "surface": [
           {
            "colorbar": {
             "outlinewidth": 0,
             "ticks": ""
            },
            "colorscale": [
             [
              0,
              "#0d0887"
             ],
             [
              0.1111111111111111,
              "#46039f"
             ],
             [
              0.2222222222222222,
              "#7201a8"
             ],
             [
              0.3333333333333333,
              "#9c179e"
             ],
             [
              0.4444444444444444,
              "#bd3786"
             ],
             [
              0.5555555555555556,
              "#d8576b"
             ],
             [
              0.6666666666666666,
              "#ed7953"
             ],
             [
              0.7777777777777778,
              "#fb9f3a"
             ],
             [
              0.8888888888888888,
              "#fdca26"
             ],
             [
              1,
              "#f0f921"
             ]
            ],
            "type": "surface"
           }
          ],
          "table": [
           {
            "cells": {
             "fill": {
              "color": "#EBF0F8"
             },
             "line": {
              "color": "white"
             }
            },
            "header": {
             "fill": {
              "color": "#C8D4E3"
             },
             "line": {
              "color": "white"
             }
            },
            "type": "table"
           }
          ]
         },
         "layout": {
          "annotationdefaults": {
           "arrowcolor": "#2a3f5f",
           "arrowhead": 0,
           "arrowwidth": 1
          },
          "autotypenumbers": "strict",
          "coloraxis": {
           "colorbar": {
            "outlinewidth": 0,
            "ticks": ""
           }
          },
          "colorscale": {
           "diverging": [
            [
             0,
             "#8e0152"
            ],
            [
             0.1,
             "#c51b7d"
            ],
            [
             0.2,
             "#de77ae"
            ],
            [
             0.3,
             "#f1b6da"
            ],
            [
             0.4,
             "#fde0ef"
            ],
            [
             0.5,
             "#f7f7f7"
            ],
            [
             0.6,
             "#e6f5d0"
            ],
            [
             0.7,
             "#b8e186"
            ],
            [
             0.8,
             "#7fbc41"
            ],
            [
             0.9,
             "#4d9221"
            ],
            [
             1,
             "#276419"
            ]
           ],
           "sequential": [
            [
             0,
             "#0d0887"
            ],
            [
             0.1111111111111111,
             "#46039f"
            ],
            [
             0.2222222222222222,
             "#7201a8"
            ],
            [
             0.3333333333333333,
             "#9c179e"
            ],
            [
             0.4444444444444444,
             "#bd3786"
            ],
            [
             0.5555555555555556,
             "#d8576b"
            ],
            [
             0.6666666666666666,
             "#ed7953"
            ],
            [
             0.7777777777777778,
             "#fb9f3a"
            ],
            [
             0.8888888888888888,
             "#fdca26"
            ],
            [
             1,
             "#f0f921"
            ]
           ],
           "sequentialminus": [
            [
             0,
             "#0d0887"
            ],
            [
             0.1111111111111111,
             "#46039f"
            ],
            [
             0.2222222222222222,
             "#7201a8"
            ],
            [
             0.3333333333333333,
             "#9c179e"
            ],
            [
             0.4444444444444444,
             "#bd3786"
            ],
            [
             0.5555555555555556,
             "#d8576b"
            ],
            [
             0.6666666666666666,
             "#ed7953"
            ],
            [
             0.7777777777777778,
             "#fb9f3a"
            ],
            [
             0.8888888888888888,
             "#fdca26"
            ],
            [
             1,
             "#f0f921"
            ]
           ]
          },
          "colorway": [
           "#636efa",
           "#EF553B",
           "#00cc96",
           "#ab63fa",
           "#FFA15A",
           "#19d3f3",
           "#FF6692",
           "#B6E880",
           "#FF97FF",
           "#FECB52"
          ],
          "font": {
           "color": "#2a3f5f"
          },
          "geo": {
           "bgcolor": "white",
           "lakecolor": "white",
           "landcolor": "#E5ECF6",
           "showlakes": true,
           "showland": true,
           "subunitcolor": "white"
          },
          "hoverlabel": {
           "align": "left"
          },
          "hovermode": "closest",
          "mapbox": {
           "style": "light"
          },
          "paper_bgcolor": "white",
          "plot_bgcolor": "#E5ECF6",
          "polar": {
           "angularaxis": {
            "gridcolor": "white",
            "linecolor": "white",
            "ticks": ""
           },
           "bgcolor": "#E5ECF6",
           "radialaxis": {
            "gridcolor": "white",
            "linecolor": "white",
            "ticks": ""
           }
          },
          "scene": {
           "xaxis": {
            "backgroundcolor": "#E5ECF6",
            "gridcolor": "white",
            "gridwidth": 2,
            "linecolor": "white",
            "showbackground": true,
            "ticks": "",
            "zerolinecolor": "white"
           },
           "yaxis": {
            "backgroundcolor": "#E5ECF6",
            "gridcolor": "white",
            "gridwidth": 2,
            "linecolor": "white",
            "showbackground": true,
            "ticks": "",
            "zerolinecolor": "white"
           },
           "zaxis": {
            "backgroundcolor": "#E5ECF6",
            "gridcolor": "white",
            "gridwidth": 2,
            "linecolor": "white",
            "showbackground": true,
            "ticks": "",
            "zerolinecolor": "white"
           }
          },
          "shapedefaults": {
           "line": {
            "color": "#2a3f5f"
           }
          },
          "ternary": {
           "aaxis": {
            "gridcolor": "white",
            "linecolor": "white",
            "ticks": ""
           },
           "baxis": {
            "gridcolor": "white",
            "linecolor": "white",
            "ticks": ""
           },
           "bgcolor": "#E5ECF6",
           "caxis": {
            "gridcolor": "white",
            "linecolor": "white",
            "ticks": ""
           }
          },
          "title": {
           "x": 0.05
          },
          "xaxis": {
           "automargin": true,
           "gridcolor": "white",
           "linecolor": "white",
           "ticks": "",
           "title": {
            "standoff": 15
           },
           "zerolinecolor": "white",
           "zerolinewidth": 2
          },
          "yaxis": {
           "automargin": true,
           "gridcolor": "white",
           "linecolor": "white",
           "ticks": "",
           "title": {
            "standoff": 15
           },
           "zerolinecolor": "white",
           "zerolinewidth": 2
          }
         }
        },
        "xaxis": {
         "showticklabels": false
        },
        "yaxis": {
         "showticklabels": false
        }
       }
      }
     },
     "metadata": {},
     "output_type": "display_data"
    },
    {
     "data": {
      "application/vnd.plotly.v1+json": {
       "config": {
        "plotlyServerURL": "https://plot.ly"
       },
       "data": [
        {
         "hoverinfo": "skip",
         "hovertemplate": "<i>Dia</i>: %{x}<br><b>Porcentagem</b>: %{y:.1f}<br>",
         "line": {
          "color": "blue"
         },
         "marker": {
          "color": "blue"
         },
         "mode": "lines+markers",
         "type": "scatter",
         "x": [
          "2024-02-01",
          "2024-02-02",
          "2024-02-03"
         ],
         "y": [
          37.46512824271526,
          18.916666666666664,
          3.4482758620689653
         ]
        }
       ],
       "layout": {
        "height": 200,
        "margin": {
         "b": 0,
         "l": 0,
         "r": 0,
         "t": 0
        },
        "plot_bgcolor": "white",
        "showlegend": false,
        "template": {
         "data": {
          "bar": [
           {
            "error_x": {
             "color": "#2a3f5f"
            },
            "error_y": {
             "color": "#2a3f5f"
            },
            "marker": {
             "line": {
              "color": "#E5ECF6",
              "width": 0.5
             },
             "pattern": {
              "fillmode": "overlay",
              "size": 10,
              "solidity": 0.2
             }
            },
            "type": "bar"
           }
          ],
          "barpolar": [
           {
            "marker": {
             "line": {
              "color": "#E5ECF6",
              "width": 0.5
             },
             "pattern": {
              "fillmode": "overlay",
              "size": 10,
              "solidity": 0.2
             }
            },
            "type": "barpolar"
           }
          ],
          "carpet": [
           {
            "aaxis": {
             "endlinecolor": "#2a3f5f",
             "gridcolor": "white",
             "linecolor": "white",
             "minorgridcolor": "white",
             "startlinecolor": "#2a3f5f"
            },
            "baxis": {
             "endlinecolor": "#2a3f5f",
             "gridcolor": "white",
             "linecolor": "white",
             "minorgridcolor": "white",
             "startlinecolor": "#2a3f5f"
            },
            "type": "carpet"
           }
          ],
          "choropleth": [
           {
            "colorbar": {
             "outlinewidth": 0,
             "ticks": ""
            },
            "type": "choropleth"
           }
          ],
          "contour": [
           {
            "colorbar": {
             "outlinewidth": 0,
             "ticks": ""
            },
            "colorscale": [
             [
              0,
              "#0d0887"
             ],
             [
              0.1111111111111111,
              "#46039f"
             ],
             [
              0.2222222222222222,
              "#7201a8"
             ],
             [
              0.3333333333333333,
              "#9c179e"
             ],
             [
              0.4444444444444444,
              "#bd3786"
             ],
             [
              0.5555555555555556,
              "#d8576b"
             ],
             [
              0.6666666666666666,
              "#ed7953"
             ],
             [
              0.7777777777777778,
              "#fb9f3a"
             ],
             [
              0.8888888888888888,
              "#fdca26"
             ],
             [
              1,
              "#f0f921"
             ]
            ],
            "type": "contour"
           }
          ],
          "contourcarpet": [
           {
            "colorbar": {
             "outlinewidth": 0,
             "ticks": ""
            },
            "type": "contourcarpet"
           }
          ],
          "heatmap": [
           {
            "colorbar": {
             "outlinewidth": 0,
             "ticks": ""
            },
            "colorscale": [
             [
              0,
              "#0d0887"
             ],
             [
              0.1111111111111111,
              "#46039f"
             ],
             [
              0.2222222222222222,
              "#7201a8"
             ],
             [
              0.3333333333333333,
              "#9c179e"
             ],
             [
              0.4444444444444444,
              "#bd3786"
             ],
             [
              0.5555555555555556,
              "#d8576b"
             ],
             [
              0.6666666666666666,
              "#ed7953"
             ],
             [
              0.7777777777777778,
              "#fb9f3a"
             ],
             [
              0.8888888888888888,
              "#fdca26"
             ],
             [
              1,
              "#f0f921"
             ]
            ],
            "type": "heatmap"
           }
          ],
          "heatmapgl": [
           {
            "colorbar": {
             "outlinewidth": 0,
             "ticks": ""
            },
            "colorscale": [
             [
              0,
              "#0d0887"
             ],
             [
              0.1111111111111111,
              "#46039f"
             ],
             [
              0.2222222222222222,
              "#7201a8"
             ],
             [
              0.3333333333333333,
              "#9c179e"
             ],
             [
              0.4444444444444444,
              "#bd3786"
             ],
             [
              0.5555555555555556,
              "#d8576b"
             ],
             [
              0.6666666666666666,
              "#ed7953"
             ],
             [
              0.7777777777777778,
              "#fb9f3a"
             ],
             [
              0.8888888888888888,
              "#fdca26"
             ],
             [
              1,
              "#f0f921"
             ]
            ],
            "type": "heatmapgl"
           }
          ],
          "histogram": [
           {
            "marker": {
             "pattern": {
              "fillmode": "overlay",
              "size": 10,
              "solidity": 0.2
             }
            },
            "type": "histogram"
           }
          ],
          "histogram2d": [
           {
            "colorbar": {
             "outlinewidth": 0,
             "ticks": ""
            },
            "colorscale": [
             [
              0,
              "#0d0887"
             ],
             [
              0.1111111111111111,
              "#46039f"
             ],
             [
              0.2222222222222222,
              "#7201a8"
             ],
             [
              0.3333333333333333,
              "#9c179e"
             ],
             [
              0.4444444444444444,
              "#bd3786"
             ],
             [
              0.5555555555555556,
              "#d8576b"
             ],
             [
              0.6666666666666666,
              "#ed7953"
             ],
             [
              0.7777777777777778,
              "#fb9f3a"
             ],
             [
              0.8888888888888888,
              "#fdca26"
             ],
             [
              1,
              "#f0f921"
             ]
            ],
            "type": "histogram2d"
           }
          ],
          "histogram2dcontour": [
           {
            "colorbar": {
             "outlinewidth": 0,
             "ticks": ""
            },
            "colorscale": [
             [
              0,
              "#0d0887"
             ],
             [
              0.1111111111111111,
              "#46039f"
             ],
             [
              0.2222222222222222,
              "#7201a8"
             ],
             [
              0.3333333333333333,
              "#9c179e"
             ],
             [
              0.4444444444444444,
              "#bd3786"
             ],
             [
              0.5555555555555556,
              "#d8576b"
             ],
             [
              0.6666666666666666,
              "#ed7953"
             ],
             [
              0.7777777777777778,
              "#fb9f3a"
             ],
             [
              0.8888888888888888,
              "#fdca26"
             ],
             [
              1,
              "#f0f921"
             ]
            ],
            "type": "histogram2dcontour"
           }
          ],
          "mesh3d": [
           {
            "colorbar": {
             "outlinewidth": 0,
             "ticks": ""
            },
            "type": "mesh3d"
           }
          ],
          "parcoords": [
           {
            "line": {
             "colorbar": {
              "outlinewidth": 0,
              "ticks": ""
             }
            },
            "type": "parcoords"
           }
          ],
          "pie": [
           {
            "automargin": true,
            "type": "pie"
           }
          ],
          "scatter": [
           {
            "fillpattern": {
             "fillmode": "overlay",
             "size": 10,
             "solidity": 0.2
            },
            "type": "scatter"
           }
          ],
          "scatter3d": [
           {
            "line": {
             "colorbar": {
              "outlinewidth": 0,
              "ticks": ""
             }
            },
            "marker": {
             "colorbar": {
              "outlinewidth": 0,
              "ticks": ""
             }
            },
            "type": "scatter3d"
           }
          ],
          "scattercarpet": [
           {
            "marker": {
             "colorbar": {
              "outlinewidth": 0,
              "ticks": ""
             }
            },
            "type": "scattercarpet"
           }
          ],
          "scattergeo": [
           {
            "marker": {
             "colorbar": {
              "outlinewidth": 0,
              "ticks": ""
             }
            },
            "type": "scattergeo"
           }
          ],
          "scattergl": [
           {
            "marker": {
             "colorbar": {
              "outlinewidth": 0,
              "ticks": ""
             }
            },
            "type": "scattergl"
           }
          ],
          "scattermapbox": [
           {
            "marker": {
             "colorbar": {
              "outlinewidth": 0,
              "ticks": ""
             }
            },
            "type": "scattermapbox"
           }
          ],
          "scatterpolar": [
           {
            "marker": {
             "colorbar": {
              "outlinewidth": 0,
              "ticks": ""
             }
            },
            "type": "scatterpolar"
           }
          ],
          "scatterpolargl": [
           {
            "marker": {
             "colorbar": {
              "outlinewidth": 0,
              "ticks": ""
             }
            },
            "type": "scatterpolargl"
           }
          ],
          "scatterternary": [
           {
            "marker": {
             "colorbar": {
              "outlinewidth": 0,
              "ticks": ""
             }
            },
            "type": "scatterternary"
           }
          ],
          "surface": [
           {
            "colorbar": {
             "outlinewidth": 0,
             "ticks": ""
            },
            "colorscale": [
             [
              0,
              "#0d0887"
             ],
             [
              0.1111111111111111,
              "#46039f"
             ],
             [
              0.2222222222222222,
              "#7201a8"
             ],
             [
              0.3333333333333333,
              "#9c179e"
             ],
             [
              0.4444444444444444,
              "#bd3786"
             ],
             [
              0.5555555555555556,
              "#d8576b"
             ],
             [
              0.6666666666666666,
              "#ed7953"
             ],
             [
              0.7777777777777778,
              "#fb9f3a"
             ],
             [
              0.8888888888888888,
              "#fdca26"
             ],
             [
              1,
              "#f0f921"
             ]
            ],
            "type": "surface"
           }
          ],
          "table": [
           {
            "cells": {
             "fill": {
              "color": "#EBF0F8"
             },
             "line": {
              "color": "white"
             }
            },
            "header": {
             "fill": {
              "color": "#C8D4E3"
             },
             "line": {
              "color": "white"
             }
            },
            "type": "table"
           }
          ]
         },
         "layout": {
          "annotationdefaults": {
           "arrowcolor": "#2a3f5f",
           "arrowhead": 0,
           "arrowwidth": 1
          },
          "autotypenumbers": "strict",
          "coloraxis": {
           "colorbar": {
            "outlinewidth": 0,
            "ticks": ""
           }
          },
          "colorscale": {
           "diverging": [
            [
             0,
             "#8e0152"
            ],
            [
             0.1,
             "#c51b7d"
            ],
            [
             0.2,
             "#de77ae"
            ],
            [
             0.3,
             "#f1b6da"
            ],
            [
             0.4,
             "#fde0ef"
            ],
            [
             0.5,
             "#f7f7f7"
            ],
            [
             0.6,
             "#e6f5d0"
            ],
            [
             0.7,
             "#b8e186"
            ],
            [
             0.8,
             "#7fbc41"
            ],
            [
             0.9,
             "#4d9221"
            ],
            [
             1,
             "#276419"
            ]
           ],
           "sequential": [
            [
             0,
             "#0d0887"
            ],
            [
             0.1111111111111111,
             "#46039f"
            ],
            [
             0.2222222222222222,
             "#7201a8"
            ],
            [
             0.3333333333333333,
             "#9c179e"
            ],
            [
             0.4444444444444444,
             "#bd3786"
            ],
            [
             0.5555555555555556,
             "#d8576b"
            ],
            [
             0.6666666666666666,
             "#ed7953"
            ],
            [
             0.7777777777777778,
             "#fb9f3a"
            ],
            [
             0.8888888888888888,
             "#fdca26"
            ],
            [
             1,
             "#f0f921"
            ]
           ],
           "sequentialminus": [
            [
             0,
             "#0d0887"
            ],
            [
             0.1111111111111111,
             "#46039f"
            ],
            [
             0.2222222222222222,
             "#7201a8"
            ],
            [
             0.3333333333333333,
             "#9c179e"
            ],
            [
             0.4444444444444444,
             "#bd3786"
            ],
            [
             0.5555555555555556,
             "#d8576b"
            ],
            [
             0.6666666666666666,
             "#ed7953"
            ],
            [
             0.7777777777777778,
             "#fb9f3a"
            ],
            [
             0.8888888888888888,
             "#fdca26"
            ],
            [
             1,
             "#f0f921"
            ]
           ]
          },
          "colorway": [
           "#636efa",
           "#EF553B",
           "#00cc96",
           "#ab63fa",
           "#FFA15A",
           "#19d3f3",
           "#FF6692",
           "#B6E880",
           "#FF97FF",
           "#FECB52"
          ],
          "font": {
           "color": "#2a3f5f"
          },
          "geo": {
           "bgcolor": "white",
           "lakecolor": "white",
           "landcolor": "#E5ECF6",
           "showlakes": true,
           "showland": true,
           "subunitcolor": "white"
          },
          "hoverlabel": {
           "align": "left"
          },
          "hovermode": "closest",
          "mapbox": {
           "style": "light"
          },
          "paper_bgcolor": "white",
          "plot_bgcolor": "#E5ECF6",
          "polar": {
           "angularaxis": {
            "gridcolor": "white",
            "linecolor": "white",
            "ticks": ""
           },
           "bgcolor": "#E5ECF6",
           "radialaxis": {
            "gridcolor": "white",
            "linecolor": "white",
            "ticks": ""
           }
          },
          "scene": {
           "xaxis": {
            "backgroundcolor": "#E5ECF6",
            "gridcolor": "white",
            "gridwidth": 2,
            "linecolor": "white",
            "showbackground": true,
            "ticks": "",
            "zerolinecolor": "white"
           },
           "yaxis": {
            "backgroundcolor": "#E5ECF6",
            "gridcolor": "white",
            "gridwidth": 2,
            "linecolor": "white",
            "showbackground": true,
            "ticks": "",
            "zerolinecolor": "white"
           },
           "zaxis": {
            "backgroundcolor": "#E5ECF6",
            "gridcolor": "white",
            "gridwidth": 2,
            "linecolor": "white",
            "showbackground": true,
            "ticks": "",
            "zerolinecolor": "white"
           }
          },
          "shapedefaults": {
           "line": {
            "color": "#2a3f5f"
           }
          },
          "ternary": {
           "aaxis": {
            "gridcolor": "white",
            "linecolor": "white",
            "ticks": ""
           },
           "baxis": {
            "gridcolor": "white",
            "linecolor": "white",
            "ticks": ""
           },
           "bgcolor": "#E5ECF6",
           "caxis": {
            "gridcolor": "white",
            "linecolor": "white",
            "ticks": ""
           }
          },
          "title": {
           "x": 0.05
          },
          "xaxis": {
           "automargin": true,
           "gridcolor": "white",
           "linecolor": "white",
           "ticks": "",
           "title": {
            "standoff": 15
           },
           "zerolinecolor": "white",
           "zerolinewidth": 2
          },
          "yaxis": {
           "automargin": true,
           "gridcolor": "white",
           "linecolor": "white",
           "ticks": "",
           "title": {
            "standoff": 15
           },
           "zerolinecolor": "white",
           "zerolinewidth": 2
          }
         }
        },
        "xaxis": {
         "showticklabels": false
        },
        "yaxis": {
         "showticklabels": false
        }
       }
      }
     },
     "metadata": {},
     "output_type": "display_data"
    },
    {
     "data": {
      "application/vnd.plotly.v1+json": {
       "config": {
        "plotlyServerURL": "https://plot.ly"
       },
       "data": [
        {
         "hoverinfo": "skip",
         "hovertemplate": "<i>Dia</i>: %{x}<br><b>Porcentagem</b>: %{y:.1f}<br>",
         "line": {
          "color": "blue"
         },
         "marker": {
          "color": "blue"
         },
         "mode": "lines+markers",
         "type": "scatter",
         "x": [
          "2024-02-01",
          "2024-02-02",
          "2024-02-03"
         ],
         "y": [
          0.021367521367521368,
          0,
          0
         ]
        }
       ],
       "layout": {
        "height": 200,
        "margin": {
         "b": 0,
         "l": 0,
         "r": 0,
         "t": 0
        },
        "plot_bgcolor": "white",
        "showlegend": false,
        "template": {
         "data": {
          "bar": [
           {
            "error_x": {
             "color": "#2a3f5f"
            },
            "error_y": {
             "color": "#2a3f5f"
            },
            "marker": {
             "line": {
              "color": "#E5ECF6",
              "width": 0.5
             },
             "pattern": {
              "fillmode": "overlay",
              "size": 10,
              "solidity": 0.2
             }
            },
            "type": "bar"
           }
          ],
          "barpolar": [
           {
            "marker": {
             "line": {
              "color": "#E5ECF6",
              "width": 0.5
             },
             "pattern": {
              "fillmode": "overlay",
              "size": 10,
              "solidity": 0.2
             }
            },
            "type": "barpolar"
           }
          ],
          "carpet": [
           {
            "aaxis": {
             "endlinecolor": "#2a3f5f",
             "gridcolor": "white",
             "linecolor": "white",
             "minorgridcolor": "white",
             "startlinecolor": "#2a3f5f"
            },
            "baxis": {
             "endlinecolor": "#2a3f5f",
             "gridcolor": "white",
             "linecolor": "white",
             "minorgridcolor": "white",
             "startlinecolor": "#2a3f5f"
            },
            "type": "carpet"
           }
          ],
          "choropleth": [
           {
            "colorbar": {
             "outlinewidth": 0,
             "ticks": ""
            },
            "type": "choropleth"
           }
          ],
          "contour": [
           {
            "colorbar": {
             "outlinewidth": 0,
             "ticks": ""
            },
            "colorscale": [
             [
              0,
              "#0d0887"
             ],
             [
              0.1111111111111111,
              "#46039f"
             ],
             [
              0.2222222222222222,
              "#7201a8"
             ],
             [
              0.3333333333333333,
              "#9c179e"
             ],
             [
              0.4444444444444444,
              "#bd3786"
             ],
             [
              0.5555555555555556,
              "#d8576b"
             ],
             [
              0.6666666666666666,
              "#ed7953"
             ],
             [
              0.7777777777777778,
              "#fb9f3a"
             ],
             [
              0.8888888888888888,
              "#fdca26"
             ],
             [
              1,
              "#f0f921"
             ]
            ],
            "type": "contour"
           }
          ],
          "contourcarpet": [
           {
            "colorbar": {
             "outlinewidth": 0,
             "ticks": ""
            },
            "type": "contourcarpet"
           }
          ],
          "heatmap": [
           {
            "colorbar": {
             "outlinewidth": 0,
             "ticks": ""
            },
            "colorscale": [
             [
              0,
              "#0d0887"
             ],
             [
              0.1111111111111111,
              "#46039f"
             ],
             [
              0.2222222222222222,
              "#7201a8"
             ],
             [
              0.3333333333333333,
              "#9c179e"
             ],
             [
              0.4444444444444444,
              "#bd3786"
             ],
             [
              0.5555555555555556,
              "#d8576b"
             ],
             [
              0.6666666666666666,
              "#ed7953"
             ],
             [
              0.7777777777777778,
              "#fb9f3a"
             ],
             [
              0.8888888888888888,
              "#fdca26"
             ],
             [
              1,
              "#f0f921"
             ]
            ],
            "type": "heatmap"
           }
          ],
          "heatmapgl": [
           {
            "colorbar": {
             "outlinewidth": 0,
             "ticks": ""
            },
            "colorscale": [
             [
              0,
              "#0d0887"
             ],
             [
              0.1111111111111111,
              "#46039f"
             ],
             [
              0.2222222222222222,
              "#7201a8"
             ],
             [
              0.3333333333333333,
              "#9c179e"
             ],
             [
              0.4444444444444444,
              "#bd3786"
             ],
             [
              0.5555555555555556,
              "#d8576b"
             ],
             [
              0.6666666666666666,
              "#ed7953"
             ],
             [
              0.7777777777777778,
              "#fb9f3a"
             ],
             [
              0.8888888888888888,
              "#fdca26"
             ],
             [
              1,
              "#f0f921"
             ]
            ],
            "type": "heatmapgl"
           }
          ],
          "histogram": [
           {
            "marker": {
             "pattern": {
              "fillmode": "overlay",
              "size": 10,
              "solidity": 0.2
             }
            },
            "type": "histogram"
           }
          ],
          "histogram2d": [
           {
            "colorbar": {
             "outlinewidth": 0,
             "ticks": ""
            },
            "colorscale": [
             [
              0,
              "#0d0887"
             ],
             [
              0.1111111111111111,
              "#46039f"
             ],
             [
              0.2222222222222222,
              "#7201a8"
             ],
             [
              0.3333333333333333,
              "#9c179e"
             ],
             [
              0.4444444444444444,
              "#bd3786"
             ],
             [
              0.5555555555555556,
              "#d8576b"
             ],
             [
              0.6666666666666666,
              "#ed7953"
             ],
             [
              0.7777777777777778,
              "#fb9f3a"
             ],
             [
              0.8888888888888888,
              "#fdca26"
             ],
             [
              1,
              "#f0f921"
             ]
            ],
            "type": "histogram2d"
           }
          ],
          "histogram2dcontour": [
           {
            "colorbar": {
             "outlinewidth": 0,
             "ticks": ""
            },
            "colorscale": [
             [
              0,
              "#0d0887"
             ],
             [
              0.1111111111111111,
              "#46039f"
             ],
             [
              0.2222222222222222,
              "#7201a8"
             ],
             [
              0.3333333333333333,
              "#9c179e"
             ],
             [
              0.4444444444444444,
              "#bd3786"
             ],
             [
              0.5555555555555556,
              "#d8576b"
             ],
             [
              0.6666666666666666,
              "#ed7953"
             ],
             [
              0.7777777777777778,
              "#fb9f3a"
             ],
             [
              0.8888888888888888,
              "#fdca26"
             ],
             [
              1,
              "#f0f921"
             ]
            ],
            "type": "histogram2dcontour"
           }
          ],
          "mesh3d": [
           {
            "colorbar": {
             "outlinewidth": 0,
             "ticks": ""
            },
            "type": "mesh3d"
           }
          ],
          "parcoords": [
           {
            "line": {
             "colorbar": {
              "outlinewidth": 0,
              "ticks": ""
             }
            },
            "type": "parcoords"
           }
          ],
          "pie": [
           {
            "automargin": true,
            "type": "pie"
           }
          ],
          "scatter": [
           {
            "fillpattern": {
             "fillmode": "overlay",
             "size": 10,
             "solidity": 0.2
            },
            "type": "scatter"
           }
          ],
          "scatter3d": [
           {
            "line": {
             "colorbar": {
              "outlinewidth": 0,
              "ticks": ""
             }
            },
            "marker": {
             "colorbar": {
              "outlinewidth": 0,
              "ticks": ""
             }
            },
            "type": "scatter3d"
           }
          ],
          "scattercarpet": [
           {
            "marker": {
             "colorbar": {
              "outlinewidth": 0,
              "ticks": ""
             }
            },
            "type": "scattercarpet"
           }
          ],
          "scattergeo": [
           {
            "marker": {
             "colorbar": {
              "outlinewidth": 0,
              "ticks": ""
             }
            },
            "type": "scattergeo"
           }
          ],
          "scattergl": [
           {
            "marker": {
             "colorbar": {
              "outlinewidth": 0,
              "ticks": ""
             }
            },
            "type": "scattergl"
           }
          ],
          "scattermapbox": [
           {
            "marker": {
             "colorbar": {
              "outlinewidth": 0,
              "ticks": ""
             }
            },
            "type": "scattermapbox"
           }
          ],
          "scatterpolar": [
           {
            "marker": {
             "colorbar": {
              "outlinewidth": 0,
              "ticks": ""
             }
            },
            "type": "scatterpolar"
           }
          ],
          "scatterpolargl": [
           {
            "marker": {
             "colorbar": {
              "outlinewidth": 0,
              "ticks": ""
             }
            },
            "type": "scatterpolargl"
           }
          ],
          "scatterternary": [
           {
            "marker": {
             "colorbar": {
              "outlinewidth": 0,
              "ticks": ""
             }
            },
            "type": "scatterternary"
           }
          ],
          "surface": [
           {
            "colorbar": {
             "outlinewidth": 0,
             "ticks": ""
            },
            "colorscale": [
             [
              0,
              "#0d0887"
             ],
             [
              0.1111111111111111,
              "#46039f"
             ],
             [
              0.2222222222222222,
              "#7201a8"
             ],
             [
              0.3333333333333333,
              "#9c179e"
             ],
             [
              0.4444444444444444,
              "#bd3786"
             ],
             [
              0.5555555555555556,
              "#d8576b"
             ],
             [
              0.6666666666666666,
              "#ed7953"
             ],
             [
              0.7777777777777778,
              "#fb9f3a"
             ],
             [
              0.8888888888888888,
              "#fdca26"
             ],
             [
              1,
              "#f0f921"
             ]
            ],
            "type": "surface"
           }
          ],
          "table": [
           {
            "cells": {
             "fill": {
              "color": "#EBF0F8"
             },
             "line": {
              "color": "white"
             }
            },
            "header": {
             "fill": {
              "color": "#C8D4E3"
             },
             "line": {
              "color": "white"
             }
            },
            "type": "table"
           }
          ]
         },
         "layout": {
          "annotationdefaults": {
           "arrowcolor": "#2a3f5f",
           "arrowhead": 0,
           "arrowwidth": 1
          },
          "autotypenumbers": "strict",
          "coloraxis": {
           "colorbar": {
            "outlinewidth": 0,
            "ticks": ""
           }
          },
          "colorscale": {
           "diverging": [
            [
             0,
             "#8e0152"
            ],
            [
             0.1,
             "#c51b7d"
            ],
            [
             0.2,
             "#de77ae"
            ],
            [
             0.3,
             "#f1b6da"
            ],
            [
             0.4,
             "#fde0ef"
            ],
            [
             0.5,
             "#f7f7f7"
            ],
            [
             0.6,
             "#e6f5d0"
            ],
            [
             0.7,
             "#b8e186"
            ],
            [
             0.8,
             "#7fbc41"
            ],
            [
             0.9,
             "#4d9221"
            ],
            [
             1,
             "#276419"
            ]
           ],
           "sequential": [
            [
             0,
             "#0d0887"
            ],
            [
             0.1111111111111111,
             "#46039f"
            ],
            [
             0.2222222222222222,
             "#7201a8"
            ],
            [
             0.3333333333333333,
             "#9c179e"
            ],
            [
             0.4444444444444444,
             "#bd3786"
            ],
            [
             0.5555555555555556,
             "#d8576b"
            ],
            [
             0.6666666666666666,
             "#ed7953"
            ],
            [
             0.7777777777777778,
             "#fb9f3a"
            ],
            [
             0.8888888888888888,
             "#fdca26"
            ],
            [
             1,
             "#f0f921"
            ]
           ],
           "sequentialminus": [
            [
             0,
             "#0d0887"
            ],
            [
             0.1111111111111111,
             "#46039f"
            ],
            [
             0.2222222222222222,
             "#7201a8"
            ],
            [
             0.3333333333333333,
             "#9c179e"
            ],
            [
             0.4444444444444444,
             "#bd3786"
            ],
            [
             0.5555555555555556,
             "#d8576b"
            ],
            [
             0.6666666666666666,
             "#ed7953"
            ],
            [
             0.7777777777777778,
             "#fb9f3a"
            ],
            [
             0.8888888888888888,
             "#fdca26"
            ],
            [
             1,
             "#f0f921"
            ]
           ]
          },
          "colorway": [
           "#636efa",
           "#EF553B",
           "#00cc96",
           "#ab63fa",
           "#FFA15A",
           "#19d3f3",
           "#FF6692",
           "#B6E880",
           "#FF97FF",
           "#FECB52"
          ],
          "font": {
           "color": "#2a3f5f"
          },
          "geo": {
           "bgcolor": "white",
           "lakecolor": "white",
           "landcolor": "#E5ECF6",
           "showlakes": true,
           "showland": true,
           "subunitcolor": "white"
          },
          "hoverlabel": {
           "align": "left"
          },
          "hovermode": "closest",
          "mapbox": {
           "style": "light"
          },
          "paper_bgcolor": "white",
          "plot_bgcolor": "#E5ECF6",
          "polar": {
           "angularaxis": {
            "gridcolor": "white",
            "linecolor": "white",
            "ticks": ""
           },
           "bgcolor": "#E5ECF6",
           "radialaxis": {
            "gridcolor": "white",
            "linecolor": "white",
            "ticks": ""
           }
          },
          "scene": {
           "xaxis": {
            "backgroundcolor": "#E5ECF6",
            "gridcolor": "white",
            "gridwidth": 2,
            "linecolor": "white",
            "showbackground": true,
            "ticks": "",
            "zerolinecolor": "white"
           },
           "yaxis": {
            "backgroundcolor": "#E5ECF6",
            "gridcolor": "white",
            "gridwidth": 2,
            "linecolor": "white",
            "showbackground": true,
            "ticks": "",
            "zerolinecolor": "white"
           },
           "zaxis": {
            "backgroundcolor": "#E5ECF6",
            "gridcolor": "white",
            "gridwidth": 2,
            "linecolor": "white",
            "showbackground": true,
            "ticks": "",
            "zerolinecolor": "white"
           }
          },
          "shapedefaults": {
           "line": {
            "color": "#2a3f5f"
           }
          },
          "ternary": {
           "aaxis": {
            "gridcolor": "white",
            "linecolor": "white",
            "ticks": ""
           },
           "baxis": {
            "gridcolor": "white",
            "linecolor": "white",
            "ticks": ""
           },
           "bgcolor": "#E5ECF6",
           "caxis": {
            "gridcolor": "white",
            "linecolor": "white",
            "ticks": ""
           }
          },
          "title": {
           "x": 0.05
          },
          "xaxis": {
           "automargin": true,
           "gridcolor": "white",
           "linecolor": "white",
           "ticks": "",
           "title": {
            "standoff": 15
           },
           "zerolinecolor": "white",
           "zerolinewidth": 2
          },
          "yaxis": {
           "automargin": true,
           "gridcolor": "white",
           "linecolor": "white",
           "ticks": "",
           "title": {
            "standoff": 15
           },
           "zerolinecolor": "white",
           "zerolinewidth": 2
          }
         }
        },
        "xaxis": {
         "showticklabels": false
        },
        "yaxis": {
         "showticklabels": false
        }
       }
      }
     },
     "metadata": {},
     "output_type": "display_data"
    }
   ],
   "source": [
    "# cSpell: disable=invalid-name\n",
    "def line_graph(df: pd.DataFrame, indicator: str):\n",
    "    # Converter 'data_registro' para datetime e criar uma nova coluna 'data_turno'\n",
    "\n",
    "    df[\"data_registro\"] = pd.to_datetime(df[\"data_registro\"])\n",
    "\n",
    "    df[\"data_turno\"] = df[\"data_registro\"].dt.strftime(\"%Y-%m-%d\")\n",
    "\n",
    "    # Agrupar por 'data_turno' e 'turno' e calcular a média da eficiência\n",
    "\n",
    "    df_grouped = df.groupby([\"data_turno\"])[indicator].mean().reset_index()\n",
    "\n",
    "    # Multiplicar a eficiência por 100 para converter para porcentagem\n",
    "\n",
    "    df_grouped[indicator] = df_grouped[indicator] * 100\n",
    "\n",
    "    # Criar o gráfico\n",
    "\n",
    "    fig = go.Figure(\n",
    "        go.Scatter(\n",
    "            x=df_grouped[\"data_turno\"],\n",
    "            y=df_grouped[indicator],\n",
    "            mode=\"lines+markers\",\n",
    "            line=dict(color=\"blue\"),\n",
    "            marker=dict(color=\"blue\"),\n",
    "            hovertemplate=\"<i>Dia</i>: %{x}\" + \"<br><b>Porcentagem</b>: %{y:.1f}<br>\",\n",
    "            hoverinfo=\"skip\",\n",
    "        )\n",
    "    )\n",
    "\n",
    "    fig.update_layout(\n",
    "        showlegend=False,\n",
    "        plot_bgcolor=\"white\",\n",
    "        xaxis=dict(showticklabels=False),  # Esconde os valores do eixo x\n",
    "        yaxis=dict(showticklabels=False),\n",
    "        margin=dict(t=0, b=0, l=0, r=0),\n",
    "        # height=None, # removido apenas para visualização no jupyter\n",
    "        # autosize=True, # removido apenas para visualização no jupyter\n",
    "        height=200,  # apenas para visualização no jupyter\n",
    "    )\n",
    "\n",
    "    fig.show()\n",
    "\n",
    "\n",
    "line_graph(df_eff, \"eficiencia\")\n",
    "\n",
    "\n",
    "line_graph(df_perf, \"performance\")\n",
    "\n",
    "\n",
    "line_graph(df_reparos, \"reparo\")"
   ]
  },
  {
   "cell_type": "code",
   "execution_count": 28,
   "metadata": {},
   "outputs": [],
   "source": [
    "# cSpell: disable=invalid-name\n",
    "import matplotlib.colors as mcolors\n",
    "import seaborn as sns\n",
    "\n",
    "\n",
    "class IndicatorsTurn:\n",
    "    \"\"\"\n",
    "    Esta classe é responsável por criar os gráficos de indicadores.\n",
    "    \"\"\"\n",
    "\n",
    "    def __init__(self):\n",
    "        self.danger_color = \"#dc3545\"\n",
    "        self.warning_color = \"#ffc107\"\n",
    "        self.success_color = \"#198754\"\n",
    "\n",
    "    def get_eff_heat_turn(\n",
    "        self,\n",
    "        dataframe: pd.DataFrame,\n",
    "        meta: int = 90,\n",
    "        annotations: bool = False,\n",
    "    ) -> go.Figure:\n",
    "        \"\"\"\n",
    "        Este método é responsável por criar o gráfico de eficiência, por turno.\n",
    "\n",
    "        Parâmetros:\n",
    "        dataframe (pd.DataFrame): DataFrame contendo os dados para o gráfico.\n",
    "                                Deve incluir as colunas 'data_registro', 'turno' e 'eficiencia'.\n",
    "        meta (int): Meta de eficiência a ser alcançada. Padrão: 90.\n",
    "        annotations (bool): Se True, adiciona anotações com a média da eficiência.\n",
    "\n",
    "        Retorna:\n",
    "        fig: Objeto plotly.graph_objects.Figure com o gráfico de eficiência.\n",
    "\n",
    "        O gráfico é um heatmap que mostra a eficiência média por maquina e data.\n",
    "        A eficiência é colorida de vermelho se estiver abaixo de 90% e\n",
    "        de verde se estiver acima de 90%.\n",
    "        \"\"\"\n",
    "\n",
    "        # Converter 'data_registro' para datetime e criar uma nova coluna 'data_turno'\n",
    "        dataframe[\"data_registro\"] = pd.to_datetime(dataframe[\"data_registro\"])\n",
    "        dataframe[\"data_turno\"] = dataframe[\"data_registro\"].dt.strftime(\"%Y-%m-%d\")\n",
    "\n",
    "        # Agrupar por 'data_turno' e 'turno' e calcular a média da eficiência\n",
    "        df_grouped = (\n",
    "            dataframe.groupby([\"data_turno\", \"linha\"], observed=False)[\"eficiencia\"]\n",
    "            .mean()\n",
    "            .reset_index()\n",
    "        )\n",
    "\n",
    "        # Ordenar por linha e data\n",
    "        df_grouped = df_grouped.sort_values([\"linha\", \"data_turno\"], ascending=[True, True])\n",
    "\n",
    "        # Remodelar os dados para o formato de heatmap\n",
    "        df_pivot = df_grouped.pivot(index=\"linha\", columns=\"data_turno\", values=\"eficiencia\")\n",
    "\n",
    "        # Criar escala de cores personalizada - cores do bootstrap\n",
    "        colors = [\n",
    "            [0, self.danger_color],\n",
    "            [0.9, self.danger_color],\n",
    "            [0.9, self.success_color],\n",
    "            [1, self.success_color],\n",
    "        ]\n",
    "\n",
    "        # Extrair apenas o dia da data\n",
    "        df_pivot.columns = pd.to_datetime(df_pivot.columns).day\n",
    "\n",
    "        num_cells = len(df_pivot.index) * len(df_pivot.columns)\n",
    "        font_size = 3000 / num_cells\n",
    "\n",
    "        # Criar o gráfico de calor\n",
    "        fig = go.Figure(\n",
    "            data=go.Heatmap(\n",
    "                z=df_pivot.values,\n",
    "                x=df_pivot.columns,\n",
    "                y=df_pivot.index,\n",
    "                colorscale=colors,\n",
    "                zmin=0,\n",
    "                zmax=1,  # Escala de valores de 0 a 1\n",
    "                hoverongaps=False,\n",
    "                hovertemplate=\"Linha: %{y}<br>Dia: %{x}<br>Eficiência: %{z:.1%}\",\n",
    "                showscale=False,  # Não mostrar a escala de cores\n",
    "                xgap=1,  # Espaçamento entre os dias\n",
    "                ygap=1,  # Espaçamento entre os turnos\n",
    "            )\n",
    "        )\n",
    "\n",
    "        # Adicionar anotações com a média da eficiência\n",
    "        if annotations:\n",
    "            for (i, j), value in np.ndenumerate(df_pivot.values):\n",
    "                fig.add_annotation(\n",
    "                    x=df_pivot.columns[j],\n",
    "                    y=df_pivot.index[i],\n",
    "                    text=f\"{value:.1%}\",\n",
    "                    showarrow=False,\n",
    "                    font=dict(color=\"white\", size=font_size),\n",
    "                )\n",
    "\n",
    "        # Definir o título do gráfico\n",
    "        fig.update_layout(\n",
    "            title=f\"Eficiência - Meta {meta}%\",\n",
    "            xaxis_title=\"Dia\",\n",
    "            yaxis_title=\"Linha\",\n",
    "            title_x=0.5,  # Centralizar o título\n",
    "            xaxis_nticks=31,  # Definir o número de dias\n",
    "            xaxis=dict(\n",
    "                tickmode=\"linear\",\n",
    "                tickvals=list(range(1, 32)),  # Definir os dias\n",
    "                ticktext=list(range(1, 32)),  # Definir os dias\n",
    "                tickangle=45,  # Rotacionar os dias\n",
    "            ),\n",
    "            yaxis=dict(\n",
    "                tickmode=\"linear\",\n",
    "                tickangle=45,\n",
    "            ),\n",
    "            plot_bgcolor=\"white\",\n",
    "            margin=dict(t=40, b=40, l=40, r=40),\n",
    "        )\n",
    "\n",
    "        fig.show()\n",
    "\n",
    "        return fig\n",
    "\n",
    "    def get_eff_bar_turn(self, dataframe: pd.DataFrame, meta: int = 90) -> go.Figure:\n",
    "        # Agrupar por 'turno' e \"linha\" e calcular a média da eficiência e soma da produção\n",
    "        df_grouped = (\n",
    "            dataframe.groupby([\"linha\", \"turno\"], observed=False)\n",
    "            .agg({\"eficiencia\": \"mean\", \"total_produzido\": \"sum\"})\n",
    "            .reset_index()\n",
    "        )\n",
    "\n",
    "        # Ajustar produção total para caixas, dividindo por 10\n",
    "        df_grouped[\"total_produzido\"] = (df_grouped[\"total_produzido\"] / 10).round(0)\n",
    "\n",
    "        # Gráfico de barras\n",
    "        fig = px.bar(\n",
    "            df_grouped,\n",
    "            orientation=\"h\",\n",
    "            x=\"eficiencia\",\n",
    "            y=\"linha\",\n",
    "            color=\"turno\",\n",
    "            barmode=\"group\",\n",
    "            hover_data={\n",
    "                \"total_produzido\": True,\n",
    "                \"linha\": False,\n",
    "                \"eficiencia\": False,\n",
    "            },\n",
    "            color_discrete_map={\n",
    "                \"NOT\": self.danger_color,\n",
    "                \"MAT\": self.warning_color,\n",
    "                \"VES\": self.success_color,\n",
    "            },\n",
    "            labels={\"eficiencia\": \"Eficiência\"},\n",
    "        )\n",
    "\n",
    "        # Ajustar hover\n",
    "        fig.update_traces(\n",
    "            hovertemplate=\"<b>Linha</b>: %{y}<br><b>Eficiência</b>: %{x:.1%}<br><b>Produção</b>: %{customdata[0]} caixas<br>\",\n",
    "        )\n",
    "\n",
    "        # Definir o título do gráfico\n",
    "        fig.update_layout(\n",
    "            title=\"Eficiência por Linhas\",\n",
    "            xaxis_title=\"Eficiência\",\n",
    "            yaxis_title=\"Linha\",\n",
    "            title_x=0.5,  # Centralizar o título\n",
    "            plot_bgcolor=\"white\",\n",
    "            margin=dict(t=40, b=40, l=40, r=40),\n",
    "            legend=dict(\n",
    "                title_text=\"Turno\",\n",
    "            ),\n",
    "        )\n",
    "\n",
    "        # Ajustar valores de x para porcentagem\n",
    "        fig.update_xaxes(tickformat=\".0%\")\n",
    "\n",
    "        # Ajustar para aparecer todas as linhas\n",
    "        fig.update_yaxes(\n",
    "            autorange=\"reversed\",\n",
    "            tickvals=df_grouped[\"linha\"].unique(),\n",
    "        )\n",
    "\n",
    "        # Calcular a média geral de eficiência\n",
    "        avg_efficiency = df_grouped[\"eficiencia\"].mean()\n",
    "\n",
    "        # Adicionar linha de média geral\n",
    "        fig.add_trace(\n",
    "            go.Scatter(\n",
    "                x=[avg_efficiency] * len(df_grouped[\"linha\"]),\n",
    "                y=df_grouped[\"linha\"],\n",
    "                mode=\"lines\",\n",
    "                name=\"Média Geral\",\n",
    "                line=dict(dash=\"dash\", color=\"black\"),\n",
    "                hovertemplate=\"<b>Média Geral</b>: %{x:.1%}<br>\",\n",
    "            )\n",
    "        )\n",
    "\n",
    "        # Adicionar linha de meta\n",
    "        fig.add_trace(\n",
    "            go.Scatter(\n",
    "                x=[meta / 100] * len(df_grouped[\"linha\"]),\n",
    "                y=df_grouped[\"linha\"],\n",
    "                mode=\"lines\",\n",
    "                name=\"Meta\",\n",
    "                line=dict(dash=\"dash\", color=\"red\"),\n",
    "                hovertemplate=\"<b>Meta</b>: %{x:.1%}<br>\",\n",
    "            )\n",
    "        )\n",
    "\n",
    "        fig.show()\n",
    "\n",
    "        return fig\n",
    "\n",
    "    def get_eff_lost(self, df_info: pd.DataFrame) -> pd.DataFrame:\n",
    "        # Conseguindo dataframe com tempos ajustados\n",
    "        eff_discount = times_data.desc_eff\n",
    "        df_info_desc_times = times_data.get_times_discount(df_info, eff_discount)\n",
    "\n",
    "        # Se coluna \"excedente\" for nula, substituir pelo valor de \"tempo_registro_min\"\n",
    "        df_info_desc_times.loc[df_info_desc_times[\"excedente\"].isnull(), \"excedente\"] = (\n",
    "            df_info_desc_times[\"tempo_registro_min\"]\n",
    "        )\n",
    "\n",
    "        # Se motivo id for nulo e excedente for menor que 15 substituir motivo_nome por\n",
    "        # \"Não apontado - 15min ou menos\"\n",
    "        df_info_desc_times.loc[\n",
    "            (df_info_desc_times[\"motivo_id\"].isnull()) & (df_info_desc_times[\"excedente\"] <= 15),\n",
    "            [\"motivo_nome\", \"problema\"],\n",
    "        ] = [\"Não apontado - 15min ou menos\", \"Não apontado - 15min ou menos\"]\n",
    "\n",
    "        # Preencher onde motivo_nome for nulo\n",
    "        df_info_desc_times[\"motivo_nome\"].fillna(\"Motivo não informado\", inplace=True)\n",
    "\n",
    "        df_info_desc_times.loc[\n",
    "            (df_info_desc_times[\"motivo_id\"] == 12)\n",
    "            & (df_info_desc_times[\"problema\"] == \"Parada programada\"),\n",
    "            \"problema\",\n",
    "        ] = \"Parada Programada\"\n",
    "        return df_info_desc_times\n",
    "\n",
    "    def get_eff_bar_lost(self, df: pd.DataFrame, turn: str, checked: bool = False) -> go.Figure:\n",
    "        \"\"\"\n",
    "        Retorna um gráfico de barras representando o tempo perdido que mais impacta a eficiência.\n",
    "\n",
    "        Parâmetros:\n",
    "        - df: DataFrame contendo os dados necessários para a criação do gráfico.\n",
    "        - checked: Se True, retorna o gráfico de barras agrupado por motivo_nome e problema.\n",
    "\n",
    "        Retorno:\n",
    "        - fig: Objeto go.Figure contendo o gráfico de barras.\n",
    "        \"\"\"\n",
    "        # Turno Map\n",
    "        turn_map = {\n",
    "            \"NOT\": \"Noturno\",\n",
    "            \"MAT\": \"Matutino\",\n",
    "            \"VES\": \"Vespertino\",\n",
    "        }\n",
    "\n",
    "        # ---------- df motivo ---------- #\n",
    "        # Agrupar motivo_nome\n",
    "        df_motivo = (\n",
    "            df.groupby(\"motivo_nome\")[\"excedente\"]\n",
    "            .sum()\n",
    "            .sort_values(ascending=False)\n",
    "            .head(5)\n",
    "            .reset_index()\n",
    "        )\n",
    "\n",
    "        # Preencher onde motivo_id for 3 e problema for nulo\n",
    "        df.loc[\n",
    "            (df[\"motivo_id\"] == 3) & (df[\"problema\"].isnull()),\n",
    "            \"problema\",\n",
    "        ] = \"Refeição\"\n",
    "\n",
    "        # Preencher onde problema for nulo e motivo_id for 12\n",
    "        df.loc[\n",
    "            (df[\"motivo_id\"] == 12) & (df[\"problema\"].isnull()),\n",
    "            \"problema\",\n",
    "        ] = \"Parada Programada\"\n",
    "\n",
    "        # Preencher onde problema for nulo\n",
    "        df.loc[:, \"problema\"] = df[\"problema\"].fillna(\"Problema não informado\")\n",
    "\n",
    "        # ---------- df group ---------- #\n",
    "        # Agrupar por motivo_nome e problema e calcular a soma do excedente\n",
    "        df_grouped = df.groupby([\"motivo_nome\", \"problema\"]).agg({\"excedente\": \"sum\"}).reset_index()\n",
    "        # Ordenar por excedente\n",
    "        df_grouped = df_grouped.sort_values(\"excedente\", ascending=False).head(8)\n",
    "\n",
    "        # ---------- df problema ---------- #\n",
    "        # Remover linhas onde motivo_nome é igual ao problema\n",
    "        df = df[df[\"motivo_nome\"] != df[\"problema\"]]\n",
    "        # Agrupar por problema\n",
    "        df_problema = (\n",
    "            df.groupby(\"problema\")[\"excedente\"]\n",
    "            .sum()\n",
    "            .sort_values(ascending=False)\n",
    "            .head(5)\n",
    "            .reset_index()\n",
    "        )\n",
    "\n",
    "        # Motivo\n",
    "        motive_bar = go.Bar(\n",
    "            name=\"Motivo\",\n",
    "            x=df_motivo[\"motivo_nome\"],\n",
    "            y=df_motivo[\"excedente\"],\n",
    "        )\n",
    "\n",
    "        motive_bar.update(\n",
    "            hovertemplate=\"<b>Motivo</b>: %{x}<br><b>Tempo Perdido</b>: %{y:.0f} min<br>\",\n",
    "        )\n",
    "\n",
    "        # Problema\n",
    "        problem_bar = go.Bar(\n",
    "            name=\"Problema\",\n",
    "            x=df_problema[\"problema\"],\n",
    "            y=df_problema[\"excedente\"],\n",
    "        )\n",
    "\n",
    "        problem_bar.update(\n",
    "            hovertemplate=\"<b>Problema</b>: %{x}<br><b>Tempo Perdido</b>: %{y:.0f} min<br>\",\n",
    "        )\n",
    "\n",
    "        # Cria uma paleta de cores com os valores únicos na coluna 'problema'\n",
    "        palette = sns.color_palette(\"hls\", df_grouped[\"problema\"].nunique())\n",
    "\n",
    "        # Converte as cores RGB para hexadecimal\n",
    "        palette_hex = [mcolors.to_hex(color) for color in palette]\n",
    "\n",
    "        # Cria um dicionário que mapeia cada valor único na coluna 'problema' para uma cor na paleta\n",
    "        color_map = dict(zip(df_grouped[\"problema\"].unique(), palette_hex))\n",
    "\n",
    "        # Mapeia os valores na coluna 'problema' para as cores correspondentes\n",
    "        df_grouped[\"color\"] = df_grouped[\"problema\"].map(color_map)\n",
    "\n",
    "        # Group\n",
    "        group_bar = go.Bar(\n",
    "            x=df_grouped[\"motivo_nome\"],\n",
    "            y=df_grouped[\"excedente\"],\n",
    "            customdata=df_grouped[\"problema\"],\n",
    "            hovertemplate=\"<b>Motivo</b>: %{customdata}<br><b>Tempo Perdido</b>: %{y:.0f} min<br>\",\n",
    "            marker_color=df_grouped[\"color\"],\n",
    "        )\n",
    "\n",
    "        # Gráfico de barras\n",
    "        fig = (\n",
    "            go.Figure(data=[motive_bar, problem_bar])\n",
    "            if not checked\n",
    "            else go.Figure(data=[group_bar])\n",
    "        )\n",
    "\n",
    "        fig.update_layout(\n",
    "            title=f\"Tempo Perdido que mais impacta a Eficiência - {turn_map[turn]}\",\n",
    "            xaxis_title=\"Motivo/Problema\",\n",
    "            yaxis_title=\"Tempo Perdido\",\n",
    "            title_x=0.5,\n",
    "            margin=dict({\"t\": 80, \"b\": 40, \"l\": 40, \"r\": 40}),\n",
    "            template=\"plotly_white\",\n",
    "            font=dict({\"family\": \"Inter\"}),\n",
    "            showlegend=False,\n",
    "        )\n",
    "\n",
    "        if not checked:\n",
    "            fig.update_layout(showlegend=True)\n",
    "\n",
    "        return fig\n",
    "\n",
    "\n",
    "indicators_turn = IndicatorsTurn()"
   ]
  },
  {
   "cell_type": "code",
   "execution_count": 29,
   "metadata": {},
   "outputs": [
    {
     "data": {
      "application/vnd.plotly.v1+json": {
       "config": {
        "plotlyServerURL": "https://plot.ly"
       },
       "data": [
        {
         "colorscale": [
          [
           0,
           "#dc3545"
          ],
          [
           0.9,
           "#dc3545"
          ],
          [
           0.9,
           "#198754"
          ],
          [
           1,
           "#198754"
          ]
         ],
         "hoverongaps": false,
         "hovertemplate": "Linha: %{y}<br>Dia: %{x}<br>Eficiência: %{z:.1%}",
         "showscale": false,
         "type": "heatmap",
         "x": [
          1,
          2,
          3
         ],
         "xgap": 1,
         "y": [
          0,
          1,
          2,
          3,
          4,
          5,
          6,
          7,
          8,
          9,
          11,
          12,
          13,
          14
         ],
         "ygap": 1,
         "z": [
          [
           null,
           null,
           null
          ],
          [
           0.584681042228212,
           null,
           0
          ],
          [
           0.5658131176999102,
           null,
           0
          ],
          [
           0.7230458221024259,
           null,
           0
          ],
          [
           0.6981132075471698,
           null,
           0
          ],
          [
           0.8960298742138365,
           null,
           0
          ],
          [
           1,
           null,
           0
          ],
          [
           0.8380503144654088,
           null,
           0
          ],
          [
           0.8258647798742138,
           null,
           0
          ],
          [
           0.7692610062893082,
           null,
           0
          ],
          [
           0.6563342318059299,
           1,
           0
          ],
          [
           0.6138814016172507,
           1,
           0
          ],
          [
           0.016705974842767295,
           1,
           0
          ],
          [
           0.36048121862558424,
           1,
           0
          ]
         ],
         "zmax": 1,
         "zmin": 0
        }
       ],
       "layout": {
        "margin": {
         "b": 40,
         "l": 40,
         "r": 40,
         "t": 40
        },
        "plot_bgcolor": "white",
        "template": {
         "data": {
          "bar": [
           {
            "error_x": {
             "color": "#2a3f5f"
            },
            "error_y": {
             "color": "#2a3f5f"
            },
            "marker": {
             "line": {
              "color": "#E5ECF6",
              "width": 0.5
             },
             "pattern": {
              "fillmode": "overlay",
              "size": 10,
              "solidity": 0.2
             }
            },
            "type": "bar"
           }
          ],
          "barpolar": [
           {
            "marker": {
             "line": {
              "color": "#E5ECF6",
              "width": 0.5
             },
             "pattern": {
              "fillmode": "overlay",
              "size": 10,
              "solidity": 0.2
             }
            },
            "type": "barpolar"
           }
          ],
          "carpet": [
           {
            "aaxis": {
             "endlinecolor": "#2a3f5f",
             "gridcolor": "white",
             "linecolor": "white",
             "minorgridcolor": "white",
             "startlinecolor": "#2a3f5f"
            },
            "baxis": {
             "endlinecolor": "#2a3f5f",
             "gridcolor": "white",
             "linecolor": "white",
             "minorgridcolor": "white",
             "startlinecolor": "#2a3f5f"
            },
            "type": "carpet"
           }
          ],
          "choropleth": [
           {
            "colorbar": {
             "outlinewidth": 0,
             "ticks": ""
            },
            "type": "choropleth"
           }
          ],
          "contour": [
           {
            "colorbar": {
             "outlinewidth": 0,
             "ticks": ""
            },
            "colorscale": [
             [
              0,
              "#0d0887"
             ],
             [
              0.1111111111111111,
              "#46039f"
             ],
             [
              0.2222222222222222,
              "#7201a8"
             ],
             [
              0.3333333333333333,
              "#9c179e"
             ],
             [
              0.4444444444444444,
              "#bd3786"
             ],
             [
              0.5555555555555556,
              "#d8576b"
             ],
             [
              0.6666666666666666,
              "#ed7953"
             ],
             [
              0.7777777777777778,
              "#fb9f3a"
             ],
             [
              0.8888888888888888,
              "#fdca26"
             ],
             [
              1,
              "#f0f921"
             ]
            ],
            "type": "contour"
           }
          ],
          "contourcarpet": [
           {
            "colorbar": {
             "outlinewidth": 0,
             "ticks": ""
            },
            "type": "contourcarpet"
           }
          ],
          "heatmap": [
           {
            "colorbar": {
             "outlinewidth": 0,
             "ticks": ""
            },
            "colorscale": [
             [
              0,
              "#0d0887"
             ],
             [
              0.1111111111111111,
              "#46039f"
             ],
             [
              0.2222222222222222,
              "#7201a8"
             ],
             [
              0.3333333333333333,
              "#9c179e"
             ],
             [
              0.4444444444444444,
              "#bd3786"
             ],
             [
              0.5555555555555556,
              "#d8576b"
             ],
             [
              0.6666666666666666,
              "#ed7953"
             ],
             [
              0.7777777777777778,
              "#fb9f3a"
             ],
             [
              0.8888888888888888,
              "#fdca26"
             ],
             [
              1,
              "#f0f921"
             ]
            ],
            "type": "heatmap"
           }
          ],
          "heatmapgl": [
           {
            "colorbar": {
             "outlinewidth": 0,
             "ticks": ""
            },
            "colorscale": [
             [
              0,
              "#0d0887"
             ],
             [
              0.1111111111111111,
              "#46039f"
             ],
             [
              0.2222222222222222,
              "#7201a8"
             ],
             [
              0.3333333333333333,
              "#9c179e"
             ],
             [
              0.4444444444444444,
              "#bd3786"
             ],
             [
              0.5555555555555556,
              "#d8576b"
             ],
             [
              0.6666666666666666,
              "#ed7953"
             ],
             [
              0.7777777777777778,
              "#fb9f3a"
             ],
             [
              0.8888888888888888,
              "#fdca26"
             ],
             [
              1,
              "#f0f921"
             ]
            ],
            "type": "heatmapgl"
           }
          ],
          "histogram": [
           {
            "marker": {
             "pattern": {
              "fillmode": "overlay",
              "size": 10,
              "solidity": 0.2
             }
            },
            "type": "histogram"
           }
          ],
          "histogram2d": [
           {
            "colorbar": {
             "outlinewidth": 0,
             "ticks": ""
            },
            "colorscale": [
             [
              0,
              "#0d0887"
             ],
             [
              0.1111111111111111,
              "#46039f"
             ],
             [
              0.2222222222222222,
              "#7201a8"
             ],
             [
              0.3333333333333333,
              "#9c179e"
             ],
             [
              0.4444444444444444,
              "#bd3786"
             ],
             [
              0.5555555555555556,
              "#d8576b"
             ],
             [
              0.6666666666666666,
              "#ed7953"
             ],
             [
              0.7777777777777778,
              "#fb9f3a"
             ],
             [
              0.8888888888888888,
              "#fdca26"
             ],
             [
              1,
              "#f0f921"
             ]
            ],
            "type": "histogram2d"
           }
          ],
          "histogram2dcontour": [
           {
            "colorbar": {
             "outlinewidth": 0,
             "ticks": ""
            },
            "colorscale": [
             [
              0,
              "#0d0887"
             ],
             [
              0.1111111111111111,
              "#46039f"
             ],
             [
              0.2222222222222222,
              "#7201a8"
             ],
             [
              0.3333333333333333,
              "#9c179e"
             ],
             [
              0.4444444444444444,
              "#bd3786"
             ],
             [
              0.5555555555555556,
              "#d8576b"
             ],
             [
              0.6666666666666666,
              "#ed7953"
             ],
             [
              0.7777777777777778,
              "#fb9f3a"
             ],
             [
              0.8888888888888888,
              "#fdca26"
             ],
             [
              1,
              "#f0f921"
             ]
            ],
            "type": "histogram2dcontour"
           }
          ],
          "mesh3d": [
           {
            "colorbar": {
             "outlinewidth": 0,
             "ticks": ""
            },
            "type": "mesh3d"
           }
          ],
          "parcoords": [
           {
            "line": {
             "colorbar": {
              "outlinewidth": 0,
              "ticks": ""
             }
            },
            "type": "parcoords"
           }
          ],
          "pie": [
           {
            "automargin": true,
            "type": "pie"
           }
          ],
          "scatter": [
           {
            "fillpattern": {
             "fillmode": "overlay",
             "size": 10,
             "solidity": 0.2
            },
            "type": "scatter"
           }
          ],
          "scatter3d": [
           {
            "line": {
             "colorbar": {
              "outlinewidth": 0,
              "ticks": ""
             }
            },
            "marker": {
             "colorbar": {
              "outlinewidth": 0,
              "ticks": ""
             }
            },
            "type": "scatter3d"
           }
          ],
          "scattercarpet": [
           {
            "marker": {
             "colorbar": {
              "outlinewidth": 0,
              "ticks": ""
             }
            },
            "type": "scattercarpet"
           }
          ],
          "scattergeo": [
           {
            "marker": {
             "colorbar": {
              "outlinewidth": 0,
              "ticks": ""
             }
            },
            "type": "scattergeo"
           }
          ],
          "scattergl": [
           {
            "marker": {
             "colorbar": {
              "outlinewidth": 0,
              "ticks": ""
             }
            },
            "type": "scattergl"
           }
          ],
          "scattermapbox": [
           {
            "marker": {
             "colorbar": {
              "outlinewidth": 0,
              "ticks": ""
             }
            },
            "type": "scattermapbox"
           }
          ],
          "scatterpolar": [
           {
            "marker": {
             "colorbar": {
              "outlinewidth": 0,
              "ticks": ""
             }
            },
            "type": "scatterpolar"
           }
          ],
          "scatterpolargl": [
           {
            "marker": {
             "colorbar": {
              "outlinewidth": 0,
              "ticks": ""
             }
            },
            "type": "scatterpolargl"
           }
          ],
          "scatterternary": [
           {
            "marker": {
             "colorbar": {
              "outlinewidth": 0,
              "ticks": ""
             }
            },
            "type": "scatterternary"
           }
          ],
          "surface": [
           {
            "colorbar": {
             "outlinewidth": 0,
             "ticks": ""
            },
            "colorscale": [
             [
              0,
              "#0d0887"
             ],
             [
              0.1111111111111111,
              "#46039f"
             ],
             [
              0.2222222222222222,
              "#7201a8"
             ],
             [
              0.3333333333333333,
              "#9c179e"
             ],
             [
              0.4444444444444444,
              "#bd3786"
             ],
             [
              0.5555555555555556,
              "#d8576b"
             ],
             [
              0.6666666666666666,
              "#ed7953"
             ],
             [
              0.7777777777777778,
              "#fb9f3a"
             ],
             [
              0.8888888888888888,
              "#fdca26"
             ],
             [
              1,
              "#f0f921"
             ]
            ],
            "type": "surface"
           }
          ],
          "table": [
           {
            "cells": {
             "fill": {
              "color": "#EBF0F8"
             },
             "line": {
              "color": "white"
             }
            },
            "header": {
             "fill": {
              "color": "#C8D4E3"
             },
             "line": {
              "color": "white"
             }
            },
            "type": "table"
           }
          ]
         },
         "layout": {
          "annotationdefaults": {
           "arrowcolor": "#2a3f5f",
           "arrowhead": 0,
           "arrowwidth": 1
          },
          "autotypenumbers": "strict",
          "coloraxis": {
           "colorbar": {
            "outlinewidth": 0,
            "ticks": ""
           }
          },
          "colorscale": {
           "diverging": [
            [
             0,
             "#8e0152"
            ],
            [
             0.1,
             "#c51b7d"
            ],
            [
             0.2,
             "#de77ae"
            ],
            [
             0.3,
             "#f1b6da"
            ],
            [
             0.4,
             "#fde0ef"
            ],
            [
             0.5,
             "#f7f7f7"
            ],
            [
             0.6,
             "#e6f5d0"
            ],
            [
             0.7,
             "#b8e186"
            ],
            [
             0.8,
             "#7fbc41"
            ],
            [
             0.9,
             "#4d9221"
            ],
            [
             1,
             "#276419"
            ]
           ],
           "sequential": [
            [
             0,
             "#0d0887"
            ],
            [
             0.1111111111111111,
             "#46039f"
            ],
            [
             0.2222222222222222,
             "#7201a8"
            ],
            [
             0.3333333333333333,
             "#9c179e"
            ],
            [
             0.4444444444444444,
             "#bd3786"
            ],
            [
             0.5555555555555556,
             "#d8576b"
            ],
            [
             0.6666666666666666,
             "#ed7953"
            ],
            [
             0.7777777777777778,
             "#fb9f3a"
            ],
            [
             0.8888888888888888,
             "#fdca26"
            ],
            [
             1,
             "#f0f921"
            ]
           ],
           "sequentialminus": [
            [
             0,
             "#0d0887"
            ],
            [
             0.1111111111111111,
             "#46039f"
            ],
            [
             0.2222222222222222,
             "#7201a8"
            ],
            [
             0.3333333333333333,
             "#9c179e"
            ],
            [
             0.4444444444444444,
             "#bd3786"
            ],
            [
             0.5555555555555556,
             "#d8576b"
            ],
            [
             0.6666666666666666,
             "#ed7953"
            ],
            [
             0.7777777777777778,
             "#fb9f3a"
            ],
            [
             0.8888888888888888,
             "#fdca26"
            ],
            [
             1,
             "#f0f921"
            ]
           ]
          },
          "colorway": [
           "#636efa",
           "#EF553B",
           "#00cc96",
           "#ab63fa",
           "#FFA15A",
           "#19d3f3",
           "#FF6692",
           "#B6E880",
           "#FF97FF",
           "#FECB52"
          ],
          "font": {
           "color": "#2a3f5f"
          },
          "geo": {
           "bgcolor": "white",
           "lakecolor": "white",
           "landcolor": "#E5ECF6",
           "showlakes": true,
           "showland": true,
           "subunitcolor": "white"
          },
          "hoverlabel": {
           "align": "left"
          },
          "hovermode": "closest",
          "mapbox": {
           "style": "light"
          },
          "paper_bgcolor": "white",
          "plot_bgcolor": "#E5ECF6",
          "polar": {
           "angularaxis": {
            "gridcolor": "white",
            "linecolor": "white",
            "ticks": ""
           },
           "bgcolor": "#E5ECF6",
           "radialaxis": {
            "gridcolor": "white",
            "linecolor": "white",
            "ticks": ""
           }
          },
          "scene": {
           "xaxis": {
            "backgroundcolor": "#E5ECF6",
            "gridcolor": "white",
            "gridwidth": 2,
            "linecolor": "white",
            "showbackground": true,
            "ticks": "",
            "zerolinecolor": "white"
           },
           "yaxis": {
            "backgroundcolor": "#E5ECF6",
            "gridcolor": "white",
            "gridwidth": 2,
            "linecolor": "white",
            "showbackground": true,
            "ticks": "",
            "zerolinecolor": "white"
           },
           "zaxis": {
            "backgroundcolor": "#E5ECF6",
            "gridcolor": "white",
            "gridwidth": 2,
            "linecolor": "white",
            "showbackground": true,
            "ticks": "",
            "zerolinecolor": "white"
           }
          },
          "shapedefaults": {
           "line": {
            "color": "#2a3f5f"
           }
          },
          "ternary": {
           "aaxis": {
            "gridcolor": "white",
            "linecolor": "white",
            "ticks": ""
           },
           "baxis": {
            "gridcolor": "white",
            "linecolor": "white",
            "ticks": ""
           },
           "bgcolor": "#E5ECF6",
           "caxis": {
            "gridcolor": "white",
            "linecolor": "white",
            "ticks": ""
           }
          },
          "title": {
           "x": 0.05
          },
          "xaxis": {
           "automargin": true,
           "gridcolor": "white",
           "linecolor": "white",
           "ticks": "",
           "title": {
            "standoff": 15
           },
           "zerolinecolor": "white",
           "zerolinewidth": 2
          },
          "yaxis": {
           "automargin": true,
           "gridcolor": "white",
           "linecolor": "white",
           "ticks": "",
           "title": {
            "standoff": 15
           },
           "zerolinecolor": "white",
           "zerolinewidth": 2
          }
         }
        },
        "title": {
         "text": "Eficiência - Meta 90%",
         "x": 0.5
        },
        "xaxis": {
         "nticks": 31,
         "tickangle": 45,
         "tickmode": "linear",
         "ticktext": [
          1,
          2,
          3,
          4,
          5,
          6,
          7,
          8,
          9,
          10,
          11,
          12,
          13,
          14,
          15,
          16,
          17,
          18,
          19,
          20,
          21,
          22,
          23,
          24,
          25,
          26,
          27,
          28,
          29,
          30,
          31
         ],
         "tickvals": [
          1,
          2,
          3,
          4,
          5,
          6,
          7,
          8,
          9,
          10,
          11,
          12,
          13,
          14,
          15,
          16,
          17,
          18,
          19,
          20,
          21,
          22,
          23,
          24,
          25,
          26,
          27,
          28,
          29,
          30,
          31
         ],
         "title": {
          "text": "Dia"
         }
        },
        "yaxis": {
         "tickangle": 45,
         "tickmode": "linear",
         "title": {
          "text": "Linha"
         }
        }
       }
      }
     },
     "metadata": {},
     "output_type": "display_data"
    },
    {
     "name": "stderr",
     "output_type": "stream",
     "text": [
      "c:\\Users\\bruno.thomaz\\Documents\\Dev\\stm-shop-floor-management\\venv\\Lib\\site-packages\\plotly\\express\\_core.py:2044: FutureWarning:\n",
      "\n",
      "The default of observed=False is deprecated and will be changed to True in a future version of pandas. Pass observed=False to retain current behavior or observed=True to adopt the future default and silence this warning.\n",
      "\n"
     ]
    },
    {
     "data": {
      "application/vnd.plotly.v1+json": {
       "config": {
        "plotlyServerURL": "https://plot.ly"
       },
       "data": [
        {
         "alignmentgroup": "True",
         "customdata": [
          [
           0
          ],
          [
           521
          ],
          [
           504
          ],
          [
           644
          ],
          [
           622
          ],
          [
           912
          ],
          [
           0
          ],
          [
           853
          ],
          [
           840
          ],
          [
           783
          ],
          [
           584
          ],
          [
           547
          ],
          [
           17
          ],
          [
           333
          ]
         ],
         "hovertemplate": "<b>Linha</b>: %{y}<br><b>Eficiência</b>: %{x:.1%}<br><b>Produção</b>: %{customdata[0]} caixas<br>",
         "legendgroup": "MAT",
         "marker": {
          "color": "#ffc107",
          "pattern": {
           "shape": ""
          }
         },
         "name": "MAT",
         "offsetgroup": "MAT",
         "orientation": "h",
         "showlegend": true,
         "textposition": "auto",
         "type": "bar",
         "x": [
          null,
          0.292340521114106,
          0.2829065588499551,
          0.3615229110512129,
          0.3490566037735849,
          0.44801493710691825,
          0.5,
          0.4190251572327044,
          0.4129323899371069,
          0.3846305031446541,
          0.5521114106019765,
          0.5379604672057502,
          0.33890199161425577,
          0.45349373954186145
         ],
         "xaxis": "x",
         "y": [
          0,
          1,
          2,
          3,
          4,
          5,
          6,
          7,
          8,
          9,
          11,
          12,
          13,
          14
         ],
         "yaxis": "y"
        },
        {
         "alignmentgroup": "True",
         "customdata": [
          [
           0
          ],
          [
           850
          ],
          [
           812
          ],
          [
           879
          ],
          [
           814
          ],
          [
           836
          ],
          [
           0
          ],
          [
           791
          ],
          [
           806
          ],
          [
           781
          ],
          [
           595
          ],
          [
           344
          ],
          [
           4
          ],
          [
           452
          ]
         ],
         "hovertemplate": "<b>Linha</b>: %{y}<br><b>Eficiência</b>: %{x:.1%}<br><b>Produção</b>: %{customdata[0]} caixas<br>",
         "legendgroup": "NOT",
         "marker": {
          "color": "#dc3545",
          "pattern": {
           "shape": ""
          }
         },
         "name": "NOT",
         "offsetgroup": "NOT",
         "orientation": "h",
         "showlegend": true,
         "textposition": "auto",
         "type": "bar",
         "x": [
          null,
          0.9911308542468097,
          0.976552482139586,
          0.6688648714660804,
          0.9787544101856113,
          0.985635342248275,
          0.6666666666666666,
          0.925642033542977,
          0.9741863589179948,
          0.96617579383341,
          0.8895627433363282,
          0.7793501048218029,
          0.6681641209943097,
          0.8359538784067087
         ],
         "xaxis": "x",
         "y": [
          0,
          1,
          2,
          3,
          4,
          5,
          6,
          7,
          8,
          9,
          11,
          12,
          13,
          14
         ],
         "yaxis": "y"
        },
        {
         "alignmentgroup": "True",
         "customdata": [
          [
           0
          ],
          [
           0
          ],
          [
           1
          ],
          [
           5
          ],
          [
           0
          ],
          [
           0
          ],
          [
           0
          ],
          [
           0
          ],
          [
           0
          ],
          [
           1
          ],
          [
           17
          ],
          [
           52
          ],
          [
           0
          ],
          [
           5
          ]
         ],
         "hovertemplate": "<b>Linha</b>: %{y}<br><b>Eficiência</b>: %{x:.1%}<br><b>Produção</b>: %{customdata[0]} caixas<br>",
         "legendgroup": "VES",
         "marker": {
          "color": "#198754",
          "pattern": {
           "shape": ""
          }
         },
         "name": "VES",
         "offsetgroup": "VES",
         "orientation": "h",
         "showlegend": true,
         "textposition": "auto",
         "type": "bar",
         "x": [
          null,
          0,
          0.0003930817610062893,
          0.0016378406708595387,
          0.00019654088050314466,
          0.00009827044025157233,
          0,
          0,
          0.00009827044025157233,
          0.0006878930817610062,
          0.5082547169811321,
          0.5256485849056604,
          0.5001965408805031,
          1
         ],
         "xaxis": "x",
         "y": [
          0,
          1,
          2,
          3,
          4,
          5,
          6,
          7,
          8,
          9,
          11,
          12,
          13,
          14
         ],
         "yaxis": "y"
        },
        {
         "hovertemplate": "<b>Média Geral</b>: %{x:.1%}<br>",
         "line": {
          "color": "black",
          "dash": "dash"
         },
         "mode": "lines",
         "name": "Média Geral",
         "type": "scatter",
         "x": [
          0.49171150235955324,
          0.49171150235955324,
          0.49171150235955324,
          0.49171150235955324,
          0.49171150235955324,
          0.49171150235955324,
          0.49171150235955324,
          0.49171150235955324,
          0.49171150235955324,
          0.49171150235955324,
          0.49171150235955324,
          0.49171150235955324,
          0.49171150235955324,
          0.49171150235955324,
          0.49171150235955324,
          0.49171150235955324,
          0.49171150235955324,
          0.49171150235955324,
          0.49171150235955324,
          0.49171150235955324,
          0.49171150235955324,
          0.49171150235955324,
          0.49171150235955324,
          0.49171150235955324,
          0.49171150235955324,
          0.49171150235955324,
          0.49171150235955324,
          0.49171150235955324,
          0.49171150235955324,
          0.49171150235955324,
          0.49171150235955324,
          0.49171150235955324,
          0.49171150235955324,
          0.49171150235955324,
          0.49171150235955324,
          0.49171150235955324,
          0.49171150235955324,
          0.49171150235955324,
          0.49171150235955324,
          0.49171150235955324,
          0.49171150235955324,
          0.49171150235955324
         ],
         "y": [
          0,
          0,
          0,
          1,
          1,
          1,
          2,
          2,
          2,
          3,
          3,
          3,
          4,
          4,
          4,
          5,
          5,
          5,
          6,
          6,
          6,
          7,
          7,
          7,
          8,
          8,
          8,
          9,
          9,
          9,
          11,
          11,
          11,
          12,
          12,
          12,
          13,
          13,
          13,
          14,
          14,
          14
         ]
        },
        {
         "hovertemplate": "<b>Meta</b>: %{x:.1%}<br>",
         "line": {
          "color": "red",
          "dash": "dash"
         },
         "mode": "lines",
         "name": "Meta",
         "type": "scatter",
         "x": [
          0.9,
          0.9,
          0.9,
          0.9,
          0.9,
          0.9,
          0.9,
          0.9,
          0.9,
          0.9,
          0.9,
          0.9,
          0.9,
          0.9,
          0.9,
          0.9,
          0.9,
          0.9,
          0.9,
          0.9,
          0.9,
          0.9,
          0.9,
          0.9,
          0.9,
          0.9,
          0.9,
          0.9,
          0.9,
          0.9,
          0.9,
          0.9,
          0.9,
          0.9,
          0.9,
          0.9,
          0.9,
          0.9,
          0.9,
          0.9,
          0.9,
          0.9
         ],
         "y": [
          0,
          0,
          0,
          1,
          1,
          1,
          2,
          2,
          2,
          3,
          3,
          3,
          4,
          4,
          4,
          5,
          5,
          5,
          6,
          6,
          6,
          7,
          7,
          7,
          8,
          8,
          8,
          9,
          9,
          9,
          11,
          11,
          11,
          12,
          12,
          12,
          13,
          13,
          13,
          14,
          14,
          14
         ]
        }
       ],
       "layout": {
        "barmode": "group",
        "legend": {
         "title": {
          "text": "Turno"
         },
         "tracegroupgap": 0
        },
        "margin": {
         "b": 40,
         "l": 40,
         "r": 40,
         "t": 40
        },
        "plot_bgcolor": "white",
        "template": {
         "data": {
          "bar": [
           {
            "error_x": {
             "color": "#2a3f5f"
            },
            "error_y": {
             "color": "#2a3f5f"
            },
            "marker": {
             "line": {
              "color": "#E5ECF6",
              "width": 0.5
             },
             "pattern": {
              "fillmode": "overlay",
              "size": 10,
              "solidity": 0.2
             }
            },
            "type": "bar"
           }
          ],
          "barpolar": [
           {
            "marker": {
             "line": {
              "color": "#E5ECF6",
              "width": 0.5
             },
             "pattern": {
              "fillmode": "overlay",
              "size": 10,
              "solidity": 0.2
             }
            },
            "type": "barpolar"
           }
          ],
          "carpet": [
           {
            "aaxis": {
             "endlinecolor": "#2a3f5f",
             "gridcolor": "white",
             "linecolor": "white",
             "minorgridcolor": "white",
             "startlinecolor": "#2a3f5f"
            },
            "baxis": {
             "endlinecolor": "#2a3f5f",
             "gridcolor": "white",
             "linecolor": "white",
             "minorgridcolor": "white",
             "startlinecolor": "#2a3f5f"
            },
            "type": "carpet"
           }
          ],
          "choropleth": [
           {
            "colorbar": {
             "outlinewidth": 0,
             "ticks": ""
            },
            "type": "choropleth"
           }
          ],
          "contour": [
           {
            "colorbar": {
             "outlinewidth": 0,
             "ticks": ""
            },
            "colorscale": [
             [
              0,
              "#0d0887"
             ],
             [
              0.1111111111111111,
              "#46039f"
             ],
             [
              0.2222222222222222,
              "#7201a8"
             ],
             [
              0.3333333333333333,
              "#9c179e"
             ],
             [
              0.4444444444444444,
              "#bd3786"
             ],
             [
              0.5555555555555556,
              "#d8576b"
             ],
             [
              0.6666666666666666,
              "#ed7953"
             ],
             [
              0.7777777777777778,
              "#fb9f3a"
             ],
             [
              0.8888888888888888,
              "#fdca26"
             ],
             [
              1,
              "#f0f921"
             ]
            ],
            "type": "contour"
           }
          ],
          "contourcarpet": [
           {
            "colorbar": {
             "outlinewidth": 0,
             "ticks": ""
            },
            "type": "contourcarpet"
           }
          ],
          "heatmap": [
           {
            "colorbar": {
             "outlinewidth": 0,
             "ticks": ""
            },
            "colorscale": [
             [
              0,
              "#0d0887"
             ],
             [
              0.1111111111111111,
              "#46039f"
             ],
             [
              0.2222222222222222,
              "#7201a8"
             ],
             [
              0.3333333333333333,
              "#9c179e"
             ],
             [
              0.4444444444444444,
              "#bd3786"
             ],
             [
              0.5555555555555556,
              "#d8576b"
             ],
             [
              0.6666666666666666,
              "#ed7953"
             ],
             [
              0.7777777777777778,
              "#fb9f3a"
             ],
             [
              0.8888888888888888,
              "#fdca26"
             ],
             [
              1,
              "#f0f921"
             ]
            ],
            "type": "heatmap"
           }
          ],
          "heatmapgl": [
           {
            "colorbar": {
             "outlinewidth": 0,
             "ticks": ""
            },
            "colorscale": [
             [
              0,
              "#0d0887"
             ],
             [
              0.1111111111111111,
              "#46039f"
             ],
             [
              0.2222222222222222,
              "#7201a8"
             ],
             [
              0.3333333333333333,
              "#9c179e"
             ],
             [
              0.4444444444444444,
              "#bd3786"
             ],
             [
              0.5555555555555556,
              "#d8576b"
             ],
             [
              0.6666666666666666,
              "#ed7953"
             ],
             [
              0.7777777777777778,
              "#fb9f3a"
             ],
             [
              0.8888888888888888,
              "#fdca26"
             ],
             [
              1,
              "#f0f921"
             ]
            ],
            "type": "heatmapgl"
           }
          ],
          "histogram": [
           {
            "marker": {
             "pattern": {
              "fillmode": "overlay",
              "size": 10,
              "solidity": 0.2
             }
            },
            "type": "histogram"
           }
          ],
          "histogram2d": [
           {
            "colorbar": {
             "outlinewidth": 0,
             "ticks": ""
            },
            "colorscale": [
             [
              0,
              "#0d0887"
             ],
             [
              0.1111111111111111,
              "#46039f"
             ],
             [
              0.2222222222222222,
              "#7201a8"
             ],
             [
              0.3333333333333333,
              "#9c179e"
             ],
             [
              0.4444444444444444,
              "#bd3786"
             ],
             [
              0.5555555555555556,
              "#d8576b"
             ],
             [
              0.6666666666666666,
              "#ed7953"
             ],
             [
              0.7777777777777778,
              "#fb9f3a"
             ],
             [
              0.8888888888888888,
              "#fdca26"
             ],
             [
              1,
              "#f0f921"
             ]
            ],
            "type": "histogram2d"
           }
          ],
          "histogram2dcontour": [
           {
            "colorbar": {
             "outlinewidth": 0,
             "ticks": ""
            },
            "colorscale": [
             [
              0,
              "#0d0887"
             ],
             [
              0.1111111111111111,
              "#46039f"
             ],
             [
              0.2222222222222222,
              "#7201a8"
             ],
             [
              0.3333333333333333,
              "#9c179e"
             ],
             [
              0.4444444444444444,
              "#bd3786"
             ],
             [
              0.5555555555555556,
              "#d8576b"
             ],
             [
              0.6666666666666666,
              "#ed7953"
             ],
             [
              0.7777777777777778,
              "#fb9f3a"
             ],
             [
              0.8888888888888888,
              "#fdca26"
             ],
             [
              1,
              "#f0f921"
             ]
            ],
            "type": "histogram2dcontour"
           }
          ],
          "mesh3d": [
           {
            "colorbar": {
             "outlinewidth": 0,
             "ticks": ""
            },
            "type": "mesh3d"
           }
          ],
          "parcoords": [
           {
            "line": {
             "colorbar": {
              "outlinewidth": 0,
              "ticks": ""
             }
            },
            "type": "parcoords"
           }
          ],
          "pie": [
           {
            "automargin": true,
            "type": "pie"
           }
          ],
          "scatter": [
           {
            "fillpattern": {
             "fillmode": "overlay",
             "size": 10,
             "solidity": 0.2
            },
            "type": "scatter"
           }
          ],
          "scatter3d": [
           {
            "line": {
             "colorbar": {
              "outlinewidth": 0,
              "ticks": ""
             }
            },
            "marker": {
             "colorbar": {
              "outlinewidth": 0,
              "ticks": ""
             }
            },
            "type": "scatter3d"
           }
          ],
          "scattercarpet": [
           {
            "marker": {
             "colorbar": {
              "outlinewidth": 0,
              "ticks": ""
             }
            },
            "type": "scattercarpet"
           }
          ],
          "scattergeo": [
           {
            "marker": {
             "colorbar": {
              "outlinewidth": 0,
              "ticks": ""
             }
            },
            "type": "scattergeo"
           }
          ],
          "scattergl": [
           {
            "marker": {
             "colorbar": {
              "outlinewidth": 0,
              "ticks": ""
             }
            },
            "type": "scattergl"
           }
          ],
          "scattermapbox": [
           {
            "marker": {
             "colorbar": {
              "outlinewidth": 0,
              "ticks": ""
             }
            },
            "type": "scattermapbox"
           }
          ],
          "scatterpolar": [
           {
            "marker": {
             "colorbar": {
              "outlinewidth": 0,
              "ticks": ""
             }
            },
            "type": "scatterpolar"
           }
          ],
          "scatterpolargl": [
           {
            "marker": {
             "colorbar": {
              "outlinewidth": 0,
              "ticks": ""
             }
            },
            "type": "scatterpolargl"
           }
          ],
          "scatterternary": [
           {
            "marker": {
             "colorbar": {
              "outlinewidth": 0,
              "ticks": ""
             }
            },
            "type": "scatterternary"
           }
          ],
          "surface": [
           {
            "colorbar": {
             "outlinewidth": 0,
             "ticks": ""
            },
            "colorscale": [
             [
              0,
              "#0d0887"
             ],
             [
              0.1111111111111111,
              "#46039f"
             ],
             [
              0.2222222222222222,
              "#7201a8"
             ],
             [
              0.3333333333333333,
              "#9c179e"
             ],
             [
              0.4444444444444444,
              "#bd3786"
             ],
             [
              0.5555555555555556,
              "#d8576b"
             ],
             [
              0.6666666666666666,
              "#ed7953"
             ],
             [
              0.7777777777777778,
              "#fb9f3a"
             ],
             [
              0.8888888888888888,
              "#fdca26"
             ],
             [
              1,
              "#f0f921"
             ]
            ],
            "type": "surface"
           }
          ],
          "table": [
           {
            "cells": {
             "fill": {
              "color": "#EBF0F8"
             },
             "line": {
              "color": "white"
             }
            },
            "header": {
             "fill": {
              "color": "#C8D4E3"
             },
             "line": {
              "color": "white"
             }
            },
            "type": "table"
           }
          ]
         },
         "layout": {
          "annotationdefaults": {
           "arrowcolor": "#2a3f5f",
           "arrowhead": 0,
           "arrowwidth": 1
          },
          "autotypenumbers": "strict",
          "coloraxis": {
           "colorbar": {
            "outlinewidth": 0,
            "ticks": ""
           }
          },
          "colorscale": {
           "diverging": [
            [
             0,
             "#8e0152"
            ],
            [
             0.1,
             "#c51b7d"
            ],
            [
             0.2,
             "#de77ae"
            ],
            [
             0.3,
             "#f1b6da"
            ],
            [
             0.4,
             "#fde0ef"
            ],
            [
             0.5,
             "#f7f7f7"
            ],
            [
             0.6,
             "#e6f5d0"
            ],
            [
             0.7,
             "#b8e186"
            ],
            [
             0.8,
             "#7fbc41"
            ],
            [
             0.9,
             "#4d9221"
            ],
            [
             1,
             "#276419"
            ]
           ],
           "sequential": [
            [
             0,
             "#0d0887"
            ],
            [
             0.1111111111111111,
             "#46039f"
            ],
            [
             0.2222222222222222,
             "#7201a8"
            ],
            [
             0.3333333333333333,
             "#9c179e"
            ],
            [
             0.4444444444444444,
             "#bd3786"
            ],
            [
             0.5555555555555556,
             "#d8576b"
            ],
            [
             0.6666666666666666,
             "#ed7953"
            ],
            [
             0.7777777777777778,
             "#fb9f3a"
            ],
            [
             0.8888888888888888,
             "#fdca26"
            ],
            [
             1,
             "#f0f921"
            ]
           ],
           "sequentialminus": [
            [
             0,
             "#0d0887"
            ],
            [
             0.1111111111111111,
             "#46039f"
            ],
            [
             0.2222222222222222,
             "#7201a8"
            ],
            [
             0.3333333333333333,
             "#9c179e"
            ],
            [
             0.4444444444444444,
             "#bd3786"
            ],
            [
             0.5555555555555556,
             "#d8576b"
            ],
            [
             0.6666666666666666,
             "#ed7953"
            ],
            [
             0.7777777777777778,
             "#fb9f3a"
            ],
            [
             0.8888888888888888,
             "#fdca26"
            ],
            [
             1,
             "#f0f921"
            ]
           ]
          },
          "colorway": [
           "#636efa",
           "#EF553B",
           "#00cc96",
           "#ab63fa",
           "#FFA15A",
           "#19d3f3",
           "#FF6692",
           "#B6E880",
           "#FF97FF",
           "#FECB52"
          ],
          "font": {
           "color": "#2a3f5f"
          },
          "geo": {
           "bgcolor": "white",
           "lakecolor": "white",
           "landcolor": "#E5ECF6",
           "showlakes": true,
           "showland": true,
           "subunitcolor": "white"
          },
          "hoverlabel": {
           "align": "left"
          },
          "hovermode": "closest",
          "mapbox": {
           "style": "light"
          },
          "paper_bgcolor": "white",
          "plot_bgcolor": "#E5ECF6",
          "polar": {
           "angularaxis": {
            "gridcolor": "white",
            "linecolor": "white",
            "ticks": ""
           },
           "bgcolor": "#E5ECF6",
           "radialaxis": {
            "gridcolor": "white",
            "linecolor": "white",
            "ticks": ""
           }
          },
          "scene": {
           "xaxis": {
            "backgroundcolor": "#E5ECF6",
            "gridcolor": "white",
            "gridwidth": 2,
            "linecolor": "white",
            "showbackground": true,
            "ticks": "",
            "zerolinecolor": "white"
           },
           "yaxis": {
            "backgroundcolor": "#E5ECF6",
            "gridcolor": "white",
            "gridwidth": 2,
            "linecolor": "white",
            "showbackground": true,
            "ticks": "",
            "zerolinecolor": "white"
           },
           "zaxis": {
            "backgroundcolor": "#E5ECF6",
            "gridcolor": "white",
            "gridwidth": 2,
            "linecolor": "white",
            "showbackground": true,
            "ticks": "",
            "zerolinecolor": "white"
           }
          },
          "shapedefaults": {
           "line": {
            "color": "#2a3f5f"
           }
          },
          "ternary": {
           "aaxis": {
            "gridcolor": "white",
            "linecolor": "white",
            "ticks": ""
           },
           "baxis": {
            "gridcolor": "white",
            "linecolor": "white",
            "ticks": ""
           },
           "bgcolor": "#E5ECF6",
           "caxis": {
            "gridcolor": "white",
            "linecolor": "white",
            "ticks": ""
           }
          },
          "title": {
           "x": 0.05
          },
          "xaxis": {
           "automargin": true,
           "gridcolor": "white",
           "linecolor": "white",
           "ticks": "",
           "title": {
            "standoff": 15
           },
           "zerolinecolor": "white",
           "zerolinewidth": 2
          },
          "yaxis": {
           "automargin": true,
           "gridcolor": "white",
           "linecolor": "white",
           "ticks": "",
           "title": {
            "standoff": 15
           },
           "zerolinecolor": "white",
           "zerolinewidth": 2
          }
         }
        },
        "title": {
         "text": "Eficiência por Linhas",
         "x": 0.5
        },
        "xaxis": {
         "anchor": "y",
         "domain": [
          0,
          1
         ],
         "tickformat": ".0%",
         "title": {
          "text": "Eficiência"
         }
        },
        "yaxis": {
         "anchor": "x",
         "autorange": "reversed",
         "domain": [
          0,
          1
         ],
         "tickvals": [
          0,
          1,
          2,
          3,
          4,
          5,
          6,
          7,
          8,
          9,
          11,
          12,
          13,
          14
         ],
         "title": {
          "text": "Linha"
         }
        }
       }
      }
     },
     "metadata": {},
     "output_type": "display_data"
    },
    {
     "data": {
      "application/vnd.plotly.v1+json": {
       "config": {
        "plotlyServerURL": "https://plot.ly"
       },
       "data": [
        {
         "hovertemplate": "<b>Motivo</b>: %{x}<br><b>Tempo Perdido</b>: %{y:.0f} min<br>",
         "name": "Motivo",
         "type": "bar",
         "x": [
          "Parada Programada",
          "Motivo não informado",
          "Limpeza",
          "Refeição",
          "Não apontado - 15min ou menos"
         ],
         "y": [
          17322,
          4680,
          4320,
          646,
          326
         ]
        },
        {
         "hovertemplate": "<b>Problema</b>: %{x}<br><b>Tempo Perdido</b>: %{y:.0f} min<br>",
         "name": "Problema",
         "type": "bar",
         "x": [
          "Sábado",
          "Problema não informado",
          "Robo não está pegando as bandejas",
          "Corrente da bobina não está rodando conforme",
          "Café e ginástica laboral"
         ],
         "y": [
          5758,
          4680,
          84,
          4,
          0
         ]
        }
       ],
       "layout": {
        "font": {
         "family": "Inter"
        },
        "margin": {
         "b": 40,
         "l": 40,
         "r": 40,
         "t": 80
        },
        "showlegend": true,
        "template": {
         "data": {
          "bar": [
           {
            "error_x": {
             "color": "#2a3f5f"
            },
            "error_y": {
             "color": "#2a3f5f"
            },
            "marker": {
             "line": {
              "color": "white",
              "width": 0.5
             },
             "pattern": {
              "fillmode": "overlay",
              "size": 10,
              "solidity": 0.2
             }
            },
            "type": "bar"
           }
          ],
          "barpolar": [
           {
            "marker": {
             "line": {
              "color": "white",
              "width": 0.5
             },
             "pattern": {
              "fillmode": "overlay",
              "size": 10,
              "solidity": 0.2
             }
            },
            "type": "barpolar"
           }
          ],
          "carpet": [
           {
            "aaxis": {
             "endlinecolor": "#2a3f5f",
             "gridcolor": "#C8D4E3",
             "linecolor": "#C8D4E3",
             "minorgridcolor": "#C8D4E3",
             "startlinecolor": "#2a3f5f"
            },
            "baxis": {
             "endlinecolor": "#2a3f5f",
             "gridcolor": "#C8D4E3",
             "linecolor": "#C8D4E3",
             "minorgridcolor": "#C8D4E3",
             "startlinecolor": "#2a3f5f"
            },
            "type": "carpet"
           }
          ],
          "choropleth": [
           {
            "colorbar": {
             "outlinewidth": 0,
             "ticks": ""
            },
            "type": "choropleth"
           }
          ],
          "contour": [
           {
            "colorbar": {
             "outlinewidth": 0,
             "ticks": ""
            },
            "colorscale": [
             [
              0,
              "#0d0887"
             ],
             [
              0.1111111111111111,
              "#46039f"
             ],
             [
              0.2222222222222222,
              "#7201a8"
             ],
             [
              0.3333333333333333,
              "#9c179e"
             ],
             [
              0.4444444444444444,
              "#bd3786"
             ],
             [
              0.5555555555555556,
              "#d8576b"
             ],
             [
              0.6666666666666666,
              "#ed7953"
             ],
             [
              0.7777777777777778,
              "#fb9f3a"
             ],
             [
              0.8888888888888888,
              "#fdca26"
             ],
             [
              1,
              "#f0f921"
             ]
            ],
            "type": "contour"
           }
          ],
          "contourcarpet": [
           {
            "colorbar": {
             "outlinewidth": 0,
             "ticks": ""
            },
            "type": "contourcarpet"
           }
          ],
          "heatmap": [
           {
            "colorbar": {
             "outlinewidth": 0,
             "ticks": ""
            },
            "colorscale": [
             [
              0,
              "#0d0887"
             ],
             [
              0.1111111111111111,
              "#46039f"
             ],
             [
              0.2222222222222222,
              "#7201a8"
             ],
             [
              0.3333333333333333,
              "#9c179e"
             ],
             [
              0.4444444444444444,
              "#bd3786"
             ],
             [
              0.5555555555555556,
              "#d8576b"
             ],
             [
              0.6666666666666666,
              "#ed7953"
             ],
             [
              0.7777777777777778,
              "#fb9f3a"
             ],
             [
              0.8888888888888888,
              "#fdca26"
             ],
             [
              1,
              "#f0f921"
             ]
            ],
            "type": "heatmap"
           }
          ],
          "heatmapgl": [
           {
            "colorbar": {
             "outlinewidth": 0,
             "ticks": ""
            },
            "colorscale": [
             [
              0,
              "#0d0887"
             ],
             [
              0.1111111111111111,
              "#46039f"
             ],
             [
              0.2222222222222222,
              "#7201a8"
             ],
             [
              0.3333333333333333,
              "#9c179e"
             ],
             [
              0.4444444444444444,
              "#bd3786"
             ],
             [
              0.5555555555555556,
              "#d8576b"
             ],
             [
              0.6666666666666666,
              "#ed7953"
             ],
             [
              0.7777777777777778,
              "#fb9f3a"
             ],
             [
              0.8888888888888888,
              "#fdca26"
             ],
             [
              1,
              "#f0f921"
             ]
            ],
            "type": "heatmapgl"
           }
          ],
          "histogram": [
           {
            "marker": {
             "pattern": {
              "fillmode": "overlay",
              "size": 10,
              "solidity": 0.2
             }
            },
            "type": "histogram"
           }
          ],
          "histogram2d": [
           {
            "colorbar": {
             "outlinewidth": 0,
             "ticks": ""
            },
            "colorscale": [
             [
              0,
              "#0d0887"
             ],
             [
              0.1111111111111111,
              "#46039f"
             ],
             [
              0.2222222222222222,
              "#7201a8"
             ],
             [
              0.3333333333333333,
              "#9c179e"
             ],
             [
              0.4444444444444444,
              "#bd3786"
             ],
             [
              0.5555555555555556,
              "#d8576b"
             ],
             [
              0.6666666666666666,
              "#ed7953"
             ],
             [
              0.7777777777777778,
              "#fb9f3a"
             ],
             [
              0.8888888888888888,
              "#fdca26"
             ],
             [
              1,
              "#f0f921"
             ]
            ],
            "type": "histogram2d"
           }
          ],
          "histogram2dcontour": [
           {
            "colorbar": {
             "outlinewidth": 0,
             "ticks": ""
            },
            "colorscale": [
             [
              0,
              "#0d0887"
             ],
             [
              0.1111111111111111,
              "#46039f"
             ],
             [
              0.2222222222222222,
              "#7201a8"
             ],
             [
              0.3333333333333333,
              "#9c179e"
             ],
             [
              0.4444444444444444,
              "#bd3786"
             ],
             [
              0.5555555555555556,
              "#d8576b"
             ],
             [
              0.6666666666666666,
              "#ed7953"
             ],
             [
              0.7777777777777778,
              "#fb9f3a"
             ],
             [
              0.8888888888888888,
              "#fdca26"
             ],
             [
              1,
              "#f0f921"
             ]
            ],
            "type": "histogram2dcontour"
           }
          ],
          "mesh3d": [
           {
            "colorbar": {
             "outlinewidth": 0,
             "ticks": ""
            },
            "type": "mesh3d"
           }
          ],
          "parcoords": [
           {
            "line": {
             "colorbar": {
              "outlinewidth": 0,
              "ticks": ""
             }
            },
            "type": "parcoords"
           }
          ],
          "pie": [
           {
            "automargin": true,
            "type": "pie"
           }
          ],
          "scatter": [
           {
            "fillpattern": {
             "fillmode": "overlay",
             "size": 10,
             "solidity": 0.2
            },
            "type": "scatter"
           }
          ],
          "scatter3d": [
           {
            "line": {
             "colorbar": {
              "outlinewidth": 0,
              "ticks": ""
             }
            },
            "marker": {
             "colorbar": {
              "outlinewidth": 0,
              "ticks": ""
             }
            },
            "type": "scatter3d"
           }
          ],
          "scattercarpet": [
           {
            "marker": {
             "colorbar": {
              "outlinewidth": 0,
              "ticks": ""
             }
            },
            "type": "scattercarpet"
           }
          ],
          "scattergeo": [
           {
            "marker": {
             "colorbar": {
              "outlinewidth": 0,
              "ticks": ""
             }
            },
            "type": "scattergeo"
           }
          ],
          "scattergl": [
           {
            "marker": {
             "colorbar": {
              "outlinewidth": 0,
              "ticks": ""
             }
            },
            "type": "scattergl"
           }
          ],
          "scattermapbox": [
           {
            "marker": {
             "colorbar": {
              "outlinewidth": 0,
              "ticks": ""
             }
            },
            "type": "scattermapbox"
           }
          ],
          "scatterpolar": [
           {
            "marker": {
             "colorbar": {
              "outlinewidth": 0,
              "ticks": ""
             }
            },
            "type": "scatterpolar"
           }
          ],
          "scatterpolargl": [
           {
            "marker": {
             "colorbar": {
              "outlinewidth": 0,
              "ticks": ""
             }
            },
            "type": "scatterpolargl"
           }
          ],
          "scatterternary": [
           {
            "marker": {
             "colorbar": {
              "outlinewidth": 0,
              "ticks": ""
             }
            },
            "type": "scatterternary"
           }
          ],
          "surface": [
           {
            "colorbar": {
             "outlinewidth": 0,
             "ticks": ""
            },
            "colorscale": [
             [
              0,
              "#0d0887"
             ],
             [
              0.1111111111111111,
              "#46039f"
             ],
             [
              0.2222222222222222,
              "#7201a8"
             ],
             [
              0.3333333333333333,
              "#9c179e"
             ],
             [
              0.4444444444444444,
              "#bd3786"
             ],
             [
              0.5555555555555556,
              "#d8576b"
             ],
             [
              0.6666666666666666,
              "#ed7953"
             ],
             [
              0.7777777777777778,
              "#fb9f3a"
             ],
             [
              0.8888888888888888,
              "#fdca26"
             ],
             [
              1,
              "#f0f921"
             ]
            ],
            "type": "surface"
           }
          ],
          "table": [
           {
            "cells": {
             "fill": {
              "color": "#EBF0F8"
             },
             "line": {
              "color": "white"
             }
            },
            "header": {
             "fill": {
              "color": "#C8D4E3"
             },
             "line": {
              "color": "white"
             }
            },
            "type": "table"
           }
          ]
         },
         "layout": {
          "annotationdefaults": {
           "arrowcolor": "#2a3f5f",
           "arrowhead": 0,
           "arrowwidth": 1
          },
          "autotypenumbers": "strict",
          "coloraxis": {
           "colorbar": {
            "outlinewidth": 0,
            "ticks": ""
           }
          },
          "colorscale": {
           "diverging": [
            [
             0,
             "#8e0152"
            ],
            [
             0.1,
             "#c51b7d"
            ],
            [
             0.2,
             "#de77ae"
            ],
            [
             0.3,
             "#f1b6da"
            ],
            [
             0.4,
             "#fde0ef"
            ],
            [
             0.5,
             "#f7f7f7"
            ],
            [
             0.6,
             "#e6f5d0"
            ],
            [
             0.7,
             "#b8e186"
            ],
            [
             0.8,
             "#7fbc41"
            ],
            [
             0.9,
             "#4d9221"
            ],
            [
             1,
             "#276419"
            ]
           ],
           "sequential": [
            [
             0,
             "#0d0887"
            ],
            [
             0.1111111111111111,
             "#46039f"
            ],
            [
             0.2222222222222222,
             "#7201a8"
            ],
            [
             0.3333333333333333,
             "#9c179e"
            ],
            [
             0.4444444444444444,
             "#bd3786"
            ],
            [
             0.5555555555555556,
             "#d8576b"
            ],
            [
             0.6666666666666666,
             "#ed7953"
            ],
            [
             0.7777777777777778,
             "#fb9f3a"
            ],
            [
             0.8888888888888888,
             "#fdca26"
            ],
            [
             1,
             "#f0f921"
            ]
           ],
           "sequentialminus": [
            [
             0,
             "#0d0887"
            ],
            [
             0.1111111111111111,
             "#46039f"
            ],
            [
             0.2222222222222222,
             "#7201a8"
            ],
            [
             0.3333333333333333,
             "#9c179e"
            ],
            [
             0.4444444444444444,
             "#bd3786"
            ],
            [
             0.5555555555555556,
             "#d8576b"
            ],
            [
             0.6666666666666666,
             "#ed7953"
            ],
            [
             0.7777777777777778,
             "#fb9f3a"
            ],
            [
             0.8888888888888888,
             "#fdca26"
            ],
            [
             1,
             "#f0f921"
            ]
           ]
          },
          "colorway": [
           "#636efa",
           "#EF553B",
           "#00cc96",
           "#ab63fa",
           "#FFA15A",
           "#19d3f3",
           "#FF6692",
           "#B6E880",
           "#FF97FF",
           "#FECB52"
          ],
          "font": {
           "color": "#2a3f5f"
          },
          "geo": {
           "bgcolor": "white",
           "lakecolor": "white",
           "landcolor": "white",
           "showlakes": true,
           "showland": true,
           "subunitcolor": "#C8D4E3"
          },
          "hoverlabel": {
           "align": "left"
          },
          "hovermode": "closest",
          "mapbox": {
           "style": "light"
          },
          "paper_bgcolor": "white",
          "plot_bgcolor": "white",
          "polar": {
           "angularaxis": {
            "gridcolor": "#EBF0F8",
            "linecolor": "#EBF0F8",
            "ticks": ""
           },
           "bgcolor": "white",
           "radialaxis": {
            "gridcolor": "#EBF0F8",
            "linecolor": "#EBF0F8",
            "ticks": ""
           }
          },
          "scene": {
           "xaxis": {
            "backgroundcolor": "white",
            "gridcolor": "#DFE8F3",
            "gridwidth": 2,
            "linecolor": "#EBF0F8",
            "showbackground": true,
            "ticks": "",
            "zerolinecolor": "#EBF0F8"
           },
           "yaxis": {
            "backgroundcolor": "white",
            "gridcolor": "#DFE8F3",
            "gridwidth": 2,
            "linecolor": "#EBF0F8",
            "showbackground": true,
            "ticks": "",
            "zerolinecolor": "#EBF0F8"
           },
           "zaxis": {
            "backgroundcolor": "white",
            "gridcolor": "#DFE8F3",
            "gridwidth": 2,
            "linecolor": "#EBF0F8",
            "showbackground": true,
            "ticks": "",
            "zerolinecolor": "#EBF0F8"
           }
          },
          "shapedefaults": {
           "line": {
            "color": "#2a3f5f"
           }
          },
          "ternary": {
           "aaxis": {
            "gridcolor": "#DFE8F3",
            "linecolor": "#A2B1C6",
            "ticks": ""
           },
           "baxis": {
            "gridcolor": "#DFE8F3",
            "linecolor": "#A2B1C6",
            "ticks": ""
           },
           "bgcolor": "white",
           "caxis": {
            "gridcolor": "#DFE8F3",
            "linecolor": "#A2B1C6",
            "ticks": ""
           }
          },
          "title": {
           "x": 0.05
          },
          "xaxis": {
           "automargin": true,
           "gridcolor": "#EBF0F8",
           "linecolor": "#EBF0F8",
           "ticks": "",
           "title": {
            "standoff": 15
           },
           "zerolinecolor": "#EBF0F8",
           "zerolinewidth": 2
          },
          "yaxis": {
           "automargin": true,
           "gridcolor": "#EBF0F8",
           "linecolor": "#EBF0F8",
           "ticks": "",
           "title": {
            "standoff": 15
           },
           "zerolinecolor": "#EBF0F8",
           "zerolinewidth": 2
          }
         }
        },
        "title": {
         "text": "Tempo Perdido que mais impacta a Eficiência - Matutino",
         "x": 0.5
        },
        "xaxis": {
         "title": {
          "text": "Motivo/Problema"
         }
        },
        "yaxis": {
         "title": {
          "text": "Tempo Perdido"
         }
        }
       }
      }
     },
     "metadata": {},
     "output_type": "display_data"
    }
   ],
   "source": [
    "indicators_turn.get_eff_heat_turn((df_eff[df_eff[\"turno\"] == \"MAT\"]).copy(), 90, False)\n",
    "\n",
    "indicators_turn.get_eff_bar_turn(df_eff.copy())\n",
    "\n",
    "teste_ind = indicators_turn.get_eff_lost(df_maq_info_occ_combined.copy())\n",
    "\n",
    "indicators_turn.get_eff_bar_lost(teste_ind.copy(), \"MAT\", False)"
   ]
  },
  {
   "cell_type": "markdown",
   "metadata": {},
   "source": [
    "# Tabela de Paradas\n"
   ]
  },
  {
   "cell_type": "code",
   "execution_count": 33,
   "metadata": {},
   "outputs": [
    {
     "data": {
      "application/vnd.plotly.v1+json": {
       "config": {
        "plotlyServerURL": "https://plot.ly"
       },
       "data": [
        {
         "alignmentgroup": "True",
         "hovertemplate": "Motivo=5min ou menos<br>Linha=%{x}<br>Tempo de Parada (min)=%{y}<extra></extra>",
         "legendgroup": "5min ou menos",
         "marker": {
          "color": "rgb(255,255,255)",
          "pattern": {
           "shape": ""
          }
         },
         "name": "5min ou menos",
         "offsetgroup": "5min ou menos",
         "orientation": "v",
         "showlegend": true,
         "textposition": "auto",
         "type": "bar",
         "x": [
          1,
          2,
          2,
          2,
          3,
          3,
          3,
          3,
          3,
          4,
          4,
          4,
          4,
          4,
          4,
          5,
          5,
          5,
          7,
          8,
          8,
          9,
          9,
          9,
          9,
          9,
          11,
          11,
          12,
          13,
          13,
          13,
          13,
          13,
          14,
          14,
          14,
          14,
          14
         ],
         "xaxis": "x",
         "y": [
          4,
          2,
          2,
          2,
          2,
          2,
          2,
          2,
          4,
          2,
          2,
          2,
          2,
          2,
          4,
          2,
          2,
          2,
          2,
          2,
          2,
          2,
          2,
          2,
          2,
          2,
          2,
          2,
          2,
          2,
          2,
          2,
          2,
          4,
          2,
          2,
          2,
          2,
          2
         ],
         "yaxis": "y"
        },
        {
         "alignmentgroup": "True",
         "hovertemplate": "Motivo=Motivo não apontado<br>Linha=%{x}<br>Tempo de Parada (min)=%{y}<extra></extra>",
         "legendgroup": "Motivo não apontado",
         "marker": {
          "color": "rgb(240,240,240)",
          "pattern": {
           "shape": ""
          }
         },
         "name": "Motivo não apontado",
         "offsetgroup": "Motivo não apontado",
         "orientation": "v",
         "showlegend": true,
         "textposition": "auto",
         "type": "bar",
         "x": [
          1,
          2,
          3,
          3,
          3,
          4,
          4,
          4,
          5,
          5,
          7,
          8,
          8,
          9,
          9,
          9,
          11,
          11,
          12,
          12,
          13,
          14
         ],
         "xaxis": "x",
         "y": [
          38,
          38,
          6,
          6,
          28,
          6,
          8,
          34,
          12,
          26,
          10,
          20,
          46,
          8,
          18,
          36,
          6,
          14,
          6,
          12,
          10,
          68
         ],
         "yaxis": "y"
        },
        {
         "alignmentgroup": "True",
         "hovertemplate": "Motivo=Refeição<br>Linha=%{x}<br>Tempo de Parada (min)=%{y}<extra></extra>",
         "legendgroup": "Refeição",
         "marker": {
          "color": "rgb(217,217,217)",
          "pattern": {
           "shape": ""
          }
         },
         "name": "Refeição",
         "offsetgroup": "Refeição",
         "orientation": "v",
         "showlegend": true,
         "textposition": "auto",
         "type": "bar",
         "x": [
          1,
          2,
          3,
          4,
          11,
          12
         ],
         "xaxis": "x",
         "y": [
          132,
          130,
          68,
          66,
          68,
          66
         ],
         "yaxis": "y"
        },
        {
         "alignmentgroup": "True",
         "hovertemplate": "Motivo=Parada Programada<br>Linha=%{x}<br>Tempo de Parada (min)=%{y}<extra></extra>",
         "legendgroup": "Parada Programada",
         "marker": {
          "color": "rgb(189,189,189)",
          "pattern": {
           "shape": ""
          }
         },
         "name": "Parada Programada",
         "offsetgroup": "Parada Programada",
         "orientation": "v",
         "showlegend": true,
         "textposition": "auto",
         "type": "bar",
         "x": [
          6,
          14
         ],
         "xaxis": "x",
         "y": [
          480,
          44
         ],
         "yaxis": "y"
        },
        {
         "alignmentgroup": "True",
         "hovertemplate": "Motivo=Linha Cheia<br>Linha=%{x}<br>Tempo de Parada (min)=%{y}<extra></extra>",
         "legendgroup": "Linha Cheia",
         "marker": {
          "color": "rgb(150,150,150)",
          "pattern": {
           "shape": ""
          }
         },
         "name": "Linha Cheia",
         "offsetgroup": "Linha Cheia",
         "orientation": "v",
         "showlegend": true,
         "textposition": "auto",
         "type": "bar",
         "x": [
          12,
          13,
          14
         ],
         "xaxis": "x",
         "y": [
          60,
          10,
          14
         ],
         "yaxis": "y"
        }
       ],
       "layout": {
        "barmode": "stack",
        "legend": {
         "title": {
          "text": "Motivo"
         },
         "tracegroupgap": 0
        },
        "margin": {
         "b": 40,
         "l": 40,
         "r": 40,
         "t": 40
        },
        "plot_bgcolor": "white",
        "template": {
         "data": {
          "bar": [
           {
            "error_x": {
             "color": "#2a3f5f"
            },
            "error_y": {
             "color": "#2a3f5f"
            },
            "marker": {
             "line": {
              "color": "#E5ECF6",
              "width": 0.5
             },
             "pattern": {
              "fillmode": "overlay",
              "size": 10,
              "solidity": 0.2
             }
            },
            "type": "bar"
           }
          ],
          "barpolar": [
           {
            "marker": {
             "line": {
              "color": "#E5ECF6",
              "width": 0.5
             },
             "pattern": {
              "fillmode": "overlay",
              "size": 10,
              "solidity": 0.2
             }
            },
            "type": "barpolar"
           }
          ],
          "carpet": [
           {
            "aaxis": {
             "endlinecolor": "#2a3f5f",
             "gridcolor": "white",
             "linecolor": "white",
             "minorgridcolor": "white",
             "startlinecolor": "#2a3f5f"
            },
            "baxis": {
             "endlinecolor": "#2a3f5f",
             "gridcolor": "white",
             "linecolor": "white",
             "minorgridcolor": "white",
             "startlinecolor": "#2a3f5f"
            },
            "type": "carpet"
           }
          ],
          "choropleth": [
           {
            "colorbar": {
             "outlinewidth": 0,
             "ticks": ""
            },
            "type": "choropleth"
           }
          ],
          "contour": [
           {
            "colorbar": {
             "outlinewidth": 0,
             "ticks": ""
            },
            "colorscale": [
             [
              0,
              "#0d0887"
             ],
             [
              0.1111111111111111,
              "#46039f"
             ],
             [
              0.2222222222222222,
              "#7201a8"
             ],
             [
              0.3333333333333333,
              "#9c179e"
             ],
             [
              0.4444444444444444,
              "#bd3786"
             ],
             [
              0.5555555555555556,
              "#d8576b"
             ],
             [
              0.6666666666666666,
              "#ed7953"
             ],
             [
              0.7777777777777778,
              "#fb9f3a"
             ],
             [
              0.8888888888888888,
              "#fdca26"
             ],
             [
              1,
              "#f0f921"
             ]
            ],
            "type": "contour"
           }
          ],
          "contourcarpet": [
           {
            "colorbar": {
             "outlinewidth": 0,
             "ticks": ""
            },
            "type": "contourcarpet"
           }
          ],
          "heatmap": [
           {
            "colorbar": {
             "outlinewidth": 0,
             "ticks": ""
            },
            "colorscale": [
             [
              0,
              "#0d0887"
             ],
             [
              0.1111111111111111,
              "#46039f"
             ],
             [
              0.2222222222222222,
              "#7201a8"
             ],
             [
              0.3333333333333333,
              "#9c179e"
             ],
             [
              0.4444444444444444,
              "#bd3786"
             ],
             [
              0.5555555555555556,
              "#d8576b"
             ],
             [
              0.6666666666666666,
              "#ed7953"
             ],
             [
              0.7777777777777778,
              "#fb9f3a"
             ],
             [
              0.8888888888888888,
              "#fdca26"
             ],
             [
              1,
              "#f0f921"
             ]
            ],
            "type": "heatmap"
           }
          ],
          "heatmapgl": [
           {
            "colorbar": {
             "outlinewidth": 0,
             "ticks": ""
            },
            "colorscale": [
             [
              0,
              "#0d0887"
             ],
             [
              0.1111111111111111,
              "#46039f"
             ],
             [
              0.2222222222222222,
              "#7201a8"
             ],
             [
              0.3333333333333333,
              "#9c179e"
             ],
             [
              0.4444444444444444,
              "#bd3786"
             ],
             [
              0.5555555555555556,
              "#d8576b"
             ],
             [
              0.6666666666666666,
              "#ed7953"
             ],
             [
              0.7777777777777778,
              "#fb9f3a"
             ],
             [
              0.8888888888888888,
              "#fdca26"
             ],
             [
              1,
              "#f0f921"
             ]
            ],
            "type": "heatmapgl"
           }
          ],
          "histogram": [
           {
            "marker": {
             "pattern": {
              "fillmode": "overlay",
              "size": 10,
              "solidity": 0.2
             }
            },
            "type": "histogram"
           }
          ],
          "histogram2d": [
           {
            "colorbar": {
             "outlinewidth": 0,
             "ticks": ""
            },
            "colorscale": [
             [
              0,
              "#0d0887"
             ],
             [
              0.1111111111111111,
              "#46039f"
             ],
             [
              0.2222222222222222,
              "#7201a8"
             ],
             [
              0.3333333333333333,
              "#9c179e"
             ],
             [
              0.4444444444444444,
              "#bd3786"
             ],
             [
              0.5555555555555556,
              "#d8576b"
             ],
             [
              0.6666666666666666,
              "#ed7953"
             ],
             [
              0.7777777777777778,
              "#fb9f3a"
             ],
             [
              0.8888888888888888,
              "#fdca26"
             ],
             [
              1,
              "#f0f921"
             ]
            ],
            "type": "histogram2d"
           }
          ],
          "histogram2dcontour": [
           {
            "colorbar": {
             "outlinewidth": 0,
             "ticks": ""
            },
            "colorscale": [
             [
              0,
              "#0d0887"
             ],
             [
              0.1111111111111111,
              "#46039f"
             ],
             [
              0.2222222222222222,
              "#7201a8"
             ],
             [
              0.3333333333333333,
              "#9c179e"
             ],
             [
              0.4444444444444444,
              "#bd3786"
             ],
             [
              0.5555555555555556,
              "#d8576b"
             ],
             [
              0.6666666666666666,
              "#ed7953"
             ],
             [
              0.7777777777777778,
              "#fb9f3a"
             ],
             [
              0.8888888888888888,
              "#fdca26"
             ],
             [
              1,
              "#f0f921"
             ]
            ],
            "type": "histogram2dcontour"
           }
          ],
          "mesh3d": [
           {
            "colorbar": {
             "outlinewidth": 0,
             "ticks": ""
            },
            "type": "mesh3d"
           }
          ],
          "parcoords": [
           {
            "line": {
             "colorbar": {
              "outlinewidth": 0,
              "ticks": ""
             }
            },
            "type": "parcoords"
           }
          ],
          "pie": [
           {
            "automargin": true,
            "type": "pie"
           }
          ],
          "scatter": [
           {
            "fillpattern": {
             "fillmode": "overlay",
             "size": 10,
             "solidity": 0.2
            },
            "type": "scatter"
           }
          ],
          "scatter3d": [
           {
            "line": {
             "colorbar": {
              "outlinewidth": 0,
              "ticks": ""
             }
            },
            "marker": {
             "colorbar": {
              "outlinewidth": 0,
              "ticks": ""
             }
            },
            "type": "scatter3d"
           }
          ],
          "scattercarpet": [
           {
            "marker": {
             "colorbar": {
              "outlinewidth": 0,
              "ticks": ""
             }
            },
            "type": "scattercarpet"
           }
          ],
          "scattergeo": [
           {
            "marker": {
             "colorbar": {
              "outlinewidth": 0,
              "ticks": ""
             }
            },
            "type": "scattergeo"
           }
          ],
          "scattergl": [
           {
            "marker": {
             "colorbar": {
              "outlinewidth": 0,
              "ticks": ""
             }
            },
            "type": "scattergl"
           }
          ],
          "scattermapbox": [
           {
            "marker": {
             "colorbar": {
              "outlinewidth": 0,
              "ticks": ""
             }
            },
            "type": "scattermapbox"
           }
          ],
          "scatterpolar": [
           {
            "marker": {
             "colorbar": {
              "outlinewidth": 0,
              "ticks": ""
             }
            },
            "type": "scatterpolar"
           }
          ],
          "scatterpolargl": [
           {
            "marker": {
             "colorbar": {
              "outlinewidth": 0,
              "ticks": ""
             }
            },
            "type": "scatterpolargl"
           }
          ],
          "scatterternary": [
           {
            "marker": {
             "colorbar": {
              "outlinewidth": 0,
              "ticks": ""
             }
            },
            "type": "scatterternary"
           }
          ],
          "surface": [
           {
            "colorbar": {
             "outlinewidth": 0,
             "ticks": ""
            },
            "colorscale": [
             [
              0,
              "#0d0887"
             ],
             [
              0.1111111111111111,
              "#46039f"
             ],
             [
              0.2222222222222222,
              "#7201a8"
             ],
             [
              0.3333333333333333,
              "#9c179e"
             ],
             [
              0.4444444444444444,
              "#bd3786"
             ],
             [
              0.5555555555555556,
              "#d8576b"
             ],
             [
              0.6666666666666666,
              "#ed7953"
             ],
             [
              0.7777777777777778,
              "#fb9f3a"
             ],
             [
              0.8888888888888888,
              "#fdca26"
             ],
             [
              1,
              "#f0f921"
             ]
            ],
            "type": "surface"
           }
          ],
          "table": [
           {
            "cells": {
             "fill": {
              "color": "#EBF0F8"
             },
             "line": {
              "color": "white"
             }
            },
            "header": {
             "fill": {
              "color": "#C8D4E3"
             },
             "line": {
              "color": "white"
             }
            },
            "type": "table"
           }
          ]
         },
         "layout": {
          "annotationdefaults": {
           "arrowcolor": "#2a3f5f",
           "arrowhead": 0,
           "arrowwidth": 1
          },
          "autotypenumbers": "strict",
          "coloraxis": {
           "colorbar": {
            "outlinewidth": 0,
            "ticks": ""
           }
          },
          "colorscale": {
           "diverging": [
            [
             0,
             "#8e0152"
            ],
            [
             0.1,
             "#c51b7d"
            ],
            [
             0.2,
             "#de77ae"
            ],
            [
             0.3,
             "#f1b6da"
            ],
            [
             0.4,
             "#fde0ef"
            ],
            [
             0.5,
             "#f7f7f7"
            ],
            [
             0.6,
             "#e6f5d0"
            ],
            [
             0.7,
             "#b8e186"
            ],
            [
             0.8,
             "#7fbc41"
            ],
            [
             0.9,
             "#4d9221"
            ],
            [
             1,
             "#276419"
            ]
           ],
           "sequential": [
            [
             0,
             "#0d0887"
            ],
            [
             0.1111111111111111,
             "#46039f"
            ],
            [
             0.2222222222222222,
             "#7201a8"
            ],
            [
             0.3333333333333333,
             "#9c179e"
            ],
            [
             0.4444444444444444,
             "#bd3786"
            ],
            [
             0.5555555555555556,
             "#d8576b"
            ],
            [
             0.6666666666666666,
             "#ed7953"
            ],
            [
             0.7777777777777778,
             "#fb9f3a"
            ],
            [
             0.8888888888888888,
             "#fdca26"
            ],
            [
             1,
             "#f0f921"
            ]
           ],
           "sequentialminus": [
            [
             0,
             "#0d0887"
            ],
            [
             0.1111111111111111,
             "#46039f"
            ],
            [
             0.2222222222222222,
             "#7201a8"
            ],
            [
             0.3333333333333333,
             "#9c179e"
            ],
            [
             0.4444444444444444,
             "#bd3786"
            ],
            [
             0.5555555555555556,
             "#d8576b"
            ],
            [
             0.6666666666666666,
             "#ed7953"
            ],
            [
             0.7777777777777778,
             "#fb9f3a"
            ],
            [
             0.8888888888888888,
             "#fdca26"
            ],
            [
             1,
             "#f0f921"
            ]
           ]
          },
          "colorway": [
           "#636efa",
           "#EF553B",
           "#00cc96",
           "#ab63fa",
           "#FFA15A",
           "#19d3f3",
           "#FF6692",
           "#B6E880",
           "#FF97FF",
           "#FECB52"
          ],
          "font": {
           "color": "#2a3f5f"
          },
          "geo": {
           "bgcolor": "white",
           "lakecolor": "white",
           "landcolor": "#E5ECF6",
           "showlakes": true,
           "showland": true,
           "subunitcolor": "white"
          },
          "hoverlabel": {
           "align": "left"
          },
          "hovermode": "closest",
          "mapbox": {
           "style": "light"
          },
          "paper_bgcolor": "white",
          "plot_bgcolor": "#E5ECF6",
          "polar": {
           "angularaxis": {
            "gridcolor": "white",
            "linecolor": "white",
            "ticks": ""
           },
           "bgcolor": "#E5ECF6",
           "radialaxis": {
            "gridcolor": "white",
            "linecolor": "white",
            "ticks": ""
           }
          },
          "scene": {
           "xaxis": {
            "backgroundcolor": "#E5ECF6",
            "gridcolor": "white",
            "gridwidth": 2,
            "linecolor": "white",
            "showbackground": true,
            "ticks": "",
            "zerolinecolor": "white"
           },
           "yaxis": {
            "backgroundcolor": "#E5ECF6",
            "gridcolor": "white",
            "gridwidth": 2,
            "linecolor": "white",
            "showbackground": true,
            "ticks": "",
            "zerolinecolor": "white"
           },
           "zaxis": {
            "backgroundcolor": "#E5ECF6",
            "gridcolor": "white",
            "gridwidth": 2,
            "linecolor": "white",
            "showbackground": true,
            "ticks": "",
            "zerolinecolor": "white"
           }
          },
          "shapedefaults": {
           "line": {
            "color": "#2a3f5f"
           }
          },
          "ternary": {
           "aaxis": {
            "gridcolor": "white",
            "linecolor": "white",
            "ticks": ""
           },
           "baxis": {
            "gridcolor": "white",
            "linecolor": "white",
            "ticks": ""
           },
           "bgcolor": "#E5ECF6",
           "caxis": {
            "gridcolor": "white",
            "linecolor": "white",
            "ticks": ""
           }
          },
          "title": {
           "x": 0.05
          },
          "xaxis": {
           "automargin": true,
           "gridcolor": "white",
           "linecolor": "white",
           "ticks": "",
           "title": {
            "standoff": 15
           },
           "zerolinecolor": "white",
           "zerolinewidth": 2
          },
          "yaxis": {
           "automargin": true,
           "gridcolor": "white",
           "linecolor": "white",
           "ticks": "",
           "title": {
            "standoff": 15
           },
           "zerolinecolor": "white",
           "zerolinewidth": 2
          }
         }
        },
        "title": {
         "text": "Tempo de Parada por Problema",
         "x": 0.5
        },
        "xaxis": {
         "anchor": "y",
         "categoryorder": "category ascending",
         "domain": [
          0,
          1
         ],
         "tickvals": [
          1,
          2,
          3,
          4,
          5,
          6,
          7,
          8,
          9,
          11,
          12,
          13,
          14
         ],
         "title": {
          "text": "Linha"
         }
        },
        "yaxis": {
         "anchor": "x",
         "domain": [
          0,
          1
         ],
         "title": {
          "text": "Tempo de Parada (min)"
         }
        }
       }
      }
     },
     "metadata": {},
     "output_type": "display_data"
    }
   ],
   "source": [
    "def stops(df: pd.DataFrame, data, turno) -> pd.DataFrame:\n",
    "    # Mudar data_hora_registro para data_registro\n",
    "    df[\"data_hora_registro\"] = pd.to_datetime(df[\"data_hora_registro\"]).dt.date\n",
    "    df.rename(columns={\"data_hora_registro\": \"data_registro\"}, inplace=True)\n",
    "\n",
    "    # Filtro pelo dia\n",
    "    df = df[df[\"data_registro\"] == pd.to_datetime(data).date()]\n",
    "\n",
    "    # filtro pelo turno\n",
    "    df = df[df[\"turno\"] == turno]\n",
    "\n",
    "\n",
    "    # Remover colunas que não serão necessárias\n",
    "    df.drop(\n",
    "        columns=[\n",
    "            \"feriado\",\n",
    "            \"domingo\",\n",
    "            \"sabado\",\n",
    "            \"contagem_total_produzido\",\n",
    "            \"contagem_total_ciclos\",\n",
    "            \"usuario_id_occ\",\n",
    "            \"solucao\",\n",
    "            \"status\",\n",
    "        ],\n",
    "        inplace=True,\n",
    "    )\n",
    "\n",
    "    # Se o tempo_registro_min for 5 ou menos, substituir problema por \"Não apontado - 5min ou menos\" e motivo_nome por \"5min ou menos\"\n",
    "    df.loc[df[\"tempo_registro_min\"] <= 5, [\"problema\", \"motivo_nome\"]] = [\n",
    "        \"Não apontado - 5min ou menos\",\n",
    "        \"5min ou menos\",\n",
    "    ]\n",
    "\n",
    "    # Substituir valores nulos em motivo_nome por \"Motivo não apontado\" e em problema por \"Não Informado\"\n",
    "    df.fillna({\"motivo_nome\": \"Motivo não apontado\", \"problema\": \"Não Informado\"}, inplace=True)\n",
    "\n",
    "    # Ordenar por linha e data_registro e tempo_registro_min\n",
    "    df = df.sort_values(by=[\"linha\", \"data_registro\", \"tempo_registro_min\"], ascending=True)\n",
    "\n",
    "    # Criação do gráfico de barras\n",
    "    fig = px.bar(\n",
    "        df,\n",
    "        x=\"linha\",\n",
    "        y=\"tempo_registro_min\",\n",
    "        color=\"motivo_nome\",\n",
    "        barmode=\"stack\",\n",
    "        labels={\n",
    "            \"tempo_registro_min\": \"Tempo de Parada (min)\",\n",
    "            \"linha\": \"Linha\",\n",
    "            \"motivo_nome\": \"Motivo\",\n",
    "        },\n",
    "        title=\"Tempo de Parada por Problema\",\n",
    "        color_discrete_sequence=px.colors.sequential.Greys,\n",
    "    )\n",
    "\n",
    "    # Adicionar título e labels\n",
    "    fig.update_layout(\n",
    "        title_x=0.5,\n",
    "        xaxis_title=\"Linha\",\n",
    "        yaxis_title=\"Tempo de Parada (min)\",\n",
    "        plot_bgcolor=\"white\",\n",
    "        margin=dict(t=40, b=40, l=40, r=40),\n",
    "        xaxis=dict(\n",
    "            categoryorder=\"category ascending\",\n",
    "            tickvals=df[\"linha\"].unique(),\n",
    "        ),\n",
    "    )\n",
    "\n",
    "    fig.show()\n",
    "\n",
    "    return fig\n",
    "\n",
    "stops_bar = stops(df_maq_info_occ_combined.copy(), \"2024-02-01\", \"MAT\")\n"
   ]
  }
 ],
 "metadata": {
  "kernelspec": {
   "display_name": "venv",
   "language": "python",
   "name": "python3"
  },
  "language_info": {
   "codemirror_mode": {
    "name": "ipython",
    "version": 3
   },
   "file_extension": ".py",
   "mimetype": "text/x-python",
   "name": "python",
   "nbconvert_exporter": "python",
   "pygments_lexer": "ipython3",
   "version": "3.12.1"
  }
 },
 "nbformat": 4,
 "nbformat_minor": 2
}
