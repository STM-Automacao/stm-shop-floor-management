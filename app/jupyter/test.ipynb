{
 "cells": [
  {
   "cell_type": "markdown",
   "metadata": {},
   "source": [
    "# Importações\n"
   ]
  },
  {
   "cell_type": "code",
   "execution_count": 2,
   "metadata": {},
   "outputs": [],
   "source": [
    "import urllib\n",
    "from itertools import product\n",
    "from os import getenv\n",
    "from sqlalchemy import create_engine\n",
    "from dotenv import load_dotenv\n",
    "\n",
    "import numpy as np\n",
    "import pandas as pd\n",
    "from datetime import datetime, timedelta, time\n",
    "import plotly.graph_objects as go\n",
    "import plotly.express as px\n",
    "from fuzzywuzzy import process"
   ]
  },
  {
   "cell_type": "markdown",
   "metadata": {},
   "source": [
    "# Conexão com o banco de dados\n"
   ]
  },
  {
   "cell_type": "code",
   "execution_count": 3,
   "metadata": {},
   "outputs": [],
   "source": [
    "# database/connection.py\n",
    "\n",
    "# cSpell: disable=invalid-name\n",
    "load_dotenv()\n",
    "\n",
    "\n",
    "class Connection:\n",
    "    \"\"\"\n",
    "    Class Connection\n",
    "    \"\"\"\n",
    "\n",
    "    def __init__(self):\n",
    "        \"\"\"\n",
    "        Constructor\n",
    "\n",
    "        Args:\n",
    "            user (str): user\n",
    "            password (str): password\n",
    "            database (str): database\n",
    "            driver (str): driver\n",
    "            server (str): server\n",
    "\n",
    "        Usage:\n",
    "            >>> from connection import Connection\n",
    "            >>> connection = Connection()\n",
    "            >>> connection.get_connection()\n",
    "        \"\"\"\n",
    "        self.__user = getenv(\"PYMSSQL_USER\")\n",
    "        self.__password = getenv(\"PYMSSQL_PASSWORD\")\n",
    "        self.__database = getenv(\"PYMSSQL_DATABASE_AUTOMACAO\")\n",
    "        self.__driver = \"{ODBC Driver 17 for SQL Server}\"\n",
    "        self.__server = getenv(\"PYMSSQL_SERVER\")\n",
    "\n",
    "    def get_connection_automacao(self):\n",
    "        \"\"\"\n",
    "        Get connection\n",
    "\n",
    "        Returns:\n",
    "            object: connection\n",
    "\n",
    "        Usage:\n",
    "            >>> from connection import Connection\n",
    "            >>> connection = Connection()\n",
    "            >>> connection.get_connection()\n",
    "        \"\"\"\n",
    "        try:\n",
    "            params = urllib.parse.quote_plus(\n",
    "                f\"DRIVER={self.__driver};\"\n",
    "                f\"SERVER={self.__server};\"\n",
    "                f\"DATABASE={self.__database};\"\n",
    "                f\"UID={self.__user};\"\n",
    "                f\"PWD={self.__password};\"\n",
    "            )\n",
    "            # pylint: disable=consider-using-f-string\n",
    "            conexao_automacao = create_engine(\"mssql+pyodbc:///?odbc_connect=%s\" % params)\n",
    "            return conexao_automacao\n",
    "        # pylint: disable=broad-except\n",
    "        except Exception as error:\n",
    "            print(f\"Error: {error}\")\n",
    "            return None"
   ]
  },
  {
   "cell_type": "markdown",
   "metadata": {},
   "source": [
    "# Leitura do banco de dados\n"
   ]
  },
  {
   "cell_type": "code",
   "execution_count": 4,
   "metadata": {},
   "outputs": [],
   "source": [
    "# database/db_read.py\n",
    "\n",
    "\n",
    "# cSpell: disable=invalid-name\n",
    "class Read(Connection):\n",
    "    \"\"\"\n",
    "    Class Read\n",
    "    Read data from the database and return a pandas dataframe\n",
    "    Create query to be executed in the database\n",
    "    \"\"\"\n",
    "\n",
    "    # pylint: disable=useless-super-delegation\n",
    "    def __init__(self):\n",
    "        \"\"\"\n",
    "        Constructor\n",
    "        \"\"\"\n",
    "        super().__init__()\n",
    "\n",
    "    def get_automacao_data(self, query: str) -> pd.DataFrame:\n",
    "        \"\"\"\n",
    "        Get data from database AUTOMACAO and return a pandas dataframe.\n",
    "\n",
    "        Parameters\n",
    "        ----------\n",
    "        query : str\n",
    "            Query to be executed in the database\n",
    "\n",
    "        Returns\n",
    "        -------\n",
    "        pandas dataframe\n",
    "            Dataframe with the query result\n",
    "        \"\"\"\n",
    "        try:\n",
    "            connection = self.get_connection_automacao()\n",
    "            data = pd.read_sql(query, connection)\n",
    "            return data\n",
    "        # pylint: disable=broad-except\n",
    "        except Exception as error:\n",
    "            print(f\"Error: {error}\")\n",
    "            return None\n",
    "\n",
    "    def create_automacao_query(self, table: str, where: str = None, orderby: str = None) -> str:\n",
    "        \"\"\"\n",
    "        Create query to be executed in the database AUTOMACAO.\n",
    "\n",
    "        Parameters\n",
    "        ----------\n",
    "        table : str\n",
    "            Table name\n",
    "        where : str\n",
    "            Where clause (optional)\n",
    "        orderby : str\n",
    "            Order by clause (optional)\n",
    "\n",
    "        Returns\n",
    "        -------\n",
    "        str\n",
    "            Query to be executed in the database\n",
    "        \"\"\"\n",
    "        query = f\"SELECT * FROM AUTOMACAO.dbo.{table}\"\n",
    "\n",
    "        if where:\n",
    "            query += f\" WHERE {where}\"\n",
    "\n",
    "        if orderby:\n",
    "            query += f\" ORDER BY {orderby}\"\n",
    "\n",
    "        return query"
   ]
  },
  {
   "cell_type": "markdown",
   "metadata": {},
   "source": [
    "# Query para o banco de dados\n"
   ]
  },
  {
   "cell_type": "code",
   "execution_count": 5,
   "metadata": {},
   "outputs": [
    {
     "name": "stdout",
     "output_type": "stream",
     "text": [
      "========== Baixando dados do DB ==========\n"
     ]
    },
    {
     "name": "stdout",
     "output_type": "stream",
     "text": [
      "Ok...\n"
     ]
    }
   ],
   "source": [
    "# cSpell: words automacao, ocorrencia\n",
    "class GetData:\n",
    "    \"\"\"\n",
    "    Essa classe é responsável por realizar a leitura dos dados do banco de dados.\n",
    "    É utilizada para fazer a leitura em segundo plano, sem que o usuário perceba.\n",
    "    \"\"\"\n",
    "\n",
    "    def __init__(self):\n",
    "        self.db_read = Read()\n",
    "\n",
    "    def get_data(self) -> tuple:\n",
    "        \"\"\"\n",
    "        Realiza a leitura dos dados do banco de dados.\n",
    "        Retorna na ordem: df_occ, df_info, df_cadastro\n",
    "        \"\"\"\n",
    "\n",
    "        # Dia de hoje\n",
    "        now = pd.to_datetime(\"today\")\n",
    "\n",
    "        # Encontrando primeiro dia do mês atual\n",
    "        first_day = now.replace(day=1)\n",
    "\n",
    "        # Mantendo apenas a data\n",
    "        first_day = first_day.strftime(\"%Y-%m-%d\")\n",
    "\n",
    "        # Query para leitura dos dados de ocorrência\n",
    "        query_occ = self.db_read.create_automacao_query(\n",
    "            table=\"maquina_ocorrencia\",\n",
    "            where=f\"data_registro >= '{first_day}'\",\n",
    "        )\n",
    "\n",
    "        query_info = (\n",
    "            \"SELECT\"\n",
    "            \" t1.maquina_id,\"\n",
    "            \" (SELECT TOP 1 t2.linha FROM AUTOMACAO.dbo.maquina_cadastro t2\"\n",
    "            \" WHERE t2.maquina_id = t1.maquina_id AND t2.data_registro <= t1.data_registro\"\n",
    "            \" ORDER BY t2.data_registro DESC, t2.hora_registro DESC) as linha,\"\n",
    "            \" (SELECT TOP 1 t2.fabrica FROM AUTOMACAO.dbo.maquina_cadastro t2\"\n",
    "            \" WHERE t2.maquina_id = t1.maquina_id AND t2.data_registro <= t1.data_registro\"\n",
    "            \" ORDER BY t2.data_registro DESC, t2.hora_registro DESC) as fabrica,\"\n",
    "            \" t1.status,\"\n",
    "            \" t1.turno,\"\n",
    "            \" t1.contagem_total_ciclos,\"\n",
    "            \" t1.contagem_total_produzido,\"\n",
    "            \" t1.data_registro,\"\n",
    "            \" t1.hora_registro\"\n",
    "            \" FROM \"\n",
    "            \" AUTOMACAO.dbo.maquina_info t1\"\n",
    "            f\" WHERE data_registro >= '{first_day}'\"\n",
    "            \" ORDER BY t1.data_registro DESC, t1.hora_registro DESC\"\n",
    "        )\n",
    "\n",
    "        query_production = (\n",
    "            \"SELECT\"\n",
    "            \" t1.maquina_id,\"\n",
    "            \" (SELECT TOP 1 t2.linha FROM AUTOMACAO.dbo.maquina_cadastro t2\"\n",
    "            \" WHERE t2.maquina_id = t1.maquina_id AND t2.data_registro <= t1.data_registro\"\n",
    "            \" ORDER BY t2.data_registro DESC, t2.hora_registro desc) as linha,\"\n",
    "            \" t1.turno,\"\n",
    "            \" MAX(t1.contagem_total_ciclos) total_ciclos,\"\n",
    "            \" MAX(t1.contagem_total_produzido) total_produzido,\"\n",
    "            \" t1.data_registro\"\n",
    "            \" FROM\"\n",
    "            \" AUTOMACAO.dbo.maquina_info t1\"\n",
    "            f\" WHERE data_registro >= '{first_day}'\"\n",
    "            \" GROUP BY t1.maquina_id, t1.data_registro, t1.turno\"\n",
    "            \" ORDER BY data_registro DESC, maquina_id, turno\"\n",
    "        )\n",
    "\n",
    "        print(\"========== Baixando dados do DB ==========\")\n",
    "\n",
    "        # Leitura dos dados\n",
    "        df_occ = self.db_read.get_automacao_data(query_occ)\n",
    "        df_info = self.db_read.get_automacao_data(query_info)\n",
    "        df_info_production = self.db_read.get_automacao_data(query_production)\n",
    "\n",
    "        # Verificando se os dados foram lidos corretamente\n",
    "        if df_occ.empty or df_info.empty or df_info_production.empty:\n",
    "            print(\"====== Erro na leitura dos dados ======\")\n",
    "            return None, None, None\n",
    "\n",
    "        print(\"Ok...\")\n",
    "\n",
    "        return df_occ, df_info, df_info_production\n",
    "\n",
    "\n",
    "get_data = GetData()\n",
    "df_occ, df_info, df_info_production = get_data.get_data()"
   ]
  },
  {
   "cell_type": "markdown",
   "metadata": {},
   "source": [
    "## Testes de saída do banco de dados\n"
   ]
  },
  {
   "cell_type": "code",
   "execution_count": 6,
   "metadata": {},
   "outputs": [
    {
     "data": {
      "text/html": [
       "<div>\n",
       "<style scoped>\n",
       "    .dataframe tbody tr th:only-of-type {\n",
       "        vertical-align: middle;\n",
       "    }\n",
       "\n",
       "    .dataframe tbody tr th {\n",
       "        vertical-align: top;\n",
       "    }\n",
       "\n",
       "    .dataframe thead th {\n",
       "        text-align: right;\n",
       "    }\n",
       "</style>\n",
       "<table border=\"1\" class=\"dataframe\">\n",
       "  <thead>\n",
       "    <tr style=\"text-align: right;\">\n",
       "      <th></th>\n",
       "      <th>recno</th>\n",
       "      <th>maquina_id</th>\n",
       "      <th>motivo_id</th>\n",
       "      <th>problema</th>\n",
       "      <th>solucao</th>\n",
       "      <th>data_registro</th>\n",
       "      <th>hora_registro</th>\n",
       "      <th>usuario_id</th>\n",
       "    </tr>\n",
       "  </thead>\n",
       "  <tbody>\n",
       "    <tr>\n",
       "      <th>0</th>\n",
       "      <td>2638</td>\n",
       "      <td>TMF006</td>\n",
       "      <td>12</td>\n",
       "      <td></td>\n",
       "      <td></td>\n",
       "      <td>2024-01-02</td>\n",
       "      <td>01:16:52</td>\n",
       "      <td>000453</td>\n",
       "    </tr>\n",
       "    <tr>\n",
       "      <th>1</th>\n",
       "      <td>2639</td>\n",
       "      <td>TMF013</td>\n",
       "      <td>08</td>\n",
       "      <td></td>\n",
       "      <td></td>\n",
       "      <td>2024-01-02</td>\n",
       "      <td>01:17:04</td>\n",
       "      <td>000453</td>\n",
       "    </tr>\n",
       "    <tr>\n",
       "      <th>2</th>\n",
       "      <td>2640</td>\n",
       "      <td>TMF010</td>\n",
       "      <td>08</td>\n",
       "      <td></td>\n",
       "      <td></td>\n",
       "      <td>2024-01-02</td>\n",
       "      <td>01:17:20</td>\n",
       "      <td>000453</td>\n",
       "    </tr>\n",
       "    <tr>\n",
       "      <th>3</th>\n",
       "      <td>2641</td>\n",
       "      <td>TMF010</td>\n",
       "      <td>12</td>\n",
       "      <td></td>\n",
       "      <td></td>\n",
       "      <td>2024-01-02</td>\n",
       "      <td>01:18:45</td>\n",
       "      <td>000453</td>\n",
       "    </tr>\n",
       "    <tr>\n",
       "      <th>4</th>\n",
       "      <td>2642</td>\n",
       "      <td>TMF006</td>\n",
       "      <td>12</td>\n",
       "      <td></td>\n",
       "      <td></td>\n",
       "      <td>2024-01-03</td>\n",
       "      <td>08:14:58</td>\n",
       "      <td>000807</td>\n",
       "    </tr>\n",
       "    <tr>\n",
       "      <th>...</th>\n",
       "      <td>...</td>\n",
       "      <td>...</td>\n",
       "      <td>...</td>\n",
       "      <td>...</td>\n",
       "      <td>...</td>\n",
       "      <td>...</td>\n",
       "      <td>...</td>\n",
       "      <td>...</td>\n",
       "    </tr>\n",
       "    <tr>\n",
       "      <th>669</th>\n",
       "      <td>3307</td>\n",
       "      <td>TMF012</td>\n",
       "      <td>11</td>\n",
       "      <td>Setup para bolinha 300g</td>\n",
       "      <td></td>\n",
       "      <td>2024-01-29</td>\n",
       "      <td>19:29:05</td>\n",
       "      <td>000939</td>\n",
       "    </tr>\n",
       "    <tr>\n",
       "      <th>670</th>\n",
       "      <td>3308</td>\n",
       "      <td>TMF007</td>\n",
       "      <td>12</td>\n",
       "      <td></td>\n",
       "      <td></td>\n",
       "      <td>2024-01-30</td>\n",
       "      <td>04:28:04</td>\n",
       "      <td>000453</td>\n",
       "    </tr>\n",
       "    <tr>\n",
       "      <th>671</th>\n",
       "      <td>3309</td>\n",
       "      <td>TMF010</td>\n",
       "      <td>12</td>\n",
       "      <td></td>\n",
       "      <td></td>\n",
       "      <td>2024-01-30</td>\n",
       "      <td>04:28:23</td>\n",
       "      <td>000453</td>\n",
       "    </tr>\n",
       "    <tr>\n",
       "      <th>672</th>\n",
       "      <td>3310</td>\n",
       "      <td>TMF008</td>\n",
       "      <td>03</td>\n",
       "      <td></td>\n",
       "      <td></td>\n",
       "      <td>2024-01-30</td>\n",
       "      <td>04:28:48</td>\n",
       "      <td>000453</td>\n",
       "    </tr>\n",
       "    <tr>\n",
       "      <th>673</th>\n",
       "      <td>3311</td>\n",
       "      <td>TMF012</td>\n",
       "      <td>03</td>\n",
       "      <td></td>\n",
       "      <td></td>\n",
       "      <td>2024-01-30</td>\n",
       "      <td>04:29:39</td>\n",
       "      <td>000453</td>\n",
       "    </tr>\n",
       "  </tbody>\n",
       "</table>\n",
       "<p>674 rows × 8 columns</p>\n",
       "</div>"
      ],
      "text/plain": [
       "     recno maquina_id motivo_id                 problema solucao  \\\n",
       "0     2638     TMF006        12                                    \n",
       "1     2639     TMF013        08                                    \n",
       "2     2640     TMF010        08                                    \n",
       "3     2641     TMF010        12                                    \n",
       "4     2642     TMF006        12                                    \n",
       "..     ...        ...       ...                      ...     ...   \n",
       "669   3307     TMF012        11  Setup para bolinha 300g           \n",
       "670   3308     TMF007        12                                    \n",
       "671   3309     TMF010        12                                    \n",
       "672   3310     TMF008        03                                    \n",
       "673   3311     TMF012        03                                    \n",
       "\n",
       "    data_registro hora_registro usuario_id  \n",
       "0      2024-01-02      01:16:52     000453  \n",
       "1      2024-01-02      01:17:04     000453  \n",
       "2      2024-01-02      01:17:20     000453  \n",
       "3      2024-01-02      01:18:45     000453  \n",
       "4      2024-01-03      08:14:58     000807  \n",
       "..            ...           ...        ...  \n",
       "669    2024-01-29      19:29:05     000939  \n",
       "670    2024-01-30      04:28:04     000453  \n",
       "671    2024-01-30      04:28:23     000453  \n",
       "672    2024-01-30      04:28:48     000453  \n",
       "673    2024-01-30      04:29:39     000453  \n",
       "\n",
       "[674 rows x 8 columns]"
      ]
     },
     "execution_count": 6,
     "metadata": {},
     "output_type": "execute_result"
    }
   ],
   "source": [
    "df_occ"
   ]
  },
  {
   "cell_type": "code",
   "execution_count": 7,
   "metadata": {},
   "outputs": [
    {
     "data": {
      "text/html": [
       "<div>\n",
       "<style scoped>\n",
       "    .dataframe tbody tr th:only-of-type {\n",
       "        vertical-align: middle;\n",
       "    }\n",
       "\n",
       "    .dataframe tbody tr th {\n",
       "        vertical-align: top;\n",
       "    }\n",
       "\n",
       "    .dataframe thead th {\n",
       "        text-align: right;\n",
       "    }\n",
       "</style>\n",
       "<table border=\"1\" class=\"dataframe\">\n",
       "  <thead>\n",
       "    <tr style=\"text-align: right;\">\n",
       "      <th></th>\n",
       "      <th>maquina_id</th>\n",
       "      <th>linha</th>\n",
       "      <th>fabrica</th>\n",
       "      <th>status</th>\n",
       "      <th>turno</th>\n",
       "      <th>contagem_total_ciclos</th>\n",
       "      <th>contagem_total_produzido</th>\n",
       "      <th>data_registro</th>\n",
       "      <th>hora_registro</th>\n",
       "    </tr>\n",
       "  </thead>\n",
       "  <tbody>\n",
       "    <tr>\n",
       "      <th>0</th>\n",
       "      <td>TMF001</td>\n",
       "      <td>9</td>\n",
       "      <td>1</td>\n",
       "      <td>true</td>\n",
       "      <td>MAT</td>\n",
       "      <td>10.0</td>\n",
       "      <td>10.0</td>\n",
       "      <td>2024-01-30</td>\n",
       "      <td>08:01:30.960000</td>\n",
       "    </tr>\n",
       "    <tr>\n",
       "      <th>1</th>\n",
       "      <td>TMF003</td>\n",
       "      <td>8</td>\n",
       "      <td>1</td>\n",
       "      <td>true</td>\n",
       "      <td>MAT</td>\n",
       "      <td>10.0</td>\n",
       "      <td>10.0</td>\n",
       "      <td>2024-01-30</td>\n",
       "      <td>08:01:29.956666</td>\n",
       "    </tr>\n",
       "    <tr>\n",
       "      <th>2</th>\n",
       "      <td>TMF009</td>\n",
       "      <td>7</td>\n",
       "      <td>1</td>\n",
       "      <td>true</td>\n",
       "      <td>MAT</td>\n",
       "      <td>8.0</td>\n",
       "      <td>6.0</td>\n",
       "      <td>2024-01-30</td>\n",
       "      <td>08:01:28.956666</td>\n",
       "    </tr>\n",
       "    <tr>\n",
       "      <th>3</th>\n",
       "      <td>TMF004</td>\n",
       "      <td>6</td>\n",
       "      <td>1</td>\n",
       "      <td>false</td>\n",
       "      <td>MAT</td>\n",
       "      <td>0.0</td>\n",
       "      <td>0.0</td>\n",
       "      <td>2024-01-30</td>\n",
       "      <td>08:01:27.956666</td>\n",
       "    </tr>\n",
       "    <tr>\n",
       "      <th>4</th>\n",
       "      <td>TMF014</td>\n",
       "      <td>5</td>\n",
       "      <td>1</td>\n",
       "      <td>true</td>\n",
       "      <td>MAT</td>\n",
       "      <td>8.0</td>\n",
       "      <td>8.0</td>\n",
       "      <td>2024-01-30</td>\n",
       "      <td>08:01:26.953333</td>\n",
       "    </tr>\n",
       "    <tr>\n",
       "      <th>...</th>\n",
       "      <td>...</td>\n",
       "      <td>...</td>\n",
       "      <td>...</td>\n",
       "      <td>...</td>\n",
       "      <td>...</td>\n",
       "      <td>...</td>\n",
       "      <td>...</td>\n",
       "      <td>...</td>\n",
       "      <td>...</td>\n",
       "    </tr>\n",
       "    <tr>\n",
       "      <th>282958</th>\n",
       "      <td>TMF014</td>\n",
       "      <td>5</td>\n",
       "      <td>1</td>\n",
       "      <td>false</td>\n",
       "      <td>VES</td>\n",
       "      <td>0.0</td>\n",
       "      <td>0.0</td>\n",
       "      <td>2024-01-01</td>\n",
       "      <td>00:00:18.253333</td>\n",
       "    </tr>\n",
       "    <tr>\n",
       "      <th>282959</th>\n",
       "      <td>TMF011</td>\n",
       "      <td>4</td>\n",
       "      <td>1</td>\n",
       "      <td>false</td>\n",
       "      <td>VES</td>\n",
       "      <td>0.0</td>\n",
       "      <td>0.0</td>\n",
       "      <td>2024-01-01</td>\n",
       "      <td>00:00:17.253333</td>\n",
       "    </tr>\n",
       "    <tr>\n",
       "      <th>282960</th>\n",
       "      <td>TMF015</td>\n",
       "      <td>3</td>\n",
       "      <td>1</td>\n",
       "      <td>false</td>\n",
       "      <td>VES</td>\n",
       "      <td>0.0</td>\n",
       "      <td>0.0</td>\n",
       "      <td>2024-01-01</td>\n",
       "      <td>00:00:16.253333</td>\n",
       "    </tr>\n",
       "    <tr>\n",
       "      <th>282961</th>\n",
       "      <td>TMF002</td>\n",
       "      <td>2</td>\n",
       "      <td>1</td>\n",
       "      <td>false</td>\n",
       "      <td>VES</td>\n",
       "      <td>0.0</td>\n",
       "      <td>0.0</td>\n",
       "      <td>2024-01-01</td>\n",
       "      <td>00:00:15.253333</td>\n",
       "    </tr>\n",
       "    <tr>\n",
       "      <th>282962</th>\n",
       "      <td>TMF005</td>\n",
       "      <td>1</td>\n",
       "      <td>1</td>\n",
       "      <td>false</td>\n",
       "      <td>VES</td>\n",
       "      <td>0.0</td>\n",
       "      <td>0.0</td>\n",
       "      <td>2024-01-01</td>\n",
       "      <td>00:00:14.246666</td>\n",
       "    </tr>\n",
       "  </tbody>\n",
       "</table>\n",
       "<p>282963 rows × 9 columns</p>\n",
       "</div>"
      ],
      "text/plain": [
       "       maquina_id  linha fabrica status turno  contagem_total_ciclos  \\\n",
       "0          TMF001      9       1   true   MAT                   10.0   \n",
       "1          TMF003      8       1   true   MAT                   10.0   \n",
       "2          TMF009      7       1   true   MAT                    8.0   \n",
       "3          TMF004      6       1  false   MAT                    0.0   \n",
       "4          TMF014      5       1   true   MAT                    8.0   \n",
       "...           ...    ...     ...    ...   ...                    ...   \n",
       "282958     TMF014      5       1  false   VES                    0.0   \n",
       "282959     TMF011      4       1  false   VES                    0.0   \n",
       "282960     TMF015      3       1  false   VES                    0.0   \n",
       "282961     TMF002      2       1  false   VES                    0.0   \n",
       "282962     TMF005      1       1  false   VES                    0.0   \n",
       "\n",
       "        contagem_total_produzido data_registro    hora_registro  \n",
       "0                           10.0    2024-01-30  08:01:30.960000  \n",
       "1                           10.0    2024-01-30  08:01:29.956666  \n",
       "2                            6.0    2024-01-30  08:01:28.956666  \n",
       "3                            0.0    2024-01-30  08:01:27.956666  \n",
       "4                            8.0    2024-01-30  08:01:26.953333  \n",
       "...                          ...           ...              ...  \n",
       "282958                       0.0    2024-01-01  00:00:18.253333  \n",
       "282959                       0.0    2024-01-01  00:00:17.253333  \n",
       "282960                       0.0    2024-01-01  00:00:16.253333  \n",
       "282961                       0.0    2024-01-01  00:00:15.253333  \n",
       "282962                       0.0    2024-01-01  00:00:14.246666  \n",
       "\n",
       "[282963 rows x 9 columns]"
      ]
     },
     "execution_count": 7,
     "metadata": {},
     "output_type": "execute_result"
    }
   ],
   "source": [
    "df_info"
   ]
  },
  {
   "cell_type": "code",
   "execution_count": 8,
   "metadata": {},
   "outputs": [
    {
     "data": {
      "text/html": [
       "<div>\n",
       "<style scoped>\n",
       "    .dataframe tbody tr th:only-of-type {\n",
       "        vertical-align: middle;\n",
       "    }\n",
       "\n",
       "    .dataframe tbody tr th {\n",
       "        vertical-align: top;\n",
       "    }\n",
       "\n",
       "    .dataframe thead th {\n",
       "        text-align: right;\n",
       "    }\n",
       "</style>\n",
       "<table border=\"1\" class=\"dataframe\">\n",
       "  <thead>\n",
       "    <tr style=\"text-align: right;\">\n",
       "      <th></th>\n",
       "      <th>maquina_id</th>\n",
       "      <th>linha</th>\n",
       "      <th>turno</th>\n",
       "      <th>total_ciclos</th>\n",
       "      <th>total_produzido</th>\n",
       "      <th>data_registro</th>\n",
       "    </tr>\n",
       "  </thead>\n",
       "  <tbody>\n",
       "    <tr>\n",
       "      <th>0</th>\n",
       "      <td>TMF001</td>\n",
       "      <td>9</td>\n",
       "      <td>MAT</td>\n",
       "      <td>10.0</td>\n",
       "      <td>10.0</td>\n",
       "      <td>2024-01-30</td>\n",
       "    </tr>\n",
       "    <tr>\n",
       "      <th>1</th>\n",
       "      <td>TMF001</td>\n",
       "      <td>9</td>\n",
       "      <td>NOT</td>\n",
       "      <td>1918.0</td>\n",
       "      <td>1862.0</td>\n",
       "      <td>2024-01-30</td>\n",
       "    </tr>\n",
       "    <tr>\n",
       "      <th>2</th>\n",
       "      <td>TMF002</td>\n",
       "      <td>2</td>\n",
       "      <td>MAT</td>\n",
       "      <td>8.0</td>\n",
       "      <td>8.0</td>\n",
       "      <td>2024-01-30</td>\n",
       "    </tr>\n",
       "    <tr>\n",
       "      <th>3</th>\n",
       "      <td>TMF002</td>\n",
       "      <td>2</td>\n",
       "      <td>NOT</td>\n",
       "      <td>8462.0</td>\n",
       "      <td>8420.0</td>\n",
       "      <td>2024-01-30</td>\n",
       "    </tr>\n",
       "    <tr>\n",
       "      <th>4</th>\n",
       "      <td>TMF003</td>\n",
       "      <td>8</td>\n",
       "      <td>MAT</td>\n",
       "      <td>10.0</td>\n",
       "      <td>10.0</td>\n",
       "      <td>2024-01-30</td>\n",
       "    </tr>\n",
       "    <tr>\n",
       "      <th>...</th>\n",
       "      <td>...</td>\n",
       "      <td>...</td>\n",
       "      <td>...</td>\n",
       "      <td>...</td>\n",
       "      <td>...</td>\n",
       "      <td>...</td>\n",
       "    </tr>\n",
       "    <tr>\n",
       "      <th>1216</th>\n",
       "      <td>TMF014</td>\n",
       "      <td>5</td>\n",
       "      <td>NOT</td>\n",
       "      <td>0.0</td>\n",
       "      <td>0.0</td>\n",
       "      <td>2024-01-01</td>\n",
       "    </tr>\n",
       "    <tr>\n",
       "      <th>1217</th>\n",
       "      <td>TMF014</td>\n",
       "      <td>5</td>\n",
       "      <td>VES</td>\n",
       "      <td>0.0</td>\n",
       "      <td>0.0</td>\n",
       "      <td>2024-01-01</td>\n",
       "    </tr>\n",
       "    <tr>\n",
       "      <th>1218</th>\n",
       "      <td>TMF015</td>\n",
       "      <td>3</td>\n",
       "      <td>MAT</td>\n",
       "      <td>0.0</td>\n",
       "      <td>0.0</td>\n",
       "      <td>2024-01-01</td>\n",
       "    </tr>\n",
       "    <tr>\n",
       "      <th>1219</th>\n",
       "      <td>TMF015</td>\n",
       "      <td>3</td>\n",
       "      <td>NOT</td>\n",
       "      <td>0.0</td>\n",
       "      <td>0.0</td>\n",
       "      <td>2024-01-01</td>\n",
       "    </tr>\n",
       "    <tr>\n",
       "      <th>1220</th>\n",
       "      <td>TMF015</td>\n",
       "      <td>3</td>\n",
       "      <td>VES</td>\n",
       "      <td>0.0</td>\n",
       "      <td>0.0</td>\n",
       "      <td>2024-01-01</td>\n",
       "    </tr>\n",
       "  </tbody>\n",
       "</table>\n",
       "<p>1221 rows × 6 columns</p>\n",
       "</div>"
      ],
      "text/plain": [
       "     maquina_id  linha turno  total_ciclos  total_produzido data_registro\n",
       "0        TMF001      9   MAT          10.0             10.0    2024-01-30\n",
       "1        TMF001      9   NOT        1918.0           1862.0    2024-01-30\n",
       "2        TMF002      2   MAT           8.0              8.0    2024-01-30\n",
       "3        TMF002      2   NOT        8462.0           8420.0    2024-01-30\n",
       "4        TMF003      8   MAT          10.0             10.0    2024-01-30\n",
       "...         ...    ...   ...           ...              ...           ...\n",
       "1216     TMF014      5   NOT           0.0              0.0    2024-01-01\n",
       "1217     TMF014      5   VES           0.0              0.0    2024-01-01\n",
       "1218     TMF015      3   MAT           0.0              0.0    2024-01-01\n",
       "1219     TMF015      3   NOT           0.0              0.0    2024-01-01\n",
       "1220     TMF015      3   VES           0.0              0.0    2024-01-01\n",
       "\n",
       "[1221 rows x 6 columns]"
      ]
     },
     "execution_count": 8,
     "metadata": {},
     "output_type": "execute_result"
    }
   ],
   "source": [
    "df_info_production"
   ]
  },
  {
   "cell_type": "markdown",
   "metadata": {},
   "source": [
    "# Limpeza de dados e análise exploratória\n"
   ]
  },
  {
   "cell_type": "code",
   "execution_count": 9,
   "metadata": {},
   "outputs": [],
   "source": [
    "# service/clean_data.py\n",
    "\n",
    "\n",
    "# cSpell: disable=invalid-name\n",
    "class CleanData:\n",
    "    def maq_info(self, info: pd.DataFrame) -> pd.DataFrame:\n",
    "        \"\"\"\n",
    "        Processa as informações de uma máquina e retorna um DataFrame com os dados ajustados.\n",
    "\n",
    "        Args:\n",
    "            info (pd.DataFrame): DataFrame contendo as informações da máquina.\n",
    "\n",
    "        Returns:\n",
    "            pd.DataFrame: DataFrame com os dados ajustados da máquina.\n",
    "        \"\"\"\n",
    "\n",
    "        # Ordenar dataframe\n",
    "        df_info = info.sort_values(by=[\"maquina_id\", \"data_registro\", \"hora_registro\", \"turno\"])\n",
    "\n",
    "        # Criar coluna com data e hora unidos\n",
    "        df_info[\"data_hora_registro\"] = (\n",
    "            df_info[\"data_registro\"].astype(str)\n",
    "            + \" \"\n",
    "            + df_info[\"hora_registro\"].astype(str).str.split(\".\").str[0]\n",
    "        )\n",
    "\n",
    "        # Ajustar primeira entrada se for VES\n",
    "        mask = (df_info[\"turno\"] == \"VES\") & (\n",
    "            df_info[\"maquina_id\"] != df_info[\"maquina_id\"].shift()\n",
    "        )\n",
    "        df_info[\"turno\"] = np.where(mask, \"NOT\", df_info[\"turno\"])\n",
    "\n",
    "        # Ajustar data_hora para pd.datetime\n",
    "        df_info[\"data_hora_registro\"] = pd.to_datetime(df_info[\"data_hora_registro\"])\n",
    "\n",
    "        # Ajustar horário se turno for VES - ajusta para dia anterior e horário 23:59:59\n",
    "        mask = (\n",
    "            (df_info[\"turno\"] == \"VES\")\n",
    "            & (df_info[\"data_hora_registro\"] != df_info[\"data_hora_registro\"].shift())\n",
    "            & (df_info[\"data_hora_registro\"].dt.time > time(0, 0, 0))\n",
    "            & (df_info[\"data_hora_registro\"].dt.time < time(0, 5, 0))\n",
    "        )\n",
    "        df_info[\"data_hora_registro\"] = np.where(\n",
    "            mask,\n",
    "            (df_info[\"data_hora_registro\"] - pd.Timedelta(days=1)).dt.normalize()\n",
    "            + pd.Timedelta(hours=23, minutes=59, seconds=59),\n",
    "            df_info[\"data_hora_registro\"],\n",
    "        )\n",
    "\n",
    "        # Criar nova coluna status_change para identificar mudança de status\n",
    "        df_info[\"status_change\"] = df_info[\"status\"].ne(df_info[\"status\"].shift())\n",
    "\n",
    "        # Criar coluna para identificar a mudança de máquina\n",
    "        df_info[\"maquina_change\"] = df_info[\"maquina_id\"].ne(df_info[\"maquina_id\"].shift())\n",
    "\n",
    "        # Criar coluna para identificar a mudança de turno\n",
    "        df_info[\"turno_change\"] = df_info[\"turno\"].ne(df_info[\"turno\"].shift())\n",
    "\n",
    "        # Atualizar coluna change para incluir mudança de turno\n",
    "        df_info[\"change\"] = (\n",
    "            df_info[\"status_change\"] | df_info[\"maquina_change\"] | df_info[\"turno_change\"]\n",
    "        )\n",
    "\n",
    "        # Agrupar por maquina e identificar data e hora da última mudança de status\n",
    "        df_info[\"change_time\"] = (\n",
    "            df_info.groupby(\"maquina_id\")[\"data_hora_registro\"].shift(0).where(df_info[\"change\"])\n",
    "        )\n",
    "\n",
    "        # Feito para agrupar por maquina_id e turno e manter o ultimo registro de cada grupo\n",
    "        df_info = (\n",
    "            df_info.groupby([\"maquina_id\", \"change_time\"])\n",
    "            .agg(\n",
    "                status=(\"status\", \"first\"),\n",
    "                turno=(\"turno\", \"first\"),\n",
    "                linha=(\"linha\", \"first\"),\n",
    "                fabrica=(\"fabrica\", \"first\"),\n",
    "                data_hora_registro=(\"data_hora_registro\", \"first\"),\n",
    "                contagem_total_ciclos=(\"contagem_total_ciclos\", \"last\"),\n",
    "                contagem_total_produzido=(\n",
    "                    \"contagem_total_produzido\",\n",
    "                    \"last\",\n",
    "                ),\n",
    "                change=(\"change\", \"first\"),\n",
    "                maquina_change=(\"maquina_change\", \"first\"),\n",
    "            )\n",
    "            .reset_index()\n",
    "        )\n",
    "\n",
    "        # Criar nova coluna com a data_hora_final do status\n",
    "        df_info[\"data_hora_final\"] = (\n",
    "            df_info.groupby(\"maquina_id\")[\"data_hora_registro\"]\n",
    "            .shift(-1)\n",
    "            .where(~df_info[\"maquina_change\"])\n",
    "        )\n",
    "\n",
    "        # Atualizar coluna data_hora_final onde maquina_change é True\n",
    "        mask = df_info[\"maquina_change\"]\n",
    "        df_info[\"data_hora_final\"] = np.where(\n",
    "            mask, df_info[\"change_time\"].shift(-1), df_info[\"data_hora_final\"]\n",
    "        )\n",
    "\n",
    "        # Remover colunas desnecessárias\n",
    "        df_info.drop(\n",
    "            columns=[\n",
    "                \"maquina_change\",\n",
    "                \"change\",\n",
    "                \"change_time\",\n",
    "            ],\n",
    "            inplace=True,\n",
    "        )\n",
    "\n",
    "        # Remover linhas onde data_hora_final é nulo\n",
    "        df_info.dropna(subset=[\"data_hora_final\"], inplace=True)\n",
    "\n",
    "        # Cria nova coluna tempo_registro_min para calcular o tempo de registro em minutos\n",
    "        df_info[\"tempo_registro_min\"] = (\n",
    "            pd.to_datetime(df_info[\"data_hora_final\"])\n",
    "            - pd.to_datetime(df_info[\"data_hora_registro\"])\n",
    "        ).dt.total_seconds() / 60\n",
    "\n",
    "        # Arredondar tempo_registro_min e converter para inteiro\n",
    "        df_info[\"tempo_registro_min\"] = df_info[\"tempo_registro_min\"].round(0).astype(int)\n",
    "\n",
    "        # Ajustar tipos\n",
    "        df_info = df_info.astype(\n",
    "            {\n",
    "                \"maquina_id\": \"category\",\n",
    "                \"status\": \"category\",\n",
    "                \"turno\": \"category\",\n",
    "                \"linha\": \"category\",\n",
    "                \"fabrica\": \"category\",\n",
    "                \"tempo_registro_min\": int,\n",
    "                \"contagem_total_ciclos\": int,\n",
    "                \"contagem_total_produzido\": int,\n",
    "            }\n",
    "        )\n",
    "\n",
    "        # Ajustar nomenclatura dos status\n",
    "        df_info[\"status\"] = np.where(\n",
    "            (df_info[\"status\"] == \"true\") & (df_info[\"tempo_registro_min\"] < 10),\n",
    "            \"in_test\",\n",
    "            df_info[\"status\"],\n",
    "        )\n",
    "        df_info[\"status\"] = np.where(df_info[\"status\"] == \"true\", \"rodando\", df_info[\"status\"])\n",
    "        df_info[\"status\"] = np.where(df_info[\"status\"] == \"false\", \"parada\", df_info[\"status\"])\n",
    "\n",
    "        # Ajustar tipo do status\n",
    "        df_info[\"status\"] = df_info[\"status\"].astype(\"category\")\n",
    "\n",
    "        # Ajustar o index\n",
    "        df_info.reset_index(drop=True, inplace=True)\n",
    "\n",
    "        return df_info\n",
    "\n",
    "    def get_adjusted_stops_data(self, info: pd.DataFrame) -> pd.DataFrame:\n",
    "        \"\"\"\n",
    "        Retorna os dados de paradas ajustados de acordo com as regras definidas.\n",
    "\n",
    "        Args:\n",
    "            info (pd.DataFrame): O dataframe contendo os dados de paradas.\n",
    "\n",
    "        Returns:\n",
    "            pd.DataFrame: O dataframe com os dados de paradas ajustados.\n",
    "        \"\"\"\n",
    "        # Certificar que data_hora_registro e data_hora_final são do tipo datetime\n",
    "        info[\"data_hora_registro\"] = pd.to_datetime(info[\"data_hora_registro\"])\n",
    "        info[\"data_hora_final\"] = pd.to_datetime(info[\"data_hora_final\"])\n",
    "\n",
    "        # Ordenar por maquina_id e data_hora_registro\n",
    "        df_info = info.sort_values(by=[\"maquina_id\", \"data_hora_registro\"])\n",
    "\n",
    "        # Criar coluna auxiliar para identificar a maquina rodando\n",
    "        df_info[\"rodando\"] = np.where(df_info[\"status\"] == \"rodando\", 1, 0)\n",
    "\n",
    "        # Unir grupos de paradas, levando em conta mudança de maquina e turno\n",
    "        df_info[\"group\"] = (\n",
    "            (df_info[\"rodando\"] != df_info[\"rodando\"].shift())\n",
    "            | (df_info[\"maquina_id\"] != df_info[\"maquina_id\"].shift())\n",
    "            | (df_info[\"turno\"] != df_info[\"turno\"].shift())\n",
    "            | (\n",
    "                df_info[\"data_hora_registro\"].dt.date\n",
    "                != df_info[\"data_hora_registro\"].shift().dt.date\n",
    "            )\n",
    "        ).cumsum()\n",
    "\n",
    "        # Agrerar por grupo\n",
    "        df_info = (\n",
    "            df_info.groupby([\"group\"])\n",
    "            .agg(\n",
    "                maquina_id=(\"maquina_id\", \"first\"),\n",
    "                status=(\"status\", \"first\"),\n",
    "                turno=(\"turno\", \"first\"),\n",
    "                linha=(\"linha\", \"first\"),\n",
    "                fabrica=(\"fabrica\", \"first\"),\n",
    "                data_hora_registro=(\"data_hora_registro\", \"first\"),\n",
    "                data_hora_final=(\"data_hora_final\", \"last\"),\n",
    "                tempo_registro_min=(\"tempo_registro_min\", \"sum\"),\n",
    "                contagem_total_ciclos=(\"contagem_total_ciclos\", \"last\"),\n",
    "                contagem_total_produzido=(\"contagem_total_produzido\", \"last\"),\n",
    "            )\n",
    "            .reset_index(drop=True)\n",
    "        )\n",
    "\n",
    "        # Alterar in_test para parada\n",
    "        df_info[\"status\"] = np.where(df_info[\"status\"] == \"in_test\", \"parada\", df_info[\"status\"])\n",
    "\n",
    "        # Substituir valores nulos por np.nan\n",
    "        df_info.fillna(value=np.nan, inplace=True)\n",
    "\n",
    "        return df_info\n",
    "\n",
    "    def dayofweek_adjust(self, df: pd.DataFrame) -> pd.DataFrame:\n",
    "        \"\"\"\n",
    "        Incluir colunas para identificar sábados, domingos e feriados.\n",
    "\n",
    "        Args:\n",
    "            df (pd.DataFrame): DataFrame com os dados de paradas.\n",
    "\n",
    "        Returns:\n",
    "            pd.DataFrame: DataFrame com as colunas adicionadas.\n",
    "        \"\"\"\n",
    "\n",
    "        # Garantir que data_hora_registro é do tipo datetime\n",
    "        df[\"data_hora_registro\"] = pd.to_datetime(df[\"data_hora_registro\"])\n",
    "\n",
    "        # Identificar sábados\n",
    "        df[\"sabado\"] = np.where(df[\"data_hora_registro\"].dt.dayofweek == 5, 1, 0)\n",
    "\n",
    "        # Identificar domingos\n",
    "        df[\"domingo\"] = np.where(df[\"data_hora_registro\"].dt.dayofweek == 6, 1, 0)\n",
    "\n",
    "        # Ler arquivo com os feriados\n",
    "        holidays = pd.read_csv(\"../assets/feriados.csv\")\n",
    "\n",
    "        # Converter para datetime\n",
    "        holidays[\"feriados\"] = pd.to_datetime(holidays[\"feriados\"])\n",
    "\n",
    "        # Identificar feriados\n",
    "        df[\"feriado\"] = (\n",
    "            df[\"data_hora_registro\"]\n",
    "            .dt.date.isin(pd.to_datetime(holidays[\"feriados\"]).dt.date)\n",
    "            .astype(int)\n",
    "        )\n",
    "\n",
    "        return df\n",
    "\n",
    "    def get_maq_info_cleaned(self, df_info: pd.DataFrame) -> pd.DataFrame:\n",
    "        \"\"\"\n",
    "        Retorna os dados de paradas ajustados de acordo com as regras definidas.\n",
    "\n",
    "        Args:\n",
    "            df_info (pd.DataFrame): O dataframe contendo os dados de paradas.\n",
    "\n",
    "        Returns:\n",
    "            pd.DataFrame: O dataframe com os dados de paradas ajustados.\n",
    "        \"\"\"\n",
    "\n",
    "        # Ajustar dados de maquina_info\n",
    "        df_info = self.maq_info(df_info)\n",
    "\n",
    "        # Ajustar dados de paradas\n",
    "        df_info = self.get_adjusted_stops_data(df_info)\n",
    "\n",
    "        # Incluir colunas para identificar sábados, domingos e feriados\n",
    "        df_info = self.dayofweek_adjust(df_info)\n",
    "\n",
    "        return df_info\n",
    "\n",
    "    def get_maq_occ_cleaned(self, df_occ: pd.DataFrame) -> pd.DataFrame:\n",
    "        \"\"\"\n",
    "        Retorna os dados de ocorrências ajustados de acordo com as regras definidas.\n",
    "\n",
    "        Args:\n",
    "            df_occ (pd.DataFrame): O dataframe contendo os dados de ocorrências.\n",
    "\n",
    "        Returns:\n",
    "            pd.DataFrame: O dataframe com os dados de ocorrências ajustados.\n",
    "        \"\"\"\n",
    "\n",
    "        # Motivos de Parada\n",
    "        motivos = {\n",
    "            1: \"Ajustes\",\n",
    "            2: \"Troca de Bobina\",\n",
    "            3: \"Refeição\",\n",
    "            4: \"Reunião\",\n",
    "            5: \"Café e Ginástica Laboral\",\n",
    "            6: \"Limpeza\",\n",
    "            7: \"Manutenção Elétrica\",\n",
    "            8: \"Manutenção Mecânica\",\n",
    "            9: \"Material em Falta\",\n",
    "            10: \"Setup de Sabor\",\n",
    "            11: \"Setup de Tamanho\",\n",
    "            12: \"Parada Programada\",\n",
    "            13: \"Intervenção de Qualidade\",\n",
    "            14: \"Linha Cheia\",\n",
    "            15: \"Treinamento\",\n",
    "            16: \"Limpeza Industrial\",\n",
    "            17: \"Troca de Filme\",\n",
    "        }\n",
    "\n",
    "        # Ajustar coluna motivo_id para int\n",
    "        df_occ = df_occ.astype({\"motivo_id\": int})\n",
    "\n",
    "        # Unir data_registro e hora_registro\n",
    "        df_occ[\"data_hora_registro\"] = (\n",
    "            df_occ[\"data_registro\"].astype(str)\n",
    "            + \" \"\n",
    "            + df_occ[\"hora_registro\"].astype(str).str.split(\".\").str[0]\n",
    "        )\n",
    "\n",
    "        # Ajustar data_hora_registro para datetime\n",
    "        df_occ[\"data_hora_registro\"] = pd.to_datetime(df_occ[\"data_hora_registro\"])\n",
    "\n",
    "        # Criar coluna com motivo_nome com base no dicionário motivos\n",
    "        df_occ[\"motivo_nome\"] = df_occ[\"motivo_id\"].map(motivos)\n",
    "\n",
    "        # Ajustar \"problema\" e \"solucao\" se a string estiver vazia\n",
    "        df_occ[\"problema\"] = np.where(df_occ[\"problema\"] == \"\", np.nan, df_occ[\"problema\"])\n",
    "        df_occ[\"solucao\"] = np.where(df_occ[\"solucao\"] == \"\", np.nan, df_occ[\"solucao\"])\n",
    "\n",
    "        # Copiar motivo_nome para problema caso problema seja nulo e motivo_id não seja 1,7,8,9,14\n",
    "        df_occ[\"problema\"] = np.where(\n",
    "            (df_occ[\"problema\"].isnull())\n",
    "            & (\n",
    "                ~df_occ[\"motivo_id\"].isin(\n",
    "                    [\n",
    "                        1,\n",
    "                        7,\n",
    "                        8,\n",
    "                        9,\n",
    "                        14,\n",
    "                    ]\n",
    "                )\n",
    "            ),\n",
    "            df_occ[\"motivo_nome\"],\n",
    "            df_occ[\"problema\"],\n",
    "        )\n",
    "\n",
    "        # Ajustar ordem das colunas e seus tipos\n",
    "        df_occ = df_occ.reindex(\n",
    "            columns=[\n",
    "                \"maquina_id\",\n",
    "                \"motivo_id\",\n",
    "                \"motivo_nome\",\n",
    "                \"problema\",\n",
    "                \"solucao\",\n",
    "                \"data_hora_registro\",\n",
    "                \"usuario_id\",\n",
    "            ]\n",
    "        )\n",
    "        df_occ = df_occ.astype(\n",
    "            {\n",
    "                \"maquina_id\": \"category\",\n",
    "                \"motivo_id\": int,\n",
    "                \"motivo_nome\": \"category\",\n",
    "                \"problema\": str,\n",
    "                \"solucao\": \"category\",\n",
    "                \"data_hora_registro\": \"datetime64[ns]\",\n",
    "                \"usuario_id\": \"category\",\n",
    "            }\n",
    "        )\n",
    "\n",
    "        return df_occ\n",
    "\n",
    "    def get_maq_production_cleaned(self, df_production: pd.DataFrame) -> pd.DataFrame:\n",
    "        \"\"\"\n",
    "        Retorna os dados de produção ajustados de acordo com as regras definidas.\n",
    "\n",
    "        Args:\n",
    "            df_production (pd.DataFrame): O dataframe contendo os dados de produção.\n",
    "\n",
    "        Returns:\n",
    "            pd.DataFrame: O dataframe com os dados de produção ajustados.\n",
    "        \"\"\"\n",
    "\n",
    "        # Incluir coluna turno_number para ordenar os turnos\n",
    "        df_production[\"turno_number\"] = df_production[\"turno\"].map({\"MAT\": 2, \"VES\": 3, \"NOT\": 1})\n",
    "\n",
    "        # Ordenar por maquina_id, data_registro e turno_number\n",
    "        df_production.sort_values(by=[\"maquina_id\", \"data_registro\", \"turno_number\"], inplace=True)\n",
    "\n",
    "        # Remover coluna turno_number\n",
    "        df_production.drop(columns=[\"turno_number\"], inplace=True)\n",
    "\n",
    "        # Ajustar tipos\n",
    "        df_production = df_production.astype(\n",
    "            {\n",
    "                \"maquina_id\": \"category\",\n",
    "                \"linha\": \"category\",\n",
    "                \"turno\": \"category\",\n",
    "                \"total_ciclos\": int,\n",
    "                \"total_produzido\": int,\n",
    "                \"data_registro\": \"datetime64[ns]\",\n",
    "            }\n",
    "        )\n",
    "\n",
    "        # Ajustar o index\n",
    "        df_production.reset_index(drop=True, inplace=True)\n",
    "\n",
    "        return df_production\n",
    "\n",
    "\n",
    "clean_data = CleanData()"
   ]
  },
  {
   "cell_type": "code",
   "execution_count": 10,
   "metadata": {},
   "outputs": [
    {
     "data": {
      "text/html": [
       "<div>\n",
       "<style scoped>\n",
       "    .dataframe tbody tr th:only-of-type {\n",
       "        vertical-align: middle;\n",
       "    }\n",
       "\n",
       "    .dataframe tbody tr th {\n",
       "        vertical-align: top;\n",
       "    }\n",
       "\n",
       "    .dataframe thead th {\n",
       "        text-align: right;\n",
       "    }\n",
       "</style>\n",
       "<table border=\"1\" class=\"dataframe\">\n",
       "  <thead>\n",
       "    <tr style=\"text-align: right;\">\n",
       "      <th></th>\n",
       "      <th>maquina_id</th>\n",
       "      <th>status</th>\n",
       "      <th>turno</th>\n",
       "      <th>linha</th>\n",
       "      <th>fabrica</th>\n",
       "      <th>data_hora_registro</th>\n",
       "      <th>contagem_total_ciclos</th>\n",
       "      <th>contagem_total_produzido</th>\n",
       "      <th>data_hora_final</th>\n",
       "      <th>tempo_registro_min</th>\n",
       "    </tr>\n",
       "  </thead>\n",
       "  <tbody>\n",
       "    <tr>\n",
       "      <th>0</th>\n",
       "      <td>TMF001</td>\n",
       "      <td>parada</td>\n",
       "      <td>NOT</td>\n",
       "      <td>8</td>\n",
       "      <td>1</td>\n",
       "      <td>2024-01-01 00:00:21</td>\n",
       "      <td>0</td>\n",
       "      <td>0</td>\n",
       "      <td>2024-01-01 08:02:22</td>\n",
       "      <td>482</td>\n",
       "    </tr>\n",
       "    <tr>\n",
       "      <th>1</th>\n",
       "      <td>TMF001</td>\n",
       "      <td>parada</td>\n",
       "      <td>MAT</td>\n",
       "      <td>8</td>\n",
       "      <td>1</td>\n",
       "      <td>2024-01-01 08:02:22</td>\n",
       "      <td>0</td>\n",
       "      <td>0</td>\n",
       "      <td>2024-01-01 16:02:24</td>\n",
       "      <td>480</td>\n",
       "    </tr>\n",
       "    <tr>\n",
       "      <th>2</th>\n",
       "      <td>TMF001</td>\n",
       "      <td>parada</td>\n",
       "      <td>VES</td>\n",
       "      <td>8</td>\n",
       "      <td>1</td>\n",
       "      <td>2024-01-01 16:02:24</td>\n",
       "      <td>0</td>\n",
       "      <td>0</td>\n",
       "      <td>2024-01-02 00:02:25</td>\n",
       "      <td>480</td>\n",
       "    </tr>\n",
       "    <tr>\n",
       "      <th>3</th>\n",
       "      <td>TMF001</td>\n",
       "      <td>parada</td>\n",
       "      <td>NOT</td>\n",
       "      <td>8</td>\n",
       "      <td>1</td>\n",
       "      <td>2024-01-02 00:02:25</td>\n",
       "      <td>0</td>\n",
       "      <td>0</td>\n",
       "      <td>2024-01-02 08:02:27</td>\n",
       "      <td>480</td>\n",
       "    </tr>\n",
       "    <tr>\n",
       "      <th>4</th>\n",
       "      <td>TMF001</td>\n",
       "      <td>parada</td>\n",
       "      <td>MAT</td>\n",
       "      <td>8</td>\n",
       "      <td>1</td>\n",
       "      <td>2024-01-02 08:02:27</td>\n",
       "      <td>0</td>\n",
       "      <td>0</td>\n",
       "      <td>2024-01-02 16:02:28</td>\n",
       "      <td>480</td>\n",
       "    </tr>\n",
       "    <tr>\n",
       "      <th>...</th>\n",
       "      <td>...</td>\n",
       "      <td>...</td>\n",
       "      <td>...</td>\n",
       "      <td>...</td>\n",
       "      <td>...</td>\n",
       "      <td>...</td>\n",
       "      <td>...</td>\n",
       "      <td>...</td>\n",
       "      <td>...</td>\n",
       "      <td>...</td>\n",
       "    </tr>\n",
       "    <tr>\n",
       "      <th>11336</th>\n",
       "      <td>TMF015</td>\n",
       "      <td>rodando</td>\n",
       "      <td>VES</td>\n",
       "      <td>3</td>\n",
       "      <td>1</td>\n",
       "      <td>2024-01-29 23:31:23</td>\n",
       "      <td>5010</td>\n",
       "      <td>5002</td>\n",
       "      <td>2024-01-29 23:59:23</td>\n",
       "      <td>28</td>\n",
       "    </tr>\n",
       "    <tr>\n",
       "      <th>11337</th>\n",
       "      <td>TMF015</td>\n",
       "      <td>parada</td>\n",
       "      <td>VES</td>\n",
       "      <td>3</td>\n",
       "      <td>1</td>\n",
       "      <td>2024-01-29 23:59:23</td>\n",
       "      <td>5360</td>\n",
       "      <td>5352</td>\n",
       "      <td>2024-01-30 00:01:23</td>\n",
       "      <td>2</td>\n",
       "    </tr>\n",
       "    <tr>\n",
       "      <th>11338</th>\n",
       "      <td>TMF015</td>\n",
       "      <td>rodando</td>\n",
       "      <td>NOT</td>\n",
       "      <td>3</td>\n",
       "      <td>1</td>\n",
       "      <td>2024-01-30 00:01:23</td>\n",
       "      <td>8</td>\n",
       "      <td>8</td>\n",
       "      <td>2024-01-30 04:01:24</td>\n",
       "      <td>240</td>\n",
       "    </tr>\n",
       "    <tr>\n",
       "      <th>11339</th>\n",
       "      <td>TMF015</td>\n",
       "      <td>parada</td>\n",
       "      <td>NOT</td>\n",
       "      <td>3</td>\n",
       "      <td>1</td>\n",
       "      <td>2024-01-30 04:01:24</td>\n",
       "      <td>5310</td>\n",
       "      <td>5310</td>\n",
       "      <td>2024-01-30 05:03:24</td>\n",
       "      <td>62</td>\n",
       "    </tr>\n",
       "    <tr>\n",
       "      <th>11340</th>\n",
       "      <td>TMF015</td>\n",
       "      <td>rodando</td>\n",
       "      <td>NOT</td>\n",
       "      <td>3</td>\n",
       "      <td>1</td>\n",
       "      <td>2024-01-30 05:03:24</td>\n",
       "      <td>5342</td>\n",
       "      <td>5342</td>\n",
       "      <td>2024-01-30 08:01:24</td>\n",
       "      <td>178</td>\n",
       "    </tr>\n",
       "  </tbody>\n",
       "</table>\n",
       "<p>11341 rows × 10 columns</p>\n",
       "</div>"
      ],
      "text/plain": [
       "      maquina_id   status turno linha fabrica  data_hora_registro  \\\n",
       "0         TMF001   parada   NOT     8       1 2024-01-01 00:00:21   \n",
       "1         TMF001   parada   MAT     8       1 2024-01-01 08:02:22   \n",
       "2         TMF001   parada   VES     8       1 2024-01-01 16:02:24   \n",
       "3         TMF001   parada   NOT     8       1 2024-01-02 00:02:25   \n",
       "4         TMF001   parada   MAT     8       1 2024-01-02 08:02:27   \n",
       "...          ...      ...   ...   ...     ...                 ...   \n",
       "11336     TMF015  rodando   VES     3       1 2024-01-29 23:31:23   \n",
       "11337     TMF015   parada   VES     3       1 2024-01-29 23:59:23   \n",
       "11338     TMF015  rodando   NOT     3       1 2024-01-30 00:01:23   \n",
       "11339     TMF015   parada   NOT     3       1 2024-01-30 04:01:24   \n",
       "11340     TMF015  rodando   NOT     3       1 2024-01-30 05:03:24   \n",
       "\n",
       "       contagem_total_ciclos  contagem_total_produzido     data_hora_final  \\\n",
       "0                          0                         0 2024-01-01 08:02:22   \n",
       "1                          0                         0 2024-01-01 16:02:24   \n",
       "2                          0                         0 2024-01-02 00:02:25   \n",
       "3                          0                         0 2024-01-02 08:02:27   \n",
       "4                          0                         0 2024-01-02 16:02:28   \n",
       "...                      ...                       ...                 ...   \n",
       "11336                   5010                      5002 2024-01-29 23:59:23   \n",
       "11337                   5360                      5352 2024-01-30 00:01:23   \n",
       "11338                      8                         8 2024-01-30 04:01:24   \n",
       "11339                   5310                      5310 2024-01-30 05:03:24   \n",
       "11340                   5342                      5342 2024-01-30 08:01:24   \n",
       "\n",
       "       tempo_registro_min  \n",
       "0                     482  \n",
       "1                     480  \n",
       "2                     480  \n",
       "3                     480  \n",
       "4                     480  \n",
       "...                   ...  \n",
       "11336                  28  \n",
       "11337                   2  \n",
       "11338                 240  \n",
       "11339                  62  \n",
       "11340                 178  \n",
       "\n",
       "[11341 rows x 10 columns]"
      ]
     },
     "execution_count": 10,
     "metadata": {},
     "output_type": "execute_result"
    }
   ],
   "source": [
    "df_info_clean = clean_data.maq_info(df_info.copy())\n",
    "df_info_clean"
   ]
  },
  {
   "cell_type": "code",
   "execution_count": 11,
   "metadata": {},
   "outputs": [
    {
     "data": {
      "text/html": [
       "<div>\n",
       "<style scoped>\n",
       "    .dataframe tbody tr th:only-of-type {\n",
       "        vertical-align: middle;\n",
       "    }\n",
       "\n",
       "    .dataframe tbody tr th {\n",
       "        vertical-align: top;\n",
       "    }\n",
       "\n",
       "    .dataframe thead th {\n",
       "        text-align: right;\n",
       "    }\n",
       "</style>\n",
       "<table border=\"1\" class=\"dataframe\">\n",
       "  <thead>\n",
       "    <tr style=\"text-align: right;\">\n",
       "      <th></th>\n",
       "      <th>maquina_id</th>\n",
       "      <th>status</th>\n",
       "      <th>turno</th>\n",
       "      <th>linha</th>\n",
       "      <th>fabrica</th>\n",
       "      <th>data_hora_registro</th>\n",
       "      <th>data_hora_final</th>\n",
       "      <th>tempo_registro_min</th>\n",
       "      <th>contagem_total_ciclos</th>\n",
       "      <th>contagem_total_produzido</th>\n",
       "    </tr>\n",
       "  </thead>\n",
       "  <tbody>\n",
       "    <tr>\n",
       "      <th>0</th>\n",
       "      <td>TMF001</td>\n",
       "      <td>parada</td>\n",
       "      <td>NOT</td>\n",
       "      <td>8</td>\n",
       "      <td>1</td>\n",
       "      <td>2024-01-01 00:00:21</td>\n",
       "      <td>2024-01-01 08:02:22</td>\n",
       "      <td>482</td>\n",
       "      <td>0</td>\n",
       "      <td>0</td>\n",
       "    </tr>\n",
       "    <tr>\n",
       "      <th>1</th>\n",
       "      <td>TMF001</td>\n",
       "      <td>parada</td>\n",
       "      <td>MAT</td>\n",
       "      <td>8</td>\n",
       "      <td>1</td>\n",
       "      <td>2024-01-01 08:02:22</td>\n",
       "      <td>2024-01-01 16:02:24</td>\n",
       "      <td>480</td>\n",
       "      <td>0</td>\n",
       "      <td>0</td>\n",
       "    </tr>\n",
       "    <tr>\n",
       "      <th>2</th>\n",
       "      <td>TMF001</td>\n",
       "      <td>parada</td>\n",
       "      <td>VES</td>\n",
       "      <td>8</td>\n",
       "      <td>1</td>\n",
       "      <td>2024-01-01 16:02:24</td>\n",
       "      <td>2024-01-02 00:02:25</td>\n",
       "      <td>480</td>\n",
       "      <td>0</td>\n",
       "      <td>0</td>\n",
       "    </tr>\n",
       "    <tr>\n",
       "      <th>3</th>\n",
       "      <td>TMF001</td>\n",
       "      <td>parada</td>\n",
       "      <td>NOT</td>\n",
       "      <td>8</td>\n",
       "      <td>1</td>\n",
       "      <td>2024-01-02 00:02:25</td>\n",
       "      <td>2024-01-02 08:02:27</td>\n",
       "      <td>480</td>\n",
       "      <td>0</td>\n",
       "      <td>0</td>\n",
       "    </tr>\n",
       "    <tr>\n",
       "      <th>4</th>\n",
       "      <td>TMF001</td>\n",
       "      <td>parada</td>\n",
       "      <td>MAT</td>\n",
       "      <td>8</td>\n",
       "      <td>1</td>\n",
       "      <td>2024-01-02 08:02:27</td>\n",
       "      <td>2024-01-02 16:02:28</td>\n",
       "      <td>480</td>\n",
       "      <td>0</td>\n",
       "      <td>0</td>\n",
       "    </tr>\n",
       "    <tr>\n",
       "      <th>...</th>\n",
       "      <td>...</td>\n",
       "      <td>...</td>\n",
       "      <td>...</td>\n",
       "      <td>...</td>\n",
       "      <td>...</td>\n",
       "      <td>...</td>\n",
       "      <td>...</td>\n",
       "      <td>...</td>\n",
       "      <td>...</td>\n",
       "      <td>...</td>\n",
       "    </tr>\n",
       "    <tr>\n",
       "      <th>7915</th>\n",
       "      <td>TMF015</td>\n",
       "      <td>rodando</td>\n",
       "      <td>VES</td>\n",
       "      <td>3</td>\n",
       "      <td>1</td>\n",
       "      <td>2024-01-29 23:31:23</td>\n",
       "      <td>2024-01-29 23:59:23</td>\n",
       "      <td>28</td>\n",
       "      <td>5010</td>\n",
       "      <td>5002</td>\n",
       "    </tr>\n",
       "    <tr>\n",
       "      <th>7916</th>\n",
       "      <td>TMF015</td>\n",
       "      <td>parada</td>\n",
       "      <td>VES</td>\n",
       "      <td>3</td>\n",
       "      <td>1</td>\n",
       "      <td>2024-01-29 23:59:23</td>\n",
       "      <td>2024-01-30 00:01:23</td>\n",
       "      <td>2</td>\n",
       "      <td>5360</td>\n",
       "      <td>5352</td>\n",
       "    </tr>\n",
       "    <tr>\n",
       "      <th>7917</th>\n",
       "      <td>TMF015</td>\n",
       "      <td>rodando</td>\n",
       "      <td>NOT</td>\n",
       "      <td>3</td>\n",
       "      <td>1</td>\n",
       "      <td>2024-01-30 00:01:23</td>\n",
       "      <td>2024-01-30 04:01:24</td>\n",
       "      <td>240</td>\n",
       "      <td>8</td>\n",
       "      <td>8</td>\n",
       "    </tr>\n",
       "    <tr>\n",
       "      <th>7918</th>\n",
       "      <td>TMF015</td>\n",
       "      <td>parada</td>\n",
       "      <td>NOT</td>\n",
       "      <td>3</td>\n",
       "      <td>1</td>\n",
       "      <td>2024-01-30 04:01:24</td>\n",
       "      <td>2024-01-30 05:03:24</td>\n",
       "      <td>62</td>\n",
       "      <td>5310</td>\n",
       "      <td>5310</td>\n",
       "    </tr>\n",
       "    <tr>\n",
       "      <th>7919</th>\n",
       "      <td>TMF015</td>\n",
       "      <td>rodando</td>\n",
       "      <td>NOT</td>\n",
       "      <td>3</td>\n",
       "      <td>1</td>\n",
       "      <td>2024-01-30 05:03:24</td>\n",
       "      <td>2024-01-30 08:01:24</td>\n",
       "      <td>178</td>\n",
       "      <td>5342</td>\n",
       "      <td>5342</td>\n",
       "    </tr>\n",
       "  </tbody>\n",
       "</table>\n",
       "<p>7920 rows × 10 columns</p>\n",
       "</div>"
      ],
      "text/plain": [
       "     maquina_id   status turno linha fabrica  data_hora_registro  \\\n",
       "0        TMF001   parada   NOT     8       1 2024-01-01 00:00:21   \n",
       "1        TMF001   parada   MAT     8       1 2024-01-01 08:02:22   \n",
       "2        TMF001   parada   VES     8       1 2024-01-01 16:02:24   \n",
       "3        TMF001   parada   NOT     8       1 2024-01-02 00:02:25   \n",
       "4        TMF001   parada   MAT     8       1 2024-01-02 08:02:27   \n",
       "...         ...      ...   ...   ...     ...                 ...   \n",
       "7915     TMF015  rodando   VES     3       1 2024-01-29 23:31:23   \n",
       "7916     TMF015   parada   VES     3       1 2024-01-29 23:59:23   \n",
       "7917     TMF015  rodando   NOT     3       1 2024-01-30 00:01:23   \n",
       "7918     TMF015   parada   NOT     3       1 2024-01-30 04:01:24   \n",
       "7919     TMF015  rodando   NOT     3       1 2024-01-30 05:03:24   \n",
       "\n",
       "         data_hora_final  tempo_registro_min  contagem_total_ciclos  \\\n",
       "0    2024-01-01 08:02:22                 482                      0   \n",
       "1    2024-01-01 16:02:24                 480                      0   \n",
       "2    2024-01-02 00:02:25                 480                      0   \n",
       "3    2024-01-02 08:02:27                 480                      0   \n",
       "4    2024-01-02 16:02:28                 480                      0   \n",
       "...                  ...                 ...                    ...   \n",
       "7915 2024-01-29 23:59:23                  28                   5010   \n",
       "7916 2024-01-30 00:01:23                   2                   5360   \n",
       "7917 2024-01-30 04:01:24                 240                      8   \n",
       "7918 2024-01-30 05:03:24                  62                   5310   \n",
       "7919 2024-01-30 08:01:24                 178                   5342   \n",
       "\n",
       "      contagem_total_produzido  \n",
       "0                            0  \n",
       "1                            0  \n",
       "2                            0  \n",
       "3                            0  \n",
       "4                            0  \n",
       "...                        ...  \n",
       "7915                      5002  \n",
       "7916                      5352  \n",
       "7917                         8  \n",
       "7918                      5310  \n",
       "7919                      5342  \n",
       "\n",
       "[7920 rows x 10 columns]"
      ]
     },
     "execution_count": 11,
     "metadata": {},
     "output_type": "execute_result"
    }
   ],
   "source": [
    "df_info_stops = clean_data.get_adjusted_stops_data(df_info_clean.copy())\n",
    "df_info_stops"
   ]
  },
  {
   "cell_type": "code",
   "execution_count": 12,
   "metadata": {},
   "outputs": [
    {
     "data": {
      "text/html": [
       "<div>\n",
       "<style scoped>\n",
       "    .dataframe tbody tr th:only-of-type {\n",
       "        vertical-align: middle;\n",
       "    }\n",
       "\n",
       "    .dataframe tbody tr th {\n",
       "        vertical-align: top;\n",
       "    }\n",
       "\n",
       "    .dataframe thead th {\n",
       "        text-align: right;\n",
       "    }\n",
       "</style>\n",
       "<table border=\"1\" class=\"dataframe\">\n",
       "  <thead>\n",
       "    <tr style=\"text-align: right;\">\n",
       "      <th></th>\n",
       "      <th>maquina_id</th>\n",
       "      <th>status</th>\n",
       "      <th>turno</th>\n",
       "      <th>linha</th>\n",
       "      <th>fabrica</th>\n",
       "      <th>data_hora_registro</th>\n",
       "      <th>data_hora_final</th>\n",
       "      <th>tempo_registro_min</th>\n",
       "      <th>contagem_total_ciclos</th>\n",
       "      <th>contagem_total_produzido</th>\n",
       "      <th>sabado</th>\n",
       "      <th>domingo</th>\n",
       "      <th>feriado</th>\n",
       "    </tr>\n",
       "  </thead>\n",
       "  <tbody>\n",
       "    <tr>\n",
       "      <th>0</th>\n",
       "      <td>TMF001</td>\n",
       "      <td>parada</td>\n",
       "      <td>NOT</td>\n",
       "      <td>8</td>\n",
       "      <td>1</td>\n",
       "      <td>2024-01-01 00:00:21</td>\n",
       "      <td>2024-01-01 08:02:22</td>\n",
       "      <td>482</td>\n",
       "      <td>0</td>\n",
       "      <td>0</td>\n",
       "      <td>0</td>\n",
       "      <td>0</td>\n",
       "      <td>1</td>\n",
       "    </tr>\n",
       "    <tr>\n",
       "      <th>1</th>\n",
       "      <td>TMF001</td>\n",
       "      <td>parada</td>\n",
       "      <td>MAT</td>\n",
       "      <td>8</td>\n",
       "      <td>1</td>\n",
       "      <td>2024-01-01 08:02:22</td>\n",
       "      <td>2024-01-01 16:02:24</td>\n",
       "      <td>480</td>\n",
       "      <td>0</td>\n",
       "      <td>0</td>\n",
       "      <td>0</td>\n",
       "      <td>0</td>\n",
       "      <td>1</td>\n",
       "    </tr>\n",
       "    <tr>\n",
       "      <th>2</th>\n",
       "      <td>TMF001</td>\n",
       "      <td>parada</td>\n",
       "      <td>VES</td>\n",
       "      <td>8</td>\n",
       "      <td>1</td>\n",
       "      <td>2024-01-01 16:02:24</td>\n",
       "      <td>2024-01-02 00:02:25</td>\n",
       "      <td>480</td>\n",
       "      <td>0</td>\n",
       "      <td>0</td>\n",
       "      <td>0</td>\n",
       "      <td>0</td>\n",
       "      <td>1</td>\n",
       "    </tr>\n",
       "    <tr>\n",
       "      <th>3</th>\n",
       "      <td>TMF001</td>\n",
       "      <td>parada</td>\n",
       "      <td>NOT</td>\n",
       "      <td>8</td>\n",
       "      <td>1</td>\n",
       "      <td>2024-01-02 00:02:25</td>\n",
       "      <td>2024-01-02 08:02:27</td>\n",
       "      <td>480</td>\n",
       "      <td>0</td>\n",
       "      <td>0</td>\n",
       "      <td>0</td>\n",
       "      <td>0</td>\n",
       "      <td>0</td>\n",
       "    </tr>\n",
       "    <tr>\n",
       "      <th>4</th>\n",
       "      <td>TMF001</td>\n",
       "      <td>parada</td>\n",
       "      <td>MAT</td>\n",
       "      <td>8</td>\n",
       "      <td>1</td>\n",
       "      <td>2024-01-02 08:02:27</td>\n",
       "      <td>2024-01-02 16:02:28</td>\n",
       "      <td>480</td>\n",
       "      <td>0</td>\n",
       "      <td>0</td>\n",
       "      <td>0</td>\n",
       "      <td>0</td>\n",
       "      <td>0</td>\n",
       "    </tr>\n",
       "    <tr>\n",
       "      <th>...</th>\n",
       "      <td>...</td>\n",
       "      <td>...</td>\n",
       "      <td>...</td>\n",
       "      <td>...</td>\n",
       "      <td>...</td>\n",
       "      <td>...</td>\n",
       "      <td>...</td>\n",
       "      <td>...</td>\n",
       "      <td>...</td>\n",
       "      <td>...</td>\n",
       "      <td>...</td>\n",
       "      <td>...</td>\n",
       "      <td>...</td>\n",
       "    </tr>\n",
       "    <tr>\n",
       "      <th>7915</th>\n",
       "      <td>TMF015</td>\n",
       "      <td>rodando</td>\n",
       "      <td>VES</td>\n",
       "      <td>3</td>\n",
       "      <td>1</td>\n",
       "      <td>2024-01-29 23:31:23</td>\n",
       "      <td>2024-01-29 23:59:23</td>\n",
       "      <td>28</td>\n",
       "      <td>5010</td>\n",
       "      <td>5002</td>\n",
       "      <td>0</td>\n",
       "      <td>0</td>\n",
       "      <td>0</td>\n",
       "    </tr>\n",
       "    <tr>\n",
       "      <th>7916</th>\n",
       "      <td>TMF015</td>\n",
       "      <td>parada</td>\n",
       "      <td>VES</td>\n",
       "      <td>3</td>\n",
       "      <td>1</td>\n",
       "      <td>2024-01-29 23:59:23</td>\n",
       "      <td>2024-01-30 00:01:23</td>\n",
       "      <td>2</td>\n",
       "      <td>5360</td>\n",
       "      <td>5352</td>\n",
       "      <td>0</td>\n",
       "      <td>0</td>\n",
       "      <td>0</td>\n",
       "    </tr>\n",
       "    <tr>\n",
       "      <th>7917</th>\n",
       "      <td>TMF015</td>\n",
       "      <td>rodando</td>\n",
       "      <td>NOT</td>\n",
       "      <td>3</td>\n",
       "      <td>1</td>\n",
       "      <td>2024-01-30 00:01:23</td>\n",
       "      <td>2024-01-30 04:01:24</td>\n",
       "      <td>240</td>\n",
       "      <td>8</td>\n",
       "      <td>8</td>\n",
       "      <td>0</td>\n",
       "      <td>0</td>\n",
       "      <td>0</td>\n",
       "    </tr>\n",
       "    <tr>\n",
       "      <th>7918</th>\n",
       "      <td>TMF015</td>\n",
       "      <td>parada</td>\n",
       "      <td>NOT</td>\n",
       "      <td>3</td>\n",
       "      <td>1</td>\n",
       "      <td>2024-01-30 04:01:24</td>\n",
       "      <td>2024-01-30 05:03:24</td>\n",
       "      <td>62</td>\n",
       "      <td>5310</td>\n",
       "      <td>5310</td>\n",
       "      <td>0</td>\n",
       "      <td>0</td>\n",
       "      <td>0</td>\n",
       "    </tr>\n",
       "    <tr>\n",
       "      <th>7919</th>\n",
       "      <td>TMF015</td>\n",
       "      <td>rodando</td>\n",
       "      <td>NOT</td>\n",
       "      <td>3</td>\n",
       "      <td>1</td>\n",
       "      <td>2024-01-30 05:03:24</td>\n",
       "      <td>2024-01-30 08:01:24</td>\n",
       "      <td>178</td>\n",
       "      <td>5342</td>\n",
       "      <td>5342</td>\n",
       "      <td>0</td>\n",
       "      <td>0</td>\n",
       "      <td>0</td>\n",
       "    </tr>\n",
       "  </tbody>\n",
       "</table>\n",
       "<p>7920 rows × 13 columns</p>\n",
       "</div>"
      ],
      "text/plain": [
       "     maquina_id   status turno linha fabrica  data_hora_registro  \\\n",
       "0        TMF001   parada   NOT     8       1 2024-01-01 00:00:21   \n",
       "1        TMF001   parada   MAT     8       1 2024-01-01 08:02:22   \n",
       "2        TMF001   parada   VES     8       1 2024-01-01 16:02:24   \n",
       "3        TMF001   parada   NOT     8       1 2024-01-02 00:02:25   \n",
       "4        TMF001   parada   MAT     8       1 2024-01-02 08:02:27   \n",
       "...         ...      ...   ...   ...     ...                 ...   \n",
       "7915     TMF015  rodando   VES     3       1 2024-01-29 23:31:23   \n",
       "7916     TMF015   parada   VES     3       1 2024-01-29 23:59:23   \n",
       "7917     TMF015  rodando   NOT     3       1 2024-01-30 00:01:23   \n",
       "7918     TMF015   parada   NOT     3       1 2024-01-30 04:01:24   \n",
       "7919     TMF015  rodando   NOT     3       1 2024-01-30 05:03:24   \n",
       "\n",
       "         data_hora_final  tempo_registro_min  contagem_total_ciclos  \\\n",
       "0    2024-01-01 08:02:22                 482                      0   \n",
       "1    2024-01-01 16:02:24                 480                      0   \n",
       "2    2024-01-02 00:02:25                 480                      0   \n",
       "3    2024-01-02 08:02:27                 480                      0   \n",
       "4    2024-01-02 16:02:28                 480                      0   \n",
       "...                  ...                 ...                    ...   \n",
       "7915 2024-01-29 23:59:23                  28                   5010   \n",
       "7916 2024-01-30 00:01:23                   2                   5360   \n",
       "7917 2024-01-30 04:01:24                 240                      8   \n",
       "7918 2024-01-30 05:03:24                  62                   5310   \n",
       "7919 2024-01-30 08:01:24                 178                   5342   \n",
       "\n",
       "      contagem_total_produzido  sabado  domingo  feriado  \n",
       "0                            0       0        0        1  \n",
       "1                            0       0        0        1  \n",
       "2                            0       0        0        1  \n",
       "3                            0       0        0        0  \n",
       "4                            0       0        0        0  \n",
       "...                        ...     ...      ...      ...  \n",
       "7915                      5002       0        0        0  \n",
       "7916                      5352       0        0        0  \n",
       "7917                         8       0        0        0  \n",
       "7918                      5310       0        0        0  \n",
       "7919                      5342       0        0        0  \n",
       "\n",
       "[7920 rows x 13 columns]"
      ]
     },
     "execution_count": 12,
     "metadata": {},
     "output_type": "execute_result"
    }
   ],
   "source": [
    "df_info_cleaned = clean_data.get_maq_info_cleaned(df_info.copy())\n",
    "df_info_cleaned"
   ]
  },
  {
   "cell_type": "code",
   "execution_count": 13,
   "metadata": {},
   "outputs": [
    {
     "data": {
      "text/html": [
       "<div>\n",
       "<style scoped>\n",
       "    .dataframe tbody tr th:only-of-type {\n",
       "        vertical-align: middle;\n",
       "    }\n",
       "\n",
       "    .dataframe tbody tr th {\n",
       "        vertical-align: top;\n",
       "    }\n",
       "\n",
       "    .dataframe thead th {\n",
       "        text-align: right;\n",
       "    }\n",
       "</style>\n",
       "<table border=\"1\" class=\"dataframe\">\n",
       "  <thead>\n",
       "    <tr style=\"text-align: right;\">\n",
       "      <th></th>\n",
       "      <th>maquina_id</th>\n",
       "      <th>motivo_id</th>\n",
       "      <th>motivo_nome</th>\n",
       "      <th>problema</th>\n",
       "      <th>solucao</th>\n",
       "      <th>data_hora_registro</th>\n",
       "      <th>usuario_id</th>\n",
       "    </tr>\n",
       "  </thead>\n",
       "  <tbody>\n",
       "    <tr>\n",
       "      <th>0</th>\n",
       "      <td>TMF006</td>\n",
       "      <td>12</td>\n",
       "      <td>Parada Programada</td>\n",
       "      <td>Parada Programada</td>\n",
       "      <td>NaN</td>\n",
       "      <td>2024-01-02 01:16:52</td>\n",
       "      <td>000453</td>\n",
       "    </tr>\n",
       "    <tr>\n",
       "      <th>1</th>\n",
       "      <td>TMF013</td>\n",
       "      <td>8</td>\n",
       "      <td>Manutenção Mecânica</td>\n",
       "      <td>nan</td>\n",
       "      <td>NaN</td>\n",
       "      <td>2024-01-02 01:17:04</td>\n",
       "      <td>000453</td>\n",
       "    </tr>\n",
       "    <tr>\n",
       "      <th>2</th>\n",
       "      <td>TMF010</td>\n",
       "      <td>8</td>\n",
       "      <td>Manutenção Mecânica</td>\n",
       "      <td>nan</td>\n",
       "      <td>NaN</td>\n",
       "      <td>2024-01-02 01:17:20</td>\n",
       "      <td>000453</td>\n",
       "    </tr>\n",
       "    <tr>\n",
       "      <th>3</th>\n",
       "      <td>TMF010</td>\n",
       "      <td>12</td>\n",
       "      <td>Parada Programada</td>\n",
       "      <td>Parada Programada</td>\n",
       "      <td>NaN</td>\n",
       "      <td>2024-01-02 01:18:45</td>\n",
       "      <td>000453</td>\n",
       "    </tr>\n",
       "    <tr>\n",
       "      <th>4</th>\n",
       "      <td>TMF006</td>\n",
       "      <td>12</td>\n",
       "      <td>Parada Programada</td>\n",
       "      <td>Parada Programada</td>\n",
       "      <td>NaN</td>\n",
       "      <td>2024-01-03 08:14:58</td>\n",
       "      <td>000807</td>\n",
       "    </tr>\n",
       "    <tr>\n",
       "      <th>...</th>\n",
       "      <td>...</td>\n",
       "      <td>...</td>\n",
       "      <td>...</td>\n",
       "      <td>...</td>\n",
       "      <td>...</td>\n",
       "      <td>...</td>\n",
       "      <td>...</td>\n",
       "    </tr>\n",
       "    <tr>\n",
       "      <th>669</th>\n",
       "      <td>TMF012</td>\n",
       "      <td>11</td>\n",
       "      <td>Setup de Tamanho</td>\n",
       "      <td>Setup para bolinha 300g</td>\n",
       "      <td>NaN</td>\n",
       "      <td>2024-01-29 19:29:05</td>\n",
       "      <td>000939</td>\n",
       "    </tr>\n",
       "    <tr>\n",
       "      <th>670</th>\n",
       "      <td>TMF007</td>\n",
       "      <td>12</td>\n",
       "      <td>Parada Programada</td>\n",
       "      <td>Parada Programada</td>\n",
       "      <td>NaN</td>\n",
       "      <td>2024-01-30 04:28:04</td>\n",
       "      <td>000453</td>\n",
       "    </tr>\n",
       "    <tr>\n",
       "      <th>671</th>\n",
       "      <td>TMF010</td>\n",
       "      <td>12</td>\n",
       "      <td>Parada Programada</td>\n",
       "      <td>Parada Programada</td>\n",
       "      <td>NaN</td>\n",
       "      <td>2024-01-30 04:28:23</td>\n",
       "      <td>000453</td>\n",
       "    </tr>\n",
       "    <tr>\n",
       "      <th>672</th>\n",
       "      <td>TMF008</td>\n",
       "      <td>3</td>\n",
       "      <td>Refeição</td>\n",
       "      <td>Refeição</td>\n",
       "      <td>NaN</td>\n",
       "      <td>2024-01-30 04:28:48</td>\n",
       "      <td>000453</td>\n",
       "    </tr>\n",
       "    <tr>\n",
       "      <th>673</th>\n",
       "      <td>TMF012</td>\n",
       "      <td>3</td>\n",
       "      <td>Refeição</td>\n",
       "      <td>Refeição</td>\n",
       "      <td>NaN</td>\n",
       "      <td>2024-01-30 04:29:39</td>\n",
       "      <td>000453</td>\n",
       "    </tr>\n",
       "  </tbody>\n",
       "</table>\n",
       "<p>674 rows × 7 columns</p>\n",
       "</div>"
      ],
      "text/plain": [
       "    maquina_id  motivo_id          motivo_nome                 problema  \\\n",
       "0       TMF006         12    Parada Programada        Parada Programada   \n",
       "1       TMF013          8  Manutenção Mecânica                      nan   \n",
       "2       TMF010          8  Manutenção Mecânica                      nan   \n",
       "3       TMF010         12    Parada Programada        Parada Programada   \n",
       "4       TMF006         12    Parada Programada        Parada Programada   \n",
       "..         ...        ...                  ...                      ...   \n",
       "669     TMF012         11     Setup de Tamanho  Setup para bolinha 300g   \n",
       "670     TMF007         12    Parada Programada        Parada Programada   \n",
       "671     TMF010         12    Parada Programada        Parada Programada   \n",
       "672     TMF008          3             Refeição                 Refeição   \n",
       "673     TMF012          3             Refeição                 Refeição   \n",
       "\n",
       "    solucao  data_hora_registro usuario_id  \n",
       "0       NaN 2024-01-02 01:16:52     000453  \n",
       "1       NaN 2024-01-02 01:17:04     000453  \n",
       "2       NaN 2024-01-02 01:17:20     000453  \n",
       "3       NaN 2024-01-02 01:18:45     000453  \n",
       "4       NaN 2024-01-03 08:14:58     000807  \n",
       "..      ...                 ...        ...  \n",
       "669     NaN 2024-01-29 19:29:05     000939  \n",
       "670     NaN 2024-01-30 04:28:04     000453  \n",
       "671     NaN 2024-01-30 04:28:23     000453  \n",
       "672     NaN 2024-01-30 04:28:48     000453  \n",
       "673     NaN 2024-01-30 04:29:39     000453  \n",
       "\n",
       "[674 rows x 7 columns]"
      ]
     },
     "execution_count": 13,
     "metadata": {},
     "output_type": "execute_result"
    }
   ],
   "source": [
    "df_maq_occ_cleaned = clean_data.get_maq_occ_cleaned(df_occ.copy())\n",
    "df_maq_occ_cleaned"
   ]
  },
  {
   "cell_type": "code",
   "execution_count": 14,
   "metadata": {},
   "outputs": [
    {
     "data": {
      "text/html": [
       "<div>\n",
       "<style scoped>\n",
       "    .dataframe tbody tr th:only-of-type {\n",
       "        vertical-align: middle;\n",
       "    }\n",
       "\n",
       "    .dataframe tbody tr th {\n",
       "        vertical-align: top;\n",
       "    }\n",
       "\n",
       "    .dataframe thead th {\n",
       "        text-align: right;\n",
       "    }\n",
       "</style>\n",
       "<table border=\"1\" class=\"dataframe\">\n",
       "  <thead>\n",
       "    <tr style=\"text-align: right;\">\n",
       "      <th></th>\n",
       "      <th>maquina_id</th>\n",
       "      <th>linha</th>\n",
       "      <th>turno</th>\n",
       "      <th>total_ciclos</th>\n",
       "      <th>total_produzido</th>\n",
       "      <th>data_registro</th>\n",
       "    </tr>\n",
       "  </thead>\n",
       "  <tbody>\n",
       "    <tr>\n",
       "      <th>0</th>\n",
       "      <td>TMF001</td>\n",
       "      <td>8</td>\n",
       "      <td>NOT</td>\n",
       "      <td>0</td>\n",
       "      <td>0</td>\n",
       "      <td>2024-01-01</td>\n",
       "    </tr>\n",
       "    <tr>\n",
       "      <th>1</th>\n",
       "      <td>TMF001</td>\n",
       "      <td>8</td>\n",
       "      <td>MAT</td>\n",
       "      <td>0</td>\n",
       "      <td>0</td>\n",
       "      <td>2024-01-01</td>\n",
       "    </tr>\n",
       "    <tr>\n",
       "      <th>2</th>\n",
       "      <td>TMF001</td>\n",
       "      <td>8</td>\n",
       "      <td>VES</td>\n",
       "      <td>0</td>\n",
       "      <td>0</td>\n",
       "      <td>2024-01-01</td>\n",
       "    </tr>\n",
       "    <tr>\n",
       "      <th>3</th>\n",
       "      <td>TMF001</td>\n",
       "      <td>8</td>\n",
       "      <td>NOT</td>\n",
       "      <td>0</td>\n",
       "      <td>0</td>\n",
       "      <td>2024-01-02</td>\n",
       "    </tr>\n",
       "    <tr>\n",
       "      <th>4</th>\n",
       "      <td>TMF001</td>\n",
       "      <td>8</td>\n",
       "      <td>MAT</td>\n",
       "      <td>0</td>\n",
       "      <td>0</td>\n",
       "      <td>2024-01-02</td>\n",
       "    </tr>\n",
       "    <tr>\n",
       "      <th>...</th>\n",
       "      <td>...</td>\n",
       "      <td>...</td>\n",
       "      <td>...</td>\n",
       "      <td>...</td>\n",
       "      <td>...</td>\n",
       "      <td>...</td>\n",
       "    </tr>\n",
       "    <tr>\n",
       "      <th>1216</th>\n",
       "      <td>TMF015</td>\n",
       "      <td>3</td>\n",
       "      <td>NOT</td>\n",
       "      <td>52</td>\n",
       "      <td>52</td>\n",
       "      <td>2024-01-29</td>\n",
       "    </tr>\n",
       "    <tr>\n",
       "      <th>1217</th>\n",
       "      <td>TMF015</td>\n",
       "      <td>3</td>\n",
       "      <td>MAT</td>\n",
       "      <td>3082</td>\n",
       "      <td>3082</td>\n",
       "      <td>2024-01-29</td>\n",
       "    </tr>\n",
       "    <tr>\n",
       "      <th>1218</th>\n",
       "      <td>TMF015</td>\n",
       "      <td>3</td>\n",
       "      <td>VES</td>\n",
       "      <td>5360</td>\n",
       "      <td>5352</td>\n",
       "      <td>2024-01-29</td>\n",
       "    </tr>\n",
       "    <tr>\n",
       "      <th>1219</th>\n",
       "      <td>TMF015</td>\n",
       "      <td>3</td>\n",
       "      <td>NOT</td>\n",
       "      <td>9240</td>\n",
       "      <td>9240</td>\n",
       "      <td>2024-01-30</td>\n",
       "    </tr>\n",
       "    <tr>\n",
       "      <th>1220</th>\n",
       "      <td>TMF015</td>\n",
       "      <td>3</td>\n",
       "      <td>MAT</td>\n",
       "      <td>10</td>\n",
       "      <td>10</td>\n",
       "      <td>2024-01-30</td>\n",
       "    </tr>\n",
       "  </tbody>\n",
       "</table>\n",
       "<p>1221 rows × 6 columns</p>\n",
       "</div>"
      ],
      "text/plain": [
       "     maquina_id linha turno  total_ciclos  total_produzido data_registro\n",
       "0        TMF001     8   NOT             0                0    2024-01-01\n",
       "1        TMF001     8   MAT             0                0    2024-01-01\n",
       "2        TMF001     8   VES             0                0    2024-01-01\n",
       "3        TMF001     8   NOT             0                0    2024-01-02\n",
       "4        TMF001     8   MAT             0                0    2024-01-02\n",
       "...         ...   ...   ...           ...              ...           ...\n",
       "1216     TMF015     3   NOT            52               52    2024-01-29\n",
       "1217     TMF015     3   MAT          3082             3082    2024-01-29\n",
       "1218     TMF015     3   VES          5360             5352    2024-01-29\n",
       "1219     TMF015     3   NOT          9240             9240    2024-01-30\n",
       "1220     TMF015     3   MAT            10               10    2024-01-30\n",
       "\n",
       "[1221 rows x 6 columns]"
      ]
     },
     "execution_count": 14,
     "metadata": {},
     "output_type": "execute_result"
    }
   ],
   "source": [
    "df_maq_info_production_cleaned = clean_data.get_maq_production_cleaned(df_info_production.copy())\n",
    "df_maq_info_production_cleaned"
   ]
  },
  {
   "cell_type": "markdown",
   "metadata": {},
   "source": [
    "# Unir info e ocorrências\n"
   ]
  },
  {
   "cell_type": "code",
   "execution_count": 19,
   "metadata": {},
   "outputs": [],
   "source": [
    "# service/join_data.py\n",
    "# cSpell: disable=invalid-name\n",
    "\n",
    "\n",
    "class JoinData:\n",
    "    \"\"\"\n",
    "    Essa classe é responsável por juntar os dados de ocorrências, paradas e produção.\n",
    "    \"\"\"\n",
    "\n",
    "    def join_info_occ(self, df_occ: pd.DataFrame, df_info: pd.DataFrame) -> pd.DataFrame:\n",
    "        \"\"\"\n",
    "        Junta os dados de ocorrências e paradas.\n",
    "\n",
    "        Args:\n",
    "            df_occ (pd.DataFrame): DataFrame com os dados de ocorrências.\n",
    "            df_info (pd.DataFrame): DataFrame com os dados de paradas.\n",
    "\n",
    "        Returns:\n",
    "            pd.DataFrame: DataFrame com os dados de ocorrências e paradas juntos.\n",
    "        \"\"\"\n",
    "\n",
    "        # Garantir que as culunas com datas sejam datetime\n",
    "        df_occ[\"data_hora_registro\"] = pd.to_datetime(df_occ[\"data_hora_registro\"])\n",
    "        df_info[\"data_hora_registro\"] = pd.to_datetime(df_info[\"data_hora_registro\"])\n",
    "        df_info[\"data_hora_final\"] = pd.to_datetime(df_info[\"data_hora_final\"])\n",
    "\n",
    "        # Juntar os dados de ocorrências e paradas\n",
    "        def merge_rows(row):\n",
    "            \"\"\"\n",
    "            Função para juntar os dados de ocorrências e paradas.\n",
    "            \"\"\"\n",
    "            mask = (\n",
    "                (df_occ[\"maquina_id\"] == row[\"maquina_id\"])\n",
    "                & (df_occ[\"data_hora_registro\"] >= row[\"data_hora_registro\"])\n",
    "                & (df_occ[\"data_hora_registro\"] <= row[\"data_hora_final\"])\n",
    "            )  # mask para identificar as paradas que ocorreram durante a ocorrência\n",
    "\n",
    "            # Criar dataframe com as paradas que ocorreram durante a ocorrência\n",
    "            if df_occ[mask].shape[0] > 0:\n",
    "                return pd.Series(\n",
    "                    [\n",
    "                        df_occ[mask][\"motivo_id\"].values[0],\n",
    "                        df_occ[mask][\"motivo_nome\"].values[0],\n",
    "                        df_occ[mask][\"problema\"].values[0],\n",
    "                        df_occ[mask][\"solucao\"].values[0],\n",
    "                        df_occ[mask][\"data_hora_registro\"].values[0],\n",
    "                        df_occ[mask][\"usuario_id\"].values[0],\n",
    "                    ],\n",
    "                )\n",
    "            else:\n",
    "                return pd.Series([np.nan, np.nan, np.nan, np.nan, np.nan, np.nan])\n",
    "\n",
    "        # Aplicar a função merge_rows\n",
    "        df_info[\n",
    "            [\n",
    "                \"motivo_id\",\n",
    "                \"motivo_nome\",\n",
    "                \"problema\",\n",
    "                \"solucao\",\n",
    "                \"data_hora_registro_occ\",\n",
    "                \"usuario_id_occ\",\n",
    "            ]\n",
    "        ] = df_info.apply(merge_rows, axis=1)\n",
    "\n",
    "        # Reordenar colunas\n",
    "        df_info = df_info.reindex(\n",
    "            columns=[\n",
    "                \"maquina_id\",\n",
    "                \"linha\",\n",
    "                \"fabrica\",\n",
    "                \"turno\",\n",
    "                \"data_hora_registro\",\n",
    "                \"tempo_registro_min\",\n",
    "                \"data_hora_final\",\n",
    "                \"status\",\n",
    "                \"motivo_id\",\n",
    "                \"data_hora_registro_occ\",\n",
    "                \"motivo_nome\",\n",
    "                \"problema\",\n",
    "                \"solucao\",\n",
    "                \"usuario_id_occ\",\n",
    "                \"contagem_total_ciclos\",\n",
    "                \"contagem_total_produzido\",\n",
    "                \"sabado\",\n",
    "                \"domingo\",\n",
    "                \"feriado\",\n",
    "            ]\n",
    "        )\n",
    "\n",
    "        # Ajustar problema e solução caso seja \"nan\"\n",
    "        df_info[\"problema\"] = np.where(df_info[\"problema\"] == \"nan\", np.nan, df_info[\"problema\"])\n",
    "        df_info[\"solucao\"] = np.where(df_info[\"solucao\"] == \"nan\", np.nan, df_info[\"solucao\"])\n",
    "\n",
    "        # Remove a linha com tempo_registro_min negativo ou 0\n",
    "        df_info = df_info[df_info[\"tempo_registro_min\"] > 0]\n",
    "\n",
    "        def move_columns(df: pd.DataFrame) -> pd.DataFrame:\n",
    "            # Adiciona uma verificação para garantir que 'data_hora_registro_occ', 'data_hora_registro' e 'data_hora_final' não sejam NaN\n",
    "            mask = (\n",
    "                df[[\"data_hora_registro_occ\", \"data_hora_registro\", \"data_hora_final\"]]\n",
    "                .notna()\n",
    "                .all(axis=1)\n",
    "            )\n",
    "\n",
    "            df[\"data_hora_registro_occ\"] = df[\"data_hora_registro_occ\"].replace(np.nan, pd.NaT)\n",
    "            df = df.astype({\"data_hora_registro_occ\": \"datetime64[ns]\"})\n",
    "\n",
    "            # Calcula a diferença absoluta entre data_hora_registro_occ e data_hora_registro e data_hora_final\n",
    "            df[\"diff_registro\"] = np.where(\n",
    "                mask,\n",
    "                (df[\"data_hora_registro_occ\"] - df[\"data_hora_registro\"]).dt.total_seconds().abs(),\n",
    "                np.nan,\n",
    "            )\n",
    "            df[\"diff_final\"] = np.where(\n",
    "                mask,\n",
    "                (df[\"data_hora_registro_occ\"] - df[\"data_hora_final\"]).dt.total_seconds().abs(),\n",
    "                np.nan,\n",
    "            )\n",
    "\n",
    "            # Encontra qual das duas diferenças é menor\n",
    "            mask_idxmin = df[[\"diff_registro\", \"diff_final\"]].notna().any(axis=1)\n",
    "            df.loc[mask & mask_idxmin, \"closest\"] = df.loc[\n",
    "                mask & mask_idxmin, [\"diff_registro\", \"diff_final\"]\n",
    "            ].idxmin(\n",
    "                axis=1\n",
    "            )  # removendo erro:\n",
    "            # FutureWarning: The behavior of DataFrame.idxmin with all-NA values,\n",
    "            # or any-NA and skipna=False, is deprecated.\n",
    "            # In a future version this will raise ValueError\n",
    "\n",
    "            columns = [\n",
    "                \"motivo_id\",\n",
    "                \"motivo_nome\",\n",
    "                \"problema\",\n",
    "                \"solucao\",\n",
    "                \"data_hora_registro_occ\",\n",
    "                \"usuario_id_occ\",\n",
    "            ]\n",
    "\n",
    "            # Move a ocorrência para a linha anterior se a data_hora_registro for mais próxima\n",
    "            mask = (\n",
    "                (df[\"closest\"].shift(-1) == \"diff_registro\")\n",
    "                & (df[\"status\"].shift(-1) == \"rodando\")\n",
    "                & df[\"motivo_id\"].isnull()\n",
    "            )\n",
    "            for column in columns:\n",
    "                df[column] = np.where(mask, df[column].shift(-1), df[column])\n",
    "                df[column] = np.where(mask.shift(1), pd.NaT, df[column])\n",
    "\n",
    "            # Move a ocorrência para a linha seguinte se a data_hora_final for mais próxima\n",
    "            mask = (\n",
    "                (df[\"closest\"].shift(1) == \"diff_final\")\n",
    "                & (df[\"status\"].shift(1) == \"rodando\")\n",
    "                & df[\"motivo_id\"].isnull()\n",
    "            )\n",
    "            for column in columns:\n",
    "                df[column] = np.where(mask, df[column].shift(1), df[column])\n",
    "                df[column] = np.where(mask.shift(-1), pd.NaT, df[column])\n",
    "\n",
    "            return df\n",
    "\n",
    "        df_info = move_columns(df_info)\n",
    "\n",
    "        # Remove colunas desnecessárias\n",
    "        df_info.drop(\n",
    "            columns=[\n",
    "                \"diff_registro\",\n",
    "                \"diff_final\",\n",
    "                \"closest\",\n",
    "            ],\n",
    "            inplace=True,\n",
    "        )\n",
    "\n",
    "        # Ajustar motivo id\n",
    "        df_info[\"motivo_id\"] = df_info[\"motivo_id\"].fillna(np.nan).round(0).astype(float)\n",
    "\n",
    "        # Ajustar em problema, solucao, usuario_id_occ e motivo_nome\n",
    "        df_info[\"problema\"] = df_info[\"problema\"].fillna(\"\")\n",
    "        df_info[\"solucao\"] = df_info[\"solucao\"].fillna(\"\")\n",
    "        df_info[\"usuario_id_occ\"] = np.where(\n",
    "            df_info[\"usuario_id_occ\"] == pd.NaT, np.nan, df_info[\"usuario_id_occ\"]\n",
    "        )\n",
    "        df_info[\"motivo_nome\"] = np.where(\n",
    "            df_info[\"motivo_nome\"] == pd.NaT, np.nan, df_info[\"motivo_nome\"]\n",
    "        )\n",
    "        # Mudar de np.nan para pd.NaT em data_hora_registro_occ\n",
    "        df_info[\"data_hora_registro_occ\"] = np.where(\n",
    "            df_info[\"data_hora_registro_occ\"].isnull(), pd.NaT, df_info[\"data_hora_registro_occ\"]\n",
    "        )\n",
    "\n",
    "        # Corrigir os formatos das colunas\n",
    "        df_info = df_info.astype(\n",
    "            {\n",
    "                \"data_hora_registro_occ\": \"datetime64[ns]\",\n",
    "                \"motivo_nome\": \"category\",\n",
    "                \"problema\": str,\n",
    "                \"solucao\": str,\n",
    "                \"usuario_id_occ\": \"category\",\n",
    "            }\n",
    "        )\n",
    "\n",
    "        # Ajustar problema para Domingo, Sábado e Feriado se motivo_id for 12\n",
    "        df_info[\"problema\"] = np.where(\n",
    "            (df_info[\"motivo_id\"] == 12) & (df_info[\"domingo\"] == 1),\n",
    "            \"Domingo\",\n",
    "            df_info[\"problema\"],\n",
    "        )\n",
    "        df_info[\"problema\"] = np.where(\n",
    "            (df_info[\"motivo_id\"] == 12) & (df_info[\"sabado\"] == 1),\n",
    "            \"Sábado\",\n",
    "            df_info[\"problema\"],\n",
    "        )\n",
    "        df_info[\"problema\"] = np.where(\n",
    "            (df_info[\"motivo_id\"] == 12) & (df_info[\"feriado\"] == 1),\n",
    "            \"Feriado\",\n",
    "            df_info[\"problema\"],\n",
    "        )\n",
    "\n",
    "        # Se o motivo_id for nulo, status for parada e o tempo registro for maior que 475 e for sábado, domingo ou feriado, então o problema é \"Domingo\", \"Sábado\" ou \"Feriado\" e o motivo id é 12 e o motivo nome é \"Parada Programada\"\n",
    "        condition = (\n",
    "            (df_info[\"motivo_id\"].isnull())\n",
    "            & (df_info[\"status\"] == \"parada\")\n",
    "            & (df_info[\"tempo_registro_min\"] > 475)\n",
    "        )\n",
    "        condition_sabado = condition & (df_info[\"sabado\"] == 1)\n",
    "        df_info[\"motivo_id\"] = np.where(condition_sabado, 12, df_info[\"motivo_id\"])\n",
    "        df_info[\"motivo_nome\"] = np.where(\n",
    "            condition_sabado, \"Parada Programada\", df_info[\"motivo_nome\"]\n",
    "        )\n",
    "        df_info[\"problema\"] = np.where(condition_sabado, \"Sábado\", df_info[\"problema\"])\n",
    "\n",
    "        condition_domingo = condition & (df_info[\"domingo\"] == 1)\n",
    "        df_info[\"motivo_id\"] = np.where(condition_domingo, 12, df_info[\"motivo_id\"])\n",
    "        df_info[\"motivo_nome\"] = np.where(\n",
    "            condition_domingo, \"Parada Programada\", df_info[\"motivo_nome\"]\n",
    "        )\n",
    "        df_info[\"problema\"] = np.where(condition_domingo, \"Domingo\", df_info[\"problema\"])\n",
    "\n",
    "        condition_feriado = condition & (df_info[\"feriado\"] == 1)\n",
    "        df_info[\"motivo_id\"] = np.where(condition_feriado, 12, df_info[\"motivo_id\"])\n",
    "        df_info[\"motivo_nome\"] = np.where(\n",
    "            condition_feriado, \"Parada Programada\", df_info[\"motivo_nome\"]\n",
    "        )\n",
    "        df_info[\"problema\"] = np.where(condition_feriado, \"Feriado\", df_info[\"problema\"])\n",
    "\n",
    "        # Cria a máscara para as linhas que atendem às condições\n",
    "        mask = (df_info[\"tempo_registro_min\"] > 475) & df_info[\"motivo_id\"].isnull()\n",
    "\n",
    "        # Cria colunas temporárias com os valores preenchidos\n",
    "        df_info[\"motivo_id_filled\"] = df_info[\"motivo_id\"].ffill()\n",
    "        df_info[\"motivo_nome_filled\"] = df_info[\"motivo_nome\"].ffill()\n",
    "        df_info[\"problema_filled\"] = df_info[\"problema\"].ffill()\n",
    "        df_info[\"solucao_filled\"] = df_info[\"solucao\"].ffill()\n",
    "\n",
    "        # Aplica a máscara e substitui os valores nas colunas originais\n",
    "        df_info.loc[mask, \"motivo_id\"] = df_info.loc[mask, \"motivo_id_filled\"]\n",
    "        df_info.loc[mask, \"motivo_nome\"] = df_info.loc[mask, \"motivo_nome_filled\"]\n",
    "        df_info.loc[mask, \"problema\"] = df_info.loc[mask, \"problema_filled\"]\n",
    "        df_info.loc[mask, \"solucao\"] = df_info.loc[mask, \"solucao_filled\"]\n",
    "\n",
    "        # Remove as colunas temporárias\n",
    "        df_info = df_info.drop(\n",
    "            columns=[\"motivo_id_filled\", \"motivo_nome_filled\", \"problema_filled\", \"solucao_filled\"]\n",
    "        )\n",
    "\n",
    "        # Se o tempo de registro for maior que 480 mudar para 480\n",
    "        df_info[\"tempo_registro_min\"] = np.where(\n",
    "            df_info[\"tempo_registro_min\"] > 480, 480, df_info[\"tempo_registro_min\"]\n",
    "        )\n",
    "\n",
    "        # Remover as linhas onde a linha é 0\n",
    "        df_info = df_info[df_info[\"linha\"] != 0]\n",
    "\n",
    "        # Remover as linhas onde status é rodando\n",
    "        df_info = df_info[df_info[\"status\"] != \"rodando\"]\n",
    "\n",
    "        # Ajustar o index\n",
    "        df_info.reset_index(drop=True, inplace=True)\n",
    "\n",
    "        return df_info\n",
    "\n",
    "    def problems_adjust(self, df: pd.DataFrame, threshold=88) -> pd.DataFrame:\n",
    "        \"\"\"\n",
    "        Ajusta os problemas no DataFrame fornecido, mapeando problemas semelhantes para um nome comum.\n",
    "\n",
    "        Args:\n",
    "            df (pd.DataFrame): O DataFrame contendo os problemas a serem ajustados.\n",
    "            threshold (int, opcional): O limite de similaridade para combinar problemas. Por padrão é 88.\n",
    "\n",
    "        Returns:\n",
    "            pd.DataFrame: O DataFrame com problemas ajustados.\n",
    "        \"\"\"\n",
    "        # Encontrar problemas únicos\n",
    "        unique_problems = df[\"problema\"].unique()\n",
    "        problem_mapping = {}\n",
    "\n",
    "        # Criar um dicionário para mapear os problemas\n",
    "        for problem in unique_problems:\n",
    "            if problem and problem not in problem_mapping:\n",
    "                problem = str(problem).capitalize()\n",
    "\n",
    "                # Corrigir erros básicos de digitação\n",
    "                problem = problem.replace(\"Beckup\", \"Backup\")\n",
    "                problem = problem.replace(\"Becukp\", \"Backup\")\n",
    "                problem = problem.replace(\"Stm\", \"Atm\")\n",
    "\n",
    "                matches = process.extract(problem, unique_problems, limit=len(unique_problems))\n",
    "\n",
    "                # Encontrar os problemas com maior similaridade\n",
    "                similar_problems = [match[0] for match in matches if match[1] >= threshold]\n",
    "\n",
    "                # Criar um dicionário com os problemas similares\n",
    "                for similar_problem in similar_problems:\n",
    "                    problem_mapping[similar_problem] = problem\n",
    "\n",
    "        # Mapear os problemas\n",
    "        df[\"problema\"] = df[\"problema\"].map(problem_mapping)\n",
    "\n",
    "        return df\n",
    "\n",
    "\n",
    "join_data = JoinData()"
   ]
  },
  {
   "cell_type": "code",
   "execution_count": 20,
   "metadata": {},
   "outputs": [
    {
     "data": {
      "text/html": [
       "<div>\n",
       "<style scoped>\n",
       "    .dataframe tbody tr th:only-of-type {\n",
       "        vertical-align: middle;\n",
       "    }\n",
       "\n",
       "    .dataframe tbody tr th {\n",
       "        vertical-align: top;\n",
       "    }\n",
       "\n",
       "    .dataframe thead th {\n",
       "        text-align: right;\n",
       "    }\n",
       "</style>\n",
       "<table border=\"1\" class=\"dataframe\">\n",
       "  <thead>\n",
       "    <tr style=\"text-align: right;\">\n",
       "      <th></th>\n",
       "      <th>maquina_id</th>\n",
       "      <th>linha</th>\n",
       "      <th>fabrica</th>\n",
       "      <th>turno</th>\n",
       "      <th>data_hora_registro</th>\n",
       "      <th>tempo_registro_min</th>\n",
       "      <th>data_hora_final</th>\n",
       "      <th>status</th>\n",
       "      <th>motivo_id</th>\n",
       "      <th>data_hora_registro_occ</th>\n",
       "      <th>motivo_nome</th>\n",
       "      <th>problema</th>\n",
       "      <th>solucao</th>\n",
       "      <th>usuario_id_occ</th>\n",
       "      <th>contagem_total_ciclos</th>\n",
       "      <th>contagem_total_produzido</th>\n",
       "      <th>sabado</th>\n",
       "      <th>domingo</th>\n",
       "      <th>feriado</th>\n",
       "    </tr>\n",
       "  </thead>\n",
       "  <tbody>\n",
       "    <tr>\n",
       "      <th>0</th>\n",
       "      <td>TMF001</td>\n",
       "      <td>8</td>\n",
       "      <td>1</td>\n",
       "      <td>NOT</td>\n",
       "      <td>2024-01-01 00:00:21</td>\n",
       "      <td>480</td>\n",
       "      <td>2024-01-01 08:02:22</td>\n",
       "      <td>parada</td>\n",
       "      <td>12.0</td>\n",
       "      <td>NaT</td>\n",
       "      <td>Parada Programada</td>\n",
       "      <td>Feriado</td>\n",
       "      <td>NaT</td>\n",
       "      <td>NaN</td>\n",
       "      <td>0</td>\n",
       "      <td>0</td>\n",
       "      <td>0</td>\n",
       "      <td>0</td>\n",
       "      <td>1</td>\n",
       "    </tr>\n",
       "    <tr>\n",
       "      <th>1</th>\n",
       "      <td>TMF001</td>\n",
       "      <td>8</td>\n",
       "      <td>1</td>\n",
       "      <td>MAT</td>\n",
       "      <td>2024-01-01 08:02:22</td>\n",
       "      <td>480</td>\n",
       "      <td>2024-01-01 16:02:24</td>\n",
       "      <td>parada</td>\n",
       "      <td>12.0</td>\n",
       "      <td>NaT</td>\n",
       "      <td>Parada Programada</td>\n",
       "      <td>Feriado</td>\n",
       "      <td>NaT</td>\n",
       "      <td>NaN</td>\n",
       "      <td>0</td>\n",
       "      <td>0</td>\n",
       "      <td>0</td>\n",
       "      <td>0</td>\n",
       "      <td>1</td>\n",
       "    </tr>\n",
       "    <tr>\n",
       "      <th>2</th>\n",
       "      <td>TMF001</td>\n",
       "      <td>8</td>\n",
       "      <td>1</td>\n",
       "      <td>VES</td>\n",
       "      <td>2024-01-01 16:02:24</td>\n",
       "      <td>480</td>\n",
       "      <td>2024-01-02 00:02:25</td>\n",
       "      <td>parada</td>\n",
       "      <td>12.0</td>\n",
       "      <td>NaT</td>\n",
       "      <td>Parada Programada</td>\n",
       "      <td>Feriado</td>\n",
       "      <td>NaT</td>\n",
       "      <td>NaN</td>\n",
       "      <td>0</td>\n",
       "      <td>0</td>\n",
       "      <td>0</td>\n",
       "      <td>0</td>\n",
       "      <td>1</td>\n",
       "    </tr>\n",
       "    <tr>\n",
       "      <th>3</th>\n",
       "      <td>TMF001</td>\n",
       "      <td>8</td>\n",
       "      <td>1</td>\n",
       "      <td>NOT</td>\n",
       "      <td>2024-01-02 00:02:25</td>\n",
       "      <td>480</td>\n",
       "      <td>2024-01-02 08:02:27</td>\n",
       "      <td>parada</td>\n",
       "      <td>12.0</td>\n",
       "      <td>NaT</td>\n",
       "      <td>Parada Programada</td>\n",
       "      <td>NaN</td>\n",
       "      <td>NaT</td>\n",
       "      <td>NaN</td>\n",
       "      <td>0</td>\n",
       "      <td>0</td>\n",
       "      <td>0</td>\n",
       "      <td>0</td>\n",
       "      <td>0</td>\n",
       "    </tr>\n",
       "    <tr>\n",
       "      <th>4</th>\n",
       "      <td>TMF001</td>\n",
       "      <td>8</td>\n",
       "      <td>1</td>\n",
       "      <td>MAT</td>\n",
       "      <td>2024-01-02 08:02:27</td>\n",
       "      <td>480</td>\n",
       "      <td>2024-01-02 16:02:28</td>\n",
       "      <td>parada</td>\n",
       "      <td>12.0</td>\n",
       "      <td>NaT</td>\n",
       "      <td>Parada Programada</td>\n",
       "      <td>NaN</td>\n",
       "      <td>NaT</td>\n",
       "      <td>NaN</td>\n",
       "      <td>0</td>\n",
       "      <td>0</td>\n",
       "      <td>0</td>\n",
       "      <td>0</td>\n",
       "      <td>0</td>\n",
       "    </tr>\n",
       "    <tr>\n",
       "      <th>...</th>\n",
       "      <td>...</td>\n",
       "      <td>...</td>\n",
       "      <td>...</td>\n",
       "      <td>...</td>\n",
       "      <td>...</td>\n",
       "      <td>...</td>\n",
       "      <td>...</td>\n",
       "      <td>...</td>\n",
       "      <td>...</td>\n",
       "      <td>...</td>\n",
       "      <td>...</td>\n",
       "      <td>...</td>\n",
       "      <td>...</td>\n",
       "      <td>...</td>\n",
       "      <td>...</td>\n",
       "      <td>...</td>\n",
       "      <td>...</td>\n",
       "      <td>...</td>\n",
       "      <td>...</td>\n",
       "    </tr>\n",
       "    <tr>\n",
       "      <th>4165</th>\n",
       "      <td>TMF015</td>\n",
       "      <td>3</td>\n",
       "      <td>1</td>\n",
       "      <td>VES</td>\n",
       "      <td>2024-01-29 17:27:22</td>\n",
       "      <td>8</td>\n",
       "      <td>2024-01-29 17:35:22</td>\n",
       "      <td>parada</td>\n",
       "      <td>NaN</td>\n",
       "      <td>NaT</td>\n",
       "      <td>NaN</td>\n",
       "      <td>NaN</td>\n",
       "      <td>NaT</td>\n",
       "      <td>NaN</td>\n",
       "      <td>724</td>\n",
       "      <td>724</td>\n",
       "      <td>0</td>\n",
       "      <td>0</td>\n",
       "      <td>0</td>\n",
       "    </tr>\n",
       "    <tr>\n",
       "      <th>4166</th>\n",
       "      <td>TMF015</td>\n",
       "      <td>3</td>\n",
       "      <td>1</td>\n",
       "      <td>VES</td>\n",
       "      <td>2024-01-29 22:25:23</td>\n",
       "      <td>16</td>\n",
       "      <td>2024-01-29 22:41:23</td>\n",
       "      <td>parada</td>\n",
       "      <td>NaN</td>\n",
       "      <td>NaT</td>\n",
       "      <td>NaN</td>\n",
       "      <td>NaN</td>\n",
       "      <td>NaT</td>\n",
       "      <td>NaN</td>\n",
       "      <td>4114</td>\n",
       "      <td>4106</td>\n",
       "      <td>0</td>\n",
       "      <td>0</td>\n",
       "      <td>0</td>\n",
       "    </tr>\n",
       "    <tr>\n",
       "      <th>4167</th>\n",
       "      <td>TMF015</td>\n",
       "      <td>3</td>\n",
       "      <td>1</td>\n",
       "      <td>VES</td>\n",
       "      <td>2024-01-29 23:17:23</td>\n",
       "      <td>14</td>\n",
       "      <td>2024-01-29 23:31:23</td>\n",
       "      <td>parada</td>\n",
       "      <td>NaN</td>\n",
       "      <td>NaT</td>\n",
       "      <td>NaN</td>\n",
       "      <td>NaN</td>\n",
       "      <td>NaT</td>\n",
       "      <td>NaN</td>\n",
       "      <td>4974</td>\n",
       "      <td>4966</td>\n",
       "      <td>0</td>\n",
       "      <td>0</td>\n",
       "      <td>0</td>\n",
       "    </tr>\n",
       "    <tr>\n",
       "      <th>4168</th>\n",
       "      <td>TMF015</td>\n",
       "      <td>3</td>\n",
       "      <td>1</td>\n",
       "      <td>VES</td>\n",
       "      <td>2024-01-29 23:59:23</td>\n",
       "      <td>2</td>\n",
       "      <td>2024-01-30 00:01:23</td>\n",
       "      <td>parada</td>\n",
       "      <td>NaN</td>\n",
       "      <td>NaT</td>\n",
       "      <td>NaN</td>\n",
       "      <td>NaN</td>\n",
       "      <td>NaT</td>\n",
       "      <td>NaN</td>\n",
       "      <td>5360</td>\n",
       "      <td>5352</td>\n",
       "      <td>0</td>\n",
       "      <td>0</td>\n",
       "      <td>0</td>\n",
       "    </tr>\n",
       "    <tr>\n",
       "      <th>4169</th>\n",
       "      <td>TMF015</td>\n",
       "      <td>3</td>\n",
       "      <td>1</td>\n",
       "      <td>NOT</td>\n",
       "      <td>2024-01-30 04:01:24</td>\n",
       "      <td>62</td>\n",
       "      <td>2024-01-30 05:03:24</td>\n",
       "      <td>parada</td>\n",
       "      <td>NaN</td>\n",
       "      <td>NaT</td>\n",
       "      <td>NaN</td>\n",
       "      <td>NaN</td>\n",
       "      <td>NaT</td>\n",
       "      <td>NaN</td>\n",
       "      <td>5310</td>\n",
       "      <td>5310</td>\n",
       "      <td>0</td>\n",
       "      <td>0</td>\n",
       "      <td>0</td>\n",
       "    </tr>\n",
       "  </tbody>\n",
       "</table>\n",
       "<p>4170 rows × 19 columns</p>\n",
       "</div>"
      ],
      "text/plain": [
       "     maquina_id linha fabrica turno  data_hora_registro  tempo_registro_min  \\\n",
       "0        TMF001     8       1   NOT 2024-01-01 00:00:21                 480   \n",
       "1        TMF001     8       1   MAT 2024-01-01 08:02:22                 480   \n",
       "2        TMF001     8       1   VES 2024-01-01 16:02:24                 480   \n",
       "3        TMF001     8       1   NOT 2024-01-02 00:02:25                 480   \n",
       "4        TMF001     8       1   MAT 2024-01-02 08:02:27                 480   \n",
       "...         ...   ...     ...   ...                 ...                 ...   \n",
       "4165     TMF015     3       1   VES 2024-01-29 17:27:22                   8   \n",
       "4166     TMF015     3       1   VES 2024-01-29 22:25:23                  16   \n",
       "4167     TMF015     3       1   VES 2024-01-29 23:17:23                  14   \n",
       "4168     TMF015     3       1   VES 2024-01-29 23:59:23                   2   \n",
       "4169     TMF015     3       1   NOT 2024-01-30 04:01:24                  62   \n",
       "\n",
       "         data_hora_final  status  motivo_id data_hora_registro_occ  \\\n",
       "0    2024-01-01 08:02:22  parada       12.0                    NaT   \n",
       "1    2024-01-01 16:02:24  parada       12.0                    NaT   \n",
       "2    2024-01-02 00:02:25  parada       12.0                    NaT   \n",
       "3    2024-01-02 08:02:27  parada       12.0                    NaT   \n",
       "4    2024-01-02 16:02:28  parada       12.0                    NaT   \n",
       "...                  ...     ...        ...                    ...   \n",
       "4165 2024-01-29 17:35:22  parada        NaN                    NaT   \n",
       "4166 2024-01-29 22:41:23  parada        NaN                    NaT   \n",
       "4167 2024-01-29 23:31:23  parada        NaN                    NaT   \n",
       "4168 2024-01-30 00:01:23  parada        NaN                    NaT   \n",
       "4169 2024-01-30 05:03:24  parada        NaN                    NaT   \n",
       "\n",
       "            motivo_nome problema solucao usuario_id_occ  \\\n",
       "0     Parada Programada  Feriado     NaT            NaN   \n",
       "1     Parada Programada  Feriado     NaT            NaN   \n",
       "2     Parada Programada  Feriado     NaT            NaN   \n",
       "3     Parada Programada      NaN     NaT            NaN   \n",
       "4     Parada Programada      NaN     NaT            NaN   \n",
       "...                 ...      ...     ...            ...   \n",
       "4165                NaN      NaN     NaT            NaN   \n",
       "4166                NaN      NaN     NaT            NaN   \n",
       "4167                NaN      NaN     NaT            NaN   \n",
       "4168                NaN      NaN     NaT            NaN   \n",
       "4169                NaN      NaN     NaT            NaN   \n",
       "\n",
       "      contagem_total_ciclos  contagem_total_produzido  sabado  domingo  \\\n",
       "0                         0                         0       0        0   \n",
       "1                         0                         0       0        0   \n",
       "2                         0                         0       0        0   \n",
       "3                         0                         0       0        0   \n",
       "4                         0                         0       0        0   \n",
       "...                     ...                       ...     ...      ...   \n",
       "4165                    724                       724       0        0   \n",
       "4166                   4114                      4106       0        0   \n",
       "4167                   4974                      4966       0        0   \n",
       "4168                   5360                      5352       0        0   \n",
       "4169                   5310                      5310       0        0   \n",
       "\n",
       "      feriado  \n",
       "0           1  \n",
       "1           1  \n",
       "2           1  \n",
       "3           0  \n",
       "4           0  \n",
       "...       ...  \n",
       "4165        0  \n",
       "4166        0  \n",
       "4167        0  \n",
       "4168        0  \n",
       "4169        0  \n",
       "\n",
       "[4170 rows x 19 columns]"
      ]
     },
     "execution_count": 20,
     "metadata": {},
     "output_type": "execute_result"
    }
   ],
   "source": [
    "df_info_occ = join_data.join_info_occ(df_maq_occ_cleaned.copy(), df_info_cleaned.copy())\n",
    "df_maq_info_occ_combined = join_data.problems_adjust(df_info_occ.copy())\n",
    "df_maq_info_occ_combined"
   ]
  },
  {
   "cell_type": "code",
   "execution_count": 21,
   "metadata": {},
   "outputs": [
    {
     "data": {
      "text/plain": [
       "Index(['maquina_id', 'linha', 'fabrica', 'turno', 'data_hora_registro',\n",
       "       'tempo_registro_min', 'data_hora_final', 'status', 'motivo_id',\n",
       "       'data_hora_registro_occ', 'motivo_nome', 'problema', 'solucao',\n",
       "       'usuario_id_occ', 'contagem_total_ciclos', 'contagem_total_produzido',\n",
       "       'sabado', 'domingo', 'feriado'],\n",
       "      dtype='object')"
      ]
     },
     "execution_count": 21,
     "metadata": {},
     "output_type": "execute_result"
    }
   ],
   "source": [
    "df_maq_info_occ_combined.columns"
   ]
  },
  {
   "cell_type": "code",
   "execution_count": 23,
   "metadata": {},
   "outputs": [
    {
     "data": {
      "text/plain": [
       "Index(['maquina_id', 'linha', 'turno', 'total_ciclos', 'total_produzido',\n",
       "       'data_registro'],\n",
       "      dtype='object')"
      ]
     },
     "execution_count": 23,
     "metadata": {},
     "output_type": "execute_result"
    }
   ],
   "source": [
    "df_maq_info_production_cleaned.columns"
   ]
  },
  {
   "cell_type": "markdown",
   "metadata": {},
   "source": [
    "# Eficiência, Performance, Reparos\n"
   ]
  },
  {
   "cell_type": "code",
   "execution_count": 40,
   "metadata": {},
   "outputs": [],
   "source": [
    "# service/times_data.py\n",
    "# cSpell: disable=invalid-name\n",
    "class TimesData:\n",
    "    def __init__(self):\n",
    "        # Dicionário com os descontos de parada para Eficiência\n",
    "\n",
    "        self.desc_eff = {\n",
    "            3: 60,\n",
    "            5: 10,\n",
    "            10: 15,\n",
    "            11: 35,\n",
    "            15: 60,\n",
    "            17: 15,\n",
    "        }\n",
    "\n",
    "        # Dicionário com os descontos de parada para Performance\n",
    "\n",
    "        self.desc_perf = {\n",
    "            3: 60,\n",
    "            5: 10,\n",
    "            10: 15,\n",
    "            15: 60,\n",
    "            17: 15,\n",
    "        }\n",
    "\n",
    "        # Lista com os motivos de parada que não são considerados para Performance\n",
    "\n",
    "        self.not_af_perf = [7, 8, 11, 12, 13, 16]\n",
    "\n",
    "        # Dicionário com os descontos de parada para Reparos\n",
    "\n",
    "        self.desc_rep = {11: 35}\n",
    "\n",
    "        # Lista com os motivos de parada que são considerados para Reparos\n",
    "\n",
    "        self.af_rep = [7, 8, 11]\n",
    "\n",
    "    def get_times_discount(self, info: pd.DataFrame, desc_pcp: dict[int, int]) -> pd.DataFrame:\n",
    "        \"\"\"\n",
    "        Função para calcular os descontos de parada\n",
    "\n",
    "        Args:\n",
    "            info (pd.DataFrame): DataFrame com os dados de parada\n",
    "            desc_pcp (dict[int, int]): Dicionário com os descontos de parada\n",
    "\n",
    "        Returns:\n",
    "            pd.DataFrame: DataFrame com os descontos de parada\n",
    "\n",
    "\n",
    "        Exemplo:\n",
    "            >>> from app.service.get_times_data import GetTimesData\n",
    "            >>> import pandas as pd\n",
    "            >>> get_times_data = GetTimesData()\n",
    "            >>> df_times_desc = pd.dataframe()\n",
    "            >>> df_result = get_times_data.get_times_discount(df_times_desc, desc_pcp)\n",
    "        \"\"\"\n",
    "\n",
    "        info_stops = info.copy()\n",
    "\n",
    "        # Adicionar coluna com descontos de parada\n",
    "        info_stops[\"desconto_min\"] = info_stops[\"motivo_id\"].map(desc_pcp)\n",
    "\n",
    "        # Se houver desconto, subtrair do tempo de parada e arredondar para baixo, em uma nova coluna chamada excedente\n",
    "        info_stops[\"excedente\"] = (\n",
    "            info_stops[\"tempo_registro_min\"] - info_stops[\"desconto_min\"]\n",
    "        ).clip(lower=0)\n",
    "\n",
    "        # Se o desconto for maior que o tempo de parada, o desconto deve ser igual ao tempo de parada\n",
    "        info_stops.loc[\n",
    "            info_stops[\"desconto_min\"] > info_stops[\"tempo_registro_min\"],\n",
    "            \"desconto_min\",\n",
    "        ] = info_stops[\"tempo_registro_min\"]\n",
    "\n",
    "        # Criar coluna data_registro para agrupar por dia\n",
    "        info_stops[\"data_registro\"] = info_stops[\"data_hora_registro\"].dt.date\n",
    "        # Ordenar por maquina_id, data_hora_registro, turno\n",
    "        info_stops.sort_values(by=[\"maquina_id\", \"data_hora_registro\", \"turno\"], inplace=True)\n",
    "\n",
    "        return info_stops\n",
    "\n",
    "    def get_elapsed_time(self, turno):\n",
    "        \"\"\"\n",
    "        Método para calcular o tempo decorrido no turno atual.\n",
    "\n",
    "        Este método recebe o turno atual e retorna o tempo decorrido em minutos.\n",
    "\n",
    "        Args:\n",
    "            turno (str): Turno atual\n",
    "\n",
    "        Returns:\n",
    "            float: Tempo decorrido em minutos\n",
    "\n",
    "\n",
    "        Exemplo:\n",
    "            >>> from app.service.get_times_data import GetTimesData\n",
    "            >>> import pandas as pd\n",
    "            >>> get_times_data = GetTimesData()\n",
    "            >>> turno = 'MAT'\n",
    "            >>> tempo_decorrido = get_times_data.get_elapsed_time(turno)\n",
    "        \"\"\"\n",
    "\n",
    "        now = datetime.now()\n",
    "\n",
    "        if turno == \"MAT\" and 8 <= now.hour < 16:\n",
    "            shift_start = now.replace(hour=8, minute=0, second=0, microsecond=0)\n",
    "\n",
    "        elif turno == \"VES\" and 16 <= now.hour < 24:\n",
    "            shift_start = now.replace(hour=16, minute=0, second=0, microsecond=0)\n",
    "\n",
    "        elif turno == \"NOT\" and (now.hour < 8 or now.hour >= 24):\n",
    "            shift_start = now.replace(hour=0, minute=0, second=0, microsecond=0)\n",
    "\n",
    "        else:\n",
    "            return 480  # retorna o tempo padrão se não estiver no turno atual\n",
    "\n",
    "        elapsed_time = now - shift_start\n",
    "\n",
    "        return elapsed_time.total_seconds() / 60  # retorna o tempo decorrido em minutos\n",
    "\n",
    "    def get_eff_data(self, df_info: pd.DataFrame, df_prod: pd.DataFrame) -> pd.DataFrame:\n",
    "        \"\"\"\n",
    "        Método para calcular os dados de eficiência.\n",
    "        Este método recebe dois DataFrames, um contendo informações de tempo de eficiência e\n",
    "        desconto e outro contendo informações de produção,\n",
    "        e retorna um DataFrame com informações de eficiência.\n",
    "\n",
    "\n",
    "        Parâmetros:\n",
    "\n",
    "        df_info (pd.DataFrame): DataFrame contendo informações de maquina\n",
    "        df_prod (pd.DataFrame): DataFrame contendo informações de produção.\n",
    "\n",
    "\n",
    "        Retorna:\n",
    "\n",
    "        pd.DataFrame: DataFrame com informações de eficiência.\n",
    "\n",
    "\n",
    "        Exemplo de uso:\n",
    "        ```\n",
    "        times_data = TimesData()\n",
    "        df_eff_times_desc = pd.dataframe()\n",
    "        df_prod = pd.dataframe()\n",
    "        df_result = times_data.get_eff_data(df_info, df_prod)\n",
    "        ```\n",
    "        \"\"\"\n",
    "\n",
    "        df_eff_times_desc = self.get_times_discount(df_info, self.desc_eff)\n",
    "        df_prod_total = df_prod.copy()\n",
    "        ciclo_ideal = 10.6\n",
    "\n",
    "        # Descartar colunas desnecessárias de df_prod -> 'contagem_total_ciclos', 'usuario_id_maq_cadastro', 'data_hora_registro'\n",
    "        df_prod_total.drop(columns=[\"total_ciclos\"], inplace=True)\n",
    "\n",
    "        # Agrupar por maquina_id, data_registro e turno e somar o tempo de parada, o desconto e o excedente\n",
    "        df_eff_times_desc = (\n",
    "            df_eff_times_desc.groupby(\n",
    "                [\"maquina_id\", \"linha\", \"data_registro\", \"turno\"], observed=False\n",
    "            )\n",
    "            .agg(\n",
    "                {\n",
    "                    \"desconto_min\": \"sum\",\n",
    "                }\n",
    "            )\n",
    "            .reset_index()\n",
    "        )\n",
    "\n",
    "        # Garantir que a coluna data_registro é datetime em ambos os dataframes\n",
    "        df_eff_times_desc[\"data_registro\"] = pd.to_datetime(\n",
    "            df_eff_times_desc[\"data_registro\"]\n",
    "        ).dt.date\n",
    "\n",
    "        df_prod_total[\"data_registro\"] = pd.to_datetime(df_prod_total[\"data_registro\"]).dt.date\n",
    "\n",
    "        # Fazer merge com df_prod_total\n",
    "        df_eff_times_desc = pd.merge(\n",
    "            df_prod_total,\n",
    "            df_eff_times_desc,\n",
    "            on=[\"maquina_id\", \"linha\", \"turno\", \"data_registro\"],\n",
    "            how=\"left\",\n",
    "        )\n",
    "\n",
    "        # Ajustar desc_min para 0 quando for nulo\n",
    "        df_eff_times_desc.loc[df_eff_times_desc[\"desconto_min\"].isnull(), \"desconto_min\"] = 0\n",
    "\n",
    "        # Criar coluna com tempo esperado de produção\n",
    "        df_eff_times_desc[\"tempo_esperado_min\"] = df_eff_times_desc.apply(\n",
    "            lambda row: np.floor(self.get_elapsed_time(row[\"turno\"]) - row[\"desconto_min\"])\n",
    "            if row[\"data_registro\"] == datetime.now().date()\n",
    "            else 480 - row[\"desconto_min\"],\n",
    "            axis=1,\n",
    "        )\n",
    "\n",
    "        # Produção esperada por turno\n",
    "        df_eff_times_desc[\"producao_esperada\"] = (\n",
    "            df_eff_times_desc[\"tempo_esperado_min\"] * ciclo_ideal\n",
    "        ) * 2\n",
    "\n",
    "        # Calcular a eficiência\n",
    "        df_eff_times_desc[\"eficiencia\"] = (\n",
    "            df_eff_times_desc[\"total_produzido\"] / df_eff_times_desc[\"producao_esperada\"]\n",
    "        )\n",
    "\n",
    "        # Ordenar pela linha e data_registro\n",
    "        df_eff_times_desc = df_eff_times_desc.sort_values(\n",
    "            by=[\"linha\", \"data_registro\"], ascending=True\n",
    "        )\n",
    "\n",
    "        # Remover as linhas onde a linha é 0\n",
    "        df_eff_times_desc = df_eff_times_desc[df_eff_times_desc[\"linha\"] != 0]\n",
    "\n",
    "        # Ajustar o index\n",
    "        df_eff_times_desc.reset_index(drop=True, inplace=True)\n",
    "\n",
    "        return df_eff_times_desc\n",
    "\n",
    "    def get_perf_data(self, df_info: pd.DataFrame, df_prod: pd.DataFrame) -> pd.DataFrame:\n",
    "        \"\"\"\n",
    "        Método para calcular os dados de performance.\n",
    "\n",
    "        Este método recebe dois DataFrames, um contendo informações de máquina e\n",
    "        outro contendo informações de produção,\n",
    "        e retorna um DataFrame com informações de performance.\n",
    "\n",
    "        Args:\n",
    "            df_info (pd.DataFrame): DataFrame contendo informações de maquina\n",
    "            df_prod (pd.DataFrame): DataFrame contendo informações de produção.\n",
    "\n",
    "        Returns:\n",
    "            pd.DataFrame: DataFrame com informações de performance.\n",
    "\n",
    "        Exemplo de uso:\n",
    "        ```\n",
    "        times_data = TimesData()\n",
    "        df_info = pd.dataframe()\n",
    "        df_prod = pd.dataframe()\n",
    "        df_result = times_data.get_perf_data(df_info, df_prod)\n",
    "        ```\n",
    "        \"\"\"\n",
    "\n",
    "        df_info = df_info.copy()\n",
    "        df_perf_times_desc = self.get_times_discount(df_info, self.desc_perf)\n",
    "        df_prod_total = df_prod.copy()\n",
    "\n",
    "        # Descartar colunas desnecessárias de df_prod\n",
    "        df_prod_total.drop(\n",
    "            columns=[\n",
    "                \"total_ciclos\",\n",
    "                \"total_produzido\",\n",
    "            ],\n",
    "            inplace=True,\n",
    "        )\n",
    "\n",
    "        # Remover as linhas que não afetam a performance\n",
    "        df_perf_times_desc = df_perf_times_desc[\n",
    "            ~df_perf_times_desc[\"motivo_id\"].isin(self.not_af_perf)\n",
    "        ]\n",
    "\n",
    "        # Criar coluna 'afeta' para identificar as paradas que afetam a performance\n",
    "        df_perf_times_desc[\"afeta\"] = df_perf_times_desc[\"excedente\"]\n",
    "\n",
    "        # Se desconto for nulo, substituir afeta pelo valor de tempo_registro_min\n",
    "        df_perf_times_desc.loc[\n",
    "            df_perf_times_desc[\"desconto_min\"].isnull(), \"afeta\"\n",
    "        ] = df_perf_times_desc[\"tempo_registro_min\"]\n",
    "\n",
    "        # Agrupar por maquina_id, data_registro e turno e somar o tempo de\n",
    "        # desconto e o afeta\n",
    "        df_perf_times_desc = (\n",
    "            df_perf_times_desc.groupby(\n",
    "                [\"maquina_id\", \"linha\", \"data_registro\", \"turno\"], observed=False\n",
    "            )\n",
    "            .agg(\n",
    "                {\n",
    "                    \"desconto_min\": \"sum\",\n",
    "                    \"afeta\": \"sum\",\n",
    "                }\n",
    "            )\n",
    "            .reset_index()\n",
    "        )\n",
    "\n",
    "        # Garantir que a coluna data_registro é datetime em ambos os dataframes\n",
    "        df_perf_times_desc[\"data_registro\"] = pd.to_datetime(\n",
    "            df_perf_times_desc[\"data_registro\"]\n",
    "        ).dt.date\n",
    "\n",
    "        df_prod_total[\"data_registro\"] = pd.to_datetime(df_prod_total[\"data_registro\"]).dt.date\n",
    "        # Fazer merge com df_prod_total\n",
    "\n",
    "        df_perf_times_desc = pd.merge(\n",
    "            df_prod_total,\n",
    "            df_perf_times_desc,\n",
    "            on=[\"maquina_id\", \"linha\", \"turno\", \"data_registro\"],\n",
    "            how=\"left\",\n",
    "        )\n",
    "\n",
    "        # Ajustar desconto_min para 0 quando for nulo\n",
    "        df_perf_times_desc.loc[df_perf_times_desc[\"desconto_min\"].isnull(), \"desconto_min\"] = 0\n",
    "\n",
    "        # Ajustar afeta para 0 quando for nulo\n",
    "        df_perf_times_desc.loc[df_perf_times_desc[\"afeta\"].isnull(), \"afeta\"] = 0\n",
    "\n",
    "        # Criar coluna com tempo esperado de produção\n",
    "        df_perf_times_desc[\"tempo_esperado_min\"] = df_perf_times_desc.apply(\n",
    "            lambda row: np.floor(self.get_elapsed_time(row[\"turno\"]) - row[\"desconto_min\"])\n",
    "            if row[\"data_registro\"] == datetime.now().date()\n",
    "            else 480 - row[\"desconto_min\"],\n",
    "            axis=1,\n",
    "        )\n",
    "\n",
    "        # Calcular a performance\n",
    "        df_perf_times_desc[\"performance\"] = (\n",
    "            df_perf_times_desc[\"afeta\"] / df_perf_times_desc[\"tempo_esperado_min\"]\n",
    "        )\n",
    "\n",
    "        # Ordenar pela linha e data_registro\n",
    "        df_perf_times_desc = df_perf_times_desc.sort_values(\n",
    "            by=[\"linha\", \"data_registro\"], ascending=True\n",
    "        )\n",
    "\n",
    "        # Remover as linhas onde a linha é 0\n",
    "        df_perf_times_desc = df_perf_times_desc[df_perf_times_desc[\"linha\"] != 0]\n",
    "\n",
    "        # Ajustar o index\n",
    "        df_perf_times_desc.reset_index(drop=True, inplace=True)\n",
    "\n",
    "        return df_perf_times_desc\n",
    "\n",
    "    def get_reparos_data(self, df_info: pd.DataFrame, df_prod: pd.DataFrame) -> pd.DataFrame:\n",
    "        \"\"\"\n",
    "        Método para calcular os dados de reparo.\n",
    "\n",
    "        Este método recebe dois DataFrames, um contendo informações de máquina e\n",
    "        e outro contendo informações de produção,\n",
    "        e retorna um DataFrame com informações de Reparo.\n",
    "\n",
    "\n",
    "        ### Parâmetros:\n",
    "        df_info (pd.DataFrame): DataFrame contendo informações de maquina\n",
    "\n",
    "        df_prod (pd.DataFrame): DataFrame contendo informações de produção.\n",
    "\n",
    "        ### Retorna:\n",
    "\n",
    "        pd.DataFrame: DataFrame com informações de performance.\n",
    "\n",
    "        ### Exemplo de uso:\n",
    "        ```\n",
    "        times_data = TimesData()\n",
    "        df_info = pd.dataframe()\n",
    "        df_prod = pd.dataframe()\n",
    "        df_result = times_data.get_reparos_data(df_info, df_prod)\n",
    "        ```\n",
    "        \"\"\"\n",
    "\n",
    "        df_info = df_info.copy()\n",
    "\n",
    "        df_rep_times_desc = self.get_times_discount(df_info, self.desc_rep)\n",
    "\n",
    "        df_prod_total = df_prod.copy()\n",
    "\n",
    "        # Descartar colunas desnecessárias de df_prod\n",
    "        df_prod_total.drop(\n",
    "            columns=[\n",
    "                \"total_ciclos\",\n",
    "                \"total_produzido\",\n",
    "            ],\n",
    "            inplace=True,\n",
    "        )\n",
    "\n",
    "        # Remover as linhas que não afetam o reparo\n",
    "        df_rep_times_desc = df_rep_times_desc[df_rep_times_desc[\"motivo_id\"].isin(self.af_rep)]\n",
    "\n",
    "        # Criar coluna 'afeta' para identificar as paradas que afetam o reparo\n",
    "        df_rep_times_desc[\"afeta\"] = df_rep_times_desc[\"excedente\"]\n",
    "\n",
    "        # Se desconto for nulo, substituir afeta pelo valor de tempo_registro_min\n",
    "        df_rep_times_desc.loc[\n",
    "            df_rep_times_desc[\"desconto_min\"].isnull(), \"afeta\"\n",
    "        ] = df_rep_times_desc[\"tempo_registro_min\"]\n",
    "\n",
    "        # Agrupar por maquina_id, data_registro e turno e somar o tempo de\n",
    "        # desconto e o afeta\n",
    "        df_rep_times_desc = (\n",
    "            df_rep_times_desc.groupby(\n",
    "                [\"maquina_id\", \"linha\", \"data_registro\", \"turno\"], observed=False\n",
    "            )\n",
    "            .agg(\n",
    "                {\n",
    "                    \"desconto_min\": \"sum\",\n",
    "                    \"afeta\": \"sum\",\n",
    "                }\n",
    "            )\n",
    "            .reset_index()\n",
    "        )\n",
    "\n",
    "        # Garantir que a coluna data_registro é datetime em ambos os dataframes\n",
    "        df_rep_times_desc[\"data_registro\"] = pd.to_datetime(\n",
    "            df_rep_times_desc[\"data_registro\"]\n",
    "        ).dt.date\n",
    "        df_prod_total[\"data_registro\"] = pd.to_datetime(df_prod_total[\"data_registro\"]).dt.date\n",
    "\n",
    "        # Fazer merge com df_prod_total\n",
    "        df_rep_times_desc = pd.merge(\n",
    "            df_prod_total,\n",
    "            df_rep_times_desc,\n",
    "            on=[\"maquina_id\", \"linha\", \"turno\", \"data_registro\"],\n",
    "            how=\"left\",\n",
    "        )\n",
    "\n",
    "        # Ajustar desconto_min para 0 quando for nulo\n",
    "        df_rep_times_desc.loc[df_rep_times_desc[\"desconto_min\"].isnull(), \"desconto_min\"] = 0\n",
    "\n",
    "        # Ajustar afeta para 0 quando for nulo\n",
    "        df_rep_times_desc.loc[df_rep_times_desc[\"afeta\"].isnull(), \"afeta\"] = 0\n",
    "\n",
    "        # Criar coluna com tempo esperado de produção\n",
    "        df_rep_times_desc[\"tempo_esperado_min\"] = df_rep_times_desc.apply(\n",
    "            lambda row: np.floor(self.get_elapsed_time(row[\"turno\"]) - row[\"desconto_min\"])\n",
    "            if row[\"data_registro\"] == datetime.now().date()\n",
    "            else 480 - row[\"desconto_min\"],\n",
    "            axis=1,\n",
    "        )\n",
    "\n",
    "        # Calcular o reparo\n",
    "        df_rep_times_desc[\"reparo\"] = (\n",
    "            df_rep_times_desc[\"afeta\"] / df_rep_times_desc[\"tempo_esperado_min\"]\n",
    "        )\n",
    "\n",
    "        # Ordenar pela linha e data_registro\n",
    "        df_rep_times_desc = df_rep_times_desc.sort_values(\n",
    "            by=[\"linha\", \"data_registro\"], ascending=True\n",
    "        )\n",
    "\n",
    "        # Remover as linhas onde a linha é 0\n",
    "        df_rep_times_desc = df_rep_times_desc[df_rep_times_desc[\"linha\"] != 0]\n",
    "\n",
    "        # Ajustar o index\n",
    "        df_rep_times_desc.reset_index(drop=True, inplace=True)\n",
    "\n",
    "        return df_rep_times_desc\n",
    "\n",
    "\n",
    "times_data = TimesData()"
   ]
  },
  {
   "cell_type": "code",
   "execution_count": 41,
   "metadata": {},
   "outputs": [
    {
     "data": {
      "text/html": [
       "<div>\n",
       "<style scoped>\n",
       "    .dataframe tbody tr th:only-of-type {\n",
       "        vertical-align: middle;\n",
       "    }\n",
       "\n",
       "    .dataframe tbody tr th {\n",
       "        vertical-align: top;\n",
       "    }\n",
       "\n",
       "    .dataframe thead th {\n",
       "        text-align: right;\n",
       "    }\n",
       "</style>\n",
       "<table border=\"1\" class=\"dataframe\">\n",
       "  <thead>\n",
       "    <tr style=\"text-align: right;\">\n",
       "      <th></th>\n",
       "      <th>maquina_id</th>\n",
       "      <th>linha</th>\n",
       "      <th>turno</th>\n",
       "      <th>total_produzido</th>\n",
       "      <th>data_registro</th>\n",
       "      <th>desconto_min</th>\n",
       "      <th>tempo_esperado_min</th>\n",
       "      <th>producao_esperada</th>\n",
       "      <th>eficiencia</th>\n",
       "    </tr>\n",
       "  </thead>\n",
       "  <tbody>\n",
       "    <tr>\n",
       "      <th>0</th>\n",
       "      <td>TMF005</td>\n",
       "      <td>1</td>\n",
       "      <td>NOT</td>\n",
       "      <td>0</td>\n",
       "      <td>2024-01-01</td>\n",
       "      <td>0.0</td>\n",
       "      <td>480.0</td>\n",
       "      <td>10176.0</td>\n",
       "      <td>0.000000</td>\n",
       "    </tr>\n",
       "    <tr>\n",
       "      <th>1</th>\n",
       "      <td>TMF005</td>\n",
       "      <td>1</td>\n",
       "      <td>MAT</td>\n",
       "      <td>0</td>\n",
       "      <td>2024-01-01</td>\n",
       "      <td>0.0</td>\n",
       "      <td>480.0</td>\n",
       "      <td>10176.0</td>\n",
       "      <td>0.000000</td>\n",
       "    </tr>\n",
       "    <tr>\n",
       "      <th>2</th>\n",
       "      <td>TMF005</td>\n",
       "      <td>1</td>\n",
       "      <td>VES</td>\n",
       "      <td>0</td>\n",
       "      <td>2024-01-01</td>\n",
       "      <td>0.0</td>\n",
       "      <td>480.0</td>\n",
       "      <td>10176.0</td>\n",
       "      <td>0.000000</td>\n",
       "    </tr>\n",
       "    <tr>\n",
       "      <th>3</th>\n",
       "      <td>TMF005</td>\n",
       "      <td>1</td>\n",
       "      <td>NOT</td>\n",
       "      <td>0</td>\n",
       "      <td>2024-01-02</td>\n",
       "      <td>0.0</td>\n",
       "      <td>480.0</td>\n",
       "      <td>10176.0</td>\n",
       "      <td>0.000000</td>\n",
       "    </tr>\n",
       "    <tr>\n",
       "      <th>4</th>\n",
       "      <td>TMF005</td>\n",
       "      <td>1</td>\n",
       "      <td>MAT</td>\n",
       "      <td>0</td>\n",
       "      <td>2024-01-02</td>\n",
       "      <td>0.0</td>\n",
       "      <td>480.0</td>\n",
       "      <td>10176.0</td>\n",
       "      <td>0.000000</td>\n",
       "    </tr>\n",
       "    <tr>\n",
       "      <th>...</th>\n",
       "      <td>...</td>\n",
       "      <td>...</td>\n",
       "      <td>...</td>\n",
       "      <td>...</td>\n",
       "      <td>...</td>\n",
       "      <td>...</td>\n",
       "      <td>...</td>\n",
       "      <td>...</td>\n",
       "      <td>...</td>\n",
       "    </tr>\n",
       "    <tr>\n",
       "      <th>1183</th>\n",
       "      <td>TMF010</td>\n",
       "      <td>14</td>\n",
       "      <td>VES</td>\n",
       "      <td>3038</td>\n",
       "      <td>2024-01-28</td>\n",
       "      <td>0.0</td>\n",
       "      <td>480.0</td>\n",
       "      <td>10176.0</td>\n",
       "      <td>0.298546</td>\n",
       "    </tr>\n",
       "    <tr>\n",
       "      <th>1184</th>\n",
       "      <td>TMF010</td>\n",
       "      <td>14</td>\n",
       "      <td>NOT</td>\n",
       "      <td>4010</td>\n",
       "      <td>2024-01-29</td>\n",
       "      <td>0.0</td>\n",
       "      <td>480.0</td>\n",
       "      <td>10176.0</td>\n",
       "      <td>0.394064</td>\n",
       "    </tr>\n",
       "    <tr>\n",
       "      <th>1185</th>\n",
       "      <td>TMF010</td>\n",
       "      <td>14</td>\n",
       "      <td>MAT</td>\n",
       "      <td>2188</td>\n",
       "      <td>2024-01-29</td>\n",
       "      <td>60.0</td>\n",
       "      <td>420.0</td>\n",
       "      <td>8904.0</td>\n",
       "      <td>0.245732</td>\n",
       "    </tr>\n",
       "    <tr>\n",
       "      <th>1186</th>\n",
       "      <td>TMF010</td>\n",
       "      <td>14</td>\n",
       "      <td>VES</td>\n",
       "      <td>2768</td>\n",
       "      <td>2024-01-29</td>\n",
       "      <td>60.0</td>\n",
       "      <td>420.0</td>\n",
       "      <td>8904.0</td>\n",
       "      <td>0.310872</td>\n",
       "    </tr>\n",
       "    <tr>\n",
       "      <th>1187</th>\n",
       "      <td>TMF010</td>\n",
       "      <td>14</td>\n",
       "      <td>NOT</td>\n",
       "      <td>2236</td>\n",
       "      <td>2024-01-30</td>\n",
       "      <td>0.0</td>\n",
       "      <td>480.0</td>\n",
       "      <td>10176.0</td>\n",
       "      <td>0.219733</td>\n",
       "    </tr>\n",
       "  </tbody>\n",
       "</table>\n",
       "<p>1188 rows × 9 columns</p>\n",
       "</div>"
      ],
      "text/plain": [
       "     maquina_id linha turno  total_produzido data_registro  desconto_min  \\\n",
       "0        TMF005     1   NOT                0    2024-01-01           0.0   \n",
       "1        TMF005     1   MAT                0    2024-01-01           0.0   \n",
       "2        TMF005     1   VES                0    2024-01-01           0.0   \n",
       "3        TMF005     1   NOT                0    2024-01-02           0.0   \n",
       "4        TMF005     1   MAT                0    2024-01-02           0.0   \n",
       "...         ...   ...   ...              ...           ...           ...   \n",
       "1183     TMF010    14   VES             3038    2024-01-28           0.0   \n",
       "1184     TMF010    14   NOT             4010    2024-01-29           0.0   \n",
       "1185     TMF010    14   MAT             2188    2024-01-29          60.0   \n",
       "1186     TMF010    14   VES             2768    2024-01-29          60.0   \n",
       "1187     TMF010    14   NOT             2236    2024-01-30           0.0   \n",
       "\n",
       "      tempo_esperado_min  producao_esperada  eficiencia  \n",
       "0                  480.0            10176.0    0.000000  \n",
       "1                  480.0            10176.0    0.000000  \n",
       "2                  480.0            10176.0    0.000000  \n",
       "3                  480.0            10176.0    0.000000  \n",
       "4                  480.0            10176.0    0.000000  \n",
       "...                  ...                ...         ...  \n",
       "1183               480.0            10176.0    0.298546  \n",
       "1184               480.0            10176.0    0.394064  \n",
       "1185               420.0             8904.0    0.245732  \n",
       "1186               420.0             8904.0    0.310872  \n",
       "1187               480.0            10176.0    0.219733  \n",
       "\n",
       "[1188 rows x 9 columns]"
      ]
     },
     "execution_count": 41,
     "metadata": {},
     "output_type": "execute_result"
    }
   ],
   "source": [
    "df_eff = times_data.get_eff_data(\n",
    "    df_maq_info_occ_combined.copy(), df_maq_info_production_cleaned.copy()\n",
    ")\n",
    "df_eff"
   ]
  },
  {
   "cell_type": "code",
   "execution_count": 42,
   "metadata": {},
   "outputs": [
    {
     "data": {
      "text/html": [
       "<div>\n",
       "<style scoped>\n",
       "    .dataframe tbody tr th:only-of-type {\n",
       "        vertical-align: middle;\n",
       "    }\n",
       "\n",
       "    .dataframe tbody tr th {\n",
       "        vertical-align: top;\n",
       "    }\n",
       "\n",
       "    .dataframe thead th {\n",
       "        text-align: right;\n",
       "    }\n",
       "</style>\n",
       "<table border=\"1\" class=\"dataframe\">\n",
       "  <thead>\n",
       "    <tr style=\"text-align: right;\">\n",
       "      <th></th>\n",
       "      <th>maquina_id</th>\n",
       "      <th>linha</th>\n",
       "      <th>turno</th>\n",
       "      <th>data_registro</th>\n",
       "      <th>desconto_min</th>\n",
       "      <th>afeta</th>\n",
       "      <th>tempo_esperado_min</th>\n",
       "      <th>performance</th>\n",
       "    </tr>\n",
       "  </thead>\n",
       "  <tbody>\n",
       "    <tr>\n",
       "      <th>0</th>\n",
       "      <td>TMF005</td>\n",
       "      <td>1</td>\n",
       "      <td>NOT</td>\n",
       "      <td>2024-01-01</td>\n",
       "      <td>0.0</td>\n",
       "      <td>0.0</td>\n",
       "      <td>480.0</td>\n",
       "      <td>0.000000</td>\n",
       "    </tr>\n",
       "    <tr>\n",
       "      <th>1</th>\n",
       "      <td>TMF005</td>\n",
       "      <td>1</td>\n",
       "      <td>MAT</td>\n",
       "      <td>2024-01-01</td>\n",
       "      <td>0.0</td>\n",
       "      <td>0.0</td>\n",
       "      <td>480.0</td>\n",
       "      <td>0.000000</td>\n",
       "    </tr>\n",
       "    <tr>\n",
       "      <th>2</th>\n",
       "      <td>TMF005</td>\n",
       "      <td>1</td>\n",
       "      <td>VES</td>\n",
       "      <td>2024-01-01</td>\n",
       "      <td>0.0</td>\n",
       "      <td>0.0</td>\n",
       "      <td>480.0</td>\n",
       "      <td>0.000000</td>\n",
       "    </tr>\n",
       "    <tr>\n",
       "      <th>3</th>\n",
       "      <td>TMF005</td>\n",
       "      <td>1</td>\n",
       "      <td>NOT</td>\n",
       "      <td>2024-01-02</td>\n",
       "      <td>0.0</td>\n",
       "      <td>0.0</td>\n",
       "      <td>480.0</td>\n",
       "      <td>0.000000</td>\n",
       "    </tr>\n",
       "    <tr>\n",
       "      <th>4</th>\n",
       "      <td>TMF005</td>\n",
       "      <td>1</td>\n",
       "      <td>MAT</td>\n",
       "      <td>2024-01-02</td>\n",
       "      <td>0.0</td>\n",
       "      <td>0.0</td>\n",
       "      <td>480.0</td>\n",
       "      <td>0.000000</td>\n",
       "    </tr>\n",
       "    <tr>\n",
       "      <th>...</th>\n",
       "      <td>...</td>\n",
       "      <td>...</td>\n",
       "      <td>...</td>\n",
       "      <td>...</td>\n",
       "      <td>...</td>\n",
       "      <td>...</td>\n",
       "      <td>...</td>\n",
       "      <td>...</td>\n",
       "    </tr>\n",
       "    <tr>\n",
       "      <th>1183</th>\n",
       "      <td>TMF010</td>\n",
       "      <td>14</td>\n",
       "      <td>VES</td>\n",
       "      <td>2024-01-28</td>\n",
       "      <td>0.0</td>\n",
       "      <td>0.0</td>\n",
       "      <td>480.0</td>\n",
       "      <td>0.000000</td>\n",
       "    </tr>\n",
       "    <tr>\n",
       "      <th>1184</th>\n",
       "      <td>TMF010</td>\n",
       "      <td>14</td>\n",
       "      <td>NOT</td>\n",
       "      <td>2024-01-29</td>\n",
       "      <td>0.0</td>\n",
       "      <td>0.0</td>\n",
       "      <td>480.0</td>\n",
       "      <td>0.000000</td>\n",
       "    </tr>\n",
       "    <tr>\n",
       "      <th>1185</th>\n",
       "      <td>TMF010</td>\n",
       "      <td>14</td>\n",
       "      <td>MAT</td>\n",
       "      <td>2024-01-29</td>\n",
       "      <td>60.0</td>\n",
       "      <td>26.0</td>\n",
       "      <td>420.0</td>\n",
       "      <td>0.061905</td>\n",
       "    </tr>\n",
       "    <tr>\n",
       "      <th>1186</th>\n",
       "      <td>TMF010</td>\n",
       "      <td>14</td>\n",
       "      <td>VES</td>\n",
       "      <td>2024-01-29</td>\n",
       "      <td>60.0</td>\n",
       "      <td>70.0</td>\n",
       "      <td>420.0</td>\n",
       "      <td>0.166667</td>\n",
       "    </tr>\n",
       "    <tr>\n",
       "      <th>1187</th>\n",
       "      <td>TMF010</td>\n",
       "      <td>14</td>\n",
       "      <td>NOT</td>\n",
       "      <td>2024-01-30</td>\n",
       "      <td>0.0</td>\n",
       "      <td>8.0</td>\n",
       "      <td>480.0</td>\n",
       "      <td>0.016667</td>\n",
       "    </tr>\n",
       "  </tbody>\n",
       "</table>\n",
       "<p>1188 rows × 8 columns</p>\n",
       "</div>"
      ],
      "text/plain": [
       "     maquina_id linha turno data_registro  desconto_min  afeta  \\\n",
       "0        TMF005     1   NOT    2024-01-01           0.0    0.0   \n",
       "1        TMF005     1   MAT    2024-01-01           0.0    0.0   \n",
       "2        TMF005     1   VES    2024-01-01           0.0    0.0   \n",
       "3        TMF005     1   NOT    2024-01-02           0.0    0.0   \n",
       "4        TMF005     1   MAT    2024-01-02           0.0    0.0   \n",
       "...         ...   ...   ...           ...           ...    ...   \n",
       "1183     TMF010    14   VES    2024-01-28           0.0    0.0   \n",
       "1184     TMF010    14   NOT    2024-01-29           0.0    0.0   \n",
       "1185     TMF010    14   MAT    2024-01-29          60.0   26.0   \n",
       "1186     TMF010    14   VES    2024-01-29          60.0   70.0   \n",
       "1187     TMF010    14   NOT    2024-01-30           0.0    8.0   \n",
       "\n",
       "      tempo_esperado_min  performance  \n",
       "0                  480.0     0.000000  \n",
       "1                  480.0     0.000000  \n",
       "2                  480.0     0.000000  \n",
       "3                  480.0     0.000000  \n",
       "4                  480.0     0.000000  \n",
       "...                  ...          ...  \n",
       "1183               480.0     0.000000  \n",
       "1184               480.0     0.000000  \n",
       "1185               420.0     0.061905  \n",
       "1186               420.0     0.166667  \n",
       "1187               480.0     0.016667  \n",
       "\n",
       "[1188 rows x 8 columns]"
      ]
     },
     "execution_count": 42,
     "metadata": {},
     "output_type": "execute_result"
    }
   ],
   "source": [
    "df_perf = times_data.get_perf_data(\n",
    "    df_maq_info_occ_combined.copy(), df_maq_info_production_cleaned.copy()\n",
    ")\n",
    "df_perf"
   ]
  },
  {
   "cell_type": "code",
   "execution_count": 43,
   "metadata": {},
   "outputs": [
    {
     "data": {
      "text/html": [
       "<div>\n",
       "<style scoped>\n",
       "    .dataframe tbody tr th:only-of-type {\n",
       "        vertical-align: middle;\n",
       "    }\n",
       "\n",
       "    .dataframe tbody tr th {\n",
       "        vertical-align: top;\n",
       "    }\n",
       "\n",
       "    .dataframe thead th {\n",
       "        text-align: right;\n",
       "    }\n",
       "</style>\n",
       "<table border=\"1\" class=\"dataframe\">\n",
       "  <thead>\n",
       "    <tr style=\"text-align: right;\">\n",
       "      <th></th>\n",
       "      <th>maquina_id</th>\n",
       "      <th>linha</th>\n",
       "      <th>turno</th>\n",
       "      <th>data_registro</th>\n",
       "      <th>desconto_min</th>\n",
       "      <th>afeta</th>\n",
       "      <th>tempo_esperado_min</th>\n",
       "      <th>reparo</th>\n",
       "    </tr>\n",
       "  </thead>\n",
       "  <tbody>\n",
       "    <tr>\n",
       "      <th>0</th>\n",
       "      <td>TMF005</td>\n",
       "      <td>1</td>\n",
       "      <td>NOT</td>\n",
       "      <td>2024-01-01</td>\n",
       "      <td>0.0</td>\n",
       "      <td>0.0</td>\n",
       "      <td>480.0</td>\n",
       "      <td>0.000000</td>\n",
       "    </tr>\n",
       "    <tr>\n",
       "      <th>1</th>\n",
       "      <td>TMF005</td>\n",
       "      <td>1</td>\n",
       "      <td>MAT</td>\n",
       "      <td>2024-01-01</td>\n",
       "      <td>0.0</td>\n",
       "      <td>0.0</td>\n",
       "      <td>480.0</td>\n",
       "      <td>0.000000</td>\n",
       "    </tr>\n",
       "    <tr>\n",
       "      <th>2</th>\n",
       "      <td>TMF005</td>\n",
       "      <td>1</td>\n",
       "      <td>VES</td>\n",
       "      <td>2024-01-01</td>\n",
       "      <td>0.0</td>\n",
       "      <td>0.0</td>\n",
       "      <td>480.0</td>\n",
       "      <td>0.000000</td>\n",
       "    </tr>\n",
       "    <tr>\n",
       "      <th>3</th>\n",
       "      <td>TMF005</td>\n",
       "      <td>1</td>\n",
       "      <td>NOT</td>\n",
       "      <td>2024-01-02</td>\n",
       "      <td>0.0</td>\n",
       "      <td>0.0</td>\n",
       "      <td>480.0</td>\n",
       "      <td>0.000000</td>\n",
       "    </tr>\n",
       "    <tr>\n",
       "      <th>4</th>\n",
       "      <td>TMF005</td>\n",
       "      <td>1</td>\n",
       "      <td>MAT</td>\n",
       "      <td>2024-01-02</td>\n",
       "      <td>0.0</td>\n",
       "      <td>0.0</td>\n",
       "      <td>480.0</td>\n",
       "      <td>0.000000</td>\n",
       "    </tr>\n",
       "    <tr>\n",
       "      <th>...</th>\n",
       "      <td>...</td>\n",
       "      <td>...</td>\n",
       "      <td>...</td>\n",
       "      <td>...</td>\n",
       "      <td>...</td>\n",
       "      <td>...</td>\n",
       "      <td>...</td>\n",
       "      <td>...</td>\n",
       "    </tr>\n",
       "    <tr>\n",
       "      <th>1183</th>\n",
       "      <td>TMF010</td>\n",
       "      <td>14</td>\n",
       "      <td>VES</td>\n",
       "      <td>2024-01-28</td>\n",
       "      <td>0.0</td>\n",
       "      <td>0.0</td>\n",
       "      <td>480.0</td>\n",
       "      <td>0.000000</td>\n",
       "    </tr>\n",
       "    <tr>\n",
       "      <th>1184</th>\n",
       "      <td>TMF010</td>\n",
       "      <td>14</td>\n",
       "      <td>NOT</td>\n",
       "      <td>2024-01-29</td>\n",
       "      <td>0.0</td>\n",
       "      <td>0.0</td>\n",
       "      <td>480.0</td>\n",
       "      <td>0.000000</td>\n",
       "    </tr>\n",
       "    <tr>\n",
       "      <th>1185</th>\n",
       "      <td>TMF010</td>\n",
       "      <td>14</td>\n",
       "      <td>MAT</td>\n",
       "      <td>2024-01-29</td>\n",
       "      <td>0.0</td>\n",
       "      <td>46.0</td>\n",
       "      <td>480.0</td>\n",
       "      <td>0.095833</td>\n",
       "    </tr>\n",
       "    <tr>\n",
       "      <th>1186</th>\n",
       "      <td>TMF010</td>\n",
       "      <td>14</td>\n",
       "      <td>VES</td>\n",
       "      <td>2024-01-29</td>\n",
       "      <td>0.0</td>\n",
       "      <td>0.0</td>\n",
       "      <td>480.0</td>\n",
       "      <td>0.000000</td>\n",
       "    </tr>\n",
       "    <tr>\n",
       "      <th>1187</th>\n",
       "      <td>TMF010</td>\n",
       "      <td>14</td>\n",
       "      <td>NOT</td>\n",
       "      <td>2024-01-30</td>\n",
       "      <td>0.0</td>\n",
       "      <td>0.0</td>\n",
       "      <td>480.0</td>\n",
       "      <td>0.000000</td>\n",
       "    </tr>\n",
       "  </tbody>\n",
       "</table>\n",
       "<p>1188 rows × 8 columns</p>\n",
       "</div>"
      ],
      "text/plain": [
       "     maquina_id linha turno data_registro  desconto_min  afeta  \\\n",
       "0        TMF005     1   NOT    2024-01-01           0.0    0.0   \n",
       "1        TMF005     1   MAT    2024-01-01           0.0    0.0   \n",
       "2        TMF005     1   VES    2024-01-01           0.0    0.0   \n",
       "3        TMF005     1   NOT    2024-01-02           0.0    0.0   \n",
       "4        TMF005     1   MAT    2024-01-02           0.0    0.0   \n",
       "...         ...   ...   ...           ...           ...    ...   \n",
       "1183     TMF010    14   VES    2024-01-28           0.0    0.0   \n",
       "1184     TMF010    14   NOT    2024-01-29           0.0    0.0   \n",
       "1185     TMF010    14   MAT    2024-01-29           0.0   46.0   \n",
       "1186     TMF010    14   VES    2024-01-29           0.0    0.0   \n",
       "1187     TMF010    14   NOT    2024-01-30           0.0    0.0   \n",
       "\n",
       "      tempo_esperado_min    reparo  \n",
       "0                  480.0  0.000000  \n",
       "1                  480.0  0.000000  \n",
       "2                  480.0  0.000000  \n",
       "3                  480.0  0.000000  \n",
       "4                  480.0  0.000000  \n",
       "...                  ...       ...  \n",
       "1183               480.0  0.000000  \n",
       "1184               480.0  0.000000  \n",
       "1185               480.0  0.095833  \n",
       "1186               480.0  0.000000  \n",
       "1187               480.0  0.000000  \n",
       "\n",
       "[1188 rows x 8 columns]"
      ]
     },
     "execution_count": 43,
     "metadata": {},
     "output_type": "execute_result"
    }
   ],
   "source": [
    "df_reparos = times_data.get_reparos_data(\n",
    "    df_maq_info_occ_combined.copy(), df_maq_info_production_cleaned.copy()\n",
    ")\n",
    "df_reparos"
   ]
  },
  {
   "cell_type": "markdown",
   "metadata": {},
   "source": [
    "# Gráficos\n"
   ]
  },
  {
   "cell_type": "code",
   "execution_count": 62,
   "metadata": {},
   "outputs": [
    {
     "data": {
      "application/vnd.plotly.v1+json": {
       "config": {
        "plotlyServerURL": "https://plot.ly"
       },
       "data": [
        {
         "colorscale": [
          [
           0,
           "#e30613"
          ],
          [
           0.9,
           "#e30613"
          ],
          [
           0.9,
           "#00a13a"
          ],
          [
           1,
           "#00a13a"
          ]
         ],
         "hoverongaps": false,
         "hovertemplate": "Turno: %{y}<br>Dia: %{x}<br>Valor: %{z:.1%}",
         "showscale": false,
         "type": "heatmap",
         "x": [
          1,
          2,
          3,
          4,
          5,
          6,
          7,
          8,
          9,
          10,
          11,
          12,
          13,
          14,
          15,
          16,
          17,
          18,
          19,
          20,
          21,
          22,
          23,
          24,
          25,
          26,
          27,
          28,
          29,
          30
         ],
         "xgap": 1,
         "y": [
          "VES",
          "MAT",
          "NOT"
         ],
         "ygap": 1,
         "z": [
          [
           0,
           0.00290599730458221,
           0.4754584616865614,
           0.5805945303246688,
           0.6207843986651264,
           0.4565785040431267,
           0.002302336028751123,
           0.5083790591708381,
           0.6218715322238472,
           0.6460539404441021,
           0.5215593312796817,
           0.020510444743935312,
           0,
           0.00012094823415578133,
           0.38337170560047923,
           0.4895011070465922,
           0.5163610255422924,
           0.22609020023103582,
           0.00009827044025157232,
           0,
           0.0009827044025157233,
           0.4415542335539507,
           0.5430994966927265,
           0.5716414089055598,
           0.4989346413547656,
           0.5220827717879605,
           0.05345911949685534,
           0.05296020803096275,
           0.26053761490082245,
           null
          ],
          [
           0,
           0,
           0.5054449356972848,
           0.5449913552614746,
           0.5782118732214468,
           0.5232419618790912,
           0,
           0.5246922441653056,
           0.5296856950327301,
           0.5349514583799889,
           0.5670581438485393,
           0.472388011808497,
           0,
           0,
           0.4203941967354684,
           0.4207358651007573,
           0.4939234687736248,
           0.43473322283364346,
           0,
           0,
           0,
           0.3987216832662928,
           0.43757812294413306,
           0.4554420433846304,
           0.49847681023634477,
           0.4999589428175721,
           0.32499222475637574,
           0,
           0.2512591575091575,
           0.00499151442547669
          ],
          [
           0,
           0,
           0.4230542452830189,
           0.5122136118598383,
           0.5284623283275575,
           0.5188017423950713,
           0,
           0.5183818312319974,
           0.5112549736875882,
           0.5172599488173476,
           0.497206311769991,
           0.4600580798357079,
           0,
           0,
           0.4817108991637294,
           0.4579800277029051,
           0.4658720799640611,
           0.504410136696188,
           0,
           0,
           0.000015118529269472667,
           0.4695747763296466,
           0.46904805100559815,
           0.4596788824383164,
           0.518753455663833,
           0.502992234629701,
           0.3580029595808786,
           0,
           0.3342818244950755,
           0.4748079565643384
          ]
         ],
         "zmax": 1,
         "zmin": 0
        }
       ],
       "layout": {
        "annotations": [
         {
          "font": {
           "color": "white",
           "size": 8
          },
          "showarrow": false,
          "text": "0.0%",
          "x": 1,
          "y": "VES"
         },
         {
          "font": {
           "color": "white",
           "size": 8
          },
          "showarrow": false,
          "text": "0.3%",
          "x": 2,
          "y": "VES"
         },
         {
          "font": {
           "color": "white",
           "size": 8
          },
          "showarrow": false,
          "text": "47.5%",
          "x": 3,
          "y": "VES"
         },
         {
          "font": {
           "color": "white",
           "size": 8
          },
          "showarrow": false,
          "text": "58.1%",
          "x": 4,
          "y": "VES"
         },
         {
          "font": {
           "color": "white",
           "size": 8
          },
          "showarrow": false,
          "text": "62.1%",
          "x": 5,
          "y": "VES"
         },
         {
          "font": {
           "color": "white",
           "size": 8
          },
          "showarrow": false,
          "text": "45.7%",
          "x": 6,
          "y": "VES"
         },
         {
          "font": {
           "color": "white",
           "size": 8
          },
          "showarrow": false,
          "text": "0.2%",
          "x": 7,
          "y": "VES"
         },
         {
          "font": {
           "color": "white",
           "size": 8
          },
          "showarrow": false,
          "text": "50.8%",
          "x": 8,
          "y": "VES"
         },
         {
          "font": {
           "color": "white",
           "size": 8
          },
          "showarrow": false,
          "text": "62.2%",
          "x": 9,
          "y": "VES"
         },
         {
          "font": {
           "color": "white",
           "size": 8
          },
          "showarrow": false,
          "text": "64.6%",
          "x": 10,
          "y": "VES"
         },
         {
          "font": {
           "color": "white",
           "size": 8
          },
          "showarrow": false,
          "text": "52.2%",
          "x": 11,
          "y": "VES"
         },
         {
          "font": {
           "color": "white",
           "size": 8
          },
          "showarrow": false,
          "text": "2.1%",
          "x": 12,
          "y": "VES"
         },
         {
          "font": {
           "color": "white",
           "size": 8
          },
          "showarrow": false,
          "text": "0.0%",
          "x": 13,
          "y": "VES"
         },
         {
          "font": {
           "color": "white",
           "size": 8
          },
          "showarrow": false,
          "text": "0.0%",
          "x": 14,
          "y": "VES"
         },
         {
          "font": {
           "color": "white",
           "size": 8
          },
          "showarrow": false,
          "text": "38.3%",
          "x": 15,
          "y": "VES"
         },
         {
          "font": {
           "color": "white",
           "size": 8
          },
          "showarrow": false,
          "text": "49.0%",
          "x": 16,
          "y": "VES"
         },
         {
          "font": {
           "color": "white",
           "size": 8
          },
          "showarrow": false,
          "text": "51.6%",
          "x": 17,
          "y": "VES"
         },
         {
          "font": {
           "color": "white",
           "size": 8
          },
          "showarrow": false,
          "text": "22.6%",
          "x": 18,
          "y": "VES"
         },
         {
          "font": {
           "color": "white",
           "size": 8
          },
          "showarrow": false,
          "text": "0.0%",
          "x": 19,
          "y": "VES"
         },
         {
          "font": {
           "color": "white",
           "size": 8
          },
          "showarrow": false,
          "text": "0.0%",
          "x": 20,
          "y": "VES"
         },
         {
          "font": {
           "color": "white",
           "size": 8
          },
          "showarrow": false,
          "text": "0.1%",
          "x": 21,
          "y": "VES"
         },
         {
          "font": {
           "color": "white",
           "size": 8
          },
          "showarrow": false,
          "text": "44.2%",
          "x": 22,
          "y": "VES"
         },
         {
          "font": {
           "color": "white",
           "size": 8
          },
          "showarrow": false,
          "text": "54.3%",
          "x": 23,
          "y": "VES"
         },
         {
          "font": {
           "color": "white",
           "size": 8
          },
          "showarrow": false,
          "text": "57.2%",
          "x": 24,
          "y": "VES"
         },
         {
          "font": {
           "color": "white",
           "size": 8
          },
          "showarrow": false,
          "text": "49.9%",
          "x": 25,
          "y": "VES"
         },
         {
          "font": {
           "color": "white",
           "size": 8
          },
          "showarrow": false,
          "text": "52.2%",
          "x": 26,
          "y": "VES"
         },
         {
          "font": {
           "color": "white",
           "size": 8
          },
          "showarrow": false,
          "text": "5.3%",
          "x": 27,
          "y": "VES"
         },
         {
          "font": {
           "color": "white",
           "size": 8
          },
          "showarrow": false,
          "text": "5.3%",
          "x": 28,
          "y": "VES"
         },
         {
          "font": {
           "color": "white",
           "size": 8
          },
          "showarrow": false,
          "text": "26.1%",
          "x": 29,
          "y": "VES"
         },
         {
          "font": {
           "color": "white",
           "size": 8
          },
          "showarrow": false,
          "text": "nan%",
          "x": 30,
          "y": "VES"
         },
         {
          "font": {
           "color": "white",
           "size": 8
          },
          "showarrow": false,
          "text": "0.0%",
          "x": 1,
          "y": "MAT"
         },
         {
          "font": {
           "color": "white",
           "size": 8
          },
          "showarrow": false,
          "text": "0.0%",
          "x": 2,
          "y": "MAT"
         },
         {
          "font": {
           "color": "white",
           "size": 8
          },
          "showarrow": false,
          "text": "50.5%",
          "x": 3,
          "y": "MAT"
         },
         {
          "font": {
           "color": "white",
           "size": 8
          },
          "showarrow": false,
          "text": "54.5%",
          "x": 4,
          "y": "MAT"
         },
         {
          "font": {
           "color": "white",
           "size": 8
          },
          "showarrow": false,
          "text": "57.8%",
          "x": 5,
          "y": "MAT"
         },
         {
          "font": {
           "color": "white",
           "size": 8
          },
          "showarrow": false,
          "text": "52.3%",
          "x": 6,
          "y": "MAT"
         },
         {
          "font": {
           "color": "white",
           "size": 8
          },
          "showarrow": false,
          "text": "0.0%",
          "x": 7,
          "y": "MAT"
         },
         {
          "font": {
           "color": "white",
           "size": 8
          },
          "showarrow": false,
          "text": "52.5%",
          "x": 8,
          "y": "MAT"
         },
         {
          "font": {
           "color": "white",
           "size": 8
          },
          "showarrow": false,
          "text": "53.0%",
          "x": 9,
          "y": "MAT"
         },
         {
          "font": {
           "color": "white",
           "size": 8
          },
          "showarrow": false,
          "text": "53.5%",
          "x": 10,
          "y": "MAT"
         },
         {
          "font": {
           "color": "white",
           "size": 8
          },
          "showarrow": false,
          "text": "56.7%",
          "x": 11,
          "y": "MAT"
         },
         {
          "font": {
           "color": "white",
           "size": 8
          },
          "showarrow": false,
          "text": "47.2%",
          "x": 12,
          "y": "MAT"
         },
         {
          "font": {
           "color": "white",
           "size": 8
          },
          "showarrow": false,
          "text": "0.0%",
          "x": 13,
          "y": "MAT"
         },
         {
          "font": {
           "color": "white",
           "size": 8
          },
          "showarrow": false,
          "text": "0.0%",
          "x": 14,
          "y": "MAT"
         },
         {
          "font": {
           "color": "white",
           "size": 8
          },
          "showarrow": false,
          "text": "42.0%",
          "x": 15,
          "y": "MAT"
         },
         {
          "font": {
           "color": "white",
           "size": 8
          },
          "showarrow": false,
          "text": "42.1%",
          "x": 16,
          "y": "MAT"
         },
         {
          "font": {
           "color": "white",
           "size": 8
          },
          "showarrow": false,
          "text": "49.4%",
          "x": 17,
          "y": "MAT"
         },
         {
          "font": {
           "color": "white",
           "size": 8
          },
          "showarrow": false,
          "text": "43.5%",
          "x": 18,
          "y": "MAT"
         },
         {
          "font": {
           "color": "white",
           "size": 8
          },
          "showarrow": false,
          "text": "0.0%",
          "x": 19,
          "y": "MAT"
         },
         {
          "font": {
           "color": "white",
           "size": 8
          },
          "showarrow": false,
          "text": "0.0%",
          "x": 20,
          "y": "MAT"
         },
         {
          "font": {
           "color": "white",
           "size": 8
          },
          "showarrow": false,
          "text": "0.0%",
          "x": 21,
          "y": "MAT"
         },
         {
          "font": {
           "color": "white",
           "size": 8
          },
          "showarrow": false,
          "text": "39.9%",
          "x": 22,
          "y": "MAT"
         },
         {
          "font": {
           "color": "white",
           "size": 8
          },
          "showarrow": false,
          "text": "43.8%",
          "x": 23,
          "y": "MAT"
         },
         {
          "font": {
           "color": "white",
           "size": 8
          },
          "showarrow": false,
          "text": "45.5%",
          "x": 24,
          "y": "MAT"
         },
         {
          "font": {
           "color": "white",
           "size": 8
          },
          "showarrow": false,
          "text": "49.8%",
          "x": 25,
          "y": "MAT"
         },
         {
          "font": {
           "color": "white",
           "size": 8
          },
          "showarrow": false,
          "text": "50.0%",
          "x": 26,
          "y": "MAT"
         },
         {
          "font": {
           "color": "white",
           "size": 8
          },
          "showarrow": false,
          "text": "32.5%",
          "x": 27,
          "y": "MAT"
         },
         {
          "font": {
           "color": "white",
           "size": 8
          },
          "showarrow": false,
          "text": "0.0%",
          "x": 28,
          "y": "MAT"
         },
         {
          "font": {
           "color": "white",
           "size": 8
          },
          "showarrow": false,
          "text": "25.1%",
          "x": 29,
          "y": "MAT"
         },
         {
          "font": {
           "color": "white",
           "size": 8
          },
          "showarrow": false,
          "text": "0.5%",
          "x": 30,
          "y": "MAT"
         },
         {
          "font": {
           "color": "white",
           "size": 8
          },
          "showarrow": false,
          "text": "0.0%",
          "x": 1,
          "y": "NOT"
         },
         {
          "font": {
           "color": "white",
           "size": 8
          },
          "showarrow": false,
          "text": "0.0%",
          "x": 2,
          "y": "NOT"
         },
         {
          "font": {
           "color": "white",
           "size": 8
          },
          "showarrow": false,
          "text": "42.3%",
          "x": 3,
          "y": "NOT"
         },
         {
          "font": {
           "color": "white",
           "size": 8
          },
          "showarrow": false,
          "text": "51.2%",
          "x": 4,
          "y": "NOT"
         },
         {
          "font": {
           "color": "white",
           "size": 8
          },
          "showarrow": false,
          "text": "52.8%",
          "x": 5,
          "y": "NOT"
         },
         {
          "font": {
           "color": "white",
           "size": 8
          },
          "showarrow": false,
          "text": "51.9%",
          "x": 6,
          "y": "NOT"
         },
         {
          "font": {
           "color": "white",
           "size": 8
          },
          "showarrow": false,
          "text": "0.0%",
          "x": 7,
          "y": "NOT"
         },
         {
          "font": {
           "color": "white",
           "size": 8
          },
          "showarrow": false,
          "text": "51.8%",
          "x": 8,
          "y": "NOT"
         },
         {
          "font": {
           "color": "white",
           "size": 8
          },
          "showarrow": false,
          "text": "51.1%",
          "x": 9,
          "y": "NOT"
         },
         {
          "font": {
           "color": "white",
           "size": 8
          },
          "showarrow": false,
          "text": "51.7%",
          "x": 10,
          "y": "NOT"
         },
         {
          "font": {
           "color": "white",
           "size": 8
          },
          "showarrow": false,
          "text": "49.7%",
          "x": 11,
          "y": "NOT"
         },
         {
          "font": {
           "color": "white",
           "size": 8
          },
          "showarrow": false,
          "text": "46.0%",
          "x": 12,
          "y": "NOT"
         },
         {
          "font": {
           "color": "white",
           "size": 8
          },
          "showarrow": false,
          "text": "0.0%",
          "x": 13,
          "y": "NOT"
         },
         {
          "font": {
           "color": "white",
           "size": 8
          },
          "showarrow": false,
          "text": "0.0%",
          "x": 14,
          "y": "NOT"
         },
         {
          "font": {
           "color": "white",
           "size": 8
          },
          "showarrow": false,
          "text": "48.2%",
          "x": 15,
          "y": "NOT"
         },
         {
          "font": {
           "color": "white",
           "size": 8
          },
          "showarrow": false,
          "text": "45.8%",
          "x": 16,
          "y": "NOT"
         },
         {
          "font": {
           "color": "white",
           "size": 8
          },
          "showarrow": false,
          "text": "46.6%",
          "x": 17,
          "y": "NOT"
         },
         {
          "font": {
           "color": "white",
           "size": 8
          },
          "showarrow": false,
          "text": "50.4%",
          "x": 18,
          "y": "NOT"
         },
         {
          "font": {
           "color": "white",
           "size": 8
          },
          "showarrow": false,
          "text": "0.0%",
          "x": 19,
          "y": "NOT"
         },
         {
          "font": {
           "color": "white",
           "size": 8
          },
          "showarrow": false,
          "text": "0.0%",
          "x": 20,
          "y": "NOT"
         },
         {
          "font": {
           "color": "white",
           "size": 8
          },
          "showarrow": false,
          "text": "0.0%",
          "x": 21,
          "y": "NOT"
         },
         {
          "font": {
           "color": "white",
           "size": 8
          },
          "showarrow": false,
          "text": "47.0%",
          "x": 22,
          "y": "NOT"
         },
         {
          "font": {
           "color": "white",
           "size": 8
          },
          "showarrow": false,
          "text": "46.9%",
          "x": 23,
          "y": "NOT"
         },
         {
          "font": {
           "color": "white",
           "size": 8
          },
          "showarrow": false,
          "text": "46.0%",
          "x": 24,
          "y": "NOT"
         },
         {
          "font": {
           "color": "white",
           "size": 8
          },
          "showarrow": false,
          "text": "51.9%",
          "x": 25,
          "y": "NOT"
         },
         {
          "font": {
           "color": "white",
           "size": 8
          },
          "showarrow": false,
          "text": "50.3%",
          "x": 26,
          "y": "NOT"
         },
         {
          "font": {
           "color": "white",
           "size": 8
          },
          "showarrow": false,
          "text": "35.8%",
          "x": 27,
          "y": "NOT"
         },
         {
          "font": {
           "color": "white",
           "size": 8
          },
          "showarrow": false,
          "text": "0.0%",
          "x": 28,
          "y": "NOT"
         },
         {
          "font": {
           "color": "white",
           "size": 8
          },
          "showarrow": false,
          "text": "33.4%",
          "x": 29,
          "y": "NOT"
         },
         {
          "font": {
           "color": "white",
           "size": 8
          },
          "showarrow": false,
          "text": "47.5%",
          "x": 30,
          "y": "NOT"
         }
        ],
        "font": {
         "family": "Inter"
        },
        "margin": {
         "b": 40,
         "l": 40,
         "r": 40,
         "t": 40
        },
        "plot_bgcolor": "white",
        "template": {
         "data": {
          "bar": [
           {
            "error_x": {
             "color": "#2a3f5f"
            },
            "error_y": {
             "color": "#2a3f5f"
            },
            "marker": {
             "line": {
              "color": "#E5ECF6",
              "width": 0.5
             },
             "pattern": {
              "fillmode": "overlay",
              "size": 10,
              "solidity": 0.2
             }
            },
            "type": "bar"
           }
          ],
          "barpolar": [
           {
            "marker": {
             "line": {
              "color": "#E5ECF6",
              "width": 0.5
             },
             "pattern": {
              "fillmode": "overlay",
              "size": 10,
              "solidity": 0.2
             }
            },
            "type": "barpolar"
           }
          ],
          "carpet": [
           {
            "aaxis": {
             "endlinecolor": "#2a3f5f",
             "gridcolor": "white",
             "linecolor": "white",
             "minorgridcolor": "white",
             "startlinecolor": "#2a3f5f"
            },
            "baxis": {
             "endlinecolor": "#2a3f5f",
             "gridcolor": "white",
             "linecolor": "white",
             "minorgridcolor": "white",
             "startlinecolor": "#2a3f5f"
            },
            "type": "carpet"
           }
          ],
          "choropleth": [
           {
            "colorbar": {
             "outlinewidth": 0,
             "ticks": ""
            },
            "type": "choropleth"
           }
          ],
          "contour": [
           {
            "colorbar": {
             "outlinewidth": 0,
             "ticks": ""
            },
            "colorscale": [
             [
              0,
              "#0d0887"
             ],
             [
              0.1111111111111111,
              "#46039f"
             ],
             [
              0.2222222222222222,
              "#7201a8"
             ],
             [
              0.3333333333333333,
              "#9c179e"
             ],
             [
              0.4444444444444444,
              "#bd3786"
             ],
             [
              0.5555555555555556,
              "#d8576b"
             ],
             [
              0.6666666666666666,
              "#ed7953"
             ],
             [
              0.7777777777777778,
              "#fb9f3a"
             ],
             [
              0.8888888888888888,
              "#fdca26"
             ],
             [
              1,
              "#f0f921"
             ]
            ],
            "type": "contour"
           }
          ],
          "contourcarpet": [
           {
            "colorbar": {
             "outlinewidth": 0,
             "ticks": ""
            },
            "type": "contourcarpet"
           }
          ],
          "heatmap": [
           {
            "colorbar": {
             "outlinewidth": 0,
             "ticks": ""
            },
            "colorscale": [
             [
              0,
              "#0d0887"
             ],
             [
              0.1111111111111111,
              "#46039f"
             ],
             [
              0.2222222222222222,
              "#7201a8"
             ],
             [
              0.3333333333333333,
              "#9c179e"
             ],
             [
              0.4444444444444444,
              "#bd3786"
             ],
             [
              0.5555555555555556,
              "#d8576b"
             ],
             [
              0.6666666666666666,
              "#ed7953"
             ],
             [
              0.7777777777777778,
              "#fb9f3a"
             ],
             [
              0.8888888888888888,
              "#fdca26"
             ],
             [
              1,
              "#f0f921"
             ]
            ],
            "type": "heatmap"
           }
          ],
          "heatmapgl": [
           {
            "colorbar": {
             "outlinewidth": 0,
             "ticks": ""
            },
            "colorscale": [
             [
              0,
              "#0d0887"
             ],
             [
              0.1111111111111111,
              "#46039f"
             ],
             [
              0.2222222222222222,
              "#7201a8"
             ],
             [
              0.3333333333333333,
              "#9c179e"
             ],
             [
              0.4444444444444444,
              "#bd3786"
             ],
             [
              0.5555555555555556,
              "#d8576b"
             ],
             [
              0.6666666666666666,
              "#ed7953"
             ],
             [
              0.7777777777777778,
              "#fb9f3a"
             ],
             [
              0.8888888888888888,
              "#fdca26"
             ],
             [
              1,
              "#f0f921"
             ]
            ],
            "type": "heatmapgl"
           }
          ],
          "histogram": [
           {
            "marker": {
             "pattern": {
              "fillmode": "overlay",
              "size": 10,
              "solidity": 0.2
             }
            },
            "type": "histogram"
           }
          ],
          "histogram2d": [
           {
            "colorbar": {
             "outlinewidth": 0,
             "ticks": ""
            },
            "colorscale": [
             [
              0,
              "#0d0887"
             ],
             [
              0.1111111111111111,
              "#46039f"
             ],
             [
              0.2222222222222222,
              "#7201a8"
             ],
             [
              0.3333333333333333,
              "#9c179e"
             ],
             [
              0.4444444444444444,
              "#bd3786"
             ],
             [
              0.5555555555555556,
              "#d8576b"
             ],
             [
              0.6666666666666666,
              "#ed7953"
             ],
             [
              0.7777777777777778,
              "#fb9f3a"
             ],
             [
              0.8888888888888888,
              "#fdca26"
             ],
             [
              1,
              "#f0f921"
             ]
            ],
            "type": "histogram2d"
           }
          ],
          "histogram2dcontour": [
           {
            "colorbar": {
             "outlinewidth": 0,
             "ticks": ""
            },
            "colorscale": [
             [
              0,
              "#0d0887"
             ],
             [
              0.1111111111111111,
              "#46039f"
             ],
             [
              0.2222222222222222,
              "#7201a8"
             ],
             [
              0.3333333333333333,
              "#9c179e"
             ],
             [
              0.4444444444444444,
              "#bd3786"
             ],
             [
              0.5555555555555556,
              "#d8576b"
             ],
             [
              0.6666666666666666,
              "#ed7953"
             ],
             [
              0.7777777777777778,
              "#fb9f3a"
             ],
             [
              0.8888888888888888,
              "#fdca26"
             ],
             [
              1,
              "#f0f921"
             ]
            ],
            "type": "histogram2dcontour"
           }
          ],
          "mesh3d": [
           {
            "colorbar": {
             "outlinewidth": 0,
             "ticks": ""
            },
            "type": "mesh3d"
           }
          ],
          "parcoords": [
           {
            "line": {
             "colorbar": {
              "outlinewidth": 0,
              "ticks": ""
             }
            },
            "type": "parcoords"
           }
          ],
          "pie": [
           {
            "automargin": true,
            "type": "pie"
           }
          ],
          "scatter": [
           {
            "fillpattern": {
             "fillmode": "overlay",
             "size": 10,
             "solidity": 0.2
            },
            "type": "scatter"
           }
          ],
          "scatter3d": [
           {
            "line": {
             "colorbar": {
              "outlinewidth": 0,
              "ticks": ""
             }
            },
            "marker": {
             "colorbar": {
              "outlinewidth": 0,
              "ticks": ""
             }
            },
            "type": "scatter3d"
           }
          ],
          "scattercarpet": [
           {
            "marker": {
             "colorbar": {
              "outlinewidth": 0,
              "ticks": ""
             }
            },
            "type": "scattercarpet"
           }
          ],
          "scattergeo": [
           {
            "marker": {
             "colorbar": {
              "outlinewidth": 0,
              "ticks": ""
             }
            },
            "type": "scattergeo"
           }
          ],
          "scattergl": [
           {
            "marker": {
             "colorbar": {
              "outlinewidth": 0,
              "ticks": ""
             }
            },
            "type": "scattergl"
           }
          ],
          "scattermapbox": [
           {
            "marker": {
             "colorbar": {
              "outlinewidth": 0,
              "ticks": ""
             }
            },
            "type": "scattermapbox"
           }
          ],
          "scatterpolar": [
           {
            "marker": {
             "colorbar": {
              "outlinewidth": 0,
              "ticks": ""
             }
            },
            "type": "scatterpolar"
           }
          ],
          "scatterpolargl": [
           {
            "marker": {
             "colorbar": {
              "outlinewidth": 0,
              "ticks": ""
             }
            },
            "type": "scatterpolargl"
           }
          ],
          "scatterternary": [
           {
            "marker": {
             "colorbar": {
              "outlinewidth": 0,
              "ticks": ""
             }
            },
            "type": "scatterternary"
           }
          ],
          "surface": [
           {
            "colorbar": {
             "outlinewidth": 0,
             "ticks": ""
            },
            "colorscale": [
             [
              0,
              "#0d0887"
             ],
             [
              0.1111111111111111,
              "#46039f"
             ],
             [
              0.2222222222222222,
              "#7201a8"
             ],
             [
              0.3333333333333333,
              "#9c179e"
             ],
             [
              0.4444444444444444,
              "#bd3786"
             ],
             [
              0.5555555555555556,
              "#d8576b"
             ],
             [
              0.6666666666666666,
              "#ed7953"
             ],
             [
              0.7777777777777778,
              "#fb9f3a"
             ],
             [
              0.8888888888888888,
              "#fdca26"
             ],
             [
              1,
              "#f0f921"
             ]
            ],
            "type": "surface"
           }
          ],
          "table": [
           {
            "cells": {
             "fill": {
              "color": "#EBF0F8"
             },
             "line": {
              "color": "white"
             }
            },
            "header": {
             "fill": {
              "color": "#C8D4E3"
             },
             "line": {
              "color": "white"
             }
            },
            "type": "table"
           }
          ]
         },
         "layout": {
          "annotationdefaults": {
           "arrowcolor": "#2a3f5f",
           "arrowhead": 0,
           "arrowwidth": 1
          },
          "autotypenumbers": "strict",
          "coloraxis": {
           "colorbar": {
            "outlinewidth": 0,
            "ticks": ""
           }
          },
          "colorscale": {
           "diverging": [
            [
             0,
             "#8e0152"
            ],
            [
             0.1,
             "#c51b7d"
            ],
            [
             0.2,
             "#de77ae"
            ],
            [
             0.3,
             "#f1b6da"
            ],
            [
             0.4,
             "#fde0ef"
            ],
            [
             0.5,
             "#f7f7f7"
            ],
            [
             0.6,
             "#e6f5d0"
            ],
            [
             0.7,
             "#b8e186"
            ],
            [
             0.8,
             "#7fbc41"
            ],
            [
             0.9,
             "#4d9221"
            ],
            [
             1,
             "#276419"
            ]
           ],
           "sequential": [
            [
             0,
             "#0d0887"
            ],
            [
             0.1111111111111111,
             "#46039f"
            ],
            [
             0.2222222222222222,
             "#7201a8"
            ],
            [
             0.3333333333333333,
             "#9c179e"
            ],
            [
             0.4444444444444444,
             "#bd3786"
            ],
            [
             0.5555555555555556,
             "#d8576b"
            ],
            [
             0.6666666666666666,
             "#ed7953"
            ],
            [
             0.7777777777777778,
             "#fb9f3a"
            ],
            [
             0.8888888888888888,
             "#fdca26"
            ],
            [
             1,
             "#f0f921"
            ]
           ],
           "sequentialminus": [
            [
             0,
             "#0d0887"
            ],
            [
             0.1111111111111111,
             "#46039f"
            ],
            [
             0.2222222222222222,
             "#7201a8"
            ],
            [
             0.3333333333333333,
             "#9c179e"
            ],
            [
             0.4444444444444444,
             "#bd3786"
            ],
            [
             0.5555555555555556,
             "#d8576b"
            ],
            [
             0.6666666666666666,
             "#ed7953"
            ],
            [
             0.7777777777777778,
             "#fb9f3a"
            ],
            [
             0.8888888888888888,
             "#fdca26"
            ],
            [
             1,
             "#f0f921"
            ]
           ]
          },
          "colorway": [
           "#636efa",
           "#EF553B",
           "#00cc96",
           "#ab63fa",
           "#FFA15A",
           "#19d3f3",
           "#FF6692",
           "#B6E880",
           "#FF97FF",
           "#FECB52"
          ],
          "font": {
           "color": "#2a3f5f"
          },
          "geo": {
           "bgcolor": "white",
           "lakecolor": "white",
           "landcolor": "#E5ECF6",
           "showlakes": true,
           "showland": true,
           "subunitcolor": "white"
          },
          "hoverlabel": {
           "align": "left"
          },
          "hovermode": "closest",
          "mapbox": {
           "style": "light"
          },
          "paper_bgcolor": "white",
          "plot_bgcolor": "#E5ECF6",
          "polar": {
           "angularaxis": {
            "gridcolor": "white",
            "linecolor": "white",
            "ticks": ""
           },
           "bgcolor": "#E5ECF6",
           "radialaxis": {
            "gridcolor": "white",
            "linecolor": "white",
            "ticks": ""
           }
          },
          "scene": {
           "xaxis": {
            "backgroundcolor": "#E5ECF6",
            "gridcolor": "white",
            "gridwidth": 2,
            "linecolor": "white",
            "showbackground": true,
            "ticks": "",
            "zerolinecolor": "white"
           },
           "yaxis": {
            "backgroundcolor": "#E5ECF6",
            "gridcolor": "white",
            "gridwidth": 2,
            "linecolor": "white",
            "showbackground": true,
            "ticks": "",
            "zerolinecolor": "white"
           },
           "zaxis": {
            "backgroundcolor": "#E5ECF6",
            "gridcolor": "white",
            "gridwidth": 2,
            "linecolor": "white",
            "showbackground": true,
            "ticks": "",
            "zerolinecolor": "white"
           }
          },
          "shapedefaults": {
           "line": {
            "color": "#2a3f5f"
           }
          },
          "ternary": {
           "aaxis": {
            "gridcolor": "white",
            "linecolor": "white",
            "ticks": ""
           },
           "baxis": {
            "gridcolor": "white",
            "linecolor": "white",
            "ticks": ""
           },
           "bgcolor": "#E5ECF6",
           "caxis": {
            "gridcolor": "white",
            "linecolor": "white",
            "ticks": ""
           }
          },
          "title": {
           "x": 0.05
          },
          "xaxis": {
           "automargin": true,
           "gridcolor": "white",
           "linecolor": "white",
           "ticks": "",
           "title": {
            "standoff": 15
           },
           "zerolinecolor": "white",
           "zerolinewidth": 2
          },
          "yaxis": {
           "automargin": true,
           "gridcolor": "white",
           "linecolor": "white",
           "ticks": "",
           "title": {
            "standoff": 15
           },
           "zerolinecolor": "white",
           "zerolinewidth": 2
          }
         }
        },
        "title": {
         "text": "Eficiência - Meta 85%",
         "x": 0.5
        },
        "xaxis": {
         "nticks": 31,
         "tickangle": 45,
         "tickmode": "linear",
         "ticktext": [
          1,
          2,
          3,
          4,
          5,
          6,
          7,
          8,
          9,
          10,
          11,
          12,
          13,
          14,
          15,
          16,
          17,
          18,
          19,
          20,
          21,
          22,
          23,
          24,
          25,
          26,
          27,
          28,
          29,
          30,
          31
         ],
         "tickvals": [
          1,
          2,
          3,
          4,
          5,
          6,
          7,
          8,
          9,
          10,
          11,
          12,
          13,
          14,
          15,
          16,
          17,
          18,
          19,
          20,
          21,
          22,
          23,
          24,
          25,
          26,
          27,
          28,
          29,
          30,
          31
         ],
         "title": {
          "text": "Dia"
         }
        },
        "yaxis": {
         "tickangle": 45,
         "tickmode": "linear",
         "title": {
          "text": "Turno"
         }
        }
       }
      }
     },
     "metadata": {},
     "output_type": "display_data"
    }
   ],
   "source": [
    "# cSpell: disable=invalid-name\n",
    "def test(dataframe, meta):\n",
    "    # Converter 'data_registro' para datetime e criar uma nova coluna 'data_turno'\n",
    "    dataframe[\"data_registro\"] = pd.to_datetime(dataframe[\"data_registro\"])\n",
    "    dataframe[\"data_turno\"] = dataframe[\"data_registro\"].dt.strftime(\"%Y-%m-%d\")\n",
    "\n",
    "    # Agrupar por 'data_turno' e 'turno' e calcular a média da eficiência\n",
    "    df_grouped = (\n",
    "        dataframe.groupby([\"data_turno\", \"turno\"], observed=False)[\"eficiencia\"]\n",
    "        .mean()\n",
    "        .reset_index()\n",
    "    )\n",
    "\n",
    "    # Remodelar os dados para o formato de heatmap\n",
    "    df_pivot = df_grouped.pivot(index=\"turno\", columns=\"data_turno\", values=\"eficiencia\")\n",
    "\n",
    "    # Reordenar o índice do DataFrame\n",
    "    df_pivot = df_pivot.reindex([\"VES\", \"MAT\", \"NOT\"])\n",
    "\n",
    "    # Criar escala de cores personalizada - cores do bootstrap\n",
    "    colors = [\n",
    "        [0, \"#e30613\"],\n",
    "        [0.9, \"#e30613\"],\n",
    "        [0.9, \"#00a13a\"],\n",
    "        [1, \"#00a13a\"],\n",
    "    ]\n",
    "\n",
    "    # Extrair apenas o dia da data\n",
    "    df_pivot.columns = pd.to_datetime(df_pivot.columns).day\n",
    "\n",
    "    # Criar o gráfico de calor\n",
    "    fig = go.Figure(\n",
    "        data=go.Heatmap(\n",
    "            z=df_pivot.values,\n",
    "            x=df_pivot.columns,\n",
    "            y=df_pivot.index,\n",
    "            colorscale=colors,\n",
    "            zmin=0,\n",
    "            zmax=1,  # Escala de valores de 0 a 1\n",
    "            hoverongaps=False,\n",
    "            hovertemplate=\"Turno: %{y}<br>Dia: %{x}<br>Valor: %{z:.1%}\",\n",
    "            showscale=False,  # Não mostrar a escala de cores\n",
    "            xgap=1,  # Espaçamento entre os dias\n",
    "            ygap=1,  # Espaçamento entre os turnos\n",
    "        )\n",
    "    )\n",
    "\n",
    "    # Adicionar anotações com a média da eficiência\n",
    "    for (i, j), value in np.ndenumerate(df_pivot.values):\n",
    "        fig.add_annotation(\n",
    "            x=df_pivot.columns[j],\n",
    "            y=df_pivot.index[i],\n",
    "            text=f\"{value:.1%}\",\n",
    "            showarrow=False,\n",
    "            font=dict(color=\"white\", size=8),\n",
    "        )\n",
    "\n",
    "    # Definir o título do gráfico\n",
    "    fig.update_layout(\n",
    "        title=f\"Eficiência - Meta {meta}%\",\n",
    "        xaxis_title=\"Dia\",\n",
    "        yaxis_title=\"Turno\",\n",
    "        title_x=0.5,  # Centralizar o título\n",
    "        xaxis_nticks=31,  # Definir o número de dias\n",
    "        xaxis=dict(\n",
    "            tickmode=\"linear\",\n",
    "            tickvals=list(range(1, 32)),  # Definir os dias\n",
    "            ticktext=list(range(1, 32)),  # Definir os dias\n",
    "            tickangle=45,  # Rotacionar os dias\n",
    "        ),\n",
    "        yaxis=dict(\n",
    "            tickmode=\"linear\",\n",
    "            tickangle=45,\n",
    "        ),\n",
    "        plot_bgcolor=\"white\",\n",
    "        margin=dict(t=40, b=40, l=40, r=40),\n",
    "        font=dict({\"family\": \"Inter\"}),\n",
    "    )\n",
    "\n",
    "    fig.show()\n",
    "\n",
    "\n",
    "test(df_eff, 85)"
   ]
  },
  {
   "cell_type": "code",
   "execution_count": 69,
   "metadata": {},
   "outputs": [
    {
     "data": {
      "application/vnd.plotly.v1+json": {
       "config": {
        "plotlyServerURL": "https://plot.ly"
       },
       "data": [
        {
         "colorscale": [
          [
           0,
           "green"
          ],
          [
           0.04,
           "green"
          ],
          [
           0.04,
           "red"
          ],
          [
           1,
           "red"
          ]
         ],
         "hoverongaps": false,
         "hovertemplate": "Turno: %{y}<br>Dia: %{x}<br>Valor: %{z:.1%}",
         "showscale": false,
         "type": "heatmap",
         "x": [
          1,
          2,
          3,
          4,
          5,
          6,
          7,
          8,
          9,
          10,
          11,
          12,
          13,
          14,
          15,
          16,
          17,
          18,
          19,
          20,
          21,
          22,
          23,
          24,
          25,
          26,
          27,
          28,
          29,
          30
         ],
         "xgap": 1,
         "y": [
          "VES",
          "MAT",
          "NOT"
         ],
         "ygap": 1,
         "z": [
          [
           0,
           0.06964285714285715,
           0.16364795918367347,
           0.1281707461465599,
           0.2516156462585034,
           0,
           0.06994047619047619,
           0.27827380952380953,
           0.200356178036068,
           0.2657738095238095,
           0.2921768707482993,
           0.9068452380952381,
           0.3321428571428572,
           0,
           0.24744543650793652,
           0.2732993197278912,
           0.34285714285714286,
           0.9264880952380953,
           0.9044642857142857,
           0.4025641025641026,
           0,
           0.33600835698987724,
           0.32530839258780436,
           0.12876706626706627,
           0.16441326530612246,
           0.20255102040816328,
           0.3557692307692308,
           0.06474358974358975,
           0.26332417582417583,
           null
          ],
          [
           0,
           0,
           0.07204689798981731,
           0.08558777169404348,
           0.14513024722083956,
           0.2090986394557823,
           0,
           0.16578528342887114,
           0.1945578231292517,
           0.1738219764893405,
           0.19174520767882489,
           0.3265731292517007,
           0,
           0.27692307692307694,
           0.21319283133307526,
           0.14204931972789114,
           0.18322185333463528,
           0.2346034118493212,
           0.8,
           0,
           0,
           0.2243999669490553,
           0.2778296703296703,
           0.19392079329317824,
           0.10718966104958777,
           0.20184631544925663,
           0.22600732600732604,
           0,
           0.1507518019614794,
           0
          ],
          [
           0,
           0,
           0.23184523809523808,
           0.24961734693877552,
           0.0909438775510204,
           0.10871598639455782,
           0,
           0.15880160000293814,
           0.3403486394557823,
           0.30259353741496603,
           0.28809523809523807,
           0.3294642857142857,
           0,
           0,
           0.12637362637362637,
           0.13625992063492062,
           0.3163690476190476,
           0.25556972789115645,
           0.9285714285714286,
           0,
           0,
           0.23498465201072216,
           0.3138278388278388,
           0.3412087912087912,
           0.15906593406593408,
           0.23554421768707481,
           0.07628205128205129,
           0,
           0.24418498168498168,
           0.21667474682180565
          ]
         ],
         "zmax": 1,
         "zmin": 0
        }
       ],
       "layout": {
        "annotations": [
         {
          "font": {
           "color": "white",
           "size": 8
          },
          "showarrow": false,
          "text": "0.0%",
          "x": 1,
          "y": "VES"
         },
         {
          "font": {
           "color": "white",
           "size": 8
          },
          "showarrow": false,
          "text": "7.0%",
          "x": 2,
          "y": "VES"
         },
         {
          "font": {
           "color": "white",
           "size": 8
          },
          "showarrow": false,
          "text": "16.4%",
          "x": 3,
          "y": "VES"
         },
         {
          "font": {
           "color": "white",
           "size": 8
          },
          "showarrow": false,
          "text": "12.8%",
          "x": 4,
          "y": "VES"
         },
         {
          "font": {
           "color": "white",
           "size": 8
          },
          "showarrow": false,
          "text": "25.2%",
          "x": 5,
          "y": "VES"
         },
         {
          "font": {
           "color": "white",
           "size": 8
          },
          "showarrow": false,
          "text": "0.0%",
          "x": 6,
          "y": "VES"
         },
         {
          "font": {
           "color": "white",
           "size": 8
          },
          "showarrow": false,
          "text": "7.0%",
          "x": 7,
          "y": "VES"
         },
         {
          "font": {
           "color": "white",
           "size": 8
          },
          "showarrow": false,
          "text": "27.8%",
          "x": 8,
          "y": "VES"
         },
         {
          "font": {
           "color": "white",
           "size": 8
          },
          "showarrow": false,
          "text": "20.0%",
          "x": 9,
          "y": "VES"
         },
         {
          "font": {
           "color": "white",
           "size": 8
          },
          "showarrow": false,
          "text": "26.6%",
          "x": 10,
          "y": "VES"
         },
         {
          "font": {
           "color": "white",
           "size": 8
          },
          "showarrow": false,
          "text": "29.2%",
          "x": 11,
          "y": "VES"
         },
         {
          "font": {
           "color": "white",
           "size": 8
          },
          "showarrow": false,
          "text": "90.7%",
          "x": 12,
          "y": "VES"
         },
         {
          "font": {
           "color": "white",
           "size": 8
          },
          "showarrow": false,
          "text": "33.2%",
          "x": 13,
          "y": "VES"
         },
         {
          "font": {
           "color": "white",
           "size": 8
          },
          "showarrow": false,
          "text": "0.0%",
          "x": 14,
          "y": "VES"
         },
         {
          "font": {
           "color": "white",
           "size": 8
          },
          "showarrow": false,
          "text": "24.7%",
          "x": 15,
          "y": "VES"
         },
         {
          "font": {
           "color": "white",
           "size": 8
          },
          "showarrow": false,
          "text": "27.3%",
          "x": 16,
          "y": "VES"
         },
         {
          "font": {
           "color": "white",
           "size": 8
          },
          "showarrow": false,
          "text": "34.3%",
          "x": 17,
          "y": "VES"
         },
         {
          "font": {
           "color": "white",
           "size": 8
          },
          "showarrow": false,
          "text": "92.6%",
          "x": 18,
          "y": "VES"
         },
         {
          "font": {
           "color": "white",
           "size": 8
          },
          "showarrow": false,
          "text": "90.4%",
          "x": 19,
          "y": "VES"
         },
         {
          "font": {
           "color": "white",
           "size": 8
          },
          "showarrow": false,
          "text": "40.3%",
          "x": 20,
          "y": "VES"
         },
         {
          "font": {
           "color": "white",
           "size": 8
          },
          "showarrow": false,
          "text": "0.0%",
          "x": 21,
          "y": "VES"
         },
         {
          "font": {
           "color": "white",
           "size": 8
          },
          "showarrow": false,
          "text": "33.6%",
          "x": 22,
          "y": "VES"
         },
         {
          "font": {
           "color": "white",
           "size": 8
          },
          "showarrow": false,
          "text": "32.5%",
          "x": 23,
          "y": "VES"
         },
         {
          "font": {
           "color": "white",
           "size": 8
          },
          "showarrow": false,
          "text": "12.9%",
          "x": 24,
          "y": "VES"
         },
         {
          "font": {
           "color": "white",
           "size": 8
          },
          "showarrow": false,
          "text": "16.4%",
          "x": 25,
          "y": "VES"
         },
         {
          "font": {
           "color": "white",
           "size": 8
          },
          "showarrow": false,
          "text": "20.3%",
          "x": 26,
          "y": "VES"
         },
         {
          "font": {
           "color": "white",
           "size": 8
          },
          "showarrow": false,
          "text": "35.6%",
          "x": 27,
          "y": "VES"
         },
         {
          "font": {
           "color": "white",
           "size": 8
          },
          "showarrow": false,
          "text": "6.5%",
          "x": 28,
          "y": "VES"
         },
         {
          "font": {
           "color": "white",
           "size": 8
          },
          "showarrow": false,
          "text": "26.3%",
          "x": 29,
          "y": "VES"
         },
         {
          "font": {
           "color": "white",
           "size": 8
          },
          "showarrow": false,
          "text": "nan%",
          "x": 30,
          "y": "VES"
         },
         {
          "font": {
           "color": "white",
           "size": 8
          },
          "showarrow": false,
          "text": "0.0%",
          "x": 1,
          "y": "MAT"
         },
         {
          "font": {
           "color": "white",
           "size": 8
          },
          "showarrow": false,
          "text": "0.0%",
          "x": 2,
          "y": "MAT"
         },
         {
          "font": {
           "color": "white",
           "size": 8
          },
          "showarrow": false,
          "text": "7.2%",
          "x": 3,
          "y": "MAT"
         },
         {
          "font": {
           "color": "white",
           "size": 8
          },
          "showarrow": false,
          "text": "8.6%",
          "x": 4,
          "y": "MAT"
         },
         {
          "font": {
           "color": "white",
           "size": 8
          },
          "showarrow": false,
          "text": "14.5%",
          "x": 5,
          "y": "MAT"
         },
         {
          "font": {
           "color": "white",
           "size": 8
          },
          "showarrow": false,
          "text": "20.9%",
          "x": 6,
          "y": "MAT"
         },
         {
          "font": {
           "color": "white",
           "size": 8
          },
          "showarrow": false,
          "text": "0.0%",
          "x": 7,
          "y": "MAT"
         },
         {
          "font": {
           "color": "white",
           "size": 8
          },
          "showarrow": false,
          "text": "16.6%",
          "x": 8,
          "y": "MAT"
         },
         {
          "font": {
           "color": "white",
           "size": 8
          },
          "showarrow": false,
          "text": "19.5%",
          "x": 9,
          "y": "MAT"
         },
         {
          "font": {
           "color": "white",
           "size": 8
          },
          "showarrow": false,
          "text": "17.4%",
          "x": 10,
          "y": "MAT"
         },
         {
          "font": {
           "color": "white",
           "size": 8
          },
          "showarrow": false,
          "text": "19.2%",
          "x": 11,
          "y": "MAT"
         },
         {
          "font": {
           "color": "white",
           "size": 8
          },
          "showarrow": false,
          "text": "32.7%",
          "x": 12,
          "y": "MAT"
         },
         {
          "font": {
           "color": "white",
           "size": 8
          },
          "showarrow": false,
          "text": "0.0%",
          "x": 13,
          "y": "MAT"
         },
         {
          "font": {
           "color": "white",
           "size": 8
          },
          "showarrow": false,
          "text": "27.7%",
          "x": 14,
          "y": "MAT"
         },
         {
          "font": {
           "color": "white",
           "size": 8
          },
          "showarrow": false,
          "text": "21.3%",
          "x": 15,
          "y": "MAT"
         },
         {
          "font": {
           "color": "white",
           "size": 8
          },
          "showarrow": false,
          "text": "14.2%",
          "x": 16,
          "y": "MAT"
         },
         {
          "font": {
           "color": "white",
           "size": 8
          },
          "showarrow": false,
          "text": "18.3%",
          "x": 17,
          "y": "MAT"
         },
         {
          "font": {
           "color": "white",
           "size": 8
          },
          "showarrow": false,
          "text": "23.5%",
          "x": 18,
          "y": "MAT"
         },
         {
          "font": {
           "color": "white",
           "size": 8
          },
          "showarrow": false,
          "text": "80.0%",
          "x": 19,
          "y": "MAT"
         },
         {
          "font": {
           "color": "white",
           "size": 8
          },
          "showarrow": false,
          "text": "0.0%",
          "x": 20,
          "y": "MAT"
         },
         {
          "font": {
           "color": "white",
           "size": 8
          },
          "showarrow": false,
          "text": "0.0%",
          "x": 21,
          "y": "MAT"
         },
         {
          "font": {
           "color": "white",
           "size": 8
          },
          "showarrow": false,
          "text": "22.4%",
          "x": 22,
          "y": "MAT"
         },
         {
          "font": {
           "color": "white",
           "size": 8
          },
          "showarrow": false,
          "text": "27.8%",
          "x": 23,
          "y": "MAT"
         },
         {
          "font": {
           "color": "white",
           "size": 8
          },
          "showarrow": false,
          "text": "19.4%",
          "x": 24,
          "y": "MAT"
         },
         {
          "font": {
           "color": "white",
           "size": 8
          },
          "showarrow": false,
          "text": "10.7%",
          "x": 25,
          "y": "MAT"
         },
         {
          "font": {
           "color": "white",
           "size": 8
          },
          "showarrow": false,
          "text": "20.2%",
          "x": 26,
          "y": "MAT"
         },
         {
          "font": {
           "color": "white",
           "size": 8
          },
          "showarrow": false,
          "text": "22.6%",
          "x": 27,
          "y": "MAT"
         },
         {
          "font": {
           "color": "white",
           "size": 8
          },
          "showarrow": false,
          "text": "0.0%",
          "x": 28,
          "y": "MAT"
         },
         {
          "font": {
           "color": "white",
           "size": 8
          },
          "showarrow": false,
          "text": "15.1%",
          "x": 29,
          "y": "MAT"
         },
         {
          "font": {
           "color": "white",
           "size": 8
          },
          "showarrow": false,
          "text": "0.0%",
          "x": 30,
          "y": "MAT"
         },
         {
          "font": {
           "color": "white",
           "size": 8
          },
          "showarrow": false,
          "text": "0.0%",
          "x": 1,
          "y": "NOT"
         },
         {
          "font": {
           "color": "white",
           "size": 8
          },
          "showarrow": false,
          "text": "0.0%",
          "x": 2,
          "y": "NOT"
         },
         {
          "font": {
           "color": "white",
           "size": 8
          },
          "showarrow": false,
          "text": "23.2%",
          "x": 3,
          "y": "NOT"
         },
         {
          "font": {
           "color": "white",
           "size": 8
          },
          "showarrow": false,
          "text": "25.0%",
          "x": 4,
          "y": "NOT"
         },
         {
          "font": {
           "color": "white",
           "size": 8
          },
          "showarrow": false,
          "text": "9.1%",
          "x": 5,
          "y": "NOT"
         },
         {
          "font": {
           "color": "white",
           "size": 8
          },
          "showarrow": false,
          "text": "10.9%",
          "x": 6,
          "y": "NOT"
         },
         {
          "font": {
           "color": "white",
           "size": 8
          },
          "showarrow": false,
          "text": "0.0%",
          "x": 7,
          "y": "NOT"
         },
         {
          "font": {
           "color": "white",
           "size": 8
          },
          "showarrow": false,
          "text": "15.9%",
          "x": 8,
          "y": "NOT"
         },
         {
          "font": {
           "color": "white",
           "size": 8
          },
          "showarrow": false,
          "text": "34.0%",
          "x": 9,
          "y": "NOT"
         },
         {
          "font": {
           "color": "white",
           "size": 8
          },
          "showarrow": false,
          "text": "30.3%",
          "x": 10,
          "y": "NOT"
         },
         {
          "font": {
           "color": "white",
           "size": 8
          },
          "showarrow": false,
          "text": "28.8%",
          "x": 11,
          "y": "NOT"
         },
         {
          "font": {
           "color": "white",
           "size": 8
          },
          "showarrow": false,
          "text": "32.9%",
          "x": 12,
          "y": "NOT"
         },
         {
          "font": {
           "color": "white",
           "size": 8
          },
          "showarrow": false,
          "text": "0.0%",
          "x": 13,
          "y": "NOT"
         },
         {
          "font": {
           "color": "white",
           "size": 8
          },
          "showarrow": false,
          "text": "0.0%",
          "x": 14,
          "y": "NOT"
         },
         {
          "font": {
           "color": "white",
           "size": 8
          },
          "showarrow": false,
          "text": "12.6%",
          "x": 15,
          "y": "NOT"
         },
         {
          "font": {
           "color": "white",
           "size": 8
          },
          "showarrow": false,
          "text": "13.6%",
          "x": 16,
          "y": "NOT"
         },
         {
          "font": {
           "color": "white",
           "size": 8
          },
          "showarrow": false,
          "text": "31.6%",
          "x": 17,
          "y": "NOT"
         },
         {
          "font": {
           "color": "white",
           "size": 8
          },
          "showarrow": false,
          "text": "25.6%",
          "x": 18,
          "y": "NOT"
         },
         {
          "font": {
           "color": "white",
           "size": 8
          },
          "showarrow": false,
          "text": "92.9%",
          "x": 19,
          "y": "NOT"
         },
         {
          "font": {
           "color": "white",
           "size": 8
          },
          "showarrow": false,
          "text": "0.0%",
          "x": 20,
          "y": "NOT"
         },
         {
          "font": {
           "color": "white",
           "size": 8
          },
          "showarrow": false,
          "text": "0.0%",
          "x": 21,
          "y": "NOT"
         },
         {
          "font": {
           "color": "white",
           "size": 8
          },
          "showarrow": false,
          "text": "23.5%",
          "x": 22,
          "y": "NOT"
         },
         {
          "font": {
           "color": "white",
           "size": 8
          },
          "showarrow": false,
          "text": "31.4%",
          "x": 23,
          "y": "NOT"
         },
         {
          "font": {
           "color": "white",
           "size": 8
          },
          "showarrow": false,
          "text": "34.1%",
          "x": 24,
          "y": "NOT"
         },
         {
          "font": {
           "color": "white",
           "size": 8
          },
          "showarrow": false,
          "text": "15.9%",
          "x": 25,
          "y": "NOT"
         },
         {
          "font": {
           "color": "white",
           "size": 8
          },
          "showarrow": false,
          "text": "23.6%",
          "x": 26,
          "y": "NOT"
         },
         {
          "font": {
           "color": "white",
           "size": 8
          },
          "showarrow": false,
          "text": "7.6%",
          "x": 27,
          "y": "NOT"
         },
         {
          "font": {
           "color": "white",
           "size": 8
          },
          "showarrow": false,
          "text": "0.0%",
          "x": 28,
          "y": "NOT"
         },
         {
          "font": {
           "color": "white",
           "size": 8
          },
          "showarrow": false,
          "text": "24.4%",
          "x": 29,
          "y": "NOT"
         },
         {
          "font": {
           "color": "white",
           "size": 8
          },
          "showarrow": false,
          "text": "21.7%",
          "x": 30,
          "y": "NOT"
         }
        ],
        "font": {
         "family": "Inter"
        },
        "margin": {
         "b": 40,
         "l": 40,
         "r": 40,
         "t": 40
        },
        "plot_bgcolor": "white",
        "template": {
         "data": {
          "bar": [
           {
            "error_x": {
             "color": "#2a3f5f"
            },
            "error_y": {
             "color": "#2a3f5f"
            },
            "marker": {
             "line": {
              "color": "#E5ECF6",
              "width": 0.5
             },
             "pattern": {
              "fillmode": "overlay",
              "size": 10,
              "solidity": 0.2
             }
            },
            "type": "bar"
           }
          ],
          "barpolar": [
           {
            "marker": {
             "line": {
              "color": "#E5ECF6",
              "width": 0.5
             },
             "pattern": {
              "fillmode": "overlay",
              "size": 10,
              "solidity": 0.2
             }
            },
            "type": "barpolar"
           }
          ],
          "carpet": [
           {
            "aaxis": {
             "endlinecolor": "#2a3f5f",
             "gridcolor": "white",
             "linecolor": "white",
             "minorgridcolor": "white",
             "startlinecolor": "#2a3f5f"
            },
            "baxis": {
             "endlinecolor": "#2a3f5f",
             "gridcolor": "white",
             "linecolor": "white",
             "minorgridcolor": "white",
             "startlinecolor": "#2a3f5f"
            },
            "type": "carpet"
           }
          ],
          "choropleth": [
           {
            "colorbar": {
             "outlinewidth": 0,
             "ticks": ""
            },
            "type": "choropleth"
           }
          ],
          "contour": [
           {
            "colorbar": {
             "outlinewidth": 0,
             "ticks": ""
            },
            "colorscale": [
             [
              0,
              "#0d0887"
             ],
             [
              0.1111111111111111,
              "#46039f"
             ],
             [
              0.2222222222222222,
              "#7201a8"
             ],
             [
              0.3333333333333333,
              "#9c179e"
             ],
             [
              0.4444444444444444,
              "#bd3786"
             ],
             [
              0.5555555555555556,
              "#d8576b"
             ],
             [
              0.6666666666666666,
              "#ed7953"
             ],
             [
              0.7777777777777778,
              "#fb9f3a"
             ],
             [
              0.8888888888888888,
              "#fdca26"
             ],
             [
              1,
              "#f0f921"
             ]
            ],
            "type": "contour"
           }
          ],
          "contourcarpet": [
           {
            "colorbar": {
             "outlinewidth": 0,
             "ticks": ""
            },
            "type": "contourcarpet"
           }
          ],
          "heatmap": [
           {
            "colorbar": {
             "outlinewidth": 0,
             "ticks": ""
            },
            "colorscale": [
             [
              0,
              "#0d0887"
             ],
             [
              0.1111111111111111,
              "#46039f"
             ],
             [
              0.2222222222222222,
              "#7201a8"
             ],
             [
              0.3333333333333333,
              "#9c179e"
             ],
             [
              0.4444444444444444,
              "#bd3786"
             ],
             [
              0.5555555555555556,
              "#d8576b"
             ],
             [
              0.6666666666666666,
              "#ed7953"
             ],
             [
              0.7777777777777778,
              "#fb9f3a"
             ],
             [
              0.8888888888888888,
              "#fdca26"
             ],
             [
              1,
              "#f0f921"
             ]
            ],
            "type": "heatmap"
           }
          ],
          "heatmapgl": [
           {
            "colorbar": {
             "outlinewidth": 0,
             "ticks": ""
            },
            "colorscale": [
             [
              0,
              "#0d0887"
             ],
             [
              0.1111111111111111,
              "#46039f"
             ],
             [
              0.2222222222222222,
              "#7201a8"
             ],
             [
              0.3333333333333333,
              "#9c179e"
             ],
             [
              0.4444444444444444,
              "#bd3786"
             ],
             [
              0.5555555555555556,
              "#d8576b"
             ],
             [
              0.6666666666666666,
              "#ed7953"
             ],
             [
              0.7777777777777778,
              "#fb9f3a"
             ],
             [
              0.8888888888888888,
              "#fdca26"
             ],
             [
              1,
              "#f0f921"
             ]
            ],
            "type": "heatmapgl"
           }
          ],
          "histogram": [
           {
            "marker": {
             "pattern": {
              "fillmode": "overlay",
              "size": 10,
              "solidity": 0.2
             }
            },
            "type": "histogram"
           }
          ],
          "histogram2d": [
           {
            "colorbar": {
             "outlinewidth": 0,
             "ticks": ""
            },
            "colorscale": [
             [
              0,
              "#0d0887"
             ],
             [
              0.1111111111111111,
              "#46039f"
             ],
             [
              0.2222222222222222,
              "#7201a8"
             ],
             [
              0.3333333333333333,
              "#9c179e"
             ],
             [
              0.4444444444444444,
              "#bd3786"
             ],
             [
              0.5555555555555556,
              "#d8576b"
             ],
             [
              0.6666666666666666,
              "#ed7953"
             ],
             [
              0.7777777777777778,
              "#fb9f3a"
             ],
             [
              0.8888888888888888,
              "#fdca26"
             ],
             [
              1,
              "#f0f921"
             ]
            ],
            "type": "histogram2d"
           }
          ],
          "histogram2dcontour": [
           {
            "colorbar": {
             "outlinewidth": 0,
             "ticks": ""
            },
            "colorscale": [
             [
              0,
              "#0d0887"
             ],
             [
              0.1111111111111111,
              "#46039f"
             ],
             [
              0.2222222222222222,
              "#7201a8"
             ],
             [
              0.3333333333333333,
              "#9c179e"
             ],
             [
              0.4444444444444444,
              "#bd3786"
             ],
             [
              0.5555555555555556,
              "#d8576b"
             ],
             [
              0.6666666666666666,
              "#ed7953"
             ],
             [
              0.7777777777777778,
              "#fb9f3a"
             ],
             [
              0.8888888888888888,
              "#fdca26"
             ],
             [
              1,
              "#f0f921"
             ]
            ],
            "type": "histogram2dcontour"
           }
          ],
          "mesh3d": [
           {
            "colorbar": {
             "outlinewidth": 0,
             "ticks": ""
            },
            "type": "mesh3d"
           }
          ],
          "parcoords": [
           {
            "line": {
             "colorbar": {
              "outlinewidth": 0,
              "ticks": ""
             }
            },
            "type": "parcoords"
           }
          ],
          "pie": [
           {
            "automargin": true,
            "type": "pie"
           }
          ],
          "scatter": [
           {
            "fillpattern": {
             "fillmode": "overlay",
             "size": 10,
             "solidity": 0.2
            },
            "type": "scatter"
           }
          ],
          "scatter3d": [
           {
            "line": {
             "colorbar": {
              "outlinewidth": 0,
              "ticks": ""
             }
            },
            "marker": {
             "colorbar": {
              "outlinewidth": 0,
              "ticks": ""
             }
            },
            "type": "scatter3d"
           }
          ],
          "scattercarpet": [
           {
            "marker": {
             "colorbar": {
              "outlinewidth": 0,
              "ticks": ""
             }
            },
            "type": "scattercarpet"
           }
          ],
          "scattergeo": [
           {
            "marker": {
             "colorbar": {
              "outlinewidth": 0,
              "ticks": ""
             }
            },
            "type": "scattergeo"
           }
          ],
          "scattergl": [
           {
            "marker": {
             "colorbar": {
              "outlinewidth": 0,
              "ticks": ""
             }
            },
            "type": "scattergl"
           }
          ],
          "scattermapbox": [
           {
            "marker": {
             "colorbar": {
              "outlinewidth": 0,
              "ticks": ""
             }
            },
            "type": "scattermapbox"
           }
          ],
          "scatterpolar": [
           {
            "marker": {
             "colorbar": {
              "outlinewidth": 0,
              "ticks": ""
             }
            },
            "type": "scatterpolar"
           }
          ],
          "scatterpolargl": [
           {
            "marker": {
             "colorbar": {
              "outlinewidth": 0,
              "ticks": ""
             }
            },
            "type": "scatterpolargl"
           }
          ],
          "scatterternary": [
           {
            "marker": {
             "colorbar": {
              "outlinewidth": 0,
              "ticks": ""
             }
            },
            "type": "scatterternary"
           }
          ],
          "surface": [
           {
            "colorbar": {
             "outlinewidth": 0,
             "ticks": ""
            },
            "colorscale": [
             [
              0,
              "#0d0887"
             ],
             [
              0.1111111111111111,
              "#46039f"
             ],
             [
              0.2222222222222222,
              "#7201a8"
             ],
             [
              0.3333333333333333,
              "#9c179e"
             ],
             [
              0.4444444444444444,
              "#bd3786"
             ],
             [
              0.5555555555555556,
              "#d8576b"
             ],
             [
              0.6666666666666666,
              "#ed7953"
             ],
             [
              0.7777777777777778,
              "#fb9f3a"
             ],
             [
              0.8888888888888888,
              "#fdca26"
             ],
             [
              1,
              "#f0f921"
             ]
            ],
            "type": "surface"
           }
          ],
          "table": [
           {
            "cells": {
             "fill": {
              "color": "#EBF0F8"
             },
             "line": {
              "color": "white"
             }
            },
            "header": {
             "fill": {
              "color": "#C8D4E3"
             },
             "line": {
              "color": "white"
             }
            },
            "type": "table"
           }
          ]
         },
         "layout": {
          "annotationdefaults": {
           "arrowcolor": "#2a3f5f",
           "arrowhead": 0,
           "arrowwidth": 1
          },
          "autotypenumbers": "strict",
          "coloraxis": {
           "colorbar": {
            "outlinewidth": 0,
            "ticks": ""
           }
          },
          "colorscale": {
           "diverging": [
            [
             0,
             "#8e0152"
            ],
            [
             0.1,
             "#c51b7d"
            ],
            [
             0.2,
             "#de77ae"
            ],
            [
             0.3,
             "#f1b6da"
            ],
            [
             0.4,
             "#fde0ef"
            ],
            [
             0.5,
             "#f7f7f7"
            ],
            [
             0.6,
             "#e6f5d0"
            ],
            [
             0.7,
             "#b8e186"
            ],
            [
             0.8,
             "#7fbc41"
            ],
            [
             0.9,
             "#4d9221"
            ],
            [
             1,
             "#276419"
            ]
           ],
           "sequential": [
            [
             0,
             "#0d0887"
            ],
            [
             0.1111111111111111,
             "#46039f"
            ],
            [
             0.2222222222222222,
             "#7201a8"
            ],
            [
             0.3333333333333333,
             "#9c179e"
            ],
            [
             0.4444444444444444,
             "#bd3786"
            ],
            [
             0.5555555555555556,
             "#d8576b"
            ],
            [
             0.6666666666666666,
             "#ed7953"
            ],
            [
             0.7777777777777778,
             "#fb9f3a"
            ],
            [
             0.8888888888888888,
             "#fdca26"
            ],
            [
             1,
             "#f0f921"
            ]
           ],
           "sequentialminus": [
            [
             0,
             "#0d0887"
            ],
            [
             0.1111111111111111,
             "#46039f"
            ],
            [
             0.2222222222222222,
             "#7201a8"
            ],
            [
             0.3333333333333333,
             "#9c179e"
            ],
            [
             0.4444444444444444,
             "#bd3786"
            ],
            [
             0.5555555555555556,
             "#d8576b"
            ],
            [
             0.6666666666666666,
             "#ed7953"
            ],
            [
             0.7777777777777778,
             "#fb9f3a"
            ],
            [
             0.8888888888888888,
             "#fdca26"
            ],
            [
             1,
             "#f0f921"
            ]
           ]
          },
          "colorway": [
           "#636efa",
           "#EF553B",
           "#00cc96",
           "#ab63fa",
           "#FFA15A",
           "#19d3f3",
           "#FF6692",
           "#B6E880",
           "#FF97FF",
           "#FECB52"
          ],
          "font": {
           "color": "#2a3f5f"
          },
          "geo": {
           "bgcolor": "white",
           "lakecolor": "white",
           "landcolor": "#E5ECF6",
           "showlakes": true,
           "showland": true,
           "subunitcolor": "white"
          },
          "hoverlabel": {
           "align": "left"
          },
          "hovermode": "closest",
          "mapbox": {
           "style": "light"
          },
          "paper_bgcolor": "white",
          "plot_bgcolor": "#E5ECF6",
          "polar": {
           "angularaxis": {
            "gridcolor": "white",
            "linecolor": "white",
            "ticks": ""
           },
           "bgcolor": "#E5ECF6",
           "radialaxis": {
            "gridcolor": "white",
            "linecolor": "white",
            "ticks": ""
           }
          },
          "scene": {
           "xaxis": {
            "backgroundcolor": "#E5ECF6",
            "gridcolor": "white",
            "gridwidth": 2,
            "linecolor": "white",
            "showbackground": true,
            "ticks": "",
            "zerolinecolor": "white"
           },
           "yaxis": {
            "backgroundcolor": "#E5ECF6",
            "gridcolor": "white",
            "gridwidth": 2,
            "linecolor": "white",
            "showbackground": true,
            "ticks": "",
            "zerolinecolor": "white"
           },
           "zaxis": {
            "backgroundcolor": "#E5ECF6",
            "gridcolor": "white",
            "gridwidth": 2,
            "linecolor": "white",
            "showbackground": true,
            "ticks": "",
            "zerolinecolor": "white"
           }
          },
          "shapedefaults": {
           "line": {
            "color": "#2a3f5f"
           }
          },
          "ternary": {
           "aaxis": {
            "gridcolor": "white",
            "linecolor": "white",
            "ticks": ""
           },
           "baxis": {
            "gridcolor": "white",
            "linecolor": "white",
            "ticks": ""
           },
           "bgcolor": "#E5ECF6",
           "caxis": {
            "gridcolor": "white",
            "linecolor": "white",
            "ticks": ""
           }
          },
          "title": {
           "x": 0.05
          },
          "xaxis": {
           "automargin": true,
           "gridcolor": "white",
           "linecolor": "white",
           "ticks": "",
           "title": {
            "standoff": 15
           },
           "zerolinecolor": "white",
           "zerolinewidth": 2
          },
          "yaxis": {
           "automargin": true,
           "gridcolor": "white",
           "linecolor": "white",
           "ticks": "",
           "title": {
            "standoff": 15
           },
           "zerolinecolor": "white",
           "zerolinewidth": 2
          }
         }
        },
        "title": {
         "text": "Performance - Meta 4%",
         "x": 0.5
        },
        "xaxis": {
         "nticks": 31,
         "tickangle": 45,
         "tickmode": "linear",
         "ticktext": [
          1,
          2,
          3,
          4,
          5,
          6,
          7,
          8,
          9,
          10,
          11,
          12,
          13,
          14,
          15,
          16,
          17,
          18,
          19,
          20,
          21,
          22,
          23,
          24,
          25,
          26,
          27,
          28,
          29,
          30,
          31
         ],
         "tickvals": [
          1,
          2,
          3,
          4,
          5,
          6,
          7,
          8,
          9,
          10,
          11,
          12,
          13,
          14,
          15,
          16,
          17,
          18,
          19,
          20,
          21,
          22,
          23,
          24,
          25,
          26,
          27,
          28,
          29,
          30,
          31
         ],
         "title": {
          "text": "Dia"
         }
        },
        "yaxis": {
         "tickangle": 45,
         "tickmode": "linear",
         "title": {
          "text": "Turno"
         }
        }
       }
      }
     },
     "metadata": {},
     "output_type": "display_data"
    }
   ],
   "source": [
    "# cSpell: disable=invalid-name\n",
    "def graph_heatmap_perf_v2(dataframe: pd.DataFrame, meta: int):\n",
    "    # Converter 'data_registro' para datetime e criar uma nova coluna 'data_turno'\n",
    "\n",
    "    dataframe[\"data_registro\"] = pd.to_datetime(dataframe[\"data_registro\"])\n",
    "\n",
    "    dataframe[\"data_turno\"] = dataframe[\"data_registro\"].dt.strftime(\"%Y-%m-%d\")\n",
    "\n",
    "    # Agrupar por 'data_turno' e 'turno' e calcular a média da eficiência\n",
    "\n",
    "    df_grouped = (\n",
    "        dataframe.groupby([\"data_turno\", \"turno\"], observed=False)[\"performance\"]\n",
    "        .mean()\n",
    "        .reset_index()\n",
    "    )\n",
    "\n",
    "    # Remodelar os dados para o formato de heatmap\n",
    "\n",
    "    df_pivot = df_grouped.pivot(index=\"turno\", columns=\"data_turno\", values=\"performance\")\n",
    "\n",
    "    # Reordenar o índice do DataFrame\n",
    "    df_pivot = df_pivot.reindex([\"VES\", \"MAT\", \"NOT\"])\n",
    "\n",
    "    # Criar escala de cores personalizada\n",
    "    colors = [[0, \"green\"], [0.04, \"green\"], [0.04, \"red\"], [1, \"red\"]]\n",
    "\n",
    "    # Extrair apenas o dia da data\n",
    "    df_pivot.columns = pd.to_datetime(df_pivot.columns).day\n",
    "\n",
    "    # Criar o gráfico de calor\n",
    "    fig = go.Figure(\n",
    "        data=go.Heatmap(\n",
    "            z=df_pivot.values,\n",
    "            x=df_pivot.columns,\n",
    "            y=df_pivot.index,\n",
    "            colorscale=colors,\n",
    "            zmin=0,\n",
    "            zmax=1,  # Escala de valores de 0 a 1\n",
    "            hoverongaps=False,\n",
    "            hovertemplate=\"Turno: %{y}<br>Dia: %{x}<br>Valor: %{z:.1%}\",\n",
    "            showscale=False,  # Não mostrar a escala de cores\n",
    "            xgap=1,  # Espaçamento entre os dias\n",
    "            ygap=1,  # Espaçamento entre os turnos\n",
    "        )\n",
    "    )\n",
    "\n",
    "    # Adicionar anotações com a média da eficiência\n",
    "    for (i, j), value in np.ndenumerate(df_pivot.values):\n",
    "        fig.add_annotation(\n",
    "            x=df_pivot.columns[j],\n",
    "            y=df_pivot.index[i],\n",
    "            text=f\"{value:.1%}\",\n",
    "            showarrow=False,\n",
    "            font=dict(color=\"white\", size=8),\n",
    "        )\n",
    "\n",
    "    # Definir o título do gráfico\n",
    "    fig.update_layout(\n",
    "        title=f\"Performance - Meta {meta}%\",\n",
    "        xaxis_title=\"Dia\",\n",
    "        yaxis_title=\"Turno\",\n",
    "        title_x=0.5,  # Centralizar o título\n",
    "        xaxis_nticks=31,  # Definir o número de dias\n",
    "        xaxis=dict(\n",
    "            tickmode=\"linear\",\n",
    "            tickvals=list(range(1, 32)),  # Definir os dias\n",
    "            ticktext=list(range(1, 32)),  # Definir os dias\n",
    "            tickangle=45,  # Rotacionar os dias\n",
    "        ),\n",
    "        yaxis=dict(\n",
    "            tickmode=\"linear\",\n",
    "            tickangle=45,\n",
    "        ),\n",
    "        plot_bgcolor=\"white\",\n",
    "        margin=dict(t=40, b=40, l=40, r=40),\n",
    "        font=dict({\"family\": \"Inter\"}),\n",
    "    )\n",
    "\n",
    "    fig.show()\n",
    "\n",
    "\n",
    "graph_heatmap_perf_v2(df_perf, 4)"
   ]
  },
  {
   "cell_type": "code",
   "execution_count": 70,
   "metadata": {},
   "outputs": [
    {
     "data": {
      "application/vnd.plotly.v1+json": {
       "config": {
        "plotlyServerURL": "https://plot.ly"
       },
       "data": [
        {
         "colorscale": [
          [
           0,
           "green"
          ],
          [
           0.04,
           "green"
          ],
          [
           0.04,
           "red"
          ],
          [
           1,
           "red"
          ]
         ],
         "hoverongaps": false,
         "hovertemplate": "Turno: %{y}<br>Dia: %{x}<br>Valor: %{z:.1%}",
         "showscale": false,
         "type": "heatmap",
         "x": [
          1,
          2,
          3,
          4,
          5,
          6,
          7,
          8,
          9,
          10,
          11,
          12,
          13,
          14,
          15,
          16,
          17,
          18,
          19,
          20,
          21,
          22,
          23,
          24,
          25,
          26,
          27,
          28,
          29,
          30
         ],
         "xgap": 1,
         "y": [
          "VES",
          "MAT",
          "NOT"
         ],
         "ygap": 1,
         "z": [
          [
           0,
           0.14226190476190476,
           0.04345238095238095,
           0.07797619047619046,
           0.00744047619047619,
           0,
           0,
           0.07142857142857142,
           0.07142857142857142,
           0.14672619047619048,
           0.01636904761904762,
           0,
           0,
           0,
           0,
           0,
           0,
           0,
           0,
           0,
           0,
           0,
           0.010897435897435897,
           0.001282051282051282,
           0,
           0.005952380952380952,
           0,
           0,
           0.15384615384615385,
           null
          ],
          [
           0,
           0.14285714285714285,
           0.033928571428571426,
           0.07636436597110755,
           0.0023809523809523807,
           0.0035714285714285718,
           0,
           0.07142857142857142,
           0.14523809523809522,
           0.1386904761904762,
           0.05625,
           0.03244047619047619,
           0,
           0,
           0.013392857142857142,
           0.06160714285714285,
           0.044642857142857144,
           0.0062499999999999995,
           0,
           0,
           0,
           0.04551282051282051,
           0.027564102564102563,
           0.022756410256410255,
           0,
           0.04315476190476191,
           0.07532051282051283,
           0,
           0.07179487179487179,
           0
          ],
          [
           0,
           0.14285714285714285,
           0.07142857142857142,
           0,
           0.07142857142857142,
           0,
           0,
           0.09077380952380952,
           0,
           0.054307116104868915,
           0.0002976190476190476,
           0,
           0,
           0.5384615384615384,
           0,
           0,
           0,
           0.019940476190476192,
           0,
           0,
           0,
           0.06410256410256411,
           0,
           0.04358974358974359,
           0,
           0.019047619047619046,
           0,
           0.15384615384615385,
           0,
           0
          ]
         ],
         "zmax": 1,
         "zmin": 0
        }
       ],
       "layout": {
        "annotations": [
         {
          "font": {
           "color": "white",
           "size": 8
          },
          "showarrow": false,
          "text": "0.0%",
          "x": 1,
          "y": "VES"
         },
         {
          "font": {
           "color": "white",
           "size": 8
          },
          "showarrow": false,
          "text": "14.2%",
          "x": 2,
          "y": "VES"
         },
         {
          "font": {
           "color": "white",
           "size": 8
          },
          "showarrow": false,
          "text": "4.3%",
          "x": 3,
          "y": "VES"
         },
         {
          "font": {
           "color": "white",
           "size": 8
          },
          "showarrow": false,
          "text": "7.8%",
          "x": 4,
          "y": "VES"
         },
         {
          "font": {
           "color": "white",
           "size": 8
          },
          "showarrow": false,
          "text": "0.7%",
          "x": 5,
          "y": "VES"
         },
         {
          "font": {
           "color": "white",
           "size": 8
          },
          "showarrow": false,
          "text": "0.0%",
          "x": 6,
          "y": "VES"
         },
         {
          "font": {
           "color": "white",
           "size": 8
          },
          "showarrow": false,
          "text": "0.0%",
          "x": 7,
          "y": "VES"
         },
         {
          "font": {
           "color": "white",
           "size": 8
          },
          "showarrow": false,
          "text": "7.1%",
          "x": 8,
          "y": "VES"
         },
         {
          "font": {
           "color": "white",
           "size": 8
          },
          "showarrow": false,
          "text": "7.1%",
          "x": 9,
          "y": "VES"
         },
         {
          "font": {
           "color": "white",
           "size": 8
          },
          "showarrow": false,
          "text": "14.7%",
          "x": 10,
          "y": "VES"
         },
         {
          "font": {
           "color": "white",
           "size": 8
          },
          "showarrow": false,
          "text": "1.6%",
          "x": 11,
          "y": "VES"
         },
         {
          "font": {
           "color": "white",
           "size": 8
          },
          "showarrow": false,
          "text": "0.0%",
          "x": 12,
          "y": "VES"
         },
         {
          "font": {
           "color": "white",
           "size": 8
          },
          "showarrow": false,
          "text": "0.0%",
          "x": 13,
          "y": "VES"
         },
         {
          "font": {
           "color": "white",
           "size": 8
          },
          "showarrow": false,
          "text": "0.0%",
          "x": 14,
          "y": "VES"
         },
         {
          "font": {
           "color": "white",
           "size": 8
          },
          "showarrow": false,
          "text": "0.0%",
          "x": 15,
          "y": "VES"
         },
         {
          "font": {
           "color": "white",
           "size": 8
          },
          "showarrow": false,
          "text": "0.0%",
          "x": 16,
          "y": "VES"
         },
         {
          "font": {
           "color": "white",
           "size": 8
          },
          "showarrow": false,
          "text": "0.0%",
          "x": 17,
          "y": "VES"
         },
         {
          "font": {
           "color": "white",
           "size": 8
          },
          "showarrow": false,
          "text": "0.0%",
          "x": 18,
          "y": "VES"
         },
         {
          "font": {
           "color": "white",
           "size": 8
          },
          "showarrow": false,
          "text": "0.0%",
          "x": 19,
          "y": "VES"
         },
         {
          "font": {
           "color": "white",
           "size": 8
          },
          "showarrow": false,
          "text": "0.0%",
          "x": 20,
          "y": "VES"
         },
         {
          "font": {
           "color": "white",
           "size": 8
          },
          "showarrow": false,
          "text": "0.0%",
          "x": 21,
          "y": "VES"
         },
         {
          "font": {
           "color": "white",
           "size": 8
          },
          "showarrow": false,
          "text": "0.0%",
          "x": 22,
          "y": "VES"
         },
         {
          "font": {
           "color": "white",
           "size": 8
          },
          "showarrow": false,
          "text": "1.1%",
          "x": 23,
          "y": "VES"
         },
         {
          "font": {
           "color": "white",
           "size": 8
          },
          "showarrow": false,
          "text": "0.1%",
          "x": 24,
          "y": "VES"
         },
         {
          "font": {
           "color": "white",
           "size": 8
          },
          "showarrow": false,
          "text": "0.0%",
          "x": 25,
          "y": "VES"
         },
         {
          "font": {
           "color": "white",
           "size": 8
          },
          "showarrow": false,
          "text": "0.6%",
          "x": 26,
          "y": "VES"
         },
         {
          "font": {
           "color": "white",
           "size": 8
          },
          "showarrow": false,
          "text": "0.0%",
          "x": 27,
          "y": "VES"
         },
         {
          "font": {
           "color": "white",
           "size": 8
          },
          "showarrow": false,
          "text": "0.0%",
          "x": 28,
          "y": "VES"
         },
         {
          "font": {
           "color": "white",
           "size": 8
          },
          "showarrow": false,
          "text": "15.4%",
          "x": 29,
          "y": "VES"
         },
         {
          "font": {
           "color": "white",
           "size": 8
          },
          "showarrow": false,
          "text": "nan%",
          "x": 30,
          "y": "VES"
         },
         {
          "font": {
           "color": "white",
           "size": 8
          },
          "showarrow": false,
          "text": "0.0%",
          "x": 1,
          "y": "MAT"
         },
         {
          "font": {
           "color": "white",
           "size": 8
          },
          "showarrow": false,
          "text": "14.3%",
          "x": 2,
          "y": "MAT"
         },
         {
          "font": {
           "color": "white",
           "size": 8
          },
          "showarrow": false,
          "text": "3.4%",
          "x": 3,
          "y": "MAT"
         },
         {
          "font": {
           "color": "white",
           "size": 8
          },
          "showarrow": false,
          "text": "7.6%",
          "x": 4,
          "y": "MAT"
         },
         {
          "font": {
           "color": "white",
           "size": 8
          },
          "showarrow": false,
          "text": "0.2%",
          "x": 5,
          "y": "MAT"
         },
         {
          "font": {
           "color": "white",
           "size": 8
          },
          "showarrow": false,
          "text": "0.4%",
          "x": 6,
          "y": "MAT"
         },
         {
          "font": {
           "color": "white",
           "size": 8
          },
          "showarrow": false,
          "text": "0.0%",
          "x": 7,
          "y": "MAT"
         },
         {
          "font": {
           "color": "white",
           "size": 8
          },
          "showarrow": false,
          "text": "7.1%",
          "x": 8,
          "y": "MAT"
         },
         {
          "font": {
           "color": "white",
           "size": 8
          },
          "showarrow": false,
          "text": "14.5%",
          "x": 9,
          "y": "MAT"
         },
         {
          "font": {
           "color": "white",
           "size": 8
          },
          "showarrow": false,
          "text": "13.9%",
          "x": 10,
          "y": "MAT"
         },
         {
          "font": {
           "color": "white",
           "size": 8
          },
          "showarrow": false,
          "text": "5.6%",
          "x": 11,
          "y": "MAT"
         },
         {
          "font": {
           "color": "white",
           "size": 8
          },
          "showarrow": false,
          "text": "3.2%",
          "x": 12,
          "y": "MAT"
         },
         {
          "font": {
           "color": "white",
           "size": 8
          },
          "showarrow": false,
          "text": "0.0%",
          "x": 13,
          "y": "MAT"
         },
         {
          "font": {
           "color": "white",
           "size": 8
          },
          "showarrow": false,
          "text": "0.0%",
          "x": 14,
          "y": "MAT"
         },
         {
          "font": {
           "color": "white",
           "size": 8
          },
          "showarrow": false,
          "text": "1.3%",
          "x": 15,
          "y": "MAT"
         },
         {
          "font": {
           "color": "white",
           "size": 8
          },
          "showarrow": false,
          "text": "6.2%",
          "x": 16,
          "y": "MAT"
         },
         {
          "font": {
           "color": "white",
           "size": 8
          },
          "showarrow": false,
          "text": "4.5%",
          "x": 17,
          "y": "MAT"
         },
         {
          "font": {
           "color": "white",
           "size": 8
          },
          "showarrow": false,
          "text": "0.6%",
          "x": 18,
          "y": "MAT"
         },
         {
          "font": {
           "color": "white",
           "size": 8
          },
          "showarrow": false,
          "text": "0.0%",
          "x": 19,
          "y": "MAT"
         },
         {
          "font": {
           "color": "white",
           "size": 8
          },
          "showarrow": false,
          "text": "0.0%",
          "x": 20,
          "y": "MAT"
         },
         {
          "font": {
           "color": "white",
           "size": 8
          },
          "showarrow": false,
          "text": "0.0%",
          "x": 21,
          "y": "MAT"
         },
         {
          "font": {
           "color": "white",
           "size": 8
          },
          "showarrow": false,
          "text": "4.6%",
          "x": 22,
          "y": "MAT"
         },
         {
          "font": {
           "color": "white",
           "size": 8
          },
          "showarrow": false,
          "text": "2.8%",
          "x": 23,
          "y": "MAT"
         },
         {
          "font": {
           "color": "white",
           "size": 8
          },
          "showarrow": false,
          "text": "2.3%",
          "x": 24,
          "y": "MAT"
         },
         {
          "font": {
           "color": "white",
           "size": 8
          },
          "showarrow": false,
          "text": "0.0%",
          "x": 25,
          "y": "MAT"
         },
         {
          "font": {
           "color": "white",
           "size": 8
          },
          "showarrow": false,
          "text": "4.3%",
          "x": 26,
          "y": "MAT"
         },
         {
          "font": {
           "color": "white",
           "size": 8
          },
          "showarrow": false,
          "text": "7.5%",
          "x": 27,
          "y": "MAT"
         },
         {
          "font": {
           "color": "white",
           "size": 8
          },
          "showarrow": false,
          "text": "0.0%",
          "x": 28,
          "y": "MAT"
         },
         {
          "font": {
           "color": "white",
           "size": 8
          },
          "showarrow": false,
          "text": "7.2%",
          "x": 29,
          "y": "MAT"
         },
         {
          "font": {
           "color": "white",
           "size": 8
          },
          "showarrow": false,
          "text": "0.0%",
          "x": 30,
          "y": "MAT"
         },
         {
          "font": {
           "color": "white",
           "size": 8
          },
          "showarrow": false,
          "text": "0.0%",
          "x": 1,
          "y": "NOT"
         },
         {
          "font": {
           "color": "white",
           "size": 8
          },
          "showarrow": false,
          "text": "14.3%",
          "x": 2,
          "y": "NOT"
         },
         {
          "font": {
           "color": "white",
           "size": 8
          },
          "showarrow": false,
          "text": "7.1%",
          "x": 3,
          "y": "NOT"
         },
         {
          "font": {
           "color": "white",
           "size": 8
          },
          "showarrow": false,
          "text": "0.0%",
          "x": 4,
          "y": "NOT"
         },
         {
          "font": {
           "color": "white",
           "size": 8
          },
          "showarrow": false,
          "text": "7.1%",
          "x": 5,
          "y": "NOT"
         },
         {
          "font": {
           "color": "white",
           "size": 8
          },
          "showarrow": false,
          "text": "0.0%",
          "x": 6,
          "y": "NOT"
         },
         {
          "font": {
           "color": "white",
           "size": 8
          },
          "showarrow": false,
          "text": "0.0%",
          "x": 7,
          "y": "NOT"
         },
         {
          "font": {
           "color": "white",
           "size": 8
          },
          "showarrow": false,
          "text": "9.1%",
          "x": 8,
          "y": "NOT"
         },
         {
          "font": {
           "color": "white",
           "size": 8
          },
          "showarrow": false,
          "text": "0.0%",
          "x": 9,
          "y": "NOT"
         },
         {
          "font": {
           "color": "white",
           "size": 8
          },
          "showarrow": false,
          "text": "5.4%",
          "x": 10,
          "y": "NOT"
         },
         {
          "font": {
           "color": "white",
           "size": 8
          },
          "showarrow": false,
          "text": "0.0%",
          "x": 11,
          "y": "NOT"
         },
         {
          "font": {
           "color": "white",
           "size": 8
          },
          "showarrow": false,
          "text": "0.0%",
          "x": 12,
          "y": "NOT"
         },
         {
          "font": {
           "color": "white",
           "size": 8
          },
          "showarrow": false,
          "text": "0.0%",
          "x": 13,
          "y": "NOT"
         },
         {
          "font": {
           "color": "white",
           "size": 8
          },
          "showarrow": false,
          "text": "53.8%",
          "x": 14,
          "y": "NOT"
         },
         {
          "font": {
           "color": "white",
           "size": 8
          },
          "showarrow": false,
          "text": "0.0%",
          "x": 15,
          "y": "NOT"
         },
         {
          "font": {
           "color": "white",
           "size": 8
          },
          "showarrow": false,
          "text": "0.0%",
          "x": 16,
          "y": "NOT"
         },
         {
          "font": {
           "color": "white",
           "size": 8
          },
          "showarrow": false,
          "text": "0.0%",
          "x": 17,
          "y": "NOT"
         },
         {
          "font": {
           "color": "white",
           "size": 8
          },
          "showarrow": false,
          "text": "2.0%",
          "x": 18,
          "y": "NOT"
         },
         {
          "font": {
           "color": "white",
           "size": 8
          },
          "showarrow": false,
          "text": "0.0%",
          "x": 19,
          "y": "NOT"
         },
         {
          "font": {
           "color": "white",
           "size": 8
          },
          "showarrow": false,
          "text": "0.0%",
          "x": 20,
          "y": "NOT"
         },
         {
          "font": {
           "color": "white",
           "size": 8
          },
          "showarrow": false,
          "text": "0.0%",
          "x": 21,
          "y": "NOT"
         },
         {
          "font": {
           "color": "white",
           "size": 8
          },
          "showarrow": false,
          "text": "6.4%",
          "x": 22,
          "y": "NOT"
         },
         {
          "font": {
           "color": "white",
           "size": 8
          },
          "showarrow": false,
          "text": "0.0%",
          "x": 23,
          "y": "NOT"
         },
         {
          "font": {
           "color": "white",
           "size": 8
          },
          "showarrow": false,
          "text": "4.4%",
          "x": 24,
          "y": "NOT"
         },
         {
          "font": {
           "color": "white",
           "size": 8
          },
          "showarrow": false,
          "text": "0.0%",
          "x": 25,
          "y": "NOT"
         },
         {
          "font": {
           "color": "white",
           "size": 8
          },
          "showarrow": false,
          "text": "1.9%",
          "x": 26,
          "y": "NOT"
         },
         {
          "font": {
           "color": "white",
           "size": 8
          },
          "showarrow": false,
          "text": "0.0%",
          "x": 27,
          "y": "NOT"
         },
         {
          "font": {
           "color": "white",
           "size": 8
          },
          "showarrow": false,
          "text": "15.4%",
          "x": 28,
          "y": "NOT"
         },
         {
          "font": {
           "color": "white",
           "size": 8
          },
          "showarrow": false,
          "text": "0.0%",
          "x": 29,
          "y": "NOT"
         },
         {
          "font": {
           "color": "white",
           "size": 8
          },
          "showarrow": false,
          "text": "0.0%",
          "x": 30,
          "y": "NOT"
         }
        ],
        "margin": {
         "b": 40,
         "l": 40,
         "r": 40,
         "t": 40
        },
        "plot_bgcolor": "white",
        "template": {
         "data": {
          "bar": [
           {
            "error_x": {
             "color": "#2a3f5f"
            },
            "error_y": {
             "color": "#2a3f5f"
            },
            "marker": {
             "line": {
              "color": "#E5ECF6",
              "width": 0.5
             },
             "pattern": {
              "fillmode": "overlay",
              "size": 10,
              "solidity": 0.2
             }
            },
            "type": "bar"
           }
          ],
          "barpolar": [
           {
            "marker": {
             "line": {
              "color": "#E5ECF6",
              "width": 0.5
             },
             "pattern": {
              "fillmode": "overlay",
              "size": 10,
              "solidity": 0.2
             }
            },
            "type": "barpolar"
           }
          ],
          "carpet": [
           {
            "aaxis": {
             "endlinecolor": "#2a3f5f",
             "gridcolor": "white",
             "linecolor": "white",
             "minorgridcolor": "white",
             "startlinecolor": "#2a3f5f"
            },
            "baxis": {
             "endlinecolor": "#2a3f5f",
             "gridcolor": "white",
             "linecolor": "white",
             "minorgridcolor": "white",
             "startlinecolor": "#2a3f5f"
            },
            "type": "carpet"
           }
          ],
          "choropleth": [
           {
            "colorbar": {
             "outlinewidth": 0,
             "ticks": ""
            },
            "type": "choropleth"
           }
          ],
          "contour": [
           {
            "colorbar": {
             "outlinewidth": 0,
             "ticks": ""
            },
            "colorscale": [
             [
              0,
              "#0d0887"
             ],
             [
              0.1111111111111111,
              "#46039f"
             ],
             [
              0.2222222222222222,
              "#7201a8"
             ],
             [
              0.3333333333333333,
              "#9c179e"
             ],
             [
              0.4444444444444444,
              "#bd3786"
             ],
             [
              0.5555555555555556,
              "#d8576b"
             ],
             [
              0.6666666666666666,
              "#ed7953"
             ],
             [
              0.7777777777777778,
              "#fb9f3a"
             ],
             [
              0.8888888888888888,
              "#fdca26"
             ],
             [
              1,
              "#f0f921"
             ]
            ],
            "type": "contour"
           }
          ],
          "contourcarpet": [
           {
            "colorbar": {
             "outlinewidth": 0,
             "ticks": ""
            },
            "type": "contourcarpet"
           }
          ],
          "heatmap": [
           {
            "colorbar": {
             "outlinewidth": 0,
             "ticks": ""
            },
            "colorscale": [
             [
              0,
              "#0d0887"
             ],
             [
              0.1111111111111111,
              "#46039f"
             ],
             [
              0.2222222222222222,
              "#7201a8"
             ],
             [
              0.3333333333333333,
              "#9c179e"
             ],
             [
              0.4444444444444444,
              "#bd3786"
             ],
             [
              0.5555555555555556,
              "#d8576b"
             ],
             [
              0.6666666666666666,
              "#ed7953"
             ],
             [
              0.7777777777777778,
              "#fb9f3a"
             ],
             [
              0.8888888888888888,
              "#fdca26"
             ],
             [
              1,
              "#f0f921"
             ]
            ],
            "type": "heatmap"
           }
          ],
          "heatmapgl": [
           {
            "colorbar": {
             "outlinewidth": 0,
             "ticks": ""
            },
            "colorscale": [
             [
              0,
              "#0d0887"
             ],
             [
              0.1111111111111111,
              "#46039f"
             ],
             [
              0.2222222222222222,
              "#7201a8"
             ],
             [
              0.3333333333333333,
              "#9c179e"
             ],
             [
              0.4444444444444444,
              "#bd3786"
             ],
             [
              0.5555555555555556,
              "#d8576b"
             ],
             [
              0.6666666666666666,
              "#ed7953"
             ],
             [
              0.7777777777777778,
              "#fb9f3a"
             ],
             [
              0.8888888888888888,
              "#fdca26"
             ],
             [
              1,
              "#f0f921"
             ]
            ],
            "type": "heatmapgl"
           }
          ],
          "histogram": [
           {
            "marker": {
             "pattern": {
              "fillmode": "overlay",
              "size": 10,
              "solidity": 0.2
             }
            },
            "type": "histogram"
           }
          ],
          "histogram2d": [
           {
            "colorbar": {
             "outlinewidth": 0,
             "ticks": ""
            },
            "colorscale": [
             [
              0,
              "#0d0887"
             ],
             [
              0.1111111111111111,
              "#46039f"
             ],
             [
              0.2222222222222222,
              "#7201a8"
             ],
             [
              0.3333333333333333,
              "#9c179e"
             ],
             [
              0.4444444444444444,
              "#bd3786"
             ],
             [
              0.5555555555555556,
              "#d8576b"
             ],
             [
              0.6666666666666666,
              "#ed7953"
             ],
             [
              0.7777777777777778,
              "#fb9f3a"
             ],
             [
              0.8888888888888888,
              "#fdca26"
             ],
             [
              1,
              "#f0f921"
             ]
            ],
            "type": "histogram2d"
           }
          ],
          "histogram2dcontour": [
           {
            "colorbar": {
             "outlinewidth": 0,
             "ticks": ""
            },
            "colorscale": [
             [
              0,
              "#0d0887"
             ],
             [
              0.1111111111111111,
              "#46039f"
             ],
             [
              0.2222222222222222,
              "#7201a8"
             ],
             [
              0.3333333333333333,
              "#9c179e"
             ],
             [
              0.4444444444444444,
              "#bd3786"
             ],
             [
              0.5555555555555556,
              "#d8576b"
             ],
             [
              0.6666666666666666,
              "#ed7953"
             ],
             [
              0.7777777777777778,
              "#fb9f3a"
             ],
             [
              0.8888888888888888,
              "#fdca26"
             ],
             [
              1,
              "#f0f921"
             ]
            ],
            "type": "histogram2dcontour"
           }
          ],
          "mesh3d": [
           {
            "colorbar": {
             "outlinewidth": 0,
             "ticks": ""
            },
            "type": "mesh3d"
           }
          ],
          "parcoords": [
           {
            "line": {
             "colorbar": {
              "outlinewidth": 0,
              "ticks": ""
             }
            },
            "type": "parcoords"
           }
          ],
          "pie": [
           {
            "automargin": true,
            "type": "pie"
           }
          ],
          "scatter": [
           {
            "fillpattern": {
             "fillmode": "overlay",
             "size": 10,
             "solidity": 0.2
            },
            "type": "scatter"
           }
          ],
          "scatter3d": [
           {
            "line": {
             "colorbar": {
              "outlinewidth": 0,
              "ticks": ""
             }
            },
            "marker": {
             "colorbar": {
              "outlinewidth": 0,
              "ticks": ""
             }
            },
            "type": "scatter3d"
           }
          ],
          "scattercarpet": [
           {
            "marker": {
             "colorbar": {
              "outlinewidth": 0,
              "ticks": ""
             }
            },
            "type": "scattercarpet"
           }
          ],
          "scattergeo": [
           {
            "marker": {
             "colorbar": {
              "outlinewidth": 0,
              "ticks": ""
             }
            },
            "type": "scattergeo"
           }
          ],
          "scattergl": [
           {
            "marker": {
             "colorbar": {
              "outlinewidth": 0,
              "ticks": ""
             }
            },
            "type": "scattergl"
           }
          ],
          "scattermapbox": [
           {
            "marker": {
             "colorbar": {
              "outlinewidth": 0,
              "ticks": ""
             }
            },
            "type": "scattermapbox"
           }
          ],
          "scatterpolar": [
           {
            "marker": {
             "colorbar": {
              "outlinewidth": 0,
              "ticks": ""
             }
            },
            "type": "scatterpolar"
           }
          ],
          "scatterpolargl": [
           {
            "marker": {
             "colorbar": {
              "outlinewidth": 0,
              "ticks": ""
             }
            },
            "type": "scatterpolargl"
           }
          ],
          "scatterternary": [
           {
            "marker": {
             "colorbar": {
              "outlinewidth": 0,
              "ticks": ""
             }
            },
            "type": "scatterternary"
           }
          ],
          "surface": [
           {
            "colorbar": {
             "outlinewidth": 0,
             "ticks": ""
            },
            "colorscale": [
             [
              0,
              "#0d0887"
             ],
             [
              0.1111111111111111,
              "#46039f"
             ],
             [
              0.2222222222222222,
              "#7201a8"
             ],
             [
              0.3333333333333333,
              "#9c179e"
             ],
             [
              0.4444444444444444,
              "#bd3786"
             ],
             [
              0.5555555555555556,
              "#d8576b"
             ],
             [
              0.6666666666666666,
              "#ed7953"
             ],
             [
              0.7777777777777778,
              "#fb9f3a"
             ],
             [
              0.8888888888888888,
              "#fdca26"
             ],
             [
              1,
              "#f0f921"
             ]
            ],
            "type": "surface"
           }
          ],
          "table": [
           {
            "cells": {
             "fill": {
              "color": "#EBF0F8"
             },
             "line": {
              "color": "white"
             }
            },
            "header": {
             "fill": {
              "color": "#C8D4E3"
             },
             "line": {
              "color": "white"
             }
            },
            "type": "table"
           }
          ]
         },
         "layout": {
          "annotationdefaults": {
           "arrowcolor": "#2a3f5f",
           "arrowhead": 0,
           "arrowwidth": 1
          },
          "autotypenumbers": "strict",
          "coloraxis": {
           "colorbar": {
            "outlinewidth": 0,
            "ticks": ""
           }
          },
          "colorscale": {
           "diverging": [
            [
             0,
             "#8e0152"
            ],
            [
             0.1,
             "#c51b7d"
            ],
            [
             0.2,
             "#de77ae"
            ],
            [
             0.3,
             "#f1b6da"
            ],
            [
             0.4,
             "#fde0ef"
            ],
            [
             0.5,
             "#f7f7f7"
            ],
            [
             0.6,
             "#e6f5d0"
            ],
            [
             0.7,
             "#b8e186"
            ],
            [
             0.8,
             "#7fbc41"
            ],
            [
             0.9,
             "#4d9221"
            ],
            [
             1,
             "#276419"
            ]
           ],
           "sequential": [
            [
             0,
             "#0d0887"
            ],
            [
             0.1111111111111111,
             "#46039f"
            ],
            [
             0.2222222222222222,
             "#7201a8"
            ],
            [
             0.3333333333333333,
             "#9c179e"
            ],
            [
             0.4444444444444444,
             "#bd3786"
            ],
            [
             0.5555555555555556,
             "#d8576b"
            ],
            [
             0.6666666666666666,
             "#ed7953"
            ],
            [
             0.7777777777777778,
             "#fb9f3a"
            ],
            [
             0.8888888888888888,
             "#fdca26"
            ],
            [
             1,
             "#f0f921"
            ]
           ],
           "sequentialminus": [
            [
             0,
             "#0d0887"
            ],
            [
             0.1111111111111111,
             "#46039f"
            ],
            [
             0.2222222222222222,
             "#7201a8"
            ],
            [
             0.3333333333333333,
             "#9c179e"
            ],
            [
             0.4444444444444444,
             "#bd3786"
            ],
            [
             0.5555555555555556,
             "#d8576b"
            ],
            [
             0.6666666666666666,
             "#ed7953"
            ],
            [
             0.7777777777777778,
             "#fb9f3a"
            ],
            [
             0.8888888888888888,
             "#fdca26"
            ],
            [
             1,
             "#f0f921"
            ]
           ]
          },
          "colorway": [
           "#636efa",
           "#EF553B",
           "#00cc96",
           "#ab63fa",
           "#FFA15A",
           "#19d3f3",
           "#FF6692",
           "#B6E880",
           "#FF97FF",
           "#FECB52"
          ],
          "font": {
           "color": "#2a3f5f"
          },
          "geo": {
           "bgcolor": "white",
           "lakecolor": "white",
           "landcolor": "#E5ECF6",
           "showlakes": true,
           "showland": true,
           "subunitcolor": "white"
          },
          "hoverlabel": {
           "align": "left"
          },
          "hovermode": "closest",
          "mapbox": {
           "style": "light"
          },
          "paper_bgcolor": "white",
          "plot_bgcolor": "#E5ECF6",
          "polar": {
           "angularaxis": {
            "gridcolor": "white",
            "linecolor": "white",
            "ticks": ""
           },
           "bgcolor": "#E5ECF6",
           "radialaxis": {
            "gridcolor": "white",
            "linecolor": "white",
            "ticks": ""
           }
          },
          "scene": {
           "xaxis": {
            "backgroundcolor": "#E5ECF6",
            "gridcolor": "white",
            "gridwidth": 2,
            "linecolor": "white",
            "showbackground": true,
            "ticks": "",
            "zerolinecolor": "white"
           },
           "yaxis": {
            "backgroundcolor": "#E5ECF6",
            "gridcolor": "white",
            "gridwidth": 2,
            "linecolor": "white",
            "showbackground": true,
            "ticks": "",
            "zerolinecolor": "white"
           },
           "zaxis": {
            "backgroundcolor": "#E5ECF6",
            "gridcolor": "white",
            "gridwidth": 2,
            "linecolor": "white",
            "showbackground": true,
            "ticks": "",
            "zerolinecolor": "white"
           }
          },
          "shapedefaults": {
           "line": {
            "color": "#2a3f5f"
           }
          },
          "ternary": {
           "aaxis": {
            "gridcolor": "white",
            "linecolor": "white",
            "ticks": ""
           },
           "baxis": {
            "gridcolor": "white",
            "linecolor": "white",
            "ticks": ""
           },
           "bgcolor": "#E5ECF6",
           "caxis": {
            "gridcolor": "white",
            "linecolor": "white",
            "ticks": ""
           }
          },
          "title": {
           "x": 0.05
          },
          "xaxis": {
           "automargin": true,
           "gridcolor": "white",
           "linecolor": "white",
           "ticks": "",
           "title": {
            "standoff": 15
           },
           "zerolinecolor": "white",
           "zerolinewidth": 2
          },
          "yaxis": {
           "automargin": true,
           "gridcolor": "white",
           "linecolor": "white",
           "ticks": "",
           "title": {
            "standoff": 15
           },
           "zerolinecolor": "white",
           "zerolinewidth": 2
          }
         }
        },
        "title": {
         "text": "Reparos - Meta 4%",
         "x": 0.5
        },
        "xaxis": {
         "nticks": 31,
         "tickangle": 45,
         "tickmode": "linear",
         "ticktext": [
          1,
          2,
          3,
          4,
          5,
          6,
          7,
          8,
          9,
          10,
          11,
          12,
          13,
          14,
          15,
          16,
          17,
          18,
          19,
          20,
          21,
          22,
          23,
          24,
          25,
          26,
          27,
          28,
          29,
          30,
          31
         ],
         "tickvals": [
          1,
          2,
          3,
          4,
          5,
          6,
          7,
          8,
          9,
          10,
          11,
          12,
          13,
          14,
          15,
          16,
          17,
          18,
          19,
          20,
          21,
          22,
          23,
          24,
          25,
          26,
          27,
          28,
          29,
          30,
          31
         ],
         "title": {
          "text": "Dia"
         }
        },
        "yaxis": {
         "tickangle": 45,
         "tickmode": "linear",
         "title": {
          "text": "Turno"
         }
        }
       }
      }
     },
     "metadata": {},
     "output_type": "display_data"
    }
   ],
   "source": [
    "# cSpell: disable=invalid-name\n",
    "def graph_heatmap_reparos(dataframe: pd.DataFrame, meta: int):\n",
    "    # Converter 'data_registro' para datetime e criar uma nova coluna 'data_turno'\n",
    "\n",
    "    dataframe[\"data_registro\"] = pd.to_datetime(dataframe[\"data_registro\"])\n",
    "\n",
    "    dataframe[\"data_turno\"] = dataframe[\"data_registro\"].dt.strftime(\"%Y-%m-%d\")\n",
    "\n",
    "    # Agrupar por 'data_turno' e 'turno' e calcular a média da eficiência\n",
    "\n",
    "    df_grouped = (\n",
    "        dataframe.groupby([\"data_turno\", \"turno\"], observed=False)[\"reparo\"].mean().reset_index()\n",
    "    )\n",
    "\n",
    "    # Remodelar os dados para o formato de heatmap\n",
    "\n",
    "    df_pivot = df_grouped.pivot(index=\"turno\", columns=\"data_turno\", values=\"reparo\")\n",
    "\n",
    "    # Reordenar o índice do DataFrame\n",
    "    df_pivot = df_pivot.reindex([\"VES\", \"MAT\", \"NOT\"])\n",
    "\n",
    "    # Criar escala de cores personalizada\n",
    "    colors = [[0, \"green\"], [0.04, \"green\"], [0.04, \"red\"], [1, \"red\"]]\n",
    "\n",
    "    # Extrair apenas o dia da data\n",
    "    df_pivot.columns = pd.to_datetime(df_pivot.columns).day\n",
    "\n",
    "    # Criar o gráfico de calor\n",
    "    fig = go.Figure(\n",
    "        data=go.Heatmap(\n",
    "            z=df_pivot.values,\n",
    "            x=df_pivot.columns,\n",
    "            y=df_pivot.index,\n",
    "            colorscale=colors,\n",
    "            zmin=0,\n",
    "            zmax=1,  # Escala de valores de 0 a 1\n",
    "            hoverongaps=False,\n",
    "            hovertemplate=\"Turno: %{y}<br>Dia: %{x}<br>Valor: %{z:.1%}\",\n",
    "            showscale=False,  # Não mostrar a escala de cores\n",
    "            xgap=1,  # Espaçamento entre os dias\n",
    "            ygap=1,  # Espaçamento entre os turnos\n",
    "        )\n",
    "    )\n",
    "\n",
    "    # Adicionar anotações com a média da eficiência\n",
    "    for (i, j), value in np.ndenumerate(df_pivot.values):\n",
    "        fig.add_annotation(\n",
    "            x=df_pivot.columns[j],\n",
    "            y=df_pivot.index[i],\n",
    "            text=f\"{value:.1%}\",\n",
    "            showarrow=False,\n",
    "            font=dict(color=\"white\", size=8),\n",
    "        )\n",
    "\n",
    "    # Definir o título do gráfico\n",
    "    fig.update_layout(\n",
    "        title=f\"Reparos - Meta {meta}%\",\n",
    "        xaxis_title=\"Dia\",\n",
    "        yaxis_title=\"Turno\",\n",
    "        title_x=0.5,  # Centralizar o título\n",
    "        xaxis_nticks=31,  # Definir o número de dias\n",
    "        xaxis=dict(\n",
    "            tickmode=\"linear\",\n",
    "            tickvals=list(range(1, 32)),  # Definir os dias\n",
    "            ticktext=list(range(1, 32)),  # Definir os dias\n",
    "            tickangle=45,  # Rotacionar os dias\n",
    "        ),\n",
    "        yaxis=dict(\n",
    "            tickmode=\"linear\",\n",
    "            tickangle=45,\n",
    "        ),\n",
    "        plot_bgcolor=\"white\",\n",
    "        margin=dict(t=40, b=40, l=40, r=40),\n",
    "    )\n",
    "\n",
    "    fig.show()\n",
    "\n",
    "\n",
    "reparos_map = graph_heatmap_reparos(df_reparos, 4)"
   ]
  },
  {
   "cell_type": "code",
   "execution_count": 71,
   "metadata": {},
   "outputs": [
    {
     "data": {
      "application/vnd.plotly.v1+json": {
       "config": {
        "plotlyServerURL": "https://plot.ly"
       },
       "data": [
        {
         "domain": {
          "x": [
           0,
           1
          ],
          "y": [
           0,
           1
          ]
         },
         "gauge": {
          "axis": {
           "range": [
            0,
            100
           ],
           "tickfont": {
            "size": 8
           }
          },
          "bar": {
           "color": "red"
          },
          "steps": [
           {
            "color": "lightgray",
            "range": [
             0,
             100
            ]
           }
          ],
          "threshold": {
           "line": {
            "color": "black",
            "width": 4
           },
           "thickness": 0.75,
           "value": 90
          }
         },
         "mode": "gauge+number",
         "number": {
          "suffix": "%"
         },
         "title": {
          "font": {
           "size": 14
          },
          "text": "Atual"
         },
         "type": "indicator",
         "value": 33
        }
       ],
       "layout": {
        "autosize": true,
        "height": 200,
        "margin": {
         "b": 30,
         "l": 30,
         "r": 30,
         "t": 30
        },
        "plot_bgcolor": "white",
        "template": {
         "data": {
          "bar": [
           {
            "error_x": {
             "color": "#2a3f5f"
            },
            "error_y": {
             "color": "#2a3f5f"
            },
            "marker": {
             "line": {
              "color": "#E5ECF6",
              "width": 0.5
             },
             "pattern": {
              "fillmode": "overlay",
              "size": 10,
              "solidity": 0.2
             }
            },
            "type": "bar"
           }
          ],
          "barpolar": [
           {
            "marker": {
             "line": {
              "color": "#E5ECF6",
              "width": 0.5
             },
             "pattern": {
              "fillmode": "overlay",
              "size": 10,
              "solidity": 0.2
             }
            },
            "type": "barpolar"
           }
          ],
          "carpet": [
           {
            "aaxis": {
             "endlinecolor": "#2a3f5f",
             "gridcolor": "white",
             "linecolor": "white",
             "minorgridcolor": "white",
             "startlinecolor": "#2a3f5f"
            },
            "baxis": {
             "endlinecolor": "#2a3f5f",
             "gridcolor": "white",
             "linecolor": "white",
             "minorgridcolor": "white",
             "startlinecolor": "#2a3f5f"
            },
            "type": "carpet"
           }
          ],
          "choropleth": [
           {
            "colorbar": {
             "outlinewidth": 0,
             "ticks": ""
            },
            "type": "choropleth"
           }
          ],
          "contour": [
           {
            "colorbar": {
             "outlinewidth": 0,
             "ticks": ""
            },
            "colorscale": [
             [
              0,
              "#0d0887"
             ],
             [
              0.1111111111111111,
              "#46039f"
             ],
             [
              0.2222222222222222,
              "#7201a8"
             ],
             [
              0.3333333333333333,
              "#9c179e"
             ],
             [
              0.4444444444444444,
              "#bd3786"
             ],
             [
              0.5555555555555556,
              "#d8576b"
             ],
             [
              0.6666666666666666,
              "#ed7953"
             ],
             [
              0.7777777777777778,
              "#fb9f3a"
             ],
             [
              0.8888888888888888,
              "#fdca26"
             ],
             [
              1,
              "#f0f921"
             ]
            ],
            "type": "contour"
           }
          ],
          "contourcarpet": [
           {
            "colorbar": {
             "outlinewidth": 0,
             "ticks": ""
            },
            "type": "contourcarpet"
           }
          ],
          "heatmap": [
           {
            "colorbar": {
             "outlinewidth": 0,
             "ticks": ""
            },
            "colorscale": [
             [
              0,
              "#0d0887"
             ],
             [
              0.1111111111111111,
              "#46039f"
             ],
             [
              0.2222222222222222,
              "#7201a8"
             ],
             [
              0.3333333333333333,
              "#9c179e"
             ],
             [
              0.4444444444444444,
              "#bd3786"
             ],
             [
              0.5555555555555556,
              "#d8576b"
             ],
             [
              0.6666666666666666,
              "#ed7953"
             ],
             [
              0.7777777777777778,
              "#fb9f3a"
             ],
             [
              0.8888888888888888,
              "#fdca26"
             ],
             [
              1,
              "#f0f921"
             ]
            ],
            "type": "heatmap"
           }
          ],
          "heatmapgl": [
           {
            "colorbar": {
             "outlinewidth": 0,
             "ticks": ""
            },
            "colorscale": [
             [
              0,
              "#0d0887"
             ],
             [
              0.1111111111111111,
              "#46039f"
             ],
             [
              0.2222222222222222,
              "#7201a8"
             ],
             [
              0.3333333333333333,
              "#9c179e"
             ],
             [
              0.4444444444444444,
              "#bd3786"
             ],
             [
              0.5555555555555556,
              "#d8576b"
             ],
             [
              0.6666666666666666,
              "#ed7953"
             ],
             [
              0.7777777777777778,
              "#fb9f3a"
             ],
             [
              0.8888888888888888,
              "#fdca26"
             ],
             [
              1,
              "#f0f921"
             ]
            ],
            "type": "heatmapgl"
           }
          ],
          "histogram": [
           {
            "marker": {
             "pattern": {
              "fillmode": "overlay",
              "size": 10,
              "solidity": 0.2
             }
            },
            "type": "histogram"
           }
          ],
          "histogram2d": [
           {
            "colorbar": {
             "outlinewidth": 0,
             "ticks": ""
            },
            "colorscale": [
             [
              0,
              "#0d0887"
             ],
             [
              0.1111111111111111,
              "#46039f"
             ],
             [
              0.2222222222222222,
              "#7201a8"
             ],
             [
              0.3333333333333333,
              "#9c179e"
             ],
             [
              0.4444444444444444,
              "#bd3786"
             ],
             [
              0.5555555555555556,
              "#d8576b"
             ],
             [
              0.6666666666666666,
              "#ed7953"
             ],
             [
              0.7777777777777778,
              "#fb9f3a"
             ],
             [
              0.8888888888888888,
              "#fdca26"
             ],
             [
              1,
              "#f0f921"
             ]
            ],
            "type": "histogram2d"
           }
          ],
          "histogram2dcontour": [
           {
            "colorbar": {
             "outlinewidth": 0,
             "ticks": ""
            },
            "colorscale": [
             [
              0,
              "#0d0887"
             ],
             [
              0.1111111111111111,
              "#46039f"
             ],
             [
              0.2222222222222222,
              "#7201a8"
             ],
             [
              0.3333333333333333,
              "#9c179e"
             ],
             [
              0.4444444444444444,
              "#bd3786"
             ],
             [
              0.5555555555555556,
              "#d8576b"
             ],
             [
              0.6666666666666666,
              "#ed7953"
             ],
             [
              0.7777777777777778,
              "#fb9f3a"
             ],
             [
              0.8888888888888888,
              "#fdca26"
             ],
             [
              1,
              "#f0f921"
             ]
            ],
            "type": "histogram2dcontour"
           }
          ],
          "mesh3d": [
           {
            "colorbar": {
             "outlinewidth": 0,
             "ticks": ""
            },
            "type": "mesh3d"
           }
          ],
          "parcoords": [
           {
            "line": {
             "colorbar": {
              "outlinewidth": 0,
              "ticks": ""
             }
            },
            "type": "parcoords"
           }
          ],
          "pie": [
           {
            "automargin": true,
            "type": "pie"
           }
          ],
          "scatter": [
           {
            "fillpattern": {
             "fillmode": "overlay",
             "size": 10,
             "solidity": 0.2
            },
            "type": "scatter"
           }
          ],
          "scatter3d": [
           {
            "line": {
             "colorbar": {
              "outlinewidth": 0,
              "ticks": ""
             }
            },
            "marker": {
             "colorbar": {
              "outlinewidth": 0,
              "ticks": ""
             }
            },
            "type": "scatter3d"
           }
          ],
          "scattercarpet": [
           {
            "marker": {
             "colorbar": {
              "outlinewidth": 0,
              "ticks": ""
             }
            },
            "type": "scattercarpet"
           }
          ],
          "scattergeo": [
           {
            "marker": {
             "colorbar": {
              "outlinewidth": 0,
              "ticks": ""
             }
            },
            "type": "scattergeo"
           }
          ],
          "scattergl": [
           {
            "marker": {
             "colorbar": {
              "outlinewidth": 0,
              "ticks": ""
             }
            },
            "type": "scattergl"
           }
          ],
          "scattermapbox": [
           {
            "marker": {
             "colorbar": {
              "outlinewidth": 0,
              "ticks": ""
             }
            },
            "type": "scattermapbox"
           }
          ],
          "scatterpolar": [
           {
            "marker": {
             "colorbar": {
              "outlinewidth": 0,
              "ticks": ""
             }
            },
            "type": "scatterpolar"
           }
          ],
          "scatterpolargl": [
           {
            "marker": {
             "colorbar": {
              "outlinewidth": 0,
              "ticks": ""
             }
            },
            "type": "scatterpolargl"
           }
          ],
          "scatterternary": [
           {
            "marker": {
             "colorbar": {
              "outlinewidth": 0,
              "ticks": ""
             }
            },
            "type": "scatterternary"
           }
          ],
          "surface": [
           {
            "colorbar": {
             "outlinewidth": 0,
             "ticks": ""
            },
            "colorscale": [
             [
              0,
              "#0d0887"
             ],
             [
              0.1111111111111111,
              "#46039f"
             ],
             [
              0.2222222222222222,
              "#7201a8"
             ],
             [
              0.3333333333333333,
              "#9c179e"
             ],
             [
              0.4444444444444444,
              "#bd3786"
             ],
             [
              0.5555555555555556,
              "#d8576b"
             ],
             [
              0.6666666666666666,
              "#ed7953"
             ],
             [
              0.7777777777777778,
              "#fb9f3a"
             ],
             [
              0.8888888888888888,
              "#fdca26"
             ],
             [
              1,
              "#f0f921"
             ]
            ],
            "type": "surface"
           }
          ],
          "table": [
           {
            "cells": {
             "fill": {
              "color": "#EBF0F8"
             },
             "line": {
              "color": "white"
             }
            },
            "header": {
             "fill": {
              "color": "#C8D4E3"
             },
             "line": {
              "color": "white"
             }
            },
            "type": "table"
           }
          ]
         },
         "layout": {
          "annotationdefaults": {
           "arrowcolor": "#2a3f5f",
           "arrowhead": 0,
           "arrowwidth": 1
          },
          "autotypenumbers": "strict",
          "coloraxis": {
           "colorbar": {
            "outlinewidth": 0,
            "ticks": ""
           }
          },
          "colorscale": {
           "diverging": [
            [
             0,
             "#8e0152"
            ],
            [
             0.1,
             "#c51b7d"
            ],
            [
             0.2,
             "#de77ae"
            ],
            [
             0.3,
             "#f1b6da"
            ],
            [
             0.4,
             "#fde0ef"
            ],
            [
             0.5,
             "#f7f7f7"
            ],
            [
             0.6,
             "#e6f5d0"
            ],
            [
             0.7,
             "#b8e186"
            ],
            [
             0.8,
             "#7fbc41"
            ],
            [
             0.9,
             "#4d9221"
            ],
            [
             1,
             "#276419"
            ]
           ],
           "sequential": [
            [
             0,
             "#0d0887"
            ],
            [
             0.1111111111111111,
             "#46039f"
            ],
            [
             0.2222222222222222,
             "#7201a8"
            ],
            [
             0.3333333333333333,
             "#9c179e"
            ],
            [
             0.4444444444444444,
             "#bd3786"
            ],
            [
             0.5555555555555556,
             "#d8576b"
            ],
            [
             0.6666666666666666,
             "#ed7953"
            ],
            [
             0.7777777777777778,
             "#fb9f3a"
            ],
            [
             0.8888888888888888,
             "#fdca26"
            ],
            [
             1,
             "#f0f921"
            ]
           ],
           "sequentialminus": [
            [
             0,
             "#0d0887"
            ],
            [
             0.1111111111111111,
             "#46039f"
            ],
            [
             0.2222222222222222,
             "#7201a8"
            ],
            [
             0.3333333333333333,
             "#9c179e"
            ],
            [
             0.4444444444444444,
             "#bd3786"
            ],
            [
             0.5555555555555556,
             "#d8576b"
            ],
            [
             0.6666666666666666,
             "#ed7953"
            ],
            [
             0.7777777777777778,
             "#fb9f3a"
            ],
            [
             0.8888888888888888,
             "#fdca26"
            ],
            [
             1,
             "#f0f921"
            ]
           ]
          },
          "colorway": [
           "#636efa",
           "#EF553B",
           "#00cc96",
           "#ab63fa",
           "#FFA15A",
           "#19d3f3",
           "#FF6692",
           "#B6E880",
           "#FF97FF",
           "#FECB52"
          ],
          "font": {
           "color": "#2a3f5f"
          },
          "geo": {
           "bgcolor": "white",
           "lakecolor": "white",
           "landcolor": "#E5ECF6",
           "showlakes": true,
           "showland": true,
           "subunitcolor": "white"
          },
          "hoverlabel": {
           "align": "left"
          },
          "hovermode": "closest",
          "mapbox": {
           "style": "light"
          },
          "paper_bgcolor": "white",
          "plot_bgcolor": "#E5ECF6",
          "polar": {
           "angularaxis": {
            "gridcolor": "white",
            "linecolor": "white",
            "ticks": ""
           },
           "bgcolor": "#E5ECF6",
           "radialaxis": {
            "gridcolor": "white",
            "linecolor": "white",
            "ticks": ""
           }
          },
          "scene": {
           "xaxis": {
            "backgroundcolor": "#E5ECF6",
            "gridcolor": "white",
            "gridwidth": 2,
            "linecolor": "white",
            "showbackground": true,
            "ticks": "",
            "zerolinecolor": "white"
           },
           "yaxis": {
            "backgroundcolor": "#E5ECF6",
            "gridcolor": "white",
            "gridwidth": 2,
            "linecolor": "white",
            "showbackground": true,
            "ticks": "",
            "zerolinecolor": "white"
           },
           "zaxis": {
            "backgroundcolor": "#E5ECF6",
            "gridcolor": "white",
            "gridwidth": 2,
            "linecolor": "white",
            "showbackground": true,
            "ticks": "",
            "zerolinecolor": "white"
           }
          },
          "shapedefaults": {
           "line": {
            "color": "#2a3f5f"
           }
          },
          "ternary": {
           "aaxis": {
            "gridcolor": "white",
            "linecolor": "white",
            "ticks": ""
           },
           "baxis": {
            "gridcolor": "white",
            "linecolor": "white",
            "ticks": ""
           },
           "bgcolor": "#E5ECF6",
           "caxis": {
            "gridcolor": "white",
            "linecolor": "white",
            "ticks": ""
           }
          },
          "title": {
           "x": 0.05
          },
          "xaxis": {
           "automargin": true,
           "gridcolor": "white",
           "linecolor": "white",
           "ticks": "",
           "title": {
            "standoff": 15
           },
           "zerolinecolor": "white",
           "zerolinewidth": 2
          },
          "yaxis": {
           "automargin": true,
           "gridcolor": "white",
           "linecolor": "white",
           "ticks": "",
           "title": {
            "standoff": 15
           },
           "zerolinecolor": "white",
           "zerolinewidth": 2
          }
         }
        },
        "width": 200
       }
      }
     },
     "metadata": {},
     "output_type": "display_data"
    },
    {
     "data": {
      "application/vnd.plotly.v1+json": {
       "config": {
        "plotlyServerURL": "https://plot.ly"
       },
       "data": [
        {
         "domain": {
          "x": [
           0,
           1
          ],
          "y": [
           0,
           1
          ]
         },
         "gauge": {
          "axis": {
           "range": [
            100,
            0
           ],
           "tickfont": {
            "size": 8
           }
          },
          "bar": {
           "color": "red"
          },
          "steps": [
           {
            "color": "lightgray",
            "range": [
             0,
             100
            ]
           }
          ],
          "threshold": {
           "line": {
            "color": "black",
            "width": 4
           },
           "thickness": 0.75,
           "value": 4
          }
         },
         "mode": "gauge+number",
         "number": {
          "suffix": "%"
         },
         "title": {
          "font": {
           "size": 14
          },
          "text": "Atual"
         },
         "type": "indicator",
         "value": 21
        }
       ],
       "layout": {
        "autosize": true,
        "height": 200,
        "margin": {
         "b": 30,
         "l": 30,
         "r": 30,
         "t": 30
        },
        "plot_bgcolor": "white",
        "template": {
         "data": {
          "bar": [
           {
            "error_x": {
             "color": "#2a3f5f"
            },
            "error_y": {
             "color": "#2a3f5f"
            },
            "marker": {
             "line": {
              "color": "#E5ECF6",
              "width": 0.5
             },
             "pattern": {
              "fillmode": "overlay",
              "size": 10,
              "solidity": 0.2
             }
            },
            "type": "bar"
           }
          ],
          "barpolar": [
           {
            "marker": {
             "line": {
              "color": "#E5ECF6",
              "width": 0.5
             },
             "pattern": {
              "fillmode": "overlay",
              "size": 10,
              "solidity": 0.2
             }
            },
            "type": "barpolar"
           }
          ],
          "carpet": [
           {
            "aaxis": {
             "endlinecolor": "#2a3f5f",
             "gridcolor": "white",
             "linecolor": "white",
             "minorgridcolor": "white",
             "startlinecolor": "#2a3f5f"
            },
            "baxis": {
             "endlinecolor": "#2a3f5f",
             "gridcolor": "white",
             "linecolor": "white",
             "minorgridcolor": "white",
             "startlinecolor": "#2a3f5f"
            },
            "type": "carpet"
           }
          ],
          "choropleth": [
           {
            "colorbar": {
             "outlinewidth": 0,
             "ticks": ""
            },
            "type": "choropleth"
           }
          ],
          "contour": [
           {
            "colorbar": {
             "outlinewidth": 0,
             "ticks": ""
            },
            "colorscale": [
             [
              0,
              "#0d0887"
             ],
             [
              0.1111111111111111,
              "#46039f"
             ],
             [
              0.2222222222222222,
              "#7201a8"
             ],
             [
              0.3333333333333333,
              "#9c179e"
             ],
             [
              0.4444444444444444,
              "#bd3786"
             ],
             [
              0.5555555555555556,
              "#d8576b"
             ],
             [
              0.6666666666666666,
              "#ed7953"
             ],
             [
              0.7777777777777778,
              "#fb9f3a"
             ],
             [
              0.8888888888888888,
              "#fdca26"
             ],
             [
              1,
              "#f0f921"
             ]
            ],
            "type": "contour"
           }
          ],
          "contourcarpet": [
           {
            "colorbar": {
             "outlinewidth": 0,
             "ticks": ""
            },
            "type": "contourcarpet"
           }
          ],
          "heatmap": [
           {
            "colorbar": {
             "outlinewidth": 0,
             "ticks": ""
            },
            "colorscale": [
             [
              0,
              "#0d0887"
             ],
             [
              0.1111111111111111,
              "#46039f"
             ],
             [
              0.2222222222222222,
              "#7201a8"
             ],
             [
              0.3333333333333333,
              "#9c179e"
             ],
             [
              0.4444444444444444,
              "#bd3786"
             ],
             [
              0.5555555555555556,
              "#d8576b"
             ],
             [
              0.6666666666666666,
              "#ed7953"
             ],
             [
              0.7777777777777778,
              "#fb9f3a"
             ],
             [
              0.8888888888888888,
              "#fdca26"
             ],
             [
              1,
              "#f0f921"
             ]
            ],
            "type": "heatmap"
           }
          ],
          "heatmapgl": [
           {
            "colorbar": {
             "outlinewidth": 0,
             "ticks": ""
            },
            "colorscale": [
             [
              0,
              "#0d0887"
             ],
             [
              0.1111111111111111,
              "#46039f"
             ],
             [
              0.2222222222222222,
              "#7201a8"
             ],
             [
              0.3333333333333333,
              "#9c179e"
             ],
             [
              0.4444444444444444,
              "#bd3786"
             ],
             [
              0.5555555555555556,
              "#d8576b"
             ],
             [
              0.6666666666666666,
              "#ed7953"
             ],
             [
              0.7777777777777778,
              "#fb9f3a"
             ],
             [
              0.8888888888888888,
              "#fdca26"
             ],
             [
              1,
              "#f0f921"
             ]
            ],
            "type": "heatmapgl"
           }
          ],
          "histogram": [
           {
            "marker": {
             "pattern": {
              "fillmode": "overlay",
              "size": 10,
              "solidity": 0.2
             }
            },
            "type": "histogram"
           }
          ],
          "histogram2d": [
           {
            "colorbar": {
             "outlinewidth": 0,
             "ticks": ""
            },
            "colorscale": [
             [
              0,
              "#0d0887"
             ],
             [
              0.1111111111111111,
              "#46039f"
             ],
             [
              0.2222222222222222,
              "#7201a8"
             ],
             [
              0.3333333333333333,
              "#9c179e"
             ],
             [
              0.4444444444444444,
              "#bd3786"
             ],
             [
              0.5555555555555556,
              "#d8576b"
             ],
             [
              0.6666666666666666,
              "#ed7953"
             ],
             [
              0.7777777777777778,
              "#fb9f3a"
             ],
             [
              0.8888888888888888,
              "#fdca26"
             ],
             [
              1,
              "#f0f921"
             ]
            ],
            "type": "histogram2d"
           }
          ],
          "histogram2dcontour": [
           {
            "colorbar": {
             "outlinewidth": 0,
             "ticks": ""
            },
            "colorscale": [
             [
              0,
              "#0d0887"
             ],
             [
              0.1111111111111111,
              "#46039f"
             ],
             [
              0.2222222222222222,
              "#7201a8"
             ],
             [
              0.3333333333333333,
              "#9c179e"
             ],
             [
              0.4444444444444444,
              "#bd3786"
             ],
             [
              0.5555555555555556,
              "#d8576b"
             ],
             [
              0.6666666666666666,
              "#ed7953"
             ],
             [
              0.7777777777777778,
              "#fb9f3a"
             ],
             [
              0.8888888888888888,
              "#fdca26"
             ],
             [
              1,
              "#f0f921"
             ]
            ],
            "type": "histogram2dcontour"
           }
          ],
          "mesh3d": [
           {
            "colorbar": {
             "outlinewidth": 0,
             "ticks": ""
            },
            "type": "mesh3d"
           }
          ],
          "parcoords": [
           {
            "line": {
             "colorbar": {
              "outlinewidth": 0,
              "ticks": ""
             }
            },
            "type": "parcoords"
           }
          ],
          "pie": [
           {
            "automargin": true,
            "type": "pie"
           }
          ],
          "scatter": [
           {
            "fillpattern": {
             "fillmode": "overlay",
             "size": 10,
             "solidity": 0.2
            },
            "type": "scatter"
           }
          ],
          "scatter3d": [
           {
            "line": {
             "colorbar": {
              "outlinewidth": 0,
              "ticks": ""
             }
            },
            "marker": {
             "colorbar": {
              "outlinewidth": 0,
              "ticks": ""
             }
            },
            "type": "scatter3d"
           }
          ],
          "scattercarpet": [
           {
            "marker": {
             "colorbar": {
              "outlinewidth": 0,
              "ticks": ""
             }
            },
            "type": "scattercarpet"
           }
          ],
          "scattergeo": [
           {
            "marker": {
             "colorbar": {
              "outlinewidth": 0,
              "ticks": ""
             }
            },
            "type": "scattergeo"
           }
          ],
          "scattergl": [
           {
            "marker": {
             "colorbar": {
              "outlinewidth": 0,
              "ticks": ""
             }
            },
            "type": "scattergl"
           }
          ],
          "scattermapbox": [
           {
            "marker": {
             "colorbar": {
              "outlinewidth": 0,
              "ticks": ""
             }
            },
            "type": "scattermapbox"
           }
          ],
          "scatterpolar": [
           {
            "marker": {
             "colorbar": {
              "outlinewidth": 0,
              "ticks": ""
             }
            },
            "type": "scatterpolar"
           }
          ],
          "scatterpolargl": [
           {
            "marker": {
             "colorbar": {
              "outlinewidth": 0,
              "ticks": ""
             }
            },
            "type": "scatterpolargl"
           }
          ],
          "scatterternary": [
           {
            "marker": {
             "colorbar": {
              "outlinewidth": 0,
              "ticks": ""
             }
            },
            "type": "scatterternary"
           }
          ],
          "surface": [
           {
            "colorbar": {
             "outlinewidth": 0,
             "ticks": ""
            },
            "colorscale": [
             [
              0,
              "#0d0887"
             ],
             [
              0.1111111111111111,
              "#46039f"
             ],
             [
              0.2222222222222222,
              "#7201a8"
             ],
             [
              0.3333333333333333,
              "#9c179e"
             ],
             [
              0.4444444444444444,
              "#bd3786"
             ],
             [
              0.5555555555555556,
              "#d8576b"
             ],
             [
              0.6666666666666666,
              "#ed7953"
             ],
             [
              0.7777777777777778,
              "#fb9f3a"
             ],
             [
              0.8888888888888888,
              "#fdca26"
             ],
             [
              1,
              "#f0f921"
             ]
            ],
            "type": "surface"
           }
          ],
          "table": [
           {
            "cells": {
             "fill": {
              "color": "#EBF0F8"
             },
             "line": {
              "color": "white"
             }
            },
            "header": {
             "fill": {
              "color": "#C8D4E3"
             },
             "line": {
              "color": "white"
             }
            },
            "type": "table"
           }
          ]
         },
         "layout": {
          "annotationdefaults": {
           "arrowcolor": "#2a3f5f",
           "arrowhead": 0,
           "arrowwidth": 1
          },
          "autotypenumbers": "strict",
          "coloraxis": {
           "colorbar": {
            "outlinewidth": 0,
            "ticks": ""
           }
          },
          "colorscale": {
           "diverging": [
            [
             0,
             "#8e0152"
            ],
            [
             0.1,
             "#c51b7d"
            ],
            [
             0.2,
             "#de77ae"
            ],
            [
             0.3,
             "#f1b6da"
            ],
            [
             0.4,
             "#fde0ef"
            ],
            [
             0.5,
             "#f7f7f7"
            ],
            [
             0.6,
             "#e6f5d0"
            ],
            [
             0.7,
             "#b8e186"
            ],
            [
             0.8,
             "#7fbc41"
            ],
            [
             0.9,
             "#4d9221"
            ],
            [
             1,
             "#276419"
            ]
           ],
           "sequential": [
            [
             0,
             "#0d0887"
            ],
            [
             0.1111111111111111,
             "#46039f"
            ],
            [
             0.2222222222222222,
             "#7201a8"
            ],
            [
             0.3333333333333333,
             "#9c179e"
            ],
            [
             0.4444444444444444,
             "#bd3786"
            ],
            [
             0.5555555555555556,
             "#d8576b"
            ],
            [
             0.6666666666666666,
             "#ed7953"
            ],
            [
             0.7777777777777778,
             "#fb9f3a"
            ],
            [
             0.8888888888888888,
             "#fdca26"
            ],
            [
             1,
             "#f0f921"
            ]
           ],
           "sequentialminus": [
            [
             0,
             "#0d0887"
            ],
            [
             0.1111111111111111,
             "#46039f"
            ],
            [
             0.2222222222222222,
             "#7201a8"
            ],
            [
             0.3333333333333333,
             "#9c179e"
            ],
            [
             0.4444444444444444,
             "#bd3786"
            ],
            [
             0.5555555555555556,
             "#d8576b"
            ],
            [
             0.6666666666666666,
             "#ed7953"
            ],
            [
             0.7777777777777778,
             "#fb9f3a"
            ],
            [
             0.8888888888888888,
             "#fdca26"
            ],
            [
             1,
             "#f0f921"
            ]
           ]
          },
          "colorway": [
           "#636efa",
           "#EF553B",
           "#00cc96",
           "#ab63fa",
           "#FFA15A",
           "#19d3f3",
           "#FF6692",
           "#B6E880",
           "#FF97FF",
           "#FECB52"
          ],
          "font": {
           "color": "#2a3f5f"
          },
          "geo": {
           "bgcolor": "white",
           "lakecolor": "white",
           "landcolor": "#E5ECF6",
           "showlakes": true,
           "showland": true,
           "subunitcolor": "white"
          },
          "hoverlabel": {
           "align": "left"
          },
          "hovermode": "closest",
          "mapbox": {
           "style": "light"
          },
          "paper_bgcolor": "white",
          "plot_bgcolor": "#E5ECF6",
          "polar": {
           "angularaxis": {
            "gridcolor": "white",
            "linecolor": "white",
            "ticks": ""
           },
           "bgcolor": "#E5ECF6",
           "radialaxis": {
            "gridcolor": "white",
            "linecolor": "white",
            "ticks": ""
           }
          },
          "scene": {
           "xaxis": {
            "backgroundcolor": "#E5ECF6",
            "gridcolor": "white",
            "gridwidth": 2,
            "linecolor": "white",
            "showbackground": true,
            "ticks": "",
            "zerolinecolor": "white"
           },
           "yaxis": {
            "backgroundcolor": "#E5ECF6",
            "gridcolor": "white",
            "gridwidth": 2,
            "linecolor": "white",
            "showbackground": true,
            "ticks": "",
            "zerolinecolor": "white"
           },
           "zaxis": {
            "backgroundcolor": "#E5ECF6",
            "gridcolor": "white",
            "gridwidth": 2,
            "linecolor": "white",
            "showbackground": true,
            "ticks": "",
            "zerolinecolor": "white"
           }
          },
          "shapedefaults": {
           "line": {
            "color": "#2a3f5f"
           }
          },
          "ternary": {
           "aaxis": {
            "gridcolor": "white",
            "linecolor": "white",
            "ticks": ""
           },
           "baxis": {
            "gridcolor": "white",
            "linecolor": "white",
            "ticks": ""
           },
           "bgcolor": "#E5ECF6",
           "caxis": {
            "gridcolor": "white",
            "linecolor": "white",
            "ticks": ""
           }
          },
          "title": {
           "x": 0.05
          },
          "xaxis": {
           "automargin": true,
           "gridcolor": "white",
           "linecolor": "white",
           "ticks": "",
           "title": {
            "standoff": 15
           },
           "zerolinecolor": "white",
           "zerolinewidth": 2
          },
          "yaxis": {
           "automargin": true,
           "gridcolor": "white",
           "linecolor": "white",
           "ticks": "",
           "title": {
            "standoff": 15
           },
           "zerolinecolor": "white",
           "zerolinewidth": 2
          }
         }
        },
        "width": 200
       }
      }
     },
     "metadata": {},
     "output_type": "display_data"
    },
    {
     "data": {
      "application/vnd.plotly.v1+json": {
       "config": {
        "plotlyServerURL": "https://plot.ly"
       },
       "data": [
        {
         "domain": {
          "x": [
           0,
           1
          ],
          "y": [
           0,
           1
          ]
         },
         "gauge": {
          "axis": {
           "range": [
            100,
            0
           ],
           "tickfont": {
            "size": 8
           }
          },
          "bar": {
           "color": "red"
          },
          "steps": [
           {
            "color": "lightgray",
            "range": [
             0,
             100
            ]
           }
          ],
          "threshold": {
           "line": {
            "color": "black",
            "width": 4
           },
           "thickness": 0.75,
           "value": 4
          }
         },
         "mode": "gauge+number",
         "number": {
          "suffix": "%"
         },
         "title": {
          "font": {
           "size": 14
          },
          "text": "Atual"
         },
         "type": "indicator",
         "value": 4
        }
       ],
       "layout": {
        "autosize": true,
        "height": 200,
        "margin": {
         "b": 30,
         "l": 30,
         "r": 30,
         "t": 30
        },
        "plot_bgcolor": "white",
        "template": {
         "data": {
          "bar": [
           {
            "error_x": {
             "color": "#2a3f5f"
            },
            "error_y": {
             "color": "#2a3f5f"
            },
            "marker": {
             "line": {
              "color": "#E5ECF6",
              "width": 0.5
             },
             "pattern": {
              "fillmode": "overlay",
              "size": 10,
              "solidity": 0.2
             }
            },
            "type": "bar"
           }
          ],
          "barpolar": [
           {
            "marker": {
             "line": {
              "color": "#E5ECF6",
              "width": 0.5
             },
             "pattern": {
              "fillmode": "overlay",
              "size": 10,
              "solidity": 0.2
             }
            },
            "type": "barpolar"
           }
          ],
          "carpet": [
           {
            "aaxis": {
             "endlinecolor": "#2a3f5f",
             "gridcolor": "white",
             "linecolor": "white",
             "minorgridcolor": "white",
             "startlinecolor": "#2a3f5f"
            },
            "baxis": {
             "endlinecolor": "#2a3f5f",
             "gridcolor": "white",
             "linecolor": "white",
             "minorgridcolor": "white",
             "startlinecolor": "#2a3f5f"
            },
            "type": "carpet"
           }
          ],
          "choropleth": [
           {
            "colorbar": {
             "outlinewidth": 0,
             "ticks": ""
            },
            "type": "choropleth"
           }
          ],
          "contour": [
           {
            "colorbar": {
             "outlinewidth": 0,
             "ticks": ""
            },
            "colorscale": [
             [
              0,
              "#0d0887"
             ],
             [
              0.1111111111111111,
              "#46039f"
             ],
             [
              0.2222222222222222,
              "#7201a8"
             ],
             [
              0.3333333333333333,
              "#9c179e"
             ],
             [
              0.4444444444444444,
              "#bd3786"
             ],
             [
              0.5555555555555556,
              "#d8576b"
             ],
             [
              0.6666666666666666,
              "#ed7953"
             ],
             [
              0.7777777777777778,
              "#fb9f3a"
             ],
             [
              0.8888888888888888,
              "#fdca26"
             ],
             [
              1,
              "#f0f921"
             ]
            ],
            "type": "contour"
           }
          ],
          "contourcarpet": [
           {
            "colorbar": {
             "outlinewidth": 0,
             "ticks": ""
            },
            "type": "contourcarpet"
           }
          ],
          "heatmap": [
           {
            "colorbar": {
             "outlinewidth": 0,
             "ticks": ""
            },
            "colorscale": [
             [
              0,
              "#0d0887"
             ],
             [
              0.1111111111111111,
              "#46039f"
             ],
             [
              0.2222222222222222,
              "#7201a8"
             ],
             [
              0.3333333333333333,
              "#9c179e"
             ],
             [
              0.4444444444444444,
              "#bd3786"
             ],
             [
              0.5555555555555556,
              "#d8576b"
             ],
             [
              0.6666666666666666,
              "#ed7953"
             ],
             [
              0.7777777777777778,
              "#fb9f3a"
             ],
             [
              0.8888888888888888,
              "#fdca26"
             ],
             [
              1,
              "#f0f921"
             ]
            ],
            "type": "heatmap"
           }
          ],
          "heatmapgl": [
           {
            "colorbar": {
             "outlinewidth": 0,
             "ticks": ""
            },
            "colorscale": [
             [
              0,
              "#0d0887"
             ],
             [
              0.1111111111111111,
              "#46039f"
             ],
             [
              0.2222222222222222,
              "#7201a8"
             ],
             [
              0.3333333333333333,
              "#9c179e"
             ],
             [
              0.4444444444444444,
              "#bd3786"
             ],
             [
              0.5555555555555556,
              "#d8576b"
             ],
             [
              0.6666666666666666,
              "#ed7953"
             ],
             [
              0.7777777777777778,
              "#fb9f3a"
             ],
             [
              0.8888888888888888,
              "#fdca26"
             ],
             [
              1,
              "#f0f921"
             ]
            ],
            "type": "heatmapgl"
           }
          ],
          "histogram": [
           {
            "marker": {
             "pattern": {
              "fillmode": "overlay",
              "size": 10,
              "solidity": 0.2
             }
            },
            "type": "histogram"
           }
          ],
          "histogram2d": [
           {
            "colorbar": {
             "outlinewidth": 0,
             "ticks": ""
            },
            "colorscale": [
             [
              0,
              "#0d0887"
             ],
             [
              0.1111111111111111,
              "#46039f"
             ],
             [
              0.2222222222222222,
              "#7201a8"
             ],
             [
              0.3333333333333333,
              "#9c179e"
             ],
             [
              0.4444444444444444,
              "#bd3786"
             ],
             [
              0.5555555555555556,
              "#d8576b"
             ],
             [
              0.6666666666666666,
              "#ed7953"
             ],
             [
              0.7777777777777778,
              "#fb9f3a"
             ],
             [
              0.8888888888888888,
              "#fdca26"
             ],
             [
              1,
              "#f0f921"
             ]
            ],
            "type": "histogram2d"
           }
          ],
          "histogram2dcontour": [
           {
            "colorbar": {
             "outlinewidth": 0,
             "ticks": ""
            },
            "colorscale": [
             [
              0,
              "#0d0887"
             ],
             [
              0.1111111111111111,
              "#46039f"
             ],
             [
              0.2222222222222222,
              "#7201a8"
             ],
             [
              0.3333333333333333,
              "#9c179e"
             ],
             [
              0.4444444444444444,
              "#bd3786"
             ],
             [
              0.5555555555555556,
              "#d8576b"
             ],
             [
              0.6666666666666666,
              "#ed7953"
             ],
             [
              0.7777777777777778,
              "#fb9f3a"
             ],
             [
              0.8888888888888888,
              "#fdca26"
             ],
             [
              1,
              "#f0f921"
             ]
            ],
            "type": "histogram2dcontour"
           }
          ],
          "mesh3d": [
           {
            "colorbar": {
             "outlinewidth": 0,
             "ticks": ""
            },
            "type": "mesh3d"
           }
          ],
          "parcoords": [
           {
            "line": {
             "colorbar": {
              "outlinewidth": 0,
              "ticks": ""
             }
            },
            "type": "parcoords"
           }
          ],
          "pie": [
           {
            "automargin": true,
            "type": "pie"
           }
          ],
          "scatter": [
           {
            "fillpattern": {
             "fillmode": "overlay",
             "size": 10,
             "solidity": 0.2
            },
            "type": "scatter"
           }
          ],
          "scatter3d": [
           {
            "line": {
             "colorbar": {
              "outlinewidth": 0,
              "ticks": ""
             }
            },
            "marker": {
             "colorbar": {
              "outlinewidth": 0,
              "ticks": ""
             }
            },
            "type": "scatter3d"
           }
          ],
          "scattercarpet": [
           {
            "marker": {
             "colorbar": {
              "outlinewidth": 0,
              "ticks": ""
             }
            },
            "type": "scattercarpet"
           }
          ],
          "scattergeo": [
           {
            "marker": {
             "colorbar": {
              "outlinewidth": 0,
              "ticks": ""
             }
            },
            "type": "scattergeo"
           }
          ],
          "scattergl": [
           {
            "marker": {
             "colorbar": {
              "outlinewidth": 0,
              "ticks": ""
             }
            },
            "type": "scattergl"
           }
          ],
          "scattermapbox": [
           {
            "marker": {
             "colorbar": {
              "outlinewidth": 0,
              "ticks": ""
             }
            },
            "type": "scattermapbox"
           }
          ],
          "scatterpolar": [
           {
            "marker": {
             "colorbar": {
              "outlinewidth": 0,
              "ticks": ""
             }
            },
            "type": "scatterpolar"
           }
          ],
          "scatterpolargl": [
           {
            "marker": {
             "colorbar": {
              "outlinewidth": 0,
              "ticks": ""
             }
            },
            "type": "scatterpolargl"
           }
          ],
          "scatterternary": [
           {
            "marker": {
             "colorbar": {
              "outlinewidth": 0,
              "ticks": ""
             }
            },
            "type": "scatterternary"
           }
          ],
          "surface": [
           {
            "colorbar": {
             "outlinewidth": 0,
             "ticks": ""
            },
            "colorscale": [
             [
              0,
              "#0d0887"
             ],
             [
              0.1111111111111111,
              "#46039f"
             ],
             [
              0.2222222222222222,
              "#7201a8"
             ],
             [
              0.3333333333333333,
              "#9c179e"
             ],
             [
              0.4444444444444444,
              "#bd3786"
             ],
             [
              0.5555555555555556,
              "#d8576b"
             ],
             [
              0.6666666666666666,
              "#ed7953"
             ],
             [
              0.7777777777777778,
              "#fb9f3a"
             ],
             [
              0.8888888888888888,
              "#fdca26"
             ],
             [
              1,
              "#f0f921"
             ]
            ],
            "type": "surface"
           }
          ],
          "table": [
           {
            "cells": {
             "fill": {
              "color": "#EBF0F8"
             },
             "line": {
              "color": "white"
             }
            },
            "header": {
             "fill": {
              "color": "#C8D4E3"
             },
             "line": {
              "color": "white"
             }
            },
            "type": "table"
           }
          ]
         },
         "layout": {
          "annotationdefaults": {
           "arrowcolor": "#2a3f5f",
           "arrowhead": 0,
           "arrowwidth": 1
          },
          "autotypenumbers": "strict",
          "coloraxis": {
           "colorbar": {
            "outlinewidth": 0,
            "ticks": ""
           }
          },
          "colorscale": {
           "diverging": [
            [
             0,
             "#8e0152"
            ],
            [
             0.1,
             "#c51b7d"
            ],
            [
             0.2,
             "#de77ae"
            ],
            [
             0.3,
             "#f1b6da"
            ],
            [
             0.4,
             "#fde0ef"
            ],
            [
             0.5,
             "#f7f7f7"
            ],
            [
             0.6,
             "#e6f5d0"
            ],
            [
             0.7,
             "#b8e186"
            ],
            [
             0.8,
             "#7fbc41"
            ],
            [
             0.9,
             "#4d9221"
            ],
            [
             1,
             "#276419"
            ]
           ],
           "sequential": [
            [
             0,
             "#0d0887"
            ],
            [
             0.1111111111111111,
             "#46039f"
            ],
            [
             0.2222222222222222,
             "#7201a8"
            ],
            [
             0.3333333333333333,
             "#9c179e"
            ],
            [
             0.4444444444444444,
             "#bd3786"
            ],
            [
             0.5555555555555556,
             "#d8576b"
            ],
            [
             0.6666666666666666,
             "#ed7953"
            ],
            [
             0.7777777777777778,
             "#fb9f3a"
            ],
            [
             0.8888888888888888,
             "#fdca26"
            ],
            [
             1,
             "#f0f921"
            ]
           ],
           "sequentialminus": [
            [
             0,
             "#0d0887"
            ],
            [
             0.1111111111111111,
             "#46039f"
            ],
            [
             0.2222222222222222,
             "#7201a8"
            ],
            [
             0.3333333333333333,
             "#9c179e"
            ],
            [
             0.4444444444444444,
             "#bd3786"
            ],
            [
             0.5555555555555556,
             "#d8576b"
            ],
            [
             0.6666666666666666,
             "#ed7953"
            ],
            [
             0.7777777777777778,
             "#fb9f3a"
            ],
            [
             0.8888888888888888,
             "#fdca26"
            ],
            [
             1,
             "#f0f921"
            ]
           ]
          },
          "colorway": [
           "#636efa",
           "#EF553B",
           "#00cc96",
           "#ab63fa",
           "#FFA15A",
           "#19d3f3",
           "#FF6692",
           "#B6E880",
           "#FF97FF",
           "#FECB52"
          ],
          "font": {
           "color": "#2a3f5f"
          },
          "geo": {
           "bgcolor": "white",
           "lakecolor": "white",
           "landcolor": "#E5ECF6",
           "showlakes": true,
           "showland": true,
           "subunitcolor": "white"
          },
          "hoverlabel": {
           "align": "left"
          },
          "hovermode": "closest",
          "mapbox": {
           "style": "light"
          },
          "paper_bgcolor": "white",
          "plot_bgcolor": "#E5ECF6",
          "polar": {
           "angularaxis": {
            "gridcolor": "white",
            "linecolor": "white",
            "ticks": ""
           },
           "bgcolor": "#E5ECF6",
           "radialaxis": {
            "gridcolor": "white",
            "linecolor": "white",
            "ticks": ""
           }
          },
          "scene": {
           "xaxis": {
            "backgroundcolor": "#E5ECF6",
            "gridcolor": "white",
            "gridwidth": 2,
            "linecolor": "white",
            "showbackground": true,
            "ticks": "",
            "zerolinecolor": "white"
           },
           "yaxis": {
            "backgroundcolor": "#E5ECF6",
            "gridcolor": "white",
            "gridwidth": 2,
            "linecolor": "white",
            "showbackground": true,
            "ticks": "",
            "zerolinecolor": "white"
           },
           "zaxis": {
            "backgroundcolor": "#E5ECF6",
            "gridcolor": "white",
            "gridwidth": 2,
            "linecolor": "white",
            "showbackground": true,
            "ticks": "",
            "zerolinecolor": "white"
           }
          },
          "shapedefaults": {
           "line": {
            "color": "#2a3f5f"
           }
          },
          "ternary": {
           "aaxis": {
            "gridcolor": "white",
            "linecolor": "white",
            "ticks": ""
           },
           "baxis": {
            "gridcolor": "white",
            "linecolor": "white",
            "ticks": ""
           },
           "bgcolor": "#E5ECF6",
           "caxis": {
            "gridcolor": "white",
            "linecolor": "white",
            "ticks": ""
           }
          },
          "title": {
           "x": 0.05
          },
          "xaxis": {
           "automargin": true,
           "gridcolor": "white",
           "linecolor": "white",
           "ticks": "",
           "title": {
            "standoff": 15
           },
           "zerolinecolor": "white",
           "zerolinewidth": 2
          },
          "yaxis": {
           "automargin": true,
           "gridcolor": "white",
           "linecolor": "white",
           "ticks": "",
           "title": {
            "standoff": 15
           },
           "zerolinecolor": "white",
           "zerolinewidth": 2
          }
         }
        },
        "width": 200
       }
      }
     },
     "metadata": {},
     "output_type": "display_data"
    }
   ],
   "source": [
    "# cSpell: disable=invalid-name\n",
    "\n",
    "\n",
    "def calculate_eficiencia(df):\n",
    "    return df[\"eficiencia\"].mean()\n",
    "\n",
    "\n",
    "def calculate_performance(df):\n",
    "    return df[\"performance\"].mean()\n",
    "\n",
    "\n",
    "def calculate_reparos(df):\n",
    "    return df[\"reparo\"].mean()\n",
    "\n",
    "\n",
    "def draw_circular_progress_bar_v2(df: pd.DataFrame, type: str, meta: int):\n",
    "    # mapear o tipo das funções\n",
    "    type_map = {\n",
    "        \"eficiencia\": calculate_eficiencia,\n",
    "        \"performance\": calculate_performance,\n",
    "        \"reparo\": calculate_reparos,\n",
    "    }\n",
    "\n",
    "    # Verificar a primeira data_registro do dataframe para saber se os dados são do mês atual\n",
    "    this_month = df[\"data_registro\"].iloc[0].month == pd.Timestamp.now().month\n",
    "    month = \"Atual\" if this_month else \"Anterior\"\n",
    "\n",
    "    # Obter a função com base no tipo\n",
    "    func = type_map[type]\n",
    "\n",
    "    # Calcular a porcentagem\n",
    "    percentage = func(df.copy()) if func is not None else 0\n",
    "\n",
    "    # Arredondar porcentagem para não ter casas decimais\n",
    "    percentage = round(percentage, 2)\n",
    "\n",
    "    # Definir a cor com base na porcentagem\n",
    "    if type == \"eficiencia\":\n",
    "        color = \"green\" if percentage >= (meta / 100) else \"red\"\n",
    "    else:\n",
    "        color = \"red\" if percentage >= (meta / 100) else \"green\"\n",
    "\n",
    "    # Definir a escala do eixo para \"performance\" e \"reparo\"\n",
    "    axis_range = [0, 100] if type == \"eficiencia\" else [100, 0]\n",
    "\n",
    "    # Criar o gráfico\n",
    "    fig = go.Figure(\n",
    "        go.Indicator(\n",
    "            mode=\"gauge+number\",\n",
    "            value=percentage * 100,\n",
    "            number={\"suffix\": \"%\"},\n",
    "            domain={\"x\": [0, 1], \"y\": [0, 1]},\n",
    "            title={\n",
    "                \"text\": month,\n",
    "                \"font\": {\"size\": 14},\n",
    "            },\n",
    "            gauge={\n",
    "                \"axis\": {\n",
    "                    \"range\": axis_range,\n",
    "                    \"tickfont\": {\"size\": 8},\n",
    "                },\n",
    "                \"bar\": {\"color\": color},\n",
    "                \"steps\": [\n",
    "                    {\"range\": [0, 100], \"color\": \"lightgray\"},\n",
    "                ],\n",
    "                \"threshold\": {\n",
    "                    \"line\": {\"color\": \"black\", \"width\": 4},\n",
    "                    \"thickness\": 0.75,\n",
    "                    \"value\": meta,\n",
    "                },\n",
    "            },\n",
    "        )\n",
    "    )\n",
    "\n",
    "    fig.update_layout(\n",
    "        autosize=True,\n",
    "        margin=dict(t=30, b=30, l=30, r=30),\n",
    "        plot_bgcolor=\"white\",\n",
    "        width=200,  # apenas para visualização no jupyter\n",
    "        height=200,  # apenas para visualização no jupyter\n",
    "    )\n",
    "\n",
    "    fig.show()\n",
    "\n",
    "\n",
    "draw_circular_progress_bar_v2(df_eff, \"eficiencia\", 90)\n",
    "draw_circular_progress_bar_v2(df_perf, \"performance\", 4)\n",
    "draw_circular_progress_bar_v2(df_reparos, \"reparo\", 4)"
   ]
  },
  {
   "cell_type": "code",
   "execution_count": 72,
   "metadata": {},
   "outputs": [
    {
     "data": {
      "application/vnd.plotly.v1+json": {
       "config": {
        "plotlyServerURL": "https://plot.ly"
       },
       "data": [
        {
         "hoverinfo": "skip",
         "hovertemplate": "<i>Dia</i>: %{x}<br><b>Porcentagem</b>: %{y:.1f}<br>",
         "line": {
          "color": "blue"
         },
         "marker": {
          "color": "blue"
         },
         "mode": "lines+markers",
         "type": "scatter",
         "x": [
          "2024-01-01",
          "2024-01-02",
          "2024-01-03",
          "2024-01-04",
          "2024-01-05",
          "2024-01-06",
          "2024-01-07",
          "2024-01-08",
          "2024-01-09",
          "2024-01-10",
          "2024-01-11",
          "2024-01-12",
          "2024-01-13",
          "2024-01-14",
          "2024-01-15",
          "2024-01-16",
          "2024-01-17",
          "2024-01-18",
          "2024-01-19",
          "2024-01-20",
          "2024-01-21",
          "2024-01-22",
          "2024-01-23",
          "2024-01-24",
          "2024-01-25",
          "2024-01-26",
          "2024-01-27",
          "2024-01-28",
          "2024-01-29",
          "2024-01-30"
         ],
         "y": [
          0,
          0.09686657681940701,
          46.79858808889551,
          54.593316581532726,
          57.581953340471024,
          49.95407361057631,
          0.07674453429170411,
          51.7151044856047,
          55.42707336480552,
          56.608844921381284,
          52.860792896607066,
          31.76521787960467,
          0,
          0.004031607805192711,
          42.94415618110459,
          45.59769485624439,
          49.205219142665946,
          38.84111865869557,
          0.004169048980369735,
          0,
          0.03326076439283987,
          43.661689771663006,
          48.32418902141525,
          49.55874449095022,
          50.522696089172584,
          50.834464974507775,
          24.548476794470318,
          1.7653402676987582,
          28.20261989683518,
          28.261032114389494
         ]
        }
       ],
       "layout": {
        "height": 200,
        "margin": {
         "b": 0,
         "l": 0,
         "r": 0,
         "t": 0
        },
        "plot_bgcolor": "white",
        "showlegend": false,
        "template": {
         "data": {
          "bar": [
           {
            "error_x": {
             "color": "#2a3f5f"
            },
            "error_y": {
             "color": "#2a3f5f"
            },
            "marker": {
             "line": {
              "color": "#E5ECF6",
              "width": 0.5
             },
             "pattern": {
              "fillmode": "overlay",
              "size": 10,
              "solidity": 0.2
             }
            },
            "type": "bar"
           }
          ],
          "barpolar": [
           {
            "marker": {
             "line": {
              "color": "#E5ECF6",
              "width": 0.5
             },
             "pattern": {
              "fillmode": "overlay",
              "size": 10,
              "solidity": 0.2
             }
            },
            "type": "barpolar"
           }
          ],
          "carpet": [
           {
            "aaxis": {
             "endlinecolor": "#2a3f5f",
             "gridcolor": "white",
             "linecolor": "white",
             "minorgridcolor": "white",
             "startlinecolor": "#2a3f5f"
            },
            "baxis": {
             "endlinecolor": "#2a3f5f",
             "gridcolor": "white",
             "linecolor": "white",
             "minorgridcolor": "white",
             "startlinecolor": "#2a3f5f"
            },
            "type": "carpet"
           }
          ],
          "choropleth": [
           {
            "colorbar": {
             "outlinewidth": 0,
             "ticks": ""
            },
            "type": "choropleth"
           }
          ],
          "contour": [
           {
            "colorbar": {
             "outlinewidth": 0,
             "ticks": ""
            },
            "colorscale": [
             [
              0,
              "#0d0887"
             ],
             [
              0.1111111111111111,
              "#46039f"
             ],
             [
              0.2222222222222222,
              "#7201a8"
             ],
             [
              0.3333333333333333,
              "#9c179e"
             ],
             [
              0.4444444444444444,
              "#bd3786"
             ],
             [
              0.5555555555555556,
              "#d8576b"
             ],
             [
              0.6666666666666666,
              "#ed7953"
             ],
             [
              0.7777777777777778,
              "#fb9f3a"
             ],
             [
              0.8888888888888888,
              "#fdca26"
             ],
             [
              1,
              "#f0f921"
             ]
            ],
            "type": "contour"
           }
          ],
          "contourcarpet": [
           {
            "colorbar": {
             "outlinewidth": 0,
             "ticks": ""
            },
            "type": "contourcarpet"
           }
          ],
          "heatmap": [
           {
            "colorbar": {
             "outlinewidth": 0,
             "ticks": ""
            },
            "colorscale": [
             [
              0,
              "#0d0887"
             ],
             [
              0.1111111111111111,
              "#46039f"
             ],
             [
              0.2222222222222222,
              "#7201a8"
             ],
             [
              0.3333333333333333,
              "#9c179e"
             ],
             [
              0.4444444444444444,
              "#bd3786"
             ],
             [
              0.5555555555555556,
              "#d8576b"
             ],
             [
              0.6666666666666666,
              "#ed7953"
             ],
             [
              0.7777777777777778,
              "#fb9f3a"
             ],
             [
              0.8888888888888888,
              "#fdca26"
             ],
             [
              1,
              "#f0f921"
             ]
            ],
            "type": "heatmap"
           }
          ],
          "heatmapgl": [
           {
            "colorbar": {
             "outlinewidth": 0,
             "ticks": ""
            },
            "colorscale": [
             [
              0,
              "#0d0887"
             ],
             [
              0.1111111111111111,
              "#46039f"
             ],
             [
              0.2222222222222222,
              "#7201a8"
             ],
             [
              0.3333333333333333,
              "#9c179e"
             ],
             [
              0.4444444444444444,
              "#bd3786"
             ],
             [
              0.5555555555555556,
              "#d8576b"
             ],
             [
              0.6666666666666666,
              "#ed7953"
             ],
             [
              0.7777777777777778,
              "#fb9f3a"
             ],
             [
              0.8888888888888888,
              "#fdca26"
             ],
             [
              1,
              "#f0f921"
             ]
            ],
            "type": "heatmapgl"
           }
          ],
          "histogram": [
           {
            "marker": {
             "pattern": {
              "fillmode": "overlay",
              "size": 10,
              "solidity": 0.2
             }
            },
            "type": "histogram"
           }
          ],
          "histogram2d": [
           {
            "colorbar": {
             "outlinewidth": 0,
             "ticks": ""
            },
            "colorscale": [
             [
              0,
              "#0d0887"
             ],
             [
              0.1111111111111111,
              "#46039f"
             ],
             [
              0.2222222222222222,
              "#7201a8"
             ],
             [
              0.3333333333333333,
              "#9c179e"
             ],
             [
              0.4444444444444444,
              "#bd3786"
             ],
             [
              0.5555555555555556,
              "#d8576b"
             ],
             [
              0.6666666666666666,
              "#ed7953"
             ],
             [
              0.7777777777777778,
              "#fb9f3a"
             ],
             [
              0.8888888888888888,
              "#fdca26"
             ],
             [
              1,
              "#f0f921"
             ]
            ],
            "type": "histogram2d"
           }
          ],
          "histogram2dcontour": [
           {
            "colorbar": {
             "outlinewidth": 0,
             "ticks": ""
            },
            "colorscale": [
             [
              0,
              "#0d0887"
             ],
             [
              0.1111111111111111,
              "#46039f"
             ],
             [
              0.2222222222222222,
              "#7201a8"
             ],
             [
              0.3333333333333333,
              "#9c179e"
             ],
             [
              0.4444444444444444,
              "#bd3786"
             ],
             [
              0.5555555555555556,
              "#d8576b"
             ],
             [
              0.6666666666666666,
              "#ed7953"
             ],
             [
              0.7777777777777778,
              "#fb9f3a"
             ],
             [
              0.8888888888888888,
              "#fdca26"
             ],
             [
              1,
              "#f0f921"
             ]
            ],
            "type": "histogram2dcontour"
           }
          ],
          "mesh3d": [
           {
            "colorbar": {
             "outlinewidth": 0,
             "ticks": ""
            },
            "type": "mesh3d"
           }
          ],
          "parcoords": [
           {
            "line": {
             "colorbar": {
              "outlinewidth": 0,
              "ticks": ""
             }
            },
            "type": "parcoords"
           }
          ],
          "pie": [
           {
            "automargin": true,
            "type": "pie"
           }
          ],
          "scatter": [
           {
            "fillpattern": {
             "fillmode": "overlay",
             "size": 10,
             "solidity": 0.2
            },
            "type": "scatter"
           }
          ],
          "scatter3d": [
           {
            "line": {
             "colorbar": {
              "outlinewidth": 0,
              "ticks": ""
             }
            },
            "marker": {
             "colorbar": {
              "outlinewidth": 0,
              "ticks": ""
             }
            },
            "type": "scatter3d"
           }
          ],
          "scattercarpet": [
           {
            "marker": {
             "colorbar": {
              "outlinewidth": 0,
              "ticks": ""
             }
            },
            "type": "scattercarpet"
           }
          ],
          "scattergeo": [
           {
            "marker": {
             "colorbar": {
              "outlinewidth": 0,
              "ticks": ""
             }
            },
            "type": "scattergeo"
           }
          ],
          "scattergl": [
           {
            "marker": {
             "colorbar": {
              "outlinewidth": 0,
              "ticks": ""
             }
            },
            "type": "scattergl"
           }
          ],
          "scattermapbox": [
           {
            "marker": {
             "colorbar": {
              "outlinewidth": 0,
              "ticks": ""
             }
            },
            "type": "scattermapbox"
           }
          ],
          "scatterpolar": [
           {
            "marker": {
             "colorbar": {
              "outlinewidth": 0,
              "ticks": ""
             }
            },
            "type": "scatterpolar"
           }
          ],
          "scatterpolargl": [
           {
            "marker": {
             "colorbar": {
              "outlinewidth": 0,
              "ticks": ""
             }
            },
            "type": "scatterpolargl"
           }
          ],
          "scatterternary": [
           {
            "marker": {
             "colorbar": {
              "outlinewidth": 0,
              "ticks": ""
             }
            },
            "type": "scatterternary"
           }
          ],
          "surface": [
           {
            "colorbar": {
             "outlinewidth": 0,
             "ticks": ""
            },
            "colorscale": [
             [
              0,
              "#0d0887"
             ],
             [
              0.1111111111111111,
              "#46039f"
             ],
             [
              0.2222222222222222,
              "#7201a8"
             ],
             [
              0.3333333333333333,
              "#9c179e"
             ],
             [
              0.4444444444444444,
              "#bd3786"
             ],
             [
              0.5555555555555556,
              "#d8576b"
             ],
             [
              0.6666666666666666,
              "#ed7953"
             ],
             [
              0.7777777777777778,
              "#fb9f3a"
             ],
             [
              0.8888888888888888,
              "#fdca26"
             ],
             [
              1,
              "#f0f921"
             ]
            ],
            "type": "surface"
           }
          ],
          "table": [
           {
            "cells": {
             "fill": {
              "color": "#EBF0F8"
             },
             "line": {
              "color": "white"
             }
            },
            "header": {
             "fill": {
              "color": "#C8D4E3"
             },
             "line": {
              "color": "white"
             }
            },
            "type": "table"
           }
          ]
         },
         "layout": {
          "annotationdefaults": {
           "arrowcolor": "#2a3f5f",
           "arrowhead": 0,
           "arrowwidth": 1
          },
          "autotypenumbers": "strict",
          "coloraxis": {
           "colorbar": {
            "outlinewidth": 0,
            "ticks": ""
           }
          },
          "colorscale": {
           "diverging": [
            [
             0,
             "#8e0152"
            ],
            [
             0.1,
             "#c51b7d"
            ],
            [
             0.2,
             "#de77ae"
            ],
            [
             0.3,
             "#f1b6da"
            ],
            [
             0.4,
             "#fde0ef"
            ],
            [
             0.5,
             "#f7f7f7"
            ],
            [
             0.6,
             "#e6f5d0"
            ],
            [
             0.7,
             "#b8e186"
            ],
            [
             0.8,
             "#7fbc41"
            ],
            [
             0.9,
             "#4d9221"
            ],
            [
             1,
             "#276419"
            ]
           ],
           "sequential": [
            [
             0,
             "#0d0887"
            ],
            [
             0.1111111111111111,
             "#46039f"
            ],
            [
             0.2222222222222222,
             "#7201a8"
            ],
            [
             0.3333333333333333,
             "#9c179e"
            ],
            [
             0.4444444444444444,
             "#bd3786"
            ],
            [
             0.5555555555555556,
             "#d8576b"
            ],
            [
             0.6666666666666666,
             "#ed7953"
            ],
            [
             0.7777777777777778,
             "#fb9f3a"
            ],
            [
             0.8888888888888888,
             "#fdca26"
            ],
            [
             1,
             "#f0f921"
            ]
           ],
           "sequentialminus": [
            [
             0,
             "#0d0887"
            ],
            [
             0.1111111111111111,
             "#46039f"
            ],
            [
             0.2222222222222222,
             "#7201a8"
            ],
            [
             0.3333333333333333,
             "#9c179e"
            ],
            [
             0.4444444444444444,
             "#bd3786"
            ],
            [
             0.5555555555555556,
             "#d8576b"
            ],
            [
             0.6666666666666666,
             "#ed7953"
            ],
            [
             0.7777777777777778,
             "#fb9f3a"
            ],
            [
             0.8888888888888888,
             "#fdca26"
            ],
            [
             1,
             "#f0f921"
            ]
           ]
          },
          "colorway": [
           "#636efa",
           "#EF553B",
           "#00cc96",
           "#ab63fa",
           "#FFA15A",
           "#19d3f3",
           "#FF6692",
           "#B6E880",
           "#FF97FF",
           "#FECB52"
          ],
          "font": {
           "color": "#2a3f5f"
          },
          "geo": {
           "bgcolor": "white",
           "lakecolor": "white",
           "landcolor": "#E5ECF6",
           "showlakes": true,
           "showland": true,
           "subunitcolor": "white"
          },
          "hoverlabel": {
           "align": "left"
          },
          "hovermode": "closest",
          "mapbox": {
           "style": "light"
          },
          "paper_bgcolor": "white",
          "plot_bgcolor": "#E5ECF6",
          "polar": {
           "angularaxis": {
            "gridcolor": "white",
            "linecolor": "white",
            "ticks": ""
           },
           "bgcolor": "#E5ECF6",
           "radialaxis": {
            "gridcolor": "white",
            "linecolor": "white",
            "ticks": ""
           }
          },
          "scene": {
           "xaxis": {
            "backgroundcolor": "#E5ECF6",
            "gridcolor": "white",
            "gridwidth": 2,
            "linecolor": "white",
            "showbackground": true,
            "ticks": "",
            "zerolinecolor": "white"
           },
           "yaxis": {
            "backgroundcolor": "#E5ECF6",
            "gridcolor": "white",
            "gridwidth": 2,
            "linecolor": "white",
            "showbackground": true,
            "ticks": "",
            "zerolinecolor": "white"
           },
           "zaxis": {
            "backgroundcolor": "#E5ECF6",
            "gridcolor": "white",
            "gridwidth": 2,
            "linecolor": "white",
            "showbackground": true,
            "ticks": "",
            "zerolinecolor": "white"
           }
          },
          "shapedefaults": {
           "line": {
            "color": "#2a3f5f"
           }
          },
          "ternary": {
           "aaxis": {
            "gridcolor": "white",
            "linecolor": "white",
            "ticks": ""
           },
           "baxis": {
            "gridcolor": "white",
            "linecolor": "white",
            "ticks": ""
           },
           "bgcolor": "#E5ECF6",
           "caxis": {
            "gridcolor": "white",
            "linecolor": "white",
            "ticks": ""
           }
          },
          "title": {
           "x": 0.05
          },
          "xaxis": {
           "automargin": true,
           "gridcolor": "white",
           "linecolor": "white",
           "ticks": "",
           "title": {
            "standoff": 15
           },
           "zerolinecolor": "white",
           "zerolinewidth": 2
          },
          "yaxis": {
           "automargin": true,
           "gridcolor": "white",
           "linecolor": "white",
           "ticks": "",
           "title": {
            "standoff": 15
           },
           "zerolinecolor": "white",
           "zerolinewidth": 2
          }
         }
        },
        "xaxis": {
         "showticklabels": false
        },
        "yaxis": {
         "showticklabels": false
        }
       }
      }
     },
     "metadata": {},
     "output_type": "display_data"
    },
    {
     "data": {
      "application/vnd.plotly.v1+json": {
       "config": {
        "plotlyServerURL": "https://plot.ly"
       },
       "data": [
        {
         "hoverinfo": "skip",
         "hovertemplate": "<i>Dia</i>: %{x}<br><b>Porcentagem</b>: %{y:.1f}<br>",
         "line": {
          "color": "blue"
         },
         "marker": {
          "color": "blue"
         },
         "mode": "lines+markers",
         "type": "scatter",
         "x": [
          "2024-01-01",
          "2024-01-02",
          "2024-01-03",
          "2024-01-04",
          "2024-01-05",
          "2024-01-06",
          "2024-01-07",
          "2024-01-08",
          "2024-01-09",
          "2024-01-10",
          "2024-01-11",
          "2024-01-12",
          "2024-01-13",
          "2024-01-14",
          "2024-01-15",
          "2024-01-16",
          "2024-01-17",
          "2024-01-18",
          "2024-01-19",
          "2024-01-20",
          "2024-01-21",
          "2024-01-22",
          "2024-01-23",
          "2024-01-24",
          "2024-01-25",
          "2024-01-26",
          "2024-01-27",
          "2024-01-28",
          "2024-01-29",
          "2024-01-30"
         ],
         "y": [
          0,
          2.3214285714285716,
          15.58466984229096,
          15.445862159312629,
          16.256325701012113,
          10.593820861678005,
          2.3313492063492065,
          20.09535643185396,
          24.508754687370065,
          24.739644114270533,
          25.73391055074541,
          52.096088435374156,
          14.090909090909093,
          9.230769230769232,
          19.479235947731883,
          18.625,
          28.08160146036086,
          47.22204116595243,
          89.88636363636364,
          13.418803418803419,
          0,
          26.51309919832182,
          30.56553005817712,
          22.129888358967857,
          14.407771126968743,
          21.331385118149825,
          21.935286935286932,
          2.158119658119658,
          21.942031982354564,
          12.80350776674306
         ]
        }
       ],
       "layout": {
        "height": 200,
        "margin": {
         "b": 0,
         "l": 0,
         "r": 0,
         "t": 0
        },
        "plot_bgcolor": "white",
        "showlegend": false,
        "template": {
         "data": {
          "bar": [
           {
            "error_x": {
             "color": "#2a3f5f"
            },
            "error_y": {
             "color": "#2a3f5f"
            },
            "marker": {
             "line": {
              "color": "#E5ECF6",
              "width": 0.5
             },
             "pattern": {
              "fillmode": "overlay",
              "size": 10,
              "solidity": 0.2
             }
            },
            "type": "bar"
           }
          ],
          "barpolar": [
           {
            "marker": {
             "line": {
              "color": "#E5ECF6",
              "width": 0.5
             },
             "pattern": {
              "fillmode": "overlay",
              "size": 10,
              "solidity": 0.2
             }
            },
            "type": "barpolar"
           }
          ],
          "carpet": [
           {
            "aaxis": {
             "endlinecolor": "#2a3f5f",
             "gridcolor": "white",
             "linecolor": "white",
             "minorgridcolor": "white",
             "startlinecolor": "#2a3f5f"
            },
            "baxis": {
             "endlinecolor": "#2a3f5f",
             "gridcolor": "white",
             "linecolor": "white",
             "minorgridcolor": "white",
             "startlinecolor": "#2a3f5f"
            },
            "type": "carpet"
           }
          ],
          "choropleth": [
           {
            "colorbar": {
             "outlinewidth": 0,
             "ticks": ""
            },
            "type": "choropleth"
           }
          ],
          "contour": [
           {
            "colorbar": {
             "outlinewidth": 0,
             "ticks": ""
            },
            "colorscale": [
             [
              0,
              "#0d0887"
             ],
             [
              0.1111111111111111,
              "#46039f"
             ],
             [
              0.2222222222222222,
              "#7201a8"
             ],
             [
              0.3333333333333333,
              "#9c179e"
             ],
             [
              0.4444444444444444,
              "#bd3786"
             ],
             [
              0.5555555555555556,
              "#d8576b"
             ],
             [
              0.6666666666666666,
              "#ed7953"
             ],
             [
              0.7777777777777778,
              "#fb9f3a"
             ],
             [
              0.8888888888888888,
              "#fdca26"
             ],
             [
              1,
              "#f0f921"
             ]
            ],
            "type": "contour"
           }
          ],
          "contourcarpet": [
           {
            "colorbar": {
             "outlinewidth": 0,
             "ticks": ""
            },
            "type": "contourcarpet"
           }
          ],
          "heatmap": [
           {
            "colorbar": {
             "outlinewidth": 0,
             "ticks": ""
            },
            "colorscale": [
             [
              0,
              "#0d0887"
             ],
             [
              0.1111111111111111,
              "#46039f"
             ],
             [
              0.2222222222222222,
              "#7201a8"
             ],
             [
              0.3333333333333333,
              "#9c179e"
             ],
             [
              0.4444444444444444,
              "#bd3786"
             ],
             [
              0.5555555555555556,
              "#d8576b"
             ],
             [
              0.6666666666666666,
              "#ed7953"
             ],
             [
              0.7777777777777778,
              "#fb9f3a"
             ],
             [
              0.8888888888888888,
              "#fdca26"
             ],
             [
              1,
              "#f0f921"
             ]
            ],
            "type": "heatmap"
           }
          ],
          "heatmapgl": [
           {
            "colorbar": {
             "outlinewidth": 0,
             "ticks": ""
            },
            "colorscale": [
             [
              0,
              "#0d0887"
             ],
             [
              0.1111111111111111,
              "#46039f"
             ],
             [
              0.2222222222222222,
              "#7201a8"
             ],
             [
              0.3333333333333333,
              "#9c179e"
             ],
             [
              0.4444444444444444,
              "#bd3786"
             ],
             [
              0.5555555555555556,
              "#d8576b"
             ],
             [
              0.6666666666666666,
              "#ed7953"
             ],
             [
              0.7777777777777778,
              "#fb9f3a"
             ],
             [
              0.8888888888888888,
              "#fdca26"
             ],
             [
              1,
              "#f0f921"
             ]
            ],
            "type": "heatmapgl"
           }
          ],
          "histogram": [
           {
            "marker": {
             "pattern": {
              "fillmode": "overlay",
              "size": 10,
              "solidity": 0.2
             }
            },
            "type": "histogram"
           }
          ],
          "histogram2d": [
           {
            "colorbar": {
             "outlinewidth": 0,
             "ticks": ""
            },
            "colorscale": [
             [
              0,
              "#0d0887"
             ],
             [
              0.1111111111111111,
              "#46039f"
             ],
             [
              0.2222222222222222,
              "#7201a8"
             ],
             [
              0.3333333333333333,
              "#9c179e"
             ],
             [
              0.4444444444444444,
              "#bd3786"
             ],
             [
              0.5555555555555556,
              "#d8576b"
             ],
             [
              0.6666666666666666,
              "#ed7953"
             ],
             [
              0.7777777777777778,
              "#fb9f3a"
             ],
             [
              0.8888888888888888,
              "#fdca26"
             ],
             [
              1,
              "#f0f921"
             ]
            ],
            "type": "histogram2d"
           }
          ],
          "histogram2dcontour": [
           {
            "colorbar": {
             "outlinewidth": 0,
             "ticks": ""
            },
            "colorscale": [
             [
              0,
              "#0d0887"
             ],
             [
              0.1111111111111111,
              "#46039f"
             ],
             [
              0.2222222222222222,
              "#7201a8"
             ],
             [
              0.3333333333333333,
              "#9c179e"
             ],
             [
              0.4444444444444444,
              "#bd3786"
             ],
             [
              0.5555555555555556,
              "#d8576b"
             ],
             [
              0.6666666666666666,
              "#ed7953"
             ],
             [
              0.7777777777777778,
              "#fb9f3a"
             ],
             [
              0.8888888888888888,
              "#fdca26"
             ],
             [
              1,
              "#f0f921"
             ]
            ],
            "type": "histogram2dcontour"
           }
          ],
          "mesh3d": [
           {
            "colorbar": {
             "outlinewidth": 0,
             "ticks": ""
            },
            "type": "mesh3d"
           }
          ],
          "parcoords": [
           {
            "line": {
             "colorbar": {
              "outlinewidth": 0,
              "ticks": ""
             }
            },
            "type": "parcoords"
           }
          ],
          "pie": [
           {
            "automargin": true,
            "type": "pie"
           }
          ],
          "scatter": [
           {
            "fillpattern": {
             "fillmode": "overlay",
             "size": 10,
             "solidity": 0.2
            },
            "type": "scatter"
           }
          ],
          "scatter3d": [
           {
            "line": {
             "colorbar": {
              "outlinewidth": 0,
              "ticks": ""
             }
            },
            "marker": {
             "colorbar": {
              "outlinewidth": 0,
              "ticks": ""
             }
            },
            "type": "scatter3d"
           }
          ],
          "scattercarpet": [
           {
            "marker": {
             "colorbar": {
              "outlinewidth": 0,
              "ticks": ""
             }
            },
            "type": "scattercarpet"
           }
          ],
          "scattergeo": [
           {
            "marker": {
             "colorbar": {
              "outlinewidth": 0,
              "ticks": ""
             }
            },
            "type": "scattergeo"
           }
          ],
          "scattergl": [
           {
            "marker": {
             "colorbar": {
              "outlinewidth": 0,
              "ticks": ""
             }
            },
            "type": "scattergl"
           }
          ],
          "scattermapbox": [
           {
            "marker": {
             "colorbar": {
              "outlinewidth": 0,
              "ticks": ""
             }
            },
            "type": "scattermapbox"
           }
          ],
          "scatterpolar": [
           {
            "marker": {
             "colorbar": {
              "outlinewidth": 0,
              "ticks": ""
             }
            },
            "type": "scatterpolar"
           }
          ],
          "scatterpolargl": [
           {
            "marker": {
             "colorbar": {
              "outlinewidth": 0,
              "ticks": ""
             }
            },
            "type": "scatterpolargl"
           }
          ],
          "scatterternary": [
           {
            "marker": {
             "colorbar": {
              "outlinewidth": 0,
              "ticks": ""
             }
            },
            "type": "scatterternary"
           }
          ],
          "surface": [
           {
            "colorbar": {
             "outlinewidth": 0,
             "ticks": ""
            },
            "colorscale": [
             [
              0,
              "#0d0887"
             ],
             [
              0.1111111111111111,
              "#46039f"
             ],
             [
              0.2222222222222222,
              "#7201a8"
             ],
             [
              0.3333333333333333,
              "#9c179e"
             ],
             [
              0.4444444444444444,
              "#bd3786"
             ],
             [
              0.5555555555555556,
              "#d8576b"
             ],
             [
              0.6666666666666666,
              "#ed7953"
             ],
             [
              0.7777777777777778,
              "#fb9f3a"
             ],
             [
              0.8888888888888888,
              "#fdca26"
             ],
             [
              1,
              "#f0f921"
             ]
            ],
            "type": "surface"
           }
          ],
          "table": [
           {
            "cells": {
             "fill": {
              "color": "#EBF0F8"
             },
             "line": {
              "color": "white"
             }
            },
            "header": {
             "fill": {
              "color": "#C8D4E3"
             },
             "line": {
              "color": "white"
             }
            },
            "type": "table"
           }
          ]
         },
         "layout": {
          "annotationdefaults": {
           "arrowcolor": "#2a3f5f",
           "arrowhead": 0,
           "arrowwidth": 1
          },
          "autotypenumbers": "strict",
          "coloraxis": {
           "colorbar": {
            "outlinewidth": 0,
            "ticks": ""
           }
          },
          "colorscale": {
           "diverging": [
            [
             0,
             "#8e0152"
            ],
            [
             0.1,
             "#c51b7d"
            ],
            [
             0.2,
             "#de77ae"
            ],
            [
             0.3,
             "#f1b6da"
            ],
            [
             0.4,
             "#fde0ef"
            ],
            [
             0.5,
             "#f7f7f7"
            ],
            [
             0.6,
             "#e6f5d0"
            ],
            [
             0.7,
             "#b8e186"
            ],
            [
             0.8,
             "#7fbc41"
            ],
            [
             0.9,
             "#4d9221"
            ],
            [
             1,
             "#276419"
            ]
           ],
           "sequential": [
            [
             0,
             "#0d0887"
            ],
            [
             0.1111111111111111,
             "#46039f"
            ],
            [
             0.2222222222222222,
             "#7201a8"
            ],
            [
             0.3333333333333333,
             "#9c179e"
            ],
            [
             0.4444444444444444,
             "#bd3786"
            ],
            [
             0.5555555555555556,
             "#d8576b"
            ],
            [
             0.6666666666666666,
             "#ed7953"
            ],
            [
             0.7777777777777778,
             "#fb9f3a"
            ],
            [
             0.8888888888888888,
             "#fdca26"
            ],
            [
             1,
             "#f0f921"
            ]
           ],
           "sequentialminus": [
            [
             0,
             "#0d0887"
            ],
            [
             0.1111111111111111,
             "#46039f"
            ],
            [
             0.2222222222222222,
             "#7201a8"
            ],
            [
             0.3333333333333333,
             "#9c179e"
            ],
            [
             0.4444444444444444,
             "#bd3786"
            ],
            [
             0.5555555555555556,
             "#d8576b"
            ],
            [
             0.6666666666666666,
             "#ed7953"
            ],
            [
             0.7777777777777778,
             "#fb9f3a"
            ],
            [
             0.8888888888888888,
             "#fdca26"
            ],
            [
             1,
             "#f0f921"
            ]
           ]
          },
          "colorway": [
           "#636efa",
           "#EF553B",
           "#00cc96",
           "#ab63fa",
           "#FFA15A",
           "#19d3f3",
           "#FF6692",
           "#B6E880",
           "#FF97FF",
           "#FECB52"
          ],
          "font": {
           "color": "#2a3f5f"
          },
          "geo": {
           "bgcolor": "white",
           "lakecolor": "white",
           "landcolor": "#E5ECF6",
           "showlakes": true,
           "showland": true,
           "subunitcolor": "white"
          },
          "hoverlabel": {
           "align": "left"
          },
          "hovermode": "closest",
          "mapbox": {
           "style": "light"
          },
          "paper_bgcolor": "white",
          "plot_bgcolor": "#E5ECF6",
          "polar": {
           "angularaxis": {
            "gridcolor": "white",
            "linecolor": "white",
            "ticks": ""
           },
           "bgcolor": "#E5ECF6",
           "radialaxis": {
            "gridcolor": "white",
            "linecolor": "white",
            "ticks": ""
           }
          },
          "scene": {
           "xaxis": {
            "backgroundcolor": "#E5ECF6",
            "gridcolor": "white",
            "gridwidth": 2,
            "linecolor": "white",
            "showbackground": true,
            "ticks": "",
            "zerolinecolor": "white"
           },
           "yaxis": {
            "backgroundcolor": "#E5ECF6",
            "gridcolor": "white",
            "gridwidth": 2,
            "linecolor": "white",
            "showbackground": true,
            "ticks": "",
            "zerolinecolor": "white"
           },
           "zaxis": {
            "backgroundcolor": "#E5ECF6",
            "gridcolor": "white",
            "gridwidth": 2,
            "linecolor": "white",
            "showbackground": true,
            "ticks": "",
            "zerolinecolor": "white"
           }
          },
          "shapedefaults": {
           "line": {
            "color": "#2a3f5f"
           }
          },
          "ternary": {
           "aaxis": {
            "gridcolor": "white",
            "linecolor": "white",
            "ticks": ""
           },
           "baxis": {
            "gridcolor": "white",
            "linecolor": "white",
            "ticks": ""
           },
           "bgcolor": "#E5ECF6",
           "caxis": {
            "gridcolor": "white",
            "linecolor": "white",
            "ticks": ""
           }
          },
          "title": {
           "x": 0.05
          },
          "xaxis": {
           "automargin": true,
           "gridcolor": "white",
           "linecolor": "white",
           "ticks": "",
           "title": {
            "standoff": 15
           },
           "zerolinecolor": "white",
           "zerolinewidth": 2
          },
          "yaxis": {
           "automargin": true,
           "gridcolor": "white",
           "linecolor": "white",
           "ticks": "",
           "title": {
            "standoff": 15
           },
           "zerolinecolor": "white",
           "zerolinewidth": 2
          }
         }
        },
        "xaxis": {
         "showticklabels": false
        },
        "yaxis": {
         "showticklabels": false
        }
       }
      }
     },
     "metadata": {},
     "output_type": "display_data"
    },
    {
     "data": {
      "application/vnd.plotly.v1+json": {
       "config": {
        "plotlyServerURL": "https://plot.ly"
       },
       "data": [
        {
         "hoverinfo": "skip",
         "hovertemplate": "<i>Dia</i>: %{x}<br><b>Porcentagem</b>: %{y:.1f}<br>",
         "line": {
          "color": "blue"
         },
         "marker": {
          "color": "blue"
         },
         "mode": "lines+markers",
         "type": "scatter",
         "x": [
          "2024-01-01",
          "2024-01-02",
          "2024-01-03",
          "2024-01-04",
          "2024-01-05",
          "2024-01-06",
          "2024-01-07",
          "2024-01-08",
          "2024-01-09",
          "2024-01-10",
          "2024-01-11",
          "2024-01-12",
          "2024-01-13",
          "2024-01-14",
          "2024-01-15",
          "2024-01-16",
          "2024-01-17",
          "2024-01-18",
          "2024-01-19",
          "2024-01-20",
          "2024-01-21",
          "2024-01-22",
          "2024-01-23",
          "2024-01-24",
          "2024-01-25",
          "2024-01-26",
          "2024-01-27",
          "2024-01-28",
          "2024-01-29",
          "2024-01-30"
         ],
         "y": [
          0,
          14.265873015873018,
          4.96031746031746,
          5.144685214909933,
          2.708333333333334,
          0.11904761904761905,
          0,
          7.787698412698411,
          7.222222222222221,
          11.32412609238452,
          2.4305555555555554,
          1.0813492063492063,
          0,
          17.94871794871795,
          0.4807692307692308,
          2.15625,
          1.488095238095238,
          0.873015873015873,
          0,
          0,
          0,
          3.653846153846154,
          1.282051282051282,
          2.2542735042735043,
          0,
          2.2718253968253967,
          2.5106837606837606,
          5.128205128205128,
          7.521367521367521,
          0
         ]
        }
       ],
       "layout": {
        "height": 200,
        "margin": {
         "b": 0,
         "l": 0,
         "r": 0,
         "t": 0
        },
        "plot_bgcolor": "white",
        "showlegend": false,
        "template": {
         "data": {
          "bar": [
           {
            "error_x": {
             "color": "#2a3f5f"
            },
            "error_y": {
             "color": "#2a3f5f"
            },
            "marker": {
             "line": {
              "color": "#E5ECF6",
              "width": 0.5
             },
             "pattern": {
              "fillmode": "overlay",
              "size": 10,
              "solidity": 0.2
             }
            },
            "type": "bar"
           }
          ],
          "barpolar": [
           {
            "marker": {
             "line": {
              "color": "#E5ECF6",
              "width": 0.5
             },
             "pattern": {
              "fillmode": "overlay",
              "size": 10,
              "solidity": 0.2
             }
            },
            "type": "barpolar"
           }
          ],
          "carpet": [
           {
            "aaxis": {
             "endlinecolor": "#2a3f5f",
             "gridcolor": "white",
             "linecolor": "white",
             "minorgridcolor": "white",
             "startlinecolor": "#2a3f5f"
            },
            "baxis": {
             "endlinecolor": "#2a3f5f",
             "gridcolor": "white",
             "linecolor": "white",
             "minorgridcolor": "white",
             "startlinecolor": "#2a3f5f"
            },
            "type": "carpet"
           }
          ],
          "choropleth": [
           {
            "colorbar": {
             "outlinewidth": 0,
             "ticks": ""
            },
            "type": "choropleth"
           }
          ],
          "contour": [
           {
            "colorbar": {
             "outlinewidth": 0,
             "ticks": ""
            },
            "colorscale": [
             [
              0,
              "#0d0887"
             ],
             [
              0.1111111111111111,
              "#46039f"
             ],
             [
              0.2222222222222222,
              "#7201a8"
             ],
             [
              0.3333333333333333,
              "#9c179e"
             ],
             [
              0.4444444444444444,
              "#bd3786"
             ],
             [
              0.5555555555555556,
              "#d8576b"
             ],
             [
              0.6666666666666666,
              "#ed7953"
             ],
             [
              0.7777777777777778,
              "#fb9f3a"
             ],
             [
              0.8888888888888888,
              "#fdca26"
             ],
             [
              1,
              "#f0f921"
             ]
            ],
            "type": "contour"
           }
          ],
          "contourcarpet": [
           {
            "colorbar": {
             "outlinewidth": 0,
             "ticks": ""
            },
            "type": "contourcarpet"
           }
          ],
          "heatmap": [
           {
            "colorbar": {
             "outlinewidth": 0,
             "ticks": ""
            },
            "colorscale": [
             [
              0,
              "#0d0887"
             ],
             [
              0.1111111111111111,
              "#46039f"
             ],
             [
              0.2222222222222222,
              "#7201a8"
             ],
             [
              0.3333333333333333,
              "#9c179e"
             ],
             [
              0.4444444444444444,
              "#bd3786"
             ],
             [
              0.5555555555555556,
              "#d8576b"
             ],
             [
              0.6666666666666666,
              "#ed7953"
             ],
             [
              0.7777777777777778,
              "#fb9f3a"
             ],
             [
              0.8888888888888888,
              "#fdca26"
             ],
             [
              1,
              "#f0f921"
             ]
            ],
            "type": "heatmap"
           }
          ],
          "heatmapgl": [
           {
            "colorbar": {
             "outlinewidth": 0,
             "ticks": ""
            },
            "colorscale": [
             [
              0,
              "#0d0887"
             ],
             [
              0.1111111111111111,
              "#46039f"
             ],
             [
              0.2222222222222222,
              "#7201a8"
             ],
             [
              0.3333333333333333,
              "#9c179e"
             ],
             [
              0.4444444444444444,
              "#bd3786"
             ],
             [
              0.5555555555555556,
              "#d8576b"
             ],
             [
              0.6666666666666666,
              "#ed7953"
             ],
             [
              0.7777777777777778,
              "#fb9f3a"
             ],
             [
              0.8888888888888888,
              "#fdca26"
             ],
             [
              1,
              "#f0f921"
             ]
            ],
            "type": "heatmapgl"
           }
          ],
          "histogram": [
           {
            "marker": {
             "pattern": {
              "fillmode": "overlay",
              "size": 10,
              "solidity": 0.2
             }
            },
            "type": "histogram"
           }
          ],
          "histogram2d": [
           {
            "colorbar": {
             "outlinewidth": 0,
             "ticks": ""
            },
            "colorscale": [
             [
              0,
              "#0d0887"
             ],
             [
              0.1111111111111111,
              "#46039f"
             ],
             [
              0.2222222222222222,
              "#7201a8"
             ],
             [
              0.3333333333333333,
              "#9c179e"
             ],
             [
              0.4444444444444444,
              "#bd3786"
             ],
             [
              0.5555555555555556,
              "#d8576b"
             ],
             [
              0.6666666666666666,
              "#ed7953"
             ],
             [
              0.7777777777777778,
              "#fb9f3a"
             ],
             [
              0.8888888888888888,
              "#fdca26"
             ],
             [
              1,
              "#f0f921"
             ]
            ],
            "type": "histogram2d"
           }
          ],
          "histogram2dcontour": [
           {
            "colorbar": {
             "outlinewidth": 0,
             "ticks": ""
            },
            "colorscale": [
             [
              0,
              "#0d0887"
             ],
             [
              0.1111111111111111,
              "#46039f"
             ],
             [
              0.2222222222222222,
              "#7201a8"
             ],
             [
              0.3333333333333333,
              "#9c179e"
             ],
             [
              0.4444444444444444,
              "#bd3786"
             ],
             [
              0.5555555555555556,
              "#d8576b"
             ],
             [
              0.6666666666666666,
              "#ed7953"
             ],
             [
              0.7777777777777778,
              "#fb9f3a"
             ],
             [
              0.8888888888888888,
              "#fdca26"
             ],
             [
              1,
              "#f0f921"
             ]
            ],
            "type": "histogram2dcontour"
           }
          ],
          "mesh3d": [
           {
            "colorbar": {
             "outlinewidth": 0,
             "ticks": ""
            },
            "type": "mesh3d"
           }
          ],
          "parcoords": [
           {
            "line": {
             "colorbar": {
              "outlinewidth": 0,
              "ticks": ""
             }
            },
            "type": "parcoords"
           }
          ],
          "pie": [
           {
            "automargin": true,
            "type": "pie"
           }
          ],
          "scatter": [
           {
            "fillpattern": {
             "fillmode": "overlay",
             "size": 10,
             "solidity": 0.2
            },
            "type": "scatter"
           }
          ],
          "scatter3d": [
           {
            "line": {
             "colorbar": {
              "outlinewidth": 0,
              "ticks": ""
             }
            },
            "marker": {
             "colorbar": {
              "outlinewidth": 0,
              "ticks": ""
             }
            },
            "type": "scatter3d"
           }
          ],
          "scattercarpet": [
           {
            "marker": {
             "colorbar": {
              "outlinewidth": 0,
              "ticks": ""
             }
            },
            "type": "scattercarpet"
           }
          ],
          "scattergeo": [
           {
            "marker": {
             "colorbar": {
              "outlinewidth": 0,
              "ticks": ""
             }
            },
            "type": "scattergeo"
           }
          ],
          "scattergl": [
           {
            "marker": {
             "colorbar": {
              "outlinewidth": 0,
              "ticks": ""
             }
            },
            "type": "scattergl"
           }
          ],
          "scattermapbox": [
           {
            "marker": {
             "colorbar": {
              "outlinewidth": 0,
              "ticks": ""
             }
            },
            "type": "scattermapbox"
           }
          ],
          "scatterpolar": [
           {
            "marker": {
             "colorbar": {
              "outlinewidth": 0,
              "ticks": ""
             }
            },
            "type": "scatterpolar"
           }
          ],
          "scatterpolargl": [
           {
            "marker": {
             "colorbar": {
              "outlinewidth": 0,
              "ticks": ""
             }
            },
            "type": "scatterpolargl"
           }
          ],
          "scatterternary": [
           {
            "marker": {
             "colorbar": {
              "outlinewidth": 0,
              "ticks": ""
             }
            },
            "type": "scatterternary"
           }
          ],
          "surface": [
           {
            "colorbar": {
             "outlinewidth": 0,
             "ticks": ""
            },
            "colorscale": [
             [
              0,
              "#0d0887"
             ],
             [
              0.1111111111111111,
              "#46039f"
             ],
             [
              0.2222222222222222,
              "#7201a8"
             ],
             [
              0.3333333333333333,
              "#9c179e"
             ],
             [
              0.4444444444444444,
              "#bd3786"
             ],
             [
              0.5555555555555556,
              "#d8576b"
             ],
             [
              0.6666666666666666,
              "#ed7953"
             ],
             [
              0.7777777777777778,
              "#fb9f3a"
             ],
             [
              0.8888888888888888,
              "#fdca26"
             ],
             [
              1,
              "#f0f921"
             ]
            ],
            "type": "surface"
           }
          ],
          "table": [
           {
            "cells": {
             "fill": {
              "color": "#EBF0F8"
             },
             "line": {
              "color": "white"
             }
            },
            "header": {
             "fill": {
              "color": "#C8D4E3"
             },
             "line": {
              "color": "white"
             }
            },
            "type": "table"
           }
          ]
         },
         "layout": {
          "annotationdefaults": {
           "arrowcolor": "#2a3f5f",
           "arrowhead": 0,
           "arrowwidth": 1
          },
          "autotypenumbers": "strict",
          "coloraxis": {
           "colorbar": {
            "outlinewidth": 0,
            "ticks": ""
           }
          },
          "colorscale": {
           "diverging": [
            [
             0,
             "#8e0152"
            ],
            [
             0.1,
             "#c51b7d"
            ],
            [
             0.2,
             "#de77ae"
            ],
            [
             0.3,
             "#f1b6da"
            ],
            [
             0.4,
             "#fde0ef"
            ],
            [
             0.5,
             "#f7f7f7"
            ],
            [
             0.6,
             "#e6f5d0"
            ],
            [
             0.7,
             "#b8e186"
            ],
            [
             0.8,
             "#7fbc41"
            ],
            [
             0.9,
             "#4d9221"
            ],
            [
             1,
             "#276419"
            ]
           ],
           "sequential": [
            [
             0,
             "#0d0887"
            ],
            [
             0.1111111111111111,
             "#46039f"
            ],
            [
             0.2222222222222222,
             "#7201a8"
            ],
            [
             0.3333333333333333,
             "#9c179e"
            ],
            [
             0.4444444444444444,
             "#bd3786"
            ],
            [
             0.5555555555555556,
             "#d8576b"
            ],
            [
             0.6666666666666666,
             "#ed7953"
            ],
            [
             0.7777777777777778,
             "#fb9f3a"
            ],
            [
             0.8888888888888888,
             "#fdca26"
            ],
            [
             1,
             "#f0f921"
            ]
           ],
           "sequentialminus": [
            [
             0,
             "#0d0887"
            ],
            [
             0.1111111111111111,
             "#46039f"
            ],
            [
             0.2222222222222222,
             "#7201a8"
            ],
            [
             0.3333333333333333,
             "#9c179e"
            ],
            [
             0.4444444444444444,
             "#bd3786"
            ],
            [
             0.5555555555555556,
             "#d8576b"
            ],
            [
             0.6666666666666666,
             "#ed7953"
            ],
            [
             0.7777777777777778,
             "#fb9f3a"
            ],
            [
             0.8888888888888888,
             "#fdca26"
            ],
            [
             1,
             "#f0f921"
            ]
           ]
          },
          "colorway": [
           "#636efa",
           "#EF553B",
           "#00cc96",
           "#ab63fa",
           "#FFA15A",
           "#19d3f3",
           "#FF6692",
           "#B6E880",
           "#FF97FF",
           "#FECB52"
          ],
          "font": {
           "color": "#2a3f5f"
          },
          "geo": {
           "bgcolor": "white",
           "lakecolor": "white",
           "landcolor": "#E5ECF6",
           "showlakes": true,
           "showland": true,
           "subunitcolor": "white"
          },
          "hoverlabel": {
           "align": "left"
          },
          "hovermode": "closest",
          "mapbox": {
           "style": "light"
          },
          "paper_bgcolor": "white",
          "plot_bgcolor": "#E5ECF6",
          "polar": {
           "angularaxis": {
            "gridcolor": "white",
            "linecolor": "white",
            "ticks": ""
           },
           "bgcolor": "#E5ECF6",
           "radialaxis": {
            "gridcolor": "white",
            "linecolor": "white",
            "ticks": ""
           }
          },
          "scene": {
           "xaxis": {
            "backgroundcolor": "#E5ECF6",
            "gridcolor": "white",
            "gridwidth": 2,
            "linecolor": "white",
            "showbackground": true,
            "ticks": "",
            "zerolinecolor": "white"
           },
           "yaxis": {
            "backgroundcolor": "#E5ECF6",
            "gridcolor": "white",
            "gridwidth": 2,
            "linecolor": "white",
            "showbackground": true,
            "ticks": "",
            "zerolinecolor": "white"
           },
           "zaxis": {
            "backgroundcolor": "#E5ECF6",
            "gridcolor": "white",
            "gridwidth": 2,
            "linecolor": "white",
            "showbackground": true,
            "ticks": "",
            "zerolinecolor": "white"
           }
          },
          "shapedefaults": {
           "line": {
            "color": "#2a3f5f"
           }
          },
          "ternary": {
           "aaxis": {
            "gridcolor": "white",
            "linecolor": "white",
            "ticks": ""
           },
           "baxis": {
            "gridcolor": "white",
            "linecolor": "white",
            "ticks": ""
           },
           "bgcolor": "#E5ECF6",
           "caxis": {
            "gridcolor": "white",
            "linecolor": "white",
            "ticks": ""
           }
          },
          "title": {
           "x": 0.05
          },
          "xaxis": {
           "automargin": true,
           "gridcolor": "white",
           "linecolor": "white",
           "ticks": "",
           "title": {
            "standoff": 15
           },
           "zerolinecolor": "white",
           "zerolinewidth": 2
          },
          "yaxis": {
           "automargin": true,
           "gridcolor": "white",
           "linecolor": "white",
           "ticks": "",
           "title": {
            "standoff": 15
           },
           "zerolinecolor": "white",
           "zerolinewidth": 2
          }
         }
        },
        "xaxis": {
         "showticklabels": false
        },
        "yaxis": {
         "showticklabels": false
        }
       }
      }
     },
     "metadata": {},
     "output_type": "display_data"
    }
   ],
   "source": [
    "# cSpell: disable=invalid-name\n",
    "def line_graph(df: pd.DataFrame, indicator: str):\n",
    "    # Converter 'data_registro' para datetime e criar uma nova coluna 'data_turno'\n",
    "\n",
    "    df[\"data_registro\"] = pd.to_datetime(df[\"data_registro\"])\n",
    "\n",
    "    df[\"data_turno\"] = df[\"data_registro\"].dt.strftime(\"%Y-%m-%d\")\n",
    "\n",
    "    # Agrupar por 'data_turno' e 'turno' e calcular a média da eficiência\n",
    "\n",
    "    df_grouped = df.groupby([\"data_turno\"])[indicator].mean().reset_index()\n",
    "\n",
    "    # Multiplicar a eficiência por 100 para converter para porcentagem\n",
    "\n",
    "    df_grouped[indicator] = df_grouped[indicator] * 100\n",
    "\n",
    "    # Criar o gráfico\n",
    "\n",
    "    fig = go.Figure(\n",
    "        go.Scatter(\n",
    "            x=df_grouped[\"data_turno\"],\n",
    "            y=df_grouped[indicator],\n",
    "            mode=\"lines+markers\",\n",
    "            line=dict(color=\"blue\"),\n",
    "            marker=dict(color=\"blue\"),\n",
    "            hovertemplate=\"<i>Dia</i>: %{x}\" + \"<br><b>Porcentagem</b>: %{y:.1f}<br>\",\n",
    "            hoverinfo=\"skip\",\n",
    "        )\n",
    "    )\n",
    "\n",
    "    fig.update_layout(\n",
    "        showlegend=False,\n",
    "        plot_bgcolor=\"white\",\n",
    "        xaxis=dict(showticklabels=False),  # Esconde os valores do eixo x\n",
    "        yaxis=dict(showticklabels=False),\n",
    "        margin=dict(t=0, b=0, l=0, r=0),\n",
    "        # height=None, # removido apenas para visualização no jupyter\n",
    "        # autosize=True, # removido apenas para visualização no jupyter\n",
    "        height=200,  # apenas para visualização no jupyter\n",
    "    )\n",
    "\n",
    "    fig.show()\n",
    "\n",
    "\n",
    "line_graph(df_eff, \"eficiencia\")\n",
    "\n",
    "\n",
    "line_graph(df_perf, \"performance\")\n",
    "\n",
    "\n",
    "line_graph(df_reparos, \"reparo\")"
   ]
  },
  {
   "cell_type": "code",
   "execution_count": 80,
   "metadata": {},
   "outputs": [],
   "source": [
    "# cSpell: disable=invalid-name\n",
    "import matplotlib.colors as mcolors\n",
    "import seaborn as sns\n",
    "\n",
    "\n",
    "class IndicatorsTurn:\n",
    "    \"\"\"\n",
    "    Esta classe é responsável por criar os gráficos de indicadores.\n",
    "    \"\"\"\n",
    "\n",
    "    def __init__(self):\n",
    "        self.danger_color = \"#dc3545\"\n",
    "        self.warning_color = \"#ffc107\"\n",
    "        self.success_color = \"#198754\"\n",
    "\n",
    "    def get_eff_heat_turn(\n",
    "        self,\n",
    "        dataframe: pd.DataFrame,\n",
    "        meta: int = 90,\n",
    "        annotations: bool = False,\n",
    "    ) -> go.Figure:\n",
    "        \"\"\"\n",
    "        Este método é responsável por criar o gráfico de eficiência, por turno.\n",
    "\n",
    "        Parâmetros:\n",
    "        dataframe (pd.DataFrame): DataFrame contendo os dados para o gráfico.\n",
    "                                Deve incluir as colunas 'data_registro', 'turno' e 'eficiencia'.\n",
    "        meta (int): Meta de eficiência a ser alcançada. Padrão: 90.\n",
    "        annotations (bool): Se True, adiciona anotações com a média da eficiência.\n",
    "\n",
    "        Retorna:\n",
    "        fig: Objeto plotly.graph_objects.Figure com o gráfico de eficiência.\n",
    "\n",
    "        O gráfico é um heatmap que mostra a eficiência média por maquina e data.\n",
    "        A eficiência é colorida de vermelho se estiver abaixo de 90% e\n",
    "        de verde se estiver acima de 90%.\n",
    "        \"\"\"\n",
    "\n",
    "        # Converter 'data_registro' para datetime e criar uma nova coluna 'data_turno'\n",
    "        dataframe[\"data_registro\"] = pd.to_datetime(dataframe[\"data_registro\"])\n",
    "        dataframe[\"data_turno\"] = dataframe[\"data_registro\"].dt.strftime(\"%Y-%m-%d\")\n",
    "\n",
    "        # Agrupar por 'data_turno' e 'turno' e calcular a média da eficiência\n",
    "        df_grouped = (\n",
    "            dataframe.groupby([\"data_turno\", \"linha\"], observed=False)[\"eficiencia\"]\n",
    "            .mean()\n",
    "            .reset_index()\n",
    "        )\n",
    "\n",
    "        # Ordenar por linha e data\n",
    "        df_grouped = df_grouped.sort_values([\"linha\", \"data_turno\"], ascending=[True, True])\n",
    "\n",
    "        # Remodelar os dados para o formato de heatmap\n",
    "        df_pivot = df_grouped.pivot(index=\"linha\", columns=\"data_turno\", values=\"eficiencia\")\n",
    "\n",
    "        # Criar escala de cores personalizada - cores do bootstrap\n",
    "        colors = [\n",
    "            [0, self.danger_color],\n",
    "            [0.9, self.danger_color],\n",
    "            [0.9, self.success_color],\n",
    "            [1, self.success_color],\n",
    "        ]\n",
    "\n",
    "        # Extrair apenas o dia da data\n",
    "        df_pivot.columns = pd.to_datetime(df_pivot.columns).day\n",
    "\n",
    "        num_cells = len(df_pivot.index) * len(df_pivot.columns)\n",
    "        font_size = 3000 / num_cells\n",
    "\n",
    "        # Criar o gráfico de calor\n",
    "        fig = go.Figure(\n",
    "            data=go.Heatmap(\n",
    "                z=df_pivot.values,\n",
    "                x=df_pivot.columns,\n",
    "                y=df_pivot.index,\n",
    "                colorscale=colors,\n",
    "                zmin=0,\n",
    "                zmax=1,  # Escala de valores de 0 a 1\n",
    "                hoverongaps=False,\n",
    "                hovertemplate=\"Linha: %{y}<br>Dia: %{x}<br>Eficiência: %{z:.1%}\",\n",
    "                showscale=False,  # Não mostrar a escala de cores\n",
    "                xgap=1,  # Espaçamento entre os dias\n",
    "                ygap=1,  # Espaçamento entre os turnos\n",
    "            )\n",
    "        )\n",
    "\n",
    "        # Adicionar anotações com a média da eficiência\n",
    "        if annotations:\n",
    "            for (i, j), value in np.ndenumerate(df_pivot.values):\n",
    "                fig.add_annotation(\n",
    "                    x=df_pivot.columns[j],\n",
    "                    y=df_pivot.index[i],\n",
    "                    text=f\"{value:.1%}\",\n",
    "                    showarrow=False,\n",
    "                    font=dict(color=\"white\", size=font_size),\n",
    "                )\n",
    "\n",
    "        # Definir o título do gráfico\n",
    "        fig.update_layout(\n",
    "            title=f\"Eficiência - Meta {meta}%\",\n",
    "            xaxis_title=\"Dia\",\n",
    "            yaxis_title=\"Linha\",\n",
    "            title_x=0.5,  # Centralizar o título\n",
    "            xaxis_nticks=31,  # Definir o número de dias\n",
    "            xaxis=dict(\n",
    "                tickmode=\"linear\",\n",
    "                tickvals=list(range(1, 32)),  # Definir os dias\n",
    "                ticktext=list(range(1, 32)),  # Definir os dias\n",
    "                tickangle=45,  # Rotacionar os dias\n",
    "            ),\n",
    "            yaxis=dict(\n",
    "                tickmode=\"linear\",\n",
    "                tickangle=45,\n",
    "            ),\n",
    "            plot_bgcolor=\"white\",\n",
    "            margin=dict(t=40, b=40, l=40, r=40),\n",
    "        )\n",
    "\n",
    "        fig.show()\n",
    "\n",
    "        return fig\n",
    "\n",
    "    def get_eff_bar_turn(self, dataframe: pd.DataFrame, meta: int = 90) -> go.Figure:\n",
    "        # Agrupar por 'turno' e \"linha\" e calcular a média da eficiência e soma da produção\n",
    "        df_grouped = (\n",
    "            dataframe.groupby([\"linha\", \"turno\"], observed=False)\n",
    "            .agg({\"eficiencia\": \"mean\", \"total_produzido\": \"sum\"})\n",
    "            .reset_index()\n",
    "        )\n",
    "\n",
    "        # Ajustar produção total para caixas, dividindo por 10\n",
    "        df_grouped[\"total_produzido\"] = (df_grouped[\"total_produzido\"] / 10).round(0)\n",
    "\n",
    "        # Gráfico de barras\n",
    "        fig = px.bar(\n",
    "            df_grouped,\n",
    "            orientation=\"h\",\n",
    "            x=\"eficiencia\",\n",
    "            y=\"linha\",\n",
    "            color=\"turno\",\n",
    "            barmode=\"group\",\n",
    "            hover_data={\n",
    "                \"total_produzido\": True,\n",
    "                \"linha\": False,\n",
    "                \"eficiencia\": False,\n",
    "            },\n",
    "            color_discrete_map={\n",
    "                \"NOT\": self.danger_color,\n",
    "                \"MAT\": self.warning_color,\n",
    "                \"VES\": self.success_color,\n",
    "            },\n",
    "            labels={\"eficiencia\": \"Eficiência\"},\n",
    "        )\n",
    "\n",
    "        # Ajustar hover\n",
    "        fig.update_traces(\n",
    "            hovertemplate=\"<b>Linha</b>: %{y}<br><b>Eficiência</b>: %{x:.1%}<br><b>Produção</b>: %{customdata[0]} caixas<br>\",\n",
    "        )\n",
    "\n",
    "        # Definir o título do gráfico\n",
    "        fig.update_layout(\n",
    "            title=\"Eficiência por Linhas\",\n",
    "            xaxis_title=\"Eficiência\",\n",
    "            yaxis_title=\"Linha\",\n",
    "            title_x=0.5,  # Centralizar o título\n",
    "            plot_bgcolor=\"white\",\n",
    "            margin=dict(t=40, b=40, l=40, r=40),\n",
    "            legend=dict(\n",
    "                title_text=\"Turno\",\n",
    "            ),\n",
    "        )\n",
    "\n",
    "        # Ajustar valores de x para porcentagem\n",
    "        fig.update_xaxes(tickformat=\".0%\")\n",
    "\n",
    "        # Ajustar para aparecer todas as linhas\n",
    "        fig.update_yaxes(\n",
    "            autorange=\"reversed\",\n",
    "            tickvals=df_grouped[\"linha\"].unique(),\n",
    "        )\n",
    "\n",
    "        # Calcular a média geral de eficiência\n",
    "        avg_efficiency = df_grouped[\"eficiencia\"].mean()\n",
    "\n",
    "        # Adicionar linha de média geral\n",
    "        fig.add_trace(\n",
    "            go.Scatter(\n",
    "                x=[avg_efficiency] * len(df_grouped[\"linha\"]),\n",
    "                y=df_grouped[\"linha\"],\n",
    "                mode=\"lines\",\n",
    "                name=\"Média Geral\",\n",
    "                line=dict(dash=\"dash\", color=\"black\"),\n",
    "                hovertemplate=\"<b>Média Geral</b>: %{x:.1%}<br>\",\n",
    "            )\n",
    "        )\n",
    "\n",
    "        # Adicionar linha de meta\n",
    "        fig.add_trace(\n",
    "            go.Scatter(\n",
    "                x=[meta / 100] * len(df_grouped[\"linha\"]),\n",
    "                y=df_grouped[\"linha\"],\n",
    "                mode=\"lines\",\n",
    "                name=\"Meta\",\n",
    "                line=dict(dash=\"dash\", color=\"red\"),\n",
    "                hovertemplate=\"<b>Meta</b>: %{x:.1%}<br>\",\n",
    "            )\n",
    "        )\n",
    "\n",
    "        fig.show()\n",
    "\n",
    "        return fig\n",
    "\n",
    "    def get_eff_lost(self, df_info: pd.DataFrame) -> pd.DataFrame:\n",
    "        # Conseguindo dataframe com tempos ajustados\n",
    "        eff_discount = times_data.desc_eff\n",
    "        df_info_desc_times = times_data.get_times_discount(df_info, eff_discount)\n",
    "\n",
    "        # Se coluna \"excedente\" for nula, substituir pelo valor de \"tempo_registro_min\"\n",
    "        df_info_desc_times.loc[\n",
    "            df_info_desc_times[\"excedente\"].isnull(), \"excedente\"\n",
    "        ] = df_info_desc_times[\"tempo_registro_min\"]\n",
    "\n",
    "        # Se motivo id for nulo e excedente for menor que 15 substituir motivo_nome por\n",
    "        # \"Não apontado - 15min ou menos\"\n",
    "        df_info_desc_times.loc[\n",
    "            (df_info_desc_times[\"motivo_id\"].isnull()) & (df_info_desc_times[\"excedente\"] <= 15),\n",
    "            [\"motivo_nome\", \"problema\"],\n",
    "        ] = [\"Não apontado - 15min ou menos\", \"Não apontado - 15min ou menos\"]\n",
    "\n",
    "        # Preencher onde motivo_nome for nulo\n",
    "        df_info_desc_times[\"motivo_nome\"].fillna(\"Motivo não informado\", inplace=True)\n",
    "\n",
    "        df_info_desc_times.loc[\n",
    "            (df_info_desc_times[\"motivo_id\"] == 12)\n",
    "            & (df_info_desc_times[\"problema\"] == \"Parada programada\"),\n",
    "            \"problema\",\n",
    "        ] = \"Parada Programada\"\n",
    "        return df_info_desc_times\n",
    "\n",
    "    def get_eff_bar_lost(self, df: pd.DataFrame, turn: str, checked: bool = False) -> go.Figure:\n",
    "        \"\"\"\n",
    "        Retorna um gráfico de barras representando o tempo perdido que mais impacta a eficiência.\n",
    "\n",
    "        Parâmetros:\n",
    "        - df: DataFrame contendo os dados necessários para a criação do gráfico.\n",
    "        - checked: Se True, retorna o gráfico de barras agrupado por motivo_nome e problema.\n",
    "\n",
    "        Retorno:\n",
    "        - fig: Objeto go.Figure contendo o gráfico de barras.\n",
    "        \"\"\"\n",
    "        # Turno Map\n",
    "        turn_map = {\n",
    "            \"NOT\": \"Noturno\",\n",
    "            \"MAT\": \"Matutino\",\n",
    "            \"VES\": \"Vespertino\",\n",
    "        }\n",
    "\n",
    "        # ---------- df motivo ---------- #\n",
    "        # Agrupar motivo_nome\n",
    "        df_motivo = (\n",
    "            df.groupby(\"motivo_nome\")[\"excedente\"]\n",
    "            .sum()\n",
    "            .sort_values(ascending=False)\n",
    "            .head(5)\n",
    "            .reset_index()\n",
    "        )\n",
    "\n",
    "        # Preencher onde motivo_id for 3 e problema for nulo\n",
    "        df.loc[\n",
    "            (df[\"motivo_id\"] == 3) & (df[\"problema\"].isnull()),\n",
    "            \"problema\",\n",
    "        ] = \"Refeição\"\n",
    "\n",
    "        # Preencher onde problema for nulo e motivo_id for 12\n",
    "        df.loc[\n",
    "            (df[\"motivo_id\"] == 12) & (df[\"problema\"].isnull()),\n",
    "            \"problema\",\n",
    "        ] = \"Parada Programada\"\n",
    "\n",
    "        # Preencher onde problema for nulo\n",
    "        df.loc[:, \"problema\"] = df[\"problema\"].fillna(\"Problema não informado\")\n",
    "\n",
    "        # ---------- df group ---------- #\n",
    "        # Agrupar por motivo_nome e problema e calcular a soma do excedente\n",
    "        df_grouped = df.groupby([\"motivo_nome\", \"problema\"]).agg({\"excedente\": \"sum\"}).reset_index()\n",
    "        # Ordenar por excedente\n",
    "        df_grouped = df_grouped.sort_values(\"excedente\", ascending=False).head(8)\n",
    "\n",
    "        # ---------- df problema ---------- #\n",
    "        # Remover linhas onde motivo_nome é igual ao problema\n",
    "        df = df[df[\"motivo_nome\"] != df[\"problema\"]]\n",
    "        # Agrupar por problema\n",
    "        df_problema = (\n",
    "            df.groupby(\"problema\")[\"excedente\"]\n",
    "            .sum()\n",
    "            .sort_values(ascending=False)\n",
    "            .head(5)\n",
    "            .reset_index()\n",
    "        )\n",
    "\n",
    "        # Motivo\n",
    "        motive_bar = go.Bar(\n",
    "            name=\"Motivo\",\n",
    "            x=df_motivo[\"motivo_nome\"],\n",
    "            y=df_motivo[\"excedente\"],\n",
    "        )\n",
    "\n",
    "        motive_bar.update(\n",
    "            hovertemplate=\"<b>Motivo</b>: %{x}<br><b>Tempo Perdido</b>: %{y:.0f} min<br>\",\n",
    "        )\n",
    "\n",
    "        # Problema\n",
    "        problem_bar = go.Bar(\n",
    "            name=\"Problema\",\n",
    "            x=df_problema[\"problema\"],\n",
    "            y=df_problema[\"excedente\"],\n",
    "        )\n",
    "\n",
    "        problem_bar.update(\n",
    "            hovertemplate=\"<b>Problema</b>: %{x}<br><b>Tempo Perdido</b>: %{y:.0f} min<br>\",\n",
    "        )\n",
    "\n",
    "        # Cria uma paleta de cores com os valores únicos na coluna 'problema'\n",
    "        palette = sns.color_palette(\"hls\", df_grouped[\"problema\"].nunique())\n",
    "\n",
    "        # Converte as cores RGB para hexadecimal\n",
    "        palette_hex = [mcolors.to_hex(color) for color in palette]\n",
    "\n",
    "        # Cria um dicionário que mapeia cada valor único na coluna 'problema' para uma cor na paleta\n",
    "        color_map = dict(zip(df_grouped[\"problema\"].unique(), palette_hex))\n",
    "\n",
    "        # Mapeia os valores na coluna 'problema' para as cores correspondentes\n",
    "        df_grouped[\"color\"] = df_grouped[\"problema\"].map(color_map)\n",
    "\n",
    "        # Group\n",
    "        group_bar = go.Bar(\n",
    "            x=df_grouped[\"motivo_nome\"],\n",
    "            y=df_grouped[\"excedente\"],\n",
    "            customdata=df_grouped[\"problema\"],\n",
    "            hovertemplate=\"<b>Motivo</b>: %{customdata}<br><b>Tempo Perdido</b>: %{y:.0f} min<br>\",\n",
    "            marker_color=df_grouped[\"color\"],\n",
    "        )\n",
    "\n",
    "        # Gráfico de barras\n",
    "        fig = (\n",
    "            go.Figure(data=[motive_bar, problem_bar])\n",
    "            if not checked\n",
    "            else go.Figure(data=[group_bar])\n",
    "        )\n",
    "\n",
    "        fig.update_layout(\n",
    "            title=f\"Tempo Perdido que mais impacta a Eficiência - {turn_map[turn]}\",\n",
    "            xaxis_title=\"Motivo/Problema\",\n",
    "            yaxis_title=\"Tempo Perdido\",\n",
    "            title_x=0.5,\n",
    "            margin=dict({\"t\": 80, \"b\": 40, \"l\": 40, \"r\": 40}),\n",
    "            template=\"plotly_white\",\n",
    "            font=dict({\"family\": \"Inter\"}),\n",
    "            showlegend=False,\n",
    "        )\n",
    "\n",
    "        if not checked:\n",
    "            fig.update_layout(showlegend=True)\n",
    "\n",
    "        return fig\n",
    "\n",
    "\n",
    "indicators_turn = IndicatorsTurn()"
   ]
  },
  {
   "cell_type": "code",
   "execution_count": 82,
   "metadata": {},
   "outputs": [
    {
     "data": {
      "application/vnd.plotly.v1+json": {
       "config": {
        "plotlyServerURL": "https://plot.ly"
       },
       "data": [
        {
         "colorscale": [
          [
           0,
           "#dc3545"
          ],
          [
           0.9,
           "#dc3545"
          ],
          [
           0.9,
           "#198754"
          ],
          [
           1,
           "#198754"
          ]
         ],
         "hoverongaps": false,
         "hovertemplate": "Linha: %{y}<br>Dia: %{x}<br>Eficiência: %{z:.1%}",
         "showscale": false,
         "type": "heatmap",
         "x": [
          1,
          2,
          3,
          4,
          5,
          6,
          7,
          8,
          9,
          10,
          11,
          12,
          13,
          14,
          15,
          16,
          17,
          18,
          19,
          20,
          21,
          22,
          23,
          24,
          25,
          26,
          27,
          28,
          29,
          30
         ],
         "xgap": 1,
         "y": [
          0,
          1,
          2,
          3,
          4,
          5,
          6,
          7,
          8,
          9,
          10,
          11,
          12,
          13,
          14
         ],
         "ygap": 1,
         "z": [
          [
           null,
           null,
           null,
           null,
           null,
           null,
           null,
           null,
           null,
           null,
           null,
           null,
           null,
           null,
           null,
           null,
           null,
           null,
           null,
           null,
           null,
           null,
           null,
           null,
           null,
           null,
           null,
           null,
           null,
           null
          ],
          [
           0,
           0,
           0.8643306379155435,
           0.7401729559748428,
           0.6597877358490566,
           0.7077437106918238,
           0,
           0.5911949685534591,
           0.7387971698113207,
           0.06367924528301887,
           0.8247978436657682,
           0.6035770440251572,
           null,
           0,
           0.5290880503144654,
           0.577717879604672,
           0.6275831087151842,
           0.72214734950584,
           null,
           0,
           0,
           0.6947720125786163,
           0.7236635220125787,
           0.6808176100628931,
           0.7334905660377359,
           0.7938286163522013,
           0.5862533692722371,
           0,
           0.5055031446540881,
           0.005989817310572028
          ],
          [
           0,
           0,
           0.7199011680143755,
           0.6629323899371069,
           0.6082659478885895,
           0.7960467205750225,
           0,
           0.5343946540880503,
           0.6446540880503144,
           0.06859276729559749,
           0.7327044025157232,
           0.2953728661275831,
           null,
           0,
           0.5143474842767296,
           0.6044474393530997,
           0.4569575471698113,
           0.6352201257861635,
           null,
           0,
           0,
           0.5131682389937107,
           0.5968946540880503,
           0.5566037735849056,
           0.6704009433962265,
           0.7140330188679245,
           0.5157232704402516,
           0,
           0.4449685534591195,
           0.005989817310572028
          ],
          [
           0,
           0,
           0.6693620844564241,
           0.052869496855345914,
           0.5372866127583109,
           0.7261904761904762,
           0,
           0.7526954177897575,
           0.5822102425876011,
           0.7275943396226415,
           0.6156783468104223,
           0.5005896226415094,
           null,
           0,
           0.5534591194968553,
           0.8243486073674753,
           0.8537735849056604,
           0.717654986522911,
           null,
           0,
           0,
           0.5367531446540881,
           0.7262185534591195,
           0.7507861635220126,
           0.7283805031446541,
           0.8154481132075472,
           0.6373820754716981,
           0,
           0.3028694968553459,
           0.007487271638215035
          ],
          [
           0,
           0,
           0.07900943396226415,
           0.5110062893081762,
           0.6583557951482479,
           0.28796046720575025,
           0,
           0.0023584905660377358,
           0.6547619047619048,
           0.4441823899371069,
           0.15998427672955975,
           0.22346698113207547,
           null,
           0,
           0,
           0,
           0,
           0,
           null,
           0,
           0,
           0,
           0,
           0,
           0,
           0.5031446540880503,
           0,
           0,
           0.5424528301886793,
           0
          ],
          [
           0,
           0,
           0.9428066037735849,
           0.9508647798742138,
           0.9872248427672956,
           0.5894261006289309,
           0,
           0.9508647798742138,
           0.9127358490566038,
           0.9620676100628931,
           0.952437106918239,
           0.9616745283018868,
           null,
           0,
           0.9331761006289309,
           0.9428066037735849,
           0.9734669811320755,
           0.7325078616352201,
           null,
           0,
           0,
           0.9420204402515723,
           0,
           0.43985849056603776,
           0,
           0,
           0.523191823899371,
           0,
           0,
           0.005989817310572028
          ],
          [
           0,
           0,
           0,
           0,
           0.27672955974842767,
           0.601808176100629,
           0,
           0.8716588050314465,
           0.004913522012578616,
           0.6269654088050315,
           0.8211477987421384,
           0,
           null,
           0,
           0.03380503144654088,
           0,
           0,
           0,
           null,
           0,
           0,
           0,
           0.8714622641509434,
           0.3411949685534591,
           0.9009433962264151,
           0,
           0,
           0,
           0,
           0
          ],
          [
           0,
           0,
           0.8726415094339622,
           0.9787735849056604,
           0.8213443396226415,
           0.8702830188679245,
           0,
           0.9654088050314465,
           0.04815251572327044,
           0.811124213836478,
           0.8109276729559748,
           0.7857142857142857,
           null,
           0,
           0.7629716981132075,
           0.9663915094339622,
           0.9447720125786163,
           0.8260613207547169,
           null,
           0,
           0,
           0.751470886589572,
           0.31053459119496857,
           0.8181996855345912,
           0.7680817610062893,
           0.7757468553459119,
           0.5056996855345912,
           0,
           0.5351808176100629,
           0.004492362982929021
          ],
          [
           0,
           0,
           0.7920597484276729,
           0.921187106918239,
           0.9382861635220126,
           0.7095125786163522,
           0,
           0.8972091194968553,
           0.907625786163522,
           0.9178459119496856,
           0.5539083557951483,
           0.8915094339622641,
           null,
           null,
           0,
           0.21403301886792453,
           0,
           0.5805817610062893,
           null,
           0,
           0,
           0.196426943760824,
           0.8018867924528302,
           0.6700078616352201,
           0.7926493710691824,
           0.8755896226415094,
           0.5986635220125787,
           0,
           0.5416666666666666,
           0.007487271638215035
          ],
          [
           0,
           0,
           0.5275157232704403,
           0.7519609921560314,
           0.6334512578616353,
           0,
           0,
           0,
           0.9829009433962265,
           0.9952830188679245,
           0.6039701257861635,
           0.4312106918238994,
           null,
           0,
           0.7126572327044025,
           0,
           0.8675314465408805,
           0,
           null,
           null,
           null,
           null,
           null,
           null,
           null,
           0.7034198113207547,
           0.11477987421383648,
           0,
           0.14150943396226415,
           0.007487271638215035
          ],
          [
           0,
           0,
           0,
           0,
           0.21737421383647798,
           0,
           0,
           0,
           0,
           0,
           0,
           0,
           0,
           0,
           0.4372233869089215,
           0,
           0,
           0,
           0,
           0,
           0,
           0,
           0,
           0,
           0,
           0,
           null,
           null,
           null,
           null
          ],
          [
           0,
           0,
           0.4202044025157233,
           0.47371967654986524,
           0.23113207547169812,
           0.5464959568733153,
           0,
           0.5157232704402516,
           0.497529200359389,
           0.568733153638814,
           0.6042228212039533,
           0.6531895777178796,
           0,
           0,
           0.14937106918238993,
           0.6426325247079964,
           0,
           0,
           0,
           0,
           0,
           0.5945642407906558,
           0.5880503144654088,
           0,
           0,
           0,
           0,
           0,
           0,
           null
          ],
          [
           0,
           0,
           0.7330250071624443,
           0.7393005062126093,
           0.8614386792452831,
           0.7922562893081762,
           0,
           0,
           0,
           0,
           0,
           0,
           0,
           0,
           0,
           0,
           0.7316963076645301,
           0.660377358490566,
           0,
           0,
           0,
           0,
           0,
           0.4359838274932615,
           0.5502392344497608,
           0.532741398446171,
           0.4393530997304582,
           0,
           0,
           null
          ],
          [
           0,
           0,
           0.4549796990685455,
           0.8470911949685535,
           0.6642890013805799,
           0.6976639712488769,
           0,
           0.8230878474335565,
           0.9217767295597484,
           0.9139891055498539,
           0.8563603164942178,
           0.8250786163522013,
           0,
           0,
           0.8390330188679245,
           0.8970125786163522,
           0.9353380503144654,
           0.7828223270440252,
           0,
           0,
           0,
           0.8911163522012578,
           0.9204009433962265,
           0.7804638364779874,
           0.8700864779874213,
           0.8571147798742138,
           0.005306603773584905,
           0,
           0.006485849056603774,
           null
          ],
          [
           0,
           0,
           0.00039308176100628933,
           0,
           0,
           0,
           0,
           0.44109526000920385,
           0.5195417789757413,
           0.3892632524707996,
           0.40267494626224026,
           0.4420485175202156,
           0,
           0,
           0.4203865623561896,
           0.2209119496855346,
           0.5238095238095238,
           0.4288920289252764,
           0,
           0,
           0,
           0.06308962264150944,
           0.14940396305360384,
           0.4468303465698271,
           0.4659262797547966,
           0.4283583293017255,
           0.2985455974842767,
           0,
           0.24573225516621744,
           null
          ]
         ],
         "zmax": 1,
         "zmin": 0
        }
       ],
       "layout": {
        "margin": {
         "b": 40,
         "l": 40,
         "r": 40,
         "t": 40
        },
        "plot_bgcolor": "white",
        "template": {
         "data": {
          "bar": [
           {
            "error_x": {
             "color": "#2a3f5f"
            },
            "error_y": {
             "color": "#2a3f5f"
            },
            "marker": {
             "line": {
              "color": "#E5ECF6",
              "width": 0.5
             },
             "pattern": {
              "fillmode": "overlay",
              "size": 10,
              "solidity": 0.2
             }
            },
            "type": "bar"
           }
          ],
          "barpolar": [
           {
            "marker": {
             "line": {
              "color": "#E5ECF6",
              "width": 0.5
             },
             "pattern": {
              "fillmode": "overlay",
              "size": 10,
              "solidity": 0.2
             }
            },
            "type": "barpolar"
           }
          ],
          "carpet": [
           {
            "aaxis": {
             "endlinecolor": "#2a3f5f",
             "gridcolor": "white",
             "linecolor": "white",
             "minorgridcolor": "white",
             "startlinecolor": "#2a3f5f"
            },
            "baxis": {
             "endlinecolor": "#2a3f5f",
             "gridcolor": "white",
             "linecolor": "white",
             "minorgridcolor": "white",
             "startlinecolor": "#2a3f5f"
            },
            "type": "carpet"
           }
          ],
          "choropleth": [
           {
            "colorbar": {
             "outlinewidth": 0,
             "ticks": ""
            },
            "type": "choropleth"
           }
          ],
          "contour": [
           {
            "colorbar": {
             "outlinewidth": 0,
             "ticks": ""
            },
            "colorscale": [
             [
              0,
              "#0d0887"
             ],
             [
              0.1111111111111111,
              "#46039f"
             ],
             [
              0.2222222222222222,
              "#7201a8"
             ],
             [
              0.3333333333333333,
              "#9c179e"
             ],
             [
              0.4444444444444444,
              "#bd3786"
             ],
             [
              0.5555555555555556,
              "#d8576b"
             ],
             [
              0.6666666666666666,
              "#ed7953"
             ],
             [
              0.7777777777777778,
              "#fb9f3a"
             ],
             [
              0.8888888888888888,
              "#fdca26"
             ],
             [
              1,
              "#f0f921"
             ]
            ],
            "type": "contour"
           }
          ],
          "contourcarpet": [
           {
            "colorbar": {
             "outlinewidth": 0,
             "ticks": ""
            },
            "type": "contourcarpet"
           }
          ],
          "heatmap": [
           {
            "colorbar": {
             "outlinewidth": 0,
             "ticks": ""
            },
            "colorscale": [
             [
              0,
              "#0d0887"
             ],
             [
              0.1111111111111111,
              "#46039f"
             ],
             [
              0.2222222222222222,
              "#7201a8"
             ],
             [
              0.3333333333333333,
              "#9c179e"
             ],
             [
              0.4444444444444444,
              "#bd3786"
             ],
             [
              0.5555555555555556,
              "#d8576b"
             ],
             [
              0.6666666666666666,
              "#ed7953"
             ],
             [
              0.7777777777777778,
              "#fb9f3a"
             ],
             [
              0.8888888888888888,
              "#fdca26"
             ],
             [
              1,
              "#f0f921"
             ]
            ],
            "type": "heatmap"
           }
          ],
          "heatmapgl": [
           {
            "colorbar": {
             "outlinewidth": 0,
             "ticks": ""
            },
            "colorscale": [
             [
              0,
              "#0d0887"
             ],
             [
              0.1111111111111111,
              "#46039f"
             ],
             [
              0.2222222222222222,
              "#7201a8"
             ],
             [
              0.3333333333333333,
              "#9c179e"
             ],
             [
              0.4444444444444444,
              "#bd3786"
             ],
             [
              0.5555555555555556,
              "#d8576b"
             ],
             [
              0.6666666666666666,
              "#ed7953"
             ],
             [
              0.7777777777777778,
              "#fb9f3a"
             ],
             [
              0.8888888888888888,
              "#fdca26"
             ],
             [
              1,
              "#f0f921"
             ]
            ],
            "type": "heatmapgl"
           }
          ],
          "histogram": [
           {
            "marker": {
             "pattern": {
              "fillmode": "overlay",
              "size": 10,
              "solidity": 0.2
             }
            },
            "type": "histogram"
           }
          ],
          "histogram2d": [
           {
            "colorbar": {
             "outlinewidth": 0,
             "ticks": ""
            },
            "colorscale": [
             [
              0,
              "#0d0887"
             ],
             [
              0.1111111111111111,
              "#46039f"
             ],
             [
              0.2222222222222222,
              "#7201a8"
             ],
             [
              0.3333333333333333,
              "#9c179e"
             ],
             [
              0.4444444444444444,
              "#bd3786"
             ],
             [
              0.5555555555555556,
              "#d8576b"
             ],
             [
              0.6666666666666666,
              "#ed7953"
             ],
             [
              0.7777777777777778,
              "#fb9f3a"
             ],
             [
              0.8888888888888888,
              "#fdca26"
             ],
             [
              1,
              "#f0f921"
             ]
            ],
            "type": "histogram2d"
           }
          ],
          "histogram2dcontour": [
           {
            "colorbar": {
             "outlinewidth": 0,
             "ticks": ""
            },
            "colorscale": [
             [
              0,
              "#0d0887"
             ],
             [
              0.1111111111111111,
              "#46039f"
             ],
             [
              0.2222222222222222,
              "#7201a8"
             ],
             [
              0.3333333333333333,
              "#9c179e"
             ],
             [
              0.4444444444444444,
              "#bd3786"
             ],
             [
              0.5555555555555556,
              "#d8576b"
             ],
             [
              0.6666666666666666,
              "#ed7953"
             ],
             [
              0.7777777777777778,
              "#fb9f3a"
             ],
             [
              0.8888888888888888,
              "#fdca26"
             ],
             [
              1,
              "#f0f921"
             ]
            ],
            "type": "histogram2dcontour"
           }
          ],
          "mesh3d": [
           {
            "colorbar": {
             "outlinewidth": 0,
             "ticks": ""
            },
            "type": "mesh3d"
           }
          ],
          "parcoords": [
           {
            "line": {
             "colorbar": {
              "outlinewidth": 0,
              "ticks": ""
             }
            },
            "type": "parcoords"
           }
          ],
          "pie": [
           {
            "automargin": true,
            "type": "pie"
           }
          ],
          "scatter": [
           {
            "fillpattern": {
             "fillmode": "overlay",
             "size": 10,
             "solidity": 0.2
            },
            "type": "scatter"
           }
          ],
          "scatter3d": [
           {
            "line": {
             "colorbar": {
              "outlinewidth": 0,
              "ticks": ""
             }
            },
            "marker": {
             "colorbar": {
              "outlinewidth": 0,
              "ticks": ""
             }
            },
            "type": "scatter3d"
           }
          ],
          "scattercarpet": [
           {
            "marker": {
             "colorbar": {
              "outlinewidth": 0,
              "ticks": ""
             }
            },
            "type": "scattercarpet"
           }
          ],
          "scattergeo": [
           {
            "marker": {
             "colorbar": {
              "outlinewidth": 0,
              "ticks": ""
             }
            },
            "type": "scattergeo"
           }
          ],
          "scattergl": [
           {
            "marker": {
             "colorbar": {
              "outlinewidth": 0,
              "ticks": ""
             }
            },
            "type": "scattergl"
           }
          ],
          "scattermapbox": [
           {
            "marker": {
             "colorbar": {
              "outlinewidth": 0,
              "ticks": ""
             }
            },
            "type": "scattermapbox"
           }
          ],
          "scatterpolar": [
           {
            "marker": {
             "colorbar": {
              "outlinewidth": 0,
              "ticks": ""
             }
            },
            "type": "scatterpolar"
           }
          ],
          "scatterpolargl": [
           {
            "marker": {
             "colorbar": {
              "outlinewidth": 0,
              "ticks": ""
             }
            },
            "type": "scatterpolargl"
           }
          ],
          "scatterternary": [
           {
            "marker": {
             "colorbar": {
              "outlinewidth": 0,
              "ticks": ""
             }
            },
            "type": "scatterternary"
           }
          ],
          "surface": [
           {
            "colorbar": {
             "outlinewidth": 0,
             "ticks": ""
            },
            "colorscale": [
             [
              0,
              "#0d0887"
             ],
             [
              0.1111111111111111,
              "#46039f"
             ],
             [
              0.2222222222222222,
              "#7201a8"
             ],
             [
              0.3333333333333333,
              "#9c179e"
             ],
             [
              0.4444444444444444,
              "#bd3786"
             ],
             [
              0.5555555555555556,
              "#d8576b"
             ],
             [
              0.6666666666666666,
              "#ed7953"
             ],
             [
              0.7777777777777778,
              "#fb9f3a"
             ],
             [
              0.8888888888888888,
              "#fdca26"
             ],
             [
              1,
              "#f0f921"
             ]
            ],
            "type": "surface"
           }
          ],
          "table": [
           {
            "cells": {
             "fill": {
              "color": "#EBF0F8"
             },
             "line": {
              "color": "white"
             }
            },
            "header": {
             "fill": {
              "color": "#C8D4E3"
             },
             "line": {
              "color": "white"
             }
            },
            "type": "table"
           }
          ]
         },
         "layout": {
          "annotationdefaults": {
           "arrowcolor": "#2a3f5f",
           "arrowhead": 0,
           "arrowwidth": 1
          },
          "autotypenumbers": "strict",
          "coloraxis": {
           "colorbar": {
            "outlinewidth": 0,
            "ticks": ""
           }
          },
          "colorscale": {
           "diverging": [
            [
             0,
             "#8e0152"
            ],
            [
             0.1,
             "#c51b7d"
            ],
            [
             0.2,
             "#de77ae"
            ],
            [
             0.3,
             "#f1b6da"
            ],
            [
             0.4,
             "#fde0ef"
            ],
            [
             0.5,
             "#f7f7f7"
            ],
            [
             0.6,
             "#e6f5d0"
            ],
            [
             0.7,
             "#b8e186"
            ],
            [
             0.8,
             "#7fbc41"
            ],
            [
             0.9,
             "#4d9221"
            ],
            [
             1,
             "#276419"
            ]
           ],
           "sequential": [
            [
             0,
             "#0d0887"
            ],
            [
             0.1111111111111111,
             "#46039f"
            ],
            [
             0.2222222222222222,
             "#7201a8"
            ],
            [
             0.3333333333333333,
             "#9c179e"
            ],
            [
             0.4444444444444444,
             "#bd3786"
            ],
            [
             0.5555555555555556,
             "#d8576b"
            ],
            [
             0.6666666666666666,
             "#ed7953"
            ],
            [
             0.7777777777777778,
             "#fb9f3a"
            ],
            [
             0.8888888888888888,
             "#fdca26"
            ],
            [
             1,
             "#f0f921"
            ]
           ],
           "sequentialminus": [
            [
             0,
             "#0d0887"
            ],
            [
             0.1111111111111111,
             "#46039f"
            ],
            [
             0.2222222222222222,
             "#7201a8"
            ],
            [
             0.3333333333333333,
             "#9c179e"
            ],
            [
             0.4444444444444444,
             "#bd3786"
            ],
            [
             0.5555555555555556,
             "#d8576b"
            ],
            [
             0.6666666666666666,
             "#ed7953"
            ],
            [
             0.7777777777777778,
             "#fb9f3a"
            ],
            [
             0.8888888888888888,
             "#fdca26"
            ],
            [
             1,
             "#f0f921"
            ]
           ]
          },
          "colorway": [
           "#636efa",
           "#EF553B",
           "#00cc96",
           "#ab63fa",
           "#FFA15A",
           "#19d3f3",
           "#FF6692",
           "#B6E880",
           "#FF97FF",
           "#FECB52"
          ],
          "font": {
           "color": "#2a3f5f"
          },
          "geo": {
           "bgcolor": "white",
           "lakecolor": "white",
           "landcolor": "#E5ECF6",
           "showlakes": true,
           "showland": true,
           "subunitcolor": "white"
          },
          "hoverlabel": {
           "align": "left"
          },
          "hovermode": "closest",
          "mapbox": {
           "style": "light"
          },
          "paper_bgcolor": "white",
          "plot_bgcolor": "#E5ECF6",
          "polar": {
           "angularaxis": {
            "gridcolor": "white",
            "linecolor": "white",
            "ticks": ""
           },
           "bgcolor": "#E5ECF6",
           "radialaxis": {
            "gridcolor": "white",
            "linecolor": "white",
            "ticks": ""
           }
          },
          "scene": {
           "xaxis": {
            "backgroundcolor": "#E5ECF6",
            "gridcolor": "white",
            "gridwidth": 2,
            "linecolor": "white",
            "showbackground": true,
            "ticks": "",
            "zerolinecolor": "white"
           },
           "yaxis": {
            "backgroundcolor": "#E5ECF6",
            "gridcolor": "white",
            "gridwidth": 2,
            "linecolor": "white",
            "showbackground": true,
            "ticks": "",
            "zerolinecolor": "white"
           },
           "zaxis": {
            "backgroundcolor": "#E5ECF6",
            "gridcolor": "white",
            "gridwidth": 2,
            "linecolor": "white",
            "showbackground": true,
            "ticks": "",
            "zerolinecolor": "white"
           }
          },
          "shapedefaults": {
           "line": {
            "color": "#2a3f5f"
           }
          },
          "ternary": {
           "aaxis": {
            "gridcolor": "white",
            "linecolor": "white",
            "ticks": ""
           },
           "baxis": {
            "gridcolor": "white",
            "linecolor": "white",
            "ticks": ""
           },
           "bgcolor": "#E5ECF6",
           "caxis": {
            "gridcolor": "white",
            "linecolor": "white",
            "ticks": ""
           }
          },
          "title": {
           "x": 0.05
          },
          "xaxis": {
           "automargin": true,
           "gridcolor": "white",
           "linecolor": "white",
           "ticks": "",
           "title": {
            "standoff": 15
           },
           "zerolinecolor": "white",
           "zerolinewidth": 2
          },
          "yaxis": {
           "automargin": true,
           "gridcolor": "white",
           "linecolor": "white",
           "ticks": "",
           "title": {
            "standoff": 15
           },
           "zerolinecolor": "white",
           "zerolinewidth": 2
          }
         }
        },
        "title": {
         "text": "Eficiência - Meta 90%",
         "x": 0.5
        },
        "xaxis": {
         "nticks": 31,
         "tickangle": 45,
         "tickmode": "linear",
         "ticktext": [
          1,
          2,
          3,
          4,
          5,
          6,
          7,
          8,
          9,
          10,
          11,
          12,
          13,
          14,
          15,
          16,
          17,
          18,
          19,
          20,
          21,
          22,
          23,
          24,
          25,
          26,
          27,
          28,
          29,
          30,
          31
         ],
         "tickvals": [
          1,
          2,
          3,
          4,
          5,
          6,
          7,
          8,
          9,
          10,
          11,
          12,
          13,
          14,
          15,
          16,
          17,
          18,
          19,
          20,
          21,
          22,
          23,
          24,
          25,
          26,
          27,
          28,
          29,
          30,
          31
         ],
         "title": {
          "text": "Dia"
         }
        },
        "yaxis": {
         "tickangle": 45,
         "tickmode": "linear",
         "title": {
          "text": "Linha"
         }
        }
       }
      }
     },
     "metadata": {},
     "output_type": "display_data"
    },
    {
     "name": "stderr",
     "output_type": "stream",
     "text": [
      "c:\\Users\\bruno.thomaz\\Documents\\Dev\\stm-shop-floor-management\\venv\\Lib\\site-packages\\plotly\\express\\_core.py:2044: FutureWarning:\n",
      "\n",
      "The default of observed=False is deprecated and will be changed to True in a future version of pandas. Pass observed=False to retain current behavior or observed=True to adopt the future default and silence this warning.\n",
      "\n"
     ]
    },
    {
     "data": {
      "application/vnd.plotly.v1+json": {
       "config": {
        "plotlyServerURL": "https://plot.ly"
       },
       "data": [
        {
         "alignmentgroup": "True",
         "customdata": [
          [
           0
          ],
          [
           12577
          ],
          [
           10856
          ],
          [
           12036
          ],
          [
           3737
          ],
          [
           13939
          ],
          [
           5445
          ],
          [
           15069
          ],
          [
           12878
          ],
          [
           7543
          ],
          [
           597
          ],
          [
           5942
          ],
          [
           6083
          ],
          [
           14723
          ],
          [
           5477
          ]
         ],
         "hovertemplate": "<b>Linha</b>: %{y}<br><b>Eficiência</b>: %{x:.1%}<br><b>Produção</b>: %{customdata[0]} caixas<br>",
         "legendgroup": "MAT",
         "marker": {
          "color": "#ffc107",
          "pattern": {
           "shape": ""
          }
         },
         "name": "MAT",
         "offsetgroup": "MAT",
         "orientation": "h",
         "showlegend": true,
         "textposition": "auto",
         "type": "bar",
         "x": [
          null,
          0.4633905842211098,
          0.4032721382578188,
          0.45067993785564536,
          0.14523869689385188,
          0.4893971543019724,
          0.19109389038634322,
          0.5333561833132523,
          0.4743754458001109,
          0.3397126283428488,
          0.025176830797899983,
          0.22364028565232208,
          0.22332454166218138,
          0.5099826655057309,
          0.20299666537060992
         ],
         "xaxis": "x",
         "y": [
          0,
          1,
          2,
          3,
          4,
          5,
          6,
          7,
          8,
          9,
          10,
          11,
          12,
          13,
          14
         ],
         "yaxis": "y"
        },
        {
         "alignmentgroup": "True",
         "customdata": [
          [
           0
          ],
          [
           16356
          ],
          [
           14587
          ],
          [
           15682
          ],
          [
           7001
          ],
          [
           13395
          ],
          [
           3524
          ],
          [
           15291
          ],
          [
           12324
          ],
          [
           6880
          ],
          [
           1215
          ],
          [
           6528
          ],
          [
           3141
          ],
          [
           8236
          ],
          [
           8835
          ]
         ],
         "hovertemplate": "<b>Linha</b>: %{y}<br><b>Eficiência</b>: %{x:.1%}<br><b>Produção</b>: %{customdata[0]} caixas<br>",
         "legendgroup": "NOT",
         "marker": {
          "color": "#dc3545",
          "pattern": {
           "shape": ""
          }
         },
         "name": "NOT",
         "offsetgroup": "NOT",
         "orientation": "h",
         "showlegend": true,
         "textposition": "auto",
         "type": "bar",
         "x": [
          null,
          0.5516482076623586,
          0.4978083518478837,
          0.5456789083557951,
          0.2434329371809497,
          0.45137394453622387,
          0.12033598191651598,
          0.5318010493112509,
          0.4519377326402259,
          0.3018233134106801,
          0.04903263010574332,
          0.2163166367175801,
          0.10686571798530733,
          0.2754611856496675,
          0.2910246331236897
         ],
         "xaxis": "x",
         "y": [
          0,
          1,
          2,
          3,
          4,
          5,
          6,
          7,
          8,
          9,
          10,
          11,
          12,
          13,
          14
         ],
         "yaxis": "y"
        },
        {
         "alignmentgroup": "True",
         "customdata": [
          [
           0
          ],
          [
           14529
          ],
          [
           14320
          ],
          [
           14388
          ],
          [
           6921
          ],
          [
           10375
          ],
          [
           4819
          ],
          [
           11318
          ],
          [
           9808
          ],
          [
           6919
          ],
          [
           63
          ],
          [
           6240
          ],
          [
           5049
          ],
          [
           11522
          ],
          [
           4195
          ]
         ],
         "hovertemplate": "<b>Linha</b>: %{y}<br><b>Eficiência</b>: %{x:.1%}<br><b>Produção</b>: %{customdata[0]} caixas<br>",
         "legendgroup": "VES",
         "marker": {
          "color": "#198754",
          "pattern": {
           "shape": ""
          }
         },
         "name": "VES",
         "offsetgroup": "VES",
         "orientation": "h",
         "showlegend": true,
         "textposition": "auto",
         "type": "bar",
         "x": [
          null,
          0.5247748009418471,
          0.49176658301576975,
          0.4890914970412368,
          0.2480723502803854,
          0.38135611271183817,
          0.17432595191622519,
          0.41401878461325176,
          0.3712988143370555,
          0.3026582351562446,
          0.0023736090953072084,
          0.22771439415063358,
          0.17516668902063348,
          0.39883916100144307,
          0.14910869194782664
         ],
         "xaxis": "x",
         "y": [
          0,
          1,
          2,
          3,
          4,
          5,
          6,
          7,
          8,
          9,
          10,
          11,
          12,
          13,
          14
         ],
         "yaxis": "y"
        },
        {
         "hovertemplate": "<b>Média Geral</b>: %{x:.1%}<br>",
         "line": {
          "color": "black",
          "dash": "dash"
         },
         "mode": "lines",
         "name": "Média Geral",
         "type": "scatter",
         "x": [
          0.32525582271512554,
          0.32525582271512554,
          0.32525582271512554,
          0.32525582271512554,
          0.32525582271512554,
          0.32525582271512554,
          0.32525582271512554,
          0.32525582271512554,
          0.32525582271512554,
          0.32525582271512554,
          0.32525582271512554,
          0.32525582271512554,
          0.32525582271512554,
          0.32525582271512554,
          0.32525582271512554,
          0.32525582271512554,
          0.32525582271512554,
          0.32525582271512554,
          0.32525582271512554,
          0.32525582271512554,
          0.32525582271512554,
          0.32525582271512554,
          0.32525582271512554,
          0.32525582271512554,
          0.32525582271512554,
          0.32525582271512554,
          0.32525582271512554,
          0.32525582271512554,
          0.32525582271512554,
          0.32525582271512554,
          0.32525582271512554,
          0.32525582271512554,
          0.32525582271512554,
          0.32525582271512554,
          0.32525582271512554,
          0.32525582271512554,
          0.32525582271512554,
          0.32525582271512554,
          0.32525582271512554,
          0.32525582271512554,
          0.32525582271512554,
          0.32525582271512554,
          0.32525582271512554,
          0.32525582271512554,
          0.32525582271512554
         ],
         "y": [
          0,
          0,
          0,
          1,
          1,
          1,
          2,
          2,
          2,
          3,
          3,
          3,
          4,
          4,
          4,
          5,
          5,
          5,
          6,
          6,
          6,
          7,
          7,
          7,
          8,
          8,
          8,
          9,
          9,
          9,
          10,
          10,
          10,
          11,
          11,
          11,
          12,
          12,
          12,
          13,
          13,
          13,
          14,
          14,
          14
         ]
        },
        {
         "hovertemplate": "<b>Meta</b>: %{x:.1%}<br>",
         "line": {
          "color": "red",
          "dash": "dash"
         },
         "mode": "lines",
         "name": "Meta",
         "type": "scatter",
         "x": [
          0.9,
          0.9,
          0.9,
          0.9,
          0.9,
          0.9,
          0.9,
          0.9,
          0.9,
          0.9,
          0.9,
          0.9,
          0.9,
          0.9,
          0.9,
          0.9,
          0.9,
          0.9,
          0.9,
          0.9,
          0.9,
          0.9,
          0.9,
          0.9,
          0.9,
          0.9,
          0.9,
          0.9,
          0.9,
          0.9,
          0.9,
          0.9,
          0.9,
          0.9,
          0.9,
          0.9,
          0.9,
          0.9,
          0.9,
          0.9,
          0.9,
          0.9,
          0.9,
          0.9,
          0.9
         ],
         "y": [
          0,
          0,
          0,
          1,
          1,
          1,
          2,
          2,
          2,
          3,
          3,
          3,
          4,
          4,
          4,
          5,
          5,
          5,
          6,
          6,
          6,
          7,
          7,
          7,
          8,
          8,
          8,
          9,
          9,
          9,
          10,
          10,
          10,
          11,
          11,
          11,
          12,
          12,
          12,
          13,
          13,
          13,
          14,
          14,
          14
         ]
        }
       ],
       "layout": {
        "barmode": "group",
        "legend": {
         "title": {
          "text": "Turno"
         },
         "tracegroupgap": 0
        },
        "margin": {
         "b": 40,
         "l": 40,
         "r": 40,
         "t": 40
        },
        "plot_bgcolor": "white",
        "template": {
         "data": {
          "bar": [
           {
            "error_x": {
             "color": "#2a3f5f"
            },
            "error_y": {
             "color": "#2a3f5f"
            },
            "marker": {
             "line": {
              "color": "#E5ECF6",
              "width": 0.5
             },
             "pattern": {
              "fillmode": "overlay",
              "size": 10,
              "solidity": 0.2
             }
            },
            "type": "bar"
           }
          ],
          "barpolar": [
           {
            "marker": {
             "line": {
              "color": "#E5ECF6",
              "width": 0.5
             },
             "pattern": {
              "fillmode": "overlay",
              "size": 10,
              "solidity": 0.2
             }
            },
            "type": "barpolar"
           }
          ],
          "carpet": [
           {
            "aaxis": {
             "endlinecolor": "#2a3f5f",
             "gridcolor": "white",
             "linecolor": "white",
             "minorgridcolor": "white",
             "startlinecolor": "#2a3f5f"
            },
            "baxis": {
             "endlinecolor": "#2a3f5f",
             "gridcolor": "white",
             "linecolor": "white",
             "minorgridcolor": "white",
             "startlinecolor": "#2a3f5f"
            },
            "type": "carpet"
           }
          ],
          "choropleth": [
           {
            "colorbar": {
             "outlinewidth": 0,
             "ticks": ""
            },
            "type": "choropleth"
           }
          ],
          "contour": [
           {
            "colorbar": {
             "outlinewidth": 0,
             "ticks": ""
            },
            "colorscale": [
             [
              0,
              "#0d0887"
             ],
             [
              0.1111111111111111,
              "#46039f"
             ],
             [
              0.2222222222222222,
              "#7201a8"
             ],
             [
              0.3333333333333333,
              "#9c179e"
             ],
             [
              0.4444444444444444,
              "#bd3786"
             ],
             [
              0.5555555555555556,
              "#d8576b"
             ],
             [
              0.6666666666666666,
              "#ed7953"
             ],
             [
              0.7777777777777778,
              "#fb9f3a"
             ],
             [
              0.8888888888888888,
              "#fdca26"
             ],
             [
              1,
              "#f0f921"
             ]
            ],
            "type": "contour"
           }
          ],
          "contourcarpet": [
           {
            "colorbar": {
             "outlinewidth": 0,
             "ticks": ""
            },
            "type": "contourcarpet"
           }
          ],
          "heatmap": [
           {
            "colorbar": {
             "outlinewidth": 0,
             "ticks": ""
            },
            "colorscale": [
             [
              0,
              "#0d0887"
             ],
             [
              0.1111111111111111,
              "#46039f"
             ],
             [
              0.2222222222222222,
              "#7201a8"
             ],
             [
              0.3333333333333333,
              "#9c179e"
             ],
             [
              0.4444444444444444,
              "#bd3786"
             ],
             [
              0.5555555555555556,
              "#d8576b"
             ],
             [
              0.6666666666666666,
              "#ed7953"
             ],
             [
              0.7777777777777778,
              "#fb9f3a"
             ],
             [
              0.8888888888888888,
              "#fdca26"
             ],
             [
              1,
              "#f0f921"
             ]
            ],
            "type": "heatmap"
           }
          ],
          "heatmapgl": [
           {
            "colorbar": {
             "outlinewidth": 0,
             "ticks": ""
            },
            "colorscale": [
             [
              0,
              "#0d0887"
             ],
             [
              0.1111111111111111,
              "#46039f"
             ],
             [
              0.2222222222222222,
              "#7201a8"
             ],
             [
              0.3333333333333333,
              "#9c179e"
             ],
             [
              0.4444444444444444,
              "#bd3786"
             ],
             [
              0.5555555555555556,
              "#d8576b"
             ],
             [
              0.6666666666666666,
              "#ed7953"
             ],
             [
              0.7777777777777778,
              "#fb9f3a"
             ],
             [
              0.8888888888888888,
              "#fdca26"
             ],
             [
              1,
              "#f0f921"
             ]
            ],
            "type": "heatmapgl"
           }
          ],
          "histogram": [
           {
            "marker": {
             "pattern": {
              "fillmode": "overlay",
              "size": 10,
              "solidity": 0.2
             }
            },
            "type": "histogram"
           }
          ],
          "histogram2d": [
           {
            "colorbar": {
             "outlinewidth": 0,
             "ticks": ""
            },
            "colorscale": [
             [
              0,
              "#0d0887"
             ],
             [
              0.1111111111111111,
              "#46039f"
             ],
             [
              0.2222222222222222,
              "#7201a8"
             ],
             [
              0.3333333333333333,
              "#9c179e"
             ],
             [
              0.4444444444444444,
              "#bd3786"
             ],
             [
              0.5555555555555556,
              "#d8576b"
             ],
             [
              0.6666666666666666,
              "#ed7953"
             ],
             [
              0.7777777777777778,
              "#fb9f3a"
             ],
             [
              0.8888888888888888,
              "#fdca26"
             ],
             [
              1,
              "#f0f921"
             ]
            ],
            "type": "histogram2d"
           }
          ],
          "histogram2dcontour": [
           {
            "colorbar": {
             "outlinewidth": 0,
             "ticks": ""
            },
            "colorscale": [
             [
              0,
              "#0d0887"
             ],
             [
              0.1111111111111111,
              "#46039f"
             ],
             [
              0.2222222222222222,
              "#7201a8"
             ],
             [
              0.3333333333333333,
              "#9c179e"
             ],
             [
              0.4444444444444444,
              "#bd3786"
             ],
             [
              0.5555555555555556,
              "#d8576b"
             ],
             [
              0.6666666666666666,
              "#ed7953"
             ],
             [
              0.7777777777777778,
              "#fb9f3a"
             ],
             [
              0.8888888888888888,
              "#fdca26"
             ],
             [
              1,
              "#f0f921"
             ]
            ],
            "type": "histogram2dcontour"
           }
          ],
          "mesh3d": [
           {
            "colorbar": {
             "outlinewidth": 0,
             "ticks": ""
            },
            "type": "mesh3d"
           }
          ],
          "parcoords": [
           {
            "line": {
             "colorbar": {
              "outlinewidth": 0,
              "ticks": ""
             }
            },
            "type": "parcoords"
           }
          ],
          "pie": [
           {
            "automargin": true,
            "type": "pie"
           }
          ],
          "scatter": [
           {
            "fillpattern": {
             "fillmode": "overlay",
             "size": 10,
             "solidity": 0.2
            },
            "type": "scatter"
           }
          ],
          "scatter3d": [
           {
            "line": {
             "colorbar": {
              "outlinewidth": 0,
              "ticks": ""
             }
            },
            "marker": {
             "colorbar": {
              "outlinewidth": 0,
              "ticks": ""
             }
            },
            "type": "scatter3d"
           }
          ],
          "scattercarpet": [
           {
            "marker": {
             "colorbar": {
              "outlinewidth": 0,
              "ticks": ""
             }
            },
            "type": "scattercarpet"
           }
          ],
          "scattergeo": [
           {
            "marker": {
             "colorbar": {
              "outlinewidth": 0,
              "ticks": ""
             }
            },
            "type": "scattergeo"
           }
          ],
          "scattergl": [
           {
            "marker": {
             "colorbar": {
              "outlinewidth": 0,
              "ticks": ""
             }
            },
            "type": "scattergl"
           }
          ],
          "scattermapbox": [
           {
            "marker": {
             "colorbar": {
              "outlinewidth": 0,
              "ticks": ""
             }
            },
            "type": "scattermapbox"
           }
          ],
          "scatterpolar": [
           {
            "marker": {
             "colorbar": {
              "outlinewidth": 0,
              "ticks": ""
             }
            },
            "type": "scatterpolar"
           }
          ],
          "scatterpolargl": [
           {
            "marker": {
             "colorbar": {
              "outlinewidth": 0,
              "ticks": ""
             }
            },
            "type": "scatterpolargl"
           }
          ],
          "scatterternary": [
           {
            "marker": {
             "colorbar": {
              "outlinewidth": 0,
              "ticks": ""
             }
            },
            "type": "scatterternary"
           }
          ],
          "surface": [
           {
            "colorbar": {
             "outlinewidth": 0,
             "ticks": ""
            },
            "colorscale": [
             [
              0,
              "#0d0887"
             ],
             [
              0.1111111111111111,
              "#46039f"
             ],
             [
              0.2222222222222222,
              "#7201a8"
             ],
             [
              0.3333333333333333,
              "#9c179e"
             ],
             [
              0.4444444444444444,
              "#bd3786"
             ],
             [
              0.5555555555555556,
              "#d8576b"
             ],
             [
              0.6666666666666666,
              "#ed7953"
             ],
             [
              0.7777777777777778,
              "#fb9f3a"
             ],
             [
              0.8888888888888888,
              "#fdca26"
             ],
             [
              1,
              "#f0f921"
             ]
            ],
            "type": "surface"
           }
          ],
          "table": [
           {
            "cells": {
             "fill": {
              "color": "#EBF0F8"
             },
             "line": {
              "color": "white"
             }
            },
            "header": {
             "fill": {
              "color": "#C8D4E3"
             },
             "line": {
              "color": "white"
             }
            },
            "type": "table"
           }
          ]
         },
         "layout": {
          "annotationdefaults": {
           "arrowcolor": "#2a3f5f",
           "arrowhead": 0,
           "arrowwidth": 1
          },
          "autotypenumbers": "strict",
          "coloraxis": {
           "colorbar": {
            "outlinewidth": 0,
            "ticks": ""
           }
          },
          "colorscale": {
           "diverging": [
            [
             0,
             "#8e0152"
            ],
            [
             0.1,
             "#c51b7d"
            ],
            [
             0.2,
             "#de77ae"
            ],
            [
             0.3,
             "#f1b6da"
            ],
            [
             0.4,
             "#fde0ef"
            ],
            [
             0.5,
             "#f7f7f7"
            ],
            [
             0.6,
             "#e6f5d0"
            ],
            [
             0.7,
             "#b8e186"
            ],
            [
             0.8,
             "#7fbc41"
            ],
            [
             0.9,
             "#4d9221"
            ],
            [
             1,
             "#276419"
            ]
           ],
           "sequential": [
            [
             0,
             "#0d0887"
            ],
            [
             0.1111111111111111,
             "#46039f"
            ],
            [
             0.2222222222222222,
             "#7201a8"
            ],
            [
             0.3333333333333333,
             "#9c179e"
            ],
            [
             0.4444444444444444,
             "#bd3786"
            ],
            [
             0.5555555555555556,
             "#d8576b"
            ],
            [
             0.6666666666666666,
             "#ed7953"
            ],
            [
             0.7777777777777778,
             "#fb9f3a"
            ],
            [
             0.8888888888888888,
             "#fdca26"
            ],
            [
             1,
             "#f0f921"
            ]
           ],
           "sequentialminus": [
            [
             0,
             "#0d0887"
            ],
            [
             0.1111111111111111,
             "#46039f"
            ],
            [
             0.2222222222222222,
             "#7201a8"
            ],
            [
             0.3333333333333333,
             "#9c179e"
            ],
            [
             0.4444444444444444,
             "#bd3786"
            ],
            [
             0.5555555555555556,
             "#d8576b"
            ],
            [
             0.6666666666666666,
             "#ed7953"
            ],
            [
             0.7777777777777778,
             "#fb9f3a"
            ],
            [
             0.8888888888888888,
             "#fdca26"
            ],
            [
             1,
             "#f0f921"
            ]
           ]
          },
          "colorway": [
           "#636efa",
           "#EF553B",
           "#00cc96",
           "#ab63fa",
           "#FFA15A",
           "#19d3f3",
           "#FF6692",
           "#B6E880",
           "#FF97FF",
           "#FECB52"
          ],
          "font": {
           "color": "#2a3f5f"
          },
          "geo": {
           "bgcolor": "white",
           "lakecolor": "white",
           "landcolor": "#E5ECF6",
           "showlakes": true,
           "showland": true,
           "subunitcolor": "white"
          },
          "hoverlabel": {
           "align": "left"
          },
          "hovermode": "closest",
          "mapbox": {
           "style": "light"
          },
          "paper_bgcolor": "white",
          "plot_bgcolor": "#E5ECF6",
          "polar": {
           "angularaxis": {
            "gridcolor": "white",
            "linecolor": "white",
            "ticks": ""
           },
           "bgcolor": "#E5ECF6",
           "radialaxis": {
            "gridcolor": "white",
            "linecolor": "white",
            "ticks": ""
           }
          },
          "scene": {
           "xaxis": {
            "backgroundcolor": "#E5ECF6",
            "gridcolor": "white",
            "gridwidth": 2,
            "linecolor": "white",
            "showbackground": true,
            "ticks": "",
            "zerolinecolor": "white"
           },
           "yaxis": {
            "backgroundcolor": "#E5ECF6",
            "gridcolor": "white",
            "gridwidth": 2,
            "linecolor": "white",
            "showbackground": true,
            "ticks": "",
            "zerolinecolor": "white"
           },
           "zaxis": {
            "backgroundcolor": "#E5ECF6",
            "gridcolor": "white",
            "gridwidth": 2,
            "linecolor": "white",
            "showbackground": true,
            "ticks": "",
            "zerolinecolor": "white"
           }
          },
          "shapedefaults": {
           "line": {
            "color": "#2a3f5f"
           }
          },
          "ternary": {
           "aaxis": {
            "gridcolor": "white",
            "linecolor": "white",
            "ticks": ""
           },
           "baxis": {
            "gridcolor": "white",
            "linecolor": "white",
            "ticks": ""
           },
           "bgcolor": "#E5ECF6",
           "caxis": {
            "gridcolor": "white",
            "linecolor": "white",
            "ticks": ""
           }
          },
          "title": {
           "x": 0.05
          },
          "xaxis": {
           "automargin": true,
           "gridcolor": "white",
           "linecolor": "white",
           "ticks": "",
           "title": {
            "standoff": 15
           },
           "zerolinecolor": "white",
           "zerolinewidth": 2
          },
          "yaxis": {
           "automargin": true,
           "gridcolor": "white",
           "linecolor": "white",
           "ticks": "",
           "title": {
            "standoff": 15
           },
           "zerolinecolor": "white",
           "zerolinewidth": 2
          }
         }
        },
        "title": {
         "text": "Eficiência por Linhas",
         "x": 0.5
        },
        "xaxis": {
         "anchor": "y",
         "domain": [
          0,
          1
         ],
         "tickformat": ".0%",
         "title": {
          "text": "Eficiência"
         }
        },
        "yaxis": {
         "anchor": "x",
         "autorange": "reversed",
         "domain": [
          0,
          1
         ],
         "tickvals": [
          0,
          1,
          2,
          3,
          4,
          5,
          6,
          7,
          8,
          9,
          10,
          11,
          12,
          13,
          14
         ],
         "title": {
          "text": "Linha"
         }
        }
       }
      }
     },
     "metadata": {},
     "output_type": "display_data"
    },
    {
     "data": {
      "application/vnd.plotly.v1+json": {
       "config": {
        "plotlyServerURL": "https://plot.ly"
       },
       "data": [
        {
         "hovertemplate": "<b>Motivo</b>: %{x}<br><b>Tempo Perdido</b>: %{y:.0f} min<br>",
         "name": "Motivo",
         "type": "bar",
         "x": [
          "Parada Programada",
          "Motivo não informado",
          "Manutenção Mecânica",
          "Limpeza",
          "Refeição"
         ],
         "y": [
          204730,
          52853,
          16320,
          15596,
          15573
         ]
        },
        {
         "hovertemplate": "<b>Problema</b>: %{x}<br><b>Tempo Perdido</b>: %{y:.0f} min<br>",
         "name": "Problema",
         "type": "bar",
         "x": [
          "Problema não informado",
          "Domingo",
          "Feriado",
          "Sábado",
          "Limpeza industrial"
         ],
         "y": [
          139035,
          65272,
          35030,
          28638,
          9356
         ]
        }
       ],
       "layout": {
        "font": {
         "family": "Inter"
        },
        "margin": {
         "b": 40,
         "l": 40,
         "r": 40,
         "t": 80
        },
        "showlegend": true,
        "template": {
         "data": {
          "bar": [
           {
            "error_x": {
             "color": "#2a3f5f"
            },
            "error_y": {
             "color": "#2a3f5f"
            },
            "marker": {
             "line": {
              "color": "white",
              "width": 0.5
             },
             "pattern": {
              "fillmode": "overlay",
              "size": 10,
              "solidity": 0.2
             }
            },
            "type": "bar"
           }
          ],
          "barpolar": [
           {
            "marker": {
             "line": {
              "color": "white",
              "width": 0.5
             },
             "pattern": {
              "fillmode": "overlay",
              "size": 10,
              "solidity": 0.2
             }
            },
            "type": "barpolar"
           }
          ],
          "carpet": [
           {
            "aaxis": {
             "endlinecolor": "#2a3f5f",
             "gridcolor": "#C8D4E3",
             "linecolor": "#C8D4E3",
             "minorgridcolor": "#C8D4E3",
             "startlinecolor": "#2a3f5f"
            },
            "baxis": {
             "endlinecolor": "#2a3f5f",
             "gridcolor": "#C8D4E3",
             "linecolor": "#C8D4E3",
             "minorgridcolor": "#C8D4E3",
             "startlinecolor": "#2a3f5f"
            },
            "type": "carpet"
           }
          ],
          "choropleth": [
           {
            "colorbar": {
             "outlinewidth": 0,
             "ticks": ""
            },
            "type": "choropleth"
           }
          ],
          "contour": [
           {
            "colorbar": {
             "outlinewidth": 0,
             "ticks": ""
            },
            "colorscale": [
             [
              0,
              "#0d0887"
             ],
             [
              0.1111111111111111,
              "#46039f"
             ],
             [
              0.2222222222222222,
              "#7201a8"
             ],
             [
              0.3333333333333333,
              "#9c179e"
             ],
             [
              0.4444444444444444,
              "#bd3786"
             ],
             [
              0.5555555555555556,
              "#d8576b"
             ],
             [
              0.6666666666666666,
              "#ed7953"
             ],
             [
              0.7777777777777778,
              "#fb9f3a"
             ],
             [
              0.8888888888888888,
              "#fdca26"
             ],
             [
              1,
              "#f0f921"
             ]
            ],
            "type": "contour"
           }
          ],
          "contourcarpet": [
           {
            "colorbar": {
             "outlinewidth": 0,
             "ticks": ""
            },
            "type": "contourcarpet"
           }
          ],
          "heatmap": [
           {
            "colorbar": {
             "outlinewidth": 0,
             "ticks": ""
            },
            "colorscale": [
             [
              0,
              "#0d0887"
             ],
             [
              0.1111111111111111,
              "#46039f"
             ],
             [
              0.2222222222222222,
              "#7201a8"
             ],
             [
              0.3333333333333333,
              "#9c179e"
             ],
             [
              0.4444444444444444,
              "#bd3786"
             ],
             [
              0.5555555555555556,
              "#d8576b"
             ],
             [
              0.6666666666666666,
              "#ed7953"
             ],
             [
              0.7777777777777778,
              "#fb9f3a"
             ],
             [
              0.8888888888888888,
              "#fdca26"
             ],
             [
              1,
              "#f0f921"
             ]
            ],
            "type": "heatmap"
           }
          ],
          "heatmapgl": [
           {
            "colorbar": {
             "outlinewidth": 0,
             "ticks": ""
            },
            "colorscale": [
             [
              0,
              "#0d0887"
             ],
             [
              0.1111111111111111,
              "#46039f"
             ],
             [
              0.2222222222222222,
              "#7201a8"
             ],
             [
              0.3333333333333333,
              "#9c179e"
             ],
             [
              0.4444444444444444,
              "#bd3786"
             ],
             [
              0.5555555555555556,
              "#d8576b"
             ],
             [
              0.6666666666666666,
              "#ed7953"
             ],
             [
              0.7777777777777778,
              "#fb9f3a"
             ],
             [
              0.8888888888888888,
              "#fdca26"
             ],
             [
              1,
              "#f0f921"
             ]
            ],
            "type": "heatmapgl"
           }
          ],
          "histogram": [
           {
            "marker": {
             "pattern": {
              "fillmode": "overlay",
              "size": 10,
              "solidity": 0.2
             }
            },
            "type": "histogram"
           }
          ],
          "histogram2d": [
           {
            "colorbar": {
             "outlinewidth": 0,
             "ticks": ""
            },
            "colorscale": [
             [
              0,
              "#0d0887"
             ],
             [
              0.1111111111111111,
              "#46039f"
             ],
             [
              0.2222222222222222,
              "#7201a8"
             ],
             [
              0.3333333333333333,
              "#9c179e"
             ],
             [
              0.4444444444444444,
              "#bd3786"
             ],
             [
              0.5555555555555556,
              "#d8576b"
             ],
             [
              0.6666666666666666,
              "#ed7953"
             ],
             [
              0.7777777777777778,
              "#fb9f3a"
             ],
             [
              0.8888888888888888,
              "#fdca26"
             ],
             [
              1,
              "#f0f921"
             ]
            ],
            "type": "histogram2d"
           }
          ],
          "histogram2dcontour": [
           {
            "colorbar": {
             "outlinewidth": 0,
             "ticks": ""
            },
            "colorscale": [
             [
              0,
              "#0d0887"
             ],
             [
              0.1111111111111111,
              "#46039f"
             ],
             [
              0.2222222222222222,
              "#7201a8"
             ],
             [
              0.3333333333333333,
              "#9c179e"
             ],
             [
              0.4444444444444444,
              "#bd3786"
             ],
             [
              0.5555555555555556,
              "#d8576b"
             ],
             [
              0.6666666666666666,
              "#ed7953"
             ],
             [
              0.7777777777777778,
              "#fb9f3a"
             ],
             [
              0.8888888888888888,
              "#fdca26"
             ],
             [
              1,
              "#f0f921"
             ]
            ],
            "type": "histogram2dcontour"
           }
          ],
          "mesh3d": [
           {
            "colorbar": {
             "outlinewidth": 0,
             "ticks": ""
            },
            "type": "mesh3d"
           }
          ],
          "parcoords": [
           {
            "line": {
             "colorbar": {
              "outlinewidth": 0,
              "ticks": ""
             }
            },
            "type": "parcoords"
           }
          ],
          "pie": [
           {
            "automargin": true,
            "type": "pie"
           }
          ],
          "scatter": [
           {
            "fillpattern": {
             "fillmode": "overlay",
             "size": 10,
             "solidity": 0.2
            },
            "type": "scatter"
           }
          ],
          "scatter3d": [
           {
            "line": {
             "colorbar": {
              "outlinewidth": 0,
              "ticks": ""
             }
            },
            "marker": {
             "colorbar": {
              "outlinewidth": 0,
              "ticks": ""
             }
            },
            "type": "scatter3d"
           }
          ],
          "scattercarpet": [
           {
            "marker": {
             "colorbar": {
              "outlinewidth": 0,
              "ticks": ""
             }
            },
            "type": "scattercarpet"
           }
          ],
          "scattergeo": [
           {
            "marker": {
             "colorbar": {
              "outlinewidth": 0,
              "ticks": ""
             }
            },
            "type": "scattergeo"
           }
          ],
          "scattergl": [
           {
            "marker": {
             "colorbar": {
              "outlinewidth": 0,
              "ticks": ""
             }
            },
            "type": "scattergl"
           }
          ],
          "scattermapbox": [
           {
            "marker": {
             "colorbar": {
              "outlinewidth": 0,
              "ticks": ""
             }
            },
            "type": "scattermapbox"
           }
          ],
          "scatterpolar": [
           {
            "marker": {
             "colorbar": {
              "outlinewidth": 0,
              "ticks": ""
             }
            },
            "type": "scatterpolar"
           }
          ],
          "scatterpolargl": [
           {
            "marker": {
             "colorbar": {
              "outlinewidth": 0,
              "ticks": ""
             }
            },
            "type": "scatterpolargl"
           }
          ],
          "scatterternary": [
           {
            "marker": {
             "colorbar": {
              "outlinewidth": 0,
              "ticks": ""
             }
            },
            "type": "scatterternary"
           }
          ],
          "surface": [
           {
            "colorbar": {
             "outlinewidth": 0,
             "ticks": ""
            },
            "colorscale": [
             [
              0,
              "#0d0887"
             ],
             [
              0.1111111111111111,
              "#46039f"
             ],
             [
              0.2222222222222222,
              "#7201a8"
             ],
             [
              0.3333333333333333,
              "#9c179e"
             ],
             [
              0.4444444444444444,
              "#bd3786"
             ],
             [
              0.5555555555555556,
              "#d8576b"
             ],
             [
              0.6666666666666666,
              "#ed7953"
             ],
             [
              0.7777777777777778,
              "#fb9f3a"
             ],
             [
              0.8888888888888888,
              "#fdca26"
             ],
             [
              1,
              "#f0f921"
             ]
            ],
            "type": "surface"
           }
          ],
          "table": [
           {
            "cells": {
             "fill": {
              "color": "#EBF0F8"
             },
             "line": {
              "color": "white"
             }
            },
            "header": {
             "fill": {
              "color": "#C8D4E3"
             },
             "line": {
              "color": "white"
             }
            },
            "type": "table"
           }
          ]
         },
         "layout": {
          "annotationdefaults": {
           "arrowcolor": "#2a3f5f",
           "arrowhead": 0,
           "arrowwidth": 1
          },
          "autotypenumbers": "strict",
          "coloraxis": {
           "colorbar": {
            "outlinewidth": 0,
            "ticks": ""
           }
          },
          "colorscale": {
           "diverging": [
            [
             0,
             "#8e0152"
            ],
            [
             0.1,
             "#c51b7d"
            ],
            [
             0.2,
             "#de77ae"
            ],
            [
             0.3,
             "#f1b6da"
            ],
            [
             0.4,
             "#fde0ef"
            ],
            [
             0.5,
             "#f7f7f7"
            ],
            [
             0.6,
             "#e6f5d0"
            ],
            [
             0.7,
             "#b8e186"
            ],
            [
             0.8,
             "#7fbc41"
            ],
            [
             0.9,
             "#4d9221"
            ],
            [
             1,
             "#276419"
            ]
           ],
           "sequential": [
            [
             0,
             "#0d0887"
            ],
            [
             0.1111111111111111,
             "#46039f"
            ],
            [
             0.2222222222222222,
             "#7201a8"
            ],
            [
             0.3333333333333333,
             "#9c179e"
            ],
            [
             0.4444444444444444,
             "#bd3786"
            ],
            [
             0.5555555555555556,
             "#d8576b"
            ],
            [
             0.6666666666666666,
             "#ed7953"
            ],
            [
             0.7777777777777778,
             "#fb9f3a"
            ],
            [
             0.8888888888888888,
             "#fdca26"
            ],
            [
             1,
             "#f0f921"
            ]
           ],
           "sequentialminus": [
            [
             0,
             "#0d0887"
            ],
            [
             0.1111111111111111,
             "#46039f"
            ],
            [
             0.2222222222222222,
             "#7201a8"
            ],
            [
             0.3333333333333333,
             "#9c179e"
            ],
            [
             0.4444444444444444,
             "#bd3786"
            ],
            [
             0.5555555555555556,
             "#d8576b"
            ],
            [
             0.6666666666666666,
             "#ed7953"
            ],
            [
             0.7777777777777778,
             "#fb9f3a"
            ],
            [
             0.8888888888888888,
             "#fdca26"
            ],
            [
             1,
             "#f0f921"
            ]
           ]
          },
          "colorway": [
           "#636efa",
           "#EF553B",
           "#00cc96",
           "#ab63fa",
           "#FFA15A",
           "#19d3f3",
           "#FF6692",
           "#B6E880",
           "#FF97FF",
           "#FECB52"
          ],
          "font": {
           "color": "#2a3f5f"
          },
          "geo": {
           "bgcolor": "white",
           "lakecolor": "white",
           "landcolor": "white",
           "showlakes": true,
           "showland": true,
           "subunitcolor": "#C8D4E3"
          },
          "hoverlabel": {
           "align": "left"
          },
          "hovermode": "closest",
          "mapbox": {
           "style": "light"
          },
          "paper_bgcolor": "white",
          "plot_bgcolor": "white",
          "polar": {
           "angularaxis": {
            "gridcolor": "#EBF0F8",
            "linecolor": "#EBF0F8",
            "ticks": ""
           },
           "bgcolor": "white",
           "radialaxis": {
            "gridcolor": "#EBF0F8",
            "linecolor": "#EBF0F8",
            "ticks": ""
           }
          },
          "scene": {
           "xaxis": {
            "backgroundcolor": "white",
            "gridcolor": "#DFE8F3",
            "gridwidth": 2,
            "linecolor": "#EBF0F8",
            "showbackground": true,
            "ticks": "",
            "zerolinecolor": "#EBF0F8"
           },
           "yaxis": {
            "backgroundcolor": "white",
            "gridcolor": "#DFE8F3",
            "gridwidth": 2,
            "linecolor": "#EBF0F8",
            "showbackground": true,
            "ticks": "",
            "zerolinecolor": "#EBF0F8"
           },
           "zaxis": {
            "backgroundcolor": "white",
            "gridcolor": "#DFE8F3",
            "gridwidth": 2,
            "linecolor": "#EBF0F8",
            "showbackground": true,
            "ticks": "",
            "zerolinecolor": "#EBF0F8"
           }
          },
          "shapedefaults": {
           "line": {
            "color": "#2a3f5f"
           }
          },
          "ternary": {
           "aaxis": {
            "gridcolor": "#DFE8F3",
            "linecolor": "#A2B1C6",
            "ticks": ""
           },
           "baxis": {
            "gridcolor": "#DFE8F3",
            "linecolor": "#A2B1C6",
            "ticks": ""
           },
           "bgcolor": "white",
           "caxis": {
            "gridcolor": "#DFE8F3",
            "linecolor": "#A2B1C6",
            "ticks": ""
           }
          },
          "title": {
           "x": 0.05
          },
          "xaxis": {
           "automargin": true,
           "gridcolor": "#EBF0F8",
           "linecolor": "#EBF0F8",
           "ticks": "",
           "title": {
            "standoff": 15
           },
           "zerolinecolor": "#EBF0F8",
           "zerolinewidth": 2
          },
          "yaxis": {
           "automargin": true,
           "gridcolor": "#EBF0F8",
           "linecolor": "#EBF0F8",
           "ticks": "",
           "title": {
            "standoff": 15
           },
           "zerolinecolor": "#EBF0F8",
           "zerolinewidth": 2
          }
         }
        },
        "title": {
         "text": "Tempo Perdido que mais impacta a Eficiência - Matutino",
         "x": 0.5
        },
        "xaxis": {
         "title": {
          "text": "Motivo/Problema"
         }
        },
        "yaxis": {
         "title": {
          "text": "Tempo Perdido"
         }
        }
       }
      }
     },
     "metadata": {},
     "output_type": "display_data"
    }
   ],
   "source": [
    "indicators_turn.get_eff_heat_turn((df_eff[df_eff[\"turno\"] == \"MAT\"]).copy(), 90, False)\n",
    "\n",
    "indicators_turn.get_eff_bar_turn(df_eff.copy())\n",
    "\n",
    "teste_ind = indicators_turn.get_eff_lost(df_maq_info_occ_combined.copy())\n",
    "\n",
    "indicators_turn.get_eff_bar_lost(teste_ind.copy(), \"MAT\", False)"
   ]
  }
 ],
 "metadata": {
  "kernelspec": {
   "display_name": "venv",
   "language": "python",
   "name": "python3"
  },
  "language_info": {
   "codemirror_mode": {
    "name": "ipython",
    "version": 3
   },
   "file_extension": ".py",
   "mimetype": "text/x-python",
   "name": "python",
   "nbconvert_exporter": "python",
   "pygments_lexer": "ipython3",
   "version": "3.12.1"
  }
 },
 "nbformat": 4,
 "nbformat_minor": 2
}
