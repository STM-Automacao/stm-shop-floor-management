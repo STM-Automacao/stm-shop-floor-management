{
 "cells": [
  {
   "cell_type": "markdown",
   "metadata": {},
   "source": [
    "# Importações\n"
   ]
  },
  {
   "cell_type": "code",
   "execution_count": 1,
   "metadata": {
    "notebookRunGroups": {
     "groupValue": "1"
    }
   },
   "outputs": [],
   "source": [
    "import urllib\n",
    "from itertools import product\n",
    "from os import getenv\n",
    "from sqlalchemy import create_engine\n",
    "from dotenv import load_dotenv\n",
    "\n",
    "import numpy as np\n",
    "import pandas as pd\n",
    "from datetime import datetime, timedelta, time\n",
    "import plotly.graph_objects as go\n",
    "import matplotlib.pyplot as plt\n",
    "import plotly.express as px\n",
    "from fuzzywuzzy import process\n",
    "from enum import Enum\n",
    "import seaborn as sns\n",
    "\n",
    "\n",
    "FERIADOS = pd.read_csv(\"../assets/feriados.csv\")"
   ]
  },
  {
   "cell_type": "markdown",
   "metadata": {},
   "source": [
    "### Types\n"
   ]
  },
  {
   "cell_type": "code",
   "execution_count": 2,
   "metadata": {
    "notebookRunGroups": {
     "groupValue": "1"
    }
   },
   "outputs": [],
   "source": [
    "# cSpell: disable\n",
    "class BSColorsEnum(Enum):\n",
    "\n",
    "    DANGER_COLOR = \"#dc3545\"\n",
    "\n",
    "    WARNING_COLOR = \"#ffc107\"\n",
    "\n",
    "    SUCCESS_COLOR = \"#198754\"\n",
    "\n",
    "    GREY_500_COLOR = \"#adb5bd\"\n",
    "\n",
    "    GREY_600_COLOR = \"#6c757d\"\n",
    "\n",
    "    GREY_700_COLOR = \"#495057\"\n",
    "\n",
    "    GREY_800_COLOR = \"#343a40\"\n",
    "\n",
    "    GREY_900_COLOR = \"#212529\"\n",
    "\n",
    "    PRIMARY_COLOR = \"#0d6efd\"\n",
    "\n",
    "    SECONDARY_COLOR = \"#6c757d\"\n",
    "\n",
    "    INFO_COLOR = \"#0dcaf0\"\n",
    "\n",
    "    GRAY_COLOR = \"#adb5bd\"\n",
    "\n",
    "    TEAL_COLOR = \"#20c997\"\n",
    "\n",
    "    ORANGE_COLOR = \"#fd7e14\"\n",
    "\n",
    "    INDIGO_COLOR = \"#6610f2\"\n",
    "\n",
    "    PINK_COLOR = \"#d63384\"\n",
    "\n",
    "    PURPLE_COLOR = \"#6f42c1\"\n",
    "\n",
    "    GREY_400_COLOR = \"#ced4da\"\n",
    "\n",
    "    SPACE_CADET_COLOR = \"#282f44\"\n",
    "\n",
    "    BLUE_DELFT_COLOR = \"#0d6efd\"\n",
    "\n",
    "\n",
    "class IndicatorType(Enum):\n",
    "    PERFORMANCE = \"performance\"\n",
    "    REPAIR = \"reparo\"\n",
    "    EFFICIENCY = \"eficiencia\"\n",
    "\n",
    "\n",
    "def get_color(value, max_value):\n",
    "    \"\"\"\n",
    "    Retorna uma cor hexadecimal com base no valor fornecido e no valor máximo.\n",
    "\n",
    "    Parâmetros:\n",
    "    value (float): O valor para o qual a cor será calculada.\n",
    "    max_value (float): O valor máximo possível.\n",
    "\n",
    "    Retorna:\n",
    "    str: Uma cor hexadecimal correspondente ao valor fornecido.\n",
    "    \"\"\"\n",
    "\n",
    "    # Cria um mapa de cores que vai do vermelho ao verde\n",
    "    cmap = plt.get_cmap(\"RdYlGn\")\n",
    "\n",
    "    # Normaliza o valor para um número entre 0 e 1\n",
    "    normalized_value = float(value) / max_value\n",
    "\n",
    "    # Obtém a cor correspondente do mapa de cores\n",
    "    rgba_color = cmap(normalized_value)\n",
    "\n",
    "    # Converte a cor RGBA para uma string de cor hexadecimal\n",
    "    hex_color = (\n",
    "        f\"#{int(rgba_color[0]*255):02x}{int(rgba_color[1]*255):02x}{int(rgba_color[2]*255):02x}\"\n",
    "    )\n",
    "\n",
    "    return hex_color"
   ]
  },
  {
   "cell_type": "markdown",
   "metadata": {},
   "source": [
    "# Database\n"
   ]
  },
  {
   "cell_type": "markdown",
   "metadata": {},
   "source": [
    "## Conexão com o banco de dados\n"
   ]
  },
  {
   "cell_type": "code",
   "execution_count": 3,
   "metadata": {
    "notebookRunGroups": {
     "groupValue": "1"
    }
   },
   "outputs": [],
   "source": [
    "# database/connection.py\n",
    "\n",
    "# cSpell: disable=invalid-name\n",
    "load_dotenv()\n",
    "\n",
    "\n",
    "class Connection:\n",
    "    \"\"\"\n",
    "    Class Connection\n",
    "    \"\"\"\n",
    "\n",
    "    def __init__(self):\n",
    "        \"\"\"\n",
    "        Constructor\n",
    "\n",
    "        Args:\n",
    "            user (str): user\n",
    "            password (str): password\n",
    "            database (str): database\n",
    "            driver (str): driver\n",
    "            server (str): server\n",
    "\n",
    "        Usage:\n",
    "            >>> from connection import Connection\n",
    "            >>> connection = Connection()\n",
    "            >>> connection.get_connection()\n",
    "        \"\"\"\n",
    "        self.__user = getenv(\"PYMSSQL_USER\")\n",
    "        self.__password = getenv(\"PYMSSQL_PASSWORD\")\n",
    "        self.__database = getenv(\"PYMSSQL_DATABASE_AUTOMACAO\")\n",
    "        self.__database_totvsdb = getenv(\"PYMSSQL_DATABASE_TOTVSDB\")\n",
    "        self.__driver = \"{ODBC Driver 17 for SQL Server}\"\n",
    "        self.__server = getenv(\"PYMSSQL_SERVER\")\n",
    "\n",
    "    def get_connection_automacao(self):\n",
    "        \"\"\"\n",
    "        Get connection\n",
    "\n",
    "        Returns:\n",
    "            object: connection\n",
    "\n",
    "        Usage:\n",
    "            >>> from connection import Connection\n",
    "            >>> connection = Connection()\n",
    "            >>> connection.get_connection()\n",
    "        \"\"\"\n",
    "        try:\n",
    "            params = urllib.parse.quote_plus(\n",
    "                f\"DRIVER={self.__driver};\"\n",
    "                f\"SERVER={self.__server};\"\n",
    "                f\"DATABASE={self.__database};\"\n",
    "                f\"UID={self.__user};\"\n",
    "                f\"PWD={self.__password};\"\n",
    "            )\n",
    "            # pylint: disable=consider-using-f-string\n",
    "            conexao_automacao = create_engine(\"mssql+pyodbc:///?odbc_connect=%s\" % params)\n",
    "            return conexao_automacao\n",
    "        # pylint: disable=broad-except\n",
    "        except Exception as error:\n",
    "            print(f\"Error: {error}\")\n",
    "            return None\n",
    "\n",
    "    def get_connection_totvsdb(self):\n",
    "        \"\"\"\n",
    "        Get connection\n",
    "\n",
    "        Returns:\n",
    "            object: connection\n",
    "\n",
    "        Usage:\n",
    "            >>> from connection import Connection\n",
    "            >>> connection = Connection()\n",
    "            >>> connection.get_connection()\n",
    "        \"\"\"\n",
    "        try:\n",
    "            params = urllib.parse.quote_plus(\n",
    "                f\"DRIVER={self.__driver};\"\n",
    "                f\"SERVER={self.__server};\"\n",
    "                f\"DATABASE={self.__database_totvsdb};\"\n",
    "                f\"UID={self.__user};\"\n",
    "                f\"PWD={self.__password};\"\n",
    "            )\n",
    "            conexao_totvsdb = create_engine(f\"mssql+pyodbc:///?odbc_connect={params}\", pool_size=2)\n",
    "            return conexao_totvsdb\n",
    "        # pylint: disable=broad-except\n",
    "        except Exception as error:\n",
    "            print(f\"Error: {error}\")\n",
    "            return None"
   ]
  },
  {
   "cell_type": "markdown",
   "metadata": {},
   "source": [
    "## Leitura do banco de dados\n"
   ]
  },
  {
   "cell_type": "code",
   "execution_count": 4,
   "metadata": {
    "notebookRunGroups": {
     "groupValue": "1"
    }
   },
   "outputs": [],
   "source": [
    "# database/db_read.py\n",
    "\n",
    "\n",
    "# cSpell: disable=invalid-name\n",
    "class Read(Connection):\n",
    "    \"\"\"\n",
    "    Class Read\n",
    "    Read data from the database and return a pandas dataframe\n",
    "    Create query to be executed in the database\n",
    "    \"\"\"\n",
    "\n",
    "    # pylint: disable=useless-super-delegation\n",
    "    def __init__(self):\n",
    "        \"\"\"\n",
    "        Constructor\n",
    "        \"\"\"\n",
    "        super().__init__()\n",
    "\n",
    "    def get_automacao_data(self, query: str) -> pd.DataFrame:\n",
    "        \"\"\"\n",
    "        Get data from database AUTOMACAO and return a pandas dataframe.\n",
    "\n",
    "        Parameters\n",
    "        ----------\n",
    "        query : str\n",
    "            Query to be executed in the database\n",
    "\n",
    "        Returns\n",
    "        -------\n",
    "        pandas dataframe\n",
    "            Dataframe with the query result\n",
    "        \"\"\"\n",
    "        try:\n",
    "            connection = self.get_connection_automacao()\n",
    "            data = pd.read_sql(query, connection)\n",
    "            return data\n",
    "        # pylint: disable=broad-except\n",
    "        except Exception as error:\n",
    "            print(f\"Error: {error}\")\n",
    "            return None\n",
    "        finally:\n",
    "            if connection:\n",
    "                connection.dispose()\n",
    "\n",
    "    def create_automacao_query(self, table: str, where: str = None, orderby: str = None) -> str:\n",
    "        \"\"\"\n",
    "        Create query to be executed in the database AUTOMACAO.\n",
    "\n",
    "        Parameters\n",
    "        ----------\n",
    "        table : str\n",
    "            Table name\n",
    "        where : str\n",
    "            Where clause (optional)\n",
    "        orderby : str\n",
    "            Order by clause (optional)\n",
    "\n",
    "        Returns\n",
    "        -------\n",
    "        str\n",
    "            Query to be executed in the database\n",
    "        \"\"\"\n",
    "        query = f\"SELECT * FROM AUTOMACAO.dbo.{table}\"\n",
    "\n",
    "        if where:\n",
    "            query += f\" WHERE {where}\"\n",
    "\n",
    "        if orderby:\n",
    "            query += f\" ORDER BY {orderby}\"\n",
    "\n",
    "        return query\n",
    "\n",
    "    def get_totvsdb_data(self, query: str) -> pd.DataFrame:\n",
    "        \"\"\"\n",
    "        Retrieves data from the TotvsDB database using the provided SQL query.\n",
    "\n",
    "        Args:\n",
    "            query (str): The SQL query to execute.\n",
    "\n",
    "        Returns:\n",
    "            pd.DataFrame: A pandas DataFrame containing the retrieved data.\n",
    "\n",
    "        Raises:\n",
    "            Exception: If an error occurs while retrieving the data.\n",
    "\n",
    "        \"\"\"\n",
    "        connection = None\n",
    "        try:\n",
    "            connection = self.get_connection_totvsdb()\n",
    "            data = pd.read_sql(query, connection)\n",
    "            return data\n",
    "        # pylint: disable=broad-except\n",
    "        except Exception as e:\n",
    "            print(f\"Erro ao buscar dados: {e}\")\n",
    "            return None\n",
    "        finally:\n",
    "            if connection:\n",
    "                connection.dispose()\n",
    "\n",
    "    def create_totvsdb_query(\n",
    "        self, select: str, table: str, join: str = None, where: str = None, orderby: str = None\n",
    "    ) -> str:\n",
    "        \"\"\"\n",
    "        Creates a SQL query string for querying the TOTVS database.\n",
    "\n",
    "        Args:\n",
    "            select (str): The SELECT clause of the query.\n",
    "            table (str): The table name to query.\n",
    "            join (str, optional): The JOIN clause of the query. Defaults to None.\n",
    "            where (str, optional): The WHERE clause of the query. Defaults to None.\n",
    "            orderby (str, optional): The ORDER BY clause of the query. Defaults to None.\n",
    "\n",
    "        Returns:\n",
    "            str: The SQL query string.\n",
    "        \"\"\"\n",
    "        query = f\"SELECT {select} FROM {table}\"\n",
    "\n",
    "        if join:\n",
    "            query += f\" {join}\"\n",
    "\n",
    "        if where:\n",
    "            query += f\" WHERE {where}\"\n",
    "\n",
    "        if orderby:\n",
    "            query += f\" ORDER BY {orderby}\"\n",
    "\n",
    "        return query"
   ]
  },
  {
   "cell_type": "markdown",
   "metadata": {},
   "source": [
    "## Query para o banco de dados\n"
   ]
  },
  {
   "cell_type": "code",
   "execution_count": 5,
   "metadata": {
    "notebookRunGroups": {
     "groupValue": "1"
    }
   },
   "outputs": [],
   "source": [
    "# // database/get_data.py\n",
    "# cSpell: disable=invalid-name\n",
    "class GetData:\n",
    "    \"\"\"\n",
    "    Essa classe é responsável por realizar a leitura dos dados do banco de dados.\n",
    "    É utilizada para fazer a leitura em segundo plano, sem que o usuário perceba.\n",
    "    \"\"\"\n",
    "\n",
    "    def __init__(self):\n",
    "        self.db_read = Read()\n",
    "\n",
    "    def get_data(self) -> tuple:\n",
    "        \"\"\"\n",
    "        Realiza a leitura dos dados do banco de dados.\n",
    "        Retorna na ordem: df_ihm, df_info, df_cadastro\n",
    "        \"\"\"\n",
    "\n",
    "        # Dia de hoje\n",
    "        now = pd.to_datetime(\"today\")\n",
    "\n",
    "        # Encontrando primeiro dia do mês atual\n",
    "        first_day = now.replace(day=1)\n",
    "\n",
    "        # Mantendo apenas a data\n",
    "        first_day = first_day.strftime(\"%Y-%m-%d\")\n",
    "\n",
    "        # Query para leitura dos dados de ocorrência\n",
    "        query_ihm = self.db_read.create_automacao_query(\n",
    "            table=\"maquina_ihm\",\n",
    "            where=f\"data_registro >= '{first_day}'\",\n",
    "        )\n",
    "\n",
    "        query_info = (\n",
    "            \"SELECT\"\n",
    "            \" t1.maquina_id,\"\n",
    "            \" (SELECT TOP 1 t2.linha FROM AUTOMACAO.dbo.maquina_cadastro t2\"\n",
    "            \" WHERE t2.maquina_id = t1.maquina_id AND t2.data_registro <= t1.data_registro\"\n",
    "            \" ORDER BY t2.data_registro DESC, t2.hora_registro DESC) as linha,\"\n",
    "            \" (SELECT TOP 1 t2.fabrica FROM AUTOMACAO.dbo.maquina_cadastro t2\"\n",
    "            \" WHERE t2.maquina_id = t1.maquina_id AND t2.data_registro <= t1.data_registro\"\n",
    "            \" ORDER BY t2.data_registro DESC, t2.hora_registro DESC) as fabrica,\"\n",
    "            \" t1.status,\"\n",
    "            \" t1.turno,\"\n",
    "            \" t1.contagem_total_ciclos,\"\n",
    "            \" t1.contagem_total_produzido,\"\n",
    "            \" t1.data_registro,\"\n",
    "            \" t1.hora_registro\"\n",
    "            \" FROM \"\n",
    "            \" AUTOMACAO.dbo.maquina_info t1\"\n",
    "            f\" WHERE data_registro >= '{first_day}'\"\n",
    "            \" ORDER BY t1.data_registro DESC, t1.hora_registro DESC\"\n",
    "        )\n",
    "\n",
    "        query_production = (\n",
    "            \"SELECT * \"\n",
    "            \"FROM ( \"\n",
    "            \"SELECT \"\n",
    "            \"(SELECT TOP 1 t2.fabrica FROM AUTOMACAO.dbo.maquina_cadastro t2 \"\n",
    "            \"WHERE t2.maquina_id = t1.maquina_id AND t2.data_registro <= t1.data_registro \"\n",
    "            \"ORDER BY t2.data_registro DESC, t2.hora_registro DESC) as fabrica, \"\n",
    "            \"(SELECT TOP 1 t2.linha FROM AUTOMACAO.dbo.maquina_cadastro t2 \"\n",
    "            \"WHERE t2.maquina_id = t1.maquina_id AND t2.data_registro <= t1.data_registro \"\n",
    "            \"ORDER BY t2.data_registro DESC, t2.hora_registro DESC) as linha, \"\n",
    "            \"t1.maquina_id, \"\n",
    "            \"t1.turno, \"\n",
    "            \"t1.status, \"\n",
    "            \"t1.contagem_total_ciclos as total_ciclos, \"\n",
    "            \"t1.contagem_total_produzido as total_produzido, \"\n",
    "            \"t1.data_registro, \"\n",
    "            \"t1.hora_registro, \"\n",
    "            \"ROW_NUMBER() OVER ( \"\n",
    "            \"PARTITION BY t1.data_registro, t1.turno, t1.maquina_id \"\n",
    "            \"ORDER BY t1.data_registro DESC, t1.hora_registro DESC\"\n",
    "            \") AS rn \"\n",
    "            \"FROM AUTOMACAO.dbo.maquina_info t1 \"\n",
    "            \") AS t \"\n",
    "            f\" WHERE rn = 1 AND data_registro >= '{first_day}' AND hora_registro > '00:01'\"\n",
    "            \" ORDER BY data_registro DESC, linha\"\n",
    "        )\n",
    "\n",
    "        # Leitura dos dados\n",
    "        df_ihm = self.db_read.get_automacao_data(query_ihm)\n",
    "        df_info = self.db_read.get_automacao_data(query_info)\n",
    "        df_info_production = self.db_read.get_automacao_data(query_production)\n",
    "\n",
    "        # Verificando se os dados foram lidos corretamente\n",
    "        if df_ihm.empty or df_info.empty or df_info_production.empty:\n",
    "            print(\"====== Erro na leitura dos dados ======\")\n",
    "            return None, None, None\n",
    "\n",
    "        return df_ihm, df_info, df_info_production\n",
    "\n",
    "\n",
    "get_data = GetData()\n",
    "df_ihm, df_info, df_info_production = get_data.get_data()"
   ]
  },
  {
   "cell_type": "markdown",
   "metadata": {},
   "source": [
    "## Testes de saída do banco de dados\n"
   ]
  },
  {
   "cell_type": "code",
   "execution_count": 6,
   "metadata": {
    "notebookRunGroups": {
     "groupValue": "1"
    }
   },
   "outputs": [
    {
     "data": {
      "text/html": [
       "<div>\n",
       "<style scoped>\n",
       "    .dataframe tbody tr th:only-of-type {\n",
       "        vertical-align: middle;\n",
       "    }\n",
       "\n",
       "    .dataframe tbody tr th {\n",
       "        vertical-align: top;\n",
       "    }\n",
       "\n",
       "    .dataframe thead th {\n",
       "        text-align: right;\n",
       "    }\n",
       "</style>\n",
       "<table border=\"1\" class=\"dataframe\">\n",
       "  <thead>\n",
       "    <tr style=\"text-align: right;\">\n",
       "      <th></th>\n",
       "      <th>recno</th>\n",
       "      <th>linha</th>\n",
       "      <th>maquina_id</th>\n",
       "      <th>motivo</th>\n",
       "      <th>equipamento</th>\n",
       "      <th>problema</th>\n",
       "      <th>causa</th>\n",
       "      <th>os_numero</th>\n",
       "      <th>operador_id</th>\n",
       "      <th>data_registro</th>\n",
       "      <th>hora_registro</th>\n",
       "    </tr>\n",
       "  </thead>\n",
       "  <tbody>\n",
       "    <tr>\n",
       "      <th>0</th>\n",
       "      <td>15</td>\n",
       "      <td>1</td>\n",
       "      <td>TMF003</td>\n",
       "      <td>Parada Programada</td>\n",
       "      <td></td>\n",
       "      <td>Parada Planejada</td>\n",
       "      <td>Sem Produção</td>\n",
       "      <td></td>\n",
       "      <td>002357</td>\n",
       "      <td>2024-05-01</td>\n",
       "      <td>11:28:20.666666</td>\n",
       "    </tr>\n",
       "    <tr>\n",
       "      <th>1</th>\n",
       "      <td>16</td>\n",
       "      <td>1</td>\n",
       "      <td>TMF003</td>\n",
       "      <td>Parada Programada</td>\n",
       "      <td></td>\n",
       "      <td>Parada Planejada</td>\n",
       "      <td>Backup</td>\n",
       "      <td></td>\n",
       "      <td>002357</td>\n",
       "      <td>2024-05-01</td>\n",
       "      <td>06:47:36.466666</td>\n",
       "    </tr>\n",
       "    <tr>\n",
       "      <th>2</th>\n",
       "      <td>18</td>\n",
       "      <td>1</td>\n",
       "      <td>TMF003</td>\n",
       "      <td>Parada Programada</td>\n",
       "      <td></td>\n",
       "      <td>Parada Planejada</td>\n",
       "      <td>Refeição</td>\n",
       "      <td></td>\n",
       "      <td>002357</td>\n",
       "      <td>2024-05-03</td>\n",
       "      <td>08:29:24.796666</td>\n",
       "    </tr>\n",
       "    <tr>\n",
       "      <th>3</th>\n",
       "      <td>19</td>\n",
       "      <td>1</td>\n",
       "      <td>TMF003</td>\n",
       "      <td>Parada Programada</td>\n",
       "      <td></td>\n",
       "      <td>Parada para Treinamento</td>\n",
       "      <td>Kaizen</td>\n",
       "      <td></td>\n",
       "      <td>002357</td>\n",
       "      <td>2024-05-01</td>\n",
       "      <td>10:08:08.203333</td>\n",
       "    </tr>\n",
       "    <tr>\n",
       "      <th>4</th>\n",
       "      <td>20</td>\n",
       "      <td>2</td>\n",
       "      <td>TMF011</td>\n",
       "      <td>Parada Programada</td>\n",
       "      <td></td>\n",
       "      <td>Parada Planejada</td>\n",
       "      <td>Sem Produção</td>\n",
       "      <td></td>\n",
       "      <td>002357</td>\n",
       "      <td>2024-05-03</td>\n",
       "      <td>09:08:52.143333</td>\n",
       "    </tr>\n",
       "    <tr>\n",
       "      <th>5</th>\n",
       "      <td>22</td>\n",
       "      <td>1</td>\n",
       "      <td>TMF003</td>\n",
       "      <td>Manutenção</td>\n",
       "      <td>Termoformadora</td>\n",
       "      <td>Bandeja Murcha ou Cheia</td>\n",
       "      <td>Realizar análise de falha</td>\n",
       "      <td>015360</td>\n",
       "      <td>002357</td>\n",
       "      <td>2024-05-03</td>\n",
       "      <td>08:55:55.110000</td>\n",
       "    </tr>\n",
       "    <tr>\n",
       "      <th>6</th>\n",
       "      <td>23</td>\n",
       "      <td>2</td>\n",
       "      <td>TMF011</td>\n",
       "      <td>Manutenção</td>\n",
       "      <td>Termoformadora</td>\n",
       "      <td>Bandeja deformada ou manchada</td>\n",
       "      <td>Realizar análise de falha</td>\n",
       "      <td>015360</td>\n",
       "      <td>002357</td>\n",
       "      <td>2024-05-03</td>\n",
       "      <td>07:56:50.340000</td>\n",
       "    </tr>\n",
       "    <tr>\n",
       "      <th>7</th>\n",
       "      <td>24</td>\n",
       "      <td>2</td>\n",
       "      <td>TMF011</td>\n",
       "      <td>Fluxo</td>\n",
       "      <td>Termoformadora</td>\n",
       "      <td>Esteira Cheia</td>\n",
       "      <td>Robô parado</td>\n",
       "      <td></td>\n",
       "      <td>002357</td>\n",
       "      <td>2024-05-03</td>\n",
       "      <td>08:57:06.950000</td>\n",
       "    </tr>\n",
       "    <tr>\n",
       "      <th>8</th>\n",
       "      <td>25</td>\n",
       "      <td>1</td>\n",
       "      <td>TMF003</td>\n",
       "      <td>Limpeza</td>\n",
       "      <td></td>\n",
       "      <td>Limpeza para parada de Fábrica</td>\n",
       "      <td></td>\n",
       "      <td></td>\n",
       "      <td>002357</td>\n",
       "      <td>2024-05-03</td>\n",
       "      <td>08:37:53.763333</td>\n",
       "    </tr>\n",
       "    <tr>\n",
       "      <th>9</th>\n",
       "      <td>26</td>\n",
       "      <td>1</td>\n",
       "      <td>TMF003</td>\n",
       "      <td>Setup</td>\n",
       "      <td>Recheadora</td>\n",
       "      <td>Troca de Sabor</td>\n",
       "      <td>Troca para sabor Picante</td>\n",
       "      <td></td>\n",
       "      <td>002357</td>\n",
       "      <td>2024-05-03</td>\n",
       "      <td>08:58:06.920000</td>\n",
       "    </tr>\n",
       "    <tr>\n",
       "      <th>10</th>\n",
       "      <td>43</td>\n",
       "      <td>6</td>\n",
       "      <td>TMF001</td>\n",
       "      <td>Ajustes</td>\n",
       "      <td>Recheadora</td>\n",
       "      <td>Quantidade de Recheio não Conforme</td>\n",
       "      <td>Bico entupido</td>\n",
       "      <td></td>\n",
       "      <td>000933</td>\n",
       "      <td>2024-05-07</td>\n",
       "      <td>08:55:24.653333</td>\n",
       "    </tr>\n",
       "    <tr>\n",
       "      <th>11</th>\n",
       "      <td>55</td>\n",
       "      <td>1</td>\n",
       "      <td>TMF003</td>\n",
       "      <td>Parada Programada</td>\n",
       "      <td></td>\n",
       "      <td>Parada Planejada</td>\n",
       "      <td>Café e Ginástica Laboral</td>\n",
       "      <td></td>\n",
       "      <td>33</td>\n",
       "      <td>2024-05-07</td>\n",
       "      <td>09:07:40.426666</td>\n",
       "    </tr>\n",
       "    <tr>\n",
       "      <th>12</th>\n",
       "      <td>62</td>\n",
       "      <td>1</td>\n",
       "      <td>TMF003</td>\n",
       "      <td>Ajustes</td>\n",
       "      <td>Armadora de Caixas</td>\n",
       "      <td>Caixa não Selando</td>\n",
       "      <td>Ajuste na Dimensão da Caixa</td>\n",
       "      <td></td>\n",
       "      <td>33</td>\n",
       "      <td>2024-05-07</td>\n",
       "      <td>10:14:30.766666</td>\n",
       "    </tr>\n",
       "    <tr>\n",
       "      <th>13</th>\n",
       "      <td>63</td>\n",
       "      <td>1</td>\n",
       "      <td>TMF003</td>\n",
       "      <td>Ajustes</td>\n",
       "      <td>Armadora de Caixas</td>\n",
       "      <td>Caixa não Selando</td>\n",
       "      <td>Ajuste na Dimensão da Caixa</td>\n",
       "      <td></td>\n",
       "      <td>33</td>\n",
       "      <td>2024-05-07</td>\n",
       "      <td>10:46:15.656666</td>\n",
       "    </tr>\n",
       "    <tr>\n",
       "      <th>14</th>\n",
       "      <td>64</td>\n",
       "      <td>7</td>\n",
       "      <td>TMF006</td>\n",
       "      <td>Ajustes</td>\n",
       "      <td>Termoformadora</td>\n",
       "      <td>Bobina desenquadrando na vertical</td>\n",
       "      <td>Ajuste de Freio</td>\n",
       "      <td></td>\n",
       "      <td>002255</td>\n",
       "      <td>2024-05-07</td>\n",
       "      <td>16:37:31.396666</td>\n",
       "    </tr>\n",
       "    <tr>\n",
       "      <th>15</th>\n",
       "      <td>65</td>\n",
       "      <td>7</td>\n",
       "      <td>TMF006</td>\n",
       "      <td>Manutenção</td>\n",
       "      <td>Termoformadora</td>\n",
       "      <td>Alarme constante ou não sai</td>\n",
       "      <td>Alarme referente ao vácuo</td>\n",
       "      <td></td>\n",
       "      <td>002255</td>\n",
       "      <td>2024-05-07</td>\n",
       "      <td>16:38:11.670000</td>\n",
       "    </tr>\n",
       "    <tr>\n",
       "      <th>16</th>\n",
       "      <td>66</td>\n",
       "      <td>7</td>\n",
       "      <td>TMF006</td>\n",
       "      <td>Parada Programada</td>\n",
       "      <td></td>\n",
       "      <td>Parada Planejada</td>\n",
       "      <td>Backup</td>\n",
       "      <td></td>\n",
       "      <td>002255</td>\n",
       "      <td>2024-05-07</td>\n",
       "      <td>16:40:09.493333</td>\n",
       "    </tr>\n",
       "    <tr>\n",
       "      <th>17</th>\n",
       "      <td>67</td>\n",
       "      <td>7</td>\n",
       "      <td>TMF006</td>\n",
       "      <td>Manutenção</td>\n",
       "      <td>Recheadora</td>\n",
       "      <td>Alarme constante ou não sai</td>\n",
       "      <td>Alarme de falha na bomba de dosagem</td>\n",
       "      <td></td>\n",
       "      <td>002255</td>\n",
       "      <td>2024-05-07</td>\n",
       "      <td>16:40:49.823333</td>\n",
       "    </tr>\n",
       "    <tr>\n",
       "      <th>18</th>\n",
       "      <td>68</td>\n",
       "      <td>7</td>\n",
       "      <td>TMF006</td>\n",
       "      <td>Fluxo</td>\n",
       "      <td>Recheadora</td>\n",
       "      <td>Falta de Pão</td>\n",
       "      <td>Panificação com máquina quebrada</td>\n",
       "      <td></td>\n",
       "      <td>002255</td>\n",
       "      <td>2024-05-07</td>\n",
       "      <td>16:41:10.790000</td>\n",
       "    </tr>\n",
       "    <tr>\n",
       "      <th>19</th>\n",
       "      <td>69</td>\n",
       "      <td>7</td>\n",
       "      <td>TMF006</td>\n",
       "      <td>Fluxo</td>\n",
       "      <td>Termoformadora</td>\n",
       "      <td>Esteira Cheia</td>\n",
       "      <td>Robô parado</td>\n",
       "      <td></td>\n",
       "      <td>002255</td>\n",
       "      <td>2024-05-07</td>\n",
       "      <td>16:47:28.220000</td>\n",
       "    </tr>\n",
       "  </tbody>\n",
       "</table>\n",
       "</div>"
      ],
      "text/plain": [
       "    recno  linha maquina_id             motivo         equipamento  \\\n",
       "0      15      1     TMF003  Parada Programada                       \n",
       "1      16      1     TMF003  Parada Programada                       \n",
       "2      18      1     TMF003  Parada Programada                       \n",
       "3      19      1     TMF003  Parada Programada                       \n",
       "4      20      2     TMF011  Parada Programada                       \n",
       "5      22      1     TMF003         Manutenção      Termoformadora   \n",
       "6      23      2     TMF011         Manutenção      Termoformadora   \n",
       "7      24      2     TMF011              Fluxo      Termoformadora   \n",
       "8      25      1     TMF003            Limpeza                       \n",
       "9      26      1     TMF003              Setup          Recheadora   \n",
       "10     43      6     TMF001            Ajustes          Recheadora   \n",
       "11     55      1     TMF003  Parada Programada                       \n",
       "12     62      1     TMF003            Ajustes  Armadora de Caixas   \n",
       "13     63      1     TMF003            Ajustes  Armadora de Caixas   \n",
       "14     64      7     TMF006            Ajustes      Termoformadora   \n",
       "15     65      7     TMF006         Manutenção      Termoformadora   \n",
       "16     66      7     TMF006  Parada Programada                       \n",
       "17     67      7     TMF006         Manutenção          Recheadora   \n",
       "18     68      7     TMF006              Fluxo          Recheadora   \n",
       "19     69      7     TMF006              Fluxo      Termoformadora   \n",
       "\n",
       "                              problema                                causa  \\\n",
       "0                     Parada Planejada                         Sem Produção   \n",
       "1                     Parada Planejada                               Backup   \n",
       "2                     Parada Planejada                             Refeição   \n",
       "3              Parada para Treinamento                               Kaizen   \n",
       "4                     Parada Planejada                         Sem Produção   \n",
       "5              Bandeja Murcha ou Cheia            Realizar análise de falha   \n",
       "6        Bandeja deformada ou manchada            Realizar análise de falha   \n",
       "7                        Esteira Cheia                          Robô parado   \n",
       "8       Limpeza para parada de Fábrica                                        \n",
       "9                       Troca de Sabor             Troca para sabor Picante   \n",
       "10  Quantidade de Recheio não Conforme                        Bico entupido   \n",
       "11                    Parada Planejada             Café e Ginástica Laboral   \n",
       "12                   Caixa não Selando          Ajuste na Dimensão da Caixa   \n",
       "13                   Caixa não Selando          Ajuste na Dimensão da Caixa   \n",
       "14   Bobina desenquadrando na vertical                      Ajuste de Freio   \n",
       "15         Alarme constante ou não sai            Alarme referente ao vácuo   \n",
       "16                    Parada Planejada                               Backup   \n",
       "17         Alarme constante ou não sai  Alarme de falha na bomba de dosagem   \n",
       "18                        Falta de Pão     Panificação com máquina quebrada   \n",
       "19                       Esteira Cheia                          Robô parado   \n",
       "\n",
       "   os_numero operador_id data_registro    hora_registro  \n",
       "0                 002357    2024-05-01  11:28:20.666666  \n",
       "1                 002357    2024-05-01  06:47:36.466666  \n",
       "2                 002357    2024-05-03  08:29:24.796666  \n",
       "3                 002357    2024-05-01  10:08:08.203333  \n",
       "4               002357      2024-05-03  09:08:52.143333  \n",
       "5     015360      002357    2024-05-03  08:55:55.110000  \n",
       "6     015360      002357    2024-05-03  07:56:50.340000  \n",
       "7                 002357    2024-05-03  08:57:06.950000  \n",
       "8                 002357    2024-05-03  08:37:53.763333  \n",
       "9                 002357    2024-05-03  08:58:06.920000  \n",
       "10                000933    2024-05-07  08:55:24.653333  \n",
       "11                    33    2024-05-07  09:07:40.426666  \n",
       "12                    33    2024-05-07  10:14:30.766666  \n",
       "13                    33    2024-05-07  10:46:15.656666  \n",
       "14                002255    2024-05-07  16:37:31.396666  \n",
       "15                002255    2024-05-07  16:38:11.670000  \n",
       "16                002255    2024-05-07  16:40:09.493333  \n",
       "17                002255    2024-05-07  16:40:49.823333  \n",
       "18                002255    2024-05-07  16:41:10.790000  \n",
       "19                002255    2024-05-07  16:47:28.220000  "
      ]
     },
     "execution_count": 6,
     "metadata": {},
     "output_type": "execute_result"
    }
   ],
   "source": [
    "df_ihm.head(20)"
   ]
  },
  {
   "cell_type": "code",
   "execution_count": 7,
   "metadata": {
    "notebookRunGroups": {
     "groupValue": "1"
    }
   },
   "outputs": [
    {
     "data": {
      "text/html": [
       "<div>\n",
       "<style scoped>\n",
       "    .dataframe tbody tr th:only-of-type {\n",
       "        vertical-align: middle;\n",
       "    }\n",
       "\n",
       "    .dataframe tbody tr th {\n",
       "        vertical-align: top;\n",
       "    }\n",
       "\n",
       "    .dataframe thead th {\n",
       "        text-align: right;\n",
       "    }\n",
       "</style>\n",
       "<table border=\"1\" class=\"dataframe\">\n",
       "  <thead>\n",
       "    <tr style=\"text-align: right;\">\n",
       "      <th></th>\n",
       "      <th>maquina_id</th>\n",
       "      <th>linha</th>\n",
       "      <th>fabrica</th>\n",
       "      <th>status</th>\n",
       "      <th>turno</th>\n",
       "      <th>contagem_total_ciclos</th>\n",
       "      <th>contagem_total_produzido</th>\n",
       "      <th>data_registro</th>\n",
       "      <th>hora_registro</th>\n",
       "    </tr>\n",
       "  </thead>\n",
       "  <tbody>\n",
       "    <tr>\n",
       "      <th>0</th>\n",
       "      <td>TMF002</td>\n",
       "      <td>5.0</td>\n",
       "      <td>1</td>\n",
       "      <td>true</td>\n",
       "      <td>MAT</td>\n",
       "      <td>1582.0</td>\n",
       "      <td>1440.0</td>\n",
       "      <td>2024-05-08</td>\n",
       "      <td>09:31:51.856666</td>\n",
       "    </tr>\n",
       "    <tr>\n",
       "      <th>1</th>\n",
       "      <td>TMF012</td>\n",
       "      <td>4.0</td>\n",
       "      <td>1</td>\n",
       "      <td>true</td>\n",
       "      <td>MAT</td>\n",
       "      <td>1612.0</td>\n",
       "      <td>1600.0</td>\n",
       "      <td>2024-05-08</td>\n",
       "      <td>09:31:50.860000</td>\n",
       "    </tr>\n",
       "    <tr>\n",
       "      <th>2</th>\n",
       "      <td>TMF005</td>\n",
       "      <td>3.0</td>\n",
       "      <td>1</td>\n",
       "      <td>false</td>\n",
       "      <td>MAT</td>\n",
       "      <td>0.0</td>\n",
       "      <td>0.0</td>\n",
       "      <td>2024-05-08</td>\n",
       "      <td>09:31:49.856666</td>\n",
       "    </tr>\n",
       "    <tr>\n",
       "      <th>3</th>\n",
       "      <td>TMF011</td>\n",
       "      <td>2.0</td>\n",
       "      <td>1</td>\n",
       "      <td>true</td>\n",
       "      <td>MAT</td>\n",
       "      <td>1850.0</td>\n",
       "      <td>1788.0</td>\n",
       "      <td>2024-05-08</td>\n",
       "      <td>09:31:48.856666</td>\n",
       "    </tr>\n",
       "    <tr>\n",
       "      <th>4</th>\n",
       "      <td>TMF003</td>\n",
       "      <td>1.0</td>\n",
       "      <td>1</td>\n",
       "      <td>true</td>\n",
       "      <td>MAT</td>\n",
       "      <td>1728.0</td>\n",
       "      <td>1708.0</td>\n",
       "      <td>2024-05-08</td>\n",
       "      <td>09:31:47.853333</td>\n",
       "    </tr>\n",
       "    <tr>\n",
       "      <th>5</th>\n",
       "      <td>TMF004</td>\n",
       "      <td>9.0</td>\n",
       "      <td>1</td>\n",
       "      <td>false</td>\n",
       "      <td>MAT</td>\n",
       "      <td>1484.0</td>\n",
       "      <td>142.0</td>\n",
       "      <td>2024-05-08</td>\n",
       "      <td>09:29:55.856666</td>\n",
       "    </tr>\n",
       "    <tr>\n",
       "      <th>6</th>\n",
       "      <td>TMF014</td>\n",
       "      <td>8.0</td>\n",
       "      <td>1</td>\n",
       "      <td>false</td>\n",
       "      <td>MAT</td>\n",
       "      <td>1720.0</td>\n",
       "      <td>0.0</td>\n",
       "      <td>2024-05-08</td>\n",
       "      <td>09:29:54.850000</td>\n",
       "    </tr>\n",
       "    <tr>\n",
       "      <th>7</th>\n",
       "      <td>TMF006</td>\n",
       "      <td>7.0</td>\n",
       "      <td>1</td>\n",
       "      <td>false</td>\n",
       "      <td>MAT</td>\n",
       "      <td>1240.0</td>\n",
       "      <td>1238.0</td>\n",
       "      <td>2024-05-08</td>\n",
       "      <td>09:29:53.853333</td>\n",
       "    </tr>\n",
       "    <tr>\n",
       "      <th>8</th>\n",
       "      <td>TMF001</td>\n",
       "      <td>6.0</td>\n",
       "      <td>1</td>\n",
       "      <td>true</td>\n",
       "      <td>MAT</td>\n",
       "      <td>1122.0</td>\n",
       "      <td>934.0</td>\n",
       "      <td>2024-05-08</td>\n",
       "      <td>09:29:52.850000</td>\n",
       "    </tr>\n",
       "    <tr>\n",
       "      <th>9</th>\n",
       "      <td>TMF002</td>\n",
       "      <td>5.0</td>\n",
       "      <td>1</td>\n",
       "      <td>true</td>\n",
       "      <td>MAT</td>\n",
       "      <td>1540.0</td>\n",
       "      <td>1398.0</td>\n",
       "      <td>2024-05-08</td>\n",
       "      <td>09:29:51.850000</td>\n",
       "    </tr>\n",
       "    <tr>\n",
       "      <th>10</th>\n",
       "      <td>TMF012</td>\n",
       "      <td>4.0</td>\n",
       "      <td>1</td>\n",
       "      <td>true</td>\n",
       "      <td>MAT</td>\n",
       "      <td>1568.0</td>\n",
       "      <td>1556.0</td>\n",
       "      <td>2024-05-08</td>\n",
       "      <td>09:29:50.846666</td>\n",
       "    </tr>\n",
       "    <tr>\n",
       "      <th>11</th>\n",
       "      <td>TMF005</td>\n",
       "      <td>3.0</td>\n",
       "      <td>1</td>\n",
       "      <td>false</td>\n",
       "      <td>MAT</td>\n",
       "      <td>0.0</td>\n",
       "      <td>0.0</td>\n",
       "      <td>2024-05-08</td>\n",
       "      <td>09:29:49.850000</td>\n",
       "    </tr>\n",
       "    <tr>\n",
       "      <th>12</th>\n",
       "      <td>TMF011</td>\n",
       "      <td>2.0</td>\n",
       "      <td>1</td>\n",
       "      <td>true</td>\n",
       "      <td>MAT</td>\n",
       "      <td>1806.0</td>\n",
       "      <td>1744.0</td>\n",
       "      <td>2024-05-08</td>\n",
       "      <td>09:29:48.846666</td>\n",
       "    </tr>\n",
       "    <tr>\n",
       "      <th>13</th>\n",
       "      <td>TMF003</td>\n",
       "      <td>1.0</td>\n",
       "      <td>1</td>\n",
       "      <td>true</td>\n",
       "      <td>MAT</td>\n",
       "      <td>1684.0</td>\n",
       "      <td>1664.0</td>\n",
       "      <td>2024-05-08</td>\n",
       "      <td>09:29:47.846666</td>\n",
       "    </tr>\n",
       "    <tr>\n",
       "      <th>14</th>\n",
       "      <td>TMF009</td>\n",
       "      <td>14.0</td>\n",
       "      <td>2</td>\n",
       "      <td>true</td>\n",
       "      <td>MAT</td>\n",
       "      <td>82.0</td>\n",
       "      <td>14.0</td>\n",
       "      <td>2024-05-08</td>\n",
       "      <td>09:28:36.403333</td>\n",
       "    </tr>\n",
       "    <tr>\n",
       "      <th>15</th>\n",
       "      <td>TMF013</td>\n",
       "      <td>13.0</td>\n",
       "      <td>2</td>\n",
       "      <td>true</td>\n",
       "      <td>MAT</td>\n",
       "      <td>1732.0</td>\n",
       "      <td>1714.0</td>\n",
       "      <td>2024-05-08</td>\n",
       "      <td>09:28:35.396666</td>\n",
       "    </tr>\n",
       "    <tr>\n",
       "      <th>16</th>\n",
       "      <td>TMF007</td>\n",
       "      <td>12.0</td>\n",
       "      <td>2</td>\n",
       "      <td>false</td>\n",
       "      <td>MAT</td>\n",
       "      <td>286.0</td>\n",
       "      <td>194.0</td>\n",
       "      <td>2024-05-08</td>\n",
       "      <td>09:28:34.400000</td>\n",
       "    </tr>\n",
       "    <tr>\n",
       "      <th>17</th>\n",
       "      <td>TMF010</td>\n",
       "      <td>11.0</td>\n",
       "      <td>2</td>\n",
       "      <td>true</td>\n",
       "      <td>MAT</td>\n",
       "      <td>1202.0</td>\n",
       "      <td>1150.0</td>\n",
       "      <td>2024-05-08</td>\n",
       "      <td>09:28:33.396666</td>\n",
       "    </tr>\n",
       "    <tr>\n",
       "      <th>18</th>\n",
       "      <td>TMF008</td>\n",
       "      <td>10.0</td>\n",
       "      <td>2</td>\n",
       "      <td>false</td>\n",
       "      <td>MAT</td>\n",
       "      <td>0.0</td>\n",
       "      <td>0.0</td>\n",
       "      <td>2024-05-08</td>\n",
       "      <td>09:28:32.396666</td>\n",
       "    </tr>\n",
       "    <tr>\n",
       "      <th>19</th>\n",
       "      <td>TMF004</td>\n",
       "      <td>9.0</td>\n",
       "      <td>1</td>\n",
       "      <td>true</td>\n",
       "      <td>MAT</td>\n",
       "      <td>1454.0</td>\n",
       "      <td>140.0</td>\n",
       "      <td>2024-05-08</td>\n",
       "      <td>09:27:55.856666</td>\n",
       "    </tr>\n",
       "  </tbody>\n",
       "</table>\n",
       "</div>"
      ],
      "text/plain": [
       "   maquina_id  linha fabrica status turno  contagem_total_ciclos  \\\n",
       "0      TMF002    5.0       1   true   MAT                 1582.0   \n",
       "1      TMF012    4.0       1   true   MAT                 1612.0   \n",
       "2      TMF005    3.0       1  false   MAT                    0.0   \n",
       "3      TMF011    2.0       1   true   MAT                 1850.0   \n",
       "4      TMF003    1.0       1   true   MAT                 1728.0   \n",
       "5      TMF004    9.0       1  false   MAT                 1484.0   \n",
       "6      TMF014    8.0       1  false   MAT                 1720.0   \n",
       "7      TMF006    7.0       1  false   MAT                 1240.0   \n",
       "8      TMF001    6.0       1   true   MAT                 1122.0   \n",
       "9      TMF002    5.0       1   true   MAT                 1540.0   \n",
       "10     TMF012    4.0       1   true   MAT                 1568.0   \n",
       "11     TMF005    3.0       1  false   MAT                    0.0   \n",
       "12     TMF011    2.0       1   true   MAT                 1806.0   \n",
       "13     TMF003    1.0       1   true   MAT                 1684.0   \n",
       "14     TMF009   14.0       2   true   MAT                   82.0   \n",
       "15     TMF013   13.0       2   true   MAT                 1732.0   \n",
       "16     TMF007   12.0       2  false   MAT                  286.0   \n",
       "17     TMF010   11.0       2   true   MAT                 1202.0   \n",
       "18     TMF008   10.0       2  false   MAT                    0.0   \n",
       "19     TMF004    9.0       1   true   MAT                 1454.0   \n",
       "\n",
       "    contagem_total_produzido data_registro    hora_registro  \n",
       "0                     1440.0    2024-05-08  09:31:51.856666  \n",
       "1                     1600.0    2024-05-08  09:31:50.860000  \n",
       "2                        0.0    2024-05-08  09:31:49.856666  \n",
       "3                     1788.0    2024-05-08  09:31:48.856666  \n",
       "4                     1708.0    2024-05-08  09:31:47.853333  \n",
       "5                      142.0    2024-05-08  09:29:55.856666  \n",
       "6                        0.0    2024-05-08  09:29:54.850000  \n",
       "7                     1238.0    2024-05-08  09:29:53.853333  \n",
       "8                      934.0    2024-05-08  09:29:52.850000  \n",
       "9                     1398.0    2024-05-08  09:29:51.850000  \n",
       "10                    1556.0    2024-05-08  09:29:50.846666  \n",
       "11                       0.0    2024-05-08  09:29:49.850000  \n",
       "12                    1744.0    2024-05-08  09:29:48.846666  \n",
       "13                    1664.0    2024-05-08  09:29:47.846666  \n",
       "14                      14.0    2024-05-08  09:28:36.403333  \n",
       "15                    1714.0    2024-05-08  09:28:35.396666  \n",
       "16                     194.0    2024-05-08  09:28:34.400000  \n",
       "17                    1150.0    2024-05-08  09:28:33.396666  \n",
       "18                       0.0    2024-05-08  09:28:32.396666  \n",
       "19                     140.0    2024-05-08  09:27:55.856666  "
      ]
     },
     "execution_count": 7,
     "metadata": {},
     "output_type": "execute_result"
    }
   ],
   "source": [
    "df_info.head(20)"
   ]
  },
  {
   "cell_type": "code",
   "execution_count": 8,
   "metadata": {
    "notebookRunGroups": {
     "groupValue": "1"
    }
   },
   "outputs": [
    {
     "data": {
      "text/html": [
       "<div>\n",
       "<style scoped>\n",
       "    .dataframe tbody tr th:only-of-type {\n",
       "        vertical-align: middle;\n",
       "    }\n",
       "\n",
       "    .dataframe tbody tr th {\n",
       "        vertical-align: top;\n",
       "    }\n",
       "\n",
       "    .dataframe thead th {\n",
       "        text-align: right;\n",
       "    }\n",
       "</style>\n",
       "<table border=\"1\" class=\"dataframe\">\n",
       "  <thead>\n",
       "    <tr style=\"text-align: right;\">\n",
       "      <th></th>\n",
       "      <th>fabrica</th>\n",
       "      <th>linha</th>\n",
       "      <th>maquina_id</th>\n",
       "      <th>turno</th>\n",
       "      <th>status</th>\n",
       "      <th>total_ciclos</th>\n",
       "      <th>total_produzido</th>\n",
       "      <th>data_registro</th>\n",
       "      <th>hora_registro</th>\n",
       "      <th>rn</th>\n",
       "    </tr>\n",
       "  </thead>\n",
       "  <tbody>\n",
       "    <tr>\n",
       "      <th>0</th>\n",
       "      <td>None</td>\n",
       "      <td>NaN</td>\n",
       "      <td></td>\n",
       "      <td>MAT</td>\n",
       "      <td>true</td>\n",
       "      <td>674.0</td>\n",
       "      <td>674.0</td>\n",
       "      <td>2024-05-08</td>\n",
       "      <td>08:43:53.720000</td>\n",
       "      <td>1</td>\n",
       "    </tr>\n",
       "    <tr>\n",
       "      <th>1</th>\n",
       "      <td>1</td>\n",
       "      <td>1.0</td>\n",
       "      <td>TMF003</td>\n",
       "      <td>NOT</td>\n",
       "      <td>true</td>\n",
       "      <td>8808.0</td>\n",
       "      <td>8808.0</td>\n",
       "      <td>2024-05-08</td>\n",
       "      <td>07:58:36.186666</td>\n",
       "      <td>1</td>\n",
       "    </tr>\n",
       "    <tr>\n",
       "      <th>2</th>\n",
       "      <td>1</td>\n",
       "      <td>1.0</td>\n",
       "      <td>TMF003</td>\n",
       "      <td>MAT</td>\n",
       "      <td>true</td>\n",
       "      <td>1728.0</td>\n",
       "      <td>1708.0</td>\n",
       "      <td>2024-05-08</td>\n",
       "      <td>09:31:47.853333</td>\n",
       "      <td>1</td>\n",
       "    </tr>\n",
       "    <tr>\n",
       "      <th>3</th>\n",
       "      <td>1</td>\n",
       "      <td>2.0</td>\n",
       "      <td>TMF011</td>\n",
       "      <td>MAT</td>\n",
       "      <td>true</td>\n",
       "      <td>1850.0</td>\n",
       "      <td>1788.0</td>\n",
       "      <td>2024-05-08</td>\n",
       "      <td>09:31:48.856666</td>\n",
       "      <td>1</td>\n",
       "    </tr>\n",
       "    <tr>\n",
       "      <th>4</th>\n",
       "      <td>1</td>\n",
       "      <td>2.0</td>\n",
       "      <td>TMF011</td>\n",
       "      <td>NOT</td>\n",
       "      <td>true</td>\n",
       "      <td>8058.0</td>\n",
       "      <td>7812.0</td>\n",
       "      <td>2024-05-08</td>\n",
       "      <td>07:58:37.186666</td>\n",
       "      <td>1</td>\n",
       "    </tr>\n",
       "    <tr>\n",
       "      <th>5</th>\n",
       "      <td>1</td>\n",
       "      <td>3.0</td>\n",
       "      <td>TMF005</td>\n",
       "      <td>MAT</td>\n",
       "      <td>false</td>\n",
       "      <td>0.0</td>\n",
       "      <td>0.0</td>\n",
       "      <td>2024-05-08</td>\n",
       "      <td>09:31:49.856666</td>\n",
       "      <td>1</td>\n",
       "    </tr>\n",
       "    <tr>\n",
       "      <th>6</th>\n",
       "      <td>1</td>\n",
       "      <td>3.0</td>\n",
       "      <td>TMF005</td>\n",
       "      <td>NOT</td>\n",
       "      <td>false</td>\n",
       "      <td>10.0</td>\n",
       "      <td>6.0</td>\n",
       "      <td>2024-05-08</td>\n",
       "      <td>07:58:38.186666</td>\n",
       "      <td>1</td>\n",
       "    </tr>\n",
       "    <tr>\n",
       "      <th>7</th>\n",
       "      <td>1</td>\n",
       "      <td>4.0</td>\n",
       "      <td>TMF012</td>\n",
       "      <td>MAT</td>\n",
       "      <td>true</td>\n",
       "      <td>1612.0</td>\n",
       "      <td>1600.0</td>\n",
       "      <td>2024-05-08</td>\n",
       "      <td>09:31:50.860000</td>\n",
       "      <td>1</td>\n",
       "    </tr>\n",
       "    <tr>\n",
       "      <th>8</th>\n",
       "      <td>1</td>\n",
       "      <td>4.0</td>\n",
       "      <td>TMF012</td>\n",
       "      <td>NOT</td>\n",
       "      <td>true</td>\n",
       "      <td>8064.0</td>\n",
       "      <td>7926.0</td>\n",
       "      <td>2024-05-08</td>\n",
       "      <td>07:58:39.186666</td>\n",
       "      <td>1</td>\n",
       "    </tr>\n",
       "    <tr>\n",
       "      <th>9</th>\n",
       "      <td>1</td>\n",
       "      <td>5.0</td>\n",
       "      <td>TMF002</td>\n",
       "      <td>MAT</td>\n",
       "      <td>true</td>\n",
       "      <td>1582.0</td>\n",
       "      <td>1440.0</td>\n",
       "      <td>2024-05-08</td>\n",
       "      <td>09:31:51.856666</td>\n",
       "      <td>1</td>\n",
       "    </tr>\n",
       "    <tr>\n",
       "      <th>10</th>\n",
       "      <td>1</td>\n",
       "      <td>5.0</td>\n",
       "      <td>TMF002</td>\n",
       "      <td>NOT</td>\n",
       "      <td>true</td>\n",
       "      <td>5548.0</td>\n",
       "      <td>4968.0</td>\n",
       "      <td>2024-05-08</td>\n",
       "      <td>07:58:40.186666</td>\n",
       "      <td>1</td>\n",
       "    </tr>\n",
       "    <tr>\n",
       "      <th>11</th>\n",
       "      <td>1</td>\n",
       "      <td>6.0</td>\n",
       "      <td>TMF001</td>\n",
       "      <td>MAT</td>\n",
       "      <td>true</td>\n",
       "      <td>1166.0</td>\n",
       "      <td>934.0</td>\n",
       "      <td>2024-05-08</td>\n",
       "      <td>09:31:52.860000</td>\n",
       "      <td>1</td>\n",
       "    </tr>\n",
       "    <tr>\n",
       "      <th>12</th>\n",
       "      <td>1</td>\n",
       "      <td>6.0</td>\n",
       "      <td>TMF001</td>\n",
       "      <td>NOT</td>\n",
       "      <td>false</td>\n",
       "      <td>4774.0</td>\n",
       "      <td>4620.0</td>\n",
       "      <td>2024-05-08</td>\n",
       "      <td>07:58:41.190000</td>\n",
       "      <td>1</td>\n",
       "    </tr>\n",
       "    <tr>\n",
       "      <th>13</th>\n",
       "      <td>1</td>\n",
       "      <td>7.0</td>\n",
       "      <td>TMF006</td>\n",
       "      <td>MAT</td>\n",
       "      <td>false</td>\n",
       "      <td>1240.0</td>\n",
       "      <td>1238.0</td>\n",
       "      <td>2024-05-08</td>\n",
       "      <td>09:31:53.856666</td>\n",
       "      <td>1</td>\n",
       "    </tr>\n",
       "    <tr>\n",
       "      <th>14</th>\n",
       "      <td>1</td>\n",
       "      <td>7.0</td>\n",
       "      <td>TMF006</td>\n",
       "      <td>NOT</td>\n",
       "      <td>true</td>\n",
       "      <td>1418.0</td>\n",
       "      <td>1418.0</td>\n",
       "      <td>2024-05-08</td>\n",
       "      <td>07:58:42.190000</td>\n",
       "      <td>1</td>\n",
       "    </tr>\n",
       "    <tr>\n",
       "      <th>15</th>\n",
       "      <td>1</td>\n",
       "      <td>8.0</td>\n",
       "      <td>TMF014</td>\n",
       "      <td>NOT</td>\n",
       "      <td>true</td>\n",
       "      <td>7616.0</td>\n",
       "      <td>0.0</td>\n",
       "      <td>2024-05-08</td>\n",
       "      <td>07:58:43.190000</td>\n",
       "      <td>1</td>\n",
       "    </tr>\n",
       "    <tr>\n",
       "      <th>16</th>\n",
       "      <td>1</td>\n",
       "      <td>8.0</td>\n",
       "      <td>TMF014</td>\n",
       "      <td>MAT</td>\n",
       "      <td>false</td>\n",
       "      <td>1720.0</td>\n",
       "      <td>0.0</td>\n",
       "      <td>2024-05-08</td>\n",
       "      <td>09:29:54.850000</td>\n",
       "      <td>1</td>\n",
       "    </tr>\n",
       "    <tr>\n",
       "      <th>17</th>\n",
       "      <td>1</td>\n",
       "      <td>9.0</td>\n",
       "      <td>TMF004</td>\n",
       "      <td>MAT</td>\n",
       "      <td>false</td>\n",
       "      <td>1484.0</td>\n",
       "      <td>142.0</td>\n",
       "      <td>2024-05-08</td>\n",
       "      <td>09:29:55.856666</td>\n",
       "      <td>1</td>\n",
       "    </tr>\n",
       "    <tr>\n",
       "      <th>18</th>\n",
       "      <td>1</td>\n",
       "      <td>9.0</td>\n",
       "      <td>TMF004</td>\n",
       "      <td>NOT</td>\n",
       "      <td>false</td>\n",
       "      <td>6616.0</td>\n",
       "      <td>2696.0</td>\n",
       "      <td>2024-05-08</td>\n",
       "      <td>07:58:44.193333</td>\n",
       "      <td>1</td>\n",
       "    </tr>\n",
       "    <tr>\n",
       "      <th>19</th>\n",
       "      <td>2</td>\n",
       "      <td>10.0</td>\n",
       "      <td>TMF008</td>\n",
       "      <td>MAT</td>\n",
       "      <td>false</td>\n",
       "      <td>0.0</td>\n",
       "      <td>0.0</td>\n",
       "      <td>2024-05-08</td>\n",
       "      <td>09:28:32.396666</td>\n",
       "      <td>1</td>\n",
       "    </tr>\n",
       "  </tbody>\n",
       "</table>\n",
       "</div>"
      ],
      "text/plain": [
       "   fabrica  linha maquina_id turno status  total_ciclos  total_produzido  \\\n",
       "0     None    NaN              MAT   true         674.0            674.0   \n",
       "1        1    1.0     TMF003   NOT   true        8808.0           8808.0   \n",
       "2        1    1.0     TMF003   MAT   true        1728.0           1708.0   \n",
       "3        1    2.0     TMF011   MAT   true        1850.0           1788.0   \n",
       "4        1    2.0     TMF011   NOT   true        8058.0           7812.0   \n",
       "5        1    3.0     TMF005   MAT  false           0.0              0.0   \n",
       "6        1    3.0     TMF005   NOT  false          10.0              6.0   \n",
       "7        1    4.0     TMF012   MAT   true        1612.0           1600.0   \n",
       "8        1    4.0     TMF012   NOT   true        8064.0           7926.0   \n",
       "9        1    5.0     TMF002   MAT   true        1582.0           1440.0   \n",
       "10       1    5.0     TMF002   NOT   true        5548.0           4968.0   \n",
       "11       1    6.0     TMF001   MAT   true        1166.0            934.0   \n",
       "12       1    6.0     TMF001   NOT  false        4774.0           4620.0   \n",
       "13       1    7.0     TMF006   MAT  false        1240.0           1238.0   \n",
       "14       1    7.0     TMF006   NOT   true        1418.0           1418.0   \n",
       "15       1    8.0     TMF014   NOT   true        7616.0              0.0   \n",
       "16       1    8.0     TMF014   MAT  false        1720.0              0.0   \n",
       "17       1    9.0     TMF004   MAT  false        1484.0            142.0   \n",
       "18       1    9.0     TMF004   NOT  false        6616.0           2696.0   \n",
       "19       2   10.0     TMF008   MAT  false           0.0              0.0   \n",
       "\n",
       "   data_registro    hora_registro  rn  \n",
       "0     2024-05-08  08:43:53.720000   1  \n",
       "1     2024-05-08  07:58:36.186666   1  \n",
       "2     2024-05-08  09:31:47.853333   1  \n",
       "3     2024-05-08  09:31:48.856666   1  \n",
       "4     2024-05-08  07:58:37.186666   1  \n",
       "5     2024-05-08  09:31:49.856666   1  \n",
       "6     2024-05-08  07:58:38.186666   1  \n",
       "7     2024-05-08  09:31:50.860000   1  \n",
       "8     2024-05-08  07:58:39.186666   1  \n",
       "9     2024-05-08  09:31:51.856666   1  \n",
       "10    2024-05-08  07:58:40.186666   1  \n",
       "11    2024-05-08  09:31:52.860000   1  \n",
       "12    2024-05-08  07:58:41.190000   1  \n",
       "13    2024-05-08  09:31:53.856666   1  \n",
       "14    2024-05-08  07:58:42.190000   1  \n",
       "15    2024-05-08  07:58:43.190000   1  \n",
       "16    2024-05-08  09:29:54.850000   1  \n",
       "17    2024-05-08  09:29:55.856666   1  \n",
       "18    2024-05-08  07:58:44.193333   1  \n",
       "19    2024-05-08  09:28:32.396666   1  "
      ]
     },
     "execution_count": 8,
     "metadata": {},
     "output_type": "execute_result"
    }
   ],
   "source": [
    "df_info_production.head(20)"
   ]
  },
  {
   "cell_type": "markdown",
   "metadata": {},
   "source": [
    "# Limpeza de dados e análise exploratória\n"
   ]
  },
  {
   "cell_type": "markdown",
   "metadata": {},
   "source": [
    "## Análise de dados - Clean Data\n"
   ]
  },
  {
   "cell_type": "code",
   "execution_count": 9,
   "metadata": {
    "notebookRunGroups": {
     "groupValue": "2"
    }
   },
   "outputs": [],
   "source": [
    "# service/clean_data.py\n",
    "\n",
    "\n",
    "# cSpell: disable=invalid-name\n",
    "class CleanData:\n",
    "    \"\"\"\n",
    "    Essa classe é responsável por limpar os dados lidos do banco de dados.\n",
    "    \"\"\"\n",
    "\n",
    "    def __init__(self, df_ihm, df_info, df_info_production):\n",
    "        self.df_ihm = df_ihm\n",
    "        self.df_info = df_info\n",
    "        self.df_info_production = df_info_production\n",
    "\n",
    "    @staticmethod\n",
    "    def __clean_basics(df: pd.DataFrame) -> pd.DataFrame:\n",
    "        \"\"\"\n",
    "        Limpa os dados básicos de um DataFrame.\n",
    "        \"\"\"\n",
    "\n",
    "        # Remove valores duplicados\n",
    "        df = df.drop_duplicates()\n",
    "\n",
    "        # Remove linhas com valores nulos\n",
    "        df = df.dropna(subset=[\"maquina_id\", \"data_registro\", \"hora_registro\"])\n",
    "\n",
    "        # Converte a coluna 'hora_registro' para string e remove os milissegundos\n",
    "        df[\"hora_registro\"] = df[\"hora_registro\"].astype(str).str.split(\".\").str[0]\n",
    "\n",
    "        # Converte as colunas 'data_registro' e 'hora_registro' para datetime\n",
    "        df[\"data_registro\"] = pd.to_datetime(df[\"data_registro\"])\n",
    "        df[\"hora_registro\"] = pd.to_datetime(df[\"hora_registro\"], format=\"%H:%M:%S\").dt.time\n",
    "\n",
    "        # Substitui os valores NaN por 0 antes de converter para int\n",
    "        df[\"linha\"] = df[\"linha\"].fillna(0).astype(int)\n",
    "\n",
    "        # Coluna linha para int\n",
    "        df[\"linha\"] = df[\"linha\"].astype(int)\n",
    "\n",
    "        # Remover onde a 'linha' é 0\n",
    "        df = df[df[\"linha\"] != 0]\n",
    "\n",
    "        return df\n",
    "\n",
    "    @staticmethod\n",
    "    def __clean_info(df: pd.DataFrame) -> pd.DataFrame:\n",
    "        \"\"\"\n",
    "        Limpa os dados de informações.\n",
    "        Fica desatualizado após implementação das IHMs.\n",
    "        Manter apenas para código legado.\n",
    "        \"\"\"\n",
    "\n",
    "        # Reordenar o dataframe\n",
    "        df = df.sort_values(by=[\"maquina_id\", \"data_registro\", \"hora_registro\"])\n",
    "\n",
    "        # Remover a primeira entrada caso seja do turno \"VES\"\n",
    "        mask = (df[\"turno\"] == \"VES\") & (df[\"maquina_id\"] != df[\"maquina_id\"].shift())\n",
    "        df = df[~mask]\n",
    "\n",
    "        # Ajustar o turno VES caso a hora da entrada passe de 00:00, para 23:59 do dia anterior\n",
    "        mask = (\n",
    "            (df[\"turno\"] == \"VES\")\n",
    "            & (df[\"hora_registro\"] > time(0, 0, 0))\n",
    "            & (df[\"hora_registro\"] < time(0, 5, 0))\n",
    "        )\n",
    "\n",
    "        df.loc[mask, \"hora_registro\"] = time(23, 59, 59)\n",
    "        df.loc[mask, \"data_registro\"] = df.loc[mask, \"data_registro\"] - timedelta(days=1)\n",
    "\n",
    "        # Reordenar o dataframe\n",
    "        df = df.sort_values(by=[\"linha\", \"data_registro\", \"hora_registro\"])\n",
    "\n",
    "        # Reiniciar o índice\n",
    "        df = df.reset_index(drop=True)\n",
    "\n",
    "        return df\n",
    "\n",
    "    @staticmethod\n",
    "    def __clean_prod(df: pd.DataFrame) -> pd.DataFrame:\n",
    "        \"\"\"\n",
    "        Limpa os dados de produção.\n",
    "        \"\"\"\n",
    "\n",
    "        # Coluna auxiliar para ordenar os turnos\n",
    "        df[\"turno_aux\"] = df[\"turno\"].map({\"MAT\": 2, \"VES\": 3, \"NOT\": 1})\n",
    "\n",
    "        # Ordenar os valores\n",
    "        df = df.sort_values(by=[\"linha\", \"data_registro\", \"turno_aux\"])\n",
    "\n",
    "        # Remover a coluna auxiliar\n",
    "        df = df.drop(columns=[\"turno_aux\", \"rn\", \"status\"])\n",
    "\n",
    "        # Coluna linha para int\n",
    "        df[\"linha\"] = df[\"linha\"].astype(int)\n",
    "\n",
    "        # Reiniciar o índice\n",
    "        df = df.reset_index(drop=True)\n",
    "\n",
    "        return df\n",
    "\n",
    "    def clean_data(self) -> tuple:\n",
    "        \"\"\"\n",
    "        Limpa os dados lidos do banco de dados.\n",
    "        Retorna na ordem: df_ihm, df_info, df_info_production\n",
    "        \"\"\"\n",
    "\n",
    "        # Limpando os dados(removendo linhas duplicadas ou nulas em informações importantes)\n",
    "        self.df_ihm = self.__clean_basics(self.df_ihm)\n",
    "        self.df_info = self.__clean_basics(self.df_info)\n",
    "        self.df_info_production = self.__clean_basics(self.df_info_production)\n",
    "\n",
    "        # Ajustando o status\n",
    "        # Ajusta nomenclatura do status\n",
    "        self.df_info[\"status\"] = np.where(self.df_info[\"status\"] == \"true\", \"rodando\", \"parada\")\n",
    "\n",
    "        # Ajustes nas informações de produção\n",
    "        self.df_info_production = self.__clean_prod(self.df_info_production)\n",
    "\n",
    "        # NOTE: A fonção abaixo ficará desatualizada após a implementação das IHMs\n",
    "        self.df_info = self.__clean_info(self.df_info)\n",
    "\n",
    "        return self.df_ihm, self.df_info, self.df_info_production\n",
    "\n",
    "\n",
    "clean_data = CleanData(df_ihm.copy(), df_info.copy(), df_info_production.copy())\n",
    "df_ihm_cleaned, df_info_cleaned, df_info_production_cleaned = clean_data.clean_data()"
   ]
  },
  {
   "cell_type": "markdown",
   "metadata": {},
   "source": [
    "### Saída de dados limpos\n"
   ]
  },
  {
   "cell_type": "code",
   "execution_count": 10,
   "metadata": {
    "notebookRunGroups": {
     "groupValue": "2"
    }
   },
   "outputs": [
    {
     "data": {
      "text/html": [
       "<div>\n",
       "<style scoped>\n",
       "    .dataframe tbody tr th:only-of-type {\n",
       "        vertical-align: middle;\n",
       "    }\n",
       "\n",
       "    .dataframe tbody tr th {\n",
       "        vertical-align: top;\n",
       "    }\n",
       "\n",
       "    .dataframe thead th {\n",
       "        text-align: right;\n",
       "    }\n",
       "</style>\n",
       "<table border=\"1\" class=\"dataframe\">\n",
       "  <thead>\n",
       "    <tr style=\"text-align: right;\">\n",
       "      <th></th>\n",
       "      <th>recno</th>\n",
       "      <th>linha</th>\n",
       "      <th>maquina_id</th>\n",
       "      <th>motivo</th>\n",
       "      <th>equipamento</th>\n",
       "      <th>problema</th>\n",
       "      <th>causa</th>\n",
       "      <th>os_numero</th>\n",
       "      <th>operador_id</th>\n",
       "      <th>data_registro</th>\n",
       "      <th>hora_registro</th>\n",
       "    </tr>\n",
       "  </thead>\n",
       "  <tbody>\n",
       "    <tr>\n",
       "      <th>0</th>\n",
       "      <td>15</td>\n",
       "      <td>1</td>\n",
       "      <td>TMF003</td>\n",
       "      <td>Parada Programada</td>\n",
       "      <td></td>\n",
       "      <td>Parada Planejada</td>\n",
       "      <td>Sem Produção</td>\n",
       "      <td></td>\n",
       "      <td>002357</td>\n",
       "      <td>2024-05-01</td>\n",
       "      <td>11:28:20</td>\n",
       "    </tr>\n",
       "    <tr>\n",
       "      <th>1</th>\n",
       "      <td>16</td>\n",
       "      <td>1</td>\n",
       "      <td>TMF003</td>\n",
       "      <td>Parada Programada</td>\n",
       "      <td></td>\n",
       "      <td>Parada Planejada</td>\n",
       "      <td>Backup</td>\n",
       "      <td></td>\n",
       "      <td>002357</td>\n",
       "      <td>2024-05-01</td>\n",
       "      <td>06:47:36</td>\n",
       "    </tr>\n",
       "    <tr>\n",
       "      <th>2</th>\n",
       "      <td>18</td>\n",
       "      <td>1</td>\n",
       "      <td>TMF003</td>\n",
       "      <td>Parada Programada</td>\n",
       "      <td></td>\n",
       "      <td>Parada Planejada</td>\n",
       "      <td>Refeição</td>\n",
       "      <td></td>\n",
       "      <td>002357</td>\n",
       "      <td>2024-05-03</td>\n",
       "      <td>08:29:24</td>\n",
       "    </tr>\n",
       "    <tr>\n",
       "      <th>3</th>\n",
       "      <td>19</td>\n",
       "      <td>1</td>\n",
       "      <td>TMF003</td>\n",
       "      <td>Parada Programada</td>\n",
       "      <td></td>\n",
       "      <td>Parada para Treinamento</td>\n",
       "      <td>Kaizen</td>\n",
       "      <td></td>\n",
       "      <td>002357</td>\n",
       "      <td>2024-05-01</td>\n",
       "      <td>10:08:08</td>\n",
       "    </tr>\n",
       "    <tr>\n",
       "      <th>4</th>\n",
       "      <td>20</td>\n",
       "      <td>2</td>\n",
       "      <td>TMF011</td>\n",
       "      <td>Parada Programada</td>\n",
       "      <td></td>\n",
       "      <td>Parada Planejada</td>\n",
       "      <td>Sem Produção</td>\n",
       "      <td></td>\n",
       "      <td>002357</td>\n",
       "      <td>2024-05-03</td>\n",
       "      <td>09:08:52</td>\n",
       "    </tr>\n",
       "    <tr>\n",
       "      <th>...</th>\n",
       "      <td>...</td>\n",
       "      <td>...</td>\n",
       "      <td>...</td>\n",
       "      <td>...</td>\n",
       "      <td>...</td>\n",
       "      <td>...</td>\n",
       "      <td>...</td>\n",
       "      <td>...</td>\n",
       "      <td>...</td>\n",
       "      <td>...</td>\n",
       "      <td>...</td>\n",
       "    </tr>\n",
       "    <tr>\n",
       "      <th>56</th>\n",
       "      <td>106</td>\n",
       "      <td>2</td>\n",
       "      <td>TMF011</td>\n",
       "      <td>Parada Programada</td>\n",
       "      <td></td>\n",
       "      <td>Parada Planejada</td>\n",
       "      <td>Refeição</td>\n",
       "      <td></td>\n",
       "      <td>001643</td>\n",
       "      <td>2024-05-07</td>\n",
       "      <td>19:02:28</td>\n",
       "    </tr>\n",
       "    <tr>\n",
       "      <th>57</th>\n",
       "      <td>107</td>\n",
       "      <td>6</td>\n",
       "      <td>TMF001</td>\n",
       "      <td>Manutenção</td>\n",
       "      <td>Termoformadora</td>\n",
       "      <td>Bandeja Murcha ou Cheia</td>\n",
       "      <td>Realizar análise de falha</td>\n",
       "      <td>066636</td>\n",
       "      <td>000933</td>\n",
       "      <td>2024-05-07</td>\n",
       "      <td>20:44:47</td>\n",
       "    </tr>\n",
       "    <tr>\n",
       "      <th>58</th>\n",
       "      <td>108</td>\n",
       "      <td>6</td>\n",
       "      <td>TMF001</td>\n",
       "      <td>Manutenção</td>\n",
       "      <td>Termoformadora</td>\n",
       "      <td>Bandeja Murcha ou Cheia</td>\n",
       "      <td>Realizar análise de falha</td>\n",
       "      <td></td>\n",
       "      <td>000933</td>\n",
       "      <td>2024-05-07</td>\n",
       "      <td>20:50:29</td>\n",
       "    </tr>\n",
       "    <tr>\n",
       "      <th>59</th>\n",
       "      <td>109</td>\n",
       "      <td>6</td>\n",
       "      <td>TMF001</td>\n",
       "      <td>Parada Programada</td>\n",
       "      <td></td>\n",
       "      <td>Parada Planejada</td>\n",
       "      <td>Refeição</td>\n",
       "      <td></td>\n",
       "      <td>000933</td>\n",
       "      <td>2024-05-08</td>\n",
       "      <td>05:07:02</td>\n",
       "    </tr>\n",
       "    <tr>\n",
       "      <th>61</th>\n",
       "      <td>111</td>\n",
       "      <td>6</td>\n",
       "      <td>TMF001</td>\n",
       "      <td>Ajustes</td>\n",
       "      <td>Termoformadora</td>\n",
       "      <td>Bobina desenquadrando na vertical</td>\n",
       "      <td>Ajuste de Fotocélula</td>\n",
       "      <td></td>\n",
       "      <td>...933</td>\n",
       "      <td>2024-05-08</td>\n",
       "      <td>08:55:40</td>\n",
       "    </tr>\n",
       "  </tbody>\n",
       "</table>\n",
       "<p>61 rows × 11 columns</p>\n",
       "</div>"
      ],
      "text/plain": [
       "    recno  linha maquina_id             motivo     equipamento  \\\n",
       "0      15      1     TMF003  Parada Programada                   \n",
       "1      16      1     TMF003  Parada Programada                   \n",
       "2      18      1     TMF003  Parada Programada                   \n",
       "3      19      1     TMF003  Parada Programada                   \n",
       "4      20      2     TMF011  Parada Programada                   \n",
       "..    ...    ...        ...                ...             ...   \n",
       "56    106      2     TMF011  Parada Programada                   \n",
       "57    107      6     TMF001         Manutenção  Termoformadora   \n",
       "58    108      6     TMF001         Manutenção  Termoformadora   \n",
       "59    109      6     TMF001  Parada Programada                   \n",
       "61    111      6     TMF001            Ajustes  Termoformadora   \n",
       "\n",
       "                             problema                      causa os_numero  \\\n",
       "0                    Parada Planejada               Sem Produção             \n",
       "1                    Parada Planejada                     Backup             \n",
       "2                    Parada Planejada                   Refeição             \n",
       "3             Parada para Treinamento                     Kaizen             \n",
       "4                    Parada Planejada               Sem Produção             \n",
       "..                                ...                        ...       ...   \n",
       "56                   Parada Planejada                   Refeição             \n",
       "57            Bandeja Murcha ou Cheia  Realizar análise de falha    066636   \n",
       "58            Bandeja Murcha ou Cheia  Realizar análise de falha             \n",
       "59                   Parada Planejada                   Refeição             \n",
       "61  Bobina desenquadrando na vertical       Ajuste de Fotocélula             \n",
       "\n",
       "   operador_id data_registro hora_registro  \n",
       "0       002357    2024-05-01      11:28:20  \n",
       "1       002357    2024-05-01      06:47:36  \n",
       "2       002357    2024-05-03      08:29:24  \n",
       "3       002357    2024-05-01      10:08:08  \n",
       "4     002357      2024-05-03      09:08:52  \n",
       "..         ...           ...           ...  \n",
       "56      001643    2024-05-07      19:02:28  \n",
       "57      000933    2024-05-07      20:44:47  \n",
       "58      000933    2024-05-07      20:50:29  \n",
       "59      000933    2024-05-08      05:07:02  \n",
       "61      ...933    2024-05-08      08:55:40  \n",
       "\n",
       "[61 rows x 11 columns]"
      ]
     },
     "execution_count": 10,
     "metadata": {},
     "output_type": "execute_result"
    }
   ],
   "source": [
    "df_ihm_cleaned"
   ]
  },
  {
   "cell_type": "code",
   "execution_count": 11,
   "metadata": {
    "notebookRunGroups": {
     "groupValue": "2"
    }
   },
   "outputs": [
    {
     "data": {
      "text/html": [
       "<div>\n",
       "<style scoped>\n",
       "    .dataframe tbody tr th:only-of-type {\n",
       "        vertical-align: middle;\n",
       "    }\n",
       "\n",
       "    .dataframe tbody tr th {\n",
       "        vertical-align: top;\n",
       "    }\n",
       "\n",
       "    .dataframe thead th {\n",
       "        text-align: right;\n",
       "    }\n",
       "</style>\n",
       "<table border=\"1\" class=\"dataframe\">\n",
       "  <thead>\n",
       "    <tr style=\"text-align: right;\">\n",
       "      <th></th>\n",
       "      <th>maquina_id</th>\n",
       "      <th>linha</th>\n",
       "      <th>fabrica</th>\n",
       "      <th>status</th>\n",
       "      <th>turno</th>\n",
       "      <th>contagem_total_ciclos</th>\n",
       "      <th>contagem_total_produzido</th>\n",
       "      <th>data_registro</th>\n",
       "      <th>hora_registro</th>\n",
       "    </tr>\n",
       "  </thead>\n",
       "  <tbody>\n",
       "    <tr>\n",
       "      <th>0</th>\n",
       "      <td>TMF003</td>\n",
       "      <td>1</td>\n",
       "      <td>1</td>\n",
       "      <td>parada</td>\n",
       "      <td>NOT</td>\n",
       "      <td>18.0</td>\n",
       "      <td>12.0</td>\n",
       "      <td>2024-05-01</td>\n",
       "      <td>00:01:06</td>\n",
       "    </tr>\n",
       "    <tr>\n",
       "      <th>1</th>\n",
       "      <td>TMF003</td>\n",
       "      <td>1</td>\n",
       "      <td>1</td>\n",
       "      <td>parada</td>\n",
       "      <td>NOT</td>\n",
       "      <td>18.0</td>\n",
       "      <td>12.0</td>\n",
       "      <td>2024-05-01</td>\n",
       "      <td>00:03:06</td>\n",
       "    </tr>\n",
       "    <tr>\n",
       "      <th>2</th>\n",
       "      <td>TMF003</td>\n",
       "      <td>1</td>\n",
       "      <td>1</td>\n",
       "      <td>parada</td>\n",
       "      <td>NOT</td>\n",
       "      <td>18.0</td>\n",
       "      <td>12.0</td>\n",
       "      <td>2024-05-01</td>\n",
       "      <td>00:05:06</td>\n",
       "    </tr>\n",
       "    <tr>\n",
       "      <th>3</th>\n",
       "      <td>TMF003</td>\n",
       "      <td>1</td>\n",
       "      <td>1</td>\n",
       "      <td>parada</td>\n",
       "      <td>NOT</td>\n",
       "      <td>18.0</td>\n",
       "      <td>12.0</td>\n",
       "      <td>2024-05-01</td>\n",
       "      <td>00:07:06</td>\n",
       "    </tr>\n",
       "    <tr>\n",
       "      <th>4</th>\n",
       "      <td>TMF003</td>\n",
       "      <td>1</td>\n",
       "      <td>1</td>\n",
       "      <td>parada</td>\n",
       "      <td>NOT</td>\n",
       "      <td>18.0</td>\n",
       "      <td>12.0</td>\n",
       "      <td>2024-05-01</td>\n",
       "      <td>00:09:06</td>\n",
       "    </tr>\n",
       "    <tr>\n",
       "      <th>...</th>\n",
       "      <td>...</td>\n",
       "      <td>...</td>\n",
       "      <td>...</td>\n",
       "      <td>...</td>\n",
       "      <td>...</td>\n",
       "      <td>...</td>\n",
       "      <td>...</td>\n",
       "      <td>...</td>\n",
       "      <td>...</td>\n",
       "    </tr>\n",
       "    <tr>\n",
       "      <th>66738</th>\n",
       "      <td>TMF009</td>\n",
       "      <td>14</td>\n",
       "      <td>2</td>\n",
       "      <td>parada</td>\n",
       "      <td>MAT</td>\n",
       "      <td>80.0</td>\n",
       "      <td>14.0</td>\n",
       "      <td>2024-05-08</td>\n",
       "      <td>09:20:36</td>\n",
       "    </tr>\n",
       "    <tr>\n",
       "      <th>66739</th>\n",
       "      <td>TMF009</td>\n",
       "      <td>14</td>\n",
       "      <td>2</td>\n",
       "      <td>parada</td>\n",
       "      <td>MAT</td>\n",
       "      <td>80.0</td>\n",
       "      <td>14.0</td>\n",
       "      <td>2024-05-08</td>\n",
       "      <td>09:22:36</td>\n",
       "    </tr>\n",
       "    <tr>\n",
       "      <th>66740</th>\n",
       "      <td>TMF009</td>\n",
       "      <td>14</td>\n",
       "      <td>2</td>\n",
       "      <td>parada</td>\n",
       "      <td>MAT</td>\n",
       "      <td>80.0</td>\n",
       "      <td>14.0</td>\n",
       "      <td>2024-05-08</td>\n",
       "      <td>09:24:36</td>\n",
       "    </tr>\n",
       "    <tr>\n",
       "      <th>66741</th>\n",
       "      <td>TMF009</td>\n",
       "      <td>14</td>\n",
       "      <td>2</td>\n",
       "      <td>parada</td>\n",
       "      <td>MAT</td>\n",
       "      <td>80.0</td>\n",
       "      <td>14.0</td>\n",
       "      <td>2024-05-08</td>\n",
       "      <td>09:26:36</td>\n",
       "    </tr>\n",
       "    <tr>\n",
       "      <th>66742</th>\n",
       "      <td>TMF009</td>\n",
       "      <td>14</td>\n",
       "      <td>2</td>\n",
       "      <td>rodando</td>\n",
       "      <td>MAT</td>\n",
       "      <td>82.0</td>\n",
       "      <td>14.0</td>\n",
       "      <td>2024-05-08</td>\n",
       "      <td>09:28:36</td>\n",
       "    </tr>\n",
       "  </tbody>\n",
       "</table>\n",
       "<p>66743 rows × 9 columns</p>\n",
       "</div>"
      ],
      "text/plain": [
       "      maquina_id  linha fabrica   status turno  contagem_total_ciclos  \\\n",
       "0         TMF003      1       1   parada   NOT                   18.0   \n",
       "1         TMF003      1       1   parada   NOT                   18.0   \n",
       "2         TMF003      1       1   parada   NOT                   18.0   \n",
       "3         TMF003      1       1   parada   NOT                   18.0   \n",
       "4         TMF003      1       1   parada   NOT                   18.0   \n",
       "...          ...    ...     ...      ...   ...                    ...   \n",
       "66738     TMF009     14       2   parada   MAT                   80.0   \n",
       "66739     TMF009     14       2   parada   MAT                   80.0   \n",
       "66740     TMF009     14       2   parada   MAT                   80.0   \n",
       "66741     TMF009     14       2   parada   MAT                   80.0   \n",
       "66742     TMF009     14       2  rodando   MAT                   82.0   \n",
       "\n",
       "       contagem_total_produzido data_registro hora_registro  \n",
       "0                          12.0    2024-05-01      00:01:06  \n",
       "1                          12.0    2024-05-01      00:03:06  \n",
       "2                          12.0    2024-05-01      00:05:06  \n",
       "3                          12.0    2024-05-01      00:07:06  \n",
       "4                          12.0    2024-05-01      00:09:06  \n",
       "...                         ...           ...           ...  \n",
       "66738                      14.0    2024-05-08      09:20:36  \n",
       "66739                      14.0    2024-05-08      09:22:36  \n",
       "66740                      14.0    2024-05-08      09:24:36  \n",
       "66741                      14.0    2024-05-08      09:26:36  \n",
       "66742                      14.0    2024-05-08      09:28:36  \n",
       "\n",
       "[66743 rows x 9 columns]"
      ]
     },
     "execution_count": 11,
     "metadata": {},
     "output_type": "execute_result"
    }
   ],
   "source": [
    "df_info_cleaned"
   ]
  },
  {
   "cell_type": "code",
   "execution_count": 12,
   "metadata": {
    "notebookRunGroups": {
     "groupValue": "2"
    }
   },
   "outputs": [
    {
     "data": {
      "text/html": [
       "<div>\n",
       "<style scoped>\n",
       "    .dataframe tbody tr th:only-of-type {\n",
       "        vertical-align: middle;\n",
       "    }\n",
       "\n",
       "    .dataframe tbody tr th {\n",
       "        vertical-align: top;\n",
       "    }\n",
       "\n",
       "    .dataframe thead th {\n",
       "        text-align: right;\n",
       "    }\n",
       "</style>\n",
       "<table border=\"1\" class=\"dataframe\">\n",
       "  <thead>\n",
       "    <tr style=\"text-align: right;\">\n",
       "      <th></th>\n",
       "      <th>fabrica</th>\n",
       "      <th>linha</th>\n",
       "      <th>maquina_id</th>\n",
       "      <th>turno</th>\n",
       "      <th>total_ciclos</th>\n",
       "      <th>total_produzido</th>\n",
       "      <th>data_registro</th>\n",
       "      <th>hora_registro</th>\n",
       "    </tr>\n",
       "  </thead>\n",
       "  <tbody>\n",
       "    <tr>\n",
       "      <th>0</th>\n",
       "      <td>1</td>\n",
       "      <td>1</td>\n",
       "      <td>TMF003</td>\n",
       "      <td>NOT</td>\n",
       "      <td>18.0</td>\n",
       "      <td>12.0</td>\n",
       "      <td>2024-05-01</td>\n",
       "      <td>07:59:08</td>\n",
       "    </tr>\n",
       "    <tr>\n",
       "      <th>1</th>\n",
       "      <td>1</td>\n",
       "      <td>1</td>\n",
       "      <td>TMF003</td>\n",
       "      <td>MAT</td>\n",
       "      <td>18.0</td>\n",
       "      <td>12.0</td>\n",
       "      <td>2024-05-01</td>\n",
       "      <td>15:59:09</td>\n",
       "    </tr>\n",
       "    <tr>\n",
       "      <th>2</th>\n",
       "      <td>1</td>\n",
       "      <td>1</td>\n",
       "      <td>TMF003</td>\n",
       "      <td>VES</td>\n",
       "      <td>72.0</td>\n",
       "      <td>56.0</td>\n",
       "      <td>2024-05-01</td>\n",
       "      <td>23:59:10</td>\n",
       "    </tr>\n",
       "    <tr>\n",
       "      <th>3</th>\n",
       "      <td>1</td>\n",
       "      <td>1</td>\n",
       "      <td>TMF003</td>\n",
       "      <td>NOT</td>\n",
       "      <td>6398.0</td>\n",
       "      <td>6274.0</td>\n",
       "      <td>2024-05-02</td>\n",
       "      <td>07:59:12</td>\n",
       "    </tr>\n",
       "    <tr>\n",
       "      <th>4</th>\n",
       "      <td>1</td>\n",
       "      <td>1</td>\n",
       "      <td>TMF003</td>\n",
       "      <td>MAT</td>\n",
       "      <td>2124.0</td>\n",
       "      <td>2116.0</td>\n",
       "      <td>2024-05-02</td>\n",
       "      <td>15:59:13</td>\n",
       "    </tr>\n",
       "    <tr>\n",
       "      <th>...</th>\n",
       "      <td>...</td>\n",
       "      <td>...</td>\n",
       "      <td>...</td>\n",
       "      <td>...</td>\n",
       "      <td>...</td>\n",
       "      <td>...</td>\n",
       "      <td>...</td>\n",
       "      <td>...</td>\n",
       "    </tr>\n",
       "    <tr>\n",
       "      <th>286</th>\n",
       "      <td>2</td>\n",
       "      <td>14</td>\n",
       "      <td>TMF009</td>\n",
       "      <td>NOT</td>\n",
       "      <td>0.0</td>\n",
       "      <td>0.0</td>\n",
       "      <td>2024-05-07</td>\n",
       "      <td>07:59:34</td>\n",
       "    </tr>\n",
       "    <tr>\n",
       "      <th>287</th>\n",
       "      <td>2</td>\n",
       "      <td>14</td>\n",
       "      <td>TMF009</td>\n",
       "      <td>MAT</td>\n",
       "      <td>0.0</td>\n",
       "      <td>0.0</td>\n",
       "      <td>2024-05-07</td>\n",
       "      <td>15:58:33</td>\n",
       "    </tr>\n",
       "    <tr>\n",
       "      <th>288</th>\n",
       "      <td>2</td>\n",
       "      <td>14</td>\n",
       "      <td>TMF009</td>\n",
       "      <td>VES</td>\n",
       "      <td>0.0</td>\n",
       "      <td>0.0</td>\n",
       "      <td>2024-05-07</td>\n",
       "      <td>23:58:34</td>\n",
       "    </tr>\n",
       "    <tr>\n",
       "      <th>289</th>\n",
       "      <td>2</td>\n",
       "      <td>14</td>\n",
       "      <td>TMF009</td>\n",
       "      <td>NOT</td>\n",
       "      <td>0.0</td>\n",
       "      <td>0.0</td>\n",
       "      <td>2024-05-08</td>\n",
       "      <td>07:58:36</td>\n",
       "    </tr>\n",
       "    <tr>\n",
       "      <th>290</th>\n",
       "      <td>2</td>\n",
       "      <td>14</td>\n",
       "      <td>TMF009</td>\n",
       "      <td>MAT</td>\n",
       "      <td>82.0</td>\n",
       "      <td>14.0</td>\n",
       "      <td>2024-05-08</td>\n",
       "      <td>09:28:36</td>\n",
       "    </tr>\n",
       "  </tbody>\n",
       "</table>\n",
       "<p>291 rows × 8 columns</p>\n",
       "</div>"
      ],
      "text/plain": [
       "    fabrica  linha maquina_id turno  total_ciclos  total_produzido  \\\n",
       "0         1      1     TMF003   NOT          18.0             12.0   \n",
       "1         1      1     TMF003   MAT          18.0             12.0   \n",
       "2         1      1     TMF003   VES          72.0             56.0   \n",
       "3         1      1     TMF003   NOT        6398.0           6274.0   \n",
       "4         1      1     TMF003   MAT        2124.0           2116.0   \n",
       "..      ...    ...        ...   ...           ...              ...   \n",
       "286       2     14     TMF009   NOT           0.0              0.0   \n",
       "287       2     14     TMF009   MAT           0.0              0.0   \n",
       "288       2     14     TMF009   VES           0.0              0.0   \n",
       "289       2     14     TMF009   NOT           0.0              0.0   \n",
       "290       2     14     TMF009   MAT          82.0             14.0   \n",
       "\n",
       "    data_registro hora_registro  \n",
       "0      2024-05-01      07:59:08  \n",
       "1      2024-05-01      15:59:09  \n",
       "2      2024-05-01      23:59:10  \n",
       "3      2024-05-02      07:59:12  \n",
       "4      2024-05-02      15:59:13  \n",
       "..            ...           ...  \n",
       "286    2024-05-07      07:59:34  \n",
       "287    2024-05-07      15:58:33  \n",
       "288    2024-05-07      23:58:34  \n",
       "289    2024-05-08      07:58:36  \n",
       "290    2024-05-08      09:28:36  \n",
       "\n",
       "[291 rows x 8 columns]"
      ]
     },
     "execution_count": 12,
     "metadata": {},
     "output_type": "execute_result"
    }
   ],
   "source": [
    "df_info_production_cleaned"
   ]
  },
  {
   "cell_type": "markdown",
   "metadata": {},
   "source": [
    "# Unindo os dados\n"
   ]
  },
  {
   "cell_type": "markdown",
   "metadata": {},
   "source": [
    "## IHM + Info\n"
   ]
  },
  {
   "cell_type": "code",
   "execution_count": 13,
   "metadata": {
    "notebookRunGroups": {
     "groupValue": "2"
    }
   },
   "outputs": [],
   "source": [
    "class JoinInfoIHM:\n",
    "    \"\"\"\n",
    "    Essa classe é responsável por juntar os DataFrames de informações e IHM.\n",
    "    \"\"\"\n",
    "\n",
    "    def __init__(self, df_ihm, df_info):\n",
    "        self.df_ihm = df_ihm\n",
    "        self.df_info = df_info\n",
    "\n",
    "    def join_data(self) -> pd.DataFrame:\n",
    "        \"\"\"\n",
    "        Junta os DataFrames de informações e IHM.\n",
    "        \"\"\"\n",
    "\n",
    "        # Cria uma coluna auxiliar com data e hora para fazer o merge\n",
    "        self.df_info[\"data_hora\"] = pd.to_datetime(\n",
    "            self.df_info[\"data_registro\"].astype(str)\n",
    "            + \" \"\n",
    "            + self.df_info[\"hora_registro\"].astype(str)\n",
    "        )\n",
    "\n",
    "        self.df_ihm[\"data_hora\"] = pd.to_datetime(\n",
    "            self.df_ihm[\"data_registro\"].astype(str)\n",
    "            + \" \"\n",
    "            + self.df_ihm[\"hora_registro\"].astype(str)\n",
    "        )\n",
    "\n",
    "        # Classifica os DataFrames\n",
    "        self.df_info = self.df_info.sort_values(by=\"data_hora\")\n",
    "        self.df_ihm = self.df_ihm.sort_values(by=\"data_hora\")\n",
    "\n",
    "        # Junta os DataFrames\n",
    "        df = pd.merge_asof(\n",
    "            self.df_info,\n",
    "            self.df_ihm.drop(columns=\"recno\"),\n",
    "            on=\"data_hora\",\n",
    "            by=\"maquina_id\",\n",
    "            direction=\"nearest\",\n",
    "            tolerance=pd.Timedelta(\"1 min 10 s\"),\n",
    "        )\n",
    "\n",
    "        # Ajustas os tipos das colunas contagem_total_ciclos e contagem_total_produzido para int\n",
    "        df[\"contagem_total_ciclos\"] = df[\"contagem_total_ciclos\"].astype(\"Int64\")\n",
    "        df[\"contagem_total_produzido\"] = df[\"contagem_total_produzido\"].astype(\"Int64\")\n",
    "\n",
    "        # Reordenar as colunas mantendo só as colunas necessárias e renomeando as colunas para facilitar a compreensão\n",
    "        df = df[\n",
    "            [\n",
    "                \"fabrica\",\n",
    "                \"linha_x\",\n",
    "                \"maquina_id\",\n",
    "                \"turno\",\n",
    "                \"status\",\n",
    "                \"contagem_total_ciclos\",\n",
    "                \"contagem_total_produzido\",\n",
    "                \"data_registro_x\",\n",
    "                \"hora_registro_x\",\n",
    "                \"motivo\",\n",
    "                \"equipamento\",\n",
    "                \"problema\",\n",
    "                \"causa\",\n",
    "                \"os_numero\",\n",
    "                \"operador_id\",\n",
    "                \"data_registro_y\",\n",
    "                \"hora_registro_y\",\n",
    "            ]\n",
    "        ]\n",
    "\n",
    "        df.columns = [\n",
    "            \"fabrica\",\n",
    "            \"linha\",\n",
    "            \"maquina_id\",\n",
    "            \"turno\",\n",
    "            \"status\",\n",
    "            \"contagem_total_ciclos\",\n",
    "            \"contagem_total_produzido\",\n",
    "            \"data_registro\",\n",
    "            \"hora_registro\",\n",
    "            \"motivo\",\n",
    "            \"equipamento\",\n",
    "            \"problema\",\n",
    "            \"causa\",\n",
    "            \"os_numero\",\n",
    "            \"operador_id\",\n",
    "            \"data_registro_ihm\",\n",
    "            \"hora_registro_ihm\",\n",
    "        ]\n",
    "\n",
    "        # Reordenar pela linha, data_registro_info e hora_registro_info\n",
    "        df = df.sort_values(by=[\"linha\", \"data_registro\", \"hora_registro\"])\n",
    "\n",
    "        return df\n",
    "\n",
    "\n",
    "join_info_ihm = JoinInfoIHM(df_ihm_cleaned.copy(), df_info_cleaned.copy())\n",
    "df_joined = join_info_ihm.join_data()"
   ]
  },
  {
   "cell_type": "markdown",
   "metadata": {},
   "source": [
    "### Saída de Join\n"
   ]
  },
  {
   "cell_type": "code",
   "execution_count": 14,
   "metadata": {
    "notebookRunGroups": {
     "groupValue": "2"
    }
   },
   "outputs": [
    {
     "data": {
      "text/html": [
       "<div>\n",
       "<style scoped>\n",
       "    .dataframe tbody tr th:only-of-type {\n",
       "        vertical-align: middle;\n",
       "    }\n",
       "\n",
       "    .dataframe tbody tr th {\n",
       "        vertical-align: top;\n",
       "    }\n",
       "\n",
       "    .dataframe thead th {\n",
       "        text-align: right;\n",
       "    }\n",
       "</style>\n",
       "<table border=\"1\" class=\"dataframe\">\n",
       "  <thead>\n",
       "    <tr style=\"text-align: right;\">\n",
       "      <th></th>\n",
       "      <th>fabrica</th>\n",
       "      <th>linha</th>\n",
       "      <th>maquina_id</th>\n",
       "      <th>turno</th>\n",
       "      <th>status</th>\n",
       "      <th>contagem_total_ciclos</th>\n",
       "      <th>contagem_total_produzido</th>\n",
       "      <th>data_registro</th>\n",
       "      <th>hora_registro</th>\n",
       "      <th>motivo</th>\n",
       "      <th>equipamento</th>\n",
       "      <th>problema</th>\n",
       "      <th>causa</th>\n",
       "      <th>os_numero</th>\n",
       "      <th>operador_id</th>\n",
       "      <th>data_registro_ihm</th>\n",
       "      <th>hora_registro_ihm</th>\n",
       "    </tr>\n",
       "  </thead>\n",
       "  <tbody>\n",
       "    <tr>\n",
       "      <th>0</th>\n",
       "      <td>1</td>\n",
       "      <td>1</td>\n",
       "      <td>TMF003</td>\n",
       "      <td>NOT</td>\n",
       "      <td>parada</td>\n",
       "      <td>18</td>\n",
       "      <td>12</td>\n",
       "      <td>2024-05-01</td>\n",
       "      <td>00:01:06</td>\n",
       "      <td>NaN</td>\n",
       "      <td>NaN</td>\n",
       "      <td>NaN</td>\n",
       "      <td>NaN</td>\n",
       "      <td>NaN</td>\n",
       "      <td>NaN</td>\n",
       "      <td>NaT</td>\n",
       "      <td>NaN</td>\n",
       "    </tr>\n",
       "    <tr>\n",
       "      <th>8</th>\n",
       "      <td>1</td>\n",
       "      <td>1</td>\n",
       "      <td>TMF003</td>\n",
       "      <td>NOT</td>\n",
       "      <td>parada</td>\n",
       "      <td>18</td>\n",
       "      <td>12</td>\n",
       "      <td>2024-05-01</td>\n",
       "      <td>00:03:06</td>\n",
       "      <td>NaN</td>\n",
       "      <td>NaN</td>\n",
       "      <td>NaN</td>\n",
       "      <td>NaN</td>\n",
       "      <td>NaN</td>\n",
       "      <td>NaN</td>\n",
       "      <td>NaT</td>\n",
       "      <td>NaN</td>\n",
       "    </tr>\n",
       "    <tr>\n",
       "      <th>16</th>\n",
       "      <td>1</td>\n",
       "      <td>1</td>\n",
       "      <td>TMF003</td>\n",
       "      <td>NOT</td>\n",
       "      <td>parada</td>\n",
       "      <td>18</td>\n",
       "      <td>12</td>\n",
       "      <td>2024-05-01</td>\n",
       "      <td>00:05:06</td>\n",
       "      <td>NaN</td>\n",
       "      <td>NaN</td>\n",
       "      <td>NaN</td>\n",
       "      <td>NaN</td>\n",
       "      <td>NaN</td>\n",
       "      <td>NaN</td>\n",
       "      <td>NaT</td>\n",
       "      <td>NaN</td>\n",
       "    </tr>\n",
       "    <tr>\n",
       "      <th>24</th>\n",
       "      <td>1</td>\n",
       "      <td>1</td>\n",
       "      <td>TMF003</td>\n",
       "      <td>NOT</td>\n",
       "      <td>parada</td>\n",
       "      <td>18</td>\n",
       "      <td>12</td>\n",
       "      <td>2024-05-01</td>\n",
       "      <td>00:07:06</td>\n",
       "      <td>NaN</td>\n",
       "      <td>NaN</td>\n",
       "      <td>NaN</td>\n",
       "      <td>NaN</td>\n",
       "      <td>NaN</td>\n",
       "      <td>NaN</td>\n",
       "      <td>NaT</td>\n",
       "      <td>NaN</td>\n",
       "    </tr>\n",
       "    <tr>\n",
       "      <th>32</th>\n",
       "      <td>1</td>\n",
       "      <td>1</td>\n",
       "      <td>TMF003</td>\n",
       "      <td>NOT</td>\n",
       "      <td>parada</td>\n",
       "      <td>18</td>\n",
       "      <td>12</td>\n",
       "      <td>2024-05-01</td>\n",
       "      <td>00:09:06</td>\n",
       "      <td>NaN</td>\n",
       "      <td>NaN</td>\n",
       "      <td>NaN</td>\n",
       "      <td>NaN</td>\n",
       "      <td>NaN</td>\n",
       "      <td>NaN</td>\n",
       "      <td>NaT</td>\n",
       "      <td>NaN</td>\n",
       "    </tr>\n",
       "    <tr>\n",
       "      <th>...</th>\n",
       "      <td>...</td>\n",
       "      <td>...</td>\n",
       "      <td>...</td>\n",
       "      <td>...</td>\n",
       "      <td>...</td>\n",
       "      <td>...</td>\n",
       "      <td>...</td>\n",
       "      <td>...</td>\n",
       "      <td>...</td>\n",
       "      <td>...</td>\n",
       "      <td>...</td>\n",
       "      <td>...</td>\n",
       "      <td>...</td>\n",
       "      <td>...</td>\n",
       "      <td>...</td>\n",
       "      <td>...</td>\n",
       "      <td>...</td>\n",
       "    </tr>\n",
       "    <tr>\n",
       "      <th>66672</th>\n",
       "      <td>2</td>\n",
       "      <td>14</td>\n",
       "      <td>TMF009</td>\n",
       "      <td>MAT</td>\n",
       "      <td>parada</td>\n",
       "      <td>80</td>\n",
       "      <td>14</td>\n",
       "      <td>2024-05-08</td>\n",
       "      <td>09:20:36</td>\n",
       "      <td>NaN</td>\n",
       "      <td>NaN</td>\n",
       "      <td>NaN</td>\n",
       "      <td>NaN</td>\n",
       "      <td>NaN</td>\n",
       "      <td>NaN</td>\n",
       "      <td>NaT</td>\n",
       "      <td>NaN</td>\n",
       "    </tr>\n",
       "    <tr>\n",
       "      <th>66686</th>\n",
       "      <td>2</td>\n",
       "      <td>14</td>\n",
       "      <td>TMF009</td>\n",
       "      <td>MAT</td>\n",
       "      <td>parada</td>\n",
       "      <td>80</td>\n",
       "      <td>14</td>\n",
       "      <td>2024-05-08</td>\n",
       "      <td>09:22:36</td>\n",
       "      <td>NaN</td>\n",
       "      <td>NaN</td>\n",
       "      <td>NaN</td>\n",
       "      <td>NaN</td>\n",
       "      <td>NaN</td>\n",
       "      <td>NaN</td>\n",
       "      <td>NaT</td>\n",
       "      <td>NaN</td>\n",
       "    </tr>\n",
       "    <tr>\n",
       "      <th>66700</th>\n",
       "      <td>2</td>\n",
       "      <td>14</td>\n",
       "      <td>TMF009</td>\n",
       "      <td>MAT</td>\n",
       "      <td>parada</td>\n",
       "      <td>80</td>\n",
       "      <td>14</td>\n",
       "      <td>2024-05-08</td>\n",
       "      <td>09:24:36</td>\n",
       "      <td>NaN</td>\n",
       "      <td>NaN</td>\n",
       "      <td>NaN</td>\n",
       "      <td>NaN</td>\n",
       "      <td>NaN</td>\n",
       "      <td>NaN</td>\n",
       "      <td>NaT</td>\n",
       "      <td>NaN</td>\n",
       "    </tr>\n",
       "    <tr>\n",
       "      <th>66714</th>\n",
       "      <td>2</td>\n",
       "      <td>14</td>\n",
       "      <td>TMF009</td>\n",
       "      <td>MAT</td>\n",
       "      <td>parada</td>\n",
       "      <td>80</td>\n",
       "      <td>14</td>\n",
       "      <td>2024-05-08</td>\n",
       "      <td>09:26:36</td>\n",
       "      <td>NaN</td>\n",
       "      <td>NaN</td>\n",
       "      <td>NaN</td>\n",
       "      <td>NaN</td>\n",
       "      <td>NaN</td>\n",
       "      <td>NaN</td>\n",
       "      <td>NaT</td>\n",
       "      <td>NaN</td>\n",
       "    </tr>\n",
       "    <tr>\n",
       "      <th>66728</th>\n",
       "      <td>2</td>\n",
       "      <td>14</td>\n",
       "      <td>TMF009</td>\n",
       "      <td>MAT</td>\n",
       "      <td>rodando</td>\n",
       "      <td>82</td>\n",
       "      <td>14</td>\n",
       "      <td>2024-05-08</td>\n",
       "      <td>09:28:36</td>\n",
       "      <td>NaN</td>\n",
       "      <td>NaN</td>\n",
       "      <td>NaN</td>\n",
       "      <td>NaN</td>\n",
       "      <td>NaN</td>\n",
       "      <td>NaN</td>\n",
       "      <td>NaT</td>\n",
       "      <td>NaN</td>\n",
       "    </tr>\n",
       "  </tbody>\n",
       "</table>\n",
       "<p>66743 rows × 17 columns</p>\n",
       "</div>"
      ],
      "text/plain": [
       "      fabrica  linha maquina_id turno   status  contagem_total_ciclos  \\\n",
       "0           1      1     TMF003   NOT   parada                     18   \n",
       "8           1      1     TMF003   NOT   parada                     18   \n",
       "16          1      1     TMF003   NOT   parada                     18   \n",
       "24          1      1     TMF003   NOT   parada                     18   \n",
       "32          1      1     TMF003   NOT   parada                     18   \n",
       "...       ...    ...        ...   ...      ...                    ...   \n",
       "66672       2     14     TMF009   MAT   parada                     80   \n",
       "66686       2     14     TMF009   MAT   parada                     80   \n",
       "66700       2     14     TMF009   MAT   parada                     80   \n",
       "66714       2     14     TMF009   MAT   parada                     80   \n",
       "66728       2     14     TMF009   MAT  rodando                     82   \n",
       "\n",
       "       contagem_total_produzido data_registro hora_registro motivo  \\\n",
       "0                            12    2024-05-01      00:01:06    NaN   \n",
       "8                            12    2024-05-01      00:03:06    NaN   \n",
       "16                           12    2024-05-01      00:05:06    NaN   \n",
       "24                           12    2024-05-01      00:07:06    NaN   \n",
       "32                           12    2024-05-01      00:09:06    NaN   \n",
       "...                         ...           ...           ...    ...   \n",
       "66672                        14    2024-05-08      09:20:36    NaN   \n",
       "66686                        14    2024-05-08      09:22:36    NaN   \n",
       "66700                        14    2024-05-08      09:24:36    NaN   \n",
       "66714                        14    2024-05-08      09:26:36    NaN   \n",
       "66728                        14    2024-05-08      09:28:36    NaN   \n",
       "\n",
       "      equipamento problema causa os_numero operador_id data_registro_ihm  \\\n",
       "0             NaN      NaN   NaN       NaN         NaN               NaT   \n",
       "8             NaN      NaN   NaN       NaN         NaN               NaT   \n",
       "16            NaN      NaN   NaN       NaN         NaN               NaT   \n",
       "24            NaN      NaN   NaN       NaN         NaN               NaT   \n",
       "32            NaN      NaN   NaN       NaN         NaN               NaT   \n",
       "...           ...      ...   ...       ...         ...               ...   \n",
       "66672         NaN      NaN   NaN       NaN         NaN               NaT   \n",
       "66686         NaN      NaN   NaN       NaN         NaN               NaT   \n",
       "66700         NaN      NaN   NaN       NaN         NaN               NaT   \n",
       "66714         NaN      NaN   NaN       NaN         NaN               NaT   \n",
       "66728         NaN      NaN   NaN       NaN         NaN               NaT   \n",
       "\n",
       "      hora_registro_ihm  \n",
       "0                   NaN  \n",
       "8                   NaN  \n",
       "16                  NaN  \n",
       "24                  NaN  \n",
       "32                  NaN  \n",
       "...                 ...  \n",
       "66672               NaN  \n",
       "66686               NaN  \n",
       "66700               NaN  \n",
       "66714               NaN  \n",
       "66728               NaN  \n",
       "\n",
       "[66743 rows x 17 columns]"
      ]
     },
     "execution_count": 14,
     "metadata": {},
     "output_type": "execute_result"
    }
   ],
   "source": [
    "df_joined"
   ]
  },
  {
   "cell_type": "markdown",
   "metadata": {},
   "source": [
    "# Service\n"
   ]
  },
  {
   "cell_type": "markdown",
   "metadata": {},
   "source": [
    "## Info + IHM Service\n"
   ]
  },
  {
   "cell_type": "code",
   "execution_count": 15,
   "metadata": {
    "notebookRunGroups": {
     "groupValue": "2"
    }
   },
   "outputs": [],
   "source": [
    "class ServiceInfoIHM:\n",
    "    \"\"\"\n",
    "    Essa classe é responsável por realizar a leitura, limpeza e junção dos dados de informações e IHM.\n",
    "    \"\"\"\n",
    "\n",
    "    def __init__(self):\n",
    "        self.get_data = GetData()\n",
    "        self.clean_data = CleanData\n",
    "        self.join_info_ihm = JoinInfoIHM\n",
    "        self.data = self.get_data.get_data()\n",
    "\n",
    "    def __get_info_ihm(self) -> pd.DataFrame:\n",
    "        \"\"\"\n",
    "        Realiza a leitura, limpeza e junção dos dados de informações e IHM.\n",
    "        \"\"\"\n",
    "\n",
    "        # Realiza a leitura dos dados\n",
    "        df_ihm, df_info, _ = self.data\n",
    "\n",
    "        # Verifica se os dados foram lidos corretamente\n",
    "        if df_ihm is None or df_info is None or df_info_production is None:\n",
    "            return None\n",
    "\n",
    "        # Limpa os dados\n",
    "        clean_data = self.clean_data(df_ihm, df_info, df_info_production)\n",
    "        df_ihm_cleaned, df_info_cleaned, _ = clean_data.clean_data()\n",
    "\n",
    "        # Junta os dados\n",
    "        join_info_ihm = self.join_info_ihm(df_ihm_cleaned, df_info_cleaned)\n",
    "        df_joined = join_info_ihm.join_data()\n",
    "\n",
    "        return df_joined\n",
    "\n",
    "    def __identify_changes(self, df, column) -> pd.Series:\n",
    "        return df[column].ne(df[column].shift())\n",
    "\n",
    "    def __status_change(self, df):\n",
    "        # Checa se houve mudança de status, maquina_id e turno\n",
    "        columns_to_check = [\"status\", \"maquina_id\", \"turno\"]\n",
    "        for column in columns_to_check:\n",
    "            df[f\"{column}_change\"] = self.__identify_changes(df, column)\n",
    "\n",
    "        # Coluna auxiliar que identifica se houve alguma mudança\n",
    "        df[\"change\"] = df[[\"status_change\", \"maquina_id_change\", \"turno_change\"]].any(axis=1)\n",
    "\n",
    "        return df\n",
    "\n",
    "    def __fill_occ(self, df):\n",
    "        # Preenche os valores nulos de paradas\n",
    "        df[\"motivo\"] = df.groupby(\"group\")[\"motivo\"].transform(lambda x: x.ffill().bfill())\n",
    "        df[\"equipamento\"] = df.groupby(\"group\")[\"equipamento\"].transform(\n",
    "            lambda x: x.ffill().bfill()\n",
    "        )\n",
    "        df[\"problema\"] = df.groupby(\"group\")[\"problema\"].transform(lambda x: x.ffill().bfill())\n",
    "        df[\"causa\"] = df.groupby(\"group\")[\"causa\"].transform(lambda x: x.ffill().bfill())\n",
    "        df[\"os_numero\"] = df.groupby(\"group\")[\"os_numero\"].transform(lambda x: x.ffill().bfill())\n",
    "        df[\"operador_id\"] = df.groupby(\"group\")[\"operador_id\"].transform(\n",
    "            lambda x: x.ffill().bfill()\n",
    "        )\n",
    "        df[\"data_registro_ihm\"] = df.groupby(\"group\")[\"data_registro_ihm\"].transform(\n",
    "            lambda x: x.ffill().bfill()\n",
    "        )\n",
    "        df[\"hora_registro_ihm\"] = df.groupby(\"group\")[\"hora_registro_ihm\"].transform(\n",
    "            lambda x: x.ffill().bfill()\n",
    "        )\n",
    "\n",
    "        # Se os dado de uma coluna for '' ou ' ', substituir por NaN\n",
    "        df = df.replace(r\"^s*$\", None, regex=True)\n",
    "        # O ^ indica o início de uma string, o $ indica o fim de uma string, e s* zero ou mais espaços em branco\n",
    "\n",
    "        return df\n",
    "\n",
    "    def __group_and_calc_time(self, df):\n",
    "        # Agrupa as mudanças\n",
    "        df = (\n",
    "            df.groupby([\"group\"])\n",
    "            .agg(\n",
    "                fabrica=(\"fabrica\", \"first\"),\n",
    "                linha=(\"linha\", \"first\"),\n",
    "                maquina_id=(\"maquina_id\", \"first\"),\n",
    "                turno=(\"turno\", \"first\"),\n",
    "                status=(\"status\", \"first\"),\n",
    "                data_registro=(\"data_registro\", \"first\"),\n",
    "                hora_registro=(\"hora_registro\", \"first\"),\n",
    "                motivo=(\"motivo\", \"first\"),\n",
    "                equipamento=(\"equipamento\", \"first\"),\n",
    "                problema=(\"problema\", \"first\"),\n",
    "                causa=(\"causa\", \"first\"),\n",
    "                os_numero=(\"os_numero\", \"first\"),\n",
    "                operador_id=(\"operador_id\", \"first\"),\n",
    "                data_registro_ihm=(\"data_registro_ihm\", \"first\"),\n",
    "                hora_registro_ihm=(\"hora_registro_ihm\", \"first\"),\n",
    "                data_hora=(\"data_hora\", \"first\"),\n",
    "                change=(\"change\", \"first\"),\n",
    "                maquina_id_change=(\"maquina_id_change\", \"first\"),\n",
    "                change_date=(\"change_date\", \"first\"),\n",
    "                motivo_change=(\"motivo_change\", \"first\"),\n",
    "            )\n",
    "            .reset_index()\n",
    "        )\n",
    "\n",
    "        # Nova coluna com a data_hora_final do status/parada\n",
    "        df[\"data_hora_final\"] = (\n",
    "            df.groupby(\"maquina_id\")[\"data_hora\"].shift(-1).where(~df[\"maquina_id_change\"])\n",
    "        )\n",
    "\n",
    "        # Atualiza a hora final caso mude a máquina\n",
    "        mask = df[\"maquina_id_change\"]\n",
    "        df[\"data_hora_final\"] = np.where(\n",
    "            mask,\n",
    "            df[\"change_date\"].shift(-1),\n",
    "            df[\"data_hora_final\"],\n",
    "        )\n",
    "\n",
    "        # Caso a data_hora_final seja nula, remove a linha\n",
    "        df = df.dropna(subset=[\"data_hora_final\"]).reset_index(drop=True)\n",
    "\n",
    "        # Calcula o tempo de cada status\n",
    "        df[\"tempo\"] = (\n",
    "            pd.to_datetime(df[\"data_hora_final\"]) - pd.to_datetime(df[\"data_hora\"])\n",
    "        ).dt.total_seconds() / 60\n",
    "\n",
    "        # Arredondar e converter para inteiro\n",
    "        df[\"tempo\"] = df[\"tempo\"].round().astype(int)\n",
    "\n",
    "        return df\n",
    "\n",
    "    def get_info_ihm_adjusted(self) -> pd.DataFrame:\n",
    "        \"\"\"\n",
    "        Realiza a leitura, limpeza e junção dos dados de informações e IHM.\n",
    "        Ajusta os dados para o formato correto.\n",
    "        \"\"\"\n",
    "\n",
    "        # Realiza a leitura, limpeza e junção dos dados\n",
    "        df_joined = self.__get_info_ihm()\n",
    "\n",
    "        if df_joined is None:\n",
    "            return None\n",
    "\n",
    "        # ========================= Identifica Onde Há Mudança De Status ========================= #\n",
    "\n",
    "        df_joined = self.__status_change(df_joined)\n",
    "\n",
    "        # ========================= Preenchendo Valores Nulos De Paradas ========================= #\n",
    "\n",
    "        # Cria um grupo para cada mudança de status\n",
    "        df_joined[\"group\"] = df_joined[\"change\"].cumsum()\n",
    "\n",
    "        # Preenche os valores nulos de paradas\n",
    "        df_joined = self.__fill_occ(df_joined)\n",
    "\n",
    "        # Coluna auxiliar para identificar mudança na coluna motivo, se não for nula\n",
    "        mask = (df_joined[\"motivo\"].ne(df_joined[\"motivo\"].shift())) | (\n",
    "            df_joined[\"causa\"].ne(df_joined[\"causa\"].shift())\n",
    "        )\n",
    "        df_joined[\"motivo_change\"] = mask & df_joined[\"motivo\"].notnull()\n",
    "\n",
    "        # Atualiza o change\n",
    "        df_joined[\"change\"] = df_joined[\"change\"] | df_joined[\"motivo_change\"]\n",
    "\n",
    "        # Refaz o grupo para considerar a mudança na coluna motivo\n",
    "        df_joined[\"group\"] = df_joined[\"change\"].cumsum()\n",
    "\n",
    "        # Coluna auxiliar para unir data e hora\n",
    "        df_joined[\"data_hora\"] = pd.to_datetime(\n",
    "            df_joined[\"data_registro\"].astype(str) + \" \" + df_joined[\"hora_registro\"].astype(str)\n",
    "        )\n",
    "\n",
    "        # Coluna auxiliar para identificar a data/hora da mudança\n",
    "        df_joined[\"change_date\"] = (\n",
    "            df_joined.groupby(\"maquina_id\")[\"data_hora\"].shift(0).where(df_joined[\"change\"])\n",
    "        )\n",
    "\n",
    "        # ============================ Calcula O Tempo Parada Ou Rodando ========================== #\n",
    "\n",
    "        # Calcula os tempos\n",
    "        df_joined = self.__group_and_calc_time(df_joined)\n",
    "\n",
    "        # Ajustar status para levar em conta testes\n",
    "        mask = (\n",
    "            (df_joined[\"status\"] == \"rodando\")\n",
    "            & (df_joined[\"tempo\"] < 10)\n",
    "            & (df_joined[\"turno\"].eq(df_joined[\"turno\"].shift(-1)))\n",
    "        )\n",
    "\n",
    "        df_joined[\"status\"] = np.where(mask, \"parada\", df_joined[\"status\"])\n",
    "\n",
    "        # Ajuste em change para refletir alterações\n",
    "        df_joined = self.__status_change(df_joined)\n",
    "        df_joined[\"change\"] = df_joined[\"change\"] | df_joined[\"motivo_change\"]\n",
    "\n",
    "        # Refaz o group\n",
    "        df_joined[\"group\"] = df_joined[\"change\"].cumsum()\n",
    "\n",
    "        # Preenche os valores nulos de paradas\n",
    "        df_joined = self.__fill_occ(df_joined)\n",
    "\n",
    "        # Recalcula os tempos\n",
    "        df_joined = self.__group_and_calc_time(df_joined)\n",
    "\n",
    "        # Se o tempo for negativo, ajustar para 0\n",
    "        df_joined[\"tempo\"] = df_joined[\"tempo\"].clip(lower=0)\n",
    "\n",
    "        # Se o tempo for maior que 480 minutos, ajustar para 480\n",
    "        df_joined[\"tempo\"] = df_joined[\"tempo\"].clip(upper=480)\n",
    "\n",
    "        # Remove colunas auxiliares\n",
    "        df_joined = df_joined.drop(\n",
    "            columns=[\n",
    "                \"maquina_id_change\",\n",
    "                \"change\",\n",
    "                \"maquina_id_change\",\n",
    "                \"change_date\",\n",
    "                \"motivo_change\",\n",
    "                \"group\",\n",
    "            ]\n",
    "        )\n",
    "\n",
    "        return df_joined\n",
    "\n",
    "    def get_time_working(self, df: pd.DataFrame) -> pd.Series:\n",
    "        \"\"\"\n",
    "        Calcula o tempo de trabalho de cada máquina.\n",
    "        \"\"\"\n",
    "\n",
    "        # Filtra apenas as máquinas que estão rodando\n",
    "        df = df[df[\"status\"] == \"rodando\"]\n",
    "\n",
    "        # Agrupa por máquina e turno\n",
    "        df = (\n",
    "            df.groupby([\"maquina_id\", \"linha\", \"turno\", \"data_registro\", \"status\"], observed=False)[\n",
    "                \"tempo\"\n",
    "            ]\n",
    "            .sum()\n",
    "            .reset_index()\n",
    "        )\n",
    "\n",
    "        # Renomear coluna\n",
    "        df = df.rename(columns={\"status\": \"motivo\"})\n",
    "\n",
    "        # Capitaliza o motivo\n",
    "        df[\"motivo\"] = df[\"motivo\"].str.capitalize()\n",
    "\n",
    "        return df\n",
    "\n",
    "    def get_maq_stopped(self, df: pd.DataFrame) -> pd.Series:\n",
    "\n",
    "        # Filtra apenas as máquinas que estão paradas\n",
    "        df = df[df[\"status\"] == \"parada\"]\n",
    "\n",
    "        # Reinicia o índice\n",
    "        df = df.reset_index(drop=True)\n",
    "\n",
    "        return df\n",
    "\n",
    "\n",
    "service_info_ihm = ServiceInfoIHM()"
   ]
  },
  {
   "cell_type": "markdown",
   "metadata": {},
   "source": [
    "## Saídas do serviço\n"
   ]
  },
  {
   "cell_type": "code",
   "execution_count": 16,
   "metadata": {
    "notebookRunGroups": {
     "groupValue": "2"
    }
   },
   "outputs": [
    {
     "name": "stderr",
     "output_type": "stream",
     "text": [
      "C:\\Users\\bruno.thomaz\\AppData\\Local\\Temp\\ipykernel_21488\\74399151.py:50: FutureWarning: Downcasting object dtype arrays on .fillna, .ffill, .bfill is deprecated and will change in a future version. Call result.infer_objects(copy=False) instead. To opt-in to the future behavior, set `pd.set_option('future.no_silent_downcasting', True)`\n",
      "  df[\"motivo\"] = df.groupby(\"group\")[\"motivo\"].transform(lambda x: x.ffill().bfill())\n",
      "C:\\Users\\bruno.thomaz\\AppData\\Local\\Temp\\ipykernel_21488\\74399151.py:52: FutureWarning: Downcasting object dtype arrays on .fillna, .ffill, .bfill is deprecated and will change in a future version. Call result.infer_objects(copy=False) instead. To opt-in to the future behavior, set `pd.set_option('future.no_silent_downcasting', True)`\n",
      "  lambda x: x.ffill().bfill()\n",
      "C:\\Users\\bruno.thomaz\\AppData\\Local\\Temp\\ipykernel_21488\\74399151.py:54: FutureWarning: Downcasting object dtype arrays on .fillna, .ffill, .bfill is deprecated and will change in a future version. Call result.infer_objects(copy=False) instead. To opt-in to the future behavior, set `pd.set_option('future.no_silent_downcasting', True)`\n",
      "  df[\"problema\"] = df.groupby(\"group\")[\"problema\"].transform(lambda x: x.ffill().bfill())\n",
      "C:\\Users\\bruno.thomaz\\AppData\\Local\\Temp\\ipykernel_21488\\74399151.py:55: FutureWarning: Downcasting object dtype arrays on .fillna, .ffill, .bfill is deprecated and will change in a future version. Call result.infer_objects(copy=False) instead. To opt-in to the future behavior, set `pd.set_option('future.no_silent_downcasting', True)`\n",
      "  df[\"causa\"] = df.groupby(\"group\")[\"causa\"].transform(lambda x: x.ffill().bfill())\n",
      "C:\\Users\\bruno.thomaz\\AppData\\Local\\Temp\\ipykernel_21488\\74399151.py:56: FutureWarning: Downcasting object dtype arrays on .fillna, .ffill, .bfill is deprecated and will change in a future version. Call result.infer_objects(copy=False) instead. To opt-in to the future behavior, set `pd.set_option('future.no_silent_downcasting', True)`\n",
      "  df[\"os_numero\"] = df.groupby(\"group\")[\"os_numero\"].transform(lambda x: x.ffill().bfill())\n",
      "C:\\Users\\bruno.thomaz\\AppData\\Local\\Temp\\ipykernel_21488\\74399151.py:58: FutureWarning: Downcasting object dtype arrays on .fillna, .ffill, .bfill is deprecated and will change in a future version. Call result.infer_objects(copy=False) instead. To opt-in to the future behavior, set `pd.set_option('future.no_silent_downcasting', True)`\n",
      "  lambda x: x.ffill().bfill()\n",
      "C:\\Users\\bruno.thomaz\\AppData\\Local\\Temp\\ipykernel_21488\\74399151.py:64: FutureWarning: Downcasting object dtype arrays on .fillna, .ffill, .bfill is deprecated and will change in a future version. Call result.infer_objects(copy=False) instead. To opt-in to the future behavior, set `pd.set_option('future.no_silent_downcasting', True)`\n",
      "  lambda x: x.ffill().bfill()\n"
     ]
    },
    {
     "data": {
      "text/html": [
       "<div>\n",
       "<style scoped>\n",
       "    .dataframe tbody tr th:only-of-type {\n",
       "        vertical-align: middle;\n",
       "    }\n",
       "\n",
       "    .dataframe tbody tr th {\n",
       "        vertical-align: top;\n",
       "    }\n",
       "\n",
       "    .dataframe thead th {\n",
       "        text-align: right;\n",
       "    }\n",
       "</style>\n",
       "<table border=\"1\" class=\"dataframe\">\n",
       "  <thead>\n",
       "    <tr style=\"text-align: right;\">\n",
       "      <th></th>\n",
       "      <th>fabrica</th>\n",
       "      <th>linha</th>\n",
       "      <th>maquina_id</th>\n",
       "      <th>turno</th>\n",
       "      <th>status</th>\n",
       "      <th>data_registro</th>\n",
       "      <th>hora_registro</th>\n",
       "      <th>motivo</th>\n",
       "      <th>equipamento</th>\n",
       "      <th>problema</th>\n",
       "      <th>causa</th>\n",
       "      <th>os_numero</th>\n",
       "      <th>operador_id</th>\n",
       "      <th>data_registro_ihm</th>\n",
       "      <th>hora_registro_ihm</th>\n",
       "      <th>data_hora</th>\n",
       "      <th>data_hora_final</th>\n",
       "      <th>tempo</th>\n",
       "    </tr>\n",
       "  </thead>\n",
       "  <tbody>\n",
       "    <tr>\n",
       "      <th>0</th>\n",
       "      <td>1</td>\n",
       "      <td>1</td>\n",
       "      <td>TMF003</td>\n",
       "      <td>NOT</td>\n",
       "      <td>parada</td>\n",
       "      <td>2024-05-01</td>\n",
       "      <td>00:01:06</td>\n",
       "      <td>Parada Programada</td>\n",
       "      <td>None</td>\n",
       "      <td>Parada Planejada</td>\n",
       "      <td>Backup</td>\n",
       "      <td>None</td>\n",
       "      <td>002357</td>\n",
       "      <td>2024-05-01</td>\n",
       "      <td>06:47:36</td>\n",
       "      <td>2024-05-01 00:01:06</td>\n",
       "      <td>2024-05-01 08:01:08</td>\n",
       "      <td>480</td>\n",
       "    </tr>\n",
       "    <tr>\n",
       "      <th>1</th>\n",
       "      <td>1</td>\n",
       "      <td>1</td>\n",
       "      <td>TMF003</td>\n",
       "      <td>MAT</td>\n",
       "      <td>parada</td>\n",
       "      <td>2024-05-01</td>\n",
       "      <td>08:01:08</td>\n",
       "      <td>Parada Programada</td>\n",
       "      <td>None</td>\n",
       "      <td>Parada para Treinamento</td>\n",
       "      <td>Kaizen</td>\n",
       "      <td>None</td>\n",
       "      <td>002357</td>\n",
       "      <td>2024-05-01</td>\n",
       "      <td>10:08:08</td>\n",
       "      <td>2024-05-01 08:01:08</td>\n",
       "      <td>2024-05-01 11:29:08</td>\n",
       "      <td>208</td>\n",
       "    </tr>\n",
       "    <tr>\n",
       "      <th>2</th>\n",
       "      <td>1</td>\n",
       "      <td>1</td>\n",
       "      <td>TMF003</td>\n",
       "      <td>MAT</td>\n",
       "      <td>parada</td>\n",
       "      <td>2024-05-01</td>\n",
       "      <td>11:29:08</td>\n",
       "      <td>Parada Programada</td>\n",
       "      <td>None</td>\n",
       "      <td>Parada Planejada</td>\n",
       "      <td>Sem Produção</td>\n",
       "      <td>None</td>\n",
       "      <td>002357</td>\n",
       "      <td>2024-05-01</td>\n",
       "      <td>11:28:20</td>\n",
       "      <td>2024-05-01 11:29:08</td>\n",
       "      <td>2024-05-01 16:01:09</td>\n",
       "      <td>272</td>\n",
       "    </tr>\n",
       "    <tr>\n",
       "      <th>3</th>\n",
       "      <td>1</td>\n",
       "      <td>1</td>\n",
       "      <td>TMF003</td>\n",
       "      <td>VES</td>\n",
       "      <td>parada</td>\n",
       "      <td>2024-05-01</td>\n",
       "      <td>16:01:09</td>\n",
       "      <td>None</td>\n",
       "      <td>None</td>\n",
       "      <td>None</td>\n",
       "      <td>None</td>\n",
       "      <td>None</td>\n",
       "      <td>None</td>\n",
       "      <td>NaT</td>\n",
       "      <td>None</td>\n",
       "      <td>2024-05-01 16:01:09</td>\n",
       "      <td>2024-05-02 00:01:10</td>\n",
       "      <td>480</td>\n",
       "    </tr>\n",
       "    <tr>\n",
       "      <th>4</th>\n",
       "      <td>1</td>\n",
       "      <td>1</td>\n",
       "      <td>TMF003</td>\n",
       "      <td>NOT</td>\n",
       "      <td>parada</td>\n",
       "      <td>2024-05-02</td>\n",
       "      <td>00:01:10</td>\n",
       "      <td>None</td>\n",
       "      <td>None</td>\n",
       "      <td>None</td>\n",
       "      <td>None</td>\n",
       "      <td>None</td>\n",
       "      <td>None</td>\n",
       "      <td>NaT</td>\n",
       "      <td>None</td>\n",
       "      <td>2024-05-02 00:01:10</td>\n",
       "      <td>2024-05-02 00:21:11</td>\n",
       "      <td>20</td>\n",
       "    </tr>\n",
       "    <tr>\n",
       "      <th>...</th>\n",
       "      <td>...</td>\n",
       "      <td>...</td>\n",
       "      <td>...</td>\n",
       "      <td>...</td>\n",
       "      <td>...</td>\n",
       "      <td>...</td>\n",
       "      <td>...</td>\n",
       "      <td>...</td>\n",
       "      <td>...</td>\n",
       "      <td>...</td>\n",
       "      <td>...</td>\n",
       "      <td>...</td>\n",
       "      <td>...</td>\n",
       "      <td>...</td>\n",
       "      <td>...</td>\n",
       "      <td>...</td>\n",
       "      <td>...</td>\n",
       "      <td>...</td>\n",
       "    </tr>\n",
       "    <tr>\n",
       "      <th>1924</th>\n",
       "      <td>2</td>\n",
       "      <td>14</td>\n",
       "      <td>TMF009</td>\n",
       "      <td>VES</td>\n",
       "      <td>parada</td>\n",
       "      <td>2024-05-06</td>\n",
       "      <td>16:01:31</td>\n",
       "      <td>None</td>\n",
       "      <td>None</td>\n",
       "      <td>None</td>\n",
       "      <td>None</td>\n",
       "      <td>None</td>\n",
       "      <td>None</td>\n",
       "      <td>NaT</td>\n",
       "      <td>None</td>\n",
       "      <td>2024-05-06 16:01:31</td>\n",
       "      <td>2024-05-07 00:01:32</td>\n",
       "      <td>480</td>\n",
       "    </tr>\n",
       "    <tr>\n",
       "      <th>1925</th>\n",
       "      <td>2</td>\n",
       "      <td>14</td>\n",
       "      <td>TMF009</td>\n",
       "      <td>NOT</td>\n",
       "      <td>parada</td>\n",
       "      <td>2024-05-07</td>\n",
       "      <td>00:01:32</td>\n",
       "      <td>None</td>\n",
       "      <td>None</td>\n",
       "      <td>None</td>\n",
       "      <td>None</td>\n",
       "      <td>None</td>\n",
       "      <td>None</td>\n",
       "      <td>NaT</td>\n",
       "      <td>None</td>\n",
       "      <td>2024-05-07 00:01:32</td>\n",
       "      <td>2024-05-07 08:01:34</td>\n",
       "      <td>480</td>\n",
       "    </tr>\n",
       "    <tr>\n",
       "      <th>1926</th>\n",
       "      <td>2</td>\n",
       "      <td>14</td>\n",
       "      <td>TMF009</td>\n",
       "      <td>MAT</td>\n",
       "      <td>parada</td>\n",
       "      <td>2024-05-07</td>\n",
       "      <td>08:01:34</td>\n",
       "      <td>None</td>\n",
       "      <td>None</td>\n",
       "      <td>None</td>\n",
       "      <td>None</td>\n",
       "      <td>None</td>\n",
       "      <td>None</td>\n",
       "      <td>NaT</td>\n",
       "      <td>None</td>\n",
       "      <td>2024-05-07 08:01:34</td>\n",
       "      <td>2024-05-07 16:00:33</td>\n",
       "      <td>479</td>\n",
       "    </tr>\n",
       "    <tr>\n",
       "      <th>1927</th>\n",
       "      <td>2</td>\n",
       "      <td>14</td>\n",
       "      <td>TMF009</td>\n",
       "      <td>VES</td>\n",
       "      <td>parada</td>\n",
       "      <td>2024-05-07</td>\n",
       "      <td>16:00:33</td>\n",
       "      <td>None</td>\n",
       "      <td>None</td>\n",
       "      <td>None</td>\n",
       "      <td>None</td>\n",
       "      <td>None</td>\n",
       "      <td>None</td>\n",
       "      <td>NaT</td>\n",
       "      <td>None</td>\n",
       "      <td>2024-05-07 16:00:33</td>\n",
       "      <td>2024-05-08 00:00:34</td>\n",
       "      <td>480</td>\n",
       "    </tr>\n",
       "    <tr>\n",
       "      <th>1928</th>\n",
       "      <td>2</td>\n",
       "      <td>14</td>\n",
       "      <td>TMF009</td>\n",
       "      <td>NOT</td>\n",
       "      <td>parada</td>\n",
       "      <td>2024-05-08</td>\n",
       "      <td>00:00:34</td>\n",
       "      <td>None</td>\n",
       "      <td>None</td>\n",
       "      <td>None</td>\n",
       "      <td>None</td>\n",
       "      <td>None</td>\n",
       "      <td>None</td>\n",
       "      <td>NaT</td>\n",
       "      <td>None</td>\n",
       "      <td>2024-05-08 00:00:34</td>\n",
       "      <td>2024-05-08 08:00:36</td>\n",
       "      <td>480</td>\n",
       "    </tr>\n",
       "  </tbody>\n",
       "</table>\n",
       "<p>1929 rows × 18 columns</p>\n",
       "</div>"
      ],
      "text/plain": [
       "     fabrica  linha maquina_id turno  status data_registro hora_registro  \\\n",
       "0          1      1     TMF003   NOT  parada    2024-05-01      00:01:06   \n",
       "1          1      1     TMF003   MAT  parada    2024-05-01      08:01:08   \n",
       "2          1      1     TMF003   MAT  parada    2024-05-01      11:29:08   \n",
       "3          1      1     TMF003   VES  parada    2024-05-01      16:01:09   \n",
       "4          1      1     TMF003   NOT  parada    2024-05-02      00:01:10   \n",
       "...      ...    ...        ...   ...     ...           ...           ...   \n",
       "1924       2     14     TMF009   VES  parada    2024-05-06      16:01:31   \n",
       "1925       2     14     TMF009   NOT  parada    2024-05-07      00:01:32   \n",
       "1926       2     14     TMF009   MAT  parada    2024-05-07      08:01:34   \n",
       "1927       2     14     TMF009   VES  parada    2024-05-07      16:00:33   \n",
       "1928       2     14     TMF009   NOT  parada    2024-05-08      00:00:34   \n",
       "\n",
       "                 motivo equipamento                 problema         causa  \\\n",
       "0     Parada Programada        None         Parada Planejada        Backup   \n",
       "1     Parada Programada        None  Parada para Treinamento        Kaizen   \n",
       "2     Parada Programada        None         Parada Planejada  Sem Produção   \n",
       "3                  None        None                     None          None   \n",
       "4                  None        None                     None          None   \n",
       "...                 ...         ...                      ...           ...   \n",
       "1924               None        None                     None          None   \n",
       "1925               None        None                     None          None   \n",
       "1926               None        None                     None          None   \n",
       "1927               None        None                     None          None   \n",
       "1928               None        None                     None          None   \n",
       "\n",
       "     os_numero operador_id data_registro_ihm hora_registro_ihm  \\\n",
       "0         None      002357        2024-05-01          06:47:36   \n",
       "1         None      002357        2024-05-01          10:08:08   \n",
       "2         None      002357        2024-05-01          11:28:20   \n",
       "3         None        None               NaT              None   \n",
       "4         None        None               NaT              None   \n",
       "...        ...         ...               ...               ...   \n",
       "1924      None        None               NaT              None   \n",
       "1925      None        None               NaT              None   \n",
       "1926      None        None               NaT              None   \n",
       "1927      None        None               NaT              None   \n",
       "1928      None        None               NaT              None   \n",
       "\n",
       "               data_hora     data_hora_final  tempo  \n",
       "0    2024-05-01 00:01:06 2024-05-01 08:01:08    480  \n",
       "1    2024-05-01 08:01:08 2024-05-01 11:29:08    208  \n",
       "2    2024-05-01 11:29:08 2024-05-01 16:01:09    272  \n",
       "3    2024-05-01 16:01:09 2024-05-02 00:01:10    480  \n",
       "4    2024-05-02 00:01:10 2024-05-02 00:21:11     20  \n",
       "...                  ...                 ...    ...  \n",
       "1924 2024-05-06 16:01:31 2024-05-07 00:01:32    480  \n",
       "1925 2024-05-07 00:01:32 2024-05-07 08:01:34    480  \n",
       "1926 2024-05-07 08:01:34 2024-05-07 16:00:33    479  \n",
       "1927 2024-05-07 16:00:33 2024-05-08 00:00:34    480  \n",
       "1928 2024-05-08 00:00:34 2024-05-08 08:00:36    480  \n",
       "\n",
       "[1929 rows x 18 columns]"
      ]
     },
     "execution_count": 16,
     "metadata": {},
     "output_type": "execute_result"
    }
   ],
   "source": [
    "df_info_ihm = service_info_ihm.get_info_ihm_adjusted()\n",
    "df_info_ihm"
   ]
  },
  {
   "cell_type": "code",
   "execution_count": 17,
   "metadata": {
    "notebookRunGroups": {
     "groupValue": "2"
    }
   },
   "outputs": [
    {
     "data": {
      "text/html": [
       "<div>\n",
       "<style scoped>\n",
       "    .dataframe tbody tr th:only-of-type {\n",
       "        vertical-align: middle;\n",
       "    }\n",
       "\n",
       "    .dataframe tbody tr th {\n",
       "        vertical-align: top;\n",
       "    }\n",
       "\n",
       "    .dataframe thead th {\n",
       "        text-align: right;\n",
       "    }\n",
       "</style>\n",
       "<table border=\"1\" class=\"dataframe\">\n",
       "  <thead>\n",
       "    <tr style=\"text-align: right;\">\n",
       "      <th></th>\n",
       "      <th>maquina_id</th>\n",
       "      <th>linha</th>\n",
       "      <th>turno</th>\n",
       "      <th>data_registro</th>\n",
       "      <th>motivo</th>\n",
       "      <th>tempo</th>\n",
       "    </tr>\n",
       "  </thead>\n",
       "  <tbody>\n",
       "    <tr>\n",
       "      <th>0</th>\n",
       "      <td>TMF001</td>\n",
       "      <td>6</td>\n",
       "      <td>MAT</td>\n",
       "      <td>2024-05-02</td>\n",
       "      <td>Rodando</td>\n",
       "      <td>400</td>\n",
       "    </tr>\n",
       "    <tr>\n",
       "      <th>1</th>\n",
       "      <td>TMF001</td>\n",
       "      <td>6</td>\n",
       "      <td>MAT</td>\n",
       "      <td>2024-05-03</td>\n",
       "      <td>Rodando</td>\n",
       "      <td>346</td>\n",
       "    </tr>\n",
       "    <tr>\n",
       "      <th>2</th>\n",
       "      <td>TMF001</td>\n",
       "      <td>6</td>\n",
       "      <td>MAT</td>\n",
       "      <td>2024-05-04</td>\n",
       "      <td>Rodando</td>\n",
       "      <td>322</td>\n",
       "    </tr>\n",
       "    <tr>\n",
       "      <th>3</th>\n",
       "      <td>TMF001</td>\n",
       "      <td>6</td>\n",
       "      <td>MAT</td>\n",
       "      <td>2024-05-06</td>\n",
       "      <td>Rodando</td>\n",
       "      <td>395</td>\n",
       "    </tr>\n",
       "    <tr>\n",
       "      <th>4</th>\n",
       "      <td>TMF001</td>\n",
       "      <td>6</td>\n",
       "      <td>MAT</td>\n",
       "      <td>2024-05-07</td>\n",
       "      <td>Rodando</td>\n",
       "      <td>272</td>\n",
       "    </tr>\n",
       "    <tr>\n",
       "      <th>...</th>\n",
       "      <td>...</td>\n",
       "      <td>...</td>\n",
       "      <td>...</td>\n",
       "      <td>...</td>\n",
       "      <td>...</td>\n",
       "      <td>...</td>\n",
       "    </tr>\n",
       "    <tr>\n",
       "      <th>164</th>\n",
       "      <td>TMF014</td>\n",
       "      <td>8</td>\n",
       "      <td>NOT</td>\n",
       "      <td>2024-05-07</td>\n",
       "      <td>Rodando</td>\n",
       "      <td>386</td>\n",
       "    </tr>\n",
       "    <tr>\n",
       "      <th>165</th>\n",
       "      <td>TMF014</td>\n",
       "      <td>8</td>\n",
       "      <td>NOT</td>\n",
       "      <td>2024-05-08</td>\n",
       "      <td>Rodando</td>\n",
       "      <td>346</td>\n",
       "    </tr>\n",
       "    <tr>\n",
       "      <th>166</th>\n",
       "      <td>TMF014</td>\n",
       "      <td>8</td>\n",
       "      <td>VES</td>\n",
       "      <td>2024-05-02</td>\n",
       "      <td>Rodando</td>\n",
       "      <td>20</td>\n",
       "    </tr>\n",
       "    <tr>\n",
       "      <th>167</th>\n",
       "      <td>TMF014</td>\n",
       "      <td>8</td>\n",
       "      <td>VES</td>\n",
       "      <td>2024-05-06</td>\n",
       "      <td>Rodando</td>\n",
       "      <td>132</td>\n",
       "    </tr>\n",
       "    <tr>\n",
       "      <th>168</th>\n",
       "      <td>TMF014</td>\n",
       "      <td>8</td>\n",
       "      <td>VES</td>\n",
       "      <td>2024-05-07</td>\n",
       "      <td>Rodando</td>\n",
       "      <td>360</td>\n",
       "    </tr>\n",
       "  </tbody>\n",
       "</table>\n",
       "<p>169 rows × 6 columns</p>\n",
       "</div>"
      ],
      "text/plain": [
       "    maquina_id  linha turno data_registro   motivo  tempo\n",
       "0       TMF001      6   MAT    2024-05-02  Rodando    400\n",
       "1       TMF001      6   MAT    2024-05-03  Rodando    346\n",
       "2       TMF001      6   MAT    2024-05-04  Rodando    322\n",
       "3       TMF001      6   MAT    2024-05-06  Rodando    395\n",
       "4       TMF001      6   MAT    2024-05-07  Rodando    272\n",
       "..         ...    ...   ...           ...      ...    ...\n",
       "164     TMF014      8   NOT    2024-05-07  Rodando    386\n",
       "165     TMF014      8   NOT    2024-05-08  Rodando    346\n",
       "166     TMF014      8   VES    2024-05-02  Rodando     20\n",
       "167     TMF014      8   VES    2024-05-06  Rodando    132\n",
       "168     TMF014      8   VES    2024-05-07  Rodando    360\n",
       "\n",
       "[169 rows x 6 columns]"
      ]
     },
     "execution_count": 17,
     "metadata": {},
     "output_type": "execute_result"
    }
   ],
   "source": [
    "df_time_working = service_info_ihm.get_time_working(df_info_ihm.copy())\n",
    "df_time_working"
   ]
  },
  {
   "cell_type": "code",
   "execution_count": 18,
   "metadata": {
    "notebookRunGroups": {
     "groupValue": "2"
    }
   },
   "outputs": [
    {
     "data": {
      "text/html": [
       "<div>\n",
       "<style scoped>\n",
       "    .dataframe tbody tr th:only-of-type {\n",
       "        vertical-align: middle;\n",
       "    }\n",
       "\n",
       "    .dataframe tbody tr th {\n",
       "        vertical-align: top;\n",
       "    }\n",
       "\n",
       "    .dataframe thead th {\n",
       "        text-align: right;\n",
       "    }\n",
       "</style>\n",
       "<table border=\"1\" class=\"dataframe\">\n",
       "  <thead>\n",
       "    <tr style=\"text-align: right;\">\n",
       "      <th></th>\n",
       "      <th>fabrica</th>\n",
       "      <th>linha</th>\n",
       "      <th>maquina_id</th>\n",
       "      <th>turno</th>\n",
       "      <th>status</th>\n",
       "      <th>data_registro</th>\n",
       "      <th>hora_registro</th>\n",
       "      <th>motivo</th>\n",
       "      <th>equipamento</th>\n",
       "      <th>problema</th>\n",
       "      <th>causa</th>\n",
       "      <th>os_numero</th>\n",
       "      <th>operador_id</th>\n",
       "      <th>data_registro_ihm</th>\n",
       "      <th>hora_registro_ihm</th>\n",
       "      <th>data_hora</th>\n",
       "      <th>data_hora_final</th>\n",
       "      <th>tempo</th>\n",
       "    </tr>\n",
       "  </thead>\n",
       "  <tbody>\n",
       "    <tr>\n",
       "      <th>0</th>\n",
       "      <td>1</td>\n",
       "      <td>1</td>\n",
       "      <td>TMF003</td>\n",
       "      <td>NOT</td>\n",
       "      <td>parada</td>\n",
       "      <td>2024-05-01</td>\n",
       "      <td>00:01:06</td>\n",
       "      <td>Parada Programada</td>\n",
       "      <td>None</td>\n",
       "      <td>Parada Planejada</td>\n",
       "      <td>Backup</td>\n",
       "      <td>None</td>\n",
       "      <td>002357</td>\n",
       "      <td>2024-05-01</td>\n",
       "      <td>06:47:36</td>\n",
       "      <td>2024-05-01 00:01:06</td>\n",
       "      <td>2024-05-01 08:01:08</td>\n",
       "      <td>480</td>\n",
       "    </tr>\n",
       "    <tr>\n",
       "      <th>1</th>\n",
       "      <td>1</td>\n",
       "      <td>1</td>\n",
       "      <td>TMF003</td>\n",
       "      <td>MAT</td>\n",
       "      <td>parada</td>\n",
       "      <td>2024-05-01</td>\n",
       "      <td>08:01:08</td>\n",
       "      <td>Parada Programada</td>\n",
       "      <td>None</td>\n",
       "      <td>Parada para Treinamento</td>\n",
       "      <td>Kaizen</td>\n",
       "      <td>None</td>\n",
       "      <td>002357</td>\n",
       "      <td>2024-05-01</td>\n",
       "      <td>10:08:08</td>\n",
       "      <td>2024-05-01 08:01:08</td>\n",
       "      <td>2024-05-01 11:29:08</td>\n",
       "      <td>208</td>\n",
       "    </tr>\n",
       "    <tr>\n",
       "      <th>2</th>\n",
       "      <td>1</td>\n",
       "      <td>1</td>\n",
       "      <td>TMF003</td>\n",
       "      <td>MAT</td>\n",
       "      <td>parada</td>\n",
       "      <td>2024-05-01</td>\n",
       "      <td>11:29:08</td>\n",
       "      <td>Parada Programada</td>\n",
       "      <td>None</td>\n",
       "      <td>Parada Planejada</td>\n",
       "      <td>Sem Produção</td>\n",
       "      <td>None</td>\n",
       "      <td>002357</td>\n",
       "      <td>2024-05-01</td>\n",
       "      <td>11:28:20</td>\n",
       "      <td>2024-05-01 11:29:08</td>\n",
       "      <td>2024-05-01 16:01:09</td>\n",
       "      <td>272</td>\n",
       "    </tr>\n",
       "    <tr>\n",
       "      <th>3</th>\n",
       "      <td>1</td>\n",
       "      <td>1</td>\n",
       "      <td>TMF003</td>\n",
       "      <td>VES</td>\n",
       "      <td>parada</td>\n",
       "      <td>2024-05-01</td>\n",
       "      <td>16:01:09</td>\n",
       "      <td>None</td>\n",
       "      <td>None</td>\n",
       "      <td>None</td>\n",
       "      <td>None</td>\n",
       "      <td>None</td>\n",
       "      <td>None</td>\n",
       "      <td>NaT</td>\n",
       "      <td>None</td>\n",
       "      <td>2024-05-01 16:01:09</td>\n",
       "      <td>2024-05-02 00:01:10</td>\n",
       "      <td>480</td>\n",
       "    </tr>\n",
       "    <tr>\n",
       "      <th>4</th>\n",
       "      <td>1</td>\n",
       "      <td>1</td>\n",
       "      <td>TMF003</td>\n",
       "      <td>NOT</td>\n",
       "      <td>parada</td>\n",
       "      <td>2024-05-02</td>\n",
       "      <td>00:01:10</td>\n",
       "      <td>None</td>\n",
       "      <td>None</td>\n",
       "      <td>None</td>\n",
       "      <td>None</td>\n",
       "      <td>None</td>\n",
       "      <td>None</td>\n",
       "      <td>NaT</td>\n",
       "      <td>None</td>\n",
       "      <td>2024-05-02 00:01:10</td>\n",
       "      <td>2024-05-02 00:21:11</td>\n",
       "      <td>20</td>\n",
       "    </tr>\n",
       "    <tr>\n",
       "      <th>...</th>\n",
       "      <td>...</td>\n",
       "      <td>...</td>\n",
       "      <td>...</td>\n",
       "      <td>...</td>\n",
       "      <td>...</td>\n",
       "      <td>...</td>\n",
       "      <td>...</td>\n",
       "      <td>...</td>\n",
       "      <td>...</td>\n",
       "      <td>...</td>\n",
       "      <td>...</td>\n",
       "      <td>...</td>\n",
       "      <td>...</td>\n",
       "      <td>...</td>\n",
       "      <td>...</td>\n",
       "      <td>...</td>\n",
       "      <td>...</td>\n",
       "      <td>...</td>\n",
       "    </tr>\n",
       "    <tr>\n",
       "      <th>1021</th>\n",
       "      <td>2</td>\n",
       "      <td>14</td>\n",
       "      <td>TMF009</td>\n",
       "      <td>VES</td>\n",
       "      <td>parada</td>\n",
       "      <td>2024-05-06</td>\n",
       "      <td>16:01:31</td>\n",
       "      <td>None</td>\n",
       "      <td>None</td>\n",
       "      <td>None</td>\n",
       "      <td>None</td>\n",
       "      <td>None</td>\n",
       "      <td>None</td>\n",
       "      <td>NaT</td>\n",
       "      <td>None</td>\n",
       "      <td>2024-05-06 16:01:31</td>\n",
       "      <td>2024-05-07 00:01:32</td>\n",
       "      <td>480</td>\n",
       "    </tr>\n",
       "    <tr>\n",
       "      <th>1022</th>\n",
       "      <td>2</td>\n",
       "      <td>14</td>\n",
       "      <td>TMF009</td>\n",
       "      <td>NOT</td>\n",
       "      <td>parada</td>\n",
       "      <td>2024-05-07</td>\n",
       "      <td>00:01:32</td>\n",
       "      <td>None</td>\n",
       "      <td>None</td>\n",
       "      <td>None</td>\n",
       "      <td>None</td>\n",
       "      <td>None</td>\n",
       "      <td>None</td>\n",
       "      <td>NaT</td>\n",
       "      <td>None</td>\n",
       "      <td>2024-05-07 00:01:32</td>\n",
       "      <td>2024-05-07 08:01:34</td>\n",
       "      <td>480</td>\n",
       "    </tr>\n",
       "    <tr>\n",
       "      <th>1023</th>\n",
       "      <td>2</td>\n",
       "      <td>14</td>\n",
       "      <td>TMF009</td>\n",
       "      <td>MAT</td>\n",
       "      <td>parada</td>\n",
       "      <td>2024-05-07</td>\n",
       "      <td>08:01:34</td>\n",
       "      <td>None</td>\n",
       "      <td>None</td>\n",
       "      <td>None</td>\n",
       "      <td>None</td>\n",
       "      <td>None</td>\n",
       "      <td>None</td>\n",
       "      <td>NaT</td>\n",
       "      <td>None</td>\n",
       "      <td>2024-05-07 08:01:34</td>\n",
       "      <td>2024-05-07 16:00:33</td>\n",
       "      <td>479</td>\n",
       "    </tr>\n",
       "    <tr>\n",
       "      <th>1024</th>\n",
       "      <td>2</td>\n",
       "      <td>14</td>\n",
       "      <td>TMF009</td>\n",
       "      <td>VES</td>\n",
       "      <td>parada</td>\n",
       "      <td>2024-05-07</td>\n",
       "      <td>16:00:33</td>\n",
       "      <td>None</td>\n",
       "      <td>None</td>\n",
       "      <td>None</td>\n",
       "      <td>None</td>\n",
       "      <td>None</td>\n",
       "      <td>None</td>\n",
       "      <td>NaT</td>\n",
       "      <td>None</td>\n",
       "      <td>2024-05-07 16:00:33</td>\n",
       "      <td>2024-05-08 00:00:34</td>\n",
       "      <td>480</td>\n",
       "    </tr>\n",
       "    <tr>\n",
       "      <th>1025</th>\n",
       "      <td>2</td>\n",
       "      <td>14</td>\n",
       "      <td>TMF009</td>\n",
       "      <td>NOT</td>\n",
       "      <td>parada</td>\n",
       "      <td>2024-05-08</td>\n",
       "      <td>00:00:34</td>\n",
       "      <td>None</td>\n",
       "      <td>None</td>\n",
       "      <td>None</td>\n",
       "      <td>None</td>\n",
       "      <td>None</td>\n",
       "      <td>None</td>\n",
       "      <td>NaT</td>\n",
       "      <td>None</td>\n",
       "      <td>2024-05-08 00:00:34</td>\n",
       "      <td>2024-05-08 08:00:36</td>\n",
       "      <td>480</td>\n",
       "    </tr>\n",
       "  </tbody>\n",
       "</table>\n",
       "<p>1026 rows × 18 columns</p>\n",
       "</div>"
      ],
      "text/plain": [
       "     fabrica  linha maquina_id turno  status data_registro hora_registro  \\\n",
       "0          1      1     TMF003   NOT  parada    2024-05-01      00:01:06   \n",
       "1          1      1     TMF003   MAT  parada    2024-05-01      08:01:08   \n",
       "2          1      1     TMF003   MAT  parada    2024-05-01      11:29:08   \n",
       "3          1      1     TMF003   VES  parada    2024-05-01      16:01:09   \n",
       "4          1      1     TMF003   NOT  parada    2024-05-02      00:01:10   \n",
       "...      ...    ...        ...   ...     ...           ...           ...   \n",
       "1021       2     14     TMF009   VES  parada    2024-05-06      16:01:31   \n",
       "1022       2     14     TMF009   NOT  parada    2024-05-07      00:01:32   \n",
       "1023       2     14     TMF009   MAT  parada    2024-05-07      08:01:34   \n",
       "1024       2     14     TMF009   VES  parada    2024-05-07      16:00:33   \n",
       "1025       2     14     TMF009   NOT  parada    2024-05-08      00:00:34   \n",
       "\n",
       "                 motivo equipamento                 problema         causa  \\\n",
       "0     Parada Programada        None         Parada Planejada        Backup   \n",
       "1     Parada Programada        None  Parada para Treinamento        Kaizen   \n",
       "2     Parada Programada        None         Parada Planejada  Sem Produção   \n",
       "3                  None        None                     None          None   \n",
       "4                  None        None                     None          None   \n",
       "...                 ...         ...                      ...           ...   \n",
       "1021               None        None                     None          None   \n",
       "1022               None        None                     None          None   \n",
       "1023               None        None                     None          None   \n",
       "1024               None        None                     None          None   \n",
       "1025               None        None                     None          None   \n",
       "\n",
       "     os_numero operador_id data_registro_ihm hora_registro_ihm  \\\n",
       "0         None      002357        2024-05-01          06:47:36   \n",
       "1         None      002357        2024-05-01          10:08:08   \n",
       "2         None      002357        2024-05-01          11:28:20   \n",
       "3         None        None               NaT              None   \n",
       "4         None        None               NaT              None   \n",
       "...        ...         ...               ...               ...   \n",
       "1021      None        None               NaT              None   \n",
       "1022      None        None               NaT              None   \n",
       "1023      None        None               NaT              None   \n",
       "1024      None        None               NaT              None   \n",
       "1025      None        None               NaT              None   \n",
       "\n",
       "               data_hora     data_hora_final  tempo  \n",
       "0    2024-05-01 00:01:06 2024-05-01 08:01:08    480  \n",
       "1    2024-05-01 08:01:08 2024-05-01 11:29:08    208  \n",
       "2    2024-05-01 11:29:08 2024-05-01 16:01:09    272  \n",
       "3    2024-05-01 16:01:09 2024-05-02 00:01:10    480  \n",
       "4    2024-05-02 00:01:10 2024-05-02 00:21:11     20  \n",
       "...                  ...                 ...    ...  \n",
       "1021 2024-05-06 16:01:31 2024-05-07 00:01:32    480  \n",
       "1022 2024-05-07 00:01:32 2024-05-07 08:01:34    480  \n",
       "1023 2024-05-07 08:01:34 2024-05-07 16:00:33    479  \n",
       "1024 2024-05-07 16:00:33 2024-05-08 00:00:34    480  \n",
       "1025 2024-05-08 00:00:34 2024-05-08 08:00:36    480  \n",
       "\n",
       "[1026 rows x 18 columns]"
      ]
     },
     "execution_count": 18,
     "metadata": {},
     "output_type": "execute_result"
    }
   ],
   "source": [
    "df_maq_stopped = service_info_ihm.get_maq_stopped(df_info_ihm.copy())\n",
    "df_maq_stopped"
   ]
  },
  {
   "cell_type": "markdown",
   "metadata": {},
   "source": [
    "# Dados de Saída\n"
   ]
  },
  {
   "cell_type": "code",
   "execution_count": 19,
   "metadata": {
    "notebookRunGroups": {
     "groupValue": "2"
    }
   },
   "outputs": [
    {
     "name": "stdout",
     "output_type": "stream",
     "text": [
      "Maquina Parada --> Linhas x Colunas: (1026, 18)\n",
      "---------------------------------------\n",
      "Maquina Parada --> Memória Ocupada: 0.13 MB\n",
      "---------------------------------------\n",
      "Maquina Parada --> Tipos:\n",
      "fabrica                      object\n",
      "linha                         int32\n",
      "maquina_id                   object\n",
      "turno                        object\n",
      "status                       object\n",
      "data_registro        datetime64[ns]\n",
      "hora_registro                object\n",
      "motivo                       object\n",
      "equipamento                  object\n",
      "problema                     object\n",
      "causa                        object\n",
      "os_numero                    object\n",
      "operador_id                  object\n",
      "data_registro_ihm    datetime64[ns]\n",
      "hora_registro_ihm            object\n",
      "data_hora            datetime64[ns]\n",
      "data_hora_final      datetime64[ns]\n",
      "tempo                         int32\n",
      "dtype: object\n"
     ]
    }
   ],
   "source": [
    "print(f\"Maquina Parada --> Linhas x Colunas: {df_maq_stopped.shape}\")\n",
    "print(\"---------------------------------------\")\n",
    "print(\n",
    "    f\"Maquina Parada --> Memória Ocupada: {df_maq_stopped.memory_usage().sum() / 1024 ** 2:.2f} MB\"\n",
    ")\n",
    "print(\"---------------------------------------\")\n",
    "print(f\"Maquina Parada --> Tipos:\\n{df_maq_stopped.dtypes}\")"
   ]
  },
  {
   "cell_type": "code",
   "execution_count": 20,
   "metadata": {
    "notebookRunGroups": {
     "groupValue": "2"
    }
   },
   "outputs": [
    {
     "name": "stdout",
     "output_type": "stream",
     "text": [
      "Tempo de Trabalho --> Linhas x Colunas: (169, 6)\n",
      "---------------------------------------\n",
      "Tempo de Trabalho --> Memória Ocupada: 0.01 MB\n",
      "---------------------------------------\n",
      "Tempo de Trabalho --> Tipos:\n",
      "maquina_id               object\n",
      "linha                     int32\n",
      "turno                    object\n",
      "data_registro    datetime64[ns]\n",
      "motivo                   object\n",
      "tempo                     int32\n",
      "dtype: object\n"
     ]
    }
   ],
   "source": [
    "print(f\"Tempo de Trabalho --> Linhas x Colunas: {df_time_working.shape}\")\n",
    "print(\"---------------------------------------\")\n",
    "print(\n",
    "    f\"Tempo de Trabalho --> Memória Ocupada: {df_time_working.memory_usage().sum() / 1024 ** 2:.2f} MB\"\n",
    ")\n",
    "print(\"---------------------------------------\")\n",
    "print(f\"Tempo de Trabalho --> Tipos:\\n{df_time_working.dtypes}\")"
   ]
  },
  {
   "cell_type": "code",
   "execution_count": 21,
   "metadata": {
    "notebookRunGroups": {
     "groupValue": "2"
    }
   },
   "outputs": [
    {
     "name": "stdout",
     "output_type": "stream",
     "text": [
      "Informações --> Linhas x Colunas: (1929, 18)\n",
      "---------------------------------------\n",
      "Informações --> Memória Ocupada: 0.25 MB\n",
      "---------------------------------------\n",
      "Informações --> Tipos:\n",
      "fabrica                      object\n",
      "linha                         int32\n",
      "maquina_id                   object\n",
      "turno                        object\n",
      "status                       object\n",
      "data_registro        datetime64[ns]\n",
      "hora_registro                object\n",
      "motivo                       object\n",
      "equipamento                  object\n",
      "problema                     object\n",
      "causa                        object\n",
      "os_numero                    object\n",
      "operador_id                  object\n",
      "data_registro_ihm    datetime64[ns]\n",
      "hora_registro_ihm            object\n",
      "data_hora            datetime64[ns]\n",
      "data_hora_final      datetime64[ns]\n",
      "tempo                         int32\n",
      "dtype: object\n"
     ]
    }
   ],
   "source": [
    "print(f\"Informações --> Linhas x Colunas: {df_info_ihm.shape}\")\n",
    "print(\"---------------------------------------\")\n",
    "print(f\"Informações --> Memória Ocupada: {df_info_ihm.memory_usage().sum() / 1024 ** 2:.2f} MB\")\n",
    "print(\"---------------------------------------\")\n",
    "print(f\"Informações --> Tipos:\\n{df_info_ihm.dtypes}\")"
   ]
  },
  {
   "cell_type": "code",
   "execution_count": 22,
   "metadata": {
    "notebookRunGroups": {
     "groupValue": "2"
    }
   },
   "outputs": [
    {
     "name": "stdout",
     "output_type": "stream",
     "text": [
      "Produção --> Linhas x Colunas: (291, 8)\n",
      "---------------------------------------\n",
      "Produção --> Memória Ocupada: 0.02 MB\n",
      "---------------------------------------\n",
      "Produção --> Tipos:\n",
      "fabrica                    object\n",
      "linha                       int32\n",
      "maquina_id                 object\n",
      "turno                      object\n",
      "total_ciclos              float64\n",
      "total_produzido           float64\n",
      "data_registro      datetime64[ns]\n",
      "hora_registro              object\n",
      "dtype: object\n"
     ]
    }
   ],
   "source": [
    "print(f\"Produção --> Linhas x Colunas: {df_info_production_cleaned.shape}\")\n",
    "print(\"---------------------------------------\")\n",
    "print(\n",
    "    f\"Produção --> Memória Ocupada: {df_info_production_cleaned.memory_usage().sum() / 1024 ** 2:.2f} MB\"\n",
    ")\n",
    "print(\"---------------------------------------\")\n",
    "print(f\"Produção --> Tipos:\\n{df_info_production_cleaned.dtypes}\")"
   ]
  },
  {
   "cell_type": "markdown",
   "metadata": {},
   "source": [
    "# Análise de Dados\n"
   ]
  },
  {
   "cell_type": "markdown",
   "metadata": {},
   "source": [
    "## Eficiência, Performance e Reparos de Máquina/Linha\n"
   ]
  },
  {
   "cell_type": "code",
   "execution_count": 23,
   "metadata": {
    "notebookRunGroups": {
     "groupValue": "2"
    }
   },
   "outputs": [],
   "source": [
    "# cspell: words producao\n",
    "\n",
    "\n",
    "class DataAnalysis:\n",
    "    def __init__(self, df_stops: pd.DataFrame, df_prod: pd.DataFrame):\n",
    "        self.df_stops = df_stops\n",
    "        self.df_prod = df_prod\n",
    "\n",
    "        # Dicionário com descontos de Eficiência\n",
    "        self.desc_eff = {\n",
    "            \"Troca de Sabor\": 15,\n",
    "            \"Troca de Produto\": 35,\n",
    "            \"Refeição\": 60,\n",
    "            \"Café e Ginástica Laboral\": 10,\n",
    "            \"Treinamento\": 60,\n",
    "        }\n",
    "\n",
    "        # Dicionário com descontos de Performance\n",
    "        self.desc_perf = {\n",
    "            \"Troca de Sabor\": 15,\n",
    "            \"Refeição\": 60,\n",
    "            \"Café e Ginástica Laboral\": 10,\n",
    "            \"Treinamento\": 60,\n",
    "        }\n",
    "\n",
    "        # Dicionário com descontos de Reparo\n",
    "        self.desc_rep = {\"Troca de Produto\": 35}\n",
    "\n",
    "        # Dicionário com o que não afeta a eficiência\n",
    "        self.not_eff = [\"Sem Produção\", \"Backup\"]\n",
    "\n",
    "        # Dicionário com o que não afeta a performance\n",
    "        self.not_perf = [\n",
    "            \"Sem Produção\",\n",
    "            \"Backup\",\n",
    "            \"Limpeza para parada de Fábrica\",\n",
    "            \"Risco de Contaminação\",\n",
    "            \"Parâmetros de Qualidade\",\n",
    "            \"Manutenção\",\n",
    "        ]\n",
    "\n",
    "        # Dicionário com o que afeta o reparo\n",
    "        self.afeta_rep = [\"Manutenção\", \"Troca de Produtos\"]\n",
    "\n",
    "    def get_discount(\n",
    "        self,\n",
    "        df: pd.DataFrame,\n",
    "        desc_dict: dict[str, int],\n",
    "        not_dict: list[str],\n",
    "        indicator: IndicatorType,\n",
    "    ) -> pd.DataFrame:\n",
    "        \"\"\"\n",
    "        Calcula o desconto de eficiência, performance ou reparo.\n",
    "        \"\"\"\n",
    "\n",
    "        # Cria uma coluna com o desconto padrão\n",
    "        df[\"desconto\"] = 0\n",
    "\n",
    "        # Caso o motivo, problema ou causa não afete o indicador, o desconto é igual a tempo\n",
    "        mask = (\n",
    "            df[[\"motivo\", \"problema\", \"causa\"]]\n",
    "            .apply(lambda x: x.str.contains(\"|\".join(not_dict), case=False, na=False))\n",
    "            .any(axis=1)\n",
    "        )\n",
    "        df.loc[mask, \"desconto\"] = df[\"tempo\"] if not IndicatorType.REPAIR else 0\n",
    "\n",
    "        # Cria um dict para indicadores\n",
    "        indicator_dict = {\n",
    "            IndicatorType.EFFICIENCY: df,\n",
    "            IndicatorType.PERFORMANCE: df[~mask],\n",
    "            IndicatorType.REPAIR: df[mask],\n",
    "        }\n",
    "\n",
    "        df = indicator_dict[indicator].reset_index(drop=True)\n",
    "\n",
    "        # Aplica o desconto de acordo com as colunas \"motivo\" ou \"problema\" ou \"causa\"\n",
    "        for key, value in desc_dict.items():\n",
    "            mask = (\n",
    "                df[[\"motivo\", \"problema\", \"causa\"]]\n",
    "                .apply(lambda x: x.str.contains(key, case=False, na=False))\n",
    "                .any(axis=1)\n",
    "            )\n",
    "            df.loc[mask, \"desconto\"] = value\n",
    "\n",
    "        # Caso o desconto seja maior que o tempo, o desconto deve ser igual ao tempo\n",
    "        df.loc[:, \"desconto\"] = df[[\"desconto\", \"tempo\"]].min(axis=1)\n",
    "\n",
    "        # Calcula o excedente\n",
    "        df.loc[:, \"excedente\"] = (df[\"tempo\"] - df[\"desconto\"]).clip(lower=0)\n",
    "\n",
    "        return df\n",
    "\n",
    "    def __get_elapsed_time(self, turno: str) -> int:\n",
    "        \"\"\"\n",
    "        Calcula o tempo decorrido do turno.\n",
    "        \"\"\"\n",
    "\n",
    "        # Agora\n",
    "        now = datetime.now()\n",
    "\n",
    "        if turno == \"MAT\" and 8 <= now.hour < 16:\n",
    "            elapsed_time = now - datetime(now.year, now.month, now.day, 8, 0, 0)\n",
    "        elif turno == \"VES\" and 16 <= now.hour < 24:\n",
    "            elapsed_time = now - datetime(now.year, now.month, now.day, 16, 0, 0)\n",
    "        elif turno == \"NOT\" and 0 <= now.hour < 8:\n",
    "            elapsed_time = now - datetime(now.year, now.month, now.day, 0, 0, 0)\n",
    "        else:\n",
    "            return 480\n",
    "\n",
    "        return elapsed_time.total_seconds() / 60\n",
    "\n",
    "    def __get_expected_production_time(self, df: pd.DataFrame) -> pd.DataFrame:\n",
    "        \"\"\"\n",
    "        Calcula o tempo esperado de produção.\n",
    "        \"\"\"\n",
    "\n",
    "        df[\"tempo_esperado\"] = df.apply(\n",
    "            lambda row: (\n",
    "                np.floor(self.__get_elapsed_time(row[\"turno\"]) - row[\"desconto\"])\n",
    "                if row[\"data_registro\"].date() == pd.to_datetime(\"today\").date()\n",
    "                else 480 - row[\"desconto\"]\n",
    "            ),\n",
    "            axis=1,\n",
    "        )\n",
    "\n",
    "        return df\n",
    "\n",
    "    def get_eff_data(self) -> pd.DataFrame:\n",
    "        \"\"\"\n",
    "        Calcula o desconto de eficiência.\n",
    "        \"\"\"\n",
    "\n",
    "        df = self.df_stops\n",
    "        df_prod = self.df_prod\n",
    "\n",
    "        # Calcula o desconto de eficiência\n",
    "        df = self.get_discount(df, self.desc_eff, self.not_eff, IndicatorType.EFFICIENCY)\n",
    "        ciclo_ideal = 10.6\n",
    "\n",
    "        # Agrupa para ter o valor total de desconto\n",
    "        df = (\n",
    "            df.groupby([\"maquina_id\", \"linha\", \"data_registro\", \"turno\"], observed=False)\n",
    "            .agg(\n",
    "                tempo=(\"tempo\", \"sum\"),\n",
    "                desconto=(\"desconto\", \"sum\"),\n",
    "                excedente=(\"excedente\", \"sum\"),\n",
    "            )\n",
    "            .reset_index()\n",
    "        )\n",
    "\n",
    "        # Une os dois dataframes\n",
    "        df = pd.merge(df_prod, df, on=[\"maquina_id\", \"linha\", \"data_registro\", \"turno\"], how=\"left\")\n",
    "\n",
    "        # Lida com valores nulos\n",
    "        df = df.fillna(0)\n",
    "\n",
    "        # Nova coluna para tempo esperado de produção\n",
    "        df = self.__get_expected_production_time(df)\n",
    "\n",
    "        # Nova coluna para produção esperada\n",
    "        df[\"producao_esperada\"] = (df[\"tempo_esperado\"] * ciclo_ideal) * 2\n",
    "\n",
    "        # Nova coluna para eficiência\n",
    "        df[\"eficiencia\"] = (df[\"total_produzido\"] / df[\"producao_esperada\"]).round(2)\n",
    "\n",
    "        # Corrige valores nulos ou inf de eficiência\n",
    "        df[\"eficiencia\"] = df[\"eficiencia\"].replace([np.inf, -np.inf], np.nan).fillna(0)\n",
    "\n",
    "        # Se a produção esperada for 0 e a eficiência for 0, tornar a eficiência np.nan\n",
    "        mask = (df[\"producao_esperada\"] == 0) & (df[\"eficiencia\"] == 0)\n",
    "        df.loc[mask, \"eficiencia\"] = np.nan\n",
    "\n",
    "        # Ordenar as colunas\n",
    "        df = df[\n",
    "            [\n",
    "                \"fabrica\",\n",
    "                \"linha\",\n",
    "                \"maquina_id\",\n",
    "                \"turno\",\n",
    "                \"data_registro\",\n",
    "                \"hora_registro\",\n",
    "                \"tempo\",\n",
    "                \"total_produzido\",\n",
    "                \"producao_esperada\",\n",
    "                \"tempo_esperado\",\n",
    "                \"desconto\",\n",
    "                \"excedente\",\n",
    "                \"eficiencia\",\n",
    "            ]\n",
    "        ]\n",
    "\n",
    "        return df\n",
    "\n",
    "    def get_perf_data(self) -> pd.DataFrame:\n",
    "        \"\"\"\n",
    "        Calcula o desconto de performance.\n",
    "        \"\"\"\n",
    "\n",
    "        df = self.df_stops\n",
    "        df_prod = self.df_prod\n",
    "\n",
    "        # Dataframe com datas e turnos onde a causa está em not_eff e o tempo é igual a 480\n",
    "        mask = (df[\"causa\"].isin(self.not_perf)) & (df[\"tempo\"] == 480)\n",
    "        paradas_programadas = df[mask][[\"data_registro\", \"turno\"]]  # Para performance ser np.nan\n",
    "\n",
    "        # Calcula o desconto de performance e filtra para remover linhas que não afetam a performance\n",
    "        df = self.get_discount(df, self.desc_perf, self.not_perf, IndicatorType.PERFORMANCE)\n",
    "\n",
    "        # Agrupa para ter o valor total de desconto\n",
    "        df = (\n",
    "            df.groupby([\"maquina_id\", \"linha\", \"data_registro\", \"turno\"], observed=False)\n",
    "            .agg(\n",
    "                tempo=(\"tempo\", \"sum\"),\n",
    "                desconto=(\"desconto\", \"sum\"),\n",
    "                afeta=(\"excedente\", \"sum\"),\n",
    "            )\n",
    "            .reset_index()\n",
    "        )\n",
    "\n",
    "        # Une os dois dataframes\n",
    "        df = pd.merge(df_prod, df, on=[\"maquina_id\", \"linha\", \"data_registro\", \"turno\"], how=\"left\")\n",
    "\n",
    "        # Lida com valores nulos\n",
    "        df = df.fillna(0)\n",
    "\n",
    "        # Coluna com tempo esperado de produção\n",
    "        df = self.__get_expected_production_time(df)\n",
    "\n",
    "        # Coluna de Performance\n",
    "        df[\"performance\"] = (df[\"afeta\"] / df[\"tempo_esperado\"]).round(2)\n",
    "\n",
    "        # Corrige valores nulos ou inf de performance\n",
    "        df[\"performance\"] = df[\"performance\"].replace([np.inf, -np.inf], np.nan).fillna(0)\n",
    "\n",
    "        # Se a data e turno estiverem em paradas_programadas, performance é np.nan e o tempo esperado é igual a 0\n",
    "        mask = df[\"data_registro\"].isin(paradas_programadas[\"data_registro\"]) & df[\"turno\"].isin(\n",
    "            paradas_programadas[\"turno\"]\n",
    "        )\n",
    "        df.loc[mask, \"performance\"] = np.nan\n",
    "        df.loc[mask, \"tempo_esperado\"] = 0\n",
    "\n",
    "        # Ordenar as colunas\n",
    "        df = df[\n",
    "            [\n",
    "                \"fabrica\",\n",
    "                \"linha\",\n",
    "                \"maquina_id\",\n",
    "                \"turno\",\n",
    "                \"data_registro\",\n",
    "                \"hora_registro\",\n",
    "                \"tempo\",\n",
    "                \"tempo_esperado\",\n",
    "                \"desconto\",\n",
    "                \"afeta\",\n",
    "                \"performance\",\n",
    "            ]\n",
    "        ]\n",
    "\n",
    "        return df\n",
    "\n",
    "    def get_repair_data(self) -> pd.DataFrame:\n",
    "        \"\"\"\n",
    "        Calcula o desconto de reparo.\n",
    "        \"\"\"\n",
    "\n",
    "        df = self.df_stops\n",
    "        df_prod = self.df_prod\n",
    "\n",
    "        # Dataframe com datas e turnos onde a causa está em not_eff e o tempo é igual a 480\n",
    "        mask = (df[\"causa\"].isin(self.not_perf)) & (df[\"tempo\"] == 480)\n",
    "        paradas_programadas = df[mask][[\"data_registro\", \"turno\"]]  # Para performance ser np.nan\n",
    "\n",
    "        # Calcula o desconto de reparo\n",
    "        df = self.get_discount(df, self.desc_rep, self.afeta_rep, IndicatorType.REPAIR)\n",
    "\n",
    "        # Agrupa para ter o valor total de desconto\n",
    "        df = (\n",
    "            df.groupby([\"maquina_id\", \"linha\", \"data_registro\", \"turno\"], observed=False)\n",
    "            .agg(\n",
    "                tempo=(\"tempo\", \"sum\"),\n",
    "                desconto=(\"desconto\", \"sum\"),\n",
    "                afeta=(\"excedente\", \"sum\"),\n",
    "            )\n",
    "            .reset_index()\n",
    "        )\n",
    "\n",
    "        # Une os dois dataframes\n",
    "        df = pd.merge(df_prod, df, on=[\"maquina_id\", \"linha\", \"data_registro\", \"turno\"], how=\"left\")\n",
    "\n",
    "        # Lida com valores nulos\n",
    "        df = df.fillna(0)\n",
    "\n",
    "        # Coluna com tempo esperado de produção\n",
    "        df = self.__get_expected_production_time(df)\n",
    "\n",
    "        # Coluna de Reparo\n",
    "        df[\"reparo\"] = (df[\"afeta\"] / df[\"tempo_esperado\"]).round(2)\n",
    "\n",
    "        # Corrige valores nulos ou inf de reparo\n",
    "        df[\"reparo\"] = df[\"reparo\"].replace([np.inf, -np.inf], np.nan).fillna(0)\n",
    "\n",
    "        # Se a data e turno estiverem em paradas_programadas, performance é np.nan e o tempo esperado é igual a 0\n",
    "        mask = df[\"data_registro\"].isin(paradas_programadas[\"data_registro\"]) & df[\"turno\"].isin(\n",
    "            paradas_programadas[\"turno\"]\n",
    "        )\n",
    "        df.loc[mask, \"reparo\"] = np.nan\n",
    "        df.loc[mask, \"tempo_esperado\"] = 0\n",
    "\n",
    "        # Ordenar as colunas\n",
    "        df = df[\n",
    "            [\n",
    "                \"fabrica\",\n",
    "                \"linha\",\n",
    "                \"maquina_id\",\n",
    "                \"turno\",\n",
    "                \"data_registro\",\n",
    "                \"hora_registro\",\n",
    "                \"tempo\",\n",
    "                \"tempo_esperado\",\n",
    "                \"desconto\",\n",
    "                \"afeta\",\n",
    "                \"reparo\",\n",
    "            ]\n",
    "        ]\n",
    "\n",
    "        return df\n",
    "\n",
    "\n",
    "data_analysis = DataAnalysis(df_maq_stopped.copy(), df_info_production_cleaned.copy())"
   ]
  },
  {
   "cell_type": "markdown",
   "metadata": {},
   "source": [
    "## Saídas de Eficiência, Performance e Reparos de Máquina/Linha\n"
   ]
  },
  {
   "cell_type": "code",
   "execution_count": 24,
   "metadata": {
    "notebookRunGroups": {
     "groupValue": "2"
    }
   },
   "outputs": [
    {
     "data": {
      "text/html": [
       "<div>\n",
       "<style scoped>\n",
       "    .dataframe tbody tr th:only-of-type {\n",
       "        vertical-align: middle;\n",
       "    }\n",
       "\n",
       "    .dataframe tbody tr th {\n",
       "        vertical-align: top;\n",
       "    }\n",
       "\n",
       "    .dataframe thead th {\n",
       "        text-align: right;\n",
       "    }\n",
       "</style>\n",
       "<table border=\"1\" class=\"dataframe\">\n",
       "  <thead>\n",
       "    <tr style=\"text-align: right;\">\n",
       "      <th></th>\n",
       "      <th>fabrica</th>\n",
       "      <th>linha</th>\n",
       "      <th>maquina_id</th>\n",
       "      <th>turno</th>\n",
       "      <th>data_registro</th>\n",
       "      <th>hora_registro</th>\n",
       "      <th>tempo</th>\n",
       "      <th>total_produzido</th>\n",
       "      <th>producao_esperada</th>\n",
       "      <th>tempo_esperado</th>\n",
       "      <th>desconto</th>\n",
       "      <th>excedente</th>\n",
       "      <th>eficiencia</th>\n",
       "    </tr>\n",
       "  </thead>\n",
       "  <tbody>\n",
       "    <tr>\n",
       "      <th>0</th>\n",
       "      <td>1</td>\n",
       "      <td>1</td>\n",
       "      <td>TMF003</td>\n",
       "      <td>NOT</td>\n",
       "      <td>2024-05-01</td>\n",
       "      <td>07:59:08</td>\n",
       "      <td>480.0</td>\n",
       "      <td>12.0</td>\n",
       "      <td>10176.0</td>\n",
       "      <td>480.0</td>\n",
       "      <td>0.0</td>\n",
       "      <td>480.0</td>\n",
       "      <td>0.00</td>\n",
       "    </tr>\n",
       "    <tr>\n",
       "      <th>1</th>\n",
       "      <td>1</td>\n",
       "      <td>1</td>\n",
       "      <td>TMF003</td>\n",
       "      <td>MAT</td>\n",
       "      <td>2024-05-01</td>\n",
       "      <td>15:59:09</td>\n",
       "      <td>480.0</td>\n",
       "      <td>12.0</td>\n",
       "      <td>8904.0</td>\n",
       "      <td>420.0</td>\n",
       "      <td>60.0</td>\n",
       "      <td>420.0</td>\n",
       "      <td>0.00</td>\n",
       "    </tr>\n",
       "    <tr>\n",
       "      <th>2</th>\n",
       "      <td>1</td>\n",
       "      <td>1</td>\n",
       "      <td>TMF003</td>\n",
       "      <td>VES</td>\n",
       "      <td>2024-05-01</td>\n",
       "      <td>23:59:10</td>\n",
       "      <td>480.0</td>\n",
       "      <td>56.0</td>\n",
       "      <td>10176.0</td>\n",
       "      <td>480.0</td>\n",
       "      <td>0.0</td>\n",
       "      <td>480.0</td>\n",
       "      <td>0.01</td>\n",
       "    </tr>\n",
       "    <tr>\n",
       "      <th>3</th>\n",
       "      <td>1</td>\n",
       "      <td>1</td>\n",
       "      <td>TMF003</td>\n",
       "      <td>NOT</td>\n",
       "      <td>2024-05-02</td>\n",
       "      <td>07:59:12</td>\n",
       "      <td>176.0</td>\n",
       "      <td>6274.0</td>\n",
       "      <td>10176.0</td>\n",
       "      <td>480.0</td>\n",
       "      <td>0.0</td>\n",
       "      <td>176.0</td>\n",
       "      <td>0.62</td>\n",
       "    </tr>\n",
       "    <tr>\n",
       "      <th>4</th>\n",
       "      <td>1</td>\n",
       "      <td>1</td>\n",
       "      <td>TMF003</td>\n",
       "      <td>MAT</td>\n",
       "      <td>2024-05-02</td>\n",
       "      <td>15:59:13</td>\n",
       "      <td>304.0</td>\n",
       "      <td>2116.0</td>\n",
       "      <td>10176.0</td>\n",
       "      <td>480.0</td>\n",
       "      <td>0.0</td>\n",
       "      <td>304.0</td>\n",
       "      <td>0.21</td>\n",
       "    </tr>\n",
       "    <tr>\n",
       "      <th>...</th>\n",
       "      <td>...</td>\n",
       "      <td>...</td>\n",
       "      <td>...</td>\n",
       "      <td>...</td>\n",
       "      <td>...</td>\n",
       "      <td>...</td>\n",
       "      <td>...</td>\n",
       "      <td>...</td>\n",
       "      <td>...</td>\n",
       "      <td>...</td>\n",
       "      <td>...</td>\n",
       "      <td>...</td>\n",
       "      <td>...</td>\n",
       "    </tr>\n",
       "    <tr>\n",
       "      <th>286</th>\n",
       "      <td>2</td>\n",
       "      <td>14</td>\n",
       "      <td>TMF009</td>\n",
       "      <td>NOT</td>\n",
       "      <td>2024-05-07</td>\n",
       "      <td>07:59:34</td>\n",
       "      <td>480.0</td>\n",
       "      <td>0.0</td>\n",
       "      <td>10176.0</td>\n",
       "      <td>480.0</td>\n",
       "      <td>0.0</td>\n",
       "      <td>480.0</td>\n",
       "      <td>0.00</td>\n",
       "    </tr>\n",
       "    <tr>\n",
       "      <th>287</th>\n",
       "      <td>2</td>\n",
       "      <td>14</td>\n",
       "      <td>TMF009</td>\n",
       "      <td>MAT</td>\n",
       "      <td>2024-05-07</td>\n",
       "      <td>15:58:33</td>\n",
       "      <td>479.0</td>\n",
       "      <td>0.0</td>\n",
       "      <td>10176.0</td>\n",
       "      <td>480.0</td>\n",
       "      <td>0.0</td>\n",
       "      <td>479.0</td>\n",
       "      <td>0.00</td>\n",
       "    </tr>\n",
       "    <tr>\n",
       "      <th>288</th>\n",
       "      <td>2</td>\n",
       "      <td>14</td>\n",
       "      <td>TMF009</td>\n",
       "      <td>VES</td>\n",
       "      <td>2024-05-07</td>\n",
       "      <td>23:58:34</td>\n",
       "      <td>480.0</td>\n",
       "      <td>0.0</td>\n",
       "      <td>10176.0</td>\n",
       "      <td>480.0</td>\n",
       "      <td>0.0</td>\n",
       "      <td>480.0</td>\n",
       "      <td>0.00</td>\n",
       "    </tr>\n",
       "    <tr>\n",
       "      <th>289</th>\n",
       "      <td>2</td>\n",
       "      <td>14</td>\n",
       "      <td>TMF009</td>\n",
       "      <td>NOT</td>\n",
       "      <td>2024-05-08</td>\n",
       "      <td>07:58:36</td>\n",
       "      <td>480.0</td>\n",
       "      <td>0.0</td>\n",
       "      <td>10176.0</td>\n",
       "      <td>480.0</td>\n",
       "      <td>0.0</td>\n",
       "      <td>480.0</td>\n",
       "      <td>0.00</td>\n",
       "    </tr>\n",
       "    <tr>\n",
       "      <th>290</th>\n",
       "      <td>2</td>\n",
       "      <td>14</td>\n",
       "      <td>TMF009</td>\n",
       "      <td>MAT</td>\n",
       "      <td>2024-05-08</td>\n",
       "      <td>09:28:36</td>\n",
       "      <td>0.0</td>\n",
       "      <td>14.0</td>\n",
       "      <td>1950.4</td>\n",
       "      <td>92.0</td>\n",
       "      <td>0.0</td>\n",
       "      <td>0.0</td>\n",
       "      <td>0.01</td>\n",
       "    </tr>\n",
       "  </tbody>\n",
       "</table>\n",
       "<p>291 rows × 13 columns</p>\n",
       "</div>"
      ],
      "text/plain": [
       "    fabrica  linha maquina_id turno data_registro hora_registro  tempo  \\\n",
       "0         1      1     TMF003   NOT    2024-05-01      07:59:08  480.0   \n",
       "1         1      1     TMF003   MAT    2024-05-01      15:59:09  480.0   \n",
       "2         1      1     TMF003   VES    2024-05-01      23:59:10  480.0   \n",
       "3         1      1     TMF003   NOT    2024-05-02      07:59:12  176.0   \n",
       "4         1      1     TMF003   MAT    2024-05-02      15:59:13  304.0   \n",
       "..      ...    ...        ...   ...           ...           ...    ...   \n",
       "286       2     14     TMF009   NOT    2024-05-07      07:59:34  480.0   \n",
       "287       2     14     TMF009   MAT    2024-05-07      15:58:33  479.0   \n",
       "288       2     14     TMF009   VES    2024-05-07      23:58:34  480.0   \n",
       "289       2     14     TMF009   NOT    2024-05-08      07:58:36  480.0   \n",
       "290       2     14     TMF009   MAT    2024-05-08      09:28:36    0.0   \n",
       "\n",
       "     total_produzido  producao_esperada  tempo_esperado  desconto  excedente  \\\n",
       "0               12.0            10176.0           480.0       0.0      480.0   \n",
       "1               12.0             8904.0           420.0      60.0      420.0   \n",
       "2               56.0            10176.0           480.0       0.0      480.0   \n",
       "3             6274.0            10176.0           480.0       0.0      176.0   \n",
       "4             2116.0            10176.0           480.0       0.0      304.0   \n",
       "..               ...                ...             ...       ...        ...   \n",
       "286              0.0            10176.0           480.0       0.0      480.0   \n",
       "287              0.0            10176.0           480.0       0.0      479.0   \n",
       "288              0.0            10176.0           480.0       0.0      480.0   \n",
       "289              0.0            10176.0           480.0       0.0      480.0   \n",
       "290             14.0             1950.4            92.0       0.0        0.0   \n",
       "\n",
       "     eficiencia  \n",
       "0          0.00  \n",
       "1          0.00  \n",
       "2          0.01  \n",
       "3          0.62  \n",
       "4          0.21  \n",
       "..          ...  \n",
       "286        0.00  \n",
       "287        0.00  \n",
       "288        0.00  \n",
       "289        0.00  \n",
       "290        0.01  \n",
       "\n",
       "[291 rows x 13 columns]"
      ]
     },
     "execution_count": 24,
     "metadata": {},
     "output_type": "execute_result"
    }
   ],
   "source": [
    "df_eff = data_analysis.get_eff_data()\n",
    "df_eff"
   ]
  },
  {
   "cell_type": "code",
   "execution_count": 25,
   "metadata": {},
   "outputs": [
    {
     "data": {
      "text/html": [
       "<div>\n",
       "<style scoped>\n",
       "    .dataframe tbody tr th:only-of-type {\n",
       "        vertical-align: middle;\n",
       "    }\n",
       "\n",
       "    .dataframe tbody tr th {\n",
       "        vertical-align: top;\n",
       "    }\n",
       "\n",
       "    .dataframe thead th {\n",
       "        text-align: right;\n",
       "    }\n",
       "</style>\n",
       "<table border=\"1\" class=\"dataframe\">\n",
       "  <thead>\n",
       "    <tr style=\"text-align: right;\">\n",
       "      <th></th>\n",
       "      <th>fabrica</th>\n",
       "      <th>linha</th>\n",
       "      <th>maquina_id</th>\n",
       "      <th>turno</th>\n",
       "      <th>data_registro</th>\n",
       "      <th>hora_registro</th>\n",
       "      <th>tempo</th>\n",
       "      <th>tempo_esperado</th>\n",
       "      <th>desconto</th>\n",
       "      <th>afeta</th>\n",
       "      <th>performance</th>\n",
       "    </tr>\n",
       "  </thead>\n",
       "  <tbody>\n",
       "    <tr>\n",
       "      <th>0</th>\n",
       "      <td>1</td>\n",
       "      <td>1</td>\n",
       "      <td>TMF003</td>\n",
       "      <td>NOT</td>\n",
       "      <td>2024-05-01</td>\n",
       "      <td>07:59:08</td>\n",
       "      <td>0.0</td>\n",
       "      <td>0.0</td>\n",
       "      <td>0.0</td>\n",
       "      <td>0.0</td>\n",
       "      <td>NaN</td>\n",
       "    </tr>\n",
       "    <tr>\n",
       "      <th>1</th>\n",
       "      <td>1</td>\n",
       "      <td>1</td>\n",
       "      <td>TMF003</td>\n",
       "      <td>MAT</td>\n",
       "      <td>2024-05-01</td>\n",
       "      <td>15:59:09</td>\n",
       "      <td>208.0</td>\n",
       "      <td>420.0</td>\n",
       "      <td>60.0</td>\n",
       "      <td>148.0</td>\n",
       "      <td>0.35</td>\n",
       "    </tr>\n",
       "    <tr>\n",
       "      <th>2</th>\n",
       "      <td>1</td>\n",
       "      <td>1</td>\n",
       "      <td>TMF003</td>\n",
       "      <td>VES</td>\n",
       "      <td>2024-05-01</td>\n",
       "      <td>23:59:10</td>\n",
       "      <td>480.0</td>\n",
       "      <td>480.0</td>\n",
       "      <td>0.0</td>\n",
       "      <td>480.0</td>\n",
       "      <td>1.00</td>\n",
       "    </tr>\n",
       "    <tr>\n",
       "      <th>3</th>\n",
       "      <td>1</td>\n",
       "      <td>1</td>\n",
       "      <td>TMF003</td>\n",
       "      <td>NOT</td>\n",
       "      <td>2024-05-02</td>\n",
       "      <td>07:59:12</td>\n",
       "      <td>176.0</td>\n",
       "      <td>480.0</td>\n",
       "      <td>0.0</td>\n",
       "      <td>176.0</td>\n",
       "      <td>0.37</td>\n",
       "    </tr>\n",
       "    <tr>\n",
       "      <th>4</th>\n",
       "      <td>1</td>\n",
       "      <td>1</td>\n",
       "      <td>TMF003</td>\n",
       "      <td>MAT</td>\n",
       "      <td>2024-05-02</td>\n",
       "      <td>15:59:13</td>\n",
       "      <td>304.0</td>\n",
       "      <td>480.0</td>\n",
       "      <td>0.0</td>\n",
       "      <td>304.0</td>\n",
       "      <td>0.63</td>\n",
       "    </tr>\n",
       "    <tr>\n",
       "      <th>...</th>\n",
       "      <td>...</td>\n",
       "      <td>...</td>\n",
       "      <td>...</td>\n",
       "      <td>...</td>\n",
       "      <td>...</td>\n",
       "      <td>...</td>\n",
       "      <td>...</td>\n",
       "      <td>...</td>\n",
       "      <td>...</td>\n",
       "      <td>...</td>\n",
       "      <td>...</td>\n",
       "    </tr>\n",
       "    <tr>\n",
       "      <th>286</th>\n",
       "      <td>2</td>\n",
       "      <td>14</td>\n",
       "      <td>TMF009</td>\n",
       "      <td>NOT</td>\n",
       "      <td>2024-05-07</td>\n",
       "      <td>07:59:34</td>\n",
       "      <td>480.0</td>\n",
       "      <td>480.0</td>\n",
       "      <td>0.0</td>\n",
       "      <td>480.0</td>\n",
       "      <td>1.00</td>\n",
       "    </tr>\n",
       "    <tr>\n",
       "      <th>287</th>\n",
       "      <td>2</td>\n",
       "      <td>14</td>\n",
       "      <td>TMF009</td>\n",
       "      <td>MAT</td>\n",
       "      <td>2024-05-07</td>\n",
       "      <td>15:58:33</td>\n",
       "      <td>479.0</td>\n",
       "      <td>480.0</td>\n",
       "      <td>0.0</td>\n",
       "      <td>479.0</td>\n",
       "      <td>1.00</td>\n",
       "    </tr>\n",
       "    <tr>\n",
       "      <th>288</th>\n",
       "      <td>2</td>\n",
       "      <td>14</td>\n",
       "      <td>TMF009</td>\n",
       "      <td>VES</td>\n",
       "      <td>2024-05-07</td>\n",
       "      <td>23:58:34</td>\n",
       "      <td>480.0</td>\n",
       "      <td>480.0</td>\n",
       "      <td>0.0</td>\n",
       "      <td>480.0</td>\n",
       "      <td>1.00</td>\n",
       "    </tr>\n",
       "    <tr>\n",
       "      <th>289</th>\n",
       "      <td>2</td>\n",
       "      <td>14</td>\n",
       "      <td>TMF009</td>\n",
       "      <td>NOT</td>\n",
       "      <td>2024-05-08</td>\n",
       "      <td>07:58:36</td>\n",
       "      <td>480.0</td>\n",
       "      <td>480.0</td>\n",
       "      <td>0.0</td>\n",
       "      <td>480.0</td>\n",
       "      <td>1.00</td>\n",
       "    </tr>\n",
       "    <tr>\n",
       "      <th>290</th>\n",
       "      <td>2</td>\n",
       "      <td>14</td>\n",
       "      <td>TMF009</td>\n",
       "      <td>MAT</td>\n",
       "      <td>2024-05-08</td>\n",
       "      <td>09:28:36</td>\n",
       "      <td>0.0</td>\n",
       "      <td>92.0</td>\n",
       "      <td>0.0</td>\n",
       "      <td>0.0</td>\n",
       "      <td>0.00</td>\n",
       "    </tr>\n",
       "  </tbody>\n",
       "</table>\n",
       "<p>291 rows × 11 columns</p>\n",
       "</div>"
      ],
      "text/plain": [
       "    fabrica  linha maquina_id turno data_registro hora_registro  tempo  \\\n",
       "0         1      1     TMF003   NOT    2024-05-01      07:59:08    0.0   \n",
       "1         1      1     TMF003   MAT    2024-05-01      15:59:09  208.0   \n",
       "2         1      1     TMF003   VES    2024-05-01      23:59:10  480.0   \n",
       "3         1      1     TMF003   NOT    2024-05-02      07:59:12  176.0   \n",
       "4         1      1     TMF003   MAT    2024-05-02      15:59:13  304.0   \n",
       "..      ...    ...        ...   ...           ...           ...    ...   \n",
       "286       2     14     TMF009   NOT    2024-05-07      07:59:34  480.0   \n",
       "287       2     14     TMF009   MAT    2024-05-07      15:58:33  479.0   \n",
       "288       2     14     TMF009   VES    2024-05-07      23:58:34  480.0   \n",
       "289       2     14     TMF009   NOT    2024-05-08      07:58:36  480.0   \n",
       "290       2     14     TMF009   MAT    2024-05-08      09:28:36    0.0   \n",
       "\n",
       "     tempo_esperado  desconto  afeta  performance  \n",
       "0               0.0       0.0    0.0          NaN  \n",
       "1             420.0      60.0  148.0         0.35  \n",
       "2             480.0       0.0  480.0         1.00  \n",
       "3             480.0       0.0  176.0         0.37  \n",
       "4             480.0       0.0  304.0         0.63  \n",
       "..              ...       ...    ...          ...  \n",
       "286           480.0       0.0  480.0         1.00  \n",
       "287           480.0       0.0  479.0         1.00  \n",
       "288           480.0       0.0  480.0         1.00  \n",
       "289           480.0       0.0  480.0         1.00  \n",
       "290            92.0       0.0    0.0         0.00  \n",
       "\n",
       "[291 rows x 11 columns]"
      ]
     },
     "execution_count": 25,
     "metadata": {},
     "output_type": "execute_result"
    }
   ],
   "source": [
    "df_perf = data_analysis.get_perf_data()\n",
    "df_perf"
   ]
  },
  {
   "cell_type": "code",
   "execution_count": 26,
   "metadata": {},
   "outputs": [
    {
     "data": {
      "text/html": [
       "<div>\n",
       "<style scoped>\n",
       "    .dataframe tbody tr th:only-of-type {\n",
       "        vertical-align: middle;\n",
       "    }\n",
       "\n",
       "    .dataframe tbody tr th {\n",
       "        vertical-align: top;\n",
       "    }\n",
       "\n",
       "    .dataframe thead th {\n",
       "        text-align: right;\n",
       "    }\n",
       "</style>\n",
       "<table border=\"1\" class=\"dataframe\">\n",
       "  <thead>\n",
       "    <tr style=\"text-align: right;\">\n",
       "      <th></th>\n",
       "      <th>fabrica</th>\n",
       "      <th>linha</th>\n",
       "      <th>maquina_id</th>\n",
       "      <th>turno</th>\n",
       "      <th>data_registro</th>\n",
       "      <th>hora_registro</th>\n",
       "      <th>tempo</th>\n",
       "      <th>tempo_esperado</th>\n",
       "      <th>desconto</th>\n",
       "      <th>afeta</th>\n",
       "      <th>reparo</th>\n",
       "    </tr>\n",
       "  </thead>\n",
       "  <tbody>\n",
       "    <tr>\n",
       "      <th>0</th>\n",
       "      <td>1</td>\n",
       "      <td>1</td>\n",
       "      <td>TMF003</td>\n",
       "      <td>NOT</td>\n",
       "      <td>2024-05-01</td>\n",
       "      <td>07:59:08</td>\n",
       "      <td>0.0</td>\n",
       "      <td>0.0</td>\n",
       "      <td>0.0</td>\n",
       "      <td>0.0</td>\n",
       "      <td>NaN</td>\n",
       "    </tr>\n",
       "    <tr>\n",
       "      <th>1</th>\n",
       "      <td>1</td>\n",
       "      <td>1</td>\n",
       "      <td>TMF003</td>\n",
       "      <td>MAT</td>\n",
       "      <td>2024-05-01</td>\n",
       "      <td>15:59:09</td>\n",
       "      <td>0.0</td>\n",
       "      <td>480.0</td>\n",
       "      <td>0.0</td>\n",
       "      <td>0.0</td>\n",
       "      <td>0.0</td>\n",
       "    </tr>\n",
       "    <tr>\n",
       "      <th>2</th>\n",
       "      <td>1</td>\n",
       "      <td>1</td>\n",
       "      <td>TMF003</td>\n",
       "      <td>VES</td>\n",
       "      <td>2024-05-01</td>\n",
       "      <td>23:59:10</td>\n",
       "      <td>0.0</td>\n",
       "      <td>480.0</td>\n",
       "      <td>0.0</td>\n",
       "      <td>0.0</td>\n",
       "      <td>0.0</td>\n",
       "    </tr>\n",
       "    <tr>\n",
       "      <th>3</th>\n",
       "      <td>1</td>\n",
       "      <td>1</td>\n",
       "      <td>TMF003</td>\n",
       "      <td>NOT</td>\n",
       "      <td>2024-05-02</td>\n",
       "      <td>07:59:12</td>\n",
       "      <td>0.0</td>\n",
       "      <td>480.0</td>\n",
       "      <td>0.0</td>\n",
       "      <td>0.0</td>\n",
       "      <td>0.0</td>\n",
       "    </tr>\n",
       "    <tr>\n",
       "      <th>4</th>\n",
       "      <td>1</td>\n",
       "      <td>1</td>\n",
       "      <td>TMF003</td>\n",
       "      <td>MAT</td>\n",
       "      <td>2024-05-02</td>\n",
       "      <td>15:59:13</td>\n",
       "      <td>0.0</td>\n",
       "      <td>480.0</td>\n",
       "      <td>0.0</td>\n",
       "      <td>0.0</td>\n",
       "      <td>0.0</td>\n",
       "    </tr>\n",
       "    <tr>\n",
       "      <th>...</th>\n",
       "      <td>...</td>\n",
       "      <td>...</td>\n",
       "      <td>...</td>\n",
       "      <td>...</td>\n",
       "      <td>...</td>\n",
       "      <td>...</td>\n",
       "      <td>...</td>\n",
       "      <td>...</td>\n",
       "      <td>...</td>\n",
       "      <td>...</td>\n",
       "      <td>...</td>\n",
       "    </tr>\n",
       "    <tr>\n",
       "      <th>286</th>\n",
       "      <td>2</td>\n",
       "      <td>14</td>\n",
       "      <td>TMF009</td>\n",
       "      <td>NOT</td>\n",
       "      <td>2024-05-07</td>\n",
       "      <td>07:59:34</td>\n",
       "      <td>0.0</td>\n",
       "      <td>480.0</td>\n",
       "      <td>0.0</td>\n",
       "      <td>0.0</td>\n",
       "      <td>0.0</td>\n",
       "    </tr>\n",
       "    <tr>\n",
       "      <th>287</th>\n",
       "      <td>2</td>\n",
       "      <td>14</td>\n",
       "      <td>TMF009</td>\n",
       "      <td>MAT</td>\n",
       "      <td>2024-05-07</td>\n",
       "      <td>15:58:33</td>\n",
       "      <td>0.0</td>\n",
       "      <td>480.0</td>\n",
       "      <td>0.0</td>\n",
       "      <td>0.0</td>\n",
       "      <td>0.0</td>\n",
       "    </tr>\n",
       "    <tr>\n",
       "      <th>288</th>\n",
       "      <td>2</td>\n",
       "      <td>14</td>\n",
       "      <td>TMF009</td>\n",
       "      <td>VES</td>\n",
       "      <td>2024-05-07</td>\n",
       "      <td>23:58:34</td>\n",
       "      <td>0.0</td>\n",
       "      <td>480.0</td>\n",
       "      <td>0.0</td>\n",
       "      <td>0.0</td>\n",
       "      <td>0.0</td>\n",
       "    </tr>\n",
       "    <tr>\n",
       "      <th>289</th>\n",
       "      <td>2</td>\n",
       "      <td>14</td>\n",
       "      <td>TMF009</td>\n",
       "      <td>NOT</td>\n",
       "      <td>2024-05-08</td>\n",
       "      <td>07:58:36</td>\n",
       "      <td>0.0</td>\n",
       "      <td>480.0</td>\n",
       "      <td>0.0</td>\n",
       "      <td>0.0</td>\n",
       "      <td>0.0</td>\n",
       "    </tr>\n",
       "    <tr>\n",
       "      <th>290</th>\n",
       "      <td>2</td>\n",
       "      <td>14</td>\n",
       "      <td>TMF009</td>\n",
       "      <td>MAT</td>\n",
       "      <td>2024-05-08</td>\n",
       "      <td>09:28:36</td>\n",
       "      <td>0.0</td>\n",
       "      <td>92.0</td>\n",
       "      <td>0.0</td>\n",
       "      <td>0.0</td>\n",
       "      <td>0.0</td>\n",
       "    </tr>\n",
       "  </tbody>\n",
       "</table>\n",
       "<p>291 rows × 11 columns</p>\n",
       "</div>"
      ],
      "text/plain": [
       "    fabrica  linha maquina_id turno data_registro hora_registro  tempo  \\\n",
       "0         1      1     TMF003   NOT    2024-05-01      07:59:08    0.0   \n",
       "1         1      1     TMF003   MAT    2024-05-01      15:59:09    0.0   \n",
       "2         1      1     TMF003   VES    2024-05-01      23:59:10    0.0   \n",
       "3         1      1     TMF003   NOT    2024-05-02      07:59:12    0.0   \n",
       "4         1      1     TMF003   MAT    2024-05-02      15:59:13    0.0   \n",
       "..      ...    ...        ...   ...           ...           ...    ...   \n",
       "286       2     14     TMF009   NOT    2024-05-07      07:59:34    0.0   \n",
       "287       2     14     TMF009   MAT    2024-05-07      15:58:33    0.0   \n",
       "288       2     14     TMF009   VES    2024-05-07      23:58:34    0.0   \n",
       "289       2     14     TMF009   NOT    2024-05-08      07:58:36    0.0   \n",
       "290       2     14     TMF009   MAT    2024-05-08      09:28:36    0.0   \n",
       "\n",
       "     tempo_esperado  desconto  afeta  reparo  \n",
       "0               0.0       0.0    0.0     NaN  \n",
       "1             480.0       0.0    0.0     0.0  \n",
       "2             480.0       0.0    0.0     0.0  \n",
       "3             480.0       0.0    0.0     0.0  \n",
       "4             480.0       0.0    0.0     0.0  \n",
       "..              ...       ...    ...     ...  \n",
       "286           480.0       0.0    0.0     0.0  \n",
       "287           480.0       0.0    0.0     0.0  \n",
       "288           480.0       0.0    0.0     0.0  \n",
       "289           480.0       0.0    0.0     0.0  \n",
       "290            92.0       0.0    0.0     0.0  \n",
       "\n",
       "[291 rows x 11 columns]"
      ]
     },
     "execution_count": 26,
     "metadata": {},
     "output_type": "execute_result"
    }
   ],
   "source": [
    "df_repair = data_analysis.get_repair_data()\n",
    "df_repair"
   ]
  },
  {
   "cell_type": "markdown",
   "metadata": {},
   "source": [
    "# Dataframes auxiliares para uso dos gráficos\n"
   ]
  },
  {
   "cell_type": "code",
   "execution_count": 27,
   "metadata": {},
   "outputs": [],
   "source": [
    "class DFIndicators:\n",
    "    def __init__(self, df_info_ihm: pd.DataFrame, df_prod: pd.DataFrame):\n",
    "        self.df_info_ihm = df_info_ihm\n",
    "        self.df_prod = df_prod\n",
    "        self.data_analysis = DataAnalysis(self.df_info_ihm, self.df_prod)\n",
    "        self.indicator_functions = {\n",
    "            IndicatorType.EFFICIENCY: self.data_analysis.get_eff_data,\n",
    "            IndicatorType.PERFORMANCE: self.data_analysis.get_perf_data,\n",
    "            IndicatorType.REPAIR: self.data_analysis.get_repair_data,\n",
    "        }\n",
    "        self.indicator_descontos = {\n",
    "            IndicatorType.EFFICIENCY: self.data_analysis.desc_eff,\n",
    "            IndicatorType.PERFORMANCE: self.data_analysis.desc_perf,\n",
    "            IndicatorType.REPAIR: self.data_analysis.desc_rep,\n",
    "        }\n",
    "        self.indicator_not_affect = {\n",
    "            IndicatorType.EFFICIENCY: self.data_analysis.not_eff,\n",
    "            IndicatorType.PERFORMANCE: self.data_analysis.not_perf,\n",
    "            IndicatorType.REPAIR: self.data_analysis.afeta_rep,\n",
    "        }\n",
    "\n",
    "    def __adjust_heatmap_data(\n",
    "        self, indicator: IndicatorType, turn: str = None, main: bool = False\n",
    "    ) -> pd.DataFrame:\n",
    "        \"\"\"\n",
    "        Adjusts the heatmap data based on the given indicator, turn, and main flag.\n",
    "\n",
    "        Parameters:\n",
    "            indicator (IndicatorType): The indicator type to adjust the data for.\n",
    "            turn (str, optional): The turn to filter the data for. Defaults to None.\n",
    "            main (bool, optional): Flag indicating whether the main grouping should be used. Defaults to False.\n",
    "\n",
    "        Returns:\n",
    "            pd.DataFrame: The adjusted dataframe with the heatmap data.\n",
    "        \"\"\"\n",
    "\n",
    "        # Dataframe com os dados do indicador\n",
    "        df = pd.DataFrame()\n",
    "\n",
    "        # Busca o dataframe de acordo com o indicador\n",
    "        df = self.indicator_functions[indicator]()\n",
    "\n",
    "        # Se for indicado um turno, filtra o dataframe\n",
    "        if turn:\n",
    "            df = df[df[\"turno\"] == turn]\n",
    "\n",
    "        # Colunas para agrupar o dataframe\n",
    "        group_cols = [\"data_registro\", \"turno\"] if main else [\"data_registro\", \"linha\"]\n",
    "\n",
    "        # Agrupa o dataframe e calcula a média\n",
    "        df = df.groupby(group_cols, observed=False)[indicator.value].mean().reset_index()\n",
    "\n",
    "        # ====================== Garantir Que Todas Datas Estejam Presentes ====================== #\n",
    "\n",
    "        # Obter a data do inicio e fim do mês atual\n",
    "        start_date = pd.to_datetime(\"today\").replace(day=1).date()\n",
    "        end_date = (pd.to_datetime(\"today\") + pd.offsets.MonthEnd(0)).date()\n",
    "\n",
    "        # Lista com todas as datas do mês atual\n",
    "        date_range = pd.date_range(start_date, end_date, freq=\"D\").date\n",
    "\n",
    "        # Encontra os valores únicos de turno ou linha e cria um novo index com todas as datas e turnos ou linhas\n",
    "        if main:\n",
    "            unique_turnos = df[\"turno\"].unique()\n",
    "            df.set_index([\"data_registro\", \"turno\"], inplace=True)\n",
    "            new_index = pd.MultiIndex.from_product(\n",
    "                [date_range, unique_turnos], names=[\"data_registro\", \"turno\"]\n",
    "            )\n",
    "        else:\n",
    "            unique_lines = df[\"linha\"].unique()\n",
    "            df.set_index([\"data_registro\", \"linha\"], inplace=True)\n",
    "            new_index = pd.MultiIndex.from_product(\n",
    "                [date_range, unique_lines], names=[\"data_registro\", \"linha\"]\n",
    "            )\n",
    "\n",
    "        # Reindexa o dataframe\n",
    "        df = df.reindex(new_index).reset_index()\n",
    "\n",
    "        # ================================== Pivotar O Dataframe ================================= #\n",
    "\n",
    "        # Pivotar o dataframe\n",
    "        if main:\n",
    "            df = df.pivot(index=\"turno\", columns=\"data_registro\", values=indicator.value)\n",
    "            df = df.reindex([\"NOT\", \"MAT\", \"VES\"])\n",
    "        else:\n",
    "            df = df.pivot(index=\"linha\", columns=\"data_registro\", values=indicator.value)\n",
    "\n",
    "        return df\n",
    "\n",
    "    def get_heatmap_data(self, indicator: IndicatorType) -> tuple:\n",
    "        \"\"\"\n",
    "        Retrieves heatmap data for the given indicator.\n",
    "\n",
    "        Args:\n",
    "            indicator (IndicatorType): The indicator type to retrieve data for.\n",
    "\n",
    "        Returns:\n",
    "            tuple: A tuple containing the heatmap data for different shifts:\n",
    "                - noturno: Heatmap data for the night shift.\n",
    "                - matutino: Heatmap data for the morning shift.\n",
    "                - vespertino: Heatmap data for the afternoon shift.\n",
    "                - main: Heatmap data for the main shift.\n",
    "        \"\"\"\n",
    "\n",
    "        noturno = self.__adjust_heatmap_data(indicator, \"NOT\")\n",
    "        matutino = self.__adjust_heatmap_data(indicator, \"MAT\")\n",
    "        vespertino = self.__adjust_heatmap_data(indicator, \"VES\")\n",
    "        main = self.__adjust_heatmap_data(indicator, main=True)\n",
    "\n",
    "        return noturno, matutino, vespertino, main\n",
    "\n",
    "    @staticmethod\n",
    "    def __annotations_list(df: pd.DataFrame) -> list:\n",
    "        \"\"\"\n",
    "        Cria uma lista de anotações para o heatmap.\n",
    "\n",
    "        Args:\n",
    "            df (pd.DataFrame): O dataframe com os dados do heatmap.\n",
    "\n",
    "        Returns:\n",
    "            list: Uma lista de anotações para o heatmap.\n",
    "        \"\"\"\n",
    "\n",
    "        # Inicializa a lista de anotações\n",
    "        annotations = []\n",
    "\n",
    "        # Define a coluna para dia apenas\n",
    "        df.columns = pd.to_datetime(df.columns).day\n",
    "\n",
    "        # Loop sobre as linhas do dataframe\n",
    "        for (i, j), value in np.ndenumerate(df.values):\n",
    "            # Se o valor for diferente de NaN\n",
    "            if not np.isnan(value):\n",
    "                # Adiciona a anotação\n",
    "                annotations.append(\n",
    "                    {\n",
    "                        \"x\": df.columns[j],\n",
    "                        \"y\": df.index[i],\n",
    "                        \"text\": f\"{value:.1%}\",\n",
    "                        \"xref\": \"x\",\n",
    "                        \"yref\": \"y\",\n",
    "                        \"showarrow\": False,\n",
    "                        \"font\": {\"size\": 10, \"color\": \"white\"},\n",
    "                    }\n",
    "                )\n",
    "\n",
    "        return annotations\n",
    "\n",
    "    def get_annotations(self, indicator: IndicatorType) -> tuple:\n",
    "        \"\"\"\n",
    "        Retrieves annotations for the heatmap data.\n",
    "\n",
    "        Args:\n",
    "            indicator (IndicatorType): The indicator type to retrieve annotations for.\n",
    "\n",
    "        Returns:\n",
    "            tuple: A tuple containing the annotations for different shifts:\n",
    "                - noturno: Annotations for the night shift.\n",
    "                - matutino: Annotations for the morning shift.\n",
    "                - vespertino: Annotations for the afternoon shift.\n",
    "                - main: Annotations for the main shift.\n",
    "        \"\"\"\n",
    "\n",
    "        noturno, matutino, vespertino, main = self.get_heatmap_data(indicator)\n",
    "\n",
    "        noturno_annotations = self.__annotations_list(noturno)\n",
    "        matutino_annotations = self.__annotations_list(matutino)\n",
    "        vespertino_annotations = self.__annotations_list(vespertino)\n",
    "        main_annotations = self.__annotations_list(main)\n",
    "\n",
    "        return noturno_annotations, matutino_annotations, vespertino_annotations, main_annotations\n",
    "\n",
    "    def adjust_df_for_bar_lost(\n",
    "        self,\n",
    "        df: pd.DataFrame,\n",
    "        indicator: IndicatorType,\n",
    "        turn: str = \"TOT\",\n",
    "        working_minutes: pd.DataFrame = None,\n",
    "    ) -> pd.DataFrame:\n",
    "\n",
    "        # Cria dataframe com os tempos\n",
    "        df = self.data_analysis.get_discount(\n",
    "            df, self.indicator_descontos[indicator], self.indicator_not_affect[indicator], indicator\n",
    "        )\n",
    "\n",
    "        # Une com working_minutes\n",
    "        if working_minutes is not None:\n",
    "            df = pd.concat([df, working_minutes], ignore_index=True, sort=False)\n",
    "\n",
    "        # Filtra por turno\n",
    "        df = df[df[\"turno\"] == turn] if turn != \"TOT\" else df\n",
    "\n",
    "        # Lidando com problema nulo\n",
    "        df[\"problema\"] = df[\"problema\"].fillna(\"Sem Problema Informado\")\n",
    "\n",
    "        # Lidando com motivo nulo\n",
    "        df[\"motivo\"] = df[\"motivo\"].fillna(\"Sem Motivo Informado\")\n",
    "\n",
    "        # Lidando com paradas de  5 minutos ou menos\n",
    "        df.loc[(df[\"motivo\"].isnull()) & (df[\"tempo\"] <= 5), [\"motivo\", \"problema\"]] = [\n",
    "            \"Parada de 5 minutos ou menos\",\n",
    "            \"Parada de 5 minutos ou menos\",\n",
    "        ]\n",
    "\n",
    "        return df\n",
    "\n",
    "\n",
    "indicators_class = DFIndicators(df_maq_stopped.copy(), df_info_production_cleaned.copy())"
   ]
  },
  {
   "cell_type": "code",
   "execution_count": 28,
   "metadata": {},
   "outputs": [
    {
     "data": {
      "text/html": [
       "<div>\n",
       "<style scoped>\n",
       "    .dataframe tbody tr th:only-of-type {\n",
       "        vertical-align: middle;\n",
       "    }\n",
       "\n",
       "    .dataframe tbody tr th {\n",
       "        vertical-align: top;\n",
       "    }\n",
       "\n",
       "    .dataframe thead th {\n",
       "        text-align: right;\n",
       "    }\n",
       "</style>\n",
       "<table border=\"1\" class=\"dataframe\">\n",
       "  <thead>\n",
       "    <tr style=\"text-align: right;\">\n",
       "      <th>data_registro</th>\n",
       "      <th>2024-05-01</th>\n",
       "      <th>2024-05-02</th>\n",
       "      <th>2024-05-03</th>\n",
       "      <th>2024-05-04</th>\n",
       "      <th>2024-05-05</th>\n",
       "      <th>2024-05-06</th>\n",
       "      <th>2024-05-07</th>\n",
       "      <th>2024-05-08</th>\n",
       "      <th>2024-05-09</th>\n",
       "      <th>2024-05-10</th>\n",
       "      <th>...</th>\n",
       "      <th>2024-05-22</th>\n",
       "      <th>2024-05-23</th>\n",
       "      <th>2024-05-24</th>\n",
       "      <th>2024-05-25</th>\n",
       "      <th>2024-05-26</th>\n",
       "      <th>2024-05-27</th>\n",
       "      <th>2024-05-28</th>\n",
       "      <th>2024-05-29</th>\n",
       "      <th>2024-05-30</th>\n",
       "      <th>2024-05-31</th>\n",
       "    </tr>\n",
       "    <tr>\n",
       "      <th>linha</th>\n",
       "      <th></th>\n",
       "      <th></th>\n",
       "      <th></th>\n",
       "      <th></th>\n",
       "      <th></th>\n",
       "      <th></th>\n",
       "      <th></th>\n",
       "      <th></th>\n",
       "      <th></th>\n",
       "      <th></th>\n",
       "      <th></th>\n",
       "      <th></th>\n",
       "      <th></th>\n",
       "      <th></th>\n",
       "      <th></th>\n",
       "      <th></th>\n",
       "      <th></th>\n",
       "      <th></th>\n",
       "      <th></th>\n",
       "      <th></th>\n",
       "      <th></th>\n",
       "    </tr>\n",
       "  </thead>\n",
       "  <tbody>\n",
       "    <tr>\n",
       "      <th>1</th>\n",
       "      <td>0.00</td>\n",
       "      <td>0.62</td>\n",
       "      <td>0.86</td>\n",
       "      <td>0.76</td>\n",
       "      <td>0.30</td>\n",
       "      <td>0.80</td>\n",
       "      <td>0.88</td>\n",
       "      <td>0.87</td>\n",
       "      <td>NaN</td>\n",
       "      <td>NaN</td>\n",
       "      <td>...</td>\n",
       "      <td>NaN</td>\n",
       "      <td>NaN</td>\n",
       "      <td>NaN</td>\n",
       "      <td>NaN</td>\n",
       "      <td>NaN</td>\n",
       "      <td>NaN</td>\n",
       "      <td>NaN</td>\n",
       "      <td>NaN</td>\n",
       "      <td>NaN</td>\n",
       "      <td>NaN</td>\n",
       "    </tr>\n",
       "    <tr>\n",
       "      <th>2</th>\n",
       "      <td>0.00</td>\n",
       "      <td>0.65</td>\n",
       "      <td>0.15</td>\n",
       "      <td>0.72</td>\n",
       "      <td>0.20</td>\n",
       "      <td>0.76</td>\n",
       "      <td>0.46</td>\n",
       "      <td>0.77</td>\n",
       "      <td>NaN</td>\n",
       "      <td>NaN</td>\n",
       "      <td>...</td>\n",
       "      <td>NaN</td>\n",
       "      <td>NaN</td>\n",
       "      <td>NaN</td>\n",
       "      <td>NaN</td>\n",
       "      <td>NaN</td>\n",
       "      <td>NaN</td>\n",
       "      <td>NaN</td>\n",
       "      <td>NaN</td>\n",
       "      <td>NaN</td>\n",
       "      <td>NaN</td>\n",
       "    </tr>\n",
       "    <tr>\n",
       "      <th>3</th>\n",
       "      <td>NaN</td>\n",
       "      <td>NaN</td>\n",
       "      <td>NaN</td>\n",
       "      <td>NaN</td>\n",
       "      <td>NaN</td>\n",
       "      <td>NaN</td>\n",
       "      <td>0.00</td>\n",
       "      <td>0.00</td>\n",
       "      <td>NaN</td>\n",
       "      <td>NaN</td>\n",
       "      <td>...</td>\n",
       "      <td>NaN</td>\n",
       "      <td>NaN</td>\n",
       "      <td>NaN</td>\n",
       "      <td>NaN</td>\n",
       "      <td>NaN</td>\n",
       "      <td>NaN</td>\n",
       "      <td>NaN</td>\n",
       "      <td>NaN</td>\n",
       "      <td>NaN</td>\n",
       "      <td>NaN</td>\n",
       "    </tr>\n",
       "    <tr>\n",
       "      <th>4</th>\n",
       "      <td>0.00</td>\n",
       "      <td>0.72</td>\n",
       "      <td>0.78</td>\n",
       "      <td>0.81</td>\n",
       "      <td>0.20</td>\n",
       "      <td>0.50</td>\n",
       "      <td>0.00</td>\n",
       "      <td>0.78</td>\n",
       "      <td>NaN</td>\n",
       "      <td>NaN</td>\n",
       "      <td>...</td>\n",
       "      <td>NaN</td>\n",
       "      <td>NaN</td>\n",
       "      <td>NaN</td>\n",
       "      <td>NaN</td>\n",
       "      <td>NaN</td>\n",
       "      <td>NaN</td>\n",
       "      <td>NaN</td>\n",
       "      <td>NaN</td>\n",
       "      <td>NaN</td>\n",
       "      <td>NaN</td>\n",
       "    </tr>\n",
       "    <tr>\n",
       "      <th>5</th>\n",
       "      <td>0.02</td>\n",
       "      <td>0.65</td>\n",
       "      <td>0.62</td>\n",
       "      <td>0.61</td>\n",
       "      <td>0.13</td>\n",
       "      <td>0.87</td>\n",
       "      <td>0.55</td>\n",
       "      <td>0.49</td>\n",
       "      <td>NaN</td>\n",
       "      <td>NaN</td>\n",
       "      <td>...</td>\n",
       "      <td>NaN</td>\n",
       "      <td>NaN</td>\n",
       "      <td>NaN</td>\n",
       "      <td>NaN</td>\n",
       "      <td>NaN</td>\n",
       "      <td>NaN</td>\n",
       "      <td>NaN</td>\n",
       "      <td>NaN</td>\n",
       "      <td>NaN</td>\n",
       "      <td>NaN</td>\n",
       "    </tr>\n",
       "    <tr>\n",
       "      <th>6</th>\n",
       "      <td>0.03</td>\n",
       "      <td>0.40</td>\n",
       "      <td>0.13</td>\n",
       "      <td>0.04</td>\n",
       "      <td>0.14</td>\n",
       "      <td>0.53</td>\n",
       "      <td>0.16</td>\n",
       "      <td>0.52</td>\n",
       "      <td>NaN</td>\n",
       "      <td>NaN</td>\n",
       "      <td>...</td>\n",
       "      <td>NaN</td>\n",
       "      <td>NaN</td>\n",
       "      <td>NaN</td>\n",
       "      <td>NaN</td>\n",
       "      <td>NaN</td>\n",
       "      <td>NaN</td>\n",
       "      <td>NaN</td>\n",
       "      <td>NaN</td>\n",
       "      <td>NaN</td>\n",
       "      <td>NaN</td>\n",
       "    </tr>\n",
       "    <tr>\n",
       "      <th>7</th>\n",
       "      <td>0.03</td>\n",
       "      <td>0.00</td>\n",
       "      <td>0.77</td>\n",
       "      <td>0.20</td>\n",
       "      <td>0.15</td>\n",
       "      <td>0.51</td>\n",
       "      <td>0.01</td>\n",
       "      <td>0.14</td>\n",
       "      <td>NaN</td>\n",
       "      <td>NaN</td>\n",
       "      <td>...</td>\n",
       "      <td>NaN</td>\n",
       "      <td>NaN</td>\n",
       "      <td>NaN</td>\n",
       "      <td>NaN</td>\n",
       "      <td>NaN</td>\n",
       "      <td>NaN</td>\n",
       "      <td>NaN</td>\n",
       "      <td>NaN</td>\n",
       "      <td>NaN</td>\n",
       "      <td>NaN</td>\n",
       "    </tr>\n",
       "    <tr>\n",
       "      <th>8</th>\n",
       "      <td>0.32</td>\n",
       "      <td>0.32</td>\n",
       "      <td>0.32</td>\n",
       "      <td>0.32</td>\n",
       "      <td>0.32</td>\n",
       "      <td>0.32</td>\n",
       "      <td>0.00</td>\n",
       "      <td>0.00</td>\n",
       "      <td>NaN</td>\n",
       "      <td>NaN</td>\n",
       "      <td>...</td>\n",
       "      <td>NaN</td>\n",
       "      <td>NaN</td>\n",
       "      <td>NaN</td>\n",
       "      <td>NaN</td>\n",
       "      <td>NaN</td>\n",
       "      <td>NaN</td>\n",
       "      <td>NaN</td>\n",
       "      <td>NaN</td>\n",
       "      <td>NaN</td>\n",
       "      <td>NaN</td>\n",
       "    </tr>\n",
       "    <tr>\n",
       "      <th>9</th>\n",
       "      <td>0.02</td>\n",
       "      <td>0.62</td>\n",
       "      <td>0.29</td>\n",
       "      <td>0.74</td>\n",
       "      <td>0.19</td>\n",
       "      <td>0.64</td>\n",
       "      <td>0.67</td>\n",
       "      <td>0.26</td>\n",
       "      <td>NaN</td>\n",
       "      <td>NaN</td>\n",
       "      <td>...</td>\n",
       "      <td>NaN</td>\n",
       "      <td>NaN</td>\n",
       "      <td>NaN</td>\n",
       "      <td>NaN</td>\n",
       "      <td>NaN</td>\n",
       "      <td>NaN</td>\n",
       "      <td>NaN</td>\n",
       "      <td>NaN</td>\n",
       "      <td>NaN</td>\n",
       "      <td>NaN</td>\n",
       "    </tr>\n",
       "    <tr>\n",
       "      <th>10</th>\n",
       "      <td>NaN</td>\n",
       "      <td>0.19</td>\n",
       "      <td>0.00</td>\n",
       "      <td>0.00</td>\n",
       "      <td>0.04</td>\n",
       "      <td>0.68</td>\n",
       "      <td>0.01</td>\n",
       "      <td>0.00</td>\n",
       "      <td>NaN</td>\n",
       "      <td>NaN</td>\n",
       "      <td>...</td>\n",
       "      <td>NaN</td>\n",
       "      <td>NaN</td>\n",
       "      <td>NaN</td>\n",
       "      <td>NaN</td>\n",
       "      <td>NaN</td>\n",
       "      <td>NaN</td>\n",
       "      <td>NaN</td>\n",
       "      <td>NaN</td>\n",
       "      <td>NaN</td>\n",
       "      <td>NaN</td>\n",
       "    </tr>\n",
       "    <tr>\n",
       "      <th>11</th>\n",
       "      <td>NaN</td>\n",
       "      <td>0.10</td>\n",
       "      <td>0.57</td>\n",
       "      <td>0.58</td>\n",
       "      <td>0.00</td>\n",
       "      <td>0.00</td>\n",
       "      <td>0.56</td>\n",
       "      <td>0.57</td>\n",
       "      <td>NaN</td>\n",
       "      <td>NaN</td>\n",
       "      <td>...</td>\n",
       "      <td>NaN</td>\n",
       "      <td>NaN</td>\n",
       "      <td>NaN</td>\n",
       "      <td>NaN</td>\n",
       "      <td>NaN</td>\n",
       "      <td>NaN</td>\n",
       "      <td>NaN</td>\n",
       "      <td>NaN</td>\n",
       "      <td>NaN</td>\n",
       "      <td>NaN</td>\n",
       "    </tr>\n",
       "    <tr>\n",
       "      <th>12</th>\n",
       "      <td>NaN</td>\n",
       "      <td>0.00</td>\n",
       "      <td>0.13</td>\n",
       "      <td>0.17</td>\n",
       "      <td>0.00</td>\n",
       "      <td>0.03</td>\n",
       "      <td>0.83</td>\n",
       "      <td>0.00</td>\n",
       "      <td>NaN</td>\n",
       "      <td>NaN</td>\n",
       "      <td>...</td>\n",
       "      <td>NaN</td>\n",
       "      <td>NaN</td>\n",
       "      <td>NaN</td>\n",
       "      <td>NaN</td>\n",
       "      <td>NaN</td>\n",
       "      <td>NaN</td>\n",
       "      <td>NaN</td>\n",
       "      <td>NaN</td>\n",
       "      <td>NaN</td>\n",
       "      <td>NaN</td>\n",
       "    </tr>\n",
       "    <tr>\n",
       "      <th>13</th>\n",
       "      <td>NaN</td>\n",
       "      <td>0.00</td>\n",
       "      <td>0.00</td>\n",
       "      <td>0.00</td>\n",
       "      <td>0.00</td>\n",
       "      <td>NaN</td>\n",
       "      <td>NaN</td>\n",
       "      <td>0.83</td>\n",
       "      <td>NaN</td>\n",
       "      <td>NaN</td>\n",
       "      <td>...</td>\n",
       "      <td>NaN</td>\n",
       "      <td>NaN</td>\n",
       "      <td>NaN</td>\n",
       "      <td>NaN</td>\n",
       "      <td>NaN</td>\n",
       "      <td>NaN</td>\n",
       "      <td>NaN</td>\n",
       "      <td>NaN</td>\n",
       "      <td>NaN</td>\n",
       "      <td>NaN</td>\n",
       "    </tr>\n",
       "    <tr>\n",
       "      <th>14</th>\n",
       "      <td>NaN</td>\n",
       "      <td>0.00</td>\n",
       "      <td>0.00</td>\n",
       "      <td>0.00</td>\n",
       "      <td>0.00</td>\n",
       "      <td>0.00</td>\n",
       "      <td>0.00</td>\n",
       "      <td>0.00</td>\n",
       "      <td>NaN</td>\n",
       "      <td>NaN</td>\n",
       "      <td>...</td>\n",
       "      <td>NaN</td>\n",
       "      <td>NaN</td>\n",
       "      <td>NaN</td>\n",
       "      <td>NaN</td>\n",
       "      <td>NaN</td>\n",
       "      <td>NaN</td>\n",
       "      <td>NaN</td>\n",
       "      <td>NaN</td>\n",
       "      <td>NaN</td>\n",
       "      <td>NaN</td>\n",
       "    </tr>\n",
       "  </tbody>\n",
       "</table>\n",
       "<p>14 rows × 31 columns</p>\n",
       "</div>"
      ],
      "text/plain": [
       "data_registro  2024-05-01  2024-05-02  2024-05-03  2024-05-04  2024-05-05  \\\n",
       "linha                                                                       \n",
       "1                    0.00        0.62        0.86        0.76        0.30   \n",
       "2                    0.00        0.65        0.15        0.72        0.20   \n",
       "3                     NaN         NaN         NaN         NaN         NaN   \n",
       "4                    0.00        0.72        0.78        0.81        0.20   \n",
       "5                    0.02        0.65        0.62        0.61        0.13   \n",
       "6                    0.03        0.40        0.13        0.04        0.14   \n",
       "7                    0.03        0.00        0.77        0.20        0.15   \n",
       "8                    0.32        0.32        0.32        0.32        0.32   \n",
       "9                    0.02        0.62        0.29        0.74        0.19   \n",
       "10                    NaN        0.19        0.00        0.00        0.04   \n",
       "11                    NaN        0.10        0.57        0.58        0.00   \n",
       "12                    NaN        0.00        0.13        0.17        0.00   \n",
       "13                    NaN        0.00        0.00        0.00        0.00   \n",
       "14                    NaN        0.00        0.00        0.00        0.00   \n",
       "\n",
       "data_registro  2024-05-06  2024-05-07  2024-05-08  2024-05-09  2024-05-10  \\\n",
       "linha                                                                       \n",
       "1                    0.80        0.88        0.87         NaN         NaN   \n",
       "2                    0.76        0.46        0.77         NaN         NaN   \n",
       "3                     NaN        0.00        0.00         NaN         NaN   \n",
       "4                    0.50        0.00        0.78         NaN         NaN   \n",
       "5                    0.87        0.55        0.49         NaN         NaN   \n",
       "6                    0.53        0.16        0.52         NaN         NaN   \n",
       "7                    0.51        0.01        0.14         NaN         NaN   \n",
       "8                    0.32        0.00        0.00         NaN         NaN   \n",
       "9                    0.64        0.67        0.26         NaN         NaN   \n",
       "10                   0.68        0.01        0.00         NaN         NaN   \n",
       "11                   0.00        0.56        0.57         NaN         NaN   \n",
       "12                   0.03        0.83        0.00         NaN         NaN   \n",
       "13                    NaN         NaN        0.83         NaN         NaN   \n",
       "14                   0.00        0.00        0.00         NaN         NaN   \n",
       "\n",
       "data_registro  ...  2024-05-22  2024-05-23  2024-05-24  2024-05-25  \\\n",
       "linha          ...                                                   \n",
       "1              ...         NaN         NaN         NaN         NaN   \n",
       "2              ...         NaN         NaN         NaN         NaN   \n",
       "3              ...         NaN         NaN         NaN         NaN   \n",
       "4              ...         NaN         NaN         NaN         NaN   \n",
       "5              ...         NaN         NaN         NaN         NaN   \n",
       "6              ...         NaN         NaN         NaN         NaN   \n",
       "7              ...         NaN         NaN         NaN         NaN   \n",
       "8              ...         NaN         NaN         NaN         NaN   \n",
       "9              ...         NaN         NaN         NaN         NaN   \n",
       "10             ...         NaN         NaN         NaN         NaN   \n",
       "11             ...         NaN         NaN         NaN         NaN   \n",
       "12             ...         NaN         NaN         NaN         NaN   \n",
       "13             ...         NaN         NaN         NaN         NaN   \n",
       "14             ...         NaN         NaN         NaN         NaN   \n",
       "\n",
       "data_registro  2024-05-26  2024-05-27  2024-05-28  2024-05-29  2024-05-30  \\\n",
       "linha                                                                       \n",
       "1                     NaN         NaN         NaN         NaN         NaN   \n",
       "2                     NaN         NaN         NaN         NaN         NaN   \n",
       "3                     NaN         NaN         NaN         NaN         NaN   \n",
       "4                     NaN         NaN         NaN         NaN         NaN   \n",
       "5                     NaN         NaN         NaN         NaN         NaN   \n",
       "6                     NaN         NaN         NaN         NaN         NaN   \n",
       "7                     NaN         NaN         NaN         NaN         NaN   \n",
       "8                     NaN         NaN         NaN         NaN         NaN   \n",
       "9                     NaN         NaN         NaN         NaN         NaN   \n",
       "10                    NaN         NaN         NaN         NaN         NaN   \n",
       "11                    NaN         NaN         NaN         NaN         NaN   \n",
       "12                    NaN         NaN         NaN         NaN         NaN   \n",
       "13                    NaN         NaN         NaN         NaN         NaN   \n",
       "14                    NaN         NaN         NaN         NaN         NaN   \n",
       "\n",
       "data_registro  2024-05-31  \n",
       "linha                      \n",
       "1                     NaN  \n",
       "2                     NaN  \n",
       "3                     NaN  \n",
       "4                     NaN  \n",
       "5                     NaN  \n",
       "6                     NaN  \n",
       "7                     NaN  \n",
       "8                     NaN  \n",
       "9                     NaN  \n",
       "10                    NaN  \n",
       "11                    NaN  \n",
       "12                    NaN  \n",
       "13                    NaN  \n",
       "14                    NaN  \n",
       "\n",
       "[14 rows x 31 columns]"
      ]
     },
     "execution_count": 28,
     "metadata": {},
     "output_type": "execute_result"
    }
   ],
   "source": [
    "heat_noturno, _, _, heat_main = indicators_class.get_heatmap_data(IndicatorType.EFFICIENCY)\n",
    "heat_noturno"
   ]
  },
  {
   "cell_type": "code",
   "execution_count": 29,
   "metadata": {},
   "outputs": [
    {
     "data": {
      "text/html": [
       "<div>\n",
       "<style scoped>\n",
       "    .dataframe tbody tr th:only-of-type {\n",
       "        vertical-align: middle;\n",
       "    }\n",
       "\n",
       "    .dataframe tbody tr th {\n",
       "        vertical-align: top;\n",
       "    }\n",
       "\n",
       "    .dataframe thead th {\n",
       "        text-align: right;\n",
       "    }\n",
       "</style>\n",
       "<table border=\"1\" class=\"dataframe\">\n",
       "  <thead>\n",
       "    <tr style=\"text-align: right;\">\n",
       "      <th>data_registro</th>\n",
       "      <th>2024-05-01</th>\n",
       "      <th>2024-05-02</th>\n",
       "      <th>2024-05-03</th>\n",
       "      <th>2024-05-04</th>\n",
       "      <th>2024-05-05</th>\n",
       "      <th>2024-05-06</th>\n",
       "      <th>2024-05-07</th>\n",
       "      <th>2024-05-08</th>\n",
       "      <th>2024-05-09</th>\n",
       "      <th>2024-05-10</th>\n",
       "      <th>...</th>\n",
       "      <th>2024-05-22</th>\n",
       "      <th>2024-05-23</th>\n",
       "      <th>2024-05-24</th>\n",
       "      <th>2024-05-25</th>\n",
       "      <th>2024-05-26</th>\n",
       "      <th>2024-05-27</th>\n",
       "      <th>2024-05-28</th>\n",
       "      <th>2024-05-29</th>\n",
       "      <th>2024-05-30</th>\n",
       "      <th>2024-05-31</th>\n",
       "    </tr>\n",
       "    <tr>\n",
       "      <th>turno</th>\n",
       "      <th></th>\n",
       "      <th></th>\n",
       "      <th></th>\n",
       "      <th></th>\n",
       "      <th></th>\n",
       "      <th></th>\n",
       "      <th></th>\n",
       "      <th></th>\n",
       "      <th></th>\n",
       "      <th></th>\n",
       "      <th></th>\n",
       "      <th></th>\n",
       "      <th></th>\n",
       "      <th></th>\n",
       "      <th></th>\n",
       "      <th></th>\n",
       "      <th></th>\n",
       "      <th></th>\n",
       "      <th></th>\n",
       "      <th></th>\n",
       "      <th></th>\n",
       "    </tr>\n",
       "  </thead>\n",
       "  <tbody>\n",
       "    <tr>\n",
       "      <th>NOT</th>\n",
       "      <td>0.0525</td>\n",
       "      <td>0.328462</td>\n",
       "      <td>0.355385</td>\n",
       "      <td>0.380769</td>\n",
       "      <td>0.128462</td>\n",
       "      <td>0.470000</td>\n",
       "      <td>0.317692</td>\n",
       "      <td>0.373571</td>\n",
       "      <td>NaN</td>\n",
       "      <td>NaN</td>\n",
       "      <td>...</td>\n",
       "      <td>NaN</td>\n",
       "      <td>NaN</td>\n",
       "      <td>NaN</td>\n",
       "      <td>NaN</td>\n",
       "      <td>NaN</td>\n",
       "      <td>NaN</td>\n",
       "      <td>NaN</td>\n",
       "      <td>NaN</td>\n",
       "      <td>NaN</td>\n",
       "      <td>NaN</td>\n",
       "    </tr>\n",
       "    <tr>\n",
       "      <th>MAT</th>\n",
       "      <td>0.0525</td>\n",
       "      <td>0.303077</td>\n",
       "      <td>0.360000</td>\n",
       "      <td>0.442308</td>\n",
       "      <td>0.352308</td>\n",
       "      <td>0.366923</td>\n",
       "      <td>0.379286</td>\n",
       "      <td>0.437143</td>\n",
       "      <td>NaN</td>\n",
       "      <td>NaN</td>\n",
       "      <td>...</td>\n",
       "      <td>NaN</td>\n",
       "      <td>NaN</td>\n",
       "      <td>NaN</td>\n",
       "      <td>NaN</td>\n",
       "      <td>NaN</td>\n",
       "      <td>NaN</td>\n",
       "      <td>NaN</td>\n",
       "      <td>NaN</td>\n",
       "      <td>NaN</td>\n",
       "      <td>NaN</td>\n",
       "    </tr>\n",
       "    <tr>\n",
       "      <th>VES</th>\n",
       "      <td>0.0300</td>\n",
       "      <td>0.333846</td>\n",
       "      <td>0.432308</td>\n",
       "      <td>0.145385</td>\n",
       "      <td>0.339167</td>\n",
       "      <td>0.386154</td>\n",
       "      <td>0.366429</td>\n",
       "      <td>NaN</td>\n",
       "      <td>NaN</td>\n",
       "      <td>NaN</td>\n",
       "      <td>...</td>\n",
       "      <td>NaN</td>\n",
       "      <td>NaN</td>\n",
       "      <td>NaN</td>\n",
       "      <td>NaN</td>\n",
       "      <td>NaN</td>\n",
       "      <td>NaN</td>\n",
       "      <td>NaN</td>\n",
       "      <td>NaN</td>\n",
       "      <td>NaN</td>\n",
       "      <td>NaN</td>\n",
       "    </tr>\n",
       "  </tbody>\n",
       "</table>\n",
       "<p>3 rows × 31 columns</p>\n",
       "</div>"
      ],
      "text/plain": [
       "data_registro  2024-05-01  2024-05-02  2024-05-03  2024-05-04  2024-05-05  \\\n",
       "turno                                                                       \n",
       "NOT                0.0525    0.328462    0.355385    0.380769    0.128462   \n",
       "MAT                0.0525    0.303077    0.360000    0.442308    0.352308   \n",
       "VES                0.0300    0.333846    0.432308    0.145385    0.339167   \n",
       "\n",
       "data_registro  2024-05-06  2024-05-07  2024-05-08  2024-05-09  2024-05-10  \\\n",
       "turno                                                                       \n",
       "NOT              0.470000    0.317692    0.373571         NaN         NaN   \n",
       "MAT              0.366923    0.379286    0.437143         NaN         NaN   \n",
       "VES              0.386154    0.366429         NaN         NaN         NaN   \n",
       "\n",
       "data_registro  ...  2024-05-22  2024-05-23  2024-05-24  2024-05-25  \\\n",
       "turno          ...                                                   \n",
       "NOT            ...         NaN         NaN         NaN         NaN   \n",
       "MAT            ...         NaN         NaN         NaN         NaN   \n",
       "VES            ...         NaN         NaN         NaN         NaN   \n",
       "\n",
       "data_registro  2024-05-26  2024-05-27  2024-05-28  2024-05-29  2024-05-30  \\\n",
       "turno                                                                       \n",
       "NOT                   NaN         NaN         NaN         NaN         NaN   \n",
       "MAT                   NaN         NaN         NaN         NaN         NaN   \n",
       "VES                   NaN         NaN         NaN         NaN         NaN   \n",
       "\n",
       "data_registro  2024-05-31  \n",
       "turno                      \n",
       "NOT                   NaN  \n",
       "MAT                   NaN  \n",
       "VES                   NaN  \n",
       "\n",
       "[3 rows x 31 columns]"
      ]
     },
     "execution_count": 29,
     "metadata": {},
     "output_type": "execute_result"
    }
   ],
   "source": [
    "heat_main"
   ]
  },
  {
   "cell_type": "code",
   "execution_count": 30,
   "metadata": {},
   "outputs": [
    {
     "data": {
      "text/plain": [
       "[{'x': 1,\n",
       "  'y': 1,\n",
       "  'text': '0.0%',\n",
       "  'xref': 'x',\n",
       "  'yref': 'y',\n",
       "  'showarrow': False,\n",
       "  'font': {'size': 10, 'color': 'white'}},\n",
       " {'x': 2,\n",
       "  'y': 1,\n",
       "  'text': '62.0%',\n",
       "  'xref': 'x',\n",
       "  'yref': 'y',\n",
       "  'showarrow': False,\n",
       "  'font': {'size': 10, 'color': 'white'}},\n",
       " {'x': 3,\n",
       "  'y': 1,\n",
       "  'text': '86.0%',\n",
       "  'xref': 'x',\n",
       "  'yref': 'y',\n",
       "  'showarrow': False,\n",
       "  'font': {'size': 10, 'color': 'white'}},\n",
       " {'x': 4,\n",
       "  'y': 1,\n",
       "  'text': '76.0%',\n",
       "  'xref': 'x',\n",
       "  'yref': 'y',\n",
       "  'showarrow': False,\n",
       "  'font': {'size': 10, 'color': 'white'}},\n",
       " {'x': 5,\n",
       "  'y': 1,\n",
       "  'text': '30.0%',\n",
       "  'xref': 'x',\n",
       "  'yref': 'y',\n",
       "  'showarrow': False,\n",
       "  'font': {'size': 10, 'color': 'white'}},\n",
       " {'x': 6,\n",
       "  'y': 1,\n",
       "  'text': '80.0%',\n",
       "  'xref': 'x',\n",
       "  'yref': 'y',\n",
       "  'showarrow': False,\n",
       "  'font': {'size': 10, 'color': 'white'}},\n",
       " {'x': 7,\n",
       "  'y': 1,\n",
       "  'text': '88.0%',\n",
       "  'xref': 'x',\n",
       "  'yref': 'y',\n",
       "  'showarrow': False,\n",
       "  'font': {'size': 10, 'color': 'white'}},\n",
       " {'x': 8,\n",
       "  'y': 1,\n",
       "  'text': '87.0%',\n",
       "  'xref': 'x',\n",
       "  'yref': 'y',\n",
       "  'showarrow': False,\n",
       "  'font': {'size': 10, 'color': 'white'}},\n",
       " {'x': 1,\n",
       "  'y': 2,\n",
       "  'text': '0.0%',\n",
       "  'xref': 'x',\n",
       "  'yref': 'y',\n",
       "  'showarrow': False,\n",
       "  'font': {'size': 10, 'color': 'white'}},\n",
       " {'x': 2,\n",
       "  'y': 2,\n",
       "  'text': '65.0%',\n",
       "  'xref': 'x',\n",
       "  'yref': 'y',\n",
       "  'showarrow': False,\n",
       "  'font': {'size': 10, 'color': 'white'}},\n",
       " {'x': 3,\n",
       "  'y': 2,\n",
       "  'text': '15.0%',\n",
       "  'xref': 'x',\n",
       "  'yref': 'y',\n",
       "  'showarrow': False,\n",
       "  'font': {'size': 10, 'color': 'white'}},\n",
       " {'x': 4,\n",
       "  'y': 2,\n",
       "  'text': '72.0%',\n",
       "  'xref': 'x',\n",
       "  'yref': 'y',\n",
       "  'showarrow': False,\n",
       "  'font': {'size': 10, 'color': 'white'}},\n",
       " {'x': 5,\n",
       "  'y': 2,\n",
       "  'text': '20.0%',\n",
       "  'xref': 'x',\n",
       "  'yref': 'y',\n",
       "  'showarrow': False,\n",
       "  'font': {'size': 10, 'color': 'white'}},\n",
       " {'x': 6,\n",
       "  'y': 2,\n",
       "  'text': '76.0%',\n",
       "  'xref': 'x',\n",
       "  'yref': 'y',\n",
       "  'showarrow': False,\n",
       "  'font': {'size': 10, 'color': 'white'}},\n",
       " {'x': 7,\n",
       "  'y': 2,\n",
       "  'text': '46.0%',\n",
       "  'xref': 'x',\n",
       "  'yref': 'y',\n",
       "  'showarrow': False,\n",
       "  'font': {'size': 10, 'color': 'white'}},\n",
       " {'x': 8,\n",
       "  'y': 2,\n",
       "  'text': '77.0%',\n",
       "  'xref': 'x',\n",
       "  'yref': 'y',\n",
       "  'showarrow': False,\n",
       "  'font': {'size': 10, 'color': 'white'}},\n",
       " {'x': 7,\n",
       "  'y': 3,\n",
       "  'text': '0.0%',\n",
       "  'xref': 'x',\n",
       "  'yref': 'y',\n",
       "  'showarrow': False,\n",
       "  'font': {'size': 10, 'color': 'white'}},\n",
       " {'x': 8,\n",
       "  'y': 3,\n",
       "  'text': '0.0%',\n",
       "  'xref': 'x',\n",
       "  'yref': 'y',\n",
       "  'showarrow': False,\n",
       "  'font': {'size': 10, 'color': 'white'}},\n",
       " {'x': 1,\n",
       "  'y': 4,\n",
       "  'text': '0.0%',\n",
       "  'xref': 'x',\n",
       "  'yref': 'y',\n",
       "  'showarrow': False,\n",
       "  'font': {'size': 10, 'color': 'white'}},\n",
       " {'x': 2,\n",
       "  'y': 4,\n",
       "  'text': '72.0%',\n",
       "  'xref': 'x',\n",
       "  'yref': 'y',\n",
       "  'showarrow': False,\n",
       "  'font': {'size': 10, 'color': 'white'}},\n",
       " {'x': 3,\n",
       "  'y': 4,\n",
       "  'text': '78.0%',\n",
       "  'xref': 'x',\n",
       "  'yref': 'y',\n",
       "  'showarrow': False,\n",
       "  'font': {'size': 10, 'color': 'white'}},\n",
       " {'x': 4,\n",
       "  'y': 4,\n",
       "  'text': '81.0%',\n",
       "  'xref': 'x',\n",
       "  'yref': 'y',\n",
       "  'showarrow': False,\n",
       "  'font': {'size': 10, 'color': 'white'}},\n",
       " {'x': 5,\n",
       "  'y': 4,\n",
       "  'text': '20.0%',\n",
       "  'xref': 'x',\n",
       "  'yref': 'y',\n",
       "  'showarrow': False,\n",
       "  'font': {'size': 10, 'color': 'white'}},\n",
       " {'x': 6,\n",
       "  'y': 4,\n",
       "  'text': '50.0%',\n",
       "  'xref': 'x',\n",
       "  'yref': 'y',\n",
       "  'showarrow': False,\n",
       "  'font': {'size': 10, 'color': 'white'}},\n",
       " {'x': 7,\n",
       "  'y': 4,\n",
       "  'text': '0.0%',\n",
       "  'xref': 'x',\n",
       "  'yref': 'y',\n",
       "  'showarrow': False,\n",
       "  'font': {'size': 10, 'color': 'white'}},\n",
       " {'x': 8,\n",
       "  'y': 4,\n",
       "  'text': '78.0%',\n",
       "  'xref': 'x',\n",
       "  'yref': 'y',\n",
       "  'showarrow': False,\n",
       "  'font': {'size': 10, 'color': 'white'}},\n",
       " {'x': 1,\n",
       "  'y': 5,\n",
       "  'text': '2.0%',\n",
       "  'xref': 'x',\n",
       "  'yref': 'y',\n",
       "  'showarrow': False,\n",
       "  'font': {'size': 10, 'color': 'white'}},\n",
       " {'x': 2,\n",
       "  'y': 5,\n",
       "  'text': '65.0%',\n",
       "  'xref': 'x',\n",
       "  'yref': 'y',\n",
       "  'showarrow': False,\n",
       "  'font': {'size': 10, 'color': 'white'}},\n",
       " {'x': 3,\n",
       "  'y': 5,\n",
       "  'text': '62.0%',\n",
       "  'xref': 'x',\n",
       "  'yref': 'y',\n",
       "  'showarrow': False,\n",
       "  'font': {'size': 10, 'color': 'white'}},\n",
       " {'x': 4,\n",
       "  'y': 5,\n",
       "  'text': '61.0%',\n",
       "  'xref': 'x',\n",
       "  'yref': 'y',\n",
       "  'showarrow': False,\n",
       "  'font': {'size': 10, 'color': 'white'}},\n",
       " {'x': 5,\n",
       "  'y': 5,\n",
       "  'text': '13.0%',\n",
       "  'xref': 'x',\n",
       "  'yref': 'y',\n",
       "  'showarrow': False,\n",
       "  'font': {'size': 10, 'color': 'white'}},\n",
       " {'x': 6,\n",
       "  'y': 5,\n",
       "  'text': '87.0%',\n",
       "  'xref': 'x',\n",
       "  'yref': 'y',\n",
       "  'showarrow': False,\n",
       "  'font': {'size': 10, 'color': 'white'}},\n",
       " {'x': 7,\n",
       "  'y': 5,\n",
       "  'text': '55.0%',\n",
       "  'xref': 'x',\n",
       "  'yref': 'y',\n",
       "  'showarrow': False,\n",
       "  'font': {'size': 10, 'color': 'white'}},\n",
       " {'x': 8,\n",
       "  'y': 5,\n",
       "  'text': '49.0%',\n",
       "  'xref': 'x',\n",
       "  'yref': 'y',\n",
       "  'showarrow': False,\n",
       "  'font': {'size': 10, 'color': 'white'}},\n",
       " {'x': 1,\n",
       "  'y': 6,\n",
       "  'text': '3.0%',\n",
       "  'xref': 'x',\n",
       "  'yref': 'y',\n",
       "  'showarrow': False,\n",
       "  'font': {'size': 10, 'color': 'white'}},\n",
       " {'x': 2,\n",
       "  'y': 6,\n",
       "  'text': '40.0%',\n",
       "  'xref': 'x',\n",
       "  'yref': 'y',\n",
       "  'showarrow': False,\n",
       "  'font': {'size': 10, 'color': 'white'}},\n",
       " {'x': 3,\n",
       "  'y': 6,\n",
       "  'text': '13.0%',\n",
       "  'xref': 'x',\n",
       "  'yref': 'y',\n",
       "  'showarrow': False,\n",
       "  'font': {'size': 10, 'color': 'white'}},\n",
       " {'x': 4,\n",
       "  'y': 6,\n",
       "  'text': '4.0%',\n",
       "  'xref': 'x',\n",
       "  'yref': 'y',\n",
       "  'showarrow': False,\n",
       "  'font': {'size': 10, 'color': 'white'}},\n",
       " {'x': 5,\n",
       "  'y': 6,\n",
       "  'text': '14.0%',\n",
       "  'xref': 'x',\n",
       "  'yref': 'y',\n",
       "  'showarrow': False,\n",
       "  'font': {'size': 10, 'color': 'white'}},\n",
       " {'x': 6,\n",
       "  'y': 6,\n",
       "  'text': '53.0%',\n",
       "  'xref': 'x',\n",
       "  'yref': 'y',\n",
       "  'showarrow': False,\n",
       "  'font': {'size': 10, 'color': 'white'}},\n",
       " {'x': 7,\n",
       "  'y': 6,\n",
       "  'text': '16.0%',\n",
       "  'xref': 'x',\n",
       "  'yref': 'y',\n",
       "  'showarrow': False,\n",
       "  'font': {'size': 10, 'color': 'white'}},\n",
       " {'x': 8,\n",
       "  'y': 6,\n",
       "  'text': '52.0%',\n",
       "  'xref': 'x',\n",
       "  'yref': 'y',\n",
       "  'showarrow': False,\n",
       "  'font': {'size': 10, 'color': 'white'}},\n",
       " {'x': 1,\n",
       "  'y': 7,\n",
       "  'text': '3.0%',\n",
       "  'xref': 'x',\n",
       "  'yref': 'y',\n",
       "  'showarrow': False,\n",
       "  'font': {'size': 10, 'color': 'white'}},\n",
       " {'x': 2,\n",
       "  'y': 7,\n",
       "  'text': '0.0%',\n",
       "  'xref': 'x',\n",
       "  'yref': 'y',\n",
       "  'showarrow': False,\n",
       "  'font': {'size': 10, 'color': 'white'}},\n",
       " {'x': 3,\n",
       "  'y': 7,\n",
       "  'text': '77.0%',\n",
       "  'xref': 'x',\n",
       "  'yref': 'y',\n",
       "  'showarrow': False,\n",
       "  'font': {'size': 10, 'color': 'white'}},\n",
       " {'x': 4,\n",
       "  'y': 7,\n",
       "  'text': '20.0%',\n",
       "  'xref': 'x',\n",
       "  'yref': 'y',\n",
       "  'showarrow': False,\n",
       "  'font': {'size': 10, 'color': 'white'}},\n",
       " {'x': 5,\n",
       "  'y': 7,\n",
       "  'text': '15.0%',\n",
       "  'xref': 'x',\n",
       "  'yref': 'y',\n",
       "  'showarrow': False,\n",
       "  'font': {'size': 10, 'color': 'white'}},\n",
       " {'x': 6,\n",
       "  'y': 7,\n",
       "  'text': '51.0%',\n",
       "  'xref': 'x',\n",
       "  'yref': 'y',\n",
       "  'showarrow': False,\n",
       "  'font': {'size': 10, 'color': 'white'}},\n",
       " {'x': 7,\n",
       "  'y': 7,\n",
       "  'text': '1.0%',\n",
       "  'xref': 'x',\n",
       "  'yref': 'y',\n",
       "  'showarrow': False,\n",
       "  'font': {'size': 10, 'color': 'white'}},\n",
       " {'x': 8,\n",
       "  'y': 7,\n",
       "  'text': '14.0%',\n",
       "  'xref': 'x',\n",
       "  'yref': 'y',\n",
       "  'showarrow': False,\n",
       "  'font': {'size': 10, 'color': 'white'}},\n",
       " {'x': 1,\n",
       "  'y': 8,\n",
       "  'text': '32.0%',\n",
       "  'xref': 'x',\n",
       "  'yref': 'y',\n",
       "  'showarrow': False,\n",
       "  'font': {'size': 10, 'color': 'white'}},\n",
       " {'x': 2,\n",
       "  'y': 8,\n",
       "  'text': '32.0%',\n",
       "  'xref': 'x',\n",
       "  'yref': 'y',\n",
       "  'showarrow': False,\n",
       "  'font': {'size': 10, 'color': 'white'}},\n",
       " {'x': 3,\n",
       "  'y': 8,\n",
       "  'text': '32.0%',\n",
       "  'xref': 'x',\n",
       "  'yref': 'y',\n",
       "  'showarrow': False,\n",
       "  'font': {'size': 10, 'color': 'white'}},\n",
       " {'x': 4,\n",
       "  'y': 8,\n",
       "  'text': '32.0%',\n",
       "  'xref': 'x',\n",
       "  'yref': 'y',\n",
       "  'showarrow': False,\n",
       "  'font': {'size': 10, 'color': 'white'}},\n",
       " {'x': 5,\n",
       "  'y': 8,\n",
       "  'text': '32.0%',\n",
       "  'xref': 'x',\n",
       "  'yref': 'y',\n",
       "  'showarrow': False,\n",
       "  'font': {'size': 10, 'color': 'white'}},\n",
       " {'x': 6,\n",
       "  'y': 8,\n",
       "  'text': '32.0%',\n",
       "  'xref': 'x',\n",
       "  'yref': 'y',\n",
       "  'showarrow': False,\n",
       "  'font': {'size': 10, 'color': 'white'}},\n",
       " {'x': 7,\n",
       "  'y': 8,\n",
       "  'text': '0.0%',\n",
       "  'xref': 'x',\n",
       "  'yref': 'y',\n",
       "  'showarrow': False,\n",
       "  'font': {'size': 10, 'color': 'white'}},\n",
       " {'x': 8,\n",
       "  'y': 8,\n",
       "  'text': '0.0%',\n",
       "  'xref': 'x',\n",
       "  'yref': 'y',\n",
       "  'showarrow': False,\n",
       "  'font': {'size': 10, 'color': 'white'}},\n",
       " {'x': 1,\n",
       "  'y': 9,\n",
       "  'text': '2.0%',\n",
       "  'xref': 'x',\n",
       "  'yref': 'y',\n",
       "  'showarrow': False,\n",
       "  'font': {'size': 10, 'color': 'white'}},\n",
       " {'x': 2,\n",
       "  'y': 9,\n",
       "  'text': '62.0%',\n",
       "  'xref': 'x',\n",
       "  'yref': 'y',\n",
       "  'showarrow': False,\n",
       "  'font': {'size': 10, 'color': 'white'}},\n",
       " {'x': 3,\n",
       "  'y': 9,\n",
       "  'text': '29.0%',\n",
       "  'xref': 'x',\n",
       "  'yref': 'y',\n",
       "  'showarrow': False,\n",
       "  'font': {'size': 10, 'color': 'white'}},\n",
       " {'x': 4,\n",
       "  'y': 9,\n",
       "  'text': '74.0%',\n",
       "  'xref': 'x',\n",
       "  'yref': 'y',\n",
       "  'showarrow': False,\n",
       "  'font': {'size': 10, 'color': 'white'}},\n",
       " {'x': 5,\n",
       "  'y': 9,\n",
       "  'text': '19.0%',\n",
       "  'xref': 'x',\n",
       "  'yref': 'y',\n",
       "  'showarrow': False,\n",
       "  'font': {'size': 10, 'color': 'white'}},\n",
       " {'x': 6,\n",
       "  'y': 9,\n",
       "  'text': '64.0%',\n",
       "  'xref': 'x',\n",
       "  'yref': 'y',\n",
       "  'showarrow': False,\n",
       "  'font': {'size': 10, 'color': 'white'}},\n",
       " {'x': 7,\n",
       "  'y': 9,\n",
       "  'text': '67.0%',\n",
       "  'xref': 'x',\n",
       "  'yref': 'y',\n",
       "  'showarrow': False,\n",
       "  'font': {'size': 10, 'color': 'white'}},\n",
       " {'x': 8,\n",
       "  'y': 9,\n",
       "  'text': '26.0%',\n",
       "  'xref': 'x',\n",
       "  'yref': 'y',\n",
       "  'showarrow': False,\n",
       "  'font': {'size': 10, 'color': 'white'}},\n",
       " {'x': 2,\n",
       "  'y': 10,\n",
       "  'text': '19.0%',\n",
       "  'xref': 'x',\n",
       "  'yref': 'y',\n",
       "  'showarrow': False,\n",
       "  'font': {'size': 10, 'color': 'white'}},\n",
       " {'x': 3,\n",
       "  'y': 10,\n",
       "  'text': '0.0%',\n",
       "  'xref': 'x',\n",
       "  'yref': 'y',\n",
       "  'showarrow': False,\n",
       "  'font': {'size': 10, 'color': 'white'}},\n",
       " {'x': 4,\n",
       "  'y': 10,\n",
       "  'text': '0.0%',\n",
       "  'xref': 'x',\n",
       "  'yref': 'y',\n",
       "  'showarrow': False,\n",
       "  'font': {'size': 10, 'color': 'white'}},\n",
       " {'x': 5,\n",
       "  'y': 10,\n",
       "  'text': '4.0%',\n",
       "  'xref': 'x',\n",
       "  'yref': 'y',\n",
       "  'showarrow': False,\n",
       "  'font': {'size': 10, 'color': 'white'}},\n",
       " {'x': 6,\n",
       "  'y': 10,\n",
       "  'text': '68.0%',\n",
       "  'xref': 'x',\n",
       "  'yref': 'y',\n",
       "  'showarrow': False,\n",
       "  'font': {'size': 10, 'color': 'white'}},\n",
       " {'x': 7,\n",
       "  'y': 10,\n",
       "  'text': '1.0%',\n",
       "  'xref': 'x',\n",
       "  'yref': 'y',\n",
       "  'showarrow': False,\n",
       "  'font': {'size': 10, 'color': 'white'}},\n",
       " {'x': 8,\n",
       "  'y': 10,\n",
       "  'text': '0.0%',\n",
       "  'xref': 'x',\n",
       "  'yref': 'y',\n",
       "  'showarrow': False,\n",
       "  'font': {'size': 10, 'color': 'white'}},\n",
       " {'x': 2,\n",
       "  'y': 11,\n",
       "  'text': '10.0%',\n",
       "  'xref': 'x',\n",
       "  'yref': 'y',\n",
       "  'showarrow': False,\n",
       "  'font': {'size': 10, 'color': 'white'}},\n",
       " {'x': 3,\n",
       "  'y': 11,\n",
       "  'text': '57.0%',\n",
       "  'xref': 'x',\n",
       "  'yref': 'y',\n",
       "  'showarrow': False,\n",
       "  'font': {'size': 10, 'color': 'white'}},\n",
       " {'x': 4,\n",
       "  'y': 11,\n",
       "  'text': '58.0%',\n",
       "  'xref': 'x',\n",
       "  'yref': 'y',\n",
       "  'showarrow': False,\n",
       "  'font': {'size': 10, 'color': 'white'}},\n",
       " {'x': 5,\n",
       "  'y': 11,\n",
       "  'text': '0.0%',\n",
       "  'xref': 'x',\n",
       "  'yref': 'y',\n",
       "  'showarrow': False,\n",
       "  'font': {'size': 10, 'color': 'white'}},\n",
       " {'x': 6,\n",
       "  'y': 11,\n",
       "  'text': '0.0%',\n",
       "  'xref': 'x',\n",
       "  'yref': 'y',\n",
       "  'showarrow': False,\n",
       "  'font': {'size': 10, 'color': 'white'}},\n",
       " {'x': 7,\n",
       "  'y': 11,\n",
       "  'text': '56.0%',\n",
       "  'xref': 'x',\n",
       "  'yref': 'y',\n",
       "  'showarrow': False,\n",
       "  'font': {'size': 10, 'color': 'white'}},\n",
       " {'x': 8,\n",
       "  'y': 11,\n",
       "  'text': '57.0%',\n",
       "  'xref': 'x',\n",
       "  'yref': 'y',\n",
       "  'showarrow': False,\n",
       "  'font': {'size': 10, 'color': 'white'}},\n",
       " {'x': 2,\n",
       "  'y': 12,\n",
       "  'text': '0.0%',\n",
       "  'xref': 'x',\n",
       "  'yref': 'y',\n",
       "  'showarrow': False,\n",
       "  'font': {'size': 10, 'color': 'white'}},\n",
       " {'x': 3,\n",
       "  'y': 12,\n",
       "  'text': '13.0%',\n",
       "  'xref': 'x',\n",
       "  'yref': 'y',\n",
       "  'showarrow': False,\n",
       "  'font': {'size': 10, 'color': 'white'}},\n",
       " {'x': 4,\n",
       "  'y': 12,\n",
       "  'text': '17.0%',\n",
       "  'xref': 'x',\n",
       "  'yref': 'y',\n",
       "  'showarrow': False,\n",
       "  'font': {'size': 10, 'color': 'white'}},\n",
       " {'x': 5,\n",
       "  'y': 12,\n",
       "  'text': '0.0%',\n",
       "  'xref': 'x',\n",
       "  'yref': 'y',\n",
       "  'showarrow': False,\n",
       "  'font': {'size': 10, 'color': 'white'}},\n",
       " {'x': 6,\n",
       "  'y': 12,\n",
       "  'text': '3.0%',\n",
       "  'xref': 'x',\n",
       "  'yref': 'y',\n",
       "  'showarrow': False,\n",
       "  'font': {'size': 10, 'color': 'white'}},\n",
       " {'x': 7,\n",
       "  'y': 12,\n",
       "  'text': '83.0%',\n",
       "  'xref': 'x',\n",
       "  'yref': 'y',\n",
       "  'showarrow': False,\n",
       "  'font': {'size': 10, 'color': 'white'}},\n",
       " {'x': 8,\n",
       "  'y': 12,\n",
       "  'text': '0.0%',\n",
       "  'xref': 'x',\n",
       "  'yref': 'y',\n",
       "  'showarrow': False,\n",
       "  'font': {'size': 10, 'color': 'white'}},\n",
       " {'x': 2,\n",
       "  'y': 13,\n",
       "  'text': '0.0%',\n",
       "  'xref': 'x',\n",
       "  'yref': 'y',\n",
       "  'showarrow': False,\n",
       "  'font': {'size': 10, 'color': 'white'}},\n",
       " {'x': 3,\n",
       "  'y': 13,\n",
       "  'text': '0.0%',\n",
       "  'xref': 'x',\n",
       "  'yref': 'y',\n",
       "  'showarrow': False,\n",
       "  'font': {'size': 10, 'color': 'white'}},\n",
       " {'x': 4,\n",
       "  'y': 13,\n",
       "  'text': '0.0%',\n",
       "  'xref': 'x',\n",
       "  'yref': 'y',\n",
       "  'showarrow': False,\n",
       "  'font': {'size': 10, 'color': 'white'}},\n",
       " {'x': 5,\n",
       "  'y': 13,\n",
       "  'text': '0.0%',\n",
       "  'xref': 'x',\n",
       "  'yref': 'y',\n",
       "  'showarrow': False,\n",
       "  'font': {'size': 10, 'color': 'white'}},\n",
       " {'x': 8,\n",
       "  'y': 13,\n",
       "  'text': '83.0%',\n",
       "  'xref': 'x',\n",
       "  'yref': 'y',\n",
       "  'showarrow': False,\n",
       "  'font': {'size': 10, 'color': 'white'}},\n",
       " {'x': 2,\n",
       "  'y': 14,\n",
       "  'text': '0.0%',\n",
       "  'xref': 'x',\n",
       "  'yref': 'y',\n",
       "  'showarrow': False,\n",
       "  'font': {'size': 10, 'color': 'white'}},\n",
       " {'x': 3,\n",
       "  'y': 14,\n",
       "  'text': '0.0%',\n",
       "  'xref': 'x',\n",
       "  'yref': 'y',\n",
       "  'showarrow': False,\n",
       "  'font': {'size': 10, 'color': 'white'}},\n",
       " {'x': 4,\n",
       "  'y': 14,\n",
       "  'text': '0.0%',\n",
       "  'xref': 'x',\n",
       "  'yref': 'y',\n",
       "  'showarrow': False,\n",
       "  'font': {'size': 10, 'color': 'white'}},\n",
       " {'x': 5,\n",
       "  'y': 14,\n",
       "  'text': '0.0%',\n",
       "  'xref': 'x',\n",
       "  'yref': 'y',\n",
       "  'showarrow': False,\n",
       "  'font': {'size': 10, 'color': 'white'}},\n",
       " {'x': 6,\n",
       "  'y': 14,\n",
       "  'text': '0.0%',\n",
       "  'xref': 'x',\n",
       "  'yref': 'y',\n",
       "  'showarrow': False,\n",
       "  'font': {'size': 10, 'color': 'white'}},\n",
       " {'x': 7,\n",
       "  'y': 14,\n",
       "  'text': '0.0%',\n",
       "  'xref': 'x',\n",
       "  'yref': 'y',\n",
       "  'showarrow': False,\n",
       "  'font': {'size': 10, 'color': 'white'}},\n",
       " {'x': 8,\n",
       "  'y': 14,\n",
       "  'text': '0.0%',\n",
       "  'xref': 'x',\n",
       "  'yref': 'y',\n",
       "  'showarrow': False,\n",
       "  'font': {'size': 10, 'color': 'white'}}]"
      ]
     },
     "execution_count": 30,
     "metadata": {},
     "output_type": "execute_result"
    }
   ],
   "source": [
    "annotations_noturno, _, _, _ = indicators_class.get_annotations(IndicatorType.EFFICIENCY)\n",
    "annotations_noturno"
   ]
  },
  {
   "cell_type": "markdown",
   "metadata": {},
   "source": [
    "# Gráficos\n"
   ]
  },
  {
   "cell_type": "markdown",
   "metadata": {},
   "source": [
    "## Gauge\n"
   ]
  },
  {
   "cell_type": "code",
   "execution_count": 31,
   "metadata": {},
   "outputs": [],
   "source": [
    "class Gauge:\n",
    "\n",
    "    def __init__(self):\n",
    "        self.danger = BSColorsEnum.DANGER_COLOR.value\n",
    "        self.success = BSColorsEnum.SUCCESS_COLOR.value\n",
    "\n",
    "    def create_gauge(\n",
    "        self, df: pd.DataFrame, indicator: IndicatorType, meta: int, template: str = None\n",
    "    ):\n",
    "        # Verificar se é mês atual ou mês anterior\n",
    "        this_month = df[\"data_registro\"].dt.month.max() == pd.Timestamp.now().month\n",
    "        month = \"Mês Atual\" if this_month else \"Mês Anterior\"\n",
    "\n",
    "        # Calcula a porcentagem de acordo com o indicador\n",
    "        percentage = df[indicator.value].mean()\n",
    "        percentage = percentage if percentage is not None else 0\n",
    "\n",
    "        # Arredonda o valor da porcentagem\n",
    "        percentage = round(percentage, 2)\n",
    "\n",
    "        # Define a cor de acordo com a porcentagem\n",
    "        color = self.danger if percentage > (meta / 100) else self.success\n",
    "\n",
    "        if indicator == IndicatorType.EFFICIENCY:\n",
    "            color = self.success if percentage >= (meta / 100) else self.danger\n",
    "\n",
    "        # Definis a escala\n",
    "        axis_range = [0, 100] if indicator == IndicatorType.EFFICIENCY else [40, 0]\n",
    "\n",
    "        # Criar o gráfico\n",
    "        figure = go.Figure(\n",
    "            go.Indicator(\n",
    "                mode=\"gauge+number\",\n",
    "                value=percentage * 100,\n",
    "                number={\"suffix\": \"%\"},\n",
    "                domain={\"x\": [0, 1], \"y\": [0, 1]},\n",
    "                title={\"text\": f\"{month}\", \"font\": {\"size\": 14}},\n",
    "                gauge={\n",
    "                    \"axis\": {\n",
    "                        \"range\": axis_range,\n",
    "                        \"tickfont\": {\"size\": 8},\n",
    "                    },\n",
    "                    \"bar\": {\"color\": color},\n",
    "                    \"steps\": [\n",
    "                        {\"range\": [0, 100], \"color\": \"lightgray\"},\n",
    "                    ],\n",
    "                    \"threshold\": {\n",
    "                        \"line\": {\"color\": \"black\", \"width\": 2},\n",
    "                        \"thickness\": 0.75,\n",
    "                        \"value\": meta,\n",
    "                    },\n",
    "                },\n",
    "            )\n",
    "        )\n",
    "\n",
    "        figure.update_layout(\n",
    "            autosize=True,\n",
    "            margin=dict(t=30, b=30, l=30, r=30),\n",
    "            plot_bgcolor=\"white\",\n",
    "            height=250,\n",
    "            font=dict({\"family\": \"Inter\"}),\n",
    "        )\n",
    "\n",
    "        return figure\n",
    "\n",
    "\n",
    "gauge = Gauge()"
   ]
  },
  {
   "cell_type": "code",
   "execution_count": 32,
   "metadata": {},
   "outputs": [
    {
     "data": {
      "application/vnd.plotly.v1+json": {
       "config": {
        "plotlyServerURL": "https://plot.ly"
       },
       "data": [
        {
         "domain": {
          "x": [
           0,
           1
          ],
          "y": [
           0,
           1
          ]
         },
         "gauge": {
          "axis": {
           "range": [
            0,
            100
           ],
           "tickfont": {
            "size": 8
           }
          },
          "bar": {
           "color": "#dc3545"
          },
          "steps": [
           {
            "color": "lightgray",
            "range": [
             0,
             100
            ]
           }
          ],
          "threshold": {
           "line": {
            "color": "black",
            "width": 2
           },
           "thickness": 0.75,
           "value": 85
          }
         },
         "mode": "gauge+number",
         "number": {
          "suffix": "%"
         },
         "title": {
          "font": {
           "size": 14
          },
          "text": "Mês Atual"
         },
         "type": "indicator",
         "value": 32
        }
       ],
       "layout": {
        "autosize": true,
        "font": {
         "family": "Inter"
        },
        "height": 250,
        "margin": {
         "b": 30,
         "l": 30,
         "r": 30,
         "t": 30
        },
        "plot_bgcolor": "white",
        "template": {
         "data": {
          "bar": [
           {
            "error_x": {
             "color": "#2a3f5f"
            },
            "error_y": {
             "color": "#2a3f5f"
            },
            "marker": {
             "line": {
              "color": "#E5ECF6",
              "width": 0.5
             },
             "pattern": {
              "fillmode": "overlay",
              "size": 10,
              "solidity": 0.2
             }
            },
            "type": "bar"
           }
          ],
          "barpolar": [
           {
            "marker": {
             "line": {
              "color": "#E5ECF6",
              "width": 0.5
             },
             "pattern": {
              "fillmode": "overlay",
              "size": 10,
              "solidity": 0.2
             }
            },
            "type": "barpolar"
           }
          ],
          "carpet": [
           {
            "aaxis": {
             "endlinecolor": "#2a3f5f",
             "gridcolor": "white",
             "linecolor": "white",
             "minorgridcolor": "white",
             "startlinecolor": "#2a3f5f"
            },
            "baxis": {
             "endlinecolor": "#2a3f5f",
             "gridcolor": "white",
             "linecolor": "white",
             "minorgridcolor": "white",
             "startlinecolor": "#2a3f5f"
            },
            "type": "carpet"
           }
          ],
          "choropleth": [
           {
            "colorbar": {
             "outlinewidth": 0,
             "ticks": ""
            },
            "type": "choropleth"
           }
          ],
          "contour": [
           {
            "colorbar": {
             "outlinewidth": 0,
             "ticks": ""
            },
            "colorscale": [
             [
              0,
              "#0d0887"
             ],
             [
              0.1111111111111111,
              "#46039f"
             ],
             [
              0.2222222222222222,
              "#7201a8"
             ],
             [
              0.3333333333333333,
              "#9c179e"
             ],
             [
              0.4444444444444444,
              "#bd3786"
             ],
             [
              0.5555555555555556,
              "#d8576b"
             ],
             [
              0.6666666666666666,
              "#ed7953"
             ],
             [
              0.7777777777777778,
              "#fb9f3a"
             ],
             [
              0.8888888888888888,
              "#fdca26"
             ],
             [
              1,
              "#f0f921"
             ]
            ],
            "type": "contour"
           }
          ],
          "contourcarpet": [
           {
            "colorbar": {
             "outlinewidth": 0,
             "ticks": ""
            },
            "type": "contourcarpet"
           }
          ],
          "heatmap": [
           {
            "colorbar": {
             "outlinewidth": 0,
             "ticks": ""
            },
            "colorscale": [
             [
              0,
              "#0d0887"
             ],
             [
              0.1111111111111111,
              "#46039f"
             ],
             [
              0.2222222222222222,
              "#7201a8"
             ],
             [
              0.3333333333333333,
              "#9c179e"
             ],
             [
              0.4444444444444444,
              "#bd3786"
             ],
             [
              0.5555555555555556,
              "#d8576b"
             ],
             [
              0.6666666666666666,
              "#ed7953"
             ],
             [
              0.7777777777777778,
              "#fb9f3a"
             ],
             [
              0.8888888888888888,
              "#fdca26"
             ],
             [
              1,
              "#f0f921"
             ]
            ],
            "type": "heatmap"
           }
          ],
          "heatmapgl": [
           {
            "colorbar": {
             "outlinewidth": 0,
             "ticks": ""
            },
            "colorscale": [
             [
              0,
              "#0d0887"
             ],
             [
              0.1111111111111111,
              "#46039f"
             ],
             [
              0.2222222222222222,
              "#7201a8"
             ],
             [
              0.3333333333333333,
              "#9c179e"
             ],
             [
              0.4444444444444444,
              "#bd3786"
             ],
             [
              0.5555555555555556,
              "#d8576b"
             ],
             [
              0.6666666666666666,
              "#ed7953"
             ],
             [
              0.7777777777777778,
              "#fb9f3a"
             ],
             [
              0.8888888888888888,
              "#fdca26"
             ],
             [
              1,
              "#f0f921"
             ]
            ],
            "type": "heatmapgl"
           }
          ],
          "histogram": [
           {
            "marker": {
             "pattern": {
              "fillmode": "overlay",
              "size": 10,
              "solidity": 0.2
             }
            },
            "type": "histogram"
           }
          ],
          "histogram2d": [
           {
            "colorbar": {
             "outlinewidth": 0,
             "ticks": ""
            },
            "colorscale": [
             [
              0,
              "#0d0887"
             ],
             [
              0.1111111111111111,
              "#46039f"
             ],
             [
              0.2222222222222222,
              "#7201a8"
             ],
             [
              0.3333333333333333,
              "#9c179e"
             ],
             [
              0.4444444444444444,
              "#bd3786"
             ],
             [
              0.5555555555555556,
              "#d8576b"
             ],
             [
              0.6666666666666666,
              "#ed7953"
             ],
             [
              0.7777777777777778,
              "#fb9f3a"
             ],
             [
              0.8888888888888888,
              "#fdca26"
             ],
             [
              1,
              "#f0f921"
             ]
            ],
            "type": "histogram2d"
           }
          ],
          "histogram2dcontour": [
           {
            "colorbar": {
             "outlinewidth": 0,
             "ticks": ""
            },
            "colorscale": [
             [
              0,
              "#0d0887"
             ],
             [
              0.1111111111111111,
              "#46039f"
             ],
             [
              0.2222222222222222,
              "#7201a8"
             ],
             [
              0.3333333333333333,
              "#9c179e"
             ],
             [
              0.4444444444444444,
              "#bd3786"
             ],
             [
              0.5555555555555556,
              "#d8576b"
             ],
             [
              0.6666666666666666,
              "#ed7953"
             ],
             [
              0.7777777777777778,
              "#fb9f3a"
             ],
             [
              0.8888888888888888,
              "#fdca26"
             ],
             [
              1,
              "#f0f921"
             ]
            ],
            "type": "histogram2dcontour"
           }
          ],
          "mesh3d": [
           {
            "colorbar": {
             "outlinewidth": 0,
             "ticks": ""
            },
            "type": "mesh3d"
           }
          ],
          "parcoords": [
           {
            "line": {
             "colorbar": {
              "outlinewidth": 0,
              "ticks": ""
             }
            },
            "type": "parcoords"
           }
          ],
          "pie": [
           {
            "automargin": true,
            "type": "pie"
           }
          ],
          "scatter": [
           {
            "fillpattern": {
             "fillmode": "overlay",
             "size": 10,
             "solidity": 0.2
            },
            "type": "scatter"
           }
          ],
          "scatter3d": [
           {
            "line": {
             "colorbar": {
              "outlinewidth": 0,
              "ticks": ""
             }
            },
            "marker": {
             "colorbar": {
              "outlinewidth": 0,
              "ticks": ""
             }
            },
            "type": "scatter3d"
           }
          ],
          "scattercarpet": [
           {
            "marker": {
             "colorbar": {
              "outlinewidth": 0,
              "ticks": ""
             }
            },
            "type": "scattercarpet"
           }
          ],
          "scattergeo": [
           {
            "marker": {
             "colorbar": {
              "outlinewidth": 0,
              "ticks": ""
             }
            },
            "type": "scattergeo"
           }
          ],
          "scattergl": [
           {
            "marker": {
             "colorbar": {
              "outlinewidth": 0,
              "ticks": ""
             }
            },
            "type": "scattergl"
           }
          ],
          "scattermapbox": [
           {
            "marker": {
             "colorbar": {
              "outlinewidth": 0,
              "ticks": ""
             }
            },
            "type": "scattermapbox"
           }
          ],
          "scatterpolar": [
           {
            "marker": {
             "colorbar": {
              "outlinewidth": 0,
              "ticks": ""
             }
            },
            "type": "scatterpolar"
           }
          ],
          "scatterpolargl": [
           {
            "marker": {
             "colorbar": {
              "outlinewidth": 0,
              "ticks": ""
             }
            },
            "type": "scatterpolargl"
           }
          ],
          "scatterternary": [
           {
            "marker": {
             "colorbar": {
              "outlinewidth": 0,
              "ticks": ""
             }
            },
            "type": "scatterternary"
           }
          ],
          "surface": [
           {
            "colorbar": {
             "outlinewidth": 0,
             "ticks": ""
            },
            "colorscale": [
             [
              0,
              "#0d0887"
             ],
             [
              0.1111111111111111,
              "#46039f"
             ],
             [
              0.2222222222222222,
              "#7201a8"
             ],
             [
              0.3333333333333333,
              "#9c179e"
             ],
             [
              0.4444444444444444,
              "#bd3786"
             ],
             [
              0.5555555555555556,
              "#d8576b"
             ],
             [
              0.6666666666666666,
              "#ed7953"
             ],
             [
              0.7777777777777778,
              "#fb9f3a"
             ],
             [
              0.8888888888888888,
              "#fdca26"
             ],
             [
              1,
              "#f0f921"
             ]
            ],
            "type": "surface"
           }
          ],
          "table": [
           {
            "cells": {
             "fill": {
              "color": "#EBF0F8"
             },
             "line": {
              "color": "white"
             }
            },
            "header": {
             "fill": {
              "color": "#C8D4E3"
             },
             "line": {
              "color": "white"
             }
            },
            "type": "table"
           }
          ]
         },
         "layout": {
          "annotationdefaults": {
           "arrowcolor": "#2a3f5f",
           "arrowhead": 0,
           "arrowwidth": 1
          },
          "autotypenumbers": "strict",
          "coloraxis": {
           "colorbar": {
            "outlinewidth": 0,
            "ticks": ""
           }
          },
          "colorscale": {
           "diverging": [
            [
             0,
             "#8e0152"
            ],
            [
             0.1,
             "#c51b7d"
            ],
            [
             0.2,
             "#de77ae"
            ],
            [
             0.3,
             "#f1b6da"
            ],
            [
             0.4,
             "#fde0ef"
            ],
            [
             0.5,
             "#f7f7f7"
            ],
            [
             0.6,
             "#e6f5d0"
            ],
            [
             0.7,
             "#b8e186"
            ],
            [
             0.8,
             "#7fbc41"
            ],
            [
             0.9,
             "#4d9221"
            ],
            [
             1,
             "#276419"
            ]
           ],
           "sequential": [
            [
             0,
             "#0d0887"
            ],
            [
             0.1111111111111111,
             "#46039f"
            ],
            [
             0.2222222222222222,
             "#7201a8"
            ],
            [
             0.3333333333333333,
             "#9c179e"
            ],
            [
             0.4444444444444444,
             "#bd3786"
            ],
            [
             0.5555555555555556,
             "#d8576b"
            ],
            [
             0.6666666666666666,
             "#ed7953"
            ],
            [
             0.7777777777777778,
             "#fb9f3a"
            ],
            [
             0.8888888888888888,
             "#fdca26"
            ],
            [
             1,
             "#f0f921"
            ]
           ],
           "sequentialminus": [
            [
             0,
             "#0d0887"
            ],
            [
             0.1111111111111111,
             "#46039f"
            ],
            [
             0.2222222222222222,
             "#7201a8"
            ],
            [
             0.3333333333333333,
             "#9c179e"
            ],
            [
             0.4444444444444444,
             "#bd3786"
            ],
            [
             0.5555555555555556,
             "#d8576b"
            ],
            [
             0.6666666666666666,
             "#ed7953"
            ],
            [
             0.7777777777777778,
             "#fb9f3a"
            ],
            [
             0.8888888888888888,
             "#fdca26"
            ],
            [
             1,
             "#f0f921"
            ]
           ]
          },
          "colorway": [
           "#636efa",
           "#EF553B",
           "#00cc96",
           "#ab63fa",
           "#FFA15A",
           "#19d3f3",
           "#FF6692",
           "#B6E880",
           "#FF97FF",
           "#FECB52"
          ],
          "font": {
           "color": "#2a3f5f"
          },
          "geo": {
           "bgcolor": "white",
           "lakecolor": "white",
           "landcolor": "#E5ECF6",
           "showlakes": true,
           "showland": true,
           "subunitcolor": "white"
          },
          "hoverlabel": {
           "align": "left"
          },
          "hovermode": "closest",
          "mapbox": {
           "style": "light"
          },
          "paper_bgcolor": "white",
          "plot_bgcolor": "#E5ECF6",
          "polar": {
           "angularaxis": {
            "gridcolor": "white",
            "linecolor": "white",
            "ticks": ""
           },
           "bgcolor": "#E5ECF6",
           "radialaxis": {
            "gridcolor": "white",
            "linecolor": "white",
            "ticks": ""
           }
          },
          "scene": {
           "xaxis": {
            "backgroundcolor": "#E5ECF6",
            "gridcolor": "white",
            "gridwidth": 2,
            "linecolor": "white",
            "showbackground": true,
            "ticks": "",
            "zerolinecolor": "white"
           },
           "yaxis": {
            "backgroundcolor": "#E5ECF6",
            "gridcolor": "white",
            "gridwidth": 2,
            "linecolor": "white",
            "showbackground": true,
            "ticks": "",
            "zerolinecolor": "white"
           },
           "zaxis": {
            "backgroundcolor": "#E5ECF6",
            "gridcolor": "white",
            "gridwidth": 2,
            "linecolor": "white",
            "showbackground": true,
            "ticks": "",
            "zerolinecolor": "white"
           }
          },
          "shapedefaults": {
           "line": {
            "color": "#2a3f5f"
           }
          },
          "ternary": {
           "aaxis": {
            "gridcolor": "white",
            "linecolor": "white",
            "ticks": ""
           },
           "baxis": {
            "gridcolor": "white",
            "linecolor": "white",
            "ticks": ""
           },
           "bgcolor": "#E5ECF6",
           "caxis": {
            "gridcolor": "white",
            "linecolor": "white",
            "ticks": ""
           }
          },
          "title": {
           "x": 0.05
          },
          "xaxis": {
           "automargin": true,
           "gridcolor": "white",
           "linecolor": "white",
           "ticks": "",
           "title": {
            "standoff": 15
           },
           "zerolinecolor": "white",
           "zerolinewidth": 2
          },
          "yaxis": {
           "automargin": true,
           "gridcolor": "white",
           "linecolor": "white",
           "ticks": "",
           "title": {
            "standoff": 15
           },
           "zerolinecolor": "white",
           "zerolinewidth": 2
          }
         }
        }
       }
      }
     },
     "metadata": {},
     "output_type": "display_data"
    }
   ],
   "source": [
    "gauge_fig = gauge.create_gauge(df_eff, IndicatorType.EFFICIENCY, 85)\n",
    "gauge_fig"
   ]
  },
  {
   "cell_type": "markdown",
   "metadata": {},
   "source": [
    "## Heatmap\n"
   ]
  },
  {
   "cell_type": "code",
   "execution_count": 33,
   "metadata": {},
   "outputs": [],
   "source": [
    "class Heatmap:\n",
    "    \"\"\"\n",
    "    A class representing a heatmap graph.\n",
    "\n",
    "    Attributes:\n",
    "        danger (str): The color value for the danger indicator.\n",
    "        success (str): The color value for the success indicator.\n",
    "\n",
    "    Methods:\n",
    "        create_heatmap: Create a heatmap graph based on the provided data.\n",
    "    \"\"\"\n",
    "\n",
    "    def __init__(self):\n",
    "        self.danger = BSColorsEnum.DANGER_COLOR.value\n",
    "        self.success = BSColorsEnum.SUCCESS_COLOR.value\n",
    "\n",
    "    def create_heatmap(\n",
    "        self,\n",
    "        dataframe: pd.DataFrame,\n",
    "        annotations: list,\n",
    "        indicator: IndicatorType,\n",
    "        meta: int,\n",
    "        template: str = None,\n",
    "        turn: str = False,\n",
    "    ):\n",
    "        \"\"\"\n",
    "        Create a heatmap graph based on the provided data.\n",
    "\n",
    "        Args:\n",
    "            dataframe (pd.DataFrame): The data to be visualized in the heatmap.\n",
    "            annotations (list): List of annotations to be displayed on the heatmap.\n",
    "            indicator (IndicatorType): The type of indicator to be visualized.\n",
    "            meta (int): The meta value for the indicator.\n",
    "            template (str, optional): The template to be used for the graph. Defaults to None.\n",
    "            turn (str, optional): Whether to display the heatmap by turn or not. Defaults to False.\n",
    "\n",
    "        Returns:\n",
    "            dcc.Graph: The heatmap graph.\n",
    "        \"\"\"\n",
    "\n",
    "        # Meta p/ uso em cores\n",
    "        color_meta = meta / 100\n",
    "\n",
    "        # Cria escala de cores\n",
    "        color_scale = {\n",
    "            IndicatorType.EFFICIENCY: [\n",
    "                [0, self.danger],\n",
    "                [color_meta, self.danger],\n",
    "                [color_meta, self.success],\n",
    "                [1, self.success],\n",
    "            ],\n",
    "            IndicatorType.PERFORMANCE: [\n",
    "                [0, self.success],\n",
    "                [color_meta, self.success],\n",
    "                [color_meta, self.danger],\n",
    "                [1, self.danger],\n",
    "            ],\n",
    "            IndicatorType.REPAIR: [\n",
    "                [0, self.success],\n",
    "                [color_meta, self.success],\n",
    "                [color_meta, self.danger],\n",
    "                [1, self.danger],\n",
    "            ],\n",
    "        }\n",
    "\n",
    "        # Extrai apenas o dia da data\n",
    "        dataframe.columns = pd.to_datetime(dataframe.columns).day\n",
    "\n",
    "        # Cria o hover data\n",
    "        hover_data = (\n",
    "            f\"Turno: %{{y}}<br>Dia: %{{x}}<br>{indicator.value.capitalize()}: %{{z:.1%}}\"\n",
    "            if not turn\n",
    "            else f\"Linha: %{{y}}<br>Dia: %{{x}}<br>{indicator.value.capitalize()}: %{{z:.1%}}\"\n",
    "        )\n",
    "\n",
    "        tick_color = \"gray\"\n",
    "\n",
    "        # Cria o heatmap\n",
    "        figure = go.Figure(\n",
    "            data=go.Heatmap(\n",
    "                z=dataframe.values,\n",
    "                x=dataframe.columns,\n",
    "                y=dataframe.index,\n",
    "                colorscale=color_scale[indicator],\n",
    "                name=indicator.value.capitalize(),\n",
    "                zmin=0,\n",
    "                zmax=1,\n",
    "                hoverongaps=False,\n",
    "                hovertemplate=hover_data,\n",
    "                showscale=False,\n",
    "                xgap=1,\n",
    "                ygap=1,\n",
    "            ),\n",
    "            layout=go.Layout(\n",
    "                title=f\"{indicator.value.capitalize()} - Meta: {meta}%\",\n",
    "                title_x=0.5,\n",
    "                xaxis=dict(\n",
    "                    title=\"Dia do Mês\",\n",
    "                    tickfont=dict(color=tick_color),\n",
    "                    tickmode=\"linear\",\n",
    "                    nticks=31,\n",
    "                    tickvals=list(range(1, 32)),\n",
    "                    ticktext=list(range(1, 32)),\n",
    "                    tickangle=0,\n",
    "                ),\n",
    "                yaxis=dict(title=\"Turno\", tickfont=dict(color=tick_color), ticksuffix=\" \"),\n",
    "                font=dict(family=\"Inter\"),\n",
    "                margin=dict(t=40, b=40, l=40, r=40),\n",
    "                annotations=annotations,\n",
    "                plot_bgcolor=\"RGBA(0,0,0,0.01)\",\n",
    "            ),\n",
    "        )\n",
    "\n",
    "        if turn:\n",
    "            figure.update_layout(\n",
    "                yaxis=dict(\n",
    "                    title=\"Linha\",\n",
    "                    autorange=\"reversed\",\n",
    "                    tickvals=list(range(1, dataframe.index.nunique() + 1)),\n",
    "                )\n",
    "            )\n",
    "\n",
    "        return figure\n",
    "\n",
    "\n",
    "heatmap = Heatmap()"
   ]
  },
  {
   "cell_type": "code",
   "execution_count": 34,
   "metadata": {},
   "outputs": [
    {
     "data": {
      "application/vnd.plotly.v1+json": {
       "config": {
        "plotlyServerURL": "https://plot.ly"
       },
       "data": [
        {
         "colorscale": [
          [
           0,
           "#dc3545"
          ],
          [
           0.85,
           "#dc3545"
          ],
          [
           0.85,
           "#198754"
          ],
          [
           1,
           "#198754"
          ]
         ],
         "hoverongaps": false,
         "hovertemplate": "Linha: %{y}<br>Dia: %{x}<br>Eficiencia: %{z:.1%}",
         "name": "Eficiencia",
         "showscale": false,
         "type": "heatmap",
         "x": [
          1,
          2,
          3,
          4,
          5,
          6,
          7,
          8,
          9,
          10,
          11,
          12,
          13,
          14,
          15,
          16,
          17,
          18,
          19,
          20,
          21,
          22,
          23,
          24,
          25,
          26,
          27,
          28,
          29,
          30,
          31
         ],
         "xgap": 1,
         "y": [
          1,
          2,
          3,
          4,
          5,
          6,
          7,
          8,
          9,
          10,
          11,
          12,
          13,
          14
         ],
         "ygap": 1,
         "z": [
          [
           0,
           0.62,
           0.86,
           0.76,
           0.3,
           0.8,
           0.88,
           0.87,
           null,
           null,
           null,
           null,
           null,
           null,
           null,
           null,
           null,
           null,
           null,
           null,
           null,
           null,
           null,
           null,
           null,
           null,
           null,
           null,
           null,
           null,
           null
          ],
          [
           0,
           0.65,
           0.15,
           0.72,
           0.2,
           0.76,
           0.46,
           0.77,
           null,
           null,
           null,
           null,
           null,
           null,
           null,
           null,
           null,
           null,
           null,
           null,
           null,
           null,
           null,
           null,
           null,
           null,
           null,
           null,
           null,
           null,
           null
          ],
          [
           null,
           null,
           null,
           null,
           null,
           null,
           0,
           0,
           null,
           null,
           null,
           null,
           null,
           null,
           null,
           null,
           null,
           null,
           null,
           null,
           null,
           null,
           null,
           null,
           null,
           null,
           null,
           null,
           null,
           null,
           null
          ],
          [
           0,
           0.72,
           0.78,
           0.81,
           0.2,
           0.5,
           0,
           0.78,
           null,
           null,
           null,
           null,
           null,
           null,
           null,
           null,
           null,
           null,
           null,
           null,
           null,
           null,
           null,
           null,
           null,
           null,
           null,
           null,
           null,
           null,
           null
          ],
          [
           0.02,
           0.65,
           0.62,
           0.61,
           0.13,
           0.87,
           0.55,
           0.49,
           null,
           null,
           null,
           null,
           null,
           null,
           null,
           null,
           null,
           null,
           null,
           null,
           null,
           null,
           null,
           null,
           null,
           null,
           null,
           null,
           null,
           null,
           null
          ],
          [
           0.03,
           0.4,
           0.13,
           0.04,
           0.14,
           0.53,
           0.16,
           0.52,
           null,
           null,
           null,
           null,
           null,
           null,
           null,
           null,
           null,
           null,
           null,
           null,
           null,
           null,
           null,
           null,
           null,
           null,
           null,
           null,
           null,
           null,
           null
          ],
          [
           0.03,
           0,
           0.77,
           0.2,
           0.15,
           0.51,
           0.01,
           0.14,
           null,
           null,
           null,
           null,
           null,
           null,
           null,
           null,
           null,
           null,
           null,
           null,
           null,
           null,
           null,
           null,
           null,
           null,
           null,
           null,
           null,
           null,
           null
          ],
          [
           0.32,
           0.32,
           0.32,
           0.32,
           0.32,
           0.32,
           0,
           0,
           null,
           null,
           null,
           null,
           null,
           null,
           null,
           null,
           null,
           null,
           null,
           null,
           null,
           null,
           null,
           null,
           null,
           null,
           null,
           null,
           null,
           null,
           null
          ],
          [
           0.02,
           0.62,
           0.29,
           0.74,
           0.19,
           0.64,
           0.67,
           0.26,
           null,
           null,
           null,
           null,
           null,
           null,
           null,
           null,
           null,
           null,
           null,
           null,
           null,
           null,
           null,
           null,
           null,
           null,
           null,
           null,
           null,
           null,
           null
          ],
          [
           null,
           0.19,
           0,
           0,
           0.04,
           0.68,
           0.01,
           0,
           null,
           null,
           null,
           null,
           null,
           null,
           null,
           null,
           null,
           null,
           null,
           null,
           null,
           null,
           null,
           null,
           null,
           null,
           null,
           null,
           null,
           null,
           null
          ],
          [
           null,
           0.1,
           0.57,
           0.58,
           0,
           0,
           0.56,
           0.57,
           null,
           null,
           null,
           null,
           null,
           null,
           null,
           null,
           null,
           null,
           null,
           null,
           null,
           null,
           null,
           null,
           null,
           null,
           null,
           null,
           null,
           null,
           null
          ],
          [
           null,
           0,
           0.13,
           0.17,
           0,
           0.03,
           0.83,
           0,
           null,
           null,
           null,
           null,
           null,
           null,
           null,
           null,
           null,
           null,
           null,
           null,
           null,
           null,
           null,
           null,
           null,
           null,
           null,
           null,
           null,
           null,
           null
          ],
          [
           null,
           0,
           0,
           0,
           0,
           null,
           null,
           0.83,
           null,
           null,
           null,
           null,
           null,
           null,
           null,
           null,
           null,
           null,
           null,
           null,
           null,
           null,
           null,
           null,
           null,
           null,
           null,
           null,
           null,
           null,
           null
          ],
          [
           null,
           0,
           0,
           0,
           0,
           0,
           0,
           0,
           null,
           null,
           null,
           null,
           null,
           null,
           null,
           null,
           null,
           null,
           null,
           null,
           null,
           null,
           null,
           null,
           null,
           null,
           null,
           null,
           null,
           null,
           null
          ]
         ],
         "zmax": 1,
         "zmin": 0
        }
       ],
       "layout": {
        "annotations": [
         {
          "font": {
           "color": "white",
           "size": 10
          },
          "showarrow": false,
          "text": "0.0%",
          "x": 1,
          "xref": "x",
          "y": 1,
          "yref": "y"
         },
         {
          "font": {
           "color": "white",
           "size": 10
          },
          "showarrow": false,
          "text": "62.0%",
          "x": 2,
          "xref": "x",
          "y": 1,
          "yref": "y"
         },
         {
          "font": {
           "color": "white",
           "size": 10
          },
          "showarrow": false,
          "text": "86.0%",
          "x": 3,
          "xref": "x",
          "y": 1,
          "yref": "y"
         },
         {
          "font": {
           "color": "white",
           "size": 10
          },
          "showarrow": false,
          "text": "76.0%",
          "x": 4,
          "xref": "x",
          "y": 1,
          "yref": "y"
         },
         {
          "font": {
           "color": "white",
           "size": 10
          },
          "showarrow": false,
          "text": "30.0%",
          "x": 5,
          "xref": "x",
          "y": 1,
          "yref": "y"
         },
         {
          "font": {
           "color": "white",
           "size": 10
          },
          "showarrow": false,
          "text": "80.0%",
          "x": 6,
          "xref": "x",
          "y": 1,
          "yref": "y"
         },
         {
          "font": {
           "color": "white",
           "size": 10
          },
          "showarrow": false,
          "text": "88.0%",
          "x": 7,
          "xref": "x",
          "y": 1,
          "yref": "y"
         },
         {
          "font": {
           "color": "white",
           "size": 10
          },
          "showarrow": false,
          "text": "87.0%",
          "x": 8,
          "xref": "x",
          "y": 1,
          "yref": "y"
         },
         {
          "font": {
           "color": "white",
           "size": 10
          },
          "showarrow": false,
          "text": "0.0%",
          "x": 1,
          "xref": "x",
          "y": 2,
          "yref": "y"
         },
         {
          "font": {
           "color": "white",
           "size": 10
          },
          "showarrow": false,
          "text": "65.0%",
          "x": 2,
          "xref": "x",
          "y": 2,
          "yref": "y"
         },
         {
          "font": {
           "color": "white",
           "size": 10
          },
          "showarrow": false,
          "text": "15.0%",
          "x": 3,
          "xref": "x",
          "y": 2,
          "yref": "y"
         },
         {
          "font": {
           "color": "white",
           "size": 10
          },
          "showarrow": false,
          "text": "72.0%",
          "x": 4,
          "xref": "x",
          "y": 2,
          "yref": "y"
         },
         {
          "font": {
           "color": "white",
           "size": 10
          },
          "showarrow": false,
          "text": "20.0%",
          "x": 5,
          "xref": "x",
          "y": 2,
          "yref": "y"
         },
         {
          "font": {
           "color": "white",
           "size": 10
          },
          "showarrow": false,
          "text": "76.0%",
          "x": 6,
          "xref": "x",
          "y": 2,
          "yref": "y"
         },
         {
          "font": {
           "color": "white",
           "size": 10
          },
          "showarrow": false,
          "text": "46.0%",
          "x": 7,
          "xref": "x",
          "y": 2,
          "yref": "y"
         },
         {
          "font": {
           "color": "white",
           "size": 10
          },
          "showarrow": false,
          "text": "77.0%",
          "x": 8,
          "xref": "x",
          "y": 2,
          "yref": "y"
         },
         {
          "font": {
           "color": "white",
           "size": 10
          },
          "showarrow": false,
          "text": "0.0%",
          "x": 7,
          "xref": "x",
          "y": 3,
          "yref": "y"
         },
         {
          "font": {
           "color": "white",
           "size": 10
          },
          "showarrow": false,
          "text": "0.0%",
          "x": 8,
          "xref": "x",
          "y": 3,
          "yref": "y"
         },
         {
          "font": {
           "color": "white",
           "size": 10
          },
          "showarrow": false,
          "text": "0.0%",
          "x": 1,
          "xref": "x",
          "y": 4,
          "yref": "y"
         },
         {
          "font": {
           "color": "white",
           "size": 10
          },
          "showarrow": false,
          "text": "72.0%",
          "x": 2,
          "xref": "x",
          "y": 4,
          "yref": "y"
         },
         {
          "font": {
           "color": "white",
           "size": 10
          },
          "showarrow": false,
          "text": "78.0%",
          "x": 3,
          "xref": "x",
          "y": 4,
          "yref": "y"
         },
         {
          "font": {
           "color": "white",
           "size": 10
          },
          "showarrow": false,
          "text": "81.0%",
          "x": 4,
          "xref": "x",
          "y": 4,
          "yref": "y"
         },
         {
          "font": {
           "color": "white",
           "size": 10
          },
          "showarrow": false,
          "text": "20.0%",
          "x": 5,
          "xref": "x",
          "y": 4,
          "yref": "y"
         },
         {
          "font": {
           "color": "white",
           "size": 10
          },
          "showarrow": false,
          "text": "50.0%",
          "x": 6,
          "xref": "x",
          "y": 4,
          "yref": "y"
         },
         {
          "font": {
           "color": "white",
           "size": 10
          },
          "showarrow": false,
          "text": "0.0%",
          "x": 7,
          "xref": "x",
          "y": 4,
          "yref": "y"
         },
         {
          "font": {
           "color": "white",
           "size": 10
          },
          "showarrow": false,
          "text": "78.0%",
          "x": 8,
          "xref": "x",
          "y": 4,
          "yref": "y"
         },
         {
          "font": {
           "color": "white",
           "size": 10
          },
          "showarrow": false,
          "text": "2.0%",
          "x": 1,
          "xref": "x",
          "y": 5,
          "yref": "y"
         },
         {
          "font": {
           "color": "white",
           "size": 10
          },
          "showarrow": false,
          "text": "65.0%",
          "x": 2,
          "xref": "x",
          "y": 5,
          "yref": "y"
         },
         {
          "font": {
           "color": "white",
           "size": 10
          },
          "showarrow": false,
          "text": "62.0%",
          "x": 3,
          "xref": "x",
          "y": 5,
          "yref": "y"
         },
         {
          "font": {
           "color": "white",
           "size": 10
          },
          "showarrow": false,
          "text": "61.0%",
          "x": 4,
          "xref": "x",
          "y": 5,
          "yref": "y"
         },
         {
          "font": {
           "color": "white",
           "size": 10
          },
          "showarrow": false,
          "text": "13.0%",
          "x": 5,
          "xref": "x",
          "y": 5,
          "yref": "y"
         },
         {
          "font": {
           "color": "white",
           "size": 10
          },
          "showarrow": false,
          "text": "87.0%",
          "x": 6,
          "xref": "x",
          "y": 5,
          "yref": "y"
         },
         {
          "font": {
           "color": "white",
           "size": 10
          },
          "showarrow": false,
          "text": "55.0%",
          "x": 7,
          "xref": "x",
          "y": 5,
          "yref": "y"
         },
         {
          "font": {
           "color": "white",
           "size": 10
          },
          "showarrow": false,
          "text": "49.0%",
          "x": 8,
          "xref": "x",
          "y": 5,
          "yref": "y"
         },
         {
          "font": {
           "color": "white",
           "size": 10
          },
          "showarrow": false,
          "text": "3.0%",
          "x": 1,
          "xref": "x",
          "y": 6,
          "yref": "y"
         },
         {
          "font": {
           "color": "white",
           "size": 10
          },
          "showarrow": false,
          "text": "40.0%",
          "x": 2,
          "xref": "x",
          "y": 6,
          "yref": "y"
         },
         {
          "font": {
           "color": "white",
           "size": 10
          },
          "showarrow": false,
          "text": "13.0%",
          "x": 3,
          "xref": "x",
          "y": 6,
          "yref": "y"
         },
         {
          "font": {
           "color": "white",
           "size": 10
          },
          "showarrow": false,
          "text": "4.0%",
          "x": 4,
          "xref": "x",
          "y": 6,
          "yref": "y"
         },
         {
          "font": {
           "color": "white",
           "size": 10
          },
          "showarrow": false,
          "text": "14.0%",
          "x": 5,
          "xref": "x",
          "y": 6,
          "yref": "y"
         },
         {
          "font": {
           "color": "white",
           "size": 10
          },
          "showarrow": false,
          "text": "53.0%",
          "x": 6,
          "xref": "x",
          "y": 6,
          "yref": "y"
         },
         {
          "font": {
           "color": "white",
           "size": 10
          },
          "showarrow": false,
          "text": "16.0%",
          "x": 7,
          "xref": "x",
          "y": 6,
          "yref": "y"
         },
         {
          "font": {
           "color": "white",
           "size": 10
          },
          "showarrow": false,
          "text": "52.0%",
          "x": 8,
          "xref": "x",
          "y": 6,
          "yref": "y"
         },
         {
          "font": {
           "color": "white",
           "size": 10
          },
          "showarrow": false,
          "text": "3.0%",
          "x": 1,
          "xref": "x",
          "y": 7,
          "yref": "y"
         },
         {
          "font": {
           "color": "white",
           "size": 10
          },
          "showarrow": false,
          "text": "0.0%",
          "x": 2,
          "xref": "x",
          "y": 7,
          "yref": "y"
         },
         {
          "font": {
           "color": "white",
           "size": 10
          },
          "showarrow": false,
          "text": "77.0%",
          "x": 3,
          "xref": "x",
          "y": 7,
          "yref": "y"
         },
         {
          "font": {
           "color": "white",
           "size": 10
          },
          "showarrow": false,
          "text": "20.0%",
          "x": 4,
          "xref": "x",
          "y": 7,
          "yref": "y"
         },
         {
          "font": {
           "color": "white",
           "size": 10
          },
          "showarrow": false,
          "text": "15.0%",
          "x": 5,
          "xref": "x",
          "y": 7,
          "yref": "y"
         },
         {
          "font": {
           "color": "white",
           "size": 10
          },
          "showarrow": false,
          "text": "51.0%",
          "x": 6,
          "xref": "x",
          "y": 7,
          "yref": "y"
         },
         {
          "font": {
           "color": "white",
           "size": 10
          },
          "showarrow": false,
          "text": "1.0%",
          "x": 7,
          "xref": "x",
          "y": 7,
          "yref": "y"
         },
         {
          "font": {
           "color": "white",
           "size": 10
          },
          "showarrow": false,
          "text": "14.0%",
          "x": 8,
          "xref": "x",
          "y": 7,
          "yref": "y"
         },
         {
          "font": {
           "color": "white",
           "size": 10
          },
          "showarrow": false,
          "text": "32.0%",
          "x": 1,
          "xref": "x",
          "y": 8,
          "yref": "y"
         },
         {
          "font": {
           "color": "white",
           "size": 10
          },
          "showarrow": false,
          "text": "32.0%",
          "x": 2,
          "xref": "x",
          "y": 8,
          "yref": "y"
         },
         {
          "font": {
           "color": "white",
           "size": 10
          },
          "showarrow": false,
          "text": "32.0%",
          "x": 3,
          "xref": "x",
          "y": 8,
          "yref": "y"
         },
         {
          "font": {
           "color": "white",
           "size": 10
          },
          "showarrow": false,
          "text": "32.0%",
          "x": 4,
          "xref": "x",
          "y": 8,
          "yref": "y"
         },
         {
          "font": {
           "color": "white",
           "size": 10
          },
          "showarrow": false,
          "text": "32.0%",
          "x": 5,
          "xref": "x",
          "y": 8,
          "yref": "y"
         },
         {
          "font": {
           "color": "white",
           "size": 10
          },
          "showarrow": false,
          "text": "32.0%",
          "x": 6,
          "xref": "x",
          "y": 8,
          "yref": "y"
         },
         {
          "font": {
           "color": "white",
           "size": 10
          },
          "showarrow": false,
          "text": "0.0%",
          "x": 7,
          "xref": "x",
          "y": 8,
          "yref": "y"
         },
         {
          "font": {
           "color": "white",
           "size": 10
          },
          "showarrow": false,
          "text": "0.0%",
          "x": 8,
          "xref": "x",
          "y": 8,
          "yref": "y"
         },
         {
          "font": {
           "color": "white",
           "size": 10
          },
          "showarrow": false,
          "text": "2.0%",
          "x": 1,
          "xref": "x",
          "y": 9,
          "yref": "y"
         },
         {
          "font": {
           "color": "white",
           "size": 10
          },
          "showarrow": false,
          "text": "62.0%",
          "x": 2,
          "xref": "x",
          "y": 9,
          "yref": "y"
         },
         {
          "font": {
           "color": "white",
           "size": 10
          },
          "showarrow": false,
          "text": "29.0%",
          "x": 3,
          "xref": "x",
          "y": 9,
          "yref": "y"
         },
         {
          "font": {
           "color": "white",
           "size": 10
          },
          "showarrow": false,
          "text": "74.0%",
          "x": 4,
          "xref": "x",
          "y": 9,
          "yref": "y"
         },
         {
          "font": {
           "color": "white",
           "size": 10
          },
          "showarrow": false,
          "text": "19.0%",
          "x": 5,
          "xref": "x",
          "y": 9,
          "yref": "y"
         },
         {
          "font": {
           "color": "white",
           "size": 10
          },
          "showarrow": false,
          "text": "64.0%",
          "x": 6,
          "xref": "x",
          "y": 9,
          "yref": "y"
         },
         {
          "font": {
           "color": "white",
           "size": 10
          },
          "showarrow": false,
          "text": "67.0%",
          "x": 7,
          "xref": "x",
          "y": 9,
          "yref": "y"
         },
         {
          "font": {
           "color": "white",
           "size": 10
          },
          "showarrow": false,
          "text": "26.0%",
          "x": 8,
          "xref": "x",
          "y": 9,
          "yref": "y"
         },
         {
          "font": {
           "color": "white",
           "size": 10
          },
          "showarrow": false,
          "text": "19.0%",
          "x": 2,
          "xref": "x",
          "y": 10,
          "yref": "y"
         },
         {
          "font": {
           "color": "white",
           "size": 10
          },
          "showarrow": false,
          "text": "0.0%",
          "x": 3,
          "xref": "x",
          "y": 10,
          "yref": "y"
         },
         {
          "font": {
           "color": "white",
           "size": 10
          },
          "showarrow": false,
          "text": "0.0%",
          "x": 4,
          "xref": "x",
          "y": 10,
          "yref": "y"
         },
         {
          "font": {
           "color": "white",
           "size": 10
          },
          "showarrow": false,
          "text": "4.0%",
          "x": 5,
          "xref": "x",
          "y": 10,
          "yref": "y"
         },
         {
          "font": {
           "color": "white",
           "size": 10
          },
          "showarrow": false,
          "text": "68.0%",
          "x": 6,
          "xref": "x",
          "y": 10,
          "yref": "y"
         },
         {
          "font": {
           "color": "white",
           "size": 10
          },
          "showarrow": false,
          "text": "1.0%",
          "x": 7,
          "xref": "x",
          "y": 10,
          "yref": "y"
         },
         {
          "font": {
           "color": "white",
           "size": 10
          },
          "showarrow": false,
          "text": "0.0%",
          "x": 8,
          "xref": "x",
          "y": 10,
          "yref": "y"
         },
         {
          "font": {
           "color": "white",
           "size": 10
          },
          "showarrow": false,
          "text": "10.0%",
          "x": 2,
          "xref": "x",
          "y": 11,
          "yref": "y"
         },
         {
          "font": {
           "color": "white",
           "size": 10
          },
          "showarrow": false,
          "text": "57.0%",
          "x": 3,
          "xref": "x",
          "y": 11,
          "yref": "y"
         },
         {
          "font": {
           "color": "white",
           "size": 10
          },
          "showarrow": false,
          "text": "58.0%",
          "x": 4,
          "xref": "x",
          "y": 11,
          "yref": "y"
         },
         {
          "font": {
           "color": "white",
           "size": 10
          },
          "showarrow": false,
          "text": "0.0%",
          "x": 5,
          "xref": "x",
          "y": 11,
          "yref": "y"
         },
         {
          "font": {
           "color": "white",
           "size": 10
          },
          "showarrow": false,
          "text": "0.0%",
          "x": 6,
          "xref": "x",
          "y": 11,
          "yref": "y"
         },
         {
          "font": {
           "color": "white",
           "size": 10
          },
          "showarrow": false,
          "text": "56.0%",
          "x": 7,
          "xref": "x",
          "y": 11,
          "yref": "y"
         },
         {
          "font": {
           "color": "white",
           "size": 10
          },
          "showarrow": false,
          "text": "57.0%",
          "x": 8,
          "xref": "x",
          "y": 11,
          "yref": "y"
         },
         {
          "font": {
           "color": "white",
           "size": 10
          },
          "showarrow": false,
          "text": "0.0%",
          "x": 2,
          "xref": "x",
          "y": 12,
          "yref": "y"
         },
         {
          "font": {
           "color": "white",
           "size": 10
          },
          "showarrow": false,
          "text": "13.0%",
          "x": 3,
          "xref": "x",
          "y": 12,
          "yref": "y"
         },
         {
          "font": {
           "color": "white",
           "size": 10
          },
          "showarrow": false,
          "text": "17.0%",
          "x": 4,
          "xref": "x",
          "y": 12,
          "yref": "y"
         },
         {
          "font": {
           "color": "white",
           "size": 10
          },
          "showarrow": false,
          "text": "0.0%",
          "x": 5,
          "xref": "x",
          "y": 12,
          "yref": "y"
         },
         {
          "font": {
           "color": "white",
           "size": 10
          },
          "showarrow": false,
          "text": "3.0%",
          "x": 6,
          "xref": "x",
          "y": 12,
          "yref": "y"
         },
         {
          "font": {
           "color": "white",
           "size": 10
          },
          "showarrow": false,
          "text": "83.0%",
          "x": 7,
          "xref": "x",
          "y": 12,
          "yref": "y"
         },
         {
          "font": {
           "color": "white",
           "size": 10
          },
          "showarrow": false,
          "text": "0.0%",
          "x": 8,
          "xref": "x",
          "y": 12,
          "yref": "y"
         },
         {
          "font": {
           "color": "white",
           "size": 10
          },
          "showarrow": false,
          "text": "0.0%",
          "x": 2,
          "xref": "x",
          "y": 13,
          "yref": "y"
         },
         {
          "font": {
           "color": "white",
           "size": 10
          },
          "showarrow": false,
          "text": "0.0%",
          "x": 3,
          "xref": "x",
          "y": 13,
          "yref": "y"
         },
         {
          "font": {
           "color": "white",
           "size": 10
          },
          "showarrow": false,
          "text": "0.0%",
          "x": 4,
          "xref": "x",
          "y": 13,
          "yref": "y"
         },
         {
          "font": {
           "color": "white",
           "size": 10
          },
          "showarrow": false,
          "text": "0.0%",
          "x": 5,
          "xref": "x",
          "y": 13,
          "yref": "y"
         },
         {
          "font": {
           "color": "white",
           "size": 10
          },
          "showarrow": false,
          "text": "83.0%",
          "x": 8,
          "xref": "x",
          "y": 13,
          "yref": "y"
         },
         {
          "font": {
           "color": "white",
           "size": 10
          },
          "showarrow": false,
          "text": "0.0%",
          "x": 2,
          "xref": "x",
          "y": 14,
          "yref": "y"
         },
         {
          "font": {
           "color": "white",
           "size": 10
          },
          "showarrow": false,
          "text": "0.0%",
          "x": 3,
          "xref": "x",
          "y": 14,
          "yref": "y"
         },
         {
          "font": {
           "color": "white",
           "size": 10
          },
          "showarrow": false,
          "text": "0.0%",
          "x": 4,
          "xref": "x",
          "y": 14,
          "yref": "y"
         },
         {
          "font": {
           "color": "white",
           "size": 10
          },
          "showarrow": false,
          "text": "0.0%",
          "x": 5,
          "xref": "x",
          "y": 14,
          "yref": "y"
         },
         {
          "font": {
           "color": "white",
           "size": 10
          },
          "showarrow": false,
          "text": "0.0%",
          "x": 6,
          "xref": "x",
          "y": 14,
          "yref": "y"
         },
         {
          "font": {
           "color": "white",
           "size": 10
          },
          "showarrow": false,
          "text": "0.0%",
          "x": 7,
          "xref": "x",
          "y": 14,
          "yref": "y"
         },
         {
          "font": {
           "color": "white",
           "size": 10
          },
          "showarrow": false,
          "text": "0.0%",
          "x": 8,
          "xref": "x",
          "y": 14,
          "yref": "y"
         }
        ],
        "font": {
         "family": "Inter"
        },
        "margin": {
         "b": 40,
         "l": 40,
         "r": 40,
         "t": 40
        },
        "plot_bgcolor": "RGBA(0,0,0,0.01)",
        "template": {
         "data": {
          "bar": [
           {
            "error_x": {
             "color": "#2a3f5f"
            },
            "error_y": {
             "color": "#2a3f5f"
            },
            "marker": {
             "line": {
              "color": "#E5ECF6",
              "width": 0.5
             },
             "pattern": {
              "fillmode": "overlay",
              "size": 10,
              "solidity": 0.2
             }
            },
            "type": "bar"
           }
          ],
          "barpolar": [
           {
            "marker": {
             "line": {
              "color": "#E5ECF6",
              "width": 0.5
             },
             "pattern": {
              "fillmode": "overlay",
              "size": 10,
              "solidity": 0.2
             }
            },
            "type": "barpolar"
           }
          ],
          "carpet": [
           {
            "aaxis": {
             "endlinecolor": "#2a3f5f",
             "gridcolor": "white",
             "linecolor": "white",
             "minorgridcolor": "white",
             "startlinecolor": "#2a3f5f"
            },
            "baxis": {
             "endlinecolor": "#2a3f5f",
             "gridcolor": "white",
             "linecolor": "white",
             "minorgridcolor": "white",
             "startlinecolor": "#2a3f5f"
            },
            "type": "carpet"
           }
          ],
          "choropleth": [
           {
            "colorbar": {
             "outlinewidth": 0,
             "ticks": ""
            },
            "type": "choropleth"
           }
          ],
          "contour": [
           {
            "colorbar": {
             "outlinewidth": 0,
             "ticks": ""
            },
            "colorscale": [
             [
              0,
              "#0d0887"
             ],
             [
              0.1111111111111111,
              "#46039f"
             ],
             [
              0.2222222222222222,
              "#7201a8"
             ],
             [
              0.3333333333333333,
              "#9c179e"
             ],
             [
              0.4444444444444444,
              "#bd3786"
             ],
             [
              0.5555555555555556,
              "#d8576b"
             ],
             [
              0.6666666666666666,
              "#ed7953"
             ],
             [
              0.7777777777777778,
              "#fb9f3a"
             ],
             [
              0.8888888888888888,
              "#fdca26"
             ],
             [
              1,
              "#f0f921"
             ]
            ],
            "type": "contour"
           }
          ],
          "contourcarpet": [
           {
            "colorbar": {
             "outlinewidth": 0,
             "ticks": ""
            },
            "type": "contourcarpet"
           }
          ],
          "heatmap": [
           {
            "colorbar": {
             "outlinewidth": 0,
             "ticks": ""
            },
            "colorscale": [
             [
              0,
              "#0d0887"
             ],
             [
              0.1111111111111111,
              "#46039f"
             ],
             [
              0.2222222222222222,
              "#7201a8"
             ],
             [
              0.3333333333333333,
              "#9c179e"
             ],
             [
              0.4444444444444444,
              "#bd3786"
             ],
             [
              0.5555555555555556,
              "#d8576b"
             ],
             [
              0.6666666666666666,
              "#ed7953"
             ],
             [
              0.7777777777777778,
              "#fb9f3a"
             ],
             [
              0.8888888888888888,
              "#fdca26"
             ],
             [
              1,
              "#f0f921"
             ]
            ],
            "type": "heatmap"
           }
          ],
          "heatmapgl": [
           {
            "colorbar": {
             "outlinewidth": 0,
             "ticks": ""
            },
            "colorscale": [
             [
              0,
              "#0d0887"
             ],
             [
              0.1111111111111111,
              "#46039f"
             ],
             [
              0.2222222222222222,
              "#7201a8"
             ],
             [
              0.3333333333333333,
              "#9c179e"
             ],
             [
              0.4444444444444444,
              "#bd3786"
             ],
             [
              0.5555555555555556,
              "#d8576b"
             ],
             [
              0.6666666666666666,
              "#ed7953"
             ],
             [
              0.7777777777777778,
              "#fb9f3a"
             ],
             [
              0.8888888888888888,
              "#fdca26"
             ],
             [
              1,
              "#f0f921"
             ]
            ],
            "type": "heatmapgl"
           }
          ],
          "histogram": [
           {
            "marker": {
             "pattern": {
              "fillmode": "overlay",
              "size": 10,
              "solidity": 0.2
             }
            },
            "type": "histogram"
           }
          ],
          "histogram2d": [
           {
            "colorbar": {
             "outlinewidth": 0,
             "ticks": ""
            },
            "colorscale": [
             [
              0,
              "#0d0887"
             ],
             [
              0.1111111111111111,
              "#46039f"
             ],
             [
              0.2222222222222222,
              "#7201a8"
             ],
             [
              0.3333333333333333,
              "#9c179e"
             ],
             [
              0.4444444444444444,
              "#bd3786"
             ],
             [
              0.5555555555555556,
              "#d8576b"
             ],
             [
              0.6666666666666666,
              "#ed7953"
             ],
             [
              0.7777777777777778,
              "#fb9f3a"
             ],
             [
              0.8888888888888888,
              "#fdca26"
             ],
             [
              1,
              "#f0f921"
             ]
            ],
            "type": "histogram2d"
           }
          ],
          "histogram2dcontour": [
           {
            "colorbar": {
             "outlinewidth": 0,
             "ticks": ""
            },
            "colorscale": [
             [
              0,
              "#0d0887"
             ],
             [
              0.1111111111111111,
              "#46039f"
             ],
             [
              0.2222222222222222,
              "#7201a8"
             ],
             [
              0.3333333333333333,
              "#9c179e"
             ],
             [
              0.4444444444444444,
              "#bd3786"
             ],
             [
              0.5555555555555556,
              "#d8576b"
             ],
             [
              0.6666666666666666,
              "#ed7953"
             ],
             [
              0.7777777777777778,
              "#fb9f3a"
             ],
             [
              0.8888888888888888,
              "#fdca26"
             ],
             [
              1,
              "#f0f921"
             ]
            ],
            "type": "histogram2dcontour"
           }
          ],
          "mesh3d": [
           {
            "colorbar": {
             "outlinewidth": 0,
             "ticks": ""
            },
            "type": "mesh3d"
           }
          ],
          "parcoords": [
           {
            "line": {
             "colorbar": {
              "outlinewidth": 0,
              "ticks": ""
             }
            },
            "type": "parcoords"
           }
          ],
          "pie": [
           {
            "automargin": true,
            "type": "pie"
           }
          ],
          "scatter": [
           {
            "fillpattern": {
             "fillmode": "overlay",
             "size": 10,
             "solidity": 0.2
            },
            "type": "scatter"
           }
          ],
          "scatter3d": [
           {
            "line": {
             "colorbar": {
              "outlinewidth": 0,
              "ticks": ""
             }
            },
            "marker": {
             "colorbar": {
              "outlinewidth": 0,
              "ticks": ""
             }
            },
            "type": "scatter3d"
           }
          ],
          "scattercarpet": [
           {
            "marker": {
             "colorbar": {
              "outlinewidth": 0,
              "ticks": ""
             }
            },
            "type": "scattercarpet"
           }
          ],
          "scattergeo": [
           {
            "marker": {
             "colorbar": {
              "outlinewidth": 0,
              "ticks": ""
             }
            },
            "type": "scattergeo"
           }
          ],
          "scattergl": [
           {
            "marker": {
             "colorbar": {
              "outlinewidth": 0,
              "ticks": ""
             }
            },
            "type": "scattergl"
           }
          ],
          "scattermapbox": [
           {
            "marker": {
             "colorbar": {
              "outlinewidth": 0,
              "ticks": ""
             }
            },
            "type": "scattermapbox"
           }
          ],
          "scatterpolar": [
           {
            "marker": {
             "colorbar": {
              "outlinewidth": 0,
              "ticks": ""
             }
            },
            "type": "scatterpolar"
           }
          ],
          "scatterpolargl": [
           {
            "marker": {
             "colorbar": {
              "outlinewidth": 0,
              "ticks": ""
             }
            },
            "type": "scatterpolargl"
           }
          ],
          "scatterternary": [
           {
            "marker": {
             "colorbar": {
              "outlinewidth": 0,
              "ticks": ""
             }
            },
            "type": "scatterternary"
           }
          ],
          "surface": [
           {
            "colorbar": {
             "outlinewidth": 0,
             "ticks": ""
            },
            "colorscale": [
             [
              0,
              "#0d0887"
             ],
             [
              0.1111111111111111,
              "#46039f"
             ],
             [
              0.2222222222222222,
              "#7201a8"
             ],
             [
              0.3333333333333333,
              "#9c179e"
             ],
             [
              0.4444444444444444,
              "#bd3786"
             ],
             [
              0.5555555555555556,
              "#d8576b"
             ],
             [
              0.6666666666666666,
              "#ed7953"
             ],
             [
              0.7777777777777778,
              "#fb9f3a"
             ],
             [
              0.8888888888888888,
              "#fdca26"
             ],
             [
              1,
              "#f0f921"
             ]
            ],
            "type": "surface"
           }
          ],
          "table": [
           {
            "cells": {
             "fill": {
              "color": "#EBF0F8"
             },
             "line": {
              "color": "white"
             }
            },
            "header": {
             "fill": {
              "color": "#C8D4E3"
             },
             "line": {
              "color": "white"
             }
            },
            "type": "table"
           }
          ]
         },
         "layout": {
          "annotationdefaults": {
           "arrowcolor": "#2a3f5f",
           "arrowhead": 0,
           "arrowwidth": 1
          },
          "autotypenumbers": "strict",
          "coloraxis": {
           "colorbar": {
            "outlinewidth": 0,
            "ticks": ""
           }
          },
          "colorscale": {
           "diverging": [
            [
             0,
             "#8e0152"
            ],
            [
             0.1,
             "#c51b7d"
            ],
            [
             0.2,
             "#de77ae"
            ],
            [
             0.3,
             "#f1b6da"
            ],
            [
             0.4,
             "#fde0ef"
            ],
            [
             0.5,
             "#f7f7f7"
            ],
            [
             0.6,
             "#e6f5d0"
            ],
            [
             0.7,
             "#b8e186"
            ],
            [
             0.8,
             "#7fbc41"
            ],
            [
             0.9,
             "#4d9221"
            ],
            [
             1,
             "#276419"
            ]
           ],
           "sequential": [
            [
             0,
             "#0d0887"
            ],
            [
             0.1111111111111111,
             "#46039f"
            ],
            [
             0.2222222222222222,
             "#7201a8"
            ],
            [
             0.3333333333333333,
             "#9c179e"
            ],
            [
             0.4444444444444444,
             "#bd3786"
            ],
            [
             0.5555555555555556,
             "#d8576b"
            ],
            [
             0.6666666666666666,
             "#ed7953"
            ],
            [
             0.7777777777777778,
             "#fb9f3a"
            ],
            [
             0.8888888888888888,
             "#fdca26"
            ],
            [
             1,
             "#f0f921"
            ]
           ],
           "sequentialminus": [
            [
             0,
             "#0d0887"
            ],
            [
             0.1111111111111111,
             "#46039f"
            ],
            [
             0.2222222222222222,
             "#7201a8"
            ],
            [
             0.3333333333333333,
             "#9c179e"
            ],
            [
             0.4444444444444444,
             "#bd3786"
            ],
            [
             0.5555555555555556,
             "#d8576b"
            ],
            [
             0.6666666666666666,
             "#ed7953"
            ],
            [
             0.7777777777777778,
             "#fb9f3a"
            ],
            [
             0.8888888888888888,
             "#fdca26"
            ],
            [
             1,
             "#f0f921"
            ]
           ]
          },
          "colorway": [
           "#636efa",
           "#EF553B",
           "#00cc96",
           "#ab63fa",
           "#FFA15A",
           "#19d3f3",
           "#FF6692",
           "#B6E880",
           "#FF97FF",
           "#FECB52"
          ],
          "font": {
           "color": "#2a3f5f"
          },
          "geo": {
           "bgcolor": "white",
           "lakecolor": "white",
           "landcolor": "#E5ECF6",
           "showlakes": true,
           "showland": true,
           "subunitcolor": "white"
          },
          "hoverlabel": {
           "align": "left"
          },
          "hovermode": "closest",
          "mapbox": {
           "style": "light"
          },
          "paper_bgcolor": "white",
          "plot_bgcolor": "#E5ECF6",
          "polar": {
           "angularaxis": {
            "gridcolor": "white",
            "linecolor": "white",
            "ticks": ""
           },
           "bgcolor": "#E5ECF6",
           "radialaxis": {
            "gridcolor": "white",
            "linecolor": "white",
            "ticks": ""
           }
          },
          "scene": {
           "xaxis": {
            "backgroundcolor": "#E5ECF6",
            "gridcolor": "white",
            "gridwidth": 2,
            "linecolor": "white",
            "showbackground": true,
            "ticks": "",
            "zerolinecolor": "white"
           },
           "yaxis": {
            "backgroundcolor": "#E5ECF6",
            "gridcolor": "white",
            "gridwidth": 2,
            "linecolor": "white",
            "showbackground": true,
            "ticks": "",
            "zerolinecolor": "white"
           },
           "zaxis": {
            "backgroundcolor": "#E5ECF6",
            "gridcolor": "white",
            "gridwidth": 2,
            "linecolor": "white",
            "showbackground": true,
            "ticks": "",
            "zerolinecolor": "white"
           }
          },
          "shapedefaults": {
           "line": {
            "color": "#2a3f5f"
           }
          },
          "ternary": {
           "aaxis": {
            "gridcolor": "white",
            "linecolor": "white",
            "ticks": ""
           },
           "baxis": {
            "gridcolor": "white",
            "linecolor": "white",
            "ticks": ""
           },
           "bgcolor": "#E5ECF6",
           "caxis": {
            "gridcolor": "white",
            "linecolor": "white",
            "ticks": ""
           }
          },
          "title": {
           "x": 0.05
          },
          "xaxis": {
           "automargin": true,
           "gridcolor": "white",
           "linecolor": "white",
           "ticks": "",
           "title": {
            "standoff": 15
           },
           "zerolinecolor": "white",
           "zerolinewidth": 2
          },
          "yaxis": {
           "automargin": true,
           "gridcolor": "white",
           "linecolor": "white",
           "ticks": "",
           "title": {
            "standoff": 15
           },
           "zerolinecolor": "white",
           "zerolinewidth": 2
          }
         }
        },
        "title": {
         "text": "Eficiencia - Meta: 85%",
         "x": 0.5
        },
        "xaxis": {
         "nticks": 31,
         "tickangle": 0,
         "tickfont": {
          "color": "gray"
         },
         "tickmode": "linear",
         "ticktext": [
          1,
          2,
          3,
          4,
          5,
          6,
          7,
          8,
          9,
          10,
          11,
          12,
          13,
          14,
          15,
          16,
          17,
          18,
          19,
          20,
          21,
          22,
          23,
          24,
          25,
          26,
          27,
          28,
          29,
          30,
          31
         ],
         "tickvals": [
          1,
          2,
          3,
          4,
          5,
          6,
          7,
          8,
          9,
          10,
          11,
          12,
          13,
          14,
          15,
          16,
          17,
          18,
          19,
          20,
          21,
          22,
          23,
          24,
          25,
          26,
          27,
          28,
          29,
          30,
          31
         ],
         "title": {
          "text": "Dia do Mês"
         }
        },
        "yaxis": {
         "autorange": "reversed",
         "tickfont": {
          "color": "gray"
         },
         "ticksuffix": " ",
         "tickvals": [
          1,
          2,
          3,
          4,
          5,
          6,
          7,
          8,
          9,
          10,
          11,
          12,
          13,
          14
         ],
         "title": {
          "text": "Linha"
         }
        }
       }
      }
     },
     "metadata": {},
     "output_type": "display_data"
    }
   ],
   "source": [
    "heatmap_fig = heatmap.create_heatmap(\n",
    "    heat_noturno, annotations_noturno, IndicatorType.EFFICIENCY, 85, turn=True\n",
    ")\n",
    "heatmap_fig"
   ]
  },
  {
   "cell_type": "markdown",
   "metadata": {},
   "source": [
    "## Line\n"
   ]
  },
  {
   "cell_type": "code",
   "execution_count": 35,
   "metadata": {},
   "outputs": [],
   "source": [
    "class LineGraph:\n",
    "    \"\"\"\n",
    "    A class representing a line graph.\n",
    "\n",
    "    Attributes:\n",
    "        secondary (str): The secondary color for the graph.\n",
    "        primary (str): The primary color for the graph.\n",
    "        danger (str): The danger color for the graph.\n",
    "\n",
    "    Methods:\n",
    "        create_line_graph(dataframe, indicator, meta, template, turn=None):\n",
    "            Create a line graph based on the provided data.\n",
    "\n",
    "    \"\"\"\n",
    "\n",
    "    def __init__(self):\n",
    "        self.secondary = BSColorsEnum.SECONDARY_COLOR.value\n",
    "        self.primary = BSColorsEnum.PRIMARY_COLOR.value\n",
    "        self.danger = BSColorsEnum.DANGER_COLOR.value\n",
    "\n",
    "    def create_line_graph(\n",
    "        self,\n",
    "        dataframe: pd.DataFrame,\n",
    "        indicator: IndicatorType,\n",
    "        meta: int,\n",
    "        turn: str = None,\n",
    "    ):\n",
    "        \"\"\"\n",
    "        Create a line graph based on the provided data.\n",
    "\n",
    "        Args:\n",
    "            dataframe (pd.DataFrame): The input data containing the indicator values.\n",
    "            indicator (IndicatorType): The type of indicator to be plotted.\n",
    "            meta (int): The target value for the indicator.\n",
    "            template (TemplateType): The template type for the graph.\n",
    "            turn (str, optional): The specific turn to filter the data. Defaults to None.\n",
    "\n",
    "        Returns:\n",
    "            dcc.Graph: The line graph visualizing the indicator values.\n",
    "\n",
    "        \"\"\"\n",
    "\n",
    "        # Pegar o valor do indicador\n",
    "        indicator = indicator.value\n",
    "\n",
    "        # Converter 'data_registro' para datetime e criar uma nova coluna 'data_turno'\n",
    "        dataframe[\"data_registro\"] = pd.to_datetime(dataframe[\"data_registro\"])\n",
    "        dataframe[\"data_turno\"] = dataframe[\"data_registro\"].dt.strftime(\"%Y-%m-%d\")\n",
    "\n",
    "        # Filtrar por turno\n",
    "        dataframe = dataframe[dataframe[\"turno\"] == turn] if turn and turn != \"TOT\" else dataframe\n",
    "\n",
    "        # Agrupar por 'data_turno' e 'turno' e calcular a média do indicador\n",
    "        df_grouped = dataframe.groupby([\"data_turno\"])[indicator].mean().reset_index()\n",
    "\n",
    "        # Multiplicar por 100 para converter para porcentagem\n",
    "        df_grouped[indicator] = df_grouped[indicator] * 100\n",
    "\n",
    "        # Criação de um DataFrame com todas as datas do mês atual\n",
    "        start_date = dataframe[\"data_registro\"].min()\n",
    "        end_date = start_date + pd.tseries.offsets.MonthEnd(1)\n",
    "        all_dates = pd.date_range(start_date, end_date).strftime(\"%Y-%m-%d\")\n",
    "        dataframe_all_dates = pd.DataFrame(all_dates, columns=[\"data_turno\"])\n",
    "\n",
    "        # Mesclar o DataFrame original com o DataFrame de todas as datas\n",
    "        df_grouped = pd.merge(dataframe_all_dates, df_grouped, on=\"data_turno\", how=\"left\")\n",
    "\n",
    "        # Substituir valores nulos por 0\n",
    "        df_grouped[indicator] = df_grouped[indicator].fillna(0)\n",
    "\n",
    "        # Criação do gráfico\n",
    "        fig = go.Figure(\n",
    "            data=[\n",
    "                go.Scatter(\n",
    "                    x=df_grouped[\"data_turno\"],\n",
    "                    y=df_grouped[indicator],\n",
    "                    mode=\"lines+markers\",\n",
    "                    marker=dict(color=self.primary),\n",
    "                    line=dict(color=self.primary),\n",
    "                    hovertemplate=f\"<i>Dia</i>: %{{x}}\"\n",
    "                    f\"<br><b>{indicator.capitalize()}</b>: %{{y:.1f}}<br>\",\n",
    "                    hoverinfo=\"skip\",\n",
    "                )\n",
    "            ],\n",
    "            layout=go.Layout(\n",
    "                showlegend=False,\n",
    "                xaxis=dict(showticklabels=False),\n",
    "                yaxis=dict(showticklabels=False, autorange=True),\n",
    "                margin=dict(l=0, r=0, t=0, b=0),\n",
    "                height=None,\n",
    "                autosize=True,\n",
    "                font=dict(family=\"Inter\"),\n",
    "                plot_bgcolor=\"RGBA(0,0,0,0.001)\",\n",
    "            ),\n",
    "        )\n",
    "\n",
    "        # Linha de meta\n",
    "        fig.add_trace(\n",
    "            go.Scatter(\n",
    "                x=df_grouped[\"data_turno\"],\n",
    "                y=[meta] * len(df_grouped),\n",
    "                mode=\"lines\",\n",
    "                name=\"Meta\",\n",
    "                line=dict(color=self.danger, dash=\"dash\"),\n",
    "                hovertemplate=\"<b>Meta</b>: %{y:.0f}%<extra></extra>\",\n",
    "            )\n",
    "        )\n",
    "\n",
    "        return fig\n",
    "\n",
    "\n",
    "line_graph = LineGraph()"
   ]
  },
  {
   "cell_type": "code",
   "execution_count": 36,
   "metadata": {},
   "outputs": [
    {
     "data": {
      "application/vnd.plotly.v1+json": {
       "config": {
        "plotlyServerURL": "https://plot.ly"
       },
       "data": [
        {
         "hoverinfo": "skip",
         "hovertemplate": "<i>Dia</i>: %{x}<br><b>Eficiencia</b>: %{y:.1f}<br>",
         "line": {
          "color": "#0d6efd"
         },
         "marker": {
          "color": "#0d6efd"
         },
         "mode": "lines+markers",
         "type": "scatter",
         "x": [
          "2024-05-01",
          "2024-05-02",
          "2024-05-03",
          "2024-05-04",
          "2024-05-05",
          "2024-05-06",
          "2024-05-07",
          "2024-05-08",
          "2024-05-09",
          "2024-05-10",
          "2024-05-11",
          "2024-05-12",
          "2024-05-13",
          "2024-05-14",
          "2024-05-15",
          "2024-05-16",
          "2024-05-17",
          "2024-05-18",
          "2024-05-19",
          "2024-05-20",
          "2024-05-21",
          "2024-05-22",
          "2024-05-23",
          "2024-05-24",
          "2024-05-25",
          "2024-05-26",
          "2024-05-27",
          "2024-05-28",
          "2024-05-29",
          "2024-05-30",
          "2024-05-31"
         ],
         "y": [
          5.250000000000001,
          32.84615384615384,
          35.53846153846154,
          38.07692307692308,
          12.846153846153847,
          47,
          31.769230769230766,
          37.35714285714286,
          0,
          0,
          0,
          0,
          0,
          0,
          0,
          0,
          0,
          0,
          0,
          0,
          0,
          0,
          0,
          0,
          0,
          0,
          0,
          0,
          0,
          0,
          0
         ]
        },
        {
         "hovertemplate": "<b>Meta</b>: %{y:.0f}%<extra></extra>",
         "line": {
          "color": "#dc3545",
          "dash": "dash"
         },
         "mode": "lines",
         "name": "Meta",
         "type": "scatter",
         "x": [
          "2024-05-01",
          "2024-05-02",
          "2024-05-03",
          "2024-05-04",
          "2024-05-05",
          "2024-05-06",
          "2024-05-07",
          "2024-05-08",
          "2024-05-09",
          "2024-05-10",
          "2024-05-11",
          "2024-05-12",
          "2024-05-13",
          "2024-05-14",
          "2024-05-15",
          "2024-05-16",
          "2024-05-17",
          "2024-05-18",
          "2024-05-19",
          "2024-05-20",
          "2024-05-21",
          "2024-05-22",
          "2024-05-23",
          "2024-05-24",
          "2024-05-25",
          "2024-05-26",
          "2024-05-27",
          "2024-05-28",
          "2024-05-29",
          "2024-05-30",
          "2024-05-31"
         ],
         "y": [
          85,
          85,
          85,
          85,
          85,
          85,
          85,
          85,
          85,
          85,
          85,
          85,
          85,
          85,
          85,
          85,
          85,
          85,
          85,
          85,
          85,
          85,
          85,
          85,
          85,
          85,
          85,
          85,
          85,
          85,
          85
         ]
        }
       ],
       "layout": {
        "autosize": true,
        "font": {
         "family": "Inter"
        },
        "margin": {
         "b": 0,
         "l": 0,
         "r": 0,
         "t": 0
        },
        "plot_bgcolor": "RGBA(0,0,0,0.001)",
        "showlegend": false,
        "template": {
         "data": {
          "bar": [
           {
            "error_x": {
             "color": "#2a3f5f"
            },
            "error_y": {
             "color": "#2a3f5f"
            },
            "marker": {
             "line": {
              "color": "#E5ECF6",
              "width": 0.5
             },
             "pattern": {
              "fillmode": "overlay",
              "size": 10,
              "solidity": 0.2
             }
            },
            "type": "bar"
           }
          ],
          "barpolar": [
           {
            "marker": {
             "line": {
              "color": "#E5ECF6",
              "width": 0.5
             },
             "pattern": {
              "fillmode": "overlay",
              "size": 10,
              "solidity": 0.2
             }
            },
            "type": "barpolar"
           }
          ],
          "carpet": [
           {
            "aaxis": {
             "endlinecolor": "#2a3f5f",
             "gridcolor": "white",
             "linecolor": "white",
             "minorgridcolor": "white",
             "startlinecolor": "#2a3f5f"
            },
            "baxis": {
             "endlinecolor": "#2a3f5f",
             "gridcolor": "white",
             "linecolor": "white",
             "minorgridcolor": "white",
             "startlinecolor": "#2a3f5f"
            },
            "type": "carpet"
           }
          ],
          "choropleth": [
           {
            "colorbar": {
             "outlinewidth": 0,
             "ticks": ""
            },
            "type": "choropleth"
           }
          ],
          "contour": [
           {
            "colorbar": {
             "outlinewidth": 0,
             "ticks": ""
            },
            "colorscale": [
             [
              0,
              "#0d0887"
             ],
             [
              0.1111111111111111,
              "#46039f"
             ],
             [
              0.2222222222222222,
              "#7201a8"
             ],
             [
              0.3333333333333333,
              "#9c179e"
             ],
             [
              0.4444444444444444,
              "#bd3786"
             ],
             [
              0.5555555555555556,
              "#d8576b"
             ],
             [
              0.6666666666666666,
              "#ed7953"
             ],
             [
              0.7777777777777778,
              "#fb9f3a"
             ],
             [
              0.8888888888888888,
              "#fdca26"
             ],
             [
              1,
              "#f0f921"
             ]
            ],
            "type": "contour"
           }
          ],
          "contourcarpet": [
           {
            "colorbar": {
             "outlinewidth": 0,
             "ticks": ""
            },
            "type": "contourcarpet"
           }
          ],
          "heatmap": [
           {
            "colorbar": {
             "outlinewidth": 0,
             "ticks": ""
            },
            "colorscale": [
             [
              0,
              "#0d0887"
             ],
             [
              0.1111111111111111,
              "#46039f"
             ],
             [
              0.2222222222222222,
              "#7201a8"
             ],
             [
              0.3333333333333333,
              "#9c179e"
             ],
             [
              0.4444444444444444,
              "#bd3786"
             ],
             [
              0.5555555555555556,
              "#d8576b"
             ],
             [
              0.6666666666666666,
              "#ed7953"
             ],
             [
              0.7777777777777778,
              "#fb9f3a"
             ],
             [
              0.8888888888888888,
              "#fdca26"
             ],
             [
              1,
              "#f0f921"
             ]
            ],
            "type": "heatmap"
           }
          ],
          "heatmapgl": [
           {
            "colorbar": {
             "outlinewidth": 0,
             "ticks": ""
            },
            "colorscale": [
             [
              0,
              "#0d0887"
             ],
             [
              0.1111111111111111,
              "#46039f"
             ],
             [
              0.2222222222222222,
              "#7201a8"
             ],
             [
              0.3333333333333333,
              "#9c179e"
             ],
             [
              0.4444444444444444,
              "#bd3786"
             ],
             [
              0.5555555555555556,
              "#d8576b"
             ],
             [
              0.6666666666666666,
              "#ed7953"
             ],
             [
              0.7777777777777778,
              "#fb9f3a"
             ],
             [
              0.8888888888888888,
              "#fdca26"
             ],
             [
              1,
              "#f0f921"
             ]
            ],
            "type": "heatmapgl"
           }
          ],
          "histogram": [
           {
            "marker": {
             "pattern": {
              "fillmode": "overlay",
              "size": 10,
              "solidity": 0.2
             }
            },
            "type": "histogram"
           }
          ],
          "histogram2d": [
           {
            "colorbar": {
             "outlinewidth": 0,
             "ticks": ""
            },
            "colorscale": [
             [
              0,
              "#0d0887"
             ],
             [
              0.1111111111111111,
              "#46039f"
             ],
             [
              0.2222222222222222,
              "#7201a8"
             ],
             [
              0.3333333333333333,
              "#9c179e"
             ],
             [
              0.4444444444444444,
              "#bd3786"
             ],
             [
              0.5555555555555556,
              "#d8576b"
             ],
             [
              0.6666666666666666,
              "#ed7953"
             ],
             [
              0.7777777777777778,
              "#fb9f3a"
             ],
             [
              0.8888888888888888,
              "#fdca26"
             ],
             [
              1,
              "#f0f921"
             ]
            ],
            "type": "histogram2d"
           }
          ],
          "histogram2dcontour": [
           {
            "colorbar": {
             "outlinewidth": 0,
             "ticks": ""
            },
            "colorscale": [
             [
              0,
              "#0d0887"
             ],
             [
              0.1111111111111111,
              "#46039f"
             ],
             [
              0.2222222222222222,
              "#7201a8"
             ],
             [
              0.3333333333333333,
              "#9c179e"
             ],
             [
              0.4444444444444444,
              "#bd3786"
             ],
             [
              0.5555555555555556,
              "#d8576b"
             ],
             [
              0.6666666666666666,
              "#ed7953"
             ],
             [
              0.7777777777777778,
              "#fb9f3a"
             ],
             [
              0.8888888888888888,
              "#fdca26"
             ],
             [
              1,
              "#f0f921"
             ]
            ],
            "type": "histogram2dcontour"
           }
          ],
          "mesh3d": [
           {
            "colorbar": {
             "outlinewidth": 0,
             "ticks": ""
            },
            "type": "mesh3d"
           }
          ],
          "parcoords": [
           {
            "line": {
             "colorbar": {
              "outlinewidth": 0,
              "ticks": ""
             }
            },
            "type": "parcoords"
           }
          ],
          "pie": [
           {
            "automargin": true,
            "type": "pie"
           }
          ],
          "scatter": [
           {
            "fillpattern": {
             "fillmode": "overlay",
             "size": 10,
             "solidity": 0.2
            },
            "type": "scatter"
           }
          ],
          "scatter3d": [
           {
            "line": {
             "colorbar": {
              "outlinewidth": 0,
              "ticks": ""
             }
            },
            "marker": {
             "colorbar": {
              "outlinewidth": 0,
              "ticks": ""
             }
            },
            "type": "scatter3d"
           }
          ],
          "scattercarpet": [
           {
            "marker": {
             "colorbar": {
              "outlinewidth": 0,
              "ticks": ""
             }
            },
            "type": "scattercarpet"
           }
          ],
          "scattergeo": [
           {
            "marker": {
             "colorbar": {
              "outlinewidth": 0,
              "ticks": ""
             }
            },
            "type": "scattergeo"
           }
          ],
          "scattergl": [
           {
            "marker": {
             "colorbar": {
              "outlinewidth": 0,
              "ticks": ""
             }
            },
            "type": "scattergl"
           }
          ],
          "scattermapbox": [
           {
            "marker": {
             "colorbar": {
              "outlinewidth": 0,
              "ticks": ""
             }
            },
            "type": "scattermapbox"
           }
          ],
          "scatterpolar": [
           {
            "marker": {
             "colorbar": {
              "outlinewidth": 0,
              "ticks": ""
             }
            },
            "type": "scatterpolar"
           }
          ],
          "scatterpolargl": [
           {
            "marker": {
             "colorbar": {
              "outlinewidth": 0,
              "ticks": ""
             }
            },
            "type": "scatterpolargl"
           }
          ],
          "scatterternary": [
           {
            "marker": {
             "colorbar": {
              "outlinewidth": 0,
              "ticks": ""
             }
            },
            "type": "scatterternary"
           }
          ],
          "surface": [
           {
            "colorbar": {
             "outlinewidth": 0,
             "ticks": ""
            },
            "colorscale": [
             [
              0,
              "#0d0887"
             ],
             [
              0.1111111111111111,
              "#46039f"
             ],
             [
              0.2222222222222222,
              "#7201a8"
             ],
             [
              0.3333333333333333,
              "#9c179e"
             ],
             [
              0.4444444444444444,
              "#bd3786"
             ],
             [
              0.5555555555555556,
              "#d8576b"
             ],
             [
              0.6666666666666666,
              "#ed7953"
             ],
             [
              0.7777777777777778,
              "#fb9f3a"
             ],
             [
              0.8888888888888888,
              "#fdca26"
             ],
             [
              1,
              "#f0f921"
             ]
            ],
            "type": "surface"
           }
          ],
          "table": [
           {
            "cells": {
             "fill": {
              "color": "#EBF0F8"
             },
             "line": {
              "color": "white"
             }
            },
            "header": {
             "fill": {
              "color": "#C8D4E3"
             },
             "line": {
              "color": "white"
             }
            },
            "type": "table"
           }
          ]
         },
         "layout": {
          "annotationdefaults": {
           "arrowcolor": "#2a3f5f",
           "arrowhead": 0,
           "arrowwidth": 1
          },
          "autotypenumbers": "strict",
          "coloraxis": {
           "colorbar": {
            "outlinewidth": 0,
            "ticks": ""
           }
          },
          "colorscale": {
           "diverging": [
            [
             0,
             "#8e0152"
            ],
            [
             0.1,
             "#c51b7d"
            ],
            [
             0.2,
             "#de77ae"
            ],
            [
             0.3,
             "#f1b6da"
            ],
            [
             0.4,
             "#fde0ef"
            ],
            [
             0.5,
             "#f7f7f7"
            ],
            [
             0.6,
             "#e6f5d0"
            ],
            [
             0.7,
             "#b8e186"
            ],
            [
             0.8,
             "#7fbc41"
            ],
            [
             0.9,
             "#4d9221"
            ],
            [
             1,
             "#276419"
            ]
           ],
           "sequential": [
            [
             0,
             "#0d0887"
            ],
            [
             0.1111111111111111,
             "#46039f"
            ],
            [
             0.2222222222222222,
             "#7201a8"
            ],
            [
             0.3333333333333333,
             "#9c179e"
            ],
            [
             0.4444444444444444,
             "#bd3786"
            ],
            [
             0.5555555555555556,
             "#d8576b"
            ],
            [
             0.6666666666666666,
             "#ed7953"
            ],
            [
             0.7777777777777778,
             "#fb9f3a"
            ],
            [
             0.8888888888888888,
             "#fdca26"
            ],
            [
             1,
             "#f0f921"
            ]
           ],
           "sequentialminus": [
            [
             0,
             "#0d0887"
            ],
            [
             0.1111111111111111,
             "#46039f"
            ],
            [
             0.2222222222222222,
             "#7201a8"
            ],
            [
             0.3333333333333333,
             "#9c179e"
            ],
            [
             0.4444444444444444,
             "#bd3786"
            ],
            [
             0.5555555555555556,
             "#d8576b"
            ],
            [
             0.6666666666666666,
             "#ed7953"
            ],
            [
             0.7777777777777778,
             "#fb9f3a"
            ],
            [
             0.8888888888888888,
             "#fdca26"
            ],
            [
             1,
             "#f0f921"
            ]
           ]
          },
          "colorway": [
           "#636efa",
           "#EF553B",
           "#00cc96",
           "#ab63fa",
           "#FFA15A",
           "#19d3f3",
           "#FF6692",
           "#B6E880",
           "#FF97FF",
           "#FECB52"
          ],
          "font": {
           "color": "#2a3f5f"
          },
          "geo": {
           "bgcolor": "white",
           "lakecolor": "white",
           "landcolor": "#E5ECF6",
           "showlakes": true,
           "showland": true,
           "subunitcolor": "white"
          },
          "hoverlabel": {
           "align": "left"
          },
          "hovermode": "closest",
          "mapbox": {
           "style": "light"
          },
          "paper_bgcolor": "white",
          "plot_bgcolor": "#E5ECF6",
          "polar": {
           "angularaxis": {
            "gridcolor": "white",
            "linecolor": "white",
            "ticks": ""
           },
           "bgcolor": "#E5ECF6",
           "radialaxis": {
            "gridcolor": "white",
            "linecolor": "white",
            "ticks": ""
           }
          },
          "scene": {
           "xaxis": {
            "backgroundcolor": "#E5ECF6",
            "gridcolor": "white",
            "gridwidth": 2,
            "linecolor": "white",
            "showbackground": true,
            "ticks": "",
            "zerolinecolor": "white"
           },
           "yaxis": {
            "backgroundcolor": "#E5ECF6",
            "gridcolor": "white",
            "gridwidth": 2,
            "linecolor": "white",
            "showbackground": true,
            "ticks": "",
            "zerolinecolor": "white"
           },
           "zaxis": {
            "backgroundcolor": "#E5ECF6",
            "gridcolor": "white",
            "gridwidth": 2,
            "linecolor": "white",
            "showbackground": true,
            "ticks": "",
            "zerolinecolor": "white"
           }
          },
          "shapedefaults": {
           "line": {
            "color": "#2a3f5f"
           }
          },
          "ternary": {
           "aaxis": {
            "gridcolor": "white",
            "linecolor": "white",
            "ticks": ""
           },
           "baxis": {
            "gridcolor": "white",
            "linecolor": "white",
            "ticks": ""
           },
           "bgcolor": "#E5ECF6",
           "caxis": {
            "gridcolor": "white",
            "linecolor": "white",
            "ticks": ""
           }
          },
          "title": {
           "x": 0.05
          },
          "xaxis": {
           "automargin": true,
           "gridcolor": "white",
           "linecolor": "white",
           "ticks": "",
           "title": {
            "standoff": 15
           },
           "zerolinecolor": "white",
           "zerolinewidth": 2
          },
          "yaxis": {
           "automargin": true,
           "gridcolor": "white",
           "linecolor": "white",
           "ticks": "",
           "title": {
            "standoff": 15
           },
           "zerolinecolor": "white",
           "zerolinewidth": 2
          }
         }
        },
        "xaxis": {
         "showticklabels": false
        },
        "yaxis": {
         "autorange": true,
         "showticklabels": false
        }
       }
      }
     },
     "metadata": {},
     "output_type": "display_data"
    }
   ],
   "source": [
    "line_fig = line_graph.create_line_graph(df_eff, IndicatorType.EFFICIENCY, 85, \"NOT\")\n",
    "line_fig"
   ]
  },
  {
   "cell_type": "markdown",
   "metadata": {},
   "source": [
    "## Bar Chart\n"
   ]
  },
  {
   "cell_type": "code",
   "execution_count": 58,
   "metadata": {},
   "outputs": [],
   "source": [
    "class BarChartDetails:\n",
    "    \"\"\"\n",
    "    Represents a class for creating bar chart details based on provided data.\n",
    "    \"\"\"\n",
    "\n",
    "    def __init__(self, df_maq_stopped: pd.DataFrame, df_production: pd.DataFrame):\n",
    "        self.df_indicator = DFIndicators(df_maq_stopped, df_production)\n",
    "\n",
    "    def create_bar_chart_details(\n",
    "        self,\n",
    "        dataframe: pd.DataFrame,\n",
    "        indicator: IndicatorType,\n",
    "        turn: str = None,\n",
    "        selected_data: str = None,\n",
    "        working: pd.DataFrame = None,\n",
    "        choice: str = \"motivo\",\n",
    "    ):\n",
    "        \"\"\"\n",
    "        Creates a bar chart with details based on the provided data.\n",
    "\n",
    "        Args:\n",
    "            dataframe (pd.DataFrame): The input dataframe containing the data.\n",
    "            indicator (IndicatorType): The type of indicator.\n",
    "            template (TemplateType): The type of template.\n",
    "            turn (str): The turn value.\n",
    "            selected_data: The selected data.\n",
    "            working (pd.DataFrame, optional): The working dataframe. Defaults to None.\n",
    "\n",
    "        Returns:\n",
    "            dcc.Graph: The bar chart as a Dash component.\n",
    "        \"\"\"\n",
    "        df = self.df_indicator.adjust_df_for_bar_lost(dataframe, indicator, working_minutes=working)\n",
    "\n",
    "        # Garante que data_registro tenha apenas o dia\n",
    "        df[\"data_registro\"] = pd.to_datetime(df[\"data_registro\"]).dt.date\n",
    "\n",
    "        # Filtro pelo dia, caso tenha sido selecionado\n",
    "        df = (\n",
    "            df[df[\"data_registro\"] == pd.to_datetime(selected_data).date()]\n",
    "            if selected_data is not None\n",
    "            else df\n",
    "        )\n",
    "\n",
    "        motivos = df[choice].unique()\n",
    "        # Definir cores\n",
    "        palette = sns.color_palette(\"tab20\", len(motivos)).as_hex()\n",
    "\n",
    "        color_dict = dict(zip(motivos, palette))\n",
    "\n",
    "        if choice == \"motivo\":\n",
    "            # Criar coluna sort para ordenar os dados\n",
    "            df[\"sort\"] = (\n",
    "                df[\"motivo\"].map({\"Rodando\": 0, \"Parada Programada\": 2, \"Limpeza\": 1}).fillna(9)\n",
    "            )\n",
    "\n",
    "            # Ordenar por sort e tempo_registro_min\n",
    "            df = df.sort_values(\n",
    "                by=[\"linha\", \"sort\", \"data_registro\", \"tempo\"],\n",
    "                ascending=[True, True, True, False],\n",
    "            )\n",
    "\n",
    "            # Remover a coluna sort\n",
    "            df = df.drop(columns=[\"sort\"])\n",
    "\n",
    "            # Mapear cores\n",
    "            color_dict = {\n",
    "                \"Parada de 5 minutos ou menos\": BSColorsEnum.GREY_400_COLOR.value,\n",
    "                \"Sem Motivo Informado\": BSColorsEnum.GREY_600_COLOR.value,\n",
    "                \"Ajustes\": BSColorsEnum.TEAL_COLOR.value,\n",
    "                \"Manutenção\": BSColorsEnum.SPACE_CADET_COLOR.value,\n",
    "                \"Qualidade\": BSColorsEnum.WARNING_COLOR.value,\n",
    "                \"Fluxo\": BSColorsEnum.PINK_COLOR.value,\n",
    "                \"Parada Programada\": BSColorsEnum.DANGER_COLOR.value,\n",
    "                \"Setup\": BSColorsEnum.SECONDARY_COLOR.value,\n",
    "                \"Limpeza\": BSColorsEnum.PRIMARY_COLOR.value,\n",
    "                \"Rodando\": BSColorsEnum.SUCCESS_COLOR.value,\n",
    "            }\n",
    "\n",
    "        # Criação do gráfico\n",
    "        fig = px.bar(\n",
    "            df,\n",
    "            x=\"linha\",\n",
    "            y=\"tempo\",\n",
    "            color=choice,\n",
    "            barmode=\"stack\",\n",
    "            color_discrete_map=color_dict,\n",
    "            title=\"Detalhes de Tempo\",\n",
    "            labels={\n",
    "                \"tempo\": \"Tempo (min)\",\n",
    "                \"linha\": \"Linha\",\n",
    "                choice: choice.capitalize(),\n",
    "            },\n",
    "        )\n",
    "\n",
    "        tick_color = \"gray\"\n",
    "\n",
    "        # Atualizar layout\n",
    "        fig.update_layout(\n",
    "            xaxis=dict(\n",
    "                categoryorder=\"category ascending\",\n",
    "                tickvals=df[\"linha\"].unique(),\n",
    "                tickfont=dict(color=tick_color),\n",
    "            ),\n",
    "            yaxis=dict(tickfont=dict(color=tick_color)),\n",
    "            title_x=0.5,\n",
    "            xaxis_title=\"Linha\",\n",
    "            yaxis_title=\"Tempo (min)\",\n",
    "            legend_title=choice.capitalize(),\n",
    "            plot_bgcolor=\"RGBA(0,0,0,0.01)\",\n",
    "            margin=dict(t=40, b=40, l=40, r=40),\n",
    "        )\n",
    "\n",
    "        return fig\n",
    "\n",
    "\n",
    "bar_chart_details = BarChartDetails(df_maq_stopped.copy(), df_info_production_cleaned.copy())"
   ]
  },
  {
   "cell_type": "code",
   "execution_count": 59,
   "metadata": {},
   "outputs": [
    {
     "data": {
      "application/vnd.plotly.v1+json": {
       "config": {
        "plotlyServerURL": "https://plot.ly"
       },
       "data": [
        {
         "alignmentgroup": "True",
         "hovertemplate": "Motivo=Rodando<br>Linha=%{x}<br>Tempo (min)=%{y}<extra></extra>",
         "legendgroup": "Rodando",
         "marker": {
          "color": "#198754",
          "pattern": {
           "shape": ""
          }
         },
         "name": "Rodando",
         "offsetgroup": "Rodando",
         "orientation": "v",
         "showlegend": true,
         "textposition": "auto",
         "type": "bar",
         "x": [
          1,
          1,
          1,
          1,
          1,
          1,
          1,
          1,
          1,
          1,
          1,
          1,
          1,
          1,
          1,
          1,
          1,
          2,
          2,
          2,
          2,
          2,
          2,
          2,
          2,
          2,
          2,
          2,
          2,
          2,
          2,
          2,
          2,
          2,
          2,
          4,
          4,
          4,
          4,
          4,
          4,
          4,
          4,
          4,
          4,
          4,
          4,
          4,
          4,
          4,
          4,
          5,
          5,
          5,
          5,
          5,
          5,
          5,
          5,
          5,
          5,
          5,
          5,
          5,
          5,
          5,
          5,
          5,
          5,
          6,
          6,
          6,
          6,
          6,
          6,
          6,
          6,
          6,
          6,
          6,
          6,
          6,
          6,
          6,
          6,
          6,
          6,
          7,
          7,
          7,
          7,
          7,
          7,
          7,
          7,
          7,
          7,
          7,
          7,
          7,
          7,
          8,
          8,
          8,
          8,
          8,
          8,
          8,
          8,
          8,
          9,
          9,
          9,
          9,
          9,
          9,
          9,
          9,
          9,
          9,
          9,
          9,
          9,
          9,
          9,
          9,
          9,
          10,
          10,
          10,
          10,
          10,
          10,
          11,
          11,
          11,
          11,
          11,
          11,
          11,
          11,
          11,
          11,
          11,
          11,
          11,
          11,
          11,
          12,
          12,
          12,
          12,
          12,
          12,
          12,
          12,
          12,
          12,
          12,
          12,
          12,
          12,
          13,
          13,
          13,
          13,
          13,
          13,
          14
         ],
         "xaxis": "x",
         "y": [
          304,
          304,
          176,
          398,
          318,
          144,
          342,
          292,
          136,
          366,
          269,
          246,
          404,
          296,
          138,
          398,
          57,
          38,
          480,
          480,
          478,
          480,
          356,
          136,
          480,
          480,
          152,
          104,
          479,
          478,
          468,
          480,
          478,
          468,
          318,
          380,
          324,
          302,
          386,
          306,
          228,
          402,
          296,
          112,
          197,
          188,
          157,
          318,
          216,
          390,
          56,
          458,
          380,
          346,
          448,
          348,
          298,
          402,
          378,
          62,
          10,
          452,
          438,
          417,
          402,
          338,
          296,
          294,
          41,
          400,
          320,
          194,
          396,
          346,
          62,
          322,
          68,
          10,
          2,
          456,
          395,
          236,
          386,
          272,
          76,
          200,
          54,
          458,
          372,
          284,
          426,
          398,
          296,
          324,
          88,
          70,
          2,
          252,
          162,
          68,
          30,
          20,
          402,
          208,
          132,
          446,
          386,
          360,
          346,
          85,
          446,
          356,
          186,
          288,
          272,
          152,
          384,
          316,
          74,
          335,
          320,
          282,
          392,
          342,
          310,
          318,
          10,
          158,
          156,
          10,
          332,
          258,
          116,
          404,
          300,
          74,
          406,
          388,
          374,
          412,
          379,
          102,
          2,
          400,
          388,
          386,
          406,
          82,
          374,
          70,
          410,
          372,
          254,
          423,
          416,
          44,
          320,
          230,
          16,
          406,
          352,
          34,
          238,
          42,
          404,
          210,
          398,
          70,
          19
         ],
         "yaxis": "y"
        },
        {
         "alignmentgroup": "True",
         "hovertemplate": "Motivo=Limpeza<br>Linha=%{x}<br>Tempo (min)=%{y}<extra></extra>",
         "legendgroup": "Limpeza",
         "marker": {
          "color": "#0d6efd",
          "pattern": {
           "shape": ""
          }
         },
         "name": "Limpeza",
         "offsetgroup": "Limpeza",
         "orientation": "v",
         "showlegend": true,
         "textposition": "auto",
         "type": "bar",
         "x": [
          1,
          7
         ],
         "xaxis": "x",
         "y": [
          16,
          2
         ],
         "yaxis": "y"
        },
        {
         "alignmentgroup": "True",
         "hovertemplate": "Motivo=Parada Programada<br>Linha=%{x}<br>Tempo (min)=%{y}<extra></extra>",
         "legendgroup": "Parada Programada",
         "marker": {
          "color": "#dc3545",
          "pattern": {
           "shape": ""
          }
         },
         "name": "Parada Programada",
         "offsetgroup": "Parada Programada",
         "orientation": "v",
         "showlegend": true,
         "textposition": "auto",
         "type": "bar",
         "x": [
          1,
          1,
          1,
          1,
          1,
          1,
          2,
          2,
          6,
          7,
          7,
          7,
          7
         ],
         "xaxis": "x",
         "y": [
          480,
          272,
          208,
          6,
          148,
          82,
          274,
          2,
          252,
          10,
          4,
          4,
          4
         ],
         "yaxis": "y"
        },
        {
         "alignmentgroup": "True",
         "hovertemplate": "Motivo=Sem Motivo Informado<br>Linha=%{x}<br>Tempo (min)=%{y}<extra></extra>",
         "legendgroup": "Sem Motivo Informado",
         "marker": {
          "color": "#6c757d",
          "pattern": {
           "shape": ""
          }
         },
         "name": "Sem Motivo Informado",
         "offsetgroup": "Sem Motivo Informado",
         "orientation": "v",
         "showlegend": true,
         "textposition": "auto",
         "type": "bar",
         "x": [
          1,
          1,
          1,
          1,
          1,
          1,
          1,
          1,
          1,
          1,
          1,
          1,
          1,
          1,
          1,
          1,
          1,
          1,
          1,
          1,
          1,
          1,
          1,
          1,
          1,
          1,
          1,
          1,
          1,
          1,
          1,
          1,
          1,
          1,
          1,
          1,
          1,
          1,
          1,
          1,
          1,
          1,
          1,
          1,
          1,
          1,
          1,
          1,
          1,
          1,
          1,
          1,
          1,
          1,
          1,
          1,
          1,
          1,
          1,
          1,
          1,
          1,
          1,
          1,
          1,
          1,
          1,
          1,
          1,
          1,
          1,
          1,
          1,
          1,
          1,
          1,
          1,
          1,
          1,
          1,
          1,
          1,
          1,
          1,
          1,
          1,
          1,
          1,
          1,
          1,
          1,
          1,
          1,
          1,
          1,
          1,
          1,
          1,
          1,
          1,
          2,
          2,
          2,
          2,
          2,
          2,
          2,
          2,
          2,
          2,
          2,
          2,
          2,
          2,
          2,
          3,
          3,
          3,
          3,
          3,
          4,
          4,
          4,
          4,
          4,
          4,
          4,
          4,
          4,
          4,
          4,
          4,
          4,
          4,
          4,
          4,
          4,
          4,
          4,
          4,
          4,
          4,
          4,
          4,
          4,
          4,
          4,
          4,
          4,
          4,
          4,
          4,
          4,
          4,
          4,
          4,
          4,
          4,
          4,
          4,
          4,
          4,
          4,
          4,
          4,
          4,
          4,
          4,
          4,
          4,
          4,
          4,
          4,
          4,
          4,
          4,
          4,
          4,
          4,
          4,
          4,
          4,
          4,
          4,
          4,
          4,
          4,
          4,
          4,
          4,
          4,
          4,
          4,
          4,
          4,
          4,
          4,
          4,
          4,
          4,
          4,
          4,
          4,
          4,
          4,
          4,
          4,
          4,
          4,
          5,
          5,
          5,
          5,
          5,
          5,
          5,
          5,
          5,
          5,
          5,
          5,
          5,
          5,
          5,
          5,
          5,
          5,
          5,
          5,
          5,
          5,
          5,
          5,
          5,
          5,
          5,
          5,
          5,
          5,
          5,
          5,
          5,
          5,
          5,
          5,
          5,
          5,
          5,
          5,
          5,
          5,
          5,
          5,
          5,
          5,
          5,
          5,
          5,
          5,
          5,
          5,
          5,
          5,
          5,
          5,
          5,
          5,
          5,
          5,
          5,
          5,
          5,
          5,
          5,
          5,
          5,
          5,
          5,
          5,
          5,
          5,
          5,
          5,
          5,
          5,
          5,
          5,
          5,
          5,
          5,
          5,
          5,
          5,
          5,
          5,
          5,
          5,
          5,
          5,
          5,
          5,
          5,
          5,
          5,
          5,
          5,
          5,
          5,
          5,
          5,
          6,
          6,
          6,
          6,
          6,
          6,
          6,
          6,
          6,
          6,
          6,
          6,
          6,
          6,
          6,
          6,
          6,
          6,
          6,
          6,
          6,
          6,
          6,
          6,
          6,
          6,
          6,
          6,
          6,
          6,
          6,
          6,
          6,
          6,
          6,
          6,
          6,
          6,
          6,
          6,
          6,
          6,
          6,
          6,
          6,
          6,
          6,
          6,
          6,
          6,
          6,
          6,
          6,
          6,
          6,
          6,
          6,
          6,
          6,
          6,
          6,
          6,
          6,
          6,
          6,
          6,
          6,
          6,
          6,
          6,
          6,
          6,
          6,
          6,
          6,
          6,
          6,
          6,
          6,
          6,
          6,
          6,
          6,
          6,
          6,
          6,
          6,
          6,
          6,
          6,
          6,
          6,
          6,
          6,
          6,
          6,
          6,
          6,
          6,
          6,
          6,
          6,
          6,
          6,
          6,
          6,
          6,
          7,
          7,
          7,
          7,
          7,
          7,
          7,
          7,
          7,
          7,
          7,
          7,
          7,
          7,
          7,
          7,
          7,
          7,
          7,
          7,
          7,
          7,
          7,
          7,
          7,
          7,
          7,
          7,
          7,
          7,
          7,
          7,
          7,
          7,
          7,
          7,
          7,
          7,
          7,
          7,
          7,
          7,
          7,
          7,
          7,
          7,
          7,
          7,
          7,
          7,
          7,
          7,
          7,
          7,
          7,
          7,
          7,
          7,
          7,
          7,
          7,
          7,
          7,
          7,
          7,
          7,
          7,
          7,
          7,
          7,
          7,
          7,
          7,
          7,
          7,
          7,
          7,
          7,
          7,
          7,
          7,
          7,
          7,
          7,
          7,
          7,
          7,
          7,
          7,
          7,
          7,
          7,
          7,
          7,
          7,
          7,
          8,
          8,
          8,
          8,
          8,
          8,
          8,
          8,
          8,
          8,
          8,
          8,
          8,
          8,
          8,
          8,
          8,
          8,
          8,
          8,
          8,
          8,
          8,
          8,
          8,
          8,
          8,
          8,
          8,
          8,
          8,
          8,
          8,
          8,
          8,
          8,
          8,
          8,
          8,
          8,
          8,
          8,
          8,
          8,
          8,
          8,
          8,
          8,
          8,
          8,
          8,
          8,
          8,
          8,
          8,
          8,
          8,
          8,
          8,
          8,
          8,
          8,
          9,
          9,
          9,
          9,
          9,
          9,
          9,
          9,
          9,
          9,
          9,
          9,
          9,
          9,
          9,
          9,
          9,
          9,
          9,
          9,
          9,
          9,
          9,
          9,
          9,
          9,
          9,
          9,
          9,
          9,
          9,
          9,
          9,
          9,
          9,
          9,
          9,
          9,
          9,
          9,
          9,
          9,
          9,
          9,
          9,
          9,
          9,
          9,
          9,
          9,
          9,
          9,
          9,
          9,
          9,
          9,
          9,
          9,
          9,
          9,
          9,
          9,
          9,
          9,
          9,
          9,
          9,
          9,
          9,
          9,
          9,
          9,
          9,
          9,
          9,
          9,
          9,
          9,
          9,
          9,
          9,
          9,
          9,
          9,
          9,
          9,
          9,
          9,
          9,
          9,
          9,
          9,
          9,
          9,
          9,
          9,
          9,
          9,
          9,
          9,
          9,
          9,
          9,
          9,
          9,
          9,
          9,
          9,
          9,
          9,
          9,
          9,
          9,
          9,
          9,
          9,
          9,
          9,
          9,
          9,
          9,
          9,
          9,
          9,
          9,
          9,
          9,
          9,
          9,
          9,
          9,
          9,
          9,
          9,
          9,
          9,
          9,
          9,
          9,
          9,
          9,
          9,
          9,
          9,
          9,
          9,
          9,
          9,
          9,
          9,
          9,
          9,
          9,
          9,
          9,
          9,
          9,
          9,
          9,
          9,
          9,
          9,
          9,
          9,
          9,
          9,
          9,
          9,
          9,
          9,
          9,
          9,
          9,
          9,
          9,
          9,
          9,
          9,
          9,
          10,
          10,
          10,
          10,
          10,
          10,
          10,
          10,
          10,
          10,
          10,
          10,
          10,
          10,
          10,
          10,
          10,
          10,
          10,
          10,
          10,
          10,
          10,
          10,
          10,
          10,
          10,
          10,
          10,
          10,
          10,
          10,
          10,
          10,
          10,
          10,
          10,
          10,
          10,
          10,
          11,
          11,
          11,
          11,
          11,
          11,
          11,
          11,
          11,
          11,
          11,
          11,
          11,
          11,
          11,
          11,
          11,
          11,
          11,
          11,
          11,
          11,
          11,
          11,
          11,
          11,
          11,
          11,
          11,
          11,
          11,
          11,
          11,
          11,
          11,
          11,
          11,
          11,
          11,
          11,
          11,
          11,
          11,
          11,
          11,
          11,
          11,
          11,
          11,
          11,
          11,
          11,
          11,
          11,
          11,
          11,
          11,
          11,
          11,
          11,
          11,
          11,
          11,
          11,
          11,
          11,
          12,
          12,
          12,
          12,
          12,
          12,
          12,
          12,
          12,
          12,
          12,
          12,
          12,
          12,
          12,
          12,
          12,
          12,
          12,
          12,
          12,
          12,
          12,
          12,
          12,
          12,
          12,
          12,
          12,
          12,
          12,
          12,
          12,
          12,
          12,
          12,
          12,
          12,
          12,
          12,
          12,
          12,
          12,
          12,
          12,
          12,
          12,
          12,
          12,
          12,
          12,
          12,
          12,
          12,
          12,
          12,
          12,
          12,
          12,
          12,
          12,
          12,
          12,
          12,
          12,
          12,
          12,
          12,
          12,
          12,
          12,
          12,
          12,
          12,
          12,
          12,
          13,
          13,
          13,
          13,
          13,
          13,
          13,
          13,
          13,
          13,
          13,
          13,
          13,
          13,
          13,
          13,
          13,
          13,
          13,
          13,
          13,
          13,
          13,
          13,
          13,
          13,
          13,
          13,
          13,
          13,
          13,
          13,
          13,
          14,
          14,
          14,
          14,
          14,
          14,
          14,
          14,
          14,
          14,
          14,
          14,
          14,
          14,
          14,
          14,
          14,
          14,
          14,
          14,
          14
         ],
         "xaxis": "x",
         "y": [
          480,
          152,
          134,
          118,
          74,
          44,
          20,
          20,
          16,
          14,
          12,
          12,
          10,
          8,
          8,
          6,
          4,
          2,
          2,
          172,
          138,
          66,
          24,
          22,
          16,
          14,
          12,
          6,
          4,
          4,
          4,
          2,
          2,
          2,
          2,
          2,
          336,
          138,
          66,
          48,
          24,
          12,
          12,
          10,
          10,
          6,
          2,
          2,
          2,
          2,
          480,
          480,
          480,
          158,
          140,
          70,
          66,
          18,
          16,
          16,
          12,
          10,
          8,
          8,
          8,
          6,
          4,
          4,
          2,
          2,
          2,
          2,
          2,
          2,
          2,
          68,
          58,
          22,
          8,
          4,
          4,
          4,
          4,
          4,
          4,
          2,
          2,
          2,
          2,
          2,
          2,
          2,
          2,
          66,
          8,
          2,
          2,
          2,
          2,
          2,
          480,
          480,
          442,
          2,
          2,
          298,
          30,
          480,
          480,
          376,
          12,
          2,
          10,
          2,
          4,
          480,
          344,
          480,
          480,
          480,
          480,
          480,
          480,
          146,
          78,
          76,
          38,
          28,
          12,
          10,
          8,
          8,
          8,
          8,
          6,
          2,
          2,
          2,
          2,
          156,
          144,
          72,
          58,
          20,
          18,
          12,
          8,
          8,
          4,
          4,
          2,
          2,
          2,
          2,
          2,
          2,
          2,
          2,
          344,
          144,
          74,
          30,
          12,
          10,
          6,
          2,
          2,
          2,
          2,
          2,
          480,
          480,
          480,
          309,
          267,
          210,
          66,
          12,
          11,
          7,
          4,
          3,
          2,
          1,
          1,
          1,
          1,
          1,
          1,
          480,
          138,
          118,
          88,
          28,
          12,
          10,
          8,
          6,
          4,
          4,
          4,
          2,
          2,
          2,
          70,
          13,
          8,
          6,
          6,
          480,
          480,
          480,
          80,
          68,
          28,
          20,
          14,
          14,
          8,
          6,
          6,
          2,
          2,
          2,
          2,
          2,
          2,
          120,
          100,
          64,
          12,
          10,
          8,
          6,
          4,
          4,
          4,
          4,
          2,
          2,
          2,
          2,
          2,
          412,
          70,
          48,
          18,
          16,
          14,
          4,
          2,
          2,
          2,
          2,
          2,
          2,
          2,
          2,
          480,
          480,
          412,
          58,
          34,
          12,
          10,
          10,
          10,
          10,
          10,
          8,
          4,
          2,
          2,
          2,
          2,
          2,
          2,
          2,
          2,
          2,
          2,
          2,
          2,
          134,
          72,
          48,
          44,
          22,
          18,
          12,
          8,
          8,
          8,
          6,
          4,
          2,
          2,
          2,
          2,
          2,
          2,
          2,
          2,
          2,
          2,
          82,
          72,
          18,
          14,
          10,
          480,
          480,
          480,
          106,
          98,
          82,
          66,
          40,
          26,
          20,
          18,
          18,
          14,
          12,
          8,
          4,
          4,
          4,
          2,
          2,
          2,
          270,
          84,
          64,
          52,
          44,
          20,
          14,
          12,
          10,
          10,
          10,
          8,
          6,
          6,
          6,
          4,
          2,
          2,
          2,
          2,
          2,
          2,
          2,
          2,
          412,
          350,
          120,
          64,
          38,
          26,
          18,
          6,
          2,
          2,
          2,
          480,
          480,
          478,
          76,
          74,
          44,
          40,
          32,
          18,
          14,
          10,
          6,
          6,
          4,
          4,
          4,
          4,
          2,
          2,
          2,
          2,
          2,
          2,
          2,
          2,
          306,
          96,
          66,
          54,
          48,
          36,
          14,
          12,
          12,
          10,
          10,
          8,
          2,
          2,
          2,
          2,
          2,
          2,
          2,
          2,
          17,
          14,
          10,
          10,
          2,
          2,
          480,
          480,
          480,
          108,
          56,
          30,
          18,
          12,
          12,
          10,
          10,
          10,
          8,
          8,
          8,
          8,
          6,
          2,
          2,
          2,
          2,
          2,
          2,
          2,
          2,
          2,
          2,
          2,
          106,
          70,
          34,
          22,
          18,
          12,
          8,
          6,
          6,
          4,
          4,
          4,
          2,
          2,
          2,
          2,
          2,
          2,
          2,
          2,
          2,
          2,
          2,
          2,
          2,
          334,
          306,
          118,
          84,
          64,
          16,
          8,
          6,
          4,
          2,
          2,
          2,
          2,
          2,
          2,
          2,
          2,
          2,
          480,
          480,
          478,
          480,
          240,
          122,
          42,
          33,
          20,
          20,
          18,
          16,
          10,
          8,
          6,
          4,
          2,
          2,
          2,
          480,
          480,
          222,
          190,
          4,
          2,
          480,
          480,
          480,
          480,
          480,
          298,
          128,
          34,
          480,
          174,
          70,
          46,
          40,
          10,
          4,
          2,
          2,
          2,
          480,
          480,
          480,
          480,
          480,
          480,
          480,
          479,
          346,
          2,
          74,
          70,
          12,
          10,
          8,
          8,
          8,
          8,
          6,
          6,
          4,
          4,
          2,
          2,
          2,
          2,
          2,
          2,
          2,
          2,
          2,
          2,
          2,
          2,
          2,
          2,
          2,
          90,
          34,
          4,
          4,
          2,
          2,
          2,
          480,
          480,
          480,
          274,
          70,
          40,
          10,
          8,
          4,
          2,
          2,
          2,
          2,
          2,
          2,
          2,
          2,
          2,
          2,
          2,
          2,
          2,
          2,
          2,
          2,
          2,
          2,
          2,
          2,
          2,
          2,
          2,
          326,
          128,
          90,
          82,
          38,
          32,
          12,
          2,
          2,
          2,
          2,
          2,
          2,
          2,
          2,
          2,
          2,
          338,
          74,
          36,
          30,
          26,
          18,
          16,
          14,
          14,
          14,
          12,
          10,
          6,
          6,
          6,
          4,
          4,
          2,
          2,
          2,
          2,
          2,
          2,
          2,
          2,
          2,
          2,
          2,
          2,
          2,
          2,
          2,
          2,
          2,
          2,
          2,
          480,
          480,
          480,
          76,
          70,
          68,
          58,
          56,
          52,
          18,
          14,
          8,
          6,
          6,
          6,
          4,
          4,
          4,
          4,
          4,
          2,
          2,
          2,
          2,
          2,
          2,
          2,
          2,
          2,
          2,
          2,
          2,
          2,
          2,
          2,
          2,
          2,
          2,
          2,
          2,
          2,
          2,
          80,
          74,
          26,
          18,
          18,
          18,
          14,
          14,
          12,
          12,
          12,
          10,
          8,
          8,
          8,
          6,
          4,
          4,
          4,
          4,
          4,
          2,
          2,
          2,
          2,
          2,
          2,
          2,
          2,
          2,
          2,
          2,
          2,
          2,
          2,
          2,
          2,
          2,
          2,
          2,
          72,
          42,
          14,
          12,
          10,
          6,
          4,
          4,
          2,
          2,
          2,
          2,
          120,
          480,
          318,
          294,
          26,
          2,
          2,
          2,
          2,
          480,
          480,
          480,
          480,
          480,
          480,
          480,
          480,
          468,
          294,
          140,
          76,
          36,
          32,
          30,
          28,
          28,
          20,
          16,
          8,
          8,
          4,
          4,
          2,
          2,
          2,
          2,
          2,
          480,
          480,
          479,
          120,
          254,
          174,
          152,
          22,
          18,
          12,
          8,
          8,
          4,
          2,
          2,
          2,
          2,
          2,
          76,
          72,
          64,
          22,
          14,
          6,
          4,
          2,
          2,
          2,
          2,
          2,
          2,
          2,
          378,
          68,
          64,
          18,
          9,
          2,
          2,
          2,
          2,
          2,
          480,
          480,
          478,
          480,
          480,
          478,
          78,
          75,
          68,
          8,
          6,
          4,
          4,
          4,
          2,
          2,
          2,
          2,
          2,
          2,
          2,
          2,
          2,
          62,
          8,
          2,
          2,
          120,
          480,
          410,
          68,
          26,
          6,
          2,
          2,
          2,
          160,
          82,
          64,
          18,
          18,
          14,
          8,
          8,
          8,
          4,
          4,
          2,
          2,
          2,
          2,
          2,
          2,
          2,
          2,
          436,
          62,
          38,
          9,
          6,
          2,
          2,
          2,
          480,
          480,
          478,
          462,
          178,
          82,
          24,
          20,
          18,
          18,
          14,
          12,
          10,
          10,
          6,
          6,
          4,
          2,
          2,
          2,
          2,
          2,
          240,
          150,
          95,
          62,
          56,
          8,
          6,
          6,
          6,
          4,
          4,
          2,
          2,
          2,
          2,
          2,
          480,
          80,
          120,
          480,
          480,
          480,
          480,
          480,
          480,
          480,
          436,
          138,
          69,
          14,
          12,
          4,
          2,
          2,
          2,
          2,
          480,
          480,
          95,
          70,
          44,
          2,
          2,
          2,
          2,
          2,
          2,
          76,
          2,
          2,
          2,
          120,
          480,
          480,
          480,
          480,
          480,
          480,
          480,
          480,
          480,
          480,
          478,
          414,
          49,
          480,
          480,
          480,
          480,
          480,
          479,
          480
         ],
         "yaxis": "y"
        },
        {
         "alignmentgroup": "True",
         "hovertemplate": "Motivo=Setup<br>Linha=%{x}<br>Tempo (min)=%{y}<extra></extra>",
         "legendgroup": "Setup",
         "marker": {
          "color": "#6c757d",
          "pattern": {
           "shape": ""
          }
         },
         "name": "Setup",
         "offsetgroup": "Setup",
         "orientation": "v",
         "showlegend": true,
         "textposition": "auto",
         "type": "bar",
         "x": [
          1
         ],
         "xaxis": "x",
         "y": [
          60
         ],
         "yaxis": "y"
        },
        {
         "alignmentgroup": "True",
         "hovertemplate": "Motivo=Manutenção<br>Linha=%{x}<br>Tempo (min)=%{y}<extra></extra>",
         "legendgroup": "Manutenção",
         "marker": {
          "color": "#282f44",
          "pattern": {
           "shape": ""
          }
         },
         "name": "Manutenção",
         "offsetgroup": "Manutenção",
         "orientation": "v",
         "showlegend": true,
         "textposition": "auto",
         "type": "bar",
         "x": [
          1,
          2,
          6,
          6,
          7,
          7
         ],
         "xaxis": "x",
         "y": [
          6,
          124,
          12,
          6,
          6,
          2
         ],
         "yaxis": "y"
        },
        {
         "alignmentgroup": "True",
         "hovertemplate": "Motivo=Ajustes<br>Linha=%{x}<br>Tempo (min)=%{y}<extra></extra>",
         "legendgroup": "Ajustes",
         "marker": {
          "color": "#20c997",
          "pattern": {
           "shape": ""
          }
         },
         "name": "Ajustes",
         "offsetgroup": "Ajustes",
         "orientation": "v",
         "showlegend": true,
         "textposition": "auto",
         "type": "bar",
         "x": [
          1,
          1,
          6,
          7,
          7,
          7,
          7,
          7,
          7
         ],
         "xaxis": "x",
         "y": [
          166,
          10,
          6,
          386,
          40,
          6,
          4,
          2,
          2
         ],
         "yaxis": "y"
        },
        {
         "alignmentgroup": "True",
         "hovertemplate": "Motivo=Fluxo<br>Linha=%{x}<br>Tempo (min)=%{y}<extra></extra>",
         "legendgroup": "Fluxo",
         "marker": {
          "color": "#d63384",
          "pattern": {
           "shape": ""
          }
         },
         "name": "Fluxo",
         "offsetgroup": "Fluxo",
         "orientation": "v",
         "showlegend": true,
         "textposition": "auto",
         "type": "bar",
         "x": [
          2,
          7,
          7,
          7,
          7
         ],
         "xaxis": "x",
         "y": [
          68,
          2,
          2,
          2,
          2
         ],
         "yaxis": "y"
        }
       ],
       "layout": {
        "barmode": "stack",
        "legend": {
         "title": {
          "text": "Motivo"
         },
         "tracegroupgap": 0
        },
        "margin": {
         "b": 40,
         "l": 40,
         "r": 40,
         "t": 40
        },
        "plot_bgcolor": "RGBA(0,0,0,0.01)",
        "template": {
         "data": {
          "bar": [
           {
            "error_x": {
             "color": "#2a3f5f"
            },
            "error_y": {
             "color": "#2a3f5f"
            },
            "marker": {
             "line": {
              "color": "#E5ECF6",
              "width": 0.5
             },
             "pattern": {
              "fillmode": "overlay",
              "size": 10,
              "solidity": 0.2
             }
            },
            "type": "bar"
           }
          ],
          "barpolar": [
           {
            "marker": {
             "line": {
              "color": "#E5ECF6",
              "width": 0.5
             },
             "pattern": {
              "fillmode": "overlay",
              "size": 10,
              "solidity": 0.2
             }
            },
            "type": "barpolar"
           }
          ],
          "carpet": [
           {
            "aaxis": {
             "endlinecolor": "#2a3f5f",
             "gridcolor": "white",
             "linecolor": "white",
             "minorgridcolor": "white",
             "startlinecolor": "#2a3f5f"
            },
            "baxis": {
             "endlinecolor": "#2a3f5f",
             "gridcolor": "white",
             "linecolor": "white",
             "minorgridcolor": "white",
             "startlinecolor": "#2a3f5f"
            },
            "type": "carpet"
           }
          ],
          "choropleth": [
           {
            "colorbar": {
             "outlinewidth": 0,
             "ticks": ""
            },
            "type": "choropleth"
           }
          ],
          "contour": [
           {
            "colorbar": {
             "outlinewidth": 0,
             "ticks": ""
            },
            "colorscale": [
             [
              0,
              "#0d0887"
             ],
             [
              0.1111111111111111,
              "#46039f"
             ],
             [
              0.2222222222222222,
              "#7201a8"
             ],
             [
              0.3333333333333333,
              "#9c179e"
             ],
             [
              0.4444444444444444,
              "#bd3786"
             ],
             [
              0.5555555555555556,
              "#d8576b"
             ],
             [
              0.6666666666666666,
              "#ed7953"
             ],
             [
              0.7777777777777778,
              "#fb9f3a"
             ],
             [
              0.8888888888888888,
              "#fdca26"
             ],
             [
              1,
              "#f0f921"
             ]
            ],
            "type": "contour"
           }
          ],
          "contourcarpet": [
           {
            "colorbar": {
             "outlinewidth": 0,
             "ticks": ""
            },
            "type": "contourcarpet"
           }
          ],
          "heatmap": [
           {
            "colorbar": {
             "outlinewidth": 0,
             "ticks": ""
            },
            "colorscale": [
             [
              0,
              "#0d0887"
             ],
             [
              0.1111111111111111,
              "#46039f"
             ],
             [
              0.2222222222222222,
              "#7201a8"
             ],
             [
              0.3333333333333333,
              "#9c179e"
             ],
             [
              0.4444444444444444,
              "#bd3786"
             ],
             [
              0.5555555555555556,
              "#d8576b"
             ],
             [
              0.6666666666666666,
              "#ed7953"
             ],
             [
              0.7777777777777778,
              "#fb9f3a"
             ],
             [
              0.8888888888888888,
              "#fdca26"
             ],
             [
              1,
              "#f0f921"
             ]
            ],
            "type": "heatmap"
           }
          ],
          "heatmapgl": [
           {
            "colorbar": {
             "outlinewidth": 0,
             "ticks": ""
            },
            "colorscale": [
             [
              0,
              "#0d0887"
             ],
             [
              0.1111111111111111,
              "#46039f"
             ],
             [
              0.2222222222222222,
              "#7201a8"
             ],
             [
              0.3333333333333333,
              "#9c179e"
             ],
             [
              0.4444444444444444,
              "#bd3786"
             ],
             [
              0.5555555555555556,
              "#d8576b"
             ],
             [
              0.6666666666666666,
              "#ed7953"
             ],
             [
              0.7777777777777778,
              "#fb9f3a"
             ],
             [
              0.8888888888888888,
              "#fdca26"
             ],
             [
              1,
              "#f0f921"
             ]
            ],
            "type": "heatmapgl"
           }
          ],
          "histogram": [
           {
            "marker": {
             "pattern": {
              "fillmode": "overlay",
              "size": 10,
              "solidity": 0.2
             }
            },
            "type": "histogram"
           }
          ],
          "histogram2d": [
           {
            "colorbar": {
             "outlinewidth": 0,
             "ticks": ""
            },
            "colorscale": [
             [
              0,
              "#0d0887"
             ],
             [
              0.1111111111111111,
              "#46039f"
             ],
             [
              0.2222222222222222,
              "#7201a8"
             ],
             [
              0.3333333333333333,
              "#9c179e"
             ],
             [
              0.4444444444444444,
              "#bd3786"
             ],
             [
              0.5555555555555556,
              "#d8576b"
             ],
             [
              0.6666666666666666,
              "#ed7953"
             ],
             [
              0.7777777777777778,
              "#fb9f3a"
             ],
             [
              0.8888888888888888,
              "#fdca26"
             ],
             [
              1,
              "#f0f921"
             ]
            ],
            "type": "histogram2d"
           }
          ],
          "histogram2dcontour": [
           {
            "colorbar": {
             "outlinewidth": 0,
             "ticks": ""
            },
            "colorscale": [
             [
              0,
              "#0d0887"
             ],
             [
              0.1111111111111111,
              "#46039f"
             ],
             [
              0.2222222222222222,
              "#7201a8"
             ],
             [
              0.3333333333333333,
              "#9c179e"
             ],
             [
              0.4444444444444444,
              "#bd3786"
             ],
             [
              0.5555555555555556,
              "#d8576b"
             ],
             [
              0.6666666666666666,
              "#ed7953"
             ],
             [
              0.7777777777777778,
              "#fb9f3a"
             ],
             [
              0.8888888888888888,
              "#fdca26"
             ],
             [
              1,
              "#f0f921"
             ]
            ],
            "type": "histogram2dcontour"
           }
          ],
          "mesh3d": [
           {
            "colorbar": {
             "outlinewidth": 0,
             "ticks": ""
            },
            "type": "mesh3d"
           }
          ],
          "parcoords": [
           {
            "line": {
             "colorbar": {
              "outlinewidth": 0,
              "ticks": ""
             }
            },
            "type": "parcoords"
           }
          ],
          "pie": [
           {
            "automargin": true,
            "type": "pie"
           }
          ],
          "scatter": [
           {
            "fillpattern": {
             "fillmode": "overlay",
             "size": 10,
             "solidity": 0.2
            },
            "type": "scatter"
           }
          ],
          "scatter3d": [
           {
            "line": {
             "colorbar": {
              "outlinewidth": 0,
              "ticks": ""
             }
            },
            "marker": {
             "colorbar": {
              "outlinewidth": 0,
              "ticks": ""
             }
            },
            "type": "scatter3d"
           }
          ],
          "scattercarpet": [
           {
            "marker": {
             "colorbar": {
              "outlinewidth": 0,
              "ticks": ""
             }
            },
            "type": "scattercarpet"
           }
          ],
          "scattergeo": [
           {
            "marker": {
             "colorbar": {
              "outlinewidth": 0,
              "ticks": ""
             }
            },
            "type": "scattergeo"
           }
          ],
          "scattergl": [
           {
            "marker": {
             "colorbar": {
              "outlinewidth": 0,
              "ticks": ""
             }
            },
            "type": "scattergl"
           }
          ],
          "scattermapbox": [
           {
            "marker": {
             "colorbar": {
              "outlinewidth": 0,
              "ticks": ""
             }
            },
            "type": "scattermapbox"
           }
          ],
          "scatterpolar": [
           {
            "marker": {
             "colorbar": {
              "outlinewidth": 0,
              "ticks": ""
             }
            },
            "type": "scatterpolar"
           }
          ],
          "scatterpolargl": [
           {
            "marker": {
             "colorbar": {
              "outlinewidth": 0,
              "ticks": ""
             }
            },
            "type": "scatterpolargl"
           }
          ],
          "scatterternary": [
           {
            "marker": {
             "colorbar": {
              "outlinewidth": 0,
              "ticks": ""
             }
            },
            "type": "scatterternary"
           }
          ],
          "surface": [
           {
            "colorbar": {
             "outlinewidth": 0,
             "ticks": ""
            },
            "colorscale": [
             [
              0,
              "#0d0887"
             ],
             [
              0.1111111111111111,
              "#46039f"
             ],
             [
              0.2222222222222222,
              "#7201a8"
             ],
             [
              0.3333333333333333,
              "#9c179e"
             ],
             [
              0.4444444444444444,
              "#bd3786"
             ],
             [
              0.5555555555555556,
              "#d8576b"
             ],
             [
              0.6666666666666666,
              "#ed7953"
             ],
             [
              0.7777777777777778,
              "#fb9f3a"
             ],
             [
              0.8888888888888888,
              "#fdca26"
             ],
             [
              1,
              "#f0f921"
             ]
            ],
            "type": "surface"
           }
          ],
          "table": [
           {
            "cells": {
             "fill": {
              "color": "#EBF0F8"
             },
             "line": {
              "color": "white"
             }
            },
            "header": {
             "fill": {
              "color": "#C8D4E3"
             },
             "line": {
              "color": "white"
             }
            },
            "type": "table"
           }
          ]
         },
         "layout": {
          "annotationdefaults": {
           "arrowcolor": "#2a3f5f",
           "arrowhead": 0,
           "arrowwidth": 1
          },
          "autotypenumbers": "strict",
          "coloraxis": {
           "colorbar": {
            "outlinewidth": 0,
            "ticks": ""
           }
          },
          "colorscale": {
           "diverging": [
            [
             0,
             "#8e0152"
            ],
            [
             0.1,
             "#c51b7d"
            ],
            [
             0.2,
             "#de77ae"
            ],
            [
             0.3,
             "#f1b6da"
            ],
            [
             0.4,
             "#fde0ef"
            ],
            [
             0.5,
             "#f7f7f7"
            ],
            [
             0.6,
             "#e6f5d0"
            ],
            [
             0.7,
             "#b8e186"
            ],
            [
             0.8,
             "#7fbc41"
            ],
            [
             0.9,
             "#4d9221"
            ],
            [
             1,
             "#276419"
            ]
           ],
           "sequential": [
            [
             0,
             "#0d0887"
            ],
            [
             0.1111111111111111,
             "#46039f"
            ],
            [
             0.2222222222222222,
             "#7201a8"
            ],
            [
             0.3333333333333333,
             "#9c179e"
            ],
            [
             0.4444444444444444,
             "#bd3786"
            ],
            [
             0.5555555555555556,
             "#d8576b"
            ],
            [
             0.6666666666666666,
             "#ed7953"
            ],
            [
             0.7777777777777778,
             "#fb9f3a"
            ],
            [
             0.8888888888888888,
             "#fdca26"
            ],
            [
             1,
             "#f0f921"
            ]
           ],
           "sequentialminus": [
            [
             0,
             "#0d0887"
            ],
            [
             0.1111111111111111,
             "#46039f"
            ],
            [
             0.2222222222222222,
             "#7201a8"
            ],
            [
             0.3333333333333333,
             "#9c179e"
            ],
            [
             0.4444444444444444,
             "#bd3786"
            ],
            [
             0.5555555555555556,
             "#d8576b"
            ],
            [
             0.6666666666666666,
             "#ed7953"
            ],
            [
             0.7777777777777778,
             "#fb9f3a"
            ],
            [
             0.8888888888888888,
             "#fdca26"
            ],
            [
             1,
             "#f0f921"
            ]
           ]
          },
          "colorway": [
           "#636efa",
           "#EF553B",
           "#00cc96",
           "#ab63fa",
           "#FFA15A",
           "#19d3f3",
           "#FF6692",
           "#B6E880",
           "#FF97FF",
           "#FECB52"
          ],
          "font": {
           "color": "#2a3f5f"
          },
          "geo": {
           "bgcolor": "white",
           "lakecolor": "white",
           "landcolor": "#E5ECF6",
           "showlakes": true,
           "showland": true,
           "subunitcolor": "white"
          },
          "hoverlabel": {
           "align": "left"
          },
          "hovermode": "closest",
          "mapbox": {
           "style": "light"
          },
          "paper_bgcolor": "white",
          "plot_bgcolor": "#E5ECF6",
          "polar": {
           "angularaxis": {
            "gridcolor": "white",
            "linecolor": "white",
            "ticks": ""
           },
           "bgcolor": "#E5ECF6",
           "radialaxis": {
            "gridcolor": "white",
            "linecolor": "white",
            "ticks": ""
           }
          },
          "scene": {
           "xaxis": {
            "backgroundcolor": "#E5ECF6",
            "gridcolor": "white",
            "gridwidth": 2,
            "linecolor": "white",
            "showbackground": true,
            "ticks": "",
            "zerolinecolor": "white"
           },
           "yaxis": {
            "backgroundcolor": "#E5ECF6",
            "gridcolor": "white",
            "gridwidth": 2,
            "linecolor": "white",
            "showbackground": true,
            "ticks": "",
            "zerolinecolor": "white"
           },
           "zaxis": {
            "backgroundcolor": "#E5ECF6",
            "gridcolor": "white",
            "gridwidth": 2,
            "linecolor": "white",
            "showbackground": true,
            "ticks": "",
            "zerolinecolor": "white"
           }
          },
          "shapedefaults": {
           "line": {
            "color": "#2a3f5f"
           }
          },
          "ternary": {
           "aaxis": {
            "gridcolor": "white",
            "linecolor": "white",
            "ticks": ""
           },
           "baxis": {
            "gridcolor": "white",
            "linecolor": "white",
            "ticks": ""
           },
           "bgcolor": "#E5ECF6",
           "caxis": {
            "gridcolor": "white",
            "linecolor": "white",
            "ticks": ""
           }
          },
          "title": {
           "x": 0.05
          },
          "xaxis": {
           "automargin": true,
           "gridcolor": "white",
           "linecolor": "white",
           "ticks": "",
           "title": {
            "standoff": 15
           },
           "zerolinecolor": "white",
           "zerolinewidth": 2
          },
          "yaxis": {
           "automargin": true,
           "gridcolor": "white",
           "linecolor": "white",
           "ticks": "",
           "title": {
            "standoff": 15
           },
           "zerolinecolor": "white",
           "zerolinewidth": 2
          }
         }
        },
        "title": {
         "text": "Detalhes de Tempo",
         "x": 0.5
        },
        "xaxis": {
         "anchor": "y",
         "categoryorder": "category ascending",
         "domain": [
          0,
          1
         ],
         "tickfont": {
          "color": "gray"
         },
         "tickvals": [
          1,
          2,
          3,
          4,
          5,
          6,
          7,
          8,
          9,
          10,
          11,
          12,
          13,
          14
         ],
         "title": {
          "text": "Linha"
         }
        },
        "yaxis": {
         "anchor": "x",
         "domain": [
          0,
          1
         ],
         "tickfont": {
          "color": "gray"
         },
         "title": {
          "text": "Tempo (min)"
         }
        }
       }
      }
     },
     "metadata": {},
     "output_type": "display_data"
    }
   ],
   "source": [
    "chart_details = bar_chart_details.create_bar_chart_details(\n",
    "    df_maq_stopped.copy(), IndicatorType.EFFICIENCY, working=df_time_working.copy()\n",
    ")\n",
    "chart_details"
   ]
  },
  {
   "cell_type": "code",
   "execution_count": 60,
   "metadata": {},
   "outputs": [
    {
     "data": {
      "application/vnd.plotly.v1+json": {
       "config": {
        "plotlyServerURL": "https://plot.ly"
       },
       "data": [
        {
         "alignmentgroup": "True",
         "hovertemplate": "Problema=Parada Planejada<br>Linha=%{x}<br>Tempo (min)=%{y}<extra></extra>",
         "legendgroup": "Parada Planejada",
         "marker": {
          "color": "#1f77b4",
          "pattern": {
           "shape": ""
          }
         },
         "name": "Parada Planejada",
         "offsetgroup": "Parada Planejada",
         "orientation": "v",
         "showlegend": true,
         "textposition": "auto",
         "type": "bar",
         "x": [
          1,
          1,
          1,
          1,
          1,
          2,
          2,
          6,
          7,
          7,
          7,
          7
         ],
         "xaxis": "x",
         "y": [
          480,
          272,
          6,
          82,
          148,
          274,
          2,
          252,
          4,
          4,
          4,
          10
         ],
         "yaxis": "y"
        },
        {
         "alignmentgroup": "True",
         "hovertemplate": "Problema=Parada para Treinamento<br>Linha=%{x}<br>Tempo (min)=%{y}<extra></extra>",
         "legendgroup": "Parada para Treinamento",
         "marker": {
          "color": "#aec7e8",
          "pattern": {
           "shape": ""
          }
         },
         "name": "Parada para Treinamento",
         "offsetgroup": "Parada para Treinamento",
         "orientation": "v",
         "showlegend": true,
         "textposition": "auto",
         "type": "bar",
         "x": [
          1
         ],
         "xaxis": "x",
         "y": [
          208
         ],
         "yaxis": "y"
        },
        {
         "alignmentgroup": "True",
         "hovertemplate": "Problema=Sem Problema Informado<br>Linha=%{x}<br>Tempo (min)=%{y}<extra></extra>",
         "legendgroup": "Sem Problema Informado",
         "marker": {
          "color": "#ff7f0e",
          "pattern": {
           "shape": ""
          }
         },
         "name": "Sem Problema Informado",
         "offsetgroup": "Sem Problema Informado",
         "orientation": "v",
         "showlegend": true,
         "textposition": "auto",
         "type": "bar",
         "x": [
          1,
          1,
          1,
          1,
          1,
          1,
          1,
          1,
          1,
          1,
          1,
          1,
          1,
          1,
          1,
          1,
          1,
          1,
          1,
          1,
          1,
          1,
          1,
          1,
          1,
          1,
          1,
          1,
          1,
          1,
          1,
          1,
          1,
          1,
          1,
          1,
          1,
          1,
          1,
          1,
          1,
          1,
          1,
          1,
          1,
          1,
          1,
          1,
          1,
          1,
          1,
          1,
          1,
          1,
          1,
          1,
          1,
          1,
          1,
          1,
          1,
          1,
          1,
          1,
          1,
          1,
          1,
          1,
          1,
          1,
          1,
          1,
          1,
          1,
          1,
          1,
          1,
          1,
          1,
          1,
          1,
          1,
          1,
          1,
          1,
          1,
          1,
          1,
          1,
          1,
          1,
          1,
          1,
          1,
          1,
          1,
          1,
          1,
          1,
          1,
          2,
          2,
          2,
          2,
          2,
          2,
          2,
          2,
          2,
          2,
          2,
          2,
          2,
          2,
          2,
          3,
          3,
          3,
          3,
          3,
          4,
          4,
          4,
          4,
          4,
          4,
          4,
          4,
          4,
          4,
          4,
          4,
          4,
          4,
          4,
          4,
          4,
          4,
          4,
          4,
          4,
          4,
          4,
          4,
          4,
          4,
          4,
          4,
          4,
          4,
          4,
          4,
          4,
          4,
          4,
          4,
          4,
          4,
          4,
          4,
          4,
          4,
          4,
          4,
          4,
          4,
          4,
          4,
          4,
          4,
          4,
          4,
          4,
          4,
          4,
          4,
          4,
          4,
          4,
          4,
          4,
          4,
          4,
          4,
          4,
          4,
          4,
          4,
          4,
          4,
          4,
          4,
          4,
          4,
          4,
          4,
          4,
          4,
          4,
          4,
          4,
          4,
          4,
          4,
          4,
          4,
          4,
          4,
          4,
          5,
          5,
          5,
          5,
          5,
          5,
          5,
          5,
          5,
          5,
          5,
          5,
          5,
          5,
          5,
          5,
          5,
          5,
          5,
          5,
          5,
          5,
          5,
          5,
          5,
          5,
          5,
          5,
          5,
          5,
          5,
          5,
          5,
          5,
          5,
          5,
          5,
          5,
          5,
          5,
          5,
          5,
          5,
          5,
          5,
          5,
          5,
          5,
          5,
          5,
          5,
          5,
          5,
          5,
          5,
          5,
          5,
          5,
          5,
          5,
          5,
          5,
          5,
          5,
          5,
          5,
          5,
          5,
          5,
          5,
          5,
          5,
          5,
          5,
          5,
          5,
          5,
          5,
          5,
          5,
          5,
          5,
          5,
          5,
          5,
          5,
          5,
          5,
          5,
          5,
          5,
          5,
          5,
          5,
          5,
          5,
          5,
          5,
          5,
          5,
          5,
          6,
          6,
          6,
          6,
          6,
          6,
          6,
          6,
          6,
          6,
          6,
          6,
          6,
          6,
          6,
          6,
          6,
          6,
          6,
          6,
          6,
          6,
          6,
          6,
          6,
          6,
          6,
          6,
          6,
          6,
          6,
          6,
          6,
          6,
          6,
          6,
          6,
          6,
          6,
          6,
          6,
          6,
          6,
          6,
          6,
          6,
          6,
          6,
          6,
          6,
          6,
          6,
          6,
          6,
          6,
          6,
          6,
          6,
          6,
          6,
          6,
          6,
          6,
          6,
          6,
          6,
          6,
          6,
          6,
          6,
          6,
          6,
          6,
          6,
          6,
          6,
          6,
          6,
          6,
          6,
          6,
          6,
          6,
          6,
          6,
          6,
          6,
          6,
          6,
          6,
          6,
          6,
          6,
          6,
          6,
          6,
          6,
          6,
          6,
          6,
          6,
          6,
          6,
          6,
          6,
          6,
          6,
          7,
          7,
          7,
          7,
          7,
          7,
          7,
          7,
          7,
          7,
          7,
          7,
          7,
          7,
          7,
          7,
          7,
          7,
          7,
          7,
          7,
          7,
          7,
          7,
          7,
          7,
          7,
          7,
          7,
          7,
          7,
          7,
          7,
          7,
          7,
          7,
          7,
          7,
          7,
          7,
          7,
          7,
          7,
          7,
          7,
          7,
          7,
          7,
          7,
          7,
          7,
          7,
          7,
          7,
          7,
          7,
          7,
          7,
          7,
          7,
          7,
          7,
          7,
          7,
          7,
          7,
          7,
          7,
          7,
          7,
          7,
          7,
          7,
          7,
          7,
          7,
          7,
          7,
          7,
          7,
          7,
          7,
          7,
          7,
          7,
          7,
          7,
          7,
          7,
          7,
          7,
          7,
          7,
          7,
          7,
          7,
          8,
          8,
          8,
          8,
          8,
          8,
          8,
          8,
          8,
          8,
          8,
          8,
          8,
          8,
          8,
          8,
          8,
          8,
          8,
          8,
          8,
          8,
          8,
          8,
          8,
          8,
          8,
          8,
          8,
          8,
          8,
          8,
          8,
          8,
          8,
          8,
          8,
          8,
          8,
          8,
          8,
          8,
          8,
          8,
          8,
          8,
          8,
          8,
          8,
          8,
          8,
          8,
          8,
          8,
          8,
          8,
          8,
          8,
          8,
          8,
          8,
          8,
          9,
          9,
          9,
          9,
          9,
          9,
          9,
          9,
          9,
          9,
          9,
          9,
          9,
          9,
          9,
          9,
          9,
          9,
          9,
          9,
          9,
          9,
          9,
          9,
          9,
          9,
          9,
          9,
          9,
          9,
          9,
          9,
          9,
          9,
          9,
          9,
          9,
          9,
          9,
          9,
          9,
          9,
          9,
          9,
          9,
          9,
          9,
          9,
          9,
          9,
          9,
          9,
          9,
          9,
          9,
          9,
          9,
          9,
          9,
          9,
          9,
          9,
          9,
          9,
          9,
          9,
          9,
          9,
          9,
          9,
          9,
          9,
          9,
          9,
          9,
          9,
          9,
          9,
          9,
          9,
          9,
          9,
          9,
          9,
          9,
          9,
          9,
          9,
          9,
          9,
          9,
          9,
          9,
          9,
          9,
          9,
          9,
          9,
          9,
          9,
          9,
          9,
          9,
          9,
          9,
          9,
          9,
          9,
          9,
          9,
          9,
          9,
          9,
          9,
          9,
          9,
          9,
          9,
          9,
          9,
          9,
          9,
          9,
          9,
          9,
          9,
          9,
          9,
          9,
          9,
          9,
          9,
          9,
          9,
          9,
          9,
          9,
          9,
          9,
          9,
          9,
          9,
          9,
          9,
          9,
          9,
          9,
          9,
          9,
          9,
          9,
          9,
          9,
          9,
          9,
          9,
          9,
          9,
          9,
          9,
          9,
          9,
          9,
          9,
          9,
          9,
          9,
          9,
          9,
          9,
          9,
          9,
          9,
          9,
          9,
          9,
          9,
          9,
          9,
          10,
          10,
          10,
          10,
          10,
          10,
          10,
          10,
          10,
          10,
          10,
          10,
          10,
          10,
          10,
          10,
          10,
          10,
          10,
          10,
          10,
          10,
          10,
          10,
          10,
          10,
          10,
          10,
          10,
          10,
          10,
          10,
          10,
          10,
          10,
          10,
          10,
          10,
          10,
          10,
          11,
          11,
          11,
          11,
          11,
          11,
          11,
          11,
          11,
          11,
          11,
          11,
          11,
          11,
          11,
          11,
          11,
          11,
          11,
          11,
          11,
          11,
          11,
          11,
          11,
          11,
          11,
          11,
          11,
          11,
          11,
          11,
          11,
          11,
          11,
          11,
          11,
          11,
          11,
          11,
          11,
          11,
          11,
          11,
          11,
          11,
          11,
          11,
          11,
          11,
          11,
          11,
          11,
          11,
          11,
          11,
          11,
          11,
          11,
          11,
          11,
          11,
          11,
          11,
          11,
          11,
          12,
          12,
          12,
          12,
          12,
          12,
          12,
          12,
          12,
          12,
          12,
          12,
          12,
          12,
          12,
          12,
          12,
          12,
          12,
          12,
          12,
          12,
          12,
          12,
          12,
          12,
          12,
          12,
          12,
          12,
          12,
          12,
          12,
          12,
          12,
          12,
          12,
          12,
          12,
          12,
          12,
          12,
          12,
          12,
          12,
          12,
          12,
          12,
          12,
          12,
          12,
          12,
          12,
          12,
          12,
          12,
          12,
          12,
          12,
          12,
          12,
          12,
          12,
          12,
          12,
          12,
          12,
          12,
          12,
          12,
          12,
          12,
          12,
          12,
          12,
          12,
          13,
          13,
          13,
          13,
          13,
          13,
          13,
          13,
          13,
          13,
          13,
          13,
          13,
          13,
          13,
          13,
          13,
          13,
          13,
          13,
          13,
          13,
          13,
          13,
          13,
          13,
          13,
          13,
          13,
          13,
          13,
          13,
          13,
          14,
          14,
          14,
          14,
          14,
          14,
          14,
          14,
          14,
          14,
          14,
          14,
          14,
          14,
          14,
          14,
          14,
          14,
          14,
          14,
          14,
          6,
          6,
          6,
          6,
          6,
          6,
          6,
          6,
          6,
          6,
          6,
          6,
          6,
          6,
          6,
          6,
          6,
          6,
          5,
          5,
          5,
          5,
          5,
          5,
          5,
          5,
          5,
          5,
          5,
          5,
          5,
          5,
          5,
          5,
          5,
          5,
          1,
          1,
          1,
          1,
          1,
          1,
          1,
          1,
          1,
          1,
          1,
          1,
          1,
          1,
          1,
          1,
          1,
          9,
          9,
          9,
          9,
          9,
          9,
          9,
          9,
          9,
          9,
          9,
          9,
          9,
          9,
          9,
          9,
          9,
          7,
          7,
          7,
          7,
          7,
          7,
          7,
          7,
          7,
          7,
          7,
          7,
          7,
          7,
          12,
          12,
          12,
          12,
          12,
          12,
          12,
          12,
          12,
          12,
          12,
          12,
          12,
          12,
          10,
          10,
          10,
          10,
          10,
          10,
          14,
          11,
          11,
          11,
          11,
          11,
          11,
          11,
          11,
          11,
          11,
          11,
          11,
          11,
          11,
          11,
          2,
          2,
          2,
          2,
          2,
          2,
          2,
          2,
          2,
          2,
          2,
          2,
          2,
          2,
          2,
          2,
          2,
          2,
          4,
          4,
          4,
          4,
          4,
          4,
          4,
          4,
          4,
          4,
          4,
          4,
          4,
          4,
          4,
          4,
          13,
          13,
          13,
          13,
          13,
          13,
          8,
          8,
          8,
          8,
          8,
          8,
          8,
          8,
          8
         ],
         "xaxis": "x",
         "y": [
          480,
          20,
          44,
          10,
          74,
          20,
          8,
          14,
          8,
          12,
          152,
          118,
          4,
          2,
          134,
          16,
          2,
          6,
          12,
          2,
          2,
          66,
          12,
          172,
          22,
          14,
          16,
          24,
          2,
          2,
          138,
          4,
          4,
          6,
          2,
          4,
          10,
          48,
          2,
          66,
          12,
          12,
          24,
          2,
          138,
          2,
          10,
          2,
          6,
          336,
          480,
          480,
          480,
          18,
          12,
          2,
          66,
          8,
          8,
          6,
          8,
          2,
          16,
          2,
          158,
          2,
          16,
          10,
          4,
          4,
          2,
          140,
          2,
          70,
          2,
          2,
          2,
          2,
          68,
          2,
          4,
          22,
          58,
          8,
          2,
          4,
          2,
          4,
          4,
          2,
          4,
          2,
          4,
          2,
          2,
          66,
          2,
          8,
          2,
          2,
          480,
          480,
          442,
          2,
          2,
          298,
          30,
          480,
          480,
          376,
          2,
          12,
          2,
          10,
          4,
          344,
          480,
          480,
          480,
          480,
          480,
          480,
          480,
          12,
          78,
          10,
          2,
          146,
          8,
          8,
          28,
          6,
          38,
          76,
          2,
          2,
          8,
          8,
          2,
          2,
          72,
          20,
          58,
          156,
          2,
          4,
          12,
          2,
          18,
          2,
          2,
          2,
          2,
          8,
          144,
          2,
          8,
          4,
          2,
          2,
          74,
          2,
          2,
          30,
          144,
          6,
          10,
          12,
          2,
          344,
          480,
          480,
          480,
          4,
          12,
          210,
          66,
          267,
          2,
          1,
          11,
          1,
          7,
          1,
          1,
          3,
          1,
          1,
          309,
          480,
          118,
          8,
          6,
          4,
          2,
          88,
          28,
          10,
          4,
          12,
          2,
          138,
          2,
          4,
          6,
          70,
          6,
          8,
          13,
          480,
          480,
          480,
          20,
          2,
          68,
          2,
          8,
          2,
          14,
          6,
          6,
          2,
          2,
          80,
          28,
          2,
          14,
          2,
          64,
          4,
          100,
          4,
          8,
          4,
          4,
          12,
          2,
          10,
          6,
          2,
          2,
          120,
          2,
          2,
          2,
          70,
          2,
          2,
          2,
          18,
          48,
          16,
          14,
          2,
          2,
          4,
          2,
          412,
          480,
          480,
          412,
          58,
          2,
          2,
          2,
          2,
          2,
          2,
          10,
          10,
          10,
          10,
          2,
          2,
          34,
          2,
          10,
          2,
          12,
          2,
          2,
          8,
          4,
          2,
          2,
          2,
          134,
          44,
          8,
          6,
          2,
          48,
          8,
          2,
          2,
          2,
          2,
          2,
          22,
          12,
          2,
          18,
          72,
          4,
          8,
          14,
          82,
          72,
          18,
          10,
          480,
          480,
          480,
          40,
          66,
          98,
          82,
          26,
          18,
          2,
          14,
          2,
          18,
          106,
          12,
          4,
          2,
          20,
          4,
          8,
          4,
          64,
          270,
          84,
          14,
          8,
          2,
          2,
          4,
          44,
          2,
          2,
          2,
          2,
          52,
          12,
          6,
          20,
          6,
          10,
          6,
          10,
          2,
          2,
          10,
          120,
          350,
          2,
          2,
          26,
          18,
          64,
          6,
          2,
          38,
          412,
          480,
          480,
          478,
          32,
          10,
          2,
          76,
          74,
          6,
          44,
          6,
          18,
          2,
          4,
          40,
          2,
          4,
          2,
          2,
          4,
          2,
          14,
          2,
          2,
          4,
          96,
          2,
          306,
          54,
          2,
          12,
          2,
          48,
          10,
          2,
          12,
          66,
          36,
          10,
          2,
          8,
          14,
          2,
          2,
          2,
          2,
          2,
          14,
          10,
          10,
          17,
          480,
          480,
          480,
          12,
          2,
          56,
          6,
          108,
          2,
          2,
          8,
          10,
          2,
          2,
          30,
          12,
          18,
          2,
          10,
          2,
          8,
          10,
          2,
          8,
          2,
          8,
          2,
          2,
          2,
          2,
          2,
          70,
          2,
          2,
          2,
          2,
          8,
          2,
          2,
          4,
          106,
          4,
          34,
          22,
          6,
          2,
          18,
          12,
          6,
          2,
          2,
          2,
          4,
          84,
          306,
          2,
          2,
          2,
          2,
          2,
          8,
          2,
          16,
          2,
          118,
          2,
          4,
          64,
          2,
          6,
          334,
          480,
          480,
          478,
          16,
          2,
          42,
          20,
          122,
          10,
          2,
          6,
          8,
          20,
          18,
          4,
          33,
          2,
          240,
          480,
          480,
          480,
          190,
          222,
          4,
          2,
          480,
          480,
          480,
          480,
          480,
          298,
          128,
          34,
          4,
          2,
          2,
          70,
          46,
          10,
          2,
          40,
          174,
          480,
          480,
          480,
          480,
          480,
          480,
          480,
          480,
          479,
          346,
          2,
          2,
          6,
          2,
          70,
          2,
          8,
          2,
          2,
          2,
          8,
          2,
          12,
          8,
          2,
          6,
          74,
          2,
          2,
          2,
          2,
          10,
          2,
          8,
          4,
          2,
          2,
          4,
          4,
          2,
          34,
          90,
          4,
          2,
          2,
          480,
          480,
          480,
          2,
          2,
          40,
          70,
          2,
          8,
          10,
          2,
          2,
          2,
          2,
          2,
          2,
          2,
          2,
          2,
          2,
          2,
          2,
          2,
          2,
          2,
          2,
          2,
          2,
          2,
          2,
          274,
          4,
          326,
          2,
          2,
          2,
          128,
          38,
          2,
          32,
          2,
          2,
          2,
          12,
          2,
          82,
          90,
          2,
          2,
          6,
          2,
          2,
          10,
          74,
          2,
          2,
          2,
          2,
          14,
          2,
          2,
          2,
          14,
          2,
          12,
          2,
          2,
          18,
          4,
          2,
          30,
          6,
          2,
          2,
          2,
          2,
          2,
          36,
          26,
          14,
          2,
          16,
          4,
          6,
          338,
          480,
          480,
          480,
          76,
          2,
          2,
          70,
          6,
          4,
          8,
          2,
          2,
          2,
          2,
          2,
          2,
          6,
          2,
          14,
          2,
          2,
          6,
          4,
          2,
          2,
          58,
          2,
          18,
          2,
          4,
          68,
          2,
          2,
          2,
          4,
          2,
          2,
          2,
          4,
          2,
          56,
          52,
          14,
          2,
          18,
          2,
          74,
          2,
          2,
          2,
          8,
          2,
          2,
          6,
          4,
          8,
          2,
          2,
          2,
          2,
          4,
          4,
          8,
          2,
          2,
          2,
          2,
          2,
          18,
          10,
          4,
          14,
          26,
          2,
          12,
          18,
          2,
          4,
          80,
          2,
          12,
          12,
          14,
          2,
          4,
          2,
          2,
          12,
          2,
          72,
          10,
          42,
          6,
          4,
          120,
          294,
          26,
          2,
          2,
          2,
          2,
          318,
          480,
          480,
          480,
          480,
          480,
          480,
          480,
          480,
          480,
          468,
          28,
          2,
          2,
          16,
          76,
          4,
          20,
          8,
          8,
          2,
          4,
          28,
          32,
          140,
          294,
          30,
          2,
          2,
          36,
          480,
          479,
          480,
          120,
          254,
          152,
          174,
          2,
          2,
          2,
          8,
          2,
          18,
          12,
          4,
          2,
          8,
          22,
          2,
          6,
          2,
          2,
          14,
          64,
          2,
          4,
          76,
          22,
          2,
          2,
          72,
          2,
          2,
          64,
          2,
          2,
          68,
          9,
          2,
          2,
          18,
          378,
          480,
          480,
          478,
          480,
          480,
          478,
          8,
          2,
          4,
          78,
          2,
          75,
          2,
          2,
          6,
          2,
          68,
          2,
          4,
          2,
          4,
          2,
          2,
          2,
          8,
          2,
          62,
          120,
          480,
          6,
          68,
          2,
          2,
          26,
          2,
          410,
          2,
          64,
          160,
          18,
          18,
          2,
          8,
          2,
          2,
          14,
          4,
          2,
          8,
          2,
          2,
          82,
          8,
          2,
          4,
          2,
          62,
          2,
          9,
          6,
          38,
          2,
          436,
          480,
          480,
          478,
          2,
          462,
          24,
          6,
          2,
          4,
          10,
          82,
          18,
          2,
          12,
          6,
          178,
          14,
          2,
          18,
          20,
          10,
          2,
          6,
          2,
          62,
          2,
          2,
          8,
          4,
          4,
          6,
          95,
          2,
          6,
          2,
          150,
          240,
          56,
          480,
          80,
          120,
          480,
          480,
          480,
          480,
          480,
          480,
          480,
          138,
          12,
          2,
          4,
          69,
          2,
          14,
          2,
          2,
          436,
          480,
          480,
          95,
          2,
          2,
          44,
          2,
          70,
          2,
          2,
          2,
          2,
          2,
          76,
          2,
          120,
          480,
          480,
          480,
          480,
          480,
          480,
          480,
          480,
          480,
          480,
          414,
          49,
          478,
          480,
          480,
          480,
          480,
          479,
          480,
          480,
          400,
          346,
          322,
          395,
          272,
          54,
          194,
          62,
          10,
          236,
          76,
          200,
          320,
          396,
          68,
          2,
          456,
          386,
          458,
          448,
          378,
          417,
          402,
          41,
          380,
          298,
          402,
          438,
          296,
          294,
          346,
          348,
          62,
          10,
          452,
          338,
          176,
          144,
          292,
          269,
          138,
          57,
          304,
          398,
          342,
          366,
          404,
          398,
          304,
          318,
          136,
          246,
          296,
          446,
          272,
          316,
          335,
          392,
          10,
          356,
          152,
          384,
          320,
          342,
          318,
          186,
          288,
          74,
          282,
          310,
          372,
          296,
          324,
          162,
          30,
          284,
          398,
          88,
          252,
          68,
          458,
          426,
          70,
          2,
          374,
          410,
          423,
          320,
          352,
          254,
          416,
          16,
          406,
          70,
          372,
          44,
          230,
          34,
          158,
          258,
          156,
          332,
          10,
          116,
          19,
          300,
          374,
          379,
          400,
          82,
          74,
          388,
          412,
          386,
          406,
          404,
          406,
          102,
          2,
          388,
          480,
          136,
          480,
          479,
          480,
          478,
          356,
          480,
          478,
          478,
          318,
          38,
          480,
          480,
          152,
          104,
          468,
          468,
          324,
          228,
          296,
          197,
          216,
          56,
          380,
          386,
          402,
          188,
          390,
          302,
          306,
          112,
          157,
          318,
          238,
          210,
          70,
          398,
          42,
          404,
          208,
          446,
          85,
          402,
          386,
          346,
          20,
          132,
          360
         ],
         "yaxis": "y"
        },
        {
         "alignmentgroup": "True",
         "hovertemplate": "Problema=Limpeza para parada de Fábrica<br>Linha=%{x}<br>Tempo (min)=%{y}<extra></extra>",
         "legendgroup": "Limpeza para parada de Fábrica",
         "marker": {
          "color": "#ffbb78",
          "pattern": {
           "shape": ""
          }
         },
         "name": "Limpeza para parada de Fábrica",
         "offsetgroup": "Limpeza para parada de Fábrica",
         "orientation": "v",
         "showlegend": true,
         "textposition": "auto",
         "type": "bar",
         "x": [
          1,
          7
         ],
         "xaxis": "x",
         "y": [
          16,
          2
         ],
         "yaxis": "y"
        },
        {
         "alignmentgroup": "True",
         "hovertemplate": "Problema=Bandeja Murcha ou Cheia<br>Linha=%{x}<br>Tempo (min)=%{y}<extra></extra>",
         "legendgroup": "Bandeja Murcha ou Cheia",
         "marker": {
          "color": "#2ca02c",
          "pattern": {
           "shape": ""
          }
         },
         "name": "Bandeja Murcha ou Cheia",
         "offsetgroup": "Bandeja Murcha ou Cheia",
         "orientation": "v",
         "showlegend": true,
         "textposition": "auto",
         "type": "bar",
         "x": [
          1,
          6,
          6
         ],
         "xaxis": "x",
         "y": [
          6,
          6,
          12
         ],
         "yaxis": "y"
        },
        {
         "alignmentgroup": "True",
         "hovertemplate": "Problema=Troca de Sabor<br>Linha=%{x}<br>Tempo (min)=%{y}<extra></extra>",
         "legendgroup": "Troca de Sabor",
         "marker": {
          "color": "#98df8a",
          "pattern": {
           "shape": ""
          }
         },
         "name": "Troca de Sabor",
         "offsetgroup": "Troca de Sabor",
         "orientation": "v",
         "showlegend": true,
         "textposition": "auto",
         "type": "bar",
         "x": [
          1
         ],
         "xaxis": "x",
         "y": [
          60
         ],
         "yaxis": "y"
        },
        {
         "alignmentgroup": "True",
         "hovertemplate": "Problema=Caixa não Selando<br>Linha=%{x}<br>Tempo (min)=%{y}<extra></extra>",
         "legendgroup": "Caixa não Selando",
         "marker": {
          "color": "#d62728",
          "pattern": {
           "shape": ""
          }
         },
         "name": "Caixa não Selando",
         "offsetgroup": "Caixa não Selando",
         "orientation": "v",
         "showlegend": true,
         "textposition": "auto",
         "type": "bar",
         "x": [
          1,
          1
         ],
         "xaxis": "x",
         "y": [
          10,
          166
         ],
         "yaxis": "y"
        },
        {
         "alignmentgroup": "True",
         "hovertemplate": "Problema=Bandeja deformada ou manchada<br>Linha=%{x}<br>Tempo (min)=%{y}<extra></extra>",
         "legendgroup": "Bandeja deformada ou manchada",
         "marker": {
          "color": "#ff9896",
          "pattern": {
           "shape": ""
          }
         },
         "name": "Bandeja deformada ou manchada",
         "offsetgroup": "Bandeja deformada ou manchada",
         "orientation": "v",
         "showlegend": true,
         "textposition": "auto",
         "type": "bar",
         "x": [
          2
         ],
         "xaxis": "x",
         "y": [
          124
         ],
         "yaxis": "y"
        },
        {
         "alignmentgroup": "True",
         "hovertemplate": "Problema=Esteira Cheia<br>Linha=%{x}<br>Tempo (min)=%{y}<extra></extra>",
         "legendgroup": "Esteira Cheia",
         "marker": {
          "color": "#9467bd",
          "pattern": {
           "shape": ""
          }
         },
         "name": "Esteira Cheia",
         "offsetgroup": "Esteira Cheia",
         "orientation": "v",
         "showlegend": true,
         "textposition": "auto",
         "type": "bar",
         "x": [
          2,
          7,
          7
         ],
         "xaxis": "x",
         "y": [
          68,
          2,
          2
         ],
         "yaxis": "y"
        },
        {
         "alignmentgroup": "True",
         "hovertemplate": "Problema=Bobina desenquadrando na vertical<br>Linha=%{x}<br>Tempo (min)=%{y}<extra></extra>",
         "legendgroup": "Bobina desenquadrando na vertical",
         "marker": {
          "color": "#c5b0d5",
          "pattern": {
           "shape": ""
          }
         },
         "name": "Bobina desenquadrando na vertical",
         "offsetgroup": "Bobina desenquadrando na vertical",
         "orientation": "v",
         "showlegend": true,
         "textposition": "auto",
         "type": "bar",
         "x": [
          6,
          7
         ],
         "xaxis": "x",
         "y": [
          6,
          40
         ],
         "yaxis": "y"
        },
        {
         "alignmentgroup": "True",
         "hovertemplate": "Problema=Alarme constante ou não sai<br>Linha=%{x}<br>Tempo (min)=%{y}<extra></extra>",
         "legendgroup": "Alarme constante ou não sai",
         "marker": {
          "color": "#8c564b",
          "pattern": {
           "shape": ""
          }
         },
         "name": "Alarme constante ou não sai",
         "offsetgroup": "Alarme constante ou não sai",
         "orientation": "v",
         "showlegend": true,
         "textposition": "auto",
         "type": "bar",
         "x": [
          7
         ],
         "xaxis": "x",
         "y": [
          6
         ],
         "yaxis": "y"
        },
        {
         "alignmentgroup": "True",
         "hovertemplate": "Problema=Robô Travando<br>Linha=%{x}<br>Tempo (min)=%{y}<extra></extra>",
         "legendgroup": "Robô Travando",
         "marker": {
          "color": "#c49c94",
          "pattern": {
           "shape": ""
          }
         },
         "name": "Robô Travando",
         "offsetgroup": "Robô Travando",
         "orientation": "v",
         "showlegend": true,
         "textposition": "auto",
         "type": "bar",
         "x": [
          7
         ],
         "xaxis": "x",
         "y": [
          4
         ],
         "yaxis": "y"
        },
        {
         "alignmentgroup": "True",
         "hovertemplate": "Problema=Abrindo Bandejas<br>Linha=%{x}<br>Tempo (min)=%{y}<extra></extra>",
         "legendgroup": "Abrindo Bandejas",
         "marker": {
          "color": "#e377c2",
          "pattern": {
           "shape": ""
          }
         },
         "name": "Abrindo Bandejas",
         "offsetgroup": "Abrindo Bandejas",
         "orientation": "v",
         "showlegend": true,
         "textposition": "auto",
         "type": "bar",
         "x": [
          7
         ],
         "xaxis": "x",
         "y": [
          2
         ],
         "yaxis": "y"
        },
        {
         "alignmentgroup": "True",
         "hovertemplate": "Problema=Falta de Pasta<br>Linha=%{x}<br>Tempo (min)=%{y}<extra></extra>",
         "legendgroup": "Falta de Pasta",
         "marker": {
          "color": "#f7b6d2",
          "pattern": {
           "shape": ""
          }
         },
         "name": "Falta de Pasta",
         "offsetgroup": "Falta de Pasta",
         "orientation": "v",
         "showlegend": true,
         "textposition": "auto",
         "type": "bar",
         "x": [
          7,
          7
         ],
         "xaxis": "x",
         "y": [
          2,
          2
         ],
         "yaxis": "y"
        },
        {
         "alignmentgroup": "True",
         "hovertemplate": "Problema=Troca de Bobina<br>Linha=%{x}<br>Tempo (min)=%{y}<extra></extra>",
         "legendgroup": "Troca de Bobina",
         "marker": {
          "color": "#7f7f7f",
          "pattern": {
           "shape": ""
          }
         },
         "name": "Troca de Bobina",
         "offsetgroup": "Troca de Bobina",
         "orientation": "v",
         "showlegend": true,
         "textposition": "auto",
         "type": "bar",
         "x": [
          7,
          7
         ],
         "xaxis": "x",
         "y": [
          2,
          6
         ],
         "yaxis": "y"
        },
        {
         "alignmentgroup": "True",
         "hovertemplate": "Problema=Quantidade de Recheio não Conforme<br>Linha=%{x}<br>Tempo (min)=%{y}<extra></extra>",
         "legendgroup": "Quantidade de Recheio não Conforme",
         "marker": {
          "color": "#c7c7c7",
          "pattern": {
           "shape": ""
          }
         },
         "name": "Quantidade de Recheio não Conforme",
         "offsetgroup": "Quantidade de Recheio não Conforme",
         "orientation": "v",
         "showlegend": true,
         "textposition": "auto",
         "type": "bar",
         "x": [
          7,
          7
         ],
         "xaxis": "x",
         "y": [
          2,
          386
         ],
         "yaxis": "y"
        }
       ],
       "layout": {
        "barmode": "stack",
        "legend": {
         "title": {
          "text": "Problema"
         },
         "tracegroupgap": 0
        },
        "margin": {
         "b": 40,
         "l": 40,
         "r": 40,
         "t": 40
        },
        "plot_bgcolor": "RGBA(0,0,0,0.01)",
        "template": {
         "data": {
          "bar": [
           {
            "error_x": {
             "color": "#2a3f5f"
            },
            "error_y": {
             "color": "#2a3f5f"
            },
            "marker": {
             "line": {
              "color": "#E5ECF6",
              "width": 0.5
             },
             "pattern": {
              "fillmode": "overlay",
              "size": 10,
              "solidity": 0.2
             }
            },
            "type": "bar"
           }
          ],
          "barpolar": [
           {
            "marker": {
             "line": {
              "color": "#E5ECF6",
              "width": 0.5
             },
             "pattern": {
              "fillmode": "overlay",
              "size": 10,
              "solidity": 0.2
             }
            },
            "type": "barpolar"
           }
          ],
          "carpet": [
           {
            "aaxis": {
             "endlinecolor": "#2a3f5f",
             "gridcolor": "white",
             "linecolor": "white",
             "minorgridcolor": "white",
             "startlinecolor": "#2a3f5f"
            },
            "baxis": {
             "endlinecolor": "#2a3f5f",
             "gridcolor": "white",
             "linecolor": "white",
             "minorgridcolor": "white",
             "startlinecolor": "#2a3f5f"
            },
            "type": "carpet"
           }
          ],
          "choropleth": [
           {
            "colorbar": {
             "outlinewidth": 0,
             "ticks": ""
            },
            "type": "choropleth"
           }
          ],
          "contour": [
           {
            "colorbar": {
             "outlinewidth": 0,
             "ticks": ""
            },
            "colorscale": [
             [
              0,
              "#0d0887"
             ],
             [
              0.1111111111111111,
              "#46039f"
             ],
             [
              0.2222222222222222,
              "#7201a8"
             ],
             [
              0.3333333333333333,
              "#9c179e"
             ],
             [
              0.4444444444444444,
              "#bd3786"
             ],
             [
              0.5555555555555556,
              "#d8576b"
             ],
             [
              0.6666666666666666,
              "#ed7953"
             ],
             [
              0.7777777777777778,
              "#fb9f3a"
             ],
             [
              0.8888888888888888,
              "#fdca26"
             ],
             [
              1,
              "#f0f921"
             ]
            ],
            "type": "contour"
           }
          ],
          "contourcarpet": [
           {
            "colorbar": {
             "outlinewidth": 0,
             "ticks": ""
            },
            "type": "contourcarpet"
           }
          ],
          "heatmap": [
           {
            "colorbar": {
             "outlinewidth": 0,
             "ticks": ""
            },
            "colorscale": [
             [
              0,
              "#0d0887"
             ],
             [
              0.1111111111111111,
              "#46039f"
             ],
             [
              0.2222222222222222,
              "#7201a8"
             ],
             [
              0.3333333333333333,
              "#9c179e"
             ],
             [
              0.4444444444444444,
              "#bd3786"
             ],
             [
              0.5555555555555556,
              "#d8576b"
             ],
             [
              0.6666666666666666,
              "#ed7953"
             ],
             [
              0.7777777777777778,
              "#fb9f3a"
             ],
             [
              0.8888888888888888,
              "#fdca26"
             ],
             [
              1,
              "#f0f921"
             ]
            ],
            "type": "heatmap"
           }
          ],
          "heatmapgl": [
           {
            "colorbar": {
             "outlinewidth": 0,
             "ticks": ""
            },
            "colorscale": [
             [
              0,
              "#0d0887"
             ],
             [
              0.1111111111111111,
              "#46039f"
             ],
             [
              0.2222222222222222,
              "#7201a8"
             ],
             [
              0.3333333333333333,
              "#9c179e"
             ],
             [
              0.4444444444444444,
              "#bd3786"
             ],
             [
              0.5555555555555556,
              "#d8576b"
             ],
             [
              0.6666666666666666,
              "#ed7953"
             ],
             [
              0.7777777777777778,
              "#fb9f3a"
             ],
             [
              0.8888888888888888,
              "#fdca26"
             ],
             [
              1,
              "#f0f921"
             ]
            ],
            "type": "heatmapgl"
           }
          ],
          "histogram": [
           {
            "marker": {
             "pattern": {
              "fillmode": "overlay",
              "size": 10,
              "solidity": 0.2
             }
            },
            "type": "histogram"
           }
          ],
          "histogram2d": [
           {
            "colorbar": {
             "outlinewidth": 0,
             "ticks": ""
            },
            "colorscale": [
             [
              0,
              "#0d0887"
             ],
             [
              0.1111111111111111,
              "#46039f"
             ],
             [
              0.2222222222222222,
              "#7201a8"
             ],
             [
              0.3333333333333333,
              "#9c179e"
             ],
             [
              0.4444444444444444,
              "#bd3786"
             ],
             [
              0.5555555555555556,
              "#d8576b"
             ],
             [
              0.6666666666666666,
              "#ed7953"
             ],
             [
              0.7777777777777778,
              "#fb9f3a"
             ],
             [
              0.8888888888888888,
              "#fdca26"
             ],
             [
              1,
              "#f0f921"
             ]
            ],
            "type": "histogram2d"
           }
          ],
          "histogram2dcontour": [
           {
            "colorbar": {
             "outlinewidth": 0,
             "ticks": ""
            },
            "colorscale": [
             [
              0,
              "#0d0887"
             ],
             [
              0.1111111111111111,
              "#46039f"
             ],
             [
              0.2222222222222222,
              "#7201a8"
             ],
             [
              0.3333333333333333,
              "#9c179e"
             ],
             [
              0.4444444444444444,
              "#bd3786"
             ],
             [
              0.5555555555555556,
              "#d8576b"
             ],
             [
              0.6666666666666666,
              "#ed7953"
             ],
             [
              0.7777777777777778,
              "#fb9f3a"
             ],
             [
              0.8888888888888888,
              "#fdca26"
             ],
             [
              1,
              "#f0f921"
             ]
            ],
            "type": "histogram2dcontour"
           }
          ],
          "mesh3d": [
           {
            "colorbar": {
             "outlinewidth": 0,
             "ticks": ""
            },
            "type": "mesh3d"
           }
          ],
          "parcoords": [
           {
            "line": {
             "colorbar": {
              "outlinewidth": 0,
              "ticks": ""
             }
            },
            "type": "parcoords"
           }
          ],
          "pie": [
           {
            "automargin": true,
            "type": "pie"
           }
          ],
          "scatter": [
           {
            "fillpattern": {
             "fillmode": "overlay",
             "size": 10,
             "solidity": 0.2
            },
            "type": "scatter"
           }
          ],
          "scatter3d": [
           {
            "line": {
             "colorbar": {
              "outlinewidth": 0,
              "ticks": ""
             }
            },
            "marker": {
             "colorbar": {
              "outlinewidth": 0,
              "ticks": ""
             }
            },
            "type": "scatter3d"
           }
          ],
          "scattercarpet": [
           {
            "marker": {
             "colorbar": {
              "outlinewidth": 0,
              "ticks": ""
             }
            },
            "type": "scattercarpet"
           }
          ],
          "scattergeo": [
           {
            "marker": {
             "colorbar": {
              "outlinewidth": 0,
              "ticks": ""
             }
            },
            "type": "scattergeo"
           }
          ],
          "scattergl": [
           {
            "marker": {
             "colorbar": {
              "outlinewidth": 0,
              "ticks": ""
             }
            },
            "type": "scattergl"
           }
          ],
          "scattermapbox": [
           {
            "marker": {
             "colorbar": {
              "outlinewidth": 0,
              "ticks": ""
             }
            },
            "type": "scattermapbox"
           }
          ],
          "scatterpolar": [
           {
            "marker": {
             "colorbar": {
              "outlinewidth": 0,
              "ticks": ""
             }
            },
            "type": "scatterpolar"
           }
          ],
          "scatterpolargl": [
           {
            "marker": {
             "colorbar": {
              "outlinewidth": 0,
              "ticks": ""
             }
            },
            "type": "scatterpolargl"
           }
          ],
          "scatterternary": [
           {
            "marker": {
             "colorbar": {
              "outlinewidth": 0,
              "ticks": ""
             }
            },
            "type": "scatterternary"
           }
          ],
          "surface": [
           {
            "colorbar": {
             "outlinewidth": 0,
             "ticks": ""
            },
            "colorscale": [
             [
              0,
              "#0d0887"
             ],
             [
              0.1111111111111111,
              "#46039f"
             ],
             [
              0.2222222222222222,
              "#7201a8"
             ],
             [
              0.3333333333333333,
              "#9c179e"
             ],
             [
              0.4444444444444444,
              "#bd3786"
             ],
             [
              0.5555555555555556,
              "#d8576b"
             ],
             [
              0.6666666666666666,
              "#ed7953"
             ],
             [
              0.7777777777777778,
              "#fb9f3a"
             ],
             [
              0.8888888888888888,
              "#fdca26"
             ],
             [
              1,
              "#f0f921"
             ]
            ],
            "type": "surface"
           }
          ],
          "table": [
           {
            "cells": {
             "fill": {
              "color": "#EBF0F8"
             },
             "line": {
              "color": "white"
             }
            },
            "header": {
             "fill": {
              "color": "#C8D4E3"
             },
             "line": {
              "color": "white"
             }
            },
            "type": "table"
           }
          ]
         },
         "layout": {
          "annotationdefaults": {
           "arrowcolor": "#2a3f5f",
           "arrowhead": 0,
           "arrowwidth": 1
          },
          "autotypenumbers": "strict",
          "coloraxis": {
           "colorbar": {
            "outlinewidth": 0,
            "ticks": ""
           }
          },
          "colorscale": {
           "diverging": [
            [
             0,
             "#8e0152"
            ],
            [
             0.1,
             "#c51b7d"
            ],
            [
             0.2,
             "#de77ae"
            ],
            [
             0.3,
             "#f1b6da"
            ],
            [
             0.4,
             "#fde0ef"
            ],
            [
             0.5,
             "#f7f7f7"
            ],
            [
             0.6,
             "#e6f5d0"
            ],
            [
             0.7,
             "#b8e186"
            ],
            [
             0.8,
             "#7fbc41"
            ],
            [
             0.9,
             "#4d9221"
            ],
            [
             1,
             "#276419"
            ]
           ],
           "sequential": [
            [
             0,
             "#0d0887"
            ],
            [
             0.1111111111111111,
             "#46039f"
            ],
            [
             0.2222222222222222,
             "#7201a8"
            ],
            [
             0.3333333333333333,
             "#9c179e"
            ],
            [
             0.4444444444444444,
             "#bd3786"
            ],
            [
             0.5555555555555556,
             "#d8576b"
            ],
            [
             0.6666666666666666,
             "#ed7953"
            ],
            [
             0.7777777777777778,
             "#fb9f3a"
            ],
            [
             0.8888888888888888,
             "#fdca26"
            ],
            [
             1,
             "#f0f921"
            ]
           ],
           "sequentialminus": [
            [
             0,
             "#0d0887"
            ],
            [
             0.1111111111111111,
             "#46039f"
            ],
            [
             0.2222222222222222,
             "#7201a8"
            ],
            [
             0.3333333333333333,
             "#9c179e"
            ],
            [
             0.4444444444444444,
             "#bd3786"
            ],
            [
             0.5555555555555556,
             "#d8576b"
            ],
            [
             0.6666666666666666,
             "#ed7953"
            ],
            [
             0.7777777777777778,
             "#fb9f3a"
            ],
            [
             0.8888888888888888,
             "#fdca26"
            ],
            [
             1,
             "#f0f921"
            ]
           ]
          },
          "colorway": [
           "#636efa",
           "#EF553B",
           "#00cc96",
           "#ab63fa",
           "#FFA15A",
           "#19d3f3",
           "#FF6692",
           "#B6E880",
           "#FF97FF",
           "#FECB52"
          ],
          "font": {
           "color": "#2a3f5f"
          },
          "geo": {
           "bgcolor": "white",
           "lakecolor": "white",
           "landcolor": "#E5ECF6",
           "showlakes": true,
           "showland": true,
           "subunitcolor": "white"
          },
          "hoverlabel": {
           "align": "left"
          },
          "hovermode": "closest",
          "mapbox": {
           "style": "light"
          },
          "paper_bgcolor": "white",
          "plot_bgcolor": "#E5ECF6",
          "polar": {
           "angularaxis": {
            "gridcolor": "white",
            "linecolor": "white",
            "ticks": ""
           },
           "bgcolor": "#E5ECF6",
           "radialaxis": {
            "gridcolor": "white",
            "linecolor": "white",
            "ticks": ""
           }
          },
          "scene": {
           "xaxis": {
            "backgroundcolor": "#E5ECF6",
            "gridcolor": "white",
            "gridwidth": 2,
            "linecolor": "white",
            "showbackground": true,
            "ticks": "",
            "zerolinecolor": "white"
           },
           "yaxis": {
            "backgroundcolor": "#E5ECF6",
            "gridcolor": "white",
            "gridwidth": 2,
            "linecolor": "white",
            "showbackground": true,
            "ticks": "",
            "zerolinecolor": "white"
           },
           "zaxis": {
            "backgroundcolor": "#E5ECF6",
            "gridcolor": "white",
            "gridwidth": 2,
            "linecolor": "white",
            "showbackground": true,
            "ticks": "",
            "zerolinecolor": "white"
           }
          },
          "shapedefaults": {
           "line": {
            "color": "#2a3f5f"
           }
          },
          "ternary": {
           "aaxis": {
            "gridcolor": "white",
            "linecolor": "white",
            "ticks": ""
           },
           "baxis": {
            "gridcolor": "white",
            "linecolor": "white",
            "ticks": ""
           },
           "bgcolor": "#E5ECF6",
           "caxis": {
            "gridcolor": "white",
            "linecolor": "white",
            "ticks": ""
           }
          },
          "title": {
           "x": 0.05
          },
          "xaxis": {
           "automargin": true,
           "gridcolor": "white",
           "linecolor": "white",
           "ticks": "",
           "title": {
            "standoff": 15
           },
           "zerolinecolor": "white",
           "zerolinewidth": 2
          },
          "yaxis": {
           "automargin": true,
           "gridcolor": "white",
           "linecolor": "white",
           "ticks": "",
           "title": {
            "standoff": 15
           },
           "zerolinecolor": "white",
           "zerolinewidth": 2
          }
         }
        },
        "title": {
         "text": "Detalhes de Tempo",
         "x": 0.5
        },
        "xaxis": {
         "anchor": "y",
         "categoryorder": "category ascending",
         "domain": [
          0,
          1
         ],
         "tickfont": {
          "color": "gray"
         },
         "tickvals": [
          1,
          2,
          3,
          4,
          5,
          6,
          7,
          8,
          9,
          10,
          11,
          12,
          13,
          14
         ],
         "title": {
          "text": "Linha"
         }
        },
        "yaxis": {
         "anchor": "x",
         "domain": [
          0,
          1
         ],
         "tickfont": {
          "color": "gray"
         },
         "title": {
          "text": "Tempo (min)"
         }
        }
       }
      }
     },
     "metadata": {},
     "output_type": "display_data"
    }
   ],
   "source": [
    "chart_details_2 = bar_chart_details.create_bar_chart_details(\n",
    "    df_maq_stopped.copy(),\n",
    "    IndicatorType.EFFICIENCY,\n",
    "    working=df_time_working.copy(),\n",
    "    choice=\"problema\",\n",
    ")\n",
    "chart_details_2"
   ]
  },
  {
   "cell_type": "code",
   "execution_count": 61,
   "metadata": {},
   "outputs": [
    {
     "data": {
      "application/vnd.plotly.v1+json": {
       "config": {
        "plotlyServerURL": "https://plot.ly"
       },
       "data": [
        {
         "alignmentgroup": "True",
         "hovertemplate": "Causa=Backup<br>Linha=%{x}<br>Tempo (min)=%{y}<extra></extra>",
         "legendgroup": "Backup",
         "marker": {
          "color": "#1f77b4",
          "pattern": {
           "shape": ""
          }
         },
         "name": "Backup",
         "offsetgroup": "Backup",
         "orientation": "v",
         "showlegend": true,
         "textposition": "auto",
         "type": "bar",
         "x": [
          1
         ],
         "xaxis": "x",
         "y": [
          480
         ],
         "yaxis": "y"
        },
        {
         "alignmentgroup": "True",
         "hovertemplate": "Causa=Kaizen<br>Linha=%{x}<br>Tempo (min)=%{y}<extra></extra>",
         "legendgroup": "Kaizen",
         "marker": {
          "color": "#aec7e8",
          "pattern": {
           "shape": ""
          }
         },
         "name": "Kaizen",
         "offsetgroup": "Kaizen",
         "orientation": "v",
         "showlegend": true,
         "textposition": "auto",
         "type": "bar",
         "x": [
          1
         ],
         "xaxis": "x",
         "y": [
          208
         ],
         "yaxis": "y"
        },
        {
         "alignmentgroup": "True",
         "hovertemplate": "Causa=Sem Produção<br>Linha=%{x}<br>Tempo (min)=%{y}<extra></extra>",
         "legendgroup": "Sem Produção",
         "marker": {
          "color": "#ff7f0e",
          "pattern": {
           "shape": ""
          }
         },
         "name": "Sem Produção",
         "offsetgroup": "Sem Produção",
         "orientation": "v",
         "showlegend": true,
         "textposition": "auto",
         "type": "bar",
         "x": [
          1,
          2,
          7,
          7,
          7,
          7
         ],
         "xaxis": "x",
         "y": [
          272,
          274,
          4,
          4,
          4,
          10
         ],
         "yaxis": "y"
        },
        {
         "alignmentgroup": "True",
         "hovertemplate": "Causa=Refeição<br>Linha=%{x}<br>Tempo (min)=%{y}<extra></extra>",
         "legendgroup": "Refeição",
         "marker": {
          "color": "#2ca02c",
          "pattern": {
           "shape": ""
          }
         },
         "name": "Refeição",
         "offsetgroup": "Refeição",
         "orientation": "v",
         "showlegend": true,
         "textposition": "auto",
         "type": "bar",
         "x": [
          1,
          1,
          2,
          6
         ],
         "xaxis": "x",
         "y": [
          6,
          148,
          2,
          252
         ],
         "yaxis": "y"
        },
        {
         "alignmentgroup": "True",
         "hovertemplate": "Causa=Realizar análise de falha<br>Linha=%{x}<br>Tempo (min)=%{y}<extra></extra>",
         "legendgroup": "Realizar análise de falha",
         "marker": {
          "color": "#98df8a",
          "pattern": {
           "shape": ""
          }
         },
         "name": "Realizar análise de falha",
         "offsetgroup": "Realizar análise de falha",
         "orientation": "v",
         "showlegend": true,
         "textposition": "auto",
         "type": "bar",
         "x": [
          1,
          2,
          6,
          6
         ],
         "xaxis": "x",
         "y": [
          6,
          124,
          6,
          12
         ],
         "yaxis": "y"
        },
        {
         "alignmentgroup": "True",
         "hovertemplate": "Causa=Troca para sabor Picante<br>Linha=%{x}<br>Tempo (min)=%{y}<extra></extra>",
         "legendgroup": "Troca para sabor Picante",
         "marker": {
          "color": "#d62728",
          "pattern": {
           "shape": ""
          }
         },
         "name": "Troca para sabor Picante",
         "offsetgroup": "Troca para sabor Picante",
         "orientation": "v",
         "showlegend": true,
         "textposition": "auto",
         "type": "bar",
         "x": [
          1
         ],
         "xaxis": "x",
         "y": [
          60
         ],
         "yaxis": "y"
        },
        {
         "alignmentgroup": "True",
         "hovertemplate": "Causa=Café e Ginástica Laboral<br>Linha=%{x}<br>Tempo (min)=%{y}<extra></extra>",
         "legendgroup": "Café e Ginástica Laboral",
         "marker": {
          "color": "#ff9896",
          "pattern": {
           "shape": ""
          }
         },
         "name": "Café e Ginástica Laboral",
         "offsetgroup": "Café e Ginástica Laboral",
         "orientation": "v",
         "showlegend": true,
         "textposition": "auto",
         "type": "bar",
         "x": [
          1
         ],
         "xaxis": "x",
         "y": [
          82
         ],
         "yaxis": "y"
        },
        {
         "alignmentgroup": "True",
         "hovertemplate": "Causa=Ajuste na Dimensão da Caixa<br>Linha=%{x}<br>Tempo (min)=%{y}<extra></extra>",
         "legendgroup": "Ajuste na Dimensão da Caixa",
         "marker": {
          "color": "#9467bd",
          "pattern": {
           "shape": ""
          }
         },
         "name": "Ajuste na Dimensão da Caixa",
         "offsetgroup": "Ajuste na Dimensão da Caixa",
         "orientation": "v",
         "showlegend": true,
         "textposition": "auto",
         "type": "bar",
         "x": [
          1,
          1
         ],
         "xaxis": "x",
         "y": [
          10,
          166
         ],
         "yaxis": "y"
        },
        {
         "alignmentgroup": "True",
         "hovertemplate": "Causa=Robô parado<br>Linha=%{x}<br>Tempo (min)=%{y}<extra></extra>",
         "legendgroup": "Robô parado",
         "marker": {
          "color": "#c5b0d5",
          "pattern": {
           "shape": ""
          }
         },
         "name": "Robô parado",
         "offsetgroup": "Robô parado",
         "orientation": "v",
         "showlegend": true,
         "textposition": "auto",
         "type": "bar",
         "x": [
          2,
          7
         ],
         "xaxis": "x",
         "y": [
          68,
          2
         ],
         "yaxis": "y"
        },
        {
         "alignmentgroup": "True",
         "hovertemplate": "Causa=Ajuste de Fotocélula<br>Linha=%{x}<br>Tempo (min)=%{y}<extra></extra>",
         "legendgroup": "Ajuste de Fotocélula",
         "marker": {
          "color": "#8c564b",
          "pattern": {
           "shape": ""
          }
         },
         "name": "Ajuste de Fotocélula",
         "offsetgroup": "Ajuste de Fotocélula",
         "orientation": "v",
         "showlegend": true,
         "textposition": "auto",
         "type": "bar",
         "x": [
          6
         ],
         "xaxis": "x",
         "y": [
          6
         ],
         "yaxis": "y"
        },
        {
         "alignmentgroup": "True",
         "hovertemplate": "Causa=Ajuste de Freio<br>Linha=%{x}<br>Tempo (min)=%{y}<extra></extra>",
         "legendgroup": "Ajuste de Freio",
         "marker": {
          "color": "#c49c94",
          "pattern": {
           "shape": ""
          }
         },
         "name": "Ajuste de Freio",
         "offsetgroup": "Ajuste de Freio",
         "orientation": "v",
         "showlegend": true,
         "textposition": "auto",
         "type": "bar",
         "x": [
          7
         ],
         "xaxis": "x",
         "y": [
          40
         ],
         "yaxis": "y"
        },
        {
         "alignmentgroup": "True",
         "hovertemplate": "Causa=Alarme de falha na bomba de dosagem<br>Linha=%{x}<br>Tempo (min)=%{y}<extra></extra>",
         "legendgroup": "Alarme de falha na bomba de dosagem",
         "marker": {
          "color": "#e377c2",
          "pattern": {
           "shape": ""
          }
         },
         "name": "Alarme de falha na bomba de dosagem",
         "offsetgroup": "Alarme de falha na bomba de dosagem",
         "orientation": "v",
         "showlegend": true,
         "textposition": "auto",
         "type": "bar",
         "x": [
          7
         ],
         "xaxis": "x",
         "y": [
          6
         ],
         "yaxis": "y"
        },
        {
         "alignmentgroup": "True",
         "hovertemplate": "Causa=Ajuste das Guias das Bandejas<br>Linha=%{x}<br>Tempo (min)=%{y}<extra></extra>",
         "legendgroup": "Ajuste das Guias das Bandejas",
         "marker": {
          "color": "#f7b6d2",
          "pattern": {
           "shape": ""
          }
         },
         "name": "Ajuste das Guias das Bandejas",
         "offsetgroup": "Ajuste das Guias das Bandejas",
         "orientation": "v",
         "showlegend": true,
         "textposition": "auto",
         "type": "bar",
         "x": [
          7
         ],
         "xaxis": "x",
         "y": [
          4
         ],
         "yaxis": "y"
        },
        {
         "alignmentgroup": "True",
         "hovertemplate": "Causa=Limpeza de Placa<br>Linha=%{x}<br>Tempo (min)=%{y}<extra></extra>",
         "legendgroup": "Limpeza de Placa",
         "marker": {
          "color": "#7f7f7f",
          "pattern": {
           "shape": ""
          }
         },
         "name": "Limpeza de Placa",
         "offsetgroup": "Limpeza de Placa",
         "orientation": "v",
         "showlegend": true,
         "textposition": "auto",
         "type": "bar",
         "x": [
          7
         ],
         "xaxis": "x",
         "y": [
          2
         ],
         "yaxis": "y"
        },
        {
         "alignmentgroup": "True",
         "hovertemplate": "Causa=Problema com montagem de caixas<br>Linha=%{x}<br>Tempo (min)=%{y}<extra></extra>",
         "legendgroup": "Problema com montagem de caixas",
         "marker": {
          "color": "#c7c7c7",
          "pattern": {
           "shape": ""
          }
         },
         "name": "Problema com montagem de caixas",
         "offsetgroup": "Problema com montagem de caixas",
         "orientation": "v",
         "showlegend": true,
         "textposition": "auto",
         "type": "bar",
         "x": [
          7
         ],
         "xaxis": "x",
         "y": [
          2
         ],
         "yaxis": "y"
        },
        {
         "alignmentgroup": "True",
         "hovertemplate": "Causa=Bomba com problemas<br>Linha=%{x}<br>Tempo (min)=%{y}<extra></extra>",
         "legendgroup": "Bomba com problemas",
         "marker": {
          "color": "#bcbd22",
          "pattern": {
           "shape": ""
          }
         },
         "name": "Bomba com problemas",
         "offsetgroup": "Bomba com problemas",
         "orientation": "v",
         "showlegend": true,
         "textposition": "auto",
         "type": "bar",
         "x": [
          7
         ],
         "xaxis": "x",
         "y": [
          2
         ],
         "yaxis": "y"
        },
        {
         "alignmentgroup": "True",
         "hovertemplate": "Causa=Troca de Bobina Inferior<br>Linha=%{x}<br>Tempo (min)=%{y}<extra></extra>",
         "legendgroup": "Troca de Bobina Inferior",
         "marker": {
          "color": "#dbdb8d",
          "pattern": {
           "shape": ""
          }
         },
         "name": "Troca de Bobina Inferior",
         "offsetgroup": "Troca de Bobina Inferior",
         "orientation": "v",
         "showlegend": true,
         "textposition": "auto",
         "type": "bar",
         "x": [
          7
         ],
         "xaxis": "x",
         "y": [
          2
         ],
         "yaxis": "y"
        },
        {
         "alignmentgroup": "True",
         "hovertemplate": "Causa=Falha na bomba de estator<br>Linha=%{x}<br>Tempo (min)=%{y}<extra></extra>",
         "legendgroup": "Falha na bomba de estator",
         "marker": {
          "color": "#17becf",
          "pattern": {
           "shape": ""
          }
         },
         "name": "Falha na bomba de estator",
         "offsetgroup": "Falha na bomba de estator",
         "orientation": "v",
         "showlegend": true,
         "textposition": "auto",
         "type": "bar",
         "x": [
          7
         ],
         "xaxis": "x",
         "y": [
          2
         ],
         "yaxis": "y"
        },
        {
         "alignmentgroup": "True",
         "hovertemplate": "Causa=Reator quebrado<br>Linha=%{x}<br>Tempo (min)=%{y}<extra></extra>",
         "legendgroup": "Reator quebrado",
         "marker": {
          "color": "#9edae5",
          "pattern": {
           "shape": ""
          }
         },
         "name": "Reator quebrado",
         "offsetgroup": "Reator quebrado",
         "orientation": "v",
         "showlegend": true,
         "textposition": "auto",
         "type": "bar",
         "x": [
          7
         ],
         "xaxis": "x",
         "y": [
          2
         ],
         "yaxis": "y"
        },
        {
         "alignmentgroup": "True",
         "hovertemplate": "Causa=Troca de Bobina Superior<br>Linha=%{x}<br>Tempo (min)=%{y}<extra></extra>",
         "legendgroup": "Troca de Bobina Superior",
         "marker": {
          "color": "#1f77b4",
          "pattern": {
           "shape": ""
          }
         },
         "name": "Troca de Bobina Superior",
         "offsetgroup": "Troca de Bobina Superior",
         "orientation": "v",
         "showlegend": true,
         "textposition": "auto",
         "type": "bar",
         "x": [
          7
         ],
         "xaxis": "x",
         "y": [
          6
         ],
         "yaxis": "y"
        },
        {
         "alignmentgroup": "True",
         "hovertemplate": "Causa=Bico entupido<br>Linha=%{x}<br>Tempo (min)=%{y}<extra></extra>",
         "legendgroup": "Bico entupido",
         "marker": {
          "color": "#aec7e8",
          "pattern": {
           "shape": ""
          }
         },
         "name": "Bico entupido",
         "offsetgroup": "Bico entupido",
         "orientation": "v",
         "showlegend": true,
         "textposition": "auto",
         "type": "bar",
         "x": [
          7
         ],
         "xaxis": "x",
         "y": [
          386
         ],
         "yaxis": "y"
        }
       ],
       "layout": {
        "barmode": "stack",
        "legend": {
         "title": {
          "text": "Causa"
         },
         "tracegroupgap": 0
        },
        "margin": {
         "b": 40,
         "l": 40,
         "r": 40,
         "t": 40
        },
        "plot_bgcolor": "RGBA(0,0,0,0.01)",
        "template": {
         "data": {
          "bar": [
           {
            "error_x": {
             "color": "#2a3f5f"
            },
            "error_y": {
             "color": "#2a3f5f"
            },
            "marker": {
             "line": {
              "color": "#E5ECF6",
              "width": 0.5
             },
             "pattern": {
              "fillmode": "overlay",
              "size": 10,
              "solidity": 0.2
             }
            },
            "type": "bar"
           }
          ],
          "barpolar": [
           {
            "marker": {
             "line": {
              "color": "#E5ECF6",
              "width": 0.5
             },
             "pattern": {
              "fillmode": "overlay",
              "size": 10,
              "solidity": 0.2
             }
            },
            "type": "barpolar"
           }
          ],
          "carpet": [
           {
            "aaxis": {
             "endlinecolor": "#2a3f5f",
             "gridcolor": "white",
             "linecolor": "white",
             "minorgridcolor": "white",
             "startlinecolor": "#2a3f5f"
            },
            "baxis": {
             "endlinecolor": "#2a3f5f",
             "gridcolor": "white",
             "linecolor": "white",
             "minorgridcolor": "white",
             "startlinecolor": "#2a3f5f"
            },
            "type": "carpet"
           }
          ],
          "choropleth": [
           {
            "colorbar": {
             "outlinewidth": 0,
             "ticks": ""
            },
            "type": "choropleth"
           }
          ],
          "contour": [
           {
            "colorbar": {
             "outlinewidth": 0,
             "ticks": ""
            },
            "colorscale": [
             [
              0,
              "#0d0887"
             ],
             [
              0.1111111111111111,
              "#46039f"
             ],
             [
              0.2222222222222222,
              "#7201a8"
             ],
             [
              0.3333333333333333,
              "#9c179e"
             ],
             [
              0.4444444444444444,
              "#bd3786"
             ],
             [
              0.5555555555555556,
              "#d8576b"
             ],
             [
              0.6666666666666666,
              "#ed7953"
             ],
             [
              0.7777777777777778,
              "#fb9f3a"
             ],
             [
              0.8888888888888888,
              "#fdca26"
             ],
             [
              1,
              "#f0f921"
             ]
            ],
            "type": "contour"
           }
          ],
          "contourcarpet": [
           {
            "colorbar": {
             "outlinewidth": 0,
             "ticks": ""
            },
            "type": "contourcarpet"
           }
          ],
          "heatmap": [
           {
            "colorbar": {
             "outlinewidth": 0,
             "ticks": ""
            },
            "colorscale": [
             [
              0,
              "#0d0887"
             ],
             [
              0.1111111111111111,
              "#46039f"
             ],
             [
              0.2222222222222222,
              "#7201a8"
             ],
             [
              0.3333333333333333,
              "#9c179e"
             ],
             [
              0.4444444444444444,
              "#bd3786"
             ],
             [
              0.5555555555555556,
              "#d8576b"
             ],
             [
              0.6666666666666666,
              "#ed7953"
             ],
             [
              0.7777777777777778,
              "#fb9f3a"
             ],
             [
              0.8888888888888888,
              "#fdca26"
             ],
             [
              1,
              "#f0f921"
             ]
            ],
            "type": "heatmap"
           }
          ],
          "heatmapgl": [
           {
            "colorbar": {
             "outlinewidth": 0,
             "ticks": ""
            },
            "colorscale": [
             [
              0,
              "#0d0887"
             ],
             [
              0.1111111111111111,
              "#46039f"
             ],
             [
              0.2222222222222222,
              "#7201a8"
             ],
             [
              0.3333333333333333,
              "#9c179e"
             ],
             [
              0.4444444444444444,
              "#bd3786"
             ],
             [
              0.5555555555555556,
              "#d8576b"
             ],
             [
              0.6666666666666666,
              "#ed7953"
             ],
             [
              0.7777777777777778,
              "#fb9f3a"
             ],
             [
              0.8888888888888888,
              "#fdca26"
             ],
             [
              1,
              "#f0f921"
             ]
            ],
            "type": "heatmapgl"
           }
          ],
          "histogram": [
           {
            "marker": {
             "pattern": {
              "fillmode": "overlay",
              "size": 10,
              "solidity": 0.2
             }
            },
            "type": "histogram"
           }
          ],
          "histogram2d": [
           {
            "colorbar": {
             "outlinewidth": 0,
             "ticks": ""
            },
            "colorscale": [
             [
              0,
              "#0d0887"
             ],
             [
              0.1111111111111111,
              "#46039f"
             ],
             [
              0.2222222222222222,
              "#7201a8"
             ],
             [
              0.3333333333333333,
              "#9c179e"
             ],
             [
              0.4444444444444444,
              "#bd3786"
             ],
             [
              0.5555555555555556,
              "#d8576b"
             ],
             [
              0.6666666666666666,
              "#ed7953"
             ],
             [
              0.7777777777777778,
              "#fb9f3a"
             ],
             [
              0.8888888888888888,
              "#fdca26"
             ],
             [
              1,
              "#f0f921"
             ]
            ],
            "type": "histogram2d"
           }
          ],
          "histogram2dcontour": [
           {
            "colorbar": {
             "outlinewidth": 0,
             "ticks": ""
            },
            "colorscale": [
             [
              0,
              "#0d0887"
             ],
             [
              0.1111111111111111,
              "#46039f"
             ],
             [
              0.2222222222222222,
              "#7201a8"
             ],
             [
              0.3333333333333333,
              "#9c179e"
             ],
             [
              0.4444444444444444,
              "#bd3786"
             ],
             [
              0.5555555555555556,
              "#d8576b"
             ],
             [
              0.6666666666666666,
              "#ed7953"
             ],
             [
              0.7777777777777778,
              "#fb9f3a"
             ],
             [
              0.8888888888888888,
              "#fdca26"
             ],
             [
              1,
              "#f0f921"
             ]
            ],
            "type": "histogram2dcontour"
           }
          ],
          "mesh3d": [
           {
            "colorbar": {
             "outlinewidth": 0,
             "ticks": ""
            },
            "type": "mesh3d"
           }
          ],
          "parcoords": [
           {
            "line": {
             "colorbar": {
              "outlinewidth": 0,
              "ticks": ""
             }
            },
            "type": "parcoords"
           }
          ],
          "pie": [
           {
            "automargin": true,
            "type": "pie"
           }
          ],
          "scatter": [
           {
            "fillpattern": {
             "fillmode": "overlay",
             "size": 10,
             "solidity": 0.2
            },
            "type": "scatter"
           }
          ],
          "scatter3d": [
           {
            "line": {
             "colorbar": {
              "outlinewidth": 0,
              "ticks": ""
             }
            },
            "marker": {
             "colorbar": {
              "outlinewidth": 0,
              "ticks": ""
             }
            },
            "type": "scatter3d"
           }
          ],
          "scattercarpet": [
           {
            "marker": {
             "colorbar": {
              "outlinewidth": 0,
              "ticks": ""
             }
            },
            "type": "scattercarpet"
           }
          ],
          "scattergeo": [
           {
            "marker": {
             "colorbar": {
              "outlinewidth": 0,
              "ticks": ""
             }
            },
            "type": "scattergeo"
           }
          ],
          "scattergl": [
           {
            "marker": {
             "colorbar": {
              "outlinewidth": 0,
              "ticks": ""
             }
            },
            "type": "scattergl"
           }
          ],
          "scattermapbox": [
           {
            "marker": {
             "colorbar": {
              "outlinewidth": 0,
              "ticks": ""
             }
            },
            "type": "scattermapbox"
           }
          ],
          "scatterpolar": [
           {
            "marker": {
             "colorbar": {
              "outlinewidth": 0,
              "ticks": ""
             }
            },
            "type": "scatterpolar"
           }
          ],
          "scatterpolargl": [
           {
            "marker": {
             "colorbar": {
              "outlinewidth": 0,
              "ticks": ""
             }
            },
            "type": "scatterpolargl"
           }
          ],
          "scatterternary": [
           {
            "marker": {
             "colorbar": {
              "outlinewidth": 0,
              "ticks": ""
             }
            },
            "type": "scatterternary"
           }
          ],
          "surface": [
           {
            "colorbar": {
             "outlinewidth": 0,
             "ticks": ""
            },
            "colorscale": [
             [
              0,
              "#0d0887"
             ],
             [
              0.1111111111111111,
              "#46039f"
             ],
             [
              0.2222222222222222,
              "#7201a8"
             ],
             [
              0.3333333333333333,
              "#9c179e"
             ],
             [
              0.4444444444444444,
              "#bd3786"
             ],
             [
              0.5555555555555556,
              "#d8576b"
             ],
             [
              0.6666666666666666,
              "#ed7953"
             ],
             [
              0.7777777777777778,
              "#fb9f3a"
             ],
             [
              0.8888888888888888,
              "#fdca26"
             ],
             [
              1,
              "#f0f921"
             ]
            ],
            "type": "surface"
           }
          ],
          "table": [
           {
            "cells": {
             "fill": {
              "color": "#EBF0F8"
             },
             "line": {
              "color": "white"
             }
            },
            "header": {
             "fill": {
              "color": "#C8D4E3"
             },
             "line": {
              "color": "white"
             }
            },
            "type": "table"
           }
          ]
         },
         "layout": {
          "annotationdefaults": {
           "arrowcolor": "#2a3f5f",
           "arrowhead": 0,
           "arrowwidth": 1
          },
          "autotypenumbers": "strict",
          "coloraxis": {
           "colorbar": {
            "outlinewidth": 0,
            "ticks": ""
           }
          },
          "colorscale": {
           "diverging": [
            [
             0,
             "#8e0152"
            ],
            [
             0.1,
             "#c51b7d"
            ],
            [
             0.2,
             "#de77ae"
            ],
            [
             0.3,
             "#f1b6da"
            ],
            [
             0.4,
             "#fde0ef"
            ],
            [
             0.5,
             "#f7f7f7"
            ],
            [
             0.6,
             "#e6f5d0"
            ],
            [
             0.7,
             "#b8e186"
            ],
            [
             0.8,
             "#7fbc41"
            ],
            [
             0.9,
             "#4d9221"
            ],
            [
             1,
             "#276419"
            ]
           ],
           "sequential": [
            [
             0,
             "#0d0887"
            ],
            [
             0.1111111111111111,
             "#46039f"
            ],
            [
             0.2222222222222222,
             "#7201a8"
            ],
            [
             0.3333333333333333,
             "#9c179e"
            ],
            [
             0.4444444444444444,
             "#bd3786"
            ],
            [
             0.5555555555555556,
             "#d8576b"
            ],
            [
             0.6666666666666666,
             "#ed7953"
            ],
            [
             0.7777777777777778,
             "#fb9f3a"
            ],
            [
             0.8888888888888888,
             "#fdca26"
            ],
            [
             1,
             "#f0f921"
            ]
           ],
           "sequentialminus": [
            [
             0,
             "#0d0887"
            ],
            [
             0.1111111111111111,
             "#46039f"
            ],
            [
             0.2222222222222222,
             "#7201a8"
            ],
            [
             0.3333333333333333,
             "#9c179e"
            ],
            [
             0.4444444444444444,
             "#bd3786"
            ],
            [
             0.5555555555555556,
             "#d8576b"
            ],
            [
             0.6666666666666666,
             "#ed7953"
            ],
            [
             0.7777777777777778,
             "#fb9f3a"
            ],
            [
             0.8888888888888888,
             "#fdca26"
            ],
            [
             1,
             "#f0f921"
            ]
           ]
          },
          "colorway": [
           "#636efa",
           "#EF553B",
           "#00cc96",
           "#ab63fa",
           "#FFA15A",
           "#19d3f3",
           "#FF6692",
           "#B6E880",
           "#FF97FF",
           "#FECB52"
          ],
          "font": {
           "color": "#2a3f5f"
          },
          "geo": {
           "bgcolor": "white",
           "lakecolor": "white",
           "landcolor": "#E5ECF6",
           "showlakes": true,
           "showland": true,
           "subunitcolor": "white"
          },
          "hoverlabel": {
           "align": "left"
          },
          "hovermode": "closest",
          "mapbox": {
           "style": "light"
          },
          "paper_bgcolor": "white",
          "plot_bgcolor": "#E5ECF6",
          "polar": {
           "angularaxis": {
            "gridcolor": "white",
            "linecolor": "white",
            "ticks": ""
           },
           "bgcolor": "#E5ECF6",
           "radialaxis": {
            "gridcolor": "white",
            "linecolor": "white",
            "ticks": ""
           }
          },
          "scene": {
           "xaxis": {
            "backgroundcolor": "#E5ECF6",
            "gridcolor": "white",
            "gridwidth": 2,
            "linecolor": "white",
            "showbackground": true,
            "ticks": "",
            "zerolinecolor": "white"
           },
           "yaxis": {
            "backgroundcolor": "#E5ECF6",
            "gridcolor": "white",
            "gridwidth": 2,
            "linecolor": "white",
            "showbackground": true,
            "ticks": "",
            "zerolinecolor": "white"
           },
           "zaxis": {
            "backgroundcolor": "#E5ECF6",
            "gridcolor": "white",
            "gridwidth": 2,
            "linecolor": "white",
            "showbackground": true,
            "ticks": "",
            "zerolinecolor": "white"
           }
          },
          "shapedefaults": {
           "line": {
            "color": "#2a3f5f"
           }
          },
          "ternary": {
           "aaxis": {
            "gridcolor": "white",
            "linecolor": "white",
            "ticks": ""
           },
           "baxis": {
            "gridcolor": "white",
            "linecolor": "white",
            "ticks": ""
           },
           "bgcolor": "#E5ECF6",
           "caxis": {
            "gridcolor": "white",
            "linecolor": "white",
            "ticks": ""
           }
          },
          "title": {
           "x": 0.05
          },
          "xaxis": {
           "automargin": true,
           "gridcolor": "white",
           "linecolor": "white",
           "ticks": "",
           "title": {
            "standoff": 15
           },
           "zerolinecolor": "white",
           "zerolinewidth": 2
          },
          "yaxis": {
           "automargin": true,
           "gridcolor": "white",
           "linecolor": "white",
           "ticks": "",
           "title": {
            "standoff": 15
           },
           "zerolinecolor": "white",
           "zerolinewidth": 2
          }
         }
        },
        "title": {
         "text": "Detalhes de Tempo",
         "x": 0.5
        },
        "xaxis": {
         "anchor": "y",
         "categoryorder": "category ascending",
         "domain": [
          0,
          1
         ],
         "tickfont": {
          "color": "gray"
         },
         "tickvals": [
          1,
          2,
          3,
          4,
          5,
          6,
          7,
          8,
          9,
          10,
          11,
          12,
          13,
          14
         ],
         "title": {
          "text": "Linha"
         }
        },
        "yaxis": {
         "anchor": "x",
         "domain": [
          0,
          1
         ],
         "tickfont": {
          "color": "gray"
         },
         "title": {
          "text": "Tempo (min)"
         }
        }
       }
      }
     },
     "metadata": {},
     "output_type": "display_data"
    }
   ],
   "source": [
    "chart_details_3 = bar_chart_details.create_bar_chart_details(\n",
    "    df_maq_stopped.copy(),\n",
    "    IndicatorType.EFFICIENCY,\n",
    "    working=df_time_working.copy(),\n",
    "    choice=\"causa\",\n",
    ")\n",
    "chart_details_3"
   ]
  },
  {
   "cell_type": "code",
   "execution_count": 62,
   "metadata": {},
   "outputs": [
    {
     "data": {
      "application/vnd.plotly.v1+json": {
       "config": {
        "plotlyServerURL": "https://plot.ly"
       },
       "data": [
        {
         "alignmentgroup": "True",
         "hovertemplate": "Equipamento=Termoformadora<br>Linha=%{x}<br>Tempo (min)=%{y}<extra></extra>",
         "legendgroup": "Termoformadora",
         "marker": {
          "color": "#aec7e8",
          "pattern": {
           "shape": ""
          }
         },
         "name": "Termoformadora",
         "offsetgroup": "Termoformadora",
         "orientation": "v",
         "showlegend": true,
         "textposition": "auto",
         "type": "bar",
         "x": [
          1,
          2,
          2,
          6,
          6,
          6,
          7,
          7,
          7,
          7,
          7,
          7
         ],
         "xaxis": "x",
         "y": [
          6,
          124,
          68,
          6,
          12,
          6,
          40,
          2,
          2,
          2,
          2,
          6
         ],
         "yaxis": "y"
        },
        {
         "alignmentgroup": "True",
         "hovertemplate": "Equipamento=Recheadora<br>Linha=%{x}<br>Tempo (min)=%{y}<extra></extra>",
         "legendgroup": "Recheadora",
         "marker": {
          "color": "#ff7f0e",
          "pattern": {
           "shape": ""
          }
         },
         "name": "Recheadora",
         "offsetgroup": "Recheadora",
         "orientation": "v",
         "showlegend": true,
         "textposition": "auto",
         "type": "bar",
         "x": [
          1,
          7,
          7,
          7,
          7,
          7
         ],
         "xaxis": "x",
         "y": [
          60,
          6,
          2,
          2,
          2,
          386
         ],
         "yaxis": "y"
        },
        {
         "alignmentgroup": "True",
         "hovertemplate": "Equipamento=Armadora de Caixas<br>Linha=%{x}<br>Tempo (min)=%{y}<extra></extra>",
         "legendgroup": "Armadora de Caixas",
         "marker": {
          "color": "#ffbb78",
          "pattern": {
           "shape": ""
          }
         },
         "name": "Armadora de Caixas",
         "offsetgroup": "Armadora de Caixas",
         "orientation": "v",
         "showlegend": true,
         "textposition": "auto",
         "type": "bar",
         "x": [
          1,
          1
         ],
         "xaxis": "x",
         "y": [
          10,
          166
         ],
         "yaxis": "y"
        },
        {
         "alignmentgroup": "True",
         "hovertemplate": "Equipamento=Robô<br>Linha=%{x}<br>Tempo (min)=%{y}<extra></extra>",
         "legendgroup": "Robô",
         "marker": {
          "color": "#2ca02c",
          "pattern": {
           "shape": ""
          }
         },
         "name": "Robô",
         "offsetgroup": "Robô",
         "orientation": "v",
         "showlegend": true,
         "textposition": "auto",
         "type": "bar",
         "x": [
          7
         ],
         "xaxis": "x",
         "y": [
          4
         ],
         "yaxis": "y"
        }
       ],
       "layout": {
        "barmode": "stack",
        "legend": {
         "title": {
          "text": "Equipamento"
         },
         "tracegroupgap": 0
        },
        "margin": {
         "b": 40,
         "l": 40,
         "r": 40,
         "t": 40
        },
        "plot_bgcolor": "RGBA(0,0,0,0.01)",
        "template": {
         "data": {
          "bar": [
           {
            "error_x": {
             "color": "#2a3f5f"
            },
            "error_y": {
             "color": "#2a3f5f"
            },
            "marker": {
             "line": {
              "color": "#E5ECF6",
              "width": 0.5
             },
             "pattern": {
              "fillmode": "overlay",
              "size": 10,
              "solidity": 0.2
             }
            },
            "type": "bar"
           }
          ],
          "barpolar": [
           {
            "marker": {
             "line": {
              "color": "#E5ECF6",
              "width": 0.5
             },
             "pattern": {
              "fillmode": "overlay",
              "size": 10,
              "solidity": 0.2
             }
            },
            "type": "barpolar"
           }
          ],
          "carpet": [
           {
            "aaxis": {
             "endlinecolor": "#2a3f5f",
             "gridcolor": "white",
             "linecolor": "white",
             "minorgridcolor": "white",
             "startlinecolor": "#2a3f5f"
            },
            "baxis": {
             "endlinecolor": "#2a3f5f",
             "gridcolor": "white",
             "linecolor": "white",
             "minorgridcolor": "white",
             "startlinecolor": "#2a3f5f"
            },
            "type": "carpet"
           }
          ],
          "choropleth": [
           {
            "colorbar": {
             "outlinewidth": 0,
             "ticks": ""
            },
            "type": "choropleth"
           }
          ],
          "contour": [
           {
            "colorbar": {
             "outlinewidth": 0,
             "ticks": ""
            },
            "colorscale": [
             [
              0,
              "#0d0887"
             ],
             [
              0.1111111111111111,
              "#46039f"
             ],
             [
              0.2222222222222222,
              "#7201a8"
             ],
             [
              0.3333333333333333,
              "#9c179e"
             ],
             [
              0.4444444444444444,
              "#bd3786"
             ],
             [
              0.5555555555555556,
              "#d8576b"
             ],
             [
              0.6666666666666666,
              "#ed7953"
             ],
             [
              0.7777777777777778,
              "#fb9f3a"
             ],
             [
              0.8888888888888888,
              "#fdca26"
             ],
             [
              1,
              "#f0f921"
             ]
            ],
            "type": "contour"
           }
          ],
          "contourcarpet": [
           {
            "colorbar": {
             "outlinewidth": 0,
             "ticks": ""
            },
            "type": "contourcarpet"
           }
          ],
          "heatmap": [
           {
            "colorbar": {
             "outlinewidth": 0,
             "ticks": ""
            },
            "colorscale": [
             [
              0,
              "#0d0887"
             ],
             [
              0.1111111111111111,
              "#46039f"
             ],
             [
              0.2222222222222222,
              "#7201a8"
             ],
             [
              0.3333333333333333,
              "#9c179e"
             ],
             [
              0.4444444444444444,
              "#bd3786"
             ],
             [
              0.5555555555555556,
              "#d8576b"
             ],
             [
              0.6666666666666666,
              "#ed7953"
             ],
             [
              0.7777777777777778,
              "#fb9f3a"
             ],
             [
              0.8888888888888888,
              "#fdca26"
             ],
             [
              1,
              "#f0f921"
             ]
            ],
            "type": "heatmap"
           }
          ],
          "heatmapgl": [
           {
            "colorbar": {
             "outlinewidth": 0,
             "ticks": ""
            },
            "colorscale": [
             [
              0,
              "#0d0887"
             ],
             [
              0.1111111111111111,
              "#46039f"
             ],
             [
              0.2222222222222222,
              "#7201a8"
             ],
             [
              0.3333333333333333,
              "#9c179e"
             ],
             [
              0.4444444444444444,
              "#bd3786"
             ],
             [
              0.5555555555555556,
              "#d8576b"
             ],
             [
              0.6666666666666666,
              "#ed7953"
             ],
             [
              0.7777777777777778,
              "#fb9f3a"
             ],
             [
              0.8888888888888888,
              "#fdca26"
             ],
             [
              1,
              "#f0f921"
             ]
            ],
            "type": "heatmapgl"
           }
          ],
          "histogram": [
           {
            "marker": {
             "pattern": {
              "fillmode": "overlay",
              "size": 10,
              "solidity": 0.2
             }
            },
            "type": "histogram"
           }
          ],
          "histogram2d": [
           {
            "colorbar": {
             "outlinewidth": 0,
             "ticks": ""
            },
            "colorscale": [
             [
              0,
              "#0d0887"
             ],
             [
              0.1111111111111111,
              "#46039f"
             ],
             [
              0.2222222222222222,
              "#7201a8"
             ],
             [
              0.3333333333333333,
              "#9c179e"
             ],
             [
              0.4444444444444444,
              "#bd3786"
             ],
             [
              0.5555555555555556,
              "#d8576b"
             ],
             [
              0.6666666666666666,
              "#ed7953"
             ],
             [
              0.7777777777777778,
              "#fb9f3a"
             ],
             [
              0.8888888888888888,
              "#fdca26"
             ],
             [
              1,
              "#f0f921"
             ]
            ],
            "type": "histogram2d"
           }
          ],
          "histogram2dcontour": [
           {
            "colorbar": {
             "outlinewidth": 0,
             "ticks": ""
            },
            "colorscale": [
             [
              0,
              "#0d0887"
             ],
             [
              0.1111111111111111,
              "#46039f"
             ],
             [
              0.2222222222222222,
              "#7201a8"
             ],
             [
              0.3333333333333333,
              "#9c179e"
             ],
             [
              0.4444444444444444,
              "#bd3786"
             ],
             [
              0.5555555555555556,
              "#d8576b"
             ],
             [
              0.6666666666666666,
              "#ed7953"
             ],
             [
              0.7777777777777778,
              "#fb9f3a"
             ],
             [
              0.8888888888888888,
              "#fdca26"
             ],
             [
              1,
              "#f0f921"
             ]
            ],
            "type": "histogram2dcontour"
           }
          ],
          "mesh3d": [
           {
            "colorbar": {
             "outlinewidth": 0,
             "ticks": ""
            },
            "type": "mesh3d"
           }
          ],
          "parcoords": [
           {
            "line": {
             "colorbar": {
              "outlinewidth": 0,
              "ticks": ""
             }
            },
            "type": "parcoords"
           }
          ],
          "pie": [
           {
            "automargin": true,
            "type": "pie"
           }
          ],
          "scatter": [
           {
            "fillpattern": {
             "fillmode": "overlay",
             "size": 10,
             "solidity": 0.2
            },
            "type": "scatter"
           }
          ],
          "scatter3d": [
           {
            "line": {
             "colorbar": {
              "outlinewidth": 0,
              "ticks": ""
             }
            },
            "marker": {
             "colorbar": {
              "outlinewidth": 0,
              "ticks": ""
             }
            },
            "type": "scatter3d"
           }
          ],
          "scattercarpet": [
           {
            "marker": {
             "colorbar": {
              "outlinewidth": 0,
              "ticks": ""
             }
            },
            "type": "scattercarpet"
           }
          ],
          "scattergeo": [
           {
            "marker": {
             "colorbar": {
              "outlinewidth": 0,
              "ticks": ""
             }
            },
            "type": "scattergeo"
           }
          ],
          "scattergl": [
           {
            "marker": {
             "colorbar": {
              "outlinewidth": 0,
              "ticks": ""
             }
            },
            "type": "scattergl"
           }
          ],
          "scattermapbox": [
           {
            "marker": {
             "colorbar": {
              "outlinewidth": 0,
              "ticks": ""
             }
            },
            "type": "scattermapbox"
           }
          ],
          "scatterpolar": [
           {
            "marker": {
             "colorbar": {
              "outlinewidth": 0,
              "ticks": ""
             }
            },
            "type": "scatterpolar"
           }
          ],
          "scatterpolargl": [
           {
            "marker": {
             "colorbar": {
              "outlinewidth": 0,
              "ticks": ""
             }
            },
            "type": "scatterpolargl"
           }
          ],
          "scatterternary": [
           {
            "marker": {
             "colorbar": {
              "outlinewidth": 0,
              "ticks": ""
             }
            },
            "type": "scatterternary"
           }
          ],
          "surface": [
           {
            "colorbar": {
             "outlinewidth": 0,
             "ticks": ""
            },
            "colorscale": [
             [
              0,
              "#0d0887"
             ],
             [
              0.1111111111111111,
              "#46039f"
             ],
             [
              0.2222222222222222,
              "#7201a8"
             ],
             [
              0.3333333333333333,
              "#9c179e"
             ],
             [
              0.4444444444444444,
              "#bd3786"
             ],
             [
              0.5555555555555556,
              "#d8576b"
             ],
             [
              0.6666666666666666,
              "#ed7953"
             ],
             [
              0.7777777777777778,
              "#fb9f3a"
             ],
             [
              0.8888888888888888,
              "#fdca26"
             ],
             [
              1,
              "#f0f921"
             ]
            ],
            "type": "surface"
           }
          ],
          "table": [
           {
            "cells": {
             "fill": {
              "color": "#EBF0F8"
             },
             "line": {
              "color": "white"
             }
            },
            "header": {
             "fill": {
              "color": "#C8D4E3"
             },
             "line": {
              "color": "white"
             }
            },
            "type": "table"
           }
          ]
         },
         "layout": {
          "annotationdefaults": {
           "arrowcolor": "#2a3f5f",
           "arrowhead": 0,
           "arrowwidth": 1
          },
          "autotypenumbers": "strict",
          "coloraxis": {
           "colorbar": {
            "outlinewidth": 0,
            "ticks": ""
           }
          },
          "colorscale": {
           "diverging": [
            [
             0,
             "#8e0152"
            ],
            [
             0.1,
             "#c51b7d"
            ],
            [
             0.2,
             "#de77ae"
            ],
            [
             0.3,
             "#f1b6da"
            ],
            [
             0.4,
             "#fde0ef"
            ],
            [
             0.5,
             "#f7f7f7"
            ],
            [
             0.6,
             "#e6f5d0"
            ],
            [
             0.7,
             "#b8e186"
            ],
            [
             0.8,
             "#7fbc41"
            ],
            [
             0.9,
             "#4d9221"
            ],
            [
             1,
             "#276419"
            ]
           ],
           "sequential": [
            [
             0,
             "#0d0887"
            ],
            [
             0.1111111111111111,
             "#46039f"
            ],
            [
             0.2222222222222222,
             "#7201a8"
            ],
            [
             0.3333333333333333,
             "#9c179e"
            ],
            [
             0.4444444444444444,
             "#bd3786"
            ],
            [
             0.5555555555555556,
             "#d8576b"
            ],
            [
             0.6666666666666666,
             "#ed7953"
            ],
            [
             0.7777777777777778,
             "#fb9f3a"
            ],
            [
             0.8888888888888888,
             "#fdca26"
            ],
            [
             1,
             "#f0f921"
            ]
           ],
           "sequentialminus": [
            [
             0,
             "#0d0887"
            ],
            [
             0.1111111111111111,
             "#46039f"
            ],
            [
             0.2222222222222222,
             "#7201a8"
            ],
            [
             0.3333333333333333,
             "#9c179e"
            ],
            [
             0.4444444444444444,
             "#bd3786"
            ],
            [
             0.5555555555555556,
             "#d8576b"
            ],
            [
             0.6666666666666666,
             "#ed7953"
            ],
            [
             0.7777777777777778,
             "#fb9f3a"
            ],
            [
             0.8888888888888888,
             "#fdca26"
            ],
            [
             1,
             "#f0f921"
            ]
           ]
          },
          "colorway": [
           "#636efa",
           "#EF553B",
           "#00cc96",
           "#ab63fa",
           "#FFA15A",
           "#19d3f3",
           "#FF6692",
           "#B6E880",
           "#FF97FF",
           "#FECB52"
          ],
          "font": {
           "color": "#2a3f5f"
          },
          "geo": {
           "bgcolor": "white",
           "lakecolor": "white",
           "landcolor": "#E5ECF6",
           "showlakes": true,
           "showland": true,
           "subunitcolor": "white"
          },
          "hoverlabel": {
           "align": "left"
          },
          "hovermode": "closest",
          "mapbox": {
           "style": "light"
          },
          "paper_bgcolor": "white",
          "plot_bgcolor": "#E5ECF6",
          "polar": {
           "angularaxis": {
            "gridcolor": "white",
            "linecolor": "white",
            "ticks": ""
           },
           "bgcolor": "#E5ECF6",
           "radialaxis": {
            "gridcolor": "white",
            "linecolor": "white",
            "ticks": ""
           }
          },
          "scene": {
           "xaxis": {
            "backgroundcolor": "#E5ECF6",
            "gridcolor": "white",
            "gridwidth": 2,
            "linecolor": "white",
            "showbackground": true,
            "ticks": "",
            "zerolinecolor": "white"
           },
           "yaxis": {
            "backgroundcolor": "#E5ECF6",
            "gridcolor": "white",
            "gridwidth": 2,
            "linecolor": "white",
            "showbackground": true,
            "ticks": "",
            "zerolinecolor": "white"
           },
           "zaxis": {
            "backgroundcolor": "#E5ECF6",
            "gridcolor": "white",
            "gridwidth": 2,
            "linecolor": "white",
            "showbackground": true,
            "ticks": "",
            "zerolinecolor": "white"
           }
          },
          "shapedefaults": {
           "line": {
            "color": "#2a3f5f"
           }
          },
          "ternary": {
           "aaxis": {
            "gridcolor": "white",
            "linecolor": "white",
            "ticks": ""
           },
           "baxis": {
            "gridcolor": "white",
            "linecolor": "white",
            "ticks": ""
           },
           "bgcolor": "#E5ECF6",
           "caxis": {
            "gridcolor": "white",
            "linecolor": "white",
            "ticks": ""
           }
          },
          "title": {
           "x": 0.05
          },
          "xaxis": {
           "automargin": true,
           "gridcolor": "white",
           "linecolor": "white",
           "ticks": "",
           "title": {
            "standoff": 15
           },
           "zerolinecolor": "white",
           "zerolinewidth": 2
          },
          "yaxis": {
           "automargin": true,
           "gridcolor": "white",
           "linecolor": "white",
           "ticks": "",
           "title": {
            "standoff": 15
           },
           "zerolinecolor": "white",
           "zerolinewidth": 2
          }
         }
        },
        "title": {
         "text": "Detalhes de Tempo",
         "x": 0.5
        },
        "xaxis": {
         "anchor": "y",
         "categoryorder": "category ascending",
         "domain": [
          0,
          1
         ],
         "tickfont": {
          "color": "gray"
         },
         "tickvals": [
          1,
          2,
          3,
          4,
          5,
          6,
          7,
          8,
          9,
          10,
          11,
          12,
          13,
          14
         ],
         "title": {
          "text": "Linha"
         }
        },
        "yaxis": {
         "anchor": "x",
         "domain": [
          0,
          1
         ],
         "tickfont": {
          "color": "gray"
         },
         "title": {
          "text": "Tempo (min)"
         }
        }
       }
      }
     },
     "metadata": {},
     "output_type": "display_data"
    }
   ],
   "source": [
    "chart_details_4 = bar_chart_details.create_bar_chart_details(\n",
    "    df_maq_stopped.copy(),\n",
    "    IndicatorType.EFFICIENCY,\n",
    "    working=df_time_working.copy(),\n",
    "    choice=\"equipamento\",\n",
    ")\n",
    "chart_details_4"
   ]
  },
  {
   "cell_type": "code",
   "execution_count": 65,
   "metadata": {},
   "outputs": [],
   "source": [
    "class SunburstTest:\n",
    "    \"\"\"\n",
    "    Represents a class for creating bar chart details based on provided data.\n",
    "    \"\"\"\n",
    "\n",
    "    def __init__(self, df_maq_stopped: pd.DataFrame, df_production: pd.DataFrame):\n",
    "        self.df_indicator = DFIndicators(df_maq_stopped, df_production)\n",
    "\n",
    "    def create_sunburst_details(\n",
    "        self,\n",
    "        dataframe: pd.DataFrame,\n",
    "        indicator: IndicatorType,\n",
    "        turn: str = None,\n",
    "        selected_data: str = None,\n",
    "        working: pd.DataFrame = None,\n",
    "    ):\n",
    "        \"\"\"\n",
    "        Creates a bar chart with details based on the provided data.\n",
    "\n",
    "        Args:\n",
    "            dataframe (pd.DataFrame): The input dataframe containing the data.\n",
    "            indicator (IndicatorType): The type of indicator.\n",
    "            template (TemplateType): The type of template.\n",
    "            turn (str): The turn value.\n",
    "            selected_data: The selected data.\n",
    "            working (pd.DataFrame, optional): The working dataframe. Defaults to None.\n",
    "\n",
    "        Returns:\n",
    "            dcc.Graph: The bar chart as a Dash component.\n",
    "        \"\"\"\n",
    "        df = self.df_indicator.adjust_df_for_bar_lost(dataframe, indicator)\n",
    "\n",
    "        # Garante que data_registro tenha apenas o dia\n",
    "        df[\"data_registro\"] = pd.to_datetime(df[\"data_registro\"]).dt.date\n",
    "\n",
    "        # Filtro pelo dia, caso tenha sido selecionado\n",
    "        df = (\n",
    "            df[df[\"data_registro\"] == pd.to_datetime(selected_data).date()] if selected_data else df\n",
    "        )\n",
    "\n",
    "        # Remove onde não há motivo informado\n",
    "        df = df[df[\"motivo\"] != \"Sem Motivo Informado\"]\n",
    "\n",
    "        # Preenche equipamento nulo\n",
    "        df[\"equipamento\"] = df[\"equipamento\"].fillna(\"Linha\")\n",
    "\n",
    "        # Criação do gráfico\n",
    "        fig = px.sunburst(\n",
    "            df,\n",
    "            path=[\"turno\", \"motivo\", \"equipamento\", \"problema\", \"causa\"],\n",
    "            values=\"tempo\",\n",
    "            color=\"motivo\",\n",
    "            title=\"Detalhes de Tempo\",\n",
    "            height=600,\n",
    "        )\n",
    "\n",
    "        # Atualiza traces para texto ficar na direção radial\n",
    "        fig.update_traces(\n",
    "            textinfo=\"label+percent entry\",\n",
    "        )\n",
    "\n",
    "        return fig\n",
    "\n",
    "    def create_icicle_details(\n",
    "        self,\n",
    "        dataframe: pd.DataFrame,\n",
    "        indicator: IndicatorType,\n",
    "        turn: str = None,\n",
    "        selected_data: str = None,\n",
    "        working: pd.DataFrame = None,\n",
    "    ):\n",
    "\n",
    "        df = self.df_indicator.adjust_df_for_bar_lost(dataframe, indicator)\n",
    "\n",
    "        # Garante que data_registro tenha apenas o dia\n",
    "        df[\"data_registro\"] = pd.to_datetime(df[\"data_registro\"]).dt.date\n",
    "\n",
    "        # Filtro pelo dia, caso tenha sido selecionado\n",
    "        df = (\n",
    "            df[df[\"data_registro\"] == pd.to_datetime(selected_data).date()] if selected_data else df\n",
    "        )\n",
    "\n",
    "        # Remove onde não há motivo informado\n",
    "        df = df[df[\"motivo\"] != \"Sem Motivo Informado\"]\n",
    "\n",
    "        # Preenche equipamento nulo\n",
    "        df[\"equipamento\"] = df[\"equipamento\"].fillna(\"Linha\")\n",
    "\n",
    "        # Criação do gráfico\n",
    "        fig = px.icicle(\n",
    "            df,\n",
    "            path=[px.Constant(\"Maquina ID\"), \"turno\", \"motivo\", \"equipamento\", \"problema\", \"causa\"],\n",
    "            values=\"tempo\",\n",
    "            color=\"motivo\",\n",
    "            title=\"Detalhes de Tempo\",\n",
    "            height=600,\n",
    "        )\n",
    "\n",
    "        tick_color = \"gray\"\n",
    "\n",
    "        # Atualizar layout\n",
    "        fig.update_layout(\n",
    "            plot_bgcolor=\"RGBA(0,0,0,0.01)\",\n",
    "        )\n",
    "\n",
    "        # Adicionar a porcentagem\n",
    "        fig.update_traces(textinfo=\"label+percent parent\")\n",
    "\n",
    "        return fig\n",
    "\n",
    "    def create_treemap_details(\n",
    "        self,\n",
    "        dataframe: pd.DataFrame,\n",
    "        indicator: IndicatorType,\n",
    "        turn: str = None,\n",
    "        selected_data: str = None,\n",
    "        working: pd.DataFrame = None,\n",
    "    ):\n",
    "\n",
    "        df = self.df_indicator.adjust_df_for_bar_lost(dataframe, indicator)\n",
    "\n",
    "        # Garante que data_registro tenha apenas o dia\n",
    "        df[\"data_registro\"] = pd.to_datetime(df[\"data_registro\"]).dt.date\n",
    "\n",
    "        # Filtro pelo dia, caso tenha sido selecionado\n",
    "        df = (\n",
    "            df[df[\"data_registro\"] == pd.to_datetime(selected_data).date()] if selected_data else df\n",
    "        )\n",
    "\n",
    "        # Remove onde não há motivo informado\n",
    "        df = df[df[\"motivo\"] != \"Sem Motivo Informado\"]\n",
    "\n",
    "        # Preenche equipamento nulo\n",
    "        df[\"equipamento\"] = df[\"equipamento\"].fillna(\"Linha\")\n",
    "\n",
    "        # Criação do gráfico\n",
    "        fig = px.treemap(\n",
    "            df,\n",
    "            path=[px.Constant(\"Maquina ID\"), \"turno\", \"motivo\", \"equipamento\", \"problema\", \"causa\"],\n",
    "            values=\"tempo\",\n",
    "            color=\"motivo\",\n",
    "            title=\"Detalhes de Tempo\",\n",
    "            height=600,\n",
    "        )\n",
    "\n",
    "        tick_color = \"gray\"\n",
    "\n",
    "        # Atualizar layout\n",
    "        fig.update_layout(\n",
    "            plot_bgcolor=\"RGBA(0,0,0,0.01)\",\n",
    "        )\n",
    "\n",
    "        # Adicionar a porcentagem\n",
    "        fig.update_traces(\n",
    "            textinfo=\"label+percent parent\",\n",
    "            marker=dict(cornerradius=5),\n",
    "        )\n",
    "\n",
    "        return fig\n",
    "\n",
    "\n",
    "sunburst_test = SunburstTest(df_maq_stopped.copy(), df_info_production_cleaned.copy())"
   ]
  },
  {
   "cell_type": "code",
   "execution_count": 66,
   "metadata": {},
   "outputs": [
    {
     "data": {
      "application/vnd.plotly.v1+json": {
       "config": {
        "plotlyServerURL": "https://plot.ly"
       },
       "data": [
        {
         "branchvalues": "total",
         "customdata": [
          [
           "Fluxo"
          ],
          [
           "Parada Programada"
          ],
          [
           "Parada Programada"
          ],
          [
           "Parada Programada"
          ],
          [
           "Ajustes"
          ],
          [
           "Manutenção"
          ],
          [
           "Parada Programada"
          ],
          [
           "Manutenção"
          ],
          [
           "Ajustes"
          ],
          [
           "Fluxo"
          ],
          [
           "Setup"
          ],
          [
           "Fluxo"
          ],
          [
           "Manutenção"
          ],
          [
           "Ajustes"
          ],
          [
           "Manutenção"
          ],
          [
           "Ajustes"
          ],
          [
           "Manutenção"
          ],
          [
           "Fluxo"
          ],
          [
           "Parada Programada"
          ],
          [
           "Manutenção"
          ],
          [
           "Fluxo"
          ],
          [
           "Ajustes"
          ],
          [
           "Ajustes"
          ],
          [
           "Manutenção"
          ],
          [
           "Ajustes"
          ],
          [
           "Ajustes"
          ],
          [
           "Manutenção"
          ],
          [
           "Manutenção"
          ],
          [
           "Parada Programada"
          ],
          [
           "Fluxo"
          ],
          [
           "Ajustes"
          ],
          [
           "Ajustes"
          ],
          [
           "Ajustes"
          ],
          [
           "Parada Programada"
          ],
          [
           "Parada Programada"
          ],
          [
           "Ajustes"
          ],
          [
           "Fluxo"
          ],
          [
           "Fluxo"
          ],
          [
           "Limpeza"
          ],
          [
           "Limpeza"
          ],
          [
           "Parada Programada"
          ],
          [
           "Parada Programada"
          ],
          [
           "Parada Programada"
          ],
          [
           "Parada Programada"
          ],
          [
           "Ajustes"
          ],
          [
           "Manutenção"
          ],
          [
           "Ajustes"
          ],
          [
           "Ajustes"
          ],
          [
           "Setup"
          ],
          [
           "Ajustes"
          ],
          [
           "Limpeza"
          ],
          [
           "Limpeza"
          ],
          [
           "Parada Programada"
          ],
          [
           "Parada Programada"
          ],
          [
           "Parada Programada"
          ],
          [
           "Ajustes"
          ],
          [
           "Fluxo"
          ],
          [
           "Manutenção"
          ],
          [
           "Setup"
          ],
          [
           "Ajustes"
          ],
          [
           "Ajustes"
          ],
          [
           "Ajustes"
          ],
          [
           "Fluxo"
          ],
          [
           "Fluxo"
          ],
          [
           "Manutenção"
          ],
          [
           "Manutenção"
          ],
          [
           "Manutenção"
          ],
          [
           "Ajustes"
          ],
          [
           "Ajustes"
          ],
          [
           "Fluxo"
          ],
          [
           "Fluxo"
          ],
          [
           "Limpeza"
          ],
          [
           "Limpeza"
          ],
          [
           "Manutenção"
          ],
          [
           "Manutenção"
          ],
          [
           "Manutenção"
          ],
          [
           "Parada Programada"
          ],
          [
           "Parada Programada"
          ],
          [
           "Parada Programada"
          ],
          [
           "Setup"
          ],
          [
           "(?)"
          ],
          [
           "(?)"
          ],
          [
           "(?)"
          ]
         ],
         "domain": {
          "x": [
           0,
           1
          ],
          "y": [
           0,
           1
          ]
         },
         "hovertemplate": "labels=%{label}<br>tempo=%{value}<br>parent=%{parent}<br>id=%{id}<br>motivo=%{customdata[0]}<extra></extra>",
         "ids": [
          "MAT/Fluxo/Termoformadora/Esteira Cheia",
          "MAT/Parada Programada/Linha/Parada Planejada/Sem Produção",
          "VES/Parada Programada/Linha/Parada Planejada/Refeição",
          "NOT/Parada Programada/Linha/Parada Planejada/Refeição",
          "MAT/Ajustes/Armadora de Caixas/Caixa não Selando",
          "VES/Manutenção/Termoformadora/Bandeja Murcha ou Cheia",
          "MAT/Parada Programada/Linha/Parada Planejada/Café e Ginástica Laboral",
          "VES/Manutenção/Recheadora/Quantidade de Recheio não Conforme/Falha na bomba de estator",
          "VES/Ajustes/Termoformadora/Troca de Bobina/Troca de Bobina Superior",
          "VES/Fluxo/Termoformadora/Esteira Cheia/Robô parado",
          "MAT/Setup/Recheadora/Troca de Sabor/Troca para sabor Picante",
          "VES/Fluxo/Termoformadora/Esteira Cheia/Problema com montagem de caixas",
          "VES/Manutenção/Recheadora/Alarme constante ou não sai",
          "MAT/Ajustes/Termoformadora/Bobina desenquadrando na vertical",
          "VES/Manutenção/Recheadora/Alarme constante ou não sai/Alarme de falha na bomba de dosagem",
          "VES/Ajustes/Termoformadora/Troca de Bobina/Troca de Bobina Inferior",
          "NOT/Manutenção/Termoformadora/Bandeja deformada ou manchada/Realizar análise de falha",
          "VES/Fluxo/Recheadora/Falta de Pasta/Reator quebrado",
          "NOT/Parada Programada/Linha/Parada Planejada/Backup",
          "NOT/Manutenção/Termoformadora/Bandeja deformada ou manchada",
          "MAT/Fluxo/Termoformadora/Esteira Cheia/Robô parado",
          "VES/Ajustes/Termoformadora/Abrindo Bandejas/Limpeza de Placa",
          "VES/Ajustes/Termoformadora/Abrindo Bandejas",
          "MAT/Manutenção/Termoformadora/Bandeja Murcha ou Cheia",
          "VES/Ajustes/Termoformadora/Bobina desenquadrando na vertical",
          "VES/Ajustes/Robô/Robô Travando/Ajuste das Guias das Bandejas",
          "VES/Manutenção/Termoformadora/Bandeja Murcha ou Cheia/Realizar análise de falha",
          "MAT/Manutenção/Termoformadora/Bandeja Murcha ou Cheia/Realizar análise de falha",
          "MAT/Parada Programada/Linha/Parada para Treinamento/Kaizen",
          "VES/Fluxo/Recheadora/Falta de Pasta/Bomba com problemas",
          "MAT/Ajustes/Armadora de Caixas/Caixa não Selando/Ajuste na Dimensão da Caixa",
          "VES/Ajustes/Termoformadora/Bobina desenquadrando na vertical/Ajuste de Freio",
          "MAT/Ajustes/Termoformadora/Bobina desenquadrando na vertical/Ajuste de Fotocélula",
          "VES/Parada Programada/Linha/Parada Planejada/Sem Produção",
          "MAT/Parada Programada/Linha/Parada Planejada/Refeição",
          "VES/Ajustes/Recheadora/Quantidade de Recheio não Conforme/Bico entupido",
          "VES/Fluxo/Termoformadora/Esteira Cheia",
          "VES/Fluxo/Recheadora/Falta de Pasta",
          "MAT/Limpeza/Linha/Limpeza para parada de Fábrica",
          "VES/Limpeza/Linha/Limpeza para parada de Fábrica",
          "MAT/Parada Programada/Linha/Parada Planejada",
          "NOT/Parada Programada/Linha/Parada Planejada",
          "VES/Parada Programada/Linha/Parada Planejada",
          "MAT/Parada Programada/Linha/Parada para Treinamento",
          "VES/Ajustes/Recheadora/Quantidade de Recheio não Conforme",
          "VES/Manutenção/Recheadora/Quantidade de Recheio não Conforme",
          "VES/Ajustes/Robô/Robô Travando",
          "VES/Ajustes/Termoformadora/Troca de Bobina",
          "MAT/Setup/Recheadora/Troca de Sabor",
          "MAT/Ajustes/Armadora de Caixas",
          "MAT/Limpeza/Linha",
          "VES/Limpeza/Linha",
          "MAT/Parada Programada/Linha",
          "NOT/Parada Programada/Linha",
          "VES/Parada Programada/Linha",
          "VES/Ajustes/Recheadora",
          "VES/Fluxo/Recheadora",
          "VES/Manutenção/Recheadora",
          "MAT/Setup/Recheadora",
          "VES/Ajustes/Robô",
          "MAT/Ajustes/Termoformadora",
          "VES/Ajustes/Termoformadora",
          "MAT/Fluxo/Termoformadora",
          "VES/Fluxo/Termoformadora",
          "MAT/Manutenção/Termoformadora",
          "NOT/Manutenção/Termoformadora",
          "VES/Manutenção/Termoformadora",
          "MAT/Ajustes",
          "VES/Ajustes",
          "MAT/Fluxo",
          "VES/Fluxo",
          "MAT/Limpeza",
          "VES/Limpeza",
          "MAT/Manutenção",
          "NOT/Manutenção",
          "VES/Manutenção",
          "MAT/Parada Programada",
          "NOT/Parada Programada",
          "VES/Parada Programada",
          "MAT/Setup",
          "MAT",
          "NOT",
          "VES"
         ],
         "labels": [
          "Esteira Cheia",
          "Sem Produção",
          "Refeição",
          "Refeição",
          "Caixa não Selando",
          "Bandeja Murcha ou Cheia",
          "Café e Ginástica Laboral",
          "Falha na bomba de estator",
          "Troca de Bobina Superior",
          "Robô parado",
          "Troca para sabor Picante",
          "Problema com montagem de caixas",
          "Alarme constante ou não sai",
          "Bobina desenquadrando na vertical",
          "Alarme de falha na bomba de dosagem",
          "Troca de Bobina Inferior",
          "Realizar análise de falha",
          "Reator quebrado",
          "Backup",
          "Bandeja deformada ou manchada",
          "Robô parado",
          "Limpeza de Placa",
          "Abrindo Bandejas",
          "Bandeja Murcha ou Cheia",
          "Bobina desenquadrando na vertical",
          "Ajuste das Guias das Bandejas",
          "Realizar análise de falha",
          "Realizar análise de falha",
          "Kaizen",
          "Bomba com problemas",
          "Ajuste na Dimensão da Caixa",
          "Ajuste de Freio",
          "Ajuste de Fotocélula",
          "Sem Produção",
          "Refeição",
          "Bico entupido",
          "Esteira Cheia",
          "Falta de Pasta",
          "Limpeza para parada de Fábrica",
          "Limpeza para parada de Fábrica",
          "Parada Planejada",
          "Parada Planejada",
          "Parada Planejada",
          "Parada para Treinamento",
          "Quantidade de Recheio não Conforme",
          "Quantidade de Recheio não Conforme",
          "Robô Travando",
          "Troca de Bobina",
          "Troca de Sabor",
          "Armadora de Caixas",
          "Linha",
          "Linha",
          "Linha",
          "Linha",
          "Linha",
          "Recheadora",
          "Recheadora",
          "Recheadora",
          "Recheadora",
          "Robô",
          "Termoformadora",
          "Termoformadora",
          "Termoformadora",
          "Termoformadora",
          "Termoformadora",
          "Termoformadora",
          "Termoformadora",
          "Ajustes",
          "Ajustes",
          "Fluxo",
          "Fluxo",
          "Limpeza",
          "Limpeza",
          "Manutenção",
          "Manutenção",
          "Manutenção",
          "Parada Programada",
          "Parada Programada",
          "Parada Programada",
          "Setup",
          "MAT",
          "NOT",
          "VES"
         ],
         "marker": {
          "colors": [
           "#636efa",
           "#EF553B",
           "#EF553B",
           "#EF553B",
           "#00cc96",
           "#ab63fa",
           "#EF553B",
           "#ab63fa",
           "#00cc96",
           "#636efa",
           "#FFA15A",
           "#636efa",
           "#ab63fa",
           "#00cc96",
           "#ab63fa",
           "#00cc96",
           "#ab63fa",
           "#636efa",
           "#EF553B",
           "#ab63fa",
           "#636efa",
           "#00cc96",
           "#00cc96",
           "#ab63fa",
           "#00cc96",
           "#00cc96",
           "#ab63fa",
           "#ab63fa",
           "#EF553B",
           "#636efa",
           "#00cc96",
           "#00cc96",
           "#00cc96",
           "#EF553B",
           "#EF553B",
           "#00cc96",
           "#636efa",
           "#636efa",
           "#19d3f3",
           "#19d3f3",
           "#EF553B",
           "#EF553B",
           "#EF553B",
           "#EF553B",
           "#00cc96",
           "#ab63fa",
           "#00cc96",
           "#00cc96",
           "#FFA15A",
           "#00cc96",
           "#19d3f3",
           "#19d3f3",
           "#EF553B",
           "#EF553B",
           "#EF553B",
           "#00cc96",
           "#636efa",
           "#ab63fa",
           "#FFA15A",
           "#00cc96",
           "#00cc96",
           "#00cc96",
           "#636efa",
           "#636efa",
           "#ab63fa",
           "#ab63fa",
           "#ab63fa",
           "#00cc96",
           "#00cc96",
           "#636efa",
           "#636efa",
           "#19d3f3",
           "#19d3f3",
           "#ab63fa",
           "#ab63fa",
           "#ab63fa",
           "#EF553B",
           "#EF553B",
           "#EF553B",
           "#FFA15A",
           "#FF6692",
           "#FF6692",
           "#FF6692"
          ]
         },
         "name": "",
         "parents": [
          "MAT/Fluxo/Termoformadora",
          "MAT/Parada Programada/Linha/Parada Planejada",
          "VES/Parada Programada/Linha/Parada Planejada",
          "NOT/Parada Programada/Linha/Parada Planejada",
          "MAT/Ajustes/Armadora de Caixas",
          "VES/Manutenção/Termoformadora",
          "MAT/Parada Programada/Linha/Parada Planejada",
          "VES/Manutenção/Recheadora/Quantidade de Recheio não Conforme",
          "VES/Ajustes/Termoformadora/Troca de Bobina",
          "VES/Fluxo/Termoformadora/Esteira Cheia",
          "MAT/Setup/Recheadora/Troca de Sabor",
          "VES/Fluxo/Termoformadora/Esteira Cheia",
          "VES/Manutenção/Recheadora",
          "MAT/Ajustes/Termoformadora",
          "VES/Manutenção/Recheadora/Alarme constante ou não sai",
          "VES/Ajustes/Termoformadora/Troca de Bobina",
          "NOT/Manutenção/Termoformadora/Bandeja deformada ou manchada",
          "VES/Fluxo/Recheadora/Falta de Pasta",
          "NOT/Parada Programada/Linha/Parada Planejada",
          "NOT/Manutenção/Termoformadora",
          "MAT/Fluxo/Termoformadora/Esteira Cheia",
          "VES/Ajustes/Termoformadora/Abrindo Bandejas",
          "VES/Ajustes/Termoformadora",
          "MAT/Manutenção/Termoformadora",
          "VES/Ajustes/Termoformadora",
          "VES/Ajustes/Robô/Robô Travando",
          "VES/Manutenção/Termoformadora/Bandeja Murcha ou Cheia",
          "MAT/Manutenção/Termoformadora/Bandeja Murcha ou Cheia",
          "MAT/Parada Programada/Linha/Parada para Treinamento",
          "VES/Fluxo/Recheadora/Falta de Pasta",
          "MAT/Ajustes/Armadora de Caixas/Caixa não Selando",
          "VES/Ajustes/Termoformadora/Bobina desenquadrando na vertical",
          "MAT/Ajustes/Termoformadora/Bobina desenquadrando na vertical",
          "VES/Parada Programada/Linha/Parada Planejada",
          "MAT/Parada Programada/Linha/Parada Planejada",
          "VES/Ajustes/Recheadora/Quantidade de Recheio não Conforme",
          "VES/Fluxo/Termoformadora",
          "VES/Fluxo/Recheadora",
          "MAT/Limpeza/Linha",
          "VES/Limpeza/Linha",
          "MAT/Parada Programada/Linha",
          "NOT/Parada Programada/Linha",
          "VES/Parada Programada/Linha",
          "MAT/Parada Programada/Linha",
          "VES/Ajustes/Recheadora",
          "VES/Manutenção/Recheadora",
          "VES/Ajustes/Robô",
          "VES/Ajustes/Termoformadora",
          "MAT/Setup/Recheadora",
          "MAT/Ajustes",
          "MAT/Limpeza",
          "VES/Limpeza",
          "MAT/Parada Programada",
          "NOT/Parada Programada",
          "VES/Parada Programada",
          "VES/Ajustes",
          "VES/Fluxo",
          "VES/Manutenção",
          "MAT/Setup",
          "VES/Ajustes",
          "MAT/Ajustes",
          "VES/Ajustes",
          "MAT/Fluxo",
          "VES/Fluxo",
          "MAT/Manutenção",
          "NOT/Manutenção",
          "VES/Manutenção",
          "MAT",
          "VES",
          "MAT",
          "VES",
          "MAT",
          "VES",
          "MAT",
          "NOT",
          "VES",
          "MAT",
          "NOT",
          "VES",
          "MAT",
          "",
          "",
          ""
         ],
         "textinfo": "label+percent entry",
         "type": "sunburst",
         "values": [
          68,
          546,
          150,
          252,
          176,
          18,
          82,
          2,
          6,
          2,
          60,
          2,
          6,
          6,
          6,
          2,
          124,
          2,
          480,
          124,
          68,
          2,
          2,
          6,
          40,
          4,
          18,
          6,
          208,
          2,
          176,
          40,
          6,
          22,
          6,
          386,
          4,
          4,
          16,
          2,
          634,
          732,
          172,
          208,
          386,
          2,
          4,
          8,
          60,
          176,
          16,
          2,
          842,
          732,
          172,
          386,
          4,
          8,
          60,
          4,
          6,
          50,
          68,
          4,
          6,
          124,
          18,
          182,
          440,
          68,
          8,
          16,
          2,
          6,
          124,
          26,
          842,
          732,
          172,
          60,
          1174,
          856,
          648
         ]
        }
       ],
       "layout": {
        "height": 600,
        "legend": {
         "tracegroupgap": 0
        },
        "template": {
         "data": {
          "bar": [
           {
            "error_x": {
             "color": "#2a3f5f"
            },
            "error_y": {
             "color": "#2a3f5f"
            },
            "marker": {
             "line": {
              "color": "#E5ECF6",
              "width": 0.5
             },
             "pattern": {
              "fillmode": "overlay",
              "size": 10,
              "solidity": 0.2
             }
            },
            "type": "bar"
           }
          ],
          "barpolar": [
           {
            "marker": {
             "line": {
              "color": "#E5ECF6",
              "width": 0.5
             },
             "pattern": {
              "fillmode": "overlay",
              "size": 10,
              "solidity": 0.2
             }
            },
            "type": "barpolar"
           }
          ],
          "carpet": [
           {
            "aaxis": {
             "endlinecolor": "#2a3f5f",
             "gridcolor": "white",
             "linecolor": "white",
             "minorgridcolor": "white",
             "startlinecolor": "#2a3f5f"
            },
            "baxis": {
             "endlinecolor": "#2a3f5f",
             "gridcolor": "white",
             "linecolor": "white",
             "minorgridcolor": "white",
             "startlinecolor": "#2a3f5f"
            },
            "type": "carpet"
           }
          ],
          "choropleth": [
           {
            "colorbar": {
             "outlinewidth": 0,
             "ticks": ""
            },
            "type": "choropleth"
           }
          ],
          "contour": [
           {
            "colorbar": {
             "outlinewidth": 0,
             "ticks": ""
            },
            "colorscale": [
             [
              0,
              "#0d0887"
             ],
             [
              0.1111111111111111,
              "#46039f"
             ],
             [
              0.2222222222222222,
              "#7201a8"
             ],
             [
              0.3333333333333333,
              "#9c179e"
             ],
             [
              0.4444444444444444,
              "#bd3786"
             ],
             [
              0.5555555555555556,
              "#d8576b"
             ],
             [
              0.6666666666666666,
              "#ed7953"
             ],
             [
              0.7777777777777778,
              "#fb9f3a"
             ],
             [
              0.8888888888888888,
              "#fdca26"
             ],
             [
              1,
              "#f0f921"
             ]
            ],
            "type": "contour"
           }
          ],
          "contourcarpet": [
           {
            "colorbar": {
             "outlinewidth": 0,
             "ticks": ""
            },
            "type": "contourcarpet"
           }
          ],
          "heatmap": [
           {
            "colorbar": {
             "outlinewidth": 0,
             "ticks": ""
            },
            "colorscale": [
             [
              0,
              "#0d0887"
             ],
             [
              0.1111111111111111,
              "#46039f"
             ],
             [
              0.2222222222222222,
              "#7201a8"
             ],
             [
              0.3333333333333333,
              "#9c179e"
             ],
             [
              0.4444444444444444,
              "#bd3786"
             ],
             [
              0.5555555555555556,
              "#d8576b"
             ],
             [
              0.6666666666666666,
              "#ed7953"
             ],
             [
              0.7777777777777778,
              "#fb9f3a"
             ],
             [
              0.8888888888888888,
              "#fdca26"
             ],
             [
              1,
              "#f0f921"
             ]
            ],
            "type": "heatmap"
           }
          ],
          "heatmapgl": [
           {
            "colorbar": {
             "outlinewidth": 0,
             "ticks": ""
            },
            "colorscale": [
             [
              0,
              "#0d0887"
             ],
             [
              0.1111111111111111,
              "#46039f"
             ],
             [
              0.2222222222222222,
              "#7201a8"
             ],
             [
              0.3333333333333333,
              "#9c179e"
             ],
             [
              0.4444444444444444,
              "#bd3786"
             ],
             [
              0.5555555555555556,
              "#d8576b"
             ],
             [
              0.6666666666666666,
              "#ed7953"
             ],
             [
              0.7777777777777778,
              "#fb9f3a"
             ],
             [
              0.8888888888888888,
              "#fdca26"
             ],
             [
              1,
              "#f0f921"
             ]
            ],
            "type": "heatmapgl"
           }
          ],
          "histogram": [
           {
            "marker": {
             "pattern": {
              "fillmode": "overlay",
              "size": 10,
              "solidity": 0.2
             }
            },
            "type": "histogram"
           }
          ],
          "histogram2d": [
           {
            "colorbar": {
             "outlinewidth": 0,
             "ticks": ""
            },
            "colorscale": [
             [
              0,
              "#0d0887"
             ],
             [
              0.1111111111111111,
              "#46039f"
             ],
             [
              0.2222222222222222,
              "#7201a8"
             ],
             [
              0.3333333333333333,
              "#9c179e"
             ],
             [
              0.4444444444444444,
              "#bd3786"
             ],
             [
              0.5555555555555556,
              "#d8576b"
             ],
             [
              0.6666666666666666,
              "#ed7953"
             ],
             [
              0.7777777777777778,
              "#fb9f3a"
             ],
             [
              0.8888888888888888,
              "#fdca26"
             ],
             [
              1,
              "#f0f921"
             ]
            ],
            "type": "histogram2d"
           }
          ],
          "histogram2dcontour": [
           {
            "colorbar": {
             "outlinewidth": 0,
             "ticks": ""
            },
            "colorscale": [
             [
              0,
              "#0d0887"
             ],
             [
              0.1111111111111111,
              "#46039f"
             ],
             [
              0.2222222222222222,
              "#7201a8"
             ],
             [
              0.3333333333333333,
              "#9c179e"
             ],
             [
              0.4444444444444444,
              "#bd3786"
             ],
             [
              0.5555555555555556,
              "#d8576b"
             ],
             [
              0.6666666666666666,
              "#ed7953"
             ],
             [
              0.7777777777777778,
              "#fb9f3a"
             ],
             [
              0.8888888888888888,
              "#fdca26"
             ],
             [
              1,
              "#f0f921"
             ]
            ],
            "type": "histogram2dcontour"
           }
          ],
          "mesh3d": [
           {
            "colorbar": {
             "outlinewidth": 0,
             "ticks": ""
            },
            "type": "mesh3d"
           }
          ],
          "parcoords": [
           {
            "line": {
             "colorbar": {
              "outlinewidth": 0,
              "ticks": ""
             }
            },
            "type": "parcoords"
           }
          ],
          "pie": [
           {
            "automargin": true,
            "type": "pie"
           }
          ],
          "scatter": [
           {
            "fillpattern": {
             "fillmode": "overlay",
             "size": 10,
             "solidity": 0.2
            },
            "type": "scatter"
           }
          ],
          "scatter3d": [
           {
            "line": {
             "colorbar": {
              "outlinewidth": 0,
              "ticks": ""
             }
            },
            "marker": {
             "colorbar": {
              "outlinewidth": 0,
              "ticks": ""
             }
            },
            "type": "scatter3d"
           }
          ],
          "scattercarpet": [
           {
            "marker": {
             "colorbar": {
              "outlinewidth": 0,
              "ticks": ""
             }
            },
            "type": "scattercarpet"
           }
          ],
          "scattergeo": [
           {
            "marker": {
             "colorbar": {
              "outlinewidth": 0,
              "ticks": ""
             }
            },
            "type": "scattergeo"
           }
          ],
          "scattergl": [
           {
            "marker": {
             "colorbar": {
              "outlinewidth": 0,
              "ticks": ""
             }
            },
            "type": "scattergl"
           }
          ],
          "scattermapbox": [
           {
            "marker": {
             "colorbar": {
              "outlinewidth": 0,
              "ticks": ""
             }
            },
            "type": "scattermapbox"
           }
          ],
          "scatterpolar": [
           {
            "marker": {
             "colorbar": {
              "outlinewidth": 0,
              "ticks": ""
             }
            },
            "type": "scatterpolar"
           }
          ],
          "scatterpolargl": [
           {
            "marker": {
             "colorbar": {
              "outlinewidth": 0,
              "ticks": ""
             }
            },
            "type": "scatterpolargl"
           }
          ],
          "scatterternary": [
           {
            "marker": {
             "colorbar": {
              "outlinewidth": 0,
              "ticks": ""
             }
            },
            "type": "scatterternary"
           }
          ],
          "surface": [
           {
            "colorbar": {
             "outlinewidth": 0,
             "ticks": ""
            },
            "colorscale": [
             [
              0,
              "#0d0887"
             ],
             [
              0.1111111111111111,
              "#46039f"
             ],
             [
              0.2222222222222222,
              "#7201a8"
             ],
             [
              0.3333333333333333,
              "#9c179e"
             ],
             [
              0.4444444444444444,
              "#bd3786"
             ],
             [
              0.5555555555555556,
              "#d8576b"
             ],
             [
              0.6666666666666666,
              "#ed7953"
             ],
             [
              0.7777777777777778,
              "#fb9f3a"
             ],
             [
              0.8888888888888888,
              "#fdca26"
             ],
             [
              1,
              "#f0f921"
             ]
            ],
            "type": "surface"
           }
          ],
          "table": [
           {
            "cells": {
             "fill": {
              "color": "#EBF0F8"
             },
             "line": {
              "color": "white"
             }
            },
            "header": {
             "fill": {
              "color": "#C8D4E3"
             },
             "line": {
              "color": "white"
             }
            },
            "type": "table"
           }
          ]
         },
         "layout": {
          "annotationdefaults": {
           "arrowcolor": "#2a3f5f",
           "arrowhead": 0,
           "arrowwidth": 1
          },
          "autotypenumbers": "strict",
          "coloraxis": {
           "colorbar": {
            "outlinewidth": 0,
            "ticks": ""
           }
          },
          "colorscale": {
           "diverging": [
            [
             0,
             "#8e0152"
            ],
            [
             0.1,
             "#c51b7d"
            ],
            [
             0.2,
             "#de77ae"
            ],
            [
             0.3,
             "#f1b6da"
            ],
            [
             0.4,
             "#fde0ef"
            ],
            [
             0.5,
             "#f7f7f7"
            ],
            [
             0.6,
             "#e6f5d0"
            ],
            [
             0.7,
             "#b8e186"
            ],
            [
             0.8,
             "#7fbc41"
            ],
            [
             0.9,
             "#4d9221"
            ],
            [
             1,
             "#276419"
            ]
           ],
           "sequential": [
            [
             0,
             "#0d0887"
            ],
            [
             0.1111111111111111,
             "#46039f"
            ],
            [
             0.2222222222222222,
             "#7201a8"
            ],
            [
             0.3333333333333333,
             "#9c179e"
            ],
            [
             0.4444444444444444,
             "#bd3786"
            ],
            [
             0.5555555555555556,
             "#d8576b"
            ],
            [
             0.6666666666666666,
             "#ed7953"
            ],
            [
             0.7777777777777778,
             "#fb9f3a"
            ],
            [
             0.8888888888888888,
             "#fdca26"
            ],
            [
             1,
             "#f0f921"
            ]
           ],
           "sequentialminus": [
            [
             0,
             "#0d0887"
            ],
            [
             0.1111111111111111,
             "#46039f"
            ],
            [
             0.2222222222222222,
             "#7201a8"
            ],
            [
             0.3333333333333333,
             "#9c179e"
            ],
            [
             0.4444444444444444,
             "#bd3786"
            ],
            [
             0.5555555555555556,
             "#d8576b"
            ],
            [
             0.6666666666666666,
             "#ed7953"
            ],
            [
             0.7777777777777778,
             "#fb9f3a"
            ],
            [
             0.8888888888888888,
             "#fdca26"
            ],
            [
             1,
             "#f0f921"
            ]
           ]
          },
          "colorway": [
           "#636efa",
           "#EF553B",
           "#00cc96",
           "#ab63fa",
           "#FFA15A",
           "#19d3f3",
           "#FF6692",
           "#B6E880",
           "#FF97FF",
           "#FECB52"
          ],
          "font": {
           "color": "#2a3f5f"
          },
          "geo": {
           "bgcolor": "white",
           "lakecolor": "white",
           "landcolor": "#E5ECF6",
           "showlakes": true,
           "showland": true,
           "subunitcolor": "white"
          },
          "hoverlabel": {
           "align": "left"
          },
          "hovermode": "closest",
          "mapbox": {
           "style": "light"
          },
          "paper_bgcolor": "white",
          "plot_bgcolor": "#E5ECF6",
          "polar": {
           "angularaxis": {
            "gridcolor": "white",
            "linecolor": "white",
            "ticks": ""
           },
           "bgcolor": "#E5ECF6",
           "radialaxis": {
            "gridcolor": "white",
            "linecolor": "white",
            "ticks": ""
           }
          },
          "scene": {
           "xaxis": {
            "backgroundcolor": "#E5ECF6",
            "gridcolor": "white",
            "gridwidth": 2,
            "linecolor": "white",
            "showbackground": true,
            "ticks": "",
            "zerolinecolor": "white"
           },
           "yaxis": {
            "backgroundcolor": "#E5ECF6",
            "gridcolor": "white",
            "gridwidth": 2,
            "linecolor": "white",
            "showbackground": true,
            "ticks": "",
            "zerolinecolor": "white"
           },
           "zaxis": {
            "backgroundcolor": "#E5ECF6",
            "gridcolor": "white",
            "gridwidth": 2,
            "linecolor": "white",
            "showbackground": true,
            "ticks": "",
            "zerolinecolor": "white"
           }
          },
          "shapedefaults": {
           "line": {
            "color": "#2a3f5f"
           }
          },
          "ternary": {
           "aaxis": {
            "gridcolor": "white",
            "linecolor": "white",
            "ticks": ""
           },
           "baxis": {
            "gridcolor": "white",
            "linecolor": "white",
            "ticks": ""
           },
           "bgcolor": "#E5ECF6",
           "caxis": {
            "gridcolor": "white",
            "linecolor": "white",
            "ticks": ""
           }
          },
          "title": {
           "x": 0.05
          },
          "xaxis": {
           "automargin": true,
           "gridcolor": "white",
           "linecolor": "white",
           "ticks": "",
           "title": {
            "standoff": 15
           },
           "zerolinecolor": "white",
           "zerolinewidth": 2
          },
          "yaxis": {
           "automargin": true,
           "gridcolor": "white",
           "linecolor": "white",
           "ticks": "",
           "title": {
            "standoff": 15
           },
           "zerolinecolor": "white",
           "zerolinewidth": 2
          }
         }
        },
        "title": {
         "text": "Detalhes de Tempo"
        }
       }
      }
     },
     "metadata": {},
     "output_type": "display_data"
    }
   ],
   "source": [
    "sunburst_test_fig = sunburst_test.create_sunburst_details(\n",
    "    df_maq_stopped.copy(), IndicatorType.EFFICIENCY\n",
    ")\n",
    "sunburst_test_fig"
   ]
  },
  {
   "cell_type": "code",
   "execution_count": 67,
   "metadata": {},
   "outputs": [
    {
     "data": {
      "application/vnd.plotly.v1+json": {
       "config": {
        "plotlyServerURL": "https://plot.ly"
       },
       "data": [
        {
         "branchvalues": "total",
         "customdata": [
          [
           "Fluxo"
          ],
          [
           "Parada Programada"
          ],
          [
           "Parada Programada"
          ],
          [
           "Parada Programada"
          ],
          [
           "Ajustes"
          ],
          [
           "Manutenção"
          ],
          [
           "Parada Programada"
          ],
          [
           "Manutenção"
          ],
          [
           "Ajustes"
          ],
          [
           "Fluxo"
          ],
          [
           "Setup"
          ],
          [
           "Fluxo"
          ],
          [
           "Manutenção"
          ],
          [
           "Ajustes"
          ],
          [
           "Manutenção"
          ],
          [
           "Ajustes"
          ],
          [
           "Manutenção"
          ],
          [
           "Fluxo"
          ],
          [
           "Parada Programada"
          ],
          [
           "Manutenção"
          ],
          [
           "Fluxo"
          ],
          [
           "Ajustes"
          ],
          [
           "Ajustes"
          ],
          [
           "Manutenção"
          ],
          [
           "Ajustes"
          ],
          [
           "Ajustes"
          ],
          [
           "Manutenção"
          ],
          [
           "Manutenção"
          ],
          [
           "Parada Programada"
          ],
          [
           "Fluxo"
          ],
          [
           "Ajustes"
          ],
          [
           "Ajustes"
          ],
          [
           "Ajustes"
          ],
          [
           "Parada Programada"
          ],
          [
           "Parada Programada"
          ],
          [
           "Ajustes"
          ],
          [
           "Fluxo"
          ],
          [
           "Fluxo"
          ],
          [
           "Limpeza"
          ],
          [
           "Limpeza"
          ],
          [
           "Parada Programada"
          ],
          [
           "Parada Programada"
          ],
          [
           "Parada Programada"
          ],
          [
           "Parada Programada"
          ],
          [
           "Ajustes"
          ],
          [
           "Manutenção"
          ],
          [
           "Ajustes"
          ],
          [
           "Ajustes"
          ],
          [
           "Setup"
          ],
          [
           "Ajustes"
          ],
          [
           "Limpeza"
          ],
          [
           "Limpeza"
          ],
          [
           "Parada Programada"
          ],
          [
           "Parada Programada"
          ],
          [
           "Parada Programada"
          ],
          [
           "Ajustes"
          ],
          [
           "Fluxo"
          ],
          [
           "Manutenção"
          ],
          [
           "Setup"
          ],
          [
           "Ajustes"
          ],
          [
           "Ajustes"
          ],
          [
           "Ajustes"
          ],
          [
           "Fluxo"
          ],
          [
           "Fluxo"
          ],
          [
           "Manutenção"
          ],
          [
           "Manutenção"
          ],
          [
           "Manutenção"
          ],
          [
           "Ajustes"
          ],
          [
           "Ajustes"
          ],
          [
           "Fluxo"
          ],
          [
           "Fluxo"
          ],
          [
           "Limpeza"
          ],
          [
           "Limpeza"
          ],
          [
           "Manutenção"
          ],
          [
           "Manutenção"
          ],
          [
           "Manutenção"
          ],
          [
           "Parada Programada"
          ],
          [
           "Parada Programada"
          ],
          [
           "Parada Programada"
          ],
          [
           "Setup"
          ],
          [
           "(?)"
          ],
          [
           "(?)"
          ],
          [
           "(?)"
          ],
          [
           "(?)"
          ]
         ],
         "domain": {
          "x": [
           0,
           1
          ],
          "y": [
           0,
           1
          ]
         },
         "hovertemplate": "labels=%{label}<br>tempo=%{value}<br>parent=%{parent}<br>id=%{id}<br>motivo=%{customdata[0]}<extra></extra>",
         "ids": [
          "Maquina ID/MAT/Fluxo/Termoformadora/Esteira Cheia",
          "Maquina ID/MAT/Parada Programada/Linha/Parada Planejada/Sem Produção",
          "Maquina ID/VES/Parada Programada/Linha/Parada Planejada/Refeição",
          "Maquina ID/NOT/Parada Programada/Linha/Parada Planejada/Refeição",
          "Maquina ID/MAT/Ajustes/Armadora de Caixas/Caixa não Selando",
          "Maquina ID/VES/Manutenção/Termoformadora/Bandeja Murcha ou Cheia",
          "Maquina ID/MAT/Parada Programada/Linha/Parada Planejada/Café e Ginástica Laboral",
          "Maquina ID/VES/Manutenção/Recheadora/Quantidade de Recheio não Conforme/Falha na bomba de estator",
          "Maquina ID/VES/Ajustes/Termoformadora/Troca de Bobina/Troca de Bobina Superior",
          "Maquina ID/VES/Fluxo/Termoformadora/Esteira Cheia/Robô parado",
          "Maquina ID/MAT/Setup/Recheadora/Troca de Sabor/Troca para sabor Picante",
          "Maquina ID/VES/Fluxo/Termoformadora/Esteira Cheia/Problema com montagem de caixas",
          "Maquina ID/VES/Manutenção/Recheadora/Alarme constante ou não sai",
          "Maquina ID/MAT/Ajustes/Termoformadora/Bobina desenquadrando na vertical",
          "Maquina ID/VES/Manutenção/Recheadora/Alarme constante ou não sai/Alarme de falha na bomba de dosagem",
          "Maquina ID/VES/Ajustes/Termoformadora/Troca de Bobina/Troca de Bobina Inferior",
          "Maquina ID/NOT/Manutenção/Termoformadora/Bandeja deformada ou manchada/Realizar análise de falha",
          "Maquina ID/VES/Fluxo/Recheadora/Falta de Pasta/Reator quebrado",
          "Maquina ID/NOT/Parada Programada/Linha/Parada Planejada/Backup",
          "Maquina ID/NOT/Manutenção/Termoformadora/Bandeja deformada ou manchada",
          "Maquina ID/MAT/Fluxo/Termoformadora/Esteira Cheia/Robô parado",
          "Maquina ID/VES/Ajustes/Termoformadora/Abrindo Bandejas/Limpeza de Placa",
          "Maquina ID/VES/Ajustes/Termoformadora/Abrindo Bandejas",
          "Maquina ID/MAT/Manutenção/Termoformadora/Bandeja Murcha ou Cheia",
          "Maquina ID/VES/Ajustes/Termoformadora/Bobina desenquadrando na vertical",
          "Maquina ID/VES/Ajustes/Robô/Robô Travando/Ajuste das Guias das Bandejas",
          "Maquina ID/VES/Manutenção/Termoformadora/Bandeja Murcha ou Cheia/Realizar análise de falha",
          "Maquina ID/MAT/Manutenção/Termoformadora/Bandeja Murcha ou Cheia/Realizar análise de falha",
          "Maquina ID/MAT/Parada Programada/Linha/Parada para Treinamento/Kaizen",
          "Maquina ID/VES/Fluxo/Recheadora/Falta de Pasta/Bomba com problemas",
          "Maquina ID/MAT/Ajustes/Armadora de Caixas/Caixa não Selando/Ajuste na Dimensão da Caixa",
          "Maquina ID/VES/Ajustes/Termoformadora/Bobina desenquadrando na vertical/Ajuste de Freio",
          "Maquina ID/MAT/Ajustes/Termoformadora/Bobina desenquadrando na vertical/Ajuste de Fotocélula",
          "Maquina ID/VES/Parada Programada/Linha/Parada Planejada/Sem Produção",
          "Maquina ID/MAT/Parada Programada/Linha/Parada Planejada/Refeição",
          "Maquina ID/VES/Ajustes/Recheadora/Quantidade de Recheio não Conforme/Bico entupido",
          "Maquina ID/VES/Fluxo/Termoformadora/Esteira Cheia",
          "Maquina ID/VES/Fluxo/Recheadora/Falta de Pasta",
          "Maquina ID/MAT/Limpeza/Linha/Limpeza para parada de Fábrica",
          "Maquina ID/VES/Limpeza/Linha/Limpeza para parada de Fábrica",
          "Maquina ID/MAT/Parada Programada/Linha/Parada Planejada",
          "Maquina ID/NOT/Parada Programada/Linha/Parada Planejada",
          "Maquina ID/VES/Parada Programada/Linha/Parada Planejada",
          "Maquina ID/MAT/Parada Programada/Linha/Parada para Treinamento",
          "Maquina ID/VES/Ajustes/Recheadora/Quantidade de Recheio não Conforme",
          "Maquina ID/VES/Manutenção/Recheadora/Quantidade de Recheio não Conforme",
          "Maquina ID/VES/Ajustes/Robô/Robô Travando",
          "Maquina ID/VES/Ajustes/Termoformadora/Troca de Bobina",
          "Maquina ID/MAT/Setup/Recheadora/Troca de Sabor",
          "Maquina ID/MAT/Ajustes/Armadora de Caixas",
          "Maquina ID/MAT/Limpeza/Linha",
          "Maquina ID/VES/Limpeza/Linha",
          "Maquina ID/MAT/Parada Programada/Linha",
          "Maquina ID/NOT/Parada Programada/Linha",
          "Maquina ID/VES/Parada Programada/Linha",
          "Maquina ID/VES/Ajustes/Recheadora",
          "Maquina ID/VES/Fluxo/Recheadora",
          "Maquina ID/VES/Manutenção/Recheadora",
          "Maquina ID/MAT/Setup/Recheadora",
          "Maquina ID/VES/Ajustes/Robô",
          "Maquina ID/MAT/Ajustes/Termoformadora",
          "Maquina ID/VES/Ajustes/Termoformadora",
          "Maquina ID/MAT/Fluxo/Termoformadora",
          "Maquina ID/VES/Fluxo/Termoformadora",
          "Maquina ID/MAT/Manutenção/Termoformadora",
          "Maquina ID/NOT/Manutenção/Termoformadora",
          "Maquina ID/VES/Manutenção/Termoformadora",
          "Maquina ID/MAT/Ajustes",
          "Maquina ID/VES/Ajustes",
          "Maquina ID/MAT/Fluxo",
          "Maquina ID/VES/Fluxo",
          "Maquina ID/MAT/Limpeza",
          "Maquina ID/VES/Limpeza",
          "Maquina ID/MAT/Manutenção",
          "Maquina ID/NOT/Manutenção",
          "Maquina ID/VES/Manutenção",
          "Maquina ID/MAT/Parada Programada",
          "Maquina ID/NOT/Parada Programada",
          "Maquina ID/VES/Parada Programada",
          "Maquina ID/MAT/Setup",
          "Maquina ID/MAT",
          "Maquina ID/NOT",
          "Maquina ID/VES",
          "Maquina ID"
         ],
         "labels": [
          "Esteira Cheia",
          "Sem Produção",
          "Refeição",
          "Refeição",
          "Caixa não Selando",
          "Bandeja Murcha ou Cheia",
          "Café e Ginástica Laboral",
          "Falha na bomba de estator",
          "Troca de Bobina Superior",
          "Robô parado",
          "Troca para sabor Picante",
          "Problema com montagem de caixas",
          "Alarme constante ou não sai",
          "Bobina desenquadrando na vertical",
          "Alarme de falha na bomba de dosagem",
          "Troca de Bobina Inferior",
          "Realizar análise de falha",
          "Reator quebrado",
          "Backup",
          "Bandeja deformada ou manchada",
          "Robô parado",
          "Limpeza de Placa",
          "Abrindo Bandejas",
          "Bandeja Murcha ou Cheia",
          "Bobina desenquadrando na vertical",
          "Ajuste das Guias das Bandejas",
          "Realizar análise de falha",
          "Realizar análise de falha",
          "Kaizen",
          "Bomba com problemas",
          "Ajuste na Dimensão da Caixa",
          "Ajuste de Freio",
          "Ajuste de Fotocélula",
          "Sem Produção",
          "Refeição",
          "Bico entupido",
          "Esteira Cheia",
          "Falta de Pasta",
          "Limpeza para parada de Fábrica",
          "Limpeza para parada de Fábrica",
          "Parada Planejada",
          "Parada Planejada",
          "Parada Planejada",
          "Parada para Treinamento",
          "Quantidade de Recheio não Conforme",
          "Quantidade de Recheio não Conforme",
          "Robô Travando",
          "Troca de Bobina",
          "Troca de Sabor",
          "Armadora de Caixas",
          "Linha",
          "Linha",
          "Linha",
          "Linha",
          "Linha",
          "Recheadora",
          "Recheadora",
          "Recheadora",
          "Recheadora",
          "Robô",
          "Termoformadora",
          "Termoformadora",
          "Termoformadora",
          "Termoformadora",
          "Termoformadora",
          "Termoformadora",
          "Termoformadora",
          "Ajustes",
          "Ajustes",
          "Fluxo",
          "Fluxo",
          "Limpeza",
          "Limpeza",
          "Manutenção",
          "Manutenção",
          "Manutenção",
          "Parada Programada",
          "Parada Programada",
          "Parada Programada",
          "Setup",
          "MAT",
          "NOT",
          "VES",
          "Maquina ID"
         ],
         "marker": {
          "colors": [
           "#636efa",
           "#EF553B",
           "#EF553B",
           "#EF553B",
           "#00cc96",
           "#ab63fa",
           "#EF553B",
           "#ab63fa",
           "#00cc96",
           "#636efa",
           "#FFA15A",
           "#636efa",
           "#ab63fa",
           "#00cc96",
           "#ab63fa",
           "#00cc96",
           "#ab63fa",
           "#636efa",
           "#EF553B",
           "#ab63fa",
           "#636efa",
           "#00cc96",
           "#00cc96",
           "#ab63fa",
           "#00cc96",
           "#00cc96",
           "#ab63fa",
           "#ab63fa",
           "#EF553B",
           "#636efa",
           "#00cc96",
           "#00cc96",
           "#00cc96",
           "#EF553B",
           "#EF553B",
           "#00cc96",
           "#636efa",
           "#636efa",
           "#19d3f3",
           "#19d3f3",
           "#EF553B",
           "#EF553B",
           "#EF553B",
           "#EF553B",
           "#00cc96",
           "#ab63fa",
           "#00cc96",
           "#00cc96",
           "#FFA15A",
           "#00cc96",
           "#19d3f3",
           "#19d3f3",
           "#EF553B",
           "#EF553B",
           "#EF553B",
           "#00cc96",
           "#636efa",
           "#ab63fa",
           "#FFA15A",
           "#00cc96",
           "#00cc96",
           "#00cc96",
           "#636efa",
           "#636efa",
           "#ab63fa",
           "#ab63fa",
           "#ab63fa",
           "#00cc96",
           "#00cc96",
           "#636efa",
           "#636efa",
           "#19d3f3",
           "#19d3f3",
           "#ab63fa",
           "#ab63fa",
           "#ab63fa",
           "#EF553B",
           "#EF553B",
           "#EF553B",
           "#FFA15A",
           "#FF6692",
           "#FF6692",
           "#FF6692",
           "#FF6692"
          ]
         },
         "name": "",
         "parents": [
          "Maquina ID/MAT/Fluxo/Termoformadora",
          "Maquina ID/MAT/Parada Programada/Linha/Parada Planejada",
          "Maquina ID/VES/Parada Programada/Linha/Parada Planejada",
          "Maquina ID/NOT/Parada Programada/Linha/Parada Planejada",
          "Maquina ID/MAT/Ajustes/Armadora de Caixas",
          "Maquina ID/VES/Manutenção/Termoformadora",
          "Maquina ID/MAT/Parada Programada/Linha/Parada Planejada",
          "Maquina ID/VES/Manutenção/Recheadora/Quantidade de Recheio não Conforme",
          "Maquina ID/VES/Ajustes/Termoformadora/Troca de Bobina",
          "Maquina ID/VES/Fluxo/Termoformadora/Esteira Cheia",
          "Maquina ID/MAT/Setup/Recheadora/Troca de Sabor",
          "Maquina ID/VES/Fluxo/Termoformadora/Esteira Cheia",
          "Maquina ID/VES/Manutenção/Recheadora",
          "Maquina ID/MAT/Ajustes/Termoformadora",
          "Maquina ID/VES/Manutenção/Recheadora/Alarme constante ou não sai",
          "Maquina ID/VES/Ajustes/Termoformadora/Troca de Bobina",
          "Maquina ID/NOT/Manutenção/Termoformadora/Bandeja deformada ou manchada",
          "Maquina ID/VES/Fluxo/Recheadora/Falta de Pasta",
          "Maquina ID/NOT/Parada Programada/Linha/Parada Planejada",
          "Maquina ID/NOT/Manutenção/Termoformadora",
          "Maquina ID/MAT/Fluxo/Termoformadora/Esteira Cheia",
          "Maquina ID/VES/Ajustes/Termoformadora/Abrindo Bandejas",
          "Maquina ID/VES/Ajustes/Termoformadora",
          "Maquina ID/MAT/Manutenção/Termoformadora",
          "Maquina ID/VES/Ajustes/Termoformadora",
          "Maquina ID/VES/Ajustes/Robô/Robô Travando",
          "Maquina ID/VES/Manutenção/Termoformadora/Bandeja Murcha ou Cheia",
          "Maquina ID/MAT/Manutenção/Termoformadora/Bandeja Murcha ou Cheia",
          "Maquina ID/MAT/Parada Programada/Linha/Parada para Treinamento",
          "Maquina ID/VES/Fluxo/Recheadora/Falta de Pasta",
          "Maquina ID/MAT/Ajustes/Armadora de Caixas/Caixa não Selando",
          "Maquina ID/VES/Ajustes/Termoformadora/Bobina desenquadrando na vertical",
          "Maquina ID/MAT/Ajustes/Termoformadora/Bobina desenquadrando na vertical",
          "Maquina ID/VES/Parada Programada/Linha/Parada Planejada",
          "Maquina ID/MAT/Parada Programada/Linha/Parada Planejada",
          "Maquina ID/VES/Ajustes/Recheadora/Quantidade de Recheio não Conforme",
          "Maquina ID/VES/Fluxo/Termoformadora",
          "Maquina ID/VES/Fluxo/Recheadora",
          "Maquina ID/MAT/Limpeza/Linha",
          "Maquina ID/VES/Limpeza/Linha",
          "Maquina ID/MAT/Parada Programada/Linha",
          "Maquina ID/NOT/Parada Programada/Linha",
          "Maquina ID/VES/Parada Programada/Linha",
          "Maquina ID/MAT/Parada Programada/Linha",
          "Maquina ID/VES/Ajustes/Recheadora",
          "Maquina ID/VES/Manutenção/Recheadora",
          "Maquina ID/VES/Ajustes/Robô",
          "Maquina ID/VES/Ajustes/Termoformadora",
          "Maquina ID/MAT/Setup/Recheadora",
          "Maquina ID/MAT/Ajustes",
          "Maquina ID/MAT/Limpeza",
          "Maquina ID/VES/Limpeza",
          "Maquina ID/MAT/Parada Programada",
          "Maquina ID/NOT/Parada Programada",
          "Maquina ID/VES/Parada Programada",
          "Maquina ID/VES/Ajustes",
          "Maquina ID/VES/Fluxo",
          "Maquina ID/VES/Manutenção",
          "Maquina ID/MAT/Setup",
          "Maquina ID/VES/Ajustes",
          "Maquina ID/MAT/Ajustes",
          "Maquina ID/VES/Ajustes",
          "Maquina ID/MAT/Fluxo",
          "Maquina ID/VES/Fluxo",
          "Maquina ID/MAT/Manutenção",
          "Maquina ID/NOT/Manutenção",
          "Maquina ID/VES/Manutenção",
          "Maquina ID/MAT",
          "Maquina ID/VES",
          "Maquina ID/MAT",
          "Maquina ID/VES",
          "Maquina ID/MAT",
          "Maquina ID/VES",
          "Maquina ID/MAT",
          "Maquina ID/NOT",
          "Maquina ID/VES",
          "Maquina ID/MAT",
          "Maquina ID/NOT",
          "Maquina ID/VES",
          "Maquina ID/MAT",
          "Maquina ID",
          "Maquina ID",
          "Maquina ID",
          ""
         ],
         "textinfo": "label+percent parent",
         "type": "icicle",
         "values": [
          68,
          546,
          150,
          252,
          176,
          18,
          82,
          2,
          6,
          2,
          60,
          2,
          6,
          6,
          6,
          2,
          124,
          2,
          480,
          124,
          68,
          2,
          2,
          6,
          40,
          4,
          18,
          6,
          208,
          2,
          176,
          40,
          6,
          22,
          6,
          386,
          4,
          4,
          16,
          2,
          634,
          732,
          172,
          208,
          386,
          2,
          4,
          8,
          60,
          176,
          16,
          2,
          842,
          732,
          172,
          386,
          4,
          8,
          60,
          4,
          6,
          50,
          68,
          4,
          6,
          124,
          18,
          182,
          440,
          68,
          8,
          16,
          2,
          6,
          124,
          26,
          842,
          732,
          172,
          60,
          1174,
          856,
          648,
          2678
         ]
        }
       ],
       "layout": {
        "height": 600,
        "legend": {
         "tracegroupgap": 0
        },
        "plot_bgcolor": "RGBA(0,0,0,0.01)",
        "template": {
         "data": {
          "bar": [
           {
            "error_x": {
             "color": "#2a3f5f"
            },
            "error_y": {
             "color": "#2a3f5f"
            },
            "marker": {
             "line": {
              "color": "#E5ECF6",
              "width": 0.5
             },
             "pattern": {
              "fillmode": "overlay",
              "size": 10,
              "solidity": 0.2
             }
            },
            "type": "bar"
           }
          ],
          "barpolar": [
           {
            "marker": {
             "line": {
              "color": "#E5ECF6",
              "width": 0.5
             },
             "pattern": {
              "fillmode": "overlay",
              "size": 10,
              "solidity": 0.2
             }
            },
            "type": "barpolar"
           }
          ],
          "carpet": [
           {
            "aaxis": {
             "endlinecolor": "#2a3f5f",
             "gridcolor": "white",
             "linecolor": "white",
             "minorgridcolor": "white",
             "startlinecolor": "#2a3f5f"
            },
            "baxis": {
             "endlinecolor": "#2a3f5f",
             "gridcolor": "white",
             "linecolor": "white",
             "minorgridcolor": "white",
             "startlinecolor": "#2a3f5f"
            },
            "type": "carpet"
           }
          ],
          "choropleth": [
           {
            "colorbar": {
             "outlinewidth": 0,
             "ticks": ""
            },
            "type": "choropleth"
           }
          ],
          "contour": [
           {
            "colorbar": {
             "outlinewidth": 0,
             "ticks": ""
            },
            "colorscale": [
             [
              0,
              "#0d0887"
             ],
             [
              0.1111111111111111,
              "#46039f"
             ],
             [
              0.2222222222222222,
              "#7201a8"
             ],
             [
              0.3333333333333333,
              "#9c179e"
             ],
             [
              0.4444444444444444,
              "#bd3786"
             ],
             [
              0.5555555555555556,
              "#d8576b"
             ],
             [
              0.6666666666666666,
              "#ed7953"
             ],
             [
              0.7777777777777778,
              "#fb9f3a"
             ],
             [
              0.8888888888888888,
              "#fdca26"
             ],
             [
              1,
              "#f0f921"
             ]
            ],
            "type": "contour"
           }
          ],
          "contourcarpet": [
           {
            "colorbar": {
             "outlinewidth": 0,
             "ticks": ""
            },
            "type": "contourcarpet"
           }
          ],
          "heatmap": [
           {
            "colorbar": {
             "outlinewidth": 0,
             "ticks": ""
            },
            "colorscale": [
             [
              0,
              "#0d0887"
             ],
             [
              0.1111111111111111,
              "#46039f"
             ],
             [
              0.2222222222222222,
              "#7201a8"
             ],
             [
              0.3333333333333333,
              "#9c179e"
             ],
             [
              0.4444444444444444,
              "#bd3786"
             ],
             [
              0.5555555555555556,
              "#d8576b"
             ],
             [
              0.6666666666666666,
              "#ed7953"
             ],
             [
              0.7777777777777778,
              "#fb9f3a"
             ],
             [
              0.8888888888888888,
              "#fdca26"
             ],
             [
              1,
              "#f0f921"
             ]
            ],
            "type": "heatmap"
           }
          ],
          "heatmapgl": [
           {
            "colorbar": {
             "outlinewidth": 0,
             "ticks": ""
            },
            "colorscale": [
             [
              0,
              "#0d0887"
             ],
             [
              0.1111111111111111,
              "#46039f"
             ],
             [
              0.2222222222222222,
              "#7201a8"
             ],
             [
              0.3333333333333333,
              "#9c179e"
             ],
             [
              0.4444444444444444,
              "#bd3786"
             ],
             [
              0.5555555555555556,
              "#d8576b"
             ],
             [
              0.6666666666666666,
              "#ed7953"
             ],
             [
              0.7777777777777778,
              "#fb9f3a"
             ],
             [
              0.8888888888888888,
              "#fdca26"
             ],
             [
              1,
              "#f0f921"
             ]
            ],
            "type": "heatmapgl"
           }
          ],
          "histogram": [
           {
            "marker": {
             "pattern": {
              "fillmode": "overlay",
              "size": 10,
              "solidity": 0.2
             }
            },
            "type": "histogram"
           }
          ],
          "histogram2d": [
           {
            "colorbar": {
             "outlinewidth": 0,
             "ticks": ""
            },
            "colorscale": [
             [
              0,
              "#0d0887"
             ],
             [
              0.1111111111111111,
              "#46039f"
             ],
             [
              0.2222222222222222,
              "#7201a8"
             ],
             [
              0.3333333333333333,
              "#9c179e"
             ],
             [
              0.4444444444444444,
              "#bd3786"
             ],
             [
              0.5555555555555556,
              "#d8576b"
             ],
             [
              0.6666666666666666,
              "#ed7953"
             ],
             [
              0.7777777777777778,
              "#fb9f3a"
             ],
             [
              0.8888888888888888,
              "#fdca26"
             ],
             [
              1,
              "#f0f921"
             ]
            ],
            "type": "histogram2d"
           }
          ],
          "histogram2dcontour": [
           {
            "colorbar": {
             "outlinewidth": 0,
             "ticks": ""
            },
            "colorscale": [
             [
              0,
              "#0d0887"
             ],
             [
              0.1111111111111111,
              "#46039f"
             ],
             [
              0.2222222222222222,
              "#7201a8"
             ],
             [
              0.3333333333333333,
              "#9c179e"
             ],
             [
              0.4444444444444444,
              "#bd3786"
             ],
             [
              0.5555555555555556,
              "#d8576b"
             ],
             [
              0.6666666666666666,
              "#ed7953"
             ],
             [
              0.7777777777777778,
              "#fb9f3a"
             ],
             [
              0.8888888888888888,
              "#fdca26"
             ],
             [
              1,
              "#f0f921"
             ]
            ],
            "type": "histogram2dcontour"
           }
          ],
          "mesh3d": [
           {
            "colorbar": {
             "outlinewidth": 0,
             "ticks": ""
            },
            "type": "mesh3d"
           }
          ],
          "parcoords": [
           {
            "line": {
             "colorbar": {
              "outlinewidth": 0,
              "ticks": ""
             }
            },
            "type": "parcoords"
           }
          ],
          "pie": [
           {
            "automargin": true,
            "type": "pie"
           }
          ],
          "scatter": [
           {
            "fillpattern": {
             "fillmode": "overlay",
             "size": 10,
             "solidity": 0.2
            },
            "type": "scatter"
           }
          ],
          "scatter3d": [
           {
            "line": {
             "colorbar": {
              "outlinewidth": 0,
              "ticks": ""
             }
            },
            "marker": {
             "colorbar": {
              "outlinewidth": 0,
              "ticks": ""
             }
            },
            "type": "scatter3d"
           }
          ],
          "scattercarpet": [
           {
            "marker": {
             "colorbar": {
              "outlinewidth": 0,
              "ticks": ""
             }
            },
            "type": "scattercarpet"
           }
          ],
          "scattergeo": [
           {
            "marker": {
             "colorbar": {
              "outlinewidth": 0,
              "ticks": ""
             }
            },
            "type": "scattergeo"
           }
          ],
          "scattergl": [
           {
            "marker": {
             "colorbar": {
              "outlinewidth": 0,
              "ticks": ""
             }
            },
            "type": "scattergl"
           }
          ],
          "scattermapbox": [
           {
            "marker": {
             "colorbar": {
              "outlinewidth": 0,
              "ticks": ""
             }
            },
            "type": "scattermapbox"
           }
          ],
          "scatterpolar": [
           {
            "marker": {
             "colorbar": {
              "outlinewidth": 0,
              "ticks": ""
             }
            },
            "type": "scatterpolar"
           }
          ],
          "scatterpolargl": [
           {
            "marker": {
             "colorbar": {
              "outlinewidth": 0,
              "ticks": ""
             }
            },
            "type": "scatterpolargl"
           }
          ],
          "scatterternary": [
           {
            "marker": {
             "colorbar": {
              "outlinewidth": 0,
              "ticks": ""
             }
            },
            "type": "scatterternary"
           }
          ],
          "surface": [
           {
            "colorbar": {
             "outlinewidth": 0,
             "ticks": ""
            },
            "colorscale": [
             [
              0,
              "#0d0887"
             ],
             [
              0.1111111111111111,
              "#46039f"
             ],
             [
              0.2222222222222222,
              "#7201a8"
             ],
             [
              0.3333333333333333,
              "#9c179e"
             ],
             [
              0.4444444444444444,
              "#bd3786"
             ],
             [
              0.5555555555555556,
              "#d8576b"
             ],
             [
              0.6666666666666666,
              "#ed7953"
             ],
             [
              0.7777777777777778,
              "#fb9f3a"
             ],
             [
              0.8888888888888888,
              "#fdca26"
             ],
             [
              1,
              "#f0f921"
             ]
            ],
            "type": "surface"
           }
          ],
          "table": [
           {
            "cells": {
             "fill": {
              "color": "#EBF0F8"
             },
             "line": {
              "color": "white"
             }
            },
            "header": {
             "fill": {
              "color": "#C8D4E3"
             },
             "line": {
              "color": "white"
             }
            },
            "type": "table"
           }
          ]
         },
         "layout": {
          "annotationdefaults": {
           "arrowcolor": "#2a3f5f",
           "arrowhead": 0,
           "arrowwidth": 1
          },
          "autotypenumbers": "strict",
          "coloraxis": {
           "colorbar": {
            "outlinewidth": 0,
            "ticks": ""
           }
          },
          "colorscale": {
           "diverging": [
            [
             0,
             "#8e0152"
            ],
            [
             0.1,
             "#c51b7d"
            ],
            [
             0.2,
             "#de77ae"
            ],
            [
             0.3,
             "#f1b6da"
            ],
            [
             0.4,
             "#fde0ef"
            ],
            [
             0.5,
             "#f7f7f7"
            ],
            [
             0.6,
             "#e6f5d0"
            ],
            [
             0.7,
             "#b8e186"
            ],
            [
             0.8,
             "#7fbc41"
            ],
            [
             0.9,
             "#4d9221"
            ],
            [
             1,
             "#276419"
            ]
           ],
           "sequential": [
            [
             0,
             "#0d0887"
            ],
            [
             0.1111111111111111,
             "#46039f"
            ],
            [
             0.2222222222222222,
             "#7201a8"
            ],
            [
             0.3333333333333333,
             "#9c179e"
            ],
            [
             0.4444444444444444,
             "#bd3786"
            ],
            [
             0.5555555555555556,
             "#d8576b"
            ],
            [
             0.6666666666666666,
             "#ed7953"
            ],
            [
             0.7777777777777778,
             "#fb9f3a"
            ],
            [
             0.8888888888888888,
             "#fdca26"
            ],
            [
             1,
             "#f0f921"
            ]
           ],
           "sequentialminus": [
            [
             0,
             "#0d0887"
            ],
            [
             0.1111111111111111,
             "#46039f"
            ],
            [
             0.2222222222222222,
             "#7201a8"
            ],
            [
             0.3333333333333333,
             "#9c179e"
            ],
            [
             0.4444444444444444,
             "#bd3786"
            ],
            [
             0.5555555555555556,
             "#d8576b"
            ],
            [
             0.6666666666666666,
             "#ed7953"
            ],
            [
             0.7777777777777778,
             "#fb9f3a"
            ],
            [
             0.8888888888888888,
             "#fdca26"
            ],
            [
             1,
             "#f0f921"
            ]
           ]
          },
          "colorway": [
           "#636efa",
           "#EF553B",
           "#00cc96",
           "#ab63fa",
           "#FFA15A",
           "#19d3f3",
           "#FF6692",
           "#B6E880",
           "#FF97FF",
           "#FECB52"
          ],
          "font": {
           "color": "#2a3f5f"
          },
          "geo": {
           "bgcolor": "white",
           "lakecolor": "white",
           "landcolor": "#E5ECF6",
           "showlakes": true,
           "showland": true,
           "subunitcolor": "white"
          },
          "hoverlabel": {
           "align": "left"
          },
          "hovermode": "closest",
          "mapbox": {
           "style": "light"
          },
          "paper_bgcolor": "white",
          "plot_bgcolor": "#E5ECF6",
          "polar": {
           "angularaxis": {
            "gridcolor": "white",
            "linecolor": "white",
            "ticks": ""
           },
           "bgcolor": "#E5ECF6",
           "radialaxis": {
            "gridcolor": "white",
            "linecolor": "white",
            "ticks": ""
           }
          },
          "scene": {
           "xaxis": {
            "backgroundcolor": "#E5ECF6",
            "gridcolor": "white",
            "gridwidth": 2,
            "linecolor": "white",
            "showbackground": true,
            "ticks": "",
            "zerolinecolor": "white"
           },
           "yaxis": {
            "backgroundcolor": "#E5ECF6",
            "gridcolor": "white",
            "gridwidth": 2,
            "linecolor": "white",
            "showbackground": true,
            "ticks": "",
            "zerolinecolor": "white"
           },
           "zaxis": {
            "backgroundcolor": "#E5ECF6",
            "gridcolor": "white",
            "gridwidth": 2,
            "linecolor": "white",
            "showbackground": true,
            "ticks": "",
            "zerolinecolor": "white"
           }
          },
          "shapedefaults": {
           "line": {
            "color": "#2a3f5f"
           }
          },
          "ternary": {
           "aaxis": {
            "gridcolor": "white",
            "linecolor": "white",
            "ticks": ""
           },
           "baxis": {
            "gridcolor": "white",
            "linecolor": "white",
            "ticks": ""
           },
           "bgcolor": "#E5ECF6",
           "caxis": {
            "gridcolor": "white",
            "linecolor": "white",
            "ticks": ""
           }
          },
          "title": {
           "x": 0.05
          },
          "xaxis": {
           "automargin": true,
           "gridcolor": "white",
           "linecolor": "white",
           "ticks": "",
           "title": {
            "standoff": 15
           },
           "zerolinecolor": "white",
           "zerolinewidth": 2
          },
          "yaxis": {
           "automargin": true,
           "gridcolor": "white",
           "linecolor": "white",
           "ticks": "",
           "title": {
            "standoff": 15
           },
           "zerolinecolor": "white",
           "zerolinewidth": 2
          }
         }
        },
        "title": {
         "text": "Detalhes de Tempo"
        }
       }
      }
     },
     "metadata": {},
     "output_type": "display_data"
    }
   ],
   "source": [
    "icicle_test_fig = sunburst_test.create_icicle_details(\n",
    "    df_maq_stopped.copy(), IndicatorType.EFFICIENCY\n",
    ")\n",
    "icicle_test_fig"
   ]
  },
  {
   "cell_type": "code",
   "execution_count": 45,
   "metadata": {},
   "outputs": [
    {
     "data": {
      "application/vnd.plotly.v1+json": {
       "config": {
        "plotlyServerURL": "https://plot.ly"
       },
       "data": [
        {
         "branchvalues": "total",
         "customdata": [
          [
           "Fluxo"
          ],
          [
           "Parada Programada"
          ],
          [
           "Parada Programada"
          ],
          [
           "Parada Programada"
          ],
          [
           "Ajustes"
          ],
          [
           "Manutenção"
          ],
          [
           "Parada Programada"
          ],
          [
           "Manutenção"
          ],
          [
           "Ajustes"
          ],
          [
           "Fluxo"
          ],
          [
           "Setup"
          ],
          [
           "Fluxo"
          ],
          [
           "Manutenção"
          ],
          [
           "Ajustes"
          ],
          [
           "Manutenção"
          ],
          [
           "Ajustes"
          ],
          [
           "Manutenção"
          ],
          [
           "Fluxo"
          ],
          [
           "Parada Programada"
          ],
          [
           "Manutenção"
          ],
          [
           "Fluxo"
          ],
          [
           "Ajustes"
          ],
          [
           "Ajustes"
          ],
          [
           "Manutenção"
          ],
          [
           "Ajustes"
          ],
          [
           "Ajustes"
          ],
          [
           "Manutenção"
          ],
          [
           "Manutenção"
          ],
          [
           "Parada Programada"
          ],
          [
           "Fluxo"
          ],
          [
           "Ajustes"
          ],
          [
           "Ajustes"
          ],
          [
           "Ajustes"
          ],
          [
           "Parada Programada"
          ],
          [
           "Parada Programada"
          ],
          [
           "Ajustes"
          ],
          [
           "Fluxo"
          ],
          [
           "Fluxo"
          ],
          [
           "Limpeza"
          ],
          [
           "Limpeza"
          ],
          [
           "Parada Programada"
          ],
          [
           "Parada Programada"
          ],
          [
           "Parada Programada"
          ],
          [
           "Parada Programada"
          ],
          [
           "Ajustes"
          ],
          [
           "Manutenção"
          ],
          [
           "Ajustes"
          ],
          [
           "Ajustes"
          ],
          [
           "Setup"
          ],
          [
           "Limpeza"
          ],
          [
           "Limpeza"
          ],
          [
           "Parada Programada"
          ],
          [
           "Parada Programada"
          ],
          [
           "Parada Programada"
          ],
          [
           "Ajustes"
          ],
          [
           "Ajustes"
          ],
          [
           "Fluxo"
          ],
          [
           "Manutenção"
          ],
          [
           "Setup"
          ],
          [
           "Ajustes"
          ],
          [
           "Ajustes"
          ],
          [
           "Ajustes"
          ],
          [
           "Fluxo"
          ],
          [
           "Fluxo"
          ],
          [
           "Manutenção"
          ],
          [
           "Manutenção"
          ],
          [
           "Manutenção"
          ],
          [
           "Ajustes"
          ],
          [
           "Ajustes"
          ],
          [
           "Fluxo"
          ],
          [
           "Fluxo"
          ],
          [
           "Limpeza"
          ],
          [
           "Limpeza"
          ],
          [
           "Manutenção"
          ],
          [
           "Manutenção"
          ],
          [
           "Manutenção"
          ],
          [
           "Parada Programada"
          ],
          [
           "Parada Programada"
          ],
          [
           "Parada Programada"
          ],
          [
           "Setup"
          ],
          [
           "(?)"
          ],
          [
           "(?)"
          ],
          [
           "(?)"
          ],
          [
           "(?)"
          ]
         ],
         "domain": {
          "x": [
           0,
           1
          ],
          "y": [
           0,
           1
          ]
         },
         "hovertemplate": "labels=%{label}<br>tempo=%{value}<br>parent=%{parent}<br>id=%{id}<br>motivo=%{customdata[0]}<extra></extra>",
         "ids": [
          "Maquina ID/MAT/Fluxo/Termoformadora/Esteira Cheia",
          "Maquina ID/MAT/Parada Programada/ /Parada Planejada/Sem Produção",
          "Maquina ID/VES/Parada Programada/ /Parada Planejada/Refeição",
          "Maquina ID/NOT/Parada Programada/ /Parada Planejada/Refeição",
          "Maquina ID/MAT/Ajustes/Armadora de Caixas/Caixa não Selando",
          "Maquina ID/VES/Manutenção/Termoformadora/Bandeja Murcha ou Cheia",
          "Maquina ID/MAT/Parada Programada/ /Parada Planejada/Café e Ginástica Laboral",
          "Maquina ID/VES/Manutenção/Recheadora/Quantidade de Recheio não Conforme/Falha na bomba de estator",
          "Maquina ID/VES/Ajustes/Termoformadora/Troca de Bobina/Troca de Bobina Superior",
          "Maquina ID/VES/Fluxo/Termoformadora/Esteira Cheia/Robô parado",
          "Maquina ID/MAT/Setup/Recheadora/Troca de Sabor/Troca para sabor Picante",
          "Maquina ID/VES/Fluxo/Termoformadora/Esteira Cheia/Problema com montagem de caixas",
          "Maquina ID/VES/Manutenção/Recheadora/Alarme constante ou não sai",
          "Maquina ID/MAT/Ajustes/Termoformadora/Bobina desenquadrando na vertical",
          "Maquina ID/VES/Manutenção/Recheadora/Alarme constante ou não sai/Alarme de falha na bomba de dosagem",
          "Maquina ID/VES/Ajustes/Termoformadora/Troca de Bobina/Troca de Bobina Inferior",
          "Maquina ID/NOT/Manutenção/Termoformadora/Bandeja deformada ou manchada/Realizar análise de falha",
          "Maquina ID/VES/Fluxo/Recheadora/Falta de Pasta/Reator quebrado",
          "Maquina ID/NOT/Parada Programada/ /Parada Planejada/Backup",
          "Maquina ID/NOT/Manutenção/Termoformadora/Bandeja deformada ou manchada",
          "Maquina ID/MAT/Fluxo/Termoformadora/Esteira Cheia/Robô parado",
          "Maquina ID/VES/Ajustes/Termoformadora/Abrindo Bandejas/Limpeza de Placa",
          "Maquina ID/VES/Ajustes/Termoformadora/Abrindo Bandejas",
          "Maquina ID/MAT/Manutenção/Termoformadora/Bandeja Murcha ou Cheia",
          "Maquina ID/VES/Ajustes/Termoformadora/Bobina desenquadrando na vertical",
          "Maquina ID/VES/Ajustes/Robô/Robô Travando/Ajuste das Guias das Bandejas",
          "Maquina ID/VES/Manutenção/Termoformadora/Bandeja Murcha ou Cheia/Realizar análise de falha",
          "Maquina ID/MAT/Manutenção/Termoformadora/Bandeja Murcha ou Cheia/Realizar análise de falha",
          "Maquina ID/MAT/Parada Programada/ /Parada para Treinamento/Kaizen",
          "Maquina ID/VES/Fluxo/Recheadora/Falta de Pasta/Bomba com problemas",
          "Maquina ID/MAT/Ajustes/Armadora de Caixas/Caixa não Selando/Ajuste na Dimensão da Caixa",
          "Maquina ID/VES/Ajustes/Termoformadora/Bobina desenquadrando na vertical/Ajuste de Freio",
          "Maquina ID/MAT/Ajustes/Termoformadora/Bobina desenquadrando na vertical/Ajuste de Fotocélula",
          "Maquina ID/VES/Parada Programada/ /Parada Planejada/Sem Produção",
          "Maquina ID/MAT/Parada Programada/ /Parada Planejada/Refeição",
          "Maquina ID/VES/Ajustes/Recheadora/Quantidade de Recheio não Conforme/Bico entupido",
          "Maquina ID/VES/Fluxo/Termoformadora/Esteira Cheia",
          "Maquina ID/VES/Fluxo/Recheadora/Falta de Pasta",
          "Maquina ID/MAT/Limpeza/ /Limpeza para parada de Fábrica",
          "Maquina ID/VES/Limpeza/ /Limpeza para parada de Fábrica",
          "Maquina ID/MAT/Parada Programada/ /Parada Planejada",
          "Maquina ID/NOT/Parada Programada/ /Parada Planejada",
          "Maquina ID/VES/Parada Programada/ /Parada Planejada",
          "Maquina ID/MAT/Parada Programada/ /Parada para Treinamento",
          "Maquina ID/VES/Ajustes/Recheadora/Quantidade de Recheio não Conforme",
          "Maquina ID/VES/Manutenção/Recheadora/Quantidade de Recheio não Conforme",
          "Maquina ID/VES/Ajustes/Robô/Robô Travando",
          "Maquina ID/VES/Ajustes/Termoformadora/Troca de Bobina",
          "Maquina ID/MAT/Setup/Recheadora/Troca de Sabor",
          "Maquina ID/MAT/Limpeza/ ",
          "Maquina ID/VES/Limpeza/ ",
          "Maquina ID/MAT/Parada Programada/ ",
          "Maquina ID/NOT/Parada Programada/ ",
          "Maquina ID/VES/Parada Programada/ ",
          "Maquina ID/MAT/Ajustes/Armadora de Caixas",
          "Maquina ID/VES/Ajustes/Recheadora",
          "Maquina ID/VES/Fluxo/Recheadora",
          "Maquina ID/VES/Manutenção/Recheadora",
          "Maquina ID/MAT/Setup/Recheadora",
          "Maquina ID/VES/Ajustes/Robô",
          "Maquina ID/MAT/Ajustes/Termoformadora",
          "Maquina ID/VES/Ajustes/Termoformadora",
          "Maquina ID/MAT/Fluxo/Termoformadora",
          "Maquina ID/VES/Fluxo/Termoformadora",
          "Maquina ID/MAT/Manutenção/Termoformadora",
          "Maquina ID/NOT/Manutenção/Termoformadora",
          "Maquina ID/VES/Manutenção/Termoformadora",
          "Maquina ID/MAT/Ajustes",
          "Maquina ID/VES/Ajustes",
          "Maquina ID/MAT/Fluxo",
          "Maquina ID/VES/Fluxo",
          "Maquina ID/MAT/Limpeza",
          "Maquina ID/VES/Limpeza",
          "Maquina ID/MAT/Manutenção",
          "Maquina ID/NOT/Manutenção",
          "Maquina ID/VES/Manutenção",
          "Maquina ID/MAT/Parada Programada",
          "Maquina ID/NOT/Parada Programada",
          "Maquina ID/VES/Parada Programada",
          "Maquina ID/MAT/Setup",
          "Maquina ID/MAT",
          "Maquina ID/NOT",
          "Maquina ID/VES",
          "Maquina ID"
         ],
         "labels": [
          "Esteira Cheia",
          "Sem Produção",
          "Refeição",
          "Refeição",
          "Caixa não Selando",
          "Bandeja Murcha ou Cheia",
          "Café e Ginástica Laboral",
          "Falha na bomba de estator",
          "Troca de Bobina Superior",
          "Robô parado",
          "Troca para sabor Picante",
          "Problema com montagem de caixas",
          "Alarme constante ou não sai",
          "Bobina desenquadrando na vertical",
          "Alarme de falha na bomba de dosagem",
          "Troca de Bobina Inferior",
          "Realizar análise de falha",
          "Reator quebrado",
          "Backup",
          "Bandeja deformada ou manchada",
          "Robô parado",
          "Limpeza de Placa",
          "Abrindo Bandejas",
          "Bandeja Murcha ou Cheia",
          "Bobina desenquadrando na vertical",
          "Ajuste das Guias das Bandejas",
          "Realizar análise de falha",
          "Realizar análise de falha",
          "Kaizen",
          "Bomba com problemas",
          "Ajuste na Dimensão da Caixa",
          "Ajuste de Freio",
          "Ajuste de Fotocélula",
          "Sem Produção",
          "Refeição",
          "Bico entupido",
          "Esteira Cheia",
          "Falta de Pasta",
          "Limpeza para parada de Fábrica",
          "Limpeza para parada de Fábrica",
          "Parada Planejada",
          "Parada Planejada",
          "Parada Planejada",
          "Parada para Treinamento",
          "Quantidade de Recheio não Conforme",
          "Quantidade de Recheio não Conforme",
          "Robô Travando",
          "Troca de Bobina",
          "Troca de Sabor",
          " ",
          " ",
          " ",
          " ",
          " ",
          "Armadora de Caixas",
          "Recheadora",
          "Recheadora",
          "Recheadora",
          "Recheadora",
          "Robô",
          "Termoformadora",
          "Termoformadora",
          "Termoformadora",
          "Termoformadora",
          "Termoformadora",
          "Termoformadora",
          "Termoformadora",
          "Ajustes",
          "Ajustes",
          "Fluxo",
          "Fluxo",
          "Limpeza",
          "Limpeza",
          "Manutenção",
          "Manutenção",
          "Manutenção",
          "Parada Programada",
          "Parada Programada",
          "Parada Programada",
          "Setup",
          "MAT",
          "NOT",
          "VES",
          "Maquina ID"
         ],
         "marker": {
          "colors": [
           "#636efa",
           "#EF553B",
           "#EF553B",
           "#EF553B",
           "#00cc96",
           "#ab63fa",
           "#EF553B",
           "#ab63fa",
           "#00cc96",
           "#636efa",
           "#FFA15A",
           "#636efa",
           "#ab63fa",
           "#00cc96",
           "#ab63fa",
           "#00cc96",
           "#ab63fa",
           "#636efa",
           "#EF553B",
           "#ab63fa",
           "#636efa",
           "#00cc96",
           "#00cc96",
           "#ab63fa",
           "#00cc96",
           "#00cc96",
           "#ab63fa",
           "#ab63fa",
           "#EF553B",
           "#636efa",
           "#00cc96",
           "#00cc96",
           "#00cc96",
           "#EF553B",
           "#EF553B",
           "#00cc96",
           "#636efa",
           "#636efa",
           "#19d3f3",
           "#19d3f3",
           "#EF553B",
           "#EF553B",
           "#EF553B",
           "#EF553B",
           "#00cc96",
           "#ab63fa",
           "#00cc96",
           "#00cc96",
           "#FFA15A",
           "#19d3f3",
           "#19d3f3",
           "#EF553B",
           "#EF553B",
           "#EF553B",
           "#00cc96",
           "#00cc96",
           "#636efa",
           "#ab63fa",
           "#FFA15A",
           "#00cc96",
           "#00cc96",
           "#00cc96",
           "#636efa",
           "#636efa",
           "#ab63fa",
           "#ab63fa",
           "#ab63fa",
           "#00cc96",
           "#00cc96",
           "#636efa",
           "#636efa",
           "#19d3f3",
           "#19d3f3",
           "#ab63fa",
           "#ab63fa",
           "#ab63fa",
           "#EF553B",
           "#EF553B",
           "#EF553B",
           "#FFA15A",
           "#FF6692",
           "#FF6692",
           "#FF6692",
           "#FF6692"
          ],
          "cornerradius": 5
         },
         "name": "",
         "parents": [
          "Maquina ID/MAT/Fluxo/Termoformadora",
          "Maquina ID/MAT/Parada Programada/ /Parada Planejada",
          "Maquina ID/VES/Parada Programada/ /Parada Planejada",
          "Maquina ID/NOT/Parada Programada/ /Parada Planejada",
          "Maquina ID/MAT/Ajustes/Armadora de Caixas",
          "Maquina ID/VES/Manutenção/Termoformadora",
          "Maquina ID/MAT/Parada Programada/ /Parada Planejada",
          "Maquina ID/VES/Manutenção/Recheadora/Quantidade de Recheio não Conforme",
          "Maquina ID/VES/Ajustes/Termoformadora/Troca de Bobina",
          "Maquina ID/VES/Fluxo/Termoformadora/Esteira Cheia",
          "Maquina ID/MAT/Setup/Recheadora/Troca de Sabor",
          "Maquina ID/VES/Fluxo/Termoformadora/Esteira Cheia",
          "Maquina ID/VES/Manutenção/Recheadora",
          "Maquina ID/MAT/Ajustes/Termoformadora",
          "Maquina ID/VES/Manutenção/Recheadora/Alarme constante ou não sai",
          "Maquina ID/VES/Ajustes/Termoformadora/Troca de Bobina",
          "Maquina ID/NOT/Manutenção/Termoformadora/Bandeja deformada ou manchada",
          "Maquina ID/VES/Fluxo/Recheadora/Falta de Pasta",
          "Maquina ID/NOT/Parada Programada/ /Parada Planejada",
          "Maquina ID/NOT/Manutenção/Termoformadora",
          "Maquina ID/MAT/Fluxo/Termoformadora/Esteira Cheia",
          "Maquina ID/VES/Ajustes/Termoformadora/Abrindo Bandejas",
          "Maquina ID/VES/Ajustes/Termoformadora",
          "Maquina ID/MAT/Manutenção/Termoformadora",
          "Maquina ID/VES/Ajustes/Termoformadora",
          "Maquina ID/VES/Ajustes/Robô/Robô Travando",
          "Maquina ID/VES/Manutenção/Termoformadora/Bandeja Murcha ou Cheia",
          "Maquina ID/MAT/Manutenção/Termoformadora/Bandeja Murcha ou Cheia",
          "Maquina ID/MAT/Parada Programada/ /Parada para Treinamento",
          "Maquina ID/VES/Fluxo/Recheadora/Falta de Pasta",
          "Maquina ID/MAT/Ajustes/Armadora de Caixas/Caixa não Selando",
          "Maquina ID/VES/Ajustes/Termoformadora/Bobina desenquadrando na vertical",
          "Maquina ID/MAT/Ajustes/Termoformadora/Bobina desenquadrando na vertical",
          "Maquina ID/VES/Parada Programada/ /Parada Planejada",
          "Maquina ID/MAT/Parada Programada/ /Parada Planejada",
          "Maquina ID/VES/Ajustes/Recheadora/Quantidade de Recheio não Conforme",
          "Maquina ID/VES/Fluxo/Termoformadora",
          "Maquina ID/VES/Fluxo/Recheadora",
          "Maquina ID/MAT/Limpeza/ ",
          "Maquina ID/VES/Limpeza/ ",
          "Maquina ID/MAT/Parada Programada/ ",
          "Maquina ID/NOT/Parada Programada/ ",
          "Maquina ID/VES/Parada Programada/ ",
          "Maquina ID/MAT/Parada Programada/ ",
          "Maquina ID/VES/Ajustes/Recheadora",
          "Maquina ID/VES/Manutenção/Recheadora",
          "Maquina ID/VES/Ajustes/Robô",
          "Maquina ID/VES/Ajustes/Termoformadora",
          "Maquina ID/MAT/Setup/Recheadora",
          "Maquina ID/MAT/Limpeza",
          "Maquina ID/VES/Limpeza",
          "Maquina ID/MAT/Parada Programada",
          "Maquina ID/NOT/Parada Programada",
          "Maquina ID/VES/Parada Programada",
          "Maquina ID/MAT/Ajustes",
          "Maquina ID/VES/Ajustes",
          "Maquina ID/VES/Fluxo",
          "Maquina ID/VES/Manutenção",
          "Maquina ID/MAT/Setup",
          "Maquina ID/VES/Ajustes",
          "Maquina ID/MAT/Ajustes",
          "Maquina ID/VES/Ajustes",
          "Maquina ID/MAT/Fluxo",
          "Maquina ID/VES/Fluxo",
          "Maquina ID/MAT/Manutenção",
          "Maquina ID/NOT/Manutenção",
          "Maquina ID/VES/Manutenção",
          "Maquina ID/MAT",
          "Maquina ID/VES",
          "Maquina ID/MAT",
          "Maquina ID/VES",
          "Maquina ID/MAT",
          "Maquina ID/VES",
          "Maquina ID/MAT",
          "Maquina ID/NOT",
          "Maquina ID/VES",
          "Maquina ID/MAT",
          "Maquina ID/NOT",
          "Maquina ID/VES",
          "Maquina ID/MAT",
          "Maquina ID",
          "Maquina ID",
          "Maquina ID",
          ""
         ],
         "textinfo": "label+percent parent",
         "type": "treemap",
         "values": [
          68,
          546,
          150,
          252,
          176,
          18,
          82,
          2,
          6,
          2,
          60,
          2,
          6,
          6,
          6,
          2,
          124,
          2,
          480,
          124,
          68,
          2,
          2,
          6,
          40,
          4,
          18,
          6,
          208,
          2,
          176,
          40,
          6,
          22,
          6,
          386,
          4,
          4,
          16,
          2,
          634,
          732,
          172,
          208,
          386,
          2,
          4,
          8,
          60,
          16,
          2,
          842,
          732,
          172,
          176,
          386,
          4,
          8,
          60,
          4,
          6,
          50,
          68,
          4,
          6,
          124,
          18,
          182,
          440,
          68,
          8,
          16,
          2,
          6,
          124,
          26,
          842,
          732,
          172,
          60,
          1174,
          856,
          648,
          2678
         ]
        }
       ],
       "layout": {
        "height": 600,
        "legend": {
         "tracegroupgap": 0
        },
        "plot_bgcolor": "RGBA(0,0,0,0.01)",
        "template": {
         "data": {
          "bar": [
           {
            "error_x": {
             "color": "#2a3f5f"
            },
            "error_y": {
             "color": "#2a3f5f"
            },
            "marker": {
             "line": {
              "color": "#E5ECF6",
              "width": 0.5
             },
             "pattern": {
              "fillmode": "overlay",
              "size": 10,
              "solidity": 0.2
             }
            },
            "type": "bar"
           }
          ],
          "barpolar": [
           {
            "marker": {
             "line": {
              "color": "#E5ECF6",
              "width": 0.5
             },
             "pattern": {
              "fillmode": "overlay",
              "size": 10,
              "solidity": 0.2
             }
            },
            "type": "barpolar"
           }
          ],
          "carpet": [
           {
            "aaxis": {
             "endlinecolor": "#2a3f5f",
             "gridcolor": "white",
             "linecolor": "white",
             "minorgridcolor": "white",
             "startlinecolor": "#2a3f5f"
            },
            "baxis": {
             "endlinecolor": "#2a3f5f",
             "gridcolor": "white",
             "linecolor": "white",
             "minorgridcolor": "white",
             "startlinecolor": "#2a3f5f"
            },
            "type": "carpet"
           }
          ],
          "choropleth": [
           {
            "colorbar": {
             "outlinewidth": 0,
             "ticks": ""
            },
            "type": "choropleth"
           }
          ],
          "contour": [
           {
            "colorbar": {
             "outlinewidth": 0,
             "ticks": ""
            },
            "colorscale": [
             [
              0,
              "#0d0887"
             ],
             [
              0.1111111111111111,
              "#46039f"
             ],
             [
              0.2222222222222222,
              "#7201a8"
             ],
             [
              0.3333333333333333,
              "#9c179e"
             ],
             [
              0.4444444444444444,
              "#bd3786"
             ],
             [
              0.5555555555555556,
              "#d8576b"
             ],
             [
              0.6666666666666666,
              "#ed7953"
             ],
             [
              0.7777777777777778,
              "#fb9f3a"
             ],
             [
              0.8888888888888888,
              "#fdca26"
             ],
             [
              1,
              "#f0f921"
             ]
            ],
            "type": "contour"
           }
          ],
          "contourcarpet": [
           {
            "colorbar": {
             "outlinewidth": 0,
             "ticks": ""
            },
            "type": "contourcarpet"
           }
          ],
          "heatmap": [
           {
            "colorbar": {
             "outlinewidth": 0,
             "ticks": ""
            },
            "colorscale": [
             [
              0,
              "#0d0887"
             ],
             [
              0.1111111111111111,
              "#46039f"
             ],
             [
              0.2222222222222222,
              "#7201a8"
             ],
             [
              0.3333333333333333,
              "#9c179e"
             ],
             [
              0.4444444444444444,
              "#bd3786"
             ],
             [
              0.5555555555555556,
              "#d8576b"
             ],
             [
              0.6666666666666666,
              "#ed7953"
             ],
             [
              0.7777777777777778,
              "#fb9f3a"
             ],
             [
              0.8888888888888888,
              "#fdca26"
             ],
             [
              1,
              "#f0f921"
             ]
            ],
            "type": "heatmap"
           }
          ],
          "heatmapgl": [
           {
            "colorbar": {
             "outlinewidth": 0,
             "ticks": ""
            },
            "colorscale": [
             [
              0,
              "#0d0887"
             ],
             [
              0.1111111111111111,
              "#46039f"
             ],
             [
              0.2222222222222222,
              "#7201a8"
             ],
             [
              0.3333333333333333,
              "#9c179e"
             ],
             [
              0.4444444444444444,
              "#bd3786"
             ],
             [
              0.5555555555555556,
              "#d8576b"
             ],
             [
              0.6666666666666666,
              "#ed7953"
             ],
             [
              0.7777777777777778,
              "#fb9f3a"
             ],
             [
              0.8888888888888888,
              "#fdca26"
             ],
             [
              1,
              "#f0f921"
             ]
            ],
            "type": "heatmapgl"
           }
          ],
          "histogram": [
           {
            "marker": {
             "pattern": {
              "fillmode": "overlay",
              "size": 10,
              "solidity": 0.2
             }
            },
            "type": "histogram"
           }
          ],
          "histogram2d": [
           {
            "colorbar": {
             "outlinewidth": 0,
             "ticks": ""
            },
            "colorscale": [
             [
              0,
              "#0d0887"
             ],
             [
              0.1111111111111111,
              "#46039f"
             ],
             [
              0.2222222222222222,
              "#7201a8"
             ],
             [
              0.3333333333333333,
              "#9c179e"
             ],
             [
              0.4444444444444444,
              "#bd3786"
             ],
             [
              0.5555555555555556,
              "#d8576b"
             ],
             [
              0.6666666666666666,
              "#ed7953"
             ],
             [
              0.7777777777777778,
              "#fb9f3a"
             ],
             [
              0.8888888888888888,
              "#fdca26"
             ],
             [
              1,
              "#f0f921"
             ]
            ],
            "type": "histogram2d"
           }
          ],
          "histogram2dcontour": [
           {
            "colorbar": {
             "outlinewidth": 0,
             "ticks": ""
            },
            "colorscale": [
             [
              0,
              "#0d0887"
             ],
             [
              0.1111111111111111,
              "#46039f"
             ],
             [
              0.2222222222222222,
              "#7201a8"
             ],
             [
              0.3333333333333333,
              "#9c179e"
             ],
             [
              0.4444444444444444,
              "#bd3786"
             ],
             [
              0.5555555555555556,
              "#d8576b"
             ],
             [
              0.6666666666666666,
              "#ed7953"
             ],
             [
              0.7777777777777778,
              "#fb9f3a"
             ],
             [
              0.8888888888888888,
              "#fdca26"
             ],
             [
              1,
              "#f0f921"
             ]
            ],
            "type": "histogram2dcontour"
           }
          ],
          "mesh3d": [
           {
            "colorbar": {
             "outlinewidth": 0,
             "ticks": ""
            },
            "type": "mesh3d"
           }
          ],
          "parcoords": [
           {
            "line": {
             "colorbar": {
              "outlinewidth": 0,
              "ticks": ""
             }
            },
            "type": "parcoords"
           }
          ],
          "pie": [
           {
            "automargin": true,
            "type": "pie"
           }
          ],
          "scatter": [
           {
            "fillpattern": {
             "fillmode": "overlay",
             "size": 10,
             "solidity": 0.2
            },
            "type": "scatter"
           }
          ],
          "scatter3d": [
           {
            "line": {
             "colorbar": {
              "outlinewidth": 0,
              "ticks": ""
             }
            },
            "marker": {
             "colorbar": {
              "outlinewidth": 0,
              "ticks": ""
             }
            },
            "type": "scatter3d"
           }
          ],
          "scattercarpet": [
           {
            "marker": {
             "colorbar": {
              "outlinewidth": 0,
              "ticks": ""
             }
            },
            "type": "scattercarpet"
           }
          ],
          "scattergeo": [
           {
            "marker": {
             "colorbar": {
              "outlinewidth": 0,
              "ticks": ""
             }
            },
            "type": "scattergeo"
           }
          ],
          "scattergl": [
           {
            "marker": {
             "colorbar": {
              "outlinewidth": 0,
              "ticks": ""
             }
            },
            "type": "scattergl"
           }
          ],
          "scattermapbox": [
           {
            "marker": {
             "colorbar": {
              "outlinewidth": 0,
              "ticks": ""
             }
            },
            "type": "scattermapbox"
           }
          ],
          "scatterpolar": [
           {
            "marker": {
             "colorbar": {
              "outlinewidth": 0,
              "ticks": ""
             }
            },
            "type": "scatterpolar"
           }
          ],
          "scatterpolargl": [
           {
            "marker": {
             "colorbar": {
              "outlinewidth": 0,
              "ticks": ""
             }
            },
            "type": "scatterpolargl"
           }
          ],
          "scatterternary": [
           {
            "marker": {
             "colorbar": {
              "outlinewidth": 0,
              "ticks": ""
             }
            },
            "type": "scatterternary"
           }
          ],
          "surface": [
           {
            "colorbar": {
             "outlinewidth": 0,
             "ticks": ""
            },
            "colorscale": [
             [
              0,
              "#0d0887"
             ],
             [
              0.1111111111111111,
              "#46039f"
             ],
             [
              0.2222222222222222,
              "#7201a8"
             ],
             [
              0.3333333333333333,
              "#9c179e"
             ],
             [
              0.4444444444444444,
              "#bd3786"
             ],
             [
              0.5555555555555556,
              "#d8576b"
             ],
             [
              0.6666666666666666,
              "#ed7953"
             ],
             [
              0.7777777777777778,
              "#fb9f3a"
             ],
             [
              0.8888888888888888,
              "#fdca26"
             ],
             [
              1,
              "#f0f921"
             ]
            ],
            "type": "surface"
           }
          ],
          "table": [
           {
            "cells": {
             "fill": {
              "color": "#EBF0F8"
             },
             "line": {
              "color": "white"
             }
            },
            "header": {
             "fill": {
              "color": "#C8D4E3"
             },
             "line": {
              "color": "white"
             }
            },
            "type": "table"
           }
          ]
         },
         "layout": {
          "annotationdefaults": {
           "arrowcolor": "#2a3f5f",
           "arrowhead": 0,
           "arrowwidth": 1
          },
          "autotypenumbers": "strict",
          "coloraxis": {
           "colorbar": {
            "outlinewidth": 0,
            "ticks": ""
           }
          },
          "colorscale": {
           "diverging": [
            [
             0,
             "#8e0152"
            ],
            [
             0.1,
             "#c51b7d"
            ],
            [
             0.2,
             "#de77ae"
            ],
            [
             0.3,
             "#f1b6da"
            ],
            [
             0.4,
             "#fde0ef"
            ],
            [
             0.5,
             "#f7f7f7"
            ],
            [
             0.6,
             "#e6f5d0"
            ],
            [
             0.7,
             "#b8e186"
            ],
            [
             0.8,
             "#7fbc41"
            ],
            [
             0.9,
             "#4d9221"
            ],
            [
             1,
             "#276419"
            ]
           ],
           "sequential": [
            [
             0,
             "#0d0887"
            ],
            [
             0.1111111111111111,
             "#46039f"
            ],
            [
             0.2222222222222222,
             "#7201a8"
            ],
            [
             0.3333333333333333,
             "#9c179e"
            ],
            [
             0.4444444444444444,
             "#bd3786"
            ],
            [
             0.5555555555555556,
             "#d8576b"
            ],
            [
             0.6666666666666666,
             "#ed7953"
            ],
            [
             0.7777777777777778,
             "#fb9f3a"
            ],
            [
             0.8888888888888888,
             "#fdca26"
            ],
            [
             1,
             "#f0f921"
            ]
           ],
           "sequentialminus": [
            [
             0,
             "#0d0887"
            ],
            [
             0.1111111111111111,
             "#46039f"
            ],
            [
             0.2222222222222222,
             "#7201a8"
            ],
            [
             0.3333333333333333,
             "#9c179e"
            ],
            [
             0.4444444444444444,
             "#bd3786"
            ],
            [
             0.5555555555555556,
             "#d8576b"
            ],
            [
             0.6666666666666666,
             "#ed7953"
            ],
            [
             0.7777777777777778,
             "#fb9f3a"
            ],
            [
             0.8888888888888888,
             "#fdca26"
            ],
            [
             1,
             "#f0f921"
            ]
           ]
          },
          "colorway": [
           "#636efa",
           "#EF553B",
           "#00cc96",
           "#ab63fa",
           "#FFA15A",
           "#19d3f3",
           "#FF6692",
           "#B6E880",
           "#FF97FF",
           "#FECB52"
          ],
          "font": {
           "color": "#2a3f5f"
          },
          "geo": {
           "bgcolor": "white",
           "lakecolor": "white",
           "landcolor": "#E5ECF6",
           "showlakes": true,
           "showland": true,
           "subunitcolor": "white"
          },
          "hoverlabel": {
           "align": "left"
          },
          "hovermode": "closest",
          "mapbox": {
           "style": "light"
          },
          "paper_bgcolor": "white",
          "plot_bgcolor": "#E5ECF6",
          "polar": {
           "angularaxis": {
            "gridcolor": "white",
            "linecolor": "white",
            "ticks": ""
           },
           "bgcolor": "#E5ECF6",
           "radialaxis": {
            "gridcolor": "white",
            "linecolor": "white",
            "ticks": ""
           }
          },
          "scene": {
           "xaxis": {
            "backgroundcolor": "#E5ECF6",
            "gridcolor": "white",
            "gridwidth": 2,
            "linecolor": "white",
            "showbackground": true,
            "ticks": "",
            "zerolinecolor": "white"
           },
           "yaxis": {
            "backgroundcolor": "#E5ECF6",
            "gridcolor": "white",
            "gridwidth": 2,
            "linecolor": "white",
            "showbackground": true,
            "ticks": "",
            "zerolinecolor": "white"
           },
           "zaxis": {
            "backgroundcolor": "#E5ECF6",
            "gridcolor": "white",
            "gridwidth": 2,
            "linecolor": "white",
            "showbackground": true,
            "ticks": "",
            "zerolinecolor": "white"
           }
          },
          "shapedefaults": {
           "line": {
            "color": "#2a3f5f"
           }
          },
          "ternary": {
           "aaxis": {
            "gridcolor": "white",
            "linecolor": "white",
            "ticks": ""
           },
           "baxis": {
            "gridcolor": "white",
            "linecolor": "white",
            "ticks": ""
           },
           "bgcolor": "#E5ECF6",
           "caxis": {
            "gridcolor": "white",
            "linecolor": "white",
            "ticks": ""
           }
          },
          "title": {
           "x": 0.05
          },
          "xaxis": {
           "automargin": true,
           "gridcolor": "white",
           "linecolor": "white",
           "ticks": "",
           "title": {
            "standoff": 15
           },
           "zerolinecolor": "white",
           "zerolinewidth": 2
          },
          "yaxis": {
           "automargin": true,
           "gridcolor": "white",
           "linecolor": "white",
           "ticks": "",
           "title": {
            "standoff": 15
           },
           "zerolinecolor": "white",
           "zerolinewidth": 2
          }
         }
        },
        "title": {
         "text": "Detalhes de Tempo"
        }
       }
      }
     },
     "metadata": {},
     "output_type": "display_data"
    }
   ],
   "source": [
    "treemap_test_fig = sunburst_test.create_treemap_details(\n",
    "    df_maq_stopped.copy(), IndicatorType.EFFICIENCY\n",
    ")\n",
    "treemap_test_fig"
   ]
  }
 ],
 "metadata": {
  "kernelspec": {
   "display_name": ".venv",
   "language": "python",
   "name": "python3"
  },
  "language_info": {
   "codemirror_mode": {
    "name": "ipython",
    "version": 3
   },
   "file_extension": ".py",
   "mimetype": "text/x-python",
   "name": "python",
   "nbconvert_exporter": "python",
   "pygments_lexer": "ipython3",
   "version": "3.12.3"
  }
 },
 "nbformat": 4,
 "nbformat_minor": 2
}
