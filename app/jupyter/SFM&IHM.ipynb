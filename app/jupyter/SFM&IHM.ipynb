{
 "cells": [
  {
   "cell_type": "markdown",
   "metadata": {},
   "source": [
    "# Importações\n"
   ]
  },
  {
   "cell_type": "code",
   "execution_count": 1,
   "metadata": {
    "notebookRunGroups": {
     "groupValue": "1"
    }
   },
   "outputs": [],
   "source": [
    "import urllib\n",
    "from itertools import product\n",
    "from os import getenv\n",
    "from sqlalchemy import create_engine\n",
    "from dotenv import load_dotenv\n",
    "\n",
    "import numpy as np\n",
    "import pandas as pd\n",
    "from datetime import datetime, timedelta, time\n",
    "import plotly.graph_objects as go\n",
    "import matplotlib.pyplot as plt\n",
    "import plotly.express as px\n",
    "from fuzzywuzzy import process\n",
    "from enum import Enum\n",
    "import seaborn as sns"
   ]
  },
  {
   "cell_type": "markdown",
   "metadata": {},
   "source": [
    "### Types\n"
   ]
  },
  {
   "cell_type": "code",
   "execution_count": 2,
   "metadata": {
    "notebookRunGroups": {
     "groupValue": "1"
    }
   },
   "outputs": [],
   "source": [
    "# cSpell: disable\n",
    "class BSColorsEnum(Enum):\n",
    "\n",
    "    DANGER_COLOR = \"#dc3545\"\n",
    "\n",
    "    WARNING_COLOR = \"#ffc107\"\n",
    "\n",
    "    SUCCESS_COLOR = \"#198754\"\n",
    "\n",
    "    GREY_500_COLOR = \"#adb5bd\"\n",
    "\n",
    "    GREY_600_COLOR = \"#6c757d\"\n",
    "\n",
    "    GREY_700_COLOR = \"#495057\"\n",
    "\n",
    "    GREY_800_COLOR = \"#343a40\"\n",
    "\n",
    "    GREY_900_COLOR = \"#212529\"\n",
    "\n",
    "    PRIMARY_COLOR = \"#0d6efd\"\n",
    "\n",
    "    SECONDARY_COLOR = \"#6c757d\"\n",
    "\n",
    "    INFO_COLOR = \"#0dcaf0\"\n",
    "\n",
    "    GRAY_COLOR = \"#adb5bd\"\n",
    "\n",
    "    TEAL_COLOR = \"#20c997\"\n",
    "\n",
    "    ORANGE_COLOR = \"#fd7e14\"\n",
    "\n",
    "    INDIGO_COLOR = \"#6610f2\"\n",
    "\n",
    "    PINK_COLOR = \"#d63384\"\n",
    "\n",
    "    PURPLE_COLOR = \"#6f42c1\"\n",
    "\n",
    "    GREY_400_COLOR = \"#ced4da\"\n",
    "\n",
    "    SPACE_CADET_COLOR = \"#282f44\"\n",
    "\n",
    "    BLUE_DELFT_COLOR = \"#0d6efd\"\n",
    "\n",
    "\n",
    "class IndicatorType(Enum):\n",
    "    PERFORMANCE = \"performance\"\n",
    "    REPAIR = \"reparo\"\n",
    "    EFFICIENCY = \"eficiencia\"\n",
    "\n",
    "\n",
    "def get_color(value, max_value):\n",
    "    \"\"\"\n",
    "    Retorna uma cor hexadecimal com base no valor fornecido e no valor máximo.\n",
    "\n",
    "    Parâmetros:\n",
    "    value (float): O valor para o qual a cor será calculada.\n",
    "    max_value (float): O valor máximo possível.\n",
    "\n",
    "    Retorna:\n",
    "    str: Uma cor hexadecimal correspondente ao valor fornecido.\n",
    "    \"\"\"\n",
    "\n",
    "    # Cria um mapa de cores que vai do vermelho ao verde\n",
    "    cmap = plt.get_cmap(\"RdYlGn\")\n",
    "\n",
    "    # Normaliza o valor para um número entre 0 e 1\n",
    "    normalized_value = float(value) / max_value\n",
    "\n",
    "    # Obtém a cor correspondente do mapa de cores\n",
    "    rgba_color = cmap(normalized_value)\n",
    "\n",
    "    # Converte a cor RGBA para uma string de cor hexadecimal\n",
    "    hex_color = (\n",
    "        f\"#{int(rgba_color[0]*255):02x}{int(rgba_color[1]*255):02x}{int(rgba_color[2]*255):02x}\"\n",
    "    )\n",
    "\n",
    "    return hex_color"
   ]
  },
  {
   "cell_type": "markdown",
   "metadata": {},
   "source": [
    "# Database\n"
   ]
  },
  {
   "cell_type": "markdown",
   "metadata": {},
   "source": [
    "## Conexão com o banco de dados\n"
   ]
  },
  {
   "cell_type": "code",
   "execution_count": 3,
   "metadata": {
    "notebookRunGroups": {
     "groupValue": "1"
    }
   },
   "outputs": [],
   "source": [
    "# database/connection.py\n",
    "\n",
    "# cSpell: disable=invalid-name\n",
    "load_dotenv()\n",
    "\n",
    "\n",
    "class Connection:\n",
    "    \"\"\"\n",
    "    Class Connection\n",
    "    \"\"\"\n",
    "\n",
    "    def __init__(self):\n",
    "        \"\"\"\n",
    "        Constructor\n",
    "\n",
    "        Args:\n",
    "            user (str): user\n",
    "            password (str): password\n",
    "            database (str): database\n",
    "            driver (str): driver\n",
    "            server (str): server\n",
    "\n",
    "        Usage:\n",
    "            >>> from connection import Connection\n",
    "            >>> connection = Connection()\n",
    "            >>> connection.get_connection()\n",
    "        \"\"\"\n",
    "        self.__user = getenv(\"PYMSSQL_USER\")\n",
    "        self.__password = getenv(\"PYMSSQL_PASSWORD\")\n",
    "        self.__database = getenv(\"PYMSSQL_DATABASE_AUTOMACAO\")\n",
    "        self.__database_totvsdb = getenv(\"PYMSSQL_DATABASE_TOTVSDB\")\n",
    "        self.__driver = \"{ODBC Driver 17 for SQL Server}\"\n",
    "        self.__server = getenv(\"PYMSSQL_SERVER\")\n",
    "\n",
    "    def get_connection_automacao(self):\n",
    "        \"\"\"\n",
    "        Get connection\n",
    "\n",
    "        Returns:\n",
    "            object: connection\n",
    "\n",
    "        Usage:\n",
    "            >>> from connection import Connection\n",
    "            >>> connection = Connection()\n",
    "            >>> connection.get_connection()\n",
    "        \"\"\"\n",
    "        try:\n",
    "            params = urllib.parse.quote_plus(\n",
    "                f\"DRIVER={self.__driver};\"\n",
    "                f\"SERVER={self.__server};\"\n",
    "                f\"DATABASE={self.__database};\"\n",
    "                f\"UID={self.__user};\"\n",
    "                f\"PWD={self.__password};\"\n",
    "            )\n",
    "            # pylint: disable=consider-using-f-string\n",
    "            conexao_automacao = create_engine(\"mssql+pyodbc:///?odbc_connect=%s\" % params)\n",
    "            return conexao_automacao\n",
    "        # pylint: disable=broad-except\n",
    "        except Exception as error:\n",
    "            print(f\"Error: {error}\")\n",
    "            return None\n",
    "\n",
    "    def get_connection_totvsdb(self):\n",
    "        \"\"\"\n",
    "        Get connection\n",
    "\n",
    "        Returns:\n",
    "            object: connection\n",
    "\n",
    "        Usage:\n",
    "            >>> from connection import Connection\n",
    "            >>> connection = Connection()\n",
    "            >>> connection.get_connection()\n",
    "        \"\"\"\n",
    "        try:\n",
    "            params = urllib.parse.quote_plus(\n",
    "                f\"DRIVER={self.__driver};\"\n",
    "                f\"SERVER={self.__server};\"\n",
    "                f\"DATABASE={self.__database_totvsdb};\"\n",
    "                f\"UID={self.__user};\"\n",
    "                f\"PWD={self.__password};\"\n",
    "            )\n",
    "            conexao_totvsdb = create_engine(f\"mssql+pyodbc:///?odbc_connect={params}\", pool_size=2)\n",
    "            return conexao_totvsdb\n",
    "        # pylint: disable=broad-except\n",
    "        except Exception as error:\n",
    "            print(f\"Error: {error}\")\n",
    "            return None"
   ]
  },
  {
   "cell_type": "markdown",
   "metadata": {},
   "source": [
    "## Leitura do banco de dados\n"
   ]
  },
  {
   "cell_type": "code",
   "execution_count": 4,
   "metadata": {
    "notebookRunGroups": {
     "groupValue": "1"
    }
   },
   "outputs": [],
   "source": [
    "# database/db_read.py\n",
    "from sqlalchemy.exc import DatabaseError\n",
    "\n",
    "\n",
    "# cSpell: disable=invalid-name\n",
    "class Read(Connection):\n",
    "    \"\"\"\n",
    "    Class Read\n",
    "    Read data from the database and return a pandas dataframe\n",
    "    Create query to be executed in the database\n",
    "    \"\"\"\n",
    "\n",
    "    # pylint: disable=useless-super-delegation\n",
    "    def __init__(self):\n",
    "        \"\"\"\n",
    "        Constructor\n",
    "        \"\"\"\n",
    "        super().__init__()\n",
    "\n",
    "    def get_automacao_data(self, query: str) -> pd.DataFrame:\n",
    "        \"\"\"\n",
    "        Get data from database AUTOMACAO and return a pandas dataframe.\n",
    "\n",
    "        Parameters\n",
    "        ----------\n",
    "        query : str\n",
    "            Query to be executed in the database\n",
    "\n",
    "        Returns\n",
    "        -------\n",
    "        pandas dataframe\n",
    "            Dataframe with the query result\n",
    "        \"\"\"\n",
    "        try:\n",
    "            connection = self.get_connection_automacao()\n",
    "            data = pd.read_sql(query, connection)\n",
    "            return data\n",
    "        # pylint: disable=broad-except\n",
    "        except DatabaseError as error:\n",
    "            print(f\"Error: {error}\")\n",
    "            return None\n",
    "        finally:\n",
    "            if connection:\n",
    "                connection.dispose()\n",
    "\n",
    "    def create_automacao_query(self, table: str, where: str = None, orderby: str = None) -> str:\n",
    "        \"\"\"\n",
    "        Create query to be executed in the database AUTOMACAO.\n",
    "\n",
    "        Parameters\n",
    "        ----------\n",
    "        table : str\n",
    "            Table name\n",
    "        where : str\n",
    "            Where clause (optional)\n",
    "        orderby : str\n",
    "            Order by clause (optional)\n",
    "\n",
    "        Returns\n",
    "        -------\n",
    "        str\n",
    "            Query to be executed in the database\n",
    "        \"\"\"\n",
    "        query = f\"SELECT * FROM AUTOMACAO.dbo.{table}\"\n",
    "\n",
    "        if where:\n",
    "            query += f\" WHERE {where}\"\n",
    "\n",
    "        if orderby:\n",
    "            query += f\" ORDER BY {orderby}\"\n",
    "\n",
    "        return query\n",
    "\n",
    "    def get_totvsdb_data(self, query: str) -> pd.DataFrame:\n",
    "        \"\"\"\n",
    "        Retrieves data from the TotvsDB database using the provided SQL query.\n",
    "\n",
    "        Args:\n",
    "            query (str): The SQL query to execute.\n",
    "\n",
    "        Returns:\n",
    "            pd.DataFrame: A pandas DataFrame containing the retrieved data.\n",
    "\n",
    "        Raises:\n",
    "            Exception: If an error occurs while retrieving the data.\n",
    "\n",
    "        \"\"\"\n",
    "        connection = None\n",
    "        try:\n",
    "            connection = self.get_connection_totvsdb()\n",
    "            data = pd.read_sql(query, connection)\n",
    "            return data\n",
    "        # pylint: disable=broad-except\n",
    "        except Exception as e:\n",
    "            print(f\"Erro ao buscar dados: {e}\")\n",
    "            return None\n",
    "        finally:\n",
    "            if connection:\n",
    "                connection.dispose()\n",
    "\n",
    "    def create_totvsdb_query(\n",
    "        self, select: str, table: str, join: str = None, where: str = None, orderby: str = None\n",
    "    ) -> str:\n",
    "        \"\"\"\n",
    "        Creates a SQL query string for querying the TOTVS database.\n",
    "\n",
    "        Args:\n",
    "            select (str): The SELECT clause of the query.\n",
    "            table (str): The table name to query.\n",
    "            join (str, optional): The JOIN clause of the query. Defaults to None.\n",
    "            where (str, optional): The WHERE clause of the query. Defaults to None.\n",
    "            orderby (str, optional): The ORDER BY clause of the query. Defaults to None.\n",
    "\n",
    "        Returns:\n",
    "            str: The SQL query string.\n",
    "        \"\"\"\n",
    "        query = f\"SELECT {select} FROM {table}\"\n",
    "\n",
    "        if join:\n",
    "            query += f\" {join}\"\n",
    "\n",
    "        if where:\n",
    "            query += f\" WHERE {where}\"\n",
    "\n",
    "        if orderby:\n",
    "            query += f\" ORDER BY {orderby}\"\n",
    "\n",
    "        return query"
   ]
  },
  {
   "cell_type": "markdown",
   "metadata": {},
   "source": [
    "## Query para o banco de dados\n"
   ]
  },
  {
   "cell_type": "code",
   "execution_count": 52,
   "metadata": {
    "notebookRunGroups": {
     "groupValue": "1"
    }
   },
   "outputs": [
    {
     "data": {
      "text/html": [
       "<div>\n",
       "<style scoped>\n",
       "    .dataframe tbody tr th:only-of-type {\n",
       "        vertical-align: middle;\n",
       "    }\n",
       "\n",
       "    .dataframe tbody tr th {\n",
       "        vertical-align: top;\n",
       "    }\n",
       "\n",
       "    .dataframe thead th {\n",
       "        text-align: right;\n",
       "    }\n",
       "</style>\n",
       "<table border=\"1\" class=\"dataframe\">\n",
       "  <thead>\n",
       "    <tr style=\"text-align: right;\">\n",
       "      <th></th>\n",
       "      <th>maquina_id</th>\n",
       "      <th>linha</th>\n",
       "      <th>fabrica</th>\n",
       "      <th>status</th>\n",
       "      <th>turno</th>\n",
       "      <th>contagem_total_ciclos</th>\n",
       "      <th>contagem_total_produzido</th>\n",
       "      <th>data_registro</th>\n",
       "      <th>hora_registro</th>\n",
       "    </tr>\n",
       "  </thead>\n",
       "  <tbody>\n",
       "    <tr>\n",
       "      <th>0</th>\n",
       "      <td>TMF009</td>\n",
       "      <td>14</td>\n",
       "      <td>2</td>\n",
       "      <td>false</td>\n",
       "      <td>MAT</td>\n",
       "      <td>0.0</td>\n",
       "      <td>0.0</td>\n",
       "      <td>2024-06-06</td>\n",
       "      <td>15:59:13.230000</td>\n",
       "    </tr>\n",
       "    <tr>\n",
       "      <th>1</th>\n",
       "      <td>TMF013</td>\n",
       "      <td>13</td>\n",
       "      <td>2</td>\n",
       "      <td>true</td>\n",
       "      <td>MAT</td>\n",
       "      <td>6564.0</td>\n",
       "      <td>6440.0</td>\n",
       "      <td>2024-06-06</td>\n",
       "      <td>15:59:12.226666</td>\n",
       "    </tr>\n",
       "    <tr>\n",
       "      <th>2</th>\n",
       "      <td>TMF007</td>\n",
       "      <td>12</td>\n",
       "      <td>2</td>\n",
       "      <td>true</td>\n",
       "      <td>MAT</td>\n",
       "      <td>8216.0</td>\n",
       "      <td>8158.0</td>\n",
       "      <td>2024-06-06</td>\n",
       "      <td>15:59:11.226666</td>\n",
       "    </tr>\n",
       "    <tr>\n",
       "      <th>3</th>\n",
       "      <td>TMF010</td>\n",
       "      <td>11</td>\n",
       "      <td>2</td>\n",
       "      <td>true</td>\n",
       "      <td>MAT</td>\n",
       "      <td>3918.0</td>\n",
       "      <td>3856.0</td>\n",
       "      <td>2024-06-06</td>\n",
       "      <td>15:59:10.226666</td>\n",
       "    </tr>\n",
       "    <tr>\n",
       "      <th>4</th>\n",
       "      <td>TMF008</td>\n",
       "      <td>10</td>\n",
       "      <td>2</td>\n",
       "      <td>false</td>\n",
       "      <td>MAT</td>\n",
       "      <td>0.0</td>\n",
       "      <td>0.0</td>\n",
       "      <td>2024-06-06</td>\n",
       "      <td>15:59:09.226666</td>\n",
       "    </tr>\n",
       "    <tr>\n",
       "      <th>...</th>\n",
       "      <td>...</td>\n",
       "      <td>...</td>\n",
       "      <td>...</td>\n",
       "      <td>...</td>\n",
       "      <td>...</td>\n",
       "      <td>...</td>\n",
       "      <td>...</td>\n",
       "      <td>...</td>\n",
       "      <td>...</td>\n",
       "    </tr>\n",
       "    <tr>\n",
       "      <th>3303</th>\n",
       "      <td>TMF002</td>\n",
       "      <td>5</td>\n",
       "      <td>1</td>\n",
       "      <td>true</td>\n",
       "      <td>MAT</td>\n",
       "      <td>12.0</td>\n",
       "      <td>12.0</td>\n",
       "      <td>2024-06-06</td>\n",
       "      <td>08:00:58.683333</td>\n",
       "    </tr>\n",
       "    <tr>\n",
       "      <th>3304</th>\n",
       "      <td>TMF012</td>\n",
       "      <td>4</td>\n",
       "      <td>1</td>\n",
       "      <td>true</td>\n",
       "      <td>MAT</td>\n",
       "      <td>10.0</td>\n",
       "      <td>10.0</td>\n",
       "      <td>2024-06-06</td>\n",
       "      <td>08:00:57.683333</td>\n",
       "    </tr>\n",
       "    <tr>\n",
       "      <th>3305</th>\n",
       "      <td>TMF005</td>\n",
       "      <td>3</td>\n",
       "      <td>1</td>\n",
       "      <td>false</td>\n",
       "      <td>MAT</td>\n",
       "      <td>0.0</td>\n",
       "      <td>0.0</td>\n",
       "      <td>2024-06-06</td>\n",
       "      <td>08:00:56.676666</td>\n",
       "    </tr>\n",
       "    <tr>\n",
       "      <th>3306</th>\n",
       "      <td>TMF011</td>\n",
       "      <td>2</td>\n",
       "      <td>1</td>\n",
       "      <td>true</td>\n",
       "      <td>MAT</td>\n",
       "      <td>10.0</td>\n",
       "      <td>10.0</td>\n",
       "      <td>2024-06-06</td>\n",
       "      <td>08:00:55.676666</td>\n",
       "    </tr>\n",
       "    <tr>\n",
       "      <th>3307</th>\n",
       "      <td>TMF003</td>\n",
       "      <td>1</td>\n",
       "      <td>1</td>\n",
       "      <td>true</td>\n",
       "      <td>MAT</td>\n",
       "      <td>10.0</td>\n",
       "      <td>10.0</td>\n",
       "      <td>2024-06-06</td>\n",
       "      <td>08:00:54.676666</td>\n",
       "    </tr>\n",
       "  </tbody>\n",
       "</table>\n",
       "<p>3308 rows × 9 columns</p>\n",
       "</div>"
      ],
      "text/plain": [
       "     maquina_id  linha fabrica status turno  contagem_total_ciclos  \\\n",
       "0        TMF009     14       2  false   MAT                    0.0   \n",
       "1        TMF013     13       2   true   MAT                 6564.0   \n",
       "2        TMF007     12       2   true   MAT                 8216.0   \n",
       "3        TMF010     11       2   true   MAT                 3918.0   \n",
       "4        TMF008     10       2  false   MAT                    0.0   \n",
       "...         ...    ...     ...    ...   ...                    ...   \n",
       "3303     TMF002      5       1   true   MAT                   12.0   \n",
       "3304     TMF012      4       1   true   MAT                   10.0   \n",
       "3305     TMF005      3       1  false   MAT                    0.0   \n",
       "3306     TMF011      2       1   true   MAT                   10.0   \n",
       "3307     TMF003      1       1   true   MAT                   10.0   \n",
       "\n",
       "      contagem_total_produzido data_registro    hora_registro  \n",
       "0                          0.0    2024-06-06  15:59:13.230000  \n",
       "1                       6440.0    2024-06-06  15:59:12.226666  \n",
       "2                       8158.0    2024-06-06  15:59:11.226666  \n",
       "3                       3856.0    2024-06-06  15:59:10.226666  \n",
       "4                          0.0    2024-06-06  15:59:09.226666  \n",
       "...                        ...           ...              ...  \n",
       "3303                      12.0    2024-06-06  08:00:58.683333  \n",
       "3304                      10.0    2024-06-06  08:00:57.683333  \n",
       "3305                       0.0    2024-06-06  08:00:56.676666  \n",
       "3306                      10.0    2024-06-06  08:00:55.676666  \n",
       "3307                      10.0    2024-06-06  08:00:54.676666  \n",
       "\n",
       "[3308 rows x 9 columns]"
      ]
     },
     "execution_count": 52,
     "metadata": {},
     "output_type": "execute_result"
    }
   ],
   "source": [
    "# // database/get_data.py\n",
    "# cSpell: disable=invalid-name\n",
    "class GetData:\n",
    "    \"\"\"\n",
    "    Essa classe é responsável por realizar a leitura dos dados do banco de dados.\n",
    "    É utilizada para fazer a leitura em segundo plano, sem que o usuário perceba.\n",
    "    \"\"\"\n",
    "\n",
    "    def __init__(self):\n",
    "        self.db_read = Read()\n",
    "\n",
    "    def determinar_turno(self):\n",
    "\n",
    "        hora_atual = datetime.now()\n",
    "\n",
    "        if hora_atual.hour in range(0, 8):\n",
    "            return \"NOT\"\n",
    "        elif hora_atual.hour in range(8, 16):\n",
    "            return \"MAT\"\n",
    "        else:\n",
    "            return \"VES\"\n",
    "\n",
    "    def calcular_intervalo_turno_passado(self):\n",
    "\n",
    "        hora_atual = datetime.now()\n",
    "\n",
    "        turno_atual = self.determinar_turno()\n",
    "\n",
    "        # Dict ajustando inicio e fim do turno para o anterior ao selecionado\n",
    "        turno_dict = {\"NOT\": \"VES\", \"MAT\": \"NOT\", \"VES\": \"MAT\"}\n",
    "\n",
    "        # Ajustar a data do turno anterior (Caso seja NOT ajustar para o dia anterior)\n",
    "        if turno_atual == \"NOT\":\n",
    "            inicio_turno_passado = hora_atual - timedelta(days=1)\n",
    "        else:\n",
    "            inicio_turno_passado = hora_atual\n",
    "\n",
    "        return inicio_turno_passado, turno_dict[turno_atual]\n",
    "\n",
    "    def get_last_turn_data(self) -> pd.DataFrame:\n",
    "        data_turno_passado, turno_passado = self.calcular_intervalo_turno_passado()\n",
    "\n",
    "        # Separar data e hora\n",
    "        data_inicio = data_turno_passado.strftime(\"%Y-%m-%d\")\n",
    "\n",
    "        query = (\n",
    "            \"SELECT\"\n",
    "            \" t1.maquina_id,\"\n",
    "            \" (SELECT TOP 1 t2.linha FROM AUTOMACAO.dbo.maquina_cadastro t2\"\n",
    "            \" WHERE t2.maquina_id = t1.maquina_id AND t2.data_registro <= t1.data_registro\"\n",
    "            \" ORDER BY t2.data_registro DESC, t2.hora_registro DESC) as linha,\"\n",
    "            \" (SELECT TOP 1 t2.fabrica FROM AUTOMACAO.dbo.maquina_cadastro t2\"\n",
    "            \" WHERE t2.maquina_id = t1.maquina_id AND t2.data_registro <= t1.data_registro\"\n",
    "            \" ORDER BY t2.data_registro DESC, t2.hora_registro DESC) as fabrica,\"\n",
    "            \" t1.status,\"\n",
    "            \" t1.turno,\"\n",
    "            \" t1.contagem_total_ciclos,\"\n",
    "            \" t1.contagem_total_produzido,\"\n",
    "            \" t1.data_registro,\"\n",
    "            \" t1.hora_registro\"\n",
    "            \" FROM \"\n",
    "            \" AUTOMACAO.dbo.maquina_info t1\"\n",
    "            f\" WHERE data_registro = '{data_inicio}' AND turno = '{turno_passado}'\"\n",
    "            \" ORDER BY t1.data_registro DESC, t1.hora_registro DESC\"\n",
    "        )\n",
    "\n",
    "        df = self.db_read.get_automacao_data(query)\n",
    "\n",
    "        return df\n",
    "\n",
    "    def get_data(self) -> tuple:\n",
    "        \"\"\"\n",
    "        Realiza a leitura dos dados do banco de dados.\n",
    "        Retorna na ordem: df_ihm, df_info, df_cadastro\n",
    "        \"\"\"\n",
    "\n",
    "        # Dia de hoje\n",
    "        now = pd.to_datetime(\"today\")\n",
    "\n",
    "        # Encontrando primeiro dia do mês atual\n",
    "        first_day = now.replace(day=1)\n",
    "\n",
    "        # Mantendo apenas a data\n",
    "        first_day = first_day.strftime(\"%Y-%m-%d\")\n",
    "\n",
    "        # Query para leitura dos dados de ocorrência\n",
    "        query_ihm = self.db_read.create_automacao_query(\n",
    "            table=\"maquina_ihm\",\n",
    "            where=f\"data_registro >= '{first_day}'\",\n",
    "        )\n",
    "\n",
    "        query_info = (\n",
    "            \"SELECT\"\n",
    "            \" t1.maquina_id,\"\n",
    "            \" (SELECT TOP 1 t2.linha FROM AUTOMACAO.dbo.maquina_cadastro t2\"\n",
    "            \" WHERE t2.maquina_id = t1.maquina_id AND t2.data_registro <= t1.data_registro\"\n",
    "            \" ORDER BY t2.data_registro DESC, t2.hora_registro DESC) as linha,\"\n",
    "            \" (SELECT TOP 1 t2.fabrica FROM AUTOMACAO.dbo.maquina_cadastro t2\"\n",
    "            \" WHERE t2.maquina_id = t1.maquina_id AND t2.data_registro <= t1.data_registro\"\n",
    "            \" ORDER BY t2.data_registro DESC, t2.hora_registro DESC) as fabrica,\"\n",
    "            \" t1.status,\"\n",
    "            \" t1.turno,\"\n",
    "            \" t1.contagem_total_ciclos,\"\n",
    "            \" t1.contagem_total_produzido,\"\n",
    "            \" t1.data_registro,\"\n",
    "            \" t1.hora_registro\"\n",
    "            \" FROM \"\n",
    "            \" AUTOMACAO.dbo.maquina_info t1\"\n",
    "            f\" WHERE data_registro >= '{first_day}'\"\n",
    "            \" ORDER BY t1.data_registro DESC, t1.hora_registro DESC\"\n",
    "        )\n",
    "\n",
    "        query_production = (\n",
    "            \"SELECT * \"\n",
    "            \"FROM ( \"\n",
    "            \"SELECT \"\n",
    "            \"(SELECT TOP 1 t2.fabrica FROM AUTOMACAO.dbo.maquina_cadastro t2 \"\n",
    "            \"WHERE t2.maquina_id = t1.maquina_id AND t2.data_registro <= t1.data_registro \"\n",
    "            \"ORDER BY t2.data_registro DESC, t2.hora_registro DESC) as fabrica, \"\n",
    "            \"(SELECT TOP 1 t2.linha FROM AUTOMACAO.dbo.maquina_cadastro t2 \"\n",
    "            \"WHERE t2.maquina_id = t1.maquina_id AND t2.data_registro <= t1.data_registro \"\n",
    "            \"ORDER BY t2.data_registro DESC, t2.hora_registro DESC) as linha, \"\n",
    "            \"t1.maquina_id, \"\n",
    "            \"t1.turno, \"\n",
    "            \"t1.status, \"\n",
    "            \"t1.contagem_total_ciclos as total_ciclos, \"\n",
    "            \"t1.contagem_total_produzido as total_produzido, \"\n",
    "            \"t1.data_registro, \"\n",
    "            \"t1.hora_registro, \"\n",
    "            \"ROW_NUMBER() OVER ( \"\n",
    "            \"PARTITION BY t1.data_registro, t1.turno, t1.maquina_id \"\n",
    "            \"ORDER BY t1.data_registro DESC, t1.hora_registro DESC\"\n",
    "            \") AS rn \"\n",
    "            \"FROM AUTOMACAO.dbo.maquina_info t1 \"\n",
    "            \") AS t \"\n",
    "            f\" WHERE rn = 1 AND data_registro >= '{first_day}' AND hora_registro > '00:01'\"\n",
    "            \" ORDER BY data_registro DESC, linha\"\n",
    "        )\n",
    "\n",
    "        # Leitura dos dados\n",
    "        df_ihm = self.db_read.get_automacao_data(query_ihm)\n",
    "        df_info = self.db_read.get_automacao_data(query_info)\n",
    "        df_info_production = self.db_read.get_automacao_data(query_production)\n",
    "\n",
    "        # Verificando se os dados foram lidos corretamente\n",
    "        if df_ihm.empty or df_info.empty or df_info_production.empty:\n",
    "            print(\"====== Erro na leitura dos dados ======\")\n",
    "            return None, None, None\n",
    "\n",
    "        return df_ihm, df_info, df_info_production\n",
    "\n",
    "    def get_maq_quality_data(self) -> pd.DataFrame:\n",
    "        \"\"\"\n",
    "        Retrieves data from the 'maquina_qualidade' table in the AUTOMACAO database.\n",
    "\n",
    "        Returns:\n",
    "            DataFrame: A pandas DataFrame containing the retrieved data.\n",
    "        \"\"\"\n",
    "\n",
    "        # Encontrando o primeiro dia de 6 meses atrás\n",
    "        first_day = pd.to_datetime(\"today\").replace(day=1).strftime(\"%Y-%m-%d\")\n",
    "\n",
    "        # Query para leitura dos dados de qualidade\n",
    "        query = f\"SELECT * FROM AUTOMACAO.dbo.qualidade_ihm WHERE data_registro >= '{first_day}'\"\n",
    "\n",
    "        df = self.db_read.get_automacao_data(query)\n",
    "\n",
    "        return df\n",
    "\n",
    "\n",
    "get_data = GetData()\n",
    "df_ihm, df_info, df_info_production = get_data.get_data()\n",
    "df_quality = get_data.get_maq_quality_data()\n",
    "df_last_turn = get_data.get_last_turn_data()\n",
    "df_last_turn"
   ]
  },
  {
   "cell_type": "markdown",
   "metadata": {},
   "source": [
    "## Testes de saída do banco de dados\n"
   ]
  },
  {
   "cell_type": "code",
   "execution_count": 8,
   "metadata": {
    "notebookRunGroups": {
     "groupValue": "1"
    }
   },
   "outputs": [
    {
     "data": {
      "text/html": [
       "<div>\n",
       "<style scoped>\n",
       "    .dataframe tbody tr th:only-of-type {\n",
       "        vertical-align: middle;\n",
       "    }\n",
       "\n",
       "    .dataframe tbody tr th {\n",
       "        vertical-align: top;\n",
       "    }\n",
       "\n",
       "    .dataframe thead th {\n",
       "        text-align: right;\n",
       "    }\n",
       "</style>\n",
       "<table border=\"1\" class=\"dataframe\">\n",
       "  <thead>\n",
       "    <tr style=\"text-align: right;\">\n",
       "      <th></th>\n",
       "      <th>recno</th>\n",
       "      <th>linha</th>\n",
       "      <th>maquina_id</th>\n",
       "      <th>motivo</th>\n",
       "      <th>equipamento</th>\n",
       "      <th>problema</th>\n",
       "      <th>causa</th>\n",
       "      <th>os_numero</th>\n",
       "      <th>operador_id</th>\n",
       "      <th>data_registro</th>\n",
       "      <th>hora_registro</th>\n",
       "    </tr>\n",
       "  </thead>\n",
       "  <tbody>\n",
       "    <tr>\n",
       "      <th>0</th>\n",
       "      <td>5935</td>\n",
       "      <td>2</td>\n",
       "      <td>TMF011</td>\n",
       "      <td>Ajustes</td>\n",
       "      <td>Termoformadora</td>\n",
       "      <td>Troca de Bobina</td>\n",
       "      <td>Troca de Bobina Inferior</td>\n",
       "      <td>0</td>\n",
       "      <td>1643</td>\n",
       "      <td>2024-07-01</td>\n",
       "      <td>00:00:44.313333</td>\n",
       "    </tr>\n",
       "    <tr>\n",
       "      <th>1</th>\n",
       "      <td>5936</td>\n",
       "      <td>2</td>\n",
       "      <td>TMF011</td>\n",
       "      <td>Parada Programada</td>\n",
       "      <td></td>\n",
       "      <td>Parada Planejada</td>\n",
       "      <td>Sem Produção</td>\n",
       "      <td>0</td>\n",
       "      <td>434</td>\n",
       "      <td>2024-07-01</td>\n",
       "      <td>00:01:35.953333</td>\n",
       "    </tr>\n",
       "    <tr>\n",
       "      <th>2</th>\n",
       "      <td>5937</td>\n",
       "      <td>4</td>\n",
       "      <td>TMF012</td>\n",
       "      <td>Ajustes</td>\n",
       "      <td>Termoformadora</td>\n",
       "      <td>Troca de Bobina</td>\n",
       "      <td>Troca de Bobina Inferior</td>\n",
       "      <td>0</td>\n",
       "      <td>434</td>\n",
       "      <td>2024-07-01</td>\n",
       "      <td>00:08:53.963333</td>\n",
       "    </tr>\n",
       "    <tr>\n",
       "      <th>3</th>\n",
       "      <td>5938</td>\n",
       "      <td>3</td>\n",
       "      <td>TMF005</td>\n",
       "      <td>Parada Programada</td>\n",
       "      <td></td>\n",
       "      <td>Parada Planejada</td>\n",
       "      <td>Backup</td>\n",
       "      <td>0</td>\n",
       "      <td>1643</td>\n",
       "      <td>2024-07-01</td>\n",
       "      <td>00:09:07.906666</td>\n",
       "    </tr>\n",
       "    <tr>\n",
       "      <th>4</th>\n",
       "      <td>5939</td>\n",
       "      <td>6</td>\n",
       "      <td>TMF001</td>\n",
       "      <td>Limpeza</td>\n",
       "      <td></td>\n",
       "      <td>Limpeza para parada de Fábrica</td>\n",
       "      <td></td>\n",
       "      <td>0</td>\n",
       "      <td>1373</td>\n",
       "      <td>2024-07-01</td>\n",
       "      <td>00:10:01.890000</td>\n",
       "    </tr>\n",
       "    <tr>\n",
       "      <th>5</th>\n",
       "      <td>5940</td>\n",
       "      <td>9</td>\n",
       "      <td>TMF004</td>\n",
       "      <td>Parada Programada</td>\n",
       "      <td></td>\n",
       "      <td>Parada Planejada</td>\n",
       "      <td>Backup</td>\n",
       "      <td>0</td>\n",
       "      <td>434</td>\n",
       "      <td>2024-07-01</td>\n",
       "      <td>00:12:35.760000</td>\n",
       "    </tr>\n",
       "    <tr>\n",
       "      <th>6</th>\n",
       "      <td>5941</td>\n",
       "      <td>8</td>\n",
       "      <td>TMF014</td>\n",
       "      <td>Limpeza</td>\n",
       "      <td></td>\n",
       "      <td>Limpeza para parada de Fábrica</td>\n",
       "      <td></td>\n",
       "      <td>0</td>\n",
       "      <td>1646</td>\n",
       "      <td>2024-07-01</td>\n",
       "      <td>00:13:34.706666</td>\n",
       "    </tr>\n",
       "    <tr>\n",
       "      <th>7</th>\n",
       "      <td>5942</td>\n",
       "      <td>7</td>\n",
       "      <td>TMF006</td>\n",
       "      <td>Limpeza</td>\n",
       "      <td></td>\n",
       "      <td>Limpeza para parada de Fábrica</td>\n",
       "      <td></td>\n",
       "      <td>0</td>\n",
       "      <td>1643</td>\n",
       "      <td>2024-07-01</td>\n",
       "      <td>00:16:28.540000</td>\n",
       "    </tr>\n",
       "    <tr>\n",
       "      <th>8</th>\n",
       "      <td>5943</td>\n",
       "      <td>3</td>\n",
       "      <td>TMF005</td>\n",
       "      <td>Qualidade</td>\n",
       "      <td>Termoformadora</td>\n",
       "      <td>Parâmetros de Qualidade</td>\n",
       "      <td>Esquadro da bandeja inadequado</td>\n",
       "      <td>0</td>\n",
       "      <td>1373</td>\n",
       "      <td>2024-07-01</td>\n",
       "      <td>00:17:32.220000</td>\n",
       "    </tr>\n",
       "    <tr>\n",
       "      <th>9</th>\n",
       "      <td>5944</td>\n",
       "      <td>5</td>\n",
       "      <td>TMF002</td>\n",
       "      <td>Limpeza</td>\n",
       "      <td></td>\n",
       "      <td>Limpeza para parada de Fábrica</td>\n",
       "      <td></td>\n",
       "      <td>0</td>\n",
       "      <td>1643</td>\n",
       "      <td>2024-07-01</td>\n",
       "      <td>00:17:44.566666</td>\n",
       "    </tr>\n",
       "    <tr>\n",
       "      <th>10</th>\n",
       "      <td>5945</td>\n",
       "      <td>3</td>\n",
       "      <td>TMF005</td>\n",
       "      <td>Qualidade</td>\n",
       "      <td>Termoformadora</td>\n",
       "      <td>Parâmetros de Qualidade</td>\n",
       "      <td>Esquadro da bandeja inadequado</td>\n",
       "      <td>0</td>\n",
       "      <td>1373</td>\n",
       "      <td>2024-07-01</td>\n",
       "      <td>00:18:46.096666</td>\n",
       "    </tr>\n",
       "    <tr>\n",
       "      <th>11</th>\n",
       "      <td>5946</td>\n",
       "      <td>4</td>\n",
       "      <td>TMF012</td>\n",
       "      <td>Ajustes</td>\n",
       "      <td>Termoformadora</td>\n",
       "      <td>Troca de Bobina</td>\n",
       "      <td>Troca de Bobina Inferior</td>\n",
       "      <td>0</td>\n",
       "      <td>434</td>\n",
       "      <td>2024-07-01</td>\n",
       "      <td>00:18:52.623333</td>\n",
       "    </tr>\n",
       "    <tr>\n",
       "      <th>12</th>\n",
       "      <td>5947</td>\n",
       "      <td>3</td>\n",
       "      <td>TMF005</td>\n",
       "      <td>Parada Programada</td>\n",
       "      <td></td>\n",
       "      <td>Parada Planejada</td>\n",
       "      <td>Sem Produção</td>\n",
       "      <td>0</td>\n",
       "      <td>1373</td>\n",
       "      <td>2024-07-01</td>\n",
       "      <td>00:20:11.216666</td>\n",
       "    </tr>\n",
       "    <tr>\n",
       "      <th>13</th>\n",
       "      <td>5948</td>\n",
       "      <td>4</td>\n",
       "      <td>TMF012</td>\n",
       "      <td>Ajustes</td>\n",
       "      <td>Termoformadora</td>\n",
       "      <td>Troca de Bobina</td>\n",
       "      <td>Troca de Bobina Inferior</td>\n",
       "      <td>0</td>\n",
       "      <td>434</td>\n",
       "      <td>2024-07-01</td>\n",
       "      <td>00:20:22.700000</td>\n",
       "    </tr>\n",
       "    <tr>\n",
       "      <th>14</th>\n",
       "      <td>5949</td>\n",
       "      <td>4</td>\n",
       "      <td>TMF012</td>\n",
       "      <td>Ajustes</td>\n",
       "      <td>Termoformadora</td>\n",
       "      <td>Troca de Bobina</td>\n",
       "      <td>Troca de Bobina Inferior</td>\n",
       "      <td>0</td>\n",
       "      <td>434</td>\n",
       "      <td>2024-07-01</td>\n",
       "      <td>00:21:04.780000</td>\n",
       "    </tr>\n",
       "    <tr>\n",
       "      <th>15</th>\n",
       "      <td>5950</td>\n",
       "      <td>6</td>\n",
       "      <td>TMF001</td>\n",
       "      <td>Limpeza</td>\n",
       "      <td></td>\n",
       "      <td>Limpeza para parada de Fábrica</td>\n",
       "      <td></td>\n",
       "      <td>0</td>\n",
       "      <td>1373</td>\n",
       "      <td>2024-07-01</td>\n",
       "      <td>00:21:23.096666</td>\n",
       "    </tr>\n",
       "    <tr>\n",
       "      <th>16</th>\n",
       "      <td>5951</td>\n",
       "      <td>4</td>\n",
       "      <td>TMF012</td>\n",
       "      <td>Parada Programada</td>\n",
       "      <td></td>\n",
       "      <td>Parada Planejada</td>\n",
       "      <td>Sem Produção</td>\n",
       "      <td>0</td>\n",
       "      <td>434</td>\n",
       "      <td>2024-07-01</td>\n",
       "      <td>00:21:38.720000</td>\n",
       "    </tr>\n",
       "    <tr>\n",
       "      <th>17</th>\n",
       "      <td>5952</td>\n",
       "      <td>6</td>\n",
       "      <td>TMF001</td>\n",
       "      <td>Limpeza</td>\n",
       "      <td></td>\n",
       "      <td>Limpeza para parada de Fábrica</td>\n",
       "      <td></td>\n",
       "      <td>0</td>\n",
       "      <td>1373</td>\n",
       "      <td>2024-07-01</td>\n",
       "      <td>00:22:07.423333</td>\n",
       "    </tr>\n",
       "    <tr>\n",
       "      <th>18</th>\n",
       "      <td>5953</td>\n",
       "      <td>6</td>\n",
       "      <td>TMF001</td>\n",
       "      <td>Limpeza</td>\n",
       "      <td></td>\n",
       "      <td>Limpeza para parada de Fábrica</td>\n",
       "      <td></td>\n",
       "      <td>0</td>\n",
       "      <td>1373</td>\n",
       "      <td>2024-07-01</td>\n",
       "      <td>00:22:38.263333</td>\n",
       "    </tr>\n",
       "    <tr>\n",
       "      <th>19</th>\n",
       "      <td>5954</td>\n",
       "      <td>5</td>\n",
       "      <td>TMF002</td>\n",
       "      <td>Qualidade</td>\n",
       "      <td>Termoformadora</td>\n",
       "      <td>Parâmetros de Qualidade</td>\n",
       "      <td>Data fora de posição</td>\n",
       "      <td>0</td>\n",
       "      <td>1373</td>\n",
       "      <td>2024-07-01</td>\n",
       "      <td>00:23:28.776666</td>\n",
       "    </tr>\n",
       "  </tbody>\n",
       "</table>\n",
       "</div>"
      ],
      "text/plain": [
       "    recno  linha maquina_id             motivo     equipamento  \\\n",
       "0    5935      2     TMF011            Ajustes  Termoformadora   \n",
       "1    5936      2     TMF011  Parada Programada                   \n",
       "2    5937      4     TMF012            Ajustes  Termoformadora   \n",
       "3    5938      3     TMF005  Parada Programada                   \n",
       "4    5939      6     TMF001            Limpeza                   \n",
       "5    5940      9     TMF004  Parada Programada                   \n",
       "6    5941      8     TMF014            Limpeza                   \n",
       "7    5942      7     TMF006            Limpeza                   \n",
       "8    5943      3     TMF005          Qualidade  Termoformadora   \n",
       "9    5944      5     TMF002            Limpeza                   \n",
       "10   5945      3     TMF005          Qualidade  Termoformadora   \n",
       "11   5946      4     TMF012            Ajustes  Termoformadora   \n",
       "12   5947      3     TMF005  Parada Programada                   \n",
       "13   5948      4     TMF012            Ajustes  Termoformadora   \n",
       "14   5949      4     TMF012            Ajustes  Termoformadora   \n",
       "15   5950      6     TMF001            Limpeza                   \n",
       "16   5951      4     TMF012  Parada Programada                   \n",
       "17   5952      6     TMF001            Limpeza                   \n",
       "18   5953      6     TMF001            Limpeza                   \n",
       "19   5954      5     TMF002          Qualidade  Termoformadora   \n",
       "\n",
       "                          problema                           causa os_numero  \\\n",
       "0                  Troca de Bobina        Troca de Bobina Inferior         0   \n",
       "1                 Parada Planejada                    Sem Produção         0   \n",
       "2                  Troca de Bobina        Troca de Bobina Inferior         0   \n",
       "3                 Parada Planejada                          Backup         0   \n",
       "4   Limpeza para parada de Fábrica                                         0   \n",
       "5                 Parada Planejada                          Backup         0   \n",
       "6   Limpeza para parada de Fábrica                                         0   \n",
       "7   Limpeza para parada de Fábrica                                         0   \n",
       "8          Parâmetros de Qualidade  Esquadro da bandeja inadequado         0   \n",
       "9   Limpeza para parada de Fábrica                                         0   \n",
       "10         Parâmetros de Qualidade  Esquadro da bandeja inadequado         0   \n",
       "11                 Troca de Bobina        Troca de Bobina Inferior         0   \n",
       "12                Parada Planejada                    Sem Produção         0   \n",
       "13                 Troca de Bobina        Troca de Bobina Inferior         0   \n",
       "14                 Troca de Bobina        Troca de Bobina Inferior         0   \n",
       "15  Limpeza para parada de Fábrica                                         0   \n",
       "16                Parada Planejada                    Sem Produção         0   \n",
       "17  Limpeza para parada de Fábrica                                         0   \n",
       "18  Limpeza para parada de Fábrica                                         0   \n",
       "19         Parâmetros de Qualidade            Data fora de posição         0   \n",
       "\n",
       "   operador_id data_registro    hora_registro  \n",
       "0         1643    2024-07-01  00:00:44.313333  \n",
       "1          434    2024-07-01  00:01:35.953333  \n",
       "2          434    2024-07-01  00:08:53.963333  \n",
       "3         1643    2024-07-01  00:09:07.906666  \n",
       "4         1373    2024-07-01  00:10:01.890000  \n",
       "5          434    2024-07-01  00:12:35.760000  \n",
       "6         1646    2024-07-01  00:13:34.706666  \n",
       "7         1643    2024-07-01  00:16:28.540000  \n",
       "8         1373    2024-07-01  00:17:32.220000  \n",
       "9         1643    2024-07-01  00:17:44.566666  \n",
       "10        1373    2024-07-01  00:18:46.096666  \n",
       "11         434    2024-07-01  00:18:52.623333  \n",
       "12        1373    2024-07-01  00:20:11.216666  \n",
       "13         434    2024-07-01  00:20:22.700000  \n",
       "14         434    2024-07-01  00:21:04.780000  \n",
       "15        1373    2024-07-01  00:21:23.096666  \n",
       "16         434    2024-07-01  00:21:38.720000  \n",
       "17        1373    2024-07-01  00:22:07.423333  \n",
       "18        1373    2024-07-01  00:22:38.263333  \n",
       "19        1373    2024-07-01  00:23:28.776666  "
      ]
     },
     "execution_count": 8,
     "metadata": {},
     "output_type": "execute_result"
    }
   ],
   "source": [
    "df_ihm.head(20)"
   ]
  },
  {
   "cell_type": "code",
   "execution_count": 9,
   "metadata": {
    "notebookRunGroups": {
     "groupValue": "1"
    }
   },
   "outputs": [
    {
     "data": {
      "text/html": [
       "<div>\n",
       "<style scoped>\n",
       "    .dataframe tbody tr th:only-of-type {\n",
       "        vertical-align: middle;\n",
       "    }\n",
       "\n",
       "    .dataframe tbody tr th {\n",
       "        vertical-align: top;\n",
       "    }\n",
       "\n",
       "    .dataframe thead th {\n",
       "        text-align: right;\n",
       "    }\n",
       "</style>\n",
       "<table border=\"1\" class=\"dataframe\">\n",
       "  <thead>\n",
       "    <tr style=\"text-align: right;\">\n",
       "      <th></th>\n",
       "      <th>maquina_id</th>\n",
       "      <th>linha</th>\n",
       "      <th>fabrica</th>\n",
       "      <th>status</th>\n",
       "      <th>turno</th>\n",
       "      <th>contagem_total_ciclos</th>\n",
       "      <th>contagem_total_produzido</th>\n",
       "      <th>data_registro</th>\n",
       "      <th>hora_registro</th>\n",
       "    </tr>\n",
       "  </thead>\n",
       "  <tbody>\n",
       "    <tr>\n",
       "      <th>0</th>\n",
       "      <td>TMF004</td>\n",
       "      <td>9</td>\n",
       "      <td>1</td>\n",
       "      <td>false</td>\n",
       "      <td>MAT</td>\n",
       "      <td>0.0</td>\n",
       "      <td>0.0</td>\n",
       "      <td>2024-07-01</td>\n",
       "      <td>09:50:24.856666</td>\n",
       "    </tr>\n",
       "    <tr>\n",
       "      <th>1</th>\n",
       "      <td>TMF014</td>\n",
       "      <td>8</td>\n",
       "      <td>1</td>\n",
       "      <td>false</td>\n",
       "      <td>MAT</td>\n",
       "      <td>0.0</td>\n",
       "      <td>0.0</td>\n",
       "      <td>2024-07-01</td>\n",
       "      <td>09:50:23.853333</td>\n",
       "    </tr>\n",
       "    <tr>\n",
       "      <th>2</th>\n",
       "      <td>TMF006</td>\n",
       "      <td>7</td>\n",
       "      <td>1</td>\n",
       "      <td>false</td>\n",
       "      <td>MAT</td>\n",
       "      <td>0.0</td>\n",
       "      <td>0.0</td>\n",
       "      <td>2024-07-01</td>\n",
       "      <td>09:50:22.853333</td>\n",
       "    </tr>\n",
       "    <tr>\n",
       "      <th>3</th>\n",
       "      <td>TMF001</td>\n",
       "      <td>6</td>\n",
       "      <td>1</td>\n",
       "      <td>false</td>\n",
       "      <td>MAT</td>\n",
       "      <td>0.0</td>\n",
       "      <td>0.0</td>\n",
       "      <td>2024-07-01</td>\n",
       "      <td>09:50:21.850000</td>\n",
       "    </tr>\n",
       "    <tr>\n",
       "      <th>4</th>\n",
       "      <td>TMF002</td>\n",
       "      <td>5</td>\n",
       "      <td>1</td>\n",
       "      <td>false</td>\n",
       "      <td>MAT</td>\n",
       "      <td>0.0</td>\n",
       "      <td>0.0</td>\n",
       "      <td>2024-07-01</td>\n",
       "      <td>09:50:20.850000</td>\n",
       "    </tr>\n",
       "    <tr>\n",
       "      <th>5</th>\n",
       "      <td>TMF012</td>\n",
       "      <td>4</td>\n",
       "      <td>1</td>\n",
       "      <td>false</td>\n",
       "      <td>MAT</td>\n",
       "      <td>0.0</td>\n",
       "      <td>0.0</td>\n",
       "      <td>2024-07-01</td>\n",
       "      <td>09:50:19.846666</td>\n",
       "    </tr>\n",
       "    <tr>\n",
       "      <th>6</th>\n",
       "      <td>TMF005</td>\n",
       "      <td>3</td>\n",
       "      <td>1</td>\n",
       "      <td>false</td>\n",
       "      <td>MAT</td>\n",
       "      <td>0.0</td>\n",
       "      <td>0.0</td>\n",
       "      <td>2024-07-01</td>\n",
       "      <td>09:50:18.846666</td>\n",
       "    </tr>\n",
       "    <tr>\n",
       "      <th>7</th>\n",
       "      <td>TMF011</td>\n",
       "      <td>2</td>\n",
       "      <td>1</td>\n",
       "      <td>false</td>\n",
       "      <td>MAT</td>\n",
       "      <td>0.0</td>\n",
       "      <td>0.0</td>\n",
       "      <td>2024-07-01</td>\n",
       "      <td>09:50:17.843333</td>\n",
       "    </tr>\n",
       "    <tr>\n",
       "      <th>8</th>\n",
       "      <td>TMF003</td>\n",
       "      <td>1</td>\n",
       "      <td>1</td>\n",
       "      <td>false</td>\n",
       "      <td>MAT</td>\n",
       "      <td>0.0</td>\n",
       "      <td>0.0</td>\n",
       "      <td>2024-07-01</td>\n",
       "      <td>09:50:16.840000</td>\n",
       "    </tr>\n",
       "    <tr>\n",
       "      <th>9</th>\n",
       "      <td>TMF004</td>\n",
       "      <td>9</td>\n",
       "      <td>1</td>\n",
       "      <td>false</td>\n",
       "      <td>MAT</td>\n",
       "      <td>0.0</td>\n",
       "      <td>0.0</td>\n",
       "      <td>2024-07-01</td>\n",
       "      <td>09:48:24.846666</td>\n",
       "    </tr>\n",
       "    <tr>\n",
       "      <th>10</th>\n",
       "      <td>TMF014</td>\n",
       "      <td>8</td>\n",
       "      <td>1</td>\n",
       "      <td>false</td>\n",
       "      <td>MAT</td>\n",
       "      <td>0.0</td>\n",
       "      <td>0.0</td>\n",
       "      <td>2024-07-01</td>\n",
       "      <td>09:48:23.846666</td>\n",
       "    </tr>\n",
       "    <tr>\n",
       "      <th>11</th>\n",
       "      <td>TMF006</td>\n",
       "      <td>7</td>\n",
       "      <td>1</td>\n",
       "      <td>false</td>\n",
       "      <td>MAT</td>\n",
       "      <td>0.0</td>\n",
       "      <td>0.0</td>\n",
       "      <td>2024-07-01</td>\n",
       "      <td>09:48:22.846666</td>\n",
       "    </tr>\n",
       "    <tr>\n",
       "      <th>12</th>\n",
       "      <td>TMF001</td>\n",
       "      <td>6</td>\n",
       "      <td>1</td>\n",
       "      <td>false</td>\n",
       "      <td>MAT</td>\n",
       "      <td>0.0</td>\n",
       "      <td>0.0</td>\n",
       "      <td>2024-07-01</td>\n",
       "      <td>09:48:21.846666</td>\n",
       "    </tr>\n",
       "    <tr>\n",
       "      <th>13</th>\n",
       "      <td>TMF002</td>\n",
       "      <td>5</td>\n",
       "      <td>1</td>\n",
       "      <td>false</td>\n",
       "      <td>MAT</td>\n",
       "      <td>0.0</td>\n",
       "      <td>0.0</td>\n",
       "      <td>2024-07-01</td>\n",
       "      <td>09:48:20.843333</td>\n",
       "    </tr>\n",
       "    <tr>\n",
       "      <th>14</th>\n",
       "      <td>TMF012</td>\n",
       "      <td>4</td>\n",
       "      <td>1</td>\n",
       "      <td>false</td>\n",
       "      <td>MAT</td>\n",
       "      <td>0.0</td>\n",
       "      <td>0.0</td>\n",
       "      <td>2024-07-01</td>\n",
       "      <td>09:48:19.840000</td>\n",
       "    </tr>\n",
       "    <tr>\n",
       "      <th>15</th>\n",
       "      <td>TMF005</td>\n",
       "      <td>3</td>\n",
       "      <td>1</td>\n",
       "      <td>false</td>\n",
       "      <td>MAT</td>\n",
       "      <td>0.0</td>\n",
       "      <td>0.0</td>\n",
       "      <td>2024-07-01</td>\n",
       "      <td>09:48:18.840000</td>\n",
       "    </tr>\n",
       "    <tr>\n",
       "      <th>16</th>\n",
       "      <td>TMF011</td>\n",
       "      <td>2</td>\n",
       "      <td>1</td>\n",
       "      <td>false</td>\n",
       "      <td>MAT</td>\n",
       "      <td>0.0</td>\n",
       "      <td>0.0</td>\n",
       "      <td>2024-07-01</td>\n",
       "      <td>09:48:17.836666</td>\n",
       "    </tr>\n",
       "    <tr>\n",
       "      <th>17</th>\n",
       "      <td>TMF003</td>\n",
       "      <td>1</td>\n",
       "      <td>1</td>\n",
       "      <td>false</td>\n",
       "      <td>MAT</td>\n",
       "      <td>0.0</td>\n",
       "      <td>0.0</td>\n",
       "      <td>2024-07-01</td>\n",
       "      <td>09:48:16.836666</td>\n",
       "    </tr>\n",
       "    <tr>\n",
       "      <th>18</th>\n",
       "      <td>TMF004</td>\n",
       "      <td>9</td>\n",
       "      <td>1</td>\n",
       "      <td>false</td>\n",
       "      <td>MAT</td>\n",
       "      <td>0.0</td>\n",
       "      <td>0.0</td>\n",
       "      <td>2024-07-01</td>\n",
       "      <td>09:46:24.833333</td>\n",
       "    </tr>\n",
       "    <tr>\n",
       "      <th>19</th>\n",
       "      <td>TMF014</td>\n",
       "      <td>8</td>\n",
       "      <td>1</td>\n",
       "      <td>false</td>\n",
       "      <td>MAT</td>\n",
       "      <td>0.0</td>\n",
       "      <td>0.0</td>\n",
       "      <td>2024-07-01</td>\n",
       "      <td>09:46:23.836666</td>\n",
       "    </tr>\n",
       "  </tbody>\n",
       "</table>\n",
       "</div>"
      ],
      "text/plain": [
       "   maquina_id  linha fabrica status turno  contagem_total_ciclos  \\\n",
       "0      TMF004      9       1  false   MAT                    0.0   \n",
       "1      TMF014      8       1  false   MAT                    0.0   \n",
       "2      TMF006      7       1  false   MAT                    0.0   \n",
       "3      TMF001      6       1  false   MAT                    0.0   \n",
       "4      TMF002      5       1  false   MAT                    0.0   \n",
       "5      TMF012      4       1  false   MAT                    0.0   \n",
       "6      TMF005      3       1  false   MAT                    0.0   \n",
       "7      TMF011      2       1  false   MAT                    0.0   \n",
       "8      TMF003      1       1  false   MAT                    0.0   \n",
       "9      TMF004      9       1  false   MAT                    0.0   \n",
       "10     TMF014      8       1  false   MAT                    0.0   \n",
       "11     TMF006      7       1  false   MAT                    0.0   \n",
       "12     TMF001      6       1  false   MAT                    0.0   \n",
       "13     TMF002      5       1  false   MAT                    0.0   \n",
       "14     TMF012      4       1  false   MAT                    0.0   \n",
       "15     TMF005      3       1  false   MAT                    0.0   \n",
       "16     TMF011      2       1  false   MAT                    0.0   \n",
       "17     TMF003      1       1  false   MAT                    0.0   \n",
       "18     TMF004      9       1  false   MAT                    0.0   \n",
       "19     TMF014      8       1  false   MAT                    0.0   \n",
       "\n",
       "    contagem_total_produzido data_registro    hora_registro  \n",
       "0                        0.0    2024-07-01  09:50:24.856666  \n",
       "1                        0.0    2024-07-01  09:50:23.853333  \n",
       "2                        0.0    2024-07-01  09:50:22.853333  \n",
       "3                        0.0    2024-07-01  09:50:21.850000  \n",
       "4                        0.0    2024-07-01  09:50:20.850000  \n",
       "5                        0.0    2024-07-01  09:50:19.846666  \n",
       "6                        0.0    2024-07-01  09:50:18.846666  \n",
       "7                        0.0    2024-07-01  09:50:17.843333  \n",
       "8                        0.0    2024-07-01  09:50:16.840000  \n",
       "9                        0.0    2024-07-01  09:48:24.846666  \n",
       "10                       0.0    2024-07-01  09:48:23.846666  \n",
       "11                       0.0    2024-07-01  09:48:22.846666  \n",
       "12                       0.0    2024-07-01  09:48:21.846666  \n",
       "13                       0.0    2024-07-01  09:48:20.843333  \n",
       "14                       0.0    2024-07-01  09:48:19.840000  \n",
       "15                       0.0    2024-07-01  09:48:18.840000  \n",
       "16                       0.0    2024-07-01  09:48:17.836666  \n",
       "17                       0.0    2024-07-01  09:48:16.836666  \n",
       "18                       0.0    2024-07-01  09:46:24.833333  \n",
       "19                       0.0    2024-07-01  09:46:23.836666  "
      ]
     },
     "execution_count": 9,
     "metadata": {},
     "output_type": "execute_result"
    }
   ],
   "source": [
    "df_info.head(20)"
   ]
  },
  {
   "cell_type": "code",
   "execution_count": 10,
   "metadata": {
    "notebookRunGroups": {
     "groupValue": "1"
    }
   },
   "outputs": [
    {
     "data": {
      "text/html": [
       "<div>\n",
       "<style scoped>\n",
       "    .dataframe tbody tr th:only-of-type {\n",
       "        vertical-align: middle;\n",
       "    }\n",
       "\n",
       "    .dataframe tbody tr th {\n",
       "        vertical-align: top;\n",
       "    }\n",
       "\n",
       "    .dataframe thead th {\n",
       "        text-align: right;\n",
       "    }\n",
       "</style>\n",
       "<table border=\"1\" class=\"dataframe\">\n",
       "  <thead>\n",
       "    <tr style=\"text-align: right;\">\n",
       "      <th></th>\n",
       "      <th>fabrica</th>\n",
       "      <th>linha</th>\n",
       "      <th>maquina_id</th>\n",
       "      <th>turno</th>\n",
       "      <th>status</th>\n",
       "      <th>total_ciclos</th>\n",
       "      <th>total_produzido</th>\n",
       "      <th>data_registro</th>\n",
       "      <th>hora_registro</th>\n",
       "      <th>rn</th>\n",
       "    </tr>\n",
       "  </thead>\n",
       "  <tbody>\n",
       "    <tr>\n",
       "      <th>0</th>\n",
       "      <td>1</td>\n",
       "      <td>1</td>\n",
       "      <td>TMF003</td>\n",
       "      <td>MAT</td>\n",
       "      <td>false</td>\n",
       "      <td>0.0</td>\n",
       "      <td>0.0</td>\n",
       "      <td>2024-07-01</td>\n",
       "      <td>09:50:16.840000</td>\n",
       "      <td>1</td>\n",
       "    </tr>\n",
       "    <tr>\n",
       "      <th>1</th>\n",
       "      <td>1</td>\n",
       "      <td>1</td>\n",
       "      <td>TMF003</td>\n",
       "      <td>NOT</td>\n",
       "      <td>false</td>\n",
       "      <td>0.0</td>\n",
       "      <td>0.0</td>\n",
       "      <td>2024-07-01</td>\n",
       "      <td>07:58:16.506666</td>\n",
       "      <td>1</td>\n",
       "    </tr>\n",
       "    <tr>\n",
       "      <th>2</th>\n",
       "      <td>1</td>\n",
       "      <td>2</td>\n",
       "      <td>TMF011</td>\n",
       "      <td>MAT</td>\n",
       "      <td>false</td>\n",
       "      <td>0.0</td>\n",
       "      <td>0.0</td>\n",
       "      <td>2024-07-01</td>\n",
       "      <td>09:50:17.843333</td>\n",
       "      <td>1</td>\n",
       "    </tr>\n",
       "    <tr>\n",
       "      <th>3</th>\n",
       "      <td>1</td>\n",
       "      <td>2</td>\n",
       "      <td>TMF011</td>\n",
       "      <td>NOT</td>\n",
       "      <td>false</td>\n",
       "      <td>12.0</td>\n",
       "      <td>12.0</td>\n",
       "      <td>2024-07-01</td>\n",
       "      <td>07:58:17.506666</td>\n",
       "      <td>1</td>\n",
       "    </tr>\n",
       "    <tr>\n",
       "      <th>4</th>\n",
       "      <td>1</td>\n",
       "      <td>3</td>\n",
       "      <td>TMF005</td>\n",
       "      <td>MAT</td>\n",
       "      <td>false</td>\n",
       "      <td>0.0</td>\n",
       "      <td>0.0</td>\n",
       "      <td>2024-07-01</td>\n",
       "      <td>09:50:18.846666</td>\n",
       "      <td>1</td>\n",
       "    </tr>\n",
       "    <tr>\n",
       "      <th>5</th>\n",
       "      <td>1</td>\n",
       "      <td>3</td>\n",
       "      <td>TMF005</td>\n",
       "      <td>NOT</td>\n",
       "      <td>false</td>\n",
       "      <td>40.0</td>\n",
       "      <td>20.0</td>\n",
       "      <td>2024-07-01</td>\n",
       "      <td>07:58:18.510000</td>\n",
       "      <td>1</td>\n",
       "    </tr>\n",
       "    <tr>\n",
       "      <th>6</th>\n",
       "      <td>1</td>\n",
       "      <td>4</td>\n",
       "      <td>TMF012</td>\n",
       "      <td>MAT</td>\n",
       "      <td>false</td>\n",
       "      <td>0.0</td>\n",
       "      <td>0.0</td>\n",
       "      <td>2024-07-01</td>\n",
       "      <td>09:50:19.846666</td>\n",
       "      <td>1</td>\n",
       "    </tr>\n",
       "    <tr>\n",
       "      <th>7</th>\n",
       "      <td>1</td>\n",
       "      <td>4</td>\n",
       "      <td>TMF012</td>\n",
       "      <td>NOT</td>\n",
       "      <td>false</td>\n",
       "      <td>44.0</td>\n",
       "      <td>0.0</td>\n",
       "      <td>2024-07-01</td>\n",
       "      <td>07:58:19.510000</td>\n",
       "      <td>1</td>\n",
       "    </tr>\n",
       "    <tr>\n",
       "      <th>8</th>\n",
       "      <td>1</td>\n",
       "      <td>5</td>\n",
       "      <td>TMF002</td>\n",
       "      <td>MAT</td>\n",
       "      <td>false</td>\n",
       "      <td>0.0</td>\n",
       "      <td>0.0</td>\n",
       "      <td>2024-07-01</td>\n",
       "      <td>09:50:20.850000</td>\n",
       "      <td>1</td>\n",
       "    </tr>\n",
       "    <tr>\n",
       "      <th>9</th>\n",
       "      <td>1</td>\n",
       "      <td>5</td>\n",
       "      <td>TMF002</td>\n",
       "      <td>NOT</td>\n",
       "      <td>false</td>\n",
       "      <td>50.0</td>\n",
       "      <td>50.0</td>\n",
       "      <td>2024-07-01</td>\n",
       "      <td>07:58:20.510000</td>\n",
       "      <td>1</td>\n",
       "    </tr>\n",
       "    <tr>\n",
       "      <th>10</th>\n",
       "      <td>1</td>\n",
       "      <td>6</td>\n",
       "      <td>TMF001</td>\n",
       "      <td>MAT</td>\n",
       "      <td>false</td>\n",
       "      <td>0.0</td>\n",
       "      <td>0.0</td>\n",
       "      <td>2024-07-01</td>\n",
       "      <td>09:50:21.850000</td>\n",
       "      <td>1</td>\n",
       "    </tr>\n",
       "    <tr>\n",
       "      <th>11</th>\n",
       "      <td>1</td>\n",
       "      <td>6</td>\n",
       "      <td>TMF001</td>\n",
       "      <td>NOT</td>\n",
       "      <td>false</td>\n",
       "      <td>78.0</td>\n",
       "      <td>0.0</td>\n",
       "      <td>2024-07-01</td>\n",
       "      <td>07:58:21.510000</td>\n",
       "      <td>1</td>\n",
       "    </tr>\n",
       "    <tr>\n",
       "      <th>12</th>\n",
       "      <td>1</td>\n",
       "      <td>7</td>\n",
       "      <td>TMF006</td>\n",
       "      <td>MAT</td>\n",
       "      <td>false</td>\n",
       "      <td>0.0</td>\n",
       "      <td>0.0</td>\n",
       "      <td>2024-07-01</td>\n",
       "      <td>09:50:22.853333</td>\n",
       "      <td>1</td>\n",
       "    </tr>\n",
       "    <tr>\n",
       "      <th>13</th>\n",
       "      <td>1</td>\n",
       "      <td>7</td>\n",
       "      <td>TMF006</td>\n",
       "      <td>NOT</td>\n",
       "      <td>false</td>\n",
       "      <td>64.0</td>\n",
       "      <td>0.0</td>\n",
       "      <td>2024-07-01</td>\n",
       "      <td>07:58:22.510000</td>\n",
       "      <td>1</td>\n",
       "    </tr>\n",
       "    <tr>\n",
       "      <th>14</th>\n",
       "      <td>1</td>\n",
       "      <td>8</td>\n",
       "      <td>TMF014</td>\n",
       "      <td>MAT</td>\n",
       "      <td>false</td>\n",
       "      <td>0.0</td>\n",
       "      <td>0.0</td>\n",
       "      <td>2024-07-01</td>\n",
       "      <td>09:50:23.853333</td>\n",
       "      <td>1</td>\n",
       "    </tr>\n",
       "    <tr>\n",
       "      <th>15</th>\n",
       "      <td>1</td>\n",
       "      <td>8</td>\n",
       "      <td>TMF014</td>\n",
       "      <td>NOT</td>\n",
       "      <td>false</td>\n",
       "      <td>96.0</td>\n",
       "      <td>0.0</td>\n",
       "      <td>2024-07-01</td>\n",
       "      <td>07:58:23.513333</td>\n",
       "      <td>1</td>\n",
       "    </tr>\n",
       "    <tr>\n",
       "      <th>16</th>\n",
       "      <td>1</td>\n",
       "      <td>9</td>\n",
       "      <td>TMF004</td>\n",
       "      <td>MAT</td>\n",
       "      <td>false</td>\n",
       "      <td>0.0</td>\n",
       "      <td>0.0</td>\n",
       "      <td>2024-07-01</td>\n",
       "      <td>09:50:24.856666</td>\n",
       "      <td>1</td>\n",
       "    </tr>\n",
       "    <tr>\n",
       "      <th>17</th>\n",
       "      <td>1</td>\n",
       "      <td>9</td>\n",
       "      <td>TMF004</td>\n",
       "      <td>NOT</td>\n",
       "      <td>false</td>\n",
       "      <td>44.0</td>\n",
       "      <td>0.0</td>\n",
       "      <td>2024-07-01</td>\n",
       "      <td>07:58:24.513333</td>\n",
       "      <td>1</td>\n",
       "    </tr>\n",
       "    <tr>\n",
       "      <th>18</th>\n",
       "      <td>2</td>\n",
       "      <td>10</td>\n",
       "      <td>TMF008</td>\n",
       "      <td>MAT</td>\n",
       "      <td>false</td>\n",
       "      <td>0.0</td>\n",
       "      <td>0.0</td>\n",
       "      <td>2024-07-01</td>\n",
       "      <td>08:55:15.963333</td>\n",
       "      <td>1</td>\n",
       "    </tr>\n",
       "    <tr>\n",
       "      <th>19</th>\n",
       "      <td>2</td>\n",
       "      <td>10</td>\n",
       "      <td>TMF008</td>\n",
       "      <td>NOT</td>\n",
       "      <td>false</td>\n",
       "      <td>0.0</td>\n",
       "      <td>0.0</td>\n",
       "      <td>2024-07-01</td>\n",
       "      <td>07:59:15.796666</td>\n",
       "      <td>1</td>\n",
       "    </tr>\n",
       "    <tr>\n",
       "      <th>20</th>\n",
       "      <td>2</td>\n",
       "      <td>11</td>\n",
       "      <td>TMF010</td>\n",
       "      <td>MAT</td>\n",
       "      <td>false</td>\n",
       "      <td>0.0</td>\n",
       "      <td>0.0</td>\n",
       "      <td>2024-07-01</td>\n",
       "      <td>08:55:16.963333</td>\n",
       "      <td>1</td>\n",
       "    </tr>\n",
       "    <tr>\n",
       "      <th>21</th>\n",
       "      <td>2</td>\n",
       "      <td>11</td>\n",
       "      <td>TMF010</td>\n",
       "      <td>NOT</td>\n",
       "      <td>false</td>\n",
       "      <td>0.0</td>\n",
       "      <td>0.0</td>\n",
       "      <td>2024-07-01</td>\n",
       "      <td>07:59:16.796666</td>\n",
       "      <td>1</td>\n",
       "    </tr>\n",
       "    <tr>\n",
       "      <th>22</th>\n",
       "      <td>2</td>\n",
       "      <td>12</td>\n",
       "      <td>TMF007</td>\n",
       "      <td>MAT</td>\n",
       "      <td>false</td>\n",
       "      <td>0.0</td>\n",
       "      <td>0.0</td>\n",
       "      <td>2024-07-01</td>\n",
       "      <td>08:55:17.963333</td>\n",
       "      <td>1</td>\n",
       "    </tr>\n",
       "    <tr>\n",
       "      <th>23</th>\n",
       "      <td>2</td>\n",
       "      <td>12</td>\n",
       "      <td>TMF007</td>\n",
       "      <td>NOT</td>\n",
       "      <td>false</td>\n",
       "      <td>0.0</td>\n",
       "      <td>0.0</td>\n",
       "      <td>2024-07-01</td>\n",
       "      <td>07:59:17.803333</td>\n",
       "      <td>1</td>\n",
       "    </tr>\n",
       "    <tr>\n",
       "      <th>24</th>\n",
       "      <td>2</td>\n",
       "      <td>13</td>\n",
       "      <td>TMF013</td>\n",
       "      <td>MAT</td>\n",
       "      <td>false</td>\n",
       "      <td>0.0</td>\n",
       "      <td>0.0</td>\n",
       "      <td>2024-07-01</td>\n",
       "      <td>08:55:18.966666</td>\n",
       "      <td>1</td>\n",
       "    </tr>\n",
       "    <tr>\n",
       "      <th>25</th>\n",
       "      <td>2</td>\n",
       "      <td>13</td>\n",
       "      <td>TMF013</td>\n",
       "      <td>NOT</td>\n",
       "      <td>false</td>\n",
       "      <td>0.0</td>\n",
       "      <td>0.0</td>\n",
       "      <td>2024-07-01</td>\n",
       "      <td>07:59:18.803333</td>\n",
       "      <td>1</td>\n",
       "    </tr>\n",
       "    <tr>\n",
       "      <th>26</th>\n",
       "      <td>2</td>\n",
       "      <td>14</td>\n",
       "      <td>TMF009</td>\n",
       "      <td>MAT</td>\n",
       "      <td>false</td>\n",
       "      <td>0.0</td>\n",
       "      <td>0.0</td>\n",
       "      <td>2024-07-01</td>\n",
       "      <td>08:55:19.966666</td>\n",
       "      <td>1</td>\n",
       "    </tr>\n",
       "    <tr>\n",
       "      <th>27</th>\n",
       "      <td>2</td>\n",
       "      <td>14</td>\n",
       "      <td>TMF009</td>\n",
       "      <td>NOT</td>\n",
       "      <td>false</td>\n",
       "      <td>0.0</td>\n",
       "      <td>0.0</td>\n",
       "      <td>2024-07-01</td>\n",
       "      <td>07:59:19.803333</td>\n",
       "      <td>1</td>\n",
       "    </tr>\n",
       "  </tbody>\n",
       "</table>\n",
       "</div>"
      ],
      "text/plain": [
       "   fabrica  linha maquina_id turno status  total_ciclos  total_produzido  \\\n",
       "0        1      1     TMF003   MAT  false           0.0              0.0   \n",
       "1        1      1     TMF003   NOT  false           0.0              0.0   \n",
       "2        1      2     TMF011   MAT  false           0.0              0.0   \n",
       "3        1      2     TMF011   NOT  false          12.0             12.0   \n",
       "4        1      3     TMF005   MAT  false           0.0              0.0   \n",
       "5        1      3     TMF005   NOT  false          40.0             20.0   \n",
       "6        1      4     TMF012   MAT  false           0.0              0.0   \n",
       "7        1      4     TMF012   NOT  false          44.0              0.0   \n",
       "8        1      5     TMF002   MAT  false           0.0              0.0   \n",
       "9        1      5     TMF002   NOT  false          50.0             50.0   \n",
       "10       1      6     TMF001   MAT  false           0.0              0.0   \n",
       "11       1      6     TMF001   NOT  false          78.0              0.0   \n",
       "12       1      7     TMF006   MAT  false           0.0              0.0   \n",
       "13       1      7     TMF006   NOT  false          64.0              0.0   \n",
       "14       1      8     TMF014   MAT  false           0.0              0.0   \n",
       "15       1      8     TMF014   NOT  false          96.0              0.0   \n",
       "16       1      9     TMF004   MAT  false           0.0              0.0   \n",
       "17       1      9     TMF004   NOT  false          44.0              0.0   \n",
       "18       2     10     TMF008   MAT  false           0.0              0.0   \n",
       "19       2     10     TMF008   NOT  false           0.0              0.0   \n",
       "20       2     11     TMF010   MAT  false           0.0              0.0   \n",
       "21       2     11     TMF010   NOT  false           0.0              0.0   \n",
       "22       2     12     TMF007   MAT  false           0.0              0.0   \n",
       "23       2     12     TMF007   NOT  false           0.0              0.0   \n",
       "24       2     13     TMF013   MAT  false           0.0              0.0   \n",
       "25       2     13     TMF013   NOT  false           0.0              0.0   \n",
       "26       2     14     TMF009   MAT  false           0.0              0.0   \n",
       "27       2     14     TMF009   NOT  false           0.0              0.0   \n",
       "\n",
       "   data_registro    hora_registro  rn  \n",
       "0     2024-07-01  09:50:16.840000   1  \n",
       "1     2024-07-01  07:58:16.506666   1  \n",
       "2     2024-07-01  09:50:17.843333   1  \n",
       "3     2024-07-01  07:58:17.506666   1  \n",
       "4     2024-07-01  09:50:18.846666   1  \n",
       "5     2024-07-01  07:58:18.510000   1  \n",
       "6     2024-07-01  09:50:19.846666   1  \n",
       "7     2024-07-01  07:58:19.510000   1  \n",
       "8     2024-07-01  09:50:20.850000   1  \n",
       "9     2024-07-01  07:58:20.510000   1  \n",
       "10    2024-07-01  09:50:21.850000   1  \n",
       "11    2024-07-01  07:58:21.510000   1  \n",
       "12    2024-07-01  09:50:22.853333   1  \n",
       "13    2024-07-01  07:58:22.510000   1  \n",
       "14    2024-07-01  09:50:23.853333   1  \n",
       "15    2024-07-01  07:58:23.513333   1  \n",
       "16    2024-07-01  09:50:24.856666   1  \n",
       "17    2024-07-01  07:58:24.513333   1  \n",
       "18    2024-07-01  08:55:15.963333   1  \n",
       "19    2024-07-01  07:59:15.796666   1  \n",
       "20    2024-07-01  08:55:16.963333   1  \n",
       "21    2024-07-01  07:59:16.796666   1  \n",
       "22    2024-07-01  08:55:17.963333   1  \n",
       "23    2024-07-01  07:59:17.803333   1  \n",
       "24    2024-07-01  08:55:18.966666   1  \n",
       "25    2024-07-01  07:59:18.803333   1  \n",
       "26    2024-07-01  08:55:19.966666   1  \n",
       "27    2024-07-01  07:59:19.803333   1  "
      ]
     },
     "execution_count": 10,
     "metadata": {},
     "output_type": "execute_result"
    }
   ],
   "source": [
    "df_info_production"
   ]
  },
  {
   "cell_type": "code",
   "execution_count": 11,
   "metadata": {},
   "outputs": [
    {
     "data": {
      "text/html": [
       "<div>\n",
       "<style scoped>\n",
       "    .dataframe tbody tr th:only-of-type {\n",
       "        vertical-align: middle;\n",
       "    }\n",
       "\n",
       "    .dataframe tbody tr th {\n",
       "        vertical-align: top;\n",
       "    }\n",
       "\n",
       "    .dataframe thead th {\n",
       "        text-align: right;\n",
       "    }\n",
       "</style>\n",
       "<table border=\"1\" class=\"dataframe\">\n",
       "  <thead>\n",
       "    <tr style=\"text-align: right;\">\n",
       "      <th></th>\n",
       "      <th>recno</th>\n",
       "      <th>linha</th>\n",
       "      <th>maquina_id</th>\n",
       "      <th>bdj_vazias</th>\n",
       "      <th>bdj_retrabalho</th>\n",
       "      <th>descarte_paes</th>\n",
       "      <th>descarte_paes_pasta</th>\n",
       "      <th>descarte_pasta</th>\n",
       "      <th>data_registro</th>\n",
       "      <th>hora_registro</th>\n",
       "    </tr>\n",
       "  </thead>\n",
       "  <tbody>\n",
       "  </tbody>\n",
       "</table>\n",
       "</div>"
      ],
      "text/plain": [
       "Empty DataFrame\n",
       "Columns: [recno, linha, maquina_id, bdj_vazias, bdj_retrabalho, descarte_paes, descarte_paes_pasta, descarte_pasta, data_registro, hora_registro]\n",
       "Index: []"
      ]
     },
     "execution_count": 11,
     "metadata": {},
     "output_type": "execute_result"
    }
   ],
   "source": [
    "df_quality.head(20)"
   ]
  },
  {
   "cell_type": "markdown",
   "metadata": {},
   "source": [
    "# Limpeza de dados e análise exploratória\n"
   ]
  },
  {
   "cell_type": "markdown",
   "metadata": {},
   "source": [
    "## Análise de dados - Clean Data\n"
   ]
  },
  {
   "cell_type": "code",
   "execution_count": 12,
   "metadata": {
    "notebookRunGroups": {
     "groupValue": "2"
    }
   },
   "outputs": [],
   "source": [
    "# service/clean_data.py\n",
    "\n",
    "\n",
    "# cSpell: disable=invalid-name\n",
    "class CleanData:\n",
    "    \"\"\"\n",
    "    Essa classe é responsável por limpar os dados lidos do banco de dados.\n",
    "    \"\"\"\n",
    "\n",
    "    def __init__(self, df_ihm, df_info, df_info_production):\n",
    "        self.df_ihm = df_ihm\n",
    "        self.df_info = df_info\n",
    "        self.df_info_production = df_info_production\n",
    "\n",
    "    @staticmethod\n",
    "    def __clean_basics(df: pd.DataFrame) -> pd.DataFrame:\n",
    "        \"\"\"\n",
    "        Limpa os dados básicos de um DataFrame.\n",
    "        \"\"\"\n",
    "\n",
    "        # Remove valores duplicados\n",
    "        df = df.drop_duplicates()\n",
    "\n",
    "        # Remove linhas com valores nulos\n",
    "        df = df.dropna(subset=[\"maquina_id\", \"data_registro\", \"hora_registro\"])\n",
    "\n",
    "        # Converte a coluna 'hora_registro' para string e remove os milissegundos\n",
    "        df[\"hora_registro\"] = df[\"hora_registro\"].astype(str).str.split(\".\").str[0]\n",
    "\n",
    "        # Converte as colunas 'data_registro' e 'hora_registro' para datetime\n",
    "        df[\"data_registro\"] = pd.to_datetime(df[\"data_registro\"])\n",
    "        df[\"hora_registro\"] = pd.to_datetime(df[\"hora_registro\"], format=\"%H:%M:%S\").dt.time\n",
    "\n",
    "        # Substitui os valores NaN por 0 antes de converter para int\n",
    "        df[\"linha\"] = df[\"linha\"].fillna(0).astype(int)\n",
    "\n",
    "        # Coluna linha para int\n",
    "        df[\"linha\"] = df[\"linha\"].astype(int)\n",
    "\n",
    "        # Remover onde a 'linha' é 0\n",
    "        df = df[df[\"linha\"] != 0]\n",
    "\n",
    "        return df\n",
    "\n",
    "    @staticmethod\n",
    "    def __clean_info(df: pd.DataFrame) -> pd.DataFrame:\n",
    "        \"\"\"\n",
    "        Limpa os dados de informações.\n",
    "        Fica desatualizado após implementação das IHMs.\n",
    "        Manter apenas para código legado.\n",
    "        \"\"\"\n",
    "\n",
    "        # Reordenar o dataframe\n",
    "        df = df.sort_values(by=[\"maquina_id\", \"data_registro\", \"hora_registro\"])\n",
    "\n",
    "        # Remover a primeira entrada caso seja do turno \"VES\"\n",
    "        mask = (df[\"turno\"] == \"VES\") & (df[\"maquina_id\"] != df[\"maquina_id\"].shift())\n",
    "        df = df[~mask]\n",
    "\n",
    "        # Ajustar o turno VES caso a hora da entrada passe de 00:00, para 23:59 do dia anterior\n",
    "        mask = (\n",
    "            (df[\"turno\"] == \"VES\")\n",
    "            & (df[\"hora_registro\"] > time(0, 0, 0))\n",
    "            & (df[\"hora_registro\"] < time(0, 5, 0))\n",
    "        )\n",
    "\n",
    "        df.loc[mask, \"hora_registro\"] = time(23, 59, 59)\n",
    "        df.loc[mask, \"data_registro\"] = df.loc[mask, \"data_registro\"] - timedelta(days=1)\n",
    "\n",
    "        # Reordenar o dataframe\n",
    "        df = df.sort_values(by=[\"linha\", \"data_registro\", \"hora_registro\"])\n",
    "\n",
    "        # Reiniciar o índice\n",
    "        df = df.reset_index(drop=True)\n",
    "\n",
    "        return df\n",
    "\n",
    "    @staticmethod\n",
    "    def __clean_prod(df: pd.DataFrame) -> pd.DataFrame:\n",
    "        \"\"\"\n",
    "        Limpa os dados de produção.\n",
    "        \"\"\"\n",
    "\n",
    "        # Coluna auxiliar para ordenar os turnos\n",
    "        df[\"turno_aux\"] = df[\"turno\"].map({\"MAT\": 2, \"VES\": 3, \"NOT\": 1})\n",
    "\n",
    "        # Ordenar os valores\n",
    "        df = df.sort_values(by=[\"linha\", \"data_registro\", \"turno_aux\"])\n",
    "\n",
    "        # Remover a coluna auxiliar\n",
    "        df = df.drop(columns=[\"turno_aux\", \"rn\", \"status\"])\n",
    "\n",
    "        # Coluna linha para int\n",
    "        df[\"linha\"] = df[\"linha\"].astype(int)\n",
    "\n",
    "        # Reiniciar o índice\n",
    "        df = df.reset_index(drop=True)\n",
    "\n",
    "        return df\n",
    "\n",
    "    def clean_data(self) -> tuple:\n",
    "        \"\"\"\n",
    "        Limpa os dados lidos do banco de dados.\n",
    "        Retorna na ordem: df_ihm, df_info, df_info_production\n",
    "        \"\"\"\n",
    "\n",
    "        # Limpando os dados(removendo linhas duplicadas ou nulas em informações importantes)\n",
    "        self.df_ihm = self.__clean_basics(self.df_ihm)\n",
    "        self.df_info = self.__clean_basics(self.df_info)\n",
    "        self.df_info_production = self.__clean_basics(self.df_info_production)\n",
    "\n",
    "        # Ajustando o status\n",
    "        # Ajusta nomenclatura do status\n",
    "        self.df_info[\"status\"] = np.where(self.df_info[\"status\"] == \"true\", \"rodando\", \"parada\")\n",
    "\n",
    "        # Ajustes nas informações de produção\n",
    "        self.df_info_production = self.__clean_prod(self.df_info_production)\n",
    "\n",
    "        # NOTE: A fonção abaixo ficará desatualizada após a implementação das IHMs\n",
    "        self.df_info = self.__clean_info(self.df_info)\n",
    "\n",
    "        return self.df_ihm, self.df_info, self.df_info_production\n",
    "\n",
    "    def clean_prod_discard_data(self, df: pd.DataFrame):\n",
    "        # Discartar coluna recno\n",
    "        df = df.drop(columns=[\"recno\"])\n",
    "\n",
    "        # Arredondar valores para float com 3 casas decimais\n",
    "        df.bdj_vazias = df.bdj_vazias.round(3)\n",
    "        df.bdj_retrabalho = df.bdj_retrabalho.round(3)\n",
    "        df.descarte_paes_pasta = df.descarte_paes_pasta.round(3)\n",
    "        df.descarte_paes = df.descarte_paes.round(3)\n",
    "        df.descarte_pasta = df.descarte_pasta.round(3)\n",
    "\n",
    "        # Pesos\n",
    "        peso_bandejas = 0.028\n",
    "        peso_saco = 0.080\n",
    "\n",
    "        # Calcular descarte bandejas, caso o valor seja maior que 0\n",
    "        df.loc[df.bdj_vazias > 0, \"bdj_vazias\"] = (\n",
    "            (df.bdj_vazias - peso_saco) / peso_bandejas\n",
    "        ).round(0)\n",
    "        df.loc[df.bdj_retrabalho > 0, \"bdj_retrabalho\"] = (\n",
    "            (df.bdj_retrabalho - peso_saco) / peso_bandejas\n",
    "        ).round(0)\n",
    "\n",
    "        # Tranforma em inteiro\n",
    "        df.bdj_vazias = df.bdj_vazias.astype(int)\n",
    "        df.bdj_retrabalho = df.bdj_retrabalho.astype(int)\n",
    "\n",
    "        # Se o valor for menor que 0, transforma em 0\n",
    "        df.loc[df.bdj_vazias < 0, \"bdj_vazias\"] = 0\n",
    "        df.loc[df.bdj_retrabalho < 0, \"bdj_retrabalho\"] = 0\n",
    "\n",
    "        # Definir cria coluna auxiliar com o turno (MAT, VES, NOT) que muda a cada 8 horas (8, 16, 0)\n",
    "        df[\"turno\"] = df.hora_registro.apply(lambda x: x.hour) // 8\n",
    "        df.turno = df.turno.map({0: \"NOT\", 1: \"MAT\", 2: \"VES\"})\n",
    "        df = df.drop(columns=[\"hora_registro\"])\n",
    "\n",
    "        # Agrupar por turno e data e linha\n",
    "        df = (\n",
    "            df.groupby([\"linha\", \"maquina_id\", \"data_registro\", \"turno\"])\n",
    "            .sum()\n",
    "            .round(3)\n",
    "            .reset_index()\n",
    "        )\n",
    "\n",
    "        return df\n",
    "\n",
    "\n",
    "clean_data = CleanData(df_ihm.copy(), df_info.copy(), df_info_production.copy())\n",
    "df_ihm_cleaned, df_info_cleaned, df_info_production_clean = clean_data.clean_data()\n",
    "df_ihm_discard = clean_data.clean_prod_discard_data(df_quality.copy())"
   ]
  },
  {
   "cell_type": "markdown",
   "metadata": {},
   "source": [
    "### Saída de dados limpos\n"
   ]
  },
  {
   "cell_type": "code",
   "execution_count": 13,
   "metadata": {
    "notebookRunGroups": {
     "groupValue": "2"
    }
   },
   "outputs": [
    {
     "data": {
      "text/html": [
       "<div>\n",
       "<style scoped>\n",
       "    .dataframe tbody tr th:only-of-type {\n",
       "        vertical-align: middle;\n",
       "    }\n",
       "\n",
       "    .dataframe tbody tr th {\n",
       "        vertical-align: top;\n",
       "    }\n",
       "\n",
       "    .dataframe thead th {\n",
       "        text-align: right;\n",
       "    }\n",
       "</style>\n",
       "<table border=\"1\" class=\"dataframe\">\n",
       "  <thead>\n",
       "    <tr style=\"text-align: right;\">\n",
       "      <th></th>\n",
       "      <th>recno</th>\n",
       "      <th>linha</th>\n",
       "      <th>maquina_id</th>\n",
       "      <th>motivo</th>\n",
       "      <th>equipamento</th>\n",
       "      <th>problema</th>\n",
       "      <th>causa</th>\n",
       "      <th>os_numero</th>\n",
       "      <th>operador_id</th>\n",
       "      <th>data_registro</th>\n",
       "      <th>hora_registro</th>\n",
       "    </tr>\n",
       "  </thead>\n",
       "  <tbody>\n",
       "    <tr>\n",
       "      <th>0</th>\n",
       "      <td>5935</td>\n",
       "      <td>2</td>\n",
       "      <td>TMF011</td>\n",
       "      <td>Ajustes</td>\n",
       "      <td>Termoformadora</td>\n",
       "      <td>Troca de Bobina</td>\n",
       "      <td>Troca de Bobina Inferior</td>\n",
       "      <td>0</td>\n",
       "      <td>1643</td>\n",
       "      <td>2024-07-01</td>\n",
       "      <td>00:00:44</td>\n",
       "    </tr>\n",
       "    <tr>\n",
       "      <th>1</th>\n",
       "      <td>5936</td>\n",
       "      <td>2</td>\n",
       "      <td>TMF011</td>\n",
       "      <td>Parada Programada</td>\n",
       "      <td></td>\n",
       "      <td>Parada Planejada</td>\n",
       "      <td>Sem Produção</td>\n",
       "      <td>0</td>\n",
       "      <td>434</td>\n",
       "      <td>2024-07-01</td>\n",
       "      <td>00:01:35</td>\n",
       "    </tr>\n",
       "    <tr>\n",
       "      <th>2</th>\n",
       "      <td>5937</td>\n",
       "      <td>4</td>\n",
       "      <td>TMF012</td>\n",
       "      <td>Ajustes</td>\n",
       "      <td>Termoformadora</td>\n",
       "      <td>Troca de Bobina</td>\n",
       "      <td>Troca de Bobina Inferior</td>\n",
       "      <td>0</td>\n",
       "      <td>434</td>\n",
       "      <td>2024-07-01</td>\n",
       "      <td>00:08:53</td>\n",
       "    </tr>\n",
       "    <tr>\n",
       "      <th>3</th>\n",
       "      <td>5938</td>\n",
       "      <td>3</td>\n",
       "      <td>TMF005</td>\n",
       "      <td>Parada Programada</td>\n",
       "      <td></td>\n",
       "      <td>Parada Planejada</td>\n",
       "      <td>Backup</td>\n",
       "      <td>0</td>\n",
       "      <td>1643</td>\n",
       "      <td>2024-07-01</td>\n",
       "      <td>00:09:07</td>\n",
       "    </tr>\n",
       "    <tr>\n",
       "      <th>4</th>\n",
       "      <td>5939</td>\n",
       "      <td>6</td>\n",
       "      <td>TMF001</td>\n",
       "      <td>Limpeza</td>\n",
       "      <td></td>\n",
       "      <td>Limpeza para parada de Fábrica</td>\n",
       "      <td></td>\n",
       "      <td>0</td>\n",
       "      <td>1373</td>\n",
       "      <td>2024-07-01</td>\n",
       "      <td>00:10:01</td>\n",
       "    </tr>\n",
       "    <tr>\n",
       "      <th>5</th>\n",
       "      <td>5940</td>\n",
       "      <td>9</td>\n",
       "      <td>TMF004</td>\n",
       "      <td>Parada Programada</td>\n",
       "      <td></td>\n",
       "      <td>Parada Planejada</td>\n",
       "      <td>Backup</td>\n",
       "      <td>0</td>\n",
       "      <td>434</td>\n",
       "      <td>2024-07-01</td>\n",
       "      <td>00:12:35</td>\n",
       "    </tr>\n",
       "    <tr>\n",
       "      <th>6</th>\n",
       "      <td>5941</td>\n",
       "      <td>8</td>\n",
       "      <td>TMF014</td>\n",
       "      <td>Limpeza</td>\n",
       "      <td></td>\n",
       "      <td>Limpeza para parada de Fábrica</td>\n",
       "      <td></td>\n",
       "      <td>0</td>\n",
       "      <td>1646</td>\n",
       "      <td>2024-07-01</td>\n",
       "      <td>00:13:34</td>\n",
       "    </tr>\n",
       "    <tr>\n",
       "      <th>7</th>\n",
       "      <td>5942</td>\n",
       "      <td>7</td>\n",
       "      <td>TMF006</td>\n",
       "      <td>Limpeza</td>\n",
       "      <td></td>\n",
       "      <td>Limpeza para parada de Fábrica</td>\n",
       "      <td></td>\n",
       "      <td>0</td>\n",
       "      <td>1643</td>\n",
       "      <td>2024-07-01</td>\n",
       "      <td>00:16:28</td>\n",
       "    </tr>\n",
       "    <tr>\n",
       "      <th>8</th>\n",
       "      <td>5943</td>\n",
       "      <td>3</td>\n",
       "      <td>TMF005</td>\n",
       "      <td>Qualidade</td>\n",
       "      <td>Termoformadora</td>\n",
       "      <td>Parâmetros de Qualidade</td>\n",
       "      <td>Esquadro da bandeja inadequado</td>\n",
       "      <td>0</td>\n",
       "      <td>1373</td>\n",
       "      <td>2024-07-01</td>\n",
       "      <td>00:17:32</td>\n",
       "    </tr>\n",
       "    <tr>\n",
       "      <th>9</th>\n",
       "      <td>5944</td>\n",
       "      <td>5</td>\n",
       "      <td>TMF002</td>\n",
       "      <td>Limpeza</td>\n",
       "      <td></td>\n",
       "      <td>Limpeza para parada de Fábrica</td>\n",
       "      <td></td>\n",
       "      <td>0</td>\n",
       "      <td>1643</td>\n",
       "      <td>2024-07-01</td>\n",
       "      <td>00:17:44</td>\n",
       "    </tr>\n",
       "    <tr>\n",
       "      <th>10</th>\n",
       "      <td>5945</td>\n",
       "      <td>3</td>\n",
       "      <td>TMF005</td>\n",
       "      <td>Qualidade</td>\n",
       "      <td>Termoformadora</td>\n",
       "      <td>Parâmetros de Qualidade</td>\n",
       "      <td>Esquadro da bandeja inadequado</td>\n",
       "      <td>0</td>\n",
       "      <td>1373</td>\n",
       "      <td>2024-07-01</td>\n",
       "      <td>00:18:46</td>\n",
       "    </tr>\n",
       "    <tr>\n",
       "      <th>11</th>\n",
       "      <td>5946</td>\n",
       "      <td>4</td>\n",
       "      <td>TMF012</td>\n",
       "      <td>Ajustes</td>\n",
       "      <td>Termoformadora</td>\n",
       "      <td>Troca de Bobina</td>\n",
       "      <td>Troca de Bobina Inferior</td>\n",
       "      <td>0</td>\n",
       "      <td>434</td>\n",
       "      <td>2024-07-01</td>\n",
       "      <td>00:18:52</td>\n",
       "    </tr>\n",
       "    <tr>\n",
       "      <th>12</th>\n",
       "      <td>5947</td>\n",
       "      <td>3</td>\n",
       "      <td>TMF005</td>\n",
       "      <td>Parada Programada</td>\n",
       "      <td></td>\n",
       "      <td>Parada Planejada</td>\n",
       "      <td>Sem Produção</td>\n",
       "      <td>0</td>\n",
       "      <td>1373</td>\n",
       "      <td>2024-07-01</td>\n",
       "      <td>00:20:11</td>\n",
       "    </tr>\n",
       "    <tr>\n",
       "      <th>13</th>\n",
       "      <td>5948</td>\n",
       "      <td>4</td>\n",
       "      <td>TMF012</td>\n",
       "      <td>Ajustes</td>\n",
       "      <td>Termoformadora</td>\n",
       "      <td>Troca de Bobina</td>\n",
       "      <td>Troca de Bobina Inferior</td>\n",
       "      <td>0</td>\n",
       "      <td>434</td>\n",
       "      <td>2024-07-01</td>\n",
       "      <td>00:20:22</td>\n",
       "    </tr>\n",
       "    <tr>\n",
       "      <th>14</th>\n",
       "      <td>5949</td>\n",
       "      <td>4</td>\n",
       "      <td>TMF012</td>\n",
       "      <td>Ajustes</td>\n",
       "      <td>Termoformadora</td>\n",
       "      <td>Troca de Bobina</td>\n",
       "      <td>Troca de Bobina Inferior</td>\n",
       "      <td>0</td>\n",
       "      <td>434</td>\n",
       "      <td>2024-07-01</td>\n",
       "      <td>00:21:04</td>\n",
       "    </tr>\n",
       "    <tr>\n",
       "      <th>15</th>\n",
       "      <td>5950</td>\n",
       "      <td>6</td>\n",
       "      <td>TMF001</td>\n",
       "      <td>Limpeza</td>\n",
       "      <td></td>\n",
       "      <td>Limpeza para parada de Fábrica</td>\n",
       "      <td></td>\n",
       "      <td>0</td>\n",
       "      <td>1373</td>\n",
       "      <td>2024-07-01</td>\n",
       "      <td>00:21:23</td>\n",
       "    </tr>\n",
       "    <tr>\n",
       "      <th>16</th>\n",
       "      <td>5951</td>\n",
       "      <td>4</td>\n",
       "      <td>TMF012</td>\n",
       "      <td>Parada Programada</td>\n",
       "      <td></td>\n",
       "      <td>Parada Planejada</td>\n",
       "      <td>Sem Produção</td>\n",
       "      <td>0</td>\n",
       "      <td>434</td>\n",
       "      <td>2024-07-01</td>\n",
       "      <td>00:21:38</td>\n",
       "    </tr>\n",
       "    <tr>\n",
       "      <th>17</th>\n",
       "      <td>5952</td>\n",
       "      <td>6</td>\n",
       "      <td>TMF001</td>\n",
       "      <td>Limpeza</td>\n",
       "      <td></td>\n",
       "      <td>Limpeza para parada de Fábrica</td>\n",
       "      <td></td>\n",
       "      <td>0</td>\n",
       "      <td>1373</td>\n",
       "      <td>2024-07-01</td>\n",
       "      <td>00:22:07</td>\n",
       "    </tr>\n",
       "    <tr>\n",
       "      <th>18</th>\n",
       "      <td>5953</td>\n",
       "      <td>6</td>\n",
       "      <td>TMF001</td>\n",
       "      <td>Limpeza</td>\n",
       "      <td></td>\n",
       "      <td>Limpeza para parada de Fábrica</td>\n",
       "      <td></td>\n",
       "      <td>0</td>\n",
       "      <td>1373</td>\n",
       "      <td>2024-07-01</td>\n",
       "      <td>00:22:38</td>\n",
       "    </tr>\n",
       "    <tr>\n",
       "      <th>19</th>\n",
       "      <td>5954</td>\n",
       "      <td>5</td>\n",
       "      <td>TMF002</td>\n",
       "      <td>Qualidade</td>\n",
       "      <td>Termoformadora</td>\n",
       "      <td>Parâmetros de Qualidade</td>\n",
       "      <td>Data fora de posição</td>\n",
       "      <td>0</td>\n",
       "      <td>1373</td>\n",
       "      <td>2024-07-01</td>\n",
       "      <td>00:23:28</td>\n",
       "    </tr>\n",
       "    <tr>\n",
       "      <th>20</th>\n",
       "      <td>5955</td>\n",
       "      <td>9</td>\n",
       "      <td>TMF004</td>\n",
       "      <td>Limpeza</td>\n",
       "      <td></td>\n",
       "      <td>Limpeza para parada de Fábrica</td>\n",
       "      <td></td>\n",
       "      <td>0</td>\n",
       "      <td>803</td>\n",
       "      <td>2024-07-01</td>\n",
       "      <td>00:24:42</td>\n",
       "    </tr>\n",
       "    <tr>\n",
       "      <th>21</th>\n",
       "      <td>5956</td>\n",
       "      <td>5</td>\n",
       "      <td>TMF002</td>\n",
       "      <td>Qualidade</td>\n",
       "      <td>Termoformadora</td>\n",
       "      <td>Parâmetros de Qualidade</td>\n",
       "      <td>Esquadro da bandeja inadequado</td>\n",
       "      <td>0</td>\n",
       "      <td>1373</td>\n",
       "      <td>2024-07-01</td>\n",
       "      <td>00:24:44</td>\n",
       "    </tr>\n",
       "    <tr>\n",
       "      <th>22</th>\n",
       "      <td>5957</td>\n",
       "      <td>9</td>\n",
       "      <td>TMF004</td>\n",
       "      <td>Limpeza</td>\n",
       "      <td></td>\n",
       "      <td>Limpeza para parada de Fábrica</td>\n",
       "      <td></td>\n",
       "      <td>0</td>\n",
       "      <td>803</td>\n",
       "      <td>2024-07-01</td>\n",
       "      <td>00:25:07</td>\n",
       "    </tr>\n",
       "    <tr>\n",
       "      <th>23</th>\n",
       "      <td>5958</td>\n",
       "      <td>6</td>\n",
       "      <td>TMF001</td>\n",
       "      <td>Parada Programada</td>\n",
       "      <td></td>\n",
       "      <td>Parada Planejada</td>\n",
       "      <td>Sem Produção</td>\n",
       "      <td>0</td>\n",
       "      <td>1373</td>\n",
       "      <td>2024-07-01</td>\n",
       "      <td>00:25:08</td>\n",
       "    </tr>\n",
       "    <tr>\n",
       "      <th>24</th>\n",
       "      <td>5959</td>\n",
       "      <td>8</td>\n",
       "      <td>TMF014</td>\n",
       "      <td>Limpeza</td>\n",
       "      <td></td>\n",
       "      <td>Limpeza para parada de Fábrica</td>\n",
       "      <td></td>\n",
       "      <td>0</td>\n",
       "      <td>1646</td>\n",
       "      <td>2024-07-01</td>\n",
       "      <td>00:25:29</td>\n",
       "    </tr>\n",
       "    <tr>\n",
       "      <th>25</th>\n",
       "      <td>5960</td>\n",
       "      <td>9</td>\n",
       "      <td>TMF004</td>\n",
       "      <td>Limpeza</td>\n",
       "      <td></td>\n",
       "      <td>Limpeza para parada de Fábrica</td>\n",
       "      <td></td>\n",
       "      <td>0</td>\n",
       "      <td>803</td>\n",
       "      <td>2024-07-01</td>\n",
       "      <td>00:25:57</td>\n",
       "    </tr>\n",
       "    <tr>\n",
       "      <th>26</th>\n",
       "      <td>5961</td>\n",
       "      <td>9</td>\n",
       "      <td>TMF004</td>\n",
       "      <td>Limpeza</td>\n",
       "      <td></td>\n",
       "      <td>Limpeza para parada de Fábrica</td>\n",
       "      <td></td>\n",
       "      <td>0</td>\n",
       "      <td>803</td>\n",
       "      <td>2024-07-01</td>\n",
       "      <td>00:26:09</td>\n",
       "    </tr>\n",
       "    <tr>\n",
       "      <th>27</th>\n",
       "      <td>5962</td>\n",
       "      <td>5</td>\n",
       "      <td>TMF002</td>\n",
       "      <td>Parada Programada</td>\n",
       "      <td></td>\n",
       "      <td>Parada Planejada</td>\n",
       "      <td>Sem Produção</td>\n",
       "      <td>0</td>\n",
       "      <td>1373</td>\n",
       "      <td>2024-07-01</td>\n",
       "      <td>00:26:28</td>\n",
       "    </tr>\n",
       "    <tr>\n",
       "      <th>28</th>\n",
       "      <td>5963</td>\n",
       "      <td>9</td>\n",
       "      <td>TMF004</td>\n",
       "      <td>Limpeza</td>\n",
       "      <td></td>\n",
       "      <td>Limpeza para parada de Fábrica</td>\n",
       "      <td></td>\n",
       "      <td>0</td>\n",
       "      <td>803</td>\n",
       "      <td>2024-07-01</td>\n",
       "      <td>00:26:58</td>\n",
       "    </tr>\n",
       "    <tr>\n",
       "      <th>29</th>\n",
       "      <td>5964</td>\n",
       "      <td>8</td>\n",
       "      <td>TMF014</td>\n",
       "      <td>Limpeza</td>\n",
       "      <td></td>\n",
       "      <td>Limpeza para parada de Fábrica</td>\n",
       "      <td></td>\n",
       "      <td>0</td>\n",
       "      <td>1646</td>\n",
       "      <td>2024-07-01</td>\n",
       "      <td>00:27:56</td>\n",
       "    </tr>\n",
       "    <tr>\n",
       "      <th>30</th>\n",
       "      <td>5965</td>\n",
       "      <td>9</td>\n",
       "      <td>TMF004</td>\n",
       "      <td>Limpeza</td>\n",
       "      <td></td>\n",
       "      <td>Limpeza para parada de Fábrica</td>\n",
       "      <td></td>\n",
       "      <td>0</td>\n",
       "      <td>803</td>\n",
       "      <td>2024-07-01</td>\n",
       "      <td>00:29:01</td>\n",
       "    </tr>\n",
       "    <tr>\n",
       "      <th>31</th>\n",
       "      <td>5966</td>\n",
       "      <td>8</td>\n",
       "      <td>TMF014</td>\n",
       "      <td>Limpeza</td>\n",
       "      <td></td>\n",
       "      <td>Limpeza para parada de Fábrica</td>\n",
       "      <td></td>\n",
       "      <td>0</td>\n",
       "      <td>1646</td>\n",
       "      <td>2024-07-01</td>\n",
       "      <td>00:31:52</td>\n",
       "    </tr>\n",
       "    <tr>\n",
       "      <th>32</th>\n",
       "      <td>5967</td>\n",
       "      <td>9</td>\n",
       "      <td>TMF004</td>\n",
       "      <td>Limpeza</td>\n",
       "      <td></td>\n",
       "      <td>Limpeza para parada de Fábrica</td>\n",
       "      <td></td>\n",
       "      <td>0</td>\n",
       "      <td>803</td>\n",
       "      <td>2024-07-01</td>\n",
       "      <td>00:33:38</td>\n",
       "    </tr>\n",
       "    <tr>\n",
       "      <th>33</th>\n",
       "      <td>5968</td>\n",
       "      <td>7</td>\n",
       "      <td>TMF006</td>\n",
       "      <td>Ajustes</td>\n",
       "      <td>Termoformadora</td>\n",
       "      <td>Troca de Bobina</td>\n",
       "      <td>Troca de Bobina Inferior</td>\n",
       "      <td>0</td>\n",
       "      <td>1643</td>\n",
       "      <td>2024-07-01</td>\n",
       "      <td>00:33:53</td>\n",
       "    </tr>\n",
       "    <tr>\n",
       "      <th>34</th>\n",
       "      <td>5969</td>\n",
       "      <td>7</td>\n",
       "      <td>TMF006</td>\n",
       "      <td>Ajustes</td>\n",
       "      <td>Termoformadora</td>\n",
       "      <td>Troca de Bobina</td>\n",
       "      <td>Troca de Bobina Inferior</td>\n",
       "      <td>0</td>\n",
       "      <td>1643</td>\n",
       "      <td>2024-07-01</td>\n",
       "      <td>00:34:37</td>\n",
       "    </tr>\n",
       "    <tr>\n",
       "      <th>35</th>\n",
       "      <td>5970</td>\n",
       "      <td>9</td>\n",
       "      <td>TMF004</td>\n",
       "      <td>Limpeza</td>\n",
       "      <td></td>\n",
       "      <td>Limpeza para parada de Fábrica</td>\n",
       "      <td></td>\n",
       "      <td>0</td>\n",
       "      <td>803</td>\n",
       "      <td>2024-07-01</td>\n",
       "      <td>00:34:47</td>\n",
       "    </tr>\n",
       "    <tr>\n",
       "      <th>36</th>\n",
       "      <td>5971</td>\n",
       "      <td>7</td>\n",
       "      <td>TMF006</td>\n",
       "      <td>Ajustes</td>\n",
       "      <td>Termoformadora</td>\n",
       "      <td>Troca de Bobina</td>\n",
       "      <td>Troca de Bobina Inferior</td>\n",
       "      <td>0</td>\n",
       "      <td>1643</td>\n",
       "      <td>2024-07-01</td>\n",
       "      <td>00:35:22</td>\n",
       "    </tr>\n",
       "    <tr>\n",
       "      <th>37</th>\n",
       "      <td>5972</td>\n",
       "      <td>7</td>\n",
       "      <td>TMF006</td>\n",
       "      <td>Ajustes</td>\n",
       "      <td>Termoformadora</td>\n",
       "      <td>Troca de Bobina</td>\n",
       "      <td>Troca de Bobina Inferior</td>\n",
       "      <td>0</td>\n",
       "      <td>1643</td>\n",
       "      <td>2024-07-01</td>\n",
       "      <td>00:36:01</td>\n",
       "    </tr>\n",
       "    <tr>\n",
       "      <th>38</th>\n",
       "      <td>5973</td>\n",
       "      <td>7</td>\n",
       "      <td>TMF006</td>\n",
       "      <td>Ajustes</td>\n",
       "      <td>Termoformadora</td>\n",
       "      <td>Troca de Bobina</td>\n",
       "      <td>Troca de Bobina Inferior</td>\n",
       "      <td>0</td>\n",
       "      <td>1643</td>\n",
       "      <td>2024-07-01</td>\n",
       "      <td>00:38:28</td>\n",
       "    </tr>\n",
       "    <tr>\n",
       "      <th>39</th>\n",
       "      <td>5974</td>\n",
       "      <td>7</td>\n",
       "      <td>TMF006</td>\n",
       "      <td>Ajustes</td>\n",
       "      <td>Termoformadora</td>\n",
       "      <td>Troca de Bobina</td>\n",
       "      <td>Troca de Bobina Inferior</td>\n",
       "      <td>0</td>\n",
       "      <td>1643</td>\n",
       "      <td>2024-07-01</td>\n",
       "      <td>00:41:03</td>\n",
       "    </tr>\n",
       "    <tr>\n",
       "      <th>40</th>\n",
       "      <td>5975</td>\n",
       "      <td>7</td>\n",
       "      <td>TMF006</td>\n",
       "      <td>Parada Programada</td>\n",
       "      <td></td>\n",
       "      <td>Parada Planejada</td>\n",
       "      <td>Sem Produção</td>\n",
       "      <td>0</td>\n",
       "      <td>1643</td>\n",
       "      <td>2024-07-01</td>\n",
       "      <td>00:41:40</td>\n",
       "    </tr>\n",
       "  </tbody>\n",
       "</table>\n",
       "</div>"
      ],
      "text/plain": [
       "    recno  linha maquina_id             motivo     equipamento  \\\n",
       "0    5935      2     TMF011            Ajustes  Termoformadora   \n",
       "1    5936      2     TMF011  Parada Programada                   \n",
       "2    5937      4     TMF012            Ajustes  Termoformadora   \n",
       "3    5938      3     TMF005  Parada Programada                   \n",
       "4    5939      6     TMF001            Limpeza                   \n",
       "5    5940      9     TMF004  Parada Programada                   \n",
       "6    5941      8     TMF014            Limpeza                   \n",
       "7    5942      7     TMF006            Limpeza                   \n",
       "8    5943      3     TMF005          Qualidade  Termoformadora   \n",
       "9    5944      5     TMF002            Limpeza                   \n",
       "10   5945      3     TMF005          Qualidade  Termoformadora   \n",
       "11   5946      4     TMF012            Ajustes  Termoformadora   \n",
       "12   5947      3     TMF005  Parada Programada                   \n",
       "13   5948      4     TMF012            Ajustes  Termoformadora   \n",
       "14   5949      4     TMF012            Ajustes  Termoformadora   \n",
       "15   5950      6     TMF001            Limpeza                   \n",
       "16   5951      4     TMF012  Parada Programada                   \n",
       "17   5952      6     TMF001            Limpeza                   \n",
       "18   5953      6     TMF001            Limpeza                   \n",
       "19   5954      5     TMF002          Qualidade  Termoformadora   \n",
       "20   5955      9     TMF004            Limpeza                   \n",
       "21   5956      5     TMF002          Qualidade  Termoformadora   \n",
       "22   5957      9     TMF004            Limpeza                   \n",
       "23   5958      6     TMF001  Parada Programada                   \n",
       "24   5959      8     TMF014            Limpeza                   \n",
       "25   5960      9     TMF004            Limpeza                   \n",
       "26   5961      9     TMF004            Limpeza                   \n",
       "27   5962      5     TMF002  Parada Programada                   \n",
       "28   5963      9     TMF004            Limpeza                   \n",
       "29   5964      8     TMF014            Limpeza                   \n",
       "30   5965      9     TMF004            Limpeza                   \n",
       "31   5966      8     TMF014            Limpeza                   \n",
       "32   5967      9     TMF004            Limpeza                   \n",
       "33   5968      7     TMF006            Ajustes  Termoformadora   \n",
       "34   5969      7     TMF006            Ajustes  Termoformadora   \n",
       "35   5970      9     TMF004            Limpeza                   \n",
       "36   5971      7     TMF006            Ajustes  Termoformadora   \n",
       "37   5972      7     TMF006            Ajustes  Termoformadora   \n",
       "38   5973      7     TMF006            Ajustes  Termoformadora   \n",
       "39   5974      7     TMF006            Ajustes  Termoformadora   \n",
       "40   5975      7     TMF006  Parada Programada                   \n",
       "\n",
       "                          problema                           causa os_numero  \\\n",
       "0                  Troca de Bobina        Troca de Bobina Inferior         0   \n",
       "1                 Parada Planejada                    Sem Produção         0   \n",
       "2                  Troca de Bobina        Troca de Bobina Inferior         0   \n",
       "3                 Parada Planejada                          Backup         0   \n",
       "4   Limpeza para parada de Fábrica                                         0   \n",
       "5                 Parada Planejada                          Backup         0   \n",
       "6   Limpeza para parada de Fábrica                                         0   \n",
       "7   Limpeza para parada de Fábrica                                         0   \n",
       "8          Parâmetros de Qualidade  Esquadro da bandeja inadequado         0   \n",
       "9   Limpeza para parada de Fábrica                                         0   \n",
       "10         Parâmetros de Qualidade  Esquadro da bandeja inadequado         0   \n",
       "11                 Troca de Bobina        Troca de Bobina Inferior         0   \n",
       "12                Parada Planejada                    Sem Produção         0   \n",
       "13                 Troca de Bobina        Troca de Bobina Inferior         0   \n",
       "14                 Troca de Bobina        Troca de Bobina Inferior         0   \n",
       "15  Limpeza para parada de Fábrica                                         0   \n",
       "16                Parada Planejada                    Sem Produção         0   \n",
       "17  Limpeza para parada de Fábrica                                         0   \n",
       "18  Limpeza para parada de Fábrica                                         0   \n",
       "19         Parâmetros de Qualidade            Data fora de posição         0   \n",
       "20  Limpeza para parada de Fábrica                                         0   \n",
       "21         Parâmetros de Qualidade  Esquadro da bandeja inadequado         0   \n",
       "22  Limpeza para parada de Fábrica                                         0   \n",
       "23                Parada Planejada                    Sem Produção         0   \n",
       "24  Limpeza para parada de Fábrica                                         0   \n",
       "25  Limpeza para parada de Fábrica                                         0   \n",
       "26  Limpeza para parada de Fábrica                                         0   \n",
       "27                Parada Planejada                    Sem Produção         0   \n",
       "28  Limpeza para parada de Fábrica                                         0   \n",
       "29  Limpeza para parada de Fábrica                                         0   \n",
       "30  Limpeza para parada de Fábrica                                         0   \n",
       "31  Limpeza para parada de Fábrica                                         0   \n",
       "32  Limpeza para parada de Fábrica                                         0   \n",
       "33                 Troca de Bobina        Troca de Bobina Inferior         0   \n",
       "34                 Troca de Bobina        Troca de Bobina Inferior         0   \n",
       "35  Limpeza para parada de Fábrica                                         0   \n",
       "36                 Troca de Bobina        Troca de Bobina Inferior         0   \n",
       "37                 Troca de Bobina        Troca de Bobina Inferior         0   \n",
       "38                 Troca de Bobina        Troca de Bobina Inferior         0   \n",
       "39                 Troca de Bobina        Troca de Bobina Inferior         0   \n",
       "40                Parada Planejada                    Sem Produção         0   \n",
       "\n",
       "   operador_id data_registro hora_registro  \n",
       "0         1643    2024-07-01      00:00:44  \n",
       "1          434    2024-07-01      00:01:35  \n",
       "2          434    2024-07-01      00:08:53  \n",
       "3         1643    2024-07-01      00:09:07  \n",
       "4         1373    2024-07-01      00:10:01  \n",
       "5          434    2024-07-01      00:12:35  \n",
       "6         1646    2024-07-01      00:13:34  \n",
       "7         1643    2024-07-01      00:16:28  \n",
       "8         1373    2024-07-01      00:17:32  \n",
       "9         1643    2024-07-01      00:17:44  \n",
       "10        1373    2024-07-01      00:18:46  \n",
       "11         434    2024-07-01      00:18:52  \n",
       "12        1373    2024-07-01      00:20:11  \n",
       "13         434    2024-07-01      00:20:22  \n",
       "14         434    2024-07-01      00:21:04  \n",
       "15        1373    2024-07-01      00:21:23  \n",
       "16         434    2024-07-01      00:21:38  \n",
       "17        1373    2024-07-01      00:22:07  \n",
       "18        1373    2024-07-01      00:22:38  \n",
       "19        1373    2024-07-01      00:23:28  \n",
       "20         803    2024-07-01      00:24:42  \n",
       "21        1373    2024-07-01      00:24:44  \n",
       "22         803    2024-07-01      00:25:07  \n",
       "23        1373    2024-07-01      00:25:08  \n",
       "24        1646    2024-07-01      00:25:29  \n",
       "25         803    2024-07-01      00:25:57  \n",
       "26         803    2024-07-01      00:26:09  \n",
       "27        1373    2024-07-01      00:26:28  \n",
       "28         803    2024-07-01      00:26:58  \n",
       "29        1646    2024-07-01      00:27:56  \n",
       "30         803    2024-07-01      00:29:01  \n",
       "31        1646    2024-07-01      00:31:52  \n",
       "32         803    2024-07-01      00:33:38  \n",
       "33        1643    2024-07-01      00:33:53  \n",
       "34        1643    2024-07-01      00:34:37  \n",
       "35         803    2024-07-01      00:34:47  \n",
       "36        1643    2024-07-01      00:35:22  \n",
       "37        1643    2024-07-01      00:36:01  \n",
       "38        1643    2024-07-01      00:38:28  \n",
       "39        1643    2024-07-01      00:41:03  \n",
       "40        1643    2024-07-01      00:41:40  "
      ]
     },
     "execution_count": 13,
     "metadata": {},
     "output_type": "execute_result"
    }
   ],
   "source": [
    "df_ihm_cleaned"
   ]
  },
  {
   "cell_type": "code",
   "execution_count": 14,
   "metadata": {
    "notebookRunGroups": {
     "groupValue": "2"
    }
   },
   "outputs": [
    {
     "data": {
      "text/html": [
       "<div>\n",
       "<style scoped>\n",
       "    .dataframe tbody tr th:only-of-type {\n",
       "        vertical-align: middle;\n",
       "    }\n",
       "\n",
       "    .dataframe tbody tr th {\n",
       "        vertical-align: top;\n",
       "    }\n",
       "\n",
       "    .dataframe thead th {\n",
       "        text-align: right;\n",
       "    }\n",
       "</style>\n",
       "<table border=\"1\" class=\"dataframe\">\n",
       "  <thead>\n",
       "    <tr style=\"text-align: right;\">\n",
       "      <th></th>\n",
       "      <th>maquina_id</th>\n",
       "      <th>linha</th>\n",
       "      <th>fabrica</th>\n",
       "      <th>status</th>\n",
       "      <th>turno</th>\n",
       "      <th>contagem_total_ciclos</th>\n",
       "      <th>contagem_total_produzido</th>\n",
       "      <th>data_registro</th>\n",
       "      <th>hora_registro</th>\n",
       "    </tr>\n",
       "  </thead>\n",
       "  <tbody>\n",
       "    <tr>\n",
       "      <th>0</th>\n",
       "      <td>TMF003</td>\n",
       "      <td>1</td>\n",
       "      <td>1</td>\n",
       "      <td>parada</td>\n",
       "      <td>NOT</td>\n",
       "      <td>0.0</td>\n",
       "      <td>0.0</td>\n",
       "      <td>2024-07-01</td>\n",
       "      <td>00:00:15</td>\n",
       "    </tr>\n",
       "    <tr>\n",
       "      <th>1</th>\n",
       "      <td>TMF003</td>\n",
       "      <td>1</td>\n",
       "      <td>1</td>\n",
       "      <td>parada</td>\n",
       "      <td>NOT</td>\n",
       "      <td>0.0</td>\n",
       "      <td>0.0</td>\n",
       "      <td>2024-07-01</td>\n",
       "      <td>00:02:15</td>\n",
       "    </tr>\n",
       "    <tr>\n",
       "      <th>2</th>\n",
       "      <td>TMF003</td>\n",
       "      <td>1</td>\n",
       "      <td>1</td>\n",
       "      <td>parada</td>\n",
       "      <td>NOT</td>\n",
       "      <td>0.0</td>\n",
       "      <td>0.0</td>\n",
       "      <td>2024-07-01</td>\n",
       "      <td>00:04:15</td>\n",
       "    </tr>\n",
       "    <tr>\n",
       "      <th>3</th>\n",
       "      <td>TMF003</td>\n",
       "      <td>1</td>\n",
       "      <td>1</td>\n",
       "      <td>parada</td>\n",
       "      <td>NOT</td>\n",
       "      <td>0.0</td>\n",
       "      <td>0.0</td>\n",
       "      <td>2024-07-01</td>\n",
       "      <td>00:06:15</td>\n",
       "    </tr>\n",
       "    <tr>\n",
       "      <th>4</th>\n",
       "      <td>TMF003</td>\n",
       "      <td>1</td>\n",
       "      <td>1</td>\n",
       "      <td>parada</td>\n",
       "      <td>NOT</td>\n",
       "      <td>0.0</td>\n",
       "      <td>0.0</td>\n",
       "      <td>2024-07-01</td>\n",
       "      <td>00:08:15</td>\n",
       "    </tr>\n",
       "    <tr>\n",
       "      <th>...</th>\n",
       "      <td>...</td>\n",
       "      <td>...</td>\n",
       "      <td>...</td>\n",
       "      <td>...</td>\n",
       "      <td>...</td>\n",
       "      <td>...</td>\n",
       "      <td>...</td>\n",
       "      <td>...</td>\n",
       "      <td>...</td>\n",
       "    </tr>\n",
       "    <tr>\n",
       "      <th>3980</th>\n",
       "      <td>TMF009</td>\n",
       "      <td>14</td>\n",
       "      <td>2</td>\n",
       "      <td>parada</td>\n",
       "      <td>MAT</td>\n",
       "      <td>0.0</td>\n",
       "      <td>0.0</td>\n",
       "      <td>2024-07-01</td>\n",
       "      <td>08:47:19</td>\n",
       "    </tr>\n",
       "    <tr>\n",
       "      <th>3981</th>\n",
       "      <td>TMF009</td>\n",
       "      <td>14</td>\n",
       "      <td>2</td>\n",
       "      <td>parada</td>\n",
       "      <td>MAT</td>\n",
       "      <td>0.0</td>\n",
       "      <td>0.0</td>\n",
       "      <td>2024-07-01</td>\n",
       "      <td>08:49:19</td>\n",
       "    </tr>\n",
       "    <tr>\n",
       "      <th>3982</th>\n",
       "      <td>TMF009</td>\n",
       "      <td>14</td>\n",
       "      <td>2</td>\n",
       "      <td>parada</td>\n",
       "      <td>MAT</td>\n",
       "      <td>0.0</td>\n",
       "      <td>0.0</td>\n",
       "      <td>2024-07-01</td>\n",
       "      <td>08:51:19</td>\n",
       "    </tr>\n",
       "    <tr>\n",
       "      <th>3983</th>\n",
       "      <td>TMF009</td>\n",
       "      <td>14</td>\n",
       "      <td>2</td>\n",
       "      <td>parada</td>\n",
       "      <td>MAT</td>\n",
       "      <td>0.0</td>\n",
       "      <td>0.0</td>\n",
       "      <td>2024-07-01</td>\n",
       "      <td>08:53:19</td>\n",
       "    </tr>\n",
       "    <tr>\n",
       "      <th>3984</th>\n",
       "      <td>TMF009</td>\n",
       "      <td>14</td>\n",
       "      <td>2</td>\n",
       "      <td>parada</td>\n",
       "      <td>MAT</td>\n",
       "      <td>0.0</td>\n",
       "      <td>0.0</td>\n",
       "      <td>2024-07-01</td>\n",
       "      <td>08:55:19</td>\n",
       "    </tr>\n",
       "  </tbody>\n",
       "</table>\n",
       "<p>3985 rows × 9 columns</p>\n",
       "</div>"
      ],
      "text/plain": [
       "     maquina_id  linha fabrica  status turno  contagem_total_ciclos  \\\n",
       "0        TMF003      1       1  parada   NOT                    0.0   \n",
       "1        TMF003      1       1  parada   NOT                    0.0   \n",
       "2        TMF003      1       1  parada   NOT                    0.0   \n",
       "3        TMF003      1       1  parada   NOT                    0.0   \n",
       "4        TMF003      1       1  parada   NOT                    0.0   \n",
       "...         ...    ...     ...     ...   ...                    ...   \n",
       "3980     TMF009     14       2  parada   MAT                    0.0   \n",
       "3981     TMF009     14       2  parada   MAT                    0.0   \n",
       "3982     TMF009     14       2  parada   MAT                    0.0   \n",
       "3983     TMF009     14       2  parada   MAT                    0.0   \n",
       "3984     TMF009     14       2  parada   MAT                    0.0   \n",
       "\n",
       "      contagem_total_produzido data_registro hora_registro  \n",
       "0                          0.0    2024-07-01      00:00:15  \n",
       "1                          0.0    2024-07-01      00:02:15  \n",
       "2                          0.0    2024-07-01      00:04:15  \n",
       "3                          0.0    2024-07-01      00:06:15  \n",
       "4                          0.0    2024-07-01      00:08:15  \n",
       "...                        ...           ...           ...  \n",
       "3980                       0.0    2024-07-01      08:47:19  \n",
       "3981                       0.0    2024-07-01      08:49:19  \n",
       "3982                       0.0    2024-07-01      08:51:19  \n",
       "3983                       0.0    2024-07-01      08:53:19  \n",
       "3984                       0.0    2024-07-01      08:55:19  \n",
       "\n",
       "[3985 rows x 9 columns]"
      ]
     },
     "execution_count": 14,
     "metadata": {},
     "output_type": "execute_result"
    }
   ],
   "source": [
    "df_info_cleaned"
   ]
  },
  {
   "cell_type": "code",
   "execution_count": 15,
   "metadata": {
    "notebookRunGroups": {
     "groupValue": "2"
    }
   },
   "outputs": [
    {
     "data": {
      "text/html": [
       "<div>\n",
       "<style scoped>\n",
       "    .dataframe tbody tr th:only-of-type {\n",
       "        vertical-align: middle;\n",
       "    }\n",
       "\n",
       "    .dataframe tbody tr th {\n",
       "        vertical-align: top;\n",
       "    }\n",
       "\n",
       "    .dataframe thead th {\n",
       "        text-align: right;\n",
       "    }\n",
       "</style>\n",
       "<table border=\"1\" class=\"dataframe\">\n",
       "  <thead>\n",
       "    <tr style=\"text-align: right;\">\n",
       "      <th></th>\n",
       "      <th>fabrica</th>\n",
       "      <th>linha</th>\n",
       "      <th>maquina_id</th>\n",
       "      <th>turno</th>\n",
       "      <th>total_ciclos</th>\n",
       "      <th>total_produzido</th>\n",
       "      <th>data_registro</th>\n",
       "      <th>hora_registro</th>\n",
       "    </tr>\n",
       "  </thead>\n",
       "  <tbody>\n",
       "    <tr>\n",
       "      <th>0</th>\n",
       "      <td>1</td>\n",
       "      <td>1</td>\n",
       "      <td>TMF003</td>\n",
       "      <td>NOT</td>\n",
       "      <td>0.0</td>\n",
       "      <td>0.0</td>\n",
       "      <td>2024-07-01</td>\n",
       "      <td>07:58:16</td>\n",
       "    </tr>\n",
       "    <tr>\n",
       "      <th>1</th>\n",
       "      <td>1</td>\n",
       "      <td>1</td>\n",
       "      <td>TMF003</td>\n",
       "      <td>MAT</td>\n",
       "      <td>0.0</td>\n",
       "      <td>0.0</td>\n",
       "      <td>2024-07-01</td>\n",
       "      <td>09:50:16</td>\n",
       "    </tr>\n",
       "    <tr>\n",
       "      <th>2</th>\n",
       "      <td>1</td>\n",
       "      <td>2</td>\n",
       "      <td>TMF011</td>\n",
       "      <td>NOT</td>\n",
       "      <td>12.0</td>\n",
       "      <td>12.0</td>\n",
       "      <td>2024-07-01</td>\n",
       "      <td>07:58:17</td>\n",
       "    </tr>\n",
       "    <tr>\n",
       "      <th>3</th>\n",
       "      <td>1</td>\n",
       "      <td>2</td>\n",
       "      <td>TMF011</td>\n",
       "      <td>MAT</td>\n",
       "      <td>0.0</td>\n",
       "      <td>0.0</td>\n",
       "      <td>2024-07-01</td>\n",
       "      <td>09:50:17</td>\n",
       "    </tr>\n",
       "    <tr>\n",
       "      <th>4</th>\n",
       "      <td>1</td>\n",
       "      <td>3</td>\n",
       "      <td>TMF005</td>\n",
       "      <td>NOT</td>\n",
       "      <td>40.0</td>\n",
       "      <td>20.0</td>\n",
       "      <td>2024-07-01</td>\n",
       "      <td>07:58:18</td>\n",
       "    </tr>\n",
       "    <tr>\n",
       "      <th>5</th>\n",
       "      <td>1</td>\n",
       "      <td>3</td>\n",
       "      <td>TMF005</td>\n",
       "      <td>MAT</td>\n",
       "      <td>0.0</td>\n",
       "      <td>0.0</td>\n",
       "      <td>2024-07-01</td>\n",
       "      <td>09:50:18</td>\n",
       "    </tr>\n",
       "    <tr>\n",
       "      <th>6</th>\n",
       "      <td>1</td>\n",
       "      <td>4</td>\n",
       "      <td>TMF012</td>\n",
       "      <td>NOT</td>\n",
       "      <td>44.0</td>\n",
       "      <td>0.0</td>\n",
       "      <td>2024-07-01</td>\n",
       "      <td>07:58:19</td>\n",
       "    </tr>\n",
       "    <tr>\n",
       "      <th>7</th>\n",
       "      <td>1</td>\n",
       "      <td>4</td>\n",
       "      <td>TMF012</td>\n",
       "      <td>MAT</td>\n",
       "      <td>0.0</td>\n",
       "      <td>0.0</td>\n",
       "      <td>2024-07-01</td>\n",
       "      <td>09:50:19</td>\n",
       "    </tr>\n",
       "    <tr>\n",
       "      <th>8</th>\n",
       "      <td>1</td>\n",
       "      <td>5</td>\n",
       "      <td>TMF002</td>\n",
       "      <td>NOT</td>\n",
       "      <td>50.0</td>\n",
       "      <td>50.0</td>\n",
       "      <td>2024-07-01</td>\n",
       "      <td>07:58:20</td>\n",
       "    </tr>\n",
       "    <tr>\n",
       "      <th>9</th>\n",
       "      <td>1</td>\n",
       "      <td>5</td>\n",
       "      <td>TMF002</td>\n",
       "      <td>MAT</td>\n",
       "      <td>0.0</td>\n",
       "      <td>0.0</td>\n",
       "      <td>2024-07-01</td>\n",
       "      <td>09:50:20</td>\n",
       "    </tr>\n",
       "    <tr>\n",
       "      <th>10</th>\n",
       "      <td>1</td>\n",
       "      <td>6</td>\n",
       "      <td>TMF001</td>\n",
       "      <td>NOT</td>\n",
       "      <td>78.0</td>\n",
       "      <td>0.0</td>\n",
       "      <td>2024-07-01</td>\n",
       "      <td>07:58:21</td>\n",
       "    </tr>\n",
       "    <tr>\n",
       "      <th>11</th>\n",
       "      <td>1</td>\n",
       "      <td>6</td>\n",
       "      <td>TMF001</td>\n",
       "      <td>MAT</td>\n",
       "      <td>0.0</td>\n",
       "      <td>0.0</td>\n",
       "      <td>2024-07-01</td>\n",
       "      <td>09:50:21</td>\n",
       "    </tr>\n",
       "    <tr>\n",
       "      <th>12</th>\n",
       "      <td>1</td>\n",
       "      <td>7</td>\n",
       "      <td>TMF006</td>\n",
       "      <td>NOT</td>\n",
       "      <td>64.0</td>\n",
       "      <td>0.0</td>\n",
       "      <td>2024-07-01</td>\n",
       "      <td>07:58:22</td>\n",
       "    </tr>\n",
       "    <tr>\n",
       "      <th>13</th>\n",
       "      <td>1</td>\n",
       "      <td>7</td>\n",
       "      <td>TMF006</td>\n",
       "      <td>MAT</td>\n",
       "      <td>0.0</td>\n",
       "      <td>0.0</td>\n",
       "      <td>2024-07-01</td>\n",
       "      <td>09:50:22</td>\n",
       "    </tr>\n",
       "    <tr>\n",
       "      <th>14</th>\n",
       "      <td>1</td>\n",
       "      <td>8</td>\n",
       "      <td>TMF014</td>\n",
       "      <td>NOT</td>\n",
       "      <td>96.0</td>\n",
       "      <td>0.0</td>\n",
       "      <td>2024-07-01</td>\n",
       "      <td>07:58:23</td>\n",
       "    </tr>\n",
       "    <tr>\n",
       "      <th>15</th>\n",
       "      <td>1</td>\n",
       "      <td>8</td>\n",
       "      <td>TMF014</td>\n",
       "      <td>MAT</td>\n",
       "      <td>0.0</td>\n",
       "      <td>0.0</td>\n",
       "      <td>2024-07-01</td>\n",
       "      <td>09:50:23</td>\n",
       "    </tr>\n",
       "    <tr>\n",
       "      <th>16</th>\n",
       "      <td>1</td>\n",
       "      <td>9</td>\n",
       "      <td>TMF004</td>\n",
       "      <td>NOT</td>\n",
       "      <td>44.0</td>\n",
       "      <td>0.0</td>\n",
       "      <td>2024-07-01</td>\n",
       "      <td>07:58:24</td>\n",
       "    </tr>\n",
       "    <tr>\n",
       "      <th>17</th>\n",
       "      <td>1</td>\n",
       "      <td>9</td>\n",
       "      <td>TMF004</td>\n",
       "      <td>MAT</td>\n",
       "      <td>0.0</td>\n",
       "      <td>0.0</td>\n",
       "      <td>2024-07-01</td>\n",
       "      <td>09:50:24</td>\n",
       "    </tr>\n",
       "    <tr>\n",
       "      <th>18</th>\n",
       "      <td>2</td>\n",
       "      <td>10</td>\n",
       "      <td>TMF008</td>\n",
       "      <td>NOT</td>\n",
       "      <td>0.0</td>\n",
       "      <td>0.0</td>\n",
       "      <td>2024-07-01</td>\n",
       "      <td>07:59:15</td>\n",
       "    </tr>\n",
       "    <tr>\n",
       "      <th>19</th>\n",
       "      <td>2</td>\n",
       "      <td>10</td>\n",
       "      <td>TMF008</td>\n",
       "      <td>MAT</td>\n",
       "      <td>0.0</td>\n",
       "      <td>0.0</td>\n",
       "      <td>2024-07-01</td>\n",
       "      <td>08:55:15</td>\n",
       "    </tr>\n",
       "    <tr>\n",
       "      <th>20</th>\n",
       "      <td>2</td>\n",
       "      <td>11</td>\n",
       "      <td>TMF010</td>\n",
       "      <td>NOT</td>\n",
       "      <td>0.0</td>\n",
       "      <td>0.0</td>\n",
       "      <td>2024-07-01</td>\n",
       "      <td>07:59:16</td>\n",
       "    </tr>\n",
       "    <tr>\n",
       "      <th>21</th>\n",
       "      <td>2</td>\n",
       "      <td>11</td>\n",
       "      <td>TMF010</td>\n",
       "      <td>MAT</td>\n",
       "      <td>0.0</td>\n",
       "      <td>0.0</td>\n",
       "      <td>2024-07-01</td>\n",
       "      <td>08:55:16</td>\n",
       "    </tr>\n",
       "    <tr>\n",
       "      <th>22</th>\n",
       "      <td>2</td>\n",
       "      <td>12</td>\n",
       "      <td>TMF007</td>\n",
       "      <td>NOT</td>\n",
       "      <td>0.0</td>\n",
       "      <td>0.0</td>\n",
       "      <td>2024-07-01</td>\n",
       "      <td>07:59:17</td>\n",
       "    </tr>\n",
       "    <tr>\n",
       "      <th>23</th>\n",
       "      <td>2</td>\n",
       "      <td>12</td>\n",
       "      <td>TMF007</td>\n",
       "      <td>MAT</td>\n",
       "      <td>0.0</td>\n",
       "      <td>0.0</td>\n",
       "      <td>2024-07-01</td>\n",
       "      <td>08:55:17</td>\n",
       "    </tr>\n",
       "    <tr>\n",
       "      <th>24</th>\n",
       "      <td>2</td>\n",
       "      <td>13</td>\n",
       "      <td>TMF013</td>\n",
       "      <td>NOT</td>\n",
       "      <td>0.0</td>\n",
       "      <td>0.0</td>\n",
       "      <td>2024-07-01</td>\n",
       "      <td>07:59:18</td>\n",
       "    </tr>\n",
       "    <tr>\n",
       "      <th>25</th>\n",
       "      <td>2</td>\n",
       "      <td>13</td>\n",
       "      <td>TMF013</td>\n",
       "      <td>MAT</td>\n",
       "      <td>0.0</td>\n",
       "      <td>0.0</td>\n",
       "      <td>2024-07-01</td>\n",
       "      <td>08:55:18</td>\n",
       "    </tr>\n",
       "    <tr>\n",
       "      <th>26</th>\n",
       "      <td>2</td>\n",
       "      <td>14</td>\n",
       "      <td>TMF009</td>\n",
       "      <td>NOT</td>\n",
       "      <td>0.0</td>\n",
       "      <td>0.0</td>\n",
       "      <td>2024-07-01</td>\n",
       "      <td>07:59:19</td>\n",
       "    </tr>\n",
       "    <tr>\n",
       "      <th>27</th>\n",
       "      <td>2</td>\n",
       "      <td>14</td>\n",
       "      <td>TMF009</td>\n",
       "      <td>MAT</td>\n",
       "      <td>0.0</td>\n",
       "      <td>0.0</td>\n",
       "      <td>2024-07-01</td>\n",
       "      <td>08:55:19</td>\n",
       "    </tr>\n",
       "  </tbody>\n",
       "</table>\n",
       "</div>"
      ],
      "text/plain": [
       "   fabrica  linha maquina_id turno  total_ciclos  total_produzido  \\\n",
       "0        1      1     TMF003   NOT           0.0              0.0   \n",
       "1        1      1     TMF003   MAT           0.0              0.0   \n",
       "2        1      2     TMF011   NOT          12.0             12.0   \n",
       "3        1      2     TMF011   MAT           0.0              0.0   \n",
       "4        1      3     TMF005   NOT          40.0             20.0   \n",
       "5        1      3     TMF005   MAT           0.0              0.0   \n",
       "6        1      4     TMF012   NOT          44.0              0.0   \n",
       "7        1      4     TMF012   MAT           0.0              0.0   \n",
       "8        1      5     TMF002   NOT          50.0             50.0   \n",
       "9        1      5     TMF002   MAT           0.0              0.0   \n",
       "10       1      6     TMF001   NOT          78.0              0.0   \n",
       "11       1      6     TMF001   MAT           0.0              0.0   \n",
       "12       1      7     TMF006   NOT          64.0              0.0   \n",
       "13       1      7     TMF006   MAT           0.0              0.0   \n",
       "14       1      8     TMF014   NOT          96.0              0.0   \n",
       "15       1      8     TMF014   MAT           0.0              0.0   \n",
       "16       1      9     TMF004   NOT          44.0              0.0   \n",
       "17       1      9     TMF004   MAT           0.0              0.0   \n",
       "18       2     10     TMF008   NOT           0.0              0.0   \n",
       "19       2     10     TMF008   MAT           0.0              0.0   \n",
       "20       2     11     TMF010   NOT           0.0              0.0   \n",
       "21       2     11     TMF010   MAT           0.0              0.0   \n",
       "22       2     12     TMF007   NOT           0.0              0.0   \n",
       "23       2     12     TMF007   MAT           0.0              0.0   \n",
       "24       2     13     TMF013   NOT           0.0              0.0   \n",
       "25       2     13     TMF013   MAT           0.0              0.0   \n",
       "26       2     14     TMF009   NOT           0.0              0.0   \n",
       "27       2     14     TMF009   MAT           0.0              0.0   \n",
       "\n",
       "   data_registro hora_registro  \n",
       "0     2024-07-01      07:58:16  \n",
       "1     2024-07-01      09:50:16  \n",
       "2     2024-07-01      07:58:17  \n",
       "3     2024-07-01      09:50:17  \n",
       "4     2024-07-01      07:58:18  \n",
       "5     2024-07-01      09:50:18  \n",
       "6     2024-07-01      07:58:19  \n",
       "7     2024-07-01      09:50:19  \n",
       "8     2024-07-01      07:58:20  \n",
       "9     2024-07-01      09:50:20  \n",
       "10    2024-07-01      07:58:21  \n",
       "11    2024-07-01      09:50:21  \n",
       "12    2024-07-01      07:58:22  \n",
       "13    2024-07-01      09:50:22  \n",
       "14    2024-07-01      07:58:23  \n",
       "15    2024-07-01      09:50:23  \n",
       "16    2024-07-01      07:58:24  \n",
       "17    2024-07-01      09:50:24  \n",
       "18    2024-07-01      07:59:15  \n",
       "19    2024-07-01      08:55:15  \n",
       "20    2024-07-01      07:59:16  \n",
       "21    2024-07-01      08:55:16  \n",
       "22    2024-07-01      07:59:17  \n",
       "23    2024-07-01      08:55:17  \n",
       "24    2024-07-01      07:59:18  \n",
       "25    2024-07-01      08:55:18  \n",
       "26    2024-07-01      07:59:19  \n",
       "27    2024-07-01      08:55:19  "
      ]
     },
     "execution_count": 15,
     "metadata": {},
     "output_type": "execute_result"
    }
   ],
   "source": [
    "df_info_production_clean"
   ]
  },
  {
   "cell_type": "code",
   "execution_count": 16,
   "metadata": {},
   "outputs": [
    {
     "data": {
      "text/html": [
       "<div>\n",
       "<style scoped>\n",
       "    .dataframe tbody tr th:only-of-type {\n",
       "        vertical-align: middle;\n",
       "    }\n",
       "\n",
       "    .dataframe tbody tr th {\n",
       "        vertical-align: top;\n",
       "    }\n",
       "\n",
       "    .dataframe thead th {\n",
       "        text-align: right;\n",
       "    }\n",
       "</style>\n",
       "<table border=\"1\" class=\"dataframe\">\n",
       "  <thead>\n",
       "    <tr style=\"text-align: right;\">\n",
       "      <th></th>\n",
       "      <th>linha</th>\n",
       "      <th>maquina_id</th>\n",
       "      <th>data_registro</th>\n",
       "      <th>turno</th>\n",
       "      <th>bdj_vazias</th>\n",
       "      <th>bdj_retrabalho</th>\n",
       "      <th>descarte_paes</th>\n",
       "      <th>descarte_paes_pasta</th>\n",
       "      <th>descarte_pasta</th>\n",
       "    </tr>\n",
       "  </thead>\n",
       "  <tbody>\n",
       "  </tbody>\n",
       "</table>\n",
       "</div>"
      ],
      "text/plain": [
       "Empty DataFrame\n",
       "Columns: [linha, maquina_id, data_registro, turno, bdj_vazias, bdj_retrabalho, descarte_paes, descarte_paes_pasta, descarte_pasta]\n",
       "Index: []"
      ]
     },
     "execution_count": 16,
     "metadata": {},
     "output_type": "execute_result"
    }
   ],
   "source": [
    "df_ihm_discard"
   ]
  },
  {
   "cell_type": "markdown",
   "metadata": {},
   "source": [
    "# Unindo os dados\n"
   ]
  },
  {
   "cell_type": "markdown",
   "metadata": {},
   "source": [
    "## IHM + Info\n"
   ]
  },
  {
   "cell_type": "code",
   "execution_count": 17,
   "metadata": {
    "notebookRunGroups": {
     "groupValue": "2"
    }
   },
   "outputs": [],
   "source": [
    "class JoinInfoIHM:\n",
    "    \"\"\"\n",
    "    Essa classe é responsável por juntar os DataFrames de informações e IHM.\n",
    "    \"\"\"\n",
    "\n",
    "    def __init__(self, df_ihm, df_info):\n",
    "        self.df_ihm = df_ihm\n",
    "        self.df_info = df_info\n",
    "\n",
    "    def join_data(self) -> pd.DataFrame:\n",
    "        \"\"\"\n",
    "        Junta os DataFrames de informações e IHM.\n",
    "        \"\"\"\n",
    "\n",
    "        # Cria uma coluna auxiliar com data e hora para fazer o merge\n",
    "        self.df_info[\"data_hora\"] = pd.to_datetime(\n",
    "            self.df_info[\"data_registro\"].astype(str)\n",
    "            + \" \"\n",
    "            + self.df_info[\"hora_registro\"].astype(str)\n",
    "        )\n",
    "\n",
    "        self.df_ihm[\"data_hora\"] = pd.to_datetime(\n",
    "            self.df_ihm[\"data_registro\"].astype(str)\n",
    "            + \" \"\n",
    "            + self.df_ihm[\"hora_registro\"].astype(str)\n",
    "        )\n",
    "\n",
    "        # Classifica os DataFrames\n",
    "        self.df_info = self.df_info.sort_values(by=\"data_hora\")\n",
    "        self.df_ihm = self.df_ihm.sort_values(by=\"data_hora\")\n",
    "\n",
    "        # Junta os DataFrames\n",
    "        df = pd.merge_asof(\n",
    "            self.df_info,\n",
    "            self.df_ihm.drop(columns=\"recno\"),\n",
    "            on=\"data_hora\",\n",
    "            by=\"maquina_id\",\n",
    "            direction=\"nearest\",\n",
    "            tolerance=pd.Timedelta(\"3 min 10 s\"),\n",
    "        )\n",
    "\n",
    "        # Ajustas os tipos das colunas contagem_total_ciclos e contagem_total_produzido para int\n",
    "        df[\"contagem_total_ciclos\"] = df[\"contagem_total_ciclos\"].astype(\"Int64\")\n",
    "        df[\"contagem_total_produzido\"] = df[\"contagem_total_produzido\"].astype(\"Int64\")\n",
    "\n",
    "        # Reordenar as colunas mantendo só as colunas necessárias e renomeando as colunas para facilitar a compreensão\n",
    "        df = df[\n",
    "            [\n",
    "                \"fabrica\",\n",
    "                \"linha_x\",\n",
    "                \"maquina_id\",\n",
    "                \"turno\",\n",
    "                \"status\",\n",
    "                \"contagem_total_ciclos\",\n",
    "                \"contagem_total_produzido\",\n",
    "                \"data_registro_x\",\n",
    "                \"hora_registro_x\",\n",
    "                \"motivo\",\n",
    "                \"equipamento\",\n",
    "                \"problema\",\n",
    "                \"causa\",\n",
    "                \"os_numero\",\n",
    "                \"operador_id\",\n",
    "                \"data_registro_y\",\n",
    "                \"hora_registro_y\",\n",
    "            ]\n",
    "        ]\n",
    "\n",
    "        df.columns = [\n",
    "            \"fabrica\",\n",
    "            \"linha\",\n",
    "            \"maquina_id\",\n",
    "            \"turno\",\n",
    "            \"status\",\n",
    "            \"contagem_total_ciclos\",\n",
    "            \"contagem_total_produzido\",\n",
    "            \"data_registro\",\n",
    "            \"hora_registro\",\n",
    "            \"motivo\",\n",
    "            \"equipamento\",\n",
    "            \"problema\",\n",
    "            \"causa\",\n",
    "            \"os_numero\",\n",
    "            \"operador_id\",\n",
    "            \"data_registro_ihm\",\n",
    "            \"hora_registro_ihm\",\n",
    "        ]\n",
    "\n",
    "        # Reordenar pela linha, data_registro_info e hora_registro_info\n",
    "        df = df.sort_values(by=[\"linha\", \"data_registro\", \"hora_registro\"])\n",
    "\n",
    "        return df\n",
    "\n",
    "\n",
    "join_info_ihm = JoinInfoIHM(df_ihm_cleaned.copy(), df_info_cleaned.copy())\n",
    "df_joined = join_info_ihm.join_data()"
   ]
  },
  {
   "cell_type": "markdown",
   "metadata": {},
   "source": [
    "### Saída de Join\n"
   ]
  },
  {
   "cell_type": "code",
   "execution_count": 18,
   "metadata": {
    "notebookRunGroups": {
     "groupValue": "2"
    }
   },
   "outputs": [
    {
     "data": {
      "text/html": [
       "<div>\n",
       "<style scoped>\n",
       "    .dataframe tbody tr th:only-of-type {\n",
       "        vertical-align: middle;\n",
       "    }\n",
       "\n",
       "    .dataframe tbody tr th {\n",
       "        vertical-align: top;\n",
       "    }\n",
       "\n",
       "    .dataframe thead th {\n",
       "        text-align: right;\n",
       "    }\n",
       "</style>\n",
       "<table border=\"1\" class=\"dataframe\">\n",
       "  <thead>\n",
       "    <tr style=\"text-align: right;\">\n",
       "      <th></th>\n",
       "      <th>fabrica</th>\n",
       "      <th>linha</th>\n",
       "      <th>maquina_id</th>\n",
       "      <th>turno</th>\n",
       "      <th>status</th>\n",
       "      <th>contagem_total_ciclos</th>\n",
       "      <th>contagem_total_produzido</th>\n",
       "      <th>data_registro</th>\n",
       "      <th>hora_registro</th>\n",
       "      <th>motivo</th>\n",
       "      <th>equipamento</th>\n",
       "      <th>problema</th>\n",
       "      <th>causa</th>\n",
       "      <th>os_numero</th>\n",
       "      <th>operador_id</th>\n",
       "      <th>data_registro_ihm</th>\n",
       "      <th>hora_registro_ihm</th>\n",
       "    </tr>\n",
       "  </thead>\n",
       "  <tbody>\n",
       "    <tr>\n",
       "      <th>0</th>\n",
       "      <td>1</td>\n",
       "      <td>1</td>\n",
       "      <td>TMF003</td>\n",
       "      <td>NOT</td>\n",
       "      <td>parada</td>\n",
       "      <td>0</td>\n",
       "      <td>0</td>\n",
       "      <td>2024-07-01</td>\n",
       "      <td>00:00:15</td>\n",
       "      <td>NaN</td>\n",
       "      <td>NaN</td>\n",
       "      <td>NaN</td>\n",
       "      <td>NaN</td>\n",
       "      <td>NaN</td>\n",
       "      <td>NaN</td>\n",
       "      <td>NaT</td>\n",
       "      <td>NaN</td>\n",
       "    </tr>\n",
       "    <tr>\n",
       "      <th>14</th>\n",
       "      <td>1</td>\n",
       "      <td>1</td>\n",
       "      <td>TMF003</td>\n",
       "      <td>NOT</td>\n",
       "      <td>parada</td>\n",
       "      <td>0</td>\n",
       "      <td>0</td>\n",
       "      <td>2024-07-01</td>\n",
       "      <td>00:02:15</td>\n",
       "      <td>NaN</td>\n",
       "      <td>NaN</td>\n",
       "      <td>NaN</td>\n",
       "      <td>NaN</td>\n",
       "      <td>NaN</td>\n",
       "      <td>NaN</td>\n",
       "      <td>NaT</td>\n",
       "      <td>NaN</td>\n",
       "    </tr>\n",
       "    <tr>\n",
       "      <th>28</th>\n",
       "      <td>1</td>\n",
       "      <td>1</td>\n",
       "      <td>TMF003</td>\n",
       "      <td>NOT</td>\n",
       "      <td>parada</td>\n",
       "      <td>0</td>\n",
       "      <td>0</td>\n",
       "      <td>2024-07-01</td>\n",
       "      <td>00:04:15</td>\n",
       "      <td>NaN</td>\n",
       "      <td>NaN</td>\n",
       "      <td>NaN</td>\n",
       "      <td>NaN</td>\n",
       "      <td>NaN</td>\n",
       "      <td>NaN</td>\n",
       "      <td>NaT</td>\n",
       "      <td>NaN</td>\n",
       "    </tr>\n",
       "    <tr>\n",
       "      <th>42</th>\n",
       "      <td>1</td>\n",
       "      <td>1</td>\n",
       "      <td>TMF003</td>\n",
       "      <td>NOT</td>\n",
       "      <td>parada</td>\n",
       "      <td>0</td>\n",
       "      <td>0</td>\n",
       "      <td>2024-07-01</td>\n",
       "      <td>00:06:15</td>\n",
       "      <td>NaN</td>\n",
       "      <td>NaN</td>\n",
       "      <td>NaN</td>\n",
       "      <td>NaN</td>\n",
       "      <td>NaN</td>\n",
       "      <td>NaN</td>\n",
       "      <td>NaT</td>\n",
       "      <td>NaN</td>\n",
       "    </tr>\n",
       "    <tr>\n",
       "      <th>56</th>\n",
       "      <td>1</td>\n",
       "      <td>1</td>\n",
       "      <td>TMF003</td>\n",
       "      <td>NOT</td>\n",
       "      <td>parada</td>\n",
       "      <td>0</td>\n",
       "      <td>0</td>\n",
       "      <td>2024-07-01</td>\n",
       "      <td>00:08:15</td>\n",
       "      <td>NaN</td>\n",
       "      <td>NaN</td>\n",
       "      <td>NaN</td>\n",
       "      <td>NaN</td>\n",
       "      <td>NaN</td>\n",
       "      <td>NaN</td>\n",
       "      <td>NaT</td>\n",
       "      <td>NaN</td>\n",
       "    </tr>\n",
       "    <tr>\n",
       "      <th>...</th>\n",
       "      <td>...</td>\n",
       "      <td>...</td>\n",
       "      <td>...</td>\n",
       "      <td>...</td>\n",
       "      <td>...</td>\n",
       "      <td>...</td>\n",
       "      <td>...</td>\n",
       "      <td>...</td>\n",
       "      <td>...</td>\n",
       "      <td>...</td>\n",
       "      <td>...</td>\n",
       "      <td>...</td>\n",
       "      <td>...</td>\n",
       "      <td>...</td>\n",
       "      <td>...</td>\n",
       "      <td>...</td>\n",
       "      <td>...</td>\n",
       "    </tr>\n",
       "    <tr>\n",
       "      <th>3676</th>\n",
       "      <td>2</td>\n",
       "      <td>14</td>\n",
       "      <td>TMF009</td>\n",
       "      <td>MAT</td>\n",
       "      <td>parada</td>\n",
       "      <td>0</td>\n",
       "      <td>0</td>\n",
       "      <td>2024-07-01</td>\n",
       "      <td>08:47:19</td>\n",
       "      <td>NaN</td>\n",
       "      <td>NaN</td>\n",
       "      <td>NaN</td>\n",
       "      <td>NaN</td>\n",
       "      <td>NaN</td>\n",
       "      <td>NaN</td>\n",
       "      <td>NaT</td>\n",
       "      <td>NaN</td>\n",
       "    </tr>\n",
       "    <tr>\n",
       "      <th>3690</th>\n",
       "      <td>2</td>\n",
       "      <td>14</td>\n",
       "      <td>TMF009</td>\n",
       "      <td>MAT</td>\n",
       "      <td>parada</td>\n",
       "      <td>0</td>\n",
       "      <td>0</td>\n",
       "      <td>2024-07-01</td>\n",
       "      <td>08:49:19</td>\n",
       "      <td>NaN</td>\n",
       "      <td>NaN</td>\n",
       "      <td>NaN</td>\n",
       "      <td>NaN</td>\n",
       "      <td>NaN</td>\n",
       "      <td>NaN</td>\n",
       "      <td>NaT</td>\n",
       "      <td>NaN</td>\n",
       "    </tr>\n",
       "    <tr>\n",
       "      <th>3704</th>\n",
       "      <td>2</td>\n",
       "      <td>14</td>\n",
       "      <td>TMF009</td>\n",
       "      <td>MAT</td>\n",
       "      <td>parada</td>\n",
       "      <td>0</td>\n",
       "      <td>0</td>\n",
       "      <td>2024-07-01</td>\n",
       "      <td>08:51:19</td>\n",
       "      <td>NaN</td>\n",
       "      <td>NaN</td>\n",
       "      <td>NaN</td>\n",
       "      <td>NaN</td>\n",
       "      <td>NaN</td>\n",
       "      <td>NaN</td>\n",
       "      <td>NaT</td>\n",
       "      <td>NaN</td>\n",
       "    </tr>\n",
       "    <tr>\n",
       "      <th>3718</th>\n",
       "      <td>2</td>\n",
       "      <td>14</td>\n",
       "      <td>TMF009</td>\n",
       "      <td>MAT</td>\n",
       "      <td>parada</td>\n",
       "      <td>0</td>\n",
       "      <td>0</td>\n",
       "      <td>2024-07-01</td>\n",
       "      <td>08:53:19</td>\n",
       "      <td>NaN</td>\n",
       "      <td>NaN</td>\n",
       "      <td>NaN</td>\n",
       "      <td>NaN</td>\n",
       "      <td>NaN</td>\n",
       "      <td>NaN</td>\n",
       "      <td>NaT</td>\n",
       "      <td>NaN</td>\n",
       "    </tr>\n",
       "    <tr>\n",
       "      <th>3732</th>\n",
       "      <td>2</td>\n",
       "      <td>14</td>\n",
       "      <td>TMF009</td>\n",
       "      <td>MAT</td>\n",
       "      <td>parada</td>\n",
       "      <td>0</td>\n",
       "      <td>0</td>\n",
       "      <td>2024-07-01</td>\n",
       "      <td>08:55:19</td>\n",
       "      <td>NaN</td>\n",
       "      <td>NaN</td>\n",
       "      <td>NaN</td>\n",
       "      <td>NaN</td>\n",
       "      <td>NaN</td>\n",
       "      <td>NaN</td>\n",
       "      <td>NaT</td>\n",
       "      <td>NaN</td>\n",
       "    </tr>\n",
       "  </tbody>\n",
       "</table>\n",
       "<p>3985 rows × 17 columns</p>\n",
       "</div>"
      ],
      "text/plain": [
       "     fabrica  linha maquina_id turno  status  contagem_total_ciclos  \\\n",
       "0          1      1     TMF003   NOT  parada                      0   \n",
       "14         1      1     TMF003   NOT  parada                      0   \n",
       "28         1      1     TMF003   NOT  parada                      0   \n",
       "42         1      1     TMF003   NOT  parada                      0   \n",
       "56         1      1     TMF003   NOT  parada                      0   \n",
       "...      ...    ...        ...   ...     ...                    ...   \n",
       "3676       2     14     TMF009   MAT  parada                      0   \n",
       "3690       2     14     TMF009   MAT  parada                      0   \n",
       "3704       2     14     TMF009   MAT  parada                      0   \n",
       "3718       2     14     TMF009   MAT  parada                      0   \n",
       "3732       2     14     TMF009   MAT  parada                      0   \n",
       "\n",
       "      contagem_total_produzido data_registro hora_registro motivo equipamento  \\\n",
       "0                            0    2024-07-01      00:00:15    NaN         NaN   \n",
       "14                           0    2024-07-01      00:02:15    NaN         NaN   \n",
       "28                           0    2024-07-01      00:04:15    NaN         NaN   \n",
       "42                           0    2024-07-01      00:06:15    NaN         NaN   \n",
       "56                           0    2024-07-01      00:08:15    NaN         NaN   \n",
       "...                        ...           ...           ...    ...         ...   \n",
       "3676                         0    2024-07-01      08:47:19    NaN         NaN   \n",
       "3690                         0    2024-07-01      08:49:19    NaN         NaN   \n",
       "3704                         0    2024-07-01      08:51:19    NaN         NaN   \n",
       "3718                         0    2024-07-01      08:53:19    NaN         NaN   \n",
       "3732                         0    2024-07-01      08:55:19    NaN         NaN   \n",
       "\n",
       "     problema causa os_numero operador_id data_registro_ihm hora_registro_ihm  \n",
       "0         NaN   NaN       NaN         NaN               NaT               NaN  \n",
       "14        NaN   NaN       NaN         NaN               NaT               NaN  \n",
       "28        NaN   NaN       NaN         NaN               NaT               NaN  \n",
       "42        NaN   NaN       NaN         NaN               NaT               NaN  \n",
       "56        NaN   NaN       NaN         NaN               NaT               NaN  \n",
       "...       ...   ...       ...         ...               ...               ...  \n",
       "3676      NaN   NaN       NaN         NaN               NaT               NaN  \n",
       "3690      NaN   NaN       NaN         NaN               NaT               NaN  \n",
       "3704      NaN   NaN       NaN         NaN               NaT               NaN  \n",
       "3718      NaN   NaN       NaN         NaN               NaT               NaN  \n",
       "3732      NaN   NaN       NaN         NaN               NaT               NaN  \n",
       "\n",
       "[3985 rows x 17 columns]"
      ]
     },
     "execution_count": 18,
     "metadata": {},
     "output_type": "execute_result"
    }
   ],
   "source": [
    "df_joined"
   ]
  },
  {
   "cell_type": "code",
   "execution_count": 19,
   "metadata": {},
   "outputs": [],
   "source": [
    "class QualityProduction:\n",
    "    \"\"\"\n",
    "    Essa classe é responsável por juntar os DataFrames de qualidade e produção.\n",
    "    \"\"\"\n",
    "\n",
    "    def __init__(self, df_quality, df_production):\n",
    "        self.df_quality = df_quality\n",
    "        self.df_production = df_production\n",
    "\n",
    "    def join_data(self) -> pd.DataFrame:\n",
    "        \"\"\"\n",
    "        Junta os DataFrames de qualidade e produção.\n",
    "        \"\"\"\n",
    "\n",
    "        # Garantir que data de registro seja datetime\n",
    "        self.df_quality.data_registro = pd.to_datetime(self.df_quality.data_registro)\n",
    "        self.df_production.data_registro = pd.to_datetime(self.df_production.data_registro)\n",
    "\n",
    "        # Classifica os DataFrames\n",
    "        self.df_quality = self.df_quality.sort_values(by=\"data_registro\")\n",
    "        self.df_production = self.df_production.sort_values(by=\"data_registro\")\n",
    "\n",
    "        # Junta os DataFrames pela data e turno\n",
    "        df = pd.merge(\n",
    "            self.df_production,\n",
    "            self.df_quality,\n",
    "            on=[\"linha\", \"maquina_id\", \"data_registro\", \"turno\"],\n",
    "            how=\"left\",\n",
    "        )\n",
    "\n",
    "        # Renomear coluna total produzido\n",
    "        df = df.rename(columns={\"total_produzido\": \"total_produzido_sensor\"})\n",
    "\n",
    "        # Preencher valores nulos\n",
    "        df = df.fillna(0)\n",
    "\n",
    "        # Calcula produção total\n",
    "        mask = (df.total_ciclos - df.total_produzido_sensor) < 500\n",
    "        ciclos = df.total_ciclos - df.bdj_vazias - df.bdj_retrabalho\n",
    "        sensor = df.total_produzido_sensor - df.bdj_retrabalho\n",
    "        df[\"total_produzido\"] = np.where(mask, sensor, ciclos)\n",
    "\n",
    "        # Ordenar os valores\n",
    "        df = df.sort_values(by=[\"data_registro\", \"turno\", \"linha\"])\n",
    "\n",
    "        # Reordenar as colunas\n",
    "        df = df[\n",
    "            [\n",
    "                \"fabrica\",\n",
    "                \"linha\",\n",
    "                \"maquina_id\",\n",
    "                \"turno\",\n",
    "                \"total_ciclos\",\n",
    "                \"total_produzido_sensor\",\n",
    "                \"bdj_vazias\",\n",
    "                \"bdj_retrabalho\",\n",
    "                \"total_produzido\",\n",
    "                \"data_registro\",\n",
    "                \"hora_registro\",\n",
    "            ]\n",
    "        ]\n",
    "\n",
    "        # Definir como int\n",
    "        df.total_produzido = df.total_produzido.astype(int)\n",
    "        df.total_produzido_sensor = df.total_produzido_sensor.astype(int)\n",
    "        df.bdj_vazias = df.bdj_vazias.astype(int)\n",
    "        df.bdj_retrabalho = df.bdj_retrabalho.astype(int)\n",
    "\n",
    "        return df\n",
    "\n",
    "\n",
    "quality_production = QualityProduction(df_ihm_discard.copy(), df_info_production_clean.copy())"
   ]
  },
  {
   "cell_type": "code",
   "execution_count": 20,
   "metadata": {},
   "outputs": [
    {
     "name": "stderr",
     "output_type": "stream",
     "text": [
      "C:\\Users\\bruno.thomaz\\AppData\\Local\\Temp\\ipykernel_73148\\215352240.py:35: FutureWarning: Downcasting object dtype arrays on .fillna, .ffill, .bfill is deprecated and will change in a future version. Call result.infer_objects(copy=False) instead. To opt-in to the future behavior, set `pd.set_option('future.no_silent_downcasting', True)`\n",
      "  df = df.fillna(0)\n"
     ]
    },
    {
     "data": {
      "text/html": [
       "<div>\n",
       "<style scoped>\n",
       "    .dataframe tbody tr th:only-of-type {\n",
       "        vertical-align: middle;\n",
       "    }\n",
       "\n",
       "    .dataframe tbody tr th {\n",
       "        vertical-align: top;\n",
       "    }\n",
       "\n",
       "    .dataframe thead th {\n",
       "        text-align: right;\n",
       "    }\n",
       "</style>\n",
       "<table border=\"1\" class=\"dataframe\">\n",
       "  <thead>\n",
       "    <tr style=\"text-align: right;\">\n",
       "      <th></th>\n",
       "      <th>fabrica</th>\n",
       "      <th>linha</th>\n",
       "      <th>maquina_id</th>\n",
       "      <th>turno</th>\n",
       "      <th>total_ciclos</th>\n",
       "      <th>total_produzido_sensor</th>\n",
       "      <th>bdj_vazias</th>\n",
       "      <th>bdj_retrabalho</th>\n",
       "      <th>total_produzido</th>\n",
       "      <th>data_registro</th>\n",
       "      <th>hora_registro</th>\n",
       "    </tr>\n",
       "  </thead>\n",
       "  <tbody>\n",
       "    <tr>\n",
       "      <th>0</th>\n",
       "      <td>1</td>\n",
       "      <td>1</td>\n",
       "      <td>TMF003</td>\n",
       "      <td>NOT</td>\n",
       "      <td>0.0</td>\n",
       "      <td>0</td>\n",
       "      <td>0</td>\n",
       "      <td>0</td>\n",
       "      <td>0</td>\n",
       "      <td>2024-07-01</td>\n",
       "      <td>07:58:16</td>\n",
       "    </tr>\n",
       "    <tr>\n",
       "      <th>24</th>\n",
       "      <td>1</td>\n",
       "      <td>2</td>\n",
       "      <td>TMF011</td>\n",
       "      <td>NOT</td>\n",
       "      <td>12.0</td>\n",
       "      <td>12</td>\n",
       "      <td>0</td>\n",
       "      <td>0</td>\n",
       "      <td>12</td>\n",
       "      <td>2024-07-01</td>\n",
       "      <td>07:58:17</td>\n",
       "    </tr>\n",
       "    <tr>\n",
       "      <th>22</th>\n",
       "      <td>1</td>\n",
       "      <td>3</td>\n",
       "      <td>TMF005</td>\n",
       "      <td>NOT</td>\n",
       "      <td>40.0</td>\n",
       "      <td>20</td>\n",
       "      <td>0</td>\n",
       "      <td>0</td>\n",
       "      <td>20</td>\n",
       "      <td>2024-07-01</td>\n",
       "      <td>07:58:18</td>\n",
       "    </tr>\n",
       "    <tr>\n",
       "      <th>20</th>\n",
       "      <td>1</td>\n",
       "      <td>4</td>\n",
       "      <td>TMF012</td>\n",
       "      <td>NOT</td>\n",
       "      <td>44.0</td>\n",
       "      <td>0</td>\n",
       "      <td>0</td>\n",
       "      <td>0</td>\n",
       "      <td>0</td>\n",
       "      <td>2024-07-01</td>\n",
       "      <td>07:58:19</td>\n",
       "    </tr>\n",
       "    <tr>\n",
       "      <th>18</th>\n",
       "      <td>1</td>\n",
       "      <td>5</td>\n",
       "      <td>TMF002</td>\n",
       "      <td>NOT</td>\n",
       "      <td>50.0</td>\n",
       "      <td>50</td>\n",
       "      <td>0</td>\n",
       "      <td>0</td>\n",
       "      <td>50</td>\n",
       "      <td>2024-07-01</td>\n",
       "      <td>07:58:20</td>\n",
       "    </tr>\n",
       "    <tr>\n",
       "      <th>16</th>\n",
       "      <td>1</td>\n",
       "      <td>6</td>\n",
       "      <td>TMF001</td>\n",
       "      <td>NOT</td>\n",
       "      <td>78.0</td>\n",
       "      <td>0</td>\n",
       "      <td>0</td>\n",
       "      <td>0</td>\n",
       "      <td>0</td>\n",
       "      <td>2024-07-01</td>\n",
       "      <td>07:58:21</td>\n",
       "    </tr>\n",
       "    <tr>\n",
       "      <th>14</th>\n",
       "      <td>1</td>\n",
       "      <td>7</td>\n",
       "      <td>TMF006</td>\n",
       "      <td>NOT</td>\n",
       "      <td>64.0</td>\n",
       "      <td>0</td>\n",
       "      <td>0</td>\n",
       "      <td>0</td>\n",
       "      <td>0</td>\n",
       "      <td>2024-07-01</td>\n",
       "      <td>07:58:22</td>\n",
       "    </tr>\n",
       "    <tr>\n",
       "      <th>12</th>\n",
       "      <td>1</td>\n",
       "      <td>8</td>\n",
       "      <td>TMF014</td>\n",
       "      <td>NOT</td>\n",
       "      <td>96.0</td>\n",
       "      <td>0</td>\n",
       "      <td>0</td>\n",
       "      <td>0</td>\n",
       "      <td>0</td>\n",
       "      <td>2024-07-01</td>\n",
       "      <td>07:58:23</td>\n",
       "    </tr>\n",
       "    <tr>\n",
       "      <th>10</th>\n",
       "      <td>1</td>\n",
       "      <td>9</td>\n",
       "      <td>TMF004</td>\n",
       "      <td>NOT</td>\n",
       "      <td>44.0</td>\n",
       "      <td>0</td>\n",
       "      <td>0</td>\n",
       "      <td>0</td>\n",
       "      <td>0</td>\n",
       "      <td>2024-07-01</td>\n",
       "      <td>07:58:24</td>\n",
       "    </tr>\n",
       "    <tr>\n",
       "      <th>8</th>\n",
       "      <td>2</td>\n",
       "      <td>10</td>\n",
       "      <td>TMF008</td>\n",
       "      <td>NOT</td>\n",
       "      <td>0.0</td>\n",
       "      <td>0</td>\n",
       "      <td>0</td>\n",
       "      <td>0</td>\n",
       "      <td>0</td>\n",
       "      <td>2024-07-01</td>\n",
       "      <td>07:59:15</td>\n",
       "    </tr>\n",
       "    <tr>\n",
       "      <th>6</th>\n",
       "      <td>2</td>\n",
       "      <td>11</td>\n",
       "      <td>TMF010</td>\n",
       "      <td>NOT</td>\n",
       "      <td>0.0</td>\n",
       "      <td>0</td>\n",
       "      <td>0</td>\n",
       "      <td>0</td>\n",
       "      <td>0</td>\n",
       "      <td>2024-07-01</td>\n",
       "      <td>07:59:16</td>\n",
       "    </tr>\n",
       "    <tr>\n",
       "      <th>4</th>\n",
       "      <td>2</td>\n",
       "      <td>12</td>\n",
       "      <td>TMF007</td>\n",
       "      <td>NOT</td>\n",
       "      <td>0.0</td>\n",
       "      <td>0</td>\n",
       "      <td>0</td>\n",
       "      <td>0</td>\n",
       "      <td>0</td>\n",
       "      <td>2024-07-01</td>\n",
       "      <td>07:59:17</td>\n",
       "    </tr>\n",
       "    <tr>\n",
       "      <th>2</th>\n",
       "      <td>2</td>\n",
       "      <td>13</td>\n",
       "      <td>TMF013</td>\n",
       "      <td>NOT</td>\n",
       "      <td>0.0</td>\n",
       "      <td>0</td>\n",
       "      <td>0</td>\n",
       "      <td>0</td>\n",
       "      <td>0</td>\n",
       "      <td>2024-07-01</td>\n",
       "      <td>07:59:18</td>\n",
       "    </tr>\n",
       "    <tr>\n",
       "      <th>26</th>\n",
       "      <td>2</td>\n",
       "      <td>14</td>\n",
       "      <td>TMF009</td>\n",
       "      <td>NOT</td>\n",
       "      <td>0.0</td>\n",
       "      <td>0</td>\n",
       "      <td>0</td>\n",
       "      <td>0</td>\n",
       "      <td>0</td>\n",
       "      <td>2024-07-01</td>\n",
       "      <td>07:59:19</td>\n",
       "    </tr>\n",
       "  </tbody>\n",
       "</table>\n",
       "</div>"
      ],
      "text/plain": [
       "   fabrica  linha maquina_id turno  total_ciclos  total_produzido_sensor  \\\n",
       "0        1      1     TMF003   NOT           0.0                       0   \n",
       "24       1      2     TMF011   NOT          12.0                      12   \n",
       "22       1      3     TMF005   NOT          40.0                      20   \n",
       "20       1      4     TMF012   NOT          44.0                       0   \n",
       "18       1      5     TMF002   NOT          50.0                      50   \n",
       "16       1      6     TMF001   NOT          78.0                       0   \n",
       "14       1      7     TMF006   NOT          64.0                       0   \n",
       "12       1      8     TMF014   NOT          96.0                       0   \n",
       "10       1      9     TMF004   NOT          44.0                       0   \n",
       "8        2     10     TMF008   NOT           0.0                       0   \n",
       "6        2     11     TMF010   NOT           0.0                       0   \n",
       "4        2     12     TMF007   NOT           0.0                       0   \n",
       "2        2     13     TMF013   NOT           0.0                       0   \n",
       "26       2     14     TMF009   NOT           0.0                       0   \n",
       "\n",
       "    bdj_vazias  bdj_retrabalho  total_produzido data_registro hora_registro  \n",
       "0            0               0                0    2024-07-01      07:58:16  \n",
       "24           0               0               12    2024-07-01      07:58:17  \n",
       "22           0               0               20    2024-07-01      07:58:18  \n",
       "20           0               0                0    2024-07-01      07:58:19  \n",
       "18           0               0               50    2024-07-01      07:58:20  \n",
       "16           0               0                0    2024-07-01      07:58:21  \n",
       "14           0               0                0    2024-07-01      07:58:22  \n",
       "12           0               0                0    2024-07-01      07:58:23  \n",
       "10           0               0                0    2024-07-01      07:58:24  \n",
       "8            0               0                0    2024-07-01      07:59:15  \n",
       "6            0               0                0    2024-07-01      07:59:16  \n",
       "4            0               0                0    2024-07-01      07:59:17  \n",
       "2            0               0                0    2024-07-01      07:59:18  \n",
       "26           0               0                0    2024-07-01      07:59:19  "
      ]
     },
     "execution_count": 20,
     "metadata": {},
     "output_type": "execute_result"
    }
   ],
   "source": [
    "df_info_production_cleaned = quality_production.join_data()\n",
    "df_info_production_cleaned.tail(14)"
   ]
  },
  {
   "cell_type": "markdown",
   "metadata": {},
   "source": [
    "# Service\n"
   ]
  },
  {
   "cell_type": "markdown",
   "metadata": {},
   "source": [
    "## Info + IHM Service\n"
   ]
  },
  {
   "cell_type": "code",
   "execution_count": 21,
   "metadata": {
    "notebookRunGroups": {
     "groupValue": "2"
    }
   },
   "outputs": [],
   "source": [
    "class ServiceInfoIHM:\n",
    "    \"\"\"\n",
    "    Essa classe é responsável por realizar a leitura, limpeza e junção dos dados de informações e IHM.\n",
    "    \"\"\"\n",
    "\n",
    "    def __init__(self):\n",
    "        self.get_data = GetData()\n",
    "        self.clean_data = CleanData\n",
    "        self.join_info_ihm = JoinInfoIHM\n",
    "        self.data = self.get_data.get_data()\n",
    "\n",
    "    def __get_info_ihm(self) -> pd.DataFrame:\n",
    "        \"\"\"\n",
    "        Realiza a leitura, limpeza e junção dos dados de informações e IHM.\n",
    "        \"\"\"\n",
    "\n",
    "        # Realiza a leitura dos dados\n",
    "        df_ihm, df_info, _ = self.data\n",
    "\n",
    "        # Verifica se os dados foram lidos corretamente\n",
    "        if df_ihm is None or df_info is None or df_info_production is None:\n",
    "            return None\n",
    "\n",
    "        # Limpa os dados\n",
    "        clean_data = self.clean_data(df_ihm, df_info, df_info_production)\n",
    "        df_ihm_cleaned, df_info_cleaned, _ = clean_data.clean_data()\n",
    "\n",
    "        # Junta os dados\n",
    "        join_info_ihm = self.join_info_ihm(df_ihm_cleaned, df_info_cleaned)\n",
    "        df_joined = join_info_ihm.join_data()\n",
    "\n",
    "        return df_joined\n",
    "\n",
    "    def __identify_changes(self, df, column) -> pd.Series:\n",
    "        return df[column].ne(df[column].shift())\n",
    "\n",
    "    def __status_change(self, df):\n",
    "        # Checa se houve mudança de status, maquina_id e turno\n",
    "        columns_to_check = [\"status\", \"maquina_id\", \"turno\"]\n",
    "        for column in columns_to_check:\n",
    "            df[f\"{column}_change\"] = self.__identify_changes(df, column)\n",
    "\n",
    "        # Coluna auxiliar que identifica se houve alguma mudança\n",
    "        df[\"change\"] = df[[\"status_change\", \"maquina_id_change\", \"turno_change\"]].any(axis=1)\n",
    "\n",
    "        return df\n",
    "\n",
    "    def __fill_occ(self, df):\n",
    "        # Preenche os valores nulos de paradas\n",
    "        df[\"motivo\"] = df.groupby(\"group\")[\"motivo\"].transform(lambda x: x.ffill().bfill())\n",
    "        df[\"equipamento\"] = df.groupby(\"group\")[\"equipamento\"].transform(\n",
    "            lambda x: x.ffill().bfill()\n",
    "        )\n",
    "        df[\"problema\"] = df.groupby(\"group\")[\"problema\"].transform(lambda x: x.ffill().bfill())\n",
    "        df[\"causa\"] = df.groupby(\"group\")[\"causa\"].transform(lambda x: x.ffill().bfill())\n",
    "        df[\"os_numero\"] = df.groupby(\"group\")[\"os_numero\"].transform(lambda x: x.ffill().bfill())\n",
    "        df[\"operador_id\"] = df.groupby(\"group\")[\"operador_id\"].transform(\n",
    "            lambda x: x.ffill().bfill()\n",
    "        )\n",
    "        df[\"data_registro_ihm\"] = df.groupby(\"group\")[\"data_registro_ihm\"].transform(\n",
    "            lambda x: x.ffill().bfill()\n",
    "        )\n",
    "        df[\"hora_registro_ihm\"] = df.groupby(\"group\")[\"hora_registro_ihm\"].transform(\n",
    "            lambda x: x.ffill().bfill()\n",
    "        )\n",
    "\n",
    "        # Se os dado de uma coluna for '' ou ' ', substituir por NaN\n",
    "        df = df.replace(r\"^s*$\", None, regex=True)\n",
    "        # O ^ indica o início de uma string, o $ indica o fim de uma string, e s* zero ou mais espaços em branco\n",
    "\n",
    "        return df\n",
    "\n",
    "    def __group_and_calc_time(self, df):\n",
    "        # Agrupa as mudanças\n",
    "        df = (\n",
    "            df.groupby([\"group\"])\n",
    "            .agg(\n",
    "                fabrica=(\"fabrica\", \"first\"),\n",
    "                linha=(\"linha\", \"first\"),\n",
    "                maquina_id=(\"maquina_id\", \"first\"),\n",
    "                turno=(\"turno\", \"first\"),\n",
    "                status=(\"status\", \"first\"),\n",
    "                data_registro=(\"data_registro\", \"first\"),\n",
    "                hora_registro=(\"hora_registro\", \"first\"),\n",
    "                motivo=(\"motivo\", \"first\"),\n",
    "                equipamento=(\"equipamento\", \"first\"),\n",
    "                problema=(\"problema\", \"first\"),\n",
    "                causa=(\"causa\", \"first\"),\n",
    "                os_numero=(\"os_numero\", \"first\"),\n",
    "                operador_id=(\"operador_id\", \"first\"),\n",
    "                data_registro_ihm=(\"data_registro_ihm\", \"first\"),\n",
    "                hora_registro_ihm=(\"hora_registro_ihm\", \"first\"),\n",
    "                data_hora=(\"data_hora\", \"first\"),\n",
    "                change=(\"change\", \"first\"),\n",
    "                maquina_id_change=(\"maquina_id_change\", \"first\"),\n",
    "                change_date=(\"change_date\", \"first\"),\n",
    "                motivo_change=(\"motivo_change\", \"first\"),\n",
    "            )\n",
    "            .reset_index()\n",
    "        )\n",
    "\n",
    "        # Nova coluna com a data_hora_final do status/parada\n",
    "        df[\"data_hora_final\"] = (\n",
    "            df.groupby(\"maquina_id\")[\"data_hora\"].shift(-1).where(~df[\"maquina_id_change\"])\n",
    "        )\n",
    "\n",
    "        # Atualiza a hora final caso mude a máquina\n",
    "        mask = df[\"maquina_id_change\"]\n",
    "        df[\"data_hora_final\"] = np.where(\n",
    "            mask,\n",
    "            df[\"change_date\"].shift(-1),\n",
    "            df[\"data_hora_final\"],\n",
    "        )\n",
    "\n",
    "        # Dicionário com o horário de término de cada turno\n",
    "        turno_end_time = {\n",
    "            \"NOT\": pd.to_timedelta(\"08:01:00\"),\n",
    "            \"MAT\": pd.to_timedelta(\"16:01:00\"),\n",
    "            \"VES\": pd.to_timedelta(\"00:01:00\"),\n",
    "        }\n",
    "\n",
    "        # Nova coluna com o horário de término do turno\n",
    "        df[\"turno_end_time\"] = df[\"turno\"].map(turno_end_time)\n",
    "\n",
    "        # Atualiza a hora final caso haja mudança de turno\n",
    "        mask = df[\"turno\"] != df[\"turno\"].shift(-1)\n",
    "        df[\"data_hora_final\"] = np.where(\n",
    "            mask & (df[\"turno\"] == \"VES\"),\n",
    "            (df[\"data_hora\"].dt.normalize() + pd.DateOffset(days=1)) + df[\"turno_end_time\"],\n",
    "            np.where(\n",
    "                mask,\n",
    "                df[\"data_hora\"].dt.normalize() + df[\"turno_end_time\"],\n",
    "                df[\"data_hora_final\"],\n",
    "            ),\n",
    "        )\n",
    "\n",
    "        # Remove coluna auxiliar\n",
    "        df = df.drop(columns=[\"turno_end_time\"])\n",
    "\n",
    "        # Caso a data_hora_final seja nula, remove a linha\n",
    "        df = df.dropna(subset=[\"data_hora_final\"]).reset_index(drop=True)\n",
    "\n",
    "        # Calcula o tempo de cada status\n",
    "        df[\"tempo\"] = (\n",
    "            pd.to_datetime(df[\"data_hora_final\"]) - pd.to_datetime(df[\"data_hora\"])\n",
    "        ).dt.total_seconds() / 60\n",
    "\n",
    "        # Arredondar e converter para inteiro\n",
    "        df[\"tempo\"] = df[\"tempo\"].round().astype(int)\n",
    "\n",
    "        # Se o tempo for maior que 478, e o motivo for parada programada ou limpeza ajustar para 480\n",
    "        mask = (df[\"tempo\"] > 478) & (df[\"motivo\"].isin([\"Parada Programada\", \"Limpeza\"]))\n",
    "        df[\"tempo\"] = np.where(mask, 480, df[\"tempo\"])\n",
    "\n",
    "        return df\n",
    "\n",
    "    def get_info_ihm_adjusted(self) -> pd.DataFrame:\n",
    "        \"\"\"\n",
    "        Realiza a leitura, limpeza e junção dos dados de informações e IHM.\n",
    "        Ajusta os dados para o formato correto.\n",
    "        \"\"\"\n",
    "\n",
    "        # Realiza a leitura, limpeza e junção dos dados\n",
    "        df_joined = self.__get_info_ihm()\n",
    "\n",
    "        if df_joined is None:\n",
    "            return None\n",
    "\n",
    "        # ========================= Identifica Onde Há Mudança De Status ========================= #\n",
    "\n",
    "        df_joined = self.__status_change(df_joined)\n",
    "\n",
    "        # ========================= Preenchendo Valores Nulos De Paradas ========================= #\n",
    "\n",
    "        # Cria um grupo para cada mudança de status\n",
    "        df_joined[\"group\"] = df_joined[\"change\"].cumsum()\n",
    "\n",
    "        # Preenche os valores nulos de paradas\n",
    "        df_joined = self.__fill_occ(df_joined)\n",
    "\n",
    "        # Coluna auxiliar para identificar mudança na coluna motivo, se não for nula\n",
    "        mask = (df_joined[\"motivo\"].ne(df_joined[\"motivo\"].shift())) | (\n",
    "            df_joined[\"causa\"].ne(df_joined[\"causa\"].shift())\n",
    "        )\n",
    "        df_joined[\"motivo_change\"] = mask & df_joined[\"motivo\"].notnull()\n",
    "\n",
    "        # Atualiza o change\n",
    "        df_joined[\"change\"] = df_joined[\"change\"] | df_joined[\"motivo_change\"]\n",
    "\n",
    "        # Refaz o grupo para considerar a mudança na coluna motivo\n",
    "        df_joined[\"group\"] = df_joined[\"change\"].cumsum()\n",
    "\n",
    "        # Coluna auxiliar para unir data e hora\n",
    "        df_joined[\"data_hora\"] = pd.to_datetime(\n",
    "            df_joined[\"data_registro\"].astype(str) + \" \" + df_joined[\"hora_registro\"].astype(str)\n",
    "        )\n",
    "\n",
    "        # Coluna auxiliar para identificar a data/hora da mudança\n",
    "        df_joined[\"change_date\"] = (\n",
    "            df_joined.groupby(\"maquina_id\")[\"data_hora\"].shift(0).where(df_joined[\"change\"])\n",
    "        )\n",
    "\n",
    "        # ============================ Calcula O Tempo Parada Ou Rodando ========================== #\n",
    "\n",
    "        # Calcula os tempos\n",
    "        df_joined = self.__group_and_calc_time(df_joined)\n",
    "\n",
    "        # Ajustar status para levar em conta testes\n",
    "        mask = (\n",
    "            (df_joined[\"status\"] == \"rodando\")\n",
    "            & (df_joined[\"tempo\"] <= 10)\n",
    "            & (df_joined[\"turno\"].eq(df_joined[\"turno\"].shift(-1)))\n",
    "            & (df_joined[\"motivo\"].shift() != \"Parada Programada\")\n",
    "        )\n",
    "        df_joined[\"status\"] = np.where(mask, \"parada\", df_joined[\"status\"])\n",
    "\n",
    "        # Ajustando o motivo change\n",
    "        df_joined[\"motivo_change\"] = np.where(mask, False, df_joined[\"motivo_change\"].shift(-1))\n",
    "\n",
    "        # Ajuste em change para refletir alterações\n",
    "        df_joined = self.__status_change(df_joined)\n",
    "        df_joined[\"change\"] = df_joined[\"change\"] | df_joined[\"motivo_change\"]\n",
    "\n",
    "        # Refaz o group\n",
    "        df_joined[\"group\"] = df_joined[\"change\"].cumsum()\n",
    "\n",
    "        # Preenche os valores nulos de paradas\n",
    "        df_joined = self.__fill_occ(df_joined)\n",
    "\n",
    "        # Recalcula os tempos\n",
    "        df_joined = self.__group_and_calc_time(df_joined)\n",
    "\n",
    "        # Se o tempo for negativo, ajustar para 0\n",
    "        df_joined[\"tempo\"] = df_joined[\"tempo\"].clip(lower=0)\n",
    "\n",
    "        # Se o tempo for maior que 480 minutos, ajustar para 480\n",
    "        df_joined[\"tempo\"] = df_joined[\"tempo\"].clip(upper=480)\n",
    "\n",
    "        # Remove colunas auxiliares\n",
    "        df_joined = df_joined.drop(\n",
    "            columns=[\n",
    "                \"maquina_id_change\",\n",
    "                \"change\",\n",
    "                \"maquina_id_change\",\n",
    "                \"change_date\",\n",
    "                \"motivo_change\",\n",
    "                \"group\",\n",
    "            ]\n",
    "        )\n",
    "\n",
    "        return df_joined\n",
    "\n",
    "    def get_time_working(self, df: pd.DataFrame) -> pd.Series:\n",
    "        \"\"\"\n",
    "        Calcula o tempo de trabalho de cada máquina.\n",
    "        \"\"\"\n",
    "\n",
    "        # Filtra apenas as máquinas que estão rodando\n",
    "        df = df[df[\"status\"] == \"rodando\"]\n",
    "\n",
    "        # Agrupa por máquina e turno\n",
    "        df = (\n",
    "            df.groupby([\"maquina_id\", \"linha\", \"turno\", \"data_registro\", \"status\"], observed=False)[\n",
    "                \"tempo\"\n",
    "            ]\n",
    "            .sum()\n",
    "            .reset_index()\n",
    "        )\n",
    "\n",
    "        # Renomear coluna\n",
    "        df = df.rename(columns={\"status\": \"motivo\"})\n",
    "\n",
    "        # Capitaliza o motivo\n",
    "        df[\"motivo\"] = df[\"motivo\"].str.capitalize()\n",
    "\n",
    "        return df\n",
    "\n",
    "    def get_maq_stopped(self, df: pd.DataFrame) -> pd.Series:\n",
    "\n",
    "        # Filtra apenas as máquinas que estão paradas\n",
    "        df = df[df[\"status\"] == \"parada\"]\n",
    "\n",
    "        # Reinicia o índice\n",
    "        df = df.reset_index(drop=True)\n",
    "\n",
    "        return df\n",
    "\n",
    "\n",
    "service_info_ihm = ServiceInfoIHM()"
   ]
  },
  {
   "cell_type": "markdown",
   "metadata": {},
   "source": [
    "## Saídas do serviço\n"
   ]
  },
  {
   "cell_type": "code",
   "execution_count": 22,
   "metadata": {
    "notebookRunGroups": {
     "groupValue": "2"
    }
   },
   "outputs": [
    {
     "name": "stderr",
     "output_type": "stream",
     "text": [
      "C:\\Users\\bruno.thomaz\\AppData\\Local\\Temp\\ipykernel_73148\\2711936803.py:50: FutureWarning: Downcasting object dtype arrays on .fillna, .ffill, .bfill is deprecated and will change in a future version. Call result.infer_objects(copy=False) instead. To opt-in to the future behavior, set `pd.set_option('future.no_silent_downcasting', True)`\n",
      "  df[\"motivo\"] = df.groupby(\"group\")[\"motivo\"].transform(lambda x: x.ffill().bfill())\n",
      "C:\\Users\\bruno.thomaz\\AppData\\Local\\Temp\\ipykernel_73148\\2711936803.py:52: FutureWarning: Downcasting object dtype arrays on .fillna, .ffill, .bfill is deprecated and will change in a future version. Call result.infer_objects(copy=False) instead. To opt-in to the future behavior, set `pd.set_option('future.no_silent_downcasting', True)`\n",
      "  lambda x: x.ffill().bfill()\n",
      "C:\\Users\\bruno.thomaz\\AppData\\Local\\Temp\\ipykernel_73148\\2711936803.py:54: FutureWarning: Downcasting object dtype arrays on .fillna, .ffill, .bfill is deprecated and will change in a future version. Call result.infer_objects(copy=False) instead. To opt-in to the future behavior, set `pd.set_option('future.no_silent_downcasting', True)`\n",
      "  df[\"problema\"] = df.groupby(\"group\")[\"problema\"].transform(lambda x: x.ffill().bfill())\n",
      "C:\\Users\\bruno.thomaz\\AppData\\Local\\Temp\\ipykernel_73148\\2711936803.py:55: FutureWarning: Downcasting object dtype arrays on .fillna, .ffill, .bfill is deprecated and will change in a future version. Call result.infer_objects(copy=False) instead. To opt-in to the future behavior, set `pd.set_option('future.no_silent_downcasting', True)`\n",
      "  df[\"causa\"] = df.groupby(\"group\")[\"causa\"].transform(lambda x: x.ffill().bfill())\n",
      "C:\\Users\\bruno.thomaz\\AppData\\Local\\Temp\\ipykernel_73148\\2711936803.py:56: FutureWarning: Downcasting object dtype arrays on .fillna, .ffill, .bfill is deprecated and will change in a future version. Call result.infer_objects(copy=False) instead. To opt-in to the future behavior, set `pd.set_option('future.no_silent_downcasting', True)`\n",
      "  df[\"os_numero\"] = df.groupby(\"group\")[\"os_numero\"].transform(lambda x: x.ffill().bfill())\n",
      "C:\\Users\\bruno.thomaz\\AppData\\Local\\Temp\\ipykernel_73148\\2711936803.py:58: FutureWarning: Downcasting object dtype arrays on .fillna, .ffill, .bfill is deprecated and will change in a future version. Call result.infer_objects(copy=False) instead. To opt-in to the future behavior, set `pd.set_option('future.no_silent_downcasting', True)`\n",
      "  lambda x: x.ffill().bfill()\n",
      "C:\\Users\\bruno.thomaz\\AppData\\Local\\Temp\\ipykernel_73148\\2711936803.py:64: FutureWarning: Downcasting object dtype arrays on .fillna, .ffill, .bfill is deprecated and will change in a future version. Call result.infer_objects(copy=False) instead. To opt-in to the future behavior, set `pd.set_option('future.no_silent_downcasting', True)`\n",
      "  lambda x: x.ffill().bfill()\n"
     ]
    },
    {
     "data": {
      "text/html": [
       "<div>\n",
       "<style scoped>\n",
       "    .dataframe tbody tr th:only-of-type {\n",
       "        vertical-align: middle;\n",
       "    }\n",
       "\n",
       "    .dataframe tbody tr th {\n",
       "        vertical-align: top;\n",
       "    }\n",
       "\n",
       "    .dataframe thead th {\n",
       "        text-align: right;\n",
       "    }\n",
       "</style>\n",
       "<table border=\"1\" class=\"dataframe\">\n",
       "  <thead>\n",
       "    <tr style=\"text-align: right;\">\n",
       "      <th></th>\n",
       "      <th>fabrica</th>\n",
       "      <th>linha</th>\n",
       "      <th>maquina_id</th>\n",
       "      <th>turno</th>\n",
       "      <th>status</th>\n",
       "      <th>data_registro</th>\n",
       "      <th>hora_registro</th>\n",
       "      <th>motivo</th>\n",
       "      <th>equipamento</th>\n",
       "      <th>problema</th>\n",
       "      <th>causa</th>\n",
       "      <th>os_numero</th>\n",
       "      <th>operador_id</th>\n",
       "      <th>data_registro_ihm</th>\n",
       "      <th>hora_registro_ihm</th>\n",
       "      <th>data_hora</th>\n",
       "      <th>data_hora_final</th>\n",
       "      <th>tempo</th>\n",
       "    </tr>\n",
       "  </thead>\n",
       "  <tbody>\n",
       "    <tr>\n",
       "      <th>0</th>\n",
       "      <td>1</td>\n",
       "      <td>1</td>\n",
       "      <td>TMF003</td>\n",
       "      <td>NOT</td>\n",
       "      <td>parada</td>\n",
       "      <td>2024-07-01</td>\n",
       "      <td>00:00:15</td>\n",
       "      <td>None</td>\n",
       "      <td>None</td>\n",
       "      <td>None</td>\n",
       "      <td>None</td>\n",
       "      <td>None</td>\n",
       "      <td>None</td>\n",
       "      <td>NaT</td>\n",
       "      <td>None</td>\n",
       "      <td>2024-07-01 00:00:15</td>\n",
       "      <td>2024-07-01 08:01:00</td>\n",
       "      <td>480</td>\n",
       "    </tr>\n",
       "    <tr>\n",
       "      <th>1</th>\n",
       "      <td>1</td>\n",
       "      <td>1</td>\n",
       "      <td>TMF003</td>\n",
       "      <td>MAT</td>\n",
       "      <td>parada</td>\n",
       "      <td>2024-07-01</td>\n",
       "      <td>08:00:16</td>\n",
       "      <td>None</td>\n",
       "      <td>None</td>\n",
       "      <td>None</td>\n",
       "      <td>None</td>\n",
       "      <td>None</td>\n",
       "      <td>None</td>\n",
       "      <td>NaT</td>\n",
       "      <td>None</td>\n",
       "      <td>2024-07-01 08:00:16</td>\n",
       "      <td>2024-07-01 16:01:00</td>\n",
       "      <td>480</td>\n",
       "    </tr>\n",
       "    <tr>\n",
       "      <th>2</th>\n",
       "      <td>1</td>\n",
       "      <td>2</td>\n",
       "      <td>TMF011</td>\n",
       "      <td>NOT</td>\n",
       "      <td>parada</td>\n",
       "      <td>2024-07-01</td>\n",
       "      <td>00:00:16</td>\n",
       "      <td>Ajustes</td>\n",
       "      <td>Termoformadora</td>\n",
       "      <td>Troca de Bobina</td>\n",
       "      <td>Troca de Bobina Inferior</td>\n",
       "      <td>0</td>\n",
       "      <td>1643</td>\n",
       "      <td>2024-07-01</td>\n",
       "      <td>00:00:44</td>\n",
       "      <td>2024-07-01 00:00:16</td>\n",
       "      <td>2024-07-01 08:01:00</td>\n",
       "      <td>480</td>\n",
       "    </tr>\n",
       "    <tr>\n",
       "      <th>3</th>\n",
       "      <td>1</td>\n",
       "      <td>2</td>\n",
       "      <td>TMF011</td>\n",
       "      <td>MAT</td>\n",
       "      <td>parada</td>\n",
       "      <td>2024-07-01</td>\n",
       "      <td>08:00:17</td>\n",
       "      <td>None</td>\n",
       "      <td>None</td>\n",
       "      <td>None</td>\n",
       "      <td>None</td>\n",
       "      <td>None</td>\n",
       "      <td>None</td>\n",
       "      <td>NaT</td>\n",
       "      <td>None</td>\n",
       "      <td>2024-07-01 08:00:17</td>\n",
       "      <td>2024-07-01 16:01:00</td>\n",
       "      <td>480</td>\n",
       "    </tr>\n",
       "    <tr>\n",
       "      <th>4</th>\n",
       "      <td>1</td>\n",
       "      <td>3</td>\n",
       "      <td>TMF005</td>\n",
       "      <td>NOT</td>\n",
       "      <td>parada</td>\n",
       "      <td>2024-07-01</td>\n",
       "      <td>00:00:17</td>\n",
       "      <td>Parada Programada</td>\n",
       "      <td>None</td>\n",
       "      <td>Parada Planejada</td>\n",
       "      <td>Backup</td>\n",
       "      <td>0</td>\n",
       "      <td>1643</td>\n",
       "      <td>2024-07-01</td>\n",
       "      <td>00:09:07</td>\n",
       "      <td>2024-07-01 00:00:17</td>\n",
       "      <td>2024-07-01 00:16:17</td>\n",
       "      <td>16</td>\n",
       "    </tr>\n",
       "    <tr>\n",
       "      <th>5</th>\n",
       "      <td>1</td>\n",
       "      <td>3</td>\n",
       "      <td>TMF005</td>\n",
       "      <td>NOT</td>\n",
       "      <td>rodando</td>\n",
       "      <td>2024-07-01</td>\n",
       "      <td>00:16:17</td>\n",
       "      <td>Qualidade</td>\n",
       "      <td>Termoformadora</td>\n",
       "      <td>Parâmetros de Qualidade</td>\n",
       "      <td>Esquadro da bandeja inadequado</td>\n",
       "      <td>0</td>\n",
       "      <td>1373</td>\n",
       "      <td>2024-07-01</td>\n",
       "      <td>00:17:32</td>\n",
       "      <td>2024-07-01 00:16:17</td>\n",
       "      <td>2024-07-01 00:18:17</td>\n",
       "      <td>2</td>\n",
       "    </tr>\n",
       "    <tr>\n",
       "      <th>6</th>\n",
       "      <td>1</td>\n",
       "      <td>3</td>\n",
       "      <td>TMF005</td>\n",
       "      <td>NOT</td>\n",
       "      <td>parada</td>\n",
       "      <td>2024-07-01</td>\n",
       "      <td>00:18:17</td>\n",
       "      <td>Qualidade</td>\n",
       "      <td>Termoformadora</td>\n",
       "      <td>Parâmetros de Qualidade</td>\n",
       "      <td>Esquadro da bandeja inadequado</td>\n",
       "      <td>0</td>\n",
       "      <td>1373</td>\n",
       "      <td>2024-07-01</td>\n",
       "      <td>00:18:46</td>\n",
       "      <td>2024-07-01 00:18:17</td>\n",
       "      <td>2024-07-01 08:01:00</td>\n",
       "      <td>463</td>\n",
       "    </tr>\n",
       "    <tr>\n",
       "      <th>7</th>\n",
       "      <td>1</td>\n",
       "      <td>3</td>\n",
       "      <td>TMF005</td>\n",
       "      <td>MAT</td>\n",
       "      <td>parada</td>\n",
       "      <td>2024-07-01</td>\n",
       "      <td>08:00:18</td>\n",
       "      <td>None</td>\n",
       "      <td>None</td>\n",
       "      <td>None</td>\n",
       "      <td>None</td>\n",
       "      <td>None</td>\n",
       "      <td>None</td>\n",
       "      <td>NaT</td>\n",
       "      <td>None</td>\n",
       "      <td>2024-07-01 08:00:18</td>\n",
       "      <td>2024-07-01 16:01:00</td>\n",
       "      <td>480</td>\n",
       "    </tr>\n",
       "    <tr>\n",
       "      <th>8</th>\n",
       "      <td>1</td>\n",
       "      <td>4</td>\n",
       "      <td>TMF012</td>\n",
       "      <td>NOT</td>\n",
       "      <td>parada</td>\n",
       "      <td>2024-07-01</td>\n",
       "      <td>00:00:18</td>\n",
       "      <td>Ajustes</td>\n",
       "      <td>Termoformadora</td>\n",
       "      <td>Troca de Bobina</td>\n",
       "      <td>Troca de Bobina Inferior</td>\n",
       "      <td>0</td>\n",
       "      <td>434</td>\n",
       "      <td>2024-07-01</td>\n",
       "      <td>00:08:53</td>\n",
       "      <td>2024-07-01 00:00:18</td>\n",
       "      <td>2024-07-01 08:01:00</td>\n",
       "      <td>480</td>\n",
       "    </tr>\n",
       "    <tr>\n",
       "      <th>9</th>\n",
       "      <td>1</td>\n",
       "      <td>4</td>\n",
       "      <td>TMF012</td>\n",
       "      <td>MAT</td>\n",
       "      <td>parada</td>\n",
       "      <td>2024-07-01</td>\n",
       "      <td>08:00:19</td>\n",
       "      <td>None</td>\n",
       "      <td>None</td>\n",
       "      <td>None</td>\n",
       "      <td>None</td>\n",
       "      <td>None</td>\n",
       "      <td>None</td>\n",
       "      <td>NaT</td>\n",
       "      <td>None</td>\n",
       "      <td>2024-07-01 08:00:19</td>\n",
       "      <td>2024-07-01 16:01:00</td>\n",
       "      <td>480</td>\n",
       "    </tr>\n",
       "    <tr>\n",
       "      <th>10</th>\n",
       "      <td>1</td>\n",
       "      <td>5</td>\n",
       "      <td>TMF002</td>\n",
       "      <td>NOT</td>\n",
       "      <td>parada</td>\n",
       "      <td>2024-07-01</td>\n",
       "      <td>00:00:19</td>\n",
       "      <td>Limpeza</td>\n",
       "      <td>Termoformadora</td>\n",
       "      <td>Limpeza para parada de Fábrica</td>\n",
       "      <td>Data fora de posição</td>\n",
       "      <td>0</td>\n",
       "      <td>1643</td>\n",
       "      <td>2024-07-01</td>\n",
       "      <td>00:17:44</td>\n",
       "      <td>2024-07-01 00:00:19</td>\n",
       "      <td>2024-07-01 08:01:00</td>\n",
       "      <td>480</td>\n",
       "    </tr>\n",
       "    <tr>\n",
       "      <th>11</th>\n",
       "      <td>1</td>\n",
       "      <td>5</td>\n",
       "      <td>TMF002</td>\n",
       "      <td>MAT</td>\n",
       "      <td>parada</td>\n",
       "      <td>2024-07-01</td>\n",
       "      <td>08:00:20</td>\n",
       "      <td>None</td>\n",
       "      <td>None</td>\n",
       "      <td>None</td>\n",
       "      <td>None</td>\n",
       "      <td>None</td>\n",
       "      <td>None</td>\n",
       "      <td>NaT</td>\n",
       "      <td>None</td>\n",
       "      <td>2024-07-01 08:00:20</td>\n",
       "      <td>2024-07-01 16:01:00</td>\n",
       "      <td>480</td>\n",
       "    </tr>\n",
       "    <tr>\n",
       "      <th>12</th>\n",
       "      <td>1</td>\n",
       "      <td>6</td>\n",
       "      <td>TMF001</td>\n",
       "      <td>NOT</td>\n",
       "      <td>parada</td>\n",
       "      <td>2024-07-01</td>\n",
       "      <td>00:00:20</td>\n",
       "      <td>Limpeza</td>\n",
       "      <td>None</td>\n",
       "      <td>Limpeza para parada de Fábrica</td>\n",
       "      <td>Sem Produção</td>\n",
       "      <td>0</td>\n",
       "      <td>1373</td>\n",
       "      <td>2024-07-01</td>\n",
       "      <td>00:10:01</td>\n",
       "      <td>2024-07-01 00:00:20</td>\n",
       "      <td>2024-07-01 08:01:00</td>\n",
       "      <td>480</td>\n",
       "    </tr>\n",
       "    <tr>\n",
       "      <th>13</th>\n",
       "      <td>1</td>\n",
       "      <td>6</td>\n",
       "      <td>TMF001</td>\n",
       "      <td>MAT</td>\n",
       "      <td>parada</td>\n",
       "      <td>2024-07-01</td>\n",
       "      <td>08:00:21</td>\n",
       "      <td>None</td>\n",
       "      <td>None</td>\n",
       "      <td>None</td>\n",
       "      <td>None</td>\n",
       "      <td>None</td>\n",
       "      <td>None</td>\n",
       "      <td>NaT</td>\n",
       "      <td>None</td>\n",
       "      <td>2024-07-01 08:00:21</td>\n",
       "      <td>2024-07-01 16:01:00</td>\n",
       "      <td>480</td>\n",
       "    </tr>\n",
       "    <tr>\n",
       "      <th>14</th>\n",
       "      <td>1</td>\n",
       "      <td>7</td>\n",
       "      <td>TMF006</td>\n",
       "      <td>NOT</td>\n",
       "      <td>parada</td>\n",
       "      <td>2024-07-01</td>\n",
       "      <td>00:00:21</td>\n",
       "      <td>Limpeza</td>\n",
       "      <td>Termoformadora</td>\n",
       "      <td>Limpeza para parada de Fábrica</td>\n",
       "      <td>Troca de Bobina Inferior</td>\n",
       "      <td>0</td>\n",
       "      <td>1643</td>\n",
       "      <td>2024-07-01</td>\n",
       "      <td>00:16:28</td>\n",
       "      <td>2024-07-01 00:00:21</td>\n",
       "      <td>2024-07-01 08:01:00</td>\n",
       "      <td>480</td>\n",
       "    </tr>\n",
       "    <tr>\n",
       "      <th>15</th>\n",
       "      <td>1</td>\n",
       "      <td>7</td>\n",
       "      <td>TMF006</td>\n",
       "      <td>MAT</td>\n",
       "      <td>parada</td>\n",
       "      <td>2024-07-01</td>\n",
       "      <td>08:00:22</td>\n",
       "      <td>None</td>\n",
       "      <td>None</td>\n",
       "      <td>None</td>\n",
       "      <td>None</td>\n",
       "      <td>None</td>\n",
       "      <td>None</td>\n",
       "      <td>NaT</td>\n",
       "      <td>None</td>\n",
       "      <td>2024-07-01 08:00:22</td>\n",
       "      <td>2024-07-01 16:01:00</td>\n",
       "      <td>480</td>\n",
       "    </tr>\n",
       "    <tr>\n",
       "      <th>16</th>\n",
       "      <td>1</td>\n",
       "      <td>8</td>\n",
       "      <td>TMF014</td>\n",
       "      <td>NOT</td>\n",
       "      <td>parada</td>\n",
       "      <td>2024-07-01</td>\n",
       "      <td>00:00:22</td>\n",
       "      <td>Limpeza</td>\n",
       "      <td>None</td>\n",
       "      <td>Limpeza para parada de Fábrica</td>\n",
       "      <td>None</td>\n",
       "      <td>0</td>\n",
       "      <td>1646</td>\n",
       "      <td>2024-07-01</td>\n",
       "      <td>00:13:34</td>\n",
       "      <td>2024-07-01 00:00:22</td>\n",
       "      <td>2024-07-01 08:01:00</td>\n",
       "      <td>480</td>\n",
       "    </tr>\n",
       "    <tr>\n",
       "      <th>17</th>\n",
       "      <td>1</td>\n",
       "      <td>8</td>\n",
       "      <td>TMF014</td>\n",
       "      <td>MAT</td>\n",
       "      <td>parada</td>\n",
       "      <td>2024-07-01</td>\n",
       "      <td>08:00:23</td>\n",
       "      <td>None</td>\n",
       "      <td>None</td>\n",
       "      <td>None</td>\n",
       "      <td>None</td>\n",
       "      <td>None</td>\n",
       "      <td>None</td>\n",
       "      <td>NaT</td>\n",
       "      <td>None</td>\n",
       "      <td>2024-07-01 08:00:23</td>\n",
       "      <td>2024-07-01 16:01:00</td>\n",
       "      <td>480</td>\n",
       "    </tr>\n",
       "    <tr>\n",
       "      <th>18</th>\n",
       "      <td>1</td>\n",
       "      <td>9</td>\n",
       "      <td>TMF004</td>\n",
       "      <td>NOT</td>\n",
       "      <td>parada</td>\n",
       "      <td>2024-07-01</td>\n",
       "      <td>00:00:23</td>\n",
       "      <td>Parada Programada</td>\n",
       "      <td>None</td>\n",
       "      <td>Parada Planejada</td>\n",
       "      <td>Backup</td>\n",
       "      <td>0</td>\n",
       "      <td>434</td>\n",
       "      <td>2024-07-01</td>\n",
       "      <td>00:12:35</td>\n",
       "      <td>2024-07-01 00:00:23</td>\n",
       "      <td>2024-07-01 08:01:00</td>\n",
       "      <td>480</td>\n",
       "    </tr>\n",
       "    <tr>\n",
       "      <th>19</th>\n",
       "      <td>1</td>\n",
       "      <td>9</td>\n",
       "      <td>TMF004</td>\n",
       "      <td>MAT</td>\n",
       "      <td>parada</td>\n",
       "      <td>2024-07-01</td>\n",
       "      <td>08:00:24</td>\n",
       "      <td>None</td>\n",
       "      <td>None</td>\n",
       "      <td>None</td>\n",
       "      <td>None</td>\n",
       "      <td>None</td>\n",
       "      <td>None</td>\n",
       "      <td>NaT</td>\n",
       "      <td>None</td>\n",
       "      <td>2024-07-01 08:00:24</td>\n",
       "      <td>2024-07-01 16:01:00</td>\n",
       "      <td>480</td>\n",
       "    </tr>\n",
       "    <tr>\n",
       "      <th>20</th>\n",
       "      <td>2</td>\n",
       "      <td>10</td>\n",
       "      <td>TMF008</td>\n",
       "      <td>NOT</td>\n",
       "      <td>parada</td>\n",
       "      <td>2024-07-01</td>\n",
       "      <td>00:01:14</td>\n",
       "      <td>None</td>\n",
       "      <td>None</td>\n",
       "      <td>None</td>\n",
       "      <td>None</td>\n",
       "      <td>None</td>\n",
       "      <td>None</td>\n",
       "      <td>NaT</td>\n",
       "      <td>None</td>\n",
       "      <td>2024-07-01 00:01:14</td>\n",
       "      <td>2024-07-01 08:01:00</td>\n",
       "      <td>480</td>\n",
       "    </tr>\n",
       "    <tr>\n",
       "      <th>21</th>\n",
       "      <td>2</td>\n",
       "      <td>10</td>\n",
       "      <td>TMF008</td>\n",
       "      <td>MAT</td>\n",
       "      <td>parada</td>\n",
       "      <td>2024-07-01</td>\n",
       "      <td>08:01:15</td>\n",
       "      <td>None</td>\n",
       "      <td>None</td>\n",
       "      <td>None</td>\n",
       "      <td>None</td>\n",
       "      <td>None</td>\n",
       "      <td>None</td>\n",
       "      <td>NaT</td>\n",
       "      <td>None</td>\n",
       "      <td>2024-07-01 08:01:15</td>\n",
       "      <td>2024-07-01 16:01:00</td>\n",
       "      <td>480</td>\n",
       "    </tr>\n",
       "    <tr>\n",
       "      <th>22</th>\n",
       "      <td>2</td>\n",
       "      <td>11</td>\n",
       "      <td>TMF010</td>\n",
       "      <td>NOT</td>\n",
       "      <td>parada</td>\n",
       "      <td>2024-07-01</td>\n",
       "      <td>00:01:15</td>\n",
       "      <td>None</td>\n",
       "      <td>None</td>\n",
       "      <td>None</td>\n",
       "      <td>None</td>\n",
       "      <td>None</td>\n",
       "      <td>None</td>\n",
       "      <td>NaT</td>\n",
       "      <td>None</td>\n",
       "      <td>2024-07-01 00:01:15</td>\n",
       "      <td>2024-07-01 08:01:00</td>\n",
       "      <td>480</td>\n",
       "    </tr>\n",
       "    <tr>\n",
       "      <th>23</th>\n",
       "      <td>2</td>\n",
       "      <td>11</td>\n",
       "      <td>TMF010</td>\n",
       "      <td>MAT</td>\n",
       "      <td>parada</td>\n",
       "      <td>2024-07-01</td>\n",
       "      <td>08:01:16</td>\n",
       "      <td>None</td>\n",
       "      <td>None</td>\n",
       "      <td>None</td>\n",
       "      <td>None</td>\n",
       "      <td>None</td>\n",
       "      <td>None</td>\n",
       "      <td>NaT</td>\n",
       "      <td>None</td>\n",
       "      <td>2024-07-01 08:01:16</td>\n",
       "      <td>2024-07-01 16:01:00</td>\n",
       "      <td>480</td>\n",
       "    </tr>\n",
       "    <tr>\n",
       "      <th>24</th>\n",
       "      <td>2</td>\n",
       "      <td>12</td>\n",
       "      <td>TMF007</td>\n",
       "      <td>NOT</td>\n",
       "      <td>parada</td>\n",
       "      <td>2024-07-01</td>\n",
       "      <td>00:01:16</td>\n",
       "      <td>None</td>\n",
       "      <td>None</td>\n",
       "      <td>None</td>\n",
       "      <td>None</td>\n",
       "      <td>None</td>\n",
       "      <td>None</td>\n",
       "      <td>NaT</td>\n",
       "      <td>None</td>\n",
       "      <td>2024-07-01 00:01:16</td>\n",
       "      <td>2024-07-01 08:01:00</td>\n",
       "      <td>480</td>\n",
       "    </tr>\n",
       "    <tr>\n",
       "      <th>25</th>\n",
       "      <td>2</td>\n",
       "      <td>12</td>\n",
       "      <td>TMF007</td>\n",
       "      <td>MAT</td>\n",
       "      <td>parada</td>\n",
       "      <td>2024-07-01</td>\n",
       "      <td>08:01:17</td>\n",
       "      <td>None</td>\n",
       "      <td>None</td>\n",
       "      <td>None</td>\n",
       "      <td>None</td>\n",
       "      <td>None</td>\n",
       "      <td>None</td>\n",
       "      <td>NaT</td>\n",
       "      <td>None</td>\n",
       "      <td>2024-07-01 08:01:17</td>\n",
       "      <td>2024-07-01 16:01:00</td>\n",
       "      <td>480</td>\n",
       "    </tr>\n",
       "    <tr>\n",
       "      <th>26</th>\n",
       "      <td>2</td>\n",
       "      <td>13</td>\n",
       "      <td>TMF013</td>\n",
       "      <td>NOT</td>\n",
       "      <td>parada</td>\n",
       "      <td>2024-07-01</td>\n",
       "      <td>00:01:17</td>\n",
       "      <td>None</td>\n",
       "      <td>None</td>\n",
       "      <td>None</td>\n",
       "      <td>None</td>\n",
       "      <td>None</td>\n",
       "      <td>None</td>\n",
       "      <td>NaT</td>\n",
       "      <td>None</td>\n",
       "      <td>2024-07-01 00:01:17</td>\n",
       "      <td>2024-07-01 08:01:00</td>\n",
       "      <td>480</td>\n",
       "    </tr>\n",
       "    <tr>\n",
       "      <th>27</th>\n",
       "      <td>2</td>\n",
       "      <td>13</td>\n",
       "      <td>TMF013</td>\n",
       "      <td>MAT</td>\n",
       "      <td>parada</td>\n",
       "      <td>2024-07-01</td>\n",
       "      <td>08:01:18</td>\n",
       "      <td>None</td>\n",
       "      <td>None</td>\n",
       "      <td>None</td>\n",
       "      <td>None</td>\n",
       "      <td>None</td>\n",
       "      <td>None</td>\n",
       "      <td>NaT</td>\n",
       "      <td>None</td>\n",
       "      <td>2024-07-01 08:01:18</td>\n",
       "      <td>2024-07-01 16:01:00</td>\n",
       "      <td>480</td>\n",
       "    </tr>\n",
       "    <tr>\n",
       "      <th>28</th>\n",
       "      <td>2</td>\n",
       "      <td>14</td>\n",
       "      <td>TMF009</td>\n",
       "      <td>NOT</td>\n",
       "      <td>parada</td>\n",
       "      <td>2024-07-01</td>\n",
       "      <td>00:01:18</td>\n",
       "      <td>None</td>\n",
       "      <td>None</td>\n",
       "      <td>None</td>\n",
       "      <td>None</td>\n",
       "      <td>None</td>\n",
       "      <td>None</td>\n",
       "      <td>NaT</td>\n",
       "      <td>None</td>\n",
       "      <td>2024-07-01 00:01:18</td>\n",
       "      <td>2024-07-01 08:01:00</td>\n",
       "      <td>480</td>\n",
       "    </tr>\n",
       "    <tr>\n",
       "      <th>29</th>\n",
       "      <td>2</td>\n",
       "      <td>14</td>\n",
       "      <td>TMF009</td>\n",
       "      <td>MAT</td>\n",
       "      <td>parada</td>\n",
       "      <td>2024-07-01</td>\n",
       "      <td>08:01:19</td>\n",
       "      <td>None</td>\n",
       "      <td>None</td>\n",
       "      <td>None</td>\n",
       "      <td>None</td>\n",
       "      <td>None</td>\n",
       "      <td>None</td>\n",
       "      <td>NaT</td>\n",
       "      <td>None</td>\n",
       "      <td>2024-07-01 08:01:19</td>\n",
       "      <td>2024-07-01 16:01:00</td>\n",
       "      <td>480</td>\n",
       "    </tr>\n",
       "  </tbody>\n",
       "</table>\n",
       "</div>"
      ],
      "text/plain": [
       "   fabrica  linha maquina_id turno   status data_registro hora_registro  \\\n",
       "0        1      1     TMF003   NOT   parada    2024-07-01      00:00:15   \n",
       "1        1      1     TMF003   MAT   parada    2024-07-01      08:00:16   \n",
       "2        1      2     TMF011   NOT   parada    2024-07-01      00:00:16   \n",
       "3        1      2     TMF011   MAT   parada    2024-07-01      08:00:17   \n",
       "4        1      3     TMF005   NOT   parada    2024-07-01      00:00:17   \n",
       "5        1      3     TMF005   NOT  rodando    2024-07-01      00:16:17   \n",
       "6        1      3     TMF005   NOT   parada    2024-07-01      00:18:17   \n",
       "7        1      3     TMF005   MAT   parada    2024-07-01      08:00:18   \n",
       "8        1      4     TMF012   NOT   parada    2024-07-01      00:00:18   \n",
       "9        1      4     TMF012   MAT   parada    2024-07-01      08:00:19   \n",
       "10       1      5     TMF002   NOT   parada    2024-07-01      00:00:19   \n",
       "11       1      5     TMF002   MAT   parada    2024-07-01      08:00:20   \n",
       "12       1      6     TMF001   NOT   parada    2024-07-01      00:00:20   \n",
       "13       1      6     TMF001   MAT   parada    2024-07-01      08:00:21   \n",
       "14       1      7     TMF006   NOT   parada    2024-07-01      00:00:21   \n",
       "15       1      7     TMF006   MAT   parada    2024-07-01      08:00:22   \n",
       "16       1      8     TMF014   NOT   parada    2024-07-01      00:00:22   \n",
       "17       1      8     TMF014   MAT   parada    2024-07-01      08:00:23   \n",
       "18       1      9     TMF004   NOT   parada    2024-07-01      00:00:23   \n",
       "19       1      9     TMF004   MAT   parada    2024-07-01      08:00:24   \n",
       "20       2     10     TMF008   NOT   parada    2024-07-01      00:01:14   \n",
       "21       2     10     TMF008   MAT   parada    2024-07-01      08:01:15   \n",
       "22       2     11     TMF010   NOT   parada    2024-07-01      00:01:15   \n",
       "23       2     11     TMF010   MAT   parada    2024-07-01      08:01:16   \n",
       "24       2     12     TMF007   NOT   parada    2024-07-01      00:01:16   \n",
       "25       2     12     TMF007   MAT   parada    2024-07-01      08:01:17   \n",
       "26       2     13     TMF013   NOT   parada    2024-07-01      00:01:17   \n",
       "27       2     13     TMF013   MAT   parada    2024-07-01      08:01:18   \n",
       "28       2     14     TMF009   NOT   parada    2024-07-01      00:01:18   \n",
       "29       2     14     TMF009   MAT   parada    2024-07-01      08:01:19   \n",
       "\n",
       "               motivo     equipamento                        problema  \\\n",
       "0                None            None                            None   \n",
       "1                None            None                            None   \n",
       "2             Ajustes  Termoformadora                 Troca de Bobina   \n",
       "3                None            None                            None   \n",
       "4   Parada Programada            None                Parada Planejada   \n",
       "5           Qualidade  Termoformadora         Parâmetros de Qualidade   \n",
       "6           Qualidade  Termoformadora         Parâmetros de Qualidade   \n",
       "7                None            None                            None   \n",
       "8             Ajustes  Termoformadora                 Troca de Bobina   \n",
       "9                None            None                            None   \n",
       "10            Limpeza  Termoformadora  Limpeza para parada de Fábrica   \n",
       "11               None            None                            None   \n",
       "12            Limpeza            None  Limpeza para parada de Fábrica   \n",
       "13               None            None                            None   \n",
       "14            Limpeza  Termoformadora  Limpeza para parada de Fábrica   \n",
       "15               None            None                            None   \n",
       "16            Limpeza            None  Limpeza para parada de Fábrica   \n",
       "17               None            None                            None   \n",
       "18  Parada Programada            None                Parada Planejada   \n",
       "19               None            None                            None   \n",
       "20               None            None                            None   \n",
       "21               None            None                            None   \n",
       "22               None            None                            None   \n",
       "23               None            None                            None   \n",
       "24               None            None                            None   \n",
       "25               None            None                            None   \n",
       "26               None            None                            None   \n",
       "27               None            None                            None   \n",
       "28               None            None                            None   \n",
       "29               None            None                            None   \n",
       "\n",
       "                             causa os_numero operador_id data_registro_ihm  \\\n",
       "0                             None      None        None               NaT   \n",
       "1                             None      None        None               NaT   \n",
       "2         Troca de Bobina Inferior         0        1643        2024-07-01   \n",
       "3                             None      None        None               NaT   \n",
       "4                           Backup         0        1643        2024-07-01   \n",
       "5   Esquadro da bandeja inadequado         0        1373        2024-07-01   \n",
       "6   Esquadro da bandeja inadequado         0        1373        2024-07-01   \n",
       "7                             None      None        None               NaT   \n",
       "8         Troca de Bobina Inferior         0         434        2024-07-01   \n",
       "9                             None      None        None               NaT   \n",
       "10            Data fora de posição         0        1643        2024-07-01   \n",
       "11                            None      None        None               NaT   \n",
       "12                    Sem Produção         0        1373        2024-07-01   \n",
       "13                            None      None        None               NaT   \n",
       "14        Troca de Bobina Inferior         0        1643        2024-07-01   \n",
       "15                            None      None        None               NaT   \n",
       "16                            None         0        1646        2024-07-01   \n",
       "17                            None      None        None               NaT   \n",
       "18                          Backup         0         434        2024-07-01   \n",
       "19                            None      None        None               NaT   \n",
       "20                            None      None        None               NaT   \n",
       "21                            None      None        None               NaT   \n",
       "22                            None      None        None               NaT   \n",
       "23                            None      None        None               NaT   \n",
       "24                            None      None        None               NaT   \n",
       "25                            None      None        None               NaT   \n",
       "26                            None      None        None               NaT   \n",
       "27                            None      None        None               NaT   \n",
       "28                            None      None        None               NaT   \n",
       "29                            None      None        None               NaT   \n",
       "\n",
       "   hora_registro_ihm           data_hora     data_hora_final  tempo  \n",
       "0               None 2024-07-01 00:00:15 2024-07-01 08:01:00    480  \n",
       "1               None 2024-07-01 08:00:16 2024-07-01 16:01:00    480  \n",
       "2           00:00:44 2024-07-01 00:00:16 2024-07-01 08:01:00    480  \n",
       "3               None 2024-07-01 08:00:17 2024-07-01 16:01:00    480  \n",
       "4           00:09:07 2024-07-01 00:00:17 2024-07-01 00:16:17     16  \n",
       "5           00:17:32 2024-07-01 00:16:17 2024-07-01 00:18:17      2  \n",
       "6           00:18:46 2024-07-01 00:18:17 2024-07-01 08:01:00    463  \n",
       "7               None 2024-07-01 08:00:18 2024-07-01 16:01:00    480  \n",
       "8           00:08:53 2024-07-01 00:00:18 2024-07-01 08:01:00    480  \n",
       "9               None 2024-07-01 08:00:19 2024-07-01 16:01:00    480  \n",
       "10          00:17:44 2024-07-01 00:00:19 2024-07-01 08:01:00    480  \n",
       "11              None 2024-07-01 08:00:20 2024-07-01 16:01:00    480  \n",
       "12          00:10:01 2024-07-01 00:00:20 2024-07-01 08:01:00    480  \n",
       "13              None 2024-07-01 08:00:21 2024-07-01 16:01:00    480  \n",
       "14          00:16:28 2024-07-01 00:00:21 2024-07-01 08:01:00    480  \n",
       "15              None 2024-07-01 08:00:22 2024-07-01 16:01:00    480  \n",
       "16          00:13:34 2024-07-01 00:00:22 2024-07-01 08:01:00    480  \n",
       "17              None 2024-07-01 08:00:23 2024-07-01 16:01:00    480  \n",
       "18          00:12:35 2024-07-01 00:00:23 2024-07-01 08:01:00    480  \n",
       "19              None 2024-07-01 08:00:24 2024-07-01 16:01:00    480  \n",
       "20              None 2024-07-01 00:01:14 2024-07-01 08:01:00    480  \n",
       "21              None 2024-07-01 08:01:15 2024-07-01 16:01:00    480  \n",
       "22              None 2024-07-01 00:01:15 2024-07-01 08:01:00    480  \n",
       "23              None 2024-07-01 08:01:16 2024-07-01 16:01:00    480  \n",
       "24              None 2024-07-01 00:01:16 2024-07-01 08:01:00    480  \n",
       "25              None 2024-07-01 08:01:17 2024-07-01 16:01:00    480  \n",
       "26              None 2024-07-01 00:01:17 2024-07-01 08:01:00    480  \n",
       "27              None 2024-07-01 08:01:18 2024-07-01 16:01:00    480  \n",
       "28              None 2024-07-01 00:01:18 2024-07-01 08:01:00    480  \n",
       "29              None 2024-07-01 08:01:19 2024-07-01 16:01:00    480  "
      ]
     },
     "execution_count": 22,
     "metadata": {},
     "output_type": "execute_result"
    }
   ],
   "source": [
    "df_info_ihm = service_info_ihm.get_info_ihm_adjusted()\n",
    "df_info_ihm"
   ]
  },
  {
   "cell_type": "code",
   "execution_count": 23,
   "metadata": {
    "notebookRunGroups": {
     "groupValue": "2"
    }
   },
   "outputs": [
    {
     "data": {
      "text/html": [
       "<div>\n",
       "<style scoped>\n",
       "    .dataframe tbody tr th:only-of-type {\n",
       "        vertical-align: middle;\n",
       "    }\n",
       "\n",
       "    .dataframe tbody tr th {\n",
       "        vertical-align: top;\n",
       "    }\n",
       "\n",
       "    .dataframe thead th {\n",
       "        text-align: right;\n",
       "    }\n",
       "</style>\n",
       "<table border=\"1\" class=\"dataframe\">\n",
       "  <thead>\n",
       "    <tr style=\"text-align: right;\">\n",
       "      <th></th>\n",
       "      <th>maquina_id</th>\n",
       "      <th>linha</th>\n",
       "      <th>turno</th>\n",
       "      <th>data_registro</th>\n",
       "      <th>motivo</th>\n",
       "      <th>tempo</th>\n",
       "    </tr>\n",
       "  </thead>\n",
       "  <tbody>\n",
       "    <tr>\n",
       "      <th>0</th>\n",
       "      <td>TMF005</td>\n",
       "      <td>3</td>\n",
       "      <td>NOT</td>\n",
       "      <td>2024-07-01</td>\n",
       "      <td>Rodando</td>\n",
       "      <td>2</td>\n",
       "    </tr>\n",
       "  </tbody>\n",
       "</table>\n",
       "</div>"
      ],
      "text/plain": [
       "  maquina_id  linha turno data_registro   motivo  tempo\n",
       "0     TMF005      3   NOT    2024-07-01  Rodando      2"
      ]
     },
     "execution_count": 23,
     "metadata": {},
     "output_type": "execute_result"
    }
   ],
   "source": [
    "df_time_working = service_info_ihm.get_time_working(df_info_ihm.copy())\n",
    "df_time_working"
   ]
  },
  {
   "cell_type": "code",
   "execution_count": 24,
   "metadata": {
    "notebookRunGroups": {
     "groupValue": "2"
    }
   },
   "outputs": [
    {
     "data": {
      "text/html": [
       "<div>\n",
       "<style scoped>\n",
       "    .dataframe tbody tr th:only-of-type {\n",
       "        vertical-align: middle;\n",
       "    }\n",
       "\n",
       "    .dataframe tbody tr th {\n",
       "        vertical-align: top;\n",
       "    }\n",
       "\n",
       "    .dataframe thead th {\n",
       "        text-align: right;\n",
       "    }\n",
       "</style>\n",
       "<table border=\"1\" class=\"dataframe\">\n",
       "  <thead>\n",
       "    <tr style=\"text-align: right;\">\n",
       "      <th></th>\n",
       "      <th>fabrica</th>\n",
       "      <th>linha</th>\n",
       "      <th>maquina_id</th>\n",
       "      <th>turno</th>\n",
       "      <th>status</th>\n",
       "      <th>data_registro</th>\n",
       "      <th>hora_registro</th>\n",
       "      <th>motivo</th>\n",
       "      <th>equipamento</th>\n",
       "      <th>problema</th>\n",
       "      <th>causa</th>\n",
       "      <th>os_numero</th>\n",
       "      <th>operador_id</th>\n",
       "      <th>data_registro_ihm</th>\n",
       "      <th>hora_registro_ihm</th>\n",
       "      <th>data_hora</th>\n",
       "      <th>data_hora_final</th>\n",
       "      <th>tempo</th>\n",
       "    </tr>\n",
       "  </thead>\n",
       "  <tbody>\n",
       "    <tr>\n",
       "      <th>0</th>\n",
       "      <td>1</td>\n",
       "      <td>1</td>\n",
       "      <td>TMF003</td>\n",
       "      <td>NOT</td>\n",
       "      <td>parada</td>\n",
       "      <td>2024-07-01</td>\n",
       "      <td>00:00:15</td>\n",
       "      <td>None</td>\n",
       "      <td>None</td>\n",
       "      <td>None</td>\n",
       "      <td>None</td>\n",
       "      <td>None</td>\n",
       "      <td>None</td>\n",
       "      <td>NaT</td>\n",
       "      <td>None</td>\n",
       "      <td>2024-07-01 00:00:15</td>\n",
       "      <td>2024-07-01 08:01:00</td>\n",
       "      <td>480</td>\n",
       "    </tr>\n",
       "    <tr>\n",
       "      <th>1</th>\n",
       "      <td>1</td>\n",
       "      <td>1</td>\n",
       "      <td>TMF003</td>\n",
       "      <td>MAT</td>\n",
       "      <td>parada</td>\n",
       "      <td>2024-07-01</td>\n",
       "      <td>08:00:16</td>\n",
       "      <td>None</td>\n",
       "      <td>None</td>\n",
       "      <td>None</td>\n",
       "      <td>None</td>\n",
       "      <td>None</td>\n",
       "      <td>None</td>\n",
       "      <td>NaT</td>\n",
       "      <td>None</td>\n",
       "      <td>2024-07-01 08:00:16</td>\n",
       "      <td>2024-07-01 16:01:00</td>\n",
       "      <td>480</td>\n",
       "    </tr>\n",
       "    <tr>\n",
       "      <th>2</th>\n",
       "      <td>1</td>\n",
       "      <td>2</td>\n",
       "      <td>TMF011</td>\n",
       "      <td>NOT</td>\n",
       "      <td>parada</td>\n",
       "      <td>2024-07-01</td>\n",
       "      <td>00:00:16</td>\n",
       "      <td>Ajustes</td>\n",
       "      <td>Termoformadora</td>\n",
       "      <td>Troca de Bobina</td>\n",
       "      <td>Troca de Bobina Inferior</td>\n",
       "      <td>0</td>\n",
       "      <td>1643</td>\n",
       "      <td>2024-07-01</td>\n",
       "      <td>00:00:44</td>\n",
       "      <td>2024-07-01 00:00:16</td>\n",
       "      <td>2024-07-01 08:01:00</td>\n",
       "      <td>480</td>\n",
       "    </tr>\n",
       "    <tr>\n",
       "      <th>3</th>\n",
       "      <td>1</td>\n",
       "      <td>2</td>\n",
       "      <td>TMF011</td>\n",
       "      <td>MAT</td>\n",
       "      <td>parada</td>\n",
       "      <td>2024-07-01</td>\n",
       "      <td>08:00:17</td>\n",
       "      <td>None</td>\n",
       "      <td>None</td>\n",
       "      <td>None</td>\n",
       "      <td>None</td>\n",
       "      <td>None</td>\n",
       "      <td>None</td>\n",
       "      <td>NaT</td>\n",
       "      <td>None</td>\n",
       "      <td>2024-07-01 08:00:17</td>\n",
       "      <td>2024-07-01 16:01:00</td>\n",
       "      <td>480</td>\n",
       "    </tr>\n",
       "    <tr>\n",
       "      <th>4</th>\n",
       "      <td>1</td>\n",
       "      <td>3</td>\n",
       "      <td>TMF005</td>\n",
       "      <td>NOT</td>\n",
       "      <td>parada</td>\n",
       "      <td>2024-07-01</td>\n",
       "      <td>00:00:17</td>\n",
       "      <td>Parada Programada</td>\n",
       "      <td>None</td>\n",
       "      <td>Parada Planejada</td>\n",
       "      <td>Backup</td>\n",
       "      <td>0</td>\n",
       "      <td>1643</td>\n",
       "      <td>2024-07-01</td>\n",
       "      <td>00:09:07</td>\n",
       "      <td>2024-07-01 00:00:17</td>\n",
       "      <td>2024-07-01 00:16:17</td>\n",
       "      <td>16</td>\n",
       "    </tr>\n",
       "    <tr>\n",
       "      <th>5</th>\n",
       "      <td>1</td>\n",
       "      <td>3</td>\n",
       "      <td>TMF005</td>\n",
       "      <td>NOT</td>\n",
       "      <td>parada</td>\n",
       "      <td>2024-07-01</td>\n",
       "      <td>00:18:17</td>\n",
       "      <td>Qualidade</td>\n",
       "      <td>Termoformadora</td>\n",
       "      <td>Parâmetros de Qualidade</td>\n",
       "      <td>Esquadro da bandeja inadequado</td>\n",
       "      <td>0</td>\n",
       "      <td>1373</td>\n",
       "      <td>2024-07-01</td>\n",
       "      <td>00:18:46</td>\n",
       "      <td>2024-07-01 00:18:17</td>\n",
       "      <td>2024-07-01 08:01:00</td>\n",
       "      <td>463</td>\n",
       "    </tr>\n",
       "    <tr>\n",
       "      <th>6</th>\n",
       "      <td>1</td>\n",
       "      <td>3</td>\n",
       "      <td>TMF005</td>\n",
       "      <td>MAT</td>\n",
       "      <td>parada</td>\n",
       "      <td>2024-07-01</td>\n",
       "      <td>08:00:18</td>\n",
       "      <td>None</td>\n",
       "      <td>None</td>\n",
       "      <td>None</td>\n",
       "      <td>None</td>\n",
       "      <td>None</td>\n",
       "      <td>None</td>\n",
       "      <td>NaT</td>\n",
       "      <td>None</td>\n",
       "      <td>2024-07-01 08:00:18</td>\n",
       "      <td>2024-07-01 16:01:00</td>\n",
       "      <td>480</td>\n",
       "    </tr>\n",
       "    <tr>\n",
       "      <th>7</th>\n",
       "      <td>1</td>\n",
       "      <td>4</td>\n",
       "      <td>TMF012</td>\n",
       "      <td>NOT</td>\n",
       "      <td>parada</td>\n",
       "      <td>2024-07-01</td>\n",
       "      <td>00:00:18</td>\n",
       "      <td>Ajustes</td>\n",
       "      <td>Termoformadora</td>\n",
       "      <td>Troca de Bobina</td>\n",
       "      <td>Troca de Bobina Inferior</td>\n",
       "      <td>0</td>\n",
       "      <td>434</td>\n",
       "      <td>2024-07-01</td>\n",
       "      <td>00:08:53</td>\n",
       "      <td>2024-07-01 00:00:18</td>\n",
       "      <td>2024-07-01 08:01:00</td>\n",
       "      <td>480</td>\n",
       "    </tr>\n",
       "    <tr>\n",
       "      <th>8</th>\n",
       "      <td>1</td>\n",
       "      <td>4</td>\n",
       "      <td>TMF012</td>\n",
       "      <td>MAT</td>\n",
       "      <td>parada</td>\n",
       "      <td>2024-07-01</td>\n",
       "      <td>08:00:19</td>\n",
       "      <td>None</td>\n",
       "      <td>None</td>\n",
       "      <td>None</td>\n",
       "      <td>None</td>\n",
       "      <td>None</td>\n",
       "      <td>None</td>\n",
       "      <td>NaT</td>\n",
       "      <td>None</td>\n",
       "      <td>2024-07-01 08:00:19</td>\n",
       "      <td>2024-07-01 16:01:00</td>\n",
       "      <td>480</td>\n",
       "    </tr>\n",
       "    <tr>\n",
       "      <th>9</th>\n",
       "      <td>1</td>\n",
       "      <td>5</td>\n",
       "      <td>TMF002</td>\n",
       "      <td>NOT</td>\n",
       "      <td>parada</td>\n",
       "      <td>2024-07-01</td>\n",
       "      <td>00:00:19</td>\n",
       "      <td>Limpeza</td>\n",
       "      <td>Termoformadora</td>\n",
       "      <td>Limpeza para parada de Fábrica</td>\n",
       "      <td>Data fora de posição</td>\n",
       "      <td>0</td>\n",
       "      <td>1643</td>\n",
       "      <td>2024-07-01</td>\n",
       "      <td>00:17:44</td>\n",
       "      <td>2024-07-01 00:00:19</td>\n",
       "      <td>2024-07-01 08:01:00</td>\n",
       "      <td>480</td>\n",
       "    </tr>\n",
       "    <tr>\n",
       "      <th>10</th>\n",
       "      <td>1</td>\n",
       "      <td>5</td>\n",
       "      <td>TMF002</td>\n",
       "      <td>MAT</td>\n",
       "      <td>parada</td>\n",
       "      <td>2024-07-01</td>\n",
       "      <td>08:00:20</td>\n",
       "      <td>None</td>\n",
       "      <td>None</td>\n",
       "      <td>None</td>\n",
       "      <td>None</td>\n",
       "      <td>None</td>\n",
       "      <td>None</td>\n",
       "      <td>NaT</td>\n",
       "      <td>None</td>\n",
       "      <td>2024-07-01 08:00:20</td>\n",
       "      <td>2024-07-01 16:01:00</td>\n",
       "      <td>480</td>\n",
       "    </tr>\n",
       "    <tr>\n",
       "      <th>11</th>\n",
       "      <td>1</td>\n",
       "      <td>6</td>\n",
       "      <td>TMF001</td>\n",
       "      <td>NOT</td>\n",
       "      <td>parada</td>\n",
       "      <td>2024-07-01</td>\n",
       "      <td>00:00:20</td>\n",
       "      <td>Limpeza</td>\n",
       "      <td>None</td>\n",
       "      <td>Limpeza para parada de Fábrica</td>\n",
       "      <td>Sem Produção</td>\n",
       "      <td>0</td>\n",
       "      <td>1373</td>\n",
       "      <td>2024-07-01</td>\n",
       "      <td>00:10:01</td>\n",
       "      <td>2024-07-01 00:00:20</td>\n",
       "      <td>2024-07-01 08:01:00</td>\n",
       "      <td>480</td>\n",
       "    </tr>\n",
       "    <tr>\n",
       "      <th>12</th>\n",
       "      <td>1</td>\n",
       "      <td>6</td>\n",
       "      <td>TMF001</td>\n",
       "      <td>MAT</td>\n",
       "      <td>parada</td>\n",
       "      <td>2024-07-01</td>\n",
       "      <td>08:00:21</td>\n",
       "      <td>None</td>\n",
       "      <td>None</td>\n",
       "      <td>None</td>\n",
       "      <td>None</td>\n",
       "      <td>None</td>\n",
       "      <td>None</td>\n",
       "      <td>NaT</td>\n",
       "      <td>None</td>\n",
       "      <td>2024-07-01 08:00:21</td>\n",
       "      <td>2024-07-01 16:01:00</td>\n",
       "      <td>480</td>\n",
       "    </tr>\n",
       "    <tr>\n",
       "      <th>13</th>\n",
       "      <td>1</td>\n",
       "      <td>7</td>\n",
       "      <td>TMF006</td>\n",
       "      <td>NOT</td>\n",
       "      <td>parada</td>\n",
       "      <td>2024-07-01</td>\n",
       "      <td>00:00:21</td>\n",
       "      <td>Limpeza</td>\n",
       "      <td>Termoformadora</td>\n",
       "      <td>Limpeza para parada de Fábrica</td>\n",
       "      <td>Troca de Bobina Inferior</td>\n",
       "      <td>0</td>\n",
       "      <td>1643</td>\n",
       "      <td>2024-07-01</td>\n",
       "      <td>00:16:28</td>\n",
       "      <td>2024-07-01 00:00:21</td>\n",
       "      <td>2024-07-01 08:01:00</td>\n",
       "      <td>480</td>\n",
       "    </tr>\n",
       "    <tr>\n",
       "      <th>14</th>\n",
       "      <td>1</td>\n",
       "      <td>7</td>\n",
       "      <td>TMF006</td>\n",
       "      <td>MAT</td>\n",
       "      <td>parada</td>\n",
       "      <td>2024-07-01</td>\n",
       "      <td>08:00:22</td>\n",
       "      <td>None</td>\n",
       "      <td>None</td>\n",
       "      <td>None</td>\n",
       "      <td>None</td>\n",
       "      <td>None</td>\n",
       "      <td>None</td>\n",
       "      <td>NaT</td>\n",
       "      <td>None</td>\n",
       "      <td>2024-07-01 08:00:22</td>\n",
       "      <td>2024-07-01 16:01:00</td>\n",
       "      <td>480</td>\n",
       "    </tr>\n",
       "    <tr>\n",
       "      <th>15</th>\n",
       "      <td>1</td>\n",
       "      <td>8</td>\n",
       "      <td>TMF014</td>\n",
       "      <td>NOT</td>\n",
       "      <td>parada</td>\n",
       "      <td>2024-07-01</td>\n",
       "      <td>00:00:22</td>\n",
       "      <td>Limpeza</td>\n",
       "      <td>None</td>\n",
       "      <td>Limpeza para parada de Fábrica</td>\n",
       "      <td>None</td>\n",
       "      <td>0</td>\n",
       "      <td>1646</td>\n",
       "      <td>2024-07-01</td>\n",
       "      <td>00:13:34</td>\n",
       "      <td>2024-07-01 00:00:22</td>\n",
       "      <td>2024-07-01 08:01:00</td>\n",
       "      <td>480</td>\n",
       "    </tr>\n",
       "    <tr>\n",
       "      <th>16</th>\n",
       "      <td>1</td>\n",
       "      <td>8</td>\n",
       "      <td>TMF014</td>\n",
       "      <td>MAT</td>\n",
       "      <td>parada</td>\n",
       "      <td>2024-07-01</td>\n",
       "      <td>08:00:23</td>\n",
       "      <td>None</td>\n",
       "      <td>None</td>\n",
       "      <td>None</td>\n",
       "      <td>None</td>\n",
       "      <td>None</td>\n",
       "      <td>None</td>\n",
       "      <td>NaT</td>\n",
       "      <td>None</td>\n",
       "      <td>2024-07-01 08:00:23</td>\n",
       "      <td>2024-07-01 16:01:00</td>\n",
       "      <td>480</td>\n",
       "    </tr>\n",
       "    <tr>\n",
       "      <th>17</th>\n",
       "      <td>1</td>\n",
       "      <td>9</td>\n",
       "      <td>TMF004</td>\n",
       "      <td>NOT</td>\n",
       "      <td>parada</td>\n",
       "      <td>2024-07-01</td>\n",
       "      <td>00:00:23</td>\n",
       "      <td>Parada Programada</td>\n",
       "      <td>None</td>\n",
       "      <td>Parada Planejada</td>\n",
       "      <td>Backup</td>\n",
       "      <td>0</td>\n",
       "      <td>434</td>\n",
       "      <td>2024-07-01</td>\n",
       "      <td>00:12:35</td>\n",
       "      <td>2024-07-01 00:00:23</td>\n",
       "      <td>2024-07-01 08:01:00</td>\n",
       "      <td>480</td>\n",
       "    </tr>\n",
       "    <tr>\n",
       "      <th>18</th>\n",
       "      <td>1</td>\n",
       "      <td>9</td>\n",
       "      <td>TMF004</td>\n",
       "      <td>MAT</td>\n",
       "      <td>parada</td>\n",
       "      <td>2024-07-01</td>\n",
       "      <td>08:00:24</td>\n",
       "      <td>None</td>\n",
       "      <td>None</td>\n",
       "      <td>None</td>\n",
       "      <td>None</td>\n",
       "      <td>None</td>\n",
       "      <td>None</td>\n",
       "      <td>NaT</td>\n",
       "      <td>None</td>\n",
       "      <td>2024-07-01 08:00:24</td>\n",
       "      <td>2024-07-01 16:01:00</td>\n",
       "      <td>480</td>\n",
       "    </tr>\n",
       "    <tr>\n",
       "      <th>19</th>\n",
       "      <td>2</td>\n",
       "      <td>10</td>\n",
       "      <td>TMF008</td>\n",
       "      <td>NOT</td>\n",
       "      <td>parada</td>\n",
       "      <td>2024-07-01</td>\n",
       "      <td>00:01:14</td>\n",
       "      <td>None</td>\n",
       "      <td>None</td>\n",
       "      <td>None</td>\n",
       "      <td>None</td>\n",
       "      <td>None</td>\n",
       "      <td>None</td>\n",
       "      <td>NaT</td>\n",
       "      <td>None</td>\n",
       "      <td>2024-07-01 00:01:14</td>\n",
       "      <td>2024-07-01 08:01:00</td>\n",
       "      <td>480</td>\n",
       "    </tr>\n",
       "    <tr>\n",
       "      <th>20</th>\n",
       "      <td>2</td>\n",
       "      <td>10</td>\n",
       "      <td>TMF008</td>\n",
       "      <td>MAT</td>\n",
       "      <td>parada</td>\n",
       "      <td>2024-07-01</td>\n",
       "      <td>08:01:15</td>\n",
       "      <td>None</td>\n",
       "      <td>None</td>\n",
       "      <td>None</td>\n",
       "      <td>None</td>\n",
       "      <td>None</td>\n",
       "      <td>None</td>\n",
       "      <td>NaT</td>\n",
       "      <td>None</td>\n",
       "      <td>2024-07-01 08:01:15</td>\n",
       "      <td>2024-07-01 16:01:00</td>\n",
       "      <td>480</td>\n",
       "    </tr>\n",
       "    <tr>\n",
       "      <th>21</th>\n",
       "      <td>2</td>\n",
       "      <td>11</td>\n",
       "      <td>TMF010</td>\n",
       "      <td>NOT</td>\n",
       "      <td>parada</td>\n",
       "      <td>2024-07-01</td>\n",
       "      <td>00:01:15</td>\n",
       "      <td>None</td>\n",
       "      <td>None</td>\n",
       "      <td>None</td>\n",
       "      <td>None</td>\n",
       "      <td>None</td>\n",
       "      <td>None</td>\n",
       "      <td>NaT</td>\n",
       "      <td>None</td>\n",
       "      <td>2024-07-01 00:01:15</td>\n",
       "      <td>2024-07-01 08:01:00</td>\n",
       "      <td>480</td>\n",
       "    </tr>\n",
       "    <tr>\n",
       "      <th>22</th>\n",
       "      <td>2</td>\n",
       "      <td>11</td>\n",
       "      <td>TMF010</td>\n",
       "      <td>MAT</td>\n",
       "      <td>parada</td>\n",
       "      <td>2024-07-01</td>\n",
       "      <td>08:01:16</td>\n",
       "      <td>None</td>\n",
       "      <td>None</td>\n",
       "      <td>None</td>\n",
       "      <td>None</td>\n",
       "      <td>None</td>\n",
       "      <td>None</td>\n",
       "      <td>NaT</td>\n",
       "      <td>None</td>\n",
       "      <td>2024-07-01 08:01:16</td>\n",
       "      <td>2024-07-01 16:01:00</td>\n",
       "      <td>480</td>\n",
       "    </tr>\n",
       "    <tr>\n",
       "      <th>23</th>\n",
       "      <td>2</td>\n",
       "      <td>12</td>\n",
       "      <td>TMF007</td>\n",
       "      <td>NOT</td>\n",
       "      <td>parada</td>\n",
       "      <td>2024-07-01</td>\n",
       "      <td>00:01:16</td>\n",
       "      <td>None</td>\n",
       "      <td>None</td>\n",
       "      <td>None</td>\n",
       "      <td>None</td>\n",
       "      <td>None</td>\n",
       "      <td>None</td>\n",
       "      <td>NaT</td>\n",
       "      <td>None</td>\n",
       "      <td>2024-07-01 00:01:16</td>\n",
       "      <td>2024-07-01 08:01:00</td>\n",
       "      <td>480</td>\n",
       "    </tr>\n",
       "    <tr>\n",
       "      <th>24</th>\n",
       "      <td>2</td>\n",
       "      <td>12</td>\n",
       "      <td>TMF007</td>\n",
       "      <td>MAT</td>\n",
       "      <td>parada</td>\n",
       "      <td>2024-07-01</td>\n",
       "      <td>08:01:17</td>\n",
       "      <td>None</td>\n",
       "      <td>None</td>\n",
       "      <td>None</td>\n",
       "      <td>None</td>\n",
       "      <td>None</td>\n",
       "      <td>None</td>\n",
       "      <td>NaT</td>\n",
       "      <td>None</td>\n",
       "      <td>2024-07-01 08:01:17</td>\n",
       "      <td>2024-07-01 16:01:00</td>\n",
       "      <td>480</td>\n",
       "    </tr>\n",
       "    <tr>\n",
       "      <th>25</th>\n",
       "      <td>2</td>\n",
       "      <td>13</td>\n",
       "      <td>TMF013</td>\n",
       "      <td>NOT</td>\n",
       "      <td>parada</td>\n",
       "      <td>2024-07-01</td>\n",
       "      <td>00:01:17</td>\n",
       "      <td>None</td>\n",
       "      <td>None</td>\n",
       "      <td>None</td>\n",
       "      <td>None</td>\n",
       "      <td>None</td>\n",
       "      <td>None</td>\n",
       "      <td>NaT</td>\n",
       "      <td>None</td>\n",
       "      <td>2024-07-01 00:01:17</td>\n",
       "      <td>2024-07-01 08:01:00</td>\n",
       "      <td>480</td>\n",
       "    </tr>\n",
       "    <tr>\n",
       "      <th>26</th>\n",
       "      <td>2</td>\n",
       "      <td>13</td>\n",
       "      <td>TMF013</td>\n",
       "      <td>MAT</td>\n",
       "      <td>parada</td>\n",
       "      <td>2024-07-01</td>\n",
       "      <td>08:01:18</td>\n",
       "      <td>None</td>\n",
       "      <td>None</td>\n",
       "      <td>None</td>\n",
       "      <td>None</td>\n",
       "      <td>None</td>\n",
       "      <td>None</td>\n",
       "      <td>NaT</td>\n",
       "      <td>None</td>\n",
       "      <td>2024-07-01 08:01:18</td>\n",
       "      <td>2024-07-01 16:01:00</td>\n",
       "      <td>480</td>\n",
       "    </tr>\n",
       "    <tr>\n",
       "      <th>27</th>\n",
       "      <td>2</td>\n",
       "      <td>14</td>\n",
       "      <td>TMF009</td>\n",
       "      <td>NOT</td>\n",
       "      <td>parada</td>\n",
       "      <td>2024-07-01</td>\n",
       "      <td>00:01:18</td>\n",
       "      <td>None</td>\n",
       "      <td>None</td>\n",
       "      <td>None</td>\n",
       "      <td>None</td>\n",
       "      <td>None</td>\n",
       "      <td>None</td>\n",
       "      <td>NaT</td>\n",
       "      <td>None</td>\n",
       "      <td>2024-07-01 00:01:18</td>\n",
       "      <td>2024-07-01 08:01:00</td>\n",
       "      <td>480</td>\n",
       "    </tr>\n",
       "    <tr>\n",
       "      <th>28</th>\n",
       "      <td>2</td>\n",
       "      <td>14</td>\n",
       "      <td>TMF009</td>\n",
       "      <td>MAT</td>\n",
       "      <td>parada</td>\n",
       "      <td>2024-07-01</td>\n",
       "      <td>08:01:19</td>\n",
       "      <td>None</td>\n",
       "      <td>None</td>\n",
       "      <td>None</td>\n",
       "      <td>None</td>\n",
       "      <td>None</td>\n",
       "      <td>None</td>\n",
       "      <td>NaT</td>\n",
       "      <td>None</td>\n",
       "      <td>2024-07-01 08:01:19</td>\n",
       "      <td>2024-07-01 16:01:00</td>\n",
       "      <td>480</td>\n",
       "    </tr>\n",
       "  </tbody>\n",
       "</table>\n",
       "</div>"
      ],
      "text/plain": [
       "   fabrica  linha maquina_id turno  status data_registro hora_registro  \\\n",
       "0        1      1     TMF003   NOT  parada    2024-07-01      00:00:15   \n",
       "1        1      1     TMF003   MAT  parada    2024-07-01      08:00:16   \n",
       "2        1      2     TMF011   NOT  parada    2024-07-01      00:00:16   \n",
       "3        1      2     TMF011   MAT  parada    2024-07-01      08:00:17   \n",
       "4        1      3     TMF005   NOT  parada    2024-07-01      00:00:17   \n",
       "5        1      3     TMF005   NOT  parada    2024-07-01      00:18:17   \n",
       "6        1      3     TMF005   MAT  parada    2024-07-01      08:00:18   \n",
       "7        1      4     TMF012   NOT  parada    2024-07-01      00:00:18   \n",
       "8        1      4     TMF012   MAT  parada    2024-07-01      08:00:19   \n",
       "9        1      5     TMF002   NOT  parada    2024-07-01      00:00:19   \n",
       "10       1      5     TMF002   MAT  parada    2024-07-01      08:00:20   \n",
       "11       1      6     TMF001   NOT  parada    2024-07-01      00:00:20   \n",
       "12       1      6     TMF001   MAT  parada    2024-07-01      08:00:21   \n",
       "13       1      7     TMF006   NOT  parada    2024-07-01      00:00:21   \n",
       "14       1      7     TMF006   MAT  parada    2024-07-01      08:00:22   \n",
       "15       1      8     TMF014   NOT  parada    2024-07-01      00:00:22   \n",
       "16       1      8     TMF014   MAT  parada    2024-07-01      08:00:23   \n",
       "17       1      9     TMF004   NOT  parada    2024-07-01      00:00:23   \n",
       "18       1      9     TMF004   MAT  parada    2024-07-01      08:00:24   \n",
       "19       2     10     TMF008   NOT  parada    2024-07-01      00:01:14   \n",
       "20       2     10     TMF008   MAT  parada    2024-07-01      08:01:15   \n",
       "21       2     11     TMF010   NOT  parada    2024-07-01      00:01:15   \n",
       "22       2     11     TMF010   MAT  parada    2024-07-01      08:01:16   \n",
       "23       2     12     TMF007   NOT  parada    2024-07-01      00:01:16   \n",
       "24       2     12     TMF007   MAT  parada    2024-07-01      08:01:17   \n",
       "25       2     13     TMF013   NOT  parada    2024-07-01      00:01:17   \n",
       "26       2     13     TMF013   MAT  parada    2024-07-01      08:01:18   \n",
       "27       2     14     TMF009   NOT  parada    2024-07-01      00:01:18   \n",
       "28       2     14     TMF009   MAT  parada    2024-07-01      08:01:19   \n",
       "\n",
       "               motivo     equipamento                        problema  \\\n",
       "0                None            None                            None   \n",
       "1                None            None                            None   \n",
       "2             Ajustes  Termoformadora                 Troca de Bobina   \n",
       "3                None            None                            None   \n",
       "4   Parada Programada            None                Parada Planejada   \n",
       "5           Qualidade  Termoformadora         Parâmetros de Qualidade   \n",
       "6                None            None                            None   \n",
       "7             Ajustes  Termoformadora                 Troca de Bobina   \n",
       "8                None            None                            None   \n",
       "9             Limpeza  Termoformadora  Limpeza para parada de Fábrica   \n",
       "10               None            None                            None   \n",
       "11            Limpeza            None  Limpeza para parada de Fábrica   \n",
       "12               None            None                            None   \n",
       "13            Limpeza  Termoformadora  Limpeza para parada de Fábrica   \n",
       "14               None            None                            None   \n",
       "15            Limpeza            None  Limpeza para parada de Fábrica   \n",
       "16               None            None                            None   \n",
       "17  Parada Programada            None                Parada Planejada   \n",
       "18               None            None                            None   \n",
       "19               None            None                            None   \n",
       "20               None            None                            None   \n",
       "21               None            None                            None   \n",
       "22               None            None                            None   \n",
       "23               None            None                            None   \n",
       "24               None            None                            None   \n",
       "25               None            None                            None   \n",
       "26               None            None                            None   \n",
       "27               None            None                            None   \n",
       "28               None            None                            None   \n",
       "\n",
       "                             causa os_numero operador_id data_registro_ihm  \\\n",
       "0                             None      None        None               NaT   \n",
       "1                             None      None        None               NaT   \n",
       "2         Troca de Bobina Inferior         0        1643        2024-07-01   \n",
       "3                             None      None        None               NaT   \n",
       "4                           Backup         0        1643        2024-07-01   \n",
       "5   Esquadro da bandeja inadequado         0        1373        2024-07-01   \n",
       "6                             None      None        None               NaT   \n",
       "7         Troca de Bobina Inferior         0         434        2024-07-01   \n",
       "8                             None      None        None               NaT   \n",
       "9             Data fora de posição         0        1643        2024-07-01   \n",
       "10                            None      None        None               NaT   \n",
       "11                    Sem Produção         0        1373        2024-07-01   \n",
       "12                            None      None        None               NaT   \n",
       "13        Troca de Bobina Inferior         0        1643        2024-07-01   \n",
       "14                            None      None        None               NaT   \n",
       "15                            None         0        1646        2024-07-01   \n",
       "16                            None      None        None               NaT   \n",
       "17                          Backup         0         434        2024-07-01   \n",
       "18                            None      None        None               NaT   \n",
       "19                            None      None        None               NaT   \n",
       "20                            None      None        None               NaT   \n",
       "21                            None      None        None               NaT   \n",
       "22                            None      None        None               NaT   \n",
       "23                            None      None        None               NaT   \n",
       "24                            None      None        None               NaT   \n",
       "25                            None      None        None               NaT   \n",
       "26                            None      None        None               NaT   \n",
       "27                            None      None        None               NaT   \n",
       "28                            None      None        None               NaT   \n",
       "\n",
       "   hora_registro_ihm           data_hora     data_hora_final  tempo  \n",
       "0               None 2024-07-01 00:00:15 2024-07-01 08:01:00    480  \n",
       "1               None 2024-07-01 08:00:16 2024-07-01 16:01:00    480  \n",
       "2           00:00:44 2024-07-01 00:00:16 2024-07-01 08:01:00    480  \n",
       "3               None 2024-07-01 08:00:17 2024-07-01 16:01:00    480  \n",
       "4           00:09:07 2024-07-01 00:00:17 2024-07-01 00:16:17     16  \n",
       "5           00:18:46 2024-07-01 00:18:17 2024-07-01 08:01:00    463  \n",
       "6               None 2024-07-01 08:00:18 2024-07-01 16:01:00    480  \n",
       "7           00:08:53 2024-07-01 00:00:18 2024-07-01 08:01:00    480  \n",
       "8               None 2024-07-01 08:00:19 2024-07-01 16:01:00    480  \n",
       "9           00:17:44 2024-07-01 00:00:19 2024-07-01 08:01:00    480  \n",
       "10              None 2024-07-01 08:00:20 2024-07-01 16:01:00    480  \n",
       "11          00:10:01 2024-07-01 00:00:20 2024-07-01 08:01:00    480  \n",
       "12              None 2024-07-01 08:00:21 2024-07-01 16:01:00    480  \n",
       "13          00:16:28 2024-07-01 00:00:21 2024-07-01 08:01:00    480  \n",
       "14              None 2024-07-01 08:00:22 2024-07-01 16:01:00    480  \n",
       "15          00:13:34 2024-07-01 00:00:22 2024-07-01 08:01:00    480  \n",
       "16              None 2024-07-01 08:00:23 2024-07-01 16:01:00    480  \n",
       "17          00:12:35 2024-07-01 00:00:23 2024-07-01 08:01:00    480  \n",
       "18              None 2024-07-01 08:00:24 2024-07-01 16:01:00    480  \n",
       "19              None 2024-07-01 00:01:14 2024-07-01 08:01:00    480  \n",
       "20              None 2024-07-01 08:01:15 2024-07-01 16:01:00    480  \n",
       "21              None 2024-07-01 00:01:15 2024-07-01 08:01:00    480  \n",
       "22              None 2024-07-01 08:01:16 2024-07-01 16:01:00    480  \n",
       "23              None 2024-07-01 00:01:16 2024-07-01 08:01:00    480  \n",
       "24              None 2024-07-01 08:01:17 2024-07-01 16:01:00    480  \n",
       "25              None 2024-07-01 00:01:17 2024-07-01 08:01:00    480  \n",
       "26              None 2024-07-01 08:01:18 2024-07-01 16:01:00    480  \n",
       "27              None 2024-07-01 00:01:18 2024-07-01 08:01:00    480  \n",
       "28              None 2024-07-01 08:01:19 2024-07-01 16:01:00    480  "
      ]
     },
     "execution_count": 24,
     "metadata": {},
     "output_type": "execute_result"
    }
   ],
   "source": [
    "df_maq_stopped = service_info_ihm.get_maq_stopped(df_info_ihm.copy())\n",
    "df_maq_stopped"
   ]
  },
  {
   "cell_type": "markdown",
   "metadata": {},
   "source": [
    "# Dados de Saída\n"
   ]
  },
  {
   "cell_type": "code",
   "execution_count": 25,
   "metadata": {
    "notebookRunGroups": {
     "groupValue": "2"
    }
   },
   "outputs": [
    {
     "name": "stdout",
     "output_type": "stream",
     "text": [
      "Maquina Parada --> Linhas x Colunas: (29, 18)\n",
      "---------------------------------------\n",
      "Maquina Parada --> Memória Ocupada: 0.00 MB\n",
      "---------------------------------------\n",
      "Maquina Parada --> Tipos:\n",
      "fabrica                      object\n",
      "linha                         int32\n",
      "maquina_id                   object\n",
      "turno                        object\n",
      "status                       object\n",
      "data_registro        datetime64[ns]\n",
      "hora_registro                object\n",
      "motivo                       object\n",
      "equipamento                  object\n",
      "problema                     object\n",
      "causa                        object\n",
      "os_numero                    object\n",
      "operador_id                  object\n",
      "data_registro_ihm    datetime64[ns]\n",
      "hora_registro_ihm            object\n",
      "data_hora            datetime64[ns]\n",
      "data_hora_final      datetime64[ns]\n",
      "tempo                         int32\n",
      "dtype: object\n"
     ]
    }
   ],
   "source": [
    "print(f\"Maquina Parada --> Linhas x Colunas: {df_maq_stopped.shape}\")\n",
    "print(\"---------------------------------------\")\n",
    "print(\n",
    "    f\"Maquina Parada --> Memória Ocupada: {df_maq_stopped.memory_usage().sum() / 1024 ** 2:.2f} MB\"\n",
    ")\n",
    "print(\"---------------------------------------\")\n",
    "print(f\"Maquina Parada --> Tipos:\\n{df_maq_stopped.dtypes}\")"
   ]
  },
  {
   "cell_type": "code",
   "execution_count": 26,
   "metadata": {
    "notebookRunGroups": {
     "groupValue": "2"
    }
   },
   "outputs": [
    {
     "name": "stdout",
     "output_type": "stream",
     "text": [
      "Tempo de Trabalho --> Linhas x Colunas: (1, 6)\n",
      "---------------------------------------\n",
      "Tempo de Trabalho --> Memória Ocupada: 0.00 MB\n",
      "---------------------------------------\n",
      "Tempo de Trabalho --> Tipos:\n",
      "maquina_id               object\n",
      "linha                     int32\n",
      "turno                    object\n",
      "data_registro    datetime64[ns]\n",
      "motivo                   object\n",
      "tempo                     int32\n",
      "dtype: object\n"
     ]
    }
   ],
   "source": [
    "print(f\"Tempo de Trabalho --> Linhas x Colunas: {df_time_working.shape}\")\n",
    "print(\"---------------------------------------\")\n",
    "print(\n",
    "    f\"Tempo de Trabalho --> Memória Ocupada: {df_time_working.memory_usage().sum() / 1024 ** 2:.2f} MB\"\n",
    ")\n",
    "print(\"---------------------------------------\")\n",
    "print(f\"Tempo de Trabalho --> Tipos:\\n{df_time_working.dtypes}\")"
   ]
  },
  {
   "cell_type": "code",
   "execution_count": 27,
   "metadata": {
    "notebookRunGroups": {
     "groupValue": "2"
    }
   },
   "outputs": [
    {
     "name": "stdout",
     "output_type": "stream",
     "text": [
      "Informações --> Linhas x Colunas: (30, 18)\n",
      "---------------------------------------\n",
      "Informações --> Memória Ocupada: 0.00 MB\n",
      "---------------------------------------\n",
      "Informações --> Tipos:\n",
      "fabrica                      object\n",
      "linha                         int32\n",
      "maquina_id                   object\n",
      "turno                        object\n",
      "status                       object\n",
      "data_registro        datetime64[ns]\n",
      "hora_registro                object\n",
      "motivo                       object\n",
      "equipamento                  object\n",
      "problema                     object\n",
      "causa                        object\n",
      "os_numero                    object\n",
      "operador_id                  object\n",
      "data_registro_ihm    datetime64[ns]\n",
      "hora_registro_ihm            object\n",
      "data_hora            datetime64[ns]\n",
      "data_hora_final      datetime64[ns]\n",
      "tempo                         int32\n",
      "dtype: object\n"
     ]
    }
   ],
   "source": [
    "print(f\"Informações --> Linhas x Colunas: {df_info_ihm.shape}\")\n",
    "print(\"---------------------------------------\")\n",
    "print(f\"Informações --> Memória Ocupada: {df_info_ihm.memory_usage().sum() / 1024 ** 2:.2f} MB\")\n",
    "print(\"---------------------------------------\")\n",
    "print(f\"Informações --> Tipos:\\n{df_info_ihm.dtypes}\")"
   ]
  },
  {
   "cell_type": "code",
   "execution_count": 28,
   "metadata": {
    "notebookRunGroups": {
     "groupValue": "2"
    }
   },
   "outputs": [
    {
     "name": "stdout",
     "output_type": "stream",
     "text": [
      "Produção --> Linhas x Colunas: (28, 11)\n",
      "---------------------------------------\n",
      "Produção --> Memória Ocupada: 0.00 MB\n",
      "---------------------------------------\n",
      "Produção --> Tipos:\n",
      "fabrica                           object\n",
      "linha                              int32\n",
      "maquina_id                        object\n",
      "turno                             object\n",
      "total_ciclos                     float64\n",
      "total_produzido_sensor             int32\n",
      "bdj_vazias                         int32\n",
      "bdj_retrabalho                     int32\n",
      "total_produzido                    int32\n",
      "data_registro             datetime64[ns]\n",
      "hora_registro                     object\n",
      "dtype: object\n"
     ]
    }
   ],
   "source": [
    "print(f\"Produção --> Linhas x Colunas: {df_info_production_cleaned.shape}\")\n",
    "print(\"---------------------------------------\")\n",
    "print(\n",
    "    f\"Produção --> Memória Ocupada: {df_info_production_cleaned.memory_usage().sum() / 1024 ** 2:.2f} MB\"\n",
    ")\n",
    "print(\"---------------------------------------\")\n",
    "print(f\"Produção --> Tipos:\\n{df_info_production_cleaned.dtypes}\")"
   ]
  },
  {
   "cell_type": "markdown",
   "metadata": {},
   "source": [
    "# Análise de Dados\n"
   ]
  },
  {
   "cell_type": "markdown",
   "metadata": {},
   "source": [
    "## Eficiência, Performance e Reparos de Máquina/Linha\n"
   ]
  },
  {
   "cell_type": "code",
   "execution_count": 29,
   "metadata": {
    "notebookRunGroups": {
     "groupValue": "2"
    }
   },
   "outputs": [],
   "source": [
    "# cspell: words producao\n",
    "\n",
    "\n",
    "class DataAnalysis:\n",
    "    def __init__(self, df_stops: pd.DataFrame, df_prod: pd.DataFrame):\n",
    "        self.df_stops = df_stops\n",
    "        self.df_prod = df_prod\n",
    "\n",
    "        # Dicionário com descontos de Eficiência\n",
    "        self.desc_eff = {\n",
    "            \"Troca de Sabor\": 15,\n",
    "            \"Troca de Produto\": 35,\n",
    "            \"Refeição\": 60,\n",
    "            \"Café e Ginástica Laboral\": 10,\n",
    "            \"Treinamento\": 60,\n",
    "        }\n",
    "\n",
    "        # Dicionário com descontos de Performance\n",
    "        self.desc_perf = {\n",
    "            \"Troca de Sabor\": 15,\n",
    "            \"Refeição\": 60,\n",
    "            \"Café e Ginástica Laboral\": 10,\n",
    "            \"Treinamento\": 60,\n",
    "        }\n",
    "\n",
    "        # Dicionário com descontos de Reparo\n",
    "        self.desc_rep = {\"Troca de Produto\": 35}\n",
    "\n",
    "        # Dicionário com o que não afeta a eficiência\n",
    "        self.not_eff = [\"Sem Produção\", \"Backup\"]\n",
    "\n",
    "        # Dicionário com o que não afeta a performance\n",
    "        self.not_perf = [\n",
    "            \"Sem Produção\",\n",
    "            \"Backup\",\n",
    "            \"Limpeza para parada de Fábrica\",\n",
    "            \"Risco de Contaminação\",\n",
    "            \"Parâmetros de Qualidade\",\n",
    "            \"Manutenção\",\n",
    "        ]\n",
    "\n",
    "        # Dicionário com o que afeta o reparo\n",
    "        self.afeta_rep = [\"Manutenção\", \"Troca de Produtos\"]\n",
    "\n",
    "    def get_discount(\n",
    "        self,\n",
    "        df: pd.DataFrame,\n",
    "        desc_dict: dict[str, int],\n",
    "        not_dict: list[str],\n",
    "        indicator: IndicatorType,\n",
    "    ) -> pd.DataFrame:\n",
    "        \"\"\"\n",
    "        Calcula o desconto de eficiência, performance ou reparo.\n",
    "        \"\"\"\n",
    "\n",
    "        # Cria uma coluna com o desconto padrão\n",
    "        df[\"desconto\"] = 0\n",
    "\n",
    "        # Caso o motivo, problema ou causa não afete o indicador, o desconto é igual a tempo\n",
    "        mask = (\n",
    "            df[[\"motivo\", \"problema\", \"causa\"]]\n",
    "            .apply(lambda x: x.str.contains(\"|\".join(not_dict), case=False, na=False))\n",
    "            .any(axis=1)\n",
    "        )\n",
    "        df.loc[mask, \"desconto\"] = 0 if indicator == IndicatorType.REPAIR else df[\"tempo\"]\n",
    "\n",
    "        # Cria um dict para indicadores\n",
    "        indicator_dict = {\n",
    "            IndicatorType.EFFICIENCY: df,\n",
    "            IndicatorType.PERFORMANCE: df[~mask],\n",
    "            IndicatorType.REPAIR: df[mask],\n",
    "        }\n",
    "\n",
    "        df = indicator_dict[indicator].reset_index(drop=True)\n",
    "\n",
    "        # Aplica o desconto de acordo com as colunas \"motivo\" ou \"problema\" ou \"causa\"\n",
    "        for key, value in desc_dict.items():\n",
    "            mask = (\n",
    "                df[[\"motivo\", \"problema\", \"causa\"]]\n",
    "                .apply(lambda x: x.str.contains(key, case=False, na=False))\n",
    "                .any(axis=1)\n",
    "            )\n",
    "            df.loc[mask, \"desconto\"] = value\n",
    "\n",
    "        # Caso o desconto seja maior que o tempo, o desconto deve ser igual ao tempo\n",
    "        df.loc[:, \"desconto\"] = df[[\"desconto\", \"tempo\"]].min(axis=1)\n",
    "\n",
    "        # Calcula o excedente\n",
    "        df.loc[:, \"excedente\"] = (df[\"tempo\"] - df[\"desconto\"]).clip(lower=0)\n",
    "\n",
    "        return df\n",
    "\n",
    "    def __get_elapsed_time(self, turno: str) -> int:\n",
    "        \"\"\"\n",
    "        Calcula o tempo decorrido do turno.\n",
    "        \"\"\"\n",
    "\n",
    "        # Agora\n",
    "        now = datetime.now()\n",
    "\n",
    "        if turno == \"MAT\" and 8 <= now.hour < 16:\n",
    "            elapsed_time = now - datetime(now.year, now.month, now.day, 8, 0, 0)\n",
    "        elif turno == \"VES\" and 16 <= now.hour < 24:\n",
    "            elapsed_time = now - datetime(now.year, now.month, now.day, 16, 0, 0)\n",
    "        elif turno == \"NOT\" and 0 <= now.hour < 8:\n",
    "            elapsed_time = now - datetime(now.year, now.month, now.day, 0, 0, 0)\n",
    "        else:\n",
    "            return 480\n",
    "\n",
    "        return elapsed_time.total_seconds() / 60\n",
    "\n",
    "    def __get_expected_production_time(self, df: pd.DataFrame) -> pd.DataFrame:\n",
    "        \"\"\"\n",
    "        Calcula o tempo esperado de produção.\n",
    "        \"\"\"\n",
    "\n",
    "        df[\"tempo_esperado\"] = df.apply(\n",
    "            lambda row: (\n",
    "                np.floor(self.__get_elapsed_time(row[\"turno\"]) - row[\"desconto\"])\n",
    "                if row[\"data_registro\"].date() == pd.to_datetime(\"today\").date()\n",
    "                else 480 - row[\"desconto\"]\n",
    "            ),\n",
    "            axis=1,\n",
    "        )\n",
    "\n",
    "        return df\n",
    "\n",
    "    def get_eff_data(self) -> pd.DataFrame:\n",
    "        \"\"\"\n",
    "        Calcula o desconto de eficiência.\n",
    "        \"\"\"\n",
    "\n",
    "        df = self.df_stops\n",
    "        df_prod = self.df_prod\n",
    "\n",
    "        # Calcula o desconto de eficiência\n",
    "        df = self.get_discount(df, self.desc_eff, self.not_eff, IndicatorType.EFFICIENCY)\n",
    "        ciclo_ideal = 10.6\n",
    "\n",
    "        # Agrupa para ter o valor total de desconto\n",
    "        df = (\n",
    "            df.groupby([\"maquina_id\", \"linha\", \"data_registro\", \"turno\"], observed=False)\n",
    "            .agg(\n",
    "                tempo=(\"tempo\", \"sum\"),\n",
    "                desconto=(\"desconto\", \"sum\"),\n",
    "                excedente=(\"excedente\", \"sum\"),\n",
    "            )\n",
    "            .reset_index()\n",
    "        )\n",
    "\n",
    "        # Une os dois dataframes\n",
    "        df = pd.merge(df_prod, df, on=[\"maquina_id\", \"linha\", \"data_registro\", \"turno\"], how=\"left\")\n",
    "\n",
    "        # Lida com valores nulos\n",
    "        df = df.fillna(0)\n",
    "\n",
    "        # Nova coluna para tempo esperado de produção\n",
    "        df = self.__get_expected_production_time(df)\n",
    "\n",
    "        # Nova coluna para produção esperada\n",
    "        df[\"producao_esperada\"] = (df[\"tempo_esperado\"] * ciclo_ideal) * 2\n",
    "\n",
    "        # Nova coluna para eficiência\n",
    "        df[\"eficiencia\"] = (df[\"total_produzido\"] / df[\"producao_esperada\"]).round(3)\n",
    "\n",
    "        # Corrige valores nulos ou inf de eficiência\n",
    "        df[\"eficiencia\"] = df[\"eficiencia\"].replace([np.inf, -np.inf], np.nan).fillna(0)\n",
    "\n",
    "        # Se a produção esperada for 0 e a eficiência for 0, tornar a eficiência np.nan\n",
    "        mask = (df[\"producao_esperada\"] == 0) & (df[\"eficiencia\"] == 0)\n",
    "        df.loc[mask, \"eficiencia\"] = np.nan\n",
    "\n",
    "        # Ordenar as colunas\n",
    "        df = df[\n",
    "            [\n",
    "                \"fabrica\",\n",
    "                \"linha\",\n",
    "                \"maquina_id\",\n",
    "                \"turno\",\n",
    "                \"data_registro\",\n",
    "                \"hora_registro\",\n",
    "                \"tempo\",\n",
    "                \"total_produzido\",\n",
    "                \"producao_esperada\",\n",
    "                \"tempo_esperado\",\n",
    "                \"desconto\",\n",
    "                \"excedente\",\n",
    "                \"eficiencia\",\n",
    "            ]\n",
    "        ]\n",
    "\n",
    "        return df\n",
    "\n",
    "    def get_perf_data(self) -> pd.DataFrame:\n",
    "        \"\"\"\n",
    "        Calcula o desconto de performance.\n",
    "        \"\"\"\n",
    "\n",
    "        df = self.df_stops\n",
    "        df_prod = self.df_prod\n",
    "\n",
    "        # Dataframe com datas e turnos onde a causa está em not_eff e o tempo é igual a 480\n",
    "        mask = (df[\"causa\"].isin([\"Sem Produção\", \"Backup\"])) & (df[\"tempo\"] == 480)\n",
    "        paradas_programadas = df[mask][\n",
    "            [\"data_registro\", \"turno\", \"linha\"]\n",
    "        ]  # Para performance ser np.nan\n",
    "\n",
    "        # Calcula o desconto de performance e filtra para remover linhas que não afetam a performance\n",
    "        df = self.get_discount(df, self.desc_perf, self.not_perf, IndicatorType.PERFORMANCE)\n",
    "\n",
    "        # Agrupa para ter o valor total de desconto\n",
    "        df = (\n",
    "            df.groupby([\"maquina_id\", \"linha\", \"data_registro\", \"turno\"], observed=False)\n",
    "            .agg(\n",
    "                tempo=(\"tempo\", \"sum\"),\n",
    "                desconto=(\"desconto\", \"sum\"),\n",
    "                afeta=(\"excedente\", \"sum\"),\n",
    "            )\n",
    "            .reset_index()\n",
    "        )\n",
    "\n",
    "        # Une os dois dataframes\n",
    "        df = pd.merge(df_prod, df, on=[\"maquina_id\", \"linha\", \"data_registro\", \"turno\"], how=\"left\")\n",
    "\n",
    "        # Lida com valores nulos\n",
    "        df = df.fillna(0)\n",
    "\n",
    "        # Coluna com tempo esperado de produção\n",
    "        df = self.__get_expected_production_time(df)\n",
    "\n",
    "        # Coluna de Performance\n",
    "        df[\"performance\"] = (df[\"afeta\"] / df[\"tempo_esperado\"]).round(2)\n",
    "\n",
    "        # Corrige valores nulos ou inf de performance\n",
    "        df[\"performance\"] = df[\"performance\"].replace([np.inf, -np.inf], np.nan).fillna(0)\n",
    "\n",
    "        # Criar uma coluna de controle em paradas_programadas\n",
    "        paradas_programadas[\"programada\"] = True\n",
    "\n",
    "        # Merge dos dataframes\n",
    "        df = pd.merge(df, paradas_programadas, how=\"left\", on=[\"data_registro\", \"turno\", \"linha\"])\n",
    "\n",
    "        # Se a parada for programada, a performance é np.nan\n",
    "        df.loc[df[\"programada\"] == True, \"performance\"] = np.nan\n",
    "        df.loc[df[\"programada\"] == True, \"tempo_esperado\"] = 0\n",
    "\n",
    "        # Remove a coluna de controle\n",
    "        df = df.drop(columns=\"programada\")\n",
    "\n",
    "        # Ordenar as colunas\n",
    "        df = df[\n",
    "            [\n",
    "                \"fabrica\",\n",
    "                \"linha\",\n",
    "                \"maquina_id\",\n",
    "                \"turno\",\n",
    "                \"data_registro\",\n",
    "                \"hora_registro\",\n",
    "                \"tempo\",\n",
    "                \"tempo_esperado\",\n",
    "                \"desconto\",\n",
    "                \"afeta\",\n",
    "                \"performance\",\n",
    "            ]\n",
    "        ]\n",
    "\n",
    "        return df\n",
    "\n",
    "    def get_repair_data(self) -> pd.DataFrame:\n",
    "        \"\"\"\n",
    "        Calcula o desconto de reparo.\n",
    "        \"\"\"\n",
    "\n",
    "        df = self.df_stops\n",
    "        df_prod = self.df_prod\n",
    "\n",
    "        # Dataframe com datas e turnos onde a causa está em not_eff e o tempo é igual a 480\n",
    "        mask = (df[\"causa\"].isin([\"Sem Produção\", \"Backup\"])) & (df[\"tempo\"] == 480)\n",
    "        paradas_programadas = df[mask][\n",
    "            [\"data_registro\", \"turno\", \"linha\"]\n",
    "        ]  # Para reparo ser np.nan\n",
    "\n",
    "        # Calcula o desconto de reparo\n",
    "        df = self.get_discount(df, self.desc_rep, self.afeta_rep, IndicatorType.REPAIR)\n",
    "\n",
    "        # Agrupa para ter o valor total de desconto\n",
    "        df = (\n",
    "            df.groupby([\"maquina_id\", \"linha\", \"data_registro\", \"turno\"], observed=False)\n",
    "            .agg(\n",
    "                tempo=(\"tempo\", \"sum\"),\n",
    "                desconto=(\"desconto\", \"sum\"),\n",
    "                afeta=(\"excedente\", \"sum\"),\n",
    "            )\n",
    "            .reset_index()\n",
    "        )\n",
    "\n",
    "        # Une os dois dataframes\n",
    "        df = pd.merge(df_prod, df, on=[\"maquina_id\", \"linha\", \"data_registro\", \"turno\"], how=\"left\")\n",
    "\n",
    "        # Lida com valores nulos\n",
    "        df = df.fillna(0)\n",
    "\n",
    "        # Coluna com tempo esperado de produção\n",
    "        df = self.__get_expected_production_time(df)\n",
    "\n",
    "        # Coluna de Reparo\n",
    "        df[\"reparo\"] = (df[\"afeta\"] / df[\"tempo_esperado\"]).round(2)\n",
    "\n",
    "        # Corrige valores nulos ou inf de reparo\n",
    "        df[\"reparo\"] = df[\"reparo\"].replace([np.inf, -np.inf], np.nan).fillna(0)\n",
    "\n",
    "        # Criar uma coluna de controle em paradas_programadas\n",
    "        paradas_programadas[\"programada\"] = True\n",
    "\n",
    "        # Merge dos dataframes\n",
    "        df = pd.merge(df, paradas_programadas, how=\"left\", on=[\"data_registro\", \"turno\", \"linha\"])\n",
    "\n",
    "        # Se a parada for programada, a performance é np.nan\n",
    "        df.loc[df[\"programada\"] == True, \"reparo\"] = np.nan\n",
    "        df.loc[df[\"programada\"] == True, \"tempo_esperado\"] = 0\n",
    "\n",
    "        # Remove a coluna de controle\n",
    "        df = df.drop(columns=\"programada\")\n",
    "\n",
    "        # Ordenar as colunas\n",
    "        df = df[\n",
    "            [\n",
    "                \"fabrica\",\n",
    "                \"linha\",\n",
    "                \"maquina_id\",\n",
    "                \"turno\",\n",
    "                \"data_registro\",\n",
    "                \"hora_registro\",\n",
    "                \"tempo\",\n",
    "                \"tempo_esperado\",\n",
    "                \"desconto\",\n",
    "                \"afeta\",\n",
    "                \"reparo\",\n",
    "            ]\n",
    "        ]\n",
    "\n",
    "        return df\n",
    "\n",
    "\n",
    "data_analysis = DataAnalysis(df_maq_stopped.copy(), df_info_production_cleaned.copy())"
   ]
  },
  {
   "cell_type": "markdown",
   "metadata": {},
   "source": [
    "## Saídas de Eficiência, Performance e Reparos de Máquina/Linha\n"
   ]
  },
  {
   "cell_type": "code",
   "execution_count": 30,
   "metadata": {
    "notebookRunGroups": {
     "groupValue": "2"
    }
   },
   "outputs": [
    {
     "data": {
      "text/html": [
       "<div>\n",
       "<style scoped>\n",
       "    .dataframe tbody tr th:only-of-type {\n",
       "        vertical-align: middle;\n",
       "    }\n",
       "\n",
       "    .dataframe tbody tr th {\n",
       "        vertical-align: top;\n",
       "    }\n",
       "\n",
       "    .dataframe thead th {\n",
       "        text-align: right;\n",
       "    }\n",
       "</style>\n",
       "<table border=\"1\" class=\"dataframe\">\n",
       "  <thead>\n",
       "    <tr style=\"text-align: right;\">\n",
       "      <th></th>\n",
       "      <th>fabrica</th>\n",
       "      <th>linha</th>\n",
       "      <th>maquina_id</th>\n",
       "      <th>turno</th>\n",
       "      <th>data_registro</th>\n",
       "      <th>hora_registro</th>\n",
       "      <th>tempo</th>\n",
       "      <th>total_produzido</th>\n",
       "      <th>producao_esperada</th>\n",
       "      <th>tempo_esperado</th>\n",
       "      <th>desconto</th>\n",
       "      <th>excedente</th>\n",
       "      <th>eficiencia</th>\n",
       "    </tr>\n",
       "  </thead>\n",
       "  <tbody>\n",
       "    <tr>\n",
       "      <th>0</th>\n",
       "      <td>1</td>\n",
       "      <td>1</td>\n",
       "      <td>TMF003</td>\n",
       "      <td>MAT</td>\n",
       "      <td>2024-07-01</td>\n",
       "      <td>09:50:16</td>\n",
       "      <td>480</td>\n",
       "      <td>0</td>\n",
       "      <td>10176.0</td>\n",
       "      <td>480</td>\n",
       "      <td>0</td>\n",
       "      <td>480</td>\n",
       "      <td>0.000</td>\n",
       "    </tr>\n",
       "    <tr>\n",
       "      <th>1</th>\n",
       "      <td>1</td>\n",
       "      <td>2</td>\n",
       "      <td>TMF011</td>\n",
       "      <td>MAT</td>\n",
       "      <td>2024-07-01</td>\n",
       "      <td>09:50:17</td>\n",
       "      <td>480</td>\n",
       "      <td>0</td>\n",
       "      <td>10176.0</td>\n",
       "      <td>480</td>\n",
       "      <td>0</td>\n",
       "      <td>480</td>\n",
       "      <td>0.000</td>\n",
       "    </tr>\n",
       "    <tr>\n",
       "      <th>2</th>\n",
       "      <td>1</td>\n",
       "      <td>3</td>\n",
       "      <td>TMF005</td>\n",
       "      <td>MAT</td>\n",
       "      <td>2024-07-01</td>\n",
       "      <td>09:50:18</td>\n",
       "      <td>480</td>\n",
       "      <td>0</td>\n",
       "      <td>10176.0</td>\n",
       "      <td>480</td>\n",
       "      <td>0</td>\n",
       "      <td>480</td>\n",
       "      <td>0.000</td>\n",
       "    </tr>\n",
       "    <tr>\n",
       "      <th>3</th>\n",
       "      <td>1</td>\n",
       "      <td>4</td>\n",
       "      <td>TMF012</td>\n",
       "      <td>MAT</td>\n",
       "      <td>2024-07-01</td>\n",
       "      <td>09:50:19</td>\n",
       "      <td>480</td>\n",
       "      <td>0</td>\n",
       "      <td>10176.0</td>\n",
       "      <td>480</td>\n",
       "      <td>0</td>\n",
       "      <td>480</td>\n",
       "      <td>0.000</td>\n",
       "    </tr>\n",
       "    <tr>\n",
       "      <th>4</th>\n",
       "      <td>1</td>\n",
       "      <td>5</td>\n",
       "      <td>TMF002</td>\n",
       "      <td>MAT</td>\n",
       "      <td>2024-07-01</td>\n",
       "      <td>09:50:20</td>\n",
       "      <td>480</td>\n",
       "      <td>0</td>\n",
       "      <td>10176.0</td>\n",
       "      <td>480</td>\n",
       "      <td>0</td>\n",
       "      <td>480</td>\n",
       "      <td>0.000</td>\n",
       "    </tr>\n",
       "    <tr>\n",
       "      <th>5</th>\n",
       "      <td>1</td>\n",
       "      <td>6</td>\n",
       "      <td>TMF001</td>\n",
       "      <td>MAT</td>\n",
       "      <td>2024-07-01</td>\n",
       "      <td>09:50:21</td>\n",
       "      <td>480</td>\n",
       "      <td>0</td>\n",
       "      <td>10176.0</td>\n",
       "      <td>480</td>\n",
       "      <td>0</td>\n",
       "      <td>480</td>\n",
       "      <td>0.000</td>\n",
       "    </tr>\n",
       "    <tr>\n",
       "      <th>6</th>\n",
       "      <td>1</td>\n",
       "      <td>7</td>\n",
       "      <td>TMF006</td>\n",
       "      <td>MAT</td>\n",
       "      <td>2024-07-01</td>\n",
       "      <td>09:50:22</td>\n",
       "      <td>480</td>\n",
       "      <td>0</td>\n",
       "      <td>10176.0</td>\n",
       "      <td>480</td>\n",
       "      <td>0</td>\n",
       "      <td>480</td>\n",
       "      <td>0.000</td>\n",
       "    </tr>\n",
       "    <tr>\n",
       "      <th>7</th>\n",
       "      <td>1</td>\n",
       "      <td>8</td>\n",
       "      <td>TMF014</td>\n",
       "      <td>MAT</td>\n",
       "      <td>2024-07-01</td>\n",
       "      <td>09:50:23</td>\n",
       "      <td>480</td>\n",
       "      <td>0</td>\n",
       "      <td>10176.0</td>\n",
       "      <td>480</td>\n",
       "      <td>0</td>\n",
       "      <td>480</td>\n",
       "      <td>0.000</td>\n",
       "    </tr>\n",
       "    <tr>\n",
       "      <th>8</th>\n",
       "      <td>1</td>\n",
       "      <td>9</td>\n",
       "      <td>TMF004</td>\n",
       "      <td>MAT</td>\n",
       "      <td>2024-07-01</td>\n",
       "      <td>09:50:24</td>\n",
       "      <td>480</td>\n",
       "      <td>0</td>\n",
       "      <td>10176.0</td>\n",
       "      <td>480</td>\n",
       "      <td>0</td>\n",
       "      <td>480</td>\n",
       "      <td>0.000</td>\n",
       "    </tr>\n",
       "    <tr>\n",
       "      <th>9</th>\n",
       "      <td>2</td>\n",
       "      <td>10</td>\n",
       "      <td>TMF008</td>\n",
       "      <td>MAT</td>\n",
       "      <td>2024-07-01</td>\n",
       "      <td>08:55:15</td>\n",
       "      <td>480</td>\n",
       "      <td>0</td>\n",
       "      <td>10176.0</td>\n",
       "      <td>480</td>\n",
       "      <td>0</td>\n",
       "      <td>480</td>\n",
       "      <td>0.000</td>\n",
       "    </tr>\n",
       "    <tr>\n",
       "      <th>10</th>\n",
       "      <td>2</td>\n",
       "      <td>11</td>\n",
       "      <td>TMF010</td>\n",
       "      <td>MAT</td>\n",
       "      <td>2024-07-01</td>\n",
       "      <td>08:55:16</td>\n",
       "      <td>480</td>\n",
       "      <td>0</td>\n",
       "      <td>10176.0</td>\n",
       "      <td>480</td>\n",
       "      <td>0</td>\n",
       "      <td>480</td>\n",
       "      <td>0.000</td>\n",
       "    </tr>\n",
       "    <tr>\n",
       "      <th>11</th>\n",
       "      <td>2</td>\n",
       "      <td>12</td>\n",
       "      <td>TMF007</td>\n",
       "      <td>MAT</td>\n",
       "      <td>2024-07-01</td>\n",
       "      <td>08:55:17</td>\n",
       "      <td>480</td>\n",
       "      <td>0</td>\n",
       "      <td>10176.0</td>\n",
       "      <td>480</td>\n",
       "      <td>0</td>\n",
       "      <td>480</td>\n",
       "      <td>0.000</td>\n",
       "    </tr>\n",
       "    <tr>\n",
       "      <th>12</th>\n",
       "      <td>2</td>\n",
       "      <td>13</td>\n",
       "      <td>TMF013</td>\n",
       "      <td>MAT</td>\n",
       "      <td>2024-07-01</td>\n",
       "      <td>08:55:18</td>\n",
       "      <td>480</td>\n",
       "      <td>0</td>\n",
       "      <td>10176.0</td>\n",
       "      <td>480</td>\n",
       "      <td>0</td>\n",
       "      <td>480</td>\n",
       "      <td>0.000</td>\n",
       "    </tr>\n",
       "    <tr>\n",
       "      <th>13</th>\n",
       "      <td>2</td>\n",
       "      <td>14</td>\n",
       "      <td>TMF009</td>\n",
       "      <td>MAT</td>\n",
       "      <td>2024-07-01</td>\n",
       "      <td>08:55:19</td>\n",
       "      <td>480</td>\n",
       "      <td>0</td>\n",
       "      <td>10176.0</td>\n",
       "      <td>480</td>\n",
       "      <td>0</td>\n",
       "      <td>480</td>\n",
       "      <td>0.000</td>\n",
       "    </tr>\n",
       "    <tr>\n",
       "      <th>14</th>\n",
       "      <td>1</td>\n",
       "      <td>1</td>\n",
       "      <td>TMF003</td>\n",
       "      <td>NOT</td>\n",
       "      <td>2024-07-01</td>\n",
       "      <td>07:58:16</td>\n",
       "      <td>480</td>\n",
       "      <td>0</td>\n",
       "      <td>10176.0</td>\n",
       "      <td>480</td>\n",
       "      <td>0</td>\n",
       "      <td>480</td>\n",
       "      <td>0.000</td>\n",
       "    </tr>\n",
       "    <tr>\n",
       "      <th>15</th>\n",
       "      <td>1</td>\n",
       "      <td>2</td>\n",
       "      <td>TMF011</td>\n",
       "      <td>NOT</td>\n",
       "      <td>2024-07-01</td>\n",
       "      <td>07:58:17</td>\n",
       "      <td>480</td>\n",
       "      <td>12</td>\n",
       "      <td>10176.0</td>\n",
       "      <td>480</td>\n",
       "      <td>0</td>\n",
       "      <td>480</td>\n",
       "      <td>0.001</td>\n",
       "    </tr>\n",
       "    <tr>\n",
       "      <th>16</th>\n",
       "      <td>1</td>\n",
       "      <td>3</td>\n",
       "      <td>TMF005</td>\n",
       "      <td>NOT</td>\n",
       "      <td>2024-07-01</td>\n",
       "      <td>07:58:18</td>\n",
       "      <td>479</td>\n",
       "      <td>20</td>\n",
       "      <td>9836.8</td>\n",
       "      <td>464</td>\n",
       "      <td>16</td>\n",
       "      <td>463</td>\n",
       "      <td>0.002</td>\n",
       "    </tr>\n",
       "    <tr>\n",
       "      <th>17</th>\n",
       "      <td>1</td>\n",
       "      <td>4</td>\n",
       "      <td>TMF012</td>\n",
       "      <td>NOT</td>\n",
       "      <td>2024-07-01</td>\n",
       "      <td>07:58:19</td>\n",
       "      <td>480</td>\n",
       "      <td>0</td>\n",
       "      <td>10176.0</td>\n",
       "      <td>480</td>\n",
       "      <td>0</td>\n",
       "      <td>480</td>\n",
       "      <td>0.000</td>\n",
       "    </tr>\n",
       "    <tr>\n",
       "      <th>18</th>\n",
       "      <td>1</td>\n",
       "      <td>5</td>\n",
       "      <td>TMF002</td>\n",
       "      <td>NOT</td>\n",
       "      <td>2024-07-01</td>\n",
       "      <td>07:58:20</td>\n",
       "      <td>480</td>\n",
       "      <td>50</td>\n",
       "      <td>10176.0</td>\n",
       "      <td>480</td>\n",
       "      <td>0</td>\n",
       "      <td>480</td>\n",
       "      <td>0.005</td>\n",
       "    </tr>\n",
       "    <tr>\n",
       "      <th>19</th>\n",
       "      <td>1</td>\n",
       "      <td>6</td>\n",
       "      <td>TMF001</td>\n",
       "      <td>NOT</td>\n",
       "      <td>2024-07-01</td>\n",
       "      <td>07:58:21</td>\n",
       "      <td>480</td>\n",
       "      <td>0</td>\n",
       "      <td>0.0</td>\n",
       "      <td>0</td>\n",
       "      <td>480</td>\n",
       "      <td>0</td>\n",
       "      <td>NaN</td>\n",
       "    </tr>\n",
       "    <tr>\n",
       "      <th>20</th>\n",
       "      <td>1</td>\n",
       "      <td>7</td>\n",
       "      <td>TMF006</td>\n",
       "      <td>NOT</td>\n",
       "      <td>2024-07-01</td>\n",
       "      <td>07:58:22</td>\n",
       "      <td>480</td>\n",
       "      <td>0</td>\n",
       "      <td>10176.0</td>\n",
       "      <td>480</td>\n",
       "      <td>0</td>\n",
       "      <td>480</td>\n",
       "      <td>0.000</td>\n",
       "    </tr>\n",
       "    <tr>\n",
       "      <th>21</th>\n",
       "      <td>1</td>\n",
       "      <td>8</td>\n",
       "      <td>TMF014</td>\n",
       "      <td>NOT</td>\n",
       "      <td>2024-07-01</td>\n",
       "      <td>07:58:23</td>\n",
       "      <td>480</td>\n",
       "      <td>0</td>\n",
       "      <td>10176.0</td>\n",
       "      <td>480</td>\n",
       "      <td>0</td>\n",
       "      <td>480</td>\n",
       "      <td>0.000</td>\n",
       "    </tr>\n",
       "    <tr>\n",
       "      <th>22</th>\n",
       "      <td>1</td>\n",
       "      <td>9</td>\n",
       "      <td>TMF004</td>\n",
       "      <td>NOT</td>\n",
       "      <td>2024-07-01</td>\n",
       "      <td>07:58:24</td>\n",
       "      <td>480</td>\n",
       "      <td>0</td>\n",
       "      <td>0.0</td>\n",
       "      <td>0</td>\n",
       "      <td>480</td>\n",
       "      <td>0</td>\n",
       "      <td>NaN</td>\n",
       "    </tr>\n",
       "    <tr>\n",
       "      <th>23</th>\n",
       "      <td>2</td>\n",
       "      <td>10</td>\n",
       "      <td>TMF008</td>\n",
       "      <td>NOT</td>\n",
       "      <td>2024-07-01</td>\n",
       "      <td>07:59:15</td>\n",
       "      <td>480</td>\n",
       "      <td>0</td>\n",
       "      <td>10176.0</td>\n",
       "      <td>480</td>\n",
       "      <td>0</td>\n",
       "      <td>480</td>\n",
       "      <td>0.000</td>\n",
       "    </tr>\n",
       "    <tr>\n",
       "      <th>24</th>\n",
       "      <td>2</td>\n",
       "      <td>11</td>\n",
       "      <td>TMF010</td>\n",
       "      <td>NOT</td>\n",
       "      <td>2024-07-01</td>\n",
       "      <td>07:59:16</td>\n",
       "      <td>480</td>\n",
       "      <td>0</td>\n",
       "      <td>10176.0</td>\n",
       "      <td>480</td>\n",
       "      <td>0</td>\n",
       "      <td>480</td>\n",
       "      <td>0.000</td>\n",
       "    </tr>\n",
       "    <tr>\n",
       "      <th>25</th>\n",
       "      <td>2</td>\n",
       "      <td>12</td>\n",
       "      <td>TMF007</td>\n",
       "      <td>NOT</td>\n",
       "      <td>2024-07-01</td>\n",
       "      <td>07:59:17</td>\n",
       "      <td>480</td>\n",
       "      <td>0</td>\n",
       "      <td>10176.0</td>\n",
       "      <td>480</td>\n",
       "      <td>0</td>\n",
       "      <td>480</td>\n",
       "      <td>0.000</td>\n",
       "    </tr>\n",
       "    <tr>\n",
       "      <th>26</th>\n",
       "      <td>2</td>\n",
       "      <td>13</td>\n",
       "      <td>TMF013</td>\n",
       "      <td>NOT</td>\n",
       "      <td>2024-07-01</td>\n",
       "      <td>07:59:18</td>\n",
       "      <td>480</td>\n",
       "      <td>0</td>\n",
       "      <td>10176.0</td>\n",
       "      <td>480</td>\n",
       "      <td>0</td>\n",
       "      <td>480</td>\n",
       "      <td>0.000</td>\n",
       "    </tr>\n",
       "    <tr>\n",
       "      <th>27</th>\n",
       "      <td>2</td>\n",
       "      <td>14</td>\n",
       "      <td>TMF009</td>\n",
       "      <td>NOT</td>\n",
       "      <td>2024-07-01</td>\n",
       "      <td>07:59:19</td>\n",
       "      <td>480</td>\n",
       "      <td>0</td>\n",
       "      <td>10176.0</td>\n",
       "      <td>480</td>\n",
       "      <td>0</td>\n",
       "      <td>480</td>\n",
       "      <td>0.000</td>\n",
       "    </tr>\n",
       "  </tbody>\n",
       "</table>\n",
       "</div>"
      ],
      "text/plain": [
       "   fabrica  linha maquina_id turno data_registro hora_registro  tempo  \\\n",
       "0        1      1     TMF003   MAT    2024-07-01      09:50:16    480   \n",
       "1        1      2     TMF011   MAT    2024-07-01      09:50:17    480   \n",
       "2        1      3     TMF005   MAT    2024-07-01      09:50:18    480   \n",
       "3        1      4     TMF012   MAT    2024-07-01      09:50:19    480   \n",
       "4        1      5     TMF002   MAT    2024-07-01      09:50:20    480   \n",
       "5        1      6     TMF001   MAT    2024-07-01      09:50:21    480   \n",
       "6        1      7     TMF006   MAT    2024-07-01      09:50:22    480   \n",
       "7        1      8     TMF014   MAT    2024-07-01      09:50:23    480   \n",
       "8        1      9     TMF004   MAT    2024-07-01      09:50:24    480   \n",
       "9        2     10     TMF008   MAT    2024-07-01      08:55:15    480   \n",
       "10       2     11     TMF010   MAT    2024-07-01      08:55:16    480   \n",
       "11       2     12     TMF007   MAT    2024-07-01      08:55:17    480   \n",
       "12       2     13     TMF013   MAT    2024-07-01      08:55:18    480   \n",
       "13       2     14     TMF009   MAT    2024-07-01      08:55:19    480   \n",
       "14       1      1     TMF003   NOT    2024-07-01      07:58:16    480   \n",
       "15       1      2     TMF011   NOT    2024-07-01      07:58:17    480   \n",
       "16       1      3     TMF005   NOT    2024-07-01      07:58:18    479   \n",
       "17       1      4     TMF012   NOT    2024-07-01      07:58:19    480   \n",
       "18       1      5     TMF002   NOT    2024-07-01      07:58:20    480   \n",
       "19       1      6     TMF001   NOT    2024-07-01      07:58:21    480   \n",
       "20       1      7     TMF006   NOT    2024-07-01      07:58:22    480   \n",
       "21       1      8     TMF014   NOT    2024-07-01      07:58:23    480   \n",
       "22       1      9     TMF004   NOT    2024-07-01      07:58:24    480   \n",
       "23       2     10     TMF008   NOT    2024-07-01      07:59:15    480   \n",
       "24       2     11     TMF010   NOT    2024-07-01      07:59:16    480   \n",
       "25       2     12     TMF007   NOT    2024-07-01      07:59:17    480   \n",
       "26       2     13     TMF013   NOT    2024-07-01      07:59:18    480   \n",
       "27       2     14     TMF009   NOT    2024-07-01      07:59:19    480   \n",
       "\n",
       "    total_produzido  producao_esperada  tempo_esperado  desconto  excedente  \\\n",
       "0                 0            10176.0             480         0        480   \n",
       "1                 0            10176.0             480         0        480   \n",
       "2                 0            10176.0             480         0        480   \n",
       "3                 0            10176.0             480         0        480   \n",
       "4                 0            10176.0             480         0        480   \n",
       "5                 0            10176.0             480         0        480   \n",
       "6                 0            10176.0             480         0        480   \n",
       "7                 0            10176.0             480         0        480   \n",
       "8                 0            10176.0             480         0        480   \n",
       "9                 0            10176.0             480         0        480   \n",
       "10                0            10176.0             480         0        480   \n",
       "11                0            10176.0             480         0        480   \n",
       "12                0            10176.0             480         0        480   \n",
       "13                0            10176.0             480         0        480   \n",
       "14                0            10176.0             480         0        480   \n",
       "15               12            10176.0             480         0        480   \n",
       "16               20             9836.8             464        16        463   \n",
       "17                0            10176.0             480         0        480   \n",
       "18               50            10176.0             480         0        480   \n",
       "19                0                0.0               0       480          0   \n",
       "20                0            10176.0             480         0        480   \n",
       "21                0            10176.0             480         0        480   \n",
       "22                0                0.0               0       480          0   \n",
       "23                0            10176.0             480         0        480   \n",
       "24                0            10176.0             480         0        480   \n",
       "25                0            10176.0             480         0        480   \n",
       "26                0            10176.0             480         0        480   \n",
       "27                0            10176.0             480         0        480   \n",
       "\n",
       "    eficiencia  \n",
       "0        0.000  \n",
       "1        0.000  \n",
       "2        0.000  \n",
       "3        0.000  \n",
       "4        0.000  \n",
       "5        0.000  \n",
       "6        0.000  \n",
       "7        0.000  \n",
       "8        0.000  \n",
       "9        0.000  \n",
       "10       0.000  \n",
       "11       0.000  \n",
       "12       0.000  \n",
       "13       0.000  \n",
       "14       0.000  \n",
       "15       0.001  \n",
       "16       0.002  \n",
       "17       0.000  \n",
       "18       0.005  \n",
       "19         NaN  \n",
       "20       0.000  \n",
       "21       0.000  \n",
       "22         NaN  \n",
       "23       0.000  \n",
       "24       0.000  \n",
       "25       0.000  \n",
       "26       0.000  \n",
       "27       0.000  "
      ]
     },
     "execution_count": 30,
     "metadata": {},
     "output_type": "execute_result"
    }
   ],
   "source": [
    "df_eff = data_analysis.get_eff_data()\n",
    "df_eff"
   ]
  },
  {
   "cell_type": "code",
   "execution_count": 31,
   "metadata": {},
   "outputs": [
    {
     "data": {
      "text/html": [
       "<div>\n",
       "<style scoped>\n",
       "    .dataframe tbody tr th:only-of-type {\n",
       "        vertical-align: middle;\n",
       "    }\n",
       "\n",
       "    .dataframe tbody tr th {\n",
       "        vertical-align: top;\n",
       "    }\n",
       "\n",
       "    .dataframe thead th {\n",
       "        text-align: right;\n",
       "    }\n",
       "</style>\n",
       "<table border=\"1\" class=\"dataframe\">\n",
       "  <thead>\n",
       "    <tr style=\"text-align: right;\">\n",
       "      <th></th>\n",
       "      <th>fabrica</th>\n",
       "      <th>linha</th>\n",
       "      <th>maquina_id</th>\n",
       "      <th>turno</th>\n",
       "      <th>data_registro</th>\n",
       "      <th>hora_registro</th>\n",
       "      <th>tempo</th>\n",
       "      <th>tempo_esperado</th>\n",
       "      <th>desconto</th>\n",
       "      <th>afeta</th>\n",
       "      <th>performance</th>\n",
       "    </tr>\n",
       "  </thead>\n",
       "  <tbody>\n",
       "    <tr>\n",
       "      <th>0</th>\n",
       "      <td>1</td>\n",
       "      <td>1</td>\n",
       "      <td>TMF003</td>\n",
       "      <td>MAT</td>\n",
       "      <td>2024-07-01</td>\n",
       "      <td>09:50:16</td>\n",
       "      <td>480.0</td>\n",
       "      <td>480.0</td>\n",
       "      <td>0.0</td>\n",
       "      <td>480.0</td>\n",
       "      <td>1.0</td>\n",
       "    </tr>\n",
       "    <tr>\n",
       "      <th>1</th>\n",
       "      <td>1</td>\n",
       "      <td>2</td>\n",
       "      <td>TMF011</td>\n",
       "      <td>MAT</td>\n",
       "      <td>2024-07-01</td>\n",
       "      <td>09:50:17</td>\n",
       "      <td>480.0</td>\n",
       "      <td>480.0</td>\n",
       "      <td>0.0</td>\n",
       "      <td>480.0</td>\n",
       "      <td>1.0</td>\n",
       "    </tr>\n",
       "    <tr>\n",
       "      <th>2</th>\n",
       "      <td>1</td>\n",
       "      <td>3</td>\n",
       "      <td>TMF005</td>\n",
       "      <td>MAT</td>\n",
       "      <td>2024-07-01</td>\n",
       "      <td>09:50:18</td>\n",
       "      <td>480.0</td>\n",
       "      <td>480.0</td>\n",
       "      <td>0.0</td>\n",
       "      <td>480.0</td>\n",
       "      <td>1.0</td>\n",
       "    </tr>\n",
       "    <tr>\n",
       "      <th>3</th>\n",
       "      <td>1</td>\n",
       "      <td>4</td>\n",
       "      <td>TMF012</td>\n",
       "      <td>MAT</td>\n",
       "      <td>2024-07-01</td>\n",
       "      <td>09:50:19</td>\n",
       "      <td>480.0</td>\n",
       "      <td>480.0</td>\n",
       "      <td>0.0</td>\n",
       "      <td>480.0</td>\n",
       "      <td>1.0</td>\n",
       "    </tr>\n",
       "    <tr>\n",
       "      <th>4</th>\n",
       "      <td>1</td>\n",
       "      <td>5</td>\n",
       "      <td>TMF002</td>\n",
       "      <td>MAT</td>\n",
       "      <td>2024-07-01</td>\n",
       "      <td>09:50:20</td>\n",
       "      <td>480.0</td>\n",
       "      <td>480.0</td>\n",
       "      <td>0.0</td>\n",
       "      <td>480.0</td>\n",
       "      <td>1.0</td>\n",
       "    </tr>\n",
       "    <tr>\n",
       "      <th>5</th>\n",
       "      <td>1</td>\n",
       "      <td>6</td>\n",
       "      <td>TMF001</td>\n",
       "      <td>MAT</td>\n",
       "      <td>2024-07-01</td>\n",
       "      <td>09:50:21</td>\n",
       "      <td>480.0</td>\n",
       "      <td>480.0</td>\n",
       "      <td>0.0</td>\n",
       "      <td>480.0</td>\n",
       "      <td>1.0</td>\n",
       "    </tr>\n",
       "    <tr>\n",
       "      <th>6</th>\n",
       "      <td>1</td>\n",
       "      <td>7</td>\n",
       "      <td>TMF006</td>\n",
       "      <td>MAT</td>\n",
       "      <td>2024-07-01</td>\n",
       "      <td>09:50:22</td>\n",
       "      <td>480.0</td>\n",
       "      <td>480.0</td>\n",
       "      <td>0.0</td>\n",
       "      <td>480.0</td>\n",
       "      <td>1.0</td>\n",
       "    </tr>\n",
       "    <tr>\n",
       "      <th>7</th>\n",
       "      <td>1</td>\n",
       "      <td>8</td>\n",
       "      <td>TMF014</td>\n",
       "      <td>MAT</td>\n",
       "      <td>2024-07-01</td>\n",
       "      <td>09:50:23</td>\n",
       "      <td>480.0</td>\n",
       "      <td>480.0</td>\n",
       "      <td>0.0</td>\n",
       "      <td>480.0</td>\n",
       "      <td>1.0</td>\n",
       "    </tr>\n",
       "    <tr>\n",
       "      <th>8</th>\n",
       "      <td>1</td>\n",
       "      <td>9</td>\n",
       "      <td>TMF004</td>\n",
       "      <td>MAT</td>\n",
       "      <td>2024-07-01</td>\n",
       "      <td>09:50:24</td>\n",
       "      <td>480.0</td>\n",
       "      <td>480.0</td>\n",
       "      <td>0.0</td>\n",
       "      <td>480.0</td>\n",
       "      <td>1.0</td>\n",
       "    </tr>\n",
       "    <tr>\n",
       "      <th>9</th>\n",
       "      <td>2</td>\n",
       "      <td>10</td>\n",
       "      <td>TMF008</td>\n",
       "      <td>MAT</td>\n",
       "      <td>2024-07-01</td>\n",
       "      <td>08:55:15</td>\n",
       "      <td>480.0</td>\n",
       "      <td>480.0</td>\n",
       "      <td>0.0</td>\n",
       "      <td>480.0</td>\n",
       "      <td>1.0</td>\n",
       "    </tr>\n",
       "    <tr>\n",
       "      <th>10</th>\n",
       "      <td>2</td>\n",
       "      <td>11</td>\n",
       "      <td>TMF010</td>\n",
       "      <td>MAT</td>\n",
       "      <td>2024-07-01</td>\n",
       "      <td>08:55:16</td>\n",
       "      <td>480.0</td>\n",
       "      <td>480.0</td>\n",
       "      <td>0.0</td>\n",
       "      <td>480.0</td>\n",
       "      <td>1.0</td>\n",
       "    </tr>\n",
       "    <tr>\n",
       "      <th>11</th>\n",
       "      <td>2</td>\n",
       "      <td>12</td>\n",
       "      <td>TMF007</td>\n",
       "      <td>MAT</td>\n",
       "      <td>2024-07-01</td>\n",
       "      <td>08:55:17</td>\n",
       "      <td>480.0</td>\n",
       "      <td>480.0</td>\n",
       "      <td>0.0</td>\n",
       "      <td>480.0</td>\n",
       "      <td>1.0</td>\n",
       "    </tr>\n",
       "    <tr>\n",
       "      <th>12</th>\n",
       "      <td>2</td>\n",
       "      <td>13</td>\n",
       "      <td>TMF013</td>\n",
       "      <td>MAT</td>\n",
       "      <td>2024-07-01</td>\n",
       "      <td>08:55:18</td>\n",
       "      <td>480.0</td>\n",
       "      <td>480.0</td>\n",
       "      <td>0.0</td>\n",
       "      <td>480.0</td>\n",
       "      <td>1.0</td>\n",
       "    </tr>\n",
       "    <tr>\n",
       "      <th>13</th>\n",
       "      <td>2</td>\n",
       "      <td>14</td>\n",
       "      <td>TMF009</td>\n",
       "      <td>MAT</td>\n",
       "      <td>2024-07-01</td>\n",
       "      <td>08:55:19</td>\n",
       "      <td>480.0</td>\n",
       "      <td>480.0</td>\n",
       "      <td>0.0</td>\n",
       "      <td>480.0</td>\n",
       "      <td>1.0</td>\n",
       "    </tr>\n",
       "    <tr>\n",
       "      <th>14</th>\n",
       "      <td>1</td>\n",
       "      <td>1</td>\n",
       "      <td>TMF003</td>\n",
       "      <td>NOT</td>\n",
       "      <td>2024-07-01</td>\n",
       "      <td>07:58:16</td>\n",
       "      <td>480.0</td>\n",
       "      <td>480.0</td>\n",
       "      <td>0.0</td>\n",
       "      <td>480.0</td>\n",
       "      <td>1.0</td>\n",
       "    </tr>\n",
       "    <tr>\n",
       "      <th>15</th>\n",
       "      <td>1</td>\n",
       "      <td>2</td>\n",
       "      <td>TMF011</td>\n",
       "      <td>NOT</td>\n",
       "      <td>2024-07-01</td>\n",
       "      <td>07:58:17</td>\n",
       "      <td>480.0</td>\n",
       "      <td>480.0</td>\n",
       "      <td>0.0</td>\n",
       "      <td>480.0</td>\n",
       "      <td>1.0</td>\n",
       "    </tr>\n",
       "    <tr>\n",
       "      <th>16</th>\n",
       "      <td>1</td>\n",
       "      <td>3</td>\n",
       "      <td>TMF005</td>\n",
       "      <td>NOT</td>\n",
       "      <td>2024-07-01</td>\n",
       "      <td>07:58:18</td>\n",
       "      <td>0.0</td>\n",
       "      <td>480.0</td>\n",
       "      <td>0.0</td>\n",
       "      <td>0.0</td>\n",
       "      <td>0.0</td>\n",
       "    </tr>\n",
       "    <tr>\n",
       "      <th>17</th>\n",
       "      <td>1</td>\n",
       "      <td>4</td>\n",
       "      <td>TMF012</td>\n",
       "      <td>NOT</td>\n",
       "      <td>2024-07-01</td>\n",
       "      <td>07:58:19</td>\n",
       "      <td>480.0</td>\n",
       "      <td>480.0</td>\n",
       "      <td>0.0</td>\n",
       "      <td>480.0</td>\n",
       "      <td>1.0</td>\n",
       "    </tr>\n",
       "    <tr>\n",
       "      <th>18</th>\n",
       "      <td>1</td>\n",
       "      <td>5</td>\n",
       "      <td>TMF002</td>\n",
       "      <td>NOT</td>\n",
       "      <td>2024-07-01</td>\n",
       "      <td>07:58:20</td>\n",
       "      <td>0.0</td>\n",
       "      <td>480.0</td>\n",
       "      <td>0.0</td>\n",
       "      <td>0.0</td>\n",
       "      <td>0.0</td>\n",
       "    </tr>\n",
       "    <tr>\n",
       "      <th>19</th>\n",
       "      <td>1</td>\n",
       "      <td>6</td>\n",
       "      <td>TMF001</td>\n",
       "      <td>NOT</td>\n",
       "      <td>2024-07-01</td>\n",
       "      <td>07:58:21</td>\n",
       "      <td>0.0</td>\n",
       "      <td>0.0</td>\n",
       "      <td>0.0</td>\n",
       "      <td>0.0</td>\n",
       "      <td>NaN</td>\n",
       "    </tr>\n",
       "    <tr>\n",
       "      <th>20</th>\n",
       "      <td>1</td>\n",
       "      <td>7</td>\n",
       "      <td>TMF006</td>\n",
       "      <td>NOT</td>\n",
       "      <td>2024-07-01</td>\n",
       "      <td>07:58:22</td>\n",
       "      <td>0.0</td>\n",
       "      <td>480.0</td>\n",
       "      <td>0.0</td>\n",
       "      <td>0.0</td>\n",
       "      <td>0.0</td>\n",
       "    </tr>\n",
       "    <tr>\n",
       "      <th>21</th>\n",
       "      <td>1</td>\n",
       "      <td>8</td>\n",
       "      <td>TMF014</td>\n",
       "      <td>NOT</td>\n",
       "      <td>2024-07-01</td>\n",
       "      <td>07:58:23</td>\n",
       "      <td>0.0</td>\n",
       "      <td>480.0</td>\n",
       "      <td>0.0</td>\n",
       "      <td>0.0</td>\n",
       "      <td>0.0</td>\n",
       "    </tr>\n",
       "    <tr>\n",
       "      <th>22</th>\n",
       "      <td>1</td>\n",
       "      <td>9</td>\n",
       "      <td>TMF004</td>\n",
       "      <td>NOT</td>\n",
       "      <td>2024-07-01</td>\n",
       "      <td>07:58:24</td>\n",
       "      <td>0.0</td>\n",
       "      <td>0.0</td>\n",
       "      <td>0.0</td>\n",
       "      <td>0.0</td>\n",
       "      <td>NaN</td>\n",
       "    </tr>\n",
       "    <tr>\n",
       "      <th>23</th>\n",
       "      <td>2</td>\n",
       "      <td>10</td>\n",
       "      <td>TMF008</td>\n",
       "      <td>NOT</td>\n",
       "      <td>2024-07-01</td>\n",
       "      <td>07:59:15</td>\n",
       "      <td>480.0</td>\n",
       "      <td>480.0</td>\n",
       "      <td>0.0</td>\n",
       "      <td>480.0</td>\n",
       "      <td>1.0</td>\n",
       "    </tr>\n",
       "    <tr>\n",
       "      <th>24</th>\n",
       "      <td>2</td>\n",
       "      <td>11</td>\n",
       "      <td>TMF010</td>\n",
       "      <td>NOT</td>\n",
       "      <td>2024-07-01</td>\n",
       "      <td>07:59:16</td>\n",
       "      <td>480.0</td>\n",
       "      <td>480.0</td>\n",
       "      <td>0.0</td>\n",
       "      <td>480.0</td>\n",
       "      <td>1.0</td>\n",
       "    </tr>\n",
       "    <tr>\n",
       "      <th>25</th>\n",
       "      <td>2</td>\n",
       "      <td>12</td>\n",
       "      <td>TMF007</td>\n",
       "      <td>NOT</td>\n",
       "      <td>2024-07-01</td>\n",
       "      <td>07:59:17</td>\n",
       "      <td>480.0</td>\n",
       "      <td>480.0</td>\n",
       "      <td>0.0</td>\n",
       "      <td>480.0</td>\n",
       "      <td>1.0</td>\n",
       "    </tr>\n",
       "    <tr>\n",
       "      <th>26</th>\n",
       "      <td>2</td>\n",
       "      <td>13</td>\n",
       "      <td>TMF013</td>\n",
       "      <td>NOT</td>\n",
       "      <td>2024-07-01</td>\n",
       "      <td>07:59:18</td>\n",
       "      <td>480.0</td>\n",
       "      <td>480.0</td>\n",
       "      <td>0.0</td>\n",
       "      <td>480.0</td>\n",
       "      <td>1.0</td>\n",
       "    </tr>\n",
       "    <tr>\n",
       "      <th>27</th>\n",
       "      <td>2</td>\n",
       "      <td>14</td>\n",
       "      <td>TMF009</td>\n",
       "      <td>NOT</td>\n",
       "      <td>2024-07-01</td>\n",
       "      <td>07:59:19</td>\n",
       "      <td>480.0</td>\n",
       "      <td>480.0</td>\n",
       "      <td>0.0</td>\n",
       "      <td>480.0</td>\n",
       "      <td>1.0</td>\n",
       "    </tr>\n",
       "  </tbody>\n",
       "</table>\n",
       "</div>"
      ],
      "text/plain": [
       "   fabrica  linha maquina_id turno data_registro hora_registro  tempo  \\\n",
       "0        1      1     TMF003   MAT    2024-07-01      09:50:16  480.0   \n",
       "1        1      2     TMF011   MAT    2024-07-01      09:50:17  480.0   \n",
       "2        1      3     TMF005   MAT    2024-07-01      09:50:18  480.0   \n",
       "3        1      4     TMF012   MAT    2024-07-01      09:50:19  480.0   \n",
       "4        1      5     TMF002   MAT    2024-07-01      09:50:20  480.0   \n",
       "5        1      6     TMF001   MAT    2024-07-01      09:50:21  480.0   \n",
       "6        1      7     TMF006   MAT    2024-07-01      09:50:22  480.0   \n",
       "7        1      8     TMF014   MAT    2024-07-01      09:50:23  480.0   \n",
       "8        1      9     TMF004   MAT    2024-07-01      09:50:24  480.0   \n",
       "9        2     10     TMF008   MAT    2024-07-01      08:55:15  480.0   \n",
       "10       2     11     TMF010   MAT    2024-07-01      08:55:16  480.0   \n",
       "11       2     12     TMF007   MAT    2024-07-01      08:55:17  480.0   \n",
       "12       2     13     TMF013   MAT    2024-07-01      08:55:18  480.0   \n",
       "13       2     14     TMF009   MAT    2024-07-01      08:55:19  480.0   \n",
       "14       1      1     TMF003   NOT    2024-07-01      07:58:16  480.0   \n",
       "15       1      2     TMF011   NOT    2024-07-01      07:58:17  480.0   \n",
       "16       1      3     TMF005   NOT    2024-07-01      07:58:18    0.0   \n",
       "17       1      4     TMF012   NOT    2024-07-01      07:58:19  480.0   \n",
       "18       1      5     TMF002   NOT    2024-07-01      07:58:20    0.0   \n",
       "19       1      6     TMF001   NOT    2024-07-01      07:58:21    0.0   \n",
       "20       1      7     TMF006   NOT    2024-07-01      07:58:22    0.0   \n",
       "21       1      8     TMF014   NOT    2024-07-01      07:58:23    0.0   \n",
       "22       1      9     TMF004   NOT    2024-07-01      07:58:24    0.0   \n",
       "23       2     10     TMF008   NOT    2024-07-01      07:59:15  480.0   \n",
       "24       2     11     TMF010   NOT    2024-07-01      07:59:16  480.0   \n",
       "25       2     12     TMF007   NOT    2024-07-01      07:59:17  480.0   \n",
       "26       2     13     TMF013   NOT    2024-07-01      07:59:18  480.0   \n",
       "27       2     14     TMF009   NOT    2024-07-01      07:59:19  480.0   \n",
       "\n",
       "    tempo_esperado  desconto  afeta  performance  \n",
       "0            480.0       0.0  480.0          1.0  \n",
       "1            480.0       0.0  480.0          1.0  \n",
       "2            480.0       0.0  480.0          1.0  \n",
       "3            480.0       0.0  480.0          1.0  \n",
       "4            480.0       0.0  480.0          1.0  \n",
       "5            480.0       0.0  480.0          1.0  \n",
       "6            480.0       0.0  480.0          1.0  \n",
       "7            480.0       0.0  480.0          1.0  \n",
       "8            480.0       0.0  480.0          1.0  \n",
       "9            480.0       0.0  480.0          1.0  \n",
       "10           480.0       0.0  480.0          1.0  \n",
       "11           480.0       0.0  480.0          1.0  \n",
       "12           480.0       0.0  480.0          1.0  \n",
       "13           480.0       0.0  480.0          1.0  \n",
       "14           480.0       0.0  480.0          1.0  \n",
       "15           480.0       0.0  480.0          1.0  \n",
       "16           480.0       0.0    0.0          0.0  \n",
       "17           480.0       0.0  480.0          1.0  \n",
       "18           480.0       0.0    0.0          0.0  \n",
       "19             0.0       0.0    0.0          NaN  \n",
       "20           480.0       0.0    0.0          0.0  \n",
       "21           480.0       0.0    0.0          0.0  \n",
       "22             0.0       0.0    0.0          NaN  \n",
       "23           480.0       0.0  480.0          1.0  \n",
       "24           480.0       0.0  480.0          1.0  \n",
       "25           480.0       0.0  480.0          1.0  \n",
       "26           480.0       0.0  480.0          1.0  \n",
       "27           480.0       0.0  480.0          1.0  "
      ]
     },
     "execution_count": 31,
     "metadata": {},
     "output_type": "execute_result"
    }
   ],
   "source": [
    "df_perf = data_analysis.get_perf_data()\n",
    "df_perf"
   ]
  },
  {
   "cell_type": "code",
   "execution_count": 32,
   "metadata": {},
   "outputs": [
    {
     "data": {
      "text/html": [
       "<div>\n",
       "<style scoped>\n",
       "    .dataframe tbody tr th:only-of-type {\n",
       "        vertical-align: middle;\n",
       "    }\n",
       "\n",
       "    .dataframe tbody tr th {\n",
       "        vertical-align: top;\n",
       "    }\n",
       "\n",
       "    .dataframe thead th {\n",
       "        text-align: right;\n",
       "    }\n",
       "</style>\n",
       "<table border=\"1\" class=\"dataframe\">\n",
       "  <thead>\n",
       "    <tr style=\"text-align: right;\">\n",
       "      <th></th>\n",
       "      <th>fabrica</th>\n",
       "      <th>linha</th>\n",
       "      <th>maquina_id</th>\n",
       "      <th>turno</th>\n",
       "      <th>data_registro</th>\n",
       "      <th>hora_registro</th>\n",
       "      <th>tempo</th>\n",
       "      <th>tempo_esperado</th>\n",
       "      <th>desconto</th>\n",
       "      <th>afeta</th>\n",
       "      <th>reparo</th>\n",
       "    </tr>\n",
       "  </thead>\n",
       "  <tbody>\n",
       "    <tr>\n",
       "      <th>0</th>\n",
       "      <td>1</td>\n",
       "      <td>1</td>\n",
       "      <td>TMF003</td>\n",
       "      <td>MAT</td>\n",
       "      <td>2024-07-01</td>\n",
       "      <td>09:50:16</td>\n",
       "      <td>0.0</td>\n",
       "      <td>480.0</td>\n",
       "      <td>0.0</td>\n",
       "      <td>0.0</td>\n",
       "      <td>0.0</td>\n",
       "    </tr>\n",
       "    <tr>\n",
       "      <th>1</th>\n",
       "      <td>1</td>\n",
       "      <td>2</td>\n",
       "      <td>TMF011</td>\n",
       "      <td>MAT</td>\n",
       "      <td>2024-07-01</td>\n",
       "      <td>09:50:17</td>\n",
       "      <td>0.0</td>\n",
       "      <td>480.0</td>\n",
       "      <td>0.0</td>\n",
       "      <td>0.0</td>\n",
       "      <td>0.0</td>\n",
       "    </tr>\n",
       "    <tr>\n",
       "      <th>2</th>\n",
       "      <td>1</td>\n",
       "      <td>3</td>\n",
       "      <td>TMF005</td>\n",
       "      <td>MAT</td>\n",
       "      <td>2024-07-01</td>\n",
       "      <td>09:50:18</td>\n",
       "      <td>0.0</td>\n",
       "      <td>480.0</td>\n",
       "      <td>0.0</td>\n",
       "      <td>0.0</td>\n",
       "      <td>0.0</td>\n",
       "    </tr>\n",
       "    <tr>\n",
       "      <th>3</th>\n",
       "      <td>1</td>\n",
       "      <td>4</td>\n",
       "      <td>TMF012</td>\n",
       "      <td>MAT</td>\n",
       "      <td>2024-07-01</td>\n",
       "      <td>09:50:19</td>\n",
       "      <td>0.0</td>\n",
       "      <td>480.0</td>\n",
       "      <td>0.0</td>\n",
       "      <td>0.0</td>\n",
       "      <td>0.0</td>\n",
       "    </tr>\n",
       "    <tr>\n",
       "      <th>4</th>\n",
       "      <td>1</td>\n",
       "      <td>5</td>\n",
       "      <td>TMF002</td>\n",
       "      <td>MAT</td>\n",
       "      <td>2024-07-01</td>\n",
       "      <td>09:50:20</td>\n",
       "      <td>0.0</td>\n",
       "      <td>480.0</td>\n",
       "      <td>0.0</td>\n",
       "      <td>0.0</td>\n",
       "      <td>0.0</td>\n",
       "    </tr>\n",
       "    <tr>\n",
       "      <th>5</th>\n",
       "      <td>1</td>\n",
       "      <td>6</td>\n",
       "      <td>TMF001</td>\n",
       "      <td>MAT</td>\n",
       "      <td>2024-07-01</td>\n",
       "      <td>09:50:21</td>\n",
       "      <td>0.0</td>\n",
       "      <td>480.0</td>\n",
       "      <td>0.0</td>\n",
       "      <td>0.0</td>\n",
       "      <td>0.0</td>\n",
       "    </tr>\n",
       "    <tr>\n",
       "      <th>6</th>\n",
       "      <td>1</td>\n",
       "      <td>7</td>\n",
       "      <td>TMF006</td>\n",
       "      <td>MAT</td>\n",
       "      <td>2024-07-01</td>\n",
       "      <td>09:50:22</td>\n",
       "      <td>0.0</td>\n",
       "      <td>480.0</td>\n",
       "      <td>0.0</td>\n",
       "      <td>0.0</td>\n",
       "      <td>0.0</td>\n",
       "    </tr>\n",
       "    <tr>\n",
       "      <th>7</th>\n",
       "      <td>1</td>\n",
       "      <td>8</td>\n",
       "      <td>TMF014</td>\n",
       "      <td>MAT</td>\n",
       "      <td>2024-07-01</td>\n",
       "      <td>09:50:23</td>\n",
       "      <td>0.0</td>\n",
       "      <td>480.0</td>\n",
       "      <td>0.0</td>\n",
       "      <td>0.0</td>\n",
       "      <td>0.0</td>\n",
       "    </tr>\n",
       "    <tr>\n",
       "      <th>8</th>\n",
       "      <td>1</td>\n",
       "      <td>9</td>\n",
       "      <td>TMF004</td>\n",
       "      <td>MAT</td>\n",
       "      <td>2024-07-01</td>\n",
       "      <td>09:50:24</td>\n",
       "      <td>0.0</td>\n",
       "      <td>480.0</td>\n",
       "      <td>0.0</td>\n",
       "      <td>0.0</td>\n",
       "      <td>0.0</td>\n",
       "    </tr>\n",
       "    <tr>\n",
       "      <th>9</th>\n",
       "      <td>2</td>\n",
       "      <td>10</td>\n",
       "      <td>TMF008</td>\n",
       "      <td>MAT</td>\n",
       "      <td>2024-07-01</td>\n",
       "      <td>08:55:15</td>\n",
       "      <td>0.0</td>\n",
       "      <td>480.0</td>\n",
       "      <td>0.0</td>\n",
       "      <td>0.0</td>\n",
       "      <td>0.0</td>\n",
       "    </tr>\n",
       "    <tr>\n",
       "      <th>10</th>\n",
       "      <td>2</td>\n",
       "      <td>11</td>\n",
       "      <td>TMF010</td>\n",
       "      <td>MAT</td>\n",
       "      <td>2024-07-01</td>\n",
       "      <td>08:55:16</td>\n",
       "      <td>0.0</td>\n",
       "      <td>480.0</td>\n",
       "      <td>0.0</td>\n",
       "      <td>0.0</td>\n",
       "      <td>0.0</td>\n",
       "    </tr>\n",
       "    <tr>\n",
       "      <th>11</th>\n",
       "      <td>2</td>\n",
       "      <td>12</td>\n",
       "      <td>TMF007</td>\n",
       "      <td>MAT</td>\n",
       "      <td>2024-07-01</td>\n",
       "      <td>08:55:17</td>\n",
       "      <td>0.0</td>\n",
       "      <td>480.0</td>\n",
       "      <td>0.0</td>\n",
       "      <td>0.0</td>\n",
       "      <td>0.0</td>\n",
       "    </tr>\n",
       "    <tr>\n",
       "      <th>12</th>\n",
       "      <td>2</td>\n",
       "      <td>13</td>\n",
       "      <td>TMF013</td>\n",
       "      <td>MAT</td>\n",
       "      <td>2024-07-01</td>\n",
       "      <td>08:55:18</td>\n",
       "      <td>0.0</td>\n",
       "      <td>480.0</td>\n",
       "      <td>0.0</td>\n",
       "      <td>0.0</td>\n",
       "      <td>0.0</td>\n",
       "    </tr>\n",
       "    <tr>\n",
       "      <th>13</th>\n",
       "      <td>2</td>\n",
       "      <td>14</td>\n",
       "      <td>TMF009</td>\n",
       "      <td>MAT</td>\n",
       "      <td>2024-07-01</td>\n",
       "      <td>08:55:19</td>\n",
       "      <td>0.0</td>\n",
       "      <td>480.0</td>\n",
       "      <td>0.0</td>\n",
       "      <td>0.0</td>\n",
       "      <td>0.0</td>\n",
       "    </tr>\n",
       "    <tr>\n",
       "      <th>14</th>\n",
       "      <td>1</td>\n",
       "      <td>1</td>\n",
       "      <td>TMF003</td>\n",
       "      <td>NOT</td>\n",
       "      <td>2024-07-01</td>\n",
       "      <td>07:58:16</td>\n",
       "      <td>0.0</td>\n",
       "      <td>480.0</td>\n",
       "      <td>0.0</td>\n",
       "      <td>0.0</td>\n",
       "      <td>0.0</td>\n",
       "    </tr>\n",
       "    <tr>\n",
       "      <th>15</th>\n",
       "      <td>1</td>\n",
       "      <td>2</td>\n",
       "      <td>TMF011</td>\n",
       "      <td>NOT</td>\n",
       "      <td>2024-07-01</td>\n",
       "      <td>07:58:17</td>\n",
       "      <td>0.0</td>\n",
       "      <td>480.0</td>\n",
       "      <td>0.0</td>\n",
       "      <td>0.0</td>\n",
       "      <td>0.0</td>\n",
       "    </tr>\n",
       "    <tr>\n",
       "      <th>16</th>\n",
       "      <td>1</td>\n",
       "      <td>3</td>\n",
       "      <td>TMF005</td>\n",
       "      <td>NOT</td>\n",
       "      <td>2024-07-01</td>\n",
       "      <td>07:58:18</td>\n",
       "      <td>0.0</td>\n",
       "      <td>480.0</td>\n",
       "      <td>0.0</td>\n",
       "      <td>0.0</td>\n",
       "      <td>0.0</td>\n",
       "    </tr>\n",
       "    <tr>\n",
       "      <th>17</th>\n",
       "      <td>1</td>\n",
       "      <td>4</td>\n",
       "      <td>TMF012</td>\n",
       "      <td>NOT</td>\n",
       "      <td>2024-07-01</td>\n",
       "      <td>07:58:19</td>\n",
       "      <td>0.0</td>\n",
       "      <td>480.0</td>\n",
       "      <td>0.0</td>\n",
       "      <td>0.0</td>\n",
       "      <td>0.0</td>\n",
       "    </tr>\n",
       "    <tr>\n",
       "      <th>18</th>\n",
       "      <td>1</td>\n",
       "      <td>5</td>\n",
       "      <td>TMF002</td>\n",
       "      <td>NOT</td>\n",
       "      <td>2024-07-01</td>\n",
       "      <td>07:58:20</td>\n",
       "      <td>0.0</td>\n",
       "      <td>480.0</td>\n",
       "      <td>0.0</td>\n",
       "      <td>0.0</td>\n",
       "      <td>0.0</td>\n",
       "    </tr>\n",
       "    <tr>\n",
       "      <th>19</th>\n",
       "      <td>1</td>\n",
       "      <td>6</td>\n",
       "      <td>TMF001</td>\n",
       "      <td>NOT</td>\n",
       "      <td>2024-07-01</td>\n",
       "      <td>07:58:21</td>\n",
       "      <td>0.0</td>\n",
       "      <td>0.0</td>\n",
       "      <td>0.0</td>\n",
       "      <td>0.0</td>\n",
       "      <td>NaN</td>\n",
       "    </tr>\n",
       "    <tr>\n",
       "      <th>20</th>\n",
       "      <td>1</td>\n",
       "      <td>7</td>\n",
       "      <td>TMF006</td>\n",
       "      <td>NOT</td>\n",
       "      <td>2024-07-01</td>\n",
       "      <td>07:58:22</td>\n",
       "      <td>0.0</td>\n",
       "      <td>480.0</td>\n",
       "      <td>0.0</td>\n",
       "      <td>0.0</td>\n",
       "      <td>0.0</td>\n",
       "    </tr>\n",
       "    <tr>\n",
       "      <th>21</th>\n",
       "      <td>1</td>\n",
       "      <td>8</td>\n",
       "      <td>TMF014</td>\n",
       "      <td>NOT</td>\n",
       "      <td>2024-07-01</td>\n",
       "      <td>07:58:23</td>\n",
       "      <td>0.0</td>\n",
       "      <td>480.0</td>\n",
       "      <td>0.0</td>\n",
       "      <td>0.0</td>\n",
       "      <td>0.0</td>\n",
       "    </tr>\n",
       "    <tr>\n",
       "      <th>22</th>\n",
       "      <td>1</td>\n",
       "      <td>9</td>\n",
       "      <td>TMF004</td>\n",
       "      <td>NOT</td>\n",
       "      <td>2024-07-01</td>\n",
       "      <td>07:58:24</td>\n",
       "      <td>0.0</td>\n",
       "      <td>0.0</td>\n",
       "      <td>0.0</td>\n",
       "      <td>0.0</td>\n",
       "      <td>NaN</td>\n",
       "    </tr>\n",
       "    <tr>\n",
       "      <th>23</th>\n",
       "      <td>2</td>\n",
       "      <td>10</td>\n",
       "      <td>TMF008</td>\n",
       "      <td>NOT</td>\n",
       "      <td>2024-07-01</td>\n",
       "      <td>07:59:15</td>\n",
       "      <td>0.0</td>\n",
       "      <td>480.0</td>\n",
       "      <td>0.0</td>\n",
       "      <td>0.0</td>\n",
       "      <td>0.0</td>\n",
       "    </tr>\n",
       "    <tr>\n",
       "      <th>24</th>\n",
       "      <td>2</td>\n",
       "      <td>11</td>\n",
       "      <td>TMF010</td>\n",
       "      <td>NOT</td>\n",
       "      <td>2024-07-01</td>\n",
       "      <td>07:59:16</td>\n",
       "      <td>0.0</td>\n",
       "      <td>480.0</td>\n",
       "      <td>0.0</td>\n",
       "      <td>0.0</td>\n",
       "      <td>0.0</td>\n",
       "    </tr>\n",
       "    <tr>\n",
       "      <th>25</th>\n",
       "      <td>2</td>\n",
       "      <td>12</td>\n",
       "      <td>TMF007</td>\n",
       "      <td>NOT</td>\n",
       "      <td>2024-07-01</td>\n",
       "      <td>07:59:17</td>\n",
       "      <td>0.0</td>\n",
       "      <td>480.0</td>\n",
       "      <td>0.0</td>\n",
       "      <td>0.0</td>\n",
       "      <td>0.0</td>\n",
       "    </tr>\n",
       "    <tr>\n",
       "      <th>26</th>\n",
       "      <td>2</td>\n",
       "      <td>13</td>\n",
       "      <td>TMF013</td>\n",
       "      <td>NOT</td>\n",
       "      <td>2024-07-01</td>\n",
       "      <td>07:59:18</td>\n",
       "      <td>0.0</td>\n",
       "      <td>480.0</td>\n",
       "      <td>0.0</td>\n",
       "      <td>0.0</td>\n",
       "      <td>0.0</td>\n",
       "    </tr>\n",
       "    <tr>\n",
       "      <th>27</th>\n",
       "      <td>2</td>\n",
       "      <td>14</td>\n",
       "      <td>TMF009</td>\n",
       "      <td>NOT</td>\n",
       "      <td>2024-07-01</td>\n",
       "      <td>07:59:19</td>\n",
       "      <td>0.0</td>\n",
       "      <td>480.0</td>\n",
       "      <td>0.0</td>\n",
       "      <td>0.0</td>\n",
       "      <td>0.0</td>\n",
       "    </tr>\n",
       "  </tbody>\n",
       "</table>\n",
       "</div>"
      ],
      "text/plain": [
       "   fabrica  linha maquina_id turno data_registro hora_registro  tempo  \\\n",
       "0        1      1     TMF003   MAT    2024-07-01      09:50:16    0.0   \n",
       "1        1      2     TMF011   MAT    2024-07-01      09:50:17    0.0   \n",
       "2        1      3     TMF005   MAT    2024-07-01      09:50:18    0.0   \n",
       "3        1      4     TMF012   MAT    2024-07-01      09:50:19    0.0   \n",
       "4        1      5     TMF002   MAT    2024-07-01      09:50:20    0.0   \n",
       "5        1      6     TMF001   MAT    2024-07-01      09:50:21    0.0   \n",
       "6        1      7     TMF006   MAT    2024-07-01      09:50:22    0.0   \n",
       "7        1      8     TMF014   MAT    2024-07-01      09:50:23    0.0   \n",
       "8        1      9     TMF004   MAT    2024-07-01      09:50:24    0.0   \n",
       "9        2     10     TMF008   MAT    2024-07-01      08:55:15    0.0   \n",
       "10       2     11     TMF010   MAT    2024-07-01      08:55:16    0.0   \n",
       "11       2     12     TMF007   MAT    2024-07-01      08:55:17    0.0   \n",
       "12       2     13     TMF013   MAT    2024-07-01      08:55:18    0.0   \n",
       "13       2     14     TMF009   MAT    2024-07-01      08:55:19    0.0   \n",
       "14       1      1     TMF003   NOT    2024-07-01      07:58:16    0.0   \n",
       "15       1      2     TMF011   NOT    2024-07-01      07:58:17    0.0   \n",
       "16       1      3     TMF005   NOT    2024-07-01      07:58:18    0.0   \n",
       "17       1      4     TMF012   NOT    2024-07-01      07:58:19    0.0   \n",
       "18       1      5     TMF002   NOT    2024-07-01      07:58:20    0.0   \n",
       "19       1      6     TMF001   NOT    2024-07-01      07:58:21    0.0   \n",
       "20       1      7     TMF006   NOT    2024-07-01      07:58:22    0.0   \n",
       "21       1      8     TMF014   NOT    2024-07-01      07:58:23    0.0   \n",
       "22       1      9     TMF004   NOT    2024-07-01      07:58:24    0.0   \n",
       "23       2     10     TMF008   NOT    2024-07-01      07:59:15    0.0   \n",
       "24       2     11     TMF010   NOT    2024-07-01      07:59:16    0.0   \n",
       "25       2     12     TMF007   NOT    2024-07-01      07:59:17    0.0   \n",
       "26       2     13     TMF013   NOT    2024-07-01      07:59:18    0.0   \n",
       "27       2     14     TMF009   NOT    2024-07-01      07:59:19    0.0   \n",
       "\n",
       "    tempo_esperado  desconto  afeta  reparo  \n",
       "0            480.0       0.0    0.0     0.0  \n",
       "1            480.0       0.0    0.0     0.0  \n",
       "2            480.0       0.0    0.0     0.0  \n",
       "3            480.0       0.0    0.0     0.0  \n",
       "4            480.0       0.0    0.0     0.0  \n",
       "5            480.0       0.0    0.0     0.0  \n",
       "6            480.0       0.0    0.0     0.0  \n",
       "7            480.0       0.0    0.0     0.0  \n",
       "8            480.0       0.0    0.0     0.0  \n",
       "9            480.0       0.0    0.0     0.0  \n",
       "10           480.0       0.0    0.0     0.0  \n",
       "11           480.0       0.0    0.0     0.0  \n",
       "12           480.0       0.0    0.0     0.0  \n",
       "13           480.0       0.0    0.0     0.0  \n",
       "14           480.0       0.0    0.0     0.0  \n",
       "15           480.0       0.0    0.0     0.0  \n",
       "16           480.0       0.0    0.0     0.0  \n",
       "17           480.0       0.0    0.0     0.0  \n",
       "18           480.0       0.0    0.0     0.0  \n",
       "19             0.0       0.0    0.0     NaN  \n",
       "20           480.0       0.0    0.0     0.0  \n",
       "21           480.0       0.0    0.0     0.0  \n",
       "22             0.0       0.0    0.0     NaN  \n",
       "23           480.0       0.0    0.0     0.0  \n",
       "24           480.0       0.0    0.0     0.0  \n",
       "25           480.0       0.0    0.0     0.0  \n",
       "26           480.0       0.0    0.0     0.0  \n",
       "27           480.0       0.0    0.0     0.0  "
      ]
     },
     "execution_count": 32,
     "metadata": {},
     "output_type": "execute_result"
    }
   ],
   "source": [
    "df_repair = data_analysis.get_repair_data()\n",
    "df_repair"
   ]
  },
  {
   "cell_type": "markdown",
   "metadata": {},
   "source": [
    "# Dataframes auxiliares para uso dos gráficos\n"
   ]
  },
  {
   "cell_type": "code",
   "execution_count": 33,
   "metadata": {},
   "outputs": [],
   "source": [
    "class DFIndicators:\n",
    "    def __init__(self, df_info_ihm: pd.DataFrame, df_prod: pd.DataFrame):\n",
    "        self.df_info_ihm = df_info_ihm\n",
    "        self.df_prod = df_prod\n",
    "        self.data_analysis = DataAnalysis(self.df_info_ihm, self.df_prod)\n",
    "        self.indicator_functions = {\n",
    "            IndicatorType.EFFICIENCY: self.data_analysis.get_eff_data,\n",
    "            IndicatorType.PERFORMANCE: self.data_analysis.get_perf_data,\n",
    "            IndicatorType.REPAIR: self.data_analysis.get_repair_data,\n",
    "        }\n",
    "        self.indicator_descontos = {\n",
    "            IndicatorType.EFFICIENCY: self.data_analysis.desc_eff,\n",
    "            IndicatorType.PERFORMANCE: self.data_analysis.desc_perf,\n",
    "            IndicatorType.REPAIR: self.data_analysis.desc_rep,\n",
    "        }\n",
    "        self.indicator_not_affect = {\n",
    "            IndicatorType.EFFICIENCY: self.data_analysis.not_eff,\n",
    "            IndicatorType.PERFORMANCE: self.data_analysis.not_perf,\n",
    "            IndicatorType.REPAIR: self.data_analysis.afeta_rep,\n",
    "        }\n",
    "\n",
    "    def __adjust_heatmap_data(\n",
    "        self, indicator: IndicatorType, turn: str = None, main: bool = False\n",
    "    ) -> pd.DataFrame:\n",
    "        \"\"\"\n",
    "        Adjusts the heatmap data based on the given indicator, turn, and main flag.\n",
    "\n",
    "        Parameters:\n",
    "            indicator (IndicatorType): The indicator type to adjust the data for.\n",
    "            turn (str, optional): The turn to filter the data for. Defaults to None.\n",
    "            main (bool, optional): Flag indicating whether the main grouping should be used. Defaults to False.\n",
    "\n",
    "        Returns:\n",
    "            pd.DataFrame: The adjusted dataframe with the heatmap data.\n",
    "        \"\"\"\n",
    "\n",
    "        # Dataframe com os dados do indicador\n",
    "        df = pd.DataFrame()\n",
    "\n",
    "        # Busca o dataframe de acordo com o indicador\n",
    "        df = self.indicator_functions[indicator]()\n",
    "\n",
    "        # Se for indicado um turno, filtra o dataframe\n",
    "        if turn:\n",
    "            df = df[df[\"turno\"] == turn]\n",
    "\n",
    "        # Colunas para agrupar o dataframe\n",
    "        group_cols = [\"data_registro\", \"turno\"] if main else [\"data_registro\", \"linha\"]\n",
    "\n",
    "        # Agrupa o dataframe e calcula a média\n",
    "        df = df.groupby(group_cols, observed=False)[indicator.value].mean().reset_index()\n",
    "\n",
    "        # ====================== Garantir Que Todas Datas Estejam Presentes ====================== #\n",
    "\n",
    "        # Obter a data do inicio e fim do mês atual\n",
    "        start_date = pd.to_datetime(\"today\").replace(day=1).date()\n",
    "        end_date = (pd.to_datetime(\"today\") + pd.offsets.MonthEnd(0)).date()\n",
    "\n",
    "        # Lista com todas as datas do mês atual\n",
    "        date_range = pd.date_range(start_date, end_date, freq=\"D\").date\n",
    "\n",
    "        # Encontra os valores únicos de turno ou linha e cria um novo index com todas as datas e turnos ou linhas\n",
    "        if main:\n",
    "            unique_turnos = df[\"turno\"].unique()\n",
    "            df.set_index([\"data_registro\", \"turno\"], inplace=True)\n",
    "            new_index = pd.MultiIndex.from_product(\n",
    "                [date_range, unique_turnos], names=[\"data_registro\", \"turno\"]\n",
    "            )\n",
    "        else:\n",
    "            unique_lines = df[\"linha\"].unique()\n",
    "            df.set_index([\"data_registro\", \"linha\"], inplace=True)\n",
    "            new_index = pd.MultiIndex.from_product(\n",
    "                [date_range, unique_lines], names=[\"data_registro\", \"linha\"]\n",
    "            )\n",
    "\n",
    "        # Reindexa o dataframe\n",
    "        df = df.reindex(new_index).reset_index()\n",
    "\n",
    "        # ================================== Pivotar O Dataframe ================================= #\n",
    "\n",
    "        # Pivotar o dataframe\n",
    "        if main:\n",
    "            df = df.pivot(index=\"turno\", columns=\"data_registro\", values=indicator.value)\n",
    "            df = df.reindex([\"NOT\", \"MAT\", \"VES\"])\n",
    "        else:\n",
    "            df = df.pivot(index=\"linha\", columns=\"data_registro\", values=indicator.value)\n",
    "\n",
    "        return df\n",
    "\n",
    "    def get_heatmap_data(self, indicator: IndicatorType) -> tuple:\n",
    "        \"\"\"\n",
    "        Retrieves heatmap data for the given indicator.\n",
    "\n",
    "        Args:\n",
    "            indicator (IndicatorType): The indicator type to retrieve data for.\n",
    "\n",
    "        Returns:\n",
    "            tuple: A tuple containing the heatmap data for different shifts:\n",
    "                - noturno: Heatmap data for the night shift.\n",
    "                - matutino: Heatmap data for the morning shift.\n",
    "                - vespertino: Heatmap data for the afternoon shift.\n",
    "                - main: Heatmap data for the main shift.\n",
    "        \"\"\"\n",
    "\n",
    "        noturno = self.__adjust_heatmap_data(indicator, \"NOT\")\n",
    "        matutino = self.__adjust_heatmap_data(indicator, \"MAT\")\n",
    "        vespertino = self.__adjust_heatmap_data(indicator, \"VES\")\n",
    "        main = self.__adjust_heatmap_data(indicator, main=True)\n",
    "\n",
    "        return noturno, matutino, vespertino, main\n",
    "\n",
    "    @staticmethod\n",
    "    def __annotations_list(df: pd.DataFrame) -> list:\n",
    "        \"\"\"\n",
    "        Cria uma lista de anotações para o heatmap.\n",
    "\n",
    "        Args:\n",
    "            df (pd.DataFrame): O dataframe com os dados do heatmap.\n",
    "\n",
    "        Returns:\n",
    "            list: Uma lista de anotações para o heatmap.\n",
    "        \"\"\"\n",
    "\n",
    "        # Inicializa a lista de anotações\n",
    "        annotations = []\n",
    "\n",
    "        # Define a coluna para dia apenas\n",
    "        df.columns = pd.to_datetime(df.columns).day\n",
    "\n",
    "        # Loop sobre as linhas do dataframe\n",
    "        for (i, j), value in np.ndenumerate(df.values):\n",
    "            # Se o valor for diferente de NaN\n",
    "            if not np.isnan(value):\n",
    "                # Adiciona a anotação\n",
    "                annotations.append(\n",
    "                    {\n",
    "                        \"x\": df.columns[j],\n",
    "                        \"y\": df.index[i],\n",
    "                        \"text\": f\"{value:.1%}\",\n",
    "                        \"xref\": \"x\",\n",
    "                        \"yref\": \"y\",\n",
    "                        \"showarrow\": False,\n",
    "                        \"font\": {\"size\": 10, \"color\": \"white\"},\n",
    "                    }\n",
    "                )\n",
    "\n",
    "        return annotations\n",
    "\n",
    "    def get_annotations(self, indicator: IndicatorType) -> tuple:\n",
    "        \"\"\"\n",
    "        Retrieves annotations for the heatmap data.\n",
    "\n",
    "        Args:\n",
    "            indicator (IndicatorType): The indicator type to retrieve annotations for.\n",
    "\n",
    "        Returns:\n",
    "            tuple: A tuple containing the annotations for different shifts:\n",
    "                - noturno: Annotations for the night shift.\n",
    "                - matutino: Annotations for the morning shift.\n",
    "                - vespertino: Annotations for the afternoon shift.\n",
    "                - main: Annotations for the main shift.\n",
    "        \"\"\"\n",
    "\n",
    "        noturno, matutino, vespertino, main = self.get_heatmap_data(indicator)\n",
    "\n",
    "        noturno_annotations = self.__annotations_list(noturno)\n",
    "        matutino_annotations = self.__annotations_list(matutino)\n",
    "        vespertino_annotations = self.__annotations_list(vespertino)\n",
    "        main_annotations = self.__annotations_list(main)\n",
    "\n",
    "        return noturno_annotations, matutino_annotations, vespertino_annotations, main_annotations\n",
    "\n",
    "    def adjust_df_for_bar_lost(\n",
    "        self,\n",
    "        df: pd.DataFrame,\n",
    "        indicator: IndicatorType,\n",
    "        turn: str = \"TOT\",\n",
    "        working_minutes: pd.DataFrame = None,\n",
    "    ) -> pd.DataFrame:\n",
    "\n",
    "        # Cria dataframe com os tempos\n",
    "        df = self.data_analysis.get_discount(\n",
    "            df, self.indicator_descontos[indicator], self.indicator_not_affect[indicator], indicator\n",
    "        )\n",
    "\n",
    "        # Une com working_minutes\n",
    "        if working_minutes is not None:\n",
    "            df = pd.concat([df, working_minutes], ignore_index=True, sort=False)\n",
    "\n",
    "        # Filtra por turno\n",
    "        df = df[df[\"turno\"] == turn] if turn != \"TOT\" else df\n",
    "\n",
    "        # Lidando com paradas de  5 minutos ou menos\n",
    "        mask = (df[\"motivo\"].isnull()) & (df[\"tempo\"] <= 5)\n",
    "        columns_to_fill = [\"motivo\", \"problema\", \"causa\"]\n",
    "        fill_value = \"Parada de 5 minutos ou menos\"\n",
    "\n",
    "        for column in columns_to_fill:\n",
    "            df.loc[mask, column] = fill_value\n",
    "\n",
    "        # Lidando com motivo nulo\n",
    "        mask = mask = df[\"motivo\"].isnull()\n",
    "        columns_to_fill = [\"motivo\", \"problema\", \"causa\"]\n",
    "        fill_value = \"Não apontado\"\n",
    "\n",
    "        for column in columns_to_fill:\n",
    "            df.loc[mask, column] = fill_value\n",
    "\n",
    "        return df\n",
    "\n",
    "\n",
    "indicators_class = DFIndicators(df_maq_stopped.copy(), df_info_production_cleaned.copy())"
   ]
  },
  {
   "cell_type": "code",
   "execution_count": 34,
   "metadata": {},
   "outputs": [
    {
     "data": {
      "text/html": [
       "<div>\n",
       "<style scoped>\n",
       "    .dataframe tbody tr th:only-of-type {\n",
       "        vertical-align: middle;\n",
       "    }\n",
       "\n",
       "    .dataframe tbody tr th {\n",
       "        vertical-align: top;\n",
       "    }\n",
       "\n",
       "    .dataframe thead th {\n",
       "        text-align: right;\n",
       "    }\n",
       "</style>\n",
       "<table border=\"1\" class=\"dataframe\">\n",
       "  <thead>\n",
       "    <tr style=\"text-align: right;\">\n",
       "      <th>data_registro</th>\n",
       "    </tr>\n",
       "    <tr>\n",
       "      <th>linha</th>\n",
       "    </tr>\n",
       "  </thead>\n",
       "  <tbody>\n",
       "  </tbody>\n",
       "</table>\n",
       "</div>"
      ],
      "text/plain": [
       "Empty DataFrame\n",
       "Columns: []\n",
       "Index: []"
      ]
     },
     "execution_count": 34,
     "metadata": {},
     "output_type": "execute_result"
    }
   ],
   "source": [
    "heat_noturno, heat_matutino, heat_vespertino, heat_main = indicators_class.get_heatmap_data(\n",
    "    IndicatorType.PERFORMANCE\n",
    ")\n",
    "heat_noturno\n",
    "heat_matutino\n",
    "heat_vespertino"
   ]
  },
  {
   "cell_type": "code",
   "execution_count": 35,
   "metadata": {},
   "outputs": [
    {
     "data": {
      "text/html": [
       "<div>\n",
       "<style scoped>\n",
       "    .dataframe tbody tr th:only-of-type {\n",
       "        vertical-align: middle;\n",
       "    }\n",
       "\n",
       "    .dataframe tbody tr th {\n",
       "        vertical-align: top;\n",
       "    }\n",
       "\n",
       "    .dataframe thead th {\n",
       "        text-align: right;\n",
       "    }\n",
       "</style>\n",
       "<table border=\"1\" class=\"dataframe\">\n",
       "  <thead>\n",
       "    <tr style=\"text-align: right;\">\n",
       "      <th>data_registro</th>\n",
       "      <th>2024-07-01</th>\n",
       "      <th>2024-07-02</th>\n",
       "      <th>2024-07-03</th>\n",
       "      <th>2024-07-04</th>\n",
       "      <th>2024-07-05</th>\n",
       "      <th>2024-07-06</th>\n",
       "      <th>2024-07-07</th>\n",
       "      <th>2024-07-08</th>\n",
       "      <th>2024-07-09</th>\n",
       "      <th>2024-07-10</th>\n",
       "      <th>...</th>\n",
       "      <th>2024-07-22</th>\n",
       "      <th>2024-07-23</th>\n",
       "      <th>2024-07-24</th>\n",
       "      <th>2024-07-25</th>\n",
       "      <th>2024-07-26</th>\n",
       "      <th>2024-07-27</th>\n",
       "      <th>2024-07-28</th>\n",
       "      <th>2024-07-29</th>\n",
       "      <th>2024-07-30</th>\n",
       "      <th>2024-07-31</th>\n",
       "    </tr>\n",
       "    <tr>\n",
       "      <th>turno</th>\n",
       "      <th></th>\n",
       "      <th></th>\n",
       "      <th></th>\n",
       "      <th></th>\n",
       "      <th></th>\n",
       "      <th></th>\n",
       "      <th></th>\n",
       "      <th></th>\n",
       "      <th></th>\n",
       "      <th></th>\n",
       "      <th></th>\n",
       "      <th></th>\n",
       "      <th></th>\n",
       "      <th></th>\n",
       "      <th></th>\n",
       "      <th></th>\n",
       "      <th></th>\n",
       "      <th></th>\n",
       "      <th></th>\n",
       "      <th></th>\n",
       "      <th></th>\n",
       "    </tr>\n",
       "  </thead>\n",
       "  <tbody>\n",
       "    <tr>\n",
       "      <th>NOT</th>\n",
       "      <td>0.666667</td>\n",
       "      <td>NaN</td>\n",
       "      <td>NaN</td>\n",
       "      <td>NaN</td>\n",
       "      <td>NaN</td>\n",
       "      <td>NaN</td>\n",
       "      <td>NaN</td>\n",
       "      <td>NaN</td>\n",
       "      <td>NaN</td>\n",
       "      <td>NaN</td>\n",
       "      <td>...</td>\n",
       "      <td>NaN</td>\n",
       "      <td>NaN</td>\n",
       "      <td>NaN</td>\n",
       "      <td>NaN</td>\n",
       "      <td>NaN</td>\n",
       "      <td>NaN</td>\n",
       "      <td>NaN</td>\n",
       "      <td>NaN</td>\n",
       "      <td>NaN</td>\n",
       "      <td>NaN</td>\n",
       "    </tr>\n",
       "    <tr>\n",
       "      <th>MAT</th>\n",
       "      <td>1.000000</td>\n",
       "      <td>NaN</td>\n",
       "      <td>NaN</td>\n",
       "      <td>NaN</td>\n",
       "      <td>NaN</td>\n",
       "      <td>NaN</td>\n",
       "      <td>NaN</td>\n",
       "      <td>NaN</td>\n",
       "      <td>NaN</td>\n",
       "      <td>NaN</td>\n",
       "      <td>...</td>\n",
       "      <td>NaN</td>\n",
       "      <td>NaN</td>\n",
       "      <td>NaN</td>\n",
       "      <td>NaN</td>\n",
       "      <td>NaN</td>\n",
       "      <td>NaN</td>\n",
       "      <td>NaN</td>\n",
       "      <td>NaN</td>\n",
       "      <td>NaN</td>\n",
       "      <td>NaN</td>\n",
       "    </tr>\n",
       "    <tr>\n",
       "      <th>VES</th>\n",
       "      <td>NaN</td>\n",
       "      <td>NaN</td>\n",
       "      <td>NaN</td>\n",
       "      <td>NaN</td>\n",
       "      <td>NaN</td>\n",
       "      <td>NaN</td>\n",
       "      <td>NaN</td>\n",
       "      <td>NaN</td>\n",
       "      <td>NaN</td>\n",
       "      <td>NaN</td>\n",
       "      <td>...</td>\n",
       "      <td>NaN</td>\n",
       "      <td>NaN</td>\n",
       "      <td>NaN</td>\n",
       "      <td>NaN</td>\n",
       "      <td>NaN</td>\n",
       "      <td>NaN</td>\n",
       "      <td>NaN</td>\n",
       "      <td>NaN</td>\n",
       "      <td>NaN</td>\n",
       "      <td>NaN</td>\n",
       "    </tr>\n",
       "  </tbody>\n",
       "</table>\n",
       "<p>3 rows × 31 columns</p>\n",
       "</div>"
      ],
      "text/plain": [
       "data_registro  2024-07-01  2024-07-02  2024-07-03  2024-07-04  2024-07-05  \\\n",
       "turno                                                                       \n",
       "NOT              0.666667         NaN         NaN         NaN         NaN   \n",
       "MAT              1.000000         NaN         NaN         NaN         NaN   \n",
       "VES                   NaN         NaN         NaN         NaN         NaN   \n",
       "\n",
       "data_registro  2024-07-06  2024-07-07  2024-07-08  2024-07-09  2024-07-10  \\\n",
       "turno                                                                       \n",
       "NOT                   NaN         NaN         NaN         NaN         NaN   \n",
       "MAT                   NaN         NaN         NaN         NaN         NaN   \n",
       "VES                   NaN         NaN         NaN         NaN         NaN   \n",
       "\n",
       "data_registro  ...  2024-07-22  2024-07-23  2024-07-24  2024-07-25  \\\n",
       "turno          ...                                                   \n",
       "NOT            ...         NaN         NaN         NaN         NaN   \n",
       "MAT            ...         NaN         NaN         NaN         NaN   \n",
       "VES            ...         NaN         NaN         NaN         NaN   \n",
       "\n",
       "data_registro  2024-07-26  2024-07-27  2024-07-28  2024-07-29  2024-07-30  \\\n",
       "turno                                                                       \n",
       "NOT                   NaN         NaN         NaN         NaN         NaN   \n",
       "MAT                   NaN         NaN         NaN         NaN         NaN   \n",
       "VES                   NaN         NaN         NaN         NaN         NaN   \n",
       "\n",
       "data_registro  2024-07-31  \n",
       "turno                      \n",
       "NOT                   NaN  \n",
       "MAT                   NaN  \n",
       "VES                   NaN  \n",
       "\n",
       "[3 rows x 31 columns]"
      ]
     },
     "execution_count": 35,
     "metadata": {},
     "output_type": "execute_result"
    }
   ],
   "source": [
    "heat_main"
   ]
  },
  {
   "cell_type": "code",
   "execution_count": 36,
   "metadata": {},
   "outputs": [
    {
     "data": {
      "text/plain": [
       "[{'x': 1,\n",
       "  'y': 1,\n",
       "  'text': '100.0%',\n",
       "  'xref': 'x',\n",
       "  'yref': 'y',\n",
       "  'showarrow': False,\n",
       "  'font': {'size': 10, 'color': 'white'}},\n",
       " {'x': 1,\n",
       "  'y': 2,\n",
       "  'text': '100.0%',\n",
       "  'xref': 'x',\n",
       "  'yref': 'y',\n",
       "  'showarrow': False,\n",
       "  'font': {'size': 10, 'color': 'white'}},\n",
       " {'x': 1,\n",
       "  'y': 3,\n",
       "  'text': '0.0%',\n",
       "  'xref': 'x',\n",
       "  'yref': 'y',\n",
       "  'showarrow': False,\n",
       "  'font': {'size': 10, 'color': 'white'}},\n",
       " {'x': 1,\n",
       "  'y': 4,\n",
       "  'text': '100.0%',\n",
       "  'xref': 'x',\n",
       "  'yref': 'y',\n",
       "  'showarrow': False,\n",
       "  'font': {'size': 10, 'color': 'white'}},\n",
       " {'x': 1,\n",
       "  'y': 5,\n",
       "  'text': '0.0%',\n",
       "  'xref': 'x',\n",
       "  'yref': 'y',\n",
       "  'showarrow': False,\n",
       "  'font': {'size': 10, 'color': 'white'}},\n",
       " {'x': 1,\n",
       "  'y': 7,\n",
       "  'text': '0.0%',\n",
       "  'xref': 'x',\n",
       "  'yref': 'y',\n",
       "  'showarrow': False,\n",
       "  'font': {'size': 10, 'color': 'white'}},\n",
       " {'x': 1,\n",
       "  'y': 8,\n",
       "  'text': '0.0%',\n",
       "  'xref': 'x',\n",
       "  'yref': 'y',\n",
       "  'showarrow': False,\n",
       "  'font': {'size': 10, 'color': 'white'}},\n",
       " {'x': 1,\n",
       "  'y': 10,\n",
       "  'text': '100.0%',\n",
       "  'xref': 'x',\n",
       "  'yref': 'y',\n",
       "  'showarrow': False,\n",
       "  'font': {'size': 10, 'color': 'white'}},\n",
       " {'x': 1,\n",
       "  'y': 11,\n",
       "  'text': '100.0%',\n",
       "  'xref': 'x',\n",
       "  'yref': 'y',\n",
       "  'showarrow': False,\n",
       "  'font': {'size': 10, 'color': 'white'}},\n",
       " {'x': 1,\n",
       "  'y': 12,\n",
       "  'text': '100.0%',\n",
       "  'xref': 'x',\n",
       "  'yref': 'y',\n",
       "  'showarrow': False,\n",
       "  'font': {'size': 10, 'color': 'white'}},\n",
       " {'x': 1,\n",
       "  'y': 13,\n",
       "  'text': '100.0%',\n",
       "  'xref': 'x',\n",
       "  'yref': 'y',\n",
       "  'showarrow': False,\n",
       "  'font': {'size': 10, 'color': 'white'}},\n",
       " {'x': 1,\n",
       "  'y': 14,\n",
       "  'text': '100.0%',\n",
       "  'xref': 'x',\n",
       "  'yref': 'y',\n",
       "  'showarrow': False,\n",
       "  'font': {'size': 10, 'color': 'white'}}]"
      ]
     },
     "execution_count": 36,
     "metadata": {},
     "output_type": "execute_result"
    }
   ],
   "source": [
    "annotations_noturno, annotations_matutino, annotations_vespertino, _ = (\n",
    "    indicators_class.get_annotations(IndicatorType.PERFORMANCE)\n",
    ")\n",
    "annotations_noturno"
   ]
  },
  {
   "cell_type": "markdown",
   "metadata": {},
   "source": [
    "# Gráficos\n"
   ]
  },
  {
   "cell_type": "markdown",
   "metadata": {},
   "source": [
    "## Gauge\n"
   ]
  },
  {
   "cell_type": "code",
   "execution_count": 37,
   "metadata": {},
   "outputs": [],
   "source": [
    "class Gauge:\n",
    "\n",
    "    def __init__(self):\n",
    "        self.danger = BSColorsEnum.DANGER_COLOR.value\n",
    "        self.success = BSColorsEnum.SUCCESS_COLOR.value\n",
    "\n",
    "    def create_gauge(\n",
    "        self,\n",
    "        df: pd.DataFrame,\n",
    "        indicator: IndicatorType,\n",
    "        meta: int,\n",
    "        template: str = None,\n",
    "        this_month: bool = True,\n",
    "    ):\n",
    "\n",
    "        month = \"Mês Atual\" if this_month else \"Mês Anterior\"\n",
    "\n",
    "        # Calcula a porcentagem de acordo com o indicador\n",
    "        percentage = df[indicator.value].mean() if this_month else df[indicator.value].iloc[-1]\n",
    "        percentage = percentage if percentage is not None else 0\n",
    "\n",
    "        # Arredonda o valor da porcentagem\n",
    "        percentage = round(percentage, 2)\n",
    "\n",
    "        # Define a cor de acordo com a porcentagem\n",
    "        color = self.danger if percentage > (meta / 100) else self.success\n",
    "\n",
    "        if indicator == IndicatorType.EFFICIENCY:\n",
    "            color = self.success if percentage >= (meta / 100) else self.danger\n",
    "\n",
    "        # Definis a escala\n",
    "        axis_range = [0, 100] if indicator == IndicatorType.EFFICIENCY else [40, 0]\n",
    "\n",
    "        # Criar o gráfico\n",
    "        figure = go.Figure(\n",
    "            go.Indicator(\n",
    "                mode=\"gauge+number\",\n",
    "                value=percentage * 100,\n",
    "                number={\"suffix\": \"%\"},\n",
    "                domain={\"x\": [0, 1], \"y\": [0, 1]},\n",
    "                title={\"text\": f\"{month}\", \"font\": {\"size\": 14}},\n",
    "                gauge={\n",
    "                    \"axis\": {\n",
    "                        \"range\": axis_range,\n",
    "                        \"tickfont\": {\"size\": 8},\n",
    "                    },\n",
    "                    \"bar\": {\"color\": color},\n",
    "                    \"steps\": [\n",
    "                        {\"range\": [0, 100], \"color\": \"lightgray\"},\n",
    "                    ],\n",
    "                    \"threshold\": {\n",
    "                        \"line\": {\"color\": \"black\", \"width\": 2},\n",
    "                        \"thickness\": 0.75,\n",
    "                        \"value\": meta,\n",
    "                    },\n",
    "                },\n",
    "            )\n",
    "        )\n",
    "\n",
    "        figure.update_layout(\n",
    "            autosize=True,\n",
    "            margin=dict(t=30, b=30, l=30, r=30),\n",
    "            plot_bgcolor=\"white\",\n",
    "            height=250,\n",
    "            font=dict({\"family\": \"Inter\"}),\n",
    "        )\n",
    "\n",
    "        return figure\n",
    "\n",
    "\n",
    "gauge = Gauge()"
   ]
  },
  {
   "cell_type": "code",
   "execution_count": 38,
   "metadata": {},
   "outputs": [
    {
     "data": {
      "application/vnd.plotly.v1+json": {
       "config": {
        "plotlyServerURL": "https://plot.ly"
       },
       "data": [
        {
         "domain": {
          "x": [
           0,
           1
          ],
          "y": [
           0,
           1
          ]
         },
         "gauge": {
          "axis": {
           "range": [
            0,
            100
           ],
           "tickfont": {
            "size": 8
           }
          },
          "bar": {
           "color": "#dc3545"
          },
          "steps": [
           {
            "color": "lightgray",
            "range": [
             0,
             100
            ]
           }
          ],
          "threshold": {
           "line": {
            "color": "black",
            "width": 2
           },
           "thickness": 0.75,
           "value": 85
          }
         },
         "mode": "gauge+number",
         "number": {
          "suffix": "%"
         },
         "title": {
          "font": {
           "size": 14
          },
          "text": "Mês Atual"
         },
         "type": "indicator",
         "value": 0
        }
       ],
       "layout": {
        "autosize": true,
        "font": {
         "family": "Inter"
        },
        "height": 250,
        "margin": {
         "b": 30,
         "l": 30,
         "r": 30,
         "t": 30
        },
        "plot_bgcolor": "white",
        "template": {
         "data": {
          "bar": [
           {
            "error_x": {
             "color": "#2a3f5f"
            },
            "error_y": {
             "color": "#2a3f5f"
            },
            "marker": {
             "line": {
              "color": "#E5ECF6",
              "width": 0.5
             },
             "pattern": {
              "fillmode": "overlay",
              "size": 10,
              "solidity": 0.2
             }
            },
            "type": "bar"
           }
          ],
          "barpolar": [
           {
            "marker": {
             "line": {
              "color": "#E5ECF6",
              "width": 0.5
             },
             "pattern": {
              "fillmode": "overlay",
              "size": 10,
              "solidity": 0.2
             }
            },
            "type": "barpolar"
           }
          ],
          "carpet": [
           {
            "aaxis": {
             "endlinecolor": "#2a3f5f",
             "gridcolor": "white",
             "linecolor": "white",
             "minorgridcolor": "white",
             "startlinecolor": "#2a3f5f"
            },
            "baxis": {
             "endlinecolor": "#2a3f5f",
             "gridcolor": "white",
             "linecolor": "white",
             "minorgridcolor": "white",
             "startlinecolor": "#2a3f5f"
            },
            "type": "carpet"
           }
          ],
          "choropleth": [
           {
            "colorbar": {
             "outlinewidth": 0,
             "ticks": ""
            },
            "type": "choropleth"
           }
          ],
          "contour": [
           {
            "colorbar": {
             "outlinewidth": 0,
             "ticks": ""
            },
            "colorscale": [
             [
              0,
              "#0d0887"
             ],
             [
              0.1111111111111111,
              "#46039f"
             ],
             [
              0.2222222222222222,
              "#7201a8"
             ],
             [
              0.3333333333333333,
              "#9c179e"
             ],
             [
              0.4444444444444444,
              "#bd3786"
             ],
             [
              0.5555555555555556,
              "#d8576b"
             ],
             [
              0.6666666666666666,
              "#ed7953"
             ],
             [
              0.7777777777777778,
              "#fb9f3a"
             ],
             [
              0.8888888888888888,
              "#fdca26"
             ],
             [
              1,
              "#f0f921"
             ]
            ],
            "type": "contour"
           }
          ],
          "contourcarpet": [
           {
            "colorbar": {
             "outlinewidth": 0,
             "ticks": ""
            },
            "type": "contourcarpet"
           }
          ],
          "heatmap": [
           {
            "colorbar": {
             "outlinewidth": 0,
             "ticks": ""
            },
            "colorscale": [
             [
              0,
              "#0d0887"
             ],
             [
              0.1111111111111111,
              "#46039f"
             ],
             [
              0.2222222222222222,
              "#7201a8"
             ],
             [
              0.3333333333333333,
              "#9c179e"
             ],
             [
              0.4444444444444444,
              "#bd3786"
             ],
             [
              0.5555555555555556,
              "#d8576b"
             ],
             [
              0.6666666666666666,
              "#ed7953"
             ],
             [
              0.7777777777777778,
              "#fb9f3a"
             ],
             [
              0.8888888888888888,
              "#fdca26"
             ],
             [
              1,
              "#f0f921"
             ]
            ],
            "type": "heatmap"
           }
          ],
          "heatmapgl": [
           {
            "colorbar": {
             "outlinewidth": 0,
             "ticks": ""
            },
            "colorscale": [
             [
              0,
              "#0d0887"
             ],
             [
              0.1111111111111111,
              "#46039f"
             ],
             [
              0.2222222222222222,
              "#7201a8"
             ],
             [
              0.3333333333333333,
              "#9c179e"
             ],
             [
              0.4444444444444444,
              "#bd3786"
             ],
             [
              0.5555555555555556,
              "#d8576b"
             ],
             [
              0.6666666666666666,
              "#ed7953"
             ],
             [
              0.7777777777777778,
              "#fb9f3a"
             ],
             [
              0.8888888888888888,
              "#fdca26"
             ],
             [
              1,
              "#f0f921"
             ]
            ],
            "type": "heatmapgl"
           }
          ],
          "histogram": [
           {
            "marker": {
             "pattern": {
              "fillmode": "overlay",
              "size": 10,
              "solidity": 0.2
             }
            },
            "type": "histogram"
           }
          ],
          "histogram2d": [
           {
            "colorbar": {
             "outlinewidth": 0,
             "ticks": ""
            },
            "colorscale": [
             [
              0,
              "#0d0887"
             ],
             [
              0.1111111111111111,
              "#46039f"
             ],
             [
              0.2222222222222222,
              "#7201a8"
             ],
             [
              0.3333333333333333,
              "#9c179e"
             ],
             [
              0.4444444444444444,
              "#bd3786"
             ],
             [
              0.5555555555555556,
              "#d8576b"
             ],
             [
              0.6666666666666666,
              "#ed7953"
             ],
             [
              0.7777777777777778,
              "#fb9f3a"
             ],
             [
              0.8888888888888888,
              "#fdca26"
             ],
             [
              1,
              "#f0f921"
             ]
            ],
            "type": "histogram2d"
           }
          ],
          "histogram2dcontour": [
           {
            "colorbar": {
             "outlinewidth": 0,
             "ticks": ""
            },
            "colorscale": [
             [
              0,
              "#0d0887"
             ],
             [
              0.1111111111111111,
              "#46039f"
             ],
             [
              0.2222222222222222,
              "#7201a8"
             ],
             [
              0.3333333333333333,
              "#9c179e"
             ],
             [
              0.4444444444444444,
              "#bd3786"
             ],
             [
              0.5555555555555556,
              "#d8576b"
             ],
             [
              0.6666666666666666,
              "#ed7953"
             ],
             [
              0.7777777777777778,
              "#fb9f3a"
             ],
             [
              0.8888888888888888,
              "#fdca26"
             ],
             [
              1,
              "#f0f921"
             ]
            ],
            "type": "histogram2dcontour"
           }
          ],
          "mesh3d": [
           {
            "colorbar": {
             "outlinewidth": 0,
             "ticks": ""
            },
            "type": "mesh3d"
           }
          ],
          "parcoords": [
           {
            "line": {
             "colorbar": {
              "outlinewidth": 0,
              "ticks": ""
             }
            },
            "type": "parcoords"
           }
          ],
          "pie": [
           {
            "automargin": true,
            "type": "pie"
           }
          ],
          "scatter": [
           {
            "fillpattern": {
             "fillmode": "overlay",
             "size": 10,
             "solidity": 0.2
            },
            "type": "scatter"
           }
          ],
          "scatter3d": [
           {
            "line": {
             "colorbar": {
              "outlinewidth": 0,
              "ticks": ""
             }
            },
            "marker": {
             "colorbar": {
              "outlinewidth": 0,
              "ticks": ""
             }
            },
            "type": "scatter3d"
           }
          ],
          "scattercarpet": [
           {
            "marker": {
             "colorbar": {
              "outlinewidth": 0,
              "ticks": ""
             }
            },
            "type": "scattercarpet"
           }
          ],
          "scattergeo": [
           {
            "marker": {
             "colorbar": {
              "outlinewidth": 0,
              "ticks": ""
             }
            },
            "type": "scattergeo"
           }
          ],
          "scattergl": [
           {
            "marker": {
             "colorbar": {
              "outlinewidth": 0,
              "ticks": ""
             }
            },
            "type": "scattergl"
           }
          ],
          "scattermapbox": [
           {
            "marker": {
             "colorbar": {
              "outlinewidth": 0,
              "ticks": ""
             }
            },
            "type": "scattermapbox"
           }
          ],
          "scatterpolar": [
           {
            "marker": {
             "colorbar": {
              "outlinewidth": 0,
              "ticks": ""
             }
            },
            "type": "scatterpolar"
           }
          ],
          "scatterpolargl": [
           {
            "marker": {
             "colorbar": {
              "outlinewidth": 0,
              "ticks": ""
             }
            },
            "type": "scatterpolargl"
           }
          ],
          "scatterternary": [
           {
            "marker": {
             "colorbar": {
              "outlinewidth": 0,
              "ticks": ""
             }
            },
            "type": "scatterternary"
           }
          ],
          "surface": [
           {
            "colorbar": {
             "outlinewidth": 0,
             "ticks": ""
            },
            "colorscale": [
             [
              0,
              "#0d0887"
             ],
             [
              0.1111111111111111,
              "#46039f"
             ],
             [
              0.2222222222222222,
              "#7201a8"
             ],
             [
              0.3333333333333333,
              "#9c179e"
             ],
             [
              0.4444444444444444,
              "#bd3786"
             ],
             [
              0.5555555555555556,
              "#d8576b"
             ],
             [
              0.6666666666666666,
              "#ed7953"
             ],
             [
              0.7777777777777778,
              "#fb9f3a"
             ],
             [
              0.8888888888888888,
              "#fdca26"
             ],
             [
              1,
              "#f0f921"
             ]
            ],
            "type": "surface"
           }
          ],
          "table": [
           {
            "cells": {
             "fill": {
              "color": "#EBF0F8"
             },
             "line": {
              "color": "white"
             }
            },
            "header": {
             "fill": {
              "color": "#C8D4E3"
             },
             "line": {
              "color": "white"
             }
            },
            "type": "table"
           }
          ]
         },
         "layout": {
          "annotationdefaults": {
           "arrowcolor": "#2a3f5f",
           "arrowhead": 0,
           "arrowwidth": 1
          },
          "autotypenumbers": "strict",
          "coloraxis": {
           "colorbar": {
            "outlinewidth": 0,
            "ticks": ""
           }
          },
          "colorscale": {
           "diverging": [
            [
             0,
             "#8e0152"
            ],
            [
             0.1,
             "#c51b7d"
            ],
            [
             0.2,
             "#de77ae"
            ],
            [
             0.3,
             "#f1b6da"
            ],
            [
             0.4,
             "#fde0ef"
            ],
            [
             0.5,
             "#f7f7f7"
            ],
            [
             0.6,
             "#e6f5d0"
            ],
            [
             0.7,
             "#b8e186"
            ],
            [
             0.8,
             "#7fbc41"
            ],
            [
             0.9,
             "#4d9221"
            ],
            [
             1,
             "#276419"
            ]
           ],
           "sequential": [
            [
             0,
             "#0d0887"
            ],
            [
             0.1111111111111111,
             "#46039f"
            ],
            [
             0.2222222222222222,
             "#7201a8"
            ],
            [
             0.3333333333333333,
             "#9c179e"
            ],
            [
             0.4444444444444444,
             "#bd3786"
            ],
            [
             0.5555555555555556,
             "#d8576b"
            ],
            [
             0.6666666666666666,
             "#ed7953"
            ],
            [
             0.7777777777777778,
             "#fb9f3a"
            ],
            [
             0.8888888888888888,
             "#fdca26"
            ],
            [
             1,
             "#f0f921"
            ]
           ],
           "sequentialminus": [
            [
             0,
             "#0d0887"
            ],
            [
             0.1111111111111111,
             "#46039f"
            ],
            [
             0.2222222222222222,
             "#7201a8"
            ],
            [
             0.3333333333333333,
             "#9c179e"
            ],
            [
             0.4444444444444444,
             "#bd3786"
            ],
            [
             0.5555555555555556,
             "#d8576b"
            ],
            [
             0.6666666666666666,
             "#ed7953"
            ],
            [
             0.7777777777777778,
             "#fb9f3a"
            ],
            [
             0.8888888888888888,
             "#fdca26"
            ],
            [
             1,
             "#f0f921"
            ]
           ]
          },
          "colorway": [
           "#636efa",
           "#EF553B",
           "#00cc96",
           "#ab63fa",
           "#FFA15A",
           "#19d3f3",
           "#FF6692",
           "#B6E880",
           "#FF97FF",
           "#FECB52"
          ],
          "font": {
           "color": "#2a3f5f"
          },
          "geo": {
           "bgcolor": "white",
           "lakecolor": "white",
           "landcolor": "#E5ECF6",
           "showlakes": true,
           "showland": true,
           "subunitcolor": "white"
          },
          "hoverlabel": {
           "align": "left"
          },
          "hovermode": "closest",
          "mapbox": {
           "style": "light"
          },
          "paper_bgcolor": "white",
          "plot_bgcolor": "#E5ECF6",
          "polar": {
           "angularaxis": {
            "gridcolor": "white",
            "linecolor": "white",
            "ticks": ""
           },
           "bgcolor": "#E5ECF6",
           "radialaxis": {
            "gridcolor": "white",
            "linecolor": "white",
            "ticks": ""
           }
          },
          "scene": {
           "xaxis": {
            "backgroundcolor": "#E5ECF6",
            "gridcolor": "white",
            "gridwidth": 2,
            "linecolor": "white",
            "showbackground": true,
            "ticks": "",
            "zerolinecolor": "white"
           },
           "yaxis": {
            "backgroundcolor": "#E5ECF6",
            "gridcolor": "white",
            "gridwidth": 2,
            "linecolor": "white",
            "showbackground": true,
            "ticks": "",
            "zerolinecolor": "white"
           },
           "zaxis": {
            "backgroundcolor": "#E5ECF6",
            "gridcolor": "white",
            "gridwidth": 2,
            "linecolor": "white",
            "showbackground": true,
            "ticks": "",
            "zerolinecolor": "white"
           }
          },
          "shapedefaults": {
           "line": {
            "color": "#2a3f5f"
           }
          },
          "ternary": {
           "aaxis": {
            "gridcolor": "white",
            "linecolor": "white",
            "ticks": ""
           },
           "baxis": {
            "gridcolor": "white",
            "linecolor": "white",
            "ticks": ""
           },
           "bgcolor": "#E5ECF6",
           "caxis": {
            "gridcolor": "white",
            "linecolor": "white",
            "ticks": ""
           }
          },
          "title": {
           "x": 0.05
          },
          "xaxis": {
           "automargin": true,
           "gridcolor": "white",
           "linecolor": "white",
           "ticks": "",
           "title": {
            "standoff": 15
           },
           "zerolinecolor": "white",
           "zerolinewidth": 2
          },
          "yaxis": {
           "automargin": true,
           "gridcolor": "white",
           "linecolor": "white",
           "ticks": "",
           "title": {
            "standoff": 15
           },
           "zerolinecolor": "white",
           "zerolinewidth": 2
          }
         }
        }
       }
      }
     },
     "metadata": {},
     "output_type": "display_data"
    }
   ],
   "source": [
    "gauge_fig = gauge.create_gauge(df_eff, IndicatorType.EFFICIENCY, 85)\n",
    "gauge_fig"
   ]
  },
  {
   "cell_type": "markdown",
   "metadata": {},
   "source": [
    "## Heatmap\n"
   ]
  },
  {
   "cell_type": "code",
   "execution_count": 39,
   "metadata": {},
   "outputs": [],
   "source": [
    "class Heatmap:\n",
    "    \"\"\"\n",
    "    A class representing a heatmap graph.\n",
    "\n",
    "    Attributes:\n",
    "        danger (str): The color value for the danger indicator.\n",
    "        success (str): The color value for the success indicator.\n",
    "\n",
    "    Methods:\n",
    "        create_heatmap: Create a heatmap graph based on the provided data.\n",
    "    \"\"\"\n",
    "\n",
    "    def __init__(self):\n",
    "        self.danger = BSColorsEnum.DANGER_COLOR.value\n",
    "        self.success = BSColorsEnum.SUCCESS_COLOR.value\n",
    "\n",
    "    def create_heatmap(\n",
    "        self,\n",
    "        dataframe: pd.DataFrame,\n",
    "        annotations: list,\n",
    "        indicator: IndicatorType,\n",
    "        meta: int,\n",
    "        template: str = None,\n",
    "        turn: str = False,\n",
    "    ):\n",
    "        \"\"\"\n",
    "        Create a heatmap graph based on the provided data.\n",
    "\n",
    "        Args:\n",
    "            dataframe (pd.DataFrame): The data to be visualized in the heatmap.\n",
    "            annotations (list): List of annotations to be displayed on the heatmap.\n",
    "            indicator (IndicatorType): The type of indicator to be visualized.\n",
    "            meta (int): The meta value for the indicator.\n",
    "            template (str, optional): The template to be used for the graph. Defaults to None.\n",
    "            turn (str, optional): Whether to display the heatmap by turn or not. Defaults to False.\n",
    "\n",
    "        Returns:\n",
    "            dcc.Graph: The heatmap graph.\n",
    "        \"\"\"\n",
    "\n",
    "        # Meta p/ uso em cores\n",
    "        color_meta = meta / 100\n",
    "\n",
    "        # Cria escala de cores\n",
    "        color_scale = {\n",
    "            IndicatorType.EFFICIENCY: [\n",
    "                [0, self.danger],\n",
    "                [color_meta, self.danger],\n",
    "                [color_meta, self.success],\n",
    "                [1, self.success],\n",
    "            ],\n",
    "            IndicatorType.PERFORMANCE: [\n",
    "                [0, self.success],\n",
    "                [color_meta, self.success],\n",
    "                [color_meta, self.danger],\n",
    "                [1, self.danger],\n",
    "            ],\n",
    "            IndicatorType.REPAIR: [\n",
    "                [0, self.success],\n",
    "                [color_meta, self.success],\n",
    "                [color_meta, self.danger],\n",
    "                [1, self.danger],\n",
    "            ],\n",
    "        }\n",
    "\n",
    "        # Extrai apenas o dia da data\n",
    "        dataframe.columns = pd.to_datetime(dataframe.columns).day\n",
    "\n",
    "        # Cria o hover data\n",
    "        hover_data = (\n",
    "            f\"Turno: %{{y}}<br>Dia: %{{x}}<br>{indicator.value.capitalize()}: %{{z:.1%}}\"\n",
    "            if not turn\n",
    "            else f\"Linha: %{{y}}<br>Dia: %{{x}}<br>{indicator.value.capitalize()}: %{{z:.1%}}\"\n",
    "        )\n",
    "\n",
    "        tick_color = \"gray\"\n",
    "\n",
    "        # Cria o heatmap\n",
    "        figure = go.Figure(\n",
    "            data=go.Heatmap(\n",
    "                z=dataframe.values,\n",
    "                x=dataframe.columns,\n",
    "                y=dataframe.index,\n",
    "                colorscale=color_scale[indicator],\n",
    "                name=indicator.value.capitalize(),\n",
    "                zmin=0,\n",
    "                zmax=1,\n",
    "                hoverongaps=False,\n",
    "                hovertemplate=hover_data,\n",
    "                showscale=False,\n",
    "                xgap=1,\n",
    "                ygap=1,\n",
    "            ),\n",
    "            layout=go.Layout(\n",
    "                title=f\"{indicator.value.capitalize()} - Meta: {meta}%\",\n",
    "                title_x=0.5,\n",
    "                xaxis=dict(\n",
    "                    title=\"Dia do Mês\",\n",
    "                    tickfont=dict(color=tick_color),\n",
    "                    tickmode=\"linear\",\n",
    "                    nticks=31,\n",
    "                    tickvals=list(range(1, 32)),\n",
    "                    ticktext=list(range(1, 32)),\n",
    "                    tickangle=0,\n",
    "                ),\n",
    "                yaxis=dict(title=\"Turno\", tickfont=dict(color=tick_color), ticksuffix=\" \"),\n",
    "                font=dict(family=\"Inter\"),\n",
    "                margin=dict(t=40, b=40, l=40, r=40),\n",
    "                annotations=annotations,\n",
    "                plot_bgcolor=\"RGBA(0,0,0,0.01)\",\n",
    "            ),\n",
    "        )\n",
    "\n",
    "        if turn:\n",
    "            figure.update_layout(\n",
    "                yaxis=dict(\n",
    "                    title=\"Linha\",\n",
    "                    autorange=\"reversed\",\n",
    "                    tickvals=list(range(1, dataframe.index.nunique() + 1)),\n",
    "                )\n",
    "            )\n",
    "\n",
    "        return figure\n",
    "\n",
    "\n",
    "heatmap = Heatmap()"
   ]
  },
  {
   "cell_type": "code",
   "execution_count": 40,
   "metadata": {},
   "outputs": [
    {
     "data": {
      "application/vnd.plotly.v1+json": {
       "config": {
        "plotlyServerURL": "https://plot.ly"
       },
       "data": [
        {
         "colorscale": [
          [
           0,
           "#198754"
          ],
          [
           0.04,
           "#198754"
          ],
          [
           0.04,
           "#dc3545"
          ],
          [
           1,
           "#dc3545"
          ]
         ],
         "hoverongaps": false,
         "hovertemplate": "Linha: %{y}<br>Dia: %{x}<br>Performance: %{z:.1%}",
         "name": "Performance",
         "showscale": false,
         "type": "heatmap",
         "x": [],
         "xgap": 1,
         "y": [],
         "ygap": 1,
         "z": [],
         "zmax": 1,
         "zmin": 0
        }
       ],
       "layout": {
        "font": {
         "family": "Inter"
        },
        "margin": {
         "b": 40,
         "l": 40,
         "r": 40,
         "t": 40
        },
        "plot_bgcolor": "RGBA(0,0,0,0.01)",
        "template": {
         "data": {
          "bar": [
           {
            "error_x": {
             "color": "#2a3f5f"
            },
            "error_y": {
             "color": "#2a3f5f"
            },
            "marker": {
             "line": {
              "color": "#E5ECF6",
              "width": 0.5
             },
             "pattern": {
              "fillmode": "overlay",
              "size": 10,
              "solidity": 0.2
             }
            },
            "type": "bar"
           }
          ],
          "barpolar": [
           {
            "marker": {
             "line": {
              "color": "#E5ECF6",
              "width": 0.5
             },
             "pattern": {
              "fillmode": "overlay",
              "size": 10,
              "solidity": 0.2
             }
            },
            "type": "barpolar"
           }
          ],
          "carpet": [
           {
            "aaxis": {
             "endlinecolor": "#2a3f5f",
             "gridcolor": "white",
             "linecolor": "white",
             "minorgridcolor": "white",
             "startlinecolor": "#2a3f5f"
            },
            "baxis": {
             "endlinecolor": "#2a3f5f",
             "gridcolor": "white",
             "linecolor": "white",
             "minorgridcolor": "white",
             "startlinecolor": "#2a3f5f"
            },
            "type": "carpet"
           }
          ],
          "choropleth": [
           {
            "colorbar": {
             "outlinewidth": 0,
             "ticks": ""
            },
            "type": "choropleth"
           }
          ],
          "contour": [
           {
            "colorbar": {
             "outlinewidth": 0,
             "ticks": ""
            },
            "colorscale": [
             [
              0,
              "#0d0887"
             ],
             [
              0.1111111111111111,
              "#46039f"
             ],
             [
              0.2222222222222222,
              "#7201a8"
             ],
             [
              0.3333333333333333,
              "#9c179e"
             ],
             [
              0.4444444444444444,
              "#bd3786"
             ],
             [
              0.5555555555555556,
              "#d8576b"
             ],
             [
              0.6666666666666666,
              "#ed7953"
             ],
             [
              0.7777777777777778,
              "#fb9f3a"
             ],
             [
              0.8888888888888888,
              "#fdca26"
             ],
             [
              1,
              "#f0f921"
             ]
            ],
            "type": "contour"
           }
          ],
          "contourcarpet": [
           {
            "colorbar": {
             "outlinewidth": 0,
             "ticks": ""
            },
            "type": "contourcarpet"
           }
          ],
          "heatmap": [
           {
            "colorbar": {
             "outlinewidth": 0,
             "ticks": ""
            },
            "colorscale": [
             [
              0,
              "#0d0887"
             ],
             [
              0.1111111111111111,
              "#46039f"
             ],
             [
              0.2222222222222222,
              "#7201a8"
             ],
             [
              0.3333333333333333,
              "#9c179e"
             ],
             [
              0.4444444444444444,
              "#bd3786"
             ],
             [
              0.5555555555555556,
              "#d8576b"
             ],
             [
              0.6666666666666666,
              "#ed7953"
             ],
             [
              0.7777777777777778,
              "#fb9f3a"
             ],
             [
              0.8888888888888888,
              "#fdca26"
             ],
             [
              1,
              "#f0f921"
             ]
            ],
            "type": "heatmap"
           }
          ],
          "heatmapgl": [
           {
            "colorbar": {
             "outlinewidth": 0,
             "ticks": ""
            },
            "colorscale": [
             [
              0,
              "#0d0887"
             ],
             [
              0.1111111111111111,
              "#46039f"
             ],
             [
              0.2222222222222222,
              "#7201a8"
             ],
             [
              0.3333333333333333,
              "#9c179e"
             ],
             [
              0.4444444444444444,
              "#bd3786"
             ],
             [
              0.5555555555555556,
              "#d8576b"
             ],
             [
              0.6666666666666666,
              "#ed7953"
             ],
             [
              0.7777777777777778,
              "#fb9f3a"
             ],
             [
              0.8888888888888888,
              "#fdca26"
             ],
             [
              1,
              "#f0f921"
             ]
            ],
            "type": "heatmapgl"
           }
          ],
          "histogram": [
           {
            "marker": {
             "pattern": {
              "fillmode": "overlay",
              "size": 10,
              "solidity": 0.2
             }
            },
            "type": "histogram"
           }
          ],
          "histogram2d": [
           {
            "colorbar": {
             "outlinewidth": 0,
             "ticks": ""
            },
            "colorscale": [
             [
              0,
              "#0d0887"
             ],
             [
              0.1111111111111111,
              "#46039f"
             ],
             [
              0.2222222222222222,
              "#7201a8"
             ],
             [
              0.3333333333333333,
              "#9c179e"
             ],
             [
              0.4444444444444444,
              "#bd3786"
             ],
             [
              0.5555555555555556,
              "#d8576b"
             ],
             [
              0.6666666666666666,
              "#ed7953"
             ],
             [
              0.7777777777777778,
              "#fb9f3a"
             ],
             [
              0.8888888888888888,
              "#fdca26"
             ],
             [
              1,
              "#f0f921"
             ]
            ],
            "type": "histogram2d"
           }
          ],
          "histogram2dcontour": [
           {
            "colorbar": {
             "outlinewidth": 0,
             "ticks": ""
            },
            "colorscale": [
             [
              0,
              "#0d0887"
             ],
             [
              0.1111111111111111,
              "#46039f"
             ],
             [
              0.2222222222222222,
              "#7201a8"
             ],
             [
              0.3333333333333333,
              "#9c179e"
             ],
             [
              0.4444444444444444,
              "#bd3786"
             ],
             [
              0.5555555555555556,
              "#d8576b"
             ],
             [
              0.6666666666666666,
              "#ed7953"
             ],
             [
              0.7777777777777778,
              "#fb9f3a"
             ],
             [
              0.8888888888888888,
              "#fdca26"
             ],
             [
              1,
              "#f0f921"
             ]
            ],
            "type": "histogram2dcontour"
           }
          ],
          "mesh3d": [
           {
            "colorbar": {
             "outlinewidth": 0,
             "ticks": ""
            },
            "type": "mesh3d"
           }
          ],
          "parcoords": [
           {
            "line": {
             "colorbar": {
              "outlinewidth": 0,
              "ticks": ""
             }
            },
            "type": "parcoords"
           }
          ],
          "pie": [
           {
            "automargin": true,
            "type": "pie"
           }
          ],
          "scatter": [
           {
            "fillpattern": {
             "fillmode": "overlay",
             "size": 10,
             "solidity": 0.2
            },
            "type": "scatter"
           }
          ],
          "scatter3d": [
           {
            "line": {
             "colorbar": {
              "outlinewidth": 0,
              "ticks": ""
             }
            },
            "marker": {
             "colorbar": {
              "outlinewidth": 0,
              "ticks": ""
             }
            },
            "type": "scatter3d"
           }
          ],
          "scattercarpet": [
           {
            "marker": {
             "colorbar": {
              "outlinewidth": 0,
              "ticks": ""
             }
            },
            "type": "scattercarpet"
           }
          ],
          "scattergeo": [
           {
            "marker": {
             "colorbar": {
              "outlinewidth": 0,
              "ticks": ""
             }
            },
            "type": "scattergeo"
           }
          ],
          "scattergl": [
           {
            "marker": {
             "colorbar": {
              "outlinewidth": 0,
              "ticks": ""
             }
            },
            "type": "scattergl"
           }
          ],
          "scattermapbox": [
           {
            "marker": {
             "colorbar": {
              "outlinewidth": 0,
              "ticks": ""
             }
            },
            "type": "scattermapbox"
           }
          ],
          "scatterpolar": [
           {
            "marker": {
             "colorbar": {
              "outlinewidth": 0,
              "ticks": ""
             }
            },
            "type": "scatterpolar"
           }
          ],
          "scatterpolargl": [
           {
            "marker": {
             "colorbar": {
              "outlinewidth": 0,
              "ticks": ""
             }
            },
            "type": "scatterpolargl"
           }
          ],
          "scatterternary": [
           {
            "marker": {
             "colorbar": {
              "outlinewidth": 0,
              "ticks": ""
             }
            },
            "type": "scatterternary"
           }
          ],
          "surface": [
           {
            "colorbar": {
             "outlinewidth": 0,
             "ticks": ""
            },
            "colorscale": [
             [
              0,
              "#0d0887"
             ],
             [
              0.1111111111111111,
              "#46039f"
             ],
             [
              0.2222222222222222,
              "#7201a8"
             ],
             [
              0.3333333333333333,
              "#9c179e"
             ],
             [
              0.4444444444444444,
              "#bd3786"
             ],
             [
              0.5555555555555556,
              "#d8576b"
             ],
             [
              0.6666666666666666,
              "#ed7953"
             ],
             [
              0.7777777777777778,
              "#fb9f3a"
             ],
             [
              0.8888888888888888,
              "#fdca26"
             ],
             [
              1,
              "#f0f921"
             ]
            ],
            "type": "surface"
           }
          ],
          "table": [
           {
            "cells": {
             "fill": {
              "color": "#EBF0F8"
             },
             "line": {
              "color": "white"
             }
            },
            "header": {
             "fill": {
              "color": "#C8D4E3"
             },
             "line": {
              "color": "white"
             }
            },
            "type": "table"
           }
          ]
         },
         "layout": {
          "annotationdefaults": {
           "arrowcolor": "#2a3f5f",
           "arrowhead": 0,
           "arrowwidth": 1
          },
          "autotypenumbers": "strict",
          "coloraxis": {
           "colorbar": {
            "outlinewidth": 0,
            "ticks": ""
           }
          },
          "colorscale": {
           "diverging": [
            [
             0,
             "#8e0152"
            ],
            [
             0.1,
             "#c51b7d"
            ],
            [
             0.2,
             "#de77ae"
            ],
            [
             0.3,
             "#f1b6da"
            ],
            [
             0.4,
             "#fde0ef"
            ],
            [
             0.5,
             "#f7f7f7"
            ],
            [
             0.6,
             "#e6f5d0"
            ],
            [
             0.7,
             "#b8e186"
            ],
            [
             0.8,
             "#7fbc41"
            ],
            [
             0.9,
             "#4d9221"
            ],
            [
             1,
             "#276419"
            ]
           ],
           "sequential": [
            [
             0,
             "#0d0887"
            ],
            [
             0.1111111111111111,
             "#46039f"
            ],
            [
             0.2222222222222222,
             "#7201a8"
            ],
            [
             0.3333333333333333,
             "#9c179e"
            ],
            [
             0.4444444444444444,
             "#bd3786"
            ],
            [
             0.5555555555555556,
             "#d8576b"
            ],
            [
             0.6666666666666666,
             "#ed7953"
            ],
            [
             0.7777777777777778,
             "#fb9f3a"
            ],
            [
             0.8888888888888888,
             "#fdca26"
            ],
            [
             1,
             "#f0f921"
            ]
           ],
           "sequentialminus": [
            [
             0,
             "#0d0887"
            ],
            [
             0.1111111111111111,
             "#46039f"
            ],
            [
             0.2222222222222222,
             "#7201a8"
            ],
            [
             0.3333333333333333,
             "#9c179e"
            ],
            [
             0.4444444444444444,
             "#bd3786"
            ],
            [
             0.5555555555555556,
             "#d8576b"
            ],
            [
             0.6666666666666666,
             "#ed7953"
            ],
            [
             0.7777777777777778,
             "#fb9f3a"
            ],
            [
             0.8888888888888888,
             "#fdca26"
            ],
            [
             1,
             "#f0f921"
            ]
           ]
          },
          "colorway": [
           "#636efa",
           "#EF553B",
           "#00cc96",
           "#ab63fa",
           "#FFA15A",
           "#19d3f3",
           "#FF6692",
           "#B6E880",
           "#FF97FF",
           "#FECB52"
          ],
          "font": {
           "color": "#2a3f5f"
          },
          "geo": {
           "bgcolor": "white",
           "lakecolor": "white",
           "landcolor": "#E5ECF6",
           "showlakes": true,
           "showland": true,
           "subunitcolor": "white"
          },
          "hoverlabel": {
           "align": "left"
          },
          "hovermode": "closest",
          "mapbox": {
           "style": "light"
          },
          "paper_bgcolor": "white",
          "plot_bgcolor": "#E5ECF6",
          "polar": {
           "angularaxis": {
            "gridcolor": "white",
            "linecolor": "white",
            "ticks": ""
           },
           "bgcolor": "#E5ECF6",
           "radialaxis": {
            "gridcolor": "white",
            "linecolor": "white",
            "ticks": ""
           }
          },
          "scene": {
           "xaxis": {
            "backgroundcolor": "#E5ECF6",
            "gridcolor": "white",
            "gridwidth": 2,
            "linecolor": "white",
            "showbackground": true,
            "ticks": "",
            "zerolinecolor": "white"
           },
           "yaxis": {
            "backgroundcolor": "#E5ECF6",
            "gridcolor": "white",
            "gridwidth": 2,
            "linecolor": "white",
            "showbackground": true,
            "ticks": "",
            "zerolinecolor": "white"
           },
           "zaxis": {
            "backgroundcolor": "#E5ECF6",
            "gridcolor": "white",
            "gridwidth": 2,
            "linecolor": "white",
            "showbackground": true,
            "ticks": "",
            "zerolinecolor": "white"
           }
          },
          "shapedefaults": {
           "line": {
            "color": "#2a3f5f"
           }
          },
          "ternary": {
           "aaxis": {
            "gridcolor": "white",
            "linecolor": "white",
            "ticks": ""
           },
           "baxis": {
            "gridcolor": "white",
            "linecolor": "white",
            "ticks": ""
           },
           "bgcolor": "#E5ECF6",
           "caxis": {
            "gridcolor": "white",
            "linecolor": "white",
            "ticks": ""
           }
          },
          "title": {
           "x": 0.05
          },
          "xaxis": {
           "automargin": true,
           "gridcolor": "white",
           "linecolor": "white",
           "ticks": "",
           "title": {
            "standoff": 15
           },
           "zerolinecolor": "white",
           "zerolinewidth": 2
          },
          "yaxis": {
           "automargin": true,
           "gridcolor": "white",
           "linecolor": "white",
           "ticks": "",
           "title": {
            "standoff": 15
           },
           "zerolinecolor": "white",
           "zerolinewidth": 2
          }
         }
        },
        "title": {
         "text": "Performance - Meta: 4%",
         "x": 0.5
        },
        "xaxis": {
         "nticks": 31,
         "tickangle": 0,
         "tickfont": {
          "color": "gray"
         },
         "tickmode": "linear",
         "ticktext": [
          1,
          2,
          3,
          4,
          5,
          6,
          7,
          8,
          9,
          10,
          11,
          12,
          13,
          14,
          15,
          16,
          17,
          18,
          19,
          20,
          21,
          22,
          23,
          24,
          25,
          26,
          27,
          28,
          29,
          30,
          31
         ],
         "tickvals": [
          1,
          2,
          3,
          4,
          5,
          6,
          7,
          8,
          9,
          10,
          11,
          12,
          13,
          14,
          15,
          16,
          17,
          18,
          19,
          20,
          21,
          22,
          23,
          24,
          25,
          26,
          27,
          28,
          29,
          30,
          31
         ],
         "title": {
          "text": "Dia do Mês"
         }
        },
        "yaxis": {
         "autorange": "reversed",
         "tickfont": {
          "color": "gray"
         },
         "ticksuffix": " ",
         "tickvals": [],
         "title": {
          "text": "Linha"
         }
        }
       }
      }
     },
     "metadata": {},
     "output_type": "display_data"
    }
   ],
   "source": [
    "heatmap_fig = heatmap.create_heatmap(\n",
    "    heat_vespertino, annotations_vespertino, IndicatorType.PERFORMANCE, 4, turn=True\n",
    ")\n",
    "heatmap_fig"
   ]
  },
  {
   "cell_type": "markdown",
   "metadata": {},
   "source": [
    "## Line\n"
   ]
  },
  {
   "cell_type": "code",
   "execution_count": 41,
   "metadata": {},
   "outputs": [],
   "source": [
    "class LineGraph:\n",
    "    \"\"\"\n",
    "    A class representing a line graph.\n",
    "\n",
    "    Attributes:\n",
    "        secondary (str): The secondary color for the graph.\n",
    "        primary (str): The primary color for the graph.\n",
    "        danger (str): The danger color for the graph.\n",
    "\n",
    "    Methods:\n",
    "        create_line_graph(dataframe, indicator, meta, template, turn=None):\n",
    "            Create a line graph based on the provided data.\n",
    "\n",
    "    \"\"\"\n",
    "\n",
    "    def __init__(self):\n",
    "        self.secondary = BSColorsEnum.SECONDARY_COLOR.value\n",
    "        self.primary = BSColorsEnum.PRIMARY_COLOR.value\n",
    "        self.danger = BSColorsEnum.DANGER_COLOR.value\n",
    "\n",
    "    def create_line_graph(\n",
    "        self,\n",
    "        dataframe: pd.DataFrame,\n",
    "        indicator: IndicatorType,\n",
    "        meta: int,\n",
    "        turn: str = None,\n",
    "    ):\n",
    "        \"\"\"\n",
    "        Create a line graph based on the provided data.\n",
    "\n",
    "        Args:\n",
    "            dataframe (pd.DataFrame): The input data containing the indicator values.\n",
    "            indicator (IndicatorType): The type of indicator to be plotted.\n",
    "            meta (int): The target value for the indicator.\n",
    "            template (TemplateType): The template type for the graph.\n",
    "            turn (str, optional): The specific turn to filter the data. Defaults to None.\n",
    "\n",
    "        Returns:\n",
    "            dcc.Graph: The line graph visualizing the indicator values.\n",
    "\n",
    "        \"\"\"\n",
    "\n",
    "        # Pegar o valor do indicador\n",
    "        indicator = indicator.value\n",
    "\n",
    "        # Converter 'data_registro' para datetime e criar uma nova coluna 'data_turno'\n",
    "        dataframe[\"data_registro\"] = pd.to_datetime(dataframe[\"data_registro\"])\n",
    "        dataframe[\"data_turno\"] = dataframe[\"data_registro\"].dt.strftime(\"%Y-%m-%d\")\n",
    "\n",
    "        # Filtrar por turno\n",
    "        dataframe = dataframe[dataframe[\"turno\"] == turn] if turn and turn != \"TOT\" else dataframe\n",
    "\n",
    "        # Agrupar por 'data_turno' e 'turno' e calcular a média do indicador\n",
    "        df_grouped = dataframe.groupby([\"data_turno\"])[indicator].mean().reset_index()\n",
    "\n",
    "        # Multiplicar por 100 para converter para porcentagem\n",
    "        df_grouped[indicator] = df_grouped[indicator] * 100\n",
    "\n",
    "        # Criação de um DataFrame com todas as datas do mês atual\n",
    "        start_date = dataframe[\"data_registro\"].min()\n",
    "        end_date = start_date + pd.tseries.offsets.MonthEnd(1)\n",
    "        all_dates = pd.date_range(start_date, end_date).strftime(\"%Y-%m-%d\")\n",
    "        dataframe_all_dates = pd.DataFrame(all_dates, columns=[\"data_turno\"])\n",
    "\n",
    "        # Mesclar o DataFrame original com o DataFrame de todas as datas\n",
    "        df_grouped = pd.merge(dataframe_all_dates, df_grouped, on=\"data_turno\", how=\"left\")\n",
    "\n",
    "        # Substituir valores nulos por 0\n",
    "        df_grouped[indicator] = df_grouped[indicator].fillna(0)\n",
    "\n",
    "        # Criação do gráfico\n",
    "        fig = go.Figure(\n",
    "            data=[\n",
    "                go.Scatter(\n",
    "                    x=df_grouped[\"data_turno\"],\n",
    "                    y=df_grouped[indicator],\n",
    "                    mode=\"lines+markers\",\n",
    "                    marker=dict(color=self.primary),\n",
    "                    line=dict(color=self.primary),\n",
    "                    hovertemplate=f\"<i>Dia</i>: %{{x}}\"\n",
    "                    f\"<br><b>{indicator.capitalize()}</b>: %{{y:.1f}}<br>\",\n",
    "                    hoverinfo=\"skip\",\n",
    "                )\n",
    "            ],\n",
    "            layout=go.Layout(\n",
    "                showlegend=False,\n",
    "                xaxis=dict(showticklabels=False),\n",
    "                yaxis=dict(showticklabels=False, autorange=True),\n",
    "                margin=dict(l=0, r=0, t=0, b=0),\n",
    "                height=None,\n",
    "                autosize=True,\n",
    "                font=dict(family=\"Inter\"),\n",
    "                plot_bgcolor=\"RGBA(0,0,0,0.001)\",\n",
    "            ),\n",
    "        )\n",
    "\n",
    "        # Linha de meta\n",
    "        fig.add_trace(\n",
    "            go.Scatter(\n",
    "                x=df_grouped[\"data_turno\"],\n",
    "                y=[meta] * len(df_grouped),\n",
    "                mode=\"lines\",\n",
    "                name=\"Meta\",\n",
    "                line=dict(color=self.danger, dash=\"dash\"),\n",
    "                hovertemplate=\"<b>Meta</b>: %{y:.0f}%<extra></extra>\",\n",
    "            )\n",
    "        )\n",
    "\n",
    "        return fig\n",
    "\n",
    "\n",
    "line_graph = LineGraph()"
   ]
  },
  {
   "cell_type": "code",
   "execution_count": 42,
   "metadata": {},
   "outputs": [
    {
     "data": {
      "application/vnd.plotly.v1+json": {
       "config": {
        "plotlyServerURL": "https://plot.ly"
       },
       "data": [
        {
         "hoverinfo": "skip",
         "hovertemplate": "<i>Dia</i>: %{x}<br><b>Eficiencia</b>: %{y:.1f}<br>",
         "line": {
          "color": "#0d6efd"
         },
         "marker": {
          "color": "#0d6efd"
         },
         "mode": "lines+markers",
         "type": "scatter",
         "x": [
          "2024-07-01",
          "2024-07-02",
          "2024-07-03",
          "2024-07-04",
          "2024-07-05",
          "2024-07-06",
          "2024-07-07",
          "2024-07-08",
          "2024-07-09",
          "2024-07-10",
          "2024-07-11",
          "2024-07-12",
          "2024-07-13",
          "2024-07-14",
          "2024-07-15",
          "2024-07-16",
          "2024-07-17",
          "2024-07-18",
          "2024-07-19",
          "2024-07-20",
          "2024-07-21",
          "2024-07-22",
          "2024-07-23",
          "2024-07-24",
          "2024-07-25",
          "2024-07-26",
          "2024-07-27",
          "2024-07-28",
          "2024-07-29",
          "2024-07-30",
          "2024-07-31"
         ],
         "y": [
          0.06666666666666667,
          0,
          0,
          0,
          0,
          0,
          0,
          0,
          0,
          0,
          0,
          0,
          0,
          0,
          0,
          0,
          0,
          0,
          0,
          0,
          0,
          0,
          0,
          0,
          0,
          0,
          0,
          0,
          0,
          0,
          0
         ]
        },
        {
         "hovertemplate": "<b>Meta</b>: %{y:.0f}%<extra></extra>",
         "line": {
          "color": "#dc3545",
          "dash": "dash"
         },
         "mode": "lines",
         "name": "Meta",
         "type": "scatter",
         "x": [
          "2024-07-01",
          "2024-07-02",
          "2024-07-03",
          "2024-07-04",
          "2024-07-05",
          "2024-07-06",
          "2024-07-07",
          "2024-07-08",
          "2024-07-09",
          "2024-07-10",
          "2024-07-11",
          "2024-07-12",
          "2024-07-13",
          "2024-07-14",
          "2024-07-15",
          "2024-07-16",
          "2024-07-17",
          "2024-07-18",
          "2024-07-19",
          "2024-07-20",
          "2024-07-21",
          "2024-07-22",
          "2024-07-23",
          "2024-07-24",
          "2024-07-25",
          "2024-07-26",
          "2024-07-27",
          "2024-07-28",
          "2024-07-29",
          "2024-07-30",
          "2024-07-31"
         ],
         "y": [
          85,
          85,
          85,
          85,
          85,
          85,
          85,
          85,
          85,
          85,
          85,
          85,
          85,
          85,
          85,
          85,
          85,
          85,
          85,
          85,
          85,
          85,
          85,
          85,
          85,
          85,
          85,
          85,
          85,
          85,
          85
         ]
        }
       ],
       "layout": {
        "autosize": true,
        "font": {
         "family": "Inter"
        },
        "margin": {
         "b": 0,
         "l": 0,
         "r": 0,
         "t": 0
        },
        "plot_bgcolor": "RGBA(0,0,0,0.001)",
        "showlegend": false,
        "template": {
         "data": {
          "bar": [
           {
            "error_x": {
             "color": "#2a3f5f"
            },
            "error_y": {
             "color": "#2a3f5f"
            },
            "marker": {
             "line": {
              "color": "#E5ECF6",
              "width": 0.5
             },
             "pattern": {
              "fillmode": "overlay",
              "size": 10,
              "solidity": 0.2
             }
            },
            "type": "bar"
           }
          ],
          "barpolar": [
           {
            "marker": {
             "line": {
              "color": "#E5ECF6",
              "width": 0.5
             },
             "pattern": {
              "fillmode": "overlay",
              "size": 10,
              "solidity": 0.2
             }
            },
            "type": "barpolar"
           }
          ],
          "carpet": [
           {
            "aaxis": {
             "endlinecolor": "#2a3f5f",
             "gridcolor": "white",
             "linecolor": "white",
             "minorgridcolor": "white",
             "startlinecolor": "#2a3f5f"
            },
            "baxis": {
             "endlinecolor": "#2a3f5f",
             "gridcolor": "white",
             "linecolor": "white",
             "minorgridcolor": "white",
             "startlinecolor": "#2a3f5f"
            },
            "type": "carpet"
           }
          ],
          "choropleth": [
           {
            "colorbar": {
             "outlinewidth": 0,
             "ticks": ""
            },
            "type": "choropleth"
           }
          ],
          "contour": [
           {
            "colorbar": {
             "outlinewidth": 0,
             "ticks": ""
            },
            "colorscale": [
             [
              0,
              "#0d0887"
             ],
             [
              0.1111111111111111,
              "#46039f"
             ],
             [
              0.2222222222222222,
              "#7201a8"
             ],
             [
              0.3333333333333333,
              "#9c179e"
             ],
             [
              0.4444444444444444,
              "#bd3786"
             ],
             [
              0.5555555555555556,
              "#d8576b"
             ],
             [
              0.6666666666666666,
              "#ed7953"
             ],
             [
              0.7777777777777778,
              "#fb9f3a"
             ],
             [
              0.8888888888888888,
              "#fdca26"
             ],
             [
              1,
              "#f0f921"
             ]
            ],
            "type": "contour"
           }
          ],
          "contourcarpet": [
           {
            "colorbar": {
             "outlinewidth": 0,
             "ticks": ""
            },
            "type": "contourcarpet"
           }
          ],
          "heatmap": [
           {
            "colorbar": {
             "outlinewidth": 0,
             "ticks": ""
            },
            "colorscale": [
             [
              0,
              "#0d0887"
             ],
             [
              0.1111111111111111,
              "#46039f"
             ],
             [
              0.2222222222222222,
              "#7201a8"
             ],
             [
              0.3333333333333333,
              "#9c179e"
             ],
             [
              0.4444444444444444,
              "#bd3786"
             ],
             [
              0.5555555555555556,
              "#d8576b"
             ],
             [
              0.6666666666666666,
              "#ed7953"
             ],
             [
              0.7777777777777778,
              "#fb9f3a"
             ],
             [
              0.8888888888888888,
              "#fdca26"
             ],
             [
              1,
              "#f0f921"
             ]
            ],
            "type": "heatmap"
           }
          ],
          "heatmapgl": [
           {
            "colorbar": {
             "outlinewidth": 0,
             "ticks": ""
            },
            "colorscale": [
             [
              0,
              "#0d0887"
             ],
             [
              0.1111111111111111,
              "#46039f"
             ],
             [
              0.2222222222222222,
              "#7201a8"
             ],
             [
              0.3333333333333333,
              "#9c179e"
             ],
             [
              0.4444444444444444,
              "#bd3786"
             ],
             [
              0.5555555555555556,
              "#d8576b"
             ],
             [
              0.6666666666666666,
              "#ed7953"
             ],
             [
              0.7777777777777778,
              "#fb9f3a"
             ],
             [
              0.8888888888888888,
              "#fdca26"
             ],
             [
              1,
              "#f0f921"
             ]
            ],
            "type": "heatmapgl"
           }
          ],
          "histogram": [
           {
            "marker": {
             "pattern": {
              "fillmode": "overlay",
              "size": 10,
              "solidity": 0.2
             }
            },
            "type": "histogram"
           }
          ],
          "histogram2d": [
           {
            "colorbar": {
             "outlinewidth": 0,
             "ticks": ""
            },
            "colorscale": [
             [
              0,
              "#0d0887"
             ],
             [
              0.1111111111111111,
              "#46039f"
             ],
             [
              0.2222222222222222,
              "#7201a8"
             ],
             [
              0.3333333333333333,
              "#9c179e"
             ],
             [
              0.4444444444444444,
              "#bd3786"
             ],
             [
              0.5555555555555556,
              "#d8576b"
             ],
             [
              0.6666666666666666,
              "#ed7953"
             ],
             [
              0.7777777777777778,
              "#fb9f3a"
             ],
             [
              0.8888888888888888,
              "#fdca26"
             ],
             [
              1,
              "#f0f921"
             ]
            ],
            "type": "histogram2d"
           }
          ],
          "histogram2dcontour": [
           {
            "colorbar": {
             "outlinewidth": 0,
             "ticks": ""
            },
            "colorscale": [
             [
              0,
              "#0d0887"
             ],
             [
              0.1111111111111111,
              "#46039f"
             ],
             [
              0.2222222222222222,
              "#7201a8"
             ],
             [
              0.3333333333333333,
              "#9c179e"
             ],
             [
              0.4444444444444444,
              "#bd3786"
             ],
             [
              0.5555555555555556,
              "#d8576b"
             ],
             [
              0.6666666666666666,
              "#ed7953"
             ],
             [
              0.7777777777777778,
              "#fb9f3a"
             ],
             [
              0.8888888888888888,
              "#fdca26"
             ],
             [
              1,
              "#f0f921"
             ]
            ],
            "type": "histogram2dcontour"
           }
          ],
          "mesh3d": [
           {
            "colorbar": {
             "outlinewidth": 0,
             "ticks": ""
            },
            "type": "mesh3d"
           }
          ],
          "parcoords": [
           {
            "line": {
             "colorbar": {
              "outlinewidth": 0,
              "ticks": ""
             }
            },
            "type": "parcoords"
           }
          ],
          "pie": [
           {
            "automargin": true,
            "type": "pie"
           }
          ],
          "scatter": [
           {
            "fillpattern": {
             "fillmode": "overlay",
             "size": 10,
             "solidity": 0.2
            },
            "type": "scatter"
           }
          ],
          "scatter3d": [
           {
            "line": {
             "colorbar": {
              "outlinewidth": 0,
              "ticks": ""
             }
            },
            "marker": {
             "colorbar": {
              "outlinewidth": 0,
              "ticks": ""
             }
            },
            "type": "scatter3d"
           }
          ],
          "scattercarpet": [
           {
            "marker": {
             "colorbar": {
              "outlinewidth": 0,
              "ticks": ""
             }
            },
            "type": "scattercarpet"
           }
          ],
          "scattergeo": [
           {
            "marker": {
             "colorbar": {
              "outlinewidth": 0,
              "ticks": ""
             }
            },
            "type": "scattergeo"
           }
          ],
          "scattergl": [
           {
            "marker": {
             "colorbar": {
              "outlinewidth": 0,
              "ticks": ""
             }
            },
            "type": "scattergl"
           }
          ],
          "scattermapbox": [
           {
            "marker": {
             "colorbar": {
              "outlinewidth": 0,
              "ticks": ""
             }
            },
            "type": "scattermapbox"
           }
          ],
          "scatterpolar": [
           {
            "marker": {
             "colorbar": {
              "outlinewidth": 0,
              "ticks": ""
             }
            },
            "type": "scatterpolar"
           }
          ],
          "scatterpolargl": [
           {
            "marker": {
             "colorbar": {
              "outlinewidth": 0,
              "ticks": ""
             }
            },
            "type": "scatterpolargl"
           }
          ],
          "scatterternary": [
           {
            "marker": {
             "colorbar": {
              "outlinewidth": 0,
              "ticks": ""
             }
            },
            "type": "scatterternary"
           }
          ],
          "surface": [
           {
            "colorbar": {
             "outlinewidth": 0,
             "ticks": ""
            },
            "colorscale": [
             [
              0,
              "#0d0887"
             ],
             [
              0.1111111111111111,
              "#46039f"
             ],
             [
              0.2222222222222222,
              "#7201a8"
             ],
             [
              0.3333333333333333,
              "#9c179e"
             ],
             [
              0.4444444444444444,
              "#bd3786"
             ],
             [
              0.5555555555555556,
              "#d8576b"
             ],
             [
              0.6666666666666666,
              "#ed7953"
             ],
             [
              0.7777777777777778,
              "#fb9f3a"
             ],
             [
              0.8888888888888888,
              "#fdca26"
             ],
             [
              1,
              "#f0f921"
             ]
            ],
            "type": "surface"
           }
          ],
          "table": [
           {
            "cells": {
             "fill": {
              "color": "#EBF0F8"
             },
             "line": {
              "color": "white"
             }
            },
            "header": {
             "fill": {
              "color": "#C8D4E3"
             },
             "line": {
              "color": "white"
             }
            },
            "type": "table"
           }
          ]
         },
         "layout": {
          "annotationdefaults": {
           "arrowcolor": "#2a3f5f",
           "arrowhead": 0,
           "arrowwidth": 1
          },
          "autotypenumbers": "strict",
          "coloraxis": {
           "colorbar": {
            "outlinewidth": 0,
            "ticks": ""
           }
          },
          "colorscale": {
           "diverging": [
            [
             0,
             "#8e0152"
            ],
            [
             0.1,
             "#c51b7d"
            ],
            [
             0.2,
             "#de77ae"
            ],
            [
             0.3,
             "#f1b6da"
            ],
            [
             0.4,
             "#fde0ef"
            ],
            [
             0.5,
             "#f7f7f7"
            ],
            [
             0.6,
             "#e6f5d0"
            ],
            [
             0.7,
             "#b8e186"
            ],
            [
             0.8,
             "#7fbc41"
            ],
            [
             0.9,
             "#4d9221"
            ],
            [
             1,
             "#276419"
            ]
           ],
           "sequential": [
            [
             0,
             "#0d0887"
            ],
            [
             0.1111111111111111,
             "#46039f"
            ],
            [
             0.2222222222222222,
             "#7201a8"
            ],
            [
             0.3333333333333333,
             "#9c179e"
            ],
            [
             0.4444444444444444,
             "#bd3786"
            ],
            [
             0.5555555555555556,
             "#d8576b"
            ],
            [
             0.6666666666666666,
             "#ed7953"
            ],
            [
             0.7777777777777778,
             "#fb9f3a"
            ],
            [
             0.8888888888888888,
             "#fdca26"
            ],
            [
             1,
             "#f0f921"
            ]
           ],
           "sequentialminus": [
            [
             0,
             "#0d0887"
            ],
            [
             0.1111111111111111,
             "#46039f"
            ],
            [
             0.2222222222222222,
             "#7201a8"
            ],
            [
             0.3333333333333333,
             "#9c179e"
            ],
            [
             0.4444444444444444,
             "#bd3786"
            ],
            [
             0.5555555555555556,
             "#d8576b"
            ],
            [
             0.6666666666666666,
             "#ed7953"
            ],
            [
             0.7777777777777778,
             "#fb9f3a"
            ],
            [
             0.8888888888888888,
             "#fdca26"
            ],
            [
             1,
             "#f0f921"
            ]
           ]
          },
          "colorway": [
           "#636efa",
           "#EF553B",
           "#00cc96",
           "#ab63fa",
           "#FFA15A",
           "#19d3f3",
           "#FF6692",
           "#B6E880",
           "#FF97FF",
           "#FECB52"
          ],
          "font": {
           "color": "#2a3f5f"
          },
          "geo": {
           "bgcolor": "white",
           "lakecolor": "white",
           "landcolor": "#E5ECF6",
           "showlakes": true,
           "showland": true,
           "subunitcolor": "white"
          },
          "hoverlabel": {
           "align": "left"
          },
          "hovermode": "closest",
          "mapbox": {
           "style": "light"
          },
          "paper_bgcolor": "white",
          "plot_bgcolor": "#E5ECF6",
          "polar": {
           "angularaxis": {
            "gridcolor": "white",
            "linecolor": "white",
            "ticks": ""
           },
           "bgcolor": "#E5ECF6",
           "radialaxis": {
            "gridcolor": "white",
            "linecolor": "white",
            "ticks": ""
           }
          },
          "scene": {
           "xaxis": {
            "backgroundcolor": "#E5ECF6",
            "gridcolor": "white",
            "gridwidth": 2,
            "linecolor": "white",
            "showbackground": true,
            "ticks": "",
            "zerolinecolor": "white"
           },
           "yaxis": {
            "backgroundcolor": "#E5ECF6",
            "gridcolor": "white",
            "gridwidth": 2,
            "linecolor": "white",
            "showbackground": true,
            "ticks": "",
            "zerolinecolor": "white"
           },
           "zaxis": {
            "backgroundcolor": "#E5ECF6",
            "gridcolor": "white",
            "gridwidth": 2,
            "linecolor": "white",
            "showbackground": true,
            "ticks": "",
            "zerolinecolor": "white"
           }
          },
          "shapedefaults": {
           "line": {
            "color": "#2a3f5f"
           }
          },
          "ternary": {
           "aaxis": {
            "gridcolor": "white",
            "linecolor": "white",
            "ticks": ""
           },
           "baxis": {
            "gridcolor": "white",
            "linecolor": "white",
            "ticks": ""
           },
           "bgcolor": "#E5ECF6",
           "caxis": {
            "gridcolor": "white",
            "linecolor": "white",
            "ticks": ""
           }
          },
          "title": {
           "x": 0.05
          },
          "xaxis": {
           "automargin": true,
           "gridcolor": "white",
           "linecolor": "white",
           "ticks": "",
           "title": {
            "standoff": 15
           },
           "zerolinecolor": "white",
           "zerolinewidth": 2
          },
          "yaxis": {
           "automargin": true,
           "gridcolor": "white",
           "linecolor": "white",
           "ticks": "",
           "title": {
            "standoff": 15
           },
           "zerolinecolor": "white",
           "zerolinewidth": 2
          }
         }
        },
        "xaxis": {
         "showticklabels": false
        },
        "yaxis": {
         "autorange": true,
         "showticklabels": false
        }
       }
      }
     },
     "metadata": {},
     "output_type": "display_data"
    }
   ],
   "source": [
    "line_fig = line_graph.create_line_graph(df_eff, IndicatorType.EFFICIENCY, 85, \"NOT\")\n",
    "line_fig"
   ]
  },
  {
   "cell_type": "markdown",
   "metadata": {},
   "source": [
    "## Bar Chart\n"
   ]
  },
  {
   "cell_type": "code",
   "execution_count": 43,
   "metadata": {},
   "outputs": [],
   "source": [
    "class BarChartDetails:\n",
    "    \"\"\"\n",
    "    Represents a class for creating bar chart details based on provided data.\n",
    "    \"\"\"\n",
    "\n",
    "    def __init__(self, df_maq_stopped: pd.DataFrame, df_production: pd.DataFrame):\n",
    "        self.df_indicator = DFIndicators(df_maq_stopped, df_production)\n",
    "\n",
    "    def create_bar_chart_details(\n",
    "        self,\n",
    "        dataframe: pd.DataFrame,\n",
    "        indicator: IndicatorType,\n",
    "        turn: str = None,\n",
    "        selected_data: str = None,\n",
    "        working: pd.DataFrame = None,\n",
    "        choice: str = \"motivo\",\n",
    "    ):\n",
    "        \"\"\"\n",
    "        Creates a bar chart with details based on the provided data.\n",
    "\n",
    "        Args:\n",
    "            dataframe (pd.DataFrame): The input dataframe containing the data.\n",
    "            indicator (IndicatorType): The type of indicator.\n",
    "            template (TemplateType): The type of template.\n",
    "            turn (str): The turn value.\n",
    "            selected_data: The selected data.\n",
    "            working (pd.DataFrame, optional): The working dataframe. Defaults to None.\n",
    "\n",
    "        Returns:\n",
    "            dcc.Graph: The bar chart as a Dash component.\n",
    "        \"\"\"\n",
    "        df = self.df_indicator.adjust_df_for_bar_lost(dataframe, indicator, working_minutes=working)\n",
    "\n",
    "        # Garante que data_registro tenha apenas o dia\n",
    "        df[\"data_registro\"] = pd.to_datetime(df[\"data_registro\"]).dt.date\n",
    "\n",
    "        # Filtro pelo dia, caso tenha sido selecionado\n",
    "        df = (\n",
    "            df[df[\"data_registro\"] == pd.to_datetime(selected_data).date()]\n",
    "            if selected_data is not None\n",
    "            else df\n",
    "        )\n",
    "\n",
    "        motivos = df[choice].unique()\n",
    "        # Definir cores\n",
    "        palette = sns.color_palette(\"tab20\", len(motivos)).as_hex()\n",
    "\n",
    "        color_dict = dict(zip(motivos, palette))\n",
    "\n",
    "        if choice == \"motivo\":\n",
    "            # Criar coluna sort para ordenar os dados\n",
    "            df[\"sort\"] = (\n",
    "                df[\"motivo\"].map({\"Rodando\": 0, \"Parada Programada\": 2, \"Limpeza\": 1}).fillna(9)\n",
    "            )\n",
    "\n",
    "            # Ordenar por sort e tempo_registro_min\n",
    "            df = df.sort_values(\n",
    "                by=[\"linha\", \"sort\", \"data_registro\", \"tempo\"],\n",
    "                ascending=[True, True, True, False],\n",
    "            )\n",
    "\n",
    "            # Remover a coluna sort\n",
    "            df = df.drop(columns=[\"sort\"])\n",
    "\n",
    "            # Mapear cores\n",
    "            color_dict = {\n",
    "                \"Parada de 5 minutos ou menos\": BSColorsEnum.BLUE_DELFT_COLOR.value,\n",
    "                \"Não apontado\": BSColorsEnum.GREY_600_COLOR.value,\n",
    "                \"Ajustes\": BSColorsEnum.TEAL_COLOR.value,\n",
    "                \"Manutenção\": BSColorsEnum.SPACE_CADET_COLOR.value,\n",
    "                \"Qualidade\": BSColorsEnum.WARNING_COLOR.value,\n",
    "                \"Fluxo\": BSColorsEnum.PINK_COLOR.value,\n",
    "                \"Parada Programada\": BSColorsEnum.DANGER_COLOR.value,\n",
    "                \"Setup\": BSColorsEnum.SECONDARY_COLOR.value,\n",
    "                \"Limpeza\": BSColorsEnum.PRIMARY_COLOR.value,\n",
    "                \"Rodando\": BSColorsEnum.SUCCESS_COLOR.value,\n",
    "            }\n",
    "\n",
    "        # Criação do gráfico\n",
    "        fig = px.bar(\n",
    "            df,\n",
    "            x=\"linha\",\n",
    "            y=\"tempo\",\n",
    "            color=choice,\n",
    "            barmode=\"stack\",\n",
    "            color_discrete_map=color_dict,\n",
    "            title=\"Detalhes de Tempo\",\n",
    "            labels={\n",
    "                \"tempo\": \"Tempo (min)\",\n",
    "                \"linha\": \"Linha\",\n",
    "                choice: choice.capitalize(),\n",
    "            },\n",
    "        )\n",
    "\n",
    "        tick_color = \"gray\"\n",
    "\n",
    "        # Atualizar layout\n",
    "        fig.update_layout(\n",
    "            xaxis=dict(\n",
    "                categoryorder=\"category ascending\",\n",
    "                tickvals=df[\"linha\"].unique(),\n",
    "                tickfont=dict(color=tick_color),\n",
    "            ),\n",
    "            yaxis=dict(tickfont=dict(color=tick_color)),\n",
    "            title_x=0.5,\n",
    "            xaxis_title=\"Linha\",\n",
    "            yaxis_title=\"Tempo (min)\",\n",
    "            legend_title=choice.capitalize(),\n",
    "            plot_bgcolor=\"RGBA(0,0,0,0.01)\",\n",
    "            margin=dict(t=40, b=40, l=40, r=40),\n",
    "        )\n",
    "\n",
    "        return fig\n",
    "\n",
    "\n",
    "bar_chart_details = BarChartDetails(df_maq_stopped.copy(), df_info_production_cleaned.copy())"
   ]
  },
  {
   "cell_type": "code",
   "execution_count": 44,
   "metadata": {},
   "outputs": [
    {
     "data": {
      "application/vnd.plotly.v1+json": {
       "config": {
        "plotlyServerURL": "https://plot.ly"
       },
       "data": [
        {
         "alignmentgroup": "True",
         "hovertemplate": "Motivo=Não apontado<br>Linha=%{x}<br>Tempo (min)=%{y}<extra></extra>",
         "legendgroup": "Não apontado",
         "marker": {
          "color": "#6c757d",
          "pattern": {
           "shape": ""
          }
         },
         "name": "Não apontado",
         "offsetgroup": "Não apontado",
         "orientation": "v",
         "showlegend": true,
         "textposition": "auto",
         "type": "bar",
         "x": [
          1,
          1,
          2,
          3,
          4,
          5,
          6,
          7,
          8,
          9,
          10,
          10,
          11,
          11,
          12,
          12,
          13,
          13,
          14,
          14
         ],
         "xaxis": "x",
         "y": [
          480,
          480,
          480,
          480,
          480,
          480,
          480,
          480,
          480,
          480,
          480,
          480,
          480,
          480,
          480,
          480,
          480,
          480,
          480,
          480
         ],
         "yaxis": "y"
        },
        {
         "alignmentgroup": "True",
         "hovertemplate": "Motivo=Ajustes<br>Linha=%{x}<br>Tempo (min)=%{y}<extra></extra>",
         "legendgroup": "Ajustes",
         "marker": {
          "color": "#20c997",
          "pattern": {
           "shape": ""
          }
         },
         "name": "Ajustes",
         "offsetgroup": "Ajustes",
         "orientation": "v",
         "showlegend": true,
         "textposition": "auto",
         "type": "bar",
         "x": [
          2,
          4
         ],
         "xaxis": "x",
         "y": [
          480,
          480
         ],
         "yaxis": "y"
        },
        {
         "alignmentgroup": "True",
         "hovertemplate": "Motivo=Rodando<br>Linha=%{x}<br>Tempo (min)=%{y}<extra></extra>",
         "legendgroup": "Rodando",
         "marker": {
          "color": "#198754",
          "pattern": {
           "shape": ""
          }
         },
         "name": "Rodando",
         "offsetgroup": "Rodando",
         "orientation": "v",
         "showlegend": true,
         "textposition": "auto",
         "type": "bar",
         "x": [
          3
         ],
         "xaxis": "x",
         "y": [
          2
         ],
         "yaxis": "y"
        },
        {
         "alignmentgroup": "True",
         "hovertemplate": "Motivo=Parada Programada<br>Linha=%{x}<br>Tempo (min)=%{y}<extra></extra>",
         "legendgroup": "Parada Programada",
         "marker": {
          "color": "#dc3545",
          "pattern": {
           "shape": ""
          }
         },
         "name": "Parada Programada",
         "offsetgroup": "Parada Programada",
         "orientation": "v",
         "showlegend": true,
         "textposition": "auto",
         "type": "bar",
         "x": [
          3,
          9
         ],
         "xaxis": "x",
         "y": [
          16,
          480
         ],
         "yaxis": "y"
        },
        {
         "alignmentgroup": "True",
         "hovertemplate": "Motivo=Qualidade<br>Linha=%{x}<br>Tempo (min)=%{y}<extra></extra>",
         "legendgroup": "Qualidade",
         "marker": {
          "color": "#ffc107",
          "pattern": {
           "shape": ""
          }
         },
         "name": "Qualidade",
         "offsetgroup": "Qualidade",
         "orientation": "v",
         "showlegend": true,
         "textposition": "auto",
         "type": "bar",
         "x": [
          3
         ],
         "xaxis": "x",
         "y": [
          463
         ],
         "yaxis": "y"
        },
        {
         "alignmentgroup": "True",
         "hovertemplate": "Motivo=Limpeza<br>Linha=%{x}<br>Tempo (min)=%{y}<extra></extra>",
         "legendgroup": "Limpeza",
         "marker": {
          "color": "#0d6efd",
          "pattern": {
           "shape": ""
          }
         },
         "name": "Limpeza",
         "offsetgroup": "Limpeza",
         "orientation": "v",
         "showlegend": true,
         "textposition": "auto",
         "type": "bar",
         "x": [
          5,
          6,
          7,
          8
         ],
         "xaxis": "x",
         "y": [
          480,
          480,
          480,
          480
         ],
         "yaxis": "y"
        }
       ],
       "layout": {
        "barmode": "stack",
        "legend": {
         "title": {
          "text": "Motivo"
         },
         "tracegroupgap": 0
        },
        "margin": {
         "b": 40,
         "l": 40,
         "r": 40,
         "t": 40
        },
        "plot_bgcolor": "RGBA(0,0,0,0.01)",
        "template": {
         "data": {
          "bar": [
           {
            "error_x": {
             "color": "#2a3f5f"
            },
            "error_y": {
             "color": "#2a3f5f"
            },
            "marker": {
             "line": {
              "color": "#E5ECF6",
              "width": 0.5
             },
             "pattern": {
              "fillmode": "overlay",
              "size": 10,
              "solidity": 0.2
             }
            },
            "type": "bar"
           }
          ],
          "barpolar": [
           {
            "marker": {
             "line": {
              "color": "#E5ECF6",
              "width": 0.5
             },
             "pattern": {
              "fillmode": "overlay",
              "size": 10,
              "solidity": 0.2
             }
            },
            "type": "barpolar"
           }
          ],
          "carpet": [
           {
            "aaxis": {
             "endlinecolor": "#2a3f5f",
             "gridcolor": "white",
             "linecolor": "white",
             "minorgridcolor": "white",
             "startlinecolor": "#2a3f5f"
            },
            "baxis": {
             "endlinecolor": "#2a3f5f",
             "gridcolor": "white",
             "linecolor": "white",
             "minorgridcolor": "white",
             "startlinecolor": "#2a3f5f"
            },
            "type": "carpet"
           }
          ],
          "choropleth": [
           {
            "colorbar": {
             "outlinewidth": 0,
             "ticks": ""
            },
            "type": "choropleth"
           }
          ],
          "contour": [
           {
            "colorbar": {
             "outlinewidth": 0,
             "ticks": ""
            },
            "colorscale": [
             [
              0,
              "#0d0887"
             ],
             [
              0.1111111111111111,
              "#46039f"
             ],
             [
              0.2222222222222222,
              "#7201a8"
             ],
             [
              0.3333333333333333,
              "#9c179e"
             ],
             [
              0.4444444444444444,
              "#bd3786"
             ],
             [
              0.5555555555555556,
              "#d8576b"
             ],
             [
              0.6666666666666666,
              "#ed7953"
             ],
             [
              0.7777777777777778,
              "#fb9f3a"
             ],
             [
              0.8888888888888888,
              "#fdca26"
             ],
             [
              1,
              "#f0f921"
             ]
            ],
            "type": "contour"
           }
          ],
          "contourcarpet": [
           {
            "colorbar": {
             "outlinewidth": 0,
             "ticks": ""
            },
            "type": "contourcarpet"
           }
          ],
          "heatmap": [
           {
            "colorbar": {
             "outlinewidth": 0,
             "ticks": ""
            },
            "colorscale": [
             [
              0,
              "#0d0887"
             ],
             [
              0.1111111111111111,
              "#46039f"
             ],
             [
              0.2222222222222222,
              "#7201a8"
             ],
             [
              0.3333333333333333,
              "#9c179e"
             ],
             [
              0.4444444444444444,
              "#bd3786"
             ],
             [
              0.5555555555555556,
              "#d8576b"
             ],
             [
              0.6666666666666666,
              "#ed7953"
             ],
             [
              0.7777777777777778,
              "#fb9f3a"
             ],
             [
              0.8888888888888888,
              "#fdca26"
             ],
             [
              1,
              "#f0f921"
             ]
            ],
            "type": "heatmap"
           }
          ],
          "heatmapgl": [
           {
            "colorbar": {
             "outlinewidth": 0,
             "ticks": ""
            },
            "colorscale": [
             [
              0,
              "#0d0887"
             ],
             [
              0.1111111111111111,
              "#46039f"
             ],
             [
              0.2222222222222222,
              "#7201a8"
             ],
             [
              0.3333333333333333,
              "#9c179e"
             ],
             [
              0.4444444444444444,
              "#bd3786"
             ],
             [
              0.5555555555555556,
              "#d8576b"
             ],
             [
              0.6666666666666666,
              "#ed7953"
             ],
             [
              0.7777777777777778,
              "#fb9f3a"
             ],
             [
              0.8888888888888888,
              "#fdca26"
             ],
             [
              1,
              "#f0f921"
             ]
            ],
            "type": "heatmapgl"
           }
          ],
          "histogram": [
           {
            "marker": {
             "pattern": {
              "fillmode": "overlay",
              "size": 10,
              "solidity": 0.2
             }
            },
            "type": "histogram"
           }
          ],
          "histogram2d": [
           {
            "colorbar": {
             "outlinewidth": 0,
             "ticks": ""
            },
            "colorscale": [
             [
              0,
              "#0d0887"
             ],
             [
              0.1111111111111111,
              "#46039f"
             ],
             [
              0.2222222222222222,
              "#7201a8"
             ],
             [
              0.3333333333333333,
              "#9c179e"
             ],
             [
              0.4444444444444444,
              "#bd3786"
             ],
             [
              0.5555555555555556,
              "#d8576b"
             ],
             [
              0.6666666666666666,
              "#ed7953"
             ],
             [
              0.7777777777777778,
              "#fb9f3a"
             ],
             [
              0.8888888888888888,
              "#fdca26"
             ],
             [
              1,
              "#f0f921"
             ]
            ],
            "type": "histogram2d"
           }
          ],
          "histogram2dcontour": [
           {
            "colorbar": {
             "outlinewidth": 0,
             "ticks": ""
            },
            "colorscale": [
             [
              0,
              "#0d0887"
             ],
             [
              0.1111111111111111,
              "#46039f"
             ],
             [
              0.2222222222222222,
              "#7201a8"
             ],
             [
              0.3333333333333333,
              "#9c179e"
             ],
             [
              0.4444444444444444,
              "#bd3786"
             ],
             [
              0.5555555555555556,
              "#d8576b"
             ],
             [
              0.6666666666666666,
              "#ed7953"
             ],
             [
              0.7777777777777778,
              "#fb9f3a"
             ],
             [
              0.8888888888888888,
              "#fdca26"
             ],
             [
              1,
              "#f0f921"
             ]
            ],
            "type": "histogram2dcontour"
           }
          ],
          "mesh3d": [
           {
            "colorbar": {
             "outlinewidth": 0,
             "ticks": ""
            },
            "type": "mesh3d"
           }
          ],
          "parcoords": [
           {
            "line": {
             "colorbar": {
              "outlinewidth": 0,
              "ticks": ""
             }
            },
            "type": "parcoords"
           }
          ],
          "pie": [
           {
            "automargin": true,
            "type": "pie"
           }
          ],
          "scatter": [
           {
            "fillpattern": {
             "fillmode": "overlay",
             "size": 10,
             "solidity": 0.2
            },
            "type": "scatter"
           }
          ],
          "scatter3d": [
           {
            "line": {
             "colorbar": {
              "outlinewidth": 0,
              "ticks": ""
             }
            },
            "marker": {
             "colorbar": {
              "outlinewidth": 0,
              "ticks": ""
             }
            },
            "type": "scatter3d"
           }
          ],
          "scattercarpet": [
           {
            "marker": {
             "colorbar": {
              "outlinewidth": 0,
              "ticks": ""
             }
            },
            "type": "scattercarpet"
           }
          ],
          "scattergeo": [
           {
            "marker": {
             "colorbar": {
              "outlinewidth": 0,
              "ticks": ""
             }
            },
            "type": "scattergeo"
           }
          ],
          "scattergl": [
           {
            "marker": {
             "colorbar": {
              "outlinewidth": 0,
              "ticks": ""
             }
            },
            "type": "scattergl"
           }
          ],
          "scattermapbox": [
           {
            "marker": {
             "colorbar": {
              "outlinewidth": 0,
              "ticks": ""
             }
            },
            "type": "scattermapbox"
           }
          ],
          "scatterpolar": [
           {
            "marker": {
             "colorbar": {
              "outlinewidth": 0,
              "ticks": ""
             }
            },
            "type": "scatterpolar"
           }
          ],
          "scatterpolargl": [
           {
            "marker": {
             "colorbar": {
              "outlinewidth": 0,
              "ticks": ""
             }
            },
            "type": "scatterpolargl"
           }
          ],
          "scatterternary": [
           {
            "marker": {
             "colorbar": {
              "outlinewidth": 0,
              "ticks": ""
             }
            },
            "type": "scatterternary"
           }
          ],
          "surface": [
           {
            "colorbar": {
             "outlinewidth": 0,
             "ticks": ""
            },
            "colorscale": [
             [
              0,
              "#0d0887"
             ],
             [
              0.1111111111111111,
              "#46039f"
             ],
             [
              0.2222222222222222,
              "#7201a8"
             ],
             [
              0.3333333333333333,
              "#9c179e"
             ],
             [
              0.4444444444444444,
              "#bd3786"
             ],
             [
              0.5555555555555556,
              "#d8576b"
             ],
             [
              0.6666666666666666,
              "#ed7953"
             ],
             [
              0.7777777777777778,
              "#fb9f3a"
             ],
             [
              0.8888888888888888,
              "#fdca26"
             ],
             [
              1,
              "#f0f921"
             ]
            ],
            "type": "surface"
           }
          ],
          "table": [
           {
            "cells": {
             "fill": {
              "color": "#EBF0F8"
             },
             "line": {
              "color": "white"
             }
            },
            "header": {
             "fill": {
              "color": "#C8D4E3"
             },
             "line": {
              "color": "white"
             }
            },
            "type": "table"
           }
          ]
         },
         "layout": {
          "annotationdefaults": {
           "arrowcolor": "#2a3f5f",
           "arrowhead": 0,
           "arrowwidth": 1
          },
          "autotypenumbers": "strict",
          "coloraxis": {
           "colorbar": {
            "outlinewidth": 0,
            "ticks": ""
           }
          },
          "colorscale": {
           "diverging": [
            [
             0,
             "#8e0152"
            ],
            [
             0.1,
             "#c51b7d"
            ],
            [
             0.2,
             "#de77ae"
            ],
            [
             0.3,
             "#f1b6da"
            ],
            [
             0.4,
             "#fde0ef"
            ],
            [
             0.5,
             "#f7f7f7"
            ],
            [
             0.6,
             "#e6f5d0"
            ],
            [
             0.7,
             "#b8e186"
            ],
            [
             0.8,
             "#7fbc41"
            ],
            [
             0.9,
             "#4d9221"
            ],
            [
             1,
             "#276419"
            ]
           ],
           "sequential": [
            [
             0,
             "#0d0887"
            ],
            [
             0.1111111111111111,
             "#46039f"
            ],
            [
             0.2222222222222222,
             "#7201a8"
            ],
            [
             0.3333333333333333,
             "#9c179e"
            ],
            [
             0.4444444444444444,
             "#bd3786"
            ],
            [
             0.5555555555555556,
             "#d8576b"
            ],
            [
             0.6666666666666666,
             "#ed7953"
            ],
            [
             0.7777777777777778,
             "#fb9f3a"
            ],
            [
             0.8888888888888888,
             "#fdca26"
            ],
            [
             1,
             "#f0f921"
            ]
           ],
           "sequentialminus": [
            [
             0,
             "#0d0887"
            ],
            [
             0.1111111111111111,
             "#46039f"
            ],
            [
             0.2222222222222222,
             "#7201a8"
            ],
            [
             0.3333333333333333,
             "#9c179e"
            ],
            [
             0.4444444444444444,
             "#bd3786"
            ],
            [
             0.5555555555555556,
             "#d8576b"
            ],
            [
             0.6666666666666666,
             "#ed7953"
            ],
            [
             0.7777777777777778,
             "#fb9f3a"
            ],
            [
             0.8888888888888888,
             "#fdca26"
            ],
            [
             1,
             "#f0f921"
            ]
           ]
          },
          "colorway": [
           "#636efa",
           "#EF553B",
           "#00cc96",
           "#ab63fa",
           "#FFA15A",
           "#19d3f3",
           "#FF6692",
           "#B6E880",
           "#FF97FF",
           "#FECB52"
          ],
          "font": {
           "color": "#2a3f5f"
          },
          "geo": {
           "bgcolor": "white",
           "lakecolor": "white",
           "landcolor": "#E5ECF6",
           "showlakes": true,
           "showland": true,
           "subunitcolor": "white"
          },
          "hoverlabel": {
           "align": "left"
          },
          "hovermode": "closest",
          "mapbox": {
           "style": "light"
          },
          "paper_bgcolor": "white",
          "plot_bgcolor": "#E5ECF6",
          "polar": {
           "angularaxis": {
            "gridcolor": "white",
            "linecolor": "white",
            "ticks": ""
           },
           "bgcolor": "#E5ECF6",
           "radialaxis": {
            "gridcolor": "white",
            "linecolor": "white",
            "ticks": ""
           }
          },
          "scene": {
           "xaxis": {
            "backgroundcolor": "#E5ECF6",
            "gridcolor": "white",
            "gridwidth": 2,
            "linecolor": "white",
            "showbackground": true,
            "ticks": "",
            "zerolinecolor": "white"
           },
           "yaxis": {
            "backgroundcolor": "#E5ECF6",
            "gridcolor": "white",
            "gridwidth": 2,
            "linecolor": "white",
            "showbackground": true,
            "ticks": "",
            "zerolinecolor": "white"
           },
           "zaxis": {
            "backgroundcolor": "#E5ECF6",
            "gridcolor": "white",
            "gridwidth": 2,
            "linecolor": "white",
            "showbackground": true,
            "ticks": "",
            "zerolinecolor": "white"
           }
          },
          "shapedefaults": {
           "line": {
            "color": "#2a3f5f"
           }
          },
          "ternary": {
           "aaxis": {
            "gridcolor": "white",
            "linecolor": "white",
            "ticks": ""
           },
           "baxis": {
            "gridcolor": "white",
            "linecolor": "white",
            "ticks": ""
           },
           "bgcolor": "#E5ECF6",
           "caxis": {
            "gridcolor": "white",
            "linecolor": "white",
            "ticks": ""
           }
          },
          "title": {
           "x": 0.05
          },
          "xaxis": {
           "automargin": true,
           "gridcolor": "white",
           "linecolor": "white",
           "ticks": "",
           "title": {
            "standoff": 15
           },
           "zerolinecolor": "white",
           "zerolinewidth": 2
          },
          "yaxis": {
           "automargin": true,
           "gridcolor": "white",
           "linecolor": "white",
           "ticks": "",
           "title": {
            "standoff": 15
           },
           "zerolinecolor": "white",
           "zerolinewidth": 2
          }
         }
        },
        "title": {
         "text": "Detalhes de Tempo",
         "x": 0.5
        },
        "xaxis": {
         "anchor": "y",
         "categoryorder": "category ascending",
         "domain": [
          0,
          1
         ],
         "tickfont": {
          "color": "gray"
         },
         "tickvals": [
          1,
          2,
          3,
          4,
          5,
          6,
          7,
          8,
          9,
          10,
          11,
          12,
          13,
          14
         ],
         "title": {
          "text": "Linha"
         }
        },
        "yaxis": {
         "anchor": "x",
         "domain": [
          0,
          1
         ],
         "tickfont": {
          "color": "gray"
         },
         "title": {
          "text": "Tempo (min)"
         }
        }
       }
      }
     },
     "metadata": {},
     "output_type": "display_data"
    }
   ],
   "source": [
    "chart_details = bar_chart_details.create_bar_chart_details(\n",
    "    df_maq_stopped.copy(), IndicatorType.EFFICIENCY, working=df_time_working.copy()\n",
    ")\n",
    "chart_details"
   ]
  },
  {
   "cell_type": "code",
   "execution_count": 45,
   "metadata": {},
   "outputs": [
    {
     "data": {
      "application/vnd.plotly.v1+json": {
       "config": {
        "plotlyServerURL": "https://plot.ly"
       },
       "data": [
        {
         "alignmentgroup": "True",
         "hovertemplate": "Problema=Não apontado<br>Linha=%{x}<br>Tempo (min)=%{y}<extra></extra>",
         "legendgroup": "Não apontado",
         "marker": {
          "color": "#1f77b4",
          "pattern": {
           "shape": ""
          }
         },
         "name": "Não apontado",
         "offsetgroup": "Não apontado",
         "orientation": "v",
         "showlegend": true,
         "textposition": "auto",
         "type": "bar",
         "x": [
          1,
          1,
          2,
          3,
          4,
          5,
          6,
          7,
          8,
          9,
          10,
          10,
          11,
          11,
          12,
          12,
          13,
          13,
          14,
          14
         ],
         "xaxis": "x",
         "y": [
          480,
          480,
          480,
          480,
          480,
          480,
          480,
          480,
          480,
          480,
          480,
          480,
          480,
          480,
          480,
          480,
          480,
          480,
          480,
          480
         ],
         "yaxis": "y"
        },
        {
         "alignmentgroup": "True",
         "hovertemplate": "Problema=Troca de Bobina<br>Linha=%{x}<br>Tempo (min)=%{y}<extra></extra>",
         "legendgroup": "Troca de Bobina",
         "marker": {
          "color": "#aec7e8",
          "pattern": {
           "shape": ""
          }
         },
         "name": "Troca de Bobina",
         "offsetgroup": "Troca de Bobina",
         "orientation": "v",
         "showlegend": true,
         "textposition": "auto",
         "type": "bar",
         "x": [
          2,
          4
         ],
         "xaxis": "x",
         "y": [
          480,
          480
         ],
         "yaxis": "y"
        },
        {
         "alignmentgroup": "True",
         "hovertemplate": "Problema=Parada Planejada<br>Linha=%{x}<br>Tempo (min)=%{y}<extra></extra>",
         "legendgroup": "Parada Planejada",
         "marker": {
          "color": "#ff7f0e",
          "pattern": {
           "shape": ""
          }
         },
         "name": "Parada Planejada",
         "offsetgroup": "Parada Planejada",
         "orientation": "v",
         "showlegend": true,
         "textposition": "auto",
         "type": "bar",
         "x": [
          3,
          9
         ],
         "xaxis": "x",
         "y": [
          16,
          480
         ],
         "yaxis": "y"
        },
        {
         "alignmentgroup": "True",
         "hovertemplate": "Problema=Parâmetros de Qualidade<br>Linha=%{x}<br>Tempo (min)=%{y}<extra></extra>",
         "legendgroup": "Parâmetros de Qualidade",
         "marker": {
          "color": "#ffbb78",
          "pattern": {
           "shape": ""
          }
         },
         "name": "Parâmetros de Qualidade",
         "offsetgroup": "Parâmetros de Qualidade",
         "orientation": "v",
         "showlegend": true,
         "textposition": "auto",
         "type": "bar",
         "x": [
          3
         ],
         "xaxis": "x",
         "y": [
          463
         ],
         "yaxis": "y"
        },
        {
         "alignmentgroup": "True",
         "hovertemplate": "Problema=Limpeza para parada de Fábrica<br>Linha=%{x}<br>Tempo (min)=%{y}<extra></extra>",
         "legendgroup": "Limpeza para parada de Fábrica",
         "marker": {
          "color": "#2ca02c",
          "pattern": {
           "shape": ""
          }
         },
         "name": "Limpeza para parada de Fábrica",
         "offsetgroup": "Limpeza para parada de Fábrica",
         "orientation": "v",
         "showlegend": true,
         "textposition": "auto",
         "type": "bar",
         "x": [
          5,
          6,
          7,
          8
         ],
         "xaxis": "x",
         "y": [
          480,
          480,
          480,
          480
         ],
         "yaxis": "y"
        }
       ],
       "layout": {
        "barmode": "stack",
        "legend": {
         "title": {
          "text": "Problema"
         },
         "tracegroupgap": 0
        },
        "margin": {
         "b": 40,
         "l": 40,
         "r": 40,
         "t": 40
        },
        "plot_bgcolor": "RGBA(0,0,0,0.01)",
        "template": {
         "data": {
          "bar": [
           {
            "error_x": {
             "color": "#2a3f5f"
            },
            "error_y": {
             "color": "#2a3f5f"
            },
            "marker": {
             "line": {
              "color": "#E5ECF6",
              "width": 0.5
             },
             "pattern": {
              "fillmode": "overlay",
              "size": 10,
              "solidity": 0.2
             }
            },
            "type": "bar"
           }
          ],
          "barpolar": [
           {
            "marker": {
             "line": {
              "color": "#E5ECF6",
              "width": 0.5
             },
             "pattern": {
              "fillmode": "overlay",
              "size": 10,
              "solidity": 0.2
             }
            },
            "type": "barpolar"
           }
          ],
          "carpet": [
           {
            "aaxis": {
             "endlinecolor": "#2a3f5f",
             "gridcolor": "white",
             "linecolor": "white",
             "minorgridcolor": "white",
             "startlinecolor": "#2a3f5f"
            },
            "baxis": {
             "endlinecolor": "#2a3f5f",
             "gridcolor": "white",
             "linecolor": "white",
             "minorgridcolor": "white",
             "startlinecolor": "#2a3f5f"
            },
            "type": "carpet"
           }
          ],
          "choropleth": [
           {
            "colorbar": {
             "outlinewidth": 0,
             "ticks": ""
            },
            "type": "choropleth"
           }
          ],
          "contour": [
           {
            "colorbar": {
             "outlinewidth": 0,
             "ticks": ""
            },
            "colorscale": [
             [
              0,
              "#0d0887"
             ],
             [
              0.1111111111111111,
              "#46039f"
             ],
             [
              0.2222222222222222,
              "#7201a8"
             ],
             [
              0.3333333333333333,
              "#9c179e"
             ],
             [
              0.4444444444444444,
              "#bd3786"
             ],
             [
              0.5555555555555556,
              "#d8576b"
             ],
             [
              0.6666666666666666,
              "#ed7953"
             ],
             [
              0.7777777777777778,
              "#fb9f3a"
             ],
             [
              0.8888888888888888,
              "#fdca26"
             ],
             [
              1,
              "#f0f921"
             ]
            ],
            "type": "contour"
           }
          ],
          "contourcarpet": [
           {
            "colorbar": {
             "outlinewidth": 0,
             "ticks": ""
            },
            "type": "contourcarpet"
           }
          ],
          "heatmap": [
           {
            "colorbar": {
             "outlinewidth": 0,
             "ticks": ""
            },
            "colorscale": [
             [
              0,
              "#0d0887"
             ],
             [
              0.1111111111111111,
              "#46039f"
             ],
             [
              0.2222222222222222,
              "#7201a8"
             ],
             [
              0.3333333333333333,
              "#9c179e"
             ],
             [
              0.4444444444444444,
              "#bd3786"
             ],
             [
              0.5555555555555556,
              "#d8576b"
             ],
             [
              0.6666666666666666,
              "#ed7953"
             ],
             [
              0.7777777777777778,
              "#fb9f3a"
             ],
             [
              0.8888888888888888,
              "#fdca26"
             ],
             [
              1,
              "#f0f921"
             ]
            ],
            "type": "heatmap"
           }
          ],
          "heatmapgl": [
           {
            "colorbar": {
             "outlinewidth": 0,
             "ticks": ""
            },
            "colorscale": [
             [
              0,
              "#0d0887"
             ],
             [
              0.1111111111111111,
              "#46039f"
             ],
             [
              0.2222222222222222,
              "#7201a8"
             ],
             [
              0.3333333333333333,
              "#9c179e"
             ],
             [
              0.4444444444444444,
              "#bd3786"
             ],
             [
              0.5555555555555556,
              "#d8576b"
             ],
             [
              0.6666666666666666,
              "#ed7953"
             ],
             [
              0.7777777777777778,
              "#fb9f3a"
             ],
             [
              0.8888888888888888,
              "#fdca26"
             ],
             [
              1,
              "#f0f921"
             ]
            ],
            "type": "heatmapgl"
           }
          ],
          "histogram": [
           {
            "marker": {
             "pattern": {
              "fillmode": "overlay",
              "size": 10,
              "solidity": 0.2
             }
            },
            "type": "histogram"
           }
          ],
          "histogram2d": [
           {
            "colorbar": {
             "outlinewidth": 0,
             "ticks": ""
            },
            "colorscale": [
             [
              0,
              "#0d0887"
             ],
             [
              0.1111111111111111,
              "#46039f"
             ],
             [
              0.2222222222222222,
              "#7201a8"
             ],
             [
              0.3333333333333333,
              "#9c179e"
             ],
             [
              0.4444444444444444,
              "#bd3786"
             ],
             [
              0.5555555555555556,
              "#d8576b"
             ],
             [
              0.6666666666666666,
              "#ed7953"
             ],
             [
              0.7777777777777778,
              "#fb9f3a"
             ],
             [
              0.8888888888888888,
              "#fdca26"
             ],
             [
              1,
              "#f0f921"
             ]
            ],
            "type": "histogram2d"
           }
          ],
          "histogram2dcontour": [
           {
            "colorbar": {
             "outlinewidth": 0,
             "ticks": ""
            },
            "colorscale": [
             [
              0,
              "#0d0887"
             ],
             [
              0.1111111111111111,
              "#46039f"
             ],
             [
              0.2222222222222222,
              "#7201a8"
             ],
             [
              0.3333333333333333,
              "#9c179e"
             ],
             [
              0.4444444444444444,
              "#bd3786"
             ],
             [
              0.5555555555555556,
              "#d8576b"
             ],
             [
              0.6666666666666666,
              "#ed7953"
             ],
             [
              0.7777777777777778,
              "#fb9f3a"
             ],
             [
              0.8888888888888888,
              "#fdca26"
             ],
             [
              1,
              "#f0f921"
             ]
            ],
            "type": "histogram2dcontour"
           }
          ],
          "mesh3d": [
           {
            "colorbar": {
             "outlinewidth": 0,
             "ticks": ""
            },
            "type": "mesh3d"
           }
          ],
          "parcoords": [
           {
            "line": {
             "colorbar": {
              "outlinewidth": 0,
              "ticks": ""
             }
            },
            "type": "parcoords"
           }
          ],
          "pie": [
           {
            "automargin": true,
            "type": "pie"
           }
          ],
          "scatter": [
           {
            "fillpattern": {
             "fillmode": "overlay",
             "size": 10,
             "solidity": 0.2
            },
            "type": "scatter"
           }
          ],
          "scatter3d": [
           {
            "line": {
             "colorbar": {
              "outlinewidth": 0,
              "ticks": ""
             }
            },
            "marker": {
             "colorbar": {
              "outlinewidth": 0,
              "ticks": ""
             }
            },
            "type": "scatter3d"
           }
          ],
          "scattercarpet": [
           {
            "marker": {
             "colorbar": {
              "outlinewidth": 0,
              "ticks": ""
             }
            },
            "type": "scattercarpet"
           }
          ],
          "scattergeo": [
           {
            "marker": {
             "colorbar": {
              "outlinewidth": 0,
              "ticks": ""
             }
            },
            "type": "scattergeo"
           }
          ],
          "scattergl": [
           {
            "marker": {
             "colorbar": {
              "outlinewidth": 0,
              "ticks": ""
             }
            },
            "type": "scattergl"
           }
          ],
          "scattermapbox": [
           {
            "marker": {
             "colorbar": {
              "outlinewidth": 0,
              "ticks": ""
             }
            },
            "type": "scattermapbox"
           }
          ],
          "scatterpolar": [
           {
            "marker": {
             "colorbar": {
              "outlinewidth": 0,
              "ticks": ""
             }
            },
            "type": "scatterpolar"
           }
          ],
          "scatterpolargl": [
           {
            "marker": {
             "colorbar": {
              "outlinewidth": 0,
              "ticks": ""
             }
            },
            "type": "scatterpolargl"
           }
          ],
          "scatterternary": [
           {
            "marker": {
             "colorbar": {
              "outlinewidth": 0,
              "ticks": ""
             }
            },
            "type": "scatterternary"
           }
          ],
          "surface": [
           {
            "colorbar": {
             "outlinewidth": 0,
             "ticks": ""
            },
            "colorscale": [
             [
              0,
              "#0d0887"
             ],
             [
              0.1111111111111111,
              "#46039f"
             ],
             [
              0.2222222222222222,
              "#7201a8"
             ],
             [
              0.3333333333333333,
              "#9c179e"
             ],
             [
              0.4444444444444444,
              "#bd3786"
             ],
             [
              0.5555555555555556,
              "#d8576b"
             ],
             [
              0.6666666666666666,
              "#ed7953"
             ],
             [
              0.7777777777777778,
              "#fb9f3a"
             ],
             [
              0.8888888888888888,
              "#fdca26"
             ],
             [
              1,
              "#f0f921"
             ]
            ],
            "type": "surface"
           }
          ],
          "table": [
           {
            "cells": {
             "fill": {
              "color": "#EBF0F8"
             },
             "line": {
              "color": "white"
             }
            },
            "header": {
             "fill": {
              "color": "#C8D4E3"
             },
             "line": {
              "color": "white"
             }
            },
            "type": "table"
           }
          ]
         },
         "layout": {
          "annotationdefaults": {
           "arrowcolor": "#2a3f5f",
           "arrowhead": 0,
           "arrowwidth": 1
          },
          "autotypenumbers": "strict",
          "coloraxis": {
           "colorbar": {
            "outlinewidth": 0,
            "ticks": ""
           }
          },
          "colorscale": {
           "diverging": [
            [
             0,
             "#8e0152"
            ],
            [
             0.1,
             "#c51b7d"
            ],
            [
             0.2,
             "#de77ae"
            ],
            [
             0.3,
             "#f1b6da"
            ],
            [
             0.4,
             "#fde0ef"
            ],
            [
             0.5,
             "#f7f7f7"
            ],
            [
             0.6,
             "#e6f5d0"
            ],
            [
             0.7,
             "#b8e186"
            ],
            [
             0.8,
             "#7fbc41"
            ],
            [
             0.9,
             "#4d9221"
            ],
            [
             1,
             "#276419"
            ]
           ],
           "sequential": [
            [
             0,
             "#0d0887"
            ],
            [
             0.1111111111111111,
             "#46039f"
            ],
            [
             0.2222222222222222,
             "#7201a8"
            ],
            [
             0.3333333333333333,
             "#9c179e"
            ],
            [
             0.4444444444444444,
             "#bd3786"
            ],
            [
             0.5555555555555556,
             "#d8576b"
            ],
            [
             0.6666666666666666,
             "#ed7953"
            ],
            [
             0.7777777777777778,
             "#fb9f3a"
            ],
            [
             0.8888888888888888,
             "#fdca26"
            ],
            [
             1,
             "#f0f921"
            ]
           ],
           "sequentialminus": [
            [
             0,
             "#0d0887"
            ],
            [
             0.1111111111111111,
             "#46039f"
            ],
            [
             0.2222222222222222,
             "#7201a8"
            ],
            [
             0.3333333333333333,
             "#9c179e"
            ],
            [
             0.4444444444444444,
             "#bd3786"
            ],
            [
             0.5555555555555556,
             "#d8576b"
            ],
            [
             0.6666666666666666,
             "#ed7953"
            ],
            [
             0.7777777777777778,
             "#fb9f3a"
            ],
            [
             0.8888888888888888,
             "#fdca26"
            ],
            [
             1,
             "#f0f921"
            ]
           ]
          },
          "colorway": [
           "#636efa",
           "#EF553B",
           "#00cc96",
           "#ab63fa",
           "#FFA15A",
           "#19d3f3",
           "#FF6692",
           "#B6E880",
           "#FF97FF",
           "#FECB52"
          ],
          "font": {
           "color": "#2a3f5f"
          },
          "geo": {
           "bgcolor": "white",
           "lakecolor": "white",
           "landcolor": "#E5ECF6",
           "showlakes": true,
           "showland": true,
           "subunitcolor": "white"
          },
          "hoverlabel": {
           "align": "left"
          },
          "hovermode": "closest",
          "mapbox": {
           "style": "light"
          },
          "paper_bgcolor": "white",
          "plot_bgcolor": "#E5ECF6",
          "polar": {
           "angularaxis": {
            "gridcolor": "white",
            "linecolor": "white",
            "ticks": ""
           },
           "bgcolor": "#E5ECF6",
           "radialaxis": {
            "gridcolor": "white",
            "linecolor": "white",
            "ticks": ""
           }
          },
          "scene": {
           "xaxis": {
            "backgroundcolor": "#E5ECF6",
            "gridcolor": "white",
            "gridwidth": 2,
            "linecolor": "white",
            "showbackground": true,
            "ticks": "",
            "zerolinecolor": "white"
           },
           "yaxis": {
            "backgroundcolor": "#E5ECF6",
            "gridcolor": "white",
            "gridwidth": 2,
            "linecolor": "white",
            "showbackground": true,
            "ticks": "",
            "zerolinecolor": "white"
           },
           "zaxis": {
            "backgroundcolor": "#E5ECF6",
            "gridcolor": "white",
            "gridwidth": 2,
            "linecolor": "white",
            "showbackground": true,
            "ticks": "",
            "zerolinecolor": "white"
           }
          },
          "shapedefaults": {
           "line": {
            "color": "#2a3f5f"
           }
          },
          "ternary": {
           "aaxis": {
            "gridcolor": "white",
            "linecolor": "white",
            "ticks": ""
           },
           "baxis": {
            "gridcolor": "white",
            "linecolor": "white",
            "ticks": ""
           },
           "bgcolor": "#E5ECF6",
           "caxis": {
            "gridcolor": "white",
            "linecolor": "white",
            "ticks": ""
           }
          },
          "title": {
           "x": 0.05
          },
          "xaxis": {
           "automargin": true,
           "gridcolor": "white",
           "linecolor": "white",
           "ticks": "",
           "title": {
            "standoff": 15
           },
           "zerolinecolor": "white",
           "zerolinewidth": 2
          },
          "yaxis": {
           "automargin": true,
           "gridcolor": "white",
           "linecolor": "white",
           "ticks": "",
           "title": {
            "standoff": 15
           },
           "zerolinecolor": "white",
           "zerolinewidth": 2
          }
         }
        },
        "title": {
         "text": "Detalhes de Tempo",
         "x": 0.5
        },
        "xaxis": {
         "anchor": "y",
         "categoryorder": "category ascending",
         "domain": [
          0,
          1
         ],
         "tickfont": {
          "color": "gray"
         },
         "tickvals": [
          1,
          2,
          3,
          4,
          5,
          6,
          7,
          8,
          9,
          10,
          11,
          12,
          13,
          14
         ],
         "title": {
          "text": "Linha"
         }
        },
        "yaxis": {
         "anchor": "x",
         "domain": [
          0,
          1
         ],
         "tickfont": {
          "color": "gray"
         },
         "title": {
          "text": "Tempo (min)"
         }
        }
       }
      }
     },
     "metadata": {},
     "output_type": "display_data"
    }
   ],
   "source": [
    "chart_details_2 = bar_chart_details.create_bar_chart_details(\n",
    "    df_maq_stopped.copy(),\n",
    "    IndicatorType.EFFICIENCY,\n",
    "    working=df_time_working.copy(),\n",
    "    choice=\"problema\",\n",
    ")\n",
    "chart_details_2"
   ]
  },
  {
   "cell_type": "code",
   "execution_count": 46,
   "metadata": {},
   "outputs": [
    {
     "data": {
      "application/vnd.plotly.v1+json": {
       "config": {
        "plotlyServerURL": "https://plot.ly"
       },
       "data": [
        {
         "alignmentgroup": "True",
         "hovertemplate": "Causa=Não apontado<br>Linha=%{x}<br>Tempo (min)=%{y}<extra></extra>",
         "legendgroup": "Não apontado",
         "marker": {
          "color": "#1f77b4",
          "pattern": {
           "shape": ""
          }
         },
         "name": "Não apontado",
         "offsetgroup": "Não apontado",
         "orientation": "v",
         "showlegend": true,
         "textposition": "auto",
         "type": "bar",
         "x": [
          1,
          1,
          2,
          3,
          4,
          5,
          6,
          7,
          8,
          9,
          10,
          10,
          11,
          11,
          12,
          12,
          13,
          13,
          14,
          14
         ],
         "xaxis": "x",
         "y": [
          480,
          480,
          480,
          480,
          480,
          480,
          480,
          480,
          480,
          480,
          480,
          480,
          480,
          480,
          480,
          480,
          480,
          480,
          480,
          480
         ],
         "yaxis": "y"
        },
        {
         "alignmentgroup": "True",
         "hovertemplate": "Causa=Troca de Bobina Inferior<br>Linha=%{x}<br>Tempo (min)=%{y}<extra></extra>",
         "legendgroup": "Troca de Bobina Inferior",
         "marker": {
          "color": "#aec7e8",
          "pattern": {
           "shape": ""
          }
         },
         "name": "Troca de Bobina Inferior",
         "offsetgroup": "Troca de Bobina Inferior",
         "orientation": "v",
         "showlegend": true,
         "textposition": "auto",
         "type": "bar",
         "x": [
          2,
          4,
          7
         ],
         "xaxis": "x",
         "y": [
          480,
          480,
          480
         ],
         "yaxis": "y"
        },
        {
         "alignmentgroup": "True",
         "hovertemplate": "Causa=Backup<br>Linha=%{x}<br>Tempo (min)=%{y}<extra></extra>",
         "legendgroup": "Backup",
         "marker": {
          "color": "#ff7f0e",
          "pattern": {
           "shape": ""
          }
         },
         "name": "Backup",
         "offsetgroup": "Backup",
         "orientation": "v",
         "showlegend": true,
         "textposition": "auto",
         "type": "bar",
         "x": [
          3,
          9
         ],
         "xaxis": "x",
         "y": [
          16,
          480
         ],
         "yaxis": "y"
        },
        {
         "alignmentgroup": "True",
         "hovertemplate": "Causa=Esquadro da bandeja inadequado<br>Linha=%{x}<br>Tempo (min)=%{y}<extra></extra>",
         "legendgroup": "Esquadro da bandeja inadequado",
         "marker": {
          "color": "#ffbb78",
          "pattern": {
           "shape": ""
          }
         },
         "name": "Esquadro da bandeja inadequado",
         "offsetgroup": "Esquadro da bandeja inadequado",
         "orientation": "v",
         "showlegend": true,
         "textposition": "auto",
         "type": "bar",
         "x": [
          3
         ],
         "xaxis": "x",
         "y": [
          463
         ],
         "yaxis": "y"
        },
        {
         "alignmentgroup": "True",
         "hovertemplate": "Causa=Data fora de posição<br>Linha=%{x}<br>Tempo (min)=%{y}<extra></extra>",
         "legendgroup": "Data fora de posição",
         "marker": {
          "color": "#2ca02c",
          "pattern": {
           "shape": ""
          }
         },
         "name": "Data fora de posição",
         "offsetgroup": "Data fora de posição",
         "orientation": "v",
         "showlegend": true,
         "textposition": "auto",
         "type": "bar",
         "x": [
          5
         ],
         "xaxis": "x",
         "y": [
          480
         ],
         "yaxis": "y"
        },
        {
         "alignmentgroup": "True",
         "hovertemplate": "Causa=Sem Produção<br>Linha=%{x}<br>Tempo (min)=%{y}<extra></extra>",
         "legendgroup": "Sem Produção",
         "marker": {
          "color": "#98df8a",
          "pattern": {
           "shape": ""
          }
         },
         "name": "Sem Produção",
         "offsetgroup": "Sem Produção",
         "orientation": "v",
         "showlegend": true,
         "textposition": "auto",
         "type": "bar",
         "x": [
          6
         ],
         "xaxis": "x",
         "y": [
          480
         ],
         "yaxis": "y"
        }
       ],
       "layout": {
        "barmode": "stack",
        "legend": {
         "title": {
          "text": "Causa"
         },
         "tracegroupgap": 0
        },
        "margin": {
         "b": 40,
         "l": 40,
         "r": 40,
         "t": 40
        },
        "plot_bgcolor": "RGBA(0,0,0,0.01)",
        "template": {
         "data": {
          "bar": [
           {
            "error_x": {
             "color": "#2a3f5f"
            },
            "error_y": {
             "color": "#2a3f5f"
            },
            "marker": {
             "line": {
              "color": "#E5ECF6",
              "width": 0.5
             },
             "pattern": {
              "fillmode": "overlay",
              "size": 10,
              "solidity": 0.2
             }
            },
            "type": "bar"
           }
          ],
          "barpolar": [
           {
            "marker": {
             "line": {
              "color": "#E5ECF6",
              "width": 0.5
             },
             "pattern": {
              "fillmode": "overlay",
              "size": 10,
              "solidity": 0.2
             }
            },
            "type": "barpolar"
           }
          ],
          "carpet": [
           {
            "aaxis": {
             "endlinecolor": "#2a3f5f",
             "gridcolor": "white",
             "linecolor": "white",
             "minorgridcolor": "white",
             "startlinecolor": "#2a3f5f"
            },
            "baxis": {
             "endlinecolor": "#2a3f5f",
             "gridcolor": "white",
             "linecolor": "white",
             "minorgridcolor": "white",
             "startlinecolor": "#2a3f5f"
            },
            "type": "carpet"
           }
          ],
          "choropleth": [
           {
            "colorbar": {
             "outlinewidth": 0,
             "ticks": ""
            },
            "type": "choropleth"
           }
          ],
          "contour": [
           {
            "colorbar": {
             "outlinewidth": 0,
             "ticks": ""
            },
            "colorscale": [
             [
              0,
              "#0d0887"
             ],
             [
              0.1111111111111111,
              "#46039f"
             ],
             [
              0.2222222222222222,
              "#7201a8"
             ],
             [
              0.3333333333333333,
              "#9c179e"
             ],
             [
              0.4444444444444444,
              "#bd3786"
             ],
             [
              0.5555555555555556,
              "#d8576b"
             ],
             [
              0.6666666666666666,
              "#ed7953"
             ],
             [
              0.7777777777777778,
              "#fb9f3a"
             ],
             [
              0.8888888888888888,
              "#fdca26"
             ],
             [
              1,
              "#f0f921"
             ]
            ],
            "type": "contour"
           }
          ],
          "contourcarpet": [
           {
            "colorbar": {
             "outlinewidth": 0,
             "ticks": ""
            },
            "type": "contourcarpet"
           }
          ],
          "heatmap": [
           {
            "colorbar": {
             "outlinewidth": 0,
             "ticks": ""
            },
            "colorscale": [
             [
              0,
              "#0d0887"
             ],
             [
              0.1111111111111111,
              "#46039f"
             ],
             [
              0.2222222222222222,
              "#7201a8"
             ],
             [
              0.3333333333333333,
              "#9c179e"
             ],
             [
              0.4444444444444444,
              "#bd3786"
             ],
             [
              0.5555555555555556,
              "#d8576b"
             ],
             [
              0.6666666666666666,
              "#ed7953"
             ],
             [
              0.7777777777777778,
              "#fb9f3a"
             ],
             [
              0.8888888888888888,
              "#fdca26"
             ],
             [
              1,
              "#f0f921"
             ]
            ],
            "type": "heatmap"
           }
          ],
          "heatmapgl": [
           {
            "colorbar": {
             "outlinewidth": 0,
             "ticks": ""
            },
            "colorscale": [
             [
              0,
              "#0d0887"
             ],
             [
              0.1111111111111111,
              "#46039f"
             ],
             [
              0.2222222222222222,
              "#7201a8"
             ],
             [
              0.3333333333333333,
              "#9c179e"
             ],
             [
              0.4444444444444444,
              "#bd3786"
             ],
             [
              0.5555555555555556,
              "#d8576b"
             ],
             [
              0.6666666666666666,
              "#ed7953"
             ],
             [
              0.7777777777777778,
              "#fb9f3a"
             ],
             [
              0.8888888888888888,
              "#fdca26"
             ],
             [
              1,
              "#f0f921"
             ]
            ],
            "type": "heatmapgl"
           }
          ],
          "histogram": [
           {
            "marker": {
             "pattern": {
              "fillmode": "overlay",
              "size": 10,
              "solidity": 0.2
             }
            },
            "type": "histogram"
           }
          ],
          "histogram2d": [
           {
            "colorbar": {
             "outlinewidth": 0,
             "ticks": ""
            },
            "colorscale": [
             [
              0,
              "#0d0887"
             ],
             [
              0.1111111111111111,
              "#46039f"
             ],
             [
              0.2222222222222222,
              "#7201a8"
             ],
             [
              0.3333333333333333,
              "#9c179e"
             ],
             [
              0.4444444444444444,
              "#bd3786"
             ],
             [
              0.5555555555555556,
              "#d8576b"
             ],
             [
              0.6666666666666666,
              "#ed7953"
             ],
             [
              0.7777777777777778,
              "#fb9f3a"
             ],
             [
              0.8888888888888888,
              "#fdca26"
             ],
             [
              1,
              "#f0f921"
             ]
            ],
            "type": "histogram2d"
           }
          ],
          "histogram2dcontour": [
           {
            "colorbar": {
             "outlinewidth": 0,
             "ticks": ""
            },
            "colorscale": [
             [
              0,
              "#0d0887"
             ],
             [
              0.1111111111111111,
              "#46039f"
             ],
             [
              0.2222222222222222,
              "#7201a8"
             ],
             [
              0.3333333333333333,
              "#9c179e"
             ],
             [
              0.4444444444444444,
              "#bd3786"
             ],
             [
              0.5555555555555556,
              "#d8576b"
             ],
             [
              0.6666666666666666,
              "#ed7953"
             ],
             [
              0.7777777777777778,
              "#fb9f3a"
             ],
             [
              0.8888888888888888,
              "#fdca26"
             ],
             [
              1,
              "#f0f921"
             ]
            ],
            "type": "histogram2dcontour"
           }
          ],
          "mesh3d": [
           {
            "colorbar": {
             "outlinewidth": 0,
             "ticks": ""
            },
            "type": "mesh3d"
           }
          ],
          "parcoords": [
           {
            "line": {
             "colorbar": {
              "outlinewidth": 0,
              "ticks": ""
             }
            },
            "type": "parcoords"
           }
          ],
          "pie": [
           {
            "automargin": true,
            "type": "pie"
           }
          ],
          "scatter": [
           {
            "fillpattern": {
             "fillmode": "overlay",
             "size": 10,
             "solidity": 0.2
            },
            "type": "scatter"
           }
          ],
          "scatter3d": [
           {
            "line": {
             "colorbar": {
              "outlinewidth": 0,
              "ticks": ""
             }
            },
            "marker": {
             "colorbar": {
              "outlinewidth": 0,
              "ticks": ""
             }
            },
            "type": "scatter3d"
           }
          ],
          "scattercarpet": [
           {
            "marker": {
             "colorbar": {
              "outlinewidth": 0,
              "ticks": ""
             }
            },
            "type": "scattercarpet"
           }
          ],
          "scattergeo": [
           {
            "marker": {
             "colorbar": {
              "outlinewidth": 0,
              "ticks": ""
             }
            },
            "type": "scattergeo"
           }
          ],
          "scattergl": [
           {
            "marker": {
             "colorbar": {
              "outlinewidth": 0,
              "ticks": ""
             }
            },
            "type": "scattergl"
           }
          ],
          "scattermapbox": [
           {
            "marker": {
             "colorbar": {
              "outlinewidth": 0,
              "ticks": ""
             }
            },
            "type": "scattermapbox"
           }
          ],
          "scatterpolar": [
           {
            "marker": {
             "colorbar": {
              "outlinewidth": 0,
              "ticks": ""
             }
            },
            "type": "scatterpolar"
           }
          ],
          "scatterpolargl": [
           {
            "marker": {
             "colorbar": {
              "outlinewidth": 0,
              "ticks": ""
             }
            },
            "type": "scatterpolargl"
           }
          ],
          "scatterternary": [
           {
            "marker": {
             "colorbar": {
              "outlinewidth": 0,
              "ticks": ""
             }
            },
            "type": "scatterternary"
           }
          ],
          "surface": [
           {
            "colorbar": {
             "outlinewidth": 0,
             "ticks": ""
            },
            "colorscale": [
             [
              0,
              "#0d0887"
             ],
             [
              0.1111111111111111,
              "#46039f"
             ],
             [
              0.2222222222222222,
              "#7201a8"
             ],
             [
              0.3333333333333333,
              "#9c179e"
             ],
             [
              0.4444444444444444,
              "#bd3786"
             ],
             [
              0.5555555555555556,
              "#d8576b"
             ],
             [
              0.6666666666666666,
              "#ed7953"
             ],
             [
              0.7777777777777778,
              "#fb9f3a"
             ],
             [
              0.8888888888888888,
              "#fdca26"
             ],
             [
              1,
              "#f0f921"
             ]
            ],
            "type": "surface"
           }
          ],
          "table": [
           {
            "cells": {
             "fill": {
              "color": "#EBF0F8"
             },
             "line": {
              "color": "white"
             }
            },
            "header": {
             "fill": {
              "color": "#C8D4E3"
             },
             "line": {
              "color": "white"
             }
            },
            "type": "table"
           }
          ]
         },
         "layout": {
          "annotationdefaults": {
           "arrowcolor": "#2a3f5f",
           "arrowhead": 0,
           "arrowwidth": 1
          },
          "autotypenumbers": "strict",
          "coloraxis": {
           "colorbar": {
            "outlinewidth": 0,
            "ticks": ""
           }
          },
          "colorscale": {
           "diverging": [
            [
             0,
             "#8e0152"
            ],
            [
             0.1,
             "#c51b7d"
            ],
            [
             0.2,
             "#de77ae"
            ],
            [
             0.3,
             "#f1b6da"
            ],
            [
             0.4,
             "#fde0ef"
            ],
            [
             0.5,
             "#f7f7f7"
            ],
            [
             0.6,
             "#e6f5d0"
            ],
            [
             0.7,
             "#b8e186"
            ],
            [
             0.8,
             "#7fbc41"
            ],
            [
             0.9,
             "#4d9221"
            ],
            [
             1,
             "#276419"
            ]
           ],
           "sequential": [
            [
             0,
             "#0d0887"
            ],
            [
             0.1111111111111111,
             "#46039f"
            ],
            [
             0.2222222222222222,
             "#7201a8"
            ],
            [
             0.3333333333333333,
             "#9c179e"
            ],
            [
             0.4444444444444444,
             "#bd3786"
            ],
            [
             0.5555555555555556,
             "#d8576b"
            ],
            [
             0.6666666666666666,
             "#ed7953"
            ],
            [
             0.7777777777777778,
             "#fb9f3a"
            ],
            [
             0.8888888888888888,
             "#fdca26"
            ],
            [
             1,
             "#f0f921"
            ]
           ],
           "sequentialminus": [
            [
             0,
             "#0d0887"
            ],
            [
             0.1111111111111111,
             "#46039f"
            ],
            [
             0.2222222222222222,
             "#7201a8"
            ],
            [
             0.3333333333333333,
             "#9c179e"
            ],
            [
             0.4444444444444444,
             "#bd3786"
            ],
            [
             0.5555555555555556,
             "#d8576b"
            ],
            [
             0.6666666666666666,
             "#ed7953"
            ],
            [
             0.7777777777777778,
             "#fb9f3a"
            ],
            [
             0.8888888888888888,
             "#fdca26"
            ],
            [
             1,
             "#f0f921"
            ]
           ]
          },
          "colorway": [
           "#636efa",
           "#EF553B",
           "#00cc96",
           "#ab63fa",
           "#FFA15A",
           "#19d3f3",
           "#FF6692",
           "#B6E880",
           "#FF97FF",
           "#FECB52"
          ],
          "font": {
           "color": "#2a3f5f"
          },
          "geo": {
           "bgcolor": "white",
           "lakecolor": "white",
           "landcolor": "#E5ECF6",
           "showlakes": true,
           "showland": true,
           "subunitcolor": "white"
          },
          "hoverlabel": {
           "align": "left"
          },
          "hovermode": "closest",
          "mapbox": {
           "style": "light"
          },
          "paper_bgcolor": "white",
          "plot_bgcolor": "#E5ECF6",
          "polar": {
           "angularaxis": {
            "gridcolor": "white",
            "linecolor": "white",
            "ticks": ""
           },
           "bgcolor": "#E5ECF6",
           "radialaxis": {
            "gridcolor": "white",
            "linecolor": "white",
            "ticks": ""
           }
          },
          "scene": {
           "xaxis": {
            "backgroundcolor": "#E5ECF6",
            "gridcolor": "white",
            "gridwidth": 2,
            "linecolor": "white",
            "showbackground": true,
            "ticks": "",
            "zerolinecolor": "white"
           },
           "yaxis": {
            "backgroundcolor": "#E5ECF6",
            "gridcolor": "white",
            "gridwidth": 2,
            "linecolor": "white",
            "showbackground": true,
            "ticks": "",
            "zerolinecolor": "white"
           },
           "zaxis": {
            "backgroundcolor": "#E5ECF6",
            "gridcolor": "white",
            "gridwidth": 2,
            "linecolor": "white",
            "showbackground": true,
            "ticks": "",
            "zerolinecolor": "white"
           }
          },
          "shapedefaults": {
           "line": {
            "color": "#2a3f5f"
           }
          },
          "ternary": {
           "aaxis": {
            "gridcolor": "white",
            "linecolor": "white",
            "ticks": ""
           },
           "baxis": {
            "gridcolor": "white",
            "linecolor": "white",
            "ticks": ""
           },
           "bgcolor": "#E5ECF6",
           "caxis": {
            "gridcolor": "white",
            "linecolor": "white",
            "ticks": ""
           }
          },
          "title": {
           "x": 0.05
          },
          "xaxis": {
           "automargin": true,
           "gridcolor": "white",
           "linecolor": "white",
           "ticks": "",
           "title": {
            "standoff": 15
           },
           "zerolinecolor": "white",
           "zerolinewidth": 2
          },
          "yaxis": {
           "automargin": true,
           "gridcolor": "white",
           "linecolor": "white",
           "ticks": "",
           "title": {
            "standoff": 15
           },
           "zerolinecolor": "white",
           "zerolinewidth": 2
          }
         }
        },
        "title": {
         "text": "Detalhes de Tempo",
         "x": 0.5
        },
        "xaxis": {
         "anchor": "y",
         "categoryorder": "category ascending",
         "domain": [
          0,
          1
         ],
         "tickfont": {
          "color": "gray"
         },
         "tickvals": [
          1,
          2,
          3,
          4,
          5,
          6,
          7,
          8,
          9,
          10,
          11,
          12,
          13,
          14
         ],
         "title": {
          "text": "Linha"
         }
        },
        "yaxis": {
         "anchor": "x",
         "domain": [
          0,
          1
         ],
         "tickfont": {
          "color": "gray"
         },
         "title": {
          "text": "Tempo (min)"
         }
        }
       }
      }
     },
     "metadata": {},
     "output_type": "display_data"
    }
   ],
   "source": [
    "chart_details_3 = bar_chart_details.create_bar_chart_details(\n",
    "    df_maq_stopped.copy(),\n",
    "    IndicatorType.EFFICIENCY,\n",
    "    working=df_time_working.copy(),\n",
    "    choice=\"causa\",\n",
    ")\n",
    "chart_details_3"
   ]
  },
  {
   "cell_type": "code",
   "execution_count": 47,
   "metadata": {},
   "outputs": [
    {
     "data": {
      "application/vnd.plotly.v1+json": {
       "config": {
        "plotlyServerURL": "https://plot.ly"
       },
       "data": [
        {
         "alignmentgroup": "True",
         "hovertemplate": "Equipamento=Termoformadora<br>Linha=%{x}<br>Tempo (min)=%{y}<extra></extra>",
         "legendgroup": "Termoformadora",
         "marker": {
          "color": "#aec7e8",
          "pattern": {
           "shape": ""
          }
         },
         "name": "Termoformadora",
         "offsetgroup": "Termoformadora",
         "orientation": "v",
         "showlegend": true,
         "textposition": "auto",
         "type": "bar",
         "x": [
          2,
          3,
          4,
          5,
          7
         ],
         "xaxis": "x",
         "y": [
          480,
          463,
          480,
          480,
          480
         ],
         "yaxis": "y"
        }
       ],
       "layout": {
        "barmode": "stack",
        "legend": {
         "title": {
          "text": "Equipamento"
         },
         "tracegroupgap": 0
        },
        "margin": {
         "b": 40,
         "l": 40,
         "r": 40,
         "t": 40
        },
        "plot_bgcolor": "RGBA(0,0,0,0.01)",
        "template": {
         "data": {
          "bar": [
           {
            "error_x": {
             "color": "#2a3f5f"
            },
            "error_y": {
             "color": "#2a3f5f"
            },
            "marker": {
             "line": {
              "color": "#E5ECF6",
              "width": 0.5
             },
             "pattern": {
              "fillmode": "overlay",
              "size": 10,
              "solidity": 0.2
             }
            },
            "type": "bar"
           }
          ],
          "barpolar": [
           {
            "marker": {
             "line": {
              "color": "#E5ECF6",
              "width": 0.5
             },
             "pattern": {
              "fillmode": "overlay",
              "size": 10,
              "solidity": 0.2
             }
            },
            "type": "barpolar"
           }
          ],
          "carpet": [
           {
            "aaxis": {
             "endlinecolor": "#2a3f5f",
             "gridcolor": "white",
             "linecolor": "white",
             "minorgridcolor": "white",
             "startlinecolor": "#2a3f5f"
            },
            "baxis": {
             "endlinecolor": "#2a3f5f",
             "gridcolor": "white",
             "linecolor": "white",
             "minorgridcolor": "white",
             "startlinecolor": "#2a3f5f"
            },
            "type": "carpet"
           }
          ],
          "choropleth": [
           {
            "colorbar": {
             "outlinewidth": 0,
             "ticks": ""
            },
            "type": "choropleth"
           }
          ],
          "contour": [
           {
            "colorbar": {
             "outlinewidth": 0,
             "ticks": ""
            },
            "colorscale": [
             [
              0,
              "#0d0887"
             ],
             [
              0.1111111111111111,
              "#46039f"
             ],
             [
              0.2222222222222222,
              "#7201a8"
             ],
             [
              0.3333333333333333,
              "#9c179e"
             ],
             [
              0.4444444444444444,
              "#bd3786"
             ],
             [
              0.5555555555555556,
              "#d8576b"
             ],
             [
              0.6666666666666666,
              "#ed7953"
             ],
             [
              0.7777777777777778,
              "#fb9f3a"
             ],
             [
              0.8888888888888888,
              "#fdca26"
             ],
             [
              1,
              "#f0f921"
             ]
            ],
            "type": "contour"
           }
          ],
          "contourcarpet": [
           {
            "colorbar": {
             "outlinewidth": 0,
             "ticks": ""
            },
            "type": "contourcarpet"
           }
          ],
          "heatmap": [
           {
            "colorbar": {
             "outlinewidth": 0,
             "ticks": ""
            },
            "colorscale": [
             [
              0,
              "#0d0887"
             ],
             [
              0.1111111111111111,
              "#46039f"
             ],
             [
              0.2222222222222222,
              "#7201a8"
             ],
             [
              0.3333333333333333,
              "#9c179e"
             ],
             [
              0.4444444444444444,
              "#bd3786"
             ],
             [
              0.5555555555555556,
              "#d8576b"
             ],
             [
              0.6666666666666666,
              "#ed7953"
             ],
             [
              0.7777777777777778,
              "#fb9f3a"
             ],
             [
              0.8888888888888888,
              "#fdca26"
             ],
             [
              1,
              "#f0f921"
             ]
            ],
            "type": "heatmap"
           }
          ],
          "heatmapgl": [
           {
            "colorbar": {
             "outlinewidth": 0,
             "ticks": ""
            },
            "colorscale": [
             [
              0,
              "#0d0887"
             ],
             [
              0.1111111111111111,
              "#46039f"
             ],
             [
              0.2222222222222222,
              "#7201a8"
             ],
             [
              0.3333333333333333,
              "#9c179e"
             ],
             [
              0.4444444444444444,
              "#bd3786"
             ],
             [
              0.5555555555555556,
              "#d8576b"
             ],
             [
              0.6666666666666666,
              "#ed7953"
             ],
             [
              0.7777777777777778,
              "#fb9f3a"
             ],
             [
              0.8888888888888888,
              "#fdca26"
             ],
             [
              1,
              "#f0f921"
             ]
            ],
            "type": "heatmapgl"
           }
          ],
          "histogram": [
           {
            "marker": {
             "pattern": {
              "fillmode": "overlay",
              "size": 10,
              "solidity": 0.2
             }
            },
            "type": "histogram"
           }
          ],
          "histogram2d": [
           {
            "colorbar": {
             "outlinewidth": 0,
             "ticks": ""
            },
            "colorscale": [
             [
              0,
              "#0d0887"
             ],
             [
              0.1111111111111111,
              "#46039f"
             ],
             [
              0.2222222222222222,
              "#7201a8"
             ],
             [
              0.3333333333333333,
              "#9c179e"
             ],
             [
              0.4444444444444444,
              "#bd3786"
             ],
             [
              0.5555555555555556,
              "#d8576b"
             ],
             [
              0.6666666666666666,
              "#ed7953"
             ],
             [
              0.7777777777777778,
              "#fb9f3a"
             ],
             [
              0.8888888888888888,
              "#fdca26"
             ],
             [
              1,
              "#f0f921"
             ]
            ],
            "type": "histogram2d"
           }
          ],
          "histogram2dcontour": [
           {
            "colorbar": {
             "outlinewidth": 0,
             "ticks": ""
            },
            "colorscale": [
             [
              0,
              "#0d0887"
             ],
             [
              0.1111111111111111,
              "#46039f"
             ],
             [
              0.2222222222222222,
              "#7201a8"
             ],
             [
              0.3333333333333333,
              "#9c179e"
             ],
             [
              0.4444444444444444,
              "#bd3786"
             ],
             [
              0.5555555555555556,
              "#d8576b"
             ],
             [
              0.6666666666666666,
              "#ed7953"
             ],
             [
              0.7777777777777778,
              "#fb9f3a"
             ],
             [
              0.8888888888888888,
              "#fdca26"
             ],
             [
              1,
              "#f0f921"
             ]
            ],
            "type": "histogram2dcontour"
           }
          ],
          "mesh3d": [
           {
            "colorbar": {
             "outlinewidth": 0,
             "ticks": ""
            },
            "type": "mesh3d"
           }
          ],
          "parcoords": [
           {
            "line": {
             "colorbar": {
              "outlinewidth": 0,
              "ticks": ""
             }
            },
            "type": "parcoords"
           }
          ],
          "pie": [
           {
            "automargin": true,
            "type": "pie"
           }
          ],
          "scatter": [
           {
            "fillpattern": {
             "fillmode": "overlay",
             "size": 10,
             "solidity": 0.2
            },
            "type": "scatter"
           }
          ],
          "scatter3d": [
           {
            "line": {
             "colorbar": {
              "outlinewidth": 0,
              "ticks": ""
             }
            },
            "marker": {
             "colorbar": {
              "outlinewidth": 0,
              "ticks": ""
             }
            },
            "type": "scatter3d"
           }
          ],
          "scattercarpet": [
           {
            "marker": {
             "colorbar": {
              "outlinewidth": 0,
              "ticks": ""
             }
            },
            "type": "scattercarpet"
           }
          ],
          "scattergeo": [
           {
            "marker": {
             "colorbar": {
              "outlinewidth": 0,
              "ticks": ""
             }
            },
            "type": "scattergeo"
           }
          ],
          "scattergl": [
           {
            "marker": {
             "colorbar": {
              "outlinewidth": 0,
              "ticks": ""
             }
            },
            "type": "scattergl"
           }
          ],
          "scattermapbox": [
           {
            "marker": {
             "colorbar": {
              "outlinewidth": 0,
              "ticks": ""
             }
            },
            "type": "scattermapbox"
           }
          ],
          "scatterpolar": [
           {
            "marker": {
             "colorbar": {
              "outlinewidth": 0,
              "ticks": ""
             }
            },
            "type": "scatterpolar"
           }
          ],
          "scatterpolargl": [
           {
            "marker": {
             "colorbar": {
              "outlinewidth": 0,
              "ticks": ""
             }
            },
            "type": "scatterpolargl"
           }
          ],
          "scatterternary": [
           {
            "marker": {
             "colorbar": {
              "outlinewidth": 0,
              "ticks": ""
             }
            },
            "type": "scatterternary"
           }
          ],
          "surface": [
           {
            "colorbar": {
             "outlinewidth": 0,
             "ticks": ""
            },
            "colorscale": [
             [
              0,
              "#0d0887"
             ],
             [
              0.1111111111111111,
              "#46039f"
             ],
             [
              0.2222222222222222,
              "#7201a8"
             ],
             [
              0.3333333333333333,
              "#9c179e"
             ],
             [
              0.4444444444444444,
              "#bd3786"
             ],
             [
              0.5555555555555556,
              "#d8576b"
             ],
             [
              0.6666666666666666,
              "#ed7953"
             ],
             [
              0.7777777777777778,
              "#fb9f3a"
             ],
             [
              0.8888888888888888,
              "#fdca26"
             ],
             [
              1,
              "#f0f921"
             ]
            ],
            "type": "surface"
           }
          ],
          "table": [
           {
            "cells": {
             "fill": {
              "color": "#EBF0F8"
             },
             "line": {
              "color": "white"
             }
            },
            "header": {
             "fill": {
              "color": "#C8D4E3"
             },
             "line": {
              "color": "white"
             }
            },
            "type": "table"
           }
          ]
         },
         "layout": {
          "annotationdefaults": {
           "arrowcolor": "#2a3f5f",
           "arrowhead": 0,
           "arrowwidth": 1
          },
          "autotypenumbers": "strict",
          "coloraxis": {
           "colorbar": {
            "outlinewidth": 0,
            "ticks": ""
           }
          },
          "colorscale": {
           "diverging": [
            [
             0,
             "#8e0152"
            ],
            [
             0.1,
             "#c51b7d"
            ],
            [
             0.2,
             "#de77ae"
            ],
            [
             0.3,
             "#f1b6da"
            ],
            [
             0.4,
             "#fde0ef"
            ],
            [
             0.5,
             "#f7f7f7"
            ],
            [
             0.6,
             "#e6f5d0"
            ],
            [
             0.7,
             "#b8e186"
            ],
            [
             0.8,
             "#7fbc41"
            ],
            [
             0.9,
             "#4d9221"
            ],
            [
             1,
             "#276419"
            ]
           ],
           "sequential": [
            [
             0,
             "#0d0887"
            ],
            [
             0.1111111111111111,
             "#46039f"
            ],
            [
             0.2222222222222222,
             "#7201a8"
            ],
            [
             0.3333333333333333,
             "#9c179e"
            ],
            [
             0.4444444444444444,
             "#bd3786"
            ],
            [
             0.5555555555555556,
             "#d8576b"
            ],
            [
             0.6666666666666666,
             "#ed7953"
            ],
            [
             0.7777777777777778,
             "#fb9f3a"
            ],
            [
             0.8888888888888888,
             "#fdca26"
            ],
            [
             1,
             "#f0f921"
            ]
           ],
           "sequentialminus": [
            [
             0,
             "#0d0887"
            ],
            [
             0.1111111111111111,
             "#46039f"
            ],
            [
             0.2222222222222222,
             "#7201a8"
            ],
            [
             0.3333333333333333,
             "#9c179e"
            ],
            [
             0.4444444444444444,
             "#bd3786"
            ],
            [
             0.5555555555555556,
             "#d8576b"
            ],
            [
             0.6666666666666666,
             "#ed7953"
            ],
            [
             0.7777777777777778,
             "#fb9f3a"
            ],
            [
             0.8888888888888888,
             "#fdca26"
            ],
            [
             1,
             "#f0f921"
            ]
           ]
          },
          "colorway": [
           "#636efa",
           "#EF553B",
           "#00cc96",
           "#ab63fa",
           "#FFA15A",
           "#19d3f3",
           "#FF6692",
           "#B6E880",
           "#FF97FF",
           "#FECB52"
          ],
          "font": {
           "color": "#2a3f5f"
          },
          "geo": {
           "bgcolor": "white",
           "lakecolor": "white",
           "landcolor": "#E5ECF6",
           "showlakes": true,
           "showland": true,
           "subunitcolor": "white"
          },
          "hoverlabel": {
           "align": "left"
          },
          "hovermode": "closest",
          "mapbox": {
           "style": "light"
          },
          "paper_bgcolor": "white",
          "plot_bgcolor": "#E5ECF6",
          "polar": {
           "angularaxis": {
            "gridcolor": "white",
            "linecolor": "white",
            "ticks": ""
           },
           "bgcolor": "#E5ECF6",
           "radialaxis": {
            "gridcolor": "white",
            "linecolor": "white",
            "ticks": ""
           }
          },
          "scene": {
           "xaxis": {
            "backgroundcolor": "#E5ECF6",
            "gridcolor": "white",
            "gridwidth": 2,
            "linecolor": "white",
            "showbackground": true,
            "ticks": "",
            "zerolinecolor": "white"
           },
           "yaxis": {
            "backgroundcolor": "#E5ECF6",
            "gridcolor": "white",
            "gridwidth": 2,
            "linecolor": "white",
            "showbackground": true,
            "ticks": "",
            "zerolinecolor": "white"
           },
           "zaxis": {
            "backgroundcolor": "#E5ECF6",
            "gridcolor": "white",
            "gridwidth": 2,
            "linecolor": "white",
            "showbackground": true,
            "ticks": "",
            "zerolinecolor": "white"
           }
          },
          "shapedefaults": {
           "line": {
            "color": "#2a3f5f"
           }
          },
          "ternary": {
           "aaxis": {
            "gridcolor": "white",
            "linecolor": "white",
            "ticks": ""
           },
           "baxis": {
            "gridcolor": "white",
            "linecolor": "white",
            "ticks": ""
           },
           "bgcolor": "#E5ECF6",
           "caxis": {
            "gridcolor": "white",
            "linecolor": "white",
            "ticks": ""
           }
          },
          "title": {
           "x": 0.05
          },
          "xaxis": {
           "automargin": true,
           "gridcolor": "white",
           "linecolor": "white",
           "ticks": "",
           "title": {
            "standoff": 15
           },
           "zerolinecolor": "white",
           "zerolinewidth": 2
          },
          "yaxis": {
           "automargin": true,
           "gridcolor": "white",
           "linecolor": "white",
           "ticks": "",
           "title": {
            "standoff": 15
           },
           "zerolinecolor": "white",
           "zerolinewidth": 2
          }
         }
        },
        "title": {
         "text": "Detalhes de Tempo",
         "x": 0.5
        },
        "xaxis": {
         "anchor": "y",
         "categoryorder": "category ascending",
         "domain": [
          0,
          1
         ],
         "tickfont": {
          "color": "gray"
         },
         "tickvals": [
          1,
          2,
          3,
          4,
          5,
          6,
          7,
          8,
          9,
          10,
          11,
          12,
          13,
          14
         ],
         "title": {
          "text": "Linha"
         }
        },
        "yaxis": {
         "anchor": "x",
         "domain": [
          0,
          1
         ],
         "tickfont": {
          "color": "gray"
         },
         "title": {
          "text": "Tempo (min)"
         }
        }
       }
      }
     },
     "metadata": {},
     "output_type": "display_data"
    }
   ],
   "source": [
    "chart_details_4 = bar_chart_details.create_bar_chart_details(\n",
    "    df_maq_stopped.copy(),\n",
    "    IndicatorType.EFFICIENCY,\n",
    "    working=df_time_working.copy(),\n",
    "    choice=\"equipamento\",\n",
    ")\n",
    "chart_details_4"
   ]
  },
  {
   "cell_type": "code",
   "execution_count": 48,
   "metadata": {},
   "outputs": [],
   "source": [
    "class SunburstTest:\n",
    "    \"\"\"\n",
    "    Represents a class for creating bar chart details based on provided data.\n",
    "    \"\"\"\n",
    "\n",
    "    def __init__(self, df_maq_stopped: pd.DataFrame, df_production: pd.DataFrame):\n",
    "        self.df_indicator = DFIndicators(df_maq_stopped, df_production)\n",
    "\n",
    "    def create_icicle_details(\n",
    "        self,\n",
    "        dataframe: pd.DataFrame,\n",
    "        indicator: IndicatorType,\n",
    "        turn: str = None,\n",
    "        selected_data: str = None,\n",
    "        working: pd.DataFrame = None,\n",
    "    ):\n",
    "\n",
    "        df = self.df_indicator.adjust_df_for_bar_lost(dataframe, indicator)\n",
    "\n",
    "        # Garante que data_registro tenha apenas o dia\n",
    "        df[\"data_registro\"] = pd.to_datetime(df[\"data_registro\"]).dt.date\n",
    "\n",
    "        # Filtro pelo dia, caso tenha sido selecionado\n",
    "        df = (\n",
    "            df[df[\"data_registro\"] == pd.to_datetime(selected_data).date()] if selected_data else df\n",
    "        )\n",
    "\n",
    "        # Remove onde não há motivo informado\n",
    "        df = df[df[\"motivo\"] != \"Não apontado\"]\n",
    "\n",
    "        # Preenche problemas nulos\n",
    "        df[\"problema\"] = df[\"problema\"].fillna(\"Sem Problema\")\n",
    "\n",
    "        # Preenche equipamento nulo\n",
    "        df[\"equipamento\"] = df[\"equipamento\"].fillna(\"Linha\")\n",
    "\n",
    "        # Se a causa for nula, preenche com o problema\n",
    "        df[\"causa\"] = df[\"causa\"].fillna(df[\"problema\"])\n",
    "\n",
    "        # Mapear cores\n",
    "        color_dict = {\n",
    "            \"Parada de 5 minutos ou menos\": BSColorsEnum.GREY_400_COLOR.value,\n",
    "            \"Sem Motivo Informado\": BSColorsEnum.GREY_600_COLOR.value,\n",
    "            \"Ajustes\": BSColorsEnum.TEAL_COLOR.value,\n",
    "            \"Manutenção\": BSColorsEnum.SPACE_CADET_COLOR.value,\n",
    "            \"Qualidade\": BSColorsEnum.WARNING_COLOR.value,\n",
    "            \"Fluxo\": BSColorsEnum.PINK_COLOR.value,\n",
    "            \"Parada Programada\": BSColorsEnum.DANGER_COLOR.value,\n",
    "            \"Setup\": BSColorsEnum.SECONDARY_COLOR.value,\n",
    "            \"Limpeza\": BSColorsEnum.PRIMARY_COLOR.value,\n",
    "            \"Rodando\": BSColorsEnum.SUCCESS_COLOR.value,\n",
    "        }\n",
    "\n",
    "        # Criação do gráfico\n",
    "        fig = px.icicle(\n",
    "            df,\n",
    "            path=[px.Constant(\"Maquina ID\"), \"turno\", \"motivo\", \"equipamento\", \"problema\", \"causa\"],\n",
    "            values=\"tempo\",\n",
    "            color=\"motivo\",\n",
    "            title=\"Detalhes de Tempo\",\n",
    "            height=800,\n",
    "            color_discrete_map=color_dict,\n",
    "        )\n",
    "\n",
    "        tick_color = \"gray\"\n",
    "\n",
    "        # Atualizar layout\n",
    "        fig.update_layout(\n",
    "            plot_bgcolor=\"RGBA(0,0,0,0.01)\",\n",
    "        )\n",
    "\n",
    "        # Adicionar a porcentagem\n",
    "        fig.update_traces(textinfo=\"label+percent parent\")\n",
    "\n",
    "        return fig\n",
    "\n",
    "\n",
    "sunburst_test = SunburstTest(df_maq_stopped.copy(), df_info_production_cleaned.copy())"
   ]
  },
  {
   "cell_type": "code",
   "execution_count": 49,
   "metadata": {},
   "outputs": [
    {
     "data": {
      "application/vnd.plotly.v1+json": {
       "config": {
        "plotlyServerURL": "https://plot.ly"
       },
       "data": [
        {
         "branchvalues": "total",
         "customdata": [
          [
           "Parada Programada"
          ],
          [
           "Limpeza"
          ],
          [
           "Limpeza"
          ],
          [
           "Limpeza"
          ],
          [
           "Ajustes"
          ],
          [
           "Limpeza"
          ],
          [
           "Limpeza"
          ],
          [
           "Limpeza"
          ],
          [
           "Qualidade"
          ],
          [
           "Parada Programada"
          ],
          [
           "Qualidade"
          ],
          [
           "Ajustes"
          ],
          [
           "Limpeza"
          ],
          [
           "Parada Programada"
          ],
          [
           "Ajustes"
          ],
          [
           "Limpeza"
          ],
          [
           "Qualidade"
          ],
          [
           "Ajustes"
          ],
          [
           "Limpeza"
          ],
          [
           "Parada Programada"
          ],
          [
           "Qualidade"
          ],
          [
           "(?)"
          ],
          [
           "(?)"
          ]
         ],
         "domain": {
          "x": [
           0,
           1
          ],
          "y": [
           0,
           1
          ]
         },
         "hovertemplate": "labels=%{label}<br>tempo=%{value}<br>parent=%{parent}<br>id=%{id}<br>motivo=%{customdata[0]}<extra></extra>",
         "ids": [
          "Maquina ID/NOT/Parada Programada/Linha/Parada Planejada/Backup",
          "Maquina ID/NOT/Limpeza/Linha/Limpeza para parada de Fábrica/Limpeza para parada de Fábrica",
          "Maquina ID/NOT/Limpeza/Linha/Limpeza para parada de Fábrica/Sem Produção",
          "Maquina ID/NOT/Limpeza/Termoformadora/Limpeza para parada de Fábrica/Troca de Bobina Inferior",
          "Maquina ID/NOT/Ajustes/Termoformadora/Troca de Bobina/Troca de Bobina Inferior",
          "Maquina ID/NOT/Limpeza/Linha/Limpeza para parada de Fábrica",
          "Maquina ID/NOT/Limpeza/Termoformadora/Limpeza para parada de Fábrica/Data fora de posição",
          "Maquina ID/NOT/Limpeza/Termoformadora/Limpeza para parada de Fábrica",
          "Maquina ID/NOT/Qualidade/Termoformadora/Parâmetros de Qualidade/Esquadro da bandeja inadequado",
          "Maquina ID/NOT/Parada Programada/Linha/Parada Planejada",
          "Maquina ID/NOT/Qualidade/Termoformadora/Parâmetros de Qualidade",
          "Maquina ID/NOT/Ajustes/Termoformadora/Troca de Bobina",
          "Maquina ID/NOT/Limpeza/Linha",
          "Maquina ID/NOT/Parada Programada/Linha",
          "Maquina ID/NOT/Ajustes/Termoformadora",
          "Maquina ID/NOT/Limpeza/Termoformadora",
          "Maquina ID/NOT/Qualidade/Termoformadora",
          "Maquina ID/NOT/Ajustes",
          "Maquina ID/NOT/Limpeza",
          "Maquina ID/NOT/Parada Programada",
          "Maquina ID/NOT/Qualidade",
          "Maquina ID/NOT",
          "Maquina ID"
         ],
         "labels": [
          "Backup",
          "Limpeza para parada de Fábrica",
          "Sem Produção",
          "Troca de Bobina Inferior",
          "Troca de Bobina Inferior",
          "Limpeza para parada de Fábrica",
          "Data fora de posição",
          "Limpeza para parada de Fábrica",
          "Esquadro da bandeja inadequado",
          "Parada Planejada",
          "Parâmetros de Qualidade",
          "Troca de Bobina",
          "Linha",
          "Linha",
          "Termoformadora",
          "Termoformadora",
          "Termoformadora",
          "Ajustes",
          "Limpeza",
          "Parada Programada",
          "Qualidade",
          "NOT",
          "Maquina ID"
         ],
         "marker": {
          "colors": [
           "#dc3545",
           "#0d6efd",
           "#0d6efd",
           "#0d6efd",
           "#20c997",
           "#0d6efd",
           "#0d6efd",
           "#0d6efd",
           "#ffc107",
           "#dc3545",
           "#ffc107",
           "#20c997",
           "#0d6efd",
           "#dc3545",
           "#20c997",
           "#0d6efd",
           "#ffc107",
           "#20c997",
           "#0d6efd",
           "#dc3545",
           "#ffc107",
           "#636efa",
           "#636efa"
          ]
         },
         "name": "",
         "parents": [
          "Maquina ID/NOT/Parada Programada/Linha/Parada Planejada",
          "Maquina ID/NOT/Limpeza/Linha/Limpeza para parada de Fábrica",
          "Maquina ID/NOT/Limpeza/Linha/Limpeza para parada de Fábrica",
          "Maquina ID/NOT/Limpeza/Termoformadora/Limpeza para parada de Fábrica",
          "Maquina ID/NOT/Ajustes/Termoformadora/Troca de Bobina",
          "Maquina ID/NOT/Limpeza/Linha",
          "Maquina ID/NOT/Limpeza/Termoformadora/Limpeza para parada de Fábrica",
          "Maquina ID/NOT/Limpeza/Termoformadora",
          "Maquina ID/NOT/Qualidade/Termoformadora/Parâmetros de Qualidade",
          "Maquina ID/NOT/Parada Programada/Linha",
          "Maquina ID/NOT/Qualidade/Termoformadora",
          "Maquina ID/NOT/Ajustes/Termoformadora",
          "Maquina ID/NOT/Limpeza",
          "Maquina ID/NOT/Parada Programada",
          "Maquina ID/NOT/Ajustes",
          "Maquina ID/NOT/Limpeza",
          "Maquina ID/NOT/Qualidade",
          "Maquina ID/NOT",
          "Maquina ID/NOT",
          "Maquina ID/NOT",
          "Maquina ID/NOT",
          "Maquina ID",
          ""
         ],
         "textinfo": "label+percent parent",
         "type": "icicle",
         "values": [
          496,
          480,
          480,
          480,
          960,
          960,
          480,
          960,
          463,
          496,
          463,
          960,
          960,
          496,
          960,
          960,
          463,
          960,
          1920,
          496,
          463,
          3839,
          3839
         ]
        }
       ],
       "layout": {
        "height": 800,
        "legend": {
         "tracegroupgap": 0
        },
        "plot_bgcolor": "RGBA(0,0,0,0.01)",
        "template": {
         "data": {
          "bar": [
           {
            "error_x": {
             "color": "#2a3f5f"
            },
            "error_y": {
             "color": "#2a3f5f"
            },
            "marker": {
             "line": {
              "color": "#E5ECF6",
              "width": 0.5
             },
             "pattern": {
              "fillmode": "overlay",
              "size": 10,
              "solidity": 0.2
             }
            },
            "type": "bar"
           }
          ],
          "barpolar": [
           {
            "marker": {
             "line": {
              "color": "#E5ECF6",
              "width": 0.5
             },
             "pattern": {
              "fillmode": "overlay",
              "size": 10,
              "solidity": 0.2
             }
            },
            "type": "barpolar"
           }
          ],
          "carpet": [
           {
            "aaxis": {
             "endlinecolor": "#2a3f5f",
             "gridcolor": "white",
             "linecolor": "white",
             "minorgridcolor": "white",
             "startlinecolor": "#2a3f5f"
            },
            "baxis": {
             "endlinecolor": "#2a3f5f",
             "gridcolor": "white",
             "linecolor": "white",
             "minorgridcolor": "white",
             "startlinecolor": "#2a3f5f"
            },
            "type": "carpet"
           }
          ],
          "choropleth": [
           {
            "colorbar": {
             "outlinewidth": 0,
             "ticks": ""
            },
            "type": "choropleth"
           }
          ],
          "contour": [
           {
            "colorbar": {
             "outlinewidth": 0,
             "ticks": ""
            },
            "colorscale": [
             [
              0,
              "#0d0887"
             ],
             [
              0.1111111111111111,
              "#46039f"
             ],
             [
              0.2222222222222222,
              "#7201a8"
             ],
             [
              0.3333333333333333,
              "#9c179e"
             ],
             [
              0.4444444444444444,
              "#bd3786"
             ],
             [
              0.5555555555555556,
              "#d8576b"
             ],
             [
              0.6666666666666666,
              "#ed7953"
             ],
             [
              0.7777777777777778,
              "#fb9f3a"
             ],
             [
              0.8888888888888888,
              "#fdca26"
             ],
             [
              1,
              "#f0f921"
             ]
            ],
            "type": "contour"
           }
          ],
          "contourcarpet": [
           {
            "colorbar": {
             "outlinewidth": 0,
             "ticks": ""
            },
            "type": "contourcarpet"
           }
          ],
          "heatmap": [
           {
            "colorbar": {
             "outlinewidth": 0,
             "ticks": ""
            },
            "colorscale": [
             [
              0,
              "#0d0887"
             ],
             [
              0.1111111111111111,
              "#46039f"
             ],
             [
              0.2222222222222222,
              "#7201a8"
             ],
             [
              0.3333333333333333,
              "#9c179e"
             ],
             [
              0.4444444444444444,
              "#bd3786"
             ],
             [
              0.5555555555555556,
              "#d8576b"
             ],
             [
              0.6666666666666666,
              "#ed7953"
             ],
             [
              0.7777777777777778,
              "#fb9f3a"
             ],
             [
              0.8888888888888888,
              "#fdca26"
             ],
             [
              1,
              "#f0f921"
             ]
            ],
            "type": "heatmap"
           }
          ],
          "heatmapgl": [
           {
            "colorbar": {
             "outlinewidth": 0,
             "ticks": ""
            },
            "colorscale": [
             [
              0,
              "#0d0887"
             ],
             [
              0.1111111111111111,
              "#46039f"
             ],
             [
              0.2222222222222222,
              "#7201a8"
             ],
             [
              0.3333333333333333,
              "#9c179e"
             ],
             [
              0.4444444444444444,
              "#bd3786"
             ],
             [
              0.5555555555555556,
              "#d8576b"
             ],
             [
              0.6666666666666666,
              "#ed7953"
             ],
             [
              0.7777777777777778,
              "#fb9f3a"
             ],
             [
              0.8888888888888888,
              "#fdca26"
             ],
             [
              1,
              "#f0f921"
             ]
            ],
            "type": "heatmapgl"
           }
          ],
          "histogram": [
           {
            "marker": {
             "pattern": {
              "fillmode": "overlay",
              "size": 10,
              "solidity": 0.2
             }
            },
            "type": "histogram"
           }
          ],
          "histogram2d": [
           {
            "colorbar": {
             "outlinewidth": 0,
             "ticks": ""
            },
            "colorscale": [
             [
              0,
              "#0d0887"
             ],
             [
              0.1111111111111111,
              "#46039f"
             ],
             [
              0.2222222222222222,
              "#7201a8"
             ],
             [
              0.3333333333333333,
              "#9c179e"
             ],
             [
              0.4444444444444444,
              "#bd3786"
             ],
             [
              0.5555555555555556,
              "#d8576b"
             ],
             [
              0.6666666666666666,
              "#ed7953"
             ],
             [
              0.7777777777777778,
              "#fb9f3a"
             ],
             [
              0.8888888888888888,
              "#fdca26"
             ],
             [
              1,
              "#f0f921"
             ]
            ],
            "type": "histogram2d"
           }
          ],
          "histogram2dcontour": [
           {
            "colorbar": {
             "outlinewidth": 0,
             "ticks": ""
            },
            "colorscale": [
             [
              0,
              "#0d0887"
             ],
             [
              0.1111111111111111,
              "#46039f"
             ],
             [
              0.2222222222222222,
              "#7201a8"
             ],
             [
              0.3333333333333333,
              "#9c179e"
             ],
             [
              0.4444444444444444,
              "#bd3786"
             ],
             [
              0.5555555555555556,
              "#d8576b"
             ],
             [
              0.6666666666666666,
              "#ed7953"
             ],
             [
              0.7777777777777778,
              "#fb9f3a"
             ],
             [
              0.8888888888888888,
              "#fdca26"
             ],
             [
              1,
              "#f0f921"
             ]
            ],
            "type": "histogram2dcontour"
           }
          ],
          "mesh3d": [
           {
            "colorbar": {
             "outlinewidth": 0,
             "ticks": ""
            },
            "type": "mesh3d"
           }
          ],
          "parcoords": [
           {
            "line": {
             "colorbar": {
              "outlinewidth": 0,
              "ticks": ""
             }
            },
            "type": "parcoords"
           }
          ],
          "pie": [
           {
            "automargin": true,
            "type": "pie"
           }
          ],
          "scatter": [
           {
            "fillpattern": {
             "fillmode": "overlay",
             "size": 10,
             "solidity": 0.2
            },
            "type": "scatter"
           }
          ],
          "scatter3d": [
           {
            "line": {
             "colorbar": {
              "outlinewidth": 0,
              "ticks": ""
             }
            },
            "marker": {
             "colorbar": {
              "outlinewidth": 0,
              "ticks": ""
             }
            },
            "type": "scatter3d"
           }
          ],
          "scattercarpet": [
           {
            "marker": {
             "colorbar": {
              "outlinewidth": 0,
              "ticks": ""
             }
            },
            "type": "scattercarpet"
           }
          ],
          "scattergeo": [
           {
            "marker": {
             "colorbar": {
              "outlinewidth": 0,
              "ticks": ""
             }
            },
            "type": "scattergeo"
           }
          ],
          "scattergl": [
           {
            "marker": {
             "colorbar": {
              "outlinewidth": 0,
              "ticks": ""
             }
            },
            "type": "scattergl"
           }
          ],
          "scattermapbox": [
           {
            "marker": {
             "colorbar": {
              "outlinewidth": 0,
              "ticks": ""
             }
            },
            "type": "scattermapbox"
           }
          ],
          "scatterpolar": [
           {
            "marker": {
             "colorbar": {
              "outlinewidth": 0,
              "ticks": ""
             }
            },
            "type": "scatterpolar"
           }
          ],
          "scatterpolargl": [
           {
            "marker": {
             "colorbar": {
              "outlinewidth": 0,
              "ticks": ""
             }
            },
            "type": "scatterpolargl"
           }
          ],
          "scatterternary": [
           {
            "marker": {
             "colorbar": {
              "outlinewidth": 0,
              "ticks": ""
             }
            },
            "type": "scatterternary"
           }
          ],
          "surface": [
           {
            "colorbar": {
             "outlinewidth": 0,
             "ticks": ""
            },
            "colorscale": [
             [
              0,
              "#0d0887"
             ],
             [
              0.1111111111111111,
              "#46039f"
             ],
             [
              0.2222222222222222,
              "#7201a8"
             ],
             [
              0.3333333333333333,
              "#9c179e"
             ],
             [
              0.4444444444444444,
              "#bd3786"
             ],
             [
              0.5555555555555556,
              "#d8576b"
             ],
             [
              0.6666666666666666,
              "#ed7953"
             ],
             [
              0.7777777777777778,
              "#fb9f3a"
             ],
             [
              0.8888888888888888,
              "#fdca26"
             ],
             [
              1,
              "#f0f921"
             ]
            ],
            "type": "surface"
           }
          ],
          "table": [
           {
            "cells": {
             "fill": {
              "color": "#EBF0F8"
             },
             "line": {
              "color": "white"
             }
            },
            "header": {
             "fill": {
              "color": "#C8D4E3"
             },
             "line": {
              "color": "white"
             }
            },
            "type": "table"
           }
          ]
         },
         "layout": {
          "annotationdefaults": {
           "arrowcolor": "#2a3f5f",
           "arrowhead": 0,
           "arrowwidth": 1
          },
          "autotypenumbers": "strict",
          "coloraxis": {
           "colorbar": {
            "outlinewidth": 0,
            "ticks": ""
           }
          },
          "colorscale": {
           "diverging": [
            [
             0,
             "#8e0152"
            ],
            [
             0.1,
             "#c51b7d"
            ],
            [
             0.2,
             "#de77ae"
            ],
            [
             0.3,
             "#f1b6da"
            ],
            [
             0.4,
             "#fde0ef"
            ],
            [
             0.5,
             "#f7f7f7"
            ],
            [
             0.6,
             "#e6f5d0"
            ],
            [
             0.7,
             "#b8e186"
            ],
            [
             0.8,
             "#7fbc41"
            ],
            [
             0.9,
             "#4d9221"
            ],
            [
             1,
             "#276419"
            ]
           ],
           "sequential": [
            [
             0,
             "#0d0887"
            ],
            [
             0.1111111111111111,
             "#46039f"
            ],
            [
             0.2222222222222222,
             "#7201a8"
            ],
            [
             0.3333333333333333,
             "#9c179e"
            ],
            [
             0.4444444444444444,
             "#bd3786"
            ],
            [
             0.5555555555555556,
             "#d8576b"
            ],
            [
             0.6666666666666666,
             "#ed7953"
            ],
            [
             0.7777777777777778,
             "#fb9f3a"
            ],
            [
             0.8888888888888888,
             "#fdca26"
            ],
            [
             1,
             "#f0f921"
            ]
           ],
           "sequentialminus": [
            [
             0,
             "#0d0887"
            ],
            [
             0.1111111111111111,
             "#46039f"
            ],
            [
             0.2222222222222222,
             "#7201a8"
            ],
            [
             0.3333333333333333,
             "#9c179e"
            ],
            [
             0.4444444444444444,
             "#bd3786"
            ],
            [
             0.5555555555555556,
             "#d8576b"
            ],
            [
             0.6666666666666666,
             "#ed7953"
            ],
            [
             0.7777777777777778,
             "#fb9f3a"
            ],
            [
             0.8888888888888888,
             "#fdca26"
            ],
            [
             1,
             "#f0f921"
            ]
           ]
          },
          "colorway": [
           "#636efa",
           "#EF553B",
           "#00cc96",
           "#ab63fa",
           "#FFA15A",
           "#19d3f3",
           "#FF6692",
           "#B6E880",
           "#FF97FF",
           "#FECB52"
          ],
          "font": {
           "color": "#2a3f5f"
          },
          "geo": {
           "bgcolor": "white",
           "lakecolor": "white",
           "landcolor": "#E5ECF6",
           "showlakes": true,
           "showland": true,
           "subunitcolor": "white"
          },
          "hoverlabel": {
           "align": "left"
          },
          "hovermode": "closest",
          "mapbox": {
           "style": "light"
          },
          "paper_bgcolor": "white",
          "plot_bgcolor": "#E5ECF6",
          "polar": {
           "angularaxis": {
            "gridcolor": "white",
            "linecolor": "white",
            "ticks": ""
           },
           "bgcolor": "#E5ECF6",
           "radialaxis": {
            "gridcolor": "white",
            "linecolor": "white",
            "ticks": ""
           }
          },
          "scene": {
           "xaxis": {
            "backgroundcolor": "#E5ECF6",
            "gridcolor": "white",
            "gridwidth": 2,
            "linecolor": "white",
            "showbackground": true,
            "ticks": "",
            "zerolinecolor": "white"
           },
           "yaxis": {
            "backgroundcolor": "#E5ECF6",
            "gridcolor": "white",
            "gridwidth": 2,
            "linecolor": "white",
            "showbackground": true,
            "ticks": "",
            "zerolinecolor": "white"
           },
           "zaxis": {
            "backgroundcolor": "#E5ECF6",
            "gridcolor": "white",
            "gridwidth": 2,
            "linecolor": "white",
            "showbackground": true,
            "ticks": "",
            "zerolinecolor": "white"
           }
          },
          "shapedefaults": {
           "line": {
            "color": "#2a3f5f"
           }
          },
          "ternary": {
           "aaxis": {
            "gridcolor": "white",
            "linecolor": "white",
            "ticks": ""
           },
           "baxis": {
            "gridcolor": "white",
            "linecolor": "white",
            "ticks": ""
           },
           "bgcolor": "#E5ECF6",
           "caxis": {
            "gridcolor": "white",
            "linecolor": "white",
            "ticks": ""
           }
          },
          "title": {
           "x": 0.05
          },
          "xaxis": {
           "automargin": true,
           "gridcolor": "white",
           "linecolor": "white",
           "ticks": "",
           "title": {
            "standoff": 15
           },
           "zerolinecolor": "white",
           "zerolinewidth": 2
          },
          "yaxis": {
           "automargin": true,
           "gridcolor": "white",
           "linecolor": "white",
           "ticks": "",
           "title": {
            "standoff": 15
           },
           "zerolinecolor": "white",
           "zerolinewidth": 2
          }
         }
        },
        "title": {
         "text": "Detalhes de Tempo"
        }
       }
      }
     },
     "metadata": {},
     "output_type": "display_data"
    }
   ],
   "source": [
    "icicle_test_fig = sunburst_test.create_icicle_details(\n",
    "    df_maq_stopped.copy(), IndicatorType.EFFICIENCY\n",
    ")\n",
    "icicle_test_fig"
   ]
  }
 ],
 "metadata": {
  "kernelspec": {
   "display_name": ".venv",
   "language": "python",
   "name": "python3"
  },
  "language_info": {
   "codemirror_mode": {
    "name": "ipython",
    "version": 3
   },
   "file_extension": ".py",
   "mimetype": "text/x-python",
   "name": "python",
   "nbconvert_exporter": "python",
   "pygments_lexer": "ipython3",
   "version": "3.12.2"
  }
 },
 "nbformat": 4,
 "nbformat_minor": 2
}
