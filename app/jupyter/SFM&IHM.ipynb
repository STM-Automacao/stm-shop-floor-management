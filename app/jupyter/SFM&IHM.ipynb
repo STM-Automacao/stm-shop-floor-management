{
 "cells": [
  {
   "cell_type": "markdown",
   "metadata": {},
   "source": [
    "# Importações\n"
   ]
  },
  {
   "cell_type": "code",
   "execution_count": 1,
   "metadata": {
    "notebookRunGroups": {
     "groupValue": "1"
    }
   },
   "outputs": [],
   "source": [
    "import urllib\n",
    "from itertools import product\n",
    "from os import getenv\n",
    "from sqlalchemy import create_engine\n",
    "from dotenv import load_dotenv\n",
    "\n",
    "import numpy as np\n",
    "import pandas as pd\n",
    "from datetime import datetime, timedelta, time\n",
    "import plotly.graph_objects as go\n",
    "import matplotlib.pyplot as plt\n",
    "import plotly.express as px\n",
    "from fuzzywuzzy import process\n",
    "from enum import Enum\n",
    "import seaborn as sns"
   ]
  },
  {
   "cell_type": "markdown",
   "metadata": {},
   "source": [
    "### Types\n"
   ]
  },
  {
   "cell_type": "code",
   "execution_count": 2,
   "metadata": {
    "notebookRunGroups": {
     "groupValue": "1"
    }
   },
   "outputs": [],
   "source": [
    "# cSpell: disable\n",
    "class BSColorsEnum(Enum):\n",
    "\n",
    "    DANGER_COLOR = \"#dc3545\"\n",
    "\n",
    "    WARNING_COLOR = \"#ffc107\"\n",
    "\n",
    "    SUCCESS_COLOR = \"#198754\"\n",
    "\n",
    "    GREY_500_COLOR = \"#adb5bd\"\n",
    "\n",
    "    GREY_600_COLOR = \"#6c757d\"\n",
    "\n",
    "    GREY_700_COLOR = \"#495057\"\n",
    "\n",
    "    GREY_800_COLOR = \"#343a40\"\n",
    "\n",
    "    GREY_900_COLOR = \"#212529\"\n",
    "\n",
    "    PRIMARY_COLOR = \"#0d6efd\"\n",
    "\n",
    "    SECONDARY_COLOR = \"#6c757d\"\n",
    "\n",
    "    INFO_COLOR = \"#0dcaf0\"\n",
    "\n",
    "    GRAY_COLOR = \"#adb5bd\"\n",
    "\n",
    "    TEAL_COLOR = \"#20c997\"\n",
    "\n",
    "    ORANGE_COLOR = \"#fd7e14\"\n",
    "\n",
    "    INDIGO_COLOR = \"#6610f2\"\n",
    "\n",
    "    PINK_COLOR = \"#d63384\"\n",
    "\n",
    "    PURPLE_COLOR = \"#6f42c1\"\n",
    "\n",
    "    GREY_400_COLOR = \"#ced4da\"\n",
    "\n",
    "    SPACE_CADET_COLOR = \"#282f44\"\n",
    "\n",
    "    BLUE_DELFT_COLOR = \"#0d6efd\"\n",
    "\n",
    "\n",
    "class IndicatorType(Enum):\n",
    "    PERFORMANCE = \"performance\"\n",
    "    REPAIR = \"reparo\"\n",
    "    EFFICIENCY = \"eficiencia\"\n",
    "\n",
    "\n",
    "def get_color(value, max_value):\n",
    "    \"\"\"\n",
    "    Retorna uma cor hexadecimal com base no valor fornecido e no valor máximo.\n",
    "\n",
    "    Parâmetros:\n",
    "    value (float): O valor para o qual a cor será calculada.\n",
    "    max_value (float): O valor máximo possível.\n",
    "\n",
    "    Retorna:\n",
    "    str: Uma cor hexadecimal correspondente ao valor fornecido.\n",
    "    \"\"\"\n",
    "\n",
    "    # Cria um mapa de cores que vai do vermelho ao verde\n",
    "    cmap = plt.get_cmap(\"RdYlGn\")\n",
    "\n",
    "    # Normaliza o valor para um número entre 0 e 1\n",
    "    normalized_value = float(value) / max_value\n",
    "\n",
    "    # Obtém a cor correspondente do mapa de cores\n",
    "    rgba_color = cmap(normalized_value)\n",
    "\n",
    "    # Converte a cor RGBA para uma string de cor hexadecimal\n",
    "    hex_color = (\n",
    "        f\"#{int(rgba_color[0]*255):02x}{int(rgba_color[1]*255):02x}{int(rgba_color[2]*255):02x}\"\n",
    "    )\n",
    "\n",
    "    return hex_color"
   ]
  },
  {
   "cell_type": "markdown",
   "metadata": {},
   "source": [
    "# Database\n"
   ]
  },
  {
   "cell_type": "markdown",
   "metadata": {},
   "source": [
    "## Conexão com o banco de dados\n"
   ]
  },
  {
   "cell_type": "code",
   "execution_count": 3,
   "metadata": {
    "notebookRunGroups": {
     "groupValue": "1"
    }
   },
   "outputs": [],
   "source": [
    "# database/connection.py\n",
    "\n",
    "# cSpell: disable=invalid-name\n",
    "load_dotenv()\n",
    "\n",
    "\n",
    "class Connection:\n",
    "    \"\"\"\n",
    "    Class Connection\n",
    "    \"\"\"\n",
    "\n",
    "    def __init__(self):\n",
    "        \"\"\"\n",
    "        Constructor\n",
    "\n",
    "        Args:\n",
    "            user (str): user\n",
    "            password (str): password\n",
    "            database (str): database\n",
    "            driver (str): driver\n",
    "            server (str): server\n",
    "\n",
    "        Usage:\n",
    "            >>> from connection import Connection\n",
    "            >>> connection = Connection()\n",
    "            >>> connection.get_connection()\n",
    "        \"\"\"\n",
    "        self.__user = getenv(\"PYMSSQL_USER\")\n",
    "        self.__password = getenv(\"PYMSSQL_PASSWORD\")\n",
    "        self.__database = getenv(\"PYMSSQL_DATABASE_AUTOMACAO\")\n",
    "        self.__database_totvsdb = getenv(\"PYMSSQL_DATABASE_TOTVSDB\")\n",
    "        self.__driver = \"{ODBC Driver 17 for SQL Server}\"\n",
    "        self.__server = getenv(\"PYMSSQL_SERVER\")\n",
    "\n",
    "    def get_connection_automacao(self):\n",
    "        \"\"\"\n",
    "        Get connection\n",
    "\n",
    "        Returns:\n",
    "            object: connection\n",
    "\n",
    "        Usage:\n",
    "            >>> from connection import Connection\n",
    "            >>> connection = Connection()\n",
    "            >>> connection.get_connection()\n",
    "        \"\"\"\n",
    "        try:\n",
    "            params = urllib.parse.quote_plus(\n",
    "                f\"DRIVER={self.__driver};\"\n",
    "                f\"SERVER={self.__server};\"\n",
    "                f\"DATABASE={self.__database};\"\n",
    "                f\"UID={self.__user};\"\n",
    "                f\"PWD={self.__password};\"\n",
    "            )\n",
    "            # pylint: disable=consider-using-f-string\n",
    "            conexao_automacao = create_engine(\"mssql+pyodbc:///?odbc_connect=%s\" % params)\n",
    "            return conexao_automacao\n",
    "        # pylint: disable=broad-except\n",
    "        except Exception as error:\n",
    "            print(f\"Error: {error}\")\n",
    "            return None\n",
    "\n",
    "    def get_connection_totvsdb(self):\n",
    "        \"\"\"\n",
    "        Get connection\n",
    "\n",
    "        Returns:\n",
    "            object: connection\n",
    "\n",
    "        Usage:\n",
    "            >>> from connection import Connection\n",
    "            >>> connection = Connection()\n",
    "            >>> connection.get_connection()\n",
    "        \"\"\"\n",
    "        try:\n",
    "            params = urllib.parse.quote_plus(\n",
    "                f\"DRIVER={self.__driver};\"\n",
    "                f\"SERVER={self.__server};\"\n",
    "                f\"DATABASE={self.__database_totvsdb};\"\n",
    "                f\"UID={self.__user};\"\n",
    "                f\"PWD={self.__password};\"\n",
    "            )\n",
    "            conexao_totvsdb = create_engine(f\"mssql+pyodbc:///?odbc_connect={params}\", pool_size=2)\n",
    "            return conexao_totvsdb\n",
    "        # pylint: disable=broad-except\n",
    "        except Exception as error:\n",
    "            print(f\"Error: {error}\")\n",
    "            return None"
   ]
  },
  {
   "cell_type": "markdown",
   "metadata": {},
   "source": [
    "## Leitura do banco de dados\n"
   ]
  },
  {
   "cell_type": "code",
   "execution_count": 4,
   "metadata": {
    "notebookRunGroups": {
     "groupValue": "1"
    }
   },
   "outputs": [],
   "source": [
    "# database/db_read.py\n",
    "from sqlalchemy.exc import DatabaseError\n",
    "\n",
    "\n",
    "# cSpell: disable=invalid-name\n",
    "class Read(Connection):\n",
    "    \"\"\"\n",
    "    Class Read\n",
    "    Read data from the database and return a pandas dataframe\n",
    "    Create query to be executed in the database\n",
    "    \"\"\"\n",
    "\n",
    "    # pylint: disable=useless-super-delegation\n",
    "    def __init__(self):\n",
    "        \"\"\"\n",
    "        Constructor\n",
    "        \"\"\"\n",
    "        super().__init__()\n",
    "\n",
    "    def get_automacao_data(self, query: str) -> pd.DataFrame:\n",
    "        \"\"\"\n",
    "        Get data from database AUTOMACAO and return a pandas dataframe.\n",
    "\n",
    "        Parameters\n",
    "        ----------\n",
    "        query : str\n",
    "            Query to be executed in the database\n",
    "\n",
    "        Returns\n",
    "        -------\n",
    "        pandas dataframe\n",
    "            Dataframe with the query result\n",
    "        \"\"\"\n",
    "        try:\n",
    "            connection = self.get_connection_automacao()\n",
    "            data = pd.read_sql(query, connection)\n",
    "            return data\n",
    "        # pylint: disable=broad-except\n",
    "        except DatabaseError as error:\n",
    "            print(f\"Error: {error}\")\n",
    "            return None\n",
    "        finally:\n",
    "            if connection:\n",
    "                connection.dispose()\n",
    "\n",
    "    def create_automacao_query(self, table: str, where: str = None, orderby: str = None) -> str:\n",
    "        \"\"\"\n",
    "        Create query to be executed in the database AUTOMACAO.\n",
    "\n",
    "        Parameters\n",
    "        ----------\n",
    "        table : str\n",
    "            Table name\n",
    "        where : str\n",
    "            Where clause (optional)\n",
    "        orderby : str\n",
    "            Order by clause (optional)\n",
    "\n",
    "        Returns\n",
    "        -------\n",
    "        str\n",
    "            Query to be executed in the database\n",
    "        \"\"\"\n",
    "        query = f\"SELECT * FROM AUTOMACAO.dbo.{table}\"\n",
    "\n",
    "        if where:\n",
    "            query += f\" WHERE {where}\"\n",
    "\n",
    "        if orderby:\n",
    "            query += f\" ORDER BY {orderby}\"\n",
    "\n",
    "        return query\n",
    "\n",
    "    def get_totvsdb_data(self, query: str) -> pd.DataFrame:\n",
    "        \"\"\"\n",
    "        Retrieves data from the TotvsDB database using the provided SQL query.\n",
    "\n",
    "        Args:\n",
    "            query (str): The SQL query to execute.\n",
    "\n",
    "        Returns:\n",
    "            pd.DataFrame: A pandas DataFrame containing the retrieved data.\n",
    "\n",
    "        Raises:\n",
    "            Exception: If an error occurs while retrieving the data.\n",
    "\n",
    "        \"\"\"\n",
    "        connection = None\n",
    "        try:\n",
    "            connection = self.get_connection_totvsdb()\n",
    "            data = pd.read_sql(query, connection)\n",
    "            return data\n",
    "        # pylint: disable=broad-except\n",
    "        except Exception as e:\n",
    "            print(f\"Erro ao buscar dados: {e}\")\n",
    "            return None\n",
    "        finally:\n",
    "            if connection:\n",
    "                connection.dispose()\n",
    "\n",
    "    def create_totvsdb_query(\n",
    "        self, select: str, table: str, join: str = None, where: str = None, orderby: str = None\n",
    "    ) -> str:\n",
    "        \"\"\"\n",
    "        Creates a SQL query string for querying the TOTVS database.\n",
    "\n",
    "        Args:\n",
    "            select (str): The SELECT clause of the query.\n",
    "            table (str): The table name to query.\n",
    "            join (str, optional): The JOIN clause of the query. Defaults to None.\n",
    "            where (str, optional): The WHERE clause of the query. Defaults to None.\n",
    "            orderby (str, optional): The ORDER BY clause of the query. Defaults to None.\n",
    "\n",
    "        Returns:\n",
    "            str: The SQL query string.\n",
    "        \"\"\"\n",
    "        query = f\"SELECT {select} FROM {table}\"\n",
    "\n",
    "        if join:\n",
    "            query += f\" {join}\"\n",
    "\n",
    "        if where:\n",
    "            query += f\" WHERE {where}\"\n",
    "\n",
    "        if orderby:\n",
    "            query += f\" ORDER BY {orderby}\"\n",
    "\n",
    "        return query"
   ]
  },
  {
   "cell_type": "markdown",
   "metadata": {},
   "source": [
    "## Query para o banco de dados\n"
   ]
  },
  {
   "cell_type": "code",
   "execution_count": 5,
   "metadata": {
    "notebookRunGroups": {
     "groupValue": "1"
    }
   },
   "outputs": [
    {
     "data": {
      "text/html": [
       "<div>\n",
       "<style scoped>\n",
       "    .dataframe tbody tr th:only-of-type {\n",
       "        vertical-align: middle;\n",
       "    }\n",
       "\n",
       "    .dataframe tbody tr th {\n",
       "        vertical-align: top;\n",
       "    }\n",
       "\n",
       "    .dataframe thead th {\n",
       "        text-align: right;\n",
       "    }\n",
       "</style>\n",
       "<table border=\"1\" class=\"dataframe\">\n",
       "  <thead>\n",
       "    <tr style=\"text-align: right;\">\n",
       "      <th></th>\n",
       "      <th>maquina_id</th>\n",
       "      <th>linha</th>\n",
       "      <th>fabrica</th>\n",
       "      <th>status</th>\n",
       "      <th>turno</th>\n",
       "      <th>contagem_total_ciclos</th>\n",
       "      <th>contagem_total_produzido</th>\n",
       "      <th>data_registro</th>\n",
       "      <th>hora_registro</th>\n",
       "    </tr>\n",
       "  </thead>\n",
       "  <tbody>\n",
       "    <tr>\n",
       "      <th>0</th>\n",
       "      <td>TMF009</td>\n",
       "      <td>14</td>\n",
       "      <td>2</td>\n",
       "      <td>false</td>\n",
       "      <td>NOT</td>\n",
       "      <td>0.0</td>\n",
       "      <td>0.0</td>\n",
       "      <td>2024-07-13</td>\n",
       "      <td>07:59:54.586666</td>\n",
       "    </tr>\n",
       "    <tr>\n",
       "      <th>1</th>\n",
       "      <td>TMF013</td>\n",
       "      <td>13</td>\n",
       "      <td>2</td>\n",
       "      <td>true</td>\n",
       "      <td>NOT</td>\n",
       "      <td>8120.0</td>\n",
       "      <td>7910.0</td>\n",
       "      <td>2024-07-13</td>\n",
       "      <td>07:59:53.583333</td>\n",
       "    </tr>\n",
       "    <tr>\n",
       "      <th>2</th>\n",
       "      <td>TMF007</td>\n",
       "      <td>12</td>\n",
       "      <td>2</td>\n",
       "      <td>true</td>\n",
       "      <td>NOT</td>\n",
       "      <td>170.0</td>\n",
       "      <td>100.0</td>\n",
       "      <td>2024-07-13</td>\n",
       "      <td>07:59:52.583333</td>\n",
       "    </tr>\n",
       "    <tr>\n",
       "      <th>3</th>\n",
       "      <td>TMF010</td>\n",
       "      <td>11</td>\n",
       "      <td>2</td>\n",
       "      <td>true</td>\n",
       "      <td>NOT</td>\n",
       "      <td>7946.0</td>\n",
       "      <td>7796.0</td>\n",
       "      <td>2024-07-13</td>\n",
       "      <td>07:59:51.580000</td>\n",
       "    </tr>\n",
       "    <tr>\n",
       "      <th>4</th>\n",
       "      <td>TMF008</td>\n",
       "      <td>10</td>\n",
       "      <td>2</td>\n",
       "      <td>false</td>\n",
       "      <td>NOT</td>\n",
       "      <td>74.0</td>\n",
       "      <td>0.0</td>\n",
       "      <td>2024-07-13</td>\n",
       "      <td>07:59:50.583333</td>\n",
       "    </tr>\n",
       "    <tr>\n",
       "      <th>...</th>\n",
       "      <td>...</td>\n",
       "      <td>...</td>\n",
       "      <td>...</td>\n",
       "      <td>...</td>\n",
       "      <td>...</td>\n",
       "      <td>...</td>\n",
       "      <td>...</td>\n",
       "      <td>...</td>\n",
       "      <td>...</td>\n",
       "    </tr>\n",
       "    <tr>\n",
       "      <th>3316</th>\n",
       "      <td>TMF002</td>\n",
       "      <td>5</td>\n",
       "      <td>1</td>\n",
       "      <td>false</td>\n",
       "      <td>NOT</td>\n",
       "      <td>0.0</td>\n",
       "      <td>0.0</td>\n",
       "      <td>2024-07-13</td>\n",
       "      <td>00:00:05.503333</td>\n",
       "    </tr>\n",
       "    <tr>\n",
       "      <th>3317</th>\n",
       "      <td>TMF012</td>\n",
       "      <td>4</td>\n",
       "      <td>1</td>\n",
       "      <td>true</td>\n",
       "      <td>NOT</td>\n",
       "      <td>0.0</td>\n",
       "      <td>0.0</td>\n",
       "      <td>2024-07-13</td>\n",
       "      <td>00:00:04.500000</td>\n",
       "    </tr>\n",
       "    <tr>\n",
       "      <th>3318</th>\n",
       "      <td>TMF005</td>\n",
       "      <td>3</td>\n",
       "      <td>1</td>\n",
       "      <td>false</td>\n",
       "      <td>NOT</td>\n",
       "      <td>0.0</td>\n",
       "      <td>0.0</td>\n",
       "      <td>2024-07-13</td>\n",
       "      <td>00:00:03.496666</td>\n",
       "    </tr>\n",
       "    <tr>\n",
       "      <th>3319</th>\n",
       "      <td>TMF011</td>\n",
       "      <td>2</td>\n",
       "      <td>1</td>\n",
       "      <td>false</td>\n",
       "      <td>NOT</td>\n",
       "      <td>0.0</td>\n",
       "      <td>0.0</td>\n",
       "      <td>2024-07-13</td>\n",
       "      <td>00:00:02.496666</td>\n",
       "    </tr>\n",
       "    <tr>\n",
       "      <th>3320</th>\n",
       "      <td>TMF003</td>\n",
       "      <td>1</td>\n",
       "      <td>1</td>\n",
       "      <td>false</td>\n",
       "      <td>NOT</td>\n",
       "      <td>0.0</td>\n",
       "      <td>0.0</td>\n",
       "      <td>2024-07-13</td>\n",
       "      <td>00:00:01.496666</td>\n",
       "    </tr>\n",
       "  </tbody>\n",
       "</table>\n",
       "<p>3321 rows × 9 columns</p>\n",
       "</div>"
      ],
      "text/plain": [
       "     maquina_id  linha fabrica status turno  contagem_total_ciclos  \\\n",
       "0        TMF009     14       2  false   NOT                    0.0   \n",
       "1        TMF013     13       2   true   NOT                 8120.0   \n",
       "2        TMF007     12       2   true   NOT                  170.0   \n",
       "3        TMF010     11       2   true   NOT                 7946.0   \n",
       "4        TMF008     10       2  false   NOT                   74.0   \n",
       "...         ...    ...     ...    ...   ...                    ...   \n",
       "3316     TMF002      5       1  false   NOT                    0.0   \n",
       "3317     TMF012      4       1   true   NOT                    0.0   \n",
       "3318     TMF005      3       1  false   NOT                    0.0   \n",
       "3319     TMF011      2       1  false   NOT                    0.0   \n",
       "3320     TMF003      1       1  false   NOT                    0.0   \n",
       "\n",
       "      contagem_total_produzido data_registro    hora_registro  \n",
       "0                          0.0    2024-07-13  07:59:54.586666  \n",
       "1                       7910.0    2024-07-13  07:59:53.583333  \n",
       "2                        100.0    2024-07-13  07:59:52.583333  \n",
       "3                       7796.0    2024-07-13  07:59:51.580000  \n",
       "4                          0.0    2024-07-13  07:59:50.583333  \n",
       "...                        ...           ...              ...  \n",
       "3316                       0.0    2024-07-13  00:00:05.503333  \n",
       "3317                       0.0    2024-07-13  00:00:04.500000  \n",
       "3318                       0.0    2024-07-13  00:00:03.496666  \n",
       "3319                       0.0    2024-07-13  00:00:02.496666  \n",
       "3320                       0.0    2024-07-13  00:00:01.496666  \n",
       "\n",
       "[3321 rows x 9 columns]"
      ]
     },
     "execution_count": 5,
     "metadata": {},
     "output_type": "execute_result"
    }
   ],
   "source": [
    "# // database/get_data.py\n",
    "# cSpell: disable=invalid-name\n",
    "class GetData:\n",
    "    \"\"\"\n",
    "    Essa classe é responsável por realizar a leitura dos dados do banco de dados.\n",
    "    É utilizada para fazer a leitura em segundo plano, sem que o usuário perceba.\n",
    "    \"\"\"\n",
    "\n",
    "    def __init__(self):\n",
    "        self.db_read = Read()\n",
    "\n",
    "    def determinar_turno(self):\n",
    "\n",
    "        hora_atual = datetime.now()\n",
    "\n",
    "        if hora_atual.hour in range(0, 8):\n",
    "            return \"NOT\"\n",
    "        elif hora_atual.hour in range(8, 16):\n",
    "            return \"MAT\"\n",
    "        else:\n",
    "            return \"VES\"\n",
    "\n",
    "    def calcular_intervalo_turno_passado(self):\n",
    "\n",
    "        hora_atual = datetime.now()\n",
    "\n",
    "        turno_atual = self.determinar_turno()\n",
    "\n",
    "        # Dict ajustando inicio e fim do turno para o anterior ao selecionado\n",
    "        turno_dict = {\"NOT\": \"VES\", \"MAT\": \"NOT\", \"VES\": \"MAT\"}\n",
    "\n",
    "        # Ajustar a data do turno anterior (Caso seja NOT ajustar para o dia anterior)\n",
    "        if turno_atual == \"NOT\":\n",
    "            inicio_turno_passado = hora_atual - timedelta(days=1)\n",
    "        else:\n",
    "            inicio_turno_passado = hora_atual\n",
    "\n",
    "        return inicio_turno_passado, turno_dict[turno_atual]\n",
    "\n",
    "    def get_last_turn_data(self) -> pd.DataFrame:\n",
    "        data_turno_passado, turno_passado = self.calcular_intervalo_turno_passado()\n",
    "\n",
    "        # Separar data e hora\n",
    "        data_inicio = data_turno_passado.strftime(\"%Y-%m-%d\")\n",
    "\n",
    "        query = (\n",
    "            \"SELECT\"\n",
    "            \" t1.maquina_id,\"\n",
    "            \" (SELECT TOP 1 t2.linha FROM AUTOMACAO.dbo.maquina_cadastro t2\"\n",
    "            \" WHERE t2.maquina_id = t1.maquina_id AND t2.data_registro <= t1.data_registro\"\n",
    "            \" ORDER BY t2.data_registro DESC, t2.hora_registro DESC) as linha,\"\n",
    "            \" (SELECT TOP 1 t2.fabrica FROM AUTOMACAO.dbo.maquina_cadastro t2\"\n",
    "            \" WHERE t2.maquina_id = t1.maquina_id AND t2.data_registro <= t1.data_registro\"\n",
    "            \" ORDER BY t2.data_registro DESC, t2.hora_registro DESC) as fabrica,\"\n",
    "            \" t1.status,\"\n",
    "            \" t1.turno,\"\n",
    "            \" t1.contagem_total_ciclos,\"\n",
    "            \" t1.contagem_total_produzido,\"\n",
    "            \" t1.data_registro,\"\n",
    "            \" t1.hora_registro\"\n",
    "            \" FROM \"\n",
    "            \" AUTOMACAO.dbo.maquina_info t1\"\n",
    "            f\" WHERE data_registro = '{data_inicio}' AND turno = '{turno_passado}'\"\n",
    "            \" ORDER BY t1.data_registro DESC, t1.hora_registro DESC\"\n",
    "        )\n",
    "\n",
    "        df = self.db_read.get_automacao_data(query)\n",
    "\n",
    "        return df\n",
    "\n",
    "    def get_data(self) -> tuple:\n",
    "        \"\"\"\n",
    "        Realiza a leitura dos dados do banco de dados.\n",
    "        Retorna na ordem: df_ihm, df_info, df_cadastro\n",
    "        \"\"\"\n",
    "\n",
    "        # Dia de hoje\n",
    "        now = pd.to_datetime(\"today\")\n",
    "\n",
    "        # Encontrando primeiro dia do mês atual\n",
    "        first_day = now.replace(day=1)\n",
    "\n",
    "        # Mantendo apenas a data\n",
    "        first_day = first_day.strftime(\"%Y-%m-%d\")\n",
    "\n",
    "        # Query para leitura dos dados de ocorrência\n",
    "        query_ihm = self.db_read.create_automacao_query(\n",
    "            table=\"maquina_ihm\",\n",
    "            where=f\"data_registro >= '{first_day}'\",\n",
    "        )\n",
    "\n",
    "        query_info = (\n",
    "            \"SELECT\"\n",
    "            \" t1.maquina_id,\"\n",
    "            \" (SELECT TOP 1 t2.linha FROM AUTOMACAO.dbo.maquina_cadastro t2\"\n",
    "            \" WHERE t2.maquina_id = t1.maquina_id AND t2.data_registro <= t1.data_registro\"\n",
    "            \" ORDER BY t2.data_registro DESC, t2.hora_registro DESC) as linha,\"\n",
    "            \" (SELECT TOP 1 t2.fabrica FROM AUTOMACAO.dbo.maquina_cadastro t2\"\n",
    "            \" WHERE t2.maquina_id = t1.maquina_id AND t2.data_registro <= t1.data_registro\"\n",
    "            \" ORDER BY t2.data_registro DESC, t2.hora_registro DESC) as fabrica,\"\n",
    "            \" t1.status,\"\n",
    "            \" t1.turno,\"\n",
    "            \" t1.contagem_total_ciclos,\"\n",
    "            \" t1.contagem_total_produzido,\"\n",
    "            \" t1.data_registro,\"\n",
    "            \" t1.hora_registro\"\n",
    "            \" FROM \"\n",
    "            \" AUTOMACAO.dbo.maquina_info t1\"\n",
    "            f\" WHERE data_registro >= '{first_day}'\"\n",
    "            \" ORDER BY t1.data_registro DESC, t1.hora_registro DESC\"\n",
    "        )\n",
    "\n",
    "        query_production = (\n",
    "            \"SELECT * \"\n",
    "            \"FROM ( \"\n",
    "            \"SELECT \"\n",
    "            \"(SELECT TOP 1 t2.fabrica FROM AUTOMACAO.dbo.maquina_cadastro t2 \"\n",
    "            \"WHERE t2.maquina_id = t1.maquina_id AND t2.data_registro <= t1.data_registro \"\n",
    "            \"ORDER BY t2.data_registro DESC, t2.hora_registro DESC) as fabrica, \"\n",
    "            \"(SELECT TOP 1 t2.linha FROM AUTOMACAO.dbo.maquina_cadastro t2 \"\n",
    "            \"WHERE t2.maquina_id = t1.maquina_id AND t2.data_registro <= t1.data_registro \"\n",
    "            \"ORDER BY t2.data_registro DESC, t2.hora_registro DESC) as linha, \"\n",
    "            \"t1.maquina_id, \"\n",
    "            \"t1.turno, \"\n",
    "            \"t1.status, \"\n",
    "            \"t1.contagem_total_ciclos as total_ciclos, \"\n",
    "            \"t1.contagem_total_produzido as total_produzido, \"\n",
    "            \"t1.data_registro, \"\n",
    "            \"t1.hora_registro, \"\n",
    "            \"ROW_NUMBER() OVER ( \"\n",
    "            \"PARTITION BY t1.data_registro, t1.turno, t1.maquina_id \"\n",
    "            \"ORDER BY t1.data_registro DESC, t1.hora_registro DESC\"\n",
    "            \") AS rn \"\n",
    "            \"FROM AUTOMACAO.dbo.maquina_info t1 \"\n",
    "            \") AS t \"\n",
    "            f\" WHERE rn = 1 AND data_registro >= '{first_day}' AND hora_registro > '00:01'\"\n",
    "            \" ORDER BY data_registro DESC, linha\"\n",
    "        )\n",
    "\n",
    "        # Leitura dos dados\n",
    "        df_ihm = self.db_read.get_automacao_data(query_ihm)\n",
    "        df_info = self.db_read.get_automacao_data(query_info)\n",
    "        df_info_production = self.db_read.get_automacao_data(query_production)\n",
    "\n",
    "        # Verificando se os dados foram lidos corretamente\n",
    "        if df_ihm.empty or df_info.empty or df_info_production.empty:\n",
    "            print(\"====== Erro na leitura dos dados ======\")\n",
    "            return None, None, None\n",
    "\n",
    "        return df_ihm, df_info, df_info_production\n",
    "\n",
    "    def get_maq_quality_data(self) -> pd.DataFrame:\n",
    "        \"\"\"\n",
    "        Retrieves data from the 'maquina_qualidade' table in the AUTOMACAO database.\n",
    "\n",
    "        Returns:\n",
    "            DataFrame: A pandas DataFrame containing the retrieved data.\n",
    "        \"\"\"\n",
    "\n",
    "        # Encontrando o primeiro dia de 6 meses atrás\n",
    "        first_day = pd.to_datetime(\"today\").replace(day=1).strftime(\"%Y-%m-%d\")\n",
    "\n",
    "        # Query para leitura dos dados de qualidade\n",
    "        query = f\"SELECT * FROM AUTOMACAO.dbo.qualidade_ihm WHERE data_registro >= '{first_day}'\"\n",
    "\n",
    "        df = self.db_read.get_automacao_data(query)\n",
    "\n",
    "        return df\n",
    "\n",
    "\n",
    "get_data = GetData()\n",
    "df_ihm, df_info, df_info_production = get_data.get_data()\n",
    "df_quality = get_data.get_maq_quality_data()\n",
    "df_last_turn = get_data.get_last_turn_data()\n",
    "df_last_turn"
   ]
  },
  {
   "cell_type": "markdown",
   "metadata": {},
   "source": [
    "## Testes de saída do banco de dados\n"
   ]
  },
  {
   "cell_type": "code",
   "execution_count": 6,
   "metadata": {
    "notebookRunGroups": {
     "groupValue": "1"
    }
   },
   "outputs": [
    {
     "data": {
      "text/html": [
       "<div>\n",
       "<style scoped>\n",
       "    .dataframe tbody tr th:only-of-type {\n",
       "        vertical-align: middle;\n",
       "    }\n",
       "\n",
       "    .dataframe tbody tr th {\n",
       "        vertical-align: top;\n",
       "    }\n",
       "\n",
       "    .dataframe thead th {\n",
       "        text-align: right;\n",
       "    }\n",
       "</style>\n",
       "<table border=\"1\" class=\"dataframe\">\n",
       "  <thead>\n",
       "    <tr style=\"text-align: right;\">\n",
       "      <th></th>\n",
       "      <th>recno</th>\n",
       "      <th>linha</th>\n",
       "      <th>maquina_id</th>\n",
       "      <th>motivo</th>\n",
       "      <th>equipamento</th>\n",
       "      <th>problema</th>\n",
       "      <th>causa</th>\n",
       "      <th>os_numero</th>\n",
       "      <th>operador_id</th>\n",
       "      <th>data_registro</th>\n",
       "      <th>hora_registro</th>\n",
       "    </tr>\n",
       "  </thead>\n",
       "  <tbody>\n",
       "    <tr>\n",
       "      <th>0</th>\n",
       "      <td>5935</td>\n",
       "      <td>2</td>\n",
       "      <td>TMF011</td>\n",
       "      <td>Ajustes</td>\n",
       "      <td>Termoformadora</td>\n",
       "      <td>Troca de Bobina</td>\n",
       "      <td>Troca de Bobina Inferior</td>\n",
       "      <td>0</td>\n",
       "      <td>1643</td>\n",
       "      <td>2024-07-01</td>\n",
       "      <td>00:00:44.313333</td>\n",
       "    </tr>\n",
       "    <tr>\n",
       "      <th>1</th>\n",
       "      <td>5936</td>\n",
       "      <td>2</td>\n",
       "      <td>TMF011</td>\n",
       "      <td>Parada Programada</td>\n",
       "      <td></td>\n",
       "      <td>Parada Planejada</td>\n",
       "      <td>Sem Produção</td>\n",
       "      <td>0</td>\n",
       "      <td>434</td>\n",
       "      <td>2024-07-01</td>\n",
       "      <td>00:01:35.953333</td>\n",
       "    </tr>\n",
       "    <tr>\n",
       "      <th>2</th>\n",
       "      <td>5937</td>\n",
       "      <td>4</td>\n",
       "      <td>TMF012</td>\n",
       "      <td>Ajustes</td>\n",
       "      <td>Termoformadora</td>\n",
       "      <td>Troca de Bobina</td>\n",
       "      <td>Troca de Bobina Inferior</td>\n",
       "      <td>0</td>\n",
       "      <td>434</td>\n",
       "      <td>2024-07-01</td>\n",
       "      <td>00:08:53.963333</td>\n",
       "    </tr>\n",
       "    <tr>\n",
       "      <th>3</th>\n",
       "      <td>5938</td>\n",
       "      <td>3</td>\n",
       "      <td>TMF005</td>\n",
       "      <td>Parada Programada</td>\n",
       "      <td></td>\n",
       "      <td>Parada Planejada</td>\n",
       "      <td>Backup</td>\n",
       "      <td>0</td>\n",
       "      <td>1643</td>\n",
       "      <td>2024-07-01</td>\n",
       "      <td>00:09:07.906666</td>\n",
       "    </tr>\n",
       "    <tr>\n",
       "      <th>4</th>\n",
       "      <td>5939</td>\n",
       "      <td>6</td>\n",
       "      <td>TMF001</td>\n",
       "      <td>Limpeza</td>\n",
       "      <td></td>\n",
       "      <td>Limpeza para parada de Fábrica</td>\n",
       "      <td></td>\n",
       "      <td>0</td>\n",
       "      <td>1373</td>\n",
       "      <td>2024-07-01</td>\n",
       "      <td>00:10:01.890000</td>\n",
       "    </tr>\n",
       "    <tr>\n",
       "      <th>5</th>\n",
       "      <td>5940</td>\n",
       "      <td>9</td>\n",
       "      <td>TMF004</td>\n",
       "      <td>Parada Programada</td>\n",
       "      <td></td>\n",
       "      <td>Parada Planejada</td>\n",
       "      <td>Backup</td>\n",
       "      <td>0</td>\n",
       "      <td>434</td>\n",
       "      <td>2024-07-01</td>\n",
       "      <td>00:12:35.760000</td>\n",
       "    </tr>\n",
       "    <tr>\n",
       "      <th>6</th>\n",
       "      <td>5941</td>\n",
       "      <td>8</td>\n",
       "      <td>TMF014</td>\n",
       "      <td>Limpeza</td>\n",
       "      <td></td>\n",
       "      <td>Limpeza para parada de Fábrica</td>\n",
       "      <td></td>\n",
       "      <td>0</td>\n",
       "      <td>1646</td>\n",
       "      <td>2024-07-01</td>\n",
       "      <td>00:13:34.706666</td>\n",
       "    </tr>\n",
       "    <tr>\n",
       "      <th>7</th>\n",
       "      <td>5942</td>\n",
       "      <td>7</td>\n",
       "      <td>TMF006</td>\n",
       "      <td>Limpeza</td>\n",
       "      <td></td>\n",
       "      <td>Limpeza para parada de Fábrica</td>\n",
       "      <td></td>\n",
       "      <td>0</td>\n",
       "      <td>1643</td>\n",
       "      <td>2024-07-01</td>\n",
       "      <td>00:16:28.540000</td>\n",
       "    </tr>\n",
       "    <tr>\n",
       "      <th>8</th>\n",
       "      <td>5943</td>\n",
       "      <td>3</td>\n",
       "      <td>TMF005</td>\n",
       "      <td>Qualidade</td>\n",
       "      <td>Termoformadora</td>\n",
       "      <td>Parâmetros de Qualidade</td>\n",
       "      <td>Esquadro da bandeja inadequado</td>\n",
       "      <td>0</td>\n",
       "      <td>1373</td>\n",
       "      <td>2024-07-01</td>\n",
       "      <td>00:17:32.220000</td>\n",
       "    </tr>\n",
       "    <tr>\n",
       "      <th>9</th>\n",
       "      <td>5944</td>\n",
       "      <td>5</td>\n",
       "      <td>TMF002</td>\n",
       "      <td>Limpeza</td>\n",
       "      <td></td>\n",
       "      <td>Limpeza para parada de Fábrica</td>\n",
       "      <td></td>\n",
       "      <td>0</td>\n",
       "      <td>1643</td>\n",
       "      <td>2024-07-01</td>\n",
       "      <td>00:17:44.566666</td>\n",
       "    </tr>\n",
       "    <tr>\n",
       "      <th>10</th>\n",
       "      <td>5945</td>\n",
       "      <td>3</td>\n",
       "      <td>TMF005</td>\n",
       "      <td>Qualidade</td>\n",
       "      <td>Termoformadora</td>\n",
       "      <td>Parâmetros de Qualidade</td>\n",
       "      <td>Esquadro da bandeja inadequado</td>\n",
       "      <td>0</td>\n",
       "      <td>1373</td>\n",
       "      <td>2024-07-01</td>\n",
       "      <td>00:18:46.096666</td>\n",
       "    </tr>\n",
       "    <tr>\n",
       "      <th>11</th>\n",
       "      <td>5946</td>\n",
       "      <td>4</td>\n",
       "      <td>TMF012</td>\n",
       "      <td>Ajustes</td>\n",
       "      <td>Termoformadora</td>\n",
       "      <td>Troca de Bobina</td>\n",
       "      <td>Troca de Bobina Inferior</td>\n",
       "      <td>0</td>\n",
       "      <td>434</td>\n",
       "      <td>2024-07-01</td>\n",
       "      <td>00:18:52.623333</td>\n",
       "    </tr>\n",
       "    <tr>\n",
       "      <th>12</th>\n",
       "      <td>5947</td>\n",
       "      <td>3</td>\n",
       "      <td>TMF005</td>\n",
       "      <td>Parada Programada</td>\n",
       "      <td></td>\n",
       "      <td>Parada Planejada</td>\n",
       "      <td>Sem Produção</td>\n",
       "      <td>0</td>\n",
       "      <td>1373</td>\n",
       "      <td>2024-07-01</td>\n",
       "      <td>00:20:11.216666</td>\n",
       "    </tr>\n",
       "    <tr>\n",
       "      <th>13</th>\n",
       "      <td>5948</td>\n",
       "      <td>4</td>\n",
       "      <td>TMF012</td>\n",
       "      <td>Ajustes</td>\n",
       "      <td>Termoformadora</td>\n",
       "      <td>Troca de Bobina</td>\n",
       "      <td>Troca de Bobina Inferior</td>\n",
       "      <td>0</td>\n",
       "      <td>434</td>\n",
       "      <td>2024-07-01</td>\n",
       "      <td>00:20:22.700000</td>\n",
       "    </tr>\n",
       "    <tr>\n",
       "      <th>14</th>\n",
       "      <td>5949</td>\n",
       "      <td>4</td>\n",
       "      <td>TMF012</td>\n",
       "      <td>Ajustes</td>\n",
       "      <td>Termoformadora</td>\n",
       "      <td>Troca de Bobina</td>\n",
       "      <td>Troca de Bobina Inferior</td>\n",
       "      <td>0</td>\n",
       "      <td>434</td>\n",
       "      <td>2024-07-01</td>\n",
       "      <td>00:21:04.780000</td>\n",
       "    </tr>\n",
       "    <tr>\n",
       "      <th>15</th>\n",
       "      <td>5950</td>\n",
       "      <td>6</td>\n",
       "      <td>TMF001</td>\n",
       "      <td>Limpeza</td>\n",
       "      <td></td>\n",
       "      <td>Limpeza para parada de Fábrica</td>\n",
       "      <td></td>\n",
       "      <td>0</td>\n",
       "      <td>1373</td>\n",
       "      <td>2024-07-01</td>\n",
       "      <td>00:21:23.096666</td>\n",
       "    </tr>\n",
       "    <tr>\n",
       "      <th>16</th>\n",
       "      <td>5951</td>\n",
       "      <td>4</td>\n",
       "      <td>TMF012</td>\n",
       "      <td>Parada Programada</td>\n",
       "      <td></td>\n",
       "      <td>Parada Planejada</td>\n",
       "      <td>Sem Produção</td>\n",
       "      <td>0</td>\n",
       "      <td>434</td>\n",
       "      <td>2024-07-01</td>\n",
       "      <td>00:21:38.720000</td>\n",
       "    </tr>\n",
       "    <tr>\n",
       "      <th>17</th>\n",
       "      <td>5952</td>\n",
       "      <td>6</td>\n",
       "      <td>TMF001</td>\n",
       "      <td>Limpeza</td>\n",
       "      <td></td>\n",
       "      <td>Limpeza para parada de Fábrica</td>\n",
       "      <td></td>\n",
       "      <td>0</td>\n",
       "      <td>1373</td>\n",
       "      <td>2024-07-01</td>\n",
       "      <td>00:22:07.423333</td>\n",
       "    </tr>\n",
       "    <tr>\n",
       "      <th>18</th>\n",
       "      <td>5953</td>\n",
       "      <td>6</td>\n",
       "      <td>TMF001</td>\n",
       "      <td>Limpeza</td>\n",
       "      <td></td>\n",
       "      <td>Limpeza para parada de Fábrica</td>\n",
       "      <td></td>\n",
       "      <td>0</td>\n",
       "      <td>1373</td>\n",
       "      <td>2024-07-01</td>\n",
       "      <td>00:22:38.263333</td>\n",
       "    </tr>\n",
       "    <tr>\n",
       "      <th>19</th>\n",
       "      <td>5954</td>\n",
       "      <td>5</td>\n",
       "      <td>TMF002</td>\n",
       "      <td>Qualidade</td>\n",
       "      <td>Termoformadora</td>\n",
       "      <td>Parâmetros de Qualidade</td>\n",
       "      <td>Data fora de posição</td>\n",
       "      <td>0</td>\n",
       "      <td>1373</td>\n",
       "      <td>2024-07-01</td>\n",
       "      <td>00:23:28.776666</td>\n",
       "    </tr>\n",
       "  </tbody>\n",
       "</table>\n",
       "</div>"
      ],
      "text/plain": [
       "    recno  linha maquina_id             motivo     equipamento  \\\n",
       "0    5935      2     TMF011            Ajustes  Termoformadora   \n",
       "1    5936      2     TMF011  Parada Programada                   \n",
       "2    5937      4     TMF012            Ajustes  Termoformadora   \n",
       "3    5938      3     TMF005  Parada Programada                   \n",
       "4    5939      6     TMF001            Limpeza                   \n",
       "5    5940      9     TMF004  Parada Programada                   \n",
       "6    5941      8     TMF014            Limpeza                   \n",
       "7    5942      7     TMF006            Limpeza                   \n",
       "8    5943      3     TMF005          Qualidade  Termoformadora   \n",
       "9    5944      5     TMF002            Limpeza                   \n",
       "10   5945      3     TMF005          Qualidade  Termoformadora   \n",
       "11   5946      4     TMF012            Ajustes  Termoformadora   \n",
       "12   5947      3     TMF005  Parada Programada                   \n",
       "13   5948      4     TMF012            Ajustes  Termoformadora   \n",
       "14   5949      4     TMF012            Ajustes  Termoformadora   \n",
       "15   5950      6     TMF001            Limpeza                   \n",
       "16   5951      4     TMF012  Parada Programada                   \n",
       "17   5952      6     TMF001            Limpeza                   \n",
       "18   5953      6     TMF001            Limpeza                   \n",
       "19   5954      5     TMF002          Qualidade  Termoformadora   \n",
       "\n",
       "                          problema                           causa os_numero  \\\n",
       "0                  Troca de Bobina        Troca de Bobina Inferior         0   \n",
       "1                 Parada Planejada                    Sem Produção         0   \n",
       "2                  Troca de Bobina        Troca de Bobina Inferior         0   \n",
       "3                 Parada Planejada                          Backup         0   \n",
       "4   Limpeza para parada de Fábrica                                         0   \n",
       "5                 Parada Planejada                          Backup         0   \n",
       "6   Limpeza para parada de Fábrica                                         0   \n",
       "7   Limpeza para parada de Fábrica                                         0   \n",
       "8          Parâmetros de Qualidade  Esquadro da bandeja inadequado         0   \n",
       "9   Limpeza para parada de Fábrica                                         0   \n",
       "10         Parâmetros de Qualidade  Esquadro da bandeja inadequado         0   \n",
       "11                 Troca de Bobina        Troca de Bobina Inferior         0   \n",
       "12                Parada Planejada                    Sem Produção         0   \n",
       "13                 Troca de Bobina        Troca de Bobina Inferior         0   \n",
       "14                 Troca de Bobina        Troca de Bobina Inferior         0   \n",
       "15  Limpeza para parada de Fábrica                                         0   \n",
       "16                Parada Planejada                    Sem Produção         0   \n",
       "17  Limpeza para parada de Fábrica                                         0   \n",
       "18  Limpeza para parada de Fábrica                                         0   \n",
       "19         Parâmetros de Qualidade            Data fora de posição         0   \n",
       "\n",
       "   operador_id data_registro    hora_registro  \n",
       "0         1643    2024-07-01  00:00:44.313333  \n",
       "1          434    2024-07-01  00:01:35.953333  \n",
       "2          434    2024-07-01  00:08:53.963333  \n",
       "3         1643    2024-07-01  00:09:07.906666  \n",
       "4         1373    2024-07-01  00:10:01.890000  \n",
       "5          434    2024-07-01  00:12:35.760000  \n",
       "6         1646    2024-07-01  00:13:34.706666  \n",
       "7         1643    2024-07-01  00:16:28.540000  \n",
       "8         1373    2024-07-01  00:17:32.220000  \n",
       "9         1643    2024-07-01  00:17:44.566666  \n",
       "10        1373    2024-07-01  00:18:46.096666  \n",
       "11         434    2024-07-01  00:18:52.623333  \n",
       "12        1373    2024-07-01  00:20:11.216666  \n",
       "13         434    2024-07-01  00:20:22.700000  \n",
       "14         434    2024-07-01  00:21:04.780000  \n",
       "15        1373    2024-07-01  00:21:23.096666  \n",
       "16         434    2024-07-01  00:21:38.720000  \n",
       "17        1373    2024-07-01  00:22:07.423333  \n",
       "18        1373    2024-07-01  00:22:38.263333  \n",
       "19        1373    2024-07-01  00:23:28.776666  "
      ]
     },
     "execution_count": 6,
     "metadata": {},
     "output_type": "execute_result"
    }
   ],
   "source": [
    "df_ihm.head(20)"
   ]
  },
  {
   "cell_type": "code",
   "execution_count": 7,
   "metadata": {
    "notebookRunGroups": {
     "groupValue": "1"
    }
   },
   "outputs": [
    {
     "data": {
      "text/html": [
       "<div>\n",
       "<style scoped>\n",
       "    .dataframe tbody tr th:only-of-type {\n",
       "        vertical-align: middle;\n",
       "    }\n",
       "\n",
       "    .dataframe tbody tr th {\n",
       "        vertical-align: top;\n",
       "    }\n",
       "\n",
       "    .dataframe thead th {\n",
       "        text-align: right;\n",
       "    }\n",
       "</style>\n",
       "<table border=\"1\" class=\"dataframe\">\n",
       "  <thead>\n",
       "    <tr style=\"text-align: right;\">\n",
       "      <th></th>\n",
       "      <th>maquina_id</th>\n",
       "      <th>linha</th>\n",
       "      <th>fabrica</th>\n",
       "      <th>status</th>\n",
       "      <th>turno</th>\n",
       "      <th>contagem_total_ciclos</th>\n",
       "      <th>contagem_total_produzido</th>\n",
       "      <th>data_registro</th>\n",
       "      <th>hora_registro</th>\n",
       "    </tr>\n",
       "  </thead>\n",
       "  <tbody>\n",
       "    <tr>\n",
       "      <th>0</th>\n",
       "      <td>TMF004</td>\n",
       "      <td>9</td>\n",
       "      <td>1</td>\n",
       "      <td>true</td>\n",
       "      <td>MAT</td>\n",
       "      <td>2446.0</td>\n",
       "      <td>2420.0</td>\n",
       "      <td>2024-07-13</td>\n",
       "      <td>10:06:11.163333</td>\n",
       "    </tr>\n",
       "    <tr>\n",
       "      <th>1</th>\n",
       "      <td>TMF014</td>\n",
       "      <td>8</td>\n",
       "      <td>1</td>\n",
       "      <td>true</td>\n",
       "      <td>MAT</td>\n",
       "      <td>2452.0</td>\n",
       "      <td>0.0</td>\n",
       "      <td>2024-07-13</td>\n",
       "      <td>10:06:10.166666</td>\n",
       "    </tr>\n",
       "    <tr>\n",
       "      <th>2</th>\n",
       "      <td>TMF006</td>\n",
       "      <td>7</td>\n",
       "      <td>1</td>\n",
       "      <td>true</td>\n",
       "      <td>MAT</td>\n",
       "      <td>2620.0</td>\n",
       "      <td>0.0</td>\n",
       "      <td>2024-07-13</td>\n",
       "      <td>10:06:09.166666</td>\n",
       "    </tr>\n",
       "    <tr>\n",
       "      <th>3</th>\n",
       "      <td>TMF001</td>\n",
       "      <td>6</td>\n",
       "      <td>1</td>\n",
       "      <td>false</td>\n",
       "      <td>MAT</td>\n",
       "      <td>0.0</td>\n",
       "      <td>0.0</td>\n",
       "      <td>2024-07-13</td>\n",
       "      <td>10:06:08.166666</td>\n",
       "    </tr>\n",
       "    <tr>\n",
       "      <th>4</th>\n",
       "      <td>TMF002</td>\n",
       "      <td>5</td>\n",
       "      <td>1</td>\n",
       "      <td>false</td>\n",
       "      <td>MAT</td>\n",
       "      <td>0.0</td>\n",
       "      <td>0.0</td>\n",
       "      <td>2024-07-13</td>\n",
       "      <td>10:06:07.163333</td>\n",
       "    </tr>\n",
       "    <tr>\n",
       "      <th>5</th>\n",
       "      <td>TMF012</td>\n",
       "      <td>4</td>\n",
       "      <td>1</td>\n",
       "      <td>true</td>\n",
       "      <td>MAT</td>\n",
       "      <td>2466.0</td>\n",
       "      <td>0.0</td>\n",
       "      <td>2024-07-13</td>\n",
       "      <td>10:06:06.163333</td>\n",
       "    </tr>\n",
       "    <tr>\n",
       "      <th>6</th>\n",
       "      <td>TMF005</td>\n",
       "      <td>3</td>\n",
       "      <td>1</td>\n",
       "      <td>true</td>\n",
       "      <td>MAT</td>\n",
       "      <td>1518.0</td>\n",
       "      <td>1504.0</td>\n",
       "      <td>2024-07-13</td>\n",
       "      <td>10:06:05.163333</td>\n",
       "    </tr>\n",
       "    <tr>\n",
       "      <th>7</th>\n",
       "      <td>TMF011</td>\n",
       "      <td>2</td>\n",
       "      <td>1</td>\n",
       "      <td>true</td>\n",
       "      <td>MAT</td>\n",
       "      <td>2462.0</td>\n",
       "      <td>2462.0</td>\n",
       "      <td>2024-07-13</td>\n",
       "      <td>10:06:04.163333</td>\n",
       "    </tr>\n",
       "    <tr>\n",
       "      <th>8</th>\n",
       "      <td>TMF003</td>\n",
       "      <td>1</td>\n",
       "      <td>1</td>\n",
       "      <td>true</td>\n",
       "      <td>MAT</td>\n",
       "      <td>2478.0</td>\n",
       "      <td>2478.0</td>\n",
       "      <td>2024-07-13</td>\n",
       "      <td>10:06:03.163333</td>\n",
       "    </tr>\n",
       "    <tr>\n",
       "      <th>9</th>\n",
       "      <td>TMF009</td>\n",
       "      <td>14</td>\n",
       "      <td>2</td>\n",
       "      <td>false</td>\n",
       "      <td>MAT</td>\n",
       "      <td>0.0</td>\n",
       "      <td>0.0</td>\n",
       "      <td>2024-07-13</td>\n",
       "      <td>10:05:54.946666</td>\n",
       "    </tr>\n",
       "    <tr>\n",
       "      <th>10</th>\n",
       "      <td>TMF013</td>\n",
       "      <td>13</td>\n",
       "      <td>2</td>\n",
       "      <td>false</td>\n",
       "      <td>MAT</td>\n",
       "      <td>74.0</td>\n",
       "      <td>62.0</td>\n",
       "      <td>2024-07-13</td>\n",
       "      <td>10:05:53.946666</td>\n",
       "    </tr>\n",
       "    <tr>\n",
       "      <th>11</th>\n",
       "      <td>TMF007</td>\n",
       "      <td>12</td>\n",
       "      <td>2</td>\n",
       "      <td>true</td>\n",
       "      <td>MAT</td>\n",
       "      <td>1854.0</td>\n",
       "      <td>1804.0</td>\n",
       "      <td>2024-07-13</td>\n",
       "      <td>10:05:52.943333</td>\n",
       "    </tr>\n",
       "    <tr>\n",
       "      <th>12</th>\n",
       "      <td>TMF010</td>\n",
       "      <td>11</td>\n",
       "      <td>2</td>\n",
       "      <td>true</td>\n",
       "      <td>MAT</td>\n",
       "      <td>564.0</td>\n",
       "      <td>546.0</td>\n",
       "      <td>2024-07-13</td>\n",
       "      <td>10:05:51.943333</td>\n",
       "    </tr>\n",
       "    <tr>\n",
       "      <th>13</th>\n",
       "      <td>TMF008</td>\n",
       "      <td>10</td>\n",
       "      <td>2</td>\n",
       "      <td>false</td>\n",
       "      <td>MAT</td>\n",
       "      <td>1642.0</td>\n",
       "      <td>1558.0</td>\n",
       "      <td>2024-07-13</td>\n",
       "      <td>10:05:50.943333</td>\n",
       "    </tr>\n",
       "    <tr>\n",
       "      <th>14</th>\n",
       "      <td>TMF004</td>\n",
       "      <td>9</td>\n",
       "      <td>1</td>\n",
       "      <td>true</td>\n",
       "      <td>MAT</td>\n",
       "      <td>2402.0</td>\n",
       "      <td>2376.0</td>\n",
       "      <td>2024-07-13</td>\n",
       "      <td>10:04:11.163333</td>\n",
       "    </tr>\n",
       "    <tr>\n",
       "      <th>15</th>\n",
       "      <td>TMF014</td>\n",
       "      <td>8</td>\n",
       "      <td>1</td>\n",
       "      <td>true</td>\n",
       "      <td>MAT</td>\n",
       "      <td>2412.0</td>\n",
       "      <td>0.0</td>\n",
       "      <td>2024-07-13</td>\n",
       "      <td>10:04:10.163333</td>\n",
       "    </tr>\n",
       "    <tr>\n",
       "      <th>16</th>\n",
       "      <td>TMF006</td>\n",
       "      <td>7</td>\n",
       "      <td>1</td>\n",
       "      <td>true</td>\n",
       "      <td>MAT</td>\n",
       "      <td>2578.0</td>\n",
       "      <td>0.0</td>\n",
       "      <td>2024-07-13</td>\n",
       "      <td>10:04:09.163333</td>\n",
       "    </tr>\n",
       "    <tr>\n",
       "      <th>17</th>\n",
       "      <td>TMF001</td>\n",
       "      <td>6</td>\n",
       "      <td>1</td>\n",
       "      <td>false</td>\n",
       "      <td>MAT</td>\n",
       "      <td>0.0</td>\n",
       "      <td>0.0</td>\n",
       "      <td>2024-07-13</td>\n",
       "      <td>10:04:08.160000</td>\n",
       "    </tr>\n",
       "    <tr>\n",
       "      <th>18</th>\n",
       "      <td>TMF002</td>\n",
       "      <td>5</td>\n",
       "      <td>1</td>\n",
       "      <td>false</td>\n",
       "      <td>MAT</td>\n",
       "      <td>0.0</td>\n",
       "      <td>0.0</td>\n",
       "      <td>2024-07-13</td>\n",
       "      <td>10:04:07.156666</td>\n",
       "    </tr>\n",
       "    <tr>\n",
       "      <th>19</th>\n",
       "      <td>TMF012</td>\n",
       "      <td>4</td>\n",
       "      <td>1</td>\n",
       "      <td>true</td>\n",
       "      <td>MAT</td>\n",
       "      <td>2422.0</td>\n",
       "      <td>0.0</td>\n",
       "      <td>2024-07-13</td>\n",
       "      <td>10:04:06.156666</td>\n",
       "    </tr>\n",
       "  </tbody>\n",
       "</table>\n",
       "</div>"
      ],
      "text/plain": [
       "   maquina_id  linha fabrica status turno  contagem_total_ciclos  \\\n",
       "0      TMF004      9       1   true   MAT                 2446.0   \n",
       "1      TMF014      8       1   true   MAT                 2452.0   \n",
       "2      TMF006      7       1   true   MAT                 2620.0   \n",
       "3      TMF001      6       1  false   MAT                    0.0   \n",
       "4      TMF002      5       1  false   MAT                    0.0   \n",
       "5      TMF012      4       1   true   MAT                 2466.0   \n",
       "6      TMF005      3       1   true   MAT                 1518.0   \n",
       "7      TMF011      2       1   true   MAT                 2462.0   \n",
       "8      TMF003      1       1   true   MAT                 2478.0   \n",
       "9      TMF009     14       2  false   MAT                    0.0   \n",
       "10     TMF013     13       2  false   MAT                   74.0   \n",
       "11     TMF007     12       2   true   MAT                 1854.0   \n",
       "12     TMF010     11       2   true   MAT                  564.0   \n",
       "13     TMF008     10       2  false   MAT                 1642.0   \n",
       "14     TMF004      9       1   true   MAT                 2402.0   \n",
       "15     TMF014      8       1   true   MAT                 2412.0   \n",
       "16     TMF006      7       1   true   MAT                 2578.0   \n",
       "17     TMF001      6       1  false   MAT                    0.0   \n",
       "18     TMF002      5       1  false   MAT                    0.0   \n",
       "19     TMF012      4       1   true   MAT                 2422.0   \n",
       "\n",
       "    contagem_total_produzido data_registro    hora_registro  \n",
       "0                     2420.0    2024-07-13  10:06:11.163333  \n",
       "1                        0.0    2024-07-13  10:06:10.166666  \n",
       "2                        0.0    2024-07-13  10:06:09.166666  \n",
       "3                        0.0    2024-07-13  10:06:08.166666  \n",
       "4                        0.0    2024-07-13  10:06:07.163333  \n",
       "5                        0.0    2024-07-13  10:06:06.163333  \n",
       "6                     1504.0    2024-07-13  10:06:05.163333  \n",
       "7                     2462.0    2024-07-13  10:06:04.163333  \n",
       "8                     2478.0    2024-07-13  10:06:03.163333  \n",
       "9                        0.0    2024-07-13  10:05:54.946666  \n",
       "10                      62.0    2024-07-13  10:05:53.946666  \n",
       "11                    1804.0    2024-07-13  10:05:52.943333  \n",
       "12                     546.0    2024-07-13  10:05:51.943333  \n",
       "13                    1558.0    2024-07-13  10:05:50.943333  \n",
       "14                    2376.0    2024-07-13  10:04:11.163333  \n",
       "15                       0.0    2024-07-13  10:04:10.163333  \n",
       "16                       0.0    2024-07-13  10:04:09.163333  \n",
       "17                       0.0    2024-07-13  10:04:08.160000  \n",
       "18                       0.0    2024-07-13  10:04:07.156666  \n",
       "19                       0.0    2024-07-13  10:04:06.156666  "
      ]
     },
     "execution_count": 7,
     "metadata": {},
     "output_type": "execute_result"
    }
   ],
   "source": [
    "df_info.head(20)"
   ]
  },
  {
   "cell_type": "code",
   "execution_count": 8,
   "metadata": {
    "notebookRunGroups": {
     "groupValue": "1"
    }
   },
   "outputs": [
    {
     "data": {
      "text/html": [
       "<div>\n",
       "<style scoped>\n",
       "    .dataframe tbody tr th:only-of-type {\n",
       "        vertical-align: middle;\n",
       "    }\n",
       "\n",
       "    .dataframe tbody tr th {\n",
       "        vertical-align: top;\n",
       "    }\n",
       "\n",
       "    .dataframe thead th {\n",
       "        text-align: right;\n",
       "    }\n",
       "</style>\n",
       "<table border=\"1\" class=\"dataframe\">\n",
       "  <thead>\n",
       "    <tr style=\"text-align: right;\">\n",
       "      <th></th>\n",
       "      <th>fabrica</th>\n",
       "      <th>linha</th>\n",
       "      <th>maquina_id</th>\n",
       "      <th>turno</th>\n",
       "      <th>status</th>\n",
       "      <th>total_ciclos</th>\n",
       "      <th>total_produzido</th>\n",
       "      <th>data_registro</th>\n",
       "      <th>hora_registro</th>\n",
       "      <th>rn</th>\n",
       "    </tr>\n",
       "  </thead>\n",
       "  <tbody>\n",
       "    <tr>\n",
       "      <th>0</th>\n",
       "      <td>1</td>\n",
       "      <td>1</td>\n",
       "      <td>TMF003</td>\n",
       "      <td>MAT</td>\n",
       "      <td>true</td>\n",
       "      <td>2478.0</td>\n",
       "      <td>2478.0</td>\n",
       "      <td>2024-07-13</td>\n",
       "      <td>10:06:03.163333</td>\n",
       "      <td>1</td>\n",
       "    </tr>\n",
       "    <tr>\n",
       "      <th>1</th>\n",
       "      <td>1</td>\n",
       "      <td>1</td>\n",
       "      <td>TMF003</td>\n",
       "      <td>NOT</td>\n",
       "      <td>true</td>\n",
       "      <td>8606.0</td>\n",
       "      <td>8606.0</td>\n",
       "      <td>2024-07-13</td>\n",
       "      <td>07:58:02.810000</td>\n",
       "      <td>1</td>\n",
       "    </tr>\n",
       "    <tr>\n",
       "      <th>2</th>\n",
       "      <td>1</td>\n",
       "      <td>2</td>\n",
       "      <td>TMF011</td>\n",
       "      <td>MAT</td>\n",
       "      <td>true</td>\n",
       "      <td>2462.0</td>\n",
       "      <td>2462.0</td>\n",
       "      <td>2024-07-13</td>\n",
       "      <td>10:06:04.163333</td>\n",
       "      <td>1</td>\n",
       "    </tr>\n",
       "    <tr>\n",
       "      <th>3</th>\n",
       "      <td>1</td>\n",
       "      <td>2</td>\n",
       "      <td>TMF011</td>\n",
       "      <td>NOT</td>\n",
       "      <td>true</td>\n",
       "      <td>8754.0</td>\n",
       "      <td>8750.0</td>\n",
       "      <td>2024-07-13</td>\n",
       "      <td>07:58:03.810000</td>\n",
       "      <td>1</td>\n",
       "    </tr>\n",
       "    <tr>\n",
       "      <th>4</th>\n",
       "      <td>1</td>\n",
       "      <td>3</td>\n",
       "      <td>TMF005</td>\n",
       "      <td>MAT</td>\n",
       "      <td>true</td>\n",
       "      <td>1518.0</td>\n",
       "      <td>1504.0</td>\n",
       "      <td>2024-07-13</td>\n",
       "      <td>10:06:05.163333</td>\n",
       "      <td>1</td>\n",
       "    </tr>\n",
       "    <tr>\n",
       "      <th>...</th>\n",
       "      <td>...</td>\n",
       "      <td>...</td>\n",
       "      <td>...</td>\n",
       "      <td>...</td>\n",
       "      <td>...</td>\n",
       "      <td>...</td>\n",
       "      <td>...</td>\n",
       "      <td>...</td>\n",
       "      <td>...</td>\n",
       "      <td>...</td>\n",
       "    </tr>\n",
       "    <tr>\n",
       "      <th>65</th>\n",
       "      <td>2</td>\n",
       "      <td>13</td>\n",
       "      <td>TMF013</td>\n",
       "      <td>NOT</td>\n",
       "      <td>false</td>\n",
       "      <td>7296.0</td>\n",
       "      <td>7198.0</td>\n",
       "      <td>2024-07-12</td>\n",
       "      <td>07:59:49.526666</td>\n",
       "      <td>1</td>\n",
       "    </tr>\n",
       "    <tr>\n",
       "      <th>66</th>\n",
       "      <td>2</td>\n",
       "      <td>13</td>\n",
       "      <td>TMF013</td>\n",
       "      <td>VES</td>\n",
       "      <td>false</td>\n",
       "      <td>3294.0</td>\n",
       "      <td>3256.0</td>\n",
       "      <td>2024-07-12</td>\n",
       "      <td>23:59:52.223333</td>\n",
       "      <td>1</td>\n",
       "    </tr>\n",
       "    <tr>\n",
       "      <th>67</th>\n",
       "      <td>2</td>\n",
       "      <td>14</td>\n",
       "      <td>TMF009</td>\n",
       "      <td>MAT</td>\n",
       "      <td>false</td>\n",
       "      <td>0.0</td>\n",
       "      <td>0.0</td>\n",
       "      <td>2024-07-12</td>\n",
       "      <td>15:59:51.863333</td>\n",
       "      <td>1</td>\n",
       "    </tr>\n",
       "    <tr>\n",
       "      <th>68</th>\n",
       "      <td>2</td>\n",
       "      <td>14</td>\n",
       "      <td>TMF009</td>\n",
       "      <td>NOT</td>\n",
       "      <td>false</td>\n",
       "      <td>0.0</td>\n",
       "      <td>0.0</td>\n",
       "      <td>2024-07-12</td>\n",
       "      <td>07:59:50.526666</td>\n",
       "      <td>1</td>\n",
       "    </tr>\n",
       "    <tr>\n",
       "      <th>69</th>\n",
       "      <td>2</td>\n",
       "      <td>14</td>\n",
       "      <td>TMF009</td>\n",
       "      <td>VES</td>\n",
       "      <td>false</td>\n",
       "      <td>0.0</td>\n",
       "      <td>0.0</td>\n",
       "      <td>2024-07-12</td>\n",
       "      <td>23:59:53.223333</td>\n",
       "      <td>1</td>\n",
       "    </tr>\n",
       "  </tbody>\n",
       "</table>\n",
       "<p>70 rows × 10 columns</p>\n",
       "</div>"
      ],
      "text/plain": [
       "   fabrica  linha maquina_id turno status  total_ciclos  total_produzido  \\\n",
       "0        1      1     TMF003   MAT   true        2478.0           2478.0   \n",
       "1        1      1     TMF003   NOT   true        8606.0           8606.0   \n",
       "2        1      2     TMF011   MAT   true        2462.0           2462.0   \n",
       "3        1      2     TMF011   NOT   true        8754.0           8750.0   \n",
       "4        1      3     TMF005   MAT   true        1518.0           1504.0   \n",
       "..     ...    ...        ...   ...    ...           ...              ...   \n",
       "65       2     13     TMF013   NOT  false        7296.0           7198.0   \n",
       "66       2     13     TMF013   VES  false        3294.0           3256.0   \n",
       "67       2     14     TMF009   MAT  false           0.0              0.0   \n",
       "68       2     14     TMF009   NOT  false           0.0              0.0   \n",
       "69       2     14     TMF009   VES  false           0.0              0.0   \n",
       "\n",
       "   data_registro    hora_registro  rn  \n",
       "0     2024-07-13  10:06:03.163333   1  \n",
       "1     2024-07-13  07:58:02.810000   1  \n",
       "2     2024-07-13  10:06:04.163333   1  \n",
       "3     2024-07-13  07:58:03.810000   1  \n",
       "4     2024-07-13  10:06:05.163333   1  \n",
       "..           ...              ...  ..  \n",
       "65    2024-07-12  07:59:49.526666   1  \n",
       "66    2024-07-12  23:59:52.223333   1  \n",
       "67    2024-07-12  15:59:51.863333   1  \n",
       "68    2024-07-12  07:59:50.526666   1  \n",
       "69    2024-07-12  23:59:53.223333   1  \n",
       "\n",
       "[70 rows x 10 columns]"
      ]
     },
     "execution_count": 8,
     "metadata": {},
     "output_type": "execute_result"
    }
   ],
   "source": [
    "df_info_production"
   ]
  },
  {
   "cell_type": "code",
   "execution_count": 9,
   "metadata": {},
   "outputs": [
    {
     "data": {
      "text/html": [
       "<div>\n",
       "<style scoped>\n",
       "    .dataframe tbody tr th:only-of-type {\n",
       "        vertical-align: middle;\n",
       "    }\n",
       "\n",
       "    .dataframe tbody tr th {\n",
       "        vertical-align: top;\n",
       "    }\n",
       "\n",
       "    .dataframe thead th {\n",
       "        text-align: right;\n",
       "    }\n",
       "</style>\n",
       "<table border=\"1\" class=\"dataframe\">\n",
       "  <thead>\n",
       "    <tr style=\"text-align: right;\">\n",
       "      <th></th>\n",
       "      <th>recno</th>\n",
       "      <th>linha</th>\n",
       "      <th>maquina_id</th>\n",
       "      <th>bdj_vazias</th>\n",
       "      <th>bdj_retrabalho</th>\n",
       "      <th>descarte_paes</th>\n",
       "      <th>descarte_paes_pasta</th>\n",
       "      <th>descarte_pasta</th>\n",
       "      <th>data_registro</th>\n",
       "      <th>hora_registro</th>\n",
       "    </tr>\n",
       "  </thead>\n",
       "  <tbody>\n",
       "    <tr>\n",
       "      <th>0</th>\n",
       "      <td>2510</td>\n",
       "      <td>4</td>\n",
       "      <td>TMF012</td>\n",
       "      <td>1.688</td>\n",
       "      <td>0.00</td>\n",
       "      <td>0.00</td>\n",
       "      <td>0.0</td>\n",
       "      <td>0.0</td>\n",
       "      <td>2024-07-11</td>\n",
       "      <td>22:41:02.140000</td>\n",
       "    </tr>\n",
       "    <tr>\n",
       "      <th>1</th>\n",
       "      <td>2511</td>\n",
       "      <td>13</td>\n",
       "      <td>TMF013</td>\n",
       "      <td>1.910</td>\n",
       "      <td>0.00</td>\n",
       "      <td>0.00</td>\n",
       "      <td>0.0</td>\n",
       "      <td>0.0</td>\n",
       "      <td>2024-07-12</td>\n",
       "      <td>00:21:12.903333</td>\n",
       "    </tr>\n",
       "    <tr>\n",
       "      <th>2</th>\n",
       "      <td>2512</td>\n",
       "      <td>9</td>\n",
       "      <td>TMF004</td>\n",
       "      <td>0.620</td>\n",
       "      <td>0.00</td>\n",
       "      <td>0.00</td>\n",
       "      <td>0.0</td>\n",
       "      <td>0.0</td>\n",
       "      <td>2024-07-12</td>\n",
       "      <td>03:21:14.146666</td>\n",
       "    </tr>\n",
       "    <tr>\n",
       "      <th>3</th>\n",
       "      <td>2513</td>\n",
       "      <td>1</td>\n",
       "      <td>TMF003</td>\n",
       "      <td>1.510</td>\n",
       "      <td>0.00</td>\n",
       "      <td>0.00</td>\n",
       "      <td>0.0</td>\n",
       "      <td>0.0</td>\n",
       "      <td>2024-07-12</td>\n",
       "      <td>03:54:20.670000</td>\n",
       "    </tr>\n",
       "    <tr>\n",
       "      <th>4</th>\n",
       "      <td>2514</td>\n",
       "      <td>8</td>\n",
       "      <td>TMF014</td>\n",
       "      <td>2.360</td>\n",
       "      <td>0.00</td>\n",
       "      <td>0.00</td>\n",
       "      <td>0.0</td>\n",
       "      <td>0.0</td>\n",
       "      <td>2024-07-12</td>\n",
       "      <td>06:48:43.250000</td>\n",
       "    </tr>\n",
       "    <tr>\n",
       "      <th>5</th>\n",
       "      <td>2515</td>\n",
       "      <td>11</td>\n",
       "      <td>TMF010</td>\n",
       "      <td>0.000</td>\n",
       "      <td>0.00</td>\n",
       "      <td>12.94</td>\n",
       "      <td>0.0</td>\n",
       "      <td>0.0</td>\n",
       "      <td>2024-07-12</td>\n",
       "      <td>07:29:27.520000</td>\n",
       "    </tr>\n",
       "    <tr>\n",
       "      <th>6</th>\n",
       "      <td>2516</td>\n",
       "      <td>13</td>\n",
       "      <td>TMF013</td>\n",
       "      <td>1.250</td>\n",
       "      <td>0.00</td>\n",
       "      <td>0.00</td>\n",
       "      <td>0.0</td>\n",
       "      <td>0.0</td>\n",
       "      <td>2024-07-12</td>\n",
       "      <td>07:41:06.796666</td>\n",
       "    </tr>\n",
       "    <tr>\n",
       "      <th>7</th>\n",
       "      <td>2517</td>\n",
       "      <td>13</td>\n",
       "      <td>TMF013</td>\n",
       "      <td>0.000</td>\n",
       "      <td>1.81</td>\n",
       "      <td>0.00</td>\n",
       "      <td>0.0</td>\n",
       "      <td>0.0</td>\n",
       "      <td>2024-07-12</td>\n",
       "      <td>07:41:14.626666</td>\n",
       "    </tr>\n",
       "    <tr>\n",
       "      <th>8</th>\n",
       "      <td>2518</td>\n",
       "      <td>13</td>\n",
       "      <td>TMF013</td>\n",
       "      <td>0.000</td>\n",
       "      <td>0.00</td>\n",
       "      <td>14.65</td>\n",
       "      <td>0.0</td>\n",
       "      <td>0.0</td>\n",
       "      <td>2024-07-12</td>\n",
       "      <td>07:42:16.603333</td>\n",
       "    </tr>\n",
       "    <tr>\n",
       "      <th>9</th>\n",
       "      <td>2519</td>\n",
       "      <td>13</td>\n",
       "      <td>TMF013</td>\n",
       "      <td>0.940</td>\n",
       "      <td>0.00</td>\n",
       "      <td>0.00</td>\n",
       "      <td>0.0</td>\n",
       "      <td>0.0</td>\n",
       "      <td>2024-07-12</td>\n",
       "      <td>08:51:39.406666</td>\n",
       "    </tr>\n",
       "    <tr>\n",
       "      <th>10</th>\n",
       "      <td>2520</td>\n",
       "      <td>13</td>\n",
       "      <td>TMF013</td>\n",
       "      <td>1.860</td>\n",
       "      <td>0.00</td>\n",
       "      <td>0.00</td>\n",
       "      <td>0.0</td>\n",
       "      <td>0.0</td>\n",
       "      <td>2024-07-12</td>\n",
       "      <td>09:24:21.763333</td>\n",
       "    </tr>\n",
       "    <tr>\n",
       "      <th>11</th>\n",
       "      <td>2521</td>\n",
       "      <td>13</td>\n",
       "      <td>TMF013</td>\n",
       "      <td>1.080</td>\n",
       "      <td>0.00</td>\n",
       "      <td>0.00</td>\n",
       "      <td>0.0</td>\n",
       "      <td>0.0</td>\n",
       "      <td>2024-07-12</td>\n",
       "      <td>09:24:31.643333</td>\n",
       "    </tr>\n",
       "    <tr>\n",
       "      <th>12</th>\n",
       "      <td>2522</td>\n",
       "      <td>11</td>\n",
       "      <td>TMF010</td>\n",
       "      <td>1.410</td>\n",
       "      <td>0.00</td>\n",
       "      <td>0.00</td>\n",
       "      <td>0.0</td>\n",
       "      <td>0.0</td>\n",
       "      <td>2024-07-12</td>\n",
       "      <td>09:53:19.716666</td>\n",
       "    </tr>\n",
       "    <tr>\n",
       "      <th>13</th>\n",
       "      <td>2523</td>\n",
       "      <td>12</td>\n",
       "      <td>TMF007</td>\n",
       "      <td>0.000</td>\n",
       "      <td>0.00</td>\n",
       "      <td>5.72</td>\n",
       "      <td>0.0</td>\n",
       "      <td>0.0</td>\n",
       "      <td>2024-07-12</td>\n",
       "      <td>10:10:31.786666</td>\n",
       "    </tr>\n",
       "    <tr>\n",
       "      <th>14</th>\n",
       "      <td>2524</td>\n",
       "      <td>4</td>\n",
       "      <td>TMF012</td>\n",
       "      <td>0.000</td>\n",
       "      <td>3.24</td>\n",
       "      <td>0.00</td>\n",
       "      <td>0.0</td>\n",
       "      <td>0.0</td>\n",
       "      <td>2024-07-12</td>\n",
       "      <td>10:39:13.410000</td>\n",
       "    </tr>\n",
       "    <tr>\n",
       "      <th>15</th>\n",
       "      <td>2525</td>\n",
       "      <td>2</td>\n",
       "      <td>TMF011</td>\n",
       "      <td>2.310</td>\n",
       "      <td>1.62</td>\n",
       "      <td>0.00</td>\n",
       "      <td>0.0</td>\n",
       "      <td>0.0</td>\n",
       "      <td>2024-07-12</td>\n",
       "      <td>11:37:12.206666</td>\n",
       "    </tr>\n",
       "    <tr>\n",
       "      <th>16</th>\n",
       "      <td>2526</td>\n",
       "      <td>1</td>\n",
       "      <td>TMF003</td>\n",
       "      <td>0.000</td>\n",
       "      <td>1.14</td>\n",
       "      <td>0.00</td>\n",
       "      <td>0.0</td>\n",
       "      <td>0.0</td>\n",
       "      <td>2024-07-12</td>\n",
       "      <td>12:06:28.190000</td>\n",
       "    </tr>\n",
       "    <tr>\n",
       "      <th>17</th>\n",
       "      <td>2527</td>\n",
       "      <td>1</td>\n",
       "      <td>TMF003</td>\n",
       "      <td>0.970</td>\n",
       "      <td>0.00</td>\n",
       "      <td>0.00</td>\n",
       "      <td>0.0</td>\n",
       "      <td>0.0</td>\n",
       "      <td>2024-07-12</td>\n",
       "      <td>12:10:45.996666</td>\n",
       "    </tr>\n",
       "    <tr>\n",
       "      <th>18</th>\n",
       "      <td>2528</td>\n",
       "      <td>4</td>\n",
       "      <td>TMF012</td>\n",
       "      <td>1.410</td>\n",
       "      <td>0.00</td>\n",
       "      <td>0.00</td>\n",
       "      <td>0.0</td>\n",
       "      <td>0.0</td>\n",
       "      <td>2024-07-12</td>\n",
       "      <td>12:27:38.816666</td>\n",
       "    </tr>\n",
       "    <tr>\n",
       "      <th>19</th>\n",
       "      <td>2529</td>\n",
       "      <td>8</td>\n",
       "      <td>TMF014</td>\n",
       "      <td>1.260</td>\n",
       "      <td>0.00</td>\n",
       "      <td>0.00</td>\n",
       "      <td>0.0</td>\n",
       "      <td>0.0</td>\n",
       "      <td>2024-07-12</td>\n",
       "      <td>12:35:27.396666</td>\n",
       "    </tr>\n",
       "  </tbody>\n",
       "</table>\n",
       "</div>"
      ],
      "text/plain": [
       "    recno  linha maquina_id  bdj_vazias  bdj_retrabalho  descarte_paes  \\\n",
       "0    2510      4     TMF012       1.688            0.00           0.00   \n",
       "1    2511     13     TMF013       1.910            0.00           0.00   \n",
       "2    2512      9     TMF004       0.620            0.00           0.00   \n",
       "3    2513      1     TMF003       1.510            0.00           0.00   \n",
       "4    2514      8     TMF014       2.360            0.00           0.00   \n",
       "5    2515     11     TMF010       0.000            0.00          12.94   \n",
       "6    2516     13     TMF013       1.250            0.00           0.00   \n",
       "7    2517     13     TMF013       0.000            1.81           0.00   \n",
       "8    2518     13     TMF013       0.000            0.00          14.65   \n",
       "9    2519     13     TMF013       0.940            0.00           0.00   \n",
       "10   2520     13     TMF013       1.860            0.00           0.00   \n",
       "11   2521     13     TMF013       1.080            0.00           0.00   \n",
       "12   2522     11     TMF010       1.410            0.00           0.00   \n",
       "13   2523     12     TMF007       0.000            0.00           5.72   \n",
       "14   2524      4     TMF012       0.000            3.24           0.00   \n",
       "15   2525      2     TMF011       2.310            1.62           0.00   \n",
       "16   2526      1     TMF003       0.000            1.14           0.00   \n",
       "17   2527      1     TMF003       0.970            0.00           0.00   \n",
       "18   2528      4     TMF012       1.410            0.00           0.00   \n",
       "19   2529      8     TMF014       1.260            0.00           0.00   \n",
       "\n",
       "    descarte_paes_pasta  descarte_pasta data_registro    hora_registro  \n",
       "0                   0.0             0.0    2024-07-11  22:41:02.140000  \n",
       "1                   0.0             0.0    2024-07-12  00:21:12.903333  \n",
       "2                   0.0             0.0    2024-07-12  03:21:14.146666  \n",
       "3                   0.0             0.0    2024-07-12  03:54:20.670000  \n",
       "4                   0.0             0.0    2024-07-12  06:48:43.250000  \n",
       "5                   0.0             0.0    2024-07-12  07:29:27.520000  \n",
       "6                   0.0             0.0    2024-07-12  07:41:06.796666  \n",
       "7                   0.0             0.0    2024-07-12  07:41:14.626666  \n",
       "8                   0.0             0.0    2024-07-12  07:42:16.603333  \n",
       "9                   0.0             0.0    2024-07-12  08:51:39.406666  \n",
       "10                  0.0             0.0    2024-07-12  09:24:21.763333  \n",
       "11                  0.0             0.0    2024-07-12  09:24:31.643333  \n",
       "12                  0.0             0.0    2024-07-12  09:53:19.716666  \n",
       "13                  0.0             0.0    2024-07-12  10:10:31.786666  \n",
       "14                  0.0             0.0    2024-07-12  10:39:13.410000  \n",
       "15                  0.0             0.0    2024-07-12  11:37:12.206666  \n",
       "16                  0.0             0.0    2024-07-12  12:06:28.190000  \n",
       "17                  0.0             0.0    2024-07-12  12:10:45.996666  \n",
       "18                  0.0             0.0    2024-07-12  12:27:38.816666  \n",
       "19                  0.0             0.0    2024-07-12  12:35:27.396666  "
      ]
     },
     "execution_count": 9,
     "metadata": {},
     "output_type": "execute_result"
    }
   ],
   "source": [
    "df_quality.head(20)"
   ]
  },
  {
   "cell_type": "markdown",
   "metadata": {},
   "source": [
    "# Limpeza de dados e análise exploratória\n"
   ]
  },
  {
   "cell_type": "markdown",
   "metadata": {},
   "source": [
    "## Análise de dados - Clean Data\n"
   ]
  },
  {
   "cell_type": "code",
   "execution_count": 10,
   "metadata": {
    "notebookRunGroups": {
     "groupValue": "2"
    }
   },
   "outputs": [],
   "source": [
    "# service/clean_data.py\n",
    "\n",
    "\n",
    "# cSpell: disable=invalid-name\n",
    "class CleanData:\n",
    "    \"\"\"\n",
    "    Essa classe é responsável por limpar os dados lidos do banco de dados.\n",
    "    \"\"\"\n",
    "\n",
    "    def __init__(self, df_ihm, df_info, df_info_production):\n",
    "        self.df_ihm = df_ihm\n",
    "        self.df_info = df_info\n",
    "        self.df_info_production = df_info_production\n",
    "\n",
    "    @staticmethod\n",
    "    def __clean_basics(df: pd.DataFrame) -> pd.DataFrame:\n",
    "        \"\"\"\n",
    "        Limpa os dados básicos de um DataFrame.\n",
    "        \"\"\"\n",
    "\n",
    "        # Remove valores duplicados\n",
    "        df = df.drop_duplicates()\n",
    "\n",
    "        # Remove linhas com valores nulos\n",
    "        df = df.dropna(subset=[\"maquina_id\", \"data_registro\", \"hora_registro\"])\n",
    "\n",
    "        # Converte a coluna 'hora_registro' para string e remove os milissegundos\n",
    "        df[\"hora_registro\"] = df[\"hora_registro\"].astype(str).str.split(\".\").str[0]\n",
    "\n",
    "        # Converte as colunas 'data_registro' e 'hora_registro' para datetime\n",
    "        df[\"data_registro\"] = pd.to_datetime(df[\"data_registro\"])\n",
    "        df[\"hora_registro\"] = pd.to_datetime(df[\"hora_registro\"], format=\"%H:%M:%S\").dt.time\n",
    "\n",
    "        # Substitui os valores NaN por 0 antes de converter para int\n",
    "        df[\"linha\"] = df[\"linha\"].fillna(0).astype(int)\n",
    "\n",
    "        # Coluna linha para int\n",
    "        df[\"linha\"] = df[\"linha\"].astype(int)\n",
    "\n",
    "        # Remover onde a 'linha' é 0\n",
    "        df = df[df[\"linha\"] != 0]\n",
    "\n",
    "        return df\n",
    "\n",
    "    @staticmethod\n",
    "    def __clean_info(df: pd.DataFrame) -> pd.DataFrame:\n",
    "        \"\"\"\n",
    "        Limpa os dados de informações.\n",
    "        Fica desatualizado após implementação das IHMs.\n",
    "        Manter apenas para código legado.\n",
    "        \"\"\"\n",
    "\n",
    "        # Reordenar o dataframe\n",
    "        df = df.sort_values(by=[\"maquina_id\", \"data_registro\", \"hora_registro\"])\n",
    "\n",
    "        # Remover a primeira entrada caso seja do turno \"VES\"\n",
    "        mask = (df[\"turno\"] == \"VES\") & (df[\"maquina_id\"] != df[\"maquina_id\"].shift())\n",
    "        df = df[~mask]\n",
    "\n",
    "        # Ajustar o turno VES caso a hora da entrada passe de 00:00, para 23:59 do dia anterior\n",
    "        mask = (\n",
    "            (df[\"turno\"] == \"VES\")\n",
    "            & (df[\"hora_registro\"] > time(0, 0, 0))\n",
    "            & (df[\"hora_registro\"] < time(0, 5, 0))\n",
    "        )\n",
    "\n",
    "        df.loc[mask, \"hora_registro\"] = time(23, 59, 59)\n",
    "        df.loc[mask, \"data_registro\"] = df.loc[mask, \"data_registro\"] - timedelta(days=1)\n",
    "\n",
    "        # Reordenar o dataframe\n",
    "        df = df.sort_values(by=[\"linha\", \"data_registro\", \"hora_registro\"])\n",
    "\n",
    "        # Reiniciar o índice\n",
    "        df = df.reset_index(drop=True)\n",
    "\n",
    "        return df\n",
    "\n",
    "    @staticmethod\n",
    "    def __clean_prod(df: pd.DataFrame) -> pd.DataFrame:\n",
    "        \"\"\"\n",
    "        Limpa os dados de produção.\n",
    "        \"\"\"\n",
    "\n",
    "        # Coluna auxiliar para ordenar os turnos\n",
    "        df[\"turno_aux\"] = df[\"turno\"].map({\"MAT\": 2, \"VES\": 3, \"NOT\": 1})\n",
    "\n",
    "        # Ordenar os valores\n",
    "        df = df.sort_values(by=[\"linha\", \"data_registro\", \"turno_aux\"])\n",
    "\n",
    "        # Remover a coluna auxiliar\n",
    "        df = df.drop(columns=[\"turno_aux\", \"rn\", \"status\"])\n",
    "\n",
    "        # Coluna linha para int\n",
    "        df[\"linha\"] = df[\"linha\"].astype(int)\n",
    "\n",
    "        # Reiniciar o índice\n",
    "        df = df.reset_index(drop=True)\n",
    "\n",
    "        return df\n",
    "\n",
    "    def clean_data(self) -> tuple:\n",
    "        \"\"\"\n",
    "        Limpa os dados lidos do banco de dados.\n",
    "        Retorna na ordem: df_ihm, df_info, df_info_production\n",
    "        \"\"\"\n",
    "\n",
    "        # Limpando os dados(removendo linhas duplicadas ou nulas em informações importantes)\n",
    "        self.df_ihm = self.__clean_basics(self.df_ihm)\n",
    "        self.df_info = self.__clean_basics(self.df_info)\n",
    "        self.df_info_production = self.__clean_basics(self.df_info_production)\n",
    "\n",
    "        # Ajustando o status\n",
    "        # Ajusta nomenclatura do status\n",
    "        self.df_info[\"status\"] = np.where(self.df_info[\"status\"] == \"true\", \"rodando\", \"parada\")\n",
    "\n",
    "        # Ajustes nas informações de produção\n",
    "        self.df_info_production = self.__clean_prod(self.df_info_production)\n",
    "\n",
    "        # NOTE: A fonção abaixo ficará desatualizada após a implementação das IHMs\n",
    "        self.df_info = self.__clean_info(self.df_info)\n",
    "\n",
    "        return self.df_ihm, self.df_info, self.df_info_production\n",
    "\n",
    "    def clean_prod_discard_data(self, df: pd.DataFrame):\n",
    "        # Discartar coluna recno\n",
    "        df = df.drop(columns=[\"recno\"])\n",
    "\n",
    "        # Arredondar valores para float com 3 casas decimais\n",
    "        df.bdj_vazias = df.bdj_vazias.round(3)\n",
    "        df.bdj_retrabalho = df.bdj_retrabalho.round(3)\n",
    "        df.descarte_paes_pasta = df.descarte_paes_pasta.round(3)\n",
    "        df.descarte_paes = df.descarte_paes.round(3)\n",
    "        df.descarte_pasta = df.descarte_pasta.round(3)\n",
    "\n",
    "        # Pesos\n",
    "        peso_bandejas = 0.028\n",
    "        peso_saco = 0.080\n",
    "\n",
    "        # Calcular descarte bandejas, caso o valor seja maior que 0\n",
    "        df.loc[df.bdj_vazias > 0, \"bdj_vazias\"] = (\n",
    "            (df.bdj_vazias - peso_saco) / peso_bandejas\n",
    "        ).round(0)\n",
    "        df.loc[df.bdj_retrabalho > 0, \"bdj_retrabalho\"] = (\n",
    "            (df.bdj_retrabalho - peso_saco) / peso_bandejas\n",
    "        ).round(0)\n",
    "\n",
    "        # Tranforma em inteiro\n",
    "        df.bdj_vazias = df.bdj_vazias.astype(int)\n",
    "        df.bdj_retrabalho = df.bdj_retrabalho.astype(int)\n",
    "\n",
    "        # Se o valor for menor que 0, transforma em 0\n",
    "        df.loc[df.bdj_vazias < 0, \"bdj_vazias\"] = 0\n",
    "        df.loc[df.bdj_retrabalho < 0, \"bdj_retrabalho\"] = 0\n",
    "\n",
    "        # Definir cria coluna auxiliar com o turno (MAT, VES, NOT) que muda a cada 8 horas (8, 16, 0)\n",
    "        df[\"turno\"] = df.hora_registro.apply(lambda x: x.hour) // 8\n",
    "        df.turno = df.turno.map({0: \"NOT\", 1: \"MAT\", 2: \"VES\"})\n",
    "        df = df.drop(columns=[\"hora_registro\"])\n",
    "\n",
    "        # Agrupar por turno e data e linha\n",
    "        df = (\n",
    "            df.groupby([\"linha\", \"maquina_id\", \"data_registro\", \"turno\"])\n",
    "            .sum()\n",
    "            .round(3)\n",
    "            .reset_index()\n",
    "        )\n",
    "\n",
    "        return df\n",
    "\n",
    "\n",
    "clean_data = CleanData(df_ihm.copy(), df_info.copy(), df_info_production.copy())\n",
    "df_ihm_cleaned, df_info_cleaned, df_info_production_clean = clean_data.clean_data()\n",
    "df_ihm_discard = clean_data.clean_prod_discard_data(df_quality.copy())"
   ]
  },
  {
   "cell_type": "markdown",
   "metadata": {},
   "source": [
    "### Saída de dados limpos\n"
   ]
  },
  {
   "cell_type": "code",
   "execution_count": 11,
   "metadata": {
    "notebookRunGroups": {
     "groupValue": "2"
    }
   },
   "outputs": [
    {
     "data": {
      "text/html": [
       "<div>\n",
       "<style scoped>\n",
       "    .dataframe tbody tr th:only-of-type {\n",
       "        vertical-align: middle;\n",
       "    }\n",
       "\n",
       "    .dataframe tbody tr th {\n",
       "        vertical-align: top;\n",
       "    }\n",
       "\n",
       "    .dataframe thead th {\n",
       "        text-align: right;\n",
       "    }\n",
       "</style>\n",
       "<table border=\"1\" class=\"dataframe\">\n",
       "  <thead>\n",
       "    <tr style=\"text-align: right;\">\n",
       "      <th></th>\n",
       "      <th>recno</th>\n",
       "      <th>linha</th>\n",
       "      <th>maquina_id</th>\n",
       "      <th>motivo</th>\n",
       "      <th>equipamento</th>\n",
       "      <th>problema</th>\n",
       "      <th>causa</th>\n",
       "      <th>os_numero</th>\n",
       "      <th>operador_id</th>\n",
       "      <th>data_registro</th>\n",
       "      <th>hora_registro</th>\n",
       "    </tr>\n",
       "  </thead>\n",
       "  <tbody>\n",
       "    <tr>\n",
       "      <th>0</th>\n",
       "      <td>5935</td>\n",
       "      <td>2</td>\n",
       "      <td>TMF011</td>\n",
       "      <td>Ajustes</td>\n",
       "      <td>Termoformadora</td>\n",
       "      <td>Troca de Bobina</td>\n",
       "      <td>Troca de Bobina Inferior</td>\n",
       "      <td>0</td>\n",
       "      <td>1643</td>\n",
       "      <td>2024-07-01</td>\n",
       "      <td>00:00:44</td>\n",
       "    </tr>\n",
       "    <tr>\n",
       "      <th>1</th>\n",
       "      <td>5936</td>\n",
       "      <td>2</td>\n",
       "      <td>TMF011</td>\n",
       "      <td>Parada Programada</td>\n",
       "      <td></td>\n",
       "      <td>Parada Planejada</td>\n",
       "      <td>Sem Produção</td>\n",
       "      <td>0</td>\n",
       "      <td>434</td>\n",
       "      <td>2024-07-01</td>\n",
       "      <td>00:01:35</td>\n",
       "    </tr>\n",
       "    <tr>\n",
       "      <th>2</th>\n",
       "      <td>5937</td>\n",
       "      <td>4</td>\n",
       "      <td>TMF012</td>\n",
       "      <td>Ajustes</td>\n",
       "      <td>Termoformadora</td>\n",
       "      <td>Troca de Bobina</td>\n",
       "      <td>Troca de Bobina Inferior</td>\n",
       "      <td>0</td>\n",
       "      <td>434</td>\n",
       "      <td>2024-07-01</td>\n",
       "      <td>00:08:53</td>\n",
       "    </tr>\n",
       "    <tr>\n",
       "      <th>3</th>\n",
       "      <td>5938</td>\n",
       "      <td>3</td>\n",
       "      <td>TMF005</td>\n",
       "      <td>Parada Programada</td>\n",
       "      <td></td>\n",
       "      <td>Parada Planejada</td>\n",
       "      <td>Backup</td>\n",
       "      <td>0</td>\n",
       "      <td>1643</td>\n",
       "      <td>2024-07-01</td>\n",
       "      <td>00:09:07</td>\n",
       "    </tr>\n",
       "    <tr>\n",
       "      <th>4</th>\n",
       "      <td>5939</td>\n",
       "      <td>6</td>\n",
       "      <td>TMF001</td>\n",
       "      <td>Limpeza</td>\n",
       "      <td></td>\n",
       "      <td>Limpeza para parada de Fábrica</td>\n",
       "      <td></td>\n",
       "      <td>0</td>\n",
       "      <td>1373</td>\n",
       "      <td>2024-07-01</td>\n",
       "      <td>00:10:01</td>\n",
       "    </tr>\n",
       "    <tr>\n",
       "      <th>...</th>\n",
       "      <td>...</td>\n",
       "      <td>...</td>\n",
       "      <td>...</td>\n",
       "      <td>...</td>\n",
       "      <td>...</td>\n",
       "      <td>...</td>\n",
       "      <td>...</td>\n",
       "      <td>...</td>\n",
       "      <td>...</td>\n",
       "      <td>...</td>\n",
       "      <td>...</td>\n",
       "    </tr>\n",
       "    <tr>\n",
       "      <th>536</th>\n",
       "      <td>6471</td>\n",
       "      <td>1</td>\n",
       "      <td>TMF003</td>\n",
       "      <td>Ajustes</td>\n",
       "      <td>Robô</td>\n",
       "      <td>Robô Travando</td>\n",
       "      <td>Rearme do Robô</td>\n",
       "      <td>0</td>\n",
       "      <td>1860</td>\n",
       "      <td>2024-07-13</td>\n",
       "      <td>09:53:30</td>\n",
       "    </tr>\n",
       "    <tr>\n",
       "      <th>537</th>\n",
       "      <td>6472</td>\n",
       "      <td>9</td>\n",
       "      <td>TMF004</td>\n",
       "      <td>Fluxo</td>\n",
       "      <td>Termoformadora</td>\n",
       "      <td>Esteira Cheia</td>\n",
       "      <td>Problema com montagem de caixas</td>\n",
       "      <td>0</td>\n",
       "      <td>934</td>\n",
       "      <td>2024-07-13</td>\n",
       "      <td>09:55:00</td>\n",
       "    </tr>\n",
       "    <tr>\n",
       "      <th>538</th>\n",
       "      <td>6473</td>\n",
       "      <td>10</td>\n",
       "      <td>TMF008</td>\n",
       "      <td>Manutenção</td>\n",
       "      <td>Termoformadora</td>\n",
       "      <td>Bandeja Murcha ou Cheia</td>\n",
       "      <td>Realizar análise de falha</td>\n",
       "      <td>4435</td>\n",
       "      <td>1206</td>\n",
       "      <td>2024-07-13</td>\n",
       "      <td>09:56:52</td>\n",
       "    </tr>\n",
       "    <tr>\n",
       "      <th>539</th>\n",
       "      <td>6474</td>\n",
       "      <td>1</td>\n",
       "      <td>TMF003</td>\n",
       "      <td>Ajustes</td>\n",
       "      <td>Termoformadora</td>\n",
       "      <td>Troca de Bobina</td>\n",
       "      <td>Troca de Bobina Superior</td>\n",
       "      <td>0</td>\n",
       "      <td>1860</td>\n",
       "      <td>2024-07-13</td>\n",
       "      <td>09:59:54</td>\n",
       "    </tr>\n",
       "    <tr>\n",
       "      <th>540</th>\n",
       "      <td>6475</td>\n",
       "      <td>10</td>\n",
       "      <td>TMF008</td>\n",
       "      <td>Parada Programada</td>\n",
       "      <td></td>\n",
       "      <td>Parada Planejada</td>\n",
       "      <td>Backup</td>\n",
       "      <td>0</td>\n",
       "      <td>1206</td>\n",
       "      <td>2024-07-13</td>\n",
       "      <td>10:04:42</td>\n",
       "    </tr>\n",
       "  </tbody>\n",
       "</table>\n",
       "<p>541 rows × 11 columns</p>\n",
       "</div>"
      ],
      "text/plain": [
       "     recno  linha maquina_id             motivo     equipamento  \\\n",
       "0     5935      2     TMF011            Ajustes  Termoformadora   \n",
       "1     5936      2     TMF011  Parada Programada                   \n",
       "2     5937      4     TMF012            Ajustes  Termoformadora   \n",
       "3     5938      3     TMF005  Parada Programada                   \n",
       "4     5939      6     TMF001            Limpeza                   \n",
       "..     ...    ...        ...                ...             ...   \n",
       "536   6471      1     TMF003            Ajustes            Robô   \n",
       "537   6472      9     TMF004              Fluxo  Termoformadora   \n",
       "538   6473     10     TMF008         Manutenção  Termoformadora   \n",
       "539   6474      1     TMF003            Ajustes  Termoformadora   \n",
       "540   6475     10     TMF008  Parada Programada                   \n",
       "\n",
       "                           problema                            causa  \\\n",
       "0                   Troca de Bobina         Troca de Bobina Inferior   \n",
       "1                  Parada Planejada                     Sem Produção   \n",
       "2                   Troca de Bobina         Troca de Bobina Inferior   \n",
       "3                  Parada Planejada                           Backup   \n",
       "4    Limpeza para parada de Fábrica                                    \n",
       "..                              ...                              ...   \n",
       "536                   Robô Travando                   Rearme do Robô   \n",
       "537                   Esteira Cheia  Problema com montagem de caixas   \n",
       "538         Bandeja Murcha ou Cheia        Realizar análise de falha   \n",
       "539                 Troca de Bobina         Troca de Bobina Superior   \n",
       "540                Parada Planejada                           Backup   \n",
       "\n",
       "    os_numero operador_id data_registro hora_registro  \n",
       "0           0        1643    2024-07-01      00:00:44  \n",
       "1           0         434    2024-07-01      00:01:35  \n",
       "2           0         434    2024-07-01      00:08:53  \n",
       "3           0        1643    2024-07-01      00:09:07  \n",
       "4           0        1373    2024-07-01      00:10:01  \n",
       "..        ...         ...           ...           ...  \n",
       "536         0        1860    2024-07-13      09:53:30  \n",
       "537         0         934    2024-07-13      09:55:00  \n",
       "538      4435        1206    2024-07-13      09:56:52  \n",
       "539         0        1860    2024-07-13      09:59:54  \n",
       "540         0        1206    2024-07-13      10:04:42  \n",
       "\n",
       "[541 rows x 11 columns]"
      ]
     },
     "execution_count": 11,
     "metadata": {},
     "output_type": "execute_result"
    }
   ],
   "source": [
    "df_ihm_cleaned"
   ]
  },
  {
   "cell_type": "code",
   "execution_count": 12,
   "metadata": {
    "notebookRunGroups": {
     "groupValue": "2"
    }
   },
   "outputs": [
    {
     "data": {
      "text/html": [
       "<div>\n",
       "<style scoped>\n",
       "    .dataframe tbody tr th:only-of-type {\n",
       "        vertical-align: middle;\n",
       "    }\n",
       "\n",
       "    .dataframe tbody tr th {\n",
       "        vertical-align: top;\n",
       "    }\n",
       "\n",
       "    .dataframe thead th {\n",
       "        text-align: right;\n",
       "    }\n",
       "</style>\n",
       "<table border=\"1\" class=\"dataframe\">\n",
       "  <thead>\n",
       "    <tr style=\"text-align: right;\">\n",
       "      <th></th>\n",
       "      <th>maquina_id</th>\n",
       "      <th>linha</th>\n",
       "      <th>fabrica</th>\n",
       "      <th>status</th>\n",
       "      <th>turno</th>\n",
       "      <th>contagem_total_ciclos</th>\n",
       "      <th>contagem_total_produzido</th>\n",
       "      <th>data_registro</th>\n",
       "      <th>hora_registro</th>\n",
       "    </tr>\n",
       "  </thead>\n",
       "  <tbody>\n",
       "    <tr>\n",
       "      <th>0</th>\n",
       "      <td>TMF003</td>\n",
       "      <td>1</td>\n",
       "      <td>1</td>\n",
       "      <td>parada</td>\n",
       "      <td>NOT</td>\n",
       "      <td>0.0</td>\n",
       "      <td>0.0</td>\n",
       "      <td>2024-07-12</td>\n",
       "      <td>00:01:57</td>\n",
       "    </tr>\n",
       "    <tr>\n",
       "      <th>1</th>\n",
       "      <td>TMF003</td>\n",
       "      <td>1</td>\n",
       "      <td>1</td>\n",
       "      <td>parada</td>\n",
       "      <td>NOT</td>\n",
       "      <td>0.0</td>\n",
       "      <td>0.0</td>\n",
       "      <td>2024-07-12</td>\n",
       "      <td>00:03:57</td>\n",
       "    </tr>\n",
       "    <tr>\n",
       "      <th>2</th>\n",
       "      <td>TMF003</td>\n",
       "      <td>1</td>\n",
       "      <td>1</td>\n",
       "      <td>parada</td>\n",
       "      <td>NOT</td>\n",
       "      <td>0.0</td>\n",
       "      <td>0.0</td>\n",
       "      <td>2024-07-12</td>\n",
       "      <td>00:05:57</td>\n",
       "    </tr>\n",
       "    <tr>\n",
       "      <th>3</th>\n",
       "      <td>TMF003</td>\n",
       "      <td>1</td>\n",
       "      <td>1</td>\n",
       "      <td>parada</td>\n",
       "      <td>NOT</td>\n",
       "      <td>0.0</td>\n",
       "      <td>0.0</td>\n",
       "      <td>2024-07-12</td>\n",
       "      <td>00:07:57</td>\n",
       "    </tr>\n",
       "    <tr>\n",
       "      <th>4</th>\n",
       "      <td>TMF003</td>\n",
       "      <td>1</td>\n",
       "      <td>1</td>\n",
       "      <td>parada</td>\n",
       "      <td>NOT</td>\n",
       "      <td>0.0</td>\n",
       "      <td>0.0</td>\n",
       "      <td>2024-07-12</td>\n",
       "      <td>00:09:57</td>\n",
       "    </tr>\n",
       "    <tr>\n",
       "      <th>...</th>\n",
       "      <td>...</td>\n",
       "      <td>...</td>\n",
       "      <td>...</td>\n",
       "      <td>...</td>\n",
       "      <td>...</td>\n",
       "      <td>...</td>\n",
       "      <td>...</td>\n",
       "      <td>...</td>\n",
       "      <td>...</td>\n",
       "    </tr>\n",
       "    <tr>\n",
       "      <th>13971</th>\n",
       "      <td>TMF009</td>\n",
       "      <td>14</td>\n",
       "      <td>2</td>\n",
       "      <td>parada</td>\n",
       "      <td>MAT</td>\n",
       "      <td>0.0</td>\n",
       "      <td>0.0</td>\n",
       "      <td>2024-07-13</td>\n",
       "      <td>09:57:54</td>\n",
       "    </tr>\n",
       "    <tr>\n",
       "      <th>13972</th>\n",
       "      <td>TMF009</td>\n",
       "      <td>14</td>\n",
       "      <td>2</td>\n",
       "      <td>parada</td>\n",
       "      <td>MAT</td>\n",
       "      <td>0.0</td>\n",
       "      <td>0.0</td>\n",
       "      <td>2024-07-13</td>\n",
       "      <td>09:59:54</td>\n",
       "    </tr>\n",
       "    <tr>\n",
       "      <th>13973</th>\n",
       "      <td>TMF009</td>\n",
       "      <td>14</td>\n",
       "      <td>2</td>\n",
       "      <td>parada</td>\n",
       "      <td>MAT</td>\n",
       "      <td>0.0</td>\n",
       "      <td>0.0</td>\n",
       "      <td>2024-07-13</td>\n",
       "      <td>10:01:54</td>\n",
       "    </tr>\n",
       "    <tr>\n",
       "      <th>13974</th>\n",
       "      <td>TMF009</td>\n",
       "      <td>14</td>\n",
       "      <td>2</td>\n",
       "      <td>parada</td>\n",
       "      <td>MAT</td>\n",
       "      <td>0.0</td>\n",
       "      <td>0.0</td>\n",
       "      <td>2024-07-13</td>\n",
       "      <td>10:03:54</td>\n",
       "    </tr>\n",
       "    <tr>\n",
       "      <th>13975</th>\n",
       "      <td>TMF009</td>\n",
       "      <td>14</td>\n",
       "      <td>2</td>\n",
       "      <td>parada</td>\n",
       "      <td>MAT</td>\n",
       "      <td>0.0</td>\n",
       "      <td>0.0</td>\n",
       "      <td>2024-07-13</td>\n",
       "      <td>10:05:54</td>\n",
       "    </tr>\n",
       "  </tbody>\n",
       "</table>\n",
       "<p>13976 rows × 9 columns</p>\n",
       "</div>"
      ],
      "text/plain": [
       "      maquina_id  linha fabrica  status turno  contagem_total_ciclos  \\\n",
       "0         TMF003      1       1  parada   NOT                    0.0   \n",
       "1         TMF003      1       1  parada   NOT                    0.0   \n",
       "2         TMF003      1       1  parada   NOT                    0.0   \n",
       "3         TMF003      1       1  parada   NOT                    0.0   \n",
       "4         TMF003      1       1  parada   NOT                    0.0   \n",
       "...          ...    ...     ...     ...   ...                    ...   \n",
       "13971     TMF009     14       2  parada   MAT                    0.0   \n",
       "13972     TMF009     14       2  parada   MAT                    0.0   \n",
       "13973     TMF009     14       2  parada   MAT                    0.0   \n",
       "13974     TMF009     14       2  parada   MAT                    0.0   \n",
       "13975     TMF009     14       2  parada   MAT                    0.0   \n",
       "\n",
       "       contagem_total_produzido data_registro hora_registro  \n",
       "0                           0.0    2024-07-12      00:01:57  \n",
       "1                           0.0    2024-07-12      00:03:57  \n",
       "2                           0.0    2024-07-12      00:05:57  \n",
       "3                           0.0    2024-07-12      00:07:57  \n",
       "4                           0.0    2024-07-12      00:09:57  \n",
       "...                         ...           ...           ...  \n",
       "13971                       0.0    2024-07-13      09:57:54  \n",
       "13972                       0.0    2024-07-13      09:59:54  \n",
       "13973                       0.0    2024-07-13      10:01:54  \n",
       "13974                       0.0    2024-07-13      10:03:54  \n",
       "13975                       0.0    2024-07-13      10:05:54  \n",
       "\n",
       "[13976 rows x 9 columns]"
      ]
     },
     "execution_count": 12,
     "metadata": {},
     "output_type": "execute_result"
    }
   ],
   "source": [
    "df_info_cleaned"
   ]
  },
  {
   "cell_type": "code",
   "execution_count": 13,
   "metadata": {
    "notebookRunGroups": {
     "groupValue": "2"
    }
   },
   "outputs": [
    {
     "data": {
      "text/html": [
       "<div>\n",
       "<style scoped>\n",
       "    .dataframe tbody tr th:only-of-type {\n",
       "        vertical-align: middle;\n",
       "    }\n",
       "\n",
       "    .dataframe tbody tr th {\n",
       "        vertical-align: top;\n",
       "    }\n",
       "\n",
       "    .dataframe thead th {\n",
       "        text-align: right;\n",
       "    }\n",
       "</style>\n",
       "<table border=\"1\" class=\"dataframe\">\n",
       "  <thead>\n",
       "    <tr style=\"text-align: right;\">\n",
       "      <th></th>\n",
       "      <th>fabrica</th>\n",
       "      <th>linha</th>\n",
       "      <th>maquina_id</th>\n",
       "      <th>turno</th>\n",
       "      <th>total_ciclos</th>\n",
       "      <th>total_produzido</th>\n",
       "      <th>data_registro</th>\n",
       "      <th>hora_registro</th>\n",
       "    </tr>\n",
       "  </thead>\n",
       "  <tbody>\n",
       "    <tr>\n",
       "      <th>0</th>\n",
       "      <td>1</td>\n",
       "      <td>1</td>\n",
       "      <td>TMF003</td>\n",
       "      <td>NOT</td>\n",
       "      <td>7382.0</td>\n",
       "      <td>7382.0</td>\n",
       "      <td>2024-07-12</td>\n",
       "      <td>07:59:58</td>\n",
       "    </tr>\n",
       "    <tr>\n",
       "      <th>1</th>\n",
       "      <td>1</td>\n",
       "      <td>1</td>\n",
       "      <td>TMF003</td>\n",
       "      <td>MAT</td>\n",
       "      <td>7480.0</td>\n",
       "      <td>7480.0</td>\n",
       "      <td>2024-07-12</td>\n",
       "      <td>15:58:00</td>\n",
       "    </tr>\n",
       "    <tr>\n",
       "      <th>2</th>\n",
       "      <td>1</td>\n",
       "      <td>1</td>\n",
       "      <td>TMF003</td>\n",
       "      <td>VES</td>\n",
       "      <td>8138.0</td>\n",
       "      <td>8138.0</td>\n",
       "      <td>2024-07-12</td>\n",
       "      <td>23:58:01</td>\n",
       "    </tr>\n",
       "    <tr>\n",
       "      <th>3</th>\n",
       "      <td>1</td>\n",
       "      <td>1</td>\n",
       "      <td>TMF003</td>\n",
       "      <td>NOT</td>\n",
       "      <td>8606.0</td>\n",
       "      <td>8606.0</td>\n",
       "      <td>2024-07-13</td>\n",
       "      <td>07:58:02</td>\n",
       "    </tr>\n",
       "    <tr>\n",
       "      <th>4</th>\n",
       "      <td>1</td>\n",
       "      <td>1</td>\n",
       "      <td>TMF003</td>\n",
       "      <td>MAT</td>\n",
       "      <td>2478.0</td>\n",
       "      <td>2478.0</td>\n",
       "      <td>2024-07-13</td>\n",
       "      <td>10:06:03</td>\n",
       "    </tr>\n",
       "    <tr>\n",
       "      <th>...</th>\n",
       "      <td>...</td>\n",
       "      <td>...</td>\n",
       "      <td>...</td>\n",
       "      <td>...</td>\n",
       "      <td>...</td>\n",
       "      <td>...</td>\n",
       "      <td>...</td>\n",
       "      <td>...</td>\n",
       "    </tr>\n",
       "    <tr>\n",
       "      <th>65</th>\n",
       "      <td>2</td>\n",
       "      <td>14</td>\n",
       "      <td>TMF009</td>\n",
       "      <td>NOT</td>\n",
       "      <td>0.0</td>\n",
       "      <td>0.0</td>\n",
       "      <td>2024-07-12</td>\n",
       "      <td>07:59:50</td>\n",
       "    </tr>\n",
       "    <tr>\n",
       "      <th>66</th>\n",
       "      <td>2</td>\n",
       "      <td>14</td>\n",
       "      <td>TMF009</td>\n",
       "      <td>MAT</td>\n",
       "      <td>0.0</td>\n",
       "      <td>0.0</td>\n",
       "      <td>2024-07-12</td>\n",
       "      <td>15:59:51</td>\n",
       "    </tr>\n",
       "    <tr>\n",
       "      <th>67</th>\n",
       "      <td>2</td>\n",
       "      <td>14</td>\n",
       "      <td>TMF009</td>\n",
       "      <td>VES</td>\n",
       "      <td>0.0</td>\n",
       "      <td>0.0</td>\n",
       "      <td>2024-07-12</td>\n",
       "      <td>23:59:53</td>\n",
       "    </tr>\n",
       "    <tr>\n",
       "      <th>68</th>\n",
       "      <td>2</td>\n",
       "      <td>14</td>\n",
       "      <td>TMF009</td>\n",
       "      <td>NOT</td>\n",
       "      <td>0.0</td>\n",
       "      <td>0.0</td>\n",
       "      <td>2024-07-13</td>\n",
       "      <td>07:59:54</td>\n",
       "    </tr>\n",
       "    <tr>\n",
       "      <th>69</th>\n",
       "      <td>2</td>\n",
       "      <td>14</td>\n",
       "      <td>TMF009</td>\n",
       "      <td>MAT</td>\n",
       "      <td>0.0</td>\n",
       "      <td>0.0</td>\n",
       "      <td>2024-07-13</td>\n",
       "      <td>10:05:54</td>\n",
       "    </tr>\n",
       "  </tbody>\n",
       "</table>\n",
       "<p>70 rows × 8 columns</p>\n",
       "</div>"
      ],
      "text/plain": [
       "   fabrica  linha maquina_id turno  total_ciclos  total_produzido  \\\n",
       "0        1      1     TMF003   NOT        7382.0           7382.0   \n",
       "1        1      1     TMF003   MAT        7480.0           7480.0   \n",
       "2        1      1     TMF003   VES        8138.0           8138.0   \n",
       "3        1      1     TMF003   NOT        8606.0           8606.0   \n",
       "4        1      1     TMF003   MAT        2478.0           2478.0   \n",
       "..     ...    ...        ...   ...           ...              ...   \n",
       "65       2     14     TMF009   NOT           0.0              0.0   \n",
       "66       2     14     TMF009   MAT           0.0              0.0   \n",
       "67       2     14     TMF009   VES           0.0              0.0   \n",
       "68       2     14     TMF009   NOT           0.0              0.0   \n",
       "69       2     14     TMF009   MAT           0.0              0.0   \n",
       "\n",
       "   data_registro hora_registro  \n",
       "0     2024-07-12      07:59:58  \n",
       "1     2024-07-12      15:58:00  \n",
       "2     2024-07-12      23:58:01  \n",
       "3     2024-07-13      07:58:02  \n",
       "4     2024-07-13      10:06:03  \n",
       "..           ...           ...  \n",
       "65    2024-07-12      07:59:50  \n",
       "66    2024-07-12      15:59:51  \n",
       "67    2024-07-12      23:59:53  \n",
       "68    2024-07-13      07:59:54  \n",
       "69    2024-07-13      10:05:54  \n",
       "\n",
       "[70 rows x 8 columns]"
      ]
     },
     "execution_count": 13,
     "metadata": {},
     "output_type": "execute_result"
    }
   ],
   "source": [
    "df_info_production_clean"
   ]
  },
  {
   "cell_type": "code",
   "execution_count": 14,
   "metadata": {},
   "outputs": [
    {
     "data": {
      "text/html": [
       "<div>\n",
       "<style scoped>\n",
       "    .dataframe tbody tr th:only-of-type {\n",
       "        vertical-align: middle;\n",
       "    }\n",
       "\n",
       "    .dataframe tbody tr th {\n",
       "        vertical-align: top;\n",
       "    }\n",
       "\n",
       "    .dataframe thead th {\n",
       "        text-align: right;\n",
       "    }\n",
       "</style>\n",
       "<table border=\"1\" class=\"dataframe\">\n",
       "  <thead>\n",
       "    <tr style=\"text-align: right;\">\n",
       "      <th></th>\n",
       "      <th>linha</th>\n",
       "      <th>maquina_id</th>\n",
       "      <th>data_registro</th>\n",
       "      <th>turno</th>\n",
       "      <th>bdj_vazias</th>\n",
       "      <th>bdj_retrabalho</th>\n",
       "      <th>descarte_paes</th>\n",
       "      <th>descarte_paes_pasta</th>\n",
       "      <th>descarte_pasta</th>\n",
       "    </tr>\n",
       "  </thead>\n",
       "  <tbody>\n",
       "    <tr>\n",
       "      <th>0</th>\n",
       "      <td>1</td>\n",
       "      <td>TMF003</td>\n",
       "      <td>2024-07-12</td>\n",
       "      <td>MAT</td>\n",
       "      <td>137</td>\n",
       "      <td>38</td>\n",
       "      <td>0.000</td>\n",
       "      <td>0.000</td>\n",
       "      <td>0.000</td>\n",
       "    </tr>\n",
       "    <tr>\n",
       "      <th>1</th>\n",
       "      <td>1</td>\n",
       "      <td>TMF003</td>\n",
       "      <td>2024-07-12</td>\n",
       "      <td>NOT</td>\n",
       "      <td>51</td>\n",
       "      <td>0</td>\n",
       "      <td>0.000</td>\n",
       "      <td>0.000</td>\n",
       "      <td>0.000</td>\n",
       "    </tr>\n",
       "    <tr>\n",
       "      <th>2</th>\n",
       "      <td>1</td>\n",
       "      <td>TMF003</td>\n",
       "      <td>2024-07-12</td>\n",
       "      <td>VES</td>\n",
       "      <td>257</td>\n",
       "      <td>56</td>\n",
       "      <td>6.960</td>\n",
       "      <td>11.522</td>\n",
       "      <td>0.000</td>\n",
       "    </tr>\n",
       "    <tr>\n",
       "      <th>3</th>\n",
       "      <td>1</td>\n",
       "      <td>TMF003</td>\n",
       "      <td>2024-07-13</td>\n",
       "      <td>NOT</td>\n",
       "      <td>90</td>\n",
       "      <td>54</td>\n",
       "      <td>11.690</td>\n",
       "      <td>0.000</td>\n",
       "      <td>0.000</td>\n",
       "    </tr>\n",
       "    <tr>\n",
       "      <th>4</th>\n",
       "      <td>2</td>\n",
       "      <td>TMF011</td>\n",
       "      <td>2024-07-12</td>\n",
       "      <td>MAT</td>\n",
       "      <td>80</td>\n",
       "      <td>95</td>\n",
       "      <td>0.000</td>\n",
       "      <td>0.000</td>\n",
       "      <td>0.000</td>\n",
       "    </tr>\n",
       "    <tr>\n",
       "      <th>5</th>\n",
       "      <td>2</td>\n",
       "      <td>TMF011</td>\n",
       "      <td>2024-07-12</td>\n",
       "      <td>VES</td>\n",
       "      <td>59</td>\n",
       "      <td>57</td>\n",
       "      <td>6.090</td>\n",
       "      <td>11.960</td>\n",
       "      <td>0.000</td>\n",
       "    </tr>\n",
       "    <tr>\n",
       "      <th>6</th>\n",
       "      <td>2</td>\n",
       "      <td>TMF011</td>\n",
       "      <td>2024-07-13</td>\n",
       "      <td>NOT</td>\n",
       "      <td>54</td>\n",
       "      <td>21</td>\n",
       "      <td>5.150</td>\n",
       "      <td>0.000</td>\n",
       "      <td>0.000</td>\n",
       "    </tr>\n",
       "    <tr>\n",
       "      <th>7</th>\n",
       "      <td>3</td>\n",
       "      <td>TMF005</td>\n",
       "      <td>2024-07-12</td>\n",
       "      <td>MAT</td>\n",
       "      <td>46</td>\n",
       "      <td>68</td>\n",
       "      <td>0.000</td>\n",
       "      <td>0.000</td>\n",
       "      <td>0.000</td>\n",
       "    </tr>\n",
       "    <tr>\n",
       "      <th>8</th>\n",
       "      <td>3</td>\n",
       "      <td>TMF005</td>\n",
       "      <td>2024-07-12</td>\n",
       "      <td>VES</td>\n",
       "      <td>92</td>\n",
       "      <td>84</td>\n",
       "      <td>25.628</td>\n",
       "      <td>10.586</td>\n",
       "      <td>2.526</td>\n",
       "    </tr>\n",
       "    <tr>\n",
       "      <th>9</th>\n",
       "      <td>3</td>\n",
       "      <td>TMF005</td>\n",
       "      <td>2024-07-13</td>\n",
       "      <td>NOT</td>\n",
       "      <td>0</td>\n",
       "      <td>160</td>\n",
       "      <td>12.630</td>\n",
       "      <td>11.040</td>\n",
       "      <td>0.000</td>\n",
       "    </tr>\n",
       "    <tr>\n",
       "      <th>10</th>\n",
       "      <td>4</td>\n",
       "      <td>TMF012</td>\n",
       "      <td>2024-07-11</td>\n",
       "      <td>VES</td>\n",
       "      <td>57</td>\n",
       "      <td>0</td>\n",
       "      <td>0.000</td>\n",
       "      <td>0.000</td>\n",
       "      <td>0.000</td>\n",
       "    </tr>\n",
       "    <tr>\n",
       "      <th>11</th>\n",
       "      <td>4</td>\n",
       "      <td>TMF012</td>\n",
       "      <td>2024-07-12</td>\n",
       "      <td>MAT</td>\n",
       "      <td>47</td>\n",
       "      <td>113</td>\n",
       "      <td>0.000</td>\n",
       "      <td>0.000</td>\n",
       "      <td>0.000</td>\n",
       "    </tr>\n",
       "    <tr>\n",
       "      <th>12</th>\n",
       "      <td>4</td>\n",
       "      <td>TMF012</td>\n",
       "      <td>2024-07-12</td>\n",
       "      <td>VES</td>\n",
       "      <td>28</td>\n",
       "      <td>67</td>\n",
       "      <td>3.650</td>\n",
       "      <td>15.360</td>\n",
       "      <td>0.000</td>\n",
       "    </tr>\n",
       "    <tr>\n",
       "      <th>13</th>\n",
       "      <td>4</td>\n",
       "      <td>TMF012</td>\n",
       "      <td>2024-07-13</td>\n",
       "      <td>NOT</td>\n",
       "      <td>33</td>\n",
       "      <td>41</td>\n",
       "      <td>4.960</td>\n",
       "      <td>5.570</td>\n",
       "      <td>1.266</td>\n",
       "    </tr>\n",
       "    <tr>\n",
       "      <th>14</th>\n",
       "      <td>7</td>\n",
       "      <td>TMF006</td>\n",
       "      <td>2024-07-12</td>\n",
       "      <td>MAT</td>\n",
       "      <td>27</td>\n",
       "      <td>30</td>\n",
       "      <td>0.000</td>\n",
       "      <td>0.000</td>\n",
       "      <td>0.000</td>\n",
       "    </tr>\n",
       "    <tr>\n",
       "      <th>15</th>\n",
       "      <td>7</td>\n",
       "      <td>TMF006</td>\n",
       "      <td>2024-07-12</td>\n",
       "      <td>VES</td>\n",
       "      <td>129</td>\n",
       "      <td>62</td>\n",
       "      <td>8.070</td>\n",
       "      <td>0.000</td>\n",
       "      <td>0.000</td>\n",
       "    </tr>\n",
       "    <tr>\n",
       "      <th>16</th>\n",
       "      <td>7</td>\n",
       "      <td>TMF006</td>\n",
       "      <td>2024-07-13</td>\n",
       "      <td>NOT</td>\n",
       "      <td>54</td>\n",
       "      <td>152</td>\n",
       "      <td>4.320</td>\n",
       "      <td>24.000</td>\n",
       "      <td>0.000</td>\n",
       "    </tr>\n",
       "    <tr>\n",
       "      <th>17</th>\n",
       "      <td>8</td>\n",
       "      <td>TMF014</td>\n",
       "      <td>2024-07-12</td>\n",
       "      <td>MAT</td>\n",
       "      <td>103</td>\n",
       "      <td>127</td>\n",
       "      <td>0.000</td>\n",
       "      <td>0.000</td>\n",
       "      <td>0.000</td>\n",
       "    </tr>\n",
       "    <tr>\n",
       "      <th>18</th>\n",
       "      <td>8</td>\n",
       "      <td>TMF014</td>\n",
       "      <td>2024-07-12</td>\n",
       "      <td>NOT</td>\n",
       "      <td>81</td>\n",
       "      <td>0</td>\n",
       "      <td>0.000</td>\n",
       "      <td>0.000</td>\n",
       "      <td>0.000</td>\n",
       "    </tr>\n",
       "    <tr>\n",
       "      <th>19</th>\n",
       "      <td>8</td>\n",
       "      <td>TMF014</td>\n",
       "      <td>2024-07-12</td>\n",
       "      <td>VES</td>\n",
       "      <td>45</td>\n",
       "      <td>82</td>\n",
       "      <td>5.030</td>\n",
       "      <td>0.000</td>\n",
       "      <td>0.000</td>\n",
       "    </tr>\n",
       "    <tr>\n",
       "      <th>20</th>\n",
       "      <td>8</td>\n",
       "      <td>TMF014</td>\n",
       "      <td>2024-07-13</td>\n",
       "      <td>NOT</td>\n",
       "      <td>21</td>\n",
       "      <td>0</td>\n",
       "      <td>3.620</td>\n",
       "      <td>0.000</td>\n",
       "      <td>0.000</td>\n",
       "    </tr>\n",
       "    <tr>\n",
       "      <th>21</th>\n",
       "      <td>9</td>\n",
       "      <td>TMF004</td>\n",
       "      <td>2024-07-12</td>\n",
       "      <td>MAT</td>\n",
       "      <td>0</td>\n",
       "      <td>65</td>\n",
       "      <td>0.000</td>\n",
       "      <td>0.000</td>\n",
       "      <td>0.000</td>\n",
       "    </tr>\n",
       "    <tr>\n",
       "      <th>22</th>\n",
       "      <td>9</td>\n",
       "      <td>TMF004</td>\n",
       "      <td>2024-07-12</td>\n",
       "      <td>NOT</td>\n",
       "      <td>19</td>\n",
       "      <td>0</td>\n",
       "      <td>0.000</td>\n",
       "      <td>0.000</td>\n",
       "      <td>0.000</td>\n",
       "    </tr>\n",
       "    <tr>\n",
       "      <th>23</th>\n",
       "      <td>9</td>\n",
       "      <td>TMF004</td>\n",
       "      <td>2024-07-12</td>\n",
       "      <td>VES</td>\n",
       "      <td>71</td>\n",
       "      <td>72</td>\n",
       "      <td>11.486</td>\n",
       "      <td>3.050</td>\n",
       "      <td>1.200</td>\n",
       "    </tr>\n",
       "    <tr>\n",
       "      <th>24</th>\n",
       "      <td>9</td>\n",
       "      <td>TMF004</td>\n",
       "      <td>2024-07-13</td>\n",
       "      <td>NOT</td>\n",
       "      <td>20</td>\n",
       "      <td>107</td>\n",
       "      <td>0.000</td>\n",
       "      <td>0.000</td>\n",
       "      <td>0.000</td>\n",
       "    </tr>\n",
       "    <tr>\n",
       "      <th>25</th>\n",
       "      <td>10</td>\n",
       "      <td>TMF008</td>\n",
       "      <td>2024-07-12</td>\n",
       "      <td>MAT</td>\n",
       "      <td>337</td>\n",
       "      <td>0</td>\n",
       "      <td>0.000</td>\n",
       "      <td>0.000</td>\n",
       "      <td>0.000</td>\n",
       "    </tr>\n",
       "    <tr>\n",
       "      <th>26</th>\n",
       "      <td>10</td>\n",
       "      <td>TMF008</td>\n",
       "      <td>2024-07-12</td>\n",
       "      <td>VES</td>\n",
       "      <td>289</td>\n",
       "      <td>167</td>\n",
       "      <td>13.900</td>\n",
       "      <td>19.750</td>\n",
       "      <td>0.000</td>\n",
       "    </tr>\n",
       "    <tr>\n",
       "      <th>27</th>\n",
       "      <td>10</td>\n",
       "      <td>TMF008</td>\n",
       "      <td>2024-07-13</td>\n",
       "      <td>MAT</td>\n",
       "      <td>152</td>\n",
       "      <td>0</td>\n",
       "      <td>0.000</td>\n",
       "      <td>0.000</td>\n",
       "      <td>0.000</td>\n",
       "    </tr>\n",
       "    <tr>\n",
       "      <th>28</th>\n",
       "      <td>11</td>\n",
       "      <td>TMF010</td>\n",
       "      <td>2024-07-12</td>\n",
       "      <td>MAT</td>\n",
       "      <td>258</td>\n",
       "      <td>80</td>\n",
       "      <td>5.110</td>\n",
       "      <td>36.370</td>\n",
       "      <td>0.000</td>\n",
       "    </tr>\n",
       "    <tr>\n",
       "      <th>29</th>\n",
       "      <td>11</td>\n",
       "      <td>TMF010</td>\n",
       "      <td>2024-07-12</td>\n",
       "      <td>NOT</td>\n",
       "      <td>0</td>\n",
       "      <td>0</td>\n",
       "      <td>12.940</td>\n",
       "      <td>0.000</td>\n",
       "      <td>0.000</td>\n",
       "    </tr>\n",
       "    <tr>\n",
       "      <th>30</th>\n",
       "      <td>11</td>\n",
       "      <td>TMF010</td>\n",
       "      <td>2024-07-12</td>\n",
       "      <td>VES</td>\n",
       "      <td>389</td>\n",
       "      <td>97</td>\n",
       "      <td>10.580</td>\n",
       "      <td>0.000</td>\n",
       "      <td>0.000</td>\n",
       "    </tr>\n",
       "    <tr>\n",
       "      <th>31</th>\n",
       "      <td>11</td>\n",
       "      <td>TMF010</td>\n",
       "      <td>2024-07-13</td>\n",
       "      <td>NOT</td>\n",
       "      <td>0</td>\n",
       "      <td>0</td>\n",
       "      <td>17.250</td>\n",
       "      <td>0.000</td>\n",
       "      <td>0.000</td>\n",
       "    </tr>\n",
       "    <tr>\n",
       "      <th>32</th>\n",
       "      <td>12</td>\n",
       "      <td>TMF007</td>\n",
       "      <td>2024-07-12</td>\n",
       "      <td>MAT</td>\n",
       "      <td>139</td>\n",
       "      <td>367</td>\n",
       "      <td>5.720</td>\n",
       "      <td>7.140</td>\n",
       "      <td>0.000</td>\n",
       "    </tr>\n",
       "    <tr>\n",
       "      <th>33</th>\n",
       "      <td>12</td>\n",
       "      <td>TMF007</td>\n",
       "      <td>2024-07-12</td>\n",
       "      <td>VES</td>\n",
       "      <td>212</td>\n",
       "      <td>0</td>\n",
       "      <td>0.000</td>\n",
       "      <td>2.750</td>\n",
       "      <td>0.000</td>\n",
       "    </tr>\n",
       "    <tr>\n",
       "      <th>34</th>\n",
       "      <td>12</td>\n",
       "      <td>TMF007</td>\n",
       "      <td>2024-07-13</td>\n",
       "      <td>MAT</td>\n",
       "      <td>62</td>\n",
       "      <td>0</td>\n",
       "      <td>0.000</td>\n",
       "      <td>0.000</td>\n",
       "      <td>0.000</td>\n",
       "    </tr>\n",
       "    <tr>\n",
       "      <th>35</th>\n",
       "      <td>12</td>\n",
       "      <td>TMF007</td>\n",
       "      <td>2024-07-13</td>\n",
       "      <td>NOT</td>\n",
       "      <td>65</td>\n",
       "      <td>0</td>\n",
       "      <td>0.000</td>\n",
       "      <td>0.000</td>\n",
       "      <td>0.000</td>\n",
       "    </tr>\n",
       "    <tr>\n",
       "      <th>36</th>\n",
       "      <td>13</td>\n",
       "      <td>TMF013</td>\n",
       "      <td>2024-07-12</td>\n",
       "      <td>MAT</td>\n",
       "      <td>131</td>\n",
       "      <td>215</td>\n",
       "      <td>0.000</td>\n",
       "      <td>5.790</td>\n",
       "      <td>0.000</td>\n",
       "    </tr>\n",
       "    <tr>\n",
       "      <th>37</th>\n",
       "      <td>13</td>\n",
       "      <td>TMF013</td>\n",
       "      <td>2024-07-12</td>\n",
       "      <td>NOT</td>\n",
       "      <td>107</td>\n",
       "      <td>62</td>\n",
       "      <td>14.650</td>\n",
       "      <td>0.000</td>\n",
       "      <td>0.000</td>\n",
       "    </tr>\n",
       "    <tr>\n",
       "      <th>38</th>\n",
       "      <td>13</td>\n",
       "      <td>TMF013</td>\n",
       "      <td>2024-07-13</td>\n",
       "      <td>NOT</td>\n",
       "      <td>179</td>\n",
       "      <td>231</td>\n",
       "      <td>14.000</td>\n",
       "      <td>0.000</td>\n",
       "      <td>8.000</td>\n",
       "    </tr>\n",
       "  </tbody>\n",
       "</table>\n",
       "</div>"
      ],
      "text/plain": [
       "    linha maquina_id data_registro turno  bdj_vazias  bdj_retrabalho  \\\n",
       "0       1     TMF003    2024-07-12   MAT         137              38   \n",
       "1       1     TMF003    2024-07-12   NOT          51               0   \n",
       "2       1     TMF003    2024-07-12   VES         257              56   \n",
       "3       1     TMF003    2024-07-13   NOT          90              54   \n",
       "4       2     TMF011    2024-07-12   MAT          80              95   \n",
       "5       2     TMF011    2024-07-12   VES          59              57   \n",
       "6       2     TMF011    2024-07-13   NOT          54              21   \n",
       "7       3     TMF005    2024-07-12   MAT          46              68   \n",
       "8       3     TMF005    2024-07-12   VES          92              84   \n",
       "9       3     TMF005    2024-07-13   NOT           0             160   \n",
       "10      4     TMF012    2024-07-11   VES          57               0   \n",
       "11      4     TMF012    2024-07-12   MAT          47             113   \n",
       "12      4     TMF012    2024-07-12   VES          28              67   \n",
       "13      4     TMF012    2024-07-13   NOT          33              41   \n",
       "14      7     TMF006    2024-07-12   MAT          27              30   \n",
       "15      7     TMF006    2024-07-12   VES         129              62   \n",
       "16      7     TMF006    2024-07-13   NOT          54             152   \n",
       "17      8     TMF014    2024-07-12   MAT         103             127   \n",
       "18      8     TMF014    2024-07-12   NOT          81               0   \n",
       "19      8     TMF014    2024-07-12   VES          45              82   \n",
       "20      8     TMF014    2024-07-13   NOT          21               0   \n",
       "21      9     TMF004    2024-07-12   MAT           0              65   \n",
       "22      9     TMF004    2024-07-12   NOT          19               0   \n",
       "23      9     TMF004    2024-07-12   VES          71              72   \n",
       "24      9     TMF004    2024-07-13   NOT          20             107   \n",
       "25     10     TMF008    2024-07-12   MAT         337               0   \n",
       "26     10     TMF008    2024-07-12   VES         289             167   \n",
       "27     10     TMF008    2024-07-13   MAT         152               0   \n",
       "28     11     TMF010    2024-07-12   MAT         258              80   \n",
       "29     11     TMF010    2024-07-12   NOT           0               0   \n",
       "30     11     TMF010    2024-07-12   VES         389              97   \n",
       "31     11     TMF010    2024-07-13   NOT           0               0   \n",
       "32     12     TMF007    2024-07-12   MAT         139             367   \n",
       "33     12     TMF007    2024-07-12   VES         212               0   \n",
       "34     12     TMF007    2024-07-13   MAT          62               0   \n",
       "35     12     TMF007    2024-07-13   NOT          65               0   \n",
       "36     13     TMF013    2024-07-12   MAT         131             215   \n",
       "37     13     TMF013    2024-07-12   NOT         107              62   \n",
       "38     13     TMF013    2024-07-13   NOT         179             231   \n",
       "\n",
       "    descarte_paes  descarte_paes_pasta  descarte_pasta  \n",
       "0           0.000                0.000           0.000  \n",
       "1           0.000                0.000           0.000  \n",
       "2           6.960               11.522           0.000  \n",
       "3          11.690                0.000           0.000  \n",
       "4           0.000                0.000           0.000  \n",
       "5           6.090               11.960           0.000  \n",
       "6           5.150                0.000           0.000  \n",
       "7           0.000                0.000           0.000  \n",
       "8          25.628               10.586           2.526  \n",
       "9          12.630               11.040           0.000  \n",
       "10          0.000                0.000           0.000  \n",
       "11          0.000                0.000           0.000  \n",
       "12          3.650               15.360           0.000  \n",
       "13          4.960                5.570           1.266  \n",
       "14          0.000                0.000           0.000  \n",
       "15          8.070                0.000           0.000  \n",
       "16          4.320               24.000           0.000  \n",
       "17          0.000                0.000           0.000  \n",
       "18          0.000                0.000           0.000  \n",
       "19          5.030                0.000           0.000  \n",
       "20          3.620                0.000           0.000  \n",
       "21          0.000                0.000           0.000  \n",
       "22          0.000                0.000           0.000  \n",
       "23         11.486                3.050           1.200  \n",
       "24          0.000                0.000           0.000  \n",
       "25          0.000                0.000           0.000  \n",
       "26         13.900               19.750           0.000  \n",
       "27          0.000                0.000           0.000  \n",
       "28          5.110               36.370           0.000  \n",
       "29         12.940                0.000           0.000  \n",
       "30         10.580                0.000           0.000  \n",
       "31         17.250                0.000           0.000  \n",
       "32          5.720                7.140           0.000  \n",
       "33          0.000                2.750           0.000  \n",
       "34          0.000                0.000           0.000  \n",
       "35          0.000                0.000           0.000  \n",
       "36          0.000                5.790           0.000  \n",
       "37         14.650                0.000           0.000  \n",
       "38         14.000                0.000           8.000  "
      ]
     },
     "execution_count": 14,
     "metadata": {},
     "output_type": "execute_result"
    }
   ],
   "source": [
    "df_ihm_discard"
   ]
  },
  {
   "cell_type": "markdown",
   "metadata": {},
   "source": [
    "# Unindo os dados\n"
   ]
  },
  {
   "cell_type": "markdown",
   "metadata": {},
   "source": [
    "## IHM + Info\n"
   ]
  },
  {
   "cell_type": "code",
   "execution_count": 15,
   "metadata": {
    "notebookRunGroups": {
     "groupValue": "2"
    }
   },
   "outputs": [],
   "source": [
    "class JoinInfoIHM:\n",
    "    \"\"\"\n",
    "    Essa classe é responsável por juntar os DataFrames de informações e IHM.\n",
    "    \"\"\"\n",
    "\n",
    "    def __init__(self, df_ihm, df_info):\n",
    "        self.df_ihm = df_ihm\n",
    "        self.df_info = df_info\n",
    "\n",
    "    def join_data(self) -> pd.DataFrame:\n",
    "        \"\"\"\n",
    "        Junta os DataFrames de informações e IHM.\n",
    "        \"\"\"\n",
    "\n",
    "        # Cria uma coluna auxiliar com data e hora para fazer o merge\n",
    "        self.df_info[\"data_hora\"] = pd.to_datetime(\n",
    "            self.df_info[\"data_registro\"].astype(str)\n",
    "            + \" \"\n",
    "            + self.df_info[\"hora_registro\"].astype(str)\n",
    "        )\n",
    "\n",
    "        self.df_ihm[\"data_hora\"] = pd.to_datetime(\n",
    "            self.df_ihm[\"data_registro\"].astype(str)\n",
    "            + \" \"\n",
    "            + self.df_ihm[\"hora_registro\"].astype(str)\n",
    "        )\n",
    "\n",
    "        # Classifica os DataFrames\n",
    "        self.df_info = self.df_info.sort_values(by=\"data_hora\")\n",
    "        self.df_ihm = self.df_ihm.sort_values(by=\"data_hora\")\n",
    "\n",
    "        # Junta os DataFrames\n",
    "        df = pd.merge_asof(\n",
    "            self.df_info,\n",
    "            self.df_ihm.drop(columns=\"recno\"),\n",
    "            on=\"data_hora\",\n",
    "            by=\"maquina_id\",\n",
    "            direction=\"nearest\",\n",
    "            tolerance=pd.Timedelta(\"3 min 10 s\"),\n",
    "        )\n",
    "\n",
    "        # Ajustas os tipos das colunas contagem_total_ciclos e contagem_total_produzido para int\n",
    "        df[\"contagem_total_ciclos\"] = df[\"contagem_total_ciclos\"].astype(\"Int64\")\n",
    "        df[\"contagem_total_produzido\"] = df[\"contagem_total_produzido\"].astype(\"Int64\")\n",
    "\n",
    "        # Reordenar as colunas mantendo só as colunas necessárias e renomeando as colunas para facilitar a compreensão\n",
    "        df = df[\n",
    "            [\n",
    "                \"fabrica\",\n",
    "                \"linha_x\",\n",
    "                \"maquina_id\",\n",
    "                \"turno\",\n",
    "                \"status\",\n",
    "                \"contagem_total_ciclos\",\n",
    "                \"contagem_total_produzido\",\n",
    "                \"data_registro_x\",\n",
    "                \"hora_registro_x\",\n",
    "                \"motivo\",\n",
    "                \"equipamento\",\n",
    "                \"problema\",\n",
    "                \"causa\",\n",
    "                \"os_numero\",\n",
    "                \"operador_id\",\n",
    "                \"data_registro_y\",\n",
    "                \"hora_registro_y\",\n",
    "            ]\n",
    "        ]\n",
    "\n",
    "        df.columns = [\n",
    "            \"fabrica\",\n",
    "            \"linha\",\n",
    "            \"maquina_id\",\n",
    "            \"turno\",\n",
    "            \"status\",\n",
    "            \"contagem_total_ciclos\",\n",
    "            \"contagem_total_produzido\",\n",
    "            \"data_registro\",\n",
    "            \"hora_registro\",\n",
    "            \"motivo\",\n",
    "            \"equipamento\",\n",
    "            \"problema\",\n",
    "            \"causa\",\n",
    "            \"os_numero\",\n",
    "            \"operador_id\",\n",
    "            \"data_registro_ihm\",\n",
    "            \"hora_registro_ihm\",\n",
    "        ]\n",
    "\n",
    "        # Reordenar pela linha, data_registro_info e hora_registro_info\n",
    "        df = df.sort_values(by=[\"linha\", \"data_registro\", \"hora_registro\"])\n",
    "\n",
    "        return df\n",
    "\n",
    "\n",
    "join_info_ihm = JoinInfoIHM(df_ihm_cleaned.copy(), df_info_cleaned.copy())\n",
    "df_joined = join_info_ihm.join_data()"
   ]
  },
  {
   "cell_type": "markdown",
   "metadata": {},
   "source": [
    "### Saída de Join\n"
   ]
  },
  {
   "cell_type": "code",
   "execution_count": 16,
   "metadata": {
    "notebookRunGroups": {
     "groupValue": "2"
    }
   },
   "outputs": [
    {
     "data": {
      "text/html": [
       "<div>\n",
       "<style scoped>\n",
       "    .dataframe tbody tr th:only-of-type {\n",
       "        vertical-align: middle;\n",
       "    }\n",
       "\n",
       "    .dataframe tbody tr th {\n",
       "        vertical-align: top;\n",
       "    }\n",
       "\n",
       "    .dataframe thead th {\n",
       "        text-align: right;\n",
       "    }\n",
       "</style>\n",
       "<table border=\"1\" class=\"dataframe\">\n",
       "  <thead>\n",
       "    <tr style=\"text-align: right;\">\n",
       "      <th></th>\n",
       "      <th>fabrica</th>\n",
       "      <th>linha</th>\n",
       "      <th>maquina_id</th>\n",
       "      <th>turno</th>\n",
       "      <th>status</th>\n",
       "      <th>contagem_total_ciclos</th>\n",
       "      <th>contagem_total_produzido</th>\n",
       "      <th>data_registro</th>\n",
       "      <th>hora_registro</th>\n",
       "      <th>motivo</th>\n",
       "      <th>equipamento</th>\n",
       "      <th>problema</th>\n",
       "      <th>causa</th>\n",
       "      <th>os_numero</th>\n",
       "      <th>operador_id</th>\n",
       "      <th>data_registro_ihm</th>\n",
       "      <th>hora_registro_ihm</th>\n",
       "    </tr>\n",
       "  </thead>\n",
       "  <tbody>\n",
       "    <tr>\n",
       "      <th>11</th>\n",
       "      <td>1</td>\n",
       "      <td>1</td>\n",
       "      <td>TMF003</td>\n",
       "      <td>NOT</td>\n",
       "      <td>parada</td>\n",
       "      <td>0</td>\n",
       "      <td>0</td>\n",
       "      <td>2024-07-12</td>\n",
       "      <td>00:01:57</td>\n",
       "      <td>NaN</td>\n",
       "      <td>NaN</td>\n",
       "      <td>NaN</td>\n",
       "      <td>NaN</td>\n",
       "      <td>NaN</td>\n",
       "      <td>NaN</td>\n",
       "      <td>NaT</td>\n",
       "      <td>NaN</td>\n",
       "    </tr>\n",
       "    <tr>\n",
       "      <th>25</th>\n",
       "      <td>1</td>\n",
       "      <td>1</td>\n",
       "      <td>TMF003</td>\n",
       "      <td>NOT</td>\n",
       "      <td>parada</td>\n",
       "      <td>0</td>\n",
       "      <td>0</td>\n",
       "      <td>2024-07-12</td>\n",
       "      <td>00:03:57</td>\n",
       "      <td>NaN</td>\n",
       "      <td>NaN</td>\n",
       "      <td>NaN</td>\n",
       "      <td>NaN</td>\n",
       "      <td>NaN</td>\n",
       "      <td>NaN</td>\n",
       "      <td>NaT</td>\n",
       "      <td>NaN</td>\n",
       "    </tr>\n",
       "    <tr>\n",
       "      <th>39</th>\n",
       "      <td>1</td>\n",
       "      <td>1</td>\n",
       "      <td>TMF003</td>\n",
       "      <td>NOT</td>\n",
       "      <td>parada</td>\n",
       "      <td>0</td>\n",
       "      <td>0</td>\n",
       "      <td>2024-07-12</td>\n",
       "      <td>00:05:57</td>\n",
       "      <td>NaN</td>\n",
       "      <td>NaN</td>\n",
       "      <td>NaN</td>\n",
       "      <td>NaN</td>\n",
       "      <td>NaN</td>\n",
       "      <td>NaN</td>\n",
       "      <td>NaT</td>\n",
       "      <td>NaN</td>\n",
       "    </tr>\n",
       "    <tr>\n",
       "      <th>53</th>\n",
       "      <td>1</td>\n",
       "      <td>1</td>\n",
       "      <td>TMF003</td>\n",
       "      <td>NOT</td>\n",
       "      <td>parada</td>\n",
       "      <td>0</td>\n",
       "      <td>0</td>\n",
       "      <td>2024-07-12</td>\n",
       "      <td>00:07:57</td>\n",
       "      <td>NaN</td>\n",
       "      <td>NaN</td>\n",
       "      <td>NaN</td>\n",
       "      <td>NaN</td>\n",
       "      <td>NaN</td>\n",
       "      <td>NaN</td>\n",
       "      <td>NaT</td>\n",
       "      <td>NaN</td>\n",
       "    </tr>\n",
       "    <tr>\n",
       "      <th>67</th>\n",
       "      <td>1</td>\n",
       "      <td>1</td>\n",
       "      <td>TMF003</td>\n",
       "      <td>NOT</td>\n",
       "      <td>parada</td>\n",
       "      <td>0</td>\n",
       "      <td>0</td>\n",
       "      <td>2024-07-12</td>\n",
       "      <td>00:09:57</td>\n",
       "      <td>NaN</td>\n",
       "      <td>NaN</td>\n",
       "      <td>NaN</td>\n",
       "      <td>NaN</td>\n",
       "      <td>NaN</td>\n",
       "      <td>NaN</td>\n",
       "      <td>NaT</td>\n",
       "      <td>NaN</td>\n",
       "    </tr>\n",
       "    <tr>\n",
       "      <th>...</th>\n",
       "      <td>...</td>\n",
       "      <td>...</td>\n",
       "      <td>...</td>\n",
       "      <td>...</td>\n",
       "      <td>...</td>\n",
       "      <td>...</td>\n",
       "      <td>...</td>\n",
       "      <td>...</td>\n",
       "      <td>...</td>\n",
       "      <td>...</td>\n",
       "      <td>...</td>\n",
       "      <td>...</td>\n",
       "      <td>...</td>\n",
       "      <td>...</td>\n",
       "      <td>...</td>\n",
       "      <td>...</td>\n",
       "      <td>...</td>\n",
       "    </tr>\n",
       "    <tr>\n",
       "      <th>13910</th>\n",
       "      <td>2</td>\n",
       "      <td>14</td>\n",
       "      <td>TMF009</td>\n",
       "      <td>MAT</td>\n",
       "      <td>parada</td>\n",
       "      <td>0</td>\n",
       "      <td>0</td>\n",
       "      <td>2024-07-13</td>\n",
       "      <td>09:57:54</td>\n",
       "      <td>NaN</td>\n",
       "      <td>NaN</td>\n",
       "      <td>NaN</td>\n",
       "      <td>NaN</td>\n",
       "      <td>NaN</td>\n",
       "      <td>NaN</td>\n",
       "      <td>NaT</td>\n",
       "      <td>NaN</td>\n",
       "    </tr>\n",
       "    <tr>\n",
       "      <th>13924</th>\n",
       "      <td>2</td>\n",
       "      <td>14</td>\n",
       "      <td>TMF009</td>\n",
       "      <td>MAT</td>\n",
       "      <td>parada</td>\n",
       "      <td>0</td>\n",
       "      <td>0</td>\n",
       "      <td>2024-07-13</td>\n",
       "      <td>09:59:54</td>\n",
       "      <td>NaN</td>\n",
       "      <td>NaN</td>\n",
       "      <td>NaN</td>\n",
       "      <td>NaN</td>\n",
       "      <td>NaN</td>\n",
       "      <td>NaN</td>\n",
       "      <td>NaT</td>\n",
       "      <td>NaN</td>\n",
       "    </tr>\n",
       "    <tr>\n",
       "      <th>13938</th>\n",
       "      <td>2</td>\n",
       "      <td>14</td>\n",
       "      <td>TMF009</td>\n",
       "      <td>MAT</td>\n",
       "      <td>parada</td>\n",
       "      <td>0</td>\n",
       "      <td>0</td>\n",
       "      <td>2024-07-13</td>\n",
       "      <td>10:01:54</td>\n",
       "      <td>NaN</td>\n",
       "      <td>NaN</td>\n",
       "      <td>NaN</td>\n",
       "      <td>NaN</td>\n",
       "      <td>NaN</td>\n",
       "      <td>NaN</td>\n",
       "      <td>NaT</td>\n",
       "      <td>NaN</td>\n",
       "    </tr>\n",
       "    <tr>\n",
       "      <th>13952</th>\n",
       "      <td>2</td>\n",
       "      <td>14</td>\n",
       "      <td>TMF009</td>\n",
       "      <td>MAT</td>\n",
       "      <td>parada</td>\n",
       "      <td>0</td>\n",
       "      <td>0</td>\n",
       "      <td>2024-07-13</td>\n",
       "      <td>10:03:54</td>\n",
       "      <td>NaN</td>\n",
       "      <td>NaN</td>\n",
       "      <td>NaN</td>\n",
       "      <td>NaN</td>\n",
       "      <td>NaN</td>\n",
       "      <td>NaN</td>\n",
       "      <td>NaT</td>\n",
       "      <td>NaN</td>\n",
       "    </tr>\n",
       "    <tr>\n",
       "      <th>13966</th>\n",
       "      <td>2</td>\n",
       "      <td>14</td>\n",
       "      <td>TMF009</td>\n",
       "      <td>MAT</td>\n",
       "      <td>parada</td>\n",
       "      <td>0</td>\n",
       "      <td>0</td>\n",
       "      <td>2024-07-13</td>\n",
       "      <td>10:05:54</td>\n",
       "      <td>NaN</td>\n",
       "      <td>NaN</td>\n",
       "      <td>NaN</td>\n",
       "      <td>NaN</td>\n",
       "      <td>NaN</td>\n",
       "      <td>NaN</td>\n",
       "      <td>NaT</td>\n",
       "      <td>NaN</td>\n",
       "    </tr>\n",
       "  </tbody>\n",
       "</table>\n",
       "<p>13976 rows × 17 columns</p>\n",
       "</div>"
      ],
      "text/plain": [
       "      fabrica  linha maquina_id turno  status  contagem_total_ciclos  \\\n",
       "11          1      1     TMF003   NOT  parada                      0   \n",
       "25          1      1     TMF003   NOT  parada                      0   \n",
       "39          1      1     TMF003   NOT  parada                      0   \n",
       "53          1      1     TMF003   NOT  parada                      0   \n",
       "67          1      1     TMF003   NOT  parada                      0   \n",
       "...       ...    ...        ...   ...     ...                    ...   \n",
       "13910       2     14     TMF009   MAT  parada                      0   \n",
       "13924       2     14     TMF009   MAT  parada                      0   \n",
       "13938       2     14     TMF009   MAT  parada                      0   \n",
       "13952       2     14     TMF009   MAT  parada                      0   \n",
       "13966       2     14     TMF009   MAT  parada                      0   \n",
       "\n",
       "       contagem_total_produzido data_registro hora_registro motivo  \\\n",
       "11                            0    2024-07-12      00:01:57    NaN   \n",
       "25                            0    2024-07-12      00:03:57    NaN   \n",
       "39                            0    2024-07-12      00:05:57    NaN   \n",
       "53                            0    2024-07-12      00:07:57    NaN   \n",
       "67                            0    2024-07-12      00:09:57    NaN   \n",
       "...                         ...           ...           ...    ...   \n",
       "13910                         0    2024-07-13      09:57:54    NaN   \n",
       "13924                         0    2024-07-13      09:59:54    NaN   \n",
       "13938                         0    2024-07-13      10:01:54    NaN   \n",
       "13952                         0    2024-07-13      10:03:54    NaN   \n",
       "13966                         0    2024-07-13      10:05:54    NaN   \n",
       "\n",
       "      equipamento problema causa os_numero operador_id data_registro_ihm  \\\n",
       "11            NaN      NaN   NaN       NaN         NaN               NaT   \n",
       "25            NaN      NaN   NaN       NaN         NaN               NaT   \n",
       "39            NaN      NaN   NaN       NaN         NaN               NaT   \n",
       "53            NaN      NaN   NaN       NaN         NaN               NaT   \n",
       "67            NaN      NaN   NaN       NaN         NaN               NaT   \n",
       "...           ...      ...   ...       ...         ...               ...   \n",
       "13910         NaN      NaN   NaN       NaN         NaN               NaT   \n",
       "13924         NaN      NaN   NaN       NaN         NaN               NaT   \n",
       "13938         NaN      NaN   NaN       NaN         NaN               NaT   \n",
       "13952         NaN      NaN   NaN       NaN         NaN               NaT   \n",
       "13966         NaN      NaN   NaN       NaN         NaN               NaT   \n",
       "\n",
       "      hora_registro_ihm  \n",
       "11                  NaN  \n",
       "25                  NaN  \n",
       "39                  NaN  \n",
       "53                  NaN  \n",
       "67                  NaN  \n",
       "...                 ...  \n",
       "13910               NaN  \n",
       "13924               NaN  \n",
       "13938               NaN  \n",
       "13952               NaN  \n",
       "13966               NaN  \n",
       "\n",
       "[13976 rows x 17 columns]"
      ]
     },
     "execution_count": 16,
     "metadata": {},
     "output_type": "execute_result"
    }
   ],
   "source": [
    "df_joined"
   ]
  },
  {
   "cell_type": "code",
   "execution_count": 17,
   "metadata": {},
   "outputs": [],
   "source": [
    "class QualityProduction:\n",
    "    \"\"\"\n",
    "    Essa classe é responsável por juntar os DataFrames de qualidade e produção.\n",
    "    \"\"\"\n",
    "\n",
    "    def __init__(self, df_quality, df_production):\n",
    "        self.df_quality = df_quality\n",
    "        self.df_production = df_production\n",
    "\n",
    "    def join_data(self) -> pd.DataFrame:\n",
    "        \"\"\"\n",
    "        Junta os DataFrames de qualidade e produção.\n",
    "        \"\"\"\n",
    "\n",
    "        # Garantir que data de registro seja datetime\n",
    "        self.df_quality.data_registro = pd.to_datetime(self.df_quality.data_registro)\n",
    "        self.df_production.data_registro = pd.to_datetime(self.df_production.data_registro)\n",
    "\n",
    "        # Classifica os DataFrames\n",
    "        self.df_quality = self.df_quality.sort_values(by=\"data_registro\")\n",
    "        self.df_production = self.df_production.sort_values(by=\"data_registro\")\n",
    "\n",
    "        # Junta os DataFrames pela data e turno\n",
    "        df = pd.merge(\n",
    "            self.df_production,\n",
    "            self.df_quality,\n",
    "            on=[\"linha\", \"maquina_id\", \"data_registro\", \"turno\"],\n",
    "            how=\"left\",\n",
    "        )\n",
    "\n",
    "        # Renomear coluna total produzido\n",
    "        df = df.rename(columns={\"total_produzido\": \"total_produzido_sensor\"})\n",
    "\n",
    "        # Preencher valores nulos\n",
    "        df = df.fillna(0)\n",
    "\n",
    "        # Calcula produção total\n",
    "        mask = (df.total_ciclos - df.total_produzido_sensor) < 500\n",
    "        ciclos = df.total_ciclos - df.bdj_vazias - df.bdj_retrabalho\n",
    "        sensor = df.total_produzido_sensor - df.bdj_retrabalho\n",
    "        df[\"total_produzido\"] = np.where(mask, sensor, ciclos)\n",
    "\n",
    "        # Ordenar os valores\n",
    "        df = df.sort_values(by=[\"data_registro\", \"turno\", \"linha\"])\n",
    "\n",
    "        # Reordenar as colunas\n",
    "        df = df[\n",
    "            [\n",
    "                \"fabrica\",\n",
    "                \"linha\",\n",
    "                \"maquina_id\",\n",
    "                \"turno\",\n",
    "                \"total_ciclos\",\n",
    "                \"total_produzido_sensor\",\n",
    "                \"bdj_vazias\",\n",
    "                \"bdj_retrabalho\",\n",
    "                \"total_produzido\",\n",
    "                \"data_registro\",\n",
    "                \"hora_registro\",\n",
    "            ]\n",
    "        ]\n",
    "\n",
    "        # Definir como int\n",
    "        df.total_produzido = df.total_produzido.astype(int)\n",
    "        df.total_produzido_sensor = df.total_produzido_sensor.astype(int)\n",
    "        df.bdj_vazias = df.bdj_vazias.astype(int)\n",
    "        df.bdj_retrabalho = df.bdj_retrabalho.astype(int)\n",
    "\n",
    "        return df\n",
    "\n",
    "\n",
    "quality_production = QualityProduction(df_ihm_discard.copy(), df_info_production_clean.copy())"
   ]
  },
  {
   "cell_type": "code",
   "execution_count": 18,
   "metadata": {},
   "outputs": [
    {
     "data": {
      "text/html": [
       "<div>\n",
       "<style scoped>\n",
       "    .dataframe tbody tr th:only-of-type {\n",
       "        vertical-align: middle;\n",
       "    }\n",
       "\n",
       "    .dataframe tbody tr th {\n",
       "        vertical-align: top;\n",
       "    }\n",
       "\n",
       "    .dataframe thead th {\n",
       "        text-align: right;\n",
       "    }\n",
       "</style>\n",
       "<table border=\"1\" class=\"dataframe\">\n",
       "  <thead>\n",
       "    <tr style=\"text-align: right;\">\n",
       "      <th></th>\n",
       "      <th>fabrica</th>\n",
       "      <th>linha</th>\n",
       "      <th>maquina_id</th>\n",
       "      <th>turno</th>\n",
       "      <th>total_ciclos</th>\n",
       "      <th>total_produzido_sensor</th>\n",
       "      <th>bdj_vazias</th>\n",
       "      <th>bdj_retrabalho</th>\n",
       "      <th>total_produzido</th>\n",
       "      <th>data_registro</th>\n",
       "      <th>hora_registro</th>\n",
       "    </tr>\n",
       "  </thead>\n",
       "  <tbody>\n",
       "    <tr>\n",
       "      <th>51</th>\n",
       "      <td>1</td>\n",
       "      <td>1</td>\n",
       "      <td>TMF003</td>\n",
       "      <td>NOT</td>\n",
       "      <td>8606.0</td>\n",
       "      <td>8606</td>\n",
       "      <td>90</td>\n",
       "      <td>54</td>\n",
       "      <td>8552</td>\n",
       "      <td>2024-07-13</td>\n",
       "      <td>07:58:02</td>\n",
       "    </tr>\n",
       "    <tr>\n",
       "      <th>53</th>\n",
       "      <td>1</td>\n",
       "      <td>2</td>\n",
       "      <td>TMF011</td>\n",
       "      <td>NOT</td>\n",
       "      <td>8754.0</td>\n",
       "      <td>8750</td>\n",
       "      <td>54</td>\n",
       "      <td>21</td>\n",
       "      <td>8729</td>\n",
       "      <td>2024-07-13</td>\n",
       "      <td>07:58:03</td>\n",
       "    </tr>\n",
       "    <tr>\n",
       "      <th>55</th>\n",
       "      <td>1</td>\n",
       "      <td>3</td>\n",
       "      <td>TMF005</td>\n",
       "      <td>NOT</td>\n",
       "      <td>5502.0</td>\n",
       "      <td>5212</td>\n",
       "      <td>0</td>\n",
       "      <td>160</td>\n",
       "      <td>5052</td>\n",
       "      <td>2024-07-13</td>\n",
       "      <td>07:58:04</td>\n",
       "    </tr>\n",
       "    <tr>\n",
       "      <th>57</th>\n",
       "      <td>1</td>\n",
       "      <td>4</td>\n",
       "      <td>TMF012</td>\n",
       "      <td>NOT</td>\n",
       "      <td>8444.0</td>\n",
       "      <td>0</td>\n",
       "      <td>33</td>\n",
       "      <td>41</td>\n",
       "      <td>8370</td>\n",
       "      <td>2024-07-13</td>\n",
       "      <td>07:58:05</td>\n",
       "    </tr>\n",
       "    <tr>\n",
       "      <th>59</th>\n",
       "      <td>1</td>\n",
       "      <td>5</td>\n",
       "      <td>TMF002</td>\n",
       "      <td>NOT</td>\n",
       "      <td>0.0</td>\n",
       "      <td>0</td>\n",
       "      <td>0</td>\n",
       "      <td>0</td>\n",
       "      <td>0</td>\n",
       "      <td>2024-07-13</td>\n",
       "      <td>07:58:06</td>\n",
       "    </tr>\n",
       "    <tr>\n",
       "      <th>61</th>\n",
       "      <td>1</td>\n",
       "      <td>6</td>\n",
       "      <td>TMF001</td>\n",
       "      <td>NOT</td>\n",
       "      <td>0.0</td>\n",
       "      <td>0</td>\n",
       "      <td>0</td>\n",
       "      <td>0</td>\n",
       "      <td>0</td>\n",
       "      <td>2024-07-13</td>\n",
       "      <td>07:58:07</td>\n",
       "    </tr>\n",
       "    <tr>\n",
       "      <th>63</th>\n",
       "      <td>1</td>\n",
       "      <td>7</td>\n",
       "      <td>TMF006</td>\n",
       "      <td>NOT</td>\n",
       "      <td>8446.0</td>\n",
       "      <td>0</td>\n",
       "      <td>54</td>\n",
       "      <td>152</td>\n",
       "      <td>8240</td>\n",
       "      <td>2024-07-13</td>\n",
       "      <td>07:58:08</td>\n",
       "    </tr>\n",
       "    <tr>\n",
       "      <th>65</th>\n",
       "      <td>1</td>\n",
       "      <td>8</td>\n",
       "      <td>TMF014</td>\n",
       "      <td>NOT</td>\n",
       "      <td>7398.0</td>\n",
       "      <td>0</td>\n",
       "      <td>21</td>\n",
       "      <td>0</td>\n",
       "      <td>7377</td>\n",
       "      <td>2024-07-13</td>\n",
       "      <td>07:58:09</td>\n",
       "    </tr>\n",
       "    <tr>\n",
       "      <th>67</th>\n",
       "      <td>1</td>\n",
       "      <td>9</td>\n",
       "      <td>TMF004</td>\n",
       "      <td>NOT</td>\n",
       "      <td>1812.0</td>\n",
       "      <td>1734</td>\n",
       "      <td>20</td>\n",
       "      <td>107</td>\n",
       "      <td>1627</td>\n",
       "      <td>2024-07-13</td>\n",
       "      <td>07:58:10</td>\n",
       "    </tr>\n",
       "    <tr>\n",
       "      <th>68</th>\n",
       "      <td>2</td>\n",
       "      <td>10</td>\n",
       "      <td>TMF008</td>\n",
       "      <td>NOT</td>\n",
       "      <td>74.0</td>\n",
       "      <td>0</td>\n",
       "      <td>0</td>\n",
       "      <td>0</td>\n",
       "      <td>0</td>\n",
       "      <td>2024-07-13</td>\n",
       "      <td>07:59:50</td>\n",
       "    </tr>\n",
       "    <tr>\n",
       "      <th>47</th>\n",
       "      <td>2</td>\n",
       "      <td>11</td>\n",
       "      <td>TMF010</td>\n",
       "      <td>NOT</td>\n",
       "      <td>7946.0</td>\n",
       "      <td>7796</td>\n",
       "      <td>0</td>\n",
       "      <td>0</td>\n",
       "      <td>7796</td>\n",
       "      <td>2024-07-13</td>\n",
       "      <td>07:59:51</td>\n",
       "    </tr>\n",
       "    <tr>\n",
       "      <th>42</th>\n",
       "      <td>2</td>\n",
       "      <td>12</td>\n",
       "      <td>TMF007</td>\n",
       "      <td>NOT</td>\n",
       "      <td>170.0</td>\n",
       "      <td>100</td>\n",
       "      <td>65</td>\n",
       "      <td>0</td>\n",
       "      <td>100</td>\n",
       "      <td>2024-07-13</td>\n",
       "      <td>07:59:52</td>\n",
       "    </tr>\n",
       "    <tr>\n",
       "      <th>45</th>\n",
       "      <td>2</td>\n",
       "      <td>13</td>\n",
       "      <td>TMF013</td>\n",
       "      <td>NOT</td>\n",
       "      <td>8120.0</td>\n",
       "      <td>7910</td>\n",
       "      <td>179</td>\n",
       "      <td>231</td>\n",
       "      <td>7679</td>\n",
       "      <td>2024-07-13</td>\n",
       "      <td>07:59:53</td>\n",
       "    </tr>\n",
       "    <tr>\n",
       "      <th>64</th>\n",
       "      <td>2</td>\n",
       "      <td>14</td>\n",
       "      <td>TMF009</td>\n",
       "      <td>NOT</td>\n",
       "      <td>0.0</td>\n",
       "      <td>0</td>\n",
       "      <td>0</td>\n",
       "      <td>0</td>\n",
       "      <td>0</td>\n",
       "      <td>2024-07-13</td>\n",
       "      <td>07:59:54</td>\n",
       "    </tr>\n",
       "  </tbody>\n",
       "</table>\n",
       "</div>"
      ],
      "text/plain": [
       "   fabrica  linha maquina_id turno  total_ciclos  total_produzido_sensor  \\\n",
       "51       1      1     TMF003   NOT        8606.0                    8606   \n",
       "53       1      2     TMF011   NOT        8754.0                    8750   \n",
       "55       1      3     TMF005   NOT        5502.0                    5212   \n",
       "57       1      4     TMF012   NOT        8444.0                       0   \n",
       "59       1      5     TMF002   NOT           0.0                       0   \n",
       "61       1      6     TMF001   NOT           0.0                       0   \n",
       "63       1      7     TMF006   NOT        8446.0                       0   \n",
       "65       1      8     TMF014   NOT        7398.0                       0   \n",
       "67       1      9     TMF004   NOT        1812.0                    1734   \n",
       "68       2     10     TMF008   NOT          74.0                       0   \n",
       "47       2     11     TMF010   NOT        7946.0                    7796   \n",
       "42       2     12     TMF007   NOT         170.0                     100   \n",
       "45       2     13     TMF013   NOT        8120.0                    7910   \n",
       "64       2     14     TMF009   NOT           0.0                       0   \n",
       "\n",
       "    bdj_vazias  bdj_retrabalho  total_produzido data_registro hora_registro  \n",
       "51          90              54             8552    2024-07-13      07:58:02  \n",
       "53          54              21             8729    2024-07-13      07:58:03  \n",
       "55           0             160             5052    2024-07-13      07:58:04  \n",
       "57          33              41             8370    2024-07-13      07:58:05  \n",
       "59           0               0                0    2024-07-13      07:58:06  \n",
       "61           0               0                0    2024-07-13      07:58:07  \n",
       "63          54             152             8240    2024-07-13      07:58:08  \n",
       "65          21               0             7377    2024-07-13      07:58:09  \n",
       "67          20             107             1627    2024-07-13      07:58:10  \n",
       "68           0               0                0    2024-07-13      07:59:50  \n",
       "47           0               0             7796    2024-07-13      07:59:51  \n",
       "42          65               0              100    2024-07-13      07:59:52  \n",
       "45         179             231             7679    2024-07-13      07:59:53  \n",
       "64           0               0                0    2024-07-13      07:59:54  "
      ]
     },
     "execution_count": 18,
     "metadata": {},
     "output_type": "execute_result"
    }
   ],
   "source": [
    "df_info_production_cleaned = quality_production.join_data()\n",
    "df_info_production_cleaned.tail(14)"
   ]
  },
  {
   "cell_type": "markdown",
   "metadata": {},
   "source": [
    "# Service\n"
   ]
  },
  {
   "cell_type": "markdown",
   "metadata": {},
   "source": [
    "## Info + IHM Service\n"
   ]
  },
  {
   "cell_type": "code",
   "execution_count": 19,
   "metadata": {
    "notebookRunGroups": {
     "groupValue": "2"
    }
   },
   "outputs": [],
   "source": [
    "class ServiceInfoIHM:\n",
    "    \"\"\"\n",
    "    Essa classe é responsável por realizar a leitura, limpeza e junção dos dados de informações e IHM.\n",
    "    \"\"\"\n",
    "\n",
    "    def __init__(self):\n",
    "        self.get_data = GetData()\n",
    "        self.clean_data = CleanData\n",
    "        self.join_info_ihm = JoinInfoIHM\n",
    "        self.data = self.get_data.get_data()\n",
    "\n",
    "    def __get_info_ihm(self) -> pd.DataFrame:\n",
    "        \"\"\"\n",
    "        Realiza a leitura, limpeza e junção dos dados de informações e IHM.\n",
    "        \"\"\"\n",
    "\n",
    "        # Realiza a leitura dos dados\n",
    "        df_ihm, df_info, _ = self.data\n",
    "\n",
    "        # Verifica se os dados foram lidos corretamente\n",
    "        if df_ihm is None or df_info is None or df_info_production is None:\n",
    "            return None\n",
    "\n",
    "        # Limpa os dados\n",
    "        clean_data = self.clean_data(df_ihm, df_info, df_info_production)\n",
    "        df_ihm_cleaned, df_info_cleaned, _ = clean_data.clean_data()\n",
    "\n",
    "        # Junta os dados\n",
    "        join_info_ihm = self.join_info_ihm(df_ihm_cleaned, df_info_cleaned)\n",
    "        df_joined = join_info_ihm.join_data()\n",
    "\n",
    "        return df_joined\n",
    "\n",
    "    def __identify_changes(self, df, column) -> pd.Series:\n",
    "        return df[column].ne(df[column].shift())\n",
    "\n",
    "    def __status_change(self, df):\n",
    "        # Checa se houve mudança de status, maquina_id e turno\n",
    "        columns_to_check = [\"status\", \"maquina_id\", \"turno\"]\n",
    "        for column in columns_to_check:\n",
    "            df[f\"{column}_change\"] = self.__identify_changes(df, column)\n",
    "\n",
    "        # Coluna auxiliar que identifica se houve alguma mudança\n",
    "        df[\"change\"] = df[[\"status_change\", \"maquina_id_change\", \"turno_change\"]].any(axis=1)\n",
    "\n",
    "        return df\n",
    "\n",
    "    def __fill_occ(self, df):\n",
    "        # Preenche os valores nulos de paradas\n",
    "        df[\"motivo\"] = df.groupby(\"group\")[\"motivo\"].transform(lambda x: x.ffill().bfill())\n",
    "        df[\"equipamento\"] = df.groupby(\"group\")[\"equipamento\"].transform(\n",
    "            lambda x: x.ffill().bfill()\n",
    "        )\n",
    "        df[\"problema\"] = df.groupby(\"group\")[\"problema\"].transform(lambda x: x.ffill().bfill())\n",
    "        df[\"causa\"] = df.groupby(\"group\")[\"causa\"].transform(lambda x: x.ffill().bfill())\n",
    "        df[\"os_numero\"] = df.groupby(\"group\")[\"os_numero\"].transform(lambda x: x.ffill().bfill())\n",
    "        df[\"operador_id\"] = df.groupby(\"group\")[\"operador_id\"].transform(\n",
    "            lambda x: x.ffill().bfill()\n",
    "        )\n",
    "        df[\"data_registro_ihm\"] = df.groupby(\"group\")[\"data_registro_ihm\"].transform(\n",
    "            lambda x: x.ffill().bfill()\n",
    "        )\n",
    "        df[\"hora_registro_ihm\"] = df.groupby(\"group\")[\"hora_registro_ihm\"].transform(\n",
    "            lambda x: x.ffill().bfill()\n",
    "        )\n",
    "\n",
    "        # Se os dado de uma coluna for '' ou ' ', substituir por NaN\n",
    "        df = df.replace(r\"^s*$\", None, regex=True)\n",
    "        # O ^ indica o início de uma string, o $ indica o fim de uma string, e s* zero ou mais espaços em branco\n",
    "\n",
    "        return df\n",
    "\n",
    "    def __group_and_calc_time(self, df):\n",
    "        # Agrupa as mudanças\n",
    "        df = (\n",
    "            df.groupby([\"group\"])\n",
    "            .agg(\n",
    "                fabrica=(\"fabrica\", \"first\"),\n",
    "                linha=(\"linha\", \"first\"),\n",
    "                maquina_id=(\"maquina_id\", \"first\"),\n",
    "                turno=(\"turno\", \"first\"),\n",
    "                status=(\"status\", \"first\"),\n",
    "                data_registro=(\"data_registro\", \"first\"),\n",
    "                hora_registro=(\"hora_registro\", \"first\"),\n",
    "                motivo=(\"motivo\", \"first\"),\n",
    "                equipamento=(\"equipamento\", \"first\"),\n",
    "                problema=(\"problema\", \"first\"),\n",
    "                causa=(\"causa\", \"first\"),\n",
    "                os_numero=(\"os_numero\", \"first\"),\n",
    "                operador_id=(\"operador_id\", \"first\"),\n",
    "                data_registro_ihm=(\"data_registro_ihm\", \"first\"),\n",
    "                hora_registro_ihm=(\"hora_registro_ihm\", \"first\"),\n",
    "                data_hora=(\"data_hora\", \"first\"),\n",
    "                change=(\"change\", \"first\"),\n",
    "                maquina_id_change=(\"maquina_id_change\", \"first\"),\n",
    "                change_date=(\"change_date\", \"first\"),\n",
    "                motivo_change=(\"motivo_change\", \"first\"),\n",
    "            )\n",
    "            .reset_index()\n",
    "        )\n",
    "\n",
    "        # Nova coluna com a data_hora_final do status/parada\n",
    "        df[\"data_hora_final\"] = (\n",
    "            df.groupby(\"maquina_id\")[\"data_hora\"].shift(-1).where(~df[\"maquina_id_change\"])\n",
    "        )\n",
    "\n",
    "        # Atualiza a hora final caso mude a máquina\n",
    "        mask = df[\"maquina_id_change\"]\n",
    "        df[\"data_hora_final\"] = np.where(\n",
    "            mask,\n",
    "            df[\"change_date\"].shift(-1),\n",
    "            df[\"data_hora_final\"],\n",
    "        )\n",
    "\n",
    "        # Dicionário com o horário de término de cada turno\n",
    "        turno_end_time = {\n",
    "            \"NOT\": pd.to_timedelta(\"08:01:00\"),\n",
    "            \"MAT\": pd.to_timedelta(\"16:01:00\"),\n",
    "            \"VES\": pd.to_timedelta(\"00:01:00\"),\n",
    "        }\n",
    "\n",
    "        # Nova coluna com o horário de término do turno\n",
    "        df[\"turno_end_time\"] = df[\"turno\"].map(turno_end_time)\n",
    "\n",
    "        # Atualiza a hora final caso haja mudança de turno\n",
    "        mask = df[\"turno\"] != df[\"turno\"].shift(-1)\n",
    "        df[\"data_hora_final\"] = np.where(\n",
    "            mask & (df[\"turno\"] == \"VES\"),\n",
    "            (df[\"data_hora\"].dt.normalize() + pd.DateOffset(days=1)) + df[\"turno_end_time\"],\n",
    "            np.where(\n",
    "                mask,\n",
    "                df[\"data_hora\"].dt.normalize() + df[\"turno_end_time\"],\n",
    "                df[\"data_hora_final\"],\n",
    "            ),\n",
    "        )\n",
    "\n",
    "        # Remove coluna auxiliar\n",
    "        df = df.drop(columns=[\"turno_end_time\"])\n",
    "\n",
    "        # Caso a data_hora_final seja nula, remove a linha\n",
    "        df = df.dropna(subset=[\"data_hora_final\"]).reset_index(drop=True)\n",
    "\n",
    "        # Calcula o tempo de cada status\n",
    "        df[\"tempo\"] = (\n",
    "            pd.to_datetime(df[\"data_hora_final\"]) - pd.to_datetime(df[\"data_hora\"])\n",
    "        ).dt.total_seconds() / 60\n",
    "\n",
    "        # Arredondar e converter para inteiro\n",
    "        df[\"tempo\"] = df[\"tempo\"].round().astype(int)\n",
    "\n",
    "        # Se o tempo for maior que 478, e o motivo for parada programada ou limpeza ajustar para 480\n",
    "        mask = (df[\"tempo\"] > 478) & (df[\"motivo\"].isin([\"Parada Programada\", \"Limpeza\"]))\n",
    "        df[\"tempo\"] = np.where(mask, 480, df[\"tempo\"])\n",
    "\n",
    "        return df\n",
    "\n",
    "    def get_info_ihm_adjusted(self) -> pd.DataFrame:\n",
    "        \"\"\"\n",
    "        Realiza a leitura, limpeza e junção dos dados de informações e IHM.\n",
    "        Ajusta os dados para o formato correto.\n",
    "        \"\"\"\n",
    "\n",
    "        # Realiza a leitura, limpeza e junção dos dados\n",
    "        df_joined = self.__get_info_ihm()\n",
    "\n",
    "        if df_joined is None:\n",
    "            return None\n",
    "\n",
    "        # ========================= Identifica Onde Há Mudança De Status ========================= #\n",
    "\n",
    "        df_joined = self.__status_change(df_joined)\n",
    "\n",
    "        # ========================= Preenchendo Valores Nulos De Paradas ========================= #\n",
    "\n",
    "        # Cria um grupo para cada mudança de status\n",
    "        df_joined[\"group\"] = df_joined[\"change\"].cumsum()\n",
    "\n",
    "        # Preenche os valores nulos de paradas\n",
    "        df_joined = self.__fill_occ(df_joined)\n",
    "\n",
    "        # Coluna auxiliar para identificar mudança na coluna motivo, se não for nula\n",
    "        mask = (df_joined[\"motivo\"].ne(df_joined[\"motivo\"].shift())) | (\n",
    "            df_joined[\"causa\"].ne(df_joined[\"causa\"].shift())\n",
    "        )\n",
    "        df_joined[\"motivo_change\"] = mask & df_joined[\"motivo\"].notnull()\n",
    "\n",
    "        # Atualiza o change\n",
    "        df_joined[\"change\"] = df_joined[\"change\"] | df_joined[\"motivo_change\"]\n",
    "\n",
    "        # Refaz o grupo para considerar a mudança na coluna motivo\n",
    "        df_joined[\"group\"] = df_joined[\"change\"].cumsum()\n",
    "\n",
    "        # Coluna auxiliar para unir data e hora\n",
    "        df_joined[\"data_hora\"] = pd.to_datetime(\n",
    "            df_joined[\"data_registro\"].astype(str) + \" \" + df_joined[\"hora_registro\"].astype(str)\n",
    "        )\n",
    "\n",
    "        # Coluna auxiliar para identificar a data/hora da mudança\n",
    "        df_joined[\"change_date\"] = (\n",
    "            df_joined.groupby(\"maquina_id\")[\"data_hora\"].shift(0).where(df_joined[\"change\"])\n",
    "        )\n",
    "\n",
    "        # ============================ Calcula O Tempo Parada Ou Rodando ========================== #\n",
    "\n",
    "        # Calcula os tempos\n",
    "        df_joined = self.__group_and_calc_time(df_joined)\n",
    "\n",
    "        # Ajustar status para levar em conta testes\n",
    "        mask = (\n",
    "            (df_joined[\"status\"] == \"rodando\")\n",
    "            & (df_joined[\"tempo\"] <= 10)\n",
    "            & (df_joined[\"turno\"].eq(df_joined[\"turno\"].shift(-1)))\n",
    "            & (df_joined[\"motivo\"].shift() != \"Parada Programada\")\n",
    "        )\n",
    "        df_joined[\"status\"] = np.where(mask, \"parada\", df_joined[\"status\"])\n",
    "\n",
    "        # Ajustando o motivo change\n",
    "        df_joined[\"motivo_change\"] = np.where(mask, False, df_joined[\"motivo_change\"].shift(-1))\n",
    "\n",
    "        # Ajuste em change para refletir alterações\n",
    "        df_joined = self.__status_change(df_joined)\n",
    "        df_joined[\"change\"] = df_joined[\"change\"] | df_joined[\"motivo_change\"]\n",
    "\n",
    "        # Refaz o group\n",
    "        df_joined[\"group\"] = df_joined[\"change\"].cumsum()\n",
    "\n",
    "        # Preenche os valores nulos de paradas\n",
    "        df_joined = self.__fill_occ(df_joined)\n",
    "\n",
    "        # Recalcula os tempos\n",
    "        df_joined = self.__group_and_calc_time(df_joined)\n",
    "\n",
    "        # Se o tempo for negativo, ajustar para 0\n",
    "        df_joined[\"tempo\"] = df_joined[\"tempo\"].clip(lower=0)\n",
    "\n",
    "        # Se o tempo for maior que 480 minutos, ajustar para 480\n",
    "        df_joined[\"tempo\"] = df_joined[\"tempo\"].clip(upper=480)\n",
    "\n",
    "        # Remove colunas auxiliares\n",
    "        df_joined = df_joined.drop(\n",
    "            columns=[\n",
    "                \"maquina_id_change\",\n",
    "                \"change\",\n",
    "                \"maquina_id_change\",\n",
    "                \"change_date\",\n",
    "                \"motivo_change\",\n",
    "                \"group\",\n",
    "            ]\n",
    "        )\n",
    "\n",
    "        return df_joined\n",
    "\n",
    "    def get_time_working(self, df: pd.DataFrame) -> pd.Series:\n",
    "        \"\"\"\n",
    "        Calcula o tempo de trabalho de cada máquina.\n",
    "        \"\"\"\n",
    "\n",
    "        # Filtra apenas as máquinas que estão rodando\n",
    "        df = df[df[\"status\"] == \"rodando\"]\n",
    "\n",
    "        # Agrupa por máquina e turno\n",
    "        df = (\n",
    "            df.groupby([\"maquina_id\", \"linha\", \"turno\", \"data_registro\", \"status\"], observed=False)[\n",
    "                \"tempo\"\n",
    "            ]\n",
    "            .sum()\n",
    "            .reset_index()\n",
    "        )\n",
    "\n",
    "        # Renomear coluna\n",
    "        df = df.rename(columns={\"status\": \"motivo\"})\n",
    "\n",
    "        # Capitaliza o motivo\n",
    "        df[\"motivo\"] = df[\"motivo\"].str.capitalize()\n",
    "\n",
    "        return df\n",
    "\n",
    "    def get_maq_stopped(self, df: pd.DataFrame) -> pd.Series:\n",
    "\n",
    "        # Filtra apenas as máquinas que estão paradas\n",
    "        df = df[df[\"status\"] == \"parada\"]\n",
    "\n",
    "        # Reinicia o índice\n",
    "        df = df.reset_index(drop=True)\n",
    "\n",
    "        return df\n",
    "\n",
    "\n",
    "service_info_ihm = ServiceInfoIHM()"
   ]
  },
  {
   "cell_type": "markdown",
   "metadata": {},
   "source": [
    "## Saídas do serviço\n"
   ]
  },
  {
   "cell_type": "code",
   "execution_count": 20,
   "metadata": {
    "notebookRunGroups": {
     "groupValue": "2"
    }
   },
   "outputs": [
    {
     "name": "stderr",
     "output_type": "stream",
     "text": [
      "C:\\Users\\bruno.thomaz\\AppData\\Local\\Temp\\ipykernel_48996\\2711936803.py:50: FutureWarning: Downcasting object dtype arrays on .fillna, .ffill, .bfill is deprecated and will change in a future version. Call result.infer_objects(copy=False) instead. To opt-in to the future behavior, set `pd.set_option('future.no_silent_downcasting', True)`\n",
      "  df[\"motivo\"] = df.groupby(\"group\")[\"motivo\"].transform(lambda x: x.ffill().bfill())\n",
      "C:\\Users\\bruno.thomaz\\AppData\\Local\\Temp\\ipykernel_48996\\2711936803.py:52: FutureWarning: Downcasting object dtype arrays on .fillna, .ffill, .bfill is deprecated and will change in a future version. Call result.infer_objects(copy=False) instead. To opt-in to the future behavior, set `pd.set_option('future.no_silent_downcasting', True)`\n",
      "  lambda x: x.ffill().bfill()\n",
      "C:\\Users\\bruno.thomaz\\AppData\\Local\\Temp\\ipykernel_48996\\2711936803.py:54: FutureWarning: Downcasting object dtype arrays on .fillna, .ffill, .bfill is deprecated and will change in a future version. Call result.infer_objects(copy=False) instead. To opt-in to the future behavior, set `pd.set_option('future.no_silent_downcasting', True)`\n",
      "  df[\"problema\"] = df.groupby(\"group\")[\"problema\"].transform(lambda x: x.ffill().bfill())\n",
      "C:\\Users\\bruno.thomaz\\AppData\\Local\\Temp\\ipykernel_48996\\2711936803.py:55: FutureWarning: Downcasting object dtype arrays on .fillna, .ffill, .bfill is deprecated and will change in a future version. Call result.infer_objects(copy=False) instead. To opt-in to the future behavior, set `pd.set_option('future.no_silent_downcasting', True)`\n",
      "  df[\"causa\"] = df.groupby(\"group\")[\"causa\"].transform(lambda x: x.ffill().bfill())\n",
      "C:\\Users\\bruno.thomaz\\AppData\\Local\\Temp\\ipykernel_48996\\2711936803.py:56: FutureWarning: Downcasting object dtype arrays on .fillna, .ffill, .bfill is deprecated and will change in a future version. Call result.infer_objects(copy=False) instead. To opt-in to the future behavior, set `pd.set_option('future.no_silent_downcasting', True)`\n",
      "  df[\"os_numero\"] = df.groupby(\"group\")[\"os_numero\"].transform(lambda x: x.ffill().bfill())\n",
      "C:\\Users\\bruno.thomaz\\AppData\\Local\\Temp\\ipykernel_48996\\2711936803.py:58: FutureWarning: Downcasting object dtype arrays on .fillna, .ffill, .bfill is deprecated and will change in a future version. Call result.infer_objects(copy=False) instead. To opt-in to the future behavior, set `pd.set_option('future.no_silent_downcasting', True)`\n",
      "  lambda x: x.ffill().bfill()\n",
      "C:\\Users\\bruno.thomaz\\AppData\\Local\\Temp\\ipykernel_48996\\2711936803.py:64: FutureWarning: Downcasting object dtype arrays on .fillna, .ffill, .bfill is deprecated and will change in a future version. Call result.infer_objects(copy=False) instead. To opt-in to the future behavior, set `pd.set_option('future.no_silent_downcasting', True)`\n",
      "  lambda x: x.ffill().bfill()\n"
     ]
    },
    {
     "data": {
      "text/html": [
       "<div>\n",
       "<style scoped>\n",
       "    .dataframe tbody tr th:only-of-type {\n",
       "        vertical-align: middle;\n",
       "    }\n",
       "\n",
       "    .dataframe tbody tr th {\n",
       "        vertical-align: top;\n",
       "    }\n",
       "\n",
       "    .dataframe thead th {\n",
       "        text-align: right;\n",
       "    }\n",
       "</style>\n",
       "<table border=\"1\" class=\"dataframe\">\n",
       "  <thead>\n",
       "    <tr style=\"text-align: right;\">\n",
       "      <th></th>\n",
       "      <th>fabrica</th>\n",
       "      <th>linha</th>\n",
       "      <th>maquina_id</th>\n",
       "      <th>turno</th>\n",
       "      <th>status</th>\n",
       "      <th>data_registro</th>\n",
       "      <th>hora_registro</th>\n",
       "      <th>motivo</th>\n",
       "      <th>equipamento</th>\n",
       "      <th>problema</th>\n",
       "      <th>causa</th>\n",
       "      <th>os_numero</th>\n",
       "      <th>operador_id</th>\n",
       "      <th>data_registro_ihm</th>\n",
       "      <th>hora_registro_ihm</th>\n",
       "      <th>data_hora</th>\n",
       "      <th>data_hora_final</th>\n",
       "      <th>tempo</th>\n",
       "    </tr>\n",
       "  </thead>\n",
       "  <tbody>\n",
       "    <tr>\n",
       "      <th>0</th>\n",
       "      <td>1</td>\n",
       "      <td>1</td>\n",
       "      <td>TMF003</td>\n",
       "      <td>NOT</td>\n",
       "      <td>parada</td>\n",
       "      <td>2024-07-12</td>\n",
       "      <td>00:01:57</td>\n",
       "      <td>Ajustes</td>\n",
       "      <td>Recheadora</td>\n",
       "      <td>Quantidade de Recheio não Conforme</td>\n",
       "      <td>Falha durante a dosagem</td>\n",
       "      <td>0</td>\n",
       "      <td>1205</td>\n",
       "      <td>2024-07-12</td>\n",
       "      <td>02:02:21</td>\n",
       "      <td>2024-07-12 00:01:57</td>\n",
       "      <td>2024-07-12 02:03:57</td>\n",
       "      <td>122</td>\n",
       "    </tr>\n",
       "    <tr>\n",
       "      <th>1</th>\n",
       "      <td>1</td>\n",
       "      <td>1</td>\n",
       "      <td>TMF003</td>\n",
       "      <td>NOT</td>\n",
       "      <td>rodando</td>\n",
       "      <td>2024-07-12</td>\n",
       "      <td>02:03:57</td>\n",
       "      <td>Ajustes</td>\n",
       "      <td>Recheadora</td>\n",
       "      <td>Quantidade de Recheio não Conforme</td>\n",
       "      <td>Falha durante a dosagem</td>\n",
       "      <td>0</td>\n",
       "      <td>1205</td>\n",
       "      <td>2024-07-12</td>\n",
       "      <td>02:02:21</td>\n",
       "      <td>2024-07-12 02:03:57</td>\n",
       "      <td>2024-07-12 02:25:57</td>\n",
       "      <td>22</td>\n",
       "    </tr>\n",
       "    <tr>\n",
       "      <th>2</th>\n",
       "      <td>1</td>\n",
       "      <td>1</td>\n",
       "      <td>TMF003</td>\n",
       "      <td>NOT</td>\n",
       "      <td>parada</td>\n",
       "      <td>2024-07-12</td>\n",
       "      <td>02:25:57</td>\n",
       "      <td>None</td>\n",
       "      <td>None</td>\n",
       "      <td>None</td>\n",
       "      <td>None</td>\n",
       "      <td>None</td>\n",
       "      <td>None</td>\n",
       "      <td>NaT</td>\n",
       "      <td>None</td>\n",
       "      <td>2024-07-12 02:25:57</td>\n",
       "      <td>2024-07-12 02:27:57</td>\n",
       "      <td>2</td>\n",
       "    </tr>\n",
       "    <tr>\n",
       "      <th>3</th>\n",
       "      <td>1</td>\n",
       "      <td>1</td>\n",
       "      <td>TMF003</td>\n",
       "      <td>NOT</td>\n",
       "      <td>rodando</td>\n",
       "      <td>2024-07-12</td>\n",
       "      <td>02:27:57</td>\n",
       "      <td>None</td>\n",
       "      <td>None</td>\n",
       "      <td>None</td>\n",
       "      <td>None</td>\n",
       "      <td>None</td>\n",
       "      <td>None</td>\n",
       "      <td>NaT</td>\n",
       "      <td>None</td>\n",
       "      <td>2024-07-12 02:27:57</td>\n",
       "      <td>2024-07-12 05:17:58</td>\n",
       "      <td>170</td>\n",
       "    </tr>\n",
       "    <tr>\n",
       "      <th>4</th>\n",
       "      <td>1</td>\n",
       "      <td>1</td>\n",
       "      <td>TMF003</td>\n",
       "      <td>NOT</td>\n",
       "      <td>parada</td>\n",
       "      <td>2024-07-12</td>\n",
       "      <td>05:17:58</td>\n",
       "      <td>Fluxo</td>\n",
       "      <td>Termoformadora</td>\n",
       "      <td>Esteira Cheia</td>\n",
       "      <td>Robô parado</td>\n",
       "      <td>0</td>\n",
       "      <td>1205</td>\n",
       "      <td>2024-07-12</td>\n",
       "      <td>05:19:31</td>\n",
       "      <td>2024-07-12 05:17:58</td>\n",
       "      <td>2024-07-12 05:47:58</td>\n",
       "      <td>30</td>\n",
       "    </tr>\n",
       "    <tr>\n",
       "      <th>...</th>\n",
       "      <td>...</td>\n",
       "      <td>...</td>\n",
       "      <td>...</td>\n",
       "      <td>...</td>\n",
       "      <td>...</td>\n",
       "      <td>...</td>\n",
       "      <td>...</td>\n",
       "      <td>...</td>\n",
       "      <td>...</td>\n",
       "      <td>...</td>\n",
       "      <td>...</td>\n",
       "      <td>...</td>\n",
       "      <td>...</td>\n",
       "      <td>...</td>\n",
       "      <td>...</td>\n",
       "      <td>...</td>\n",
       "      <td>...</td>\n",
       "      <td>...</td>\n",
       "    </tr>\n",
       "    <tr>\n",
       "      <th>643</th>\n",
       "      <td>2</td>\n",
       "      <td>14</td>\n",
       "      <td>TMF009</td>\n",
       "      <td>NOT</td>\n",
       "      <td>parada</td>\n",
       "      <td>2024-07-12</td>\n",
       "      <td>00:01:49</td>\n",
       "      <td>None</td>\n",
       "      <td>None</td>\n",
       "      <td>None</td>\n",
       "      <td>None</td>\n",
       "      <td>None</td>\n",
       "      <td>None</td>\n",
       "      <td>NaT</td>\n",
       "      <td>None</td>\n",
       "      <td>2024-07-12 00:01:49</td>\n",
       "      <td>2024-07-12 08:01:00</td>\n",
       "      <td>479</td>\n",
       "    </tr>\n",
       "    <tr>\n",
       "      <th>644</th>\n",
       "      <td>2</td>\n",
       "      <td>14</td>\n",
       "      <td>TMF009</td>\n",
       "      <td>MAT</td>\n",
       "      <td>parada</td>\n",
       "      <td>2024-07-12</td>\n",
       "      <td>08:01:50</td>\n",
       "      <td>None</td>\n",
       "      <td>None</td>\n",
       "      <td>None</td>\n",
       "      <td>None</td>\n",
       "      <td>None</td>\n",
       "      <td>None</td>\n",
       "      <td>NaT</td>\n",
       "      <td>None</td>\n",
       "      <td>2024-07-12 08:01:50</td>\n",
       "      <td>2024-07-12 16:01:00</td>\n",
       "      <td>479</td>\n",
       "    </tr>\n",
       "    <tr>\n",
       "      <th>645</th>\n",
       "      <td>2</td>\n",
       "      <td>14</td>\n",
       "      <td>TMF009</td>\n",
       "      <td>VES</td>\n",
       "      <td>parada</td>\n",
       "      <td>2024-07-12</td>\n",
       "      <td>16:01:51</td>\n",
       "      <td>None</td>\n",
       "      <td>None</td>\n",
       "      <td>None</td>\n",
       "      <td>None</td>\n",
       "      <td>None</td>\n",
       "      <td>None</td>\n",
       "      <td>NaT</td>\n",
       "      <td>None</td>\n",
       "      <td>2024-07-12 16:01:51</td>\n",
       "      <td>2024-07-13 00:01:00</td>\n",
       "      <td>479</td>\n",
       "    </tr>\n",
       "    <tr>\n",
       "      <th>646</th>\n",
       "      <td>2</td>\n",
       "      <td>14</td>\n",
       "      <td>TMF009</td>\n",
       "      <td>NOT</td>\n",
       "      <td>parada</td>\n",
       "      <td>2024-07-13</td>\n",
       "      <td>00:01:53</td>\n",
       "      <td>None</td>\n",
       "      <td>None</td>\n",
       "      <td>None</td>\n",
       "      <td>None</td>\n",
       "      <td>None</td>\n",
       "      <td>None</td>\n",
       "      <td>NaT</td>\n",
       "      <td>None</td>\n",
       "      <td>2024-07-13 00:01:53</td>\n",
       "      <td>2024-07-13 08:01:00</td>\n",
       "      <td>479</td>\n",
       "    </tr>\n",
       "    <tr>\n",
       "      <th>647</th>\n",
       "      <td>2</td>\n",
       "      <td>14</td>\n",
       "      <td>TMF009</td>\n",
       "      <td>MAT</td>\n",
       "      <td>parada</td>\n",
       "      <td>2024-07-13</td>\n",
       "      <td>08:01:55</td>\n",
       "      <td>None</td>\n",
       "      <td>None</td>\n",
       "      <td>None</td>\n",
       "      <td>None</td>\n",
       "      <td>None</td>\n",
       "      <td>None</td>\n",
       "      <td>NaT</td>\n",
       "      <td>None</td>\n",
       "      <td>2024-07-13 08:01:55</td>\n",
       "      <td>2024-07-13 16:01:00</td>\n",
       "      <td>479</td>\n",
       "    </tr>\n",
       "  </tbody>\n",
       "</table>\n",
       "<p>648 rows × 18 columns</p>\n",
       "</div>"
      ],
      "text/plain": [
       "    fabrica  linha maquina_id turno   status data_registro hora_registro  \\\n",
       "0         1      1     TMF003   NOT   parada    2024-07-12      00:01:57   \n",
       "1         1      1     TMF003   NOT  rodando    2024-07-12      02:03:57   \n",
       "2         1      1     TMF003   NOT   parada    2024-07-12      02:25:57   \n",
       "3         1      1     TMF003   NOT  rodando    2024-07-12      02:27:57   \n",
       "4         1      1     TMF003   NOT   parada    2024-07-12      05:17:58   \n",
       "..      ...    ...        ...   ...      ...           ...           ...   \n",
       "643       2     14     TMF009   NOT   parada    2024-07-12      00:01:49   \n",
       "644       2     14     TMF009   MAT   parada    2024-07-12      08:01:50   \n",
       "645       2     14     TMF009   VES   parada    2024-07-12      16:01:51   \n",
       "646       2     14     TMF009   NOT   parada    2024-07-13      00:01:53   \n",
       "647       2     14     TMF009   MAT   parada    2024-07-13      08:01:55   \n",
       "\n",
       "      motivo     equipamento                            problema  \\\n",
       "0    Ajustes      Recheadora  Quantidade de Recheio não Conforme   \n",
       "1    Ajustes      Recheadora  Quantidade de Recheio não Conforme   \n",
       "2       None            None                                None   \n",
       "3       None            None                                None   \n",
       "4      Fluxo  Termoformadora                       Esteira Cheia   \n",
       "..       ...             ...                                 ...   \n",
       "643     None            None                                None   \n",
       "644     None            None                                None   \n",
       "645     None            None                                None   \n",
       "646     None            None                                None   \n",
       "647     None            None                                None   \n",
       "\n",
       "                       causa os_numero operador_id data_registro_ihm  \\\n",
       "0    Falha durante a dosagem         0        1205        2024-07-12   \n",
       "1    Falha durante a dosagem         0        1205        2024-07-12   \n",
       "2                       None      None        None               NaT   \n",
       "3                       None      None        None               NaT   \n",
       "4                Robô parado         0        1205        2024-07-12   \n",
       "..                       ...       ...         ...               ...   \n",
       "643                     None      None        None               NaT   \n",
       "644                     None      None        None               NaT   \n",
       "645                     None      None        None               NaT   \n",
       "646                     None      None        None               NaT   \n",
       "647                     None      None        None               NaT   \n",
       "\n",
       "    hora_registro_ihm           data_hora     data_hora_final  tempo  \n",
       "0            02:02:21 2024-07-12 00:01:57 2024-07-12 02:03:57    122  \n",
       "1            02:02:21 2024-07-12 02:03:57 2024-07-12 02:25:57     22  \n",
       "2                None 2024-07-12 02:25:57 2024-07-12 02:27:57      2  \n",
       "3                None 2024-07-12 02:27:57 2024-07-12 05:17:58    170  \n",
       "4            05:19:31 2024-07-12 05:17:58 2024-07-12 05:47:58     30  \n",
       "..                ...                 ...                 ...    ...  \n",
       "643              None 2024-07-12 00:01:49 2024-07-12 08:01:00    479  \n",
       "644              None 2024-07-12 08:01:50 2024-07-12 16:01:00    479  \n",
       "645              None 2024-07-12 16:01:51 2024-07-13 00:01:00    479  \n",
       "646              None 2024-07-13 00:01:53 2024-07-13 08:01:00    479  \n",
       "647              None 2024-07-13 08:01:55 2024-07-13 16:01:00    479  \n",
       "\n",
       "[648 rows x 18 columns]"
      ]
     },
     "execution_count": 20,
     "metadata": {},
     "output_type": "execute_result"
    }
   ],
   "source": [
    "df_info_ihm = service_info_ihm.get_info_ihm_adjusted()\n",
    "df_info_ihm"
   ]
  },
  {
   "cell_type": "code",
   "execution_count": 21,
   "metadata": {
    "notebookRunGroups": {
     "groupValue": "2"
    }
   },
   "outputs": [
    {
     "data": {
      "text/html": [
       "<div>\n",
       "<style scoped>\n",
       "    .dataframe tbody tr th:only-of-type {\n",
       "        vertical-align: middle;\n",
       "    }\n",
       "\n",
       "    .dataframe tbody tr th {\n",
       "        vertical-align: top;\n",
       "    }\n",
       "\n",
       "    .dataframe thead th {\n",
       "        text-align: right;\n",
       "    }\n",
       "</style>\n",
       "<table border=\"1\" class=\"dataframe\">\n",
       "  <thead>\n",
       "    <tr style=\"text-align: right;\">\n",
       "      <th></th>\n",
       "      <th>maquina_id</th>\n",
       "      <th>linha</th>\n",
       "      <th>turno</th>\n",
       "      <th>data_registro</th>\n",
       "      <th>motivo</th>\n",
       "      <th>tempo</th>\n",
       "    </tr>\n",
       "  </thead>\n",
       "  <tbody>\n",
       "    <tr>\n",
       "      <th>0</th>\n",
       "      <td>TMF003</td>\n",
       "      <td>1</td>\n",
       "      <td>MAT</td>\n",
       "      <td>2024-07-12</td>\n",
       "      <td>Rodando</td>\n",
       "      <td>307</td>\n",
       "    </tr>\n",
       "    <tr>\n",
       "      <th>1</th>\n",
       "      <td>TMF003</td>\n",
       "      <td>1</td>\n",
       "      <td>MAT</td>\n",
       "      <td>2024-07-13</td>\n",
       "      <td>Rodando</td>\n",
       "      <td>463</td>\n",
       "    </tr>\n",
       "    <tr>\n",
       "      <th>2</th>\n",
       "      <td>TMF003</td>\n",
       "      <td>1</td>\n",
       "      <td>NOT</td>\n",
       "      <td>2024-07-12</td>\n",
       "      <td>Rodando</td>\n",
       "      <td>317</td>\n",
       "    </tr>\n",
       "    <tr>\n",
       "      <th>3</th>\n",
       "      <td>TMF003</td>\n",
       "      <td>1</td>\n",
       "      <td>NOT</td>\n",
       "      <td>2024-07-13</td>\n",
       "      <td>Rodando</td>\n",
       "      <td>371</td>\n",
       "    </tr>\n",
       "    <tr>\n",
       "      <th>4</th>\n",
       "      <td>TMF003</td>\n",
       "      <td>1</td>\n",
       "      <td>VES</td>\n",
       "      <td>2024-07-12</td>\n",
       "      <td>Rodando</td>\n",
       "      <td>381</td>\n",
       "    </tr>\n",
       "    <tr>\n",
       "      <th>5</th>\n",
       "      <td>TMF004</td>\n",
       "      <td>9</td>\n",
       "      <td>MAT</td>\n",
       "      <td>2024-07-12</td>\n",
       "      <td>Rodando</td>\n",
       "      <td>311</td>\n",
       "    </tr>\n",
       "    <tr>\n",
       "      <th>6</th>\n",
       "      <td>TMF004</td>\n",
       "      <td>9</td>\n",
       "      <td>MAT</td>\n",
       "      <td>2024-07-13</td>\n",
       "      <td>Rodando</td>\n",
       "      <td>463</td>\n",
       "    </tr>\n",
       "    <tr>\n",
       "      <th>7</th>\n",
       "      <td>TMF004</td>\n",
       "      <td>9</td>\n",
       "      <td>NOT</td>\n",
       "      <td>2024-07-12</td>\n",
       "      <td>Rodando</td>\n",
       "      <td>130</td>\n",
       "    </tr>\n",
       "    <tr>\n",
       "      <th>8</th>\n",
       "      <td>TMF004</td>\n",
       "      <td>9</td>\n",
       "      <td>NOT</td>\n",
       "      <td>2024-07-13</td>\n",
       "      <td>Rodando</td>\n",
       "      <td>84</td>\n",
       "    </tr>\n",
       "    <tr>\n",
       "      <th>9</th>\n",
       "      <td>TMF004</td>\n",
       "      <td>9</td>\n",
       "      <td>VES</td>\n",
       "      <td>2024-07-12</td>\n",
       "      <td>Rodando</td>\n",
       "      <td>134</td>\n",
       "    </tr>\n",
       "    <tr>\n",
       "      <th>10</th>\n",
       "      <td>TMF005</td>\n",
       "      <td>3</td>\n",
       "      <td>MAT</td>\n",
       "      <td>2024-07-12</td>\n",
       "      <td>Rodando</td>\n",
       "      <td>102</td>\n",
       "    </tr>\n",
       "    <tr>\n",
       "      <th>11</th>\n",
       "      <td>TMF005</td>\n",
       "      <td>3</td>\n",
       "      <td>MAT</td>\n",
       "      <td>2024-07-13</td>\n",
       "      <td>Rodando</td>\n",
       "      <td>411</td>\n",
       "    </tr>\n",
       "    <tr>\n",
       "      <th>12</th>\n",
       "      <td>TMF005</td>\n",
       "      <td>3</td>\n",
       "      <td>NOT</td>\n",
       "      <td>2024-07-13</td>\n",
       "      <td>Rodando</td>\n",
       "      <td>254</td>\n",
       "    </tr>\n",
       "    <tr>\n",
       "      <th>13</th>\n",
       "      <td>TMF005</td>\n",
       "      <td>3</td>\n",
       "      <td>VES</td>\n",
       "      <td>2024-07-12</td>\n",
       "      <td>Rodando</td>\n",
       "      <td>346</td>\n",
       "    </tr>\n",
       "    <tr>\n",
       "      <th>14</th>\n",
       "      <td>TMF006</td>\n",
       "      <td>7</td>\n",
       "      <td>MAT</td>\n",
       "      <td>2024-07-12</td>\n",
       "      <td>Rodando</td>\n",
       "      <td>339</td>\n",
       "    </tr>\n",
       "    <tr>\n",
       "      <th>15</th>\n",
       "      <td>TMF006</td>\n",
       "      <td>7</td>\n",
       "      <td>MAT</td>\n",
       "      <td>2024-07-13</td>\n",
       "      <td>Rodando</td>\n",
       "      <td>469</td>\n",
       "    </tr>\n",
       "    <tr>\n",
       "      <th>16</th>\n",
       "      <td>TMF006</td>\n",
       "      <td>7</td>\n",
       "      <td>NOT</td>\n",
       "      <td>2024-07-12</td>\n",
       "      <td>Rodando</td>\n",
       "      <td>269</td>\n",
       "    </tr>\n",
       "    <tr>\n",
       "      <th>17</th>\n",
       "      <td>TMF006</td>\n",
       "      <td>7</td>\n",
       "      <td>NOT</td>\n",
       "      <td>2024-07-13</td>\n",
       "      <td>Rodando</td>\n",
       "      <td>369</td>\n",
       "    </tr>\n",
       "    <tr>\n",
       "      <th>18</th>\n",
       "      <td>TMF006</td>\n",
       "      <td>7</td>\n",
       "      <td>VES</td>\n",
       "      <td>2024-07-12</td>\n",
       "      <td>Rodando</td>\n",
       "      <td>312</td>\n",
       "    </tr>\n",
       "    <tr>\n",
       "      <th>19</th>\n",
       "      <td>TMF007</td>\n",
       "      <td>12</td>\n",
       "      <td>MAT</td>\n",
       "      <td>2024-07-12</td>\n",
       "      <td>Rodando</td>\n",
       "      <td>235</td>\n",
       "    </tr>\n",
       "    <tr>\n",
       "      <th>20</th>\n",
       "      <td>TMF007</td>\n",
       "      <td>12</td>\n",
       "      <td>MAT</td>\n",
       "      <td>2024-07-13</td>\n",
       "      <td>Rodando</td>\n",
       "      <td>433</td>\n",
       "    </tr>\n",
       "    <tr>\n",
       "      <th>21</th>\n",
       "      <td>TMF007</td>\n",
       "      <td>12</td>\n",
       "      <td>NOT</td>\n",
       "      <td>2024-07-12</td>\n",
       "      <td>Rodando</td>\n",
       "      <td>175</td>\n",
       "    </tr>\n",
       "    <tr>\n",
       "      <th>22</th>\n",
       "      <td>TMF007</td>\n",
       "      <td>12</td>\n",
       "      <td>NOT</td>\n",
       "      <td>2024-07-13</td>\n",
       "      <td>Rodando</td>\n",
       "      <td>7</td>\n",
       "    </tr>\n",
       "    <tr>\n",
       "      <th>23</th>\n",
       "      <td>TMF008</td>\n",
       "      <td>10</td>\n",
       "      <td>MAT</td>\n",
       "      <td>2024-07-12</td>\n",
       "      <td>Rodando</td>\n",
       "      <td>6</td>\n",
       "    </tr>\n",
       "    <tr>\n",
       "      <th>24</th>\n",
       "      <td>TMF008</td>\n",
       "      <td>10</td>\n",
       "      <td>MAT</td>\n",
       "      <td>2024-07-13</td>\n",
       "      <td>Rodando</td>\n",
       "      <td>74</td>\n",
       "    </tr>\n",
       "    <tr>\n",
       "      <th>25</th>\n",
       "      <td>TMF008</td>\n",
       "      <td>10</td>\n",
       "      <td>NOT</td>\n",
       "      <td>2024-07-13</td>\n",
       "      <td>Rodando</td>\n",
       "      <td>4</td>\n",
       "    </tr>\n",
       "    <tr>\n",
       "      <th>26</th>\n",
       "      <td>TMF008</td>\n",
       "      <td>10</td>\n",
       "      <td>VES</td>\n",
       "      <td>2024-07-12</td>\n",
       "      <td>Rodando</td>\n",
       "      <td>132</td>\n",
       "    </tr>\n",
       "    <tr>\n",
       "      <th>27</th>\n",
       "      <td>TMF010</td>\n",
       "      <td>11</td>\n",
       "      <td>MAT</td>\n",
       "      <td>2024-07-12</td>\n",
       "      <td>Rodando</td>\n",
       "      <td>297</td>\n",
       "    </tr>\n",
       "    <tr>\n",
       "      <th>28</th>\n",
       "      <td>TMF010</td>\n",
       "      <td>11</td>\n",
       "      <td>MAT</td>\n",
       "      <td>2024-07-13</td>\n",
       "      <td>Rodando</td>\n",
       "      <td>363</td>\n",
       "    </tr>\n",
       "    <tr>\n",
       "      <th>29</th>\n",
       "      <td>TMF010</td>\n",
       "      <td>11</td>\n",
       "      <td>NOT</td>\n",
       "      <td>2024-07-12</td>\n",
       "      <td>Rodando</td>\n",
       "      <td>265</td>\n",
       "    </tr>\n",
       "    <tr>\n",
       "      <th>30</th>\n",
       "      <td>TMF010</td>\n",
       "      <td>11</td>\n",
       "      <td>NOT</td>\n",
       "      <td>2024-07-13</td>\n",
       "      <td>Rodando</td>\n",
       "      <td>361</td>\n",
       "    </tr>\n",
       "    <tr>\n",
       "      <th>31</th>\n",
       "      <td>TMF010</td>\n",
       "      <td>11</td>\n",
       "      <td>VES</td>\n",
       "      <td>2024-07-12</td>\n",
       "      <td>Rodando</td>\n",
       "      <td>302</td>\n",
       "    </tr>\n",
       "    <tr>\n",
       "      <th>32</th>\n",
       "      <td>TMF011</td>\n",
       "      <td>2</td>\n",
       "      <td>MAT</td>\n",
       "      <td>2024-07-12</td>\n",
       "      <td>Rodando</td>\n",
       "      <td>335</td>\n",
       "    </tr>\n",
       "    <tr>\n",
       "      <th>33</th>\n",
       "      <td>TMF011</td>\n",
       "      <td>2</td>\n",
       "      <td>MAT</td>\n",
       "      <td>2024-07-13</td>\n",
       "      <td>Rodando</td>\n",
       "      <td>463</td>\n",
       "    </tr>\n",
       "    <tr>\n",
       "      <th>34</th>\n",
       "      <td>TMF011</td>\n",
       "      <td>2</td>\n",
       "      <td>NOT</td>\n",
       "      <td>2024-07-12</td>\n",
       "      <td>Rodando</td>\n",
       "      <td>78</td>\n",
       "    </tr>\n",
       "    <tr>\n",
       "      <th>35</th>\n",
       "      <td>TMF011</td>\n",
       "      <td>2</td>\n",
       "      <td>NOT</td>\n",
       "      <td>2024-07-13</td>\n",
       "      <td>Rodando</td>\n",
       "      <td>401</td>\n",
       "    </tr>\n",
       "    <tr>\n",
       "      <th>36</th>\n",
       "      <td>TMF011</td>\n",
       "      <td>2</td>\n",
       "      <td>VES</td>\n",
       "      <td>2024-07-12</td>\n",
       "      <td>Rodando</td>\n",
       "      <td>451</td>\n",
       "    </tr>\n",
       "    <tr>\n",
       "      <th>37</th>\n",
       "      <td>TMF012</td>\n",
       "      <td>4</td>\n",
       "      <td>MAT</td>\n",
       "      <td>2024-07-12</td>\n",
       "      <td>Rodando</td>\n",
       "      <td>347</td>\n",
       "    </tr>\n",
       "    <tr>\n",
       "      <th>38</th>\n",
       "      <td>TMF012</td>\n",
       "      <td>4</td>\n",
       "      <td>MAT</td>\n",
       "      <td>2024-07-13</td>\n",
       "      <td>Rodando</td>\n",
       "      <td>467</td>\n",
       "    </tr>\n",
       "    <tr>\n",
       "      <th>39</th>\n",
       "      <td>TMF012</td>\n",
       "      <td>4</td>\n",
       "      <td>NOT</td>\n",
       "      <td>2024-07-12</td>\n",
       "      <td>Rodando</td>\n",
       "      <td>157</td>\n",
       "    </tr>\n",
       "    <tr>\n",
       "      <th>40</th>\n",
       "      <td>TMF012</td>\n",
       "      <td>4</td>\n",
       "      <td>NOT</td>\n",
       "      <td>2024-07-13</td>\n",
       "      <td>Rodando</td>\n",
       "      <td>377</td>\n",
       "    </tr>\n",
       "    <tr>\n",
       "      <th>41</th>\n",
       "      <td>TMF012</td>\n",
       "      <td>4</td>\n",
       "      <td>VES</td>\n",
       "      <td>2024-07-12</td>\n",
       "      <td>Rodando</td>\n",
       "      <td>316</td>\n",
       "    </tr>\n",
       "    <tr>\n",
       "      <th>42</th>\n",
       "      <td>TMF013</td>\n",
       "      <td>13</td>\n",
       "      <td>MAT</td>\n",
       "      <td>2024-07-12</td>\n",
       "      <td>Rodando</td>\n",
       "      <td>121</td>\n",
       "    </tr>\n",
       "    <tr>\n",
       "      <th>43</th>\n",
       "      <td>TMF013</td>\n",
       "      <td>13</td>\n",
       "      <td>NOT</td>\n",
       "      <td>2024-07-12</td>\n",
       "      <td>Rodando</td>\n",
       "      <td>308</td>\n",
       "    </tr>\n",
       "    <tr>\n",
       "      <th>44</th>\n",
       "      <td>TMF013</td>\n",
       "      <td>13</td>\n",
       "      <td>NOT</td>\n",
       "      <td>2024-07-13</td>\n",
       "      <td>Rodando</td>\n",
       "      <td>351</td>\n",
       "    </tr>\n",
       "    <tr>\n",
       "      <th>45</th>\n",
       "      <td>TMF013</td>\n",
       "      <td>13</td>\n",
       "      <td>VES</td>\n",
       "      <td>2024-07-12</td>\n",
       "      <td>Rodando</td>\n",
       "      <td>154</td>\n",
       "    </tr>\n",
       "    <tr>\n",
       "      <th>46</th>\n",
       "      <td>TMF014</td>\n",
       "      <td>8</td>\n",
       "      <td>MAT</td>\n",
       "      <td>2024-07-12</td>\n",
       "      <td>Rodando</td>\n",
       "      <td>293</td>\n",
       "    </tr>\n",
       "    <tr>\n",
       "      <th>47</th>\n",
       "      <td>TMF014</td>\n",
       "      <td>8</td>\n",
       "      <td>MAT</td>\n",
       "      <td>2024-07-13</td>\n",
       "      <td>Rodando</td>\n",
       "      <td>469</td>\n",
       "    </tr>\n",
       "    <tr>\n",
       "      <th>48</th>\n",
       "      <td>TMF014</td>\n",
       "      <td>8</td>\n",
       "      <td>NOT</td>\n",
       "      <td>2024-07-12</td>\n",
       "      <td>Rodando</td>\n",
       "      <td>89</td>\n",
       "    </tr>\n",
       "    <tr>\n",
       "      <th>49</th>\n",
       "      <td>TMF014</td>\n",
       "      <td>8</td>\n",
       "      <td>NOT</td>\n",
       "      <td>2024-07-13</td>\n",
       "      <td>Rodando</td>\n",
       "      <td>349</td>\n",
       "    </tr>\n",
       "    <tr>\n",
       "      <th>50</th>\n",
       "      <td>TMF014</td>\n",
       "      <td>8</td>\n",
       "      <td>VES</td>\n",
       "      <td>2024-07-12</td>\n",
       "      <td>Rodando</td>\n",
       "      <td>312</td>\n",
       "    </tr>\n",
       "  </tbody>\n",
       "</table>\n",
       "</div>"
      ],
      "text/plain": [
       "   maquina_id  linha turno data_registro   motivo  tempo\n",
       "0      TMF003      1   MAT    2024-07-12  Rodando    307\n",
       "1      TMF003      1   MAT    2024-07-13  Rodando    463\n",
       "2      TMF003      1   NOT    2024-07-12  Rodando    317\n",
       "3      TMF003      1   NOT    2024-07-13  Rodando    371\n",
       "4      TMF003      1   VES    2024-07-12  Rodando    381\n",
       "5      TMF004      9   MAT    2024-07-12  Rodando    311\n",
       "6      TMF004      9   MAT    2024-07-13  Rodando    463\n",
       "7      TMF004      9   NOT    2024-07-12  Rodando    130\n",
       "8      TMF004      9   NOT    2024-07-13  Rodando     84\n",
       "9      TMF004      9   VES    2024-07-12  Rodando    134\n",
       "10     TMF005      3   MAT    2024-07-12  Rodando    102\n",
       "11     TMF005      3   MAT    2024-07-13  Rodando    411\n",
       "12     TMF005      3   NOT    2024-07-13  Rodando    254\n",
       "13     TMF005      3   VES    2024-07-12  Rodando    346\n",
       "14     TMF006      7   MAT    2024-07-12  Rodando    339\n",
       "15     TMF006      7   MAT    2024-07-13  Rodando    469\n",
       "16     TMF006      7   NOT    2024-07-12  Rodando    269\n",
       "17     TMF006      7   NOT    2024-07-13  Rodando    369\n",
       "18     TMF006      7   VES    2024-07-12  Rodando    312\n",
       "19     TMF007     12   MAT    2024-07-12  Rodando    235\n",
       "20     TMF007     12   MAT    2024-07-13  Rodando    433\n",
       "21     TMF007     12   NOT    2024-07-12  Rodando    175\n",
       "22     TMF007     12   NOT    2024-07-13  Rodando      7\n",
       "23     TMF008     10   MAT    2024-07-12  Rodando      6\n",
       "24     TMF008     10   MAT    2024-07-13  Rodando     74\n",
       "25     TMF008     10   NOT    2024-07-13  Rodando      4\n",
       "26     TMF008     10   VES    2024-07-12  Rodando    132\n",
       "27     TMF010     11   MAT    2024-07-12  Rodando    297\n",
       "28     TMF010     11   MAT    2024-07-13  Rodando    363\n",
       "29     TMF010     11   NOT    2024-07-12  Rodando    265\n",
       "30     TMF010     11   NOT    2024-07-13  Rodando    361\n",
       "31     TMF010     11   VES    2024-07-12  Rodando    302\n",
       "32     TMF011      2   MAT    2024-07-12  Rodando    335\n",
       "33     TMF011      2   MAT    2024-07-13  Rodando    463\n",
       "34     TMF011      2   NOT    2024-07-12  Rodando     78\n",
       "35     TMF011      2   NOT    2024-07-13  Rodando    401\n",
       "36     TMF011      2   VES    2024-07-12  Rodando    451\n",
       "37     TMF012      4   MAT    2024-07-12  Rodando    347\n",
       "38     TMF012      4   MAT    2024-07-13  Rodando    467\n",
       "39     TMF012      4   NOT    2024-07-12  Rodando    157\n",
       "40     TMF012      4   NOT    2024-07-13  Rodando    377\n",
       "41     TMF012      4   VES    2024-07-12  Rodando    316\n",
       "42     TMF013     13   MAT    2024-07-12  Rodando    121\n",
       "43     TMF013     13   NOT    2024-07-12  Rodando    308\n",
       "44     TMF013     13   NOT    2024-07-13  Rodando    351\n",
       "45     TMF013     13   VES    2024-07-12  Rodando    154\n",
       "46     TMF014      8   MAT    2024-07-12  Rodando    293\n",
       "47     TMF014      8   MAT    2024-07-13  Rodando    469\n",
       "48     TMF014      8   NOT    2024-07-12  Rodando     89\n",
       "49     TMF014      8   NOT    2024-07-13  Rodando    349\n",
       "50     TMF014      8   VES    2024-07-12  Rodando    312"
      ]
     },
     "execution_count": 21,
     "metadata": {},
     "output_type": "execute_result"
    }
   ],
   "source": [
    "df_time_working = service_info_ihm.get_time_working(df_info_ihm.copy())\n",
    "df_time_working"
   ]
  },
  {
   "cell_type": "code",
   "execution_count": 22,
   "metadata": {
    "notebookRunGroups": {
     "groupValue": "2"
    }
   },
   "outputs": [
    {
     "data": {
      "text/html": [
       "<div>\n",
       "<style scoped>\n",
       "    .dataframe tbody tr th:only-of-type {\n",
       "        vertical-align: middle;\n",
       "    }\n",
       "\n",
       "    .dataframe tbody tr th {\n",
       "        vertical-align: top;\n",
       "    }\n",
       "\n",
       "    .dataframe thead th {\n",
       "        text-align: right;\n",
       "    }\n",
       "</style>\n",
       "<table border=\"1\" class=\"dataframe\">\n",
       "  <thead>\n",
       "    <tr style=\"text-align: right;\">\n",
       "      <th></th>\n",
       "      <th>fabrica</th>\n",
       "      <th>linha</th>\n",
       "      <th>maquina_id</th>\n",
       "      <th>turno</th>\n",
       "      <th>status</th>\n",
       "      <th>data_registro</th>\n",
       "      <th>hora_registro</th>\n",
       "      <th>motivo</th>\n",
       "      <th>equipamento</th>\n",
       "      <th>problema</th>\n",
       "      <th>causa</th>\n",
       "      <th>os_numero</th>\n",
       "      <th>operador_id</th>\n",
       "      <th>data_registro_ihm</th>\n",
       "      <th>hora_registro_ihm</th>\n",
       "      <th>data_hora</th>\n",
       "      <th>data_hora_final</th>\n",
       "      <th>tempo</th>\n",
       "    </tr>\n",
       "  </thead>\n",
       "  <tbody>\n",
       "    <tr>\n",
       "      <th>0</th>\n",
       "      <td>1</td>\n",
       "      <td>1</td>\n",
       "      <td>TMF003</td>\n",
       "      <td>NOT</td>\n",
       "      <td>parada</td>\n",
       "      <td>2024-07-12</td>\n",
       "      <td>00:01:57</td>\n",
       "      <td>Ajustes</td>\n",
       "      <td>Recheadora</td>\n",
       "      <td>Quantidade de Recheio não Conforme</td>\n",
       "      <td>Falha durante a dosagem</td>\n",
       "      <td>0</td>\n",
       "      <td>1205</td>\n",
       "      <td>2024-07-12</td>\n",
       "      <td>02:02:21</td>\n",
       "      <td>2024-07-12 00:01:57</td>\n",
       "      <td>2024-07-12 02:03:57</td>\n",
       "      <td>122</td>\n",
       "    </tr>\n",
       "    <tr>\n",
       "      <th>1</th>\n",
       "      <td>1</td>\n",
       "      <td>1</td>\n",
       "      <td>TMF003</td>\n",
       "      <td>NOT</td>\n",
       "      <td>parada</td>\n",
       "      <td>2024-07-12</td>\n",
       "      <td>02:25:57</td>\n",
       "      <td>None</td>\n",
       "      <td>None</td>\n",
       "      <td>None</td>\n",
       "      <td>None</td>\n",
       "      <td>None</td>\n",
       "      <td>None</td>\n",
       "      <td>NaT</td>\n",
       "      <td>None</td>\n",
       "      <td>2024-07-12 02:25:57</td>\n",
       "      <td>2024-07-12 02:27:57</td>\n",
       "      <td>2</td>\n",
       "    </tr>\n",
       "    <tr>\n",
       "      <th>2</th>\n",
       "      <td>1</td>\n",
       "      <td>1</td>\n",
       "      <td>TMF003</td>\n",
       "      <td>NOT</td>\n",
       "      <td>parada</td>\n",
       "      <td>2024-07-12</td>\n",
       "      <td>05:17:58</td>\n",
       "      <td>Fluxo</td>\n",
       "      <td>Termoformadora</td>\n",
       "      <td>Esteira Cheia</td>\n",
       "      <td>Robô parado</td>\n",
       "      <td>0</td>\n",
       "      <td>1205</td>\n",
       "      <td>2024-07-12</td>\n",
       "      <td>05:19:31</td>\n",
       "      <td>2024-07-12 05:17:58</td>\n",
       "      <td>2024-07-12 05:47:58</td>\n",
       "      <td>30</td>\n",
       "    </tr>\n",
       "    <tr>\n",
       "      <th>3</th>\n",
       "      <td>1</td>\n",
       "      <td>1</td>\n",
       "      <td>TMF003</td>\n",
       "      <td>NOT</td>\n",
       "      <td>parada</td>\n",
       "      <td>2024-07-12</td>\n",
       "      <td>05:47:58</td>\n",
       "      <td>None</td>\n",
       "      <td>None</td>\n",
       "      <td>None</td>\n",
       "      <td>None</td>\n",
       "      <td>None</td>\n",
       "      <td>None</td>\n",
       "      <td>NaT</td>\n",
       "      <td>None</td>\n",
       "      <td>2024-07-12 05:47:58</td>\n",
       "      <td>2024-07-12 05:49:58</td>\n",
       "      <td>2</td>\n",
       "    </tr>\n",
       "    <tr>\n",
       "      <th>4</th>\n",
       "      <td>1</td>\n",
       "      <td>1</td>\n",
       "      <td>TMF003</td>\n",
       "      <td>NOT</td>\n",
       "      <td>parada</td>\n",
       "      <td>2024-07-12</td>\n",
       "      <td>06:15:58</td>\n",
       "      <td>Ajustes</td>\n",
       "      <td>Robô</td>\n",
       "      <td>Robô Travando</td>\n",
       "      <td>Ajuste nas Guias das Caixas</td>\n",
       "      <td>0</td>\n",
       "      <td>1205</td>\n",
       "      <td>2024-07-12</td>\n",
       "      <td>06:14:58</td>\n",
       "      <td>2024-07-12 06:15:58</td>\n",
       "      <td>2024-07-12 06:21:58</td>\n",
       "      <td>6</td>\n",
       "    </tr>\n",
       "    <tr>\n",
       "      <th>...</th>\n",
       "      <td>...</td>\n",
       "      <td>...</td>\n",
       "      <td>...</td>\n",
       "      <td>...</td>\n",
       "      <td>...</td>\n",
       "      <td>...</td>\n",
       "      <td>...</td>\n",
       "      <td>...</td>\n",
       "      <td>...</td>\n",
       "      <td>...</td>\n",
       "      <td>...</td>\n",
       "      <td>...</td>\n",
       "      <td>...</td>\n",
       "      <td>...</td>\n",
       "      <td>...</td>\n",
       "      <td>...</td>\n",
       "      <td>...</td>\n",
       "      <td>...</td>\n",
       "    </tr>\n",
       "    <tr>\n",
       "      <th>358</th>\n",
       "      <td>2</td>\n",
       "      <td>14</td>\n",
       "      <td>TMF009</td>\n",
       "      <td>NOT</td>\n",
       "      <td>parada</td>\n",
       "      <td>2024-07-12</td>\n",
       "      <td>00:01:49</td>\n",
       "      <td>None</td>\n",
       "      <td>None</td>\n",
       "      <td>None</td>\n",
       "      <td>None</td>\n",
       "      <td>None</td>\n",
       "      <td>None</td>\n",
       "      <td>NaT</td>\n",
       "      <td>None</td>\n",
       "      <td>2024-07-12 00:01:49</td>\n",
       "      <td>2024-07-12 08:01:00</td>\n",
       "      <td>479</td>\n",
       "    </tr>\n",
       "    <tr>\n",
       "      <th>359</th>\n",
       "      <td>2</td>\n",
       "      <td>14</td>\n",
       "      <td>TMF009</td>\n",
       "      <td>MAT</td>\n",
       "      <td>parada</td>\n",
       "      <td>2024-07-12</td>\n",
       "      <td>08:01:50</td>\n",
       "      <td>None</td>\n",
       "      <td>None</td>\n",
       "      <td>None</td>\n",
       "      <td>None</td>\n",
       "      <td>None</td>\n",
       "      <td>None</td>\n",
       "      <td>NaT</td>\n",
       "      <td>None</td>\n",
       "      <td>2024-07-12 08:01:50</td>\n",
       "      <td>2024-07-12 16:01:00</td>\n",
       "      <td>479</td>\n",
       "    </tr>\n",
       "    <tr>\n",
       "      <th>360</th>\n",
       "      <td>2</td>\n",
       "      <td>14</td>\n",
       "      <td>TMF009</td>\n",
       "      <td>VES</td>\n",
       "      <td>parada</td>\n",
       "      <td>2024-07-12</td>\n",
       "      <td>16:01:51</td>\n",
       "      <td>None</td>\n",
       "      <td>None</td>\n",
       "      <td>None</td>\n",
       "      <td>None</td>\n",
       "      <td>None</td>\n",
       "      <td>None</td>\n",
       "      <td>NaT</td>\n",
       "      <td>None</td>\n",
       "      <td>2024-07-12 16:01:51</td>\n",
       "      <td>2024-07-13 00:01:00</td>\n",
       "      <td>479</td>\n",
       "    </tr>\n",
       "    <tr>\n",
       "      <th>361</th>\n",
       "      <td>2</td>\n",
       "      <td>14</td>\n",
       "      <td>TMF009</td>\n",
       "      <td>NOT</td>\n",
       "      <td>parada</td>\n",
       "      <td>2024-07-13</td>\n",
       "      <td>00:01:53</td>\n",
       "      <td>None</td>\n",
       "      <td>None</td>\n",
       "      <td>None</td>\n",
       "      <td>None</td>\n",
       "      <td>None</td>\n",
       "      <td>None</td>\n",
       "      <td>NaT</td>\n",
       "      <td>None</td>\n",
       "      <td>2024-07-13 00:01:53</td>\n",
       "      <td>2024-07-13 08:01:00</td>\n",
       "      <td>479</td>\n",
       "    </tr>\n",
       "    <tr>\n",
       "      <th>362</th>\n",
       "      <td>2</td>\n",
       "      <td>14</td>\n",
       "      <td>TMF009</td>\n",
       "      <td>MAT</td>\n",
       "      <td>parada</td>\n",
       "      <td>2024-07-13</td>\n",
       "      <td>08:01:55</td>\n",
       "      <td>None</td>\n",
       "      <td>None</td>\n",
       "      <td>None</td>\n",
       "      <td>None</td>\n",
       "      <td>None</td>\n",
       "      <td>None</td>\n",
       "      <td>NaT</td>\n",
       "      <td>None</td>\n",
       "      <td>2024-07-13 08:01:55</td>\n",
       "      <td>2024-07-13 16:01:00</td>\n",
       "      <td>479</td>\n",
       "    </tr>\n",
       "  </tbody>\n",
       "</table>\n",
       "<p>363 rows × 18 columns</p>\n",
       "</div>"
      ],
      "text/plain": [
       "    fabrica  linha maquina_id turno  status data_registro hora_registro  \\\n",
       "0         1      1     TMF003   NOT  parada    2024-07-12      00:01:57   \n",
       "1         1      1     TMF003   NOT  parada    2024-07-12      02:25:57   \n",
       "2         1      1     TMF003   NOT  parada    2024-07-12      05:17:58   \n",
       "3         1      1     TMF003   NOT  parada    2024-07-12      05:47:58   \n",
       "4         1      1     TMF003   NOT  parada    2024-07-12      06:15:58   \n",
       "..      ...    ...        ...   ...     ...           ...           ...   \n",
       "358       2     14     TMF009   NOT  parada    2024-07-12      00:01:49   \n",
       "359       2     14     TMF009   MAT  parada    2024-07-12      08:01:50   \n",
       "360       2     14     TMF009   VES  parada    2024-07-12      16:01:51   \n",
       "361       2     14     TMF009   NOT  parada    2024-07-13      00:01:53   \n",
       "362       2     14     TMF009   MAT  parada    2024-07-13      08:01:55   \n",
       "\n",
       "      motivo     equipamento                            problema  \\\n",
       "0    Ajustes      Recheadora  Quantidade de Recheio não Conforme   \n",
       "1       None            None                                None   \n",
       "2      Fluxo  Termoformadora                       Esteira Cheia   \n",
       "3       None            None                                None   \n",
       "4    Ajustes            Robô                       Robô Travando   \n",
       "..       ...             ...                                 ...   \n",
       "358     None            None                                None   \n",
       "359     None            None                                None   \n",
       "360     None            None                                None   \n",
       "361     None            None                                None   \n",
       "362     None            None                                None   \n",
       "\n",
       "                           causa os_numero operador_id data_registro_ihm  \\\n",
       "0        Falha durante a dosagem         0        1205        2024-07-12   \n",
       "1                           None      None        None               NaT   \n",
       "2                    Robô parado         0        1205        2024-07-12   \n",
       "3                           None      None        None               NaT   \n",
       "4    Ajuste nas Guias das Caixas         0        1205        2024-07-12   \n",
       "..                           ...       ...         ...               ...   \n",
       "358                         None      None        None               NaT   \n",
       "359                         None      None        None               NaT   \n",
       "360                         None      None        None               NaT   \n",
       "361                         None      None        None               NaT   \n",
       "362                         None      None        None               NaT   \n",
       "\n",
       "    hora_registro_ihm           data_hora     data_hora_final  tempo  \n",
       "0            02:02:21 2024-07-12 00:01:57 2024-07-12 02:03:57    122  \n",
       "1                None 2024-07-12 02:25:57 2024-07-12 02:27:57      2  \n",
       "2            05:19:31 2024-07-12 05:17:58 2024-07-12 05:47:58     30  \n",
       "3                None 2024-07-12 05:47:58 2024-07-12 05:49:58      2  \n",
       "4            06:14:58 2024-07-12 06:15:58 2024-07-12 06:21:58      6  \n",
       "..                ...                 ...                 ...    ...  \n",
       "358              None 2024-07-12 00:01:49 2024-07-12 08:01:00    479  \n",
       "359              None 2024-07-12 08:01:50 2024-07-12 16:01:00    479  \n",
       "360              None 2024-07-12 16:01:51 2024-07-13 00:01:00    479  \n",
       "361              None 2024-07-13 00:01:53 2024-07-13 08:01:00    479  \n",
       "362              None 2024-07-13 08:01:55 2024-07-13 16:01:00    479  \n",
       "\n",
       "[363 rows x 18 columns]"
      ]
     },
     "execution_count": 22,
     "metadata": {},
     "output_type": "execute_result"
    }
   ],
   "source": [
    "df_maq_stopped = service_info_ihm.get_maq_stopped(df_info_ihm.copy())\n",
    "df_maq_stopped"
   ]
  },
  {
   "cell_type": "markdown",
   "metadata": {},
   "source": [
    "# Dados de Saída\n"
   ]
  },
  {
   "cell_type": "code",
   "execution_count": 23,
   "metadata": {
    "notebookRunGroups": {
     "groupValue": "2"
    }
   },
   "outputs": [
    {
     "name": "stdout",
     "output_type": "stream",
     "text": [
      "Maquina Parada --> Linhas x Colunas: (363, 18)\n",
      "---------------------------------------\n",
      "Maquina Parada --> Memória Ocupada: 0.05 MB\n",
      "---------------------------------------\n",
      "Maquina Parada --> Tipos:\n",
      "fabrica                      object\n",
      "linha                         int32\n",
      "maquina_id                   object\n",
      "turno                        object\n",
      "status                       object\n",
      "data_registro        datetime64[ns]\n",
      "hora_registro                object\n",
      "motivo                       object\n",
      "equipamento                  object\n",
      "problema                     object\n",
      "causa                        object\n",
      "os_numero                    object\n",
      "operador_id                  object\n",
      "data_registro_ihm    datetime64[ns]\n",
      "hora_registro_ihm            object\n",
      "data_hora            datetime64[ns]\n",
      "data_hora_final      datetime64[ns]\n",
      "tempo                         int32\n",
      "dtype: object\n"
     ]
    }
   ],
   "source": [
    "print(f\"Maquina Parada --> Linhas x Colunas: {df_maq_stopped.shape}\")\n",
    "print(\"---------------------------------------\")\n",
    "print(\n",
    "    f\"Maquina Parada --> Memória Ocupada: {df_maq_stopped.memory_usage().sum() / 1024 ** 2:.2f} MB\"\n",
    ")\n",
    "print(\"---------------------------------------\")\n",
    "print(f\"Maquina Parada --> Tipos:\\n{df_maq_stopped.dtypes}\")"
   ]
  },
  {
   "cell_type": "code",
   "execution_count": 24,
   "metadata": {
    "notebookRunGroups": {
     "groupValue": "2"
    }
   },
   "outputs": [
    {
     "name": "stdout",
     "output_type": "stream",
     "text": [
      "Tempo de Trabalho --> Linhas x Colunas: (51, 6)\n",
      "---------------------------------------\n",
      "Tempo de Trabalho --> Memória Ocupada: 0.00 MB\n",
      "---------------------------------------\n",
      "Tempo de Trabalho --> Tipos:\n",
      "maquina_id               object\n",
      "linha                     int32\n",
      "turno                    object\n",
      "data_registro    datetime64[ns]\n",
      "motivo                   object\n",
      "tempo                     int32\n",
      "dtype: object\n"
     ]
    }
   ],
   "source": [
    "print(f\"Tempo de Trabalho --> Linhas x Colunas: {df_time_working.shape}\")\n",
    "print(\"---------------------------------------\")\n",
    "print(\n",
    "    f\"Tempo de Trabalho --> Memória Ocupada: {df_time_working.memory_usage().sum() / 1024 ** 2:.2f} MB\"\n",
    ")\n",
    "print(\"---------------------------------------\")\n",
    "print(f\"Tempo de Trabalho --> Tipos:\\n{df_time_working.dtypes}\")"
   ]
  },
  {
   "cell_type": "code",
   "execution_count": 25,
   "metadata": {
    "notebookRunGroups": {
     "groupValue": "2"
    }
   },
   "outputs": [
    {
     "name": "stdout",
     "output_type": "stream",
     "text": [
      "Informações --> Linhas x Colunas: (648, 18)\n",
      "---------------------------------------\n",
      "Informações --> Memória Ocupada: 0.08 MB\n",
      "---------------------------------------\n",
      "Informações --> Tipos:\n",
      "fabrica                      object\n",
      "linha                         int32\n",
      "maquina_id                   object\n",
      "turno                        object\n",
      "status                       object\n",
      "data_registro        datetime64[ns]\n",
      "hora_registro                object\n",
      "motivo                       object\n",
      "equipamento                  object\n",
      "problema                     object\n",
      "causa                        object\n",
      "os_numero                    object\n",
      "operador_id                  object\n",
      "data_registro_ihm    datetime64[ns]\n",
      "hora_registro_ihm            object\n",
      "data_hora            datetime64[ns]\n",
      "data_hora_final      datetime64[ns]\n",
      "tempo                         int32\n",
      "dtype: object\n"
     ]
    }
   ],
   "source": [
    "print(f\"Informações --> Linhas x Colunas: {df_info_ihm.shape}\")\n",
    "print(\"---------------------------------------\")\n",
    "print(f\"Informações --> Memória Ocupada: {df_info_ihm.memory_usage().sum() / 1024 ** 2:.2f} MB\")\n",
    "print(\"---------------------------------------\")\n",
    "print(f\"Informações --> Tipos:\\n{df_info_ihm.dtypes}\")"
   ]
  },
  {
   "cell_type": "code",
   "execution_count": 26,
   "metadata": {
    "notebookRunGroups": {
     "groupValue": "2"
    }
   },
   "outputs": [
    {
     "name": "stdout",
     "output_type": "stream",
     "text": [
      "Produção --> Linhas x Colunas: (70, 11)\n",
      "---------------------------------------\n",
      "Produção --> Memória Ocupada: 0.01 MB\n",
      "---------------------------------------\n",
      "Produção --> Tipos:\n",
      "fabrica                           object\n",
      "linha                              int32\n",
      "maquina_id                        object\n",
      "turno                             object\n",
      "total_ciclos                     float64\n",
      "total_produzido_sensor             int32\n",
      "bdj_vazias                         int32\n",
      "bdj_retrabalho                     int32\n",
      "total_produzido                    int32\n",
      "data_registro             datetime64[ns]\n",
      "hora_registro                     object\n",
      "dtype: object\n"
     ]
    }
   ],
   "source": [
    "print(f\"Produção --> Linhas x Colunas: {df_info_production_cleaned.shape}\")\n",
    "print(\"---------------------------------------\")\n",
    "print(\n",
    "    f\"Produção --> Memória Ocupada: {df_info_production_cleaned.memory_usage().sum() / 1024 ** 2:.2f} MB\"\n",
    ")\n",
    "print(\"---------------------------------------\")\n",
    "print(f\"Produção --> Tipos:\\n{df_info_production_cleaned.dtypes}\")"
   ]
  },
  {
   "cell_type": "markdown",
   "metadata": {},
   "source": [
    "# Análise de Dados\n"
   ]
  },
  {
   "cell_type": "markdown",
   "metadata": {},
   "source": [
    "## Eficiência, Performance e Reparos de Máquina/Linha\n"
   ]
  },
  {
   "cell_type": "code",
   "execution_count": 27,
   "metadata": {
    "notebookRunGroups": {
     "groupValue": "2"
    }
   },
   "outputs": [],
   "source": [
    "# cspell: words producao\n",
    "\n",
    "\n",
    "class DataAnalysis:\n",
    "    def __init__(self, df_stops: pd.DataFrame, df_prod: pd.DataFrame):\n",
    "        self.df_stops = df_stops\n",
    "        self.df_prod = df_prod\n",
    "\n",
    "        # Dicionário com descontos de Eficiência\n",
    "        self.desc_eff = {\n",
    "            \"Troca de Sabor\": 15,\n",
    "            \"Troca de Produto\": 35,\n",
    "            \"Refeição\": 60,\n",
    "            \"Café e Ginástica Laboral\": 10,\n",
    "            \"Treinamento\": 60,\n",
    "        }\n",
    "\n",
    "        # Dicionário com descontos de Performance\n",
    "        self.desc_perf = {\n",
    "            \"Troca de Sabor\": 15,\n",
    "            \"Refeição\": 60,\n",
    "            \"Café e Ginástica Laboral\": 10,\n",
    "            \"Treinamento\": 60,\n",
    "        }\n",
    "\n",
    "        # Dicionário com descontos de Reparo\n",
    "        self.desc_rep = {\"Troca de Produto\": 35}\n",
    "\n",
    "        # Dicionário com o que não afeta a eficiência\n",
    "        self.not_eff = [\"Sem Produção\", \"Backup\"]\n",
    "\n",
    "        # Dicionário com o que não afeta a performance\n",
    "        self.not_perf = [\n",
    "            \"Sem Produção\",\n",
    "            \"Backup\",\n",
    "            \"Limpeza para parada de Fábrica\",\n",
    "            \"Risco de Contaminação\",\n",
    "            \"Parâmetros de Qualidade\",\n",
    "            \"Manutenção\",\n",
    "        ]\n",
    "\n",
    "        # Dicionário com o que afeta o reparo\n",
    "        self.afeta_rep = [\"Manutenção\", \"Troca de Produtos\"]\n",
    "\n",
    "    def get_discount(\n",
    "        self,\n",
    "        df: pd.DataFrame,\n",
    "        desc_dict: dict[str, int],\n",
    "        not_dict: list[str],\n",
    "        indicator: IndicatorType,\n",
    "    ) -> pd.DataFrame:\n",
    "        \"\"\"\n",
    "        Calcula o desconto de eficiência, performance ou reparo.\n",
    "        \"\"\"\n",
    "\n",
    "        # Cria uma coluna com o desconto padrão\n",
    "        df[\"desconto\"] = 0\n",
    "\n",
    "        # Caso o motivo, problema ou causa não afete o indicador, o desconto é igual a tempo\n",
    "        mask = (\n",
    "            df[[\"motivo\", \"problema\", \"causa\"]]\n",
    "            .apply(lambda x: x.str.contains(\"|\".join(not_dict), case=False, na=False))\n",
    "            .any(axis=1)\n",
    "        )\n",
    "        df.loc[mask, \"desconto\"] = 0 if indicator == IndicatorType.REPAIR else df[\"tempo\"]\n",
    "\n",
    "        # Cria um dict para indicadores\n",
    "        indicator_dict = {\n",
    "            IndicatorType.EFFICIENCY: df,\n",
    "            IndicatorType.PERFORMANCE: df[~mask],\n",
    "            IndicatorType.REPAIR: df[mask],\n",
    "        }\n",
    "\n",
    "        df = indicator_dict[indicator].reset_index(drop=True)\n",
    "\n",
    "        # Aplica o desconto de acordo com as colunas \"motivo\" ou \"problema\" ou \"causa\"\n",
    "        for key, value in desc_dict.items():\n",
    "            mask = (\n",
    "                df[[\"motivo\", \"problema\", \"causa\"]]\n",
    "                .apply(lambda x: x.str.contains(key, case=False, na=False))\n",
    "                .any(axis=1)\n",
    "            )\n",
    "            df.loc[mask, \"desconto\"] = value\n",
    "\n",
    "        # Caso o desconto seja maior que o tempo, o desconto deve ser igual ao tempo\n",
    "        df.loc[:, \"desconto\"] = df[[\"desconto\", \"tempo\"]].min(axis=1)\n",
    "\n",
    "        # Calcula o excedente\n",
    "        df.loc[:, \"excedente\"] = (df[\"tempo\"] - df[\"desconto\"]).clip(lower=0)\n",
    "\n",
    "        return df\n",
    "\n",
    "    def __get_elapsed_time(self, turno: str) -> int:\n",
    "        \"\"\"\n",
    "        Calcula o tempo decorrido do turno.\n",
    "        \"\"\"\n",
    "\n",
    "        # Agora\n",
    "        now = datetime.now()\n",
    "\n",
    "        if turno == \"MAT\" and 8 <= now.hour < 16:\n",
    "            elapsed_time = now - datetime(now.year, now.month, now.day, 8, 0, 0)\n",
    "        elif turno == \"VES\" and 16 <= now.hour < 24:\n",
    "            elapsed_time = now - datetime(now.year, now.month, now.day, 16, 0, 0)\n",
    "        elif turno == \"NOT\" and 0 <= now.hour < 8:\n",
    "            elapsed_time = now - datetime(now.year, now.month, now.day, 0, 0, 0)\n",
    "        else:\n",
    "            return 480\n",
    "\n",
    "        return elapsed_time.total_seconds() / 60\n",
    "\n",
    "    def __get_expected_production_time(self, df: pd.DataFrame) -> pd.DataFrame:\n",
    "        \"\"\"\n",
    "        Calcula o tempo esperado de produção.\n",
    "        \"\"\"\n",
    "\n",
    "        df[\"tempo_esperado\"] = df.apply(\n",
    "            lambda row: (\n",
    "                np.floor(self.__get_elapsed_time(row[\"turno\"]) - row[\"desconto\"])\n",
    "                if row[\"data_registro\"].date() == pd.to_datetime(\"today\").date()\n",
    "                else 480 - row[\"desconto\"]\n",
    "            ),\n",
    "            axis=1,\n",
    "        )\n",
    "\n",
    "        return df\n",
    "\n",
    "    def get_eff_data(self) -> pd.DataFrame:\n",
    "        \"\"\"\n",
    "        Calcula o desconto de eficiência.\n",
    "        \"\"\"\n",
    "\n",
    "        df = self.df_stops\n",
    "        df_prod = self.df_prod\n",
    "\n",
    "        # Calcula o desconto de eficiência\n",
    "        df = self.get_discount(df, self.desc_eff, self.not_eff, IndicatorType.EFFICIENCY)\n",
    "        ciclo_ideal = 10.6\n",
    "\n",
    "        # Agrupa para ter o valor total de desconto\n",
    "        df = (\n",
    "            df.groupby([\"maquina_id\", \"linha\", \"data_registro\", \"turno\"], observed=False)\n",
    "            .agg(\n",
    "                tempo=(\"tempo\", \"sum\"),\n",
    "                desconto=(\"desconto\", \"sum\"),\n",
    "                excedente=(\"excedente\", \"sum\"),\n",
    "            )\n",
    "            .reset_index()\n",
    "        )\n",
    "\n",
    "        # Une os dois dataframes\n",
    "        df = pd.merge(df_prod, df, on=[\"maquina_id\", \"linha\", \"data_registro\", \"turno\"], how=\"left\")\n",
    "\n",
    "        # Lida com valores nulos\n",
    "        df = df.fillna(0)\n",
    "\n",
    "        # Nova coluna para tempo esperado de produção\n",
    "        df = self.__get_expected_production_time(df)\n",
    "\n",
    "        # Nova coluna para produção esperada\n",
    "        df[\"producao_esperada\"] = (df[\"tempo_esperado\"] * ciclo_ideal) * 2\n",
    "\n",
    "        # Nova coluna para eficiência\n",
    "        df[\"eficiencia\"] = (df[\"total_produzido\"] / df[\"producao_esperada\"]).round(3)\n",
    "\n",
    "        # Corrige valores nulos ou inf de eficiência\n",
    "        df[\"eficiencia\"] = df[\"eficiencia\"].replace([np.inf, -np.inf], np.nan).fillna(0)\n",
    "\n",
    "        # Se a produção esperada for 0 e a eficiência for 0, tornar a eficiência np.nan\n",
    "        mask = (df[\"producao_esperada\"] == 0) & (df[\"eficiencia\"] == 0)\n",
    "        df.loc[mask, \"eficiencia\"] = np.nan\n",
    "\n",
    "        # Ordenar as colunas\n",
    "        df = df[\n",
    "            [\n",
    "                \"fabrica\",\n",
    "                \"linha\",\n",
    "                \"maquina_id\",\n",
    "                \"turno\",\n",
    "                \"data_registro\",\n",
    "                \"hora_registro\",\n",
    "                \"tempo\",\n",
    "                \"total_produzido\",\n",
    "                \"producao_esperada\",\n",
    "                \"tempo_esperado\",\n",
    "                \"desconto\",\n",
    "                \"excedente\",\n",
    "                \"eficiencia\",\n",
    "            ]\n",
    "        ]\n",
    "\n",
    "        return df\n",
    "\n",
    "    def get_perf_data(self) -> pd.DataFrame:\n",
    "        \"\"\"\n",
    "        Calcula o desconto de performance.\n",
    "        \"\"\"\n",
    "\n",
    "        df = self.df_stops\n",
    "        df_prod = self.df_prod\n",
    "\n",
    "        # Dataframe com datas e turnos onde a causa está em not_eff e o tempo é igual a 480\n",
    "        mask = (df[\"causa\"].isin([\"Sem Produção\", \"Backup\"])) & (df[\"tempo\"] == 480)\n",
    "        paradas_programadas = df[mask][\n",
    "            [\"data_registro\", \"turno\", \"linha\"]\n",
    "        ]  # Para performance ser np.nan\n",
    "\n",
    "        # Calcula o desconto de performance e filtra para remover linhas que não afetam a performance\n",
    "        df = self.get_discount(df, self.desc_perf, self.not_perf, IndicatorType.PERFORMANCE)\n",
    "\n",
    "        # Agrupa para ter o valor total de desconto\n",
    "        df = (\n",
    "            df.groupby([\"maquina_id\", \"linha\", \"data_registro\", \"turno\"], observed=False)\n",
    "            .agg(\n",
    "                tempo=(\"tempo\", \"sum\"),\n",
    "                desconto=(\"desconto\", \"sum\"),\n",
    "                afeta=(\"excedente\", \"sum\"),\n",
    "            )\n",
    "            .reset_index()\n",
    "        )\n",
    "\n",
    "        # Une os dois dataframes\n",
    "        df = pd.merge(df_prod, df, on=[\"maquina_id\", \"linha\", \"data_registro\", \"turno\"], how=\"left\")\n",
    "\n",
    "        # Lida com valores nulos\n",
    "        df = df.fillna(0)\n",
    "\n",
    "        # Coluna com tempo esperado de produção\n",
    "        df = self.__get_expected_production_time(df)\n",
    "\n",
    "        # Coluna de Performance\n",
    "        df[\"performance\"] = (df[\"afeta\"] / df[\"tempo_esperado\"]).round(2)\n",
    "\n",
    "        # Corrige valores nulos ou inf de performance\n",
    "        df[\"performance\"] = df[\"performance\"].replace([np.inf, -np.inf], np.nan).fillna(0)\n",
    "\n",
    "        # Criar uma coluna de controle em paradas_programadas\n",
    "        paradas_programadas[\"programada\"] = True\n",
    "\n",
    "        # Merge dos dataframes\n",
    "        df = pd.merge(df, paradas_programadas, how=\"left\", on=[\"data_registro\", \"turno\", \"linha\"])\n",
    "\n",
    "        # Se a parada for programada, a performance é np.nan\n",
    "        df.loc[df[\"programada\"] == True, \"performance\"] = np.nan\n",
    "        df.loc[df[\"programada\"] == True, \"tempo_esperado\"] = 0\n",
    "\n",
    "        # Remove a coluna de controle\n",
    "        df = df.drop(columns=\"programada\")\n",
    "\n",
    "        # Ordenar as colunas\n",
    "        df = df[\n",
    "            [\n",
    "                \"fabrica\",\n",
    "                \"linha\",\n",
    "                \"maquina_id\",\n",
    "                \"turno\",\n",
    "                \"data_registro\",\n",
    "                \"hora_registro\",\n",
    "                \"tempo\",\n",
    "                \"tempo_esperado\",\n",
    "                \"desconto\",\n",
    "                \"afeta\",\n",
    "                \"performance\",\n",
    "            ]\n",
    "        ]\n",
    "\n",
    "        return df\n",
    "\n",
    "    def get_repair_data(self) -> pd.DataFrame:\n",
    "        \"\"\"\n",
    "        Calcula o desconto de reparo.\n",
    "        \"\"\"\n",
    "\n",
    "        df = self.df_stops\n",
    "        df_prod = self.df_prod\n",
    "\n",
    "        # Dataframe com datas e turnos onde a causa está em not_eff e o tempo é igual a 480\n",
    "        mask = (df[\"causa\"].isin([\"Sem Produção\", \"Backup\"])) & (df[\"tempo\"] == 480)\n",
    "        paradas_programadas = df[mask][\n",
    "            [\"data_registro\", \"turno\", \"linha\"]\n",
    "        ]  # Para reparo ser np.nan\n",
    "\n",
    "        # Calcula o desconto de reparo\n",
    "        df = self.get_discount(df, self.desc_rep, self.afeta_rep, IndicatorType.REPAIR)\n",
    "\n",
    "        # Agrupa para ter o valor total de desconto\n",
    "        df = (\n",
    "            df.groupby([\"maquina_id\", \"linha\", \"data_registro\", \"turno\"], observed=False)\n",
    "            .agg(\n",
    "                tempo=(\"tempo\", \"sum\"),\n",
    "                desconto=(\"desconto\", \"sum\"),\n",
    "                afeta=(\"excedente\", \"sum\"),\n",
    "            )\n",
    "            .reset_index()\n",
    "        )\n",
    "\n",
    "        # Une os dois dataframes\n",
    "        df = pd.merge(df_prod, df, on=[\"maquina_id\", \"linha\", \"data_registro\", \"turno\"], how=\"left\")\n",
    "\n",
    "        # Lida com valores nulos\n",
    "        df = df.fillna(0)\n",
    "\n",
    "        # Coluna com tempo esperado de produção\n",
    "        df = self.__get_expected_production_time(df)\n",
    "\n",
    "        # Coluna de Reparo\n",
    "        df[\"reparo\"] = (df[\"afeta\"] / df[\"tempo_esperado\"]).round(2)\n",
    "\n",
    "        # Corrige valores nulos ou inf de reparo\n",
    "        df[\"reparo\"] = df[\"reparo\"].replace([np.inf, -np.inf], np.nan).fillna(0)\n",
    "\n",
    "        # Criar uma coluna de controle em paradas_programadas\n",
    "        paradas_programadas[\"programada\"] = True\n",
    "\n",
    "        # Merge dos dataframes\n",
    "        df = pd.merge(df, paradas_programadas, how=\"left\", on=[\"data_registro\", \"turno\", \"linha\"])\n",
    "\n",
    "        # Se a parada for programada, a performance é np.nan\n",
    "        df.loc[df[\"programada\"] == True, \"reparo\"] = np.nan\n",
    "        df.loc[df[\"programada\"] == True, \"tempo_esperado\"] = 0\n",
    "\n",
    "        # Remove a coluna de controle\n",
    "        df = df.drop(columns=\"programada\")\n",
    "\n",
    "        # Ordenar as colunas\n",
    "        df = df[\n",
    "            [\n",
    "                \"fabrica\",\n",
    "                \"linha\",\n",
    "                \"maquina_id\",\n",
    "                \"turno\",\n",
    "                \"data_registro\",\n",
    "                \"hora_registro\",\n",
    "                \"tempo\",\n",
    "                \"tempo_esperado\",\n",
    "                \"desconto\",\n",
    "                \"afeta\",\n",
    "                \"reparo\",\n",
    "            ]\n",
    "        ]\n",
    "\n",
    "        return df\n",
    "\n",
    "\n",
    "data_analysis = DataAnalysis(df_maq_stopped.copy(), df_info_production_cleaned.copy())"
   ]
  },
  {
   "cell_type": "markdown",
   "metadata": {},
   "source": [
    "## Saídas de Eficiência, Performance e Reparos de Máquina/Linha\n"
   ]
  },
  {
   "cell_type": "code",
   "execution_count": 28,
   "metadata": {
    "notebookRunGroups": {
     "groupValue": "2"
    }
   },
   "outputs": [
    {
     "data": {
      "text/html": [
       "<div>\n",
       "<style scoped>\n",
       "    .dataframe tbody tr th:only-of-type {\n",
       "        vertical-align: middle;\n",
       "    }\n",
       "\n",
       "    .dataframe tbody tr th {\n",
       "        vertical-align: top;\n",
       "    }\n",
       "\n",
       "    .dataframe thead th {\n",
       "        text-align: right;\n",
       "    }\n",
       "</style>\n",
       "<table border=\"1\" class=\"dataframe\">\n",
       "  <thead>\n",
       "    <tr style=\"text-align: right;\">\n",
       "      <th></th>\n",
       "      <th>fabrica</th>\n",
       "      <th>linha</th>\n",
       "      <th>maquina_id</th>\n",
       "      <th>turno</th>\n",
       "      <th>data_registro</th>\n",
       "      <th>hora_registro</th>\n",
       "      <th>tempo</th>\n",
       "      <th>total_produzido</th>\n",
       "      <th>producao_esperada</th>\n",
       "      <th>tempo_esperado</th>\n",
       "      <th>desconto</th>\n",
       "      <th>excedente</th>\n",
       "      <th>eficiencia</th>\n",
       "    </tr>\n",
       "  </thead>\n",
       "  <tbody>\n",
       "    <tr>\n",
       "      <th>0</th>\n",
       "      <td>1</td>\n",
       "      <td>1</td>\n",
       "      <td>TMF003</td>\n",
       "      <td>MAT</td>\n",
       "      <td>2024-07-12</td>\n",
       "      <td>15:58:00</td>\n",
       "      <td>172</td>\n",
       "      <td>7442</td>\n",
       "      <td>8861.6</td>\n",
       "      <td>418.0</td>\n",
       "      <td>62</td>\n",
       "      <td>110</td>\n",
       "      <td>0.840</td>\n",
       "    </tr>\n",
       "    <tr>\n",
       "      <th>1</th>\n",
       "      <td>1</td>\n",
       "      <td>2</td>\n",
       "      <td>TMF011</td>\n",
       "      <td>MAT</td>\n",
       "      <td>2024-07-12</td>\n",
       "      <td>15:58:01</td>\n",
       "      <td>144</td>\n",
       "      <td>7939</td>\n",
       "      <td>8861.6</td>\n",
       "      <td>418.0</td>\n",
       "      <td>62</td>\n",
       "      <td>82</td>\n",
       "      <td>0.896</td>\n",
       "    </tr>\n",
       "    <tr>\n",
       "      <th>2</th>\n",
       "      <td>1</td>\n",
       "      <td>3</td>\n",
       "      <td>TMF005</td>\n",
       "      <td>MAT</td>\n",
       "      <td>2024-07-12</td>\n",
       "      <td>15:58:02</td>\n",
       "      <td>379</td>\n",
       "      <td>2270</td>\n",
       "      <td>3837.2</td>\n",
       "      <td>181.0</td>\n",
       "      <td>299</td>\n",
       "      <td>80</td>\n",
       "      <td>0.592</td>\n",
       "    </tr>\n",
       "    <tr>\n",
       "      <th>3</th>\n",
       "      <td>1</td>\n",
       "      <td>4</td>\n",
       "      <td>TMF012</td>\n",
       "      <td>MAT</td>\n",
       "      <td>2024-07-12</td>\n",
       "      <td>15:58:03</td>\n",
       "      <td>134</td>\n",
       "      <td>7730</td>\n",
       "      <td>8861.6</td>\n",
       "      <td>418.0</td>\n",
       "      <td>62</td>\n",
       "      <td>72</td>\n",
       "      <td>0.872</td>\n",
       "    </tr>\n",
       "    <tr>\n",
       "      <th>4</th>\n",
       "      <td>1</td>\n",
       "      <td>5</td>\n",
       "      <td>TMF002</td>\n",
       "      <td>MAT</td>\n",
       "      <td>2024-07-12</td>\n",
       "      <td>15:58:04</td>\n",
       "      <td>481</td>\n",
       "      <td>0</td>\n",
       "      <td>-21.2</td>\n",
       "      <td>-1.0</td>\n",
       "      <td>481</td>\n",
       "      <td>0</td>\n",
       "      <td>-0.000</td>\n",
       "    </tr>\n",
       "    <tr>\n",
       "      <th>...</th>\n",
       "      <td>...</td>\n",
       "      <td>...</td>\n",
       "      <td>...</td>\n",
       "      <td>...</td>\n",
       "      <td>...</td>\n",
       "      <td>...</td>\n",
       "      <td>...</td>\n",
       "      <td>...</td>\n",
       "      <td>...</td>\n",
       "      <td>...</td>\n",
       "      <td>...</td>\n",
       "      <td>...</td>\n",
       "      <td>...</td>\n",
       "    </tr>\n",
       "    <tr>\n",
       "      <th>65</th>\n",
       "      <td>2</td>\n",
       "      <td>10</td>\n",
       "      <td>TMF008</td>\n",
       "      <td>NOT</td>\n",
       "      <td>2024-07-13</td>\n",
       "      <td>07:59:50</td>\n",
       "      <td>475</td>\n",
       "      <td>0</td>\n",
       "      <td>106.0</td>\n",
       "      <td>5.0</td>\n",
       "      <td>475</td>\n",
       "      <td>0</td>\n",
       "      <td>0.000</td>\n",
       "    </tr>\n",
       "    <tr>\n",
       "      <th>66</th>\n",
       "      <td>2</td>\n",
       "      <td>11</td>\n",
       "      <td>TMF010</td>\n",
       "      <td>NOT</td>\n",
       "      <td>2024-07-13</td>\n",
       "      <td>07:59:51</td>\n",
       "      <td>118</td>\n",
       "      <td>7796</td>\n",
       "      <td>8692.0</td>\n",
       "      <td>410.0</td>\n",
       "      <td>70</td>\n",
       "      <td>48</td>\n",
       "      <td>0.897</td>\n",
       "    </tr>\n",
       "    <tr>\n",
       "      <th>67</th>\n",
       "      <td>2</td>\n",
       "      <td>12</td>\n",
       "      <td>TMF007</td>\n",
       "      <td>NOT</td>\n",
       "      <td>2024-07-13</td>\n",
       "      <td>07:59:52</td>\n",
       "      <td>472</td>\n",
       "      <td>100</td>\n",
       "      <td>169.6</td>\n",
       "      <td>8.0</td>\n",
       "      <td>472</td>\n",
       "      <td>0</td>\n",
       "      <td>0.590</td>\n",
       "    </tr>\n",
       "    <tr>\n",
       "      <th>68</th>\n",
       "      <td>2</td>\n",
       "      <td>13</td>\n",
       "      <td>TMF013</td>\n",
       "      <td>NOT</td>\n",
       "      <td>2024-07-13</td>\n",
       "      <td>07:59:53</td>\n",
       "      <td>128</td>\n",
       "      <td>7679</td>\n",
       "      <td>8289.2</td>\n",
       "      <td>391.0</td>\n",
       "      <td>89</td>\n",
       "      <td>39</td>\n",
       "      <td>0.926</td>\n",
       "    </tr>\n",
       "    <tr>\n",
       "      <th>69</th>\n",
       "      <td>2</td>\n",
       "      <td>14</td>\n",
       "      <td>TMF009</td>\n",
       "      <td>NOT</td>\n",
       "      <td>2024-07-13</td>\n",
       "      <td>07:59:54</td>\n",
       "      <td>479</td>\n",
       "      <td>0</td>\n",
       "      <td>10176.0</td>\n",
       "      <td>480.0</td>\n",
       "      <td>0</td>\n",
       "      <td>479</td>\n",
       "      <td>0.000</td>\n",
       "    </tr>\n",
       "  </tbody>\n",
       "</table>\n",
       "<p>70 rows × 13 columns</p>\n",
       "</div>"
      ],
      "text/plain": [
       "   fabrica  linha maquina_id turno data_registro hora_registro  tempo  \\\n",
       "0        1      1     TMF003   MAT    2024-07-12      15:58:00    172   \n",
       "1        1      2     TMF011   MAT    2024-07-12      15:58:01    144   \n",
       "2        1      3     TMF005   MAT    2024-07-12      15:58:02    379   \n",
       "3        1      4     TMF012   MAT    2024-07-12      15:58:03    134   \n",
       "4        1      5     TMF002   MAT    2024-07-12      15:58:04    481   \n",
       "..     ...    ...        ...   ...           ...           ...    ...   \n",
       "65       2     10     TMF008   NOT    2024-07-13      07:59:50    475   \n",
       "66       2     11     TMF010   NOT    2024-07-13      07:59:51    118   \n",
       "67       2     12     TMF007   NOT    2024-07-13      07:59:52    472   \n",
       "68       2     13     TMF013   NOT    2024-07-13      07:59:53    128   \n",
       "69       2     14     TMF009   NOT    2024-07-13      07:59:54    479   \n",
       "\n",
       "    total_produzido  producao_esperada  tempo_esperado  desconto  excedente  \\\n",
       "0              7442             8861.6           418.0        62        110   \n",
       "1              7939             8861.6           418.0        62         82   \n",
       "2              2270             3837.2           181.0       299         80   \n",
       "3              7730             8861.6           418.0        62         72   \n",
       "4                 0              -21.2            -1.0       481          0   \n",
       "..              ...                ...             ...       ...        ...   \n",
       "65                0              106.0             5.0       475          0   \n",
       "66             7796             8692.0           410.0        70         48   \n",
       "67              100              169.6             8.0       472          0   \n",
       "68             7679             8289.2           391.0        89         39   \n",
       "69                0            10176.0           480.0         0        479   \n",
       "\n",
       "    eficiencia  \n",
       "0        0.840  \n",
       "1        0.896  \n",
       "2        0.592  \n",
       "3        0.872  \n",
       "4       -0.000  \n",
       "..         ...  \n",
       "65       0.000  \n",
       "66       0.897  \n",
       "67       0.590  \n",
       "68       0.926  \n",
       "69       0.000  \n",
       "\n",
       "[70 rows x 13 columns]"
      ]
     },
     "execution_count": 28,
     "metadata": {},
     "output_type": "execute_result"
    }
   ],
   "source": [
    "df_eff = data_analysis.get_eff_data()\n",
    "df_eff"
   ]
  },
  {
   "cell_type": "code",
   "execution_count": 29,
   "metadata": {},
   "outputs": [
    {
     "data": {
      "text/html": [
       "<div>\n",
       "<style scoped>\n",
       "    .dataframe tbody tr th:only-of-type {\n",
       "        vertical-align: middle;\n",
       "    }\n",
       "\n",
       "    .dataframe tbody tr th {\n",
       "        vertical-align: top;\n",
       "    }\n",
       "\n",
       "    .dataframe thead th {\n",
       "        text-align: right;\n",
       "    }\n",
       "</style>\n",
       "<table border=\"1\" class=\"dataframe\">\n",
       "  <thead>\n",
       "    <tr style=\"text-align: right;\">\n",
       "      <th></th>\n",
       "      <th>fabrica</th>\n",
       "      <th>linha</th>\n",
       "      <th>maquina_id</th>\n",
       "      <th>turno</th>\n",
       "      <th>data_registro</th>\n",
       "      <th>hora_registro</th>\n",
       "      <th>tempo</th>\n",
       "      <th>tempo_esperado</th>\n",
       "      <th>desconto</th>\n",
       "      <th>afeta</th>\n",
       "      <th>performance</th>\n",
       "    </tr>\n",
       "  </thead>\n",
       "  <tbody>\n",
       "    <tr>\n",
       "      <th>0</th>\n",
       "      <td>1</td>\n",
       "      <td>1</td>\n",
       "      <td>TMF003</td>\n",
       "      <td>MAT</td>\n",
       "      <td>2024-07-12</td>\n",
       "      <td>15:58:00</td>\n",
       "      <td>172.0</td>\n",
       "      <td>418.0</td>\n",
       "      <td>62.0</td>\n",
       "      <td>110.0</td>\n",
       "      <td>0.26</td>\n",
       "    </tr>\n",
       "    <tr>\n",
       "      <th>1</th>\n",
       "      <td>1</td>\n",
       "      <td>2</td>\n",
       "      <td>TMF011</td>\n",
       "      <td>MAT</td>\n",
       "      <td>2024-07-12</td>\n",
       "      <td>15:58:01</td>\n",
       "      <td>144.0</td>\n",
       "      <td>418.0</td>\n",
       "      <td>62.0</td>\n",
       "      <td>82.0</td>\n",
       "      <td>0.20</td>\n",
       "    </tr>\n",
       "    <tr>\n",
       "      <th>2</th>\n",
       "      <td>1</td>\n",
       "      <td>3</td>\n",
       "      <td>TMF005</td>\n",
       "      <td>MAT</td>\n",
       "      <td>2024-07-12</td>\n",
       "      <td>15:58:02</td>\n",
       "      <td>36.0</td>\n",
       "      <td>480.0</td>\n",
       "      <td>0.0</td>\n",
       "      <td>36.0</td>\n",
       "      <td>0.08</td>\n",
       "    </tr>\n",
       "    <tr>\n",
       "      <th>3</th>\n",
       "      <td>1</td>\n",
       "      <td>4</td>\n",
       "      <td>TMF012</td>\n",
       "      <td>MAT</td>\n",
       "      <td>2024-07-12</td>\n",
       "      <td>15:58:03</td>\n",
       "      <td>134.0</td>\n",
       "      <td>418.0</td>\n",
       "      <td>62.0</td>\n",
       "      <td>72.0</td>\n",
       "      <td>0.17</td>\n",
       "    </tr>\n",
       "    <tr>\n",
       "      <th>4</th>\n",
       "      <td>1</td>\n",
       "      <td>5</td>\n",
       "      <td>TMF002</td>\n",
       "      <td>MAT</td>\n",
       "      <td>2024-07-12</td>\n",
       "      <td>15:58:04</td>\n",
       "      <td>0.0</td>\n",
       "      <td>480.0</td>\n",
       "      <td>0.0</td>\n",
       "      <td>0.0</td>\n",
       "      <td>0.00</td>\n",
       "    </tr>\n",
       "    <tr>\n",
       "      <th>...</th>\n",
       "      <td>...</td>\n",
       "      <td>...</td>\n",
       "      <td>...</td>\n",
       "      <td>...</td>\n",
       "      <td>...</td>\n",
       "      <td>...</td>\n",
       "      <td>...</td>\n",
       "      <td>...</td>\n",
       "      <td>...</td>\n",
       "      <td>...</td>\n",
       "      <td>...</td>\n",
       "    </tr>\n",
       "    <tr>\n",
       "      <th>65</th>\n",
       "      <td>2</td>\n",
       "      <td>10</td>\n",
       "      <td>TMF008</td>\n",
       "      <td>NOT</td>\n",
       "      <td>2024-07-13</td>\n",
       "      <td>07:59:50</td>\n",
       "      <td>0.0</td>\n",
       "      <td>480.0</td>\n",
       "      <td>0.0</td>\n",
       "      <td>0.0</td>\n",
       "      <td>0.00</td>\n",
       "    </tr>\n",
       "    <tr>\n",
       "      <th>66</th>\n",
       "      <td>2</td>\n",
       "      <td>11</td>\n",
       "      <td>TMF010</td>\n",
       "      <td>NOT</td>\n",
       "      <td>2024-07-13</td>\n",
       "      <td>07:59:51</td>\n",
       "      <td>118.0</td>\n",
       "      <td>410.0</td>\n",
       "      <td>70.0</td>\n",
       "      <td>48.0</td>\n",
       "      <td>0.12</td>\n",
       "    </tr>\n",
       "    <tr>\n",
       "      <th>67</th>\n",
       "      <td>2</td>\n",
       "      <td>12</td>\n",
       "      <td>TMF007</td>\n",
       "      <td>NOT</td>\n",
       "      <td>2024-07-13</td>\n",
       "      <td>07:59:52</td>\n",
       "      <td>0.0</td>\n",
       "      <td>480.0</td>\n",
       "      <td>0.0</td>\n",
       "      <td>0.0</td>\n",
       "      <td>0.00</td>\n",
       "    </tr>\n",
       "    <tr>\n",
       "      <th>68</th>\n",
       "      <td>2</td>\n",
       "      <td>13</td>\n",
       "      <td>TMF013</td>\n",
       "      <td>NOT</td>\n",
       "      <td>2024-07-13</td>\n",
       "      <td>07:59:53</td>\n",
       "      <td>128.0</td>\n",
       "      <td>391.0</td>\n",
       "      <td>89.0</td>\n",
       "      <td>39.0</td>\n",
       "      <td>0.10</td>\n",
       "    </tr>\n",
       "    <tr>\n",
       "      <th>69</th>\n",
       "      <td>2</td>\n",
       "      <td>14</td>\n",
       "      <td>TMF009</td>\n",
       "      <td>NOT</td>\n",
       "      <td>2024-07-13</td>\n",
       "      <td>07:59:54</td>\n",
       "      <td>479.0</td>\n",
       "      <td>480.0</td>\n",
       "      <td>0.0</td>\n",
       "      <td>479.0</td>\n",
       "      <td>1.00</td>\n",
       "    </tr>\n",
       "  </tbody>\n",
       "</table>\n",
       "<p>70 rows × 11 columns</p>\n",
       "</div>"
      ],
      "text/plain": [
       "   fabrica  linha maquina_id turno data_registro hora_registro  tempo  \\\n",
       "0        1      1     TMF003   MAT    2024-07-12      15:58:00  172.0   \n",
       "1        1      2     TMF011   MAT    2024-07-12      15:58:01  144.0   \n",
       "2        1      3     TMF005   MAT    2024-07-12      15:58:02   36.0   \n",
       "3        1      4     TMF012   MAT    2024-07-12      15:58:03  134.0   \n",
       "4        1      5     TMF002   MAT    2024-07-12      15:58:04    0.0   \n",
       "..     ...    ...        ...   ...           ...           ...    ...   \n",
       "65       2     10     TMF008   NOT    2024-07-13      07:59:50    0.0   \n",
       "66       2     11     TMF010   NOT    2024-07-13      07:59:51  118.0   \n",
       "67       2     12     TMF007   NOT    2024-07-13      07:59:52    0.0   \n",
       "68       2     13     TMF013   NOT    2024-07-13      07:59:53  128.0   \n",
       "69       2     14     TMF009   NOT    2024-07-13      07:59:54  479.0   \n",
       "\n",
       "    tempo_esperado  desconto  afeta  performance  \n",
       "0            418.0      62.0  110.0         0.26  \n",
       "1            418.0      62.0   82.0         0.20  \n",
       "2            480.0       0.0   36.0         0.08  \n",
       "3            418.0      62.0   72.0         0.17  \n",
       "4            480.0       0.0    0.0         0.00  \n",
       "..             ...       ...    ...          ...  \n",
       "65           480.0       0.0    0.0         0.00  \n",
       "66           410.0      70.0   48.0         0.12  \n",
       "67           480.0       0.0    0.0         0.00  \n",
       "68           391.0      89.0   39.0         0.10  \n",
       "69           480.0       0.0  479.0         1.00  \n",
       "\n",
       "[70 rows x 11 columns]"
      ]
     },
     "execution_count": 29,
     "metadata": {},
     "output_type": "execute_result"
    }
   ],
   "source": [
    "df_perf = data_analysis.get_perf_data()\n",
    "df_perf"
   ]
  },
  {
   "cell_type": "code",
   "execution_count": 30,
   "metadata": {},
   "outputs": [
    {
     "data": {
      "text/html": [
       "<div>\n",
       "<style scoped>\n",
       "    .dataframe tbody tr th:only-of-type {\n",
       "        vertical-align: middle;\n",
       "    }\n",
       "\n",
       "    .dataframe tbody tr th {\n",
       "        vertical-align: top;\n",
       "    }\n",
       "\n",
       "    .dataframe thead th {\n",
       "        text-align: right;\n",
       "    }\n",
       "</style>\n",
       "<table border=\"1\" class=\"dataframe\">\n",
       "  <thead>\n",
       "    <tr style=\"text-align: right;\">\n",
       "      <th></th>\n",
       "      <th>fabrica</th>\n",
       "      <th>linha</th>\n",
       "      <th>maquina_id</th>\n",
       "      <th>turno</th>\n",
       "      <th>data_registro</th>\n",
       "      <th>hora_registro</th>\n",
       "      <th>tempo</th>\n",
       "      <th>tempo_esperado</th>\n",
       "      <th>desconto</th>\n",
       "      <th>afeta</th>\n",
       "      <th>reparo</th>\n",
       "    </tr>\n",
       "  </thead>\n",
       "  <tbody>\n",
       "    <tr>\n",
       "      <th>0</th>\n",
       "      <td>1</td>\n",
       "      <td>1</td>\n",
       "      <td>TMF003</td>\n",
       "      <td>MAT</td>\n",
       "      <td>2024-07-12</td>\n",
       "      <td>15:58:00</td>\n",
       "      <td>0.0</td>\n",
       "      <td>480.0</td>\n",
       "      <td>0.0</td>\n",
       "      <td>0.0</td>\n",
       "      <td>0.00</td>\n",
       "    </tr>\n",
       "    <tr>\n",
       "      <th>1</th>\n",
       "      <td>1</td>\n",
       "      <td>2</td>\n",
       "      <td>TMF011</td>\n",
       "      <td>MAT</td>\n",
       "      <td>2024-07-12</td>\n",
       "      <td>15:58:01</td>\n",
       "      <td>0.0</td>\n",
       "      <td>480.0</td>\n",
       "      <td>0.0</td>\n",
       "      <td>0.0</td>\n",
       "      <td>0.00</td>\n",
       "    </tr>\n",
       "    <tr>\n",
       "      <th>2</th>\n",
       "      <td>1</td>\n",
       "      <td>3</td>\n",
       "      <td>TMF005</td>\n",
       "      <td>MAT</td>\n",
       "      <td>2024-07-12</td>\n",
       "      <td>15:58:02</td>\n",
       "      <td>44.0</td>\n",
       "      <td>480.0</td>\n",
       "      <td>0.0</td>\n",
       "      <td>44.0</td>\n",
       "      <td>0.09</td>\n",
       "    </tr>\n",
       "    <tr>\n",
       "      <th>3</th>\n",
       "      <td>1</td>\n",
       "      <td>4</td>\n",
       "      <td>TMF012</td>\n",
       "      <td>MAT</td>\n",
       "      <td>2024-07-12</td>\n",
       "      <td>15:58:03</td>\n",
       "      <td>0.0</td>\n",
       "      <td>480.0</td>\n",
       "      <td>0.0</td>\n",
       "      <td>0.0</td>\n",
       "      <td>0.00</td>\n",
       "    </tr>\n",
       "    <tr>\n",
       "      <th>4</th>\n",
       "      <td>1</td>\n",
       "      <td>5</td>\n",
       "      <td>TMF002</td>\n",
       "      <td>MAT</td>\n",
       "      <td>2024-07-12</td>\n",
       "      <td>15:58:04</td>\n",
       "      <td>0.0</td>\n",
       "      <td>480.0</td>\n",
       "      <td>0.0</td>\n",
       "      <td>0.0</td>\n",
       "      <td>0.00</td>\n",
       "    </tr>\n",
       "    <tr>\n",
       "      <th>...</th>\n",
       "      <td>...</td>\n",
       "      <td>...</td>\n",
       "      <td>...</td>\n",
       "      <td>...</td>\n",
       "      <td>...</td>\n",
       "      <td>...</td>\n",
       "      <td>...</td>\n",
       "      <td>...</td>\n",
       "      <td>...</td>\n",
       "      <td>...</td>\n",
       "      <td>...</td>\n",
       "    </tr>\n",
       "    <tr>\n",
       "      <th>65</th>\n",
       "      <td>2</td>\n",
       "      <td>10</td>\n",
       "      <td>TMF008</td>\n",
       "      <td>NOT</td>\n",
       "      <td>2024-07-13</td>\n",
       "      <td>07:59:50</td>\n",
       "      <td>0.0</td>\n",
       "      <td>480.0</td>\n",
       "      <td>0.0</td>\n",
       "      <td>0.0</td>\n",
       "      <td>0.00</td>\n",
       "    </tr>\n",
       "    <tr>\n",
       "      <th>66</th>\n",
       "      <td>2</td>\n",
       "      <td>11</td>\n",
       "      <td>TMF010</td>\n",
       "      <td>NOT</td>\n",
       "      <td>2024-07-13</td>\n",
       "      <td>07:59:51</td>\n",
       "      <td>0.0</td>\n",
       "      <td>480.0</td>\n",
       "      <td>0.0</td>\n",
       "      <td>0.0</td>\n",
       "      <td>0.00</td>\n",
       "    </tr>\n",
       "    <tr>\n",
       "      <th>67</th>\n",
       "      <td>2</td>\n",
       "      <td>12</td>\n",
       "      <td>TMF007</td>\n",
       "      <td>NOT</td>\n",
       "      <td>2024-07-13</td>\n",
       "      <td>07:59:52</td>\n",
       "      <td>0.0</td>\n",
       "      <td>480.0</td>\n",
       "      <td>0.0</td>\n",
       "      <td>0.0</td>\n",
       "      <td>0.00</td>\n",
       "    </tr>\n",
       "    <tr>\n",
       "      <th>68</th>\n",
       "      <td>2</td>\n",
       "      <td>13</td>\n",
       "      <td>TMF013</td>\n",
       "      <td>NOT</td>\n",
       "      <td>2024-07-13</td>\n",
       "      <td>07:59:53</td>\n",
       "      <td>0.0</td>\n",
       "      <td>480.0</td>\n",
       "      <td>0.0</td>\n",
       "      <td>0.0</td>\n",
       "      <td>0.00</td>\n",
       "    </tr>\n",
       "    <tr>\n",
       "      <th>69</th>\n",
       "      <td>2</td>\n",
       "      <td>14</td>\n",
       "      <td>TMF009</td>\n",
       "      <td>NOT</td>\n",
       "      <td>2024-07-13</td>\n",
       "      <td>07:59:54</td>\n",
       "      <td>0.0</td>\n",
       "      <td>480.0</td>\n",
       "      <td>0.0</td>\n",
       "      <td>0.0</td>\n",
       "      <td>0.00</td>\n",
       "    </tr>\n",
       "  </tbody>\n",
       "</table>\n",
       "<p>70 rows × 11 columns</p>\n",
       "</div>"
      ],
      "text/plain": [
       "   fabrica  linha maquina_id turno data_registro hora_registro  tempo  \\\n",
       "0        1      1     TMF003   MAT    2024-07-12      15:58:00    0.0   \n",
       "1        1      2     TMF011   MAT    2024-07-12      15:58:01    0.0   \n",
       "2        1      3     TMF005   MAT    2024-07-12      15:58:02   44.0   \n",
       "3        1      4     TMF012   MAT    2024-07-12      15:58:03    0.0   \n",
       "4        1      5     TMF002   MAT    2024-07-12      15:58:04    0.0   \n",
       "..     ...    ...        ...   ...           ...           ...    ...   \n",
       "65       2     10     TMF008   NOT    2024-07-13      07:59:50    0.0   \n",
       "66       2     11     TMF010   NOT    2024-07-13      07:59:51    0.0   \n",
       "67       2     12     TMF007   NOT    2024-07-13      07:59:52    0.0   \n",
       "68       2     13     TMF013   NOT    2024-07-13      07:59:53    0.0   \n",
       "69       2     14     TMF009   NOT    2024-07-13      07:59:54    0.0   \n",
       "\n",
       "    tempo_esperado  desconto  afeta  reparo  \n",
       "0            480.0       0.0    0.0    0.00  \n",
       "1            480.0       0.0    0.0    0.00  \n",
       "2            480.0       0.0   44.0    0.09  \n",
       "3            480.0       0.0    0.0    0.00  \n",
       "4            480.0       0.0    0.0    0.00  \n",
       "..             ...       ...    ...     ...  \n",
       "65           480.0       0.0    0.0    0.00  \n",
       "66           480.0       0.0    0.0    0.00  \n",
       "67           480.0       0.0    0.0    0.00  \n",
       "68           480.0       0.0    0.0    0.00  \n",
       "69           480.0       0.0    0.0    0.00  \n",
       "\n",
       "[70 rows x 11 columns]"
      ]
     },
     "execution_count": 30,
     "metadata": {},
     "output_type": "execute_result"
    }
   ],
   "source": [
    "df_repair = data_analysis.get_repair_data()\n",
    "df_repair"
   ]
  },
  {
   "cell_type": "markdown",
   "metadata": {},
   "source": [
    "# Dataframes auxiliares para uso dos gráficos\n"
   ]
  },
  {
   "cell_type": "code",
   "execution_count": 31,
   "metadata": {},
   "outputs": [],
   "source": [
    "class DFIndicators:\n",
    "    def __init__(self, df_info_ihm: pd.DataFrame, df_prod: pd.DataFrame):\n",
    "        self.df_info_ihm = df_info_ihm\n",
    "        self.df_prod = df_prod\n",
    "        self.data_analysis = DataAnalysis(self.df_info_ihm, self.df_prod)\n",
    "        self.indicator_functions = {\n",
    "            IndicatorType.EFFICIENCY: self.data_analysis.get_eff_data,\n",
    "            IndicatorType.PERFORMANCE: self.data_analysis.get_perf_data,\n",
    "            IndicatorType.REPAIR: self.data_analysis.get_repair_data,\n",
    "        }\n",
    "        self.indicator_descontos = {\n",
    "            IndicatorType.EFFICIENCY: self.data_analysis.desc_eff,\n",
    "            IndicatorType.PERFORMANCE: self.data_analysis.desc_perf,\n",
    "            IndicatorType.REPAIR: self.data_analysis.desc_rep,\n",
    "        }\n",
    "        self.indicator_not_affect = {\n",
    "            IndicatorType.EFFICIENCY: self.data_analysis.not_eff,\n",
    "            IndicatorType.PERFORMANCE: self.data_analysis.not_perf,\n",
    "            IndicatorType.REPAIR: self.data_analysis.afeta_rep,\n",
    "        }\n",
    "\n",
    "    def __adjust_heatmap_data(\n",
    "        self, indicator: IndicatorType, turn: str = None, main: bool = False\n",
    "    ) -> pd.DataFrame:\n",
    "        \"\"\"\n",
    "        Adjusts the heatmap data based on the given indicator, turn, and main flag.\n",
    "\n",
    "        Parameters:\n",
    "            indicator (IndicatorType): The indicator type to adjust the data for.\n",
    "            turn (str, optional): The turn to filter the data for. Defaults to None.\n",
    "            main (bool, optional): Flag indicating whether the main grouping should be used. Defaults to False.\n",
    "\n",
    "        Returns:\n",
    "            pd.DataFrame: The adjusted dataframe with the heatmap data.\n",
    "        \"\"\"\n",
    "\n",
    "        # Dataframe com os dados do indicador\n",
    "        df = pd.DataFrame()\n",
    "\n",
    "        # Busca o dataframe de acordo com o indicador\n",
    "        df = self.indicator_functions[indicator]()\n",
    "\n",
    "        # Se for indicado um turno, filtra o dataframe\n",
    "        if turn:\n",
    "            df = df[df[\"turno\"] == turn]\n",
    "\n",
    "        # Colunas para agrupar o dataframe\n",
    "        group_cols = [\"data_registro\", \"turno\"] if main else [\"data_registro\", \"linha\"]\n",
    "\n",
    "        # Agrupa o dataframe e calcula a média\n",
    "        df = df.groupby(group_cols, observed=False)[indicator.value].mean().reset_index()\n",
    "\n",
    "        # ====================== Garantir Que Todas Datas Estejam Presentes ====================== #\n",
    "\n",
    "        # Obter a data do inicio e fim do mês atual\n",
    "        start_date = pd.to_datetime(\"today\").replace(day=1).date()\n",
    "        end_date = (pd.to_datetime(\"today\") + pd.offsets.MonthEnd(0)).date()\n",
    "\n",
    "        # Lista com todas as datas do mês atual\n",
    "        date_range = pd.date_range(start_date, end_date, freq=\"D\").date\n",
    "\n",
    "        # Encontra os valores únicos de turno ou linha e cria um novo index com todas as datas e turnos ou linhas\n",
    "        if main:\n",
    "            unique_turnos = df[\"turno\"].unique()\n",
    "            df.set_index([\"data_registro\", \"turno\"], inplace=True)\n",
    "            new_index = pd.MultiIndex.from_product(\n",
    "                [date_range, unique_turnos], names=[\"data_registro\", \"turno\"]\n",
    "            )\n",
    "        else:\n",
    "            unique_lines = df[\"linha\"].unique()\n",
    "            df.set_index([\"data_registro\", \"linha\"], inplace=True)\n",
    "            new_index = pd.MultiIndex.from_product(\n",
    "                [date_range, unique_lines], names=[\"data_registro\", \"linha\"]\n",
    "            )\n",
    "\n",
    "        # Reindexa o dataframe\n",
    "        df = df.reindex(new_index).reset_index()\n",
    "\n",
    "        # ================================== Pivotar O Dataframe ================================= #\n",
    "\n",
    "        # Pivotar o dataframe\n",
    "        if main:\n",
    "            df = df.pivot(index=\"turno\", columns=\"data_registro\", values=indicator.value)\n",
    "            df = df.reindex([\"NOT\", \"MAT\", \"VES\"])\n",
    "        else:\n",
    "            df = df.pivot(index=\"linha\", columns=\"data_registro\", values=indicator.value)\n",
    "\n",
    "        return df\n",
    "\n",
    "    def get_heatmap_data(self, indicator: IndicatorType) -> tuple:\n",
    "        \"\"\"\n",
    "        Retrieves heatmap data for the given indicator.\n",
    "\n",
    "        Args:\n",
    "            indicator (IndicatorType): The indicator type to retrieve data for.\n",
    "\n",
    "        Returns:\n",
    "            tuple: A tuple containing the heatmap data for different shifts:\n",
    "                - noturno: Heatmap data for the night shift.\n",
    "                - matutino: Heatmap data for the morning shift.\n",
    "                - vespertino: Heatmap data for the afternoon shift.\n",
    "                - main: Heatmap data for the main shift.\n",
    "        \"\"\"\n",
    "\n",
    "        noturno = self.__adjust_heatmap_data(indicator, \"NOT\")\n",
    "        matutino = self.__adjust_heatmap_data(indicator, \"MAT\")\n",
    "        vespertino = self.__adjust_heatmap_data(indicator, \"VES\")\n",
    "        main = self.__adjust_heatmap_data(indicator, main=True)\n",
    "\n",
    "        return noturno, matutino, vespertino, main\n",
    "\n",
    "    @staticmethod\n",
    "    def __annotations_list(df: pd.DataFrame) -> list:\n",
    "        \"\"\"\n",
    "        Cria uma lista de anotações para o heatmap.\n",
    "\n",
    "        Args:\n",
    "            df (pd.DataFrame): O dataframe com os dados do heatmap.\n",
    "\n",
    "        Returns:\n",
    "            list: Uma lista de anotações para o heatmap.\n",
    "        \"\"\"\n",
    "\n",
    "        # Inicializa a lista de anotações\n",
    "        annotations = []\n",
    "\n",
    "        # Define a coluna para dia apenas\n",
    "        df.columns = pd.to_datetime(df.columns).day\n",
    "\n",
    "        # Loop sobre as linhas do dataframe\n",
    "        for (i, j), value in np.ndenumerate(df.values):\n",
    "            # Se o valor for diferente de NaN\n",
    "            if not np.isnan(value):\n",
    "                # Adiciona a anotação\n",
    "                annotations.append(\n",
    "                    {\n",
    "                        \"x\": df.columns[j],\n",
    "                        \"y\": df.index[i],\n",
    "                        \"text\": f\"{value:.1%}\",\n",
    "                        \"xref\": \"x\",\n",
    "                        \"yref\": \"y\",\n",
    "                        \"showarrow\": False,\n",
    "                        \"font\": {\"size\": 10, \"color\": \"white\"},\n",
    "                    }\n",
    "                )\n",
    "\n",
    "        return annotations\n",
    "\n",
    "    def get_annotations(self, indicator: IndicatorType) -> tuple:\n",
    "        \"\"\"\n",
    "        Retrieves annotations for the heatmap data.\n",
    "\n",
    "        Args:\n",
    "            indicator (IndicatorType): The indicator type to retrieve annotations for.\n",
    "\n",
    "        Returns:\n",
    "            tuple: A tuple containing the annotations for different shifts:\n",
    "                - noturno: Annotations for the night shift.\n",
    "                - matutino: Annotations for the morning shift.\n",
    "                - vespertino: Annotations for the afternoon shift.\n",
    "                - main: Annotations for the main shift.\n",
    "        \"\"\"\n",
    "\n",
    "        noturno, matutino, vespertino, main = self.get_heatmap_data(indicator)\n",
    "\n",
    "        noturno_annotations = self.__annotations_list(noturno)\n",
    "        matutino_annotations = self.__annotations_list(matutino)\n",
    "        vespertino_annotations = self.__annotations_list(vespertino)\n",
    "        main_annotations = self.__annotations_list(main)\n",
    "\n",
    "        return noturno_annotations, matutino_annotations, vespertino_annotations, main_annotations\n",
    "\n",
    "    def adjust_df_for_bar_lost(\n",
    "        self,\n",
    "        df: pd.DataFrame,\n",
    "        indicator: IndicatorType,\n",
    "        turn: str = \"TOT\",\n",
    "        working_minutes: pd.DataFrame = None,\n",
    "    ) -> pd.DataFrame:\n",
    "\n",
    "        # Cria dataframe com os tempos\n",
    "        df = self.data_analysis.get_discount(\n",
    "            df, self.indicator_descontos[indicator], self.indicator_not_affect[indicator], indicator\n",
    "        )\n",
    "\n",
    "        # Une com working_minutes\n",
    "        if working_minutes is not None:\n",
    "            df = pd.concat([df, working_minutes], ignore_index=True, sort=False)\n",
    "\n",
    "        # Filtra por turno\n",
    "        df = df[df[\"turno\"] == turn] if turn != \"TOT\" else df\n",
    "\n",
    "        # Lidando com paradas de  5 minutos ou menos\n",
    "        mask = (df[\"motivo\"].isnull()) & (df[\"tempo\"] <= 5)\n",
    "        columns_to_fill = [\"motivo\", \"problema\", \"causa\"]\n",
    "        fill_value = \"Parada de 5 minutos ou menos\"\n",
    "\n",
    "        for column in columns_to_fill:\n",
    "            df.loc[mask, column] = fill_value\n",
    "\n",
    "        # Lidando com motivo nulo\n",
    "        mask = mask = df[\"motivo\"].isnull()\n",
    "        columns_to_fill = [\"motivo\", \"problema\", \"causa\"]\n",
    "        fill_value = \"Não apontado\"\n",
    "\n",
    "        for column in columns_to_fill:\n",
    "            df.loc[mask, column] = fill_value\n",
    "\n",
    "        return df\n",
    "\n",
    "\n",
    "indicators_class = DFIndicators(df_maq_stopped.copy(), df_info_production_cleaned.copy())"
   ]
  },
  {
   "cell_type": "code",
   "execution_count": 32,
   "metadata": {},
   "outputs": [
    {
     "data": {
      "text/html": [
       "<div>\n",
       "<style scoped>\n",
       "    .dataframe tbody tr th:only-of-type {\n",
       "        vertical-align: middle;\n",
       "    }\n",
       "\n",
       "    .dataframe tbody tr th {\n",
       "        vertical-align: top;\n",
       "    }\n",
       "\n",
       "    .dataframe thead th {\n",
       "        text-align: right;\n",
       "    }\n",
       "</style>\n",
       "<table border=\"1\" class=\"dataframe\">\n",
       "  <thead>\n",
       "    <tr style=\"text-align: right;\">\n",
       "      <th>data_registro</th>\n",
       "      <th>2024-07-01</th>\n",
       "      <th>2024-07-02</th>\n",
       "      <th>2024-07-03</th>\n",
       "      <th>2024-07-04</th>\n",
       "      <th>2024-07-05</th>\n",
       "      <th>2024-07-06</th>\n",
       "      <th>2024-07-07</th>\n",
       "      <th>2024-07-08</th>\n",
       "      <th>2024-07-09</th>\n",
       "      <th>2024-07-10</th>\n",
       "      <th>...</th>\n",
       "      <th>2024-07-22</th>\n",
       "      <th>2024-07-23</th>\n",
       "      <th>2024-07-24</th>\n",
       "      <th>2024-07-25</th>\n",
       "      <th>2024-07-26</th>\n",
       "      <th>2024-07-27</th>\n",
       "      <th>2024-07-28</th>\n",
       "      <th>2024-07-29</th>\n",
       "      <th>2024-07-30</th>\n",
       "      <th>2024-07-31</th>\n",
       "    </tr>\n",
       "    <tr>\n",
       "      <th>linha</th>\n",
       "      <th></th>\n",
       "      <th></th>\n",
       "      <th></th>\n",
       "      <th></th>\n",
       "      <th></th>\n",
       "      <th></th>\n",
       "      <th></th>\n",
       "      <th></th>\n",
       "      <th></th>\n",
       "      <th></th>\n",
       "      <th></th>\n",
       "      <th></th>\n",
       "      <th></th>\n",
       "      <th></th>\n",
       "      <th></th>\n",
       "      <th></th>\n",
       "      <th></th>\n",
       "      <th></th>\n",
       "      <th></th>\n",
       "      <th></th>\n",
       "      <th></th>\n",
       "    </tr>\n",
       "  </thead>\n",
       "  <tbody>\n",
       "    <tr>\n",
       "      <th>1</th>\n",
       "      <td>NaN</td>\n",
       "      <td>NaN</td>\n",
       "      <td>NaN</td>\n",
       "      <td>NaN</td>\n",
       "      <td>NaN</td>\n",
       "      <td>NaN</td>\n",
       "      <td>NaN</td>\n",
       "      <td>NaN</td>\n",
       "      <td>NaN</td>\n",
       "      <td>NaN</td>\n",
       "      <td>...</td>\n",
       "      <td>NaN</td>\n",
       "      <td>NaN</td>\n",
       "      <td>NaN</td>\n",
       "      <td>NaN</td>\n",
       "      <td>NaN</td>\n",
       "      <td>NaN</td>\n",
       "      <td>NaN</td>\n",
       "      <td>NaN</td>\n",
       "      <td>NaN</td>\n",
       "      <td>NaN</td>\n",
       "    </tr>\n",
       "    <tr>\n",
       "      <th>2</th>\n",
       "      <td>NaN</td>\n",
       "      <td>NaN</td>\n",
       "      <td>NaN</td>\n",
       "      <td>NaN</td>\n",
       "      <td>NaN</td>\n",
       "      <td>NaN</td>\n",
       "      <td>NaN</td>\n",
       "      <td>NaN</td>\n",
       "      <td>NaN</td>\n",
       "      <td>NaN</td>\n",
       "      <td>...</td>\n",
       "      <td>NaN</td>\n",
       "      <td>NaN</td>\n",
       "      <td>NaN</td>\n",
       "      <td>NaN</td>\n",
       "      <td>NaN</td>\n",
       "      <td>NaN</td>\n",
       "      <td>NaN</td>\n",
       "      <td>NaN</td>\n",
       "      <td>NaN</td>\n",
       "      <td>NaN</td>\n",
       "    </tr>\n",
       "    <tr>\n",
       "      <th>3</th>\n",
       "      <td>NaN</td>\n",
       "      <td>NaN</td>\n",
       "      <td>NaN</td>\n",
       "      <td>NaN</td>\n",
       "      <td>NaN</td>\n",
       "      <td>NaN</td>\n",
       "      <td>NaN</td>\n",
       "      <td>NaN</td>\n",
       "      <td>NaN</td>\n",
       "      <td>NaN</td>\n",
       "      <td>...</td>\n",
       "      <td>NaN</td>\n",
       "      <td>NaN</td>\n",
       "      <td>NaN</td>\n",
       "      <td>NaN</td>\n",
       "      <td>NaN</td>\n",
       "      <td>NaN</td>\n",
       "      <td>NaN</td>\n",
       "      <td>NaN</td>\n",
       "      <td>NaN</td>\n",
       "      <td>NaN</td>\n",
       "    </tr>\n",
       "    <tr>\n",
       "      <th>4</th>\n",
       "      <td>NaN</td>\n",
       "      <td>NaN</td>\n",
       "      <td>NaN</td>\n",
       "      <td>NaN</td>\n",
       "      <td>NaN</td>\n",
       "      <td>NaN</td>\n",
       "      <td>NaN</td>\n",
       "      <td>NaN</td>\n",
       "      <td>NaN</td>\n",
       "      <td>NaN</td>\n",
       "      <td>...</td>\n",
       "      <td>NaN</td>\n",
       "      <td>NaN</td>\n",
       "      <td>NaN</td>\n",
       "      <td>NaN</td>\n",
       "      <td>NaN</td>\n",
       "      <td>NaN</td>\n",
       "      <td>NaN</td>\n",
       "      <td>NaN</td>\n",
       "      <td>NaN</td>\n",
       "      <td>NaN</td>\n",
       "    </tr>\n",
       "    <tr>\n",
       "      <th>5</th>\n",
       "      <td>NaN</td>\n",
       "      <td>NaN</td>\n",
       "      <td>NaN</td>\n",
       "      <td>NaN</td>\n",
       "      <td>NaN</td>\n",
       "      <td>NaN</td>\n",
       "      <td>NaN</td>\n",
       "      <td>NaN</td>\n",
       "      <td>NaN</td>\n",
       "      <td>NaN</td>\n",
       "      <td>...</td>\n",
       "      <td>NaN</td>\n",
       "      <td>NaN</td>\n",
       "      <td>NaN</td>\n",
       "      <td>NaN</td>\n",
       "      <td>NaN</td>\n",
       "      <td>NaN</td>\n",
       "      <td>NaN</td>\n",
       "      <td>NaN</td>\n",
       "      <td>NaN</td>\n",
       "      <td>NaN</td>\n",
       "    </tr>\n",
       "    <tr>\n",
       "      <th>6</th>\n",
       "      <td>NaN</td>\n",
       "      <td>NaN</td>\n",
       "      <td>NaN</td>\n",
       "      <td>NaN</td>\n",
       "      <td>NaN</td>\n",
       "      <td>NaN</td>\n",
       "      <td>NaN</td>\n",
       "      <td>NaN</td>\n",
       "      <td>NaN</td>\n",
       "      <td>NaN</td>\n",
       "      <td>...</td>\n",
       "      <td>NaN</td>\n",
       "      <td>NaN</td>\n",
       "      <td>NaN</td>\n",
       "      <td>NaN</td>\n",
       "      <td>NaN</td>\n",
       "      <td>NaN</td>\n",
       "      <td>NaN</td>\n",
       "      <td>NaN</td>\n",
       "      <td>NaN</td>\n",
       "      <td>NaN</td>\n",
       "    </tr>\n",
       "    <tr>\n",
       "      <th>7</th>\n",
       "      <td>NaN</td>\n",
       "      <td>NaN</td>\n",
       "      <td>NaN</td>\n",
       "      <td>NaN</td>\n",
       "      <td>NaN</td>\n",
       "      <td>NaN</td>\n",
       "      <td>NaN</td>\n",
       "      <td>NaN</td>\n",
       "      <td>NaN</td>\n",
       "      <td>NaN</td>\n",
       "      <td>...</td>\n",
       "      <td>NaN</td>\n",
       "      <td>NaN</td>\n",
       "      <td>NaN</td>\n",
       "      <td>NaN</td>\n",
       "      <td>NaN</td>\n",
       "      <td>NaN</td>\n",
       "      <td>NaN</td>\n",
       "      <td>NaN</td>\n",
       "      <td>NaN</td>\n",
       "      <td>NaN</td>\n",
       "    </tr>\n",
       "    <tr>\n",
       "      <th>8</th>\n",
       "      <td>NaN</td>\n",
       "      <td>NaN</td>\n",
       "      <td>NaN</td>\n",
       "      <td>NaN</td>\n",
       "      <td>NaN</td>\n",
       "      <td>NaN</td>\n",
       "      <td>NaN</td>\n",
       "      <td>NaN</td>\n",
       "      <td>NaN</td>\n",
       "      <td>NaN</td>\n",
       "      <td>...</td>\n",
       "      <td>NaN</td>\n",
       "      <td>NaN</td>\n",
       "      <td>NaN</td>\n",
       "      <td>NaN</td>\n",
       "      <td>NaN</td>\n",
       "      <td>NaN</td>\n",
       "      <td>NaN</td>\n",
       "      <td>NaN</td>\n",
       "      <td>NaN</td>\n",
       "      <td>NaN</td>\n",
       "    </tr>\n",
       "    <tr>\n",
       "      <th>9</th>\n",
       "      <td>NaN</td>\n",
       "      <td>NaN</td>\n",
       "      <td>NaN</td>\n",
       "      <td>NaN</td>\n",
       "      <td>NaN</td>\n",
       "      <td>NaN</td>\n",
       "      <td>NaN</td>\n",
       "      <td>NaN</td>\n",
       "      <td>NaN</td>\n",
       "      <td>NaN</td>\n",
       "      <td>...</td>\n",
       "      <td>NaN</td>\n",
       "      <td>NaN</td>\n",
       "      <td>NaN</td>\n",
       "      <td>NaN</td>\n",
       "      <td>NaN</td>\n",
       "      <td>NaN</td>\n",
       "      <td>NaN</td>\n",
       "      <td>NaN</td>\n",
       "      <td>NaN</td>\n",
       "      <td>NaN</td>\n",
       "    </tr>\n",
       "    <tr>\n",
       "      <th>10</th>\n",
       "      <td>NaN</td>\n",
       "      <td>NaN</td>\n",
       "      <td>NaN</td>\n",
       "      <td>NaN</td>\n",
       "      <td>NaN</td>\n",
       "      <td>NaN</td>\n",
       "      <td>NaN</td>\n",
       "      <td>NaN</td>\n",
       "      <td>NaN</td>\n",
       "      <td>NaN</td>\n",
       "      <td>...</td>\n",
       "      <td>NaN</td>\n",
       "      <td>NaN</td>\n",
       "      <td>NaN</td>\n",
       "      <td>NaN</td>\n",
       "      <td>NaN</td>\n",
       "      <td>NaN</td>\n",
       "      <td>NaN</td>\n",
       "      <td>NaN</td>\n",
       "      <td>NaN</td>\n",
       "      <td>NaN</td>\n",
       "    </tr>\n",
       "    <tr>\n",
       "      <th>11</th>\n",
       "      <td>NaN</td>\n",
       "      <td>NaN</td>\n",
       "      <td>NaN</td>\n",
       "      <td>NaN</td>\n",
       "      <td>NaN</td>\n",
       "      <td>NaN</td>\n",
       "      <td>NaN</td>\n",
       "      <td>NaN</td>\n",
       "      <td>NaN</td>\n",
       "      <td>NaN</td>\n",
       "      <td>...</td>\n",
       "      <td>NaN</td>\n",
       "      <td>NaN</td>\n",
       "      <td>NaN</td>\n",
       "      <td>NaN</td>\n",
       "      <td>NaN</td>\n",
       "      <td>NaN</td>\n",
       "      <td>NaN</td>\n",
       "      <td>NaN</td>\n",
       "      <td>NaN</td>\n",
       "      <td>NaN</td>\n",
       "    </tr>\n",
       "    <tr>\n",
       "      <th>12</th>\n",
       "      <td>NaN</td>\n",
       "      <td>NaN</td>\n",
       "      <td>NaN</td>\n",
       "      <td>NaN</td>\n",
       "      <td>NaN</td>\n",
       "      <td>NaN</td>\n",
       "      <td>NaN</td>\n",
       "      <td>NaN</td>\n",
       "      <td>NaN</td>\n",
       "      <td>NaN</td>\n",
       "      <td>...</td>\n",
       "      <td>NaN</td>\n",
       "      <td>NaN</td>\n",
       "      <td>NaN</td>\n",
       "      <td>NaN</td>\n",
       "      <td>NaN</td>\n",
       "      <td>NaN</td>\n",
       "      <td>NaN</td>\n",
       "      <td>NaN</td>\n",
       "      <td>NaN</td>\n",
       "      <td>NaN</td>\n",
       "    </tr>\n",
       "    <tr>\n",
       "      <th>13</th>\n",
       "      <td>NaN</td>\n",
       "      <td>NaN</td>\n",
       "      <td>NaN</td>\n",
       "      <td>NaN</td>\n",
       "      <td>NaN</td>\n",
       "      <td>NaN</td>\n",
       "      <td>NaN</td>\n",
       "      <td>NaN</td>\n",
       "      <td>NaN</td>\n",
       "      <td>NaN</td>\n",
       "      <td>...</td>\n",
       "      <td>NaN</td>\n",
       "      <td>NaN</td>\n",
       "      <td>NaN</td>\n",
       "      <td>NaN</td>\n",
       "      <td>NaN</td>\n",
       "      <td>NaN</td>\n",
       "      <td>NaN</td>\n",
       "      <td>NaN</td>\n",
       "      <td>NaN</td>\n",
       "      <td>NaN</td>\n",
       "    </tr>\n",
       "    <tr>\n",
       "      <th>14</th>\n",
       "      <td>NaN</td>\n",
       "      <td>NaN</td>\n",
       "      <td>NaN</td>\n",
       "      <td>NaN</td>\n",
       "      <td>NaN</td>\n",
       "      <td>NaN</td>\n",
       "      <td>NaN</td>\n",
       "      <td>NaN</td>\n",
       "      <td>NaN</td>\n",
       "      <td>NaN</td>\n",
       "      <td>...</td>\n",
       "      <td>NaN</td>\n",
       "      <td>NaN</td>\n",
       "      <td>NaN</td>\n",
       "      <td>NaN</td>\n",
       "      <td>NaN</td>\n",
       "      <td>NaN</td>\n",
       "      <td>NaN</td>\n",
       "      <td>NaN</td>\n",
       "      <td>NaN</td>\n",
       "      <td>NaN</td>\n",
       "    </tr>\n",
       "  </tbody>\n",
       "</table>\n",
       "<p>14 rows × 31 columns</p>\n",
       "</div>"
      ],
      "text/plain": [
       "data_registro  2024-07-01  2024-07-02  2024-07-03  2024-07-04  2024-07-05  \\\n",
       "linha                                                                       \n",
       "1                     NaN         NaN         NaN         NaN         NaN   \n",
       "2                     NaN         NaN         NaN         NaN         NaN   \n",
       "3                     NaN         NaN         NaN         NaN         NaN   \n",
       "4                     NaN         NaN         NaN         NaN         NaN   \n",
       "5                     NaN         NaN         NaN         NaN         NaN   \n",
       "6                     NaN         NaN         NaN         NaN         NaN   \n",
       "7                     NaN         NaN         NaN         NaN         NaN   \n",
       "8                     NaN         NaN         NaN         NaN         NaN   \n",
       "9                     NaN         NaN         NaN         NaN         NaN   \n",
       "10                    NaN         NaN         NaN         NaN         NaN   \n",
       "11                    NaN         NaN         NaN         NaN         NaN   \n",
       "12                    NaN         NaN         NaN         NaN         NaN   \n",
       "13                    NaN         NaN         NaN         NaN         NaN   \n",
       "14                    NaN         NaN         NaN         NaN         NaN   \n",
       "\n",
       "data_registro  2024-07-06  2024-07-07  2024-07-08  2024-07-09  2024-07-10  \\\n",
       "linha                                                                       \n",
       "1                     NaN         NaN         NaN         NaN         NaN   \n",
       "2                     NaN         NaN         NaN         NaN         NaN   \n",
       "3                     NaN         NaN         NaN         NaN         NaN   \n",
       "4                     NaN         NaN         NaN         NaN         NaN   \n",
       "5                     NaN         NaN         NaN         NaN         NaN   \n",
       "6                     NaN         NaN         NaN         NaN         NaN   \n",
       "7                     NaN         NaN         NaN         NaN         NaN   \n",
       "8                     NaN         NaN         NaN         NaN         NaN   \n",
       "9                     NaN         NaN         NaN         NaN         NaN   \n",
       "10                    NaN         NaN         NaN         NaN         NaN   \n",
       "11                    NaN         NaN         NaN         NaN         NaN   \n",
       "12                    NaN         NaN         NaN         NaN         NaN   \n",
       "13                    NaN         NaN         NaN         NaN         NaN   \n",
       "14                    NaN         NaN         NaN         NaN         NaN   \n",
       "\n",
       "data_registro  ...  2024-07-22  2024-07-23  2024-07-24  2024-07-25  \\\n",
       "linha          ...                                                   \n",
       "1              ...         NaN         NaN         NaN         NaN   \n",
       "2              ...         NaN         NaN         NaN         NaN   \n",
       "3              ...         NaN         NaN         NaN         NaN   \n",
       "4              ...         NaN         NaN         NaN         NaN   \n",
       "5              ...         NaN         NaN         NaN         NaN   \n",
       "6              ...         NaN         NaN         NaN         NaN   \n",
       "7              ...         NaN         NaN         NaN         NaN   \n",
       "8              ...         NaN         NaN         NaN         NaN   \n",
       "9              ...         NaN         NaN         NaN         NaN   \n",
       "10             ...         NaN         NaN         NaN         NaN   \n",
       "11             ...         NaN         NaN         NaN         NaN   \n",
       "12             ...         NaN         NaN         NaN         NaN   \n",
       "13             ...         NaN         NaN         NaN         NaN   \n",
       "14             ...         NaN         NaN         NaN         NaN   \n",
       "\n",
       "data_registro  2024-07-26  2024-07-27  2024-07-28  2024-07-29  2024-07-30  \\\n",
       "linha                                                                       \n",
       "1                     NaN         NaN         NaN         NaN         NaN   \n",
       "2                     NaN         NaN         NaN         NaN         NaN   \n",
       "3                     NaN         NaN         NaN         NaN         NaN   \n",
       "4                     NaN         NaN         NaN         NaN         NaN   \n",
       "5                     NaN         NaN         NaN         NaN         NaN   \n",
       "6                     NaN         NaN         NaN         NaN         NaN   \n",
       "7                     NaN         NaN         NaN         NaN         NaN   \n",
       "8                     NaN         NaN         NaN         NaN         NaN   \n",
       "9                     NaN         NaN         NaN         NaN         NaN   \n",
       "10                    NaN         NaN         NaN         NaN         NaN   \n",
       "11                    NaN         NaN         NaN         NaN         NaN   \n",
       "12                    NaN         NaN         NaN         NaN         NaN   \n",
       "13                    NaN         NaN         NaN         NaN         NaN   \n",
       "14                    NaN         NaN         NaN         NaN         NaN   \n",
       "\n",
       "data_registro  2024-07-31  \n",
       "linha                      \n",
       "1                     NaN  \n",
       "2                     NaN  \n",
       "3                     NaN  \n",
       "4                     NaN  \n",
       "5                     NaN  \n",
       "6                     NaN  \n",
       "7                     NaN  \n",
       "8                     NaN  \n",
       "9                     NaN  \n",
       "10                    NaN  \n",
       "11                    NaN  \n",
       "12                    NaN  \n",
       "13                    NaN  \n",
       "14                    NaN  \n",
       "\n",
       "[14 rows x 31 columns]"
      ]
     },
     "execution_count": 32,
     "metadata": {},
     "output_type": "execute_result"
    }
   ],
   "source": [
    "heat_noturno, heat_matutino, heat_vespertino, heat_main = indicators_class.get_heatmap_data(\n",
    "    IndicatorType.PERFORMANCE\n",
    ")\n",
    "heat_noturno\n",
    "heat_matutino\n",
    "heat_vespertino"
   ]
  },
  {
   "cell_type": "code",
   "execution_count": 33,
   "metadata": {},
   "outputs": [
    {
     "name": "stdout",
     "output_type": "stream",
     "text": [
      "Performance Noturno --> Linhas x Colunas: (14, 31)\n",
      "---------------------------------------\n",
      "data_registro  2024-07-01  2024-07-02  2024-07-03  2024-07-04  2024-07-05  \\\n",
      "turno                                                                       \n",
      "NOT                   NaN         NaN         NaN         NaN         NaN   \n",
      "MAT                   NaN         NaN         NaN         NaN         NaN   \n",
      "VES                   NaN         NaN         NaN         NaN         NaN   \n",
      "\n",
      "data_registro  2024-07-06  2024-07-07  2024-07-08  2024-07-09  2024-07-10  \\\n",
      "turno                                                                       \n",
      "NOT                   NaN         NaN         NaN         NaN         NaN   \n",
      "MAT                   NaN         NaN         NaN         NaN         NaN   \n",
      "VES                   NaN         NaN         NaN         NaN         NaN   \n",
      "\n",
      "data_registro  ...  2024-07-22  2024-07-23  2024-07-24  2024-07-25  \\\n",
      "turno          ...                                                   \n",
      "NOT            ...         NaN         NaN         NaN         NaN   \n",
      "MAT            ...         NaN         NaN         NaN         NaN   \n",
      "VES            ...         NaN         NaN         NaN         NaN   \n",
      "\n",
      "data_registro  2024-07-26  2024-07-27  2024-07-28  2024-07-29  2024-07-30  \\\n",
      "turno                                                                       \n",
      "NOT                   NaN         NaN         NaN         NaN         NaN   \n",
      "MAT                   NaN         NaN         NaN         NaN         NaN   \n",
      "VES                   NaN         NaN         NaN         NaN         NaN   \n",
      "\n",
      "data_registro  2024-07-31  \n",
      "turno                      \n",
      "NOT                   NaN  \n",
      "MAT                   NaN  \n",
      "VES                   NaN  \n",
      "\n",
      "[3 rows x 31 columns]\n"
     ]
    },
    {
     "data": {
      "text/html": [
       "<div>\n",
       "<style scoped>\n",
       "    .dataframe tbody tr th:only-of-type {\n",
       "        vertical-align: middle;\n",
       "    }\n",
       "\n",
       "    .dataframe tbody tr th {\n",
       "        vertical-align: top;\n",
       "    }\n",
       "\n",
       "    .dataframe thead th {\n",
       "        text-align: right;\n",
       "    }\n",
       "</style>\n",
       "<table border=\"1\" class=\"dataframe\">\n",
       "  <thead>\n",
       "    <tr style=\"text-align: right;\">\n",
       "      <th>data_registro</th>\n",
       "      <th>2024-07-01</th>\n",
       "      <th>2024-07-02</th>\n",
       "      <th>2024-07-03</th>\n",
       "      <th>2024-07-04</th>\n",
       "      <th>2024-07-05</th>\n",
       "      <th>2024-07-06</th>\n",
       "      <th>2024-07-07</th>\n",
       "      <th>2024-07-08</th>\n",
       "      <th>2024-07-09</th>\n",
       "      <th>2024-07-10</th>\n",
       "      <th>...</th>\n",
       "      <th>2024-07-22</th>\n",
       "      <th>2024-07-23</th>\n",
       "      <th>2024-07-24</th>\n",
       "      <th>2024-07-25</th>\n",
       "      <th>2024-07-26</th>\n",
       "      <th>2024-07-27</th>\n",
       "      <th>2024-07-28</th>\n",
       "      <th>2024-07-29</th>\n",
       "      <th>2024-07-30</th>\n",
       "      <th>2024-07-31</th>\n",
       "    </tr>\n",
       "    <tr>\n",
       "      <th>turno</th>\n",
       "      <th></th>\n",
       "      <th></th>\n",
       "      <th></th>\n",
       "      <th></th>\n",
       "      <th></th>\n",
       "      <th></th>\n",
       "      <th></th>\n",
       "      <th></th>\n",
       "      <th></th>\n",
       "      <th></th>\n",
       "      <th></th>\n",
       "      <th></th>\n",
       "      <th></th>\n",
       "      <th></th>\n",
       "      <th></th>\n",
       "      <th></th>\n",
       "      <th></th>\n",
       "      <th></th>\n",
       "      <th></th>\n",
       "      <th></th>\n",
       "      <th></th>\n",
       "    </tr>\n",
       "  </thead>\n",
       "  <tbody>\n",
       "    <tr>\n",
       "      <th>NOT</th>\n",
       "      <td>NaN</td>\n",
       "      <td>NaN</td>\n",
       "      <td>NaN</td>\n",
       "      <td>NaN</td>\n",
       "      <td>NaN</td>\n",
       "      <td>NaN</td>\n",
       "      <td>NaN</td>\n",
       "      <td>NaN</td>\n",
       "      <td>NaN</td>\n",
       "      <td>NaN</td>\n",
       "      <td>...</td>\n",
       "      <td>NaN</td>\n",
       "      <td>NaN</td>\n",
       "      <td>NaN</td>\n",
       "      <td>NaN</td>\n",
       "      <td>NaN</td>\n",
       "      <td>NaN</td>\n",
       "      <td>NaN</td>\n",
       "      <td>NaN</td>\n",
       "      <td>NaN</td>\n",
       "      <td>NaN</td>\n",
       "    </tr>\n",
       "    <tr>\n",
       "      <th>MAT</th>\n",
       "      <td>NaN</td>\n",
       "      <td>NaN</td>\n",
       "      <td>NaN</td>\n",
       "      <td>NaN</td>\n",
       "      <td>NaN</td>\n",
       "      <td>NaN</td>\n",
       "      <td>NaN</td>\n",
       "      <td>NaN</td>\n",
       "      <td>NaN</td>\n",
       "      <td>NaN</td>\n",
       "      <td>...</td>\n",
       "      <td>NaN</td>\n",
       "      <td>NaN</td>\n",
       "      <td>NaN</td>\n",
       "      <td>NaN</td>\n",
       "      <td>NaN</td>\n",
       "      <td>NaN</td>\n",
       "      <td>NaN</td>\n",
       "      <td>NaN</td>\n",
       "      <td>NaN</td>\n",
       "      <td>NaN</td>\n",
       "    </tr>\n",
       "    <tr>\n",
       "      <th>VES</th>\n",
       "      <td>NaN</td>\n",
       "      <td>NaN</td>\n",
       "      <td>NaN</td>\n",
       "      <td>NaN</td>\n",
       "      <td>NaN</td>\n",
       "      <td>NaN</td>\n",
       "      <td>NaN</td>\n",
       "      <td>NaN</td>\n",
       "      <td>NaN</td>\n",
       "      <td>NaN</td>\n",
       "      <td>...</td>\n",
       "      <td>NaN</td>\n",
       "      <td>NaN</td>\n",
       "      <td>NaN</td>\n",
       "      <td>NaN</td>\n",
       "      <td>NaN</td>\n",
       "      <td>NaN</td>\n",
       "      <td>NaN</td>\n",
       "      <td>NaN</td>\n",
       "      <td>NaN</td>\n",
       "      <td>NaN</td>\n",
       "    </tr>\n",
       "  </tbody>\n",
       "</table>\n",
       "<p>3 rows × 31 columns</p>\n",
       "</div>"
      ],
      "text/plain": [
       "data_registro  2024-07-01  2024-07-02  2024-07-03  2024-07-04  2024-07-05  \\\n",
       "turno                                                                       \n",
       "NOT                   NaN         NaN         NaN         NaN         NaN   \n",
       "MAT                   NaN         NaN         NaN         NaN         NaN   \n",
       "VES                   NaN         NaN         NaN         NaN         NaN   \n",
       "\n",
       "data_registro  2024-07-06  2024-07-07  2024-07-08  2024-07-09  2024-07-10  \\\n",
       "turno                                                                       \n",
       "NOT                   NaN         NaN         NaN         NaN         NaN   \n",
       "MAT                   NaN         NaN         NaN         NaN         NaN   \n",
       "VES                   NaN         NaN         NaN         NaN         NaN   \n",
       "\n",
       "data_registro  ...  2024-07-22  2024-07-23  2024-07-24  2024-07-25  \\\n",
       "turno          ...                                                   \n",
       "NOT            ...         NaN         NaN         NaN         NaN   \n",
       "MAT            ...         NaN         NaN         NaN         NaN   \n",
       "VES            ...         NaN         NaN         NaN         NaN   \n",
       "\n",
       "data_registro  2024-07-26  2024-07-27  2024-07-28  2024-07-29  2024-07-30  \\\n",
       "turno                                                                       \n",
       "NOT                   NaN         NaN         NaN         NaN         NaN   \n",
       "MAT                   NaN         NaN         NaN         NaN         NaN   \n",
       "VES                   NaN         NaN         NaN         NaN         NaN   \n",
       "\n",
       "data_registro  2024-07-31  \n",
       "turno                      \n",
       "NOT                   NaN  \n",
       "MAT                   NaN  \n",
       "VES                   NaN  \n",
       "\n",
       "[3 rows x 31 columns]"
      ]
     },
     "execution_count": 33,
     "metadata": {},
     "output_type": "execute_result"
    }
   ],
   "source": [
    "heat_main\n"
   ]
  },
  {
   "cell_type": "code",
   "execution_count": 34,
   "metadata": {},
   "outputs": [
    {
     "data": {
      "text/plain": [
       "[{'x': 12,\n",
       "  'y': 1,\n",
       "  'text': '34.0%',\n",
       "  'xref': 'x',\n",
       "  'yref': 'y',\n",
       "  'showarrow': False,\n",
       "  'font': {'size': 10, 'color': 'white'}},\n",
       " {'x': 13,\n",
       "  'y': 1,\n",
       "  'text': '10.0%',\n",
       "  'xref': 'x',\n",
       "  'yref': 'y',\n",
       "  'showarrow': False,\n",
       "  'font': {'size': 10, 'color': 'white'}},\n",
       " {'x': 12,\n",
       "  'y': 2,\n",
       "  'text': '81.0%',\n",
       "  'xref': 'x',\n",
       "  'yref': 'y',\n",
       "  'showarrow': False,\n",
       "  'font': {'size': 10, 'color': 'white'}},\n",
       " {'x': 13,\n",
       "  'y': 2,\n",
       "  'text': '2.0%',\n",
       "  'xref': 'x',\n",
       "  'yref': 'y',\n",
       "  'showarrow': False,\n",
       "  'font': {'size': 10, 'color': 'white'}},\n",
       " {'x': 12,\n",
       "  'y': 3,\n",
       "  'text': '2.0%',\n",
       "  'xref': 'x',\n",
       "  'yref': 'y',\n",
       "  'showarrow': False,\n",
       "  'font': {'size': 10, 'color': 'white'}},\n",
       " {'x': 13,\n",
       "  'y': 3,\n",
       "  'text': '21.0%',\n",
       "  'xref': 'x',\n",
       "  'yref': 'y',\n",
       "  'showarrow': False,\n",
       "  'font': {'size': 10, 'color': 'white'}},\n",
       " {'x': 12,\n",
       "  'y': 4,\n",
       "  'text': '59.0%',\n",
       "  'xref': 'x',\n",
       "  'yref': 'y',\n",
       "  'showarrow': False,\n",
       "  'font': {'size': 10, 'color': 'white'}},\n",
       " {'x': 13,\n",
       "  'y': 4,\n",
       "  'text': '0.0%',\n",
       "  'xref': 'x',\n",
       "  'yref': 'y',\n",
       "  'showarrow': False,\n",
       "  'font': {'size': 10, 'color': 'white'}},\n",
       " {'x': 12,\n",
       "  'y': 5,\n",
       "  'text': '100.0%',\n",
       "  'xref': 'x',\n",
       "  'yref': 'y',\n",
       "  'showarrow': False,\n",
       "  'font': {'size': 10, 'color': 'white'}},\n",
       " {'x': 13,\n",
       "  'y': 5,\n",
       "  'text': '100.0%',\n",
       "  'xref': 'x',\n",
       "  'yref': 'y',\n",
       "  'showarrow': False,\n",
       "  'font': {'size': 10, 'color': 'white'}},\n",
       " {'x': 12,\n",
       "  'y': 6,\n",
       "  'text': '100.0%',\n",
       "  'xref': 'x',\n",
       "  'yref': 'y',\n",
       "  'showarrow': False,\n",
       "  'font': {'size': 10, 'color': 'white'}},\n",
       " {'x': 13,\n",
       "  'y': 6,\n",
       "  'text': '100.0%',\n",
       "  'xref': 'x',\n",
       "  'yref': 'y',\n",
       "  'showarrow': False,\n",
       "  'font': {'size': 10, 'color': 'white'}},\n",
       " {'x': 12,\n",
       "  'y': 7,\n",
       "  'text': '19.0%',\n",
       "  'xref': 'x',\n",
       "  'yref': 'y',\n",
       "  'showarrow': False,\n",
       "  'font': {'size': 10, 'color': 'white'}},\n",
       " {'x': 13,\n",
       "  'y': 7,\n",
       "  'text': '2.0%',\n",
       "  'xref': 'x',\n",
       "  'yref': 'y',\n",
       "  'showarrow': False,\n",
       "  'font': {'size': 10, 'color': 'white'}},\n",
       " {'x': 12,\n",
       "  'y': 8,\n",
       "  'text': '82.0%',\n",
       "  'xref': 'x',\n",
       "  'yref': 'y',\n",
       "  'showarrow': False,\n",
       "  'font': {'size': 10, 'color': 'white'}},\n",
       " {'x': 13,\n",
       "  'y': 8,\n",
       "  'text': '14.0%',\n",
       "  'xref': 'x',\n",
       "  'yref': 'y',\n",
       "  'showarrow': False,\n",
       "  'font': {'size': 10, 'color': 'white'}},\n",
       " {'x': 12,\n",
       "  'y': 9,\n",
       "  'text': '73.0%',\n",
       "  'xref': 'x',\n",
       "  'yref': 'y',\n",
       "  'showarrow': False,\n",
       "  'font': {'size': 10, 'color': 'white'}},\n",
       " {'x': 13,\n",
       "  'y': 9,\n",
       "  'text': '0.0%',\n",
       "  'xref': 'x',\n",
       "  'yref': 'y',\n",
       "  'showarrow': False,\n",
       "  'font': {'size': 10, 'color': 'white'}},\n",
       " {'x': 13,\n",
       "  'y': 10,\n",
       "  'text': '0.0%',\n",
       "  'xref': 'x',\n",
       "  'yref': 'y',\n",
       "  'showarrow': False,\n",
       "  'font': {'size': 10, 'color': 'white'}},\n",
       " {'x': 12,\n",
       "  'y': 11,\n",
       "  'text': '3.0%',\n",
       "  'xref': 'x',\n",
       "  'yref': 'y',\n",
       "  'showarrow': False,\n",
       "  'font': {'size': 10, 'color': 'white'}},\n",
       " {'x': 13,\n",
       "  'y': 11,\n",
       "  'text': '12.0%',\n",
       "  'xref': 'x',\n",
       "  'yref': 'y',\n",
       "  'showarrow': False,\n",
       "  'font': {'size': 10, 'color': 'white'}},\n",
       " {'x': 12,\n",
       "  'y': 12,\n",
       "  'text': '18.0%',\n",
       "  'xref': 'x',\n",
       "  'yref': 'y',\n",
       "  'showarrow': False,\n",
       "  'font': {'size': 10, 'color': 'white'}},\n",
       " {'x': 13,\n",
       "  'y': 12,\n",
       "  'text': '0.0%',\n",
       "  'xref': 'x',\n",
       "  'yref': 'y',\n",
       "  'showarrow': False,\n",
       "  'font': {'size': 10, 'color': 'white'}},\n",
       " {'x': 12,\n",
       "  'y': 13,\n",
       "  'text': '5.0%',\n",
       "  'xref': 'x',\n",
       "  'yref': 'y',\n",
       "  'showarrow': False,\n",
       "  'font': {'size': 10, 'color': 'white'}},\n",
       " {'x': 13,\n",
       "  'y': 13,\n",
       "  'text': '10.0%',\n",
       "  'xref': 'x',\n",
       "  'yref': 'y',\n",
       "  'showarrow': False,\n",
       "  'font': {'size': 10, 'color': 'white'}},\n",
       " {'x': 12,\n",
       "  'y': 14,\n",
       "  'text': '100.0%',\n",
       "  'xref': 'x',\n",
       "  'yref': 'y',\n",
       "  'showarrow': False,\n",
       "  'font': {'size': 10, 'color': 'white'}},\n",
       " {'x': 13,\n",
       "  'y': 14,\n",
       "  'text': '100.0%',\n",
       "  'xref': 'x',\n",
       "  'yref': 'y',\n",
       "  'showarrow': False,\n",
       "  'font': {'size': 10, 'color': 'white'}}]"
      ]
     },
     "execution_count": 34,
     "metadata": {},
     "output_type": "execute_result"
    }
   ],
   "source": [
    "annotations_noturno, annotations_matutino, annotations_vespertino, _ = (\n",
    "    indicators_class.get_annotations(IndicatorType.PERFORMANCE)\n",
    ")\n",
    "annotations_noturno"
   ]
  },
  {
   "cell_type": "markdown",
   "metadata": {},
   "source": [
    "# Gráficos\n"
   ]
  },
  {
   "cell_type": "markdown",
   "metadata": {},
   "source": [
    "## Gauge\n"
   ]
  },
  {
   "cell_type": "code",
   "execution_count": 35,
   "metadata": {},
   "outputs": [],
   "source": [
    "class Gauge:\n",
    "\n",
    "    def __init__(self):\n",
    "        self.danger = BSColorsEnum.DANGER_COLOR.value\n",
    "        self.success = BSColorsEnum.SUCCESS_COLOR.value\n",
    "\n",
    "    def create_gauge(\n",
    "        self,\n",
    "        df: pd.DataFrame,\n",
    "        indicator: IndicatorType,\n",
    "        meta: int,\n",
    "        template: str = None,\n",
    "        this_month: bool = True,\n",
    "    ):\n",
    "\n",
    "        month = \"Mês Atual\" if this_month else \"Mês Anterior\"\n",
    "\n",
    "        # Calcula a porcentagem de acordo com o indicador\n",
    "        percentage = df[indicator.value].mean() if this_month else df[indicator.value].iloc[-1]\n",
    "        percentage = percentage if percentage is not None else 0\n",
    "\n",
    "        # Arredonda o valor da porcentagem\n",
    "        percentage = round(percentage, 2)\n",
    "\n",
    "        # Define a cor de acordo com a porcentagem\n",
    "        color = self.danger if percentage > (meta / 100) else self.success\n",
    "\n",
    "        if indicator == IndicatorType.EFFICIENCY:\n",
    "            color = self.success if percentage >= (meta / 100) else self.danger\n",
    "\n",
    "        # Definis a escala\n",
    "        axis_range = [0, 100] if indicator == IndicatorType.EFFICIENCY else [40, 0]\n",
    "\n",
    "        # Criar o gráfico\n",
    "        figure = go.Figure(\n",
    "            go.Indicator(\n",
    "                mode=\"gauge+number\",\n",
    "                value=percentage * 100,\n",
    "                number={\"suffix\": \"%\"},\n",
    "                domain={\"x\": [0, 1], \"y\": [0, 1]},\n",
    "                title={\"text\": f\"{month}\", \"font\": {\"size\": 14}},\n",
    "                gauge={\n",
    "                    \"axis\": {\n",
    "                        \"range\": axis_range,\n",
    "                        \"tickfont\": {\"size\": 8},\n",
    "                    },\n",
    "                    \"bar\": {\"color\": color},\n",
    "                    \"steps\": [\n",
    "                        {\"range\": [0, 100], \"color\": \"lightgray\"},\n",
    "                    ],\n",
    "                    \"threshold\": {\n",
    "                        \"line\": {\"color\": \"black\", \"width\": 2},\n",
    "                        \"thickness\": 0.75,\n",
    "                        \"value\": meta,\n",
    "                    },\n",
    "                },\n",
    "            )\n",
    "        )\n",
    "\n",
    "        figure.update_layout(\n",
    "            autosize=True,\n",
    "            margin=dict(t=30, b=30, l=30, r=30),\n",
    "            plot_bgcolor=\"white\",\n",
    "            height=250,\n",
    "            font=dict({\"family\": \"Inter\"}),\n",
    "        )\n",
    "\n",
    "        return figure\n",
    "\n",
    "\n",
    "gauge = Gauge()"
   ]
  },
  {
   "cell_type": "code",
   "execution_count": 36,
   "metadata": {},
   "outputs": [
    {
     "data": {
      "application/vnd.plotly.v1+json": {
       "config": {
        "plotlyServerURL": "https://plot.ly"
       },
       "data": [
        {
         "domain": {
          "x": [
           0,
           1
          ],
          "y": [
           0,
           1
          ]
         },
         "gauge": {
          "axis": {
           "range": [
            0,
            100
           ],
           "tickfont": {
            "size": 8
           }
          },
          "bar": {
           "color": "#dc3545"
          },
          "steps": [
           {
            "color": "lightgray",
            "range": [
             0,
             100
            ]
           }
          ],
          "threshold": {
           "line": {
            "color": "black",
            "width": 2
           },
           "thickness": 0.75,
           "value": 85
          }
         },
         "mode": "gauge+number",
         "number": {
          "suffix": "%"
         },
         "title": {
          "font": {
           "size": 14
          },
          "text": "Mês Atual"
         },
         "type": "indicator",
         "value": 55.00000000000001
        }
       ],
       "layout": {
        "autosize": true,
        "font": {
         "family": "Inter"
        },
        "height": 250,
        "margin": {
         "b": 30,
         "l": 30,
         "r": 30,
         "t": 30
        },
        "plot_bgcolor": "white",
        "template": {
         "data": {
          "bar": [
           {
            "error_x": {
             "color": "#2a3f5f"
            },
            "error_y": {
             "color": "#2a3f5f"
            },
            "marker": {
             "line": {
              "color": "#E5ECF6",
              "width": 0.5
             },
             "pattern": {
              "fillmode": "overlay",
              "size": 10,
              "solidity": 0.2
             }
            },
            "type": "bar"
           }
          ],
          "barpolar": [
           {
            "marker": {
             "line": {
              "color": "#E5ECF6",
              "width": 0.5
             },
             "pattern": {
              "fillmode": "overlay",
              "size": 10,
              "solidity": 0.2
             }
            },
            "type": "barpolar"
           }
          ],
          "carpet": [
           {
            "aaxis": {
             "endlinecolor": "#2a3f5f",
             "gridcolor": "white",
             "linecolor": "white",
             "minorgridcolor": "white",
             "startlinecolor": "#2a3f5f"
            },
            "baxis": {
             "endlinecolor": "#2a3f5f",
             "gridcolor": "white",
             "linecolor": "white",
             "minorgridcolor": "white",
             "startlinecolor": "#2a3f5f"
            },
            "type": "carpet"
           }
          ],
          "choropleth": [
           {
            "colorbar": {
             "outlinewidth": 0,
             "ticks": ""
            },
            "type": "choropleth"
           }
          ],
          "contour": [
           {
            "colorbar": {
             "outlinewidth": 0,
             "ticks": ""
            },
            "colorscale": [
             [
              0,
              "#0d0887"
             ],
             [
              0.1111111111111111,
              "#46039f"
             ],
             [
              0.2222222222222222,
              "#7201a8"
             ],
             [
              0.3333333333333333,
              "#9c179e"
             ],
             [
              0.4444444444444444,
              "#bd3786"
             ],
             [
              0.5555555555555556,
              "#d8576b"
             ],
             [
              0.6666666666666666,
              "#ed7953"
             ],
             [
              0.7777777777777778,
              "#fb9f3a"
             ],
             [
              0.8888888888888888,
              "#fdca26"
             ],
             [
              1,
              "#f0f921"
             ]
            ],
            "type": "contour"
           }
          ],
          "contourcarpet": [
           {
            "colorbar": {
             "outlinewidth": 0,
             "ticks": ""
            },
            "type": "contourcarpet"
           }
          ],
          "heatmap": [
           {
            "colorbar": {
             "outlinewidth": 0,
             "ticks": ""
            },
            "colorscale": [
             [
              0,
              "#0d0887"
             ],
             [
              0.1111111111111111,
              "#46039f"
             ],
             [
              0.2222222222222222,
              "#7201a8"
             ],
             [
              0.3333333333333333,
              "#9c179e"
             ],
             [
              0.4444444444444444,
              "#bd3786"
             ],
             [
              0.5555555555555556,
              "#d8576b"
             ],
             [
              0.6666666666666666,
              "#ed7953"
             ],
             [
              0.7777777777777778,
              "#fb9f3a"
             ],
             [
              0.8888888888888888,
              "#fdca26"
             ],
             [
              1,
              "#f0f921"
             ]
            ],
            "type": "heatmap"
           }
          ],
          "heatmapgl": [
           {
            "colorbar": {
             "outlinewidth": 0,
             "ticks": ""
            },
            "colorscale": [
             [
              0,
              "#0d0887"
             ],
             [
              0.1111111111111111,
              "#46039f"
             ],
             [
              0.2222222222222222,
              "#7201a8"
             ],
             [
              0.3333333333333333,
              "#9c179e"
             ],
             [
              0.4444444444444444,
              "#bd3786"
             ],
             [
              0.5555555555555556,
              "#d8576b"
             ],
             [
              0.6666666666666666,
              "#ed7953"
             ],
             [
              0.7777777777777778,
              "#fb9f3a"
             ],
             [
              0.8888888888888888,
              "#fdca26"
             ],
             [
              1,
              "#f0f921"
             ]
            ],
            "type": "heatmapgl"
           }
          ],
          "histogram": [
           {
            "marker": {
             "pattern": {
              "fillmode": "overlay",
              "size": 10,
              "solidity": 0.2
             }
            },
            "type": "histogram"
           }
          ],
          "histogram2d": [
           {
            "colorbar": {
             "outlinewidth": 0,
             "ticks": ""
            },
            "colorscale": [
             [
              0,
              "#0d0887"
             ],
             [
              0.1111111111111111,
              "#46039f"
             ],
             [
              0.2222222222222222,
              "#7201a8"
             ],
             [
              0.3333333333333333,
              "#9c179e"
             ],
             [
              0.4444444444444444,
              "#bd3786"
             ],
             [
              0.5555555555555556,
              "#d8576b"
             ],
             [
              0.6666666666666666,
              "#ed7953"
             ],
             [
              0.7777777777777778,
              "#fb9f3a"
             ],
             [
              0.8888888888888888,
              "#fdca26"
             ],
             [
              1,
              "#f0f921"
             ]
            ],
            "type": "histogram2d"
           }
          ],
          "histogram2dcontour": [
           {
            "colorbar": {
             "outlinewidth": 0,
             "ticks": ""
            },
            "colorscale": [
             [
              0,
              "#0d0887"
             ],
             [
              0.1111111111111111,
              "#46039f"
             ],
             [
              0.2222222222222222,
              "#7201a8"
             ],
             [
              0.3333333333333333,
              "#9c179e"
             ],
             [
              0.4444444444444444,
              "#bd3786"
             ],
             [
              0.5555555555555556,
              "#d8576b"
             ],
             [
              0.6666666666666666,
              "#ed7953"
             ],
             [
              0.7777777777777778,
              "#fb9f3a"
             ],
             [
              0.8888888888888888,
              "#fdca26"
             ],
             [
              1,
              "#f0f921"
             ]
            ],
            "type": "histogram2dcontour"
           }
          ],
          "mesh3d": [
           {
            "colorbar": {
             "outlinewidth": 0,
             "ticks": ""
            },
            "type": "mesh3d"
           }
          ],
          "parcoords": [
           {
            "line": {
             "colorbar": {
              "outlinewidth": 0,
              "ticks": ""
             }
            },
            "type": "parcoords"
           }
          ],
          "pie": [
           {
            "automargin": true,
            "type": "pie"
           }
          ],
          "scatter": [
           {
            "fillpattern": {
             "fillmode": "overlay",
             "size": 10,
             "solidity": 0.2
            },
            "type": "scatter"
           }
          ],
          "scatter3d": [
           {
            "line": {
             "colorbar": {
              "outlinewidth": 0,
              "ticks": ""
             }
            },
            "marker": {
             "colorbar": {
              "outlinewidth": 0,
              "ticks": ""
             }
            },
            "type": "scatter3d"
           }
          ],
          "scattercarpet": [
           {
            "marker": {
             "colorbar": {
              "outlinewidth": 0,
              "ticks": ""
             }
            },
            "type": "scattercarpet"
           }
          ],
          "scattergeo": [
           {
            "marker": {
             "colorbar": {
              "outlinewidth": 0,
              "ticks": ""
             }
            },
            "type": "scattergeo"
           }
          ],
          "scattergl": [
           {
            "marker": {
             "colorbar": {
              "outlinewidth": 0,
              "ticks": ""
             }
            },
            "type": "scattergl"
           }
          ],
          "scattermapbox": [
           {
            "marker": {
             "colorbar": {
              "outlinewidth": 0,
              "ticks": ""
             }
            },
            "type": "scattermapbox"
           }
          ],
          "scatterpolar": [
           {
            "marker": {
             "colorbar": {
              "outlinewidth": 0,
              "ticks": ""
             }
            },
            "type": "scatterpolar"
           }
          ],
          "scatterpolargl": [
           {
            "marker": {
             "colorbar": {
              "outlinewidth": 0,
              "ticks": ""
             }
            },
            "type": "scatterpolargl"
           }
          ],
          "scatterternary": [
           {
            "marker": {
             "colorbar": {
              "outlinewidth": 0,
              "ticks": ""
             }
            },
            "type": "scatterternary"
           }
          ],
          "surface": [
           {
            "colorbar": {
             "outlinewidth": 0,
             "ticks": ""
            },
            "colorscale": [
             [
              0,
              "#0d0887"
             ],
             [
              0.1111111111111111,
              "#46039f"
             ],
             [
              0.2222222222222222,
              "#7201a8"
             ],
             [
              0.3333333333333333,
              "#9c179e"
             ],
             [
              0.4444444444444444,
              "#bd3786"
             ],
             [
              0.5555555555555556,
              "#d8576b"
             ],
             [
              0.6666666666666666,
              "#ed7953"
             ],
             [
              0.7777777777777778,
              "#fb9f3a"
             ],
             [
              0.8888888888888888,
              "#fdca26"
             ],
             [
              1,
              "#f0f921"
             ]
            ],
            "type": "surface"
           }
          ],
          "table": [
           {
            "cells": {
             "fill": {
              "color": "#EBF0F8"
             },
             "line": {
              "color": "white"
             }
            },
            "header": {
             "fill": {
              "color": "#C8D4E3"
             },
             "line": {
              "color": "white"
             }
            },
            "type": "table"
           }
          ]
         },
         "layout": {
          "annotationdefaults": {
           "arrowcolor": "#2a3f5f",
           "arrowhead": 0,
           "arrowwidth": 1
          },
          "autotypenumbers": "strict",
          "coloraxis": {
           "colorbar": {
            "outlinewidth": 0,
            "ticks": ""
           }
          },
          "colorscale": {
           "diverging": [
            [
             0,
             "#8e0152"
            ],
            [
             0.1,
             "#c51b7d"
            ],
            [
             0.2,
             "#de77ae"
            ],
            [
             0.3,
             "#f1b6da"
            ],
            [
             0.4,
             "#fde0ef"
            ],
            [
             0.5,
             "#f7f7f7"
            ],
            [
             0.6,
             "#e6f5d0"
            ],
            [
             0.7,
             "#b8e186"
            ],
            [
             0.8,
             "#7fbc41"
            ],
            [
             0.9,
             "#4d9221"
            ],
            [
             1,
             "#276419"
            ]
           ],
           "sequential": [
            [
             0,
             "#0d0887"
            ],
            [
             0.1111111111111111,
             "#46039f"
            ],
            [
             0.2222222222222222,
             "#7201a8"
            ],
            [
             0.3333333333333333,
             "#9c179e"
            ],
            [
             0.4444444444444444,
             "#bd3786"
            ],
            [
             0.5555555555555556,
             "#d8576b"
            ],
            [
             0.6666666666666666,
             "#ed7953"
            ],
            [
             0.7777777777777778,
             "#fb9f3a"
            ],
            [
             0.8888888888888888,
             "#fdca26"
            ],
            [
             1,
             "#f0f921"
            ]
           ],
           "sequentialminus": [
            [
             0,
             "#0d0887"
            ],
            [
             0.1111111111111111,
             "#46039f"
            ],
            [
             0.2222222222222222,
             "#7201a8"
            ],
            [
             0.3333333333333333,
             "#9c179e"
            ],
            [
             0.4444444444444444,
             "#bd3786"
            ],
            [
             0.5555555555555556,
             "#d8576b"
            ],
            [
             0.6666666666666666,
             "#ed7953"
            ],
            [
             0.7777777777777778,
             "#fb9f3a"
            ],
            [
             0.8888888888888888,
             "#fdca26"
            ],
            [
             1,
             "#f0f921"
            ]
           ]
          },
          "colorway": [
           "#636efa",
           "#EF553B",
           "#00cc96",
           "#ab63fa",
           "#FFA15A",
           "#19d3f3",
           "#FF6692",
           "#B6E880",
           "#FF97FF",
           "#FECB52"
          ],
          "font": {
           "color": "#2a3f5f"
          },
          "geo": {
           "bgcolor": "white",
           "lakecolor": "white",
           "landcolor": "#E5ECF6",
           "showlakes": true,
           "showland": true,
           "subunitcolor": "white"
          },
          "hoverlabel": {
           "align": "left"
          },
          "hovermode": "closest",
          "mapbox": {
           "style": "light"
          },
          "paper_bgcolor": "white",
          "plot_bgcolor": "#E5ECF6",
          "polar": {
           "angularaxis": {
            "gridcolor": "white",
            "linecolor": "white",
            "ticks": ""
           },
           "bgcolor": "#E5ECF6",
           "radialaxis": {
            "gridcolor": "white",
            "linecolor": "white",
            "ticks": ""
           }
          },
          "scene": {
           "xaxis": {
            "backgroundcolor": "#E5ECF6",
            "gridcolor": "white",
            "gridwidth": 2,
            "linecolor": "white",
            "showbackground": true,
            "ticks": "",
            "zerolinecolor": "white"
           },
           "yaxis": {
            "backgroundcolor": "#E5ECF6",
            "gridcolor": "white",
            "gridwidth": 2,
            "linecolor": "white",
            "showbackground": true,
            "ticks": "",
            "zerolinecolor": "white"
           },
           "zaxis": {
            "backgroundcolor": "#E5ECF6",
            "gridcolor": "white",
            "gridwidth": 2,
            "linecolor": "white",
            "showbackground": true,
            "ticks": "",
            "zerolinecolor": "white"
           }
          },
          "shapedefaults": {
           "line": {
            "color": "#2a3f5f"
           }
          },
          "ternary": {
           "aaxis": {
            "gridcolor": "white",
            "linecolor": "white",
            "ticks": ""
           },
           "baxis": {
            "gridcolor": "white",
            "linecolor": "white",
            "ticks": ""
           },
           "bgcolor": "#E5ECF6",
           "caxis": {
            "gridcolor": "white",
            "linecolor": "white",
            "ticks": ""
           }
          },
          "title": {
           "x": 0.05
          },
          "xaxis": {
           "automargin": true,
           "gridcolor": "white",
           "linecolor": "white",
           "ticks": "",
           "title": {
            "standoff": 15
           },
           "zerolinecolor": "white",
           "zerolinewidth": 2
          },
          "yaxis": {
           "automargin": true,
           "gridcolor": "white",
           "linecolor": "white",
           "ticks": "",
           "title": {
            "standoff": 15
           },
           "zerolinecolor": "white",
           "zerolinewidth": 2
          }
         }
        }
       }
      }
     },
     "metadata": {},
     "output_type": "display_data"
    }
   ],
   "source": [
    "gauge_fig = gauge.create_gauge(df_eff, IndicatorType.EFFICIENCY, 85)\n",
    "gauge_fig"
   ]
  },
  {
   "cell_type": "markdown",
   "metadata": {},
   "source": [
    "## Heatmap\n"
   ]
  },
  {
   "cell_type": "code",
   "execution_count": 37,
   "metadata": {},
   "outputs": [],
   "source": [
    "class Heatmap:\n",
    "    \"\"\"\n",
    "    A class representing a heatmap graph.\n",
    "\n",
    "    Attributes:\n",
    "        danger (str): The color value for the danger indicator.\n",
    "        success (str): The color value for the success indicator.\n",
    "\n",
    "    Methods:\n",
    "        create_heatmap: Create a heatmap graph based on the provided data.\n",
    "    \"\"\"\n",
    "\n",
    "    def __init__(self):\n",
    "        self.danger = BSColorsEnum.DANGER_COLOR.value\n",
    "        self.success = BSColorsEnum.SUCCESS_COLOR.value\n",
    "\n",
    "    def create_heatmap(\n",
    "        self,\n",
    "        dataframe: pd.DataFrame,\n",
    "        annotations: list,\n",
    "        indicator: IndicatorType,\n",
    "        meta: int,\n",
    "        template: str = None,\n",
    "        turn: str = False,\n",
    "    ):\n",
    "        \"\"\"\n",
    "        Create a heatmap graph based on the provided data.\n",
    "\n",
    "        Args:\n",
    "            dataframe (pd.DataFrame): The data to be visualized in the heatmap.\n",
    "            annotations (list): List of annotations to be displayed on the heatmap.\n",
    "            indicator (IndicatorType): The type of indicator to be visualized.\n",
    "            meta (int): The meta value for the indicator.\n",
    "            template (str, optional): The template to be used for the graph. Defaults to None.\n",
    "            turn (str, optional): Whether to display the heatmap by turn or not. Defaults to False.\n",
    "\n",
    "        Returns:\n",
    "            dcc.Graph: The heatmap graph.\n",
    "        \"\"\"\n",
    "\n",
    "        # Meta p/ uso em cores\n",
    "        color_meta = meta / 100\n",
    "\n",
    "        # Cria escala de cores\n",
    "        color_scale = {\n",
    "            IndicatorType.EFFICIENCY: [\n",
    "                [0, self.danger],\n",
    "                [color_meta, self.danger],\n",
    "                [color_meta, self.success],\n",
    "                [1, self.success],\n",
    "            ],\n",
    "            IndicatorType.PERFORMANCE: [\n",
    "                [0, self.success],\n",
    "                [color_meta, self.success],\n",
    "                [color_meta, self.danger],\n",
    "                [1, self.danger],\n",
    "            ],\n",
    "            IndicatorType.REPAIR: [\n",
    "                [0, self.success],\n",
    "                [color_meta, self.success],\n",
    "                [color_meta, self.danger],\n",
    "                [1, self.danger],\n",
    "            ],\n",
    "        }\n",
    "\n",
    "        # Extrai apenas o dia da data\n",
    "        dataframe.columns = pd.to_datetime(dataframe.columns).day\n",
    "\n",
    "        # Cria o hover data\n",
    "        hover_data = (\n",
    "            f\"Turno: %{{y}}<br>Dia: %{{x}}<br>{indicator.value.capitalize()}: %{{z:.1%}}\"\n",
    "            if not turn\n",
    "            else f\"Linha: %{{y}}<br>Dia: %{{x}}<br>{indicator.value.capitalize()}: %{{z:.1%}}\"\n",
    "        )\n",
    "\n",
    "        tick_color = \"gray\"\n",
    "\n",
    "        # Cria o heatmap\n",
    "        figure = go.Figure(\n",
    "            data=go.Heatmap(\n",
    "                z=dataframe.values,\n",
    "                x=dataframe.columns,\n",
    "                y=dataframe.index,\n",
    "                colorscale=color_scale[indicator],\n",
    "                name=indicator.value.capitalize(),\n",
    "                zmin=0,\n",
    "                zmax=1,\n",
    "                hoverongaps=False,\n",
    "                hovertemplate=hover_data,\n",
    "                showscale=False,\n",
    "                xgap=1,\n",
    "                ygap=1,\n",
    "            ),\n",
    "            layout=go.Layout(\n",
    "                title=f\"{indicator.value.capitalize()} - Meta: {meta}%\",\n",
    "                title_x=0.5,\n",
    "                xaxis=dict(\n",
    "                    title=\"Dia do Mês\",\n",
    "                    tickfont=dict(color=tick_color),\n",
    "                    tickmode=\"linear\",\n",
    "                    nticks=31,\n",
    "                    tickvals=list(range(1, 32)),\n",
    "                    ticktext=list(range(1, 32)),\n",
    "                    tickangle=0,\n",
    "                ),\n",
    "                yaxis=dict(title=\"Turno\", tickfont=dict(color=tick_color), ticksuffix=\" \"),\n",
    "                font=dict(family=\"Inter\"),\n",
    "                margin=dict(t=40, b=40, l=40, r=40),\n",
    "                annotations=annotations,\n",
    "                plot_bgcolor=\"RGBA(0,0,0,0.01)\",\n",
    "            ),\n",
    "        )\n",
    "\n",
    "        if turn:\n",
    "            figure.update_layout(\n",
    "                yaxis=dict(\n",
    "                    title=\"Linha\",\n",
    "                    autorange=\"reversed\",\n",
    "                    tickvals=list(range(1, dataframe.index.nunique() + 1)),\n",
    "                )\n",
    "            )\n",
    "\n",
    "        return figure\n",
    "\n",
    "\n",
    "heatmap = Heatmap()"
   ]
  },
  {
   "cell_type": "code",
   "execution_count": 38,
   "metadata": {},
   "outputs": [
    {
     "data": {
      "application/vnd.plotly.v1+json": {
       "config": {
        "plotlyServerURL": "https://plot.ly"
       },
       "data": [
        {
         "colorscale": [
          [
           0,
           "#198754"
          ],
          [
           0.04,
           "#198754"
          ],
          [
           0.04,
           "#dc3545"
          ],
          [
           1,
           "#dc3545"
          ]
         ],
         "hoverongaps": false,
         "hovertemplate": "Linha: %{y}<br>Dia: %{x}<br>Performance: %{z:.1%}",
         "name": "Performance",
         "showscale": false,
         "type": "heatmap",
         "x": [
          1,
          2,
          3,
          4,
          5,
          6,
          7,
          8,
          9,
          10,
          11,
          12,
          13,
          14,
          15,
          16,
          17,
          18,
          19,
          20,
          21,
          22,
          23,
          24,
          25,
          26,
          27,
          28,
          29,
          30,
          31
         ],
         "xgap": 1,
         "y": [
          1,
          2,
          3,
          4,
          5,
          6,
          7,
          8,
          9,
          10,
          11,
          12,
          13,
          14
         ],
         "ygap": 1,
         "z": [
          [
           null,
           null,
           null,
           null,
           null,
           null,
           null,
           null,
           null,
           null,
           null,
           0.21,
           null,
           null,
           null,
           null,
           null,
           null,
           null,
           null,
           null,
           null,
           null,
           null,
           null,
           null,
           null,
           null,
           null,
           null,
           null
          ],
          [
           null,
           null,
           null,
           null,
           null,
           null,
           null,
           null,
           null,
           null,
           null,
           0.06,
           null,
           null,
           null,
           null,
           null,
           null,
           null,
           null,
           null,
           null,
           null,
           null,
           null,
           null,
           null,
           null,
           null,
           null,
           null
          ],
          [
           null,
           null,
           null,
           null,
           null,
           null,
           null,
           null,
           null,
           null,
           null,
           0.2,
           null,
           null,
           null,
           null,
           null,
           null,
           null,
           null,
           null,
           null,
           null,
           null,
           null,
           null,
           null,
           null,
           null,
           null,
           null
          ],
          [
           null,
           null,
           null,
           null,
           null,
           null,
           null,
           null,
           null,
           null,
           null,
           0.24,
           null,
           null,
           null,
           null,
           null,
           null,
           null,
           null,
           null,
           null,
           null,
           null,
           null,
           null,
           null,
           null,
           null,
           null,
           null
          ],
          [
           null,
           null,
           null,
           null,
           null,
           null,
           null,
           null,
           null,
           null,
           null,
           1,
           null,
           null,
           null,
           null,
           null,
           null,
           null,
           null,
           null,
           null,
           null,
           null,
           null,
           null,
           null,
           null,
           null,
           null,
           null
          ],
          [
           null,
           null,
           null,
           null,
           null,
           null,
           null,
           null,
           null,
           null,
           null,
           1,
           null,
           null,
           null,
           null,
           null,
           null,
           null,
           null,
           null,
           null,
           null,
           null,
           null,
           null,
           null,
           null,
           null,
           null,
           null
          ],
          [
           null,
           null,
           null,
           null,
           null,
           null,
           null,
           null,
           null,
           null,
           null,
           0.25,
           null,
           null,
           null,
           null,
           null,
           null,
           null,
           null,
           null,
           null,
           null,
           null,
           null,
           null,
           null,
           null,
           null,
           null,
           null
          ],
          [
           null,
           null,
           null,
           null,
           null,
           null,
           null,
           null,
           null,
           null,
           null,
           0.05,
           null,
           null,
           null,
           null,
           null,
           null,
           null,
           null,
           null,
           null,
           null,
           null,
           null,
           null,
           null,
           null,
           null,
           null,
           null
          ],
          [
           null,
           null,
           null,
           null,
           null,
           null,
           null,
           null,
           null,
           null,
           null,
           0.02,
           null,
           null,
           null,
           null,
           null,
           null,
           null,
           null,
           null,
           null,
           null,
           null,
           null,
           null,
           null,
           null,
           null,
           null,
           null
          ],
          [
           null,
           null,
           null,
           null,
           null,
           null,
           null,
           null,
           null,
           null,
           null,
           0.72,
           null,
           null,
           null,
           null,
           null,
           null,
           null,
           null,
           null,
           null,
           null,
           null,
           null,
           null,
           null,
           null,
           null,
           null,
           null
          ],
          [
           null,
           null,
           null,
           null,
           null,
           null,
           null,
           null,
           null,
           null,
           null,
           0.37,
           null,
           null,
           null,
           null,
           null,
           null,
           null,
           null,
           null,
           null,
           null,
           null,
           null,
           null,
           null,
           null,
           null,
           null,
           null
          ],
          [
           null,
           null,
           null,
           null,
           null,
           null,
           null,
           null,
           null,
           null,
           null,
           0.35,
           null,
           null,
           null,
           null,
           null,
           null,
           null,
           null,
           null,
           null,
           null,
           null,
           null,
           null,
           null,
           null,
           null,
           null,
           null
          ],
          [
           null,
           null,
           null,
           null,
           null,
           null,
           null,
           null,
           null,
           null,
           null,
           0.68,
           null,
           null,
           null,
           null,
           null,
           null,
           null,
           null,
           null,
           null,
           null,
           null,
           null,
           null,
           null,
           null,
           null,
           null,
           null
          ],
          [
           null,
           null,
           null,
           null,
           null,
           null,
           null,
           null,
           null,
           null,
           null,
           1,
           null,
           null,
           null,
           null,
           null,
           null,
           null,
           null,
           null,
           null,
           null,
           null,
           null,
           null,
           null,
           null,
           null,
           null,
           null
          ]
         ],
         "zmax": 1,
         "zmin": 0
        }
       ],
       "layout": {
        "annotations": [
         {
          "font": {
           "color": "white",
           "size": 10
          },
          "showarrow": false,
          "text": "21.0%",
          "x": 12,
          "xref": "x",
          "y": 1,
          "yref": "y"
         },
         {
          "font": {
           "color": "white",
           "size": 10
          },
          "showarrow": false,
          "text": "6.0%",
          "x": 12,
          "xref": "x",
          "y": 2,
          "yref": "y"
         },
         {
          "font": {
           "color": "white",
           "size": 10
          },
          "showarrow": false,
          "text": "20.0%",
          "x": 12,
          "xref": "x",
          "y": 3,
          "yref": "y"
         },
         {
          "font": {
           "color": "white",
           "size": 10
          },
          "showarrow": false,
          "text": "24.0%",
          "x": 12,
          "xref": "x",
          "y": 4,
          "yref": "y"
         },
         {
          "font": {
           "color": "white",
           "size": 10
          },
          "showarrow": false,
          "text": "100.0%",
          "x": 12,
          "xref": "x",
          "y": 5,
          "yref": "y"
         },
         {
          "font": {
           "color": "white",
           "size": 10
          },
          "showarrow": false,
          "text": "100.0%",
          "x": 12,
          "xref": "x",
          "y": 6,
          "yref": "y"
         },
         {
          "font": {
           "color": "white",
           "size": 10
          },
          "showarrow": false,
          "text": "25.0%",
          "x": 12,
          "xref": "x",
          "y": 7,
          "yref": "y"
         },
         {
          "font": {
           "color": "white",
           "size": 10
          },
          "showarrow": false,
          "text": "5.0%",
          "x": 12,
          "xref": "x",
          "y": 8,
          "yref": "y"
         },
         {
          "font": {
           "color": "white",
           "size": 10
          },
          "showarrow": false,
          "text": "2.0%",
          "x": 12,
          "xref": "x",
          "y": 9,
          "yref": "y"
         },
         {
          "font": {
           "color": "white",
           "size": 10
          },
          "showarrow": false,
          "text": "72.0%",
          "x": 12,
          "xref": "x",
          "y": 10,
          "yref": "y"
         },
         {
          "font": {
           "color": "white",
           "size": 10
          },
          "showarrow": false,
          "text": "37.0%",
          "x": 12,
          "xref": "x",
          "y": 11,
          "yref": "y"
         },
         {
          "font": {
           "color": "white",
           "size": 10
          },
          "showarrow": false,
          "text": "35.0%",
          "x": 12,
          "xref": "x",
          "y": 12,
          "yref": "y"
         },
         {
          "font": {
           "color": "white",
           "size": 10
          },
          "showarrow": false,
          "text": "68.0%",
          "x": 12,
          "xref": "x",
          "y": 13,
          "yref": "y"
         },
         {
          "font": {
           "color": "white",
           "size": 10
          },
          "showarrow": false,
          "text": "100.0%",
          "x": 12,
          "xref": "x",
          "y": 14,
          "yref": "y"
         }
        ],
        "font": {
         "family": "Inter"
        },
        "margin": {
         "b": 40,
         "l": 40,
         "r": 40,
         "t": 40
        },
        "plot_bgcolor": "RGBA(0,0,0,0.01)",
        "template": {
         "data": {
          "bar": [
           {
            "error_x": {
             "color": "#2a3f5f"
            },
            "error_y": {
             "color": "#2a3f5f"
            },
            "marker": {
             "line": {
              "color": "#E5ECF6",
              "width": 0.5
             },
             "pattern": {
              "fillmode": "overlay",
              "size": 10,
              "solidity": 0.2
             }
            },
            "type": "bar"
           }
          ],
          "barpolar": [
           {
            "marker": {
             "line": {
              "color": "#E5ECF6",
              "width": 0.5
             },
             "pattern": {
              "fillmode": "overlay",
              "size": 10,
              "solidity": 0.2
             }
            },
            "type": "barpolar"
           }
          ],
          "carpet": [
           {
            "aaxis": {
             "endlinecolor": "#2a3f5f",
             "gridcolor": "white",
             "linecolor": "white",
             "minorgridcolor": "white",
             "startlinecolor": "#2a3f5f"
            },
            "baxis": {
             "endlinecolor": "#2a3f5f",
             "gridcolor": "white",
             "linecolor": "white",
             "minorgridcolor": "white",
             "startlinecolor": "#2a3f5f"
            },
            "type": "carpet"
           }
          ],
          "choropleth": [
           {
            "colorbar": {
             "outlinewidth": 0,
             "ticks": ""
            },
            "type": "choropleth"
           }
          ],
          "contour": [
           {
            "colorbar": {
             "outlinewidth": 0,
             "ticks": ""
            },
            "colorscale": [
             [
              0,
              "#0d0887"
             ],
             [
              0.1111111111111111,
              "#46039f"
             ],
             [
              0.2222222222222222,
              "#7201a8"
             ],
             [
              0.3333333333333333,
              "#9c179e"
             ],
             [
              0.4444444444444444,
              "#bd3786"
             ],
             [
              0.5555555555555556,
              "#d8576b"
             ],
             [
              0.6666666666666666,
              "#ed7953"
             ],
             [
              0.7777777777777778,
              "#fb9f3a"
             ],
             [
              0.8888888888888888,
              "#fdca26"
             ],
             [
              1,
              "#f0f921"
             ]
            ],
            "type": "contour"
           }
          ],
          "contourcarpet": [
           {
            "colorbar": {
             "outlinewidth": 0,
             "ticks": ""
            },
            "type": "contourcarpet"
           }
          ],
          "heatmap": [
           {
            "colorbar": {
             "outlinewidth": 0,
             "ticks": ""
            },
            "colorscale": [
             [
              0,
              "#0d0887"
             ],
             [
              0.1111111111111111,
              "#46039f"
             ],
             [
              0.2222222222222222,
              "#7201a8"
             ],
             [
              0.3333333333333333,
              "#9c179e"
             ],
             [
              0.4444444444444444,
              "#bd3786"
             ],
             [
              0.5555555555555556,
              "#d8576b"
             ],
             [
              0.6666666666666666,
              "#ed7953"
             ],
             [
              0.7777777777777778,
              "#fb9f3a"
             ],
             [
              0.8888888888888888,
              "#fdca26"
             ],
             [
              1,
              "#f0f921"
             ]
            ],
            "type": "heatmap"
           }
          ],
          "heatmapgl": [
           {
            "colorbar": {
             "outlinewidth": 0,
             "ticks": ""
            },
            "colorscale": [
             [
              0,
              "#0d0887"
             ],
             [
              0.1111111111111111,
              "#46039f"
             ],
             [
              0.2222222222222222,
              "#7201a8"
             ],
             [
              0.3333333333333333,
              "#9c179e"
             ],
             [
              0.4444444444444444,
              "#bd3786"
             ],
             [
              0.5555555555555556,
              "#d8576b"
             ],
             [
              0.6666666666666666,
              "#ed7953"
             ],
             [
              0.7777777777777778,
              "#fb9f3a"
             ],
             [
              0.8888888888888888,
              "#fdca26"
             ],
             [
              1,
              "#f0f921"
             ]
            ],
            "type": "heatmapgl"
           }
          ],
          "histogram": [
           {
            "marker": {
             "pattern": {
              "fillmode": "overlay",
              "size": 10,
              "solidity": 0.2
             }
            },
            "type": "histogram"
           }
          ],
          "histogram2d": [
           {
            "colorbar": {
             "outlinewidth": 0,
             "ticks": ""
            },
            "colorscale": [
             [
              0,
              "#0d0887"
             ],
             [
              0.1111111111111111,
              "#46039f"
             ],
             [
              0.2222222222222222,
              "#7201a8"
             ],
             [
              0.3333333333333333,
              "#9c179e"
             ],
             [
              0.4444444444444444,
              "#bd3786"
             ],
             [
              0.5555555555555556,
              "#d8576b"
             ],
             [
              0.6666666666666666,
              "#ed7953"
             ],
             [
              0.7777777777777778,
              "#fb9f3a"
             ],
             [
              0.8888888888888888,
              "#fdca26"
             ],
             [
              1,
              "#f0f921"
             ]
            ],
            "type": "histogram2d"
           }
          ],
          "histogram2dcontour": [
           {
            "colorbar": {
             "outlinewidth": 0,
             "ticks": ""
            },
            "colorscale": [
             [
              0,
              "#0d0887"
             ],
             [
              0.1111111111111111,
              "#46039f"
             ],
             [
              0.2222222222222222,
              "#7201a8"
             ],
             [
              0.3333333333333333,
              "#9c179e"
             ],
             [
              0.4444444444444444,
              "#bd3786"
             ],
             [
              0.5555555555555556,
              "#d8576b"
             ],
             [
              0.6666666666666666,
              "#ed7953"
             ],
             [
              0.7777777777777778,
              "#fb9f3a"
             ],
             [
              0.8888888888888888,
              "#fdca26"
             ],
             [
              1,
              "#f0f921"
             ]
            ],
            "type": "histogram2dcontour"
           }
          ],
          "mesh3d": [
           {
            "colorbar": {
             "outlinewidth": 0,
             "ticks": ""
            },
            "type": "mesh3d"
           }
          ],
          "parcoords": [
           {
            "line": {
             "colorbar": {
              "outlinewidth": 0,
              "ticks": ""
             }
            },
            "type": "parcoords"
           }
          ],
          "pie": [
           {
            "automargin": true,
            "type": "pie"
           }
          ],
          "scatter": [
           {
            "fillpattern": {
             "fillmode": "overlay",
             "size": 10,
             "solidity": 0.2
            },
            "type": "scatter"
           }
          ],
          "scatter3d": [
           {
            "line": {
             "colorbar": {
              "outlinewidth": 0,
              "ticks": ""
             }
            },
            "marker": {
             "colorbar": {
              "outlinewidth": 0,
              "ticks": ""
             }
            },
            "type": "scatter3d"
           }
          ],
          "scattercarpet": [
           {
            "marker": {
             "colorbar": {
              "outlinewidth": 0,
              "ticks": ""
             }
            },
            "type": "scattercarpet"
           }
          ],
          "scattergeo": [
           {
            "marker": {
             "colorbar": {
              "outlinewidth": 0,
              "ticks": ""
             }
            },
            "type": "scattergeo"
           }
          ],
          "scattergl": [
           {
            "marker": {
             "colorbar": {
              "outlinewidth": 0,
              "ticks": ""
             }
            },
            "type": "scattergl"
           }
          ],
          "scattermapbox": [
           {
            "marker": {
             "colorbar": {
              "outlinewidth": 0,
              "ticks": ""
             }
            },
            "type": "scattermapbox"
           }
          ],
          "scatterpolar": [
           {
            "marker": {
             "colorbar": {
              "outlinewidth": 0,
              "ticks": ""
             }
            },
            "type": "scatterpolar"
           }
          ],
          "scatterpolargl": [
           {
            "marker": {
             "colorbar": {
              "outlinewidth": 0,
              "ticks": ""
             }
            },
            "type": "scatterpolargl"
           }
          ],
          "scatterternary": [
           {
            "marker": {
             "colorbar": {
              "outlinewidth": 0,
              "ticks": ""
             }
            },
            "type": "scatterternary"
           }
          ],
          "surface": [
           {
            "colorbar": {
             "outlinewidth": 0,
             "ticks": ""
            },
            "colorscale": [
             [
              0,
              "#0d0887"
             ],
             [
              0.1111111111111111,
              "#46039f"
             ],
             [
              0.2222222222222222,
              "#7201a8"
             ],
             [
              0.3333333333333333,
              "#9c179e"
             ],
             [
              0.4444444444444444,
              "#bd3786"
             ],
             [
              0.5555555555555556,
              "#d8576b"
             ],
             [
              0.6666666666666666,
              "#ed7953"
             ],
             [
              0.7777777777777778,
              "#fb9f3a"
             ],
             [
              0.8888888888888888,
              "#fdca26"
             ],
             [
              1,
              "#f0f921"
             ]
            ],
            "type": "surface"
           }
          ],
          "table": [
           {
            "cells": {
             "fill": {
              "color": "#EBF0F8"
             },
             "line": {
              "color": "white"
             }
            },
            "header": {
             "fill": {
              "color": "#C8D4E3"
             },
             "line": {
              "color": "white"
             }
            },
            "type": "table"
           }
          ]
         },
         "layout": {
          "annotationdefaults": {
           "arrowcolor": "#2a3f5f",
           "arrowhead": 0,
           "arrowwidth": 1
          },
          "autotypenumbers": "strict",
          "coloraxis": {
           "colorbar": {
            "outlinewidth": 0,
            "ticks": ""
           }
          },
          "colorscale": {
           "diverging": [
            [
             0,
             "#8e0152"
            ],
            [
             0.1,
             "#c51b7d"
            ],
            [
             0.2,
             "#de77ae"
            ],
            [
             0.3,
             "#f1b6da"
            ],
            [
             0.4,
             "#fde0ef"
            ],
            [
             0.5,
             "#f7f7f7"
            ],
            [
             0.6,
             "#e6f5d0"
            ],
            [
             0.7,
             "#b8e186"
            ],
            [
             0.8,
             "#7fbc41"
            ],
            [
             0.9,
             "#4d9221"
            ],
            [
             1,
             "#276419"
            ]
           ],
           "sequential": [
            [
             0,
             "#0d0887"
            ],
            [
             0.1111111111111111,
             "#46039f"
            ],
            [
             0.2222222222222222,
             "#7201a8"
            ],
            [
             0.3333333333333333,
             "#9c179e"
            ],
            [
             0.4444444444444444,
             "#bd3786"
            ],
            [
             0.5555555555555556,
             "#d8576b"
            ],
            [
             0.6666666666666666,
             "#ed7953"
            ],
            [
             0.7777777777777778,
             "#fb9f3a"
            ],
            [
             0.8888888888888888,
             "#fdca26"
            ],
            [
             1,
             "#f0f921"
            ]
           ],
           "sequentialminus": [
            [
             0,
             "#0d0887"
            ],
            [
             0.1111111111111111,
             "#46039f"
            ],
            [
             0.2222222222222222,
             "#7201a8"
            ],
            [
             0.3333333333333333,
             "#9c179e"
            ],
            [
             0.4444444444444444,
             "#bd3786"
            ],
            [
             0.5555555555555556,
             "#d8576b"
            ],
            [
             0.6666666666666666,
             "#ed7953"
            ],
            [
             0.7777777777777778,
             "#fb9f3a"
            ],
            [
             0.8888888888888888,
             "#fdca26"
            ],
            [
             1,
             "#f0f921"
            ]
           ]
          },
          "colorway": [
           "#636efa",
           "#EF553B",
           "#00cc96",
           "#ab63fa",
           "#FFA15A",
           "#19d3f3",
           "#FF6692",
           "#B6E880",
           "#FF97FF",
           "#FECB52"
          ],
          "font": {
           "color": "#2a3f5f"
          },
          "geo": {
           "bgcolor": "white",
           "lakecolor": "white",
           "landcolor": "#E5ECF6",
           "showlakes": true,
           "showland": true,
           "subunitcolor": "white"
          },
          "hoverlabel": {
           "align": "left"
          },
          "hovermode": "closest",
          "mapbox": {
           "style": "light"
          },
          "paper_bgcolor": "white",
          "plot_bgcolor": "#E5ECF6",
          "polar": {
           "angularaxis": {
            "gridcolor": "white",
            "linecolor": "white",
            "ticks": ""
           },
           "bgcolor": "#E5ECF6",
           "radialaxis": {
            "gridcolor": "white",
            "linecolor": "white",
            "ticks": ""
           }
          },
          "scene": {
           "xaxis": {
            "backgroundcolor": "#E5ECF6",
            "gridcolor": "white",
            "gridwidth": 2,
            "linecolor": "white",
            "showbackground": true,
            "ticks": "",
            "zerolinecolor": "white"
           },
           "yaxis": {
            "backgroundcolor": "#E5ECF6",
            "gridcolor": "white",
            "gridwidth": 2,
            "linecolor": "white",
            "showbackground": true,
            "ticks": "",
            "zerolinecolor": "white"
           },
           "zaxis": {
            "backgroundcolor": "#E5ECF6",
            "gridcolor": "white",
            "gridwidth": 2,
            "linecolor": "white",
            "showbackground": true,
            "ticks": "",
            "zerolinecolor": "white"
           }
          },
          "shapedefaults": {
           "line": {
            "color": "#2a3f5f"
           }
          },
          "ternary": {
           "aaxis": {
            "gridcolor": "white",
            "linecolor": "white",
            "ticks": ""
           },
           "baxis": {
            "gridcolor": "white",
            "linecolor": "white",
            "ticks": ""
           },
           "bgcolor": "#E5ECF6",
           "caxis": {
            "gridcolor": "white",
            "linecolor": "white",
            "ticks": ""
           }
          },
          "title": {
           "x": 0.05
          },
          "xaxis": {
           "automargin": true,
           "gridcolor": "white",
           "linecolor": "white",
           "ticks": "",
           "title": {
            "standoff": 15
           },
           "zerolinecolor": "white",
           "zerolinewidth": 2
          },
          "yaxis": {
           "automargin": true,
           "gridcolor": "white",
           "linecolor": "white",
           "ticks": "",
           "title": {
            "standoff": 15
           },
           "zerolinecolor": "white",
           "zerolinewidth": 2
          }
         }
        },
        "title": {
         "text": "Performance - Meta: 4%",
         "x": 0.5
        },
        "xaxis": {
         "nticks": 31,
         "tickangle": 0,
         "tickfont": {
          "color": "gray"
         },
         "tickmode": "linear",
         "ticktext": [
          1,
          2,
          3,
          4,
          5,
          6,
          7,
          8,
          9,
          10,
          11,
          12,
          13,
          14,
          15,
          16,
          17,
          18,
          19,
          20,
          21,
          22,
          23,
          24,
          25,
          26,
          27,
          28,
          29,
          30,
          31
         ],
         "tickvals": [
          1,
          2,
          3,
          4,
          5,
          6,
          7,
          8,
          9,
          10,
          11,
          12,
          13,
          14,
          15,
          16,
          17,
          18,
          19,
          20,
          21,
          22,
          23,
          24,
          25,
          26,
          27,
          28,
          29,
          30,
          31
         ],
         "title": {
          "text": "Dia do Mês"
         }
        },
        "yaxis": {
         "autorange": "reversed",
         "tickfont": {
          "color": "gray"
         },
         "ticksuffix": " ",
         "tickvals": [
          1,
          2,
          3,
          4,
          5,
          6,
          7,
          8,
          9,
          10,
          11,
          12,
          13,
          14
         ],
         "title": {
          "text": "Linha"
         }
        }
       }
      }
     },
     "metadata": {},
     "output_type": "display_data"
    }
   ],
   "source": [
    "heatmap_fig = heatmap.create_heatmap(\n",
    "    heat_vespertino, annotations_vespertino, IndicatorType.PERFORMANCE, 4, turn=True\n",
    ")\n",
    "heatmap_fig"
   ]
  },
  {
   "cell_type": "markdown",
   "metadata": {},
   "source": [
    "## Line\n"
   ]
  },
  {
   "cell_type": "code",
   "execution_count": 39,
   "metadata": {},
   "outputs": [],
   "source": [
    "class LineGraph:\n",
    "    \"\"\"\n",
    "    A class representing a line graph.\n",
    "\n",
    "    Attributes:\n",
    "        secondary (str): The secondary color for the graph.\n",
    "        primary (str): The primary color for the graph.\n",
    "        danger (str): The danger color for the graph.\n",
    "\n",
    "    Methods:\n",
    "        create_line_graph(dataframe, indicator, meta, template, turn=None):\n",
    "            Create a line graph based on the provided data.\n",
    "\n",
    "    \"\"\"\n",
    "\n",
    "    def __init__(self):\n",
    "        self.secondary = BSColorsEnum.SECONDARY_COLOR.value\n",
    "        self.primary = BSColorsEnum.PRIMARY_COLOR.value\n",
    "        self.danger = BSColorsEnum.DANGER_COLOR.value\n",
    "\n",
    "    def create_line_graph(\n",
    "        self,\n",
    "        dataframe: pd.DataFrame,\n",
    "        indicator: IndicatorType,\n",
    "        meta: int,\n",
    "        turn: str = None,\n",
    "    ):\n",
    "        \"\"\"\n",
    "        Create a line graph based on the provided data.\n",
    "\n",
    "        Args:\n",
    "            dataframe (pd.DataFrame): The input data containing the indicator values.\n",
    "            indicator (IndicatorType): The type of indicator to be plotted.\n",
    "            meta (int): The target value for the indicator.\n",
    "            template (TemplateType): The template type for the graph.\n",
    "            turn (str, optional): The specific turn to filter the data. Defaults to None.\n",
    "\n",
    "        Returns:\n",
    "            dcc.Graph: The line graph visualizing the indicator values.\n",
    "\n",
    "        \"\"\"\n",
    "\n",
    "        # Pegar o valor do indicador\n",
    "        indicator = indicator.value\n",
    "\n",
    "        # Converter 'data_registro' para datetime e criar uma nova coluna 'data_turno'\n",
    "        dataframe[\"data_registro\"] = pd.to_datetime(dataframe[\"data_registro\"])\n",
    "        dataframe[\"data_turno\"] = dataframe[\"data_registro\"].dt.strftime(\"%Y-%m-%d\")\n",
    "\n",
    "        # Filtrar por turno\n",
    "        dataframe = dataframe[dataframe[\"turno\"] == turn] if turn and turn != \"TOT\" else dataframe\n",
    "\n",
    "        # Agrupar por 'data_turno' e 'turno' e calcular a média do indicador\n",
    "        df_grouped = dataframe.groupby([\"data_turno\"])[indicator].mean().reset_index()\n",
    "\n",
    "        # Multiplicar por 100 para converter para porcentagem\n",
    "        df_grouped[indicator] = df_grouped[indicator] * 100\n",
    "\n",
    "        # Criação de um DataFrame com todas as datas do mês atual\n",
    "        start_date = dataframe[\"data_registro\"].min()\n",
    "        end_date = start_date + pd.tseries.offsets.MonthEnd(1)\n",
    "        all_dates = pd.date_range(start_date, end_date).strftime(\"%Y-%m-%d\")\n",
    "        dataframe_all_dates = pd.DataFrame(all_dates, columns=[\"data_turno\"])\n",
    "\n",
    "        # Mesclar o DataFrame original com o DataFrame de todas as datas\n",
    "        df_grouped = pd.merge(dataframe_all_dates, df_grouped, on=\"data_turno\", how=\"left\")\n",
    "\n",
    "        # Substituir valores nulos por 0\n",
    "        df_grouped[indicator] = df_grouped[indicator].fillna(0)\n",
    "\n",
    "        # Criação do gráfico\n",
    "        fig = go.Figure(\n",
    "            data=[\n",
    "                go.Scatter(\n",
    "                    x=df_grouped[\"data_turno\"],\n",
    "                    y=df_grouped[indicator],\n",
    "                    mode=\"lines+markers\",\n",
    "                    marker=dict(color=self.primary),\n",
    "                    line=dict(color=self.primary),\n",
    "                    hovertemplate=f\"<i>Dia</i>: %{{x}}\"\n",
    "                    f\"<br><b>{indicator.capitalize()}</b>: %{{y:.1f}}<br>\",\n",
    "                    hoverinfo=\"skip\",\n",
    "                )\n",
    "            ],\n",
    "            layout=go.Layout(\n",
    "                showlegend=False,\n",
    "                xaxis=dict(showticklabels=False),\n",
    "                yaxis=dict(showticklabels=False, autorange=True),\n",
    "                margin=dict(l=0, r=0, t=0, b=0),\n",
    "                height=None,\n",
    "                autosize=True,\n",
    "                font=dict(family=\"Inter\"),\n",
    "                plot_bgcolor=\"RGBA(0,0,0,0.001)\",\n",
    "            ),\n",
    "        )\n",
    "\n",
    "        # Linha de meta\n",
    "        fig.add_trace(\n",
    "            go.Scatter(\n",
    "                x=df_grouped[\"data_turno\"],\n",
    "                y=[meta] * len(df_grouped),\n",
    "                mode=\"lines\",\n",
    "                name=\"Meta\",\n",
    "                line=dict(color=self.danger, dash=\"dash\"),\n",
    "                hovertemplate=\"<b>Meta</b>: %{y:.0f}%<extra></extra>\",\n",
    "            )\n",
    "        )\n",
    "\n",
    "        return fig\n",
    "\n",
    "\n",
    "line_graph = LineGraph()"
   ]
  },
  {
   "cell_type": "code",
   "execution_count": 40,
   "metadata": {},
   "outputs": [
    {
     "data": {
      "application/vnd.plotly.v1+json": {
       "config": {
        "plotlyServerURL": "https://plot.ly"
       },
       "data": [
        {
         "hoverinfo": "skip",
         "hovertemplate": "<i>Dia</i>: %{x}<br><b>Eficiencia</b>: %{y:.1f}<br>",
         "line": {
          "color": "#0d6efd"
         },
         "marker": {
          "color": "#0d6efd"
         },
         "mode": "lines+markers",
         "type": "scatter",
         "x": [
          "2024-07-12",
          "2024-07-13",
          "2024-07-14",
          "2024-07-15",
          "2024-07-16",
          "2024-07-17",
          "2024-07-18",
          "2024-07-19",
          "2024-07-20",
          "2024-07-21",
          "2024-07-22",
          "2024-07-23",
          "2024-07-24",
          "2024-07-25",
          "2024-07-26",
          "2024-07-27",
          "2024-07-28",
          "2024-07-29",
          "2024-07-30",
          "2024-07-31"
         ],
         "y": [
          39.56923076923077,
          62.885714285714286,
          0,
          0,
          0,
          0,
          0,
          0,
          0,
          0,
          0,
          0,
          0,
          0,
          0,
          0,
          0,
          0,
          0,
          0
         ]
        },
        {
         "hovertemplate": "<b>Meta</b>: %{y:.0f}%<extra></extra>",
         "line": {
          "color": "#dc3545",
          "dash": "dash"
         },
         "mode": "lines",
         "name": "Meta",
         "type": "scatter",
         "x": [
          "2024-07-12",
          "2024-07-13",
          "2024-07-14",
          "2024-07-15",
          "2024-07-16",
          "2024-07-17",
          "2024-07-18",
          "2024-07-19",
          "2024-07-20",
          "2024-07-21",
          "2024-07-22",
          "2024-07-23",
          "2024-07-24",
          "2024-07-25",
          "2024-07-26",
          "2024-07-27",
          "2024-07-28",
          "2024-07-29",
          "2024-07-30",
          "2024-07-31"
         ],
         "y": [
          85,
          85,
          85,
          85,
          85,
          85,
          85,
          85,
          85,
          85,
          85,
          85,
          85,
          85,
          85,
          85,
          85,
          85,
          85,
          85
         ]
        }
       ],
       "layout": {
        "autosize": true,
        "font": {
         "family": "Inter"
        },
        "margin": {
         "b": 0,
         "l": 0,
         "r": 0,
         "t": 0
        },
        "plot_bgcolor": "RGBA(0,0,0,0.001)",
        "showlegend": false,
        "template": {
         "data": {
          "bar": [
           {
            "error_x": {
             "color": "#2a3f5f"
            },
            "error_y": {
             "color": "#2a3f5f"
            },
            "marker": {
             "line": {
              "color": "#E5ECF6",
              "width": 0.5
             },
             "pattern": {
              "fillmode": "overlay",
              "size": 10,
              "solidity": 0.2
             }
            },
            "type": "bar"
           }
          ],
          "barpolar": [
           {
            "marker": {
             "line": {
              "color": "#E5ECF6",
              "width": 0.5
             },
             "pattern": {
              "fillmode": "overlay",
              "size": 10,
              "solidity": 0.2
             }
            },
            "type": "barpolar"
           }
          ],
          "carpet": [
           {
            "aaxis": {
             "endlinecolor": "#2a3f5f",
             "gridcolor": "white",
             "linecolor": "white",
             "minorgridcolor": "white",
             "startlinecolor": "#2a3f5f"
            },
            "baxis": {
             "endlinecolor": "#2a3f5f",
             "gridcolor": "white",
             "linecolor": "white",
             "minorgridcolor": "white",
             "startlinecolor": "#2a3f5f"
            },
            "type": "carpet"
           }
          ],
          "choropleth": [
           {
            "colorbar": {
             "outlinewidth": 0,
             "ticks": ""
            },
            "type": "choropleth"
           }
          ],
          "contour": [
           {
            "colorbar": {
             "outlinewidth": 0,
             "ticks": ""
            },
            "colorscale": [
             [
              0,
              "#0d0887"
             ],
             [
              0.1111111111111111,
              "#46039f"
             ],
             [
              0.2222222222222222,
              "#7201a8"
             ],
             [
              0.3333333333333333,
              "#9c179e"
             ],
             [
              0.4444444444444444,
              "#bd3786"
             ],
             [
              0.5555555555555556,
              "#d8576b"
             ],
             [
              0.6666666666666666,
              "#ed7953"
             ],
             [
              0.7777777777777778,
              "#fb9f3a"
             ],
             [
              0.8888888888888888,
              "#fdca26"
             ],
             [
              1,
              "#f0f921"
             ]
            ],
            "type": "contour"
           }
          ],
          "contourcarpet": [
           {
            "colorbar": {
             "outlinewidth": 0,
             "ticks": ""
            },
            "type": "contourcarpet"
           }
          ],
          "heatmap": [
           {
            "colorbar": {
             "outlinewidth": 0,
             "ticks": ""
            },
            "colorscale": [
             [
              0,
              "#0d0887"
             ],
             [
              0.1111111111111111,
              "#46039f"
             ],
             [
              0.2222222222222222,
              "#7201a8"
             ],
             [
              0.3333333333333333,
              "#9c179e"
             ],
             [
              0.4444444444444444,
              "#bd3786"
             ],
             [
              0.5555555555555556,
              "#d8576b"
             ],
             [
              0.6666666666666666,
              "#ed7953"
             ],
             [
              0.7777777777777778,
              "#fb9f3a"
             ],
             [
              0.8888888888888888,
              "#fdca26"
             ],
             [
              1,
              "#f0f921"
             ]
            ],
            "type": "heatmap"
           }
          ],
          "heatmapgl": [
           {
            "colorbar": {
             "outlinewidth": 0,
             "ticks": ""
            },
            "colorscale": [
             [
              0,
              "#0d0887"
             ],
             [
              0.1111111111111111,
              "#46039f"
             ],
             [
              0.2222222222222222,
              "#7201a8"
             ],
             [
              0.3333333333333333,
              "#9c179e"
             ],
             [
              0.4444444444444444,
              "#bd3786"
             ],
             [
              0.5555555555555556,
              "#d8576b"
             ],
             [
              0.6666666666666666,
              "#ed7953"
             ],
             [
              0.7777777777777778,
              "#fb9f3a"
             ],
             [
              0.8888888888888888,
              "#fdca26"
             ],
             [
              1,
              "#f0f921"
             ]
            ],
            "type": "heatmapgl"
           }
          ],
          "histogram": [
           {
            "marker": {
             "pattern": {
              "fillmode": "overlay",
              "size": 10,
              "solidity": 0.2
             }
            },
            "type": "histogram"
           }
          ],
          "histogram2d": [
           {
            "colorbar": {
             "outlinewidth": 0,
             "ticks": ""
            },
            "colorscale": [
             [
              0,
              "#0d0887"
             ],
             [
              0.1111111111111111,
              "#46039f"
             ],
             [
              0.2222222222222222,
              "#7201a8"
             ],
             [
              0.3333333333333333,
              "#9c179e"
             ],
             [
              0.4444444444444444,
              "#bd3786"
             ],
             [
              0.5555555555555556,
              "#d8576b"
             ],
             [
              0.6666666666666666,
              "#ed7953"
             ],
             [
              0.7777777777777778,
              "#fb9f3a"
             ],
             [
              0.8888888888888888,
              "#fdca26"
             ],
             [
              1,
              "#f0f921"
             ]
            ],
            "type": "histogram2d"
           }
          ],
          "histogram2dcontour": [
           {
            "colorbar": {
             "outlinewidth": 0,
             "ticks": ""
            },
            "colorscale": [
             [
              0,
              "#0d0887"
             ],
             [
              0.1111111111111111,
              "#46039f"
             ],
             [
              0.2222222222222222,
              "#7201a8"
             ],
             [
              0.3333333333333333,
              "#9c179e"
             ],
             [
              0.4444444444444444,
              "#bd3786"
             ],
             [
              0.5555555555555556,
              "#d8576b"
             ],
             [
              0.6666666666666666,
              "#ed7953"
             ],
             [
              0.7777777777777778,
              "#fb9f3a"
             ],
             [
              0.8888888888888888,
              "#fdca26"
             ],
             [
              1,
              "#f0f921"
             ]
            ],
            "type": "histogram2dcontour"
           }
          ],
          "mesh3d": [
           {
            "colorbar": {
             "outlinewidth": 0,
             "ticks": ""
            },
            "type": "mesh3d"
           }
          ],
          "parcoords": [
           {
            "line": {
             "colorbar": {
              "outlinewidth": 0,
              "ticks": ""
             }
            },
            "type": "parcoords"
           }
          ],
          "pie": [
           {
            "automargin": true,
            "type": "pie"
           }
          ],
          "scatter": [
           {
            "fillpattern": {
             "fillmode": "overlay",
             "size": 10,
             "solidity": 0.2
            },
            "type": "scatter"
           }
          ],
          "scatter3d": [
           {
            "line": {
             "colorbar": {
              "outlinewidth": 0,
              "ticks": ""
             }
            },
            "marker": {
             "colorbar": {
              "outlinewidth": 0,
              "ticks": ""
             }
            },
            "type": "scatter3d"
           }
          ],
          "scattercarpet": [
           {
            "marker": {
             "colorbar": {
              "outlinewidth": 0,
              "ticks": ""
             }
            },
            "type": "scattercarpet"
           }
          ],
          "scattergeo": [
           {
            "marker": {
             "colorbar": {
              "outlinewidth": 0,
              "ticks": ""
             }
            },
            "type": "scattergeo"
           }
          ],
          "scattergl": [
           {
            "marker": {
             "colorbar": {
              "outlinewidth": 0,
              "ticks": ""
             }
            },
            "type": "scattergl"
           }
          ],
          "scattermapbox": [
           {
            "marker": {
             "colorbar": {
              "outlinewidth": 0,
              "ticks": ""
             }
            },
            "type": "scattermapbox"
           }
          ],
          "scatterpolar": [
           {
            "marker": {
             "colorbar": {
              "outlinewidth": 0,
              "ticks": ""
             }
            },
            "type": "scatterpolar"
           }
          ],
          "scatterpolargl": [
           {
            "marker": {
             "colorbar": {
              "outlinewidth": 0,
              "ticks": ""
             }
            },
            "type": "scatterpolargl"
           }
          ],
          "scatterternary": [
           {
            "marker": {
             "colorbar": {
              "outlinewidth": 0,
              "ticks": ""
             }
            },
            "type": "scatterternary"
           }
          ],
          "surface": [
           {
            "colorbar": {
             "outlinewidth": 0,
             "ticks": ""
            },
            "colorscale": [
             [
              0,
              "#0d0887"
             ],
             [
              0.1111111111111111,
              "#46039f"
             ],
             [
              0.2222222222222222,
              "#7201a8"
             ],
             [
              0.3333333333333333,
              "#9c179e"
             ],
             [
              0.4444444444444444,
              "#bd3786"
             ],
             [
              0.5555555555555556,
              "#d8576b"
             ],
             [
              0.6666666666666666,
              "#ed7953"
             ],
             [
              0.7777777777777778,
              "#fb9f3a"
             ],
             [
              0.8888888888888888,
              "#fdca26"
             ],
             [
              1,
              "#f0f921"
             ]
            ],
            "type": "surface"
           }
          ],
          "table": [
           {
            "cells": {
             "fill": {
              "color": "#EBF0F8"
             },
             "line": {
              "color": "white"
             }
            },
            "header": {
             "fill": {
              "color": "#C8D4E3"
             },
             "line": {
              "color": "white"
             }
            },
            "type": "table"
           }
          ]
         },
         "layout": {
          "annotationdefaults": {
           "arrowcolor": "#2a3f5f",
           "arrowhead": 0,
           "arrowwidth": 1
          },
          "autotypenumbers": "strict",
          "coloraxis": {
           "colorbar": {
            "outlinewidth": 0,
            "ticks": ""
           }
          },
          "colorscale": {
           "diverging": [
            [
             0,
             "#8e0152"
            ],
            [
             0.1,
             "#c51b7d"
            ],
            [
             0.2,
             "#de77ae"
            ],
            [
             0.3,
             "#f1b6da"
            ],
            [
             0.4,
             "#fde0ef"
            ],
            [
             0.5,
             "#f7f7f7"
            ],
            [
             0.6,
             "#e6f5d0"
            ],
            [
             0.7,
             "#b8e186"
            ],
            [
             0.8,
             "#7fbc41"
            ],
            [
             0.9,
             "#4d9221"
            ],
            [
             1,
             "#276419"
            ]
           ],
           "sequential": [
            [
             0,
             "#0d0887"
            ],
            [
             0.1111111111111111,
             "#46039f"
            ],
            [
             0.2222222222222222,
             "#7201a8"
            ],
            [
             0.3333333333333333,
             "#9c179e"
            ],
            [
             0.4444444444444444,
             "#bd3786"
            ],
            [
             0.5555555555555556,
             "#d8576b"
            ],
            [
             0.6666666666666666,
             "#ed7953"
            ],
            [
             0.7777777777777778,
             "#fb9f3a"
            ],
            [
             0.8888888888888888,
             "#fdca26"
            ],
            [
             1,
             "#f0f921"
            ]
           ],
           "sequentialminus": [
            [
             0,
             "#0d0887"
            ],
            [
             0.1111111111111111,
             "#46039f"
            ],
            [
             0.2222222222222222,
             "#7201a8"
            ],
            [
             0.3333333333333333,
             "#9c179e"
            ],
            [
             0.4444444444444444,
             "#bd3786"
            ],
            [
             0.5555555555555556,
             "#d8576b"
            ],
            [
             0.6666666666666666,
             "#ed7953"
            ],
            [
             0.7777777777777778,
             "#fb9f3a"
            ],
            [
             0.8888888888888888,
             "#fdca26"
            ],
            [
             1,
             "#f0f921"
            ]
           ]
          },
          "colorway": [
           "#636efa",
           "#EF553B",
           "#00cc96",
           "#ab63fa",
           "#FFA15A",
           "#19d3f3",
           "#FF6692",
           "#B6E880",
           "#FF97FF",
           "#FECB52"
          ],
          "font": {
           "color": "#2a3f5f"
          },
          "geo": {
           "bgcolor": "white",
           "lakecolor": "white",
           "landcolor": "#E5ECF6",
           "showlakes": true,
           "showland": true,
           "subunitcolor": "white"
          },
          "hoverlabel": {
           "align": "left"
          },
          "hovermode": "closest",
          "mapbox": {
           "style": "light"
          },
          "paper_bgcolor": "white",
          "plot_bgcolor": "#E5ECF6",
          "polar": {
           "angularaxis": {
            "gridcolor": "white",
            "linecolor": "white",
            "ticks": ""
           },
           "bgcolor": "#E5ECF6",
           "radialaxis": {
            "gridcolor": "white",
            "linecolor": "white",
            "ticks": ""
           }
          },
          "scene": {
           "xaxis": {
            "backgroundcolor": "#E5ECF6",
            "gridcolor": "white",
            "gridwidth": 2,
            "linecolor": "white",
            "showbackground": true,
            "ticks": "",
            "zerolinecolor": "white"
           },
           "yaxis": {
            "backgroundcolor": "#E5ECF6",
            "gridcolor": "white",
            "gridwidth": 2,
            "linecolor": "white",
            "showbackground": true,
            "ticks": "",
            "zerolinecolor": "white"
           },
           "zaxis": {
            "backgroundcolor": "#E5ECF6",
            "gridcolor": "white",
            "gridwidth": 2,
            "linecolor": "white",
            "showbackground": true,
            "ticks": "",
            "zerolinecolor": "white"
           }
          },
          "shapedefaults": {
           "line": {
            "color": "#2a3f5f"
           }
          },
          "ternary": {
           "aaxis": {
            "gridcolor": "white",
            "linecolor": "white",
            "ticks": ""
           },
           "baxis": {
            "gridcolor": "white",
            "linecolor": "white",
            "ticks": ""
           },
           "bgcolor": "#E5ECF6",
           "caxis": {
            "gridcolor": "white",
            "linecolor": "white",
            "ticks": ""
           }
          },
          "title": {
           "x": 0.05
          },
          "xaxis": {
           "automargin": true,
           "gridcolor": "white",
           "linecolor": "white",
           "ticks": "",
           "title": {
            "standoff": 15
           },
           "zerolinecolor": "white",
           "zerolinewidth": 2
          },
          "yaxis": {
           "automargin": true,
           "gridcolor": "white",
           "linecolor": "white",
           "ticks": "",
           "title": {
            "standoff": 15
           },
           "zerolinecolor": "white",
           "zerolinewidth": 2
          }
         }
        },
        "xaxis": {
         "showticklabels": false
        },
        "yaxis": {
         "autorange": true,
         "showticklabels": false
        }
       }
      }
     },
     "metadata": {},
     "output_type": "display_data"
    }
   ],
   "source": [
    "line_fig = line_graph.create_line_graph(df_eff, IndicatorType.EFFICIENCY, 85, \"NOT\")\n",
    "line_fig"
   ]
  },
  {
   "cell_type": "markdown",
   "metadata": {},
   "source": [
    "## Bar Chart\n"
   ]
  },
  {
   "cell_type": "code",
   "execution_count": 41,
   "metadata": {},
   "outputs": [],
   "source": [
    "class BarChartDetails:\n",
    "    \"\"\"\n",
    "    Represents a class for creating bar chart details based on provided data.\n",
    "    \"\"\"\n",
    "\n",
    "    def __init__(self, df_maq_stopped: pd.DataFrame, df_production: pd.DataFrame):\n",
    "        self.df_indicator = DFIndicators(df_maq_stopped, df_production)\n",
    "\n",
    "    def create_bar_chart_details(\n",
    "        self,\n",
    "        dataframe: pd.DataFrame,\n",
    "        indicator: IndicatorType,\n",
    "        turn: str = None,\n",
    "        selected_data: str = None,\n",
    "        working: pd.DataFrame = None,\n",
    "        choice: str = \"motivo\",\n",
    "    ):\n",
    "        \"\"\"\n",
    "        Creates a bar chart with details based on the provided data.\n",
    "\n",
    "        Args:\n",
    "            dataframe (pd.DataFrame): The input dataframe containing the data.\n",
    "            indicator (IndicatorType): The type of indicator.\n",
    "            template (TemplateType): The type of template.\n",
    "            turn (str): The turn value.\n",
    "            selected_data: The selected data.\n",
    "            working (pd.DataFrame, optional): The working dataframe. Defaults to None.\n",
    "\n",
    "        Returns:\n",
    "            dcc.Graph: The bar chart as a Dash component.\n",
    "        \"\"\"\n",
    "        df = self.df_indicator.adjust_df_for_bar_lost(dataframe, indicator, working_minutes=working)\n",
    "\n",
    "        # Garante que data_registro tenha apenas o dia\n",
    "        df[\"data_registro\"] = pd.to_datetime(df[\"data_registro\"]).dt.date\n",
    "\n",
    "        # Filtro pelo dia, caso tenha sido selecionado\n",
    "        df = (\n",
    "            df[df[\"data_registro\"] == pd.to_datetime(selected_data).date()]\n",
    "            if selected_data is not None\n",
    "            else df\n",
    "        )\n",
    "\n",
    "        motivos = df[choice].unique()\n",
    "        # Definir cores\n",
    "        palette = sns.color_palette(\"tab20\", len(motivos)).as_hex()\n",
    "\n",
    "        color_dict = dict(zip(motivos, palette))\n",
    "\n",
    "        if choice == \"motivo\":\n",
    "            # Criar coluna sort para ordenar os dados\n",
    "            df[\"sort\"] = (\n",
    "                df[\"motivo\"].map({\"Rodando\": 0, \"Parada Programada\": 2, \"Limpeza\": 1}).fillna(9)\n",
    "            )\n",
    "\n",
    "            # Ordenar por sort e tempo_registro_min\n",
    "            df = df.sort_values(\n",
    "                by=[\"linha\", \"sort\", \"data_registro\", \"tempo\"],\n",
    "                ascending=[True, True, True, False],\n",
    "            )\n",
    "\n",
    "            # Remover a coluna sort\n",
    "            df = df.drop(columns=[\"sort\"])\n",
    "\n",
    "            # Mapear cores\n",
    "            color_dict = {\n",
    "                \"Parada de 5 minutos ou menos\": BSColorsEnum.BLUE_DELFT_COLOR.value,\n",
    "                \"Não apontado\": BSColorsEnum.GREY_600_COLOR.value,\n",
    "                \"Ajustes\": BSColorsEnum.TEAL_COLOR.value,\n",
    "                \"Manutenção\": BSColorsEnum.SPACE_CADET_COLOR.value,\n",
    "                \"Qualidade\": BSColorsEnum.WARNING_COLOR.value,\n",
    "                \"Fluxo\": BSColorsEnum.PINK_COLOR.value,\n",
    "                \"Parada Programada\": BSColorsEnum.DANGER_COLOR.value,\n",
    "                \"Setup\": BSColorsEnum.SECONDARY_COLOR.value,\n",
    "                \"Limpeza\": BSColorsEnum.PRIMARY_COLOR.value,\n",
    "                \"Rodando\": BSColorsEnum.SUCCESS_COLOR.value,\n",
    "            }\n",
    "\n",
    "        # Criação do gráfico\n",
    "        fig = px.bar(\n",
    "            df,\n",
    "            x=\"linha\",\n",
    "            y=\"tempo\",\n",
    "            color=choice,\n",
    "            barmode=\"stack\",\n",
    "            color_discrete_map=color_dict,\n",
    "            title=\"Detalhes de Tempo\",\n",
    "            labels={\n",
    "                \"tempo\": \"Tempo (min)\",\n",
    "                \"linha\": \"Linha\",\n",
    "                choice: choice.capitalize(),\n",
    "            },\n",
    "        )\n",
    "\n",
    "        tick_color = \"gray\"\n",
    "\n",
    "        # Atualizar layout\n",
    "        fig.update_layout(\n",
    "            xaxis=dict(\n",
    "                categoryorder=\"category ascending\",\n",
    "                tickvals=df[\"linha\"].unique(),\n",
    "                tickfont=dict(color=tick_color),\n",
    "            ),\n",
    "            yaxis=dict(tickfont=dict(color=tick_color)),\n",
    "            title_x=0.5,\n",
    "            xaxis_title=\"Linha\",\n",
    "            yaxis_title=\"Tempo (min)\",\n",
    "            legend_title=choice.capitalize(),\n",
    "            plot_bgcolor=\"RGBA(0,0,0,0.01)\",\n",
    "            margin=dict(t=40, b=40, l=40, r=40),\n",
    "        )\n",
    "\n",
    "        return fig\n",
    "\n",
    "\n",
    "bar_chart_details = BarChartDetails(df_maq_stopped.copy(), df_info_production_cleaned.copy())"
   ]
  },
  {
   "cell_type": "code",
   "execution_count": 42,
   "metadata": {},
   "outputs": [
    {
     "data": {
      "application/vnd.plotly.v1+json": {
       "config": {
        "plotlyServerURL": "https://plot.ly"
       },
       "data": [
        {
         "alignmentgroup": "True",
         "hovertemplate": "Motivo=Rodando<br>Linha=%{x}<br>Tempo (min)=%{y}<extra></extra>",
         "legendgroup": "Rodando",
         "marker": {
          "color": "#198754",
          "pattern": {
           "shape": ""
          }
         },
         "name": "Rodando",
         "offsetgroup": "Rodando",
         "orientation": "v",
         "showlegend": true,
         "textposition": "auto",
         "type": "bar",
         "x": [
          1,
          1,
          1,
          1,
          1,
          2,
          2,
          2,
          2,
          2,
          3,
          3,
          3,
          3,
          4,
          4,
          4,
          4,
          4,
          7,
          7,
          7,
          7,
          7,
          8,
          8,
          8,
          8,
          8,
          9,
          9,
          9,
          9,
          9,
          10,
          10,
          10,
          10,
          11,
          11,
          11,
          11,
          11,
          12,
          12,
          12,
          12,
          13,
          13,
          13,
          13
         ],
         "xaxis": "x",
         "y": [
          381,
          317,
          307,
          463,
          371,
          451,
          335,
          78,
          463,
          401,
          346,
          102,
          411,
          254,
          347,
          316,
          157,
          467,
          377,
          339,
          312,
          269,
          469,
          369,
          312,
          293,
          89,
          469,
          349,
          311,
          134,
          130,
          463,
          84,
          132,
          6,
          74,
          4,
          302,
          297,
          265,
          363,
          361,
          235,
          175,
          433,
          7,
          308,
          154,
          121,
          351
         ],
         "yaxis": "y"
        },
        {
         "alignmentgroup": "True",
         "hovertemplate": "Motivo=Parada Programada<br>Linha=%{x}<br>Tempo (min)=%{y}<extra></extra>",
         "legendgroup": "Parada Programada",
         "marker": {
          "color": "#dc3545",
          "pattern": {
           "shape": ""
          }
         },
         "name": "Parada Programada",
         "offsetgroup": "Parada Programada",
         "orientation": "v",
         "showlegend": true,
         "textposition": "auto",
         "type": "bar",
         "x": [
          1,
          1,
          1,
          2,
          2,
          2,
          2,
          2,
          3,
          3,
          3,
          3,
          3,
          3,
          3,
          3,
          3,
          3,
          3,
          3,
          3,
          3,
          3,
          3,
          3,
          4,
          4,
          4,
          4,
          4,
          4,
          4,
          4,
          4,
          5,
          5,
          5,
          6,
          6,
          6,
          7,
          7,
          7,
          7,
          7,
          7,
          7,
          7,
          7,
          7,
          7,
          7,
          7,
          7,
          8,
          8,
          8,
          8,
          8,
          8,
          9,
          9,
          9,
          9,
          9,
          9,
          9,
          10,
          10,
          10,
          10,
          10,
          10,
          10,
          11,
          11,
          11,
          11,
          11,
          11,
          11,
          11,
          12,
          12,
          12,
          12,
          12,
          12,
          12,
          12,
          13,
          13,
          13,
          13
         ],
         "xaxis": "x",
         "y": [
          68,
          2,
          64,
          70,
          38,
          10,
          2,
          62,
          469,
          192,
          80,
          22,
          6,
          5,
          50,
          42,
          16,
          8,
          6,
          6,
          4,
          2,
          2,
          2,
          2,
          308,
          128,
          68,
          5,
          2,
          2,
          2,
          62,
          4,
          459,
          22,
          480,
          459,
          22,
          480,
          134,
          122,
          64,
          4,
          66,
          16,
          10,
          4,
          2,
          2,
          2,
          2,
          2,
          2,
          130,
          68,
          8,
          7,
          64,
          14,
          64,
          7,
          132,
          110,
          104,
          51,
          4,
          480,
          304,
          121,
          46,
          2,
          277,
          198,
          74,
          68,
          62,
          4,
          88,
          76,
          28,
          12,
          311,
          92,
          90,
          68,
          28,
          6,
          348,
          124,
          256,
          74,
          66,
          10
         ],
         "yaxis": "y"
        },
        {
         "alignmentgroup": "True",
         "hovertemplate": "Motivo=Ajustes<br>Linha=%{x}<br>Tempo (min)=%{y}<extra></extra>",
         "legendgroup": "Ajustes",
         "marker": {
          "color": "#20c997",
          "pattern": {
           "shape": ""
          }
         },
         "name": "Ajustes",
         "offsetgroup": "Ajustes",
         "orientation": "v",
         "showlegend": true,
         "textposition": "auto",
         "type": "bar",
         "x": [
          1,
          1,
          1,
          1,
          1,
          1,
          1,
          1,
          1,
          1,
          1,
          1,
          1,
          1,
          1,
          1,
          1,
          1,
          1,
          1,
          1,
          1,
          1,
          1,
          1,
          1,
          1,
          1,
          1,
          1,
          1,
          2,
          2,
          2,
          2,
          2,
          2,
          2,
          2,
          2,
          2,
          2,
          2,
          2,
          2,
          2,
          2,
          2,
          2,
          2,
          2,
          2,
          2,
          2,
          2,
          2,
          2,
          2,
          3,
          3,
          3,
          3,
          3,
          3,
          3,
          3,
          3,
          3,
          3,
          3,
          3,
          4,
          4,
          4,
          4,
          4,
          4,
          4,
          4,
          4,
          4,
          4,
          4,
          4,
          4,
          4,
          4,
          5,
          6,
          7,
          7,
          7,
          7,
          7,
          7,
          7,
          7,
          8,
          8,
          8,
          8,
          8,
          8,
          8,
          8,
          8,
          9,
          9,
          9,
          9,
          9,
          10,
          10,
          10,
          10,
          11,
          11,
          11,
          11,
          11,
          11,
          12,
          12,
          12,
          12,
          12,
          12,
          12,
          12,
          12,
          12,
          13,
          13,
          13,
          13,
          13,
          13
         ],
         "xaxis": "x",
         "y": [
          122,
          24,
          18,
          18,
          16,
          12,
          12,
          12,
          10,
          10,
          10,
          8,
          8,
          6,
          6,
          4,
          4,
          4,
          4,
          2,
          2,
          2,
          2,
          2,
          2,
          2,
          2,
          12,
          12,
          4,
          2,
          236,
          30,
          14,
          14,
          12,
          10,
          8,
          8,
          6,
          4,
          4,
          4,
          2,
          2,
          2,
          2,
          2,
          2,
          2,
          2,
          2,
          8,
          4,
          4,
          2,
          2,
          2,
          24,
          18,
          14,
          12,
          12,
          6,
          6,
          6,
          4,
          4,
          4,
          4,
          18,
          18,
          14,
          12,
          8,
          6,
          6,
          4,
          4,
          4,
          4,
          4,
          4,
          2,
          2,
          2,
          4,
          480,
          480,
          15,
          14,
          8,
          8,
          6,
          6,
          4,
          2,
          16,
          6,
          2,
          2,
          2,
          2,
          2,
          48,
          2,
          20,
          14,
          6,
          6,
          4,
          128,
          80,
          10,
          6,
          95,
          34,
          28,
          14,
          8,
          4,
          168,
          154,
          28,
          18,
          14,
          8,
          8,
          6,
          28,
          14,
          281,
          80,
          34,
          18,
          10,
          4
         ],
         "yaxis": "y"
        },
        {
         "alignmentgroup": "True",
         "hovertemplate": "Motivo=Fluxo<br>Linha=%{x}<br>Tempo (min)=%{y}<extra></extra>",
         "legendgroup": "Fluxo",
         "marker": {
          "color": "#d63384",
          "pattern": {
           "shape": ""
          }
         },
         "name": "Fluxo",
         "offsetgroup": "Fluxo",
         "orientation": "v",
         "showlegend": true,
         "textposition": "auto",
         "type": "bar",
         "x": [
          1,
          1,
          1,
          1,
          1,
          3,
          3,
          3,
          3,
          4,
          7,
          7,
          7,
          7,
          7,
          8,
          8,
          8,
          9,
          9,
          9,
          9,
          10,
          11,
          11,
          12
         ],
         "xaxis": "x",
         "y": [
          30,
          6,
          6,
          2,
          2,
          6,
          4,
          6,
          4,
          10,
          12,
          10,
          6,
          2,
          12,
          16,
          2,
          12,
          30,
          12,
          8,
          2,
          18,
          40,
          12,
          4
         ],
         "yaxis": "y"
        },
        {
         "alignmentgroup": "True",
         "hovertemplate": "Motivo=Parada de 5 minutos ou menos<br>Linha=%{x}<br>Tempo (min)=%{y}<extra></extra>",
         "legendgroup": "Parada de 5 minutos ou menos",
         "marker": {
          "color": "#0d6efd",
          "pattern": {
           "shape": ""
          }
         },
         "name": "Parada de 5 minutos ou menos",
         "offsetgroup": "Parada de 5 minutos ou menos",
         "orientation": "v",
         "showlegend": true,
         "textposition": "auto",
         "type": "bar",
         "x": [
          1,
          1,
          1,
          2,
          2,
          2,
          2,
          2,
          3,
          3,
          3,
          4,
          7,
          7,
          7,
          7,
          7,
          8,
          8,
          8,
          9,
          9,
          10,
          10,
          11,
          11,
          11,
          11,
          11,
          12,
          12,
          13,
          13,
          13,
          13,
          13,
          13,
          13
         ],
         "xaxis": "x",
         "y": [
          2,
          2,
          2,
          2,
          2,
          2,
          2,
          2,
          5,
          2,
          3,
          2,
          2,
          2,
          2,
          2,
          2,
          2,
          2,
          2,
          4,
          4,
          4,
          2,
          2,
          2,
          4,
          2,
          2,
          2,
          2,
          2,
          2,
          2,
          2,
          2,
          2,
          2
         ],
         "yaxis": "y"
        },
        {
         "alignmentgroup": "True",
         "hovertemplate": "Motivo=Não apontado<br>Linha=%{x}<br>Tempo (min)=%{y}<extra></extra>",
         "legendgroup": "Não apontado",
         "marker": {
          "color": "#6c757d",
          "pattern": {
           "shape": ""
          }
         },
         "name": "Não apontado",
         "offsetgroup": "Não apontado",
         "orientation": "v",
         "showlegend": true,
         "textposition": "auto",
         "type": "bar",
         "x": [
          1,
          2,
          3,
          5,
          5,
          6,
          6,
          7,
          7,
          7,
          7,
          7,
          7,
          8,
          9,
          9,
          9,
          9,
          9,
          10,
          10,
          10,
          10,
          10,
          10,
          11,
          11,
          11,
          11,
          11,
          12,
          12,
          13,
          13,
          14,
          14,
          14,
          14,
          14
         ],
         "xaxis": "x",
         "y": [
          14,
          79,
          10,
          480,
          480,
          480,
          480,
          26,
          24,
          14,
          8,
          6,
          6,
          6,
          172,
          104,
          48,
          21,
          6,
          83,
          18,
          16,
          6,
          10,
          8,
          10,
          10,
          8,
          12,
          6,
          16,
          8,
          479,
          14,
          479,
          479,
          479,
          479,
          479
         ],
         "yaxis": "y"
        },
        {
         "alignmentgroup": "True",
         "hovertemplate": "Motivo=Manutenção<br>Linha=%{x}<br>Tempo (min)=%{y}<extra></extra>",
         "legendgroup": "Manutenção",
         "marker": {
          "color": "#282f44",
          "pattern": {
           "shape": ""
          }
         },
         "name": "Manutenção",
         "offsetgroup": "Manutenção",
         "orientation": "v",
         "showlegend": true,
         "textposition": "auto",
         "type": "bar",
         "x": [
          1,
          2,
          3,
          3,
          4,
          4,
          4,
          4,
          7,
          7,
          8,
          8,
          9,
          9,
          10,
          11,
          11,
          11,
          13,
          13
         ],
         "xaxis": "x",
         "y": [
          8,
          12,
          44,
          30,
          4,
          4,
          4,
          36,
          8,
          8,
          52,
          40,
          22,
          20,
          363,
          42,
          34,
          26,
          58,
          33
         ],
         "yaxis": "y"
        },
        {
         "alignmentgroup": "True",
         "hovertemplate": "Motivo=Saída para Backup<br>Linha=%{x}<br>Tempo (min)=%{y}<extra></extra>",
         "legendgroup": "Saída para Backup",
         "marker": {
          "color": "#636efa",
          "pattern": {
           "shape": ""
          }
         },
         "name": "Saída para Backup",
         "offsetgroup": "Saída para Backup",
         "orientation": "v",
         "showlegend": true,
         "textposition": "auto",
         "type": "bar",
         "x": [
          3,
          4,
          9,
          9
         ],
         "xaxis": "x",
         "y": [
          34,
          2,
          300,
          8
         ],
         "yaxis": "y"
        },
        {
         "alignmentgroup": "True",
         "hovertemplate": "Motivo=Setup<br>Linha=%{x}<br>Tempo (min)=%{y}<extra></extra>",
         "legendgroup": "Setup",
         "marker": {
          "color": "#6c757d",
          "pattern": {
           "shape": ""
          }
         },
         "name": "Setup",
         "offsetgroup": "Setup",
         "orientation": "v",
         "showlegend": true,
         "textposition": "auto",
         "type": "bar",
         "x": [
          3,
          8,
          8,
          13,
          13
         ],
         "xaxis": "x",
         "y": [
          96,
          306,
          80,
          26,
          4
         ],
         "yaxis": "y"
        }
       ],
       "layout": {
        "barmode": "stack",
        "legend": {
         "title": {
          "text": "Motivo"
         },
         "tracegroupgap": 0
        },
        "margin": {
         "b": 40,
         "l": 40,
         "r": 40,
         "t": 40
        },
        "plot_bgcolor": "RGBA(0,0,0,0.01)",
        "template": {
         "data": {
          "bar": [
           {
            "error_x": {
             "color": "#2a3f5f"
            },
            "error_y": {
             "color": "#2a3f5f"
            },
            "marker": {
             "line": {
              "color": "#E5ECF6",
              "width": 0.5
             },
             "pattern": {
              "fillmode": "overlay",
              "size": 10,
              "solidity": 0.2
             }
            },
            "type": "bar"
           }
          ],
          "barpolar": [
           {
            "marker": {
             "line": {
              "color": "#E5ECF6",
              "width": 0.5
             },
             "pattern": {
              "fillmode": "overlay",
              "size": 10,
              "solidity": 0.2
             }
            },
            "type": "barpolar"
           }
          ],
          "carpet": [
           {
            "aaxis": {
             "endlinecolor": "#2a3f5f",
             "gridcolor": "white",
             "linecolor": "white",
             "minorgridcolor": "white",
             "startlinecolor": "#2a3f5f"
            },
            "baxis": {
             "endlinecolor": "#2a3f5f",
             "gridcolor": "white",
             "linecolor": "white",
             "minorgridcolor": "white",
             "startlinecolor": "#2a3f5f"
            },
            "type": "carpet"
           }
          ],
          "choropleth": [
           {
            "colorbar": {
             "outlinewidth": 0,
             "ticks": ""
            },
            "type": "choropleth"
           }
          ],
          "contour": [
           {
            "colorbar": {
             "outlinewidth": 0,
             "ticks": ""
            },
            "colorscale": [
             [
              0,
              "#0d0887"
             ],
             [
              0.1111111111111111,
              "#46039f"
             ],
             [
              0.2222222222222222,
              "#7201a8"
             ],
             [
              0.3333333333333333,
              "#9c179e"
             ],
             [
              0.4444444444444444,
              "#bd3786"
             ],
             [
              0.5555555555555556,
              "#d8576b"
             ],
             [
              0.6666666666666666,
              "#ed7953"
             ],
             [
              0.7777777777777778,
              "#fb9f3a"
             ],
             [
              0.8888888888888888,
              "#fdca26"
             ],
             [
              1,
              "#f0f921"
             ]
            ],
            "type": "contour"
           }
          ],
          "contourcarpet": [
           {
            "colorbar": {
             "outlinewidth": 0,
             "ticks": ""
            },
            "type": "contourcarpet"
           }
          ],
          "heatmap": [
           {
            "colorbar": {
             "outlinewidth": 0,
             "ticks": ""
            },
            "colorscale": [
             [
              0,
              "#0d0887"
             ],
             [
              0.1111111111111111,
              "#46039f"
             ],
             [
              0.2222222222222222,
              "#7201a8"
             ],
             [
              0.3333333333333333,
              "#9c179e"
             ],
             [
              0.4444444444444444,
              "#bd3786"
             ],
             [
              0.5555555555555556,
              "#d8576b"
             ],
             [
              0.6666666666666666,
              "#ed7953"
             ],
             [
              0.7777777777777778,
              "#fb9f3a"
             ],
             [
              0.8888888888888888,
              "#fdca26"
             ],
             [
              1,
              "#f0f921"
             ]
            ],
            "type": "heatmap"
           }
          ],
          "heatmapgl": [
           {
            "colorbar": {
             "outlinewidth": 0,
             "ticks": ""
            },
            "colorscale": [
             [
              0,
              "#0d0887"
             ],
             [
              0.1111111111111111,
              "#46039f"
             ],
             [
              0.2222222222222222,
              "#7201a8"
             ],
             [
              0.3333333333333333,
              "#9c179e"
             ],
             [
              0.4444444444444444,
              "#bd3786"
             ],
             [
              0.5555555555555556,
              "#d8576b"
             ],
             [
              0.6666666666666666,
              "#ed7953"
             ],
             [
              0.7777777777777778,
              "#fb9f3a"
             ],
             [
              0.8888888888888888,
              "#fdca26"
             ],
             [
              1,
              "#f0f921"
             ]
            ],
            "type": "heatmapgl"
           }
          ],
          "histogram": [
           {
            "marker": {
             "pattern": {
              "fillmode": "overlay",
              "size": 10,
              "solidity": 0.2
             }
            },
            "type": "histogram"
           }
          ],
          "histogram2d": [
           {
            "colorbar": {
             "outlinewidth": 0,
             "ticks": ""
            },
            "colorscale": [
             [
              0,
              "#0d0887"
             ],
             [
              0.1111111111111111,
              "#46039f"
             ],
             [
              0.2222222222222222,
              "#7201a8"
             ],
             [
              0.3333333333333333,
              "#9c179e"
             ],
             [
              0.4444444444444444,
              "#bd3786"
             ],
             [
              0.5555555555555556,
              "#d8576b"
             ],
             [
              0.6666666666666666,
              "#ed7953"
             ],
             [
              0.7777777777777778,
              "#fb9f3a"
             ],
             [
              0.8888888888888888,
              "#fdca26"
             ],
             [
              1,
              "#f0f921"
             ]
            ],
            "type": "histogram2d"
           }
          ],
          "histogram2dcontour": [
           {
            "colorbar": {
             "outlinewidth": 0,
             "ticks": ""
            },
            "colorscale": [
             [
              0,
              "#0d0887"
             ],
             [
              0.1111111111111111,
              "#46039f"
             ],
             [
              0.2222222222222222,
              "#7201a8"
             ],
             [
              0.3333333333333333,
              "#9c179e"
             ],
             [
              0.4444444444444444,
              "#bd3786"
             ],
             [
              0.5555555555555556,
              "#d8576b"
             ],
             [
              0.6666666666666666,
              "#ed7953"
             ],
             [
              0.7777777777777778,
              "#fb9f3a"
             ],
             [
              0.8888888888888888,
              "#fdca26"
             ],
             [
              1,
              "#f0f921"
             ]
            ],
            "type": "histogram2dcontour"
           }
          ],
          "mesh3d": [
           {
            "colorbar": {
             "outlinewidth": 0,
             "ticks": ""
            },
            "type": "mesh3d"
           }
          ],
          "parcoords": [
           {
            "line": {
             "colorbar": {
              "outlinewidth": 0,
              "ticks": ""
             }
            },
            "type": "parcoords"
           }
          ],
          "pie": [
           {
            "automargin": true,
            "type": "pie"
           }
          ],
          "scatter": [
           {
            "fillpattern": {
             "fillmode": "overlay",
             "size": 10,
             "solidity": 0.2
            },
            "type": "scatter"
           }
          ],
          "scatter3d": [
           {
            "line": {
             "colorbar": {
              "outlinewidth": 0,
              "ticks": ""
             }
            },
            "marker": {
             "colorbar": {
              "outlinewidth": 0,
              "ticks": ""
             }
            },
            "type": "scatter3d"
           }
          ],
          "scattercarpet": [
           {
            "marker": {
             "colorbar": {
              "outlinewidth": 0,
              "ticks": ""
             }
            },
            "type": "scattercarpet"
           }
          ],
          "scattergeo": [
           {
            "marker": {
             "colorbar": {
              "outlinewidth": 0,
              "ticks": ""
             }
            },
            "type": "scattergeo"
           }
          ],
          "scattergl": [
           {
            "marker": {
             "colorbar": {
              "outlinewidth": 0,
              "ticks": ""
             }
            },
            "type": "scattergl"
           }
          ],
          "scattermapbox": [
           {
            "marker": {
             "colorbar": {
              "outlinewidth": 0,
              "ticks": ""
             }
            },
            "type": "scattermapbox"
           }
          ],
          "scatterpolar": [
           {
            "marker": {
             "colorbar": {
              "outlinewidth": 0,
              "ticks": ""
             }
            },
            "type": "scatterpolar"
           }
          ],
          "scatterpolargl": [
           {
            "marker": {
             "colorbar": {
              "outlinewidth": 0,
              "ticks": ""
             }
            },
            "type": "scatterpolargl"
           }
          ],
          "scatterternary": [
           {
            "marker": {
             "colorbar": {
              "outlinewidth": 0,
              "ticks": ""
             }
            },
            "type": "scatterternary"
           }
          ],
          "surface": [
           {
            "colorbar": {
             "outlinewidth": 0,
             "ticks": ""
            },
            "colorscale": [
             [
              0,
              "#0d0887"
             ],
             [
              0.1111111111111111,
              "#46039f"
             ],
             [
              0.2222222222222222,
              "#7201a8"
             ],
             [
              0.3333333333333333,
              "#9c179e"
             ],
             [
              0.4444444444444444,
              "#bd3786"
             ],
             [
              0.5555555555555556,
              "#d8576b"
             ],
             [
              0.6666666666666666,
              "#ed7953"
             ],
             [
              0.7777777777777778,
              "#fb9f3a"
             ],
             [
              0.8888888888888888,
              "#fdca26"
             ],
             [
              1,
              "#f0f921"
             ]
            ],
            "type": "surface"
           }
          ],
          "table": [
           {
            "cells": {
             "fill": {
              "color": "#EBF0F8"
             },
             "line": {
              "color": "white"
             }
            },
            "header": {
             "fill": {
              "color": "#C8D4E3"
             },
             "line": {
              "color": "white"
             }
            },
            "type": "table"
           }
          ]
         },
         "layout": {
          "annotationdefaults": {
           "arrowcolor": "#2a3f5f",
           "arrowhead": 0,
           "arrowwidth": 1
          },
          "autotypenumbers": "strict",
          "coloraxis": {
           "colorbar": {
            "outlinewidth": 0,
            "ticks": ""
           }
          },
          "colorscale": {
           "diverging": [
            [
             0,
             "#8e0152"
            ],
            [
             0.1,
             "#c51b7d"
            ],
            [
             0.2,
             "#de77ae"
            ],
            [
             0.3,
             "#f1b6da"
            ],
            [
             0.4,
             "#fde0ef"
            ],
            [
             0.5,
             "#f7f7f7"
            ],
            [
             0.6,
             "#e6f5d0"
            ],
            [
             0.7,
             "#b8e186"
            ],
            [
             0.8,
             "#7fbc41"
            ],
            [
             0.9,
             "#4d9221"
            ],
            [
             1,
             "#276419"
            ]
           ],
           "sequential": [
            [
             0,
             "#0d0887"
            ],
            [
             0.1111111111111111,
             "#46039f"
            ],
            [
             0.2222222222222222,
             "#7201a8"
            ],
            [
             0.3333333333333333,
             "#9c179e"
            ],
            [
             0.4444444444444444,
             "#bd3786"
            ],
            [
             0.5555555555555556,
             "#d8576b"
            ],
            [
             0.6666666666666666,
             "#ed7953"
            ],
            [
             0.7777777777777778,
             "#fb9f3a"
            ],
            [
             0.8888888888888888,
             "#fdca26"
            ],
            [
             1,
             "#f0f921"
            ]
           ],
           "sequentialminus": [
            [
             0,
             "#0d0887"
            ],
            [
             0.1111111111111111,
             "#46039f"
            ],
            [
             0.2222222222222222,
             "#7201a8"
            ],
            [
             0.3333333333333333,
             "#9c179e"
            ],
            [
             0.4444444444444444,
             "#bd3786"
            ],
            [
             0.5555555555555556,
             "#d8576b"
            ],
            [
             0.6666666666666666,
             "#ed7953"
            ],
            [
             0.7777777777777778,
             "#fb9f3a"
            ],
            [
             0.8888888888888888,
             "#fdca26"
            ],
            [
             1,
             "#f0f921"
            ]
           ]
          },
          "colorway": [
           "#636efa",
           "#EF553B",
           "#00cc96",
           "#ab63fa",
           "#FFA15A",
           "#19d3f3",
           "#FF6692",
           "#B6E880",
           "#FF97FF",
           "#FECB52"
          ],
          "font": {
           "color": "#2a3f5f"
          },
          "geo": {
           "bgcolor": "white",
           "lakecolor": "white",
           "landcolor": "#E5ECF6",
           "showlakes": true,
           "showland": true,
           "subunitcolor": "white"
          },
          "hoverlabel": {
           "align": "left"
          },
          "hovermode": "closest",
          "mapbox": {
           "style": "light"
          },
          "paper_bgcolor": "white",
          "plot_bgcolor": "#E5ECF6",
          "polar": {
           "angularaxis": {
            "gridcolor": "white",
            "linecolor": "white",
            "ticks": ""
           },
           "bgcolor": "#E5ECF6",
           "radialaxis": {
            "gridcolor": "white",
            "linecolor": "white",
            "ticks": ""
           }
          },
          "scene": {
           "xaxis": {
            "backgroundcolor": "#E5ECF6",
            "gridcolor": "white",
            "gridwidth": 2,
            "linecolor": "white",
            "showbackground": true,
            "ticks": "",
            "zerolinecolor": "white"
           },
           "yaxis": {
            "backgroundcolor": "#E5ECF6",
            "gridcolor": "white",
            "gridwidth": 2,
            "linecolor": "white",
            "showbackground": true,
            "ticks": "",
            "zerolinecolor": "white"
           },
           "zaxis": {
            "backgroundcolor": "#E5ECF6",
            "gridcolor": "white",
            "gridwidth": 2,
            "linecolor": "white",
            "showbackground": true,
            "ticks": "",
            "zerolinecolor": "white"
           }
          },
          "shapedefaults": {
           "line": {
            "color": "#2a3f5f"
           }
          },
          "ternary": {
           "aaxis": {
            "gridcolor": "white",
            "linecolor": "white",
            "ticks": ""
           },
           "baxis": {
            "gridcolor": "white",
            "linecolor": "white",
            "ticks": ""
           },
           "bgcolor": "#E5ECF6",
           "caxis": {
            "gridcolor": "white",
            "linecolor": "white",
            "ticks": ""
           }
          },
          "title": {
           "x": 0.05
          },
          "xaxis": {
           "automargin": true,
           "gridcolor": "white",
           "linecolor": "white",
           "ticks": "",
           "title": {
            "standoff": 15
           },
           "zerolinecolor": "white",
           "zerolinewidth": 2
          },
          "yaxis": {
           "automargin": true,
           "gridcolor": "white",
           "linecolor": "white",
           "ticks": "",
           "title": {
            "standoff": 15
           },
           "zerolinecolor": "white",
           "zerolinewidth": 2
          }
         }
        },
        "title": {
         "text": "Detalhes de Tempo",
         "x": 0.5
        },
        "xaxis": {
         "anchor": "y",
         "categoryorder": "category ascending",
         "domain": [
          0,
          1
         ],
         "tickfont": {
          "color": "gray"
         },
         "tickvals": [
          1,
          2,
          3,
          4,
          5,
          6,
          7,
          8,
          9,
          10,
          11,
          12,
          13,
          14
         ],
         "title": {
          "text": "Linha"
         }
        },
        "yaxis": {
         "anchor": "x",
         "domain": [
          0,
          1
         ],
         "tickfont": {
          "color": "gray"
         },
         "title": {
          "text": "Tempo (min)"
         }
        }
       }
      }
     },
     "metadata": {},
     "output_type": "display_data"
    }
   ],
   "source": [
    "chart_details = bar_chart_details.create_bar_chart_details(\n",
    "    df_maq_stopped.copy(), IndicatorType.EFFICIENCY, working=df_time_working.copy()\n",
    ")\n",
    "chart_details"
   ]
  },
  {
   "cell_type": "code",
   "execution_count": 43,
   "metadata": {},
   "outputs": [
    {
     "data": {
      "application/vnd.plotly.v1+json": {
       "config": {
        "plotlyServerURL": "https://plot.ly"
       },
       "data": [
        {
         "alignmentgroup": "True",
         "hovertemplate": "Problema=Quantidade de Recheio não Conforme<br>Linha=%{x}<br>Tempo (min)=%{y}<extra></extra>",
         "legendgroup": "Quantidade de Recheio não Conforme",
         "marker": {
          "color": "#1f77b4",
          "pattern": {
           "shape": ""
          }
         },
         "name": "Quantidade de Recheio não Conforme",
         "offsetgroup": "Quantidade de Recheio não Conforme",
         "orientation": "v",
         "showlegend": true,
         "textposition": "auto",
         "type": "bar",
         "x": [
          1,
          1,
          1,
          1,
          2,
          2,
          2,
          2,
          2,
          3,
          3,
          3,
          3,
          4,
          7,
          7,
          11
         ],
         "xaxis": "x",
         "y": [
          122,
          2,
          12,
          16,
          6,
          12,
          14,
          2,
          4,
          4,
          6,
          18,
          14,
          18,
          2,
          6,
          14
         ],
         "yaxis": "y"
        },
        {
         "alignmentgroup": "True",
         "hovertemplate": "Problema=Parada de 5 minutos ou menos<br>Linha=%{x}<br>Tempo (min)=%{y}<extra></extra>",
         "legendgroup": "Parada de 5 minutos ou menos",
         "marker": {
          "color": "#aec7e8",
          "pattern": {
           "shape": ""
          }
         },
         "name": "Parada de 5 minutos ou menos",
         "offsetgroup": "Parada de 5 minutos ou menos",
         "orientation": "v",
         "showlegend": true,
         "textposition": "auto",
         "type": "bar",
         "x": [
          1,
          1,
          1,
          2,
          2,
          2,
          2,
          2,
          3,
          3,
          3,
          4,
          7,
          7,
          7,
          7,
          7,
          8,
          8,
          8,
          9,
          9,
          10,
          10,
          11,
          11,
          11,
          11,
          11,
          12,
          12,
          13,
          13,
          13,
          13,
          13,
          13,
          13
         ],
         "xaxis": "x",
         "y": [
          2,
          2,
          2,
          2,
          2,
          2,
          2,
          2,
          2,
          5,
          3,
          2,
          2,
          2,
          2,
          2,
          2,
          2,
          2,
          2,
          4,
          4,
          4,
          2,
          2,
          2,
          2,
          4,
          2,
          2,
          2,
          2,
          2,
          2,
          2,
          2,
          2,
          2
         ],
         "yaxis": "y"
        },
        {
         "alignmentgroup": "True",
         "hovertemplate": "Problema=Esteira Cheia<br>Linha=%{x}<br>Tempo (min)=%{y}<extra></extra>",
         "legendgroup": "Esteira Cheia",
         "marker": {
          "color": "#ff7f0e",
          "pattern": {
           "shape": ""
          }
         },
         "name": "Esteira Cheia",
         "offsetgroup": "Esteira Cheia",
         "orientation": "v",
         "showlegend": true,
         "textposition": "auto",
         "type": "bar",
         "x": [
          1,
          1,
          1,
          1,
          1,
          3,
          3,
          3,
          3,
          4,
          7,
          7,
          7,
          7,
          7,
          8,
          8,
          8,
          9,
          9,
          9,
          9,
          10,
          11,
          11,
          12
         ],
         "xaxis": "x",
         "y": [
          30,
          6,
          6,
          2,
          2,
          4,
          6,
          4,
          6,
          10,
          6,
          10,
          12,
          2,
          12,
          2,
          16,
          12,
          30,
          12,
          2,
          8,
          18,
          40,
          12,
          4
         ],
         "yaxis": "y"
        },
        {
         "alignmentgroup": "True",
         "hovertemplate": "Problema=Robô Travando<br>Linha=%{x}<br>Tempo (min)=%{y}<extra></extra>",
         "legendgroup": "Robô Travando",
         "marker": {
          "color": "#ffbb78",
          "pattern": {
           "shape": ""
          }
         },
         "name": "Robô Travando",
         "offsetgroup": "Robô Travando",
         "orientation": "v",
         "showlegend": true,
         "textposition": "auto",
         "type": "bar",
         "x": [
          1,
          1,
          1,
          1,
          1,
          1,
          1,
          1,
          1,
          1,
          1,
          1,
          1,
          1,
          1,
          1,
          2,
          2,
          2,
          2,
          2,
          2,
          2,
          2,
          2,
          2,
          2,
          2,
          2,
          2,
          2,
          2,
          2,
          2,
          3,
          3,
          3,
          4,
          4,
          4,
          4,
          4,
          4,
          4,
          4,
          4,
          4,
          4,
          4,
          4,
          5,
          6,
          10,
          10,
          10,
          10,
          11,
          11,
          11,
          11,
          11,
          12,
          12,
          12,
          12,
          12,
          12,
          12,
          13,
          13,
          13,
          13,
          13,
          13
         ],
         "xaxis": "x",
         "y": [
          6,
          4,
          24,
          10,
          12,
          2,
          2,
          4,
          18,
          2,
          2,
          2,
          8,
          2,
          4,
          12,
          30,
          2,
          4,
          2,
          14,
          10,
          2,
          8,
          2,
          2,
          8,
          2,
          2,
          12,
          2,
          4,
          4,
          8,
          24,
          12,
          30,
          4,
          4,
          4,
          2,
          4,
          4,
          12,
          14,
          4,
          4,
          6,
          36,
          4,
          480,
          480,
          128,
          80,
          10,
          6,
          26,
          34,
          28,
          8,
          95,
          28,
          6,
          8,
          8,
          154,
          28,
          14,
          33,
          4,
          80,
          10,
          34,
          281
         ],
         "yaxis": "y"
        },
        {
         "alignmentgroup": "True",
         "hovertemplate": "Problema=Troca de Bobina<br>Linha=%{x}<br>Tempo (min)=%{y}<extra></extra>",
         "legendgroup": "Troca de Bobina",
         "marker": {
          "color": "#2ca02c",
          "pattern": {
           "shape": ""
          }
         },
         "name": "Troca de Bobina",
         "offsetgroup": "Troca de Bobina",
         "orientation": "v",
         "showlegend": true,
         "textposition": "auto",
         "type": "bar",
         "x": [
          1,
          1,
          1,
          1,
          1,
          1,
          2,
          2,
          2,
          2,
          3,
          4,
          4,
          7,
          7,
          7,
          8,
          8,
          8,
          8,
          8,
          9,
          9,
          9,
          13
         ],
         "xaxis": "x",
         "y": [
          10,
          4,
          10,
          18,
          8,
          12,
          236,
          2,
          4,
          2,
          18,
          6,
          2,
          8,
          8,
          15,
          2,
          2,
          2,
          48,
          2,
          14,
          20,
          4,
          18
         ],
         "yaxis": "y"
        },
        {
         "alignmentgroup": "True",
         "hovertemplate": "Problema=Bobina desenquadrando na vertical<br>Linha=%{x}<br>Tempo (min)=%{y}<extra></extra>",
         "legendgroup": "Bobina desenquadrando na vertical",
         "marker": {
          "color": "#98df8a",
          "pattern": {
           "shape": ""
          }
         },
         "name": "Bobina desenquadrando na vertical",
         "offsetgroup": "Bobina desenquadrando na vertical",
         "orientation": "v",
         "showlegend": true,
         "textposition": "auto",
         "type": "bar",
         "x": [
          1,
          1,
          1
         ],
         "xaxis": "x",
         "y": [
          12,
          2,
          4
         ],
         "yaxis": "y"
        },
        {
         "alignmentgroup": "True",
         "hovertemplate": "Problema=Parada Planejada<br>Linha=%{x}<br>Tempo (min)=%{y}<extra></extra>",
         "legendgroup": "Parada Planejada",
         "marker": {
          "color": "#d62728",
          "pattern": {
           "shape": ""
          }
         },
         "name": "Parada Planejada",
         "offsetgroup": "Parada Planejada",
         "orientation": "v",
         "showlegend": true,
         "textposition": "auto",
         "type": "bar",
         "x": [
          1,
          1,
          1,
          2,
          2,
          2,
          2,
          2,
          3,
          3,
          3,
          3,
          3,
          3,
          3,
          3,
          3,
          3,
          3,
          3,
          3,
          3,
          3,
          3,
          3,
          4,
          4,
          4,
          4,
          4,
          4,
          4,
          4,
          4,
          4,
          5,
          5,
          5,
          6,
          6,
          6,
          7,
          7,
          7,
          7,
          7,
          7,
          7,
          7,
          7,
          7,
          7,
          7,
          7,
          7,
          8,
          8,
          8,
          8,
          8,
          8,
          9,
          9,
          9,
          9,
          9,
          9,
          9,
          10,
          10,
          10,
          10,
          10,
          10,
          10,
          11,
          11,
          11,
          11,
          11,
          11,
          11,
          11,
          12,
          12,
          12,
          12,
          12,
          12,
          12,
          12,
          13,
          13,
          13,
          13
         ],
         "xaxis": "x",
         "y": [
          2,
          68,
          64,
          10,
          38,
          2,
          70,
          62,
          469,
          80,
          22,
          192,
          5,
          34,
          6,
          2,
          4,
          2,
          16,
          50,
          6,
          2,
          8,
          2,
          42,
          308,
          2,
          2,
          2,
          68,
          128,
          5,
          62,
          2,
          4,
          22,
          459,
          480,
          22,
          459,
          480,
          122,
          64,
          4,
          134,
          16,
          2,
          2,
          2,
          66,
          4,
          2,
          2,
          10,
          2,
          68,
          8,
          130,
          7,
          14,
          64,
          64,
          7,
          110,
          132,
          104,
          51,
          4,
          480,
          304,
          46,
          2,
          121,
          198,
          277,
          74,
          62,
          4,
          68,
          12,
          76,
          28,
          88,
          28,
          6,
          92,
          90,
          68,
          311,
          348,
          124,
          74,
          256,
          10,
          66
         ],
         "yaxis": "y"
        },
        {
         "alignmentgroup": "True",
         "hovertemplate": "Problema=Bobina Inferior saindo da Corrente<br>Linha=%{x}<br>Tempo (min)=%{y}<extra></extra>",
         "legendgroup": "Bobina Inferior saindo da Corrente",
         "marker": {
          "color": "#ff9896",
          "pattern": {
           "shape": ""
          }
         },
         "name": "Bobina Inferior saindo da Corrente",
         "offsetgroup": "Bobina Inferior saindo da Corrente",
         "orientation": "v",
         "showlegend": true,
         "textposition": "auto",
         "type": "bar",
         "x": [
          1,
          1,
          1,
          4,
          4,
          11
         ],
         "xaxis": "x",
         "y": [
          2,
          6,
          8,
          4,
          2,
          4
         ],
         "yaxis": "y"
        },
        {
         "alignmentgroup": "True",
         "hovertemplate": "Problema=Não apontado<br>Linha=%{x}<br>Tempo (min)=%{y}<extra></extra>",
         "legendgroup": "Não apontado",
         "marker": {
          "color": "#9467bd",
          "pattern": {
           "shape": ""
          }
         },
         "name": "Não apontado",
         "offsetgroup": "Não apontado",
         "orientation": "v",
         "showlegend": true,
         "textposition": "auto",
         "type": "bar",
         "x": [
          1,
          2,
          3,
          5,
          5,
          6,
          6,
          7,
          7,
          7,
          7,
          7,
          7,
          8,
          9,
          9,
          9,
          9,
          9,
          10,
          10,
          10,
          10,
          10,
          10,
          11,
          11,
          11,
          11,
          11,
          12,
          12,
          13,
          13,
          14,
          14,
          14,
          14,
          14
         ],
         "xaxis": "x",
         "y": [
          14,
          79,
          10,
          480,
          480,
          480,
          480,
          8,
          14,
          24,
          6,
          26,
          6,
          6,
          172,
          6,
          104,
          48,
          21,
          16,
          6,
          18,
          83,
          10,
          8,
          10,
          8,
          10,
          12,
          6,
          8,
          16,
          14,
          479,
          479,
          479,
          479,
          479,
          479
         ],
         "yaxis": "y"
        },
        {
         "alignmentgroup": "True",
         "hovertemplate": "Problema=Pão amassado<br>Linha=%{x}<br>Tempo (min)=%{y}<extra></extra>",
         "legendgroup": "Pão amassado",
         "marker": {
          "color": "#c5b0d5",
          "pattern": {
           "shape": ""
          }
         },
         "name": "Pão amassado",
         "offsetgroup": "Pão amassado",
         "orientation": "v",
         "showlegend": true,
         "textposition": "auto",
         "type": "bar",
         "x": [
          2,
          11
         ],
         "xaxis": "x",
         "y": [
          2,
          42
         ],
         "yaxis": "y"
        },
        {
         "alignmentgroup": "True",
         "hovertemplate": "Problema=Bobina desenquadrando na horizontal<br>Linha=%{x}<br>Tempo (min)=%{y}<extra></extra>",
         "legendgroup": "Bobina desenquadrando na horizontal",
         "marker": {
          "color": "#8c564b",
          "pattern": {
           "shape": ""
          }
         },
         "name": "Bobina desenquadrando na horizontal",
         "offsetgroup": "Bobina desenquadrando na horizontal",
         "orientation": "v",
         "showlegend": true,
         "textposition": "auto",
         "type": "bar",
         "x": [
          3,
          3,
          3
         ],
         "xaxis": "x",
         "y": [
          6,
          4,
          4
         ],
         "yaxis": "y"
        },
        {
         "alignmentgroup": "True",
         "hovertemplate": "Problema=Bobina Desenquadrando<br>Linha=%{x}<br>Tempo (min)=%{y}<extra></extra>",
         "legendgroup": "Bobina Desenquadrando",
         "marker": {
          "color": "#c49c94",
          "pattern": {
           "shape": ""
          }
         },
         "name": "Bobina Desenquadrando",
         "offsetgroup": "Bobina Desenquadrando",
         "orientation": "v",
         "showlegend": true,
         "textposition": "auto",
         "type": "bar",
         "x": [
          3
         ],
         "xaxis": "x",
         "y": [
          44
         ],
         "yaxis": "y"
        },
        {
         "alignmentgroup": "True",
         "hovertemplate": "Problema=Abrindo Bandejas<br>Linha=%{x}<br>Tempo (min)=%{y}<extra></extra>",
         "legendgroup": "Abrindo Bandejas",
         "marker": {
          "color": "#e377c2",
          "pattern": {
           "shape": ""
          }
         },
         "name": "Abrindo Bandejas",
         "offsetgroup": "Abrindo Bandejas",
         "orientation": "v",
         "showlegend": true,
         "textposition": "auto",
         "type": "bar",
         "x": [
          3,
          3,
          3,
          4,
          7,
          8,
          8,
          12,
          12,
          12
         ],
         "xaxis": "x",
         "y": [
          12,
          6,
          4,
          8,
          6,
          52,
          40,
          18,
          14,
          168
         ],
         "yaxis": "y"
        },
        {
         "alignmentgroup": "True",
         "hovertemplate": "Problema=Parada para Treinamento<br>Linha=%{x}<br>Tempo (min)=%{y}<extra></extra>",
         "legendgroup": "Parada para Treinamento",
         "marker": {
          "color": "#f7b6d2",
          "pattern": {
           "shape": ""
          }
         },
         "name": "Parada para Treinamento",
         "offsetgroup": "Parada para Treinamento",
         "orientation": "v",
         "showlegend": true,
         "textposition": "auto",
         "type": "bar",
         "x": [
          3
         ],
         "xaxis": "x",
         "y": [
          6
         ],
         "yaxis": "y"
        },
        {
         "alignmentgroup": "True",
         "hovertemplate": "Problema=Troca de Produto<br>Linha=%{x}<br>Tempo (min)=%{y}<extra></extra>",
         "legendgroup": "Troca de Produto",
         "marker": {
          "color": "#7f7f7f",
          "pattern": {
           "shape": ""
          }
         },
         "name": "Troca de Produto",
         "offsetgroup": "Troca de Produto",
         "orientation": "v",
         "showlegend": true,
         "textposition": "auto",
         "type": "bar",
         "x": [
          3,
          8,
          8
         ],
         "xaxis": "x",
         "y": [
          96,
          306,
          80
         ],
         "yaxis": "y"
        },
        {
         "alignmentgroup": "True",
         "hovertemplate": "Problema=Bandeja deformada ou manchada<br>Linha=%{x}<br>Tempo (min)=%{y}<extra></extra>",
         "legendgroup": "Bandeja deformada ou manchada",
         "marker": {
          "color": "#c7c7c7",
          "pattern": {
           "shape": ""
          }
         },
         "name": "Bandeja deformada ou manchada",
         "offsetgroup": "Bandeja deformada ou manchada",
         "orientation": "v",
         "showlegend": true,
         "textposition": "auto",
         "type": "bar",
         "x": [
          4,
          8,
          9
         ],
         "xaxis": "x",
         "y": [
          4,
          16,
          6
         ],
         "yaxis": "y"
        },
        {
         "alignmentgroup": "True",
         "hovertemplate": "Problema=Alarme constante ou não sai<br>Linha=%{x}<br>Tempo (min)=%{y}<extra></extra>",
         "legendgroup": "Alarme constante ou não sai",
         "marker": {
          "color": "#bcbd22",
          "pattern": {
           "shape": ""
          }
         },
         "name": "Alarme constante ou não sai",
         "offsetgroup": "Alarme constante ou não sai",
         "orientation": "v",
         "showlegend": true,
         "textposition": "auto",
         "type": "bar",
         "x": [
          7,
          7,
          9,
          9,
          9
         ],
         "xaxis": "x",
         "y": [
          8,
          8,
          8,
          300,
          22
         ],
         "yaxis": "y"
        },
        {
         "alignmentgroup": "True",
         "hovertemplate": "Problema=Falha no teste do corpo de prova<br>Linha=%{x}<br>Tempo (min)=%{y}<extra></extra>",
         "legendgroup": "Falha no teste do corpo de prova",
         "marker": {
          "color": "#dbdb8d",
          "pattern": {
           "shape": ""
          }
         },
         "name": "Falha no teste do corpo de prova",
         "offsetgroup": "Falha no teste do corpo de prova",
         "orientation": "v",
         "showlegend": true,
         "textposition": "auto",
         "type": "bar",
         "x": [
          7,
          7,
          8,
          9
         ],
         "xaxis": "x",
         "y": [
          14,
          4,
          6,
          6
         ],
         "yaxis": "y"
        },
        {
         "alignmentgroup": "True",
         "hovertemplate": "Problema=Bandeja Murcha ou Cheia<br>Linha=%{x}<br>Tempo (min)=%{y}<extra></extra>",
         "legendgroup": "Bandeja Murcha ou Cheia",
         "marker": {
          "color": "#17becf",
          "pattern": {
           "shape": ""
          }
         },
         "name": "Bandeja Murcha ou Cheia",
         "offsetgroup": "Bandeja Murcha ou Cheia",
         "orientation": "v",
         "showlegend": true,
         "textposition": "auto",
         "type": "bar",
         "x": [
          8,
          8,
          10,
          11
         ],
         "xaxis": "x",
         "y": [
          2,
          2,
          363,
          34
         ],
         "yaxis": "y"
        },
        {
         "alignmentgroup": "True",
         "hovertemplate": "Problema=Falha no corte da bandeja<br>Linha=%{x}<br>Tempo (min)=%{y}<extra></extra>",
         "legendgroup": "Falha no corte da bandeja",
         "marker": {
          "color": "#9edae5",
          "pattern": {
           "shape": ""
          }
         },
         "name": "Falha no corte da bandeja",
         "offsetgroup": "Falha no corte da bandeja",
         "orientation": "v",
         "showlegend": true,
         "textposition": "auto",
         "type": "bar",
         "x": [
          9
         ],
         "xaxis": "x",
         "y": [
          20
         ],
         "yaxis": "y"
        },
        {
         "alignmentgroup": "True",
         "hovertemplate": "Problema=Parada de função da máquina<br>Linha=%{x}<br>Tempo (min)=%{y}<extra></extra>",
         "legendgroup": "Parada de função da máquina",
         "marker": {
          "color": "#1f77b4",
          "pattern": {
           "shape": ""
          }
         },
         "name": "Parada de função da máquina",
         "offsetgroup": "Parada de função da máquina",
         "orientation": "v",
         "showlegend": true,
         "textposition": "auto",
         "type": "bar",
         "x": [
          13
         ],
         "xaxis": "x",
         "y": [
          58
         ],
         "yaxis": "y"
        },
        {
         "alignmentgroup": "True",
         "hovertemplate": "Problema=Troca de Sabor<br>Linha=%{x}<br>Tempo (min)=%{y}<extra></extra>",
         "legendgroup": "Troca de Sabor",
         "marker": {
          "color": "#aec7e8",
          "pattern": {
           "shape": ""
          }
         },
         "name": "Troca de Sabor",
         "offsetgroup": "Troca de Sabor",
         "orientation": "v",
         "showlegend": true,
         "textposition": "auto",
         "type": "bar",
         "x": [
          13,
          13
         ],
         "xaxis": "x",
         "y": [
          4,
          26
         ],
         "yaxis": "y"
        }
       ],
       "layout": {
        "barmode": "stack",
        "legend": {
         "title": {
          "text": "Problema"
         },
         "tracegroupgap": 0
        },
        "margin": {
         "b": 40,
         "l": 40,
         "r": 40,
         "t": 40
        },
        "plot_bgcolor": "RGBA(0,0,0,0.01)",
        "template": {
         "data": {
          "bar": [
           {
            "error_x": {
             "color": "#2a3f5f"
            },
            "error_y": {
             "color": "#2a3f5f"
            },
            "marker": {
             "line": {
              "color": "#E5ECF6",
              "width": 0.5
             },
             "pattern": {
              "fillmode": "overlay",
              "size": 10,
              "solidity": 0.2
             }
            },
            "type": "bar"
           }
          ],
          "barpolar": [
           {
            "marker": {
             "line": {
              "color": "#E5ECF6",
              "width": 0.5
             },
             "pattern": {
              "fillmode": "overlay",
              "size": 10,
              "solidity": 0.2
             }
            },
            "type": "barpolar"
           }
          ],
          "carpet": [
           {
            "aaxis": {
             "endlinecolor": "#2a3f5f",
             "gridcolor": "white",
             "linecolor": "white",
             "minorgridcolor": "white",
             "startlinecolor": "#2a3f5f"
            },
            "baxis": {
             "endlinecolor": "#2a3f5f",
             "gridcolor": "white",
             "linecolor": "white",
             "minorgridcolor": "white",
             "startlinecolor": "#2a3f5f"
            },
            "type": "carpet"
           }
          ],
          "choropleth": [
           {
            "colorbar": {
             "outlinewidth": 0,
             "ticks": ""
            },
            "type": "choropleth"
           }
          ],
          "contour": [
           {
            "colorbar": {
             "outlinewidth": 0,
             "ticks": ""
            },
            "colorscale": [
             [
              0,
              "#0d0887"
             ],
             [
              0.1111111111111111,
              "#46039f"
             ],
             [
              0.2222222222222222,
              "#7201a8"
             ],
             [
              0.3333333333333333,
              "#9c179e"
             ],
             [
              0.4444444444444444,
              "#bd3786"
             ],
             [
              0.5555555555555556,
              "#d8576b"
             ],
             [
              0.6666666666666666,
              "#ed7953"
             ],
             [
              0.7777777777777778,
              "#fb9f3a"
             ],
             [
              0.8888888888888888,
              "#fdca26"
             ],
             [
              1,
              "#f0f921"
             ]
            ],
            "type": "contour"
           }
          ],
          "contourcarpet": [
           {
            "colorbar": {
             "outlinewidth": 0,
             "ticks": ""
            },
            "type": "contourcarpet"
           }
          ],
          "heatmap": [
           {
            "colorbar": {
             "outlinewidth": 0,
             "ticks": ""
            },
            "colorscale": [
             [
              0,
              "#0d0887"
             ],
             [
              0.1111111111111111,
              "#46039f"
             ],
             [
              0.2222222222222222,
              "#7201a8"
             ],
             [
              0.3333333333333333,
              "#9c179e"
             ],
             [
              0.4444444444444444,
              "#bd3786"
             ],
             [
              0.5555555555555556,
              "#d8576b"
             ],
             [
              0.6666666666666666,
              "#ed7953"
             ],
             [
              0.7777777777777778,
              "#fb9f3a"
             ],
             [
              0.8888888888888888,
              "#fdca26"
             ],
             [
              1,
              "#f0f921"
             ]
            ],
            "type": "heatmap"
           }
          ],
          "heatmapgl": [
           {
            "colorbar": {
             "outlinewidth": 0,
             "ticks": ""
            },
            "colorscale": [
             [
              0,
              "#0d0887"
             ],
             [
              0.1111111111111111,
              "#46039f"
             ],
             [
              0.2222222222222222,
              "#7201a8"
             ],
             [
              0.3333333333333333,
              "#9c179e"
             ],
             [
              0.4444444444444444,
              "#bd3786"
             ],
             [
              0.5555555555555556,
              "#d8576b"
             ],
             [
              0.6666666666666666,
              "#ed7953"
             ],
             [
              0.7777777777777778,
              "#fb9f3a"
             ],
             [
              0.8888888888888888,
              "#fdca26"
             ],
             [
              1,
              "#f0f921"
             ]
            ],
            "type": "heatmapgl"
           }
          ],
          "histogram": [
           {
            "marker": {
             "pattern": {
              "fillmode": "overlay",
              "size": 10,
              "solidity": 0.2
             }
            },
            "type": "histogram"
           }
          ],
          "histogram2d": [
           {
            "colorbar": {
             "outlinewidth": 0,
             "ticks": ""
            },
            "colorscale": [
             [
              0,
              "#0d0887"
             ],
             [
              0.1111111111111111,
              "#46039f"
             ],
             [
              0.2222222222222222,
              "#7201a8"
             ],
             [
              0.3333333333333333,
              "#9c179e"
             ],
             [
              0.4444444444444444,
              "#bd3786"
             ],
             [
              0.5555555555555556,
              "#d8576b"
             ],
             [
              0.6666666666666666,
              "#ed7953"
             ],
             [
              0.7777777777777778,
              "#fb9f3a"
             ],
             [
              0.8888888888888888,
              "#fdca26"
             ],
             [
              1,
              "#f0f921"
             ]
            ],
            "type": "histogram2d"
           }
          ],
          "histogram2dcontour": [
           {
            "colorbar": {
             "outlinewidth": 0,
             "ticks": ""
            },
            "colorscale": [
             [
              0,
              "#0d0887"
             ],
             [
              0.1111111111111111,
              "#46039f"
             ],
             [
              0.2222222222222222,
              "#7201a8"
             ],
             [
              0.3333333333333333,
              "#9c179e"
             ],
             [
              0.4444444444444444,
              "#bd3786"
             ],
             [
              0.5555555555555556,
              "#d8576b"
             ],
             [
              0.6666666666666666,
              "#ed7953"
             ],
             [
              0.7777777777777778,
              "#fb9f3a"
             ],
             [
              0.8888888888888888,
              "#fdca26"
             ],
             [
              1,
              "#f0f921"
             ]
            ],
            "type": "histogram2dcontour"
           }
          ],
          "mesh3d": [
           {
            "colorbar": {
             "outlinewidth": 0,
             "ticks": ""
            },
            "type": "mesh3d"
           }
          ],
          "parcoords": [
           {
            "line": {
             "colorbar": {
              "outlinewidth": 0,
              "ticks": ""
             }
            },
            "type": "parcoords"
           }
          ],
          "pie": [
           {
            "automargin": true,
            "type": "pie"
           }
          ],
          "scatter": [
           {
            "fillpattern": {
             "fillmode": "overlay",
             "size": 10,
             "solidity": 0.2
            },
            "type": "scatter"
           }
          ],
          "scatter3d": [
           {
            "line": {
             "colorbar": {
              "outlinewidth": 0,
              "ticks": ""
             }
            },
            "marker": {
             "colorbar": {
              "outlinewidth": 0,
              "ticks": ""
             }
            },
            "type": "scatter3d"
           }
          ],
          "scattercarpet": [
           {
            "marker": {
             "colorbar": {
              "outlinewidth": 0,
              "ticks": ""
             }
            },
            "type": "scattercarpet"
           }
          ],
          "scattergeo": [
           {
            "marker": {
             "colorbar": {
              "outlinewidth": 0,
              "ticks": ""
             }
            },
            "type": "scattergeo"
           }
          ],
          "scattergl": [
           {
            "marker": {
             "colorbar": {
              "outlinewidth": 0,
              "ticks": ""
             }
            },
            "type": "scattergl"
           }
          ],
          "scattermapbox": [
           {
            "marker": {
             "colorbar": {
              "outlinewidth": 0,
              "ticks": ""
             }
            },
            "type": "scattermapbox"
           }
          ],
          "scatterpolar": [
           {
            "marker": {
             "colorbar": {
              "outlinewidth": 0,
              "ticks": ""
             }
            },
            "type": "scatterpolar"
           }
          ],
          "scatterpolargl": [
           {
            "marker": {
             "colorbar": {
              "outlinewidth": 0,
              "ticks": ""
             }
            },
            "type": "scatterpolargl"
           }
          ],
          "scatterternary": [
           {
            "marker": {
             "colorbar": {
              "outlinewidth": 0,
              "ticks": ""
             }
            },
            "type": "scatterternary"
           }
          ],
          "surface": [
           {
            "colorbar": {
             "outlinewidth": 0,
             "ticks": ""
            },
            "colorscale": [
             [
              0,
              "#0d0887"
             ],
             [
              0.1111111111111111,
              "#46039f"
             ],
             [
              0.2222222222222222,
              "#7201a8"
             ],
             [
              0.3333333333333333,
              "#9c179e"
             ],
             [
              0.4444444444444444,
              "#bd3786"
             ],
             [
              0.5555555555555556,
              "#d8576b"
             ],
             [
              0.6666666666666666,
              "#ed7953"
             ],
             [
              0.7777777777777778,
              "#fb9f3a"
             ],
             [
              0.8888888888888888,
              "#fdca26"
             ],
             [
              1,
              "#f0f921"
             ]
            ],
            "type": "surface"
           }
          ],
          "table": [
           {
            "cells": {
             "fill": {
              "color": "#EBF0F8"
             },
             "line": {
              "color": "white"
             }
            },
            "header": {
             "fill": {
              "color": "#C8D4E3"
             },
             "line": {
              "color": "white"
             }
            },
            "type": "table"
           }
          ]
         },
         "layout": {
          "annotationdefaults": {
           "arrowcolor": "#2a3f5f",
           "arrowhead": 0,
           "arrowwidth": 1
          },
          "autotypenumbers": "strict",
          "coloraxis": {
           "colorbar": {
            "outlinewidth": 0,
            "ticks": ""
           }
          },
          "colorscale": {
           "diverging": [
            [
             0,
             "#8e0152"
            ],
            [
             0.1,
             "#c51b7d"
            ],
            [
             0.2,
             "#de77ae"
            ],
            [
             0.3,
             "#f1b6da"
            ],
            [
             0.4,
             "#fde0ef"
            ],
            [
             0.5,
             "#f7f7f7"
            ],
            [
             0.6,
             "#e6f5d0"
            ],
            [
             0.7,
             "#b8e186"
            ],
            [
             0.8,
             "#7fbc41"
            ],
            [
             0.9,
             "#4d9221"
            ],
            [
             1,
             "#276419"
            ]
           ],
           "sequential": [
            [
             0,
             "#0d0887"
            ],
            [
             0.1111111111111111,
             "#46039f"
            ],
            [
             0.2222222222222222,
             "#7201a8"
            ],
            [
             0.3333333333333333,
             "#9c179e"
            ],
            [
             0.4444444444444444,
             "#bd3786"
            ],
            [
             0.5555555555555556,
             "#d8576b"
            ],
            [
             0.6666666666666666,
             "#ed7953"
            ],
            [
             0.7777777777777778,
             "#fb9f3a"
            ],
            [
             0.8888888888888888,
             "#fdca26"
            ],
            [
             1,
             "#f0f921"
            ]
           ],
           "sequentialminus": [
            [
             0,
             "#0d0887"
            ],
            [
             0.1111111111111111,
             "#46039f"
            ],
            [
             0.2222222222222222,
             "#7201a8"
            ],
            [
             0.3333333333333333,
             "#9c179e"
            ],
            [
             0.4444444444444444,
             "#bd3786"
            ],
            [
             0.5555555555555556,
             "#d8576b"
            ],
            [
             0.6666666666666666,
             "#ed7953"
            ],
            [
             0.7777777777777778,
             "#fb9f3a"
            ],
            [
             0.8888888888888888,
             "#fdca26"
            ],
            [
             1,
             "#f0f921"
            ]
           ]
          },
          "colorway": [
           "#636efa",
           "#EF553B",
           "#00cc96",
           "#ab63fa",
           "#FFA15A",
           "#19d3f3",
           "#FF6692",
           "#B6E880",
           "#FF97FF",
           "#FECB52"
          ],
          "font": {
           "color": "#2a3f5f"
          },
          "geo": {
           "bgcolor": "white",
           "lakecolor": "white",
           "landcolor": "#E5ECF6",
           "showlakes": true,
           "showland": true,
           "subunitcolor": "white"
          },
          "hoverlabel": {
           "align": "left"
          },
          "hovermode": "closest",
          "mapbox": {
           "style": "light"
          },
          "paper_bgcolor": "white",
          "plot_bgcolor": "#E5ECF6",
          "polar": {
           "angularaxis": {
            "gridcolor": "white",
            "linecolor": "white",
            "ticks": ""
           },
           "bgcolor": "#E5ECF6",
           "radialaxis": {
            "gridcolor": "white",
            "linecolor": "white",
            "ticks": ""
           }
          },
          "scene": {
           "xaxis": {
            "backgroundcolor": "#E5ECF6",
            "gridcolor": "white",
            "gridwidth": 2,
            "linecolor": "white",
            "showbackground": true,
            "ticks": "",
            "zerolinecolor": "white"
           },
           "yaxis": {
            "backgroundcolor": "#E5ECF6",
            "gridcolor": "white",
            "gridwidth": 2,
            "linecolor": "white",
            "showbackground": true,
            "ticks": "",
            "zerolinecolor": "white"
           },
           "zaxis": {
            "backgroundcolor": "#E5ECF6",
            "gridcolor": "white",
            "gridwidth": 2,
            "linecolor": "white",
            "showbackground": true,
            "ticks": "",
            "zerolinecolor": "white"
           }
          },
          "shapedefaults": {
           "line": {
            "color": "#2a3f5f"
           }
          },
          "ternary": {
           "aaxis": {
            "gridcolor": "white",
            "linecolor": "white",
            "ticks": ""
           },
           "baxis": {
            "gridcolor": "white",
            "linecolor": "white",
            "ticks": ""
           },
           "bgcolor": "#E5ECF6",
           "caxis": {
            "gridcolor": "white",
            "linecolor": "white",
            "ticks": ""
           }
          },
          "title": {
           "x": 0.05
          },
          "xaxis": {
           "automargin": true,
           "gridcolor": "white",
           "linecolor": "white",
           "ticks": "",
           "title": {
            "standoff": 15
           },
           "zerolinecolor": "white",
           "zerolinewidth": 2
          },
          "yaxis": {
           "automargin": true,
           "gridcolor": "white",
           "linecolor": "white",
           "ticks": "",
           "title": {
            "standoff": 15
           },
           "zerolinecolor": "white",
           "zerolinewidth": 2
          }
         }
        },
        "title": {
         "text": "Detalhes de Tempo",
         "x": 0.5
        },
        "xaxis": {
         "anchor": "y",
         "categoryorder": "category ascending",
         "domain": [
          0,
          1
         ],
         "tickfont": {
          "color": "gray"
         },
         "tickvals": [
          1,
          2,
          3,
          4,
          5,
          6,
          7,
          8,
          9,
          10,
          11,
          12,
          13,
          14
         ],
         "title": {
          "text": "Linha"
         }
        },
        "yaxis": {
         "anchor": "x",
         "domain": [
          0,
          1
         ],
         "tickfont": {
          "color": "gray"
         },
         "title": {
          "text": "Tempo (min)"
         }
        }
       }
      }
     },
     "metadata": {},
     "output_type": "display_data"
    }
   ],
   "source": [
    "chart_details_2 = bar_chart_details.create_bar_chart_details(\n",
    "    df_maq_stopped.copy(),\n",
    "    IndicatorType.EFFICIENCY,\n",
    "    working=df_time_working.copy(),\n",
    "    choice=\"problema\",\n",
    ")\n",
    "chart_details_2"
   ]
  },
  {
   "cell_type": "code",
   "execution_count": 44,
   "metadata": {},
   "outputs": [
    {
     "data": {
      "application/vnd.plotly.v1+json": {
       "config": {
        "plotlyServerURL": "https://plot.ly"
       },
       "data": [
        {
         "alignmentgroup": "True",
         "hovertemplate": "Causa=Falha durante a dosagem<br>Linha=%{x}<br>Tempo (min)=%{y}<extra></extra>",
         "legendgroup": "Falha durante a dosagem",
         "marker": {
          "color": "#1f77b4",
          "pattern": {
           "shape": ""
          }
         },
         "name": "Falha durante a dosagem",
         "offsetgroup": "Falha durante a dosagem",
         "orientation": "v",
         "showlegend": true,
         "textposition": "auto",
         "type": "bar",
         "x": [
          1,
          4
         ],
         "xaxis": "x",
         "y": [
          122,
          18
         ],
         "yaxis": "y"
        },
        {
         "alignmentgroup": "True",
         "hovertemplate": "Causa=Parada de 5 minutos ou menos<br>Linha=%{x}<br>Tempo (min)=%{y}<extra></extra>",
         "legendgroup": "Parada de 5 minutos ou menos",
         "marker": {
          "color": "#aec7e8",
          "pattern": {
           "shape": ""
          }
         },
         "name": "Parada de 5 minutos ou menos",
         "offsetgroup": "Parada de 5 minutos ou menos",
         "orientation": "v",
         "showlegend": true,
         "textposition": "auto",
         "type": "bar",
         "x": [
          1,
          1,
          1,
          2,
          2,
          2,
          2,
          2,
          3,
          3,
          3,
          4,
          7,
          7,
          7,
          7,
          7,
          8,
          8,
          8,
          9,
          9,
          10,
          10,
          11,
          11,
          11,
          11,
          11,
          12,
          12,
          13,
          13,
          13,
          13,
          13,
          13,
          13
         ],
         "xaxis": "x",
         "y": [
          2,
          2,
          2,
          2,
          2,
          2,
          2,
          2,
          2,
          5,
          3,
          2,
          2,
          2,
          2,
          2,
          2,
          2,
          2,
          2,
          4,
          4,
          4,
          2,
          2,
          2,
          2,
          4,
          2,
          2,
          2,
          2,
          2,
          2,
          2,
          2,
          2,
          2
         ],
         "yaxis": "y"
        },
        {
         "alignmentgroup": "True",
         "hovertemplate": "Causa=Robô parado<br>Linha=%{x}<br>Tempo (min)=%{y}<extra></extra>",
         "legendgroup": "Robô parado",
         "marker": {
          "color": "#ff7f0e",
          "pattern": {
           "shape": ""
          }
         },
         "name": "Robô parado",
         "offsetgroup": "Robô parado",
         "orientation": "v",
         "showlegend": true,
         "textposition": "auto",
         "type": "bar",
         "x": [
          1,
          1,
          1,
          1,
          1,
          3,
          3,
          3,
          4,
          10,
          11,
          11,
          12
         ],
         "xaxis": "x",
         "y": [
          30,
          6,
          6,
          2,
          2,
          6,
          4,
          6,
          10,
          18,
          40,
          12,
          4
         ],
         "yaxis": "y"
        },
        {
         "alignmentgroup": "True",
         "hovertemplate": "Causa=Ajuste nas Guias das Caixas<br>Linha=%{x}<br>Tempo (min)=%{y}<extra></extra>",
         "legendgroup": "Ajuste nas Guias das Caixas",
         "marker": {
          "color": "#ffbb78",
          "pattern": {
           "shape": ""
          }
         },
         "name": "Ajuste nas Guias das Caixas",
         "offsetgroup": "Ajuste nas Guias das Caixas",
         "orientation": "v",
         "showlegend": true,
         "textposition": "auto",
         "type": "bar",
         "x": [
          1,
          2,
          2,
          2,
          2,
          4,
          4,
          4,
          4,
          4,
          11,
          11
         ],
         "xaxis": "x",
         "y": [
          6,
          30,
          2,
          8,
          4,
          4,
          14,
          4,
          4,
          6,
          34,
          95
         ],
         "yaxis": "y"
        },
        {
         "alignmentgroup": "True",
         "hovertemplate": "Causa=Rearme do Robô<br>Linha=%{x}<br>Tempo (min)=%{y}<extra></extra>",
         "legendgroup": "Rearme do Robô",
         "marker": {
          "color": "#2ca02c",
          "pattern": {
           "shape": ""
          }
         },
         "name": "Rearme do Robô",
         "offsetgroup": "Rearme do Robô",
         "orientation": "v",
         "showlegend": true,
         "textposition": "auto",
         "type": "bar",
         "x": [
          1,
          1,
          1,
          1,
          1,
          1,
          1,
          1,
          1,
          1,
          1,
          1,
          1,
          1,
          1,
          2,
          2,
          2,
          2,
          2,
          2,
          2,
          2,
          2,
          2,
          2,
          2,
          2,
          2,
          3,
          3,
          3,
          4,
          4,
          4,
          4,
          4,
          4,
          4,
          5,
          6,
          10,
          10,
          10,
          10,
          11,
          11,
          12,
          12,
          12,
          12,
          12,
          12,
          12,
          13,
          13,
          13,
          13,
          13,
          13
         ],
         "xaxis": "x",
         "y": [
          4,
          24,
          10,
          12,
          2,
          2,
          4,
          18,
          2,
          2,
          2,
          8,
          2,
          4,
          12,
          2,
          4,
          2,
          14,
          10,
          2,
          8,
          2,
          2,
          2,
          12,
          2,
          4,
          8,
          24,
          12,
          30,
          4,
          4,
          2,
          4,
          12,
          36,
          4,
          480,
          480,
          128,
          80,
          10,
          6,
          26,
          28,
          28,
          6,
          8,
          8,
          154,
          28,
          14,
          33,
          4,
          80,
          10,
          34,
          281
         ],
         "yaxis": "y"
        },
        {
         "alignmentgroup": "True",
         "hovertemplate": "Causa=Troca de Bobina Superior<br>Linha=%{x}<br>Tempo (min)=%{y}<extra></extra>",
         "legendgroup": "Troca de Bobina Superior",
         "marker": {
          "color": "#98df8a",
          "pattern": {
           "shape": ""
          }
         },
         "name": "Troca de Bobina Superior",
         "offsetgroup": "Troca de Bobina Superior",
         "orientation": "v",
         "showlegend": true,
         "textposition": "auto",
         "type": "bar",
         "x": [
          1,
          1,
          1,
          1,
          3,
          7,
          8,
          8,
          8,
          9,
          9,
          13
         ],
         "xaxis": "x",
         "y": [
          10,
          4,
          8,
          12,
          18,
          8,
          2,
          2,
          2,
          14,
          20,
          18
         ],
         "yaxis": "y"
        },
        {
         "alignmentgroup": "True",
         "hovertemplate": "Causa=Ajuste de Fotocélula<br>Linha=%{x}<br>Tempo (min)=%{y}<extra></extra>",
         "legendgroup": "Ajuste de Fotocélula",
         "marker": {
          "color": "#d62728",
          "pattern": {
           "shape": ""
          }
         },
         "name": "Ajuste de Fotocélula",
         "offsetgroup": "Ajuste de Fotocélula",
         "orientation": "v",
         "showlegend": true,
         "textposition": "auto",
         "type": "bar",
         "x": [
          1,
          1
         ],
         "xaxis": "x",
         "y": [
          12,
          2
         ],
         "yaxis": "y"
        },
        {
         "alignmentgroup": "True",
         "hovertemplate": "Causa=Refeição<br>Linha=%{x}<br>Tempo (min)=%{y}<extra></extra>",
         "legendgroup": "Refeição",
         "marker": {
          "color": "#ff9896",
          "pattern": {
           "shape": ""
          }
         },
         "name": "Refeição",
         "offsetgroup": "Refeição",
         "orientation": "v",
         "showlegend": true,
         "textposition": "auto",
         "type": "bar",
         "x": [
          1,
          1,
          1,
          2,
          2,
          2,
          4,
          4,
          4,
          4,
          4,
          4,
          7,
          7,
          7,
          8,
          8,
          9,
          11,
          11,
          11,
          11,
          12,
          13,
          13
         ],
         "xaxis": "x",
         "y": [
          2,
          68,
          64,
          2,
          70,
          62,
          308,
          2,
          68,
          128,
          62,
          2,
          4,
          134,
          66,
          68,
          64,
          64,
          62,
          4,
          68,
          76,
          68,
          74,
          66
         ],
         "yaxis": "y"
        },
        {
         "alignmentgroup": "True",
         "hovertemplate": "Causa=Troca de Bobina Inferior<br>Linha=%{x}<br>Tempo (min)=%{y}<extra></extra>",
         "legendgroup": "Troca de Bobina Inferior",
         "marker": {
          "color": "#9467bd",
          "pattern": {
           "shape": ""
          }
         },
         "name": "Troca de Bobina Inferior",
         "offsetgroup": "Troca de Bobina Inferior",
         "orientation": "v",
         "showlegend": true,
         "textposition": "auto",
         "type": "bar",
         "x": [
          1,
          1,
          2,
          2,
          2,
          2,
          4,
          4,
          7,
          7,
          8,
          8,
          9
         ],
         "xaxis": "x",
         "y": [
          10,
          18,
          236,
          2,
          4,
          2,
          6,
          2,
          8,
          15,
          48,
          2,
          4
         ],
         "yaxis": "y"
        },
        {
         "alignmentgroup": "True",
         "hovertemplate": "Causa=Ajuste de Freio<br>Linha=%{x}<br>Tempo (min)=%{y}<extra></extra>",
         "legendgroup": "Ajuste de Freio",
         "marker": {
          "color": "#c5b0d5",
          "pattern": {
           "shape": ""
          }
         },
         "name": "Ajuste de Freio",
         "offsetgroup": "Ajuste de Freio",
         "orientation": "v",
         "showlegend": true,
         "textposition": "auto",
         "type": "bar",
         "x": [
          1
         ],
         "xaxis": "x",
         "y": [
          4
         ],
         "yaxis": "y"
        },
        {
         "alignmentgroup": "True",
         "hovertemplate": "Causa=Ajuste na posição da Bobina<br>Linha=%{x}<br>Tempo (min)=%{y}<extra></extra>",
         "legendgroup": "Ajuste na posição da Bobina",
         "marker": {
          "color": "#8c564b",
          "pattern": {
           "shape": ""
          }
         },
         "name": "Ajuste na posição da Bobina",
         "offsetgroup": "Ajuste na posição da Bobina",
         "orientation": "v",
         "showlegend": true,
         "textposition": "auto",
         "type": "bar",
         "x": [
          1,
          1,
          1,
          4,
          11
         ],
         "xaxis": "x",
         "y": [
          2,
          6,
          8,
          2,
          4
         ],
         "yaxis": "y"
        },
        {
         "alignmentgroup": "True",
         "hovertemplate": "Causa=Bico entupido<br>Linha=%{x}<br>Tempo (min)=%{y}<extra></extra>",
         "legendgroup": "Bico entupido",
         "marker": {
          "color": "#c49c94",
          "pattern": {
           "shape": ""
          }
         },
         "name": "Bico entupido",
         "offsetgroup": "Bico entupido",
         "orientation": "v",
         "showlegend": true,
         "textposition": "auto",
         "type": "bar",
         "x": [
          1,
          1,
          1,
          2,
          2,
          2,
          3,
          3,
          3,
          7,
          11
         ],
         "xaxis": "x",
         "y": [
          2,
          12,
          16,
          6,
          2,
          4,
          6,
          18,
          14,
          6,
          14
         ],
         "yaxis": "y"
        },
        {
         "alignmentgroup": "True",
         "hovertemplate": "Causa=Não apontado<br>Linha=%{x}<br>Tempo (min)=%{y}<extra></extra>",
         "legendgroup": "Não apontado",
         "marker": {
          "color": "#e377c2",
          "pattern": {
           "shape": ""
          }
         },
         "name": "Não apontado",
         "offsetgroup": "Não apontado",
         "orientation": "v",
         "showlegend": true,
         "textposition": "auto",
         "type": "bar",
         "x": [
          1,
          2,
          3,
          5,
          5,
          6,
          6,
          7,
          7,
          7,
          7,
          7,
          7,
          8,
          9,
          9,
          9,
          9,
          9,
          10,
          10,
          10,
          10,
          10,
          10,
          11,
          11,
          11,
          11,
          11,
          12,
          12,
          13,
          13,
          14,
          14,
          14,
          14,
          14
         ],
         "xaxis": "x",
         "y": [
          14,
          79,
          10,
          480,
          480,
          480,
          480,
          8,
          14,
          24,
          6,
          26,
          6,
          6,
          172,
          6,
          104,
          48,
          21,
          16,
          6,
          18,
          83,
          10,
          8,
          10,
          8,
          10,
          12,
          6,
          8,
          16,
          14,
          479,
          479,
          479,
          479,
          479,
          479
         ],
         "yaxis": "y"
        },
        {
         "alignmentgroup": "True",
         "hovertemplate": "Causa=Backup<br>Linha=%{x}<br>Tempo (min)=%{y}<extra></extra>",
         "legendgroup": "Backup",
         "marker": {
          "color": "#f7b6d2",
          "pattern": {
           "shape": ""
          }
         },
         "name": "Backup",
         "offsetgroup": "Backup",
         "orientation": "v",
         "showlegend": true,
         "textposition": "auto",
         "type": "bar",
         "x": [
          2,
          3,
          3,
          3,
          3,
          3,
          3,
          3,
          3,
          3,
          3,
          3,
          3,
          3,
          3,
          3,
          3,
          3,
          4,
          4,
          4,
          4,
          5,
          6,
          7,
          7,
          7,
          7,
          7,
          7,
          7,
          7,
          7,
          8,
          8,
          8,
          8,
          9,
          9,
          9,
          9,
          9,
          10,
          10,
          10,
          10,
          10,
          10,
          11,
          11,
          12,
          12,
          12,
          12,
          12,
          12,
          13
         ],
         "xaxis": "x",
         "y": [
          10,
          469,
          80,
          22,
          192,
          5,
          34,
          6,
          2,
          4,
          2,
          16,
          50,
          6,
          2,
          8,
          2,
          42,
          2,
          2,
          5,
          4,
          22,
          22,
          122,
          16,
          2,
          2,
          4,
          2,
          2,
          10,
          2,
          8,
          130,
          7,
          14,
          110,
          132,
          104,
          51,
          4,
          304,
          46,
          2,
          121,
          198,
          277,
          28,
          88,
          28,
          6,
          92,
          90,
          348,
          124,
          256
         ],
         "yaxis": "y"
        },
        {
         "alignmentgroup": "True",
         "hovertemplate": "Causa=Café e Ginástica Laboral<br>Linha=%{x}<br>Tempo (min)=%{y}<extra></extra>",
         "legendgroup": "Café e Ginástica Laboral",
         "marker": {
          "color": "#7f7f7f",
          "pattern": {
           "shape": ""
          }
         },
         "name": "Café e Ginástica Laboral",
         "offsetgroup": "Café e Ginástica Laboral",
         "orientation": "v",
         "showlegend": true,
         "textposition": "auto",
         "type": "bar",
         "x": [
          2,
          11,
          13
         ],
         "xaxis": "x",
         "y": [
          38,
          12,
          10
         ],
         "yaxis": "y"
        },
        {
         "alignmentgroup": "True",
         "hovertemplate": "Causa=Falha no sensor de posição<br>Linha=%{x}<br>Tempo (min)=%{y}<extra></extra>",
         "legendgroup": "Falha no sensor de posição",
         "marker": {
          "color": "#c7c7c7",
          "pattern": {
           "shape": ""
          }
         },
         "name": "Falha no sensor de posição",
         "offsetgroup": "Falha no sensor de posição",
         "orientation": "v",
         "showlegend": true,
         "textposition": "auto",
         "type": "bar",
         "x": [
          2,
          2,
          3
         ],
         "xaxis": "x",
         "y": [
          12,
          14,
          4
         ],
         "yaxis": "y"
        },
        {
         "alignmentgroup": "True",
         "hovertemplate": "Causa=Seleção de Pão com tamanho irregular<br>Linha=%{x}<br>Tempo (min)=%{y}<extra></extra>",
         "legendgroup": "Seleção de Pão com tamanho irregular",
         "marker": {
          "color": "#bcbd22",
          "pattern": {
           "shape": ""
          }
         },
         "name": "Seleção de Pão com tamanho irregular",
         "offsetgroup": "Seleção de Pão com tamanho irregular",
         "orientation": "v",
         "showlegend": true,
         "textposition": "auto",
         "type": "bar",
         "x": [
          2
         ],
         "xaxis": "x",
         "y": [
          2
         ],
         "yaxis": "y"
        },
        {
         "alignmentgroup": "True",
         "hovertemplate": "Causa=Ajuste de posição da Bobina<br>Linha=%{x}<br>Tempo (min)=%{y}<extra></extra>",
         "legendgroup": "Ajuste de posição da Bobina",
         "marker": {
          "color": "#dbdb8d",
          "pattern": {
           "shape": ""
          }
         },
         "name": "Ajuste de posição da Bobina",
         "offsetgroup": "Ajuste de posição da Bobina",
         "orientation": "v",
         "showlegend": true,
         "textposition": "auto",
         "type": "bar",
         "x": [
          3,
          3,
          3
         ],
         "xaxis": "x",
         "y": [
          6,
          4,
          4
         ],
         "yaxis": "y"
        },
        {
         "alignmentgroup": "True",
         "hovertemplate": "Causa=Realizar análise de falha<br>Linha=%{x}<br>Tempo (min)=%{y}<extra></extra>",
         "legendgroup": "Realizar análise de falha",
         "marker": {
          "color": "#17becf",
          "pattern": {
           "shape": ""
          }
         },
         "name": "Realizar análise de falha",
         "offsetgroup": "Realizar análise de falha",
         "orientation": "v",
         "showlegend": true,
         "textposition": "auto",
         "type": "bar",
         "x": [
          3,
          8,
          8,
          10,
          11
         ],
         "xaxis": "x",
         "y": [
          44,
          52,
          40,
          363,
          34
         ],
         "yaxis": "y"
        },
        {
         "alignmentgroup": "True",
         "hovertemplate": "Causa=Ajuste de Temperatura<br>Linha=%{x}<br>Tempo (min)=%{y}<extra></extra>",
         "legendgroup": "Ajuste de Temperatura",
         "marker": {
          "color": "#9edae5",
          "pattern": {
           "shape": ""
          }
         },
         "name": "Ajuste de Temperatura",
         "offsetgroup": "Ajuste de Temperatura",
         "orientation": "v",
         "showlegend": true,
         "textposition": "auto",
         "type": "bar",
         "x": [
          3
         ],
         "xaxis": "x",
         "y": [
          12
         ],
         "yaxis": "y"
        },
        {
         "alignmentgroup": "True",
         "hovertemplate": "Causa=Problema com montagem de caixas<br>Linha=%{x}<br>Tempo (min)=%{y}<extra></extra>",
         "legendgroup": "Problema com montagem de caixas",
         "marker": {
          "color": "#1f77b4",
          "pattern": {
           "shape": ""
          }
         },
         "name": "Problema com montagem de caixas",
         "offsetgroup": "Problema com montagem de caixas",
         "orientation": "v",
         "showlegend": true,
         "textposition": "auto",
         "type": "bar",
         "x": [
          3,
          7,
          7,
          7,
          7,
          7,
          8,
          8,
          8,
          9,
          9,
          9,
          9
         ],
         "xaxis": "x",
         "y": [
          4,
          6,
          10,
          12,
          2,
          12,
          2,
          16,
          12,
          30,
          12,
          2,
          8
         ],
         "yaxis": "y"
        },
        {
         "alignmentgroup": "True",
         "hovertemplate": "Causa=Relacionado a Qualidade<br>Linha=%{x}<br>Tempo (min)=%{y}<extra></extra>",
         "legendgroup": "Relacionado a Qualidade",
         "marker": {
          "color": "#aec7e8",
          "pattern": {
           "shape": ""
          }
         },
         "name": "Relacionado a Qualidade",
         "offsetgroup": "Relacionado a Qualidade",
         "orientation": "v",
         "showlegend": true,
         "textposition": "auto",
         "type": "bar",
         "x": [
          3
         ],
         "xaxis": "x",
         "y": [
          6
         ],
         "yaxis": "y"
        },
        {
         "alignmentgroup": "True",
         "hovertemplate": "Causa=Ajuste do enquadramento do filme superior<br>Linha=%{x}<br>Tempo (min)=%{y}<extra></extra>",
         "legendgroup": "Ajuste do enquadramento do filme superior",
         "marker": {
          "color": "#ff7f0e",
          "pattern": {
           "shape": ""
          }
         },
         "name": "Ajuste do enquadramento do filme superior",
         "offsetgroup": "Ajuste do enquadramento do filme superior",
         "orientation": "v",
         "showlegend": true,
         "textposition": "auto",
         "type": "bar",
         "x": [
          3,
          3
         ],
         "xaxis": "x",
         "y": [
          6,
          4
         ],
         "yaxis": "y"
        },
        {
         "alignmentgroup": "True",
         "hovertemplate": "Causa=Troca de molde para baguete 400g<br>Linha=%{x}<br>Tempo (min)=%{y}<extra></extra>",
         "legendgroup": "Troca de molde para baguete 400g",
         "marker": {
          "color": "#ffbb78",
          "pattern": {
           "shape": ""
          }
         },
         "name": "Troca de molde para baguete 400g",
         "offsetgroup": "Troca de molde para baguete 400g",
         "orientation": "v",
         "showlegend": true,
         "textposition": "auto",
         "type": "bar",
         "x": [
          3
         ],
         "xaxis": "x",
         "y": [
          96
         ],
         "yaxis": "y"
        },
        {
         "alignmentgroup": "True",
         "hovertemplate": "Causa=Troca de Bobina<br>Linha=%{x}<br>Tempo (min)=%{y}<extra></extra>",
         "legendgroup": "Troca de Bobina",
         "marker": {
          "color": "#2ca02c",
          "pattern": {
           "shape": ""
          }
         },
         "name": "Troca de Bobina",
         "offsetgroup": "Troca de Bobina",
         "orientation": "v",
         "showlegend": true,
         "textposition": "auto",
         "type": "bar",
         "x": [
          4,
          4,
          8
         ],
         "xaxis": "x",
         "y": [
          4,
          4,
          16
         ],
         "yaxis": "y"
        },
        {
         "alignmentgroup": "True",
         "hovertemplate": "Causa=Análise de Formação<br>Linha=%{x}<br>Tempo (min)=%{y}<extra></extra>",
         "legendgroup": "Análise de Formação",
         "marker": {
          "color": "#98df8a",
          "pattern": {
           "shape": ""
          }
         },
         "name": "Análise de Formação",
         "offsetgroup": "Análise de Formação",
         "orientation": "v",
         "showlegend": true,
         "textposition": "auto",
         "type": "bar",
         "x": [
          4
         ],
         "xaxis": "x",
         "y": [
          8
         ],
         "yaxis": "y"
        },
        {
         "alignmentgroup": "True",
         "hovertemplate": "Causa=Ajuste das Guias das Bandejas<br>Linha=%{x}<br>Tempo (min)=%{y}<extra></extra>",
         "legendgroup": "Ajuste das Guias das Bandejas",
         "marker": {
          "color": "#d62728",
          "pattern": {
           "shape": ""
          }
         },
         "name": "Ajuste das Guias das Bandejas",
         "offsetgroup": "Ajuste das Guias das Bandejas",
         "orientation": "v",
         "showlegend": true,
         "textposition": "auto",
         "type": "bar",
         "x": [
          4,
          11
         ],
         "xaxis": "x",
         "y": [
          4,
          8
         ],
         "yaxis": "y"
        },
        {
         "alignmentgroup": "True",
         "hovertemplate": "Causa=Sem Produção<br>Linha=%{x}<br>Tempo (min)=%{y}<extra></extra>",
         "legendgroup": "Sem Produção",
         "marker": {
          "color": "#ff9896",
          "pattern": {
           "shape": ""
          }
         },
         "name": "Sem Produção",
         "offsetgroup": "Sem Produção",
         "orientation": "v",
         "showlegend": true,
         "textposition": "auto",
         "type": "bar",
         "x": [
          5,
          5,
          6,
          6,
          7,
          9,
          10,
          11,
          12
         ],
         "xaxis": "x",
         "y": [
          459,
          480,
          459,
          480,
          2,
          7,
          480,
          74,
          311
         ],
         "yaxis": "y"
        },
        {
         "alignmentgroup": "True",
         "hovertemplate": "Causa=Alarme de falha nos motores<br>Linha=%{x}<br>Tempo (min)=%{y}<extra></extra>",
         "legendgroup": "Alarme de falha nos motores",
         "marker": {
          "color": "#9467bd",
          "pattern": {
           "shape": ""
          }
         },
         "name": "Alarme de falha nos motores",
         "offsetgroup": "Alarme de falha nos motores",
         "orientation": "v",
         "showlegend": true,
         "textposition": "auto",
         "type": "bar",
         "x": [
          7
         ],
         "xaxis": "x",
         "y": [
          8
         ],
         "yaxis": "y"
        },
        {
         "alignmentgroup": "True",
         "hovertemplate": "Causa=Análise de falta de ar comprimido<br>Linha=%{x}<br>Tempo (min)=%{y}<extra></extra>",
         "legendgroup": "Análise de falta de ar comprimido",
         "marker": {
          "color": "#c5b0d5",
          "pattern": {
           "shape": ""
          }
         },
         "name": "Análise de falta de ar comprimido",
         "offsetgroup": "Análise de falta de ar comprimido",
         "orientation": "v",
         "showlegend": true,
         "textposition": "auto",
         "type": "bar",
         "x": [
          7
         ],
         "xaxis": "x",
         "y": [
          6
         ],
         "yaxis": "y"
        },
        {
         "alignmentgroup": "True",
         "hovertemplate": "Causa=Reavaliar o último lote produzido<br>Linha=%{x}<br>Tempo (min)=%{y}<extra></extra>",
         "legendgroup": "Reavaliar o último lote produzido",
         "marker": {
          "color": "#8c564b",
          "pattern": {
           "shape": ""
          }
         },
         "name": "Reavaliar o último lote produzido",
         "offsetgroup": "Reavaliar o último lote produzido",
         "orientation": "v",
         "showlegend": true,
         "textposition": "auto",
         "type": "bar",
         "x": [
          7,
          7,
          8,
          9
         ],
         "xaxis": "x",
         "y": [
          14,
          4,
          6,
          6
         ],
         "yaxis": "y"
        },
        {
         "alignmentgroup": "True",
         "hovertemplate": "Causa=Alarme de falha de codificadores<br>Linha=%{x}<br>Tempo (min)=%{y}<extra></extra>",
         "legendgroup": "Alarme de falha de codificadores",
         "marker": {
          "color": "#c49c94",
          "pattern": {
           "shape": ""
          }
         },
         "name": "Alarme de falha de codificadores",
         "offsetgroup": "Alarme de falha de codificadores",
         "orientation": "v",
         "showlegend": true,
         "textposition": "auto",
         "type": "bar",
         "x": [
          7,
          9,
          9
         ],
         "xaxis": "x",
         "y": [
          8,
          8,
          300
         ],
         "yaxis": "y"
        },
        {
         "alignmentgroup": "True",
         "hovertemplate": "Causa=Reunião<br>Linha=%{x}<br>Tempo (min)=%{y}<extra></extra>",
         "legendgroup": "Reunião",
         "marker": {
          "color": "#e377c2",
          "pattern": {
           "shape": ""
          }
         },
         "name": "Reunião",
         "offsetgroup": "Reunião",
         "orientation": "v",
         "showlegend": true,
         "textposition": "auto",
         "type": "bar",
         "x": [
          7
         ],
         "xaxis": "x",
         "y": [
          64
         ],
         "yaxis": "y"
        },
        {
         "alignmentgroup": "True",
         "hovertemplate": "Causa=Bomba com Falha<br>Linha=%{x}<br>Tempo (min)=%{y}<extra></extra>",
         "legendgroup": "Bomba com Falha",
         "marker": {
          "color": "#f7b6d2",
          "pattern": {
           "shape": ""
          }
         },
         "name": "Bomba com Falha",
         "offsetgroup": "Bomba com Falha",
         "orientation": "v",
         "showlegend": true,
         "textposition": "auto",
         "type": "bar",
         "x": [
          7
         ],
         "xaxis": "x",
         "y": [
          2
         ],
         "yaxis": "y"
        },
        {
         "alignmentgroup": "True",
         "hovertemplate": "Causa=Troca de molde para baguete 240g<br>Linha=%{x}<br>Tempo (min)=%{y}<extra></extra>",
         "legendgroup": "Troca de molde para baguete 240g",
         "marker": {
          "color": "#7f7f7f",
          "pattern": {
           "shape": ""
          }
         },
         "name": "Troca de molde para baguete 240g",
         "offsetgroup": "Troca de molde para baguete 240g",
         "orientation": "v",
         "showlegend": true,
         "textposition": "auto",
         "type": "bar",
         "x": [
          8,
          8
         ],
         "xaxis": "x",
         "y": [
          306,
          80
         ],
         "yaxis": "y"
        },
        {
         "alignmentgroup": "True",
         "hovertemplate": "Causa=Ajuste de vácuo<br>Linha=%{x}<br>Tempo (min)=%{y}<extra></extra>",
         "legendgroup": "Ajuste de vácuo",
         "marker": {
          "color": "#c7c7c7",
          "pattern": {
           "shape": ""
          }
         },
         "name": "Ajuste de vácuo",
         "offsetgroup": "Ajuste de vácuo",
         "orientation": "v",
         "showlegend": true,
         "textposition": "auto",
         "type": "bar",
         "x": [
          8,
          8
         ],
         "xaxis": "x",
         "y": [
          2,
          2
         ],
         "yaxis": "y"
        },
        {
         "alignmentgroup": "True",
         "hovertemplate": "Causa=Troca ou ajuste da faca transversal<br>Linha=%{x}<br>Tempo (min)=%{y}<extra></extra>",
         "legendgroup": "Troca ou ajuste da faca transversal",
         "marker": {
          "color": "#bcbd22",
          "pattern": {
           "shape": ""
          }
         },
         "name": "Troca ou ajuste da faca transversal",
         "offsetgroup": "Troca ou ajuste da faca transversal",
         "orientation": "v",
         "showlegend": true,
         "textposition": "auto",
         "type": "bar",
         "x": [
          9
         ],
         "xaxis": "x",
         "y": [
          20
         ],
         "yaxis": "y"
        },
        {
         "alignmentgroup": "True",
         "hovertemplate": "Causa=Ajuste na temperatura de Formação<br>Linha=%{x}<br>Tempo (min)=%{y}<extra></extra>",
         "legendgroup": "Ajuste na temperatura de Formação",
         "marker": {
          "color": "#dbdb8d",
          "pattern": {
           "shape": ""
          }
         },
         "name": "Ajuste na temperatura de Formação",
         "offsetgroup": "Ajuste na temperatura de Formação",
         "orientation": "v",
         "showlegend": true,
         "textposition": "auto",
         "type": "bar",
         "x": [
          9
         ],
         "xaxis": "x",
         "y": [
          6
         ],
         "yaxis": "y"
        },
        {
         "alignmentgroup": "True",
         "hovertemplate": "Causa=Alarme de falha na pressão do circuito pneumático<br>Linha=%{x}<br>Tempo (min)=%{y}<extra></extra>",
         "legendgroup": "Alarme de falha na pressão do circuito pneumático",
         "marker": {
          "color": "#17becf",
          "pattern": {
           "shape": ""
          }
         },
         "name": "Alarme de falha na pressão do circuito pneumático",
         "offsetgroup": "Alarme de falha na pressão do circuito pneumático",
         "orientation": "v",
         "showlegend": true,
         "textposition": "auto",
         "type": "bar",
         "x": [
          9
         ],
         "xaxis": "x",
         "y": [
          22
         ],
         "yaxis": "y"
        },
        {
         "alignmentgroup": "True",
         "hovertemplate": "Causa=Necessidade de análise<br>Linha=%{x}<br>Tempo (min)=%{y}<extra></extra>",
         "legendgroup": "Necessidade de análise",
         "marker": {
          "color": "#9edae5",
          "pattern": {
           "shape": ""
          }
         },
         "name": "Necessidade de análise",
         "offsetgroup": "Necessidade de análise",
         "orientation": "v",
         "showlegend": true,
         "textposition": "auto",
         "type": "bar",
         "x": [
          11
         ],
         "xaxis": "x",
         "y": [
          42
         ],
         "yaxis": "y"
        },
        {
         "alignmentgroup": "True",
         "hovertemplate": "Causa=Limpeza de Placa<br>Linha=%{x}<br>Tempo (min)=%{y}<extra></extra>",
         "legendgroup": "Limpeza de Placa",
         "marker": {
          "color": "#1f77b4",
          "pattern": {
           "shape": ""
          }
         },
         "name": "Limpeza de Placa",
         "offsetgroup": "Limpeza de Placa",
         "orientation": "v",
         "showlegend": true,
         "textposition": "auto",
         "type": "bar",
         "x": [
          12,
          12,
          12
         ],
         "xaxis": "x",
         "y": [
          18,
          14,
          168
         ],
         "yaxis": "y"
        },
        {
         "alignmentgroup": "True",
         "hovertemplate": "Causa=Berço parou<br>Linha=%{x}<br>Tempo (min)=%{y}<extra></extra>",
         "legendgroup": "Berço parou",
         "marker": {
          "color": "#aec7e8",
          "pattern": {
           "shape": ""
          }
         },
         "name": "Berço parou",
         "offsetgroup": "Berço parou",
         "orientation": "v",
         "showlegend": true,
         "textposition": "auto",
         "type": "bar",
         "x": [
          13
         ],
         "xaxis": "x",
         "y": [
          58
         ],
         "yaxis": "y"
        },
        {
         "alignmentgroup": "True",
         "hovertemplate": "Causa=Troca para sabor Cebola<br>Linha=%{x}<br>Tempo (min)=%{y}<extra></extra>",
         "legendgroup": "Troca para sabor Cebola",
         "marker": {
          "color": "#ff7f0e",
          "pattern": {
           "shape": ""
          }
         },
         "name": "Troca para sabor Cebola",
         "offsetgroup": "Troca para sabor Cebola",
         "orientation": "v",
         "showlegend": true,
         "textposition": "auto",
         "type": "bar",
         "x": [
          13,
          13
         ],
         "xaxis": "x",
         "y": [
          4,
          26
         ],
         "yaxis": "y"
        }
       ],
       "layout": {
        "barmode": "stack",
        "legend": {
         "title": {
          "text": "Causa"
         },
         "tracegroupgap": 0
        },
        "margin": {
         "b": 40,
         "l": 40,
         "r": 40,
         "t": 40
        },
        "plot_bgcolor": "RGBA(0,0,0,0.01)",
        "template": {
         "data": {
          "bar": [
           {
            "error_x": {
             "color": "#2a3f5f"
            },
            "error_y": {
             "color": "#2a3f5f"
            },
            "marker": {
             "line": {
              "color": "#E5ECF6",
              "width": 0.5
             },
             "pattern": {
              "fillmode": "overlay",
              "size": 10,
              "solidity": 0.2
             }
            },
            "type": "bar"
           }
          ],
          "barpolar": [
           {
            "marker": {
             "line": {
              "color": "#E5ECF6",
              "width": 0.5
             },
             "pattern": {
              "fillmode": "overlay",
              "size": 10,
              "solidity": 0.2
             }
            },
            "type": "barpolar"
           }
          ],
          "carpet": [
           {
            "aaxis": {
             "endlinecolor": "#2a3f5f",
             "gridcolor": "white",
             "linecolor": "white",
             "minorgridcolor": "white",
             "startlinecolor": "#2a3f5f"
            },
            "baxis": {
             "endlinecolor": "#2a3f5f",
             "gridcolor": "white",
             "linecolor": "white",
             "minorgridcolor": "white",
             "startlinecolor": "#2a3f5f"
            },
            "type": "carpet"
           }
          ],
          "choropleth": [
           {
            "colorbar": {
             "outlinewidth": 0,
             "ticks": ""
            },
            "type": "choropleth"
           }
          ],
          "contour": [
           {
            "colorbar": {
             "outlinewidth": 0,
             "ticks": ""
            },
            "colorscale": [
             [
              0,
              "#0d0887"
             ],
             [
              0.1111111111111111,
              "#46039f"
             ],
             [
              0.2222222222222222,
              "#7201a8"
             ],
             [
              0.3333333333333333,
              "#9c179e"
             ],
             [
              0.4444444444444444,
              "#bd3786"
             ],
             [
              0.5555555555555556,
              "#d8576b"
             ],
             [
              0.6666666666666666,
              "#ed7953"
             ],
             [
              0.7777777777777778,
              "#fb9f3a"
             ],
             [
              0.8888888888888888,
              "#fdca26"
             ],
             [
              1,
              "#f0f921"
             ]
            ],
            "type": "contour"
           }
          ],
          "contourcarpet": [
           {
            "colorbar": {
             "outlinewidth": 0,
             "ticks": ""
            },
            "type": "contourcarpet"
           }
          ],
          "heatmap": [
           {
            "colorbar": {
             "outlinewidth": 0,
             "ticks": ""
            },
            "colorscale": [
             [
              0,
              "#0d0887"
             ],
             [
              0.1111111111111111,
              "#46039f"
             ],
             [
              0.2222222222222222,
              "#7201a8"
             ],
             [
              0.3333333333333333,
              "#9c179e"
             ],
             [
              0.4444444444444444,
              "#bd3786"
             ],
             [
              0.5555555555555556,
              "#d8576b"
             ],
             [
              0.6666666666666666,
              "#ed7953"
             ],
             [
              0.7777777777777778,
              "#fb9f3a"
             ],
             [
              0.8888888888888888,
              "#fdca26"
             ],
             [
              1,
              "#f0f921"
             ]
            ],
            "type": "heatmap"
           }
          ],
          "heatmapgl": [
           {
            "colorbar": {
             "outlinewidth": 0,
             "ticks": ""
            },
            "colorscale": [
             [
              0,
              "#0d0887"
             ],
             [
              0.1111111111111111,
              "#46039f"
             ],
             [
              0.2222222222222222,
              "#7201a8"
             ],
             [
              0.3333333333333333,
              "#9c179e"
             ],
             [
              0.4444444444444444,
              "#bd3786"
             ],
             [
              0.5555555555555556,
              "#d8576b"
             ],
             [
              0.6666666666666666,
              "#ed7953"
             ],
             [
              0.7777777777777778,
              "#fb9f3a"
             ],
             [
              0.8888888888888888,
              "#fdca26"
             ],
             [
              1,
              "#f0f921"
             ]
            ],
            "type": "heatmapgl"
           }
          ],
          "histogram": [
           {
            "marker": {
             "pattern": {
              "fillmode": "overlay",
              "size": 10,
              "solidity": 0.2
             }
            },
            "type": "histogram"
           }
          ],
          "histogram2d": [
           {
            "colorbar": {
             "outlinewidth": 0,
             "ticks": ""
            },
            "colorscale": [
             [
              0,
              "#0d0887"
             ],
             [
              0.1111111111111111,
              "#46039f"
             ],
             [
              0.2222222222222222,
              "#7201a8"
             ],
             [
              0.3333333333333333,
              "#9c179e"
             ],
             [
              0.4444444444444444,
              "#bd3786"
             ],
             [
              0.5555555555555556,
              "#d8576b"
             ],
             [
              0.6666666666666666,
              "#ed7953"
             ],
             [
              0.7777777777777778,
              "#fb9f3a"
             ],
             [
              0.8888888888888888,
              "#fdca26"
             ],
             [
              1,
              "#f0f921"
             ]
            ],
            "type": "histogram2d"
           }
          ],
          "histogram2dcontour": [
           {
            "colorbar": {
             "outlinewidth": 0,
             "ticks": ""
            },
            "colorscale": [
             [
              0,
              "#0d0887"
             ],
             [
              0.1111111111111111,
              "#46039f"
             ],
             [
              0.2222222222222222,
              "#7201a8"
             ],
             [
              0.3333333333333333,
              "#9c179e"
             ],
             [
              0.4444444444444444,
              "#bd3786"
             ],
             [
              0.5555555555555556,
              "#d8576b"
             ],
             [
              0.6666666666666666,
              "#ed7953"
             ],
             [
              0.7777777777777778,
              "#fb9f3a"
             ],
             [
              0.8888888888888888,
              "#fdca26"
             ],
             [
              1,
              "#f0f921"
             ]
            ],
            "type": "histogram2dcontour"
           }
          ],
          "mesh3d": [
           {
            "colorbar": {
             "outlinewidth": 0,
             "ticks": ""
            },
            "type": "mesh3d"
           }
          ],
          "parcoords": [
           {
            "line": {
             "colorbar": {
              "outlinewidth": 0,
              "ticks": ""
             }
            },
            "type": "parcoords"
           }
          ],
          "pie": [
           {
            "automargin": true,
            "type": "pie"
           }
          ],
          "scatter": [
           {
            "fillpattern": {
             "fillmode": "overlay",
             "size": 10,
             "solidity": 0.2
            },
            "type": "scatter"
           }
          ],
          "scatter3d": [
           {
            "line": {
             "colorbar": {
              "outlinewidth": 0,
              "ticks": ""
             }
            },
            "marker": {
             "colorbar": {
              "outlinewidth": 0,
              "ticks": ""
             }
            },
            "type": "scatter3d"
           }
          ],
          "scattercarpet": [
           {
            "marker": {
             "colorbar": {
              "outlinewidth": 0,
              "ticks": ""
             }
            },
            "type": "scattercarpet"
           }
          ],
          "scattergeo": [
           {
            "marker": {
             "colorbar": {
              "outlinewidth": 0,
              "ticks": ""
             }
            },
            "type": "scattergeo"
           }
          ],
          "scattergl": [
           {
            "marker": {
             "colorbar": {
              "outlinewidth": 0,
              "ticks": ""
             }
            },
            "type": "scattergl"
           }
          ],
          "scattermapbox": [
           {
            "marker": {
             "colorbar": {
              "outlinewidth": 0,
              "ticks": ""
             }
            },
            "type": "scattermapbox"
           }
          ],
          "scatterpolar": [
           {
            "marker": {
             "colorbar": {
              "outlinewidth": 0,
              "ticks": ""
             }
            },
            "type": "scatterpolar"
           }
          ],
          "scatterpolargl": [
           {
            "marker": {
             "colorbar": {
              "outlinewidth": 0,
              "ticks": ""
             }
            },
            "type": "scatterpolargl"
           }
          ],
          "scatterternary": [
           {
            "marker": {
             "colorbar": {
              "outlinewidth": 0,
              "ticks": ""
             }
            },
            "type": "scatterternary"
           }
          ],
          "surface": [
           {
            "colorbar": {
             "outlinewidth": 0,
             "ticks": ""
            },
            "colorscale": [
             [
              0,
              "#0d0887"
             ],
             [
              0.1111111111111111,
              "#46039f"
             ],
             [
              0.2222222222222222,
              "#7201a8"
             ],
             [
              0.3333333333333333,
              "#9c179e"
             ],
             [
              0.4444444444444444,
              "#bd3786"
             ],
             [
              0.5555555555555556,
              "#d8576b"
             ],
             [
              0.6666666666666666,
              "#ed7953"
             ],
             [
              0.7777777777777778,
              "#fb9f3a"
             ],
             [
              0.8888888888888888,
              "#fdca26"
             ],
             [
              1,
              "#f0f921"
             ]
            ],
            "type": "surface"
           }
          ],
          "table": [
           {
            "cells": {
             "fill": {
              "color": "#EBF0F8"
             },
             "line": {
              "color": "white"
             }
            },
            "header": {
             "fill": {
              "color": "#C8D4E3"
             },
             "line": {
              "color": "white"
             }
            },
            "type": "table"
           }
          ]
         },
         "layout": {
          "annotationdefaults": {
           "arrowcolor": "#2a3f5f",
           "arrowhead": 0,
           "arrowwidth": 1
          },
          "autotypenumbers": "strict",
          "coloraxis": {
           "colorbar": {
            "outlinewidth": 0,
            "ticks": ""
           }
          },
          "colorscale": {
           "diverging": [
            [
             0,
             "#8e0152"
            ],
            [
             0.1,
             "#c51b7d"
            ],
            [
             0.2,
             "#de77ae"
            ],
            [
             0.3,
             "#f1b6da"
            ],
            [
             0.4,
             "#fde0ef"
            ],
            [
             0.5,
             "#f7f7f7"
            ],
            [
             0.6,
             "#e6f5d0"
            ],
            [
             0.7,
             "#b8e186"
            ],
            [
             0.8,
             "#7fbc41"
            ],
            [
             0.9,
             "#4d9221"
            ],
            [
             1,
             "#276419"
            ]
           ],
           "sequential": [
            [
             0,
             "#0d0887"
            ],
            [
             0.1111111111111111,
             "#46039f"
            ],
            [
             0.2222222222222222,
             "#7201a8"
            ],
            [
             0.3333333333333333,
             "#9c179e"
            ],
            [
             0.4444444444444444,
             "#bd3786"
            ],
            [
             0.5555555555555556,
             "#d8576b"
            ],
            [
             0.6666666666666666,
             "#ed7953"
            ],
            [
             0.7777777777777778,
             "#fb9f3a"
            ],
            [
             0.8888888888888888,
             "#fdca26"
            ],
            [
             1,
             "#f0f921"
            ]
           ],
           "sequentialminus": [
            [
             0,
             "#0d0887"
            ],
            [
             0.1111111111111111,
             "#46039f"
            ],
            [
             0.2222222222222222,
             "#7201a8"
            ],
            [
             0.3333333333333333,
             "#9c179e"
            ],
            [
             0.4444444444444444,
             "#bd3786"
            ],
            [
             0.5555555555555556,
             "#d8576b"
            ],
            [
             0.6666666666666666,
             "#ed7953"
            ],
            [
             0.7777777777777778,
             "#fb9f3a"
            ],
            [
             0.8888888888888888,
             "#fdca26"
            ],
            [
             1,
             "#f0f921"
            ]
           ]
          },
          "colorway": [
           "#636efa",
           "#EF553B",
           "#00cc96",
           "#ab63fa",
           "#FFA15A",
           "#19d3f3",
           "#FF6692",
           "#B6E880",
           "#FF97FF",
           "#FECB52"
          ],
          "font": {
           "color": "#2a3f5f"
          },
          "geo": {
           "bgcolor": "white",
           "lakecolor": "white",
           "landcolor": "#E5ECF6",
           "showlakes": true,
           "showland": true,
           "subunitcolor": "white"
          },
          "hoverlabel": {
           "align": "left"
          },
          "hovermode": "closest",
          "mapbox": {
           "style": "light"
          },
          "paper_bgcolor": "white",
          "plot_bgcolor": "#E5ECF6",
          "polar": {
           "angularaxis": {
            "gridcolor": "white",
            "linecolor": "white",
            "ticks": ""
           },
           "bgcolor": "#E5ECF6",
           "radialaxis": {
            "gridcolor": "white",
            "linecolor": "white",
            "ticks": ""
           }
          },
          "scene": {
           "xaxis": {
            "backgroundcolor": "#E5ECF6",
            "gridcolor": "white",
            "gridwidth": 2,
            "linecolor": "white",
            "showbackground": true,
            "ticks": "",
            "zerolinecolor": "white"
           },
           "yaxis": {
            "backgroundcolor": "#E5ECF6",
            "gridcolor": "white",
            "gridwidth": 2,
            "linecolor": "white",
            "showbackground": true,
            "ticks": "",
            "zerolinecolor": "white"
           },
           "zaxis": {
            "backgroundcolor": "#E5ECF6",
            "gridcolor": "white",
            "gridwidth": 2,
            "linecolor": "white",
            "showbackground": true,
            "ticks": "",
            "zerolinecolor": "white"
           }
          },
          "shapedefaults": {
           "line": {
            "color": "#2a3f5f"
           }
          },
          "ternary": {
           "aaxis": {
            "gridcolor": "white",
            "linecolor": "white",
            "ticks": ""
           },
           "baxis": {
            "gridcolor": "white",
            "linecolor": "white",
            "ticks": ""
           },
           "bgcolor": "#E5ECF6",
           "caxis": {
            "gridcolor": "white",
            "linecolor": "white",
            "ticks": ""
           }
          },
          "title": {
           "x": 0.05
          },
          "xaxis": {
           "automargin": true,
           "gridcolor": "white",
           "linecolor": "white",
           "ticks": "",
           "title": {
            "standoff": 15
           },
           "zerolinecolor": "white",
           "zerolinewidth": 2
          },
          "yaxis": {
           "automargin": true,
           "gridcolor": "white",
           "linecolor": "white",
           "ticks": "",
           "title": {
            "standoff": 15
           },
           "zerolinecolor": "white",
           "zerolinewidth": 2
          }
         }
        },
        "title": {
         "text": "Detalhes de Tempo",
         "x": 0.5
        },
        "xaxis": {
         "anchor": "y",
         "categoryorder": "category ascending",
         "domain": [
          0,
          1
         ],
         "tickfont": {
          "color": "gray"
         },
         "tickvals": [
          1,
          2,
          3,
          4,
          5,
          6,
          7,
          8,
          9,
          10,
          11,
          12,
          13,
          14
         ],
         "title": {
          "text": "Linha"
         }
        },
        "yaxis": {
         "anchor": "x",
         "domain": [
          0,
          1
         ],
         "tickfont": {
          "color": "gray"
         },
         "title": {
          "text": "Tempo (min)"
         }
        }
       }
      }
     },
     "metadata": {},
     "output_type": "display_data"
    }
   ],
   "source": [
    "chart_details_3 = bar_chart_details.create_bar_chart_details(\n",
    "    df_maq_stopped.copy(),\n",
    "    IndicatorType.EFFICIENCY,\n",
    "    working=df_time_working.copy(),\n",
    "    choice=\"causa\",\n",
    ")\n",
    "chart_details_3"
   ]
  },
  {
   "cell_type": "code",
   "execution_count": 45,
   "metadata": {},
   "outputs": [
    {
     "data": {
      "application/vnd.plotly.v1+json": {
       "config": {
        "plotlyServerURL": "https://plot.ly"
       },
       "data": [
        {
         "alignmentgroup": "True",
         "hovertemplate": "Equipamento=Recheadora<br>Linha=%{x}<br>Tempo (min)=%{y}<extra></extra>",
         "legendgroup": "Recheadora",
         "marker": {
          "color": "#1f77b4",
          "pattern": {
           "shape": ""
          }
         },
         "name": "Recheadora",
         "offsetgroup": "Recheadora",
         "orientation": "v",
         "showlegend": true,
         "textposition": "auto",
         "type": "bar",
         "x": [
          1,
          1,
          1,
          1,
          2,
          2,
          2,
          2,
          2,
          2,
          3,
          3,
          3,
          3,
          3,
          4,
          7,
          7,
          11,
          11,
          13,
          13,
          13
         ],
         "xaxis": "x",
         "y": [
          122,
          2,
          12,
          16,
          6,
          12,
          14,
          2,
          4,
          2,
          192,
          4,
          6,
          18,
          14,
          18,
          2,
          6,
          42,
          14,
          58,
          4,
          26
         ],
         "yaxis": "y"
        },
        {
         "alignmentgroup": "True",
         "hovertemplate": "Equipamento=Termoformadora<br>Linha=%{x}<br>Tempo (min)=%{y}<extra></extra>",
         "legendgroup": "Termoformadora",
         "marker": {
          "color": "#ff7f0e",
          "pattern": {
           "shape": ""
          }
         },
         "name": "Termoformadora",
         "offsetgroup": "Termoformadora",
         "orientation": "v",
         "showlegend": true,
         "textposition": "auto",
         "type": "bar",
         "x": [
          1,
          1,
          1,
          1,
          1,
          1,
          1,
          1,
          1,
          1,
          1,
          1,
          1,
          1,
          1,
          1,
          1,
          2,
          2,
          2,
          2,
          3,
          3,
          3,
          3,
          3,
          3,
          3,
          3,
          3,
          3,
          3,
          3,
          3,
          3,
          4,
          4,
          4,
          4,
          4,
          4,
          4,
          7,
          7,
          7,
          7,
          7,
          7,
          7,
          7,
          7,
          7,
          7,
          8,
          8,
          8,
          8,
          8,
          8,
          8,
          8,
          8,
          8,
          8,
          8,
          8,
          8,
          8,
          8,
          9,
          9,
          9,
          9,
          9,
          9,
          9,
          9,
          9,
          9,
          10,
          10,
          11,
          11,
          11,
          11,
          12,
          12,
          12,
          12,
          13
         ],
         "xaxis": "x",
         "y": [
          30,
          10,
          12,
          6,
          4,
          10,
          2,
          4,
          2,
          6,
          18,
          8,
          8,
          6,
          12,
          2,
          2,
          236,
          2,
          4,
          2,
          6,
          4,
          44,
          12,
          4,
          6,
          6,
          6,
          4,
          4,
          96,
          18,
          4,
          6,
          6,
          4,
          4,
          8,
          2,
          2,
          10,
          8,
          6,
          8,
          8,
          6,
          10,
          12,
          2,
          8,
          15,
          12,
          306,
          80,
          2,
          2,
          16,
          52,
          40,
          2,
          2,
          16,
          2,
          2,
          14,
          48,
          2,
          12,
          20,
          30,
          12,
          14,
          20,
          6,
          22,
          4,
          2,
          8,
          18,
          363,
          34,
          40,
          12,
          4,
          18,
          14,
          168,
          4,
          18
         ],
         "yaxis": "y"
        },
        {
         "alignmentgroup": "True",
         "hovertemplate": "Equipamento=Robô<br>Linha=%{x}<br>Tempo (min)=%{y}<extra></extra>",
         "legendgroup": "Robô",
         "marker": {
          "color": "#ffbb78",
          "pattern": {
           "shape": ""
          }
         },
         "name": "Robô",
         "offsetgroup": "Robô",
         "orientation": "v",
         "showlegend": true,
         "textposition": "auto",
         "type": "bar",
         "x": [
          1,
          1,
          1,
          1,
          1,
          1,
          1,
          1,
          1,
          1,
          1,
          1,
          1,
          1,
          1,
          1,
          2,
          2,
          2,
          2,
          2,
          2,
          2,
          2,
          2,
          2,
          2,
          2,
          2,
          2,
          2,
          2,
          2,
          2,
          3,
          3,
          3,
          4,
          4,
          4,
          4,
          4,
          4,
          4,
          4,
          4,
          4,
          4,
          4,
          4,
          5,
          6,
          10,
          10,
          10,
          10,
          11,
          11,
          11,
          11,
          11,
          12,
          12,
          12,
          12,
          12,
          12,
          12,
          13,
          13,
          13,
          13,
          13,
          13
         ],
         "xaxis": "x",
         "y": [
          6,
          4,
          24,
          10,
          12,
          2,
          2,
          4,
          18,
          2,
          2,
          2,
          8,
          2,
          4,
          12,
          30,
          2,
          4,
          2,
          14,
          10,
          2,
          8,
          2,
          2,
          8,
          2,
          2,
          12,
          2,
          4,
          4,
          8,
          24,
          12,
          30,
          4,
          4,
          4,
          2,
          4,
          4,
          12,
          14,
          4,
          4,
          6,
          36,
          4,
          480,
          480,
          128,
          80,
          10,
          6,
          26,
          34,
          28,
          8,
          95,
          28,
          6,
          8,
          8,
          154,
          28,
          14,
          33,
          4,
          80,
          10,
          34,
          281
         ],
         "yaxis": "y"
        },
        {
         "alignmentgroup": "True",
         "hovertemplate": "Equipamento=8<br>Linha=%{x}<br>Tempo (min)=%{y}<extra></extra>",
         "legendgroup": "8",
         "marker": {
          "color": "#2ca02c",
          "pattern": {
           "shape": ""
          }
         },
         "name": "8",
         "offsetgroup": "8",
         "orientation": "v",
         "showlegend": true,
         "textposition": "auto",
         "type": "bar",
         "x": [
          3
         ],
         "xaxis": "x",
         "y": [
          34
         ],
         "yaxis": "y"
        },
        {
         "alignmentgroup": "True",
         "hovertemplate": "Equipamento=3<br>Linha=%{x}<br>Tempo (min)=%{y}<extra></extra>",
         "legendgroup": "3",
         "marker": {
          "color": "#98df8a",
          "pattern": {
           "shape": ""
          }
         },
         "name": "3",
         "offsetgroup": "3",
         "orientation": "v",
         "showlegend": true,
         "textposition": "auto",
         "type": "bar",
         "x": [
          4
         ],
         "xaxis": "x",
         "y": [
          2
         ],
         "yaxis": "y"
        },
        {
         "alignmentgroup": "True",
         "hovertemplate": "Equipamento=Detector de Metais<br>Linha=%{x}<br>Tempo (min)=%{y}<extra></extra>",
         "legendgroup": "Detector de Metais",
         "marker": {
          "color": "#d62728",
          "pattern": {
           "shape": ""
          }
         },
         "name": "Detector de Metais",
         "offsetgroup": "Detector de Metais",
         "orientation": "v",
         "showlegend": true,
         "textposition": "auto",
         "type": "bar",
         "x": [
          7,
          7,
          8,
          9
         ],
         "xaxis": "x",
         "y": [
          14,
          4,
          6,
          6
         ],
         "yaxis": "y"
        },
        {
         "alignmentgroup": "True",
         "hovertemplate": "Equipamento=1<br>Linha=%{x}<br>Tempo (min)=%{y}<extra></extra>",
         "legendgroup": "1",
         "marker": {
          "color": "#ff9896",
          "pattern": {
           "shape": ""
          }
         },
         "name": "1",
         "offsetgroup": "1",
         "orientation": "v",
         "showlegend": true,
         "textposition": "auto",
         "type": "bar",
         "x": [
          9,
          9
         ],
         "xaxis": "x",
         "y": [
          8,
          300
         ],
         "yaxis": "y"
        },
        {
         "alignmentgroup": "True",
         "hovertemplate": "Equipamento=10<br>Linha=%{x}<br>Tempo (min)=%{y}<extra></extra>",
         "legendgroup": "10",
         "marker": {
          "color": "#9467bd",
          "pattern": {
           "shape": ""
          }
         },
         "name": "10",
         "offsetgroup": "10",
         "orientation": "v",
         "showlegend": true,
         "textposition": "auto",
         "type": "bar",
         "x": [
          10
         ],
         "xaxis": "x",
         "y": [
          121
         ],
         "yaxis": "y"
        }
       ],
       "layout": {
        "barmode": "stack",
        "legend": {
         "title": {
          "text": "Equipamento"
         },
         "tracegroupgap": 0
        },
        "margin": {
         "b": 40,
         "l": 40,
         "r": 40,
         "t": 40
        },
        "plot_bgcolor": "RGBA(0,0,0,0.01)",
        "template": {
         "data": {
          "bar": [
           {
            "error_x": {
             "color": "#2a3f5f"
            },
            "error_y": {
             "color": "#2a3f5f"
            },
            "marker": {
             "line": {
              "color": "#E5ECF6",
              "width": 0.5
             },
             "pattern": {
              "fillmode": "overlay",
              "size": 10,
              "solidity": 0.2
             }
            },
            "type": "bar"
           }
          ],
          "barpolar": [
           {
            "marker": {
             "line": {
              "color": "#E5ECF6",
              "width": 0.5
             },
             "pattern": {
              "fillmode": "overlay",
              "size": 10,
              "solidity": 0.2
             }
            },
            "type": "barpolar"
           }
          ],
          "carpet": [
           {
            "aaxis": {
             "endlinecolor": "#2a3f5f",
             "gridcolor": "white",
             "linecolor": "white",
             "minorgridcolor": "white",
             "startlinecolor": "#2a3f5f"
            },
            "baxis": {
             "endlinecolor": "#2a3f5f",
             "gridcolor": "white",
             "linecolor": "white",
             "minorgridcolor": "white",
             "startlinecolor": "#2a3f5f"
            },
            "type": "carpet"
           }
          ],
          "choropleth": [
           {
            "colorbar": {
             "outlinewidth": 0,
             "ticks": ""
            },
            "type": "choropleth"
           }
          ],
          "contour": [
           {
            "colorbar": {
             "outlinewidth": 0,
             "ticks": ""
            },
            "colorscale": [
             [
              0,
              "#0d0887"
             ],
             [
              0.1111111111111111,
              "#46039f"
             ],
             [
              0.2222222222222222,
              "#7201a8"
             ],
             [
              0.3333333333333333,
              "#9c179e"
             ],
             [
              0.4444444444444444,
              "#bd3786"
             ],
             [
              0.5555555555555556,
              "#d8576b"
             ],
             [
              0.6666666666666666,
              "#ed7953"
             ],
             [
              0.7777777777777778,
              "#fb9f3a"
             ],
             [
              0.8888888888888888,
              "#fdca26"
             ],
             [
              1,
              "#f0f921"
             ]
            ],
            "type": "contour"
           }
          ],
          "contourcarpet": [
           {
            "colorbar": {
             "outlinewidth": 0,
             "ticks": ""
            },
            "type": "contourcarpet"
           }
          ],
          "heatmap": [
           {
            "colorbar": {
             "outlinewidth": 0,
             "ticks": ""
            },
            "colorscale": [
             [
              0,
              "#0d0887"
             ],
             [
              0.1111111111111111,
              "#46039f"
             ],
             [
              0.2222222222222222,
              "#7201a8"
             ],
             [
              0.3333333333333333,
              "#9c179e"
             ],
             [
              0.4444444444444444,
              "#bd3786"
             ],
             [
              0.5555555555555556,
              "#d8576b"
             ],
             [
              0.6666666666666666,
              "#ed7953"
             ],
             [
              0.7777777777777778,
              "#fb9f3a"
             ],
             [
              0.8888888888888888,
              "#fdca26"
             ],
             [
              1,
              "#f0f921"
             ]
            ],
            "type": "heatmap"
           }
          ],
          "heatmapgl": [
           {
            "colorbar": {
             "outlinewidth": 0,
             "ticks": ""
            },
            "colorscale": [
             [
              0,
              "#0d0887"
             ],
             [
              0.1111111111111111,
              "#46039f"
             ],
             [
              0.2222222222222222,
              "#7201a8"
             ],
             [
              0.3333333333333333,
              "#9c179e"
             ],
             [
              0.4444444444444444,
              "#bd3786"
             ],
             [
              0.5555555555555556,
              "#d8576b"
             ],
             [
              0.6666666666666666,
              "#ed7953"
             ],
             [
              0.7777777777777778,
              "#fb9f3a"
             ],
             [
              0.8888888888888888,
              "#fdca26"
             ],
             [
              1,
              "#f0f921"
             ]
            ],
            "type": "heatmapgl"
           }
          ],
          "histogram": [
           {
            "marker": {
             "pattern": {
              "fillmode": "overlay",
              "size": 10,
              "solidity": 0.2
             }
            },
            "type": "histogram"
           }
          ],
          "histogram2d": [
           {
            "colorbar": {
             "outlinewidth": 0,
             "ticks": ""
            },
            "colorscale": [
             [
              0,
              "#0d0887"
             ],
             [
              0.1111111111111111,
              "#46039f"
             ],
             [
              0.2222222222222222,
              "#7201a8"
             ],
             [
              0.3333333333333333,
              "#9c179e"
             ],
             [
              0.4444444444444444,
              "#bd3786"
             ],
             [
              0.5555555555555556,
              "#d8576b"
             ],
             [
              0.6666666666666666,
              "#ed7953"
             ],
             [
              0.7777777777777778,
              "#fb9f3a"
             ],
             [
              0.8888888888888888,
              "#fdca26"
             ],
             [
              1,
              "#f0f921"
             ]
            ],
            "type": "histogram2d"
           }
          ],
          "histogram2dcontour": [
           {
            "colorbar": {
             "outlinewidth": 0,
             "ticks": ""
            },
            "colorscale": [
             [
              0,
              "#0d0887"
             ],
             [
              0.1111111111111111,
              "#46039f"
             ],
             [
              0.2222222222222222,
              "#7201a8"
             ],
             [
              0.3333333333333333,
              "#9c179e"
             ],
             [
              0.4444444444444444,
              "#bd3786"
             ],
             [
              0.5555555555555556,
              "#d8576b"
             ],
             [
              0.6666666666666666,
              "#ed7953"
             ],
             [
              0.7777777777777778,
              "#fb9f3a"
             ],
             [
              0.8888888888888888,
              "#fdca26"
             ],
             [
              1,
              "#f0f921"
             ]
            ],
            "type": "histogram2dcontour"
           }
          ],
          "mesh3d": [
           {
            "colorbar": {
             "outlinewidth": 0,
             "ticks": ""
            },
            "type": "mesh3d"
           }
          ],
          "parcoords": [
           {
            "line": {
             "colorbar": {
              "outlinewidth": 0,
              "ticks": ""
             }
            },
            "type": "parcoords"
           }
          ],
          "pie": [
           {
            "automargin": true,
            "type": "pie"
           }
          ],
          "scatter": [
           {
            "fillpattern": {
             "fillmode": "overlay",
             "size": 10,
             "solidity": 0.2
            },
            "type": "scatter"
           }
          ],
          "scatter3d": [
           {
            "line": {
             "colorbar": {
              "outlinewidth": 0,
              "ticks": ""
             }
            },
            "marker": {
             "colorbar": {
              "outlinewidth": 0,
              "ticks": ""
             }
            },
            "type": "scatter3d"
           }
          ],
          "scattercarpet": [
           {
            "marker": {
             "colorbar": {
              "outlinewidth": 0,
              "ticks": ""
             }
            },
            "type": "scattercarpet"
           }
          ],
          "scattergeo": [
           {
            "marker": {
             "colorbar": {
              "outlinewidth": 0,
              "ticks": ""
             }
            },
            "type": "scattergeo"
           }
          ],
          "scattergl": [
           {
            "marker": {
             "colorbar": {
              "outlinewidth": 0,
              "ticks": ""
             }
            },
            "type": "scattergl"
           }
          ],
          "scattermapbox": [
           {
            "marker": {
             "colorbar": {
              "outlinewidth": 0,
              "ticks": ""
             }
            },
            "type": "scattermapbox"
           }
          ],
          "scatterpolar": [
           {
            "marker": {
             "colorbar": {
              "outlinewidth": 0,
              "ticks": ""
             }
            },
            "type": "scatterpolar"
           }
          ],
          "scatterpolargl": [
           {
            "marker": {
             "colorbar": {
              "outlinewidth": 0,
              "ticks": ""
             }
            },
            "type": "scatterpolargl"
           }
          ],
          "scatterternary": [
           {
            "marker": {
             "colorbar": {
              "outlinewidth": 0,
              "ticks": ""
             }
            },
            "type": "scatterternary"
           }
          ],
          "surface": [
           {
            "colorbar": {
             "outlinewidth": 0,
             "ticks": ""
            },
            "colorscale": [
             [
              0,
              "#0d0887"
             ],
             [
              0.1111111111111111,
              "#46039f"
             ],
             [
              0.2222222222222222,
              "#7201a8"
             ],
             [
              0.3333333333333333,
              "#9c179e"
             ],
             [
              0.4444444444444444,
              "#bd3786"
             ],
             [
              0.5555555555555556,
              "#d8576b"
             ],
             [
              0.6666666666666666,
              "#ed7953"
             ],
             [
              0.7777777777777778,
              "#fb9f3a"
             ],
             [
              0.8888888888888888,
              "#fdca26"
             ],
             [
              1,
              "#f0f921"
             ]
            ],
            "type": "surface"
           }
          ],
          "table": [
           {
            "cells": {
             "fill": {
              "color": "#EBF0F8"
             },
             "line": {
              "color": "white"
             }
            },
            "header": {
             "fill": {
              "color": "#C8D4E3"
             },
             "line": {
              "color": "white"
             }
            },
            "type": "table"
           }
          ]
         },
         "layout": {
          "annotationdefaults": {
           "arrowcolor": "#2a3f5f",
           "arrowhead": 0,
           "arrowwidth": 1
          },
          "autotypenumbers": "strict",
          "coloraxis": {
           "colorbar": {
            "outlinewidth": 0,
            "ticks": ""
           }
          },
          "colorscale": {
           "diverging": [
            [
             0,
             "#8e0152"
            ],
            [
             0.1,
             "#c51b7d"
            ],
            [
             0.2,
             "#de77ae"
            ],
            [
             0.3,
             "#f1b6da"
            ],
            [
             0.4,
             "#fde0ef"
            ],
            [
             0.5,
             "#f7f7f7"
            ],
            [
             0.6,
             "#e6f5d0"
            ],
            [
             0.7,
             "#b8e186"
            ],
            [
             0.8,
             "#7fbc41"
            ],
            [
             0.9,
             "#4d9221"
            ],
            [
             1,
             "#276419"
            ]
           ],
           "sequential": [
            [
             0,
             "#0d0887"
            ],
            [
             0.1111111111111111,
             "#46039f"
            ],
            [
             0.2222222222222222,
             "#7201a8"
            ],
            [
             0.3333333333333333,
             "#9c179e"
            ],
            [
             0.4444444444444444,
             "#bd3786"
            ],
            [
             0.5555555555555556,
             "#d8576b"
            ],
            [
             0.6666666666666666,
             "#ed7953"
            ],
            [
             0.7777777777777778,
             "#fb9f3a"
            ],
            [
             0.8888888888888888,
             "#fdca26"
            ],
            [
             1,
             "#f0f921"
            ]
           ],
           "sequentialminus": [
            [
             0,
             "#0d0887"
            ],
            [
             0.1111111111111111,
             "#46039f"
            ],
            [
             0.2222222222222222,
             "#7201a8"
            ],
            [
             0.3333333333333333,
             "#9c179e"
            ],
            [
             0.4444444444444444,
             "#bd3786"
            ],
            [
             0.5555555555555556,
             "#d8576b"
            ],
            [
             0.6666666666666666,
             "#ed7953"
            ],
            [
             0.7777777777777778,
             "#fb9f3a"
            ],
            [
             0.8888888888888888,
             "#fdca26"
            ],
            [
             1,
             "#f0f921"
            ]
           ]
          },
          "colorway": [
           "#636efa",
           "#EF553B",
           "#00cc96",
           "#ab63fa",
           "#FFA15A",
           "#19d3f3",
           "#FF6692",
           "#B6E880",
           "#FF97FF",
           "#FECB52"
          ],
          "font": {
           "color": "#2a3f5f"
          },
          "geo": {
           "bgcolor": "white",
           "lakecolor": "white",
           "landcolor": "#E5ECF6",
           "showlakes": true,
           "showland": true,
           "subunitcolor": "white"
          },
          "hoverlabel": {
           "align": "left"
          },
          "hovermode": "closest",
          "mapbox": {
           "style": "light"
          },
          "paper_bgcolor": "white",
          "plot_bgcolor": "#E5ECF6",
          "polar": {
           "angularaxis": {
            "gridcolor": "white",
            "linecolor": "white",
            "ticks": ""
           },
           "bgcolor": "#E5ECF6",
           "radialaxis": {
            "gridcolor": "white",
            "linecolor": "white",
            "ticks": ""
           }
          },
          "scene": {
           "xaxis": {
            "backgroundcolor": "#E5ECF6",
            "gridcolor": "white",
            "gridwidth": 2,
            "linecolor": "white",
            "showbackground": true,
            "ticks": "",
            "zerolinecolor": "white"
           },
           "yaxis": {
            "backgroundcolor": "#E5ECF6",
            "gridcolor": "white",
            "gridwidth": 2,
            "linecolor": "white",
            "showbackground": true,
            "ticks": "",
            "zerolinecolor": "white"
           },
           "zaxis": {
            "backgroundcolor": "#E5ECF6",
            "gridcolor": "white",
            "gridwidth": 2,
            "linecolor": "white",
            "showbackground": true,
            "ticks": "",
            "zerolinecolor": "white"
           }
          },
          "shapedefaults": {
           "line": {
            "color": "#2a3f5f"
           }
          },
          "ternary": {
           "aaxis": {
            "gridcolor": "white",
            "linecolor": "white",
            "ticks": ""
           },
           "baxis": {
            "gridcolor": "white",
            "linecolor": "white",
            "ticks": ""
           },
           "bgcolor": "#E5ECF6",
           "caxis": {
            "gridcolor": "white",
            "linecolor": "white",
            "ticks": ""
           }
          },
          "title": {
           "x": 0.05
          },
          "xaxis": {
           "automargin": true,
           "gridcolor": "white",
           "linecolor": "white",
           "ticks": "",
           "title": {
            "standoff": 15
           },
           "zerolinecolor": "white",
           "zerolinewidth": 2
          },
          "yaxis": {
           "automargin": true,
           "gridcolor": "white",
           "linecolor": "white",
           "ticks": "",
           "title": {
            "standoff": 15
           },
           "zerolinecolor": "white",
           "zerolinewidth": 2
          }
         }
        },
        "title": {
         "text": "Detalhes de Tempo",
         "x": 0.5
        },
        "xaxis": {
         "anchor": "y",
         "categoryorder": "category ascending",
         "domain": [
          0,
          1
         ],
         "tickfont": {
          "color": "gray"
         },
         "tickvals": [
          1,
          2,
          3,
          4,
          5,
          6,
          7,
          8,
          9,
          10,
          11,
          12,
          13,
          14
         ],
         "title": {
          "text": "Linha"
         }
        },
        "yaxis": {
         "anchor": "x",
         "domain": [
          0,
          1
         ],
         "tickfont": {
          "color": "gray"
         },
         "title": {
          "text": "Tempo (min)"
         }
        }
       }
      }
     },
     "metadata": {},
     "output_type": "display_data"
    }
   ],
   "source": [
    "chart_details_4 = bar_chart_details.create_bar_chart_details(\n",
    "    df_maq_stopped.copy(),\n",
    "    IndicatorType.EFFICIENCY,\n",
    "    working=df_time_working.copy(),\n",
    "    choice=\"equipamento\",\n",
    ")\n",
    "chart_details_4"
   ]
  },
  {
   "cell_type": "code",
   "execution_count": 46,
   "metadata": {},
   "outputs": [],
   "source": [
    "class SunburstTest:\n",
    "    \"\"\"\n",
    "    Represents a class for creating bar chart details based on provided data.\n",
    "    \"\"\"\n",
    "\n",
    "    def __init__(self, df_maq_stopped: pd.DataFrame, df_production: pd.DataFrame):\n",
    "        self.df_indicator = DFIndicators(df_maq_stopped, df_production)\n",
    "\n",
    "    def create_icicle_details(\n",
    "        self,\n",
    "        dataframe: pd.DataFrame,\n",
    "        indicator: IndicatorType,\n",
    "        turn: str = None,\n",
    "        selected_data: str = None,\n",
    "        working: pd.DataFrame = None,\n",
    "    ):\n",
    "\n",
    "        df = self.df_indicator.adjust_df_for_bar_lost(dataframe, indicator)\n",
    "\n",
    "        # Garante que data_registro tenha apenas o dia\n",
    "        df[\"data_registro\"] = pd.to_datetime(df[\"data_registro\"]).dt.date\n",
    "\n",
    "        # Filtro pelo dia, caso tenha sido selecionado\n",
    "        df = (\n",
    "            df[df[\"data_registro\"] == pd.to_datetime(selected_data).date()] if selected_data else df\n",
    "        )\n",
    "\n",
    "        # Remove onde não há motivo informado\n",
    "        df = df[df[\"motivo\"] != \"Não apontado\"]\n",
    "\n",
    "        # Preenche problemas nulos\n",
    "        df[\"problema\"] = df[\"problema\"].fillna(\"Sem Problema\")\n",
    "\n",
    "        # Preenche equipamento nulo\n",
    "        df[\"equipamento\"] = df[\"equipamento\"].fillna(\"Linha\")\n",
    "\n",
    "        # Se a causa for nula, preenche com o problema\n",
    "        df[\"causa\"] = df[\"causa\"].fillna(df[\"problema\"])\n",
    "\n",
    "        # Mapear cores\n",
    "        color_dict = {\n",
    "            \"Parada de 5 minutos ou menos\": BSColorsEnum.GREY_400_COLOR.value,\n",
    "            \"Sem Motivo Informado\": BSColorsEnum.GREY_600_COLOR.value,\n",
    "            \"Ajustes\": BSColorsEnum.TEAL_COLOR.value,\n",
    "            \"Manutenção\": BSColorsEnum.SPACE_CADET_COLOR.value,\n",
    "            \"Qualidade\": BSColorsEnum.WARNING_COLOR.value,\n",
    "            \"Fluxo\": BSColorsEnum.PINK_COLOR.value,\n",
    "            \"Parada Programada\": BSColorsEnum.DANGER_COLOR.value,\n",
    "            \"Setup\": BSColorsEnum.SECONDARY_COLOR.value,\n",
    "            \"Limpeza\": BSColorsEnum.PRIMARY_COLOR.value,\n",
    "            \"Rodando\": BSColorsEnum.SUCCESS_COLOR.value,\n",
    "        }\n",
    "\n",
    "        # Criação do gráfico\n",
    "        fig = px.icicle(\n",
    "            df,\n",
    "            path=[px.Constant(\"Maquina ID\"), \"turno\", \"motivo\", \"equipamento\", \"problema\", \"causa\"],\n",
    "            values=\"tempo\",\n",
    "            color=\"motivo\",\n",
    "            title=\"Detalhes de Tempo\",\n",
    "            height=800,\n",
    "            color_discrete_map=color_dict,\n",
    "        )\n",
    "\n",
    "        tick_color = \"gray\"\n",
    "\n",
    "        # Atualizar layout\n",
    "        fig.update_layout(\n",
    "            plot_bgcolor=\"RGBA(0,0,0,0.01)\",\n",
    "        )\n",
    "\n",
    "        # Adicionar a porcentagem\n",
    "        fig.update_traces(textinfo=\"label+percent parent\")\n",
    "\n",
    "        return fig\n",
    "\n",
    "\n",
    "sunburst_test = SunburstTest(df_maq_stopped.copy(), df_info_production_cleaned.copy())"
   ]
  },
  {
   "cell_type": "code",
   "execution_count": 47,
   "metadata": {},
   "outputs": [
    {
     "data": {
      "application/vnd.plotly.v1+json": {
       "config": {
        "plotlyServerURL": "https://plot.ly"
       },
       "data": [
        {
         "branchvalues": "total",
         "customdata": [
          [
           "Ajustes"
          ],
          [
           "Ajustes"
          ],
          [
           "Ajustes"
          ],
          [
           "Parada de 5 minutos ou menos"
          ],
          [
           "Ajustes"
          ],
          [
           "Ajustes"
          ],
          [
           "Ajustes"
          ],
          [
           "Ajustes"
          ],
          [
           "Manutenção"
          ],
          [
           "Parada Programada"
          ],
          [
           "Parada Programada"
          ],
          [
           "Ajustes"
          ],
          [
           "Fluxo"
          ],
          [
           "Parada Programada"
          ],
          [
           "Setup"
          ],
          [
           "Parada Programada"
          ],
          [
           "Parada Programada"
          ],
          [
           "Parada Programada"
          ],
          [
           "Parada Programada"
          ],
          [
           "Saída para Backup"
          ],
          [
           "Ajustes"
          ],
          [
           "Manutenção"
          ],
          [
           "Ajustes"
          ],
          [
           "Ajustes"
          ],
          [
           "Parada de 5 minutos ou menos"
          ],
          [
           "Setup"
          ],
          [
           "Saída para Backup"
          ],
          [
           "Fluxo"
          ],
          [
           "Saída para Backup"
          ],
          [
           "Ajustes"
          ],
          [
           "Ajustes"
          ],
          [
           "Parada Programada"
          ],
          [
           "Ajustes"
          ],
          [
           "Ajustes"
          ],
          [
           "(?)"
          ],
          [
           "Ajustes"
          ],
          [
           "Parada Programada"
          ],
          [
           "Ajustes"
          ],
          [
           "Manutenção"
          ],
          [
           "Saída para Backup"
          ],
          [
           "Saída para Backup"
          ],
          [
           "Ajustes"
          ],
          [
           "Ajustes"
          ],
          [
           "Ajustes"
          ],
          [
           "Ajustes"
          ],
          [
           "Setup"
          ],
          [
           "Parada Programada"
          ],
          [
           "Parada Programada"
          ],
          [
           "Ajustes"
          ],
          [
           "Ajustes"
          ],
          [
           "Manutenção"
          ],
          [
           "Saída para Backup"
          ],
          [
           "Ajustes"
          ],
          [
           "Ajustes"
          ],
          [
           "Ajustes"
          ],
          [
           "Manutenção"
          ],
          [
           "Manutenção"
          ],
          [
           "Manutenção"
          ],
          [
           "Saída para Backup"
          ],
          [
           "Manutenção"
          ],
          [
           "Ajustes"
          ],
          [
           "Ajustes"
          ],
          [
           "Parada de 5 minutos ou menos"
          ],
          [
           "Parada de 5 minutos ou menos"
          ],
          [
           "Ajustes"
          ],
          [
           "Ajustes"
          ],
          [
           "Ajustes"
          ],
          [
           "Ajustes"
          ],
          [
           "Ajustes"
          ],
          [
           "Ajustes"
          ],
          [
           "Parada Programada"
          ],
          [
           "Parada Programada"
          ],
          [
           "Parada Programada"
          ],
          [
           "Parada Programada"
          ],
          [
           "Ajustes"
          ],
          [
           "Ajustes"
          ],
          [
           "Fluxo"
          ],
          [
           "Parada de 5 minutos ou menos"
          ],
          [
           "Parada de 5 minutos ou menos"
          ],
          [
           "Parada de 5 minutos ou menos"
          ],
          [
           "Parada Programada"
          ],
          [
           "Fluxo"
          ],
          [
           "Parada Programada"
          ],
          [
           "Manutenção"
          ],
          [
           "Ajustes"
          ],
          [
           "Parada Programada"
          ],
          [
           "Manutenção"
          ],
          [
           "Ajustes"
          ],
          [
           "Ajustes"
          ],
          [
           "Ajustes"
          ],
          [
           "Parada Programada"
          ],
          [
           "Parada Programada"
          ],
          [
           "Parada Programada"
          ],
          [
           "Ajustes"
          ],
          [
           "Saída para Backup"
          ],
          [
           "Manutenção"
          ],
          [
           "Saída para Backup"
          ],
          [
           "Setup"
          ],
          [
           "(?)"
          ],
          [
           "Ajustes"
          ],
          [
           "Manutenção"
          ],
          [
           "Manutenção"
          ],
          [
           "Ajustes"
          ],
          [
           "Ajustes"
          ],
          [
           "Ajustes"
          ],
          [
           "Ajustes"
          ],
          [
           "Ajustes"
          ],
          [
           "Ajustes"
          ],
          [
           "Ajustes"
          ],
          [
           "Ajustes"
          ],
          [
           "Manutenção"
          ],
          [
           "Parada de 5 minutos ou menos"
          ],
          [
           "Setup"
          ],
          [
           "Parada Programada"
          ],
          [
           "Manutenção"
          ],
          [
           "Fluxo"
          ],
          [
           "Ajustes"
          ],
          [
           "Ajustes"
          ],
          [
           "Fluxo"
          ],
          [
           "Manutenção"
          ],
          [
           "Manutenção"
          ],
          [
           "Ajustes"
          ],
          [
           "Ajustes"
          ],
          [
           "Ajustes"
          ],
          [
           "Parada Programada"
          ],
          [
           "Parada Programada"
          ],
          [
           "Setup"
          ],
          [
           "Ajustes"
          ],
          [
           "Ajustes"
          ],
          [
           "Fluxo"
          ],
          [
           "Fluxo"
          ],
          [
           "Parada Programada"
          ],
          [
           "Ajustes"
          ],
          [
           "Ajustes"
          ],
          [
           "(?)"
          ],
          [
           "Manutenção"
          ],
          [
           "Fluxo"
          ],
          [
           "Ajustes"
          ],
          [
           "Ajustes"
          ],
          [
           "Parada Programada"
          ],
          [
           "Parada Programada"
          ],
          [
           "Parada Programada"
          ],
          [
           "Parada de 5 minutos ou menos"
          ],
          [
           "Parada de 5 minutos ou menos"
          ],
          [
           "Manutenção"
          ],
          [
           "Parada Programada"
          ],
          [
           "Ajustes"
          ],
          [
           "Manutenção"
          ],
          [
           "Ajustes"
          ],
          [
           "Ajustes"
          ],
          [
           "Ajustes"
          ],
          [
           "Ajustes"
          ],
          [
           "(?)"
          ],
          [
           "Saída para Backup"
          ],
          [
           "Manutenção"
          ],
          [
           "Saída para Backup"
          ],
          [
           "Manutenção"
          ],
          [
           "Parada Programada"
          ],
          [
           "Ajustes"
          ],
          [
           "Setup"
          ],
          [
           "Parada de 5 minutos ou menos"
          ],
          [
           "Ajustes"
          ],
          [
           "Parada Programada"
          ],
          [
           "Ajustes"
          ],
          [
           "Ajustes"
          ],
          [
           "Manutenção"
          ],
          [
           "Parada Programada"
          ],
          [
           "Ajustes"
          ],
          [
           "Manutenção"
          ],
          [
           "Manutenção"
          ],
          [
           "Manutenção"
          ],
          [
           "Manutenção"
          ],
          [
           "Setup"
          ],
          [
           "Ajustes"
          ],
          [
           "Ajustes"
          ],
          [
           "Ajustes"
          ],
          [
           "Ajustes"
          ],
          [
           "Ajustes"
          ],
          [
           "Parada de 5 minutos ou menos"
          ]
         ],
         "domain": {
          "x": [
           0,
           1
          ],
          "y": [
           0,
           1
          ]
         },
         "hovertemplate": "labels=%{label}<br>tempo=%{value}<br>parent=%{parent}<br>id=%{id}<br>motivo=%{customdata[0]}<extra></extra>",
         "ids": [
          "Maquina ID/MAT/Ajustes/Robô/Robô Travando/Ajuste das Guias das Bandejas",
          "Maquina ID/MAT/Ajustes/Termoformadora/Troca de Bobina/Troca de Bobina Superior",
          "Maquina ID/VES/Ajustes/Termoformadora/Troca de Bobina/Troca de Bobina Inferior",
          "Maquina ID/VES/Parada de 5 minutos ou menos/Linha",
          "Maquina ID/MAT/Ajustes/Termoformadora/Troca de Bobina/Troca de Bobina Inferior",
          "Maquina ID/NOT/Ajustes/Recheadora",
          "Maquina ID/VES/Ajustes/Termoformadora/Bandeja deformada ou manchada/Troca de Bobina",
          "Maquina ID/MAT/Ajustes/Termoformadora/Bandeja deformada ou manchada/Troca de Bobina",
          "Maquina ID/NOT/Manutenção/Recheadora",
          "Maquina ID/NOT/Parada Programada/Linha/Parada Planejada/Sem Produção",
          "Maquina ID/MAT/Parada Programada/Linha/Parada Planejada/Sem Produção",
          "Maquina ID/NOT/Ajustes/Recheadora/Pão amassado/Seleção de Pão com tamanho irregular",
          "Maquina ID/NOT/Fluxo/Termoformadora/Esteira Cheia/Robô parado",
          "Maquina ID/MAT/Parada Programada/Recheadora",
          "Maquina ID/NOT/Setup/Recheadora",
          "Maquina ID/VES/Parada Programada/Termoformadora/Parada para Treinamento/Relacionado a Qualidade",
          "Maquina ID/VES/Parada Programada/Linha/Parada Planejada/Refeição",
          "Maquina ID/NOT/Parada Programada/Linha/Parada Planejada/Refeição",
          "Maquina ID/MAT/Parada Programada/Linha/Parada Planejada/Refeição",
          "Maquina ID/NOT/Saída para Backup/3/Parada Planejada/Refeição",
          "Maquina ID/MAT/Ajustes/Detector de Metais/Falha no teste do corpo de prova/Reavaliar o último lote produzido",
          "Maquina ID/NOT/Manutenção/Robô/Robô Travando/Rearme do Robô",
          "Maquina ID/NOT/Ajustes/Termoformadora/Troca de Bobina/Troca de Bobina Superior",
          "Maquina ID/MAT/Ajustes/Detector de Metais/Falha no teste do corpo de prova",
          "Maquina ID/NOT/Parada de 5 minutos ou menos/Linha",
          "Maquina ID/NOT/Setup/Termoformadora/Troca de Produto/Troca de molde para baguete 400g",
          "Maquina ID/NOT/Saída para Backup/3/Parada Planejada",
          "Maquina ID/NOT/Fluxo/Termoformadora/Esteira Cheia",
          "Maquina ID/VES/Saída para Backup/8/Parada Planejada",
          "Maquina ID/MAT/Ajustes/Termoformadora/Bobina desenquadrando na vertical",
          "Maquina ID/VES/Ajustes/Termoformadora/Bobina desenquadrando na horizontal",
          "Maquina ID/MAT/Parada Programada/Linha/Parada Planejada",
          "Maquina ID/NOT/Ajustes/Robô/Robô Travando",
          "Maquina ID/NOT/Ajustes/Termoformadora/Bobina Inferior saindo da Corrente",
          "Maquina ID/VES",
          "Maquina ID/VES/Ajustes/Termoformadora/Bandeja deformada ou manchada",
          "Maquina ID/MAT/Parada Programada/10",
          "Maquina ID/VES/Ajustes/Termoformadora/Bandeja Murcha ou Cheia",
          "Maquina ID/VES/Manutenção/Termoformadora/Alarme constante ou não sai",
          "Maquina ID/NOT/Saída para Backup/3",
          "Maquina ID/VES/Saída para Backup/8",
          "Maquina ID/MAT/Ajustes/Detector de Metais",
          "Maquina ID/VES/Ajustes/Termoformadora/Abrindo Bandejas",
          "Maquina ID/NOT/Ajustes/Termoformadora/Abrindo Bandejas",
          "Maquina ID/MAT/Ajustes/Termoformadora/Abrindo Bandejas",
          "Maquina ID/NOT/Setup/Recheadora/Troca de Sabor/Troca para sabor Cebola",
          "Maquina ID/MAT/Parada Programada/Linha",
          "Maquina ID/NOT/Parada Programada/Linha",
          "Maquina ID/NOT/Ajustes/Robô/Robô Travando/Rearme do Robô",
          "Maquina ID/VES/Ajustes/Robô/Robô Travando/Rearme do Robô",
          "Maquina ID/MAT/Manutenção/Termoformadora/Bobina Desenquadrando/Realizar análise de falha",
          "Maquina ID/VES/Saída para Backup/8/Parada Planejada/Backup",
          "Maquina ID/MAT/Ajustes/Robô",
          "Maquina ID/MAT/Ajustes/Termoformadora/Abrindo Bandejas/Análise de falta de ar comprimido",
          "Maquina ID/MAT/Ajustes/Termoformadora/Abrindo Bandejas/Análise de Formação",
          "Maquina ID/MAT/Manutenção/Termoformadora/Alarme constante ou não sai/Alarme de falha nos motores",
          "Maquina ID/VES/Manutenção/Termoformadora/Alarme constante ou não sai/Alarme de falha na pressão do circuito pneumático",
          "Maquina ID/MAT/Manutenção/Termoformadora/Alarme constante ou não sai/Alarme de falha de codificadores",
          "Maquina ID/VES/Saída para Backup/1/Alarme constante ou não sai/Alarme de falha de codificadores",
          "Maquina ID/NOT/Manutenção/Robô/Robô Travando/Ajuste nas Guias das Caixas",
          "Maquina ID/VES/Ajustes/Robô/Robô Travando/Ajuste nas Guias das Caixas",
          "Maquina ID/NOT/Ajustes/Robô/Robô Travando/Ajuste nas Guias das Caixas",
          "Maquina ID/MAT/Parada de 5 minutos ou menos",
          "Maquina ID/VES/Parada de 5 minutos ou menos",
          "Maquina ID/NOT/Ajustes/Termoformadora/Bobina Inferior saindo da Corrente/Ajuste na posição da Bobina",
          "Maquina ID/VES/Ajustes/Termoformadora/Abrindo Bandejas/Ajuste do enquadramento do filme superior",
          "Maquina ID/VES/Ajustes/Termoformadora/Bandeja Murcha ou Cheia/Ajuste de vácuo",
          "Maquina ID/VES/Ajustes/Termoformadora/Bobina desenquadrando na horizontal/Ajuste de posição da Bobina",
          "Maquina ID/MAT/Ajustes/Termoformadora/Bobina desenquadrando na horizontal/Ajuste de posição da Bobina",
          "Maquina ID/MAT/Ajustes/Termoformadora/Abrindo Bandejas/Ajuste de Temperatura",
          "Maquina ID/MAT/Parada Programada/Linha/Parada Planejada/Backup",
          "Maquina ID/NOT/Parada Programada/Linha/Parada Planejada/Backup",
          "Maquina ID/MAT/Parada Programada/10/Parada Planejada/Backup",
          "Maquina ID/MAT/Parada Programada/Recheadora/Parada Planejada/Backup",
          "Maquina ID/NOT/Ajustes/Robô",
          "Maquina ID/VES/Ajustes/Robô",
          "Maquina ID/MAT/Fluxo/Termoformadora/Esteira Cheia/Problema com montagem de caixas",
          "Maquina ID/VES/Parada de 5 minutos ou menos/Linha/Parada de 5 minutos ou menos/Parada de 5 minutos ou menos",
          "Maquina ID/NOT/Parada de 5 minutos ou menos/Linha/Parada de 5 minutos ou menos/Parada de 5 minutos ou menos",
          "Maquina ID/MAT/Parada de 5 minutos ou menos/Linha/Parada de 5 minutos ou menos/Parada de 5 minutos ou menos",
          "Maquina ID/VES/Parada Programada/Linha/Parada Planejada/Backup",
          "Maquina ID/NOT/Fluxo/Termoformadora",
          "Maquina ID/VES/Parada Programada/Termoformadora",
          "Maquina ID/NOT/Manutenção/Recheadora/Pão amassado/Necessidade de análise",
          "Maquina ID/NOT/Ajustes/Recheadora/Quantidade de Recheio não Conforme/Bico entupido",
          "Maquina ID/NOT/Parada Programada/Termoformadora/Parada Planejada/Backup",
          "Maquina ID/NOT/Manutenção/Recheadora/Parada de função da máquina/Berço parou",
          "Maquina ID/MAT/Ajustes/Recheadora/Quantidade de Recheio não Conforme/Bico entupido",
          "Maquina ID/NOT/Ajustes/Recheadora/Quantidade de Recheio não Conforme/Falha durante a dosagem",
          "Maquina ID/VES/Ajustes/Recheadora/Quantidade de Recheio não Conforme/Bico entupido",
          "Maquina ID/MAT/Parada Programada/10/Parada Planejada",
          "Maquina ID/VES/Parada Programada",
          "Maquina ID/NOT/Parada Programada",
          "Maquina ID/VES/Ajustes",
          "Maquina ID/NOT/Saída para Backup",
          "Maquina ID/NOT/Manutenção/Robô/Robô Travando",
          "Maquina ID/VES/Saída para Backup",
          "Maquina ID/NOT/Setup",
          "Maquina ID/NOT",
          "Maquina ID/VES/Ajustes/Robô/Robô Travando",
          "Maquina ID/MAT/Manutenção/Termoformadora",
          "Maquina ID/MAT/Manutenção/Termoformadora/Bobina Desenquadrando",
          "Maquina ID/MAT/Ajustes/Termoformadora/Bobina desenquadrando na vertical/Ajuste de Fotocélula",
          "Maquina ID/MAT/Ajustes/Termoformadora/Bobina Inferior saindo da Corrente",
          "Maquina ID/MAT/Ajustes/Robô/Robô Travando/Ajuste nas Guias das Caixas",
          "Maquina ID/MAT/Ajustes/Recheadora/Quantidade de Recheio não Conforme/Falha no sensor de posição",
          "Maquina ID/NOT/Ajustes/Termoformadora/Abrindo Bandejas/Limpeza de Placa",
          "Maquina ID/MAT/Ajustes/Recheadora/Quantidade de Recheio não Conforme/Falha durante a dosagem",
          "Maquina ID/NOT/Ajustes/Termoformadora/Troca de Bobina",
          "Maquina ID/VES/Ajustes/Termoformadora/Troca de Bobina",
          "Maquina ID/MAT/Manutenção/Termoformadora/Falha no corte da bandeja/Troca ou ajuste da faca transversal",
          "Maquina ID/NOT/Parada de 5 minutos ou menos",
          "Maquina ID/NOT/Setup/Termoformadora/Troca de Produto",
          "Maquina ID/MAT/Parada Programada",
          "Maquina ID/MAT/Manutenção/Termoformadora/Bandeja Murcha ou Cheia",
          "Maquina ID/MAT/Fluxo/Termoformadora",
          "Maquina ID/NOT/Ajustes/Recheadora/Quantidade de Recheio não Conforme",
          "Maquina ID/VES/Ajustes/Termoformadora/Abrindo Bandejas/Limpeza de Placa",
          "Maquina ID/MAT/Fluxo/Termoformadora/Esteira Cheia",
          "Maquina ID/NOT/Manutenção/Robô",
          "Maquina ID/MAT/Manutenção/Termoformadora/Abrindo Bandejas/Realizar análise de falha",
          "Maquina ID/MAT/Ajustes/Robô/Robô Travando/Rearme do Robô",
          "Maquina ID/MAT/Ajustes/Termoformadora",
          "Maquina ID/VES/Ajustes/Termoformadora",
          "Maquina ID/NOT/Parada Programada/Termoformadora",
          "Maquina ID/MAT/Parada Programada/Linha/Parada Planejada/Reunião",
          "Maquina ID/NOT/Setup/Termoformadora",
          "Maquina ID/MAT/Ajustes",
          "Maquina ID/NOT/Ajustes",
          "Maquina ID/MAT/Fluxo",
          "Maquina ID/NOT/Fluxo",
          "Maquina ID/NOT/Parada Programada/Linha/Parada Planejada/Café e Ginástica Laboral",
          "Maquina ID/VES/Ajustes/Termoformadora/Bandeja deformada ou manchada/Ajuste na temperatura de Formação",
          "Maquina ID/VES/Ajustes/Termoformadora/Bobina Inferior saindo da Corrente/Ajuste na posição da Bobina",
          "Maquina ID/MAT",
          "Maquina ID/VES/Manutenção/Termoformadora",
          "Maquina ID/MAT/Fluxo/Termoformadora/Esteira Cheia/Robô parado",
          "Maquina ID/VES/Ajustes/Recheadora",
          "Maquina ID/MAT/Ajustes/Recheadora/Quantidade de Recheio não Conforme",
          "Maquina ID/VES/Parada Programada/Linha/Parada Planejada",
          "Maquina ID/MAT/Parada Programada/Recheadora/Parada Planejada",
          "Maquina ID/NOT/Parada Programada/Termoformadora/Parada Planejada",
          "Maquina ID/MAT/Parada de 5 minutos ou menos/Linha/Parada de 5 minutos ou menos",
          "Maquina ID/NOT/Parada de 5 minutos ou menos/Linha/Parada de 5 minutos ou menos",
          "Maquina ID/NOT/Manutenção/Recheadora/Parada de função da máquina",
          "Maquina ID/VES/Parada Programada/Termoformadora/Parada para Treinamento",
          "Maquina ID/NOT/Ajustes/Recheadora/Pão amassado",
          "Maquina ID/NOT/Manutenção/Recheadora/Pão amassado",
          "Maquina ID/MAT/Ajustes/Robô/Robô Travando",
          "Maquina ID/VES/Ajustes/Termoformadora/Bobina Inferior saindo da Corrente",
          "Maquina ID/MAT/Ajustes/Termoformadora/Bandeja deformada ou manchada",
          "Maquina ID/MAT/Ajustes/Termoformadora/Troca de Bobina",
          "Maquina ID",
          "Maquina ID/VES/Saída para Backup/1",
          "Maquina ID/MAT/Manutenção/Termoformadora/Alarme constante ou não sai",
          "Maquina ID/VES/Saída para Backup/1/Alarme constante ou não sai",
          "Maquina ID/MAT/Manutenção/Termoformadora/Abrindo Bandejas",
          "Maquina ID/VES/Parada Programada/Linha",
          "Maquina ID/VES/Ajustes/Termoformadora/Troca de Bobina/Troca de Bobina Superior",
          "Maquina ID/NOT/Setup/Recheadora/Troca de Sabor",
          "Maquina ID/MAT/Parada de 5 minutos ou menos/Linha",
          "Maquina ID/VES/Ajustes/Robô/Robô Travando/Ajuste das Guias das Bandejas",
          "Maquina ID/NOT/Parada Programada/Linha/Parada Planejada",
          "Maquina ID/MAT/Ajustes/Termoformadora/Bobina desenquadrando na vertical/Ajuste de Freio",
          "Maquina ID/MAT/Ajustes/Termoformadora/Bobina Inferior saindo da Corrente/Troca de Bobina",
          "Maquina ID/MAT/Manutenção/Termoformadora/Falha no corte da bandeja",
          "Maquina ID/VES/Parada Programada/Linha/Parada Planejada/Sem Produção",
          "Maquina ID/VES/Ajustes/Recheadora/Quantidade de Recheio não Conforme/Bomba com Falha",
          "Maquina ID/VES/Manutenção",
          "Maquina ID/NOT/Manutenção",
          "Maquina ID/MAT/Manutenção",
          "Maquina ID/MAT/Manutenção/Termoformadora/Bandeja Murcha ou Cheia/Realizar análise de falha",
          "Maquina ID/NOT/Setup/Termoformadora/Troca de Produto/Troca de molde para baguete 240g",
          "Maquina ID/NOT/Ajustes/Termoformadora/Troca de Bobina/Troca de Bobina Inferior",
          "Maquina ID/VES/Ajustes/Recheadora/Quantidade de Recheio não Conforme",
          "Maquina ID/MAT/Ajustes/Recheadora",
          "Maquina ID/MAT/Ajustes/Termoformadora/Bobina desenquadrando na horizontal",
          "Maquina ID/NOT/Ajustes/Termoformadora",
          "Maquina ID/VES/Parada de 5 minutos ou menos/Linha/Parada de 5 minutos ou menos"
         ],
         "labels": [
          "Ajuste das Guias das Bandejas",
          "Troca de Bobina Superior",
          "Troca de Bobina Inferior",
          "Linha",
          "Troca de Bobina Inferior",
          "Recheadora",
          "Troca de Bobina",
          "Troca de Bobina",
          "Recheadora",
          "Sem Produção",
          "Sem Produção",
          "Seleção de Pão com tamanho irregular",
          "Robô parado",
          "Recheadora",
          "Recheadora",
          "Relacionado a Qualidade",
          "Refeição",
          "Refeição",
          "Refeição",
          "Refeição",
          "Reavaliar o último lote produzido",
          "Rearme do Robô",
          "Troca de Bobina Superior",
          "Falha no teste do corpo de prova",
          "Linha",
          "Troca de molde para baguete 400g",
          "Parada Planejada",
          "Esteira Cheia",
          "Parada Planejada",
          "Bobina desenquadrando na vertical",
          "Bobina desenquadrando na horizontal",
          "Parada Planejada",
          "Robô Travando",
          "Bobina Inferior saindo da Corrente",
          "VES",
          "Bandeja deformada ou manchada",
          "10",
          "Bandeja Murcha ou Cheia",
          "Alarme constante ou não sai",
          "3",
          "8",
          "Detector de Metais",
          "Abrindo Bandejas",
          "Abrindo Bandejas",
          "Abrindo Bandejas",
          "Troca para sabor Cebola",
          "Linha",
          "Linha",
          "Rearme do Robô",
          "Rearme do Robô",
          "Realizar análise de falha",
          "Backup",
          "Robô",
          "Análise de falta de ar comprimido",
          "Análise de Formação",
          "Alarme de falha nos motores",
          "Alarme de falha na pressão do circuito pneumático",
          "Alarme de falha de codificadores",
          "Alarme de falha de codificadores",
          "Ajuste nas Guias das Caixas",
          "Ajuste nas Guias das Caixas",
          "Ajuste nas Guias das Caixas",
          "Parada de 5 minutos ou menos",
          "Parada de 5 minutos ou menos",
          "Ajuste na posição da Bobina",
          "Ajuste do enquadramento do filme superior",
          "Ajuste de vácuo",
          "Ajuste de posição da Bobina",
          "Ajuste de posição da Bobina",
          "Ajuste de Temperatura",
          "Backup",
          "Backup",
          "Backup",
          "Backup",
          "Robô",
          "Robô",
          "Problema com montagem de caixas",
          "Parada de 5 minutos ou menos",
          "Parada de 5 minutos ou menos",
          "Parada de 5 minutos ou menos",
          "Backup",
          "Termoformadora",
          "Termoformadora",
          "Necessidade de análise",
          "Bico entupido",
          "Backup",
          "Berço parou",
          "Bico entupido",
          "Falha durante a dosagem",
          "Bico entupido",
          "Parada Planejada",
          "Parada Programada",
          "Parada Programada",
          "Ajustes",
          "Saída para Backup",
          "Robô Travando",
          "Saída para Backup",
          "Setup",
          "NOT",
          "Robô Travando",
          "Termoformadora",
          "Bobina Desenquadrando",
          "Ajuste de Fotocélula",
          "Bobina Inferior saindo da Corrente",
          "Ajuste nas Guias das Caixas",
          "Falha no sensor de posição",
          "Limpeza de Placa",
          "Falha durante a dosagem",
          "Troca de Bobina",
          "Troca de Bobina",
          "Troca ou ajuste da faca transversal",
          "Parada de 5 minutos ou menos",
          "Troca de Produto",
          "Parada Programada",
          "Bandeja Murcha ou Cheia",
          "Termoformadora",
          "Quantidade de Recheio não Conforme",
          "Limpeza de Placa",
          "Esteira Cheia",
          "Robô",
          "Realizar análise de falha",
          "Rearme do Robô",
          "Termoformadora",
          "Termoformadora",
          "Termoformadora",
          "Reunião",
          "Termoformadora",
          "Ajustes",
          "Ajustes",
          "Fluxo",
          "Fluxo",
          "Café e Ginástica Laboral",
          "Ajuste na temperatura de Formação",
          "Ajuste na posição da Bobina",
          "MAT",
          "Termoformadora",
          "Robô parado",
          "Recheadora",
          "Quantidade de Recheio não Conforme",
          "Parada Planejada",
          "Parada Planejada",
          "Parada Planejada",
          "Parada de 5 minutos ou menos",
          "Parada de 5 minutos ou menos",
          "Parada de função da máquina",
          "Parada para Treinamento",
          "Pão amassado",
          "Pão amassado",
          "Robô Travando",
          "Bobina Inferior saindo da Corrente",
          "Bandeja deformada ou manchada",
          "Troca de Bobina",
          "Maquina ID",
          "1",
          "Alarme constante ou não sai",
          "Alarme constante ou não sai",
          "Abrindo Bandejas",
          "Linha",
          "Troca de Bobina Superior",
          "Troca de Sabor",
          "Linha",
          "Ajuste das Guias das Bandejas",
          "Parada Planejada",
          "Ajuste de Freio",
          "Troca de Bobina",
          "Falha no corte da bandeja",
          "Sem Produção",
          "Bomba com Falha",
          "Manutenção",
          "Manutenção",
          "Manutenção",
          "Realizar análise de falha",
          "Troca de molde para baguete 240g",
          "Troca de Bobina Inferior",
          "Quantidade de Recheio não Conforme",
          "Recheadora",
          "Bobina desenquadrando na horizontal",
          "Termoformadora",
          "Parada de 5 minutos ou menos"
         ],
         "marker": {
          "colors": [
           "#20c997",
           "#20c997",
           "#20c997",
           "#ced4da",
           "#20c997",
           "#20c997",
           "#20c997",
           "#20c997",
           "#282f44",
           "#dc3545",
           "#dc3545",
           "#20c997",
           "#d63384",
           "#dc3545",
           "#6c757d",
           "#dc3545",
           "#dc3545",
           "#dc3545",
           "#dc3545",
           "#636efa",
           "#20c997",
           "#282f44",
           "#20c997",
           "#20c997",
           "#ced4da",
           "#6c757d",
           "#636efa",
           "#d63384",
           "#636efa",
           "#20c997",
           "#20c997",
           "#dc3545",
           "#20c997",
           "#20c997",
           "#EF553B",
           "#20c997",
           "#dc3545",
           "#20c997",
           "#282f44",
           "#636efa",
           "#636efa",
           "#20c997",
           "#20c997",
           "#20c997",
           "#20c997",
           "#6c757d",
           "#dc3545",
           "#dc3545",
           "#20c997",
           "#20c997",
           "#282f44",
           "#636efa",
           "#20c997",
           "#20c997",
           "#20c997",
           "#282f44",
           "#282f44",
           "#282f44",
           "#636efa",
           "#282f44",
           "#20c997",
           "#20c997",
           "#ced4da",
           "#ced4da",
           "#20c997",
           "#20c997",
           "#20c997",
           "#20c997",
           "#20c997",
           "#20c997",
           "#dc3545",
           "#dc3545",
           "#dc3545",
           "#dc3545",
           "#20c997",
           "#20c997",
           "#d63384",
           "#ced4da",
           "#ced4da",
           "#ced4da",
           "#dc3545",
           "#d63384",
           "#dc3545",
           "#282f44",
           "#20c997",
           "#dc3545",
           "#282f44",
           "#20c997",
           "#20c997",
           "#20c997",
           "#dc3545",
           "#dc3545",
           "#dc3545",
           "#20c997",
           "#636efa",
           "#282f44",
           "#636efa",
           "#6c757d",
           "#EF553B",
           "#20c997",
           "#282f44",
           "#282f44",
           "#20c997",
           "#20c997",
           "#20c997",
           "#20c997",
           "#20c997",
           "#20c997",
           "#20c997",
           "#20c997",
           "#282f44",
           "#ced4da",
           "#6c757d",
           "#dc3545",
           "#282f44",
           "#d63384",
           "#20c997",
           "#20c997",
           "#d63384",
           "#282f44",
           "#282f44",
           "#20c997",
           "#20c997",
           "#20c997",
           "#dc3545",
           "#dc3545",
           "#6c757d",
           "#20c997",
           "#20c997",
           "#d63384",
           "#d63384",
           "#dc3545",
           "#20c997",
           "#20c997",
           "#EF553B",
           "#282f44",
           "#d63384",
           "#20c997",
           "#20c997",
           "#dc3545",
           "#dc3545",
           "#dc3545",
           "#ced4da",
           "#ced4da",
           "#282f44",
           "#dc3545",
           "#20c997",
           "#282f44",
           "#20c997",
           "#20c997",
           "#20c997",
           "#20c997",
           "#EF553B",
           "#636efa",
           "#282f44",
           "#636efa",
           "#282f44",
           "#dc3545",
           "#20c997",
           "#6c757d",
           "#ced4da",
           "#20c997",
           "#dc3545",
           "#20c997",
           "#20c997",
           "#282f44",
           "#dc3545",
           "#20c997",
           "#282f44",
           "#282f44",
           "#282f44",
           "#282f44",
           "#6c757d",
           "#20c997",
           "#20c997",
           "#20c997",
           "#20c997",
           "#20c997",
           "#ced4da"
          ]
         },
         "name": "",
         "parents": [
          "Maquina ID/MAT/Ajustes/Robô/Robô Travando",
          "Maquina ID/MAT/Ajustes/Termoformadora/Troca de Bobina",
          "Maquina ID/VES/Ajustes/Termoformadora/Troca de Bobina",
          "Maquina ID/VES/Parada de 5 minutos ou menos",
          "Maquina ID/MAT/Ajustes/Termoformadora/Troca de Bobina",
          "Maquina ID/NOT/Ajustes",
          "Maquina ID/VES/Ajustes/Termoformadora/Bandeja deformada ou manchada",
          "Maquina ID/MAT/Ajustes/Termoformadora/Bandeja deformada ou manchada",
          "Maquina ID/NOT/Manutenção",
          "Maquina ID/NOT/Parada Programada/Linha/Parada Planejada",
          "Maquina ID/MAT/Parada Programada/Linha/Parada Planejada",
          "Maquina ID/NOT/Ajustes/Recheadora/Pão amassado",
          "Maquina ID/NOT/Fluxo/Termoformadora/Esteira Cheia",
          "Maquina ID/MAT/Parada Programada",
          "Maquina ID/NOT/Setup",
          "Maquina ID/VES/Parada Programada/Termoformadora/Parada para Treinamento",
          "Maquina ID/VES/Parada Programada/Linha/Parada Planejada",
          "Maquina ID/NOT/Parada Programada/Linha/Parada Planejada",
          "Maquina ID/MAT/Parada Programada/Linha/Parada Planejada",
          "Maquina ID/NOT/Saída para Backup/3/Parada Planejada",
          "Maquina ID/MAT/Ajustes/Detector de Metais/Falha no teste do corpo de prova",
          "Maquina ID/NOT/Manutenção/Robô/Robô Travando",
          "Maquina ID/NOT/Ajustes/Termoformadora/Troca de Bobina",
          "Maquina ID/MAT/Ajustes/Detector de Metais",
          "Maquina ID/NOT/Parada de 5 minutos ou menos",
          "Maquina ID/NOT/Setup/Termoformadora/Troca de Produto",
          "Maquina ID/NOT/Saída para Backup/3",
          "Maquina ID/NOT/Fluxo/Termoformadora",
          "Maquina ID/VES/Saída para Backup/8",
          "Maquina ID/MAT/Ajustes/Termoformadora",
          "Maquina ID/VES/Ajustes/Termoformadora",
          "Maquina ID/MAT/Parada Programada/Linha",
          "Maquina ID/NOT/Ajustes/Robô",
          "Maquina ID/NOT/Ajustes/Termoformadora",
          "Maquina ID",
          "Maquina ID/VES/Ajustes/Termoformadora",
          "Maquina ID/MAT/Parada Programada",
          "Maquina ID/VES/Ajustes/Termoformadora",
          "Maquina ID/VES/Manutenção/Termoformadora",
          "Maquina ID/NOT/Saída para Backup",
          "Maquina ID/VES/Saída para Backup",
          "Maquina ID/MAT/Ajustes",
          "Maquina ID/VES/Ajustes/Termoformadora",
          "Maquina ID/NOT/Ajustes/Termoformadora",
          "Maquina ID/MAT/Ajustes/Termoformadora",
          "Maquina ID/NOT/Setup/Recheadora/Troca de Sabor",
          "Maquina ID/MAT/Parada Programada",
          "Maquina ID/NOT/Parada Programada",
          "Maquina ID/NOT/Ajustes/Robô/Robô Travando",
          "Maquina ID/VES/Ajustes/Robô/Robô Travando",
          "Maquina ID/MAT/Manutenção/Termoformadora/Bobina Desenquadrando",
          "Maquina ID/VES/Saída para Backup/8/Parada Planejada",
          "Maquina ID/MAT/Ajustes",
          "Maquina ID/MAT/Ajustes/Termoformadora/Abrindo Bandejas",
          "Maquina ID/MAT/Ajustes/Termoformadora/Abrindo Bandejas",
          "Maquina ID/MAT/Manutenção/Termoformadora/Alarme constante ou não sai",
          "Maquina ID/VES/Manutenção/Termoformadora/Alarme constante ou não sai",
          "Maquina ID/MAT/Manutenção/Termoformadora/Alarme constante ou não sai",
          "Maquina ID/VES/Saída para Backup/1/Alarme constante ou não sai",
          "Maquina ID/NOT/Manutenção/Robô/Robô Travando",
          "Maquina ID/VES/Ajustes/Robô/Robô Travando",
          "Maquina ID/NOT/Ajustes/Robô/Robô Travando",
          "Maquina ID/MAT",
          "Maquina ID/VES",
          "Maquina ID/NOT/Ajustes/Termoformadora/Bobina Inferior saindo da Corrente",
          "Maquina ID/VES/Ajustes/Termoformadora/Abrindo Bandejas",
          "Maquina ID/VES/Ajustes/Termoformadora/Bandeja Murcha ou Cheia",
          "Maquina ID/VES/Ajustes/Termoformadora/Bobina desenquadrando na horizontal",
          "Maquina ID/MAT/Ajustes/Termoformadora/Bobina desenquadrando na horizontal",
          "Maquina ID/MAT/Ajustes/Termoformadora/Abrindo Bandejas",
          "Maquina ID/MAT/Parada Programada/Linha/Parada Planejada",
          "Maquina ID/NOT/Parada Programada/Linha/Parada Planejada",
          "Maquina ID/MAT/Parada Programada/10/Parada Planejada",
          "Maquina ID/MAT/Parada Programada/Recheadora/Parada Planejada",
          "Maquina ID/NOT/Ajustes",
          "Maquina ID/VES/Ajustes",
          "Maquina ID/MAT/Fluxo/Termoformadora/Esteira Cheia",
          "Maquina ID/VES/Parada de 5 minutos ou menos/Linha/Parada de 5 minutos ou menos",
          "Maquina ID/NOT/Parada de 5 minutos ou menos/Linha/Parada de 5 minutos ou menos",
          "Maquina ID/MAT/Parada de 5 minutos ou menos/Linha/Parada de 5 minutos ou menos",
          "Maquina ID/VES/Parada Programada/Linha/Parada Planejada",
          "Maquina ID/NOT/Fluxo",
          "Maquina ID/VES/Parada Programada",
          "Maquina ID/NOT/Manutenção/Recheadora/Pão amassado",
          "Maquina ID/NOT/Ajustes/Recheadora/Quantidade de Recheio não Conforme",
          "Maquina ID/NOT/Parada Programada/Termoformadora/Parada Planejada",
          "Maquina ID/NOT/Manutenção/Recheadora/Parada de função da máquina",
          "Maquina ID/MAT/Ajustes/Recheadora/Quantidade de Recheio não Conforme",
          "Maquina ID/NOT/Ajustes/Recheadora/Quantidade de Recheio não Conforme",
          "Maquina ID/VES/Ajustes/Recheadora/Quantidade de Recheio não Conforme",
          "Maquina ID/MAT/Parada Programada/10",
          "Maquina ID/VES",
          "Maquina ID/NOT",
          "Maquina ID/VES",
          "Maquina ID/NOT",
          "Maquina ID/NOT/Manutenção/Robô",
          "Maquina ID/VES",
          "Maquina ID/NOT",
          "Maquina ID",
          "Maquina ID/VES/Ajustes/Robô",
          "Maquina ID/MAT/Manutenção",
          "Maquina ID/MAT/Manutenção/Termoformadora",
          "Maquina ID/MAT/Ajustes/Termoformadora/Bobina desenquadrando na vertical",
          "Maquina ID/MAT/Ajustes/Termoformadora",
          "Maquina ID/MAT/Ajustes/Robô/Robô Travando",
          "Maquina ID/MAT/Ajustes/Recheadora/Quantidade de Recheio não Conforme",
          "Maquina ID/NOT/Ajustes/Termoformadora/Abrindo Bandejas",
          "Maquina ID/MAT/Ajustes/Recheadora/Quantidade de Recheio não Conforme",
          "Maquina ID/NOT/Ajustes/Termoformadora",
          "Maquina ID/VES/Ajustes/Termoformadora",
          "Maquina ID/MAT/Manutenção/Termoformadora/Falha no corte da bandeja",
          "Maquina ID/NOT",
          "Maquina ID/NOT/Setup/Termoformadora",
          "Maquina ID/MAT",
          "Maquina ID/MAT/Manutenção/Termoformadora",
          "Maquina ID/MAT/Fluxo",
          "Maquina ID/NOT/Ajustes/Recheadora",
          "Maquina ID/VES/Ajustes/Termoformadora/Abrindo Bandejas",
          "Maquina ID/MAT/Fluxo/Termoformadora",
          "Maquina ID/NOT/Manutenção",
          "Maquina ID/MAT/Manutenção/Termoformadora/Abrindo Bandejas",
          "Maquina ID/MAT/Ajustes/Robô/Robô Travando",
          "Maquina ID/MAT/Ajustes",
          "Maquina ID/VES/Ajustes",
          "Maquina ID/NOT/Parada Programada",
          "Maquina ID/MAT/Parada Programada/Linha/Parada Planejada",
          "Maquina ID/NOT/Setup",
          "Maquina ID/MAT",
          "Maquina ID/NOT",
          "Maquina ID/MAT",
          "Maquina ID/NOT",
          "Maquina ID/NOT/Parada Programada/Linha/Parada Planejada",
          "Maquina ID/VES/Ajustes/Termoformadora/Bandeja deformada ou manchada",
          "Maquina ID/VES/Ajustes/Termoformadora/Bobina Inferior saindo da Corrente",
          "Maquina ID",
          "Maquina ID/VES/Manutenção",
          "Maquina ID/MAT/Fluxo/Termoformadora/Esteira Cheia",
          "Maquina ID/VES/Ajustes",
          "Maquina ID/MAT/Ajustes/Recheadora",
          "Maquina ID/VES/Parada Programada/Linha",
          "Maquina ID/MAT/Parada Programada/Recheadora",
          "Maquina ID/NOT/Parada Programada/Termoformadora",
          "Maquina ID/MAT/Parada de 5 minutos ou menos/Linha",
          "Maquina ID/NOT/Parada de 5 minutos ou menos/Linha",
          "Maquina ID/NOT/Manutenção/Recheadora",
          "Maquina ID/VES/Parada Programada/Termoformadora",
          "Maquina ID/NOT/Ajustes/Recheadora",
          "Maquina ID/NOT/Manutenção/Recheadora",
          "Maquina ID/MAT/Ajustes/Robô",
          "Maquina ID/VES/Ajustes/Termoformadora",
          "Maquina ID/MAT/Ajustes/Termoformadora",
          "Maquina ID/MAT/Ajustes/Termoformadora",
          "",
          "Maquina ID/VES/Saída para Backup",
          "Maquina ID/MAT/Manutenção/Termoformadora",
          "Maquina ID/VES/Saída para Backup/1",
          "Maquina ID/MAT/Manutenção/Termoformadora",
          "Maquina ID/VES/Parada Programada",
          "Maquina ID/VES/Ajustes/Termoformadora/Troca de Bobina",
          "Maquina ID/NOT/Setup/Recheadora",
          "Maquina ID/MAT/Parada de 5 minutos ou menos",
          "Maquina ID/VES/Ajustes/Robô/Robô Travando",
          "Maquina ID/NOT/Parada Programada/Linha",
          "Maquina ID/MAT/Ajustes/Termoformadora/Bobina desenquadrando na vertical",
          "Maquina ID/MAT/Ajustes/Termoformadora/Bobina Inferior saindo da Corrente",
          "Maquina ID/MAT/Manutenção/Termoformadora",
          "Maquina ID/VES/Parada Programada/Linha/Parada Planejada",
          "Maquina ID/VES/Ajustes/Recheadora/Quantidade de Recheio não Conforme",
          "Maquina ID/VES",
          "Maquina ID/NOT",
          "Maquina ID/MAT",
          "Maquina ID/MAT/Manutenção/Termoformadora/Bandeja Murcha ou Cheia",
          "Maquina ID/NOT/Setup/Termoformadora/Troca de Produto",
          "Maquina ID/NOT/Ajustes/Termoformadora/Troca de Bobina",
          "Maquina ID/VES/Ajustes/Recheadora",
          "Maquina ID/MAT/Ajustes",
          "Maquina ID/MAT/Ajustes/Termoformadora",
          "Maquina ID/NOT/Ajustes",
          "Maquina ID/VES/Parada de 5 minutos ou menos/Linha"
         ],
         "textinfo": "label+percent parent",
         "type": "icicle",
         "values": [
          4,
          86,
          41,
          21,
          30,
          130,
          16,
          4,
          100,
          556,
          1878,
          2,
          40,
          192,
          30,
          6,
          266,
          904,
          484,
          2,
          30,
          153,
          12,
          30,
          53,
          96,
          2,
          40,
          34,
          18,
          4,
          3347,
          66,
          4,
          3270,
          22,
          121,
          4,
          22,
          2,
          34,
          30,
          178,
          32,
          26,
          30,
          3347,
          3827,
          30,
          1607,
          44,
          34,
          458,
          6,
          8,
          8,
          22,
          8,
          308,
          4,
          167,
          36,
          14,
          21,
          4,
          10,
          4,
          4,
          10,
          12,
          921,
          2307,
          121,
          192,
          66,
          1782,
          128,
          21,
          53,
          14,
          150,
          40,
          6,
          42,
          6,
          14,
          58,
          20,
          122,
          74,
          121,
          740,
          3841,
          2145,
          2,
          157,
          342,
          512,
          5235,
          1782,
          569,
          44,
          14,
          4,
          4,
          30,
          32,
          18,
          298,
          61,
          20,
          53,
          482,
          3660,
          397,
          234,
          128,
          168,
          234,
          157,
          92,
          450,
          178,
          287,
          14,
          64,
          482,
          734,
          530,
          234,
          40,
          60,
          6,
          18,
          5211,
          22,
          106,
          76,
          68,
          734,
          192,
          14,
          14,
          53,
          58,
          6,
          2,
          42,
          458,
          18,
          4,
          116,
          13716,
          308,
          16,
          308,
          92,
          734,
          20,
          30,
          14,
          8,
          3827,
          4,
          4,
          20,
          318,
          2,
          22,
          257,
          569,
          397,
          386,
          286,
          76,
          68,
          10,
          334,
          21
         ]
        }
       ],
       "layout": {
        "height": 800,
        "legend": {
         "tracegroupgap": 0
        },
        "plot_bgcolor": "RGBA(0,0,0,0.01)",
        "template": {
         "data": {
          "bar": [
           {
            "error_x": {
             "color": "#2a3f5f"
            },
            "error_y": {
             "color": "#2a3f5f"
            },
            "marker": {
             "line": {
              "color": "#E5ECF6",
              "width": 0.5
             },
             "pattern": {
              "fillmode": "overlay",
              "size": 10,
              "solidity": 0.2
             }
            },
            "type": "bar"
           }
          ],
          "barpolar": [
           {
            "marker": {
             "line": {
              "color": "#E5ECF6",
              "width": 0.5
             },
             "pattern": {
              "fillmode": "overlay",
              "size": 10,
              "solidity": 0.2
             }
            },
            "type": "barpolar"
           }
          ],
          "carpet": [
           {
            "aaxis": {
             "endlinecolor": "#2a3f5f",
             "gridcolor": "white",
             "linecolor": "white",
             "minorgridcolor": "white",
             "startlinecolor": "#2a3f5f"
            },
            "baxis": {
             "endlinecolor": "#2a3f5f",
             "gridcolor": "white",
             "linecolor": "white",
             "minorgridcolor": "white",
             "startlinecolor": "#2a3f5f"
            },
            "type": "carpet"
           }
          ],
          "choropleth": [
           {
            "colorbar": {
             "outlinewidth": 0,
             "ticks": ""
            },
            "type": "choropleth"
           }
          ],
          "contour": [
           {
            "colorbar": {
             "outlinewidth": 0,
             "ticks": ""
            },
            "colorscale": [
             [
              0,
              "#0d0887"
             ],
             [
              0.1111111111111111,
              "#46039f"
             ],
             [
              0.2222222222222222,
              "#7201a8"
             ],
             [
              0.3333333333333333,
              "#9c179e"
             ],
             [
              0.4444444444444444,
              "#bd3786"
             ],
             [
              0.5555555555555556,
              "#d8576b"
             ],
             [
              0.6666666666666666,
              "#ed7953"
             ],
             [
              0.7777777777777778,
              "#fb9f3a"
             ],
             [
              0.8888888888888888,
              "#fdca26"
             ],
             [
              1,
              "#f0f921"
             ]
            ],
            "type": "contour"
           }
          ],
          "contourcarpet": [
           {
            "colorbar": {
             "outlinewidth": 0,
             "ticks": ""
            },
            "type": "contourcarpet"
           }
          ],
          "heatmap": [
           {
            "colorbar": {
             "outlinewidth": 0,
             "ticks": ""
            },
            "colorscale": [
             [
              0,
              "#0d0887"
             ],
             [
              0.1111111111111111,
              "#46039f"
             ],
             [
              0.2222222222222222,
              "#7201a8"
             ],
             [
              0.3333333333333333,
              "#9c179e"
             ],
             [
              0.4444444444444444,
              "#bd3786"
             ],
             [
              0.5555555555555556,
              "#d8576b"
             ],
             [
              0.6666666666666666,
              "#ed7953"
             ],
             [
              0.7777777777777778,
              "#fb9f3a"
             ],
             [
              0.8888888888888888,
              "#fdca26"
             ],
             [
              1,
              "#f0f921"
             ]
            ],
            "type": "heatmap"
           }
          ],
          "heatmapgl": [
           {
            "colorbar": {
             "outlinewidth": 0,
             "ticks": ""
            },
            "colorscale": [
             [
              0,
              "#0d0887"
             ],
             [
              0.1111111111111111,
              "#46039f"
             ],
             [
              0.2222222222222222,
              "#7201a8"
             ],
             [
              0.3333333333333333,
              "#9c179e"
             ],
             [
              0.4444444444444444,
              "#bd3786"
             ],
             [
              0.5555555555555556,
              "#d8576b"
             ],
             [
              0.6666666666666666,
              "#ed7953"
             ],
             [
              0.7777777777777778,
              "#fb9f3a"
             ],
             [
              0.8888888888888888,
              "#fdca26"
             ],
             [
              1,
              "#f0f921"
             ]
            ],
            "type": "heatmapgl"
           }
          ],
          "histogram": [
           {
            "marker": {
             "pattern": {
              "fillmode": "overlay",
              "size": 10,
              "solidity": 0.2
             }
            },
            "type": "histogram"
           }
          ],
          "histogram2d": [
           {
            "colorbar": {
             "outlinewidth": 0,
             "ticks": ""
            },
            "colorscale": [
             [
              0,
              "#0d0887"
             ],
             [
              0.1111111111111111,
              "#46039f"
             ],
             [
              0.2222222222222222,
              "#7201a8"
             ],
             [
              0.3333333333333333,
              "#9c179e"
             ],
             [
              0.4444444444444444,
              "#bd3786"
             ],
             [
              0.5555555555555556,
              "#d8576b"
             ],
             [
              0.6666666666666666,
              "#ed7953"
             ],
             [
              0.7777777777777778,
              "#fb9f3a"
             ],
             [
              0.8888888888888888,
              "#fdca26"
             ],
             [
              1,
              "#f0f921"
             ]
            ],
            "type": "histogram2d"
           }
          ],
          "histogram2dcontour": [
           {
            "colorbar": {
             "outlinewidth": 0,
             "ticks": ""
            },
            "colorscale": [
             [
              0,
              "#0d0887"
             ],
             [
              0.1111111111111111,
              "#46039f"
             ],
             [
              0.2222222222222222,
              "#7201a8"
             ],
             [
              0.3333333333333333,
              "#9c179e"
             ],
             [
              0.4444444444444444,
              "#bd3786"
             ],
             [
              0.5555555555555556,
              "#d8576b"
             ],
             [
              0.6666666666666666,
              "#ed7953"
             ],
             [
              0.7777777777777778,
              "#fb9f3a"
             ],
             [
              0.8888888888888888,
              "#fdca26"
             ],
             [
              1,
              "#f0f921"
             ]
            ],
            "type": "histogram2dcontour"
           }
          ],
          "mesh3d": [
           {
            "colorbar": {
             "outlinewidth": 0,
             "ticks": ""
            },
            "type": "mesh3d"
           }
          ],
          "parcoords": [
           {
            "line": {
             "colorbar": {
              "outlinewidth": 0,
              "ticks": ""
             }
            },
            "type": "parcoords"
           }
          ],
          "pie": [
           {
            "automargin": true,
            "type": "pie"
           }
          ],
          "scatter": [
           {
            "fillpattern": {
             "fillmode": "overlay",
             "size": 10,
             "solidity": 0.2
            },
            "type": "scatter"
           }
          ],
          "scatter3d": [
           {
            "line": {
             "colorbar": {
              "outlinewidth": 0,
              "ticks": ""
             }
            },
            "marker": {
             "colorbar": {
              "outlinewidth": 0,
              "ticks": ""
             }
            },
            "type": "scatter3d"
           }
          ],
          "scattercarpet": [
           {
            "marker": {
             "colorbar": {
              "outlinewidth": 0,
              "ticks": ""
             }
            },
            "type": "scattercarpet"
           }
          ],
          "scattergeo": [
           {
            "marker": {
             "colorbar": {
              "outlinewidth": 0,
              "ticks": ""
             }
            },
            "type": "scattergeo"
           }
          ],
          "scattergl": [
           {
            "marker": {
             "colorbar": {
              "outlinewidth": 0,
              "ticks": ""
             }
            },
            "type": "scattergl"
           }
          ],
          "scattermapbox": [
           {
            "marker": {
             "colorbar": {
              "outlinewidth": 0,
              "ticks": ""
             }
            },
            "type": "scattermapbox"
           }
          ],
          "scatterpolar": [
           {
            "marker": {
             "colorbar": {
              "outlinewidth": 0,
              "ticks": ""
             }
            },
            "type": "scatterpolar"
           }
          ],
          "scatterpolargl": [
           {
            "marker": {
             "colorbar": {
              "outlinewidth": 0,
              "ticks": ""
             }
            },
            "type": "scatterpolargl"
           }
          ],
          "scatterternary": [
           {
            "marker": {
             "colorbar": {
              "outlinewidth": 0,
              "ticks": ""
             }
            },
            "type": "scatterternary"
           }
          ],
          "surface": [
           {
            "colorbar": {
             "outlinewidth": 0,
             "ticks": ""
            },
            "colorscale": [
             [
              0,
              "#0d0887"
             ],
             [
              0.1111111111111111,
              "#46039f"
             ],
             [
              0.2222222222222222,
              "#7201a8"
             ],
             [
              0.3333333333333333,
              "#9c179e"
             ],
             [
              0.4444444444444444,
              "#bd3786"
             ],
             [
              0.5555555555555556,
              "#d8576b"
             ],
             [
              0.6666666666666666,
              "#ed7953"
             ],
             [
              0.7777777777777778,
              "#fb9f3a"
             ],
             [
              0.8888888888888888,
              "#fdca26"
             ],
             [
              1,
              "#f0f921"
             ]
            ],
            "type": "surface"
           }
          ],
          "table": [
           {
            "cells": {
             "fill": {
              "color": "#EBF0F8"
             },
             "line": {
              "color": "white"
             }
            },
            "header": {
             "fill": {
              "color": "#C8D4E3"
             },
             "line": {
              "color": "white"
             }
            },
            "type": "table"
           }
          ]
         },
         "layout": {
          "annotationdefaults": {
           "arrowcolor": "#2a3f5f",
           "arrowhead": 0,
           "arrowwidth": 1
          },
          "autotypenumbers": "strict",
          "coloraxis": {
           "colorbar": {
            "outlinewidth": 0,
            "ticks": ""
           }
          },
          "colorscale": {
           "diverging": [
            [
             0,
             "#8e0152"
            ],
            [
             0.1,
             "#c51b7d"
            ],
            [
             0.2,
             "#de77ae"
            ],
            [
             0.3,
             "#f1b6da"
            ],
            [
             0.4,
             "#fde0ef"
            ],
            [
             0.5,
             "#f7f7f7"
            ],
            [
             0.6,
             "#e6f5d0"
            ],
            [
             0.7,
             "#b8e186"
            ],
            [
             0.8,
             "#7fbc41"
            ],
            [
             0.9,
             "#4d9221"
            ],
            [
             1,
             "#276419"
            ]
           ],
           "sequential": [
            [
             0,
             "#0d0887"
            ],
            [
             0.1111111111111111,
             "#46039f"
            ],
            [
             0.2222222222222222,
             "#7201a8"
            ],
            [
             0.3333333333333333,
             "#9c179e"
            ],
            [
             0.4444444444444444,
             "#bd3786"
            ],
            [
             0.5555555555555556,
             "#d8576b"
            ],
            [
             0.6666666666666666,
             "#ed7953"
            ],
            [
             0.7777777777777778,
             "#fb9f3a"
            ],
            [
             0.8888888888888888,
             "#fdca26"
            ],
            [
             1,
             "#f0f921"
            ]
           ],
           "sequentialminus": [
            [
             0,
             "#0d0887"
            ],
            [
             0.1111111111111111,
             "#46039f"
            ],
            [
             0.2222222222222222,
             "#7201a8"
            ],
            [
             0.3333333333333333,
             "#9c179e"
            ],
            [
             0.4444444444444444,
             "#bd3786"
            ],
            [
             0.5555555555555556,
             "#d8576b"
            ],
            [
             0.6666666666666666,
             "#ed7953"
            ],
            [
             0.7777777777777778,
             "#fb9f3a"
            ],
            [
             0.8888888888888888,
             "#fdca26"
            ],
            [
             1,
             "#f0f921"
            ]
           ]
          },
          "colorway": [
           "#636efa",
           "#EF553B",
           "#00cc96",
           "#ab63fa",
           "#FFA15A",
           "#19d3f3",
           "#FF6692",
           "#B6E880",
           "#FF97FF",
           "#FECB52"
          ],
          "font": {
           "color": "#2a3f5f"
          },
          "geo": {
           "bgcolor": "white",
           "lakecolor": "white",
           "landcolor": "#E5ECF6",
           "showlakes": true,
           "showland": true,
           "subunitcolor": "white"
          },
          "hoverlabel": {
           "align": "left"
          },
          "hovermode": "closest",
          "mapbox": {
           "style": "light"
          },
          "paper_bgcolor": "white",
          "plot_bgcolor": "#E5ECF6",
          "polar": {
           "angularaxis": {
            "gridcolor": "white",
            "linecolor": "white",
            "ticks": ""
           },
           "bgcolor": "#E5ECF6",
           "radialaxis": {
            "gridcolor": "white",
            "linecolor": "white",
            "ticks": ""
           }
          },
          "scene": {
           "xaxis": {
            "backgroundcolor": "#E5ECF6",
            "gridcolor": "white",
            "gridwidth": 2,
            "linecolor": "white",
            "showbackground": true,
            "ticks": "",
            "zerolinecolor": "white"
           },
           "yaxis": {
            "backgroundcolor": "#E5ECF6",
            "gridcolor": "white",
            "gridwidth": 2,
            "linecolor": "white",
            "showbackground": true,
            "ticks": "",
            "zerolinecolor": "white"
           },
           "zaxis": {
            "backgroundcolor": "#E5ECF6",
            "gridcolor": "white",
            "gridwidth": 2,
            "linecolor": "white",
            "showbackground": true,
            "ticks": "",
            "zerolinecolor": "white"
           }
          },
          "shapedefaults": {
           "line": {
            "color": "#2a3f5f"
           }
          },
          "ternary": {
           "aaxis": {
            "gridcolor": "white",
            "linecolor": "white",
            "ticks": ""
           },
           "baxis": {
            "gridcolor": "white",
            "linecolor": "white",
            "ticks": ""
           },
           "bgcolor": "#E5ECF6",
           "caxis": {
            "gridcolor": "white",
            "linecolor": "white",
            "ticks": ""
           }
          },
          "title": {
           "x": 0.05
          },
          "xaxis": {
           "automargin": true,
           "gridcolor": "white",
           "linecolor": "white",
           "ticks": "",
           "title": {
            "standoff": 15
           },
           "zerolinecolor": "white",
           "zerolinewidth": 2
          },
          "yaxis": {
           "automargin": true,
           "gridcolor": "white",
           "linecolor": "white",
           "ticks": "",
           "title": {
            "standoff": 15
           },
           "zerolinecolor": "white",
           "zerolinewidth": 2
          }
         }
        },
        "title": {
         "text": "Detalhes de Tempo"
        }
       }
      }
     },
     "metadata": {},
     "output_type": "display_data"
    }
   ],
   "source": [
    "icicle_test_fig = sunburst_test.create_icicle_details(\n",
    "    df_maq_stopped.copy(), IndicatorType.EFFICIENCY\n",
    ")\n",
    "icicle_test_fig"
   ]
  }
 ],
 "metadata": {
  "kernelspec": {
   "display_name": ".venv",
   "language": "python",
   "name": "python3"
  },
  "language_info": {
   "codemirror_mode": {
    "name": "ipython",
    "version": 3
   },
   "file_extension": ".py",
   "mimetype": "text/x-python",
   "name": "python",
   "nbconvert_exporter": "python",
   "pygments_lexer": "ipython3",
   "version": "3.12.3"
  }
 },
 "nbformat": 4,
 "nbformat_minor": 2
}
