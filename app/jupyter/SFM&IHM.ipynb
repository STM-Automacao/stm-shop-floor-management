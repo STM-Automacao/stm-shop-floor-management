{
 "cells": [
  {
   "cell_type": "markdown",
   "metadata": {},
   "source": [
    "# Importações\n"
   ]
  },
  {
   "cell_type": "code",
   "execution_count": 141,
   "metadata": {
    "notebookRunGroups": {
     "groupValue": "1"
    }
   },
   "outputs": [],
   "source": [
    "import urllib\n",
    "from itertools import product\n",
    "from os import getenv\n",
    "from sqlalchemy import create_engine\n",
    "from dotenv import load_dotenv\n",
    "\n",
    "import numpy as np\n",
    "import pandas as pd\n",
    "from datetime import datetime, timedelta, time\n",
    "import plotly.graph_objects as go\n",
    "import matplotlib.pyplot as plt\n",
    "import plotly.express as px\n",
    "from fuzzywuzzy import process\n",
    "from enum import Enum\n",
    "\n",
    "\n",
    "FERIADOS = pd.read_csv(\"../assets/feriados.csv\")"
   ]
  },
  {
   "cell_type": "markdown",
   "metadata": {},
   "source": [
    "### Types\n"
   ]
  },
  {
   "cell_type": "code",
   "execution_count": 142,
   "metadata": {
    "notebookRunGroups": {
     "groupValue": "1"
    }
   },
   "outputs": [],
   "source": [
    "# cSpell: disable\n",
    "class BSColorsEnum(Enum):\n",
    "\n",
    "    DANGER_COLOR = \"#dc3545\"\n",
    "\n",
    "    WARNING_COLOR = \"#ffc107\"\n",
    "\n",
    "    SUCCESS_COLOR = \"#198754\"\n",
    "\n",
    "    GREY_500_COLOR = \"#adb5bd\"\n",
    "\n",
    "    GREY_600_COLOR = \"#6c757d\"\n",
    "\n",
    "    GREY_700_COLOR = \"#495057\"\n",
    "\n",
    "    GREY_800_COLOR = \"#343a40\"\n",
    "\n",
    "    GREY_900_COLOR = \"#212529\"\n",
    "\n",
    "    PRIMARY_COLOR = \"#0d6efd\"\n",
    "\n",
    "    SECONDARY_COLOR = \"#6c757d\"\n",
    "\n",
    "    INFO_COLOR = \"#0dcaf0\"\n",
    "\n",
    "    GRAY_COLOR = \"#adb5bd\"\n",
    "\n",
    "    TEAL_COLOR = \"#20c997\"\n",
    "\n",
    "    ORANGE_COLOR = \"#fd7e14\"\n",
    "\n",
    "    INDIGO_COLOR = \"#6610f2\"\n",
    "\n",
    "    PINK_COLOR = \"#d63384\"\n",
    "\n",
    "    PURPLE_COLOR = \"#6f42c1\"\n",
    "\n",
    "    GREY_400_COLOR = \"#ced4da\"\n",
    "\n",
    "    SPACE_CADET_COLOR = \"#282f44\"\n",
    "\n",
    "    BLUE_DELFT_COLOR = \"#0d6efd\"\n",
    "\n",
    "\n",
    "class IndicatorType(Enum):\n",
    "    PERFORMANCE = \"performance\"\n",
    "    REPAIR = \"reparo\"\n",
    "    EFFICIENCY = \"eficiencia\"\n",
    "\n",
    "\n",
    "def get_color(value, max_value):\n",
    "    \"\"\"\n",
    "    Retorna uma cor hexadecimal com base no valor fornecido e no valor máximo.\n",
    "\n",
    "    Parâmetros:\n",
    "    value (float): O valor para o qual a cor será calculada.\n",
    "    max_value (float): O valor máximo possível.\n",
    "\n",
    "    Retorna:\n",
    "    str: Uma cor hexadecimal correspondente ao valor fornecido.\n",
    "    \"\"\"\n",
    "\n",
    "    # Cria um mapa de cores que vai do vermelho ao verde\n",
    "    cmap = plt.get_cmap(\"RdYlGn\")\n",
    "\n",
    "    # Normaliza o valor para um número entre 0 e 1\n",
    "    normalized_value = float(value) / max_value\n",
    "\n",
    "    # Obtém a cor correspondente do mapa de cores\n",
    "    rgba_color = cmap(normalized_value)\n",
    "\n",
    "    # Converte a cor RGBA para uma string de cor hexadecimal\n",
    "    hex_color = (\n",
    "        f\"#{int(rgba_color[0]*255):02x}{int(rgba_color[1]*255):02x}{int(rgba_color[2]*255):02x}\"\n",
    "    )\n",
    "\n",
    "    return hex_color"
   ]
  },
  {
   "cell_type": "markdown",
   "metadata": {},
   "source": [
    "# Database\n"
   ]
  },
  {
   "cell_type": "markdown",
   "metadata": {},
   "source": [
    "## Conexão com o banco de dados\n"
   ]
  },
  {
   "cell_type": "code",
   "execution_count": 143,
   "metadata": {
    "notebookRunGroups": {
     "groupValue": "1"
    }
   },
   "outputs": [],
   "source": [
    "# database/connection.py\n",
    "\n",
    "# cSpell: disable=invalid-name\n",
    "load_dotenv()\n",
    "\n",
    "\n",
    "class Connection:\n",
    "    \"\"\"\n",
    "    Class Connection\n",
    "    \"\"\"\n",
    "\n",
    "    def __init__(self):\n",
    "        \"\"\"\n",
    "        Constructor\n",
    "\n",
    "        Args:\n",
    "            user (str): user\n",
    "            password (str): password\n",
    "            database (str): database\n",
    "            driver (str): driver\n",
    "            server (str): server\n",
    "\n",
    "        Usage:\n",
    "            >>> from connection import Connection\n",
    "            >>> connection = Connection()\n",
    "            >>> connection.get_connection()\n",
    "        \"\"\"\n",
    "        self.__user = getenv(\"PYMSSQL_USER\")\n",
    "        self.__password = getenv(\"PYMSSQL_PASSWORD\")\n",
    "        self.__database = getenv(\"PYMSSQL_DATABASE_AUTOMACAO\")\n",
    "        self.__database_totvsdb = getenv(\"PYMSSQL_DATABASE_TOTVSDB\")\n",
    "        self.__driver = \"{ODBC Driver 17 for SQL Server}\"\n",
    "        self.__server = getenv(\"PYMSSQL_SERVER\")\n",
    "\n",
    "    def get_connection_automacao(self):\n",
    "        \"\"\"\n",
    "        Get connection\n",
    "\n",
    "        Returns:\n",
    "            object: connection\n",
    "\n",
    "        Usage:\n",
    "            >>> from connection import Connection\n",
    "            >>> connection = Connection()\n",
    "            >>> connection.get_connection()\n",
    "        \"\"\"\n",
    "        try:\n",
    "            params = urllib.parse.quote_plus(\n",
    "                f\"DRIVER={self.__driver};\"\n",
    "                f\"SERVER={self.__server};\"\n",
    "                f\"DATABASE={self.__database};\"\n",
    "                f\"UID={self.__user};\"\n",
    "                f\"PWD={self.__password};\"\n",
    "            )\n",
    "            # pylint: disable=consider-using-f-string\n",
    "            conexao_automacao = create_engine(\"mssql+pyodbc:///?odbc_connect=%s\" % params)\n",
    "            return conexao_automacao\n",
    "        # pylint: disable=broad-except\n",
    "        except Exception as error:\n",
    "            print(f\"Error: {error}\")\n",
    "            return None\n",
    "\n",
    "    def get_connection_totvsdb(self):\n",
    "        \"\"\"\n",
    "        Get connection\n",
    "\n",
    "        Returns:\n",
    "            object: connection\n",
    "\n",
    "        Usage:\n",
    "            >>> from connection import Connection\n",
    "            >>> connection = Connection()\n",
    "            >>> connection.get_connection()\n",
    "        \"\"\"\n",
    "        try:\n",
    "            params = urllib.parse.quote_plus(\n",
    "                f\"DRIVER={self.__driver};\"\n",
    "                f\"SERVER={self.__server};\"\n",
    "                f\"DATABASE={self.__database_totvsdb};\"\n",
    "                f\"UID={self.__user};\"\n",
    "                f\"PWD={self.__password};\"\n",
    "            )\n",
    "            conexao_totvsdb = create_engine(f\"mssql+pyodbc:///?odbc_connect={params}\", pool_size=2)\n",
    "            return conexao_totvsdb\n",
    "        # pylint: disable=broad-except\n",
    "        except Exception as error:\n",
    "            print(f\"Error: {error}\")\n",
    "            return None"
   ]
  },
  {
   "cell_type": "markdown",
   "metadata": {},
   "source": [
    "## Leitura do banco de dados\n"
   ]
  },
  {
   "cell_type": "code",
   "execution_count": 144,
   "metadata": {
    "notebookRunGroups": {
     "groupValue": "1"
    }
   },
   "outputs": [],
   "source": [
    "# database/db_read.py\n",
    "\n",
    "\n",
    "# cSpell: disable=invalid-name\n",
    "class Read(Connection):\n",
    "    \"\"\"\n",
    "    Class Read\n",
    "    Read data from the database and return a pandas dataframe\n",
    "    Create query to be executed in the database\n",
    "    \"\"\"\n",
    "\n",
    "    # pylint: disable=useless-super-delegation\n",
    "    def __init__(self):\n",
    "        \"\"\"\n",
    "        Constructor\n",
    "        \"\"\"\n",
    "        super().__init__()\n",
    "\n",
    "    def get_automacao_data(self, query: str) -> pd.DataFrame:\n",
    "        \"\"\"\n",
    "        Get data from database AUTOMACAO and return a pandas dataframe.\n",
    "\n",
    "        Parameters\n",
    "        ----------\n",
    "        query : str\n",
    "            Query to be executed in the database\n",
    "\n",
    "        Returns\n",
    "        -------\n",
    "        pandas dataframe\n",
    "            Dataframe with the query result\n",
    "        \"\"\"\n",
    "        try:\n",
    "            connection = self.get_connection_automacao()\n",
    "            data = pd.read_sql(query, connection)\n",
    "            return data\n",
    "        # pylint: disable=broad-except\n",
    "        except Exception as error:\n",
    "            print(f\"Error: {error}\")\n",
    "            return None\n",
    "        finally:\n",
    "            if connection:\n",
    "                connection.dispose()\n",
    "\n",
    "    def create_automacao_query(self, table: str, where: str = None, orderby: str = None) -> str:\n",
    "        \"\"\"\n",
    "        Create query to be executed in the database AUTOMACAO.\n",
    "\n",
    "        Parameters\n",
    "        ----------\n",
    "        table : str\n",
    "            Table name\n",
    "        where : str\n",
    "            Where clause (optional)\n",
    "        orderby : str\n",
    "            Order by clause (optional)\n",
    "\n",
    "        Returns\n",
    "        -------\n",
    "        str\n",
    "            Query to be executed in the database\n",
    "        \"\"\"\n",
    "        query = f\"SELECT * FROM AUTOMACAO.dbo.{table}\"\n",
    "\n",
    "        if where:\n",
    "            query += f\" WHERE {where}\"\n",
    "\n",
    "        if orderby:\n",
    "            query += f\" ORDER BY {orderby}\"\n",
    "\n",
    "        return query\n",
    "\n",
    "    def get_totvsdb_data(self, query: str) -> pd.DataFrame:\n",
    "        \"\"\"\n",
    "        Retrieves data from the TotvsDB database using the provided SQL query.\n",
    "\n",
    "        Args:\n",
    "            query (str): The SQL query to execute.\n",
    "\n",
    "        Returns:\n",
    "            pd.DataFrame: A pandas DataFrame containing the retrieved data.\n",
    "\n",
    "        Raises:\n",
    "            Exception: If an error occurs while retrieving the data.\n",
    "\n",
    "        \"\"\"\n",
    "        connection = None\n",
    "        try:\n",
    "            connection = self.get_connection_totvsdb()\n",
    "            data = pd.read_sql(query, connection)\n",
    "            return data\n",
    "        # pylint: disable=broad-except\n",
    "        except Exception as e:\n",
    "            print(f\"Erro ao buscar dados: {e}\")\n",
    "            return None\n",
    "        finally:\n",
    "            if connection:\n",
    "                connection.dispose()\n",
    "\n",
    "    def create_totvsdb_query(\n",
    "        self, select: str, table: str, join: str = None, where: str = None, orderby: str = None\n",
    "    ) -> str:\n",
    "        \"\"\"\n",
    "        Creates a SQL query string for querying the TOTVS database.\n",
    "\n",
    "        Args:\n",
    "            select (str): The SELECT clause of the query.\n",
    "            table (str): The table name to query.\n",
    "            join (str, optional): The JOIN clause of the query. Defaults to None.\n",
    "            where (str, optional): The WHERE clause of the query. Defaults to None.\n",
    "            orderby (str, optional): The ORDER BY clause of the query. Defaults to None.\n",
    "\n",
    "        Returns:\n",
    "            str: The SQL query string.\n",
    "        \"\"\"\n",
    "        query = f\"SELECT {select} FROM {table}\"\n",
    "\n",
    "        if join:\n",
    "            query += f\" {join}\"\n",
    "\n",
    "        if where:\n",
    "            query += f\" WHERE {where}\"\n",
    "\n",
    "        if orderby:\n",
    "            query += f\" ORDER BY {orderby}\"\n",
    "\n",
    "        return query"
   ]
  },
  {
   "cell_type": "markdown",
   "metadata": {},
   "source": [
    "## Query para o banco de dados\n"
   ]
  },
  {
   "cell_type": "code",
   "execution_count": 145,
   "metadata": {
    "notebookRunGroups": {
     "groupValue": "1"
    }
   },
   "outputs": [],
   "source": [
    "# // database/get_data.py\n",
    "# cSpell: disable=invalid-name\n",
    "class GetData:\n",
    "    \"\"\"\n",
    "    Essa classe é responsável por realizar a leitura dos dados do banco de dados.\n",
    "    É utilizada para fazer a leitura em segundo plano, sem que o usuário perceba.\n",
    "    \"\"\"\n",
    "\n",
    "    def __init__(self):\n",
    "        self.db_read = Read()\n",
    "\n",
    "    def get_data(self) -> tuple:\n",
    "        \"\"\"\n",
    "        Realiza a leitura dos dados do banco de dados.\n",
    "        Retorna na ordem: df_ihm, df_info, df_cadastro\n",
    "        \"\"\"\n",
    "\n",
    "        # Dia de hoje\n",
    "        now = pd.to_datetime(\"today\")\n",
    "\n",
    "        # Encontrando primeiro dia do mês atual\n",
    "        first_day = now.replace(day=1)\n",
    "\n",
    "        # Mantendo apenas a data\n",
    "        first_day = first_day.strftime(\"%Y-%m-%d\")\n",
    "\n",
    "        # Query para leitura dos dados de ocorrência\n",
    "        query_ihm = self.db_read.create_automacao_query(\n",
    "            table=\"maquina_ihm\",\n",
    "            where=f\"data_registro >= '{first_day}'\",\n",
    "        )\n",
    "\n",
    "        query_info = (\n",
    "            \"SELECT\"\n",
    "            \" t1.maquina_id,\"\n",
    "            \" (SELECT TOP 1 t2.linha FROM AUTOMACAO.dbo.maquina_cadastro t2\"\n",
    "            \" WHERE t2.maquina_id = t1.maquina_id AND t2.data_registro <= t1.data_registro\"\n",
    "            \" ORDER BY t2.data_registro DESC, t2.hora_registro DESC) as linha,\"\n",
    "            \" (SELECT TOP 1 t2.fabrica FROM AUTOMACAO.dbo.maquina_cadastro t2\"\n",
    "            \" WHERE t2.maquina_id = t1.maquina_id AND t2.data_registro <= t1.data_registro\"\n",
    "            \" ORDER BY t2.data_registro DESC, t2.hora_registro DESC) as fabrica,\"\n",
    "            \" t1.status,\"\n",
    "            \" t1.turno,\"\n",
    "            \" t1.contagem_total_ciclos,\"\n",
    "            \" t1.contagem_total_produzido,\"\n",
    "            \" t1.data_registro,\"\n",
    "            \" t1.hora_registro\"\n",
    "            \" FROM \"\n",
    "            \" AUTOMACAO.dbo.maquina_info t1\"\n",
    "            f\" WHERE data_registro >= '{first_day}'\"\n",
    "            \" ORDER BY t1.data_registro DESC, t1.hora_registro DESC\"\n",
    "        )\n",
    "\n",
    "        query_production = (\n",
    "            \"SELECT * \"\n",
    "            \"FROM ( \"\n",
    "            \"SELECT \"\n",
    "            \"(SELECT TOP 1 t2.fabrica FROM AUTOMACAO.dbo.maquina_cadastro t2 \"\n",
    "            \"WHERE t2.maquina_id = t1.maquina_id AND t2.data_registro <= t1.data_registro \"\n",
    "            \"ORDER BY t2.data_registro DESC, t2.hora_registro DESC) as fabrica, \"\n",
    "            \"(SELECT TOP 1 t2.linha FROM AUTOMACAO.dbo.maquina_cadastro t2 \"\n",
    "            \"WHERE t2.maquina_id = t1.maquina_id AND t2.data_registro <= t1.data_registro \"\n",
    "            \"ORDER BY t2.data_registro DESC, t2.hora_registro DESC) as linha, \"\n",
    "            \"t1.maquina_id, \"\n",
    "            \"t1.turno, \"\n",
    "            \"t1.status, \"\n",
    "            \"t1.contagem_total_ciclos as total_ciclos, \"\n",
    "            \"t1.contagem_total_produzido as total_produzido, \"\n",
    "            \"t1.data_registro, \"\n",
    "            \"t1.hora_registro, \"\n",
    "            \"ROW_NUMBER() OVER ( \"\n",
    "            \"PARTITION BY t1.data_registro, t1.turno, t1.maquina_id \"\n",
    "            \"ORDER BY t1.data_registro DESC, t1.hora_registro DESC\"\n",
    "            \") AS rn \"\n",
    "            \"FROM AUTOMACAO.dbo.maquina_info t1 \"\n",
    "            \") AS t \"\n",
    "            f\" WHERE rn = 1 AND data_registro >= '{first_day}' AND hora_registro > '00:01'\"\n",
    "            \" ORDER BY data_registro DESC, linha\"\n",
    "        )\n",
    "\n",
    "        # Leitura dos dados\n",
    "        df_ihm = self.db_read.get_automacao_data(query_ihm)\n",
    "        df_info = self.db_read.get_automacao_data(query_info)\n",
    "        df_info_production = self.db_read.get_automacao_data(query_production)\n",
    "\n",
    "        # Verificando se os dados foram lidos corretamente\n",
    "        if df_ihm.empty or df_info.empty or df_info_production.empty:\n",
    "            print(\"====== Erro na leitura dos dados ======\")\n",
    "            return None, None, None\n",
    "\n",
    "        return df_ihm, df_info, df_info_production\n",
    "\n",
    "\n",
    "get_data = GetData()\n",
    "df_ihm, df_info, df_info_production = get_data.get_data()"
   ]
  },
  {
   "cell_type": "markdown",
   "metadata": {},
   "source": [
    "## Testes de saída do banco de dados\n"
   ]
  },
  {
   "cell_type": "code",
   "execution_count": 146,
   "metadata": {
    "notebookRunGroups": {
     "groupValue": "1"
    }
   },
   "outputs": [
    {
     "data": {
      "text/html": [
       "<div>\n",
       "<style scoped>\n",
       "    .dataframe tbody tr th:only-of-type {\n",
       "        vertical-align: middle;\n",
       "    }\n",
       "\n",
       "    .dataframe tbody tr th {\n",
       "        vertical-align: top;\n",
       "    }\n",
       "\n",
       "    .dataframe thead th {\n",
       "        text-align: right;\n",
       "    }\n",
       "</style>\n",
       "<table border=\"1\" class=\"dataframe\">\n",
       "  <thead>\n",
       "    <tr style=\"text-align: right;\">\n",
       "      <th></th>\n",
       "      <th>recno</th>\n",
       "      <th>linha</th>\n",
       "      <th>maquina_id</th>\n",
       "      <th>motivo</th>\n",
       "      <th>equipamento</th>\n",
       "      <th>problema</th>\n",
       "      <th>causa</th>\n",
       "      <th>os_numero</th>\n",
       "      <th>operador_id</th>\n",
       "      <th>data_registro</th>\n",
       "      <th>hora_registro</th>\n",
       "    </tr>\n",
       "  </thead>\n",
       "  <tbody>\n",
       "    <tr>\n",
       "      <th>0</th>\n",
       "      <td>15</td>\n",
       "      <td>1</td>\n",
       "      <td>TMF003</td>\n",
       "      <td>Parada Programada</td>\n",
       "      <td></td>\n",
       "      <td>Parada Planejada</td>\n",
       "      <td>Sem Produção</td>\n",
       "      <td></td>\n",
       "      <td>002357</td>\n",
       "      <td>2024-05-01</td>\n",
       "      <td>11:28:20.666666</td>\n",
       "    </tr>\n",
       "    <tr>\n",
       "      <th>1</th>\n",
       "      <td>16</td>\n",
       "      <td>1</td>\n",
       "      <td>TMF003</td>\n",
       "      <td>Parada Programada</td>\n",
       "      <td></td>\n",
       "      <td>Parada Planejada</td>\n",
       "      <td>Backup</td>\n",
       "      <td></td>\n",
       "      <td>002357</td>\n",
       "      <td>2024-05-01</td>\n",
       "      <td>06:47:36.466666</td>\n",
       "    </tr>\n",
       "    <tr>\n",
       "      <th>2</th>\n",
       "      <td>18</td>\n",
       "      <td>1</td>\n",
       "      <td>TMF003</td>\n",
       "      <td>Parada Programada</td>\n",
       "      <td></td>\n",
       "      <td>Parada Planejada</td>\n",
       "      <td>Refeição</td>\n",
       "      <td></td>\n",
       "      <td>002357</td>\n",
       "      <td>2024-05-03</td>\n",
       "      <td>08:29:24.796666</td>\n",
       "    </tr>\n",
       "    <tr>\n",
       "      <th>3</th>\n",
       "      <td>20</td>\n",
       "      <td>2</td>\n",
       "      <td>TMF011</td>\n",
       "      <td>Parada Programada</td>\n",
       "      <td></td>\n",
       "      <td>Parada Planejada</td>\n",
       "      <td>Sem Produção</td>\n",
       "      <td></td>\n",
       "      <td>002357</td>\n",
       "      <td>2024-05-03</td>\n",
       "      <td>09:08:52.143333</td>\n",
       "    </tr>\n",
       "    <tr>\n",
       "      <th>4</th>\n",
       "      <td>22</td>\n",
       "      <td>1</td>\n",
       "      <td>TMF003</td>\n",
       "      <td>Manutenção</td>\n",
       "      <td>Termoformadora</td>\n",
       "      <td>Bandeja Murcha ou Cheia</td>\n",
       "      <td>Realizar análise de falha</td>\n",
       "      <td>015360</td>\n",
       "      <td>002357</td>\n",
       "      <td>2024-05-03</td>\n",
       "      <td>08:55:55.110000</td>\n",
       "    </tr>\n",
       "    <tr>\n",
       "      <th>5</th>\n",
       "      <td>23</td>\n",
       "      <td>2</td>\n",
       "      <td>TMF011</td>\n",
       "      <td>Manutenção</td>\n",
       "      <td>Termoformadora</td>\n",
       "      <td>Bandeja deformada ou manchada</td>\n",
       "      <td>Realizar análise de falha</td>\n",
       "      <td>015360</td>\n",
       "      <td>002357</td>\n",
       "      <td>2024-05-03</td>\n",
       "      <td>07:56:50.340000</td>\n",
       "    </tr>\n",
       "    <tr>\n",
       "      <th>6</th>\n",
       "      <td>24</td>\n",
       "      <td>2</td>\n",
       "      <td>TMF011</td>\n",
       "      <td>Fluxo</td>\n",
       "      <td>Termoformadora</td>\n",
       "      <td>Esteira Cheia</td>\n",
       "      <td>Robô parado</td>\n",
       "      <td></td>\n",
       "      <td>002357</td>\n",
       "      <td>2024-05-03</td>\n",
       "      <td>08:57:06.950000</td>\n",
       "    </tr>\n",
       "    <tr>\n",
       "      <th>7</th>\n",
       "      <td>25</td>\n",
       "      <td>1</td>\n",
       "      <td>TMF003</td>\n",
       "      <td>Limpeza</td>\n",
       "      <td></td>\n",
       "      <td>Limpeza para parada de Fábrica</td>\n",
       "      <td></td>\n",
       "      <td></td>\n",
       "      <td>002357</td>\n",
       "      <td>2024-05-03</td>\n",
       "      <td>08:37:53.763333</td>\n",
       "    </tr>\n",
       "    <tr>\n",
       "      <th>8</th>\n",
       "      <td>26</td>\n",
       "      <td>1</td>\n",
       "      <td>TMF003</td>\n",
       "      <td>Parada Programada</td>\n",
       "      <td></td>\n",
       "      <td>Parada Planejada</td>\n",
       "      <td>Backup</td>\n",
       "      <td></td>\n",
       "      <td>002357</td>\n",
       "      <td>2024-05-03</td>\n",
       "      <td>08:58:06.920000</td>\n",
       "    </tr>\n",
       "  </tbody>\n",
       "</table>\n",
       "</div>"
      ],
      "text/plain": [
       "   recno  linha maquina_id             motivo     equipamento  \\\n",
       "0     15      1     TMF003  Parada Programada                   \n",
       "1     16      1     TMF003  Parada Programada                   \n",
       "2     18      1     TMF003  Parada Programada                   \n",
       "3     20      2     TMF011  Parada Programada                   \n",
       "4     22      1     TMF003         Manutenção  Termoformadora   \n",
       "5     23      2     TMF011         Manutenção  Termoformadora   \n",
       "6     24      2     TMF011              Fluxo  Termoformadora   \n",
       "7     25      1     TMF003            Limpeza                   \n",
       "8     26      1     TMF003  Parada Programada                   \n",
       "\n",
       "                         problema                      causa os_numero  \\\n",
       "0                Parada Planejada               Sem Produção             \n",
       "1                Parada Planejada                     Backup             \n",
       "2                Parada Planejada                   Refeição             \n",
       "3                Parada Planejada               Sem Produção             \n",
       "4         Bandeja Murcha ou Cheia  Realizar análise de falha    015360   \n",
       "5   Bandeja deformada ou manchada  Realizar análise de falha    015360   \n",
       "6                   Esteira Cheia                Robô parado             \n",
       "7  Limpeza para parada de Fábrica                                        \n",
       "8                Parada Planejada                     Backup             \n",
       "\n",
       "  operador_id data_registro    hora_registro  \n",
       "0      002357    2024-05-01  11:28:20.666666  \n",
       "1      002357    2024-05-01  06:47:36.466666  \n",
       "2      002357    2024-05-03  08:29:24.796666  \n",
       "3    002357      2024-05-03  09:08:52.143333  \n",
       "4      002357    2024-05-03  08:55:55.110000  \n",
       "5      002357    2024-05-03  07:56:50.340000  \n",
       "6      002357    2024-05-03  08:57:06.950000  \n",
       "7      002357    2024-05-03  08:37:53.763333  \n",
       "8      002357    2024-05-03  08:58:06.920000  "
      ]
     },
     "execution_count": 146,
     "metadata": {},
     "output_type": "execute_result"
    }
   ],
   "source": [
    "df_ihm.head(20)"
   ]
  },
  {
   "cell_type": "code",
   "execution_count": 147,
   "metadata": {
    "notebookRunGroups": {
     "groupValue": "1"
    }
   },
   "outputs": [
    {
     "data": {
      "text/html": [
       "<div>\n",
       "<style scoped>\n",
       "    .dataframe tbody tr th:only-of-type {\n",
       "        vertical-align: middle;\n",
       "    }\n",
       "\n",
       "    .dataframe tbody tr th {\n",
       "        vertical-align: top;\n",
       "    }\n",
       "\n",
       "    .dataframe thead th {\n",
       "        text-align: right;\n",
       "    }\n",
       "</style>\n",
       "<table border=\"1\" class=\"dataframe\">\n",
       "  <thead>\n",
       "    <tr style=\"text-align: right;\">\n",
       "      <th></th>\n",
       "      <th>maquina_id</th>\n",
       "      <th>linha</th>\n",
       "      <th>fabrica</th>\n",
       "      <th>status</th>\n",
       "      <th>turno</th>\n",
       "      <th>contagem_total_ciclos</th>\n",
       "      <th>contagem_total_produzido</th>\n",
       "      <th>data_registro</th>\n",
       "      <th>hora_registro</th>\n",
       "    </tr>\n",
       "  </thead>\n",
       "  <tbody>\n",
       "    <tr>\n",
       "      <th>0</th>\n",
       "      <td>TMF004</td>\n",
       "      <td>9</td>\n",
       "      <td>1</td>\n",
       "      <td>true</td>\n",
       "      <td>MAT</td>\n",
       "      <td>6494.0</td>\n",
       "      <td>908.0</td>\n",
       "      <td>2024-05-06</td>\n",
       "      <td>15:44:37.260000</td>\n",
       "    </tr>\n",
       "    <tr>\n",
       "      <th>1</th>\n",
       "      <td>TMF014</td>\n",
       "      <td>8</td>\n",
       "      <td>1</td>\n",
       "      <td>false</td>\n",
       "      <td>MAT</td>\n",
       "      <td>0.0</td>\n",
       "      <td>0.0</td>\n",
       "      <td>2024-05-06</td>\n",
       "      <td>15:44:36.260000</td>\n",
       "    </tr>\n",
       "    <tr>\n",
       "      <th>2</th>\n",
       "      <td>TMF006</td>\n",
       "      <td>7</td>\n",
       "      <td>1</td>\n",
       "      <td>false</td>\n",
       "      <td>MAT</td>\n",
       "      <td>4146.0</td>\n",
       "      <td>4130.0</td>\n",
       "      <td>2024-05-06</td>\n",
       "      <td>15:44:35.260000</td>\n",
       "    </tr>\n",
       "    <tr>\n",
       "      <th>3</th>\n",
       "      <td>TMF001</td>\n",
       "      <td>6</td>\n",
       "      <td>1</td>\n",
       "      <td>true</td>\n",
       "      <td>MAT</td>\n",
       "      <td>7952.0</td>\n",
       "      <td>7630.0</td>\n",
       "      <td>2024-05-06</td>\n",
       "      <td>15:44:34.256666</td>\n",
       "    </tr>\n",
       "    <tr>\n",
       "      <th>4</th>\n",
       "      <td>TMF002</td>\n",
       "      <td>5</td>\n",
       "      <td>1</td>\n",
       "      <td>true</td>\n",
       "      <td>MAT</td>\n",
       "      <td>8608.0</td>\n",
       "      <td>8018.0</td>\n",
       "      <td>2024-05-06</td>\n",
       "      <td>15:44:33.253333</td>\n",
       "    </tr>\n",
       "    <tr>\n",
       "      <th>5</th>\n",
       "      <td>TMF012</td>\n",
       "      <td>4</td>\n",
       "      <td>1</td>\n",
       "      <td>true</td>\n",
       "      <td>MAT</td>\n",
       "      <td>5046.0</td>\n",
       "      <td>4952.0</td>\n",
       "      <td>2024-05-06</td>\n",
       "      <td>15:44:32.256666</td>\n",
       "    </tr>\n",
       "    <tr>\n",
       "      <th>6</th>\n",
       "      <td>TMF005</td>\n",
       "      <td>3</td>\n",
       "      <td>1</td>\n",
       "      <td>false</td>\n",
       "      <td>MAT</td>\n",
       "      <td>120.0</td>\n",
       "      <td>62.0</td>\n",
       "      <td>2024-05-06</td>\n",
       "      <td>15:44:31.253333</td>\n",
       "    </tr>\n",
       "    <tr>\n",
       "      <th>7</th>\n",
       "      <td>TMF011</td>\n",
       "      <td>2</td>\n",
       "      <td>1</td>\n",
       "      <td>true</td>\n",
       "      <td>MAT</td>\n",
       "      <td>5268.0</td>\n",
       "      <td>5108.0</td>\n",
       "      <td>2024-05-06</td>\n",
       "      <td>15:44:30.250000</td>\n",
       "    </tr>\n",
       "    <tr>\n",
       "      <th>8</th>\n",
       "      <td>TMF003</td>\n",
       "      <td>1</td>\n",
       "      <td>1</td>\n",
       "      <td>true</td>\n",
       "      <td>MAT</td>\n",
       "      <td>5588.0</td>\n",
       "      <td>5586.0</td>\n",
       "      <td>2024-05-06</td>\n",
       "      <td>15:44:29.253333</td>\n",
       "    </tr>\n",
       "    <tr>\n",
       "      <th>9</th>\n",
       "      <td>TMF004</td>\n",
       "      <td>9</td>\n",
       "      <td>1</td>\n",
       "      <td>true</td>\n",
       "      <td>MAT</td>\n",
       "      <td>6454.0</td>\n",
       "      <td>872.0</td>\n",
       "      <td>2024-05-06</td>\n",
       "      <td>15:42:37.253333</td>\n",
       "    </tr>\n",
       "    <tr>\n",
       "      <th>10</th>\n",
       "      <td>TMF014</td>\n",
       "      <td>8</td>\n",
       "      <td>1</td>\n",
       "      <td>false</td>\n",
       "      <td>MAT</td>\n",
       "      <td>0.0</td>\n",
       "      <td>0.0</td>\n",
       "      <td>2024-05-06</td>\n",
       "      <td>15:42:36.253333</td>\n",
       "    </tr>\n",
       "    <tr>\n",
       "      <th>11</th>\n",
       "      <td>TMF006</td>\n",
       "      <td>7</td>\n",
       "      <td>1</td>\n",
       "      <td>false</td>\n",
       "      <td>MAT</td>\n",
       "      <td>4146.0</td>\n",
       "      <td>4130.0</td>\n",
       "      <td>2024-05-06</td>\n",
       "      <td>15:42:35.250000</td>\n",
       "    </tr>\n",
       "    <tr>\n",
       "      <th>12</th>\n",
       "      <td>TMF001</td>\n",
       "      <td>6</td>\n",
       "      <td>1</td>\n",
       "      <td>true</td>\n",
       "      <td>MAT</td>\n",
       "      <td>7908.0</td>\n",
       "      <td>7588.0</td>\n",
       "      <td>2024-05-06</td>\n",
       "      <td>15:42:34.250000</td>\n",
       "    </tr>\n",
       "    <tr>\n",
       "      <th>13</th>\n",
       "      <td>TMF002</td>\n",
       "      <td>5</td>\n",
       "      <td>1</td>\n",
       "      <td>true</td>\n",
       "      <td>MAT</td>\n",
       "      <td>8568.0</td>\n",
       "      <td>7978.0</td>\n",
       "      <td>2024-05-06</td>\n",
       "      <td>15:42:33.253333</td>\n",
       "    </tr>\n",
       "    <tr>\n",
       "      <th>14</th>\n",
       "      <td>TMF012</td>\n",
       "      <td>4</td>\n",
       "      <td>1</td>\n",
       "      <td>true</td>\n",
       "      <td>MAT</td>\n",
       "      <td>5006.0</td>\n",
       "      <td>4912.0</td>\n",
       "      <td>2024-05-06</td>\n",
       "      <td>15:42:32.246666</td>\n",
       "    </tr>\n",
       "    <tr>\n",
       "      <th>15</th>\n",
       "      <td>TMF005</td>\n",
       "      <td>3</td>\n",
       "      <td>1</td>\n",
       "      <td>true</td>\n",
       "      <td>MAT</td>\n",
       "      <td>118.0</td>\n",
       "      <td>62.0</td>\n",
       "      <td>2024-05-06</td>\n",
       "      <td>15:42:31.250000</td>\n",
       "    </tr>\n",
       "    <tr>\n",
       "      <th>16</th>\n",
       "      <td>TMF011</td>\n",
       "      <td>2</td>\n",
       "      <td>1</td>\n",
       "      <td>true</td>\n",
       "      <td>MAT</td>\n",
       "      <td>5248.0</td>\n",
       "      <td>5088.0</td>\n",
       "      <td>2024-05-06</td>\n",
       "      <td>15:42:30.246666</td>\n",
       "    </tr>\n",
       "    <tr>\n",
       "      <th>17</th>\n",
       "      <td>TMF003</td>\n",
       "      <td>1</td>\n",
       "      <td>1</td>\n",
       "      <td>false</td>\n",
       "      <td>MAT</td>\n",
       "      <td>5570.0</td>\n",
       "      <td>5568.0</td>\n",
       "      <td>2024-05-06</td>\n",
       "      <td>15:42:29.246666</td>\n",
       "    </tr>\n",
       "    <tr>\n",
       "      <th>18</th>\n",
       "      <td>TMF009</td>\n",
       "      <td>14</td>\n",
       "      <td>2</td>\n",
       "      <td>false</td>\n",
       "      <td>MAT</td>\n",
       "      <td>0.0</td>\n",
       "      <td>0.0</td>\n",
       "      <td>2024-05-06</td>\n",
       "      <td>15:41:31.363333</td>\n",
       "    </tr>\n",
       "    <tr>\n",
       "      <th>19</th>\n",
       "      <td>TMF007</td>\n",
       "      <td>12</td>\n",
       "      <td>2</td>\n",
       "      <td>true</td>\n",
       "      <td>MAT</td>\n",
       "      <td>6360.0</td>\n",
       "      <td>6146.0</td>\n",
       "      <td>2024-05-06</td>\n",
       "      <td>15:41:30.360000</td>\n",
       "    </tr>\n",
       "  </tbody>\n",
       "</table>\n",
       "</div>"
      ],
      "text/plain": [
       "   maquina_id  linha fabrica status turno  contagem_total_ciclos  \\\n",
       "0      TMF004      9       1   true   MAT                 6494.0   \n",
       "1      TMF014      8       1  false   MAT                    0.0   \n",
       "2      TMF006      7       1  false   MAT                 4146.0   \n",
       "3      TMF001      6       1   true   MAT                 7952.0   \n",
       "4      TMF002      5       1   true   MAT                 8608.0   \n",
       "5      TMF012      4       1   true   MAT                 5046.0   \n",
       "6      TMF005      3       1  false   MAT                  120.0   \n",
       "7      TMF011      2       1   true   MAT                 5268.0   \n",
       "8      TMF003      1       1   true   MAT                 5588.0   \n",
       "9      TMF004      9       1   true   MAT                 6454.0   \n",
       "10     TMF014      8       1  false   MAT                    0.0   \n",
       "11     TMF006      7       1  false   MAT                 4146.0   \n",
       "12     TMF001      6       1   true   MAT                 7908.0   \n",
       "13     TMF002      5       1   true   MAT                 8568.0   \n",
       "14     TMF012      4       1   true   MAT                 5006.0   \n",
       "15     TMF005      3       1   true   MAT                  118.0   \n",
       "16     TMF011      2       1   true   MAT                 5248.0   \n",
       "17     TMF003      1       1  false   MAT                 5570.0   \n",
       "18     TMF009     14       2  false   MAT                    0.0   \n",
       "19     TMF007     12       2   true   MAT                 6360.0   \n",
       "\n",
       "    contagem_total_produzido data_registro    hora_registro  \n",
       "0                      908.0    2024-05-06  15:44:37.260000  \n",
       "1                        0.0    2024-05-06  15:44:36.260000  \n",
       "2                     4130.0    2024-05-06  15:44:35.260000  \n",
       "3                     7630.0    2024-05-06  15:44:34.256666  \n",
       "4                     8018.0    2024-05-06  15:44:33.253333  \n",
       "5                     4952.0    2024-05-06  15:44:32.256666  \n",
       "6                       62.0    2024-05-06  15:44:31.253333  \n",
       "7                     5108.0    2024-05-06  15:44:30.250000  \n",
       "8                     5586.0    2024-05-06  15:44:29.253333  \n",
       "9                      872.0    2024-05-06  15:42:37.253333  \n",
       "10                       0.0    2024-05-06  15:42:36.253333  \n",
       "11                    4130.0    2024-05-06  15:42:35.250000  \n",
       "12                    7588.0    2024-05-06  15:42:34.250000  \n",
       "13                    7978.0    2024-05-06  15:42:33.253333  \n",
       "14                    4912.0    2024-05-06  15:42:32.246666  \n",
       "15                      62.0    2024-05-06  15:42:31.250000  \n",
       "16                    5088.0    2024-05-06  15:42:30.246666  \n",
       "17                    5568.0    2024-05-06  15:42:29.246666  \n",
       "18                       0.0    2024-05-06  15:41:31.363333  \n",
       "19                    6146.0    2024-05-06  15:41:30.360000  "
      ]
     },
     "execution_count": 147,
     "metadata": {},
     "output_type": "execute_result"
    }
   ],
   "source": [
    "df_info.head(20)"
   ]
  },
  {
   "cell_type": "code",
   "execution_count": 148,
   "metadata": {
    "notebookRunGroups": {
     "groupValue": "1"
    }
   },
   "outputs": [
    {
     "data": {
      "text/html": [
       "<div>\n",
       "<style scoped>\n",
       "    .dataframe tbody tr th:only-of-type {\n",
       "        vertical-align: middle;\n",
       "    }\n",
       "\n",
       "    .dataframe tbody tr th {\n",
       "        vertical-align: top;\n",
       "    }\n",
       "\n",
       "    .dataframe thead th {\n",
       "        text-align: right;\n",
       "    }\n",
       "</style>\n",
       "<table border=\"1\" class=\"dataframe\">\n",
       "  <thead>\n",
       "    <tr style=\"text-align: right;\">\n",
       "      <th></th>\n",
       "      <th>fabrica</th>\n",
       "      <th>linha</th>\n",
       "      <th>maquina_id</th>\n",
       "      <th>turno</th>\n",
       "      <th>status</th>\n",
       "      <th>total_ciclos</th>\n",
       "      <th>total_produzido</th>\n",
       "      <th>data_registro</th>\n",
       "      <th>hora_registro</th>\n",
       "      <th>rn</th>\n",
       "    </tr>\n",
       "  </thead>\n",
       "  <tbody>\n",
       "    <tr>\n",
       "      <th>0</th>\n",
       "      <td></td>\n",
       "      <td>0</td>\n",
       "      <td>TMF015</td>\n",
       "      <td>MAT</td>\n",
       "      <td>false</td>\n",
       "      <td>0.0</td>\n",
       "      <td>0.0</td>\n",
       "      <td>2024-05-06</td>\n",
       "      <td>10:14:30.296666</td>\n",
       "      <td>1</td>\n",
       "    </tr>\n",
       "    <tr>\n",
       "      <th>1</th>\n",
       "      <td></td>\n",
       "      <td>0</td>\n",
       "      <td>TMF015</td>\n",
       "      <td>NOT</td>\n",
       "      <td>false</td>\n",
       "      <td>18.0</td>\n",
       "      <td>8.0</td>\n",
       "      <td>2024-05-06</td>\n",
       "      <td>07:59:31.250000</td>\n",
       "      <td>1</td>\n",
       "    </tr>\n",
       "    <tr>\n",
       "      <th>2</th>\n",
       "      <td>1</td>\n",
       "      <td>1</td>\n",
       "      <td>TMF003</td>\n",
       "      <td>MAT</td>\n",
       "      <td>true</td>\n",
       "      <td>5588.0</td>\n",
       "      <td>5586.0</td>\n",
       "      <td>2024-05-06</td>\n",
       "      <td>15:44:29.253333</td>\n",
       "      <td>1</td>\n",
       "    </tr>\n",
       "    <tr>\n",
       "      <th>3</th>\n",
       "      <td>1</td>\n",
       "      <td>1</td>\n",
       "      <td>TMF003</td>\n",
       "      <td>NOT</td>\n",
       "      <td>false</td>\n",
       "      <td>8206.0</td>\n",
       "      <td>8124.0</td>\n",
       "      <td>2024-05-06</td>\n",
       "      <td>07:59:29.246666</td>\n",
       "      <td>1</td>\n",
       "    </tr>\n",
       "    <tr>\n",
       "      <th>4</th>\n",
       "      <td>1</td>\n",
       "      <td>2</td>\n",
       "      <td>TMF011</td>\n",
       "      <td>MAT</td>\n",
       "      <td>true</td>\n",
       "      <td>5268.0</td>\n",
       "      <td>5108.0</td>\n",
       "      <td>2024-05-06</td>\n",
       "      <td>15:44:30.250000</td>\n",
       "      <td>1</td>\n",
       "    </tr>\n",
       "    <tr>\n",
       "      <th>5</th>\n",
       "      <td>1</td>\n",
       "      <td>2</td>\n",
       "      <td>TMF011</td>\n",
       "      <td>NOT</td>\n",
       "      <td>true</td>\n",
       "      <td>7946.0</td>\n",
       "      <td>7706.0</td>\n",
       "      <td>2024-05-06</td>\n",
       "      <td>07:59:30.250000</td>\n",
       "      <td>1</td>\n",
       "    </tr>\n",
       "    <tr>\n",
       "      <th>6</th>\n",
       "      <td>1</td>\n",
       "      <td>3</td>\n",
       "      <td>TMF005</td>\n",
       "      <td>MAT</td>\n",
       "      <td>false</td>\n",
       "      <td>120.0</td>\n",
       "      <td>62.0</td>\n",
       "      <td>2024-05-06</td>\n",
       "      <td>15:44:31.253333</td>\n",
       "      <td>1</td>\n",
       "    </tr>\n",
       "    <tr>\n",
       "      <th>7</th>\n",
       "      <td>1</td>\n",
       "      <td>4</td>\n",
       "      <td>TMF012</td>\n",
       "      <td>MAT</td>\n",
       "      <td>true</td>\n",
       "      <td>5046.0</td>\n",
       "      <td>4952.0</td>\n",
       "      <td>2024-05-06</td>\n",
       "      <td>15:44:32.256666</td>\n",
       "      <td>1</td>\n",
       "    </tr>\n",
       "    <tr>\n",
       "      <th>8</th>\n",
       "      <td>1</td>\n",
       "      <td>4</td>\n",
       "      <td>TMF012</td>\n",
       "      <td>NOT</td>\n",
       "      <td>false</td>\n",
       "      <td>5096.0</td>\n",
       "      <td>5038.0</td>\n",
       "      <td>2024-05-06</td>\n",
       "      <td>07:59:32.250000</td>\n",
       "      <td>1</td>\n",
       "    </tr>\n",
       "    <tr>\n",
       "      <th>9</th>\n",
       "      <td>1</td>\n",
       "      <td>5</td>\n",
       "      <td>TMF002</td>\n",
       "      <td>MAT</td>\n",
       "      <td>true</td>\n",
       "      <td>8608.0</td>\n",
       "      <td>8018.0</td>\n",
       "      <td>2024-05-06</td>\n",
       "      <td>15:44:33.253333</td>\n",
       "      <td>1</td>\n",
       "    </tr>\n",
       "    <tr>\n",
       "      <th>10</th>\n",
       "      <td>1</td>\n",
       "      <td>5</td>\n",
       "      <td>TMF002</td>\n",
       "      <td>NOT</td>\n",
       "      <td>true</td>\n",
       "      <td>9622.0</td>\n",
       "      <td>8838.0</td>\n",
       "      <td>2024-05-06</td>\n",
       "      <td>07:59:33.250000</td>\n",
       "      <td>1</td>\n",
       "    </tr>\n",
       "    <tr>\n",
       "      <th>11</th>\n",
       "      <td>1</td>\n",
       "      <td>6</td>\n",
       "      <td>TMF001</td>\n",
       "      <td>MAT</td>\n",
       "      <td>true</td>\n",
       "      <td>7952.0</td>\n",
       "      <td>7630.0</td>\n",
       "      <td>2024-05-06</td>\n",
       "      <td>15:44:34.256666</td>\n",
       "      <td>1</td>\n",
       "    </tr>\n",
       "    <tr>\n",
       "      <th>12</th>\n",
       "      <td>1</td>\n",
       "      <td>6</td>\n",
       "      <td>TMF001</td>\n",
       "      <td>NOT</td>\n",
       "      <td>true</td>\n",
       "      <td>5748.0</td>\n",
       "      <td>5428.0</td>\n",
       "      <td>2024-05-06</td>\n",
       "      <td>07:59:34.250000</td>\n",
       "      <td>1</td>\n",
       "    </tr>\n",
       "    <tr>\n",
       "      <th>13</th>\n",
       "      <td>1</td>\n",
       "      <td>7</td>\n",
       "      <td>TMF006</td>\n",
       "      <td>MAT</td>\n",
       "      <td>false</td>\n",
       "      <td>4146.0</td>\n",
       "      <td>4130.0</td>\n",
       "      <td>2024-05-06</td>\n",
       "      <td>15:44:35.260000</td>\n",
       "      <td>1</td>\n",
       "    </tr>\n",
       "    <tr>\n",
       "      <th>14</th>\n",
       "      <td>1</td>\n",
       "      <td>7</td>\n",
       "      <td>TMF006</td>\n",
       "      <td>NOT</td>\n",
       "      <td>true</td>\n",
       "      <td>5244.0</td>\n",
       "      <td>5226.0</td>\n",
       "      <td>2024-05-06</td>\n",
       "      <td>07:59:35.250000</td>\n",
       "      <td>1</td>\n",
       "    </tr>\n",
       "    <tr>\n",
       "      <th>15</th>\n",
       "      <td>1</td>\n",
       "      <td>8</td>\n",
       "      <td>TMF014</td>\n",
       "      <td>MAT</td>\n",
       "      <td>false</td>\n",
       "      <td>0.0</td>\n",
       "      <td>0.0</td>\n",
       "      <td>2024-05-06</td>\n",
       "      <td>15:44:36.260000</td>\n",
       "      <td>1</td>\n",
       "    </tr>\n",
       "    <tr>\n",
       "      <th>16</th>\n",
       "      <td>1</td>\n",
       "      <td>8</td>\n",
       "      <td>TMF014</td>\n",
       "      <td>NOT</td>\n",
       "      <td>false</td>\n",
       "      <td>112.0</td>\n",
       "      <td>3212.0</td>\n",
       "      <td>2024-05-06</td>\n",
       "      <td>07:59:36.256666</td>\n",
       "      <td>1</td>\n",
       "    </tr>\n",
       "    <tr>\n",
       "      <th>17</th>\n",
       "      <td>1</td>\n",
       "      <td>9</td>\n",
       "      <td>TMF004</td>\n",
       "      <td>MAT</td>\n",
       "      <td>true</td>\n",
       "      <td>6494.0</td>\n",
       "      <td>908.0</td>\n",
       "      <td>2024-05-06</td>\n",
       "      <td>15:44:37.260000</td>\n",
       "      <td>1</td>\n",
       "    </tr>\n",
       "    <tr>\n",
       "      <th>18</th>\n",
       "      <td>1</td>\n",
       "      <td>9</td>\n",
       "      <td>TMF004</td>\n",
       "      <td>NOT</td>\n",
       "      <td>true</td>\n",
       "      <td>6634.0</td>\n",
       "      <td>6476.0</td>\n",
       "      <td>2024-05-06</td>\n",
       "      <td>07:59:37.253333</td>\n",
       "      <td>1</td>\n",
       "    </tr>\n",
       "    <tr>\n",
       "      <th>19</th>\n",
       "      <td>2</td>\n",
       "      <td>10</td>\n",
       "      <td>TMF008</td>\n",
       "      <td>MAT</td>\n",
       "      <td>false</td>\n",
       "      <td>5540.0</td>\n",
       "      <td>5500.0</td>\n",
       "      <td>2024-05-06</td>\n",
       "      <td>15:41:27.360000</td>\n",
       "      <td>1</td>\n",
       "    </tr>\n",
       "  </tbody>\n",
       "</table>\n",
       "</div>"
      ],
      "text/plain": [
       "   fabrica  linha maquina_id turno status  total_ciclos  total_produzido  \\\n",
       "0               0     TMF015   MAT  false           0.0              0.0   \n",
       "1               0     TMF015   NOT  false          18.0              8.0   \n",
       "2        1      1     TMF003   MAT   true        5588.0           5586.0   \n",
       "3        1      1     TMF003   NOT  false        8206.0           8124.0   \n",
       "4        1      2     TMF011   MAT   true        5268.0           5108.0   \n",
       "5        1      2     TMF011   NOT   true        7946.0           7706.0   \n",
       "6        1      3     TMF005   MAT  false         120.0             62.0   \n",
       "7        1      4     TMF012   MAT   true        5046.0           4952.0   \n",
       "8        1      4     TMF012   NOT  false        5096.0           5038.0   \n",
       "9        1      5     TMF002   MAT   true        8608.0           8018.0   \n",
       "10       1      5     TMF002   NOT   true        9622.0           8838.0   \n",
       "11       1      6     TMF001   MAT   true        7952.0           7630.0   \n",
       "12       1      6     TMF001   NOT   true        5748.0           5428.0   \n",
       "13       1      7     TMF006   MAT  false        4146.0           4130.0   \n",
       "14       1      7     TMF006   NOT   true        5244.0           5226.0   \n",
       "15       1      8     TMF014   MAT  false           0.0              0.0   \n",
       "16       1      8     TMF014   NOT  false         112.0           3212.0   \n",
       "17       1      9     TMF004   MAT   true        6494.0            908.0   \n",
       "18       1      9     TMF004   NOT   true        6634.0           6476.0   \n",
       "19       2     10     TMF008   MAT  false        5540.0           5500.0   \n",
       "\n",
       "   data_registro    hora_registro  rn  \n",
       "0     2024-05-06  10:14:30.296666   1  \n",
       "1     2024-05-06  07:59:31.250000   1  \n",
       "2     2024-05-06  15:44:29.253333   1  \n",
       "3     2024-05-06  07:59:29.246666   1  \n",
       "4     2024-05-06  15:44:30.250000   1  \n",
       "5     2024-05-06  07:59:30.250000   1  \n",
       "6     2024-05-06  15:44:31.253333   1  \n",
       "7     2024-05-06  15:44:32.256666   1  \n",
       "8     2024-05-06  07:59:32.250000   1  \n",
       "9     2024-05-06  15:44:33.253333   1  \n",
       "10    2024-05-06  07:59:33.250000   1  \n",
       "11    2024-05-06  15:44:34.256666   1  \n",
       "12    2024-05-06  07:59:34.250000   1  \n",
       "13    2024-05-06  15:44:35.260000   1  \n",
       "14    2024-05-06  07:59:35.250000   1  \n",
       "15    2024-05-06  15:44:36.260000   1  \n",
       "16    2024-05-06  07:59:36.256666   1  \n",
       "17    2024-05-06  15:44:37.260000   1  \n",
       "18    2024-05-06  07:59:37.253333   1  \n",
       "19    2024-05-06  15:41:27.360000   1  "
      ]
     },
     "execution_count": 148,
     "metadata": {},
     "output_type": "execute_result"
    }
   ],
   "source": [
    "df_info_production.head(20)"
   ]
  },
  {
   "cell_type": "markdown",
   "metadata": {},
   "source": [
    "# Limpeza de dados e análise exploratória\n"
   ]
  },
  {
   "cell_type": "markdown",
   "metadata": {},
   "source": [
    "## Análise de dados - Clean Data\n"
   ]
  },
  {
   "cell_type": "code",
   "execution_count": 149,
   "metadata": {
    "notebookRunGroups": {
     "groupValue": "2"
    }
   },
   "outputs": [],
   "source": [
    "# service/clean_data.py\n",
    "\n",
    "\n",
    "# cSpell: disable=invalid-name\n",
    "class CleanData:\n",
    "    \"\"\"\n",
    "    Essa classe é responsável por limpar os dados lidos do banco de dados.\n",
    "    \"\"\"\n",
    "\n",
    "    def __init__(self, df_ihm, df_info, df_info_production):\n",
    "        self.df_ihm = df_ihm\n",
    "        self.df_info = df_info\n",
    "        self.df_info_production = df_info_production\n",
    "\n",
    "    def __clean_basics(self, df: pd.DataFrame) -> pd.DataFrame:\n",
    "        \"\"\"\n",
    "        Limpa os dados básicos de um DataFrame.\n",
    "        \"\"\"\n",
    "\n",
    "        # Remove valores duplicados\n",
    "        df = df.drop_duplicates()\n",
    "\n",
    "        # Remove linhas com valores nulos\n",
    "        df = df.dropna(subset=[\"maquina_id\", \"data_registro\", \"hora_registro\"])\n",
    "\n",
    "        # Converte a coluna 'hora_registro' para string e remove os milissegundos\n",
    "        df[\"hora_registro\"] = df[\"hora_registro\"].astype(str).str.split(\".\").str[0]\n",
    "\n",
    "        # Converte as colunas 'data_registro' e 'hora_registro' para datetime\n",
    "        df[\"data_registro\"] = pd.to_datetime(df[\"data_registro\"])\n",
    "        df[\"hora_registro\"] = pd.to_datetime(df[\"hora_registro\"], format=\"%H:%M:%S\").dt.time\n",
    "\n",
    "        # Substitui os valores NaN por 0 antes de converter para int\n",
    "        df[\"linha\"] = df[\"linha\"].fillna(0).astype(int)\n",
    "\n",
    "        # Coluna linha para int\n",
    "        df[\"linha\"] = df[\"linha\"].astype(int)\n",
    "\n",
    "        # Remover onde a 'linha' é 0\n",
    "        df = df[df[\"linha\"] != 0]\n",
    "\n",
    "        return df\n",
    "\n",
    "    def __clean_info(self, df: pd.DataFrame) -> pd.DataFrame:\n",
    "        \"\"\"\n",
    "        Limpa os dados de informações.\n",
    "        Fica desatualizado após implementação das IHMs.\n",
    "        Manter apenas para código legado.\n",
    "        \"\"\"\n",
    "\n",
    "        # Reordenar o dataframe\n",
    "        df = df.sort_values(by=[\"maquina_id\", \"data_registro\", \"hora_registro\"])\n",
    "\n",
    "        # Remover a primeira entrada caso seja do turno \"VES\"\n",
    "        mask = (df[\"turno\"] == \"VES\") & (df[\"maquina_id\"] != df[\"maquina_id\"].shift())\n",
    "        df = df[~mask]\n",
    "\n",
    "        # Ajustar o turno VES caso a hora da entrada passe de 00:00, para 23:59 do dia anterior\n",
    "        mask = (\n",
    "            (df[\"turno\"] == \"VES\")\n",
    "            & (df[\"hora_registro\"] > time(0, 0, 0))\n",
    "            & (df[\"hora_registro\"] < time(0, 5, 0))\n",
    "        )\n",
    "\n",
    "        df.loc[mask, \"hora_registro\"] = time(23, 59, 59)\n",
    "        df.loc[mask, \"data_registro\"] = df.loc[mask, \"data_registro\"] - timedelta(days=1)\n",
    "\n",
    "        # Reordenar o dataframe\n",
    "        df = df.sort_values(by=[\"linha\", \"data_registro\", \"hora_registro\"])\n",
    "\n",
    "        # Reiniciar o índice\n",
    "        df = df.reset_index(drop=True)\n",
    "\n",
    "        return df\n",
    "\n",
    "    def __clean_prod(self, df: pd.DataFrame) -> pd.DataFrame:\n",
    "        \"\"\"\n",
    "        Limpa os dados de produção.\n",
    "        \"\"\"\n",
    "\n",
    "        # Coluna auxiliar para ordenar os turnos\n",
    "        df[\"turno_aux\"] = df[\"turno\"].map({\"MAT\": 2, \"VES\": 3, \"NOT\": 1})\n",
    "\n",
    "        # Ordenar os valores\n",
    "        df = df.sort_values(by=[\"linha\", \"data_registro\", \"turno_aux\"])\n",
    "\n",
    "        # Remover a coluna auxiliar\n",
    "        df = df.drop(columns=[\"turno_aux\", \"rn\", \"status\"])\n",
    "\n",
    "        # Coluna linha para int\n",
    "        df[\"linha\"] = df[\"linha\"].astype(int)\n",
    "\n",
    "        # Reiniciar o índice\n",
    "        df = df.reset_index(drop=True)\n",
    "\n",
    "        return df\n",
    "\n",
    "    def clean_data(self) -> tuple:\n",
    "        \"\"\"\n",
    "        Limpa os dados lidos do banco de dados.\n",
    "        Retorna na ordem: df_ihm, df_info, df_info_production\n",
    "        \"\"\"\n",
    "\n",
    "        # Limpando os dados(removendo linhas duplicadas ou nulas em informações importantes)\n",
    "        self.df_ihm = self.__clean_basics(self.df_ihm)\n",
    "        self.df_info = self.__clean_basics(self.df_info)\n",
    "        self.df_info_production = self.__clean_basics(self.df_info_production)\n",
    "\n",
    "        # Ajustando o status\n",
    "        # Ajusta nomenclatura do status\n",
    "        self.df_info[\"status\"] = np.where(self.df_info[\"status\"] == \"true\", \"rodando\", \"parada\")\n",
    "\n",
    "        # Ajustes nas informações de produção\n",
    "        self.df_info_production = self.__clean_prod(self.df_info_production)\n",
    "\n",
    "        # NOTE: A fonção abaixo ficará desatualizada após a implementação das IHMs\n",
    "        self.df_info = self.__clean_info(self.df_info)\n",
    "\n",
    "        return self.df_ihm, self.df_info, self.df_info_production\n",
    "\n",
    "\n",
    "clean_data = CleanData(df_ihm.copy(), df_info.copy(), df_info_production.copy())\n",
    "df_ihm_cleaned, df_info_cleaned, df_info_production_cleaned = clean_data.clean_data()"
   ]
  },
  {
   "cell_type": "markdown",
   "metadata": {},
   "source": [
    "### Saída de dados limpos\n"
   ]
  },
  {
   "cell_type": "code",
   "execution_count": 150,
   "metadata": {
    "notebookRunGroups": {
     "groupValue": "2"
    }
   },
   "outputs": [
    {
     "data": {
      "text/html": [
       "<div>\n",
       "<style scoped>\n",
       "    .dataframe tbody tr th:only-of-type {\n",
       "        vertical-align: middle;\n",
       "    }\n",
       "\n",
       "    .dataframe tbody tr th {\n",
       "        vertical-align: top;\n",
       "    }\n",
       "\n",
       "    .dataframe thead th {\n",
       "        text-align: right;\n",
       "    }\n",
       "</style>\n",
       "<table border=\"1\" class=\"dataframe\">\n",
       "  <thead>\n",
       "    <tr style=\"text-align: right;\">\n",
       "      <th></th>\n",
       "      <th>recno</th>\n",
       "      <th>linha</th>\n",
       "      <th>maquina_id</th>\n",
       "      <th>motivo</th>\n",
       "      <th>equipamento</th>\n",
       "      <th>problema</th>\n",
       "      <th>causa</th>\n",
       "      <th>os_numero</th>\n",
       "      <th>operador_id</th>\n",
       "      <th>data_registro</th>\n",
       "      <th>hora_registro</th>\n",
       "    </tr>\n",
       "  </thead>\n",
       "  <tbody>\n",
       "    <tr>\n",
       "      <th>0</th>\n",
       "      <td>15</td>\n",
       "      <td>1</td>\n",
       "      <td>TMF003</td>\n",
       "      <td>Parada Programada</td>\n",
       "      <td></td>\n",
       "      <td>Parada Planejada</td>\n",
       "      <td>Sem Produção</td>\n",
       "      <td></td>\n",
       "      <td>002357</td>\n",
       "      <td>2024-05-01</td>\n",
       "      <td>11:28:20</td>\n",
       "    </tr>\n",
       "    <tr>\n",
       "      <th>1</th>\n",
       "      <td>16</td>\n",
       "      <td>1</td>\n",
       "      <td>TMF003</td>\n",
       "      <td>Parada Programada</td>\n",
       "      <td></td>\n",
       "      <td>Parada Planejada</td>\n",
       "      <td>Backup</td>\n",
       "      <td></td>\n",
       "      <td>002357</td>\n",
       "      <td>2024-05-01</td>\n",
       "      <td>06:47:36</td>\n",
       "    </tr>\n",
       "    <tr>\n",
       "      <th>2</th>\n",
       "      <td>18</td>\n",
       "      <td>1</td>\n",
       "      <td>TMF003</td>\n",
       "      <td>Parada Programada</td>\n",
       "      <td></td>\n",
       "      <td>Parada Planejada</td>\n",
       "      <td>Refeição</td>\n",
       "      <td></td>\n",
       "      <td>002357</td>\n",
       "      <td>2024-05-03</td>\n",
       "      <td>08:29:24</td>\n",
       "    </tr>\n",
       "    <tr>\n",
       "      <th>3</th>\n",
       "      <td>20</td>\n",
       "      <td>2</td>\n",
       "      <td>TMF011</td>\n",
       "      <td>Parada Programada</td>\n",
       "      <td></td>\n",
       "      <td>Parada Planejada</td>\n",
       "      <td>Sem Produção</td>\n",
       "      <td></td>\n",
       "      <td>002357</td>\n",
       "      <td>2024-05-03</td>\n",
       "      <td>09:08:52</td>\n",
       "    </tr>\n",
       "    <tr>\n",
       "      <th>4</th>\n",
       "      <td>22</td>\n",
       "      <td>1</td>\n",
       "      <td>TMF003</td>\n",
       "      <td>Manutenção</td>\n",
       "      <td>Termoformadora</td>\n",
       "      <td>Bandeja Murcha ou Cheia</td>\n",
       "      <td>Realizar análise de falha</td>\n",
       "      <td>015360</td>\n",
       "      <td>002357</td>\n",
       "      <td>2024-05-03</td>\n",
       "      <td>08:55:55</td>\n",
       "    </tr>\n",
       "    <tr>\n",
       "      <th>5</th>\n",
       "      <td>23</td>\n",
       "      <td>2</td>\n",
       "      <td>TMF011</td>\n",
       "      <td>Manutenção</td>\n",
       "      <td>Termoformadora</td>\n",
       "      <td>Bandeja deformada ou manchada</td>\n",
       "      <td>Realizar análise de falha</td>\n",
       "      <td>015360</td>\n",
       "      <td>002357</td>\n",
       "      <td>2024-05-03</td>\n",
       "      <td>07:56:50</td>\n",
       "    </tr>\n",
       "    <tr>\n",
       "      <th>6</th>\n",
       "      <td>24</td>\n",
       "      <td>2</td>\n",
       "      <td>TMF011</td>\n",
       "      <td>Fluxo</td>\n",
       "      <td>Termoformadora</td>\n",
       "      <td>Esteira Cheia</td>\n",
       "      <td>Robô parado</td>\n",
       "      <td></td>\n",
       "      <td>002357</td>\n",
       "      <td>2024-05-03</td>\n",
       "      <td>08:57:06</td>\n",
       "    </tr>\n",
       "    <tr>\n",
       "      <th>7</th>\n",
       "      <td>25</td>\n",
       "      <td>1</td>\n",
       "      <td>TMF003</td>\n",
       "      <td>Limpeza</td>\n",
       "      <td></td>\n",
       "      <td>Limpeza para parada de Fábrica</td>\n",
       "      <td></td>\n",
       "      <td></td>\n",
       "      <td>002357</td>\n",
       "      <td>2024-05-03</td>\n",
       "      <td>08:37:53</td>\n",
       "    </tr>\n",
       "    <tr>\n",
       "      <th>8</th>\n",
       "      <td>26</td>\n",
       "      <td>1</td>\n",
       "      <td>TMF003</td>\n",
       "      <td>Parada Programada</td>\n",
       "      <td></td>\n",
       "      <td>Parada Planejada</td>\n",
       "      <td>Backup</td>\n",
       "      <td></td>\n",
       "      <td>002357</td>\n",
       "      <td>2024-05-03</td>\n",
       "      <td>08:58:06</td>\n",
       "    </tr>\n",
       "  </tbody>\n",
       "</table>\n",
       "</div>"
      ],
      "text/plain": [
       "   recno  linha maquina_id             motivo     equipamento  \\\n",
       "0     15      1     TMF003  Parada Programada                   \n",
       "1     16      1     TMF003  Parada Programada                   \n",
       "2     18      1     TMF003  Parada Programada                   \n",
       "3     20      2     TMF011  Parada Programada                   \n",
       "4     22      1     TMF003         Manutenção  Termoformadora   \n",
       "5     23      2     TMF011         Manutenção  Termoformadora   \n",
       "6     24      2     TMF011              Fluxo  Termoformadora   \n",
       "7     25      1     TMF003            Limpeza                   \n",
       "8     26      1     TMF003  Parada Programada                   \n",
       "\n",
       "                         problema                      causa os_numero  \\\n",
       "0                Parada Planejada               Sem Produção             \n",
       "1                Parada Planejada                     Backup             \n",
       "2                Parada Planejada                   Refeição             \n",
       "3                Parada Planejada               Sem Produção             \n",
       "4         Bandeja Murcha ou Cheia  Realizar análise de falha    015360   \n",
       "5   Bandeja deformada ou manchada  Realizar análise de falha    015360   \n",
       "6                   Esteira Cheia                Robô parado             \n",
       "7  Limpeza para parada de Fábrica                                        \n",
       "8                Parada Planejada                     Backup             \n",
       "\n",
       "  operador_id data_registro hora_registro  \n",
       "0      002357    2024-05-01      11:28:20  \n",
       "1      002357    2024-05-01      06:47:36  \n",
       "2      002357    2024-05-03      08:29:24  \n",
       "3    002357      2024-05-03      09:08:52  \n",
       "4      002357    2024-05-03      08:55:55  \n",
       "5      002357    2024-05-03      07:56:50  \n",
       "6      002357    2024-05-03      08:57:06  \n",
       "7      002357    2024-05-03      08:37:53  \n",
       "8      002357    2024-05-03      08:58:06  "
      ]
     },
     "execution_count": 150,
     "metadata": {},
     "output_type": "execute_result"
    }
   ],
   "source": [
    "df_ihm_cleaned"
   ]
  },
  {
   "cell_type": "code",
   "execution_count": 151,
   "metadata": {
    "notebookRunGroups": {
     "groupValue": "2"
    }
   },
   "outputs": [
    {
     "data": {
      "text/html": [
       "<div>\n",
       "<style scoped>\n",
       "    .dataframe tbody tr th:only-of-type {\n",
       "        vertical-align: middle;\n",
       "    }\n",
       "\n",
       "    .dataframe tbody tr th {\n",
       "        vertical-align: top;\n",
       "    }\n",
       "\n",
       "    .dataframe thead th {\n",
       "        text-align: right;\n",
       "    }\n",
       "</style>\n",
       "<table border=\"1\" class=\"dataframe\">\n",
       "  <thead>\n",
       "    <tr style=\"text-align: right;\">\n",
       "      <th></th>\n",
       "      <th>maquina_id</th>\n",
       "      <th>linha</th>\n",
       "      <th>fabrica</th>\n",
       "      <th>status</th>\n",
       "      <th>turno</th>\n",
       "      <th>contagem_total_ciclos</th>\n",
       "      <th>contagem_total_produzido</th>\n",
       "      <th>data_registro</th>\n",
       "      <th>hora_registro</th>\n",
       "    </tr>\n",
       "  </thead>\n",
       "  <tbody>\n",
       "    <tr>\n",
       "      <th>0</th>\n",
       "      <td>TMF003</td>\n",
       "      <td>1</td>\n",
       "      <td>1</td>\n",
       "      <td>parada</td>\n",
       "      <td>NOT</td>\n",
       "      <td>18.0</td>\n",
       "      <td>12.0</td>\n",
       "      <td>2024-05-01</td>\n",
       "      <td>00:01:06</td>\n",
       "    </tr>\n",
       "    <tr>\n",
       "      <th>1</th>\n",
       "      <td>TMF003</td>\n",
       "      <td>1</td>\n",
       "      <td>1</td>\n",
       "      <td>parada</td>\n",
       "      <td>NOT</td>\n",
       "      <td>18.0</td>\n",
       "      <td>12.0</td>\n",
       "      <td>2024-05-01</td>\n",
       "      <td>00:03:06</td>\n",
       "    </tr>\n",
       "    <tr>\n",
       "      <th>2</th>\n",
       "      <td>TMF003</td>\n",
       "      <td>1</td>\n",
       "      <td>1</td>\n",
       "      <td>parada</td>\n",
       "      <td>NOT</td>\n",
       "      <td>18.0</td>\n",
       "      <td>12.0</td>\n",
       "      <td>2024-05-01</td>\n",
       "      <td>00:05:06</td>\n",
       "    </tr>\n",
       "    <tr>\n",
       "      <th>3</th>\n",
       "      <td>TMF003</td>\n",
       "      <td>1</td>\n",
       "      <td>1</td>\n",
       "      <td>parada</td>\n",
       "      <td>NOT</td>\n",
       "      <td>18.0</td>\n",
       "      <td>12.0</td>\n",
       "      <td>2024-05-01</td>\n",
       "      <td>00:07:06</td>\n",
       "    </tr>\n",
       "    <tr>\n",
       "      <th>4</th>\n",
       "      <td>TMF003</td>\n",
       "      <td>1</td>\n",
       "      <td>1</td>\n",
       "      <td>parada</td>\n",
       "      <td>NOT</td>\n",
       "      <td>18.0</td>\n",
       "      <td>12.0</td>\n",
       "      <td>2024-05-01</td>\n",
       "      <td>00:09:06</td>\n",
       "    </tr>\n",
       "    <tr>\n",
       "      <th>...</th>\n",
       "      <td>...</td>\n",
       "      <td>...</td>\n",
       "      <td>...</td>\n",
       "      <td>...</td>\n",
       "      <td>...</td>\n",
       "      <td>...</td>\n",
       "      <td>...</td>\n",
       "      <td>...</td>\n",
       "      <td>...</td>\n",
       "    </tr>\n",
       "    <tr>\n",
       "      <th>49289</th>\n",
       "      <td>TMF009</td>\n",
       "      <td>14</td>\n",
       "      <td>2</td>\n",
       "      <td>parada</td>\n",
       "      <td>MAT</td>\n",
       "      <td>0.0</td>\n",
       "      <td>0.0</td>\n",
       "      <td>2024-05-06</td>\n",
       "      <td>15:33:31</td>\n",
       "    </tr>\n",
       "    <tr>\n",
       "      <th>49290</th>\n",
       "      <td>TMF009</td>\n",
       "      <td>14</td>\n",
       "      <td>2</td>\n",
       "      <td>parada</td>\n",
       "      <td>MAT</td>\n",
       "      <td>0.0</td>\n",
       "      <td>0.0</td>\n",
       "      <td>2024-05-06</td>\n",
       "      <td>15:35:31</td>\n",
       "    </tr>\n",
       "    <tr>\n",
       "      <th>49291</th>\n",
       "      <td>TMF009</td>\n",
       "      <td>14</td>\n",
       "      <td>2</td>\n",
       "      <td>parada</td>\n",
       "      <td>MAT</td>\n",
       "      <td>0.0</td>\n",
       "      <td>0.0</td>\n",
       "      <td>2024-05-06</td>\n",
       "      <td>15:37:31</td>\n",
       "    </tr>\n",
       "    <tr>\n",
       "      <th>49292</th>\n",
       "      <td>TMF009</td>\n",
       "      <td>14</td>\n",
       "      <td>2</td>\n",
       "      <td>parada</td>\n",
       "      <td>MAT</td>\n",
       "      <td>0.0</td>\n",
       "      <td>0.0</td>\n",
       "      <td>2024-05-06</td>\n",
       "      <td>15:39:31</td>\n",
       "    </tr>\n",
       "    <tr>\n",
       "      <th>49293</th>\n",
       "      <td>TMF009</td>\n",
       "      <td>14</td>\n",
       "      <td>2</td>\n",
       "      <td>parada</td>\n",
       "      <td>MAT</td>\n",
       "      <td>0.0</td>\n",
       "      <td>0.0</td>\n",
       "      <td>2024-05-06</td>\n",
       "      <td>15:41:31</td>\n",
       "    </tr>\n",
       "  </tbody>\n",
       "</table>\n",
       "<p>49294 rows × 9 columns</p>\n",
       "</div>"
      ],
      "text/plain": [
       "      maquina_id  linha fabrica  status turno  contagem_total_ciclos  \\\n",
       "0         TMF003      1       1  parada   NOT                   18.0   \n",
       "1         TMF003      1       1  parada   NOT                   18.0   \n",
       "2         TMF003      1       1  parada   NOT                   18.0   \n",
       "3         TMF003      1       1  parada   NOT                   18.0   \n",
       "4         TMF003      1       1  parada   NOT                   18.0   \n",
       "...          ...    ...     ...     ...   ...                    ...   \n",
       "49289     TMF009     14       2  parada   MAT                    0.0   \n",
       "49290     TMF009     14       2  parada   MAT                    0.0   \n",
       "49291     TMF009     14       2  parada   MAT                    0.0   \n",
       "49292     TMF009     14       2  parada   MAT                    0.0   \n",
       "49293     TMF009     14       2  parada   MAT                    0.0   \n",
       "\n",
       "       contagem_total_produzido data_registro hora_registro  \n",
       "0                          12.0    2024-05-01      00:01:06  \n",
       "1                          12.0    2024-05-01      00:03:06  \n",
       "2                          12.0    2024-05-01      00:05:06  \n",
       "3                          12.0    2024-05-01      00:07:06  \n",
       "4                          12.0    2024-05-01      00:09:06  \n",
       "...                         ...           ...           ...  \n",
       "49289                       0.0    2024-05-06      15:33:31  \n",
       "49290                       0.0    2024-05-06      15:35:31  \n",
       "49291                       0.0    2024-05-06      15:37:31  \n",
       "49292                       0.0    2024-05-06      15:39:31  \n",
       "49293                       0.0    2024-05-06      15:41:31  \n",
       "\n",
       "[49294 rows x 9 columns]"
      ]
     },
     "execution_count": 151,
     "metadata": {},
     "output_type": "execute_result"
    }
   ],
   "source": [
    "df_info_cleaned"
   ]
  },
  {
   "cell_type": "code",
   "execution_count": 152,
   "metadata": {
    "notebookRunGroups": {
     "groupValue": "2"
    }
   },
   "outputs": [
    {
     "data": {
      "text/html": [
       "<div>\n",
       "<style scoped>\n",
       "    .dataframe tbody tr th:only-of-type {\n",
       "        vertical-align: middle;\n",
       "    }\n",
       "\n",
       "    .dataframe tbody tr th {\n",
       "        vertical-align: top;\n",
       "    }\n",
       "\n",
       "    .dataframe thead th {\n",
       "        text-align: right;\n",
       "    }\n",
       "</style>\n",
       "<table border=\"1\" class=\"dataframe\">\n",
       "  <thead>\n",
       "    <tr style=\"text-align: right;\">\n",
       "      <th></th>\n",
       "      <th>fabrica</th>\n",
       "      <th>linha</th>\n",
       "      <th>maquina_id</th>\n",
       "      <th>turno</th>\n",
       "      <th>total_ciclos</th>\n",
       "      <th>total_produzido</th>\n",
       "      <th>data_registro</th>\n",
       "      <th>hora_registro</th>\n",
       "    </tr>\n",
       "  </thead>\n",
       "  <tbody>\n",
       "    <tr>\n",
       "      <th>0</th>\n",
       "      <td>1</td>\n",
       "      <td>1</td>\n",
       "      <td>TMF003</td>\n",
       "      <td>NOT</td>\n",
       "      <td>18.0</td>\n",
       "      <td>12.0</td>\n",
       "      <td>2024-05-01</td>\n",
       "      <td>07:59:08</td>\n",
       "    </tr>\n",
       "    <tr>\n",
       "      <th>1</th>\n",
       "      <td>1</td>\n",
       "      <td>1</td>\n",
       "      <td>TMF003</td>\n",
       "      <td>MAT</td>\n",
       "      <td>18.0</td>\n",
       "      <td>12.0</td>\n",
       "      <td>2024-05-01</td>\n",
       "      <td>15:59:09</td>\n",
       "    </tr>\n",
       "    <tr>\n",
       "      <th>2</th>\n",
       "      <td>1</td>\n",
       "      <td>1</td>\n",
       "      <td>TMF003</td>\n",
       "      <td>VES</td>\n",
       "      <td>72.0</td>\n",
       "      <td>56.0</td>\n",
       "      <td>2024-05-01</td>\n",
       "      <td>23:59:10</td>\n",
       "    </tr>\n",
       "    <tr>\n",
       "      <th>3</th>\n",
       "      <td>1</td>\n",
       "      <td>1</td>\n",
       "      <td>TMF003</td>\n",
       "      <td>NOT</td>\n",
       "      <td>6398.0</td>\n",
       "      <td>6274.0</td>\n",
       "      <td>2024-05-02</td>\n",
       "      <td>07:59:12</td>\n",
       "    </tr>\n",
       "    <tr>\n",
       "      <th>4</th>\n",
       "      <td>1</td>\n",
       "      <td>1</td>\n",
       "      <td>TMF003</td>\n",
       "      <td>MAT</td>\n",
       "      <td>2124.0</td>\n",
       "      <td>2116.0</td>\n",
       "      <td>2024-05-02</td>\n",
       "      <td>15:59:13</td>\n",
       "    </tr>\n",
       "    <tr>\n",
       "      <th>...</th>\n",
       "      <td>...</td>\n",
       "      <td>...</td>\n",
       "      <td>...</td>\n",
       "      <td>...</td>\n",
       "      <td>...</td>\n",
       "      <td>...</td>\n",
       "      <td>...</td>\n",
       "      <td>...</td>\n",
       "    </tr>\n",
       "    <tr>\n",
       "      <th>204</th>\n",
       "      <td>2</td>\n",
       "      <td>14</td>\n",
       "      <td>TMF009</td>\n",
       "      <td>NOT</td>\n",
       "      <td>0.0</td>\n",
       "      <td>0.0</td>\n",
       "      <td>2024-05-05</td>\n",
       "      <td>07:59:30</td>\n",
       "    </tr>\n",
       "    <tr>\n",
       "      <th>205</th>\n",
       "      <td>2</td>\n",
       "      <td>14</td>\n",
       "      <td>TMF009</td>\n",
       "      <td>MAT</td>\n",
       "      <td>30000.0</td>\n",
       "      <td>0.0</td>\n",
       "      <td>2024-05-05</td>\n",
       "      <td>15:59:10</td>\n",
       "    </tr>\n",
       "    <tr>\n",
       "      <th>206</th>\n",
       "      <td>2</td>\n",
       "      <td>14</td>\n",
       "      <td>TMF009</td>\n",
       "      <td>VES</td>\n",
       "      <td>30000.0</td>\n",
       "      <td>0.0</td>\n",
       "      <td>2024-05-05</td>\n",
       "      <td>23:59:28</td>\n",
       "    </tr>\n",
       "    <tr>\n",
       "      <th>207</th>\n",
       "      <td>2</td>\n",
       "      <td>14</td>\n",
       "      <td>TMF009</td>\n",
       "      <td>NOT</td>\n",
       "      <td>0.0</td>\n",
       "      <td>0.0</td>\n",
       "      <td>2024-05-06</td>\n",
       "      <td>07:59:30</td>\n",
       "    </tr>\n",
       "    <tr>\n",
       "      <th>208</th>\n",
       "      <td>2</td>\n",
       "      <td>14</td>\n",
       "      <td>TMF009</td>\n",
       "      <td>MAT</td>\n",
       "      <td>0.0</td>\n",
       "      <td>0.0</td>\n",
       "      <td>2024-05-06</td>\n",
       "      <td>15:41:31</td>\n",
       "    </tr>\n",
       "  </tbody>\n",
       "</table>\n",
       "<p>209 rows × 8 columns</p>\n",
       "</div>"
      ],
      "text/plain": [
       "    fabrica  linha maquina_id turno  total_ciclos  total_produzido  \\\n",
       "0         1      1     TMF003   NOT          18.0             12.0   \n",
       "1         1      1     TMF003   MAT          18.0             12.0   \n",
       "2         1      1     TMF003   VES          72.0             56.0   \n",
       "3         1      1     TMF003   NOT        6398.0           6274.0   \n",
       "4         1      1     TMF003   MAT        2124.0           2116.0   \n",
       "..      ...    ...        ...   ...           ...              ...   \n",
       "204       2     14     TMF009   NOT           0.0              0.0   \n",
       "205       2     14     TMF009   MAT       30000.0              0.0   \n",
       "206       2     14     TMF009   VES       30000.0              0.0   \n",
       "207       2     14     TMF009   NOT           0.0              0.0   \n",
       "208       2     14     TMF009   MAT           0.0              0.0   \n",
       "\n",
       "    data_registro hora_registro  \n",
       "0      2024-05-01      07:59:08  \n",
       "1      2024-05-01      15:59:09  \n",
       "2      2024-05-01      23:59:10  \n",
       "3      2024-05-02      07:59:12  \n",
       "4      2024-05-02      15:59:13  \n",
       "..            ...           ...  \n",
       "204    2024-05-05      07:59:30  \n",
       "205    2024-05-05      15:59:10  \n",
       "206    2024-05-05      23:59:28  \n",
       "207    2024-05-06      07:59:30  \n",
       "208    2024-05-06      15:41:31  \n",
       "\n",
       "[209 rows x 8 columns]"
      ]
     },
     "execution_count": 152,
     "metadata": {},
     "output_type": "execute_result"
    }
   ],
   "source": [
    "df_info_production_cleaned"
   ]
  },
  {
   "cell_type": "markdown",
   "metadata": {},
   "source": [
    "# Unindo os dados\n"
   ]
  },
  {
   "cell_type": "markdown",
   "metadata": {},
   "source": [
    "## IHM + Info\n"
   ]
  },
  {
   "cell_type": "code",
   "execution_count": 153,
   "metadata": {
    "notebookRunGroups": {
     "groupValue": "2"
    }
   },
   "outputs": [],
   "source": [
    "class JoinInfoIHM:\n",
    "    \"\"\"\n",
    "    Essa classe é responsável por juntar os DataFrames de informações e IHM.\n",
    "    \"\"\"\n",
    "\n",
    "    def __init__(self, df_ihm, df_info):\n",
    "        self.df_ihm = df_ihm\n",
    "        self.df_info = df_info\n",
    "\n",
    "    def join_data(self) -> pd.DataFrame:\n",
    "        \"\"\"\n",
    "        Junta os DataFrames de informações e IHM.\n",
    "        \"\"\"\n",
    "\n",
    "        # Cria uma coluna auxiliar com data e hora para fazer o merge\n",
    "        self.df_info[\"data_hora\"] = pd.to_datetime(\n",
    "            self.df_info[\"data_registro\"].astype(str)\n",
    "            + \" \"\n",
    "            + self.df_info[\"hora_registro\"].astype(str)\n",
    "        )\n",
    "\n",
    "        self.df_ihm[\"data_hora\"] = pd.to_datetime(\n",
    "            self.df_ihm[\"data_registro\"].astype(str)\n",
    "            + \" \"\n",
    "            + self.df_ihm[\"hora_registro\"].astype(str)\n",
    "        )\n",
    "\n",
    "        # Classifica os DataFrames\n",
    "        self.df_info = self.df_info.sort_values(by=\"data_hora\")\n",
    "        self.df_ihm = self.df_ihm.sort_values(by=\"data_hora\")\n",
    "\n",
    "        # Junta os DataFrames\n",
    "        df = pd.merge_asof(\n",
    "            self.df_info,\n",
    "            self.df_ihm.drop(columns=\"recno\"),\n",
    "            on=\"data_hora\",\n",
    "            by=\"maquina_id\",\n",
    "            direction=\"nearest\",\n",
    "            tolerance=pd.Timedelta(\"1 min 10 s\"),\n",
    "        )\n",
    "\n",
    "        # Ajustas os tipos das colunas contagem_total_ciclos e contagem_total_produzido para int\n",
    "        df[\"contagem_total_ciclos\"] = df[\"contagem_total_ciclos\"].astype(\"Int64\")\n",
    "        df[\"contagem_total_produzido\"] = df[\"contagem_total_produzido\"].astype(\"Int64\")\n",
    "\n",
    "        # Reordenar as colunas mantendo só as colunas necessárias e renomeando as colunas para facilitar a compreensão\n",
    "        df = df[\n",
    "            [\n",
    "                \"fabrica\",\n",
    "                \"linha_x\",\n",
    "                \"maquina_id\",\n",
    "                \"turno\",\n",
    "                \"status\",\n",
    "                \"contagem_total_ciclos\",\n",
    "                \"contagem_total_produzido\",\n",
    "                \"data_registro_x\",\n",
    "                \"hora_registro_x\",\n",
    "                \"motivo\",\n",
    "                \"equipamento\",\n",
    "                \"problema\",\n",
    "                \"causa\",\n",
    "                \"os_numero\",\n",
    "                \"operador_id\",\n",
    "                \"data_registro_y\",\n",
    "                \"hora_registro_y\",\n",
    "            ]\n",
    "        ]\n",
    "\n",
    "        df.columns = [\n",
    "            \"fabrica\",\n",
    "            \"linha\",\n",
    "            \"maquina_id\",\n",
    "            \"turno\",\n",
    "            \"status\",\n",
    "            \"contagem_total_ciclos\",\n",
    "            \"contagem_total_produzido\",\n",
    "            \"data_registro\",\n",
    "            \"hora_registro\",\n",
    "            \"motivo\",\n",
    "            \"equipamento\",\n",
    "            \"problema\",\n",
    "            \"causa\",\n",
    "            \"os_numero\",\n",
    "            \"operador_id\",\n",
    "            \"data_registro_ihm\",\n",
    "            \"hora_registro_ihm\",\n",
    "        ]\n",
    "\n",
    "        # Reordenar pela linha, data_registro_info e hora_registro_info\n",
    "        df = df.sort_values(by=[\"linha\", \"data_registro\", \"hora_registro\"])\n",
    "\n",
    "        return df\n",
    "\n",
    "\n",
    "join_info_ihm = JoinInfoIHM(df_ihm_cleaned.copy(), df_info_cleaned.copy())\n",
    "df_joined = join_info_ihm.join_data()"
   ]
  },
  {
   "cell_type": "markdown",
   "metadata": {},
   "source": [
    "### Saída de Join\n"
   ]
  },
  {
   "cell_type": "code",
   "execution_count": 154,
   "metadata": {
    "notebookRunGroups": {
     "groupValue": "2"
    }
   },
   "outputs": [
    {
     "data": {
      "text/html": [
       "<div>\n",
       "<style scoped>\n",
       "    .dataframe tbody tr th:only-of-type {\n",
       "        vertical-align: middle;\n",
       "    }\n",
       "\n",
       "    .dataframe tbody tr th {\n",
       "        vertical-align: top;\n",
       "    }\n",
       "\n",
       "    .dataframe thead th {\n",
       "        text-align: right;\n",
       "    }\n",
       "</style>\n",
       "<table border=\"1\" class=\"dataframe\">\n",
       "  <thead>\n",
       "    <tr style=\"text-align: right;\">\n",
       "      <th></th>\n",
       "      <th>fabrica</th>\n",
       "      <th>linha</th>\n",
       "      <th>maquina_id</th>\n",
       "      <th>turno</th>\n",
       "      <th>status</th>\n",
       "      <th>contagem_total_ciclos</th>\n",
       "      <th>contagem_total_produzido</th>\n",
       "      <th>data_registro</th>\n",
       "      <th>hora_registro</th>\n",
       "      <th>motivo</th>\n",
       "      <th>equipamento</th>\n",
       "      <th>problema</th>\n",
       "      <th>causa</th>\n",
       "      <th>os_numero</th>\n",
       "      <th>operador_id</th>\n",
       "      <th>data_registro_ihm</th>\n",
       "      <th>hora_registro_ihm</th>\n",
       "    </tr>\n",
       "  </thead>\n",
       "  <tbody>\n",
       "    <tr>\n",
       "      <th>0</th>\n",
       "      <td>1</td>\n",
       "      <td>1</td>\n",
       "      <td>TMF003</td>\n",
       "      <td>NOT</td>\n",
       "      <td>parada</td>\n",
       "      <td>18</td>\n",
       "      <td>12</td>\n",
       "      <td>2024-05-01</td>\n",
       "      <td>00:01:06</td>\n",
       "      <td>NaN</td>\n",
       "      <td>NaN</td>\n",
       "      <td>NaN</td>\n",
       "      <td>NaN</td>\n",
       "      <td>NaN</td>\n",
       "      <td>NaN</td>\n",
       "      <td>NaT</td>\n",
       "      <td>NaN</td>\n",
       "    </tr>\n",
       "    <tr>\n",
       "      <th>8</th>\n",
       "      <td>1</td>\n",
       "      <td>1</td>\n",
       "      <td>TMF003</td>\n",
       "      <td>NOT</td>\n",
       "      <td>parada</td>\n",
       "      <td>18</td>\n",
       "      <td>12</td>\n",
       "      <td>2024-05-01</td>\n",
       "      <td>00:03:06</td>\n",
       "      <td>NaN</td>\n",
       "      <td>NaN</td>\n",
       "      <td>NaN</td>\n",
       "      <td>NaN</td>\n",
       "      <td>NaN</td>\n",
       "      <td>NaN</td>\n",
       "      <td>NaT</td>\n",
       "      <td>NaN</td>\n",
       "    </tr>\n",
       "    <tr>\n",
       "      <th>16</th>\n",
       "      <td>1</td>\n",
       "      <td>1</td>\n",
       "      <td>TMF003</td>\n",
       "      <td>NOT</td>\n",
       "      <td>parada</td>\n",
       "      <td>18</td>\n",
       "      <td>12</td>\n",
       "      <td>2024-05-01</td>\n",
       "      <td>00:05:06</td>\n",
       "      <td>NaN</td>\n",
       "      <td>NaN</td>\n",
       "      <td>NaN</td>\n",
       "      <td>NaN</td>\n",
       "      <td>NaN</td>\n",
       "      <td>NaN</td>\n",
       "      <td>NaT</td>\n",
       "      <td>NaN</td>\n",
       "    </tr>\n",
       "    <tr>\n",
       "      <th>24</th>\n",
       "      <td>1</td>\n",
       "      <td>1</td>\n",
       "      <td>TMF003</td>\n",
       "      <td>NOT</td>\n",
       "      <td>parada</td>\n",
       "      <td>18</td>\n",
       "      <td>12</td>\n",
       "      <td>2024-05-01</td>\n",
       "      <td>00:07:06</td>\n",
       "      <td>NaN</td>\n",
       "      <td>NaN</td>\n",
       "      <td>NaN</td>\n",
       "      <td>NaN</td>\n",
       "      <td>NaN</td>\n",
       "      <td>NaN</td>\n",
       "      <td>NaT</td>\n",
       "      <td>NaN</td>\n",
       "    </tr>\n",
       "    <tr>\n",
       "      <th>32</th>\n",
       "      <td>1</td>\n",
       "      <td>1</td>\n",
       "      <td>TMF003</td>\n",
       "      <td>NOT</td>\n",
       "      <td>parada</td>\n",
       "      <td>18</td>\n",
       "      <td>12</td>\n",
       "      <td>2024-05-01</td>\n",
       "      <td>00:09:06</td>\n",
       "      <td>NaN</td>\n",
       "      <td>NaN</td>\n",
       "      <td>NaN</td>\n",
       "      <td>NaN</td>\n",
       "      <td>NaN</td>\n",
       "      <td>NaN</td>\n",
       "      <td>NaT</td>\n",
       "      <td>NaN</td>\n",
       "    </tr>\n",
       "    <tr>\n",
       "      <th>...</th>\n",
       "      <td>...</td>\n",
       "      <td>...</td>\n",
       "      <td>...</td>\n",
       "      <td>...</td>\n",
       "      <td>...</td>\n",
       "      <td>...</td>\n",
       "      <td>...</td>\n",
       "      <td>...</td>\n",
       "      <td>...</td>\n",
       "      <td>...</td>\n",
       "      <td>...</td>\n",
       "      <td>...</td>\n",
       "      <td>...</td>\n",
       "      <td>...</td>\n",
       "      <td>...</td>\n",
       "      <td>...</td>\n",
       "      <td>...</td>\n",
       "    </tr>\n",
       "    <tr>\n",
       "      <th>49219</th>\n",
       "      <td>2</td>\n",
       "      <td>14</td>\n",
       "      <td>TMF009</td>\n",
       "      <td>MAT</td>\n",
       "      <td>parada</td>\n",
       "      <td>0</td>\n",
       "      <td>0</td>\n",
       "      <td>2024-05-06</td>\n",
       "      <td>15:33:31</td>\n",
       "      <td>NaN</td>\n",
       "      <td>NaN</td>\n",
       "      <td>NaN</td>\n",
       "      <td>NaN</td>\n",
       "      <td>NaN</td>\n",
       "      <td>NaN</td>\n",
       "      <td>NaT</td>\n",
       "      <td>NaN</td>\n",
       "    </tr>\n",
       "    <tr>\n",
       "      <th>49233</th>\n",
       "      <td>2</td>\n",
       "      <td>14</td>\n",
       "      <td>TMF009</td>\n",
       "      <td>MAT</td>\n",
       "      <td>parada</td>\n",
       "      <td>0</td>\n",
       "      <td>0</td>\n",
       "      <td>2024-05-06</td>\n",
       "      <td>15:35:31</td>\n",
       "      <td>NaN</td>\n",
       "      <td>NaN</td>\n",
       "      <td>NaN</td>\n",
       "      <td>NaN</td>\n",
       "      <td>NaN</td>\n",
       "      <td>NaN</td>\n",
       "      <td>NaT</td>\n",
       "      <td>NaN</td>\n",
       "    </tr>\n",
       "    <tr>\n",
       "      <th>49247</th>\n",
       "      <td>2</td>\n",
       "      <td>14</td>\n",
       "      <td>TMF009</td>\n",
       "      <td>MAT</td>\n",
       "      <td>parada</td>\n",
       "      <td>0</td>\n",
       "      <td>0</td>\n",
       "      <td>2024-05-06</td>\n",
       "      <td>15:37:31</td>\n",
       "      <td>NaN</td>\n",
       "      <td>NaN</td>\n",
       "      <td>NaN</td>\n",
       "      <td>NaN</td>\n",
       "      <td>NaN</td>\n",
       "      <td>NaN</td>\n",
       "      <td>NaT</td>\n",
       "      <td>NaN</td>\n",
       "    </tr>\n",
       "    <tr>\n",
       "      <th>49261</th>\n",
       "      <td>2</td>\n",
       "      <td>14</td>\n",
       "      <td>TMF009</td>\n",
       "      <td>MAT</td>\n",
       "      <td>parada</td>\n",
       "      <td>0</td>\n",
       "      <td>0</td>\n",
       "      <td>2024-05-06</td>\n",
       "      <td>15:39:31</td>\n",
       "      <td>NaN</td>\n",
       "      <td>NaN</td>\n",
       "      <td>NaN</td>\n",
       "      <td>NaN</td>\n",
       "      <td>NaN</td>\n",
       "      <td>NaN</td>\n",
       "      <td>NaT</td>\n",
       "      <td>NaN</td>\n",
       "    </tr>\n",
       "    <tr>\n",
       "      <th>49275</th>\n",
       "      <td>2</td>\n",
       "      <td>14</td>\n",
       "      <td>TMF009</td>\n",
       "      <td>MAT</td>\n",
       "      <td>parada</td>\n",
       "      <td>0</td>\n",
       "      <td>0</td>\n",
       "      <td>2024-05-06</td>\n",
       "      <td>15:41:31</td>\n",
       "      <td>NaN</td>\n",
       "      <td>NaN</td>\n",
       "      <td>NaN</td>\n",
       "      <td>NaN</td>\n",
       "      <td>NaN</td>\n",
       "      <td>NaN</td>\n",
       "      <td>NaT</td>\n",
       "      <td>NaN</td>\n",
       "    </tr>\n",
       "  </tbody>\n",
       "</table>\n",
       "<p>49294 rows × 17 columns</p>\n",
       "</div>"
      ],
      "text/plain": [
       "      fabrica  linha maquina_id turno  status  contagem_total_ciclos  \\\n",
       "0           1      1     TMF003   NOT  parada                     18   \n",
       "8           1      1     TMF003   NOT  parada                     18   \n",
       "16          1      1     TMF003   NOT  parada                     18   \n",
       "24          1      1     TMF003   NOT  parada                     18   \n",
       "32          1      1     TMF003   NOT  parada                     18   \n",
       "...       ...    ...        ...   ...     ...                    ...   \n",
       "49219       2     14     TMF009   MAT  parada                      0   \n",
       "49233       2     14     TMF009   MAT  parada                      0   \n",
       "49247       2     14     TMF009   MAT  parada                      0   \n",
       "49261       2     14     TMF009   MAT  parada                      0   \n",
       "49275       2     14     TMF009   MAT  parada                      0   \n",
       "\n",
       "       contagem_total_produzido data_registro hora_registro motivo  \\\n",
       "0                            12    2024-05-01      00:01:06    NaN   \n",
       "8                            12    2024-05-01      00:03:06    NaN   \n",
       "16                           12    2024-05-01      00:05:06    NaN   \n",
       "24                           12    2024-05-01      00:07:06    NaN   \n",
       "32                           12    2024-05-01      00:09:06    NaN   \n",
       "...                         ...           ...           ...    ...   \n",
       "49219                         0    2024-05-06      15:33:31    NaN   \n",
       "49233                         0    2024-05-06      15:35:31    NaN   \n",
       "49247                         0    2024-05-06      15:37:31    NaN   \n",
       "49261                         0    2024-05-06      15:39:31    NaN   \n",
       "49275                         0    2024-05-06      15:41:31    NaN   \n",
       "\n",
       "      equipamento problema causa os_numero operador_id data_registro_ihm  \\\n",
       "0             NaN      NaN   NaN       NaN         NaN               NaT   \n",
       "8             NaN      NaN   NaN       NaN         NaN               NaT   \n",
       "16            NaN      NaN   NaN       NaN         NaN               NaT   \n",
       "24            NaN      NaN   NaN       NaN         NaN               NaT   \n",
       "32            NaN      NaN   NaN       NaN         NaN               NaT   \n",
       "...           ...      ...   ...       ...         ...               ...   \n",
       "49219         NaN      NaN   NaN       NaN         NaN               NaT   \n",
       "49233         NaN      NaN   NaN       NaN         NaN               NaT   \n",
       "49247         NaN      NaN   NaN       NaN         NaN               NaT   \n",
       "49261         NaN      NaN   NaN       NaN         NaN               NaT   \n",
       "49275         NaN      NaN   NaN       NaN         NaN               NaT   \n",
       "\n",
       "      hora_registro_ihm  \n",
       "0                   NaN  \n",
       "8                   NaN  \n",
       "16                  NaN  \n",
       "24                  NaN  \n",
       "32                  NaN  \n",
       "...                 ...  \n",
       "49219               NaN  \n",
       "49233               NaN  \n",
       "49247               NaN  \n",
       "49261               NaN  \n",
       "49275               NaN  \n",
       "\n",
       "[49294 rows x 17 columns]"
      ]
     },
     "execution_count": 154,
     "metadata": {},
     "output_type": "execute_result"
    }
   ],
   "source": [
    "df_joined"
   ]
  },
  {
   "cell_type": "markdown",
   "metadata": {},
   "source": [
    "# Service\n"
   ]
  },
  {
   "cell_type": "markdown",
   "metadata": {},
   "source": [
    "## Info + IHM Service\n"
   ]
  },
  {
   "cell_type": "code",
   "execution_count": 155,
   "metadata": {
    "notebookRunGroups": {
     "groupValue": "2"
    }
   },
   "outputs": [],
   "source": [
    "class ServiceInfoIHM:\n",
    "    \"\"\"\n",
    "    Essa classe é responsável por realizar a leitura, limpeza e junção dos dados de informações e IHM.\n",
    "    \"\"\"\n",
    "\n",
    "    def __init__(self):\n",
    "        self.get_data = GetData()\n",
    "        self.clean_data = CleanData\n",
    "        self.join_info_ihm = JoinInfoIHM\n",
    "        self.data = self.get_data.get_data()\n",
    "\n",
    "    def __get_info_ihm(self) -> pd.DataFrame:\n",
    "        \"\"\"\n",
    "        Realiza a leitura, limpeza e junção dos dados de informações e IHM.\n",
    "        \"\"\"\n",
    "\n",
    "        # Realiza a leitura dos dados\n",
    "        df_ihm, df_info, _ = self.data\n",
    "\n",
    "        # Verifica se os dados foram lidos corretamente\n",
    "        if df_ihm is None or df_info is None or df_info_production is None:\n",
    "            return None\n",
    "\n",
    "        # Limpa os dados\n",
    "        clean_data = self.clean_data(df_ihm, df_info, df_info_production)\n",
    "        df_ihm_cleaned, df_info_cleaned, _ = clean_data.clean_data()\n",
    "\n",
    "        # Junta os dados\n",
    "        join_info_ihm = self.join_info_ihm(df_ihm_cleaned, df_info_cleaned)\n",
    "        df_joined = join_info_ihm.join_data()\n",
    "\n",
    "        return df_joined\n",
    "\n",
    "    def __identify_changes(self, df, column) -> pd.Series:\n",
    "        return df[column].ne(df[column].shift())\n",
    "\n",
    "    def __status_change(self, df):\n",
    "        # Checa se houve mudança de status, maquina_id e turno\n",
    "        columns_to_check = [\"status\", \"maquina_id\", \"turno\"]\n",
    "        for column in columns_to_check:\n",
    "            df[f\"{column}_change\"] = self.__identify_changes(df, column)\n",
    "\n",
    "        # Coluna auxiliar que identifica se houve alguma mudança\n",
    "        df[\"change\"] = df[[\"status_change\", \"maquina_id_change\", \"turno_change\"]].any(axis=1)\n",
    "\n",
    "        return df\n",
    "\n",
    "    def __fill_occ(self, df):\n",
    "        # Preenche os valores nulos de paradas\n",
    "        df[\"motivo\"] = df.groupby(\"group\")[\"motivo\"].transform(lambda x: x.ffill().bfill())\n",
    "        df[\"equipamento\"] = df.groupby(\"group\")[\"equipamento\"].transform(\n",
    "            lambda x: x.ffill().bfill()\n",
    "        )\n",
    "        df[\"problema\"] = df.groupby(\"group\")[\"problema\"].transform(lambda x: x.ffill().bfill())\n",
    "        df[\"causa\"] = df.groupby(\"group\")[\"causa\"].transform(lambda x: x.ffill().bfill())\n",
    "        df[\"os_numero\"] = df.groupby(\"group\")[\"os_numero\"].transform(lambda x: x.ffill().bfill())\n",
    "        df[\"operador_id\"] = df.groupby(\"group\")[\"operador_id\"].transform(\n",
    "            lambda x: x.ffill().bfill()\n",
    "        )\n",
    "        df[\"data_registro_ihm\"] = df.groupby(\"group\")[\"data_registro_ihm\"].transform(\n",
    "            lambda x: x.ffill().bfill()\n",
    "        )\n",
    "        df[\"hora_registro_ihm\"] = df.groupby(\"group\")[\"hora_registro_ihm\"].transform(\n",
    "            lambda x: x.ffill().bfill()\n",
    "        )\n",
    "\n",
    "        # Se os dado de uma coluna for '' ou ' ', substituir por NaN\n",
    "        df = df.replace(r\"^s*$\", None, regex=True)\n",
    "        # O ^ indica o início de uma string, o $ indica o fim de uma string, e s* zero ou mais espaços em branco\n",
    "\n",
    "        return df\n",
    "\n",
    "    def __group_and_calc_time(self, df):\n",
    "        # Agrupa as mudanças\n",
    "        df = (\n",
    "            df.groupby([\"group\"])\n",
    "            .agg(\n",
    "                fabrica=(\"fabrica\", \"first\"),\n",
    "                linha=(\"linha\", \"first\"),\n",
    "                maquina_id=(\"maquina_id\", \"first\"),\n",
    "                turno=(\"turno\", \"first\"),\n",
    "                status=(\"status\", \"first\"),\n",
    "                data_registro=(\"data_registro\", \"first\"),\n",
    "                hora_registro=(\"hora_registro\", \"first\"),\n",
    "                motivo=(\"motivo\", \"first\"),\n",
    "                equipamento=(\"equipamento\", \"first\"),\n",
    "                problema=(\"problema\", \"first\"),\n",
    "                causa=(\"causa\", \"first\"),\n",
    "                os_numero=(\"os_numero\", \"first\"),\n",
    "                operador_id=(\"operador_id\", \"first\"),\n",
    "                data_registro_ihm=(\"data_registro_ihm\", \"first\"),\n",
    "                hora_registro_ihm=(\"hora_registro_ihm\", \"first\"),\n",
    "                data_hora=(\"data_hora\", \"first\"),\n",
    "                change=(\"change\", \"first\"),\n",
    "                maquina_id_change=(\"maquina_id_change\", \"first\"),\n",
    "                change_date=(\"change_date\", \"first\"),\n",
    "                motivo_change=(\"motivo_change\", \"first\"),\n",
    "            )\n",
    "            .reset_index()\n",
    "        )\n",
    "\n",
    "        # Nova coluna com a data_hora_final do status/parada\n",
    "        df[\"data_hora_final\"] = (\n",
    "            df.groupby(\"maquina_id\")[\"data_hora\"].shift(-1).where(~df[\"maquina_id_change\"])\n",
    "        )\n",
    "\n",
    "        # Atualiza a hora final caso mude a máquina\n",
    "        mask = df[\"maquina_id_change\"]\n",
    "        df[\"data_hora_final\"] = np.where(\n",
    "            mask,\n",
    "            df[\"change_date\"].shift(-1),\n",
    "            df[\"data_hora_final\"],\n",
    "        )\n",
    "\n",
    "        # Caso a data_hora_final seja nula, remove a linha\n",
    "        df = df.dropna(subset=[\"data_hora_final\"]).reset_index(drop=True)\n",
    "\n",
    "        # Calcula o tempo de cada status\n",
    "        df[\"tempo\"] = (\n",
    "            pd.to_datetime(df[\"data_hora_final\"]) - pd.to_datetime(df[\"data_hora\"])\n",
    "        ).dt.total_seconds() / 60\n",
    "\n",
    "        # Arredondar e converter para inteiro\n",
    "        df[\"tempo\"] = df[\"tempo\"].round().astype(int)\n",
    "\n",
    "        return df\n",
    "\n",
    "    def get_info_ihm_adjusted(self) -> pd.DataFrame:\n",
    "        \"\"\"\n",
    "        Realiza a leitura, limpeza e junção dos dados de informações e IHM.\n",
    "        Ajusta os dados para o formato correto.\n",
    "        \"\"\"\n",
    "\n",
    "        # Realiza a leitura, limpeza e junção dos dados\n",
    "        df_joined = self.__get_info_ihm()\n",
    "\n",
    "        if df_joined is None:\n",
    "            return None\n",
    "\n",
    "        # ========================= Identifica Onde Há Mudança De Status ========================= #\n",
    "\n",
    "        df_joined = self.__status_change(df_joined)\n",
    "\n",
    "        # ========================= Preenchendo Valores Nulos De Paradas ========================= #\n",
    "\n",
    "        # Cria um grupo para cada mudança de status\n",
    "        df_joined[\"group\"] = df_joined[\"change\"].cumsum()\n",
    "\n",
    "        # Preenche os valores nulos de paradas\n",
    "        df_joined = self.__fill_occ(df_joined)\n",
    "\n",
    "        # Coluna auxiliar para identificar mudança na coluna motivo, se não for nula\n",
    "        mask = (df_joined[\"motivo\"].ne(df_joined[\"motivo\"].shift())) | (\n",
    "            df_joined[\"causa\"].ne(df_joined[\"causa\"].shift())\n",
    "        )\n",
    "        df_joined[\"motivo_change\"] = mask & df_joined[\"motivo\"].notnull()\n",
    "\n",
    "        # Atualiza o change\n",
    "        df_joined[\"change\"] = df_joined[\"change\"] | df_joined[\"motivo_change\"]\n",
    "\n",
    "        # Refaz o grupo para considerar a mudança na coluna motivo\n",
    "        df_joined[\"group\"] = df_joined[\"change\"].cumsum()\n",
    "\n",
    "        # Coluna auxiliar para unir data e hora\n",
    "        df_joined[\"data_hora\"] = pd.to_datetime(\n",
    "            df_joined[\"data_registro\"].astype(str) + \" \" + df_joined[\"hora_registro\"].astype(str)\n",
    "        )\n",
    "\n",
    "        # Coluna auxiliar para identificar a data/hora da mudança\n",
    "        df_joined[\"change_date\"] = (\n",
    "            df_joined.groupby(\"maquina_id\")[\"data_hora\"].shift(0).where(df_joined[\"change\"])\n",
    "        )\n",
    "\n",
    "        # ============================ Calcula O Tempo Parada Ou Rodando ========================== #\n",
    "\n",
    "        # Calcula os tempos\n",
    "        df_joined = self.__group_and_calc_time(df_joined)\n",
    "\n",
    "        # Ajustar status para levar em conta testes\n",
    "        mask = (\n",
    "            (df_joined[\"status\"] == \"rodando\")\n",
    "            & (df_joined[\"tempo\"] < 10)\n",
    "            & (df_joined[\"turno\"].eq(df_joined[\"turno\"].shift(-1)))\n",
    "        )\n",
    "\n",
    "        df_joined[\"status\"] = np.where(mask, \"parada\", df_joined[\"status\"])\n",
    "\n",
    "        # Ajuste em change para refletir alterações\n",
    "        df_joined = self.__status_change(df_joined)\n",
    "        df_joined[\"change\"] = df_joined[\"change\"] | df_joined[\"motivo_change\"]\n",
    "\n",
    "        # Refaz o group\n",
    "        df_joined[\"group\"] = df_joined[\"change\"].cumsum()\n",
    "\n",
    "        # Preenche os valores nulos de paradas\n",
    "        df_joined = self.__fill_occ(df_joined)\n",
    "\n",
    "        # Recalcula os tempos\n",
    "        df_joined = self.__group_and_calc_time(df_joined)\n",
    "\n",
    "        # Se o tempo for negativo, ajustar para 0\n",
    "        df_joined[\"tempo\"] = df_joined[\"tempo\"].clip(lower=0)\n",
    "\n",
    "        # Se o tempo for maior que 480 minutos, ajustar para 480\n",
    "        df_joined[\"tempo\"] = df_joined[\"tempo\"].clip(upper=480)\n",
    "\n",
    "        # Remove colunas auxiliares\n",
    "        df_joined = df_joined.drop(\n",
    "            columns=[\n",
    "                \"maquina_id_change\",\n",
    "                \"change\",\n",
    "                \"maquina_id_change\",\n",
    "                \"change_date\",\n",
    "                \"motivo_change\",\n",
    "                \"group\",\n",
    "            ]\n",
    "        )\n",
    "\n",
    "        return df_joined\n",
    "\n",
    "    def get_time_working(self, df: pd.DataFrame) -> pd.Series:\n",
    "        \"\"\"\n",
    "        Calcula o tempo de trabalho de cada máquina.\n",
    "        \"\"\"\n",
    "\n",
    "        # Filtra apenas as máquinas que estão rodando\n",
    "        df = df[df[\"status\"] == \"rodando\"]\n",
    "\n",
    "        # Agrupa por máquina e turno\n",
    "        df = (\n",
    "            df.groupby([\"maquina_id\", \"turno\", \"data_registro\", \"status\"], observed=False)[\"tempo\"]\n",
    "            .sum()\n",
    "            .reset_index()\n",
    "        )\n",
    "\n",
    "        # Renomear coluna\n",
    "        df = df.rename(columns={\"status\": \"motivo\"})\n",
    "\n",
    "        # Capitaliza o motivo\n",
    "        df[\"motivo\"] = df[\"motivo\"].str.capitalize()\n",
    "\n",
    "        return df\n",
    "\n",
    "    def get_maq_stopped(self, df: pd.DataFrame) -> pd.Series:\n",
    "\n",
    "        # Filtra apenas as máquinas que estão paradas\n",
    "        df = df[df[\"status\"] == \"parada\"]\n",
    "\n",
    "        # Reinicia o índice\n",
    "        df = df.reset_index(drop=True)\n",
    "\n",
    "        return df\n",
    "\n",
    "\n",
    "service_info_ihm = ServiceInfoIHM()"
   ]
  },
  {
   "cell_type": "markdown",
   "metadata": {},
   "source": [
    "## Saídas do serviço\n"
   ]
  },
  {
   "cell_type": "code",
   "execution_count": 156,
   "metadata": {
    "notebookRunGroups": {
     "groupValue": "2"
    }
   },
   "outputs": [
    {
     "name": "stderr",
     "output_type": "stream",
     "text": [
      "C:\\Users\\bruno.thomaz\\AppData\\Local\\Temp\\ipykernel_28920\\1000077382.py:50: FutureWarning:\n",
      "\n",
      "Downcasting object dtype arrays on .fillna, .ffill, .bfill is deprecated and will change in a future version. Call result.infer_objects(copy=False) instead. To opt-in to the future behavior, set `pd.set_option('future.no_silent_downcasting', True)`\n",
      "\n",
      "C:\\Users\\bruno.thomaz\\AppData\\Local\\Temp\\ipykernel_28920\\1000077382.py:52: FutureWarning:\n",
      "\n",
      "Downcasting object dtype arrays on .fillna, .ffill, .bfill is deprecated and will change in a future version. Call result.infer_objects(copy=False) instead. To opt-in to the future behavior, set `pd.set_option('future.no_silent_downcasting', True)`\n",
      "\n",
      "C:\\Users\\bruno.thomaz\\AppData\\Local\\Temp\\ipykernel_28920\\1000077382.py:54: FutureWarning:\n",
      "\n",
      "Downcasting object dtype arrays on .fillna, .ffill, .bfill is deprecated and will change in a future version. Call result.infer_objects(copy=False) instead. To opt-in to the future behavior, set `pd.set_option('future.no_silent_downcasting', True)`\n",
      "\n",
      "C:\\Users\\bruno.thomaz\\AppData\\Local\\Temp\\ipykernel_28920\\1000077382.py:55: FutureWarning:\n",
      "\n",
      "Downcasting object dtype arrays on .fillna, .ffill, .bfill is deprecated and will change in a future version. Call result.infer_objects(copy=False) instead. To opt-in to the future behavior, set `pd.set_option('future.no_silent_downcasting', True)`\n",
      "\n",
      "C:\\Users\\bruno.thomaz\\AppData\\Local\\Temp\\ipykernel_28920\\1000077382.py:56: FutureWarning:\n",
      "\n",
      "Downcasting object dtype arrays on .fillna, .ffill, .bfill is deprecated and will change in a future version. Call result.infer_objects(copy=False) instead. To opt-in to the future behavior, set `pd.set_option('future.no_silent_downcasting', True)`\n",
      "\n",
      "C:\\Users\\bruno.thomaz\\AppData\\Local\\Temp\\ipykernel_28920\\1000077382.py:58: FutureWarning:\n",
      "\n",
      "Downcasting object dtype arrays on .fillna, .ffill, .bfill is deprecated and will change in a future version. Call result.infer_objects(copy=False) instead. To opt-in to the future behavior, set `pd.set_option('future.no_silent_downcasting', True)`\n",
      "\n",
      "C:\\Users\\bruno.thomaz\\AppData\\Local\\Temp\\ipykernel_28920\\1000077382.py:64: FutureWarning:\n",
      "\n",
      "Downcasting object dtype arrays on .fillna, .ffill, .bfill is deprecated and will change in a future version. Call result.infer_objects(copy=False) instead. To opt-in to the future behavior, set `pd.set_option('future.no_silent_downcasting', True)`\n",
      "\n"
     ]
    },
    {
     "data": {
      "text/html": [
       "<div>\n",
       "<style scoped>\n",
       "    .dataframe tbody tr th:only-of-type {\n",
       "        vertical-align: middle;\n",
       "    }\n",
       "\n",
       "    .dataframe tbody tr th {\n",
       "        vertical-align: top;\n",
       "    }\n",
       "\n",
       "    .dataframe thead th {\n",
       "        text-align: right;\n",
       "    }\n",
       "</style>\n",
       "<table border=\"1\" class=\"dataframe\">\n",
       "  <thead>\n",
       "    <tr style=\"text-align: right;\">\n",
       "      <th></th>\n",
       "      <th>fabrica</th>\n",
       "      <th>linha</th>\n",
       "      <th>maquina_id</th>\n",
       "      <th>turno</th>\n",
       "      <th>status</th>\n",
       "      <th>data_registro</th>\n",
       "      <th>hora_registro</th>\n",
       "      <th>motivo</th>\n",
       "      <th>equipamento</th>\n",
       "      <th>problema</th>\n",
       "      <th>causa</th>\n",
       "      <th>os_numero</th>\n",
       "      <th>operador_id</th>\n",
       "      <th>data_registro_ihm</th>\n",
       "      <th>hora_registro_ihm</th>\n",
       "      <th>data_hora</th>\n",
       "      <th>data_hora_final</th>\n",
       "      <th>tempo</th>\n",
       "    </tr>\n",
       "  </thead>\n",
       "  <tbody>\n",
       "    <tr>\n",
       "      <th>0</th>\n",
       "      <td>1</td>\n",
       "      <td>1</td>\n",
       "      <td>TMF003</td>\n",
       "      <td>NOT</td>\n",
       "      <td>parada</td>\n",
       "      <td>2024-05-01</td>\n",
       "      <td>00:01:06</td>\n",
       "      <td>Parada Programada</td>\n",
       "      <td>None</td>\n",
       "      <td>Parada Planejada</td>\n",
       "      <td>Backup</td>\n",
       "      <td>None</td>\n",
       "      <td>002357</td>\n",
       "      <td>2024-05-01</td>\n",
       "      <td>06:47:36</td>\n",
       "      <td>2024-05-01 00:01:06</td>\n",
       "      <td>2024-05-01 08:01:08</td>\n",
       "      <td>480</td>\n",
       "    </tr>\n",
       "    <tr>\n",
       "      <th>1</th>\n",
       "      <td>1</td>\n",
       "      <td>1</td>\n",
       "      <td>TMF003</td>\n",
       "      <td>MAT</td>\n",
       "      <td>parada</td>\n",
       "      <td>2024-05-01</td>\n",
       "      <td>08:01:08</td>\n",
       "      <td>Parada Programada</td>\n",
       "      <td>None</td>\n",
       "      <td>Parada Planejada</td>\n",
       "      <td>Sem Produção</td>\n",
       "      <td>None</td>\n",
       "      <td>002357</td>\n",
       "      <td>2024-05-01</td>\n",
       "      <td>11:28:20</td>\n",
       "      <td>2024-05-01 08:01:08</td>\n",
       "      <td>2024-05-01 16:01:09</td>\n",
       "      <td>480</td>\n",
       "    </tr>\n",
       "    <tr>\n",
       "      <th>2</th>\n",
       "      <td>1</td>\n",
       "      <td>1</td>\n",
       "      <td>TMF003</td>\n",
       "      <td>VES</td>\n",
       "      <td>parada</td>\n",
       "      <td>2024-05-01</td>\n",
       "      <td>16:01:09</td>\n",
       "      <td>None</td>\n",
       "      <td>None</td>\n",
       "      <td>None</td>\n",
       "      <td>None</td>\n",
       "      <td>None</td>\n",
       "      <td>None</td>\n",
       "      <td>NaT</td>\n",
       "      <td>None</td>\n",
       "      <td>2024-05-01 16:01:09</td>\n",
       "      <td>2024-05-02 00:01:10</td>\n",
       "      <td>480</td>\n",
       "    </tr>\n",
       "    <tr>\n",
       "      <th>3</th>\n",
       "      <td>1</td>\n",
       "      <td>1</td>\n",
       "      <td>TMF003</td>\n",
       "      <td>NOT</td>\n",
       "      <td>parada</td>\n",
       "      <td>2024-05-02</td>\n",
       "      <td>00:01:10</td>\n",
       "      <td>None</td>\n",
       "      <td>None</td>\n",
       "      <td>None</td>\n",
       "      <td>None</td>\n",
       "      <td>None</td>\n",
       "      <td>None</td>\n",
       "      <td>NaT</td>\n",
       "      <td>None</td>\n",
       "      <td>2024-05-02 00:01:10</td>\n",
       "      <td>2024-05-02 00:21:11</td>\n",
       "      <td>20</td>\n",
       "    </tr>\n",
       "    <tr>\n",
       "      <th>4</th>\n",
       "      <td>1</td>\n",
       "      <td>1</td>\n",
       "      <td>TMF003</td>\n",
       "      <td>NOT</td>\n",
       "      <td>rodando</td>\n",
       "      <td>2024-05-02</td>\n",
       "      <td>00:21:11</td>\n",
       "      <td>None</td>\n",
       "      <td>None</td>\n",
       "      <td>None</td>\n",
       "      <td>None</td>\n",
       "      <td>None</td>\n",
       "      <td>None</td>\n",
       "      <td>NaT</td>\n",
       "      <td>None</td>\n",
       "      <td>2024-05-02 00:21:11</td>\n",
       "      <td>2024-05-02 00:33:11</td>\n",
       "      <td>12</td>\n",
       "    </tr>\n",
       "    <tr>\n",
       "      <th>...</th>\n",
       "      <td>...</td>\n",
       "      <td>...</td>\n",
       "      <td>...</td>\n",
       "      <td>...</td>\n",
       "      <td>...</td>\n",
       "      <td>...</td>\n",
       "      <td>...</td>\n",
       "      <td>...</td>\n",
       "      <td>...</td>\n",
       "      <td>...</td>\n",
       "      <td>...</td>\n",
       "      <td>...</td>\n",
       "      <td>...</td>\n",
       "      <td>...</td>\n",
       "      <td>...</td>\n",
       "      <td>...</td>\n",
       "      <td>...</td>\n",
       "      <td>...</td>\n",
       "    </tr>\n",
       "    <tr>\n",
       "      <th>1254</th>\n",
       "      <td>2</td>\n",
       "      <td>14</td>\n",
       "      <td>TMF009</td>\n",
       "      <td>NOT</td>\n",
       "      <td>parada</td>\n",
       "      <td>2024-05-05</td>\n",
       "      <td>00:01:29</td>\n",
       "      <td>None</td>\n",
       "      <td>None</td>\n",
       "      <td>None</td>\n",
       "      <td>None</td>\n",
       "      <td>None</td>\n",
       "      <td>None</td>\n",
       "      <td>NaT</td>\n",
       "      <td>None</td>\n",
       "      <td>2024-05-05 00:01:29</td>\n",
       "      <td>2024-05-05 08:01:30</td>\n",
       "      <td>480</td>\n",
       "    </tr>\n",
       "    <tr>\n",
       "      <th>1255</th>\n",
       "      <td>2</td>\n",
       "      <td>14</td>\n",
       "      <td>TMF009</td>\n",
       "      <td>MAT</td>\n",
       "      <td>parada</td>\n",
       "      <td>2024-05-05</td>\n",
       "      <td>08:01:30</td>\n",
       "      <td>None</td>\n",
       "      <td>None</td>\n",
       "      <td>None</td>\n",
       "      <td>None</td>\n",
       "      <td>None</td>\n",
       "      <td>None</td>\n",
       "      <td>NaT</td>\n",
       "      <td>None</td>\n",
       "      <td>2024-05-05 08:01:30</td>\n",
       "      <td>2024-05-05 14:55:16</td>\n",
       "      <td>414</td>\n",
       "    </tr>\n",
       "    <tr>\n",
       "      <th>1256</th>\n",
       "      <td>2</td>\n",
       "      <td>14</td>\n",
       "      <td>TMF009</td>\n",
       "      <td>MAT</td>\n",
       "      <td>rodando</td>\n",
       "      <td>2024-05-05</td>\n",
       "      <td>14:55:16</td>\n",
       "      <td>None</td>\n",
       "      <td>None</td>\n",
       "      <td>None</td>\n",
       "      <td>None</td>\n",
       "      <td>None</td>\n",
       "      <td>None</td>\n",
       "      <td>NaT</td>\n",
       "      <td>None</td>\n",
       "      <td>2024-05-05 14:55:16</td>\n",
       "      <td>2024-05-05 15:14:33</td>\n",
       "      <td>19</td>\n",
       "    </tr>\n",
       "    <tr>\n",
       "      <th>1257</th>\n",
       "      <td>2</td>\n",
       "      <td>14</td>\n",
       "      <td>TMF009</td>\n",
       "      <td>MAT</td>\n",
       "      <td>parada</td>\n",
       "      <td>2024-05-05</td>\n",
       "      <td>15:14:33</td>\n",
       "      <td>None</td>\n",
       "      <td>None</td>\n",
       "      <td>None</td>\n",
       "      <td>None</td>\n",
       "      <td>None</td>\n",
       "      <td>None</td>\n",
       "      <td>NaT</td>\n",
       "      <td>None</td>\n",
       "      <td>2024-05-05 15:14:33</td>\n",
       "      <td>2024-05-05 16:03:27</td>\n",
       "      <td>49</td>\n",
       "    </tr>\n",
       "    <tr>\n",
       "      <th>1258</th>\n",
       "      <td>2</td>\n",
       "      <td>14</td>\n",
       "      <td>TMF009</td>\n",
       "      <td>VES</td>\n",
       "      <td>parada</td>\n",
       "      <td>2024-05-05</td>\n",
       "      <td>16:03:27</td>\n",
       "      <td>None</td>\n",
       "      <td>None</td>\n",
       "      <td>None</td>\n",
       "      <td>None</td>\n",
       "      <td>None</td>\n",
       "      <td>None</td>\n",
       "      <td>NaT</td>\n",
       "      <td>None</td>\n",
       "      <td>2024-05-05 16:03:27</td>\n",
       "      <td>2024-05-06 00:01:28</td>\n",
       "      <td>478</td>\n",
       "    </tr>\n",
       "  </tbody>\n",
       "</table>\n",
       "<p>1259 rows × 18 columns</p>\n",
       "</div>"
      ],
      "text/plain": [
       "     fabrica  linha maquina_id turno   status data_registro hora_registro  \\\n",
       "0          1      1     TMF003   NOT   parada    2024-05-01      00:01:06   \n",
       "1          1      1     TMF003   MAT   parada    2024-05-01      08:01:08   \n",
       "2          1      1     TMF003   VES   parada    2024-05-01      16:01:09   \n",
       "3          1      1     TMF003   NOT   parada    2024-05-02      00:01:10   \n",
       "4          1      1     TMF003   NOT  rodando    2024-05-02      00:21:11   \n",
       "...      ...    ...        ...   ...      ...           ...           ...   \n",
       "1254       2     14     TMF009   NOT   parada    2024-05-05      00:01:29   \n",
       "1255       2     14     TMF009   MAT   parada    2024-05-05      08:01:30   \n",
       "1256       2     14     TMF009   MAT  rodando    2024-05-05      14:55:16   \n",
       "1257       2     14     TMF009   MAT   parada    2024-05-05      15:14:33   \n",
       "1258       2     14     TMF009   VES   parada    2024-05-05      16:03:27   \n",
       "\n",
       "                 motivo equipamento          problema         causa os_numero  \\\n",
       "0     Parada Programada        None  Parada Planejada        Backup      None   \n",
       "1     Parada Programada        None  Parada Planejada  Sem Produção      None   \n",
       "2                  None        None              None          None      None   \n",
       "3                  None        None              None          None      None   \n",
       "4                  None        None              None          None      None   \n",
       "...                 ...         ...               ...           ...       ...   \n",
       "1254               None        None              None          None      None   \n",
       "1255               None        None              None          None      None   \n",
       "1256               None        None              None          None      None   \n",
       "1257               None        None              None          None      None   \n",
       "1258               None        None              None          None      None   \n",
       "\n",
       "     operador_id data_registro_ihm hora_registro_ihm           data_hora  \\\n",
       "0         002357        2024-05-01          06:47:36 2024-05-01 00:01:06   \n",
       "1         002357        2024-05-01          11:28:20 2024-05-01 08:01:08   \n",
       "2           None               NaT              None 2024-05-01 16:01:09   \n",
       "3           None               NaT              None 2024-05-02 00:01:10   \n",
       "4           None               NaT              None 2024-05-02 00:21:11   \n",
       "...          ...               ...               ...                 ...   \n",
       "1254        None               NaT              None 2024-05-05 00:01:29   \n",
       "1255        None               NaT              None 2024-05-05 08:01:30   \n",
       "1256        None               NaT              None 2024-05-05 14:55:16   \n",
       "1257        None               NaT              None 2024-05-05 15:14:33   \n",
       "1258        None               NaT              None 2024-05-05 16:03:27   \n",
       "\n",
       "         data_hora_final  tempo  \n",
       "0    2024-05-01 08:01:08    480  \n",
       "1    2024-05-01 16:01:09    480  \n",
       "2    2024-05-02 00:01:10    480  \n",
       "3    2024-05-02 00:21:11     20  \n",
       "4    2024-05-02 00:33:11     12  \n",
       "...                  ...    ...  \n",
       "1254 2024-05-05 08:01:30    480  \n",
       "1255 2024-05-05 14:55:16    414  \n",
       "1256 2024-05-05 15:14:33     19  \n",
       "1257 2024-05-05 16:03:27     49  \n",
       "1258 2024-05-06 00:01:28    478  \n",
       "\n",
       "[1259 rows x 18 columns]"
      ]
     },
     "execution_count": 156,
     "metadata": {},
     "output_type": "execute_result"
    }
   ],
   "source": [
    "df_info_ihm = service_info_ihm.get_info_ihm_adjusted()\n",
    "df_info_ihm"
   ]
  },
  {
   "cell_type": "code",
   "execution_count": 157,
   "metadata": {
    "notebookRunGroups": {
     "groupValue": "2"
    }
   },
   "outputs": [
    {
     "data": {
      "text/html": [
       "<div>\n",
       "<style scoped>\n",
       "    .dataframe tbody tr th:only-of-type {\n",
       "        vertical-align: middle;\n",
       "    }\n",
       "\n",
       "    .dataframe tbody tr th {\n",
       "        vertical-align: top;\n",
       "    }\n",
       "\n",
       "    .dataframe thead th {\n",
       "        text-align: right;\n",
       "    }\n",
       "</style>\n",
       "<table border=\"1\" class=\"dataframe\">\n",
       "  <thead>\n",
       "    <tr style=\"text-align: right;\">\n",
       "      <th></th>\n",
       "      <th>maquina_id</th>\n",
       "      <th>turno</th>\n",
       "      <th>data_registro</th>\n",
       "      <th>motivo</th>\n",
       "      <th>tempo</th>\n",
       "    </tr>\n",
       "  </thead>\n",
       "  <tbody>\n",
       "    <tr>\n",
       "      <th>0</th>\n",
       "      <td>TMF001</td>\n",
       "      <td>MAT</td>\n",
       "      <td>2024-05-02</td>\n",
       "      <td>Rodando</td>\n",
       "      <td>400</td>\n",
       "    </tr>\n",
       "    <tr>\n",
       "      <th>1</th>\n",
       "      <td>TMF001</td>\n",
       "      <td>MAT</td>\n",
       "      <td>2024-05-03</td>\n",
       "      <td>Rodando</td>\n",
       "      <td>346</td>\n",
       "    </tr>\n",
       "    <tr>\n",
       "      <th>2</th>\n",
       "      <td>TMF001</td>\n",
       "      <td>MAT</td>\n",
       "      <td>2024-05-04</td>\n",
       "      <td>Rodando</td>\n",
       "      <td>322</td>\n",
       "    </tr>\n",
       "    <tr>\n",
       "      <th>3</th>\n",
       "      <td>TMF001</td>\n",
       "      <td>MAT</td>\n",
       "      <td>2024-05-06</td>\n",
       "      <td>Rodando</td>\n",
       "      <td>311</td>\n",
       "    </tr>\n",
       "    <tr>\n",
       "      <th>4</th>\n",
       "      <td>TMF001</td>\n",
       "      <td>NOT</td>\n",
       "      <td>2024-05-02</td>\n",
       "      <td>Rodando</td>\n",
       "      <td>194</td>\n",
       "    </tr>\n",
       "    <tr>\n",
       "      <th>...</th>\n",
       "      <td>...</td>\n",
       "      <td>...</td>\n",
       "      <td>...</td>\n",
       "      <td>...</td>\n",
       "      <td>...</td>\n",
       "    </tr>\n",
       "    <tr>\n",
       "      <th>106</th>\n",
       "      <td>TMF013</td>\n",
       "      <td>MAT</td>\n",
       "      <td>2024-05-04</td>\n",
       "      <td>Rodando</td>\n",
       "      <td>238</td>\n",
       "    </tr>\n",
       "    <tr>\n",
       "      <th>107</th>\n",
       "      <td>TMF013</td>\n",
       "      <td>VES</td>\n",
       "      <td>2024-05-04</td>\n",
       "      <td>Rodando</td>\n",
       "      <td>42</td>\n",
       "    </tr>\n",
       "    <tr>\n",
       "      <th>108</th>\n",
       "      <td>TMF014</td>\n",
       "      <td>MAT</td>\n",
       "      <td>2024-05-03</td>\n",
       "      <td>Rodando</td>\n",
       "      <td>208</td>\n",
       "    </tr>\n",
       "    <tr>\n",
       "      <th>109</th>\n",
       "      <td>TMF014</td>\n",
       "      <td>NOT</td>\n",
       "      <td>2024-05-03</td>\n",
       "      <td>Rodando</td>\n",
       "      <td>402</td>\n",
       "    </tr>\n",
       "    <tr>\n",
       "      <th>110</th>\n",
       "      <td>TMF014</td>\n",
       "      <td>VES</td>\n",
       "      <td>2024-05-02</td>\n",
       "      <td>Rodando</td>\n",
       "      <td>20</td>\n",
       "    </tr>\n",
       "  </tbody>\n",
       "</table>\n",
       "<p>111 rows × 5 columns</p>\n",
       "</div>"
      ],
      "text/plain": [
       "    maquina_id turno data_registro   motivo  tempo\n",
       "0       TMF001   MAT    2024-05-02  Rodando    400\n",
       "1       TMF001   MAT    2024-05-03  Rodando    346\n",
       "2       TMF001   MAT    2024-05-04  Rodando    322\n",
       "3       TMF001   MAT    2024-05-06  Rodando    311\n",
       "4       TMF001   NOT    2024-05-02  Rodando    194\n",
       "..         ...   ...           ...      ...    ...\n",
       "106     TMF013   MAT    2024-05-04  Rodando    238\n",
       "107     TMF013   VES    2024-05-04  Rodando     42\n",
       "108     TMF014   MAT    2024-05-03  Rodando    208\n",
       "109     TMF014   NOT    2024-05-03  Rodando    402\n",
       "110     TMF014   VES    2024-05-02  Rodando     20\n",
       "\n",
       "[111 rows x 5 columns]"
      ]
     },
     "execution_count": 157,
     "metadata": {},
     "output_type": "execute_result"
    }
   ],
   "source": [
    "df_time_working = service_info_ihm.get_time_working(df_info_ihm.copy())\n",
    "df_time_working"
   ]
  },
  {
   "cell_type": "code",
   "execution_count": 158,
   "metadata": {
    "notebookRunGroups": {
     "groupValue": "2"
    }
   },
   "outputs": [
    {
     "data": {
      "text/html": [
       "<div>\n",
       "<style scoped>\n",
       "    .dataframe tbody tr th:only-of-type {\n",
       "        vertical-align: middle;\n",
       "    }\n",
       "\n",
       "    .dataframe tbody tr th {\n",
       "        vertical-align: top;\n",
       "    }\n",
       "\n",
       "    .dataframe thead th {\n",
       "        text-align: right;\n",
       "    }\n",
       "</style>\n",
       "<table border=\"1\" class=\"dataframe\">\n",
       "  <thead>\n",
       "    <tr style=\"text-align: right;\">\n",
       "      <th></th>\n",
       "      <th>fabrica</th>\n",
       "      <th>linha</th>\n",
       "      <th>maquina_id</th>\n",
       "      <th>turno</th>\n",
       "      <th>status</th>\n",
       "      <th>data_registro</th>\n",
       "      <th>hora_registro</th>\n",
       "      <th>motivo</th>\n",
       "      <th>equipamento</th>\n",
       "      <th>problema</th>\n",
       "      <th>causa</th>\n",
       "      <th>os_numero</th>\n",
       "      <th>operador_id</th>\n",
       "      <th>data_registro_ihm</th>\n",
       "      <th>hora_registro_ihm</th>\n",
       "      <th>data_hora</th>\n",
       "      <th>data_hora_final</th>\n",
       "      <th>tempo</th>\n",
       "    </tr>\n",
       "  </thead>\n",
       "  <tbody>\n",
       "    <tr>\n",
       "      <th>0</th>\n",
       "      <td>1</td>\n",
       "      <td>1</td>\n",
       "      <td>TMF003</td>\n",
       "      <td>NOT</td>\n",
       "      <td>parada</td>\n",
       "      <td>2024-05-01</td>\n",
       "      <td>00:01:06</td>\n",
       "      <td>Parada Programada</td>\n",
       "      <td>None</td>\n",
       "      <td>Parada Planejada</td>\n",
       "      <td>Backup</td>\n",
       "      <td>None</td>\n",
       "      <td>002357</td>\n",
       "      <td>2024-05-01</td>\n",
       "      <td>06:47:36</td>\n",
       "      <td>2024-05-01 00:01:06</td>\n",
       "      <td>2024-05-01 08:01:08</td>\n",
       "      <td>480</td>\n",
       "    </tr>\n",
       "    <tr>\n",
       "      <th>1</th>\n",
       "      <td>1</td>\n",
       "      <td>1</td>\n",
       "      <td>TMF003</td>\n",
       "      <td>MAT</td>\n",
       "      <td>parada</td>\n",
       "      <td>2024-05-01</td>\n",
       "      <td>08:01:08</td>\n",
       "      <td>Parada Programada</td>\n",
       "      <td>None</td>\n",
       "      <td>Parada Planejada</td>\n",
       "      <td>Sem Produção</td>\n",
       "      <td>None</td>\n",
       "      <td>002357</td>\n",
       "      <td>2024-05-01</td>\n",
       "      <td>11:28:20</td>\n",
       "      <td>2024-05-01 08:01:08</td>\n",
       "      <td>2024-05-01 16:01:09</td>\n",
       "      <td>480</td>\n",
       "    </tr>\n",
       "    <tr>\n",
       "      <th>2</th>\n",
       "      <td>1</td>\n",
       "      <td>1</td>\n",
       "      <td>TMF003</td>\n",
       "      <td>VES</td>\n",
       "      <td>parada</td>\n",
       "      <td>2024-05-01</td>\n",
       "      <td>16:01:09</td>\n",
       "      <td>None</td>\n",
       "      <td>None</td>\n",
       "      <td>None</td>\n",
       "      <td>None</td>\n",
       "      <td>None</td>\n",
       "      <td>None</td>\n",
       "      <td>NaT</td>\n",
       "      <td>None</td>\n",
       "      <td>2024-05-01 16:01:09</td>\n",
       "      <td>2024-05-02 00:01:10</td>\n",
       "      <td>480</td>\n",
       "    </tr>\n",
       "    <tr>\n",
       "      <th>3</th>\n",
       "      <td>1</td>\n",
       "      <td>1</td>\n",
       "      <td>TMF003</td>\n",
       "      <td>NOT</td>\n",
       "      <td>parada</td>\n",
       "      <td>2024-05-02</td>\n",
       "      <td>00:01:10</td>\n",
       "      <td>None</td>\n",
       "      <td>None</td>\n",
       "      <td>None</td>\n",
       "      <td>None</td>\n",
       "      <td>None</td>\n",
       "      <td>None</td>\n",
       "      <td>NaT</td>\n",
       "      <td>None</td>\n",
       "      <td>2024-05-02 00:01:10</td>\n",
       "      <td>2024-05-02 00:21:11</td>\n",
       "      <td>20</td>\n",
       "    </tr>\n",
       "    <tr>\n",
       "      <th>4</th>\n",
       "      <td>1</td>\n",
       "      <td>1</td>\n",
       "      <td>TMF003</td>\n",
       "      <td>NOT</td>\n",
       "      <td>parada</td>\n",
       "      <td>2024-05-02</td>\n",
       "      <td>00:33:11</td>\n",
       "      <td>None</td>\n",
       "      <td>None</td>\n",
       "      <td>None</td>\n",
       "      <td>None</td>\n",
       "      <td>None</td>\n",
       "      <td>None</td>\n",
       "      <td>NaT</td>\n",
       "      <td>None</td>\n",
       "      <td>2024-05-02 00:33:11</td>\n",
       "      <td>2024-05-02 01:17:11</td>\n",
       "      <td>44</td>\n",
       "    </tr>\n",
       "    <tr>\n",
       "      <th>...</th>\n",
       "      <td>...</td>\n",
       "      <td>...</td>\n",
       "      <td>...</td>\n",
       "      <td>...</td>\n",
       "      <td>...</td>\n",
       "      <td>...</td>\n",
       "      <td>...</td>\n",
       "      <td>...</td>\n",
       "      <td>...</td>\n",
       "      <td>...</td>\n",
       "      <td>...</td>\n",
       "      <td>...</td>\n",
       "      <td>...</td>\n",
       "      <td>...</td>\n",
       "      <td>...</td>\n",
       "      <td>...</td>\n",
       "      <td>...</td>\n",
       "      <td>...</td>\n",
       "    </tr>\n",
       "    <tr>\n",
       "      <th>664</th>\n",
       "      <td>2</td>\n",
       "      <td>14</td>\n",
       "      <td>TMF009</td>\n",
       "      <td>VES</td>\n",
       "      <td>parada</td>\n",
       "      <td>2024-05-04</td>\n",
       "      <td>16:01:27</td>\n",
       "      <td>None</td>\n",
       "      <td>None</td>\n",
       "      <td>None</td>\n",
       "      <td>None</td>\n",
       "      <td>None</td>\n",
       "      <td>None</td>\n",
       "      <td>NaT</td>\n",
       "      <td>None</td>\n",
       "      <td>2024-05-04 16:01:27</td>\n",
       "      <td>2024-05-05 00:01:29</td>\n",
       "      <td>480</td>\n",
       "    </tr>\n",
       "    <tr>\n",
       "      <th>665</th>\n",
       "      <td>2</td>\n",
       "      <td>14</td>\n",
       "      <td>TMF009</td>\n",
       "      <td>NOT</td>\n",
       "      <td>parada</td>\n",
       "      <td>2024-05-05</td>\n",
       "      <td>00:01:29</td>\n",
       "      <td>None</td>\n",
       "      <td>None</td>\n",
       "      <td>None</td>\n",
       "      <td>None</td>\n",
       "      <td>None</td>\n",
       "      <td>None</td>\n",
       "      <td>NaT</td>\n",
       "      <td>None</td>\n",
       "      <td>2024-05-05 00:01:29</td>\n",
       "      <td>2024-05-05 08:01:30</td>\n",
       "      <td>480</td>\n",
       "    </tr>\n",
       "    <tr>\n",
       "      <th>666</th>\n",
       "      <td>2</td>\n",
       "      <td>14</td>\n",
       "      <td>TMF009</td>\n",
       "      <td>MAT</td>\n",
       "      <td>parada</td>\n",
       "      <td>2024-05-05</td>\n",
       "      <td>08:01:30</td>\n",
       "      <td>None</td>\n",
       "      <td>None</td>\n",
       "      <td>None</td>\n",
       "      <td>None</td>\n",
       "      <td>None</td>\n",
       "      <td>None</td>\n",
       "      <td>NaT</td>\n",
       "      <td>None</td>\n",
       "      <td>2024-05-05 08:01:30</td>\n",
       "      <td>2024-05-05 14:55:16</td>\n",
       "      <td>414</td>\n",
       "    </tr>\n",
       "    <tr>\n",
       "      <th>667</th>\n",
       "      <td>2</td>\n",
       "      <td>14</td>\n",
       "      <td>TMF009</td>\n",
       "      <td>MAT</td>\n",
       "      <td>parada</td>\n",
       "      <td>2024-05-05</td>\n",
       "      <td>15:14:33</td>\n",
       "      <td>None</td>\n",
       "      <td>None</td>\n",
       "      <td>None</td>\n",
       "      <td>None</td>\n",
       "      <td>None</td>\n",
       "      <td>None</td>\n",
       "      <td>NaT</td>\n",
       "      <td>None</td>\n",
       "      <td>2024-05-05 15:14:33</td>\n",
       "      <td>2024-05-05 16:03:27</td>\n",
       "      <td>49</td>\n",
       "    </tr>\n",
       "    <tr>\n",
       "      <th>668</th>\n",
       "      <td>2</td>\n",
       "      <td>14</td>\n",
       "      <td>TMF009</td>\n",
       "      <td>VES</td>\n",
       "      <td>parada</td>\n",
       "      <td>2024-05-05</td>\n",
       "      <td>16:03:27</td>\n",
       "      <td>None</td>\n",
       "      <td>None</td>\n",
       "      <td>None</td>\n",
       "      <td>None</td>\n",
       "      <td>None</td>\n",
       "      <td>None</td>\n",
       "      <td>NaT</td>\n",
       "      <td>None</td>\n",
       "      <td>2024-05-05 16:03:27</td>\n",
       "      <td>2024-05-06 00:01:28</td>\n",
       "      <td>478</td>\n",
       "    </tr>\n",
       "  </tbody>\n",
       "</table>\n",
       "<p>669 rows × 18 columns</p>\n",
       "</div>"
      ],
      "text/plain": [
       "    fabrica  linha maquina_id turno  status data_registro hora_registro  \\\n",
       "0         1      1     TMF003   NOT  parada    2024-05-01      00:01:06   \n",
       "1         1      1     TMF003   MAT  parada    2024-05-01      08:01:08   \n",
       "2         1      1     TMF003   VES  parada    2024-05-01      16:01:09   \n",
       "3         1      1     TMF003   NOT  parada    2024-05-02      00:01:10   \n",
       "4         1      1     TMF003   NOT  parada    2024-05-02      00:33:11   \n",
       "..      ...    ...        ...   ...     ...           ...           ...   \n",
       "664       2     14     TMF009   VES  parada    2024-05-04      16:01:27   \n",
       "665       2     14     TMF009   NOT  parada    2024-05-05      00:01:29   \n",
       "666       2     14     TMF009   MAT  parada    2024-05-05      08:01:30   \n",
       "667       2     14     TMF009   MAT  parada    2024-05-05      15:14:33   \n",
       "668       2     14     TMF009   VES  parada    2024-05-05      16:03:27   \n",
       "\n",
       "                motivo equipamento          problema         causa os_numero  \\\n",
       "0    Parada Programada        None  Parada Planejada        Backup      None   \n",
       "1    Parada Programada        None  Parada Planejada  Sem Produção      None   \n",
       "2                 None        None              None          None      None   \n",
       "3                 None        None              None          None      None   \n",
       "4                 None        None              None          None      None   \n",
       "..                 ...         ...               ...           ...       ...   \n",
       "664               None        None              None          None      None   \n",
       "665               None        None              None          None      None   \n",
       "666               None        None              None          None      None   \n",
       "667               None        None              None          None      None   \n",
       "668               None        None              None          None      None   \n",
       "\n",
       "    operador_id data_registro_ihm hora_registro_ihm           data_hora  \\\n",
       "0        002357        2024-05-01          06:47:36 2024-05-01 00:01:06   \n",
       "1        002357        2024-05-01          11:28:20 2024-05-01 08:01:08   \n",
       "2          None               NaT              None 2024-05-01 16:01:09   \n",
       "3          None               NaT              None 2024-05-02 00:01:10   \n",
       "4          None               NaT              None 2024-05-02 00:33:11   \n",
       "..          ...               ...               ...                 ...   \n",
       "664        None               NaT              None 2024-05-04 16:01:27   \n",
       "665        None               NaT              None 2024-05-05 00:01:29   \n",
       "666        None               NaT              None 2024-05-05 08:01:30   \n",
       "667        None               NaT              None 2024-05-05 15:14:33   \n",
       "668        None               NaT              None 2024-05-05 16:03:27   \n",
       "\n",
       "        data_hora_final  tempo  \n",
       "0   2024-05-01 08:01:08    480  \n",
       "1   2024-05-01 16:01:09    480  \n",
       "2   2024-05-02 00:01:10    480  \n",
       "3   2024-05-02 00:21:11     20  \n",
       "4   2024-05-02 01:17:11     44  \n",
       "..                  ...    ...  \n",
       "664 2024-05-05 00:01:29    480  \n",
       "665 2024-05-05 08:01:30    480  \n",
       "666 2024-05-05 14:55:16    414  \n",
       "667 2024-05-05 16:03:27     49  \n",
       "668 2024-05-06 00:01:28    478  \n",
       "\n",
       "[669 rows x 18 columns]"
      ]
     },
     "execution_count": 158,
     "metadata": {},
     "output_type": "execute_result"
    }
   ],
   "source": [
    "df_maq_stopped = service_info_ihm.get_maq_stopped(df_info_ihm.copy())\n",
    "df_maq_stopped"
   ]
  },
  {
   "cell_type": "markdown",
   "metadata": {},
   "source": [
    "# Dados de Saída\n"
   ]
  },
  {
   "cell_type": "code",
   "execution_count": 159,
   "metadata": {
    "notebookRunGroups": {
     "groupValue": "2"
    }
   },
   "outputs": [
    {
     "name": "stdout",
     "output_type": "stream",
     "text": [
      "Maquina Parada --> Linhas x Colunas: (669, 18)\n",
      "---------------------------------------\n",
      "Maquina Parada --> Memória Ocupada: 0.09 MB\n",
      "---------------------------------------\n",
      "Maquina Parada --> Tipos:\n",
      "fabrica                      object\n",
      "linha                         int32\n",
      "maquina_id                   object\n",
      "turno                        object\n",
      "status                       object\n",
      "data_registro        datetime64[ns]\n",
      "hora_registro                object\n",
      "motivo                       object\n",
      "equipamento                  object\n",
      "problema                     object\n",
      "causa                        object\n",
      "os_numero                    object\n",
      "operador_id                  object\n",
      "data_registro_ihm    datetime64[ns]\n",
      "hora_registro_ihm            object\n",
      "data_hora            datetime64[ns]\n",
      "data_hora_final      datetime64[ns]\n",
      "tempo                         int32\n",
      "dtype: object\n"
     ]
    }
   ],
   "source": [
    "print(f\"Maquina Parada --> Linhas x Colunas: {df_maq_stopped.shape}\")\n",
    "print(\"---------------------------------------\")\n",
    "print(\n",
    "    f\"Maquina Parada --> Memória Ocupada: {df_maq_stopped.memory_usage().sum() / 1024 ** 2:.2f} MB\"\n",
    ")\n",
    "print(\"---------------------------------------\")\n",
    "print(f\"Maquina Parada --> Tipos:\\n{df_maq_stopped.dtypes}\")"
   ]
  },
  {
   "cell_type": "code",
   "execution_count": 160,
   "metadata": {
    "notebookRunGroups": {
     "groupValue": "2"
    }
   },
   "outputs": [
    {
     "name": "stdout",
     "output_type": "stream",
     "text": [
      "Tempo de Trabalho --> Linhas x Colunas: (111, 5)\n",
      "---------------------------------------\n",
      "Tempo de Trabalho --> Memória Ocupada: 0.00 MB\n",
      "---------------------------------------\n",
      "Tempo de Trabalho --> Tipos:\n",
      "maquina_id               object\n",
      "turno                    object\n",
      "data_registro    datetime64[ns]\n",
      "motivo                   object\n",
      "tempo                     int32\n",
      "dtype: object\n"
     ]
    }
   ],
   "source": [
    "print(f\"Tempo de Trabalho --> Linhas x Colunas: {df_time_working.shape}\")\n",
    "print(\"---------------------------------------\")\n",
    "print(\n",
    "    f\"Tempo de Trabalho --> Memória Ocupada: {df_time_working.memory_usage().sum() / 1024 ** 2:.2f} MB\"\n",
    ")\n",
    "print(\"---------------------------------------\")\n",
    "print(f\"Tempo de Trabalho --> Tipos:\\n{df_time_working.dtypes}\")"
   ]
  },
  {
   "cell_type": "code",
   "execution_count": 161,
   "metadata": {
    "notebookRunGroups": {
     "groupValue": "2"
    }
   },
   "outputs": [
    {
     "name": "stdout",
     "output_type": "stream",
     "text": [
      "Informações --> Linhas x Colunas: (1259, 18)\n",
      "---------------------------------------\n",
      "Informações --> Memória Ocupada: 0.16 MB\n",
      "---------------------------------------\n",
      "Informações --> Tipos:\n",
      "fabrica                      object\n",
      "linha                         int32\n",
      "maquina_id                   object\n",
      "turno                        object\n",
      "status                       object\n",
      "data_registro        datetime64[ns]\n",
      "hora_registro                object\n",
      "motivo                       object\n",
      "equipamento                  object\n",
      "problema                     object\n",
      "causa                        object\n",
      "os_numero                    object\n",
      "operador_id                  object\n",
      "data_registro_ihm    datetime64[ns]\n",
      "hora_registro_ihm            object\n",
      "data_hora            datetime64[ns]\n",
      "data_hora_final      datetime64[ns]\n",
      "tempo                         int32\n",
      "dtype: object\n"
     ]
    }
   ],
   "source": [
    "print(f\"Informações --> Linhas x Colunas: {df_info_ihm.shape}\")\n",
    "print(\"---------------------------------------\")\n",
    "print(f\"Informações --> Memória Ocupada: {df_info_ihm.memory_usage().sum() / 1024 ** 2:.2f} MB\")\n",
    "print(\"---------------------------------------\")\n",
    "print(f\"Informações --> Tipos:\\n{df_info_ihm.dtypes}\")"
   ]
  },
  {
   "cell_type": "code",
   "execution_count": 162,
   "metadata": {
    "notebookRunGroups": {
     "groupValue": "2"
    }
   },
   "outputs": [
    {
     "name": "stdout",
     "output_type": "stream",
     "text": [
      "Produção --> Linhas x Colunas: (209, 8)\n",
      "---------------------------------------\n",
      "Produção --> Memória Ocupada: 0.01 MB\n",
      "---------------------------------------\n",
      "Produção --> Tipos:\n",
      "fabrica                    object\n",
      "linha                       int32\n",
      "maquina_id                 object\n",
      "turno                      object\n",
      "total_ciclos              float64\n",
      "total_produzido           float64\n",
      "data_registro      datetime64[ns]\n",
      "hora_registro              object\n",
      "dtype: object\n"
     ]
    }
   ],
   "source": [
    "print(f\"Produção --> Linhas x Colunas: {df_info_production_cleaned.shape}\")\n",
    "print(\"---------------------------------------\")\n",
    "print(\n",
    "    f\"Produção --> Memória Ocupada: {df_info_production_cleaned.memory_usage().sum() / 1024 ** 2:.2f} MB\"\n",
    ")\n",
    "print(\"---------------------------------------\")\n",
    "print(f\"Produção --> Tipos:\\n{df_info_production_cleaned.dtypes}\")"
   ]
  },
  {
   "cell_type": "markdown",
   "metadata": {},
   "source": [
    "# Análise de Dados\n"
   ]
  },
  {
   "cell_type": "markdown",
   "metadata": {},
   "source": [
    "## Eficiência, Performance e Reparos de Máquina/Linha\n"
   ]
  },
  {
   "cell_type": "code",
   "execution_count": 177,
   "metadata": {
    "notebookRunGroups": {
     "groupValue": "2"
    }
   },
   "outputs": [],
   "source": [
    "# cspell: words producao\n",
    "\n",
    "\n",
    "class DataAnalysis:\n",
    "    def __init__(self, df_stops: pd.DataFrame, df_prod: pd.DataFrame):\n",
    "        self.df_stops = df_stops\n",
    "        self.df_prod = df_prod\n",
    "\n",
    "        # Dicionário com descontos de Eficiência\n",
    "        self.desc_eff = {\n",
    "            \"Troca de Sabor\": 15,\n",
    "            \"Troca de Produto\": 35,\n",
    "            \"Refeição\": 60,\n",
    "            \"Café e Ginástica Laboral\": 10,\n",
    "            \"Treinamento\": 60,\n",
    "        }\n",
    "\n",
    "        # Dicionário com descontos de Performance\n",
    "        self.desc_perf = {\n",
    "            \"Troca de Sabor\": 15,\n",
    "            \"Refeição\": 60,\n",
    "            \"Café e Ginástica Laboral\": 10,\n",
    "            \"Treinamento\": 60,\n",
    "        }\n",
    "\n",
    "        # Dicionário com descontos de Reparo\n",
    "        self.desc_rep = {\"Troca de Produto\": 35}\n",
    "\n",
    "        # Dicionário com o que não afeta a eficiência\n",
    "        self.not_eff = [\"Sem Produção\", \"Backup\"]\n",
    "\n",
    "        # Dicionário com o que não afeta a performance\n",
    "        self.not_perf = [\n",
    "            \"Sem Produção\",\n",
    "            \"Backup\",\n",
    "            \"Limpeza para parada de Fábrica\",\n",
    "            \"Risco de Contaminação\",\n",
    "            \"Parâmetros de Qualidade\",\n",
    "            \"Manutenção\",\n",
    "        ]\n",
    "\n",
    "        # Dicionário com o que afeta o reparo\n",
    "        self.afeta_rep = [\"Manutenção\", \"Troca de Produtos\"]\n",
    "\n",
    "    def get_discount(\n",
    "        self,\n",
    "        df: pd.DataFrame,\n",
    "        desc_dict: dict[str, int],\n",
    "        not_dict: list[str],\n",
    "        indicator: IndicatorType,\n",
    "    ) -> pd.DataFrame:\n",
    "        \"\"\"\n",
    "        Calcula o desconto de eficiência, performance ou reparo.\n",
    "        \"\"\"\n",
    "\n",
    "        # Cria uma coluna com o desconto padrão\n",
    "        df[\"desconto\"] = 0\n",
    "\n",
    "        # Caso o motivo, problema ou causa não afete o indicador, o desconto é igual a tempo\n",
    "        mask = (\n",
    "            df[[\"motivo\", \"problema\", \"causa\"]]\n",
    "            .apply(lambda x: x.str.contains(\"|\".join(not_dict), case=False, na=False))\n",
    "            .any(axis=1)\n",
    "        )\n",
    "        df.loc[mask, \"desconto\"] = df[\"tempo\"] if not IndicatorType.REPAIR else 0\n",
    "\n",
    "        # Cria um dict para indicadores\n",
    "        indicator_dict = {\n",
    "            IndicatorType.EFFICIENCY: df,\n",
    "            IndicatorType.PERFORMANCE: df[~mask],\n",
    "            IndicatorType.REPAIR: df[mask],\n",
    "        }\n",
    "\n",
    "        df = indicator_dict[indicator].reset_index(drop=True)\n",
    "\n",
    "        # Aplica o desconto de acordo com as colunas \"motivo\" ou \"problema\" ou \"causa\"\n",
    "        for key, value in desc_dict.items():\n",
    "            mask = (\n",
    "                df[[\"motivo\", \"problema\", \"causa\"]]\n",
    "                .apply(lambda x: x.str.contains(key, case=False, na=False))\n",
    "                .any(axis=1)\n",
    "            )\n",
    "            df.loc[mask, \"desconto\"] = value\n",
    "\n",
    "        # Caso o desconto seja maior que o tempo, o desconto deve ser igual ao tempo\n",
    "        df.loc[:, \"desconto\"] = df[[\"desconto\", \"tempo\"]].min(axis=1)\n",
    "\n",
    "        # Calcula o excedente\n",
    "        df.loc[:, \"excedente\"] = (df[\"tempo\"] - df[\"desconto\"]).clip(lower=0)\n",
    "\n",
    "        return df\n",
    "\n",
    "    def __get_elapsed_time(self, turno: str) -> int:\n",
    "        \"\"\"\n",
    "        Calcula o tempo decorrido do turno.\n",
    "        \"\"\"\n",
    "\n",
    "        # Agora\n",
    "        now = datetime.now()\n",
    "\n",
    "        if turno == \"MAT\" and 8 <= now.hour < 16:\n",
    "            elapsed_time = now - datetime(now.year, now.month, now.day, 8, 0, 0)\n",
    "        elif turno == \"VES\" and 16 <= now.hour < 24:\n",
    "            elapsed_time = now - datetime(now.year, now.month, now.day, 16, 0, 0)\n",
    "        elif turno == \"NOT\" and 0 <= now.hour < 8:\n",
    "            elapsed_time = now - datetime(now.year, now.month, now.day, 0, 0, 0)\n",
    "        else:\n",
    "            return 480\n",
    "\n",
    "        return elapsed_time.total_seconds() / 60\n",
    "\n",
    "    def __get_expected_production_time(self, df: pd.DataFrame) -> pd.DataFrame:\n",
    "        \"\"\"\n",
    "        Calcula o tempo esperado de produção.\n",
    "        \"\"\"\n",
    "\n",
    "        df[\"tempo_esperado\"] = df.apply(\n",
    "            lambda row: (\n",
    "                np.floor(self.__get_elapsed_time(row[\"turno\"]) - row[\"desconto\"])\n",
    "                if row[\"data_registro\"].date() == pd.to_datetime(\"today\").date()\n",
    "                else 480 - row[\"desconto\"]\n",
    "            ),\n",
    "            axis=1,\n",
    "        )\n",
    "\n",
    "        return df\n",
    "\n",
    "    def get_eff_data(self) -> pd.DataFrame:\n",
    "        \"\"\"\n",
    "        Calcula o desconto de eficiência.\n",
    "        \"\"\"\n",
    "\n",
    "        df = self.df_stops\n",
    "        df_prod = self.df_prod\n",
    "\n",
    "        # Calcula o desconto de eficiência\n",
    "        df = self.get_discount(df, self.desc_eff, self.not_eff, IndicatorType.EFFICIENCY)\n",
    "        ciclo_ideal = 10.6\n",
    "\n",
    "        # Agrupa para ter o valor total de desconto\n",
    "        df = (\n",
    "            df.groupby([\"maquina_id\", \"linha\", \"data_registro\", \"turno\"], observed=False)\n",
    "            .agg(\n",
    "                tempo=(\"tempo\", \"sum\"),\n",
    "                desconto=(\"desconto\", \"sum\"),\n",
    "                excedente=(\"excedente\", \"sum\"),\n",
    "            )\n",
    "            .reset_index()\n",
    "        )\n",
    "\n",
    "        # Une os dois dataframes\n",
    "        df = pd.merge(df_prod, df, on=[\"maquina_id\", \"linha\", \"data_registro\", \"turno\"], how=\"left\")\n",
    "\n",
    "        # Lida com valores nulos\n",
    "        df = df.fillna(0)\n",
    "\n",
    "        # Nova coluna para tempo esperado de produção\n",
    "        df = self.__get_expected_production_time(df)\n",
    "\n",
    "        # Nova coluna para produção esperada\n",
    "        df[\"producao_esperada\"] = (df[\"tempo_esperado\"] * ciclo_ideal) * 2\n",
    "\n",
    "        # Nova coluna para eficiência\n",
    "        df[\"eficiencia\"] = (df[\"total_produzido\"] / df[\"producao_esperada\"]).round(2)\n",
    "\n",
    "        # Corrige valores nulos ou inf de eficiência\n",
    "        df[\"eficiencia\"] = df[\"eficiencia\"].replace([np.inf, -np.inf], np.nan).fillna(0)\n",
    "\n",
    "        # Se a produção esperada for 0 e a eficiência for 0, tornar a eficiência np.nan\n",
    "        mask = (df[\"producao_esperada\"] == 0) & (df[\"eficiencia\"] == 0)\n",
    "        df.loc[mask, \"eficiencia\"] = np.nan\n",
    "\n",
    "        # Ordenar as colunas\n",
    "        df = df[\n",
    "            [\n",
    "                \"fabrica\",\n",
    "                \"linha\",\n",
    "                \"maquina_id\",\n",
    "                \"turno\",\n",
    "                \"data_registro\",\n",
    "                \"hora_registro\",\n",
    "                \"tempo\",\n",
    "                \"total_produzido\",\n",
    "                \"producao_esperada\",\n",
    "                \"tempo_esperado\",\n",
    "                \"desconto\",\n",
    "                \"excedente\",\n",
    "                \"eficiencia\",\n",
    "            ]\n",
    "        ]\n",
    "\n",
    "        return df\n",
    "\n",
    "    def get_perf_data(self) -> pd.DataFrame:\n",
    "        \"\"\"\n",
    "        Calcula o desconto de performance.\n",
    "        \"\"\"\n",
    "\n",
    "        df = self.df_stops\n",
    "        df_prod = self.df_prod\n",
    "\n",
    "        # Dataframe com datas e turnos onde a causa está em not_eff e o tempo é igual a 480\n",
    "        mask = (df[\"causa\"].isin(self.not_perf)) & (df[\"tempo\"] == 480)\n",
    "        paradas_programadas = df[mask][[\"data_registro\", \"turno\"]]  # Para performance ser np.nan\n",
    "\n",
    "        # Calcula o desconto de performance e filtra para remover linhas que não afetam a performance\n",
    "        df = self.get_discount(df, self.desc_perf, self.not_perf, IndicatorType.PERFORMANCE)\n",
    "\n",
    "        # Agrupa para ter o valor total de desconto\n",
    "        df = (\n",
    "            df.groupby([\"maquina_id\", \"linha\", \"data_registro\", \"turno\"], observed=False)\n",
    "            .agg(\n",
    "                tempo=(\"tempo\", \"sum\"),\n",
    "                desconto=(\"desconto\", \"sum\"),\n",
    "                afeta=(\"excedente\", \"sum\"),\n",
    "            )\n",
    "            .reset_index()\n",
    "        )\n",
    "\n",
    "        # Une os dois dataframes\n",
    "        df = pd.merge(df_prod, df, on=[\"maquina_id\", \"linha\", \"data_registro\", \"turno\"], how=\"left\")\n",
    "\n",
    "        # Lida com valores nulos\n",
    "        df = df.fillna(0)\n",
    "\n",
    "        # Coluna com tempo esperado de produção\n",
    "        df = self.__get_expected_production_time(df)\n",
    "\n",
    "        # Coluna de Performance\n",
    "        df[\"performance\"] = (df[\"afeta\"] / df[\"tempo_esperado\"]).round(2)\n",
    "\n",
    "        # Corrige valores nulos ou inf de performance\n",
    "        df[\"performance\"] = df[\"performance\"].replace([np.inf, -np.inf], np.nan).fillna(0)\n",
    "\n",
    "        # Se a data e turno estiverem em paradas_programadas, performance é np.nan e o tempo esperado é igual a 0\n",
    "        mask = df[\"data_registro\"].isin(paradas_programadas[\"data_registro\"]) & df[\"turno\"].isin(\n",
    "            paradas_programadas[\"turno\"]\n",
    "        )\n",
    "        df.loc[mask, \"performance\"] = np.nan\n",
    "        df.loc[mask, \"tempo_esperado\"] = 0\n",
    "\n",
    "        # Ordenar as colunas\n",
    "        df = df[\n",
    "            [\n",
    "                \"fabrica\",\n",
    "                \"linha\",\n",
    "                \"maquina_id\",\n",
    "                \"turno\",\n",
    "                \"data_registro\",\n",
    "                \"hora_registro\",\n",
    "                \"tempo\",\n",
    "                \"tempo_esperado\",\n",
    "                \"desconto\",\n",
    "                \"afeta\",\n",
    "                \"performance\",\n",
    "            ]\n",
    "        ]\n",
    "\n",
    "        return df\n",
    "\n",
    "    def get_repair_data(self) -> pd.DataFrame:\n",
    "        \"\"\"\n",
    "        Calcula o desconto de reparo.\n",
    "        \"\"\"\n",
    "\n",
    "        df = self.df_stops\n",
    "        df_prod = self.df_prod\n",
    "\n",
    "        # Dataframe com datas e turnos onde a causa está em not_eff e o tempo é igual a 480\n",
    "        mask = (df[\"causa\"].isin(self.not_perf)) & (df[\"tempo\"] == 480)\n",
    "        paradas_programadas = df[mask][[\"data_registro\", \"turno\"]]  # Para performance ser np.nan\n",
    "\n",
    "        # Calcula o desconto de reparo\n",
    "        df = self.get_discount(df, self.desc_rep, self.afeta_rep, IndicatorType.REPAIR)\n",
    "\n",
    "        # Agrupa para ter o valor total de desconto\n",
    "        df = (\n",
    "            df.groupby([\"maquina_id\", \"linha\", \"data_registro\", \"turno\"], observed=False)\n",
    "            .agg(\n",
    "                tempo=(\"tempo\", \"sum\"),\n",
    "                desconto=(\"desconto\", \"sum\"),\n",
    "                afeta=(\"excedente\", \"sum\"),\n",
    "            )\n",
    "            .reset_index()\n",
    "        )\n",
    "\n",
    "        # Une os dois dataframes\n",
    "        df = pd.merge(df_prod, df, on=[\"maquina_id\", \"linha\", \"data_registro\", \"turno\"], how=\"left\")\n",
    "\n",
    "        # Lida com valores nulos\n",
    "        df = df.fillna(0)\n",
    "\n",
    "        # Coluna com tempo esperado de produção\n",
    "        df = self.__get_expected_production_time(df)\n",
    "\n",
    "        # Coluna de Reparo\n",
    "        df[\"reparo\"] = (df[\"afeta\"] / df[\"tempo_esperado\"]).round(2)\n",
    "\n",
    "        # Corrige valores nulos ou inf de reparo\n",
    "        df[\"reparo\"] = df[\"reparo\"].replace([np.inf, -np.inf], np.nan).fillna(0)\n",
    "\n",
    "        # Se a data e turno estiverem em paradas_programadas, performance é np.nan e o tempo esperado é igual a 0\n",
    "        mask = df[\"data_registro\"].isin(paradas_programadas[\"data_registro\"]) & df[\"turno\"].isin(\n",
    "            paradas_programadas[\"turno\"]\n",
    "        )\n",
    "        df.loc[mask, \"reparo\"] = np.nan\n",
    "        df.loc[mask, \"tempo_esperado\"] = 0\n",
    "\n",
    "        # Ordenar as colunas\n",
    "        df = df[\n",
    "            [\n",
    "                \"fabrica\",\n",
    "                \"linha\",\n",
    "                \"maquina_id\",\n",
    "                \"turno\",\n",
    "                \"data_registro\",\n",
    "                \"hora_registro\",\n",
    "                \"tempo\",\n",
    "                \"tempo_esperado\",\n",
    "                \"desconto\",\n",
    "                \"afeta\",\n",
    "                \"reparo\",\n",
    "            ]\n",
    "        ]\n",
    "\n",
    "        return df\n",
    "\n",
    "\n",
    "data_analysis = DataAnalysis(df_maq_stopped.copy(), df_info_production_cleaned.copy())"
   ]
  },
  {
   "cell_type": "markdown",
   "metadata": {},
   "source": [
    "## Saídas de Eficiência, Performance e Reparos de Máquina/Linha\n"
   ]
  },
  {
   "cell_type": "code",
   "execution_count": 164,
   "metadata": {
    "notebookRunGroups": {
     "groupValue": "2"
    }
   },
   "outputs": [
    {
     "data": {
      "text/html": [
       "<div>\n",
       "<style scoped>\n",
       "    .dataframe tbody tr th:only-of-type {\n",
       "        vertical-align: middle;\n",
       "    }\n",
       "\n",
       "    .dataframe tbody tr th {\n",
       "        vertical-align: top;\n",
       "    }\n",
       "\n",
       "    .dataframe thead th {\n",
       "        text-align: right;\n",
       "    }\n",
       "</style>\n",
       "<table border=\"1\" class=\"dataframe\">\n",
       "  <thead>\n",
       "    <tr style=\"text-align: right;\">\n",
       "      <th></th>\n",
       "      <th>fabrica</th>\n",
       "      <th>linha</th>\n",
       "      <th>maquina_id</th>\n",
       "      <th>turno</th>\n",
       "      <th>data_registro</th>\n",
       "      <th>hora_registro</th>\n",
       "      <th>tempo</th>\n",
       "      <th>total_produzido</th>\n",
       "      <th>producao_esperada</th>\n",
       "      <th>tempo_esperado</th>\n",
       "      <th>desconto</th>\n",
       "      <th>excedente</th>\n",
       "      <th>eficiencia</th>\n",
       "    </tr>\n",
       "  </thead>\n",
       "  <tbody>\n",
       "    <tr>\n",
       "      <th>0</th>\n",
       "      <td>1</td>\n",
       "      <td>1</td>\n",
       "      <td>TMF003</td>\n",
       "      <td>NOT</td>\n",
       "      <td>2024-05-01</td>\n",
       "      <td>07:59:08</td>\n",
       "      <td>480.0</td>\n",
       "      <td>12.0</td>\n",
       "      <td>10176.0</td>\n",
       "      <td>480.0</td>\n",
       "      <td>0.0</td>\n",
       "      <td>480.0</td>\n",
       "      <td>0.00</td>\n",
       "    </tr>\n",
       "    <tr>\n",
       "      <th>1</th>\n",
       "      <td>1</td>\n",
       "      <td>1</td>\n",
       "      <td>TMF003</td>\n",
       "      <td>MAT</td>\n",
       "      <td>2024-05-01</td>\n",
       "      <td>15:59:09</td>\n",
       "      <td>480.0</td>\n",
       "      <td>12.0</td>\n",
       "      <td>10176.0</td>\n",
       "      <td>480.0</td>\n",
       "      <td>0.0</td>\n",
       "      <td>480.0</td>\n",
       "      <td>0.00</td>\n",
       "    </tr>\n",
       "    <tr>\n",
       "      <th>2</th>\n",
       "      <td>1</td>\n",
       "      <td>1</td>\n",
       "      <td>TMF003</td>\n",
       "      <td>VES</td>\n",
       "      <td>2024-05-01</td>\n",
       "      <td>23:59:10</td>\n",
       "      <td>480.0</td>\n",
       "      <td>56.0</td>\n",
       "      <td>10176.0</td>\n",
       "      <td>480.0</td>\n",
       "      <td>0.0</td>\n",
       "      <td>480.0</td>\n",
       "      <td>0.01</td>\n",
       "    </tr>\n",
       "    <tr>\n",
       "      <th>3</th>\n",
       "      <td>1</td>\n",
       "      <td>1</td>\n",
       "      <td>TMF003</td>\n",
       "      <td>NOT</td>\n",
       "      <td>2024-05-02</td>\n",
       "      <td>07:59:12</td>\n",
       "      <td>176.0</td>\n",
       "      <td>6274.0</td>\n",
       "      <td>10176.0</td>\n",
       "      <td>480.0</td>\n",
       "      <td>0.0</td>\n",
       "      <td>176.0</td>\n",
       "      <td>0.62</td>\n",
       "    </tr>\n",
       "    <tr>\n",
       "      <th>4</th>\n",
       "      <td>1</td>\n",
       "      <td>1</td>\n",
       "      <td>TMF003</td>\n",
       "      <td>MAT</td>\n",
       "      <td>2024-05-02</td>\n",
       "      <td>15:59:13</td>\n",
       "      <td>304.0</td>\n",
       "      <td>2116.0</td>\n",
       "      <td>10176.0</td>\n",
       "      <td>480.0</td>\n",
       "      <td>0.0</td>\n",
       "      <td>304.0</td>\n",
       "      <td>0.21</td>\n",
       "    </tr>\n",
       "    <tr>\n",
       "      <th>...</th>\n",
       "      <td>...</td>\n",
       "      <td>...</td>\n",
       "      <td>...</td>\n",
       "      <td>...</td>\n",
       "      <td>...</td>\n",
       "      <td>...</td>\n",
       "      <td>...</td>\n",
       "      <td>...</td>\n",
       "      <td>...</td>\n",
       "      <td>...</td>\n",
       "      <td>...</td>\n",
       "      <td>...</td>\n",
       "      <td>...</td>\n",
       "    </tr>\n",
       "    <tr>\n",
       "      <th>204</th>\n",
       "      <td>2</td>\n",
       "      <td>14</td>\n",
       "      <td>TMF009</td>\n",
       "      <td>NOT</td>\n",
       "      <td>2024-05-05</td>\n",
       "      <td>07:59:30</td>\n",
       "      <td>480.0</td>\n",
       "      <td>0.0</td>\n",
       "      <td>10176.0</td>\n",
       "      <td>480.0</td>\n",
       "      <td>0.0</td>\n",
       "      <td>480.0</td>\n",
       "      <td>0.00</td>\n",
       "    </tr>\n",
       "    <tr>\n",
       "      <th>205</th>\n",
       "      <td>2</td>\n",
       "      <td>14</td>\n",
       "      <td>TMF009</td>\n",
       "      <td>MAT</td>\n",
       "      <td>2024-05-05</td>\n",
       "      <td>15:59:10</td>\n",
       "      <td>463.0</td>\n",
       "      <td>0.0</td>\n",
       "      <td>10176.0</td>\n",
       "      <td>480.0</td>\n",
       "      <td>0.0</td>\n",
       "      <td>463.0</td>\n",
       "      <td>0.00</td>\n",
       "    </tr>\n",
       "    <tr>\n",
       "      <th>206</th>\n",
       "      <td>2</td>\n",
       "      <td>14</td>\n",
       "      <td>TMF009</td>\n",
       "      <td>VES</td>\n",
       "      <td>2024-05-05</td>\n",
       "      <td>23:59:28</td>\n",
       "      <td>478.0</td>\n",
       "      <td>0.0</td>\n",
       "      <td>10176.0</td>\n",
       "      <td>480.0</td>\n",
       "      <td>0.0</td>\n",
       "      <td>478.0</td>\n",
       "      <td>0.00</td>\n",
       "    </tr>\n",
       "    <tr>\n",
       "      <th>207</th>\n",
       "      <td>2</td>\n",
       "      <td>14</td>\n",
       "      <td>TMF009</td>\n",
       "      <td>NOT</td>\n",
       "      <td>2024-05-06</td>\n",
       "      <td>07:59:30</td>\n",
       "      <td>0.0</td>\n",
       "      <td>0.0</td>\n",
       "      <td>10176.0</td>\n",
       "      <td>480.0</td>\n",
       "      <td>0.0</td>\n",
       "      <td>0.0</td>\n",
       "      <td>0.00</td>\n",
       "    </tr>\n",
       "    <tr>\n",
       "      <th>208</th>\n",
       "      <td>2</td>\n",
       "      <td>14</td>\n",
       "      <td>TMF009</td>\n",
       "      <td>MAT</td>\n",
       "      <td>2024-05-06</td>\n",
       "      <td>15:41:31</td>\n",
       "      <td>0.0</td>\n",
       "      <td>0.0</td>\n",
       "      <td>9858.0</td>\n",
       "      <td>465.0</td>\n",
       "      <td>0.0</td>\n",
       "      <td>0.0</td>\n",
       "      <td>0.00</td>\n",
       "    </tr>\n",
       "  </tbody>\n",
       "</table>\n",
       "<p>209 rows × 13 columns</p>\n",
       "</div>"
      ],
      "text/plain": [
       "    fabrica  linha maquina_id turno data_registro hora_registro  tempo  \\\n",
       "0         1      1     TMF003   NOT    2024-05-01      07:59:08  480.0   \n",
       "1         1      1     TMF003   MAT    2024-05-01      15:59:09  480.0   \n",
       "2         1      1     TMF003   VES    2024-05-01      23:59:10  480.0   \n",
       "3         1      1     TMF003   NOT    2024-05-02      07:59:12  176.0   \n",
       "4         1      1     TMF003   MAT    2024-05-02      15:59:13  304.0   \n",
       "..      ...    ...        ...   ...           ...           ...    ...   \n",
       "204       2     14     TMF009   NOT    2024-05-05      07:59:30  480.0   \n",
       "205       2     14     TMF009   MAT    2024-05-05      15:59:10  463.0   \n",
       "206       2     14     TMF009   VES    2024-05-05      23:59:28  478.0   \n",
       "207       2     14     TMF009   NOT    2024-05-06      07:59:30    0.0   \n",
       "208       2     14     TMF009   MAT    2024-05-06      15:41:31    0.0   \n",
       "\n",
       "     total_produzido  producao_esperada  tempo_esperado  desconto  excedente  \\\n",
       "0               12.0            10176.0           480.0       0.0      480.0   \n",
       "1               12.0            10176.0           480.0       0.0      480.0   \n",
       "2               56.0            10176.0           480.0       0.0      480.0   \n",
       "3             6274.0            10176.0           480.0       0.0      176.0   \n",
       "4             2116.0            10176.0           480.0       0.0      304.0   \n",
       "..               ...                ...             ...       ...        ...   \n",
       "204              0.0            10176.0           480.0       0.0      480.0   \n",
       "205              0.0            10176.0           480.0       0.0      463.0   \n",
       "206              0.0            10176.0           480.0       0.0      478.0   \n",
       "207              0.0            10176.0           480.0       0.0        0.0   \n",
       "208              0.0             9858.0           465.0       0.0        0.0   \n",
       "\n",
       "     eficiencia  \n",
       "0          0.00  \n",
       "1          0.00  \n",
       "2          0.01  \n",
       "3          0.62  \n",
       "4          0.21  \n",
       "..          ...  \n",
       "204        0.00  \n",
       "205        0.00  \n",
       "206        0.00  \n",
       "207        0.00  \n",
       "208        0.00  \n",
       "\n",
       "[209 rows x 13 columns]"
      ]
     },
     "execution_count": 164,
     "metadata": {},
     "output_type": "execute_result"
    }
   ],
   "source": [
    "df_eff = data_analysis.get_eff_data()\n",
    "df_eff"
   ]
  },
  {
   "cell_type": "code",
   "execution_count": 165,
   "metadata": {},
   "outputs": [
    {
     "data": {
      "text/html": [
       "<div>\n",
       "<style scoped>\n",
       "    .dataframe tbody tr th:only-of-type {\n",
       "        vertical-align: middle;\n",
       "    }\n",
       "\n",
       "    .dataframe tbody tr th {\n",
       "        vertical-align: top;\n",
       "    }\n",
       "\n",
       "    .dataframe thead th {\n",
       "        text-align: right;\n",
       "    }\n",
       "</style>\n",
       "<table border=\"1\" class=\"dataframe\">\n",
       "  <thead>\n",
       "    <tr style=\"text-align: right;\">\n",
       "      <th></th>\n",
       "      <th>fabrica</th>\n",
       "      <th>linha</th>\n",
       "      <th>maquina_id</th>\n",
       "      <th>turno</th>\n",
       "      <th>data_registro</th>\n",
       "      <th>hora_registro</th>\n",
       "      <th>tempo</th>\n",
       "      <th>tempo_esperado</th>\n",
       "      <th>desconto</th>\n",
       "      <th>afeta</th>\n",
       "      <th>performance</th>\n",
       "    </tr>\n",
       "  </thead>\n",
       "  <tbody>\n",
       "    <tr>\n",
       "      <th>0</th>\n",
       "      <td>1</td>\n",
       "      <td>1</td>\n",
       "      <td>TMF003</td>\n",
       "      <td>NOT</td>\n",
       "      <td>2024-05-01</td>\n",
       "      <td>07:59:08</td>\n",
       "      <td>0.0</td>\n",
       "      <td>0.0</td>\n",
       "      <td>0.0</td>\n",
       "      <td>0.0</td>\n",
       "      <td>NaN</td>\n",
       "    </tr>\n",
       "    <tr>\n",
       "      <th>1</th>\n",
       "      <td>1</td>\n",
       "      <td>1</td>\n",
       "      <td>TMF003</td>\n",
       "      <td>MAT</td>\n",
       "      <td>2024-05-01</td>\n",
       "      <td>15:59:09</td>\n",
       "      <td>0.0</td>\n",
       "      <td>0.0</td>\n",
       "      <td>0.0</td>\n",
       "      <td>0.0</td>\n",
       "      <td>NaN</td>\n",
       "    </tr>\n",
       "    <tr>\n",
       "      <th>2</th>\n",
       "      <td>1</td>\n",
       "      <td>1</td>\n",
       "      <td>TMF003</td>\n",
       "      <td>VES</td>\n",
       "      <td>2024-05-01</td>\n",
       "      <td>23:59:10</td>\n",
       "      <td>480.0</td>\n",
       "      <td>480.0</td>\n",
       "      <td>0.0</td>\n",
       "      <td>480.0</td>\n",
       "      <td>1.00</td>\n",
       "    </tr>\n",
       "    <tr>\n",
       "      <th>3</th>\n",
       "      <td>1</td>\n",
       "      <td>1</td>\n",
       "      <td>TMF003</td>\n",
       "      <td>NOT</td>\n",
       "      <td>2024-05-02</td>\n",
       "      <td>07:59:12</td>\n",
       "      <td>176.0</td>\n",
       "      <td>480.0</td>\n",
       "      <td>0.0</td>\n",
       "      <td>176.0</td>\n",
       "      <td>0.37</td>\n",
       "    </tr>\n",
       "    <tr>\n",
       "      <th>4</th>\n",
       "      <td>1</td>\n",
       "      <td>1</td>\n",
       "      <td>TMF003</td>\n",
       "      <td>MAT</td>\n",
       "      <td>2024-05-02</td>\n",
       "      <td>15:59:13</td>\n",
       "      <td>304.0</td>\n",
       "      <td>480.0</td>\n",
       "      <td>0.0</td>\n",
       "      <td>304.0</td>\n",
       "      <td>0.63</td>\n",
       "    </tr>\n",
       "    <tr>\n",
       "      <th>...</th>\n",
       "      <td>...</td>\n",
       "      <td>...</td>\n",
       "      <td>...</td>\n",
       "      <td>...</td>\n",
       "      <td>...</td>\n",
       "      <td>...</td>\n",
       "      <td>...</td>\n",
       "      <td>...</td>\n",
       "      <td>...</td>\n",
       "      <td>...</td>\n",
       "      <td>...</td>\n",
       "    </tr>\n",
       "    <tr>\n",
       "      <th>204</th>\n",
       "      <td>2</td>\n",
       "      <td>14</td>\n",
       "      <td>TMF009</td>\n",
       "      <td>NOT</td>\n",
       "      <td>2024-05-05</td>\n",
       "      <td>07:59:30</td>\n",
       "      <td>480.0</td>\n",
       "      <td>480.0</td>\n",
       "      <td>0.0</td>\n",
       "      <td>480.0</td>\n",
       "      <td>1.00</td>\n",
       "    </tr>\n",
       "    <tr>\n",
       "      <th>205</th>\n",
       "      <td>2</td>\n",
       "      <td>14</td>\n",
       "      <td>TMF009</td>\n",
       "      <td>MAT</td>\n",
       "      <td>2024-05-05</td>\n",
       "      <td>15:59:10</td>\n",
       "      <td>463.0</td>\n",
       "      <td>480.0</td>\n",
       "      <td>0.0</td>\n",
       "      <td>463.0</td>\n",
       "      <td>0.96</td>\n",
       "    </tr>\n",
       "    <tr>\n",
       "      <th>206</th>\n",
       "      <td>2</td>\n",
       "      <td>14</td>\n",
       "      <td>TMF009</td>\n",
       "      <td>VES</td>\n",
       "      <td>2024-05-05</td>\n",
       "      <td>23:59:28</td>\n",
       "      <td>478.0</td>\n",
       "      <td>480.0</td>\n",
       "      <td>0.0</td>\n",
       "      <td>478.0</td>\n",
       "      <td>1.00</td>\n",
       "    </tr>\n",
       "    <tr>\n",
       "      <th>207</th>\n",
       "      <td>2</td>\n",
       "      <td>14</td>\n",
       "      <td>TMF009</td>\n",
       "      <td>NOT</td>\n",
       "      <td>2024-05-06</td>\n",
       "      <td>07:59:30</td>\n",
       "      <td>0.0</td>\n",
       "      <td>480.0</td>\n",
       "      <td>0.0</td>\n",
       "      <td>0.0</td>\n",
       "      <td>0.00</td>\n",
       "    </tr>\n",
       "    <tr>\n",
       "      <th>208</th>\n",
       "      <td>2</td>\n",
       "      <td>14</td>\n",
       "      <td>TMF009</td>\n",
       "      <td>MAT</td>\n",
       "      <td>2024-05-06</td>\n",
       "      <td>15:41:31</td>\n",
       "      <td>0.0</td>\n",
       "      <td>465.0</td>\n",
       "      <td>0.0</td>\n",
       "      <td>0.0</td>\n",
       "      <td>0.00</td>\n",
       "    </tr>\n",
       "  </tbody>\n",
       "</table>\n",
       "<p>209 rows × 11 columns</p>\n",
       "</div>"
      ],
      "text/plain": [
       "    fabrica  linha maquina_id turno data_registro hora_registro  tempo  \\\n",
       "0         1      1     TMF003   NOT    2024-05-01      07:59:08    0.0   \n",
       "1         1      1     TMF003   MAT    2024-05-01      15:59:09    0.0   \n",
       "2         1      1     TMF003   VES    2024-05-01      23:59:10  480.0   \n",
       "3         1      1     TMF003   NOT    2024-05-02      07:59:12  176.0   \n",
       "4         1      1     TMF003   MAT    2024-05-02      15:59:13  304.0   \n",
       "..      ...    ...        ...   ...           ...           ...    ...   \n",
       "204       2     14     TMF009   NOT    2024-05-05      07:59:30  480.0   \n",
       "205       2     14     TMF009   MAT    2024-05-05      15:59:10  463.0   \n",
       "206       2     14     TMF009   VES    2024-05-05      23:59:28  478.0   \n",
       "207       2     14     TMF009   NOT    2024-05-06      07:59:30    0.0   \n",
       "208       2     14     TMF009   MAT    2024-05-06      15:41:31    0.0   \n",
       "\n",
       "     tempo_esperado  desconto  afeta  performance  \n",
       "0               0.0       0.0    0.0          NaN  \n",
       "1               0.0       0.0    0.0          NaN  \n",
       "2             480.0       0.0  480.0         1.00  \n",
       "3             480.0       0.0  176.0         0.37  \n",
       "4             480.0       0.0  304.0         0.63  \n",
       "..              ...       ...    ...          ...  \n",
       "204           480.0       0.0  480.0         1.00  \n",
       "205           480.0       0.0  463.0         0.96  \n",
       "206           480.0       0.0  478.0         1.00  \n",
       "207           480.0       0.0    0.0         0.00  \n",
       "208           465.0       0.0    0.0         0.00  \n",
       "\n",
       "[209 rows x 11 columns]"
      ]
     },
     "execution_count": 165,
     "metadata": {},
     "output_type": "execute_result"
    }
   ],
   "source": [
    "df_perf = data_analysis.get_perf_data()\n",
    "df_perf"
   ]
  },
  {
   "cell_type": "code",
   "execution_count": 166,
   "metadata": {},
   "outputs": [
    {
     "data": {
      "text/html": [
       "<div>\n",
       "<style scoped>\n",
       "    .dataframe tbody tr th:only-of-type {\n",
       "        vertical-align: middle;\n",
       "    }\n",
       "\n",
       "    .dataframe tbody tr th {\n",
       "        vertical-align: top;\n",
       "    }\n",
       "\n",
       "    .dataframe thead th {\n",
       "        text-align: right;\n",
       "    }\n",
       "</style>\n",
       "<table border=\"1\" class=\"dataframe\">\n",
       "  <thead>\n",
       "    <tr style=\"text-align: right;\">\n",
       "      <th></th>\n",
       "      <th>fabrica</th>\n",
       "      <th>linha</th>\n",
       "      <th>maquina_id</th>\n",
       "      <th>turno</th>\n",
       "      <th>data_registro</th>\n",
       "      <th>hora_registro</th>\n",
       "      <th>tempo</th>\n",
       "      <th>tempo_esperado</th>\n",
       "      <th>desconto</th>\n",
       "      <th>afeta</th>\n",
       "      <th>reparo</th>\n",
       "    </tr>\n",
       "  </thead>\n",
       "  <tbody>\n",
       "    <tr>\n",
       "      <th>0</th>\n",
       "      <td>1</td>\n",
       "      <td>1</td>\n",
       "      <td>TMF003</td>\n",
       "      <td>NOT</td>\n",
       "      <td>2024-05-01</td>\n",
       "      <td>07:59:08</td>\n",
       "      <td>0.0</td>\n",
       "      <td>0.0</td>\n",
       "      <td>0.0</td>\n",
       "      <td>0.0</td>\n",
       "      <td>NaN</td>\n",
       "    </tr>\n",
       "    <tr>\n",
       "      <th>1</th>\n",
       "      <td>1</td>\n",
       "      <td>1</td>\n",
       "      <td>TMF003</td>\n",
       "      <td>MAT</td>\n",
       "      <td>2024-05-01</td>\n",
       "      <td>15:59:09</td>\n",
       "      <td>0.0</td>\n",
       "      <td>0.0</td>\n",
       "      <td>0.0</td>\n",
       "      <td>0.0</td>\n",
       "      <td>NaN</td>\n",
       "    </tr>\n",
       "    <tr>\n",
       "      <th>2</th>\n",
       "      <td>1</td>\n",
       "      <td>1</td>\n",
       "      <td>TMF003</td>\n",
       "      <td>VES</td>\n",
       "      <td>2024-05-01</td>\n",
       "      <td>23:59:10</td>\n",
       "      <td>0.0</td>\n",
       "      <td>480.0</td>\n",
       "      <td>0.0</td>\n",
       "      <td>0.0</td>\n",
       "      <td>0.0</td>\n",
       "    </tr>\n",
       "    <tr>\n",
       "      <th>3</th>\n",
       "      <td>1</td>\n",
       "      <td>1</td>\n",
       "      <td>TMF003</td>\n",
       "      <td>NOT</td>\n",
       "      <td>2024-05-02</td>\n",
       "      <td>07:59:12</td>\n",
       "      <td>0.0</td>\n",
       "      <td>480.0</td>\n",
       "      <td>0.0</td>\n",
       "      <td>0.0</td>\n",
       "      <td>0.0</td>\n",
       "    </tr>\n",
       "    <tr>\n",
       "      <th>4</th>\n",
       "      <td>1</td>\n",
       "      <td>1</td>\n",
       "      <td>TMF003</td>\n",
       "      <td>MAT</td>\n",
       "      <td>2024-05-02</td>\n",
       "      <td>15:59:13</td>\n",
       "      <td>0.0</td>\n",
       "      <td>480.0</td>\n",
       "      <td>0.0</td>\n",
       "      <td>0.0</td>\n",
       "      <td>0.0</td>\n",
       "    </tr>\n",
       "    <tr>\n",
       "      <th>...</th>\n",
       "      <td>...</td>\n",
       "      <td>...</td>\n",
       "      <td>...</td>\n",
       "      <td>...</td>\n",
       "      <td>...</td>\n",
       "      <td>...</td>\n",
       "      <td>...</td>\n",
       "      <td>...</td>\n",
       "      <td>...</td>\n",
       "      <td>...</td>\n",
       "      <td>...</td>\n",
       "    </tr>\n",
       "    <tr>\n",
       "      <th>204</th>\n",
       "      <td>2</td>\n",
       "      <td>14</td>\n",
       "      <td>TMF009</td>\n",
       "      <td>NOT</td>\n",
       "      <td>2024-05-05</td>\n",
       "      <td>07:59:30</td>\n",
       "      <td>0.0</td>\n",
       "      <td>480.0</td>\n",
       "      <td>0.0</td>\n",
       "      <td>0.0</td>\n",
       "      <td>0.0</td>\n",
       "    </tr>\n",
       "    <tr>\n",
       "      <th>205</th>\n",
       "      <td>2</td>\n",
       "      <td>14</td>\n",
       "      <td>TMF009</td>\n",
       "      <td>MAT</td>\n",
       "      <td>2024-05-05</td>\n",
       "      <td>15:59:10</td>\n",
       "      <td>0.0</td>\n",
       "      <td>480.0</td>\n",
       "      <td>0.0</td>\n",
       "      <td>0.0</td>\n",
       "      <td>0.0</td>\n",
       "    </tr>\n",
       "    <tr>\n",
       "      <th>206</th>\n",
       "      <td>2</td>\n",
       "      <td>14</td>\n",
       "      <td>TMF009</td>\n",
       "      <td>VES</td>\n",
       "      <td>2024-05-05</td>\n",
       "      <td>23:59:28</td>\n",
       "      <td>0.0</td>\n",
       "      <td>480.0</td>\n",
       "      <td>0.0</td>\n",
       "      <td>0.0</td>\n",
       "      <td>0.0</td>\n",
       "    </tr>\n",
       "    <tr>\n",
       "      <th>207</th>\n",
       "      <td>2</td>\n",
       "      <td>14</td>\n",
       "      <td>TMF009</td>\n",
       "      <td>NOT</td>\n",
       "      <td>2024-05-06</td>\n",
       "      <td>07:59:30</td>\n",
       "      <td>0.0</td>\n",
       "      <td>480.0</td>\n",
       "      <td>0.0</td>\n",
       "      <td>0.0</td>\n",
       "      <td>0.0</td>\n",
       "    </tr>\n",
       "    <tr>\n",
       "      <th>208</th>\n",
       "      <td>2</td>\n",
       "      <td>14</td>\n",
       "      <td>TMF009</td>\n",
       "      <td>MAT</td>\n",
       "      <td>2024-05-06</td>\n",
       "      <td>15:41:31</td>\n",
       "      <td>0.0</td>\n",
       "      <td>465.0</td>\n",
       "      <td>0.0</td>\n",
       "      <td>0.0</td>\n",
       "      <td>0.0</td>\n",
       "    </tr>\n",
       "  </tbody>\n",
       "</table>\n",
       "<p>209 rows × 11 columns</p>\n",
       "</div>"
      ],
      "text/plain": [
       "    fabrica  linha maquina_id turno data_registro hora_registro  tempo  \\\n",
       "0         1      1     TMF003   NOT    2024-05-01      07:59:08    0.0   \n",
       "1         1      1     TMF003   MAT    2024-05-01      15:59:09    0.0   \n",
       "2         1      1     TMF003   VES    2024-05-01      23:59:10    0.0   \n",
       "3         1      1     TMF003   NOT    2024-05-02      07:59:12    0.0   \n",
       "4         1      1     TMF003   MAT    2024-05-02      15:59:13    0.0   \n",
       "..      ...    ...        ...   ...           ...           ...    ...   \n",
       "204       2     14     TMF009   NOT    2024-05-05      07:59:30    0.0   \n",
       "205       2     14     TMF009   MAT    2024-05-05      15:59:10    0.0   \n",
       "206       2     14     TMF009   VES    2024-05-05      23:59:28    0.0   \n",
       "207       2     14     TMF009   NOT    2024-05-06      07:59:30    0.0   \n",
       "208       2     14     TMF009   MAT    2024-05-06      15:41:31    0.0   \n",
       "\n",
       "     tempo_esperado  desconto  afeta  reparo  \n",
       "0               0.0       0.0    0.0     NaN  \n",
       "1               0.0       0.0    0.0     NaN  \n",
       "2             480.0       0.0    0.0     0.0  \n",
       "3             480.0       0.0    0.0     0.0  \n",
       "4             480.0       0.0    0.0     0.0  \n",
       "..              ...       ...    ...     ...  \n",
       "204           480.0       0.0    0.0     0.0  \n",
       "205           480.0       0.0    0.0     0.0  \n",
       "206           480.0       0.0    0.0     0.0  \n",
       "207           480.0       0.0    0.0     0.0  \n",
       "208           465.0       0.0    0.0     0.0  \n",
       "\n",
       "[209 rows x 11 columns]"
      ]
     },
     "execution_count": 166,
     "metadata": {},
     "output_type": "execute_result"
    }
   ],
   "source": [
    "df_repair = data_analysis.get_repair_data()\n",
    "df_repair"
   ]
  },
  {
   "cell_type": "markdown",
   "metadata": {},
   "source": [
    "# Dataframes auxiliares para uso dos gráficos\n"
   ]
  },
  {
   "cell_type": "code",
   "execution_count": 167,
   "metadata": {},
   "outputs": [],
   "source": [
    "class DFIndicators:\n",
    "    def __init__(self, df_info_ihm: pd.DataFrame, df_prod: pd.DataFrame):\n",
    "        self.df_info_ihm = df_info_ihm\n",
    "        self.df_prod = df_prod\n",
    "        self.data_analysis = DataAnalysis(self.df_info_ihm, self.df_prod)\n",
    "        self.indicator_functions = {\n",
    "            IndicatorType.EFFICIENCY: self.data_analysis.get_eff_data,\n",
    "            IndicatorType.PERFORMANCE: self.data_analysis.get_perf_data,\n",
    "            IndicatorType.REPAIR: self.data_analysis.get_repair_data,\n",
    "        }\n",
    "        self.indicator_descontos = {\n",
    "            IndicatorType.EFFICIENCY: self.data_analysis.desc_eff,\n",
    "            IndicatorType.PERFORMANCE: self.data_analysis.desc_perf,\n",
    "            IndicatorType.REPAIR: self.data_analysis.desc_rep,\n",
    "        }\n",
    "        self.indicator_not_affect = {\n",
    "            IndicatorType.EFFICIENCY: self.data_analysis.not_eff,\n",
    "            IndicatorType.PERFORMANCE: self.data_analysis.not_perf,\n",
    "            IndicatorType.REPAIR: self.data_analysis.afeta_rep,\n",
    "        }\n",
    "\n",
    "    def __adjust_heatmap_data(\n",
    "        self, indicator: IndicatorType, turn: str = None, main: bool = False\n",
    "    ) -> pd.DataFrame:\n",
    "        \"\"\"\n",
    "        Adjusts the heatmap data based on the given indicator, turn, and main flag.\n",
    "\n",
    "        Parameters:\n",
    "            indicator (IndicatorType): The indicator type to adjust the data for.\n",
    "            turn (str, optional): The turn to filter the data for. Defaults to None.\n",
    "            main (bool, optional): Flag indicating whether the main grouping should be used. Defaults to False.\n",
    "\n",
    "        Returns:\n",
    "            pd.DataFrame: The adjusted dataframe with the heatmap data.\n",
    "        \"\"\"\n",
    "\n",
    "        # Dataframe com os dados do indicador\n",
    "        df = pd.DataFrame()\n",
    "\n",
    "        # Busca o dataframe de acordo com o indicador\n",
    "        df = self.indicator_functions[indicator]()\n",
    "\n",
    "        # Se for indicado um turno, filtra o dataframe\n",
    "        if turn:\n",
    "            df = df[df[\"turno\"] == turn]\n",
    "\n",
    "        # Colunas para agrupar o dataframe\n",
    "        group_cols = [\"data_registro\", \"turno\"] if main else [\"data_registro\", \"linha\"]\n",
    "\n",
    "        # Agrupa o dataframe e calcula a média\n",
    "        df = df.groupby(group_cols, observed=False)[indicator.value].mean().reset_index()\n",
    "\n",
    "        # ====================== Garantir Que Todas Datas Estejam Presentes ====================== #\n",
    "\n",
    "        # Obter a data do inicio e fim do mês atual\n",
    "        start_date = pd.to_datetime(\"today\").replace(day=1).date()\n",
    "        end_date = (pd.to_datetime(\"today\") + pd.offsets.MonthEnd(0)).date()\n",
    "\n",
    "        # Lista com todas as datas do mês atual\n",
    "        date_range = pd.date_range(start_date, end_date, freq=\"D\").date\n",
    "\n",
    "        # Encontra os valores únicos de turno ou linha e cria um novo index com todas as datas e turnos ou linhas\n",
    "        if main:\n",
    "            unique_turnos = df[\"turno\"].unique()\n",
    "            df.set_index([\"data_registro\", \"turno\"], inplace=True)\n",
    "            new_index = pd.MultiIndex.from_product(\n",
    "                [date_range, unique_turnos], names=[\"data_registro\", \"turno\"]\n",
    "            )\n",
    "        else:\n",
    "            unique_lines = df[\"linha\"].unique()\n",
    "            df.set_index([\"data_registro\", \"linha\"], inplace=True)\n",
    "            new_index = pd.MultiIndex.from_product(\n",
    "                [date_range, unique_lines], names=[\"data_registro\", \"linha\"]\n",
    "            )\n",
    "\n",
    "        # Reindexa o dataframe\n",
    "        df = df.reindex(new_index).reset_index()\n",
    "\n",
    "        # ================================== Pivotar O Dataframe ================================= #\n",
    "\n",
    "        # Pivotar o dataframe\n",
    "        if main:\n",
    "            df = df.pivot(index=\"turno\", columns=\"data_registro\", values=indicator.value)\n",
    "            df = df.reindex([\"NOT\", \"MAT\", \"VES\"])\n",
    "        else:\n",
    "            df = df.pivot(index=\"linha\", columns=\"data_registro\", values=indicator.value)\n",
    "\n",
    "        return df\n",
    "\n",
    "    def get_heatmap_data(self, indicator: IndicatorType) -> tuple:\n",
    "        \"\"\"\n",
    "        Retrieves heatmap data for the given indicator.\n",
    "\n",
    "        Args:\n",
    "            indicator (IndicatorType): The indicator type to retrieve data for.\n",
    "\n",
    "        Returns:\n",
    "            tuple: A tuple containing the heatmap data for different shifts:\n",
    "                - noturno: Heatmap data for the night shift.\n",
    "                - matutino: Heatmap data for the morning shift.\n",
    "                - vespertino: Heatmap data for the afternoon shift.\n",
    "                - main: Heatmap data for the main shift.\n",
    "        \"\"\"\n",
    "\n",
    "        noturno = self.__adjust_heatmap_data(indicator, \"NOT\")\n",
    "        matutino = self.__adjust_heatmap_data(indicator, \"MAT\")\n",
    "        vespertino = self.__adjust_heatmap_data(indicator, \"VES\")\n",
    "        main = self.__adjust_heatmap_data(indicator, main=True)\n",
    "\n",
    "        return noturno, matutino, vespertino, main\n",
    "\n",
    "    @staticmethod\n",
    "    def __annotations_list(df: pd.DataFrame) -> list:\n",
    "        \"\"\"\n",
    "        Cria uma lista de anotações para o heatmap.\n",
    "\n",
    "        Args:\n",
    "            df (pd.DataFrame): O dataframe com os dados do heatmap.\n",
    "\n",
    "        Returns:\n",
    "            list: Uma lista de anotações para o heatmap.\n",
    "        \"\"\"\n",
    "\n",
    "        # Inicializa a lista de anotações\n",
    "        annotations = []\n",
    "\n",
    "        # Define a coluna para dia apenas\n",
    "        df.columns = pd.to_datetime(df.columns).day\n",
    "\n",
    "        # Loop sobre as linhas do dataframe\n",
    "        for (i, j), value in np.ndenumerate(df.values):\n",
    "            # Se o valor for diferente de NaN\n",
    "            if not np.isnan(value):\n",
    "                # Adiciona a anotação\n",
    "                annotations.append(\n",
    "                    {\n",
    "                        \"x\": df.columns[j],\n",
    "                        \"y\": df.index[i],\n",
    "                        \"text\": f\"{value:.1%}\",\n",
    "                        \"xref\": \"x\",\n",
    "                        \"yref\": \"y\",\n",
    "                        \"showarrow\": False,\n",
    "                        \"font\": {\"size\": 10, \"color\": \"white\"},\n",
    "                    }\n",
    "                )\n",
    "\n",
    "        return annotations\n",
    "\n",
    "    def get_annotations(self, indicator: IndicatorType) -> tuple:\n",
    "        \"\"\"\n",
    "        Retrieves annotations for the heatmap data.\n",
    "\n",
    "        Args:\n",
    "            indicator (IndicatorType): The indicator type to retrieve annotations for.\n",
    "\n",
    "        Returns:\n",
    "            tuple: A tuple containing the annotations for different shifts:\n",
    "                - noturno: Annotations for the night shift.\n",
    "                - matutino: Annotations for the morning shift.\n",
    "                - vespertino: Annotations for the afternoon shift.\n",
    "                - main: Annotations for the main shift.\n",
    "        \"\"\"\n",
    "\n",
    "        noturno, matutino, vespertino, main = self.get_heatmap_data(indicator)\n",
    "\n",
    "        noturno_annotations = self.__annotations_list(noturno)\n",
    "        matutino_annotations = self.__annotations_list(matutino)\n",
    "        vespertino_annotations = self.__annotations_list(vespertino)\n",
    "        main_annotations = self.__annotations_list(main)\n",
    "\n",
    "        return noturno_annotations, matutino_annotations, vespertino_annotations, main_annotations\n",
    "\n",
    "    def adjust_df_for_bar_lost(\n",
    "        self, df: pd.DataFrame, indicator: IndicatorType, turn: str, working_minutes: pd.DataFrame\n",
    "    ) -> pd.DataFrame:\n",
    "\n",
    "        # Cria dataframe com os tempos\n",
    "        df = self.data_analysis.get_discount(\n",
    "            df, self.indicator_descontos[indicator], self.indicator_not_affect[indicator], indicator\n",
    "        )\n",
    "\n",
    "        # Une com working_minutes\n",
    "        if working_minutes is not None:\n",
    "            df = pd.concat([df, working_minutes], ignore_index=True, sort=False)\n",
    "\n",
    "        # Filtra por turno\n",
    "        df = df[df[\"turno\"] == turn] if turn != \"TOT\" else df\n",
    "\n",
    "        # Lidando com problema nulo\n",
    "        df[\"problema\"] = df[\"problema\"].fillna(\"Sem Problema Informado\")\n",
    "\n",
    "        # Lidando com motivo nulo\n",
    "        df[\"motivo\"] = df[\"motivo\"].fillna(\"Sem Motivo Informado\")\n",
    "\n",
    "        # Lidando com paradas de  5 minutos ou menos\n",
    "        df.loc[(df[\"motivo\"].isnull()) & (df[\"tempo\"] <= 5), [\"motivo\", \"problema\"]] = [\n",
    "            \"Parada de 5 minutos ou menos\",\n",
    "            \"Parada de 5 minutos ou menos\",\n",
    "        ]\n",
    "\n",
    "        return df\n",
    "\n",
    "\n",
    "indicators_class = DFIndicators(df_maq_stopped.copy(), df_info_production_cleaned.copy())"
   ]
  },
  {
   "cell_type": "code",
   "execution_count": 168,
   "metadata": {},
   "outputs": [
    {
     "data": {
      "text/html": [
       "<div>\n",
       "<style scoped>\n",
       "    .dataframe tbody tr th:only-of-type {\n",
       "        vertical-align: middle;\n",
       "    }\n",
       "\n",
       "    .dataframe tbody tr th {\n",
       "        vertical-align: top;\n",
       "    }\n",
       "\n",
       "    .dataframe thead th {\n",
       "        text-align: right;\n",
       "    }\n",
       "</style>\n",
       "<table border=\"1\" class=\"dataframe\">\n",
       "  <thead>\n",
       "    <tr style=\"text-align: right;\">\n",
       "      <th>data_registro</th>\n",
       "      <th>2024-05-01</th>\n",
       "      <th>2024-05-02</th>\n",
       "      <th>2024-05-03</th>\n",
       "      <th>2024-05-04</th>\n",
       "      <th>2024-05-05</th>\n",
       "      <th>2024-05-06</th>\n",
       "      <th>2024-05-07</th>\n",
       "      <th>2024-05-08</th>\n",
       "      <th>2024-05-09</th>\n",
       "      <th>2024-05-10</th>\n",
       "      <th>...</th>\n",
       "      <th>2024-05-22</th>\n",
       "      <th>2024-05-23</th>\n",
       "      <th>2024-05-24</th>\n",
       "      <th>2024-05-25</th>\n",
       "      <th>2024-05-26</th>\n",
       "      <th>2024-05-27</th>\n",
       "      <th>2024-05-28</th>\n",
       "      <th>2024-05-29</th>\n",
       "      <th>2024-05-30</th>\n",
       "      <th>2024-05-31</th>\n",
       "    </tr>\n",
       "    <tr>\n",
       "      <th>linha</th>\n",
       "      <th></th>\n",
       "      <th></th>\n",
       "      <th></th>\n",
       "      <th></th>\n",
       "      <th></th>\n",
       "      <th></th>\n",
       "      <th></th>\n",
       "      <th></th>\n",
       "      <th></th>\n",
       "      <th></th>\n",
       "      <th></th>\n",
       "      <th></th>\n",
       "      <th></th>\n",
       "      <th></th>\n",
       "      <th></th>\n",
       "      <th></th>\n",
       "      <th></th>\n",
       "      <th></th>\n",
       "      <th></th>\n",
       "      <th></th>\n",
       "      <th></th>\n",
       "    </tr>\n",
       "  </thead>\n",
       "  <tbody>\n",
       "    <tr>\n",
       "      <th>1</th>\n",
       "      <td>0.00</td>\n",
       "      <td>0.62</td>\n",
       "      <td>0.86</td>\n",
       "      <td>0.76</td>\n",
       "      <td>0.30</td>\n",
       "      <td>0.80</td>\n",
       "      <td>NaN</td>\n",
       "      <td>NaN</td>\n",
       "      <td>NaN</td>\n",
       "      <td>NaN</td>\n",
       "      <td>...</td>\n",
       "      <td>NaN</td>\n",
       "      <td>NaN</td>\n",
       "      <td>NaN</td>\n",
       "      <td>NaN</td>\n",
       "      <td>NaN</td>\n",
       "      <td>NaN</td>\n",
       "      <td>NaN</td>\n",
       "      <td>NaN</td>\n",
       "      <td>NaN</td>\n",
       "      <td>NaN</td>\n",
       "    </tr>\n",
       "    <tr>\n",
       "      <th>2</th>\n",
       "      <td>0.00</td>\n",
       "      <td>0.65</td>\n",
       "      <td>0.15</td>\n",
       "      <td>0.72</td>\n",
       "      <td>0.20</td>\n",
       "      <td>0.76</td>\n",
       "      <td>NaN</td>\n",
       "      <td>NaN</td>\n",
       "      <td>NaN</td>\n",
       "      <td>NaN</td>\n",
       "      <td>...</td>\n",
       "      <td>NaN</td>\n",
       "      <td>NaN</td>\n",
       "      <td>NaN</td>\n",
       "      <td>NaN</td>\n",
       "      <td>NaN</td>\n",
       "      <td>NaN</td>\n",
       "      <td>NaN</td>\n",
       "      <td>NaN</td>\n",
       "      <td>NaN</td>\n",
       "      <td>NaN</td>\n",
       "    </tr>\n",
       "    <tr>\n",
       "      <th>4</th>\n",
       "      <td>0.00</td>\n",
       "      <td>0.72</td>\n",
       "      <td>0.78</td>\n",
       "      <td>0.81</td>\n",
       "      <td>0.20</td>\n",
       "      <td>0.50</td>\n",
       "      <td>NaN</td>\n",
       "      <td>NaN</td>\n",
       "      <td>NaN</td>\n",
       "      <td>NaN</td>\n",
       "      <td>...</td>\n",
       "      <td>NaN</td>\n",
       "      <td>NaN</td>\n",
       "      <td>NaN</td>\n",
       "      <td>NaN</td>\n",
       "      <td>NaN</td>\n",
       "      <td>NaN</td>\n",
       "      <td>NaN</td>\n",
       "      <td>NaN</td>\n",
       "      <td>NaN</td>\n",
       "      <td>NaN</td>\n",
       "    </tr>\n",
       "    <tr>\n",
       "      <th>5</th>\n",
       "      <td>0.02</td>\n",
       "      <td>0.65</td>\n",
       "      <td>0.62</td>\n",
       "      <td>0.61</td>\n",
       "      <td>0.13</td>\n",
       "      <td>0.87</td>\n",
       "      <td>NaN</td>\n",
       "      <td>NaN</td>\n",
       "      <td>NaN</td>\n",
       "      <td>NaN</td>\n",
       "      <td>...</td>\n",
       "      <td>NaN</td>\n",
       "      <td>NaN</td>\n",
       "      <td>NaN</td>\n",
       "      <td>NaN</td>\n",
       "      <td>NaN</td>\n",
       "      <td>NaN</td>\n",
       "      <td>NaN</td>\n",
       "      <td>NaN</td>\n",
       "      <td>NaN</td>\n",
       "      <td>NaN</td>\n",
       "    </tr>\n",
       "    <tr>\n",
       "      <th>6</th>\n",
       "      <td>0.03</td>\n",
       "      <td>0.40</td>\n",
       "      <td>0.13</td>\n",
       "      <td>0.04</td>\n",
       "      <td>0.14</td>\n",
       "      <td>0.53</td>\n",
       "      <td>NaN</td>\n",
       "      <td>NaN</td>\n",
       "      <td>NaN</td>\n",
       "      <td>NaN</td>\n",
       "      <td>...</td>\n",
       "      <td>NaN</td>\n",
       "      <td>NaN</td>\n",
       "      <td>NaN</td>\n",
       "      <td>NaN</td>\n",
       "      <td>NaN</td>\n",
       "      <td>NaN</td>\n",
       "      <td>NaN</td>\n",
       "      <td>NaN</td>\n",
       "      <td>NaN</td>\n",
       "      <td>NaN</td>\n",
       "    </tr>\n",
       "    <tr>\n",
       "      <th>7</th>\n",
       "      <td>0.03</td>\n",
       "      <td>0.00</td>\n",
       "      <td>0.77</td>\n",
       "      <td>0.20</td>\n",
       "      <td>0.15</td>\n",
       "      <td>0.51</td>\n",
       "      <td>NaN</td>\n",
       "      <td>NaN</td>\n",
       "      <td>NaN</td>\n",
       "      <td>NaN</td>\n",
       "      <td>...</td>\n",
       "      <td>NaN</td>\n",
       "      <td>NaN</td>\n",
       "      <td>NaN</td>\n",
       "      <td>NaN</td>\n",
       "      <td>NaN</td>\n",
       "      <td>NaN</td>\n",
       "      <td>NaN</td>\n",
       "      <td>NaN</td>\n",
       "      <td>NaN</td>\n",
       "      <td>NaN</td>\n",
       "    </tr>\n",
       "    <tr>\n",
       "      <th>8</th>\n",
       "      <td>0.32</td>\n",
       "      <td>0.32</td>\n",
       "      <td>0.32</td>\n",
       "      <td>0.32</td>\n",
       "      <td>0.32</td>\n",
       "      <td>0.32</td>\n",
       "      <td>NaN</td>\n",
       "      <td>NaN</td>\n",
       "      <td>NaN</td>\n",
       "      <td>NaN</td>\n",
       "      <td>...</td>\n",
       "      <td>NaN</td>\n",
       "      <td>NaN</td>\n",
       "      <td>NaN</td>\n",
       "      <td>NaN</td>\n",
       "      <td>NaN</td>\n",
       "      <td>NaN</td>\n",
       "      <td>NaN</td>\n",
       "      <td>NaN</td>\n",
       "      <td>NaN</td>\n",
       "      <td>NaN</td>\n",
       "    </tr>\n",
       "    <tr>\n",
       "      <th>9</th>\n",
       "      <td>0.02</td>\n",
       "      <td>0.62</td>\n",
       "      <td>0.29</td>\n",
       "      <td>0.74</td>\n",
       "      <td>0.19</td>\n",
       "      <td>0.64</td>\n",
       "      <td>NaN</td>\n",
       "      <td>NaN</td>\n",
       "      <td>NaN</td>\n",
       "      <td>NaN</td>\n",
       "      <td>...</td>\n",
       "      <td>NaN</td>\n",
       "      <td>NaN</td>\n",
       "      <td>NaN</td>\n",
       "      <td>NaN</td>\n",
       "      <td>NaN</td>\n",
       "      <td>NaN</td>\n",
       "      <td>NaN</td>\n",
       "      <td>NaN</td>\n",
       "      <td>NaN</td>\n",
       "      <td>NaN</td>\n",
       "    </tr>\n",
       "    <tr>\n",
       "      <th>10</th>\n",
       "      <td>NaN</td>\n",
       "      <td>0.19</td>\n",
       "      <td>0.00</td>\n",
       "      <td>0.00</td>\n",
       "      <td>0.04</td>\n",
       "      <td>0.68</td>\n",
       "      <td>NaN</td>\n",
       "      <td>NaN</td>\n",
       "      <td>NaN</td>\n",
       "      <td>NaN</td>\n",
       "      <td>...</td>\n",
       "      <td>NaN</td>\n",
       "      <td>NaN</td>\n",
       "      <td>NaN</td>\n",
       "      <td>NaN</td>\n",
       "      <td>NaN</td>\n",
       "      <td>NaN</td>\n",
       "      <td>NaN</td>\n",
       "      <td>NaN</td>\n",
       "      <td>NaN</td>\n",
       "      <td>NaN</td>\n",
       "    </tr>\n",
       "    <tr>\n",
       "      <th>11</th>\n",
       "      <td>NaN</td>\n",
       "      <td>0.10</td>\n",
       "      <td>0.57</td>\n",
       "      <td>0.58</td>\n",
       "      <td>0.00</td>\n",
       "      <td>0.00</td>\n",
       "      <td>NaN</td>\n",
       "      <td>NaN</td>\n",
       "      <td>NaN</td>\n",
       "      <td>NaN</td>\n",
       "      <td>...</td>\n",
       "      <td>NaN</td>\n",
       "      <td>NaN</td>\n",
       "      <td>NaN</td>\n",
       "      <td>NaN</td>\n",
       "      <td>NaN</td>\n",
       "      <td>NaN</td>\n",
       "      <td>NaN</td>\n",
       "      <td>NaN</td>\n",
       "      <td>NaN</td>\n",
       "      <td>NaN</td>\n",
       "    </tr>\n",
       "    <tr>\n",
       "      <th>12</th>\n",
       "      <td>NaN</td>\n",
       "      <td>0.00</td>\n",
       "      <td>0.13</td>\n",
       "      <td>0.17</td>\n",
       "      <td>0.00</td>\n",
       "      <td>0.03</td>\n",
       "      <td>NaN</td>\n",
       "      <td>NaN</td>\n",
       "      <td>NaN</td>\n",
       "      <td>NaN</td>\n",
       "      <td>...</td>\n",
       "      <td>NaN</td>\n",
       "      <td>NaN</td>\n",
       "      <td>NaN</td>\n",
       "      <td>NaN</td>\n",
       "      <td>NaN</td>\n",
       "      <td>NaN</td>\n",
       "      <td>NaN</td>\n",
       "      <td>NaN</td>\n",
       "      <td>NaN</td>\n",
       "      <td>NaN</td>\n",
       "    </tr>\n",
       "    <tr>\n",
       "      <th>13</th>\n",
       "      <td>NaN</td>\n",
       "      <td>0.00</td>\n",
       "      <td>0.00</td>\n",
       "      <td>0.00</td>\n",
       "      <td>0.00</td>\n",
       "      <td>NaN</td>\n",
       "      <td>NaN</td>\n",
       "      <td>NaN</td>\n",
       "      <td>NaN</td>\n",
       "      <td>NaN</td>\n",
       "      <td>...</td>\n",
       "      <td>NaN</td>\n",
       "      <td>NaN</td>\n",
       "      <td>NaN</td>\n",
       "      <td>NaN</td>\n",
       "      <td>NaN</td>\n",
       "      <td>NaN</td>\n",
       "      <td>NaN</td>\n",
       "      <td>NaN</td>\n",
       "      <td>NaN</td>\n",
       "      <td>NaN</td>\n",
       "    </tr>\n",
       "    <tr>\n",
       "      <th>14</th>\n",
       "      <td>NaN</td>\n",
       "      <td>0.00</td>\n",
       "      <td>0.00</td>\n",
       "      <td>0.00</td>\n",
       "      <td>0.00</td>\n",
       "      <td>0.00</td>\n",
       "      <td>NaN</td>\n",
       "      <td>NaN</td>\n",
       "      <td>NaN</td>\n",
       "      <td>NaN</td>\n",
       "      <td>...</td>\n",
       "      <td>NaN</td>\n",
       "      <td>NaN</td>\n",
       "      <td>NaN</td>\n",
       "      <td>NaN</td>\n",
       "      <td>NaN</td>\n",
       "      <td>NaN</td>\n",
       "      <td>NaN</td>\n",
       "      <td>NaN</td>\n",
       "      <td>NaN</td>\n",
       "      <td>NaN</td>\n",
       "    </tr>\n",
       "  </tbody>\n",
       "</table>\n",
       "<p>13 rows × 31 columns</p>\n",
       "</div>"
      ],
      "text/plain": [
       "data_registro  2024-05-01  2024-05-02  2024-05-03  2024-05-04  2024-05-05  \\\n",
       "linha                                                                       \n",
       "1                    0.00        0.62        0.86        0.76        0.30   \n",
       "2                    0.00        0.65        0.15        0.72        0.20   \n",
       "4                    0.00        0.72        0.78        0.81        0.20   \n",
       "5                    0.02        0.65        0.62        0.61        0.13   \n",
       "6                    0.03        0.40        0.13        0.04        0.14   \n",
       "7                    0.03        0.00        0.77        0.20        0.15   \n",
       "8                    0.32        0.32        0.32        0.32        0.32   \n",
       "9                    0.02        0.62        0.29        0.74        0.19   \n",
       "10                    NaN        0.19        0.00        0.00        0.04   \n",
       "11                    NaN        0.10        0.57        0.58        0.00   \n",
       "12                    NaN        0.00        0.13        0.17        0.00   \n",
       "13                    NaN        0.00        0.00        0.00        0.00   \n",
       "14                    NaN        0.00        0.00        0.00        0.00   \n",
       "\n",
       "data_registro  2024-05-06  2024-05-07  2024-05-08  2024-05-09  2024-05-10  \\\n",
       "linha                                                                       \n",
       "1                    0.80         NaN         NaN         NaN         NaN   \n",
       "2                    0.76         NaN         NaN         NaN         NaN   \n",
       "4                    0.50         NaN         NaN         NaN         NaN   \n",
       "5                    0.87         NaN         NaN         NaN         NaN   \n",
       "6                    0.53         NaN         NaN         NaN         NaN   \n",
       "7                    0.51         NaN         NaN         NaN         NaN   \n",
       "8                    0.32         NaN         NaN         NaN         NaN   \n",
       "9                    0.64         NaN         NaN         NaN         NaN   \n",
       "10                   0.68         NaN         NaN         NaN         NaN   \n",
       "11                   0.00         NaN         NaN         NaN         NaN   \n",
       "12                   0.03         NaN         NaN         NaN         NaN   \n",
       "13                    NaN         NaN         NaN         NaN         NaN   \n",
       "14                   0.00         NaN         NaN         NaN         NaN   \n",
       "\n",
       "data_registro  ...  2024-05-22  2024-05-23  2024-05-24  2024-05-25  \\\n",
       "linha          ...                                                   \n",
       "1              ...         NaN         NaN         NaN         NaN   \n",
       "2              ...         NaN         NaN         NaN         NaN   \n",
       "4              ...         NaN         NaN         NaN         NaN   \n",
       "5              ...         NaN         NaN         NaN         NaN   \n",
       "6              ...         NaN         NaN         NaN         NaN   \n",
       "7              ...         NaN         NaN         NaN         NaN   \n",
       "8              ...         NaN         NaN         NaN         NaN   \n",
       "9              ...         NaN         NaN         NaN         NaN   \n",
       "10             ...         NaN         NaN         NaN         NaN   \n",
       "11             ...         NaN         NaN         NaN         NaN   \n",
       "12             ...         NaN         NaN         NaN         NaN   \n",
       "13             ...         NaN         NaN         NaN         NaN   \n",
       "14             ...         NaN         NaN         NaN         NaN   \n",
       "\n",
       "data_registro  2024-05-26  2024-05-27  2024-05-28  2024-05-29  2024-05-30  \\\n",
       "linha                                                                       \n",
       "1                     NaN         NaN         NaN         NaN         NaN   \n",
       "2                     NaN         NaN         NaN         NaN         NaN   \n",
       "4                     NaN         NaN         NaN         NaN         NaN   \n",
       "5                     NaN         NaN         NaN         NaN         NaN   \n",
       "6                     NaN         NaN         NaN         NaN         NaN   \n",
       "7                     NaN         NaN         NaN         NaN         NaN   \n",
       "8                     NaN         NaN         NaN         NaN         NaN   \n",
       "9                     NaN         NaN         NaN         NaN         NaN   \n",
       "10                    NaN         NaN         NaN         NaN         NaN   \n",
       "11                    NaN         NaN         NaN         NaN         NaN   \n",
       "12                    NaN         NaN         NaN         NaN         NaN   \n",
       "13                    NaN         NaN         NaN         NaN         NaN   \n",
       "14                    NaN         NaN         NaN         NaN         NaN   \n",
       "\n",
       "data_registro  2024-05-31  \n",
       "linha                      \n",
       "1                     NaN  \n",
       "2                     NaN  \n",
       "4                     NaN  \n",
       "5                     NaN  \n",
       "6                     NaN  \n",
       "7                     NaN  \n",
       "8                     NaN  \n",
       "9                     NaN  \n",
       "10                    NaN  \n",
       "11                    NaN  \n",
       "12                    NaN  \n",
       "13                    NaN  \n",
       "14                    NaN  \n",
       "\n",
       "[13 rows x 31 columns]"
      ]
     },
     "execution_count": 168,
     "metadata": {},
     "output_type": "execute_result"
    }
   ],
   "source": [
    "heat_noturno, _, _, heat_main = indicators_class.get_heatmap_data(IndicatorType.EFFICIENCY)\n",
    "heat_noturno"
   ]
  },
  {
   "cell_type": "code",
   "execution_count": 169,
   "metadata": {},
   "outputs": [
    {
     "data": {
      "text/html": [
       "<div>\n",
       "<style scoped>\n",
       "    .dataframe tbody tr th:only-of-type {\n",
       "        vertical-align: middle;\n",
       "    }\n",
       "\n",
       "    .dataframe tbody tr th {\n",
       "        vertical-align: top;\n",
       "    }\n",
       "\n",
       "    .dataframe thead th {\n",
       "        text-align: right;\n",
       "    }\n",
       "</style>\n",
       "<table border=\"1\" class=\"dataframe\">\n",
       "  <thead>\n",
       "    <tr style=\"text-align: right;\">\n",
       "      <th>data_registro</th>\n",
       "      <th>2024-05-01</th>\n",
       "      <th>2024-05-02</th>\n",
       "      <th>2024-05-03</th>\n",
       "      <th>2024-05-04</th>\n",
       "      <th>2024-05-05</th>\n",
       "      <th>2024-05-06</th>\n",
       "      <th>2024-05-07</th>\n",
       "      <th>2024-05-08</th>\n",
       "      <th>2024-05-09</th>\n",
       "      <th>2024-05-10</th>\n",
       "      <th>...</th>\n",
       "      <th>2024-05-22</th>\n",
       "      <th>2024-05-23</th>\n",
       "      <th>2024-05-24</th>\n",
       "      <th>2024-05-25</th>\n",
       "      <th>2024-05-26</th>\n",
       "      <th>2024-05-27</th>\n",
       "      <th>2024-05-28</th>\n",
       "      <th>2024-05-29</th>\n",
       "      <th>2024-05-30</th>\n",
       "      <th>2024-05-31</th>\n",
       "    </tr>\n",
       "    <tr>\n",
       "      <th>turno</th>\n",
       "      <th></th>\n",
       "      <th></th>\n",
       "      <th></th>\n",
       "      <th></th>\n",
       "      <th></th>\n",
       "      <th></th>\n",
       "      <th></th>\n",
       "      <th></th>\n",
       "      <th></th>\n",
       "      <th></th>\n",
       "      <th></th>\n",
       "      <th></th>\n",
       "      <th></th>\n",
       "      <th></th>\n",
       "      <th></th>\n",
       "      <th></th>\n",
       "      <th></th>\n",
       "      <th></th>\n",
       "      <th></th>\n",
       "      <th></th>\n",
       "      <th></th>\n",
       "    </tr>\n",
       "  </thead>\n",
       "  <tbody>\n",
       "    <tr>\n",
       "      <th>NOT</th>\n",
       "      <td>0.0525</td>\n",
       "      <td>0.328462</td>\n",
       "      <td>0.355385</td>\n",
       "      <td>0.380769</td>\n",
       "      <td>0.128462</td>\n",
       "      <td>0.470000</td>\n",
       "      <td>NaN</td>\n",
       "      <td>NaN</td>\n",
       "      <td>NaN</td>\n",
       "      <td>NaN</td>\n",
       "      <td>...</td>\n",
       "      <td>NaN</td>\n",
       "      <td>NaN</td>\n",
       "      <td>NaN</td>\n",
       "      <td>NaN</td>\n",
       "      <td>NaN</td>\n",
       "      <td>NaN</td>\n",
       "      <td>NaN</td>\n",
       "      <td>NaN</td>\n",
       "      <td>NaN</td>\n",
       "      <td>NaN</td>\n",
       "    </tr>\n",
       "    <tr>\n",
       "      <th>MAT</th>\n",
       "      <td>0.0525</td>\n",
       "      <td>0.303077</td>\n",
       "      <td>0.359231</td>\n",
       "      <td>0.442308</td>\n",
       "      <td>0.352308</td>\n",
       "      <td>0.374615</td>\n",
       "      <td>NaN</td>\n",
       "      <td>NaN</td>\n",
       "      <td>NaN</td>\n",
       "      <td>NaN</td>\n",
       "      <td>...</td>\n",
       "      <td>NaN</td>\n",
       "      <td>NaN</td>\n",
       "      <td>NaN</td>\n",
       "      <td>NaN</td>\n",
       "      <td>NaN</td>\n",
       "      <td>NaN</td>\n",
       "      <td>NaN</td>\n",
       "      <td>NaN</td>\n",
       "      <td>NaN</td>\n",
       "      <td>NaN</td>\n",
       "    </tr>\n",
       "    <tr>\n",
       "      <th>VES</th>\n",
       "      <td>0.0300</td>\n",
       "      <td>0.333846</td>\n",
       "      <td>0.432308</td>\n",
       "      <td>0.145385</td>\n",
       "      <td>0.339167</td>\n",
       "      <td>NaN</td>\n",
       "      <td>NaN</td>\n",
       "      <td>NaN</td>\n",
       "      <td>NaN</td>\n",
       "      <td>NaN</td>\n",
       "      <td>...</td>\n",
       "      <td>NaN</td>\n",
       "      <td>NaN</td>\n",
       "      <td>NaN</td>\n",
       "      <td>NaN</td>\n",
       "      <td>NaN</td>\n",
       "      <td>NaN</td>\n",
       "      <td>NaN</td>\n",
       "      <td>NaN</td>\n",
       "      <td>NaN</td>\n",
       "      <td>NaN</td>\n",
       "    </tr>\n",
       "  </tbody>\n",
       "</table>\n",
       "<p>3 rows × 31 columns</p>\n",
       "</div>"
      ],
      "text/plain": [
       "data_registro  2024-05-01  2024-05-02  2024-05-03  2024-05-04  2024-05-05  \\\n",
       "turno                                                                       \n",
       "NOT                0.0525    0.328462    0.355385    0.380769    0.128462   \n",
       "MAT                0.0525    0.303077    0.359231    0.442308    0.352308   \n",
       "VES                0.0300    0.333846    0.432308    0.145385    0.339167   \n",
       "\n",
       "data_registro  2024-05-06  2024-05-07  2024-05-08  2024-05-09  2024-05-10  \\\n",
       "turno                                                                       \n",
       "NOT              0.470000         NaN         NaN         NaN         NaN   \n",
       "MAT              0.374615         NaN         NaN         NaN         NaN   \n",
       "VES                   NaN         NaN         NaN         NaN         NaN   \n",
       "\n",
       "data_registro  ...  2024-05-22  2024-05-23  2024-05-24  2024-05-25  \\\n",
       "turno          ...                                                   \n",
       "NOT            ...         NaN         NaN         NaN         NaN   \n",
       "MAT            ...         NaN         NaN         NaN         NaN   \n",
       "VES            ...         NaN         NaN         NaN         NaN   \n",
       "\n",
       "data_registro  2024-05-26  2024-05-27  2024-05-28  2024-05-29  2024-05-30  \\\n",
       "turno                                                                       \n",
       "NOT                   NaN         NaN         NaN         NaN         NaN   \n",
       "MAT                   NaN         NaN         NaN         NaN         NaN   \n",
       "VES                   NaN         NaN         NaN         NaN         NaN   \n",
       "\n",
       "data_registro  2024-05-31  \n",
       "turno                      \n",
       "NOT                   NaN  \n",
       "MAT                   NaN  \n",
       "VES                   NaN  \n",
       "\n",
       "[3 rows x 31 columns]"
      ]
     },
     "execution_count": 169,
     "metadata": {},
     "output_type": "execute_result"
    }
   ],
   "source": [
    "heat_main"
   ]
  },
  {
   "cell_type": "code",
   "execution_count": 170,
   "metadata": {},
   "outputs": [
    {
     "data": {
      "text/plain": [
       "[{'x': 1,\n",
       "  'y': 1,\n",
       "  'text': '0.0%',\n",
       "  'xref': 'x',\n",
       "  'yref': 'y',\n",
       "  'showarrow': False,\n",
       "  'font': {'size': 10, 'color': 'white'}},\n",
       " {'x': 2,\n",
       "  'y': 1,\n",
       "  'text': '62.0%',\n",
       "  'xref': 'x',\n",
       "  'yref': 'y',\n",
       "  'showarrow': False,\n",
       "  'font': {'size': 10, 'color': 'white'}},\n",
       " {'x': 3,\n",
       "  'y': 1,\n",
       "  'text': '86.0%',\n",
       "  'xref': 'x',\n",
       "  'yref': 'y',\n",
       "  'showarrow': False,\n",
       "  'font': {'size': 10, 'color': 'white'}},\n",
       " {'x': 4,\n",
       "  'y': 1,\n",
       "  'text': '76.0%',\n",
       "  'xref': 'x',\n",
       "  'yref': 'y',\n",
       "  'showarrow': False,\n",
       "  'font': {'size': 10, 'color': 'white'}},\n",
       " {'x': 5,\n",
       "  'y': 1,\n",
       "  'text': '30.0%',\n",
       "  'xref': 'x',\n",
       "  'yref': 'y',\n",
       "  'showarrow': False,\n",
       "  'font': {'size': 10, 'color': 'white'}},\n",
       " {'x': 6,\n",
       "  'y': 1,\n",
       "  'text': '80.0%',\n",
       "  'xref': 'x',\n",
       "  'yref': 'y',\n",
       "  'showarrow': False,\n",
       "  'font': {'size': 10, 'color': 'white'}},\n",
       " {'x': 1,\n",
       "  'y': 2,\n",
       "  'text': '0.0%',\n",
       "  'xref': 'x',\n",
       "  'yref': 'y',\n",
       "  'showarrow': False,\n",
       "  'font': {'size': 10, 'color': 'white'}},\n",
       " {'x': 2,\n",
       "  'y': 2,\n",
       "  'text': '65.0%',\n",
       "  'xref': 'x',\n",
       "  'yref': 'y',\n",
       "  'showarrow': False,\n",
       "  'font': {'size': 10, 'color': 'white'}},\n",
       " {'x': 3,\n",
       "  'y': 2,\n",
       "  'text': '15.0%',\n",
       "  'xref': 'x',\n",
       "  'yref': 'y',\n",
       "  'showarrow': False,\n",
       "  'font': {'size': 10, 'color': 'white'}},\n",
       " {'x': 4,\n",
       "  'y': 2,\n",
       "  'text': '72.0%',\n",
       "  'xref': 'x',\n",
       "  'yref': 'y',\n",
       "  'showarrow': False,\n",
       "  'font': {'size': 10, 'color': 'white'}},\n",
       " {'x': 5,\n",
       "  'y': 2,\n",
       "  'text': '20.0%',\n",
       "  'xref': 'x',\n",
       "  'yref': 'y',\n",
       "  'showarrow': False,\n",
       "  'font': {'size': 10, 'color': 'white'}},\n",
       " {'x': 6,\n",
       "  'y': 2,\n",
       "  'text': '76.0%',\n",
       "  'xref': 'x',\n",
       "  'yref': 'y',\n",
       "  'showarrow': False,\n",
       "  'font': {'size': 10, 'color': 'white'}},\n",
       " {'x': 1,\n",
       "  'y': 4,\n",
       "  'text': '0.0%',\n",
       "  'xref': 'x',\n",
       "  'yref': 'y',\n",
       "  'showarrow': False,\n",
       "  'font': {'size': 10, 'color': 'white'}},\n",
       " {'x': 2,\n",
       "  'y': 4,\n",
       "  'text': '72.0%',\n",
       "  'xref': 'x',\n",
       "  'yref': 'y',\n",
       "  'showarrow': False,\n",
       "  'font': {'size': 10, 'color': 'white'}},\n",
       " {'x': 3,\n",
       "  'y': 4,\n",
       "  'text': '78.0%',\n",
       "  'xref': 'x',\n",
       "  'yref': 'y',\n",
       "  'showarrow': False,\n",
       "  'font': {'size': 10, 'color': 'white'}},\n",
       " {'x': 4,\n",
       "  'y': 4,\n",
       "  'text': '81.0%',\n",
       "  'xref': 'x',\n",
       "  'yref': 'y',\n",
       "  'showarrow': False,\n",
       "  'font': {'size': 10, 'color': 'white'}},\n",
       " {'x': 5,\n",
       "  'y': 4,\n",
       "  'text': '20.0%',\n",
       "  'xref': 'x',\n",
       "  'yref': 'y',\n",
       "  'showarrow': False,\n",
       "  'font': {'size': 10, 'color': 'white'}},\n",
       " {'x': 6,\n",
       "  'y': 4,\n",
       "  'text': '50.0%',\n",
       "  'xref': 'x',\n",
       "  'yref': 'y',\n",
       "  'showarrow': False,\n",
       "  'font': {'size': 10, 'color': 'white'}},\n",
       " {'x': 1,\n",
       "  'y': 5,\n",
       "  'text': '2.0%',\n",
       "  'xref': 'x',\n",
       "  'yref': 'y',\n",
       "  'showarrow': False,\n",
       "  'font': {'size': 10, 'color': 'white'}},\n",
       " {'x': 2,\n",
       "  'y': 5,\n",
       "  'text': '65.0%',\n",
       "  'xref': 'x',\n",
       "  'yref': 'y',\n",
       "  'showarrow': False,\n",
       "  'font': {'size': 10, 'color': 'white'}},\n",
       " {'x': 3,\n",
       "  'y': 5,\n",
       "  'text': '62.0%',\n",
       "  'xref': 'x',\n",
       "  'yref': 'y',\n",
       "  'showarrow': False,\n",
       "  'font': {'size': 10, 'color': 'white'}},\n",
       " {'x': 4,\n",
       "  'y': 5,\n",
       "  'text': '61.0%',\n",
       "  'xref': 'x',\n",
       "  'yref': 'y',\n",
       "  'showarrow': False,\n",
       "  'font': {'size': 10, 'color': 'white'}},\n",
       " {'x': 5,\n",
       "  'y': 5,\n",
       "  'text': '13.0%',\n",
       "  'xref': 'x',\n",
       "  'yref': 'y',\n",
       "  'showarrow': False,\n",
       "  'font': {'size': 10, 'color': 'white'}},\n",
       " {'x': 6,\n",
       "  'y': 5,\n",
       "  'text': '87.0%',\n",
       "  'xref': 'x',\n",
       "  'yref': 'y',\n",
       "  'showarrow': False,\n",
       "  'font': {'size': 10, 'color': 'white'}},\n",
       " {'x': 1,\n",
       "  'y': 6,\n",
       "  'text': '3.0%',\n",
       "  'xref': 'x',\n",
       "  'yref': 'y',\n",
       "  'showarrow': False,\n",
       "  'font': {'size': 10, 'color': 'white'}},\n",
       " {'x': 2,\n",
       "  'y': 6,\n",
       "  'text': '40.0%',\n",
       "  'xref': 'x',\n",
       "  'yref': 'y',\n",
       "  'showarrow': False,\n",
       "  'font': {'size': 10, 'color': 'white'}},\n",
       " {'x': 3,\n",
       "  'y': 6,\n",
       "  'text': '13.0%',\n",
       "  'xref': 'x',\n",
       "  'yref': 'y',\n",
       "  'showarrow': False,\n",
       "  'font': {'size': 10, 'color': 'white'}},\n",
       " {'x': 4,\n",
       "  'y': 6,\n",
       "  'text': '4.0%',\n",
       "  'xref': 'x',\n",
       "  'yref': 'y',\n",
       "  'showarrow': False,\n",
       "  'font': {'size': 10, 'color': 'white'}},\n",
       " {'x': 5,\n",
       "  'y': 6,\n",
       "  'text': '14.0%',\n",
       "  'xref': 'x',\n",
       "  'yref': 'y',\n",
       "  'showarrow': False,\n",
       "  'font': {'size': 10, 'color': 'white'}},\n",
       " {'x': 6,\n",
       "  'y': 6,\n",
       "  'text': '53.0%',\n",
       "  'xref': 'x',\n",
       "  'yref': 'y',\n",
       "  'showarrow': False,\n",
       "  'font': {'size': 10, 'color': 'white'}},\n",
       " {'x': 1,\n",
       "  'y': 7,\n",
       "  'text': '3.0%',\n",
       "  'xref': 'x',\n",
       "  'yref': 'y',\n",
       "  'showarrow': False,\n",
       "  'font': {'size': 10, 'color': 'white'}},\n",
       " {'x': 2,\n",
       "  'y': 7,\n",
       "  'text': '0.0%',\n",
       "  'xref': 'x',\n",
       "  'yref': 'y',\n",
       "  'showarrow': False,\n",
       "  'font': {'size': 10, 'color': 'white'}},\n",
       " {'x': 3,\n",
       "  'y': 7,\n",
       "  'text': '77.0%',\n",
       "  'xref': 'x',\n",
       "  'yref': 'y',\n",
       "  'showarrow': False,\n",
       "  'font': {'size': 10, 'color': 'white'}},\n",
       " {'x': 4,\n",
       "  'y': 7,\n",
       "  'text': '20.0%',\n",
       "  'xref': 'x',\n",
       "  'yref': 'y',\n",
       "  'showarrow': False,\n",
       "  'font': {'size': 10, 'color': 'white'}},\n",
       " {'x': 5,\n",
       "  'y': 7,\n",
       "  'text': '15.0%',\n",
       "  'xref': 'x',\n",
       "  'yref': 'y',\n",
       "  'showarrow': False,\n",
       "  'font': {'size': 10, 'color': 'white'}},\n",
       " {'x': 6,\n",
       "  'y': 7,\n",
       "  'text': '51.0%',\n",
       "  'xref': 'x',\n",
       "  'yref': 'y',\n",
       "  'showarrow': False,\n",
       "  'font': {'size': 10, 'color': 'white'}},\n",
       " {'x': 1,\n",
       "  'y': 8,\n",
       "  'text': '32.0%',\n",
       "  'xref': 'x',\n",
       "  'yref': 'y',\n",
       "  'showarrow': False,\n",
       "  'font': {'size': 10, 'color': 'white'}},\n",
       " {'x': 2,\n",
       "  'y': 8,\n",
       "  'text': '32.0%',\n",
       "  'xref': 'x',\n",
       "  'yref': 'y',\n",
       "  'showarrow': False,\n",
       "  'font': {'size': 10, 'color': 'white'}},\n",
       " {'x': 3,\n",
       "  'y': 8,\n",
       "  'text': '32.0%',\n",
       "  'xref': 'x',\n",
       "  'yref': 'y',\n",
       "  'showarrow': False,\n",
       "  'font': {'size': 10, 'color': 'white'}},\n",
       " {'x': 4,\n",
       "  'y': 8,\n",
       "  'text': '32.0%',\n",
       "  'xref': 'x',\n",
       "  'yref': 'y',\n",
       "  'showarrow': False,\n",
       "  'font': {'size': 10, 'color': 'white'}},\n",
       " {'x': 5,\n",
       "  'y': 8,\n",
       "  'text': '32.0%',\n",
       "  'xref': 'x',\n",
       "  'yref': 'y',\n",
       "  'showarrow': False,\n",
       "  'font': {'size': 10, 'color': 'white'}},\n",
       " {'x': 6,\n",
       "  'y': 8,\n",
       "  'text': '32.0%',\n",
       "  'xref': 'x',\n",
       "  'yref': 'y',\n",
       "  'showarrow': False,\n",
       "  'font': {'size': 10, 'color': 'white'}},\n",
       " {'x': 1,\n",
       "  'y': 9,\n",
       "  'text': '2.0%',\n",
       "  'xref': 'x',\n",
       "  'yref': 'y',\n",
       "  'showarrow': False,\n",
       "  'font': {'size': 10, 'color': 'white'}},\n",
       " {'x': 2,\n",
       "  'y': 9,\n",
       "  'text': '62.0%',\n",
       "  'xref': 'x',\n",
       "  'yref': 'y',\n",
       "  'showarrow': False,\n",
       "  'font': {'size': 10, 'color': 'white'}},\n",
       " {'x': 3,\n",
       "  'y': 9,\n",
       "  'text': '29.0%',\n",
       "  'xref': 'x',\n",
       "  'yref': 'y',\n",
       "  'showarrow': False,\n",
       "  'font': {'size': 10, 'color': 'white'}},\n",
       " {'x': 4,\n",
       "  'y': 9,\n",
       "  'text': '74.0%',\n",
       "  'xref': 'x',\n",
       "  'yref': 'y',\n",
       "  'showarrow': False,\n",
       "  'font': {'size': 10, 'color': 'white'}},\n",
       " {'x': 5,\n",
       "  'y': 9,\n",
       "  'text': '19.0%',\n",
       "  'xref': 'x',\n",
       "  'yref': 'y',\n",
       "  'showarrow': False,\n",
       "  'font': {'size': 10, 'color': 'white'}},\n",
       " {'x': 6,\n",
       "  'y': 9,\n",
       "  'text': '64.0%',\n",
       "  'xref': 'x',\n",
       "  'yref': 'y',\n",
       "  'showarrow': False,\n",
       "  'font': {'size': 10, 'color': 'white'}},\n",
       " {'x': 2,\n",
       "  'y': 10,\n",
       "  'text': '19.0%',\n",
       "  'xref': 'x',\n",
       "  'yref': 'y',\n",
       "  'showarrow': False,\n",
       "  'font': {'size': 10, 'color': 'white'}},\n",
       " {'x': 3,\n",
       "  'y': 10,\n",
       "  'text': '0.0%',\n",
       "  'xref': 'x',\n",
       "  'yref': 'y',\n",
       "  'showarrow': False,\n",
       "  'font': {'size': 10, 'color': 'white'}},\n",
       " {'x': 4,\n",
       "  'y': 10,\n",
       "  'text': '0.0%',\n",
       "  'xref': 'x',\n",
       "  'yref': 'y',\n",
       "  'showarrow': False,\n",
       "  'font': {'size': 10, 'color': 'white'}},\n",
       " {'x': 5,\n",
       "  'y': 10,\n",
       "  'text': '4.0%',\n",
       "  'xref': 'x',\n",
       "  'yref': 'y',\n",
       "  'showarrow': False,\n",
       "  'font': {'size': 10, 'color': 'white'}},\n",
       " {'x': 6,\n",
       "  'y': 10,\n",
       "  'text': '68.0%',\n",
       "  'xref': 'x',\n",
       "  'yref': 'y',\n",
       "  'showarrow': False,\n",
       "  'font': {'size': 10, 'color': 'white'}},\n",
       " {'x': 2,\n",
       "  'y': 11,\n",
       "  'text': '10.0%',\n",
       "  'xref': 'x',\n",
       "  'yref': 'y',\n",
       "  'showarrow': False,\n",
       "  'font': {'size': 10, 'color': 'white'}},\n",
       " {'x': 3,\n",
       "  'y': 11,\n",
       "  'text': '57.0%',\n",
       "  'xref': 'x',\n",
       "  'yref': 'y',\n",
       "  'showarrow': False,\n",
       "  'font': {'size': 10, 'color': 'white'}},\n",
       " {'x': 4,\n",
       "  'y': 11,\n",
       "  'text': '58.0%',\n",
       "  'xref': 'x',\n",
       "  'yref': 'y',\n",
       "  'showarrow': False,\n",
       "  'font': {'size': 10, 'color': 'white'}},\n",
       " {'x': 5,\n",
       "  'y': 11,\n",
       "  'text': '0.0%',\n",
       "  'xref': 'x',\n",
       "  'yref': 'y',\n",
       "  'showarrow': False,\n",
       "  'font': {'size': 10, 'color': 'white'}},\n",
       " {'x': 6,\n",
       "  'y': 11,\n",
       "  'text': '0.0%',\n",
       "  'xref': 'x',\n",
       "  'yref': 'y',\n",
       "  'showarrow': False,\n",
       "  'font': {'size': 10, 'color': 'white'}},\n",
       " {'x': 2,\n",
       "  'y': 12,\n",
       "  'text': '0.0%',\n",
       "  'xref': 'x',\n",
       "  'yref': 'y',\n",
       "  'showarrow': False,\n",
       "  'font': {'size': 10, 'color': 'white'}},\n",
       " {'x': 3,\n",
       "  'y': 12,\n",
       "  'text': '13.0%',\n",
       "  'xref': 'x',\n",
       "  'yref': 'y',\n",
       "  'showarrow': False,\n",
       "  'font': {'size': 10, 'color': 'white'}},\n",
       " {'x': 4,\n",
       "  'y': 12,\n",
       "  'text': '17.0%',\n",
       "  'xref': 'x',\n",
       "  'yref': 'y',\n",
       "  'showarrow': False,\n",
       "  'font': {'size': 10, 'color': 'white'}},\n",
       " {'x': 5,\n",
       "  'y': 12,\n",
       "  'text': '0.0%',\n",
       "  'xref': 'x',\n",
       "  'yref': 'y',\n",
       "  'showarrow': False,\n",
       "  'font': {'size': 10, 'color': 'white'}},\n",
       " {'x': 6,\n",
       "  'y': 12,\n",
       "  'text': '3.0%',\n",
       "  'xref': 'x',\n",
       "  'yref': 'y',\n",
       "  'showarrow': False,\n",
       "  'font': {'size': 10, 'color': 'white'}},\n",
       " {'x': 2,\n",
       "  'y': 13,\n",
       "  'text': '0.0%',\n",
       "  'xref': 'x',\n",
       "  'yref': 'y',\n",
       "  'showarrow': False,\n",
       "  'font': {'size': 10, 'color': 'white'}},\n",
       " {'x': 3,\n",
       "  'y': 13,\n",
       "  'text': '0.0%',\n",
       "  'xref': 'x',\n",
       "  'yref': 'y',\n",
       "  'showarrow': False,\n",
       "  'font': {'size': 10, 'color': 'white'}},\n",
       " {'x': 4,\n",
       "  'y': 13,\n",
       "  'text': '0.0%',\n",
       "  'xref': 'x',\n",
       "  'yref': 'y',\n",
       "  'showarrow': False,\n",
       "  'font': {'size': 10, 'color': 'white'}},\n",
       " {'x': 5,\n",
       "  'y': 13,\n",
       "  'text': '0.0%',\n",
       "  'xref': 'x',\n",
       "  'yref': 'y',\n",
       "  'showarrow': False,\n",
       "  'font': {'size': 10, 'color': 'white'}},\n",
       " {'x': 2,\n",
       "  'y': 14,\n",
       "  'text': '0.0%',\n",
       "  'xref': 'x',\n",
       "  'yref': 'y',\n",
       "  'showarrow': False,\n",
       "  'font': {'size': 10, 'color': 'white'}},\n",
       " {'x': 3,\n",
       "  'y': 14,\n",
       "  'text': '0.0%',\n",
       "  'xref': 'x',\n",
       "  'yref': 'y',\n",
       "  'showarrow': False,\n",
       "  'font': {'size': 10, 'color': 'white'}},\n",
       " {'x': 4,\n",
       "  'y': 14,\n",
       "  'text': '0.0%',\n",
       "  'xref': 'x',\n",
       "  'yref': 'y',\n",
       "  'showarrow': False,\n",
       "  'font': {'size': 10, 'color': 'white'}},\n",
       " {'x': 5,\n",
       "  'y': 14,\n",
       "  'text': '0.0%',\n",
       "  'xref': 'x',\n",
       "  'yref': 'y',\n",
       "  'showarrow': False,\n",
       "  'font': {'size': 10, 'color': 'white'}},\n",
       " {'x': 6,\n",
       "  'y': 14,\n",
       "  'text': '0.0%',\n",
       "  'xref': 'x',\n",
       "  'yref': 'y',\n",
       "  'showarrow': False,\n",
       "  'font': {'size': 10, 'color': 'white'}}]"
      ]
     },
     "execution_count": 170,
     "metadata": {},
     "output_type": "execute_result"
    }
   ],
   "source": [
    "annotations_noturno, _, _, _ = indicators_class.get_annotations(IndicatorType.EFFICIENCY)\n",
    "annotations_noturno"
   ]
  },
  {
   "cell_type": "markdown",
   "metadata": {},
   "source": [
    "# Gráficos\n"
   ]
  },
  {
   "cell_type": "markdown",
   "metadata": {},
   "source": [
    "## Gauge\n"
   ]
  },
  {
   "cell_type": "code",
   "execution_count": 171,
   "metadata": {},
   "outputs": [],
   "source": [
    "class Gauge:\n",
    "\n",
    "    def __init__(self):\n",
    "        self.danger = BSColorsEnum.DANGER_COLOR.value\n",
    "        self.success = BSColorsEnum.SUCCESS_COLOR.value\n",
    "\n",
    "    def create_gauge(\n",
    "        self, df: pd.DataFrame, indicator: IndicatorType, meta: int, template: str = None\n",
    "    ):\n",
    "        # Verificar se é mês atual ou mês anterior\n",
    "        this_month = df[\"data_registro\"].dt.month.max() == pd.Timestamp.now().month\n",
    "        month = \"Mês Atual\" if this_month else \"Mês Anterior\"\n",
    "\n",
    "        # Calcula a porcentagem de acordo com o indicador\n",
    "        percentage = df[indicator.value].mean()\n",
    "        percentage = percentage if percentage is not None else 0\n",
    "\n",
    "        # Arredonda o valor da porcentagem\n",
    "        percentage = round(percentage, 2)\n",
    "\n",
    "        # Define a cor de acordo com a porcentagem\n",
    "        color = self.danger if percentage > (meta / 100) else self.success\n",
    "\n",
    "        if indicator == IndicatorType.EFFICIENCY:\n",
    "            color = self.success if percentage >= (meta / 100) else self.danger\n",
    "\n",
    "        # Definis a escala\n",
    "        axis_range = [0, 100] if indicator == IndicatorType.EFFICIENCY else [40, 0]\n",
    "\n",
    "        # Criar o gráfico\n",
    "        figure = go.Figure(\n",
    "            go.Indicator(\n",
    "                mode=\"gauge+number\",\n",
    "                value=percentage * 100,\n",
    "                number={\"suffix\": \"%\"},\n",
    "                domain={\"x\": [0, 1], \"y\": [0, 1]},\n",
    "                title={\"text\": f\"{month}\", \"font\": {\"size\": 14}},\n",
    "                gauge={\n",
    "                    \"axis\": {\n",
    "                        \"range\": axis_range,\n",
    "                        \"tickfont\": {\"size\": 8},\n",
    "                    },\n",
    "                    \"bar\": {\"color\": color},\n",
    "                    \"steps\": [\n",
    "                        {\"range\": [0, 100], \"color\": \"lightgray\"},\n",
    "                    ],\n",
    "                    \"threshold\": {\n",
    "                        \"line\": {\"color\": \"black\", \"width\": 2},\n",
    "                        \"thickness\": 0.75,\n",
    "                        \"value\": meta,\n",
    "                    },\n",
    "                },\n",
    "            )\n",
    "        )\n",
    "\n",
    "        figure.update_layout(\n",
    "            autosize=True,\n",
    "            margin=dict(t=30, b=30, l=30, r=30),\n",
    "            plot_bgcolor=\"white\",\n",
    "            height=250,\n",
    "            font=dict({\"family\": \"Inter\"}),\n",
    "        )\n",
    "\n",
    "        return figure\n",
    "\n",
    "\n",
    "gauge = Gauge()"
   ]
  },
  {
   "cell_type": "code",
   "execution_count": 172,
   "metadata": {},
   "outputs": [
    {
     "data": {
      "application/vnd.plotly.v1+json": {
       "config": {
        "plotlyServerURL": "https://plot.ly"
       },
       "data": [
        {
         "domain": {
          "x": [
           0,
           1
          ],
          "y": [
           0,
           1
          ]
         },
         "gauge": {
          "axis": {
           "range": [
            0,
            100
           ],
           "tickfont": {
            "size": 8
           }
          },
          "bar": {
           "color": "#dc3545"
          },
          "steps": [
           {
            "color": "lightgray",
            "range": [
             0,
             100
            ]
           }
          ],
          "threshold": {
           "line": {
            "color": "black",
            "width": 2
           },
           "thickness": 0.75,
           "value": 85
          }
         },
         "mode": "gauge+number",
         "number": {
          "suffix": "%"
         },
         "title": {
          "font": {
           "size": 14
          },
          "text": "Mês Atual"
         },
         "type": "indicator",
         "value": 30
        }
       ],
       "layout": {
        "autosize": true,
        "font": {
         "family": "Inter"
        },
        "height": 250,
        "margin": {
         "b": 30,
         "l": 30,
         "r": 30,
         "t": 30
        },
        "plot_bgcolor": "white",
        "template": {
         "data": {
          "bar": [
           {
            "error_x": {
             "color": "#2a3f5f"
            },
            "error_y": {
             "color": "#2a3f5f"
            },
            "marker": {
             "line": {
              "color": "#E5ECF6",
              "width": 0.5
             },
             "pattern": {
              "fillmode": "overlay",
              "size": 10,
              "solidity": 0.2
             }
            },
            "type": "bar"
           }
          ],
          "barpolar": [
           {
            "marker": {
             "line": {
              "color": "#E5ECF6",
              "width": 0.5
             },
             "pattern": {
              "fillmode": "overlay",
              "size": 10,
              "solidity": 0.2
             }
            },
            "type": "barpolar"
           }
          ],
          "carpet": [
           {
            "aaxis": {
             "endlinecolor": "#2a3f5f",
             "gridcolor": "white",
             "linecolor": "white",
             "minorgridcolor": "white",
             "startlinecolor": "#2a3f5f"
            },
            "baxis": {
             "endlinecolor": "#2a3f5f",
             "gridcolor": "white",
             "linecolor": "white",
             "minorgridcolor": "white",
             "startlinecolor": "#2a3f5f"
            },
            "type": "carpet"
           }
          ],
          "choropleth": [
           {
            "colorbar": {
             "outlinewidth": 0,
             "ticks": ""
            },
            "type": "choropleth"
           }
          ],
          "contour": [
           {
            "colorbar": {
             "outlinewidth": 0,
             "ticks": ""
            },
            "colorscale": [
             [
              0,
              "#0d0887"
             ],
             [
              0.1111111111111111,
              "#46039f"
             ],
             [
              0.2222222222222222,
              "#7201a8"
             ],
             [
              0.3333333333333333,
              "#9c179e"
             ],
             [
              0.4444444444444444,
              "#bd3786"
             ],
             [
              0.5555555555555556,
              "#d8576b"
             ],
             [
              0.6666666666666666,
              "#ed7953"
             ],
             [
              0.7777777777777778,
              "#fb9f3a"
             ],
             [
              0.8888888888888888,
              "#fdca26"
             ],
             [
              1,
              "#f0f921"
             ]
            ],
            "type": "contour"
           }
          ],
          "contourcarpet": [
           {
            "colorbar": {
             "outlinewidth": 0,
             "ticks": ""
            },
            "type": "contourcarpet"
           }
          ],
          "heatmap": [
           {
            "colorbar": {
             "outlinewidth": 0,
             "ticks": ""
            },
            "colorscale": [
             [
              0,
              "#0d0887"
             ],
             [
              0.1111111111111111,
              "#46039f"
             ],
             [
              0.2222222222222222,
              "#7201a8"
             ],
             [
              0.3333333333333333,
              "#9c179e"
             ],
             [
              0.4444444444444444,
              "#bd3786"
             ],
             [
              0.5555555555555556,
              "#d8576b"
             ],
             [
              0.6666666666666666,
              "#ed7953"
             ],
             [
              0.7777777777777778,
              "#fb9f3a"
             ],
             [
              0.8888888888888888,
              "#fdca26"
             ],
             [
              1,
              "#f0f921"
             ]
            ],
            "type": "heatmap"
           }
          ],
          "heatmapgl": [
           {
            "colorbar": {
             "outlinewidth": 0,
             "ticks": ""
            },
            "colorscale": [
             [
              0,
              "#0d0887"
             ],
             [
              0.1111111111111111,
              "#46039f"
             ],
             [
              0.2222222222222222,
              "#7201a8"
             ],
             [
              0.3333333333333333,
              "#9c179e"
             ],
             [
              0.4444444444444444,
              "#bd3786"
             ],
             [
              0.5555555555555556,
              "#d8576b"
             ],
             [
              0.6666666666666666,
              "#ed7953"
             ],
             [
              0.7777777777777778,
              "#fb9f3a"
             ],
             [
              0.8888888888888888,
              "#fdca26"
             ],
             [
              1,
              "#f0f921"
             ]
            ],
            "type": "heatmapgl"
           }
          ],
          "histogram": [
           {
            "marker": {
             "pattern": {
              "fillmode": "overlay",
              "size": 10,
              "solidity": 0.2
             }
            },
            "type": "histogram"
           }
          ],
          "histogram2d": [
           {
            "colorbar": {
             "outlinewidth": 0,
             "ticks": ""
            },
            "colorscale": [
             [
              0,
              "#0d0887"
             ],
             [
              0.1111111111111111,
              "#46039f"
             ],
             [
              0.2222222222222222,
              "#7201a8"
             ],
             [
              0.3333333333333333,
              "#9c179e"
             ],
             [
              0.4444444444444444,
              "#bd3786"
             ],
             [
              0.5555555555555556,
              "#d8576b"
             ],
             [
              0.6666666666666666,
              "#ed7953"
             ],
             [
              0.7777777777777778,
              "#fb9f3a"
             ],
             [
              0.8888888888888888,
              "#fdca26"
             ],
             [
              1,
              "#f0f921"
             ]
            ],
            "type": "histogram2d"
           }
          ],
          "histogram2dcontour": [
           {
            "colorbar": {
             "outlinewidth": 0,
             "ticks": ""
            },
            "colorscale": [
             [
              0,
              "#0d0887"
             ],
             [
              0.1111111111111111,
              "#46039f"
             ],
             [
              0.2222222222222222,
              "#7201a8"
             ],
             [
              0.3333333333333333,
              "#9c179e"
             ],
             [
              0.4444444444444444,
              "#bd3786"
             ],
             [
              0.5555555555555556,
              "#d8576b"
             ],
             [
              0.6666666666666666,
              "#ed7953"
             ],
             [
              0.7777777777777778,
              "#fb9f3a"
             ],
             [
              0.8888888888888888,
              "#fdca26"
             ],
             [
              1,
              "#f0f921"
             ]
            ],
            "type": "histogram2dcontour"
           }
          ],
          "mesh3d": [
           {
            "colorbar": {
             "outlinewidth": 0,
             "ticks": ""
            },
            "type": "mesh3d"
           }
          ],
          "parcoords": [
           {
            "line": {
             "colorbar": {
              "outlinewidth": 0,
              "ticks": ""
             }
            },
            "type": "parcoords"
           }
          ],
          "pie": [
           {
            "automargin": true,
            "type": "pie"
           }
          ],
          "scatter": [
           {
            "fillpattern": {
             "fillmode": "overlay",
             "size": 10,
             "solidity": 0.2
            },
            "type": "scatter"
           }
          ],
          "scatter3d": [
           {
            "line": {
             "colorbar": {
              "outlinewidth": 0,
              "ticks": ""
             }
            },
            "marker": {
             "colorbar": {
              "outlinewidth": 0,
              "ticks": ""
             }
            },
            "type": "scatter3d"
           }
          ],
          "scattercarpet": [
           {
            "marker": {
             "colorbar": {
              "outlinewidth": 0,
              "ticks": ""
             }
            },
            "type": "scattercarpet"
           }
          ],
          "scattergeo": [
           {
            "marker": {
             "colorbar": {
              "outlinewidth": 0,
              "ticks": ""
             }
            },
            "type": "scattergeo"
           }
          ],
          "scattergl": [
           {
            "marker": {
             "colorbar": {
              "outlinewidth": 0,
              "ticks": ""
             }
            },
            "type": "scattergl"
           }
          ],
          "scattermapbox": [
           {
            "marker": {
             "colorbar": {
              "outlinewidth": 0,
              "ticks": ""
             }
            },
            "type": "scattermapbox"
           }
          ],
          "scatterpolar": [
           {
            "marker": {
             "colorbar": {
              "outlinewidth": 0,
              "ticks": ""
             }
            },
            "type": "scatterpolar"
           }
          ],
          "scatterpolargl": [
           {
            "marker": {
             "colorbar": {
              "outlinewidth": 0,
              "ticks": ""
             }
            },
            "type": "scatterpolargl"
           }
          ],
          "scatterternary": [
           {
            "marker": {
             "colorbar": {
              "outlinewidth": 0,
              "ticks": ""
             }
            },
            "type": "scatterternary"
           }
          ],
          "surface": [
           {
            "colorbar": {
             "outlinewidth": 0,
             "ticks": ""
            },
            "colorscale": [
             [
              0,
              "#0d0887"
             ],
             [
              0.1111111111111111,
              "#46039f"
             ],
             [
              0.2222222222222222,
              "#7201a8"
             ],
             [
              0.3333333333333333,
              "#9c179e"
             ],
             [
              0.4444444444444444,
              "#bd3786"
             ],
             [
              0.5555555555555556,
              "#d8576b"
             ],
             [
              0.6666666666666666,
              "#ed7953"
             ],
             [
              0.7777777777777778,
              "#fb9f3a"
             ],
             [
              0.8888888888888888,
              "#fdca26"
             ],
             [
              1,
              "#f0f921"
             ]
            ],
            "type": "surface"
           }
          ],
          "table": [
           {
            "cells": {
             "fill": {
              "color": "#EBF0F8"
             },
             "line": {
              "color": "white"
             }
            },
            "header": {
             "fill": {
              "color": "#C8D4E3"
             },
             "line": {
              "color": "white"
             }
            },
            "type": "table"
           }
          ]
         },
         "layout": {
          "annotationdefaults": {
           "arrowcolor": "#2a3f5f",
           "arrowhead": 0,
           "arrowwidth": 1
          },
          "autotypenumbers": "strict",
          "coloraxis": {
           "colorbar": {
            "outlinewidth": 0,
            "ticks": ""
           }
          },
          "colorscale": {
           "diverging": [
            [
             0,
             "#8e0152"
            ],
            [
             0.1,
             "#c51b7d"
            ],
            [
             0.2,
             "#de77ae"
            ],
            [
             0.3,
             "#f1b6da"
            ],
            [
             0.4,
             "#fde0ef"
            ],
            [
             0.5,
             "#f7f7f7"
            ],
            [
             0.6,
             "#e6f5d0"
            ],
            [
             0.7,
             "#b8e186"
            ],
            [
             0.8,
             "#7fbc41"
            ],
            [
             0.9,
             "#4d9221"
            ],
            [
             1,
             "#276419"
            ]
           ],
           "sequential": [
            [
             0,
             "#0d0887"
            ],
            [
             0.1111111111111111,
             "#46039f"
            ],
            [
             0.2222222222222222,
             "#7201a8"
            ],
            [
             0.3333333333333333,
             "#9c179e"
            ],
            [
             0.4444444444444444,
             "#bd3786"
            ],
            [
             0.5555555555555556,
             "#d8576b"
            ],
            [
             0.6666666666666666,
             "#ed7953"
            ],
            [
             0.7777777777777778,
             "#fb9f3a"
            ],
            [
             0.8888888888888888,
             "#fdca26"
            ],
            [
             1,
             "#f0f921"
            ]
           ],
           "sequentialminus": [
            [
             0,
             "#0d0887"
            ],
            [
             0.1111111111111111,
             "#46039f"
            ],
            [
             0.2222222222222222,
             "#7201a8"
            ],
            [
             0.3333333333333333,
             "#9c179e"
            ],
            [
             0.4444444444444444,
             "#bd3786"
            ],
            [
             0.5555555555555556,
             "#d8576b"
            ],
            [
             0.6666666666666666,
             "#ed7953"
            ],
            [
             0.7777777777777778,
             "#fb9f3a"
            ],
            [
             0.8888888888888888,
             "#fdca26"
            ],
            [
             1,
             "#f0f921"
            ]
           ]
          },
          "colorway": [
           "#636efa",
           "#EF553B",
           "#00cc96",
           "#ab63fa",
           "#FFA15A",
           "#19d3f3",
           "#FF6692",
           "#B6E880",
           "#FF97FF",
           "#FECB52"
          ],
          "font": {
           "color": "#2a3f5f"
          },
          "geo": {
           "bgcolor": "white",
           "lakecolor": "white",
           "landcolor": "#E5ECF6",
           "showlakes": true,
           "showland": true,
           "subunitcolor": "white"
          },
          "hoverlabel": {
           "align": "left"
          },
          "hovermode": "closest",
          "mapbox": {
           "style": "light"
          },
          "paper_bgcolor": "white",
          "plot_bgcolor": "#E5ECF6",
          "polar": {
           "angularaxis": {
            "gridcolor": "white",
            "linecolor": "white",
            "ticks": ""
           },
           "bgcolor": "#E5ECF6",
           "radialaxis": {
            "gridcolor": "white",
            "linecolor": "white",
            "ticks": ""
           }
          },
          "scene": {
           "xaxis": {
            "backgroundcolor": "#E5ECF6",
            "gridcolor": "white",
            "gridwidth": 2,
            "linecolor": "white",
            "showbackground": true,
            "ticks": "",
            "zerolinecolor": "white"
           },
           "yaxis": {
            "backgroundcolor": "#E5ECF6",
            "gridcolor": "white",
            "gridwidth": 2,
            "linecolor": "white",
            "showbackground": true,
            "ticks": "",
            "zerolinecolor": "white"
           },
           "zaxis": {
            "backgroundcolor": "#E5ECF6",
            "gridcolor": "white",
            "gridwidth": 2,
            "linecolor": "white",
            "showbackground": true,
            "ticks": "",
            "zerolinecolor": "white"
           }
          },
          "shapedefaults": {
           "line": {
            "color": "#2a3f5f"
           }
          },
          "ternary": {
           "aaxis": {
            "gridcolor": "white",
            "linecolor": "white",
            "ticks": ""
           },
           "baxis": {
            "gridcolor": "white",
            "linecolor": "white",
            "ticks": ""
           },
           "bgcolor": "#E5ECF6",
           "caxis": {
            "gridcolor": "white",
            "linecolor": "white",
            "ticks": ""
           }
          },
          "title": {
           "x": 0.05
          },
          "xaxis": {
           "automargin": true,
           "gridcolor": "white",
           "linecolor": "white",
           "ticks": "",
           "title": {
            "standoff": 15
           },
           "zerolinecolor": "white",
           "zerolinewidth": 2
          },
          "yaxis": {
           "automargin": true,
           "gridcolor": "white",
           "linecolor": "white",
           "ticks": "",
           "title": {
            "standoff": 15
           },
           "zerolinecolor": "white",
           "zerolinewidth": 2
          }
         }
        }
       }
      }
     },
     "metadata": {},
     "output_type": "display_data"
    }
   ],
   "source": [
    "gauge_fig = gauge.create_gauge(df_eff, IndicatorType.EFFICIENCY, 85)\n",
    "gauge_fig"
   ]
  },
  {
   "cell_type": "markdown",
   "metadata": {},
   "source": [
    "## Heatmap\n"
   ]
  },
  {
   "cell_type": "code",
   "execution_count": 173,
   "metadata": {},
   "outputs": [],
   "source": [
    "class Heatmap:\n",
    "    \"\"\"\n",
    "    A class representing a heatmap graph.\n",
    "\n",
    "    Attributes:\n",
    "        danger (str): The color value for the danger indicator.\n",
    "        success (str): The color value for the success indicator.\n",
    "\n",
    "    Methods:\n",
    "        create_heatmap: Create a heatmap graph based on the provided data.\n",
    "    \"\"\"\n",
    "\n",
    "    def __init__(self):\n",
    "        self.danger = BSColorsEnum.DANGER_COLOR.value\n",
    "        self.success = BSColorsEnum.SUCCESS_COLOR.value\n",
    "\n",
    "    def create_heatmap(\n",
    "        self,\n",
    "        dataframe: pd.DataFrame,\n",
    "        annotations: list,\n",
    "        indicator: IndicatorType,\n",
    "        meta: int,\n",
    "        template: str = None,\n",
    "        turn: str = False,\n",
    "    ):\n",
    "        \"\"\"\n",
    "        Create a heatmap graph based on the provided data.\n",
    "\n",
    "        Args:\n",
    "            dataframe (pd.DataFrame): The data to be visualized in the heatmap.\n",
    "            annotations (list): List of annotations to be displayed on the heatmap.\n",
    "            indicator (IndicatorType): The type of indicator to be visualized.\n",
    "            meta (int): The meta value for the indicator.\n",
    "            template (str, optional): The template to be used for the graph. Defaults to None.\n",
    "            turn (str, optional): Whether to display the heatmap by turn or not. Defaults to False.\n",
    "\n",
    "        Returns:\n",
    "            dcc.Graph: The heatmap graph.\n",
    "        \"\"\"\n",
    "\n",
    "        # Meta p/ uso em cores\n",
    "        color_meta = meta / 100\n",
    "\n",
    "        # Cria escala de cores\n",
    "        color_scale = {\n",
    "            IndicatorType.EFFICIENCY: [\n",
    "                [0, self.danger],\n",
    "                [color_meta, self.danger],\n",
    "                [color_meta, self.success],\n",
    "                [1, self.success],\n",
    "            ],\n",
    "            IndicatorType.PERFORMANCE: [\n",
    "                [0, self.success],\n",
    "                [color_meta, self.success],\n",
    "                [color_meta, self.danger],\n",
    "                [1, self.danger],\n",
    "            ],\n",
    "            IndicatorType.REPAIR: [\n",
    "                [0, self.success],\n",
    "                [color_meta, self.success],\n",
    "                [color_meta, self.danger],\n",
    "                [1, self.danger],\n",
    "            ],\n",
    "        }\n",
    "\n",
    "        # Extrai apenas o dia da data\n",
    "        dataframe.columns = pd.to_datetime(dataframe.columns).day\n",
    "\n",
    "        # Cria o hover data\n",
    "        hover_data = (\n",
    "            f\"Turno: %{{y}}<br>Dia: %{{x}}<br>{indicator.value.capitalize()}: %{{z:.1%}}\"\n",
    "            if not turn\n",
    "            else f\"Linha: %{{y}}<br>Dia: %{{x}}<br>{indicator.value.capitalize()}: %{{z:.1%}}\"\n",
    "        )\n",
    "\n",
    "        tick_color = \"gray\"\n",
    "\n",
    "        # Cria o heatmap\n",
    "        figure = go.Figure(\n",
    "            data=go.Heatmap(\n",
    "                z=dataframe.values,\n",
    "                x=dataframe.columns,\n",
    "                y=dataframe.index,\n",
    "                colorscale=color_scale[indicator],\n",
    "                name=indicator.value.capitalize(),\n",
    "                zmin=0,\n",
    "                zmax=1,\n",
    "                hoverongaps=False,\n",
    "                hovertemplate=hover_data,\n",
    "                showscale=False,\n",
    "                xgap=1,\n",
    "                ygap=1,\n",
    "            ),\n",
    "            layout=go.Layout(\n",
    "                title=f\"{indicator.value.capitalize()} - Meta: {meta}%\",\n",
    "                title_x=0.5,\n",
    "                xaxis=dict(\n",
    "                    title=\"Dia do Mês\",\n",
    "                    tickfont=dict(color=tick_color),\n",
    "                    tickmode=\"linear\",\n",
    "                    nticks=31,\n",
    "                    tickvals=list(range(1, 32)),\n",
    "                    ticktext=list(range(1, 32)),\n",
    "                    tickangle=0,\n",
    "                ),\n",
    "                yaxis=dict(title=\"Turno\", tickfont=dict(color=tick_color), ticksuffix=\" \"),\n",
    "                font=dict(family=\"Inter\"),\n",
    "                margin=dict(t=40, b=40, l=40, r=40),\n",
    "                annotations=annotations,\n",
    "                plot_bgcolor=\"RGBA(0,0,0,0.01)\",\n",
    "            ),\n",
    "        )\n",
    "\n",
    "        if turn:\n",
    "            figure.update_layout(\n",
    "                yaxis=dict(\n",
    "                    title=\"Linha\",\n",
    "                    autorange=\"reversed\",\n",
    "                    tickvals=list(range(1, dataframe.index.nunique() + 1)),\n",
    "                )\n",
    "            )\n",
    "\n",
    "        return figure\n",
    "\n",
    "\n",
    "heatmap = Heatmap()"
   ]
  },
  {
   "cell_type": "code",
   "execution_count": 174,
   "metadata": {},
   "outputs": [
    {
     "data": {
      "application/vnd.plotly.v1+json": {
       "config": {
        "plotlyServerURL": "https://plot.ly"
       },
       "data": [
        {
         "colorscale": [
          [
           0,
           "#dc3545"
          ],
          [
           0.85,
           "#dc3545"
          ],
          [
           0.85,
           "#198754"
          ],
          [
           1,
           "#198754"
          ]
         ],
         "hoverongaps": false,
         "hovertemplate": "Linha: %{y}<br>Dia: %{x}<br>Eficiencia: %{z:.1%}",
         "name": "Eficiencia",
         "showscale": false,
         "type": "heatmap",
         "x": [
          1,
          2,
          3,
          4,
          5,
          6,
          7,
          8,
          9,
          10,
          11,
          12,
          13,
          14,
          15,
          16,
          17,
          18,
          19,
          20,
          21,
          22,
          23,
          24,
          25,
          26,
          27,
          28,
          29,
          30,
          31
         ],
         "xgap": 1,
         "y": [
          1,
          2,
          4,
          5,
          6,
          7,
          8,
          9,
          10,
          11,
          12,
          13,
          14
         ],
         "ygap": 1,
         "z": [
          [
           0,
           0.62,
           0.86,
           0.76,
           0.3,
           0.8,
           null,
           null,
           null,
           null,
           null,
           null,
           null,
           null,
           null,
           null,
           null,
           null,
           null,
           null,
           null,
           null,
           null,
           null,
           null,
           null,
           null,
           null,
           null,
           null,
           null
          ],
          [
           0,
           0.65,
           0.15,
           0.72,
           0.2,
           0.76,
           null,
           null,
           null,
           null,
           null,
           null,
           null,
           null,
           null,
           null,
           null,
           null,
           null,
           null,
           null,
           null,
           null,
           null,
           null,
           null,
           null,
           null,
           null,
           null,
           null
          ],
          [
           0,
           0.72,
           0.78,
           0.81,
           0.2,
           0.5,
           null,
           null,
           null,
           null,
           null,
           null,
           null,
           null,
           null,
           null,
           null,
           null,
           null,
           null,
           null,
           null,
           null,
           null,
           null,
           null,
           null,
           null,
           null,
           null,
           null
          ],
          [
           0.02,
           0.65,
           0.62,
           0.61,
           0.13,
           0.87,
           null,
           null,
           null,
           null,
           null,
           null,
           null,
           null,
           null,
           null,
           null,
           null,
           null,
           null,
           null,
           null,
           null,
           null,
           null,
           null,
           null,
           null,
           null,
           null,
           null
          ],
          [
           0.03,
           0.4,
           0.13,
           0.04,
           0.14,
           0.53,
           null,
           null,
           null,
           null,
           null,
           null,
           null,
           null,
           null,
           null,
           null,
           null,
           null,
           null,
           null,
           null,
           null,
           null,
           null,
           null,
           null,
           null,
           null,
           null,
           null
          ],
          [
           0.03,
           0,
           0.77,
           0.2,
           0.15,
           0.51,
           null,
           null,
           null,
           null,
           null,
           null,
           null,
           null,
           null,
           null,
           null,
           null,
           null,
           null,
           null,
           null,
           null,
           null,
           null,
           null,
           null,
           null,
           null,
           null,
           null
          ],
          [
           0.32,
           0.32,
           0.32,
           0.32,
           0.32,
           0.32,
           null,
           null,
           null,
           null,
           null,
           null,
           null,
           null,
           null,
           null,
           null,
           null,
           null,
           null,
           null,
           null,
           null,
           null,
           null,
           null,
           null,
           null,
           null,
           null,
           null
          ],
          [
           0.02,
           0.62,
           0.29,
           0.74,
           0.19,
           0.64,
           null,
           null,
           null,
           null,
           null,
           null,
           null,
           null,
           null,
           null,
           null,
           null,
           null,
           null,
           null,
           null,
           null,
           null,
           null,
           null,
           null,
           null,
           null,
           null,
           null
          ],
          [
           null,
           0.19,
           0,
           0,
           0.04,
           0.68,
           null,
           null,
           null,
           null,
           null,
           null,
           null,
           null,
           null,
           null,
           null,
           null,
           null,
           null,
           null,
           null,
           null,
           null,
           null,
           null,
           null,
           null,
           null,
           null,
           null
          ],
          [
           null,
           0.1,
           0.57,
           0.58,
           0,
           0,
           null,
           null,
           null,
           null,
           null,
           null,
           null,
           null,
           null,
           null,
           null,
           null,
           null,
           null,
           null,
           null,
           null,
           null,
           null,
           null,
           null,
           null,
           null,
           null,
           null
          ],
          [
           null,
           0,
           0.13,
           0.17,
           0,
           0.03,
           null,
           null,
           null,
           null,
           null,
           null,
           null,
           null,
           null,
           null,
           null,
           null,
           null,
           null,
           null,
           null,
           null,
           null,
           null,
           null,
           null,
           null,
           null,
           null,
           null
          ],
          [
           null,
           0,
           0,
           0,
           0,
           null,
           null,
           null,
           null,
           null,
           null,
           null,
           null,
           null,
           null,
           null,
           null,
           null,
           null,
           null,
           null,
           null,
           null,
           null,
           null,
           null,
           null,
           null,
           null,
           null,
           null
          ],
          [
           null,
           0,
           0,
           0,
           0,
           0,
           null,
           null,
           null,
           null,
           null,
           null,
           null,
           null,
           null,
           null,
           null,
           null,
           null,
           null,
           null,
           null,
           null,
           null,
           null,
           null,
           null,
           null,
           null,
           null,
           null
          ]
         ],
         "zmax": 1,
         "zmin": 0
        }
       ],
       "layout": {
        "annotations": [
         {
          "font": {
           "color": "white",
           "size": 10
          },
          "showarrow": false,
          "text": "0.0%",
          "x": 1,
          "xref": "x",
          "y": 1,
          "yref": "y"
         },
         {
          "font": {
           "color": "white",
           "size": 10
          },
          "showarrow": false,
          "text": "62.0%",
          "x": 2,
          "xref": "x",
          "y": 1,
          "yref": "y"
         },
         {
          "font": {
           "color": "white",
           "size": 10
          },
          "showarrow": false,
          "text": "86.0%",
          "x": 3,
          "xref": "x",
          "y": 1,
          "yref": "y"
         },
         {
          "font": {
           "color": "white",
           "size": 10
          },
          "showarrow": false,
          "text": "76.0%",
          "x": 4,
          "xref": "x",
          "y": 1,
          "yref": "y"
         },
         {
          "font": {
           "color": "white",
           "size": 10
          },
          "showarrow": false,
          "text": "30.0%",
          "x": 5,
          "xref": "x",
          "y": 1,
          "yref": "y"
         },
         {
          "font": {
           "color": "white",
           "size": 10
          },
          "showarrow": false,
          "text": "80.0%",
          "x": 6,
          "xref": "x",
          "y": 1,
          "yref": "y"
         },
         {
          "font": {
           "color": "white",
           "size": 10
          },
          "showarrow": false,
          "text": "0.0%",
          "x": 1,
          "xref": "x",
          "y": 2,
          "yref": "y"
         },
         {
          "font": {
           "color": "white",
           "size": 10
          },
          "showarrow": false,
          "text": "65.0%",
          "x": 2,
          "xref": "x",
          "y": 2,
          "yref": "y"
         },
         {
          "font": {
           "color": "white",
           "size": 10
          },
          "showarrow": false,
          "text": "15.0%",
          "x": 3,
          "xref": "x",
          "y": 2,
          "yref": "y"
         },
         {
          "font": {
           "color": "white",
           "size": 10
          },
          "showarrow": false,
          "text": "72.0%",
          "x": 4,
          "xref": "x",
          "y": 2,
          "yref": "y"
         },
         {
          "font": {
           "color": "white",
           "size": 10
          },
          "showarrow": false,
          "text": "20.0%",
          "x": 5,
          "xref": "x",
          "y": 2,
          "yref": "y"
         },
         {
          "font": {
           "color": "white",
           "size": 10
          },
          "showarrow": false,
          "text": "76.0%",
          "x": 6,
          "xref": "x",
          "y": 2,
          "yref": "y"
         },
         {
          "font": {
           "color": "white",
           "size": 10
          },
          "showarrow": false,
          "text": "0.0%",
          "x": 1,
          "xref": "x",
          "y": 4,
          "yref": "y"
         },
         {
          "font": {
           "color": "white",
           "size": 10
          },
          "showarrow": false,
          "text": "72.0%",
          "x": 2,
          "xref": "x",
          "y": 4,
          "yref": "y"
         },
         {
          "font": {
           "color": "white",
           "size": 10
          },
          "showarrow": false,
          "text": "78.0%",
          "x": 3,
          "xref": "x",
          "y": 4,
          "yref": "y"
         },
         {
          "font": {
           "color": "white",
           "size": 10
          },
          "showarrow": false,
          "text": "81.0%",
          "x": 4,
          "xref": "x",
          "y": 4,
          "yref": "y"
         },
         {
          "font": {
           "color": "white",
           "size": 10
          },
          "showarrow": false,
          "text": "20.0%",
          "x": 5,
          "xref": "x",
          "y": 4,
          "yref": "y"
         },
         {
          "font": {
           "color": "white",
           "size": 10
          },
          "showarrow": false,
          "text": "50.0%",
          "x": 6,
          "xref": "x",
          "y": 4,
          "yref": "y"
         },
         {
          "font": {
           "color": "white",
           "size": 10
          },
          "showarrow": false,
          "text": "2.0%",
          "x": 1,
          "xref": "x",
          "y": 5,
          "yref": "y"
         },
         {
          "font": {
           "color": "white",
           "size": 10
          },
          "showarrow": false,
          "text": "65.0%",
          "x": 2,
          "xref": "x",
          "y": 5,
          "yref": "y"
         },
         {
          "font": {
           "color": "white",
           "size": 10
          },
          "showarrow": false,
          "text": "62.0%",
          "x": 3,
          "xref": "x",
          "y": 5,
          "yref": "y"
         },
         {
          "font": {
           "color": "white",
           "size": 10
          },
          "showarrow": false,
          "text": "61.0%",
          "x": 4,
          "xref": "x",
          "y": 5,
          "yref": "y"
         },
         {
          "font": {
           "color": "white",
           "size": 10
          },
          "showarrow": false,
          "text": "13.0%",
          "x": 5,
          "xref": "x",
          "y": 5,
          "yref": "y"
         },
         {
          "font": {
           "color": "white",
           "size": 10
          },
          "showarrow": false,
          "text": "87.0%",
          "x": 6,
          "xref": "x",
          "y": 5,
          "yref": "y"
         },
         {
          "font": {
           "color": "white",
           "size": 10
          },
          "showarrow": false,
          "text": "3.0%",
          "x": 1,
          "xref": "x",
          "y": 6,
          "yref": "y"
         },
         {
          "font": {
           "color": "white",
           "size": 10
          },
          "showarrow": false,
          "text": "40.0%",
          "x": 2,
          "xref": "x",
          "y": 6,
          "yref": "y"
         },
         {
          "font": {
           "color": "white",
           "size": 10
          },
          "showarrow": false,
          "text": "13.0%",
          "x": 3,
          "xref": "x",
          "y": 6,
          "yref": "y"
         },
         {
          "font": {
           "color": "white",
           "size": 10
          },
          "showarrow": false,
          "text": "4.0%",
          "x": 4,
          "xref": "x",
          "y": 6,
          "yref": "y"
         },
         {
          "font": {
           "color": "white",
           "size": 10
          },
          "showarrow": false,
          "text": "14.0%",
          "x": 5,
          "xref": "x",
          "y": 6,
          "yref": "y"
         },
         {
          "font": {
           "color": "white",
           "size": 10
          },
          "showarrow": false,
          "text": "53.0%",
          "x": 6,
          "xref": "x",
          "y": 6,
          "yref": "y"
         },
         {
          "font": {
           "color": "white",
           "size": 10
          },
          "showarrow": false,
          "text": "3.0%",
          "x": 1,
          "xref": "x",
          "y": 7,
          "yref": "y"
         },
         {
          "font": {
           "color": "white",
           "size": 10
          },
          "showarrow": false,
          "text": "0.0%",
          "x": 2,
          "xref": "x",
          "y": 7,
          "yref": "y"
         },
         {
          "font": {
           "color": "white",
           "size": 10
          },
          "showarrow": false,
          "text": "77.0%",
          "x": 3,
          "xref": "x",
          "y": 7,
          "yref": "y"
         },
         {
          "font": {
           "color": "white",
           "size": 10
          },
          "showarrow": false,
          "text": "20.0%",
          "x": 4,
          "xref": "x",
          "y": 7,
          "yref": "y"
         },
         {
          "font": {
           "color": "white",
           "size": 10
          },
          "showarrow": false,
          "text": "15.0%",
          "x": 5,
          "xref": "x",
          "y": 7,
          "yref": "y"
         },
         {
          "font": {
           "color": "white",
           "size": 10
          },
          "showarrow": false,
          "text": "51.0%",
          "x": 6,
          "xref": "x",
          "y": 7,
          "yref": "y"
         },
         {
          "font": {
           "color": "white",
           "size": 10
          },
          "showarrow": false,
          "text": "32.0%",
          "x": 1,
          "xref": "x",
          "y": 8,
          "yref": "y"
         },
         {
          "font": {
           "color": "white",
           "size": 10
          },
          "showarrow": false,
          "text": "32.0%",
          "x": 2,
          "xref": "x",
          "y": 8,
          "yref": "y"
         },
         {
          "font": {
           "color": "white",
           "size": 10
          },
          "showarrow": false,
          "text": "32.0%",
          "x": 3,
          "xref": "x",
          "y": 8,
          "yref": "y"
         },
         {
          "font": {
           "color": "white",
           "size": 10
          },
          "showarrow": false,
          "text": "32.0%",
          "x": 4,
          "xref": "x",
          "y": 8,
          "yref": "y"
         },
         {
          "font": {
           "color": "white",
           "size": 10
          },
          "showarrow": false,
          "text": "32.0%",
          "x": 5,
          "xref": "x",
          "y": 8,
          "yref": "y"
         },
         {
          "font": {
           "color": "white",
           "size": 10
          },
          "showarrow": false,
          "text": "32.0%",
          "x": 6,
          "xref": "x",
          "y": 8,
          "yref": "y"
         },
         {
          "font": {
           "color": "white",
           "size": 10
          },
          "showarrow": false,
          "text": "2.0%",
          "x": 1,
          "xref": "x",
          "y": 9,
          "yref": "y"
         },
         {
          "font": {
           "color": "white",
           "size": 10
          },
          "showarrow": false,
          "text": "62.0%",
          "x": 2,
          "xref": "x",
          "y": 9,
          "yref": "y"
         },
         {
          "font": {
           "color": "white",
           "size": 10
          },
          "showarrow": false,
          "text": "29.0%",
          "x": 3,
          "xref": "x",
          "y": 9,
          "yref": "y"
         },
         {
          "font": {
           "color": "white",
           "size": 10
          },
          "showarrow": false,
          "text": "74.0%",
          "x": 4,
          "xref": "x",
          "y": 9,
          "yref": "y"
         },
         {
          "font": {
           "color": "white",
           "size": 10
          },
          "showarrow": false,
          "text": "19.0%",
          "x": 5,
          "xref": "x",
          "y": 9,
          "yref": "y"
         },
         {
          "font": {
           "color": "white",
           "size": 10
          },
          "showarrow": false,
          "text": "64.0%",
          "x": 6,
          "xref": "x",
          "y": 9,
          "yref": "y"
         },
         {
          "font": {
           "color": "white",
           "size": 10
          },
          "showarrow": false,
          "text": "19.0%",
          "x": 2,
          "xref": "x",
          "y": 10,
          "yref": "y"
         },
         {
          "font": {
           "color": "white",
           "size": 10
          },
          "showarrow": false,
          "text": "0.0%",
          "x": 3,
          "xref": "x",
          "y": 10,
          "yref": "y"
         },
         {
          "font": {
           "color": "white",
           "size": 10
          },
          "showarrow": false,
          "text": "0.0%",
          "x": 4,
          "xref": "x",
          "y": 10,
          "yref": "y"
         },
         {
          "font": {
           "color": "white",
           "size": 10
          },
          "showarrow": false,
          "text": "4.0%",
          "x": 5,
          "xref": "x",
          "y": 10,
          "yref": "y"
         },
         {
          "font": {
           "color": "white",
           "size": 10
          },
          "showarrow": false,
          "text": "68.0%",
          "x": 6,
          "xref": "x",
          "y": 10,
          "yref": "y"
         },
         {
          "font": {
           "color": "white",
           "size": 10
          },
          "showarrow": false,
          "text": "10.0%",
          "x": 2,
          "xref": "x",
          "y": 11,
          "yref": "y"
         },
         {
          "font": {
           "color": "white",
           "size": 10
          },
          "showarrow": false,
          "text": "57.0%",
          "x": 3,
          "xref": "x",
          "y": 11,
          "yref": "y"
         },
         {
          "font": {
           "color": "white",
           "size": 10
          },
          "showarrow": false,
          "text": "58.0%",
          "x": 4,
          "xref": "x",
          "y": 11,
          "yref": "y"
         },
         {
          "font": {
           "color": "white",
           "size": 10
          },
          "showarrow": false,
          "text": "0.0%",
          "x": 5,
          "xref": "x",
          "y": 11,
          "yref": "y"
         },
         {
          "font": {
           "color": "white",
           "size": 10
          },
          "showarrow": false,
          "text": "0.0%",
          "x": 6,
          "xref": "x",
          "y": 11,
          "yref": "y"
         },
         {
          "font": {
           "color": "white",
           "size": 10
          },
          "showarrow": false,
          "text": "0.0%",
          "x": 2,
          "xref": "x",
          "y": 12,
          "yref": "y"
         },
         {
          "font": {
           "color": "white",
           "size": 10
          },
          "showarrow": false,
          "text": "13.0%",
          "x": 3,
          "xref": "x",
          "y": 12,
          "yref": "y"
         },
         {
          "font": {
           "color": "white",
           "size": 10
          },
          "showarrow": false,
          "text": "17.0%",
          "x": 4,
          "xref": "x",
          "y": 12,
          "yref": "y"
         },
         {
          "font": {
           "color": "white",
           "size": 10
          },
          "showarrow": false,
          "text": "0.0%",
          "x": 5,
          "xref": "x",
          "y": 12,
          "yref": "y"
         },
         {
          "font": {
           "color": "white",
           "size": 10
          },
          "showarrow": false,
          "text": "3.0%",
          "x": 6,
          "xref": "x",
          "y": 12,
          "yref": "y"
         },
         {
          "font": {
           "color": "white",
           "size": 10
          },
          "showarrow": false,
          "text": "0.0%",
          "x": 2,
          "xref": "x",
          "y": 13,
          "yref": "y"
         },
         {
          "font": {
           "color": "white",
           "size": 10
          },
          "showarrow": false,
          "text": "0.0%",
          "x": 3,
          "xref": "x",
          "y": 13,
          "yref": "y"
         },
         {
          "font": {
           "color": "white",
           "size": 10
          },
          "showarrow": false,
          "text": "0.0%",
          "x": 4,
          "xref": "x",
          "y": 13,
          "yref": "y"
         },
         {
          "font": {
           "color": "white",
           "size": 10
          },
          "showarrow": false,
          "text": "0.0%",
          "x": 5,
          "xref": "x",
          "y": 13,
          "yref": "y"
         },
         {
          "font": {
           "color": "white",
           "size": 10
          },
          "showarrow": false,
          "text": "0.0%",
          "x": 2,
          "xref": "x",
          "y": 14,
          "yref": "y"
         },
         {
          "font": {
           "color": "white",
           "size": 10
          },
          "showarrow": false,
          "text": "0.0%",
          "x": 3,
          "xref": "x",
          "y": 14,
          "yref": "y"
         },
         {
          "font": {
           "color": "white",
           "size": 10
          },
          "showarrow": false,
          "text": "0.0%",
          "x": 4,
          "xref": "x",
          "y": 14,
          "yref": "y"
         },
         {
          "font": {
           "color": "white",
           "size": 10
          },
          "showarrow": false,
          "text": "0.0%",
          "x": 5,
          "xref": "x",
          "y": 14,
          "yref": "y"
         },
         {
          "font": {
           "color": "white",
           "size": 10
          },
          "showarrow": false,
          "text": "0.0%",
          "x": 6,
          "xref": "x",
          "y": 14,
          "yref": "y"
         }
        ],
        "font": {
         "family": "Inter"
        },
        "margin": {
         "b": 40,
         "l": 40,
         "r": 40,
         "t": 40
        },
        "plot_bgcolor": "RGBA(0,0,0,0.01)",
        "template": {
         "data": {
          "bar": [
           {
            "error_x": {
             "color": "#2a3f5f"
            },
            "error_y": {
             "color": "#2a3f5f"
            },
            "marker": {
             "line": {
              "color": "#E5ECF6",
              "width": 0.5
             },
             "pattern": {
              "fillmode": "overlay",
              "size": 10,
              "solidity": 0.2
             }
            },
            "type": "bar"
           }
          ],
          "barpolar": [
           {
            "marker": {
             "line": {
              "color": "#E5ECF6",
              "width": 0.5
             },
             "pattern": {
              "fillmode": "overlay",
              "size": 10,
              "solidity": 0.2
             }
            },
            "type": "barpolar"
           }
          ],
          "carpet": [
           {
            "aaxis": {
             "endlinecolor": "#2a3f5f",
             "gridcolor": "white",
             "linecolor": "white",
             "minorgridcolor": "white",
             "startlinecolor": "#2a3f5f"
            },
            "baxis": {
             "endlinecolor": "#2a3f5f",
             "gridcolor": "white",
             "linecolor": "white",
             "minorgridcolor": "white",
             "startlinecolor": "#2a3f5f"
            },
            "type": "carpet"
           }
          ],
          "choropleth": [
           {
            "colorbar": {
             "outlinewidth": 0,
             "ticks": ""
            },
            "type": "choropleth"
           }
          ],
          "contour": [
           {
            "colorbar": {
             "outlinewidth": 0,
             "ticks": ""
            },
            "colorscale": [
             [
              0,
              "#0d0887"
             ],
             [
              0.1111111111111111,
              "#46039f"
             ],
             [
              0.2222222222222222,
              "#7201a8"
             ],
             [
              0.3333333333333333,
              "#9c179e"
             ],
             [
              0.4444444444444444,
              "#bd3786"
             ],
             [
              0.5555555555555556,
              "#d8576b"
             ],
             [
              0.6666666666666666,
              "#ed7953"
             ],
             [
              0.7777777777777778,
              "#fb9f3a"
             ],
             [
              0.8888888888888888,
              "#fdca26"
             ],
             [
              1,
              "#f0f921"
             ]
            ],
            "type": "contour"
           }
          ],
          "contourcarpet": [
           {
            "colorbar": {
             "outlinewidth": 0,
             "ticks": ""
            },
            "type": "contourcarpet"
           }
          ],
          "heatmap": [
           {
            "colorbar": {
             "outlinewidth": 0,
             "ticks": ""
            },
            "colorscale": [
             [
              0,
              "#0d0887"
             ],
             [
              0.1111111111111111,
              "#46039f"
             ],
             [
              0.2222222222222222,
              "#7201a8"
             ],
             [
              0.3333333333333333,
              "#9c179e"
             ],
             [
              0.4444444444444444,
              "#bd3786"
             ],
             [
              0.5555555555555556,
              "#d8576b"
             ],
             [
              0.6666666666666666,
              "#ed7953"
             ],
             [
              0.7777777777777778,
              "#fb9f3a"
             ],
             [
              0.8888888888888888,
              "#fdca26"
             ],
             [
              1,
              "#f0f921"
             ]
            ],
            "type": "heatmap"
           }
          ],
          "heatmapgl": [
           {
            "colorbar": {
             "outlinewidth": 0,
             "ticks": ""
            },
            "colorscale": [
             [
              0,
              "#0d0887"
             ],
             [
              0.1111111111111111,
              "#46039f"
             ],
             [
              0.2222222222222222,
              "#7201a8"
             ],
             [
              0.3333333333333333,
              "#9c179e"
             ],
             [
              0.4444444444444444,
              "#bd3786"
             ],
             [
              0.5555555555555556,
              "#d8576b"
             ],
             [
              0.6666666666666666,
              "#ed7953"
             ],
             [
              0.7777777777777778,
              "#fb9f3a"
             ],
             [
              0.8888888888888888,
              "#fdca26"
             ],
             [
              1,
              "#f0f921"
             ]
            ],
            "type": "heatmapgl"
           }
          ],
          "histogram": [
           {
            "marker": {
             "pattern": {
              "fillmode": "overlay",
              "size": 10,
              "solidity": 0.2
             }
            },
            "type": "histogram"
           }
          ],
          "histogram2d": [
           {
            "colorbar": {
             "outlinewidth": 0,
             "ticks": ""
            },
            "colorscale": [
             [
              0,
              "#0d0887"
             ],
             [
              0.1111111111111111,
              "#46039f"
             ],
             [
              0.2222222222222222,
              "#7201a8"
             ],
             [
              0.3333333333333333,
              "#9c179e"
             ],
             [
              0.4444444444444444,
              "#bd3786"
             ],
             [
              0.5555555555555556,
              "#d8576b"
             ],
             [
              0.6666666666666666,
              "#ed7953"
             ],
             [
              0.7777777777777778,
              "#fb9f3a"
             ],
             [
              0.8888888888888888,
              "#fdca26"
             ],
             [
              1,
              "#f0f921"
             ]
            ],
            "type": "histogram2d"
           }
          ],
          "histogram2dcontour": [
           {
            "colorbar": {
             "outlinewidth": 0,
             "ticks": ""
            },
            "colorscale": [
             [
              0,
              "#0d0887"
             ],
             [
              0.1111111111111111,
              "#46039f"
             ],
             [
              0.2222222222222222,
              "#7201a8"
             ],
             [
              0.3333333333333333,
              "#9c179e"
             ],
             [
              0.4444444444444444,
              "#bd3786"
             ],
             [
              0.5555555555555556,
              "#d8576b"
             ],
             [
              0.6666666666666666,
              "#ed7953"
             ],
             [
              0.7777777777777778,
              "#fb9f3a"
             ],
             [
              0.8888888888888888,
              "#fdca26"
             ],
             [
              1,
              "#f0f921"
             ]
            ],
            "type": "histogram2dcontour"
           }
          ],
          "mesh3d": [
           {
            "colorbar": {
             "outlinewidth": 0,
             "ticks": ""
            },
            "type": "mesh3d"
           }
          ],
          "parcoords": [
           {
            "line": {
             "colorbar": {
              "outlinewidth": 0,
              "ticks": ""
             }
            },
            "type": "parcoords"
           }
          ],
          "pie": [
           {
            "automargin": true,
            "type": "pie"
           }
          ],
          "scatter": [
           {
            "fillpattern": {
             "fillmode": "overlay",
             "size": 10,
             "solidity": 0.2
            },
            "type": "scatter"
           }
          ],
          "scatter3d": [
           {
            "line": {
             "colorbar": {
              "outlinewidth": 0,
              "ticks": ""
             }
            },
            "marker": {
             "colorbar": {
              "outlinewidth": 0,
              "ticks": ""
             }
            },
            "type": "scatter3d"
           }
          ],
          "scattercarpet": [
           {
            "marker": {
             "colorbar": {
              "outlinewidth": 0,
              "ticks": ""
             }
            },
            "type": "scattercarpet"
           }
          ],
          "scattergeo": [
           {
            "marker": {
             "colorbar": {
              "outlinewidth": 0,
              "ticks": ""
             }
            },
            "type": "scattergeo"
           }
          ],
          "scattergl": [
           {
            "marker": {
             "colorbar": {
              "outlinewidth": 0,
              "ticks": ""
             }
            },
            "type": "scattergl"
           }
          ],
          "scattermapbox": [
           {
            "marker": {
             "colorbar": {
              "outlinewidth": 0,
              "ticks": ""
             }
            },
            "type": "scattermapbox"
           }
          ],
          "scatterpolar": [
           {
            "marker": {
             "colorbar": {
              "outlinewidth": 0,
              "ticks": ""
             }
            },
            "type": "scatterpolar"
           }
          ],
          "scatterpolargl": [
           {
            "marker": {
             "colorbar": {
              "outlinewidth": 0,
              "ticks": ""
             }
            },
            "type": "scatterpolargl"
           }
          ],
          "scatterternary": [
           {
            "marker": {
             "colorbar": {
              "outlinewidth": 0,
              "ticks": ""
             }
            },
            "type": "scatterternary"
           }
          ],
          "surface": [
           {
            "colorbar": {
             "outlinewidth": 0,
             "ticks": ""
            },
            "colorscale": [
             [
              0,
              "#0d0887"
             ],
             [
              0.1111111111111111,
              "#46039f"
             ],
             [
              0.2222222222222222,
              "#7201a8"
             ],
             [
              0.3333333333333333,
              "#9c179e"
             ],
             [
              0.4444444444444444,
              "#bd3786"
             ],
             [
              0.5555555555555556,
              "#d8576b"
             ],
             [
              0.6666666666666666,
              "#ed7953"
             ],
             [
              0.7777777777777778,
              "#fb9f3a"
             ],
             [
              0.8888888888888888,
              "#fdca26"
             ],
             [
              1,
              "#f0f921"
             ]
            ],
            "type": "surface"
           }
          ],
          "table": [
           {
            "cells": {
             "fill": {
              "color": "#EBF0F8"
             },
             "line": {
              "color": "white"
             }
            },
            "header": {
             "fill": {
              "color": "#C8D4E3"
             },
             "line": {
              "color": "white"
             }
            },
            "type": "table"
           }
          ]
         },
         "layout": {
          "annotationdefaults": {
           "arrowcolor": "#2a3f5f",
           "arrowhead": 0,
           "arrowwidth": 1
          },
          "autotypenumbers": "strict",
          "coloraxis": {
           "colorbar": {
            "outlinewidth": 0,
            "ticks": ""
           }
          },
          "colorscale": {
           "diverging": [
            [
             0,
             "#8e0152"
            ],
            [
             0.1,
             "#c51b7d"
            ],
            [
             0.2,
             "#de77ae"
            ],
            [
             0.3,
             "#f1b6da"
            ],
            [
             0.4,
             "#fde0ef"
            ],
            [
             0.5,
             "#f7f7f7"
            ],
            [
             0.6,
             "#e6f5d0"
            ],
            [
             0.7,
             "#b8e186"
            ],
            [
             0.8,
             "#7fbc41"
            ],
            [
             0.9,
             "#4d9221"
            ],
            [
             1,
             "#276419"
            ]
           ],
           "sequential": [
            [
             0,
             "#0d0887"
            ],
            [
             0.1111111111111111,
             "#46039f"
            ],
            [
             0.2222222222222222,
             "#7201a8"
            ],
            [
             0.3333333333333333,
             "#9c179e"
            ],
            [
             0.4444444444444444,
             "#bd3786"
            ],
            [
             0.5555555555555556,
             "#d8576b"
            ],
            [
             0.6666666666666666,
             "#ed7953"
            ],
            [
             0.7777777777777778,
             "#fb9f3a"
            ],
            [
             0.8888888888888888,
             "#fdca26"
            ],
            [
             1,
             "#f0f921"
            ]
           ],
           "sequentialminus": [
            [
             0,
             "#0d0887"
            ],
            [
             0.1111111111111111,
             "#46039f"
            ],
            [
             0.2222222222222222,
             "#7201a8"
            ],
            [
             0.3333333333333333,
             "#9c179e"
            ],
            [
             0.4444444444444444,
             "#bd3786"
            ],
            [
             0.5555555555555556,
             "#d8576b"
            ],
            [
             0.6666666666666666,
             "#ed7953"
            ],
            [
             0.7777777777777778,
             "#fb9f3a"
            ],
            [
             0.8888888888888888,
             "#fdca26"
            ],
            [
             1,
             "#f0f921"
            ]
           ]
          },
          "colorway": [
           "#636efa",
           "#EF553B",
           "#00cc96",
           "#ab63fa",
           "#FFA15A",
           "#19d3f3",
           "#FF6692",
           "#B6E880",
           "#FF97FF",
           "#FECB52"
          ],
          "font": {
           "color": "#2a3f5f"
          },
          "geo": {
           "bgcolor": "white",
           "lakecolor": "white",
           "landcolor": "#E5ECF6",
           "showlakes": true,
           "showland": true,
           "subunitcolor": "white"
          },
          "hoverlabel": {
           "align": "left"
          },
          "hovermode": "closest",
          "mapbox": {
           "style": "light"
          },
          "paper_bgcolor": "white",
          "plot_bgcolor": "#E5ECF6",
          "polar": {
           "angularaxis": {
            "gridcolor": "white",
            "linecolor": "white",
            "ticks": ""
           },
           "bgcolor": "#E5ECF6",
           "radialaxis": {
            "gridcolor": "white",
            "linecolor": "white",
            "ticks": ""
           }
          },
          "scene": {
           "xaxis": {
            "backgroundcolor": "#E5ECF6",
            "gridcolor": "white",
            "gridwidth": 2,
            "linecolor": "white",
            "showbackground": true,
            "ticks": "",
            "zerolinecolor": "white"
           },
           "yaxis": {
            "backgroundcolor": "#E5ECF6",
            "gridcolor": "white",
            "gridwidth": 2,
            "linecolor": "white",
            "showbackground": true,
            "ticks": "",
            "zerolinecolor": "white"
           },
           "zaxis": {
            "backgroundcolor": "#E5ECF6",
            "gridcolor": "white",
            "gridwidth": 2,
            "linecolor": "white",
            "showbackground": true,
            "ticks": "",
            "zerolinecolor": "white"
           }
          },
          "shapedefaults": {
           "line": {
            "color": "#2a3f5f"
           }
          },
          "ternary": {
           "aaxis": {
            "gridcolor": "white",
            "linecolor": "white",
            "ticks": ""
           },
           "baxis": {
            "gridcolor": "white",
            "linecolor": "white",
            "ticks": ""
           },
           "bgcolor": "#E5ECF6",
           "caxis": {
            "gridcolor": "white",
            "linecolor": "white",
            "ticks": ""
           }
          },
          "title": {
           "x": 0.05
          },
          "xaxis": {
           "automargin": true,
           "gridcolor": "white",
           "linecolor": "white",
           "ticks": "",
           "title": {
            "standoff": 15
           },
           "zerolinecolor": "white",
           "zerolinewidth": 2
          },
          "yaxis": {
           "automargin": true,
           "gridcolor": "white",
           "linecolor": "white",
           "ticks": "",
           "title": {
            "standoff": 15
           },
           "zerolinecolor": "white",
           "zerolinewidth": 2
          }
         }
        },
        "title": {
         "text": "Eficiencia - Meta: 85%",
         "x": 0.5
        },
        "xaxis": {
         "nticks": 31,
         "tickangle": 0,
         "tickfont": {
          "color": "gray"
         },
         "tickmode": "linear",
         "ticktext": [
          1,
          2,
          3,
          4,
          5,
          6,
          7,
          8,
          9,
          10,
          11,
          12,
          13,
          14,
          15,
          16,
          17,
          18,
          19,
          20,
          21,
          22,
          23,
          24,
          25,
          26,
          27,
          28,
          29,
          30,
          31
         ],
         "tickvals": [
          1,
          2,
          3,
          4,
          5,
          6,
          7,
          8,
          9,
          10,
          11,
          12,
          13,
          14,
          15,
          16,
          17,
          18,
          19,
          20,
          21,
          22,
          23,
          24,
          25,
          26,
          27,
          28,
          29,
          30,
          31
         ],
         "title": {
          "text": "Dia do Mês"
         }
        },
        "yaxis": {
         "autorange": "reversed",
         "tickfont": {
          "color": "gray"
         },
         "ticksuffix": " ",
         "tickvals": [
          1,
          2,
          3,
          4,
          5,
          6,
          7,
          8,
          9,
          10,
          11,
          12,
          13
         ],
         "title": {
          "text": "Linha"
         }
        }
       }
      }
     },
     "metadata": {},
     "output_type": "display_data"
    }
   ],
   "source": [
    "heatmap_fig = heatmap.create_heatmap(\n",
    "    heat_noturno, annotations_noturno, IndicatorType.EFFICIENCY, 85, turn=True\n",
    ")\n",
    "heatmap_fig"
   ]
  },
  {
   "cell_type": "markdown",
   "metadata": {},
   "source": [
    "## Line\n"
   ]
  },
  {
   "cell_type": "code",
   "execution_count": 175,
   "metadata": {},
   "outputs": [],
   "source": [
    "class LineGraph:\n",
    "    \"\"\"\n",
    "    A class representing a line graph.\n",
    "\n",
    "    Attributes:\n",
    "        secondary (str): The secondary color for the graph.\n",
    "        primary (str): The primary color for the graph.\n",
    "        danger (str): The danger color for the graph.\n",
    "\n",
    "    Methods:\n",
    "        create_line_graph(dataframe, indicator, meta, template, turn=None):\n",
    "            Create a line graph based on the provided data.\n",
    "\n",
    "    \"\"\"\n",
    "\n",
    "    def __init__(self):\n",
    "        self.secondary = BSColorsEnum.SECONDARY_COLOR.value\n",
    "        self.primary = BSColorsEnum.PRIMARY_COLOR.value\n",
    "        self.danger = BSColorsEnum.DANGER_COLOR.value\n",
    "\n",
    "    def create_line_graph(\n",
    "        self,\n",
    "        dataframe: pd.DataFrame,\n",
    "        indicator: IndicatorType,\n",
    "        meta: int,\n",
    "        turn: str = None,\n",
    "    ):\n",
    "        \"\"\"\n",
    "        Create a line graph based on the provided data.\n",
    "\n",
    "        Args:\n",
    "            dataframe (pd.DataFrame): The input data containing the indicator values.\n",
    "            indicator (IndicatorType): The type of indicator to be plotted.\n",
    "            meta (int): The target value for the indicator.\n",
    "            template (TemplateType): The template type for the graph.\n",
    "            turn (str, optional): The specific turn to filter the data. Defaults to None.\n",
    "\n",
    "        Returns:\n",
    "            dcc.Graph: The line graph visualizing the indicator values.\n",
    "\n",
    "        \"\"\"\n",
    "\n",
    "        # Pegar o valor do indicador\n",
    "        indicator = indicator.value\n",
    "\n",
    "        # Converter 'data_registro' para datetime e criar uma nova coluna 'data_turno'\n",
    "        dataframe[\"data_registro\"] = pd.to_datetime(dataframe[\"data_registro\"])\n",
    "        dataframe[\"data_turno\"] = dataframe[\"data_registro\"].dt.strftime(\"%Y-%m-%d\")\n",
    "\n",
    "        # Filtrar por turno\n",
    "        dataframe = dataframe[dataframe[\"turno\"] == turn] if turn and turn != \"TOT\" else dataframe\n",
    "\n",
    "        # Agrupar por 'data_turno' e 'turno' e calcular a média do indicador\n",
    "        df_grouped = dataframe.groupby([\"data_turno\"])[indicator].mean().reset_index()\n",
    "\n",
    "        # Multiplicar por 100 para converter para porcentagem\n",
    "        df_grouped[indicator] = df_grouped[indicator] * 100\n",
    "\n",
    "        # Criação de um DataFrame com todas as datas do mês atual\n",
    "        start_date = dataframe[\"data_registro\"].min()\n",
    "        end_date = start_date + pd.tseries.offsets.MonthEnd(1)\n",
    "        all_dates = pd.date_range(start_date, end_date).strftime(\"%Y-%m-%d\")\n",
    "        dataframe_all_dates = pd.DataFrame(all_dates, columns=[\"data_turno\"])\n",
    "\n",
    "        # Mesclar o DataFrame original com o DataFrame de todas as datas\n",
    "        df_grouped = pd.merge(dataframe_all_dates, df_grouped, on=\"data_turno\", how=\"left\")\n",
    "\n",
    "        # Substituir valores nulos por 0\n",
    "        df_grouped[indicator] = df_grouped[indicator].fillna(0)\n",
    "\n",
    "        # Criação do gráfico\n",
    "        fig = go.Figure(\n",
    "            data=[\n",
    "                go.Scatter(\n",
    "                    x=df_grouped[\"data_turno\"],\n",
    "                    y=df_grouped[indicator],\n",
    "                    mode=\"lines+markers\",\n",
    "                    marker=dict(color=self.primary),\n",
    "                    line=dict(color=self.primary),\n",
    "                    hovertemplate=f\"<i>Dia</i>: %{{x}}\"\n",
    "                    f\"<br><b>{indicator.capitalize()}</b>: %{{y:.1f}}<br>\",\n",
    "                    hoverinfo=\"skip\",\n",
    "                )\n",
    "            ],\n",
    "            layout=go.Layout(\n",
    "                showlegend=False,\n",
    "                xaxis=dict(showticklabels=False),\n",
    "                yaxis=dict(showticklabels=False, autorange=True),\n",
    "                margin=dict(l=0, r=0, t=0, b=0),\n",
    "                height=None,\n",
    "                autosize=True,\n",
    "                font=dict(family=\"Inter\"),\n",
    "                plot_bgcolor=\"RGBA(0,0,0,0.001)\",\n",
    "            ),\n",
    "        )\n",
    "\n",
    "        # Linha de meta\n",
    "        fig.add_trace(\n",
    "            go.Scatter(\n",
    "                x=df_grouped[\"data_turno\"],\n",
    "                y=[meta] * len(df_grouped),\n",
    "                mode=\"lines\",\n",
    "                name=\"Meta\",\n",
    "                line=dict(color=self.danger, dash=\"dash\"),\n",
    "                hovertemplate=\"<b>Meta</b>: %{y:.0f}%<extra></extra>\",\n",
    "            )\n",
    "        )\n",
    "\n",
    "        return fig\n",
    "\n",
    "\n",
    "line_graph = LineGraph()"
   ]
  },
  {
   "cell_type": "code",
   "execution_count": 176,
   "metadata": {},
   "outputs": [
    {
     "data": {
      "application/vnd.plotly.v1+json": {
       "config": {
        "plotlyServerURL": "https://plot.ly"
       },
       "data": [
        {
         "hoverinfo": "skip",
         "hovertemplate": "<i>Dia</i>: %{x}<br><b>Eficiencia</b>: %{y:.1f}<br>",
         "line": {
          "color": "#0d6efd"
         },
         "marker": {
          "color": "#0d6efd"
         },
         "mode": "lines+markers",
         "type": "scatter",
         "x": [
          "2024-05-01",
          "2024-05-02",
          "2024-05-03",
          "2024-05-04",
          "2024-05-05",
          "2024-05-06",
          "2024-05-07",
          "2024-05-08",
          "2024-05-09",
          "2024-05-10",
          "2024-05-11",
          "2024-05-12",
          "2024-05-13",
          "2024-05-14",
          "2024-05-15",
          "2024-05-16",
          "2024-05-17",
          "2024-05-18",
          "2024-05-19",
          "2024-05-20",
          "2024-05-21",
          "2024-05-22",
          "2024-05-23",
          "2024-05-24",
          "2024-05-25",
          "2024-05-26",
          "2024-05-27",
          "2024-05-28",
          "2024-05-29",
          "2024-05-30",
          "2024-05-31"
         ],
         "y": [
          5.250000000000001,
          32.84615384615384,
          35.53846153846154,
          38.07692307692308,
          12.846153846153847,
          47,
          0,
          0,
          0,
          0,
          0,
          0,
          0,
          0,
          0,
          0,
          0,
          0,
          0,
          0,
          0,
          0,
          0,
          0,
          0,
          0,
          0,
          0,
          0,
          0,
          0
         ]
        },
        {
         "hovertemplate": "<b>Meta</b>: %{y:.0f}%<extra></extra>",
         "line": {
          "color": "#dc3545",
          "dash": "dash"
         },
         "mode": "lines",
         "name": "Meta",
         "type": "scatter",
         "x": [
          "2024-05-01",
          "2024-05-02",
          "2024-05-03",
          "2024-05-04",
          "2024-05-05",
          "2024-05-06",
          "2024-05-07",
          "2024-05-08",
          "2024-05-09",
          "2024-05-10",
          "2024-05-11",
          "2024-05-12",
          "2024-05-13",
          "2024-05-14",
          "2024-05-15",
          "2024-05-16",
          "2024-05-17",
          "2024-05-18",
          "2024-05-19",
          "2024-05-20",
          "2024-05-21",
          "2024-05-22",
          "2024-05-23",
          "2024-05-24",
          "2024-05-25",
          "2024-05-26",
          "2024-05-27",
          "2024-05-28",
          "2024-05-29",
          "2024-05-30",
          "2024-05-31"
         ],
         "y": [
          85,
          85,
          85,
          85,
          85,
          85,
          85,
          85,
          85,
          85,
          85,
          85,
          85,
          85,
          85,
          85,
          85,
          85,
          85,
          85,
          85,
          85,
          85,
          85,
          85,
          85,
          85,
          85,
          85,
          85,
          85
         ]
        }
       ],
       "layout": {
        "autosize": true,
        "font": {
         "family": "Inter"
        },
        "margin": {
         "b": 0,
         "l": 0,
         "r": 0,
         "t": 0
        },
        "plot_bgcolor": "RGBA(0,0,0,0.001)",
        "showlegend": false,
        "template": {
         "data": {
          "bar": [
           {
            "error_x": {
             "color": "#2a3f5f"
            },
            "error_y": {
             "color": "#2a3f5f"
            },
            "marker": {
             "line": {
              "color": "#E5ECF6",
              "width": 0.5
             },
             "pattern": {
              "fillmode": "overlay",
              "size": 10,
              "solidity": 0.2
             }
            },
            "type": "bar"
           }
          ],
          "barpolar": [
           {
            "marker": {
             "line": {
              "color": "#E5ECF6",
              "width": 0.5
             },
             "pattern": {
              "fillmode": "overlay",
              "size": 10,
              "solidity": 0.2
             }
            },
            "type": "barpolar"
           }
          ],
          "carpet": [
           {
            "aaxis": {
             "endlinecolor": "#2a3f5f",
             "gridcolor": "white",
             "linecolor": "white",
             "minorgridcolor": "white",
             "startlinecolor": "#2a3f5f"
            },
            "baxis": {
             "endlinecolor": "#2a3f5f",
             "gridcolor": "white",
             "linecolor": "white",
             "minorgridcolor": "white",
             "startlinecolor": "#2a3f5f"
            },
            "type": "carpet"
           }
          ],
          "choropleth": [
           {
            "colorbar": {
             "outlinewidth": 0,
             "ticks": ""
            },
            "type": "choropleth"
           }
          ],
          "contour": [
           {
            "colorbar": {
             "outlinewidth": 0,
             "ticks": ""
            },
            "colorscale": [
             [
              0,
              "#0d0887"
             ],
             [
              0.1111111111111111,
              "#46039f"
             ],
             [
              0.2222222222222222,
              "#7201a8"
             ],
             [
              0.3333333333333333,
              "#9c179e"
             ],
             [
              0.4444444444444444,
              "#bd3786"
             ],
             [
              0.5555555555555556,
              "#d8576b"
             ],
             [
              0.6666666666666666,
              "#ed7953"
             ],
             [
              0.7777777777777778,
              "#fb9f3a"
             ],
             [
              0.8888888888888888,
              "#fdca26"
             ],
             [
              1,
              "#f0f921"
             ]
            ],
            "type": "contour"
           }
          ],
          "contourcarpet": [
           {
            "colorbar": {
             "outlinewidth": 0,
             "ticks": ""
            },
            "type": "contourcarpet"
           }
          ],
          "heatmap": [
           {
            "colorbar": {
             "outlinewidth": 0,
             "ticks": ""
            },
            "colorscale": [
             [
              0,
              "#0d0887"
             ],
             [
              0.1111111111111111,
              "#46039f"
             ],
             [
              0.2222222222222222,
              "#7201a8"
             ],
             [
              0.3333333333333333,
              "#9c179e"
             ],
             [
              0.4444444444444444,
              "#bd3786"
             ],
             [
              0.5555555555555556,
              "#d8576b"
             ],
             [
              0.6666666666666666,
              "#ed7953"
             ],
             [
              0.7777777777777778,
              "#fb9f3a"
             ],
             [
              0.8888888888888888,
              "#fdca26"
             ],
             [
              1,
              "#f0f921"
             ]
            ],
            "type": "heatmap"
           }
          ],
          "heatmapgl": [
           {
            "colorbar": {
             "outlinewidth": 0,
             "ticks": ""
            },
            "colorscale": [
             [
              0,
              "#0d0887"
             ],
             [
              0.1111111111111111,
              "#46039f"
             ],
             [
              0.2222222222222222,
              "#7201a8"
             ],
             [
              0.3333333333333333,
              "#9c179e"
             ],
             [
              0.4444444444444444,
              "#bd3786"
             ],
             [
              0.5555555555555556,
              "#d8576b"
             ],
             [
              0.6666666666666666,
              "#ed7953"
             ],
             [
              0.7777777777777778,
              "#fb9f3a"
             ],
             [
              0.8888888888888888,
              "#fdca26"
             ],
             [
              1,
              "#f0f921"
             ]
            ],
            "type": "heatmapgl"
           }
          ],
          "histogram": [
           {
            "marker": {
             "pattern": {
              "fillmode": "overlay",
              "size": 10,
              "solidity": 0.2
             }
            },
            "type": "histogram"
           }
          ],
          "histogram2d": [
           {
            "colorbar": {
             "outlinewidth": 0,
             "ticks": ""
            },
            "colorscale": [
             [
              0,
              "#0d0887"
             ],
             [
              0.1111111111111111,
              "#46039f"
             ],
             [
              0.2222222222222222,
              "#7201a8"
             ],
             [
              0.3333333333333333,
              "#9c179e"
             ],
             [
              0.4444444444444444,
              "#bd3786"
             ],
             [
              0.5555555555555556,
              "#d8576b"
             ],
             [
              0.6666666666666666,
              "#ed7953"
             ],
             [
              0.7777777777777778,
              "#fb9f3a"
             ],
             [
              0.8888888888888888,
              "#fdca26"
             ],
             [
              1,
              "#f0f921"
             ]
            ],
            "type": "histogram2d"
           }
          ],
          "histogram2dcontour": [
           {
            "colorbar": {
             "outlinewidth": 0,
             "ticks": ""
            },
            "colorscale": [
             [
              0,
              "#0d0887"
             ],
             [
              0.1111111111111111,
              "#46039f"
             ],
             [
              0.2222222222222222,
              "#7201a8"
             ],
             [
              0.3333333333333333,
              "#9c179e"
             ],
             [
              0.4444444444444444,
              "#bd3786"
             ],
             [
              0.5555555555555556,
              "#d8576b"
             ],
             [
              0.6666666666666666,
              "#ed7953"
             ],
             [
              0.7777777777777778,
              "#fb9f3a"
             ],
             [
              0.8888888888888888,
              "#fdca26"
             ],
             [
              1,
              "#f0f921"
             ]
            ],
            "type": "histogram2dcontour"
           }
          ],
          "mesh3d": [
           {
            "colorbar": {
             "outlinewidth": 0,
             "ticks": ""
            },
            "type": "mesh3d"
           }
          ],
          "parcoords": [
           {
            "line": {
             "colorbar": {
              "outlinewidth": 0,
              "ticks": ""
             }
            },
            "type": "parcoords"
           }
          ],
          "pie": [
           {
            "automargin": true,
            "type": "pie"
           }
          ],
          "scatter": [
           {
            "fillpattern": {
             "fillmode": "overlay",
             "size": 10,
             "solidity": 0.2
            },
            "type": "scatter"
           }
          ],
          "scatter3d": [
           {
            "line": {
             "colorbar": {
              "outlinewidth": 0,
              "ticks": ""
             }
            },
            "marker": {
             "colorbar": {
              "outlinewidth": 0,
              "ticks": ""
             }
            },
            "type": "scatter3d"
           }
          ],
          "scattercarpet": [
           {
            "marker": {
             "colorbar": {
              "outlinewidth": 0,
              "ticks": ""
             }
            },
            "type": "scattercarpet"
           }
          ],
          "scattergeo": [
           {
            "marker": {
             "colorbar": {
              "outlinewidth": 0,
              "ticks": ""
             }
            },
            "type": "scattergeo"
           }
          ],
          "scattergl": [
           {
            "marker": {
             "colorbar": {
              "outlinewidth": 0,
              "ticks": ""
             }
            },
            "type": "scattergl"
           }
          ],
          "scattermapbox": [
           {
            "marker": {
             "colorbar": {
              "outlinewidth": 0,
              "ticks": ""
             }
            },
            "type": "scattermapbox"
           }
          ],
          "scatterpolar": [
           {
            "marker": {
             "colorbar": {
              "outlinewidth": 0,
              "ticks": ""
             }
            },
            "type": "scatterpolar"
           }
          ],
          "scatterpolargl": [
           {
            "marker": {
             "colorbar": {
              "outlinewidth": 0,
              "ticks": ""
             }
            },
            "type": "scatterpolargl"
           }
          ],
          "scatterternary": [
           {
            "marker": {
             "colorbar": {
              "outlinewidth": 0,
              "ticks": ""
             }
            },
            "type": "scatterternary"
           }
          ],
          "surface": [
           {
            "colorbar": {
             "outlinewidth": 0,
             "ticks": ""
            },
            "colorscale": [
             [
              0,
              "#0d0887"
             ],
             [
              0.1111111111111111,
              "#46039f"
             ],
             [
              0.2222222222222222,
              "#7201a8"
             ],
             [
              0.3333333333333333,
              "#9c179e"
             ],
             [
              0.4444444444444444,
              "#bd3786"
             ],
             [
              0.5555555555555556,
              "#d8576b"
             ],
             [
              0.6666666666666666,
              "#ed7953"
             ],
             [
              0.7777777777777778,
              "#fb9f3a"
             ],
             [
              0.8888888888888888,
              "#fdca26"
             ],
             [
              1,
              "#f0f921"
             ]
            ],
            "type": "surface"
           }
          ],
          "table": [
           {
            "cells": {
             "fill": {
              "color": "#EBF0F8"
             },
             "line": {
              "color": "white"
             }
            },
            "header": {
             "fill": {
              "color": "#C8D4E3"
             },
             "line": {
              "color": "white"
             }
            },
            "type": "table"
           }
          ]
         },
         "layout": {
          "annotationdefaults": {
           "arrowcolor": "#2a3f5f",
           "arrowhead": 0,
           "arrowwidth": 1
          },
          "autotypenumbers": "strict",
          "coloraxis": {
           "colorbar": {
            "outlinewidth": 0,
            "ticks": ""
           }
          },
          "colorscale": {
           "diverging": [
            [
             0,
             "#8e0152"
            ],
            [
             0.1,
             "#c51b7d"
            ],
            [
             0.2,
             "#de77ae"
            ],
            [
             0.3,
             "#f1b6da"
            ],
            [
             0.4,
             "#fde0ef"
            ],
            [
             0.5,
             "#f7f7f7"
            ],
            [
             0.6,
             "#e6f5d0"
            ],
            [
             0.7,
             "#b8e186"
            ],
            [
             0.8,
             "#7fbc41"
            ],
            [
             0.9,
             "#4d9221"
            ],
            [
             1,
             "#276419"
            ]
           ],
           "sequential": [
            [
             0,
             "#0d0887"
            ],
            [
             0.1111111111111111,
             "#46039f"
            ],
            [
             0.2222222222222222,
             "#7201a8"
            ],
            [
             0.3333333333333333,
             "#9c179e"
            ],
            [
             0.4444444444444444,
             "#bd3786"
            ],
            [
             0.5555555555555556,
             "#d8576b"
            ],
            [
             0.6666666666666666,
             "#ed7953"
            ],
            [
             0.7777777777777778,
             "#fb9f3a"
            ],
            [
             0.8888888888888888,
             "#fdca26"
            ],
            [
             1,
             "#f0f921"
            ]
           ],
           "sequentialminus": [
            [
             0,
             "#0d0887"
            ],
            [
             0.1111111111111111,
             "#46039f"
            ],
            [
             0.2222222222222222,
             "#7201a8"
            ],
            [
             0.3333333333333333,
             "#9c179e"
            ],
            [
             0.4444444444444444,
             "#bd3786"
            ],
            [
             0.5555555555555556,
             "#d8576b"
            ],
            [
             0.6666666666666666,
             "#ed7953"
            ],
            [
             0.7777777777777778,
             "#fb9f3a"
            ],
            [
             0.8888888888888888,
             "#fdca26"
            ],
            [
             1,
             "#f0f921"
            ]
           ]
          },
          "colorway": [
           "#636efa",
           "#EF553B",
           "#00cc96",
           "#ab63fa",
           "#FFA15A",
           "#19d3f3",
           "#FF6692",
           "#B6E880",
           "#FF97FF",
           "#FECB52"
          ],
          "font": {
           "color": "#2a3f5f"
          },
          "geo": {
           "bgcolor": "white",
           "lakecolor": "white",
           "landcolor": "#E5ECF6",
           "showlakes": true,
           "showland": true,
           "subunitcolor": "white"
          },
          "hoverlabel": {
           "align": "left"
          },
          "hovermode": "closest",
          "mapbox": {
           "style": "light"
          },
          "paper_bgcolor": "white",
          "plot_bgcolor": "#E5ECF6",
          "polar": {
           "angularaxis": {
            "gridcolor": "white",
            "linecolor": "white",
            "ticks": ""
           },
           "bgcolor": "#E5ECF6",
           "radialaxis": {
            "gridcolor": "white",
            "linecolor": "white",
            "ticks": ""
           }
          },
          "scene": {
           "xaxis": {
            "backgroundcolor": "#E5ECF6",
            "gridcolor": "white",
            "gridwidth": 2,
            "linecolor": "white",
            "showbackground": true,
            "ticks": "",
            "zerolinecolor": "white"
           },
           "yaxis": {
            "backgroundcolor": "#E5ECF6",
            "gridcolor": "white",
            "gridwidth": 2,
            "linecolor": "white",
            "showbackground": true,
            "ticks": "",
            "zerolinecolor": "white"
           },
           "zaxis": {
            "backgroundcolor": "#E5ECF6",
            "gridcolor": "white",
            "gridwidth": 2,
            "linecolor": "white",
            "showbackground": true,
            "ticks": "",
            "zerolinecolor": "white"
           }
          },
          "shapedefaults": {
           "line": {
            "color": "#2a3f5f"
           }
          },
          "ternary": {
           "aaxis": {
            "gridcolor": "white",
            "linecolor": "white",
            "ticks": ""
           },
           "baxis": {
            "gridcolor": "white",
            "linecolor": "white",
            "ticks": ""
           },
           "bgcolor": "#E5ECF6",
           "caxis": {
            "gridcolor": "white",
            "linecolor": "white",
            "ticks": ""
           }
          },
          "title": {
           "x": 0.05
          },
          "xaxis": {
           "automargin": true,
           "gridcolor": "white",
           "linecolor": "white",
           "ticks": "",
           "title": {
            "standoff": 15
           },
           "zerolinecolor": "white",
           "zerolinewidth": 2
          },
          "yaxis": {
           "automargin": true,
           "gridcolor": "white",
           "linecolor": "white",
           "ticks": "",
           "title": {
            "standoff": 15
           },
           "zerolinecolor": "white",
           "zerolinewidth": 2
          }
         }
        },
        "xaxis": {
         "showticklabels": false
        },
        "yaxis": {
         "autorange": true,
         "showticklabels": false
        }
       }
      }
     },
     "metadata": {},
     "output_type": "display_data"
    }
   ],
   "source": [
    "line_fig = line_graph.create_line_graph(df_eff, IndicatorType.EFFICIENCY, 85, \"NOT\")\n",
    "line_fig"
   ]
  }
 ],
 "metadata": {
  "kernelspec": {
   "display_name": ".venv",
   "language": "python",
   "name": "python3"
  },
  "language_info": {
   "codemirror_mode": {
    "name": "ipython",
    "version": 3
   },
   "file_extension": ".py",
   "mimetype": "text/x-python",
   "name": "python",
   "nbconvert_exporter": "python",
   "pygments_lexer": "ipython3",
   "version": "3.12.3"
  }
 },
 "nbformat": 4,
 "nbformat_minor": 2
}
