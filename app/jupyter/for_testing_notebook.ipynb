{
 "cells": [
  {
   "cell_type": "markdown",
   "metadata": {},
   "source": [
    "# Importações\n"
   ]
  },
  {
   "cell_type": "code",
   "execution_count": 1,
   "metadata": {},
   "outputs": [],
   "source": [
    "import urllib\n",
    "from itertools import product\n",
    "from os import getenv\n",
    "from sqlalchemy import create_engine\n",
    "from dotenv import load_dotenv\n",
    "\n",
    "import numpy as np\n",
    "import pandas as pd\n",
    "from datetime import datetime, timedelta\n",
    "import plotly.graph_objects as go\n",
    "import plotly.express as px\n",
    "from fuzzywuzzy import process"
   ]
  },
  {
   "cell_type": "markdown",
   "metadata": {},
   "source": [
    "# Connection\n"
   ]
  },
  {
   "cell_type": "markdown",
   "metadata": {},
   "source": [
    "connection.py\n"
   ]
  },
  {
   "cell_type": "code",
   "execution_count": null,
   "metadata": {},
   "outputs": [],
   "source": [
    "# cSpell: disable=invalid-name\n",
    "load_dotenv()\n",
    "\n",
    "class Connection:\n",
    "    \"\"\"\n",
    "    Class Connection\n",
    "    \"\"\"\n",
    "\n",
    "    def __init__(self):\n",
    "        \"\"\"\n",
    "        Constructor\n",
    "\n",
    "        Args:\n",
    "            user (str): user\n",
    "            password (str): password\n",
    "            database (str): database\n",
    "            driver (str): driver\n",
    "            server (str): server\n",
    "\n",
    "        Usage:\n",
    "            >>> from connection import Connection\n",
    "            >>> connection = Connection()\n",
    "            >>> connection.get_connection()\n",
    "        \"\"\"\n",
    "        self.__user = getenv(\"PYMSSQL_USER\")\n",
    "        self.__password = getenv(\"PYMSSQL_PASSWORD\")\n",
    "        self.__database = getenv(\"PYMSSQL_DATABASE_AUTOMACAO\")\n",
    "        self.__driver = \"{ODBC Driver 17 for SQL Server}\"\n",
    "        self.__server = getenv(\"PYMSSQL_SERVER\")\n",
    "\n",
    "    def get_connection_automacao(self):\n",
    "        \"\"\"\n",
    "        Get connection\n",
    "\n",
    "        Returns:\n",
    "            object: connection\n",
    "\n",
    "        Usage:\n",
    "            >>> from connection import Connection\n",
    "            >>> connection = Connection()\n",
    "            >>> connection.get_connection()\n",
    "        \"\"\"\n",
    "        try:\n",
    "            params = urllib.parse.quote_plus(\n",
    "                f\"DRIVER={self.__driver};\"\n",
    "                f\"SERVER={self.__server};\"\n",
    "                f\"DATABASE={self.__database};\"\n",
    "                f\"UID={self.__user};\"\n",
    "                f\"PWD={self.__password};\"\n",
    "            )\n",
    "            # pylint: disable=consider-using-f-string\n",
    "            conexao_automacao = create_engine(\n",
    "                \"mssql+pyodbc:///?odbc_connect=%s\" % params\n",
    "            )\n",
    "            return conexao_automacao\n",
    "        # pylint: disable=broad-except\n",
    "        except Exception as error:\n",
    "            print(f\"Error: {error}\")\n",
    "            return None"
   ]
  }
 ],
 "metadata": {
  "kernelspec": {
   "display_name": "Python 3",
   "language": "python",
   "name": "python3"
  },
  "language_info": {
   "codemirror_mode": {
    "name": "ipython",
    "version": 3
   },
   "file_extension": ".py",
   "mimetype": "text/x-python",
   "name": "python",
   "nbconvert_exporter": "python",
   "pygments_lexer": "ipython3",
   "version": "3.12.1"
  }
 },
 "nbformat": 4,
 "nbformat_minor": 2
}
