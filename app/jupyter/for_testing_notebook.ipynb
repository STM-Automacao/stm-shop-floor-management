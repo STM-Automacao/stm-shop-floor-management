{
 "cells": [
  {
   "cell_type": "markdown",
   "metadata": {},
   "source": [
    "# Importações\n"
   ]
  },
  {
   "cell_type": "code",
   "execution_count": 143,
   "metadata": {},
   "outputs": [],
   "source": [
    "import urllib\n",
    "from itertools import product\n",
    "from os import getenv\n",
    "from sqlalchemy import create_engine\n",
    "from dotenv import load_dotenv\n",
    "\n",
    "import numpy as np\n",
    "import pandas as pd\n",
    "from datetime import datetime, timedelta\n",
    "import plotly.graph_objects as go\n",
    "import plotly.express as px\n",
    "from fuzzywuzzy import process"
   ]
  },
  {
   "cell_type": "markdown",
   "metadata": {},
   "source": [
    "# Connection\n"
   ]
  },
  {
   "cell_type": "markdown",
   "metadata": {},
   "source": [
    "connection.py\n"
   ]
  },
  {
   "cell_type": "code",
   "execution_count": 144,
   "metadata": {},
   "outputs": [],
   "source": [
    "# cSpell: disable=invalid-name\n",
    "load_dotenv()\n",
    "\n",
    "\n",
    "class Connection:\n",
    "    \"\"\"\n",
    "    Class Connection\n",
    "    \"\"\"\n",
    "\n",
    "    def __init__(self):\n",
    "        \"\"\"\n",
    "        Constructor\n",
    "\n",
    "        Args:\n",
    "            user (str): user\n",
    "            password (str): password\n",
    "            database (str): database\n",
    "            driver (str): driver\n",
    "            server (str): server\n",
    "\n",
    "        Usage:\n",
    "            >>> from connection import Connection\n",
    "            >>> connection = Connection()\n",
    "            >>> connection.get_connection()\n",
    "        \"\"\"\n",
    "        self.__user = getenv(\"PYMSSQL_USER\")\n",
    "        self.__password = getenv(\"PYMSSQL_PASSWORD\")\n",
    "        self.__database = getenv(\"PYMSSQL_DATABASE_AUTOMACAO\")\n",
    "        self.__driver = \"{ODBC Driver 17 for SQL Server}\"\n",
    "        self.__server = getenv(\"PYMSSQL_SERVER\")\n",
    "\n",
    "    def get_connection_automacao(self):\n",
    "        \"\"\"\n",
    "        Get connection\n",
    "\n",
    "        Returns:\n",
    "            object: connection\n",
    "\n",
    "        Usage:\n",
    "            >>> from connection import Connection\n",
    "            >>> connection = Connection()\n",
    "            >>> connection.get_connection()\n",
    "        \"\"\"\n",
    "        try:\n",
    "            params = urllib.parse.quote_plus(\n",
    "                f\"DRIVER={self.__driver};\"\n",
    "                f\"SERVER={self.__server};\"\n",
    "                f\"DATABASE={self.__database};\"\n",
    "                f\"UID={self.__user};\"\n",
    "                f\"PWD={self.__password};\"\n",
    "            )\n",
    "            # pylint: disable=consider-using-f-string\n",
    "            conexao_automacao = create_engine(\n",
    "                \"mssql+pyodbc:///?odbc_connect=%s\" % params\n",
    "            )\n",
    "            return conexao_automacao\n",
    "        # pylint: disable=broad-except\n",
    "        except Exception as error:\n",
    "            print(f\"Error: {error}\")\n",
    "            return None"
   ]
  },
  {
   "cell_type": "markdown",
   "metadata": {},
   "source": [
    "db_read.py\n"
   ]
  },
  {
   "cell_type": "code",
   "execution_count": 145,
   "metadata": {},
   "outputs": [],
   "source": [
    "# cSpell: disable=invalid-name\n",
    "class Read(Connection):\n",
    "    \"\"\"\n",
    "    Class Read\n",
    "    Read data from the database and return a pandas dataframe\n",
    "    Create query to be executed in the database\n",
    "    \"\"\"\n",
    "\n",
    "    # pylint: disable=useless-super-delegation\n",
    "    def __init__(self):\n",
    "        \"\"\"\n",
    "        Constructor\n",
    "        \"\"\"\n",
    "        super().__init__()\n",
    "\n",
    "    def get_automacao_data(self, query: str) -> pd.DataFrame:\n",
    "        \"\"\"\n",
    "        Get data from database AUTOMACAO and return a pandas dataframe.\n",
    "\n",
    "        Parameters\n",
    "        ----------\n",
    "        query : str\n",
    "            Query to be executed in the database\n",
    "\n",
    "        Returns\n",
    "        -------\n",
    "        pandas dataframe\n",
    "            Dataframe with the query result\n",
    "        \"\"\"\n",
    "        try:\n",
    "            connection = self.get_connection_automacao()\n",
    "            data = pd.read_sql(query, connection)\n",
    "            return data\n",
    "        # pylint: disable=broad-except\n",
    "        except Exception as error:\n",
    "            print(f\"Error: {error}\")\n",
    "            return None\n",
    "\n",
    "    def create_automacao_query(\n",
    "        self, table: str, where: str = None, orderby: str = None\n",
    "    ) -> str:\n",
    "        \"\"\"\n",
    "        Create query to be executed in the database AUTOMACAO.\n",
    "\n",
    "        Parameters\n",
    "        ----------\n",
    "        table : str\n",
    "            Table name\n",
    "        where : str\n",
    "            Where clause (optional)\n",
    "        orderby : str\n",
    "            Order by clause (optional)\n",
    "\n",
    "        Returns\n",
    "        -------\n",
    "        str\n",
    "            Query to be executed in the database\n",
    "        \"\"\"\n",
    "        query = f\"SELECT * FROM AUTOMACAO.dbo.{table}\"\n",
    "\n",
    "        if where:\n",
    "            query += f\" WHERE {where}\"\n",
    "\n",
    "        if orderby:\n",
    "            query += f\" ORDER BY {orderby}\"\n",
    "\n",
    "        return query"
   ]
  },
  {
   "cell_type": "markdown",
   "metadata": {},
   "source": [
    "## Criando a query e recebendo dados do Banco de Dados\n"
   ]
  },
  {
   "cell_type": "code",
   "execution_count": 146,
   "metadata": {},
   "outputs": [
    {
     "name": "stdout",
     "output_type": "stream",
     "text": [
      "Primeiro dia do mês anterior: 2023-12-01\n",
      "Último dia do mês anterior: 2023-12-31\n",
      "Primeiro dia do mês atual: 2024-01-01\n"
     ]
    }
   ],
   "source": [
    "# cSpell: disable=invalid-name\n",
    "# Dia de hoje para uso no gráfico\n",
    "now = pd.to_datetime(\"today\")\n",
    "today = now.strftime(\"%Y-%m-%d\")\n",
    "\n",
    "# Encontrando primeiro e último dia do mês anterior\n",
    "first_day_this_month = now.replace(day=1)  # primeiro dia do mês atual\n",
    "last_day_month = first_day_this_month - timedelta(\n",
    "    days=1\n",
    ")  # último dia do mês anterior\n",
    "first_day_month = last_day_month.replace(day=1)  # primeiro dia do mês anterior\n",
    "\n",
    "# mantendo o formato de data e removendo o horário\n",
    "last_day_month = last_day_month.strftime(\"%Y-%m-%d\")\n",
    "first_day_month = first_day_month.strftime(\"%Y-%m-%d\")\n",
    "first_day_this_month = first_day_this_month.strftime(\"%Y-%m-%d\")\n",
    "\n",
    "print(f\"Primeiro dia do mês anterior: {first_day_month}\")\n",
    "print(f\"Último dia do mês anterior: {last_day_month}\")\n",
    "print(f\"Primeiro dia do mês atual: {first_day_this_month}\")\n",
    "\n",
    "# Instancia a classe Read\n",
    "DB_read = Read()\n",
    "\n",
    "# Query para obter os dados do mês anterior\n",
    "query_occ = DB_read.create_automacao_query(\n",
    "    table=\"maquina_ocorrencia\",\n",
    "    where=f\"data_registro >= '{first_day_this_month}'\",\n",
    ")\n",
    "\n",
    "query_info = DB_read.create_automacao_query(\n",
    "    table=\"maquina_info\", where=f\"data_registro >= '{first_day_this_month}'\"\n",
    ")\n",
    "\n",
    "query_maq_cadastro = DB_read.create_automacao_query(\n",
    "    table=\"maquina_cadastro\",\n",
    "    orderby=\"linha, data_registro DESC, hora_registro DESC\",\n",
    ")\n",
    "\n",
    "# Leitura do Banco de Dados\n",
    "df_occ = DB_read.get_automacao_data(query_occ)\n",
    "df_info = DB_read.get_automacao_data(query_info)\n",
    "df_maq_cadastro = DB_read.get_automacao_data(query_maq_cadastro)\n",
    "\n",
    "# df_occ.to_html(\"teste.html\")"
   ]
  },
  {
   "cell_type": "markdown",
   "metadata": {},
   "source": [
    "Testes de Saída do Banco de Dados\n"
   ]
  },
  {
   "cell_type": "code",
   "execution_count": 147,
   "metadata": {},
   "outputs": [
    {
     "data": {
      "text/html": [
       "<div>\n",
       "<style scoped>\n",
       "    .dataframe tbody tr th:only-of-type {\n",
       "        vertical-align: middle;\n",
       "    }\n",
       "\n",
       "    .dataframe tbody tr th {\n",
       "        vertical-align: top;\n",
       "    }\n",
       "\n",
       "    .dataframe thead th {\n",
       "        text-align: right;\n",
       "    }\n",
       "</style>\n",
       "<table border=\"1\" class=\"dataframe\">\n",
       "  <thead>\n",
       "    <tr style=\"text-align: right;\">\n",
       "      <th></th>\n",
       "      <th>recno</th>\n",
       "      <th>maquina_id</th>\n",
       "      <th>motivo_id</th>\n",
       "      <th>problema</th>\n",
       "      <th>solucao</th>\n",
       "      <th>data_registro</th>\n",
       "      <th>hora_registro</th>\n",
       "      <th>usuario_id</th>\n",
       "    </tr>\n",
       "  </thead>\n",
       "  <tbody>\n",
       "    <tr>\n",
       "      <th>0</th>\n",
       "      <td>2638</td>\n",
       "      <td>TMF006</td>\n",
       "      <td>12</td>\n",
       "      <td></td>\n",
       "      <td></td>\n",
       "      <td>2024-01-02</td>\n",
       "      <td>01:16:52</td>\n",
       "      <td>000453</td>\n",
       "    </tr>\n",
       "    <tr>\n",
       "      <th>1</th>\n",
       "      <td>2639</td>\n",
       "      <td>TMF013</td>\n",
       "      <td>08</td>\n",
       "      <td></td>\n",
       "      <td></td>\n",
       "      <td>2024-01-02</td>\n",
       "      <td>01:17:04</td>\n",
       "      <td>000453</td>\n",
       "    </tr>\n",
       "    <tr>\n",
       "      <th>2</th>\n",
       "      <td>2640</td>\n",
       "      <td>TMF010</td>\n",
       "      <td>08</td>\n",
       "      <td></td>\n",
       "      <td></td>\n",
       "      <td>2024-01-02</td>\n",
       "      <td>01:17:20</td>\n",
       "      <td>000453</td>\n",
       "    </tr>\n",
       "    <tr>\n",
       "      <th>3</th>\n",
       "      <td>2641</td>\n",
       "      <td>TMF010</td>\n",
       "      <td>12</td>\n",
       "      <td></td>\n",
       "      <td></td>\n",
       "      <td>2024-01-02</td>\n",
       "      <td>01:18:45</td>\n",
       "      <td>000453</td>\n",
       "    </tr>\n",
       "    <tr>\n",
       "      <th>4</th>\n",
       "      <td>2642</td>\n",
       "      <td>TMF006</td>\n",
       "      <td>12</td>\n",
       "      <td></td>\n",
       "      <td></td>\n",
       "      <td>2024-01-03</td>\n",
       "      <td>08:14:58</td>\n",
       "      <td>000807</td>\n",
       "    </tr>\n",
       "    <tr>\n",
       "      <th>...</th>\n",
       "      <td>...</td>\n",
       "      <td>...</td>\n",
       "      <td>...</td>\n",
       "      <td>...</td>\n",
       "      <td>...</td>\n",
       "      <td>...</td>\n",
       "      <td>...</td>\n",
       "      <td>...</td>\n",
       "    </tr>\n",
       "    <tr>\n",
       "      <th>410</th>\n",
       "      <td>3048</td>\n",
       "      <td>TMF011</td>\n",
       "      <td>12</td>\n",
       "      <td></td>\n",
       "      <td></td>\n",
       "      <td>2024-01-17</td>\n",
       "      <td>06:21:10</td>\n",
       "      <td>000453</td>\n",
       "    </tr>\n",
       "    <tr>\n",
       "      <th>411</th>\n",
       "      <td>3049</td>\n",
       "      <td>TMF005</td>\n",
       "      <td>08</td>\n",
       "      <td>Robô travou</td>\n",
       "      <td></td>\n",
       "      <td>2024-01-17</td>\n",
       "      <td>08:12:35</td>\n",
       "      <td>000838</td>\n",
       "    </tr>\n",
       "    <tr>\n",
       "      <th>412</th>\n",
       "      <td>3050</td>\n",
       "      <td>TMF002</td>\n",
       "      <td>08</td>\n",
       "      <td>Robô travou</td>\n",
       "      <td></td>\n",
       "      <td>2024-01-17</td>\n",
       "      <td>08:13:01</td>\n",
       "      <td>000838</td>\n",
       "    </tr>\n",
       "    <tr>\n",
       "      <th>413</th>\n",
       "      <td>3051</td>\n",
       "      <td>TMF010</td>\n",
       "      <td>01</td>\n",
       "      <td></td>\n",
       "      <td></td>\n",
       "      <td>2024-01-17</td>\n",
       "      <td>08:14:37</td>\n",
       "      <td>000807</td>\n",
       "    </tr>\n",
       "    <tr>\n",
       "      <th>414</th>\n",
       "      <td>3052</td>\n",
       "      <td>TMF012</td>\n",
       "      <td>05</td>\n",
       "      <td>Rodou as demais linhas</td>\n",
       "      <td></td>\n",
       "      <td>2024-01-17</td>\n",
       "      <td>08:14:53</td>\n",
       "      <td>000807</td>\n",
       "    </tr>\n",
       "  </tbody>\n",
       "</table>\n",
       "<p>415 rows × 8 columns</p>\n",
       "</div>"
      ],
      "text/plain": [
       "     recno maquina_id motivo_id                problema solucao data_registro  \\\n",
       "0     2638     TMF006        12                                    2024-01-02   \n",
       "1     2639     TMF013        08                                    2024-01-02   \n",
       "2     2640     TMF010        08                                    2024-01-02   \n",
       "3     2641     TMF010        12                                    2024-01-02   \n",
       "4     2642     TMF006        12                                    2024-01-03   \n",
       "..     ...        ...       ...                     ...     ...           ...   \n",
       "410   3048     TMF011        12                                    2024-01-17   \n",
       "411   3049     TMF005        08             Robô travou            2024-01-17   \n",
       "412   3050     TMF002        08             Robô travou            2024-01-17   \n",
       "413   3051     TMF010        01                                    2024-01-17   \n",
       "414   3052     TMF012        05  Rodou as demais linhas            2024-01-17   \n",
       "\n",
       "    hora_registro usuario_id  \n",
       "0        01:16:52     000453  \n",
       "1        01:17:04     000453  \n",
       "2        01:17:20     000453  \n",
       "3        01:18:45     000453  \n",
       "4        08:14:58     000807  \n",
       "..            ...        ...  \n",
       "410      06:21:10     000453  \n",
       "411      08:12:35     000838  \n",
       "412      08:13:01     000838  \n",
       "413      08:14:37     000807  \n",
       "414      08:14:53     000807  \n",
       "\n",
       "[415 rows x 8 columns]"
      ]
     },
     "execution_count": 147,
     "metadata": {},
     "output_type": "execute_result"
    }
   ],
   "source": [
    "df_occ"
   ]
  },
  {
   "cell_type": "code",
   "execution_count": 148,
   "metadata": {},
   "outputs": [
    {
     "data": {
      "text/html": [
       "<div>\n",
       "<style scoped>\n",
       "    .dataframe tbody tr th:only-of-type {\n",
       "        vertical-align: middle;\n",
       "    }\n",
       "\n",
       "    .dataframe tbody tr th {\n",
       "        vertical-align: top;\n",
       "    }\n",
       "\n",
       "    .dataframe thead th {\n",
       "        text-align: right;\n",
       "    }\n",
       "</style>\n",
       "<table border=\"1\" class=\"dataframe\">\n",
       "  <thead>\n",
       "    <tr style=\"text-align: right;\">\n",
       "      <th></th>\n",
       "      <th>recno</th>\n",
       "      <th>maquina_id</th>\n",
       "      <th>status</th>\n",
       "      <th>ciclo_1_min</th>\n",
       "      <th>ciclo_15_min</th>\n",
       "      <th>contagem_total_ciclos</th>\n",
       "      <th>contagem_total_produzido</th>\n",
       "      <th>turno</th>\n",
       "      <th>data_registro</th>\n",
       "      <th>hora_registro</th>\n",
       "      <th>tempo_parada</th>\n",
       "      <th>tempo_rodando</th>\n",
       "    </tr>\n",
       "  </thead>\n",
       "  <tbody>\n",
       "    <tr>\n",
       "      <th>0</th>\n",
       "      <td>667577</td>\n",
       "      <td>TMF005</td>\n",
       "      <td>false</td>\n",
       "      <td>0.0</td>\n",
       "      <td>0.0</td>\n",
       "      <td>0.0</td>\n",
       "      <td>0.0</td>\n",
       "      <td>VES</td>\n",
       "      <td>2024-01-01</td>\n",
       "      <td>00:00:14.246666</td>\n",
       "      <td>0.0</td>\n",
       "      <td>0.0</td>\n",
       "    </tr>\n",
       "    <tr>\n",
       "      <th>1</th>\n",
       "      <td>667578</td>\n",
       "      <td>TMF002</td>\n",
       "      <td>false</td>\n",
       "      <td>0.0</td>\n",
       "      <td>0.0</td>\n",
       "      <td>0.0</td>\n",
       "      <td>0.0</td>\n",
       "      <td>VES</td>\n",
       "      <td>2024-01-01</td>\n",
       "      <td>00:00:15.253333</td>\n",
       "      <td>0.0</td>\n",
       "      <td>0.0</td>\n",
       "    </tr>\n",
       "    <tr>\n",
       "      <th>2</th>\n",
       "      <td>667579</td>\n",
       "      <td>TMF015</td>\n",
       "      <td>false</td>\n",
       "      <td>0.0</td>\n",
       "      <td>0.0</td>\n",
       "      <td>0.0</td>\n",
       "      <td>0.0</td>\n",
       "      <td>VES</td>\n",
       "      <td>2024-01-01</td>\n",
       "      <td>00:00:16.253333</td>\n",
       "      <td>0.0</td>\n",
       "      <td>0.0</td>\n",
       "    </tr>\n",
       "    <tr>\n",
       "      <th>3</th>\n",
       "      <td>667580</td>\n",
       "      <td>TMF011</td>\n",
       "      <td>false</td>\n",
       "      <td>0.0</td>\n",
       "      <td>0.0</td>\n",
       "      <td>0.0</td>\n",
       "      <td>0.0</td>\n",
       "      <td>VES</td>\n",
       "      <td>2024-01-01</td>\n",
       "      <td>00:00:17.253333</td>\n",
       "      <td>0.0</td>\n",
       "      <td>0.0</td>\n",
       "    </tr>\n",
       "    <tr>\n",
       "      <th>4</th>\n",
       "      <td>667581</td>\n",
       "      <td>TMF014</td>\n",
       "      <td>false</td>\n",
       "      <td>0.0</td>\n",
       "      <td>0.0</td>\n",
       "      <td>0.0</td>\n",
       "      <td>0.0</td>\n",
       "      <td>VES</td>\n",
       "      <td>2024-01-01</td>\n",
       "      <td>00:00:18.253333</td>\n",
       "      <td>0.0</td>\n",
       "      <td>0.0</td>\n",
       "    </tr>\n",
       "    <tr>\n",
       "      <th>...</th>\n",
       "      <td>...</td>\n",
       "      <td>...</td>\n",
       "      <td>...</td>\n",
       "      <td>...</td>\n",
       "      <td>...</td>\n",
       "      <td>...</td>\n",
       "      <td>...</td>\n",
       "      <td>...</td>\n",
       "      <td>...</td>\n",
       "      <td>...</td>\n",
       "      <td>...</td>\n",
       "      <td>...</td>\n",
       "    </tr>\n",
       "    <tr>\n",
       "      <th>160251</th>\n",
       "      <td>827828</td>\n",
       "      <td>TMF014</td>\n",
       "      <td>false</td>\n",
       "      <td>12.0</td>\n",
       "      <td>150.0</td>\n",
       "      <td>2830.0</td>\n",
       "      <td>2816.0</td>\n",
       "      <td>MAT</td>\n",
       "      <td>2024-01-17</td>\n",
       "      <td>10:16:55.760000</td>\n",
       "      <td>0.0</td>\n",
       "      <td>0.0</td>\n",
       "    </tr>\n",
       "    <tr>\n",
       "      <th>160252</th>\n",
       "      <td>827829</td>\n",
       "      <td>TMF004</td>\n",
       "      <td>true</td>\n",
       "      <td>11.0</td>\n",
       "      <td>150.0</td>\n",
       "      <td>2744.0</td>\n",
       "      <td>0.0</td>\n",
       "      <td>MAT</td>\n",
       "      <td>2024-01-17</td>\n",
       "      <td>10:16:56.760000</td>\n",
       "      <td>0.0</td>\n",
       "      <td>0.0</td>\n",
       "    </tr>\n",
       "    <tr>\n",
       "      <th>160253</th>\n",
       "      <td>827830</td>\n",
       "      <td>TMF009</td>\n",
       "      <td>true</td>\n",
       "      <td>12.0</td>\n",
       "      <td>150.0</td>\n",
       "      <td>2888.0</td>\n",
       "      <td>2878.0</td>\n",
       "      <td>MAT</td>\n",
       "      <td>2024-01-17</td>\n",
       "      <td>10:16:57.763333</td>\n",
       "      <td>0.0</td>\n",
       "      <td>0.0</td>\n",
       "    </tr>\n",
       "    <tr>\n",
       "      <th>160254</th>\n",
       "      <td>827831</td>\n",
       "      <td>TMF003</td>\n",
       "      <td>false</td>\n",
       "      <td>0.0</td>\n",
       "      <td>0.0</td>\n",
       "      <td>0.0</td>\n",
       "      <td>0.0</td>\n",
       "      <td>MAT</td>\n",
       "      <td>2024-01-17</td>\n",
       "      <td>10:16:58.766666</td>\n",
       "      <td>0.0</td>\n",
       "      <td>0.0</td>\n",
       "    </tr>\n",
       "    <tr>\n",
       "      <th>160255</th>\n",
       "      <td>827832</td>\n",
       "      <td>TMF008</td>\n",
       "      <td>true</td>\n",
       "      <td>12.0</td>\n",
       "      <td>150.0</td>\n",
       "      <td>3088.0</td>\n",
       "      <td>3056.0</td>\n",
       "      <td>MAT</td>\n",
       "      <td>2024-01-17</td>\n",
       "      <td>10:16:59.766666</td>\n",
       "      <td>0.0</td>\n",
       "      <td>0.0</td>\n",
       "    </tr>\n",
       "  </tbody>\n",
       "</table>\n",
       "<p>160256 rows × 12 columns</p>\n",
       "</div>"
      ],
      "text/plain": [
       "         recno maquina_id status  ciclo_1_min  ciclo_15_min  \\\n",
       "0       667577     TMF005  false          0.0           0.0   \n",
       "1       667578     TMF002  false          0.0           0.0   \n",
       "2       667579     TMF015  false          0.0           0.0   \n",
       "3       667580     TMF011  false          0.0           0.0   \n",
       "4       667581     TMF014  false          0.0           0.0   \n",
       "...        ...        ...    ...          ...           ...   \n",
       "160251  827828     TMF014  false         12.0         150.0   \n",
       "160252  827829     TMF004   true         11.0         150.0   \n",
       "160253  827830     TMF009   true         12.0         150.0   \n",
       "160254  827831     TMF003  false          0.0           0.0   \n",
       "160255  827832     TMF008   true         12.0         150.0   \n",
       "\n",
       "        contagem_total_ciclos  contagem_total_produzido turno data_registro  \\\n",
       "0                         0.0                       0.0   VES    2024-01-01   \n",
       "1                         0.0                       0.0   VES    2024-01-01   \n",
       "2                         0.0                       0.0   VES    2024-01-01   \n",
       "3                         0.0                       0.0   VES    2024-01-01   \n",
       "4                         0.0                       0.0   VES    2024-01-01   \n",
       "...                       ...                       ...   ...           ...   \n",
       "160251                 2830.0                    2816.0   MAT    2024-01-17   \n",
       "160252                 2744.0                       0.0   MAT    2024-01-17   \n",
       "160253                 2888.0                    2878.0   MAT    2024-01-17   \n",
       "160254                    0.0                       0.0   MAT    2024-01-17   \n",
       "160255                 3088.0                    3056.0   MAT    2024-01-17   \n",
       "\n",
       "          hora_registro  tempo_parada  tempo_rodando  \n",
       "0       00:00:14.246666           0.0            0.0  \n",
       "1       00:00:15.253333           0.0            0.0  \n",
       "2       00:00:16.253333           0.0            0.0  \n",
       "3       00:00:17.253333           0.0            0.0  \n",
       "4       00:00:18.253333           0.0            0.0  \n",
       "...                 ...           ...            ...  \n",
       "160251  10:16:55.760000           0.0            0.0  \n",
       "160252  10:16:56.760000           0.0            0.0  \n",
       "160253  10:16:57.763333           0.0            0.0  \n",
       "160254  10:16:58.766666           0.0            0.0  \n",
       "160255  10:16:59.766666           0.0            0.0  \n",
       "\n",
       "[160256 rows x 12 columns]"
      ]
     },
     "execution_count": 148,
     "metadata": {},
     "output_type": "execute_result"
    }
   ],
   "source": [
    "df_info"
   ]
  },
  {
   "cell_type": "code",
   "execution_count": 149,
   "metadata": {},
   "outputs": [
    {
     "data": {
      "text/html": [
       "<div>\n",
       "<style scoped>\n",
       "    .dataframe tbody tr th:only-of-type {\n",
       "        vertical-align: middle;\n",
       "    }\n",
       "\n",
       "    .dataframe tbody tr th {\n",
       "        vertical-align: top;\n",
       "    }\n",
       "\n",
       "    .dataframe thead th {\n",
       "        text-align: right;\n",
       "    }\n",
       "</style>\n",
       "<table border=\"1\" class=\"dataframe\">\n",
       "  <thead>\n",
       "    <tr style=\"text-align: right;\">\n",
       "      <th></th>\n",
       "      <th>recno</th>\n",
       "      <th>maquina_id</th>\n",
       "      <th>fabrica</th>\n",
       "      <th>linha</th>\n",
       "      <th>data_registro</th>\n",
       "      <th>hora_registro</th>\n",
       "      <th>usuario_id</th>\n",
       "    </tr>\n",
       "  </thead>\n",
       "  <tbody>\n",
       "    <tr>\n",
       "      <th>0</th>\n",
       "      <td>55</td>\n",
       "      <td>TMF001</td>\n",
       "      <td></td>\n",
       "      <td>0</td>\n",
       "      <td>2024-01-14</td>\n",
       "      <td>16:13:05</td>\n",
       "      <td>000264</td>\n",
       "    </tr>\n",
       "    <tr>\n",
       "      <th>1</th>\n",
       "      <td>51</td>\n",
       "      <td>TMF003</td>\n",
       "      <td></td>\n",
       "      <td>0</td>\n",
       "      <td>2023-11-11</td>\n",
       "      <td>12:41:46</td>\n",
       "      <td>000264</td>\n",
       "    </tr>\n",
       "    <tr>\n",
       "      <th>2</th>\n",
       "      <td>48</td>\n",
       "      <td>TMF005</td>\n",
       "      <td></td>\n",
       "      <td>0</td>\n",
       "      <td>2023-11-11</td>\n",
       "      <td>12:37:43</td>\n",
       "      <td>000264</td>\n",
       "    </tr>\n",
       "    <tr>\n",
       "      <th>3</th>\n",
       "      <td>47</td>\n",
       "      <td>TMF014</td>\n",
       "      <td></td>\n",
       "      <td>0</td>\n",
       "      <td>2023-10-29</td>\n",
       "      <td>11:44:53</td>\n",
       "      <td>000264</td>\n",
       "    </tr>\n",
       "    <tr>\n",
       "      <th>4</th>\n",
       "      <td>43</td>\n",
       "      <td>TMF005</td>\n",
       "      <td></td>\n",
       "      <td>0</td>\n",
       "      <td>2023-10-22</td>\n",
       "      <td>12:32:23</td>\n",
       "      <td>000264</td>\n",
       "    </tr>\n",
       "    <tr>\n",
       "      <th>5</th>\n",
       "      <td>42</td>\n",
       "      <td>TMF014</td>\n",
       "      <td></td>\n",
       "      <td>0</td>\n",
       "      <td>2023-10-14</td>\n",
       "      <td>14:58:15</td>\n",
       "      <td>000264</td>\n",
       "    </tr>\n",
       "    <tr>\n",
       "      <th>6</th>\n",
       "      <td>39</td>\n",
       "      <td>TMF005</td>\n",
       "      <td>0</td>\n",
       "      <td>0</td>\n",
       "      <td>2023-10-06</td>\n",
       "      <td>15:53:45</td>\n",
       "      <td>000264</td>\n",
       "    </tr>\n",
       "    <tr>\n",
       "      <th>7</th>\n",
       "      <td>38</td>\n",
       "      <td>TMF003</td>\n",
       "      <td></td>\n",
       "      <td>0</td>\n",
       "      <td>2023-10-02</td>\n",
       "      <td>08:17:14</td>\n",
       "      <td>002131</td>\n",
       "    </tr>\n",
       "    <tr>\n",
       "      <th>8</th>\n",
       "      <td>37</td>\n",
       "      <td>TMF003</td>\n",
       "      <td></td>\n",
       "      <td>0</td>\n",
       "      <td>2023-09-30</td>\n",
       "      <td>16:35:54</td>\n",
       "      <td>000264</td>\n",
       "    </tr>\n",
       "    <tr>\n",
       "      <th>9</th>\n",
       "      <td>36</td>\n",
       "      <td>TMF003</td>\n",
       "      <td></td>\n",
       "      <td>0</td>\n",
       "      <td>2023-09-30</td>\n",
       "      <td>16:35:37</td>\n",
       "      <td>000264</td>\n",
       "    </tr>\n",
       "    <tr>\n",
       "      <th>10</th>\n",
       "      <td>35</td>\n",
       "      <td>TMF003</td>\n",
       "      <td></td>\n",
       "      <td>0</td>\n",
       "      <td>2023-09-30</td>\n",
       "      <td>16:34:26</td>\n",
       "      <td>000264</td>\n",
       "    </tr>\n",
       "    <tr>\n",
       "      <th>11</th>\n",
       "      <td>52</td>\n",
       "      <td>TMF005</td>\n",
       "      <td>1</td>\n",
       "      <td>1</td>\n",
       "      <td>2023-11-11</td>\n",
       "      <td>12:43:59</td>\n",
       "      <td>000264</td>\n",
       "    </tr>\n",
       "    <tr>\n",
       "      <th>12</th>\n",
       "      <td>45</td>\n",
       "      <td>TMF005</td>\n",
       "      <td>1</td>\n",
       "      <td>1</td>\n",
       "      <td>2023-10-29</td>\n",
       "      <td>11:43:59</td>\n",
       "      <td>000264</td>\n",
       "    </tr>\n",
       "    <tr>\n",
       "      <th>13</th>\n",
       "      <td>16</td>\n",
       "      <td>TMF008</td>\n",
       "      <td>1</td>\n",
       "      <td>1</td>\n",
       "      <td>2023-09-23</td>\n",
       "      <td>10:45:25</td>\n",
       "      <td>001996</td>\n",
       "    </tr>\n",
       "    <tr>\n",
       "      <th>14</th>\n",
       "      <td>34</td>\n",
       "      <td>TMF002</td>\n",
       "      <td>1</td>\n",
       "      <td>2</td>\n",
       "      <td>2023-09-30</td>\n",
       "      <td>16:33:59</td>\n",
       "      <td>000264</td>\n",
       "    </tr>\n",
       "    <tr>\n",
       "      <th>15</th>\n",
       "      <td>33</td>\n",
       "      <td>TMF003</td>\n",
       "      <td>1</td>\n",
       "      <td>2</td>\n",
       "      <td>2023-09-30</td>\n",
       "      <td>16:31:21</td>\n",
       "      <td>000264</td>\n",
       "    </tr>\n",
       "    <tr>\n",
       "      <th>16</th>\n",
       "      <td>17</td>\n",
       "      <td>TMF003</td>\n",
       "      <td>1</td>\n",
       "      <td>2</td>\n",
       "      <td>2023-09-23</td>\n",
       "      <td>15:24:20</td>\n",
       "      <td>001996</td>\n",
       "    </tr>\n",
       "    <tr>\n",
       "      <th>17</th>\n",
       "      <td>18</td>\n",
       "      <td>TMF015</td>\n",
       "      <td>1</td>\n",
       "      <td>3</td>\n",
       "      <td>2023-09-23</td>\n",
       "      <td>15:44:16</td>\n",
       "      <td>001996</td>\n",
       "    </tr>\n",
       "    <tr>\n",
       "      <th>18</th>\n",
       "      <td>19</td>\n",
       "      <td>TMF011</td>\n",
       "      <td>1</td>\n",
       "      <td>4</td>\n",
       "      <td>2023-09-23</td>\n",
       "      <td>15:46:43</td>\n",
       "      <td>001996</td>\n",
       "    </tr>\n",
       "    <tr>\n",
       "      <th>19</th>\n",
       "      <td>53</td>\n",
       "      <td>TMF014</td>\n",
       "      <td>1</td>\n",
       "      <td>5</td>\n",
       "      <td>2023-11-11</td>\n",
       "      <td>12:44:14</td>\n",
       "      <td>000264</td>\n",
       "    </tr>\n",
       "    <tr>\n",
       "      <th>20</th>\n",
       "      <td>50</td>\n",
       "      <td>TMF005</td>\n",
       "      <td>1</td>\n",
       "      <td>5</td>\n",
       "      <td>2023-11-11</td>\n",
       "      <td>12:39:48</td>\n",
       "      <td>000264</td>\n",
       "    </tr>\n",
       "    <tr>\n",
       "      <th>21</th>\n",
       "      <td>49</td>\n",
       "      <td>TMF005</td>\n",
       "      <td></td>\n",
       "      <td>5</td>\n",
       "      <td>2023-11-11</td>\n",
       "      <td>12:39:34</td>\n",
       "      <td>000264</td>\n",
       "    </tr>\n",
       "    <tr>\n",
       "      <th>22</th>\n",
       "      <td>40</td>\n",
       "      <td>TMF003</td>\n",
       "      <td>1</td>\n",
       "      <td>5</td>\n",
       "      <td>2023-10-06</td>\n",
       "      <td>15:54:22</td>\n",
       "      <td>000264</td>\n",
       "    </tr>\n",
       "    <tr>\n",
       "      <th>23</th>\n",
       "      <td>20</td>\n",
       "      <td>TMF005</td>\n",
       "      <td>1</td>\n",
       "      <td>5</td>\n",
       "      <td>2023-09-23</td>\n",
       "      <td>15:47:19</td>\n",
       "      <td>001996</td>\n",
       "    </tr>\n",
       "    <tr>\n",
       "      <th>24</th>\n",
       "      <td>30</td>\n",
       "      <td>TMF004</td>\n",
       "      <td>1</td>\n",
       "      <td>6</td>\n",
       "      <td>2023-09-25</td>\n",
       "      <td>11:52:29</td>\n",
       "      <td>001996</td>\n",
       "    </tr>\n",
       "    <tr>\n",
       "      <th>25</th>\n",
       "      <td>21</td>\n",
       "      <td>TMF004</td>\n",
       "      <td>1</td>\n",
       "      <td>6</td>\n",
       "      <td>2023-09-23</td>\n",
       "      <td>15:49:03</td>\n",
       "      <td>001996</td>\n",
       "    </tr>\n",
       "    <tr>\n",
       "      <th>26</th>\n",
       "      <td>22</td>\n",
       "      <td>TMF009</td>\n",
       "      <td>1</td>\n",
       "      <td>7</td>\n",
       "      <td>2023-09-25</td>\n",
       "      <td>10:45:10</td>\n",
       "      <td>002131</td>\n",
       "    </tr>\n",
       "    <tr>\n",
       "      <th>27</th>\n",
       "      <td>54</td>\n",
       "      <td>TMF003</td>\n",
       "      <td>1</td>\n",
       "      <td>8</td>\n",
       "      <td>2024-01-14</td>\n",
       "      <td>16:12:44</td>\n",
       "      <td>000264</td>\n",
       "    </tr>\n",
       "    <tr>\n",
       "      <th>28</th>\n",
       "      <td>23</td>\n",
       "      <td>TMF001</td>\n",
       "      <td>1</td>\n",
       "      <td>8</td>\n",
       "      <td>2023-09-25</td>\n",
       "      <td>10:45:38</td>\n",
       "      <td>002131</td>\n",
       "    </tr>\n",
       "    <tr>\n",
       "      <th>29</th>\n",
       "      <td>46</td>\n",
       "      <td>TMF008</td>\n",
       "      <td>1</td>\n",
       "      <td>9</td>\n",
       "      <td>2023-10-29</td>\n",
       "      <td>11:44:32</td>\n",
       "      <td>000264</td>\n",
       "    </tr>\n",
       "    <tr>\n",
       "      <th>30</th>\n",
       "      <td>44</td>\n",
       "      <td>TMF014</td>\n",
       "      <td>1</td>\n",
       "      <td>9</td>\n",
       "      <td>2023-10-22</td>\n",
       "      <td>12:33:05</td>\n",
       "      <td>000264</td>\n",
       "    </tr>\n",
       "    <tr>\n",
       "      <th>31</th>\n",
       "      <td>41</td>\n",
       "      <td>TMF005</td>\n",
       "      <td>1</td>\n",
       "      <td>9</td>\n",
       "      <td>2023-10-14</td>\n",
       "      <td>14:57:44</td>\n",
       "      <td>000264</td>\n",
       "    </tr>\n",
       "    <tr>\n",
       "      <th>32</th>\n",
       "      <td>31</td>\n",
       "      <td>TMF014</td>\n",
       "      <td>1</td>\n",
       "      <td>9</td>\n",
       "      <td>2023-09-25</td>\n",
       "      <td>12:32:50</td>\n",
       "      <td>002131</td>\n",
       "    </tr>\n",
       "    <tr>\n",
       "      <th>33</th>\n",
       "      <td>25</td>\n",
       "      <td>TMF006</td>\n",
       "      <td>2</td>\n",
       "      <td>10</td>\n",
       "      <td>2023-09-25</td>\n",
       "      <td>10:47:09</td>\n",
       "      <td>002131</td>\n",
       "    </tr>\n",
       "    <tr>\n",
       "      <th>34</th>\n",
       "      <td>32</td>\n",
       "      <td>TMF013</td>\n",
       "      <td>2</td>\n",
       "      <td>11</td>\n",
       "      <td>2023-09-25</td>\n",
       "      <td>12:35:43</td>\n",
       "      <td>002131</td>\n",
       "    </tr>\n",
       "    <tr>\n",
       "      <th>35</th>\n",
       "      <td>27</td>\n",
       "      <td>TMF012</td>\n",
       "      <td>2</td>\n",
       "      <td>12</td>\n",
       "      <td>2023-09-25</td>\n",
       "      <td>10:48:20</td>\n",
       "      <td>002131</td>\n",
       "    </tr>\n",
       "    <tr>\n",
       "      <th>36</th>\n",
       "      <td>28</td>\n",
       "      <td>TMF007</td>\n",
       "      <td>2</td>\n",
       "      <td>13</td>\n",
       "      <td>2023-09-25</td>\n",
       "      <td>10:48:43</td>\n",
       "      <td>002131</td>\n",
       "    </tr>\n",
       "    <tr>\n",
       "      <th>37</th>\n",
       "      <td>26</td>\n",
       "      <td>TMF013</td>\n",
       "      <td>2</td>\n",
       "      <td>13</td>\n",
       "      <td>2023-09-25</td>\n",
       "      <td>10:47:54</td>\n",
       "      <td>002131</td>\n",
       "    </tr>\n",
       "    <tr>\n",
       "      <th>38</th>\n",
       "      <td>29</td>\n",
       "      <td>TMF010</td>\n",
       "      <td>2</td>\n",
       "      <td>14</td>\n",
       "      <td>2023-09-25</td>\n",
       "      <td>10:49:25</td>\n",
       "      <td>002131</td>\n",
       "    </tr>\n",
       "    <tr>\n",
       "      <th>39</th>\n",
       "      <td>24</td>\n",
       "      <td>TMF014</td>\n",
       "      <td>1</td>\n",
       "      <td>14</td>\n",
       "      <td>2023-09-25</td>\n",
       "      <td>10:46:28</td>\n",
       "      <td>002131</td>\n",
       "    </tr>\n",
       "  </tbody>\n",
       "</table>\n",
       "</div>"
      ],
      "text/plain": [
       "    recno maquina_id fabrica  linha data_registro hora_registro usuario_id\n",
       "0      55     TMF001              0    2024-01-14      16:13:05     000264\n",
       "1      51     TMF003              0    2023-11-11      12:41:46     000264\n",
       "2      48     TMF005              0    2023-11-11      12:37:43     000264\n",
       "3      47     TMF014              0    2023-10-29      11:44:53     000264\n",
       "4      43     TMF005              0    2023-10-22      12:32:23     000264\n",
       "5      42     TMF014              0    2023-10-14      14:58:15     000264\n",
       "6      39     TMF005       0      0    2023-10-06      15:53:45     000264\n",
       "7      38     TMF003              0    2023-10-02      08:17:14     002131\n",
       "8      37     TMF003              0    2023-09-30      16:35:54     000264\n",
       "9      36     TMF003              0    2023-09-30      16:35:37     000264\n",
       "10     35     TMF003              0    2023-09-30      16:34:26     000264\n",
       "11     52     TMF005       1      1    2023-11-11      12:43:59     000264\n",
       "12     45     TMF005       1      1    2023-10-29      11:43:59     000264\n",
       "13     16     TMF008       1      1    2023-09-23      10:45:25     001996\n",
       "14     34     TMF002       1      2    2023-09-30      16:33:59     000264\n",
       "15     33     TMF003       1      2    2023-09-30      16:31:21     000264\n",
       "16     17     TMF003       1      2    2023-09-23      15:24:20     001996\n",
       "17     18     TMF015       1      3    2023-09-23      15:44:16     001996\n",
       "18     19     TMF011       1      4    2023-09-23      15:46:43     001996\n",
       "19     53     TMF014       1      5    2023-11-11      12:44:14     000264\n",
       "20     50     TMF005       1      5    2023-11-11      12:39:48     000264\n",
       "21     49     TMF005              5    2023-11-11      12:39:34     000264\n",
       "22     40     TMF003       1      5    2023-10-06      15:54:22     000264\n",
       "23     20     TMF005       1      5    2023-09-23      15:47:19     001996\n",
       "24     30     TMF004       1      6    2023-09-25      11:52:29     001996\n",
       "25     21     TMF004       1      6    2023-09-23      15:49:03     001996\n",
       "26     22     TMF009       1      7    2023-09-25      10:45:10     002131\n",
       "27     54     TMF003       1      8    2024-01-14      16:12:44     000264\n",
       "28     23     TMF001       1      8    2023-09-25      10:45:38     002131\n",
       "29     46     TMF008       1      9    2023-10-29      11:44:32     000264\n",
       "30     44     TMF014       1      9    2023-10-22      12:33:05     000264\n",
       "31     41     TMF005       1      9    2023-10-14      14:57:44     000264\n",
       "32     31     TMF014       1      9    2023-09-25      12:32:50     002131\n",
       "33     25     TMF006       2     10    2023-09-25      10:47:09     002131\n",
       "34     32     TMF013       2     11    2023-09-25      12:35:43     002131\n",
       "35     27     TMF012       2     12    2023-09-25      10:48:20     002131\n",
       "36     28     TMF007       2     13    2023-09-25      10:48:43     002131\n",
       "37     26     TMF013       2     13    2023-09-25      10:47:54     002131\n",
       "38     29     TMF010       2     14    2023-09-25      10:49:25     002131\n",
       "39     24     TMF014       1     14    2023-09-25      10:46:28     002131"
      ]
     },
     "execution_count": 149,
     "metadata": {},
     "output_type": "execute_result"
    }
   ],
   "source": [
    "df_maq_cadastro"
   ]
  },
  {
   "cell_type": "markdown",
   "metadata": {},
   "source": [
    "# Service\n"
   ]
  },
  {
   "cell_type": "markdown",
   "metadata": {},
   "source": [
    "clean_data.py\n"
   ]
  },
  {
   "cell_type": "code",
   "execution_count": 200,
   "metadata": {},
   "outputs": [],
   "source": [
    "class CleanData:\n",
    "    \"\"\"\n",
    "    Classe para limpeza dos dados\n",
    "\n",
    "    Atributos:\n",
    "        df (pd.DataFrame): Dataframe com os dados a serem limpos\n",
    "\n",
    "    Métodos:\n",
    "        clean_maq_cadastro: Limpa os dados de cadastro das máquinas\n",
    "\n",
    "    \"\"\"\n",
    "\n",
    "    def __init__(self):\n",
    "        pass\n",
    "\n",
    "    def clean_maq_cadastro(self, cadastro: pd.DataFrame) -> pd.DataFrame:\n",
    "        \"\"\"\n",
    "        Limpa os dados de cadastro das máquinas\n",
    "\n",
    "        Args:\n",
    "        -----\n",
    "            data (pd.DataFrame): Dataframe com os dados a serem limpos\n",
    "\n",
    "        Retorna:\n",
    "        --------\n",
    "            pd.DataFrame: Dataframe com os dados limpos\n",
    "\n",
    "        Exemplo:\n",
    "        --------\n",
    "\n",
    "            >>> from app.service.clean_data import CleanData\n",
    "            >>> import pandas as pd\n",
    "            >>> df = pd.DataFrame({'maquina_id': [TMF001, TMF002, TMF003], 'linha': [1, 2, 3],\n",
    "            'fabrica': [1, 2, 2], 'data_registro': ['2021-01-01', '2021-01-01', '2021-01-01'],\n",
    "            'hora_registro': ['00:00:00.000', '00:00:00.000', '00:00:00.000'], 'recno': [1, 2, 3],\n",
    "            usuario_id: [00532, 00533, 00534]})\n",
    "            >>> clean_data = CleanData()\n",
    "            >>> df_clean = clean_data.clean_maq_cadastro(df)\n",
    "            >>> df_clean\n",
    "                maquina_id  linha  fabrica data_hora_registro       usuario_id\n",
    "            0     TMF001      1        1    2021-01-01 00:00:00      532\n",
    "            1     TMF002      2        2    2021-01-01 00:00:00      533\n",
    "            2     TMF003      3        2    2021-01-01 00:00:00      534\n",
    "\n",
    "\n",
    "        \"\"\"\n",
    "\n",
    "        # Remover rows onde a linha é 0\n",
    "        df_cadastro = cadastro[cadastro[\"linha\"] != 0]\n",
    "\n",
    "        # Remover linhas duplicadas (erros de cadastro)\n",
    "        df_cadastro = df_cadastro.drop_duplicates(\n",
    "            subset=[\"data_registro\", \"linha\"], keep=\"first\"\n",
    "        )\n",
    "\n",
    "        # Criar nova coluna combinando data e hora\n",
    "        df_cadastro[\"data_hora_registro\"] = (\n",
    "            df_cadastro[\"data_registro\"].astype(str)\n",
    "            + \" \"\n",
    "            + df_cadastro[\"hora_registro\"].astype(str).str.split(\".\").str[0]\n",
    "        )\n",
    "\n",
    "        # Converter coluna data_hora_registro para datetime\n",
    "        df_cadastro[\"data_hora_registro\"] = pd.to_datetime(\n",
    "            df_cadastro[\"data_hora_registro\"], format=\"%Y-%m-%d %H:%M:%S\"\n",
    "        )\n",
    "\n",
    "        # Remover colunas desnecessárias\n",
    "        df_cadastro = df_cadastro.drop(\n",
    "            columns=[\"recno\", \"data_registro\", \"hora_registro\"]\n",
    "        )\n",
    "\n",
    "        # Ordenar dataframe para facilitar trabalho futuro\n",
    "        df_cadastro = df_cadastro.sort_values(\n",
    "            by=[\"maquina_id\", \"data_hora_registro\"], ascending=[True, False]\n",
    "        )\n",
    "\n",
    "        # reiniciar o index\n",
    "        df_cadastro = df_cadastro.reset_index(drop=True)\n",
    "\n",
    "        return df_cadastro\n",
    "\n",
    "    def maq_info(self, info: pd.DataFrame) -> pd.DataFrame:\n",
    "        \"\"\"\n",
    "        Limpa os dados de cadastro das máquinas\n",
    "\n",
    "        Args:\n",
    "        -----\n",
    "            data (pd.DataFrame): Dataframe com os dados a serem limpos\n",
    "\n",
    "        Retorna:\n",
    "        --------\n",
    "            pd.DataFrame: Dataframe com os dados limpos\n",
    "\n",
    "        Exemplo:\n",
    "        --------\n",
    "\n",
    "            >>> from app.service.clean_data import CleanData\n",
    "            >>> import pandas as pd\n",
    "            >>> df = pd.DataFrame({'maquina_id': [TMF001, TMF002, TMF003], 'status'[False, True, True], 'turno'[MAT, VES, NOT], 'data_registro': ['2021-01-01', '2021-01-01', '2021-01-01'],\n",
    "            'hora_registro': ['00:00:00.000', '00:00:00.000', '00:00:00.000'], 'recno': [1, 2, 3],\n",
    "            })\n",
    "            >>> clean_data = CleanData()\n",
    "            >>> df_clean = clean_data.clean_maq_info(df)\n",
    "            >>> df_clean\n",
    "                maquina_id  status  turno   data_hora_registro      data_hora_final         tempo_registro_min\n",
    "            0     TMF001    parada    MAT   2021-01-01 00:00:00     2021-01-01 00:01:00     480\n",
    "            1     TMF002    rodando   VES   2021-01-01 00:00:00     2021-01-01 00:01:00     10\n",
    "            2     TMF003    rodando   NOT   2021-01-01 00:00:00     2021-01-01 00:01:00     10\n",
    "\n",
    "        \"\"\"\n",
    "        # Ordenar por maquina_id e data_registro, hora_registro\n",
    "\n",
    "        df_info = info.sort_values(\n",
    "            by=[\"maquina_id\", \"data_registro\", \"hora_registro\", \"turno\"],\n",
    "        )\n",
    "\n",
    "        # Criar nova coluna combinando data e hora\n",
    "        df_info[\"data_hora_registro\"] = (\n",
    "            df_info[\"data_registro\"].astype(str)\n",
    "            + \" \"\n",
    "            + df_info[\"hora_registro\"].astype(str).str.split(\".\").str[0]\n",
    "        )\n",
    "\n",
    "        # Descartar colunas desnecessárias\n",
    "        df_info = df_info.drop(\n",
    "            columns=[\"recno\", \"data_registro\", \"hora_registro\"]\n",
    "        )\n",
    "\n",
    "        # Se for a primeira linha de cada máquina e o turno for VES, alterar para NOT\n",
    "        df_info.loc[\n",
    "            (df_info[\"turno\"] == \"VES\")\n",
    "            & (df_info[\"maquina_id\"] != df_info[\"maquina_id\"].shift()),\n",
    "            \"turno\",\n",
    "        ] = \"NOT\"\n",
    "\n",
    "        # Criar nova coluna status_change para identificar mudança de status\n",
    "        df_info[\"status_change\"] = df_info[\"status\"].ne(\n",
    "            df_info[\"status\"].shift()\n",
    "        )\n",
    "\n",
    "        # Criar coluna para identificar a mudança de máquina\n",
    "        df_info[\"maquina_change\"] = df_info[\"maquina_id\"].ne(\n",
    "            df_info[\"maquina_id\"].shift()\n",
    "        )\n",
    "\n",
    "        # criar coluna para consolidar mudança de status e de máquina\n",
    "        df_info[\"change\"] = (\n",
    "            df_info[\"status_change\"] | df_info[\"maquina_change\"]\n",
    "        )\n",
    "\n",
    "        # Criar coluna para identificar a mudança de turno\n",
    "        df_info[\"turno_change\"] = df_info[\"turno\"].ne(df_info[\"turno\"].shift())\n",
    "\n",
    "        # Atualizar coluna change para incluir mudança de turno\n",
    "        df_info[\"change\"] = df_info[\"change\"] | df_info[\"turno_change\"]\n",
    "\n",
    "        # Agrupar por maquina e identificar data e hora da última mudança de status\n",
    "        df_info[\"change_time\"] = (\n",
    "            df_info.groupby(\"maquina_id\")[\"data_hora_registro\"]\n",
    "            .shift(0)\n",
    "            .where(df_info[\"change\"])\n",
    "        )\n",
    "\n",
    "        # Remover as linhas onde change_time é nulo\n",
    "        df_info.dropna(subset=[\"change_time\"], inplace=True)\n",
    "\n",
    "        # Criar nova coluna com a data_hora_final do status\n",
    "        df_info[\"data_hora_final\"] = (\n",
    "            df_info.groupby(\"maquina_id\")[\"data_hora_registro\"]\n",
    "            .shift(-1)\n",
    "            .where(~df_info[\"maquina_change\"])\n",
    "        )\n",
    "\n",
    "        # Atualizar coluna data_hora_final onde maquina_change é True\n",
    "        df_info.loc[df_info[\"maquina_change\"], \"data_hora_final\"] = df_info[\n",
    "            \"change_time\"\n",
    "        ].shift(-1)\n",
    "\n",
    "        # Remover colunas desnecessárias\n",
    "        df_info.drop(\n",
    "            columns=[\n",
    "                \"status_change\",\n",
    "                \"maquina_change\",\n",
    "                \"turno_change\",\n",
    "                \"change\",\n",
    "                \"change_time\",\n",
    "            ],\n",
    "            inplace=True,\n",
    "        )\n",
    "\n",
    "        # Remover linhas onde data_hora_final é nulo\n",
    "        df_info.dropna(subset=[\"data_hora_final\"], inplace=True)\n",
    "\n",
    "        # Cria nova coluna tempo_registro_min para calcular o tempo de registro em minutos\n",
    "        df_info[\"tempo_registro_min\"] = (\n",
    "            pd.to_datetime(df_info[\"data_hora_final\"])\n",
    "            - pd.to_datetime(df_info[\"data_hora_registro\"])\n",
    "        ).dt.total_seconds() / 60\n",
    "\n",
    "        # Arredondar tempo_registro_min e converter para inteiro\n",
    "        df_info[\"tempo_registro_min\"] = (\n",
    "            df_info[\"tempo_registro_min\"].round(0).astype(int)\n",
    "        )\n",
    "\n",
    "        # Incluir um status in_test para os casos onde o status true permanece por menos de 10 minutos\n",
    "        df_info = df_info.astype(\n",
    "            {\"status\": str}\n",
    "        )  # para evitar erros de comparação\n",
    "        df_info.loc[\n",
    "            (df_info[\"status\"] == \"true\")\n",
    "            & (df_info[\"tempo_registro_min\"] < 10),\n",
    "            \"status\",\n",
    "        ] = \"in_test\"\n",
    "\n",
    "        # Ajustar nomenclatura dos status\n",
    "        df_info.loc[df_info[\"status\"] == \"true\", \"status\"] = \"rodando\"\n",
    "        df_info.loc[df_info[\"status\"] == \"false\", \"status\"] = \"parada\"\n",
    "\n",
    "        # Remover colunas desnecessárias\n",
    "        df_info.drop(\n",
    "            columns=[\n",
    "                \"ciclo_1_min\",\n",
    "                \"ciclo_15_min\",\n",
    "                \"contagem_total_ciclos\",\n",
    "                \"contagem_total_produzido\",\n",
    "                \"tempo_parada\",\n",
    "                \"tempo_rodando\",\n",
    "            ],\n",
    "            inplace=True,\n",
    "        )\n",
    "\n",
    "        # Ajustar o index\n",
    "        df_info.reset_index(drop=True, inplace=True)\n",
    "\n",
    "        return df_info\n",
    "\n",
    "    def get_stops_data(self, info: pd.DataFrame) -> pd.DataFrame:\n",
    "        \"\"\"\n",
    "        Retorna um dataframe com os dados de paradas consolidados\n",
    "\n",
    "        Args:\n",
    "        -----\n",
    "            df (pd.DataFrame): Dataframe com os dados de paradas\n",
    "\n",
    "        Retorna:\n",
    "        --------\n",
    "            pd.DataFrame: Dataframe com os dados de paradas consolidados\n",
    "\n",
    "        Exemplo:\n",
    "        --------\n",
    "\n",
    "            >>> from app.service.get_stops_data import GetStopsData\n",
    "            >>> import pandas as pd\n",
    "            >>> get_stops_data = GetStopsData()\n",
    "            >>> df_stops = get_stops_data.get_stops_data(df)\n",
    "\n",
    "        \"\"\"\n",
    "\n",
    "        # Copiar o dataframe\n",
    "        df = info.copy()\n",
    "\n",
    "        # Transformar data e hora em datetime\n",
    "        df[\"data_hora_registro\"] = pd.to_datetime(df[\"data_hora_registro\"])\n",
    "        df[\"data_hora_final\"] = pd.to_datetime(df[\"data_hora_final\"])\n",
    "\n",
    "        # Ordenar por maquina_id, turno, data_hora_registro\n",
    "        df.sort_values(\n",
    "            by=[\"maquina_id\", \"turno\", \"data_hora_registro\"], inplace=True\n",
    "        )\n",
    "\n",
    "        # Criar coluna data_hora_registro_turno para identificar onde está rodando\n",
    "        df[\"rodando\"] = df[\"status\"] == \"rodando\"\n",
    "\n",
    "        # Cria uma coluna grupo para identificar os grupos de paradas\n",
    "        df[\"grupo\"] = (\n",
    "            (df[\"rodando\"] != df[\"rodando\"].shift())\n",
    "            | (df[\"maquina_id\"] != df[\"maquina_id\"].shift())\n",
    "            | (df[\"turno\"] != df[\"turno\"].shift())\n",
    "            | (\n",
    "                df[\"data_hora_registro\"].dt.date\n",
    "                != df[\"data_hora_registro\"].shift().dt.date\n",
    "            )\n",
    "        )\n",
    "\n",
    "        # Soma o tempo de parada por grupo\n",
    "        df[\"grupo\"] = df[\"grupo\"].cumsum()\n",
    "\n",
    "        # Agregar os dados por grupo\n",
    "        df = (\n",
    "            df.groupby(\"grupo\")\n",
    "            .agg(\n",
    "                {\n",
    "                    \"maquina_id\": \"first\",\n",
    "                    \"turno\": \"first\",\n",
    "                    \"status\": \"first\",\n",
    "                    \"tempo_registro_min\": \"sum\",\n",
    "                    \"data_hora_registro\": \"first\",\n",
    "                    \"data_hora_final\": \"last\",\n",
    "                }\n",
    "            )\n",
    "            .reset_index(drop=True)\n",
    "        )\n",
    "\n",
    "        # Ordenar por maquina_id, data_hora_registro\n",
    "        df.sort_values(by=[\"maquina_id\", \"data_hora_registro\"], inplace=True)\n",
    "\n",
    "        # Substituir status in_test por parada\n",
    "        df.loc[df[\"status\"] == \"in_test\", \"status\"] = \"parada\"\n",
    "\n",
    "        # Substituir valores nulos por np.nan\n",
    "        df.fillna(np.nan, inplace=True)\n",
    "\n",
    "        # Reiniciar o index\n",
    "        df.reset_index(drop=True, inplace=True)\n",
    "\n",
    "        return df\n",
    "\n",
    "    def dayofweek_adjust(self, df: pd.DataFrame) -> pd.DataFrame:\n",
    "        \"\"\"\n",
    "        Ajusta o dia da semana para incluir paradas programadas\n",
    "\n",
    "        Args:\n",
    "        -----\n",
    "            df (pd.DataFrame): Dataframe com os dados de paradas\n",
    "\n",
    "        Retorna:\n",
    "        --------\n",
    "            pd.DataFrame: Dataframe com os dados de paradas ajustados\n",
    "\n",
    "        Exemplo:\n",
    "        --------\n",
    "\n",
    "            >>> from app.service.get_stops_data import GetStopsData\n",
    "            >>> import pandas as pd\n",
    "            >>> get_stops_data = GetStopsData()\n",
    "            >>> df_stops = get_stops_data.dayofweek_adjust(df)\n",
    "\n",
    "        \"\"\"\n",
    "\n",
    "        # Garantir que a coluna data_hora_registro é datetime\n",
    "        df[\"data_hora_registro\"] = pd.to_datetime(df[\"data_hora_registro\"])\n",
    "\n",
    "        # Identificar os domingos\n",
    "        df[\"domingo\"] = df[\"data_hora_registro\"].dt.dayofweek == 6\n",
    "\n",
    "        # Listar feriados\n",
    "        feriados = pd.read_csv(\"../assets/feriados.csv\")\n",
    "\n",
    "        # Converter a coluna data para datetime\n",
    "        feriados[\"feriados\"] = pd.to_datetime(feriados[\"feriados\"])\n",
    "\n",
    "        # Identificar os feriados\n",
    "        df[\"feriado\"] = df[\"data_hora_registro\"].dt.date.isin(\n",
    "            feriados[\"feriados\"].dt.date\n",
    "        )\n",
    "\n",
    "        # Identificar os dias após os feriados\n",
    "        feriados[\"dia_apos_feriado\"] = feriados[\"feriados\"] + pd.Timedelta(\n",
    "            days=1\n",
    "        )\n",
    "        df[\"dia_apos_feriado\"] = df[\"data_hora_registro\"].dt.date.isin(\n",
    "            feriados[\"dia_apos_feriado\"].dt.date\n",
    "        )\n",
    "\n",
    "        # Identificar sábados\n",
    "        df[\"sabado\"] = df[\"data_hora_registro\"].dt.dayofweek == 5\n",
    "\n",
    "        # Criar nova coluna unindo domingo, feriado e dia após feriado e descartar\n",
    "        # as colunas domingo, feriado e dia após feriado\n",
    "        df[\"domingo_feriado_emenda\"] = (\n",
    "            df[\"domingo\"]\n",
    "            | df[\"feriado\"]\n",
    "            | df[\"dia_apos_feriado\"]\n",
    "            | df[\"sabado\"]\n",
    "        )\n",
    "        df.drop(\n",
    "            columns=[\"domingo\", \"feriado\", \"dia_apos_feriado\"], inplace=True\n",
    "        )\n",
    "\n",
    "        return df\n",
    "\n",
    "    def clean_maq_info(self, info: pd.DataFrame) -> pd.DataFrame:\n",
    "        \"\"\"Agrupa funções de limpeza dos dados de info das máquinas para parada\n",
    "\n",
    "        Args:\n",
    "            info (pd.DataFrame): Info das máquinas do Banco de Dados\n",
    "\n",
    "        Returns:\n",
    "            pd.DataFrame: Dataframe com os dados limpos\n",
    "        \"\"\"\n",
    "\n",
    "        df_info = info.copy()\n",
    "\n",
    "        df_clean = self.maq_info(df_info)\n",
    "        df_clean = self.get_stops_data(df_clean)\n",
    "        df_clean = self.dayofweek_adjust(df_clean)\n",
    "\n",
    "        return df_clean\n",
    "\n",
    "    def clean_maq_occ(self, occ: pd.DataFrame) -> pd.DataFrame:\n",
    "        \"\"\"\n",
    "        Limpa os dados de cadastro das máquinas\n",
    "\n",
    "        Args:\n",
    "        -----\n",
    "            data (pd.DataFrame): Dataframe com os dados a serem limpos\n",
    "\n",
    "        Retorna:\n",
    "        --------\n",
    "            pd.DataFrame: Dataframe com os dados limpos\n",
    "\n",
    "        Exemplo:\n",
    "\n",
    "\n",
    "        \"\"\"\n",
    "\n",
    "        # Motivos de Parada\n",
    "        motivos = {\n",
    "            1: \"Ajustes\",\n",
    "            2: \"Troca de Bobina\",\n",
    "            3: \"Refeição\",\n",
    "            4: \"Reunião\",\n",
    "            5: \"Café e Ginástica Laboral\",\n",
    "            6: \"Limpeza\",\n",
    "            7: \"Manutenção Elétrica\",\n",
    "            8: \"Manutenção Mecânica\",\n",
    "            9: \"Material em Falta\",\n",
    "            10: \"Setup de Sabor\",\n",
    "            11: \"Setup de Tamanho\",\n",
    "            12: \"Parada Programada\",\n",
    "            13: \"Intervenção de Qualidade\",\n",
    "            14: \"Linha Cheia\",\n",
    "            15: \"Treinamento\",\n",
    "            16: \"Limpeza Industrial\",\n",
    "        }\n",
    "\n",
    "        # Modificar coluna motivo_id para int\n",
    "        df_occ = occ.astype({\"motivo_id\": int})\n",
    "\n",
    "        # Unir as colunas de data e hora\n",
    "        df_occ[\"data_hora_registro\"] = (\n",
    "            df_occ[\"data_registro\"].astype(str)\n",
    "            + \" \"\n",
    "            + df_occ[\"hora_registro\"].astype(str).str.split(\".\").str[0]\n",
    "        )\n",
    "\n",
    "        # Criar coluna motivo_nome com base no dicionário motivos\n",
    "        df_occ[\"motivo_nome\"] = df_occ[\"motivo_id\"].map(motivos)\n",
    "\n",
    "        # Ajustar problema e solucao se a string estiver vazia\n",
    "        df_occ[\"problema\"] = df_occ[\"problema\"].replace(\"\", np.nan)\n",
    "        df_occ[\"solucao\"] = df_occ[\"solucao\"].replace(\"\", np.nan)\n",
    "\n",
    "        # Se o problema for nulo, copiar o motivo_nome para o problema, exceto para os motivos 1, 7, 8, 9, 14,\n",
    "        df_occ.loc[\n",
    "            df_occ[\"problema\"].isnull()\n",
    "            & ~df_occ[\"motivo_id\"].isin([1, 7, 8, 9, 14]),\n",
    "            \"problema\",\n",
    "        ] = df_occ[\"motivo_nome\"]\n",
    "\n",
    "        # Definir ordem das colunas\n",
    "        df_occ = df_occ[\n",
    "            [\n",
    "                \"maquina_id\",\n",
    "                \"motivo_id\",\n",
    "                \"motivo_nome\",\n",
    "                \"problema\",\n",
    "                \"solucao\",\n",
    "                \"data_hora_registro\",\n",
    "                \"usuario_id\",\n",
    "            ]\n",
    "        ]\n",
    "\n",
    "        return df_occ\n",
    "\n",
    "    def clean_maq_info_prod(self, info: pd.DataFrame) -> pd.DataFrame:\n",
    "        \"\"\"\n",
    "        Limpa os dados de info das máquinas para produção\n",
    "        \"\"\"\n",
    "\n",
    "        # Ordenar por maquina_id asc, turno asc, data_registro desc, hora_registro desc\n",
    "        df_info = info.sort_values(\n",
    "            by=[\"maquina_id\", \"turno\", \"data_registro\", \"hora_registro\"],\n",
    "            ascending=[True, True, False, False],\n",
    "        )\n",
    "\n",
    "        # Agrupar por maquina_id e turno e manter o ultimo registro de cada grupo\n",
    "        df_info = (\n",
    "            df_info.groupby([\"maquina_id\", \"turno\", \"data_registro\"])\n",
    "            .first()\n",
    "            .reset_index()\n",
    "        )\n",
    "\n",
    "        # Criar nova coluna combinando data e hora\n",
    "        df_info[\"data_hora_registro\"] = (\n",
    "            df_info[\"data_registro\"].astype(str)\n",
    "            + \" \"\n",
    "            + df_info[\"hora_registro\"].astype(str).str.split(\".\").str[0]\n",
    "        )\n",
    "\n",
    "        # Converter coluna data_hora_registro para datetime\n",
    "        df_info[\"data_hora_registro\"] = pd.to_datetime(\n",
    "            df_info[\"data_hora_registro\"], format=\"%Y-%m-%d %H:%M:%S\"\n",
    "        )\n",
    "\n",
    "        # Remover colunas desnecessárias\n",
    "        df_info.drop(\n",
    "            columns=[\n",
    "                \"recno\",\n",
    "                \"status\",\n",
    "                \"ciclo_1_min\",\n",
    "                \"ciclo_15_min\",\n",
    "                \"tempo_parada\",\n",
    "                \"tempo_rodando\",\n",
    "                \"hora_registro\",\n",
    "            ],\n",
    "            inplace=True,\n",
    "        )\n",
    "\n",
    "        # Reiniciar o index\n",
    "        df_info.reset_index(drop=True, inplace=True)\n",
    "\n",
    "        return df_info"
   ]
  },
  {
   "cell_type": "markdown",
   "metadata": {},
   "source": [
    "Saída de Limpeza do Cadastro\n"
   ]
  },
  {
   "cell_type": "code",
   "execution_count": 201,
   "metadata": {},
   "outputs": [
    {
     "data": {
      "text/html": [
       "<div>\n",
       "<style scoped>\n",
       "    .dataframe tbody tr th:only-of-type {\n",
       "        vertical-align: middle;\n",
       "    }\n",
       "\n",
       "    .dataframe tbody tr th {\n",
       "        vertical-align: top;\n",
       "    }\n",
       "\n",
       "    .dataframe thead th {\n",
       "        text-align: right;\n",
       "    }\n",
       "</style>\n",
       "<table border=\"1\" class=\"dataframe\">\n",
       "  <thead>\n",
       "    <tr style=\"text-align: right;\">\n",
       "      <th></th>\n",
       "      <th>maquina_id</th>\n",
       "      <th>fabrica</th>\n",
       "      <th>linha</th>\n",
       "      <th>usuario_id</th>\n",
       "      <th>data_hora_registro</th>\n",
       "    </tr>\n",
       "  </thead>\n",
       "  <tbody>\n",
       "    <tr>\n",
       "      <th>0</th>\n",
       "      <td>TMF001</td>\n",
       "      <td>1</td>\n",
       "      <td>8</td>\n",
       "      <td>002131</td>\n",
       "      <td>2023-09-25 10:45:38</td>\n",
       "    </tr>\n",
       "    <tr>\n",
       "      <th>1</th>\n",
       "      <td>TMF002</td>\n",
       "      <td>1</td>\n",
       "      <td>2</td>\n",
       "      <td>000264</td>\n",
       "      <td>2023-09-30 16:33:59</td>\n",
       "    </tr>\n",
       "    <tr>\n",
       "      <th>2</th>\n",
       "      <td>TMF003</td>\n",
       "      <td>1</td>\n",
       "      <td>8</td>\n",
       "      <td>000264</td>\n",
       "      <td>2024-01-14 16:12:44</td>\n",
       "    </tr>\n",
       "    <tr>\n",
       "      <th>3</th>\n",
       "      <td>TMF003</td>\n",
       "      <td>1</td>\n",
       "      <td>5</td>\n",
       "      <td>000264</td>\n",
       "      <td>2023-10-06 15:54:22</td>\n",
       "    </tr>\n",
       "    <tr>\n",
       "      <th>4</th>\n",
       "      <td>TMF003</td>\n",
       "      <td>1</td>\n",
       "      <td>2</td>\n",
       "      <td>001996</td>\n",
       "      <td>2023-09-23 15:24:20</td>\n",
       "    </tr>\n",
       "    <tr>\n",
       "      <th>5</th>\n",
       "      <td>TMF004</td>\n",
       "      <td>1</td>\n",
       "      <td>6</td>\n",
       "      <td>001996</td>\n",
       "      <td>2023-09-25 11:52:29</td>\n",
       "    </tr>\n",
       "    <tr>\n",
       "      <th>6</th>\n",
       "      <td>TMF004</td>\n",
       "      <td>1</td>\n",
       "      <td>6</td>\n",
       "      <td>001996</td>\n",
       "      <td>2023-09-23 15:49:03</td>\n",
       "    </tr>\n",
       "    <tr>\n",
       "      <th>7</th>\n",
       "      <td>TMF005</td>\n",
       "      <td>1</td>\n",
       "      <td>1</td>\n",
       "      <td>000264</td>\n",
       "      <td>2023-11-11 12:43:59</td>\n",
       "    </tr>\n",
       "    <tr>\n",
       "      <th>8</th>\n",
       "      <td>TMF005</td>\n",
       "      <td>1</td>\n",
       "      <td>1</td>\n",
       "      <td>000264</td>\n",
       "      <td>2023-10-29 11:43:59</td>\n",
       "    </tr>\n",
       "    <tr>\n",
       "      <th>9</th>\n",
       "      <td>TMF005</td>\n",
       "      <td>1</td>\n",
       "      <td>9</td>\n",
       "      <td>000264</td>\n",
       "      <td>2023-10-14 14:57:44</td>\n",
       "    </tr>\n",
       "    <tr>\n",
       "      <th>10</th>\n",
       "      <td>TMF005</td>\n",
       "      <td>1</td>\n",
       "      <td>5</td>\n",
       "      <td>001996</td>\n",
       "      <td>2023-09-23 15:47:19</td>\n",
       "    </tr>\n",
       "    <tr>\n",
       "      <th>11</th>\n",
       "      <td>TMF006</td>\n",
       "      <td>2</td>\n",
       "      <td>10</td>\n",
       "      <td>002131</td>\n",
       "      <td>2023-09-25 10:47:09</td>\n",
       "    </tr>\n",
       "    <tr>\n",
       "      <th>12</th>\n",
       "      <td>TMF007</td>\n",
       "      <td>2</td>\n",
       "      <td>13</td>\n",
       "      <td>002131</td>\n",
       "      <td>2023-09-25 10:48:43</td>\n",
       "    </tr>\n",
       "    <tr>\n",
       "      <th>13</th>\n",
       "      <td>TMF008</td>\n",
       "      <td>1</td>\n",
       "      <td>9</td>\n",
       "      <td>000264</td>\n",
       "      <td>2023-10-29 11:44:32</td>\n",
       "    </tr>\n",
       "    <tr>\n",
       "      <th>14</th>\n",
       "      <td>TMF008</td>\n",
       "      <td>1</td>\n",
       "      <td>1</td>\n",
       "      <td>001996</td>\n",
       "      <td>2023-09-23 10:45:25</td>\n",
       "    </tr>\n",
       "    <tr>\n",
       "      <th>15</th>\n",
       "      <td>TMF009</td>\n",
       "      <td>1</td>\n",
       "      <td>7</td>\n",
       "      <td>002131</td>\n",
       "      <td>2023-09-25 10:45:10</td>\n",
       "    </tr>\n",
       "    <tr>\n",
       "      <th>16</th>\n",
       "      <td>TMF010</td>\n",
       "      <td>2</td>\n",
       "      <td>14</td>\n",
       "      <td>002131</td>\n",
       "      <td>2023-09-25 10:49:25</td>\n",
       "    </tr>\n",
       "    <tr>\n",
       "      <th>17</th>\n",
       "      <td>TMF011</td>\n",
       "      <td>1</td>\n",
       "      <td>4</td>\n",
       "      <td>001996</td>\n",
       "      <td>2023-09-23 15:46:43</td>\n",
       "    </tr>\n",
       "    <tr>\n",
       "      <th>18</th>\n",
       "      <td>TMF012</td>\n",
       "      <td>2</td>\n",
       "      <td>12</td>\n",
       "      <td>002131</td>\n",
       "      <td>2023-09-25 10:48:20</td>\n",
       "    </tr>\n",
       "    <tr>\n",
       "      <th>19</th>\n",
       "      <td>TMF013</td>\n",
       "      <td>2</td>\n",
       "      <td>11</td>\n",
       "      <td>002131</td>\n",
       "      <td>2023-09-25 12:35:43</td>\n",
       "    </tr>\n",
       "    <tr>\n",
       "      <th>20</th>\n",
       "      <td>TMF014</td>\n",
       "      <td>1</td>\n",
       "      <td>5</td>\n",
       "      <td>000264</td>\n",
       "      <td>2023-11-11 12:44:14</td>\n",
       "    </tr>\n",
       "    <tr>\n",
       "      <th>21</th>\n",
       "      <td>TMF014</td>\n",
       "      <td>1</td>\n",
       "      <td>9</td>\n",
       "      <td>000264</td>\n",
       "      <td>2023-10-22 12:33:05</td>\n",
       "    </tr>\n",
       "    <tr>\n",
       "      <th>22</th>\n",
       "      <td>TMF014</td>\n",
       "      <td>1</td>\n",
       "      <td>9</td>\n",
       "      <td>002131</td>\n",
       "      <td>2023-09-25 12:32:50</td>\n",
       "    </tr>\n",
       "    <tr>\n",
       "      <th>23</th>\n",
       "      <td>TMF015</td>\n",
       "      <td>1</td>\n",
       "      <td>3</td>\n",
       "      <td>001996</td>\n",
       "      <td>2023-09-23 15:44:16</td>\n",
       "    </tr>\n",
       "  </tbody>\n",
       "</table>\n",
       "</div>"
      ],
      "text/plain": [
       "   maquina_id fabrica  linha usuario_id  data_hora_registro\n",
       "0      TMF001       1      8     002131 2023-09-25 10:45:38\n",
       "1      TMF002       1      2     000264 2023-09-30 16:33:59\n",
       "2      TMF003       1      8     000264 2024-01-14 16:12:44\n",
       "3      TMF003       1      5     000264 2023-10-06 15:54:22\n",
       "4      TMF003       1      2     001996 2023-09-23 15:24:20\n",
       "5      TMF004       1      6     001996 2023-09-25 11:52:29\n",
       "6      TMF004       1      6     001996 2023-09-23 15:49:03\n",
       "7      TMF005       1      1     000264 2023-11-11 12:43:59\n",
       "8      TMF005       1      1     000264 2023-10-29 11:43:59\n",
       "9      TMF005       1      9     000264 2023-10-14 14:57:44\n",
       "10     TMF005       1      5     001996 2023-09-23 15:47:19\n",
       "11     TMF006       2     10     002131 2023-09-25 10:47:09\n",
       "12     TMF007       2     13     002131 2023-09-25 10:48:43\n",
       "13     TMF008       1      9     000264 2023-10-29 11:44:32\n",
       "14     TMF008       1      1     001996 2023-09-23 10:45:25\n",
       "15     TMF009       1      7     002131 2023-09-25 10:45:10\n",
       "16     TMF010       2     14     002131 2023-09-25 10:49:25\n",
       "17     TMF011       1      4     001996 2023-09-23 15:46:43\n",
       "18     TMF012       2     12     002131 2023-09-25 10:48:20\n",
       "19     TMF013       2     11     002131 2023-09-25 12:35:43\n",
       "20     TMF014       1      5     000264 2023-11-11 12:44:14\n",
       "21     TMF014       1      9     000264 2023-10-22 12:33:05\n",
       "22     TMF014       1      9     002131 2023-09-25 12:32:50\n",
       "23     TMF015       1      3     001996 2023-09-23 15:44:16"
      ]
     },
     "execution_count": 201,
     "metadata": {},
     "output_type": "execute_result"
    }
   ],
   "source": [
    "clean_data = CleanData()\n",
    "\n",
    "df_maq_cadastro_clean = clean_data.clean_maq_cadastro(df_maq_cadastro)\n",
    "\n",
    "df_maq_cadastro_clean"
   ]
  },
  {
   "cell_type": "markdown",
   "metadata": {},
   "source": [
    "Saída da Limpeza de Máquina Info com dados de paradas\n"
   ]
  },
  {
   "cell_type": "code",
   "execution_count": 202,
   "metadata": {},
   "outputs": [
    {
     "data": {
      "text/html": [
       "<div>\n",
       "<style scoped>\n",
       "    .dataframe tbody tr th:only-of-type {\n",
       "        vertical-align: middle;\n",
       "    }\n",
       "\n",
       "    .dataframe tbody tr th {\n",
       "        vertical-align: top;\n",
       "    }\n",
       "\n",
       "    .dataframe thead th {\n",
       "        text-align: right;\n",
       "    }\n",
       "</style>\n",
       "<table border=\"1\" class=\"dataframe\">\n",
       "  <thead>\n",
       "    <tr style=\"text-align: right;\">\n",
       "      <th></th>\n",
       "      <th>maquina_id</th>\n",
       "      <th>turno</th>\n",
       "      <th>status</th>\n",
       "      <th>tempo_registro_min</th>\n",
       "      <th>data_hora_registro</th>\n",
       "      <th>data_hora_final</th>\n",
       "      <th>sabado</th>\n",
       "      <th>domingo_feriado_emenda</th>\n",
       "    </tr>\n",
       "  </thead>\n",
       "  <tbody>\n",
       "    <tr>\n",
       "      <th>0</th>\n",
       "      <td>TMF001</td>\n",
       "      <td>NOT</td>\n",
       "      <td>parada</td>\n",
       "      <td>482</td>\n",
       "      <td>2024-01-01 00:00:21</td>\n",
       "      <td>2024-01-01 08:02:22</td>\n",
       "      <td>False</td>\n",
       "      <td>True</td>\n",
       "    </tr>\n",
       "    <tr>\n",
       "      <th>1</th>\n",
       "      <td>TMF001</td>\n",
       "      <td>MAT</td>\n",
       "      <td>parada</td>\n",
       "      <td>480</td>\n",
       "      <td>2024-01-01 08:02:22</td>\n",
       "      <td>2024-01-01 16:02:24</td>\n",
       "      <td>False</td>\n",
       "      <td>True</td>\n",
       "    </tr>\n",
       "    <tr>\n",
       "      <th>2</th>\n",
       "      <td>TMF001</td>\n",
       "      <td>VES</td>\n",
       "      <td>parada</td>\n",
       "      <td>480</td>\n",
       "      <td>2024-01-01 16:02:24</td>\n",
       "      <td>2024-01-02 00:02:25</td>\n",
       "      <td>False</td>\n",
       "      <td>True</td>\n",
       "    </tr>\n",
       "    <tr>\n",
       "      <th>3</th>\n",
       "      <td>TMF001</td>\n",
       "      <td>NOT</td>\n",
       "      <td>parada</td>\n",
       "      <td>480</td>\n",
       "      <td>2024-01-02 00:02:25</td>\n",
       "      <td>2024-01-02 08:02:27</td>\n",
       "      <td>False</td>\n",
       "      <td>True</td>\n",
       "    </tr>\n",
       "    <tr>\n",
       "      <th>4</th>\n",
       "      <td>TMF001</td>\n",
       "      <td>MAT</td>\n",
       "      <td>parada</td>\n",
       "      <td>480</td>\n",
       "      <td>2024-01-02 08:02:27</td>\n",
       "      <td>2024-01-02 16:02:28</td>\n",
       "      <td>False</td>\n",
       "      <td>True</td>\n",
       "    </tr>\n",
       "    <tr>\n",
       "      <th>...</th>\n",
       "      <td>...</td>\n",
       "      <td>...</td>\n",
       "      <td>...</td>\n",
       "      <td>...</td>\n",
       "      <td>...</td>\n",
       "      <td>...</td>\n",
       "      <td>...</td>\n",
       "      <td>...</td>\n",
       "    </tr>\n",
       "    <tr>\n",
       "      <th>4349</th>\n",
       "      <td>TMF015</td>\n",
       "      <td>NOT</td>\n",
       "      <td>parada</td>\n",
       "      <td>62</td>\n",
       "      <td>2024-01-17 03:02:52</td>\n",
       "      <td>2024-01-17 04:04:52</td>\n",
       "      <td>False</td>\n",
       "      <td>False</td>\n",
       "    </tr>\n",
       "    <tr>\n",
       "      <th>4350</th>\n",
       "      <td>TMF015</td>\n",
       "      <td>NOT</td>\n",
       "      <td>rodando</td>\n",
       "      <td>88</td>\n",
       "      <td>2024-01-17 04:04:52</td>\n",
       "      <td>2024-01-17 05:32:52</td>\n",
       "      <td>False</td>\n",
       "      <td>False</td>\n",
       "    </tr>\n",
       "    <tr>\n",
       "      <th>4351</th>\n",
       "      <td>TMF015</td>\n",
       "      <td>NOT</td>\n",
       "      <td>parada</td>\n",
       "      <td>2</td>\n",
       "      <td>2024-01-17 05:32:52</td>\n",
       "      <td>2024-01-17 05:34:52</td>\n",
       "      <td>False</td>\n",
       "      <td>False</td>\n",
       "    </tr>\n",
       "    <tr>\n",
       "      <th>4352</th>\n",
       "      <td>TMF015</td>\n",
       "      <td>NOT</td>\n",
       "      <td>rodando</td>\n",
       "      <td>148</td>\n",
       "      <td>2024-01-17 05:34:52</td>\n",
       "      <td>2024-01-17 08:02:53</td>\n",
       "      <td>False</td>\n",
       "      <td>False</td>\n",
       "    </tr>\n",
       "    <tr>\n",
       "      <th>4353</th>\n",
       "      <td>TMF015</td>\n",
       "      <td>MAT</td>\n",
       "      <td>rodando</td>\n",
       "      <td>130</td>\n",
       "      <td>2024-01-17 08:02:53</td>\n",
       "      <td>2024-01-17 10:12:53</td>\n",
       "      <td>False</td>\n",
       "      <td>False</td>\n",
       "    </tr>\n",
       "  </tbody>\n",
       "</table>\n",
       "<p>4354 rows × 8 columns</p>\n",
       "</div>"
      ],
      "text/plain": [
       "     maquina_id turno   status  tempo_registro_min  data_hora_registro  \\\n",
       "0        TMF001   NOT   parada                 482 2024-01-01 00:00:21   \n",
       "1        TMF001   MAT   parada                 480 2024-01-01 08:02:22   \n",
       "2        TMF001   VES   parada                 480 2024-01-01 16:02:24   \n",
       "3        TMF001   NOT   parada                 480 2024-01-02 00:02:25   \n",
       "4        TMF001   MAT   parada                 480 2024-01-02 08:02:27   \n",
       "...         ...   ...      ...                 ...                 ...   \n",
       "4349     TMF015   NOT   parada                  62 2024-01-17 03:02:52   \n",
       "4350     TMF015   NOT  rodando                  88 2024-01-17 04:04:52   \n",
       "4351     TMF015   NOT   parada                   2 2024-01-17 05:32:52   \n",
       "4352     TMF015   NOT  rodando                 148 2024-01-17 05:34:52   \n",
       "4353     TMF015   MAT  rodando                 130 2024-01-17 08:02:53   \n",
       "\n",
       "         data_hora_final  sabado  domingo_feriado_emenda  \n",
       "0    2024-01-01 08:02:22   False                    True  \n",
       "1    2024-01-01 16:02:24   False                    True  \n",
       "2    2024-01-02 00:02:25   False                    True  \n",
       "3    2024-01-02 08:02:27   False                    True  \n",
       "4    2024-01-02 16:02:28   False                    True  \n",
       "...                  ...     ...                     ...  \n",
       "4349 2024-01-17 04:04:52   False                   False  \n",
       "4350 2024-01-17 05:32:52   False                   False  \n",
       "4351 2024-01-17 05:34:52   False                   False  \n",
       "4352 2024-01-17 08:02:53   False                   False  \n",
       "4353 2024-01-17 10:12:53   False                   False  \n",
       "\n",
       "[4354 rows x 8 columns]"
      ]
     },
     "execution_count": 202,
     "metadata": {},
     "output_type": "execute_result"
    }
   ],
   "source": [
    "df_maq_info_clean = clean_data.clean_maq_info(df_info)\n",
    "\n",
    "df_maq_info_clean"
   ]
  },
  {
   "cell_type": "markdown",
   "metadata": {},
   "source": [
    "Saída da Limpeza das Ocorrências\n"
   ]
  },
  {
   "cell_type": "code",
   "execution_count": 203,
   "metadata": {},
   "outputs": [
    {
     "data": {
      "text/html": [
       "<div>\n",
       "<style scoped>\n",
       "    .dataframe tbody tr th:only-of-type {\n",
       "        vertical-align: middle;\n",
       "    }\n",
       "\n",
       "    .dataframe tbody tr th {\n",
       "        vertical-align: top;\n",
       "    }\n",
       "\n",
       "    .dataframe thead th {\n",
       "        text-align: right;\n",
       "    }\n",
       "</style>\n",
       "<table border=\"1\" class=\"dataframe\">\n",
       "  <thead>\n",
       "    <tr style=\"text-align: right;\">\n",
       "      <th></th>\n",
       "      <th>maquina_id</th>\n",
       "      <th>motivo_id</th>\n",
       "      <th>motivo_nome</th>\n",
       "      <th>problema</th>\n",
       "      <th>solucao</th>\n",
       "      <th>data_hora_registro</th>\n",
       "      <th>usuario_id</th>\n",
       "    </tr>\n",
       "  </thead>\n",
       "  <tbody>\n",
       "    <tr>\n",
       "      <th>0</th>\n",
       "      <td>TMF006</td>\n",
       "      <td>12</td>\n",
       "      <td>Parada Programada</td>\n",
       "      <td>Parada Programada</td>\n",
       "      <td>NaN</td>\n",
       "      <td>2024-01-02 01:16:52</td>\n",
       "      <td>000453</td>\n",
       "    </tr>\n",
       "    <tr>\n",
       "      <th>1</th>\n",
       "      <td>TMF013</td>\n",
       "      <td>8</td>\n",
       "      <td>Manutenção Mecânica</td>\n",
       "      <td>NaN</td>\n",
       "      <td>NaN</td>\n",
       "      <td>2024-01-02 01:17:04</td>\n",
       "      <td>000453</td>\n",
       "    </tr>\n",
       "    <tr>\n",
       "      <th>2</th>\n",
       "      <td>TMF010</td>\n",
       "      <td>8</td>\n",
       "      <td>Manutenção Mecânica</td>\n",
       "      <td>NaN</td>\n",
       "      <td>NaN</td>\n",
       "      <td>2024-01-02 01:17:20</td>\n",
       "      <td>000453</td>\n",
       "    </tr>\n",
       "    <tr>\n",
       "      <th>3</th>\n",
       "      <td>TMF010</td>\n",
       "      <td>12</td>\n",
       "      <td>Parada Programada</td>\n",
       "      <td>Parada Programada</td>\n",
       "      <td>NaN</td>\n",
       "      <td>2024-01-02 01:18:45</td>\n",
       "      <td>000453</td>\n",
       "    </tr>\n",
       "    <tr>\n",
       "      <th>4</th>\n",
       "      <td>TMF006</td>\n",
       "      <td>12</td>\n",
       "      <td>Parada Programada</td>\n",
       "      <td>Parada Programada</td>\n",
       "      <td>NaN</td>\n",
       "      <td>2024-01-03 08:14:58</td>\n",
       "      <td>000807</td>\n",
       "    </tr>\n",
       "    <tr>\n",
       "      <th>...</th>\n",
       "      <td>...</td>\n",
       "      <td>...</td>\n",
       "      <td>...</td>\n",
       "      <td>...</td>\n",
       "      <td>...</td>\n",
       "      <td>...</td>\n",
       "      <td>...</td>\n",
       "    </tr>\n",
       "    <tr>\n",
       "      <th>410</th>\n",
       "      <td>TMF011</td>\n",
       "      <td>12</td>\n",
       "      <td>Parada Programada</td>\n",
       "      <td>Parada Programada</td>\n",
       "      <td>NaN</td>\n",
       "      <td>2024-01-17 06:21:10</td>\n",
       "      <td>000453</td>\n",
       "    </tr>\n",
       "    <tr>\n",
       "      <th>411</th>\n",
       "      <td>TMF005</td>\n",
       "      <td>8</td>\n",
       "      <td>Manutenção Mecânica</td>\n",
       "      <td>Robô travou</td>\n",
       "      <td>NaN</td>\n",
       "      <td>2024-01-17 08:12:35</td>\n",
       "      <td>000838</td>\n",
       "    </tr>\n",
       "    <tr>\n",
       "      <th>412</th>\n",
       "      <td>TMF002</td>\n",
       "      <td>8</td>\n",
       "      <td>Manutenção Mecânica</td>\n",
       "      <td>Robô travou</td>\n",
       "      <td>NaN</td>\n",
       "      <td>2024-01-17 08:13:01</td>\n",
       "      <td>000838</td>\n",
       "    </tr>\n",
       "    <tr>\n",
       "      <th>413</th>\n",
       "      <td>TMF010</td>\n",
       "      <td>1</td>\n",
       "      <td>Ajustes</td>\n",
       "      <td>NaN</td>\n",
       "      <td>NaN</td>\n",
       "      <td>2024-01-17 08:14:37</td>\n",
       "      <td>000807</td>\n",
       "    </tr>\n",
       "    <tr>\n",
       "      <th>414</th>\n",
       "      <td>TMF012</td>\n",
       "      <td>5</td>\n",
       "      <td>Café e Ginástica Laboral</td>\n",
       "      <td>Rodou as demais linhas</td>\n",
       "      <td>NaN</td>\n",
       "      <td>2024-01-17 08:14:53</td>\n",
       "      <td>000807</td>\n",
       "    </tr>\n",
       "  </tbody>\n",
       "</table>\n",
       "<p>415 rows × 7 columns</p>\n",
       "</div>"
      ],
      "text/plain": [
       "    maquina_id  motivo_id               motivo_nome                problema  \\\n",
       "0       TMF006         12         Parada Programada       Parada Programada   \n",
       "1       TMF013          8       Manutenção Mecânica                     NaN   \n",
       "2       TMF010          8       Manutenção Mecânica                     NaN   \n",
       "3       TMF010         12         Parada Programada       Parada Programada   \n",
       "4       TMF006         12         Parada Programada       Parada Programada   \n",
       "..         ...        ...                       ...                     ...   \n",
       "410     TMF011         12         Parada Programada       Parada Programada   \n",
       "411     TMF005          8       Manutenção Mecânica             Robô travou   \n",
       "412     TMF002          8       Manutenção Mecânica             Robô travou   \n",
       "413     TMF010          1                   Ajustes                     NaN   \n",
       "414     TMF012          5  Café e Ginástica Laboral  Rodou as demais linhas   \n",
       "\n",
       "     solucao   data_hora_registro usuario_id  \n",
       "0        NaN  2024-01-02 01:16:52     000453  \n",
       "1        NaN  2024-01-02 01:17:04     000453  \n",
       "2        NaN  2024-01-02 01:17:20     000453  \n",
       "3        NaN  2024-01-02 01:18:45     000453  \n",
       "4        NaN  2024-01-03 08:14:58     000807  \n",
       "..       ...                  ...        ...  \n",
       "410      NaN  2024-01-17 06:21:10     000453  \n",
       "411      NaN  2024-01-17 08:12:35     000838  \n",
       "412      NaN  2024-01-17 08:13:01     000838  \n",
       "413      NaN  2024-01-17 08:14:37     000807  \n",
       "414      NaN  2024-01-17 08:14:53     000807  \n",
       "\n",
       "[415 rows x 7 columns]"
      ]
     },
     "execution_count": 203,
     "metadata": {},
     "output_type": "execute_result"
    }
   ],
   "source": [
    "df_maq_occ_clean = clean_data.clean_maq_occ(df_occ)\n",
    "\n",
    "df_maq_occ_clean"
   ]
  },
  {
   "cell_type": "markdown",
   "metadata": {},
   "source": [
    "Saída de limpeza de maquina info com dados de produção\n"
   ]
  },
  {
   "cell_type": "code",
   "execution_count": 154,
   "metadata": {},
   "outputs": [
    {
     "data": {
      "text/html": [
       "<div>\n",
       "<style scoped>\n",
       "    .dataframe tbody tr th:only-of-type {\n",
       "        vertical-align: middle;\n",
       "    }\n",
       "\n",
       "    .dataframe tbody tr th {\n",
       "        vertical-align: top;\n",
       "    }\n",
       "\n",
       "    .dataframe thead th {\n",
       "        text-align: right;\n",
       "    }\n",
       "</style>\n",
       "<table border=\"1\" class=\"dataframe\">\n",
       "  <thead>\n",
       "    <tr style=\"text-align: right;\">\n",
       "      <th></th>\n",
       "      <th>maquina_id</th>\n",
       "      <th>turno</th>\n",
       "      <th>data_registro</th>\n",
       "      <th>contagem_total_ciclos</th>\n",
       "      <th>contagem_total_produzido</th>\n",
       "      <th>data_hora_registro</th>\n",
       "    </tr>\n",
       "  </thead>\n",
       "  <tbody>\n",
       "    <tr>\n",
       "      <th>0</th>\n",
       "      <td>TMF001</td>\n",
       "      <td>MAT</td>\n",
       "      <td>2024-01-01</td>\n",
       "      <td>0.0</td>\n",
       "      <td>0.0</td>\n",
       "      <td>2024-01-01 16:00:24</td>\n",
       "    </tr>\n",
       "    <tr>\n",
       "      <th>1</th>\n",
       "      <td>TMF001</td>\n",
       "      <td>MAT</td>\n",
       "      <td>2024-01-02</td>\n",
       "      <td>0.0</td>\n",
       "      <td>0.0</td>\n",
       "      <td>2024-01-02 16:00:28</td>\n",
       "    </tr>\n",
       "    <tr>\n",
       "      <th>2</th>\n",
       "      <td>TMF001</td>\n",
       "      <td>MAT</td>\n",
       "      <td>2024-01-03</td>\n",
       "      <td>8148.0</td>\n",
       "      <td>8060.0</td>\n",
       "      <td>2024-01-03 16:00:32</td>\n",
       "    </tr>\n",
       "    <tr>\n",
       "      <th>3</th>\n",
       "      <td>TMF001</td>\n",
       "      <td>MAT</td>\n",
       "      <td>2024-01-04</td>\n",
       "      <td>9472.0</td>\n",
       "      <td>9374.0</td>\n",
       "      <td>2024-01-04 16:00:37</td>\n",
       "    </tr>\n",
       "    <tr>\n",
       "      <th>4</th>\n",
       "      <td>TMF001</td>\n",
       "      <td>MAT</td>\n",
       "      <td>2024-01-05</td>\n",
       "      <td>9632.0</td>\n",
       "      <td>9548.0</td>\n",
       "      <td>2024-01-05 16:00:41</td>\n",
       "    </tr>\n",
       "    <tr>\n",
       "      <th>...</th>\n",
       "      <td>...</td>\n",
       "      <td>...</td>\n",
       "      <td>...</td>\n",
       "      <td>...</td>\n",
       "      <td>...</td>\n",
       "      <td>...</td>\n",
       "    </tr>\n",
       "    <tr>\n",
       "      <th>692</th>\n",
       "      <td>TMF015</td>\n",
       "      <td>VES</td>\n",
       "      <td>2024-01-13</td>\n",
       "      <td>0.0</td>\n",
       "      <td>0.0</td>\n",
       "      <td>2024-01-13 23:59:24</td>\n",
       "    </tr>\n",
       "    <tr>\n",
       "      <th>693</th>\n",
       "      <td>TMF015</td>\n",
       "      <td>VES</td>\n",
       "      <td>2024-01-14</td>\n",
       "      <td>62.0</td>\n",
       "      <td>0.0</td>\n",
       "      <td>2024-01-14 23:59:09</td>\n",
       "    </tr>\n",
       "    <tr>\n",
       "      <th>694</th>\n",
       "      <td>TMF015</td>\n",
       "      <td>VES</td>\n",
       "      <td>2024-01-15</td>\n",
       "      <td>7574.0</td>\n",
       "      <td>7574.0</td>\n",
       "      <td>2024-01-15 23:58:47</td>\n",
       "    </tr>\n",
       "    <tr>\n",
       "      <th>695</th>\n",
       "      <td>TMF015</td>\n",
       "      <td>VES</td>\n",
       "      <td>2024-01-16</td>\n",
       "      <td>9290.0</td>\n",
       "      <td>9290.0</td>\n",
       "      <td>2024-01-16 23:58:51</td>\n",
       "    </tr>\n",
       "    <tr>\n",
       "      <th>696</th>\n",
       "      <td>TMF015</td>\n",
       "      <td>VES</td>\n",
       "      <td>2024-01-17</td>\n",
       "      <td>9306.0</td>\n",
       "      <td>9306.0</td>\n",
       "      <td>2024-01-17 00:00:51</td>\n",
       "    </tr>\n",
       "  </tbody>\n",
       "</table>\n",
       "<p>697 rows × 6 columns</p>\n",
       "</div>"
      ],
      "text/plain": [
       "    maquina_id turno data_registro  contagem_total_ciclos  \\\n",
       "0       TMF001   MAT    2024-01-01                    0.0   \n",
       "1       TMF001   MAT    2024-01-02                    0.0   \n",
       "2       TMF001   MAT    2024-01-03                 8148.0   \n",
       "3       TMF001   MAT    2024-01-04                 9472.0   \n",
       "4       TMF001   MAT    2024-01-05                 9632.0   \n",
       "..         ...   ...           ...                    ...   \n",
       "692     TMF015   VES    2024-01-13                    0.0   \n",
       "693     TMF015   VES    2024-01-14                   62.0   \n",
       "694     TMF015   VES    2024-01-15                 7574.0   \n",
       "695     TMF015   VES    2024-01-16                 9290.0   \n",
       "696     TMF015   VES    2024-01-17                 9306.0   \n",
       "\n",
       "     contagem_total_produzido  data_hora_registro  \n",
       "0                         0.0 2024-01-01 16:00:24  \n",
       "1                         0.0 2024-01-02 16:00:28  \n",
       "2                      8060.0 2024-01-03 16:00:32  \n",
       "3                      9374.0 2024-01-04 16:00:37  \n",
       "4                      9548.0 2024-01-05 16:00:41  \n",
       "..                        ...                 ...  \n",
       "692                       0.0 2024-01-13 23:59:24  \n",
       "693                       0.0 2024-01-14 23:59:09  \n",
       "694                    7574.0 2024-01-15 23:58:47  \n",
       "695                    9290.0 2024-01-16 23:58:51  \n",
       "696                    9306.0 2024-01-17 00:00:51  \n",
       "\n",
       "[697 rows x 6 columns]"
      ]
     },
     "execution_count": 154,
     "metadata": {},
     "output_type": "execute_result"
    }
   ],
   "source": [
    "df_maq_info_prod_clean = clean_data.clean_maq_info_prod(df_info)\n",
    "\n",
    "df_maq_info_prod_clean"
   ]
  },
  {
   "cell_type": "markdown",
   "metadata": {},
   "source": [
    "## Unindo info e ocorrências\n"
   ]
  },
  {
   "cell_type": "markdown",
   "metadata": {},
   "source": [
    "join_data.py\n"
   ]
  },
  {
   "cell_type": "code",
   "execution_count": 155,
   "metadata": {},
   "outputs": [],
   "source": [
    "class JoinData:\n",
    "    \"\"\"\n",
    "    Classe para unir os dados de cadastro, info e ocorrência\n",
    "    \"\"\"\n",
    "\n",
    "    def __init__(self):\n",
    "        pass\n",
    "\n",
    "    def join_info_occ(\n",
    "        self, occ: pd.DataFrame, info: pd.DataFrame\n",
    "    ) -> pd.DataFrame:\n",
    "        \"\"\"\n",
    "        Une os dados de info e ocorrência\n",
    "        \"\"\"\n",
    "\n",
    "        df_occ = occ.copy()\n",
    "        df_info = info.copy()\n",
    "\n",
    "        # Garantir que as colunas de data sejam do tipo datetime\n",
    "        df_occ[\"data_hora_registro\"] = pd.to_datetime(\n",
    "            df_occ[\"data_hora_registro\"]\n",
    "        )\n",
    "        df_info[\"data_hora_registro\"] = pd.to_datetime(\n",
    "            df_info[\"data_hora_registro\"]\n",
    "        )\n",
    "        df_info[\"data_hora_final\"] = pd.to_datetime(df_info[\"data_hora_final\"])\n",
    "\n",
    "        # Criar uma função para ser usada em cada linha do dataframe\n",
    "        def merge_rows(row):\n",
    "            # Selecionar rows onde a data_hora_registro de occ está entre\n",
    "            # data_hora_registro e data_hora_final de info\n",
    "            mask = (\n",
    "                (df_occ[\"data_hora_registro\"] >= row[\"data_hora_registro\"])\n",
    "                & (df_occ[\"data_hora_registro\"] <= row[\"data_hora_final\"])\n",
    "                & (df_occ[\"maquina_id\"] == row[\"maquina_id\"])\n",
    "            )\n",
    "\n",
    "            # Se houver rows selecionadas, retornar uma serie contendo os valores\n",
    "            if df_occ.loc[mask].shape[0] > 0:\n",
    "                return pd.Series(\n",
    "                    [\n",
    "                        df_occ.loc[mask, \"motivo_id\"].values[0],\n",
    "                        df_occ.loc[mask, \"motivo_nome\"].values[0],\n",
    "                        df_occ.loc[mask, \"problema\"].values[0],\n",
    "                        df_occ.loc[mask, \"solucao\"].values[0],\n",
    "                        df_occ.loc[mask, \"data_hora_registro\"].values[0],\n",
    "                        df_occ.loc[mask, \"usuario_id\"].values[0],\n",
    "                    ]\n",
    "                )\n",
    "            else:\n",
    "                return pd.Series([None, None, None, None, None, None])\n",
    "\n",
    "        # Aplicar a função merge_rows em cada linha do dataframe\n",
    "        df_info[\n",
    "            [\n",
    "                \"motivo_id\",\n",
    "                \"motivo_nome\",\n",
    "                \"problema\",\n",
    "                \"solucao\",\n",
    "                \"data_hora_registro_operador\",\n",
    "                \"usuario_id\",\n",
    "            ]\n",
    "        ] = df_info.apply(merge_rows, axis=1)\n",
    "\n",
    "        # Ajustar para sempre que estiver parada por motivo\n",
    "        # 3, 4, 5, 12, 15, 16, o status será rodando\n",
    "        df_info.loc[\n",
    "            (df_info[\"status\"] == \"in_test\")\n",
    "            & (df_info[\"motivo_id\"].shift(1).isin([3, 4, 5, 12, 15, 16])),\n",
    "            \"status\",\n",
    "        ] = \"rodando\"\n",
    "\n",
    "        # Definir o status como 12, motivo_nome \"Parada Programada\" e problema \"Domingo/Feriado\"\n",
    "        # para os domingos e feriados onde o motivo_nome é nulo\n",
    "        df_info.loc[\n",
    "            (df_info[\"domingo_feriado_emenda\"])\n",
    "            & (df_info[\"tempo_registro_min\"] >= 478),\n",
    "            [\"status\", \"motivo_id\", \"motivo_nome\", \"problema\"],\n",
    "        ] = [\"parada\", 12, \"Parada Programada\", \"Domingo/Feriado\"]\n",
    "\n",
    "        # Definir como motivo_id 12 e motivo_nome \"Parada Programada\" se o problema for \"Parada Programada\"\n",
    "        df_info.loc[\n",
    "            df_info[\"problema\"] == \"Parada Programada\",\n",
    "            [\"motivo_id\", \"motivo_nome\"],\n",
    "        ] = [12, \"Parada Programada\"]\n",
    "\n",
    "        # Reordenar as colunas\n",
    "        df_info = df_info[\n",
    "            [\n",
    "                \"maquina_id\",\n",
    "                \"turno\",\n",
    "                \"status\",\n",
    "                \"motivo_id\",\n",
    "                \"motivo_nome\",\n",
    "                \"problema\",\n",
    "                \"solucao\",\n",
    "                \"tempo_registro_min\",\n",
    "                \"data_hora_registro\",\n",
    "                \"data_hora_final\",\n",
    "                \"usuario_id\",\n",
    "                \"data_hora_registro_operador\",\n",
    "                \"domingo_feriado_emenda\",\n",
    "            ]\n",
    "        ]\n",
    "\n",
    "        # Ajustar o index\n",
    "        df_info.reset_index(drop=True, inplace=True)\n",
    "\n",
    "        return df_info\n",
    "\n",
    "    def adjust_position(self, info: pd.DataFrame) -> pd.DataFrame:\n",
    "        df = info.copy()\n",
    "\n",
    "        # Listar paradas que podem ter sido lançadas adiantadas\n",
    "        paradas_adiantadas = [2, 3, 4, 5, 6, 10, 11, 13, 15, 17]\n",
    "\n",
    "        # Se na linha anterior o motivo_id for uma parada adiantada, e o status for rodando, copiar o motivo_id\n",
    "        # e motivo_nome para a linha atual\n",
    "        df.loc[\n",
    "            (df[\"motivo_id\"].shift(1).isin(paradas_adiantadas))\n",
    "            & (df[\"status\"].shift(1) == \"rodando\"),\n",
    "            [\n",
    "                \"motivo_id\",\n",
    "                \"motivo_nome\",\n",
    "                \"problema\",\n",
    "                \"solucao\",\n",
    "                \"data_hora_registro_operador\",\n",
    "                \"usuario_id\",\n",
    "            ],\n",
    "        ] = df[\n",
    "            [\n",
    "                \"motivo_id\",\n",
    "                \"motivo_nome\",\n",
    "                \"problema\",\n",
    "                \"solucao\",\n",
    "                \"data_hora_registro_operador\",\n",
    "                \"usuario_id\",\n",
    "            ]\n",
    "        ].shift(\n",
    "            1\n",
    "        )\n",
    "\n",
    "        # Definir paradas marcadas atrasadas\n",
    "        paradas_atrasadas = [1, 7, 8]\n",
    "\n",
    "        # Corrigir paradas atrasadas\n",
    "        df.loc[\n",
    "            (df[\"motivo_id\"].shift(-1).isin(paradas_atrasadas))\n",
    "            & (df[\"status\"].shift(-1) == \"rodando\")\n",
    "            & (df[\"motivo_id\"]),\n",
    "            [\n",
    "                \"motivo_id\",\n",
    "                \"motivo_nome\",\n",
    "                \"problema\",\n",
    "                \"solucao\",\n",
    "                \"data_hora_registro_operador\",\n",
    "                \"usuario_id\",\n",
    "            ],\n",
    "        ] = df[\n",
    "            [\n",
    "                \"motivo_id\",\n",
    "                \"motivo_nome\",\n",
    "                \"problema\",\n",
    "                \"solucao\",\n",
    "                \"data_hora_registro_operador\",\n",
    "                \"usuario_id\",\n",
    "            ]\n",
    "        ].shift(\n",
    "            -1\n",
    "        )\n",
    "\n",
    "        # Remover linhas com status rodando\n",
    "        df = df[df[\"status\"] != \"rodando\"]\n",
    "\n",
    "        # Ajustar o index\n",
    "        df.reset_index(drop=True, inplace=True)\n",
    "\n",
    "        return df\n",
    "\n",
    "    def info_cadastro_combine(\n",
    "        self, info: pd.DataFrame, cadastro: pd.DataFrame\n",
    "    ) -> pd.DataFrame:\n",
    "        \"\"\"\n",
    "        Une os dados de info e cadastro\n",
    "\n",
    "        Args:\n",
    "        -----\n",
    "            df_info (pd.DataFrame): Dataframe com os dados de info\n",
    "            df_cadastro (pd.DataFrame): Dataframe com os dados de cadastro\n",
    "\n",
    "        Retorna:\n",
    "        --------\n",
    "            pd.DataFrame: Dataframe com os dados combinados\n",
    "        \"\"\"\n",
    "\n",
    "        # Ordenar os dataframes\n",
    "        df_info = info.sort_values(by=[\"data_hora_registro\"])\n",
    "        df_cadastro = cadastro.sort_values(by=[\"data_hora_registro\"])\n",
    "\n",
    "        # Renomear usuario id\n",
    "        df_cadastro.rename(\n",
    "            columns={\"usuario_id\": \"usuario_id_maq_cadastro\"}, inplace=True\n",
    "        )\n",
    "        df_info.rename(\n",
    "            columns={\"usuario_id\": \"usuario_id_maq_occ\"}, inplace=True\n",
    "        )\n",
    "\n",
    "        # Merge asof para unir os dataframes baseado na coluna data_hora_registro\n",
    "        df_info = pd.merge_asof(\n",
    "            df_info,\n",
    "            df_cadastro,\n",
    "            on=\"data_hora_registro\",\n",
    "            by=\"maquina_id\",\n",
    "            direction=\"backward\",\n",
    "        )\n",
    "\n",
    "        # Reordenar as colunas\n",
    "        df_info = df_info[\n",
    "            [\n",
    "                \"maquina_id\",\n",
    "                \"linha\",\n",
    "                \"fabrica\",\n",
    "                \"turno\",\n",
    "                \"status\",\n",
    "                \"motivo_id\",\n",
    "                \"motivo_nome\",\n",
    "                \"problema\",\n",
    "                \"solucao\",\n",
    "                \"tempo_registro_min\",\n",
    "                \"data_hora_registro\",\n",
    "                \"data_hora_final\",\n",
    "                \"usuario_id_maq_occ\",\n",
    "                \"data_hora_registro_operador\",\n",
    "                \"usuario_id_maq_cadastro\",\n",
    "                \"domingo_feriado_emenda\",\n",
    "            ]\n",
    "        ]\n",
    "\n",
    "        # Ordenar pela maquina e hora\n",
    "        df_info.sort_values(\n",
    "            by=[\"maquina_id\", \"data_hora_registro\", \"turno\"],\n",
    "            inplace=True,\n",
    "        )\n",
    "\n",
    "        # Ajustar o index\n",
    "        df_info.reset_index(drop=True, inplace=True)\n",
    "\n",
    "        return df_info\n",
    "\n",
    "    def join_info_prod_cad(\n",
    "        self, info: pd.DataFrame, cad: pd.DataFrame\n",
    "    ) -> pd.DataFrame:\n",
    "        \"\"\"\n",
    "        Une os dados de info e prod\n",
    "        \"\"\"\n",
    "\n",
    "        # Ordenar os dataframes\n",
    "        df_info = info.sort_values(by=[\"data_hora_registro\"])\n",
    "        df_cad = cad.sort_values(by=[\"data_hora_registro\"])\n",
    "\n",
    "        # Unir baseado na coluna data_hora_registro\n",
    "        df_info_cad = pd.merge_asof(\n",
    "            df_info,\n",
    "            df_cad,\n",
    "            on=\"data_hora_registro\",\n",
    "            by=\"maquina_id\",\n",
    "            direction=\"backward\",\n",
    "        )\n",
    "\n",
    "        # Ordenar pela maquina e hora\n",
    "        df_info_cad.sort_values(\n",
    "            by=[\"maquina_id\", \"data_hora_registro\", \"turno\"],\n",
    "            inplace=True,\n",
    "        )\n",
    "\n",
    "        # Renomear usuario id\n",
    "        df_info_cad.rename(\n",
    "            columns={\"usuario_id\": \"usuario_id_maq_cadastro\"}, inplace=True\n",
    "        )\n",
    "\n",
    "        # Reordenar as colunas\n",
    "        df_info_cad = df_info_cad[\n",
    "            [\n",
    "                \"maquina_id\",\n",
    "                \"linha\",\n",
    "                \"fabrica\",\n",
    "                \"turno\",\n",
    "                \"contagem_total_ciclos\",\n",
    "                \"contagem_total_produzido\",\n",
    "                \"data_registro\",\n",
    "                \"usuario_id_maq_cadastro\",\n",
    "                \"data_hora_registro\",\n",
    "            ]\n",
    "        ]\n",
    "\n",
    "        # Ajustar o index\n",
    "        df_info_cad.reset_index(drop=True, inplace=True)\n",
    "\n",
    "        return df_info_cad"
   ]
  },
  {
   "cell_type": "markdown",
   "metadata": {},
   "source": [
    "Saída de join_info_occ\n"
   ]
  },
  {
   "cell_type": "code",
   "execution_count": 156,
   "metadata": {},
   "outputs": [
    {
     "data": {
      "text/html": [
       "<div>\n",
       "<style scoped>\n",
       "    .dataframe tbody tr th:only-of-type {\n",
       "        vertical-align: middle;\n",
       "    }\n",
       "\n",
       "    .dataframe tbody tr th {\n",
       "        vertical-align: top;\n",
       "    }\n",
       "\n",
       "    .dataframe thead th {\n",
       "        text-align: right;\n",
       "    }\n",
       "</style>\n",
       "<table border=\"1\" class=\"dataframe\">\n",
       "  <thead>\n",
       "    <tr style=\"text-align: right;\">\n",
       "      <th></th>\n",
       "      <th>maquina_id</th>\n",
       "      <th>turno</th>\n",
       "      <th>status</th>\n",
       "      <th>motivo_id</th>\n",
       "      <th>motivo_nome</th>\n",
       "      <th>problema</th>\n",
       "      <th>solucao</th>\n",
       "      <th>tempo_registro_min</th>\n",
       "      <th>data_hora_registro</th>\n",
       "      <th>data_hora_final</th>\n",
       "      <th>usuario_id</th>\n",
       "      <th>data_hora_registro_operador</th>\n",
       "      <th>domingo_feriado_emenda</th>\n",
       "    </tr>\n",
       "  </thead>\n",
       "  <tbody>\n",
       "    <tr>\n",
       "      <th>0</th>\n",
       "      <td>TMF001</td>\n",
       "      <td>NOT</td>\n",
       "      <td>parada</td>\n",
       "      <td>12.0</td>\n",
       "      <td>Parada Programada</td>\n",
       "      <td>Domingo/Feriado</td>\n",
       "      <td>NaN</td>\n",
       "      <td>482</td>\n",
       "      <td>2024-01-01 00:00:21</td>\n",
       "      <td>2024-01-01 08:02:22</td>\n",
       "      <td>None</td>\n",
       "      <td>NaT</td>\n",
       "      <td>True</td>\n",
       "    </tr>\n",
       "    <tr>\n",
       "      <th>1</th>\n",
       "      <td>TMF001</td>\n",
       "      <td>MAT</td>\n",
       "      <td>parada</td>\n",
       "      <td>12.0</td>\n",
       "      <td>Parada Programada</td>\n",
       "      <td>Domingo/Feriado</td>\n",
       "      <td>NaN</td>\n",
       "      <td>480</td>\n",
       "      <td>2024-01-01 08:02:22</td>\n",
       "      <td>2024-01-01 16:02:24</td>\n",
       "      <td>None</td>\n",
       "      <td>NaT</td>\n",
       "      <td>True</td>\n",
       "    </tr>\n",
       "    <tr>\n",
       "      <th>2</th>\n",
       "      <td>TMF001</td>\n",
       "      <td>VES</td>\n",
       "      <td>parada</td>\n",
       "      <td>12.0</td>\n",
       "      <td>Parada Programada</td>\n",
       "      <td>Domingo/Feriado</td>\n",
       "      <td>NaN</td>\n",
       "      <td>480</td>\n",
       "      <td>2024-01-01 16:02:24</td>\n",
       "      <td>2024-01-02 00:02:25</td>\n",
       "      <td>None</td>\n",
       "      <td>NaT</td>\n",
       "      <td>True</td>\n",
       "    </tr>\n",
       "    <tr>\n",
       "      <th>3</th>\n",
       "      <td>TMF001</td>\n",
       "      <td>NOT</td>\n",
       "      <td>parada</td>\n",
       "      <td>12.0</td>\n",
       "      <td>Parada Programada</td>\n",
       "      <td>Domingo/Feriado</td>\n",
       "      <td>NaN</td>\n",
       "      <td>480</td>\n",
       "      <td>2024-01-02 00:02:25</td>\n",
       "      <td>2024-01-02 08:02:27</td>\n",
       "      <td>None</td>\n",
       "      <td>NaT</td>\n",
       "      <td>True</td>\n",
       "    </tr>\n",
       "    <tr>\n",
       "      <th>4</th>\n",
       "      <td>TMF001</td>\n",
       "      <td>MAT</td>\n",
       "      <td>parada</td>\n",
       "      <td>12.0</td>\n",
       "      <td>Parada Programada</td>\n",
       "      <td>Domingo/Feriado</td>\n",
       "      <td>NaN</td>\n",
       "      <td>480</td>\n",
       "      <td>2024-01-02 08:02:27</td>\n",
       "      <td>2024-01-02 16:02:28</td>\n",
       "      <td>None</td>\n",
       "      <td>NaT</td>\n",
       "      <td>True</td>\n",
       "    </tr>\n",
       "    <tr>\n",
       "      <th>...</th>\n",
       "      <td>...</td>\n",
       "      <td>...</td>\n",
       "      <td>...</td>\n",
       "      <td>...</td>\n",
       "      <td>...</td>\n",
       "      <td>...</td>\n",
       "      <td>...</td>\n",
       "      <td>...</td>\n",
       "      <td>...</td>\n",
       "      <td>...</td>\n",
       "      <td>...</td>\n",
       "      <td>...</td>\n",
       "      <td>...</td>\n",
       "    </tr>\n",
       "    <tr>\n",
       "      <th>4349</th>\n",
       "      <td>TMF015</td>\n",
       "      <td>NOT</td>\n",
       "      <td>parada</td>\n",
       "      <td>NaN</td>\n",
       "      <td>None</td>\n",
       "      <td>None</td>\n",
       "      <td>NaN</td>\n",
       "      <td>62</td>\n",
       "      <td>2024-01-17 03:02:52</td>\n",
       "      <td>2024-01-17 04:04:52</td>\n",
       "      <td>None</td>\n",
       "      <td>NaT</td>\n",
       "      <td>False</td>\n",
       "    </tr>\n",
       "    <tr>\n",
       "      <th>4350</th>\n",
       "      <td>TMF015</td>\n",
       "      <td>NOT</td>\n",
       "      <td>rodando</td>\n",
       "      <td>NaN</td>\n",
       "      <td>None</td>\n",
       "      <td>None</td>\n",
       "      <td>NaN</td>\n",
       "      <td>88</td>\n",
       "      <td>2024-01-17 04:04:52</td>\n",
       "      <td>2024-01-17 05:32:52</td>\n",
       "      <td>None</td>\n",
       "      <td>NaT</td>\n",
       "      <td>False</td>\n",
       "    </tr>\n",
       "    <tr>\n",
       "      <th>4351</th>\n",
       "      <td>TMF015</td>\n",
       "      <td>NOT</td>\n",
       "      <td>parada</td>\n",
       "      <td>NaN</td>\n",
       "      <td>None</td>\n",
       "      <td>None</td>\n",
       "      <td>NaN</td>\n",
       "      <td>2</td>\n",
       "      <td>2024-01-17 05:32:52</td>\n",
       "      <td>2024-01-17 05:34:52</td>\n",
       "      <td>None</td>\n",
       "      <td>NaT</td>\n",
       "      <td>False</td>\n",
       "    </tr>\n",
       "    <tr>\n",
       "      <th>4352</th>\n",
       "      <td>TMF015</td>\n",
       "      <td>NOT</td>\n",
       "      <td>rodando</td>\n",
       "      <td>NaN</td>\n",
       "      <td>None</td>\n",
       "      <td>None</td>\n",
       "      <td>NaN</td>\n",
       "      <td>148</td>\n",
       "      <td>2024-01-17 05:34:52</td>\n",
       "      <td>2024-01-17 08:02:53</td>\n",
       "      <td>None</td>\n",
       "      <td>NaT</td>\n",
       "      <td>False</td>\n",
       "    </tr>\n",
       "    <tr>\n",
       "      <th>4353</th>\n",
       "      <td>TMF015</td>\n",
       "      <td>MAT</td>\n",
       "      <td>rodando</td>\n",
       "      <td>NaN</td>\n",
       "      <td>None</td>\n",
       "      <td>None</td>\n",
       "      <td>NaN</td>\n",
       "      <td>130</td>\n",
       "      <td>2024-01-17 08:02:53</td>\n",
       "      <td>2024-01-17 10:12:53</td>\n",
       "      <td>None</td>\n",
       "      <td>NaT</td>\n",
       "      <td>False</td>\n",
       "    </tr>\n",
       "  </tbody>\n",
       "</table>\n",
       "<p>4354 rows × 13 columns</p>\n",
       "</div>"
      ],
      "text/plain": [
       "     maquina_id turno   status  motivo_id        motivo_nome         problema  \\\n",
       "0        TMF001   NOT   parada       12.0  Parada Programada  Domingo/Feriado   \n",
       "1        TMF001   MAT   parada       12.0  Parada Programada  Domingo/Feriado   \n",
       "2        TMF001   VES   parada       12.0  Parada Programada  Domingo/Feriado   \n",
       "3        TMF001   NOT   parada       12.0  Parada Programada  Domingo/Feriado   \n",
       "4        TMF001   MAT   parada       12.0  Parada Programada  Domingo/Feriado   \n",
       "...         ...   ...      ...        ...                ...              ...   \n",
       "4349     TMF015   NOT   parada        NaN               None             None   \n",
       "4350     TMF015   NOT  rodando        NaN               None             None   \n",
       "4351     TMF015   NOT   parada        NaN               None             None   \n",
       "4352     TMF015   NOT  rodando        NaN               None             None   \n",
       "4353     TMF015   MAT  rodando        NaN               None             None   \n",
       "\n",
       "      solucao  tempo_registro_min  data_hora_registro     data_hora_final  \\\n",
       "0         NaN                 482 2024-01-01 00:00:21 2024-01-01 08:02:22   \n",
       "1         NaN                 480 2024-01-01 08:02:22 2024-01-01 16:02:24   \n",
       "2         NaN                 480 2024-01-01 16:02:24 2024-01-02 00:02:25   \n",
       "3         NaN                 480 2024-01-02 00:02:25 2024-01-02 08:02:27   \n",
       "4         NaN                 480 2024-01-02 08:02:27 2024-01-02 16:02:28   \n",
       "...       ...                 ...                 ...                 ...   \n",
       "4349      NaN                  62 2024-01-17 03:02:52 2024-01-17 04:04:52   \n",
       "4350      NaN                  88 2024-01-17 04:04:52 2024-01-17 05:32:52   \n",
       "4351      NaN                   2 2024-01-17 05:32:52 2024-01-17 05:34:52   \n",
       "4352      NaN                 148 2024-01-17 05:34:52 2024-01-17 08:02:53   \n",
       "4353      NaN                 130 2024-01-17 08:02:53 2024-01-17 10:12:53   \n",
       "\n",
       "     usuario_id data_hora_registro_operador  domingo_feriado_emenda  \n",
       "0          None                         NaT                    True  \n",
       "1          None                         NaT                    True  \n",
       "2          None                         NaT                    True  \n",
       "3          None                         NaT                    True  \n",
       "4          None                         NaT                    True  \n",
       "...         ...                         ...                     ...  \n",
       "4349       None                         NaT                   False  \n",
       "4350       None                         NaT                   False  \n",
       "4351       None                         NaT                   False  \n",
       "4352       None                         NaT                   False  \n",
       "4353       None                         NaT                   False  \n",
       "\n",
       "[4354 rows x 13 columns]"
      ]
     },
     "execution_count": 156,
     "metadata": {},
     "output_type": "execute_result"
    }
   ],
   "source": [
    "join_data = JoinData()\n",
    "\n",
    "df_join = join_data.join_info_occ(df_maq_occ_clean, df_maq_info_clean)\n",
    "\n",
    "df_join"
   ]
  },
  {
   "cell_type": "code",
   "execution_count": 157,
   "metadata": {},
   "outputs": [
    {
     "data": {
      "text/html": [
       "<div>\n",
       "<style scoped>\n",
       "    .dataframe tbody tr th:only-of-type {\n",
       "        vertical-align: middle;\n",
       "    }\n",
       "\n",
       "    .dataframe tbody tr th {\n",
       "        vertical-align: top;\n",
       "    }\n",
       "\n",
       "    .dataframe thead th {\n",
       "        text-align: right;\n",
       "    }\n",
       "</style>\n",
       "<table border=\"1\" class=\"dataframe\">\n",
       "  <thead>\n",
       "    <tr style=\"text-align: right;\">\n",
       "      <th></th>\n",
       "      <th>maquina_id</th>\n",
       "      <th>turno</th>\n",
       "      <th>status</th>\n",
       "      <th>motivo_id</th>\n",
       "      <th>motivo_nome</th>\n",
       "      <th>problema</th>\n",
       "      <th>solucao</th>\n",
       "      <th>tempo_registro_min</th>\n",
       "      <th>data_hora_registro</th>\n",
       "      <th>data_hora_final</th>\n",
       "      <th>usuario_id</th>\n",
       "      <th>data_hora_registro_operador</th>\n",
       "      <th>domingo_feriado_emenda</th>\n",
       "    </tr>\n",
       "  </thead>\n",
       "  <tbody>\n",
       "    <tr>\n",
       "      <th>0</th>\n",
       "      <td>TMF001</td>\n",
       "      <td>NOT</td>\n",
       "      <td>parada</td>\n",
       "      <td>12.0</td>\n",
       "      <td>Parada Programada</td>\n",
       "      <td>Domingo/Feriado</td>\n",
       "      <td>NaN</td>\n",
       "      <td>482</td>\n",
       "      <td>2024-01-01 00:00:21</td>\n",
       "      <td>2024-01-01 08:02:22</td>\n",
       "      <td>None</td>\n",
       "      <td>NaT</td>\n",
       "      <td>True</td>\n",
       "    </tr>\n",
       "    <tr>\n",
       "      <th>1</th>\n",
       "      <td>TMF001</td>\n",
       "      <td>MAT</td>\n",
       "      <td>parada</td>\n",
       "      <td>12.0</td>\n",
       "      <td>Parada Programada</td>\n",
       "      <td>Domingo/Feriado</td>\n",
       "      <td>NaN</td>\n",
       "      <td>480</td>\n",
       "      <td>2024-01-01 08:02:22</td>\n",
       "      <td>2024-01-01 16:02:24</td>\n",
       "      <td>None</td>\n",
       "      <td>NaT</td>\n",
       "      <td>True</td>\n",
       "    </tr>\n",
       "    <tr>\n",
       "      <th>2</th>\n",
       "      <td>TMF001</td>\n",
       "      <td>VES</td>\n",
       "      <td>parada</td>\n",
       "      <td>12.0</td>\n",
       "      <td>Parada Programada</td>\n",
       "      <td>Domingo/Feriado</td>\n",
       "      <td>NaN</td>\n",
       "      <td>480</td>\n",
       "      <td>2024-01-01 16:02:24</td>\n",
       "      <td>2024-01-02 00:02:25</td>\n",
       "      <td>None</td>\n",
       "      <td>NaT</td>\n",
       "      <td>True</td>\n",
       "    </tr>\n",
       "    <tr>\n",
       "      <th>3</th>\n",
       "      <td>TMF001</td>\n",
       "      <td>NOT</td>\n",
       "      <td>parada</td>\n",
       "      <td>12.0</td>\n",
       "      <td>Parada Programada</td>\n",
       "      <td>Domingo/Feriado</td>\n",
       "      <td>NaN</td>\n",
       "      <td>480</td>\n",
       "      <td>2024-01-02 00:02:25</td>\n",
       "      <td>2024-01-02 08:02:27</td>\n",
       "      <td>None</td>\n",
       "      <td>NaT</td>\n",
       "      <td>True</td>\n",
       "    </tr>\n",
       "    <tr>\n",
       "      <th>4</th>\n",
       "      <td>TMF001</td>\n",
       "      <td>MAT</td>\n",
       "      <td>parada</td>\n",
       "      <td>12.0</td>\n",
       "      <td>Parada Programada</td>\n",
       "      <td>Domingo/Feriado</td>\n",
       "      <td>NaN</td>\n",
       "      <td>480</td>\n",
       "      <td>2024-01-02 08:02:27</td>\n",
       "      <td>2024-01-02 16:02:28</td>\n",
       "      <td>None</td>\n",
       "      <td>NaT</td>\n",
       "      <td>True</td>\n",
       "    </tr>\n",
       "    <tr>\n",
       "      <th>...</th>\n",
       "      <td>...</td>\n",
       "      <td>...</td>\n",
       "      <td>...</td>\n",
       "      <td>...</td>\n",
       "      <td>...</td>\n",
       "      <td>...</td>\n",
       "      <td>...</td>\n",
       "      <td>...</td>\n",
       "      <td>...</td>\n",
       "      <td>...</td>\n",
       "      <td>...</td>\n",
       "      <td>...</td>\n",
       "      <td>...</td>\n",
       "    </tr>\n",
       "    <tr>\n",
       "      <th>2325</th>\n",
       "      <td>TMF015</td>\n",
       "      <td>VES</td>\n",
       "      <td>parada</td>\n",
       "      <td>NaN</td>\n",
       "      <td>None</td>\n",
       "      <td>None</td>\n",
       "      <td>NaN</td>\n",
       "      <td>2</td>\n",
       "      <td>2024-01-16 22:52:51</td>\n",
       "      <td>2024-01-16 22:54:51</td>\n",
       "      <td>None</td>\n",
       "      <td>NaT</td>\n",
       "      <td>False</td>\n",
       "    </tr>\n",
       "    <tr>\n",
       "      <th>2326</th>\n",
       "      <td>TMF015</td>\n",
       "      <td>VES</td>\n",
       "      <td>parada</td>\n",
       "      <td>NaN</td>\n",
       "      <td>None</td>\n",
       "      <td>None</td>\n",
       "      <td>NaN</td>\n",
       "      <td>2</td>\n",
       "      <td>2024-01-16 23:58:51</td>\n",
       "      <td>2024-01-17 00:00:51</td>\n",
       "      <td>None</td>\n",
       "      <td>NaT</td>\n",
       "      <td>False</td>\n",
       "    </tr>\n",
       "    <tr>\n",
       "      <th>2327</th>\n",
       "      <td>TMF015</td>\n",
       "      <td>VES</td>\n",
       "      <td>parada</td>\n",
       "      <td>NaN</td>\n",
       "      <td>None</td>\n",
       "      <td>None</td>\n",
       "      <td>NaN</td>\n",
       "      <td>2</td>\n",
       "      <td>2024-01-17 00:00:51</td>\n",
       "      <td>2024-01-17 00:02:51</td>\n",
       "      <td>None</td>\n",
       "      <td>NaT</td>\n",
       "      <td>False</td>\n",
       "    </tr>\n",
       "    <tr>\n",
       "      <th>2328</th>\n",
       "      <td>TMF015</td>\n",
       "      <td>NOT</td>\n",
       "      <td>parada</td>\n",
       "      <td>NaN</td>\n",
       "      <td>None</td>\n",
       "      <td>None</td>\n",
       "      <td>NaN</td>\n",
       "      <td>62</td>\n",
       "      <td>2024-01-17 03:02:52</td>\n",
       "      <td>2024-01-17 04:04:52</td>\n",
       "      <td>None</td>\n",
       "      <td>NaT</td>\n",
       "      <td>False</td>\n",
       "    </tr>\n",
       "    <tr>\n",
       "      <th>2329</th>\n",
       "      <td>TMF015</td>\n",
       "      <td>NOT</td>\n",
       "      <td>parada</td>\n",
       "      <td>NaN</td>\n",
       "      <td>None</td>\n",
       "      <td>None</td>\n",
       "      <td>NaN</td>\n",
       "      <td>2</td>\n",
       "      <td>2024-01-17 05:32:52</td>\n",
       "      <td>2024-01-17 05:34:52</td>\n",
       "      <td>None</td>\n",
       "      <td>NaT</td>\n",
       "      <td>False</td>\n",
       "    </tr>\n",
       "  </tbody>\n",
       "</table>\n",
       "<p>2330 rows × 13 columns</p>\n",
       "</div>"
      ],
      "text/plain": [
       "     maquina_id turno  status  motivo_id        motivo_nome         problema  \\\n",
       "0        TMF001   NOT  parada       12.0  Parada Programada  Domingo/Feriado   \n",
       "1        TMF001   MAT  parada       12.0  Parada Programada  Domingo/Feriado   \n",
       "2        TMF001   VES  parada       12.0  Parada Programada  Domingo/Feriado   \n",
       "3        TMF001   NOT  parada       12.0  Parada Programada  Domingo/Feriado   \n",
       "4        TMF001   MAT  parada       12.0  Parada Programada  Domingo/Feriado   \n",
       "...         ...   ...     ...        ...                ...              ...   \n",
       "2325     TMF015   VES  parada        NaN               None             None   \n",
       "2326     TMF015   VES  parada        NaN               None             None   \n",
       "2327     TMF015   VES  parada        NaN               None             None   \n",
       "2328     TMF015   NOT  parada        NaN               None             None   \n",
       "2329     TMF015   NOT  parada        NaN               None             None   \n",
       "\n",
       "      solucao  tempo_registro_min  data_hora_registro     data_hora_final  \\\n",
       "0         NaN                 482 2024-01-01 00:00:21 2024-01-01 08:02:22   \n",
       "1         NaN                 480 2024-01-01 08:02:22 2024-01-01 16:02:24   \n",
       "2         NaN                 480 2024-01-01 16:02:24 2024-01-02 00:02:25   \n",
       "3         NaN                 480 2024-01-02 00:02:25 2024-01-02 08:02:27   \n",
       "4         NaN                 480 2024-01-02 08:02:27 2024-01-02 16:02:28   \n",
       "...       ...                 ...                 ...                 ...   \n",
       "2325      NaN                   2 2024-01-16 22:52:51 2024-01-16 22:54:51   \n",
       "2326      NaN                   2 2024-01-16 23:58:51 2024-01-17 00:00:51   \n",
       "2327      NaN                   2 2024-01-17 00:00:51 2024-01-17 00:02:51   \n",
       "2328      NaN                  62 2024-01-17 03:02:52 2024-01-17 04:04:52   \n",
       "2329      NaN                   2 2024-01-17 05:32:52 2024-01-17 05:34:52   \n",
       "\n",
       "     usuario_id data_hora_registro_operador  domingo_feriado_emenda  \n",
       "0          None                         NaT                    True  \n",
       "1          None                         NaT                    True  \n",
       "2          None                         NaT                    True  \n",
       "3          None                         NaT                    True  \n",
       "4          None                         NaT                    True  \n",
       "...         ...                         ...                     ...  \n",
       "2325       None                         NaT                   False  \n",
       "2326       None                         NaT                   False  \n",
       "2327       None                         NaT                   False  \n",
       "2328       None                         NaT                   False  \n",
       "2329       None                         NaT                   False  \n",
       "\n",
       "[2330 rows x 13 columns]"
      ]
     },
     "execution_count": 157,
     "metadata": {},
     "output_type": "execute_result"
    }
   ],
   "source": [
    "adjust_position = join_data.adjust_position(df_join)\n",
    "\n",
    "adjust_position"
   ]
  },
  {
   "cell_type": "markdown",
   "metadata": {},
   "source": [
    "## Ajustes nos problemas\n"
   ]
  },
  {
   "cell_type": "markdown",
   "metadata": {},
   "source": [
    "### problems_chart_adjust.py\n"
   ]
  },
  {
   "cell_type": "code",
   "execution_count": 158,
   "metadata": {},
   "outputs": [],
   "source": [
    "class ProblemsChartAdjust:\n",
    "    \"\"\"\n",
    "    Classe para consolidar os dados de paradas\n",
    "    \"\"\"\n",
    "\n",
    "    def __init__(self):\n",
    "        pass\n",
    "\n",
    "    def problems_adjust(self, df: pd.DataFrame, threshold=88) -> pd.DataFrame:\n",
    "        \"\"\"\n",
    "        Ajusta os problemas\n",
    "\n",
    "        Args:\n",
    "        -----\n",
    "            df (pd.DataFrame): Dataframe com os dados de paradas\n",
    "            threshold (int): Limiar de similaridade para identificar os problemas\n",
    "\n",
    "        Retorna:\n",
    "        --------\n",
    "            pd.DataFrame: Dataframe com os dados de paradas ajustados\n",
    "\n",
    "        Exemplo:\n",
    "        --------\n",
    "            >>> from app.service.get_stops_data import GetStopsData\n",
    "            >>> import pandas as pd\n",
    "            >>> get_stops_data = GetStopsData()\n",
    "            >>> df_stops = get_stops_data.problems_adjust(df)\n",
    "        \"\"\"\n",
    "\n",
    "        # Encontrar problemas únicos\n",
    "        unique_problems = df[\"problema\"].unique()\n",
    "        problem_mapping = {}\n",
    "\n",
    "        # Criar um dicionário para mapear os problemas\n",
    "        for problem in unique_problems:\n",
    "            if problem and problem not in problem_mapping:\n",
    "                problem = str(problem).capitalize()\n",
    "\n",
    "                # Corrigir erros básicos de digitação\n",
    "                problem = problem.replace(\"Beckup\", \"Backup\")\n",
    "                problem = problem.replace(\"Becukp\", \"Backup\")\n",
    "                problem = problem.replace(\"Stm\", \"Atm\")\n",
    "\n",
    "                matches = process.extract(\n",
    "                    problem, unique_problems, limit=len(unique_problems)\n",
    "                )\n",
    "\n",
    "                # Encontrar os problemas com maior similaridade\n",
    "                similar_problems = [\n",
    "                    match[0] for match in matches if match[1] >= threshold\n",
    "                ]\n",
    "\n",
    "                # Criar um dicionário com os problemas similares\n",
    "                for similar_problem in similar_problems:\n",
    "                    problem_mapping[similar_problem] = problem\n",
    "\n",
    "        # Mapear os problemas\n",
    "        df[\"problema\"] = df[\"problema\"].map(problem_mapping)\n",
    "\n",
    "        return df"
   ]
  },
  {
   "cell_type": "markdown",
   "metadata": {},
   "source": [
    "Saída após corrigir gramática\n"
   ]
  },
  {
   "cell_type": "code",
   "execution_count": 159,
   "metadata": {},
   "outputs": [
    {
     "data": {
      "text/html": [
       "<div>\n",
       "<style scoped>\n",
       "    .dataframe tbody tr th:only-of-type {\n",
       "        vertical-align: middle;\n",
       "    }\n",
       "\n",
       "    .dataframe tbody tr th {\n",
       "        vertical-align: top;\n",
       "    }\n",
       "\n",
       "    .dataframe thead th {\n",
       "        text-align: right;\n",
       "    }\n",
       "</style>\n",
       "<table border=\"1\" class=\"dataframe\">\n",
       "  <thead>\n",
       "    <tr style=\"text-align: right;\">\n",
       "      <th></th>\n",
       "      <th>maquina_id</th>\n",
       "      <th>turno</th>\n",
       "      <th>status</th>\n",
       "      <th>motivo_id</th>\n",
       "      <th>motivo_nome</th>\n",
       "      <th>problema</th>\n",
       "      <th>solucao</th>\n",
       "      <th>tempo_registro_min</th>\n",
       "      <th>data_hora_registro</th>\n",
       "      <th>data_hora_final</th>\n",
       "      <th>usuario_id</th>\n",
       "      <th>data_hora_registro_operador</th>\n",
       "      <th>domingo_feriado_emenda</th>\n",
       "    </tr>\n",
       "  </thead>\n",
       "  <tbody>\n",
       "    <tr>\n",
       "      <th>0</th>\n",
       "      <td>TMF001</td>\n",
       "      <td>NOT</td>\n",
       "      <td>parada</td>\n",
       "      <td>12.0</td>\n",
       "      <td>Parada Programada</td>\n",
       "      <td>Domingo/feriado</td>\n",
       "      <td>NaN</td>\n",
       "      <td>482</td>\n",
       "      <td>2024-01-01 00:00:21</td>\n",
       "      <td>2024-01-01 08:02:22</td>\n",
       "      <td>None</td>\n",
       "      <td>NaT</td>\n",
       "      <td>True</td>\n",
       "    </tr>\n",
       "    <tr>\n",
       "      <th>1</th>\n",
       "      <td>TMF001</td>\n",
       "      <td>MAT</td>\n",
       "      <td>parada</td>\n",
       "      <td>12.0</td>\n",
       "      <td>Parada Programada</td>\n",
       "      <td>Domingo/feriado</td>\n",
       "      <td>NaN</td>\n",
       "      <td>480</td>\n",
       "      <td>2024-01-01 08:02:22</td>\n",
       "      <td>2024-01-01 16:02:24</td>\n",
       "      <td>None</td>\n",
       "      <td>NaT</td>\n",
       "      <td>True</td>\n",
       "    </tr>\n",
       "    <tr>\n",
       "      <th>2</th>\n",
       "      <td>TMF001</td>\n",
       "      <td>VES</td>\n",
       "      <td>parada</td>\n",
       "      <td>12.0</td>\n",
       "      <td>Parada Programada</td>\n",
       "      <td>Domingo/feriado</td>\n",
       "      <td>NaN</td>\n",
       "      <td>480</td>\n",
       "      <td>2024-01-01 16:02:24</td>\n",
       "      <td>2024-01-02 00:02:25</td>\n",
       "      <td>None</td>\n",
       "      <td>NaT</td>\n",
       "      <td>True</td>\n",
       "    </tr>\n",
       "    <tr>\n",
       "      <th>3</th>\n",
       "      <td>TMF001</td>\n",
       "      <td>NOT</td>\n",
       "      <td>parada</td>\n",
       "      <td>12.0</td>\n",
       "      <td>Parada Programada</td>\n",
       "      <td>Domingo/feriado</td>\n",
       "      <td>NaN</td>\n",
       "      <td>480</td>\n",
       "      <td>2024-01-02 00:02:25</td>\n",
       "      <td>2024-01-02 08:02:27</td>\n",
       "      <td>None</td>\n",
       "      <td>NaT</td>\n",
       "      <td>True</td>\n",
       "    </tr>\n",
       "    <tr>\n",
       "      <th>4</th>\n",
       "      <td>TMF001</td>\n",
       "      <td>MAT</td>\n",
       "      <td>parada</td>\n",
       "      <td>12.0</td>\n",
       "      <td>Parada Programada</td>\n",
       "      <td>Domingo/feriado</td>\n",
       "      <td>NaN</td>\n",
       "      <td>480</td>\n",
       "      <td>2024-01-02 08:02:27</td>\n",
       "      <td>2024-01-02 16:02:28</td>\n",
       "      <td>None</td>\n",
       "      <td>NaT</td>\n",
       "      <td>True</td>\n",
       "    </tr>\n",
       "    <tr>\n",
       "      <th>...</th>\n",
       "      <td>...</td>\n",
       "      <td>...</td>\n",
       "      <td>...</td>\n",
       "      <td>...</td>\n",
       "      <td>...</td>\n",
       "      <td>...</td>\n",
       "      <td>...</td>\n",
       "      <td>...</td>\n",
       "      <td>...</td>\n",
       "      <td>...</td>\n",
       "      <td>...</td>\n",
       "      <td>...</td>\n",
       "      <td>...</td>\n",
       "    </tr>\n",
       "    <tr>\n",
       "      <th>2325</th>\n",
       "      <td>TMF015</td>\n",
       "      <td>VES</td>\n",
       "      <td>parada</td>\n",
       "      <td>NaN</td>\n",
       "      <td>None</td>\n",
       "      <td>NaN</td>\n",
       "      <td>NaN</td>\n",
       "      <td>2</td>\n",
       "      <td>2024-01-16 22:52:51</td>\n",
       "      <td>2024-01-16 22:54:51</td>\n",
       "      <td>None</td>\n",
       "      <td>NaT</td>\n",
       "      <td>False</td>\n",
       "    </tr>\n",
       "    <tr>\n",
       "      <th>2326</th>\n",
       "      <td>TMF015</td>\n",
       "      <td>VES</td>\n",
       "      <td>parada</td>\n",
       "      <td>NaN</td>\n",
       "      <td>None</td>\n",
       "      <td>NaN</td>\n",
       "      <td>NaN</td>\n",
       "      <td>2</td>\n",
       "      <td>2024-01-16 23:58:51</td>\n",
       "      <td>2024-01-17 00:00:51</td>\n",
       "      <td>None</td>\n",
       "      <td>NaT</td>\n",
       "      <td>False</td>\n",
       "    </tr>\n",
       "    <tr>\n",
       "      <th>2327</th>\n",
       "      <td>TMF015</td>\n",
       "      <td>VES</td>\n",
       "      <td>parada</td>\n",
       "      <td>NaN</td>\n",
       "      <td>None</td>\n",
       "      <td>NaN</td>\n",
       "      <td>NaN</td>\n",
       "      <td>2</td>\n",
       "      <td>2024-01-17 00:00:51</td>\n",
       "      <td>2024-01-17 00:02:51</td>\n",
       "      <td>None</td>\n",
       "      <td>NaT</td>\n",
       "      <td>False</td>\n",
       "    </tr>\n",
       "    <tr>\n",
       "      <th>2328</th>\n",
       "      <td>TMF015</td>\n",
       "      <td>NOT</td>\n",
       "      <td>parada</td>\n",
       "      <td>NaN</td>\n",
       "      <td>None</td>\n",
       "      <td>NaN</td>\n",
       "      <td>NaN</td>\n",
       "      <td>62</td>\n",
       "      <td>2024-01-17 03:02:52</td>\n",
       "      <td>2024-01-17 04:04:52</td>\n",
       "      <td>None</td>\n",
       "      <td>NaT</td>\n",
       "      <td>False</td>\n",
       "    </tr>\n",
       "    <tr>\n",
       "      <th>2329</th>\n",
       "      <td>TMF015</td>\n",
       "      <td>NOT</td>\n",
       "      <td>parada</td>\n",
       "      <td>NaN</td>\n",
       "      <td>None</td>\n",
       "      <td>NaN</td>\n",
       "      <td>NaN</td>\n",
       "      <td>2</td>\n",
       "      <td>2024-01-17 05:32:52</td>\n",
       "      <td>2024-01-17 05:34:52</td>\n",
       "      <td>None</td>\n",
       "      <td>NaT</td>\n",
       "      <td>False</td>\n",
       "    </tr>\n",
       "  </tbody>\n",
       "</table>\n",
       "<p>2330 rows × 13 columns</p>\n",
       "</div>"
      ],
      "text/plain": [
       "     maquina_id turno  status  motivo_id        motivo_nome         problema  \\\n",
       "0        TMF001   NOT  parada       12.0  Parada Programada  Domingo/feriado   \n",
       "1        TMF001   MAT  parada       12.0  Parada Programada  Domingo/feriado   \n",
       "2        TMF001   VES  parada       12.0  Parada Programada  Domingo/feriado   \n",
       "3        TMF001   NOT  parada       12.0  Parada Programada  Domingo/feriado   \n",
       "4        TMF001   MAT  parada       12.0  Parada Programada  Domingo/feriado   \n",
       "...         ...   ...     ...        ...                ...              ...   \n",
       "2325     TMF015   VES  parada        NaN               None              NaN   \n",
       "2326     TMF015   VES  parada        NaN               None              NaN   \n",
       "2327     TMF015   VES  parada        NaN               None              NaN   \n",
       "2328     TMF015   NOT  parada        NaN               None              NaN   \n",
       "2329     TMF015   NOT  parada        NaN               None              NaN   \n",
       "\n",
       "      solucao  tempo_registro_min  data_hora_registro     data_hora_final  \\\n",
       "0         NaN                 482 2024-01-01 00:00:21 2024-01-01 08:02:22   \n",
       "1         NaN                 480 2024-01-01 08:02:22 2024-01-01 16:02:24   \n",
       "2         NaN                 480 2024-01-01 16:02:24 2024-01-02 00:02:25   \n",
       "3         NaN                 480 2024-01-02 00:02:25 2024-01-02 08:02:27   \n",
       "4         NaN                 480 2024-01-02 08:02:27 2024-01-02 16:02:28   \n",
       "...       ...                 ...                 ...                 ...   \n",
       "2325      NaN                   2 2024-01-16 22:52:51 2024-01-16 22:54:51   \n",
       "2326      NaN                   2 2024-01-16 23:58:51 2024-01-17 00:00:51   \n",
       "2327      NaN                   2 2024-01-17 00:00:51 2024-01-17 00:02:51   \n",
       "2328      NaN                  62 2024-01-17 03:02:52 2024-01-17 04:04:52   \n",
       "2329      NaN                   2 2024-01-17 05:32:52 2024-01-17 05:34:52   \n",
       "\n",
       "     usuario_id data_hora_registro_operador  domingo_feriado_emenda  \n",
       "0          None                         NaT                    True  \n",
       "1          None                         NaT                    True  \n",
       "2          None                         NaT                    True  \n",
       "3          None                         NaT                    True  \n",
       "4          None                         NaT                    True  \n",
       "...         ...                         ...                     ...  \n",
       "2325       None                         NaT                   False  \n",
       "2326       None                         NaT                   False  \n",
       "2327       None                         NaT                   False  \n",
       "2328       None                         NaT                   False  \n",
       "2329       None                         NaT                   False  \n",
       "\n",
       "[2330 rows x 13 columns]"
      ]
     },
     "execution_count": 159,
     "metadata": {},
     "output_type": "execute_result"
    }
   ],
   "source": [
    "problems_chart_adjust = ProblemsChartAdjust()\n",
    "\n",
    "df_problems_adjusted = problems_chart_adjust.problems_adjust(adjust_position)\n",
    "\n",
    "df_problems_adjusted"
   ]
  },
  {
   "cell_type": "markdown",
   "metadata": {},
   "source": [
    "## Combinando com Maquina Cadastro\n"
   ]
  },
  {
   "cell_type": "markdown",
   "metadata": {},
   "source": [
    "Usa join_data.py\n"
   ]
  },
  {
   "cell_type": "code",
   "execution_count": 160,
   "metadata": {},
   "outputs": [
    {
     "data": {
      "text/html": [
       "<div>\n",
       "<style scoped>\n",
       "    .dataframe tbody tr th:only-of-type {\n",
       "        vertical-align: middle;\n",
       "    }\n",
       "\n",
       "    .dataframe tbody tr th {\n",
       "        vertical-align: top;\n",
       "    }\n",
       "\n",
       "    .dataframe thead th {\n",
       "        text-align: right;\n",
       "    }\n",
       "</style>\n",
       "<table border=\"1\" class=\"dataframe\">\n",
       "  <thead>\n",
       "    <tr style=\"text-align: right;\">\n",
       "      <th></th>\n",
       "      <th>maquina_id</th>\n",
       "      <th>linha</th>\n",
       "      <th>fabrica</th>\n",
       "      <th>turno</th>\n",
       "      <th>status</th>\n",
       "      <th>motivo_id</th>\n",
       "      <th>motivo_nome</th>\n",
       "      <th>problema</th>\n",
       "      <th>solucao</th>\n",
       "      <th>tempo_registro_min</th>\n",
       "      <th>data_hora_registro</th>\n",
       "      <th>data_hora_final</th>\n",
       "      <th>usuario_id_maq_occ</th>\n",
       "      <th>data_hora_registro_operador</th>\n",
       "      <th>usuario_id_maq_cadastro</th>\n",
       "      <th>domingo_feriado_emenda</th>\n",
       "    </tr>\n",
       "  </thead>\n",
       "  <tbody>\n",
       "    <tr>\n",
       "      <th>0</th>\n",
       "      <td>TMF001</td>\n",
       "      <td>8</td>\n",
       "      <td>1</td>\n",
       "      <td>NOT</td>\n",
       "      <td>parada</td>\n",
       "      <td>12.0</td>\n",
       "      <td>Parada Programada</td>\n",
       "      <td>Domingo/feriado</td>\n",
       "      <td>NaN</td>\n",
       "      <td>482</td>\n",
       "      <td>2024-01-01 00:00:21</td>\n",
       "      <td>2024-01-01 08:02:22</td>\n",
       "      <td>None</td>\n",
       "      <td>NaT</td>\n",
       "      <td>002131</td>\n",
       "      <td>True</td>\n",
       "    </tr>\n",
       "    <tr>\n",
       "      <th>1</th>\n",
       "      <td>TMF001</td>\n",
       "      <td>8</td>\n",
       "      <td>1</td>\n",
       "      <td>MAT</td>\n",
       "      <td>parada</td>\n",
       "      <td>12.0</td>\n",
       "      <td>Parada Programada</td>\n",
       "      <td>Domingo/feriado</td>\n",
       "      <td>NaN</td>\n",
       "      <td>480</td>\n",
       "      <td>2024-01-01 08:02:22</td>\n",
       "      <td>2024-01-01 16:02:24</td>\n",
       "      <td>None</td>\n",
       "      <td>NaT</td>\n",
       "      <td>002131</td>\n",
       "      <td>True</td>\n",
       "    </tr>\n",
       "    <tr>\n",
       "      <th>2</th>\n",
       "      <td>TMF001</td>\n",
       "      <td>8</td>\n",
       "      <td>1</td>\n",
       "      <td>VES</td>\n",
       "      <td>parada</td>\n",
       "      <td>12.0</td>\n",
       "      <td>Parada Programada</td>\n",
       "      <td>Domingo/feriado</td>\n",
       "      <td>NaN</td>\n",
       "      <td>480</td>\n",
       "      <td>2024-01-01 16:02:24</td>\n",
       "      <td>2024-01-02 00:02:25</td>\n",
       "      <td>None</td>\n",
       "      <td>NaT</td>\n",
       "      <td>002131</td>\n",
       "      <td>True</td>\n",
       "    </tr>\n",
       "    <tr>\n",
       "      <th>3</th>\n",
       "      <td>TMF001</td>\n",
       "      <td>8</td>\n",
       "      <td>1</td>\n",
       "      <td>NOT</td>\n",
       "      <td>parada</td>\n",
       "      <td>12.0</td>\n",
       "      <td>Parada Programada</td>\n",
       "      <td>Domingo/feriado</td>\n",
       "      <td>NaN</td>\n",
       "      <td>480</td>\n",
       "      <td>2024-01-02 00:02:25</td>\n",
       "      <td>2024-01-02 08:02:27</td>\n",
       "      <td>None</td>\n",
       "      <td>NaT</td>\n",
       "      <td>002131</td>\n",
       "      <td>True</td>\n",
       "    </tr>\n",
       "    <tr>\n",
       "      <th>4</th>\n",
       "      <td>TMF001</td>\n",
       "      <td>8</td>\n",
       "      <td>1</td>\n",
       "      <td>MAT</td>\n",
       "      <td>parada</td>\n",
       "      <td>12.0</td>\n",
       "      <td>Parada Programada</td>\n",
       "      <td>Domingo/feriado</td>\n",
       "      <td>NaN</td>\n",
       "      <td>480</td>\n",
       "      <td>2024-01-02 08:02:27</td>\n",
       "      <td>2024-01-02 16:02:28</td>\n",
       "      <td>None</td>\n",
       "      <td>NaT</td>\n",
       "      <td>002131</td>\n",
       "      <td>True</td>\n",
       "    </tr>\n",
       "    <tr>\n",
       "      <th>...</th>\n",
       "      <td>...</td>\n",
       "      <td>...</td>\n",
       "      <td>...</td>\n",
       "      <td>...</td>\n",
       "      <td>...</td>\n",
       "      <td>...</td>\n",
       "      <td>...</td>\n",
       "      <td>...</td>\n",
       "      <td>...</td>\n",
       "      <td>...</td>\n",
       "      <td>...</td>\n",
       "      <td>...</td>\n",
       "      <td>...</td>\n",
       "      <td>...</td>\n",
       "      <td>...</td>\n",
       "      <td>...</td>\n",
       "    </tr>\n",
       "    <tr>\n",
       "      <th>2325</th>\n",
       "      <td>TMF015</td>\n",
       "      <td>3</td>\n",
       "      <td>1</td>\n",
       "      <td>VES</td>\n",
       "      <td>parada</td>\n",
       "      <td>NaN</td>\n",
       "      <td>None</td>\n",
       "      <td>None</td>\n",
       "      <td>NaN</td>\n",
       "      <td>2</td>\n",
       "      <td>2024-01-16 22:52:51</td>\n",
       "      <td>2024-01-16 22:54:51</td>\n",
       "      <td>None</td>\n",
       "      <td>NaT</td>\n",
       "      <td>001996</td>\n",
       "      <td>False</td>\n",
       "    </tr>\n",
       "    <tr>\n",
       "      <th>2326</th>\n",
       "      <td>TMF015</td>\n",
       "      <td>3</td>\n",
       "      <td>1</td>\n",
       "      <td>VES</td>\n",
       "      <td>parada</td>\n",
       "      <td>NaN</td>\n",
       "      <td>None</td>\n",
       "      <td>None</td>\n",
       "      <td>NaN</td>\n",
       "      <td>2</td>\n",
       "      <td>2024-01-16 23:58:51</td>\n",
       "      <td>2024-01-17 00:00:51</td>\n",
       "      <td>None</td>\n",
       "      <td>NaT</td>\n",
       "      <td>001996</td>\n",
       "      <td>False</td>\n",
       "    </tr>\n",
       "    <tr>\n",
       "      <th>2327</th>\n",
       "      <td>TMF015</td>\n",
       "      <td>3</td>\n",
       "      <td>1</td>\n",
       "      <td>VES</td>\n",
       "      <td>parada</td>\n",
       "      <td>NaN</td>\n",
       "      <td>None</td>\n",
       "      <td>None</td>\n",
       "      <td>NaN</td>\n",
       "      <td>2</td>\n",
       "      <td>2024-01-17 00:00:51</td>\n",
       "      <td>2024-01-17 00:02:51</td>\n",
       "      <td>None</td>\n",
       "      <td>NaT</td>\n",
       "      <td>001996</td>\n",
       "      <td>False</td>\n",
       "    </tr>\n",
       "    <tr>\n",
       "      <th>2328</th>\n",
       "      <td>TMF015</td>\n",
       "      <td>3</td>\n",
       "      <td>1</td>\n",
       "      <td>NOT</td>\n",
       "      <td>parada</td>\n",
       "      <td>NaN</td>\n",
       "      <td>None</td>\n",
       "      <td>None</td>\n",
       "      <td>NaN</td>\n",
       "      <td>62</td>\n",
       "      <td>2024-01-17 03:02:52</td>\n",
       "      <td>2024-01-17 04:04:52</td>\n",
       "      <td>None</td>\n",
       "      <td>NaT</td>\n",
       "      <td>001996</td>\n",
       "      <td>False</td>\n",
       "    </tr>\n",
       "    <tr>\n",
       "      <th>2329</th>\n",
       "      <td>TMF015</td>\n",
       "      <td>3</td>\n",
       "      <td>1</td>\n",
       "      <td>NOT</td>\n",
       "      <td>parada</td>\n",
       "      <td>NaN</td>\n",
       "      <td>None</td>\n",
       "      <td>None</td>\n",
       "      <td>NaN</td>\n",
       "      <td>2</td>\n",
       "      <td>2024-01-17 05:32:52</td>\n",
       "      <td>2024-01-17 05:34:52</td>\n",
       "      <td>None</td>\n",
       "      <td>NaT</td>\n",
       "      <td>001996</td>\n",
       "      <td>False</td>\n",
       "    </tr>\n",
       "  </tbody>\n",
       "</table>\n",
       "<p>2330 rows × 16 columns</p>\n",
       "</div>"
      ],
      "text/plain": [
       "     maquina_id  linha fabrica turno  status  motivo_id        motivo_nome  \\\n",
       "0        TMF001      8       1   NOT  parada       12.0  Parada Programada   \n",
       "1        TMF001      8       1   MAT  parada       12.0  Parada Programada   \n",
       "2        TMF001      8       1   VES  parada       12.0  Parada Programada   \n",
       "3        TMF001      8       1   NOT  parada       12.0  Parada Programada   \n",
       "4        TMF001      8       1   MAT  parada       12.0  Parada Programada   \n",
       "...         ...    ...     ...   ...     ...        ...                ...   \n",
       "2325     TMF015      3       1   VES  parada        NaN               None   \n",
       "2326     TMF015      3       1   VES  parada        NaN               None   \n",
       "2327     TMF015      3       1   VES  parada        NaN               None   \n",
       "2328     TMF015      3       1   NOT  parada        NaN               None   \n",
       "2329     TMF015      3       1   NOT  parada        NaN               None   \n",
       "\n",
       "             problema  solucao  tempo_registro_min  data_hora_registro  \\\n",
       "0     Domingo/feriado      NaN                 482 2024-01-01 00:00:21   \n",
       "1     Domingo/feriado      NaN                 480 2024-01-01 08:02:22   \n",
       "2     Domingo/feriado      NaN                 480 2024-01-01 16:02:24   \n",
       "3     Domingo/feriado      NaN                 480 2024-01-02 00:02:25   \n",
       "4     Domingo/feriado      NaN                 480 2024-01-02 08:02:27   \n",
       "...               ...      ...                 ...                 ...   \n",
       "2325             None      NaN                   2 2024-01-16 22:52:51   \n",
       "2326             None      NaN                   2 2024-01-16 23:58:51   \n",
       "2327             None      NaN                   2 2024-01-17 00:00:51   \n",
       "2328             None      NaN                  62 2024-01-17 03:02:52   \n",
       "2329             None      NaN                   2 2024-01-17 05:32:52   \n",
       "\n",
       "         data_hora_final usuario_id_maq_occ data_hora_registro_operador  \\\n",
       "0    2024-01-01 08:02:22               None                         NaT   \n",
       "1    2024-01-01 16:02:24               None                         NaT   \n",
       "2    2024-01-02 00:02:25               None                         NaT   \n",
       "3    2024-01-02 08:02:27               None                         NaT   \n",
       "4    2024-01-02 16:02:28               None                         NaT   \n",
       "...                  ...                ...                         ...   \n",
       "2325 2024-01-16 22:54:51               None                         NaT   \n",
       "2326 2024-01-17 00:00:51               None                         NaT   \n",
       "2327 2024-01-17 00:02:51               None                         NaT   \n",
       "2328 2024-01-17 04:04:52               None                         NaT   \n",
       "2329 2024-01-17 05:34:52               None                         NaT   \n",
       "\n",
       "     usuario_id_maq_cadastro  domingo_feriado_emenda  \n",
       "0                     002131                    True  \n",
       "1                     002131                    True  \n",
       "2                     002131                    True  \n",
       "3                     002131                    True  \n",
       "4                     002131                    True  \n",
       "...                      ...                     ...  \n",
       "2325                  001996                   False  \n",
       "2326                  001996                   False  \n",
       "2327                  001996                   False  \n",
       "2328                  001996                   False  \n",
       "2329                  001996                   False  \n",
       "\n",
       "[2330 rows x 16 columns]"
      ]
     },
     "execution_count": 160,
     "metadata": {},
     "output_type": "execute_result"
    }
   ],
   "source": [
    "df_maq_info_cadastro_combined = join_data.info_cadastro_combine(\n",
    "    df_problems_adjusted, df_maq_cadastro_clean\n",
    ")\n",
    "\n",
    "df_maq_info_cadastro_combined"
   ]
  },
  {
   "cell_type": "code",
   "execution_count": 161,
   "metadata": {},
   "outputs": [
    {
     "data": {
      "text/html": [
       "<div>\n",
       "<style scoped>\n",
       "    .dataframe tbody tr th:only-of-type {\n",
       "        vertical-align: middle;\n",
       "    }\n",
       "\n",
       "    .dataframe tbody tr th {\n",
       "        vertical-align: top;\n",
       "    }\n",
       "\n",
       "    .dataframe thead th {\n",
       "        text-align: right;\n",
       "    }\n",
       "</style>\n",
       "<table border=\"1\" class=\"dataframe\">\n",
       "  <thead>\n",
       "    <tr style=\"text-align: right;\">\n",
       "      <th></th>\n",
       "      <th>maquina_id</th>\n",
       "      <th>linha</th>\n",
       "      <th>fabrica</th>\n",
       "      <th>turno</th>\n",
       "      <th>contagem_total_ciclos</th>\n",
       "      <th>contagem_total_produzido</th>\n",
       "      <th>data_registro</th>\n",
       "      <th>usuario_id_maq_cadastro</th>\n",
       "      <th>data_hora_registro</th>\n",
       "    </tr>\n",
       "  </thead>\n",
       "  <tbody>\n",
       "    <tr>\n",
       "      <th>0</th>\n",
       "      <td>TMF001</td>\n",
       "      <td>8</td>\n",
       "      <td>1</td>\n",
       "      <td>NOT</td>\n",
       "      <td>0.0</td>\n",
       "      <td>0.0</td>\n",
       "      <td>2024-01-01</td>\n",
       "      <td>002131</td>\n",
       "      <td>2024-01-01 08:00:22</td>\n",
       "    </tr>\n",
       "    <tr>\n",
       "      <th>1</th>\n",
       "      <td>TMF001</td>\n",
       "      <td>8</td>\n",
       "      <td>1</td>\n",
       "      <td>MAT</td>\n",
       "      <td>0.0</td>\n",
       "      <td>0.0</td>\n",
       "      <td>2024-01-01</td>\n",
       "      <td>002131</td>\n",
       "      <td>2024-01-01 16:00:24</td>\n",
       "    </tr>\n",
       "    <tr>\n",
       "      <th>2</th>\n",
       "      <td>TMF001</td>\n",
       "      <td>8</td>\n",
       "      <td>1</td>\n",
       "      <td>VES</td>\n",
       "      <td>0.0</td>\n",
       "      <td>0.0</td>\n",
       "      <td>2024-01-01</td>\n",
       "      <td>002131</td>\n",
       "      <td>2024-01-01 23:58:25</td>\n",
       "    </tr>\n",
       "    <tr>\n",
       "      <th>3</th>\n",
       "      <td>TMF001</td>\n",
       "      <td>8</td>\n",
       "      <td>1</td>\n",
       "      <td>NOT</td>\n",
       "      <td>0.0</td>\n",
       "      <td>0.0</td>\n",
       "      <td>2024-01-02</td>\n",
       "      <td>002131</td>\n",
       "      <td>2024-01-02 08:00:27</td>\n",
       "    </tr>\n",
       "    <tr>\n",
       "      <th>4</th>\n",
       "      <td>TMF001</td>\n",
       "      <td>8</td>\n",
       "      <td>1</td>\n",
       "      <td>MAT</td>\n",
       "      <td>0.0</td>\n",
       "      <td>0.0</td>\n",
       "      <td>2024-01-02</td>\n",
       "      <td>002131</td>\n",
       "      <td>2024-01-02 16:00:28</td>\n",
       "    </tr>\n",
       "    <tr>\n",
       "      <th>...</th>\n",
       "      <td>...</td>\n",
       "      <td>...</td>\n",
       "      <td>...</td>\n",
       "      <td>...</td>\n",
       "      <td>...</td>\n",
       "      <td>...</td>\n",
       "      <td>...</td>\n",
       "      <td>...</td>\n",
       "      <td>...</td>\n",
       "    </tr>\n",
       "    <tr>\n",
       "      <th>692</th>\n",
       "      <td>TMF015</td>\n",
       "      <td>3</td>\n",
       "      <td>1</td>\n",
       "      <td>MAT</td>\n",
       "      <td>7346.0</td>\n",
       "      <td>7340.0</td>\n",
       "      <td>2024-01-16</td>\n",
       "      <td>001996</td>\n",
       "      <td>2024-01-16 16:00:50</td>\n",
       "    </tr>\n",
       "    <tr>\n",
       "      <th>693</th>\n",
       "      <td>TMF015</td>\n",
       "      <td>3</td>\n",
       "      <td>1</td>\n",
       "      <td>VES</td>\n",
       "      <td>9290.0</td>\n",
       "      <td>9290.0</td>\n",
       "      <td>2024-01-16</td>\n",
       "      <td>001996</td>\n",
       "      <td>2024-01-16 23:58:51</td>\n",
       "    </tr>\n",
       "    <tr>\n",
       "      <th>694</th>\n",
       "      <td>TMF015</td>\n",
       "      <td>3</td>\n",
       "      <td>1</td>\n",
       "      <td>VES</td>\n",
       "      <td>9306.0</td>\n",
       "      <td>9306.0</td>\n",
       "      <td>2024-01-17</td>\n",
       "      <td>001996</td>\n",
       "      <td>2024-01-17 00:00:51</td>\n",
       "    </tr>\n",
       "    <tr>\n",
       "      <th>695</th>\n",
       "      <td>TMF015</td>\n",
       "      <td>3</td>\n",
       "      <td>1</td>\n",
       "      <td>NOT</td>\n",
       "      <td>9304.0</td>\n",
       "      <td>9304.0</td>\n",
       "      <td>2024-01-17</td>\n",
       "      <td>001996</td>\n",
       "      <td>2024-01-17 08:00:53</td>\n",
       "    </tr>\n",
       "    <tr>\n",
       "      <th>696</th>\n",
       "      <td>TMF015</td>\n",
       "      <td>3</td>\n",
       "      <td>1</td>\n",
       "      <td>MAT</td>\n",
       "      <td>2416.0</td>\n",
       "      <td>2416.0</td>\n",
       "      <td>2024-01-17</td>\n",
       "      <td>001996</td>\n",
       "      <td>2024-01-17 10:16:53</td>\n",
       "    </tr>\n",
       "  </tbody>\n",
       "</table>\n",
       "<p>697 rows × 9 columns</p>\n",
       "</div>"
      ],
      "text/plain": [
       "    maquina_id  linha fabrica turno  contagem_total_ciclos  \\\n",
       "0       TMF001      8       1   NOT                    0.0   \n",
       "1       TMF001      8       1   MAT                    0.0   \n",
       "2       TMF001      8       1   VES                    0.0   \n",
       "3       TMF001      8       1   NOT                    0.0   \n",
       "4       TMF001      8       1   MAT                    0.0   \n",
       "..         ...    ...     ...   ...                    ...   \n",
       "692     TMF015      3       1   MAT                 7346.0   \n",
       "693     TMF015      3       1   VES                 9290.0   \n",
       "694     TMF015      3       1   VES                 9306.0   \n",
       "695     TMF015      3       1   NOT                 9304.0   \n",
       "696     TMF015      3       1   MAT                 2416.0   \n",
       "\n",
       "     contagem_total_produzido data_registro usuario_id_maq_cadastro  \\\n",
       "0                         0.0    2024-01-01                  002131   \n",
       "1                         0.0    2024-01-01                  002131   \n",
       "2                         0.0    2024-01-01                  002131   \n",
       "3                         0.0    2024-01-02                  002131   \n",
       "4                         0.0    2024-01-02                  002131   \n",
       "..                        ...           ...                     ...   \n",
       "692                    7340.0    2024-01-16                  001996   \n",
       "693                    9290.0    2024-01-16                  001996   \n",
       "694                    9306.0    2024-01-17                  001996   \n",
       "695                    9304.0    2024-01-17                  001996   \n",
       "696                    2416.0    2024-01-17                  001996   \n",
       "\n",
       "     data_hora_registro  \n",
       "0   2024-01-01 08:00:22  \n",
       "1   2024-01-01 16:00:24  \n",
       "2   2024-01-01 23:58:25  \n",
       "3   2024-01-02 08:00:27  \n",
       "4   2024-01-02 16:00:28  \n",
       "..                  ...  \n",
       "692 2024-01-16 16:00:50  \n",
       "693 2024-01-16 23:58:51  \n",
       "694 2024-01-17 00:00:51  \n",
       "695 2024-01-17 08:00:53  \n",
       "696 2024-01-17 10:16:53  \n",
       "\n",
       "[697 rows x 9 columns]"
      ]
     },
     "execution_count": 161,
     "metadata": {},
     "output_type": "execute_result"
    }
   ],
   "source": [
    "df_maq_info_prod_cad_combined = join_data.join_info_prod_cad(\n",
    "    df_maq_info_prod_clean, df_maq_cadastro_clean\n",
    ")\n",
    "\n",
    "df_maq_info_prod_cad_combined"
   ]
  },
  {
   "cell_type": "markdown",
   "metadata": {},
   "source": [
    "# Conseguir tempos - Total, Perda de Eficiência, Performance, Reparos e Qualidade\n"
   ]
  },
  {
   "cell_type": "markdown",
   "metadata": {},
   "source": [
    "## times_data.py\n"
   ]
  },
  {
   "cell_type": "code",
   "execution_count": 176,
   "metadata": {},
   "outputs": [],
   "source": [
    "class TimesData:\n",
    "    def __init__(self):\n",
    "        # Dicionário com os descontos de parada para Eficiência\n",
    "        self.desc_eff = {\n",
    "            3: 60,\n",
    "            5: 10,\n",
    "            10: 15,\n",
    "            11: 35,\n",
    "            15: 60,\n",
    "            17: 15,\n",
    "        }\n",
    "        # Dicionário com os descontos de parada para Performance\n",
    "        self.desc_perf = {\n",
    "            3: 60,\n",
    "            5: 10,\n",
    "            10: 15,\n",
    "            15: 60,\n",
    "            17: 15,\n",
    "        }\n",
    "        # Lista com os motivos de parada que não são considerados para Performance\n",
    "        self.not_af_perf = [7, 8, 11, 12, 13, 16]\n",
    "        # Dicionário com os descontos de parada para Reparos\n",
    "        self.desc_rep = {11: 35}\n",
    "        # Lista com os motivos de parada que são considerados para Reparos\n",
    "        self.af_rep = [7, 8, 11]\n",
    "\n",
    "    def __get_times_discount(\n",
    "        self, info: pd.DataFrame, desc_pcp: dict[int, int]\n",
    "    ) -> pd.DataFrame:\n",
    "        \"\"\"\n",
    "        Método para calcular o tempo de eficiência e desconto.\n",
    "\n",
    "        Este método recebe um DataFrame contendo informações de tempo e retorna um DataFrame com\n",
    "        informações de tempo de eficiência e desconto.\n",
    "\n",
    "        ### Parâmetros:\n",
    "        info (pd.DataFrame): DataFrame contendo informações de tempo.\n",
    "\n",
    "        ### Retorna:\n",
    "        pd.DataFrame: DataFrame com informações de tempo de eficiência e desconto.\n",
    "\n",
    "        ### Exemplo de uso:\n",
    "        ```\n",
    "        times_data = TimesData()\n",
    "        df_info = pd.dataframe()\n",
    "        df_result = times_data.get_times_eff_disc(df_info)\n",
    "        ```\n",
    "        \"\"\"\n",
    "\n",
    "        info_stops = info.copy()\n",
    "\n",
    "        # Adicionar coluna com descontos de parada\n",
    "        info_stops[\"desconto_min\"] = info_stops[\"motivo_id\"].map(desc_pcp)\n",
    "\n",
    "        # Se houver desconto, subtrair do tempo de parada e arredondar para baixo, em uma nova coluna chamada excedente\n",
    "        info_stops[\"excedente\"] = (\n",
    "            info_stops[\"tempo_registro_min\"] - info_stops[\"desconto_min\"]\n",
    "        ).clip(lower=0)\n",
    "\n",
    "        # Se o desconto for maior que o tempo de parada, o desconto deve ser igual ao tempo de parada\n",
    "        info_stops.loc[\n",
    "            info_stops[\"desconto_min\"] > info_stops[\"tempo_registro_min\"],\n",
    "            \"desconto_min\",\n",
    "        ] = info_stops[\"tempo_registro_min\"]\n",
    "\n",
    "        # Criar coluna data_registro para agrupar por dia\n",
    "        info_stops[\"data_registro\"] = info_stops[\"data_hora_registro\"].dt.date\n",
    "\n",
    "        # Ordenar por maquina_id, data_hora_registro, turno\n",
    "        info_stops.sort_values(\n",
    "            by=[\"maquina_id\", \"data_hora_registro\", \"turno\"], inplace=True\n",
    "        )\n",
    "\n",
    "        # Manter somente colunas necessárias\n",
    "        info_stops = info_stops[\n",
    "            [\n",
    "                \"maquina_id\",\n",
    "                \"linha\",\n",
    "                \"fabrica\",\n",
    "                \"turno\",\n",
    "                \"motivo_id\",\n",
    "                \"motivo_nome\",\n",
    "                \"problema\",\n",
    "                \"solucao\",\n",
    "                \"tempo_registro_min\",\n",
    "                \"desconto_min\",\n",
    "                \"excedente\",\n",
    "                \"data_hora_registro\",\n",
    "                \"data_hora_final\",\n",
    "                \"usuario_id_maq_occ\",\n",
    "                \"data_hora_registro_operador\",\n",
    "                \"usuario_id_maq_cadastro\",\n",
    "                \"data_registro\",\n",
    "            ]\n",
    "        ]\n",
    "\n",
    "        return info_stops\n",
    "\n",
    "    def get_elapsed_time(self, turno):\n",
    "        \"\"\"\n",
    "        Função para obter o tempo decorrido desde o início do turno atual.\n",
    "        \"\"\"\n",
    "        now = datetime.now()\n",
    "        if turno == \"MAT\" and 8 <= now.hour < 16:\n",
    "            shift_start = now.replace(\n",
    "                hour=8, minute=0, second=0, microsecond=0\n",
    "            )\n",
    "        elif turno == \"VES\" and 16 <= now.hour < 24:\n",
    "            shift_start = now.replace(\n",
    "                hour=16, minute=0, second=0, microsecond=0\n",
    "            )\n",
    "        elif turno == \"NOT\" and (now.hour < 8 or now.hour >= 24):\n",
    "            shift_start = now.replace(\n",
    "                hour=0, minute=0, second=0, microsecond=0\n",
    "            )\n",
    "        else:\n",
    "            return 480  # retorna o tempo padrão se não estiver no turno atual\n",
    "\n",
    "        elapsed_time = now - shift_start\n",
    "        return (\n",
    "            elapsed_time.total_seconds() / 60\n",
    "        )  # retorna o tempo decorrido em minutos\n",
    "\n",
    "    def get_eff_data(\n",
    "        self, df_info: pd.DataFrame, df_prod: pd.DataFrame\n",
    "    ) -> pd.DataFrame:\n",
    "        \"\"\"\n",
    "        Método para calcular os dados de eficiência.\n",
    "\n",
    "        Este método recebe dois DataFrames, um contendo informações de tempo de eficiência e\n",
    "        desconto e outro contendo informações de produção,\n",
    "        e retorna um DataFrame com informações de eficiência.\n",
    "\n",
    "        ### Parâmetros:\n",
    "        df_info (pd.DataFrame): DataFrame contendo informações de maquina\n",
    "\n",
    "        df_prod (pd.DataFrame): DataFrame contendo informações de produção.\n",
    "\n",
    "        ### Retorna:\n",
    "        pd.DataFrame: DataFrame com informações de eficiência.\n",
    "\n",
    "        ### Exemplo de uso:\n",
    "        ```\n",
    "        times_data = TimesData()\n",
    "        df_eff_times_desc = pd.dataframe()\n",
    "        df_prod = pd.dataframe()\n",
    "        df_result = times_data.get_eff_data(df_info, df_prod)\n",
    "        ```\n",
    "        \"\"\"\n",
    "\n",
    "        df_info = df_info.copy()\n",
    "\n",
    "        df_eff_times_desc = self.__get_times_discount(df_info, self.desc_eff)\n",
    "        df_prod_total = df_prod.copy()\n",
    "        ciclo_ideal = 10.6\n",
    "\n",
    "        # Descartar colunas desnecessárias de df_prod -> 'contagem_total_ciclos', 'usuario_id_maq_cadastro', 'data_hora_registro'\n",
    "        df_prod_total.drop(\n",
    "            columns=[\n",
    "                \"contagem_total_ciclos\",\n",
    "                \"data_hora_registro\",\n",
    "                \"usuario_id_maq_cadastro\",\n",
    "            ],\n",
    "            inplace=True,\n",
    "        )\n",
    "\n",
    "        # Renomear coluna contagem_total_produzido para producao_total\n",
    "        df_prod_total.rename(\n",
    "            columns={\"contagem_total_produzido\": \"producao_total\"},\n",
    "            inplace=True,\n",
    "        )\n",
    "\n",
    "        # Agrupar por maquina_id, data_registro e turno e somar o tempo de parada, o desconto e o excedente\n",
    "        df_eff_times_desc = (\n",
    "            df_eff_times_desc.groupby(\n",
    "                [\"maquina_id\", \"linha\", \"fabrica\", \"data_registro\", \"turno\"]\n",
    "            )\n",
    "            .agg(\n",
    "                {\n",
    "                    \"desconto_min\": \"sum\",\n",
    "                }\n",
    "            )\n",
    "            .reset_index()\n",
    "        )\n",
    "\n",
    "        # Garantir que a coluna data_registro é datetime em ambos os dataframes\n",
    "        df_eff_times_desc[\"data_registro\"] = pd.to_datetime(\n",
    "            df_eff_times_desc[\"data_registro\"]\n",
    "        ).dt.date\n",
    "\n",
    "        df_prod_total[\"data_registro\"] = pd.to_datetime(\n",
    "            df_prod_total[\"data_registro\"]\n",
    "        ).dt.date\n",
    "\n",
    "        # Fazer merge com df_prod_total\n",
    "        df_eff_times_desc = pd.merge(\n",
    "            df_prod_total,\n",
    "            df_eff_times_desc,\n",
    "            on=[\"maquina_id\", \"linha\", \"fabrica\", \"turno\", \"data_registro\"],\n",
    "            how=\"left\",\n",
    "        )\n",
    "\n",
    "        # Ajustar desc_min para 0 quando for nulo\n",
    "        df_eff_times_desc.loc[\n",
    "            df_eff_times_desc[\"desconto_min\"].isnull(), \"desconto_min\"\n",
    "        ] = 0\n",
    "\n",
    "        \"\"\" # Criar coluna com tempo esperado de produção\n",
    "        df_eff_times_desc[\"tempo_esperado_min\"] = (\n",
    "            480 - df_eff_times_desc[\"desconto_min\"]\n",
    "        ) \"\"\"\n",
    "\n",
    "        # Criar coluna com tempo esperado de produção\n",
    "        df_eff_times_desc[\"tempo_esperado_min\"] = df_eff_times_desc.apply(\n",
    "            lambda row: np.floor(\n",
    "                self.get_elapsed_time(row[\"turno\"]) - row[\"desconto_min\"]\n",
    "            )\n",
    "            if row[\"data_registro\"] == datetime.now().date()\n",
    "            else 480 - row[\"desconto_min\"],\n",
    "            axis=1,\n",
    "        )\n",
    "\n",
    "        # Produção esperada por turno\n",
    "        df_eff_times_desc[\"producao_esperada\"] = (\n",
    "            df_eff_times_desc[\"tempo_esperado_min\"] * ciclo_ideal\n",
    "        ) * 2\n",
    "\n",
    "        # Calcular a eficiência\n",
    "        df_eff_times_desc[\"eficiencia\"] = (\n",
    "            df_eff_times_desc[\"producao_total\"]\n",
    "            / df_eff_times_desc[\"producao_esperada\"]\n",
    "        )\n",
    "\n",
    "        # Ajustar o index\n",
    "        df_eff_times_desc.reset_index(drop=True, inplace=True)\n",
    "\n",
    "        return df_eff_times_desc\n",
    "\n",
    "    def get_perf_data(\n",
    "        self, df_info: pd.DataFrame, df_prod: pd.DataFrame\n",
    "    ) -> pd.DataFrame:\n",
    "        \"\"\"\n",
    "        Método para calcular os dados de performance.\n",
    "\n",
    "        Este método recebe dois DataFrames, um contendo informações de máquina e\n",
    "        e outro contendo informações de produção,\n",
    "        e retorna um DataFrame com informações de Performance.\n",
    "\n",
    "        ### Parâmetros:\n",
    "        df_info (pd.DataFrame): DataFrame contendo informações de maquina\n",
    "\n",
    "        df_prod (pd.DataFrame): DataFrame contendo informações de produção.\n",
    "\n",
    "        ### Retorna:\n",
    "        pd.DataFrame: DataFrame com informações de performance.\n",
    "\n",
    "        ### Exemplo de uso:\n",
    "        ```\n",
    "        times_data = TimesData()\n",
    "        df_info = pd.dataframe()\n",
    "        df_prod = pd.dataframe()\n",
    "        df_result = times_data.get_perf_data(df_info, df_prod)\n",
    "        ```\n",
    "        \"\"\"\n",
    "        df_info = df_info.copy()\n",
    "        df_perf_times_desc = self.__get_times_discount(df_info, self.desc_perf)\n",
    "        df_prod_total = df_prod.copy()\n",
    "\n",
    "        # Descartar colunas desnecessárias de df_prod\n",
    "        df_prod_total.drop(\n",
    "            columns=[\n",
    "                \"contagem_total_ciclos\",\n",
    "                \"contagem_total_produzido\",\n",
    "                \"data_hora_registro\",\n",
    "                \"usuario_id_maq_cadastro\",\n",
    "            ],\n",
    "            inplace=True,\n",
    "        )\n",
    "\n",
    "        # Remover as linhas que não afetam a performance\n",
    "        df_perf_times_desc = df_perf_times_desc[\n",
    "            ~df_perf_times_desc[\"motivo_id\"].isin(self.not_af_perf)\n",
    "        ]\n",
    "\n",
    "        # Criar coluna 'afeta' para identificar as paradas que afetam a performance\n",
    "        df_perf_times_desc[\"afeta\"] = df_perf_times_desc[\"excedente\"]\n",
    "\n",
    "        # Se desconto for nulo, substituir afeta pelo valor de tempo_registro_min\n",
    "        df_perf_times_desc.loc[\n",
    "            df_perf_times_desc[\"desconto_min\"].isnull(), \"afeta\"\n",
    "        ] = df_perf_times_desc[\"tempo_registro_min\"]\n",
    "\n",
    "        # Agrupar por maquina_id, data_registro e turno e somar o tempo de\n",
    "        # desconto e o afeta\n",
    "        df_perf_times_desc = (\n",
    "            df_perf_times_desc.groupby(\n",
    "                [\"maquina_id\", \"linha\", \"fabrica\", \"data_registro\", \"turno\"]\n",
    "            )\n",
    "            .agg(\n",
    "                {\n",
    "                    \"desconto_min\": \"sum\",\n",
    "                    \"afeta\": \"sum\",\n",
    "                }\n",
    "            )\n",
    "            .reset_index()\n",
    "        )\n",
    "\n",
    "        # Garantir que a coluna data_registro é datetime em ambos os dataframes\n",
    "        df_perf_times_desc[\"data_registro\"] = pd.to_datetime(\n",
    "            df_perf_times_desc[\"data_registro\"]\n",
    "        ).dt.date\n",
    "        df_prod_total[\"data_registro\"] = pd.to_datetime(\n",
    "            df_prod_total[\"data_registro\"]\n",
    "        ).dt.date\n",
    "\n",
    "        # Fazer merge com df_prod_total\n",
    "        df_perf_times_desc = pd.merge(\n",
    "            df_prod_total,\n",
    "            df_perf_times_desc,\n",
    "            on=[\"maquina_id\", \"linha\", \"fabrica\", \"turno\", \"data_registro\"],\n",
    "            how=\"left\",\n",
    "        )\n",
    "\n",
    "        # Ajustar desconto_min para 0 quando for nulo\n",
    "        df_perf_times_desc.loc[\n",
    "            df_perf_times_desc[\"desconto_min\"].isnull(), \"desconto_min\"\n",
    "        ] = 0\n",
    "\n",
    "        # Ajustar afeta para 0 quando for nulo\n",
    "        df_perf_times_desc.loc[\n",
    "            df_perf_times_desc[\"afeta\"].isnull(), \"afeta\"\n",
    "        ] = 0\n",
    "\n",
    "        \"\"\" # Criar coluna com tempo esperado de produção\n",
    "        df_perf_times_desc[\"tempo_esperado_min\"] = (\n",
    "            480 - df_perf_times_desc[\"desconto_min\"]\n",
    "        ) \"\"\"\n",
    "\n",
    "        # Criar coluna com tempo esperado de produção\n",
    "        df_perf_times_desc[\"tempo_esperado_min\"] = df_perf_times_desc.apply(\n",
    "            lambda row: np.floor(\n",
    "                self.get_elapsed_time(row[\"turno\"]) - row[\"desconto_min\"]\n",
    "            )\n",
    "            if row[\"data_registro\"] == datetime.now().date()\n",
    "            else 480 - row[\"desconto_min\"],\n",
    "            axis=1,\n",
    "        )\n",
    "\n",
    "        # Calcular a performance\n",
    "        df_perf_times_desc[\"performance\"] = (\n",
    "            df_perf_times_desc[\"afeta\"]\n",
    "            / df_perf_times_desc[\"tempo_esperado_min\"]\n",
    "        )\n",
    "\n",
    "        return df_perf_times_desc\n",
    "\n",
    "    def get_reparos_data(\n",
    "        self, df_info: pd.DataFrame, df_prod: pd.DataFrame\n",
    "    ) -> pd.DataFrame:\n",
    "        \"\"\"\n",
    "        Método para calcular os dados de reparo.\n",
    "\n",
    "        Este método recebe dois DataFrames, um contendo informações de máquina e\n",
    "        e outro contendo informações de produção,\n",
    "        e retorna um DataFrame com informações de Reparo.\n",
    "\n",
    "        ### Parâmetros:\n",
    "        df_info (pd.DataFrame): DataFrame contendo informações de maquina\n",
    "\n",
    "        df_prod (pd.DataFrame): DataFrame contendo informações de produção.\n",
    "\n",
    "        ### Retorna:\n",
    "        pd.DataFrame: DataFrame com informações de performance.\n",
    "\n",
    "        ### Exemplo de uso:\n",
    "        ```\n",
    "        times_data = TimesData()\n",
    "        df_info = pd.dataframe()\n",
    "        df_prod = pd.dataframe()\n",
    "        df_result = times_data.get_reparos_data(df_info, df_prod)\n",
    "        ```\n",
    "        \"\"\"\n",
    "        df_info = df_info.copy()\n",
    "\n",
    "        df_rep_times_desc = self.__get_times_discount(df_info, self.desc_rep)\n",
    "        df_prod_total = df_prod.copy()\n",
    "\n",
    "        # Descartar colunas desnecessárias de df_prod\n",
    "        df_prod_total.drop(\n",
    "            columns=[\n",
    "                \"contagem_total_ciclos\",\n",
    "                \"contagem_total_produzido\",\n",
    "                \"data_hora_registro\",\n",
    "                \"usuario_id_maq_cadastro\",\n",
    "            ],\n",
    "            inplace=True,\n",
    "        )\n",
    "\n",
    "        # Remover as linhas que não afetam o reparo\n",
    "        df_rep_times_desc = df_rep_times_desc[\n",
    "            df_rep_times_desc[\"motivo_id\"].isin(self.af_rep)\n",
    "        ]\n",
    "\n",
    "        # Criar coluna 'afeta' para identificar as paradas que afetam o reparo\n",
    "        df_rep_times_desc[\"afeta\"] = df_rep_times_desc[\"excedente\"]\n",
    "\n",
    "        # Se desconto for nulo, substituir afeta pelo valor de tempo_registro_min\n",
    "        df_rep_times_desc.loc[\n",
    "            df_rep_times_desc[\"desconto_min\"].isnull(), \"afeta\"\n",
    "        ] = df_rep_times_desc[\"tempo_registro_min\"]\n",
    "\n",
    "        # Agrupar por maquina_id, data_registro e turno e somar o tempo de\n",
    "        # desconto e o afeta\n",
    "        df_rep_times_desc = (\n",
    "            df_rep_times_desc.groupby(\n",
    "                [\"maquina_id\", \"linha\", \"fabrica\", \"data_registro\", \"turno\"]\n",
    "            )\n",
    "            .agg(\n",
    "                {\n",
    "                    \"desconto_min\": \"sum\",\n",
    "                    \"afeta\": \"sum\",\n",
    "                }\n",
    "            )\n",
    "            .reset_index()\n",
    "        )\n",
    "\n",
    "        # Garantir que a coluna data_registro é datetime em ambos os dataframes\n",
    "        df_rep_times_desc[\"data_registro\"] = pd.to_datetime(\n",
    "            df_rep_times_desc[\"data_registro\"]\n",
    "        ).dt.date\n",
    "        df_prod_total[\"data_registro\"] = pd.to_datetime(\n",
    "            df_prod_total[\"data_registro\"]\n",
    "        ).dt.date\n",
    "\n",
    "        # Fazer merge com df_prod_total\n",
    "        df_rep_times_desc = pd.merge(\n",
    "            df_prod_total,\n",
    "            df_rep_times_desc,\n",
    "            on=[\"maquina_id\", \"linha\", \"fabrica\", \"turno\", \"data_registro\"],\n",
    "            how=\"left\",\n",
    "        )\n",
    "\n",
    "        # Ajustar desconto_min para 0 quando for nulo\n",
    "        df_rep_times_desc.loc[\n",
    "            df_rep_times_desc[\"desconto_min\"].isnull(), \"desconto_min\"\n",
    "        ] = 0\n",
    "\n",
    "        # Ajustar afeta para 0 quando for nulo\n",
    "        df_rep_times_desc.loc[df_rep_times_desc[\"afeta\"].isnull(), \"afeta\"] = 0\n",
    "\n",
    "        # Criar coluna com tempo esperado de produção\n",
    "        df_rep_times_desc[\"tempo_esperado_min\"] = df_rep_times_desc.apply(\n",
    "            lambda row: np.floor(\n",
    "                self.get_elapsed_time(row[\"turno\"]) - row[\"desconto_min\"]\n",
    "            )\n",
    "            if row[\"data_registro\"] == datetime.now().date()\n",
    "            else 480 - row[\"desconto_min\"],\n",
    "            axis=1,\n",
    "        )\n",
    "\n",
    "        # Calcular o reparo\n",
    "        df_rep_times_desc[\"reparo\"] = (\n",
    "            df_rep_times_desc[\"afeta\"]\n",
    "            / df_rep_times_desc[\"tempo_esperado_min\"]\n",
    "        )\n",
    "\n",
    "        return df_rep_times_desc"
   ]
  },
  {
   "cell_type": "markdown",
   "metadata": {},
   "source": [
    "Saída relacionada com eficiência, mostrando o esperado e o produzido\n"
   ]
  },
  {
   "cell_type": "code",
   "execution_count": 177,
   "metadata": {},
   "outputs": [
    {
     "data": {
      "text/html": [
       "<div>\n",
       "<style scoped>\n",
       "    .dataframe tbody tr th:only-of-type {\n",
       "        vertical-align: middle;\n",
       "    }\n",
       "\n",
       "    .dataframe tbody tr th {\n",
       "        vertical-align: top;\n",
       "    }\n",
       "\n",
       "    .dataframe thead th {\n",
       "        text-align: right;\n",
       "    }\n",
       "</style>\n",
       "<table border=\"1\" class=\"dataframe\">\n",
       "  <thead>\n",
       "    <tr style=\"text-align: right;\">\n",
       "      <th></th>\n",
       "      <th>maquina_id</th>\n",
       "      <th>linha</th>\n",
       "      <th>fabrica</th>\n",
       "      <th>turno</th>\n",
       "      <th>producao_total</th>\n",
       "      <th>data_registro</th>\n",
       "      <th>desconto_min</th>\n",
       "      <th>tempo_esperado_min</th>\n",
       "      <th>producao_esperada</th>\n",
       "      <th>eficiencia</th>\n",
       "    </tr>\n",
       "  </thead>\n",
       "  <tbody>\n",
       "    <tr>\n",
       "      <th>0</th>\n",
       "      <td>TMF001</td>\n",
       "      <td>8</td>\n",
       "      <td>1</td>\n",
       "      <td>NOT</td>\n",
       "      <td>0.0</td>\n",
       "      <td>2024-01-01</td>\n",
       "      <td>0.0</td>\n",
       "      <td>480.0</td>\n",
       "      <td>10176.0</td>\n",
       "      <td>0.000000</td>\n",
       "    </tr>\n",
       "    <tr>\n",
       "      <th>1</th>\n",
       "      <td>TMF001</td>\n",
       "      <td>8</td>\n",
       "      <td>1</td>\n",
       "      <td>MAT</td>\n",
       "      <td>0.0</td>\n",
       "      <td>2024-01-01</td>\n",
       "      <td>0.0</td>\n",
       "      <td>480.0</td>\n",
       "      <td>10176.0</td>\n",
       "      <td>0.000000</td>\n",
       "    </tr>\n",
       "    <tr>\n",
       "      <th>2</th>\n",
       "      <td>TMF001</td>\n",
       "      <td>8</td>\n",
       "      <td>1</td>\n",
       "      <td>VES</td>\n",
       "      <td>0.0</td>\n",
       "      <td>2024-01-01</td>\n",
       "      <td>0.0</td>\n",
       "      <td>480.0</td>\n",
       "      <td>10176.0</td>\n",
       "      <td>0.000000</td>\n",
       "    </tr>\n",
       "    <tr>\n",
       "      <th>3</th>\n",
       "      <td>TMF001</td>\n",
       "      <td>8</td>\n",
       "      <td>1</td>\n",
       "      <td>NOT</td>\n",
       "      <td>0.0</td>\n",
       "      <td>2024-01-02</td>\n",
       "      <td>0.0</td>\n",
       "      <td>480.0</td>\n",
       "      <td>10176.0</td>\n",
       "      <td>0.000000</td>\n",
       "    </tr>\n",
       "    <tr>\n",
       "      <th>4</th>\n",
       "      <td>TMF001</td>\n",
       "      <td>8</td>\n",
       "      <td>1</td>\n",
       "      <td>MAT</td>\n",
       "      <td>0.0</td>\n",
       "      <td>2024-01-02</td>\n",
       "      <td>0.0</td>\n",
       "      <td>480.0</td>\n",
       "      <td>10176.0</td>\n",
       "      <td>0.000000</td>\n",
       "    </tr>\n",
       "    <tr>\n",
       "      <th>...</th>\n",
       "      <td>...</td>\n",
       "      <td>...</td>\n",
       "      <td>...</td>\n",
       "      <td>...</td>\n",
       "      <td>...</td>\n",
       "      <td>...</td>\n",
       "      <td>...</td>\n",
       "      <td>...</td>\n",
       "      <td>...</td>\n",
       "      <td>...</td>\n",
       "    </tr>\n",
       "    <tr>\n",
       "      <th>692</th>\n",
       "      <td>TMF015</td>\n",
       "      <td>3</td>\n",
       "      <td>1</td>\n",
       "      <td>MAT</td>\n",
       "      <td>7340.0</td>\n",
       "      <td>2024-01-16</td>\n",
       "      <td>60.0</td>\n",
       "      <td>420.0</td>\n",
       "      <td>8904.0</td>\n",
       "      <td>0.824349</td>\n",
       "    </tr>\n",
       "    <tr>\n",
       "      <th>693</th>\n",
       "      <td>TMF015</td>\n",
       "      <td>3</td>\n",
       "      <td>1</td>\n",
       "      <td>VES</td>\n",
       "      <td>9290.0</td>\n",
       "      <td>2024-01-16</td>\n",
       "      <td>0.0</td>\n",
       "      <td>480.0</td>\n",
       "      <td>10176.0</td>\n",
       "      <td>0.912932</td>\n",
       "    </tr>\n",
       "    <tr>\n",
       "      <th>694</th>\n",
       "      <td>TMF015</td>\n",
       "      <td>3</td>\n",
       "      <td>1</td>\n",
       "      <td>VES</td>\n",
       "      <td>9306.0</td>\n",
       "      <td>2024-01-17</td>\n",
       "      <td>0.0</td>\n",
       "      <td>480.0</td>\n",
       "      <td>10176.0</td>\n",
       "      <td>0.914505</td>\n",
       "    </tr>\n",
       "    <tr>\n",
       "      <th>695</th>\n",
       "      <td>TMF015</td>\n",
       "      <td>3</td>\n",
       "      <td>1</td>\n",
       "      <td>NOT</td>\n",
       "      <td>9304.0</td>\n",
       "      <td>2024-01-17</td>\n",
       "      <td>0.0</td>\n",
       "      <td>480.0</td>\n",
       "      <td>10176.0</td>\n",
       "      <td>0.914308</td>\n",
       "    </tr>\n",
       "    <tr>\n",
       "      <th>696</th>\n",
       "      <td>TMF015</td>\n",
       "      <td>3</td>\n",
       "      <td>1</td>\n",
       "      <td>MAT</td>\n",
       "      <td>2416.0</td>\n",
       "      <td>2024-01-17</td>\n",
       "      <td>0.0</td>\n",
       "      <td>146.0</td>\n",
       "      <td>3095.2</td>\n",
       "      <td>0.780563</td>\n",
       "    </tr>\n",
       "  </tbody>\n",
       "</table>\n",
       "<p>697 rows × 10 columns</p>\n",
       "</div>"
      ],
      "text/plain": [
       "    maquina_id  linha fabrica turno  producao_total data_registro  \\\n",
       "0       TMF001      8       1   NOT             0.0    2024-01-01   \n",
       "1       TMF001      8       1   MAT             0.0    2024-01-01   \n",
       "2       TMF001      8       1   VES             0.0    2024-01-01   \n",
       "3       TMF001      8       1   NOT             0.0    2024-01-02   \n",
       "4       TMF001      8       1   MAT             0.0    2024-01-02   \n",
       "..         ...    ...     ...   ...             ...           ...   \n",
       "692     TMF015      3       1   MAT          7340.0    2024-01-16   \n",
       "693     TMF015      3       1   VES          9290.0    2024-01-16   \n",
       "694     TMF015      3       1   VES          9306.0    2024-01-17   \n",
       "695     TMF015      3       1   NOT          9304.0    2024-01-17   \n",
       "696     TMF015      3       1   MAT          2416.0    2024-01-17   \n",
       "\n",
       "     desconto_min  tempo_esperado_min  producao_esperada  eficiencia  \n",
       "0             0.0               480.0            10176.0    0.000000  \n",
       "1             0.0               480.0            10176.0    0.000000  \n",
       "2             0.0               480.0            10176.0    0.000000  \n",
       "3             0.0               480.0            10176.0    0.000000  \n",
       "4             0.0               480.0            10176.0    0.000000  \n",
       "..            ...                 ...                ...         ...  \n",
       "692          60.0               420.0             8904.0    0.824349  \n",
       "693           0.0               480.0            10176.0    0.912932  \n",
       "694           0.0               480.0            10176.0    0.914505  \n",
       "695           0.0               480.0            10176.0    0.914308  \n",
       "696           0.0               146.0             3095.2    0.780563  \n",
       "\n",
       "[697 rows x 10 columns]"
      ]
     },
     "execution_count": 177,
     "metadata": {},
     "output_type": "execute_result"
    }
   ],
   "source": [
    "times_data = TimesData()\n",
    "\n",
    "df_eff = times_data.get_eff_data(\n",
    "    df_maq_info_cadastro_combined, df_maq_info_prod_cad_combined\n",
    ")\n",
    "\n",
    "df_eff"
   ]
  },
  {
   "cell_type": "markdown",
   "metadata": {},
   "source": [
    "Saída Relacionada com Performance\n"
   ]
  },
  {
   "cell_type": "code",
   "execution_count": 178,
   "metadata": {},
   "outputs": [
    {
     "data": {
      "text/html": [
       "<div>\n",
       "<style scoped>\n",
       "    .dataframe tbody tr th:only-of-type {\n",
       "        vertical-align: middle;\n",
       "    }\n",
       "\n",
       "    .dataframe tbody tr th {\n",
       "        vertical-align: top;\n",
       "    }\n",
       "\n",
       "    .dataframe thead th {\n",
       "        text-align: right;\n",
       "    }\n",
       "</style>\n",
       "<table border=\"1\" class=\"dataframe\">\n",
       "  <thead>\n",
       "    <tr style=\"text-align: right;\">\n",
       "      <th></th>\n",
       "      <th>maquina_id</th>\n",
       "      <th>linha</th>\n",
       "      <th>fabrica</th>\n",
       "      <th>turno</th>\n",
       "      <th>data_registro</th>\n",
       "      <th>desconto_min</th>\n",
       "      <th>afeta</th>\n",
       "      <th>tempo_esperado_min</th>\n",
       "      <th>performance</th>\n",
       "    </tr>\n",
       "  </thead>\n",
       "  <tbody>\n",
       "    <tr>\n",
       "      <th>0</th>\n",
       "      <td>TMF001</td>\n",
       "      <td>8</td>\n",
       "      <td>1</td>\n",
       "      <td>NOT</td>\n",
       "      <td>2024-01-01</td>\n",
       "      <td>0.0</td>\n",
       "      <td>0.0</td>\n",
       "      <td>480.0</td>\n",
       "      <td>0.000000</td>\n",
       "    </tr>\n",
       "    <tr>\n",
       "      <th>1</th>\n",
       "      <td>TMF001</td>\n",
       "      <td>8</td>\n",
       "      <td>1</td>\n",
       "      <td>MAT</td>\n",
       "      <td>2024-01-01</td>\n",
       "      <td>0.0</td>\n",
       "      <td>0.0</td>\n",
       "      <td>480.0</td>\n",
       "      <td>0.000000</td>\n",
       "    </tr>\n",
       "    <tr>\n",
       "      <th>2</th>\n",
       "      <td>TMF001</td>\n",
       "      <td>8</td>\n",
       "      <td>1</td>\n",
       "      <td>VES</td>\n",
       "      <td>2024-01-01</td>\n",
       "      <td>0.0</td>\n",
       "      <td>0.0</td>\n",
       "      <td>480.0</td>\n",
       "      <td>0.000000</td>\n",
       "    </tr>\n",
       "    <tr>\n",
       "      <th>3</th>\n",
       "      <td>TMF001</td>\n",
       "      <td>8</td>\n",
       "      <td>1</td>\n",
       "      <td>NOT</td>\n",
       "      <td>2024-01-02</td>\n",
       "      <td>0.0</td>\n",
       "      <td>0.0</td>\n",
       "      <td>480.0</td>\n",
       "      <td>0.000000</td>\n",
       "    </tr>\n",
       "    <tr>\n",
       "      <th>4</th>\n",
       "      <td>TMF001</td>\n",
       "      <td>8</td>\n",
       "      <td>1</td>\n",
       "      <td>MAT</td>\n",
       "      <td>2024-01-02</td>\n",
       "      <td>0.0</td>\n",
       "      <td>0.0</td>\n",
       "      <td>480.0</td>\n",
       "      <td>0.000000</td>\n",
       "    </tr>\n",
       "    <tr>\n",
       "      <th>...</th>\n",
       "      <td>...</td>\n",
       "      <td>...</td>\n",
       "      <td>...</td>\n",
       "      <td>...</td>\n",
       "      <td>...</td>\n",
       "      <td>...</td>\n",
       "      <td>...</td>\n",
       "      <td>...</td>\n",
       "      <td>...</td>\n",
       "    </tr>\n",
       "    <tr>\n",
       "      <th>692</th>\n",
       "      <td>TMF015</td>\n",
       "      <td>3</td>\n",
       "      <td>1</td>\n",
       "      <td>MAT</td>\n",
       "      <td>2024-01-16</td>\n",
       "      <td>60.0</td>\n",
       "      <td>44.0</td>\n",
       "      <td>420.0</td>\n",
       "      <td>0.104762</td>\n",
       "    </tr>\n",
       "    <tr>\n",
       "      <th>693</th>\n",
       "      <td>TMF015</td>\n",
       "      <td>3</td>\n",
       "      <td>1</td>\n",
       "      <td>VES</td>\n",
       "      <td>2024-01-16</td>\n",
       "      <td>0.0</td>\n",
       "      <td>68.0</td>\n",
       "      <td>480.0</td>\n",
       "      <td>0.141667</td>\n",
       "    </tr>\n",
       "    <tr>\n",
       "      <th>694</th>\n",
       "      <td>TMF015</td>\n",
       "      <td>3</td>\n",
       "      <td>1</td>\n",
       "      <td>VES</td>\n",
       "      <td>2024-01-17</td>\n",
       "      <td>0.0</td>\n",
       "      <td>2.0</td>\n",
       "      <td>480.0</td>\n",
       "      <td>0.004167</td>\n",
       "    </tr>\n",
       "    <tr>\n",
       "      <th>695</th>\n",
       "      <td>TMF015</td>\n",
       "      <td>3</td>\n",
       "      <td>1</td>\n",
       "      <td>NOT</td>\n",
       "      <td>2024-01-17</td>\n",
       "      <td>0.0</td>\n",
       "      <td>64.0</td>\n",
       "      <td>480.0</td>\n",
       "      <td>0.133333</td>\n",
       "    </tr>\n",
       "    <tr>\n",
       "      <th>696</th>\n",
       "      <td>TMF015</td>\n",
       "      <td>3</td>\n",
       "      <td>1</td>\n",
       "      <td>MAT</td>\n",
       "      <td>2024-01-17</td>\n",
       "      <td>0.0</td>\n",
       "      <td>0.0</td>\n",
       "      <td>146.0</td>\n",
       "      <td>0.000000</td>\n",
       "    </tr>\n",
       "  </tbody>\n",
       "</table>\n",
       "<p>697 rows × 9 columns</p>\n",
       "</div>"
      ],
      "text/plain": [
       "    maquina_id  linha fabrica turno data_registro  desconto_min  afeta  \\\n",
       "0       TMF001      8       1   NOT    2024-01-01           0.0    0.0   \n",
       "1       TMF001      8       1   MAT    2024-01-01           0.0    0.0   \n",
       "2       TMF001      8       1   VES    2024-01-01           0.0    0.0   \n",
       "3       TMF001      8       1   NOT    2024-01-02           0.0    0.0   \n",
       "4       TMF001      8       1   MAT    2024-01-02           0.0    0.0   \n",
       "..         ...    ...     ...   ...           ...           ...    ...   \n",
       "692     TMF015      3       1   MAT    2024-01-16          60.0   44.0   \n",
       "693     TMF015      3       1   VES    2024-01-16           0.0   68.0   \n",
       "694     TMF015      3       1   VES    2024-01-17           0.0    2.0   \n",
       "695     TMF015      3       1   NOT    2024-01-17           0.0   64.0   \n",
       "696     TMF015      3       1   MAT    2024-01-17           0.0    0.0   \n",
       "\n",
       "     tempo_esperado_min  performance  \n",
       "0                 480.0     0.000000  \n",
       "1                 480.0     0.000000  \n",
       "2                 480.0     0.000000  \n",
       "3                 480.0     0.000000  \n",
       "4                 480.0     0.000000  \n",
       "..                  ...          ...  \n",
       "692               420.0     0.104762  \n",
       "693               480.0     0.141667  \n",
       "694               480.0     0.004167  \n",
       "695               480.0     0.133333  \n",
       "696               146.0     0.000000  \n",
       "\n",
       "[697 rows x 9 columns]"
      ]
     },
     "execution_count": 178,
     "metadata": {},
     "output_type": "execute_result"
    }
   ],
   "source": [
    "df_perf = times_data.get_perf_data(\n",
    "    df_maq_info_cadastro_combined, df_maq_info_prod_cad_combined\n",
    ")\n",
    "\n",
    "df_perf"
   ]
  },
  {
   "cell_type": "markdown",
   "metadata": {},
   "source": [
    "Saída relacionada a Reparos\n"
   ]
  },
  {
   "cell_type": "code",
   "execution_count": 179,
   "metadata": {},
   "outputs": [
    {
     "data": {
      "text/html": [
       "<div>\n",
       "<style scoped>\n",
       "    .dataframe tbody tr th:only-of-type {\n",
       "        vertical-align: middle;\n",
       "    }\n",
       "\n",
       "    .dataframe tbody tr th {\n",
       "        vertical-align: top;\n",
       "    }\n",
       "\n",
       "    .dataframe thead th {\n",
       "        text-align: right;\n",
       "    }\n",
       "</style>\n",
       "<table border=\"1\" class=\"dataframe\">\n",
       "  <thead>\n",
       "    <tr style=\"text-align: right;\">\n",
       "      <th></th>\n",
       "      <th>maquina_id</th>\n",
       "      <th>linha</th>\n",
       "      <th>fabrica</th>\n",
       "      <th>turno</th>\n",
       "      <th>data_registro</th>\n",
       "      <th>desconto_min</th>\n",
       "      <th>afeta</th>\n",
       "      <th>tempo_esperado_min</th>\n",
       "      <th>reparo</th>\n",
       "    </tr>\n",
       "  </thead>\n",
       "  <tbody>\n",
       "    <tr>\n",
       "      <th>0</th>\n",
       "      <td>TMF001</td>\n",
       "      <td>8</td>\n",
       "      <td>1</td>\n",
       "      <td>NOT</td>\n",
       "      <td>2024-01-01</td>\n",
       "      <td>0.0</td>\n",
       "      <td>0.0</td>\n",
       "      <td>480.0</td>\n",
       "      <td>0.0</td>\n",
       "    </tr>\n",
       "    <tr>\n",
       "      <th>1</th>\n",
       "      <td>TMF001</td>\n",
       "      <td>8</td>\n",
       "      <td>1</td>\n",
       "      <td>MAT</td>\n",
       "      <td>2024-01-01</td>\n",
       "      <td>0.0</td>\n",
       "      <td>0.0</td>\n",
       "      <td>480.0</td>\n",
       "      <td>0.0</td>\n",
       "    </tr>\n",
       "    <tr>\n",
       "      <th>2</th>\n",
       "      <td>TMF001</td>\n",
       "      <td>8</td>\n",
       "      <td>1</td>\n",
       "      <td>VES</td>\n",
       "      <td>2024-01-01</td>\n",
       "      <td>0.0</td>\n",
       "      <td>0.0</td>\n",
       "      <td>480.0</td>\n",
       "      <td>0.0</td>\n",
       "    </tr>\n",
       "    <tr>\n",
       "      <th>3</th>\n",
       "      <td>TMF001</td>\n",
       "      <td>8</td>\n",
       "      <td>1</td>\n",
       "      <td>NOT</td>\n",
       "      <td>2024-01-02</td>\n",
       "      <td>0.0</td>\n",
       "      <td>0.0</td>\n",
       "      <td>480.0</td>\n",
       "      <td>0.0</td>\n",
       "    </tr>\n",
       "    <tr>\n",
       "      <th>4</th>\n",
       "      <td>TMF001</td>\n",
       "      <td>8</td>\n",
       "      <td>1</td>\n",
       "      <td>MAT</td>\n",
       "      <td>2024-01-02</td>\n",
       "      <td>0.0</td>\n",
       "      <td>0.0</td>\n",
       "      <td>480.0</td>\n",
       "      <td>0.0</td>\n",
       "    </tr>\n",
       "    <tr>\n",
       "      <th>...</th>\n",
       "      <td>...</td>\n",
       "      <td>...</td>\n",
       "      <td>...</td>\n",
       "      <td>...</td>\n",
       "      <td>...</td>\n",
       "      <td>...</td>\n",
       "      <td>...</td>\n",
       "      <td>...</td>\n",
       "      <td>...</td>\n",
       "    </tr>\n",
       "    <tr>\n",
       "      <th>692</th>\n",
       "      <td>TMF015</td>\n",
       "      <td>3</td>\n",
       "      <td>1</td>\n",
       "      <td>MAT</td>\n",
       "      <td>2024-01-16</td>\n",
       "      <td>0.0</td>\n",
       "      <td>0.0</td>\n",
       "      <td>480.0</td>\n",
       "      <td>0.0</td>\n",
       "    </tr>\n",
       "    <tr>\n",
       "      <th>693</th>\n",
       "      <td>TMF015</td>\n",
       "      <td>3</td>\n",
       "      <td>1</td>\n",
       "      <td>VES</td>\n",
       "      <td>2024-01-16</td>\n",
       "      <td>0.0</td>\n",
       "      <td>0.0</td>\n",
       "      <td>480.0</td>\n",
       "      <td>0.0</td>\n",
       "    </tr>\n",
       "    <tr>\n",
       "      <th>694</th>\n",
       "      <td>TMF015</td>\n",
       "      <td>3</td>\n",
       "      <td>1</td>\n",
       "      <td>VES</td>\n",
       "      <td>2024-01-17</td>\n",
       "      <td>0.0</td>\n",
       "      <td>0.0</td>\n",
       "      <td>480.0</td>\n",
       "      <td>0.0</td>\n",
       "    </tr>\n",
       "    <tr>\n",
       "      <th>695</th>\n",
       "      <td>TMF015</td>\n",
       "      <td>3</td>\n",
       "      <td>1</td>\n",
       "      <td>NOT</td>\n",
       "      <td>2024-01-17</td>\n",
       "      <td>0.0</td>\n",
       "      <td>0.0</td>\n",
       "      <td>480.0</td>\n",
       "      <td>0.0</td>\n",
       "    </tr>\n",
       "    <tr>\n",
       "      <th>696</th>\n",
       "      <td>TMF015</td>\n",
       "      <td>3</td>\n",
       "      <td>1</td>\n",
       "      <td>MAT</td>\n",
       "      <td>2024-01-17</td>\n",
       "      <td>0.0</td>\n",
       "      <td>0.0</td>\n",
       "      <td>146.0</td>\n",
       "      <td>0.0</td>\n",
       "    </tr>\n",
       "  </tbody>\n",
       "</table>\n",
       "<p>697 rows × 9 columns</p>\n",
       "</div>"
      ],
      "text/plain": [
       "    maquina_id  linha fabrica turno data_registro  desconto_min  afeta  \\\n",
       "0       TMF001      8       1   NOT    2024-01-01           0.0    0.0   \n",
       "1       TMF001      8       1   MAT    2024-01-01           0.0    0.0   \n",
       "2       TMF001      8       1   VES    2024-01-01           0.0    0.0   \n",
       "3       TMF001      8       1   NOT    2024-01-02           0.0    0.0   \n",
       "4       TMF001      8       1   MAT    2024-01-02           0.0    0.0   \n",
       "..         ...    ...     ...   ...           ...           ...    ...   \n",
       "692     TMF015      3       1   MAT    2024-01-16           0.0    0.0   \n",
       "693     TMF015      3       1   VES    2024-01-16           0.0    0.0   \n",
       "694     TMF015      3       1   VES    2024-01-17           0.0    0.0   \n",
       "695     TMF015      3       1   NOT    2024-01-17           0.0    0.0   \n",
       "696     TMF015      3       1   MAT    2024-01-17           0.0    0.0   \n",
       "\n",
       "     tempo_esperado_min  reparo  \n",
       "0                 480.0     0.0  \n",
       "1                 480.0     0.0  \n",
       "2                 480.0     0.0  \n",
       "3                 480.0     0.0  \n",
       "4                 480.0     0.0  \n",
       "..                  ...     ...  \n",
       "692               480.0     0.0  \n",
       "693               480.0     0.0  \n",
       "694               480.0     0.0  \n",
       "695               480.0     0.0  \n",
       "696               146.0     0.0  \n",
       "\n",
       "[697 rows x 9 columns]"
      ]
     },
     "execution_count": 179,
     "metadata": {},
     "output_type": "execute_result"
    }
   ],
   "source": [
    "df_reparos = times_data.get_reparos_data(\n",
    "    df_maq_info_cadastro_combined, df_maq_info_prod_cad_combined\n",
    ")\n",
    "\n",
    "df_reparos"
   ]
  },
  {
   "cell_type": "markdown",
   "metadata": {},
   "source": [
    "# Teste de Gráficos\n"
   ]
  },
  {
   "cell_type": "code",
   "execution_count": 180,
   "metadata": {},
   "outputs": [],
   "source": [
    "import seaborn as sns\n",
    "import matplotlib.pyplot as plt\n",
    "import matplotlib.colors as mcolors\n",
    "\n",
    "# cSpell: words mcolors, eficiencia, vmin, vmax, cmap, figsize, linewidths, annot, cbar, xlabel,\n",
    "# cSpell: words ylabel, xticks, yticks\n",
    "\n",
    "\n",
    "def graph_heatmap_eff(dataframe: pd.DataFrame, meta: int):\n",
    "    # Converter 'data_registro' para datetime e criar uma nova coluna 'data_turno'\n",
    "    dataframe[\"data_registro\"] = pd.to_datetime(dataframe[\"data_registro\"])\n",
    "    dataframe[\"data_turno\"] = dataframe[\"data_registro\"].dt.strftime(\n",
    "        \"%Y-%m-%d\"\n",
    "    )\n",
    "\n",
    "    # Agrupar por 'data_turno' e 'turno' e calcular a média da eficiência\n",
    "    df_grouped = (\n",
    "        dataframe.groupby([\"data_turno\", \"turno\"])[\"eficiencia\"]\n",
    "        .mean()\n",
    "        .reset_index()\n",
    "    )\n",
    "\n",
    "    # Remodelar os dados para o formato de heatmap\n",
    "    df_pivot = df_grouped.pivot(\n",
    "        index=\"turno\", columns=\"data_turno\", values=\"eficiencia\"\n",
    "    )\n",
    "\n",
    "    # Reordenar o índice do DataFrame\n",
    "    df_pivot = df_pivot.reindex([\"NOT\", \"MAT\", \"VES\"])\n",
    "\n",
    "    # Definir as cores baseado na eficiência\n",
    "    colors = [\"red\", \"red\", \"green\", \"green\"]\n",
    "    vmin, vmax = 0, 1  # Definir o intervalo de cores de 0 a 1\n",
    "    norm = plt.Normalize(vmin, vmax)\n",
    "    nodes = [\n",
    "        vmin,\n",
    "        0.89,\n",
    "        0.9,\n",
    "        vmax,\n",
    "    ]  # Definir o ponto de mudança de cor para 90%\n",
    "    cmap = mcolors.LinearSegmentedColormap.from_list(\n",
    "        \"\", list(zip(nodes, colors))\n",
    "    )\n",
    "\n",
    "    # Criar o gráfico de calor\n",
    "    plt.figure(figsize=(15, 5))\n",
    "    sns.heatmap(\n",
    "        df_pivot,\n",
    "        cmap=cmap,\n",
    "        norm=norm,\n",
    "        linewidths=0.5,\n",
    "        annot=True,\n",
    "        fmt=\".1%\",\n",
    "        cbar=False,\n",
    "    )\n",
    "    plt.title(f\"Eficiência - Meta {meta}%\")\n",
    "    plt.xlabel(\"Data\")\n",
    "    plt.ylabel(\"Turno\")\n",
    "\n",
    "    # Definir os rótulos do eixo x para os dias e rotacionar 45 graus\n",
    "    days = [date[-2:] for date in df_pivot.columns]\n",
    "    plt.xticks(ticks=plt.xticks()[0], labels=days, rotation=45)\n",
    "\n",
    "    # Rotacionar os rótulos do eixo y\n",
    "    plt.yticks(rotation=45)\n",
    "\n",
    "    # Remover os ticks dos eixos x e y\n",
    "    plt.gca().tick_params(axis=\"both\", which=\"both\", length=0)\n",
    "\n",
    "    plt.show()"
   ]
  },
  {
   "cell_type": "markdown",
   "metadata": {},
   "source": [
    "Novo código usado para o gráfico de calor usando plotly já que tive problemas ao renderizar matplotlib no dash\n"
   ]
  },
  {
   "cell_type": "code",
   "execution_count": 181,
   "metadata": {},
   "outputs": [],
   "source": [
    "def test(dataframe, meta):\n",
    "    # Converter 'data_registro' para datetime e criar uma nova coluna 'data_turno'\n",
    "    dataframe[\"data_registro\"] = pd.to_datetime(dataframe[\"data_registro\"])\n",
    "    dataframe[\"data_turno\"] = dataframe[\"data_registro\"].dt.strftime(\n",
    "        \"%Y-%m-%d\"\n",
    "    )\n",
    "\n",
    "    # Agrupar por 'data_turno' e 'turno' e calcular a média da eficiência\n",
    "    df_grouped = (\n",
    "        dataframe.groupby([\"data_turno\", \"turno\"])[\"eficiencia\"]\n",
    "        .mean()\n",
    "        .reset_index()\n",
    "    )\n",
    "\n",
    "    # Remodelar os dados para o formato de heatmap\n",
    "    df_pivot = df_grouped.pivot(\n",
    "        index=\"turno\", columns=\"data_turno\", values=\"eficiencia\"\n",
    "    )\n",
    "\n",
    "    # Reordenar o índice do DataFrame\n",
    "    df_pivot = df_pivot.reindex([\"VES\", \"MAT\", \"NOT\"])\n",
    "\n",
    "    # Criar uma escala de cores personalizada\n",
    "    colorscale = [[0, \"red\"], [0.9, \"red\"], [0.9, \"green\"], [1, \"green\"]]\n",
    "\n",
    "    fig = go.Figure(\n",
    "        data=go.Heatmap(\n",
    "            z=df_pivot.values,\n",
    "            x=df_pivot.columns,\n",
    "            y=df_pivot.index,\n",
    "            colorscale=colorscale,\n",
    "            hovertemplate=\"Turno: %{y}<br>Dia: %{x}<br>Valor: %{z:.1%}\",\n",
    "            hoverongaps=False,  # Não permitir hover em espaços vazios\n",
    "            zmin=0,  # Definir o valor mínimo da escala de cores\n",
    "            zmax=1,  # Definir o valor máximo da escala de cores\n",
    "            showscale=False,  # Mostrar a escala de cores\n",
    "            xgap=1,  # Definir o espaçamento entre os dias\n",
    "            ygap=1,  # Definir o espaçamento entre os turnos\n",
    "        )\n",
    "    )\n",
    "\n",
    "    # Adicionar anotações de texto\n",
    "    for i in range(len(df_pivot.index)):\n",
    "        for j in range(len(df_pivot.columns)):\n",
    "            fig.add_annotation(\n",
    "                x=df_pivot.columns[j],\n",
    "                y=df_pivot.index[i],\n",
    "                text=f\"{df_pivot.values[i][j]:.1%}\",\n",
    "                showarrow=False,\n",
    "                font=dict(color=\"white\", size=8),\n",
    "            )\n",
    "\n",
    "    # Definir o título do gráfico\n",
    "    fig.update_layout(\n",
    "        title=f\"Eficiência - Meta {meta}%\",\n",
    "        xaxis_title=\"Dia\",\n",
    "        yaxis_title=\"Turno\",\n",
    "        title_x=0.5,  # Centralizar o título\n",
    "        xaxis_nticks=31,  # Definir o número de dias\n",
    "        xaxis=dict(\n",
    "            tickmode=\"linear\",\n",
    "            tickvals=list(range(1, 32)),  # Definir os dias\n",
    "            ticktext=list(range(1, 32)),  # Definir os dias\n",
    "            tickangle=45,  # Rotacionar os dias\n",
    "        ),\n",
    "        yaxis=dict(\n",
    "            tickmode=\"linear\",\n",
    "            tickangle=45,\n",
    "        ),\n",
    "        plot_bgcolor=\"white\",\n",
    "        margin=dict(t=40, b=40, l=40, r=40),\n",
    "    )\n",
    "\n",
    "    fig.show()"
   ]
  },
  {
   "cell_type": "code",
   "execution_count": 182,
   "metadata": {},
   "outputs": [
    {
     "data": {
      "image/png": "[encoded data removed]",
      "text/plain": [
       "<Figure size 1500x500 with 1 Axes>"
      ]
     },
     "metadata": {},
     "output_type": "display_data"
    },
    {
     "data": {
      "application/vnd.plotly.v1+json": {
       "config": {
        "plotlyServerURL": "https://plot.ly"
       },
       "data": [
        {
         "colorscale": [
          [
           0,
           "red"
          ],
          [
           0.9,
           "red"
          ],
          [
           0.9,
           "green"
          ],
          [
           1,
           "green"
          ]
         ],
         "hoverongaps": false,
         "hovertemplate": "Turno: %{y}<br>Dia: %{x}<br>Valor: %{z:.1%}",
         "showscale": false,
         "type": "heatmap",
         "x": [
          "2024-01-01",
          "2024-01-02",
          "2024-01-03",
          "2024-01-04",
          "2024-01-05",
          "2024-01-06",
          "2024-01-07",
          "2024-01-08",
          "2024-01-09",
          "2024-01-10",
          "2024-01-11",
          "2024-01-12",
          "2024-01-13",
          "2024-01-14",
          "2024-01-15",
          "2024-01-16",
          "2024-01-17"
         ],
         "xgap": 1,
         "y": [
          "VES",
          "MAT",
          "NOT"
         ],
         "ygap": 1,
         "z": [
          [
           0,
           0.00290599730458221,
           0.47543038441791813,
           0.503970927993839,
           0.4763268514953151,
           0.0008563566936208445,
           0.0016565588499550762,
           0.5083369432678733,
           0.5524261591429024,
           0.5087280195096907,
           0.5215593312796817,
           0.020510444743935312,
           0,
           0.00011230907457322552,
           0.38337170560047923,
           0.47542035682197403,
           0.5220125786163522
          ],
          [
           0,
           0,
           0.5011594126291352,
           0.5449913552614746,
           0.5787127354653097,
           0.5183625336927223,
           0,
           0.5246922441653056,
           0.5296856950327301,
           0.5349514583799889,
           0.5615610157520176,
           0.4731581311769991,
           0,
           0,
           0.39236791695310386,
           0.42307635397302373,
           0.4905189330837013
          ],
          [
           0,
           0,
           0.4230542452830189,
           0.5122136118598383,
           0.5284623283275575,
           0.5188017423950713,
           0,
           0.5183818312319974,
           0.5112549736875882,
           0.5172599488173476,
           0.497206311769991,
           0.4600580798357079,
           0,
           0,
           0.44730297779489153,
           0.4579800277029051,
           0.4658720799640611
          ]
         ],
         "zmax": 1,
         "zmin": 0
        }
       ],
       "layout": {
        "annotations": [
         {
          "font": {
           "color": "white",
           "size": 8
          },
          "showarrow": false,
          "text": "0.0%",
          "x": "2024-01-01",
          "y": "VES"
         },
         {
          "font": {
           "color": "white",
           "size": 8
          },
          "showarrow": false,
          "text": "0.3%",
          "x": "2024-01-02",
          "y": "VES"
         },
         {
          "font": {
           "color": "white",
           "size": 8
          },
          "showarrow": false,
          "text": "47.5%",
          "x": "2024-01-03",
          "y": "VES"
         },
         {
          "font": {
           "color": "white",
           "size": 8
          },
          "showarrow": false,
          "text": "50.4%",
          "x": "2024-01-04",
          "y": "VES"
         },
         {
          "font": {
           "color": "white",
           "size": 8
          },
          "showarrow": false,
          "text": "47.6%",
          "x": "2024-01-05",
          "y": "VES"
         },
         {
          "font": {
           "color": "white",
           "size": 8
          },
          "showarrow": false,
          "text": "0.1%",
          "x": "2024-01-06",
          "y": "VES"
         },
         {
          "font": {
           "color": "white",
           "size": 8
          },
          "showarrow": false,
          "text": "0.2%",
          "x": "2024-01-07",
          "y": "VES"
         },
         {
          "font": {
           "color": "white",
           "size": 8
          },
          "showarrow": false,
          "text": "50.8%",
          "x": "2024-01-08",
          "y": "VES"
         },
         {
          "font": {
           "color": "white",
           "size": 8
          },
          "showarrow": false,
          "text": "55.2%",
          "x": "2024-01-09",
          "y": "VES"
         },
         {
          "font": {
           "color": "white",
           "size": 8
          },
          "showarrow": false,
          "text": "50.9%",
          "x": "2024-01-10",
          "y": "VES"
         },
         {
          "font": {
           "color": "white",
           "size": 8
          },
          "showarrow": false,
          "text": "52.2%",
          "x": "2024-01-11",
          "y": "VES"
         },
         {
          "font": {
           "color": "white",
           "size": 8
          },
          "showarrow": false,
          "text": "2.1%",
          "x": "2024-01-12",
          "y": "VES"
         },
         {
          "font": {
           "color": "white",
           "size": 8
          },
          "showarrow": false,
          "text": "0.0%",
          "x": "2024-01-13",
          "y": "VES"
         },
         {
          "font": {
           "color": "white",
           "size": 8
          },
          "showarrow": false,
          "text": "0.0%",
          "x": "2024-01-14",
          "y": "VES"
         },
         {
          "font": {
           "color": "white",
           "size": 8
          },
          "showarrow": false,
          "text": "38.3%",
          "x": "2024-01-15",
          "y": "VES"
         },
         {
          "font": {
           "color": "white",
           "size": 8
          },
          "showarrow": false,
          "text": "47.5%",
          "x": "2024-01-16",
          "y": "VES"
         },
         {
          "font": {
           "color": "white",
           "size": 8
          },
          "showarrow": false,
          "text": "52.2%",
          "x": "2024-01-17",
          "y": "VES"
         },
         {
          "font": {
           "color": "white",
           "size": 8
          },
          "showarrow": false,
          "text": "0.0%",
          "x": "2024-01-01",
          "y": "MAT"
         },
         {
          "font": {
           "color": "white",
           "size": 8
          },
          "showarrow": false,
          "text": "0.0%",
          "x": "2024-01-02",
          "y": "MAT"
         },
         {
          "font": {
           "color": "white",
           "size": 8
          },
          "showarrow": false,
          "text": "50.1%",
          "x": "2024-01-03",
          "y": "MAT"
         },
         {
          "font": {
           "color": "white",
           "size": 8
          },
          "showarrow": false,
          "text": "54.5%",
          "x": "2024-01-04",
          "y": "MAT"
         },
         {
          "font": {
           "color": "white",
           "size": 8
          },
          "showarrow": false,
          "text": "57.9%",
          "x": "2024-01-05",
          "y": "MAT"
         },
         {
          "font": {
           "color": "white",
           "size": 8
          },
          "showarrow": false,
          "text": "51.8%",
          "x": "2024-01-06",
          "y": "MAT"
         },
         {
          "font": {
           "color": "white",
           "size": 8
          },
          "showarrow": false,
          "text": "0.0%",
          "x": "2024-01-07",
          "y": "MAT"
         },
         {
          "font": {
           "color": "white",
           "size": 8
          },
          "showarrow": false,
          "text": "52.5%",
          "x": "2024-01-08",
          "y": "MAT"
         },
         {
          "font": {
           "color": "white",
           "size": 8
          },
          "showarrow": false,
          "text": "53.0%",
          "x": "2024-01-09",
          "y": "MAT"
         },
         {
          "font": {
           "color": "white",
           "size": 8
          },
          "showarrow": false,
          "text": "53.5%",
          "x": "2024-01-10",
          "y": "MAT"
         },
         {
          "font": {
           "color": "white",
           "size": 8
          },
          "showarrow": false,
          "text": "56.2%",
          "x": "2024-01-11",
          "y": "MAT"
         },
         {
          "font": {
           "color": "white",
           "size": 8
          },
          "showarrow": false,
          "text": "47.3%",
          "x": "2024-01-12",
          "y": "MAT"
         },
         {
          "font": {
           "color": "white",
           "size": 8
          },
          "showarrow": false,
          "text": "0.0%",
          "x": "2024-01-13",
          "y": "MAT"
         },
         {
          "font": {
           "color": "white",
           "size": 8
          },
          "showarrow": false,
          "text": "0.0%",
          "x": "2024-01-14",
          "y": "MAT"
         },
         {
          "font": {
           "color": "white",
           "size": 8
          },
          "showarrow": false,
          "text": "39.2%",
          "x": "2024-01-15",
          "y": "MAT"
         },
         {
          "font": {
           "color": "white",
           "size": 8
          },
          "showarrow": false,
          "text": "42.3%",
          "x": "2024-01-16",
          "y": "MAT"
         },
         {
          "font": {
           "color": "white",
           "size": 8
          },
          "showarrow": false,
          "text": "49.1%",
          "x": "2024-01-17",
          "y": "MAT"
         },
         {
          "font": {
           "color": "white",
           "size": 8
          },
          "showarrow": false,
          "text": "0.0%",
          "x": "2024-01-01",
          "y": "NOT"
         },
         {
          "font": {
           "color": "white",
           "size": 8
          },
          "showarrow": false,
          "text": "0.0%",
          "x": "2024-01-02",
          "y": "NOT"
         },
         {
          "font": {
           "color": "white",
           "size": 8
          },
          "showarrow": false,
          "text": "42.3%",
          "x": "2024-01-03",
          "y": "NOT"
         },
         {
          "font": {
           "color": "white",
           "size": 8
          },
          "showarrow": false,
          "text": "51.2%",
          "x": "2024-01-04",
          "y": "NOT"
         },
         {
          "font": {
           "color": "white",
           "size": 8
          },
          "showarrow": false,
          "text": "52.8%",
          "x": "2024-01-05",
          "y": "NOT"
         },
         {
          "font": {
           "color": "white",
           "size": 8
          },
          "showarrow": false,
          "text": "51.9%",
          "x": "2024-01-06",
          "y": "NOT"
         },
         {
          "font": {
           "color": "white",
           "size": 8
          },
          "showarrow": false,
          "text": "0.0%",
          "x": "2024-01-07",
          "y": "NOT"
         },
         {
          "font": {
           "color": "white",
           "size": 8
          },
          "showarrow": false,
          "text": "51.8%",
          "x": "2024-01-08",
          "y": "NOT"
         },
         {
          "font": {
           "color": "white",
           "size": 8
          },
          "showarrow": false,
          "text": "51.1%",
          "x": "2024-01-09",
          "y": "NOT"
         },
         {
          "font": {
           "color": "white",
           "size": 8
          },
          "showarrow": false,
          "text": "51.7%",
          "x": "2024-01-10",
          "y": "NOT"
         },
         {
          "font": {
           "color": "white",
           "size": 8
          },
          "showarrow": false,
          "text": "49.7%",
          "x": "2024-01-11",
          "y": "NOT"
         },
         {
          "font": {
           "color": "white",
           "size": 8
          },
          "showarrow": false,
          "text": "46.0%",
          "x": "2024-01-12",
          "y": "NOT"
         },
         {
          "font": {
           "color": "white",
           "size": 8
          },
          "showarrow": false,
          "text": "0.0%",
          "x": "2024-01-13",
          "y": "NOT"
         },
         {
          "font": {
           "color": "white",
           "size": 8
          },
          "showarrow": false,
          "text": "0.0%",
          "x": "2024-01-14",
          "y": "NOT"
         },
         {
          "font": {
           "color": "white",
           "size": 8
          },
          "showarrow": false,
          "text": "44.7%",
          "x": "2024-01-15",
          "y": "NOT"
         },
         {
          "font": {
           "color": "white",
           "size": 8
          },
          "showarrow": false,
          "text": "45.8%",
          "x": "2024-01-16",
          "y": "NOT"
         },
         {
          "font": {
           "color": "white",
           "size": 8
          },
          "showarrow": false,
          "text": "46.6%",
          "x": "2024-01-17",
          "y": "NOT"
         }
        ],
        "margin": {
         "b": 40,
         "l": 40,
         "r": 40,
         "t": 40
        },
        "plot_bgcolor": "white",
        "template": {
         "data": {
          "bar": [
           {
            "error_x": {
             "color": "#2a3f5f"
            },
            "error_y": {
             "color": "#2a3f5f"
            },
            "marker": {
             "line": {
              "color": "#E5ECF6",
              "width": 0.5
             },
             "pattern": {
              "fillmode": "overlay",
              "size": 10,
              "solidity": 0.2
             }
            },
            "type": "bar"
           }
          ],
          "barpolar": [
           {
            "marker": {
             "line": {
              "color": "#E5ECF6",
              "width": 0.5
             },
             "pattern": {
              "fillmode": "overlay",
              "size": 10,
              "solidity": 0.2
             }
            },
            "type": "barpolar"
           }
          ],
          "carpet": [
           {
            "aaxis": {
             "endlinecolor": "#2a3f5f",
             "gridcolor": "white",
             "linecolor": "white",
             "minorgridcolor": "white",
             "startlinecolor": "#2a3f5f"
            },
            "baxis": {
             "endlinecolor": "#2a3f5f",
             "gridcolor": "white",
             "linecolor": "white",
             "minorgridcolor": "white",
             "startlinecolor": "#2a3f5f"
            },
            "type": "carpet"
           }
          ],
          "choropleth": [
           {
            "colorbar": {
             "outlinewidth": 0,
             "ticks": ""
            },
            "type": "choropleth"
           }
          ],
          "contour": [
           {
            "colorbar": {
             "outlinewidth": 0,
             "ticks": ""
            },
            "colorscale": [
             [
              0,
              "#0d0887"
             ],
             [
              0.1111111111111111,
              "#46039f"
             ],
             [
              0.2222222222222222,
              "#7201a8"
             ],
             [
              0.3333333333333333,
              "#9c179e"
             ],
             [
              0.4444444444444444,
              "#bd3786"
             ],
             [
              0.5555555555555556,
              "#d8576b"
             ],
             [
              0.6666666666666666,
              "#ed7953"
             ],
             [
              0.7777777777777778,
              "#fb9f3a"
             ],
             [
              0.8888888888888888,
              "#fdca26"
             ],
             [
              1,
              "#f0f921"
             ]
            ],
            "type": "contour"
           }
          ],
          "contourcarpet": [
           {
            "colorbar": {
             "outlinewidth": 0,
             "ticks": ""
            },
            "type": "contourcarpet"
           }
          ],
          "heatmap": [
           {
            "colorbar": {
             "outlinewidth": 0,
             "ticks": ""
            },
            "colorscale": [
             [
              0,
              "#0d0887"
             ],
             [
              0.1111111111111111,
              "#46039f"
             ],
             [
              0.2222222222222222,
              "#7201a8"
             ],
             [
              0.3333333333333333,
              "#9c179e"
             ],
             [
              0.4444444444444444,
              "#bd3786"
             ],
             [
              0.5555555555555556,
              "#d8576b"
             ],
             [
              0.6666666666666666,
              "#ed7953"
             ],
             [
              0.7777777777777778,
              "#fb9f3a"
             ],
             [
              0.8888888888888888,
              "#fdca26"
             ],
             [
              1,
              "#f0f921"
             ]
            ],
            "type": "heatmap"
           }
          ],
          "heatmapgl": [
           {
            "colorbar": {
             "outlinewidth": 0,
             "ticks": ""
            },
            "colorscale": [
             [
              0,
              "#0d0887"
             ],
             [
              0.1111111111111111,
              "#46039f"
             ],
             [
              0.2222222222222222,
              "#7201a8"
             ],
             [
              0.3333333333333333,
              "#9c179e"
             ],
             [
              0.4444444444444444,
              "#bd3786"
             ],
             [
              0.5555555555555556,
              "#d8576b"
             ],
             [
              0.6666666666666666,
              "#ed7953"
             ],
             [
              0.7777777777777778,
              "#fb9f3a"
             ],
             [
              0.8888888888888888,
              "#fdca26"
             ],
             [
              1,
              "#f0f921"
             ]
            ],
            "type": "heatmapgl"
           }
          ],
          "histogram": [
           {
            "marker": {
             "pattern": {
              "fillmode": "overlay",
              "size": 10,
              "solidity": 0.2
             }
            },
            "type": "histogram"
           }
          ],
          "histogram2d": [
           {
            "colorbar": {
             "outlinewidth": 0,
             "ticks": ""
            },
            "colorscale": [
             [
              0,
              "#0d0887"
             ],
             [
              0.1111111111111111,
              "#46039f"
             ],
             [
              0.2222222222222222,
              "#7201a8"
             ],
             [
              0.3333333333333333,
              "#9c179e"
             ],
             [
              0.4444444444444444,
              "#bd3786"
             ],
             [
              0.5555555555555556,
              "#d8576b"
             ],
             [
              0.6666666666666666,
              "#ed7953"
             ],
             [
              0.7777777777777778,
              "#fb9f3a"
             ],
             [
              0.8888888888888888,
              "#fdca26"
             ],
             [
              1,
              "#f0f921"
             ]
            ],
            "type": "histogram2d"
           }
          ],
          "histogram2dcontour": [
           {
            "colorbar": {
             "outlinewidth": 0,
             "ticks": ""
            },
            "colorscale": [
             [
              0,
              "#0d0887"
             ],
             [
              0.1111111111111111,
              "#46039f"
             ],
             [
              0.2222222222222222,
              "#7201a8"
             ],
             [
              0.3333333333333333,
              "#9c179e"
             ],
             [
              0.4444444444444444,
              "#bd3786"
             ],
             [
              0.5555555555555556,
              "#d8576b"
             ],
             [
              0.6666666666666666,
              "#ed7953"
             ],
             [
              0.7777777777777778,
              "#fb9f3a"
             ],
             [
              0.8888888888888888,
              "#fdca26"
             ],
             [
              1,
              "#f0f921"
             ]
            ],
            "type": "histogram2dcontour"
           }
          ],
          "mesh3d": [
           {
            "colorbar": {
             "outlinewidth": 0,
             "ticks": ""
            },
            "type": "mesh3d"
           }
          ],
          "parcoords": [
           {
            "line": {
             "colorbar": {
              "outlinewidth": 0,
              "ticks": ""
             }
            },
            "type": "parcoords"
           }
          ],
          "pie": [
           {
            "automargin": true,
            "type": "pie"
           }
          ],
          "scatter": [
           {
            "fillpattern": {
             "fillmode": "overlay",
             "size": 10,
             "solidity": 0.2
            },
            "type": "scatter"
           }
          ],
          "scatter3d": [
           {
            "line": {
             "colorbar": {
              "outlinewidth": 0,
              "ticks": ""
             }
            },
            "marker": {
             "colorbar": {
              "outlinewidth": 0,
              "ticks": ""
             }
            },
            "type": "scatter3d"
           }
          ],
          "scattercarpet": [
           {
            "marker": {
             "colorbar": {
              "outlinewidth": 0,
              "ticks": ""
             }
            },
            "type": "scattercarpet"
           }
          ],
          "scattergeo": [
           {
            "marker": {
             "colorbar": {
              "outlinewidth": 0,
              "ticks": ""
             }
            },
            "type": "scattergeo"
           }
          ],
          "scattergl": [
           {
            "marker": {
             "colorbar": {
              "outlinewidth": 0,
              "ticks": ""
             }
            },
            "type": "scattergl"
           }
          ],
          "scattermapbox": [
           {
            "marker": {
             "colorbar": {
              "outlinewidth": 0,
              "ticks": ""
             }
            },
            "type": "scattermapbox"
           }
          ],
          "scatterpolar": [
           {
            "marker": {
             "colorbar": {
              "outlinewidth": 0,
              "ticks": ""
             }
            },
            "type": "scatterpolar"
           }
          ],
          "scatterpolargl": [
           {
            "marker": {
             "colorbar": {
              "outlinewidth": 0,
              "ticks": ""
             }
            },
            "type": "scatterpolargl"
           }
          ],
          "scatterternary": [
           {
            "marker": {
             "colorbar": {
              "outlinewidth": 0,
              "ticks": ""
             }
            },
            "type": "scatterternary"
           }
          ],
          "surface": [
           {
            "colorbar": {
             "outlinewidth": 0,
             "ticks": ""
            },
            "colorscale": [
             [
              0,
              "#0d0887"
             ],
             [
              0.1111111111111111,
              "#46039f"
             ],
             [
              0.2222222222222222,
              "#7201a8"
             ],
             [
              0.3333333333333333,
              "#9c179e"
             ],
             [
              0.4444444444444444,
              "#bd3786"
             ],
             [
              0.5555555555555556,
              "#d8576b"
             ],
             [
              0.6666666666666666,
              "#ed7953"
             ],
             [
              0.7777777777777778,
              "#fb9f3a"
             ],
             [
              0.8888888888888888,
              "#fdca26"
             ],
             [
              1,
              "#f0f921"
             ]
            ],
            "type": "surface"
           }
          ],
          "table": [
           {
            "cells": {
             "fill": {
              "color": "#EBF0F8"
             },
             "line": {
              "color": "white"
             }
            },
            "header": {
             "fill": {
              "color": "#C8D4E3"
             },
             "line": {
              "color": "white"
             }
            },
            "type": "table"
           }
          ]
         },
         "layout": {
          "annotationdefaults": {
           "arrowcolor": "#2a3f5f",
           "arrowhead": 0,
           "arrowwidth": 1
          },
          "autotypenumbers": "strict",
          "coloraxis": {
           "colorbar": {
            "outlinewidth": 0,
            "ticks": ""
           }
          },
          "colorscale": {
           "diverging": [
            [
             0,
             "#8e0152"
            ],
            [
             0.1,
             "#c51b7d"
            ],
            [
             0.2,
             "#de77ae"
            ],
            [
             0.3,
             "#f1b6da"
            ],
            [
             0.4,
             "#fde0ef"
            ],
            [
             0.5,
             "#f7f7f7"
            ],
            [
             0.6,
             "#e6f5d0"
            ],
            [
             0.7,
             "#b8e186"
            ],
            [
             0.8,
             "#7fbc41"
            ],
            [
             0.9,
             "#4d9221"
            ],
            [
             1,
             "#276419"
            ]
           ],
           "sequential": [
            [
             0,
             "#0d0887"
            ],
            [
             0.1111111111111111,
             "#46039f"
            ],
            [
             0.2222222222222222,
             "#7201a8"
            ],
            [
             0.3333333333333333,
             "#9c179e"
            ],
            [
             0.4444444444444444,
             "#bd3786"
            ],
            [
             0.5555555555555556,
             "#d8576b"
            ],
            [
             0.6666666666666666,
             "#ed7953"
            ],
            [
             0.7777777777777778,
             "#fb9f3a"
            ],
            [
             0.8888888888888888,
             "#fdca26"
            ],
            [
             1,
             "#f0f921"
            ]
           ],
           "sequentialminus": [
            [
             0,
             "#0d0887"
            ],
            [
             0.1111111111111111,
             "#46039f"
            ],
            [
             0.2222222222222222,
             "#7201a8"
            ],
            [
             0.3333333333333333,
             "#9c179e"
            ],
            [
             0.4444444444444444,
             "#bd3786"
            ],
            [
             0.5555555555555556,
             "#d8576b"
            ],
            [
             0.6666666666666666,
             "#ed7953"
            ],
            [
             0.7777777777777778,
             "#fb9f3a"
            ],
            [
             0.8888888888888888,
             "#fdca26"
            ],
            [
             1,
             "#f0f921"
            ]
           ]
          },
          "colorway": [
           "#636efa",
           "#EF553B",
           "#00cc96",
           "#ab63fa",
           "#FFA15A",
           "#19d3f3",
           "#FF6692",
           "#B6E880",
           "#FF97FF",
           "#FECB52"
          ],
          "font": {
           "color": "#2a3f5f"
          },
          "geo": {
           "bgcolor": "white",
           "lakecolor": "white",
           "landcolor": "#E5ECF6",
           "showlakes": true,
           "showland": true,
           "subunitcolor": "white"
          },
          "hoverlabel": {
           "align": "left"
          },
          "hovermode": "closest",
          "mapbox": {
           "style": "light"
          },
          "paper_bgcolor": "white",
          "plot_bgcolor": "#E5ECF6",
          "polar": {
           "angularaxis": {
            "gridcolor": "white",
            "linecolor": "white",
            "ticks": ""
           },
           "bgcolor": "#E5ECF6",
           "radialaxis": {
            "gridcolor": "white",
            "linecolor": "white",
            "ticks": ""
           }
          },
          "scene": {
           "xaxis": {
            "backgroundcolor": "#E5ECF6",
            "gridcolor": "white",
            "gridwidth": 2,
            "linecolor": "white",
            "showbackground": true,
            "ticks": "",
            "zerolinecolor": "white"
           },
           "yaxis": {
            "backgroundcolor": "#E5ECF6",
            "gridcolor": "white",
            "gridwidth": 2,
            "linecolor": "white",
            "showbackground": true,
            "ticks": "",
            "zerolinecolor": "white"
           },
           "zaxis": {
            "backgroundcolor": "#E5ECF6",
            "gridcolor": "white",
            "gridwidth": 2,
            "linecolor": "white",
            "showbackground": true,
            "ticks": "",
            "zerolinecolor": "white"
           }
          },
          "shapedefaults": {
           "line": {
            "color": "#2a3f5f"
           }
          },
          "ternary": {
           "aaxis": {
            "gridcolor": "white",
            "linecolor": "white",
            "ticks": ""
           },
           "baxis": {
            "gridcolor": "white",
            "linecolor": "white",
            "ticks": ""
           },
           "bgcolor": "#E5ECF6",
           "caxis": {
            "gridcolor": "white",
            "linecolor": "white",
            "ticks": ""
           }
          },
          "title": {
           "x": 0.05
          },
          "xaxis": {
           "automargin": true,
           "gridcolor": "white",
           "linecolor": "white",
           "ticks": "",
           "title": {
            "standoff": 15
           },
           "zerolinecolor": "white",
           "zerolinewidth": 2
          },
          "yaxis": {
           "automargin": true,
           "gridcolor": "white",
           "linecolor": "white",
           "ticks": "",
           "title": {
            "standoff": 15
           },
           "zerolinecolor": "white",
           "zerolinewidth": 2
          }
         }
        },
        "title": {
         "text": "Eficiência - Meta 90%",
         "x": 0.5
        },
        "xaxis": {
         "nticks": 31,
         "tickangle": 45,
         "tickmode": "linear",
         "ticktext": [
          1,
          2,
          3,
          4,
          5,
          6,
          7,
          8,
          9,
          10,
          11,
          12,
          13,
          14,
          15,
          16,
          17,
          18,
          19,
          20,
          21,
          22,
          23,
          24,
          25,
          26,
          27,
          28,
          29,
          30,
          31
         ],
         "tickvals": [
          1,
          2,
          3,
          4,
          5,
          6,
          7,
          8,
          9,
          10,
          11,
          12,
          13,
          14,
          15,
          16,
          17,
          18,
          19,
          20,
          21,
          22,
          23,
          24,
          25,
          26,
          27,
          28,
          29,
          30,
          31
         ],
         "title": {
          "text": "Dia"
         }
        },
        "yaxis": {
         "tickangle": 45,
         "tickmode": "linear",
         "title": {
          "text": "Turno"
         }
        }
       }
      }
     },
     "metadata": {},
     "output_type": "display_data"
    }
   ],
   "source": [
    "graph_heatmap_eff(df_eff, 90)\n",
    "test(df_eff, 90)"
   ]
  },
  {
   "cell_type": "code",
   "execution_count": 183,
   "metadata": {},
   "outputs": [],
   "source": [
    "# cSpell: words mcolors, eficiencia, vmin, vmax, cmap, figsize, linewidths, annot, cbar, xlabel,\n",
    "# cSpell: words ylabel, xticks, yticks\n",
    "def graph_heatmap_perf(dataframe: pd.DataFrame, meta: int):\n",
    "    # Converter 'data_registro' para datetime e criar uma nova coluna 'data_turno'\n",
    "\n",
    "    dataframe[\"data_registro\"] = pd.to_datetime(dataframe[\"data_registro\"])\n",
    "\n",
    "    dataframe[\"data_turno\"] = dataframe[\"data_registro\"].dt.strftime(\n",
    "        \"%Y-%m-%d\"\n",
    "    )\n",
    "\n",
    "    # Agrupar por 'data_turno' e 'turno' e calcular a média da eficiência\n",
    "\n",
    "    df_grouped = (\n",
    "        dataframe.groupby([\"data_turno\", \"turno\"])[\"performance\"]\n",
    "        .mean()\n",
    "        .reset_index()\n",
    "    )\n",
    "\n",
    "    # Remodelar os dados para o formato de heatmap\n",
    "\n",
    "    df_pivot = df_grouped.pivot(\n",
    "        index=\"turno\", columns=\"data_turno\", values=\"performance\"\n",
    "    )\n",
    "\n",
    "    # Reordenar o índice do DataFrame\n",
    "\n",
    "    df_pivot = df_pivot.reindex([\"NOT\", \"MAT\", \"VES\"])\n",
    "\n",
    "    # Definir as cores baseado na eficiência\n",
    "\n",
    "    colors = [\"green\", \"green\", \"red\", \"red\"]\n",
    "\n",
    "    vmin, vmax = 0, 1  # Definir o intervalo de cores de 0 a 1\n",
    "\n",
    "    norm = plt.Normalize(vmin, vmax)\n",
    "\n",
    "    nodes = [\n",
    "        vmin,\n",
    "        0.04,\n",
    "        0.041,\n",
    "        vmax,\n",
    "    ]  # Definir o ponto de mudança de cor para 4%\n",
    "\n",
    "    cmap = mcolors.LinearSegmentedColormap.from_list(\n",
    "        \"\", list(zip(nodes, colors))\n",
    "    )\n",
    "\n",
    "    # Criar o gráfico de calor\n",
    "\n",
    "    plt.figure(figsize=(15, 5))\n",
    "\n",
    "    sns.heatmap(\n",
    "        df_pivot,\n",
    "        cmap=cmap,\n",
    "        norm=norm,\n",
    "        linewidths=0.5,\n",
    "        annot=True,\n",
    "        fmt=\".1%\",\n",
    "        cbar=False,\n",
    "    )\n",
    "\n",
    "    plt.title(f\"Performance - Meta {meta}%\")\n",
    "\n",
    "    plt.xlabel(\"Data\")\n",
    "\n",
    "    plt.ylabel(\"Turno\")\n",
    "\n",
    "    # Definir os rótulos do eixo x para os dias e rotacionar 45 graus\n",
    "\n",
    "    days = [date[-2:] for date in df_pivot.columns]\n",
    "\n",
    "    plt.xticks(ticks=plt.xticks()[0], labels=days, rotation=45)\n",
    "\n",
    "    # Rotacionar os rótulos do eixo y\n",
    "\n",
    "    plt.yticks(rotation=45)\n",
    "\n",
    "    # Remover os ticks dos eixos x e y\n",
    "\n",
    "    plt.gca().tick_params(axis=\"both\", which=\"both\", length=0)\n",
    "\n",
    "    plt.show()"
   ]
  },
  {
   "cell_type": "code",
   "execution_count": 184,
   "metadata": {},
   "outputs": [],
   "source": [
    "# cSpell: words mcolors, eficiencia, vmin, vmax, cmap, figsize, linewidths, annot, cbar, xlabel,\n",
    "# cSpell: words ylabel, xticks, yticks\n",
    "def graph_heatmap_perf_v2(dataframe: pd.DataFrame, meta: int):\n",
    "    # Converter 'data_registro' para datetime e criar uma nova coluna 'data_turno'\n",
    "\n",
    "    dataframe[\"data_registro\"] = pd.to_datetime(dataframe[\"data_registro\"])\n",
    "\n",
    "    dataframe[\"data_turno\"] = dataframe[\"data_registro\"].dt.strftime(\n",
    "        \"%Y-%m-%d\"\n",
    "    )\n",
    "\n",
    "    # Agrupar por 'data_turno' e 'turno' e calcular a média da eficiência\n",
    "\n",
    "    df_grouped = (\n",
    "        dataframe.groupby([\"data_turno\", \"turno\"])[\"performance\"]\n",
    "        .mean()\n",
    "        .reset_index()\n",
    "    )\n",
    "\n",
    "    # Remodelar os dados para o formato de heatmap\n",
    "\n",
    "    df_pivot = df_grouped.pivot(\n",
    "        index=\"turno\", columns=\"data_turno\", values=\"performance\"\n",
    "    )\n",
    "\n",
    "    # Reordenar o índice do DataFrame\n",
    "    df_pivot = df_pivot.reindex([\"VES\", \"MAT\", \"NOT\"])\n",
    "\n",
    "    # Criar escala de cores personalizada\n",
    "    colors = [[0, \"green\"], [0.04, \"green\"], [0.04, \"red\"], [1, \"red\"]]\n",
    "\n",
    "    # Extrair apenas o dia da data\n",
    "    df_pivot.columns = pd.to_datetime(df_pivot.columns).day\n",
    "\n",
    "    # Criar o gráfico de calor\n",
    "    fig = go.Figure(\n",
    "        data=go.Heatmap(\n",
    "            z=df_pivot.values,\n",
    "            x=df_pivot.columns,\n",
    "            y=df_pivot.index,\n",
    "            colorscale=colors,\n",
    "            zmin=0,\n",
    "            zmax=1,  # Escala de valores de 0 a 1\n",
    "            hoverongaps=False,\n",
    "            hovertemplate=\"Turno: %{y}<br>Dia: %{x}<br>Valor: %{z:.1%}\",\n",
    "            showscale=False,  # Não mostrar a escala de cores\n",
    "            xgap=1,  # Espaçamento entre os dias\n",
    "            ygap=1,  # Espaçamento entre os turnos\n",
    "        )\n",
    "    )\n",
    "\n",
    "    # Adicionar anotações com a média da eficiência\n",
    "    # pylint: disable=consider-using-enumerate\n",
    "    for i in range(len(df_pivot.index)):\n",
    "        for j in range(len(df_pivot.columns)):\n",
    "            fig.add_annotation(\n",
    "                x=df_pivot.columns[j],\n",
    "                y=df_pivot.index[i],\n",
    "                text=f\"{df_pivot.values[i, j]:.1%}\",\n",
    "                showarrow=False,\n",
    "                font=dict(color=\"white\", size=8),\n",
    "            )\n",
    "\n",
    "    # Definir o título do gráfico\n",
    "    fig.update_layout(\n",
    "        title=f\"Performance - Meta {meta}%\",\n",
    "        xaxis_title=\"Dia\",\n",
    "        yaxis_title=\"Turno\",\n",
    "        title_x=0.5,  # Centralizar o título\n",
    "        xaxis_nticks=31,  # Definir o número de dias\n",
    "        xaxis=dict(\n",
    "            tickmode=\"linear\",\n",
    "            tickvals=list(range(1, 32)),  # Definir os dias\n",
    "            ticktext=list(range(1, 32)),  # Definir os dias\n",
    "            tickangle=45,  # Rotacionar os dias\n",
    "        ),\n",
    "        yaxis=dict(\n",
    "            tickmode=\"linear\",\n",
    "            tickangle=45,\n",
    "        ),\n",
    "        plot_bgcolor=\"white\",\n",
    "        margin=dict(t=40, b=40, l=40, r=40),\n",
    "    )\n",
    "\n",
    "    fig.show()"
   ]
  },
  {
   "cell_type": "code",
   "execution_count": 185,
   "metadata": {},
   "outputs": [
    {
     "data": {
      "image/png": "[encoded data removed]",
      "text/plain": [
       "<Figure size 1500x500 with 1 Axes>"
      ]
     },
     "metadata": {},
     "output_type": "display_data"
    },
    {
     "data": {
      "application/vnd.plotly.v1+json": {
       "config": {
        "plotlyServerURL": "https://plot.ly"
       },
       "data": [
        {
         "colorscale": [
          [
           0,
           "green"
          ],
          [
           0.04,
           "green"
          ],
          [
           0.04,
           "red"
          ],
          [
           1,
           "red"
          ]
         ],
         "hoverongaps": false,
         "hovertemplate": "Turno: %{y}<br>Dia: %{x}<br>Valor: %{z:.1%}",
         "showscale": false,
         "type": "heatmap",
         "x": [
          1,
          2,
          3,
          4,
          5,
          6,
          7,
          8,
          9,
          10,
          11,
          12,
          13,
          14,
          15,
          16,
          17
         ],
         "xgap": 1,
         "y": [
          "VES",
          "MAT",
          "NOT"
         ],
         "ygap": 1,
         "z": [
          [
           0,
           0.0693452380952381,
           0.23443877551020412,
           0.40552721088435373,
           0.3927295918367347,
           0,
           0.06994047619047619,
           0.4200680272108844,
           0.324157162865146,
           0.4089285714285714,
           0.43503401360544214,
           0.9782738095238095,
           0.3321428571428572,
           0,
           0.41130952380952385,
           0.34481292517006806,
           0.001851851851851852
          ],
          [
           0,
           0,
           0.08081633078727904,
           0.1620758669321387,
           0.19119673833341364,
           0.14549319727891155,
           0,
           0.23721385485744256,
           0.26598639455782314,
           0.2516706159451228,
           0.30063126210059365,
           0.33437448149991705,
           0,
           0.28928571428571426,
           0.27182550436615477,
           0.31715469680695246,
           0.04449176931046391
          ],
          [
           0,
           0,
           0.5181547619047618,
           0.39375,
           0.3055272108843537,
           0.10871598639455783,
           0,
           0.15880160000293814,
           0.41177721088435376,
           0.3835459183673469,
           0.35982142857142857,
           0.47232142857142856,
           0,
           0,
           0.26943027210884357,
           0.30292658730158734,
           0.387797619047619
          ]
         ],
         "zmax": 1,
         "zmin": 0
        }
       ],
       "layout": {
        "annotations": [
         {
          "font": {
           "color": "white",
           "size": 8
          },
          "showarrow": false,
          "text": "0.0%",
          "x": 1,
          "y": "VES"
         },
         {
          "font": {
           "color": "white",
           "size": 8
          },
          "showarrow": false,
          "text": "6.9%",
          "x": 2,
          "y": "VES"
         },
         {
          "font": {
           "color": "white",
           "size": 8
          },
          "showarrow": false,
          "text": "23.4%",
          "x": 3,
          "y": "VES"
         },
         {
          "font": {
           "color": "white",
           "size": 8
          },
          "showarrow": false,
          "text": "40.6%",
          "x": 4,
          "y": "VES"
         },
         {
          "font": {
           "color": "white",
           "size": 8
          },
          "showarrow": false,
          "text": "39.3%",
          "x": 5,
          "y": "VES"
         },
         {
          "font": {
           "color": "white",
           "size": 8
          },
          "showarrow": false,
          "text": "0.0%",
          "x": 6,
          "y": "VES"
         },
         {
          "font": {
           "color": "white",
           "size": 8
          },
          "showarrow": false,
          "text": "7.0%",
          "x": 7,
          "y": "VES"
         },
         {
          "font": {
           "color": "white",
           "size": 8
          },
          "showarrow": false,
          "text": "42.0%",
          "x": 8,
          "y": "VES"
         },
         {
          "font": {
           "color": "white",
           "size": 8
          },
          "showarrow": false,
          "text": "32.4%",
          "x": 9,
          "y": "VES"
         },
         {
          "font": {
           "color": "white",
           "size": 8
          },
          "showarrow": false,
          "text": "40.9%",
          "x": 10,
          "y": "VES"
         },
         {
          "font": {
           "color": "white",
           "size": 8
          },
          "showarrow": false,
          "text": "43.5%",
          "x": 11,
          "y": "VES"
         },
         {
          "font": {
           "color": "white",
           "size": 8
          },
          "showarrow": false,
          "text": "97.8%",
          "x": 12,
          "y": "VES"
         },
         {
          "font": {
           "color": "white",
           "size": 8
          },
          "showarrow": false,
          "text": "33.2%",
          "x": 13,
          "y": "VES"
         },
         {
          "font": {
           "color": "white",
           "size": 8
          },
          "showarrow": false,
          "text": "0.0%",
          "x": 14,
          "y": "VES"
         },
         {
          "font": {
           "color": "white",
           "size": 8
          },
          "showarrow": false,
          "text": "41.1%",
          "x": 15,
          "y": "VES"
         },
         {
          "font": {
           "color": "white",
           "size": 8
          },
          "showarrow": false,
          "text": "34.5%",
          "x": 16,
          "y": "VES"
         },
         {
          "font": {
           "color": "white",
           "size": 8
          },
          "showarrow": false,
          "text": "0.2%",
          "x": 17,
          "y": "VES"
         },
         {
          "font": {
           "color": "white",
           "size": 8
          },
          "showarrow": false,
          "text": "0.0%",
          "x": 1,
          "y": "MAT"
         },
         {
          "font": {
           "color": "white",
           "size": 8
          },
          "showarrow": false,
          "text": "0.0%",
          "x": 2,
          "y": "MAT"
         },
         {
          "font": {
           "color": "white",
           "size": 8
          },
          "showarrow": false,
          "text": "8.1%",
          "x": 3,
          "y": "MAT"
         },
         {
          "font": {
           "color": "white",
           "size": 8
          },
          "showarrow": false,
          "text": "16.2%",
          "x": 4,
          "y": "MAT"
         },
         {
          "font": {
           "color": "white",
           "size": 8
          },
          "showarrow": false,
          "text": "19.1%",
          "x": 5,
          "y": "MAT"
         },
         {
          "font": {
           "color": "white",
           "size": 8
          },
          "showarrow": false,
          "text": "14.5%",
          "x": 6,
          "y": "MAT"
         },
         {
          "font": {
           "color": "white",
           "size": 8
          },
          "showarrow": false,
          "text": "0.0%",
          "x": 7,
          "y": "MAT"
         },
         {
          "font": {
           "color": "white",
           "size": 8
          },
          "showarrow": false,
          "text": "23.7%",
          "x": 8,
          "y": "MAT"
         },
         {
          "font": {
           "color": "white",
           "size": 8
          },
          "showarrow": false,
          "text": "26.6%",
          "x": 9,
          "y": "MAT"
         },
         {
          "font": {
           "color": "white",
           "size": 8
          },
          "showarrow": false,
          "text": "25.2%",
          "x": 10,
          "y": "MAT"
         },
         {
          "font": {
           "color": "white",
           "size": 8
          },
          "showarrow": false,
          "text": "30.1%",
          "x": 11,
          "y": "MAT"
         },
         {
          "font": {
           "color": "white",
           "size": 8
          },
          "showarrow": false,
          "text": "33.4%",
          "x": 12,
          "y": "MAT"
         },
         {
          "font": {
           "color": "white",
           "size": 8
          },
          "showarrow": false,
          "text": "0.0%",
          "x": 13,
          "y": "MAT"
         },
         {
          "font": {
           "color": "white",
           "size": 8
          },
          "showarrow": false,
          "text": "28.9%",
          "x": 14,
          "y": "MAT"
         },
         {
          "font": {
           "color": "white",
           "size": 8
          },
          "showarrow": false,
          "text": "27.2%",
          "x": 15,
          "y": "MAT"
         },
         {
          "font": {
           "color": "white",
           "size": 8
          },
          "showarrow": false,
          "text": "31.7%",
          "x": 16,
          "y": "MAT"
         },
         {
          "font": {
           "color": "white",
           "size": 8
          },
          "showarrow": false,
          "text": "4.4%",
          "x": 17,
          "y": "MAT"
         },
         {
          "font": {
           "color": "white",
           "size": 8
          },
          "showarrow": false,
          "text": "0.0%",
          "x": 1,
          "y": "NOT"
         },
         {
          "font": {
           "color": "white",
           "size": 8
          },
          "showarrow": false,
          "text": "0.0%",
          "x": 2,
          "y": "NOT"
         },
         {
          "font": {
           "color": "white",
           "size": 8
          },
          "showarrow": false,
          "text": "51.8%",
          "x": 3,
          "y": "NOT"
         },
         {
          "font": {
           "color": "white",
           "size": 8
          },
          "showarrow": false,
          "text": "39.4%",
          "x": 4,
          "y": "NOT"
         },
         {
          "font": {
           "color": "white",
           "size": 8
          },
          "showarrow": false,
          "text": "30.6%",
          "x": 5,
          "y": "NOT"
         },
         {
          "font": {
           "color": "white",
           "size": 8
          },
          "showarrow": false,
          "text": "10.9%",
          "x": 6,
          "y": "NOT"
         },
         {
          "font": {
           "color": "white",
           "size": 8
          },
          "showarrow": false,
          "text": "0.0%",
          "x": 7,
          "y": "NOT"
         },
         {
          "font": {
           "color": "white",
           "size": 8
          },
          "showarrow": false,
          "text": "15.9%",
          "x": 8,
          "y": "NOT"
         },
         {
          "font": {
           "color": "white",
           "size": 8
          },
          "showarrow": false,
          "text": "41.2%",
          "x": 9,
          "y": "NOT"
         },
         {
          "font": {
           "color": "white",
           "size": 8
          },
          "showarrow": false,
          "text": "38.4%",
          "x": 10,
          "y": "NOT"
         },
         {
          "font": {
           "color": "white",
           "size": 8
          },
          "showarrow": false,
          "text": "36.0%",
          "x": 11,
          "y": "NOT"
         },
         {
          "font": {
           "color": "white",
           "size": 8
          },
          "showarrow": false,
          "text": "47.2%",
          "x": 12,
          "y": "NOT"
         },
         {
          "font": {
           "color": "white",
           "size": 8
          },
          "showarrow": false,
          "text": "0.0%",
          "x": 13,
          "y": "NOT"
         },
         {
          "font": {
           "color": "white",
           "size": 8
          },
          "showarrow": false,
          "text": "0.0%",
          "x": 14,
          "y": "NOT"
         },
         {
          "font": {
           "color": "white",
           "size": 8
          },
          "showarrow": false,
          "text": "26.9%",
          "x": 15,
          "y": "NOT"
         },
         {
          "font": {
           "color": "white",
           "size": 8
          },
          "showarrow": false,
          "text": "30.3%",
          "x": 16,
          "y": "NOT"
         },
         {
          "font": {
           "color": "white",
           "size": 8
          },
          "showarrow": false,
          "text": "38.8%",
          "x": 17,
          "y": "NOT"
         }
        ],
        "margin": {
         "b": 40,
         "l": 40,
         "r": 40,
         "t": 40
        },
        "plot_bgcolor": "white",
        "template": {
         "data": {
          "bar": [
           {
            "error_x": {
             "color": "#2a3f5f"
            },
            "error_y": {
             "color": "#2a3f5f"
            },
            "marker": {
             "line": {
              "color": "#E5ECF6",
              "width": 0.5
             },
             "pattern": {
              "fillmode": "overlay",
              "size": 10,
              "solidity": 0.2
             }
            },
            "type": "bar"
           }
          ],
          "barpolar": [
           {
            "marker": {
             "line": {
              "color": "#E5ECF6",
              "width": 0.5
             },
             "pattern": {
              "fillmode": "overlay",
              "size": 10,
              "solidity": 0.2
             }
            },
            "type": "barpolar"
           }
          ],
          "carpet": [
           {
            "aaxis": {
             "endlinecolor": "#2a3f5f",
             "gridcolor": "white",
             "linecolor": "white",
             "minorgridcolor": "white",
             "startlinecolor": "#2a3f5f"
            },
            "baxis": {
             "endlinecolor": "#2a3f5f",
             "gridcolor": "white",
             "linecolor": "white",
             "minorgridcolor": "white",
             "startlinecolor": "#2a3f5f"
            },
            "type": "carpet"
           }
          ],
          "choropleth": [
           {
            "colorbar": {
             "outlinewidth": 0,
             "ticks": ""
            },
            "type": "choropleth"
           }
          ],
          "contour": [
           {
            "colorbar": {
             "outlinewidth": 0,
             "ticks": ""
            },
            "colorscale": [
             [
              0,
              "#0d0887"
             ],
             [
              0.1111111111111111,
              "#46039f"
             ],
             [
              0.2222222222222222,
              "#7201a8"
             ],
             [
              0.3333333333333333,
              "#9c179e"
             ],
             [
              0.4444444444444444,
              "#bd3786"
             ],
             [
              0.5555555555555556,
              "#d8576b"
             ],
             [
              0.6666666666666666,
              "#ed7953"
             ],
             [
              0.7777777777777778,
              "#fb9f3a"
             ],
             [
              0.8888888888888888,
              "#fdca26"
             ],
             [
              1,
              "#f0f921"
             ]
            ],
            "type": "contour"
           }
          ],
          "contourcarpet": [
           {
            "colorbar": {
             "outlinewidth": 0,
             "ticks": ""
            },
            "type": "contourcarpet"
           }
          ],
          "heatmap": [
           {
            "colorbar": {
             "outlinewidth": 0,
             "ticks": ""
            },
            "colorscale": [
             [
              0,
              "#0d0887"
             ],
             [
              0.1111111111111111,
              "#46039f"
             ],
             [
              0.2222222222222222,
              "#7201a8"
             ],
             [
              0.3333333333333333,
              "#9c179e"
             ],
             [
              0.4444444444444444,
              "#bd3786"
             ],
             [
              0.5555555555555556,
              "#d8576b"
             ],
             [
              0.6666666666666666,
              "#ed7953"
             ],
             [
              0.7777777777777778,
              "#fb9f3a"
             ],
             [
              0.8888888888888888,
              "#fdca26"
             ],
             [
              1,
              "#f0f921"
             ]
            ],
            "type": "heatmap"
           }
          ],
          "heatmapgl": [
           {
            "colorbar": {
             "outlinewidth": 0,
             "ticks": ""
            },
            "colorscale": [
             [
              0,
              "#0d0887"
             ],
             [
              0.1111111111111111,
              "#46039f"
             ],
             [
              0.2222222222222222,
              "#7201a8"
             ],
             [
              0.3333333333333333,
              "#9c179e"
             ],
             [
              0.4444444444444444,
              "#bd3786"
             ],
             [
              0.5555555555555556,
              "#d8576b"
             ],
             [
              0.6666666666666666,
              "#ed7953"
             ],
             [
              0.7777777777777778,
              "#fb9f3a"
             ],
             [
              0.8888888888888888,
              "#fdca26"
             ],
             [
              1,
              "#f0f921"
             ]
            ],
            "type": "heatmapgl"
           }
          ],
          "histogram": [
           {
            "marker": {
             "pattern": {
              "fillmode": "overlay",
              "size": 10,
              "solidity": 0.2
             }
            },
            "type": "histogram"
           }
          ],
          "histogram2d": [
           {
            "colorbar": {
             "outlinewidth": 0,
             "ticks": ""
            },
            "colorscale": [
             [
              0,
              "#0d0887"
             ],
             [
              0.1111111111111111,
              "#46039f"
             ],
             [
              0.2222222222222222,
              "#7201a8"
             ],
             [
              0.3333333333333333,
              "#9c179e"
             ],
             [
              0.4444444444444444,
              "#bd3786"
             ],
             [
              0.5555555555555556,
              "#d8576b"
             ],
             [
              0.6666666666666666,
              "#ed7953"
             ],
             [
              0.7777777777777778,
              "#fb9f3a"
             ],
             [
              0.8888888888888888,
              "#fdca26"
             ],
             [
              1,
              "#f0f921"
             ]
            ],
            "type": "histogram2d"
           }
          ],
          "histogram2dcontour": [
           {
            "colorbar": {
             "outlinewidth": 0,
             "ticks": ""
            },
            "colorscale": [
             [
              0,
              "#0d0887"
             ],
             [
              0.1111111111111111,
              "#46039f"
             ],
             [
              0.2222222222222222,
              "#7201a8"
             ],
             [
              0.3333333333333333,
              "#9c179e"
             ],
             [
              0.4444444444444444,
              "#bd3786"
             ],
             [
              0.5555555555555556,
              "#d8576b"
             ],
             [
              0.6666666666666666,
              "#ed7953"
             ],
             [
              0.7777777777777778,
              "#fb9f3a"
             ],
             [
              0.8888888888888888,
              "#fdca26"
             ],
             [
              1,
              "#f0f921"
             ]
            ],
            "type": "histogram2dcontour"
           }
          ],
          "mesh3d": [
           {
            "colorbar": {
             "outlinewidth": 0,
             "ticks": ""
            },
            "type": "mesh3d"
           }
          ],
          "parcoords": [
           {
            "line": {
             "colorbar": {
              "outlinewidth": 0,
              "ticks": ""
             }
            },
            "type": "parcoords"
           }
          ],
          "pie": [
           {
            "automargin": true,
            "type": "pie"
           }
          ],
          "scatter": [
           {
            "fillpattern": {
             "fillmode": "overlay",
             "size": 10,
             "solidity": 0.2
            },
            "type": "scatter"
           }
          ],
          "scatter3d": [
           {
            "line": {
             "colorbar": {
              "outlinewidth": 0,
              "ticks": ""
             }
            },
            "marker": {
             "colorbar": {
              "outlinewidth": 0,
              "ticks": ""
             }
            },
            "type": "scatter3d"
           }
          ],
          "scattercarpet": [
           {
            "marker": {
             "colorbar": {
              "outlinewidth": 0,
              "ticks": ""
             }
            },
            "type": "scattercarpet"
           }
          ],
          "scattergeo": [
           {
            "marker": {
             "colorbar": {
              "outlinewidth": 0,
              "ticks": ""
             }
            },
            "type": "scattergeo"
           }
          ],
          "scattergl": [
           {
            "marker": {
             "colorbar": {
              "outlinewidth": 0,
              "ticks": ""
             }
            },
            "type": "scattergl"
           }
          ],
          "scattermapbox": [
           {
            "marker": {
             "colorbar": {
              "outlinewidth": 0,
              "ticks": ""
             }
            },
            "type": "scattermapbox"
           }
          ],
          "scatterpolar": [
           {
            "marker": {
             "colorbar": {
              "outlinewidth": 0,
              "ticks": ""
             }
            },
            "type": "scatterpolar"
           }
          ],
          "scatterpolargl": [
           {
            "marker": {
             "colorbar": {
              "outlinewidth": 0,
              "ticks": ""
             }
            },
            "type": "scatterpolargl"
           }
          ],
          "scatterternary": [
           {
            "marker": {
             "colorbar": {
              "outlinewidth": 0,
              "ticks": ""
             }
            },
            "type": "scatterternary"
           }
          ],
          "surface": [
           {
            "colorbar": {
             "outlinewidth": 0,
             "ticks": ""
            },
            "colorscale": [
             [
              0,
              "#0d0887"
             ],
             [
              0.1111111111111111,
              "#46039f"
             ],
             [
              0.2222222222222222,
              "#7201a8"
             ],
             [
              0.3333333333333333,
              "#9c179e"
             ],
             [
              0.4444444444444444,
              "#bd3786"
             ],
             [
              0.5555555555555556,
              "#d8576b"
             ],
             [
              0.6666666666666666,
              "#ed7953"
             ],
             [
              0.7777777777777778,
              "#fb9f3a"
             ],
             [
              0.8888888888888888,
              "#fdca26"
             ],
             [
              1,
              "#f0f921"
             ]
            ],
            "type": "surface"
           }
          ],
          "table": [
           {
            "cells": {
             "fill": {
              "color": "#EBF0F8"
             },
             "line": {
              "color": "white"
             }
            },
            "header": {
             "fill": {
              "color": "#C8D4E3"
             },
             "line": {
              "color": "white"
             }
            },
            "type": "table"
           }
          ]
         },
         "layout": {
          "annotationdefaults": {
           "arrowcolor": "#2a3f5f",
           "arrowhead": 0,
           "arrowwidth": 1
          },
          "autotypenumbers": "strict",
          "coloraxis": {
           "colorbar": {
            "outlinewidth": 0,
            "ticks": ""
           }
          },
          "colorscale": {
           "diverging": [
            [
             0,
             "#8e0152"
            ],
            [
             0.1,
             "#c51b7d"
            ],
            [
             0.2,
             "#de77ae"
            ],
            [
             0.3,
             "#f1b6da"
            ],
            [
             0.4,
             "#fde0ef"
            ],
            [
             0.5,
             "#f7f7f7"
            ],
            [
             0.6,
             "#e6f5d0"
            ],
            [
             0.7,
             "#b8e186"
            ],
            [
             0.8,
             "#7fbc41"
            ],
            [
             0.9,
             "#4d9221"
            ],
            [
             1,
             "#276419"
            ]
           ],
           "sequential": [
            [
             0,
             "#0d0887"
            ],
            [
             0.1111111111111111,
             "#46039f"
            ],
            [
             0.2222222222222222,
             "#7201a8"
            ],
            [
             0.3333333333333333,
             "#9c179e"
            ],
            [
             0.4444444444444444,
             "#bd3786"
            ],
            [
             0.5555555555555556,
             "#d8576b"
            ],
            [
             0.6666666666666666,
             "#ed7953"
            ],
            [
             0.7777777777777778,
             "#fb9f3a"
            ],
            [
             0.8888888888888888,
             "#fdca26"
            ],
            [
             1,
             "#f0f921"
            ]
           ],
           "sequentialminus": [
            [
             0,
             "#0d0887"
            ],
            [
             0.1111111111111111,
             "#46039f"
            ],
            [
             0.2222222222222222,
             "#7201a8"
            ],
            [
             0.3333333333333333,
             "#9c179e"
            ],
            [
             0.4444444444444444,
             "#bd3786"
            ],
            [
             0.5555555555555556,
             "#d8576b"
            ],
            [
             0.6666666666666666,
             "#ed7953"
            ],
            [
             0.7777777777777778,
             "#fb9f3a"
            ],
            [
             0.8888888888888888,
             "#fdca26"
            ],
            [
             1,
             "#f0f921"
            ]
           ]
          },
          "colorway": [
           "#636efa",
           "#EF553B",
           "#00cc96",
           "#ab63fa",
           "#FFA15A",
           "#19d3f3",
           "#FF6692",
           "#B6E880",
           "#FF97FF",
           "#FECB52"
          ],
          "font": {
           "color": "#2a3f5f"
          },
          "geo": {
           "bgcolor": "white",
           "lakecolor": "white",
           "landcolor": "#E5ECF6",
           "showlakes": true,
           "showland": true,
           "subunitcolor": "white"
          },
          "hoverlabel": {
           "align": "left"
          },
          "hovermode": "closest",
          "mapbox": {
           "style": "light"
          },
          "paper_bgcolor": "white",
          "plot_bgcolor": "#E5ECF6",
          "polar": {
           "angularaxis": {
            "gridcolor": "white",
            "linecolor": "white",
            "ticks": ""
           },
           "bgcolor": "#E5ECF6",
           "radialaxis": {
            "gridcolor": "white",
            "linecolor": "white",
            "ticks": ""
           }
          },
          "scene": {
           "xaxis": {
            "backgroundcolor": "#E5ECF6",
            "gridcolor": "white",
            "gridwidth": 2,
            "linecolor": "white",
            "showbackground": true,
            "ticks": "",
            "zerolinecolor": "white"
           },
           "yaxis": {
            "backgroundcolor": "#E5ECF6",
            "gridcolor": "white",
            "gridwidth": 2,
            "linecolor": "white",
            "showbackground": true,
            "ticks": "",
            "zerolinecolor": "white"
           },
           "zaxis": {
            "backgroundcolor": "#E5ECF6",
            "gridcolor": "white",
            "gridwidth": 2,
            "linecolor": "white",
            "showbackground": true,
            "ticks": "",
            "zerolinecolor": "white"
           }
          },
          "shapedefaults": {
           "line": {
            "color": "#2a3f5f"
           }
          },
          "ternary": {
           "aaxis": {
            "gridcolor": "white",
            "linecolor": "white",
            "ticks": ""
           },
           "baxis": {
            "gridcolor": "white",
            "linecolor": "white",
            "ticks": ""
           },
           "bgcolor": "#E5ECF6",
           "caxis": {
            "gridcolor": "white",
            "linecolor": "white",
            "ticks": ""
           }
          },
          "title": {
           "x": 0.05
          },
          "xaxis": {
           "automargin": true,
           "gridcolor": "white",
           "linecolor": "white",
           "ticks": "",
           "title": {
            "standoff": 15
           },
           "zerolinecolor": "white",
           "zerolinewidth": 2
          },
          "yaxis": {
           "automargin": true,
           "gridcolor": "white",
           "linecolor": "white",
           "ticks": "",
           "title": {
            "standoff": 15
           },
           "zerolinecolor": "white",
           "zerolinewidth": 2
          }
         }
        },
        "title": {
         "text": "Performance - Meta 4%",
         "x": 0.5
        },
        "xaxis": {
         "nticks": 31,
         "tickangle": 45,
         "tickmode": "linear",
         "ticktext": [
          1,
          2,
          3,
          4,
          5,
          6,
          7,
          8,
          9,
          10,
          11,
          12,
          13,
          14,
          15,
          16,
          17,
          18,
          19,
          20,
          21,
          22,
          23,
          24,
          25,
          26,
          27,
          28,
          29,
          30,
          31
         ],
         "tickvals": [
          1,
          2,
          3,
          4,
          5,
          6,
          7,
          8,
          9,
          10,
          11,
          12,
          13,
          14,
          15,
          16,
          17,
          18,
          19,
          20,
          21,
          22,
          23,
          24,
          25,
          26,
          27,
          28,
          29,
          30,
          31
         ],
         "title": {
          "text": "Dia"
         }
        },
        "yaxis": {
         "tickangle": 45,
         "tickmode": "linear",
         "title": {
          "text": "Turno"
         }
        }
       }
      }
     },
     "metadata": {},
     "output_type": "display_data"
    }
   ],
   "source": [
    "graph_heatmap_perf(df_perf, 4)\n",
    "graph_heatmap_perf_v2(df_perf, 4)"
   ]
  },
  {
   "cell_type": "code",
   "execution_count": 186,
   "metadata": {},
   "outputs": [
    {
     "data": {
      "image/png": "[encoded data removed]",
      "text/plain": [
       "<Figure size 1500x500 with 1 Axes>"
      ]
     },
     "metadata": {},
     "output_type": "display_data"
    }
   ],
   "source": [
    "# cSpell: words mcolors, eficiencia, vmin, vmax, cmap, figsize, linewidths, annot, cbar, xlabel,\n",
    "# cSpell: words ylabel, xticks, yticks\n",
    "def graph_heatmap_reparos(dataframe: pd.DataFrame, meta: int):\n",
    "    # Converter 'data_registro' para datetime e criar uma nova coluna 'data_turno'\n",
    "\n",
    "    dataframe[\"data_registro\"] = pd.to_datetime(dataframe[\"data_registro\"])\n",
    "\n",
    "    dataframe[\"data_turno\"] = dataframe[\"data_registro\"].dt.strftime(\n",
    "        \"%Y-%m-%d\"\n",
    "    )\n",
    "\n",
    "    # Agrupar por 'data_turno' e 'turno' e calcular a média da eficiência\n",
    "\n",
    "    df_grouped = (\n",
    "        dataframe.groupby([\"data_turno\", \"turno\"])[\"reparo\"]\n",
    "        .mean()\n",
    "        .reset_index()\n",
    "    )\n",
    "\n",
    "    # Remodelar os dados para o formato de heatmap\n",
    "\n",
    "    df_pivot = df_grouped.pivot(\n",
    "        index=\"turno\", columns=\"data_turno\", values=\"reparo\"\n",
    "    )\n",
    "\n",
    "    # Reordenar o índice do DataFrame\n",
    "\n",
    "    df_pivot = df_pivot.reindex([\"NOT\", \"MAT\", \"VES\"])\n",
    "\n",
    "    # Definir as cores baseado na eficiência\n",
    "\n",
    "    colors = [\"green\", \"green\", \"red\", \"red\"]\n",
    "\n",
    "    vmin, vmax = 0, 1  # Definir o intervalo de cores de 0 a 1\n",
    "\n",
    "    norm = plt.Normalize(vmin, vmax)\n",
    "\n",
    "    nodes = [\n",
    "        vmin,\n",
    "        0.04,\n",
    "        0.041,\n",
    "        vmax,\n",
    "    ]  # Definir o ponto de mudança de cor para 4%\n",
    "\n",
    "    cmap = mcolors.LinearSegmentedColormap.from_list(\n",
    "        \"\", list(zip(nodes, colors))\n",
    "    )\n",
    "\n",
    "    # Criar o gráfico de calor\n",
    "\n",
    "    plt.figure(figsize=(15, 5))\n",
    "\n",
    "    sns.heatmap(\n",
    "        df_pivot,\n",
    "        cmap=cmap,\n",
    "        norm=norm,\n",
    "        linewidths=0.5,\n",
    "        annot=True,\n",
    "        fmt=\".1%\",\n",
    "        cbar=False,\n",
    "    )\n",
    "\n",
    "    plt.title(f\"Reparos - Meta {meta}%\")\n",
    "\n",
    "    plt.xlabel(\"Data\")\n",
    "\n",
    "    plt.ylabel(\"Turno\")\n",
    "\n",
    "    # Definir os rótulos do eixo x para os dias e rotacionar 45 graus\n",
    "\n",
    "    days = [date[-2:] for date in df_pivot.columns]\n",
    "\n",
    "    plt.xticks(ticks=plt.xticks()[0], labels=days, rotation=45)\n",
    "\n",
    "    # Rotacionar os rótulos do eixo y\n",
    "\n",
    "    plt.yticks(rotation=45)\n",
    "\n",
    "    # Remover os ticks dos eixos x e y\n",
    "\n",
    "    plt.gca().tick_params(axis=\"both\", which=\"both\", length=0)\n",
    "\n",
    "    plt.show()\n",
    "\n",
    "\n",
    "reparos_map = graph_heatmap_reparos(df_reparos, 4)"
   ]
  },
  {
   "cell_type": "markdown",
   "metadata": {},
   "source": [
    "# Encontrar a média de eficiência do período\n"
   ]
  },
  {
   "cell_type": "code",
   "execution_count": 187,
   "metadata": {},
   "outputs": [
    {
     "data": {
      "image/png": "[encoded data removed]",
      "text/plain": [
       "<Figure size 200x200 with 1 Axes>"
      ]
     },
     "metadata": {},
     "output_type": "display_data"
    }
   ],
   "source": [
    "import matplotlib.pyplot as plt\n",
    "import matplotlib.patches as patches\n",
    "\n",
    "\n",
    "def draw_circular_progress_bar(percentage):\n",
    "    fig, ax = plt.subplots(figsize=(2, 2))\n",
    "\n",
    "    # Desenhar o círculo de progresso\n",
    "    bg_circle = patches.Circle(\n",
    "        (0.5, 0.5), 0.4, edgecolor=\"lightgray\", facecolor=\"white\", lw=10\n",
    "    )\n",
    "    ax.add_patch(bg_circle)\n",
    "\n",
    "    # Definir a cor com base na porcentagem\n",
    "    color = \"green\" if percentage >= 0.9 else \"red\"\n",
    "\n",
    "    progress_arc = patches.Arc(\n",
    "        (0.5, 0.5),\n",
    "        0.8,\n",
    "        0.8,\n",
    "        angle=90,\n",
    "        theta1=0,\n",
    "        theta2=percentage * 360,\n",
    "        color=color,\n",
    "        lw=10,\n",
    "    )\n",
    "    ax.add_patch(progress_arc)\n",
    "\n",
    "    # Adicionar o valor da porcentagem no centro\n",
    "    ax.text(\n",
    "        0.5,\n",
    "        0.5,\n",
    "        f\"{percentage * 100:.0f}%\",\n",
    "        ha=\"center\",\n",
    "        va=\"center\",\n",
    "        fontsize=20,\n",
    "    )\n",
    "\n",
    "    # Remover os eixos\n",
    "    ax.axis(\"off\")\n",
    "    ax.set_aspect(\"equal\")\n",
    "\n",
    "    plt.show()\n",
    "\n",
    "\n",
    "# Testar a função\n",
    "draw_circular_progress_bar(df_eff[\"eficiencia\"].mean())  # 75%"
   ]
  },
  {
   "cell_type": "code",
   "execution_count": 197,
   "metadata": {},
   "outputs": [
    {
     "data": {
      "application/vnd.plotly.v1+json": {
       "config": {
        "plotlyServerURL": "https://plot.ly"
       },
       "data": [
        {
         "domain": {
          "x": [
           0,
           1
          ],
          "y": [
           0,
           1
          ]
         },
         "gauge": {
          "axis": {
           "range": [
            0,
            100
           ],
           "tickfont": {
            "size": 8
           }
          },
          "bar": {
           "color": "red"
          },
          "steps": [
           {
            "color": "lightgray",
            "range": [
             0,
             100
            ]
           }
          ],
          "threshold": {
           "line": {
            "color": "black",
            "width": 4
           },
           "thickness": 0.75,
           "value": 90
          }
         },
         "mode": "gauge+number",
         "number": {
          "suffix": "%"
         },
         "title": {
          "font": {
           "size": 14
          },
          "text": "Atual"
         },
         "type": "indicator",
         "value": 33
        }
       ],
       "layout": {
        "autosize": true,
        "height": 200,
        "margin": {
         "b": 30,
         "l": 30,
         "r": 30,
         "t": 30
        },
        "plot_bgcolor": "white",
        "template": {
         "data": {
          "bar": [
           {
            "error_x": {
             "color": "#2a3f5f"
            },
            "error_y": {
             "color": "#2a3f5f"
            },
            "marker": {
             "line": {
              "color": "#E5ECF6",
              "width": 0.5
             },
             "pattern": {
              "fillmode": "overlay",
              "size": 10,
              "solidity": 0.2
             }
            },
            "type": "bar"
           }
          ],
          "barpolar": [
           {
            "marker": {
             "line": {
              "color": "#E5ECF6",
              "width": 0.5
             },
             "pattern": {
              "fillmode": "overlay",
              "size": 10,
              "solidity": 0.2
             }
            },
            "type": "barpolar"
           }
          ],
          "carpet": [
           {
            "aaxis": {
             "endlinecolor": "#2a3f5f",
             "gridcolor": "white",
             "linecolor": "white",
             "minorgridcolor": "white",
             "startlinecolor": "#2a3f5f"
            },
            "baxis": {
             "endlinecolor": "#2a3f5f",
             "gridcolor": "white",
             "linecolor": "white",
             "minorgridcolor": "white",
             "startlinecolor": "#2a3f5f"
            },
            "type": "carpet"
           }
          ],
          "choropleth": [
           {
            "colorbar": {
             "outlinewidth": 0,
             "ticks": ""
            },
            "type": "choropleth"
           }
          ],
          "contour": [
           {
            "colorbar": {
             "outlinewidth": 0,
             "ticks": ""
            },
            "colorscale": [
             [
              0,
              "#0d0887"
             ],
             [
              0.1111111111111111,
              "#46039f"
             ],
             [
              0.2222222222222222,
              "#7201a8"
             ],
             [
              0.3333333333333333,
              "#9c179e"
             ],
             [
              0.4444444444444444,
              "#bd3786"
             ],
             [
              0.5555555555555556,
              "#d8576b"
             ],
             [
              0.6666666666666666,
              "#ed7953"
             ],
             [
              0.7777777777777778,
              "#fb9f3a"
             ],
             [
              0.8888888888888888,
              "#fdca26"
             ],
             [
              1,
              "#f0f921"
             ]
            ],
            "type": "contour"
           }
          ],
          "contourcarpet": [
           {
            "colorbar": {
             "outlinewidth": 0,
             "ticks": ""
            },
            "type": "contourcarpet"
           }
          ],
          "heatmap": [
           {
            "colorbar": {
             "outlinewidth": 0,
             "ticks": ""
            },
            "colorscale": [
             [
              0,
              "#0d0887"
             ],
             [
              0.1111111111111111,
              "#46039f"
             ],
             [
              0.2222222222222222,
              "#7201a8"
             ],
             [
              0.3333333333333333,
              "#9c179e"
             ],
             [
              0.4444444444444444,
              "#bd3786"
             ],
             [
              0.5555555555555556,
              "#d8576b"
             ],
             [
              0.6666666666666666,
              "#ed7953"
             ],
             [
              0.7777777777777778,
              "#fb9f3a"
             ],
             [
              0.8888888888888888,
              "#fdca26"
             ],
             [
              1,
              "#f0f921"
             ]
            ],
            "type": "heatmap"
           }
          ],
          "heatmapgl": [
           {
            "colorbar": {
             "outlinewidth": 0,
             "ticks": ""
            },
            "colorscale": [
             [
              0,
              "#0d0887"
             ],
             [
              0.1111111111111111,
              "#46039f"
             ],
             [
              0.2222222222222222,
              "#7201a8"
             ],
             [
              0.3333333333333333,
              "#9c179e"
             ],
             [
              0.4444444444444444,
              "#bd3786"
             ],
             [
              0.5555555555555556,
              "#d8576b"
             ],
             [
              0.6666666666666666,
              "#ed7953"
             ],
             [
              0.7777777777777778,
              "#fb9f3a"
             ],
             [
              0.8888888888888888,
              "#fdca26"
             ],
             [
              1,
              "#f0f921"
             ]
            ],
            "type": "heatmapgl"
           }
          ],
          "histogram": [
           {
            "marker": {
             "pattern": {
              "fillmode": "overlay",
              "size": 10,
              "solidity": 0.2
             }
            },
            "type": "histogram"
           }
          ],
          "histogram2d": [
           {
            "colorbar": {
             "outlinewidth": 0,
             "ticks": ""
            },
            "colorscale": [
             [
              0,
              "#0d0887"
             ],
             [
              0.1111111111111111,
              "#46039f"
             ],
             [
              0.2222222222222222,
              "#7201a8"
             ],
             [
              0.3333333333333333,
              "#9c179e"
             ],
             [
              0.4444444444444444,
              "#bd3786"
             ],
             [
              0.5555555555555556,
              "#d8576b"
             ],
             [
              0.6666666666666666,
              "#ed7953"
             ],
             [
              0.7777777777777778,
              "#fb9f3a"
             ],
             [
              0.8888888888888888,
              "#fdca26"
             ],
             [
              1,
              "#f0f921"
             ]
            ],
            "type": "histogram2d"
           }
          ],
          "histogram2dcontour": [
           {
            "colorbar": {
             "outlinewidth": 0,
             "ticks": ""
            },
            "colorscale": [
             [
              0,
              "#0d0887"
             ],
             [
              0.1111111111111111,
              "#46039f"
             ],
             [
              0.2222222222222222,
              "#7201a8"
             ],
             [
              0.3333333333333333,
              "#9c179e"
             ],
             [
              0.4444444444444444,
              "#bd3786"
             ],
             [
              0.5555555555555556,
              "#d8576b"
             ],
             [
              0.6666666666666666,
              "#ed7953"
             ],
             [
              0.7777777777777778,
              "#fb9f3a"
             ],
             [
              0.8888888888888888,
              "#fdca26"
             ],
             [
              1,
              "#f0f921"
             ]
            ],
            "type": "histogram2dcontour"
           }
          ],
          "mesh3d": [
           {
            "colorbar": {
             "outlinewidth": 0,
             "ticks": ""
            },
            "type": "mesh3d"
           }
          ],
          "parcoords": [
           {
            "line": {
             "colorbar": {
              "outlinewidth": 0,
              "ticks": ""
             }
            },
            "type": "parcoords"
           }
          ],
          "pie": [
           {
            "automargin": true,
            "type": "pie"
           }
          ],
          "scatter": [
           {
            "fillpattern": {
             "fillmode": "overlay",
             "size": 10,
             "solidity": 0.2
            },
            "type": "scatter"
           }
          ],
          "scatter3d": [
           {
            "line": {
             "colorbar": {
              "outlinewidth": 0,
              "ticks": ""
             }
            },
            "marker": {
             "colorbar": {
              "outlinewidth": 0,
              "ticks": ""
             }
            },
            "type": "scatter3d"
           }
          ],
          "scattercarpet": [
           {
            "marker": {
             "colorbar": {
              "outlinewidth": 0,
              "ticks": ""
             }
            },
            "type": "scattercarpet"
           }
          ],
          "scattergeo": [
           {
            "marker": {
             "colorbar": {
              "outlinewidth": 0,
              "ticks": ""
             }
            },
            "type": "scattergeo"
           }
          ],
          "scattergl": [
           {
            "marker": {
             "colorbar": {
              "outlinewidth": 0,
              "ticks": ""
             }
            },
            "type": "scattergl"
           }
          ],
          "scattermapbox": [
           {
            "marker": {
             "colorbar": {
              "outlinewidth": 0,
              "ticks": ""
             }
            },
            "type": "scattermapbox"
           }
          ],
          "scatterpolar": [
           {
            "marker": {
             "colorbar": {
              "outlinewidth": 0,
              "ticks": ""
             }
            },
            "type": "scatterpolar"
           }
          ],
          "scatterpolargl": [
           {
            "marker": {
             "colorbar": {
              "outlinewidth": 0,
              "ticks": ""
             }
            },
            "type": "scatterpolargl"
           }
          ],
          "scatterternary": [
           {
            "marker": {
             "colorbar": {
              "outlinewidth": 0,
              "ticks": ""
             }
            },
            "type": "scatterternary"
           }
          ],
          "surface": [
           {
            "colorbar": {
             "outlinewidth": 0,
             "ticks": ""
            },
            "colorscale": [
             [
              0,
              "#0d0887"
             ],
             [
              0.1111111111111111,
              "#46039f"
             ],
             [
              0.2222222222222222,
              "#7201a8"
             ],
             [
              0.3333333333333333,
              "#9c179e"
             ],
             [
              0.4444444444444444,
              "#bd3786"
             ],
             [
              0.5555555555555556,
              "#d8576b"
             ],
             [
              0.6666666666666666,
              "#ed7953"
             ],
             [
              0.7777777777777778,
              "#fb9f3a"
             ],
             [
              0.8888888888888888,
              "#fdca26"
             ],
             [
              1,
              "#f0f921"
             ]
            ],
            "type": "surface"
           }
          ],
          "table": [
           {
            "cells": {
             "fill": {
              "color": "#EBF0F8"
             },
             "line": {
              "color": "white"
             }
            },
            "header": {
             "fill": {
              "color": "#C8D4E3"
             },
             "line": {
              "color": "white"
             }
            },
            "type": "table"
           }
          ]
         },
         "layout": {
          "annotationdefaults": {
           "arrowcolor": "#2a3f5f",
           "arrowhead": 0,
           "arrowwidth": 1
          },
          "autotypenumbers": "strict",
          "coloraxis": {
           "colorbar": {
            "outlinewidth": 0,
            "ticks": ""
           }
          },
          "colorscale": {
           "diverging": [
            [
             0,
             "#8e0152"
            ],
            [
             0.1,
             "#c51b7d"
            ],
            [
             0.2,
             "#de77ae"
            ],
            [
             0.3,
             "#f1b6da"
            ],
            [
             0.4,
             "#fde0ef"
            ],
            [
             0.5,
             "#f7f7f7"
            ],
            [
             0.6,
             "#e6f5d0"
            ],
            [
             0.7,
             "#b8e186"
            ],
            [
             0.8,
             "#7fbc41"
            ],
            [
             0.9,
             "#4d9221"
            ],
            [
             1,
             "#276419"
            ]
           ],
           "sequential": [
            [
             0,
             "#0d0887"
            ],
            [
             0.1111111111111111,
             "#46039f"
            ],
            [
             0.2222222222222222,
             "#7201a8"
            ],
            [
             0.3333333333333333,
             "#9c179e"
            ],
            [
             0.4444444444444444,
             "#bd3786"
            ],
            [
             0.5555555555555556,
             "#d8576b"
            ],
            [
             0.6666666666666666,
             "#ed7953"
            ],
            [
             0.7777777777777778,
             "#fb9f3a"
            ],
            [
             0.8888888888888888,
             "#fdca26"
            ],
            [
             1,
             "#f0f921"
            ]
           ],
           "sequentialminus": [
            [
             0,
             "#0d0887"
            ],
            [
             0.1111111111111111,
             "#46039f"
            ],
            [
             0.2222222222222222,
             "#7201a8"
            ],
            [
             0.3333333333333333,
             "#9c179e"
            ],
            [
             0.4444444444444444,
             "#bd3786"
            ],
            [
             0.5555555555555556,
             "#d8576b"
            ],
            [
             0.6666666666666666,
             "#ed7953"
            ],
            [
             0.7777777777777778,
             "#fb9f3a"
            ],
            [
             0.8888888888888888,
             "#fdca26"
            ],
            [
             1,
             "#f0f921"
            ]
           ]
          },
          "colorway": [
           "#636efa",
           "#EF553B",
           "#00cc96",
           "#ab63fa",
           "#FFA15A",
           "#19d3f3",
           "#FF6692",
           "#B6E880",
           "#FF97FF",
           "#FECB52"
          ],
          "font": {
           "color": "#2a3f5f"
          },
          "geo": {
           "bgcolor": "white",
           "lakecolor": "white",
           "landcolor": "#E5ECF6",
           "showlakes": true,
           "showland": true,
           "subunitcolor": "white"
          },
          "hoverlabel": {
           "align": "left"
          },
          "hovermode": "closest",
          "mapbox": {
           "style": "light"
          },
          "paper_bgcolor": "white",
          "plot_bgcolor": "#E5ECF6",
          "polar": {
           "angularaxis": {
            "gridcolor": "white",
            "linecolor": "white",
            "ticks": ""
           },
           "bgcolor": "#E5ECF6",
           "radialaxis": {
            "gridcolor": "white",
            "linecolor": "white",
            "ticks": ""
           }
          },
          "scene": {
           "xaxis": {
            "backgroundcolor": "#E5ECF6",
            "gridcolor": "white",
            "gridwidth": 2,
            "linecolor": "white",
            "showbackground": true,
            "ticks": "",
            "zerolinecolor": "white"
           },
           "yaxis": {
            "backgroundcolor": "#E5ECF6",
            "gridcolor": "white",
            "gridwidth": 2,
            "linecolor": "white",
            "showbackground": true,
            "ticks": "",
            "zerolinecolor": "white"
           },
           "zaxis": {
            "backgroundcolor": "#E5ECF6",
            "gridcolor": "white",
            "gridwidth": 2,
            "linecolor": "white",
            "showbackground": true,
            "ticks": "",
            "zerolinecolor": "white"
           }
          },
          "shapedefaults": {
           "line": {
            "color": "#2a3f5f"
           }
          },
          "ternary": {
           "aaxis": {
            "gridcolor": "white",
            "linecolor": "white",
            "ticks": ""
           },
           "baxis": {
            "gridcolor": "white",
            "linecolor": "white",
            "ticks": ""
           },
           "bgcolor": "#E5ECF6",
           "caxis": {
            "gridcolor": "white",
            "linecolor": "white",
            "ticks": ""
           }
          },
          "title": {
           "x": 0.05
          },
          "xaxis": {
           "automargin": true,
           "gridcolor": "white",
           "linecolor": "white",
           "ticks": "",
           "title": {
            "standoff": 15
           },
           "zerolinecolor": "white",
           "zerolinewidth": 2
          },
          "yaxis": {
           "automargin": true,
           "gridcolor": "white",
           "linecolor": "white",
           "ticks": "",
           "title": {
            "standoff": 15
           },
           "zerolinecolor": "white",
           "zerolinewidth": 2
          }
         }
        },
        "width": 200
       }
      }
     },
     "metadata": {},
     "output_type": "display_data"
    },
    {
     "data": {
      "application/vnd.plotly.v1+json": {
       "config": {
        "plotlyServerURL": "https://plot.ly"
       },
       "data": [
        {
         "domain": {
          "x": [
           0,
           1
          ],
          "y": [
           0,
           1
          ]
         },
         "gauge": {
          "axis": {
           "range": [
            100,
            0
           ],
           "tickfont": {
            "size": 8
           }
          },
          "bar": {
           "color": "red"
          },
          "steps": [
           {
            "color": "lightgray",
            "range": [
             0,
             100
            ]
           }
          ],
          "threshold": {
           "line": {
            "color": "black",
            "width": 4
           },
           "thickness": 0.75,
           "value": 4
          }
         },
         "mode": "gauge+number",
         "number": {
          "suffix": "%"
         },
         "title": {
          "font": {
           "size": 14
          },
          "text": "Atual"
         },
         "type": "indicator",
         "value": 24
        }
       ],
       "layout": {
        "autosize": true,
        "height": 200,
        "margin": {
         "b": 30,
         "l": 30,
         "r": 30,
         "t": 30
        },
        "plot_bgcolor": "white",
        "template": {
         "data": {
          "bar": [
           {
            "error_x": {
             "color": "#2a3f5f"
            },
            "error_y": {
             "color": "#2a3f5f"
            },
            "marker": {
             "line": {
              "color": "#E5ECF6",
              "width": 0.5
             },
             "pattern": {
              "fillmode": "overlay",
              "size": 10,
              "solidity": 0.2
             }
            },
            "type": "bar"
           }
          ],
          "barpolar": [
           {
            "marker": {
             "line": {
              "color": "#E5ECF6",
              "width": 0.5
             },
             "pattern": {
              "fillmode": "overlay",
              "size": 10,
              "solidity": 0.2
             }
            },
            "type": "barpolar"
           }
          ],
          "carpet": [
           {
            "aaxis": {
             "endlinecolor": "#2a3f5f",
             "gridcolor": "white",
             "linecolor": "white",
             "minorgridcolor": "white",
             "startlinecolor": "#2a3f5f"
            },
            "baxis": {
             "endlinecolor": "#2a3f5f",
             "gridcolor": "white",
             "linecolor": "white",
             "minorgridcolor": "white",
             "startlinecolor": "#2a3f5f"
            },
            "type": "carpet"
           }
          ],
          "choropleth": [
           {
            "colorbar": {
             "outlinewidth": 0,
             "ticks": ""
            },
            "type": "choropleth"
           }
          ],
          "contour": [
           {
            "colorbar": {
             "outlinewidth": 0,
             "ticks": ""
            },
            "colorscale": [
             [
              0,
              "#0d0887"
             ],
             [
              0.1111111111111111,
              "#46039f"
             ],
             [
              0.2222222222222222,
              "#7201a8"
             ],
             [
              0.3333333333333333,
              "#9c179e"
             ],
             [
              0.4444444444444444,
              "#bd3786"
             ],
             [
              0.5555555555555556,
              "#d8576b"
             ],
             [
              0.6666666666666666,
              "#ed7953"
             ],
             [
              0.7777777777777778,
              "#fb9f3a"
             ],
             [
              0.8888888888888888,
              "#fdca26"
             ],
             [
              1,
              "#f0f921"
             ]
            ],
            "type": "contour"
           }
          ],
          "contourcarpet": [
           {
            "colorbar": {
             "outlinewidth": 0,
             "ticks": ""
            },
            "type": "contourcarpet"
           }
          ],
          "heatmap": [
           {
            "colorbar": {
             "outlinewidth": 0,
             "ticks": ""
            },
            "colorscale": [
             [
              0,
              "#0d0887"
             ],
             [
              0.1111111111111111,
              "#46039f"
             ],
             [
              0.2222222222222222,
              "#7201a8"
             ],
             [
              0.3333333333333333,
              "#9c179e"
             ],
             [
              0.4444444444444444,
              "#bd3786"
             ],
             [
              0.5555555555555556,
              "#d8576b"
             ],
             [
              0.6666666666666666,
              "#ed7953"
             ],
             [
              0.7777777777777778,
              "#fb9f3a"
             ],
             [
              0.8888888888888888,
              "#fdca26"
             ],
             [
              1,
              "#f0f921"
             ]
            ],
            "type": "heatmap"
           }
          ],
          "heatmapgl": [
           {
            "colorbar": {
             "outlinewidth": 0,
             "ticks": ""
            },
            "colorscale": [
             [
              0,
              "#0d0887"
             ],
             [
              0.1111111111111111,
              "#46039f"
             ],
             [
              0.2222222222222222,
              "#7201a8"
             ],
             [
              0.3333333333333333,
              "#9c179e"
             ],
             [
              0.4444444444444444,
              "#bd3786"
             ],
             [
              0.5555555555555556,
              "#d8576b"
             ],
             [
              0.6666666666666666,
              "#ed7953"
             ],
             [
              0.7777777777777778,
              "#fb9f3a"
             ],
             [
              0.8888888888888888,
              "#fdca26"
             ],
             [
              1,
              "#f0f921"
             ]
            ],
            "type": "heatmapgl"
           }
          ],
          "histogram": [
           {
            "marker": {
             "pattern": {
              "fillmode": "overlay",
              "size": 10,
              "solidity": 0.2
             }
            },
            "type": "histogram"
           }
          ],
          "histogram2d": [
           {
            "colorbar": {
             "outlinewidth": 0,
             "ticks": ""
            },
            "colorscale": [
             [
              0,
              "#0d0887"
             ],
             [
              0.1111111111111111,
              "#46039f"
             ],
             [
              0.2222222222222222,
              "#7201a8"
             ],
             [
              0.3333333333333333,
              "#9c179e"
             ],
             [
              0.4444444444444444,
              "#bd3786"
             ],
             [
              0.5555555555555556,
              "#d8576b"
             ],
             [
              0.6666666666666666,
              "#ed7953"
             ],
             [
              0.7777777777777778,
              "#fb9f3a"
             ],
             [
              0.8888888888888888,
              "#fdca26"
             ],
             [
              1,
              "#f0f921"
             ]
            ],
            "type": "histogram2d"
           }
          ],
          "histogram2dcontour": [
           {
            "colorbar": {
             "outlinewidth": 0,
             "ticks": ""
            },
            "colorscale": [
             [
              0,
              "#0d0887"
             ],
             [
              0.1111111111111111,
              "#46039f"
             ],
             [
              0.2222222222222222,
              "#7201a8"
             ],
             [
              0.3333333333333333,
              "#9c179e"
             ],
             [
              0.4444444444444444,
              "#bd3786"
             ],
             [
              0.5555555555555556,
              "#d8576b"
             ],
             [
              0.6666666666666666,
              "#ed7953"
             ],
             [
              0.7777777777777778,
              "#fb9f3a"
             ],
             [
              0.8888888888888888,
              "#fdca26"
             ],
             [
              1,
              "#f0f921"
             ]
            ],
            "type": "histogram2dcontour"
           }
          ],
          "mesh3d": [
           {
            "colorbar": {
             "outlinewidth": 0,
             "ticks": ""
            },
            "type": "mesh3d"
           }
          ],
          "parcoords": [
           {
            "line": {
             "colorbar": {
              "outlinewidth": 0,
              "ticks": ""
             }
            },
            "type": "parcoords"
           }
          ],
          "pie": [
           {
            "automargin": true,
            "type": "pie"
           }
          ],
          "scatter": [
           {
            "fillpattern": {
             "fillmode": "overlay",
             "size": 10,
             "solidity": 0.2
            },
            "type": "scatter"
           }
          ],
          "scatter3d": [
           {
            "line": {
             "colorbar": {
              "outlinewidth": 0,
              "ticks": ""
             }
            },
            "marker": {
             "colorbar": {
              "outlinewidth": 0,
              "ticks": ""
             }
            },
            "type": "scatter3d"
           }
          ],
          "scattercarpet": [
           {
            "marker": {
             "colorbar": {
              "outlinewidth": 0,
              "ticks": ""
             }
            },
            "type": "scattercarpet"
           }
          ],
          "scattergeo": [
           {
            "marker": {
             "colorbar": {
              "outlinewidth": 0,
              "ticks": ""
             }
            },
            "type": "scattergeo"
           }
          ],
          "scattergl": [
           {
            "marker": {
             "colorbar": {
              "outlinewidth": 0,
              "ticks": ""
             }
            },
            "type": "scattergl"
           }
          ],
          "scattermapbox": [
           {
            "marker": {
             "colorbar": {
              "outlinewidth": 0,
              "ticks": ""
             }
            },
            "type": "scattermapbox"
           }
          ],
          "scatterpolar": [
           {
            "marker": {
             "colorbar": {
              "outlinewidth": 0,
              "ticks": ""
             }
            },
            "type": "scatterpolar"
           }
          ],
          "scatterpolargl": [
           {
            "marker": {
             "colorbar": {
              "outlinewidth": 0,
              "ticks": ""
             }
            },
            "type": "scatterpolargl"
           }
          ],
          "scatterternary": [
           {
            "marker": {
             "colorbar": {
              "outlinewidth": 0,
              "ticks": ""
             }
            },
            "type": "scatterternary"
           }
          ],
          "surface": [
           {
            "colorbar": {
             "outlinewidth": 0,
             "ticks": ""
            },
            "colorscale": [
             [
              0,
              "#0d0887"
             ],
             [
              0.1111111111111111,
              "#46039f"
             ],
             [
              0.2222222222222222,
              "#7201a8"
             ],
             [
              0.3333333333333333,
              "#9c179e"
             ],
             [
              0.4444444444444444,
              "#bd3786"
             ],
             [
              0.5555555555555556,
              "#d8576b"
             ],
             [
              0.6666666666666666,
              "#ed7953"
             ],
             [
              0.7777777777777778,
              "#fb9f3a"
             ],
             [
              0.8888888888888888,
              "#fdca26"
             ],
             [
              1,
              "#f0f921"
             ]
            ],
            "type": "surface"
           }
          ],
          "table": [
           {
            "cells": {
             "fill": {
              "color": "#EBF0F8"
             },
             "line": {
              "color": "white"
             }
            },
            "header": {
             "fill": {
              "color": "#C8D4E3"
             },
             "line": {
              "color": "white"
             }
            },
            "type": "table"
           }
          ]
         },
         "layout": {
          "annotationdefaults": {
           "arrowcolor": "#2a3f5f",
           "arrowhead": 0,
           "arrowwidth": 1
          },
          "autotypenumbers": "strict",
          "coloraxis": {
           "colorbar": {
            "outlinewidth": 0,
            "ticks": ""
           }
          },
          "colorscale": {
           "diverging": [
            [
             0,
             "#8e0152"
            ],
            [
             0.1,
             "#c51b7d"
            ],
            [
             0.2,
             "#de77ae"
            ],
            [
             0.3,
             "#f1b6da"
            ],
            [
             0.4,
             "#fde0ef"
            ],
            [
             0.5,
             "#f7f7f7"
            ],
            [
             0.6,
             "#e6f5d0"
            ],
            [
             0.7,
             "#b8e186"
            ],
            [
             0.8,
             "#7fbc41"
            ],
            [
             0.9,
             "#4d9221"
            ],
            [
             1,
             "#276419"
            ]
           ],
           "sequential": [
            [
             0,
             "#0d0887"
            ],
            [
             0.1111111111111111,
             "#46039f"
            ],
            [
             0.2222222222222222,
             "#7201a8"
            ],
            [
             0.3333333333333333,
             "#9c179e"
            ],
            [
             0.4444444444444444,
             "#bd3786"
            ],
            [
             0.5555555555555556,
             "#d8576b"
            ],
            [
             0.6666666666666666,
             "#ed7953"
            ],
            [
             0.7777777777777778,
             "#fb9f3a"
            ],
            [
             0.8888888888888888,
             "#fdca26"
            ],
            [
             1,
             "#f0f921"
            ]
           ],
           "sequentialminus": [
            [
             0,
             "#0d0887"
            ],
            [
             0.1111111111111111,
             "#46039f"
            ],
            [
             0.2222222222222222,
             "#7201a8"
            ],
            [
             0.3333333333333333,
             "#9c179e"
            ],
            [
             0.4444444444444444,
             "#bd3786"
            ],
            [
             0.5555555555555556,
             "#d8576b"
            ],
            [
             0.6666666666666666,
             "#ed7953"
            ],
            [
             0.7777777777777778,
             "#fb9f3a"
            ],
            [
             0.8888888888888888,
             "#fdca26"
            ],
            [
             1,
             "#f0f921"
            ]
           ]
          },
          "colorway": [
           "#636efa",
           "#EF553B",
           "#00cc96",
           "#ab63fa",
           "#FFA15A",
           "#19d3f3",
           "#FF6692",
           "#B6E880",
           "#FF97FF",
           "#FECB52"
          ],
          "font": {
           "color": "#2a3f5f"
          },
          "geo": {
           "bgcolor": "white",
           "lakecolor": "white",
           "landcolor": "#E5ECF6",
           "showlakes": true,
           "showland": true,
           "subunitcolor": "white"
          },
          "hoverlabel": {
           "align": "left"
          },
          "hovermode": "closest",
          "mapbox": {
           "style": "light"
          },
          "paper_bgcolor": "white",
          "plot_bgcolor": "#E5ECF6",
          "polar": {
           "angularaxis": {
            "gridcolor": "white",
            "linecolor": "white",
            "ticks": ""
           },
           "bgcolor": "#E5ECF6",
           "radialaxis": {
            "gridcolor": "white",
            "linecolor": "white",
            "ticks": ""
           }
          },
          "scene": {
           "xaxis": {
            "backgroundcolor": "#E5ECF6",
            "gridcolor": "white",
            "gridwidth": 2,
            "linecolor": "white",
            "showbackground": true,
            "ticks": "",
            "zerolinecolor": "white"
           },
           "yaxis": {
            "backgroundcolor": "#E5ECF6",
            "gridcolor": "white",
            "gridwidth": 2,
            "linecolor": "white",
            "showbackground": true,
            "ticks": "",
            "zerolinecolor": "white"
           },
           "zaxis": {
            "backgroundcolor": "#E5ECF6",
            "gridcolor": "white",
            "gridwidth": 2,
            "linecolor": "white",
            "showbackground": true,
            "ticks": "",
            "zerolinecolor": "white"
           }
          },
          "shapedefaults": {
           "line": {
            "color": "#2a3f5f"
           }
          },
          "ternary": {
           "aaxis": {
            "gridcolor": "white",
            "linecolor": "white",
            "ticks": ""
           },
           "baxis": {
            "gridcolor": "white",
            "linecolor": "white",
            "ticks": ""
           },
           "bgcolor": "#E5ECF6",
           "caxis": {
            "gridcolor": "white",
            "linecolor": "white",
            "ticks": ""
           }
          },
          "title": {
           "x": 0.05
          },
          "xaxis": {
           "automargin": true,
           "gridcolor": "white",
           "linecolor": "white",
           "ticks": "",
           "title": {
            "standoff": 15
           },
           "zerolinecolor": "white",
           "zerolinewidth": 2
          },
          "yaxis": {
           "automargin": true,
           "gridcolor": "white",
           "linecolor": "white",
           "ticks": "",
           "title": {
            "standoff": 15
           },
           "zerolinecolor": "white",
           "zerolinewidth": 2
          }
         }
        },
        "width": 200
       }
      }
     },
     "metadata": {},
     "output_type": "display_data"
    },
    {
     "data": {
      "application/vnd.plotly.v1+json": {
       "config": {
        "plotlyServerURL": "https://plot.ly"
       },
       "data": [
        {
         "domain": {
          "x": [
           0,
           1
          ],
          "y": [
           0,
           1
          ]
         },
         "gauge": {
          "axis": {
           "range": [
            100,
            0
           ],
           "tickfont": {
            "size": 8
           }
          },
          "bar": {
           "color": "green"
          },
          "steps": [
           {
            "color": "lightgray",
            "range": [
             0,
             100
            ]
           }
          ],
          "threshold": {
           "line": {
            "color": "black",
            "width": 4
           },
           "thickness": 0.75,
           "value": 4
          }
         },
         "mode": "gauge+number",
         "number": {
          "suffix": "%"
         },
         "title": {
          "font": {
           "size": 14
          },
          "text": "Atual"
         },
         "type": "indicator",
         "value": 2
        }
       ],
       "layout": {
        "autosize": true,
        "height": 200,
        "margin": {
         "b": 30,
         "l": 30,
         "r": 30,
         "t": 30
        },
        "plot_bgcolor": "white",
        "template": {
         "data": {
          "bar": [
           {
            "error_x": {
             "color": "#2a3f5f"
            },
            "error_y": {
             "color": "#2a3f5f"
            },
            "marker": {
             "line": {
              "color": "#E5ECF6",
              "width": 0.5
             },
             "pattern": {
              "fillmode": "overlay",
              "size": 10,
              "solidity": 0.2
             }
            },
            "type": "bar"
           }
          ],
          "barpolar": [
           {
            "marker": {
             "line": {
              "color": "#E5ECF6",
              "width": 0.5
             },
             "pattern": {
              "fillmode": "overlay",
              "size": 10,
              "solidity": 0.2
             }
            },
            "type": "barpolar"
           }
          ],
          "carpet": [
           {
            "aaxis": {
             "endlinecolor": "#2a3f5f",
             "gridcolor": "white",
             "linecolor": "white",
             "minorgridcolor": "white",
             "startlinecolor": "#2a3f5f"
            },
            "baxis": {
             "endlinecolor": "#2a3f5f",
             "gridcolor": "white",
             "linecolor": "white",
             "minorgridcolor": "white",
             "startlinecolor": "#2a3f5f"
            },
            "type": "carpet"
           }
          ],
          "choropleth": [
           {
            "colorbar": {
             "outlinewidth": 0,
             "ticks": ""
            },
            "type": "choropleth"
           }
          ],
          "contour": [
           {
            "colorbar": {
             "outlinewidth": 0,
             "ticks": ""
            },
            "colorscale": [
             [
              0,
              "#0d0887"
             ],
             [
              0.1111111111111111,
              "#46039f"
             ],
             [
              0.2222222222222222,
              "#7201a8"
             ],
             [
              0.3333333333333333,
              "#9c179e"
             ],
             [
              0.4444444444444444,
              "#bd3786"
             ],
             [
              0.5555555555555556,
              "#d8576b"
             ],
             [
              0.6666666666666666,
              "#ed7953"
             ],
             [
              0.7777777777777778,
              "#fb9f3a"
             ],
             [
              0.8888888888888888,
              "#fdca26"
             ],
             [
              1,
              "#f0f921"
             ]
            ],
            "type": "contour"
           }
          ],
          "contourcarpet": [
           {
            "colorbar": {
             "outlinewidth": 0,
             "ticks": ""
            },
            "type": "contourcarpet"
           }
          ],
          "heatmap": [
           {
            "colorbar": {
             "outlinewidth": 0,
             "ticks": ""
            },
            "colorscale": [
             [
              0,
              "#0d0887"
             ],
             [
              0.1111111111111111,
              "#46039f"
             ],
             [
              0.2222222222222222,
              "#7201a8"
             ],
             [
              0.3333333333333333,
              "#9c179e"
             ],
             [
              0.4444444444444444,
              "#bd3786"
             ],
             [
              0.5555555555555556,
              "#d8576b"
             ],
             [
              0.6666666666666666,
              "#ed7953"
             ],
             [
              0.7777777777777778,
              "#fb9f3a"
             ],
             [
              0.8888888888888888,
              "#fdca26"
             ],
             [
              1,
              "#f0f921"
             ]
            ],
            "type": "heatmap"
           }
          ],
          "heatmapgl": [
           {
            "colorbar": {
             "outlinewidth": 0,
             "ticks": ""
            },
            "colorscale": [
             [
              0,
              "#0d0887"
             ],
             [
              0.1111111111111111,
              "#46039f"
             ],
             [
              0.2222222222222222,
              "#7201a8"
             ],
             [
              0.3333333333333333,
              "#9c179e"
             ],
             [
              0.4444444444444444,
              "#bd3786"
             ],
             [
              0.5555555555555556,
              "#d8576b"
             ],
             [
              0.6666666666666666,
              "#ed7953"
             ],
             [
              0.7777777777777778,
              "#fb9f3a"
             ],
             [
              0.8888888888888888,
              "#fdca26"
             ],
             [
              1,
              "#f0f921"
             ]
            ],
            "type": "heatmapgl"
           }
          ],
          "histogram": [
           {
            "marker": {
             "pattern": {
              "fillmode": "overlay",
              "size": 10,
              "solidity": 0.2
             }
            },
            "type": "histogram"
           }
          ],
          "histogram2d": [
           {
            "colorbar": {
             "outlinewidth": 0,
             "ticks": ""
            },
            "colorscale": [
             [
              0,
              "#0d0887"
             ],
             [
              0.1111111111111111,
              "#46039f"
             ],
             [
              0.2222222222222222,
              "#7201a8"
             ],
             [
              0.3333333333333333,
              "#9c179e"
             ],
             [
              0.4444444444444444,
              "#bd3786"
             ],
             [
              0.5555555555555556,
              "#d8576b"
             ],
             [
              0.6666666666666666,
              "#ed7953"
             ],
             [
              0.7777777777777778,
              "#fb9f3a"
             ],
             [
              0.8888888888888888,
              "#fdca26"
             ],
             [
              1,
              "#f0f921"
             ]
            ],
            "type": "histogram2d"
           }
          ],
          "histogram2dcontour": [
           {
            "colorbar": {
             "outlinewidth": 0,
             "ticks": ""
            },
            "colorscale": [
             [
              0,
              "#0d0887"
             ],
             [
              0.1111111111111111,
              "#46039f"
             ],
             [
              0.2222222222222222,
              "#7201a8"
             ],
             [
              0.3333333333333333,
              "#9c179e"
             ],
             [
              0.4444444444444444,
              "#bd3786"
             ],
             [
              0.5555555555555556,
              "#d8576b"
             ],
             [
              0.6666666666666666,
              "#ed7953"
             ],
             [
              0.7777777777777778,
              "#fb9f3a"
             ],
             [
              0.8888888888888888,
              "#fdca26"
             ],
             [
              1,
              "#f0f921"
             ]
            ],
            "type": "histogram2dcontour"
           }
          ],
          "mesh3d": [
           {
            "colorbar": {
             "outlinewidth": 0,
             "ticks": ""
            },
            "type": "mesh3d"
           }
          ],
          "parcoords": [
           {
            "line": {
             "colorbar": {
              "outlinewidth": 0,
              "ticks": ""
             }
            },
            "type": "parcoords"
           }
          ],
          "pie": [
           {
            "automargin": true,
            "type": "pie"
           }
          ],
          "scatter": [
           {
            "fillpattern": {
             "fillmode": "overlay",
             "size": 10,
             "solidity": 0.2
            },
            "type": "scatter"
           }
          ],
          "scatter3d": [
           {
            "line": {
             "colorbar": {
              "outlinewidth": 0,
              "ticks": ""
             }
            },
            "marker": {
             "colorbar": {
              "outlinewidth": 0,
              "ticks": ""
             }
            },
            "type": "scatter3d"
           }
          ],
          "scattercarpet": [
           {
            "marker": {
             "colorbar": {
              "outlinewidth": 0,
              "ticks": ""
             }
            },
            "type": "scattercarpet"
           }
          ],
          "scattergeo": [
           {
            "marker": {
             "colorbar": {
              "outlinewidth": 0,
              "ticks": ""
             }
            },
            "type": "scattergeo"
           }
          ],
          "scattergl": [
           {
            "marker": {
             "colorbar": {
              "outlinewidth": 0,
              "ticks": ""
             }
            },
            "type": "scattergl"
           }
          ],
          "scattermapbox": [
           {
            "marker": {
             "colorbar": {
              "outlinewidth": 0,
              "ticks": ""
             }
            },
            "type": "scattermapbox"
           }
          ],
          "scatterpolar": [
           {
            "marker": {
             "colorbar": {
              "outlinewidth": 0,
              "ticks": ""
             }
            },
            "type": "scatterpolar"
           }
          ],
          "scatterpolargl": [
           {
            "marker": {
             "colorbar": {
              "outlinewidth": 0,
              "ticks": ""
             }
            },
            "type": "scatterpolargl"
           }
          ],
          "scatterternary": [
           {
            "marker": {
             "colorbar": {
              "outlinewidth": 0,
              "ticks": ""
             }
            },
            "type": "scatterternary"
           }
          ],
          "surface": [
           {
            "colorbar": {
             "outlinewidth": 0,
             "ticks": ""
            },
            "colorscale": [
             [
              0,
              "#0d0887"
             ],
             [
              0.1111111111111111,
              "#46039f"
             ],
             [
              0.2222222222222222,
              "#7201a8"
             ],
             [
              0.3333333333333333,
              "#9c179e"
             ],
             [
              0.4444444444444444,
              "#bd3786"
             ],
             [
              0.5555555555555556,
              "#d8576b"
             ],
             [
              0.6666666666666666,
              "#ed7953"
             ],
             [
              0.7777777777777778,
              "#fb9f3a"
             ],
             [
              0.8888888888888888,
              "#fdca26"
             ],
             [
              1,
              "#f0f921"
             ]
            ],
            "type": "surface"
           }
          ],
          "table": [
           {
            "cells": {
             "fill": {
              "color": "#EBF0F8"
             },
             "line": {
              "color": "white"
             }
            },
            "header": {
             "fill": {
              "color": "#C8D4E3"
             },
             "line": {
              "color": "white"
             }
            },
            "type": "table"
           }
          ]
         },
         "layout": {
          "annotationdefaults": {
           "arrowcolor": "#2a3f5f",
           "arrowhead": 0,
           "arrowwidth": 1
          },
          "autotypenumbers": "strict",
          "coloraxis": {
           "colorbar": {
            "outlinewidth": 0,
            "ticks": ""
           }
          },
          "colorscale": {
           "diverging": [
            [
             0,
             "#8e0152"
            ],
            [
             0.1,
             "#c51b7d"
            ],
            [
             0.2,
             "#de77ae"
            ],
            [
             0.3,
             "#f1b6da"
            ],
            [
             0.4,
             "#fde0ef"
            ],
            [
             0.5,
             "#f7f7f7"
            ],
            [
             0.6,
             "#e6f5d0"
            ],
            [
             0.7,
             "#b8e186"
            ],
            [
             0.8,
             "#7fbc41"
            ],
            [
             0.9,
             "#4d9221"
            ],
            [
             1,
             "#276419"
            ]
           ],
           "sequential": [
            [
             0,
             "#0d0887"
            ],
            [
             0.1111111111111111,
             "#46039f"
            ],
            [
             0.2222222222222222,
             "#7201a8"
            ],
            [
             0.3333333333333333,
             "#9c179e"
            ],
            [
             0.4444444444444444,
             "#bd3786"
            ],
            [
             0.5555555555555556,
             "#d8576b"
            ],
            [
             0.6666666666666666,
             "#ed7953"
            ],
            [
             0.7777777777777778,
             "#fb9f3a"
            ],
            [
             0.8888888888888888,
             "#fdca26"
            ],
            [
             1,
             "#f0f921"
            ]
           ],
           "sequentialminus": [
            [
             0,
             "#0d0887"
            ],
            [
             0.1111111111111111,
             "#46039f"
            ],
            [
             0.2222222222222222,
             "#7201a8"
            ],
            [
             0.3333333333333333,
             "#9c179e"
            ],
            [
             0.4444444444444444,
             "#bd3786"
            ],
            [
             0.5555555555555556,
             "#d8576b"
            ],
            [
             0.6666666666666666,
             "#ed7953"
            ],
            [
             0.7777777777777778,
             "#fb9f3a"
            ],
            [
             0.8888888888888888,
             "#fdca26"
            ],
            [
             1,
             "#f0f921"
            ]
           ]
          },
          "colorway": [
           "#636efa",
           "#EF553B",
           "#00cc96",
           "#ab63fa",
           "#FFA15A",
           "#19d3f3",
           "#FF6692",
           "#B6E880",
           "#FF97FF",
           "#FECB52"
          ],
          "font": {
           "color": "#2a3f5f"
          },
          "geo": {
           "bgcolor": "white",
           "lakecolor": "white",
           "landcolor": "#E5ECF6",
           "showlakes": true,
           "showland": true,
           "subunitcolor": "white"
          },
          "hoverlabel": {
           "align": "left"
          },
          "hovermode": "closest",
          "mapbox": {
           "style": "light"
          },
          "paper_bgcolor": "white",
          "plot_bgcolor": "#E5ECF6",
          "polar": {
           "angularaxis": {
            "gridcolor": "white",
            "linecolor": "white",
            "ticks": ""
           },
           "bgcolor": "#E5ECF6",
           "radialaxis": {
            "gridcolor": "white",
            "linecolor": "white",
            "ticks": ""
           }
          },
          "scene": {
           "xaxis": {
            "backgroundcolor": "#E5ECF6",
            "gridcolor": "white",
            "gridwidth": 2,
            "linecolor": "white",
            "showbackground": true,
            "ticks": "",
            "zerolinecolor": "white"
           },
           "yaxis": {
            "backgroundcolor": "#E5ECF6",
            "gridcolor": "white",
            "gridwidth": 2,
            "linecolor": "white",
            "showbackground": true,
            "ticks": "",
            "zerolinecolor": "white"
           },
           "zaxis": {
            "backgroundcolor": "#E5ECF6",
            "gridcolor": "white",
            "gridwidth": 2,
            "linecolor": "white",
            "showbackground": true,
            "ticks": "",
            "zerolinecolor": "white"
           }
          },
          "shapedefaults": {
           "line": {
            "color": "#2a3f5f"
           }
          },
          "ternary": {
           "aaxis": {
            "gridcolor": "white",
            "linecolor": "white",
            "ticks": ""
           },
           "baxis": {
            "gridcolor": "white",
            "linecolor": "white",
            "ticks": ""
           },
           "bgcolor": "#E5ECF6",
           "caxis": {
            "gridcolor": "white",
            "linecolor": "white",
            "ticks": ""
           }
          },
          "title": {
           "x": 0.05
          },
          "xaxis": {
           "automargin": true,
           "gridcolor": "white",
           "linecolor": "white",
           "ticks": "",
           "title": {
            "standoff": 15
           },
           "zerolinecolor": "white",
           "zerolinewidth": 2
          },
          "yaxis": {
           "automargin": true,
           "gridcolor": "white",
           "linecolor": "white",
           "ticks": "",
           "title": {
            "standoff": 15
           },
           "zerolinecolor": "white",
           "zerolinewidth": 2
          }
         }
        },
        "width": 200
       }
      }
     },
     "metadata": {},
     "output_type": "display_data"
    }
   ],
   "source": [
    "import plotly.graph_objects as go\n",
    "\n",
    "\n",
    "def calculate_eficiencia(df):\n",
    "    return df[\"eficiencia\"].mean()\n",
    "\n",
    "\n",
    "def calculate_performance(df):\n",
    "    return df[\"performance\"].mean()\n",
    "\n",
    "\n",
    "def calculate_reparos(df):\n",
    "    return df[\"reparo\"].mean()\n",
    "\n",
    "\n",
    "def draw_circular_progress_bar_v2(df: pd.DataFrame, type: str, meta: int):\n",
    "    # mapear o tipo das funções\n",
    "    type_map = {\n",
    "        \"eficiencia\": calculate_eficiencia,\n",
    "        \"performance\": calculate_performance,\n",
    "        \"reparo\": calculate_reparos,\n",
    "    }\n",
    "\n",
    "    # Verificar a primeira data_registro do dataframe para saber se os dados são do mês atual\n",
    "    this_month = df[\"data_registro\"].iloc[0].month == pd.Timestamp.now().month\n",
    "    month = \"Atual\" if this_month else \"Anterior\"\n",
    "\n",
    "    # Obter a função com base no tipo\n",
    "    func = type_map[type]\n",
    "\n",
    "    # Calcular a porcentagem\n",
    "    percentage = func(df) if func is not None else 0\n",
    "\n",
    "    # Arredondar porcentagem para não ter casas decimais\n",
    "    percentage = round(percentage, 2)\n",
    "\n",
    "    # Definir a cor com base na porcentagem\n",
    "    if type == \"eficiencia\":\n",
    "        color = \"green\" if percentage >= (meta / 100) else \"red\"\n",
    "    else:\n",
    "        color = \"red\" if percentage >= (meta / 100) else \"green\"\n",
    "\n",
    "    # Definir a escala do eixo para \"performance\" e \"reparo\"\n",
    "    axis_range = [0, 100] if type == \"eficiencia\" else [100, 0]\n",
    "\n",
    "    # Criar o gráfico\n",
    "    fig = go.Figure(\n",
    "        go.Indicator(\n",
    "            mode=\"gauge+number\",\n",
    "            value=percentage * 100,\n",
    "            number={\"suffix\": \"%\"},\n",
    "            domain={\"x\": [0, 1], \"y\": [0, 1]},\n",
    "            title={\n",
    "                \"text\": month,\n",
    "                \"font\": {\"size\": 14},\n",
    "            },\n",
    "            gauge={\n",
    "                \"axis\": {\n",
    "                    \"range\": axis_range,\n",
    "                    \"tickfont\": {\"size\": 8},\n",
    "                },\n",
    "                \"bar\": {\"color\": color},\n",
    "                \"steps\": [\n",
    "                    {\"range\": [0, 100], \"color\": \"lightgray\"},\n",
    "                ],\n",
    "                \"threshold\": {\n",
    "                    \"line\": {\"color\": \"black\", \"width\": 4},\n",
    "                    \"thickness\": 0.75,\n",
    "                    \"value\": meta,\n",
    "                },\n",
    "            },\n",
    "        )\n",
    "    )\n",
    "\n",
    "    fig.update_layout(\n",
    "        autosize=True,\n",
    "        margin=dict(t=30, b=30, l=30, r=30),\n",
    "        plot_bgcolor=\"white\",\n",
    "        width=200,  # apenas para visualização no jupyter\n",
    "        height=200,  # apenas para visualização no jupyter\n",
    "    )\n",
    "\n",
    "    fig.show()\n",
    "\n",
    "\n",
    "draw_circular_progress_bar_v2(df_eff, \"eficiencia\", 90)\n",
    "draw_circular_progress_bar_v2(df_perf, \"performance\", 4)\n",
    "draw_circular_progress_bar_v2(df_reparos, \"reparo\", 4)"
   ]
  },
  {
   "cell_type": "markdown",
   "metadata": {},
   "source": [
    "# Gráfico de linhas\n"
   ]
  },
  {
   "cell_type": "code",
   "execution_count": 199,
   "metadata": {},
   "outputs": [
    {
     "data": {
      "application/vnd.plotly.v1+json": {
       "config": {
        "plotlyServerURL": "https://plot.ly"
       },
       "data": [
        {
         "hoverinfo": "skip",
         "hovertemplate": "<i>Dia</i>: %{x}<br><b>Porcentagem</b>: %{y:.1f}<br>",
         "line": {
          "color": "blue"
         },
         "marker": {
          "color": "blue"
         },
         "mode": "lines+markers",
         "type": "scatter",
         "x": [
          "2024-01-01",
          "2024-01-02",
          "2024-01-03",
          "2024-01-04",
          "2024-01-05",
          "2024-01-06",
          "2024-01-07",
          "2024-01-08",
          "2024-01-09",
          "2024-01-10",
          "2024-01-11",
          "2024-01-12",
          "2024-01-13",
          "2024-01-14",
          "2024-01-15",
          "2024-01-16",
          "2024-01-17"
         ],
         "y": [
          0,
          0.09686657681940701,
          46.6548014110024,
          52.039196503838404,
          52.78339717627274,
          34.600687759380484,
          0.05521862833183588,
          51.713700622172546,
          53.112227595440686,
          52.03131422356757,
          52.67755529338968,
          31.790888525221412,
          0,
          0.0037436358191075174,
          40.84931929422144,
          45.186785708912076,
          48.88537132490769
         ]
        }
       ],
       "layout": {
        "height": 200,
        "margin": {
         "b": 0,
         "l": 0,
         "r": 0,
         "t": 0
        },
        "plot_bgcolor": "white",
        "showlegend": false,
        "template": {
         "data": {
          "bar": [
           {
            "error_x": {
             "color": "#2a3f5f"
            },
            "error_y": {
             "color": "#2a3f5f"
            },
            "marker": {
             "line": {
              "color": "#E5ECF6",
              "width": 0.5
             },
             "pattern": {
              "fillmode": "overlay",
              "size": 10,
              "solidity": 0.2
             }
            },
            "type": "bar"
           }
          ],
          "barpolar": [
           {
            "marker": {
             "line": {
              "color": "#E5ECF6",
              "width": 0.5
             },
             "pattern": {
              "fillmode": "overlay",
              "size": 10,
              "solidity": 0.2
             }
            },
            "type": "barpolar"
           }
          ],
          "carpet": [
           {
            "aaxis": {
             "endlinecolor": "#2a3f5f",
             "gridcolor": "white",
             "linecolor": "white",
             "minorgridcolor": "white",
             "startlinecolor": "#2a3f5f"
            },
            "baxis": {
             "endlinecolor": "#2a3f5f",
             "gridcolor": "white",
             "linecolor": "white",
             "minorgridcolor": "white",
             "startlinecolor": "#2a3f5f"
            },
            "type": "carpet"
           }
          ],
          "choropleth": [
           {
            "colorbar": {
             "outlinewidth": 0,
             "ticks": ""
            },
            "type": "choropleth"
           }
          ],
          "contour": [
           {
            "colorbar": {
             "outlinewidth": 0,
             "ticks": ""
            },
            "colorscale": [
             [
              0,
              "#0d0887"
             ],
             [
              0.1111111111111111,
              "#46039f"
             ],
             [
              0.2222222222222222,
              "#7201a8"
             ],
             [
              0.3333333333333333,
              "#9c179e"
             ],
             [
              0.4444444444444444,
              "#bd3786"
             ],
             [
              0.5555555555555556,
              "#d8576b"
             ],
             [
              0.6666666666666666,
              "#ed7953"
             ],
             [
              0.7777777777777778,
              "#fb9f3a"
             ],
             [
              0.8888888888888888,
              "#fdca26"
             ],
             [
              1,
              "#f0f921"
             ]
            ],
            "type": "contour"
           }
          ],
          "contourcarpet": [
           {
            "colorbar": {
             "outlinewidth": 0,
             "ticks": ""
            },
            "type": "contourcarpet"
           }
          ],
          "heatmap": [
           {
            "colorbar": {
             "outlinewidth": 0,
             "ticks": ""
            },
            "colorscale": [
             [
              0,
              "#0d0887"
             ],
             [
              0.1111111111111111,
              "#46039f"
             ],
             [
              0.2222222222222222,
              "#7201a8"
             ],
             [
              0.3333333333333333,
              "#9c179e"
             ],
             [
              0.4444444444444444,
              "#bd3786"
             ],
             [
              0.5555555555555556,
              "#d8576b"
             ],
             [
              0.6666666666666666,
              "#ed7953"
             ],
             [
              0.7777777777777778,
              "#fb9f3a"
             ],
             [
              0.8888888888888888,
              "#fdca26"
             ],
             [
              1,
              "#f0f921"
             ]
            ],
            "type": "heatmap"
           }
          ],
          "heatmapgl": [
           {
            "colorbar": {
             "outlinewidth": 0,
             "ticks": ""
            },
            "colorscale": [
             [
              0,
              "#0d0887"
             ],
             [
              0.1111111111111111,
              "#46039f"
             ],
             [
              0.2222222222222222,
              "#7201a8"
             ],
             [
              0.3333333333333333,
              "#9c179e"
             ],
             [
              0.4444444444444444,
              "#bd3786"
             ],
             [
              0.5555555555555556,
              "#d8576b"
             ],
             [
              0.6666666666666666,
              "#ed7953"
             ],
             [
              0.7777777777777778,
              "#fb9f3a"
             ],
             [
              0.8888888888888888,
              "#fdca26"
             ],
             [
              1,
              "#f0f921"
             ]
            ],
            "type": "heatmapgl"
           }
          ],
          "histogram": [
           {
            "marker": {
             "pattern": {
              "fillmode": "overlay",
              "size": 10,
              "solidity": 0.2
             }
            },
            "type": "histogram"
           }
          ],
          "histogram2d": [
           {
            "colorbar": {
             "outlinewidth": 0,
             "ticks": ""
            },
            "colorscale": [
             [
              0,
              "#0d0887"
             ],
             [
              0.1111111111111111,
              "#46039f"
             ],
             [
              0.2222222222222222,
              "#7201a8"
             ],
             [
              0.3333333333333333,
              "#9c179e"
             ],
             [
              0.4444444444444444,
              "#bd3786"
             ],
             [
              0.5555555555555556,
              "#d8576b"
             ],
             [
              0.6666666666666666,
              "#ed7953"
             ],
             [
              0.7777777777777778,
              "#fb9f3a"
             ],
             [
              0.8888888888888888,
              "#fdca26"
             ],
             [
              1,
              "#f0f921"
             ]
            ],
            "type": "histogram2d"
           }
          ],
          "histogram2dcontour": [
           {
            "colorbar": {
             "outlinewidth": 0,
             "ticks": ""
            },
            "colorscale": [
             [
              0,
              "#0d0887"
             ],
             [
              0.1111111111111111,
              "#46039f"
             ],
             [
              0.2222222222222222,
              "#7201a8"
             ],
             [
              0.3333333333333333,
              "#9c179e"
             ],
             [
              0.4444444444444444,
              "#bd3786"
             ],
             [
              0.5555555555555556,
              "#d8576b"
             ],
             [
              0.6666666666666666,
              "#ed7953"
             ],
             [
              0.7777777777777778,
              "#fb9f3a"
             ],
             [
              0.8888888888888888,
              "#fdca26"
             ],
             [
              1,
              "#f0f921"
             ]
            ],
            "type": "histogram2dcontour"
           }
          ],
          "mesh3d": [
           {
            "colorbar": {
             "outlinewidth": 0,
             "ticks": ""
            },
            "type": "mesh3d"
           }
          ],
          "parcoords": [
           {
            "line": {
             "colorbar": {
              "outlinewidth": 0,
              "ticks": ""
             }
            },
            "type": "parcoords"
           }
          ],
          "pie": [
           {
            "automargin": true,
            "type": "pie"
           }
          ],
          "scatter": [
           {
            "fillpattern": {
             "fillmode": "overlay",
             "size": 10,
             "solidity": 0.2
            },
            "type": "scatter"
           }
          ],
          "scatter3d": [
           {
            "line": {
             "colorbar": {
              "outlinewidth": 0,
              "ticks": ""
             }
            },
            "marker": {
             "colorbar": {
              "outlinewidth": 0,
              "ticks": ""
             }
            },
            "type": "scatter3d"
           }
          ],
          "scattercarpet": [
           {
            "marker": {
             "colorbar": {
              "outlinewidth": 0,
              "ticks": ""
             }
            },
            "type": "scattercarpet"
           }
          ],
          "scattergeo": [
           {
            "marker": {
             "colorbar": {
              "outlinewidth": 0,
              "ticks": ""
             }
            },
            "type": "scattergeo"
           }
          ],
          "scattergl": [
           {
            "marker": {
             "colorbar": {
              "outlinewidth": 0,
              "ticks": ""
             }
            },
            "type": "scattergl"
           }
          ],
          "scattermapbox": [
           {
            "marker": {
             "colorbar": {
              "outlinewidth": 0,
              "ticks": ""
             }
            },
            "type": "scattermapbox"
           }
          ],
          "scatterpolar": [
           {
            "marker": {
             "colorbar": {
              "outlinewidth": 0,
              "ticks": ""
             }
            },
            "type": "scatterpolar"
           }
          ],
          "scatterpolargl": [
           {
            "marker": {
             "colorbar": {
              "outlinewidth": 0,
              "ticks": ""
             }
            },
            "type": "scatterpolargl"
           }
          ],
          "scatterternary": [
           {
            "marker": {
             "colorbar": {
              "outlinewidth": 0,
              "ticks": ""
             }
            },
            "type": "scatterternary"
           }
          ],
          "surface": [
           {
            "colorbar": {
             "outlinewidth": 0,
             "ticks": ""
            },
            "colorscale": [
             [
              0,
              "#0d0887"
             ],
             [
              0.1111111111111111,
              "#46039f"
             ],
             [
              0.2222222222222222,
              "#7201a8"
             ],
             [
              0.3333333333333333,
              "#9c179e"
             ],
             [
              0.4444444444444444,
              "#bd3786"
             ],
             [
              0.5555555555555556,
              "#d8576b"
             ],
             [
              0.6666666666666666,
              "#ed7953"
             ],
             [
              0.7777777777777778,
              "#fb9f3a"
             ],
             [
              0.8888888888888888,
              "#fdca26"
             ],
             [
              1,
              "#f0f921"
             ]
            ],
            "type": "surface"
           }
          ],
          "table": [
           {
            "cells": {
             "fill": {
              "color": "#EBF0F8"
             },
             "line": {
              "color": "white"
             }
            },
            "header": {
             "fill": {
              "color": "#C8D4E3"
             },
             "line": {
              "color": "white"
             }
            },
            "type": "table"
           }
          ]
         },
         "layout": {
          "annotationdefaults": {
           "arrowcolor": "#2a3f5f",
           "arrowhead": 0,
           "arrowwidth": 1
          },
          "autotypenumbers": "strict",
          "coloraxis": {
           "colorbar": {
            "outlinewidth": 0,
            "ticks": ""
           }
          },
          "colorscale": {
           "diverging": [
            [
             0,
             "#8e0152"
            ],
            [
             0.1,
             "#c51b7d"
            ],
            [
             0.2,
             "#de77ae"
            ],
            [
             0.3,
             "#f1b6da"
            ],
            [
             0.4,
             "#fde0ef"
            ],
            [
             0.5,
             "#f7f7f7"
            ],
            [
             0.6,
             "#e6f5d0"
            ],
            [
             0.7,
             "#b8e186"
            ],
            [
             0.8,
             "#7fbc41"
            ],
            [
             0.9,
             "#4d9221"
            ],
            [
             1,
             "#276419"
            ]
           ],
           "sequential": [
            [
             0,
             "#0d0887"
            ],
            [
             0.1111111111111111,
             "#46039f"
            ],
            [
             0.2222222222222222,
             "#7201a8"
            ],
            [
             0.3333333333333333,
             "#9c179e"
            ],
            [
             0.4444444444444444,
             "#bd3786"
            ],
            [
             0.5555555555555556,
             "#d8576b"
            ],
            [
             0.6666666666666666,
             "#ed7953"
            ],
            [
             0.7777777777777778,
             "#fb9f3a"
            ],
            [
             0.8888888888888888,
             "#fdca26"
            ],
            [
             1,
             "#f0f921"
            ]
           ],
           "sequentialminus": [
            [
             0,
             "#0d0887"
            ],
            [
             0.1111111111111111,
             "#46039f"
            ],
            [
             0.2222222222222222,
             "#7201a8"
            ],
            [
             0.3333333333333333,
             "#9c179e"
            ],
            [
             0.4444444444444444,
             "#bd3786"
            ],
            [
             0.5555555555555556,
             "#d8576b"
            ],
            [
             0.6666666666666666,
             "#ed7953"
            ],
            [
             0.7777777777777778,
             "#fb9f3a"
            ],
            [
             0.8888888888888888,
             "#fdca26"
            ],
            [
             1,
             "#f0f921"
            ]
           ]
          },
          "colorway": [
           "#636efa",
           "#EF553B",
           "#00cc96",
           "#ab63fa",
           "#FFA15A",
           "#19d3f3",
           "#FF6692",
           "#B6E880",
           "#FF97FF",
           "#FECB52"
          ],
          "font": {
           "color": "#2a3f5f"
          },
          "geo": {
           "bgcolor": "white",
           "lakecolor": "white",
           "landcolor": "#E5ECF6",
           "showlakes": true,
           "showland": true,
           "subunitcolor": "white"
          },
          "hoverlabel": {
           "align": "left"
          },
          "hovermode": "closest",
          "mapbox": {
           "style": "light"
          },
          "paper_bgcolor": "white",
          "plot_bgcolor": "#E5ECF6",
          "polar": {
           "angularaxis": {
            "gridcolor": "white",
            "linecolor": "white",
            "ticks": ""
           },
           "bgcolor": "#E5ECF6",
           "radialaxis": {
            "gridcolor": "white",
            "linecolor": "white",
            "ticks": ""
           }
          },
          "scene": {
           "xaxis": {
            "backgroundcolor": "#E5ECF6",
            "gridcolor": "white",
            "gridwidth": 2,
            "linecolor": "white",
            "showbackground": true,
            "ticks": "",
            "zerolinecolor": "white"
           },
           "yaxis": {
            "backgroundcolor": "#E5ECF6",
            "gridcolor": "white",
            "gridwidth": 2,
            "linecolor": "white",
            "showbackground": true,
            "ticks": "",
            "zerolinecolor": "white"
           },
           "zaxis": {
            "backgroundcolor": "#E5ECF6",
            "gridcolor": "white",
            "gridwidth": 2,
            "linecolor": "white",
            "showbackground": true,
            "ticks": "",
            "zerolinecolor": "white"
           }
          },
          "shapedefaults": {
           "line": {
            "color": "#2a3f5f"
           }
          },
          "ternary": {
           "aaxis": {
            "gridcolor": "white",
            "linecolor": "white",
            "ticks": ""
           },
           "baxis": {
            "gridcolor": "white",
            "linecolor": "white",
            "ticks": ""
           },
           "bgcolor": "#E5ECF6",
           "caxis": {
            "gridcolor": "white",
            "linecolor": "white",
            "ticks": ""
           }
          },
          "title": {
           "x": 0.05
          },
          "xaxis": {
           "automargin": true,
           "gridcolor": "white",
           "linecolor": "white",
           "ticks": "",
           "title": {
            "standoff": 15
           },
           "zerolinecolor": "white",
           "zerolinewidth": 2
          },
          "yaxis": {
           "automargin": true,
           "gridcolor": "white",
           "linecolor": "white",
           "ticks": "",
           "title": {
            "standoff": 15
           },
           "zerolinecolor": "white",
           "zerolinewidth": 2
          }
         }
        },
        "xaxis": {
         "showticklabels": false
        },
        "yaxis": {
         "showticklabels": false
        }
       }
      }
     },
     "metadata": {},
     "output_type": "display_data"
    },
    {
     "data": {
      "application/vnd.plotly.v1+json": {
       "config": {
        "plotlyServerURL": "https://plot.ly"
       },
       "data": [
        {
         "hoverinfo": "skip",
         "hovertemplate": "<i>Dia</i>: %{x}<br><b>Porcentagem</b>: %{y:.1f}<br>",
         "line": {
          "color": "blue"
         },
         "marker": {
          "color": "blue"
         },
         "mode": "lines+markers",
         "type": "scatter",
         "x": [
          "2024-01-01",
          "2024-01-02",
          "2024-01-03",
          "2024-01-04",
          "2024-01-05",
          "2024-01-06",
          "2024-01-07",
          "2024-01-08",
          "2024-01-09",
          "2024-01-10",
          "2024-01-11",
          "2024-01-12",
          "2024-01-13",
          "2024-01-14",
          "2024-01-15",
          "2024-01-16",
          "2024-01-17"
         ],
         "y": [
          0,
          2.3115079365079367,
          27.78032894007484,
          32.04510259388308,
          29.648451368483403,
          8.473639455782314,
          2.3313492063492065,
          27.202782735708837,
          33.39735894357743,
          34.80483685803471,
          36.516223475915474,
          59.49899065317184,
          14.090909090909093,
          9.642857142857142,
          31.183221123732725,
          32.25666438824334,
          16.40194082075629
         ]
        }
       ],
       "layout": {
        "height": 200,
        "margin": {
         "b": 0,
         "l": 0,
         "r": 0,
         "t": 0
        },
        "plot_bgcolor": "white",
        "showlegend": false,
        "template": {
         "data": {
          "bar": [
           {
            "error_x": {
             "color": "#2a3f5f"
            },
            "error_y": {
             "color": "#2a3f5f"
            },
            "marker": {
             "line": {
              "color": "#E5ECF6",
              "width": 0.5
             },
             "pattern": {
              "fillmode": "overlay",
              "size": 10,
              "solidity": 0.2
             }
            },
            "type": "bar"
           }
          ],
          "barpolar": [
           {
            "marker": {
             "line": {
              "color": "#E5ECF6",
              "width": 0.5
             },
             "pattern": {
              "fillmode": "overlay",
              "size": 10,
              "solidity": 0.2
             }
            },
            "type": "barpolar"
           }
          ],
          "carpet": [
           {
            "aaxis": {
             "endlinecolor": "#2a3f5f",
             "gridcolor": "white",
             "linecolor": "white",
             "minorgridcolor": "white",
             "startlinecolor": "#2a3f5f"
            },
            "baxis": {
             "endlinecolor": "#2a3f5f",
             "gridcolor": "white",
             "linecolor": "white",
             "minorgridcolor": "white",
             "startlinecolor": "#2a3f5f"
            },
            "type": "carpet"
           }
          ],
          "choropleth": [
           {
            "colorbar": {
             "outlinewidth": 0,
             "ticks": ""
            },
            "type": "choropleth"
           }
          ],
          "contour": [
           {
            "colorbar": {
             "outlinewidth": 0,
             "ticks": ""
            },
            "colorscale": [
             [
              0,
              "#0d0887"
             ],
             [
              0.1111111111111111,
              "#46039f"
             ],
             [
              0.2222222222222222,
              "#7201a8"
             ],
             [
              0.3333333333333333,
              "#9c179e"
             ],
             [
              0.4444444444444444,
              "#bd3786"
             ],
             [
              0.5555555555555556,
              "#d8576b"
             ],
             [
              0.6666666666666666,
              "#ed7953"
             ],
             [
              0.7777777777777778,
              "#fb9f3a"
             ],
             [
              0.8888888888888888,
              "#fdca26"
             ],
             [
              1,
              "#f0f921"
             ]
            ],
            "type": "contour"
           }
          ],
          "contourcarpet": [
           {
            "colorbar": {
             "outlinewidth": 0,
             "ticks": ""
            },
            "type": "contourcarpet"
           }
          ],
          "heatmap": [
           {
            "colorbar": {
             "outlinewidth": 0,
             "ticks": ""
            },
            "colorscale": [
             [
              0,
              "#0d0887"
             ],
             [
              0.1111111111111111,
              "#46039f"
             ],
             [
              0.2222222222222222,
              "#7201a8"
             ],
             [
              0.3333333333333333,
              "#9c179e"
             ],
             [
              0.4444444444444444,
              "#bd3786"
             ],
             [
              0.5555555555555556,
              "#d8576b"
             ],
             [
              0.6666666666666666,
              "#ed7953"
             ],
             [
              0.7777777777777778,
              "#fb9f3a"
             ],
             [
              0.8888888888888888,
              "#fdca26"
             ],
             [
              1,
              "#f0f921"
             ]
            ],
            "type": "heatmap"
           }
          ],
          "heatmapgl": [
           {
            "colorbar": {
             "outlinewidth": 0,
             "ticks": ""
            },
            "colorscale": [
             [
              0,
              "#0d0887"
             ],
             [
              0.1111111111111111,
              "#46039f"
             ],
             [
              0.2222222222222222,
              "#7201a8"
             ],
             [
              0.3333333333333333,
              "#9c179e"
             ],
             [
              0.4444444444444444,
              "#bd3786"
             ],
             [
              0.5555555555555556,
              "#d8576b"
             ],
             [
              0.6666666666666666,
              "#ed7953"
             ],
             [
              0.7777777777777778,
              "#fb9f3a"
             ],
             [
              0.8888888888888888,
              "#fdca26"
             ],
             [
              1,
              "#f0f921"
             ]
            ],
            "type": "heatmapgl"
           }
          ],
          "histogram": [
           {
            "marker": {
             "pattern": {
              "fillmode": "overlay",
              "size": 10,
              "solidity": 0.2
             }
            },
            "type": "histogram"
           }
          ],
          "histogram2d": [
           {
            "colorbar": {
             "outlinewidth": 0,
             "ticks": ""
            },
            "colorscale": [
             [
              0,
              "#0d0887"
             ],
             [
              0.1111111111111111,
              "#46039f"
             ],
             [
              0.2222222222222222,
              "#7201a8"
             ],
             [
              0.3333333333333333,
              "#9c179e"
             ],
             [
              0.4444444444444444,
              "#bd3786"
             ],
             [
              0.5555555555555556,
              "#d8576b"
             ],
             [
              0.6666666666666666,
              "#ed7953"
             ],
             [
              0.7777777777777778,
              "#fb9f3a"
             ],
             [
              0.8888888888888888,
              "#fdca26"
             ],
             [
              1,
              "#f0f921"
             ]
            ],
            "type": "histogram2d"
           }
          ],
          "histogram2dcontour": [
           {
            "colorbar": {
             "outlinewidth": 0,
             "ticks": ""
            },
            "colorscale": [
             [
              0,
              "#0d0887"
             ],
             [
              0.1111111111111111,
              "#46039f"
             ],
             [
              0.2222222222222222,
              "#7201a8"
             ],
             [
              0.3333333333333333,
              "#9c179e"
             ],
             [
              0.4444444444444444,
              "#bd3786"
             ],
             [
              0.5555555555555556,
              "#d8576b"
             ],
             [
              0.6666666666666666,
              "#ed7953"
             ],
             [
              0.7777777777777778,
              "#fb9f3a"
             ],
             [
              0.8888888888888888,
              "#fdca26"
             ],
             [
              1,
              "#f0f921"
             ]
            ],
            "type": "histogram2dcontour"
           }
          ],
          "mesh3d": [
           {
            "colorbar": {
             "outlinewidth": 0,
             "ticks": ""
            },
            "type": "mesh3d"
           }
          ],
          "parcoords": [
           {
            "line": {
             "colorbar": {
              "outlinewidth": 0,
              "ticks": ""
             }
            },
            "type": "parcoords"
           }
          ],
          "pie": [
           {
            "automargin": true,
            "type": "pie"
           }
          ],
          "scatter": [
           {
            "fillpattern": {
             "fillmode": "overlay",
             "size": 10,
             "solidity": 0.2
            },
            "type": "scatter"
           }
          ],
          "scatter3d": [
           {
            "line": {
             "colorbar": {
              "outlinewidth": 0,
              "ticks": ""
             }
            },
            "marker": {
             "colorbar": {
              "outlinewidth": 0,
              "ticks": ""
             }
            },
            "type": "scatter3d"
           }
          ],
          "scattercarpet": [
           {
            "marker": {
             "colorbar": {
              "outlinewidth": 0,
              "ticks": ""
             }
            },
            "type": "scattercarpet"
           }
          ],
          "scattergeo": [
           {
            "marker": {
             "colorbar": {
              "outlinewidth": 0,
              "ticks": ""
             }
            },
            "type": "scattergeo"
           }
          ],
          "scattergl": [
           {
            "marker": {
             "colorbar": {
              "outlinewidth": 0,
              "ticks": ""
             }
            },
            "type": "scattergl"
           }
          ],
          "scattermapbox": [
           {
            "marker": {
             "colorbar": {
              "outlinewidth": 0,
              "ticks": ""
             }
            },
            "type": "scattermapbox"
           }
          ],
          "scatterpolar": [
           {
            "marker": {
             "colorbar": {
              "outlinewidth": 0,
              "ticks": ""
             }
            },
            "type": "scatterpolar"
           }
          ],
          "scatterpolargl": [
           {
            "marker": {
             "colorbar": {
              "outlinewidth": 0,
              "ticks": ""
             }
            },
            "type": "scatterpolargl"
           }
          ],
          "scatterternary": [
           {
            "marker": {
             "colorbar": {
              "outlinewidth": 0,
              "ticks": ""
             }
            },
            "type": "scatterternary"
           }
          ],
          "surface": [
           {
            "colorbar": {
             "outlinewidth": 0,
             "ticks": ""
            },
            "colorscale": [
             [
              0,
              "#0d0887"
             ],
             [
              0.1111111111111111,
              "#46039f"
             ],
             [
              0.2222222222222222,
              "#7201a8"
             ],
             [
              0.3333333333333333,
              "#9c179e"
             ],
             [
              0.4444444444444444,
              "#bd3786"
             ],
             [
              0.5555555555555556,
              "#d8576b"
             ],
             [
              0.6666666666666666,
              "#ed7953"
             ],
             [
              0.7777777777777778,
              "#fb9f3a"
             ],
             [
              0.8888888888888888,
              "#fdca26"
             ],
             [
              1,
              "#f0f921"
             ]
            ],
            "type": "surface"
           }
          ],
          "table": [
           {
            "cells": {
             "fill": {
              "color": "#EBF0F8"
             },
             "line": {
              "color": "white"
             }
            },
            "header": {
             "fill": {
              "color": "#C8D4E3"
             },
             "line": {
              "color": "white"
             }
            },
            "type": "table"
           }
          ]
         },
         "layout": {
          "annotationdefaults": {
           "arrowcolor": "#2a3f5f",
           "arrowhead": 0,
           "arrowwidth": 1
          },
          "autotypenumbers": "strict",
          "coloraxis": {
           "colorbar": {
            "outlinewidth": 0,
            "ticks": ""
           }
          },
          "colorscale": {
           "diverging": [
            [
             0,
             "#8e0152"
            ],
            [
             0.1,
             "#c51b7d"
            ],
            [
             0.2,
             "#de77ae"
            ],
            [
             0.3,
             "#f1b6da"
            ],
            [
             0.4,
             "#fde0ef"
            ],
            [
             0.5,
             "#f7f7f7"
            ],
            [
             0.6,
             "#e6f5d0"
            ],
            [
             0.7,
             "#b8e186"
            ],
            [
             0.8,
             "#7fbc41"
            ],
            [
             0.9,
             "#4d9221"
            ],
            [
             1,
             "#276419"
            ]
           ],
           "sequential": [
            [
             0,
             "#0d0887"
            ],
            [
             0.1111111111111111,
             "#46039f"
            ],
            [
             0.2222222222222222,
             "#7201a8"
            ],
            [
             0.3333333333333333,
             "#9c179e"
            ],
            [
             0.4444444444444444,
             "#bd3786"
            ],
            [
             0.5555555555555556,
             "#d8576b"
            ],
            [
             0.6666666666666666,
             "#ed7953"
            ],
            [
             0.7777777777777778,
             "#fb9f3a"
            ],
            [
             0.8888888888888888,
             "#fdca26"
            ],
            [
             1,
             "#f0f921"
            ]
           ],
           "sequentialminus": [
            [
             0,
             "#0d0887"
            ],
            [
             0.1111111111111111,
             "#46039f"
            ],
            [
             0.2222222222222222,
             "#7201a8"
            ],
            [
             0.3333333333333333,
             "#9c179e"
            ],
            [
             0.4444444444444444,
             "#bd3786"
            ],
            [
             0.5555555555555556,
             "#d8576b"
            ],
            [
             0.6666666666666666,
             "#ed7953"
            ],
            [
             0.7777777777777778,
             "#fb9f3a"
            ],
            [
             0.8888888888888888,
             "#fdca26"
            ],
            [
             1,
             "#f0f921"
            ]
           ]
          },
          "colorway": [
           "#636efa",
           "#EF553B",
           "#00cc96",
           "#ab63fa",
           "#FFA15A",
           "#19d3f3",
           "#FF6692",
           "#B6E880",
           "#FF97FF",
           "#FECB52"
          ],
          "font": {
           "color": "#2a3f5f"
          },
          "geo": {
           "bgcolor": "white",
           "lakecolor": "white",
           "landcolor": "#E5ECF6",
           "showlakes": true,
           "showland": true,
           "subunitcolor": "white"
          },
          "hoverlabel": {
           "align": "left"
          },
          "hovermode": "closest",
          "mapbox": {
           "style": "light"
          },
          "paper_bgcolor": "white",
          "plot_bgcolor": "#E5ECF6",
          "polar": {
           "angularaxis": {
            "gridcolor": "white",
            "linecolor": "white",
            "ticks": ""
           },
           "bgcolor": "#E5ECF6",
           "radialaxis": {
            "gridcolor": "white",
            "linecolor": "white",
            "ticks": ""
           }
          },
          "scene": {
           "xaxis": {
            "backgroundcolor": "#E5ECF6",
            "gridcolor": "white",
            "gridwidth": 2,
            "linecolor": "white",
            "showbackground": true,
            "ticks": "",
            "zerolinecolor": "white"
           },
           "yaxis": {
            "backgroundcolor": "#E5ECF6",
            "gridcolor": "white",
            "gridwidth": 2,
            "linecolor": "white",
            "showbackground": true,
            "ticks": "",
            "zerolinecolor": "white"
           },
           "zaxis": {
            "backgroundcolor": "#E5ECF6",
            "gridcolor": "white",
            "gridwidth": 2,
            "linecolor": "white",
            "showbackground": true,
            "ticks": "",
            "zerolinecolor": "white"
           }
          },
          "shapedefaults": {
           "line": {
            "color": "#2a3f5f"
           }
          },
          "ternary": {
           "aaxis": {
            "gridcolor": "white",
            "linecolor": "white",
            "ticks": ""
           },
           "baxis": {
            "gridcolor": "white",
            "linecolor": "white",
            "ticks": ""
           },
           "bgcolor": "#E5ECF6",
           "caxis": {
            "gridcolor": "white",
            "linecolor": "white",
            "ticks": ""
           }
          },
          "title": {
           "x": 0.05
          },
          "xaxis": {
           "automargin": true,
           "gridcolor": "white",
           "linecolor": "white",
           "ticks": "",
           "title": {
            "standoff": 15
           },
           "zerolinecolor": "white",
           "zerolinewidth": 2
          },
          "yaxis": {
           "automargin": true,
           "gridcolor": "white",
           "linecolor": "white",
           "ticks": "",
           "title": {
            "standoff": 15
           },
           "zerolinecolor": "white",
           "zerolinewidth": 2
          }
         }
        },
        "xaxis": {
         "showticklabels": false
        },
        "yaxis": {
         "showticklabels": false
        }
       }
      }
     },
     "metadata": {},
     "output_type": "display_data"
    },
    {
     "data": {
      "application/vnd.plotly.v1+json": {
       "config": {
        "plotlyServerURL": "https://plot.ly"
       },
       "data": [
        {
         "hoverinfo": "skip",
         "hovertemplate": "<i>Dia</i>: %{x}<br><b>Porcentagem</b>: %{y:.1f}<br>",
         "line": {
          "color": "blue"
         },
         "marker": {
          "color": "blue"
         },
         "mode": "lines+markers",
         "type": "scatter",
         "x": [
          "2024-01-01",
          "2024-01-02",
          "2024-01-03",
          "2024-01-04",
          "2024-01-05",
          "2024-01-06",
          "2024-01-07",
          "2024-01-08",
          "2024-01-09",
          "2024-01-10",
          "2024-01-11",
          "2024-01-12",
          "2024-01-13",
          "2024-01-14",
          "2024-01-15",
          "2024-01-16",
          "2024-01-17"
         ],
         "y": [
          0,
          0,
          2.5496031746031744,
          2.763732833957553,
          0.2976190476190476,
          0.11904761904761905,
          0,
          3.0257936507936503,
          4.930555555555555,
          8.62571339397182,
          1.3789682539682537,
          0.9523809523809523,
          0,
          0,
          0.45731707317073167,
          4.666666666666666,
          0.22213994816734545
         ]
        }
       ],
       "layout": {
        "height": 200,
        "margin": {
         "b": 0,
         "l": 0,
         "r": 0,
         "t": 0
        },
        "plot_bgcolor": "white",
        "showlegend": false,
        "template": {
         "data": {
          "bar": [
           {
            "error_x": {
             "color": "#2a3f5f"
            },
            "error_y": {
             "color": "#2a3f5f"
            },
            "marker": {
             "line": {
              "color": "#E5ECF6",
              "width": 0.5
             },
             "pattern": {
              "fillmode": "overlay",
              "size": 10,
              "solidity": 0.2
             }
            },
            "type": "bar"
           }
          ],
          "barpolar": [
           {
            "marker": {
             "line": {
              "color": "#E5ECF6",
              "width": 0.5
             },
             "pattern": {
              "fillmode": "overlay",
              "size": 10,
              "solidity": 0.2
             }
            },
            "type": "barpolar"
           }
          ],
          "carpet": [
           {
            "aaxis": {
             "endlinecolor": "#2a3f5f",
             "gridcolor": "white",
             "linecolor": "white",
             "minorgridcolor": "white",
             "startlinecolor": "#2a3f5f"
            },
            "baxis": {
             "endlinecolor": "#2a3f5f",
             "gridcolor": "white",
             "linecolor": "white",
             "minorgridcolor": "white",
             "startlinecolor": "#2a3f5f"
            },
            "type": "carpet"
           }
          ],
          "choropleth": [
           {
            "colorbar": {
             "outlinewidth": 0,
             "ticks": ""
            },
            "type": "choropleth"
           }
          ],
          "contour": [
           {
            "colorbar": {
             "outlinewidth": 0,
             "ticks": ""
            },
            "colorscale": [
             [
              0,
              "#0d0887"
             ],
             [
              0.1111111111111111,
              "#46039f"
             ],
             [
              0.2222222222222222,
              "#7201a8"
             ],
             [
              0.3333333333333333,
              "#9c179e"
             ],
             [
              0.4444444444444444,
              "#bd3786"
             ],
             [
              0.5555555555555556,
              "#d8576b"
             ],
             [
              0.6666666666666666,
              "#ed7953"
             ],
             [
              0.7777777777777778,
              "#fb9f3a"
             ],
             [
              0.8888888888888888,
              "#fdca26"
             ],
             [
              1,
              "#f0f921"
             ]
            ],
            "type": "contour"
           }
          ],
          "contourcarpet": [
           {
            "colorbar": {
             "outlinewidth": 0,
             "ticks": ""
            },
            "type": "contourcarpet"
           }
          ],
          "heatmap": [
           {
            "colorbar": {
             "outlinewidth": 0,
             "ticks": ""
            },
            "colorscale": [
             [
              0,
              "#0d0887"
             ],
             [
              0.1111111111111111,
              "#46039f"
             ],
             [
              0.2222222222222222,
              "#7201a8"
             ],
             [
              0.3333333333333333,
              "#9c179e"
             ],
             [
              0.4444444444444444,
              "#bd3786"
             ],
             [
              0.5555555555555556,
              "#d8576b"
             ],
             [
              0.6666666666666666,
              "#ed7953"
             ],
             [
              0.7777777777777778,
              "#fb9f3a"
             ],
             [
              0.8888888888888888,
              "#fdca26"
             ],
             [
              1,
              "#f0f921"
             ]
            ],
            "type": "heatmap"
           }
          ],
          "heatmapgl": [
           {
            "colorbar": {
             "outlinewidth": 0,
             "ticks": ""
            },
            "colorscale": [
             [
              0,
              "#0d0887"
             ],
             [
              0.1111111111111111,
              "#46039f"
             ],
             [
              0.2222222222222222,
              "#7201a8"
             ],
             [
              0.3333333333333333,
              "#9c179e"
             ],
             [
              0.4444444444444444,
              "#bd3786"
             ],
             [
              0.5555555555555556,
              "#d8576b"
             ],
             [
              0.6666666666666666,
              "#ed7953"
             ],
             [
              0.7777777777777778,
              "#fb9f3a"
             ],
             [
              0.8888888888888888,
              "#fdca26"
             ],
             [
              1,
              "#f0f921"
             ]
            ],
            "type": "heatmapgl"
           }
          ],
          "histogram": [
           {
            "marker": {
             "pattern": {
              "fillmode": "overlay",
              "size": 10,
              "solidity": 0.2
             }
            },
            "type": "histogram"
           }
          ],
          "histogram2d": [
           {
            "colorbar": {
             "outlinewidth": 0,
             "ticks": ""
            },
            "colorscale": [
             [
              0,
              "#0d0887"
             ],
             [
              0.1111111111111111,
              "#46039f"
             ],
             [
              0.2222222222222222,
              "#7201a8"
             ],
             [
              0.3333333333333333,
              "#9c179e"
             ],
             [
              0.4444444444444444,
              "#bd3786"
             ],
             [
              0.5555555555555556,
              "#d8576b"
             ],
             [
              0.6666666666666666,
              "#ed7953"
             ],
             [
              0.7777777777777778,
              "#fb9f3a"
             ],
             [
              0.8888888888888888,
              "#fdca26"
             ],
             [
              1,
              "#f0f921"
             ]
            ],
            "type": "histogram2d"
           }
          ],
          "histogram2dcontour": [
           {
            "colorbar": {
             "outlinewidth": 0,
             "ticks": ""
            },
            "colorscale": [
             [
              0,
              "#0d0887"
             ],
             [
              0.1111111111111111,
              "#46039f"
             ],
             [
              0.2222222222222222,
              "#7201a8"
             ],
             [
              0.3333333333333333,
              "#9c179e"
             ],
             [
              0.4444444444444444,
              "#bd3786"
             ],
             [
              0.5555555555555556,
              "#d8576b"
             ],
             [
              0.6666666666666666,
              "#ed7953"
             ],
             [
              0.7777777777777778,
              "#fb9f3a"
             ],
             [
              0.8888888888888888,
              "#fdca26"
             ],
             [
              1,
              "#f0f921"
             ]
            ],
            "type": "histogram2dcontour"
           }
          ],
          "mesh3d": [
           {
            "colorbar": {
             "outlinewidth": 0,
             "ticks": ""
            },
            "type": "mesh3d"
           }
          ],
          "parcoords": [
           {
            "line": {
             "colorbar": {
              "outlinewidth": 0,
              "ticks": ""
             }
            },
            "type": "parcoords"
           }
          ],
          "pie": [
           {
            "automargin": true,
            "type": "pie"
           }
          ],
          "scatter": [
           {
            "fillpattern": {
             "fillmode": "overlay",
             "size": 10,
             "solidity": 0.2
            },
            "type": "scatter"
           }
          ],
          "scatter3d": [
           {
            "line": {
             "colorbar": {
              "outlinewidth": 0,
              "ticks": ""
             }
            },
            "marker": {
             "colorbar": {
              "outlinewidth": 0,
              "ticks": ""
             }
            },
            "type": "scatter3d"
           }
          ],
          "scattercarpet": [
           {
            "marker": {
             "colorbar": {
              "outlinewidth": 0,
              "ticks": ""
             }
            },
            "type": "scattercarpet"
           }
          ],
          "scattergeo": [
           {
            "marker": {
             "colorbar": {
              "outlinewidth": 0,
              "ticks": ""
             }
            },
            "type": "scattergeo"
           }
          ],
          "scattergl": [
           {
            "marker": {
             "colorbar": {
              "outlinewidth": 0,
              "ticks": ""
             }
            },
            "type": "scattergl"
           }
          ],
          "scattermapbox": [
           {
            "marker": {
             "colorbar": {
              "outlinewidth": 0,
              "ticks": ""
             }
            },
            "type": "scattermapbox"
           }
          ],
          "scatterpolar": [
           {
            "marker": {
             "colorbar": {
              "outlinewidth": 0,
              "ticks": ""
             }
            },
            "type": "scatterpolar"
           }
          ],
          "scatterpolargl": [
           {
            "marker": {
             "colorbar": {
              "outlinewidth": 0,
              "ticks": ""
             }
            },
            "type": "scatterpolargl"
           }
          ],
          "scatterternary": [
           {
            "marker": {
             "colorbar": {
              "outlinewidth": 0,
              "ticks": ""
             }
            },
            "type": "scatterternary"
           }
          ],
          "surface": [
           {
            "colorbar": {
             "outlinewidth": 0,
             "ticks": ""
            },
            "colorscale": [
             [
              0,
              "#0d0887"
             ],
             [
              0.1111111111111111,
              "#46039f"
             ],
             [
              0.2222222222222222,
              "#7201a8"
             ],
             [
              0.3333333333333333,
              "#9c179e"
             ],
             [
              0.4444444444444444,
              "#bd3786"
             ],
             [
              0.5555555555555556,
              "#d8576b"
             ],
             [
              0.6666666666666666,
              "#ed7953"
             ],
             [
              0.7777777777777778,
              "#fb9f3a"
             ],
             [
              0.8888888888888888,
              "#fdca26"
             ],
             [
              1,
              "#f0f921"
             ]
            ],
            "type": "surface"
           }
          ],
          "table": [
           {
            "cells": {
             "fill": {
              "color": "#EBF0F8"
             },
             "line": {
              "color": "white"
             }
            },
            "header": {
             "fill": {
              "color": "#C8D4E3"
             },
             "line": {
              "color": "white"
             }
            },
            "type": "table"
           }
          ]
         },
         "layout": {
          "annotationdefaults": {
           "arrowcolor": "#2a3f5f",
           "arrowhead": 0,
           "arrowwidth": 1
          },
          "autotypenumbers": "strict",
          "coloraxis": {
           "colorbar": {
            "outlinewidth": 0,
            "ticks": ""
           }
          },
          "colorscale": {
           "diverging": [
            [
             0,
             "#8e0152"
            ],
            [
             0.1,
             "#c51b7d"
            ],
            [
             0.2,
             "#de77ae"
            ],
            [
             0.3,
             "#f1b6da"
            ],
            [
             0.4,
             "#fde0ef"
            ],
            [
             0.5,
             "#f7f7f7"
            ],
            [
             0.6,
             "#e6f5d0"
            ],
            [
             0.7,
             "#b8e186"
            ],
            [
             0.8,
             "#7fbc41"
            ],
            [
             0.9,
             "#4d9221"
            ],
            [
             1,
             "#276419"
            ]
           ],
           "sequential": [
            [
             0,
             "#0d0887"
            ],
            [
             0.1111111111111111,
             "#46039f"
            ],
            [
             0.2222222222222222,
             "#7201a8"
            ],
            [
             0.3333333333333333,
             "#9c179e"
            ],
            [
             0.4444444444444444,
             "#bd3786"
            ],
            [
             0.5555555555555556,
             "#d8576b"
            ],
            [
             0.6666666666666666,
             "#ed7953"
            ],
            [
             0.7777777777777778,
             "#fb9f3a"
            ],
            [
             0.8888888888888888,
             "#fdca26"
            ],
            [
             1,
             "#f0f921"
            ]
           ],
           "sequentialminus": [
            [
             0,
             "#0d0887"
            ],
            [
             0.1111111111111111,
             "#46039f"
            ],
            [
             0.2222222222222222,
             "#7201a8"
            ],
            [
             0.3333333333333333,
             "#9c179e"
            ],
            [
             0.4444444444444444,
             "#bd3786"
            ],
            [
             0.5555555555555556,
             "#d8576b"
            ],
            [
             0.6666666666666666,
             "#ed7953"
            ],
            [
             0.7777777777777778,
             "#fb9f3a"
            ],
            [
             0.8888888888888888,
             "#fdca26"
            ],
            [
             1,
             "#f0f921"
            ]
           ]
          },
          "colorway": [
           "#636efa",
           "#EF553B",
           "#00cc96",
           "#ab63fa",
           "#FFA15A",
           "#19d3f3",
           "#FF6692",
           "#B6E880",
           "#FF97FF",
           "#FECB52"
          ],
          "font": {
           "color": "#2a3f5f"
          },
          "geo": {
           "bgcolor": "white",
           "lakecolor": "white",
           "landcolor": "#E5ECF6",
           "showlakes": true,
           "showland": true,
           "subunitcolor": "white"
          },
          "hoverlabel": {
           "align": "left"
          },
          "hovermode": "closest",
          "mapbox": {
           "style": "light"
          },
          "paper_bgcolor": "white",
          "plot_bgcolor": "#E5ECF6",
          "polar": {
           "angularaxis": {
            "gridcolor": "white",
            "linecolor": "white",
            "ticks": ""
           },
           "bgcolor": "#E5ECF6",
           "radialaxis": {
            "gridcolor": "white",
            "linecolor": "white",
            "ticks": ""
           }
          },
          "scene": {
           "xaxis": {
            "backgroundcolor": "#E5ECF6",
            "gridcolor": "white",
            "gridwidth": 2,
            "linecolor": "white",
            "showbackground": true,
            "ticks": "",
            "zerolinecolor": "white"
           },
           "yaxis": {
            "backgroundcolor": "#E5ECF6",
            "gridcolor": "white",
            "gridwidth": 2,
            "linecolor": "white",
            "showbackground": true,
            "ticks": "",
            "zerolinecolor": "white"
           },
           "zaxis": {
            "backgroundcolor": "#E5ECF6",
            "gridcolor": "white",
            "gridwidth": 2,
            "linecolor": "white",
            "showbackground": true,
            "ticks": "",
            "zerolinecolor": "white"
           }
          },
          "shapedefaults": {
           "line": {
            "color": "#2a3f5f"
           }
          },
          "ternary": {
           "aaxis": {
            "gridcolor": "white",
            "linecolor": "white",
            "ticks": ""
           },
           "baxis": {
            "gridcolor": "white",
            "linecolor": "white",
            "ticks": ""
           },
           "bgcolor": "#E5ECF6",
           "caxis": {
            "gridcolor": "white",
            "linecolor": "white",
            "ticks": ""
           }
          },
          "title": {
           "x": 0.05
          },
          "xaxis": {
           "automargin": true,
           "gridcolor": "white",
           "linecolor": "white",
           "ticks": "",
           "title": {
            "standoff": 15
           },
           "zerolinecolor": "white",
           "zerolinewidth": 2
          },
          "yaxis": {
           "automargin": true,
           "gridcolor": "white",
           "linecolor": "white",
           "ticks": "",
           "title": {
            "standoff": 15
           },
           "zerolinecolor": "white",
           "zerolinewidth": 2
          }
         }
        },
        "xaxis": {
         "showticklabels": false
        },
        "yaxis": {
         "showticklabels": false
        }
       }
      }
     },
     "metadata": {},
     "output_type": "display_data"
    }
   ],
   "source": [
    "def line_graph(df: pd.DataFrame, indicator: str):\n",
    "    # Converter 'data_registro' para datetime e criar uma nova coluna 'data_turno'\n",
    "    df[\"data_registro\"] = pd.to_datetime(df[\"data_registro\"])\n",
    "    df[\"data_turno\"] = df[\"data_registro\"].dt.strftime(\"%Y-%m-%d\")\n",
    "\n",
    "    # Agrupar por 'data_turno' e 'turno' e calcular a média da eficiência\n",
    "    df_grouped = df.groupby([\"data_turno\"])[indicator].mean().reset_index()\n",
    "\n",
    "    # Multiplicar a eficiência por 100 para converter para porcentagem\n",
    "    df_grouped[indicator] = df_grouped[indicator] * 100\n",
    "\n",
    "    # Criar o gráfico\n",
    "    fig = go.Figure(\n",
    "        go.Scatter(\n",
    "            x=df_grouped[\"data_turno\"],\n",
    "            y=df_grouped[indicator],\n",
    "            mode=\"lines+markers\",\n",
    "            line=dict(color=\"blue\"),\n",
    "            marker=dict(color=\"blue\"),\n",
    "            hovertemplate=\"<i>Dia</i>: %{x}\"\n",
    "            + \"<br><b>Porcentagem</b>: %{y:.1f}<br>\",\n",
    "            hoverinfo=\"skip\",\n",
    "        )\n",
    "    )\n",
    "\n",
    "    fig.update_layout(\n",
    "        showlegend=False,\n",
    "        plot_bgcolor=\"white\",\n",
    "        xaxis=dict(showticklabels=False),  # Esconde os valores do eixo x\n",
    "        yaxis=dict(showticklabels=False),\n",
    "        margin=dict(t=0, b=0, l=0, r=0),\n",
    "        # height=None, # removido apenas para visualização no jupyter\n",
    "        # autosize=True, # removido apenas para visualização no jupyter\n",
    "        height=200,  # apenas para visualização no jupyter\n",
    "    )\n",
    "\n",
    "    fig.show()\n",
    "\n",
    "\n",
    "line_graph(df_eff, \"eficiencia\")\n",
    "line_graph(df_perf, \"performance\")\n",
    "line_graph(df_reparos, \"reparo\")"
   ]
  }
 ],
 "metadata": {
  "kernelspec": {
   "display_name": "Python 3",
   "language": "python",
   "name": "python3"
  },
  "language_info": {
   "codemirror_mode": {
    "name": "ipython",
    "version": 3
   },
   "file_extension": ".py",
   "mimetype": "text/x-python",
   "name": "python",
   "nbconvert_exporter": "python",
   "pygments_lexer": "ipython3",
   "version": "3.12.1"
  }
 },
 "nbformat": 4,
 "nbformat_minor": 2
}
